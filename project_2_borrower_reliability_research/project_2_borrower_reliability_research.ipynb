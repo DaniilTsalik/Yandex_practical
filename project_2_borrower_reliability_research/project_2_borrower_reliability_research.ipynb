{
 "cells": [
  {
   "cell_type": "markdown",
   "id": "ddc83136",
   "metadata": {},
   "source": [
    "# Исследование надежности заемщиков.\n",
    "\n",
    "   В настоящее время широкое распростронение получили модели кредитного скоринга — специальной системы, которая оценивает способность потенциального заёмщика вернуть кредит банку. Для обучения таких систем используют статистику по клиентам, с которой нам с вами сегодня предстоит работать. \n",
    "    \n",
    "    \n",
    "**Целью** этого проекта является определение влияния данных о клиенте на факт погашения кредита в срок.\n",
    "    \n",
    "**Задачи:**\n",
    " 1. Определить есть ли зависимость между количеством детей и возвратом кредита в срок?\n",
    " 2. Определить есть ли зависимость между семейным положением и возвратом кредита в срок?\n",
    " 3. Определить есть ли зависимость между уровнем дохода и возвратом кредита в срок\n",
    " 4. Определить как разные цели кредита влияют на его возврат в срок?\n",
    "\n",
    "**Объектом** исследования выступают клиенты банка.\n",
    "\n",
    "**Предмет исследования:** определение влияния данных о клиенте на факт погашения кредита в срок.\n",
    "\n",
    "**Методы** которые мы применим в данном исследовании включают в себя: сравнение, предобработку, анализ и категоризацию данных о заемщиках.\n",
    "\n",
    "**Структкра проекта.** Проектная работа состоит из обзора и предобработки данных, затем следует категоризация данных, подготовка таблиц для решения поставленных задач и наконец заключительная часть с выводами и заключением.  \n",
    "\n"
   ]
  },
  {
   "cell_type": "markdown",
   "id": "b8f99ab0",
   "metadata": {},
   "source": [
    "### Шаг 1. Обзор данных"
   ]
  },
  {
   "cell_type": "markdown",
   "id": "3f04df7a",
   "metadata": {},
   "source": [
    "Откроем таблицу и ознакомимся с данными:"
   ]
  },
  {
   "cell_type": "code",
   "execution_count": 1,
   "id": "c3c2984b",
   "metadata": {},
   "outputs": [
    {
     "data": {
      "text/html": [
       "<div>\n",
       "<style scoped>\n",
       "    .dataframe tbody tr th:only-of-type {\n",
       "        vertical-align: middle;\n",
       "    }\n",
       "\n",
       "    .dataframe tbody tr th {\n",
       "        vertical-align: top;\n",
       "    }\n",
       "\n",
       "    .dataframe thead th {\n",
       "        text-align: right;\n",
       "    }\n",
       "</style>\n",
       "<table border=\"1\" class=\"dataframe\">\n",
       "  <thead>\n",
       "    <tr style=\"text-align: right;\">\n",
       "      <th></th>\n",
       "      <th>children</th>\n",
       "      <th>days_employed</th>\n",
       "      <th>dob_years</th>\n",
       "      <th>education</th>\n",
       "      <th>education_id</th>\n",
       "      <th>family_status</th>\n",
       "      <th>family_status_id</th>\n",
       "      <th>gender</th>\n",
       "      <th>income_type</th>\n",
       "      <th>debt</th>\n",
       "      <th>total_income</th>\n",
       "      <th>purpose</th>\n",
       "    </tr>\n",
       "  </thead>\n",
       "  <tbody>\n",
       "    <tr>\n",
       "      <th>0</th>\n",
       "      <td>1</td>\n",
       "      <td>-8437.673028</td>\n",
       "      <td>42</td>\n",
       "      <td>высшее</td>\n",
       "      <td>0</td>\n",
       "      <td>женат / замужем</td>\n",
       "      <td>0</td>\n",
       "      <td>F</td>\n",
       "      <td>сотрудник</td>\n",
       "      <td>0</td>\n",
       "      <td>253875.639453</td>\n",
       "      <td>покупка жилья</td>\n",
       "    </tr>\n",
       "    <tr>\n",
       "      <th>1</th>\n",
       "      <td>1</td>\n",
       "      <td>-4024.803754</td>\n",
       "      <td>36</td>\n",
       "      <td>среднее</td>\n",
       "      <td>1</td>\n",
       "      <td>женат / замужем</td>\n",
       "      <td>0</td>\n",
       "      <td>F</td>\n",
       "      <td>сотрудник</td>\n",
       "      <td>0</td>\n",
       "      <td>112080.014102</td>\n",
       "      <td>приобретение автомобиля</td>\n",
       "    </tr>\n",
       "    <tr>\n",
       "      <th>2</th>\n",
       "      <td>0</td>\n",
       "      <td>-5623.422610</td>\n",
       "      <td>33</td>\n",
       "      <td>Среднее</td>\n",
       "      <td>1</td>\n",
       "      <td>женат / замужем</td>\n",
       "      <td>0</td>\n",
       "      <td>M</td>\n",
       "      <td>сотрудник</td>\n",
       "      <td>0</td>\n",
       "      <td>145885.952297</td>\n",
       "      <td>покупка жилья</td>\n",
       "    </tr>\n",
       "    <tr>\n",
       "      <th>3</th>\n",
       "      <td>3</td>\n",
       "      <td>-4124.747207</td>\n",
       "      <td>32</td>\n",
       "      <td>среднее</td>\n",
       "      <td>1</td>\n",
       "      <td>женат / замужем</td>\n",
       "      <td>0</td>\n",
       "      <td>M</td>\n",
       "      <td>сотрудник</td>\n",
       "      <td>0</td>\n",
       "      <td>267628.550329</td>\n",
       "      <td>дополнительное образование</td>\n",
       "    </tr>\n",
       "    <tr>\n",
       "      <th>4</th>\n",
       "      <td>0</td>\n",
       "      <td>340266.072047</td>\n",
       "      <td>53</td>\n",
       "      <td>среднее</td>\n",
       "      <td>1</td>\n",
       "      <td>гражданский брак</td>\n",
       "      <td>1</td>\n",
       "      <td>F</td>\n",
       "      <td>пенсионер</td>\n",
       "      <td>0</td>\n",
       "      <td>158616.077870</td>\n",
       "      <td>сыграть свадьбу</td>\n",
       "    </tr>\n",
       "    <tr>\n",
       "      <th>5</th>\n",
       "      <td>0</td>\n",
       "      <td>-926.185831</td>\n",
       "      <td>27</td>\n",
       "      <td>высшее</td>\n",
       "      <td>0</td>\n",
       "      <td>гражданский брак</td>\n",
       "      <td>1</td>\n",
       "      <td>M</td>\n",
       "      <td>компаньон</td>\n",
       "      <td>0</td>\n",
       "      <td>255763.565419</td>\n",
       "      <td>покупка жилья</td>\n",
       "    </tr>\n",
       "    <tr>\n",
       "      <th>6</th>\n",
       "      <td>0</td>\n",
       "      <td>-2879.202052</td>\n",
       "      <td>43</td>\n",
       "      <td>высшее</td>\n",
       "      <td>0</td>\n",
       "      <td>женат / замужем</td>\n",
       "      <td>0</td>\n",
       "      <td>F</td>\n",
       "      <td>компаньон</td>\n",
       "      <td>0</td>\n",
       "      <td>240525.971920</td>\n",
       "      <td>операции с жильем</td>\n",
       "    </tr>\n",
       "    <tr>\n",
       "      <th>7</th>\n",
       "      <td>0</td>\n",
       "      <td>-152.779569</td>\n",
       "      <td>50</td>\n",
       "      <td>СРЕДНЕЕ</td>\n",
       "      <td>1</td>\n",
       "      <td>женат / замужем</td>\n",
       "      <td>0</td>\n",
       "      <td>M</td>\n",
       "      <td>сотрудник</td>\n",
       "      <td>0</td>\n",
       "      <td>135823.934197</td>\n",
       "      <td>образование</td>\n",
       "    </tr>\n",
       "    <tr>\n",
       "      <th>8</th>\n",
       "      <td>2</td>\n",
       "      <td>-6929.865299</td>\n",
       "      <td>35</td>\n",
       "      <td>ВЫСШЕЕ</td>\n",
       "      <td>0</td>\n",
       "      <td>гражданский брак</td>\n",
       "      <td>1</td>\n",
       "      <td>F</td>\n",
       "      <td>сотрудник</td>\n",
       "      <td>0</td>\n",
       "      <td>95856.832424</td>\n",
       "      <td>на проведение свадьбы</td>\n",
       "    </tr>\n",
       "    <tr>\n",
       "      <th>9</th>\n",
       "      <td>0</td>\n",
       "      <td>-2188.756445</td>\n",
       "      <td>41</td>\n",
       "      <td>среднее</td>\n",
       "      <td>1</td>\n",
       "      <td>женат / замужем</td>\n",
       "      <td>0</td>\n",
       "      <td>M</td>\n",
       "      <td>сотрудник</td>\n",
       "      <td>0</td>\n",
       "      <td>144425.938277</td>\n",
       "      <td>покупка жилья для семьи</td>\n",
       "    </tr>\n",
       "  </tbody>\n",
       "</table>\n",
       "</div>"
      ],
      "text/plain": [
       "   children  days_employed  dob_years education  education_id  \\\n",
       "0         1   -8437.673028         42    высшее             0   \n",
       "1         1   -4024.803754         36   среднее             1   \n",
       "2         0   -5623.422610         33   Среднее             1   \n",
       "3         3   -4124.747207         32   среднее             1   \n",
       "4         0  340266.072047         53   среднее             1   \n",
       "5         0    -926.185831         27    высшее             0   \n",
       "6         0   -2879.202052         43    высшее             0   \n",
       "7         0    -152.779569         50   СРЕДНЕЕ             1   \n",
       "8         2   -6929.865299         35    ВЫСШЕЕ             0   \n",
       "9         0   -2188.756445         41   среднее             1   \n",
       "\n",
       "      family_status  family_status_id gender income_type  debt   total_income  \\\n",
       "0   женат / замужем                 0      F   сотрудник     0  253875.639453   \n",
       "1   женат / замужем                 0      F   сотрудник     0  112080.014102   \n",
       "2   женат / замужем                 0      M   сотрудник     0  145885.952297   \n",
       "3   женат / замужем                 0      M   сотрудник     0  267628.550329   \n",
       "4  гражданский брак                 1      F   пенсионер     0  158616.077870   \n",
       "5  гражданский брак                 1      M   компаньон     0  255763.565419   \n",
       "6   женат / замужем                 0      F   компаньон     0  240525.971920   \n",
       "7   женат / замужем                 0      M   сотрудник     0  135823.934197   \n",
       "8  гражданский брак                 1      F   сотрудник     0   95856.832424   \n",
       "9   женат / замужем                 0      M   сотрудник     0  144425.938277   \n",
       "\n",
       "                      purpose  \n",
       "0               покупка жилья  \n",
       "1     приобретение автомобиля  \n",
       "2               покупка жилья  \n",
       "3  дополнительное образование  \n",
       "4             сыграть свадьбу  \n",
       "5               покупка жилья  \n",
       "6           операции с жильем  \n",
       "7                 образование  \n",
       "8       на проведение свадьбы  \n",
       "9     покупка жилья для семьи  "
      ]
     },
     "execution_count": 1,
     "metadata": {},
     "output_type": "execute_result"
    }
   ],
   "source": [
    "import pandas as pd\n",
    "import numpy as np\n",
    "\n",
    "data = pd.read_csv('/datasets/data.csv')\n",
    "\n",
    "# Выведем на экран первые 10 строк DataFrame\n",
    "data.head(10)"
   ]
  },
  {
   "cell_type": "markdown",
   "id": "10381d44",
   "metadata": {},
   "source": [
    "Изучим общую информацию о данных:"
   ]
  },
  {
   "cell_type": "code",
   "execution_count": 2,
   "id": "b7d4352a",
   "metadata": {
    "scrolled": true
   },
   "outputs": [
    {
     "name": "stdout",
     "output_type": "stream",
     "text": [
      "<class 'pandas.core.frame.DataFrame'>\n",
      "RangeIndex: 21525 entries, 0 to 21524\n",
      "Data columns (total 12 columns):\n",
      " #   Column            Non-Null Count  Dtype  \n",
      "---  ------            --------------  -----  \n",
      " 0   children          21525 non-null  int64  \n",
      " 1   days_employed     19351 non-null  float64\n",
      " 2   dob_years         21525 non-null  int64  \n",
      " 3   education         21525 non-null  object \n",
      " 4   education_id      21525 non-null  int64  \n",
      " 5   family_status     21525 non-null  object \n",
      " 6   family_status_id  21525 non-null  int64  \n",
      " 7   gender            21525 non-null  object \n",
      " 8   income_type       21525 non-null  object \n",
      " 9   debt              21525 non-null  int64  \n",
      " 10  total_income      19351 non-null  float64\n",
      " 11  purpose           21525 non-null  object \n",
      "dtypes: float64(2), int64(5), object(5)\n",
      "memory usage: 2.0+ MB\n"
     ]
    }
   ],
   "source": [
    "data.info()"
   ]
  },
  {
   "cell_type": "markdown",
   "id": "38628c89",
   "metadata": {},
   "source": [
    "Мы обнаружили пропуски данных в колонках 'days_employed' и 'total_income', также \n",
    "примем во внимание что доля пропусков в этих колонках одинакова.\n",
    "\n",
    "Возможные причины появления пропусков в данных:\n",
    "1. Ошибки при выгрузке из БД\n",
    "2. Человеческий фактор (клиенты намеренно могут не указать данные)\n",
    "\n",
    "Хотя, навряд ли клиенты банка не указали свой доход при заполнении заявки на кредит здесь скорее всего мы имеем дело с первой причиной.\n"
   ]
  },
  {
   "cell_type": "markdown",
   "id": "e7da6f50",
   "metadata": {},
   "source": [
    "### Шаг 2.1 Заполнение пропусков"
   ]
  },
  {
   "cell_type": "markdown",
   "id": "53eecaad",
   "metadata": {},
   "source": [
    "Вычислим какую долю составляют пропущенные значения \n",
    "от столбца с пропусками:"
   ]
  },
  {
   "cell_type": "code",
   "execution_count": 3,
   "id": "ffb5f95c",
   "metadata": {},
   "outputs": [
    {
     "data": {
      "text/plain": [
       "days_employed       0.100999\n",
       "total_income        0.100999\n",
       "children            0.000000\n",
       "dob_years           0.000000\n",
       "education           0.000000\n",
       "education_id        0.000000\n",
       "family_status       0.000000\n",
       "family_status_id    0.000000\n",
       "gender              0.000000\n",
       "income_type         0.000000\n",
       "debt                0.000000\n",
       "purpose             0.000000\n",
       "dtype: float64"
      ]
     },
     "execution_count": 3,
     "metadata": {},
     "output_type": "execute_result"
    }
   ],
   "source": [
    "data.isna().mean().sort_values(ascending=False)"
   ]
  },
  {
   "cell_type": "markdown",
   "id": "2075552d",
   "metadata": {},
   "source": [
    "10% данных в столбце 'total_income' утеряны, эти данные являются количественным значениям, пропуски в количественных переменных заполняют характерными значениями. Это значения, характеризующие диапазон набора данных, выбранных для проведения исследования. Чтобы примерно оценить типичные значения выборки, применяются среднее арифметическое или медиану.\n",
    "\n",
    "Заполним значение столбца 'total_income' медианным значением с учетом категории 'income_type' чтобы сильно не усреднять данные:"
   ]
  },
  {
   "cell_type": "code",
   "execution_count": 4,
   "id": "c5b62e12",
   "metadata": {},
   "outputs": [],
   "source": [
    "data['total_income'] = data.groupby('income_type')['total_income'].transform(lambda x: x.fillna(x.mean()))"
   ]
  },
  {
   "cell_type": "markdown",
   "id": "4814d6b9",
   "metadata": {},
   "source": [
    "Проверим столбец 'total_income' на отсутствующие значения:"
   ]
  },
  {
   "cell_type": "code",
   "execution_count": 5,
   "id": "c9a0cf79",
   "metadata": {},
   "outputs": [
    {
     "data": {
      "text/plain": [
       "0.0"
      ]
     },
     "execution_count": 5,
     "metadata": {},
     "output_type": "execute_result"
    }
   ],
   "source": [
    "data['total_income'].isna().mean()"
   ]
  },
  {
   "cell_type": "markdown",
   "id": "11b3e5d7",
   "metadata": {},
   "source": [
    "Теперь заполним пропуски в данные столбца 'days_employed' медианным значением:"
   ]
  },
  {
   "cell_type": "code",
   "execution_count": 6,
   "id": "ca591914",
   "metadata": {},
   "outputs": [],
   "source": [
    "data['days_employed'] = data['days_employed'].fillna(data['days_employed'].mean())"
   ]
  },
  {
   "cell_type": "markdown",
   "id": "d37bd6b4",
   "metadata": {},
   "source": [
    "Работа с пропущенными значениями завершена, еще раз проверим количество пропусков:"
   ]
  },
  {
   "cell_type": "code",
   "execution_count": 7,
   "id": "b1520f1d",
   "metadata": {},
   "outputs": [
    {
     "name": "stdout",
     "output_type": "stream",
     "text": [
      "<class 'pandas.core.frame.DataFrame'>\n",
      "RangeIndex: 21525 entries, 0 to 21524\n",
      "Data columns (total 12 columns):\n",
      " #   Column            Non-Null Count  Dtype  \n",
      "---  ------            --------------  -----  \n",
      " 0   children          21525 non-null  int64  \n",
      " 1   days_employed     21525 non-null  float64\n",
      " 2   dob_years         21525 non-null  int64  \n",
      " 3   education         21525 non-null  object \n",
      " 4   education_id      21525 non-null  int64  \n",
      " 5   family_status     21525 non-null  object \n",
      " 6   family_status_id  21525 non-null  int64  \n",
      " 7   gender            21525 non-null  object \n",
      " 8   income_type       21525 non-null  object \n",
      " 9   debt              21525 non-null  int64  \n",
      " 10  total_income      21525 non-null  float64\n",
      " 11  purpose           21525 non-null  object \n",
      "dtypes: float64(2), int64(5), object(5)\n",
      "memory usage: 2.0+ MB\n"
     ]
    }
   ],
   "source": [
    "data.info()"
   ]
  },
  {
   "cell_type": "markdown",
   "id": "31eb6c02",
   "metadata": {},
   "source": [
    "### Шаг 2.2 Проверка данных на аномалии и исправления."
   ]
  },
  {
   "cell_type": "code",
   "execution_count": 8,
   "id": "d20ef586",
   "metadata": {},
   "outputs": [
    {
     "data": {
      "text/html": [
       "<div>\n",
       "<style scoped>\n",
       "    .dataframe tbody tr th:only-of-type {\n",
       "        vertical-align: middle;\n",
       "    }\n",
       "\n",
       "    .dataframe tbody tr th {\n",
       "        vertical-align: top;\n",
       "    }\n",
       "\n",
       "    .dataframe thead th {\n",
       "        text-align: right;\n",
       "    }\n",
       "</style>\n",
       "<table border=\"1\" class=\"dataframe\">\n",
       "  <thead>\n",
       "    <tr style=\"text-align: right;\">\n",
       "      <th></th>\n",
       "      <th>children</th>\n",
       "      <th>days_employed</th>\n",
       "      <th>dob_years</th>\n",
       "      <th>education_id</th>\n",
       "      <th>family_status_id</th>\n",
       "      <th>debt</th>\n",
       "      <th>total_income</th>\n",
       "    </tr>\n",
       "  </thead>\n",
       "  <tbody>\n",
       "    <tr>\n",
       "      <th>count</th>\n",
       "      <td>21525.000000</td>\n",
       "      <td>21525.000000</td>\n",
       "      <td>21525.000000</td>\n",
       "      <td>21525.000000</td>\n",
       "      <td>21525.000000</td>\n",
       "      <td>21525.000000</td>\n",
       "      <td>2.152500e+04</td>\n",
       "    </tr>\n",
       "    <tr>\n",
       "      <th>mean</th>\n",
       "      <td>0.538908</td>\n",
       "      <td>63046.497661</td>\n",
       "      <td>43.293380</td>\n",
       "      <td>0.817236</td>\n",
       "      <td>0.972544</td>\n",
       "      <td>0.080883</td>\n",
       "      <td>1.673959e+05</td>\n",
       "    </tr>\n",
       "    <tr>\n",
       "      <th>std</th>\n",
       "      <td>1.381587</td>\n",
       "      <td>133526.013419</td>\n",
       "      <td>12.574584</td>\n",
       "      <td>0.548138</td>\n",
       "      <td>1.420324</td>\n",
       "      <td>0.272661</td>\n",
       "      <td>9.790695e+04</td>\n",
       "    </tr>\n",
       "    <tr>\n",
       "      <th>min</th>\n",
       "      <td>-1.000000</td>\n",
       "      <td>-18388.949901</td>\n",
       "      <td>0.000000</td>\n",
       "      <td>0.000000</td>\n",
       "      <td>0.000000</td>\n",
       "      <td>0.000000</td>\n",
       "      <td>2.066726e+04</td>\n",
       "    </tr>\n",
       "    <tr>\n",
       "      <th>25%</th>\n",
       "      <td>0.000000</td>\n",
       "      <td>-2518.168900</td>\n",
       "      <td>33.000000</td>\n",
       "      <td>1.000000</td>\n",
       "      <td>0.000000</td>\n",
       "      <td>0.000000</td>\n",
       "      <td>1.077982e+05</td>\n",
       "    </tr>\n",
       "    <tr>\n",
       "      <th>50%</th>\n",
       "      <td>0.000000</td>\n",
       "      <td>-982.531720</td>\n",
       "      <td>42.000000</td>\n",
       "      <td>1.000000</td>\n",
       "      <td>0.000000</td>\n",
       "      <td>0.000000</td>\n",
       "      <td>1.519313e+05</td>\n",
       "    </tr>\n",
       "    <tr>\n",
       "      <th>75%</th>\n",
       "      <td>1.000000</td>\n",
       "      <td>63046.497661</td>\n",
       "      <td>53.000000</td>\n",
       "      <td>1.000000</td>\n",
       "      <td>1.000000</td>\n",
       "      <td>0.000000</td>\n",
       "      <td>2.024175e+05</td>\n",
       "    </tr>\n",
       "    <tr>\n",
       "      <th>max</th>\n",
       "      <td>20.000000</td>\n",
       "      <td>401755.400475</td>\n",
       "      <td>75.000000</td>\n",
       "      <td>4.000000</td>\n",
       "      <td>4.000000</td>\n",
       "      <td>1.000000</td>\n",
       "      <td>2.265604e+06</td>\n",
       "    </tr>\n",
       "  </tbody>\n",
       "</table>\n",
       "</div>"
      ],
      "text/plain": [
       "           children  days_employed     dob_years  education_id  \\\n",
       "count  21525.000000   21525.000000  21525.000000  21525.000000   \n",
       "mean       0.538908   63046.497661     43.293380      0.817236   \n",
       "std        1.381587  133526.013419     12.574584      0.548138   \n",
       "min       -1.000000  -18388.949901      0.000000      0.000000   \n",
       "25%        0.000000   -2518.168900     33.000000      1.000000   \n",
       "50%        0.000000    -982.531720     42.000000      1.000000   \n",
       "75%        1.000000   63046.497661     53.000000      1.000000   \n",
       "max       20.000000  401755.400475     75.000000      4.000000   \n",
       "\n",
       "       family_status_id          debt  total_income  \n",
       "count      21525.000000  21525.000000  2.152500e+04  \n",
       "mean           0.972544      0.080883  1.673959e+05  \n",
       "std            1.420324      0.272661  9.790695e+04  \n",
       "min            0.000000      0.000000  2.066726e+04  \n",
       "25%            0.000000      0.000000  1.077982e+05  \n",
       "50%            0.000000      0.000000  1.519313e+05  \n",
       "75%            1.000000      0.000000  2.024175e+05  \n",
       "max            4.000000      1.000000  2.265604e+06  "
      ]
     },
     "execution_count": 8,
     "metadata": {},
     "output_type": "execute_result"
    }
   ],
   "source": [
    "data.describe()"
   ]
  },
  {
   "cell_type": "markdown",
   "id": "8ede4825",
   "metadata": {},
   "source": [
    "В столбцах данных 'children' и 'days_employed' имеются отрицательные значения.\n",
    "К тому же в столбце 'days_employed' четверть выборки имеет завышенное, неадекватное значение, в реальной жизни пришлось бы уточнять у ответственного за выгрузку выборки. \n",
    "Скорее всего это технологическая ошибка.\n",
    "Заменим отрицательные значения в столбце 'days_employed' использую фунцию abs():"
   ]
  },
  {
   "cell_type": "code",
   "execution_count": 9,
   "id": "d88139c7",
   "metadata": {},
   "outputs": [],
   "source": [
    "data['days_employed'] = abs(data['days_employed'])"
   ]
  },
  {
   "cell_type": "code",
   "execution_count": 10,
   "id": "34778822",
   "metadata": {},
   "outputs": [
    {
     "data": {
      "text/plain": [
       "array(['высшее', 'среднее', 'Среднее', 'СРЕДНЕЕ', 'ВЫСШЕЕ',\n",
       "       'неоконченное высшее', 'начальное', 'Высшее',\n",
       "       'НЕОКОНЧЕННОЕ ВЫСШЕЕ', 'Неоконченное высшее', 'НАЧАЛЬНОЕ',\n",
       "       'Начальное', 'Ученая степень', 'УЧЕНАЯ СТЕПЕНЬ', 'ученая степень'],\n",
       "      dtype=object)"
      ]
     },
     "execution_count": 10,
     "metadata": {},
     "output_type": "execute_result"
    }
   ],
   "source": [
    "data['education'].unique()"
   ]
  },
  {
   "cell_type": "markdown",
   "id": "63117ffa",
   "metadata": {},
   "source": [
    "Значения столбца 'education' являются категоральной переменной записанной с\n",
    "разным регистром, причина появления разных значений человеческий фактор, а \n",
    "именно отсутсвие стандартизации при вводе данных клиентом, исправим это:"
   ]
  },
  {
   "cell_type": "code",
   "execution_count": 11,
   "id": "e26e06aa",
   "metadata": {},
   "outputs": [],
   "source": [
    "data['education'] = data['education'].str.lower()"
   ]
  },
  {
   "cell_type": "markdown",
   "id": "f4fc2f9a",
   "metadata": {},
   "source": [
    "В столбце 'children' обнаружили отрицательное значение количества детей, исправим это"
   ]
  },
  {
   "cell_type": "code",
   "execution_count": 12,
   "id": "f5dca0b6",
   "metadata": {},
   "outputs": [
    {
     "data": {
      "text/plain": [
       "array([ 1,  0,  3,  2, -1,  4, 20,  5])"
      ]
     },
     "execution_count": 12,
     "metadata": {},
     "output_type": "execute_result"
    }
   ],
   "source": [
    "data['children'].unique()\n",
    "\n"
   ]
  },
  {
   "cell_type": "code",
   "execution_count": 13,
   "id": "982684f6",
   "metadata": {},
   "outputs": [
    {
     "data": {
      "text/plain": [
       "array([ 1,  0,  3,  2,  4, 20,  5])"
      ]
     },
     "execution_count": 13,
     "metadata": {},
     "output_type": "execute_result"
    }
   ],
   "source": [
    "data['children'] = abs(data['children'])\n",
    "data['children'].unique()\n"
   ]
  },
  {
   "cell_type": "markdown",
   "id": "bad2cf05",
   "metadata": {},
   "source": [
    "В 76 строках DataFrame клиенты указали что имеют 20 детей:"
   ]
  },
  {
   "cell_type": "code",
   "execution_count": 14,
   "id": "bfa4a3dc",
   "metadata": {
    "scrolled": true
   },
   "outputs": [
    {
     "data": {
      "text/html": [
       "<div>\n",
       "<style scoped>\n",
       "    .dataframe tbody tr th:only-of-type {\n",
       "        vertical-align: middle;\n",
       "    }\n",
       "\n",
       "    .dataframe tbody tr th {\n",
       "        vertical-align: top;\n",
       "    }\n",
       "\n",
       "    .dataframe thead th {\n",
       "        text-align: right;\n",
       "    }\n",
       "</style>\n",
       "<table border=\"1\" class=\"dataframe\">\n",
       "  <thead>\n",
       "    <tr style=\"text-align: right;\">\n",
       "      <th></th>\n",
       "      <th>children</th>\n",
       "      <th>days_employed</th>\n",
       "      <th>dob_years</th>\n",
       "      <th>education</th>\n",
       "      <th>education_id</th>\n",
       "      <th>family_status</th>\n",
       "      <th>family_status_id</th>\n",
       "      <th>gender</th>\n",
       "      <th>income_type</th>\n",
       "      <th>debt</th>\n",
       "      <th>total_income</th>\n",
       "      <th>purpose</th>\n",
       "    </tr>\n",
       "  </thead>\n",
       "  <tbody>\n",
       "    <tr>\n",
       "      <th>606</th>\n",
       "      <td>20</td>\n",
       "      <td>880.221113</td>\n",
       "      <td>21</td>\n",
       "      <td>среднее</td>\n",
       "      <td>1</td>\n",
       "      <td>женат / замужем</td>\n",
       "      <td>0</td>\n",
       "      <td>M</td>\n",
       "      <td>компаньон</td>\n",
       "      <td>0</td>\n",
       "      <td>145334.865002</td>\n",
       "      <td>покупка жилья</td>\n",
       "    </tr>\n",
       "    <tr>\n",
       "      <th>720</th>\n",
       "      <td>20</td>\n",
       "      <td>855.595512</td>\n",
       "      <td>44</td>\n",
       "      <td>среднее</td>\n",
       "      <td>1</td>\n",
       "      <td>женат / замужем</td>\n",
       "      <td>0</td>\n",
       "      <td>F</td>\n",
       "      <td>компаньон</td>\n",
       "      <td>0</td>\n",
       "      <td>112998.738649</td>\n",
       "      <td>покупка недвижимости</td>\n",
       "    </tr>\n",
       "    <tr>\n",
       "      <th>1074</th>\n",
       "      <td>20</td>\n",
       "      <td>3310.411598</td>\n",
       "      <td>56</td>\n",
       "      <td>среднее</td>\n",
       "      <td>1</td>\n",
       "      <td>женат / замужем</td>\n",
       "      <td>0</td>\n",
       "      <td>F</td>\n",
       "      <td>сотрудник</td>\n",
       "      <td>1</td>\n",
       "      <td>229518.537004</td>\n",
       "      <td>получение образования</td>\n",
       "    </tr>\n",
       "    <tr>\n",
       "      <th>2510</th>\n",
       "      <td>20</td>\n",
       "      <td>2714.161249</td>\n",
       "      <td>59</td>\n",
       "      <td>высшее</td>\n",
       "      <td>0</td>\n",
       "      <td>вдовец / вдова</td>\n",
       "      <td>2</td>\n",
       "      <td>F</td>\n",
       "      <td>сотрудник</td>\n",
       "      <td>0</td>\n",
       "      <td>264474.835577</td>\n",
       "      <td>операции с коммерческой недвижимостью</td>\n",
       "    </tr>\n",
       "    <tr>\n",
       "      <th>2941</th>\n",
       "      <td>20</td>\n",
       "      <td>2161.591519</td>\n",
       "      <td>0</td>\n",
       "      <td>среднее</td>\n",
       "      <td>1</td>\n",
       "      <td>женат / замужем</td>\n",
       "      <td>0</td>\n",
       "      <td>F</td>\n",
       "      <td>сотрудник</td>\n",
       "      <td>0</td>\n",
       "      <td>199739.941398</td>\n",
       "      <td>на покупку автомобиля</td>\n",
       "    </tr>\n",
       "    <tr>\n",
       "      <th>...</th>\n",
       "      <td>...</td>\n",
       "      <td>...</td>\n",
       "      <td>...</td>\n",
       "      <td>...</td>\n",
       "      <td>...</td>\n",
       "      <td>...</td>\n",
       "      <td>...</td>\n",
       "      <td>...</td>\n",
       "      <td>...</td>\n",
       "      <td>...</td>\n",
       "      <td>...</td>\n",
       "      <td>...</td>\n",
       "    </tr>\n",
       "    <tr>\n",
       "      <th>21008</th>\n",
       "      <td>20</td>\n",
       "      <td>1240.257910</td>\n",
       "      <td>40</td>\n",
       "      <td>среднее</td>\n",
       "      <td>1</td>\n",
       "      <td>женат / замужем</td>\n",
       "      <td>0</td>\n",
       "      <td>F</td>\n",
       "      <td>сотрудник</td>\n",
       "      <td>1</td>\n",
       "      <td>133524.010303</td>\n",
       "      <td>свой автомобиль</td>\n",
       "    </tr>\n",
       "    <tr>\n",
       "      <th>21325</th>\n",
       "      <td>20</td>\n",
       "      <td>601.174883</td>\n",
       "      <td>37</td>\n",
       "      <td>среднее</td>\n",
       "      <td>1</td>\n",
       "      <td>женат / замужем</td>\n",
       "      <td>0</td>\n",
       "      <td>F</td>\n",
       "      <td>компаньон</td>\n",
       "      <td>0</td>\n",
       "      <td>102986.065978</td>\n",
       "      <td>профильное образование</td>\n",
       "    </tr>\n",
       "    <tr>\n",
       "      <th>21390</th>\n",
       "      <td>20</td>\n",
       "      <td>63046.497661</td>\n",
       "      <td>53</td>\n",
       "      <td>среднее</td>\n",
       "      <td>1</td>\n",
       "      <td>женат / замужем</td>\n",
       "      <td>0</td>\n",
       "      <td>M</td>\n",
       "      <td>компаньон</td>\n",
       "      <td>0</td>\n",
       "      <td>202417.461462</td>\n",
       "      <td>покупка жилой недвижимости</td>\n",
       "    </tr>\n",
       "    <tr>\n",
       "      <th>21404</th>\n",
       "      <td>20</td>\n",
       "      <td>494.788448</td>\n",
       "      <td>52</td>\n",
       "      <td>среднее</td>\n",
       "      <td>1</td>\n",
       "      <td>женат / замужем</td>\n",
       "      <td>0</td>\n",
       "      <td>M</td>\n",
       "      <td>компаньон</td>\n",
       "      <td>0</td>\n",
       "      <td>156629.683642</td>\n",
       "      <td>операции со своей недвижимостью</td>\n",
       "    </tr>\n",
       "    <tr>\n",
       "      <th>21491</th>\n",
       "      <td>20</td>\n",
       "      <td>173.954460</td>\n",
       "      <td>27</td>\n",
       "      <td>среднее</td>\n",
       "      <td>1</td>\n",
       "      <td>женат / замужем</td>\n",
       "      <td>0</td>\n",
       "      <td>F</td>\n",
       "      <td>сотрудник</td>\n",
       "      <td>0</td>\n",
       "      <td>155520.899688</td>\n",
       "      <td>на покупку подержанного автомобиля</td>\n",
       "    </tr>\n",
       "  </tbody>\n",
       "</table>\n",
       "<p>76 rows × 12 columns</p>\n",
       "</div>"
      ],
      "text/plain": [
       "       children  days_employed  dob_years education  education_id  \\\n",
       "606          20     880.221113         21   среднее             1   \n",
       "720          20     855.595512         44   среднее             1   \n",
       "1074         20    3310.411598         56   среднее             1   \n",
       "2510         20    2714.161249         59    высшее             0   \n",
       "2941         20    2161.591519          0   среднее             1   \n",
       "...         ...            ...        ...       ...           ...   \n",
       "21008        20    1240.257910         40   среднее             1   \n",
       "21325        20     601.174883         37   среднее             1   \n",
       "21390        20   63046.497661         53   среднее             1   \n",
       "21404        20     494.788448         52   среднее             1   \n",
       "21491        20     173.954460         27   среднее             1   \n",
       "\n",
       "         family_status  family_status_id gender income_type  debt  \\\n",
       "606    женат / замужем                 0      M   компаньон     0   \n",
       "720    женат / замужем                 0      F   компаньон     0   \n",
       "1074   женат / замужем                 0      F   сотрудник     1   \n",
       "2510    вдовец / вдова                 2      F   сотрудник     0   \n",
       "2941   женат / замужем                 0      F   сотрудник     0   \n",
       "...                ...               ...    ...         ...   ...   \n",
       "21008  женат / замужем                 0      F   сотрудник     1   \n",
       "21325  женат / замужем                 0      F   компаньон     0   \n",
       "21390  женат / замужем                 0      M   компаньон     0   \n",
       "21404  женат / замужем                 0      M   компаньон     0   \n",
       "21491  женат / замужем                 0      F   сотрудник     0   \n",
       "\n",
       "        total_income                                purpose  \n",
       "606    145334.865002                          покупка жилья  \n",
       "720    112998.738649                   покупка недвижимости  \n",
       "1074   229518.537004                  получение образования  \n",
       "2510   264474.835577  операции с коммерческой недвижимостью  \n",
       "2941   199739.941398                  на покупку автомобиля  \n",
       "...              ...                                    ...  \n",
       "21008  133524.010303                        свой автомобиль  \n",
       "21325  102986.065978                 профильное образование  \n",
       "21390  202417.461462             покупка жилой недвижимости  \n",
       "21404  156629.683642        операции со своей недвижимостью  \n",
       "21491  155520.899688     на покупку подержанного автомобиля  \n",
       "\n",
       "[76 rows x 12 columns]"
      ]
     },
     "execution_count": 14,
     "metadata": {},
     "output_type": "execute_result"
    }
   ],
   "source": [
    "data[data['children'] == 20]\n"
   ]
  },
  {
   "cell_type": "markdown",
   "id": "66fa73de",
   "metadata": {},
   "source": [
    "Наше исследование от их потери не слишком измениться, и мы не знаем, как эти данные логично заменить, поэтому заменим их на 0:"
   ]
  },
  {
   "cell_type": "code",
   "execution_count": 15,
   "id": "11f352b8",
   "metadata": {},
   "outputs": [],
   "source": [
    "data['children'] = data['children'].replace(20, 0)\n"
   ]
  },
  {
   "cell_type": "markdown",
   "id": "9f6e8851",
   "metadata": {},
   "source": [
    "### Шаг 2.3. Изменение типов данных."
   ]
  },
  {
   "cell_type": "markdown",
   "id": "67ccfe69",
   "metadata": {},
   "source": [
    "Заменим вещественный тип данных в столбце 'total_income' на целочисленный:"
   ]
  },
  {
   "cell_type": "code",
   "execution_count": 16,
   "id": "766810fb",
   "metadata": {},
   "outputs": [
    {
     "data": {
      "text/plain": [
       "children              int64\n",
       "days_employed       float64\n",
       "dob_years             int64\n",
       "education            object\n",
       "education_id          int64\n",
       "family_status        object\n",
       "family_status_id      int64\n",
       "gender               object\n",
       "income_type          object\n",
       "debt                  int64\n",
       "total_income          int64\n",
       "purpose              object\n",
       "dtype: object"
      ]
     },
     "execution_count": 16,
     "metadata": {},
     "output_type": "execute_result"
    }
   ],
   "source": [
    "data.astype({'total_income': 'int64'}).dtypes"
   ]
  },
  {
   "cell_type": "markdown",
   "id": "78fd6da2",
   "metadata": {},
   "source": [
    "### Шаг 2.4. Удаление дубликатов."
   ]
  },
  {
   "cell_type": "markdown",
   "id": "28add843",
   "metadata": {},
   "source": [
    "Найдем дублирующиеся строки DataFrame и удалим их, также сбрасываем индекс:"
   ]
  },
  {
   "cell_type": "code",
   "execution_count": 17,
   "id": "74a4cfe9",
   "metadata": {},
   "outputs": [
    {
     "data": {
      "text/plain": [
       "71"
      ]
     },
     "execution_count": 17,
     "metadata": {},
     "output_type": "execute_result"
    }
   ],
   "source": [
    "data.duplicated().sum()"
   ]
  },
  {
   "cell_type": "code",
   "execution_count": 18,
   "id": "a6f66f3a",
   "metadata": {},
   "outputs": [],
   "source": [
    "data = data.drop_duplicates().reset_index(drop=True)"
   ]
  },
  {
   "cell_type": "markdown",
   "id": "51dc31d2",
   "metadata": {},
   "source": [
    "Снова проверим DataFrame на повторяющиеся строки:"
   ]
  },
  {
   "cell_type": "code",
   "execution_count": 19,
   "id": "0b95589d",
   "metadata": {},
   "outputs": [
    {
     "data": {
      "text/plain": [
       "0"
      ]
     },
     "execution_count": 19,
     "metadata": {},
     "output_type": "execute_result"
    }
   ],
   "source": [
    "data.duplicated().sum()"
   ]
  },
  {
   "cell_type": "markdown",
   "id": "0d816b9c",
   "metadata": {},
   "source": [
    "### Шаг 2.5. Формирование дополнительных датафреймов словарей, декомпозиция исходного датафрейма."
   ]
  },
  {
   "cell_type": "code",
   "execution_count": 20,
   "id": "ce759061",
   "metadata": {},
   "outputs": [
    {
     "data": {
      "text/html": [
       "<div>\n",
       "<style scoped>\n",
       "    .dataframe tbody tr th:only-of-type {\n",
       "        vertical-align: middle;\n",
       "    }\n",
       "\n",
       "    .dataframe tbody tr th {\n",
       "        vertical-align: top;\n",
       "    }\n",
       "\n",
       "    .dataframe thead th {\n",
       "        text-align: right;\n",
       "    }\n",
       "</style>\n",
       "<table border=\"1\" class=\"dataframe\">\n",
       "  <thead>\n",
       "    <tr style=\"text-align: right;\">\n",
       "      <th></th>\n",
       "      <th>education</th>\n",
       "      <th>education_id</th>\n",
       "    </tr>\n",
       "  </thead>\n",
       "  <tbody>\n",
       "    <tr>\n",
       "      <th>0</th>\n",
       "      <td>высшее</td>\n",
       "      <td>0</td>\n",
       "    </tr>\n",
       "    <tr>\n",
       "      <th>1</th>\n",
       "      <td>начальное</td>\n",
       "      <td>3</td>\n",
       "    </tr>\n",
       "    <tr>\n",
       "      <th>2</th>\n",
       "      <td>неоконченное высшее</td>\n",
       "      <td>2</td>\n",
       "    </tr>\n",
       "    <tr>\n",
       "      <th>3</th>\n",
       "      <td>среднее</td>\n",
       "      <td>1</td>\n",
       "    </tr>\n",
       "    <tr>\n",
       "      <th>4</th>\n",
       "      <td>ученая степень</td>\n",
       "      <td>4</td>\n",
       "    </tr>\n",
       "  </tbody>\n",
       "</table>\n",
       "</div>"
      ],
      "text/plain": [
       "             education  education_id\n",
       "0               высшее             0\n",
       "1            начальное             3\n",
       "2  неоконченное высшее             2\n",
       "3              среднее             1\n",
       "4       ученая степень             4"
      ]
     },
     "execution_count": 20,
     "metadata": {},
     "output_type": "execute_result"
    }
   ],
   "source": [
    "# Сгруппируем наш DataFrame по уникальным значениюм столбца 'education',\n",
    "# в качестве столбца данных выберем 'education_id'\n",
    "unique_education = data.groupby(data['education'])['education_id'].unique()  \n",
    "\n",
    "# Создадим из сгруппированного объекта DataFrame в котором каждому\n",
    "#  уникальному значению из education соответствует уникальное \n",
    "#  значение education_id, также сбрасываем индекс для выравнивания \n",
    "#  заголовков колонок и изменяем тип данных колонки 'education_id'\n",
    "# на числовой\n",
    "unique_education = (pd.DataFrame(unique_education)\n",
    ".reset_index().astype({'education_id': 'int'}))\n",
    "\n",
    "unique_education"
   ]
  },
  {
   "cell_type": "code",
   "execution_count": 21,
   "id": "e59b3c2d",
   "metadata": {},
   "outputs": [
    {
     "data": {
      "text/html": [
       "<div>\n",
       "<style scoped>\n",
       "    .dataframe tbody tr th:only-of-type {\n",
       "        vertical-align: middle;\n",
       "    }\n",
       "\n",
       "    .dataframe tbody tr th {\n",
       "        vertical-align: top;\n",
       "    }\n",
       "\n",
       "    .dataframe thead th {\n",
       "        text-align: right;\n",
       "    }\n",
       "</style>\n",
       "<table border=\"1\" class=\"dataframe\">\n",
       "  <thead>\n",
       "    <tr style=\"text-align: right;\">\n",
       "      <th></th>\n",
       "      <th>family_status</th>\n",
       "      <th>family_status_id</th>\n",
       "    </tr>\n",
       "  </thead>\n",
       "  <tbody>\n",
       "    <tr>\n",
       "      <th>0</th>\n",
       "      <td>Не женат / не замужем</td>\n",
       "      <td>4</td>\n",
       "    </tr>\n",
       "    <tr>\n",
       "      <th>1</th>\n",
       "      <td>в разводе</td>\n",
       "      <td>3</td>\n",
       "    </tr>\n",
       "    <tr>\n",
       "      <th>2</th>\n",
       "      <td>вдовец / вдова</td>\n",
       "      <td>2</td>\n",
       "    </tr>\n",
       "    <tr>\n",
       "      <th>3</th>\n",
       "      <td>гражданский брак</td>\n",
       "      <td>1</td>\n",
       "    </tr>\n",
       "    <tr>\n",
       "      <th>4</th>\n",
       "      <td>женат / замужем</td>\n",
       "      <td>0</td>\n",
       "    </tr>\n",
       "  </tbody>\n",
       "</table>\n",
       "</div>"
      ],
      "text/plain": [
       "           family_status  family_status_id\n",
       "0  Не женат / не замужем                 4\n",
       "1              в разводе                 3\n",
       "2         вдовец / вдова                 2\n",
       "3       гражданский брак                 1\n",
       "4        женат / замужем                 0"
      ]
     },
     "execution_count": 21,
     "metadata": {},
     "output_type": "execute_result"
    }
   ],
   "source": [
    "# Сгруппируем наш DataFrame по уникальным значениюм столбца 'family_status',\n",
    "# в качестве столбца данных выберем 'family_status_id'\n",
    "unique_family_status = data.groupby(data['family_status'])['family_status_id'].unique()\n",
    "\n",
    "# Создадим из сгруппированного объекта DataFrame в котором каждому\n",
    "#  уникальному значению из 'family_status' соответствует уникальное \n",
    "#  значение 'family_status_id', также сбрасываем индекс для выравнивания \n",
    "#  заголовков колонок и изменяем тип данных колонки 'education_id'\n",
    "# на числовой\n",
    "unique_family_status = (pd.DataFrame(unique_family_status)\n",
    ".reset_index().astype({'family_status_id': 'int'}))\n",
    "\n",
    "unique_family_status\n"
   ]
  },
  {
   "cell_type": "markdown",
   "id": "dfe55f58",
   "metadata": {},
   "source": [
    "Удалим столбцы 'education' и 'family_status' из DataFrame:"
   ]
  },
  {
   "cell_type": "code",
   "execution_count": 22,
   "id": "a85802a6",
   "metadata": {},
   "outputs": [
    {
     "data": {
      "text/html": [
       "<div>\n",
       "<style scoped>\n",
       "    .dataframe tbody tr th:only-of-type {\n",
       "        vertical-align: middle;\n",
       "    }\n",
       "\n",
       "    .dataframe tbody tr th {\n",
       "        vertical-align: top;\n",
       "    }\n",
       "\n",
       "    .dataframe thead th {\n",
       "        text-align: right;\n",
       "    }\n",
       "</style>\n",
       "<table border=\"1\" class=\"dataframe\">\n",
       "  <thead>\n",
       "    <tr style=\"text-align: right;\">\n",
       "      <th></th>\n",
       "      <th>children</th>\n",
       "      <th>days_employed</th>\n",
       "      <th>dob_years</th>\n",
       "      <th>education_id</th>\n",
       "      <th>family_status_id</th>\n",
       "      <th>gender</th>\n",
       "      <th>income_type</th>\n",
       "      <th>debt</th>\n",
       "      <th>total_income</th>\n",
       "      <th>purpose</th>\n",
       "    </tr>\n",
       "  </thead>\n",
       "  <tbody>\n",
       "    <tr>\n",
       "      <th>0</th>\n",
       "      <td>1</td>\n",
       "      <td>8437.673028</td>\n",
       "      <td>42</td>\n",
       "      <td>0</td>\n",
       "      <td>0</td>\n",
       "      <td>F</td>\n",
       "      <td>сотрудник</td>\n",
       "      <td>0</td>\n",
       "      <td>253875.639453</td>\n",
       "      <td>покупка жилья</td>\n",
       "    </tr>\n",
       "    <tr>\n",
       "      <th>1</th>\n",
       "      <td>1</td>\n",
       "      <td>4024.803754</td>\n",
       "      <td>36</td>\n",
       "      <td>1</td>\n",
       "      <td>0</td>\n",
       "      <td>F</td>\n",
       "      <td>сотрудник</td>\n",
       "      <td>0</td>\n",
       "      <td>112080.014102</td>\n",
       "      <td>приобретение автомобиля</td>\n",
       "    </tr>\n",
       "    <tr>\n",
       "      <th>2</th>\n",
       "      <td>0</td>\n",
       "      <td>5623.422610</td>\n",
       "      <td>33</td>\n",
       "      <td>1</td>\n",
       "      <td>0</td>\n",
       "      <td>M</td>\n",
       "      <td>сотрудник</td>\n",
       "      <td>0</td>\n",
       "      <td>145885.952297</td>\n",
       "      <td>покупка жилья</td>\n",
       "    </tr>\n",
       "    <tr>\n",
       "      <th>3</th>\n",
       "      <td>3</td>\n",
       "      <td>4124.747207</td>\n",
       "      <td>32</td>\n",
       "      <td>1</td>\n",
       "      <td>0</td>\n",
       "      <td>M</td>\n",
       "      <td>сотрудник</td>\n",
       "      <td>0</td>\n",
       "      <td>267628.550329</td>\n",
       "      <td>дополнительное образование</td>\n",
       "    </tr>\n",
       "    <tr>\n",
       "      <th>4</th>\n",
       "      <td>0</td>\n",
       "      <td>340266.072047</td>\n",
       "      <td>53</td>\n",
       "      <td>1</td>\n",
       "      <td>1</td>\n",
       "      <td>F</td>\n",
       "      <td>пенсионер</td>\n",
       "      <td>0</td>\n",
       "      <td>158616.077870</td>\n",
       "      <td>сыграть свадьбу</td>\n",
       "    </tr>\n",
       "    <tr>\n",
       "      <th>...</th>\n",
       "      <td>...</td>\n",
       "      <td>...</td>\n",
       "      <td>...</td>\n",
       "      <td>...</td>\n",
       "      <td>...</td>\n",
       "      <td>...</td>\n",
       "      <td>...</td>\n",
       "      <td>...</td>\n",
       "      <td>...</td>\n",
       "      <td>...</td>\n",
       "    </tr>\n",
       "    <tr>\n",
       "      <th>21449</th>\n",
       "      <td>1</td>\n",
       "      <td>4529.316663</td>\n",
       "      <td>43</td>\n",
       "      <td>1</td>\n",
       "      <td>1</td>\n",
       "      <td>F</td>\n",
       "      <td>компаньон</td>\n",
       "      <td>0</td>\n",
       "      <td>224791.862382</td>\n",
       "      <td>операции с жильем</td>\n",
       "    </tr>\n",
       "    <tr>\n",
       "      <th>21450</th>\n",
       "      <td>0</td>\n",
       "      <td>343937.404131</td>\n",
       "      <td>67</td>\n",
       "      <td>1</td>\n",
       "      <td>0</td>\n",
       "      <td>F</td>\n",
       "      <td>пенсионер</td>\n",
       "      <td>0</td>\n",
       "      <td>155999.806512</td>\n",
       "      <td>сделка с автомобилем</td>\n",
       "    </tr>\n",
       "    <tr>\n",
       "      <th>21451</th>\n",
       "      <td>1</td>\n",
       "      <td>2113.346888</td>\n",
       "      <td>38</td>\n",
       "      <td>1</td>\n",
       "      <td>1</td>\n",
       "      <td>M</td>\n",
       "      <td>сотрудник</td>\n",
       "      <td>1</td>\n",
       "      <td>89672.561153</td>\n",
       "      <td>недвижимость</td>\n",
       "    </tr>\n",
       "    <tr>\n",
       "      <th>21452</th>\n",
       "      <td>3</td>\n",
       "      <td>3112.481705</td>\n",
       "      <td>38</td>\n",
       "      <td>1</td>\n",
       "      <td>0</td>\n",
       "      <td>M</td>\n",
       "      <td>сотрудник</td>\n",
       "      <td>1</td>\n",
       "      <td>244093.050500</td>\n",
       "      <td>на покупку своего автомобиля</td>\n",
       "    </tr>\n",
       "    <tr>\n",
       "      <th>21453</th>\n",
       "      <td>2</td>\n",
       "      <td>1984.507589</td>\n",
       "      <td>40</td>\n",
       "      <td>1</td>\n",
       "      <td>0</td>\n",
       "      <td>F</td>\n",
       "      <td>сотрудник</td>\n",
       "      <td>0</td>\n",
       "      <td>82047.418899</td>\n",
       "      <td>на покупку автомобиля</td>\n",
       "    </tr>\n",
       "  </tbody>\n",
       "</table>\n",
       "<p>21454 rows × 10 columns</p>\n",
       "</div>"
      ],
      "text/plain": [
       "       children  days_employed  dob_years  education_id  family_status_id  \\\n",
       "0             1    8437.673028         42             0                 0   \n",
       "1             1    4024.803754         36             1                 0   \n",
       "2             0    5623.422610         33             1                 0   \n",
       "3             3    4124.747207         32             1                 0   \n",
       "4             0  340266.072047         53             1                 1   \n",
       "...         ...            ...        ...           ...               ...   \n",
       "21449         1    4529.316663         43             1                 1   \n",
       "21450         0  343937.404131         67             1                 0   \n",
       "21451         1    2113.346888         38             1                 1   \n",
       "21452         3    3112.481705         38             1                 0   \n",
       "21453         2    1984.507589         40             1                 0   \n",
       "\n",
       "      gender income_type  debt   total_income                       purpose  \n",
       "0          F   сотрудник     0  253875.639453                 покупка жилья  \n",
       "1          F   сотрудник     0  112080.014102       приобретение автомобиля  \n",
       "2          M   сотрудник     0  145885.952297                 покупка жилья  \n",
       "3          M   сотрудник     0  267628.550329    дополнительное образование  \n",
       "4          F   пенсионер     0  158616.077870               сыграть свадьбу  \n",
       "...      ...         ...   ...            ...                           ...  \n",
       "21449      F   компаньон     0  224791.862382             операции с жильем  \n",
       "21450      F   пенсионер     0  155999.806512          сделка с автомобилем  \n",
       "21451      M   сотрудник     1   89672.561153                  недвижимость  \n",
       "21452      M   сотрудник     1  244093.050500  на покупку своего автомобиля  \n",
       "21453      F   сотрудник     0   82047.418899         на покупку автомобиля  \n",
       "\n",
       "[21454 rows x 10 columns]"
      ]
     },
     "execution_count": 22,
     "metadata": {},
     "output_type": "execute_result"
    }
   ],
   "source": [
    "data.drop(columns = ['education', 'family_status'],axis = 1)"
   ]
  },
  {
   "cell_type": "markdown",
   "id": "59245967",
   "metadata": {},
   "source": [
    "### Шаг 2.6. Категоризация дохода."
   ]
  },
  {
   "cell_type": "markdown",
   "id": "f6b868c2",
   "metadata": {},
   "source": [
    "В столбце DataFrame 'total_income_category' указан месячный доход клиентов, множество значений\n",
    "категоризируем на следующие категории:\n",
    "1. 'E' 0 - 30 000\n",
    "2. 'D' 30 001 - 50 000\n",
    "3. 'C' 50 001 - 20 0000\n",
    "4. 'B' 20 0001 - 10 00000\n",
    "5. 'A' свыше 1 000 000"
   ]
  },
  {
   "cell_type": "code",
   "execution_count": 23,
   "id": "32ec655f",
   "metadata": {},
   "outputs": [
    {
     "data": {
      "text/html": [
       "<div>\n",
       "<style scoped>\n",
       "    .dataframe tbody tr th:only-of-type {\n",
       "        vertical-align: middle;\n",
       "    }\n",
       "\n",
       "    .dataframe tbody tr th {\n",
       "        vertical-align: top;\n",
       "    }\n",
       "\n",
       "    .dataframe thead th {\n",
       "        text-align: right;\n",
       "    }\n",
       "</style>\n",
       "<table border=\"1\" class=\"dataframe\">\n",
       "  <thead>\n",
       "    <tr style=\"text-align: right;\">\n",
       "      <th></th>\n",
       "      <th>children</th>\n",
       "      <th>days_employed</th>\n",
       "      <th>dob_years</th>\n",
       "      <th>education</th>\n",
       "      <th>education_id</th>\n",
       "      <th>family_status</th>\n",
       "      <th>family_status_id</th>\n",
       "      <th>gender</th>\n",
       "      <th>income_type</th>\n",
       "      <th>debt</th>\n",
       "      <th>total_income</th>\n",
       "      <th>purpose</th>\n",
       "      <th>total_income_category</th>\n",
       "    </tr>\n",
       "  </thead>\n",
       "  <tbody>\n",
       "    <tr>\n",
       "      <th>0</th>\n",
       "      <td>1</td>\n",
       "      <td>8437.673028</td>\n",
       "      <td>42</td>\n",
       "      <td>высшее</td>\n",
       "      <td>0</td>\n",
       "      <td>женат / замужем</td>\n",
       "      <td>0</td>\n",
       "      <td>F</td>\n",
       "      <td>сотрудник</td>\n",
       "      <td>0</td>\n",
       "      <td>253875.639453</td>\n",
       "      <td>покупка жилья</td>\n",
       "      <td>B</td>\n",
       "    </tr>\n",
       "    <tr>\n",
       "      <th>1</th>\n",
       "      <td>1</td>\n",
       "      <td>4024.803754</td>\n",
       "      <td>36</td>\n",
       "      <td>среднее</td>\n",
       "      <td>1</td>\n",
       "      <td>женат / замужем</td>\n",
       "      <td>0</td>\n",
       "      <td>F</td>\n",
       "      <td>сотрудник</td>\n",
       "      <td>0</td>\n",
       "      <td>112080.014102</td>\n",
       "      <td>приобретение автомобиля</td>\n",
       "      <td>C</td>\n",
       "    </tr>\n",
       "    <tr>\n",
       "      <th>2</th>\n",
       "      <td>0</td>\n",
       "      <td>5623.422610</td>\n",
       "      <td>33</td>\n",
       "      <td>среднее</td>\n",
       "      <td>1</td>\n",
       "      <td>женат / замужем</td>\n",
       "      <td>0</td>\n",
       "      <td>M</td>\n",
       "      <td>сотрудник</td>\n",
       "      <td>0</td>\n",
       "      <td>145885.952297</td>\n",
       "      <td>покупка жилья</td>\n",
       "      <td>C</td>\n",
       "    </tr>\n",
       "    <tr>\n",
       "      <th>3</th>\n",
       "      <td>3</td>\n",
       "      <td>4124.747207</td>\n",
       "      <td>32</td>\n",
       "      <td>среднее</td>\n",
       "      <td>1</td>\n",
       "      <td>женат / замужем</td>\n",
       "      <td>0</td>\n",
       "      <td>M</td>\n",
       "      <td>сотрудник</td>\n",
       "      <td>0</td>\n",
       "      <td>267628.550329</td>\n",
       "      <td>дополнительное образование</td>\n",
       "      <td>B</td>\n",
       "    </tr>\n",
       "    <tr>\n",
       "      <th>4</th>\n",
       "      <td>0</td>\n",
       "      <td>340266.072047</td>\n",
       "      <td>53</td>\n",
       "      <td>среднее</td>\n",
       "      <td>1</td>\n",
       "      <td>гражданский брак</td>\n",
       "      <td>1</td>\n",
       "      <td>F</td>\n",
       "      <td>пенсионер</td>\n",
       "      <td>0</td>\n",
       "      <td>158616.077870</td>\n",
       "      <td>сыграть свадьбу</td>\n",
       "      <td>C</td>\n",
       "    </tr>\n",
       "    <tr>\n",
       "      <th>...</th>\n",
       "      <td>...</td>\n",
       "      <td>...</td>\n",
       "      <td>...</td>\n",
       "      <td>...</td>\n",
       "      <td>...</td>\n",
       "      <td>...</td>\n",
       "      <td>...</td>\n",
       "      <td>...</td>\n",
       "      <td>...</td>\n",
       "      <td>...</td>\n",
       "      <td>...</td>\n",
       "      <td>...</td>\n",
       "      <td>...</td>\n",
       "    </tr>\n",
       "    <tr>\n",
       "      <th>21449</th>\n",
       "      <td>1</td>\n",
       "      <td>4529.316663</td>\n",
       "      <td>43</td>\n",
       "      <td>среднее</td>\n",
       "      <td>1</td>\n",
       "      <td>гражданский брак</td>\n",
       "      <td>1</td>\n",
       "      <td>F</td>\n",
       "      <td>компаньон</td>\n",
       "      <td>0</td>\n",
       "      <td>224791.862382</td>\n",
       "      <td>операции с жильем</td>\n",
       "      <td>B</td>\n",
       "    </tr>\n",
       "    <tr>\n",
       "      <th>21450</th>\n",
       "      <td>0</td>\n",
       "      <td>343937.404131</td>\n",
       "      <td>67</td>\n",
       "      <td>среднее</td>\n",
       "      <td>1</td>\n",
       "      <td>женат / замужем</td>\n",
       "      <td>0</td>\n",
       "      <td>F</td>\n",
       "      <td>пенсионер</td>\n",
       "      <td>0</td>\n",
       "      <td>155999.806512</td>\n",
       "      <td>сделка с автомобилем</td>\n",
       "      <td>C</td>\n",
       "    </tr>\n",
       "    <tr>\n",
       "      <th>21451</th>\n",
       "      <td>1</td>\n",
       "      <td>2113.346888</td>\n",
       "      <td>38</td>\n",
       "      <td>среднее</td>\n",
       "      <td>1</td>\n",
       "      <td>гражданский брак</td>\n",
       "      <td>1</td>\n",
       "      <td>M</td>\n",
       "      <td>сотрудник</td>\n",
       "      <td>1</td>\n",
       "      <td>89672.561153</td>\n",
       "      <td>недвижимость</td>\n",
       "      <td>C</td>\n",
       "    </tr>\n",
       "    <tr>\n",
       "      <th>21452</th>\n",
       "      <td>3</td>\n",
       "      <td>3112.481705</td>\n",
       "      <td>38</td>\n",
       "      <td>среднее</td>\n",
       "      <td>1</td>\n",
       "      <td>женат / замужем</td>\n",
       "      <td>0</td>\n",
       "      <td>M</td>\n",
       "      <td>сотрудник</td>\n",
       "      <td>1</td>\n",
       "      <td>244093.050500</td>\n",
       "      <td>на покупку своего автомобиля</td>\n",
       "      <td>B</td>\n",
       "    </tr>\n",
       "    <tr>\n",
       "      <th>21453</th>\n",
       "      <td>2</td>\n",
       "      <td>1984.507589</td>\n",
       "      <td>40</td>\n",
       "      <td>среднее</td>\n",
       "      <td>1</td>\n",
       "      <td>женат / замужем</td>\n",
       "      <td>0</td>\n",
       "      <td>F</td>\n",
       "      <td>сотрудник</td>\n",
       "      <td>0</td>\n",
       "      <td>82047.418899</td>\n",
       "      <td>на покупку автомобиля</td>\n",
       "      <td>C</td>\n",
       "    </tr>\n",
       "  </tbody>\n",
       "</table>\n",
       "<p>21454 rows × 13 columns</p>\n",
       "</div>"
      ],
      "text/plain": [
       "       children  days_employed  dob_years education  education_id  \\\n",
       "0             1    8437.673028         42    высшее             0   \n",
       "1             1    4024.803754         36   среднее             1   \n",
       "2             0    5623.422610         33   среднее             1   \n",
       "3             3    4124.747207         32   среднее             1   \n",
       "4             0  340266.072047         53   среднее             1   \n",
       "...         ...            ...        ...       ...           ...   \n",
       "21449         1    4529.316663         43   среднее             1   \n",
       "21450         0  343937.404131         67   среднее             1   \n",
       "21451         1    2113.346888         38   среднее             1   \n",
       "21452         3    3112.481705         38   среднее             1   \n",
       "21453         2    1984.507589         40   среднее             1   \n",
       "\n",
       "          family_status  family_status_id gender income_type  debt  \\\n",
       "0       женат / замужем                 0      F   сотрудник     0   \n",
       "1       женат / замужем                 0      F   сотрудник     0   \n",
       "2       женат / замужем                 0      M   сотрудник     0   \n",
       "3       женат / замужем                 0      M   сотрудник     0   \n",
       "4      гражданский брак                 1      F   пенсионер     0   \n",
       "...                 ...               ...    ...         ...   ...   \n",
       "21449  гражданский брак                 1      F   компаньон     0   \n",
       "21450   женат / замужем                 0      F   пенсионер     0   \n",
       "21451  гражданский брак                 1      M   сотрудник     1   \n",
       "21452   женат / замужем                 0      M   сотрудник     1   \n",
       "21453   женат / замужем                 0      F   сотрудник     0   \n",
       "\n",
       "        total_income                       purpose total_income_category  \n",
       "0      253875.639453                 покупка жилья                     B  \n",
       "1      112080.014102       приобретение автомобиля                     C  \n",
       "2      145885.952297                 покупка жилья                     C  \n",
       "3      267628.550329    дополнительное образование                     B  \n",
       "4      158616.077870               сыграть свадьбу                     C  \n",
       "...              ...                           ...                   ...  \n",
       "21449  224791.862382             операции с жильем                     B  \n",
       "21450  155999.806512          сделка с автомобилем                     C  \n",
       "21451   89672.561153                  недвижимость                     C  \n",
       "21452  244093.050500  на покупку своего автомобиля                     B  \n",
       "21453   82047.418899         на покупку автомобиля                     C  \n",
       "\n",
       "[21454 rows x 13 columns]"
      ]
     },
     "execution_count": 23,
     "metadata": {},
     "output_type": "execute_result"
    }
   ],
   "source": [
    "# Объявляем фунцию \"total_income_category\" которая на основании параметра row будет принимать\n",
    "# строки DataFrame в качестве результата возвращает категорию заработка клиента \n",
    "def total_income_category(row):\n",
    "    if 0 <= row['total_income'] <= 30000:\n",
    "        return 'E'\n",
    "    elif 30000 < row['total_income'] <= 50000:\n",
    "        return 'D'\n",
    "    elif 50000 < row['total_income'] <= 200000:\n",
    "        return 'C'\n",
    "    elif 200000 < row['total_income'] <= 1000000:\n",
    "        return 'B'\n",
    "    elif 1000000 < row['total_income']: \n",
    "        return 'A'\n",
    "    \n",
    "# Применим фунцию \"total_income_category\" к нашему DataFrame в качестве\n",
    "# аргумента axis зададим построчное применение\n",
    "data['total_income_category'] = data.apply(total_income_category, axis=1)\n",
    "data"
   ]
  },
  {
   "cell_type": "markdown",
   "id": "6eb96ca0",
   "metadata": {},
   "source": [
    "### Шаг 2.7. Категоризация целей кредита."
   ]
  },
  {
   "cell_type": "markdown",
   "id": "b04188e5",
   "metadata": {},
   "source": [
    "В столбце DataFrame 'purpose' указанны цели взятия кредита, множество значений\n",
    "категоризируем на четыре категории:\n",
    "1. Операции с автомобилем\n",
    "2. Операции с недвижимостью\n",
    "3. Проведение свадьбы\n",
    "4. Получение образования"
   ]
  },
  {
   "cell_type": "code",
   "execution_count": 24,
   "id": "77ebf790",
   "metadata": {},
   "outputs": [
    {
     "data": {
      "text/plain": [
       "array(['покупка жилья', 'приобретение автомобиля',\n",
       "       'дополнительное образование', 'сыграть свадьбу',\n",
       "       'операции с жильем', 'образование', 'на проведение свадьбы',\n",
       "       'покупка жилья для семьи', 'покупка недвижимости',\n",
       "       'покупка коммерческой недвижимости', 'покупка жилой недвижимости',\n",
       "       'строительство собственной недвижимости', 'недвижимость',\n",
       "       'строительство недвижимости', 'на покупку подержанного автомобиля',\n",
       "       'на покупку своего автомобиля',\n",
       "       'операции с коммерческой недвижимостью',\n",
       "       'строительство жилой недвижимости', 'жилье',\n",
       "       'операции со своей недвижимостью', 'автомобили',\n",
       "       'заняться образованием', 'сделка с подержанным автомобилем',\n",
       "       'получение образования', 'автомобиль', 'свадьба',\n",
       "       'получение дополнительного образования', 'покупка своего жилья',\n",
       "       'операции с недвижимостью', 'получение высшего образования',\n",
       "       'свой автомобиль', 'сделка с автомобилем',\n",
       "       'профильное образование', 'высшее образование',\n",
       "       'покупка жилья для сдачи', 'на покупку автомобиля', 'ремонт жилью',\n",
       "       'заняться высшим образованием'], dtype=object)"
      ]
     },
     "execution_count": 24,
     "metadata": {},
     "output_type": "execute_result"
    }
   ],
   "source": [
    "data['purpose'].unique()"
   ]
  },
  {
   "cell_type": "code",
   "execution_count": 25,
   "id": "08d7bc39",
   "metadata": {},
   "outputs": [],
   "source": [
    "# Объявляем фунцию 'total_purpose_category' которая на основании параметра row будет принимать\n",
    "# строки DataFrame в качестве результата возвращает категорию целевого использования кредитных\n",
    "# средств\n",
    "\n",
    "def total_purpose_category(row):\n",
    "    if 'автом' in row['purpose']:\n",
    "        return 'операции с автомобилем'\n",
    "    elif 'недвиж' in row['purpose'] or 'жиль' in row['purpose']:\n",
    "        return 'операции с недвижимостью'\n",
    "    elif 'свадь' in row['purpose']:\n",
    "        return 'проведение свадьбы'\n",
    "    elif 'образ' in row['purpose']:\n",
    "        return 'получение образования'"
   ]
  },
  {
   "cell_type": "code",
   "execution_count": 26,
   "id": "b2621087",
   "metadata": {},
   "outputs": [
    {
     "data": {
      "text/plain": [
       "array(['операции с недвижимостью', 'операции с автомобилем',\n",
       "       'получение образования', 'проведение свадьбы'], dtype=object)"
      ]
     },
     "execution_count": 26,
     "metadata": {},
     "output_type": "execute_result"
    }
   ],
   "source": [
    "data['purpose_category'] = data.apply(total_purpose_category, axis=1) # Применим фунцию 'total_purpose_category' к нашему DataFrame в качестве\n",
    "data['purpose_category'].unique()"
   ]
  },
  {
   "cell_type": "markdown",
   "id": "0ecc4593",
   "metadata": {},
   "source": [
    "### Ответы на вопросы."
   ]
  },
  {
   "cell_type": "markdown",
   "id": "5b84410f",
   "metadata": {},
   "source": [
    "##### Вопрос 1:"
   ]
  },
  {
   "cell_type": "markdown",
   "id": "be2bec57",
   "metadata": {},
   "source": [
    "Для ответа на вопрос: 'Есть ли зависимость между количеством детей и возвратом кредита в срок?' создадим таблицу, в которой количество детей будут являться категориями; кол-во клиентов в категории, кол-во просрочивших оплату клиентов и доля просрочивших клиентов - колонками таблицы, соответсвенно. Также отсортируем данные по убыванию доли просрочивщих оплату клиентов:"
   ]
  },
  {
   "cell_type": "code",
   "execution_count": 27,
   "id": "4ae03ec2",
   "metadata": {},
   "outputs": [
    {
     "data": {
      "text/html": [
       "<div>\n",
       "<style scoped>\n",
       "    .dataframe tbody tr th:only-of-type {\n",
       "        vertical-align: middle;\n",
       "    }\n",
       "\n",
       "    .dataframe tbody tr th {\n",
       "        vertical-align: top;\n",
       "    }\n",
       "\n",
       "    .dataframe thead th {\n",
       "        text-align: right;\n",
       "    }\n",
       "</style>\n",
       "<table border=\"1\" class=\"dataframe\">\n",
       "  <thead>\n",
       "    <tr style=\"text-align: right;\">\n",
       "      <th></th>\n",
       "      <th>Кол-во детей</th>\n",
       "      <th>Клиентов в категории</th>\n",
       "      <th>Просрочившие</th>\n",
       "      <th>Доля просрочивших</th>\n",
       "    </tr>\n",
       "  </thead>\n",
       "  <tbody>\n",
       "    <tr>\n",
       "      <th>4</th>\n",
       "      <td>4</td>\n",
       "      <td>41</td>\n",
       "      <td>4</td>\n",
       "      <td>0.097561</td>\n",
       "    </tr>\n",
       "    <tr>\n",
       "      <th>2</th>\n",
       "      <td>2</td>\n",
       "      <td>2052</td>\n",
       "      <td>194</td>\n",
       "      <td>0.094542</td>\n",
       "    </tr>\n",
       "    <tr>\n",
       "      <th>1</th>\n",
       "      <td>1</td>\n",
       "      <td>4855</td>\n",
       "      <td>445</td>\n",
       "      <td>0.091658</td>\n",
       "    </tr>\n",
       "    <tr>\n",
       "      <th>3</th>\n",
       "      <td>3</td>\n",
       "      <td>330</td>\n",
       "      <td>27</td>\n",
       "      <td>0.081818</td>\n",
       "    </tr>\n",
       "    <tr>\n",
       "      <th>0</th>\n",
       "      <td>0</td>\n",
       "      <td>14167</td>\n",
       "      <td>1071</td>\n",
       "      <td>0.075598</td>\n",
       "    </tr>\n",
       "    <tr>\n",
       "      <th>5</th>\n",
       "      <td>5</td>\n",
       "      <td>9</td>\n",
       "      <td>0</td>\n",
       "      <td>0.000000</td>\n",
       "    </tr>\n",
       "  </tbody>\n",
       "</table>\n",
       "</div>"
      ],
      "text/plain": [
       "   Кол-во детей  Клиентов в категории  Просрочившие  Доля просрочивших\n",
       "4             4                    41             4           0.097561\n",
       "2             2                  2052           194           0.094542\n",
       "1             1                  4855           445           0.091658\n",
       "3             3                   330            27           0.081818\n",
       "0             0                 14167          1071           0.075598\n",
       "5             5                     9             0           0.000000"
      ]
     },
     "execution_count": 27,
     "metadata": {},
     "output_type": "execute_result"
    }
   ],
   "source": [
    " # Создание DataFrame\n",
    "debt_from_children = pd.DataFrame()  # Объявляем переменную debt_from_children - новый DataFrame\n",
    "\n",
    " # Добавляем колонки в DataFrame \n",
    "debt_from_children['count_children'] = data.groupby('children')['debt'].count() \n",
    "debt_from_children['sum_children'] = data.groupby('children')['debt'].sum()\n",
    "debt_from_children['result_children'] = (debt_from_children['sum_children'] \n",
    "                                        / debt_from_children['count_children'])\n",
    "    \n",
    " # Сортировка, форматирование, переименование колонок и индекса  \n",
    "debt_from_children.index = debt_from_children.index.rename('Кол-во детей')\n",
    "debt_from_children.rename(columns={'count_children': 'Клиентов в категории',\n",
    "                                   'sum_children': 'Просрочившие',\n",
    "                                   'result_children': 'Доля просрочивших'}, \n",
    "                          inplace=True)\n",
    "debt_from_children.reset_index(inplace=True, drop=False)\n",
    "debt_from_children = debt_from_children.sort_values('Доля просрочивших', ascending=False)\n",
    "\n",
    "debt_from_children"
   ]
  },
  {
   "cell_type": "markdown",
   "id": "ffcaeb6b",
   "metadata": {},
   "source": [
    "##### Вывод 1:"
   ]
  },
  {
   "cell_type": "markdown",
   "id": "0b010762",
   "metadata": {},
   "source": [
    "Зависимость между количеством детей и возвратом кредита в срок есть. 7.5 % клиентов не имеющие детей реже всех остальных категорий просрочивают оплату по кредитам. Затем идет тенденция к увеличению до 9 % просрочивших оплату клиентов в категориях имеющих от 1-го до 2-х детей. У клиентов с 3-мя детьми показатель просрочки начинает уменьшаться до 8 %. Данные выборки не однозначные, скорее всего требуется более обширная выборка."
   ]
  },
  {
   "cell_type": "markdown",
   "id": "cfccd6e9",
   "metadata": {},
   "source": [
    "##### Вопрос 2:"
   ]
  },
  {
   "cell_type": "code",
   "execution_count": 28,
   "id": "7d0573d3",
   "metadata": {},
   "outputs": [],
   "source": [
    "def create_table(target_value, data): # Объявляем функцию 'create_table' которой в качестве параметров \n",
    "    # передаем целевое значние и DataFrame, фунция возвращает таблицу для анализа целевого показателя по\n",
    "    # категориям целевого значения\n",
    "    \n",
    "    table = pd.pivot_table(data, index=[target_value], # Создание сводной таблицы\n",
    "                                         values=['debt'], \n",
    "                                         aggfunc=[len, sum, np.mean])\n",
    "    \n",
    "    table.columns = ['_'.join(col).strip() for col in table.columns.values] # Преобразование \n",
    "    # мультииндекса в одноуровневый индекс в наименованиях столбцов DataFrame\n",
    "    \n",
    "    table.reset_index(inplace=True, drop=False) # Вынесение индекса в отдельную колонку для выравнивания заголовков\n",
    "    \n",
    "    table = table.rename(columns={'len_debt': 'Нет просрочек', # Переименование столбцов \n",
    "                                  'sum_debt': 'Просрочившие',\n",
    "                                  'mean_debt': 'Доля просрочивших'})\n",
    "    return table   "
   ]
  },
  {
   "cell_type": "markdown",
   "id": "316eb8e0",
   "metadata": {},
   "source": [
    "Для ответа на вопрос: 'Есть ли зависимость между семейным положением и возвратом кредита в срок?' создадим таблицу, в которой семейное положение будет являться категориями; кол-во клиентов в категории, кол-во просрочивших оплату клиентов и доля просрочивших клиентов - колонками таблицы, соответсвенно. Также отсортируем данные по убыванию доли просрочивщих оплату клиентов:"
   ]
  },
  {
   "cell_type": "code",
   "execution_count": 29,
   "id": "84d0b41d",
   "metadata": {},
   "outputs": [
    {
     "data": {
      "text/html": [
       "<div>\n",
       "<style scoped>\n",
       "    .dataframe tbody tr th:only-of-type {\n",
       "        vertical-align: middle;\n",
       "    }\n",
       "\n",
       "    .dataframe tbody tr th {\n",
       "        vertical-align: top;\n",
       "    }\n",
       "\n",
       "    .dataframe thead th {\n",
       "        text-align: right;\n",
       "    }\n",
       "</style>\n",
       "<table border=\"1\" class=\"dataframe\">\n",
       "  <thead>\n",
       "    <tr style=\"text-align: right;\">\n",
       "      <th></th>\n",
       "      <th>Семейное положение</th>\n",
       "      <th>Нет просрочек</th>\n",
       "      <th>Просрочившие</th>\n",
       "      <th>Доля просрочивших</th>\n",
       "    </tr>\n",
       "  </thead>\n",
       "  <tbody>\n",
       "    <tr>\n",
       "      <th>0</th>\n",
       "      <td>Не женат / не замужем</td>\n",
       "      <td>2810</td>\n",
       "      <td>274</td>\n",
       "      <td>0.097509</td>\n",
       "    </tr>\n",
       "    <tr>\n",
       "      <th>3</th>\n",
       "      <td>гражданский брак</td>\n",
       "      <td>4151</td>\n",
       "      <td>388</td>\n",
       "      <td>0.093471</td>\n",
       "    </tr>\n",
       "    <tr>\n",
       "      <th>4</th>\n",
       "      <td>женат / замужем</td>\n",
       "      <td>12339</td>\n",
       "      <td>931</td>\n",
       "      <td>0.075452</td>\n",
       "    </tr>\n",
       "    <tr>\n",
       "      <th>1</th>\n",
       "      <td>в разводе</td>\n",
       "      <td>1195</td>\n",
       "      <td>85</td>\n",
       "      <td>0.071130</td>\n",
       "    </tr>\n",
       "    <tr>\n",
       "      <th>2</th>\n",
       "      <td>вдовец / вдова</td>\n",
       "      <td>959</td>\n",
       "      <td>63</td>\n",
       "      <td>0.065693</td>\n",
       "    </tr>\n",
       "  </tbody>\n",
       "</table>\n",
       "</div>"
      ],
      "text/plain": [
       "      Семейное положение  Нет просрочек  Просрочившие  Доля просрочивших\n",
       "0  Не женат / не замужем           2810           274           0.097509\n",
       "3       гражданский брак           4151           388           0.093471\n",
       "4        женат / замужем          12339           931           0.075452\n",
       "1              в разводе           1195            85           0.071130\n",
       "2         вдовец / вдова            959            63           0.065693"
      ]
     },
     "execution_count": 29,
     "metadata": {},
     "output_type": "execute_result"
    }
   ],
   "source": [
    "debt_from_family_status = create_table('family_status', data)\n",
    "debt_from_family_status = debt_from_family_status.rename(columns={'family_status': 'Семейное положение'})\n",
    "debt_from_family_status = debt_from_family_status.sort_values('Доля просрочивших', ascending=False)\n",
    "\n",
    "debt_from_family_status"
   ]
  },
  {
   "cell_type": "markdown",
   "id": "4d30c0ef",
   "metadata": {},
   "source": [
    "##### Вывод 2:"
   ]
  },
  {
   "cell_type": "markdown",
   "id": "98730453",
   "metadata": {},
   "source": [
    "Зависимость между семейным положением и возвратом кредита в срок есть. Клиенты не состоящие в официальном браке чаще остальных просрочиваю оплату 9.3 - 9.7 %.\n",
    "Мы видим уменьшение на 1.8 - 2.2% доли просрочивших оплату в категориях: женатых и разведенных, и заметное уменьшени доли просрочивших в категории 'вдовец / вдова' до 6.5 %."
   ]
  },
  {
   "cell_type": "markdown",
   "id": "7e79ba11",
   "metadata": {},
   "source": [
    "##### Вопрос 3:"
   ]
  },
  {
   "cell_type": "markdown",
   "id": "c09e0117",
   "metadata": {},
   "source": [
    "Для ответа на вопрос: 'Есть ли зависимость между уровнем дохода и возвратом кредита в срок?' создадим таблицу, в которой ранее разбитые категории уровня дохода клиентов будет являться категориями; кол-во клиентов в категории, кол-во просрочивших оплату клиентов и доля просрочивших клиентов - колонками таблицы, соответственно. Также отсортируем данные возростанию уровня доходов клиентов:"
   ]
  },
  {
   "cell_type": "code",
   "execution_count": 30,
   "id": "789e6b53",
   "metadata": {
    "scrolled": true
   },
   "outputs": [
    {
     "data": {
      "text/html": [
       "<div>\n",
       "<style scoped>\n",
       "    .dataframe tbody tr th:only-of-type {\n",
       "        vertical-align: middle;\n",
       "    }\n",
       "\n",
       "    .dataframe tbody tr th {\n",
       "        vertical-align: top;\n",
       "    }\n",
       "\n",
       "    .dataframe thead th {\n",
       "        text-align: right;\n",
       "    }\n",
       "</style>\n",
       "<table border=\"1\" class=\"dataframe\">\n",
       "  <thead>\n",
       "    <tr style=\"text-align: right;\">\n",
       "      <th></th>\n",
       "      <th>Уровень доходов</th>\n",
       "      <th>Нет просрочек</th>\n",
       "      <th>Просрочившие</th>\n",
       "      <th>Доля просрочивших</th>\n",
       "    </tr>\n",
       "  </thead>\n",
       "  <tbody>\n",
       "    <tr>\n",
       "      <th>4</th>\n",
       "      <td>E</td>\n",
       "      <td>22</td>\n",
       "      <td>2</td>\n",
       "      <td>0.090909</td>\n",
       "    </tr>\n",
       "    <tr>\n",
       "      <th>3</th>\n",
       "      <td>D</td>\n",
       "      <td>350</td>\n",
       "      <td>21</td>\n",
       "      <td>0.060000</td>\n",
       "    </tr>\n",
       "    <tr>\n",
       "      <th>2</th>\n",
       "      <td>C</td>\n",
       "      <td>15514</td>\n",
       "      <td>1330</td>\n",
       "      <td>0.085729</td>\n",
       "    </tr>\n",
       "    <tr>\n",
       "      <th>1</th>\n",
       "      <td>B</td>\n",
       "      <td>5543</td>\n",
       "      <td>386</td>\n",
       "      <td>0.069637</td>\n",
       "    </tr>\n",
       "    <tr>\n",
       "      <th>0</th>\n",
       "      <td>A</td>\n",
       "      <td>25</td>\n",
       "      <td>2</td>\n",
       "      <td>0.080000</td>\n",
       "    </tr>\n",
       "  </tbody>\n",
       "</table>\n",
       "</div>"
      ],
      "text/plain": [
       "  Уровень доходов  Нет просрочек  Просрочившие  Доля просрочивших\n",
       "4               E             22             2           0.090909\n",
       "3               D            350            21           0.060000\n",
       "2               C          15514          1330           0.085729\n",
       "1               B           5543           386           0.069637\n",
       "0               A             25             2           0.080000"
      ]
     },
     "execution_count": 30,
     "metadata": {},
     "output_type": "execute_result"
    }
   ],
   "source": [
    "debt_from_income_category = create_table('total_income_category', data) \n",
    "debt_from_income_category = debt_from_income_category.rename(columns={'total_income_category': 'Уровень доходов'})\n",
    "debt_from_income_category = debt_from_income_category.sort_values('Уровень доходов', ascending=False)\n",
    "debt_from_income_category"
   ]
  },
  {
   "cell_type": "markdown",
   "id": "bec3bb44",
   "metadata": {},
   "source": [
    "##### Вывод 3:"
   ]
  },
  {
   "cell_type": "markdown",
   "id": "5356d5e2",
   "metadata": {},
   "source": [
    "Зависимости между уровнем дохода и возвратом кредита в срок не наблюдается, данные выборки не однозначны, требуется более обширная выборка по категориям дохода."
   ]
  },
  {
   "cell_type": "markdown",
   "id": "8f6c06ff",
   "metadata": {},
   "source": [
    "##### Вопрос 4:"
   ]
  },
  {
   "cell_type": "markdown",
   "id": "342f1403",
   "metadata": {},
   "source": [
    "Для ответа на вопрос: 'Есть ли зависимость между целями кредитования и возвратом кредита в срок?' создадим таблицу, в которой цели кредитования будет являться категориями; кол-во клиентов в категории, кол-во просрочивших оплату клиентов и доля просрочивших клиентов - колонками таблицы, соответственно. Также отсортируем данные по убыванию доли просрочивщих оплату клиентов:"
   ]
  },
  {
   "cell_type": "code",
   "execution_count": 31,
   "id": "47eb1aa6",
   "metadata": {},
   "outputs": [
    {
     "data": {
      "text/html": [
       "<div>\n",
       "<style scoped>\n",
       "    .dataframe tbody tr th:only-of-type {\n",
       "        vertical-align: middle;\n",
       "    }\n",
       "\n",
       "    .dataframe tbody tr th {\n",
       "        vertical-align: top;\n",
       "    }\n",
       "\n",
       "    .dataframe thead th {\n",
       "        text-align: right;\n",
       "    }\n",
       "</style>\n",
       "<table border=\"1\" class=\"dataframe\">\n",
       "  <thead>\n",
       "    <tr style=\"text-align: right;\">\n",
       "      <th></th>\n",
       "      <th>Цель кредитования</th>\n",
       "      <th>Нет просрочек</th>\n",
       "      <th>Просрочившие</th>\n",
       "      <th>Доля просрочивших</th>\n",
       "    </tr>\n",
       "  </thead>\n",
       "  <tbody>\n",
       "    <tr>\n",
       "      <th>0</th>\n",
       "      <td>операции с автомобилем</td>\n",
       "      <td>4306</td>\n",
       "      <td>403</td>\n",
       "      <td>0.093590</td>\n",
       "    </tr>\n",
       "    <tr>\n",
       "      <th>2</th>\n",
       "      <td>получение образования</td>\n",
       "      <td>4013</td>\n",
       "      <td>370</td>\n",
       "      <td>0.092200</td>\n",
       "    </tr>\n",
       "    <tr>\n",
       "      <th>3</th>\n",
       "      <td>проведение свадьбы</td>\n",
       "      <td>2324</td>\n",
       "      <td>186</td>\n",
       "      <td>0.080034</td>\n",
       "    </tr>\n",
       "    <tr>\n",
       "      <th>1</th>\n",
       "      <td>операции с недвижимостью</td>\n",
       "      <td>10811</td>\n",
       "      <td>782</td>\n",
       "      <td>0.072334</td>\n",
       "    </tr>\n",
       "  </tbody>\n",
       "</table>\n",
       "</div>"
      ],
      "text/plain": [
       "          Цель кредитования  Нет просрочек  Просрочившие  Доля просрочивших\n",
       "0    операции с автомобилем           4306           403           0.093590\n",
       "2     получение образования           4013           370           0.092200\n",
       "3        проведение свадьбы           2324           186           0.080034\n",
       "1  операции с недвижимостью          10811           782           0.072334"
      ]
     },
     "execution_count": 31,
     "metadata": {},
     "output_type": "execute_result"
    }
   ],
   "source": [
    "debt_from_purpose_category = create_table('purpose_category', data)    \n",
    "debt_from_purpose_category = debt_from_purpose_category.rename(columns={'purpose_category': 'Цель кредитования'})\n",
    "debt_from_purpose_category = debt_from_purpose_category.sort_values('Доля просрочивших', ascending=False)\n",
    "debt_from_purpose_category\n"
   ]
  },
  {
   "cell_type": "markdown",
   "id": "ffb8307d",
   "metadata": {},
   "source": [
    "##### Вывод 4:"
   ]
  },
  {
   "cell_type": "markdown",
   "id": "49da8d45",
   "metadata": {},
   "source": [
    "Зависимость между целями кредита и его возврат в срок есть. Операции с автомобилем и получения образования имеют наиболее высокую долю просрочивших кредит 9.3 и 9.2 процентов соответсвенно. Клиенты взявшие кредит проведения свадьбы просрочивают оплату в 8 % случаев. Самые надежные клиенты берут кредит на операции с недвижимостью, просрочка в этой категории всего 7 %."
   ]
  },
  {
   "cell_type": "markdown",
   "id": "de5a4213",
   "metadata": {},
   "source": [
    "## Общий вывод:"
   ]
  },
  {
   "cell_type": "markdown",
   "id": "595e4e36",
   "metadata": {},
   "source": [
    " В ходе проекта мы ознакомились с данными, обработали пустые значения с учетом категорий, избавились от дублирующих записей. Затем стандартизировали типы данных и значения для категоризации по целям кредитования и категориям дохода. Для решения поставленных задач и ответов на вопросы, мы построили таблицы зависимости целевого показателя 'debt' (факт просрочки по кредиту) от: количества детей, семейного положения, категории дохода и целей кредитования.\n",
    "    \n",
    " Общий вывод - чем больше детей, тем чаще платят не в срок. Бездетные реже просрачивают оплату. Семейное положение влияет на вероятность просрочки по кредиту - люди, бывшие в браке чаще плятят в срок чем те, кто не бывали в браке, причем разведенные и овдовевшие платят в срок чаще, чем люди в браке. Автокредиты и получение образования - цели по которым чаще наблюдаются просрочки, на проведение свадеб и на операции с недвижимостью - просрочивают платежи реже."
   ]
  },
  {
   "cell_type": "markdown",
   "id": "6abfd9e5",
   "metadata": {},
   "source": [
    "Привет), Приятно познакомиться, внес правки по твоим замечаниям, спасибо за комментарии!"
   ]
  }
 ],
 "metadata": {
  "ExecuteTimeLog": [
   {
    "duration": 731,
    "start_time": "2022-06-03T07:36:23.907Z"
   },
   {
    "duration": 16,
    "start_time": "2022-06-03T07:38:38.140Z"
   },
   {
    "duration": 6,
    "start_time": "2022-06-03T07:44:02.934Z"
   },
   {
    "duration": 4,
    "start_time": "2022-06-03T07:44:10.364Z"
   },
   {
    "duration": 71,
    "start_time": "2022-06-03T07:44:21.731Z"
   },
   {
    "duration": 10,
    "start_time": "2022-06-03T07:44:42.979Z"
   },
   {
    "duration": 12,
    "start_time": "2022-06-03T07:44:52.735Z"
   },
   {
    "duration": 10,
    "start_time": "2022-06-03T07:44:59.978Z"
   },
   {
    "duration": 6,
    "start_time": "2022-06-03T07:45:17.744Z"
   },
   {
    "duration": 6,
    "start_time": "2022-06-03T07:45:43.095Z"
   },
   {
    "duration": 6,
    "start_time": "2022-06-03T07:45:49.691Z"
   },
   {
    "duration": 39,
    "start_time": "2022-06-03T07:46:59.128Z"
   },
   {
    "duration": 3,
    "start_time": "2022-06-03T07:47:14.141Z"
   },
   {
    "duration": 5,
    "start_time": "2022-06-03T07:47:20.863Z"
   },
   {
    "duration": 11,
    "start_time": "2022-06-03T07:48:22.926Z"
   },
   {
    "duration": 12,
    "start_time": "2022-06-03T07:49:37.272Z"
   },
   {
    "duration": 22,
    "start_time": "2022-06-03T07:51:43.415Z"
   },
   {
    "duration": 7,
    "start_time": "2022-06-03T07:51:49.843Z"
   },
   {
    "duration": 6,
    "start_time": "2022-06-03T07:52:05.836Z"
   },
   {
    "duration": 8,
    "start_time": "2022-06-03T07:53:01.669Z"
   },
   {
    "duration": 12,
    "start_time": "2022-06-03T07:53:12.040Z"
   },
   {
    "duration": 4,
    "start_time": "2022-06-03T07:53:22.167Z"
   },
   {
    "duration": 4,
    "start_time": "2022-06-03T07:53:53.380Z"
   },
   {
    "duration": 34,
    "start_time": "2022-06-03T07:54:12.407Z"
   },
   {
    "duration": 4,
    "start_time": "2022-06-03T07:54:17.354Z"
   },
   {
    "duration": 4,
    "start_time": "2022-06-03T07:54:28.303Z"
   },
   {
    "duration": 6,
    "start_time": "2022-06-03T07:54:48.040Z"
   },
   {
    "duration": 4,
    "start_time": "2022-06-03T07:55:03.745Z"
   },
   {
    "duration": 12,
    "start_time": "2022-06-03T08:05:49.134Z"
   },
   {
    "duration": 28,
    "start_time": "2022-06-03T08:09:24.355Z"
   },
   {
    "duration": 14,
    "start_time": "2022-06-03T08:09:40.254Z"
   },
   {
    "duration": 8,
    "start_time": "2022-06-03T08:09:59.684Z"
   },
   {
    "duration": 15,
    "start_time": "2022-06-03T08:10:06.387Z"
   },
   {
    "duration": 32,
    "start_time": "2022-06-03T08:11:51.523Z"
   },
   {
    "duration": 10,
    "start_time": "2022-06-03T08:11:57.858Z"
   },
   {
    "duration": 14,
    "start_time": "2022-06-03T08:12:02.753Z"
   },
   {
    "duration": 9,
    "start_time": "2022-06-03T08:12:08.547Z"
   },
   {
    "duration": 9,
    "start_time": "2022-06-03T08:12:13.504Z"
   },
   {
    "duration": 10,
    "start_time": "2022-06-03T08:12:18.147Z"
   },
   {
    "duration": 10,
    "start_time": "2022-06-03T08:12:43.839Z"
   },
   {
    "duration": 4,
    "start_time": "2022-06-03T08:18:04.478Z"
   },
   {
    "duration": 5,
    "start_time": "2022-06-03T08:19:39.008Z"
   },
   {
    "duration": 5,
    "start_time": "2022-06-03T08:19:47.004Z"
   },
   {
    "duration": 7,
    "start_time": "2022-06-03T08:21:18.441Z"
   },
   {
    "duration": 5,
    "start_time": "2022-06-03T08:21:26.480Z"
   },
   {
    "duration": 4,
    "start_time": "2022-06-03T08:21:40.495Z"
   },
   {
    "duration": 21,
    "start_time": "2022-06-03T08:22:08.578Z"
   },
   {
    "duration": 5,
    "start_time": "2022-06-03T08:22:22.784Z"
   },
   {
    "duration": 4,
    "start_time": "2022-06-03T08:22:27.901Z"
   },
   {
    "duration": 8,
    "start_time": "2022-06-03T08:22:38.825Z"
   },
   {
    "duration": 119,
    "start_time": "2022-06-03T08:24:23.994Z"
   },
   {
    "duration": 7,
    "start_time": "2022-06-03T08:54:07.265Z"
   },
   {
    "duration": 7,
    "start_time": "2022-06-03T08:54:28.791Z"
   },
   {
    "duration": 8,
    "start_time": "2022-06-03T08:54:45.761Z"
   },
   {
    "duration": 6,
    "start_time": "2022-06-03T08:54:54.316Z"
   },
   {
    "duration": 36,
    "start_time": "2022-06-03T08:55:48.955Z"
   },
   {
    "duration": 4,
    "start_time": "2022-06-03T08:56:18.412Z"
   },
   {
    "duration": 4,
    "start_time": "2022-06-03T09:01:31.405Z"
   },
   {
    "duration": 7,
    "start_time": "2022-06-03T09:01:37.796Z"
   },
   {
    "duration": 29,
    "start_time": "2022-06-03T09:01:42.447Z"
   },
   {
    "duration": 15,
    "start_time": "2022-06-03T09:07:30.432Z"
   },
   {
    "duration": 10,
    "start_time": "2022-06-03T09:07:42.012Z"
   },
   {
    "duration": 50,
    "start_time": "2022-06-03T09:08:13.800Z"
   },
   {
    "duration": 15,
    "start_time": "2022-06-03T09:08:29.587Z"
   },
   {
    "duration": 23,
    "start_time": "2022-06-03T09:09:39.741Z"
   },
   {
    "duration": 11,
    "start_time": "2022-06-03T09:12:38.882Z"
   },
   {
    "duration": 12,
    "start_time": "2022-06-03T09:13:52.966Z"
   },
   {
    "duration": 14,
    "start_time": "2022-06-03T09:14:52.818Z"
   },
   {
    "duration": 28,
    "start_time": "2022-06-03T09:15:17.344Z"
   },
   {
    "duration": 27,
    "start_time": "2022-06-03T09:15:48.116Z"
   },
   {
    "duration": 18,
    "start_time": "2022-06-03T09:15:53.642Z"
   },
   {
    "duration": 17,
    "start_time": "2022-06-03T09:15:57.561Z"
   },
   {
    "duration": 25,
    "start_time": "2022-06-03T09:17:15.988Z"
   },
   {
    "duration": 27,
    "start_time": "2022-06-03T09:17:40.548Z"
   },
   {
    "duration": 40,
    "start_time": "2022-06-03T09:17:52.382Z"
   },
   {
    "duration": 8,
    "start_time": "2022-06-03T09:20:35.362Z"
   },
   {
    "duration": 6,
    "start_time": "2022-06-03T09:21:09.497Z"
   },
   {
    "duration": 8,
    "start_time": "2022-06-03T09:21:30.077Z"
   },
   {
    "duration": 6,
    "start_time": "2022-06-03T09:21:57.662Z"
   },
   {
    "duration": 11,
    "start_time": "2022-06-03T09:29:06.904Z"
   },
   {
    "duration": 36,
    "start_time": "2022-06-03T09:29:21.756Z"
   },
   {
    "duration": 61,
    "start_time": "2022-06-03T09:29:33.983Z"
   },
   {
    "duration": 22,
    "start_time": "2022-06-03T09:30:22.892Z"
   },
   {
    "duration": 48,
    "start_time": "2022-06-03T09:30:53.367Z"
   },
   {
    "duration": 15,
    "start_time": "2022-06-03T09:32:09.944Z"
   },
   {
    "duration": 112,
    "start_time": "2022-06-03T09:32:28.848Z"
   },
   {
    "duration": 102,
    "start_time": "2022-06-03T09:32:34.610Z"
   },
   {
    "duration": 27,
    "start_time": "2022-06-03T09:32:38.641Z"
   },
   {
    "duration": 61,
    "start_time": "2022-06-03T09:32:39.808Z"
   },
   {
    "duration": 5,
    "start_time": "2022-06-03T09:32:48.700Z"
   },
   {
    "duration": 4,
    "start_time": "2022-06-03T09:32:52.491Z"
   },
   {
    "duration": 5,
    "start_time": "2022-06-03T09:32:53.887Z"
   },
   {
    "duration": 4,
    "start_time": "2022-06-03T09:33:18.119Z"
   },
   {
    "duration": 21,
    "start_time": "2022-06-03T09:33:21.292Z"
   },
   {
    "duration": 17,
    "start_time": "2022-06-03T09:33:25.834Z"
   },
   {
    "duration": 27,
    "start_time": "2022-06-03T09:33:30.126Z"
   },
   {
    "duration": 15,
    "start_time": "2022-06-03T09:33:36.293Z"
   },
   {
    "duration": 12,
    "start_time": "2022-06-03T09:33:38.819Z"
   },
   {
    "duration": 17,
    "start_time": "2022-06-03T09:33:45.357Z"
   },
   {
    "duration": 45,
    "start_time": "2022-06-03T09:33:50.016Z"
   },
   {
    "duration": 52,
    "start_time": "2022-06-03T09:33:51.260Z"
   },
   {
    "duration": 5,
    "start_time": "2022-06-03T09:34:03.814Z"
   },
   {
    "duration": 6,
    "start_time": "2022-06-03T09:36:08.488Z"
   },
   {
    "duration": 4,
    "start_time": "2022-06-03T09:48:08.771Z"
   },
   {
    "duration": 6,
    "start_time": "2022-06-03T09:48:09.387Z"
   },
   {
    "duration": 81,
    "start_time": "2022-06-03T09:48:14.837Z"
   },
   {
    "duration": 14,
    "start_time": "2022-06-03T09:48:15.790Z"
   },
   {
    "duration": 5,
    "start_time": "2022-06-03T09:48:17.382Z"
   },
   {
    "duration": 4,
    "start_time": "2022-06-03T09:48:18.236Z"
   },
   {
    "duration": 16,
    "start_time": "2022-06-03T09:48:19.222Z"
   },
   {
    "duration": 8,
    "start_time": "2022-06-03T09:48:20.080Z"
   },
   {
    "duration": 54,
    "start_time": "2022-06-03T09:48:20.803Z"
   },
   {
    "duration": 14,
    "start_time": "2022-06-03T09:48:26.857Z"
   },
   {
    "duration": 4,
    "start_time": "2022-06-03T09:48:31.248Z"
   },
   {
    "duration": 5,
    "start_time": "2022-06-03T09:48:35.094Z"
   },
   {
    "duration": 12,
    "start_time": "2022-06-03T09:48:38.938Z"
   },
   {
    "duration": 6,
    "start_time": "2022-06-03T09:48:39.663Z"
   },
   {
    "duration": 18,
    "start_time": "2022-06-03T09:53:46.665Z"
   },
   {
    "duration": 33,
    "start_time": "2022-06-03T09:53:47.654Z"
   },
   {
    "duration": 18,
    "start_time": "2022-06-03T09:56:14.083Z"
   },
   {
    "duration": 14,
    "start_time": "2022-06-03T09:59:19.822Z"
   },
   {
    "duration": 7,
    "start_time": "2022-06-03T09:59:20.393Z"
   },
   {
    "duration": 12,
    "start_time": "2022-06-03T09:59:22.000Z"
   },
   {
    "duration": 17,
    "start_time": "2022-06-03T09:59:23.572Z"
   },
   {
    "duration": 30,
    "start_time": "2022-06-03T09:59:23.979Z"
   },
   {
    "duration": 17,
    "start_time": "2022-06-03T09:59:25.221Z"
   },
   {
    "duration": 40,
    "start_time": "2022-06-03T10:02:00.248Z"
   },
   {
    "duration": 5,
    "start_time": "2022-06-03T10:02:09.242Z"
   },
   {
    "duration": 10,
    "start_time": "2022-06-03T10:02:16.731Z"
   },
   {
    "duration": 7,
    "start_time": "2022-06-03T10:03:32.475Z"
   },
   {
    "duration": 24,
    "start_time": "2022-06-03T10:05:32.873Z"
   },
   {
    "duration": 4,
    "start_time": "2022-06-03T10:05:46.350Z"
   },
   {
    "duration": 5,
    "start_time": "2022-06-03T10:05:53.774Z"
   },
   {
    "duration": 5,
    "start_time": "2022-06-03T10:06:01.749Z"
   },
   {
    "duration": 11,
    "start_time": "2022-06-03T10:06:18.969Z"
   },
   {
    "duration": 10,
    "start_time": "2022-06-03T10:06:26.014Z"
   },
   {
    "duration": 17,
    "start_time": "2022-06-03T10:06:35.793Z"
   },
   {
    "duration": 19,
    "start_time": "2022-06-03T10:06:40.050Z"
   },
   {
    "duration": 14,
    "start_time": "2022-06-03T10:06:48.944Z"
   },
   {
    "duration": 18,
    "start_time": "2022-06-03T10:06:54.532Z"
   },
   {
    "duration": 10,
    "start_time": "2022-06-03T10:09:43.376Z"
   },
   {
    "duration": 28,
    "start_time": "2022-06-03T10:09:52.532Z"
   },
   {
    "duration": 14,
    "start_time": "2022-06-03T10:10:06.374Z"
   },
   {
    "duration": 89,
    "start_time": "2022-06-03T10:11:24.831Z"
   },
   {
    "duration": 18,
    "start_time": "2022-06-03T10:11:31.650Z"
   },
   {
    "duration": 11,
    "start_time": "2022-06-03T10:11:44.081Z"
   },
   {
    "duration": 540,
    "start_time": "2022-06-03T10:12:19.778Z"
   },
   {
    "duration": 28,
    "start_time": "2022-06-03T10:12:35.711Z"
   },
   {
    "duration": 548,
    "start_time": "2022-06-03T10:13:20.181Z"
   },
   {
    "duration": 11,
    "start_time": "2022-06-03T10:14:02.787Z"
   },
   {
    "duration": 4,
    "start_time": "2022-06-03T10:14:08.886Z"
   },
   {
    "duration": 7,
    "start_time": "2022-06-03T10:14:13.035Z"
   },
   {
    "duration": 9,
    "start_time": "2022-06-03T10:14:21.376Z"
   },
   {
    "duration": 552,
    "start_time": "2022-06-03T10:16:01.876Z"
   },
   {
    "duration": 11,
    "start_time": "2022-06-03T10:16:13.769Z"
   },
   {
    "duration": 13,
    "start_time": "2022-06-03T10:16:24.852Z"
   },
   {
    "duration": 26,
    "start_time": "2022-06-03T10:16:50.913Z"
   },
   {
    "duration": 458,
    "start_time": "2022-06-03T10:17:04.921Z"
   },
   {
    "duration": 11,
    "start_time": "2022-06-03T10:17:09.688Z"
   },
   {
    "duration": 16,
    "start_time": "2022-06-03T10:17:14.928Z"
   },
   {
    "duration": 14,
    "start_time": "2022-06-03T10:17:19.209Z"
   },
   {
    "duration": 10,
    "start_time": "2022-06-03T10:17:23.519Z"
   },
   {
    "duration": 11,
    "start_time": "2022-06-03T10:17:31.221Z"
   },
   {
    "duration": 5,
    "start_time": "2022-06-03T10:17:38.363Z"
   },
   {
    "duration": 10,
    "start_time": "2022-06-03T10:17:40.370Z"
   },
   {
    "duration": 4,
    "start_time": "2022-06-03T10:18:00.398Z"
   },
   {
    "duration": 10,
    "start_time": "2022-06-03T10:18:23.853Z"
   },
   {
    "duration": 7,
    "start_time": "2022-06-03T10:18:34.217Z"
   },
   {
    "duration": 16,
    "start_time": "2022-06-03T10:18:44.213Z"
   },
   {
    "duration": 4,
    "start_time": "2022-06-03T10:19:09.576Z"
   },
   {
    "duration": 5,
    "start_time": "2022-06-03T10:19:30.348Z"
   },
   {
    "duration": 6,
    "start_time": "2022-06-03T10:19:38.880Z"
   },
   {
    "duration": 34,
    "start_time": "2022-06-03T10:20:51.585Z"
   },
   {
    "duration": 19,
    "start_time": "2022-06-03T10:20:56.982Z"
   },
   {
    "duration": 6,
    "start_time": "2022-06-03T10:21:11.978Z"
   },
   {
    "duration": 15,
    "start_time": "2022-06-03T10:26:59.300Z"
   },
   {
    "duration": 18,
    "start_time": "2022-06-03T10:27:43.956Z"
   },
   {
    "duration": 12,
    "start_time": "2022-06-03T10:27:54.147Z"
   },
   {
    "duration": 17,
    "start_time": "2022-06-03T10:28:00.752Z"
   },
   {
    "duration": 24,
    "start_time": "2022-06-03T10:28:12.921Z"
   },
   {
    "duration": 14,
    "start_time": "2022-06-03T10:28:26.149Z"
   },
   {
    "duration": 580,
    "start_time": "2022-06-03T10:29:02.974Z"
   },
   {
    "duration": 483,
    "start_time": "2022-06-03T10:29:14.350Z"
   },
   {
    "duration": 19,
    "start_time": "2022-06-03T10:29:18.778Z"
   },
   {
    "duration": 32,
    "start_time": "2022-06-03T10:29:27.404Z"
   },
   {
    "duration": 0,
    "start_time": "2022-06-03T10:30:07.085Z"
   },
   {
    "duration": 13,
    "start_time": "2022-06-03T10:30:49.552Z"
   },
   {
    "duration": 20,
    "start_time": "2022-06-03T10:31:21.610Z"
   },
   {
    "duration": 14,
    "start_time": "2022-06-03T10:31:34.821Z"
   },
   {
    "duration": 16,
    "start_time": "2022-06-03T10:31:51.587Z"
   },
   {
    "duration": 19,
    "start_time": "2022-06-03T10:32:19.244Z"
   },
   {
    "duration": 13,
    "start_time": "2022-06-03T10:32:43.988Z"
   },
   {
    "duration": 16,
    "start_time": "2022-06-03T10:33:19.993Z"
   },
   {
    "duration": 17,
    "start_time": "2022-06-03T10:33:43.783Z"
   },
   {
    "duration": 14,
    "start_time": "2022-06-03T10:34:00.148Z"
   },
   {
    "duration": 12,
    "start_time": "2022-06-03T10:34:20.579Z"
   },
   {
    "duration": 12,
    "start_time": "2022-06-03T10:34:25.144Z"
   },
   {
    "duration": 4,
    "start_time": "2022-06-03T10:34:51.279Z"
   },
   {
    "duration": 5,
    "start_time": "2022-06-03T10:35:03.496Z"
   },
   {
    "duration": 798,
    "start_time": "2022-06-03T10:35:14.576Z"
   },
   {
    "duration": 515,
    "start_time": "2022-06-03T10:35:25.774Z"
   },
   {
    "duration": 446,
    "start_time": "2022-06-03T10:35:53.074Z"
   },
   {
    "duration": 14,
    "start_time": "2022-06-03T10:36:02.846Z"
   },
   {
    "duration": 6,
    "start_time": "2022-06-03T10:36:15.663Z"
   },
   {
    "duration": 4,
    "start_time": "2022-06-03T10:36:23.544Z"
   },
   {
    "duration": 6,
    "start_time": "2022-06-03T10:36:26.905Z"
   },
   {
    "duration": 11,
    "start_time": "2022-06-03T10:36:48.552Z"
   },
   {
    "duration": 11,
    "start_time": "2022-06-03T10:37:07.959Z"
   },
   {
    "duration": 11,
    "start_time": "2022-06-03T10:37:39.862Z"
   },
   {
    "duration": 6,
    "start_time": "2022-06-03T10:38:01.760Z"
   },
   {
    "duration": 18,
    "start_time": "2022-06-03T10:38:14.421Z"
   },
   {
    "duration": 4,
    "start_time": "2022-06-03T10:38:18.588Z"
   },
   {
    "duration": 6,
    "start_time": "2022-06-03T10:38:22.499Z"
   },
   {
    "duration": 11,
    "start_time": "2022-06-03T10:40:33.794Z"
   },
   {
    "duration": 20,
    "start_time": "2022-06-03T10:40:39.535Z"
   },
   {
    "duration": 379,
    "start_time": "2022-06-03T10:45:50.910Z"
   },
   {
    "duration": 333,
    "start_time": "2022-06-03T10:45:59.133Z"
   },
   {
    "duration": 359,
    "start_time": "2022-06-03T10:46:13.925Z"
   },
   {
    "duration": 14,
    "start_time": "2022-06-03T10:48:00.650Z"
   },
   {
    "duration": 17,
    "start_time": "2022-06-03T10:49:10.559Z"
   },
   {
    "duration": 14,
    "start_time": "2022-06-03T10:49:15.855Z"
   },
   {
    "duration": 22,
    "start_time": "2022-06-03T10:49:23.810Z"
   },
   {
    "duration": 17,
    "start_time": "2022-06-03T10:50:07.194Z"
   },
   {
    "duration": 12,
    "start_time": "2022-06-03T10:50:18.493Z"
   },
   {
    "duration": 143,
    "start_time": "2022-06-03T10:52:00.914Z"
   },
   {
    "duration": 12,
    "start_time": "2022-06-03T10:52:18.046Z"
   },
   {
    "duration": 16,
    "start_time": "2022-06-03T10:52:26.114Z"
   },
   {
    "duration": 14,
    "start_time": "2022-06-03T10:52:59.206Z"
   },
   {
    "duration": 15,
    "start_time": "2022-06-03T10:53:05.039Z"
   },
   {
    "duration": 17,
    "start_time": "2022-06-03T10:53:31.139Z"
   },
   {
    "duration": 15,
    "start_time": "2022-06-03T12:11:08.842Z"
   },
   {
    "duration": 22,
    "start_time": "2022-06-03T12:12:22.156Z"
   },
   {
    "duration": 14,
    "start_time": "2022-06-03T12:12:38.240Z"
   },
   {
    "duration": 8,
    "start_time": "2022-06-03T12:13:16.796Z"
   },
   {
    "duration": 15,
    "start_time": "2022-06-03T12:13:21.436Z"
   },
   {
    "duration": 20,
    "start_time": "2022-06-03T12:13:27.432Z"
   },
   {
    "duration": 143,
    "start_time": "2022-06-03T12:13:44.062Z"
   },
   {
    "duration": 16,
    "start_time": "2022-06-03T12:14:24.005Z"
   },
   {
    "duration": 15,
    "start_time": "2022-06-03T12:15:58.553Z"
   },
   {
    "duration": 32,
    "start_time": "2022-06-03T12:16:50.245Z"
   },
   {
    "duration": 25,
    "start_time": "2022-06-03T12:16:57.993Z"
   },
   {
    "duration": 48,
    "start_time": "2022-06-03T12:17:05.639Z"
   },
   {
    "duration": 50,
    "start_time": "2022-06-03T12:17:11.988Z"
   },
   {
    "duration": 19,
    "start_time": "2022-06-03T12:17:32.795Z"
   },
   {
    "duration": 15,
    "start_time": "2022-06-03T12:17:41.039Z"
   },
   {
    "duration": 13,
    "start_time": "2022-06-03T12:18:00.299Z"
   },
   {
    "duration": 23,
    "start_time": "2022-06-03T12:18:04.510Z"
   },
   {
    "duration": 20,
    "start_time": "2022-06-03T12:18:44.974Z"
   },
   {
    "duration": 9,
    "start_time": "2022-06-03T12:21:12.171Z"
   },
   {
    "duration": 10,
    "start_time": "2022-06-03T12:26:40.970Z"
   },
   {
    "duration": 5,
    "start_time": "2022-06-03T12:26:49.513Z"
   },
   {
    "duration": 299,
    "start_time": "2022-06-03T12:26:49.919Z"
   },
   {
    "duration": 311,
    "start_time": "2022-06-03T12:27:15.004Z"
   },
   {
    "duration": 250,
    "start_time": "2022-06-03T12:27:37.402Z"
   },
   {
    "duration": 327,
    "start_time": "2022-06-03T12:28:56.960Z"
   },
   {
    "duration": 368,
    "start_time": "2022-06-03T12:29:16.637Z"
   },
   {
    "duration": 1109,
    "start_time": "2022-06-03T12:32:08.710Z"
   },
   {
    "duration": 65,
    "start_time": "2022-06-03T12:34:42.260Z"
   },
   {
    "duration": 3840,
    "start_time": "2022-06-03T12:34:57.648Z"
   },
   {
    "duration": 3332,
    "start_time": "2022-06-03T12:35:46.723Z"
   },
   {
    "duration": 4232,
    "start_time": "2022-06-03T12:36:01.236Z"
   },
   {
    "duration": 3637,
    "start_time": "2022-06-03T12:36:13.122Z"
   },
   {
    "duration": 712,
    "start_time": "2022-06-03T12:43:46.136Z"
   },
   {
    "duration": 27,
    "start_time": "2022-06-03T12:44:10.643Z"
   },
   {
    "duration": 20,
    "start_time": "2022-06-03T12:44:54.684Z"
   },
   {
    "duration": 110,
    "start_time": "2022-06-03T12:45:12.631Z"
   },
   {
    "duration": 24,
    "start_time": "2022-06-03T12:45:25.668Z"
   },
   {
    "duration": 34,
    "start_time": "2022-06-03T12:45:41.941Z"
   },
   {
    "duration": 944,
    "start_time": "2022-06-03T12:47:20.026Z"
   },
   {
    "duration": 15,
    "start_time": "2022-06-03T12:47:53.640Z"
   },
   {
    "duration": 255,
    "start_time": "2022-06-03T12:48:27.505Z"
   },
   {
    "duration": 16,
    "start_time": "2022-06-03T12:48:28.135Z"
   },
   {
    "duration": 17,
    "start_time": "2022-06-03T12:48:37.190Z"
   },
   {
    "duration": 9,
    "start_time": "2022-06-03T12:48:37.561Z"
   },
   {
    "duration": 21,
    "start_time": "2022-06-03T12:48:38.214Z"
   },
   {
    "duration": 29,
    "start_time": "2022-06-03T12:48:38.868Z"
   },
   {
    "duration": 35,
    "start_time": "2022-06-03T12:48:39.071Z"
   },
   {
    "duration": 31,
    "start_time": "2022-06-03T12:48:39.470Z"
   },
   {
    "duration": 18,
    "start_time": "2022-06-03T12:48:39.877Z"
   },
   {
    "duration": 15,
    "start_time": "2022-06-03T12:48:40.068Z"
   },
   {
    "duration": 30,
    "start_time": "2022-06-03T12:48:40.279Z"
   },
   {
    "duration": 424,
    "start_time": "2022-06-03T12:48:41.183Z"
   },
   {
    "duration": 13,
    "start_time": "2022-06-03T12:48:42.123Z"
   },
   {
    "duration": 11,
    "start_time": "2022-06-03T12:48:42.742Z"
   },
   {
    "duration": 363,
    "start_time": "2022-06-03T12:48:43.174Z"
   },
   {
    "duration": 4047,
    "start_time": "2022-06-03T12:48:43.672Z"
   },
   {
    "duration": 3111,
    "start_time": "2022-06-03T12:49:12.142Z"
   },
   {
    "duration": 3380,
    "start_time": "2022-06-03T12:51:24.265Z"
   },
   {
    "duration": 679,
    "start_time": "2022-06-03T12:52:22.189Z"
   },
   {
    "duration": 831,
    "start_time": "2022-06-03T12:52:35.052Z"
   },
   {
    "duration": 7,
    "start_time": "2022-06-03T12:52:52.053Z"
   },
   {
    "duration": 311,
    "start_time": "2022-06-03T12:55:10.435Z"
   },
   {
    "duration": 282,
    "start_time": "2022-06-03T12:55:40.075Z"
   },
   {
    "duration": 5,
    "start_time": "2022-06-04T07:53:54.141Z"
   },
   {
    "duration": 10,
    "start_time": "2022-06-04T07:54:07.962Z"
   },
   {
    "duration": 5,
    "start_time": "2022-06-04T07:54:14.861Z"
   },
   {
    "duration": 5,
    "start_time": "2022-06-04T07:54:36.513Z"
   },
   {
    "duration": 10,
    "start_time": "2022-06-04T07:54:41.316Z"
   },
   {
    "duration": 4,
    "start_time": "2022-06-04T07:54:49.073Z"
   },
   {
    "duration": 2468,
    "start_time": "2022-06-04T07:57:05.928Z"
   },
   {
    "duration": 445,
    "start_time": "2022-06-04T07:57:22.330Z"
   },
   {
    "duration": 2900,
    "start_time": "2022-06-04T08:00:02.006Z"
   },
   {
    "duration": 504,
    "start_time": "2022-06-04T08:00:27.076Z"
   },
   {
    "duration": 2097,
    "start_time": "2022-06-04T08:04:35.164Z"
   },
   {
    "duration": 2168,
    "start_time": "2022-06-04T08:05:02.557Z"
   },
   {
    "duration": 324,
    "start_time": "2022-06-04T08:05:10.530Z"
   },
   {
    "duration": 16,
    "start_time": "2022-06-04T08:10:44.668Z"
   },
   {
    "duration": 6,
    "start_time": "2022-06-04T08:10:52.243Z"
   },
   {
    "duration": 14,
    "start_time": "2022-06-04T08:10:56.465Z"
   },
   {
    "duration": 14,
    "start_time": "2022-06-04T08:11:11.168Z"
   },
   {
    "duration": 7,
    "start_time": "2022-06-04T08:11:50.178Z"
   },
   {
    "duration": 14,
    "start_time": "2022-06-04T08:11:54.313Z"
   },
   {
    "duration": 15,
    "start_time": "2022-06-04T08:12:20.836Z"
   },
   {
    "duration": 14,
    "start_time": "2022-06-04T08:12:38.421Z"
   },
   {
    "duration": 2204,
    "start_time": "2022-06-04T08:12:50.709Z"
   },
   {
    "duration": 11,
    "start_time": "2022-06-04T08:24:03.539Z"
   },
   {
    "duration": 10,
    "start_time": "2022-06-04T08:25:05.714Z"
   },
   {
    "duration": 16,
    "start_time": "2022-06-04T08:26:20.148Z"
   },
   {
    "duration": 2071,
    "start_time": "2022-06-04T08:27:50.600Z"
   },
   {
    "duration": 2090,
    "start_time": "2022-06-04T08:29:06.741Z"
   },
   {
    "duration": 2800,
    "start_time": "2022-06-04T08:29:43.000Z"
   },
   {
    "duration": 2040,
    "start_time": "2022-06-04T08:34:25.312Z"
   },
   {
    "duration": 2086,
    "start_time": "2022-06-04T08:35:47.432Z"
   },
   {
    "duration": 32,
    "start_time": "2022-06-04T08:38:12.441Z"
   },
   {
    "duration": 2317,
    "start_time": "2022-06-04T08:38:23.355Z"
   },
   {
    "duration": 3478,
    "start_time": "2022-06-04T08:38:55.865Z"
   },
   {
    "duration": 3451,
    "start_time": "2022-06-04T08:43:19.204Z"
   },
   {
    "duration": 5,
    "start_time": "2022-06-04T08:50:45.057Z"
   },
   {
    "duration": 278,
    "start_time": "2022-06-04T08:51:15.137Z"
   },
   {
    "duration": 20,
    "start_time": "2022-06-04T08:51:35.032Z"
   },
   {
    "duration": 6,
    "start_time": "2022-06-04T08:52:09.671Z"
   },
   {
    "duration": 4,
    "start_time": "2022-06-04T08:52:20.828Z"
   },
   {
    "duration": 49,
    "start_time": "2022-06-04T08:53:42.641Z"
   },
   {
    "duration": 5,
    "start_time": "2022-06-04T08:53:49.412Z"
   },
   {
    "duration": 10,
    "start_time": "2022-06-04T08:54:00.512Z"
   },
   {
    "duration": 5,
    "start_time": "2022-06-04T08:54:05.111Z"
   },
   {
    "duration": 6,
    "start_time": "2022-06-04T08:54:26.520Z"
   },
   {
    "duration": 12,
    "start_time": "2022-06-04T08:55:09.165Z"
   },
   {
    "duration": 24,
    "start_time": "2022-06-04T08:55:16.568Z"
   },
   {
    "duration": 8,
    "start_time": "2022-06-04T08:55:43.758Z"
   },
   {
    "duration": 14,
    "start_time": "2022-06-04T08:56:14.535Z"
   },
   {
    "duration": 10,
    "start_time": "2022-06-04T08:56:30.331Z"
   },
   {
    "duration": 14,
    "start_time": "2022-06-04T08:56:55.312Z"
   },
   {
    "duration": 4,
    "start_time": "2022-06-04T08:57:30.672Z"
   },
   {
    "duration": 6,
    "start_time": "2022-06-04T08:57:42.167Z"
   },
   {
    "duration": 4,
    "start_time": "2022-06-04T08:58:03.927Z"
   },
   {
    "duration": 1253,
    "start_time": "2022-06-04T08:58:15.004Z"
   },
   {
    "duration": 14,
    "start_time": "2022-06-04T08:58:16.259Z"
   },
   {
    "duration": 4,
    "start_time": "2022-06-04T08:58:16.275Z"
   },
   {
    "duration": 6,
    "start_time": "2022-06-04T08:58:16.280Z"
   },
   {
    "duration": 6,
    "start_time": "2022-06-04T08:58:16.289Z"
   },
   {
    "duration": 32,
    "start_time": "2022-06-04T08:58:16.297Z"
   },
   {
    "duration": 16,
    "start_time": "2022-06-04T08:58:16.330Z"
   },
   {
    "duration": 7,
    "start_time": "2022-06-04T08:58:16.348Z"
   },
   {
    "duration": 15,
    "start_time": "2022-06-04T08:58:16.357Z"
   },
   {
    "duration": 17,
    "start_time": "2022-06-04T08:58:16.374Z"
   },
   {
    "duration": 31,
    "start_time": "2022-06-04T08:58:16.393Z"
   },
   {
    "duration": 5,
    "start_time": "2022-06-04T08:58:16.425Z"
   },
   {
    "duration": 21,
    "start_time": "2022-06-04T08:58:16.431Z"
   },
   {
    "duration": 15,
    "start_time": "2022-06-04T08:58:16.455Z"
   },
   {
    "duration": 17,
    "start_time": "2022-06-04T08:58:16.471Z"
   },
   {
    "duration": 38,
    "start_time": "2022-06-04T08:58:16.489Z"
   },
   {
    "duration": 12,
    "start_time": "2022-06-04T08:58:16.529Z"
   },
   {
    "duration": 17,
    "start_time": "2022-06-04T08:58:16.542Z"
   },
   {
    "duration": 19,
    "start_time": "2022-06-04T08:58:16.560Z"
   },
   {
    "duration": 288,
    "start_time": "2022-06-04T08:58:16.580Z"
   },
   {
    "duration": 5,
    "start_time": "2022-06-04T08:58:16.869Z"
   },
   {
    "duration": 4,
    "start_time": "2022-06-04T08:58:16.876Z"
   },
   {
    "duration": 261,
    "start_time": "2022-06-04T08:58:16.881Z"
   },
   {
    "duration": 4,
    "start_time": "2022-06-04T08:58:17.144Z"
   },
   {
    "duration": 123,
    "start_time": "2022-06-04T08:58:17.150Z"
   },
   {
    "duration": 5,
    "start_time": "2022-06-04T08:59:02.927Z"
   },
   {
    "duration": 35,
    "start_time": "2022-06-04T08:59:38.964Z"
   },
   {
    "duration": 5,
    "start_time": "2022-06-04T08:59:43.911Z"
   },
   {
    "duration": 11,
    "start_time": "2022-06-04T09:07:56.830Z"
   },
   {
    "duration": 23,
    "start_time": "2022-06-04T09:08:15.269Z"
   },
   {
    "duration": 6,
    "start_time": "2022-06-04T09:10:04.818Z"
   },
   {
    "duration": 11,
    "start_time": "2022-06-04T09:11:15.329Z"
   },
   {
    "duration": 10,
    "start_time": "2022-06-04T09:11:18.970Z"
   },
   {
    "duration": 13,
    "start_time": "2022-06-04T09:11:28.265Z"
   },
   {
    "duration": 12,
    "start_time": "2022-06-04T09:11:36.327Z"
   },
   {
    "duration": 10,
    "start_time": "2022-06-04T09:12:30.710Z"
   },
   {
    "duration": 1135,
    "start_time": "2022-06-04T09:12:43.168Z"
   },
   {
    "duration": 15,
    "start_time": "2022-06-04T09:12:44.305Z"
   },
   {
    "duration": 4,
    "start_time": "2022-06-04T09:12:44.321Z"
   },
   {
    "duration": 5,
    "start_time": "2022-06-04T09:12:44.327Z"
   },
   {
    "duration": 4,
    "start_time": "2022-06-04T09:12:44.334Z"
   },
   {
    "duration": 6,
    "start_time": "2022-06-04T09:12:44.340Z"
   },
   {
    "duration": 13,
    "start_time": "2022-06-04T09:12:44.347Z"
   },
   {
    "duration": 3,
    "start_time": "2022-06-04T09:12:44.361Z"
   },
   {
    "duration": 8,
    "start_time": "2022-06-04T09:12:44.365Z"
   },
   {
    "duration": 12,
    "start_time": "2022-06-04T09:12:44.374Z"
   },
   {
    "duration": 10,
    "start_time": "2022-06-04T09:12:44.388Z"
   },
   {
    "duration": 31,
    "start_time": "2022-06-04T09:12:44.399Z"
   },
   {
    "duration": 9,
    "start_time": "2022-06-04T09:12:44.432Z"
   },
   {
    "duration": 13,
    "start_time": "2022-06-04T09:12:44.444Z"
   },
   {
    "duration": 14,
    "start_time": "2022-06-04T09:12:44.458Z"
   },
   {
    "duration": 12,
    "start_time": "2022-06-04T09:12:44.473Z"
   },
   {
    "duration": 40,
    "start_time": "2022-06-04T09:12:44.487Z"
   },
   {
    "duration": 16,
    "start_time": "2022-06-04T09:12:44.529Z"
   },
   {
    "duration": 17,
    "start_time": "2022-06-04T09:12:44.547Z"
   },
   {
    "duration": 263,
    "start_time": "2022-06-04T09:12:44.566Z"
   },
   {
    "duration": 5,
    "start_time": "2022-06-04T09:12:44.830Z"
   },
   {
    "duration": 6,
    "start_time": "2022-06-04T09:12:44.836Z"
   },
   {
    "duration": 129,
    "start_time": "2022-06-04T09:12:44.844Z"
   },
   {
    "duration": 0,
    "start_time": "2022-06-04T09:12:44.975Z"
   },
   {
    "duration": 0,
    "start_time": "2022-06-04T09:12:44.977Z"
   },
   {
    "duration": 0,
    "start_time": "2022-06-04T09:12:44.978Z"
   },
   {
    "duration": 15,
    "start_time": "2022-06-04T09:13:22.851Z"
   },
   {
    "duration": 8,
    "start_time": "2022-06-04T09:15:47.642Z"
   },
   {
    "duration": 8,
    "start_time": "2022-06-04T09:15:53.914Z"
   },
   {
    "duration": 4,
    "start_time": "2022-06-04T09:16:02.006Z"
   },
   {
    "duration": 31,
    "start_time": "2022-06-04T09:17:26.134Z"
   },
   {
    "duration": 1201,
    "start_time": "2022-06-04T09:18:43.423Z"
   },
   {
    "duration": 15,
    "start_time": "2022-06-04T09:18:44.626Z"
   },
   {
    "duration": 3,
    "start_time": "2022-06-04T09:18:44.643Z"
   },
   {
    "duration": 8,
    "start_time": "2022-06-04T09:18:44.648Z"
   },
   {
    "duration": 8,
    "start_time": "2022-06-04T09:18:44.658Z"
   },
   {
    "duration": 8,
    "start_time": "2022-06-04T09:18:44.667Z"
   },
   {
    "duration": 12,
    "start_time": "2022-06-04T09:18:44.677Z"
   },
   {
    "duration": 57,
    "start_time": "2022-06-04T09:18:44.691Z"
   },
   {
    "duration": 5,
    "start_time": "2022-06-04T09:18:44.749Z"
   },
   {
    "duration": 11,
    "start_time": "2022-06-04T09:18:44.755Z"
   },
   {
    "duration": 11,
    "start_time": "2022-06-04T09:18:44.768Z"
   },
   {
    "duration": 12,
    "start_time": "2022-06-04T09:18:44.780Z"
   },
   {
    "duration": 33,
    "start_time": "2022-06-04T09:18:44.793Z"
   },
   {
    "duration": 5,
    "start_time": "2022-06-04T09:18:44.829Z"
   },
   {
    "duration": 12,
    "start_time": "2022-06-04T09:18:44.835Z"
   },
   {
    "duration": 13,
    "start_time": "2022-06-04T09:18:44.848Z"
   },
   {
    "duration": 14,
    "start_time": "2022-06-04T09:18:44.863Z"
   },
   {
    "duration": 47,
    "start_time": "2022-06-04T09:18:44.879Z"
   },
   {
    "duration": 13,
    "start_time": "2022-06-04T09:18:44.928Z"
   },
   {
    "duration": 12,
    "start_time": "2022-06-04T09:18:44.943Z"
   },
   {
    "duration": 18,
    "start_time": "2022-06-04T09:18:44.957Z"
   },
   {
    "duration": 291,
    "start_time": "2022-06-04T09:18:44.976Z"
   },
   {
    "duration": 6,
    "start_time": "2022-06-04T09:18:45.269Z"
   },
   {
    "duration": 5,
    "start_time": "2022-06-04T09:18:45.276Z"
   },
   {
    "duration": 137,
    "start_time": "2022-06-04T09:18:45.282Z"
   },
   {
    "duration": 0,
    "start_time": "2022-06-04T09:18:45.423Z"
   },
   {
    "duration": 0,
    "start_time": "2022-06-04T09:18:45.425Z"
   },
   {
    "duration": 0,
    "start_time": "2022-06-04T09:18:45.426Z"
   },
   {
    "duration": 4,
    "start_time": "2022-06-04T09:31:16.815Z"
   },
   {
    "duration": 9,
    "start_time": "2022-06-04T09:31:46.014Z"
   },
   {
    "duration": 12,
    "start_time": "2022-06-04T09:32:00.602Z"
   },
   {
    "duration": 6,
    "start_time": "2022-06-04T09:32:01.957Z"
   },
   {
    "duration": 1299,
    "start_time": "2022-06-04T09:32:12.194Z"
   },
   {
    "duration": 16,
    "start_time": "2022-06-04T09:32:13.495Z"
   },
   {
    "duration": 5,
    "start_time": "2022-06-04T09:32:13.513Z"
   },
   {
    "duration": 9,
    "start_time": "2022-06-04T09:32:13.519Z"
   },
   {
    "duration": 8,
    "start_time": "2022-06-04T09:32:13.530Z"
   },
   {
    "duration": 7,
    "start_time": "2022-06-04T09:32:13.540Z"
   },
   {
    "duration": 14,
    "start_time": "2022-06-04T09:32:13.549Z"
   },
   {
    "duration": 31,
    "start_time": "2022-06-04T09:32:13.565Z"
   },
   {
    "duration": 5,
    "start_time": "2022-06-04T09:32:13.622Z"
   },
   {
    "duration": 26,
    "start_time": "2022-06-04T09:32:13.629Z"
   },
   {
    "duration": 16,
    "start_time": "2022-06-04T09:32:13.657Z"
   },
   {
    "duration": 7,
    "start_time": "2022-06-04T09:32:13.675Z"
   },
   {
    "duration": 5,
    "start_time": "2022-06-04T09:32:13.684Z"
   },
   {
    "duration": 8,
    "start_time": "2022-06-04T09:32:13.692Z"
   },
   {
    "duration": 22,
    "start_time": "2022-06-04T09:32:13.702Z"
   },
   {
    "duration": 13,
    "start_time": "2022-06-04T09:32:13.726Z"
   },
   {
    "duration": 20,
    "start_time": "2022-06-04T09:32:13.740Z"
   },
   {
    "duration": 15,
    "start_time": "2022-06-04T09:32:13.762Z"
   },
   {
    "duration": 11,
    "start_time": "2022-06-04T09:32:13.778Z"
   },
   {
    "duration": 12,
    "start_time": "2022-06-04T09:32:13.823Z"
   },
   {
    "duration": 16,
    "start_time": "2022-06-04T09:32:13.837Z"
   },
   {
    "duration": 271,
    "start_time": "2022-06-04T09:32:13.854Z"
   },
   {
    "duration": 4,
    "start_time": "2022-06-04T09:32:14.127Z"
   },
   {
    "duration": 6,
    "start_time": "2022-06-04T09:32:14.133Z"
   },
   {
    "duration": 156,
    "start_time": "2022-06-04T09:32:14.141Z"
   },
   {
    "duration": 0,
    "start_time": "2022-06-04T09:32:14.299Z"
   },
   {
    "duration": 0,
    "start_time": "2022-06-04T09:32:14.300Z"
   },
   {
    "duration": 0,
    "start_time": "2022-06-04T09:32:14.301Z"
   },
   {
    "duration": 13,
    "start_time": "2022-06-04T09:33:18.106Z"
   },
   {
    "duration": 10,
    "start_time": "2022-06-04T09:36:46.855Z"
   },
   {
    "duration": 1197,
    "start_time": "2022-06-04T09:37:06.739Z"
   },
   {
    "duration": 20,
    "start_time": "2022-06-04T09:37:07.939Z"
   },
   {
    "duration": 4,
    "start_time": "2022-06-04T09:37:07.961Z"
   },
   {
    "duration": 9,
    "start_time": "2022-06-04T09:37:07.967Z"
   },
   {
    "duration": 6,
    "start_time": "2022-06-04T09:37:07.978Z"
   },
   {
    "duration": 14,
    "start_time": "2022-06-04T09:37:07.985Z"
   },
   {
    "duration": 28,
    "start_time": "2022-06-04T09:37:08.001Z"
   },
   {
    "duration": 36,
    "start_time": "2022-06-04T09:37:08.031Z"
   },
   {
    "duration": 4,
    "start_time": "2022-06-04T09:37:08.068Z"
   },
   {
    "duration": 12,
    "start_time": "2022-06-04T09:37:08.073Z"
   },
   {
    "duration": 11,
    "start_time": "2022-06-04T09:37:08.087Z"
   },
   {
    "duration": 26,
    "start_time": "2022-06-04T09:37:08.099Z"
   },
   {
    "duration": 6,
    "start_time": "2022-06-04T09:37:08.127Z"
   },
   {
    "duration": 6,
    "start_time": "2022-06-04T09:37:08.136Z"
   },
   {
    "duration": 31,
    "start_time": "2022-06-04T09:37:08.143Z"
   },
   {
    "duration": 10,
    "start_time": "2022-06-04T09:37:08.175Z"
   },
   {
    "duration": 42,
    "start_time": "2022-06-04T09:37:08.186Z"
   },
   {
    "duration": 19,
    "start_time": "2022-06-04T09:37:08.230Z"
   },
   {
    "duration": 17,
    "start_time": "2022-06-04T09:37:08.250Z"
   },
   {
    "duration": 13,
    "start_time": "2022-06-04T09:37:08.269Z"
   },
   {
    "duration": 42,
    "start_time": "2022-06-04T09:37:08.283Z"
   },
   {
    "duration": 19,
    "start_time": "2022-06-04T09:37:08.327Z"
   },
   {
    "duration": 282,
    "start_time": "2022-06-04T09:37:08.348Z"
   },
   {
    "duration": 6,
    "start_time": "2022-06-04T09:37:08.632Z"
   },
   {
    "duration": 5,
    "start_time": "2022-06-04T09:37:08.639Z"
   },
   {
    "duration": 261,
    "start_time": "2022-06-04T09:37:08.645Z"
   },
   {
    "duration": 20,
    "start_time": "2022-06-04T09:37:08.908Z"
   },
   {
    "duration": 125,
    "start_time": "2022-06-04T09:37:08.931Z"
   },
   {
    "duration": 0,
    "start_time": "2022-06-04T09:37:09.058Z"
   },
   {
    "duration": 8,
    "start_time": "2022-06-04T09:38:14.854Z"
   },
   {
    "duration": 1237,
    "start_time": "2022-06-04T09:38:50.291Z"
   },
   {
    "duration": 15,
    "start_time": "2022-06-04T09:38:51.530Z"
   },
   {
    "duration": 4,
    "start_time": "2022-06-04T09:38:51.547Z"
   },
   {
    "duration": 10,
    "start_time": "2022-06-04T09:38:51.553Z"
   },
   {
    "duration": 5,
    "start_time": "2022-06-04T09:38:51.565Z"
   },
   {
    "duration": 7,
    "start_time": "2022-06-04T09:38:51.571Z"
   },
   {
    "duration": 43,
    "start_time": "2022-06-04T09:38:51.579Z"
   },
   {
    "duration": 31,
    "start_time": "2022-06-04T09:38:51.624Z"
   },
   {
    "duration": 4,
    "start_time": "2022-06-04T09:38:51.656Z"
   },
   {
    "duration": 10,
    "start_time": "2022-06-04T09:38:51.662Z"
   },
   {
    "duration": 11,
    "start_time": "2022-06-04T09:38:51.673Z"
   },
   {
    "duration": 9,
    "start_time": "2022-06-04T09:38:51.685Z"
   },
   {
    "duration": 8,
    "start_time": "2022-06-04T09:38:51.695Z"
   },
   {
    "duration": 3,
    "start_time": "2022-06-04T09:38:51.723Z"
   },
   {
    "duration": 24,
    "start_time": "2022-06-04T09:38:51.727Z"
   },
   {
    "duration": 8,
    "start_time": "2022-06-04T09:38:51.752Z"
   },
   {
    "duration": 11,
    "start_time": "2022-06-04T09:38:51.761Z"
   },
   {
    "duration": 14,
    "start_time": "2022-06-04T09:38:51.773Z"
   },
   {
    "duration": 44,
    "start_time": "2022-06-04T09:38:51.788Z"
   },
   {
    "duration": 13,
    "start_time": "2022-06-04T09:38:51.834Z"
   },
   {
    "duration": 13,
    "start_time": "2022-06-04T09:38:51.849Z"
   },
   {
    "duration": 13,
    "start_time": "2022-06-04T09:38:51.863Z"
   },
   {
    "duration": 48,
    "start_time": "2022-06-04T09:38:51.877Z"
   },
   {
    "duration": 291,
    "start_time": "2022-06-04T09:38:51.927Z"
   },
   {
    "duration": 5,
    "start_time": "2022-06-04T09:38:52.220Z"
   },
   {
    "duration": 6,
    "start_time": "2022-06-04T09:38:52.227Z"
   },
   {
    "duration": 134,
    "start_time": "2022-06-04T09:38:52.235Z"
   },
   {
    "duration": 0,
    "start_time": "2022-06-04T09:38:52.371Z"
   },
   {
    "duration": 0,
    "start_time": "2022-06-04T09:38:52.372Z"
   },
   {
    "duration": 0,
    "start_time": "2022-06-04T09:38:52.373Z"
   },
   {
    "duration": 13,
    "start_time": "2022-06-04T09:39:46.622Z"
   },
   {
    "duration": 17,
    "start_time": "2022-06-04T09:40:46.310Z"
   },
   {
    "duration": 12,
    "start_time": "2022-06-04T09:41:39.543Z"
   },
   {
    "duration": 18,
    "start_time": "2022-06-04T09:43:31.256Z"
   },
   {
    "duration": 23,
    "start_time": "2022-06-04T09:43:46.717Z"
   },
   {
    "duration": 14,
    "start_time": "2022-06-04T09:44:01.240Z"
   },
   {
    "duration": 15,
    "start_time": "2022-06-04T09:44:11.498Z"
   },
   {
    "duration": 14,
    "start_time": "2022-06-04T09:44:26.314Z"
   },
   {
    "duration": 16,
    "start_time": "2022-06-04T09:44:54.943Z"
   },
   {
    "duration": 15,
    "start_time": "2022-06-04T09:45:39.109Z"
   },
   {
    "duration": 12,
    "start_time": "2022-06-04T09:45:47.596Z"
   },
   {
    "duration": 16,
    "start_time": "2022-06-04T09:46:08.402Z"
   },
   {
    "duration": 16,
    "start_time": "2022-06-04T09:46:17.709Z"
   },
   {
    "duration": 21,
    "start_time": "2022-06-04T09:46:42.219Z"
   },
   {
    "duration": 18,
    "start_time": "2022-06-04T09:46:45.256Z"
   },
   {
    "duration": 17,
    "start_time": "2022-06-04T09:46:59.604Z"
   },
   {
    "duration": 20,
    "start_time": "2022-06-04T09:47:28.916Z"
   },
   {
    "duration": 15,
    "start_time": "2022-06-04T09:47:38.586Z"
   },
   {
    "duration": 23,
    "start_time": "2022-06-04T09:47:46.009Z"
   },
   {
    "duration": 16,
    "start_time": "2022-06-04T09:47:51.808Z"
   },
   {
    "duration": 21,
    "start_time": "2022-06-04T09:48:11.240Z"
   },
   {
    "duration": 18,
    "start_time": "2022-06-04T09:48:16.445Z"
   },
   {
    "duration": 22,
    "start_time": "2022-06-04T09:48:34.541Z"
   },
   {
    "duration": 39,
    "start_time": "2022-06-04T09:49:18.402Z"
   },
   {
    "duration": 15,
    "start_time": "2022-06-04T09:49:35.786Z"
   },
   {
    "duration": 56,
    "start_time": "2022-06-04T09:51:00.202Z"
   },
   {
    "duration": 27,
    "start_time": "2022-06-04T09:51:53.006Z"
   },
   {
    "duration": 4,
    "start_time": "2022-06-04T09:52:56.255Z"
   },
   {
    "duration": 39,
    "start_time": "2022-06-04T09:54:44.410Z"
   },
   {
    "duration": 27,
    "start_time": "2022-06-04T09:55:18.222Z"
   },
   {
    "duration": 22,
    "start_time": "2022-06-04T09:55:43.498Z"
   },
   {
    "duration": 9,
    "start_time": "2022-06-04T09:55:47.699Z"
   },
   {
    "duration": 20,
    "start_time": "2022-06-04T09:56:01.266Z"
   },
   {
    "duration": 1448,
    "start_time": "2022-06-04T09:56:10.846Z"
   },
   {
    "duration": 43,
    "start_time": "2022-06-04T09:56:12.297Z"
   },
   {
    "duration": 6,
    "start_time": "2022-06-04T09:56:12.342Z"
   },
   {
    "duration": 17,
    "start_time": "2022-06-04T09:56:12.349Z"
   },
   {
    "duration": 16,
    "start_time": "2022-06-04T09:56:12.368Z"
   },
   {
    "duration": 22,
    "start_time": "2022-06-04T09:56:12.386Z"
   },
   {
    "duration": 38,
    "start_time": "2022-06-04T09:56:12.410Z"
   },
   {
    "duration": 61,
    "start_time": "2022-06-04T09:56:12.451Z"
   },
   {
    "duration": 4,
    "start_time": "2022-06-04T09:56:12.514Z"
   },
   {
    "duration": 55,
    "start_time": "2022-06-04T09:56:12.520Z"
   },
   {
    "duration": 39,
    "start_time": "2022-06-04T09:56:12.577Z"
   },
   {
    "duration": 49,
    "start_time": "2022-06-04T09:56:12.618Z"
   },
   {
    "duration": 33,
    "start_time": "2022-06-04T09:56:12.669Z"
   },
   {
    "duration": 41,
    "start_time": "2022-06-04T09:56:12.707Z"
   },
   {
    "duration": 54,
    "start_time": "2022-06-04T09:56:12.752Z"
   },
   {
    "duration": 11,
    "start_time": "2022-06-04T09:56:12.808Z"
   },
   {
    "duration": 49,
    "start_time": "2022-06-04T09:56:12.821Z"
   },
   {
    "duration": 0,
    "start_time": "2022-06-04T09:56:12.872Z"
   },
   {
    "duration": 0,
    "start_time": "2022-06-04T09:56:12.874Z"
   },
   {
    "duration": 0,
    "start_time": "2022-06-04T09:56:12.879Z"
   },
   {
    "duration": 0,
    "start_time": "2022-06-04T09:56:12.880Z"
   },
   {
    "duration": 0,
    "start_time": "2022-06-04T09:56:12.881Z"
   },
   {
    "duration": 0,
    "start_time": "2022-06-04T09:56:12.882Z"
   },
   {
    "duration": 1,
    "start_time": "2022-06-04T09:56:12.883Z"
   },
   {
    "duration": 0,
    "start_time": "2022-06-04T09:56:12.885Z"
   },
   {
    "duration": 0,
    "start_time": "2022-06-04T09:56:12.887Z"
   },
   {
    "duration": 0,
    "start_time": "2022-06-04T09:56:12.888Z"
   },
   {
    "duration": 0,
    "start_time": "2022-06-04T09:56:12.890Z"
   },
   {
    "duration": 0,
    "start_time": "2022-06-04T09:56:12.891Z"
   },
   {
    "duration": 0,
    "start_time": "2022-06-04T09:56:12.892Z"
   },
   {
    "duration": 1,
    "start_time": "2022-06-04T09:56:12.893Z"
   },
   {
    "duration": 0,
    "start_time": "2022-06-04T09:56:12.895Z"
   },
   {
    "duration": 0,
    "start_time": "2022-06-04T09:56:12.896Z"
   },
   {
    "duration": 10,
    "start_time": "2022-06-04T09:56:35.790Z"
   },
   {
    "duration": 10,
    "start_time": "2022-06-04T09:56:56.710Z"
   },
   {
    "duration": 1301,
    "start_time": "2022-06-04T09:57:20.788Z"
   },
   {
    "duration": 22,
    "start_time": "2022-06-04T09:57:22.091Z"
   },
   {
    "duration": 9,
    "start_time": "2022-06-04T09:57:22.126Z"
   },
   {
    "duration": 53,
    "start_time": "2022-06-04T09:57:22.136Z"
   },
   {
    "duration": 32,
    "start_time": "2022-06-04T09:57:22.195Z"
   },
   {
    "duration": 53,
    "start_time": "2022-06-04T09:57:22.229Z"
   },
   {
    "duration": 49,
    "start_time": "2022-06-04T09:57:22.284Z"
   },
   {
    "duration": 64,
    "start_time": "2022-06-04T09:57:22.335Z"
   },
   {
    "duration": 4,
    "start_time": "2022-06-04T09:57:22.401Z"
   },
   {
    "duration": 58,
    "start_time": "2022-06-04T09:57:22.407Z"
   },
   {
    "duration": 21,
    "start_time": "2022-06-04T09:57:22.468Z"
   },
   {
    "duration": 22,
    "start_time": "2022-06-04T09:57:22.491Z"
   },
   {
    "duration": 55,
    "start_time": "2022-06-04T09:57:22.514Z"
   },
   {
    "duration": 45,
    "start_time": "2022-06-04T09:57:22.573Z"
   },
   {
    "duration": 82,
    "start_time": "2022-06-04T09:57:22.620Z"
   },
   {
    "duration": 44,
    "start_time": "2022-06-04T09:57:22.704Z"
   },
   {
    "duration": 77,
    "start_time": "2022-06-04T09:57:22.750Z"
   },
   {
    "duration": 84,
    "start_time": "2022-06-04T09:57:22.829Z"
   },
   {
    "duration": 99,
    "start_time": "2022-06-04T09:57:22.916Z"
   },
   {
    "duration": 41,
    "start_time": "2022-06-04T09:57:23.018Z"
   },
   {
    "duration": 39,
    "start_time": "2022-06-04T09:57:23.061Z"
   },
   {
    "duration": 19,
    "start_time": "2022-06-04T09:57:23.102Z"
   },
   {
    "duration": 24,
    "start_time": "2022-06-04T09:57:23.122Z"
   },
   {
    "duration": 30,
    "start_time": "2022-06-04T09:57:23.148Z"
   },
   {
    "duration": 24,
    "start_time": "2022-06-04T09:57:23.180Z"
   },
   {
    "duration": 303,
    "start_time": "2022-06-04T09:57:23.207Z"
   },
   {
    "duration": 13,
    "start_time": "2022-06-04T09:57:23.511Z"
   },
   {
    "duration": 26,
    "start_time": "2022-06-04T09:57:23.526Z"
   },
   {
    "duration": 159,
    "start_time": "2022-06-04T09:57:23.554Z"
   },
   {
    "duration": 0,
    "start_time": "2022-06-04T09:57:23.715Z"
   },
   {
    "duration": 0,
    "start_time": "2022-06-04T09:57:23.716Z"
   },
   {
    "duration": 0,
    "start_time": "2022-06-04T09:57:23.717Z"
   },
   {
    "duration": 11,
    "start_time": "2022-06-04T09:58:04.114Z"
   },
   {
    "duration": 15,
    "start_time": "2022-06-04T09:58:15.245Z"
   },
   {
    "duration": 12,
    "start_time": "2022-06-04T09:58:26.534Z"
   },
   {
    "duration": 9,
    "start_time": "2022-06-04T09:58:36.610Z"
   },
   {
    "duration": 10,
    "start_time": "2022-06-04T09:58:55.941Z"
   },
   {
    "duration": 5,
    "start_time": "2022-06-04T09:59:11.590Z"
   },
   {
    "duration": 10,
    "start_time": "2022-06-04T09:59:16.402Z"
   },
   {
    "duration": 13,
    "start_time": "2022-06-04T09:59:23.795Z"
   },
   {
    "duration": 35,
    "start_time": "2022-06-04T09:59:46.074Z"
   },
   {
    "duration": 8,
    "start_time": "2022-06-04T10:00:09.898Z"
   },
   {
    "duration": 9,
    "start_time": "2022-06-04T10:00:34.042Z"
   },
   {
    "duration": 11,
    "start_time": "2022-06-04T10:00:50.146Z"
   },
   {
    "duration": 7,
    "start_time": "2022-06-04T10:00:53.841Z"
   },
   {
    "duration": 5,
    "start_time": "2022-06-04T10:03:58.039Z"
   },
   {
    "duration": 12,
    "start_time": "2022-06-04T10:04:01.124Z"
   },
   {
    "duration": 80,
    "start_time": "2022-06-04T10:06:36.450Z"
   },
   {
    "duration": 7,
    "start_time": "2022-06-04T10:06:39.539Z"
   },
   {
    "duration": 1511,
    "start_time": "2022-06-04T10:06:45.226Z"
   },
   {
    "duration": 21,
    "start_time": "2022-06-04T10:06:46.739Z"
   },
   {
    "duration": 5,
    "start_time": "2022-06-04T10:06:46.762Z"
   },
   {
    "duration": 22,
    "start_time": "2022-06-04T10:06:46.768Z"
   },
   {
    "duration": 11,
    "start_time": "2022-06-04T10:06:46.793Z"
   },
   {
    "duration": 7,
    "start_time": "2022-06-04T10:06:46.806Z"
   },
   {
    "duration": 19,
    "start_time": "2022-06-04T10:06:46.815Z"
   },
   {
    "duration": 42,
    "start_time": "2022-06-04T10:06:46.836Z"
   },
   {
    "duration": 4,
    "start_time": "2022-06-04T10:06:46.880Z"
   },
   {
    "duration": 11,
    "start_time": "2022-06-04T10:06:46.886Z"
   },
   {
    "duration": 29,
    "start_time": "2022-06-04T10:06:46.899Z"
   },
   {
    "duration": 21,
    "start_time": "2022-06-04T10:06:46.929Z"
   },
   {
    "duration": 7,
    "start_time": "2022-06-04T10:06:46.952Z"
   },
   {
    "duration": 4,
    "start_time": "2022-06-04T10:06:46.962Z"
   },
   {
    "duration": 24,
    "start_time": "2022-06-04T10:06:46.967Z"
   },
   {
    "duration": 1231,
    "start_time": "2022-06-04T10:07:34.684Z"
   },
   {
    "duration": 24,
    "start_time": "2022-06-04T10:07:35.917Z"
   },
   {
    "duration": 24,
    "start_time": "2022-06-04T10:07:35.943Z"
   },
   {
    "duration": 10,
    "start_time": "2022-06-04T10:07:35.969Z"
   },
   {
    "duration": 10,
    "start_time": "2022-06-04T10:07:35.982Z"
   },
   {
    "duration": 13,
    "start_time": "2022-06-04T10:07:35.993Z"
   },
   {
    "duration": 31,
    "start_time": "2022-06-04T10:07:36.008Z"
   },
   {
    "duration": 58,
    "start_time": "2022-06-04T10:07:36.041Z"
   },
   {
    "duration": 4,
    "start_time": "2022-06-04T10:07:36.101Z"
   },
   {
    "duration": 8,
    "start_time": "2022-06-04T10:07:36.107Z"
   },
   {
    "duration": 16,
    "start_time": "2022-06-04T10:07:36.116Z"
   },
   {
    "duration": 31,
    "start_time": "2022-06-04T10:07:36.138Z"
   },
   {
    "duration": 6,
    "start_time": "2022-06-04T10:07:36.171Z"
   },
   {
    "duration": 8,
    "start_time": "2022-06-04T10:07:36.181Z"
   },
   {
    "duration": 46,
    "start_time": "2022-06-04T10:07:36.191Z"
   },
   {
    "duration": 1553,
    "start_time": "2022-06-04T10:08:34.104Z"
   },
   {
    "duration": 21,
    "start_time": "2022-06-04T10:08:35.659Z"
   },
   {
    "duration": 5,
    "start_time": "2022-06-04T10:08:35.682Z"
   },
   {
    "duration": 11,
    "start_time": "2022-06-04T10:08:35.688Z"
   },
   {
    "duration": 21,
    "start_time": "2022-06-04T10:08:35.701Z"
   },
   {
    "duration": 35,
    "start_time": "2022-06-04T10:08:35.726Z"
   },
   {
    "duration": 15,
    "start_time": "2022-06-04T10:08:35.763Z"
   },
   {
    "duration": 42,
    "start_time": "2022-06-04T10:08:35.780Z"
   },
   {
    "duration": 12,
    "start_time": "2022-06-04T10:08:35.825Z"
   },
   {
    "duration": 18,
    "start_time": "2022-06-04T10:08:35.842Z"
   },
   {
    "duration": 15,
    "start_time": "2022-06-04T10:08:35.862Z"
   },
   {
    "duration": 16,
    "start_time": "2022-06-04T10:08:35.878Z"
   },
   {
    "duration": 14,
    "start_time": "2022-06-04T10:08:35.896Z"
   },
   {
    "duration": 6,
    "start_time": "2022-06-04T10:08:35.914Z"
   },
   {
    "duration": 74,
    "start_time": "2022-06-04T10:08:35.921Z"
   },
   {
    "duration": 22,
    "start_time": "2022-06-04T10:08:35.999Z"
   },
   {
    "duration": 38,
    "start_time": "2022-06-04T10:08:36.026Z"
   },
   {
    "duration": 13,
    "start_time": "2022-06-04T10:08:36.066Z"
   },
   {
    "duration": 13,
    "start_time": "2022-06-04T10:08:36.081Z"
   },
   {
    "duration": 25,
    "start_time": "2022-06-04T10:08:36.096Z"
   },
   {
    "duration": 28,
    "start_time": "2022-06-04T10:08:36.129Z"
   },
   {
    "duration": 56,
    "start_time": "2022-06-04T10:08:36.159Z"
   },
   {
    "duration": 19,
    "start_time": "2022-06-04T10:08:36.217Z"
   },
   {
    "duration": 33,
    "start_time": "2022-06-04T10:08:36.239Z"
   },
   {
    "duration": 21,
    "start_time": "2022-06-04T10:08:36.274Z"
   },
   {
    "duration": 327,
    "start_time": "2022-06-04T10:08:36.297Z"
   },
   {
    "duration": 7,
    "start_time": "2022-06-04T10:08:36.626Z"
   },
   {
    "duration": 30,
    "start_time": "2022-06-04T10:08:36.635Z"
   },
   {
    "duration": 245,
    "start_time": "2022-06-04T10:08:36.666Z"
   },
   {
    "duration": 148,
    "start_time": "2022-06-04T10:08:36.912Z"
   },
   {
    "duration": 0,
    "start_time": "2022-06-04T10:08:37.062Z"
   },
   {
    "duration": 0,
    "start_time": "2022-06-04T10:08:37.064Z"
   },
   {
    "duration": 13,
    "start_time": "2022-06-04T10:14:35.684Z"
   },
   {
    "duration": 15,
    "start_time": "2022-06-04T10:16:21.726Z"
   },
   {
    "duration": 11,
    "start_time": "2022-06-04T10:16:57.600Z"
   },
   {
    "duration": 13,
    "start_time": "2022-06-04T10:21:14.676Z"
   },
   {
    "duration": 39,
    "start_time": "2022-06-04T10:22:42.704Z"
   },
   {
    "duration": 11,
    "start_time": "2022-06-04T10:22:55.719Z"
   },
   {
    "duration": 16,
    "start_time": "2022-06-04T10:26:34.935Z"
   },
   {
    "duration": 17,
    "start_time": "2022-06-04T10:26:44.626Z"
   },
   {
    "duration": 11,
    "start_time": "2022-06-04T10:27:09.577Z"
   },
   {
    "duration": 1208,
    "start_time": "2022-06-04T10:27:29.495Z"
   },
   {
    "duration": 22,
    "start_time": "2022-06-04T10:27:30.706Z"
   },
   {
    "duration": 5,
    "start_time": "2022-06-04T10:27:30.730Z"
   },
   {
    "duration": 14,
    "start_time": "2022-06-04T10:27:30.737Z"
   },
   {
    "duration": 15,
    "start_time": "2022-06-04T10:27:30.754Z"
   },
   {
    "duration": 19,
    "start_time": "2022-06-04T10:27:30.771Z"
   },
   {
    "duration": 42,
    "start_time": "2022-06-04T10:27:30.791Z"
   },
   {
    "duration": 42,
    "start_time": "2022-06-04T10:27:30.835Z"
   },
   {
    "duration": 4,
    "start_time": "2022-06-04T10:27:30.879Z"
   },
   {
    "duration": 18,
    "start_time": "2022-06-04T10:27:30.884Z"
   },
   {
    "duration": 34,
    "start_time": "2022-06-04T10:27:30.904Z"
   },
   {
    "duration": 64,
    "start_time": "2022-06-04T10:27:30.940Z"
   },
   {
    "duration": 20,
    "start_time": "2022-06-04T10:27:31.006Z"
   },
   {
    "duration": 30,
    "start_time": "2022-06-04T10:27:31.029Z"
   },
   {
    "duration": 43,
    "start_time": "2022-06-04T10:27:31.061Z"
   },
   {
    "duration": 24,
    "start_time": "2022-06-04T10:27:31.105Z"
   },
   {
    "duration": 31,
    "start_time": "2022-06-04T10:27:31.130Z"
   },
   {
    "duration": 20,
    "start_time": "2022-06-04T10:27:31.163Z"
   },
   {
    "duration": 24,
    "start_time": "2022-06-04T10:27:31.185Z"
   },
   {
    "duration": 23,
    "start_time": "2022-06-04T10:27:31.211Z"
   },
   {
    "duration": 26,
    "start_time": "2022-06-04T10:27:31.236Z"
   },
   {
    "duration": 28,
    "start_time": "2022-06-04T10:27:31.264Z"
   },
   {
    "duration": 31,
    "start_time": "2022-06-04T10:27:31.294Z"
   },
   {
    "duration": 18,
    "start_time": "2022-06-04T10:27:31.326Z"
   },
   {
    "duration": 20,
    "start_time": "2022-06-04T10:27:31.345Z"
   },
   {
    "duration": 289,
    "start_time": "2022-06-04T10:27:31.366Z"
   },
   {
    "duration": 7,
    "start_time": "2022-06-04T10:27:31.657Z"
   },
   {
    "duration": 18,
    "start_time": "2022-06-04T10:27:31.665Z"
   },
   {
    "duration": 277,
    "start_time": "2022-06-04T10:27:31.684Z"
   },
   {
    "duration": 108,
    "start_time": "2022-06-04T10:27:31.963Z"
   },
   {
    "duration": 0,
    "start_time": "2022-06-04T10:27:32.073Z"
   },
   {
    "duration": 0,
    "start_time": "2022-06-04T10:27:32.075Z"
   },
   {
    "duration": 13,
    "start_time": "2022-06-04T10:28:04.212Z"
   },
   {
    "duration": 11,
    "start_time": "2022-06-04T10:28:13.179Z"
   },
   {
    "duration": 14,
    "start_time": "2022-06-04T10:28:17.979Z"
   },
   {
    "duration": 13,
    "start_time": "2022-06-04T10:28:29.383Z"
   },
   {
    "duration": 1288,
    "start_time": "2022-06-04T10:28:42.027Z"
   },
   {
    "duration": 21,
    "start_time": "2022-06-04T10:28:43.317Z"
   },
   {
    "duration": 12,
    "start_time": "2022-06-04T10:28:43.343Z"
   },
   {
    "duration": 8,
    "start_time": "2022-06-04T10:28:43.357Z"
   },
   {
    "duration": 7,
    "start_time": "2022-06-04T10:28:43.367Z"
   },
   {
    "duration": 12,
    "start_time": "2022-06-04T10:28:43.375Z"
   },
   {
    "duration": 14,
    "start_time": "2022-06-04T10:28:43.388Z"
   },
   {
    "duration": 52,
    "start_time": "2022-06-04T10:28:43.404Z"
   },
   {
    "duration": 4,
    "start_time": "2022-06-04T10:28:43.458Z"
   },
   {
    "duration": 7,
    "start_time": "2022-06-04T10:28:43.464Z"
   },
   {
    "duration": 13,
    "start_time": "2022-06-04T10:28:43.472Z"
   },
   {
    "duration": 8,
    "start_time": "2022-06-04T10:28:43.489Z"
   },
   {
    "duration": 25,
    "start_time": "2022-06-04T10:28:43.499Z"
   },
   {
    "duration": 16,
    "start_time": "2022-06-04T10:28:43.531Z"
   },
   {
    "duration": 28,
    "start_time": "2022-06-04T10:28:43.549Z"
   },
   {
    "duration": 19,
    "start_time": "2022-06-04T10:28:43.579Z"
   },
   {
    "duration": 8,
    "start_time": "2022-06-04T10:28:43.600Z"
   },
   {
    "duration": 13,
    "start_time": "2022-06-04T10:28:43.626Z"
   },
   {
    "duration": 21,
    "start_time": "2022-06-04T10:28:43.641Z"
   },
   {
    "duration": 15,
    "start_time": "2022-06-04T10:28:43.664Z"
   },
   {
    "duration": 18,
    "start_time": "2022-06-04T10:28:43.680Z"
   },
   {
    "duration": 38,
    "start_time": "2022-06-04T10:28:43.699Z"
   },
   {
    "duration": 15,
    "start_time": "2022-06-04T10:28:43.738Z"
   },
   {
    "duration": 12,
    "start_time": "2022-06-04T10:28:43.755Z"
   },
   {
    "duration": 19,
    "start_time": "2022-06-04T10:28:43.769Z"
   },
   {
    "duration": 318,
    "start_time": "2022-06-04T10:28:43.790Z"
   },
   {
    "duration": 20,
    "start_time": "2022-06-04T10:28:44.110Z"
   },
   {
    "duration": 4,
    "start_time": "2022-06-04T10:28:44.137Z"
   },
   {
    "duration": 247,
    "start_time": "2022-06-04T10:28:44.143Z"
   },
   {
    "duration": 130,
    "start_time": "2022-06-04T10:28:44.391Z"
   },
   {
    "duration": 0,
    "start_time": "2022-06-04T10:28:44.523Z"
   },
   {
    "duration": 0,
    "start_time": "2022-06-04T10:28:44.525Z"
   },
   {
    "duration": 103,
    "start_time": "2022-06-04T10:30:31.079Z"
   },
   {
    "duration": 8,
    "start_time": "2022-06-04T10:33:38.195Z"
   },
   {
    "duration": 11,
    "start_time": "2022-06-04T10:33:46.005Z"
   },
   {
    "duration": 1201,
    "start_time": "2022-06-04T10:33:55.846Z"
   },
   {
    "duration": 14,
    "start_time": "2022-06-04T10:33:57.049Z"
   },
   {
    "duration": 3,
    "start_time": "2022-06-04T10:33:57.065Z"
   },
   {
    "duration": 6,
    "start_time": "2022-06-04T10:33:57.070Z"
   },
   {
    "duration": 5,
    "start_time": "2022-06-04T10:33:57.077Z"
   },
   {
    "duration": 16,
    "start_time": "2022-06-04T10:33:57.083Z"
   },
   {
    "duration": 31,
    "start_time": "2022-06-04T10:33:57.100Z"
   },
   {
    "duration": 31,
    "start_time": "2022-06-04T10:33:57.134Z"
   },
   {
    "duration": 3,
    "start_time": "2022-06-04T10:33:57.167Z"
   },
   {
    "duration": 7,
    "start_time": "2022-06-04T10:33:57.172Z"
   },
   {
    "duration": 13,
    "start_time": "2022-06-04T10:33:57.181Z"
   },
   {
    "duration": 9,
    "start_time": "2022-06-04T10:33:57.195Z"
   },
   {
    "duration": 28,
    "start_time": "2022-06-04T10:33:57.206Z"
   },
   {
    "duration": 16,
    "start_time": "2022-06-04T10:33:57.236Z"
   },
   {
    "duration": 26,
    "start_time": "2022-06-04T10:33:57.254Z"
   },
   {
    "duration": 4,
    "start_time": "2022-06-04T10:33:57.282Z"
   },
   {
    "duration": 10,
    "start_time": "2022-06-04T10:33:57.287Z"
   },
   {
    "duration": 10,
    "start_time": "2022-06-04T10:33:57.298Z"
   },
   {
    "duration": 24,
    "start_time": "2022-06-04T10:33:57.310Z"
   },
   {
    "duration": 17,
    "start_time": "2022-06-04T10:33:57.336Z"
   },
   {
    "duration": 18,
    "start_time": "2022-06-04T10:33:57.355Z"
   },
   {
    "duration": 18,
    "start_time": "2022-06-04T10:33:57.375Z"
   },
   {
    "duration": 41,
    "start_time": "2022-06-04T10:33:57.395Z"
   },
   {
    "duration": 13,
    "start_time": "2022-06-04T10:33:57.438Z"
   },
   {
    "duration": 19,
    "start_time": "2022-06-04T10:33:57.453Z"
   },
   {
    "duration": 303,
    "start_time": "2022-06-04T10:33:57.473Z"
   },
   {
    "duration": 5,
    "start_time": "2022-06-04T10:33:57.778Z"
   },
   {
    "duration": 7,
    "start_time": "2022-06-04T10:33:57.785Z"
   },
   {
    "duration": 257,
    "start_time": "2022-06-04T10:33:57.793Z"
   },
   {
    "duration": 118,
    "start_time": "2022-06-04T10:33:58.051Z"
   },
   {
    "duration": 0,
    "start_time": "2022-06-04T10:33:58.171Z"
   },
   {
    "duration": 0,
    "start_time": "2022-06-04T10:33:58.172Z"
   },
   {
    "duration": 16,
    "start_time": "2022-06-04T10:34:14.343Z"
   },
   {
    "duration": 10,
    "start_time": "2022-06-04T10:34:56.445Z"
   },
   {
    "duration": 13,
    "start_time": "2022-06-04T10:35:12.783Z"
   },
   {
    "duration": 10,
    "start_time": "2022-06-04T10:35:17.795Z"
   },
   {
    "duration": 9,
    "start_time": "2022-06-04T10:35:21.255Z"
   },
   {
    "duration": 11,
    "start_time": "2022-06-04T10:35:31.095Z"
   },
   {
    "duration": 93,
    "start_time": "2022-06-04T10:35:38.395Z"
   },
   {
    "duration": 22,
    "start_time": "2022-06-04T10:35:41.336Z"
   },
   {
    "duration": 4,
    "start_time": "2022-06-04T10:35:47.683Z"
   },
   {
    "duration": 4,
    "start_time": "2022-06-04T10:35:54.152Z"
   },
   {
    "duration": 13,
    "start_time": "2022-06-04T10:35:55.636Z"
   },
   {
    "duration": 10,
    "start_time": "2022-06-04T10:36:47.004Z"
   },
   {
    "duration": 16,
    "start_time": "2022-06-04T10:36:51.287Z"
   },
   {
    "duration": 36,
    "start_time": "2022-06-04T10:36:53.603Z"
   },
   {
    "duration": 3,
    "start_time": "2022-06-04T10:36:56.495Z"
   },
   {
    "duration": 5,
    "start_time": "2022-06-04T10:36:58.399Z"
   },
   {
    "duration": 19,
    "start_time": "2022-06-04T10:36:59.865Z"
   },
   {
    "duration": 7,
    "start_time": "2022-06-04T10:37:00.487Z"
   },
   {
    "duration": 9,
    "start_time": "2022-06-04T10:37:02.149Z"
   },
   {
    "duration": 4,
    "start_time": "2022-06-04T10:37:03.203Z"
   },
   {
    "duration": 32,
    "start_time": "2022-06-04T10:37:04.357Z"
   },
   {
    "duration": 4,
    "start_time": "2022-06-04T10:37:06.239Z"
   },
   {
    "duration": 16,
    "start_time": "2022-06-04T10:37:09.931Z"
   },
   {
    "duration": 21,
    "start_time": "2022-06-04T10:37:12.251Z"
   },
   {
    "duration": 25,
    "start_time": "2022-06-04T10:37:13.796Z"
   },
   {
    "duration": 19,
    "start_time": "2022-06-04T10:37:14.491Z"
   },
   {
    "duration": 35,
    "start_time": "2022-06-04T10:37:15.649Z"
   },
   {
    "duration": 15,
    "start_time": "2022-06-04T10:37:17.095Z"
   },
   {
    "duration": 29,
    "start_time": "2022-06-04T10:37:18.239Z"
   },
   {
    "duration": 27,
    "start_time": "2022-06-04T10:37:25.440Z"
   },
   {
    "duration": 25,
    "start_time": "2022-06-04T10:37:37.115Z"
   },
   {
    "duration": 27,
    "start_time": "2022-06-04T10:37:40.103Z"
   },
   {
    "duration": 6,
    "start_time": "2022-06-04T10:38:34.007Z"
   },
   {
    "duration": 12,
    "start_time": "2022-06-04T10:38:43.248Z"
   },
   {
    "duration": 1519,
    "start_time": "2022-06-04T10:38:54.784Z"
   },
   {
    "duration": 21,
    "start_time": "2022-06-04T10:38:56.305Z"
   },
   {
    "duration": 6,
    "start_time": "2022-06-04T10:38:56.335Z"
   },
   {
    "duration": 49,
    "start_time": "2022-06-04T10:38:56.343Z"
   },
   {
    "duration": 6,
    "start_time": "2022-06-04T10:38:56.394Z"
   },
   {
    "duration": 8,
    "start_time": "2022-06-04T10:38:56.401Z"
   },
   {
    "duration": 13,
    "start_time": "2022-06-04T10:38:56.411Z"
   },
   {
    "duration": 78,
    "start_time": "2022-06-04T10:38:56.428Z"
   },
   {
    "duration": 4,
    "start_time": "2022-06-04T10:38:56.507Z"
   },
   {
    "duration": 8,
    "start_time": "2022-06-04T10:38:56.512Z"
   },
   {
    "duration": 75,
    "start_time": "2022-06-04T10:38:56.522Z"
   },
   {
    "duration": 6,
    "start_time": "2022-06-04T10:38:56.599Z"
   },
   {
    "duration": 4,
    "start_time": "2022-06-04T10:38:56.607Z"
   },
   {
    "duration": 5,
    "start_time": "2022-06-04T10:38:56.614Z"
   },
   {
    "duration": 45,
    "start_time": "2022-06-04T10:38:56.621Z"
   },
   {
    "duration": 26,
    "start_time": "2022-06-04T10:38:56.668Z"
   },
   {
    "duration": 11,
    "start_time": "2022-06-04T10:38:56.696Z"
   },
   {
    "duration": 10,
    "start_time": "2022-06-04T10:38:56.708Z"
   },
   {
    "duration": 22,
    "start_time": "2022-06-04T10:38:56.719Z"
   },
   {
    "duration": 59,
    "start_time": "2022-06-04T10:38:56.742Z"
   },
   {
    "duration": 48,
    "start_time": "2022-06-04T10:38:56.802Z"
   },
   {
    "duration": 52,
    "start_time": "2022-06-04T10:38:56.852Z"
   },
   {
    "duration": 12,
    "start_time": "2022-06-04T10:38:56.906Z"
   },
   {
    "duration": 38,
    "start_time": "2022-06-04T10:38:56.920Z"
   },
   {
    "duration": 483,
    "start_time": "2022-06-04T10:38:56.960Z"
   },
   {
    "duration": 12,
    "start_time": "2022-06-04T10:38:57.446Z"
   },
   {
    "duration": 32,
    "start_time": "2022-06-04T10:38:57.460Z"
   },
   {
    "duration": 335,
    "start_time": "2022-06-04T10:38:57.494Z"
   },
   {
    "duration": 156,
    "start_time": "2022-06-04T10:38:57.831Z"
   },
   {
    "duration": 0,
    "start_time": "2022-06-04T10:38:57.989Z"
   },
   {
    "duration": 0,
    "start_time": "2022-06-04T10:38:57.990Z"
   },
   {
    "duration": 34,
    "start_time": "2022-06-04T10:40:15.449Z"
   },
   {
    "duration": 14,
    "start_time": "2022-06-04T10:40:32.990Z"
   },
   {
    "duration": 1629,
    "start_time": "2022-06-04T10:41:01.285Z"
   },
   {
    "duration": 30,
    "start_time": "2022-06-04T10:41:02.916Z"
   },
   {
    "duration": 54,
    "start_time": "2022-06-04T10:41:02.947Z"
   },
   {
    "duration": 47,
    "start_time": "2022-06-04T10:41:03.003Z"
   },
   {
    "duration": 52,
    "start_time": "2022-06-04T10:41:03.053Z"
   },
   {
    "duration": 23,
    "start_time": "2022-06-04T10:41:03.108Z"
   },
   {
    "duration": 84,
    "start_time": "2022-06-04T10:41:03.134Z"
   },
   {
    "duration": 77,
    "start_time": "2022-06-04T10:41:03.220Z"
   },
   {
    "duration": 4,
    "start_time": "2022-06-04T10:41:03.299Z"
   },
   {
    "duration": 14,
    "start_time": "2022-06-04T10:41:03.305Z"
   },
   {
    "duration": 71,
    "start_time": "2022-06-04T10:41:03.320Z"
   },
   {
    "duration": 7,
    "start_time": "2022-06-04T10:41:03.393Z"
   },
   {
    "duration": 11,
    "start_time": "2022-06-04T10:41:03.402Z"
   },
   {
    "duration": 33,
    "start_time": "2022-06-04T10:41:03.417Z"
   },
   {
    "duration": 45,
    "start_time": "2022-06-04T10:41:03.462Z"
   },
   {
    "duration": 6,
    "start_time": "2022-06-04T10:41:03.509Z"
   },
   {
    "duration": 20,
    "start_time": "2022-06-04T10:41:03.516Z"
   },
   {
    "duration": 62,
    "start_time": "2022-06-04T10:41:03.538Z"
   },
   {
    "duration": 15,
    "start_time": "2022-06-04T10:41:03.602Z"
   },
   {
    "duration": 38,
    "start_time": "2022-06-04T10:41:03.618Z"
   },
   {
    "duration": 45,
    "start_time": "2022-06-04T10:41:03.660Z"
   },
   {
    "duration": 12,
    "start_time": "2022-06-04T10:41:03.706Z"
   },
   {
    "duration": 35,
    "start_time": "2022-06-04T10:41:03.720Z"
   },
   {
    "duration": 45,
    "start_time": "2022-06-04T10:41:03.758Z"
   },
   {
    "duration": 392,
    "start_time": "2022-06-04T10:41:03.804Z"
   },
   {
    "duration": 5,
    "start_time": "2022-06-04T10:41:04.198Z"
   },
   {
    "duration": 4,
    "start_time": "2022-06-04T10:41:04.204Z"
   },
   {
    "duration": 329,
    "start_time": "2022-06-04T10:41:04.209Z"
   },
   {
    "duration": 150,
    "start_time": "2022-06-04T10:41:04.539Z"
   },
   {
    "duration": 0,
    "start_time": "2022-06-04T10:41:04.690Z"
   },
   {
    "duration": 0,
    "start_time": "2022-06-04T10:41:04.692Z"
   },
   {
    "duration": 5,
    "start_time": "2022-06-04T10:41:45.690Z"
   },
   {
    "duration": 6,
    "start_time": "2022-06-04T10:41:58.490Z"
   },
   {
    "duration": 302,
    "start_time": "2022-06-04T10:43:13.498Z"
   },
   {
    "duration": 27,
    "start_time": "2022-06-04T10:43:22.816Z"
   },
   {
    "duration": 1538,
    "start_time": "2022-06-04T10:43:30.096Z"
   },
   {
    "duration": 24,
    "start_time": "2022-06-04T10:43:31.637Z"
   },
   {
    "duration": 32,
    "start_time": "2022-06-04T10:43:31.663Z"
   },
   {
    "duration": 10,
    "start_time": "2022-06-04T10:43:31.696Z"
   },
   {
    "duration": 7,
    "start_time": "2022-06-04T10:43:31.709Z"
   },
   {
    "duration": 19,
    "start_time": "2022-06-04T10:43:31.718Z"
   },
   {
    "duration": 65,
    "start_time": "2022-06-04T10:43:31.740Z"
   },
   {
    "duration": 44,
    "start_time": "2022-06-04T10:43:31.807Z"
   },
   {
    "duration": 5,
    "start_time": "2022-06-04T10:43:31.853Z"
   },
   {
    "duration": 50,
    "start_time": "2022-06-04T10:43:31.861Z"
   },
   {
    "duration": 28,
    "start_time": "2022-06-04T10:43:31.914Z"
   },
   {
    "duration": 59,
    "start_time": "2022-06-04T10:43:31.944Z"
   },
   {
    "duration": 15,
    "start_time": "2022-06-04T10:43:32.004Z"
   },
   {
    "duration": 41,
    "start_time": "2022-06-04T10:43:32.022Z"
   },
   {
    "duration": 55,
    "start_time": "2022-06-04T10:43:32.065Z"
   },
   {
    "duration": 15,
    "start_time": "2022-06-04T10:43:32.122Z"
   },
   {
    "duration": 75,
    "start_time": "2022-06-04T10:43:32.139Z"
   },
   {
    "duration": 35,
    "start_time": "2022-06-04T10:43:32.216Z"
   },
   {
    "duration": 66,
    "start_time": "2022-06-04T10:43:32.254Z"
   },
   {
    "duration": 41,
    "start_time": "2022-06-04T10:43:32.322Z"
   },
   {
    "duration": 49,
    "start_time": "2022-06-04T10:43:32.365Z"
   },
   {
    "duration": 16,
    "start_time": "2022-06-04T10:43:32.415Z"
   },
   {
    "duration": 70,
    "start_time": "2022-06-04T10:43:32.432Z"
   },
   {
    "duration": 463,
    "start_time": "2022-06-04T10:43:32.505Z"
   },
   {
    "duration": 8,
    "start_time": "2022-06-04T10:43:32.971Z"
   },
   {
    "duration": 50,
    "start_time": "2022-06-04T10:43:32.981Z"
   },
   {
    "duration": 430,
    "start_time": "2022-06-04T10:43:33.040Z"
   },
   {
    "duration": 7,
    "start_time": "2022-06-04T10:43:33.472Z"
   },
   {
    "duration": 176,
    "start_time": "2022-06-04T10:43:33.480Z"
   },
   {
    "duration": 0,
    "start_time": "2022-06-04T10:43:33.663Z"
   },
   {
    "duration": 53,
    "start_time": "2022-06-04T10:43:57.727Z"
   },
   {
    "duration": 14,
    "start_time": "2022-06-04T10:44:08.502Z"
   },
   {
    "duration": 35,
    "start_time": "2022-06-05T04:16:31.908Z"
   },
   {
    "duration": 13,
    "start_time": "2022-06-05T04:16:43.333Z"
   },
   {
    "duration": 7,
    "start_time": "2022-06-05T04:20:11.093Z"
   },
   {
    "duration": 6,
    "start_time": "2022-06-05T04:21:11.059Z"
   },
   {
    "duration": 6,
    "start_time": "2022-06-05T04:21:30.638Z"
   },
   {
    "duration": 13,
    "start_time": "2022-06-05T04:24:57.211Z"
   },
   {
    "duration": 14,
    "start_time": "2022-06-05T04:25:09.131Z"
   },
   {
    "duration": 11,
    "start_time": "2022-06-05T04:25:47.870Z"
   },
   {
    "duration": 17,
    "start_time": "2022-06-05T04:26:02.331Z"
   },
   {
    "duration": 17,
    "start_time": "2022-06-05T04:27:04.764Z"
   },
   {
    "duration": 15,
    "start_time": "2022-06-05T04:27:11.386Z"
   },
   {
    "duration": 12,
    "start_time": "2022-06-05T04:27:22.870Z"
   },
   {
    "duration": 20,
    "start_time": "2022-06-05T04:27:33.069Z"
   },
   {
    "duration": 16,
    "start_time": "2022-06-05T04:27:35.721Z"
   },
   {
    "duration": 448,
    "start_time": "2022-06-05T04:30:54.444Z"
   },
   {
    "duration": 355,
    "start_time": "2022-06-05T04:31:43.970Z"
   },
   {
    "duration": 15,
    "start_time": "2022-06-05T04:32:38.826Z"
   },
   {
    "duration": 16,
    "start_time": "2022-06-05T04:32:39.638Z"
   },
   {
    "duration": 350,
    "start_time": "2022-06-05T04:32:41.668Z"
   },
   {
    "duration": 5,
    "start_time": "2022-06-05T04:33:11.931Z"
   },
   {
    "duration": 16,
    "start_time": "2022-06-05T04:34:04.916Z"
   },
   {
    "duration": 14,
    "start_time": "2022-06-05T04:34:19.907Z"
   },
   {
    "duration": 17,
    "start_time": "2022-06-05T04:37:39.006Z"
   },
   {
    "duration": 15,
    "start_time": "2022-06-05T04:37:58.352Z"
   },
   {
    "duration": 15,
    "start_time": "2022-06-05T04:38:04.290Z"
   },
   {
    "duration": 15,
    "start_time": "2022-06-05T04:38:28.765Z"
   },
   {
    "duration": 16,
    "start_time": "2022-06-05T04:38:30.720Z"
   },
   {
    "duration": 15,
    "start_time": "2022-06-05T04:38:32.867Z"
   },
   {
    "duration": 15,
    "start_time": "2022-06-05T04:38:57.872Z"
   },
   {
    "duration": 203,
    "start_time": "2022-06-05T04:39:33.111Z"
   },
   {
    "duration": 19,
    "start_time": "2022-06-05T04:39:51.912Z"
   },
   {
    "duration": 6,
    "start_time": "2022-06-05T04:40:00.814Z"
   },
   {
    "duration": 5,
    "start_time": "2022-06-05T04:42:42.898Z"
   },
   {
    "duration": 4,
    "start_time": "2022-06-05T04:42:48.929Z"
   },
   {
    "duration": 4,
    "start_time": "2022-06-05T04:42:53.424Z"
   },
   {
    "duration": 4,
    "start_time": "2022-06-05T04:43:20.111Z"
   },
   {
    "duration": 5,
    "start_time": "2022-06-05T04:43:26.723Z"
   },
   {
    "duration": 499,
    "start_time": "2022-06-05T04:43:37.639Z"
   },
   {
    "duration": 15,
    "start_time": "2022-06-05T04:43:38.497Z"
   },
   {
    "duration": 6,
    "start_time": "2022-06-05T04:43:43.131Z"
   },
   {
    "duration": 5,
    "start_time": "2022-06-05T04:44:11.628Z"
   },
   {
    "duration": 6,
    "start_time": "2022-06-05T04:44:16.689Z"
   },
   {
    "duration": 12,
    "start_time": "2022-06-05T04:46:02.691Z"
   },
   {
    "duration": 10,
    "start_time": "2022-06-05T04:46:23.572Z"
   },
   {
    "duration": 68,
    "start_time": "2022-06-05T04:46:31.360Z"
   },
   {
    "duration": 11,
    "start_time": "2022-06-05T04:46:34.935Z"
   },
   {
    "duration": 5,
    "start_time": "2022-06-05T04:47:04.343Z"
   },
   {
    "duration": 5,
    "start_time": "2022-06-05T04:47:05.728Z"
   },
   {
    "duration": 8,
    "start_time": "2022-06-05T04:47:07.564Z"
   },
   {
    "duration": 31,
    "start_time": "2022-06-05T04:47:29.959Z"
   },
   {
    "duration": 4,
    "start_time": "2022-06-05T04:47:49.463Z"
   },
   {
    "duration": 5,
    "start_time": "2022-06-05T04:47:50.086Z"
   },
   {
    "duration": 11,
    "start_time": "2022-06-05T04:47:56.593Z"
   },
   {
    "duration": 7,
    "start_time": "2022-06-05T04:47:57.573Z"
   },
   {
    "duration": 4,
    "start_time": "2022-06-05T04:48:05.610Z"
   },
   {
    "duration": 6,
    "start_time": "2022-06-05T04:48:17.248Z"
   },
   {
    "duration": 22,
    "start_time": "2022-06-05T04:48:28.869Z"
   },
   {
    "duration": 6,
    "start_time": "2022-06-05T04:48:33.731Z"
   },
   {
    "duration": 12,
    "start_time": "2022-06-05T04:48:39.885Z"
   },
   {
    "duration": 17,
    "start_time": "2022-06-05T04:48:44.102Z"
   },
   {
    "duration": 18,
    "start_time": "2022-06-05T04:48:45.964Z"
   },
   {
    "duration": 17,
    "start_time": "2022-06-05T04:48:47.462Z"
   },
   {
    "duration": 12,
    "start_time": "2022-06-05T04:48:50.748Z"
   },
   {
    "duration": 12,
    "start_time": "2022-06-05T04:48:51.557Z"
   },
   {
    "duration": 6,
    "start_time": "2022-06-05T04:49:03.474Z"
   },
   {
    "duration": 7,
    "start_time": "2022-06-05T04:49:07.923Z"
   },
   {
    "duration": 3,
    "start_time": "2022-06-05T04:49:17.816Z"
   },
   {
    "duration": 202,
    "start_time": "2022-06-05T04:49:18.555Z"
   },
   {
    "duration": 15,
    "start_time": "2022-06-05T04:49:20.738Z"
   },
   {
    "duration": 14,
    "start_time": "2022-06-05T04:49:21.324Z"
   },
   {
    "duration": 17,
    "start_time": "2022-06-05T04:49:21.852Z"
   },
   {
    "duration": 14,
    "start_time": "2022-06-05T04:49:22.558Z"
   },
   {
    "duration": 480,
    "start_time": "2022-06-05T04:50:18.963Z"
   },
   {
    "duration": 14,
    "start_time": "2022-06-05T04:50:19.445Z"
   },
   {
    "duration": 15,
    "start_time": "2022-06-05T04:50:19.461Z"
   },
   {
    "duration": 5,
    "start_time": "2022-06-05T04:50:19.477Z"
   },
   {
    "duration": 6,
    "start_time": "2022-06-05T04:50:19.484Z"
   },
   {
    "duration": 8,
    "start_time": "2022-06-05T04:50:19.492Z"
   },
   {
    "duration": 26,
    "start_time": "2022-06-05T04:50:19.502Z"
   },
   {
    "duration": 31,
    "start_time": "2022-06-05T04:50:19.530Z"
   },
   {
    "duration": 3,
    "start_time": "2022-06-05T04:50:19.563Z"
   },
   {
    "duration": 8,
    "start_time": "2022-06-05T04:50:19.568Z"
   },
   {
    "duration": 12,
    "start_time": "2022-06-05T04:50:19.577Z"
   },
   {
    "duration": 34,
    "start_time": "2022-06-05T04:50:19.590Z"
   },
   {
    "duration": 5,
    "start_time": "2022-06-05T04:50:19.625Z"
   },
   {
    "duration": 9,
    "start_time": "2022-06-05T04:50:19.632Z"
   },
   {
    "duration": 24,
    "start_time": "2022-06-05T04:50:19.643Z"
   },
   {
    "duration": 5,
    "start_time": "2022-06-05T04:50:19.668Z"
   },
   {
    "duration": 12,
    "start_time": "2022-06-05T04:50:19.674Z"
   },
   {
    "duration": 43,
    "start_time": "2022-06-05T04:50:19.687Z"
   },
   {
    "duration": 17,
    "start_time": "2022-06-05T04:50:19.731Z"
   },
   {
    "duration": 16,
    "start_time": "2022-06-05T04:50:19.749Z"
   },
   {
    "duration": 12,
    "start_time": "2022-06-05T04:50:19.767Z"
   },
   {
    "duration": 11,
    "start_time": "2022-06-05T04:50:19.780Z"
   },
   {
    "duration": 30,
    "start_time": "2022-06-05T04:50:19.793Z"
   },
   {
    "duration": 9,
    "start_time": "2022-06-05T04:50:19.825Z"
   },
   {
    "duration": 13,
    "start_time": "2022-06-05T04:50:19.836Z"
   },
   {
    "duration": 217,
    "start_time": "2022-06-05T04:50:19.850Z"
   },
   {
    "duration": 13,
    "start_time": "2022-06-05T04:50:20.068Z"
   },
   {
    "duration": 85,
    "start_time": "2022-06-05T04:50:20.083Z"
   },
   {
    "duration": 0,
    "start_time": "2022-06-05T04:50:20.170Z"
   },
   {
    "duration": 0,
    "start_time": "2022-06-05T04:50:20.171Z"
   },
   {
    "duration": 13,
    "start_time": "2022-06-05T05:04:29.405Z"
   },
   {
    "duration": 521,
    "start_time": "2022-06-05T05:04:40.198Z"
   },
   {
    "duration": 14,
    "start_time": "2022-06-05T05:04:40.720Z"
   },
   {
    "duration": 8,
    "start_time": "2022-06-05T05:04:40.736Z"
   },
   {
    "duration": 3,
    "start_time": "2022-06-05T05:04:40.746Z"
   },
   {
    "duration": 7,
    "start_time": "2022-06-05T05:04:40.751Z"
   },
   {
    "duration": 7,
    "start_time": "2022-06-05T05:04:40.759Z"
   },
   {
    "duration": 13,
    "start_time": "2022-06-05T05:04:40.768Z"
   },
   {
    "duration": 49,
    "start_time": "2022-06-05T05:04:40.782Z"
   },
   {
    "duration": 3,
    "start_time": "2022-06-05T05:04:40.833Z"
   },
   {
    "duration": 12,
    "start_time": "2022-06-05T05:04:40.837Z"
   },
   {
    "duration": 12,
    "start_time": "2022-06-05T05:04:40.850Z"
   },
   {
    "duration": 6,
    "start_time": "2022-06-05T05:04:40.863Z"
   },
   {
    "duration": 9,
    "start_time": "2022-06-05T05:04:40.870Z"
   },
   {
    "duration": 4,
    "start_time": "2022-06-05T05:04:40.882Z"
   },
   {
    "duration": 41,
    "start_time": "2022-06-05T05:04:40.887Z"
   },
   {
    "duration": 4,
    "start_time": "2022-06-05T05:04:40.929Z"
   },
   {
    "duration": 11,
    "start_time": "2022-06-05T05:04:40.935Z"
   },
   {
    "duration": 15,
    "start_time": "2022-06-05T05:04:40.948Z"
   },
   {
    "duration": 16,
    "start_time": "2022-06-05T05:04:40.964Z"
   },
   {
    "duration": 42,
    "start_time": "2022-06-05T05:04:40.982Z"
   },
   {
    "duration": 12,
    "start_time": "2022-06-05T05:04:41.025Z"
   },
   {
    "duration": 12,
    "start_time": "2022-06-05T05:04:41.038Z"
   },
   {
    "duration": 16,
    "start_time": "2022-06-05T05:04:41.051Z"
   },
   {
    "duration": 5,
    "start_time": "2022-06-05T05:04:41.069Z"
   },
   {
    "duration": 8,
    "start_time": "2022-06-05T05:04:41.075Z"
   },
   {
    "duration": 241,
    "start_time": "2022-06-05T05:04:41.084Z"
   },
   {
    "duration": 12,
    "start_time": "2022-06-05T05:04:41.327Z"
   },
   {
    "duration": 15,
    "start_time": "2022-06-05T05:04:41.340Z"
   },
   {
    "duration": 16,
    "start_time": "2022-06-05T05:04:41.357Z"
   },
   {
    "duration": 101,
    "start_time": "2022-06-05T05:04:41.374Z"
   },
   {
    "duration": 37,
    "start_time": "2022-06-05T05:11:30.421Z"
   },
   {
    "duration": 3,
    "start_time": "2022-06-05T05:11:37.534Z"
   },
   {
    "duration": 242,
    "start_time": "2022-06-05T05:13:20.090Z"
   },
   {
    "duration": 512,
    "start_time": "2022-06-05T05:13:26.606Z"
   },
   {
    "duration": 15,
    "start_time": "2022-06-05T05:13:27.120Z"
   },
   {
    "duration": 10,
    "start_time": "2022-06-05T05:13:27.136Z"
   },
   {
    "duration": 4,
    "start_time": "2022-06-05T05:13:27.147Z"
   },
   {
    "duration": 5,
    "start_time": "2022-06-05T05:13:27.153Z"
   },
   {
    "duration": 9,
    "start_time": "2022-06-05T05:13:27.160Z"
   },
   {
    "duration": 13,
    "start_time": "2022-06-05T05:13:27.170Z"
   },
   {
    "duration": 55,
    "start_time": "2022-06-05T05:13:27.184Z"
   },
   {
    "duration": 3,
    "start_time": "2022-06-05T05:13:27.241Z"
   },
   {
    "duration": 10,
    "start_time": "2022-06-05T05:13:27.246Z"
   },
   {
    "duration": 14,
    "start_time": "2022-06-05T05:13:27.257Z"
   },
   {
    "duration": 9,
    "start_time": "2022-06-05T05:13:27.273Z"
   },
   {
    "duration": 5,
    "start_time": "2022-06-05T05:13:27.283Z"
   },
   {
    "duration": 5,
    "start_time": "2022-06-05T05:13:27.290Z"
   },
   {
    "duration": 44,
    "start_time": "2022-06-05T05:13:27.296Z"
   },
   {
    "duration": 5,
    "start_time": "2022-06-05T05:13:27.341Z"
   },
   {
    "duration": 14,
    "start_time": "2022-06-05T05:13:27.347Z"
   },
   {
    "duration": 15,
    "start_time": "2022-06-05T05:13:27.362Z"
   },
   {
    "duration": 16,
    "start_time": "2022-06-05T05:13:27.378Z"
   },
   {
    "duration": 41,
    "start_time": "2022-06-05T05:13:27.395Z"
   },
   {
    "duration": 11,
    "start_time": "2022-06-05T05:13:27.437Z"
   },
   {
    "duration": 10,
    "start_time": "2022-06-05T05:13:27.449Z"
   },
   {
    "duration": 16,
    "start_time": "2022-06-05T05:13:27.460Z"
   },
   {
    "duration": 3,
    "start_time": "2022-06-05T05:13:27.477Z"
   },
   {
    "duration": 262,
    "start_time": "2022-06-05T05:13:27.481Z"
   },
   {
    "duration": 7,
    "start_time": "2022-06-05T05:13:27.745Z"
   },
   {
    "duration": 3,
    "start_time": "2022-06-05T05:13:27.754Z"
   },
   {
    "duration": 221,
    "start_time": "2022-06-05T05:13:27.759Z"
   },
   {
    "duration": 14,
    "start_time": "2022-06-05T05:13:27.981Z"
   },
   {
    "duration": 28,
    "start_time": "2022-06-05T05:13:27.996Z"
   },
   {
    "duration": 16,
    "start_time": "2022-06-05T05:13:28.025Z"
   },
   {
    "duration": 13,
    "start_time": "2022-06-05T05:13:28.043Z"
   },
   {
    "duration": 4,
    "start_time": "2022-06-05T09:09:46.595Z"
   },
   {
    "duration": 7,
    "start_time": "2022-06-05T09:12:12.149Z"
   },
   {
    "duration": 53,
    "start_time": "2022-06-05T09:12:19.635Z"
   },
   {
    "duration": 4,
    "start_time": "2022-06-05T09:15:13.232Z"
   },
   {
    "duration": 16,
    "start_time": "2022-06-05T09:23:41.624Z"
   },
   {
    "duration": 17,
    "start_time": "2022-06-05T09:23:46.130Z"
   },
   {
    "duration": 28,
    "start_time": "2022-06-05T09:36:44.259Z"
   },
   {
    "duration": 16,
    "start_time": "2022-06-05T09:40:59.596Z"
   },
   {
    "duration": 20,
    "start_time": "2022-06-05T09:41:18.653Z"
   },
   {
    "duration": 12,
    "start_time": "2022-06-05T09:42:27.976Z"
   },
   {
    "duration": 14,
    "start_time": "2022-06-05T09:42:40.801Z"
   },
   {
    "duration": 15,
    "start_time": "2022-06-05T09:42:47.739Z"
   },
   {
    "duration": 83,
    "start_time": "2022-06-05T09:45:04.601Z"
   },
   {
    "duration": 11,
    "start_time": "2022-06-05T09:45:11.774Z"
   },
   {
    "duration": 23,
    "start_time": "2022-06-05T09:45:17.718Z"
   },
   {
    "duration": 15,
    "start_time": "2022-06-05T09:45:36.335Z"
   },
   {
    "duration": 14,
    "start_time": "2022-06-05T09:45:49.093Z"
   },
   {
    "duration": 14,
    "start_time": "2022-06-05T09:45:53.283Z"
   },
   {
    "duration": 14,
    "start_time": "2022-06-05T09:46:05.374Z"
   },
   {
    "duration": 13,
    "start_time": "2022-06-05T09:46:17.202Z"
   },
   {
    "duration": 15,
    "start_time": "2022-06-05T09:46:21.878Z"
   },
   {
    "duration": 15,
    "start_time": "2022-06-05T09:46:34.540Z"
   },
   {
    "duration": 18,
    "start_time": "2022-06-05T09:46:42.576Z"
   },
   {
    "duration": 14,
    "start_time": "2022-06-05T09:47:13.296Z"
   },
   {
    "duration": 10,
    "start_time": "2022-06-05T09:47:27.338Z"
   },
   {
    "duration": 14,
    "start_time": "2022-06-05T09:47:32.482Z"
   },
   {
    "duration": 11,
    "start_time": "2022-06-05T09:47:54.186Z"
   },
   {
    "duration": 15,
    "start_time": "2022-06-05T09:47:59.560Z"
   },
   {
    "duration": 19,
    "start_time": "2022-06-05T09:48:51.725Z"
   },
   {
    "duration": 15,
    "start_time": "2022-06-05T09:49:01.033Z"
   },
   {
    "duration": 17,
    "start_time": "2022-06-05T09:49:13.034Z"
   },
   {
    "duration": 14,
    "start_time": "2022-06-05T09:49:27.354Z"
   },
   {
    "duration": 21,
    "start_time": "2022-06-05T09:49:47.426Z"
   },
   {
    "duration": 526,
    "start_time": "2022-06-05T09:49:55.740Z"
   },
   {
    "duration": 17,
    "start_time": "2022-06-05T09:49:56.268Z"
   },
   {
    "duration": 10,
    "start_time": "2022-06-05T09:49:56.286Z"
   },
   {
    "duration": 4,
    "start_time": "2022-06-05T09:49:56.298Z"
   },
   {
    "duration": 11,
    "start_time": "2022-06-05T09:49:56.326Z"
   },
   {
    "duration": 10,
    "start_time": "2022-06-05T09:49:56.339Z"
   },
   {
    "duration": 17,
    "start_time": "2022-06-05T09:49:56.350Z"
   },
   {
    "duration": 30,
    "start_time": "2022-06-05T09:49:56.369Z"
   },
   {
    "duration": 3,
    "start_time": "2022-06-05T09:49:56.400Z"
   },
   {
    "duration": 26,
    "start_time": "2022-06-05T09:49:56.404Z"
   },
   {
    "duration": 22,
    "start_time": "2022-06-05T09:49:56.432Z"
   },
   {
    "duration": 10,
    "start_time": "2022-06-05T09:49:56.456Z"
   },
   {
    "duration": 10,
    "start_time": "2022-06-05T09:49:56.467Z"
   },
   {
    "duration": 28,
    "start_time": "2022-06-05T09:49:56.480Z"
   },
   {
    "duration": 4,
    "start_time": "2022-06-05T09:49:56.509Z"
   },
   {
    "duration": 23,
    "start_time": "2022-06-05T09:49:56.515Z"
   },
   {
    "duration": 16,
    "start_time": "2022-06-05T09:49:56.540Z"
   },
   {
    "duration": 15,
    "start_time": "2022-06-05T09:49:56.558Z"
   },
   {
    "duration": 16,
    "start_time": "2022-06-05T09:49:56.575Z"
   },
   {
    "duration": 11,
    "start_time": "2022-06-05T09:49:56.593Z"
   },
   {
    "duration": 16,
    "start_time": "2022-06-05T09:49:56.626Z"
   },
   {
    "duration": 18,
    "start_time": "2022-06-05T09:49:56.644Z"
   },
   {
    "duration": 264,
    "start_time": "2022-06-05T09:49:56.663Z"
   },
   {
    "duration": 11,
    "start_time": "2022-06-05T09:49:56.929Z"
   },
   {
    "duration": 6,
    "start_time": "2022-06-05T09:49:56.942Z"
   },
   {
    "duration": 243,
    "start_time": "2022-06-05T09:49:56.950Z"
   },
   {
    "duration": 15,
    "start_time": "2022-06-05T09:49:57.194Z"
   },
   {
    "duration": 30,
    "start_time": "2022-06-05T09:49:57.210Z"
   },
   {
    "duration": 20,
    "start_time": "2022-06-05T09:49:57.242Z"
   },
   {
    "duration": 16,
    "start_time": "2022-06-05T09:49:57.264Z"
   },
   {
    "duration": 15,
    "start_time": "2022-06-05T09:50:44.278Z"
   },
   {
    "duration": 16,
    "start_time": "2022-06-05T09:50:59.247Z"
   },
   {
    "duration": 15,
    "start_time": "2022-06-05T09:52:10.581Z"
   },
   {
    "duration": 93,
    "start_time": "2022-06-05T09:52:20.549Z"
   },
   {
    "duration": 14,
    "start_time": "2022-06-05T09:52:25.979Z"
   },
   {
    "duration": 19,
    "start_time": "2022-06-05T09:56:30.087Z"
   },
   {
    "duration": 20,
    "start_time": "2022-06-05T09:56:33.736Z"
   },
   {
    "duration": 16,
    "start_time": "2022-06-05T09:57:43.020Z"
   },
   {
    "duration": 13,
    "start_time": "2022-06-05T09:58:11.379Z"
   },
   {
    "duration": 9,
    "start_time": "2022-06-05T10:01:06.244Z"
   },
   {
    "duration": 39,
    "start_time": "2022-06-05T10:01:46.403Z"
   },
   {
    "duration": 15,
    "start_time": "2022-06-05T10:02:00.475Z"
   },
   {
    "duration": 15,
    "start_time": "2022-06-05T10:02:29.243Z"
   },
   {
    "duration": 34,
    "start_time": "2022-06-05T10:03:02.707Z"
   },
   {
    "duration": 7,
    "start_time": "2022-06-05T10:03:33.793Z"
   },
   {
    "duration": 34,
    "start_time": "2022-06-05T10:04:14.007Z"
   },
   {
    "duration": 39,
    "start_time": "2022-06-05T10:04:40.814Z"
   },
   {
    "duration": 37,
    "start_time": "2022-06-05T10:06:35.423Z"
   },
   {
    "duration": 29,
    "start_time": "2022-06-05T10:06:41.387Z"
   },
   {
    "duration": 33,
    "start_time": "2022-06-05T10:06:48.803Z"
   },
   {
    "duration": 30,
    "start_time": "2022-06-05T10:07:00.183Z"
   },
   {
    "duration": 32,
    "start_time": "2022-06-05T10:07:07.976Z"
   },
   {
    "duration": 28,
    "start_time": "2022-06-05T10:07:26.559Z"
   },
   {
    "duration": 41,
    "start_time": "2022-06-05T10:08:03.894Z"
   },
   {
    "duration": 28,
    "start_time": "2022-06-05T10:08:53.861Z"
   },
   {
    "duration": 31,
    "start_time": "2022-06-05T10:10:22.380Z"
   },
   {
    "duration": 19,
    "start_time": "2022-06-05T10:11:14.624Z"
   },
   {
    "duration": 14,
    "start_time": "2022-06-05T10:11:27.196Z"
   },
   {
    "duration": 15,
    "start_time": "2022-06-05T10:11:52.953Z"
   },
   {
    "duration": 15,
    "start_time": "2022-06-05T10:11:59.777Z"
   },
   {
    "duration": 14,
    "start_time": "2022-06-05T10:12:13.218Z"
   },
   {
    "duration": 14,
    "start_time": "2022-06-05T10:13:28.217Z"
   },
   {
    "duration": 38,
    "start_time": "2022-06-05T10:14:40.163Z"
   },
   {
    "duration": 28,
    "start_time": "2022-06-05T10:15:21.400Z"
   },
   {
    "duration": 18,
    "start_time": "2022-06-05T10:17:55.493Z"
   },
   {
    "duration": 16,
    "start_time": "2022-06-05T10:18:15.180Z"
   },
   {
    "duration": 15,
    "start_time": "2022-06-05T10:18:19.889Z"
   },
   {
    "duration": 18,
    "start_time": "2022-06-05T10:19:13.415Z"
   },
   {
    "duration": 16,
    "start_time": "2022-06-05T10:20:23.478Z"
   },
   {
    "duration": 39,
    "start_time": "2022-06-05T10:21:07.703Z"
   },
   {
    "duration": 17,
    "start_time": "2022-06-05T10:21:55.155Z"
   },
   {
    "duration": 15,
    "start_time": "2022-06-05T10:22:27.597Z"
   },
   {
    "duration": 15,
    "start_time": "2022-06-05T10:22:52.755Z"
   },
   {
    "duration": 16,
    "start_time": "2022-06-05T10:22:59.876Z"
   },
   {
    "duration": 16,
    "start_time": "2022-06-05T10:23:18.891Z"
   },
   {
    "duration": 15,
    "start_time": "2022-06-05T10:23:33.875Z"
   },
   {
    "duration": 15,
    "start_time": "2022-06-05T10:25:20.544Z"
   },
   {
    "duration": 29,
    "start_time": "2022-06-05T10:26:43.082Z"
   },
   {
    "duration": 27,
    "start_time": "2022-06-05T10:26:48.825Z"
   },
   {
    "duration": 24,
    "start_time": "2022-06-05T10:27:27.879Z"
   },
   {
    "duration": 28,
    "start_time": "2022-06-05T10:27:42.527Z"
   },
   {
    "duration": 15,
    "start_time": "2022-06-05T10:27:52.950Z"
   },
   {
    "duration": 24,
    "start_time": "2022-06-05T10:29:10.040Z"
   },
   {
    "duration": 15,
    "start_time": "2022-06-05T10:29:22.015Z"
   },
   {
    "duration": 16,
    "start_time": "2022-06-05T10:30:36.894Z"
   },
   {
    "duration": 24,
    "start_time": "2022-06-05T10:31:13.200Z"
   },
   {
    "duration": 19,
    "start_time": "2022-06-05T10:34:02.177Z"
   },
   {
    "duration": 18,
    "start_time": "2022-06-05T10:34:28.626Z"
   },
   {
    "duration": 32,
    "start_time": "2022-06-05T10:34:55.303Z"
   },
   {
    "duration": 21,
    "start_time": "2022-06-05T10:35:51.564Z"
   },
   {
    "duration": 19,
    "start_time": "2022-06-05T10:36:34.282Z"
   },
   {
    "duration": 29,
    "start_time": "2022-06-05T10:36:43.702Z"
   },
   {
    "duration": 38,
    "start_time": "2022-06-05T10:37:16.587Z"
   },
   {
    "duration": 18,
    "start_time": "2022-06-05T10:39:13.380Z"
   },
   {
    "duration": 19,
    "start_time": "2022-06-05T10:39:41.342Z"
   },
   {
    "duration": 34,
    "start_time": "2022-06-05T10:39:56.442Z"
   },
   {
    "duration": 16,
    "start_time": "2022-06-05T10:40:01.187Z"
   },
   {
    "duration": 14,
    "start_time": "2022-06-05T10:40:30.425Z"
   },
   {
    "duration": 16,
    "start_time": "2022-06-05T10:40:43.390Z"
   },
   {
    "duration": 34,
    "start_time": "2022-06-05T10:43:58.044Z"
   },
   {
    "duration": 259,
    "start_time": "2022-06-05T10:45:29.426Z"
   },
   {
    "duration": 228,
    "start_time": "2022-06-05T10:45:57.543Z"
   },
   {
    "duration": 485,
    "start_time": "2022-06-05T10:47:16.656Z"
   },
   {
    "duration": 23,
    "start_time": "2022-06-05T10:47:17.144Z"
   },
   {
    "duration": 15,
    "start_time": "2022-06-05T10:47:17.169Z"
   },
   {
    "duration": 4,
    "start_time": "2022-06-05T10:47:17.186Z"
   },
   {
    "duration": 9,
    "start_time": "2022-06-05T10:47:17.193Z"
   },
   {
    "duration": 5,
    "start_time": "2022-06-05T10:47:17.222Z"
   },
   {
    "duration": 16,
    "start_time": "2022-06-05T10:47:17.229Z"
   },
   {
    "duration": 31,
    "start_time": "2022-06-05T10:47:17.246Z"
   },
   {
    "duration": 4,
    "start_time": "2022-06-05T10:47:17.279Z"
   },
   {
    "duration": 11,
    "start_time": "2022-06-05T10:47:17.284Z"
   },
   {
    "duration": 39,
    "start_time": "2022-06-05T10:47:17.297Z"
   },
   {
    "duration": 8,
    "start_time": "2022-06-05T10:47:17.338Z"
   },
   {
    "duration": 9,
    "start_time": "2022-06-05T10:47:17.347Z"
   },
   {
    "duration": 23,
    "start_time": "2022-06-05T10:47:17.360Z"
   },
   {
    "duration": 4,
    "start_time": "2022-06-05T10:47:17.385Z"
   },
   {
    "duration": 36,
    "start_time": "2022-06-05T10:47:17.390Z"
   },
   {
    "duration": 17,
    "start_time": "2022-06-05T10:47:17.428Z"
   },
   {
    "duration": 17,
    "start_time": "2022-06-05T10:47:17.447Z"
   },
   {
    "duration": 16,
    "start_time": "2022-06-05T10:47:17.465Z"
   },
   {
    "duration": 41,
    "start_time": "2022-06-05T10:47:17.483Z"
   },
   {
    "duration": 12,
    "start_time": "2022-06-05T10:47:17.525Z"
   },
   {
    "duration": 19,
    "start_time": "2022-06-05T10:47:17.538Z"
   },
   {
    "duration": 272,
    "start_time": "2022-06-05T10:47:17.559Z"
   },
   {
    "duration": 5,
    "start_time": "2022-06-05T10:47:17.833Z"
   },
   {
    "duration": 4,
    "start_time": "2022-06-05T10:47:17.840Z"
   },
   {
    "duration": 267,
    "start_time": "2022-06-05T10:47:17.845Z"
   },
   {
    "duration": 16,
    "start_time": "2022-06-05T10:47:18.113Z"
   },
   {
    "duration": 38,
    "start_time": "2022-06-05T10:47:18.130Z"
   },
   {
    "duration": 16,
    "start_time": "2022-06-05T10:47:18.169Z"
   },
   {
    "duration": 37,
    "start_time": "2022-06-05T10:47:18.187Z"
   },
   {
    "duration": 14,
    "start_time": "2022-06-05T10:47:18.226Z"
   },
   {
    "duration": 41,
    "start_time": "2022-06-05T10:48:04.378Z"
   },
   {
    "duration": 30,
    "start_time": "2022-06-05T10:48:14.234Z"
   },
   {
    "duration": 29,
    "start_time": "2022-06-05T10:49:54.186Z"
   },
   {
    "duration": 38,
    "start_time": "2022-06-05T10:50:07.254Z"
   },
   {
    "duration": 40,
    "start_time": "2022-06-05T10:50:41.847Z"
   },
   {
    "duration": 34,
    "start_time": "2022-06-05T10:50:49.288Z"
   },
   {
    "duration": 532,
    "start_time": "2022-06-05T10:51:09.708Z"
   },
   {
    "duration": 18,
    "start_time": "2022-06-05T10:51:10.242Z"
   },
   {
    "duration": 11,
    "start_time": "2022-06-05T10:51:10.262Z"
   },
   {
    "duration": 6,
    "start_time": "2022-06-05T10:51:10.274Z"
   },
   {
    "duration": 10,
    "start_time": "2022-06-05T10:51:10.283Z"
   },
   {
    "duration": 28,
    "start_time": "2022-06-05T10:51:10.295Z"
   },
   {
    "duration": 22,
    "start_time": "2022-06-05T10:51:10.325Z"
   },
   {
    "duration": 48,
    "start_time": "2022-06-05T10:51:10.349Z"
   },
   {
    "duration": 24,
    "start_time": "2022-06-05T10:51:10.399Z"
   },
   {
    "duration": 7,
    "start_time": "2022-06-05T10:51:10.425Z"
   },
   {
    "duration": 37,
    "start_time": "2022-06-05T10:51:10.434Z"
   },
   {
    "duration": 13,
    "start_time": "2022-06-05T10:51:10.473Z"
   },
   {
    "duration": 11,
    "start_time": "2022-06-05T10:51:10.488Z"
   },
   {
    "duration": 29,
    "start_time": "2022-06-05T10:51:10.503Z"
   },
   {
    "duration": 4,
    "start_time": "2022-06-05T10:51:10.534Z"
   },
   {
    "duration": 20,
    "start_time": "2022-06-05T10:51:10.540Z"
   },
   {
    "duration": 19,
    "start_time": "2022-06-05T10:51:10.562Z"
   },
   {
    "duration": 51,
    "start_time": "2022-06-05T10:51:10.583Z"
   },
   {
    "duration": 18,
    "start_time": "2022-06-05T10:51:10.637Z"
   },
   {
    "duration": 18,
    "start_time": "2022-06-05T10:51:10.657Z"
   },
   {
    "duration": 18,
    "start_time": "2022-06-05T10:51:10.676Z"
   },
   {
    "duration": 48,
    "start_time": "2022-06-05T10:51:10.697Z"
   },
   {
    "duration": 295,
    "start_time": "2022-06-05T10:51:10.747Z"
   },
   {
    "duration": 6,
    "start_time": "2022-06-05T10:51:11.043Z"
   },
   {
    "duration": 9,
    "start_time": "2022-06-05T10:51:11.050Z"
   },
   {
    "duration": 245,
    "start_time": "2022-06-05T10:51:11.060Z"
   },
   {
    "duration": 24,
    "start_time": "2022-06-05T10:51:11.307Z"
   },
   {
    "duration": 30,
    "start_time": "2022-06-05T10:51:11.332Z"
   },
   {
    "duration": 31,
    "start_time": "2022-06-05T10:51:11.364Z"
   },
   {
    "duration": 38,
    "start_time": "2022-06-05T10:51:11.397Z"
   },
   {
    "duration": 14,
    "start_time": "2022-06-05T10:51:11.437Z"
   },
   {
    "duration": 41,
    "start_time": "2022-06-05T10:51:52.890Z"
   },
   {
    "duration": 50,
    "start_time": "2022-06-05T10:52:45.812Z"
   },
   {
    "duration": 44,
    "start_time": "2022-06-05T10:53:31.687Z"
   },
   {
    "duration": 47,
    "start_time": "2022-06-05T10:54:31.141Z"
   },
   {
    "duration": 43,
    "start_time": "2022-06-05T10:54:40.996Z"
   },
   {
    "duration": 34,
    "start_time": "2022-06-05T10:55:36.983Z"
   },
   {
    "duration": 35,
    "start_time": "2022-06-05T10:55:46.160Z"
   },
   {
    "duration": 41,
    "start_time": "2022-06-05T10:56:17.777Z"
   },
   {
    "duration": 21,
    "start_time": "2022-06-05T10:56:20.121Z"
   },
   {
    "duration": 34,
    "start_time": "2022-06-05T10:56:22.994Z"
   },
   {
    "duration": 45,
    "start_time": "2022-06-05T10:56:26.248Z"
   },
   {
    "duration": 34,
    "start_time": "2022-06-05T10:56:49.546Z"
   },
   {
    "duration": 513,
    "start_time": "2022-06-05T10:57:07.438Z"
   },
   {
    "duration": 18,
    "start_time": "2022-06-05T10:57:07.953Z"
   },
   {
    "duration": 13,
    "start_time": "2022-06-05T10:57:07.973Z"
   },
   {
    "duration": 19,
    "start_time": "2022-06-05T10:57:07.988Z"
   },
   {
    "duration": 19,
    "start_time": "2022-06-05T10:57:08.009Z"
   },
   {
    "duration": 7,
    "start_time": "2022-06-05T10:57:08.030Z"
   },
   {
    "duration": 20,
    "start_time": "2022-06-05T10:57:08.038Z"
   },
   {
    "duration": 35,
    "start_time": "2022-06-05T10:57:08.060Z"
   },
   {
    "duration": 27,
    "start_time": "2022-06-05T10:57:08.097Z"
   },
   {
    "duration": 11,
    "start_time": "2022-06-05T10:57:08.127Z"
   },
   {
    "duration": 25,
    "start_time": "2022-06-05T10:57:08.139Z"
   },
   {
    "duration": 6,
    "start_time": "2022-06-05T10:57:08.166Z"
   },
   {
    "duration": 9,
    "start_time": "2022-06-05T10:57:08.174Z"
   },
   {
    "duration": 50,
    "start_time": "2022-06-05T10:57:08.186Z"
   },
   {
    "duration": 4,
    "start_time": "2022-06-05T10:57:08.238Z"
   },
   {
    "duration": 15,
    "start_time": "2022-06-05T10:57:08.244Z"
   },
   {
    "duration": 17,
    "start_time": "2022-06-05T10:57:08.260Z"
   },
   {
    "duration": 51,
    "start_time": "2022-06-05T10:57:08.279Z"
   },
   {
    "duration": 17,
    "start_time": "2022-06-05T10:57:08.332Z"
   },
   {
    "duration": 13,
    "start_time": "2022-06-05T10:57:08.351Z"
   },
   {
    "duration": 11,
    "start_time": "2022-06-05T10:57:08.365Z"
   },
   {
    "duration": 18,
    "start_time": "2022-06-05T10:57:08.378Z"
   },
   {
    "duration": 260,
    "start_time": "2022-06-05T10:57:08.423Z"
   },
   {
    "duration": 6,
    "start_time": "2022-06-05T10:57:08.684Z"
   },
   {
    "duration": 4,
    "start_time": "2022-06-05T10:57:08.691Z"
   },
   {
    "duration": 258,
    "start_time": "2022-06-05T10:57:08.696Z"
   },
   {
    "duration": 17,
    "start_time": "2022-06-05T10:57:08.956Z"
   },
   {
    "duration": 50,
    "start_time": "2022-06-05T10:57:08.974Z"
   },
   {
    "duration": 47,
    "start_time": "2022-06-05T10:57:09.026Z"
   },
   {
    "duration": 112,
    "start_time": "2022-06-05T10:57:09.075Z"
   },
   {
    "duration": 0,
    "start_time": "2022-06-05T10:57:09.188Z"
   },
   {
    "duration": 33,
    "start_time": "2022-06-05T10:57:23.286Z"
   },
   {
    "duration": 32,
    "start_time": "2022-06-05T10:57:26.642Z"
   },
   {
    "duration": 33,
    "start_time": "2022-06-05T10:57:57.092Z"
   },
   {
    "duration": 33,
    "start_time": "2022-06-05T10:58:04.647Z"
   },
   {
    "duration": 33,
    "start_time": "2022-06-05T10:59:20.927Z"
   },
   {
    "duration": 24,
    "start_time": "2022-06-05T11:00:25.791Z"
   },
   {
    "duration": 34,
    "start_time": "2022-06-05T11:00:44.448Z"
   },
   {
    "duration": 28,
    "start_time": "2022-06-05T11:00:53.954Z"
   },
   {
    "duration": 32,
    "start_time": "2022-06-05T11:01:01.750Z"
   },
   {
    "duration": 30,
    "start_time": "2022-06-05T11:01:16.660Z"
   },
   {
    "duration": 28,
    "start_time": "2022-06-05T11:02:41.447Z"
   },
   {
    "duration": 69,
    "start_time": "2022-06-05T11:02:55.394Z"
   },
   {
    "duration": 31,
    "start_time": "2022-06-05T11:05:50.756Z"
   },
   {
    "duration": 30,
    "start_time": "2022-06-05T11:06:03.789Z"
   },
   {
    "duration": 32,
    "start_time": "2022-06-05T11:07:13.638Z"
   },
   {
    "duration": 29,
    "start_time": "2022-06-05T11:07:19.817Z"
   },
   {
    "duration": 16,
    "start_time": "2022-06-05T11:09:43.553Z"
   },
   {
    "duration": 14,
    "start_time": "2022-06-05T11:09:50.656Z"
   },
   {
    "duration": 16,
    "start_time": "2022-06-05T11:12:52.098Z"
   },
   {
    "duration": 35,
    "start_time": "2022-06-05T11:31:54.245Z"
   },
   {
    "duration": 33,
    "start_time": "2022-06-05T11:32:33.340Z"
   },
   {
    "duration": 32,
    "start_time": "2022-06-05T11:32:46.454Z"
   },
   {
    "duration": 32,
    "start_time": "2022-06-05T11:33:28.613Z"
   },
   {
    "duration": 52,
    "start_time": "2022-06-05T11:34:09.143Z"
   },
   {
    "duration": 51,
    "start_time": "2022-06-05T11:34:17.508Z"
   },
   {
    "duration": 39,
    "start_time": "2022-06-05T11:34:42.816Z"
   },
   {
    "duration": 542,
    "start_time": "2022-06-05T11:35:01.800Z"
   },
   {
    "duration": 17,
    "start_time": "2022-06-05T11:35:02.344Z"
   },
   {
    "duration": 76,
    "start_time": "2022-06-05T11:35:02.363Z"
   },
   {
    "duration": 4,
    "start_time": "2022-06-05T11:35:02.441Z"
   },
   {
    "duration": 10,
    "start_time": "2022-06-05T11:35:02.448Z"
   },
   {
    "duration": 5,
    "start_time": "2022-06-05T11:35:02.460Z"
   },
   {
    "duration": 25,
    "start_time": "2022-06-05T11:35:02.467Z"
   },
   {
    "duration": 59,
    "start_time": "2022-06-05T11:35:02.494Z"
   },
   {
    "duration": 5,
    "start_time": "2022-06-05T11:35:02.555Z"
   },
   {
    "duration": 21,
    "start_time": "2022-06-05T11:35:02.562Z"
   },
   {
    "duration": 23,
    "start_time": "2022-06-05T11:35:02.586Z"
   },
   {
    "duration": 6,
    "start_time": "2022-06-05T11:35:02.611Z"
   },
   {
    "duration": 9,
    "start_time": "2022-06-05T11:35:02.623Z"
   },
   {
    "duration": 53,
    "start_time": "2022-06-05T11:35:02.635Z"
   },
   {
    "duration": 5,
    "start_time": "2022-06-05T11:35:02.691Z"
   },
   {
    "duration": 27,
    "start_time": "2022-06-05T11:35:02.698Z"
   },
   {
    "duration": 54,
    "start_time": "2022-06-05T11:35:02.727Z"
   },
   {
    "duration": 27,
    "start_time": "2022-06-05T11:35:02.783Z"
   },
   {
    "duration": 26,
    "start_time": "2022-06-05T11:35:02.812Z"
   },
   {
    "duration": 46,
    "start_time": "2022-06-05T11:35:02.840Z"
   },
   {
    "duration": 15,
    "start_time": "2022-06-05T11:35:02.887Z"
   },
   {
    "duration": 23,
    "start_time": "2022-06-05T11:35:02.904Z"
   },
   {
    "duration": 264,
    "start_time": "2022-06-05T11:35:02.929Z"
   },
   {
    "duration": 5,
    "start_time": "2022-06-05T11:35:03.194Z"
   },
   {
    "duration": 10,
    "start_time": "2022-06-05T11:35:03.201Z"
   },
   {
    "duration": 261,
    "start_time": "2022-06-05T11:35:03.213Z"
   },
   {
    "duration": 6,
    "start_time": "2022-06-05T11:35:03.476Z"
   },
   {
    "duration": 0,
    "start_time": "2022-06-05T11:35:03.483Z"
   },
   {
    "duration": 0,
    "start_time": "2022-06-05T11:35:03.485Z"
   },
   {
    "duration": 0,
    "start_time": "2022-06-05T11:35:03.486Z"
   },
   {
    "duration": 15,
    "start_time": "2022-06-05T11:35:21.997Z"
   },
   {
    "duration": 84,
    "start_time": "2022-06-05T11:35:43.052Z"
   },
   {
    "duration": 20,
    "start_time": "2022-06-05T11:35:55.511Z"
   },
   {
    "duration": 44,
    "start_time": "2022-06-05T11:36:09.197Z"
   },
   {
    "duration": 17,
    "start_time": "2022-06-05T11:36:26.101Z"
   },
   {
    "duration": 15,
    "start_time": "2022-06-05T11:36:36.698Z"
   },
   {
    "duration": 37,
    "start_time": "2022-06-05T11:36:52.315Z"
   },
   {
    "duration": 36,
    "start_time": "2022-06-05T11:37:15.959Z"
   },
   {
    "duration": 33,
    "start_time": "2022-06-05T11:37:34.858Z"
   },
   {
    "duration": 32,
    "start_time": "2022-06-05T11:37:55.521Z"
   },
   {
    "duration": 35,
    "start_time": "2022-06-05T11:38:19.490Z"
   },
   {
    "duration": 20,
    "start_time": "2022-06-05T11:40:55.302Z"
   },
   {
    "duration": 548,
    "start_time": "2022-06-05T11:50:59.306Z"
   },
   {
    "duration": 18,
    "start_time": "2022-06-05T11:50:59.857Z"
   },
   {
    "duration": 17,
    "start_time": "2022-06-05T11:50:59.876Z"
   },
   {
    "duration": 10,
    "start_time": "2022-06-05T11:50:59.895Z"
   },
   {
    "duration": 17,
    "start_time": "2022-06-05T11:50:59.907Z"
   },
   {
    "duration": 16,
    "start_time": "2022-06-05T11:50:59.925Z"
   },
   {
    "duration": 34,
    "start_time": "2022-06-05T11:50:59.943Z"
   },
   {
    "duration": 32,
    "start_time": "2022-06-05T11:50:59.979Z"
   },
   {
    "duration": 4,
    "start_time": "2022-06-05T11:51:00.012Z"
   },
   {
    "duration": 30,
    "start_time": "2022-06-05T11:51:00.017Z"
   },
   {
    "duration": 25,
    "start_time": "2022-06-05T11:51:00.049Z"
   },
   {
    "duration": 32,
    "start_time": "2022-06-05T11:51:00.075Z"
   },
   {
    "duration": 23,
    "start_time": "2022-06-05T11:51:00.108Z"
   },
   {
    "duration": 35,
    "start_time": "2022-06-05T11:51:00.134Z"
   },
   {
    "duration": 13,
    "start_time": "2022-06-05T11:51:00.170Z"
   },
   {
    "duration": 36,
    "start_time": "2022-06-05T11:51:00.185Z"
   },
   {
    "duration": 42,
    "start_time": "2022-06-05T11:51:00.222Z"
   },
   {
    "duration": 24,
    "start_time": "2022-06-05T11:51:00.265Z"
   },
   {
    "duration": 26,
    "start_time": "2022-06-05T11:51:00.290Z"
   },
   {
    "duration": 26,
    "start_time": "2022-06-05T11:51:00.318Z"
   },
   {
    "duration": 36,
    "start_time": "2022-06-05T11:51:00.346Z"
   },
   {
    "duration": 35,
    "start_time": "2022-06-05T11:51:00.383Z"
   },
   {
    "duration": 342,
    "start_time": "2022-06-05T11:51:00.420Z"
   },
   {
    "duration": 5,
    "start_time": "2022-06-05T11:51:00.764Z"
   },
   {
    "duration": 22,
    "start_time": "2022-06-05T11:51:00.771Z"
   },
   {
    "duration": 275,
    "start_time": "2022-06-05T11:51:00.795Z"
   },
   {
    "duration": 16,
    "start_time": "2022-06-05T11:51:01.072Z"
   },
   {
    "duration": 66,
    "start_time": "2022-06-05T11:51:01.090Z"
   },
   {
    "duration": 35,
    "start_time": "2022-06-05T11:51:01.158Z"
   },
   {
    "duration": 48,
    "start_time": "2022-06-05T11:51:01.195Z"
   },
   {
    "duration": 16,
    "start_time": "2022-06-05T22:48:13.739Z"
   },
   {
    "duration": 25,
    "start_time": "2022-06-05T22:48:25.110Z"
   },
   {
    "duration": 16,
    "start_time": "2022-06-05T22:50:06.369Z"
   },
   {
    "duration": 25,
    "start_time": "2022-06-05T22:50:48.977Z"
   },
   {
    "duration": 35,
    "start_time": "2022-06-05T22:58:59.279Z"
   },
   {
    "duration": 3,
    "start_time": "2022-06-05T23:30:08.823Z"
   },
   {
    "duration": 660,
    "start_time": "2022-06-05T23:32:16.930Z"
   },
   {
    "duration": 17,
    "start_time": "2022-06-05T23:32:17.592Z"
   },
   {
    "duration": 13,
    "start_time": "2022-06-05T23:32:17.611Z"
   },
   {
    "duration": 4,
    "start_time": "2022-06-05T23:32:17.626Z"
   },
   {
    "duration": 11,
    "start_time": "2022-06-05T23:32:17.633Z"
   },
   {
    "duration": 6,
    "start_time": "2022-06-05T23:32:17.646Z"
   },
   {
    "duration": 25,
    "start_time": "2022-06-05T23:32:17.653Z"
   },
   {
    "duration": 57,
    "start_time": "2022-06-05T23:32:17.680Z"
   },
   {
    "duration": 3,
    "start_time": "2022-06-05T23:32:17.738Z"
   },
   {
    "duration": 9,
    "start_time": "2022-06-05T23:32:17.743Z"
   },
   {
    "duration": 11,
    "start_time": "2022-06-05T23:32:17.753Z"
   },
   {
    "duration": 8,
    "start_time": "2022-06-05T23:32:17.766Z"
   },
   {
    "duration": 7,
    "start_time": "2022-06-05T23:32:17.776Z"
   },
   {
    "duration": 54,
    "start_time": "2022-06-05T23:32:17.785Z"
   },
   {
    "duration": 4,
    "start_time": "2022-06-05T23:32:17.841Z"
   },
   {
    "duration": 17,
    "start_time": "2022-06-05T23:32:17.846Z"
   },
   {
    "duration": 20,
    "start_time": "2022-06-05T23:32:17.864Z"
   },
   {
    "duration": 57,
    "start_time": "2022-06-05T23:32:17.886Z"
   },
   {
    "duration": 22,
    "start_time": "2022-06-05T23:32:17.945Z"
   },
   {
    "duration": 15,
    "start_time": "2022-06-05T23:32:17.968Z"
   },
   {
    "duration": 46,
    "start_time": "2022-06-05T23:32:17.985Z"
   },
   {
    "duration": 20,
    "start_time": "2022-06-05T23:32:18.033Z"
   },
   {
    "duration": 304,
    "start_time": "2022-06-05T23:32:18.055Z"
   },
   {
    "duration": 6,
    "start_time": "2022-06-05T23:32:18.361Z"
   },
   {
    "duration": 6,
    "start_time": "2022-06-05T23:32:18.369Z"
   },
   {
    "duration": 276,
    "start_time": "2022-06-05T23:32:18.376Z"
   },
   {
    "duration": 18,
    "start_time": "2022-06-05T23:32:18.654Z"
   },
   {
    "duration": 67,
    "start_time": "2022-06-05T23:32:18.674Z"
   },
   {
    "duration": 39,
    "start_time": "2022-06-05T23:32:18.743Z"
   },
   {
    "duration": 59,
    "start_time": "2022-06-05T23:32:18.784Z"
   },
   {
    "duration": 496,
    "start_time": "2022-06-05T23:43:23.468Z"
   },
   {
    "duration": 16,
    "start_time": "2022-06-05T23:43:23.966Z"
   },
   {
    "duration": 11,
    "start_time": "2022-06-05T23:43:23.984Z"
   },
   {
    "duration": 5,
    "start_time": "2022-06-05T23:43:23.996Z"
   },
   {
    "duration": 5,
    "start_time": "2022-06-05T23:43:24.022Z"
   },
   {
    "duration": 6,
    "start_time": "2022-06-05T23:43:24.029Z"
   },
   {
    "duration": 18,
    "start_time": "2022-06-05T23:43:24.037Z"
   },
   {
    "duration": 35,
    "start_time": "2022-06-05T23:43:24.056Z"
   },
   {
    "duration": 33,
    "start_time": "2022-06-05T23:43:24.093Z"
   },
   {
    "duration": 12,
    "start_time": "2022-06-05T23:43:24.128Z"
   },
   {
    "duration": 16,
    "start_time": "2022-06-05T23:43:24.142Z"
   },
   {
    "duration": 7,
    "start_time": "2022-06-05T23:43:24.160Z"
   },
   {
    "duration": 8,
    "start_time": "2022-06-05T23:43:24.169Z"
   },
   {
    "duration": 47,
    "start_time": "2022-06-05T23:43:24.179Z"
   },
   {
    "duration": 4,
    "start_time": "2022-06-05T23:43:24.228Z"
   },
   {
    "duration": 16,
    "start_time": "2022-06-05T23:43:24.233Z"
   },
   {
    "duration": 19,
    "start_time": "2022-06-05T23:43:24.250Z"
   },
   {
    "duration": 53,
    "start_time": "2022-06-05T23:43:24.270Z"
   },
   {
    "duration": 19,
    "start_time": "2022-06-05T23:43:24.326Z"
   },
   {
    "duration": 14,
    "start_time": "2022-06-05T23:43:24.347Z"
   },
   {
    "duration": 13,
    "start_time": "2022-06-05T23:43:24.362Z"
   },
   {
    "duration": 53,
    "start_time": "2022-06-05T23:43:24.377Z"
   },
   {
    "duration": 269,
    "start_time": "2022-06-05T23:43:24.432Z"
   },
   {
    "duration": 7,
    "start_time": "2022-06-05T23:43:24.702Z"
   },
   {
    "duration": 14,
    "start_time": "2022-06-05T23:43:24.711Z"
   },
   {
    "duration": 250,
    "start_time": "2022-06-05T23:43:24.726Z"
   },
   {
    "duration": 25,
    "start_time": "2022-06-05T23:43:24.979Z"
   },
   {
    "duration": 71,
    "start_time": "2022-06-05T23:43:25.006Z"
   },
   {
    "duration": 68,
    "start_time": "2022-06-05T23:43:25.079Z"
   },
   {
    "duration": 41,
    "start_time": "2022-06-05T23:43:25.150Z"
   },
   {
    "duration": 110,
    "start_time": "2022-06-05T23:48:19.910Z"
   },
   {
    "duration": 36,
    "start_time": "2022-06-05T23:49:11.033Z"
   },
   {
    "duration": 50,
    "start_time": "2022-06-05T23:50:25.317Z"
   },
   {
    "duration": 57,
    "start_time": "2022-06-05T23:50:33.412Z"
   },
   {
    "duration": 42,
    "start_time": "2022-06-05T23:58:27.441Z"
   },
   {
    "duration": 32,
    "start_time": "2022-06-05T23:58:45.780Z"
   },
   {
    "duration": 37,
    "start_time": "2022-06-05T23:59:17.591Z"
   },
   {
    "duration": 32,
    "start_time": "2022-06-06T00:00:45.031Z"
   },
   {
    "duration": 35,
    "start_time": "2022-06-06T00:01:25.701Z"
   },
   {
    "duration": 27,
    "start_time": "2022-06-06T00:01:32.879Z"
   },
   {
    "duration": 44,
    "start_time": "2022-06-06T00:01:37.436Z"
   },
   {
    "duration": 502,
    "start_time": "2022-06-06T00:05:14.566Z"
   },
   {
    "duration": 18,
    "start_time": "2022-06-06T00:05:15.070Z"
   },
   {
    "duration": 12,
    "start_time": "2022-06-06T00:05:15.090Z"
   },
   {
    "duration": 23,
    "start_time": "2022-06-06T00:05:15.103Z"
   },
   {
    "duration": 8,
    "start_time": "2022-06-06T00:05:15.128Z"
   },
   {
    "duration": 6,
    "start_time": "2022-06-06T00:05:15.137Z"
   },
   {
    "duration": 19,
    "start_time": "2022-06-06T00:05:15.145Z"
   },
   {
    "duration": 34,
    "start_time": "2022-06-06T00:05:15.166Z"
   },
   {
    "duration": 23,
    "start_time": "2022-06-06T00:05:15.202Z"
   },
   {
    "duration": 10,
    "start_time": "2022-06-06T00:05:15.227Z"
   },
   {
    "duration": 13,
    "start_time": "2022-06-06T00:05:15.239Z"
   },
   {
    "duration": 22,
    "start_time": "2022-06-06T00:05:15.254Z"
   },
   {
    "duration": 18,
    "start_time": "2022-06-06T00:05:15.277Z"
   },
   {
    "duration": 31,
    "start_time": "2022-06-06T00:05:15.298Z"
   },
   {
    "duration": 4,
    "start_time": "2022-06-06T00:05:15.331Z"
   },
   {
    "duration": 20,
    "start_time": "2022-06-06T00:05:15.337Z"
   },
   {
    "duration": 27,
    "start_time": "2022-06-06T00:05:15.360Z"
   },
   {
    "duration": 59,
    "start_time": "2022-06-06T00:05:15.389Z"
   },
   {
    "duration": 27,
    "start_time": "2022-06-06T00:05:15.451Z"
   },
   {
    "duration": 20,
    "start_time": "2022-06-06T00:05:15.481Z"
   },
   {
    "duration": 21,
    "start_time": "2022-06-06T00:05:15.522Z"
   },
   {
    "duration": 30,
    "start_time": "2022-06-06T00:05:15.546Z"
   },
   {
    "duration": 288,
    "start_time": "2022-06-06T00:05:15.577Z"
   },
   {
    "duration": 5,
    "start_time": "2022-06-06T00:05:15.867Z"
   },
   {
    "duration": 4,
    "start_time": "2022-06-06T00:05:15.874Z"
   },
   {
    "duration": 283,
    "start_time": "2022-06-06T00:05:15.880Z"
   },
   {
    "duration": 16,
    "start_time": "2022-06-06T00:05:16.164Z"
   },
   {
    "duration": 4,
    "start_time": "2022-06-06T00:05:16.182Z"
   },
   {
    "duration": 63,
    "start_time": "2022-06-06T00:05:16.187Z"
   },
   {
    "duration": 32,
    "start_time": "2022-06-06T00:05:16.251Z"
   },
   {
    "duration": 56,
    "start_time": "2022-06-06T00:05:16.285Z"
   },
   {
    "duration": 87,
    "start_time": "2022-06-07T01:49:00.504Z"
   },
   {
    "duration": 841,
    "start_time": "2022-06-07T01:49:06.205Z"
   },
   {
    "duration": 26,
    "start_time": "2022-06-07T01:49:07.433Z"
   },
   {
    "duration": 18,
    "start_time": "2022-06-07T01:49:10.011Z"
   },
   {
    "duration": 7,
    "start_time": "2022-06-07T01:49:11.479Z"
   },
   {
    "duration": 4,
    "start_time": "2022-06-07T01:49:12.491Z"
   },
   {
    "duration": 7,
    "start_time": "2022-06-07T01:49:18.649Z"
   },
   {
    "duration": 28,
    "start_time": "2022-06-07T01:50:01.496Z"
   },
   {
    "duration": 10,
    "start_time": "2022-06-07T01:50:09.002Z"
   },
   {
    "duration": 9,
    "start_time": "2022-06-07T01:50:42.732Z"
   },
   {
    "duration": 30,
    "start_time": "2022-06-07T02:06:51.212Z"
   },
   {
    "duration": 22,
    "start_time": "2022-06-07T02:06:59.104Z"
   },
   {
    "duration": 12,
    "start_time": "2022-06-07T02:07:04.026Z"
   },
   {
    "duration": 21,
    "start_time": "2022-06-07T02:07:33.295Z"
   },
   {
    "duration": 10,
    "start_time": "2022-06-07T02:07:47.109Z"
   },
   {
    "duration": 11,
    "start_time": "2022-06-07T02:07:58.750Z"
   },
   {
    "duration": 11,
    "start_time": "2022-06-07T02:08:19.394Z"
   },
   {
    "duration": 176,
    "start_time": "2022-06-07T02:08:33.335Z"
   },
   {
    "duration": 27,
    "start_time": "2022-06-07T02:09:26.232Z"
   },
   {
    "duration": 8,
    "start_time": "2022-06-07T02:12:21.254Z"
   },
   {
    "duration": 9,
    "start_time": "2022-06-07T02:14:38.497Z"
   },
   {
    "duration": 205,
    "start_time": "2022-06-07T02:14:47.653Z"
   },
   {
    "duration": 74,
    "start_time": "2022-06-07T02:19:53.708Z"
   },
   {
    "duration": 218,
    "start_time": "2022-06-07T02:21:07.667Z"
   },
   {
    "duration": 39,
    "start_time": "2022-06-07T02:21:38.491Z"
   },
   {
    "duration": 31,
    "start_time": "2022-06-07T02:22:38.493Z"
   },
   {
    "duration": 47,
    "start_time": "2022-06-07T02:24:02.661Z"
   },
   {
    "duration": 31,
    "start_time": "2022-06-07T02:24:14.695Z"
   },
   {
    "duration": 29,
    "start_time": "2022-06-07T02:25:29.621Z"
   },
   {
    "duration": 82,
    "start_time": "2022-06-07T02:28:23.061Z"
   },
   {
    "duration": 571,
    "start_time": "2022-06-07T02:28:47.203Z"
   },
   {
    "duration": 82,
    "start_time": "2022-06-07T02:28:52.039Z"
   },
   {
    "duration": 73,
    "start_time": "2022-06-07T02:29:23.034Z"
   },
   {
    "duration": 8,
    "start_time": "2022-06-07T02:30:34.223Z"
   },
   {
    "duration": 9,
    "start_time": "2022-06-07T02:30:49.433Z"
   },
   {
    "duration": 24,
    "start_time": "2022-06-07T02:30:58.091Z"
   },
   {
    "duration": 96,
    "start_time": "2022-06-07T02:31:07.817Z"
   },
   {
    "duration": 27,
    "start_time": "2022-06-07T02:31:09.062Z"
   },
   {
    "duration": 12,
    "start_time": "2022-06-07T02:31:11.406Z"
   },
   {
    "duration": 21,
    "start_time": "2022-06-07T02:31:12.511Z"
   },
   {
    "duration": 15,
    "start_time": "2022-06-07T02:31:59.199Z"
   },
   {
    "duration": 31,
    "start_time": "2022-06-07T02:33:43.601Z"
   },
   {
    "duration": 21,
    "start_time": "2022-06-07T02:34:01.809Z"
   },
   {
    "duration": 37,
    "start_time": "2022-06-07T02:34:06.347Z"
   },
   {
    "duration": 57,
    "start_time": "2022-06-07T02:34:23.895Z"
   },
   {
    "duration": 62,
    "start_time": "2022-06-07T02:34:47.226Z"
   },
   {
    "duration": 135,
    "start_time": "2022-06-07T02:35:15.050Z"
   },
   {
    "duration": 14,
    "start_time": "2022-06-07T02:35:16.313Z"
   },
   {
    "duration": 31,
    "start_time": "2022-06-07T02:35:18.558Z"
   },
   {
    "duration": 30,
    "start_time": "2022-06-07T02:35:19.527Z"
   },
   {
    "duration": 39,
    "start_time": "2022-06-07T02:35:20.115Z"
   },
   {
    "duration": 102,
    "start_time": "2022-06-07T02:35:59.036Z"
   },
   {
    "duration": 22,
    "start_time": "2022-06-07T02:36:00.750Z"
   },
   {
    "duration": 11,
    "start_time": "2022-06-07T02:36:03.214Z"
   },
   {
    "duration": 36,
    "start_time": "2022-06-07T02:36:04.069Z"
   },
   {
    "duration": 41,
    "start_time": "2022-06-07T02:36:04.753Z"
   },
   {
    "duration": 98,
    "start_time": "2022-06-07T02:36:46.359Z"
   },
   {
    "duration": 17,
    "start_time": "2022-06-07T02:36:47.411Z"
   },
   {
    "duration": 18,
    "start_time": "2022-06-07T02:36:49.490Z"
   },
   {
    "duration": 46,
    "start_time": "2022-06-07T02:36:50.466Z"
   },
   {
    "duration": 58,
    "start_time": "2022-06-07T02:36:51.045Z"
   },
   {
    "duration": 47,
    "start_time": "2022-06-07T02:40:08.904Z"
   },
   {
    "duration": 8,
    "start_time": "2022-06-07T02:40:15.353Z"
   },
   {
    "duration": 9,
    "start_time": "2022-06-07T02:40:23.040Z"
   },
   {
    "duration": 39,
    "start_time": "2022-06-07T02:40:31.296Z"
   },
   {
    "duration": 31,
    "start_time": "2022-06-07T02:55:49.517Z"
   },
   {
    "duration": 22,
    "start_time": "2022-06-07T02:56:41.596Z"
   },
   {
    "duration": 4,
    "start_time": "2022-06-07T03:02:39.206Z"
   },
   {
    "duration": 525,
    "start_time": "2022-06-07T03:02:45.704Z"
   },
   {
    "duration": 22,
    "start_time": "2022-06-07T03:02:46.232Z"
   },
   {
    "duration": 27,
    "start_time": "2022-06-07T03:02:46.256Z"
   },
   {
    "duration": 29,
    "start_time": "2022-06-07T03:02:46.285Z"
   },
   {
    "duration": 6,
    "start_time": "2022-06-07T03:02:46.317Z"
   },
   {
    "duration": 8,
    "start_time": "2022-06-07T03:02:46.324Z"
   },
   {
    "duration": 19,
    "start_time": "2022-06-07T03:02:46.334Z"
   },
   {
    "duration": 50,
    "start_time": "2022-06-07T03:02:46.355Z"
   },
   {
    "duration": 3,
    "start_time": "2022-06-07T03:02:46.407Z"
   },
   {
    "duration": 13,
    "start_time": "2022-06-07T03:02:46.412Z"
   },
   {
    "duration": 22,
    "start_time": "2022-06-07T03:02:46.427Z"
   },
   {
    "duration": 7,
    "start_time": "2022-06-07T03:02:46.451Z"
   },
   {
    "duration": 9,
    "start_time": "2022-06-07T03:02:46.471Z"
   },
   {
    "duration": 49,
    "start_time": "2022-06-07T03:02:46.484Z"
   },
   {
    "duration": 3,
    "start_time": "2022-06-07T03:02:46.535Z"
   },
   {
    "duration": 15,
    "start_time": "2022-06-07T03:02:46.540Z"
   },
   {
    "duration": 25,
    "start_time": "2022-06-07T03:02:46.557Z"
   },
   {
    "duration": 31,
    "start_time": "2022-06-07T03:02:46.585Z"
   },
   {
    "duration": 20,
    "start_time": "2022-06-07T03:02:46.617Z"
   },
   {
    "duration": 12,
    "start_time": "2022-06-07T03:02:46.638Z"
   },
   {
    "duration": 33,
    "start_time": "2022-06-07T03:02:46.652Z"
   },
   {
    "duration": 20,
    "start_time": "2022-06-07T03:02:46.693Z"
   },
   {
    "duration": 312,
    "start_time": "2022-06-07T03:02:46.715Z"
   },
   {
    "duration": 5,
    "start_time": "2022-06-07T03:02:47.029Z"
   },
   {
    "duration": 6,
    "start_time": "2022-06-07T03:02:47.035Z"
   },
   {
    "duration": 312,
    "start_time": "2022-06-07T03:02:47.042Z"
   },
   {
    "duration": 22,
    "start_time": "2022-06-07T03:02:47.356Z"
   },
   {
    "duration": 37,
    "start_time": "2022-06-07T03:02:47.380Z"
   },
   {
    "duration": 46,
    "start_time": "2022-06-07T03:02:47.419Z"
   },
   {
    "duration": 45,
    "start_time": "2022-06-07T03:02:47.478Z"
   },
   {
    "duration": 33,
    "start_time": "2022-06-07T03:02:47.525Z"
   },
   {
    "duration": 287,
    "start_time": "2022-06-07T03:20:39.211Z"
   },
   {
    "duration": 335,
    "start_time": "2022-06-07T03:20:57.494Z"
   },
   {
    "duration": 286,
    "start_time": "2022-06-07T03:21:13.686Z"
   },
   {
    "duration": 258,
    "start_time": "2022-06-07T03:21:21.084Z"
   },
   {
    "duration": 277,
    "start_time": "2022-06-07T03:22:16.278Z"
   },
   {
    "duration": 565,
    "start_time": "2022-06-07T03:25:30.848Z"
   },
   {
    "duration": 16,
    "start_time": "2022-06-07T03:25:31.415Z"
   },
   {
    "duration": 20,
    "start_time": "2022-06-07T03:25:31.432Z"
   },
   {
    "duration": 74,
    "start_time": "2022-06-07T03:25:31.454Z"
   },
   {
    "duration": 18,
    "start_time": "2022-06-07T03:25:31.531Z"
   },
   {
    "duration": 50,
    "start_time": "2022-06-07T03:25:31.550Z"
   },
   {
    "duration": 32,
    "start_time": "2022-06-07T03:25:31.602Z"
   },
   {
    "duration": 62,
    "start_time": "2022-06-07T03:25:31.636Z"
   },
   {
    "duration": 20,
    "start_time": "2022-06-07T03:25:31.699Z"
   },
   {
    "duration": 23,
    "start_time": "2022-06-07T03:25:31.721Z"
   },
   {
    "duration": 41,
    "start_time": "2022-06-07T03:25:31.746Z"
   },
   {
    "duration": 19,
    "start_time": "2022-06-07T03:25:31.794Z"
   },
   {
    "duration": 26,
    "start_time": "2022-06-07T03:25:31.814Z"
   },
   {
    "duration": 42,
    "start_time": "2022-06-07T03:25:31.843Z"
   },
   {
    "duration": 21,
    "start_time": "2022-06-07T03:25:31.887Z"
   },
   {
    "duration": 22,
    "start_time": "2022-06-07T03:25:31.910Z"
   },
   {
    "duration": 22,
    "start_time": "2022-06-07T03:25:31.935Z"
   },
   {
    "duration": 40,
    "start_time": "2022-06-07T03:25:31.959Z"
   },
   {
    "duration": 39,
    "start_time": "2022-06-07T03:25:32.004Z"
   },
   {
    "duration": 14,
    "start_time": "2022-06-07T03:25:32.046Z"
   },
   {
    "duration": 83,
    "start_time": "2022-06-07T03:25:32.062Z"
   },
   {
    "duration": 32,
    "start_time": "2022-06-07T03:25:32.147Z"
   },
   {
    "duration": 339,
    "start_time": "2022-06-07T03:25:32.188Z"
   },
   {
    "duration": 6,
    "start_time": "2022-06-07T03:25:32.529Z"
   },
   {
    "duration": 22,
    "start_time": "2022-06-07T03:25:32.536Z"
   },
   {
    "duration": 334,
    "start_time": "2022-06-07T03:25:32.560Z"
   },
   {
    "duration": 16,
    "start_time": "2022-06-07T03:25:32.896Z"
   },
   {
    "duration": 28,
    "start_time": "2022-06-07T03:25:32.913Z"
   },
   {
    "duration": 86,
    "start_time": "2022-06-07T03:25:32.942Z"
   },
   {
    "duration": 40,
    "start_time": "2022-06-07T03:25:33.029Z"
   },
   {
    "duration": 67,
    "start_time": "2022-06-07T03:25:33.075Z"
   },
   {
    "duration": 550,
    "start_time": "2022-06-07T03:27:45.145Z"
   },
   {
    "duration": 23,
    "start_time": "2022-06-07T03:27:45.697Z"
   },
   {
    "duration": 15,
    "start_time": "2022-06-07T03:27:45.722Z"
   },
   {
    "duration": 62,
    "start_time": "2022-06-07T03:27:45.739Z"
   },
   {
    "duration": 5,
    "start_time": "2022-06-07T03:27:45.804Z"
   },
   {
    "duration": 10,
    "start_time": "2022-06-07T03:27:45.811Z"
   },
   {
    "duration": 16,
    "start_time": "2022-06-07T03:27:45.822Z"
   },
   {
    "duration": 57,
    "start_time": "2022-06-07T03:27:45.841Z"
   },
   {
    "duration": 4,
    "start_time": "2022-06-07T03:27:45.899Z"
   },
   {
    "duration": 16,
    "start_time": "2022-06-07T03:27:45.904Z"
   },
   {
    "duration": 20,
    "start_time": "2022-06-07T03:27:45.922Z"
   },
   {
    "duration": 7,
    "start_time": "2022-06-07T03:27:45.944Z"
   },
   {
    "duration": 8,
    "start_time": "2022-06-07T03:27:45.953Z"
   },
   {
    "duration": 47,
    "start_time": "2022-06-07T03:27:45.964Z"
   },
   {
    "duration": 4,
    "start_time": "2022-06-07T03:27:46.013Z"
   },
   {
    "duration": 12,
    "start_time": "2022-06-07T03:27:46.019Z"
   },
   {
    "duration": 18,
    "start_time": "2022-06-07T03:27:46.033Z"
   },
   {
    "duration": 27,
    "start_time": "2022-06-07T03:27:46.052Z"
   },
   {
    "duration": 21,
    "start_time": "2022-06-07T03:27:46.084Z"
   },
   {
    "duration": 13,
    "start_time": "2022-06-07T03:27:46.107Z"
   },
   {
    "duration": 17,
    "start_time": "2022-06-07T03:27:46.122Z"
   },
   {
    "duration": 52,
    "start_time": "2022-06-07T03:27:46.141Z"
   },
   {
    "duration": 324,
    "start_time": "2022-06-07T03:27:46.199Z"
   },
   {
    "duration": 6,
    "start_time": "2022-06-07T03:27:46.524Z"
   },
   {
    "duration": 4,
    "start_time": "2022-06-07T03:27:46.531Z"
   },
   {
    "duration": 301,
    "start_time": "2022-06-07T03:27:46.536Z"
   },
   {
    "duration": 16,
    "start_time": "2022-06-07T03:27:46.839Z"
   },
   {
    "duration": 18,
    "start_time": "2022-06-07T03:27:46.874Z"
   },
   {
    "duration": 41,
    "start_time": "2022-06-07T03:27:46.894Z"
   },
   {
    "duration": 44,
    "start_time": "2022-06-07T03:27:46.937Z"
   },
   {
    "duration": 38,
    "start_time": "2022-06-07T03:27:46.986Z"
   },
   {
    "duration": 13,
    "start_time": "2022-06-07T03:36:04.206Z"
   },
   {
    "duration": 601,
    "start_time": "2022-06-07T03:36:16.992Z"
   },
   {
    "duration": 25,
    "start_time": "2022-06-07T03:36:17.595Z"
   },
   {
    "duration": 17,
    "start_time": "2022-06-07T03:36:17.622Z"
   },
   {
    "duration": 15,
    "start_time": "2022-06-07T03:36:17.641Z"
   },
   {
    "duration": 26,
    "start_time": "2022-06-07T03:36:17.658Z"
   },
   {
    "duration": 19,
    "start_time": "2022-06-07T03:36:17.692Z"
   },
   {
    "duration": 24,
    "start_time": "2022-06-07T03:36:17.712Z"
   },
   {
    "duration": 42,
    "start_time": "2022-06-07T03:36:17.738Z"
   },
   {
    "duration": 6,
    "start_time": "2022-06-07T03:36:17.781Z"
   },
   {
    "duration": 24,
    "start_time": "2022-06-07T03:36:17.788Z"
   },
   {
    "duration": 14,
    "start_time": "2022-06-07T03:36:17.814Z"
   },
   {
    "duration": 8,
    "start_time": "2022-06-07T03:36:17.830Z"
   },
   {
    "duration": 7,
    "start_time": "2022-06-07T03:36:17.840Z"
   },
   {
    "duration": 39,
    "start_time": "2022-06-07T03:36:17.851Z"
   },
   {
    "duration": 4,
    "start_time": "2022-06-07T03:36:17.896Z"
   },
   {
    "duration": 13,
    "start_time": "2022-06-07T03:36:17.902Z"
   },
   {
    "duration": 19,
    "start_time": "2022-06-07T03:36:17.917Z"
   },
   {
    "duration": 37,
    "start_time": "2022-06-07T03:36:17.938Z"
   },
   {
    "duration": 25,
    "start_time": "2022-06-07T03:36:17.979Z"
   },
   {
    "duration": 12,
    "start_time": "2022-06-07T03:36:18.005Z"
   },
   {
    "duration": 11,
    "start_time": "2022-06-07T03:36:18.019Z"
   },
   {
    "duration": 17,
    "start_time": "2022-06-07T03:36:18.031Z"
   },
   {
    "duration": 334,
    "start_time": "2022-06-07T03:36:18.049Z"
   },
   {
    "duration": 7,
    "start_time": "2022-06-07T03:36:18.394Z"
   },
   {
    "duration": 8,
    "start_time": "2022-06-07T03:36:18.402Z"
   },
   {
    "duration": 271,
    "start_time": "2022-06-07T03:36:18.411Z"
   },
   {
    "duration": 30,
    "start_time": "2022-06-07T03:36:18.683Z"
   },
   {
    "duration": 5,
    "start_time": "2022-06-07T03:36:18.715Z"
   },
   {
    "duration": 58,
    "start_time": "2022-06-07T03:36:18.722Z"
   },
   {
    "duration": 45,
    "start_time": "2022-06-07T03:36:18.781Z"
   },
   {
    "duration": 51,
    "start_time": "2022-06-07T03:36:18.828Z"
   },
   {
    "duration": 98,
    "start_time": "2022-06-07T03:37:11.774Z"
   },
   {
    "duration": 6,
    "start_time": "2022-06-07T03:37:17.927Z"
   },
   {
    "duration": 29,
    "start_time": "2022-06-07T03:38:08.515Z"
   },
   {
    "duration": 545,
    "start_time": "2022-06-07T03:38:28.388Z"
   },
   {
    "duration": 36,
    "start_time": "2022-06-07T03:38:28.935Z"
   },
   {
    "duration": 36,
    "start_time": "2022-06-07T03:38:28.978Z"
   },
   {
    "duration": 43,
    "start_time": "2022-06-07T03:38:29.016Z"
   },
   {
    "duration": 19,
    "start_time": "2022-06-07T03:38:29.062Z"
   },
   {
    "duration": 39,
    "start_time": "2022-06-07T03:38:29.083Z"
   },
   {
    "duration": 63,
    "start_time": "2022-06-07T03:38:29.124Z"
   },
   {
    "duration": 8,
    "start_time": "2022-06-07T03:38:29.189Z"
   },
   {
    "duration": 34,
    "start_time": "2022-06-07T03:38:29.198Z"
   },
   {
    "duration": 41,
    "start_time": "2022-06-07T03:38:29.234Z"
   },
   {
    "duration": 8,
    "start_time": "2022-06-07T03:38:29.277Z"
   },
   {
    "duration": 29,
    "start_time": "2022-06-07T03:38:29.287Z"
   },
   {
    "duration": 20,
    "start_time": "2022-06-07T03:38:29.318Z"
   },
   {
    "duration": 13,
    "start_time": "2022-06-07T03:38:29.341Z"
   },
   {
    "duration": 57,
    "start_time": "2022-06-07T03:38:29.355Z"
   },
   {
    "duration": 22,
    "start_time": "2022-06-07T03:38:29.413Z"
   },
   {
    "duration": 3,
    "start_time": "2022-06-07T03:38:29.438Z"
   },
   {
    "duration": 14,
    "start_time": "2022-06-07T03:38:29.443Z"
   },
   {
    "duration": 35,
    "start_time": "2022-06-07T03:38:29.459Z"
   },
   {
    "duration": 18,
    "start_time": "2022-06-07T03:38:29.497Z"
   },
   {
    "duration": 17,
    "start_time": "2022-06-07T03:38:29.517Z"
   },
   {
    "duration": 53,
    "start_time": "2022-06-07T03:38:29.536Z"
   },
   {
    "duration": 18,
    "start_time": "2022-06-07T03:38:29.594Z"
   },
   {
    "duration": 18,
    "start_time": "2022-06-07T03:38:29.614Z"
   },
   {
    "duration": 307,
    "start_time": "2022-06-07T03:38:29.634Z"
   },
   {
    "duration": 5,
    "start_time": "2022-06-07T03:38:29.943Z"
   },
   {
    "duration": 47,
    "start_time": "2022-06-07T03:38:29.950Z"
   },
   {
    "duration": 263,
    "start_time": "2022-06-07T03:38:29.999Z"
   },
   {
    "duration": 32,
    "start_time": "2022-06-07T03:38:30.269Z"
   },
   {
    "duration": 11,
    "start_time": "2022-06-07T03:38:30.302Z"
   },
   {
    "duration": 57,
    "start_time": "2022-06-07T03:38:30.315Z"
   },
   {
    "duration": 39,
    "start_time": "2022-06-07T03:38:30.374Z"
   },
   {
    "duration": 36,
    "start_time": "2022-06-07T03:38:30.414Z"
   },
   {
    "duration": 10,
    "start_time": "2022-06-07T03:39:07.845Z"
   },
   {
    "duration": 9,
    "start_time": "2022-06-07T03:39:20.826Z"
   },
   {
    "duration": 579,
    "start_time": "2022-06-07T03:39:43.129Z"
   },
   {
    "duration": 20,
    "start_time": "2022-06-07T03:39:43.711Z"
   },
   {
    "duration": 15,
    "start_time": "2022-06-07T03:39:43.733Z"
   },
   {
    "duration": 30,
    "start_time": "2022-06-07T03:39:43.750Z"
   },
   {
    "duration": 34,
    "start_time": "2022-06-07T03:39:43.786Z"
   },
   {
    "duration": 6,
    "start_time": "2022-06-07T03:39:43.822Z"
   },
   {
    "duration": 11,
    "start_time": "2022-06-07T03:39:43.830Z"
   },
   {
    "duration": 4,
    "start_time": "2022-06-07T03:39:43.842Z"
   },
   {
    "duration": 33,
    "start_time": "2022-06-07T03:39:43.848Z"
   },
   {
    "duration": 36,
    "start_time": "2022-06-07T03:39:43.892Z"
   },
   {
    "duration": 4,
    "start_time": "2022-06-07T03:39:43.930Z"
   },
   {
    "duration": 12,
    "start_time": "2022-06-07T03:39:43.935Z"
   },
   {
    "duration": 14,
    "start_time": "2022-06-07T03:39:43.949Z"
   },
   {
    "duration": 18,
    "start_time": "2022-06-07T03:39:43.966Z"
   },
   {
    "duration": 26,
    "start_time": "2022-06-07T03:39:43.985Z"
   },
   {
    "duration": 24,
    "start_time": "2022-06-07T03:39:44.013Z"
   },
   {
    "duration": 3,
    "start_time": "2022-06-07T03:39:44.039Z"
   },
   {
    "duration": 13,
    "start_time": "2022-06-07T03:39:44.044Z"
   },
   {
    "duration": 25,
    "start_time": "2022-06-07T03:39:44.059Z"
   },
   {
    "duration": 35,
    "start_time": "2022-06-07T03:39:44.086Z"
   },
   {
    "duration": 26,
    "start_time": "2022-06-07T03:39:44.123Z"
   },
   {
    "duration": 24,
    "start_time": "2022-06-07T03:39:44.151Z"
   },
   {
    "duration": 15,
    "start_time": "2022-06-07T03:39:44.179Z"
   },
   {
    "duration": 35,
    "start_time": "2022-06-07T03:39:44.195Z"
   },
   {
    "duration": 310,
    "start_time": "2022-06-07T03:39:44.232Z"
   },
   {
    "duration": 5,
    "start_time": "2022-06-07T03:39:44.544Z"
   },
   {
    "duration": 37,
    "start_time": "2022-06-07T03:39:44.551Z"
   },
   {
    "duration": 306,
    "start_time": "2022-06-07T03:39:44.590Z"
   },
   {
    "duration": 17,
    "start_time": "2022-06-07T03:39:44.898Z"
   },
   {
    "duration": 5,
    "start_time": "2022-06-07T03:39:44.916Z"
   },
   {
    "duration": 50,
    "start_time": "2022-06-07T03:39:44.923Z"
   },
   {
    "duration": 41,
    "start_time": "2022-06-07T03:39:44.980Z"
   },
   {
    "duration": 45,
    "start_time": "2022-06-07T03:39:45.023Z"
   },
   {
    "duration": 590,
    "start_time": "2022-06-07T03:40:31.061Z"
   },
   {
    "duration": 22,
    "start_time": "2022-06-07T03:40:31.653Z"
   },
   {
    "duration": 24,
    "start_time": "2022-06-07T03:40:31.681Z"
   },
   {
    "duration": 13,
    "start_time": "2022-06-07T03:40:31.707Z"
   },
   {
    "duration": 4,
    "start_time": "2022-06-07T03:40:31.722Z"
   },
   {
    "duration": 14,
    "start_time": "2022-06-07T03:40:31.728Z"
   },
   {
    "duration": 26,
    "start_time": "2022-06-07T03:40:31.744Z"
   },
   {
    "duration": 68,
    "start_time": "2022-06-07T03:40:31.777Z"
   },
   {
    "duration": 4,
    "start_time": "2022-06-07T03:40:31.847Z"
   },
   {
    "duration": 30,
    "start_time": "2022-06-07T03:40:31.855Z"
   },
   {
    "duration": 25,
    "start_time": "2022-06-07T03:40:31.894Z"
   },
   {
    "duration": 11,
    "start_time": "2022-06-07T03:40:31.921Z"
   },
   {
    "duration": 12,
    "start_time": "2022-06-07T03:40:31.934Z"
   },
   {
    "duration": 25,
    "start_time": "2022-06-07T03:40:31.948Z"
   },
   {
    "duration": 6,
    "start_time": "2022-06-07T03:40:31.975Z"
   },
   {
    "duration": 46,
    "start_time": "2022-06-07T03:40:31.984Z"
   },
   {
    "duration": 23,
    "start_time": "2022-06-07T03:40:32.032Z"
   },
   {
    "duration": 32,
    "start_time": "2022-06-07T03:40:32.057Z"
   },
   {
    "duration": 33,
    "start_time": "2022-06-07T03:40:32.090Z"
   },
   {
    "duration": 12,
    "start_time": "2022-06-07T03:40:32.125Z"
   },
   {
    "duration": 12,
    "start_time": "2022-06-07T03:40:32.138Z"
   },
   {
    "duration": 30,
    "start_time": "2022-06-07T03:40:32.152Z"
   },
   {
    "duration": 345,
    "start_time": "2022-06-07T03:40:32.184Z"
   },
   {
    "duration": 6,
    "start_time": "2022-06-07T03:40:32.531Z"
   },
   {
    "duration": 7,
    "start_time": "2022-06-07T03:40:32.539Z"
   },
   {
    "duration": 299,
    "start_time": "2022-06-07T03:40:32.547Z"
   },
   {
    "duration": 33,
    "start_time": "2022-06-07T03:40:32.850Z"
   },
   {
    "duration": 21,
    "start_time": "2022-06-07T03:40:32.886Z"
   },
   {
    "duration": 43,
    "start_time": "2022-06-07T03:40:32.908Z"
   },
   {
    "duration": 47,
    "start_time": "2022-06-07T03:40:32.952Z"
   },
   {
    "duration": 43,
    "start_time": "2022-06-07T03:40:33.002Z"
   }
  ],
  "kernelspec": {
   "display_name": "Python 3 (ipykernel)",
   "language": "python",
   "name": "python3"
  },
  "language_info": {
   "codemirror_mode": {
    "name": "ipython",
    "version": 3
   },
   "file_extension": ".py",
   "mimetype": "text/x-python",
   "name": "python",
   "nbconvert_exporter": "python",
   "pygments_lexer": "ipython3",
   "version": "3.9.12"
  },
  "toc": {
   "base_numbering": 1,
   "nav_menu": {},
   "number_sections": true,
   "sideBar": true,
   "skip_h1_title": true,
   "title_cell": "Table of Contents",
   "title_sidebar": "Contents",
   "toc_cell": false,
   "toc_position": {
    "height": "calc(100% - 180px)",
    "left": "10px",
    "top": "150px",
    "width": "165px"
   },
   "toc_section_display": true,
   "toc_window_display": true
  }
 },
 "nbformat": 4,
 "nbformat_minor": 5
}
