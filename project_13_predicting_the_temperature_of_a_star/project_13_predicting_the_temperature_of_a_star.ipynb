{
 "cells": [
  {
   "cell_type": "markdown",
   "id": "f76e0f11",
   "metadata": {},
   "source": [
    "## Проект: Прогнозирование температуры звезды\n",
    "\n",
    "**Dataset Description**\n",
    "\n",
    "   В этом проекте нам нужно нам пришла задача от обсерватории «Небо на ладони»: придумать, как с помощью нейросети определять температуру на поверхности обнаруженных звёзд. \n",
    "\n",
    "**Данные**\n",
    "\n",
    " * База данных `6_class.csv` — обсерватории, с характеристиками 240 звезд.\n",
    " \n",
    "**Описание полей данных:**\n",
    " * `L/Lo` — Относительная светимость, светимость звезды относительно Солнца.\n",
    " * `R/Ro` — Относительный радиус, радиус звезды относительно радиуса Солнца.\n",
    " * `Mv` — Абсолютная звёздная величина, физическая величина, характеризующая блеск звезды.\n",
    " * `Star color` — Звёздный цвет (white, red, blue, yellow, yellow-orange и др.), цвет звезды, который определяют на основе спектрального анализа.\n",
    " * `Star type` — Тип звезды:\n",
    " \n",
    "     | id | Описание |\n",
    "| ------------ | ----- |\n",
    "| 0 | Коричневый карлик |\n",
    "| 1 | Красный карлик |\n",
    "| 2 | Белый карлик |\n",
    "| 3 | Звёзды главной последовательности |\n",
    "| 4 | Сверхгигант |\n",
    "| 5 | Гипергигант |\n",
    "\n",
    "**Цели**\n",
    " \n",
    " * Разработка модели нейронной сети для определения температуры на поверхности обнаруженных звезд.\n",
    "\n",
    " \n",
    "**Структура проекта:**\n",
    " \n",
    "\n",
    " \n",
    "**Предмет исследования:**\n",
    "\n",
    "* База данных обсерватории, с характеристиками 240 звезд.\n",
    " \n",
    "\n",
    "**Методы:** которые мы применим в данном исследовании включают в себя: \n",
    "* Загрузка и получение общей информации о данных.\n",
    "* EDA\n",
    "* Предобработка данных\n",
    "* Пострение нейронных сетей\n",
    "* Оптимизация параметров нейронной сети\n",
    "\n",
    "**Используемые библитеки:** \n",
    "* Pandas\n",
    "* Matplotlib\n",
    "* Seaborn\n",
    "* PyTorch\n",
    "* Numpy"
   ]
  },
  {
   "cell_type": "markdown",
   "id": "corresponding-armstrong",
   "metadata": {
    "ExecuteTime": {
     "end_time": "2022-05-05T04:58:05.692448Z",
     "start_time": "2022-05-05T04:58:05.688565Z"
    }
   },
   "source": [
    "## Загрузка данных"
   ]
  },
  {
   "cell_type": "markdown",
   "id": "9992ed37",
   "metadata": {},
   "source": [
    "Импортируем необходимые библиотеки:"
   ]
  },
  {
   "cell_type": "code",
   "execution_count": 1,
   "id": "34135a77",
   "metadata": {},
   "outputs": [
    {
     "name": "stdout",
     "output_type": "stream",
     "text": [
      "Requirement already satisfied: torch in /opt/conda/lib/python3.9/site-packages (1.10.0)\n",
      "Requirement already satisfied: typing-extensions in /opt/conda/lib/python3.9/site-packages (from torch) (4.3.0)\n",
      "Requirement already satisfied: torchmetrics in /opt/conda/lib/python3.9/site-packages (0.11.4)\n",
      "Requirement already satisfied: packaging in /opt/conda/lib/python3.9/site-packages (from torchmetrics) (21.3)\n",
      "Requirement already satisfied: numpy>=1.17.2 in /opt/conda/lib/python3.9/site-packages (from torchmetrics) (1.21.1)\n",
      "Requirement already satisfied: torch>=1.8.1 in /opt/conda/lib/python3.9/site-packages (from torchmetrics) (1.10.0)\n",
      "Requirement already satisfied: typing-extensions in /opt/conda/lib/python3.9/site-packages (from torch>=1.8.1->torchmetrics) (4.3.0)\n",
      "Requirement already satisfied: pyparsing!=3.0.5,>=2.0.2 in /opt/conda/lib/python3.9/site-packages (from packaging->torchmetrics) (2.4.7)\n"
     ]
    }
   ],
   "source": [
    "! pip install torch\n",
    "! pip install torchmetrics\n",
    "\n",
    "import pandas as pd\n",
    "import matplotlib.pyplot as plt\n",
    "import seaborn as sns\n",
    "import torch\n",
    "import numpy as np\n",
    "from sklearn.preprocessing import OneHotEncoder\n",
    "from sklearn.model_selection import train_test_split\n",
    "from sklearn.preprocessing import MinMaxScaler\n",
    "import torch.nn as nn\n",
    "import math\n",
    "from sklearn.metrics import mean_squared_error\n",
    "from torchmetrics import MeanSquaredError\n",
    "from sklearn.preprocessing import StandardScaler\n",
    "from sklearn.compose import ColumnTransformer\n",
    "\n",
    "RANDOM_SEED = 67\n",
    "torch.manual_seed(67)\n",
    "np.random.seed(67)\n",
    "\n",
    "sns.set(rc={'figure.figsize':(20, 7)})"
   ]
  },
  {
   "cell_type": "markdown",
   "id": "ad84bf1f",
   "metadata": {},
   "source": [
    "Присвоим переменной df данные обсерватории:"
   ]
  },
  {
   "cell_type": "code",
   "execution_count": 2,
   "id": "spectacular-folder",
   "metadata": {},
   "outputs": [],
   "source": [
    "df = pd.read_csv('/datasets/6_class.csv')"
   ]
  },
  {
   "cell_type": "markdown",
   "id": "d7943da0",
   "metadata": {},
   "source": [
    "Проверим корректность загрузки:"
   ]
  },
  {
   "cell_type": "code",
   "execution_count": 3,
   "id": "56f57f36",
   "metadata": {},
   "outputs": [
    {
     "data": {
      "text/html": [
       "<div>\n",
       "<style scoped>\n",
       "    .dataframe tbody tr th:only-of-type {\n",
       "        vertical-align: middle;\n",
       "    }\n",
       "\n",
       "    .dataframe tbody tr th {\n",
       "        vertical-align: top;\n",
       "    }\n",
       "\n",
       "    .dataframe thead th {\n",
       "        text-align: right;\n",
       "    }\n",
       "</style>\n",
       "<table border=\"1\" class=\"dataframe\">\n",
       "  <thead>\n",
       "    <tr style=\"text-align: right;\">\n",
       "      <th></th>\n",
       "      <th>Unnamed: 0</th>\n",
       "      <th>Temperature (K)</th>\n",
       "      <th>Luminosity(L/Lo)</th>\n",
       "      <th>Radius(R/Ro)</th>\n",
       "      <th>Absolute magnitude(Mv)</th>\n",
       "      <th>Star type</th>\n",
       "      <th>Star color</th>\n",
       "    </tr>\n",
       "  </thead>\n",
       "  <tbody>\n",
       "    <tr>\n",
       "      <th>0</th>\n",
       "      <td>0</td>\n",
       "      <td>3068</td>\n",
       "      <td>0.002400</td>\n",
       "      <td>0.1700</td>\n",
       "      <td>16.12</td>\n",
       "      <td>0</td>\n",
       "      <td>Red</td>\n",
       "    </tr>\n",
       "    <tr>\n",
       "      <th>1</th>\n",
       "      <td>1</td>\n",
       "      <td>3042</td>\n",
       "      <td>0.000500</td>\n",
       "      <td>0.1542</td>\n",
       "      <td>16.60</td>\n",
       "      <td>0</td>\n",
       "      <td>Red</td>\n",
       "    </tr>\n",
       "    <tr>\n",
       "      <th>2</th>\n",
       "      <td>2</td>\n",
       "      <td>2600</td>\n",
       "      <td>0.000300</td>\n",
       "      <td>0.1020</td>\n",
       "      <td>18.70</td>\n",
       "      <td>0</td>\n",
       "      <td>Red</td>\n",
       "    </tr>\n",
       "    <tr>\n",
       "      <th>3</th>\n",
       "      <td>3</td>\n",
       "      <td>2800</td>\n",
       "      <td>0.000200</td>\n",
       "      <td>0.1600</td>\n",
       "      <td>16.65</td>\n",
       "      <td>0</td>\n",
       "      <td>Red</td>\n",
       "    </tr>\n",
       "    <tr>\n",
       "      <th>4</th>\n",
       "      <td>4</td>\n",
       "      <td>1939</td>\n",
       "      <td>0.000138</td>\n",
       "      <td>0.1030</td>\n",
       "      <td>20.06</td>\n",
       "      <td>0</td>\n",
       "      <td>Red</td>\n",
       "    </tr>\n",
       "  </tbody>\n",
       "</table>\n",
       "</div>"
      ],
      "text/plain": [
       "   Unnamed: 0  Temperature (K)  Luminosity(L/Lo)  Radius(R/Ro)  \\\n",
       "0           0             3068          0.002400        0.1700   \n",
       "1           1             3042          0.000500        0.1542   \n",
       "2           2             2600          0.000300        0.1020   \n",
       "3           3             2800          0.000200        0.1600   \n",
       "4           4             1939          0.000138        0.1030   \n",
       "\n",
       "   Absolute magnitude(Mv)  Star type Star color  \n",
       "0                   16.12          0        Red  \n",
       "1                   16.60          0        Red  \n",
       "2                   18.70          0        Red  \n",
       "3                   16.65          0        Red  \n",
       "4                   20.06          0        Red  "
      ]
     },
     "execution_count": 3,
     "metadata": {},
     "output_type": "execute_result"
    }
   ],
   "source": [
    "df.head()"
   ]
  },
  {
   "cell_type": "markdown",
   "id": "simple-subdivision",
   "metadata": {},
   "source": [
    "## Предобработка и анализ данных"
   ]
  },
  {
   "cell_type": "markdown",
   "id": "e377e7f3",
   "metadata": {},
   "source": [
    "Колонка `Unnamed: 0` - не несет никакой информации, избавимся от него:"
   ]
  },
  {
   "cell_type": "code",
   "execution_count": 4,
   "id": "4bc4815f",
   "metadata": {},
   "outputs": [],
   "source": [
    "df = df.drop('Unnamed: 0', axis=1)"
   ]
  },
  {
   "cell_type": "markdown",
   "id": "528e0c40",
   "metadata": {},
   "source": [
    "Приведем наименование стобцов к `snake_case`:"
   ]
  },
  {
   "cell_type": "code",
   "execution_count": 5,
   "id": "0e60abe2",
   "metadata": {},
   "outputs": [
    {
     "data": {
      "text/html": [
       "<div>\n",
       "<style scoped>\n",
       "    .dataframe tbody tr th:only-of-type {\n",
       "        vertical-align: middle;\n",
       "    }\n",
       "\n",
       "    .dataframe tbody tr th {\n",
       "        vertical-align: top;\n",
       "    }\n",
       "\n",
       "    .dataframe thead th {\n",
       "        text-align: right;\n",
       "    }\n",
       "</style>\n",
       "<table border=\"1\" class=\"dataframe\">\n",
       "  <thead>\n",
       "    <tr style=\"text-align: right;\">\n",
       "      <th></th>\n",
       "      <th>temperature</th>\n",
       "      <th>luminosity</th>\n",
       "      <th>radius</th>\n",
       "      <th>magnitude</th>\n",
       "      <th>star_type</th>\n",
       "      <th>star_color</th>\n",
       "    </tr>\n",
       "  </thead>\n",
       "  <tbody>\n",
       "    <tr>\n",
       "      <th>0</th>\n",
       "      <td>3068</td>\n",
       "      <td>0.002400</td>\n",
       "      <td>0.1700</td>\n",
       "      <td>16.12</td>\n",
       "      <td>0</td>\n",
       "      <td>Red</td>\n",
       "    </tr>\n",
       "    <tr>\n",
       "      <th>1</th>\n",
       "      <td>3042</td>\n",
       "      <td>0.000500</td>\n",
       "      <td>0.1542</td>\n",
       "      <td>16.60</td>\n",
       "      <td>0</td>\n",
       "      <td>Red</td>\n",
       "    </tr>\n",
       "    <tr>\n",
       "      <th>2</th>\n",
       "      <td>2600</td>\n",
       "      <td>0.000300</td>\n",
       "      <td>0.1020</td>\n",
       "      <td>18.70</td>\n",
       "      <td>0</td>\n",
       "      <td>Red</td>\n",
       "    </tr>\n",
       "    <tr>\n",
       "      <th>3</th>\n",
       "      <td>2800</td>\n",
       "      <td>0.000200</td>\n",
       "      <td>0.1600</td>\n",
       "      <td>16.65</td>\n",
       "      <td>0</td>\n",
       "      <td>Red</td>\n",
       "    </tr>\n",
       "    <tr>\n",
       "      <th>4</th>\n",
       "      <td>1939</td>\n",
       "      <td>0.000138</td>\n",
       "      <td>0.1030</td>\n",
       "      <td>20.06</td>\n",
       "      <td>0</td>\n",
       "      <td>Red</td>\n",
       "    </tr>\n",
       "  </tbody>\n",
       "</table>\n",
       "</div>"
      ],
      "text/plain": [
       "   temperature  luminosity  radius  magnitude  star_type star_color\n",
       "0         3068    0.002400  0.1700      16.12          0        Red\n",
       "1         3042    0.000500  0.1542      16.60          0        Red\n",
       "2         2600    0.000300  0.1020      18.70          0        Red\n",
       "3         2800    0.000200  0.1600      16.65          0        Red\n",
       "4         1939    0.000138  0.1030      20.06          0        Red"
      ]
     },
     "execution_count": 5,
     "metadata": {},
     "output_type": "execute_result"
    }
   ],
   "source": [
    "name_dict = {'Temperature (K)': 'temperature',\n",
    "             'Luminosity(L/Lo)': 'luminosity',\n",
    "             'Radius(R/Ro)': 'radius',\n",
    "             'Absolute magnitude(Mv)': 'magnitude',\n",
    "             'Star type': 'star_type',\n",
    "             'Star color': 'star_color'}\n",
    "        \n",
    "df.rename(columns=name_dict, inplace=True)\n",
    "\n",
    "df.head()"
   ]
  },
  {
   "cell_type": "code",
   "execution_count": 6,
   "id": "e1adf952",
   "metadata": {},
   "outputs": [
    {
     "name": "stdout",
     "output_type": "stream",
     "text": [
      "<class 'pandas.core.frame.DataFrame'>\n",
      "RangeIndex: 240 entries, 0 to 239\n",
      "Data columns (total 6 columns):\n",
      " #   Column       Non-Null Count  Dtype  \n",
      "---  ------       --------------  -----  \n",
      " 0   temperature  240 non-null    int64  \n",
      " 1   luminosity   240 non-null    float64\n",
      " 2   radius       240 non-null    float64\n",
      " 3   magnitude    240 non-null    float64\n",
      " 4   star_type    240 non-null    int64  \n",
      " 5   star_color   240 non-null    object \n",
      "dtypes: float64(3), int64(2), object(1)\n",
      "memory usage: 11.4+ KB\n"
     ]
    }
   ],
   "source": [
    "df.info()"
   ]
  },
  {
   "cell_type": "markdown",
   "id": "b80ac2e1",
   "metadata": {},
   "source": [
    "Мы имеем 240 строк данных, без пропусков. \n",
    "\n",
    "Два столбца с цельночисленным типом данных: 'temperature', 'star_type'.\n",
    "\n",
    "Три столбца с вещественным типом: 'luminosity', 'radius', 'magnitude'.\n",
    "\n",
    "Один столбец с типом object: 'star_color'. "
   ]
  },
  {
   "cell_type": "markdown",
   "id": "136c26ac",
   "metadata": {},
   "source": [
    "### Исследовательский анализ количественных данных"
   ]
  },
  {
   "cell_type": "markdown",
   "id": "2ae239f4",
   "metadata": {},
   "source": [
    "#### temperature"
   ]
  },
  {
   "cell_type": "code",
   "execution_count": 7,
   "id": "e638f220",
   "metadata": {},
   "outputs": [
    {
     "data": {
      "text/plain": [
       "count      240.000000\n",
       "mean     10497.462500\n",
       "std       9552.425037\n",
       "min       1939.000000\n",
       "25%       3344.250000\n",
       "50%       5776.000000\n",
       "75%      15055.500000\n",
       "max      40000.000000\n",
       "Name: temperature, dtype: float64"
      ]
     },
     "execution_count": 7,
     "metadata": {},
     "output_type": "execute_result"
    }
   ],
   "source": [
    "df['temperature'].describe()"
   ]
  },
  {
   "cell_type": "code",
   "execution_count": 8,
   "id": "b92ad834",
   "metadata": {},
   "outputs": [],
   "source": [
    "def num_stat(target_feature):\n",
    "    fig, (ax_history, ax_boxplot) = plt.subplots(2, sharex=True, gridspec_kw={'height_ratios': (.8, .2)}, figsize=(20, 7))\n",
    "    \n",
    "    sns.histplot(x=df[target_feature], ax=ax_history)\n",
    "    sns.boxplot(x=df[target_feature], ax=ax_boxplot)\n",
    "    \n",
    "    ax_boxplot.set(xlabel=str(target_feature))\n",
    "    ax_boxplot.set(ylabel='Count')\n",
    "    ax_boxplot.set(title=str(target_feature) + ' distribution')\n",
    "    \n",
    "    plt.show()"
   ]
  },
  {
   "cell_type": "code",
   "execution_count": 9,
   "id": "4ae95f8a",
   "metadata": {},
   "outputs": [
    {
     "data": {
      "image/png": "[encoded data removed]",
      "text/plain": [
       "<Figure size 1440x504 with 2 Axes>"
      ]
     },
     "metadata": {},
     "output_type": "display_data"
    }
   ],
   "source": [
    "num_stat('temperature')"
   ]
  },
  {
   "cell_type": "markdown",
   "id": "a74dcc90",
   "metadata": {},
   "source": [
    "Половина звезд имеют температуру 5.000 кельвинов, максимальная температура состовляет до 40.000 кельвинов. Причем с увеличением температуры звезды уменьшается количество звезд. Большинство звезд имеет температуру 1939 кельвинов до 32.000. Судя по диаграмме размаха имеем значения детектированные как вбросы по температуре более 32.000 кельвинов. Т.к. данных не много не будем применять фильтрацию по статистической значимости."
   ]
  },
  {
   "cell_type": "markdown",
   "id": "cd9beed6",
   "metadata": {},
   "source": [
    "#### luminosity"
   ]
  },
  {
   "cell_type": "code",
   "execution_count": 10,
   "id": "dde74a2f",
   "metadata": {},
   "outputs": [
    {
     "data": {
      "text/plain": [
       "count       240.000000\n",
       "mean     107188.361635\n",
       "std      179432.244940\n",
       "min           0.000080\n",
       "25%           0.000865\n",
       "50%           0.070500\n",
       "75%      198050.000000\n",
       "max      849420.000000\n",
       "Name: luminosity, dtype: float64"
      ]
     },
     "execution_count": 10,
     "metadata": {},
     "output_type": "execute_result"
    }
   ],
   "source": [
    "df['luminosity'].describe()"
   ]
  },
  {
   "cell_type": "code",
   "execution_count": 11,
   "id": "1400e4d0",
   "metadata": {},
   "outputs": [
    {
     "data": {
      "image/png": "[encoded data removed]",
      "text/plain": [
       "<Figure size 1440x504 with 2 Axes>"
      ]
     },
     "metadata": {},
     "output_type": "display_data"
    }
   ],
   "source": [
    "num_stat('luminosity')"
   ]
  },
  {
   "cell_type": "markdown",
   "id": "4e3ebea2",
   "metadata": {},
   "source": [
    "Около 150 звезд имеет светимость до 0.07, остальная часть вплоть до 850.000, также наблюдаем небольшой пик количества звезд в районе светимости 200.000. Судя по диаграмме размаха основная часть звезд имеет светимость до 450.000."
   ]
  },
  {
   "cell_type": "markdown",
   "id": "9bacd196",
   "metadata": {},
   "source": [
    "На первый взгляд не видно линейной зависимости температуры поверхности звезды от ее светимости."
   ]
  },
  {
   "cell_type": "markdown",
   "id": "2e784c0d",
   "metadata": {},
   "source": [
    "#### radius"
   ]
  },
  {
   "cell_type": "code",
   "execution_count": 12,
   "id": "044bde25",
   "metadata": {},
   "outputs": [
    {
     "data": {
      "text/plain": [
       "count     240.000000\n",
       "mean      237.157781\n",
       "std       517.155763\n",
       "min         0.008400\n",
       "25%         0.102750\n",
       "50%         0.762500\n",
       "75%        42.750000\n",
       "max      1948.500000\n",
       "Name: radius, dtype: float64"
      ]
     },
     "execution_count": 12,
     "metadata": {},
     "output_type": "execute_result"
    }
   ],
   "source": [
    "df['radius'].describe()"
   ]
  },
  {
   "cell_type": "code",
   "execution_count": 13,
   "id": "c6b020cf",
   "metadata": {},
   "outputs": [
    {
     "data": {
      "image/png": "[encoded data removed]",
      "text/plain": [
       "<Figure size 1440x504 with 2 Axes>"
      ]
     },
     "metadata": {},
     "output_type": "display_data"
    }
   ],
   "source": [
    "num_stat('radius')"
   ]
  },
  {
   "cell_type": "markdown",
   "id": "00144b6c",
   "metadata": {},
   "source": [
    "Большинство звезд имеют радиус 0.76 от радиуса солнца. Звезды с большим радиусом детектируются как выбросы. Из-за малого количества данных не будем фильтровать данные. Линейной зависимости светимости от радиуса звезды не наблюдаем."
   ]
  },
  {
   "cell_type": "markdown",
   "id": "6bb627a4",
   "metadata": {},
   "source": [
    "#### magnitude"
   ]
  },
  {
   "cell_type": "code",
   "execution_count": 14,
   "id": "forced-concentrate",
   "metadata": {},
   "outputs": [
    {
     "data": {
      "text/plain": [
       "count    240.000000\n",
       "mean       4.382396\n",
       "std       10.532512\n",
       "min      -11.920000\n",
       "25%       -6.232500\n",
       "50%        8.313000\n",
       "75%       13.697500\n",
       "max       20.060000\n",
       "Name: magnitude, dtype: float64"
      ]
     },
     "execution_count": 14,
     "metadata": {},
     "output_type": "execute_result"
    }
   ],
   "source": [
    "df['magnitude'].describe()"
   ]
  },
  {
   "cell_type": "code",
   "execution_count": 15,
   "id": "df8c1cf8",
   "metadata": {},
   "outputs": [
    {
     "data": {
      "image/png": "[encoded data removed]",
      "text/plain": [
       "<Figure size 1440x504 with 2 Axes>"
      ]
     },
     "metadata": {},
     "output_type": "display_data"
    }
   ],
   "source": [
    "num_stat('magnitude')"
   ]
  },
  {
   "cell_type": "markdown",
   "id": "1c3eaaf8",
   "metadata": {},
   "source": [
    "`magnitude` - является мерой светимости небесного объекта в обратном логарифмическом масштабе астрономической величины.  Абсолютная величина объекта определяется как равная видимой величине , которую объект имел бы, если бы его наблюдали с расстояния ровно 10 парсеков (32,6 световых года ), без угасания (или затемнения) его света из-за поглощения межзвездными телами, материей и космической пылью. В наших данных светимсоть имеет диапазон от -12 до 20 едениц. Имеем два пика в количестве звезд с светимсотью от -5 до -10 и от 10 до 15 едениц"
   ]
  },
  {
   "cell_type": "markdown",
   "id": "4b82b459",
   "metadata": {},
   "source": [
    "### Исследовательский анализ категориальных данных"
   ]
  },
  {
   "cell_type": "markdown",
   "id": "a25a39f2",
   "metadata": {},
   "source": [
    "#### star_type"
   ]
  },
  {
   "cell_type": "markdown",
   "id": "11bc0e17",
   "metadata": {},
   "source": [
    "| id | Описание |\n",
    "| ------------ | ----- |\n",
    "| 0 | Коричневый карлик |\n",
    "| 1 | Красный карлик |\n",
    "| 2 | Белый карлик |\n",
    "| 3 | Звёзды главной последовательности |\n",
    "| 4 | Сверхгигант |\n",
    "| 5 | Гипергигант |"
   ]
  },
  {
   "cell_type": "code",
   "execution_count": 16,
   "id": "d86b57c5",
   "metadata": {},
   "outputs": [
    {
     "data": {
      "text/plain": [
       "array([0, 1, 2, 3, 4, 5])"
      ]
     },
     "execution_count": 16,
     "metadata": {},
     "output_type": "execute_result"
    }
   ],
   "source": [
    "df['star_type'].unique()"
   ]
  },
  {
   "cell_type": "code",
   "execution_count": 17,
   "id": "5ff13efa",
   "metadata": {},
   "outputs": [
    {
     "data": {
      "image/png": "[encoded data removed]",
      "text/plain": [
       "<Figure size 1440x504 with 1 Axes>"
      ]
     },
     "metadata": {},
     "output_type": "display_data"
    }
   ],
   "source": [
    "sns.histplot(x=df['star_type'], )\n",
    "plt.show()"
   ]
  },
  {
   "cell_type": "markdown",
   "id": "ba8944ad",
   "metadata": {},
   "source": [
    "Имеем шесть категорий звезд, каждая категория представлена ровно 40 строками датасета."
   ]
  },
  {
   "cell_type": "markdown",
   "id": "f1432525",
   "metadata": {},
   "source": [
    "#### star_color"
   ]
  },
  {
   "cell_type": "markdown",
   "id": "a8a5b05e",
   "metadata": {},
   "source": [
    "Взглянем на уникальные значения столбца `star_color`:"
   ]
  },
  {
   "cell_type": "code",
   "execution_count": 18,
   "id": "ce448473",
   "metadata": {},
   "outputs": [
    {
     "data": {
      "text/plain": [
       "array(['Red', 'Blue White', 'White', 'Yellowish White', 'Blue white',\n",
       "       'Pale yellow orange', 'Blue', 'Blue-white', 'Whitish',\n",
       "       'yellow-white', 'Orange', 'White-Yellow', 'white', 'Blue ',\n",
       "       'yellowish', 'Yellowish', 'Orange-Red', 'Blue white ',\n",
       "       'Blue-White'], dtype=object)"
      ]
     },
     "execution_count": 18,
     "metadata": {},
     "output_type": "execute_result"
    }
   ],
   "source": [
    "df['star_color'].unique()"
   ]
  },
  {
   "cell_type": "markdown",
   "id": "9ad9d5b9",
   "metadata": {},
   "source": [
    "Избавимся от неявных дубликатов:"
   ]
  },
  {
   "cell_type": "code",
   "execution_count": 19,
   "id": "abd49614",
   "metadata": {},
   "outputs": [
    {
     "data": {
      "text/plain": [
       "array(['red', 'blue_white', 'white', 'yellowish_white',\n",
       "       'pale_yellow_orange', 'blue', 'whitish', 'yellow_white', 'orange',\n",
       "       'white_yellow', 'yellowish', 'orange_red'], dtype=object)"
      ]
     },
     "execution_count": 19,
     "metadata": {},
     "output_type": "execute_result"
    }
   ],
   "source": [
    "df['star_color'] = df['star_color'].str.lower()\n",
    "df['star_color'] = df['star_color'].map(str.strip)\n",
    "df['star_color'] = df['star_color'].str.replace(' ', '_')\n",
    "df['star_color'] = df['star_color'].str.replace('-', '_')\n",
    "df['star_color'].unique()"
   ]
  },
  {
   "cell_type": "code",
   "execution_count": 20,
   "id": "631acc86",
   "metadata": {},
   "outputs": [
    {
     "data": {
      "text/html": [
       "<div>\n",
       "<style scoped>\n",
       "    .dataframe tbody tr th:only-of-type {\n",
       "        vertical-align: middle;\n",
       "    }\n",
       "\n",
       "    .dataframe tbody tr th {\n",
       "        vertical-align: top;\n",
       "    }\n",
       "\n",
       "    .dataframe thead th {\n",
       "        text-align: right;\n",
       "    }\n",
       "</style>\n",
       "<table border=\"1\" class=\"dataframe\">\n",
       "  <thead>\n",
       "    <tr style=\"text-align: right;\">\n",
       "      <th></th>\n",
       "      <th>star_color</th>\n",
       "    </tr>\n",
       "  </thead>\n",
       "  <tbody>\n",
       "    <tr>\n",
       "      <th>red</th>\n",
       "      <td>112</td>\n",
       "    </tr>\n",
       "    <tr>\n",
       "      <th>blue</th>\n",
       "      <td>56</td>\n",
       "    </tr>\n",
       "    <tr>\n",
       "      <th>blue_white</th>\n",
       "      <td>41</td>\n",
       "    </tr>\n",
       "    <tr>\n",
       "      <th>white</th>\n",
       "      <td>10</td>\n",
       "    </tr>\n",
       "    <tr>\n",
       "      <th>yellow_white</th>\n",
       "      <td>8</td>\n",
       "    </tr>\n",
       "    <tr>\n",
       "      <th>yellowish_white</th>\n",
       "      <td>3</td>\n",
       "    </tr>\n",
       "    <tr>\n",
       "      <th>yellowish</th>\n",
       "      <td>3</td>\n",
       "    </tr>\n",
       "    <tr>\n",
       "      <th>orange</th>\n",
       "      <td>2</td>\n",
       "    </tr>\n",
       "    <tr>\n",
       "      <th>whitish</th>\n",
       "      <td>2</td>\n",
       "    </tr>\n",
       "    <tr>\n",
       "      <th>pale_yellow_orange</th>\n",
       "      <td>1</td>\n",
       "    </tr>\n",
       "    <tr>\n",
       "      <th>orange_red</th>\n",
       "      <td>1</td>\n",
       "    </tr>\n",
       "    <tr>\n",
       "      <th>white_yellow</th>\n",
       "      <td>1</td>\n",
       "    </tr>\n",
       "  </tbody>\n",
       "</table>\n",
       "</div>"
      ],
      "text/plain": [
       "                    star_color\n",
       "red                        112\n",
       "blue                        56\n",
       "blue_white                  41\n",
       "white                       10\n",
       "yellow_white                 8\n",
       "yellowish_white              3\n",
       "yellowish                    3\n",
       "orange                       2\n",
       "whitish                      2\n",
       "pale_yellow_orange           1\n",
       "orange_red                   1\n",
       "white_yellow                 1"
      ]
     },
     "execution_count": 20,
     "metadata": {},
     "output_type": "execute_result"
    }
   ],
   "source": [
    "pd.DataFrame(df['star_color'].value_counts())"
   ]
  },
  {
   "cell_type": "markdown",
   "id": "d7b2a8e7",
   "metadata": {},
   "source": [
    "Почти половина звезд (112 шт.) имеет красный спектральный цвет, на втором месте по популярности находятся звезды с синим спектральным цветом (56 шт.), тройку лидеров по распространнености занимают звезды с бело-голубым спетром (41 шт.)"
   ]
  },
  {
   "cell_type": "markdown",
   "id": "2ee369d3",
   "metadata": {},
   "source": [
    "Так же мы видим что звезд начиная с белого спектра очень мало, поэтому выведим их в отдельную категорию `other`:"
   ]
  },
  {
   "cell_type": "code",
   "execution_count": 21,
   "id": "5f3b90f9",
   "metadata": {},
   "outputs": [],
   "source": [
    "most_frequent = ['red', 'blue', 'blue_white']\n",
    "df['star_color'] = df['star_color'].apply(lambda x: 'others' if x not in most_frequent else x)"
   ]
  },
  {
   "cell_type": "code",
   "execution_count": 22,
   "id": "373897f5",
   "metadata": {},
   "outputs": [
    {
     "data": {
      "image/png": "[encoded data removed]",
      "text/plain": [
       "<Figure size 1440x504 with 1 Axes>"
      ]
     },
     "metadata": {},
     "output_type": "display_data"
    }
   ],
   "source": [
    "sns.histplot(x=df['star_color'], )\n",
    "plt.show()"
   ]
  },
  {
   "cell_type": "markdown",
   "id": "fa167874",
   "metadata": {},
   "source": [
    "В данных по цвету звезды преобладает красный спектр."
   ]
  },
  {
   "cell_type": "markdown",
   "id": "f5546074",
   "metadata": {},
   "source": [
    "### Подготовка данных к построению модели\n",
    "По результату исследовательского анализа внесите корректировки, если они нужны. Сделайте вывод."
   ]
  },
  {
   "cell_type": "markdown",
   "id": "bfe9363c",
   "metadata": {},
   "source": [
    "Если необходимо, категоризируйте исходные данные."
   ]
  },
  {
   "cell_type": "markdown",
   "id": "523922d0",
   "metadata": {},
   "source": [
    "Считаю что категоризация данных не требуется."
   ]
  },
  {
   "cell_type": "markdown",
   "id": "e8771ba2",
   "metadata": {},
   "source": [
    "Подготовьте обучающую и тестовую выборки."
   ]
  },
  {
   "cell_type": "markdown",
   "id": "e04a36ec",
   "metadata": {},
   "source": [
    "Подготовим обучающую и тестовую выборку при помощи пакета sklearn.model_selection, размер тестовой выборки выберем 20%:"
   ]
  },
  {
   "cell_type": "code",
   "execution_count": 23,
   "id": "6ffb241a",
   "metadata": {},
   "outputs": [],
   "source": [
    "X_train, X_test, y_train, y_test = train_test_split(\n",
    "    df.drop(columns=['temperature']), \n",
    "    df.temperature, \n",
    "    test_size=0.2, \n",
    "    random_state=RANDOM_SEED, \n",
    "    shuffle=True)"
   ]
  },
  {
   "cell_type": "markdown",
   "id": "5bcc1223",
   "metadata": {},
   "source": [
    "Произведем OHE кодирование данных в столбцах: `star_color` и `star_type`. Чтобы не попасть в `dummy` ловушку используем параметр: drop_first=True: "
   ]
  },
  {
   "cell_type": "code",
   "execution_count": 24,
   "id": "1f6f4f16",
   "metadata": {},
   "outputs": [],
   "source": [
    "ohe = OneHotEncoder()\n",
    "ss = StandardScaler()\n",
    "\n",
    "numeric = X_train.select_dtypes([np.float64]).columns\n",
    "categorical = X_train.select_dtypes(include=['object', np.int64]).columns\n",
    "\n",
    "col_transformer = ColumnTransformer(\n",
    "                    transformers=[\n",
    "                        ('ohe', OneHotEncoder(), categorical),\n",
    "                        ('ss', StandardScaler(), numeric)\n",
    "                    ], n_jobs=-1\n",
    "                    )"
   ]
  },
  {
   "cell_type": "code",
   "execution_count": 25,
   "id": "8cdf4c40",
   "metadata": {},
   "outputs": [],
   "source": [
    "X_train = col_transformer.fit_transform(X_train)\n",
    "X_test = col_transformer.transform(X_test)"
   ]
  },
  {
   "cell_type": "markdown",
   "id": "5d073a57",
   "metadata": {},
   "source": [
    "Трансформируем train и test выборки в Tensor:"
   ]
  },
  {
   "cell_type": "code",
   "execution_count": 28,
   "id": "c9f41fcc",
   "metadata": {},
   "outputs": [],
   "source": [
    "X_train = torch.from_numpy(X_train.astype(np.float32))\n",
    "X_test = torch.from_numpy(X_test.astype(np.float32))\n",
    "\n",
    "y_train = torch.FloatTensor(y_train.values).reshape(y_train.shape[0], 1)\n",
    "y_test = torch.FloatTensor(y_test.values).reshape(y_test.shape[0], 1)"
   ]
  },
  {
   "cell_type": "markdown",
   "id": "67286900",
   "metadata": {},
   "source": [
    "## Построение простой модели нейронной сети — baseline"
   ]
  },
  {
   "cell_type": "markdown",
   "id": "474a5628",
   "metadata": {},
   "source": [
    "Создайте класс для задания архитектуры нейронной сети."
   ]
  },
  {
   "cell_type": "code",
   "execution_count": 29,
   "id": "143a337b",
   "metadata": {},
   "outputs": [],
   "source": [
    "class Net1(nn.Module):\n",
    "    def __init__(self, n_in_neurons, n_hidden_neurons_1, n_hidden_neurons_2, n_hidden_neurons_3, n_out_neurons):\n",
    "        super(Net1, self).__init__()\n",
    "        \n",
    "        self.fc1 = nn.Linear(n_in_neurons, n_hidden_neurons_1)\n",
    "        self.relu1 = nn.ReLU()\n",
    "        \n",
    "        self.fc3 = nn.Linear(n_hidden_neurons_1, n_out_neurons)\n",
    "\n",
    "    def forward(self, x):\n",
    "        x = self.fc1(x)\n",
    "        x = self.relu1(x)\n",
    "        \n",
    "        x = self.fc3(x)\n",
    "        \n",
    "        return x\n",
    "\n",
    "class Net2(nn.Module):\n",
    "    def __init__(self, n_in_neurons, n_hidden_neurons_1, n_hidden_neurons_2, n_hidden_neurons_3, n_out_neurons):\n",
    "        super(Net2, self).__init__()\n",
    "        \n",
    "        self.fc1 = nn.Linear(n_in_neurons, n_hidden_neurons_1)\n",
    "        self.relu1 = nn.Tanh()\n",
    "        \n",
    "        self.fc2 = nn.Linear(n_hidden_neurons_1, n_hidden_neurons_2)\n",
    "        self.relu2 = nn.ReLU()\n",
    "        \n",
    "        self.fc3 = nn.Linear(n_hidden_neurons_2, n_out_neurons)\n",
    "\n",
    "    def forward(self, x):\n",
    "        x = self.fc1(x)\n",
    "        x = self.relu1(x)\n",
    "        \n",
    "        x = self.fc2(x)\n",
    "        x = self.relu2(x)\n",
    "        \n",
    "        x = self.fc3(x)\n",
    "        \n",
    "        return x\n",
    "    \n",
    "class Net3(nn.Module):\n",
    "    def __init__(self, n_in_neurons, n_hidden_neurons_1, n_hidden_neurons_2, n_hidden_neurons_3, n_out_neurons):\n",
    "        super(Net3, self).__init__()\n",
    "        \n",
    "        self.fc1 = nn.Linear(n_in_neurons, n_hidden_neurons_1)\n",
    "        self.relu1 = nn.Tanh()\n",
    "        \n",
    "        self.fc2 = nn.Linear(n_hidden_neurons_1, n_hidden_neurons_2)\n",
    "        self.relu2 = nn.ReLU()\n",
    "        \n",
    "        self.fc3 = nn.Linear(n_hidden_neurons_2, n_hidden_neurons_3)\n",
    "        self.relu3 = nn.ReLU()\n",
    "        \n",
    "        self.fc4 = nn.Linear(n_hidden_neurons_3, n_out_neurons)\n",
    "\n",
    "    def forward(self, x):\n",
    "        x = self.fc1(x)\n",
    "        x = self.relu1(x)\n",
    "        \n",
    "        x = self.fc2(x)\n",
    "        x = self.relu2(x)\n",
    "        \n",
    "        x = self.fc3(x)\n",
    "        x = self.relu3(x)\n",
    "        \n",
    "        x = self.fc4(x)\n",
    "        \n",
    "        return x"
   ]
  },
  {
   "cell_type": "markdown",
   "id": "410e49f2",
   "metadata": {},
   "source": [
    "Самостоятельно выберите количество скрытых слоёв, количество нейронов на них, функции активации на скрытых и выходном слоях. Попробуйте и сравните несколько подобных комбинаций."
   ]
  },
  {
   "cell_type": "markdown",
   "id": "f2837cc3",
   "metadata": {},
   "source": [
    "Проведите обучение нейронной сети:\n",
    "* Создайте функцию для обучения нейронной сети."
   ]
  },
  {
   "cell_type": "code",
   "execution_count": 30,
   "id": "d5884aee",
   "metadata": {},
   "outputs": [],
   "source": [
    "rmse = MeanSquaredError(squared = False)\n",
    "\n",
    "def train_net(X_train, y_train, num_epochs, model):\n",
    "    optimizer = torch.optim.Adam(model.parameters(), lr=1e-3)\n",
    "    loss = nn.MSELoss()\n",
    "    num_epochs = num_epochs\n",
    "\n",
    "    for epoch in range(num_epochs):\n",
    "        optimizer.zero_grad()\n",
    "        preds = model.forward(X_train)\n",
    "        loss_value = loss(preds, y_train)\n",
    "        loss_value.backward()\n",
    "        optimizer.step()\n",
    "        \n",
    "    model.eval()\n",
    "    metrics = rmse(model(X_test), y_test).item()\n",
    "            \n",
    "    return model, metrics"
   ]
  },
  {
   "cell_type": "markdown",
   "id": "00e369d0",
   "metadata": {},
   "source": [
    "* Проведите обучение модели."
   ]
  },
  {
   "cell_type": "code",
   "execution_count": 31,
   "id": "cc3bd47f",
   "metadata": {},
   "outputs": [
    {
     "name": "stdout",
     "output_type": "stream",
     "text": [
      "CPU times: user 3 µs, sys: 1 µs, total: 4 µs\n",
      "Wall time: 6.91 µs\n"
     ]
    }
   ],
   "source": [
    "%time\n",
    "\n",
    "n_neurons = list(range(300, 1500, 50))\n",
    "\n",
    "samples = 15\n",
    "n_in_neurons = X_train.size()[1]\n",
    "n_out_neurons = 1\n",
    "\n",
    "neuron_table = pd.DataFrame()\n",
    "\n",
    "def learn(n_layers):\n",
    "\n",
    "    for i in range(samples):\n",
    "        if n_layers == 1 or n_layers == 2 or n_layers == 3:\n",
    "            n_hidden_neurons_1 = n_neurons[np.random.randint(0, len(n_neurons))]\n",
    "            n_hidden_neurons_2 = 0\n",
    "            n_hidden_neurons_3 = 0\n",
    "            net = Net1(n_in_neurons, n_hidden_neurons_1, n_hidden_neurons_2, n_hidden_neurons_3, n_out_neurons)\n",
    "            net, score = train_net(X_train, y_train, 1000, net)\n",
    "            neuron_table.loc[i,['1 layer_ne']] = score\n",
    "            neuron_table.loc[i,['1_layer_n_neurons']] = n_hidden_neurons_1\n",
    "        if n_layers == 2 or n_layers == 3:\n",
    "            n_hidden_neurons_2 = n_neurons[np.random.randint(0, len(n_neurons))]\n",
    "            n_hidden_neurons_3 = 0\n",
    "            net = Net2(n_in_neurons, n_hidden_neurons_1, n_hidden_neurons_2, n_hidden_neurons_3, n_out_neurons)\n",
    "            net, score = train_net(X_train, y_train, 1000, net)\n",
    "            neuron_table.loc[i,['2 layer_ne']] = score\n",
    "            neuron_table.loc[i,['2_layer_n_neurons']] = str(n_hidden_neurons_1) + ', ' + str(n_hidden_neurons_2)\n",
    "        if n_layers == 3:\n",
    "            n_hidden_neurons_3 = n_neurons[np.random.randint(0, len(n_neurons))]\n",
    "            net = Net3(n_in_neurons, n_hidden_neurons_1, n_hidden_neurons_2, n_hidden_neurons_3, n_out_neurons)\n",
    "            net, score = train_net(X_train, y_train, 1000, net)\n",
    "            neuron_table.loc[i,['3 layer_ne']] = score\n",
    "            neuron_table.loc[i,['3_layer_n_neurons']] = str(n_hidden_neurons_1) + ', ' + str(n_hidden_neurons_2) + ', ' + str(n_hidden_neurons_2)\n",
    "        \n",
    "layers = [1, 2, 3]\n",
    "\n",
    "for layer in layers:\n",
    "    learn(layer)"
   ]
  },
  {
   "cell_type": "code",
   "execution_count": 32,
   "id": "f2df105f",
   "metadata": {},
   "outputs": [
    {
     "data": {
      "text/html": [
       "<div>\n",
       "<style scoped>\n",
       "    .dataframe tbody tr th:only-of-type {\n",
       "        vertical-align: middle;\n",
       "    }\n",
       "\n",
       "    .dataframe tbody tr th {\n",
       "        vertical-align: top;\n",
       "    }\n",
       "\n",
       "    .dataframe thead th {\n",
       "        text-align: right;\n",
       "    }\n",
       "</style>\n",
       "<table border=\"1\" class=\"dataframe\">\n",
       "  <thead>\n",
       "    <tr style=\"text-align: right;\">\n",
       "      <th></th>\n",
       "      <th>1 layer_ne</th>\n",
       "      <th>1_layer_n_neurons</th>\n",
       "      <th>2 layer_ne</th>\n",
       "      <th>2_layer_n_neurons</th>\n",
       "      <th>3 layer_ne</th>\n",
       "      <th>3_layer_n_neurons</th>\n",
       "    </tr>\n",
       "  </thead>\n",
       "  <tbody>\n",
       "    <tr>\n",
       "      <th>0</th>\n",
       "      <td>9588.622070</td>\n",
       "      <td>950.0</td>\n",
       "      <td>3705.745605</td>\n",
       "      <td>950, 650</td>\n",
       "      <td>6654.728027</td>\n",
       "      <td>950, 650, 650</td>\n",
       "    </tr>\n",
       "    <tr>\n",
       "      <th>1</th>\n",
       "      <td>9736.766602</td>\n",
       "      <td>900.0</td>\n",
       "      <td>3479.738037</td>\n",
       "      <td>900, 400</td>\n",
       "      <td>6915.054688</td>\n",
       "      <td>900, 400, 400</td>\n",
       "    </tr>\n",
       "    <tr>\n",
       "      <th>2</th>\n",
       "      <td>9733.751953</td>\n",
       "      <td>900.0</td>\n",
       "      <td>3838.757568</td>\n",
       "      <td>900, 950</td>\n",
       "      <td>7379.245117</td>\n",
       "      <td>900, 950, 950</td>\n",
       "    </tr>\n",
       "    <tr>\n",
       "      <th>3</th>\n",
       "      <td>11360.685547</td>\n",
       "      <td>450.0</td>\n",
       "      <td>3391.156250</td>\n",
       "      <td>450, 550</td>\n",
       "      <td>6848.662598</td>\n",
       "      <td>450, 550, 550</td>\n",
       "    </tr>\n",
       "    <tr>\n",
       "      <th>4</th>\n",
       "      <td>10755.059570</td>\n",
       "      <td>600.0</td>\n",
       "      <td>3681.328613</td>\n",
       "      <td>600, 1000</td>\n",
       "      <td>7098.518066</td>\n",
       "      <td>600, 1000, 1000</td>\n",
       "    </tr>\n",
       "    <tr>\n",
       "      <th>5</th>\n",
       "      <td>8755.361328</td>\n",
       "      <td>1250.0</td>\n",
       "      <td>3940.589355</td>\n",
       "      <td>1250, 950</td>\n",
       "      <td>7182.318359</td>\n",
       "      <td>1250, 950, 950</td>\n",
       "    </tr>\n",
       "    <tr>\n",
       "      <th>6</th>\n",
       "      <td>10979.359375</td>\n",
       "      <td>550.0</td>\n",
       "      <td>3701.692627</td>\n",
       "      <td>550, 1100</td>\n",
       "      <td>7009.238281</td>\n",
       "      <td>550, 1100, 1100</td>\n",
       "    </tr>\n",
       "    <tr>\n",
       "      <th>7</th>\n",
       "      <td>10968.035156</td>\n",
       "      <td>550.0</td>\n",
       "      <td>3810.436279</td>\n",
       "      <td>550, 1350</td>\n",
       "      <td>6489.141602</td>\n",
       "      <td>550, 1350, 1350</td>\n",
       "    </tr>\n",
       "    <tr>\n",
       "      <th>8</th>\n",
       "      <td>9297.859375</td>\n",
       "      <td>1050.0</td>\n",
       "      <td>3870.036621</td>\n",
       "      <td>1050, 900</td>\n",
       "      <td>6484.054688</td>\n",
       "      <td>1050, 900, 900</td>\n",
       "    </tr>\n",
       "    <tr>\n",
       "      <th>9</th>\n",
       "      <td>8277.440430</td>\n",
       "      <td>1450.0</td>\n",
       "      <td>4138.370117</td>\n",
       "      <td>1450, 1400</td>\n",
       "      <td>6598.831543</td>\n",
       "      <td>1450, 1400, 1400</td>\n",
       "    </tr>\n",
       "    <tr>\n",
       "      <th>10</th>\n",
       "      <td>10066.296875</td>\n",
       "      <td>800.0</td>\n",
       "      <td>3472.460693</td>\n",
       "      <td>800, 500</td>\n",
       "      <td>7308.297363</td>\n",
       "      <td>800, 500, 500</td>\n",
       "    </tr>\n",
       "    <tr>\n",
       "      <th>11</th>\n",
       "      <td>9578.992188</td>\n",
       "      <td>950.0</td>\n",
       "      <td>3896.221680</td>\n",
       "      <td>950, 1150</td>\n",
       "      <td>6690.261719</td>\n",
       "      <td>950, 1150, 1150</td>\n",
       "    </tr>\n",
       "    <tr>\n",
       "      <th>12</th>\n",
       "      <td>10423.463867</td>\n",
       "      <td>700.0</td>\n",
       "      <td>3401.637939</td>\n",
       "      <td>700, 300</td>\n",
       "      <td>6871.104492</td>\n",
       "      <td>700, 300, 300</td>\n",
       "    </tr>\n",
       "    <tr>\n",
       "      <th>13</th>\n",
       "      <td>8296.982422</td>\n",
       "      <td>1450.0</td>\n",
       "      <td>3627.019287</td>\n",
       "      <td>1450, 350</td>\n",
       "      <td>7132.506836</td>\n",
       "      <td>1450, 350, 350</td>\n",
       "    </tr>\n",
       "    <tr>\n",
       "      <th>14</th>\n",
       "      <td>9737.068359</td>\n",
       "      <td>900.0</td>\n",
       "      <td>3804.181885</td>\n",
       "      <td>900, 1100</td>\n",
       "      <td>6880.366211</td>\n",
       "      <td>900, 1100, 1100</td>\n",
       "    </tr>\n",
       "  </tbody>\n",
       "</table>\n",
       "</div>"
      ],
      "text/plain": [
       "      1 layer_ne  1_layer_n_neurons   2 layer_ne 2_layer_n_neurons  \\\n",
       "0    9588.622070              950.0  3705.745605          950, 650   \n",
       "1    9736.766602              900.0  3479.738037          900, 400   \n",
       "2    9733.751953              900.0  3838.757568          900, 950   \n",
       "3   11360.685547              450.0  3391.156250          450, 550   \n",
       "4   10755.059570              600.0  3681.328613         600, 1000   \n",
       "5    8755.361328             1250.0  3940.589355         1250, 950   \n",
       "6   10979.359375              550.0  3701.692627         550, 1100   \n",
       "7   10968.035156              550.0  3810.436279         550, 1350   \n",
       "8    9297.859375             1050.0  3870.036621         1050, 900   \n",
       "9    8277.440430             1450.0  4138.370117        1450, 1400   \n",
       "10  10066.296875              800.0  3472.460693          800, 500   \n",
       "11   9578.992188              950.0  3896.221680         950, 1150   \n",
       "12  10423.463867              700.0  3401.637939          700, 300   \n",
       "13   8296.982422             1450.0  3627.019287         1450, 350   \n",
       "14   9737.068359              900.0  3804.181885         900, 1100   \n",
       "\n",
       "     3 layer_ne 3_layer_n_neurons  \n",
       "0   6654.728027     950, 650, 650  \n",
       "1   6915.054688     900, 400, 400  \n",
       "2   7379.245117     900, 950, 950  \n",
       "3   6848.662598     450, 550, 550  \n",
       "4   7098.518066   600, 1000, 1000  \n",
       "5   7182.318359    1250, 950, 950  \n",
       "6   7009.238281   550, 1100, 1100  \n",
       "7   6489.141602   550, 1350, 1350  \n",
       "8   6484.054688    1050, 900, 900  \n",
       "9   6598.831543  1450, 1400, 1400  \n",
       "10  7308.297363     800, 500, 500  \n",
       "11  6690.261719   950, 1150, 1150  \n",
       "12  6871.104492     700, 300, 300  \n",
       "13  7132.506836    1450, 350, 350  \n",
       "14  6880.366211   900, 1100, 1100  "
      ]
     },
     "execution_count": 32,
     "metadata": {},
     "output_type": "execute_result"
    }
   ],
   "source": [
    "neuron_table"
   ]
  },
  {
   "cell_type": "markdown",
   "id": "66a46bce",
   "metadata": {},
   "source": [
    "По данным таблицы сверху, наилучшую метрику RMSE показывают модели с двумя скрытыми слоями. Для дальнейшей оптимизации будем использовать модель с двумя скрытыми слоями, по 1150 и 450 нейронов соответсвенно и nn.Tanh(), nn.ReLU(), nn.ReLU() функциями активации."
   ]
  },
  {
   "cell_type": "markdown",
   "id": "59f41154",
   "metadata": {},
   "source": [
    "* Постройте график «Факт — Прогноз», где по горизонтальной оси будут отложены условные номера звёзд, а по вертикальной — температура в Кельвинах."
   ]
  },
  {
   "cell_type": "code",
   "execution_count": 33,
   "id": "2c642759",
   "metadata": {},
   "outputs": [
    {
     "data": {
      "text/html": [
       "<div>\n",
       "<style scoped>\n",
       "    .dataframe tbody tr th:only-of-type {\n",
       "        vertical-align: middle;\n",
       "    }\n",
       "\n",
       "    .dataframe tbody tr th {\n",
       "        vertical-align: top;\n",
       "    }\n",
       "\n",
       "    .dataframe thead th {\n",
       "        text-align: right;\n",
       "    }\n",
       "</style>\n",
       "<table border=\"1\" class=\"dataframe\">\n",
       "  <thead>\n",
       "    <tr style=\"text-align: right;\">\n",
       "      <th></th>\n",
       "      <th>real_temperature</th>\n",
       "      <th>predicted_temp</th>\n",
       "    </tr>\n",
       "  </thead>\n",
       "  <tbody>\n",
       "    <tr>\n",
       "      <th>0</th>\n",
       "      <td>2700.0</td>\n",
       "      <td>3140.510254</td>\n",
       "    </tr>\n",
       "    <tr>\n",
       "      <th>1</th>\n",
       "      <td>2778.0</td>\n",
       "      <td>2809.325195</td>\n",
       "    </tr>\n",
       "    <tr>\n",
       "      <th>2</th>\n",
       "      <td>2799.0</td>\n",
       "      <td>2764.718506</td>\n",
       "    </tr>\n",
       "    <tr>\n",
       "      <th>3</th>\n",
       "      <td>2983.0</td>\n",
       "      <td>3135.176758</td>\n",
       "    </tr>\n",
       "    <tr>\n",
       "      <th>4</th>\n",
       "      <td>2989.0</td>\n",
       "      <td>3082.863525</td>\n",
       "    </tr>\n",
       "  </tbody>\n",
       "</table>\n",
       "</div>"
      ],
      "text/plain": [
       "   real_temperature  predicted_temp\n",
       "0            2700.0     3140.510254\n",
       "1            2778.0     2809.325195\n",
       "2            2799.0     2764.718506\n",
       "3            2983.0     3135.176758\n",
       "4            2989.0     3082.863525"
      ]
     },
     "execution_count": 33,
     "metadata": {},
     "output_type": "execute_result"
    }
   ],
   "source": [
    "net = Net2(n_in_neurons, 1150, 450, 0, n_out_neurons)\n",
    "net, metrics = train_net(X_train, y_train, 1000, net)\n",
    "\n",
    "stat_table = pd.DataFrame(y_test.numpy(), columns=['real_temperature'])\n",
    "predicted_temp = pd.DataFrame(net(X_test).detach().numpy(), columns=['predict_temperature'])\n",
    "\n",
    "stat_table['predicted_temp'] = predicted_temp\n",
    "stat_table = stat_table.sort_values(by='real_temperature').reset_index(drop=True)\n",
    "stat_table.head()"
   ]
  },
  {
   "cell_type": "code",
   "execution_count": 34,
   "id": "8cc5310f",
   "metadata": {},
   "outputs": [
    {
     "data": {
      "image/png": "[encoded data removed]",
      "text/plain": [
       "<Figure size 1440x504 with 1 Axes>"
      ]
     },
     "metadata": {},
     "output_type": "display_data"
    }
   ],
   "source": [
    "fig, ax = plt.subplots(figsize=[20, 7])\n",
    "\n",
    "plt.bar(x=stat_table.index, height=stat_table['real_temperature'], label='real_temp')\n",
    "plt.bar(x=stat_table.index, height=stat_table['predicted_temp'], label='predicted_temp', width= 0.4)\n",
    "ax.legend()\n",
    "plt.show()"
   ]
  },
  {
   "cell_type": "markdown",
   "id": "8a297b4e",
   "metadata": {},
   "source": [
    "Модель лучше предсказывает температуру звезд в диапазоне 2500 - 5000 К"
   ]
  },
  {
   "cell_type": "markdown",
   "id": "growing-supply",
   "metadata": {},
   "source": [
    "## Улучшение нейронной сети"
   ]
  },
  {
   "cell_type": "markdown",
   "id": "f75208c3",
   "metadata": {},
   "source": [
    "Создайте решение с перебором параметров нейросети. Список параметров для перебора должен включать как минимум «dropout» и «размер батча». Архитектуру нейронной сети: количество слоёв, нейронов, вид функции активации — оставьте как в Baseline, чтобы сравнить результат.\n",
    "\n"
   ]
  },
  {
   "cell_type": "code",
   "execution_count": 35,
   "id": "3439af7a",
   "metadata": {},
   "outputs": [
    {
     "name": "stdout",
     "output_type": "stream",
     "text": [
      "CPU times: user 4 µs, sys: 0 ns, total: 4 µs\n",
      "Wall time: 8.11 µs\n"
     ]
    }
   ],
   "source": [
    "%time\n",
    "\n",
    "# Задаем гиперпараметры для перебора\n",
    "from math import ceil\n",
    "\n",
    "batch_values = [16, 32, 64]\n",
    "dropout = [0, 0.1, 0.2, 0.3]\n",
    "num_epochs = 1000\n",
    "\n",
    "loss = nn.MSELoss()\n",
    "dropout_stat =pd.DataFrame()\n",
    "\n",
    "# Создаем модель нейронной сети\n",
    "class Net2Dropout(nn.Module):\n",
    "    def __init__(self, n_in_neurons, n_hidden_neurons_1, n_hidden_neurons_2,\n",
    "                 n_hidden_neurons_3, n_out_neurons, dropout):\n",
    "        super(Net2Dropout, self).__init__()\n",
    "        \n",
    "        self.fc1 = nn.Linear(n_in_neurons, n_hidden_neurons_1)\n",
    "        self.relu1 = nn.Tanh()\n",
    "        self.dropout1 = nn.Dropout(p=dropout)\n",
    "        \n",
    "        self.fc2 = nn.Linear(n_hidden_neurons_1, n_hidden_neurons_2)\n",
    "        self.relu2 = nn.ReLU()\n",
    "        self.dropout2 = nn.Dropout(p=dropout)\n",
    "        \n",
    "        self.fc3 = nn.Linear(n_hidden_neurons_2, n_out_neurons)\n",
    "\n",
    "    def forward(self, x):\n",
    "        x = self.fc1(x)\n",
    "        x = self.relu1(x)\n",
    "        x = self.dropout1(x)\n",
    "        \n",
    "        x = self.fc2(x)\n",
    "        x = self.relu2(x)\n",
    "        x = self.dropout2(x)\n",
    "        \n",
    "        x = self.fc3(x)\n",
    "        \n",
    "        return x       "
   ]
  },
  {
   "cell_type": "code",
   "execution_count": 36,
   "id": "eaca6eec",
   "metadata": {},
   "outputs": [],
   "source": [
    "    for dropout_p in dropout:\n",
    "        model = Net2Dropout(n_in_neurons, 1150, 450, 0, n_out_neurons, dropout_p)\n",
    "        optimizer = torch.optim.Adam(model.parameters(), lr=1e-3)\n",
    "\n",
    "        for epoch in range(num_epochs):\n",
    "            optimizer.zero_grad()\n",
    "            preds = model.forward(X_train)\n",
    "            loss_value = loss(preds, y_train)\n",
    "            loss_value.backward()\n",
    "            optimizer.step()\n",
    "        \n",
    "        model.eval()\n",
    "        metrics = rmse(model(X_test), y_test).item()\n",
    "        \n",
    "        index = dropout.index(dropout_p)\n",
    "    \n",
    "        dropout_stat.loc[index, ['dropout']] = dropout_p\n",
    "        dropout_stat.loc[index, ['score']] = metrics"
   ]
  },
  {
   "cell_type": "code",
   "execution_count": 37,
   "id": "e9760116",
   "metadata": {},
   "outputs": [
    {
     "data": {
      "text/html": [
       "<div>\n",
       "<style scoped>\n",
       "    .dataframe tbody tr th:only-of-type {\n",
       "        vertical-align: middle;\n",
       "    }\n",
       "\n",
       "    .dataframe tbody tr th {\n",
       "        vertical-align: top;\n",
       "    }\n",
       "\n",
       "    .dataframe thead th {\n",
       "        text-align: right;\n",
       "    }\n",
       "</style>\n",
       "<table border=\"1\" class=\"dataframe\">\n",
       "  <thead>\n",
       "    <tr style=\"text-align: right;\">\n",
       "      <th></th>\n",
       "      <th>dropout</th>\n",
       "      <th>score</th>\n",
       "    </tr>\n",
       "  </thead>\n",
       "  <tbody>\n",
       "    <tr>\n",
       "      <th>0</th>\n",
       "      <td>0.0</td>\n",
       "      <td>3573.974365</td>\n",
       "    </tr>\n",
       "    <tr>\n",
       "      <th>1</th>\n",
       "      <td>0.1</td>\n",
       "      <td>3480.413330</td>\n",
       "    </tr>\n",
       "    <tr>\n",
       "      <th>2</th>\n",
       "      <td>0.2</td>\n",
       "      <td>3478.280762</td>\n",
       "    </tr>\n",
       "    <tr>\n",
       "      <th>3</th>\n",
       "      <td>0.3</td>\n",
       "      <td>3460.459961</td>\n",
       "    </tr>\n",
       "  </tbody>\n",
       "</table>\n",
       "</div>"
      ],
      "text/plain": [
       "   dropout        score\n",
       "0      0.0  3573.974365\n",
       "1      0.1  3480.413330\n",
       "2      0.2  3478.280762\n",
       "3      0.3  3460.459961"
      ]
     },
     "execution_count": 37,
     "metadata": {},
     "output_type": "execute_result"
    }
   ],
   "source": [
    "dropout_stat"
   ]
  },
  {
   "cell_type": "markdown",
   "id": "a39aaf0a",
   "metadata": {},
   "source": [
    "Как мы можем видеть из данных таблицы сверху, методика dropout не дает повышение метрики качества."
   ]
  },
  {
   "cell_type": "code",
   "execution_count": 38,
   "id": "3234b8b2",
   "metadata": {},
   "outputs": [
    {
     "name": "stdout",
     "output_type": "stream",
     "text": [
      "CPU times: user 24 µs, sys: 1e+03 ns, total: 25 µs\n",
      "Wall time: 29.3 µs\n"
     ]
    }
   ],
   "source": [
    "%time\n",
    "\n",
    "batch_values = range(60, X_train.shape[0], 25)\n",
    "\n",
    "batch_stat = pd.DataFrame()\n",
    "\n",
    "for batch_size in batch_values:\n",
    "    model = Net2(n_in_neurons, 1150, 450, 0, n_out_neurons)\n",
    "    num_batches = ceil(len(X_train) / batch_size)\n",
    "    optimizer = torch.optim.Adam(model.parameters(), lr=1e-3)\n",
    "    for epoch in range(num_epochs):\n",
    "        order = np.random.permutation(len(X_train))\n",
    "        for batch_idx in range(num_batches):\n",
    "            \n",
    "            start_index = batch_idx * batch_size\n",
    "            \n",
    "            optimizer.zero_grad()\n",
    "            \n",
    "            batch_indexes = order[start_index:start_index + batch_size]\n",
    "            \n",
    "            x_batch = X_train[batch_indexes]\n",
    "            y_batch = y_train[batch_indexes]\n",
    "            \n",
    "            preds = model(x_batch)\n",
    "            \n",
    "            loss_value = loss(preds, y_batch)\n",
    "            loss_value.backward()\n",
    "\n",
    "            optimizer.step()\n",
    "    model.eval()\n",
    "    with torch.inference_mode():\n",
    "        score = rmse(model(X_test), y_test).item()\n",
    "    index = batch_values.index(batch_size)\n",
    "    \n",
    "    batch_stat.loc[index, ['batch_size']] = batch_size\n",
    "    batch_stat.loc[index, ['score']] = score"
   ]
  },
  {
   "cell_type": "code",
   "execution_count": 39,
   "id": "a308c3fa",
   "metadata": {},
   "outputs": [
    {
     "data": {
      "text/html": [
       "<div>\n",
       "<style scoped>\n",
       "    .dataframe tbody tr th:only-of-type {\n",
       "        vertical-align: middle;\n",
       "    }\n",
       "\n",
       "    .dataframe tbody tr th {\n",
       "        vertical-align: top;\n",
       "    }\n",
       "\n",
       "    .dataframe thead th {\n",
       "        text-align: right;\n",
       "    }\n",
       "</style>\n",
       "<table border=\"1\" class=\"dataframe\">\n",
       "  <thead>\n",
       "    <tr style=\"text-align: right;\">\n",
       "      <th></th>\n",
       "      <th>batch_size</th>\n",
       "      <th>score</th>\n",
       "    </tr>\n",
       "  </thead>\n",
       "  <tbody>\n",
       "    <tr>\n",
       "      <th>0</th>\n",
       "      <td>60.0</td>\n",
       "      <td>4226.823242</td>\n",
       "    </tr>\n",
       "    <tr>\n",
       "      <th>1</th>\n",
       "      <td>85.0</td>\n",
       "      <td>4246.521484</td>\n",
       "    </tr>\n",
       "    <tr>\n",
       "      <th>2</th>\n",
       "      <td>110.0</td>\n",
       "      <td>3962.324463</td>\n",
       "    </tr>\n",
       "    <tr>\n",
       "      <th>3</th>\n",
       "      <td>135.0</td>\n",
       "      <td>3917.431885</td>\n",
       "    </tr>\n",
       "    <tr>\n",
       "      <th>4</th>\n",
       "      <td>160.0</td>\n",
       "      <td>3729.189697</td>\n",
       "    </tr>\n",
       "    <tr>\n",
       "      <th>5</th>\n",
       "      <td>185.0</td>\n",
       "      <td>3650.840332</td>\n",
       "    </tr>\n",
       "  </tbody>\n",
       "</table>\n",
       "</div>"
      ],
      "text/plain": [
       "   batch_size        score\n",
       "0        60.0  4226.823242\n",
       "1        85.0  4246.521484\n",
       "2       110.0  3962.324463\n",
       "3       135.0  3917.431885\n",
       "4       160.0  3729.189697\n",
       "5       185.0  3650.840332"
      ]
     },
     "execution_count": 39,
     "metadata": {},
     "output_type": "execute_result"
    }
   ],
   "source": [
    "batch_stat"
   ]
  },
  {
   "cell_type": "markdown",
   "id": "b25a2a69",
   "metadata": {},
   "source": [
    "Обучение батчами, также как и методика dropout не повышает метрику качества."
   ]
  },
  {
   "cell_type": "code",
   "execution_count": 40,
   "id": "53e432ef",
   "metadata": {},
   "outputs": [
    {
     "name": "stdout",
     "output_type": "stream",
     "text": [
      "CPU times: user 4 µs, sys: 0 ns, total: 4 µs\n",
      "Wall time: 8.11 µs\n"
     ]
    }
   ],
   "source": [
    "%time\n",
    "\n",
    "score_list = []\n",
    "\n",
    "model = Net2(n_in_neurons, 1150, 450, 0, n_out_neurons)\n",
    "\n",
    "optimizer = torch.optim.Adam(model.parameters(), lr=1e-3)\n",
    "\n",
    "for epoch_qnt in range(1, 5001):\n",
    "    optimizer.zero_grad()\n",
    "    preds = model.forward(X_train)\n",
    "    loss_value = loss(preds, y_train)\n",
    "    loss_value.backward()\n",
    "    optimizer.step()\n",
    "    if epoch_qnt % 10 == 0:\n",
    "        score = rmse(model(X_test), y_test).item()\n",
    "        score_list.append(score)"
   ]
  },
  {
   "cell_type": "code",
   "execution_count": 41,
   "id": "2e572f49",
   "metadata": {},
   "outputs": [
    {
     "data": {
      "image/png": "[encoded data removed]",
      "text/plain": [
       "<Figure size 1440x504 with 1 Axes>"
      ]
     },
     "metadata": {},
     "output_type": "display_data"
    }
   ],
   "source": [
    "plt.figure(figsize=[20,7])\n",
    "sns.lineplot(x=range(1, 5001, 10), y=score_list, label='validation')\n",
    "plt.legend()\n",
    "plt.xlabel('epochs')\n",
    "plt.ylabel('RMSE')\n",
    "plt.show()     "
   ]
  },
  {
   "cell_type": "markdown",
   "id": "47ab501b",
   "metadata": {},
   "source": [
    "Судя по диаграмме сверху, оптимальное количество эпох обучения 1000, при увеличении количества эпох обучения - начинается падение метрики RMSE что свидетельствует о переобучении модели."
   ]
  },
  {
   "cell_type": "markdown",
   "id": "accurate-infrastructure",
   "metadata": {},
   "source": [
    "## Выводы"
   ]
  },
  {
   "cell_type": "markdown",
   "id": "e4dbc764",
   "metadata": {},
   "source": [
    "Кратко опишите результаты каждого типа модели."
   ]
  },
  {
   "cell_type": "markdown",
   "id": "12f6ed64",
   "metadata": {},
   "source": [
    "Напишите выводы сравнения двух моделей."
   ]
  },
  {
   "cell_type": "markdown",
   "id": "0cb129e7",
   "metadata": {},
   "source": [
    "В этом проекте мы создали модель нейросети для предсказания температуры на поверхности звезды.\n",
    "\n",
    "Для начала мы загрузили данные и произвели EDA. Определили что данные имеют множество выбросов, но из-за малого количества данных мы не стали применять межквартильную фильтрацию. Вообще основная проблема этого проекта это количество данных, для обучения нейросетей требуется много данных, но получить данные из комоса весьма проблематично. Можно конечно было попробовать сгенерировать данные - но не в рамках этого проекта.\n",
    "\n",
    "Методики dropout и batch не дали улучшения качества модели. В качестве архитектуры нейросети мы выбрали полносязную сеть с двумя скрытыми слоями, по 1150 и 450 нейронов соответсвенно и nn.Tanh(), nn.ReLU(), nn.ReLU() функциями активации. По итогу мы получили модель с метрикой RMSE в районе 3000, которая относительно хорошо предсказывает температуру в диапазоне 2500 - 5000К."
   ]
  }
 ],
 "metadata": {
  "ExecuteTimeLog": [
   {
    "duration": 493,
    "start_time": "2023-04-11T09:59:10.697Z"
   },
   {
    "duration": 105,
    "start_time": "2023-04-11T10:16:36.651Z"
   },
   {
    "duration": 12,
    "start_time": "2023-04-11T10:17:15.226Z"
   },
   {
    "duration": 492,
    "start_time": "2023-04-20T06:50:00.485Z"
   },
   {
    "duration": 27,
    "start_time": "2023-04-20T06:50:01.138Z"
   },
   {
    "duration": 3160,
    "start_time": "2023-04-23T23:30:03.924Z"
   },
   {
    "duration": 69,
    "start_time": "2023-04-23T23:31:19.073Z"
   },
   {
    "duration": 18,
    "start_time": "2023-04-23T23:31:53.138Z"
   },
   {
    "duration": 4,
    "start_time": "2023-04-23T23:35:08.210Z"
   },
   {
    "duration": 12,
    "start_time": "2023-04-23T23:35:14.652Z"
   },
   {
    "duration": 9,
    "start_time": "2023-04-23T23:38:51.409Z"
   },
   {
    "duration": 49,
    "start_time": "2023-04-23T23:42:24.616Z"
   },
   {
    "duration": 11,
    "start_time": "2023-04-23T23:42:34.504Z"
   },
   {
    "duration": 5,
    "start_time": "2023-04-24T00:51:15.794Z"
   },
   {
    "duration": 6,
    "start_time": "2023-04-24T00:53:33.552Z"
   },
   {
    "duration": 8,
    "start_time": "2023-04-24T00:53:50.287Z"
   },
   {
    "duration": 219,
    "start_time": "2023-04-24T00:53:59.426Z"
   },
   {
    "duration": 86,
    "start_time": "2023-04-24T00:55:10.120Z"
   },
   {
    "duration": 3350,
    "start_time": "2023-04-24T00:55:15.151Z"
   },
   {
    "duration": 13,
    "start_time": "2023-04-24T00:56:09.896Z"
   },
   {
    "duration": 10,
    "start_time": "2023-04-24T00:59:09.192Z"
   },
   {
    "duration": 133,
    "start_time": "2023-04-24T00:59:18.471Z"
   },
   {
    "duration": 188,
    "start_time": "2023-04-24T00:59:26.895Z"
   },
   {
    "duration": 2674,
    "start_time": "2023-04-24T01:00:33.204Z"
   },
   {
    "duration": 6899,
    "start_time": "2023-04-24T01:00:47.214Z"
   },
   {
    "duration": 7222,
    "start_time": "2023-04-24T01:02:15.824Z"
   },
   {
    "duration": 6592,
    "start_time": "2023-04-24T01:02:31.632Z"
   },
   {
    "duration": 7165,
    "start_time": "2023-04-24T01:03:47.106Z"
   },
   {
    "duration": 10,
    "start_time": "2023-04-24T01:05:53.256Z"
   },
   {
    "duration": 160,
    "start_time": "2023-04-24T01:06:31.254Z"
   },
   {
    "duration": 10,
    "start_time": "2023-04-24T01:10:06.375Z"
   },
   {
    "duration": 26,
    "start_time": "2023-04-24T01:14:53.320Z"
   },
   {
    "duration": 5,
    "start_time": "2023-04-24T01:15:19.833Z"
   },
   {
    "duration": 11,
    "start_time": "2023-04-24T01:15:39.138Z"
   },
   {
    "duration": 10,
    "start_time": "2023-04-24T01:15:58.548Z"
   },
   {
    "duration": 25,
    "start_time": "2023-04-24T01:16:22.322Z"
   },
   {
    "duration": 9,
    "start_time": "2023-04-24T01:16:22.906Z"
   },
   {
    "duration": 15,
    "start_time": "2023-04-24T01:16:29.842Z"
   },
   {
    "duration": 18,
    "start_time": "2023-04-24T01:16:34.508Z"
   },
   {
    "duration": 26,
    "start_time": "2023-04-24T01:16:37.138Z"
   },
   {
    "duration": 9,
    "start_time": "2023-04-24T01:16:37.655Z"
   },
   {
    "duration": 3,
    "start_time": "2023-04-24T01:16:38.971Z"
   },
   {
    "duration": 11,
    "start_time": "2023-04-24T01:16:40.390Z"
   },
   {
    "duration": 10,
    "start_time": "2023-04-24T01:16:43.163Z"
   },
   {
    "duration": 18,
    "start_time": "2023-04-24T01:17:07.208Z"
   },
   {
    "duration": 8,
    "start_time": "2023-04-24T01:18:12.049Z"
   },
   {
    "duration": 7,
    "start_time": "2023-04-24T01:18:19.137Z"
   },
   {
    "duration": 10,
    "start_time": "2023-04-24T01:18:23.618Z"
   },
   {
    "duration": 8,
    "start_time": "2023-04-24T01:18:31.990Z"
   },
   {
    "duration": 7,
    "start_time": "2023-04-24T01:20:20.194Z"
   },
   {
    "duration": 146,
    "start_time": "2023-04-24T01:20:43.299Z"
   },
   {
    "duration": 99,
    "start_time": "2023-04-24T01:25:36.756Z"
   },
   {
    "duration": 86,
    "start_time": "2023-04-24T01:29:37.476Z"
   },
   {
    "duration": 5,
    "start_time": "2023-04-24T01:34:04.926Z"
   },
   {
    "duration": 231,
    "start_time": "2023-04-24T01:34:32.252Z"
   },
   {
    "duration": 224,
    "start_time": "2023-04-24T01:35:04.725Z"
   },
   {
    "duration": 5,
    "start_time": "2023-04-24T01:35:20.090Z"
   },
   {
    "duration": 225,
    "start_time": "2023-04-24T01:35:30.257Z"
   },
   {
    "duration": 262,
    "start_time": "2023-04-24T01:35:34.490Z"
   },
   {
    "duration": 222,
    "start_time": "2023-04-24T01:35:43.254Z"
   },
   {
    "duration": 8,
    "start_time": "2023-04-24T01:37:25.912Z"
   },
   {
    "duration": 137,
    "start_time": "2023-04-24T01:37:39.085Z"
   },
   {
    "duration": 169,
    "start_time": "2023-04-24T01:37:44.735Z"
   },
   {
    "duration": 113,
    "start_time": "2023-04-24T01:39:50.641Z"
   },
   {
    "duration": 181,
    "start_time": "2023-04-24T01:40:19.250Z"
   },
   {
    "duration": 91,
    "start_time": "2023-04-24T01:40:28.613Z"
   },
   {
    "duration": 149,
    "start_time": "2023-04-24T01:40:31.639Z"
   },
   {
    "duration": 100,
    "start_time": "2023-04-24T01:40:34.965Z"
   },
   {
    "duration": 149,
    "start_time": "2023-04-24T01:40:38.695Z"
   },
   {
    "duration": 235,
    "start_time": "2023-04-24T01:41:42.666Z"
   },
   {
    "duration": 204,
    "start_time": "2023-04-24T01:42:00.552Z"
   },
   {
    "duration": 201,
    "start_time": "2023-04-24T01:42:04.569Z"
   },
   {
    "duration": 183,
    "start_time": "2023-04-24T01:42:10.848Z"
   },
   {
    "duration": 193,
    "start_time": "2023-04-24T01:42:14.184Z"
   },
   {
    "duration": 184,
    "start_time": "2023-04-24T01:42:17.468Z"
   },
   {
    "duration": 464,
    "start_time": "2023-04-24T01:42:20.637Z"
   },
   {
    "duration": 231,
    "start_time": "2023-04-24T01:42:26.189Z"
   },
   {
    "duration": 236,
    "start_time": "2023-04-24T01:42:31.925Z"
   },
   {
    "duration": 248,
    "start_time": "2023-04-24T01:42:36.542Z"
   },
   {
    "duration": 217,
    "start_time": "2023-04-24T01:42:52.445Z"
   },
   {
    "duration": 219,
    "start_time": "2023-04-24T01:42:57.354Z"
   },
   {
    "duration": 215,
    "start_time": "2023-04-24T01:43:01.434Z"
   },
   {
    "duration": 200,
    "start_time": "2023-04-24T01:43:09.082Z"
   },
   {
    "duration": 231,
    "start_time": "2023-04-24T01:43:13.859Z"
   },
   {
    "duration": 232,
    "start_time": "2023-04-24T01:43:18.346Z"
   },
   {
    "duration": 214,
    "start_time": "2023-04-24T01:43:23.050Z"
   },
   {
    "duration": 172,
    "start_time": "2023-04-24T01:43:43.121Z"
   },
   {
    "duration": 174,
    "start_time": "2023-04-24T01:43:46.951Z"
   },
   {
    "duration": 188,
    "start_time": "2023-04-24T01:43:50.511Z"
   },
   {
    "duration": 186,
    "start_time": "2023-04-24T01:43:56.591Z"
   },
   {
    "duration": 172,
    "start_time": "2023-04-24T01:44:00.264Z"
   },
   {
    "duration": 246,
    "start_time": "2023-04-24T01:45:29.761Z"
   },
   {
    "duration": 169,
    "start_time": "2023-04-24T01:45:36.638Z"
   },
   {
    "duration": 227,
    "start_time": "2023-04-24T01:46:11.179Z"
   },
   {
    "duration": 243,
    "start_time": "2023-04-24T01:46:19.924Z"
   },
   {
    "duration": 242,
    "start_time": "2023-04-24T01:46:24.356Z"
   },
   {
    "duration": 227,
    "start_time": "2023-04-24T01:46:27.867Z"
   },
   {
    "duration": 213,
    "start_time": "2023-04-24T01:46:31.937Z"
   },
   {
    "duration": 431,
    "start_time": "2023-04-24T01:46:37.837Z"
   },
   {
    "duration": 7,
    "start_time": "2023-04-24T01:50:53.360Z"
   },
   {
    "duration": 166,
    "start_time": "2023-04-24T01:50:53.630Z"
   },
   {
    "duration": 236,
    "start_time": "2023-04-24T01:50:55.390Z"
   },
   {
    "duration": 98,
    "start_time": "2023-04-24T01:51:00.727Z"
   },
   {
    "duration": 5,
    "start_time": "2023-04-24T02:08:58.050Z"
   },
   {
    "duration": 146,
    "start_time": "2023-04-24T02:10:05.883Z"
   },
   {
    "duration": 145,
    "start_time": "2023-04-24T02:10:23.706Z"
   },
   {
    "duration": 6,
    "start_time": "2023-04-24T02:12:08.247Z"
   },
   {
    "duration": 192,
    "start_time": "2023-04-24T02:12:28.011Z"
   },
   {
    "duration": 6,
    "start_time": "2023-04-24T02:19:26.914Z"
   },
   {
    "duration": 200,
    "start_time": "2023-04-24T02:19:27.345Z"
   },
   {
    "duration": 8,
    "start_time": "2023-04-24T02:19:40.954Z"
   },
   {
    "duration": 208,
    "start_time": "2023-04-24T02:19:41.346Z"
   },
   {
    "duration": 8,
    "start_time": "2023-04-24T02:19:56.183Z"
   },
   {
    "duration": 196,
    "start_time": "2023-04-24T02:19:56.518Z"
   },
   {
    "duration": 7,
    "start_time": "2023-04-24T02:22:54.594Z"
   },
   {
    "duration": 184,
    "start_time": "2023-04-24T02:22:54.882Z"
   },
   {
    "duration": 5,
    "start_time": "2023-04-24T02:23:29.736Z"
   },
   {
    "duration": 188,
    "start_time": "2023-04-24T02:23:30.011Z"
   },
   {
    "duration": 5,
    "start_time": "2023-04-24T02:23:38.671Z"
   },
   {
    "duration": 178,
    "start_time": "2023-04-24T02:23:39.024Z"
   },
   {
    "duration": 173,
    "start_time": "2023-04-24T02:24:43.454Z"
   },
   {
    "duration": 5,
    "start_time": "2023-04-24T02:28:15.982Z"
   },
   {
    "duration": 6,
    "start_time": "2023-04-24T02:30:01.649Z"
   },
   {
    "duration": 6,
    "start_time": "2023-04-24T02:30:08.079Z"
   },
   {
    "duration": 124,
    "start_time": "2023-04-24T02:30:25.517Z"
   },
   {
    "duration": 5,
    "start_time": "2023-04-24T02:30:37.279Z"
   },
   {
    "duration": 13,
    "start_time": "2023-04-24T02:31:25.581Z"
   },
   {
    "duration": 5,
    "start_time": "2023-04-24T02:31:46.224Z"
   },
   {
    "duration": 6,
    "start_time": "2023-04-24T02:32:40.414Z"
   },
   {
    "duration": 14,
    "start_time": "2023-04-24T02:33:15.595Z"
   },
   {
    "duration": 6,
    "start_time": "2023-04-24T02:33:22.721Z"
   },
   {
    "duration": 6,
    "start_time": "2023-04-24T02:33:52.557Z"
   },
   {
    "duration": 6,
    "start_time": "2023-04-24T02:34:09.162Z"
   },
   {
    "duration": 7,
    "start_time": "2023-04-24T02:34:18.421Z"
   },
   {
    "duration": 7,
    "start_time": "2023-04-24T02:34:37.422Z"
   },
   {
    "duration": 1656,
    "start_time": "2023-04-24T02:38:05.200Z"
   },
   {
    "duration": 26,
    "start_time": "2023-04-24T02:38:06.858Z"
   },
   {
    "duration": 12,
    "start_time": "2023-04-24T02:38:06.886Z"
   },
   {
    "duration": 4,
    "start_time": "2023-04-24T02:38:06.899Z"
   },
   {
    "duration": 10,
    "start_time": "2023-04-24T02:38:06.905Z"
   },
   {
    "duration": 11,
    "start_time": "2023-04-24T02:38:06.917Z"
   },
   {
    "duration": 35,
    "start_time": "2023-04-24T02:38:06.934Z"
   },
   {
    "duration": 221,
    "start_time": "2023-04-24T02:38:06.971Z"
   },
   {
    "duration": 119,
    "start_time": "2023-04-24T02:38:07.193Z"
   },
   {
    "duration": 7,
    "start_time": "2023-04-24T02:38:07.313Z"
   },
   {
    "duration": 134,
    "start_time": "2023-04-24T02:38:07.321Z"
   },
   {
    "duration": 88,
    "start_time": "2023-04-24T02:38:07.457Z"
   },
   {
    "duration": 4,
    "start_time": "2023-04-24T02:38:07.547Z"
   },
   {
    "duration": 237,
    "start_time": "2023-04-24T02:38:07.554Z"
   },
   {
    "duration": 8,
    "start_time": "2023-04-24T02:38:07.793Z"
   },
   {
    "duration": 155,
    "start_time": "2023-04-24T02:38:07.802Z"
   },
   {
    "duration": 212,
    "start_time": "2023-04-24T02:38:07.959Z"
   },
   {
    "duration": 112,
    "start_time": "2023-04-24T02:38:08.173Z"
   },
   {
    "duration": 8,
    "start_time": "2023-04-24T02:38:08.287Z"
   },
   {
    "duration": 130,
    "start_time": "2023-04-24T02:38:08.297Z"
   },
   {
    "duration": 222,
    "start_time": "2023-04-24T02:38:08.434Z"
   },
   {
    "duration": 112,
    "start_time": "2023-04-24T02:38:08.658Z"
   },
   {
    "duration": 4,
    "start_time": "2023-04-24T02:38:08.772Z"
   },
   {
    "duration": 139,
    "start_time": "2023-04-24T02:38:08.778Z"
   },
   {
    "duration": 6,
    "start_time": "2023-04-24T02:38:08.919Z"
   },
   {
    "duration": 173,
    "start_time": "2023-04-24T02:38:08.926Z"
   },
   {
    "duration": 288,
    "start_time": "2023-04-24T02:38:09.101Z"
   },
   {
    "duration": 4,
    "start_time": "2023-04-24T02:38:09.391Z"
   },
   {
    "duration": 18,
    "start_time": "2023-04-24T02:38:09.396Z"
   },
   {
    "duration": 149,
    "start_time": "2023-04-24T02:39:01.481Z"
   },
   {
    "duration": 5,
    "start_time": "2023-04-24T02:39:14.540Z"
   },
   {
    "duration": 14,
    "start_time": "2023-04-24T02:39:21.199Z"
   },
   {
    "duration": 15,
    "start_time": "2023-04-24T02:39:24.511Z"
   },
   {
    "duration": 10,
    "start_time": "2023-04-24T02:39:28.974Z"
   },
   {
    "duration": 5,
    "start_time": "2023-04-24T02:39:32.607Z"
   },
   {
    "duration": 6,
    "start_time": "2023-04-24T02:39:35.271Z"
   },
   {
    "duration": 255,
    "start_time": "2023-04-24T02:40:42.297Z"
   },
   {
    "duration": 6,
    "start_time": "2023-04-24T02:41:12.362Z"
   },
   {
    "duration": 8,
    "start_time": "2023-04-24T02:41:31.189Z"
   },
   {
    "duration": 53,
    "start_time": "2023-04-24T02:48:04.400Z"
   },
   {
    "duration": 176,
    "start_time": "2023-04-24T02:48:04.740Z"
   },
   {
    "duration": 168,
    "start_time": "2023-04-24T02:48:05.568Z"
   },
   {
    "duration": 5,
    "start_time": "2023-04-24T02:48:31.638Z"
   },
   {
    "duration": 175,
    "start_time": "2023-04-24T02:48:32.093Z"
   },
   {
    "duration": 175,
    "start_time": "2023-04-24T02:48:32.990Z"
   },
   {
    "duration": 8,
    "start_time": "2023-04-24T02:49:30.682Z"
   },
   {
    "duration": 181,
    "start_time": "2023-04-24T02:49:31.100Z"
   },
   {
    "duration": 181,
    "start_time": "2023-04-24T02:49:32.620Z"
   },
   {
    "duration": 232,
    "start_time": "2023-04-24T02:50:31.454Z"
   },
   {
    "duration": 5,
    "start_time": "2023-04-24T02:51:19.450Z"
   },
   {
    "duration": 171,
    "start_time": "2023-04-24T02:51:19.714Z"
   },
   {
    "duration": 185,
    "start_time": "2023-04-24T02:51:20.850Z"
   },
   {
    "duration": 4,
    "start_time": "2023-04-24T02:51:22.914Z"
   },
   {
    "duration": 8,
    "start_time": "2023-04-24T02:51:24.106Z"
   },
   {
    "duration": 9,
    "start_time": "2023-04-24T02:51:24.564Z"
   },
   {
    "duration": 230,
    "start_time": "2023-04-24T02:51:26.827Z"
   },
   {
    "duration": 50,
    "start_time": "2023-04-24T03:05:53.972Z"
   },
   {
    "duration": 136,
    "start_time": "2023-04-24T03:31:34.804Z"
   },
   {
    "duration": 25,
    "start_time": "2023-04-24T03:38:34.034Z"
   },
   {
    "duration": 13,
    "start_time": "2023-04-24T03:39:34.743Z"
   },
   {
    "duration": 3,
    "start_time": "2023-04-24T03:39:42.915Z"
   },
   {
    "duration": 15,
    "start_time": "2023-04-24T03:40:28.201Z"
   },
   {
    "duration": 12,
    "start_time": "2023-04-24T03:40:51.373Z"
   },
   {
    "duration": 15,
    "start_time": "2023-04-24T03:42:23.375Z"
   },
   {
    "duration": 18,
    "start_time": "2023-04-24T03:42:58.797Z"
   },
   {
    "duration": 27,
    "start_time": "2023-04-24T03:51:14.826Z"
   },
   {
    "duration": 4,
    "start_time": "2023-04-24T03:51:58.425Z"
   },
   {
    "duration": 13,
    "start_time": "2023-04-24T03:53:19.465Z"
   },
   {
    "duration": 18,
    "start_time": "2023-04-24T03:54:37.565Z"
   },
   {
    "duration": 6,
    "start_time": "2023-04-24T03:54:56.312Z"
   },
   {
    "duration": 19,
    "start_time": "2023-04-24T03:55:03.943Z"
   },
   {
    "duration": 26,
    "start_time": "2023-04-24T03:55:12.814Z"
   },
   {
    "duration": 5,
    "start_time": "2023-04-24T03:55:22.202Z"
   },
   {
    "duration": 17,
    "start_time": "2023-04-24T04:00:15.306Z"
   },
   {
    "duration": 3,
    "start_time": "2023-04-24T04:00:20.805Z"
   },
   {
    "duration": 2,
    "start_time": "2023-04-24T04:00:23.982Z"
   },
   {
    "duration": 15,
    "start_time": "2023-04-24T04:01:09.956Z"
   },
   {
    "duration": 14,
    "start_time": "2023-04-24T04:01:48.330Z"
   },
   {
    "duration": 12,
    "start_time": "2023-04-24T04:02:01.644Z"
   },
   {
    "duration": 5,
    "start_time": "2023-04-24T04:03:26.148Z"
   },
   {
    "duration": 24,
    "start_time": "2023-04-24T04:06:37.091Z"
   },
   {
    "duration": 12,
    "start_time": "2023-04-24T04:06:51.282Z"
   },
   {
    "duration": 15,
    "start_time": "2023-04-24T04:08:22.348Z"
   },
   {
    "duration": 3,
    "start_time": "2023-04-24T04:10:35.307Z"
   },
   {
    "duration": 8,
    "start_time": "2023-04-24T04:10:37.234Z"
   },
   {
    "duration": 9,
    "start_time": "2023-04-24T04:11:44.249Z"
   },
   {
    "duration": 13,
    "start_time": "2023-04-24T04:13:08.915Z"
   },
   {
    "duration": 8,
    "start_time": "2023-04-24T04:13:57.371Z"
   },
   {
    "duration": 10,
    "start_time": "2023-04-24T04:14:02.280Z"
   },
   {
    "duration": 7,
    "start_time": "2023-04-24T04:16:46.269Z"
   },
   {
    "duration": 8,
    "start_time": "2023-04-24T04:16:47.034Z"
   },
   {
    "duration": 12,
    "start_time": "2023-04-24T04:18:29.276Z"
   },
   {
    "duration": 7,
    "start_time": "2023-04-24T04:20:42.905Z"
   },
   {
    "duration": 10,
    "start_time": "2023-04-24T04:20:44.944Z"
   },
   {
    "duration": 9,
    "start_time": "2023-04-24T04:21:29.852Z"
   },
   {
    "duration": 18,
    "start_time": "2023-04-24T04:21:43.825Z"
   },
   {
    "duration": 8,
    "start_time": "2023-04-24T04:21:54.244Z"
   },
   {
    "duration": 11,
    "start_time": "2023-04-24T04:22:32.984Z"
   },
   {
    "duration": 27,
    "start_time": "2023-04-24T04:22:38.311Z"
   },
   {
    "duration": 19,
    "start_time": "2023-04-24T04:22:46.653Z"
   },
   {
    "duration": 25,
    "start_time": "2023-04-24T04:23:21.560Z"
   },
   {
    "duration": 9,
    "start_time": "2023-04-24T04:23:36.602Z"
   },
   {
    "duration": 20,
    "start_time": "2023-04-24T04:37:03.554Z"
   },
   {
    "duration": 11,
    "start_time": "2023-04-24T04:37:17.472Z"
   },
   {
    "duration": 13,
    "start_time": "2023-04-24T04:37:25.991Z"
   },
   {
    "duration": 13,
    "start_time": "2023-04-24T04:39:15.972Z"
   },
   {
    "duration": 13,
    "start_time": "2023-04-24T04:42:06.345Z"
   },
   {
    "duration": 12,
    "start_time": "2023-04-24T04:42:09.173Z"
   },
   {
    "duration": 12,
    "start_time": "2023-04-24T04:43:57.192Z"
   },
   {
    "duration": 13,
    "start_time": "2023-04-24T04:44:05.681Z"
   },
   {
    "duration": 8,
    "start_time": "2023-04-24T04:44:15.445Z"
   },
   {
    "duration": 15,
    "start_time": "2023-04-24T04:44:16.749Z"
   },
   {
    "duration": 14,
    "start_time": "2023-04-24T04:44:18.957Z"
   },
   {
    "duration": 15,
    "start_time": "2023-04-24T04:44:26.406Z"
   },
   {
    "duration": 12,
    "start_time": "2023-04-24T04:46:05.052Z"
   },
   {
    "duration": 10,
    "start_time": "2023-04-24T04:46:06.021Z"
   },
   {
    "duration": 43,
    "start_time": "2023-04-24T04:49:22.549Z"
   },
   {
    "duration": 4,
    "start_time": "2023-04-24T04:52:37.678Z"
   },
   {
    "duration": 20,
    "start_time": "2023-04-24T04:54:47.530Z"
   },
   {
    "duration": 17,
    "start_time": "2023-04-24T04:58:25.593Z"
   },
   {
    "duration": 18,
    "start_time": "2023-04-24T05:03:27.404Z"
   },
   {
    "duration": 9,
    "start_time": "2023-04-24T05:03:40.925Z"
   },
   {
    "duration": 7,
    "start_time": "2023-04-24T05:10:31.197Z"
   },
   {
    "duration": 3,
    "start_time": "2023-04-24T05:15:01.917Z"
   },
   {
    "duration": 78,
    "start_time": "2023-04-24T05:15:42.481Z"
   },
   {
    "duration": 3,
    "start_time": "2023-04-24T05:16:38.807Z"
   },
   {
    "duration": 6,
    "start_time": "2023-04-24T05:16:43.991Z"
   },
   {
    "duration": 3,
    "start_time": "2023-04-24T05:19:26.211Z"
   },
   {
    "duration": 3,
    "start_time": "2023-04-24T05:19:27.507Z"
   },
   {
    "duration": 6,
    "start_time": "2023-04-24T05:19:27.995Z"
   },
   {
    "duration": 3,
    "start_time": "2023-04-24T05:19:33.252Z"
   },
   {
    "duration": 7,
    "start_time": "2023-04-24T05:19:33.923Z"
   },
   {
    "duration": 3,
    "start_time": "2023-04-24T05:19:35.528Z"
   },
   {
    "duration": 3,
    "start_time": "2023-04-24T05:19:35.822Z"
   },
   {
    "duration": 9,
    "start_time": "2023-04-24T05:19:36.177Z"
   },
   {
    "duration": 5,
    "start_time": "2023-04-24T05:20:09.777Z"
   },
   {
    "duration": 7,
    "start_time": "2023-04-24T05:22:37.709Z"
   },
   {
    "duration": 3,
    "start_time": "2023-04-24T05:22:39.196Z"
   },
   {
    "duration": 14,
    "start_time": "2023-04-24T05:22:39.812Z"
   },
   {
    "duration": 11,
    "start_time": "2023-04-24T05:25:28.429Z"
   },
   {
    "duration": 3,
    "start_time": "2023-04-24T05:25:29.517Z"
   },
   {
    "duration": 3,
    "start_time": "2023-04-24T05:25:29.990Z"
   },
   {
    "duration": 7,
    "start_time": "2023-04-24T05:25:38.022Z"
   },
   {
    "duration": 3,
    "start_time": "2023-04-24T05:33:06.898Z"
   },
   {
    "duration": 507,
    "start_time": "2023-04-24T05:35:49.845Z"
   },
   {
    "duration": 475,
    "start_time": "2023-04-24T05:36:22.272Z"
   },
   {
    "duration": 5,
    "start_time": "2023-04-24T05:37:00.524Z"
   },
   {
    "duration": 12,
    "start_time": "2023-04-24T05:37:01.496Z"
   },
   {
    "duration": 4,
    "start_time": "2023-04-24T05:37:02.040Z"
   },
   {
    "duration": 489,
    "start_time": "2023-04-24T05:37:03.246Z"
   },
   {
    "duration": 452,
    "start_time": "2023-04-24T05:38:01.587Z"
   },
   {
    "duration": 1961,
    "start_time": "2023-04-24T05:39:45.261Z"
   },
   {
    "duration": 28,
    "start_time": "2023-04-24T05:39:47.224Z"
   },
   {
    "duration": 14,
    "start_time": "2023-04-24T05:39:47.253Z"
   },
   {
    "duration": 5,
    "start_time": "2023-04-24T05:39:47.269Z"
   },
   {
    "duration": 22,
    "start_time": "2023-04-24T05:39:47.276Z"
   },
   {
    "duration": 21,
    "start_time": "2023-04-24T05:39:47.300Z"
   },
   {
    "duration": 12,
    "start_time": "2023-04-24T05:39:47.322Z"
   },
   {
    "duration": 159,
    "start_time": "2023-04-24T05:39:47.335Z"
   },
   {
    "duration": 115,
    "start_time": "2023-04-24T05:39:47.495Z"
   },
   {
    "duration": 8,
    "start_time": "2023-04-24T05:39:47.612Z"
   },
   {
    "duration": 148,
    "start_time": "2023-04-24T05:39:47.622Z"
   },
   {
    "duration": 110,
    "start_time": "2023-04-24T05:39:47.772Z"
   },
   {
    "duration": 5,
    "start_time": "2023-04-24T05:39:47.884Z"
   },
   {
    "duration": 311,
    "start_time": "2023-04-24T05:39:47.892Z"
   },
   {
    "duration": 8,
    "start_time": "2023-04-24T05:39:48.205Z"
   },
   {
    "duration": 178,
    "start_time": "2023-04-24T05:39:48.214Z"
   },
   {
    "duration": 232,
    "start_time": "2023-04-24T05:39:48.394Z"
   },
   {
    "duration": 142,
    "start_time": "2023-04-24T05:39:48.628Z"
   },
   {
    "duration": 8,
    "start_time": "2023-04-24T05:39:48.771Z"
   },
   {
    "duration": 146,
    "start_time": "2023-04-24T05:39:48.780Z"
   },
   {
    "duration": 246,
    "start_time": "2023-04-24T05:39:48.934Z"
   },
   {
    "duration": 121,
    "start_time": "2023-04-24T05:39:49.182Z"
   },
   {
    "duration": 4,
    "start_time": "2023-04-24T05:39:49.305Z"
   },
   {
    "duration": 252,
    "start_time": "2023-04-24T05:39:49.311Z"
   },
   {
    "duration": 5,
    "start_time": "2023-04-24T05:39:49.565Z"
   },
   {
    "duration": 192,
    "start_time": "2023-04-24T05:39:49.572Z"
   },
   {
    "duration": 243,
    "start_time": "2023-04-24T05:39:49.766Z"
   },
   {
    "duration": 4,
    "start_time": "2023-04-24T05:39:50.011Z"
   },
   {
    "duration": 22,
    "start_time": "2023-04-24T05:39:50.017Z"
   },
   {
    "duration": 23,
    "start_time": "2023-04-24T05:39:50.042Z"
   },
   {
    "duration": 257,
    "start_time": "2023-04-24T05:39:50.066Z"
   },
   {
    "duration": 24,
    "start_time": "2023-04-24T05:39:50.324Z"
   },
   {
    "duration": 6,
    "start_time": "2023-04-24T05:39:50.349Z"
   },
   {
    "duration": 26,
    "start_time": "2023-04-24T05:39:50.357Z"
   },
   {
    "duration": 8,
    "start_time": "2023-04-24T05:39:50.385Z"
   },
   {
    "duration": 647,
    "start_time": "2023-04-24T05:39:50.395Z"
   },
   {
    "duration": 170,
    "start_time": "2023-04-24T05:39:51.045Z"
   },
   {
    "duration": 0,
    "start_time": "2023-04-24T05:39:51.216Z"
   },
   {
    "duration": 0,
    "start_time": "2023-04-24T05:39:51.218Z"
   },
   {
    "duration": 0,
    "start_time": "2023-04-24T05:39:51.219Z"
   },
   {
    "duration": 4,
    "start_time": "2023-04-24T05:40:56.137Z"
   },
   {
    "duration": 4,
    "start_time": "2023-04-24T05:41:05.881Z"
   },
   {
    "duration": 4,
    "start_time": "2023-04-24T05:41:38.247Z"
   },
   {
    "duration": 4,
    "start_time": "2023-04-24T05:41:47.191Z"
   },
   {
    "duration": 17,
    "start_time": "2023-04-24T05:45:58.644Z"
   },
   {
    "duration": 12,
    "start_time": "2023-04-24T05:46:04.612Z"
   },
   {
    "duration": 6,
    "start_time": "2023-04-24T05:46:20.547Z"
   },
   {
    "duration": 8,
    "start_time": "2023-04-24T05:47:45.310Z"
   },
   {
    "duration": 7,
    "start_time": "2023-04-24T05:48:13.378Z"
   },
   {
    "duration": 24,
    "start_time": "2023-04-24T05:48:33.587Z"
   },
   {
    "duration": 6,
    "start_time": "2023-04-24T05:48:36.877Z"
   },
   {
    "duration": 32,
    "start_time": "2023-04-24T05:48:41.424Z"
   },
   {
    "duration": 12,
    "start_time": "2023-04-24T05:48:48.311Z"
   },
   {
    "duration": 18,
    "start_time": "2023-04-24T05:48:54.098Z"
   },
   {
    "duration": 6,
    "start_time": "2023-04-24T05:57:14.104Z"
   },
   {
    "duration": 6,
    "start_time": "2023-04-24T05:57:50.087Z"
   },
   {
    "duration": 5,
    "start_time": "2023-04-24T06:01:01.431Z"
   },
   {
    "duration": 4,
    "start_time": "2023-04-24T06:01:03.166Z"
   },
   {
    "duration": 5,
    "start_time": "2023-04-24T06:25:30.035Z"
   },
   {
    "duration": 3,
    "start_time": "2023-04-24T06:25:30.570Z"
   },
   {
    "duration": 63,
    "start_time": "2023-04-24T06:25:31.925Z"
   },
   {
    "duration": 5,
    "start_time": "2023-04-24T06:25:38.394Z"
   },
   {
    "duration": 5,
    "start_time": "2023-04-24T06:26:12.248Z"
   },
   {
    "duration": 22,
    "start_time": "2023-04-24T06:26:12.975Z"
   },
   {
    "duration": 5,
    "start_time": "2023-04-24T06:26:37.696Z"
   },
   {
    "duration": 18,
    "start_time": "2023-04-24T06:26:42.605Z"
   },
   {
    "duration": 13,
    "start_time": "2023-04-24T06:26:45.080Z"
   },
   {
    "duration": 4,
    "start_time": "2023-04-24T06:26:47.484Z"
   },
   {
    "duration": 4,
    "start_time": "2023-04-24T06:26:48.788Z"
   },
   {
    "duration": 3,
    "start_time": "2023-04-24T06:26:50.710Z"
   },
   {
    "duration": 4,
    "start_time": "2023-04-24T06:26:52.316Z"
   },
   {
    "duration": 364,
    "start_time": "2023-04-24T06:26:54.181Z"
   },
   {
    "duration": 430,
    "start_time": "2023-04-24T06:28:16.207Z"
   },
   {
    "duration": 9,
    "start_time": "2023-04-24T06:28:21.744Z"
   },
   {
    "duration": 3,
    "start_time": "2023-04-24T06:28:27.403Z"
   },
   {
    "duration": 376,
    "start_time": "2023-04-24T06:28:29.879Z"
   },
   {
    "duration": 2,
    "start_time": "2023-04-24T06:28:32.936Z"
   },
   {
    "duration": 4,
    "start_time": "2023-04-24T06:29:08.891Z"
   },
   {
    "duration": 381,
    "start_time": "2023-04-24T06:29:11.868Z"
   },
   {
    "duration": 3,
    "start_time": "2023-04-24T06:29:15.300Z"
   },
   {
    "duration": 7,
    "start_time": "2023-04-24T06:29:34.385Z"
   },
   {
    "duration": 7,
    "start_time": "2023-04-24T06:29:40.839Z"
   },
   {
    "duration": 6,
    "start_time": "2023-04-24T06:29:44.425Z"
   },
   {
    "duration": 5,
    "start_time": "2023-04-24T06:30:08.600Z"
   },
   {
    "duration": 7,
    "start_time": "2023-04-24T06:32:57.450Z"
   },
   {
    "duration": 258,
    "start_time": "2023-04-24T06:32:59.403Z"
   },
   {
    "duration": 7,
    "start_time": "2023-04-24T06:33:03.609Z"
   },
   {
    "duration": 5,
    "start_time": "2023-04-24T06:33:12.639Z"
   },
   {
    "duration": 5,
    "start_time": "2023-04-24T06:33:25.214Z"
   },
   {
    "duration": 17,
    "start_time": "2023-04-24T06:33:25.720Z"
   },
   {
    "duration": 11,
    "start_time": "2023-04-24T06:33:26.822Z"
   },
   {
    "duration": 5,
    "start_time": "2023-04-24T06:33:27.255Z"
   },
   {
    "duration": 4,
    "start_time": "2023-04-24T06:33:28.222Z"
   },
   {
    "duration": 2,
    "start_time": "2023-04-24T06:33:29.007Z"
   },
   {
    "duration": 5,
    "start_time": "2023-04-24T06:33:29.825Z"
   },
   {
    "duration": 389,
    "start_time": "2023-04-24T06:33:31.255Z"
   },
   {
    "duration": 6,
    "start_time": "2023-04-24T06:33:31.880Z"
   },
   {
    "duration": 6,
    "start_time": "2023-04-24T06:33:34.024Z"
   },
   {
    "duration": 6,
    "start_time": "2023-04-24T06:33:56.953Z"
   },
   {
    "duration": 6,
    "start_time": "2023-04-24T06:34:02.772Z"
   },
   {
    "duration": 4548,
    "start_time": "2023-04-24T06:34:10.599Z"
   },
   {
    "duration": 5,
    "start_time": "2023-04-24T06:34:18.532Z"
   },
   {
    "duration": 5,
    "start_time": "2023-04-24T06:34:21.300Z"
   },
   {
    "duration": 4,
    "start_time": "2023-04-24T06:35:48.754Z"
   },
   {
    "duration": 3,
    "start_time": "2023-04-24T06:35:50.519Z"
   },
   {
    "duration": 4,
    "start_time": "2023-04-24T06:35:51.947Z"
   },
   {
    "duration": 4544,
    "start_time": "2023-04-24T06:35:53.900Z"
   },
   {
    "duration": 5,
    "start_time": "2023-04-24T06:36:01.355Z"
   },
   {
    "duration": 6,
    "start_time": "2023-04-24T06:36:10.620Z"
   },
   {
    "duration": 5,
    "start_time": "2023-04-24T06:36:11.411Z"
   },
   {
    "duration": 6,
    "start_time": "2023-04-24T06:37:11.359Z"
   },
   {
    "duration": 3,
    "start_time": "2023-04-24T06:37:12.405Z"
   },
   {
    "duration": 4,
    "start_time": "2023-04-24T06:37:13.350Z"
   },
   {
    "duration": 5080,
    "start_time": "2023-04-24T06:37:14.358Z"
   },
   {
    "duration": 5,
    "start_time": "2023-04-24T06:37:23.453Z"
   },
   {
    "duration": 5,
    "start_time": "2023-04-24T06:37:27.973Z"
   },
   {
    "duration": 5,
    "start_time": "2023-04-24T06:38:36.167Z"
   },
   {
    "duration": 4161,
    "start_time": "2023-04-24T06:38:37.087Z"
   },
   {
    "duration": 5,
    "start_time": "2023-04-24T06:38:43.545Z"
   },
   {
    "duration": 5,
    "start_time": "2023-04-24T06:38:48.056Z"
   },
   {
    "duration": 4,
    "start_time": "2023-04-24T06:39:06.125Z"
   },
   {
    "duration": 4112,
    "start_time": "2023-04-24T06:39:06.844Z"
   },
   {
    "duration": 5,
    "start_time": "2023-04-24T06:39:11.035Z"
   },
   {
    "duration": 5,
    "start_time": "2023-04-24T06:39:15.306Z"
   },
   {
    "duration": 6,
    "start_time": "2023-04-24T06:39:17.899Z"
   },
   {
    "duration": 5,
    "start_time": "2023-04-24T06:39:22.695Z"
   },
   {
    "duration": 4134,
    "start_time": "2023-04-24T06:39:24.120Z"
   },
   {
    "duration": 5,
    "start_time": "2023-04-24T06:39:29.833Z"
   },
   {
    "duration": 4,
    "start_time": "2023-04-24T06:39:38.138Z"
   },
   {
    "duration": 4566,
    "start_time": "2023-04-24T06:39:38.984Z"
   },
   {
    "duration": 6,
    "start_time": "2023-04-24T06:39:46.881Z"
   },
   {
    "duration": 5,
    "start_time": "2023-04-24T06:40:06.798Z"
   },
   {
    "duration": 4150,
    "start_time": "2023-04-24T06:40:07.800Z"
   },
   {
    "duration": 5,
    "start_time": "2023-04-24T06:40:16.062Z"
   },
   {
    "duration": 5,
    "start_time": "2023-04-24T06:40:21.621Z"
   },
   {
    "duration": 4,
    "start_time": "2023-04-24T06:40:31.687Z"
   },
   {
    "duration": 4120,
    "start_time": "2023-04-24T06:40:35.431Z"
   },
   {
    "duration": 6,
    "start_time": "2023-04-24T06:40:48.691Z"
   },
   {
    "duration": 5,
    "start_time": "2023-04-24T06:41:19.249Z"
   },
   {
    "duration": 19,
    "start_time": "2023-04-24T06:41:33.275Z"
   },
   {
    "duration": 10,
    "start_time": "2023-04-24T06:41:35.852Z"
   },
   {
    "duration": 4,
    "start_time": "2023-04-24T06:41:38.698Z"
   },
   {
    "duration": 26,
    "start_time": "2023-04-24T06:42:12.628Z"
   },
   {
    "duration": 5,
    "start_time": "2023-04-24T06:42:18.770Z"
   },
   {
    "duration": 18,
    "start_time": "2023-04-24T06:42:38.978Z"
   },
   {
    "duration": 5,
    "start_time": "2023-04-24T06:42:47.011Z"
   },
   {
    "duration": 5,
    "start_time": "2023-04-24T06:43:30.304Z"
   },
   {
    "duration": 5,
    "start_time": "2023-04-24T06:43:47.603Z"
   },
   {
    "duration": 4,
    "start_time": "2023-04-24T06:44:04.349Z"
   },
   {
    "duration": 4611,
    "start_time": "2023-04-24T06:44:05.140Z"
   },
   {
    "duration": 6,
    "start_time": "2023-04-24T06:44:17.256Z"
   },
   {
    "duration": 5,
    "start_time": "2023-04-24T06:44:19.714Z"
   },
   {
    "duration": 5,
    "start_time": "2023-04-24T06:44:27.933Z"
   },
   {
    "duration": 4373,
    "start_time": "2023-04-24T06:44:29.384Z"
   },
   {
    "duration": 35564,
    "start_time": "2023-04-24T06:44:45.091Z"
   },
   {
    "duration": 4,
    "start_time": "2023-04-24T06:48:03.680Z"
   },
   {
    "duration": 3,
    "start_time": "2023-04-24T06:48:21.208Z"
   },
   {
    "duration": 6,
    "start_time": "2023-04-24T06:48:22.088Z"
   },
   {
    "duration": 17,
    "start_time": "2023-04-24T06:48:23.448Z"
   },
   {
    "duration": 5,
    "start_time": "2023-04-24T06:48:45.280Z"
   },
   {
    "duration": 4034,
    "start_time": "2023-04-24T06:48:46.252Z"
   },
   {
    "duration": 5,
    "start_time": "2023-04-24T06:48:54.346Z"
   },
   {
    "duration": 5,
    "start_time": "2023-04-24T06:48:57.344Z"
   },
   {
    "duration": 4,
    "start_time": "2023-04-24T06:49:02.965Z"
   },
   {
    "duration": 3933,
    "start_time": "2023-04-24T06:49:03.684Z"
   },
   {
    "duration": 5,
    "start_time": "2023-04-24T06:49:12.607Z"
   },
   {
    "duration": 4,
    "start_time": "2023-04-24T06:49:20.097Z"
   },
   {
    "duration": 3698,
    "start_time": "2023-04-24T06:49:20.889Z"
   },
   {
    "duration": 5,
    "start_time": "2023-04-24T06:49:26.039Z"
   },
   {
    "duration": 4,
    "start_time": "2023-04-24T06:49:29.090Z"
   },
   {
    "duration": 5,
    "start_time": "2023-04-24T06:49:35.993Z"
   },
   {
    "duration": 3757,
    "start_time": "2023-04-24T06:49:36.777Z"
   },
   {
    "duration": 6,
    "start_time": "2023-04-24T06:49:44.706Z"
   },
   {
    "duration": 4,
    "start_time": "2023-04-24T06:49:47.882Z"
   },
   {
    "duration": 4,
    "start_time": "2023-04-24T06:49:57.293Z"
   },
   {
    "duration": 5,
    "start_time": "2023-04-24T06:50:01.989Z"
   },
   {
    "duration": 5,
    "start_time": "2023-04-24T06:50:17.790Z"
   },
   {
    "duration": 3,
    "start_time": "2023-04-24T06:50:18.681Z"
   },
   {
    "duration": 4,
    "start_time": "2023-04-24T06:50:19.163Z"
   },
   {
    "duration": 1732,
    "start_time": "2023-04-24T06:50:52.080Z"
   },
   {
    "duration": 26,
    "start_time": "2023-04-24T06:50:53.814Z"
   },
   {
    "duration": 17,
    "start_time": "2023-04-24T06:50:53.842Z"
   },
   {
    "duration": 19,
    "start_time": "2023-04-24T06:50:53.860Z"
   },
   {
    "duration": 22,
    "start_time": "2023-04-24T06:50:53.881Z"
   },
   {
    "duration": 19,
    "start_time": "2023-04-24T06:50:53.904Z"
   },
   {
    "duration": 10,
    "start_time": "2023-04-24T06:50:53.924Z"
   },
   {
    "duration": 162,
    "start_time": "2023-04-24T06:50:53.936Z"
   },
   {
    "duration": 114,
    "start_time": "2023-04-24T06:50:54.099Z"
   },
   {
    "duration": 7,
    "start_time": "2023-04-24T06:50:54.215Z"
   },
   {
    "duration": 138,
    "start_time": "2023-04-24T06:50:54.235Z"
   },
   {
    "duration": 93,
    "start_time": "2023-04-24T06:50:54.375Z"
   },
   {
    "duration": 4,
    "start_time": "2023-04-24T06:50:54.470Z"
   },
   {
    "duration": 309,
    "start_time": "2023-04-24T06:50:54.477Z"
   },
   {
    "duration": 8,
    "start_time": "2023-04-24T06:50:54.788Z"
   },
   {
    "duration": 165,
    "start_time": "2023-04-24T06:50:54.797Z"
   },
   {
    "duration": 214,
    "start_time": "2023-04-24T06:50:54.963Z"
   },
   {
    "duration": 126,
    "start_time": "2023-04-24T06:50:55.179Z"
   },
   {
    "duration": 8,
    "start_time": "2023-04-24T06:50:55.307Z"
   },
   {
    "duration": 159,
    "start_time": "2023-04-24T06:50:55.317Z"
   },
   {
    "duration": 219,
    "start_time": "2023-04-24T06:50:55.478Z"
   },
   {
    "duration": 98,
    "start_time": "2023-04-24T06:50:55.699Z"
   },
   {
    "duration": 4,
    "start_time": "2023-04-24T06:50:55.798Z"
   },
   {
    "duration": 239,
    "start_time": "2023-04-24T06:50:55.804Z"
   },
   {
    "duration": 5,
    "start_time": "2023-04-24T06:50:56.045Z"
   },
   {
    "duration": 190,
    "start_time": "2023-04-24T06:50:56.052Z"
   },
   {
    "duration": 192,
    "start_time": "2023-04-24T06:50:56.244Z"
   },
   {
    "duration": 4,
    "start_time": "2023-04-24T06:50:56.438Z"
   },
   {
    "duration": 27,
    "start_time": "2023-04-24T06:50:56.444Z"
   },
   {
    "duration": 21,
    "start_time": "2023-04-24T06:50:56.472Z"
   },
   {
    "duration": 249,
    "start_time": "2023-04-24T06:50:56.494Z"
   },
   {
    "duration": 18,
    "start_time": "2023-04-24T06:50:56.744Z"
   },
   {
    "duration": 36,
    "start_time": "2023-04-24T06:50:56.763Z"
   },
   {
    "duration": 38,
    "start_time": "2023-04-24T06:50:56.801Z"
   },
   {
    "duration": 57,
    "start_time": "2023-04-24T06:50:56.840Z"
   },
   {
    "duration": 79,
    "start_time": "2023-04-24T06:50:56.898Z"
   },
   {
    "duration": 58,
    "start_time": "2023-04-24T06:50:56.979Z"
   },
   {
    "duration": 14,
    "start_time": "2023-04-24T06:50:57.039Z"
   },
   {
    "duration": 19,
    "start_time": "2023-04-24T06:50:57.054Z"
   },
   {
    "duration": 42777,
    "start_time": "2023-04-24T06:50:57.074Z"
   },
   {
    "duration": 5,
    "start_time": "2023-04-24T06:51:39.854Z"
   },
   {
    "duration": 76,
    "start_time": "2023-04-24T06:51:39.861Z"
   },
   {
    "duration": 137,
    "start_time": "2023-04-24T06:51:39.938Z"
   },
   {
    "duration": 0,
    "start_time": "2023-04-24T06:51:40.077Z"
   },
   {
    "duration": 46,
    "start_time": "2023-04-24T06:52:05.304Z"
   },
   {
    "duration": 5,
    "start_time": "2023-04-24T06:52:48.477Z"
   },
   {
    "duration": 20,
    "start_time": "2023-04-24T06:52:50.949Z"
   },
   {
    "duration": 4,
    "start_time": "2023-04-24T06:53:02.916Z"
   },
   {
    "duration": 48085,
    "start_time": "2023-04-24T06:53:04.051Z"
   },
   {
    "duration": 5,
    "start_time": "2023-04-24T06:53:55.021Z"
   },
   {
    "duration": 518,
    "start_time": "2023-04-24T06:53:55.846Z"
   },
   {
    "duration": 5,
    "start_time": "2023-04-24T06:54:00.447Z"
   },
   {
    "duration": 4,
    "start_time": "2023-04-24T06:54:01.575Z"
   },
   {
    "duration": 5,
    "start_time": "2023-04-24T06:54:10.856Z"
   },
   {
    "duration": 453,
    "start_time": "2023-04-24T06:54:11.590Z"
   },
   {
    "duration": 5,
    "start_time": "2023-04-24T06:54:15.421Z"
   },
   {
    "duration": 539,
    "start_time": "2023-04-24T06:54:16.118Z"
   },
   {
    "duration": 5,
    "start_time": "2023-04-24T06:54:21.818Z"
   },
   {
    "duration": 615,
    "start_time": "2023-04-24T06:54:22.447Z"
   },
   {
    "duration": 5,
    "start_time": "2023-04-24T06:54:28.115Z"
   },
   {
    "duration": 473,
    "start_time": "2023-04-24T06:54:28.987Z"
   },
   {
    "duration": 6,
    "start_time": "2023-04-24T06:54:36.268Z"
   },
   {
    "duration": 6168,
    "start_time": "2023-04-24T06:54:36.867Z"
   },
   {
    "duration": 5,
    "start_time": "2023-04-24T06:55:32.952Z"
   },
   {
    "duration": 5610,
    "start_time": "2023-04-24T06:55:33.745Z"
   },
   {
    "duration": 1708,
    "start_time": "2023-04-24T06:59:39.055Z"
   },
   {
    "duration": 28,
    "start_time": "2023-04-24T06:59:40.764Z"
   },
   {
    "duration": 15,
    "start_time": "2023-04-24T06:59:40.793Z"
   },
   {
    "duration": 20,
    "start_time": "2023-04-24T06:59:40.810Z"
   },
   {
    "duration": 13,
    "start_time": "2023-04-24T06:59:40.832Z"
   },
   {
    "duration": 32,
    "start_time": "2023-04-24T06:59:40.847Z"
   },
   {
    "duration": 22,
    "start_time": "2023-04-24T06:59:40.881Z"
   },
   {
    "duration": 167,
    "start_time": "2023-04-24T06:59:40.904Z"
   },
   {
    "duration": 103,
    "start_time": "2023-04-24T06:59:41.073Z"
   },
   {
    "duration": 8,
    "start_time": "2023-04-24T06:59:41.178Z"
   },
   {
    "duration": 158,
    "start_time": "2023-04-24T06:59:41.187Z"
   },
   {
    "duration": 88,
    "start_time": "2023-04-24T06:59:41.346Z"
   },
   {
    "duration": 4,
    "start_time": "2023-04-24T06:59:41.436Z"
   },
   {
    "duration": 341,
    "start_time": "2023-04-24T06:59:41.442Z"
   },
   {
    "duration": 8,
    "start_time": "2023-04-24T06:59:41.785Z"
   },
   {
    "duration": 163,
    "start_time": "2023-04-24T06:59:41.794Z"
   },
   {
    "duration": 214,
    "start_time": "2023-04-24T06:59:41.958Z"
   },
   {
    "duration": 114,
    "start_time": "2023-04-24T06:59:42.174Z"
   },
   {
    "duration": 7,
    "start_time": "2023-04-24T06:59:42.290Z"
   },
   {
    "duration": 137,
    "start_time": "2023-04-24T06:59:42.298Z"
   },
   {
    "duration": 205,
    "start_time": "2023-04-24T06:59:42.436Z"
   },
   {
    "duration": 103,
    "start_time": "2023-04-24T06:59:42.642Z"
   },
   {
    "duration": 5,
    "start_time": "2023-04-24T06:59:42.747Z"
   },
   {
    "duration": 228,
    "start_time": "2023-04-24T06:59:42.753Z"
   },
   {
    "duration": 5,
    "start_time": "2023-04-24T06:59:42.984Z"
   },
   {
    "duration": 181,
    "start_time": "2023-04-24T06:59:42.991Z"
   },
   {
    "duration": 198,
    "start_time": "2023-04-24T06:59:43.174Z"
   },
   {
    "duration": 4,
    "start_time": "2023-04-24T06:59:43.376Z"
   },
   {
    "duration": 13,
    "start_time": "2023-04-24T06:59:43.382Z"
   },
   {
    "duration": 16,
    "start_time": "2023-04-24T06:59:43.396Z"
   },
   {
    "duration": 287,
    "start_time": "2023-04-24T06:59:43.413Z"
   },
   {
    "duration": 17,
    "start_time": "2023-04-24T06:59:43.702Z"
   },
   {
    "duration": 23,
    "start_time": "2023-04-24T06:59:43.721Z"
   },
   {
    "duration": 25,
    "start_time": "2023-04-24T06:59:43.745Z"
   },
   {
    "duration": 28,
    "start_time": "2023-04-24T06:59:43.771Z"
   },
   {
    "duration": 6,
    "start_time": "2023-04-24T06:59:43.801Z"
   },
   {
    "duration": 6,
    "start_time": "2023-04-24T06:59:43.808Z"
   },
   {
    "duration": 10,
    "start_time": "2023-04-24T06:59:43.815Z"
   },
   {
    "duration": 6,
    "start_time": "2023-04-24T06:59:43.827Z"
   },
   {
    "duration": 142,
    "start_time": "2023-04-24T06:59:43.835Z"
   },
   {
    "duration": 0,
    "start_time": "2023-04-24T06:59:43.978Z"
   },
   {
    "duration": 0,
    "start_time": "2023-04-24T06:59:43.980Z"
   },
   {
    "duration": 0,
    "start_time": "2023-04-24T06:59:43.980Z"
   },
   {
    "duration": 0,
    "start_time": "2023-04-24T06:59:43.981Z"
   },
   {
    "duration": 2,
    "start_time": "2023-04-24T06:59:54.279Z"
   },
   {
    "duration": 5,
    "start_time": "2023-04-24T06:59:55.121Z"
   },
   {
    "duration": 4077,
    "start_time": "2023-04-24T06:59:56.672Z"
   },
   {
    "duration": 5,
    "start_time": "2023-04-24T07:00:37.624Z"
   },
   {
    "duration": 4062,
    "start_time": "2023-04-24T07:00:38.289Z"
   },
   {
    "duration": 4,
    "start_time": "2023-04-24T07:04:49.751Z"
   },
   {
    "duration": 3,
    "start_time": "2023-04-24T07:04:51.311Z"
   },
   {
    "duration": 5,
    "start_time": "2023-04-24T07:04:52.941Z"
   },
   {
    "duration": 3725,
    "start_time": "2023-04-24T07:04:54.410Z"
   },
   {
    "duration": 36653,
    "start_time": "2023-04-24T07:05:12.392Z"
   },
   {
    "duration": 5,
    "start_time": "2023-04-24T07:06:13.285Z"
   },
   {
    "duration": 6,
    "start_time": "2023-04-24T07:06:51.839Z"
   },
   {
    "duration": 31993,
    "start_time": "2023-04-24T07:06:51.847Z"
   },
   {
    "duration": 5,
    "start_time": "2023-04-24T07:08:06.237Z"
   },
   {
    "duration": 256,
    "start_time": "2023-04-24T07:08:07.189Z"
   },
   {
    "duration": 3326,
    "start_time": "2023-04-24T07:08:29.225Z"
   },
   {
    "duration": 5,
    "start_time": "2023-04-24T07:12:10.991Z"
   },
   {
    "duration": 4006,
    "start_time": "2023-04-24T07:12:13.150Z"
   },
   {
    "duration": 5,
    "start_time": "2023-04-24T07:12:24.384Z"
   },
   {
    "duration": 3826,
    "start_time": "2023-04-24T07:12:26.327Z"
   },
   {
    "duration": 5,
    "start_time": "2023-04-24T07:15:01.900Z"
   },
   {
    "duration": 5,
    "start_time": "2023-04-24T07:16:11.222Z"
   },
   {
    "duration": 2,
    "start_time": "2023-04-24T07:16:11.959Z"
   },
   {
    "duration": 4,
    "start_time": "2023-04-24T07:16:13.206Z"
   },
   {
    "duration": 3688,
    "start_time": "2023-04-24T07:16:15.766Z"
   },
   {
    "duration": 4,
    "start_time": "2023-04-24T07:16:52.875Z"
   },
   {
    "duration": 6117,
    "start_time": "2023-04-24T07:16:53.634Z"
   },
   {
    "duration": 11,
    "start_time": "2023-04-24T07:18:35.715Z"
   },
   {
    "duration": 6,
    "start_time": "2023-04-24T07:18:40.258Z"
   },
   {
    "duration": 15,
    "start_time": "2023-04-24T07:18:40.577Z"
   },
   {
    "duration": 14,
    "start_time": "2023-04-24T07:18:41.361Z"
   },
   {
    "duration": 4,
    "start_time": "2023-04-24T07:18:43.715Z"
   },
   {
    "duration": 4,
    "start_time": "2023-04-24T07:18:45.682Z"
   },
   {
    "duration": 3,
    "start_time": "2023-04-24T07:18:47.011Z"
   },
   {
    "duration": 4,
    "start_time": "2023-04-24T07:18:47.819Z"
   },
   {
    "duration": 8834,
    "start_time": "2023-04-24T07:18:49.610Z"
   },
   {
    "duration": 8,
    "start_time": "2023-04-24T07:18:58.446Z"
   },
   {
    "duration": 5,
    "start_time": "2023-04-24T07:19:01.986Z"
   },
   {
    "duration": 4,
    "start_time": "2023-04-24T07:20:14.517Z"
   },
   {
    "duration": 922,
    "start_time": "2023-04-24T07:20:18.113Z"
   },
   {
    "duration": 5,
    "start_time": "2023-04-24T07:20:26.921Z"
   },
   {
    "duration": 5,
    "start_time": "2023-04-24T07:20:29.746Z"
   },
   {
    "duration": 7,
    "start_time": "2023-04-24T07:20:36.633Z"
   },
   {
    "duration": 3,
    "start_time": "2023-04-24T07:20:37.096Z"
   },
   {
    "duration": 5,
    "start_time": "2023-04-24T07:20:37.488Z"
   },
   {
    "duration": 902,
    "start_time": "2023-04-24T07:20:37.961Z"
   },
   {
    "duration": 5,
    "start_time": "2023-04-24T07:20:38.865Z"
   },
   {
    "duration": 6,
    "start_time": "2023-04-24T07:21:50.587Z"
   },
   {
    "duration": 17,
    "start_time": "2023-04-24T07:21:51.740Z"
   },
   {
    "duration": 13,
    "start_time": "2023-04-24T07:21:55.468Z"
   },
   {
    "duration": 4,
    "start_time": "2023-04-24T07:21:57.668Z"
   },
   {
    "duration": 5,
    "start_time": "2023-04-24T07:22:02.643Z"
   },
   {
    "duration": 18,
    "start_time": "2023-04-24T07:26:56.643Z"
   },
   {
    "duration": 20,
    "start_time": "2023-04-24T07:27:11.000Z"
   },
   {
    "duration": 5,
    "start_time": "2023-04-24T07:27:14.184Z"
   },
   {
    "duration": 18,
    "start_time": "2023-04-24T07:27:16.402Z"
   },
   {
    "duration": 13,
    "start_time": "2023-04-24T07:27:22.008Z"
   },
   {
    "duration": 3,
    "start_time": "2023-04-24T07:27:24.683Z"
   },
   {
    "duration": 5,
    "start_time": "2023-04-24T07:27:25.544Z"
   },
   {
    "duration": 5,
    "start_time": "2023-04-24T07:27:29.032Z"
   },
   {
    "duration": 2,
    "start_time": "2023-04-24T07:27:35.265Z"
   },
   {
    "duration": 4,
    "start_time": "2023-04-24T07:27:40.033Z"
   },
   {
    "duration": 687,
    "start_time": "2023-04-24T07:27:41.553Z"
   },
   {
    "duration": 4,
    "start_time": "2023-04-24T07:28:31.796Z"
   },
   {
    "duration": 2,
    "start_time": "2023-04-24T07:28:33.146Z"
   },
   {
    "duration": 5,
    "start_time": "2023-04-24T07:28:34.465Z"
   },
   {
    "duration": 591,
    "start_time": "2023-04-24T07:28:35.563Z"
   },
   {
    "duration": 16,
    "start_time": "2023-04-24T07:28:43.437Z"
   },
   {
    "duration": 5,
    "start_time": "2023-04-24T07:28:45.049Z"
   },
   {
    "duration": 5,
    "start_time": "2023-04-24T07:29:08.728Z"
   },
   {
    "duration": 652,
    "start_time": "2023-04-24T07:29:09.495Z"
   },
   {
    "duration": 5,
    "start_time": "2023-04-24T07:29:13.992Z"
   },
   {
    "duration": 10,
    "start_time": "2023-04-24T07:29:16.941Z"
   },
   {
    "duration": 22,
    "start_time": "2023-04-24T07:29:35.528Z"
   },
   {
    "duration": 10,
    "start_time": "2023-04-24T07:29:57.758Z"
   },
   {
    "duration": 4,
    "start_time": "2023-04-24T07:30:20.143Z"
   },
   {
    "duration": 6,
    "start_time": "2023-04-24T07:30:45.377Z"
   },
   {
    "duration": 4,
    "start_time": "2023-04-24T07:31:05.608Z"
   },
   {
    "duration": 4,
    "start_time": "2023-04-24T07:31:14.450Z"
   },
   {
    "duration": 3,
    "start_time": "2023-04-24T07:31:18.327Z"
   },
   {
    "duration": 5,
    "start_time": "2023-04-24T07:31:21.920Z"
   },
   {
    "duration": 5,
    "start_time": "2023-04-24T07:31:30.743Z"
   },
   {
    "duration": 5,
    "start_time": "2023-04-24T07:32:40.522Z"
   },
   {
    "duration": 18,
    "start_time": "2023-04-24T07:32:41.574Z"
   },
   {
    "duration": 12,
    "start_time": "2023-04-24T07:32:43.497Z"
   },
   {
    "duration": 4,
    "start_time": "2023-04-24T07:32:44.529Z"
   },
   {
    "duration": 5,
    "start_time": "2023-04-24T07:32:44.882Z"
   },
   {
    "duration": 5,
    "start_time": "2023-04-24T07:32:48.328Z"
   },
   {
    "duration": 3,
    "start_time": "2023-04-24T07:32:49.985Z"
   },
   {
    "duration": 5,
    "start_time": "2023-04-24T07:32:51.060Z"
   },
   {
    "duration": 523,
    "start_time": "2023-04-24T07:32:52.425Z"
   },
   {
    "duration": 5,
    "start_time": "2023-04-24T07:32:56.557Z"
   },
   {
    "duration": 5,
    "start_time": "2023-04-24T07:33:24.455Z"
   },
   {
    "duration": 5,
    "start_time": "2023-04-24T07:33:31.094Z"
   },
   {
    "duration": 4,
    "start_time": "2023-04-24T07:33:40.131Z"
   },
   {
    "duration": 560,
    "start_time": "2023-04-24T07:33:40.990Z"
   },
   {
    "duration": 4,
    "start_time": "2023-04-24T07:33:45.836Z"
   },
   {
    "duration": 5,
    "start_time": "2023-04-24T07:33:47.027Z"
   },
   {
    "duration": 5901,
    "start_time": "2023-04-24T07:33:53.540Z"
   },
   {
    "duration": 5,
    "start_time": "2023-04-24T07:34:02.506Z"
   },
   {
    "duration": 5,
    "start_time": "2023-04-24T07:34:06.773Z"
   },
   {
    "duration": 1764,
    "start_time": "2023-04-24T07:34:40.220Z"
   },
   {
    "duration": 27,
    "start_time": "2023-04-24T07:34:41.986Z"
   },
   {
    "duration": 14,
    "start_time": "2023-04-24T07:34:42.014Z"
   },
   {
    "duration": 5,
    "start_time": "2023-04-24T07:34:42.030Z"
   },
   {
    "duration": 12,
    "start_time": "2023-04-24T07:34:42.037Z"
   },
   {
    "duration": 13,
    "start_time": "2023-04-24T07:34:42.050Z"
   },
   {
    "duration": 12,
    "start_time": "2023-04-24T07:34:42.065Z"
   },
   {
    "duration": 143,
    "start_time": "2023-04-24T07:34:42.079Z"
   },
   {
    "duration": 101,
    "start_time": "2023-04-24T07:34:42.223Z"
   },
   {
    "duration": 13,
    "start_time": "2023-04-24T07:34:42.325Z"
   },
   {
    "duration": 128,
    "start_time": "2023-04-24T07:34:42.340Z"
   },
   {
    "duration": 87,
    "start_time": "2023-04-24T07:34:42.470Z"
   },
   {
    "duration": 6,
    "start_time": "2023-04-24T07:34:42.558Z"
   },
   {
    "duration": 231,
    "start_time": "2023-04-24T07:34:42.568Z"
   },
   {
    "duration": 9,
    "start_time": "2023-04-24T07:34:42.801Z"
   },
   {
    "duration": 162,
    "start_time": "2023-04-24T07:34:42.812Z"
   },
   {
    "duration": 203,
    "start_time": "2023-04-24T07:34:42.976Z"
   },
   {
    "duration": 111,
    "start_time": "2023-04-24T07:34:43.181Z"
   },
   {
    "duration": 8,
    "start_time": "2023-04-24T07:34:43.293Z"
   },
   {
    "duration": 147,
    "start_time": "2023-04-24T07:34:43.303Z"
   },
   {
    "duration": 218,
    "start_time": "2023-04-24T07:34:43.452Z"
   },
   {
    "duration": 102,
    "start_time": "2023-04-24T07:34:43.671Z"
   },
   {
    "duration": 4,
    "start_time": "2023-04-24T07:34:43.774Z"
   },
   {
    "duration": 254,
    "start_time": "2023-04-24T07:34:43.780Z"
   },
   {
    "duration": 5,
    "start_time": "2023-04-24T07:34:44.036Z"
   },
   {
    "duration": 188,
    "start_time": "2023-04-24T07:34:44.043Z"
   },
   {
    "duration": 193,
    "start_time": "2023-04-24T07:34:44.232Z"
   },
   {
    "duration": 8,
    "start_time": "2023-04-24T07:34:44.427Z"
   },
   {
    "duration": 8,
    "start_time": "2023-04-24T07:34:44.437Z"
   },
   {
    "duration": 10,
    "start_time": "2023-04-24T07:34:44.447Z"
   },
   {
    "duration": 306,
    "start_time": "2023-04-24T07:34:44.459Z"
   },
   {
    "duration": 19,
    "start_time": "2023-04-24T07:34:44.767Z"
   },
   {
    "duration": 6,
    "start_time": "2023-04-24T07:34:44.787Z"
   },
   {
    "duration": 24,
    "start_time": "2023-04-24T07:34:44.794Z"
   },
   {
    "duration": 13,
    "start_time": "2023-04-24T07:34:44.835Z"
   },
   {
    "duration": 4,
    "start_time": "2023-04-24T07:34:44.850Z"
   },
   {
    "duration": 10,
    "start_time": "2023-04-24T07:34:44.855Z"
   },
   {
    "duration": 6,
    "start_time": "2023-04-24T07:34:44.867Z"
   },
   {
    "duration": 7,
    "start_time": "2023-04-24T07:34:44.875Z"
   },
   {
    "duration": 7,
    "start_time": "2023-04-24T07:34:44.884Z"
   },
   {
    "duration": 6568,
    "start_time": "2023-04-24T07:34:44.894Z"
   },
   {
    "duration": 74,
    "start_time": "2023-04-24T07:34:51.463Z"
   },
   {
    "duration": 22,
    "start_time": "2023-04-24T07:34:51.538Z"
   },
   {
    "duration": 25,
    "start_time": "2023-04-24T07:34:51.562Z"
   },
   {
    "duration": 7,
    "start_time": "2023-04-24T07:40:46.082Z"
   },
   {
    "duration": 3,
    "start_time": "2023-04-24T07:40:47.867Z"
   },
   {
    "duration": 5,
    "start_time": "2023-04-24T07:40:49.242Z"
   },
   {
    "duration": 6949,
    "start_time": "2023-04-24T07:40:51.298Z"
   },
   {
    "duration": 4,
    "start_time": "2023-04-24T07:41:05.251Z"
   },
   {
    "duration": 5,
    "start_time": "2023-04-24T07:41:07.858Z"
   },
   {
    "duration": 6,
    "start_time": "2023-04-24T07:41:43.740Z"
   },
   {
    "duration": 6,
    "start_time": "2023-04-24T07:41:45.619Z"
   },
   {
    "duration": 70547,
    "start_time": "2023-04-24T07:42:24.997Z"
   },
   {
    "duration": 5,
    "start_time": "2023-04-24T07:43:53.260Z"
   },
   {
    "duration": 5,
    "start_time": "2023-04-24T07:44:03.611Z"
   },
   {
    "duration": 4,
    "start_time": "2023-04-24T07:44:06.861Z"
   },
   {
    "duration": 5,
    "start_time": "2023-04-24T07:44:09.733Z"
   },
   {
    "duration": 4,
    "start_time": "2023-04-24T07:44:10.445Z"
   },
   {
    "duration": 5,
    "start_time": "2023-04-24T07:44:15.757Z"
   },
   {
    "duration": 321,
    "start_time": "2023-04-24T07:44:16.428Z"
   },
   {
    "duration": 5,
    "start_time": "2023-04-24T07:44:18.992Z"
   },
   {
    "duration": 7,
    "start_time": "2023-04-24T07:44:20.123Z"
   },
   {
    "duration": 5,
    "start_time": "2023-04-24T07:44:21.994Z"
   },
   {
    "duration": 5,
    "start_time": "2023-04-24T07:44:25.080Z"
   },
   {
    "duration": 4,
    "start_time": "2023-04-24T07:44:25.673Z"
   },
   {
    "duration": 5,
    "start_time": "2023-04-24T07:44:26.352Z"
   },
   {
    "duration": 288,
    "start_time": "2023-04-24T07:44:29.857Z"
   },
   {
    "duration": 5,
    "start_time": "2023-04-24T07:44:33.897Z"
   },
   {
    "duration": 6,
    "start_time": "2023-04-24T07:44:35.335Z"
   },
   {
    "duration": 6,
    "start_time": "2023-04-24T07:44:38.682Z"
   },
   {
    "duration": 5,
    "start_time": "2023-04-24T07:44:58.965Z"
   },
   {
    "duration": 278,
    "start_time": "2023-04-24T07:44:59.661Z"
   },
   {
    "duration": 5,
    "start_time": "2023-04-24T07:45:02.552Z"
   },
   {
    "duration": 5,
    "start_time": "2023-04-24T07:45:03.469Z"
   },
   {
    "duration": 5,
    "start_time": "2023-04-24T07:45:44.883Z"
   },
   {
    "duration": 2,
    "start_time": "2023-04-24T07:45:45.492Z"
   },
   {
    "duration": 5,
    "start_time": "2023-04-24T07:45:46.153Z"
   },
   {
    "duration": 281,
    "start_time": "2023-04-24T07:45:46.876Z"
   },
   {
    "duration": 5,
    "start_time": "2023-04-24T07:45:50.939Z"
   },
   {
    "duration": 5,
    "start_time": "2023-04-24T07:45:51.891Z"
   },
   {
    "duration": 5,
    "start_time": "2023-04-24T07:45:55.627Z"
   },
   {
    "duration": 634,
    "start_time": "2023-04-24T07:46:02.123Z"
   },
   {
    "duration": 5,
    "start_time": "2023-04-24T07:46:06.794Z"
   },
   {
    "duration": 5,
    "start_time": "2023-04-24T07:46:08.676Z"
   },
   {
    "duration": 5,
    "start_time": "2023-04-24T07:46:10.474Z"
   },
   {
    "duration": 4,
    "start_time": "2023-04-24T07:46:49.225Z"
   },
   {
    "duration": 455,
    "start_time": "2023-04-24T07:46:49.883Z"
   },
   {
    "duration": 5,
    "start_time": "2023-04-24T07:46:55.011Z"
   },
   {
    "duration": 5,
    "start_time": "2023-04-24T07:46:55.852Z"
   },
   {
    "duration": 5,
    "start_time": "2023-04-24T07:46:56.701Z"
   },
   {
    "duration": 4191,
    "start_time": "2023-04-24T07:47:01.260Z"
   },
   {
    "duration": 5,
    "start_time": "2023-04-24T07:47:05.453Z"
   },
   {
    "duration": 4,
    "start_time": "2023-04-24T07:47:08.277Z"
   },
   {
    "duration": 5,
    "start_time": "2023-04-24T07:47:27.018Z"
   },
   {
    "duration": 4,
    "start_time": "2023-04-24T07:47:29.097Z"
   },
   {
    "duration": 4,
    "start_time": "2023-04-24T07:47:42.274Z"
   },
   {
    "duration": 4579,
    "start_time": "2023-04-24T07:47:47.865Z"
   },
   {
    "duration": 5,
    "start_time": "2023-04-24T07:47:58.985Z"
   },
   {
    "duration": 5,
    "start_time": "2023-04-24T07:48:01.355Z"
   },
   {
    "duration": 2110,
    "start_time": "2023-04-24T07:48:26.835Z"
   },
   {
    "duration": 5,
    "start_time": "2023-04-24T07:48:36.938Z"
   },
   {
    "duration": 2217,
    "start_time": "2023-04-24T07:48:37.627Z"
   },
   {
    "duration": 5,
    "start_time": "2023-04-24T07:48:41.659Z"
   },
   {
    "duration": 5,
    "start_time": "2023-04-24T07:48:42.188Z"
   },
   {
    "duration": 4406,
    "start_time": "2023-04-24T07:48:55.232Z"
   },
   {
    "duration": 4,
    "start_time": "2023-04-24T07:48:59.641Z"
   },
   {
    "duration": 2,
    "start_time": "2023-04-24T07:49:02.865Z"
   },
   {
    "duration": 4,
    "start_time": "2023-04-24T07:49:03.377Z"
   },
   {
    "duration": 4579,
    "start_time": "2023-04-24T07:49:03.968Z"
   },
   {
    "duration": 4,
    "start_time": "2023-04-24T07:49:08.549Z"
   },
   {
    "duration": 6,
    "start_time": "2023-04-24T07:49:14.585Z"
   },
   {
    "duration": 6,
    "start_time": "2023-04-24T07:49:15.344Z"
   },
   {
    "duration": 4,
    "start_time": "2023-04-24T07:49:17.321Z"
   },
   {
    "duration": 4501,
    "start_time": "2023-04-24T07:49:40.750Z"
   },
   {
    "duration": 3640,
    "start_time": "2023-04-24T07:49:53.813Z"
   },
   {
    "duration": 3012,
    "start_time": "2023-04-24T07:50:12.130Z"
   },
   {
    "duration": 5,
    "start_time": "2023-04-24T07:50:18.531Z"
   },
   {
    "duration": 5,
    "start_time": "2023-04-24T07:50:19.954Z"
   },
   {
    "duration": 5,
    "start_time": "2023-04-24T07:50:21.578Z"
   },
   {
    "duration": 2692,
    "start_time": "2023-04-24T07:50:35.067Z"
   },
   {
    "duration": 5,
    "start_time": "2023-04-24T07:53:10.868Z"
   },
   {
    "duration": 2966,
    "start_time": "2023-04-24T07:53:15.891Z"
   },
   {
    "duration": 4512,
    "start_time": "2023-04-24T07:53:25.331Z"
   },
   {
    "duration": 48965,
    "start_time": "2023-04-24T07:53:36.883Z"
   },
   {
    "duration": 5,
    "start_time": "2023-04-24T07:54:33.581Z"
   },
   {
    "duration": 123,
    "start_time": "2023-04-24T08:01:25.595Z"
   },
   {
    "duration": 8,
    "start_time": "2023-04-24T08:01:46.281Z"
   },
   {
    "duration": 26,
    "start_time": "2023-04-24T08:01:46.690Z"
   },
   {
    "duration": 12,
    "start_time": "2023-04-24T08:01:50.610Z"
   },
   {
    "duration": 4,
    "start_time": "2023-04-24T08:01:53.818Z"
   },
   {
    "duration": 6,
    "start_time": "2023-04-24T08:01:54.354Z"
   },
   {
    "duration": 5,
    "start_time": "2023-04-24T08:02:15.476Z"
   },
   {
    "duration": 3,
    "start_time": "2023-04-24T08:02:17.706Z"
   },
   {
    "duration": 4,
    "start_time": "2023-04-24T08:02:36.508Z"
   },
   {
    "duration": 3,
    "start_time": "2023-04-24T08:02:37.187Z"
   },
   {
    "duration": 5,
    "start_time": "2023-04-24T08:02:38.058Z"
   },
   {
    "duration": 347,
    "start_time": "2023-04-24T08:02:39.606Z"
   },
   {
    "duration": 5,
    "start_time": "2023-04-24T08:02:53.656Z"
   },
   {
    "duration": 6,
    "start_time": "2023-04-24T08:02:56.141Z"
   },
   {
    "duration": 5,
    "start_time": "2023-04-24T08:02:59.799Z"
   },
   {
    "duration": 3,
    "start_time": "2023-04-24T08:03:00.519Z"
   },
   {
    "duration": 5,
    "start_time": "2023-04-24T08:03:01.047Z"
   },
   {
    "duration": 348,
    "start_time": "2023-04-24T08:03:01.807Z"
   },
   {
    "duration": 5,
    "start_time": "2023-04-24T08:03:04.302Z"
   },
   {
    "duration": 7,
    "start_time": "2023-04-24T08:03:05.407Z"
   },
   {
    "duration": 12,
    "start_time": "2023-04-24T08:03:13.013Z"
   },
   {
    "duration": 11,
    "start_time": "2023-04-24T08:03:13.537Z"
   },
   {
    "duration": 5,
    "start_time": "2023-04-24T08:03:13.864Z"
   },
   {
    "duration": 5,
    "start_time": "2023-04-24T08:03:15.696Z"
   },
   {
    "duration": 19,
    "start_time": "2023-04-24T08:03:17.088Z"
   },
   {
    "duration": 7,
    "start_time": "2023-04-24T08:03:18.649Z"
   },
   {
    "duration": 14,
    "start_time": "2023-04-24T08:03:19.316Z"
   },
   {
    "duration": 4,
    "start_time": "2023-04-24T08:03:19.635Z"
   },
   {
    "duration": 5,
    "start_time": "2023-04-24T08:03:20.421Z"
   },
   {
    "duration": 4,
    "start_time": "2023-04-24T08:03:21.716Z"
   },
   {
    "duration": 3,
    "start_time": "2023-04-24T08:03:24.212Z"
   },
   {
    "duration": 4,
    "start_time": "2023-04-24T08:03:26.083Z"
   },
   {
    "duration": 473,
    "start_time": "2023-04-24T08:03:27.276Z"
   },
   {
    "duration": 5,
    "start_time": "2023-04-24T08:03:35.580Z"
   },
   {
    "duration": 3,
    "start_time": "2023-04-24T08:03:36.148Z"
   },
   {
    "duration": 5,
    "start_time": "2023-04-24T08:03:37.044Z"
   },
   {
    "duration": 386,
    "start_time": "2023-04-24T08:03:38.468Z"
   },
   {
    "duration": 6,
    "start_time": "2023-04-24T08:03:41.886Z"
   },
   {
    "duration": 7,
    "start_time": "2023-04-24T08:03:53.365Z"
   },
   {
    "duration": 6,
    "start_time": "2023-04-24T08:03:56.280Z"
   },
   {
    "duration": 2,
    "start_time": "2023-04-24T08:04:12.227Z"
   },
   {
    "duration": 4,
    "start_time": "2023-04-24T08:04:12.889Z"
   },
   {
    "duration": 440,
    "start_time": "2023-04-24T08:04:13.697Z"
   },
   {
    "duration": 6,
    "start_time": "2023-04-24T08:04:16.234Z"
   },
   {
    "duration": 6,
    "start_time": "2023-04-24T08:04:17.257Z"
   },
   {
    "duration": 6,
    "start_time": "2023-04-24T08:04:19.337Z"
   },
   {
    "duration": 4388,
    "start_time": "2023-04-24T08:04:24.970Z"
   },
   {
    "duration": 5,
    "start_time": "2023-04-24T08:04:32.214Z"
   },
   {
    "duration": 5,
    "start_time": "2023-04-24T08:04:34.161Z"
   },
   {
    "duration": 4,
    "start_time": "2023-04-24T08:04:37.005Z"
   },
   {
    "duration": 3,
    "start_time": "2023-04-24T08:04:49.053Z"
   },
   {
    "duration": 5,
    "start_time": "2023-04-24T08:04:49.654Z"
   },
   {
    "duration": 4766,
    "start_time": "2023-04-24T08:04:50.990Z"
   },
   {
    "duration": 5,
    "start_time": "2023-04-24T08:04:58.158Z"
   },
   {
    "duration": 5,
    "start_time": "2023-04-24T08:05:04.543Z"
   },
   {
    "duration": 5,
    "start_time": "2023-04-24T08:05:07.992Z"
   },
   {
    "duration": 3,
    "start_time": "2023-04-24T08:05:30.956Z"
   },
   {
    "duration": 5,
    "start_time": "2023-04-24T08:05:31.548Z"
   },
   {
    "duration": 4704,
    "start_time": "2023-04-24T08:05:34.651Z"
   },
   {
    "duration": 5,
    "start_time": "2023-04-24T08:05:41.929Z"
   },
   {
    "duration": 6,
    "start_time": "2023-04-24T08:05:43.019Z"
   },
   {
    "duration": 6,
    "start_time": "2023-04-24T08:05:45.140Z"
   },
   {
    "duration": 3,
    "start_time": "2023-04-24T08:05:54.889Z"
   },
   {
    "duration": 4,
    "start_time": "2023-04-24T08:05:55.720Z"
   },
   {
    "duration": 4502,
    "start_time": "2023-04-24T08:05:56.735Z"
   },
   {
    "duration": 5,
    "start_time": "2023-04-24T08:06:03.344Z"
   },
   {
    "duration": 5,
    "start_time": "2023-04-24T08:06:04.040Z"
   },
   {
    "duration": 6,
    "start_time": "2023-04-24T08:06:04.664Z"
   },
   {
    "duration": 2,
    "start_time": "2023-04-24T08:06:17.937Z"
   },
   {
    "duration": 5,
    "start_time": "2023-04-24T08:06:18.850Z"
   },
   {
    "duration": 4940,
    "start_time": "2023-04-24T08:06:20.209Z"
   },
   {
    "duration": 4,
    "start_time": "2023-04-24T08:06:27.380Z"
   },
   {
    "duration": 5,
    "start_time": "2023-04-24T08:06:28.325Z"
   },
   {
    "duration": 5,
    "start_time": "2023-04-24T08:06:30.292Z"
   },
   {
    "duration": 5,
    "start_time": "2023-04-24T08:08:51.381Z"
   },
   {
    "duration": 3,
    "start_time": "2023-04-24T08:09:01.849Z"
   },
   {
    "duration": 5,
    "start_time": "2023-04-24T08:09:29.091Z"
   },
   {
    "duration": 20,
    "start_time": "2023-04-24T08:09:30.563Z"
   },
   {
    "duration": 4,
    "start_time": "2023-04-24T08:10:21.660Z"
   },
   {
    "duration": 2,
    "start_time": "2023-04-24T08:10:22.261Z"
   },
   {
    "duration": 4,
    "start_time": "2023-04-24T08:10:23.110Z"
   },
   {
    "duration": 3672,
    "start_time": "2023-04-24T08:10:24.076Z"
   },
   {
    "duration": 6,
    "start_time": "2023-04-24T08:10:29.623Z"
   },
   {
    "duration": 6,
    "start_time": "2023-04-24T08:10:33.813Z"
   },
   {
    "duration": 7,
    "start_time": "2023-04-24T08:10:35.206Z"
   },
   {
    "duration": 4,
    "start_time": "2023-04-24T08:11:54.319Z"
   },
   {
    "duration": 3,
    "start_time": "2023-04-24T08:12:03.076Z"
   },
   {
    "duration": 4,
    "start_time": "2023-04-24T08:13:05.811Z"
   },
   {
    "duration": 4913,
    "start_time": "2023-04-24T08:13:08.129Z"
   },
   {
    "duration": 4,
    "start_time": "2023-04-24T08:13:19.881Z"
   },
   {
    "duration": 6,
    "start_time": "2023-04-24T08:13:30.546Z"
   },
   {
    "duration": 22,
    "start_time": "2023-04-24T08:20:52.886Z"
   },
   {
    "duration": 6,
    "start_time": "2023-04-24T08:20:58.696Z"
   },
   {
    "duration": 7,
    "start_time": "2023-04-24T08:22:15.535Z"
   },
   {
    "duration": 14,
    "start_time": "2023-04-24T08:22:18.203Z"
   },
   {
    "duration": 18,
    "start_time": "2023-04-24T08:22:24.908Z"
   },
   {
    "duration": 25,
    "start_time": "2023-04-24T08:22:43.473Z"
   },
   {
    "duration": 14,
    "start_time": "2023-04-24T08:23:08.073Z"
   },
   {
    "duration": 24,
    "start_time": "2023-04-24T08:23:10.475Z"
   },
   {
    "duration": 5,
    "start_time": "2023-04-24T08:23:42.122Z"
   },
   {
    "duration": 19,
    "start_time": "2023-04-24T08:24:09.688Z"
   },
   {
    "duration": 18,
    "start_time": "2023-04-24T08:24:33.127Z"
   },
   {
    "duration": 12,
    "start_time": "2023-04-24T08:24:38.681Z"
   },
   {
    "duration": 10,
    "start_time": "2023-04-24T08:24:42.952Z"
   },
   {
    "duration": 9,
    "start_time": "2023-04-24T08:25:08.301Z"
   },
   {
    "duration": 26,
    "start_time": "2023-04-24T08:26:11.021Z"
   },
   {
    "duration": 19,
    "start_time": "2023-04-24T08:26:34.184Z"
   },
   {
    "duration": 29,
    "start_time": "2023-04-24T08:26:40.123Z"
   },
   {
    "duration": 20,
    "start_time": "2023-04-24T08:27:15.541Z"
   },
   {
    "duration": 4,
    "start_time": "2023-04-24T08:27:23.960Z"
   },
   {
    "duration": 5,
    "start_time": "2023-04-24T08:27:26.583Z"
   },
   {
    "duration": 5,
    "start_time": "2023-04-24T08:27:30.648Z"
   },
   {
    "duration": 3,
    "start_time": "2023-04-24T08:27:31.496Z"
   },
   {
    "duration": 5,
    "start_time": "2023-04-24T08:27:32.851Z"
   },
   {
    "duration": 4604,
    "start_time": "2023-04-24T08:27:34.870Z"
   },
   {
    "duration": 9,
    "start_time": "2023-04-24T08:27:47.141Z"
   },
   {
    "duration": 4,
    "start_time": "2023-04-24T08:29:22.429Z"
   },
   {
    "duration": 4167,
    "start_time": "2023-04-24T08:29:23.684Z"
   },
   {
    "duration": 5,
    "start_time": "2023-04-24T08:29:30.981Z"
   },
   {
    "duration": 6,
    "start_time": "2023-04-24T08:29:33.380Z"
   },
   {
    "duration": 5,
    "start_time": "2023-04-24T08:29:35.700Z"
   },
   {
    "duration": 4,
    "start_time": "2023-04-24T08:29:49.797Z"
   },
   {
    "duration": 3691,
    "start_time": "2023-04-24T08:29:50.749Z"
   },
   {
    "duration": 5,
    "start_time": "2023-04-24T08:29:54.442Z"
   },
   {
    "duration": 5,
    "start_time": "2023-04-24T08:29:57.216Z"
   },
   {
    "duration": 3,
    "start_time": "2023-04-24T08:30:12.602Z"
   },
   {
    "duration": 5,
    "start_time": "2023-04-24T08:30:13.385Z"
   },
   {
    "duration": 3624,
    "start_time": "2023-04-24T08:30:14.626Z"
   },
   {
    "duration": 7,
    "start_time": "2023-04-24T08:30:20.009Z"
   },
   {
    "duration": 7,
    "start_time": "2023-04-24T08:30:40.799Z"
   },
   {
    "duration": 3,
    "start_time": "2023-04-24T08:30:41.975Z"
   },
   {
    "duration": 7,
    "start_time": "2023-04-24T08:30:43.079Z"
   },
   {
    "duration": 3979,
    "start_time": "2023-04-24T08:30:44.360Z"
   },
   {
    "duration": 5,
    "start_time": "2023-04-24T08:30:50.275Z"
   },
   {
    "duration": 6,
    "start_time": "2023-04-24T08:30:52.129Z"
   },
   {
    "duration": 5,
    "start_time": "2023-04-24T08:35:53.879Z"
   },
   {
    "duration": 3,
    "start_time": "2023-04-24T08:35:56.083Z"
   },
   {
    "duration": 4,
    "start_time": "2023-04-24T08:35:57.399Z"
   },
   {
    "duration": 3227,
    "start_time": "2023-04-24T08:35:58.928Z"
   },
   {
    "duration": 5,
    "start_time": "2023-04-24T08:36:12.568Z"
   },
   {
    "duration": 5,
    "start_time": "2023-04-24T08:36:22.103Z"
   },
   {
    "duration": 5,
    "start_time": "2023-04-24T08:36:26.317Z"
   },
   {
    "duration": 3,
    "start_time": "2023-04-24T08:39:33.494Z"
   },
   {
    "duration": 4,
    "start_time": "2023-04-24T08:46:37.127Z"
   },
   {
    "duration": 3,
    "start_time": "2023-04-24T08:46:38.259Z"
   },
   {
    "duration": 5,
    "start_time": "2023-04-24T08:46:39.631Z"
   },
   {
    "duration": 3332,
    "start_time": "2023-04-24T08:46:42.520Z"
   },
   {
    "duration": 5,
    "start_time": "2023-04-24T08:47:01.713Z"
   },
   {
    "duration": 2261,
    "start_time": "2023-04-24T08:48:17.775Z"
   },
   {
    "duration": 4,
    "start_time": "2023-04-24T08:48:23.711Z"
   },
   {
    "duration": 12,
    "start_time": "2023-04-24T08:49:06.356Z"
   },
   {
    "duration": 11,
    "start_time": "2023-04-24T08:49:24.298Z"
   },
   {
    "duration": 3481,
    "start_time": "2023-04-24T08:50:03.513Z"
   },
   {
    "duration": 3249,
    "start_time": "2023-04-24T08:50:07.973Z"
   },
   {
    "duration": 0,
    "start_time": "2023-04-24T08:50:11.223Z"
   },
   {
    "duration": 0,
    "start_time": "2023-04-24T08:50:11.224Z"
   },
   {
    "duration": 7,
    "start_time": "2023-04-24T08:50:21.633Z"
   },
   {
    "duration": 7,
    "start_time": "2023-04-24T08:53:24.603Z"
   },
   {
    "duration": 44,
    "start_time": "2023-04-24T08:53:25.650Z"
   },
   {
    "duration": 8,
    "start_time": "2023-04-24T08:53:38.452Z"
   },
   {
    "duration": 24,
    "start_time": "2023-04-24T08:53:39.123Z"
   },
   {
    "duration": 4,
    "start_time": "2023-04-24T08:53:40.516Z"
   },
   {
    "duration": 6,
    "start_time": "2023-04-24T08:53:41.003Z"
   },
   {
    "duration": 4,
    "start_time": "2023-04-24T08:53:43.652Z"
   },
   {
    "duration": 8,
    "start_time": "2023-04-24T08:53:45.391Z"
   },
   {
    "duration": 6,
    "start_time": "2023-04-24T08:53:47.210Z"
   },
   {
    "duration": 36,
    "start_time": "2023-04-24T08:53:49.348Z"
   },
   {
    "duration": 29,
    "start_time": "2023-04-24T08:54:59.135Z"
   },
   {
    "duration": 6,
    "start_time": "2023-04-24T08:55:45.499Z"
   },
   {
    "duration": 3239,
    "start_time": "2023-04-24T08:55:46.404Z"
   },
   {
    "duration": 5,
    "start_time": "2023-04-24T08:55:57.423Z"
   },
   {
    "duration": 6,
    "start_time": "2023-04-24T09:00:25.311Z"
   },
   {
    "duration": 12961,
    "start_time": "2023-04-24T09:00:27.295Z"
   },
   {
    "duration": 8,
    "start_time": "2023-04-24T09:00:53.830Z"
   },
   {
    "duration": 14238,
    "start_time": "2023-04-24T09:00:54.714Z"
   },
   {
    "duration": 6,
    "start_time": "2023-04-24T09:01:20.694Z"
   },
   {
    "duration": 3,
    "start_time": "2023-04-24T09:01:29.198Z"
   },
   {
    "duration": 6,
    "start_time": "2023-04-24T09:02:03.492Z"
   },
   {
    "duration": 14692,
    "start_time": "2023-04-24T09:02:04.449Z"
   },
   {
    "duration": 5,
    "start_time": "2023-04-24T09:03:09.644Z"
   },
   {
    "duration": 15465,
    "start_time": "2023-04-24T09:03:10.492Z"
   },
   {
    "duration": 7,
    "start_time": "2023-04-24T09:03:59.250Z"
   },
   {
    "duration": 28,
    "start_time": "2023-04-24T09:03:59.738Z"
   },
   {
    "duration": 5,
    "start_time": "2023-04-24T09:04:00.010Z"
   },
   {
    "duration": 6,
    "start_time": "2023-04-24T09:04:00.240Z"
   },
   {
    "duration": 4,
    "start_time": "2023-04-24T09:04:01.988Z"
   },
   {
    "duration": 9,
    "start_time": "2023-04-24T09:04:04.793Z"
   },
   {
    "duration": 18532,
    "start_time": "2023-04-24T09:04:06.209Z"
   },
   {
    "duration": 2755,
    "start_time": "2023-04-24T09:04:41.591Z"
   },
   {
    "duration": 29253,
    "start_time": "2023-04-24T09:04:49.690Z"
   },
   {
    "duration": 5,
    "start_time": "2023-04-24T09:09:26.327Z"
   },
   {
    "duration": 21566,
    "start_time": "2023-04-24T09:09:28.091Z"
   },
   {
    "duration": 27720,
    "start_time": "2023-04-24T09:09:59.227Z"
   },
   {
    "duration": 36614,
    "start_time": "2023-04-24T09:10:38.336Z"
   },
   {
    "duration": 10,
    "start_time": "2023-04-24T09:11:35.274Z"
   },
   {
    "duration": 36755,
    "start_time": "2023-04-24T09:11:36.685Z"
   },
   {
    "duration": 4,
    "start_time": "2023-04-24T09:16:12.052Z"
   },
   {
    "duration": 171,
    "start_time": "2023-04-24T09:16:15.978Z"
   },
   {
    "duration": 1857,
    "start_time": "2023-04-24T09:16:44.877Z"
   },
   {
    "duration": 26,
    "start_time": "2023-04-24T09:16:46.736Z"
   },
   {
    "duration": 14,
    "start_time": "2023-04-24T09:16:46.764Z"
   },
   {
    "duration": 26,
    "start_time": "2023-04-24T09:16:46.779Z"
   },
   {
    "duration": 36,
    "start_time": "2023-04-24T09:16:46.807Z"
   },
   {
    "duration": 42,
    "start_time": "2023-04-24T09:16:46.845Z"
   },
   {
    "duration": 38,
    "start_time": "2023-04-24T09:16:46.889Z"
   },
   {
    "duration": 167,
    "start_time": "2023-04-24T09:16:46.928Z"
   },
   {
    "duration": 119,
    "start_time": "2023-04-24T09:16:47.097Z"
   },
   {
    "duration": 17,
    "start_time": "2023-04-24T09:16:47.217Z"
   },
   {
    "duration": 148,
    "start_time": "2023-04-24T09:16:47.236Z"
   },
   {
    "duration": 93,
    "start_time": "2023-04-24T09:16:47.385Z"
   },
   {
    "duration": 5,
    "start_time": "2023-04-24T09:16:47.480Z"
   },
   {
    "duration": 328,
    "start_time": "2023-04-24T09:16:47.487Z"
   },
   {
    "duration": 8,
    "start_time": "2023-04-24T09:16:47.817Z"
   },
   {
    "duration": 177,
    "start_time": "2023-04-24T09:16:47.826Z"
   },
   {
    "duration": 206,
    "start_time": "2023-04-24T09:16:48.005Z"
   },
   {
    "duration": 128,
    "start_time": "2023-04-24T09:16:48.213Z"
   },
   {
    "duration": 8,
    "start_time": "2023-04-24T09:16:48.342Z"
   },
   {
    "duration": 152,
    "start_time": "2023-04-24T09:16:48.351Z"
   },
   {
    "duration": 216,
    "start_time": "2023-04-24T09:16:48.504Z"
   },
   {
    "duration": 101,
    "start_time": "2023-04-24T09:16:48.721Z"
   },
   {
    "duration": 13,
    "start_time": "2023-04-24T09:16:48.823Z"
   },
   {
    "duration": 224,
    "start_time": "2023-04-24T09:16:48.837Z"
   },
   {
    "duration": 5,
    "start_time": "2023-04-24T09:16:49.063Z"
   },
   {
    "duration": 187,
    "start_time": "2023-04-24T09:16:49.069Z"
   },
   {
    "duration": 198,
    "start_time": "2023-04-24T09:16:49.257Z"
   },
   {
    "duration": 5,
    "start_time": "2023-04-24T09:16:49.457Z"
   },
   {
    "duration": 26,
    "start_time": "2023-04-24T09:16:49.463Z"
   },
   {
    "duration": 10,
    "start_time": "2023-04-24T09:16:49.491Z"
   },
   {
    "duration": 20,
    "start_time": "2023-04-24T09:16:49.503Z"
   },
   {
    "duration": 187,
    "start_time": "2023-04-24T09:16:49.525Z"
   },
   {
    "duration": 21,
    "start_time": "2023-04-24T09:16:49.714Z"
   },
   {
    "duration": 7,
    "start_time": "2023-04-24T09:16:49.737Z"
   },
   {
    "duration": 27,
    "start_time": "2023-04-24T09:16:49.746Z"
   },
   {
    "duration": 5,
    "start_time": "2023-04-24T09:16:49.775Z"
   },
   {
    "duration": 7,
    "start_time": "2023-04-24T09:16:49.782Z"
   },
   {
    "duration": 17,
    "start_time": "2023-04-24T09:16:49.791Z"
   },
   {
    "duration": 24,
    "start_time": "2023-04-24T09:16:49.810Z"
   },
   {
    "duration": 2267,
    "start_time": "2023-04-24T09:16:49.836Z"
   },
   {
    "duration": 2003,
    "start_time": "2023-04-24T09:16:52.108Z"
   },
   {
    "duration": 322,
    "start_time": "2023-04-24T09:16:54.113Z"
   },
   {
    "duration": 0,
    "start_time": "2023-04-24T09:16:54.437Z"
   },
   {
    "duration": 0,
    "start_time": "2023-04-24T09:16:54.438Z"
   },
   {
    "duration": 0,
    "start_time": "2023-04-24T09:16:54.439Z"
   },
   {
    "duration": 0,
    "start_time": "2023-04-24T09:16:54.439Z"
   },
   {
    "duration": 4,
    "start_time": "2023-04-24T09:17:19.898Z"
   },
   {
    "duration": 6,
    "start_time": "2023-04-24T09:17:25.354Z"
   },
   {
    "duration": 6,
    "start_time": "2023-04-24T09:18:04.216Z"
   },
   {
    "duration": 21064,
    "start_time": "2023-04-24T09:18:07.882Z"
   },
   {
    "duration": 5,
    "start_time": "2023-04-24T09:18:42.510Z"
   },
   {
    "duration": 18468,
    "start_time": "2023-04-24T09:18:44.381Z"
   },
   {
    "duration": 6,
    "start_time": "2023-04-24T09:21:33.018Z"
   },
   {
    "duration": 36,
    "start_time": "2023-04-24T09:21:33.701Z"
   },
   {
    "duration": 6,
    "start_time": "2023-04-24T09:21:40.154Z"
   },
   {
    "duration": 31141,
    "start_time": "2023-04-24T09:21:41.395Z"
   },
   {
    "duration": 6,
    "start_time": "2023-04-24T09:28:12.214Z"
   },
   {
    "duration": 7,
    "start_time": "2023-04-24T09:29:41.547Z"
   },
   {
    "duration": 151,
    "start_time": "2023-04-24T09:29:42.485Z"
   },
   {
    "duration": 25,
    "start_time": "2023-04-24T09:29:46.364Z"
   },
   {
    "duration": 23,
    "start_time": "2023-04-24T09:29:55.422Z"
   },
   {
    "duration": 19,
    "start_time": "2023-04-24T09:30:16.170Z"
   },
   {
    "duration": 6,
    "start_time": "2023-04-24T09:30:36.739Z"
   },
   {
    "duration": 11,
    "start_time": "2023-04-24T09:30:38.090Z"
   },
   {
    "duration": 7,
    "start_time": "2023-04-24T09:30:50.047Z"
   },
   {
    "duration": 9,
    "start_time": "2023-04-24T09:30:50.910Z"
   },
   {
    "duration": 24,
    "start_time": "2023-04-24T09:31:47.540Z"
   },
   {
    "duration": 16,
    "start_time": "2023-04-24T09:32:06.800Z"
   },
   {
    "duration": 18,
    "start_time": "2023-04-24T09:32:15.200Z"
   },
   {
    "duration": 14,
    "start_time": "2023-04-24T09:32:25.549Z"
   },
   {
    "duration": 4,
    "start_time": "2023-04-24T09:32:40.794Z"
   },
   {
    "duration": 5,
    "start_time": "2023-04-24T09:32:41.989Z"
   },
   {
    "duration": 5,
    "start_time": "2023-04-24T09:32:48.161Z"
   },
   {
    "duration": 2,
    "start_time": "2023-04-24T09:32:50.457Z"
   },
   {
    "duration": 6,
    "start_time": "2023-04-24T09:32:52.770Z"
   },
   {
    "duration": 57,
    "start_time": "2023-04-24T09:32:54.670Z"
   },
   {
    "duration": 8,
    "start_time": "2023-04-24T09:33:15.410Z"
   },
   {
    "duration": 31750,
    "start_time": "2023-04-24T09:33:16.816Z"
   },
   {
    "duration": 9,
    "start_time": "2023-04-24T09:34:52.030Z"
   },
   {
    "duration": 36714,
    "start_time": "2023-04-24T09:34:52.925Z"
   },
   {
    "duration": 5,
    "start_time": "2023-04-24T09:35:34.635Z"
   },
   {
    "duration": 6,
    "start_time": "2023-04-24T09:36:34.299Z"
   },
   {
    "duration": 23442,
    "start_time": "2023-04-24T09:36:35.709Z"
   },
   {
    "duration": 8,
    "start_time": "2023-04-24T09:37:01.532Z"
   },
   {
    "duration": 29043,
    "start_time": "2023-04-24T09:37:02.306Z"
   },
   {
    "duration": 5,
    "start_time": "2023-04-24T09:44:20.912Z"
   },
   {
    "duration": 26798,
    "start_time": "2023-04-24T09:44:22.550Z"
   },
   {
    "duration": 17,
    "start_time": "2023-04-24T09:46:18.604Z"
   },
   {
    "duration": 18,
    "start_time": "2023-04-24T09:46:18.963Z"
   },
   {
    "duration": 6,
    "start_time": "2023-04-24T09:46:21.379Z"
   },
   {
    "duration": 10,
    "start_time": "2023-04-24T09:46:22.540Z"
   },
   {
    "duration": 12,
    "start_time": "2023-04-24T09:46:23.364Z"
   },
   {
    "duration": 4,
    "start_time": "2023-04-24T09:46:24.156Z"
   },
   {
    "duration": 5,
    "start_time": "2023-04-24T09:46:25.555Z"
   },
   {
    "duration": 3,
    "start_time": "2023-04-24T09:46:26.988Z"
   },
   {
    "duration": 5,
    "start_time": "2023-04-24T09:46:29.155Z"
   },
   {
    "duration": 20862,
    "start_time": "2023-04-24T09:46:30.596Z"
   },
   {
    "duration": 6,
    "start_time": "2023-04-24T09:46:56.369Z"
   },
   {
    "duration": 9,
    "start_time": "2023-04-24T09:46:57.427Z"
   },
   {
    "duration": 12,
    "start_time": "2023-04-24T09:46:58.579Z"
   },
   {
    "duration": 4,
    "start_time": "2023-04-24T09:46:59.969Z"
   },
   {
    "duration": 4,
    "start_time": "2023-04-24T09:47:01.770Z"
   },
   {
    "duration": 6,
    "start_time": "2023-04-24T09:47:04.641Z"
   },
   {
    "duration": 20417,
    "start_time": "2023-04-24T09:47:06.049Z"
   },
   {
    "duration": 11,
    "start_time": "2023-04-24T09:47:33.263Z"
   },
   {
    "duration": 6,
    "start_time": "2023-04-24T09:48:18.717Z"
   },
   {
    "duration": 19022,
    "start_time": "2023-04-24T09:48:20.140Z"
   },
   {
    "duration": 6,
    "start_time": "2023-04-24T09:54:40.717Z"
   },
   {
    "duration": 23705,
    "start_time": "2023-04-24T09:54:41.861Z"
   },
   {
    "duration": 8,
    "start_time": "2023-04-24T09:56:22.238Z"
   },
   {
    "duration": 21156,
    "start_time": "2023-04-24T09:56:22.798Z"
   },
   {
    "duration": 5,
    "start_time": "2023-04-24T09:57:26.173Z"
   },
   {
    "duration": 19909,
    "start_time": "2023-04-24T09:57:26.740Z"
   },
   {
    "duration": 5,
    "start_time": "2023-04-24T10:02:31.809Z"
   },
   {
    "duration": 6,
    "start_time": "2023-04-24T10:03:11.218Z"
   },
   {
    "duration": 6,
    "start_time": "2023-04-24T23:54:26.930Z"
   },
   {
    "duration": 4,
    "start_time": "2023-04-24T23:54:34.007Z"
   },
   {
    "duration": 16,
    "start_time": "2023-04-24T23:54:38.710Z"
   },
   {
    "duration": 4,
    "start_time": "2023-04-24T23:54:41.342Z"
   },
   {
    "duration": 18,
    "start_time": "2023-04-24T23:55:16.201Z"
   },
   {
    "duration": 6,
    "start_time": "2023-04-24T23:55:43.548Z"
   },
   {
    "duration": 372087,
    "start_time": "2023-04-24T23:55:44.352Z"
   },
   {
    "duration": 5,
    "start_time": "2023-04-25T00:18:04.377Z"
   },
   {
    "duration": 5,
    "start_time": "2023-04-25T01:00:13.106Z"
   },
   {
    "duration": 6,
    "start_time": "2023-04-25T01:01:41.407Z"
   },
   {
    "duration": 5,
    "start_time": "2023-04-25T01:03:07.626Z"
   },
   {
    "duration": 96091,
    "start_time": "2023-04-25T01:03:08.378Z"
   },
   {
    "duration": 6,
    "start_time": "2023-04-25T01:04:47.849Z"
   },
   {
    "duration": 5903,
    "start_time": "2023-04-25T01:10:19.618Z"
   },
   {
    "duration": 39,
    "start_time": "2023-04-25T01:10:25.523Z"
   },
   {
    "duration": 14,
    "start_time": "2023-04-25T01:10:25.564Z"
   },
   {
    "duration": 5,
    "start_time": "2023-04-25T01:10:25.579Z"
   },
   {
    "duration": 21,
    "start_time": "2023-04-25T01:10:25.585Z"
   },
   {
    "duration": 21,
    "start_time": "2023-04-25T01:10:25.607Z"
   },
   {
    "duration": 16,
    "start_time": "2023-04-25T01:10:25.629Z"
   },
   {
    "duration": 168,
    "start_time": "2023-04-25T01:10:25.646Z"
   },
   {
    "duration": 101,
    "start_time": "2023-04-25T01:10:25.816Z"
   },
   {
    "duration": 19,
    "start_time": "2023-04-25T01:10:25.919Z"
   },
   {
    "duration": 131,
    "start_time": "2023-04-25T01:10:25.940Z"
   },
   {
    "duration": 86,
    "start_time": "2023-04-25T01:10:26.072Z"
   },
   {
    "duration": 5,
    "start_time": "2023-04-25T01:10:26.159Z"
   },
   {
    "duration": 244,
    "start_time": "2023-04-25T01:10:26.167Z"
   },
   {
    "duration": 7,
    "start_time": "2023-04-25T01:10:26.413Z"
   },
   {
    "duration": 315,
    "start_time": "2023-04-25T01:10:26.422Z"
   },
   {
    "duration": 211,
    "start_time": "2023-04-25T01:10:26.738Z"
   },
   {
    "duration": 115,
    "start_time": "2023-04-25T01:10:26.951Z"
   },
   {
    "duration": 7,
    "start_time": "2023-04-25T01:10:27.068Z"
   },
   {
    "duration": 134,
    "start_time": "2023-04-25T01:10:27.076Z"
   },
   {
    "duration": 225,
    "start_time": "2023-04-25T01:10:27.212Z"
   },
   {
    "duration": 96,
    "start_time": "2023-04-25T01:10:27.439Z"
   },
   {
    "duration": 4,
    "start_time": "2023-04-25T01:10:27.537Z"
   },
   {
    "duration": 140,
    "start_time": "2023-04-25T01:10:27.542Z"
   },
   {
    "duration": 5,
    "start_time": "2023-04-25T01:10:27.683Z"
   },
   {
    "duration": 174,
    "start_time": "2023-04-25T01:10:27.690Z"
   },
   {
    "duration": 182,
    "start_time": "2023-04-25T01:10:27.866Z"
   },
   {
    "duration": 3,
    "start_time": "2023-04-25T01:10:28.050Z"
   },
   {
    "duration": 20,
    "start_time": "2023-04-25T01:10:28.055Z"
   },
   {
    "duration": 13,
    "start_time": "2023-04-25T01:10:28.077Z"
   },
   {
    "duration": 5,
    "start_time": "2023-04-25T01:10:28.091Z"
   },
   {
    "duration": 171,
    "start_time": "2023-04-25T01:10:28.097Z"
   },
   {
    "duration": 49,
    "start_time": "2023-04-25T01:10:28.270Z"
   },
   {
    "duration": 0,
    "start_time": "2023-04-25T01:10:28.321Z"
   },
   {
    "duration": 0,
    "start_time": "2023-04-25T01:10:28.323Z"
   },
   {
    "duration": 0,
    "start_time": "2023-04-25T01:10:28.324Z"
   },
   {
    "duration": 0,
    "start_time": "2023-04-25T01:10:28.325Z"
   },
   {
    "duration": 0,
    "start_time": "2023-04-25T01:10:28.326Z"
   },
   {
    "duration": 0,
    "start_time": "2023-04-25T01:10:28.327Z"
   },
   {
    "duration": 6277,
    "start_time": "2023-04-25T01:11:11.641Z"
   },
   {
    "duration": 31,
    "start_time": "2023-04-25T01:11:17.920Z"
   },
   {
    "duration": 16,
    "start_time": "2023-04-25T01:11:17.953Z"
   },
   {
    "duration": 4,
    "start_time": "2023-04-25T01:11:17.971Z"
   },
   {
    "duration": 15,
    "start_time": "2023-04-25T01:11:17.976Z"
   },
   {
    "duration": 18,
    "start_time": "2023-04-25T01:11:17.993Z"
   },
   {
    "duration": 15,
    "start_time": "2023-04-25T01:11:18.013Z"
   },
   {
    "duration": 148,
    "start_time": "2023-04-25T01:11:18.030Z"
   },
   {
    "duration": 108,
    "start_time": "2023-04-25T01:11:18.179Z"
   },
   {
    "duration": 8,
    "start_time": "2023-04-25T01:11:18.289Z"
   },
   {
    "duration": 151,
    "start_time": "2023-04-25T01:11:18.299Z"
   },
   {
    "duration": 102,
    "start_time": "2023-04-25T01:11:18.453Z"
   },
   {
    "duration": 5,
    "start_time": "2023-04-25T01:11:18.557Z"
   },
   {
    "duration": 273,
    "start_time": "2023-04-25T01:11:18.564Z"
   },
   {
    "duration": 8,
    "start_time": "2023-04-25T01:11:18.839Z"
   },
   {
    "duration": 347,
    "start_time": "2023-04-25T01:11:18.848Z"
   },
   {
    "duration": 229,
    "start_time": "2023-04-25T01:11:19.196Z"
   },
   {
    "duration": 111,
    "start_time": "2023-04-25T01:11:19.427Z"
   },
   {
    "duration": 8,
    "start_time": "2023-04-25T01:11:19.540Z"
   },
   {
    "duration": 147,
    "start_time": "2023-04-25T01:11:19.549Z"
   },
   {
    "duration": 221,
    "start_time": "2023-04-25T01:11:19.698Z"
   },
   {
    "duration": 100,
    "start_time": "2023-04-25T01:11:19.920Z"
   },
   {
    "duration": 4,
    "start_time": "2023-04-25T01:11:20.021Z"
   },
   {
    "duration": 171,
    "start_time": "2023-04-25T01:11:20.034Z"
   },
   {
    "duration": 5,
    "start_time": "2023-04-25T01:11:20.207Z"
   },
   {
    "duration": 188,
    "start_time": "2023-04-25T01:11:20.213Z"
   },
   {
    "duration": 195,
    "start_time": "2023-04-25T01:11:20.402Z"
   },
   {
    "duration": 4,
    "start_time": "2023-04-25T01:11:20.600Z"
   },
   {
    "duration": 11,
    "start_time": "2023-04-25T01:11:20.606Z"
   },
   {
    "duration": 8,
    "start_time": "2023-04-25T01:11:20.635Z"
   },
   {
    "duration": 17,
    "start_time": "2023-04-25T01:11:20.645Z"
   },
   {
    "duration": 183,
    "start_time": "2023-04-25T01:11:20.664Z"
   },
   {
    "duration": 6,
    "start_time": "2023-04-25T01:11:20.850Z"
   },
   {
    "duration": 28,
    "start_time": "2023-04-25T01:11:20.858Z"
   },
   {
    "duration": 63,
    "start_time": "2023-04-25T01:11:20.888Z"
   },
   {
    "duration": 46,
    "start_time": "2023-04-25T01:11:20.953Z"
   },
   {
    "duration": 41,
    "start_time": "2023-04-25T01:11:21.001Z"
   },
   {
    "duration": 27,
    "start_time": "2023-04-25T01:11:21.044Z"
   },
   {
    "duration": 334186,
    "start_time": "2023-04-25T01:11:21.072Z"
   },
   {
    "duration": 5,
    "start_time": "2023-04-25T01:26:23.640Z"
   },
   {
    "duration": 425199,
    "start_time": "2023-04-25T01:26:30.248Z"
   },
   {
    "duration": 7,
    "start_time": "2023-04-25T01:34:01.805Z"
   },
   {
    "duration": 5916,
    "start_time": "2023-04-25T01:34:22.287Z"
   },
   {
    "duration": 28,
    "start_time": "2023-04-25T01:34:28.206Z"
   },
   {
    "duration": 18,
    "start_time": "2023-04-25T01:34:28.236Z"
   },
   {
    "duration": 5,
    "start_time": "2023-04-25T01:34:28.256Z"
   },
   {
    "duration": 23,
    "start_time": "2023-04-25T01:34:28.263Z"
   },
   {
    "duration": 21,
    "start_time": "2023-04-25T01:34:28.288Z"
   },
   {
    "duration": 9,
    "start_time": "2023-04-25T01:34:28.311Z"
   },
   {
    "duration": 150,
    "start_time": "2023-04-25T01:34:28.322Z"
   },
   {
    "duration": 99,
    "start_time": "2023-04-25T01:34:28.473Z"
   },
   {
    "duration": 7,
    "start_time": "2023-04-25T01:34:28.574Z"
   },
   {
    "duration": 132,
    "start_time": "2023-04-25T01:34:28.582Z"
   },
   {
    "duration": 91,
    "start_time": "2023-04-25T01:34:28.716Z"
   },
   {
    "duration": 6,
    "start_time": "2023-04-25T01:34:28.809Z"
   },
   {
    "duration": 254,
    "start_time": "2023-04-25T01:34:28.817Z"
   },
   {
    "duration": 8,
    "start_time": "2023-04-25T01:34:29.072Z"
   },
   {
    "duration": 324,
    "start_time": "2023-04-25T01:34:29.081Z"
   },
   {
    "duration": 208,
    "start_time": "2023-04-25T01:34:29.407Z"
   },
   {
    "duration": 102,
    "start_time": "2023-04-25T01:34:29.616Z"
   },
   {
    "duration": 16,
    "start_time": "2023-04-25T01:34:29.719Z"
   },
   {
    "duration": 130,
    "start_time": "2023-04-25T01:34:29.736Z"
   },
   {
    "duration": 214,
    "start_time": "2023-04-25T01:34:29.868Z"
   },
   {
    "duration": 104,
    "start_time": "2023-04-25T01:34:30.083Z"
   },
   {
    "duration": 4,
    "start_time": "2023-04-25T01:34:30.189Z"
   },
   {
    "duration": 141,
    "start_time": "2023-04-25T01:34:30.195Z"
   },
   {
    "duration": 5,
    "start_time": "2023-04-25T01:34:30.338Z"
   },
   {
    "duration": 211,
    "start_time": "2023-04-25T01:34:30.344Z"
   },
   {
    "duration": 185,
    "start_time": "2023-04-25T01:34:30.557Z"
   },
   {
    "duration": 5,
    "start_time": "2023-04-25T01:34:30.743Z"
   },
   {
    "duration": 49,
    "start_time": "2023-04-25T01:34:30.749Z"
   },
   {
    "duration": 58,
    "start_time": "2023-04-25T01:34:30.800Z"
   },
   {
    "duration": 32,
    "start_time": "2023-04-25T01:34:30.859Z"
   },
   {
    "duration": 222,
    "start_time": "2023-04-25T01:34:30.892Z"
   },
   {
    "duration": 6,
    "start_time": "2023-04-25T01:34:31.116Z"
   },
   {
    "duration": 27,
    "start_time": "2023-04-25T01:34:31.134Z"
   },
   {
    "duration": 39,
    "start_time": "2023-04-25T01:34:31.163Z"
   },
   {
    "duration": 42,
    "start_time": "2023-04-25T01:34:31.204Z"
   },
   {
    "duration": 27,
    "start_time": "2023-04-25T01:34:31.248Z"
   },
   {
    "duration": 30,
    "start_time": "2023-04-25T01:34:31.277Z"
   },
   {
    "duration": 91145,
    "start_time": "2023-04-25T01:34:31.308Z"
   },
   {
    "duration": 5823,
    "start_time": "2023-04-25T01:36:27.251Z"
   },
   {
    "duration": 30,
    "start_time": "2023-04-25T01:36:33.076Z"
   },
   {
    "duration": 14,
    "start_time": "2023-04-25T01:36:33.107Z"
   },
   {
    "duration": 28,
    "start_time": "2023-04-25T01:36:33.122Z"
   },
   {
    "duration": 29,
    "start_time": "2023-04-25T01:36:33.152Z"
   },
   {
    "duration": 26,
    "start_time": "2023-04-25T01:36:33.182Z"
   },
   {
    "duration": 30,
    "start_time": "2023-04-25T01:36:33.209Z"
   },
   {
    "duration": 154,
    "start_time": "2023-04-25T01:36:33.241Z"
   },
   {
    "duration": 96,
    "start_time": "2023-04-25T01:36:33.396Z"
   },
   {
    "duration": 7,
    "start_time": "2023-04-25T01:36:33.494Z"
   },
   {
    "duration": 148,
    "start_time": "2023-04-25T01:36:33.502Z"
   },
   {
    "duration": 86,
    "start_time": "2023-04-25T01:36:33.652Z"
   },
   {
    "duration": 5,
    "start_time": "2023-04-25T01:36:33.739Z"
   },
   {
    "duration": 247,
    "start_time": "2023-04-25T01:36:33.748Z"
   },
   {
    "duration": 8,
    "start_time": "2023-04-25T01:36:33.997Z"
   },
   {
    "duration": 361,
    "start_time": "2023-04-25T01:36:34.007Z"
   },
   {
    "duration": 232,
    "start_time": "2023-04-25T01:36:34.369Z"
   },
   {
    "duration": 135,
    "start_time": "2023-04-25T01:36:34.603Z"
   },
   {
    "duration": 8,
    "start_time": "2023-04-25T01:36:34.740Z"
   },
   {
    "duration": 169,
    "start_time": "2023-04-25T01:36:34.750Z"
   },
   {
    "duration": 249,
    "start_time": "2023-04-25T01:36:34.920Z"
   },
   {
    "duration": 100,
    "start_time": "2023-04-25T01:36:35.171Z"
   },
   {
    "duration": 12,
    "start_time": "2023-04-25T01:36:35.273Z"
   },
   {
    "duration": 160,
    "start_time": "2023-04-25T01:36:35.287Z"
   },
   {
    "duration": 5,
    "start_time": "2023-04-25T01:36:35.448Z"
   },
   {
    "duration": 182,
    "start_time": "2023-04-25T01:36:35.454Z"
   },
   {
    "duration": 186,
    "start_time": "2023-04-25T01:36:35.638Z"
   },
   {
    "duration": 9,
    "start_time": "2023-04-25T01:36:35.825Z"
   },
   {
    "duration": 20,
    "start_time": "2023-04-25T01:36:35.836Z"
   },
   {
    "duration": 29,
    "start_time": "2023-04-25T01:36:35.857Z"
   },
   {
    "duration": 32,
    "start_time": "2023-04-25T01:36:35.888Z"
   },
   {
    "duration": 201,
    "start_time": "2023-04-25T01:36:35.921Z"
   },
   {
    "duration": 14,
    "start_time": "2023-04-25T01:36:36.123Z"
   },
   {
    "duration": 39,
    "start_time": "2023-04-25T01:36:36.138Z"
   },
   {
    "duration": 39,
    "start_time": "2023-04-25T01:36:36.178Z"
   },
   {
    "duration": 125,
    "start_time": "2023-04-25T01:36:36.219Z"
   },
   {
    "duration": 48,
    "start_time": "2023-04-25T01:36:36.346Z"
   },
   {
    "duration": 15,
    "start_time": "2023-04-25T01:36:36.395Z"
   },
   {
    "duration": 344129,
    "start_time": "2023-04-25T01:36:36.411Z"
   },
   {
    "duration": 6120,
    "start_time": "2023-04-25T01:45:50.163Z"
   },
   {
    "duration": 30,
    "start_time": "2023-04-25T01:45:56.285Z"
   },
   {
    "duration": 15,
    "start_time": "2023-04-25T01:45:56.316Z"
   },
   {
    "duration": 4,
    "start_time": "2023-04-25T01:45:56.333Z"
   },
   {
    "duration": 16,
    "start_time": "2023-04-25T01:45:56.339Z"
   },
   {
    "duration": 14,
    "start_time": "2023-04-25T01:45:56.356Z"
   },
   {
    "duration": 16,
    "start_time": "2023-04-25T01:45:56.372Z"
   },
   {
    "duration": 156,
    "start_time": "2023-04-25T01:45:56.389Z"
   },
   {
    "duration": 106,
    "start_time": "2023-04-25T01:45:56.547Z"
   },
   {
    "duration": 8,
    "start_time": "2023-04-25T01:45:56.656Z"
   },
   {
    "duration": 143,
    "start_time": "2023-04-25T01:45:56.665Z"
   },
   {
    "duration": 93,
    "start_time": "2023-04-25T01:45:56.810Z"
   },
   {
    "duration": 5,
    "start_time": "2023-04-25T01:45:56.905Z"
   },
   {
    "duration": 253,
    "start_time": "2023-04-25T01:45:56.911Z"
   },
   {
    "duration": 8,
    "start_time": "2023-04-25T01:45:57.165Z"
   },
   {
    "duration": 336,
    "start_time": "2023-04-25T01:45:57.174Z"
   },
   {
    "duration": 210,
    "start_time": "2023-04-25T01:45:57.512Z"
   },
   {
    "duration": 112,
    "start_time": "2023-04-25T01:45:57.724Z"
   },
   {
    "duration": 8,
    "start_time": "2023-04-25T01:45:57.837Z"
   },
   {
    "duration": 137,
    "start_time": "2023-04-25T01:45:57.846Z"
   },
   {
    "duration": 220,
    "start_time": "2023-04-25T01:45:57.985Z"
   },
   {
    "duration": 105,
    "start_time": "2023-04-25T01:45:58.207Z"
   },
   {
    "duration": 5,
    "start_time": "2023-04-25T01:45:58.314Z"
   },
   {
    "duration": 130,
    "start_time": "2023-04-25T01:45:58.335Z"
   },
   {
    "duration": 4,
    "start_time": "2023-04-25T01:45:58.467Z"
   },
   {
    "duration": 187,
    "start_time": "2023-04-25T01:45:58.473Z"
   },
   {
    "duration": 197,
    "start_time": "2023-04-25T01:45:58.662Z"
   },
   {
    "duration": 4,
    "start_time": "2023-04-25T01:45:58.862Z"
   },
   {
    "duration": 53,
    "start_time": "2023-04-25T01:45:58.867Z"
   },
   {
    "duration": 22,
    "start_time": "2023-04-25T01:45:58.921Z"
   },
   {
    "duration": 32,
    "start_time": "2023-04-25T01:45:58.944Z"
   },
   {
    "duration": 192,
    "start_time": "2023-04-25T01:45:58.978Z"
   },
   {
    "duration": 6,
    "start_time": "2023-04-25T01:45:59.172Z"
   },
   {
    "duration": 17,
    "start_time": "2023-04-25T01:45:59.180Z"
   },
   {
    "duration": 16,
    "start_time": "2023-04-25T01:45:59.199Z"
   },
   {
    "duration": 6,
    "start_time": "2023-04-25T01:45:59.216Z"
   },
   {
    "duration": 10,
    "start_time": "2023-04-25T01:45:59.224Z"
   },
   {
    "duration": 15,
    "start_time": "2023-04-25T01:45:59.236Z"
   },
   {
    "duration": 77839,
    "start_time": "2023-04-25T01:45:59.253Z"
   },
   {
    "duration": 5696,
    "start_time": "2023-04-25T01:47:33.743Z"
   },
   {
    "duration": 30,
    "start_time": "2023-04-25T01:47:39.441Z"
   },
   {
    "duration": 17,
    "start_time": "2023-04-25T01:47:39.472Z"
   },
   {
    "duration": 13,
    "start_time": "2023-04-25T01:47:39.491Z"
   },
   {
    "duration": 16,
    "start_time": "2023-04-25T01:47:39.505Z"
   },
   {
    "duration": 13,
    "start_time": "2023-04-25T01:47:39.523Z"
   },
   {
    "duration": 12,
    "start_time": "2023-04-25T01:47:39.537Z"
   },
   {
    "duration": 150,
    "start_time": "2023-04-25T01:47:39.551Z"
   },
   {
    "duration": 114,
    "start_time": "2023-04-25T01:47:39.703Z"
   },
   {
    "duration": 6,
    "start_time": "2023-04-25T01:47:39.819Z"
   },
   {
    "duration": 133,
    "start_time": "2023-04-25T01:47:39.835Z"
   },
   {
    "duration": 98,
    "start_time": "2023-04-25T01:47:39.970Z"
   },
   {
    "duration": 5,
    "start_time": "2023-04-25T01:47:40.070Z"
   },
   {
    "duration": 251,
    "start_time": "2023-04-25T01:47:40.080Z"
   },
   {
    "duration": 10,
    "start_time": "2023-04-25T01:47:40.333Z"
   },
   {
    "duration": 349,
    "start_time": "2023-04-25T01:47:40.344Z"
   },
   {
    "duration": 214,
    "start_time": "2023-04-25T01:47:40.695Z"
   },
   {
    "duration": 131,
    "start_time": "2023-04-25T01:47:40.912Z"
   },
   {
    "duration": 8,
    "start_time": "2023-04-25T01:47:41.045Z"
   },
   {
    "duration": 137,
    "start_time": "2023-04-25T01:47:41.055Z"
   },
   {
    "duration": 224,
    "start_time": "2023-04-25T01:47:41.194Z"
   },
   {
    "duration": 96,
    "start_time": "2023-04-25T01:47:41.419Z"
   },
   {
    "duration": 4,
    "start_time": "2023-04-25T01:47:41.517Z"
   },
   {
    "duration": 132,
    "start_time": "2023-04-25T01:47:41.534Z"
   },
   {
    "duration": 5,
    "start_time": "2023-04-25T01:47:41.668Z"
   },
   {
    "duration": 176,
    "start_time": "2023-04-25T01:47:41.674Z"
   },
   {
    "duration": 192,
    "start_time": "2023-04-25T01:47:41.852Z"
   },
   {
    "duration": 5,
    "start_time": "2023-04-25T01:47:42.046Z"
   },
   {
    "duration": 9,
    "start_time": "2023-04-25T01:47:42.052Z"
   },
   {
    "duration": 13,
    "start_time": "2023-04-25T01:47:42.062Z"
   },
   {
    "duration": 8,
    "start_time": "2023-04-25T01:47:42.076Z"
   },
   {
    "duration": 191,
    "start_time": "2023-04-25T01:47:42.085Z"
   },
   {
    "duration": 5,
    "start_time": "2023-04-25T01:47:42.278Z"
   },
   {
    "duration": 25,
    "start_time": "2023-04-25T01:47:42.284Z"
   },
   {
    "duration": 16,
    "start_time": "2023-04-25T01:47:42.311Z"
   },
   {
    "duration": 26,
    "start_time": "2023-04-25T01:47:42.328Z"
   },
   {
    "duration": 8,
    "start_time": "2023-04-25T01:47:42.355Z"
   },
   {
    "duration": 14,
    "start_time": "2023-04-25T01:47:42.365Z"
   },
   {
    "duration": 49181,
    "start_time": "2023-04-25T01:47:42.381Z"
   },
   {
    "duration": 5948,
    "start_time": "2023-04-25T01:48:44.744Z"
   },
   {
    "duration": 30,
    "start_time": "2023-04-25T01:48:50.695Z"
   },
   {
    "duration": 39,
    "start_time": "2023-04-25T01:48:50.726Z"
   },
   {
    "duration": 5,
    "start_time": "2023-04-25T01:48:50.766Z"
   },
   {
    "duration": 15,
    "start_time": "2023-04-25T01:48:50.773Z"
   },
   {
    "duration": 21,
    "start_time": "2023-04-25T01:48:50.790Z"
   },
   {
    "duration": 12,
    "start_time": "2023-04-25T01:48:50.812Z"
   },
   {
    "duration": 175,
    "start_time": "2023-04-25T01:48:50.826Z"
   },
   {
    "duration": 129,
    "start_time": "2023-04-25T01:48:51.003Z"
   },
   {
    "duration": 8,
    "start_time": "2023-04-25T01:48:51.134Z"
   },
   {
    "duration": 155,
    "start_time": "2023-04-25T01:48:51.143Z"
   },
   {
    "duration": 99,
    "start_time": "2023-04-25T01:48:51.300Z"
   },
   {
    "duration": 4,
    "start_time": "2023-04-25T01:48:51.401Z"
   },
   {
    "duration": 267,
    "start_time": "2023-04-25T01:48:51.408Z"
   },
   {
    "duration": 7,
    "start_time": "2023-04-25T01:48:51.677Z"
   },
   {
    "duration": 360,
    "start_time": "2023-04-25T01:48:51.686Z"
   },
   {
    "duration": 251,
    "start_time": "2023-04-25T01:48:52.048Z"
   },
   {
    "duration": 138,
    "start_time": "2023-04-25T01:48:52.302Z"
   },
   {
    "duration": 9,
    "start_time": "2023-04-25T01:48:52.442Z"
   },
   {
    "duration": 156,
    "start_time": "2023-04-25T01:48:52.453Z"
   },
   {
    "duration": 256,
    "start_time": "2023-04-25T01:48:52.611Z"
   },
   {
    "duration": 137,
    "start_time": "2023-04-25T01:48:52.869Z"
   },
   {
    "duration": 4,
    "start_time": "2023-04-25T01:48:53.008Z"
   },
   {
    "duration": 166,
    "start_time": "2023-04-25T01:48:53.014Z"
   },
   {
    "duration": 4,
    "start_time": "2023-04-25T01:48:53.182Z"
   },
   {
    "duration": 229,
    "start_time": "2023-04-25T01:48:53.188Z"
   },
   {
    "duration": 243,
    "start_time": "2023-04-25T01:48:53.419Z"
   },
   {
    "duration": 6,
    "start_time": "2023-04-25T01:48:53.665Z"
   },
   {
    "duration": 11,
    "start_time": "2023-04-25T01:48:53.673Z"
   },
   {
    "duration": 11,
    "start_time": "2023-04-25T01:48:53.686Z"
   },
   {
    "duration": 7,
    "start_time": "2023-04-25T01:48:53.698Z"
   },
   {
    "duration": 227,
    "start_time": "2023-04-25T01:48:53.707Z"
   },
   {
    "duration": 6,
    "start_time": "2023-04-25T01:48:53.936Z"
   },
   {
    "duration": 104,
    "start_time": "2023-04-25T01:48:53.944Z"
   },
   {
    "duration": 15,
    "start_time": "2023-04-25T01:48:54.050Z"
   },
   {
    "duration": 14,
    "start_time": "2023-04-25T01:48:54.067Z"
   },
   {
    "duration": 7,
    "start_time": "2023-04-25T01:48:54.082Z"
   },
   {
    "duration": 8,
    "start_time": "2023-04-25T01:48:54.090Z"
   },
   {
    "duration": 89245,
    "start_time": "2023-04-25T01:48:54.099Z"
   },
   {
    "duration": 5910,
    "start_time": "2023-04-25T01:50:48.886Z"
   },
   {
    "duration": 30,
    "start_time": "2023-04-25T01:50:54.799Z"
   },
   {
    "duration": 14,
    "start_time": "2023-04-25T01:50:54.830Z"
   },
   {
    "duration": 5,
    "start_time": "2023-04-25T01:50:54.846Z"
   },
   {
    "duration": 15,
    "start_time": "2023-04-25T01:50:54.852Z"
   },
   {
    "duration": 15,
    "start_time": "2023-04-25T01:50:54.868Z"
   },
   {
    "duration": 10,
    "start_time": "2023-04-25T01:50:54.884Z"
   },
   {
    "duration": 152,
    "start_time": "2023-04-25T01:50:54.895Z"
   },
   {
    "duration": 101,
    "start_time": "2023-04-25T01:50:55.048Z"
   },
   {
    "duration": 6,
    "start_time": "2023-04-25T01:50:55.151Z"
   },
   {
    "duration": 141,
    "start_time": "2023-04-25T01:50:55.158Z"
   },
   {
    "duration": 95,
    "start_time": "2023-04-25T01:50:55.301Z"
   },
   {
    "duration": 4,
    "start_time": "2023-04-25T01:50:55.398Z"
   },
   {
    "duration": 247,
    "start_time": "2023-04-25T01:50:55.405Z"
   },
   {
    "duration": 8,
    "start_time": "2023-04-25T01:50:55.653Z"
   },
   {
    "duration": 316,
    "start_time": "2023-04-25T01:50:55.663Z"
   },
   {
    "duration": 208,
    "start_time": "2023-04-25T01:50:55.981Z"
   },
   {
    "duration": 102,
    "start_time": "2023-04-25T01:50:56.190Z"
   },
   {
    "duration": 7,
    "start_time": "2023-04-25T01:50:56.294Z"
   },
   {
    "duration": 135,
    "start_time": "2023-04-25T01:50:56.303Z"
   },
   {
    "duration": 222,
    "start_time": "2023-04-25T01:50:56.440Z"
   },
   {
    "duration": 96,
    "start_time": "2023-04-25T01:50:56.664Z"
   },
   {
    "duration": 4,
    "start_time": "2023-04-25T01:50:56.762Z"
   },
   {
    "duration": 133,
    "start_time": "2023-04-25T01:50:56.767Z"
   },
   {
    "duration": 4,
    "start_time": "2023-04-25T01:50:56.902Z"
   },
   {
    "duration": 175,
    "start_time": "2023-04-25T01:50:56.908Z"
   },
   {
    "duration": 180,
    "start_time": "2023-04-25T01:50:57.085Z"
   },
   {
    "duration": 5,
    "start_time": "2023-04-25T01:50:57.268Z"
   },
   {
    "duration": 22,
    "start_time": "2023-04-25T01:50:57.274Z"
   },
   {
    "duration": 12,
    "start_time": "2023-04-25T01:50:57.297Z"
   },
   {
    "duration": 6,
    "start_time": "2023-04-25T01:50:57.310Z"
   },
   {
    "duration": 185,
    "start_time": "2023-04-25T01:50:57.317Z"
   },
   {
    "duration": 6,
    "start_time": "2023-04-25T01:50:57.505Z"
   },
   {
    "duration": 22,
    "start_time": "2023-04-25T01:50:57.513Z"
   },
   {
    "duration": 15,
    "start_time": "2023-04-25T01:50:57.537Z"
   },
   {
    "duration": 9,
    "start_time": "2023-04-25T01:50:57.553Z"
   },
   {
    "duration": 6,
    "start_time": "2023-04-25T01:50:57.563Z"
   },
   {
    "duration": 9,
    "start_time": "2023-04-25T01:50:57.571Z"
   },
   {
    "duration": 438768,
    "start_time": "2023-04-25T01:50:57.581Z"
   },
   {
    "duration": 289,
    "start_time": "2023-04-25T02:11:43.949Z"
   },
   {
    "duration": 17,
    "start_time": "2023-04-25T02:11:55.081Z"
   },
   {
    "duration": 6,
    "start_time": "2023-04-25T02:12:02.139Z"
   },
   {
    "duration": 24,
    "start_time": "2023-04-25T02:12:06.803Z"
   },
   {
    "duration": 20,
    "start_time": "2023-04-25T02:12:11.090Z"
   },
   {
    "duration": 18,
    "start_time": "2023-04-25T02:12:16.611Z"
   },
   {
    "duration": 4,
    "start_time": "2023-04-25T02:12:31.195Z"
   },
   {
    "duration": 6,
    "start_time": "2023-04-25T02:12:33.199Z"
   },
   {
    "duration": 19,
    "start_time": "2023-04-25T02:15:48.624Z"
   },
   {
    "duration": 6,
    "start_time": "2023-04-25T02:15:56.224Z"
   },
   {
    "duration": 8,
    "start_time": "2023-04-25T02:16:00.961Z"
   },
   {
    "duration": 7,
    "start_time": "2023-04-25T02:16:03.849Z"
   },
   {
    "duration": 5,
    "start_time": "2023-04-25T02:18:32.955Z"
   },
   {
    "duration": 94242,
    "start_time": "2023-04-25T02:18:34.625Z"
   },
   {
    "duration": 0,
    "start_time": "2023-04-25T02:20:08.868Z"
   },
   {
    "duration": 8,
    "start_time": "2023-04-25T02:20:11.968Z"
   },
   {
    "duration": 13,
    "start_time": "2023-04-25T02:20:26.084Z"
   },
   {
    "duration": 13,
    "start_time": "2023-04-25T02:20:37.004Z"
   },
   {
    "duration": 8,
    "start_time": "2023-04-25T02:20:43.765Z"
   },
   {
    "duration": 8,
    "start_time": "2023-04-25T02:20:48.510Z"
   },
   {
    "duration": 8,
    "start_time": "2023-04-25T02:21:23.718Z"
   },
   {
    "duration": 11,
    "start_time": "2023-04-25T02:21:35.083Z"
   },
   {
    "duration": 8,
    "start_time": "2023-04-25T02:22:11.009Z"
   },
   {
    "duration": 4,
    "start_time": "2023-04-25T02:22:55.876Z"
   },
   {
    "duration": 24,
    "start_time": "2023-04-25T02:23:32.010Z"
   },
   {
    "duration": 9,
    "start_time": "2023-04-25T02:23:45.794Z"
   },
   {
    "duration": 43,
    "start_time": "2023-04-25T02:24:31.280Z"
   },
   {
    "duration": 26,
    "start_time": "2023-04-25T02:24:45.854Z"
   },
   {
    "duration": 14,
    "start_time": "2023-04-25T02:25:24.956Z"
   },
   {
    "duration": 16,
    "start_time": "2023-04-25T02:25:58.625Z"
   },
   {
    "duration": 22,
    "start_time": "2023-04-25T02:27:13.092Z"
   },
   {
    "duration": 7,
    "start_time": "2023-04-25T02:27:23.481Z"
   },
   {
    "duration": 12,
    "start_time": "2023-04-25T02:27:32.512Z"
   },
   {
    "duration": 11,
    "start_time": "2023-04-25T02:27:42.765Z"
   },
   {
    "duration": 11,
    "start_time": "2023-04-25T02:29:24.984Z"
   },
   {
    "duration": 253,
    "start_time": "2023-04-25T02:29:50.932Z"
   },
   {
    "duration": 264,
    "start_time": "2023-04-25T02:30:15.182Z"
   },
   {
    "duration": 233,
    "start_time": "2023-04-25T02:30:27.913Z"
   },
   {
    "duration": 334,
    "start_time": "2023-04-25T02:30:50.357Z"
   },
   {
    "duration": 6,
    "start_time": "2023-04-25T02:33:15.509Z"
   },
   {
    "duration": 379965,
    "start_time": "2023-04-25T02:33:16.885Z"
   },
   {
    "duration": 19698,
    "start_time": "2023-04-25T02:40:44.747Z"
   },
   {
    "duration": 321,
    "start_time": "2023-04-25T02:41:20.454Z"
   },
   {
    "duration": 20032,
    "start_time": "2023-04-25T02:41:30.503Z"
   },
   {
    "duration": 20040,
    "start_time": "2023-04-25T02:42:02.011Z"
   },
   {
    "duration": 533,
    "start_time": "2023-04-25T02:42:30.601Z"
   },
   {
    "duration": 49,
    "start_time": "2023-04-25T02:58:50.860Z"
   },
   {
    "duration": 52,
    "start_time": "2023-04-25T02:59:24.329Z"
   },
   {
    "duration": 5,
    "start_time": "2023-04-25T03:00:51.635Z"
   },
   {
    "duration": 9,
    "start_time": "2023-04-25T03:28:07.920Z"
   },
   {
    "duration": 5,
    "start_time": "2023-04-25T03:28:09.336Z"
   },
   {
    "duration": 19,
    "start_time": "2023-04-25T03:28:10.408Z"
   },
   {
    "duration": 24,
    "start_time": "2023-04-25T03:28:29.046Z"
   },
   {
    "duration": 8,
    "start_time": "2023-04-25T03:29:11.626Z"
   },
   {
    "duration": 5,
    "start_time": "2023-04-25T03:29:12.420Z"
   },
   {
    "duration": 43107,
    "start_time": "2023-04-25T03:29:13.154Z"
   },
   {
    "duration": 58,
    "start_time": "2023-04-25T03:31:17.040Z"
   },
   {
    "duration": 72,
    "start_time": "2023-04-25T03:31:20.762Z"
   },
   {
    "duration": 29653,
    "start_time": "2023-04-25T03:31:24.482Z"
   },
   {
    "duration": 29,
    "start_time": "2023-04-25T03:37:15.102Z"
   },
   {
    "duration": 32,
    "start_time": "2023-04-25T03:38:47.511Z"
   },
   {
    "duration": 70544,
    "start_time": "2023-04-25T03:39:12.911Z"
   },
   {
    "duration": 6,
    "start_time": "2023-04-25T03:44:13.845Z"
   },
   {
    "duration": 36,
    "start_time": "2023-04-25T03:44:15.016Z"
   },
   {
    "duration": 6,
    "start_time": "2023-04-25T03:48:15.274Z"
   },
   {
    "duration": 29,
    "start_time": "2023-04-25T03:48:15.874Z"
   },
   {
    "duration": 5,
    "start_time": "2023-04-25T03:49:48.573Z"
   },
   {
    "duration": 14587,
    "start_time": "2023-04-25T03:49:49.187Z"
   },
   {
    "duration": 28616,
    "start_time": "2023-04-25T03:52:22.164Z"
   },
   {
    "duration": 6,
    "start_time": "2023-04-25T03:52:56.558Z"
   },
   {
    "duration": 177618,
    "start_time": "2023-04-25T03:56:43.548Z"
   },
   {
    "duration": 5,
    "start_time": "2023-04-25T04:00:51.268Z"
   },
   {
    "duration": 301056,
    "start_time": "2023-04-25T04:00:52.339Z"
   },
   {
    "duration": 0,
    "start_time": "2023-04-25T04:05:53.397Z"
   },
   {
    "duration": 8,
    "start_time": "2023-04-25T04:05:56.574Z"
   },
   {
    "duration": 2196106,
    "start_time": "2023-04-25T04:06:49.141Z"
   },
   {
    "duration": 11,
    "start_time": "2023-04-25T04:43:25.249Z"
   },
   {
    "duration": 9,
    "start_time": "2023-04-25T05:39:23.449Z"
   },
   {
    "duration": 10717,
    "start_time": "2023-04-25T05:39:27.346Z"
   },
   {
    "duration": 18,
    "start_time": "2023-04-25T05:44:01.618Z"
   },
   {
    "duration": 24717,
    "start_time": "2023-04-25T05:44:47.142Z"
   },
   {
    "duration": 16,
    "start_time": "2023-04-25T05:46:26.343Z"
   },
   {
    "duration": 17,
    "start_time": "2023-04-25T05:46:40.664Z"
   },
   {
    "duration": 15,
    "start_time": "2023-04-25T05:46:50.435Z"
   },
   {
    "duration": 16,
    "start_time": "2023-04-25T05:46:56.667Z"
   },
   {
    "duration": 21,
    "start_time": "2023-04-25T05:47:15.400Z"
   },
   {
    "duration": 24153,
    "start_time": "2023-04-25T05:47:25.194Z"
   },
   {
    "duration": 23916,
    "start_time": "2023-04-25T05:48:43.732Z"
   },
   {
    "duration": 21830,
    "start_time": "2023-04-25T05:49:11.526Z"
   },
   {
    "duration": 314,
    "start_time": "2023-04-25T05:49:38.495Z"
   },
   {
    "duration": 72,
    "start_time": "2023-04-25T06:37:01.146Z"
   },
   {
    "duration": 33,
    "start_time": "2023-04-25T06:37:09.952Z"
   },
   {
    "duration": 26,
    "start_time": "2023-04-25T06:38:17.442Z"
   },
   {
    "duration": 27,
    "start_time": "2023-04-25T06:38:46.142Z"
   },
   {
    "duration": 25,
    "start_time": "2023-04-25T06:40:04.049Z"
   },
   {
    "duration": 26,
    "start_time": "2023-04-25T06:40:46.359Z"
   },
   {
    "duration": 25,
    "start_time": "2023-04-25T06:40:59.702Z"
   },
   {
    "duration": 27,
    "start_time": "2023-04-25T06:41:14.228Z"
   },
   {
    "duration": 45354,
    "start_time": "2023-04-25T06:41:32.498Z"
   },
   {
    "duration": 102142,
    "start_time": "2023-04-25T06:42:19.338Z"
   },
   {
    "duration": 6,
    "start_time": "2023-04-25T06:44:39.340Z"
   },
   {
    "duration": 29502,
    "start_time": "2023-04-25T06:44:53.753Z"
   },
   {
    "duration": 16982,
    "start_time": "2023-04-25T06:45:45.883Z"
   },
   {
    "duration": 5,
    "start_time": "2023-04-25T08:57:44.568Z"
   },
   {
    "duration": 4,
    "start_time": "2023-04-25T08:57:59.096Z"
   },
   {
    "duration": 4,
    "start_time": "2023-04-25T08:58:09.481Z"
   },
   {
    "duration": 55,
    "start_time": "2023-04-25T08:59:24.173Z"
   },
   {
    "duration": 88067,
    "start_time": "2023-04-25T08:59:42.588Z"
   },
   {
    "duration": 159442,
    "start_time": "2023-04-25T09:01:44.105Z"
   },
   {
    "duration": 3,
    "start_time": "2023-04-25T10:08:08.473Z"
   },
   {
    "duration": 4,
    "start_time": "2023-04-25T10:08:14.215Z"
   },
   {
    "duration": 4,
    "start_time": "2023-04-25T10:09:02.871Z"
   },
   {
    "duration": 4,
    "start_time": "2023-04-25T10:09:52.985Z"
   },
   {
    "duration": 4,
    "start_time": "2023-04-25T10:10:32.885Z"
   },
   {
    "duration": 2,
    "start_time": "2023-04-25T10:11:14.753Z"
   },
   {
    "duration": 5,
    "start_time": "2023-04-25T10:11:19.651Z"
   },
   {
    "duration": 4,
    "start_time": "2023-04-25T10:11:31.165Z"
   },
   {
    "duration": 4,
    "start_time": "2023-04-25T10:11:50.587Z"
   },
   {
    "duration": 5,
    "start_time": "2023-04-25T10:11:59.692Z"
   },
   {
    "duration": 852,
    "start_time": "2023-04-25T10:12:54.920Z"
   },
   {
    "duration": 3278,
    "start_time": "2023-04-25T10:13:21.082Z"
   },
   {
    "duration": 3,
    "start_time": "2023-04-25T10:31:02.801Z"
   },
   {
    "duration": 3,
    "start_time": "2023-04-25T10:32:27.622Z"
   },
   {
    "duration": 49,
    "start_time": "2023-04-25T10:33:42.240Z"
   },
   {
    "duration": 3450,
    "start_time": "2023-04-25T10:33:45.688Z"
   },
   {
    "duration": 31,
    "start_time": "2023-04-25T10:37:55.854Z"
   },
   {
    "duration": 15735,
    "start_time": "2023-04-25T10:38:03.432Z"
   },
   {
    "duration": 19461,
    "start_time": "2023-04-25T10:39:16.107Z"
   },
   {
    "duration": 518310,
    "start_time": "2023-04-25T10:40:12.746Z"
   },
   {
    "duration": 39793,
    "start_time": "2023-04-25T10:49:08.360Z"
   },
   {
    "duration": 18466,
    "start_time": "2023-04-25T10:49:57.185Z"
   },
   {
    "duration": 175080,
    "start_time": "2023-04-25T10:50:25.077Z"
   },
   {
    "duration": 23,
    "start_time": "2023-04-25T10:54:38.550Z"
   },
   {
    "duration": 304350,
    "start_time": "2023-04-25T10:54:45.496Z"
   },
   {
    "duration": 5,
    "start_time": "2023-04-25T11:02:13.593Z"
   },
   {
    "duration": 5,
    "start_time": "2023-04-25T11:02:34.531Z"
   },
   {
    "duration": 15,
    "start_time": "2023-04-25T11:02:40.892Z"
   },
   {
    "duration": 16,
    "start_time": "2023-04-25T11:02:46.225Z"
   },
   {
    "duration": 4,
    "start_time": "2023-04-25T11:02:53.959Z"
   },
   {
    "duration": 64936,
    "start_time": "2023-04-25T11:05:15.328Z"
   },
   {
    "duration": 311831,
    "start_time": "2023-04-25T11:06:33.208Z"
   },
   {
    "duration": 9,
    "start_time": "2023-04-25T11:11:49.526Z"
   },
   {
    "duration": 102639,
    "start_time": "2023-04-25T11:17:14.608Z"
   },
   {
    "duration": 9,
    "start_time": "2023-04-25T11:19:18.720Z"
   },
   {
    "duration": 101031,
    "start_time": "2023-04-25T11:19:35.527Z"
   },
   {
    "duration": 7,
    "start_time": "2023-04-25T11:21:29.765Z"
   },
   {
    "duration": 4,
    "start_time": "2023-04-25T11:22:55.168Z"
   },
   {
    "duration": 3,
    "start_time": "2023-04-25T11:23:03.764Z"
   },
   {
    "duration": 127686,
    "start_time": "2023-04-25T11:27:16.773Z"
   },
   {
    "duration": 17,
    "start_time": "2023-04-25T11:30:12.041Z"
   },
   {
    "duration": 27,
    "start_time": "2023-04-25T11:30:40.509Z"
   },
   {
    "duration": 130633,
    "start_time": "2023-04-25T11:30:55.814Z"
   },
   {
    "duration": 24,
    "start_time": "2023-04-25T11:33:37.629Z"
   },
   {
    "duration": 3,
    "start_time": "2023-04-25T11:33:44.691Z"
   },
   {
    "duration": 3,
    "start_time": "2023-04-25T11:34:01.496Z"
   },
   {
    "duration": 3,
    "start_time": "2023-04-25T11:34:09.623Z"
   },
   {
    "duration": 3,
    "start_time": "2023-04-25T11:34:11.391Z"
   },
   {
    "duration": 279,
    "start_time": "2023-04-25T11:34:58.357Z"
   },
   {
    "duration": 157,
    "start_time": "2023-04-25T11:35:18.008Z"
   },
   {
    "duration": 128776,
    "start_time": "2023-04-25T11:35:22.073Z"
   },
   {
    "duration": 213,
    "start_time": "2023-04-25T11:39:18.824Z"
   },
   {
    "duration": 6213,
    "start_time": "2023-04-25T11:42:26.673Z"
   },
   {
    "duration": 29,
    "start_time": "2023-04-25T11:42:32.889Z"
   },
   {
    "duration": 15,
    "start_time": "2023-04-25T11:42:32.919Z"
   },
   {
    "duration": 16,
    "start_time": "2023-04-25T11:42:32.935Z"
   },
   {
    "duration": 29,
    "start_time": "2023-04-25T11:42:32.953Z"
   },
   {
    "duration": 34,
    "start_time": "2023-04-25T11:42:32.984Z"
   },
   {
    "duration": 21,
    "start_time": "2023-04-25T11:42:33.019Z"
   },
   {
    "duration": 165,
    "start_time": "2023-04-25T11:42:33.042Z"
   },
   {
    "duration": 116,
    "start_time": "2023-04-25T11:42:33.209Z"
   },
   {
    "duration": 13,
    "start_time": "2023-04-25T11:42:33.327Z"
   },
   {
    "duration": 139,
    "start_time": "2023-04-25T11:42:33.342Z"
   },
   {
    "duration": 95,
    "start_time": "2023-04-25T11:42:33.484Z"
   },
   {
    "duration": 5,
    "start_time": "2023-04-25T11:42:33.581Z"
   },
   {
    "duration": 285,
    "start_time": "2023-04-25T11:42:33.590Z"
   },
   {
    "duration": 8,
    "start_time": "2023-04-25T11:42:33.877Z"
   },
   {
    "duration": 371,
    "start_time": "2023-04-25T11:42:33.887Z"
   },
   {
    "duration": 216,
    "start_time": "2023-04-25T11:42:34.260Z"
   },
   {
    "duration": 108,
    "start_time": "2023-04-25T11:42:34.477Z"
   },
   {
    "duration": 7,
    "start_time": "2023-04-25T11:42:34.586Z"
   },
   {
    "duration": 160,
    "start_time": "2023-04-25T11:42:34.595Z"
   },
   {
    "duration": 241,
    "start_time": "2023-04-25T11:42:34.757Z"
   },
   {
    "duration": 114,
    "start_time": "2023-04-25T11:42:35.000Z"
   },
   {
    "duration": 4,
    "start_time": "2023-04-25T11:42:35.116Z"
   },
   {
    "duration": 167,
    "start_time": "2023-04-25T11:42:35.121Z"
   },
   {
    "duration": 4,
    "start_time": "2023-04-25T11:42:35.290Z"
   },
   {
    "duration": 254,
    "start_time": "2023-04-25T11:42:35.296Z"
   },
   {
    "duration": 185,
    "start_time": "2023-04-25T11:42:35.551Z"
   },
   {
    "duration": 4,
    "start_time": "2023-04-25T11:42:35.737Z"
   },
   {
    "duration": 188,
    "start_time": "2023-04-25T11:42:35.743Z"
   },
   {
    "duration": 65,
    "start_time": "2023-04-25T11:42:35.933Z"
   },
   {
    "duration": 20,
    "start_time": "2023-04-25T11:42:35.999Z"
   },
   {
    "duration": 176,
    "start_time": "2023-04-25T11:42:36.020Z"
   },
   {
    "duration": 5,
    "start_time": "2023-04-25T11:42:36.198Z"
   },
   {
    "duration": 31,
    "start_time": "2023-04-25T11:42:36.204Z"
   },
   {
    "duration": 30,
    "start_time": "2023-04-25T11:42:36.237Z"
   },
   {
    "duration": 50,
    "start_time": "2023-04-25T11:42:36.268Z"
   },
   {
    "duration": 15,
    "start_time": "2023-04-25T11:42:36.319Z"
   },
   {
    "duration": 37,
    "start_time": "2023-04-25T11:42:36.336Z"
   },
   {
    "duration": 3751,
    "start_time": "2023-04-25T11:42:36.374Z"
   },
   {
    "duration": 0,
    "start_time": "2023-04-25T11:42:40.127Z"
   },
   {
    "duration": 0,
    "start_time": "2023-04-25T11:42:40.128Z"
   },
   {
    "duration": 0,
    "start_time": "2023-04-25T11:42:40.129Z"
   },
   {
    "duration": 0,
    "start_time": "2023-04-25T11:42:40.130Z"
   },
   {
    "duration": 0,
    "start_time": "2023-04-25T11:42:40.135Z"
   },
   {
    "duration": 0,
    "start_time": "2023-04-25T11:42:40.136Z"
   },
   {
    "duration": 0,
    "start_time": "2023-04-25T11:42:40.137Z"
   },
   {
    "duration": 0,
    "start_time": "2023-04-25T11:42:40.139Z"
   },
   {
    "duration": 0,
    "start_time": "2023-04-25T11:42:40.140Z"
   },
   {
    "duration": 6020,
    "start_time": "2023-04-25T11:44:41.526Z"
   },
   {
    "duration": 29,
    "start_time": "2023-04-25T11:44:47.549Z"
   },
   {
    "duration": 15,
    "start_time": "2023-04-25T11:44:47.580Z"
   },
   {
    "duration": 19,
    "start_time": "2023-04-25T11:44:47.597Z"
   },
   {
    "duration": 37,
    "start_time": "2023-04-25T11:44:47.618Z"
   },
   {
    "duration": 38,
    "start_time": "2023-04-25T11:44:47.656Z"
   },
   {
    "duration": 55,
    "start_time": "2023-04-25T11:44:47.695Z"
   },
   {
    "duration": 177,
    "start_time": "2023-04-25T11:44:47.752Z"
   },
   {
    "duration": 112,
    "start_time": "2023-04-25T11:44:47.933Z"
   },
   {
    "duration": 8,
    "start_time": "2023-04-25T11:44:48.047Z"
   },
   {
    "duration": 170,
    "start_time": "2023-04-25T11:44:48.057Z"
   },
   {
    "duration": 100,
    "start_time": "2023-04-25T11:44:48.234Z"
   },
   {
    "duration": 5,
    "start_time": "2023-04-25T11:44:48.336Z"
   },
   {
    "duration": 287,
    "start_time": "2023-04-25T11:44:48.344Z"
   },
   {
    "duration": 8,
    "start_time": "2023-04-25T11:44:48.633Z"
   },
   {
    "duration": 377,
    "start_time": "2023-04-25T11:44:48.643Z"
   },
   {
    "duration": 244,
    "start_time": "2023-04-25T11:44:49.022Z"
   },
   {
    "duration": 135,
    "start_time": "2023-04-25T11:44:49.268Z"
   },
   {
    "duration": 9,
    "start_time": "2023-04-25T11:44:49.404Z"
   },
   {
    "duration": 148,
    "start_time": "2023-04-25T11:44:49.415Z"
   },
   {
    "duration": 243,
    "start_time": "2023-04-25T11:44:49.565Z"
   },
   {
    "duration": 114,
    "start_time": "2023-04-25T11:44:49.810Z"
   },
   {
    "duration": 4,
    "start_time": "2023-04-25T11:44:49.934Z"
   },
   {
    "duration": 158,
    "start_time": "2023-04-25T11:44:49.939Z"
   },
   {
    "duration": 4,
    "start_time": "2023-04-25T11:44:50.099Z"
   },
   {
    "duration": 192,
    "start_time": "2023-04-25T11:44:50.105Z"
   },
   {
    "duration": 209,
    "start_time": "2023-04-25T11:44:50.298Z"
   },
   {
    "duration": 4,
    "start_time": "2023-04-25T11:44:50.509Z"
   },
   {
    "duration": 21,
    "start_time": "2023-04-25T11:44:50.514Z"
   },
   {
    "duration": 11,
    "start_time": "2023-04-25T11:44:50.536Z"
   },
   {
    "duration": 19,
    "start_time": "2023-04-25T11:44:50.549Z"
   },
   {
    "duration": 197,
    "start_time": "2023-04-25T11:44:50.570Z"
   },
   {
    "duration": 5,
    "start_time": "2023-04-25T11:44:50.769Z"
   },
   {
    "duration": 30,
    "start_time": "2023-04-25T11:44:50.776Z"
   },
   {
    "duration": 56,
    "start_time": "2023-04-25T11:44:50.808Z"
   },
   {
    "duration": 42,
    "start_time": "2023-04-25T11:44:50.865Z"
   },
   {
    "duration": 32,
    "start_time": "2023-04-25T11:44:50.909Z"
   },
   {
    "duration": 79,
    "start_time": "2023-04-25T11:44:50.942Z"
   },
   {
    "duration": 2061721,
    "start_time": "2023-04-25T11:44:51.023Z"
   },
   {
    "duration": 12,
    "start_time": "2023-04-25T12:19:12.746Z"
   },
   {
    "duration": 24481,
    "start_time": "2023-04-25T12:19:12.762Z"
   },
   {
    "duration": 347,
    "start_time": "2023-04-25T12:19:37.245Z"
   },
   {
    "duration": 319,
    "start_time": "2023-04-25T12:19:37.593Z"
   },
   {
    "duration": 0,
    "start_time": "2023-04-25T12:19:37.914Z"
   },
   {
    "duration": 0,
    "start_time": "2023-04-25T12:19:37.915Z"
   },
   {
    "duration": 0,
    "start_time": "2023-04-25T12:19:37.916Z"
   },
   {
    "duration": 0,
    "start_time": "2023-04-25T12:19:37.917Z"
   },
   {
    "duration": 0,
    "start_time": "2023-04-25T12:19:37.919Z"
   },
   {
    "duration": 18,
    "start_time": "2023-04-25T12:44:46.957Z"
   },
   {
    "duration": 9,
    "start_time": "2023-04-25T12:44:49.029Z"
   },
   {
    "duration": 34707,
    "start_time": "2023-04-25T12:44:57.445Z"
   },
   {
    "duration": 1827,
    "start_time": "2023-04-25T12:45:39.123Z"
   },
   {
    "duration": 6,
    "start_time": "2023-04-25T12:45:43.189Z"
   },
   {
    "duration": 6353,
    "start_time": "2023-04-25T12:46:20.011Z"
   },
   {
    "duration": 30,
    "start_time": "2023-04-25T12:46:26.366Z"
   },
   {
    "duration": 15,
    "start_time": "2023-04-25T12:46:26.397Z"
   },
   {
    "duration": 7,
    "start_time": "2023-04-25T12:46:26.414Z"
   },
   {
    "duration": 10,
    "start_time": "2023-04-25T12:46:26.423Z"
   },
   {
    "duration": 20,
    "start_time": "2023-04-25T12:46:26.435Z"
   },
   {
    "duration": 21,
    "start_time": "2023-04-25T12:46:26.457Z"
   },
   {
    "duration": 155,
    "start_time": "2023-04-25T12:46:26.479Z"
   },
   {
    "duration": 102,
    "start_time": "2023-04-25T12:46:26.635Z"
   },
   {
    "duration": 7,
    "start_time": "2023-04-25T12:46:26.739Z"
   },
   {
    "duration": 137,
    "start_time": "2023-04-25T12:46:26.748Z"
   },
   {
    "duration": 90,
    "start_time": "2023-04-25T12:46:26.887Z"
   },
   {
    "duration": 5,
    "start_time": "2023-04-25T12:46:26.979Z"
   },
   {
    "duration": 239,
    "start_time": "2023-04-25T12:46:26.988Z"
   },
   {
    "duration": 7,
    "start_time": "2023-04-25T12:46:27.229Z"
   },
   {
    "duration": 340,
    "start_time": "2023-04-25T12:46:27.238Z"
   },
   {
    "duration": 209,
    "start_time": "2023-04-25T12:46:27.579Z"
   },
   {
    "duration": 107,
    "start_time": "2023-04-25T12:46:27.789Z"
   },
   {
    "duration": 7,
    "start_time": "2023-04-25T12:46:27.898Z"
   },
   {
    "duration": 135,
    "start_time": "2023-04-25T12:46:27.907Z"
   },
   {
    "duration": 222,
    "start_time": "2023-04-25T12:46:28.043Z"
   },
   {
    "duration": 104,
    "start_time": "2023-04-25T12:46:28.267Z"
   },
   {
    "duration": 5,
    "start_time": "2023-04-25T12:46:28.373Z"
   },
   {
    "duration": 151,
    "start_time": "2023-04-25T12:46:28.379Z"
   },
   {
    "duration": 5,
    "start_time": "2023-04-25T12:46:28.532Z"
   },
   {
    "duration": 181,
    "start_time": "2023-04-25T12:46:28.538Z"
   },
   {
    "duration": 190,
    "start_time": "2023-04-25T12:46:28.721Z"
   },
   {
    "duration": 5,
    "start_time": "2023-04-25T12:46:28.912Z"
   },
   {
    "duration": 49,
    "start_time": "2023-04-25T12:46:28.918Z"
   },
   {
    "duration": 22,
    "start_time": "2023-04-25T12:46:28.968Z"
   },
   {
    "duration": 6,
    "start_time": "2023-04-25T12:46:28.992Z"
   },
   {
    "duration": 179,
    "start_time": "2023-04-25T12:46:28.999Z"
   },
   {
    "duration": 5,
    "start_time": "2023-04-25T12:46:29.180Z"
   },
   {
    "duration": 16,
    "start_time": "2023-04-25T12:46:29.187Z"
   },
   {
    "duration": 18,
    "start_time": "2023-04-25T12:46:29.205Z"
   },
   {
    "duration": 14,
    "start_time": "2023-04-25T12:46:29.224Z"
   },
   {
    "duration": 9,
    "start_time": "2023-04-25T12:46:29.239Z"
   },
   {
    "duration": 16,
    "start_time": "2023-04-25T12:46:29.249Z"
   },
   {
    "duration": 2111882,
    "start_time": "2023-04-25T12:46:29.267Z"
   },
   {
    "duration": 11,
    "start_time": "2023-04-25T13:21:41.150Z"
   },
   {
    "duration": 26181,
    "start_time": "2023-04-25T13:21:41.164Z"
   },
   {
    "duration": 334,
    "start_time": "2023-04-25T13:22:07.347Z"
   },
   {
    "duration": 9,
    "start_time": "2023-04-25T13:22:07.682Z"
   },
   {
    "duration": 107858,
    "start_time": "2023-04-25T13:22:07.692Z"
   },
   {
    "duration": 7,
    "start_time": "2023-04-25T13:23:55.552Z"
   },
   {
    "duration": 421,
    "start_time": "2023-04-25T13:23:55.560Z"
   },
   {
    "duration": 0,
    "start_time": "2023-04-25T13:23:55.982Z"
   },
   {
    "duration": 0,
    "start_time": "2023-04-25T13:23:55.983Z"
   },
   {
    "duration": 0,
    "start_time": "2023-04-25T13:23:55.985Z"
   },
   {
    "duration": 8042,
    "start_time": "2023-04-25T21:21:17.407Z"
   },
   {
    "duration": 30,
    "start_time": "2023-04-25T21:21:25.452Z"
   },
   {
    "duration": 15,
    "start_time": "2023-04-25T21:21:25.483Z"
   },
   {
    "duration": 5,
    "start_time": "2023-04-25T21:21:25.500Z"
   },
   {
    "duration": 15,
    "start_time": "2023-04-25T21:21:25.508Z"
   },
   {
    "duration": 14,
    "start_time": "2023-04-25T21:21:25.525Z"
   },
   {
    "duration": 7,
    "start_time": "2023-04-25T21:21:25.540Z"
   },
   {
    "duration": 156,
    "start_time": "2023-04-25T21:21:25.548Z"
   },
   {
    "duration": 110,
    "start_time": "2023-04-25T21:21:25.706Z"
   },
   {
    "duration": 6,
    "start_time": "2023-04-25T21:21:25.818Z"
   },
   {
    "duration": 145,
    "start_time": "2023-04-25T21:21:25.825Z"
   },
   {
    "duration": 98,
    "start_time": "2023-04-25T21:21:25.972Z"
   },
   {
    "duration": 4,
    "start_time": "2023-04-25T21:21:26.072Z"
   },
   {
    "duration": 267,
    "start_time": "2023-04-25T21:21:26.079Z"
   },
   {
    "duration": 9,
    "start_time": "2023-04-25T21:21:26.347Z"
   },
   {
    "duration": 345,
    "start_time": "2023-04-25T21:21:26.357Z"
   },
   {
    "duration": 215,
    "start_time": "2023-04-25T21:21:26.704Z"
   },
   {
    "duration": 105,
    "start_time": "2023-04-25T21:21:26.920Z"
   },
   {
    "duration": 7,
    "start_time": "2023-04-25T21:21:27.035Z"
   },
   {
    "duration": 142,
    "start_time": "2023-04-25T21:21:27.044Z"
   },
   {
    "duration": 230,
    "start_time": "2023-04-25T21:21:27.187Z"
   },
   {
    "duration": 99,
    "start_time": "2023-04-25T21:21:27.419Z"
   },
   {
    "duration": 17,
    "start_time": "2023-04-25T21:21:27.520Z"
   },
   {
    "duration": 130,
    "start_time": "2023-04-25T21:21:27.539Z"
   },
   {
    "duration": 5,
    "start_time": "2023-04-25T21:21:27.671Z"
   },
   {
    "duration": 186,
    "start_time": "2023-04-25T21:21:27.678Z"
   },
   {
    "duration": 180,
    "start_time": "2023-04-25T21:21:27.865Z"
   },
   {
    "duration": 5,
    "start_time": "2023-04-25T21:21:28.046Z"
   },
   {
    "duration": 14,
    "start_time": "2023-04-25T21:21:28.053Z"
   },
   {
    "duration": 15,
    "start_time": "2023-04-25T21:21:28.069Z"
   },
   {
    "duration": 7,
    "start_time": "2023-04-25T21:21:28.085Z"
   },
   {
    "duration": 185,
    "start_time": "2023-04-25T21:21:28.094Z"
   },
   {
    "duration": 5,
    "start_time": "2023-04-25T21:21:28.282Z"
   },
   {
    "duration": 12,
    "start_time": "2023-04-25T21:21:28.289Z"
   },
   {
    "duration": 12,
    "start_time": "2023-04-25T21:21:28.303Z"
   },
   {
    "duration": 48,
    "start_time": "2023-04-25T21:21:28.316Z"
   },
   {
    "duration": 8,
    "start_time": "2023-04-25T21:21:28.366Z"
   },
   {
    "duration": 22,
    "start_time": "2023-04-25T21:21:28.376Z"
   },
   {
    "duration": 2332535,
    "start_time": "2023-04-25T21:21:28.399Z"
   },
   {
    "duration": 13,
    "start_time": "2023-04-25T22:00:20.936Z"
   },
   {
    "duration": 25300,
    "start_time": "2023-04-25T22:00:20.953Z"
   },
   {
    "duration": 391,
    "start_time": "2023-04-25T22:00:46.255Z"
   },
   {
    "duration": 9,
    "start_time": "2023-04-25T22:00:46.648Z"
   },
   {
    "duration": 112377,
    "start_time": "2023-04-25T22:00:46.659Z"
   },
   {
    "duration": 8,
    "start_time": "2023-04-25T22:02:39.037Z"
   },
   {
    "duration": 287810,
    "start_time": "2023-04-25T22:02:39.047Z"
   },
   {
    "duration": 80,
    "start_time": "2023-04-25T22:07:26.859Z"
   },
   {
    "duration": 120012,
    "start_time": "2023-04-25T22:07:26.941Z"
   },
   {
    "duration": 273,
    "start_time": "2023-04-25T22:09:26.955Z"
   },
   {
    "duration": 5796,
    "start_time": "2023-04-26T03:29:28.560Z"
   },
   {
    "duration": 30,
    "start_time": "2023-04-26T03:29:34.359Z"
   },
   {
    "duration": 15,
    "start_time": "2023-04-26T03:29:34.391Z"
   },
   {
    "duration": 4,
    "start_time": "2023-04-26T03:29:34.407Z"
   },
   {
    "duration": 19,
    "start_time": "2023-04-26T03:29:34.413Z"
   },
   {
    "duration": 12,
    "start_time": "2023-04-26T03:29:34.433Z"
   },
   {
    "duration": 18,
    "start_time": "2023-04-26T03:29:34.446Z"
   },
   {
    "duration": 169,
    "start_time": "2023-04-26T03:29:34.465Z"
   },
   {
    "duration": 108,
    "start_time": "2023-04-26T03:29:34.636Z"
   },
   {
    "duration": 8,
    "start_time": "2023-04-26T03:29:34.746Z"
   },
   {
    "duration": 137,
    "start_time": "2023-04-26T03:29:34.755Z"
   },
   {
    "duration": 82,
    "start_time": "2023-04-26T03:29:34.893Z"
   },
   {
    "duration": 4,
    "start_time": "2023-04-26T03:29:34.977Z"
   },
   {
    "duration": 238,
    "start_time": "2023-04-26T03:29:34.985Z"
   },
   {
    "duration": 9,
    "start_time": "2023-04-26T03:29:35.225Z"
   },
   {
    "duration": 337,
    "start_time": "2023-04-26T03:29:35.235Z"
   },
   {
    "duration": 210,
    "start_time": "2023-04-26T03:29:35.574Z"
   },
   {
    "duration": 104,
    "start_time": "2023-04-26T03:29:35.786Z"
   },
   {
    "duration": 8,
    "start_time": "2023-04-26T03:29:35.892Z"
   },
   {
    "duration": 122,
    "start_time": "2023-04-26T03:29:35.901Z"
   },
   {
    "duration": 221,
    "start_time": "2023-04-26T03:29:36.024Z"
   },
   {
    "duration": 101,
    "start_time": "2023-04-26T03:29:36.247Z"
   },
   {
    "duration": 4,
    "start_time": "2023-04-26T03:29:36.349Z"
   },
   {
    "duration": 137,
    "start_time": "2023-04-26T03:29:36.355Z"
   },
   {
    "duration": 5,
    "start_time": "2023-04-26T03:29:36.494Z"
   },
   {
    "duration": 170,
    "start_time": "2023-04-26T03:29:36.500Z"
   },
   {
    "duration": 186,
    "start_time": "2023-04-26T03:29:36.671Z"
   },
   {
    "duration": 4,
    "start_time": "2023-04-26T03:29:36.858Z"
   },
   {
    "duration": 40,
    "start_time": "2023-04-26T03:29:36.863Z"
   },
   {
    "duration": 25,
    "start_time": "2023-04-26T03:29:36.905Z"
   },
   {
    "duration": 22,
    "start_time": "2023-04-26T03:29:36.931Z"
   },
   {
    "duration": 178,
    "start_time": "2023-04-26T03:29:36.954Z"
   },
   {
    "duration": 6,
    "start_time": "2023-04-26T03:29:37.134Z"
   },
   {
    "duration": 11,
    "start_time": "2023-04-26T03:29:37.141Z"
   },
   {
    "duration": 14,
    "start_time": "2023-04-26T03:29:37.153Z"
   },
   {
    "duration": 13,
    "start_time": "2023-04-26T03:29:37.169Z"
   },
   {
    "duration": 10,
    "start_time": "2023-04-26T03:29:37.183Z"
   },
   {
    "duration": 13,
    "start_time": "2023-04-26T03:29:37.194Z"
   },
   {
    "duration": 1967944,
    "start_time": "2023-04-26T03:29:37.209Z"
   },
   {
    "duration": 11,
    "start_time": "2023-04-26T04:02:25.154Z"
   },
   {
    "duration": 24273,
    "start_time": "2023-04-26T04:02:25.169Z"
   },
   {
    "duration": 338,
    "start_time": "2023-04-26T04:02:49.444Z"
   },
   {
    "duration": 9,
    "start_time": "2023-04-26T04:02:49.784Z"
   },
   {
    "duration": 98656,
    "start_time": "2023-04-26T04:02:49.795Z"
   },
   {
    "duration": 10,
    "start_time": "2023-04-26T04:04:28.453Z"
   },
   {
    "duration": 250773,
    "start_time": "2023-04-26T04:04:28.465Z"
   },
   {
    "duration": 8,
    "start_time": "2023-04-26T04:08:39.240Z"
   },
   {
    "duration": 126603,
    "start_time": "2023-04-26T04:08:39.249Z"
   },
   {
    "duration": 290,
    "start_time": "2023-04-26T04:10:45.854Z"
   },
   {
    "duration": 2596,
    "start_time": "2023-04-29T02:52:53.709Z"
   },
   {
    "duration": 17,
    "start_time": "2023-04-29T02:53:11.350Z"
   },
   {
    "duration": 8627,
    "start_time": "2023-04-29T02:53:28.490Z"
   },
   {
    "duration": 77,
    "start_time": "2023-04-29T02:53:40.675Z"
   },
   {
    "duration": 19,
    "start_time": "2023-04-29T02:53:42.071Z"
   },
   {
    "duration": 5,
    "start_time": "2023-04-29T02:53:43.335Z"
   },
   {
    "duration": 17,
    "start_time": "2023-04-29T02:53:44.297Z"
   },
   {
    "duration": 15,
    "start_time": "2023-04-29T02:53:44.905Z"
   },
   {
    "duration": 11,
    "start_time": "2023-04-29T02:53:46.309Z"
   },
   {
    "duration": 197,
    "start_time": "2023-04-29T02:53:46.633Z"
   },
   {
    "duration": 125,
    "start_time": "2023-04-29T02:53:46.864Z"
   },
   {
    "duration": 11,
    "start_time": "2023-04-29T02:53:47.838Z"
   },
   {
    "duration": 170,
    "start_time": "2023-04-29T02:53:48.095Z"
   },
   {
    "duration": 315,
    "start_time": "2023-04-29T02:53:48.318Z"
   },
   {
    "duration": 6,
    "start_time": "2023-04-29T02:53:49.328Z"
   },
   {
    "duration": 318,
    "start_time": "2023-04-29T02:53:49.337Z"
   },
   {
    "duration": 10,
    "start_time": "2023-04-29T02:53:49.926Z"
   },
   {
    "duration": 196,
    "start_time": "2023-04-29T02:53:50.135Z"
   },
   {
    "duration": 278,
    "start_time": "2023-04-29T02:53:50.341Z"
   },
   {
    "duration": 149,
    "start_time": "2023-04-29T02:53:50.621Z"
   },
   {
    "duration": 9,
    "start_time": "2023-04-29T02:53:51.417Z"
   },
   {
    "duration": 162,
    "start_time": "2023-04-29T02:53:51.775Z"
   },
   {
    "duration": 265,
    "start_time": "2023-04-29T02:53:52.191Z"
   },
   {
    "duration": 114,
    "start_time": "2023-04-29T02:53:52.649Z"
   },
   {
    "duration": 5,
    "start_time": "2023-04-29T02:53:54.864Z"
   },
   {
    "duration": 175,
    "start_time": "2023-04-29T02:53:55.287Z"
   },
   {
    "duration": 8,
    "start_time": "2023-04-29T02:53:56.665Z"
   },
   {
    "duration": 234,
    "start_time": "2023-04-29T02:53:57.200Z"
   },
   {
    "duration": 226,
    "start_time": "2023-04-29T02:53:57.601Z"
   },
   {
    "duration": 5,
    "start_time": "2023-04-29T02:53:59.374Z"
   },
   {
    "duration": 10,
    "start_time": "2023-04-29T02:54:00.449Z"
   },
   {
    "duration": 12,
    "start_time": "2023-04-29T02:54:01.168Z"
   },
   {
    "duration": 6,
    "start_time": "2023-04-29T02:54:03.834Z"
   },
   {
    "duration": 240,
    "start_time": "2023-04-29T02:54:05.207Z"
   },
   {
    "duration": 10,
    "start_time": "2023-04-29T02:54:08.643Z"
   },
   {
    "duration": 50,
    "start_time": "2023-04-29T02:54:10.443Z"
   },
   {
    "duration": 4,
    "start_time": "2023-04-29T02:54:21.620Z"
   },
   {
    "duration": 21,
    "start_time": "2023-04-29T02:54:22.852Z"
   },
   {
    "duration": 233,
    "start_time": "2023-04-29T02:54:30.998Z"
   },
   {
    "duration": 7,
    "start_time": "2023-04-29T02:54:48.033Z"
   },
   {
    "duration": 4,
    "start_time": "2023-04-29T02:54:48.832Z"
   },
   {
    "duration": 16,
    "start_time": "2023-04-29T02:54:49.281Z"
   },
   {
    "duration": 24,
    "start_time": "2023-04-29T02:55:04.556Z"
   },
   {
    "duration": 25,
    "start_time": "2023-04-29T02:57:23.679Z"
   },
   {
    "duration": 5,
    "start_time": "2023-04-29T02:57:32.731Z"
   },
   {
    "duration": 15,
    "start_time": "2023-04-29T03:03:43.987Z"
   },
   {
    "duration": 8,
    "start_time": "2023-04-29T03:03:46.586Z"
   },
   {
    "duration": 114,
    "start_time": "2023-04-29T03:03:51.562Z"
   },
   {
    "duration": 7,
    "start_time": "2023-04-29T03:04:21.014Z"
   },
   {
    "duration": 8,
    "start_time": "2023-04-29T03:04:38.690Z"
   },
   {
    "duration": 8,
    "start_time": "2023-04-29T03:04:59.643Z"
   },
   {
    "duration": 7,
    "start_time": "2023-04-29T03:06:43.384Z"
   },
   {
    "duration": 4,
    "start_time": "2023-04-29T03:06:44.492Z"
   },
   {
    "duration": 20,
    "start_time": "2023-04-29T03:06:45.391Z"
   },
   {
    "duration": 5,
    "start_time": "2023-04-29T03:06:52.388Z"
   },
   {
    "duration": 10,
    "start_time": "2023-04-29T03:06:54.133Z"
   },
   {
    "duration": 6,
    "start_time": "2023-04-29T03:06:55.376Z"
   },
   {
    "duration": 740804,
    "start_time": "2023-04-29T03:06:57.356Z"
   },
   {
    "duration": 0,
    "start_time": "2023-04-29T03:19:18.162Z"
   },
   {
    "duration": 0,
    "start_time": "2023-04-29T03:19:18.163Z"
   },
   {
    "duration": 7,
    "start_time": "2023-04-29T03:19:26.076Z"
   },
   {
    "duration": 16,
    "start_time": "2023-04-29T03:19:28.915Z"
   },
   {
    "duration": 24,
    "start_time": "2023-04-29T03:20:12.835Z"
   },
   {
    "duration": 8,
    "start_time": "2023-04-29T03:21:13.622Z"
   },
   {
    "duration": 6,
    "start_time": "2023-04-29T03:21:31.155Z"
   },
   {
    "duration": 842,
    "start_time": "2023-04-29T03:22:18.809Z"
   },
   {
    "duration": 8,
    "start_time": "2023-04-29T03:22:29.237Z"
   },
   {
    "duration": 8,
    "start_time": "2023-04-29T03:22:36.645Z"
   },
   {
    "duration": 7,
    "start_time": "2023-04-29T03:22:42.013Z"
   },
   {
    "duration": 10,
    "start_time": "2023-04-29T03:22:55.808Z"
   },
   {
    "duration": 7,
    "start_time": "2023-04-29T03:24:25.597Z"
   },
   {
    "duration": 7,
    "start_time": "2023-04-29T03:24:44.218Z"
   },
   {
    "duration": 6,
    "start_time": "2023-04-29T03:25:01.599Z"
   },
   {
    "duration": 7,
    "start_time": "2023-04-29T03:25:20.120Z"
   },
   {
    "duration": 6,
    "start_time": "2023-04-29T03:25:31.528Z"
   },
   {
    "duration": 6,
    "start_time": "2023-04-29T03:25:43.279Z"
   },
   {
    "duration": 7,
    "start_time": "2023-04-29T03:26:40.388Z"
   },
   {
    "duration": 7,
    "start_time": "2023-04-29T03:26:43.493Z"
   },
   {
    "duration": 18,
    "start_time": "2023-04-29T03:27:19.941Z"
   },
   {
    "duration": 346,
    "start_time": "2023-04-29T03:37:21.656Z"
   },
   {
    "duration": 366,
    "start_time": "2023-04-29T03:37:45.512Z"
   },
   {
    "duration": 331,
    "start_time": "2023-04-29T03:38:31.467Z"
   },
   {
    "duration": 313,
    "start_time": "2023-04-29T03:43:29.808Z"
   },
   {
    "duration": 5,
    "start_time": "2023-04-29T03:44:46.019Z"
   },
   {
    "duration": 344,
    "start_time": "2023-04-29T03:45:10.954Z"
   },
   {
    "duration": 314,
    "start_time": "2023-04-29T03:45:34.104Z"
   },
   {
    "duration": 328,
    "start_time": "2023-04-29T03:46:10.156Z"
   },
   {
    "duration": 574,
    "start_time": "2023-04-29T03:47:06.412Z"
   },
   {
    "duration": 342,
    "start_time": "2023-04-29T03:47:34.028Z"
   },
   {
    "duration": 345,
    "start_time": "2023-04-29T03:48:50.235Z"
   },
   {
    "duration": 308,
    "start_time": "2023-04-29T03:50:57.706Z"
   },
   {
    "duration": 27,
    "start_time": "2023-04-29T03:52:46.359Z"
   },
   {
    "duration": 230,
    "start_time": "2023-04-29T03:54:00.108Z"
   },
   {
    "duration": 225,
    "start_time": "2023-04-29T03:54:44.749Z"
   },
   {
    "duration": 275,
    "start_time": "2023-04-29T03:56:22.406Z"
   },
   {
    "duration": 271,
    "start_time": "2023-04-29T03:56:57.156Z"
   },
   {
    "duration": 219,
    "start_time": "2023-04-29T03:57:28.590Z"
   },
   {
    "duration": 10321,
    "start_time": "2023-04-29T04:00:25.956Z"
   },
   {
    "duration": 32,
    "start_time": "2023-04-29T04:00:36.280Z"
   },
   {
    "duration": 20,
    "start_time": "2023-04-29T04:00:36.314Z"
   },
   {
    "duration": 22,
    "start_time": "2023-04-29T04:00:36.337Z"
   },
   {
    "duration": 17,
    "start_time": "2023-04-29T04:00:36.362Z"
   },
   {
    "duration": 22,
    "start_time": "2023-04-29T04:00:36.381Z"
   },
   {
    "duration": 17,
    "start_time": "2023-04-29T04:00:36.405Z"
   },
   {
    "duration": 10,
    "start_time": "2023-04-29T04:00:36.424Z"
   },
   {
    "duration": 434,
    "start_time": "2023-04-29T04:00:36.436Z"
   },
   {
    "duration": 10,
    "start_time": "2023-04-29T04:00:36.875Z"
   },
   {
    "duration": 381,
    "start_time": "2023-04-29T04:00:36.887Z"
   },
   {
    "duration": 9,
    "start_time": "2023-04-29T04:00:37.270Z"
   },
   {
    "duration": 784,
    "start_time": "2023-04-29T04:00:37.281Z"
   },
   {
    "duration": 11,
    "start_time": "2023-04-29T04:00:38.067Z"
   },
   {
    "duration": 345,
    "start_time": "2023-04-29T04:00:38.081Z"
   },
   {
    "duration": 15,
    "start_time": "2023-04-29T04:00:38.428Z"
   },
   {
    "duration": 325,
    "start_time": "2023-04-29T04:00:38.445Z"
   },
   {
    "duration": 6,
    "start_time": "2023-04-29T04:00:38.773Z"
   },
   {
    "duration": 20,
    "start_time": "2023-04-29T04:00:38.781Z"
   },
   {
    "duration": 18,
    "start_time": "2023-04-29T04:00:38.803Z"
   },
   {
    "duration": 8,
    "start_time": "2023-04-29T04:00:38.847Z"
   },
   {
    "duration": 203,
    "start_time": "2023-04-29T04:00:38.862Z"
   },
   {
    "duration": 8,
    "start_time": "2023-04-29T04:00:39.068Z"
   },
   {
    "duration": 18,
    "start_time": "2023-04-29T04:00:39.078Z"
   },
   {
    "duration": 24,
    "start_time": "2023-04-29T04:00:39.098Z"
   },
   {
    "duration": 21,
    "start_time": "2023-04-29T04:00:39.124Z"
   },
   {
    "duration": 21,
    "start_time": "2023-04-29T04:00:39.148Z"
   },
   {
    "duration": 8,
    "start_time": "2023-04-29T04:00:39.174Z"
   },
   {
    "duration": 19,
    "start_time": "2023-04-29T04:00:39.184Z"
   },
   {
    "duration": 27,
    "start_time": "2023-04-29T04:00:39.205Z"
   },
   {
    "duration": 4212221,
    "start_time": "2023-04-29T04:00:39.234Z"
   },
   {
    "duration": 15,
    "start_time": "2023-04-29T05:10:51.457Z"
   },
   {
    "duration": 38489,
    "start_time": "2023-04-29T05:10:51.474Z"
   },
   {
    "duration": 475,
    "start_time": "2023-04-29T05:11:29.965Z"
   },
   {
    "duration": 13,
    "start_time": "2023-04-29T05:11:30.455Z"
   },
   {
    "duration": 165689,
    "start_time": "2023-04-29T05:11:30.470Z"
   },
   {
    "duration": 9,
    "start_time": "2023-04-29T05:14:16.163Z"
   },
   {
    "duration": 439671,
    "start_time": "2023-04-29T05:14:16.174Z"
   },
   {
    "duration": 12,
    "start_time": "2023-04-29T05:21:35.848Z"
   },
   {
    "duration": 240691,
    "start_time": "2023-04-29T05:21:35.862Z"
   },
   {
    "duration": 333,
    "start_time": "2023-04-29T05:25:36.555Z"
   }
  ],
  "kernelspec": {
   "display_name": "Python 3 (ipykernel)",
   "language": "python",
   "name": "python3"
  },
  "language_info": {
   "codemirror_mode": {
    "name": "ipython",
    "version": 3
   },
   "file_extension": ".py",
   "mimetype": "text/x-python",
   "name": "python",
   "nbconvert_exporter": "python",
   "pygments_lexer": "ipython3",
   "version": "3.9.12"
  },
  "toc": {
   "base_numbering": 1,
   "nav_menu": {},
   "number_sections": false,
   "sideBar": true,
   "skip_h1_title": false,
   "title_cell": "Table of Contents",
   "title_sidebar": "Contents",
   "toc_cell": false,
   "toc_position": {},
   "toc_section_display": true,
   "toc_window_display": false
  },
  "varInspector": {
   "cols": {
    "lenName": 16,
    "lenType": 16,
    "lenVar": 40
   },
   "kernels_config": {
    "python": {
     "delete_cmd_postfix": "",
     "delete_cmd_prefix": "del ",
     "library": "var_list.py",
     "varRefreshCmd": "print(var_dic_list())"
    },
    "r": {
     "delete_cmd_postfix": ") ",
     "delete_cmd_prefix": "rm(",
     "library": "var_list.r",
     "varRefreshCmd": "cat(var_dic_list()) "
    }
   },
   "types_to_exclude": [
    "module",
    "function",
    "builtin_function_or_method",
    "instance",
    "_Feature"
   ],
   "window_display": false
  }
 },
 "nbformat": 4,
 "nbformat_minor": 5
}
