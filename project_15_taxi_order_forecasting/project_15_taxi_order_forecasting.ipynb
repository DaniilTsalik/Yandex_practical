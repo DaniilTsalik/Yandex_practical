{
 "cells": [
  {
   "cell_type": "markdown",
   "metadata": {},
   "source": [
    "## Проект: Прогнозирование заказов такси\n",
    "\n",
    "**Dataset Description**\n",
    "\n",
    "    В данном проекте нам необходимо разработать модель прогнозирования количества заказов такси на следующий час, это прогноз необходим для привлечения дополнительных водителей в периоды пиковых нагрузок.\n",
    "\n",
    "**Данные**\n",
    "\n",
    "    `taxi.csv` - данные о количестве заказов.\n",
    "    \n",
    "**Описание таблиц данных:**\n",
    "\n",
    "    `datetime` - данные о времени.\n",
    "    `num_orders` - количество заказов.\n",
    "    \n",
    "**Цели**\n",
    "\n",
    "    Разработка модели прогнозирования количества заказов такси на следующий час, с метрикой RMSE не более 48.\n",
    "\n",
    "**Структура проекта:**\n",
    "\n",
    "<div class=\"toc\"><ul class=\"toc-item\"><li><span><a href=\"#Проект:-Прогнозирование-заказов-такси\" data-toc-modified-id=\"Проект:-Прогнозирование-заказов-такси-1\"><span class=\"toc-item-num\">1&nbsp;&nbsp;</span>Проект: Прогнозирование заказов такси</a></span></li><li><span><a href=\"#Подготовка\" data-toc-modified-id=\"Подготовка-2\"><span class=\"toc-item-num\">2&nbsp;&nbsp;</span>Подготовка</a></span><ul class=\"toc-item\"><li><span><a href=\"#Импорт-библиотек\" data-toc-modified-id=\"Импорт-библиотек-2.1\"><span class=\"toc-item-num\">2.1&nbsp;&nbsp;</span>Импорт библиотек</a></span></li><li><span><a href=\"#Промежуточный-вывод-1\" data-toc-modified-id=\"Промежуточный-вывод-1-2.2\"><span class=\"toc-item-num\">2.2&nbsp;&nbsp;</span>Промежуточный вывод 1</a></span></li></ul></li><li><span><a href=\"#Анализ\" data-toc-modified-id=\"Анализ-3\"><span class=\"toc-item-num\">3&nbsp;&nbsp;</span>Анализ</a></span><ul class=\"toc-item\"><li><span><a href=\"#Промежуточный-вывод-2\" data-toc-modified-id=\"Промежуточный-вывод-2-3.1\"><span class=\"toc-item-num\">3.1&nbsp;&nbsp;</span>Промежуточный вывод 2</a></span></li></ul></li><li><span><a href=\"#Обучение\" data-toc-modified-id=\"Обучение-4\"><span class=\"toc-item-num\">4&nbsp;&nbsp;</span>Обучение</a></span><ul class=\"toc-item\"><li><span><a href=\"#LinearRegression\" data-toc-modified-id=\"LinearRegression-4.1\"><span class=\"toc-item-num\">4.1&nbsp;&nbsp;</span>LinearRegression</a></span></li><li><span><a href=\"#DecisionTreeRegressor\" data-toc-modified-id=\"DecisionTreeRegressor-4.2\"><span class=\"toc-item-num\">4.2&nbsp;&nbsp;</span>DecisionTreeRegressor</a></span></li><li><span><a href=\"#CatBoostRegressor\" data-toc-modified-id=\"CatBoostRegressor-4.3\"><span class=\"toc-item-num\">4.3&nbsp;&nbsp;</span>CatBoostRegressor</a></span></li><li><span><a href=\"#Промежуточный-вывод-3\" data-toc-modified-id=\"Промежуточный-вывод-3-4.4\"><span class=\"toc-item-num\">4.4&nbsp;&nbsp;</span>Промежуточный вывод 3</a></span></li></ul></li><li><span><a href=\"#Тестирование\" data-toc-modified-id=\"Тестирование-5\"><span class=\"toc-item-num\">5&nbsp;&nbsp;</span>Тестирование</a></span><ul class=\"toc-item\"><li><span><a href=\"#Общий-вывод\" data-toc-modified-id=\"Общий-вывод-5.1\"><span class=\"toc-item-num\">5.1&nbsp;&nbsp;</span>Общий вывод</a></span></li></ul></li><li><span><a href=\"#Чек-лист-проверки\" data-toc-modified-id=\"Чек-лист-проверки-6\"><span class=\"toc-item-num\">6&nbsp;&nbsp;</span>Чек-лист проверки</a></span></li></ul></div>\n",
    "\n",
    "**Предмет исследования:**\n",
    "\n",
    "    Исторические данные о заказах в разрезе времени.\n",
    "\n",
    "**Методы:**\n",
    "\n",
    "    Загрузка и предобработка данных.\n",
    "    Ресемплирование.\n",
    "    Создание моделей машинного обучения.\n",
    "    Тюнинг гиперпараметров моделей машинного обучения.\n",
    "\n",
    "**Используемые библитеки:**\n",
    "\n",
    "    * Pandas\n",
    "    * Sklearn\n",
    "    * Optuna\n",
    "    * Seaborn\n",
    "    * Numpy\n",
    "    * Matplotlib\n",
    "    * Catboost"
   ]
  },
  {
   "cell_type": "markdown",
   "metadata": {},
   "source": [
    "#  Прогнозирование заказов такси"
   ]
  },
  {
   "cell_type": "markdown",
   "metadata": {},
   "source": [
    "Компания «Чётенькое такси» собрала исторические данные о заказах такси в аэропортах. Чтобы привлекать больше водителей в период пиковой нагрузки, нужно спрогнозировать количество заказов такси на следующий час. Постройте модель для такого предсказания.\n",
    "\n",
    "Значение метрики *RMSE* на тестовой выборке должно быть не больше 48.\n",
    "\n",
    "Вам нужно:\n",
    "\n",
    "1. Загрузить данные и выполнить их ресемплирование по одному часу.\n",
    "2. Проанализировать данные.\n",
    "3. Обучить разные модели с различными гиперпараметрами. Сделать тестовую выборку размером 10% от исходных данных.\n",
    "4. Проверить данные на тестовой выборке и сделать выводы.\n",
    "\n",
    "\n",
    "Данные лежат в файле `taxi.csv`. Количество заказов находится в столбце `num_orders` (от англ. *number of orders*, «число заказов»)."
   ]
  },
  {
   "cell_type": "markdown",
   "metadata": {},
   "source": [
    "## Подготовка"
   ]
  },
  {
   "cell_type": "markdown",
   "metadata": {},
   "source": [
    "### Импорт библиотек"
   ]
  },
  {
   "cell_type": "markdown",
   "metadata": {},
   "source": [
    "Для начала импортируем необходимые библиотеки, объявим константы и выполним настройку отображения диаграмм:"
   ]
  },
  {
   "cell_type": "code",
   "execution_count": 1,
   "metadata": {
    "scrolled": true
   },
   "outputs": [
    {
     "name": "stdout",
     "output_type": "stream",
     "text": [
      "Requirement already satisfied: optuna in /opt/conda/lib/python3.9/site-packages (3.1.1)\n",
      "Requirement already satisfied: cmaes>=0.9.1 in /opt/conda/lib/python3.9/site-packages (from optuna) (0.9.1)\n",
      "Requirement already satisfied: tqdm in /opt/conda/lib/python3.9/site-packages (from optuna) (4.61.2)\n",
      "Requirement already satisfied: packaging>=20.0 in /opt/conda/lib/python3.9/site-packages (from optuna) (21.3)\n",
      "Requirement already satisfied: sqlalchemy>=1.3.0 in /opt/conda/lib/python3.9/site-packages (from optuna) (1.4.20)\n",
      "Requirement already satisfied: numpy in /opt/conda/lib/python3.9/site-packages (from optuna) (1.21.1)\n",
      "Requirement already satisfied: PyYAML in /opt/conda/lib/python3.9/site-packages (from optuna) (6.0)\n",
      "Requirement already satisfied: alembic>=1.5.0 in /opt/conda/lib/python3.9/site-packages (from optuna) (1.6.5)\n",
      "Requirement already satisfied: colorlog in /opt/conda/lib/python3.9/site-packages (from optuna) (6.7.0)\n",
      "Requirement already satisfied: python-dateutil in /opt/conda/lib/python3.9/site-packages (from alembic>=1.5.0->optuna) (2.8.1)\n",
      "Requirement already satisfied: python-editor>=0.3 in /opt/conda/lib/python3.9/site-packages (from alembic>=1.5.0->optuna) (1.0.4)\n",
      "Requirement already satisfied: Mako in /opt/conda/lib/python3.9/site-packages (from alembic>=1.5.0->optuna) (1.1.4)\n",
      "Requirement already satisfied: pyparsing!=3.0.5,>=2.0.2 in /opt/conda/lib/python3.9/site-packages (from packaging>=20.0->optuna) (2.4.7)\n",
      "Requirement already satisfied: greenlet!=0.4.17 in /opt/conda/lib/python3.9/site-packages (from sqlalchemy>=1.3.0->optuna) (1.1.0)\n",
      "Requirement already satisfied: MarkupSafe>=0.9.2 in /opt/conda/lib/python3.9/site-packages (from Mako->alembic>=1.5.0->optuna) (2.1.1)\n",
      "Requirement already satisfied: six>=1.5 in /opt/conda/lib/python3.9/site-packages (from python-dateutil->alembic>=1.5.0->optuna) (1.16.0)\n"
     ]
    }
   ],
   "source": [
    "! pip install optuna\n",
    "\n",
    "import pandas as pd\n",
    "import numpy as np\n",
    "import seaborn as sns\n",
    "import optuna\n",
    "import matplotlib.pyplot as plt\n",
    "\n",
    "from catboost import CatBoostRegressor\n",
    "from statsmodels.tsa.seasonal import seasonal_decompose\n",
    "from sklearn.model_selection import TimeSeriesSplit\n",
    "from sklearn.model_selection import train_test_split\n",
    "from sklearn.metrics import mean_squared_error\n",
    "from sklearn.linear_model import LinearRegression\n",
    "from sklearn.tree import DecisionTreeRegressor\n",
    "\n",
    "RANDOM_SEED = 12345\n",
    "\n",
    "sns.set(rc={'figure.figsize':(20, 7)})"
   ]
  },
  {
   "cell_type": "markdown",
   "metadata": {},
   "source": [
    "Приступим к загрузке данных:"
   ]
  },
  {
   "cell_type": "code",
   "execution_count": 2,
   "metadata": {},
   "outputs": [],
   "source": [
    "df = pd.read_csv('/datasets/taxi.csv')"
   ]
  },
  {
   "cell_type": "markdown",
   "metadata": {},
   "source": [
    "Взглянем на корректность загрузки, проверим первые строки датасета:"
   ]
  },
  {
   "cell_type": "code",
   "execution_count": 3,
   "metadata": {},
   "outputs": [
    {
     "data": {
      "text/html": [
       "<div>\n",
       "<style scoped>\n",
       "    .dataframe tbody tr th:only-of-type {\n",
       "        vertical-align: middle;\n",
       "    }\n",
       "\n",
       "    .dataframe tbody tr th {\n",
       "        vertical-align: top;\n",
       "    }\n",
       "\n",
       "    .dataframe thead th {\n",
       "        text-align: right;\n",
       "    }\n",
       "</style>\n",
       "<table border=\"1\" class=\"dataframe\">\n",
       "  <thead>\n",
       "    <tr style=\"text-align: right;\">\n",
       "      <th></th>\n",
       "      <th>datetime</th>\n",
       "      <th>num_orders</th>\n",
       "    </tr>\n",
       "  </thead>\n",
       "  <tbody>\n",
       "    <tr>\n",
       "      <th>0</th>\n",
       "      <td>2018-03-01 00:00:00</td>\n",
       "      <td>9</td>\n",
       "    </tr>\n",
       "    <tr>\n",
       "      <th>1</th>\n",
       "      <td>2018-03-01 00:10:00</td>\n",
       "      <td>14</td>\n",
       "    </tr>\n",
       "    <tr>\n",
       "      <th>2</th>\n",
       "      <td>2018-03-01 00:20:00</td>\n",
       "      <td>28</td>\n",
       "    </tr>\n",
       "    <tr>\n",
       "      <th>3</th>\n",
       "      <td>2018-03-01 00:30:00</td>\n",
       "      <td>20</td>\n",
       "    </tr>\n",
       "    <tr>\n",
       "      <th>4</th>\n",
       "      <td>2018-03-01 00:40:00</td>\n",
       "      <td>32</td>\n",
       "    </tr>\n",
       "  </tbody>\n",
       "</table>\n",
       "</div>"
      ],
      "text/plain": [
       "              datetime  num_orders\n",
       "0  2018-03-01 00:00:00           9\n",
       "1  2018-03-01 00:10:00          14\n",
       "2  2018-03-01 00:20:00          28\n",
       "3  2018-03-01 00:30:00          20\n",
       "4  2018-03-01 00:40:00          32"
      ]
     },
     "execution_count": 3,
     "metadata": {},
     "output_type": "execute_result"
    }
   ],
   "source": [
    "df.head()"
   ]
  },
  {
   "cell_type": "markdown",
   "metadata": {},
   "source": [
    "Данные загружены корректно, ознакомимся с общей информацией о датасете:"
   ]
  },
  {
   "cell_type": "code",
   "execution_count": 4,
   "metadata": {},
   "outputs": [
    {
     "name": "stdout",
     "output_type": "stream",
     "text": [
      "<class 'pandas.core.frame.DataFrame'>\n",
      "RangeIndex: 26496 entries, 0 to 26495\n",
      "Data columns (total 2 columns):\n",
      " #   Column      Non-Null Count  Dtype \n",
      "---  ------      --------------  ----- \n",
      " 0   datetime    26496 non-null  object\n",
      " 1   num_orders  26496 non-null  int64 \n",
      "dtypes: int64(1), object(1)\n",
      "memory usage: 414.1+ KB\n"
     ]
    }
   ],
   "source": [
    "df.info()"
   ]
  },
  {
   "cell_type": "markdown",
   "metadata": {},
   "source": [
    "Мы имеем, две колонки: \n",
    "* `datetime`, тип данных object, пропущенные значения отсутсвуют\n",
    "* `num_orders`, тип данных int64, пропущенные значения отсутсвуют"
   ]
  },
  {
   "cell_type": "markdown",
   "metadata": {},
   "source": [
    "Переведем данных в колонке `datetime` к типу 'datetime64'"
   ]
  },
  {
   "cell_type": "code",
   "execution_count": 5,
   "metadata": {},
   "outputs": [
    {
     "name": "stdout",
     "output_type": "stream",
     "text": [
      "<class 'pandas.core.frame.DataFrame'>\n",
      "RangeIndex: 26496 entries, 0 to 26495\n",
      "Data columns (total 2 columns):\n",
      " #   Column      Non-Null Count  Dtype         \n",
      "---  ------      --------------  -----         \n",
      " 0   datetime    26496 non-null  datetime64[ns]\n",
      " 1   num_orders  26496 non-null  int64         \n",
      "dtypes: datetime64[ns](1), int64(1)\n",
      "memory usage: 414.1 KB\n"
     ]
    }
   ],
   "source": [
    "df['datetime'] = df['datetime'].astype('datetime64')\n",
    "\n",
    "df.info()"
   ]
  },
  {
   "cell_type": "markdown",
   "metadata": {},
   "source": [
    "Зададим индекс типа DatetimeIndex для нашего датасета:"
   ]
  },
  {
   "cell_type": "code",
   "execution_count": 6,
   "metadata": {},
   "outputs": [
    {
     "name": "stdout",
     "output_type": "stream",
     "text": [
      "<class 'pandas.core.frame.DataFrame'>\n",
      "DatetimeIndex: 26496 entries, 2018-03-01 00:00:00 to 2018-08-31 23:50:00\n",
      "Data columns (total 1 columns):\n",
      " #   Column      Non-Null Count  Dtype\n",
      "---  ------      --------------  -----\n",
      " 0   num_orders  26496 non-null  int64\n",
      "dtypes: int64(1)\n",
      "memory usage: 414.0 KB\n"
     ]
    }
   ],
   "source": [
    "df.index = df['datetime']\n",
    "df = df.drop('datetime', axis=1)\n",
    "\n",
    "df.info()"
   ]
  },
  {
   "cell_type": "markdown",
   "metadata": {},
   "source": [
    "Проверим корректность отображения:"
   ]
  },
  {
   "cell_type": "code",
   "execution_count": 7,
   "metadata": {},
   "outputs": [
    {
     "data": {
      "text/html": [
       "<div>\n",
       "<style scoped>\n",
       "    .dataframe tbody tr th:only-of-type {\n",
       "        vertical-align: middle;\n",
       "    }\n",
       "\n",
       "    .dataframe tbody tr th {\n",
       "        vertical-align: top;\n",
       "    }\n",
       "\n",
       "    .dataframe thead th {\n",
       "        text-align: right;\n",
       "    }\n",
       "</style>\n",
       "<table border=\"1\" class=\"dataframe\">\n",
       "  <thead>\n",
       "    <tr style=\"text-align: right;\">\n",
       "      <th></th>\n",
       "      <th>num_orders</th>\n",
       "    </tr>\n",
       "    <tr>\n",
       "      <th>datetime</th>\n",
       "      <th></th>\n",
       "    </tr>\n",
       "  </thead>\n",
       "  <tbody>\n",
       "    <tr>\n",
       "      <th>2018-03-01 00:00:00</th>\n",
       "      <td>9</td>\n",
       "    </tr>\n",
       "    <tr>\n",
       "      <th>2018-03-01 00:10:00</th>\n",
       "      <td>14</td>\n",
       "    </tr>\n",
       "    <tr>\n",
       "      <th>2018-03-01 00:20:00</th>\n",
       "      <td>28</td>\n",
       "    </tr>\n",
       "    <tr>\n",
       "      <th>2018-03-01 00:30:00</th>\n",
       "      <td>20</td>\n",
       "    </tr>\n",
       "    <tr>\n",
       "      <th>2018-03-01 00:40:00</th>\n",
       "      <td>32</td>\n",
       "    </tr>\n",
       "  </tbody>\n",
       "</table>\n",
       "</div>"
      ],
      "text/plain": [
       "                     num_orders\n",
       "datetime                       \n",
       "2018-03-01 00:00:00           9\n",
       "2018-03-01 00:10:00          14\n",
       "2018-03-01 00:20:00          28\n",
       "2018-03-01 00:30:00          20\n",
       "2018-03-01 00:40:00          32"
      ]
     },
     "execution_count": 7,
     "metadata": {},
     "output_type": "execute_result"
    }
   ],
   "source": [
    "df.head()"
   ]
  },
  {
   "cell_type": "markdown",
   "metadata": {},
   "source": [
    "### Промежуточный вывод 1"
   ]
  },
  {
   "cell_type": "markdown",
   "metadata": {},
   "source": [
    "На данном этапе мы импортировали необходимые библиотеки, загрузили данные, привели данные к нужным типам и установили индекс датасета типа DatetimeIndex."
   ]
  },
  {
   "cell_type": "markdown",
   "metadata": {},
   "source": [
    "## Анализ"
   ]
  },
  {
   "cell_type": "markdown",
   "metadata": {},
   "source": [
    "Оценим наши данные на монотонность:"
   ]
  },
  {
   "cell_type": "code",
   "execution_count": 8,
   "metadata": {},
   "outputs": [
    {
     "data": {
      "text/plain": [
       "True"
      ]
     },
     "execution_count": 8,
     "metadata": {},
     "output_type": "execute_result"
    }
   ],
   "source": [
    "df.index.is_monotonic"
   ]
  },
  {
   "cell_type": "markdown",
   "metadata": {},
   "source": [
    "Отлично данные монотонны, произведем ресемплирование датасета с шагом 1 час."
   ]
  },
  {
   "cell_type": "code",
   "execution_count": 9,
   "metadata": {},
   "outputs": [],
   "source": [
    "df = df.resample('1H').sum()"
   ]
  },
  {
   "cell_type": "markdown",
   "metadata": {},
   "source": [
    "Взглянем на скользящее среднее и скользящее стандартное отклонение:"
   ]
  },
  {
   "cell_type": "code",
   "execution_count": 10,
   "metadata": {},
   "outputs": [
    {
     "data": {
      "text/plain": [
       "<AxesSubplot:xlabel='datetime'>"
      ]
     },
     "execution_count": 10,
     "metadata": {},
     "output_type": "execute_result"
    },
    {
     "data": {
      "image/png": "[encoded data removed]",
      "text/plain": [
       "<Figure size 1440x504 with 1 Axes>"
      ]
     },
     "metadata": {},
     "output_type": "display_data"
    }
   ],
   "source": [
    "df_stat = df.copy()\n",
    "df_stat['mean'] = df_stat['num_orders'].rolling(24*7).mean()\n",
    "df_stat['std'] = df_stat['num_orders'].rolling(24*7).std()\n",
    "df_stat.plot() "
   ]
  },
  {
   "cell_type": "markdown",
   "metadata": {},
   "source": [
    "Мы имеем данные с марта 2018 - август 2018 года, видим постепенное увеличение скользящего среднего и скользящего отклонения."
   ]
  },
  {
   "cell_type": "markdown",
   "metadata": {},
   "source": [
    "Взглянем на декомпозиция данных:"
   ]
  },
  {
   "cell_type": "code",
   "execution_count": 11,
   "metadata": {},
   "outputs": [],
   "source": [
    "decomposed = seasonal_decompose(df)"
   ]
  },
  {
   "cell_type": "code",
   "execution_count": 12,
   "metadata": {},
   "outputs": [
    {
     "data": {
      "image/png": "[encoded data removed]",
      "text/plain": [
       "<Figure size 1440x720 with 3 Axes>"
      ]
     },
     "metadata": {},
     "output_type": "display_data"
    }
   ],
   "source": [
    "plt.figure(figsize=(20, 10))\n",
    "plt.subplot(311)\n",
    "# Чтобы график корректно отобразился, указываем его\n",
    "# оси ax, равными plt.gca() (англ. get current axis,\n",
    "# получить текущие оси)\n",
    "decomposed.trend.plot(ax=plt.gca())\n",
    "plt.title('Trend')\n",
    "plt.subplot(312)\n",
    "decomposed.seasonal.tail(24*7).plot(ax=plt.gca())\n",
    "plt.title('Seasonality')\n",
    "plt.subplot(313)\n",
    "decomposed.resid .plot(ax=plt.gca())\n",
    "plt.title('Residuals')\n",
    "plt.tight_layout()"
   ]
  },
  {
   "cell_type": "markdown",
   "metadata": {},
   "source": [
    "На графиках декомпозиции отчетливо виден восходящей тренд, а также ярко выраженна сезонность в разрезе суток."
   ]
  },
  {
   "cell_type": "markdown",
   "metadata": {},
   "source": [
    "### Промежуточный вывод 2"
   ]
  },
  {
   "cell_type": "markdown",
   "metadata": {},
   "source": [
    "* На данном этапе проекта мы проверили наши данные на монотонность, проанализировали скользящее среднее и скользящее стандартное отклонение. \n",
    "* Декомпозировали данные. \n",
    "* Определили что наши данные имеют восходящий тренд и вараженную сезонность в разрезе суток."
   ]
  },
  {
   "cell_type": "markdown",
   "metadata": {},
   "source": [
    "## Обучение"
   ]
  },
  {
   "cell_type": "markdown",
   "metadata": {},
   "source": [
    "Мы будем проверять следующие модели:\n",
    "* LinearRegression\n",
    "* DecisionTreeRegressor\n",
    "* CatBoostRegressor\n",
    "\n",
    "в качестве целевой метрики будет использована RMSE, для оценки адекватности моделей - будем сравнивать их с моделью без обучения, точнее с моделью которая прогнозирует предыдущими значениями временного ряда.\n",
    "\n",
    "Разделение данных будем производить на тренировочную и тестовую выборки в пропорции 90:10.\n",
    "\n",
    "При помощи функции `make_features` выделим новые признаки из датасета.\n",
    "\n",
    "Подбор гиперпараметров моделей и оптимальный шаг для отстающих значений подбираем при помощи библиотеки optuna.\n",
    "\n",
    "Для вычисления метрики на тренировочных данных, производим разбиение их на выборки при помощи TimeSeriesSplit и усредняем результаты.\n",
    "\n",
    "По результатам обучения, выберем наилучшую модель - для финального тестирования на тестовых данных."
   ]
  },
  {
   "cell_type": "markdown",
   "metadata": {},
   "source": [
    "Результаты тестирование будут храниться в словаре `score_dict`. Для начала проверим модель которая прогнозирует предыдущими значениями временного ряда:"
   ]
  },
  {
   "cell_type": "code",
   "execution_count": 13,
   "metadata": {},
   "outputs": [],
   "source": [
    "score_dict = {}\n",
    "\n",
    "train, test = train_test_split(df, shuffle=False, test_size=0.1, random_state=RANDOM_SEED)\n",
    "\n",
    "pred_previous = test.shift(periods=1)\n",
    "pred_previous.iloc[0][0] = train.iloc[-1][0]\n",
    "\n",
    "score_dict['One_day_predictor'] = mean_squared_error(pred_previous['num_orders'], test['num_orders'], squared=False)"
   ]
  },
  {
   "cell_type": "markdown",
   "metadata": {},
   "source": [
    "Функция для выделения дополнительных календарных признаков:"
   ]
  },
  {
   "cell_type": "code",
   "execution_count": 14,
   "metadata": {},
   "outputs": [],
   "source": [
    "def make_features(data, max_lag, rolling_mean_size):\n",
    "    \n",
    "    new_data = data.copy()\n",
    "    \n",
    "    new_data['month'] = new_data.index.month\n",
    "    new_data['day'] = new_data.index.day\n",
    "    new_data['dayofweek'] = new_data.index.dayofweek\n",
    "    new_data['hour'] = new_data.index.hour\n",
    "    for lag in range(1, max_lag + 1):\n",
    "        new_data['lag_{}'.format(lag)] = new_data['num_orders'].shift(lag)\n",
    "\n",
    "    new_data['rolling_mean'] = new_data['num_orders'].shift().rolling(rolling_mean_size).mean()\n",
    "    return new_data"
   ]
  },
  {
   "cell_type": "markdown",
   "metadata": {},
   "source": [
    "### LinearRegression"
   ]
  },
  {
   "cell_type": "code",
   "execution_count": 15,
   "metadata": {},
   "outputs": [
    {
     "name": "stderr",
     "output_type": "stream",
     "text": [
      "\u001b[32m[I 2023-05-19 09:56:53,750]\u001b[0m A new study created in memory with name: no-name-68c0e13a-3eb5-4ab2-8730-20556e3cfa44\u001b[0m\n"
     ]
    },
    {
     "name": "stdout",
     "output_type": "stream",
     "text": [
      "________________START_________________\n"
     ]
    },
    {
     "name": "stderr",
     "output_type": "stream",
     "text": [
      "\u001b[32m[I 2023-05-19 09:56:54,313]\u001b[0m Trial 0 finished with value: 31.838814545219442 and parameters: {'max_lag': 10}. Best is trial 0 with value: 31.838814545219442.\u001b[0m\n",
      "\u001b[32m[I 2023-05-19 09:56:54,520]\u001b[0m Trial 1 finished with value: 31.742179807485613 and parameters: {'max_lag': 4}. Best is trial 1 with value: 31.742179807485613.\u001b[0m\n"
     ]
    },
    {
     "name": "stdout",
     "output_type": "stream",
     "text": [
      "________________STOP__________________\n",
      "________________START_________________\n",
      "________________STOP__________________\n",
      "________________START_________________\n"
     ]
    },
    {
     "name": "stderr",
     "output_type": "stream",
     "text": [
      "\u001b[32m[I 2023-05-19 09:56:54,611]\u001b[0m Trial 2 finished with value: 31.85267263998873 and parameters: {'max_lag': 2}. Best is trial 1 with value: 31.742179807485613.\u001b[0m\n",
      "\u001b[32m[I 2023-05-19 09:56:54,697]\u001b[0m Trial 3 finished with value: 31.74769587753312 and parameters: {'max_lag': 3}. Best is trial 1 with value: 31.742179807485613.\u001b[0m\n",
      "\u001b[32m[I 2023-05-19 09:56:54,733]\u001b[0m Trial 4 finished with value: 31.886614741839274 and parameters: {'max_lag': 6}. Best is trial 1 with value: 31.742179807485613.\u001b[0m\n"
     ]
    },
    {
     "name": "stdout",
     "output_type": "stream",
     "text": [
      "________________STOP__________________\n",
      "________________START_________________\n",
      "________________STOP__________________\n",
      "________________START_________________\n",
      "________________STOP__________________\n",
      "________________START_________________\n"
     ]
    },
    {
     "name": "stderr",
     "output_type": "stream",
     "text": [
      "\u001b[32m[I 2023-05-19 09:56:54,916]\u001b[0m Trial 5 finished with value: 31.886614741839274 and parameters: {'max_lag': 6}. Best is trial 1 with value: 31.742179807485613.\u001b[0m\n"
     ]
    },
    {
     "name": "stdout",
     "output_type": "stream",
     "text": [
      "________________STOP__________________\n",
      "________________START_________________\n"
     ]
    },
    {
     "name": "stderr",
     "output_type": "stream",
     "text": [
      "\u001b[32m[I 2023-05-19 09:56:55,497]\u001b[0m Trial 6 finished with value: 31.838814545219442 and parameters: {'max_lag': 10}. Best is trial 1 with value: 31.742179807485613.\u001b[0m\n"
     ]
    },
    {
     "name": "stdout",
     "output_type": "stream",
     "text": [
      "________________STOP__________________\n",
      "________________START_________________\n"
     ]
    },
    {
     "name": "stderr",
     "output_type": "stream",
     "text": [
      "\u001b[32m[I 2023-05-19 09:56:55,900]\u001b[0m Trial 7 finished with value: 31.91363093614796 and parameters: {'max_lag': 7}. Best is trial 1 with value: 31.742179807485613.\u001b[0m\n"
     ]
    },
    {
     "name": "stdout",
     "output_type": "stream",
     "text": [
      "________________STOP__________________\n",
      "________________START_________________\n"
     ]
    },
    {
     "name": "stderr",
     "output_type": "stream",
     "text": [
      "\u001b[32m[I 2023-05-19 09:56:56,299]\u001b[0m Trial 8 finished with value: 31.940969618924257 and parameters: {'max_lag': 8}. Best is trial 1 with value: 31.742179807485613.\u001b[0m\n"
     ]
    },
    {
     "name": "stdout",
     "output_type": "stream",
     "text": [
      "________________STOP__________________\n",
      "________________START_________________\n"
     ]
    },
    {
     "name": "stderr",
     "output_type": "stream",
     "text": [
      "\u001b[32m[I 2023-05-19 09:56:56,611]\u001b[0m Trial 9 finished with value: 31.91363093614796 and parameters: {'max_lag': 7}. Best is trial 1 with value: 31.742179807485613.\u001b[0m\n"
     ]
    },
    {
     "name": "stdout",
     "output_type": "stream",
     "text": [
      "________________STOP__________________\n"
     ]
    }
   ],
   "source": [
    "best_lr_model = None\n",
    "best_lr_score = 48\n",
    "\n",
    "def objective(trial):\n",
    "    \n",
    "    global best_lr_model, best_lr_score\n",
    "    \n",
    "    print('________________START_________________')\n",
    "    \n",
    "    \n",
    "    accuracy = []\n",
    "    tscv = TimeSeriesSplit(n_splits=4) \n",
    "    \n",
    "    features_df = make_features(df, trial.suggest_int('max_lag', 1, 10), 1)\n",
    "\n",
    "    train, test = train_test_split(features_df, shuffle=False, test_size=0.1)\n",
    "    train = train.dropna()\n",
    "    \n",
    "    \n",
    "    param = {}\n",
    "        \n",
    "    for train_index, test_index in tscv.split(train):\n",
    "        \n",
    "        X_train, y_train = train.iloc[train_index].drop('num_orders', axis=1), train.iloc[train_index].num_orders\n",
    "        X_test, y_test = train.iloc[test_index].drop('num_orders', axis=1), train.iloc[test_index].num_orders\n",
    "\n",
    "        model = LinearRegression(**param).fit(X_train, y_train)\n",
    "\n",
    "        prediction = model.predict(X_test)\n",
    "    \n",
    "        accuracy.append(mean_squared_error(y_test, prediction, squared=False))\n",
    "        \n",
    "    final_accuracy = np.mean(np.array(accuracy))\n",
    "    \n",
    "    if final_accuracy < best_lr_score:\n",
    "        best_lr_model = model\n",
    "        best_lr_score = final_accuracy\n",
    "    \n",
    "    print('________________STOP__________________')\n",
    "    \n",
    "    return final_accuracy\n",
    "\n",
    "\n",
    "    \n",
    "study = optuna.create_study(sampler=optuna.samplers.TPESampler(seed=RANDOM_SEED), pruner=optuna.pruners.MedianPruner(), direction='minimize')\n",
    "study.optimize(objective, n_trials=10, n_jobs=1)\n",
    "    \n",
    "params_lr = study.best_params\n",
    "\n",
    "score_dict['LinearRegression'] = best_lr_score"
   ]
  },
  {
   "cell_type": "markdown",
   "metadata": {},
   "source": [
    "### DecisionTreeRegressor"
   ]
  },
  {
   "cell_type": "code",
   "execution_count": 16,
   "metadata": {},
   "outputs": [
    {
     "name": "stderr",
     "output_type": "stream",
     "text": [
      "\u001b[32m[I 2023-05-19 09:56:56,795]\u001b[0m A new study created in memory with name: no-name-7130711b-1020-42d3-982d-353f6320913a\u001b[0m\n"
     ]
    },
    {
     "name": "stdout",
     "output_type": "stream",
     "text": [
      "________________START_________________\n"
     ]
    },
    {
     "name": "stderr",
     "output_type": "stream",
     "text": [
      "\u001b[32m[I 2023-05-19 09:56:56,850]\u001b[0m Trial 0 finished with value: 35.945908824491234 and parameters: {'max_lag': 10, 'max_depth': 16, 'min_samples_split': 5, 'min_samples_leaf': 5, 'min_weight_fraction_leaf': 0.2838625145408433, 'max_features': 'sqrt', 'random_state': 66}. Best is trial 0 with value: 35.945908824491234.\u001b[0m\n",
      "\u001b[32m[I 2023-05-19 09:56:56,911]\u001b[0m Trial 1 finished with value: 34.833647386746975 and parameters: {'max_lag': 8, 'max_depth': 49, 'min_samples_split': 2, 'min_samples_leaf': 3, 'min_weight_fraction_leaf': 0.14935185688469077, 'max_features': None, 'random_state': 73}. Best is trial 1 with value: 34.833647386746975.\u001b[0m\n",
      "\u001b[32m[I 2023-05-19 09:56:56,947]\u001b[0m Trial 2 finished with value: 37.60757935272681 and parameters: {'max_lag': 7, 'max_depth': 36, 'min_samples_split': 10, 'min_samples_leaf': 7, 'min_weight_fraction_leaf': 0.21982230294240473, 'max_features': 'sqrt', 'random_state': 18}. Best is trial 1 with value: 34.833647386746975.\u001b[0m\n",
      "\u001b[32m[I 2023-05-19 09:56:56,980]\u001b[0m Trial 3 finished with value: 34.783725599024336 and parameters: {'max_lag': 1, 'max_depth': 41, 'min_samples_split': 19, 'min_samples_leaf': 1, 'min_weight_fraction_leaf': 0.24587365922294296, 'max_features': None, 'random_state': 73}. Best is trial 3 with value: 34.783725599024336.\u001b[0m\n"
     ]
    },
    {
     "name": "stdout",
     "output_type": "stream",
     "text": [
      "________________STOP__________________\n",
      "________________START_________________\n",
      "________________STOP__________________\n",
      "________________START_________________\n",
      "________________STOP__________________\n",
      "________________START_________________\n",
      "________________STOP__________________\n",
      "________________START_________________\n"
     ]
    },
    {
     "name": "stderr",
     "output_type": "stream",
     "text": [
      "\u001b[32m[I 2023-05-19 09:56:57,039]\u001b[0m Trial 4 finished with value: 34.4411257532754 and parameters: {'max_lag': 9, 'max_depth': 26, 'min_samples_split': 17, 'min_samples_leaf': 2, 'min_weight_fraction_leaf': 0.10947502186604674, 'max_features': None, 'random_state': 18}. Best is trial 4 with value: 34.4411257532754.\u001b[0m\n"
     ]
    },
    {
     "name": "stdout",
     "output_type": "stream",
     "text": [
      "________________STOP__________________\n",
      "________________START_________________\n"
     ]
    },
    {
     "name": "stderr",
     "output_type": "stream",
     "text": [
      "\u001b[32m[I 2023-05-19 09:56:57,082]\u001b[0m Trial 5 finished with value: 35.574251009710906 and parameters: {'max_lag': 6, 'max_depth': 9, 'min_samples_split': 16, 'min_samples_leaf': 19, 'min_weight_fraction_leaf': 0.30474682899675176, 'max_features': None, 'random_state': 92}. Best is trial 4 with value: 34.4411257532754.\u001b[0m\n",
      "\u001b[32m[I 2023-05-19 09:56:57,134]\u001b[0m Trial 6 finished with value: 32.615896842256255 and parameters: {'max_lag': 4, 'max_depth': 16, 'min_samples_split': 12, 'min_samples_leaf': 4, 'min_weight_fraction_leaf': 0.06292077191368511, 'max_features': None, 'random_state': 64}. Best is trial 6 with value: 32.615896842256255.\u001b[0m\n",
      "\u001b[32m[I 2023-05-19 09:56:57,175]\u001b[0m Trial 7 finished with value: 38.72945060770937 and parameters: {'max_lag': 9, 'max_depth': 25, 'min_samples_split': 8, 'min_samples_leaf': 15, 'min_weight_fraction_leaf': 0.25196455822395775, 'max_features': 'log2', 'random_state': 92}. Best is trial 6 with value: 32.615896842256255.\u001b[0m\n",
      "\u001b[32m[I 2023-05-19 09:56:57,234]\u001b[0m Trial 8 finished with value: 34.34385275121298 and parameters: {'max_lag': 10, 'max_depth': 27, 'min_samples_split': 6, 'min_samples_leaf': 15, 'min_weight_fraction_leaf': 0.18371938189728865, 'max_features': None, 'random_state': 32}. Best is trial 6 with value: 32.615896842256255.\u001b[0m\n"
     ]
    },
    {
     "name": "stdout",
     "output_type": "stream",
     "text": [
      "________________STOP__________________\n",
      "________________START_________________\n",
      "________________STOP__________________\n",
      "________________START_________________\n",
      "________________STOP__________________\n",
      "________________START_________________\n",
      "________________STOP__________________\n",
      "________________START_________________\n"
     ]
    },
    {
     "name": "stderr",
     "output_type": "stream",
     "text": [
      "\u001b[32m[I 2023-05-19 09:56:57,295]\u001b[0m Trial 9 finished with value: 31.433500000746594 and parameters: {'max_lag': 8, 'max_depth': 40, 'min_samples_split': 18, 'min_samples_leaf': 19, 'min_weight_fraction_leaf': 0.05366145610052209, 'max_features': 'auto', 'random_state': 5}. Best is trial 9 with value: 31.433500000746594.\u001b[0m\n",
      "\u001b[32m[I 2023-05-19 09:56:57,367]\u001b[0m Trial 10 finished with value: 28.520416927864268 and parameters: {'max_lag': 3, 'max_depth': 49, 'min_samples_split': 14, 'min_samples_leaf': 20, 'min_weight_fraction_leaf': 0.010326008479363512, 'max_features': 'auto', 'random_state': 3}. Best is trial 10 with value: 28.520416927864268.\u001b[0m\n",
      "\u001b[32m[I 2023-05-19 09:56:57,447]\u001b[0m Trial 11 finished with value: 28.037861724881623 and parameters: {'max_lag': 3, 'max_depth': 49, 'min_samples_split': 14, 'min_samples_leaf': 20, 'min_weight_fraction_leaf': 0.0032669533887833, 'max_features': 'auto', 'random_state': 2}. Best is trial 11 with value: 28.037861724881623.\u001b[0m\n"
     ]
    },
    {
     "name": "stdout",
     "output_type": "stream",
     "text": [
      "________________STOP__________________\n",
      "________________START_________________\n",
      "________________STOP__________________\n",
      "________________START_________________\n",
      "________________STOP__________________\n",
      "________________START_________________\n"
     ]
    },
    {
     "name": "stderr",
     "output_type": "stream",
     "text": [
      "\u001b[32m[I 2023-05-19 09:56:57,527]\u001b[0m Trial 12 finished with value: 28.070699164900162 and parameters: {'max_lag': 3, 'max_depth': 49, 'min_samples_split': 14, 'min_samples_leaf': 15, 'min_weight_fraction_leaf': 0.006612320159453924, 'max_features': 'auto', 'random_state': 1}. Best is trial 11 with value: 28.037861724881623.\u001b[0m\n",
      "\u001b[32m[I 2023-05-19 09:56:57,609]\u001b[0m Trial 13 finished with value: 28.13704812439166 and parameters: {'max_lag': 3, 'max_depth': 50, 'min_samples_split': 14, 'min_samples_leaf': 15, 'min_weight_fraction_leaf': 0.005742668190145689, 'max_features': 'auto', 'random_state': 40}. Best is trial 11 with value: 28.037861724881623.\u001b[0m\n",
      "\u001b[32m[I 2023-05-19 09:56:57,664]\u001b[0m Trial 14 finished with value: 36.39988993997649 and parameters: {'max_lag': 1, 'max_depth': 34, 'min_samples_split': 12, 'min_samples_leaf': 11, 'min_weight_fraction_leaf': 0.3669693301967889, 'max_features': 'auto', 'random_state': 21}. Best is trial 11 with value: 28.037861724881623.\u001b[0m\n"
     ]
    },
    {
     "name": "stdout",
     "output_type": "stream",
     "text": [
      "________________STOP__________________\n",
      "________________START_________________\n",
      "________________STOP__________________\n",
      "________________START_________________\n",
      "________________STOP__________________\n",
      "________________START_________________\n"
     ]
    },
    {
     "name": "stderr",
     "output_type": "stream",
     "text": [
      "\u001b[32m[I 2023-05-19 09:56:57,734]\u001b[0m Trial 15 finished with value: 34.27630990840528 and parameters: {'max_lag': 4, 'max_depth': 43, 'min_samples_split': 15, 'min_samples_leaf': 12, 'min_weight_fraction_leaf': 0.12165696612037438, 'max_features': 'auto', 'random_state': 49}. Best is trial 11 with value: 28.037861724881623.\u001b[0m\n",
      "\u001b[32m[I 2023-05-19 09:56:57,797]\u001b[0m Trial 16 finished with value: 38.832087185155785 and parameters: {'max_lag': 2, 'max_depth': 33, 'min_samples_split': 20, 'min_samples_leaf': 17, 'min_weight_fraction_leaf': 0.49026455734834856, 'max_features': 'log2', 'random_state': 3}. Best is trial 11 with value: 28.037861724881623.\u001b[0m\n",
      "\u001b[32m[I 2023-05-19 09:56:57,867]\u001b[0m Trial 17 finished with value: 32.6800303811943 and parameters: {'max_lag': 5, 'max_depth': 44, 'min_samples_split': 10, 'min_samples_leaf': 8, 'min_weight_fraction_leaf': 0.06533722689593059, 'max_features': 'auto', 'random_state': 29}. Best is trial 11 with value: 28.037861724881623.\u001b[0m\n"
     ]
    },
    {
     "name": "stdout",
     "output_type": "stream",
     "text": [
      "________________STOP__________________\n",
      "________________START_________________\n",
      "________________STOP__________________\n",
      "________________START_________________\n",
      "________________STOP__________________\n",
      "________________START_________________\n"
     ]
    },
    {
     "name": "stderr",
     "output_type": "stream",
     "text": [
      "\u001b[32m[I 2023-05-19 09:56:57,950]\u001b[0m Trial 18 finished with value: 27.80841736317646 and parameters: {'max_lag': 3, 'max_depth': 46, 'min_samples_split': 13, 'min_samples_leaf': 13, 'min_weight_fraction_leaf': 0.00025080205024678726, 'max_features': 'auto', 'random_state': 11}. Best is trial 18 with value: 27.80841736317646.\u001b[0m\n",
      "\u001b[32m[I 2023-05-19 09:56:58,016]\u001b[0m Trial 19 finished with value: 33.12836513734827 and parameters: {'max_lag': 2, 'max_depth': 6, 'min_samples_split': 8, 'min_samples_leaf': 13, 'min_weight_fraction_leaf': 0.09557688679446792, 'max_features': 'auto', 'random_state': 15}. Best is trial 18 with value: 27.80841736317646.\u001b[0m\n",
      "\u001b[32m[I 2023-05-19 09:56:58,077]\u001b[0m Trial 20 finished with value: 39.64987880771671 and parameters: {'max_lag': 5, 'max_depth': 1, 'min_samples_split': 12, 'min_samples_leaf': 8, 'min_weight_fraction_leaf': 0.17099623291388202, 'max_features': 'log2', 'random_state': 44}. Best is trial 18 with value: 27.80841736317646.\u001b[0m\n"
     ]
    },
    {
     "name": "stdout",
     "output_type": "stream",
     "text": [
      "________________STOP__________________\n",
      "________________START_________________\n",
      "________________STOP__________________\n",
      "________________START_________________\n",
      "________________STOP__________________\n",
      "________________START_________________\n"
     ]
    },
    {
     "name": "stderr",
     "output_type": "stream",
     "text": [
      "\u001b[32m[I 2023-05-19 09:56:58,154]\u001b[0m Trial 21 finished with value: 28.6124601423655 and parameters: {'max_lag': 3, 'max_depth': 46, 'min_samples_split': 14, 'min_samples_leaf': 17, 'min_weight_fraction_leaf': 0.010927601908693317, 'max_features': 'auto', 'random_state': 8}. Best is trial 18 with value: 27.80841736317646.\u001b[0m\n",
      "\u001b[32m[I 2023-05-19 09:56:58,264]\u001b[0m Trial 22 finished with value: 28.30907124521893 and parameters: {'max_lag': 4, 'max_depth': 38, 'min_samples_split': 16, 'min_samples_leaf': 17, 'min_weight_fraction_leaf': 0.004181708739928605, 'max_features': 'auto', 'random_state': 13}. Best is trial 18 with value: 27.80841736317646.\u001b[0m\n",
      "\u001b[32m[I 2023-05-19 09:56:58,327]\u001b[0m Trial 23 finished with value: 32.16522004582754 and parameters: {'max_lag': 2, 'max_depth': 45, 'min_samples_split': 11, 'min_samples_leaf': 13, 'min_weight_fraction_leaf': 0.05563178750436912, 'max_features': 'auto', 'random_state': 28}. Best is trial 18 with value: 27.80841736317646.\u001b[0m\n"
     ]
    },
    {
     "name": "stdout",
     "output_type": "stream",
     "text": [
      "________________STOP__________________\n",
      "________________START_________________\n",
      "________________STOP__________________\n",
      "________________START_________________\n",
      "________________STOP__________________\n",
      "________________START_________________\n"
     ]
    },
    {
     "name": "stderr",
     "output_type": "stream",
     "text": [
      "\u001b[32m[I 2023-05-19 09:56:58,401]\u001b[0m Trial 24 finished with value: 37.7497123391211 and parameters: {'max_lag': 6, 'max_depth': 30, 'min_samples_split': 13, 'min_samples_leaf': 10, 'min_weight_fraction_leaf': 0.08690087942145477, 'max_features': 'sqrt', 'random_state': 1}. Best is trial 18 with value: 27.80841736317646.\u001b[0m\n",
      "\u001b[32m[I 2023-05-19 09:56:58,480]\u001b[0m Trial 25 finished with value: 31.181436082547204 and parameters: {'max_lag': 3, 'max_depth': 47, 'min_samples_split': 17, 'min_samples_leaf': 14, 'min_weight_fraction_leaf': 0.039358834532993395, 'max_features': 'auto', 'random_state': 11}. Best is trial 18 with value: 27.80841736317646.\u001b[0m\n",
      "\u001b[32m[I 2023-05-19 09:56:58,550]\u001b[0m Trial 26 finished with value: 34.71024083469384 and parameters: {'max_lag': 4, 'max_depth': 41, 'min_samples_split': 15, 'min_samples_leaf': 10, 'min_weight_fraction_leaf': 0.13032870603937916, 'max_features': 'auto', 'random_state': 25}. Best is trial 18 with value: 27.80841736317646.\u001b[0m\n"
     ]
    },
    {
     "name": "stdout",
     "output_type": "stream",
     "text": [
      "________________STOP__________________\n",
      "________________START_________________\n",
      "________________STOP__________________\n",
      "________________START_________________\n",
      "________________STOP__________________\n",
      "________________START_________________\n"
     ]
    },
    {
     "name": "stderr",
     "output_type": "stream",
     "text": [
      "\u001b[32m[I 2023-05-19 09:56:58,620]\u001b[0m Trial 27 finished with value: 31.1193679736481 and parameters: {'max_lag': 2, 'max_depth': 50, 'min_samples_split': 9, 'min_samples_leaf': 18, 'min_weight_fraction_leaf': 0.03809581621178484, 'max_features': 'auto', 'random_state': 39}. Best is trial 18 with value: 27.80841736317646.\u001b[0m\n",
      "\u001b[32m[I 2023-05-19 09:56:58,683]\u001b[0m Trial 28 finished with value: 33.14353623525737 and parameters: {'max_lag': 1, 'max_depth': 38, 'min_samples_split': 13, 'min_samples_leaf': 15, 'min_weight_fraction_leaf': 0.09905101037635851, 'max_features': 'auto', 'random_state': 12}. Best is trial 18 with value: 27.80841736317646.\u001b[0m\n",
      "\u001b[32m[I 2023-05-19 09:56:58,754]\u001b[0m Trial 29 finished with value: 34.25715436865432 and parameters: {'max_lag': 5, 'max_depth': 18, 'min_samples_split': 11, 'min_samples_leaf': 20, 'min_weight_fraction_leaf': 0.0831510880074131, 'max_features': 'sqrt', 'random_state': 57}. Best is trial 18 with value: 27.80841736317646.\u001b[0m\n"
     ]
    },
    {
     "name": "stdout",
     "output_type": "stream",
     "text": [
      "________________STOP__________________\n",
      "________________START_________________\n",
      "________________STOP__________________\n",
      "________________START_________________\n",
      "________________STOP__________________\n",
      "________________START_________________\n"
     ]
    },
    {
     "name": "stderr",
     "output_type": "stream",
     "text": [
      "\u001b[32m[I 2023-05-19 09:56:58,827]\u001b[0m Trial 30 finished with value: 32.64146977427605 and parameters: {'max_lag': 3, 'max_depth': 46, 'min_samples_split': 6, 'min_samples_leaf': 16, 'min_weight_fraction_leaf': 0.036805683891399085, 'max_features': 'log2', 'random_state': 100}. Best is trial 18 with value: 27.80841736317646.\u001b[0m\n",
      "\u001b[32m[I 2023-05-19 09:56:58,913]\u001b[0m Trial 31 finished with value: 28.050457356359285 and parameters: {'max_lag': 3, 'max_depth': 50, 'min_samples_split': 14, 'min_samples_leaf': 13, 'min_weight_fraction_leaf': 0.0058501703901221586, 'max_features': 'auto', 'random_state': 39}. Best is trial 18 with value: 27.80841736317646.\u001b[0m\n",
      "\u001b[32m[I 2023-05-19 09:56:59,015]\u001b[0m Trial 32 finished with value: 27.879743734313514 and parameters: {'max_lag': 4, 'max_depth': 50, 'min_samples_split': 15, 'min_samples_leaf': 12, 'min_weight_fraction_leaf': 0.0018436791866201952, 'max_features': 'auto', 'random_state': 34}. Best is trial 18 with value: 27.80841736317646.\u001b[0m\n"
     ]
    },
    {
     "name": "stdout",
     "output_type": "stream",
     "text": [
      "________________STOP__________________\n",
      "________________START_________________\n",
      "________________STOP__________________\n",
      "________________START_________________\n",
      "________________STOP__________________\n",
      "________________START_________________\n"
     ]
    },
    {
     "name": "stderr",
     "output_type": "stream",
     "text": [
      "\u001b[32m[I 2023-05-19 09:56:59,099]\u001b[0m Trial 33 finished with value: 30.838821641433288 and parameters: {'max_lag': 4, 'max_depth': 43, 'min_samples_split': 3, 'min_samples_leaf': 6, 'min_weight_fraction_leaf': 0.03160699683246031, 'max_features': 'auto', 'random_state': 35}. Best is trial 18 with value: 27.80841736317646.\u001b[0m\n",
      "\u001b[32m[I 2023-05-19 09:56:59,162]\u001b[0m Trial 34 finished with value: 33.49621786549755 and parameters: {'max_lag': 2, 'max_depth': 47, 'min_samples_split': 16, 'min_samples_leaf': 11, 'min_weight_fraction_leaf': 0.07534400974909648, 'max_features': 'sqrt', 'random_state': 51}. Best is trial 18 with value: 27.80841736317646.\u001b[0m\n",
      "\u001b[32m[I 2023-05-19 09:56:59,270]\u001b[0m Trial 35 finished with value: 31.323167431572127 and parameters: {'max_lag': 5, 'max_depth': 42, 'min_samples_split': 18, 'min_samples_leaf': 9, 'min_weight_fraction_leaf': 0.034916969639334716, 'max_features': 'auto', 'random_state': 21}. Best is trial 18 with value: 27.80841736317646.\u001b[0m\n"
     ]
    },
    {
     "name": "stdout",
     "output_type": "stream",
     "text": [
      "________________STOP__________________\n",
      "________________START_________________\n",
      "________________STOP__________________\n",
      "________________START_________________\n",
      "________________STOP__________________\n",
      "________________START_________________\n"
     ]
    },
    {
     "name": "stderr",
     "output_type": "stream",
     "text": [
      "\u001b[32m[I 2023-05-19 09:56:59,343]\u001b[0m Trial 36 finished with value: 34.515414249519836 and parameters: {'max_lag': 6, 'max_depth': 21, 'min_samples_split': 15, 'min_samples_leaf': 13, 'min_weight_fraction_leaf': 0.11640265251880696, 'max_features': 'auto', 'random_state': 23}. Best is trial 18 with value: 27.80841736317646.\u001b[0m\n",
      "\u001b[32m[I 2023-05-19 09:56:59,408]\u001b[0m Trial 37 finished with value: 34.90651092167526 and parameters: {'max_lag': 4, 'max_depth': 47, 'min_samples_split': 13, 'min_samples_leaf': 12, 'min_weight_fraction_leaf': 0.13781386637114273, 'max_features': 'sqrt', 'random_state': 61}. Best is trial 18 with value: 27.80841736317646.\u001b[0m\n",
      "\u001b[32m[I 2023-05-19 09:56:59,481]\u001b[0m Trial 38 finished with value: 31.719084968096062 and parameters: {'max_lag': 7, 'max_depth': 39, 'min_samples_split': 17, 'min_samples_leaf': 12, 'min_weight_fraction_leaf': 0.0643708146556265, 'max_features': 'auto', 'random_state': 75}. Best is trial 18 with value: 27.80841736317646.\u001b[0m\n"
     ]
    },
    {
     "name": "stdout",
     "output_type": "stream",
     "text": [
      "________________STOP__________________\n",
      "________________START_________________\n",
      "________________STOP__________________\n",
      "________________START_________________\n",
      "________________STOP__________________\n",
      "________________START_________________\n"
     ]
    },
    {
     "name": "stderr",
     "output_type": "stream",
     "text": [
      "\u001b[32m[I 2023-05-19 09:56:59,555]\u001b[0m Trial 39 finished with value: 30.330695660700705 and parameters: {'max_lag': 1, 'max_depth': 50, 'min_samples_split': 10, 'min_samples_leaf': 7, 'min_weight_fraction_leaf': 0.02641893618840645, 'max_features': None, 'random_state': 36}. Best is trial 18 with value: 27.80841736317646.\u001b[0m\n",
      "\u001b[32m[I 2023-05-19 09:56:59,624]\u001b[0m Trial 40 finished with value: 34.16279748071636 and parameters: {'max_lag': 3, 'max_depth': 44, 'min_samples_split': 19, 'min_samples_leaf': 4, 'min_weight_fraction_leaf': 0.1550476412635232, 'max_features': 'auto', 'random_state': 48}. Best is trial 18 with value: 27.80841736317646.\u001b[0m\n",
      "\u001b[32m[I 2023-05-19 09:56:59,704]\u001b[0m Trial 41 finished with value: 28.055896281430144 and parameters: {'max_lag': 3, 'max_depth': 48, 'min_samples_split': 14, 'min_samples_leaf': 14, 'min_weight_fraction_leaf': 0.0063433204506911905, 'max_features': 'auto', 'random_state': 8}. Best is trial 18 with value: 27.80841736317646.\u001b[0m\n"
     ]
    },
    {
     "name": "stdout",
     "output_type": "stream",
     "text": [
      "________________STOP__________________\n",
      "________________START_________________\n",
      "________________STOP__________________\n",
      "________________START_________________\n",
      "________________STOP__________________\n",
      "________________START_________________\n"
     ]
    },
    {
     "name": "stderr",
     "output_type": "stream",
     "text": [
      "\u001b[32m[I 2023-05-19 09:56:59,785]\u001b[0m Trial 42 finished with value: 28.460299829832415 and parameters: {'max_lag': 4, 'max_depth': 47, 'min_samples_split': 12, 'min_samples_leaf': 14, 'min_weight_fraction_leaf': 0.005940485282366851, 'max_features': 'auto', 'random_state': 8}. Best is trial 18 with value: 27.80841736317646.\u001b[0m\n",
      "\u001b[32m[I 2023-05-19 09:56:59,856]\u001b[0m Trial 43 finished with value: 32.19979717214985 and parameters: {'max_lag': 2, 'max_depth': 36, 'min_samples_split': 16, 'min_samples_leaf': 14, 'min_weight_fraction_leaf': 0.05736932997167354, 'max_features': 'auto', 'random_state': 17}. Best is trial 18 with value: 27.80841736317646.\u001b[0m\n",
      "\u001b[32m[I 2023-05-19 09:56:59,940]\u001b[0m Trial 44 finished with value: 27.925278940349127 and parameters: {'max_lag': 3, 'max_depth': 48, 'min_samples_split': 13, 'min_samples_leaf': 16, 'min_weight_fraction_leaf': 0.002435414956190054, 'max_features': None, 'random_state': 7}. Best is trial 18 with value: 27.80841736317646.\u001b[0m\n"
     ]
    },
    {
     "name": "stdout",
     "output_type": "stream",
     "text": [
      "________________STOP__________________\n",
      "________________START_________________\n",
      "________________STOP__________________\n",
      "________________START_________________\n",
      "________________STOP__________________\n",
      "________________START_________________\n"
     ]
    },
    {
     "name": "stderr",
     "output_type": "stream",
     "text": [
      "\u001b[32m[I 2023-05-19 09:57:00,031]\u001b[0m Trial 45 finished with value: 31.568224236108716 and parameters: {'max_lag': 4, 'max_depth': 50, 'min_samples_split': 13, 'min_samples_leaf': 19, 'min_weight_fraction_leaf': 0.04895406384267698, 'max_features': None, 'random_state': 31}. Best is trial 18 with value: 27.80841736317646.\u001b[0m\n",
      "\u001b[32m[I 2023-05-19 09:57:00,126]\u001b[0m Trial 46 finished with value: 30.34798843326002 and parameters: {'max_lag': 3, 'max_depth': 41, 'min_samples_split': 15, 'min_samples_leaf': 16, 'min_weight_fraction_leaf': 0.02754003178348855, 'max_features': None, 'random_state': 74}. Best is trial 18 with value: 27.80841736317646.\u001b[0m\n",
      "\u001b[32m[I 2023-05-19 09:57:00,208]\u001b[0m Trial 47 finished with value: 32.579196908133746 and parameters: {'max_lag': 2, 'max_depth': 45, 'min_samples_split': 11, 'min_samples_leaf': 18, 'min_weight_fraction_leaf': 0.07265619089559071, 'max_features': None, 'random_state': 18}. Best is trial 18 with value: 27.80841736317646.\u001b[0m\n"
     ]
    },
    {
     "name": "stdout",
     "output_type": "stream",
     "text": [
      "________________STOP__________________\n",
      "________________START_________________\n",
      "________________STOP__________________\n",
      "________________START_________________\n",
      "________________STOP__________________\n",
      "________________START_________________\n"
     ]
    },
    {
     "name": "stderr",
     "output_type": "stream",
     "text": [
      "\u001b[32m[I 2023-05-19 09:57:00,285]\u001b[0m Trial 48 finished with value: 33.72370881965648 and parameters: {'max_lag': 5, 'max_depth': 49, 'min_samples_split': 12, 'min_samples_leaf': 12, 'min_weight_fraction_leaf': 0.10141083412378132, 'max_features': None, 'random_state': 44}. Best is trial 18 with value: 27.80841736317646.\u001b[0m\n",
      "\u001b[32m[I 2023-05-19 09:57:00,370]\u001b[0m Trial 49 finished with value: 27.925278940349127 and parameters: {'max_lag': 3, 'max_depth': 44, 'min_samples_split': 15, 'min_samples_leaf': 16, 'min_weight_fraction_leaf': 0.0005314965078155576, 'max_features': None, 'random_state': 7}. Best is trial 18 with value: 27.80841736317646.\u001b[0m\n",
      "\u001b[32m[I 2023-05-19 09:57:00,463]\u001b[0m Trial 50 finished with value: 30.60729061575563 and parameters: {'max_lag': 4, 'max_depth': 30, 'min_samples_split': 18, 'min_samples_leaf': 16, 'min_weight_fraction_leaf': 0.026249449759613488, 'max_features': None, 'random_state': 6}. Best is trial 18 with value: 27.80841736317646.\u001b[0m\n"
     ]
    },
    {
     "name": "stdout",
     "output_type": "stream",
     "text": [
      "________________STOP__________________\n",
      "________________START_________________\n",
      "________________STOP__________________\n",
      "________________START_________________\n",
      "________________STOP__________________\n",
      "________________START_________________\n"
     ]
    },
    {
     "name": "stderr",
     "output_type": "stream",
     "text": [
      "\u001b[32m[I 2023-05-19 09:57:00,560]\u001b[0m Trial 51 finished with value: 27.901501506202294 and parameters: {'max_lag': 3, 'max_depth': 44, 'min_samples_split': 15, 'min_samples_leaf': 11, 'min_weight_fraction_leaf': 0.0027990624013922065, 'max_features': None, 'random_state': 11}. Best is trial 18 with value: 27.80841736317646.\u001b[0m\n",
      "\u001b[32m[I 2023-05-19 09:57:00,649]\u001b[0m Trial 52 finished with value: 27.901501506202294 and parameters: {'max_lag': 3, 'max_depth': 43, 'min_samples_split': 15, 'min_samples_leaf': 11, 'min_weight_fraction_leaf': 0.001535777552572058, 'max_features': None, 'random_state': 10}. Best is trial 18 with value: 27.80841736317646.\u001b[0m\n",
      "\u001b[32m[I 2023-05-19 09:57:00,723]\u001b[0m Trial 53 finished with value: 31.764787889368932 and parameters: {'max_lag': 2, 'max_depth': 43, 'min_samples_split': 17, 'min_samples_leaf': 9, 'min_weight_fraction_leaf': 0.052500048100110525, 'max_features': None, 'random_state': 12}. Best is trial 18 with value: 27.80841736317646.\u001b[0m\n"
     ]
    },
    {
     "name": "stdout",
     "output_type": "stream",
     "text": [
      "________________STOP__________________\n",
      "________________START_________________\n",
      "________________STOP__________________\n",
      "________________START_________________\n",
      "________________STOP__________________\n",
      "________________START_________________\n"
     ]
    },
    {
     "name": "stderr",
     "output_type": "stream",
     "text": [
      "\u001b[32m[I 2023-05-19 09:57:00,818]\u001b[0m Trial 54 finished with value: 29.908584277719264 and parameters: {'max_lag': 4, 'max_depth': 37, 'min_samples_split': 16, 'min_samples_leaf': 11, 'min_weight_fraction_leaf': 0.02152782388337637, 'max_features': None, 'random_state': 6}. Best is trial 18 with value: 27.80841736317646.\u001b[0m\n",
      "\u001b[32m[I 2023-05-19 09:57:00,911]\u001b[0m Trial 55 finished with value: 30.000541095947508 and parameters: {'max_lag': 3, 'max_depth': 40, 'min_samples_split': 15, 'min_samples_leaf': 10, 'min_weight_fraction_leaf': 0.02198715876710169, 'max_features': None, 'random_state': 15}. Best is trial 18 with value: 27.80841736317646.\u001b[0m\n",
      "\u001b[32m[I 2023-05-19 09:57:00,980]\u001b[0m Trial 56 finished with value: 32.02076659480606 and parameters: {'max_lag': 1, 'max_depth': 34, 'min_samples_split': 13, 'min_samples_leaf': 12, 'min_weight_fraction_leaf': 0.05469097533712326, 'max_features': None, 'random_state': 26}. Best is trial 18 with value: 27.80841736317646.\u001b[0m\n"
     ]
    },
    {
     "name": "stdout",
     "output_type": "stream",
     "text": [
      "________________STOP__________________\n",
      "________________START_________________\n",
      "________________STOP__________________\n",
      "________________START_________________\n",
      "________________STOP__________________\n",
      "________________START_________________\n"
     ]
    },
    {
     "name": "stderr",
     "output_type": "stream",
     "text": [
      "\u001b[32m[I 2023-05-19 09:57:01,058]\u001b[0m Trial 57 finished with value: 32.68568692767351 and parameters: {'max_lag': 2, 'max_depth': 42, 'min_samples_split': 16, 'min_samples_leaf': 9, 'min_weight_fraction_leaf': 0.0752946129407363, 'max_features': None, 'random_state': 20}. Best is trial 18 with value: 27.80841736317646.\u001b[0m\n",
      "\u001b[32m[I 2023-05-19 09:57:01,156]\u001b[0m Trial 58 finished with value: 29.50256937653788 and parameters: {'max_lag': 3, 'max_depth': 45, 'min_samples_split': 15, 'min_samples_leaf': 1, 'min_weight_fraction_leaf': 8.89299243548127e-05, 'max_features': None, 'random_state': 10}. Best is trial 18 with value: 27.80841736317646.\u001b[0m\n"
     ]
    },
    {
     "name": "stdout",
     "output_type": "stream",
     "text": [
      "________________STOP__________________\n",
      "________________START_________________\n",
      "________________STOP__________________\n",
      "________________START_________________\n"
     ]
    },
    {
     "name": "stderr",
     "output_type": "stream",
     "text": [
      "\u001b[32m[I 2023-05-19 09:57:01,261]\u001b[0m Trial 59 finished with value: 31.411028173109514 and parameters: {'max_lag': 2, 'max_depth': 40, 'min_samples_split': 14, 'min_samples_leaf': 11, 'min_weight_fraction_leaf': 0.04661841185864146, 'max_features': None, 'random_state': 4}. Best is trial 18 with value: 27.80841736317646.\u001b[0m\n",
      "\u001b[32m[I 2023-05-19 09:57:01,338]\u001b[0m Trial 60 finished with value: 30.879207633363986 and parameters: {'max_lag': 3, 'max_depth': 36, 'min_samples_split': 18, 'min_samples_leaf': 13, 'min_weight_fraction_leaf': 0.017333705958594244, 'max_features': 'log2', 'random_state': 17}. Best is trial 18 with value: 27.80841736317646.\u001b[0m\n",
      "\u001b[32m[I 2023-05-19 09:57:01,435]\u001b[0m Trial 61 finished with value: 28.037861724881623 and parameters: {'max_lag': 3, 'max_depth': 48, 'min_samples_split': 14, 'min_samples_leaf': 20, 'min_weight_fraction_leaf': 0.0028864531537595934, 'max_features': None, 'random_state': 1}. Best is trial 18 with value: 27.80841736317646.\u001b[0m\n"
     ]
    },
    {
     "name": "stdout",
     "output_type": "stream",
     "text": [
      "________________STOP__________________\n",
      "________________START_________________\n",
      "________________STOP__________________\n",
      "________________START_________________\n",
      "________________STOP__________________\n",
      "________________START_________________\n"
     ]
    },
    {
     "name": "stderr",
     "output_type": "stream",
     "text": [
      "\u001b[32m[I 2023-05-19 09:57:01,548]\u001b[0m Trial 62 finished with value: 30.28833200163902 and parameters: {'max_lag': 10, 'max_depth': 44, 'min_samples_split': 15, 'min_samples_leaf': 18, 'min_weight_fraction_leaf': 0.021402031599495386, 'max_features': None, 'random_state': 15}. Best is trial 18 with value: 27.80841736317646.\u001b[0m\n",
      "\u001b[32m[I 2023-05-19 09:57:01,628]\u001b[0m Trial 63 finished with value: 31.37492214317599 and parameters: {'max_lag': 4, 'max_depth': 46, 'min_samples_split': 12, 'min_samples_leaf': 17, 'min_weight_fraction_leaf': 0.039343983807652146, 'max_features': None, 'random_state': 4}. Best is trial 18 with value: 27.80841736317646.\u001b[0m\n",
      "\u001b[32m[I 2023-05-19 09:57:01,706]\u001b[0m Trial 64 finished with value: 33.460419798538794 and parameters: {'max_lag': 3, 'max_depth': 11, 'min_samples_split': 13, 'min_samples_leaf': 19, 'min_weight_fraction_leaf': 0.09093541662708994, 'max_features': 'log2', 'random_state': 9}. Best is trial 18 with value: 27.80841736317646.\u001b[0m\n"
     ]
    },
    {
     "name": "stdout",
     "output_type": "stream",
     "text": [
      "________________STOP__________________\n",
      "________________START_________________\n",
      "________________STOP__________________\n",
      "________________START_________________\n",
      "________________STOP__________________\n",
      "________________START_________________\n"
     ]
    },
    {
     "name": "stderr",
     "output_type": "stream",
     "text": [
      "\u001b[32m[I 2023-05-19 09:57:01,812]\u001b[0m Trial 65 finished with value: 28.379517918628416 and parameters: {'max_lag': 4, 'max_depth': 48, 'min_samples_split': 16, 'min_samples_leaf': 15, 'min_weight_fraction_leaf': 0.0004847319336423474, 'max_features': None, 'random_state': 1}. Best is trial 18 with value: 27.80841736317646.\u001b[0m\n",
      "\u001b[32m[I 2023-05-19 09:57:01,902]\u001b[0m Trial 66 finished with value: 32.4102768986401 and parameters: {'max_lag': 3, 'max_depth': 45, 'min_samples_split': 14, 'min_samples_leaf': 10, 'min_weight_fraction_leaf': 0.06633211652269604, 'max_features': None, 'random_state': 11}. Best is trial 18 with value: 27.80841736317646.\u001b[0m\n",
      "\u001b[32m[I 2023-05-19 09:57:01,972]\u001b[0m Trial 67 finished with value: 32.07497625966337 and parameters: {'max_lag': 2, 'max_depth': 42, 'min_samples_split': 17, 'min_samples_leaf': 16, 'min_weight_fraction_leaf': 0.017844110159541817, 'max_features': 'sqrt', 'random_state': 14}. Best is trial 18 with value: 27.80841736317646.\u001b[0m\n"
     ]
    },
    {
     "name": "stdout",
     "output_type": "stream",
     "text": [
      "________________STOP__________________\n",
      "________________START_________________\n",
      "________________STOP__________________\n",
      "________________START_________________\n",
      "________________STOP__________________\n",
      "________________START_________________\n"
     ]
    },
    {
     "name": "stderr",
     "output_type": "stream",
     "text": [
      "\u001b[32m[I 2023-05-19 09:57:02,063]\u001b[0m Trial 68 finished with value: 31.617465718799686 and parameters: {'max_lag': 5, 'max_depth': 48, 'min_samples_split': 13, 'min_samples_leaf': 11, 'min_weight_fraction_leaf': 0.04554830641280623, 'max_features': None, 'random_state': 5}. Best is trial 18 with value: 27.80841736317646.\u001b[0m\n",
      "\u001b[32m[I 2023-05-19 09:57:02,148]\u001b[0m Trial 69 finished with value: 33.618924874343925 and parameters: {'max_lag': 9, 'max_depth': 46, 'min_samples_split': 15, 'min_samples_leaf': 14, 'min_weight_fraction_leaf': 0.03761953276144398, 'max_features': 'log2', 'random_state': 82}. Best is trial 18 with value: 27.80841736317646.\u001b[0m\n",
      "\u001b[32m[I 2023-05-19 09:57:02,248]\u001b[0m Trial 70 finished with value: 29.044514852580637 and parameters: {'max_lag': 4, 'max_depth': 25, 'min_samples_split': 11, 'min_samples_leaf': 8, 'min_weight_fraction_leaf': 0.017578888852366168, 'max_features': 'auto', 'random_state': 24}. Best is trial 18 with value: 27.80841736317646.\u001b[0m\n"
     ]
    },
    {
     "name": "stdout",
     "output_type": "stream",
     "text": [
      "________________STOP__________________\n",
      "________________START_________________\n",
      "________________STOP__________________\n",
      "________________START_________________\n",
      "________________STOP__________________\n",
      "________________START_________________\n"
     ]
    },
    {
     "name": "stderr",
     "output_type": "stream",
     "text": [
      "\u001b[32m[I 2023-05-19 09:57:02,337]\u001b[0m Trial 71 finished with value: 27.786033367891662 and parameters: {'max_lag': 3, 'max_depth': 48, 'min_samples_split': 14, 'min_samples_leaf': 18, 'min_weight_fraction_leaf': 0.001960921499151728, 'max_features': None, 'random_state': 2}. Best is trial 71 with value: 27.786033367891662.\u001b[0m\n",
      "\u001b[32m[I 2023-05-19 09:57:02,424]\u001b[0m Trial 72 finished with value: 28.890686871582204 and parameters: {'max_lag': 3, 'max_depth': 44, 'min_samples_split': 14, 'min_samples_leaf': 19, 'min_weight_fraction_leaf': 0.016872414888792122, 'max_features': None, 'random_state': 8}. Best is trial 71 with value: 27.786033367891662.\u001b[0m\n",
      "\u001b[32m[I 2023-05-19 09:57:02,517]\u001b[0m Trial 73 finished with value: 27.786033367891662 and parameters: {'max_lag': 3, 'max_depth': 49, 'min_samples_split': 13, 'min_samples_leaf': 18, 'min_weight_fraction_leaf': 0.0007170524911401946, 'max_features': None, 'random_state': 4}. Best is trial 71 with value: 27.786033367891662.\u001b[0m\n"
     ]
    },
    {
     "name": "stdout",
     "output_type": "stream",
     "text": [
      "________________STOP__________________\n",
      "________________START_________________\n",
      "________________STOP__________________\n",
      "________________START_________________\n",
      "________________STOP__________________\n",
      "________________START_________________\n"
     ]
    },
    {
     "name": "stderr",
     "output_type": "stream",
     "text": [
      "\u001b[32m[I 2023-05-19 09:57:02,604]\u001b[0m Trial 74 finished with value: 30.729759879605353 and parameters: {'max_lag': 3, 'max_depth': 49, 'min_samples_split': 13, 'min_samples_leaf': 18, 'min_weight_fraction_leaf': 0.03270296528057344, 'max_features': None, 'random_state': 4}. Best is trial 71 with value: 27.786033367891662.\u001b[0m\n",
      "\u001b[32m[I 2023-05-19 09:57:02,686]\u001b[0m Trial 75 finished with value: 28.133249584988146 and parameters: {'max_lag': 2, 'max_depth': 47, 'min_samples_split': 12, 'min_samples_leaf': 17, 'min_weight_fraction_leaf': 0.0007764498602313733, 'max_features': None, 'random_state': 12}. Best is trial 71 with value: 27.786033367891662.\u001b[0m\n",
      "\u001b[32m[I 2023-05-19 09:57:02,773]\u001b[0m Trial 76 finished with value: 31.52794847388784 and parameters: {'max_lag': 4, 'max_depth': 50, 'min_samples_split': 16, 'min_samples_leaf': 15, 'min_weight_fraction_leaf': 0.04359688908557191, 'max_features': None, 'random_state': 6}. Best is trial 71 with value: 27.786033367891662.\u001b[0m\n"
     ]
    },
    {
     "name": "stdout",
     "output_type": "stream",
     "text": [
      "________________STOP__________________\n",
      "________________START_________________\n",
      "________________STOP__________________\n",
      "________________START_________________\n",
      "________________STOP__________________\n",
      "________________START_________________\n"
     ]
    },
    {
     "name": "stderr",
     "output_type": "stream",
     "text": [
      "\u001b[32m[I 2023-05-19 09:57:02,856]\u001b[0m Trial 77 finished with value: 32.769865003970494 and parameters: {'max_lag': 3, 'max_depth': 46, 'min_samples_split': 15, 'min_samples_leaf': 18, 'min_weight_fraction_leaf': 0.08156864901041713, 'max_features': None, 'random_state': 17}. Best is trial 71 with value: 27.786033367891662.\u001b[0m\n",
      "\u001b[32m[I 2023-05-19 09:57:02,932]\u001b[0m Trial 78 finished with value: 32.41773791822632 and parameters: {'max_lag': 2, 'max_depth': 43, 'min_samples_split': 14, 'min_samples_leaf': 16, 'min_weight_fraction_leaf': 0.06439291926724389, 'max_features': None, 'random_state': 19}. Best is trial 71 with value: 27.786033367891662.\u001b[0m\n",
      "\u001b[32m[I 2023-05-19 09:57:03,021]\u001b[0m Trial 79 finished with value: 29.03946686444182 and parameters: {'max_lag': 4, 'max_depth': 39, 'min_samples_split': 13, 'min_samples_leaf': 16, 'min_weight_fraction_leaf': 0.013217101110656042, 'max_features': None, 'random_state': 22}. Best is trial 71 with value: 27.786033367891662.\u001b[0m\n"
     ]
    },
    {
     "name": "stdout",
     "output_type": "stream",
     "text": [
      "________________STOP__________________\n",
      "________________START_________________\n",
      "________________STOP__________________\n",
      "________________START_________________\n",
      "________________STOP__________________\n",
      "________________START_________________\n"
     ]
    },
    {
     "name": "stderr",
     "output_type": "stream",
     "text": [
      "\u001b[32m[I 2023-05-19 09:57:03,089]\u001b[0m Trial 80 finished with value: 33.28522945082112 and parameters: {'max_lag': 3, 'max_depth': 48, 'min_samples_split': 9, 'min_samples_leaf': 13, 'min_weight_fraction_leaf': 0.02681376295774891, 'max_features': 'sqrt', 'random_state': 10}. Best is trial 71 with value: 27.786033367891662.\u001b[0m\n",
      "\u001b[32m[I 2023-05-19 09:57:03,173]\u001b[0m Trial 81 finished with value: 28.825089515484983 and parameters: {'max_lag': 3, 'max_depth': 50, 'min_samples_split': 14, 'min_samples_leaf': 20, 'min_weight_fraction_leaf': 0.012558180485488096, 'max_features': 'auto', 'random_state': 1}. Best is trial 71 with value: 27.786033367891662.\u001b[0m\n",
      "\u001b[32m[I 2023-05-19 09:57:03,255]\u001b[0m Trial 82 finished with value: 28.301135050838674 and parameters: {'max_lag': 2, 'max_depth': 45, 'min_samples_split': 17, 'min_samples_leaf': 20, 'min_weight_fraction_leaf': 0.0005993914693273805, 'max_features': 'auto', 'random_state': 7}. Best is trial 71 with value: 27.786033367891662.\u001b[0m\n"
     ]
    },
    {
     "name": "stdout",
     "output_type": "stream",
     "text": [
      "________________STOP__________________\n",
      "________________START_________________\n",
      "________________STOP__________________\n",
      "________________START_________________\n",
      "________________STOP__________________\n",
      "________________START_________________\n"
     ]
    },
    {
     "name": "stderr",
     "output_type": "stream",
     "text": [
      "\u001b[32m[I 2023-05-19 09:57:03,335]\u001b[0m Trial 83 finished with value: 31.09403604753853 and parameters: {'max_lag': 3, 'max_depth': 49, 'min_samples_split': 15, 'min_samples_leaf': 19, 'min_weight_fraction_leaf': 0.033749342617076884, 'max_features': None, 'random_state': 3}. Best is trial 71 with value: 27.786033367891662.\u001b[0m\n",
      "\u001b[32m[I 2023-05-19 09:57:03,415]\u001b[0m Trial 84 finished with value: 32.35958845865446 and parameters: {'max_lag': 4, 'max_depth': 47, 'min_samples_split': 12, 'min_samples_leaf': 17, 'min_weight_fraction_leaf': 0.05595590041846025, 'max_features': 'auto', 'random_state': 13}. Best is trial 71 with value: 27.786033367891662.\u001b[0m\n",
      "\u001b[32m[I 2023-05-19 09:57:03,490]\u001b[0m Trial 85 finished with value: 30.531202112834002 and parameters: {'max_lag': 3, 'max_depth': 43, 'min_samples_split': 15, 'min_samples_leaf': 12, 'min_weight_fraction_leaf': 0.029799151726968644, 'max_features': None, 'random_state': 3}. Best is trial 71 with value: 27.786033367891662.\u001b[0m\n"
     ]
    },
    {
     "name": "stdout",
     "output_type": "stream",
     "text": [
      "________________STOP__________________\n",
      "________________START_________________\n",
      "________________STOP__________________\n",
      "________________START_________________\n",
      "________________STOP__________________\n",
      "________________START_________________\n"
     ]
    },
    {
     "name": "stderr",
     "output_type": "stream",
     "text": [
      "\u001b[32m[I 2023-05-19 09:57:03,585]\u001b[0m Trial 86 finished with value: 29.484668208128795 and parameters: {'max_lag': 7, 'max_depth': 49, 'min_samples_split': 14, 'min_samples_leaf': 18, 'min_weight_fraction_leaf': 0.01711384934837417, 'max_features': 'auto', 'random_state': 10}. Best is trial 71 with value: 27.786033367891662.\u001b[0m\n",
      "\u001b[32m[I 2023-05-19 09:57:03,665]\u001b[0m Trial 87 finished with value: 31.26545324496675 and parameters: {'max_lag': 2, 'max_depth': 46, 'min_samples_split': 12, 'min_samples_leaf': 10, 'min_weight_fraction_leaf': 0.04595888506578549, 'max_features': None, 'random_state': 7}. Best is trial 71 with value: 27.786033367891662.\u001b[0m\n",
      "\u001b[32m[I 2023-05-19 09:57:03,746]\u001b[0m Trial 88 finished with value: 30.348016497831672 and parameters: {'max_lag': 3, 'max_depth': 44, 'min_samples_split': 16, 'min_samples_leaf': 19, 'min_weight_fraction_leaf': 0.029430173599647214, 'max_features': None, 'random_state': 14}. Best is trial 71 with value: 27.786033367891662.\u001b[0m\n"
     ]
    },
    {
     "name": "stdout",
     "output_type": "stream",
     "text": [
      "________________STOP__________________\n",
      "________________START_________________\n",
      "________________STOP__________________\n",
      "________________START_________________\n",
      "________________STOP__________________\n",
      "________________START_________________\n"
     ]
    },
    {
     "name": "stderr",
     "output_type": "stream",
     "text": [
      "\u001b[32m[I 2023-05-19 09:57:03,836]\u001b[0m Trial 89 finished with value: 28.846960842715895 and parameters: {'max_lag': 4, 'max_depth': 48, 'min_samples_split': 13, 'min_samples_leaf': 11, 'min_weight_fraction_leaf': 0.01086991958651093, 'max_features': 'auto', 'random_state': 1}. Best is trial 71 with value: 27.786033367891662.\u001b[0m\n",
      "\u001b[32m[I 2023-05-19 09:57:03,917]\u001b[0m Trial 90 finished with value: 28.873220289845257 and parameters: {'max_lag': 2, 'max_depth': 41, 'min_samples_split': 14, 'min_samples_leaf': 13, 'min_weight_fraction_leaf': 0.012298668146062773, 'max_features': None, 'random_state': 53}. Best is trial 71 with value: 27.786033367891662.\u001b[0m\n",
      "\u001b[32m[I 2023-05-19 09:57:04,014]\u001b[0m Trial 91 finished with value: 28.037861724881623 and parameters: {'max_lag': 3, 'max_depth': 48, 'min_samples_split': 15, 'min_samples_leaf': 20, 'min_weight_fraction_leaf': 0.0003345115912487921, 'max_features': None, 'random_state': 1}. Best is trial 71 with value: 27.786033367891662.\u001b[0m\n"
     ]
    },
    {
     "name": "stdout",
     "output_type": "stream",
     "text": [
      "________________STOP__________________\n",
      "________________START_________________\n",
      "________________STOP__________________\n",
      "________________START_________________\n",
      "________________STOP__________________\n",
      "________________START_________________\n"
     ]
    },
    {
     "name": "stderr",
     "output_type": "stream",
     "text": [
      "\u001b[32m[I 2023-05-19 09:57:04,101]\u001b[0m Trial 92 finished with value: 28.603222883331945 and parameters: {'max_lag': 3, 'max_depth': 50, 'min_samples_split': 14, 'min_samples_leaf': 20, 'min_weight_fraction_leaf': 0.010439936833835265, 'max_features': None, 'random_state': 5}. Best is trial 71 with value: 27.786033367891662.\u001b[0m\n",
      "\u001b[32m[I 2023-05-19 09:57:04,179]\u001b[0m Trial 93 finished with value: 30.360331836946834 and parameters: {'max_lag': 3, 'max_depth': 47, 'min_samples_split': 2, 'min_samples_leaf': 19, 'min_weight_fraction_leaf': 0.025626494836373474, 'max_features': None, 'random_state': 9}. Best is trial 71 with value: 27.786033367891662.\u001b[0m\n",
      "\u001b[32m[I 2023-05-19 09:57:04,266]\u001b[0m Trial 94 finished with value: 27.786033367891662 and parameters: {'max_lag': 3, 'max_depth': 49, 'min_samples_split': 13, 'min_samples_leaf': 18, 'min_weight_fraction_leaf': 0.0004541511910042476, 'max_features': None, 'random_state': 68}. Best is trial 71 with value: 27.786033367891662.\u001b[0m\n"
     ]
    },
    {
     "name": "stdout",
     "output_type": "stream",
     "text": [
      "________________STOP__________________\n",
      "________________START_________________\n",
      "________________STOP__________________\n",
      "________________START_________________\n",
      "________________STOP__________________\n",
      "________________START_________________\n"
     ]
    },
    {
     "name": "stderr",
     "output_type": "stream",
     "text": [
      "\u001b[32m[I 2023-05-19 09:57:04,342]\u001b[0m Trial 95 finished with value: 31.01930291852824 and parameters: {'max_lag': 2, 'max_depth': 45, 'min_samples_split': 11, 'min_samples_leaf': 18, 'min_weight_fraction_leaf': 0.040310396083712306, 'max_features': None, 'random_state': 60}. Best is trial 71 with value: 27.786033367891662.\u001b[0m\n",
      "\u001b[32m[I 2023-05-19 09:57:04,418]\u001b[0m Trial 96 finished with value: 33.27789991463064 and parameters: {'max_lag': 4, 'max_depth': 42, 'min_samples_split': 13, 'min_samples_leaf': 17, 'min_weight_fraction_leaf': 0.05602027071214451, 'max_features': 'sqrt', 'random_state': 84}. Best is trial 71 with value: 27.786033367891662.\u001b[0m\n",
      "\u001b[32m[I 2023-05-19 09:57:04,509]\u001b[0m Trial 97 finished with value: 29.64960983609389 and parameters: {'max_lag': 3, 'max_depth': 49, 'min_samples_split': 13, 'min_samples_leaf': 12, 'min_weight_fraction_leaf': 0.019657833905867294, 'max_features': 'auto', 'random_state': 69}. Best is trial 71 with value: 27.786033367891662.\u001b[0m\n"
     ]
    },
    {
     "name": "stdout",
     "output_type": "stream",
     "text": [
      "________________STOP__________________\n",
      "________________START_________________\n",
      "________________STOP__________________\n",
      "________________START_________________\n",
      "________________STOP__________________\n",
      "________________START_________________\n"
     ]
    },
    {
     "name": "stderr",
     "output_type": "stream",
     "text": [
      "\u001b[32m[I 2023-05-19 09:57:04,581]\u001b[0m Trial 98 finished with value: 32.57872078456007 and parameters: {'max_lag': 4, 'max_depth': 46, 'min_samples_split': 16, 'min_samples_leaf': 17, 'min_weight_fraction_leaf': 0.010784765381359349, 'max_features': 'log2', 'random_state': 69}. Best is trial 71 with value: 27.786033367891662.\u001b[0m\n",
      "\u001b[32m[I 2023-05-19 09:57:04,666]\u001b[0m Trial 99 finished with value: 31.12733777925323 and parameters: {'max_lag': 3, 'max_depth': 50, 'min_samples_split': 12, 'min_samples_leaf': 15, 'min_weight_fraction_leaf': 0.034800504314560915, 'max_features': None, 'random_state': 44}. Best is trial 71 with value: 27.786033367891662.\u001b[0m\n"
     ]
    },
    {
     "name": "stdout",
     "output_type": "stream",
     "text": [
      "________________STOP__________________\n",
      "________________START_________________\n",
      "________________STOP__________________\n"
     ]
    }
   ],
   "source": [
    "best_dtc_model = None\n",
    "best_dtc_score = 48\n",
    "\n",
    "def objective(trial):\n",
    "    \n",
    "    global best_dtc_model, best_dtc_score\n",
    "    \n",
    "    print('________________START_________________')\n",
    "    \n",
    "    \n",
    "    accuracy = []\n",
    "    tscv = TimeSeriesSplit(n_splits=4)\n",
    "    \n",
    "    features_df = make_features(df, trial.suggest_int('max_lag', 1, 10), 1)\n",
    "\n",
    "    train, test = train_test_split(features_df, shuffle=False, test_size=0.1)\n",
    "    train = train.dropna()\n",
    "    \n",
    "    \n",
    "    param = {\n",
    "    'max_depth': trial.suggest_int('max_depth', 1, 50),\n",
    "    'min_samples_split': trial.suggest_int('min_samples_split', 2, 20),\n",
    "    'min_samples_leaf': trial.suggest_int('min_samples_leaf', 1, 20),\n",
    "    'min_weight_fraction_leaf': trial.suggest_float('min_weight_fraction_leaf', 0.0, 0.5),\n",
    "    'max_features': trial.suggest_categorical('max_features', [\"auto\", \"sqrt\", \"log2\", None]),\n",
    "    'random_state': trial.suggest_int('random_state', 1, 100)\n",
    "}\n",
    "        \n",
    "    for train_index, test_index in tscv.split(train):\n",
    "        \n",
    "        X_train, y_train = train.iloc[train_index].drop('num_orders', axis=1), train.iloc[train_index].num_orders\n",
    "        X_test, y_test = train.iloc[test_index].drop('num_orders', axis=1), train.iloc[test_index].num_orders\n",
    "\n",
    "        model = DecisionTreeRegressor(**param).fit(X_train, y_train)\n",
    "\n",
    "        prediction = model.predict(X_test)\n",
    "    \n",
    "        accuracy.append(mean_squared_error(y_test, prediction, squared=False))\n",
    "        \n",
    "    final_accuracy = np.mean(np.array(accuracy))\n",
    "    \n",
    "    if final_accuracy < best_dtc_score:\n",
    "        best_dtc_model = model\n",
    "        best_dtc_score = final_accuracy\n",
    "    \n",
    "    print('________________STOP__________________')\n",
    "    \n",
    "    return final_accuracy\n",
    "\n",
    "    \n",
    "study = optuna.create_study(sampler=optuna.samplers.TPESampler(seed=RANDOM_SEED), pruner=optuna.pruners.MedianPruner(), direction='minimize')\n",
    "study.optimize(objective, n_trials=100, n_jobs=1)\n",
    "    \n",
    "params_dtc = study.best_params\n",
    "\n",
    "score_dict['DecisionTreeRegressor'] = best_dtc_score"
   ]
  },
  {
   "cell_type": "markdown",
   "metadata": {},
   "source": [
    "### CatBoostRegressor"
   ]
  },
  {
   "cell_type": "code",
   "execution_count": 34,
   "metadata": {},
   "outputs": [
    {
     "name": "stderr",
     "output_type": "stream",
     "text": [
      "\u001b[32m[I 2023-05-19 10:04:52,378]\u001b[0m A new study created in memory with name: no-name-bb5c3bcd-c0be-4f36-bc6b-684e1b44fab4\u001b[0m\n"
     ]
    },
    {
     "name": "stdout",
     "output_type": "stream",
     "text": [
      "CPU times: user 3 µs, sys: 0 ns, total: 3 µs\n",
      "Wall time: 5.72 µs\n",
      "________________START_________________\n"
     ]
    },
    {
     "name": "stderr",
     "output_type": "stream",
     "text": [
      "Custom logger is already specified. Specify more than one logger at same time is not thread safe.\u001b[32m[I 2023-05-19 10:04:57,004]\u001b[0m Trial 0 finished with value: 26.689713089555273 and parameters: {'max_lag': 10, 'iterations': 400, 'learning_rate': 0.01920796235603235, 'depth': 5}. Best is trial 0 with value: 26.689713089555273.\u001b[0m\n"
     ]
    },
    {
     "name": "stdout",
     "output_type": "stream",
     "text": [
      "________________STOP__________________\n",
      "________________START_________________\n"
     ]
    },
    {
     "name": "stderr",
     "output_type": "stream",
     "text": [
      "\u001b[32m[I 2023-05-19 10:05:17,664]\u001b[0m Trial 1 finished with value: 27.107222977332327 and parameters: {'max_lag': 6, 'iterations': 600, 'learning_rate': 0.09648693745382654, 'depth': 9}. Best is trial 0 with value: 26.689713089555273.\u001b[0m\n"
     ]
    },
    {
     "name": "stdout",
     "output_type": "stream",
     "text": [
      "________________STOP__________________\n",
      "________________START_________________\n"
     ]
    },
    {
     "name": "stderr",
     "output_type": "stream",
     "text": [
      "\u001b[32m[I 2023-05-19 10:08:03,562]\u001b[0m Trial 2 finished with value: 27.9694226655171 and parameters: {'max_lag': 8, 'iterations': 700, 'learning_rate': 0.07502376611785612, 'depth': 12}. Best is trial 0 with value: 26.689713089555273.\u001b[0m\n"
     ]
    },
    {
     "name": "stdout",
     "output_type": "stream",
     "text": [
      "________________STOP__________________\n",
      "________________START_________________\n"
     ]
    },
    {
     "name": "stderr",
     "output_type": "stream",
     "text": [
      "\u001b[32m[I 2023-05-19 10:08:07,750]\u001b[0m Trial 3 finished with value: 27.938355502145903 and parameters: {'max_lag': 1, 'iterations': 200, 'learning_rate': 0.030571667663168774, 'depth': 9}. Best is trial 0 with value: 26.689713089555273.\u001b[0m\n"
     ]
    },
    {
     "name": "stdout",
     "output_type": "stream",
     "text": [
      "________________STOP__________________\n",
      "________________START_________________\n"
     ]
    },
    {
     "name": "stderr",
     "output_type": "stream",
     "text": [
      "\u001b[32m[I 2023-05-19 10:09:08,881]\u001b[0m Trial 4 finished with value: 27.00334089390718 and parameters: {'max_lag': 9, 'iterations': 900, 'learning_rate': 0.0965001121398211, 'depth': 10}. Best is trial 0 with value: 26.689713089555273.\u001b[0m\n"
     ]
    },
    {
     "name": "stdout",
     "output_type": "stream",
     "text": [
      "________________STOP__________________\n",
      "________________START_________________\n"
     ]
    },
    {
     "name": "stderr",
     "output_type": "stream",
     "text": [
      "\u001b[32m[I 2023-05-19 10:09:16,791]\u001b[0m Trial 5 finished with value: 25.828273794994843 and parameters: {'max_lag': 7, 'iterations': 800, 'learning_rate': 0.047292301714710355, 'depth': 6}. Best is trial 5 with value: 25.828273794994843.\u001b[0m\n"
     ]
    },
    {
     "name": "stdout",
     "output_type": "stream",
     "text": [
      "________________STOP__________________\n",
      "________________START_________________\n"
     ]
    },
    {
     "name": "stderr",
     "output_type": "stream",
     "text": [
      "\u001b[32m[I 2023-05-19 10:09:39,702]\u001b[0m Trial 6 finished with value: 27.285157414877197 and parameters: {'max_lag': 5, 'iterations': 800, 'learning_rate': 0.09940744400409623, 'depth': 9}. Best is trial 5 with value: 25.828273794994843.\u001b[0m\n"
     ]
    },
    {
     "name": "stdout",
     "output_type": "stream",
     "text": [
      "________________STOP__________________\n",
      "________________START_________________\n"
     ]
    },
    {
     "name": "stderr",
     "output_type": "stream",
     "text": [
      "\u001b[32m[I 2023-05-19 10:10:04,846]\u001b[0m Trial 7 finished with value: 35.068505223139155 and parameters: {'max_lag': 8, 'iterations': 200, 'learning_rate': 0.0036580783032036214, 'depth': 11}. Best is trial 5 with value: 25.828273794994843.\u001b[0m\n"
     ]
    },
    {
     "name": "stdout",
     "output_type": "stream",
     "text": [
      "________________STOP__________________\n",
      "________________START_________________\n"
     ]
    },
    {
     "name": "stderr",
     "output_type": "stream",
     "text": [
      "\u001b[32m[I 2023-05-19 10:10:09,851]\u001b[0m Trial 8 finished with value: 27.456613957038066 and parameters: {'max_lag': 10, 'iterations': 100, 'learning_rate': 0.04968298452614271, 'depth': 8}. Best is trial 5 with value: 25.828273794994843.\u001b[0m\n"
     ]
    },
    {
     "name": "stdout",
     "output_type": "stream",
     "text": [
      "________________STOP__________________\n",
      "________________START_________________\n"
     ]
    },
    {
     "name": "stderr",
     "output_type": "stream",
     "text": [
      "\u001b[32m[I 2023-05-19 10:10:16,530]\u001b[0m Trial 9 finished with value: 27.531384282983925 and parameters: {'max_lag': 6, 'iterations': 100, 'learning_rate': 0.0896138632773382, 'depth': 10}. Best is trial 5 with value: 25.828273794994843.\u001b[0m\n"
     ]
    },
    {
     "name": "stdout",
     "output_type": "stream",
     "text": [
      "________________STOP__________________\n"
     ]
    }
   ],
   "source": [
    "%time\n",
    "\n",
    "best_cbr_model = None\n",
    "best_cbr_score = 48\n",
    "\n",
    "def objective(trial):\n",
    "    \n",
    "    global best_cbr_model, best_cbr_score\n",
    "    \n",
    "    print('________________START_________________')\n",
    "    \n",
    "    \n",
    "    accuracy = []\n",
    "    tscv = TimeSeriesSplit(n_splits=4) \n",
    "    \n",
    "    features_df = make_features(df, trial.suggest_int('max_lag', 1, 10), 1)\n",
    "    \n",
    "    train, test = train_test_split(features_df, shuffle=False, test_size=0.1)\n",
    "    train = train.dropna()\n",
    "    \n",
    "    \n",
    "    param = {\n",
    "    'iterations': trial.suggest_int('iterations', 100, 1000, step=100),\n",
    "    'learning_rate': trial.suggest_float('learning_rate', 0.001, 0.1),\n",
    "    'depth': trial.suggest_int('depth', 3, 12)\n",
    "}\n",
    "        \n",
    "    for train_index, test_index in tscv.split(train):\n",
    "        \n",
    "        X_train, y_train = train.iloc[train_index].drop('num_orders', axis=1), train.iloc[train_index].num_orders\n",
    "        X_test, y_test = train.iloc[test_index].drop('num_orders', axis=1), train.iloc[test_index].num_orders\n",
    "\n",
    "        model = CatBoostRegressor(**param, silent=True).fit(X_train, y_train)\n",
    "\n",
    "        prediction = model.predict(X_test)\n",
    "    \n",
    "        accuracy.append(mean_squared_error(y_test, prediction, squared=False))\n",
    "        \n",
    "    final_accuracy = np.mean(np.array(accuracy))\n",
    "    \n",
    "    if final_accuracy < best_cbr_score:\n",
    "        best_cbr_model = model\n",
    "        best_cbr_score = final_accuracy\n",
    "    \n",
    "    print('________________STOP__________________')\n",
    "    \n",
    "    return final_accuracy\n",
    "\n",
    "    \n",
    "study = optuna.create_study(sampler=optuna.samplers.TPESampler(seed=RANDOM_SEED), pruner=optuna.pruners.MedianPruner(), direction='minimize')\n",
    "study.optimize(objective, n_trials=10, n_jobs=1)\n",
    "    \n",
    "params_cbr = study.best_params\n",
    "\n",
    "score_dict['CatBoostRegressor'] = best_cbr_score"
   ]
  },
  {
   "cell_type": "code",
   "execution_count": 18,
   "metadata": {},
   "outputs": [
    {
     "data": {
      "text/html": [
       "<div>\n",
       "<style scoped>\n",
       "    .dataframe tbody tr th:only-of-type {\n",
       "        vertical-align: middle;\n",
       "    }\n",
       "\n",
       "    .dataframe tbody tr th {\n",
       "        vertical-align: top;\n",
       "    }\n",
       "\n",
       "    .dataframe thead th {\n",
       "        text-align: right;\n",
       "    }\n",
       "</style>\n",
       "<table border=\"1\" class=\"dataframe\">\n",
       "  <thead>\n",
       "    <tr style=\"text-align: right;\">\n",
       "      <th></th>\n",
       "      <th>model</th>\n",
       "      <th>score</th>\n",
       "    </tr>\n",
       "  </thead>\n",
       "  <tbody>\n",
       "    <tr>\n",
       "      <th>3</th>\n",
       "      <td>CatBoostRegressor</td>\n",
       "      <td>25.828274</td>\n",
       "    </tr>\n",
       "    <tr>\n",
       "      <th>2</th>\n",
       "      <td>DecisionTreeRegressor</td>\n",
       "      <td>27.786033</td>\n",
       "    </tr>\n",
       "    <tr>\n",
       "      <th>1</th>\n",
       "      <td>LinearRegression</td>\n",
       "      <td>31.742180</td>\n",
       "    </tr>\n",
       "    <tr>\n",
       "      <th>0</th>\n",
       "      <td>One_day_predictor</td>\n",
       "      <td>58.856486</td>\n",
       "    </tr>\n",
       "  </tbody>\n",
       "</table>\n",
       "</div>"
      ],
      "text/plain": [
       "                   model      score\n",
       "3      CatBoostRegressor  25.828274\n",
       "2  DecisionTreeRegressor  27.786033\n",
       "1       LinearRegression  31.742180\n",
       "0      One_day_predictor  58.856486"
      ]
     },
     "execution_count": 18,
     "metadata": {},
     "output_type": "execute_result"
    }
   ],
   "source": [
    "pd.DataFrame(list(score_dict.items()), columns=['model', 'score']).sort_values('score')"
   ]
  },
  {
   "cell_type": "markdown",
   "metadata": {},
   "source": [
    "По данным обучения и тестирования наилучшую метрику показала модель CatBoostRegressor с результатом метрики RMSE 25.82, с параметрами:\n",
    "* 'max_lag': 7\n",
    "* 'iterations': 800\n",
    "* 'learning_rate': 0.047292301714710355\n",
    "* 'depth': 6\n",
    "\n",
    "Все модели показали метрику лучше One_day_predictor."
   ]
  },
  {
   "cell_type": "markdown",
   "metadata": {},
   "source": [
    "### Промежуточный вывод 3"
   ]
  },
  {
   "cell_type": "markdown",
   "metadata": {},
   "source": [
    "В данной части проекта мы сравнили несколько моделей на тренировочной выборке и выбрали наилучшую.\n",
    "\n",
    "По данным обучения наилучшую метрику показала модель CatBoostRegressor."
   ]
  },
  {
   "cell_type": "markdown",
   "metadata": {},
   "source": [
    "## Тестирование"
   ]
  },
  {
   "cell_type": "code",
   "execution_count": 30,
   "metadata": {},
   "outputs": [
    {
     "name": "stdout",
     "output_type": "stream",
     "text": [
      "42.90354488477819\n"
     ]
    }
   ],
   "source": [
    "features_df = df.copy()\n",
    "\n",
    "new_data = make_features(features_df, 7, 1)\n",
    "\n",
    "train, test = train_test_split(new_data, shuffle=False, test_size=0.1)\n",
    "\n",
    "X_train, y_train = train.drop('num_orders', axis=1), train.num_orders\n",
    "X_test, y_test = test.drop('num_orders', axis=1), test.num_orders\n",
    "\n",
    "best_cbr_model.fit(X_train, y_train)\n",
    "\n",
    "prediction = best_cbr_model.predict(X_test)\n",
    "\n",
    "accurucy = mean_squared_error(y_test, prediction, squared=False)\n",
    "\n",
    "print(accurucy)"
   ]
  },
  {
   "cell_type": "code",
   "execution_count": 33,
   "metadata": {},
   "outputs": [],
   "source": [
    "best_cbr_model"
   ]
  },
  {
   "cell_type": "markdown",
   "metadata": {},
   "source": [
    "При пороведении финального тестирования модель CatBoostRegressor показала метрику RMSE 42.90, что удовлетворяет поставленной задаче.\n",
    "\n",
    "Взглянем как графически отличаются целевые и предсказанные значения:"
   ]
  },
  {
   "cell_type": "code",
   "execution_count": 24,
   "metadata": {},
   "outputs": [],
   "source": [
    "pred_frame = pd.DataFrame(prediction, index=y_test.index, columns=['predictions'])\n",
    "real_frame = pd.DataFrame()\n",
    "real_frame['real'] = y_test\n",
    "final_frame = real_frame.merge(pred_frame, left_index=True, right_index=True)"
   ]
  },
  {
   "cell_type": "code",
   "execution_count": 25,
   "metadata": {},
   "outputs": [
    {
     "data": {
      "text/plain": [
       "<AxesSubplot:xlabel='datetime'>"
      ]
     },
     "execution_count": 25,
     "metadata": {},
     "output_type": "execute_result"
    },
    {
     "data": {
      "image/png": "[encoded data removed]",
      "text/plain": [
       "<Figure size 1440x504 with 1 Axes>"
      ]
     },
     "metadata": {},
     "output_type": "display_data"
    }
   ],
   "source": [
    "final_frame.plot()"
   ]
  },
  {
   "cell_type": "markdown",
   "metadata": {},
   "source": [
    "Судя по диаграме модель хорошо понимает данные:"
   ]
  },
  {
   "cell_type": "code",
   "execution_count": 26,
   "metadata": {},
   "outputs": [
    {
     "data": {
      "image/png": "[encoded data removed]",
      "text/plain": [
       "<Figure size 1440x720 with 3 Axes>"
      ]
     },
     "metadata": {},
     "output_type": "display_data"
    }
   ],
   "source": [
    "decomposed = seasonal_decompose(final_frame['predictions'])\n",
    "\n",
    "plt.figure(figsize=(20, 10))\n",
    "plt.subplot(311)\n",
    "# Чтобы график корректно отобразился, указываем его\n",
    "# оси ax, равными plt.gca() (англ. get current axis,\n",
    "# получить текущие оси)\n",
    "decomposed.trend.plot(ax=plt.gca())\n",
    "plt.title('Trend')\n",
    "plt.subplot(312)\n",
    "decomposed.seasonal.tail(24*7).plot(ax=plt.gca())\n",
    "plt.title('Seasonality')\n",
    "plt.subplot(313)\n",
    "decomposed.resid .plot(ax=plt.gca())\n",
    "plt.title('Residuals')\n",
    "plt.tight_layout()"
   ]
  },
  {
   "cell_type": "markdown",
   "metadata": {},
   "source": [
    "Модель также уловила сезонность в течении суток и общий восходящий тренд."
   ]
  },
  {
   "cell_type": "markdown",
   "metadata": {},
   "source": [
    "### Общий вывод"
   ]
  },
  {
   "cell_type": "markdown",
   "metadata": {},
   "source": [
    "В начале данного проекта мы импортировали необходимые библиотеки, загрузили данные, привели данные к нужным типам и установили индекс датасета типа DatetimeIndex.\n",
    "\n",
    "На следующем этапе:\n",
    "* Мы проверили наши данные на монотонность, проанализировали скользящее среднее и скользящее стандартное отклонение. \n",
    "* Декомпозировали данные. \n",
    "* Определили что наши данные имеют восходящий тренд и вараженную сезонность в разрезе суток.\n",
    "\n",
    "Разделение данных будем произвели на тренировочную и тестовую выборки в пропорции 90:10.\n",
    "\n",
    "При помощи функции `make_features` выделили новые признаки из датасета.\n",
    "\n",
    "Мы проверили следующие модели:\n",
    "* LinearRegression\n",
    "* DecisionTreeRegressor\n",
    "* CatBoostRegressor\n",
    "\n",
    "в качестве целевой метрики использована RMSE, для оценки адекватности моделей - сравниваем их с моделью без обучения, точнее с моделью которая прогнозирует предыдущими значениями временного ряда.\n",
    "\n",
    "Подбор гиперпараметров моделей и оптимальный шаг для отстающих значений подбирали при помощи библиотеки optuna.\n",
    "\n",
    "Для вычисления метрики на тренировочных данных, производили разбиение их на выборки при помощи TimeSeriesSplit и усредняли результаты.\n",
    "\n",
    "\n",
    "По данным обучения и тестирования наилучшую метрику показала модель CatBoostRegressor с результатом метрики RMSE 25.82, с параметрами:\n",
    "* 'max_lag': 7\n",
    "* 'iterations': 800\n",
    "* 'learning_rate': 0.047292301714710355\n",
    "* 'depth': 6\n",
    "\n",
    "Все модели показали метрику лучше One_day_predictor.\n",
    "\n",
    "При пороведении финального тестирования модель CatBoostRegressor показала метрику RMSE 42.90, что удовлетворяет поставленной задаче.\n",
    "\n",
    "Графический анализ фактических и прогнозируемых значений показал что модель поняля общий тренд и суточную сезонность."
   ]
  }
 ],
 "metadata": {
  "ExecuteTimeLog": [
   {
    "duration": 408,
    "start_time": "2023-05-17T04:23:49.509Z"
   },
   {
    "duration": 71,
    "start_time": "2023-05-17T04:24:15.309Z"
   },
   {
    "duration": 9,
    "start_time": "2023-05-17T04:24:21.347Z"
   },
   {
    "duration": 9,
    "start_time": "2023-05-17T04:24:26.253Z"
   },
   {
    "duration": 41,
    "start_time": "2023-05-17T04:25:38.738Z"
   },
   {
    "duration": 12,
    "start_time": "2023-05-17T04:25:48.961Z"
   },
   {
    "duration": 76,
    "start_time": "2023-05-17T04:25:52.581Z"
   },
   {
    "duration": 45,
    "start_time": "2023-05-17T04:26:18.538Z"
   },
   {
    "duration": 181,
    "start_time": "2023-05-17T04:26:40.445Z"
   },
   {
    "duration": 12,
    "start_time": "2023-05-17T04:26:47.327Z"
   },
   {
    "duration": 9,
    "start_time": "2023-05-17T04:28:40.143Z"
   },
   {
    "duration": 8,
    "start_time": "2023-05-17T04:28:44.435Z"
   },
   {
    "duration": 11,
    "start_time": "2023-05-17T04:28:47.060Z"
   },
   {
    "duration": 7,
    "start_time": "2023-05-17T04:32:35.141Z"
   },
   {
    "duration": 24,
    "start_time": "2023-05-17T04:46:09.315Z"
   },
   {
    "duration": 12,
    "start_time": "2023-05-17T04:46:12.837Z"
   },
   {
    "duration": 7,
    "start_time": "2023-05-17T04:47:31.441Z"
   },
   {
    "duration": 10,
    "start_time": "2023-05-17T04:47:44.916Z"
   },
   {
    "duration": 12,
    "start_time": "2023-05-17T04:48:02.240Z"
   },
   {
    "duration": 6,
    "start_time": "2023-05-17T04:48:31.434Z"
   },
   {
    "duration": 14,
    "start_time": "2023-05-17T04:48:36.917Z"
   },
   {
    "duration": 10,
    "start_time": "2023-05-17T04:48:46.520Z"
   },
   {
    "duration": 6,
    "start_time": "2023-05-17T04:49:26.634Z"
   },
   {
    "duration": 13,
    "start_time": "2023-05-17T04:50:41.251Z"
   },
   {
    "duration": 618,
    "start_time": "2023-05-17T04:50:44.507Z"
   },
   {
    "duration": 15,
    "start_time": "2023-05-17T04:51:13.391Z"
   },
   {
    "duration": 46,
    "start_time": "2023-05-17T04:51:13.514Z"
   },
   {
    "duration": 12,
    "start_time": "2023-05-17T04:51:13.905Z"
   },
   {
    "duration": 12,
    "start_time": "2023-05-17T04:51:14.207Z"
   },
   {
    "duration": 21,
    "start_time": "2023-05-17T04:51:14.439Z"
   },
   {
    "duration": 22,
    "start_time": "2023-05-17T04:51:14.672Z"
   },
   {
    "duration": 6,
    "start_time": "2023-05-17T04:51:14.879Z"
   },
   {
    "duration": 4,
    "start_time": "2023-05-17T04:51:15.135Z"
   },
   {
    "duration": 558,
    "start_time": "2023-05-17T04:51:15.424Z"
   },
   {
    "duration": 237,
    "start_time": "2023-05-17T04:51:15.985Z"
   },
   {
    "duration": 8,
    "start_time": "2023-05-17T04:51:36.636Z"
   },
   {
    "duration": 15,
    "start_time": "2023-05-17T04:53:02.958Z"
   },
   {
    "duration": 191,
    "start_time": "2023-05-17T04:53:06.863Z"
   },
   {
    "duration": 189,
    "start_time": "2023-05-17T04:53:14.019Z"
   },
   {
    "duration": 192,
    "start_time": "2023-05-17T04:53:18.347Z"
   },
   {
    "duration": 9,
    "start_time": "2023-05-17T04:54:17.042Z"
   },
   {
    "duration": 487,
    "start_time": "2023-05-17T04:54:29.058Z"
   },
   {
    "duration": 7,
    "start_time": "2023-05-17T04:54:32.619Z"
   },
   {
    "duration": 709,
    "start_time": "2023-05-17T04:54:45.551Z"
   },
   {
    "duration": 197,
    "start_time": "2023-05-17T04:59:07.731Z"
   },
   {
    "duration": 320,
    "start_time": "2023-05-17T04:59:37.920Z"
   },
   {
    "duration": 283,
    "start_time": "2023-05-17T04:59:47.151Z"
   },
   {
    "duration": 1283,
    "start_time": "2023-05-17T05:03:43.540Z"
   },
   {
    "duration": 41,
    "start_time": "2023-05-17T05:03:44.824Z"
   },
   {
    "duration": 9,
    "start_time": "2023-05-17T05:03:44.866Z"
   },
   {
    "duration": 26,
    "start_time": "2023-05-17T05:03:44.876Z"
   },
   {
    "duration": 31,
    "start_time": "2023-05-17T05:03:44.904Z"
   },
   {
    "duration": 9,
    "start_time": "2023-05-17T05:03:44.937Z"
   },
   {
    "duration": 5,
    "start_time": "2023-05-17T05:03:44.948Z"
   },
   {
    "duration": 5,
    "start_time": "2023-05-17T05:03:44.955Z"
   },
   {
    "duration": 788,
    "start_time": "2023-05-17T05:03:44.962Z"
   },
   {
    "duration": 181,
    "start_time": "2023-05-17T05:03:45.752Z"
   },
   {
    "duration": 0,
    "start_time": "2023-05-17T05:03:45.935Z"
   },
   {
    "duration": 8,
    "start_time": "2023-05-17T05:04:19.115Z"
   },
   {
    "duration": 278,
    "start_time": "2023-05-17T05:04:19.719Z"
   },
   {
    "duration": 7,
    "start_time": "2023-05-17T05:04:20.223Z"
   },
   {
    "duration": 671,
    "start_time": "2023-05-17T05:04:21.751Z"
   },
   {
    "duration": 4,
    "start_time": "2023-05-17T05:04:37.965Z"
   },
   {
    "duration": 3,
    "start_time": "2023-05-17T05:06:30.830Z"
   },
   {
    "duration": 13,
    "start_time": "2023-05-17T05:07:55.611Z"
   },
   {
    "duration": 3,
    "start_time": "2023-05-17T05:08:27.907Z"
   },
   {
    "duration": 10,
    "start_time": "2023-05-17T05:08:51.251Z"
   },
   {
    "duration": 6,
    "start_time": "2023-05-17T05:10:28.515Z"
   },
   {
    "duration": 9,
    "start_time": "2023-05-17T05:12:18.649Z"
   },
   {
    "duration": 1390,
    "start_time": "2023-05-17T05:12:31.633Z"
   },
   {
    "duration": 4,
    "start_time": "2023-05-17T05:12:55.341Z"
   },
   {
    "duration": 22,
    "start_time": "2023-05-17T05:12:55.816Z"
   },
   {
    "duration": 17,
    "start_time": "2023-05-17T05:13:09.342Z"
   },
   {
    "duration": 19,
    "start_time": "2023-05-17T05:13:22.250Z"
   },
   {
    "duration": 158,
    "start_time": "2023-05-17T05:13:25.170Z"
   },
   {
    "duration": 115,
    "start_time": "2023-05-17T05:13:42.681Z"
   },
   {
    "duration": 19,
    "start_time": "2023-05-17T05:14:09.016Z"
   },
   {
    "duration": 100,
    "start_time": "2023-05-17T05:14:33.710Z"
   },
   {
    "duration": 90,
    "start_time": "2023-05-17T05:14:40.340Z"
   },
   {
    "duration": 122,
    "start_time": "2023-05-17T05:14:44.276Z"
   },
   {
    "duration": 103,
    "start_time": "2023-05-17T05:14:50.112Z"
   },
   {
    "duration": 4,
    "start_time": "2023-05-17T05:15:10.668Z"
   },
   {
    "duration": 197,
    "start_time": "2023-05-17T05:15:11.216Z"
   },
   {
    "duration": 49,
    "start_time": "2023-05-17T05:15:19.642Z"
   },
   {
    "duration": 41,
    "start_time": "2023-05-17T05:16:31.627Z"
   },
   {
    "duration": 7,
    "start_time": "2023-05-17T05:16:31.880Z"
   },
   {
    "duration": 15,
    "start_time": "2023-05-17T05:16:32.109Z"
   },
   {
    "duration": 21,
    "start_time": "2023-05-17T05:16:32.311Z"
   },
   {
    "duration": 12,
    "start_time": "2023-05-17T05:16:32.524Z"
   },
   {
    "duration": 6,
    "start_time": "2023-05-17T05:16:32.723Z"
   },
   {
    "duration": 3,
    "start_time": "2023-05-17T05:16:33.172Z"
   },
   {
    "duration": 7,
    "start_time": "2023-05-17T05:16:33.523Z"
   },
   {
    "duration": 261,
    "start_time": "2023-05-17T05:16:33.907Z"
   },
   {
    "duration": 7,
    "start_time": "2023-05-17T05:16:40.667Z"
   },
   {
    "duration": 691,
    "start_time": "2023-05-17T05:16:41.131Z"
   },
   {
    "duration": 22,
    "start_time": "2023-05-17T05:16:42.313Z"
   },
   {
    "duration": 4,
    "start_time": "2023-05-17T05:16:42.667Z"
   },
   {
    "duration": 58,
    "start_time": "2023-05-17T05:17:11.344Z"
   },
   {
    "duration": 4,
    "start_time": "2023-05-17T05:17:15.321Z"
   },
   {
    "duration": 85,
    "start_time": "2023-05-17T05:17:15.632Z"
   },
   {
    "duration": 30,
    "start_time": "2023-05-17T05:36:49.451Z"
   },
   {
    "duration": 20,
    "start_time": "2023-05-17T07:10:06.043Z"
   },
   {
    "duration": 43,
    "start_time": "2023-05-17T07:10:31.746Z"
   },
   {
    "duration": 13,
    "start_time": "2023-05-17T07:12:29.489Z"
   },
   {
    "duration": 24,
    "start_time": "2023-05-17T07:12:30.148Z"
   },
   {
    "duration": 5,
    "start_time": "2023-05-17T07:13:51.707Z"
   },
   {
    "duration": 7,
    "start_time": "2023-05-17T07:13:55.181Z"
   },
   {
    "duration": 44,
    "start_time": "2023-05-17T07:13:55.449Z"
   },
   {
    "duration": 32,
    "start_time": "2023-05-17T07:17:28.078Z"
   },
   {
    "duration": 6549,
    "start_time": "2023-05-17T07:17:41.509Z"
   },
   {
    "duration": 138,
    "start_time": "2023-05-17T07:28:20.276Z"
   },
   {
    "duration": 43,
    "start_time": "2023-05-17T07:28:27.507Z"
   },
   {
    "duration": 6,
    "start_time": "2023-05-17T07:28:36.546Z"
   },
   {
    "duration": 5,
    "start_time": "2023-05-17T07:28:56.452Z"
   },
   {
    "duration": 15,
    "start_time": "2023-05-17T07:29:03.530Z"
   },
   {
    "duration": 22,
    "start_time": "2023-05-17T07:29:13.660Z"
   },
   {
    "duration": 36,
    "start_time": "2023-05-17T07:30:05.427Z"
   },
   {
    "duration": 20,
    "start_time": "2023-05-17T07:30:31.635Z"
   },
   {
    "duration": 23,
    "start_time": "2023-05-17T07:31:10.444Z"
   },
   {
    "duration": 26,
    "start_time": "2023-05-17T07:33:51.643Z"
   },
   {
    "duration": 1054,
    "start_time": "2023-05-17T07:34:13.476Z"
   },
   {
    "duration": 1273,
    "start_time": "2023-05-17T07:36:27.675Z"
   },
   {
    "duration": 45,
    "start_time": "2023-05-17T07:37:12.512Z"
   },
   {
    "duration": 39,
    "start_time": "2023-05-17T07:37:26.383Z"
   },
   {
    "duration": 38,
    "start_time": "2023-05-17T07:38:26.256Z"
   },
   {
    "duration": 3,
    "start_time": "2023-05-17T07:38:44.779Z"
   },
   {
    "duration": 48,
    "start_time": "2023-05-17T07:38:45.016Z"
   },
   {
    "duration": 8,
    "start_time": "2023-05-17T07:38:45.239Z"
   },
   {
    "duration": 24,
    "start_time": "2023-05-17T07:38:45.402Z"
   },
   {
    "duration": 27,
    "start_time": "2023-05-17T07:38:45.615Z"
   },
   {
    "duration": 20,
    "start_time": "2023-05-17T07:38:45.810Z"
   },
   {
    "duration": 11,
    "start_time": "2023-05-17T07:38:46.004Z"
   },
   {
    "duration": 4,
    "start_time": "2023-05-17T07:38:47.854Z"
   },
   {
    "duration": 11,
    "start_time": "2023-05-17T07:38:49.028Z"
   },
   {
    "duration": 333,
    "start_time": "2023-05-17T07:38:50.180Z"
   },
   {
    "duration": 34,
    "start_time": "2023-05-17T07:38:52.080Z"
   },
   {
    "duration": 786,
    "start_time": "2023-05-17T07:38:52.456Z"
   },
   {
    "duration": 6,
    "start_time": "2023-05-17T07:38:54.518Z"
   },
   {
    "duration": 42,
    "start_time": "2023-05-17T07:38:56.240Z"
   },
   {
    "duration": 82,
    "start_time": "2023-05-17T07:45:59.478Z"
   },
   {
    "duration": 33,
    "start_time": "2023-05-17T07:46:18.823Z"
   },
   {
    "duration": 57,
    "start_time": "2023-05-17T07:47:28.280Z"
   },
   {
    "duration": 242,
    "start_time": "2023-05-17T07:48:08.402Z"
   },
   {
    "duration": 31,
    "start_time": "2023-05-17T07:48:11.207Z"
   },
   {
    "duration": 19,
    "start_time": "2023-05-17T07:48:36.141Z"
   },
   {
    "duration": 946,
    "start_time": "2023-05-17T07:49:07.352Z"
   },
   {
    "duration": 68,
    "start_time": "2023-05-17T07:50:23.479Z"
   },
   {
    "duration": 1700,
    "start_time": "2023-05-17T07:50:53.414Z"
   },
   {
    "duration": 104,
    "start_time": "2023-05-17T07:57:07.911Z"
   },
   {
    "duration": 454,
    "start_time": "2023-05-17T07:57:27.648Z"
   },
   {
    "duration": 5927,
    "start_time": "2023-05-17T07:58:03.161Z"
   },
   {
    "duration": 1647,
    "start_time": "2023-05-17T08:02:26.243Z"
   },
   {
    "duration": 3,
    "start_time": "2023-05-17T08:02:30.647Z"
   },
   {
    "duration": 4,
    "start_time": "2023-05-17T08:02:31.379Z"
   },
   {
    "duration": 1378,
    "start_time": "2023-05-17T08:02:39.814Z"
   },
   {
    "duration": 3,
    "start_time": "2023-05-17T08:02:43.948Z"
   },
   {
    "duration": 6,
    "start_time": "2023-05-17T08:02:44.831Z"
   },
   {
    "duration": 7,
    "start_time": "2023-05-17T08:02:47.448Z"
   },
   {
    "duration": 42,
    "start_time": "2023-05-17T08:02:48.209Z"
   },
   {
    "duration": 1645,
    "start_time": "2023-05-17T08:05:28.681Z"
   },
   {
    "duration": 66,
    "start_time": "2023-05-17T08:05:33.133Z"
   },
   {
    "duration": 1583,
    "start_time": "2023-05-17T08:06:10.033Z"
   },
   {
    "duration": 5014,
    "start_time": "2023-05-17T08:06:12.915Z"
   },
   {
    "duration": 12,
    "start_time": "2023-05-17T08:06:22.218Z"
   },
   {
    "duration": 11,
    "start_time": "2023-05-17T08:06:22.883Z"
   },
   {
    "duration": 258,
    "start_time": "2023-05-17T08:18:08.615Z"
   },
   {
    "duration": 44,
    "start_time": "2023-05-17T08:18:25.635Z"
   },
   {
    "duration": 56,
    "start_time": "2023-05-17T08:20:30.719Z"
   },
   {
    "duration": 39,
    "start_time": "2023-05-17T08:21:23.336Z"
   },
   {
    "duration": 58,
    "start_time": "2023-05-17T08:21:54.647Z"
   },
   {
    "duration": 35,
    "start_time": "2023-05-17T08:22:53.836Z"
   },
   {
    "duration": 49,
    "start_time": "2023-05-17T08:28:36.911Z"
   },
   {
    "duration": 50,
    "start_time": "2023-05-17T08:29:01.610Z"
   },
   {
    "duration": 71,
    "start_time": "2023-05-17T08:33:10.665Z"
   },
   {
    "duration": 74,
    "start_time": "2023-05-17T08:33:33.238Z"
   },
   {
    "duration": 5662,
    "start_time": "2023-05-17T08:33:54.518Z"
   },
   {
    "duration": 7930,
    "start_time": "2023-05-17T08:35:34.218Z"
   },
   {
    "duration": 2,
    "start_time": "2023-05-17T08:36:38.677Z"
   },
   {
    "duration": 4,
    "start_time": "2023-05-17T08:36:39.665Z"
   },
   {
    "duration": 35121,
    "start_time": "2023-05-17T08:46:23.958Z"
   },
   {
    "duration": 0,
    "start_time": "2023-05-17T08:47:57.260Z"
   },
   {
    "duration": 165444,
    "start_time": "2023-05-17T08:48:37.211Z"
   },
   {
    "duration": 20,
    "start_time": "2023-05-17T09:01:51.809Z"
   },
   {
    "duration": 1384,
    "start_time": "2023-05-17T09:03:37.619Z"
   },
   {
    "duration": 113339,
    "start_time": "2023-05-17T09:03:46.324Z"
   },
   {
    "duration": 1350,
    "start_time": "2023-05-17T09:05:42.958Z"
   },
   {
    "duration": 115,
    "start_time": "2023-05-17T09:05:44.327Z"
   },
   {
    "duration": 46,
    "start_time": "2023-05-17T09:06:25.109Z"
   },
   {
    "duration": 8462,
    "start_time": "2023-05-17T09:06:54.361Z"
   },
   {
    "duration": 49,
    "start_time": "2023-05-17T09:07:44.606Z"
   },
   {
    "duration": 6048,
    "start_time": "2023-05-17T09:07:46.542Z"
   },
   {
    "duration": 9478,
    "start_time": "2023-05-17T09:09:20.371Z"
   },
   {
    "duration": 22267,
    "start_time": "2023-05-17T09:09:32.084Z"
   },
   {
    "duration": 1561,
    "start_time": "2023-05-17T09:09:58.777Z"
   },
   {
    "duration": 5474,
    "start_time": "2023-05-17T09:10:03.729Z"
   },
   {
    "duration": 1416,
    "start_time": "2023-05-17T09:10:11.421Z"
   },
   {
    "duration": 8722,
    "start_time": "2023-05-17T09:10:12.891Z"
   },
   {
    "duration": 140696,
    "start_time": "2023-05-17T09:10:21.614Z"
   },
   {
    "duration": 15,
    "start_time": "2023-05-17T09:12:42.322Z"
   },
   {
    "duration": 1395,
    "start_time": "2023-05-17T09:16:25.125Z"
   },
   {
    "duration": 8065,
    "start_time": "2023-05-17T09:16:26.590Z"
   },
   {
    "duration": 113746,
    "start_time": "2023-05-17T09:16:34.656Z"
   },
   {
    "duration": 8,
    "start_time": "2023-05-17T09:18:28.423Z"
   },
   {
    "duration": 12,
    "start_time": "2023-05-17T09:22:46.811Z"
   },
   {
    "duration": 16,
    "start_time": "2023-05-17T09:22:58.501Z"
   },
   {
    "duration": 4,
    "start_time": "2023-05-17T09:23:15.208Z"
   },
   {
    "duration": 2685,
    "start_time": "2023-05-17T09:24:06.586Z"
   },
   {
    "duration": 9,
    "start_time": "2023-05-17T09:26:31.931Z"
   },
   {
    "duration": 189,
    "start_time": "2023-05-17T09:26:57.655Z"
   },
   {
    "duration": 318,
    "start_time": "2023-05-17T09:27:27.510Z"
   },
   {
    "duration": 243,
    "start_time": "2023-05-17T09:27:39.684Z"
   },
   {
    "duration": 34,
    "start_time": "2023-05-17T09:27:48.579Z"
   },
   {
    "duration": 10,
    "start_time": "2023-05-17T09:28:03.336Z"
   },
   {
    "duration": 171,
    "start_time": "2023-05-17T09:28:24.806Z"
   },
   {
    "duration": 199,
    "start_time": "2023-05-17T09:29:35.724Z"
   },
   {
    "duration": 98,
    "start_time": "2023-05-17T09:29:45.316Z"
   },
   {
    "duration": 225,
    "start_time": "2023-05-17T09:29:56.257Z"
   },
   {
    "duration": 5,
    "start_time": "2023-05-17T09:30:09.745Z"
   },
   {
    "duration": 7,
    "start_time": "2023-05-17T09:30:29.034Z"
   },
   {
    "duration": 19,
    "start_time": "2023-05-17T09:30:37.007Z"
   },
   {
    "duration": 7,
    "start_time": "2023-05-17T09:30:49.133Z"
   },
   {
    "duration": 5,
    "start_time": "2023-05-17T09:30:58.752Z"
   },
   {
    "duration": 5,
    "start_time": "2023-05-17T09:31:46.655Z"
   },
   {
    "duration": 7,
    "start_time": "2023-05-17T09:31:53.629Z"
   },
   {
    "duration": 6,
    "start_time": "2023-05-17T09:32:42.322Z"
   },
   {
    "duration": 6,
    "start_time": "2023-05-17T09:32:51.123Z"
   },
   {
    "duration": 4,
    "start_time": "2023-05-17T09:33:47.347Z"
   },
   {
    "duration": 10,
    "start_time": "2023-05-17T09:33:50.015Z"
   },
   {
    "duration": 13,
    "start_time": "2023-05-17T09:34:44.720Z"
   },
   {
    "duration": 17,
    "start_time": "2023-05-17T09:34:54.889Z"
   },
   {
    "duration": 25,
    "start_time": "2023-05-17T09:35:03.581Z"
   },
   {
    "duration": 6,
    "start_time": "2023-05-17T09:35:55.650Z"
   },
   {
    "duration": 24,
    "start_time": "2023-05-17T09:36:11.607Z"
   },
   {
    "duration": 6,
    "start_time": "2023-05-17T09:36:43.634Z"
   },
   {
    "duration": 6,
    "start_time": "2023-05-17T09:37:20.377Z"
   },
   {
    "duration": 2930,
    "start_time": "2023-05-17T09:38:12.218Z"
   },
   {
    "duration": 26,
    "start_time": "2023-05-17T09:38:32.692Z"
   },
   {
    "duration": 9,
    "start_time": "2023-05-17T09:39:41.358Z"
   },
   {
    "duration": 11,
    "start_time": "2023-05-17T09:39:48.930Z"
   },
   {
    "duration": 13,
    "start_time": "2023-05-17T09:41:39.807Z"
   },
   {
    "duration": 9,
    "start_time": "2023-05-17T09:42:29.108Z"
   },
   {
    "duration": 14,
    "start_time": "2023-05-17T09:42:35.785Z"
   },
   {
    "duration": 2852,
    "start_time": "2023-05-17T09:42:59.117Z"
   },
   {
    "duration": 19,
    "start_time": "2023-05-17T09:43:04.775Z"
   },
   {
    "duration": 15,
    "start_time": "2023-05-17T09:43:22.079Z"
   },
   {
    "duration": 2810,
    "start_time": "2023-05-17T09:43:42.112Z"
   },
   {
    "duration": 10,
    "start_time": "2023-05-17T09:43:49.655Z"
   },
   {
    "duration": 7,
    "start_time": "2023-05-17T09:43:56.707Z"
   },
   {
    "duration": 10,
    "start_time": "2023-05-17T09:44:06.455Z"
   },
   {
    "duration": 9,
    "start_time": "2023-05-17T09:44:11.408Z"
   },
   {
    "duration": 4,
    "start_time": "2023-05-17T09:44:15.245Z"
   },
   {
    "duration": 4,
    "start_time": "2023-05-17T09:44:32.423Z"
   },
   {
    "duration": 2383,
    "start_time": "2023-05-17T09:44:46.151Z"
   },
   {
    "duration": 7,
    "start_time": "2023-05-17T09:44:51.541Z"
   },
   {
    "duration": 3,
    "start_time": "2023-05-17T09:45:01.166Z"
   },
   {
    "duration": 8,
    "start_time": "2023-05-17T09:45:09.736Z"
   },
   {
    "duration": 12,
    "start_time": "2023-05-17T09:45:28.361Z"
   },
   {
    "duration": 2623,
    "start_time": "2023-05-17T09:45:35.683Z"
   },
   {
    "duration": 6,
    "start_time": "2023-05-17T09:45:42.048Z"
   },
   {
    "duration": 4,
    "start_time": "2023-05-17T09:46:05.742Z"
   },
   {
    "duration": 6,
    "start_time": "2023-05-17T09:46:08.906Z"
   },
   {
    "duration": 7,
    "start_time": "2023-05-17T09:46:15.306Z"
   },
   {
    "duration": 112,
    "start_time": "2023-05-17T09:46:35.459Z"
   },
   {
    "duration": 43,
    "start_time": "2023-05-17T09:46:38.825Z"
   },
   {
    "duration": 80,
    "start_time": "2023-05-17T09:46:48.568Z"
   },
   {
    "duration": 13,
    "start_time": "2023-05-17T09:46:58.004Z"
   },
   {
    "duration": 9,
    "start_time": "2023-05-17T09:47:01.447Z"
   },
   {
    "duration": 11,
    "start_time": "2023-05-17T09:47:15.012Z"
   },
   {
    "duration": 6,
    "start_time": "2023-05-17T09:47:23.532Z"
   },
   {
    "duration": 18,
    "start_time": "2023-05-17T09:47:49.411Z"
   },
   {
    "duration": 12,
    "start_time": "2023-05-17T09:49:00.010Z"
   },
   {
    "duration": 13,
    "start_time": "2023-05-17T09:49:47.612Z"
   },
   {
    "duration": 18,
    "start_time": "2023-05-17T09:50:47.935Z"
   },
   {
    "duration": 2716,
    "start_time": "2023-05-17T09:51:01.901Z"
   },
   {
    "duration": 22,
    "start_time": "2023-05-17T09:51:07.807Z"
   },
   {
    "duration": 3330,
    "start_time": "2023-05-17T09:52:23.204Z"
   },
   {
    "duration": 10,
    "start_time": "2023-05-17T09:52:29.211Z"
   },
   {
    "duration": 17,
    "start_time": "2023-05-17T09:52:45.563Z"
   },
   {
    "duration": 14,
    "start_time": "2023-05-17T09:53:07.135Z"
   },
   {
    "duration": 2672,
    "start_time": "2023-05-17T09:53:22.864Z"
   },
   {
    "duration": 7,
    "start_time": "2023-05-17T09:53:28.872Z"
   },
   {
    "duration": 206,
    "start_time": "2023-05-17T09:53:40.204Z"
   },
   {
    "duration": 7,
    "start_time": "2023-05-17T09:54:13.270Z"
   },
   {
    "duration": 12,
    "start_time": "2023-05-17T09:54:29.010Z"
   },
   {
    "duration": 10,
    "start_time": "2023-05-17T09:55:45.403Z"
   },
   {
    "duration": 343,
    "start_time": "2023-05-17T09:56:06.512Z"
   },
   {
    "duration": 4162,
    "start_time": "2023-05-17T09:57:24.666Z"
   },
   {
    "duration": 217726,
    "start_time": "2023-05-17T09:58:13.945Z"
   },
   {
    "duration": 27,
    "start_time": "2023-05-17T10:07:22.784Z"
   },
   {
    "duration": 8,
    "start_time": "2023-05-17T10:08:10.513Z"
   },
   {
    "duration": 260,
    "start_time": "2023-05-17T10:08:13.281Z"
   },
   {
    "duration": 63298,
    "start_time": "2023-05-17T10:10:15.929Z"
   },
   {
    "duration": 0,
    "start_time": "2023-05-17T10:12:26.642Z"
   },
   {
    "duration": 0,
    "start_time": "2023-05-17T10:14:32.510Z"
   },
   {
    "duration": 153698,
    "start_time": "2023-05-17T10:14:33.611Z"
   },
   {
    "duration": 0,
    "start_time": "2023-05-17T10:17:07.312Z"
   },
   {
    "duration": 3933,
    "start_time": "2023-05-17T10:21:54.465Z"
   },
   {
    "duration": 51,
    "start_time": "2023-05-17T10:21:58.399Z"
   },
   {
    "duration": 10,
    "start_time": "2023-05-17T10:21:58.452Z"
   },
   {
    "duration": 10,
    "start_time": "2023-05-17T10:21:58.463Z"
   },
   {
    "duration": 16,
    "start_time": "2023-05-17T10:21:58.475Z"
   },
   {
    "duration": 27,
    "start_time": "2023-05-17T10:21:58.493Z"
   },
   {
    "duration": 6,
    "start_time": "2023-05-17T10:21:58.521Z"
   },
   {
    "duration": 5,
    "start_time": "2023-05-17T10:21:58.529Z"
   },
   {
    "duration": 17,
    "start_time": "2023-05-17T10:21:58.536Z"
   },
   {
    "duration": 261,
    "start_time": "2023-05-17T10:21:58.555Z"
   },
   {
    "duration": 6,
    "start_time": "2023-05-17T10:21:58.818Z"
   },
   {
    "duration": 652,
    "start_time": "2023-05-17T10:21:58.826Z"
   },
   {
    "duration": 21,
    "start_time": "2023-05-17T10:21:59.479Z"
   },
   {
    "duration": 178,
    "start_time": "2023-05-17T10:21:59.508Z"
   },
   {
    "duration": 1431,
    "start_time": "2023-05-17T10:21:59.688Z"
   },
   {
    "duration": 8272,
    "start_time": "2023-05-17T10:22:01.122Z"
   },
   {
    "duration": 396741,
    "start_time": "2023-05-17T10:22:09.403Z"
   },
   {
    "duration": 9,
    "start_time": "2023-05-17T10:28:46.145Z"
   },
   {
    "duration": 3285,
    "start_time": "2023-05-17T10:28:46.157Z"
   },
   {
    "duration": 6,
    "start_time": "2023-05-17T10:28:49.444Z"
   },
   {
    "duration": 351,
    "start_time": "2023-05-17T10:28:49.452Z"
   },
   {
    "duration": 3149,
    "start_time": "2023-05-17T10:28:54.462Z"
   },
   {
    "duration": 7,
    "start_time": "2023-05-17T10:28:59.373Z"
   },
   {
    "duration": 353,
    "start_time": "2023-05-17T10:28:59.991Z"
   },
   {
    "duration": 186,
    "start_time": "2023-05-17T10:34:39.052Z"
   },
   {
    "duration": 25,
    "start_time": "2023-05-17T10:35:06.622Z"
   },
   {
    "duration": 30,
    "start_time": "2023-05-17T10:36:29.485Z"
   },
   {
    "duration": 31,
    "start_time": "2023-05-17T10:36:49.505Z"
   },
   {
    "duration": 22,
    "start_time": "2023-05-17T10:37:36.884Z"
   },
   {
    "duration": 15,
    "start_time": "2023-05-17T10:38:08.447Z"
   },
   {
    "duration": 14,
    "start_time": "2023-05-17T10:38:16.669Z"
   },
   {
    "duration": 31,
    "start_time": "2023-05-17T10:38:27.271Z"
   },
   {
    "duration": 16,
    "start_time": "2023-05-17T10:41:13.449Z"
   },
   {
    "duration": 2127,
    "start_time": "2023-05-17T10:41:21.917Z"
   },
   {
    "duration": 44,
    "start_time": "2023-05-17T10:41:24.047Z"
   },
   {
    "duration": 8,
    "start_time": "2023-05-17T10:41:24.099Z"
   },
   {
    "duration": 29,
    "start_time": "2023-05-17T10:41:24.109Z"
   },
   {
    "duration": 34,
    "start_time": "2023-05-17T10:41:24.139Z"
   },
   {
    "duration": 42,
    "start_time": "2023-05-17T10:41:24.175Z"
   },
   {
    "duration": 38,
    "start_time": "2023-05-17T10:41:24.219Z"
   },
   {
    "duration": 7,
    "start_time": "2023-05-17T10:41:24.291Z"
   },
   {
    "duration": 6,
    "start_time": "2023-05-17T10:41:25.710Z"
   },
   {
    "duration": 426,
    "start_time": "2023-05-17T10:41:26.077Z"
   },
   {
    "duration": 12,
    "start_time": "2023-05-17T10:41:26.505Z"
   },
   {
    "duration": 1015,
    "start_time": "2023-05-17T10:41:26.704Z"
   },
   {
    "duration": 5,
    "start_time": "2023-05-17T10:41:28.547Z"
   },
   {
    "duration": 24,
    "start_time": "2023-05-17T10:41:32.115Z"
   },
   {
    "duration": 3655,
    "start_time": "2023-05-17T10:41:57.559Z"
   },
   {
    "duration": 41,
    "start_time": "2023-05-17T10:42:01.216Z"
   },
   {
    "duration": 25,
    "start_time": "2023-05-17T10:42:01.258Z"
   },
   {
    "duration": 64,
    "start_time": "2023-05-17T10:42:01.284Z"
   },
   {
    "duration": 28,
    "start_time": "2023-05-17T10:42:01.350Z"
   },
   {
    "duration": 61,
    "start_time": "2023-05-17T10:42:01.379Z"
   },
   {
    "duration": 35,
    "start_time": "2023-05-17T10:42:01.441Z"
   },
   {
    "duration": 59,
    "start_time": "2023-05-17T10:42:01.478Z"
   },
   {
    "duration": 66,
    "start_time": "2023-05-17T10:42:01.539Z"
   },
   {
    "duration": 509,
    "start_time": "2023-05-17T10:42:01.607Z"
   },
   {
    "duration": 8,
    "start_time": "2023-05-17T10:42:03.704Z"
   },
   {
    "duration": 868,
    "start_time": "2023-05-17T10:42:11.116Z"
   },
   {
    "duration": 5,
    "start_time": "2023-05-17T10:42:16.504Z"
   },
   {
    "duration": 163,
    "start_time": "2023-05-17T10:42:18.260Z"
   },
   {
    "duration": 32,
    "start_time": "2023-05-17T10:42:21.405Z"
   },
   {
    "duration": 23,
    "start_time": "2023-05-17T10:42:27.623Z"
   },
   {
    "duration": 4169,
    "start_time": "2023-05-17T10:43:24.014Z"
   },
   {
    "duration": 59,
    "start_time": "2023-05-17T10:43:30.072Z"
   },
   {
    "duration": 24,
    "start_time": "2023-05-17T10:43:31.082Z"
   },
   {
    "duration": 10,
    "start_time": "2023-05-17T10:43:31.614Z"
   },
   {
    "duration": 20,
    "start_time": "2023-05-17T10:43:33.014Z"
   },
   {
    "duration": 12,
    "start_time": "2023-05-17T10:43:33.309Z"
   },
   {
    "duration": 23,
    "start_time": "2023-05-17T10:43:33.582Z"
   },
   {
    "duration": 4,
    "start_time": "2023-05-17T10:43:36.318Z"
   },
   {
    "duration": 16,
    "start_time": "2023-05-17T10:43:37.378Z"
   },
   {
    "duration": 385,
    "start_time": "2023-05-17T10:43:38.362Z"
   },
   {
    "duration": 7,
    "start_time": "2023-05-17T10:43:44.826Z"
   },
   {
    "duration": 921,
    "start_time": "2023-05-17T10:43:45.811Z"
   },
   {
    "duration": 130,
    "start_time": "2023-05-17T10:43:54.534Z"
   },
   {
    "duration": 15,
    "start_time": "2023-05-17T10:43:56.204Z"
   },
   {
    "duration": 7,
    "start_time": "2023-05-17T10:44:06.639Z"
   },
   {
    "duration": 6,
    "start_time": "2023-05-17T10:45:12.446Z"
   },
   {
    "duration": 5,
    "start_time": "2023-05-17T10:45:14.504Z"
   },
   {
    "duration": 1234,
    "start_time": "2023-05-17T10:45:15.680Z"
   },
   {
    "duration": 8064,
    "start_time": "2023-05-17T10:45:21.904Z"
   },
   {
    "duration": 352224,
    "start_time": "2023-05-17T10:45:29.970Z"
   },
   {
    "duration": 11,
    "start_time": "2023-05-17T10:51:22.195Z"
   },
   {
    "duration": 1940,
    "start_time": "2023-05-17T10:51:22.208Z"
   },
   {
    "duration": 6,
    "start_time": "2023-05-17T10:51:24.150Z"
   },
   {
    "duration": 307,
    "start_time": "2023-05-17T10:51:24.157Z"
   },
   {
    "duration": 1053,
    "start_time": "2023-05-17T10:52:54.758Z"
   },
   {
    "duration": 428,
    "start_time": "2023-05-17T11:11:07.403Z"
   },
   {
    "duration": 155,
    "start_time": "2023-05-17T11:13:20.509Z"
   },
   {
    "duration": 12,
    "start_time": "2023-05-17T11:13:37.201Z"
   },
   {
    "duration": 1255,
    "start_time": "2023-05-17T11:13:37.912Z"
   },
   {
    "duration": 1585,
    "start_time": "2023-05-17T11:13:55.578Z"
   },
   {
    "duration": 452,
    "start_time": "2023-05-17T11:27:57.849Z"
   },
   {
    "duration": 1088,
    "start_time": "2023-05-17T11:28:51.415Z"
   },
   {
    "duration": 4,
    "start_time": "2023-05-17T11:46:42.256Z"
   },
   {
    "duration": 4,
    "start_time": "2023-05-17T11:46:58.819Z"
   },
   {
    "duration": 2991,
    "start_time": "2023-05-17T11:47:06.995Z"
   },
   {
    "duration": 8046,
    "start_time": "2023-05-17T11:47:15.211Z"
   },
   {
    "duration": 390630,
    "start_time": "2023-05-17T11:47:31.336Z"
   },
   {
    "duration": 8,
    "start_time": "2023-05-17T11:54:09.540Z"
   },
   {
    "duration": 67,
    "start_time": "2023-05-17T12:04:15.803Z"
   },
   {
    "duration": 4997,
    "start_time": "2023-05-17T12:05:02.736Z"
   },
   {
    "duration": 19,
    "start_time": "2023-05-17T12:05:18.707Z"
   },
   {
    "duration": 931,
    "start_time": "2023-05-17T12:05:42.703Z"
   },
   {
    "duration": 838,
    "start_time": "2023-05-17T12:06:06.209Z"
   },
   {
    "duration": 860,
    "start_time": "2023-05-17T12:06:19.042Z"
   },
   {
    "duration": 4742,
    "start_time": "2023-05-17T12:12:52.338Z"
   },
   {
    "duration": 80,
    "start_time": "2023-05-17T12:12:57.083Z"
   },
   {
    "duration": 9,
    "start_time": "2023-05-17T12:12:57.165Z"
   },
   {
    "duration": 21,
    "start_time": "2023-05-17T12:12:57.175Z"
   },
   {
    "duration": 24,
    "start_time": "2023-05-17T12:12:57.203Z"
   },
   {
    "duration": 31,
    "start_time": "2023-05-17T12:12:57.228Z"
   },
   {
    "duration": 18,
    "start_time": "2023-05-17T12:12:57.260Z"
   },
   {
    "duration": 71,
    "start_time": "2023-05-17T12:12:57.279Z"
   },
   {
    "duration": 17,
    "start_time": "2023-05-17T12:12:57.352Z"
   },
   {
    "duration": 504,
    "start_time": "2023-05-17T12:12:57.371Z"
   },
   {
    "duration": 6,
    "start_time": "2023-05-17T12:12:57.877Z"
   },
   {
    "duration": 967,
    "start_time": "2023-05-17T12:12:57.884Z"
   },
   {
    "duration": 7,
    "start_time": "2023-05-17T12:12:58.853Z"
   },
   {
    "duration": 9,
    "start_time": "2023-05-17T12:12:58.862Z"
   },
   {
    "duration": 2925,
    "start_time": "2023-05-17T12:12:58.872Z"
   },
   {
    "duration": 7963,
    "start_time": "2023-05-17T12:13:01.801Z"
   },
   {
    "duration": 386175,
    "start_time": "2023-05-17T12:13:09.766Z"
   },
   {
    "duration": 12,
    "start_time": "2023-05-17T12:19:35.943Z"
   },
   {
    "duration": 3046,
    "start_time": "2023-05-17T12:19:35.956Z"
   },
   {
    "duration": 7,
    "start_time": "2023-05-17T12:19:39.003Z"
   },
   {
    "duration": 357,
    "start_time": "2023-05-17T12:19:39.012Z"
   },
   {
    "duration": 853,
    "start_time": "2023-05-17T12:19:39.370Z"
   },
   {
    "duration": 3105,
    "start_time": "2023-05-17T12:24:36.637Z"
   },
   {
    "duration": 48,
    "start_time": "2023-05-17T12:24:39.747Z"
   },
   {
    "duration": 23,
    "start_time": "2023-05-17T12:24:39.800Z"
   },
   {
    "duration": 28,
    "start_time": "2023-05-17T12:24:39.831Z"
   },
   {
    "duration": 16,
    "start_time": "2023-05-17T12:24:39.861Z"
   },
   {
    "duration": 18,
    "start_time": "2023-05-17T12:24:39.878Z"
   },
   {
    "duration": 61,
    "start_time": "2023-05-17T12:24:39.897Z"
   },
   {
    "duration": 8,
    "start_time": "2023-05-17T12:24:39.960Z"
   },
   {
    "duration": 20,
    "start_time": "2023-05-17T12:24:39.970Z"
   },
   {
    "duration": 572,
    "start_time": "2023-05-17T12:24:39.991Z"
   },
   {
    "duration": 6,
    "start_time": "2023-05-17T12:24:40.565Z"
   },
   {
    "duration": 4583,
    "start_time": "2023-05-17T12:24:49.132Z"
   },
   {
    "duration": 57,
    "start_time": "2023-05-17T12:24:53.717Z"
   },
   {
    "duration": 13,
    "start_time": "2023-05-17T12:24:53.775Z"
   },
   {
    "duration": 71,
    "start_time": "2023-05-17T12:24:53.789Z"
   },
   {
    "duration": 41,
    "start_time": "2023-05-17T12:24:53.862Z"
   },
   {
    "duration": 56,
    "start_time": "2023-05-17T12:24:53.905Z"
   },
   {
    "duration": 49,
    "start_time": "2023-05-17T12:24:53.963Z"
   },
   {
    "duration": 51,
    "start_time": "2023-05-17T12:24:54.013Z"
   },
   {
    "duration": 53,
    "start_time": "2023-05-17T12:24:54.065Z"
   },
   {
    "duration": 572,
    "start_time": "2023-05-17T12:24:54.120Z"
   },
   {
    "duration": 16,
    "start_time": "2023-05-17T12:24:54.694Z"
   },
   {
    "duration": 1238,
    "start_time": "2023-05-17T12:24:54.712Z"
   },
   {
    "duration": 7,
    "start_time": "2023-05-17T12:24:55.952Z"
   },
   {
    "duration": 19,
    "start_time": "2023-05-17T12:24:55.961Z"
   },
   {
    "duration": 3036,
    "start_time": "2023-05-17T12:24:55.982Z"
   },
   {
    "duration": 8779,
    "start_time": "2023-05-17T12:24:59.035Z"
   },
   {
    "duration": 372939,
    "start_time": "2023-05-17T12:25:07.820Z"
   },
   {
    "duration": 9,
    "start_time": "2023-05-17T12:31:20.761Z"
   },
   {
    "duration": 3065,
    "start_time": "2023-05-17T12:31:20.772Z"
   },
   {
    "duration": 9,
    "start_time": "2023-05-17T12:31:23.839Z"
   },
   {
    "duration": 394,
    "start_time": "2023-05-17T12:31:23.849Z"
   },
   {
    "duration": 912,
    "start_time": "2023-05-17T12:31:24.245Z"
   },
   {
    "duration": 16,
    "start_time": "2023-05-19T09:28:42.085Z"
   },
   {
    "duration": 6352,
    "start_time": "2023-05-19T09:31:41.973Z"
   },
   {
    "duration": 103,
    "start_time": "2023-05-19T09:31:56.823Z"
   },
   {
    "duration": 11,
    "start_time": "2023-05-19T09:31:58.544Z"
   },
   {
    "duration": 13,
    "start_time": "2023-05-19T09:31:59.061Z"
   },
   {
    "duration": 25,
    "start_time": "2023-05-19T09:32:00.216Z"
   },
   {
    "duration": 12,
    "start_time": "2023-05-19T09:32:00.653Z"
   },
   {
    "duration": 9,
    "start_time": "2023-05-19T09:32:01.659Z"
   },
   {
    "duration": 5,
    "start_time": "2023-05-19T09:32:03.416Z"
   },
   {
    "duration": 12,
    "start_time": "2023-05-19T09:32:03.756Z"
   },
   {
    "duration": 436,
    "start_time": "2023-05-19T09:32:05.060Z"
   },
   {
    "duration": 9,
    "start_time": "2023-05-19T09:32:06.600Z"
   },
   {
    "duration": 996,
    "start_time": "2023-05-19T09:32:07.401Z"
   },
   {
    "duration": 6,
    "start_time": "2023-05-19T09:32:11.016Z"
   },
   {
    "duration": 5,
    "start_time": "2023-05-19T09:32:14.908Z"
   },
   {
    "duration": 183,
    "start_time": "2023-05-19T09:32:17.336Z"
   },
   {
    "duration": 4,
    "start_time": "2023-05-19T09:34:10.937Z"
   },
   {
    "duration": 37,
    "start_time": "2023-05-19T09:34:13.260Z"
   },
   {
    "duration": 11,
    "start_time": "2023-05-19T09:34:43.449Z"
   },
   {
    "duration": 39,
    "start_time": "2023-05-19T09:35:07.411Z"
   },
   {
    "duration": 4390,
    "start_time": "2023-05-19T09:37:06.541Z"
   },
   {
    "duration": 77,
    "start_time": "2023-05-19T09:37:10.934Z"
   },
   {
    "duration": 10,
    "start_time": "2023-05-19T09:37:11.013Z"
   },
   {
    "duration": 13,
    "start_time": "2023-05-19T09:37:11.024Z"
   },
   {
    "duration": 69,
    "start_time": "2023-05-19T09:37:11.039Z"
   },
   {
    "duration": 20,
    "start_time": "2023-05-19T09:37:11.110Z"
   },
   {
    "duration": 63,
    "start_time": "2023-05-19T09:37:11.133Z"
   },
   {
    "duration": 30,
    "start_time": "2023-05-19T09:37:11.197Z"
   },
   {
    "duration": 29,
    "start_time": "2023-05-19T09:37:11.229Z"
   },
   {
    "duration": 540,
    "start_time": "2023-05-19T09:37:11.260Z"
   },
   {
    "duration": 11,
    "start_time": "2023-05-19T09:37:11.801Z"
   },
   {
    "duration": 997,
    "start_time": "2023-05-19T09:37:11.814Z"
   },
   {
    "duration": 7,
    "start_time": "2023-05-19T09:37:12.812Z"
   },
   {
    "duration": 7,
    "start_time": "2023-05-19T09:37:12.822Z"
   },
   {
    "duration": 170,
    "start_time": "2023-05-19T09:37:12.831Z"
   },
   {
    "duration": 0,
    "start_time": "2023-05-19T09:37:13.003Z"
   },
   {
    "duration": 1,
    "start_time": "2023-05-19T09:37:13.004Z"
   },
   {
    "duration": 0,
    "start_time": "2023-05-19T09:37:13.005Z"
   },
   {
    "duration": 0,
    "start_time": "2023-05-19T09:37:13.007Z"
   },
   {
    "duration": 0,
    "start_time": "2023-05-19T09:37:13.008Z"
   },
   {
    "duration": 0,
    "start_time": "2023-05-19T09:37:13.009Z"
   },
   {
    "duration": 0,
    "start_time": "2023-05-19T09:37:13.010Z"
   },
   {
    "duration": 37,
    "start_time": "2023-05-19T09:38:47.239Z"
   },
   {
    "duration": 16,
    "start_time": "2023-05-19T09:39:46.481Z"
   },
   {
    "duration": 12,
    "start_time": "2023-05-19T09:39:59.202Z"
   },
   {
    "duration": 20,
    "start_time": "2023-05-19T09:40:12.690Z"
   },
   {
    "duration": 4,
    "start_time": "2023-05-19T09:41:20.670Z"
   },
   {
    "duration": 22,
    "start_time": "2023-05-19T09:41:22.485Z"
   },
   {
    "duration": 17,
    "start_time": "2023-05-19T09:41:42.477Z"
   },
   {
    "duration": 5,
    "start_time": "2023-05-19T09:42:16.321Z"
   },
   {
    "duration": 12,
    "start_time": "2023-05-19T09:42:23.122Z"
   },
   {
    "duration": 4613,
    "start_time": "2023-05-19T09:42:34.774Z"
   },
   {
    "duration": 40,
    "start_time": "2023-05-19T09:42:39.389Z"
   },
   {
    "duration": 10,
    "start_time": "2023-05-19T09:42:39.431Z"
   },
   {
    "duration": 10,
    "start_time": "2023-05-19T09:42:39.443Z"
   },
   {
    "duration": 17,
    "start_time": "2023-05-19T09:42:39.455Z"
   },
   {
    "duration": 24,
    "start_time": "2023-05-19T09:42:39.473Z"
   },
   {
    "duration": 7,
    "start_time": "2023-05-19T09:42:39.498Z"
   },
   {
    "duration": 9,
    "start_time": "2023-05-19T09:42:39.507Z"
   },
   {
    "duration": 15,
    "start_time": "2023-05-19T09:42:39.518Z"
   },
   {
    "duration": 456,
    "start_time": "2023-05-19T09:42:39.536Z"
   },
   {
    "duration": 10,
    "start_time": "2023-05-19T09:42:39.995Z"
   },
   {
    "duration": 999,
    "start_time": "2023-05-19T09:42:40.007Z"
   },
   {
    "duration": 7,
    "start_time": "2023-05-19T09:42:41.008Z"
   },
   {
    "duration": 5,
    "start_time": "2023-05-19T09:42:41.017Z"
   },
   {
    "duration": 2978,
    "start_time": "2023-05-19T09:42:41.023Z"
   },
   {
    "duration": 8206,
    "start_time": "2023-05-19T09:42:44.003Z"
   },
   {
    "duration": 323350,
    "start_time": "2023-05-19T09:42:52.211Z"
   },
   {
    "duration": 8,
    "start_time": "2023-05-19T09:48:15.563Z"
   },
   {
    "duration": 143,
    "start_time": "2023-05-19T09:48:15.573Z"
   },
   {
    "duration": 0,
    "start_time": "2023-05-19T09:48:15.718Z"
   },
   {
    "duration": 0,
    "start_time": "2023-05-19T09:48:15.720Z"
   },
   {
    "duration": 0,
    "start_time": "2023-05-19T09:48:15.721Z"
   },
   {
    "duration": 2116,
    "start_time": "2023-05-19T09:50:24.386Z"
   },
   {
    "duration": 8,
    "start_time": "2023-05-19T09:50:31.826Z"
   },
   {
    "duration": 338,
    "start_time": "2023-05-19T09:50:32.193Z"
   },
   {
    "duration": 871,
    "start_time": "2023-05-19T09:50:40.542Z"
   },
   {
    "duration": 4147,
    "start_time": "2023-05-19T09:53:31.281Z"
   },
   {
    "duration": 40,
    "start_time": "2023-05-19T09:53:35.430Z"
   },
   {
    "duration": 10,
    "start_time": "2023-05-19T09:53:35.472Z"
   },
   {
    "duration": 33,
    "start_time": "2023-05-19T09:53:35.484Z"
   },
   {
    "duration": 17,
    "start_time": "2023-05-19T09:53:35.519Z"
   },
   {
    "duration": 24,
    "start_time": "2023-05-19T09:53:35.538Z"
   },
   {
    "duration": 23,
    "start_time": "2023-05-19T09:53:35.564Z"
   },
   {
    "duration": 16,
    "start_time": "2023-05-19T09:53:35.589Z"
   },
   {
    "duration": 10,
    "start_time": "2023-05-19T09:53:35.607Z"
   },
   {
    "duration": 441,
    "start_time": "2023-05-19T09:53:35.619Z"
   },
   {
    "duration": 9,
    "start_time": "2023-05-19T09:53:36.062Z"
   },
   {
    "duration": 1035,
    "start_time": "2023-05-19T09:53:36.073Z"
   },
   {
    "duration": 8,
    "start_time": "2023-05-19T09:53:37.110Z"
   },
   {
    "duration": 14,
    "start_time": "2023-05-19T09:53:37.120Z"
   },
   {
    "duration": 3471,
    "start_time": "2023-05-19T09:53:37.135Z"
   },
   {
    "duration": 8677,
    "start_time": "2023-05-19T09:53:40.694Z"
   },
   {
    "duration": 166575,
    "start_time": "2023-05-19T09:53:49.373Z"
   },
   {
    "duration": 0,
    "start_time": "2023-05-19T09:56:35.950Z"
   },
   {
    "duration": 0,
    "start_time": "2023-05-19T09:56:35.952Z"
   },
   {
    "duration": 0,
    "start_time": "2023-05-19T09:56:35.953Z"
   },
   {
    "duration": 0,
    "start_time": "2023-05-19T09:56:35.955Z"
   },
   {
    "duration": 0,
    "start_time": "2023-05-19T09:56:35.956Z"
   },
   {
    "duration": 3926,
    "start_time": "2023-05-19T09:56:48.126Z"
   },
   {
    "duration": 40,
    "start_time": "2023-05-19T09:56:52.055Z"
   },
   {
    "duration": 10,
    "start_time": "2023-05-19T09:56:52.096Z"
   },
   {
    "duration": 20,
    "start_time": "2023-05-19T09:56:52.108Z"
   },
   {
    "duration": 24,
    "start_time": "2023-05-19T09:56:52.131Z"
   },
   {
    "duration": 15,
    "start_time": "2023-05-19T09:56:52.156Z"
   },
   {
    "duration": 12,
    "start_time": "2023-05-19T09:56:52.173Z"
   },
   {
    "duration": 5,
    "start_time": "2023-05-19T09:56:52.195Z"
   },
   {
    "duration": 16,
    "start_time": "2023-05-19T09:56:52.202Z"
   },
   {
    "duration": 516,
    "start_time": "2023-05-19T09:56:52.220Z"
   },
   {
    "duration": 7,
    "start_time": "2023-05-19T09:56:52.738Z"
   },
   {
    "duration": 966,
    "start_time": "2023-05-19T09:56:52.746Z"
   },
   {
    "duration": 7,
    "start_time": "2023-05-19T09:56:53.713Z"
   },
   {
    "duration": 10,
    "start_time": "2023-05-19T09:56:53.723Z"
   },
   {
    "duration": 2964,
    "start_time": "2023-05-19T09:56:53.735Z"
   },
   {
    "duration": 7965,
    "start_time": "2023-05-19T09:56:56.704Z"
   },
   {
    "duration": 322156,
    "start_time": "2023-05-19T09:57:04.670Z"
   },
   {
    "duration": 9,
    "start_time": "2023-05-19T10:02:26.828Z"
   },
   {
    "duration": 1398,
    "start_time": "2023-05-19T10:02:26.839Z"
   },
   {
    "duration": 9,
    "start_time": "2023-05-19T10:02:28.239Z"
   },
   {
    "duration": 376,
    "start_time": "2023-05-19T10:02:28.249Z"
   },
   {
    "duration": 902,
    "start_time": "2023-05-19T10:02:28.627Z"
   },
   {
    "duration": 2346,
    "start_time": "2023-05-19T10:02:35.533Z"
   },
   {
    "duration": 7,
    "start_time": "2023-05-19T10:02:59.315Z"
   },
   {
    "duration": 344,
    "start_time": "2023-05-19T10:03:01.155Z"
   },
   {
    "duration": 835,
    "start_time": "2023-05-19T10:03:10.812Z"
   },
   {
    "duration": 2676,
    "start_time": "2023-05-19T10:03:48.152Z"
   },
   {
    "duration": 2130,
    "start_time": "2023-05-19T10:03:55.166Z"
   },
   {
    "duration": 2964,
    "start_time": "2023-05-19T10:04:00.937Z"
   },
   {
    "duration": 2404,
    "start_time": "2023-05-19T10:04:05.816Z"
   },
   {
    "duration": 4023,
    "start_time": "2023-05-19T10:04:14.954Z"
   },
   {
    "duration": 3,
    "start_time": "2023-05-19T10:04:40.996Z"
   },
   {
    "duration": 3,
    "start_time": "2023-05-19T10:04:49.109Z"
   },
   {
    "duration": 324166,
    "start_time": "2023-05-19T10:04:52.368Z"
   }
  ],
  "kernelspec": {
   "display_name": "Python 3 (ipykernel)",
   "language": "python",
   "name": "python3"
  },
  "language_info": {
   "codemirror_mode": {
    "name": "ipython",
    "version": 3
   },
   "file_extension": ".py",
   "mimetype": "text/x-python",
   "name": "python",
   "nbconvert_exporter": "python",
   "pygments_lexer": "ipython3",
   "version": "3.9.12"
  },
  "toc": {
   "base_numbering": 1,
   "nav_menu": {},
   "number_sections": true,
   "sideBar": true,
   "skip_h1_title": true,
   "title_cell": "Содержание",
   "title_sidebar": "Contents",
   "toc_cell": false,
   "toc_position": {
    "height": "calc(100% - 180px)",
    "left": "10px",
    "top": "150px",
    "width": "165px"
   },
   "toc_section_display": true,
   "toc_window_display": true
  }
 },
 "nbformat": 4,
 "nbformat_minor": 2
}
