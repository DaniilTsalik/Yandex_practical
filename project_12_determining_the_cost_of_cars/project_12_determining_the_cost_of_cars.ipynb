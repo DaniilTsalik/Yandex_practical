{
 "cells": [
  {
   "cell_type": "markdown",
   "metadata": {},
   "source": [
    "# Проект: Определение стоимости автомобилей\n",
    "**Dataset Description:**\n",
    "    \n",
    "    Сервис по продаже автомобилей с пробегом «Не бит, не крашен» разрабатывает приложение для привлечения новых клиентов.\n",
    "    \n",
    "    Наша задача разработать модель предсказания стоимости автомобиля с максимально высокой метрикой `RMSE` и минимальными: временем обучения и временем предсказания.\n",
    "**Данные:**\n",
    "\n",
    " * `autos.csv` - данные о технических характеристиках, комплектации и ценах автомобилей.\n",
    " \n",
    "**Описание полей данных:**\n",
    "\n",
    " * `DateCrawled` — дата скачивания анкеты из базы\n",
    " * `VehicleType` — тип автомобильного кузова\n",
    " * `RegistrationYear` — год регистрации автомобиля\n",
    " * `Gearbox` — тип коробки передач\n",
    " * `Power` — мощность (л. с.)\n",
    " * `Model` — модель автомобиля\n",
    " * `Kilometer` — пробег (км)\n",
    " * `RegistrationMonth` — месяц регистрации автомобиля\n",
    " * `FuelType` — тип топлива\n",
    " * `Brand` — марка автомобиля\n",
    " * `Repaired` — была машина в ремонте или нет\n",
    " * `DateCreated` — дата создания анкеты\n",
    " * `NumberOfPictures` — количество фотографий автомобиля\n",
    " * `PostalCode` — почтовый индекс владельца анкеты (пользователя)\n",
    " * `LastSeen` — дата последней активности пользователя\n",
    " \n",
    "**Цели:**\n",
    " \n",
    " * Разработака моделей предсказания стоимости автомобиля.\n",
    " * Оценка `RMSE` метрики моделей.\n",
    " * Оценка времени обучения и времени предсказания моделей.\n",
    " \n",
    "**Структура проекта:**\n",
    " \n",
    "\n",
    "<div class=\"toc\"><ul class=\"toc-item\"><li><span><a href=\"#Подготовка-данных\" data-toc-modified-id=\"Подготовка-данных-1\"><span class=\"toc-item-num\">1&nbsp;&nbsp;</span>Подготовка данных</a></span><ul class=\"toc-item\"><li><span><a href=\"#Загрузка,-ознакомление-с-данными\" data-toc-modified-id=\"Загрузка,-ознакомление-с-данными-1.1\"><span class=\"toc-item-num\">1.1&nbsp;&nbsp;</span>Загрузка, ознакомление с данными</a></span></li></ul></li><li><span><a href=\"#Анализ-данных\" data-toc-modified-id=\"Анализ-данных-2\"><span class=\"toc-item-num\">2&nbsp;&nbsp;</span>Анализ данных</a></span><ul class=\"toc-item\"><li><span><a href=\"#year_created\" data-toc-modified-id=\"year_created-2.1\"><span class=\"toc-item-num\">2.1&nbsp;&nbsp;</span>year_created</a></span></li><li><span><a href=\"#price\" data-toc-modified-id=\"price-2.2\"><span class=\"toc-item-num\">2.2&nbsp;&nbsp;</span>price</a></span></li><li><span><a href=\"#vehicle_type\" data-toc-modified-id=\"vehicle_type-2.3\"><span class=\"toc-item-num\">2.3&nbsp;&nbsp;</span>vehicle_type</a></span></li><li><span><a href=\"#registration_year\" data-toc-modified-id=\"registration_year-2.4\"><span class=\"toc-item-num\">2.4&nbsp;&nbsp;</span>registration_year</a></span></li><li><span><a href=\"#gearbox\" data-toc-modified-id=\"gearbox-2.5\"><span class=\"toc-item-num\">2.5&nbsp;&nbsp;</span>gearbox</a></span></li><li><span><a href=\"#power\" data-toc-modified-id=\"power-2.6\"><span class=\"toc-item-num\">2.6&nbsp;&nbsp;</span>power</a></span></li><li><span><a href=\"#kilometer\" data-toc-modified-id=\"kilometer-2.7\"><span class=\"toc-item-num\">2.7&nbsp;&nbsp;</span>kilometer</a></span></li><li><span><a href=\"#registration_month\" data-toc-modified-id=\"registration_month-2.8\"><span class=\"toc-item-num\">2.8&nbsp;&nbsp;</span>registration_month</a></span></li><li><span><a href=\"#fuel_type\" data-toc-modified-id=\"fuel_type-2.9\"><span class=\"toc-item-num\">2.9&nbsp;&nbsp;</span>fuel_type</a></span></li><li><span><a href=\"#brand\" data-toc-modified-id=\"brand-2.10\"><span class=\"toc-item-num\">2.10&nbsp;&nbsp;</span>brand</a></span></li><li><span><a href=\"#repaired\" data-toc-modified-id=\"repaired-2.11\"><span class=\"toc-item-num\">2.11&nbsp;&nbsp;</span>repaired</a></span></li><li><span><a href=\"#month_created\" data-toc-modified-id=\"month_created-2.12\"><span class=\"toc-item-num\">2.12&nbsp;&nbsp;</span>month_created</a></span></li><li><span><a href=\"#number_pictures\" data-toc-modified-id=\"number_pictures-2.13\"><span class=\"toc-item-num\">2.13&nbsp;&nbsp;</span>number_pictures</a></span></li><li><span><a href=\"#postal_code\" data-toc-modified-id=\"postal_code-2.14\"><span class=\"toc-item-num\">2.14&nbsp;&nbsp;</span>postal_code</a></span></li><li><span><a href=\"#last_seen\" data-toc-modified-id=\"last_seen-2.15\"><span class=\"toc-item-num\">2.15&nbsp;&nbsp;</span>last_seen</a></span></li><li><span><a href=\"#model\" data-toc-modified-id=\"model-2.16\"><span class=\"toc-item-num\">2.16&nbsp;&nbsp;</span>model</a></span></li><li><span><a href=\"#fuel_type\" data-toc-modified-id=\"fuel_type-2.17\"><span class=\"toc-item-num\">2.17&nbsp;&nbsp;</span>fuel_type</a></span></li><li><span><a href=\"#Drop-columns\" data-toc-modified-id=\"Drop-columns-2.18\"><span class=\"toc-item-num\">2.18&nbsp;&nbsp;</span>Drop columns</a></span></li><li><span><a href=\"#Train,-test--split\" data-toc-modified-id=\"Train,-test--split-2.19\"><span class=\"toc-item-num\">2.19&nbsp;&nbsp;</span>Train, test  split</a></span></li><li><span><a href=\"#Correlation-matrix\" data-toc-modified-id=\"Correlation-matrix-2.20\"><span class=\"toc-item-num\">2.20&nbsp;&nbsp;</span>Correlation matrix</a></span></li></ul></li><li><span><a href=\"#Обучение-моделей\" data-toc-modified-id=\"Обучение-моделей-3\"><span class=\"toc-item-num\">3&nbsp;&nbsp;</span>Обучение моделей</a></span></li><li><span><a href=\"#Анализ-моделей\" data-toc-modified-id=\"Анализ-моделей-4\"><span class=\"toc-item-num\">4&nbsp;&nbsp;</span>Анализ моделей</a></span></li><li><span><a href=\"#Тестирование-лучшей-модели\" data-toc-modified-id=\"Тестирование-лучшей-модели-5\"><span class=\"toc-item-num\">5&nbsp;&nbsp;</span>Тестирование лучшей модели</a></span></li><li><span><a href=\"#Общий-вывод\" data-toc-modified-id=\"Общий-вывод-6\"><span class=\"toc-item-num\">6&nbsp;&nbsp;</span>Общий вывод</a></span></li></ul></div>\n",
    " \n",
    "**Предмет исследования:**\n",
    "\n",
    "Данные о технических характеристиках, комплектации и ценах автомобилей.\n",
    "\n",
    "**Методы:** которые мы применим в данном исследовании включают в себя: \n",
    "* Загрузка и ознакомление с данными\n",
    "* Machine learning\n",
    "\n",
    "\n",
    "**Используемые библитеки:** \n",
    "* Scikit-learn\n",
    "* Numpy\n",
    "* Pandas"
   ]
  },
  {
   "cell_type": "markdown",
   "metadata": {},
   "source": [
    "## Подготовка данных"
   ]
  },
  {
   "cell_type": "code",
   "execution_count": 1,
   "metadata": {},
   "outputs": [],
   "source": [
    "# Импорт необходимых библиотек\n",
    "import pandas as pd\n",
    "import matplotlib.pyplot as plt\n",
    "import seaborn as sns\n",
    "import numpy as np\n",
    "import time\n",
    "import lightgbm as lgb\n",
    "import optuna\n",
    "\n",
    "from sklearn.preprocessing import OrdinalEncoder\n",
    "from sklearn.model_selection import cross_validate\n",
    "from sklearn.model_selection import train_test_split\n",
    "from sklearn.linear_model import LinearRegression\n",
    "from sklearn.metrics import mean_squared_error\n",
    "from math import sqrt\n",
    "from sklearn.ensemble import GradientBoostingRegressor\n",
    "\n",
    "RANDOM_SEED = 42"
   ]
  },
  {
   "cell_type": "markdown",
   "metadata": {},
   "source": [
    "### Загрузка, ознакомление с данными"
   ]
  },
  {
   "cell_type": "markdown",
   "metadata": {},
   "source": [
    "Загрузим данные:"
   ]
  },
  {
   "cell_type": "code",
   "execution_count": 2,
   "metadata": {},
   "outputs": [],
   "source": [
    "df = pd.read_csv('/datasets/autos.csv')"
   ]
  },
  {
   "cell_type": "markdown",
   "metadata": {},
   "source": [
    "Ознакомимся с первыми строками нашего датасета:"
   ]
  },
  {
   "cell_type": "code",
   "execution_count": 3,
   "metadata": {},
   "outputs": [
    {
     "data": {
      "text/html": [
       "<div>\n",
       "<style scoped>\n",
       "    .dataframe tbody tr th:only-of-type {\n",
       "        vertical-align: middle;\n",
       "    }\n",
       "\n",
       "    .dataframe tbody tr th {\n",
       "        vertical-align: top;\n",
       "    }\n",
       "\n",
       "    .dataframe thead th {\n",
       "        text-align: right;\n",
       "    }\n",
       "</style>\n",
       "<table border=\"1\" class=\"dataframe\">\n",
       "  <thead>\n",
       "    <tr style=\"text-align: right;\">\n",
       "      <th></th>\n",
       "      <th>DateCrawled</th>\n",
       "      <th>Price</th>\n",
       "      <th>VehicleType</th>\n",
       "      <th>RegistrationYear</th>\n",
       "      <th>Gearbox</th>\n",
       "      <th>Power</th>\n",
       "      <th>Model</th>\n",
       "      <th>Kilometer</th>\n",
       "      <th>RegistrationMonth</th>\n",
       "      <th>FuelType</th>\n",
       "      <th>Brand</th>\n",
       "      <th>Repaired</th>\n",
       "      <th>DateCreated</th>\n",
       "      <th>NumberOfPictures</th>\n",
       "      <th>PostalCode</th>\n",
       "      <th>LastSeen</th>\n",
       "    </tr>\n",
       "  </thead>\n",
       "  <tbody>\n",
       "    <tr>\n",
       "      <th>0</th>\n",
       "      <td>2016-03-24 11:52:17</td>\n",
       "      <td>480</td>\n",
       "      <td>NaN</td>\n",
       "      <td>1993</td>\n",
       "      <td>manual</td>\n",
       "      <td>0</td>\n",
       "      <td>golf</td>\n",
       "      <td>150000</td>\n",
       "      <td>0</td>\n",
       "      <td>petrol</td>\n",
       "      <td>volkswagen</td>\n",
       "      <td>NaN</td>\n",
       "      <td>2016-03-24 00:00:00</td>\n",
       "      <td>0</td>\n",
       "      <td>70435</td>\n",
       "      <td>2016-04-07 03:16:57</td>\n",
       "    </tr>\n",
       "    <tr>\n",
       "      <th>1</th>\n",
       "      <td>2016-03-24 10:58:45</td>\n",
       "      <td>18300</td>\n",
       "      <td>coupe</td>\n",
       "      <td>2011</td>\n",
       "      <td>manual</td>\n",
       "      <td>190</td>\n",
       "      <td>NaN</td>\n",
       "      <td>125000</td>\n",
       "      <td>5</td>\n",
       "      <td>gasoline</td>\n",
       "      <td>audi</td>\n",
       "      <td>yes</td>\n",
       "      <td>2016-03-24 00:00:00</td>\n",
       "      <td>0</td>\n",
       "      <td>66954</td>\n",
       "      <td>2016-04-07 01:46:50</td>\n",
       "    </tr>\n",
       "    <tr>\n",
       "      <th>2</th>\n",
       "      <td>2016-03-14 12:52:21</td>\n",
       "      <td>9800</td>\n",
       "      <td>suv</td>\n",
       "      <td>2004</td>\n",
       "      <td>auto</td>\n",
       "      <td>163</td>\n",
       "      <td>grand</td>\n",
       "      <td>125000</td>\n",
       "      <td>8</td>\n",
       "      <td>gasoline</td>\n",
       "      <td>jeep</td>\n",
       "      <td>NaN</td>\n",
       "      <td>2016-03-14 00:00:00</td>\n",
       "      <td>0</td>\n",
       "      <td>90480</td>\n",
       "      <td>2016-04-05 12:47:46</td>\n",
       "    </tr>\n",
       "    <tr>\n",
       "      <th>3</th>\n",
       "      <td>2016-03-17 16:54:04</td>\n",
       "      <td>1500</td>\n",
       "      <td>small</td>\n",
       "      <td>2001</td>\n",
       "      <td>manual</td>\n",
       "      <td>75</td>\n",
       "      <td>golf</td>\n",
       "      <td>150000</td>\n",
       "      <td>6</td>\n",
       "      <td>petrol</td>\n",
       "      <td>volkswagen</td>\n",
       "      <td>no</td>\n",
       "      <td>2016-03-17 00:00:00</td>\n",
       "      <td>0</td>\n",
       "      <td>91074</td>\n",
       "      <td>2016-03-17 17:40:17</td>\n",
       "    </tr>\n",
       "    <tr>\n",
       "      <th>4</th>\n",
       "      <td>2016-03-31 17:25:20</td>\n",
       "      <td>3600</td>\n",
       "      <td>small</td>\n",
       "      <td>2008</td>\n",
       "      <td>manual</td>\n",
       "      <td>69</td>\n",
       "      <td>fabia</td>\n",
       "      <td>90000</td>\n",
       "      <td>7</td>\n",
       "      <td>gasoline</td>\n",
       "      <td>skoda</td>\n",
       "      <td>no</td>\n",
       "      <td>2016-03-31 00:00:00</td>\n",
       "      <td>0</td>\n",
       "      <td>60437</td>\n",
       "      <td>2016-04-06 10:17:21</td>\n",
       "    </tr>\n",
       "  </tbody>\n",
       "</table>\n",
       "</div>"
      ],
      "text/plain": [
       "           DateCrawled  Price VehicleType  RegistrationYear Gearbox  Power  \\\n",
       "0  2016-03-24 11:52:17    480         NaN              1993  manual      0   \n",
       "1  2016-03-24 10:58:45  18300       coupe              2011  manual    190   \n",
       "2  2016-03-14 12:52:21   9800         suv              2004    auto    163   \n",
       "3  2016-03-17 16:54:04   1500       small              2001  manual     75   \n",
       "4  2016-03-31 17:25:20   3600       small              2008  manual     69   \n",
       "\n",
       "   Model  Kilometer  RegistrationMonth  FuelType       Brand Repaired  \\\n",
       "0   golf     150000                  0    petrol  volkswagen      NaN   \n",
       "1    NaN     125000                  5  gasoline        audi      yes   \n",
       "2  grand     125000                  8  gasoline        jeep      NaN   \n",
       "3   golf     150000                  6    petrol  volkswagen       no   \n",
       "4  fabia      90000                  7  gasoline       skoda       no   \n",
       "\n",
       "           DateCreated  NumberOfPictures  PostalCode             LastSeen  \n",
       "0  2016-03-24 00:00:00                 0       70435  2016-04-07 03:16:57  \n",
       "1  2016-03-24 00:00:00                 0       66954  2016-04-07 01:46:50  \n",
       "2  2016-03-14 00:00:00                 0       90480  2016-04-05 12:47:46  \n",
       "3  2016-03-17 00:00:00                 0       91074  2016-03-17 17:40:17  \n",
       "4  2016-03-31 00:00:00                 0       60437  2016-04-06 10:17:21  "
      ]
     },
     "execution_count": 3,
     "metadata": {},
     "output_type": "execute_result"
    }
   ],
   "source": [
    "df.head()"
   ]
  },
  {
   "cell_type": "markdown",
   "metadata": {},
   "source": [
    "Приведем название столбцов датасета к `snale_case`"
   ]
  },
  {
   "cell_type": "code",
   "execution_count": 4,
   "metadata": {},
   "outputs": [
    {
     "data": {
      "text/html": [
       "<div>\n",
       "<style scoped>\n",
       "    .dataframe tbody tr th:only-of-type {\n",
       "        vertical-align: middle;\n",
       "    }\n",
       "\n",
       "    .dataframe tbody tr th {\n",
       "        vertical-align: top;\n",
       "    }\n",
       "\n",
       "    .dataframe thead th {\n",
       "        text-align: right;\n",
       "    }\n",
       "</style>\n",
       "<table border=\"1\" class=\"dataframe\">\n",
       "  <thead>\n",
       "    <tr style=\"text-align: right;\">\n",
       "      <th></th>\n",
       "      <th>date_crawled</th>\n",
       "      <th>price</th>\n",
       "      <th>vehicle_type</th>\n",
       "      <th>registration_year</th>\n",
       "      <th>gearbox</th>\n",
       "      <th>power</th>\n",
       "      <th>model</th>\n",
       "      <th>kilometer</th>\n",
       "      <th>registration_month</th>\n",
       "      <th>fuel_type</th>\n",
       "      <th>brand</th>\n",
       "      <th>repaired</th>\n",
       "      <th>date_created</th>\n",
       "      <th>number_pictures</th>\n",
       "      <th>postal_code</th>\n",
       "      <th>last_seen</th>\n",
       "    </tr>\n",
       "  </thead>\n",
       "  <tbody>\n",
       "    <tr>\n",
       "      <th>0</th>\n",
       "      <td>2016-03-24 11:52:17</td>\n",
       "      <td>480</td>\n",
       "      <td>NaN</td>\n",
       "      <td>1993</td>\n",
       "      <td>manual</td>\n",
       "      <td>0</td>\n",
       "      <td>golf</td>\n",
       "      <td>150000</td>\n",
       "      <td>0</td>\n",
       "      <td>petrol</td>\n",
       "      <td>volkswagen</td>\n",
       "      <td>NaN</td>\n",
       "      <td>2016-03-24 00:00:00</td>\n",
       "      <td>0</td>\n",
       "      <td>70435</td>\n",
       "      <td>2016-04-07 03:16:57</td>\n",
       "    </tr>\n",
       "    <tr>\n",
       "      <th>1</th>\n",
       "      <td>2016-03-24 10:58:45</td>\n",
       "      <td>18300</td>\n",
       "      <td>coupe</td>\n",
       "      <td>2011</td>\n",
       "      <td>manual</td>\n",
       "      <td>190</td>\n",
       "      <td>NaN</td>\n",
       "      <td>125000</td>\n",
       "      <td>5</td>\n",
       "      <td>gasoline</td>\n",
       "      <td>audi</td>\n",
       "      <td>yes</td>\n",
       "      <td>2016-03-24 00:00:00</td>\n",
       "      <td>0</td>\n",
       "      <td>66954</td>\n",
       "      <td>2016-04-07 01:46:50</td>\n",
       "    </tr>\n",
       "    <tr>\n",
       "      <th>2</th>\n",
       "      <td>2016-03-14 12:52:21</td>\n",
       "      <td>9800</td>\n",
       "      <td>suv</td>\n",
       "      <td>2004</td>\n",
       "      <td>auto</td>\n",
       "      <td>163</td>\n",
       "      <td>grand</td>\n",
       "      <td>125000</td>\n",
       "      <td>8</td>\n",
       "      <td>gasoline</td>\n",
       "      <td>jeep</td>\n",
       "      <td>NaN</td>\n",
       "      <td>2016-03-14 00:00:00</td>\n",
       "      <td>0</td>\n",
       "      <td>90480</td>\n",
       "      <td>2016-04-05 12:47:46</td>\n",
       "    </tr>\n",
       "    <tr>\n",
       "      <th>3</th>\n",
       "      <td>2016-03-17 16:54:04</td>\n",
       "      <td>1500</td>\n",
       "      <td>small</td>\n",
       "      <td>2001</td>\n",
       "      <td>manual</td>\n",
       "      <td>75</td>\n",
       "      <td>golf</td>\n",
       "      <td>150000</td>\n",
       "      <td>6</td>\n",
       "      <td>petrol</td>\n",
       "      <td>volkswagen</td>\n",
       "      <td>no</td>\n",
       "      <td>2016-03-17 00:00:00</td>\n",
       "      <td>0</td>\n",
       "      <td>91074</td>\n",
       "      <td>2016-03-17 17:40:17</td>\n",
       "    </tr>\n",
       "    <tr>\n",
       "      <th>4</th>\n",
       "      <td>2016-03-31 17:25:20</td>\n",
       "      <td>3600</td>\n",
       "      <td>small</td>\n",
       "      <td>2008</td>\n",
       "      <td>manual</td>\n",
       "      <td>69</td>\n",
       "      <td>fabia</td>\n",
       "      <td>90000</td>\n",
       "      <td>7</td>\n",
       "      <td>gasoline</td>\n",
       "      <td>skoda</td>\n",
       "      <td>no</td>\n",
       "      <td>2016-03-31 00:00:00</td>\n",
       "      <td>0</td>\n",
       "      <td>60437</td>\n",
       "      <td>2016-04-06 10:17:21</td>\n",
       "    </tr>\n",
       "  </tbody>\n",
       "</table>\n",
       "</div>"
      ],
      "text/plain": [
       "          date_crawled  price vehicle_type  registration_year gearbox  power  \\\n",
       "0  2016-03-24 11:52:17    480          NaN               1993  manual      0   \n",
       "1  2016-03-24 10:58:45  18300        coupe               2011  manual    190   \n",
       "2  2016-03-14 12:52:21   9800          suv               2004    auto    163   \n",
       "3  2016-03-17 16:54:04   1500        small               2001  manual     75   \n",
       "4  2016-03-31 17:25:20   3600        small               2008  manual     69   \n",
       "\n",
       "   model  kilometer  registration_month fuel_type       brand repaired  \\\n",
       "0   golf     150000                   0    petrol  volkswagen      NaN   \n",
       "1    NaN     125000                   5  gasoline        audi      yes   \n",
       "2  grand     125000                   8  gasoline        jeep      NaN   \n",
       "3   golf     150000                   6    petrol  volkswagen       no   \n",
       "4  fabia      90000                   7  gasoline       skoda       no   \n",
       "\n",
       "          date_created  number_pictures  postal_code            last_seen  \n",
       "0  2016-03-24 00:00:00                0        70435  2016-04-07 03:16:57  \n",
       "1  2016-03-24 00:00:00                0        66954  2016-04-07 01:46:50  \n",
       "2  2016-03-14 00:00:00                0        90480  2016-04-05 12:47:46  \n",
       "3  2016-03-17 00:00:00                0        91074  2016-03-17 17:40:17  \n",
       "4  2016-03-31 00:00:00                0        60437  2016-04-06 10:17:21  "
      ]
     },
     "execution_count": 4,
     "metadata": {},
     "output_type": "execute_result"
    }
   ],
   "source": [
    "df.columns\n",
    "columns_name = ['date_crawled', 'price', 'vehicle_type', 'registration_year', 'gearbox',\n",
    "                'power', 'model', 'kilometer', 'registration_month', 'fuel_type', 'brand',\n",
    "                'repaired', 'date_created', 'number_pictures', 'postal_code',\n",
    "                'last_seen']\n",
    "df.columns = columns_name\n",
    "df.head()"
   ]
  },
  {
   "cell_type": "markdown",
   "metadata": {},
   "source": [
    "Оценим общую информацию о датасете:"
   ]
  },
  {
   "cell_type": "code",
   "execution_count": 5,
   "metadata": {},
   "outputs": [
    {
     "name": "stdout",
     "output_type": "stream",
     "text": [
      "<class 'pandas.core.frame.DataFrame'>\n",
      "RangeIndex: 354369 entries, 0 to 354368\n",
      "Data columns (total 16 columns):\n",
      " #   Column              Non-Null Count   Dtype \n",
      "---  ------              --------------   ----- \n",
      " 0   date_crawled        354369 non-null  object\n",
      " 1   price               354369 non-null  int64 \n",
      " 2   vehicle_type        316879 non-null  object\n",
      " 3   registration_year   354369 non-null  int64 \n",
      " 4   gearbox             334536 non-null  object\n",
      " 5   power               354369 non-null  int64 \n",
      " 6   model               334664 non-null  object\n",
      " 7   kilometer           354369 non-null  int64 \n",
      " 8   registration_month  354369 non-null  int64 \n",
      " 9   fuel_type           321474 non-null  object\n",
      " 10  brand               354369 non-null  object\n",
      " 11  repaired            283215 non-null  object\n",
      " 12  date_created        354369 non-null  object\n",
      " 13  number_pictures     354369 non-null  int64 \n",
      " 14  postal_code         354369 non-null  int64 \n",
      " 15  last_seen           354369 non-null  object\n",
      "dtypes: int64(7), object(9)\n",
      "memory usage: 43.3+ MB\n"
     ]
    }
   ],
   "source": [
    "df.info()"
   ]
  },
  {
   "cell_type": "markdown",
   "metadata": {},
   "source": [
    "В нашем распоряжении 15 столбцов, 354369 записей, 7 стобцов имеют целочисленный тип данных и 9 текстовый."
   ]
  },
  {
   "cell_type": "markdown",
   "metadata": {},
   "source": [
    "Данные в столбцах: `'date_crawled', 'date_created', 'last_seen'` приведем к типу `datetime`"
   ]
  },
  {
   "cell_type": "code",
   "execution_count": 6,
   "metadata": {},
   "outputs": [],
   "source": [
    "datetime_columns = ['date_crawled', 'date_created', 'last_seen']\n",
    "for column_name in datetime_columns:\n",
    "    df[column_name] = pd.to_datetime(\n",
    "        df[column_name], format='%Y%m%d %H:%M:%S.%f')"
   ]
  },
  {
   "cell_type": "code",
   "execution_count": 7,
   "metadata": {},
   "outputs": [
    {
     "name": "stdout",
     "output_type": "stream",
     "text": [
      "<class 'pandas.core.frame.DataFrame'>\n",
      "RangeIndex: 354369 entries, 0 to 354368\n",
      "Data columns (total 16 columns):\n",
      " #   Column              Non-Null Count   Dtype         \n",
      "---  ------              --------------   -----         \n",
      " 0   date_crawled        354369 non-null  datetime64[ns]\n",
      " 1   price               354369 non-null  int64         \n",
      " 2   vehicle_type        316879 non-null  object        \n",
      " 3   registration_year   354369 non-null  int64         \n",
      " 4   gearbox             334536 non-null  object        \n",
      " 5   power               354369 non-null  int64         \n",
      " 6   model               334664 non-null  object        \n",
      " 7   kilometer           354369 non-null  int64         \n",
      " 8   registration_month  354369 non-null  int64         \n",
      " 9   fuel_type           321474 non-null  object        \n",
      " 10  brand               354369 non-null  object        \n",
      " 11  repaired            283215 non-null  object        \n",
      " 12  date_created        354369 non-null  datetime64[ns]\n",
      " 13  number_pictures     354369 non-null  int64         \n",
      " 14  postal_code         354369 non-null  int64         \n",
      " 15  last_seen           354369 non-null  datetime64[ns]\n",
      "dtypes: datetime64[ns](3), int64(7), object(6)\n",
      "memory usage: 43.3+ MB\n"
     ]
    }
   ],
   "source": [
    "df.info()"
   ]
  },
  {
   "cell_type": "markdown",
   "metadata": {},
   "source": [
    "## Анализ данных"
   ]
  },
  {
   "cell_type": "markdown",
   "metadata": {},
   "source": [
    "### year_created"
   ]
  },
  {
   "cell_type": "code",
   "execution_count": 8,
   "metadata": {},
   "outputs": [
    {
     "name": "stdout",
     "output_type": "stream",
     "text": [
      "2016    354343\n",
      "2015        25\n",
      "2014         1\n",
      "Name: year_created, dtype: int64\n",
      "2016    354343\n",
      "Name: year_created, dtype: int64\n"
     ]
    }
   ],
   "source": [
    "df['year_created'] = df['date_created'].dt.strftime('%Y')\n",
    "print(df['year_created'].value_counts())\n",
    "drop_years = ['2015', '2014']\n",
    "df.drop(df[df['year_created'].isin(drop_years)].index, inplace=True)\n",
    "print(df['year_created'].value_counts())"
   ]
  },
  {
   "cell_type": "markdown",
   "metadata": {},
   "source": [
    "Как мы можем видеть в нашем датасете есть 25 записей созданных в 2015 году и одна запись за 2014 год, их доля настолько мала что мы просто удалим их"
   ]
  },
  {
   "cell_type": "code",
   "execution_count": 9,
   "metadata": {},
   "outputs": [
    {
     "name": "stdout",
     "output_type": "stream",
     "text": [
      "2016    354343\n",
      "Name: year_created, dtype: int64\n"
     ]
    }
   ],
   "source": [
    "df['year_crawled'] = df['date_crawled'].dt.strftime('%Y')\n",
    "print(df['year_created'].value_counts())"
   ]
  },
  {
   "cell_type": "markdown",
   "metadata": {},
   "source": [
    "Все анкеты были скачаны в 2016 г."
   ]
  },
  {
   "cell_type": "markdown",
   "metadata": {},
   "source": [
    "### price"
   ]
  },
  {
   "cell_type": "code",
   "execution_count": 10,
   "metadata": {},
   "outputs": [],
   "source": [
    "# Функция 'num_stat' предназначена для анализа числовых данных\n",
    "#\n",
    "# target_feature - анализируемый признак\n",
    "# measure - метрика 'count', 'sum', 'mean', 'median'\n",
    "# up_limit - количество строк для вывода на графике\n",
    "def num_stat(target_feature, measure, up_limit=10**10):\n",
    "    stat_table = df.groupby(by=[target_feature])['price'].agg(\n",
    "        ['count', 'sum', 'mean', 'median']).sort_values(by=target_feature)\n",
    "    display(stat_table.head(10))\n",
    "    stat_table = stat_table[:up_limit]\n",
    "    f, ax = plt.subplots(figsize=(20, 7))\n",
    "    sns.lineplot(data=stat_table, x=stat_table.index, y=measure, label=target_feature + ' per ' + measure + ' price')\n",
    "    ax.set(ylabel=measure, xlabel=target_feature)"
   ]
  },
  {
   "cell_type": "markdown",
   "metadata": {},
   "source": [
    "Оценим распределение анкет в разрезе количества:"
   ]
  },
  {
   "cell_type": "code",
   "execution_count": 11,
   "metadata": {},
   "outputs": [
    {
     "data": {
      "text/html": [
       "<div>\n",
       "<style scoped>\n",
       "    .dataframe tbody tr th:only-of-type {\n",
       "        vertical-align: middle;\n",
       "    }\n",
       "\n",
       "    .dataframe tbody tr th {\n",
       "        vertical-align: top;\n",
       "    }\n",
       "\n",
       "    .dataframe thead th {\n",
       "        text-align: right;\n",
       "    }\n",
       "</style>\n",
       "<table border=\"1\" class=\"dataframe\">\n",
       "  <thead>\n",
       "    <tr style=\"text-align: right;\">\n",
       "      <th></th>\n",
       "      <th>count</th>\n",
       "      <th>sum</th>\n",
       "      <th>mean</th>\n",
       "      <th>median</th>\n",
       "    </tr>\n",
       "    <tr>\n",
       "      <th>price</th>\n",
       "      <th></th>\n",
       "      <th></th>\n",
       "      <th></th>\n",
       "      <th></th>\n",
       "    </tr>\n",
       "  </thead>\n",
       "  <tbody>\n",
       "    <tr>\n",
       "      <th>0</th>\n",
       "      <td>10772</td>\n",
       "      <td>0</td>\n",
       "      <td>0</td>\n",
       "      <td>0</td>\n",
       "    </tr>\n",
       "    <tr>\n",
       "      <th>1</th>\n",
       "      <td>1189</td>\n",
       "      <td>1189</td>\n",
       "      <td>1</td>\n",
       "      <td>1</td>\n",
       "    </tr>\n",
       "    <tr>\n",
       "      <th>2</th>\n",
       "      <td>12</td>\n",
       "      <td>24</td>\n",
       "      <td>2</td>\n",
       "      <td>2</td>\n",
       "    </tr>\n",
       "    <tr>\n",
       "      <th>3</th>\n",
       "      <td>8</td>\n",
       "      <td>24</td>\n",
       "      <td>3</td>\n",
       "      <td>3</td>\n",
       "    </tr>\n",
       "    <tr>\n",
       "      <th>4</th>\n",
       "      <td>1</td>\n",
       "      <td>4</td>\n",
       "      <td>4</td>\n",
       "      <td>4</td>\n",
       "    </tr>\n",
       "    <tr>\n",
       "      <th>5</th>\n",
       "      <td>26</td>\n",
       "      <td>130</td>\n",
       "      <td>5</td>\n",
       "      <td>5</td>\n",
       "    </tr>\n",
       "    <tr>\n",
       "      <th>7</th>\n",
       "      <td>3</td>\n",
       "      <td>21</td>\n",
       "      <td>7</td>\n",
       "      <td>7</td>\n",
       "    </tr>\n",
       "    <tr>\n",
       "      <th>8</th>\n",
       "      <td>9</td>\n",
       "      <td>72</td>\n",
       "      <td>8</td>\n",
       "      <td>8</td>\n",
       "    </tr>\n",
       "    <tr>\n",
       "      <th>9</th>\n",
       "      <td>8</td>\n",
       "      <td>72</td>\n",
       "      <td>9</td>\n",
       "      <td>9</td>\n",
       "    </tr>\n",
       "    <tr>\n",
       "      <th>10</th>\n",
       "      <td>84</td>\n",
       "      <td>840</td>\n",
       "      <td>10</td>\n",
       "      <td>10</td>\n",
       "    </tr>\n",
       "  </tbody>\n",
       "</table>\n",
       "</div>"
      ],
      "text/plain": [
       "       count   sum  mean  median\n",
       "price                           \n",
       "0      10772     0     0       0\n",
       "1       1189  1189     1       1\n",
       "2         12    24     2       2\n",
       "3          8    24     3       3\n",
       "4          1     4     4       4\n",
       "5         26   130     5       5\n",
       "7          3    21     7       7\n",
       "8          9    72     8       8\n",
       "9          8    72     9       9\n",
       "10        84   840    10      10"
      ]
     },
     "metadata": {},
     "output_type": "display_data"
    },
    {
     "data": {
      "image/png": "[encoded data removed]",
      "text/plain": [
       "<Figure size 1440x504 with 1 Axes>"
      ]
     },
     "metadata": {
      "needs_background": "light"
     },
     "output_type": "display_data"
    }
   ],
   "source": [
    "num_stat('price', 'count')"
   ]
  },
  {
   "cell_type": "markdown",
   "metadata": {},
   "source": [
    "Сразу бросается в глаза пик на нулевой стоимости авто, тем более что это наш целевой признак, заметим что основная масса анкет сосредоточена в диапазоне до 5000.\n",
    "\n",
    "Взглянем на `boxplot` для полноценной картины:"
   ]
  },
  {
   "cell_type": "code",
   "execution_count": 12,
   "metadata": {},
   "outputs": [
    {
     "data": {
      "text/plain": [
       "<AxesSubplot:>"
      ]
     },
     "execution_count": 12,
     "metadata": {},
     "output_type": "execute_result"
    },
    {
     "data": {
      "image/png": "[encoded data removed]",
      "text/plain": [
       "<Figure size 432x288 with 1 Axes>"
      ]
     },
     "metadata": {
      "needs_background": "light"
     },
     "output_type": "display_data"
    }
   ],
   "source": [
    "df.boxplot(column=['price'])"
   ]
  },
  {
   "cell_type": "markdown",
   "metadata": {},
   "source": [
    "Наши предположение относительно диапазона подтвердились, избавимся от выбросов. Применим метод фильтрации по квантилям, но отсеим анкеты с нулевыми значениями цены:"
   ]
  },
  {
   "cell_type": "code",
   "execution_count": 13,
   "metadata": {},
   "outputs": [],
   "source": [
    "Q3 = np.quantile(df['price'], 0.75)\n",
    "Q1 = np.quantile(df['price'], 0.25)\n",
    "IQR = Q3 - Q1\n",
    "\n",
    "lower_range = 0\n",
    "upper_range = Q3 + 1.5 * IQR\n",
    "\n",
    "\n",
    "outlier_free_list = [x for x in df['price']\n",
    "                     if ((x > lower_range) & (x < upper_range))]\n",
    "df = df.loc[df['price'].isin(outlier_free_list)]"
   ]
  },
  {
   "cell_type": "markdown",
   "metadata": {},
   "source": [
    "Взглянем на статистику после фильтрации:"
   ]
  },
  {
   "cell_type": "code",
   "execution_count": 14,
   "metadata": {},
   "outputs": [
    {
     "data": {
      "text/html": [
       "<div>\n",
       "<style scoped>\n",
       "    .dataframe tbody tr th:only-of-type {\n",
       "        vertical-align: middle;\n",
       "    }\n",
       "\n",
       "    .dataframe tbody tr th {\n",
       "        vertical-align: top;\n",
       "    }\n",
       "\n",
       "    .dataframe thead th {\n",
       "        text-align: right;\n",
       "    }\n",
       "</style>\n",
       "<table border=\"1\" class=\"dataframe\">\n",
       "  <thead>\n",
       "    <tr style=\"text-align: right;\">\n",
       "      <th></th>\n",
       "      <th>count</th>\n",
       "      <th>sum</th>\n",
       "      <th>mean</th>\n",
       "      <th>median</th>\n",
       "    </tr>\n",
       "    <tr>\n",
       "      <th>price</th>\n",
       "      <th></th>\n",
       "      <th></th>\n",
       "      <th></th>\n",
       "      <th></th>\n",
       "    </tr>\n",
       "  </thead>\n",
       "  <tbody>\n",
       "    <tr>\n",
       "      <th>1</th>\n",
       "      <td>1189</td>\n",
       "      <td>1189</td>\n",
       "      <td>1</td>\n",
       "      <td>1</td>\n",
       "    </tr>\n",
       "    <tr>\n",
       "      <th>2</th>\n",
       "      <td>12</td>\n",
       "      <td>24</td>\n",
       "      <td>2</td>\n",
       "      <td>2</td>\n",
       "    </tr>\n",
       "    <tr>\n",
       "      <th>3</th>\n",
       "      <td>8</td>\n",
       "      <td>24</td>\n",
       "      <td>3</td>\n",
       "      <td>3</td>\n",
       "    </tr>\n",
       "    <tr>\n",
       "      <th>4</th>\n",
       "      <td>1</td>\n",
       "      <td>4</td>\n",
       "      <td>4</td>\n",
       "      <td>4</td>\n",
       "    </tr>\n",
       "    <tr>\n",
       "      <th>5</th>\n",
       "      <td>26</td>\n",
       "      <td>130</td>\n",
       "      <td>5</td>\n",
       "      <td>5</td>\n",
       "    </tr>\n",
       "    <tr>\n",
       "      <th>7</th>\n",
       "      <td>3</td>\n",
       "      <td>21</td>\n",
       "      <td>7</td>\n",
       "      <td>7</td>\n",
       "    </tr>\n",
       "    <tr>\n",
       "      <th>8</th>\n",
       "      <td>9</td>\n",
       "      <td>72</td>\n",
       "      <td>8</td>\n",
       "      <td>8</td>\n",
       "    </tr>\n",
       "    <tr>\n",
       "      <th>9</th>\n",
       "      <td>8</td>\n",
       "      <td>72</td>\n",
       "      <td>9</td>\n",
       "      <td>9</td>\n",
       "    </tr>\n",
       "    <tr>\n",
       "      <th>10</th>\n",
       "      <td>84</td>\n",
       "      <td>840</td>\n",
       "      <td>10</td>\n",
       "      <td>10</td>\n",
       "    </tr>\n",
       "    <tr>\n",
       "      <th>11</th>\n",
       "      <td>5</td>\n",
       "      <td>55</td>\n",
       "      <td>11</td>\n",
       "      <td>11</td>\n",
       "    </tr>\n",
       "  </tbody>\n",
       "</table>\n",
       "</div>"
      ],
      "text/plain": [
       "       count   sum  mean  median\n",
       "price                           \n",
       "1       1189  1189     1       1\n",
       "2         12    24     2       2\n",
       "3          8    24     3       3\n",
       "4          1     4     4       4\n",
       "5         26   130     5       5\n",
       "7          3    21     7       7\n",
       "8          9    72     8       8\n",
       "9          8    72     9       9\n",
       "10        84   840    10      10\n",
       "11         5    55    11      11"
      ]
     },
     "metadata": {},
     "output_type": "display_data"
    },
    {
     "data": {
      "image/png": "[encoded data removed]",
      "text/plain": [
       "<Figure size 1440x504 with 1 Axes>"
      ]
     },
     "metadata": {
      "needs_background": "light"
     },
     "output_type": "display_data"
    }
   ],
   "source": [
    "num_stat('price', 'count')"
   ]
  },
  {
   "cell_type": "markdown",
   "metadata": {},
   "source": [
    "На рисунке выше видим экспоненциальное распределение отфильтрованных данных"
   ]
  },
  {
   "cell_type": "markdown",
   "metadata": {},
   "source": [
    "### vehicle_type"
   ]
  },
  {
   "cell_type": "markdown",
   "metadata": {},
   "source": [
    "Проверка на неявные дубликаты:"
   ]
  },
  {
   "cell_type": "code",
   "execution_count": 15,
   "metadata": {},
   "outputs": [
    {
     "data": {
      "text/plain": [
       "array([nan, 'suv', 'small', 'sedan', 'convertible', 'wagon', 'bus',\n",
       "       'coupe', 'other'], dtype=object)"
      ]
     },
     "execution_count": 15,
     "metadata": {},
     "output_type": "execute_result"
    }
   ],
   "source": [
    "df['vehicle_type'].unique()"
   ]
  },
  {
   "cell_type": "markdown",
   "metadata": {},
   "source": [
    "Неявных дубликатов не обнаружили.\n",
    "\n",
    "В столбце `vehicle_type` у нас имеется 33152 пропущенных значения"
   ]
  },
  {
   "cell_type": "code",
   "execution_count": 16,
   "metadata": {},
   "outputs": [
    {
     "data": {
      "text/plain": [
       "33152"
      ]
     },
     "execution_count": 16,
     "metadata": {},
     "output_type": "execute_result"
    }
   ],
   "source": [
    "df['vehicle_type'].isna().sum()"
   ]
  },
  {
   "cell_type": "markdown",
   "metadata": {},
   "source": [
    "Пропущенные значения будем заполнять по таблице model - vehicle_type"
   ]
  },
  {
   "cell_type": "code",
   "execution_count": 17,
   "metadata": {},
   "outputs": [],
   "source": [
    "df['model'] = df['model'].fillna('none')\n",
    "\n",
    "vehicle_type = df.loc[:, ['model', 'vehicle_type']\n",
    "                      ].dropna().drop_duplicates('model')\n",
    "df = df.merge(vehicle_type, how=\"left\", on='model')\n",
    "df['vehicle_type'] = df['vehicle_type_x'].where(\n",
    "    df['vehicle_type_x'].notnull(), df['vehicle_type_y'])\n",
    "drop_columns = ['vehicle_type_x', 'vehicle_type_y']\n",
    "df = df.drop(labels=drop_columns, axis=1)"
   ]
  },
  {
   "cell_type": "code",
   "execution_count": 18,
   "metadata": {},
   "outputs": [
    {
     "data": {
      "text/plain": [
       "0"
      ]
     },
     "execution_count": 18,
     "metadata": {},
     "output_type": "execute_result"
    }
   ],
   "source": [
    "df['vehicle_type'].isna().sum()"
   ]
  },
  {
   "cell_type": "markdown",
   "metadata": {},
   "source": [
    "Все пропущенные значения в стобце `vehicle_type` заполнены"
   ]
  },
  {
   "cell_type": "code",
   "execution_count": 19,
   "metadata": {},
   "outputs": [],
   "source": [
    "# Функция 'cut_stat' предназначена для анализа категориальных  данных\n",
    "#\n",
    "# target_feature - анализируемый признак\n",
    "# measure - метрика 'count', 'sum', 'mean', 'median'\n",
    "def cat_stat(target_feature, measure):\n",
    "    temp_table = (df.groupby(by=[target_feature])['price']\n",
    "                  .agg(['count', 'mean', 'median'])\n",
    "                  .sort_values(by='median'))\n",
    "    display(temp_table.head(10))\n",
    "\n",
    "    f, ax = plt.subplots(figsize=(20, 7))\n",
    "\n",
    "    sns.set_theme(style='whitegrid')\n",
    "    sns.set_color_codes('pastel')\n",
    "    sns.barplot(x=temp_table.index, y=measure,\n",
    "                data=temp_table, label=target_feature + ' per ' + measure + ' price', orient='v')\n",
    "    sns.set_color_codes('muted')\n",
    "    ax.legend(ncol=2, loc='right', frameon=True)\n",
    "    ax.set(ylabel=measure,\n",
    "           xlabel=target_feature)"
   ]
  },
  {
   "cell_type": "markdown",
   "metadata": {},
   "source": [
    "Взглянем на статистику по типу кузова (`vehicle_type`):"
   ]
  },
  {
   "cell_type": "code",
   "execution_count": 20,
   "metadata": {},
   "outputs": [
    {
     "data": {
      "text/html": [
       "<div>\n",
       "<style scoped>\n",
       "    .dataframe tbody tr th:only-of-type {\n",
       "        vertical-align: middle;\n",
       "    }\n",
       "\n",
       "    .dataframe tbody tr th {\n",
       "        vertical-align: top;\n",
       "    }\n",
       "\n",
       "    .dataframe thead th {\n",
       "        text-align: right;\n",
       "    }\n",
       "</style>\n",
       "<table border=\"1\" class=\"dataframe\">\n",
       "  <thead>\n",
       "    <tr style=\"text-align: right;\">\n",
       "      <th></th>\n",
       "      <th>count</th>\n",
       "      <th>mean</th>\n",
       "      <th>median</th>\n",
       "    </tr>\n",
       "    <tr>\n",
       "      <th>vehicle_type</th>\n",
       "      <th></th>\n",
       "      <th></th>\n",
       "      <th></th>\n",
       "    </tr>\n",
       "  </thead>\n",
       "  <tbody>\n",
       "    <tr>\n",
       "      <th>small</th>\n",
       "      <td>88547</td>\n",
       "      <td>2508.000960</td>\n",
       "      <td>1500</td>\n",
       "    </tr>\n",
       "    <tr>\n",
       "      <th>other</th>\n",
       "      <td>3099</td>\n",
       "      <td>3308.306228</td>\n",
       "      <td>2299</td>\n",
       "    </tr>\n",
       "    <tr>\n",
       "      <th>sedan</th>\n",
       "      <td>90611</td>\n",
       "      <td>3991.727649</td>\n",
       "      <td>2750</td>\n",
       "    </tr>\n",
       "    <tr>\n",
       "      <th>wagon</th>\n",
       "      <td>64858</td>\n",
       "      <td>4135.214869</td>\n",
       "      <td>2900</td>\n",
       "    </tr>\n",
       "    <tr>\n",
       "      <th>coupe</th>\n",
       "      <td>13994</td>\n",
       "      <td>4599.704945</td>\n",
       "      <td>3400</td>\n",
       "    </tr>\n",
       "    <tr>\n",
       "      <th>bus</th>\n",
       "      <td>29870</td>\n",
       "      <td>4663.885638</td>\n",
       "      <td>3850</td>\n",
       "    </tr>\n",
       "    <tr>\n",
       "      <th>suv</th>\n",
       "      <td>15080</td>\n",
       "      <td>5267.511472</td>\n",
       "      <td>4299</td>\n",
       "    </tr>\n",
       "    <tr>\n",
       "      <th>convertible</th>\n",
       "      <td>18536</td>\n",
       "      <td>5350.771957</td>\n",
       "      <td>4500</td>\n",
       "    </tr>\n",
       "  </tbody>\n",
       "</table>\n",
       "</div>"
      ],
      "text/plain": [
       "              count         mean  median\n",
       "vehicle_type                            \n",
       "small         88547  2508.000960    1500\n",
       "other          3099  3308.306228    2299\n",
       "sedan         90611  3991.727649    2750\n",
       "wagon         64858  4135.214869    2900\n",
       "coupe         13994  4599.704945    3400\n",
       "bus           29870  4663.885638    3850\n",
       "suv           15080  5267.511472    4299\n",
       "convertible   18536  5350.771957    4500"
      ]
     },
     "metadata": {},
     "output_type": "display_data"
    },
    {
     "data": {
      "image/png": "[encoded data removed]",
      "text/plain": [
       "<Figure size 1440x504 with 1 Axes>"
      ]
     },
     "metadata": {
      "needs_background": "light"
     },
     "output_type": "display_data"
    }
   ],
   "source": [
    "cat_stat('vehicle_type', 'median')"
   ]
  },
  {
   "cell_type": "markdown",
   "metadata": {},
   "source": [
    "Видим линейную зависимость типа кузова и медианной стоимости автомобиля"
   ]
  },
  {
   "cell_type": "markdown",
   "metadata": {},
   "source": [
    "### registration_year"
   ]
  },
  {
   "cell_type": "markdown",
   "metadata": {},
   "source": [
    "Для начала взглянем на `boxplot`:"
   ]
  },
  {
   "cell_type": "code",
   "execution_count": 21,
   "metadata": {},
   "outputs": [
    {
     "data": {
      "text/plain": [
       "<AxesSubplot:>"
      ]
     },
     "execution_count": 21,
     "metadata": {},
     "output_type": "execute_result"
    },
    {
     "data": {
      "image/png": "[encoded data removed]",
      "text/plain": [
       "<Figure size 432x288 with 1 Axes>"
      ]
     },
     "metadata": {},
     "output_type": "display_data"
    }
   ],
   "source": [
    "df.boxplot(column=['registration_year'])"
   ]
  },
  {
   "cell_type": "markdown",
   "metadata": {},
   "source": [
    "Данные полны выбросов, применим фильтрацию по квантилям:"
   ]
  },
  {
   "cell_type": "code",
   "execution_count": 22,
   "metadata": {},
   "outputs": [],
   "source": [
    "Q3 = np.quantile(df['registration_year'], 0.75)\n",
    "Q1 = np.quantile(df['registration_year'], 0.25)\n",
    "IQR = Q3 - Q1\n",
    "\n",
    "lower_range = Q1 - 1.5 * IQR\n",
    "upper_range = 2016\n",
    "\n",
    "\n",
    "outlier_free_list = [x for x in df['registration_year']\n",
    "                     if ((x > lower_range) & (x < upper_range))]\n",
    "df = df.loc[df['registration_year'].isin(outlier_free_list)]"
   ]
  },
  {
   "cell_type": "markdown",
   "metadata": {},
   "source": [
    "Данные после фильтрации:"
   ]
  },
  {
   "cell_type": "code",
   "execution_count": 23,
   "metadata": {},
   "outputs": [
    {
     "data": {
      "text/html": [
       "<div>\n",
       "<style scoped>\n",
       "    .dataframe tbody tr th:only-of-type {\n",
       "        vertical-align: middle;\n",
       "    }\n",
       "\n",
       "    .dataframe tbody tr th {\n",
       "        vertical-align: top;\n",
       "    }\n",
       "\n",
       "    .dataframe thead th {\n",
       "        text-align: right;\n",
       "    }\n",
       "</style>\n",
       "<table border=\"1\" class=\"dataframe\">\n",
       "  <thead>\n",
       "    <tr style=\"text-align: right;\">\n",
       "      <th></th>\n",
       "      <th>count</th>\n",
       "      <th>mean</th>\n",
       "      <th>median</th>\n",
       "    </tr>\n",
       "    <tr>\n",
       "      <th>registration_year</th>\n",
       "      <th></th>\n",
       "      <th></th>\n",
       "      <th></th>\n",
       "    </tr>\n",
       "  </thead>\n",
       "  <tbody>\n",
       "    <tr>\n",
       "      <th>1995</th>\n",
       "      <td>8914</td>\n",
       "      <td>1252.283711</td>\n",
       "      <td>750</td>\n",
       "    </tr>\n",
       "    <tr>\n",
       "      <th>1996</th>\n",
       "      <td>10334</td>\n",
       "      <td>1287.559319</td>\n",
       "      <td>850</td>\n",
       "    </tr>\n",
       "    <tr>\n",
       "      <th>1997</th>\n",
       "      <td>13965</td>\n",
       "      <td>1284.042463</td>\n",
       "      <td>890</td>\n",
       "    </tr>\n",
       "    <tr>\n",
       "      <th>1994</th>\n",
       "      <td>4587</td>\n",
       "      <td>1536.418792</td>\n",
       "      <td>900</td>\n",
       "    </tr>\n",
       "    <tr>\n",
       "      <th>1993</th>\n",
       "      <td>3227</td>\n",
       "      <td>1746.387667</td>\n",
       "      <td>950</td>\n",
       "    </tr>\n",
       "    <tr>\n",
       "      <th>1998</th>\n",
       "      <td>17118</td>\n",
       "      <td>1485.607606</td>\n",
       "      <td>1100</td>\n",
       "    </tr>\n",
       "    <tr>\n",
       "      <th>1999</th>\n",
       "      <td>21944</td>\n",
       "      <td>1643.702971</td>\n",
       "      <td>1200</td>\n",
       "    </tr>\n",
       "    <tr>\n",
       "      <th>1990</th>\n",
       "      <td>2420</td>\n",
       "      <td>2156.455785</td>\n",
       "      <td>1250</td>\n",
       "    </tr>\n",
       "    <tr>\n",
       "      <th>1991</th>\n",
       "      <td>2579</td>\n",
       "      <td>2117.829779</td>\n",
       "      <td>1250</td>\n",
       "    </tr>\n",
       "    <tr>\n",
       "      <th>1992</th>\n",
       "      <td>2817</td>\n",
       "      <td>2143.475683</td>\n",
       "      <td>1250</td>\n",
       "    </tr>\n",
       "  </tbody>\n",
       "</table>\n",
       "</div>"
      ],
      "text/plain": [
       "                   count         mean  median\n",
       "registration_year                            \n",
       "1995                8914  1252.283711     750\n",
       "1996               10334  1287.559319     850\n",
       "1997               13965  1284.042463     890\n",
       "1994                4587  1536.418792     900\n",
       "1993                3227  1746.387667     950\n",
       "1998               17118  1485.607606    1100\n",
       "1999               21944  1643.702971    1200\n",
       "1990                2420  2156.455785    1250\n",
       "1991                2579  2117.829779    1250\n",
       "1992                2817  2143.475683    1250"
      ]
     },
     "metadata": {},
     "output_type": "display_data"
    },
    {
     "data": {
      "image/png": "[encoded data removed]",
      "text/plain": [
       "<Figure size 1440x504 with 1 Axes>"
      ]
     },
     "metadata": {},
     "output_type": "display_data"
    }
   ],
   "source": [
    "cat_stat('registration_year', 'median')"
   ]
  },
  {
   "cell_type": "markdown",
   "metadata": {},
   "source": [
    "Отлично, тепеь видим изменение стоимости авто в зависимости от года, чем старше автомобиль тем он дешевле, но это наблюдение действует до 1995 года, ранее его стоимсоть начинает плавно увеличиваться."
   ]
  },
  {
   "cell_type": "markdown",
   "metadata": {},
   "source": [
    "### gearbox"
   ]
  },
  {
   "cell_type": "markdown",
   "metadata": {},
   "source": [
    "Теперь взглянем на уникальные значения стобца `gearbox`:"
   ]
  },
  {
   "cell_type": "code",
   "execution_count": 24,
   "metadata": {},
   "outputs": [
    {
     "data": {
      "text/plain": [
       "array(['manual', 'auto', nan], dtype=object)"
      ]
     },
     "execution_count": 24,
     "metadata": {},
     "output_type": "execute_result"
    }
   ],
   "source": [
    "df['gearbox'].unique()"
   ]
  },
  {
   "cell_type": "markdown",
   "metadata": {},
   "source": [
    "а также на количество пропущенных значений:"
   ]
  },
  {
   "cell_type": "code",
   "execution_count": 25,
   "metadata": {},
   "outputs": [
    {
     "data": {
      "text/plain": [
       "13158"
      ]
     },
     "execution_count": 25,
     "metadata": {},
     "output_type": "execute_result"
    }
   ],
   "source": [
    "df['gearbox'].isna().sum()"
   ]
  },
  {
   "cell_type": "markdown",
   "metadata": {},
   "source": [
    "и на график:"
   ]
  },
  {
   "cell_type": "code",
   "execution_count": 26,
   "metadata": {},
   "outputs": [
    {
     "data": {
      "text/html": [
       "<div>\n",
       "<style scoped>\n",
       "    .dataframe tbody tr th:only-of-type {\n",
       "        vertical-align: middle;\n",
       "    }\n",
       "\n",
       "    .dataframe tbody tr th {\n",
       "        vertical-align: top;\n",
       "    }\n",
       "\n",
       "    .dataframe thead th {\n",
       "        text-align: right;\n",
       "    }\n",
       "</style>\n",
       "<table border=\"1\" class=\"dataframe\">\n",
       "  <thead>\n",
       "    <tr style=\"text-align: right;\">\n",
       "      <th></th>\n",
       "      <th>count</th>\n",
       "      <th>mean</th>\n",
       "      <th>median</th>\n",
       "    </tr>\n",
       "    <tr>\n",
       "      <th>gearbox</th>\n",
       "      <th></th>\n",
       "      <th></th>\n",
       "      <th></th>\n",
       "    </tr>\n",
       "  </thead>\n",
       "  <tbody>\n",
       "    <tr>\n",
       "      <th>manual</th>\n",
       "      <td>230403</td>\n",
       "      <td>3626.237788</td>\n",
       "      <td>2490</td>\n",
       "    </tr>\n",
       "    <tr>\n",
       "      <th>auto</th>\n",
       "      <td>52599</td>\n",
       "      <td>5549.480066</td>\n",
       "      <td>4790</td>\n",
       "    </tr>\n",
       "  </tbody>\n",
       "</table>\n",
       "</div>"
      ],
      "text/plain": [
       "          count         mean  median\n",
       "gearbox                             \n",
       "manual   230403  3626.237788    2490\n",
       "auto      52599  5549.480066    4790"
      ]
     },
     "metadata": {},
     "output_type": "display_data"
    },
    {
     "data": {
      "image/png": "[encoded data removed]",
      "text/plain": [
       "<Figure size 1440x504 with 1 Axes>"
      ]
     },
     "metadata": {},
     "output_type": "display_data"
    }
   ],
   "source": [
    "cat_stat('gearbox', 'count')"
   ]
  },
  {
   "cell_type": "markdown",
   "metadata": {},
   "source": [
    "Больщинство авто имеет механический тип коробки передач, пропущенные значения будем заполнять по методике `most_friquent`:"
   ]
  },
  {
   "cell_type": "code",
   "execution_count": 27,
   "metadata": {},
   "outputs": [],
   "source": [
    "df['gearbox'] = df['gearbox'].fillna('manual')"
   ]
  },
  {
   "cell_type": "markdown",
   "metadata": {},
   "source": [
    "Оценим медианную стоимсоть авто в разрезе типа коробки передач:"
   ]
  },
  {
   "cell_type": "code",
   "execution_count": 28,
   "metadata": {},
   "outputs": [
    {
     "data": {
      "text/html": [
       "<div>\n",
       "<style scoped>\n",
       "    .dataframe tbody tr th:only-of-type {\n",
       "        vertical-align: middle;\n",
       "    }\n",
       "\n",
       "    .dataframe tbody tr th {\n",
       "        vertical-align: top;\n",
       "    }\n",
       "\n",
       "    .dataframe thead th {\n",
       "        text-align: right;\n",
       "    }\n",
       "</style>\n",
       "<table border=\"1\" class=\"dataframe\">\n",
       "  <thead>\n",
       "    <tr style=\"text-align: right;\">\n",
       "      <th></th>\n",
       "      <th>count</th>\n",
       "      <th>mean</th>\n",
       "      <th>median</th>\n",
       "    </tr>\n",
       "    <tr>\n",
       "      <th>gearbox</th>\n",
       "      <th></th>\n",
       "      <th></th>\n",
       "      <th></th>\n",
       "    </tr>\n",
       "  </thead>\n",
       "  <tbody>\n",
       "    <tr>\n",
       "      <th>manual</th>\n",
       "      <td>243561</td>\n",
       "      <td>3554.513613</td>\n",
       "      <td>2400</td>\n",
       "    </tr>\n",
       "    <tr>\n",
       "      <th>auto</th>\n",
       "      <td>52599</td>\n",
       "      <td>5549.480066</td>\n",
       "      <td>4790</td>\n",
       "    </tr>\n",
       "  </tbody>\n",
       "</table>\n",
       "</div>"
      ],
      "text/plain": [
       "          count         mean  median\n",
       "gearbox                             \n",
       "manual   243561  3554.513613    2400\n",
       "auto      52599  5549.480066    4790"
      ]
     },
     "metadata": {},
     "output_type": "display_data"
    },
    {
     "data": {
      "image/png": "[encoded data removed]",
      "text/plain": [
       "<Figure size 1440x504 with 1 Axes>"
      ]
     },
     "metadata": {},
     "output_type": "display_data"
    }
   ],
   "source": [
    "cat_stat('gearbox', 'median')"
   ]
  },
  {
   "cell_type": "markdown",
   "metadata": {},
   "source": [
    "Мы можем заметить что количество авто с механической КПП больше и стоят они дешевле"
   ]
  },
  {
   "cell_type": "markdown",
   "metadata": {},
   "source": [
    "### power"
   ]
  },
  {
   "cell_type": "markdown",
   "metadata": {},
   "source": [
    "Округлим значение мощности авто до деятков:"
   ]
  },
  {
   "cell_type": "code",
   "execution_count": 29,
   "metadata": {},
   "outputs": [
    {
     "data": {
      "text/html": [
       "<div>\n",
       "<style scoped>\n",
       "    .dataframe tbody tr th:only-of-type {\n",
       "        vertical-align: middle;\n",
       "    }\n",
       "\n",
       "    .dataframe tbody tr th {\n",
       "        vertical-align: top;\n",
       "    }\n",
       "\n",
       "    .dataframe thead th {\n",
       "        text-align: right;\n",
       "    }\n",
       "</style>\n",
       "<table border=\"1\" class=\"dataframe\">\n",
       "  <thead>\n",
       "    <tr style=\"text-align: right;\">\n",
       "      <th></th>\n",
       "      <th>count</th>\n",
       "      <th>sum</th>\n",
       "      <th>mean</th>\n",
       "      <th>median</th>\n",
       "    </tr>\n",
       "    <tr>\n",
       "      <th>power</th>\n",
       "      <th></th>\n",
       "      <th></th>\n",
       "      <th></th>\n",
       "      <th></th>\n",
       "    </tr>\n",
       "  </thead>\n",
       "  <tbody>\n",
       "    <tr>\n",
       "      <th>0</th>\n",
       "      <td>28401</td>\n",
       "      <td>60909439</td>\n",
       "      <td>2144.623041</td>\n",
       "      <td>1200.0</td>\n",
       "    </tr>\n",
       "    <tr>\n",
       "      <th>10</th>\n",
       "      <td>80</td>\n",
       "      <td>296534</td>\n",
       "      <td>3706.675000</td>\n",
       "      <td>3000.0</td>\n",
       "    </tr>\n",
       "    <tr>\n",
       "      <th>20</th>\n",
       "      <td>71</td>\n",
       "      <td>208007</td>\n",
       "      <td>2929.676056</td>\n",
       "      <td>1999.0</td>\n",
       "    </tr>\n",
       "    <tr>\n",
       "      <th>30</th>\n",
       "      <td>212</td>\n",
       "      <td>470943</td>\n",
       "      <td>2221.429245</td>\n",
       "      <td>1225.0</td>\n",
       "    </tr>\n",
       "    <tr>\n",
       "      <th>40</th>\n",
       "      <td>3788</td>\n",
       "      <td>3880527</td>\n",
       "      <td>1024.426346</td>\n",
       "      <td>699.0</td>\n",
       "    </tr>\n",
       "    <tr>\n",
       "      <th>50</th>\n",
       "      <td>9682</td>\n",
       "      <td>13049824</td>\n",
       "      <td>1347.843834</td>\n",
       "      <td>999.0</td>\n",
       "    </tr>\n",
       "    <tr>\n",
       "      <th>60</th>\n",
       "      <td>24579</td>\n",
       "      <td>41185457</td>\n",
       "      <td>1675.635990</td>\n",
       "      <td>1150.0</td>\n",
       "    </tr>\n",
       "    <tr>\n",
       "      <th>70</th>\n",
       "      <td>10142</td>\n",
       "      <td>38133027</td>\n",
       "      <td>3759.911950</td>\n",
       "      <td>3400.0</td>\n",
       "    </tr>\n",
       "    <tr>\n",
       "      <th>80</th>\n",
       "      <td>30043</td>\n",
       "      <td>75894301</td>\n",
       "      <td>2526.189162</td>\n",
       "      <td>1790.0</td>\n",
       "    </tr>\n",
       "    <tr>\n",
       "      <th>90</th>\n",
       "      <td>16371</td>\n",
       "      <td>55148724</td>\n",
       "      <td>3368.683892</td>\n",
       "      <td>2150.0</td>\n",
       "    </tr>\n",
       "  </tbody>\n",
       "</table>\n",
       "</div>"
      ],
      "text/plain": [
       "       count       sum         mean  median\n",
       "power                                      \n",
       "0      28401  60909439  2144.623041  1200.0\n",
       "10        80    296534  3706.675000  3000.0\n",
       "20        71    208007  2929.676056  1999.0\n",
       "30       212    470943  2221.429245  1225.0\n",
       "40      3788   3880527  1024.426346   699.0\n",
       "50      9682  13049824  1347.843834   999.0\n",
       "60     24579  41185457  1675.635990  1150.0\n",
       "70     10142  38133027  3759.911950  3400.0\n",
       "80     30043  75894301  2526.189162  1790.0\n",
       "90     16371  55148724  3368.683892  2150.0"
      ]
     },
     "metadata": {},
     "output_type": "display_data"
    },
    {
     "data": {
      "image/png": "[encoded data removed]",
      "text/plain": [
       "<Figure size 1440x504 with 1 Axes>"
      ]
     },
     "metadata": {},
     "output_type": "display_data"
    }
   ],
   "source": [
    "df['power'] = df['power'].round(-1)\n",
    "df['power']\n",
    "num_stat('power', 'count', 50)"
   ]
  },
  {
   "cell_type": "markdown",
   "metadata": {},
   "source": [
    "Данные по мощности полны выбросов:"
   ]
  },
  {
   "cell_type": "code",
   "execution_count": 30,
   "metadata": {},
   "outputs": [
    {
     "data": {
      "text/plain": [
       "<AxesSubplot:>"
      ]
     },
     "execution_count": 30,
     "metadata": {},
     "output_type": "execute_result"
    },
    {
     "data": {
      "image/png": "[encoded data removed]",
      "text/plain": [
       "<Figure size 432x288 with 1 Axes>"
      ]
     },
     "metadata": {},
     "output_type": "display_data"
    }
   ],
   "source": [
    "df.boxplot(column=['power'])"
   ]
  },
  {
   "cell_type": "markdown",
   "metadata": {},
   "source": [
    "Больше похоже на опечатки при вводе данных или ошибку при выгрузке данных, попробуем преобразовать значения к адекватному диапазону. Также примем во внимание что авто с мощностью до 30 л.с. практически не существует, заменим значение до 30 л.с. на 30, пропущенные значения заполним медианным значение:"
   ]
  },
  {
   "cell_type": "code",
   "execution_count": 31,
   "metadata": {},
   "outputs": [],
   "source": [
    "df = df.reset_index(drop=True)\n",
    "df.loc[((df['power'] > 500) & (df['power'] <= 5000)),\n",
    "       ['power']] = df['power']/10\n",
    "df.loc[((df['power'] > 5001) & (df['power'] <= 50000)),\n",
    "       ['power']] = df['power']/100\n",
    "df.loc[((df['power'] > 50001) & (df['power'] <= 500000)),\n",
    "       ['power']] = df['power']/1000\n",
    "df.loc[(df['power'] < 30), ['power']] = 30\n",
    "df['power'] = df['power'].fillna(df['power'].median())\n",
    "df['power'] = df['power'].astype('int')\n",
    "df['power'] = df['power'].round(-1)"
   ]
  },
  {
   "cell_type": "markdown",
   "metadata": {},
   "source": [
    "Взглянем на график:"
   ]
  },
  {
   "cell_type": "code",
   "execution_count": 32,
   "metadata": {},
   "outputs": [
    {
     "data": {
      "text/html": [
       "<div>\n",
       "<style scoped>\n",
       "    .dataframe tbody tr th:only-of-type {\n",
       "        vertical-align: middle;\n",
       "    }\n",
       "\n",
       "    .dataframe tbody tr th {\n",
       "        vertical-align: top;\n",
       "    }\n",
       "\n",
       "    .dataframe thead th {\n",
       "        text-align: right;\n",
       "    }\n",
       "</style>\n",
       "<table border=\"1\" class=\"dataframe\">\n",
       "  <thead>\n",
       "    <tr style=\"text-align: right;\">\n",
       "      <th></th>\n",
       "      <th>count</th>\n",
       "      <th>mean</th>\n",
       "      <th>median</th>\n",
       "    </tr>\n",
       "    <tr>\n",
       "      <th>power</th>\n",
       "      <th></th>\n",
       "      <th></th>\n",
       "      <th></th>\n",
       "    </tr>\n",
       "  </thead>\n",
       "  <tbody>\n",
       "    <tr>\n",
       "      <th>460</th>\n",
       "      <td>1</td>\n",
       "      <td>50.000000</td>\n",
       "      <td>50.0</td>\n",
       "    </tr>\n",
       "    <tr>\n",
       "      <th>470</th>\n",
       "      <td>2</td>\n",
       "      <td>400.000000</td>\n",
       "      <td>400.0</td>\n",
       "    </tr>\n",
       "    <tr>\n",
       "      <th>430</th>\n",
       "      <td>4</td>\n",
       "      <td>3059.500000</td>\n",
       "      <td>594.5</td>\n",
       "    </tr>\n",
       "    <tr>\n",
       "      <th>40</th>\n",
       "      <td>3788</td>\n",
       "      <td>1024.426346</td>\n",
       "      <td>699.0</td>\n",
       "    </tr>\n",
       "    <tr>\n",
       "      <th>50</th>\n",
       "      <td>9694</td>\n",
       "      <td>1354.602950</td>\n",
       "      <td>999.0</td>\n",
       "    </tr>\n",
       "    <tr>\n",
       "      <th>60</th>\n",
       "      <td>24620</td>\n",
       "      <td>1678.566247</td>\n",
       "      <td>1150.0</td>\n",
       "    </tr>\n",
       "    <tr>\n",
       "      <th>30</th>\n",
       "      <td>28764</td>\n",
       "      <td>2151.471388</td>\n",
       "      <td>1250.0</td>\n",
       "    </tr>\n",
       "    <tr>\n",
       "      <th>80</th>\n",
       "      <td>30064</td>\n",
       "      <td>2526.148317</td>\n",
       "      <td>1790.0</td>\n",
       "    </tr>\n",
       "    <tr>\n",
       "      <th>90</th>\n",
       "      <td>16381</td>\n",
       "      <td>3369.251816</td>\n",
       "      <td>2150.0</td>\n",
       "    </tr>\n",
       "    <tr>\n",
       "      <th>120</th>\n",
       "      <td>29322</td>\n",
       "      <td>3834.416684</td>\n",
       "      <td>2680.0</td>\n",
       "    </tr>\n",
       "  </tbody>\n",
       "</table>\n",
       "</div>"
      ],
      "text/plain": [
       "       count         mean  median\n",
       "power                            \n",
       "460        1    50.000000    50.0\n",
       "470        2   400.000000   400.0\n",
       "430        4  3059.500000   594.5\n",
       "40      3788  1024.426346   699.0\n",
       "50      9694  1354.602950   999.0\n",
       "60     24620  1678.566247  1150.0\n",
       "30     28764  2151.471388  1250.0\n",
       "80     30064  2526.148317  1790.0\n",
       "90     16381  3369.251816  2150.0\n",
       "120    29322  3834.416684  2680.0"
      ]
     },
     "metadata": {},
     "output_type": "display_data"
    },
    {
     "data": {
      "image/png": "[encoded data removed]",
      "text/plain": [
       "<Figure size 1440x504 with 1 Axes>"
      ]
     },
     "metadata": {},
     "output_type": "display_data"
    }
   ],
   "source": [
    "cat_stat('power', 'count')"
   ]
  },
  {
   "cell_type": "markdown",
   "metadata": {},
   "source": [
    "### kilometer"
   ]
  },
  {
   "cell_type": "markdown",
   "metadata": {},
   "source": [
    "Есть ли зависимость между пробегом и ценой?\n",
    "\n",
    "Взглянем на график:"
   ]
  },
  {
   "cell_type": "code",
   "execution_count": 33,
   "metadata": {},
   "outputs": [
    {
     "data": {
      "text/html": [
       "<div>\n",
       "<style scoped>\n",
       "    .dataframe tbody tr th:only-of-type {\n",
       "        vertical-align: middle;\n",
       "    }\n",
       "\n",
       "    .dataframe tbody tr th {\n",
       "        vertical-align: top;\n",
       "    }\n",
       "\n",
       "    .dataframe thead th {\n",
       "        text-align: right;\n",
       "    }\n",
       "</style>\n",
       "<table border=\"1\" class=\"dataframe\">\n",
       "  <thead>\n",
       "    <tr style=\"text-align: right;\">\n",
       "      <th></th>\n",
       "      <th>count</th>\n",
       "      <th>mean</th>\n",
       "      <th>median</th>\n",
       "    </tr>\n",
       "    <tr>\n",
       "      <th>kilometer</th>\n",
       "      <th></th>\n",
       "      <th></th>\n",
       "      <th></th>\n",
       "    </tr>\n",
       "  </thead>\n",
       "  <tbody>\n",
       "    <tr>\n",
       "      <th>5000</th>\n",
       "      <td>3823</td>\n",
       "      <td>2289.076118</td>\n",
       "      <td>1000</td>\n",
       "    </tr>\n",
       "    <tr>\n",
       "      <th>150000</th>\n",
       "      <td>205571</td>\n",
       "      <td>3212.120907</td>\n",
       "      <td>2100</td>\n",
       "    </tr>\n",
       "    <tr>\n",
       "      <th>125000</th>\n",
       "      <td>30999</td>\n",
       "      <td>4511.375980</td>\n",
       "      <td>3500</td>\n",
       "    </tr>\n",
       "    <tr>\n",
       "      <th>100000</th>\n",
       "      <td>11969</td>\n",
       "      <td>5200.592113</td>\n",
       "      <td>4400</td>\n",
       "    </tr>\n",
       "    <tr>\n",
       "      <th>90000</th>\n",
       "      <td>9369</td>\n",
       "      <td>5609.261928</td>\n",
       "      <td>4900</td>\n",
       "    </tr>\n",
       "    <tr>\n",
       "      <th>80000</th>\n",
       "      <td>7937</td>\n",
       "      <td>6039.104700</td>\n",
       "      <td>5490</td>\n",
       "    </tr>\n",
       "    <tr>\n",
       "      <th>70000</th>\n",
       "      <td>6629</td>\n",
       "      <td>6470.434756</td>\n",
       "      <td>5999</td>\n",
       "    </tr>\n",
       "    <tr>\n",
       "      <th>60000</th>\n",
       "      <td>5582</td>\n",
       "      <td>6957.066822</td>\n",
       "      <td>6650</td>\n",
       "    </tr>\n",
       "    <tr>\n",
       "      <th>20000</th>\n",
       "      <td>2615</td>\n",
       "      <td>6504.886807</td>\n",
       "      <td>6800</td>\n",
       "    </tr>\n",
       "    <tr>\n",
       "      <th>50000</th>\n",
       "      <td>4509</td>\n",
       "      <td>7358.966068</td>\n",
       "      <td>6999</td>\n",
       "    </tr>\n",
       "  </tbody>\n",
       "</table>\n",
       "</div>"
      ],
      "text/plain": [
       "            count         mean  median\n",
       "kilometer                             \n",
       "5000         3823  2289.076118    1000\n",
       "150000     205571  3212.120907    2100\n",
       "125000      30999  4511.375980    3500\n",
       "100000      11969  5200.592113    4400\n",
       "90000        9369  5609.261928    4900\n",
       "80000        7937  6039.104700    5490\n",
       "70000        6629  6470.434756    5999\n",
       "60000        5582  6957.066822    6650\n",
       "20000        2615  6504.886807    6800\n",
       "50000        4509  7358.966068    6999"
      ]
     },
     "metadata": {},
     "output_type": "display_data"
    },
    {
     "data": {
      "image/png": "[encoded data removed]",
      "text/plain": [
       "<Figure size 1440x504 with 1 Axes>"
      ]
     },
     "metadata": {},
     "output_type": "display_data"
    }
   ],
   "source": [
    "cat_stat('kilometer', 'median')"
   ]
  },
  {
   "cell_type": "markdown",
   "metadata": {},
   "source": [
    "Да конечно, чем меньше пробег, тем выше медианная стоимость авто в анкете. И еще одно наблюдение - автовладельцы не собираются расстоваться со своим авто в первые 5000 пробега."
   ]
  },
  {
   "cell_type": "markdown",
   "metadata": {},
   "source": [
    "### registration_month"
   ]
  },
  {
   "cell_type": "markdown",
   "metadata": {},
   "source": [
    "Зависит ли медианна стоимость авто от месяца регистрации автомобиля?"
   ]
  },
  {
   "cell_type": "code",
   "execution_count": 34,
   "metadata": {},
   "outputs": [
    {
     "data": {
      "text/html": [
       "<div>\n",
       "<style scoped>\n",
       "    .dataframe tbody tr th:only-of-type {\n",
       "        vertical-align: middle;\n",
       "    }\n",
       "\n",
       "    .dataframe tbody tr th {\n",
       "        vertical-align: top;\n",
       "    }\n",
       "\n",
       "    .dataframe thead th {\n",
       "        text-align: right;\n",
       "    }\n",
       "</style>\n",
       "<table border=\"1\" class=\"dataframe\">\n",
       "  <thead>\n",
       "    <tr style=\"text-align: right;\">\n",
       "      <th></th>\n",
       "      <th>count</th>\n",
       "      <th>mean</th>\n",
       "      <th>median</th>\n",
       "    </tr>\n",
       "    <tr>\n",
       "      <th>registration_month</th>\n",
       "      <th></th>\n",
       "      <th></th>\n",
       "      <th></th>\n",
       "    </tr>\n",
       "  </thead>\n",
       "  <tbody>\n",
       "    <tr>\n",
       "      <th>0</th>\n",
       "      <td>25424</td>\n",
       "      <td>1974.645768</td>\n",
       "      <td>1000</td>\n",
       "    </tr>\n",
       "    <tr>\n",
       "      <th>3</th>\n",
       "      <td>29558</td>\n",
       "      <td>3927.235841</td>\n",
       "      <td>2700</td>\n",
       "    </tr>\n",
       "    <tr>\n",
       "      <th>1</th>\n",
       "      <td>19633</td>\n",
       "      <td>4026.753731</td>\n",
       "      <td>2790</td>\n",
       "    </tr>\n",
       "    <tr>\n",
       "      <th>2</th>\n",
       "      <td>18292</td>\n",
       "      <td>4006.909578</td>\n",
       "      <td>2800</td>\n",
       "    </tr>\n",
       "    <tr>\n",
       "      <th>5</th>\n",
       "      <td>24819</td>\n",
       "      <td>4051.287844</td>\n",
       "      <td>2900</td>\n",
       "    </tr>\n",
       "    <tr>\n",
       "      <th>6</th>\n",
       "      <td>26726</td>\n",
       "      <td>4083.648320</td>\n",
       "      <td>2900</td>\n",
       "    </tr>\n",
       "    <tr>\n",
       "      <th>12</th>\n",
       "      <td>20980</td>\n",
       "      <td>4082.393899</td>\n",
       "      <td>2900</td>\n",
       "    </tr>\n",
       "    <tr>\n",
       "      <th>4</th>\n",
       "      <td>24736</td>\n",
       "      <td>4079.254973</td>\n",
       "      <td>2950</td>\n",
       "    </tr>\n",
       "    <tr>\n",
       "      <th>7</th>\n",
       "      <td>22978</td>\n",
       "      <td>4133.829663</td>\n",
       "      <td>2950</td>\n",
       "    </tr>\n",
       "    <tr>\n",
       "      <th>8</th>\n",
       "      <td>19388</td>\n",
       "      <td>4133.895967</td>\n",
       "      <td>2950</td>\n",
       "    </tr>\n",
       "  </tbody>\n",
       "</table>\n",
       "</div>"
      ],
      "text/plain": [
       "                    count         mean  median\n",
       "registration_month                            \n",
       "0                   25424  1974.645768    1000\n",
       "3                   29558  3927.235841    2700\n",
       "1                   19633  4026.753731    2790\n",
       "2                   18292  4006.909578    2800\n",
       "5                   24819  4051.287844    2900\n",
       "6                   26726  4083.648320    2900\n",
       "12                  20980  4082.393899    2900\n",
       "4                   24736  4079.254973    2950\n",
       "7                   22978  4133.829663    2950\n",
       "8                   19388  4133.895967    2950"
      ]
     },
     "metadata": {},
     "output_type": "display_data"
    },
    {
     "data": {
      "image/png": "[encoded data removed]",
      "text/plain": [
       "<Figure size 1440x504 with 1 Axes>"
      ]
     },
     "metadata": {},
     "output_type": "display_data"
    }
   ],
   "source": [
    "cat_stat('registration_month', 'median')"
   ]
  },
  {
   "cell_type": "markdown",
   "metadata": {},
   "source": [
    "Судя по графику есть минимальное увеличение стоимости авто в зависимости от месяца регистрации."
   ]
  },
  {
   "cell_type": "markdown",
   "metadata": {},
   "source": [
    "### fuel_type"
   ]
  },
  {
   "cell_type": "markdown",
   "metadata": {},
   "source": [
    "Объеденим два типа топлива: `gasoline` и `petrol`, и взглянем на статистику:"
   ]
  },
  {
   "cell_type": "code",
   "execution_count": 35,
   "metadata": {},
   "outputs": [
    {
     "data": {
      "text/html": [
       "<div>\n",
       "<style scoped>\n",
       "    .dataframe tbody tr th:only-of-type {\n",
       "        vertical-align: middle;\n",
       "    }\n",
       "\n",
       "    .dataframe tbody tr th {\n",
       "        vertical-align: top;\n",
       "    }\n",
       "\n",
       "    .dataframe thead th {\n",
       "        text-align: right;\n",
       "    }\n",
       "</style>\n",
       "<table border=\"1\" class=\"dataframe\">\n",
       "  <thead>\n",
       "    <tr style=\"text-align: right;\">\n",
       "      <th></th>\n",
       "      <th>count</th>\n",
       "      <th>mean</th>\n",
       "      <th>median</th>\n",
       "    </tr>\n",
       "    <tr>\n",
       "      <th>fuel_type</th>\n",
       "      <th></th>\n",
       "      <th></th>\n",
       "      <th></th>\n",
       "    </tr>\n",
       "  </thead>\n",
       "  <tbody>\n",
       "    <tr>\n",
       "      <th>other</th>\n",
       "      <td>115</td>\n",
       "      <td>2415.843478</td>\n",
       "      <td>1200.0</td>\n",
       "    </tr>\n",
       "    <tr>\n",
       "      <th>petrol</th>\n",
       "      <td>271221</td>\n",
       "      <td>4026.451569</td>\n",
       "      <td>2800.0</td>\n",
       "    </tr>\n",
       "    <tr>\n",
       "      <th>lpg</th>\n",
       "      <td>4781</td>\n",
       "      <td>3879.353483</td>\n",
       "      <td>2990.0</td>\n",
       "    </tr>\n",
       "    <tr>\n",
       "      <th>cng</th>\n",
       "      <td>515</td>\n",
       "      <td>4528.500971</td>\n",
       "      <td>3900.0</td>\n",
       "    </tr>\n",
       "    <tr>\n",
       "      <th>electric</th>\n",
       "      <td>77</td>\n",
       "      <td>5903.818182</td>\n",
       "      <td>5390.0</td>\n",
       "    </tr>\n",
       "    <tr>\n",
       "      <th>hybrid</th>\n",
       "      <td>166</td>\n",
       "      <td>8043.361446</td>\n",
       "      <td>8074.5</td>\n",
       "    </tr>\n",
       "  </tbody>\n",
       "</table>\n",
       "</div>"
      ],
      "text/plain": [
       "            count         mean  median\n",
       "fuel_type                             \n",
       "other         115  2415.843478  1200.0\n",
       "petrol     271221  4026.451569  2800.0\n",
       "lpg          4781  3879.353483  2990.0\n",
       "cng           515  4528.500971  3900.0\n",
       "electric       77  5903.818182  5390.0\n",
       "hybrid        166  8043.361446  8074.5"
      ]
     },
     "metadata": {},
     "output_type": "display_data"
    },
    {
     "data": {
      "image/png": "[encoded data removed]",
      "text/plain": [
       "<Figure size 1440x504 with 1 Axes>"
      ]
     },
     "metadata": {},
     "output_type": "display_data"
    }
   ],
   "source": [
    "df['fuel_type'] = df['fuel_type'].replace({'gasoline': 'petrol'})\n",
    "cat_stat('fuel_type', 'median')"
   ]
  },
  {
   "cell_type": "markdown",
   "metadata": {},
   "source": [
    "Самые дорогие авто это гибриды и электрокары, затем следуют газ и наконец самый бюджетный тип это бензин."
   ]
  },
  {
   "cell_type": "markdown",
   "metadata": {},
   "source": [
    "### brand"
   ]
  },
  {
   "cell_type": "code",
   "execution_count": 36,
   "metadata": {},
   "outputs": [
    {
     "data": {
      "text/html": [
       "<div>\n",
       "<style scoped>\n",
       "    .dataframe tbody tr th:only-of-type {\n",
       "        vertical-align: middle;\n",
       "    }\n",
       "\n",
       "    .dataframe tbody tr th {\n",
       "        vertical-align: top;\n",
       "    }\n",
       "\n",
       "    .dataframe thead th {\n",
       "        text-align: right;\n",
       "    }\n",
       "</style>\n",
       "<table border=\"1\" class=\"dataframe\">\n",
       "  <thead>\n",
       "    <tr style=\"text-align: right;\">\n",
       "      <th></th>\n",
       "      <th>count</th>\n",
       "      <th>mean</th>\n",
       "      <th>median</th>\n",
       "    </tr>\n",
       "    <tr>\n",
       "      <th>brand</th>\n",
       "      <th></th>\n",
       "      <th></th>\n",
       "      <th></th>\n",
       "    </tr>\n",
       "  </thead>\n",
       "  <tbody>\n",
       "    <tr>\n",
       "      <th>rover</th>\n",
       "      <td>409</td>\n",
       "      <td>1330.606357</td>\n",
       "      <td>990.0</td>\n",
       "    </tr>\n",
       "    <tr>\n",
       "      <th>daewoo</th>\n",
       "      <td>487</td>\n",
       "      <td>1048.433265</td>\n",
       "      <td>999.0</td>\n",
       "    </tr>\n",
       "    <tr>\n",
       "      <th>daihatsu</th>\n",
       "      <td>717</td>\n",
       "      <td>1809.906555</td>\n",
       "      <td>1000.0</td>\n",
       "    </tr>\n",
       "    <tr>\n",
       "      <th>lancia</th>\n",
       "      <td>394</td>\n",
       "      <td>2014.708122</td>\n",
       "      <td>1050.0</td>\n",
       "    </tr>\n",
       "    <tr>\n",
       "      <th>trabant</th>\n",
       "      <td>211</td>\n",
       "      <td>1858.123223</td>\n",
       "      <td>1300.0</td>\n",
       "    </tr>\n",
       "    <tr>\n",
       "      <th>renault</th>\n",
       "      <td>15527</td>\n",
       "      <td>2254.158047</td>\n",
       "      <td>1390.0</td>\n",
       "    </tr>\n",
       "    <tr>\n",
       "      <th>fiat</th>\n",
       "      <td>8280</td>\n",
       "      <td>2654.606159</td>\n",
       "      <td>1599.5</td>\n",
       "    </tr>\n",
       "    <tr>\n",
       "      <th>subaru</th>\n",
       "      <td>647</td>\n",
       "      <td>3144.944359</td>\n",
       "      <td>1600.0</td>\n",
       "    </tr>\n",
       "    <tr>\n",
       "      <th>opel</th>\n",
       "      <td>34274</td>\n",
       "      <td>2679.191720</td>\n",
       "      <td>1600.0</td>\n",
       "    </tr>\n",
       "    <tr>\n",
       "      <th>mitsubishi</th>\n",
       "      <td>2645</td>\n",
       "      <td>2751.994707</td>\n",
       "      <td>1600.0</td>\n",
       "    </tr>\n",
       "  </tbody>\n",
       "</table>\n",
       "</div>"
      ],
      "text/plain": [
       "            count         mean  median\n",
       "brand                                 \n",
       "rover         409  1330.606357   990.0\n",
       "daewoo        487  1048.433265   999.0\n",
       "daihatsu      717  1809.906555  1000.0\n",
       "lancia        394  2014.708122  1050.0\n",
       "trabant       211  1858.123223  1300.0\n",
       "renault     15527  2254.158047  1390.0\n",
       "fiat         8280  2654.606159  1599.5\n",
       "subaru        647  3144.944359  1600.0\n",
       "opel        34274  2679.191720  1600.0\n",
       "mitsubishi   2645  2751.994707  1600.0"
      ]
     },
     "metadata": {},
     "output_type": "display_data"
    },
    {
     "data": {
      "image/png": "[encoded data removed]",
      "text/plain": [
       "<Figure size 1440x504 with 1 Axes>"
      ]
     },
     "metadata": {},
     "output_type": "display_data"
    }
   ],
   "source": [
    "cat_stat('brand', 'median')"
   ]
  },
  {
   "cell_type": "markdown",
   "metadata": {},
   "source": [
    "Цена явно заисит от бренда авто."
   ]
  },
  {
   "cell_type": "markdown",
   "metadata": {},
   "source": [
    "### repaired"
   ]
  },
  {
   "cell_type": "code",
   "execution_count": 37,
   "metadata": {},
   "outputs": [
    {
     "data": {
      "text/html": [
       "<div>\n",
       "<style scoped>\n",
       "    .dataframe tbody tr th:only-of-type {\n",
       "        vertical-align: middle;\n",
       "    }\n",
       "\n",
       "    .dataframe tbody tr th {\n",
       "        vertical-align: top;\n",
       "    }\n",
       "\n",
       "    .dataframe thead th {\n",
       "        text-align: right;\n",
       "    }\n",
       "</style>\n",
       "<table border=\"1\" class=\"dataframe\">\n",
       "  <thead>\n",
       "    <tr style=\"text-align: right;\">\n",
       "      <th></th>\n",
       "      <th>count</th>\n",
       "      <th>mean</th>\n",
       "      <th>median</th>\n",
       "    </tr>\n",
       "    <tr>\n",
       "      <th>repaired</th>\n",
       "      <th></th>\n",
       "      <th></th>\n",
       "      <th></th>\n",
       "    </tr>\n",
       "  </thead>\n",
       "  <tbody>\n",
       "    <tr>\n",
       "      <th>yes</th>\n",
       "      <td>30833</td>\n",
       "      <td>1921.421594</td>\n",
       "      <td>999</td>\n",
       "    </tr>\n",
       "    <tr>\n",
       "      <th>none</th>\n",
       "      <td>52650</td>\n",
       "      <td>2564.622849</td>\n",
       "      <td>1500</td>\n",
       "    </tr>\n",
       "    <tr>\n",
       "      <th>no</th>\n",
       "      <td>212677</td>\n",
       "      <td>4529.720689</td>\n",
       "      <td>3490</td>\n",
       "    </tr>\n",
       "  </tbody>\n",
       "</table>\n",
       "</div>"
      ],
      "text/plain": [
       "           count         mean  median\n",
       "repaired                             \n",
       "yes        30833  1921.421594     999\n",
       "none       52650  2564.622849    1500\n",
       "no        212677  4529.720689    3490"
      ]
     },
     "metadata": {},
     "output_type": "display_data"
    },
    {
     "data": {
      "image/png": "[encoded data removed]",
      "text/plain": [
       "<Figure size 1440x504 with 1 Axes>"
      ]
     },
     "metadata": {},
     "output_type": "display_data"
    }
   ],
   "source": [
    "df['repaired'] = df['repaired'].fillna('none')\n",
    "cat_stat('repaired', 'median')"
   ]
  },
  {
   "cell_type": "markdown",
   "metadata": {},
   "source": [
    "Что и следовало ожидать - машины которые были в ремонте сильнее теряют в цене."
   ]
  },
  {
   "cell_type": "markdown",
   "metadata": {},
   "source": [
    "### month_created"
   ]
  },
  {
   "cell_type": "code",
   "execution_count": 38,
   "metadata": {},
   "outputs": [
    {
     "data": {
      "text/html": [
       "<div>\n",
       "<style scoped>\n",
       "    .dataframe tbody tr th:only-of-type {\n",
       "        vertical-align: middle;\n",
       "    }\n",
       "\n",
       "    .dataframe tbody tr th {\n",
       "        vertical-align: top;\n",
       "    }\n",
       "\n",
       "    .dataframe thead th {\n",
       "        text-align: right;\n",
       "    }\n",
       "</style>\n",
       "<table border=\"1\" class=\"dataframe\">\n",
       "  <thead>\n",
       "    <tr style=\"text-align: right;\">\n",
       "      <th></th>\n",
       "      <th>count</th>\n",
       "      <th>mean</th>\n",
       "      <th>median</th>\n",
       "    </tr>\n",
       "    <tr>\n",
       "      <th>month_created</th>\n",
       "      <th></th>\n",
       "      <th></th>\n",
       "      <th></th>\n",
       "    </tr>\n",
       "  </thead>\n",
       "  <tbody>\n",
       "    <tr>\n",
       "      <th>3</th>\n",
       "      <td>248304</td>\n",
       "      <td>3884.956130</td>\n",
       "      <td>2690</td>\n",
       "    </tr>\n",
       "    <tr>\n",
       "      <th>4</th>\n",
       "      <td>47468</td>\n",
       "      <td>4018.209973</td>\n",
       "      <td>2800</td>\n",
       "    </tr>\n",
       "    <tr>\n",
       "      <th>2</th>\n",
       "      <td>339</td>\n",
       "      <td>5730.811209</td>\n",
       "      <td>5250</td>\n",
       "    </tr>\n",
       "    <tr>\n",
       "      <th>1</th>\n",
       "      <td>49</td>\n",
       "      <td>6300.183673</td>\n",
       "      <td>6950</td>\n",
       "    </tr>\n",
       "  </tbody>\n",
       "</table>\n",
       "</div>"
      ],
      "text/plain": [
       "                count         mean  median\n",
       "month_created                             \n",
       "3              248304  3884.956130    2690\n",
       "4               47468  4018.209973    2800\n",
       "2                 339  5730.811209    5250\n",
       "1                  49  6300.183673    6950"
      ]
     },
     "metadata": {},
     "output_type": "display_data"
    },
    {
     "data": {
      "image/png": "[encoded data removed]",
      "text/plain": [
       "<Figure size 1440x504 with 1 Axes>"
      ]
     },
     "metadata": {},
     "output_type": "display_data"
    }
   ],
   "source": [
    "df['month_created'] = df['date_created'].dt.strftime('%m').astype('int')\n",
    "df.head()\n",
    "cat_stat('month_created', 'median')"
   ]
  },
  {
   "cell_type": "markdown",
   "metadata": {},
   "source": [
    "Имеем явную зависимость между месяцем создания анкеты и медианной стоимости авто."
   ]
  },
  {
   "cell_type": "markdown",
   "metadata": {},
   "source": [
    "### number_pictures"
   ]
  },
  {
   "cell_type": "code",
   "execution_count": 39,
   "metadata": {},
   "outputs": [
    {
     "data": {
      "text/plain": [
       "array([0])"
      ]
     },
     "execution_count": 39,
     "metadata": {},
     "output_type": "execute_result"
    }
   ],
   "source": [
    "df['number_pictures'].unique()"
   ]
  },
  {
   "cell_type": "markdown",
   "metadata": {},
   "source": [
    "Вот это сюрприз - у нас нет данных по количеству изображений в анкете."
   ]
  },
  {
   "cell_type": "markdown",
   "metadata": {},
   "source": [
    "### postal_code"
   ]
  },
  {
   "cell_type": "markdown",
   "metadata": {},
   "source": [
    "Сам по себе почтовый индекс - для модели, не несет никакой информации, поэтому мы загрузим часть адресного классификатора Германии чтобы получить данные по округам. Почему по округам - потому что городов очень много для категориального анализа."
   ]
  },
  {
   "cell_type": "code",
   "execution_count": 40,
   "metadata": {},
   "outputs": [
    {
     "data": {
      "text/plain": [
       "8103"
      ]
     },
     "execution_count": 40,
     "metadata": {},
     "output_type": "execute_result"
    }
   ],
   "source": [
    "len(df['postal_code'].unique())"
   ]
  },
  {
   "cell_type": "markdown",
   "metadata": {},
   "source": [
    "С сайта `opendatasoft` загрузим инфориация по почтовым индексам:"
   ]
  },
  {
   "cell_type": "code",
   "execution_count": 41,
   "metadata": {},
   "outputs": [
    {
     "name": "stdout",
     "output_type": "stream",
     "text": [
      "CPU times: user 2 µs, sys: 0 ns, total: 2 µs\n",
      "Wall time: 6.2 µs\n"
     ]
    }
   ],
   "source": [
    "%time\n",
    "zip_code = pd.read_csv(\n",
    "    'https://public.opendatasoft.com/api/explore/v2.1/catalog/datasets/georef-germany-postleitzahl/exports/csv?lang=en&timezone=Pacific%2FFiji&use_labels=true&delimiter=%3B', sep=';', header=0)"
   ]
  },
  {
   "cell_type": "markdown",
   "metadata": {},
   "source": [
    "Сделаем таблицу содержащую:\n",
    " * Почтовый индекс\n",
    " * Название округа"
   ]
  },
  {
   "cell_type": "code",
   "execution_count": 42,
   "metadata": {},
   "outputs": [
    {
     "data": {
      "text/html": [
       "<div>\n",
       "<style scoped>\n",
       "    .dataframe tbody tr th:only-of-type {\n",
       "        vertical-align: middle;\n",
       "    }\n",
       "\n",
       "    .dataframe tbody tr th {\n",
       "        vertical-align: top;\n",
       "    }\n",
       "\n",
       "    .dataframe thead th {\n",
       "        text-align: right;\n",
       "    }\n",
       "</style>\n",
       "<table border=\"1\" class=\"dataframe\">\n",
       "  <thead>\n",
       "    <tr style=\"text-align: right;\">\n",
       "      <th></th>\n",
       "      <th>postal_code</th>\n",
       "      <th>land</th>\n",
       "    </tr>\n",
       "  </thead>\n",
       "  <tbody>\n",
       "    <tr>\n",
       "      <th>0</th>\n",
       "      <td>47574</td>\n",
       "      <td>Nordrhein-Westfalen</td>\n",
       "    </tr>\n",
       "    <tr>\n",
       "      <th>1</th>\n",
       "      <td>52499</td>\n",
       "      <td>Nordrhein-Westfalen</td>\n",
       "    </tr>\n",
       "    <tr>\n",
       "      <th>2</th>\n",
       "      <td>54608</td>\n",
       "      <td>Rheinland-Pfalz</td>\n",
       "    </tr>\n",
       "    <tr>\n",
       "      <th>3</th>\n",
       "      <td>47669</td>\n",
       "      <td>Nordrhein-Westfalen</td>\n",
       "    </tr>\n",
       "    <tr>\n",
       "      <th>4</th>\n",
       "      <td>41747</td>\n",
       "      <td>Nordrhein-Westfalen</td>\n",
       "    </tr>\n",
       "  </tbody>\n",
       "</table>\n",
       "</div>"
      ],
      "text/plain": [
       "   postal_code                 land\n",
       "0        47574  Nordrhein-Westfalen\n",
       "1        52499  Nordrhein-Westfalen\n",
       "2        54608      Rheinland-Pfalz\n",
       "3        47669  Nordrhein-Westfalen\n",
       "4        41747  Nordrhein-Westfalen"
      ]
     },
     "execution_count": 42,
     "metadata": {},
     "output_type": "execute_result"
    }
   ],
   "source": [
    "zip_code = zip_code[['Name', 'Land name']]\n",
    "zip_code.columns = ['postal_code', 'land']\n",
    "zip_code.head()"
   ]
  },
  {
   "cell_type": "markdown",
   "metadata": {},
   "source": [
    "Добавим данные в наш датасет:"
   ]
  },
  {
   "cell_type": "code",
   "execution_count": 43,
   "metadata": {},
   "outputs": [],
   "source": [
    "df = pd.merge(df, zip_code, how='left', on='postal_code')"
   ]
  },
  {
   "cell_type": "markdown",
   "metadata": {},
   "source": [
    "Проверим на пропуски:"
   ]
  },
  {
   "cell_type": "code",
   "execution_count": 44,
   "metadata": {},
   "outputs": [
    {
     "data": {
      "text/plain": [
       "295"
      ]
     },
     "execution_count": 44,
     "metadata": {},
     "output_type": "execute_result"
    }
   ],
   "source": [
    "df['land'].isna().sum()"
   ]
  },
  {
   "cell_type": "markdown",
   "metadata": {},
   "source": [
    "Пропущенные значения заполним `none` и взглянем на статистику:"
   ]
  },
  {
   "cell_type": "code",
   "execution_count": 45,
   "metadata": {},
   "outputs": [
    {
     "data": {
      "text/html": [
       "<div>\n",
       "<style scoped>\n",
       "    .dataframe tbody tr th:only-of-type {\n",
       "        vertical-align: middle;\n",
       "    }\n",
       "\n",
       "    .dataframe tbody tr th {\n",
       "        vertical-align: top;\n",
       "    }\n",
       "\n",
       "    .dataframe thead th {\n",
       "        text-align: right;\n",
       "    }\n",
       "</style>\n",
       "<table border=\"1\" class=\"dataframe\">\n",
       "  <thead>\n",
       "    <tr style=\"text-align: right;\">\n",
       "      <th></th>\n",
       "      <th>count</th>\n",
       "      <th>mean</th>\n",
       "      <th>median</th>\n",
       "    </tr>\n",
       "    <tr>\n",
       "      <th>land</th>\n",
       "      <th></th>\n",
       "      <th></th>\n",
       "      <th></th>\n",
       "    </tr>\n",
       "  </thead>\n",
       "  <tbody>\n",
       "    <tr>\n",
       "      <th>none</th>\n",
       "      <td>295</td>\n",
       "      <td>3233.725424</td>\n",
       "      <td>1900</td>\n",
       "    </tr>\n",
       "    <tr>\n",
       "      <th>Sachsen-Anhalt</th>\n",
       "      <td>6875</td>\n",
       "      <td>3174.259491</td>\n",
       "      <td>1900</td>\n",
       "    </tr>\n",
       "    <tr>\n",
       "      <th>Mecklenburg-Vorpommern</th>\n",
       "      <td>5680</td>\n",
       "      <td>3274.509507</td>\n",
       "      <td>2000</td>\n",
       "    </tr>\n",
       "    <tr>\n",
       "      <th>Brandenburg</th>\n",
       "      <td>7861</td>\n",
       "      <td>3439.736675</td>\n",
       "      <td>2300</td>\n",
       "    </tr>\n",
       "    <tr>\n",
       "      <th>Saarland</th>\n",
       "      <td>5004</td>\n",
       "      <td>3672.509193</td>\n",
       "      <td>2399</td>\n",
       "    </tr>\n",
       "    <tr>\n",
       "      <th>Schleswig-Holstein</th>\n",
       "      <td>13837</td>\n",
       "      <td>3586.133483</td>\n",
       "      <td>2400</td>\n",
       "    </tr>\n",
       "    <tr>\n",
       "      <th>Bremen</th>\n",
       "      <td>2957</td>\n",
       "      <td>3500.754819</td>\n",
       "      <td>2420</td>\n",
       "    </tr>\n",
       "    <tr>\n",
       "      <th>Sachsen</th>\n",
       "      <td>9438</td>\n",
       "      <td>3540.471710</td>\n",
       "      <td>2499</td>\n",
       "    </tr>\n",
       "    <tr>\n",
       "      <th>Niedersachsen</th>\n",
       "      <td>36030</td>\n",
       "      <td>3667.455870</td>\n",
       "      <td>2499</td>\n",
       "    </tr>\n",
       "    <tr>\n",
       "      <th>Thüringen</th>\n",
       "      <td>5983</td>\n",
       "      <td>3730.431890</td>\n",
       "      <td>2500</td>\n",
       "    </tr>\n",
       "  </tbody>\n",
       "</table>\n",
       "</div>"
      ],
      "text/plain": [
       "                        count         mean  median\n",
       "land                                              \n",
       "none                      295  3233.725424    1900\n",
       "Sachsen-Anhalt           6875  3174.259491    1900\n",
       "Mecklenburg-Vorpommern   5680  3274.509507    2000\n",
       "Brandenburg              7861  3439.736675    2300\n",
       "Saarland                 5004  3672.509193    2399\n",
       "Schleswig-Holstein      13837  3586.133483    2400\n",
       "Bremen                   2957  3500.754819    2420\n",
       "Sachsen                  9438  3540.471710    2499\n",
       "Niedersachsen           36030  3667.455870    2499\n",
       "Thüringen                5983  3730.431890    2500"
      ]
     },
     "metadata": {},
     "output_type": "display_data"
    },
    {
     "data": {
      "image/png": "[encoded data removed]",
      "text/plain": [
       "<Figure size 1440x504 with 1 Axes>"
      ]
     },
     "metadata": {},
     "output_type": "display_data"
    }
   ],
   "source": [
    "df['land'] = df['land'].fillna('none')\n",
    "cat_stat('land', 'median')"
   ]
  },
  {
   "cell_type": "markdown",
   "metadata": {},
   "source": [
    "Мы получили новый категориальный признак - округ, а почтовый индес удалим позже т.к. он не несет длоя модели никакой информации."
   ]
  },
  {
   "cell_type": "markdown",
   "metadata": {},
   "source": [
    "### last_seen"
   ]
  },
  {
   "cell_type": "markdown",
   "metadata": {},
   "source": [
    "Столбец `last_seen` не несет инфориации, экстрактируем из нее месяц и взглянем на статистику:"
   ]
  },
  {
   "cell_type": "code",
   "execution_count": 46,
   "metadata": {},
   "outputs": [
    {
     "data": {
      "text/html": [
       "<div>\n",
       "<style scoped>\n",
       "    .dataframe tbody tr th:only-of-type {\n",
       "        vertical-align: middle;\n",
       "    }\n",
       "\n",
       "    .dataframe tbody tr th {\n",
       "        vertical-align: top;\n",
       "    }\n",
       "\n",
       "    .dataframe thead th {\n",
       "        text-align: right;\n",
       "    }\n",
       "</style>\n",
       "<table border=\"1\" class=\"dataframe\">\n",
       "  <thead>\n",
       "    <tr style=\"text-align: right;\">\n",
       "      <th></th>\n",
       "      <th>count</th>\n",
       "      <th>mean</th>\n",
       "      <th>median</th>\n",
       "    </tr>\n",
       "    <tr>\n",
       "      <th>month_last_seen</th>\n",
       "      <th></th>\n",
       "      <th></th>\n",
       "      <th></th>\n",
       "    </tr>\n",
       "  </thead>\n",
       "  <tbody>\n",
       "    <tr>\n",
       "      <th>3</th>\n",
       "      <td>141998</td>\n",
       "      <td>3374.966478</td>\n",
       "      <td>2222</td>\n",
       "    </tr>\n",
       "    <tr>\n",
       "      <th>4</th>\n",
       "      <td>181214</td>\n",
       "      <td>4316.902794</td>\n",
       "      <td>3100</td>\n",
       "    </tr>\n",
       "  </tbody>\n",
       "</table>\n",
       "</div>"
      ],
      "text/plain": [
       "                  count         mean  median\n",
       "month_last_seen                             \n",
       "3                141998  3374.966478    2222\n",
       "4                181214  4316.902794    3100"
      ]
     },
     "metadata": {},
     "output_type": "display_data"
    },
    {
     "data": {
      "image/png": "[encoded data removed]",
      "text/plain": [
       "<Figure size 1440x504 with 1 Axes>"
      ]
     },
     "metadata": {},
     "output_type": "display_data"
    }
   ],
   "source": [
    "df['month_last_seen'] = df['last_seen'].dt.strftime('%m').astype('int')\n",
    "df.head()\n",
    "cat_stat('month_last_seen', 'median')"
   ]
  },
  {
   "cell_type": "markdown",
   "metadata": {},
   "source": [
    "Распределение по количеству примерно 50:50, а медианная стоимость отличаетс почти на 50%"
   ]
  },
  {
   "cell_type": "markdown",
   "metadata": {},
   "source": [
    "### model"
   ]
  },
  {
   "cell_type": "code",
   "execution_count": 47,
   "metadata": {},
   "outputs": [
    {
     "data": {
      "text/html": [
       "<div>\n",
       "<style scoped>\n",
       "    .dataframe tbody tr th:only-of-type {\n",
       "        vertical-align: middle;\n",
       "    }\n",
       "\n",
       "    .dataframe tbody tr th {\n",
       "        vertical-align: top;\n",
       "    }\n",
       "\n",
       "    .dataframe thead th {\n",
       "        text-align: right;\n",
       "    }\n",
       "</style>\n",
       "<table border=\"1\" class=\"dataframe\">\n",
       "  <thead>\n",
       "    <tr style=\"text-align: right;\">\n",
       "      <th></th>\n",
       "      <th>count</th>\n",
       "      <th>mean</th>\n",
       "      <th>median</th>\n",
       "    </tr>\n",
       "    <tr>\n",
       "      <th>model</th>\n",
       "      <th></th>\n",
       "      <th></th>\n",
       "      <th></th>\n",
       "    </tr>\n",
       "  </thead>\n",
       "  <tbody>\n",
       "    <tr>\n",
       "      <th>samara</th>\n",
       "      <td>9</td>\n",
       "      <td>688.444444</td>\n",
       "      <td>400.0</td>\n",
       "    </tr>\n",
       "    <tr>\n",
       "      <th>elefantino</th>\n",
       "      <td>8</td>\n",
       "      <td>531.125000</td>\n",
       "      <td>450.0</td>\n",
       "    </tr>\n",
       "    <tr>\n",
       "      <th>escort</th>\n",
       "      <td>819</td>\n",
       "      <td>775.673993</td>\n",
       "      <td>550.0</td>\n",
       "    </tr>\n",
       "    <tr>\n",
       "      <th>move</th>\n",
       "      <td>48</td>\n",
       "      <td>678.791667</td>\n",
       "      <td>599.5</td>\n",
       "    </tr>\n",
       "    <tr>\n",
       "      <th>r19</th>\n",
       "      <td>111</td>\n",
       "      <td>853.351351</td>\n",
       "      <td>600.0</td>\n",
       "    </tr>\n",
       "    <tr>\n",
       "      <th>145</th>\n",
       "      <td>40</td>\n",
       "      <td>922.025000</td>\n",
       "      <td>600.0</td>\n",
       "    </tr>\n",
       "    <tr>\n",
       "      <th>lanos</th>\n",
       "      <td>75</td>\n",
       "      <td>656.600000</td>\n",
       "      <td>600.0</td>\n",
       "    </tr>\n",
       "    <tr>\n",
       "      <th>charade</th>\n",
       "      <td>24</td>\n",
       "      <td>1353.625000</td>\n",
       "      <td>624.5</td>\n",
       "    </tr>\n",
       "    <tr>\n",
       "      <th>lybra</th>\n",
       "      <td>62</td>\n",
       "      <td>718.274194</td>\n",
       "      <td>680.0</td>\n",
       "    </tr>\n",
       "    <tr>\n",
       "      <th>seicento</th>\n",
       "      <td>637</td>\n",
       "      <td>823.196232</td>\n",
       "      <td>788.0</td>\n",
       "    </tr>\n",
       "  </tbody>\n",
       "</table>\n",
       "</div>"
      ],
      "text/plain": [
       "            count         mean  median\n",
       "model                                 \n",
       "samara          9   688.444444   400.0\n",
       "elefantino      8   531.125000   450.0\n",
       "escort        819   775.673993   550.0\n",
       "move           48   678.791667   599.5\n",
       "r19           111   853.351351   600.0\n",
       "145            40   922.025000   600.0\n",
       "lanos          75   656.600000   600.0\n",
       "charade        24  1353.625000   624.5\n",
       "lybra          62   718.274194   680.0\n",
       "seicento      637   823.196232   788.0"
      ]
     },
     "metadata": {},
     "output_type": "display_data"
    },
    {
     "data": {
      "image/png": "[encoded data removed]",
      "text/plain": [
       "<Figure size 1440x504 with 1 Axes>"
      ]
     },
     "metadata": {},
     "output_type": "display_data"
    }
   ],
   "source": [
    "cat_stat('model', 'median')"
   ]
  },
  {
   "cell_type": "markdown",
   "metadata": {},
   "source": [
    "Естественно - медианная стоимость ависит от модели авто."
   ]
  },
  {
   "cell_type": "code",
   "execution_count": 48,
   "metadata": {},
   "outputs": [
    {
     "data": {
      "text/plain": [
       "0"
      ]
     },
     "execution_count": 48,
     "metadata": {},
     "output_type": "execute_result"
    }
   ],
   "source": [
    "df['model'].isna().sum()"
   ]
  },
  {
   "cell_type": "code",
   "execution_count": 49,
   "metadata": {},
   "outputs": [],
   "source": [
    "df['model'] = df['model'].fillna('none')"
   ]
  },
  {
   "cell_type": "markdown",
   "metadata": {},
   "source": [
    "### fuel_type"
   ]
  },
  {
   "cell_type": "markdown",
   "metadata": {},
   "source": [
    "Имеем 21125 пропущенных значения типа используемого топлива, заполнять будем по аналогии с `vehicle_type`"
   ]
  },
  {
   "cell_type": "code",
   "execution_count": 50,
   "metadata": {},
   "outputs": [
    {
     "data": {
      "text/plain": [
       "21125"
      ]
     },
     "execution_count": 50,
     "metadata": {},
     "output_type": "execute_result"
    }
   ],
   "source": [
    "df['fuel_type'].isna().sum()"
   ]
  },
  {
   "cell_type": "code",
   "execution_count": 51,
   "metadata": {},
   "outputs": [],
   "source": [
    "fuel_type = df.loc[:, ['model', 'fuel_type']].dropna().drop_duplicates('model')\n",
    "df = df.merge(fuel_type, how=\"left\", on='model')\n",
    "df['fuel_type_z'] = df['fuel_type_x'].where(\n",
    "    df['fuel_type_x'].notnull(), df['fuel_type_y'])"
   ]
  },
  {
   "cell_type": "markdown",
   "metadata": {},
   "source": [
    "### Drop columns"
   ]
  },
  {
   "cell_type": "markdown",
   "metadata": {},
   "source": [
    "Удалим столбцы которые не несут никакой информации для модели."
   ]
  },
  {
   "cell_type": "code",
   "execution_count": 52,
   "metadata": {},
   "outputs": [],
   "source": [
    "df.head()\n",
    "drop_columns = ['date_crawled', 'date_created', 'number_pictures', 'postal_code',\n",
    "                'last_seen', 'year_created', 'year_crawled', 'fuel_type_x', 'fuel_type_y']\n",
    "df = df.drop(labels=drop_columns, axis=1)"
   ]
  },
  {
   "cell_type": "code",
   "execution_count": 53,
   "metadata": {},
   "outputs": [
    {
     "data": {
      "text/plain": [
       "price                 0\n",
       "registration_year     0\n",
       "gearbox               0\n",
       "power                 0\n",
       "model                 0\n",
       "kilometer             0\n",
       "registration_month    0\n",
       "brand                 0\n",
       "repaired              0\n",
       "vehicle_type          0\n",
       "month_created         0\n",
       "land                  0\n",
       "month_last_seen       0\n",
       "fuel_type_z           0\n",
       "dtype: int64"
      ]
     },
     "execution_count": 53,
     "metadata": {},
     "output_type": "execute_result"
    }
   ],
   "source": [
    "df.isna().sum()"
   ]
  },
  {
   "cell_type": "code",
   "execution_count": 54,
   "metadata": {},
   "outputs": [
    {
     "data": {
      "text/html": [
       "<div>\n",
       "<style scoped>\n",
       "    .dataframe tbody tr th:only-of-type {\n",
       "        vertical-align: middle;\n",
       "    }\n",
       "\n",
       "    .dataframe tbody tr th {\n",
       "        vertical-align: top;\n",
       "    }\n",
       "\n",
       "    .dataframe thead th {\n",
       "        text-align: right;\n",
       "    }\n",
       "</style>\n",
       "<table border=\"1\" class=\"dataframe\">\n",
       "  <thead>\n",
       "    <tr style=\"text-align: right;\">\n",
       "      <th></th>\n",
       "      <th>price</th>\n",
       "      <th>registration_year</th>\n",
       "      <th>gearbox</th>\n",
       "      <th>power</th>\n",
       "      <th>model</th>\n",
       "      <th>kilometer</th>\n",
       "      <th>registration_month</th>\n",
       "      <th>brand</th>\n",
       "      <th>repaired</th>\n",
       "      <th>vehicle_type</th>\n",
       "      <th>month_created</th>\n",
       "      <th>land</th>\n",
       "      <th>month_last_seen</th>\n",
       "      <th>fuel_type_z</th>\n",
       "    </tr>\n",
       "  </thead>\n",
       "  <tbody>\n",
       "    <tr>\n",
       "      <th>0</th>\n",
       "      <td>480</td>\n",
       "      <td>1993</td>\n",
       "      <td>manual</td>\n",
       "      <td>30</td>\n",
       "      <td>golf</td>\n",
       "      <td>150000</td>\n",
       "      <td>0</td>\n",
       "      <td>volkswagen</td>\n",
       "      <td>none</td>\n",
       "      <td>small</td>\n",
       "      <td>3</td>\n",
       "      <td>Baden-Württemberg</td>\n",
       "      <td>4</td>\n",
       "      <td>petrol</td>\n",
       "    </tr>\n",
       "    <tr>\n",
       "      <th>1</th>\n",
       "      <td>9800</td>\n",
       "      <td>2004</td>\n",
       "      <td>auto</td>\n",
       "      <td>160</td>\n",
       "      <td>grand</td>\n",
       "      <td>125000</td>\n",
       "      <td>8</td>\n",
       "      <td>jeep</td>\n",
       "      <td>none</td>\n",
       "      <td>suv</td>\n",
       "      <td>3</td>\n",
       "      <td>Bayern</td>\n",
       "      <td>4</td>\n",
       "      <td>petrol</td>\n",
       "    </tr>\n",
       "    <tr>\n",
       "      <th>2</th>\n",
       "      <td>1500</td>\n",
       "      <td>2001</td>\n",
       "      <td>manual</td>\n",
       "      <td>80</td>\n",
       "      <td>golf</td>\n",
       "      <td>150000</td>\n",
       "      <td>6</td>\n",
       "      <td>volkswagen</td>\n",
       "      <td>no</td>\n",
       "      <td>small</td>\n",
       "      <td>3</td>\n",
       "      <td>Bayern</td>\n",
       "      <td>3</td>\n",
       "      <td>petrol</td>\n",
       "    </tr>\n",
       "    <tr>\n",
       "      <th>3</th>\n",
       "      <td>3600</td>\n",
       "      <td>2008</td>\n",
       "      <td>manual</td>\n",
       "      <td>70</td>\n",
       "      <td>fabia</td>\n",
       "      <td>90000</td>\n",
       "      <td>7</td>\n",
       "      <td>skoda</td>\n",
       "      <td>no</td>\n",
       "      <td>small</td>\n",
       "      <td>3</td>\n",
       "      <td>Hessen</td>\n",
       "      <td>4</td>\n",
       "      <td>petrol</td>\n",
       "    </tr>\n",
       "    <tr>\n",
       "      <th>4</th>\n",
       "      <td>650</td>\n",
       "      <td>1995</td>\n",
       "      <td>manual</td>\n",
       "      <td>100</td>\n",
       "      <td>3er</td>\n",
       "      <td>150000</td>\n",
       "      <td>10</td>\n",
       "      <td>bmw</td>\n",
       "      <td>yes</td>\n",
       "      <td>sedan</td>\n",
       "      <td>4</td>\n",
       "      <td>Nordrhein-Westfalen</td>\n",
       "      <td>4</td>\n",
       "      <td>petrol</td>\n",
       "    </tr>\n",
       "  </tbody>\n",
       "</table>\n",
       "</div>"
      ],
      "text/plain": [
       "   price  registration_year gearbox  power  model  kilometer  \\\n",
       "0    480               1993  manual     30   golf     150000   \n",
       "1   9800               2004    auto    160  grand     125000   \n",
       "2   1500               2001  manual     80   golf     150000   \n",
       "3   3600               2008  manual     70  fabia      90000   \n",
       "4    650               1995  manual    100    3er     150000   \n",
       "\n",
       "   registration_month       brand repaired vehicle_type  month_created  \\\n",
       "0                   0  volkswagen     none        small              3   \n",
       "1                   8        jeep     none          suv              3   \n",
       "2                   6  volkswagen       no        small              3   \n",
       "3                   7       skoda       no        small              3   \n",
       "4                  10         bmw      yes        sedan              4   \n",
       "\n",
       "                  land  month_last_seen fuel_type_z  \n",
       "0    Baden-Württemberg                4      petrol  \n",
       "1               Bayern                4      petrol  \n",
       "2               Bayern                3      petrol  \n",
       "3               Hessen                4      petrol  \n",
       "4  Nordrhein-Westfalen                4      petrol  "
      ]
     },
     "execution_count": 54,
     "metadata": {},
     "output_type": "execute_result"
    }
   ],
   "source": [
    "df.head()"
   ]
  },
  {
   "cell_type": "markdown",
   "metadata": {},
   "source": [
    "### Train, test  split"
   ]
  },
  {
   "cell_type": "markdown",
   "metadata": {},
   "source": [
    "Разделим наш датасет на тренировочную, тестовую и валидационную выборки:"
   ]
  },
  {
   "cell_type": "code",
   "execution_count": 57,
   "metadata": {},
   "outputs": [
    {
     "name": "stderr",
     "output_type": "stream",
     "text": [
      "/tmp/ipykernel_834/3685968583.py:15: SettingWithCopyWarning: \n",
      "A value is trying to be set on a copy of a slice from a DataFrame.\n",
      "Try using .loc[row_indexer,col_indexer] = value instead\n",
      "\n",
      "See the caveats in the documentation: https://pandas.pydata.org/pandas-docs/stable/user_guide/indexing.html#returning-a-view-versus-a-copy\n",
      "  X_train[columns_to_encode] = enc.transform(X_train[columns_to_encode])\n",
      "/opt/conda/lib/python3.9/site-packages/pandas/core/indexing.py:1738: SettingWithCopyWarning: \n",
      "A value is trying to be set on a copy of a slice from a DataFrame.\n",
      "Try using .loc[row_indexer,col_indexer] = value instead\n",
      "\n",
      "See the caveats in the documentation: https://pandas.pydata.org/pandas-docs/stable/user_guide/indexing.html#returning-a-view-versus-a-copy\n",
      "  self._setitem_single_column(loc, value[:, i].tolist(), pi)\n",
      "/tmp/ipykernel_834/3685968583.py:16: SettingWithCopyWarning: \n",
      "A value is trying to be set on a copy of a slice from a DataFrame.\n",
      "Try using .loc[row_indexer,col_indexer] = value instead\n",
      "\n",
      "See the caveats in the documentation: https://pandas.pydata.org/pandas-docs/stable/user_guide/indexing.html#returning-a-view-versus-a-copy\n",
      "  X_test[columns_to_encode] = enc.transform(X_test[columns_to_encode])\n",
      "/opt/conda/lib/python3.9/site-packages/pandas/core/indexing.py:1738: SettingWithCopyWarning: \n",
      "A value is trying to be set on a copy of a slice from a DataFrame.\n",
      "Try using .loc[row_indexer,col_indexer] = value instead\n",
      "\n",
      "See the caveats in the documentation: https://pandas.pydata.org/pandas-docs/stable/user_guide/indexing.html#returning-a-view-versus-a-copy\n",
      "  self._setitem_single_column(loc, value[:, i].tolist(), pi)\n"
     ]
    }
   ],
   "source": [
    "columns_to_encode = ['vehicle_type', 'gearbox',\n",
    "                     'model', 'brand', 'repaired', 'land', 'fuel_type_z']\n",
    "enc = OrdinalEncoder(handle_unknown='ignore')\n",
    "\n",
    "preop_data_oe = df.copy()\n",
    "\n",
    "X = preop_data_oe.drop('price', axis=1)\n",
    "y = preop_data_oe['price']\n",
    "\n",
    "X_train, X_test, y_train, y_test = train_test_split(\n",
    "    X, y, test_size=0.25, random_state=RANDOM_SEED)\n",
    "\n",
    "enc.fit(X_train[columns_to_encode])\n",
    "\n",
    "X_train[columns_to_encode] = enc.transform(X_train[columns_to_encode])\n",
    "X_test[columns_to_encode] = enc.transform(X_test[columns_to_encode])"
   ]
  },
  {
   "cell_type": "markdown",
   "metadata": {},
   "source": [
    "### Correlation matrix"
   ]
  },
  {
   "cell_type": "code",
   "execution_count": 58,
   "metadata": {},
   "outputs": [
    {
     "data": {
      "image/png": "[encoded data removed]",
      "text/plain": [
       "<Figure size 1080x1080 with 2 Axes>"
      ]
     },
     "metadata": {},
     "output_type": "display_data"
    }
   ],
   "source": [
    "stat = df.copy()\n",
    "stat[columns_to_encode] = enc.fit_transform(stat[columns_to_encode])\n",
    "corr_matrix = stat.corr()\n",
    "\n",
    "mask = np.triu(np.ones_like(corr_matrix, dtype=np.bool_))\n",
    "\n",
    "f, ax = plt.subplots(figsize=(15, 15))\n",
    "heatmap = sns.heatmap(round(corr_matrix, 2),\n",
    "                      mask=mask,\n",
    "                      square=True,\n",
    "                      linewidths=.5,\n",
    "                      cmap='coolwarm',\n",
    "                      cbar_kws={'shrink': .4,\n",
    "                                'ticks': [-1, -.5, 0, 0.5, 1]},\n",
    "                      vmin=-1,\n",
    "                      vmax=1,\n",
    "                      annot=True,\n",
    "                      annot_kws={'size': 10})\n",
    "\n",
    "ax.set_yticklabels(corr_matrix.columns, rotation=0)\n",
    "ax.set_xticklabels(corr_matrix.columns)\n",
    "sns.set_style({'xtick.bottom': True}, {'ytick.left': True})"
   ]
  },
  {
   "cell_type": "markdown",
   "metadata": {},
   "source": [
    "## Обучение моделей"
   ]
  },
  {
   "cell_type": "markdown",
   "metadata": {},
   "source": [
    "Будем сравнивать три модели: \n",
    "* 'LinearRegression'\n",
    "* 'LightGBM'\n",
    "* 'GradientBoostingRegressor'"
   ]
  },
  {
   "cell_type": "code",
   "execution_count": 68,
   "metadata": {},
   "outputs": [],
   "source": [
    "from sklearn.model_selection import cross_val_score\n",
    "from lightgbm import LGBMRegressor\n",
    "\n",
    "lr = LinearRegression()\n",
    "lgbm = LGBMRegressor(random_state=RANDOM_SEED)\n",
    "reg = GradientBoostingRegressor(random_state=RANDOM_SEED)\n",
    "\n",
    "model_list = [lr, lgbm, reg]\n",
    "model_name_list = ['LinearRegression', 'LGBMRegressor', 'GradientBoostingRegressor']\n",
    "fit_time_list = []\n",
    "predict_time_list = []\n",
    "test_scores = []"
   ]
  },
  {
   "cell_type": "code",
   "execution_count": 69,
   "metadata": {},
   "outputs": [
    {
     "name": "stderr",
     "output_type": "stream",
     "text": [
      "\u001b[32m[I 2023-02-27 02:43:02,104]\u001b[0m A new study created in memory with name: no-name-6e71f0da-d9c8-4ab1-a22b-b2d66dbe7fe6\u001b[0m\n"
     ]
    },
    {
     "name": "stdout",
     "output_type": "stream",
     "text": [
      "________________START_________________\n"
     ]
    },
    {
     "name": "stderr",
     "output_type": "stream",
     "text": [
      "\u001b[32m[I 2023-02-27 02:43:07,613]\u001b[0m Trial 0 finished with value: 1617.9150461290048 and parameters: {'subsample': 0.6483832970719379, 'learning_rate': 0.30564375423774603, 'n_estimators': 7}. Best is trial 0 with value: 1617.9150461290048.\u001b[0m\n"
     ]
    },
    {
     "name": "stdout",
     "output_type": "stream",
     "text": [
      "1617.9150461290048\n",
      "________________STOP__________________\n",
      "________________START_________________\n"
     ]
    },
    {
     "name": "stderr",
     "output_type": "stream",
     "text": [
      "\u001b[32m[I 2023-02-27 02:43:13,510]\u001b[0m Trial 1 finished with value: 1447.1967782060642 and parameters: {'subsample': 0.42624623720126, 'learning_rate': 0.510484835227284, 'n_estimators': 11}. Best is trial 1 with value: 1447.1967782060642.\u001b[0m\n"
     ]
    },
    {
     "name": "stdout",
     "output_type": "stream",
     "text": [
      "1447.1967782060642\n",
      "________________STOP__________________\n",
      "________________START_________________\n"
     ]
    },
    {
     "name": "stderr",
     "output_type": "stream",
     "text": [
      "\u001b[32m[I 2023-02-27 02:43:18,212]\u001b[0m Trial 2 finished with value: 1602.6451527615175 and parameters: {'subsample': 0.9058408410504326, 'learning_rate': 0.36619891081213984, 'n_estimators': 6}. Best is trial 1 with value: 1447.1967782060642.\u001b[0m\n"
     ]
    },
    {
     "name": "stdout",
     "output_type": "stream",
     "text": [
      "1602.6451527615175\n",
      "________________STOP__________________\n",
      "________________START_________________\n"
     ]
    },
    {
     "name": "stderr",
     "output_type": "stream",
     "text": [
      "\u001b[32m[I 2023-02-27 02:43:23,514]\u001b[0m Trial 3 finished with value: 1875.3806453940565 and parameters: {'subsample': 0.3148879243758791, 'learning_rate': 0.18177230701016586, 'n_estimators': 7}. Best is trial 1 with value: 1447.1967782060642.\u001b[0m\n"
     ]
    },
    {
     "name": "stdout",
     "output_type": "stream",
     "text": [
      "1875.3806453940565\n",
      "________________STOP__________________\n",
      "________________START_________________\n"
     ]
    },
    {
     "name": "stderr",
     "output_type": "stream",
     "text": [
      "\u001b[32m[I 2023-02-27 02:43:28,905]\u001b[0m Trial 4 finished with value: 2172.3920589233594 and parameters: {'subsample': 0.8311166934885035, 'learning_rate': 0.1042309171753569, 'n_estimators': 8}. Best is trial 1 with value: 1447.1967782060642.\u001b[0m\n"
     ]
    },
    {
     "name": "stdout",
     "output_type": "stream",
     "text": [
      "2172.3920589233594\n",
      "________________STOP__________________\n",
      "________________START_________________\n"
     ]
    },
    {
     "name": "stderr",
     "output_type": "stream",
     "text": [
      "\u001b[32m[I 2023-02-27 02:43:35,005]\u001b[0m Trial 5 finished with value: 1463.8223083228602 and parameters: {'subsample': 0.41665103123820774, 'learning_rate': 0.39039439821168986, 'n_estimators': 11}. Best is trial 1 with value: 1447.1967782060642.\u001b[0m\n"
     ]
    },
    {
     "name": "stdout",
     "output_type": "stream",
     "text": [
      "1463.8223083228602\n",
      "________________STOP__________________\n",
      "________________START_________________\n"
     ]
    },
    {
     "name": "stderr",
     "output_type": "stream",
     "text": [
      "\u001b[32m[I 2023-02-27 02:43:41,006]\u001b[0m Trial 6 finished with value: 1559.5641326664554 and parameters: {'subsample': 0.885298791966352, 'learning_rate': 0.23634660555275028, 'n_estimators': 11}. Best is trial 1 with value: 1447.1967782060642.\u001b[0m\n"
     ]
    },
    {
     "name": "stdout",
     "output_type": "stream",
     "text": [
      "1559.5641326664554\n",
      "________________STOP__________________\n",
      "________________START_________________\n"
     ]
    },
    {
     "name": "stderr",
     "output_type": "stream",
     "text": [
      "\u001b[32m[I 2023-02-27 02:43:48,414]\u001b[0m Trial 7 finished with value: 1535.549590558183 and parameters: {'subsample': 0.25616224091577566, 'learning_rate': 0.4239510552363198, 'n_estimators': 7}. Best is trial 1 with value: 1447.1967782060642.\u001b[0m\n"
     ]
    },
    {
     "name": "stdout",
     "output_type": "stream",
     "text": [
      "1535.549590558183\n",
      "________________STOP__________________\n",
      "________________START_________________\n"
     ]
    },
    {
     "name": "stderr",
     "output_type": "stream",
     "text": [
      "\u001b[32m[I 2023-02-27 02:43:53,505]\u001b[0m Trial 8 finished with value: 1510.8178748916948 and parameters: {'subsample': 0.5839049895111066, 'learning_rate': 0.6709897273809892, 'n_estimators': 6}. Best is trial 1 with value: 1447.1967782060642.\u001b[0m\n"
     ]
    },
    {
     "name": "stdout",
     "output_type": "stream",
     "text": [
      "1510.8178748916948\n",
      "________________STOP__________________\n",
      "________________START_________________\n"
     ]
    },
    {
     "name": "stderr",
     "output_type": "stream",
     "text": [
      "\u001b[32m[I 2023-02-27 02:43:58,909]\u001b[0m Trial 9 finished with value: 1485.3205192750581 and parameters: {'subsample': 0.6830399264106874, 'learning_rate': 0.5523235857682468, 'n_estimators': 8}. Best is trial 1 with value: 1447.1967782060642.\u001b[0m\n"
     ]
    },
    {
     "name": "stdout",
     "output_type": "stream",
     "text": [
      "1485.3205192750581\n",
      "________________STOP__________________\n"
     ]
    }
   ],
   "source": [
    "for model in model_list:\n",
    "    if model == lgbm:\n",
    "        def objective(trial):\n",
    "            print('________________START_________________')\n",
    "            if model == lgbm:\n",
    "                param = {\n",
    "                    'subsample': trial.suggest_float('subsample', 0.2, 1.0),\n",
    "                    'learning_rate': trial.suggest_float('learning_rate', 0.1, 0.8),\n",
    "                    'n_estimators': trial.suggest_int('n_estimators', 5, 12)\n",
    "                }\n",
    "                \n",
    "            elif model == lr:\n",
    "                param = {}\n",
    "                \n",
    "            elif model == reg:\n",
    "                param = {}\n",
    "                \n",
    "            test_model = model.set_params(**param)\n",
    "            scores = cross_validate(\n",
    "                test_model, X_train, y_train, scoring='neg_mean_squared_error')\n",
    "            print(sqrt(abs(scores['test_score'].mean())))\n",
    "            print('________________STOP__________________')\n",
    "            return sqrt(abs(scores['test_score'].mean()))\n",
    "\n",
    "        study = optuna.create_study(\n",
    "            pruner=optuna.pruners.HyperbandPruner(), direction='minimize')\n",
    "        study.optimize(objective, n_trials=10, n_jobs=1)\n",
    "        best_params = study.best_params\n",
    "\n",
    "        scored_model = model.set_params(**best_params)\n",
    "        \n",
    "    else:\n",
    "        scored_model = model\n",
    "\n",
    "    scores = cross_validate(scored_model, X_train, y_train,\n",
    "                            scoring='neg_mean_squared_error')\n",
    "    final_score = sqrt(abs(scores['test_score'].mean()))\n",
    "    test_scores.append(final_score)\n",
    "\n",
    "    fit_time_list.append(scores['fit_time'].mean())\n",
    "    predict_time_list.append(scores['score_time'].mean())"
   ]
  },
  {
   "cell_type": "code",
   "execution_count": 70,
   "metadata": {},
   "outputs": [],
   "source": [
    "model_score_dict = {\n",
    "    'model_name': model_name_list,\n",
    "    'fit_time': fit_time_list,\n",
    "    'predict_time': predict_time_list,\n",
    "    'RMSE': test_scores\n",
    "}\n",
    "\n",
    "stat_table = pd.DataFrame(model_score_dict)"
   ]
  },
  {
   "cell_type": "markdown",
   "metadata": {},
   "source": [
    "## Анализ моделей"
   ]
  },
  {
   "cell_type": "code",
   "execution_count": 71,
   "metadata": {},
   "outputs": [
    {
     "data": {
      "text/html": [
       "<div>\n",
       "<style scoped>\n",
       "    .dataframe tbody tr th:only-of-type {\n",
       "        vertical-align: middle;\n",
       "    }\n",
       "\n",
       "    .dataframe tbody tr th {\n",
       "        vertical-align: top;\n",
       "    }\n",
       "\n",
       "    .dataframe thead th {\n",
       "        text-align: right;\n",
       "    }\n",
       "</style>\n",
       "<table border=\"1\" class=\"dataframe\">\n",
       "  <thead>\n",
       "    <tr style=\"text-align: right;\">\n",
       "      <th></th>\n",
       "      <th>model_name</th>\n",
       "      <th>fit_time</th>\n",
       "      <th>predict_time</th>\n",
       "      <th>RMSE</th>\n",
       "    </tr>\n",
       "  </thead>\n",
       "  <tbody>\n",
       "    <tr>\n",
       "      <th>0</th>\n",
       "      <td>LinearRegression</td>\n",
       "      <td>0.205998</td>\n",
       "      <td>0.036547</td>\n",
       "      <td>2124.325924</td>\n",
       "    </tr>\n",
       "    <tr>\n",
       "      <th>1</th>\n",
       "      <td>LGBMRegressor</td>\n",
       "      <td>1.114233</td>\n",
       "      <td>0.082656</td>\n",
       "      <td>1447.196778</td>\n",
       "    </tr>\n",
       "    <tr>\n",
       "      <th>2</th>\n",
       "      <td>GradientBoostingRegressor</td>\n",
       "      <td>15.084590</td>\n",
       "      <td>0.068778</td>\n",
       "      <td>1520.984442</td>\n",
       "    </tr>\n",
       "  </tbody>\n",
       "</table>\n",
       "</div>"
      ],
      "text/plain": [
       "                  model_name   fit_time  predict_time         RMSE\n",
       "0           LinearRegression   0.205998      0.036547  2124.325924\n",
       "1              LGBMRegressor   1.114233      0.082656  1447.196778\n",
       "2  GradientBoostingRegressor  15.084590      0.068778  1520.984442"
      ]
     },
     "execution_count": 71,
     "metadata": {},
     "output_type": "execute_result"
    }
   ],
   "source": [
    "stat_table"
   ]
  },
  {
   "cell_type": "markdown",
   "metadata": {},
   "source": [
    "## Тестирование лучшей модели"
   ]
  },
  {
   "cell_type": "code",
   "execution_count": 72,
   "metadata": {},
   "outputs": [
    {
     "name": "stdout",
     "output_type": "stream",
     "text": [
      "Время обучения модели составило: 1.15 sec\n",
      "Время предсказания модели составило: 0.1 sec\n",
      "Метрика RMSE: 1465.52\n"
     ]
    }
   ],
   "source": [
    "best_model = LGBMRegressor(**best_params, random_state=RANDOM_SEED)\n",
    "\n",
    "start = time.time()\n",
    "best_model.fit(X_train, y_train)\n",
    "end = time.time()\n",
    "fit_time = end - start\n",
    "\n",
    "start = time.time()\n",
    "y_pred = best_model.predict(X_test)\n",
    "end = time.time()\n",
    "predict_time = end - start\n",
    "\n",
    "RMSE = sqrt(mean_squared_error(y_test, y_pred))\n",
    "\n",
    "print(f'Время обучения модели составило: {round(fit_time, 2)} sec')\n",
    "print(f'Время предсказания модели составило: {round(predict_time, 2)} sec')\n",
    "print(f'Метрика RMSE: {round(RMSE, 2)}')"
   ]
  },
  {
   "cell_type": "markdown",
   "metadata": {},
   "source": [
    "## Общий вывод"
   ]
  },
  {
   "cell_type": "markdown",
   "metadata": {},
   "source": [
    "В данном проекте мы подобрали три модели машинного обучения, по метрике RMSE, времени обучения и предсказания.\n",
    "\n",
    "Для начала мы загрузили и ознакомились с данными датасета. Провели детальный анализ каждого столбца данных. Загрузили адресный классификатор и добавили в наш датасет данные по округам.\n",
    "     \n",
    "Затем провели OrdinalEncoding для категоральных столбцов, избавилиcь от ненужных признаков и провели сравнительный анализ моделей.\n",
    "     \n",
    "По результатам сравнительного анализа - рекомендуется к использования модель LGBMRegressor с параметрами: \n",
    "* 'subsample': 0.6885995350467948,\n",
    "*  'learning_rate': 0.6558630436479916,\n",
    "*  'n_estimators': 12}\n",
    "\n",
    "Которая при тестировании показала следующие метрики:\n",
    "\n",
    "Время обучения: 1.95 sec\n",
    "Время предсказания: 0.1 sec\n",
    "RMSE: 1445     "
   ]
  }
 ],
 "metadata": {
  "ExecuteTimeLog": [
   {
    "duration": 52,
    "start_time": "2023-02-21T08:34:25.478Z"
   },
   {
    "duration": 376,
    "start_time": "2023-02-21T08:34:40.801Z"
   },
   {
    "duration": 3223,
    "start_time": "2023-02-21T08:34:41.179Z"
   },
   {
    "duration": 30,
    "start_time": "2023-02-21T08:34:53.040Z"
   },
   {
    "duration": 35,
    "start_time": "2023-02-21T08:35:45.647Z"
   },
   {
    "duration": 5,
    "start_time": "2023-02-21T08:35:48.170Z"
   },
   {
    "duration": 15,
    "start_time": "2023-02-21T08:38:01.482Z"
   },
   {
    "duration": 19,
    "start_time": "2023-02-21T08:39:01.168Z"
   },
   {
    "duration": 170,
    "start_time": "2023-02-21T08:39:05.022Z"
   },
   {
    "duration": 476,
    "start_time": "2023-02-21T08:43:04.765Z"
   },
   {
    "duration": 89,
    "start_time": "2023-02-21T08:43:22.568Z"
   },
   {
    "duration": 568,
    "start_time": "2023-02-21T08:43:31.177Z"
   },
   {
    "duration": 51,
    "start_time": "2023-02-21T08:43:36.284Z"
   },
   {
    "duration": 64,
    "start_time": "2023-02-21T08:45:02.335Z"
   },
   {
    "duration": 1546,
    "start_time": "2023-02-21T08:45:32.307Z"
   },
   {
    "duration": 72,
    "start_time": "2023-02-21T08:46:10.358Z"
   },
   {
    "duration": 101,
    "start_time": "2023-02-21T08:46:50.525Z"
   },
   {
    "duration": 15,
    "start_time": "2023-02-21T08:47:00.798Z"
   },
   {
    "duration": 154,
    "start_time": "2023-02-21T08:47:08.947Z"
   },
   {
    "duration": 58,
    "start_time": "2023-02-21T08:47:20.675Z"
   },
   {
    "duration": 218,
    "start_time": "2023-02-21T08:47:58.345Z"
   },
   {
    "duration": 108,
    "start_time": "2023-02-21T08:47:59.217Z"
   },
   {
    "duration": 2,
    "start_time": "2023-02-21T08:50:01.510Z"
   },
   {
    "duration": 881,
    "start_time": "2023-02-21T08:50:01.857Z"
   },
   {
    "duration": 13,
    "start_time": "2023-02-21T08:50:02.740Z"
   },
   {
    "duration": 19,
    "start_time": "2023-02-21T08:50:04.024Z"
   },
   {
    "duration": 143,
    "start_time": "2023-02-21T08:50:04.728Z"
   },
   {
    "duration": 222,
    "start_time": "2023-02-21T08:50:05.467Z"
   },
   {
    "duration": 96,
    "start_time": "2023-02-21T08:50:06.901Z"
   },
   {
    "duration": 1340,
    "start_time": "2023-02-21T08:52:24.473Z"
   },
   {
    "duration": 1370,
    "start_time": "2023-02-21T08:52:49.964Z"
   },
   {
    "duration": 1412,
    "start_time": "2023-02-21T08:52:59.838Z"
   },
   {
    "duration": 1371,
    "start_time": "2023-02-21T08:54:09.362Z"
   },
   {
    "duration": 1484,
    "start_time": "2023-02-21T08:56:45.835Z"
   },
   {
    "duration": 1585,
    "start_time": "2023-02-21T08:58:09.115Z"
   },
   {
    "duration": 1514,
    "start_time": "2023-02-21T08:58:35.328Z"
   },
   {
    "duration": 1708,
    "start_time": "2023-02-21T08:58:54.169Z"
   },
   {
    "duration": 3,
    "start_time": "2023-02-21T08:59:08.277Z"
   },
   {
    "duration": 916,
    "start_time": "2023-02-21T08:59:08.545Z"
   },
   {
    "duration": 17,
    "start_time": "2023-02-21T08:59:09.464Z"
   },
   {
    "duration": 23,
    "start_time": "2023-02-21T08:59:09.482Z"
   },
   {
    "duration": 170,
    "start_time": "2023-02-21T08:59:09.507Z"
   },
   {
    "duration": 244,
    "start_time": "2023-02-21T08:59:09.679Z"
   },
   {
    "duration": 112,
    "start_time": "2023-02-21T08:59:09.925Z"
   },
   {
    "duration": 1650,
    "start_time": "2023-02-21T08:59:10.048Z"
   },
   {
    "duration": 22,
    "start_time": "2023-02-21T08:59:22.221Z"
   },
   {
    "duration": 7,
    "start_time": "2023-02-21T09:05:28.089Z"
   },
   {
    "duration": 7,
    "start_time": "2023-02-21T09:05:37.609Z"
   },
   {
    "duration": 10,
    "start_time": "2023-02-21T09:05:48.589Z"
   },
   {
    "duration": 444,
    "start_time": "2023-02-21T09:10:56.423Z"
   },
   {
    "duration": 23,
    "start_time": "2023-02-21T09:11:18.612Z"
   },
   {
    "duration": 6,
    "start_time": "2023-02-21T09:11:37.417Z"
   },
   {
    "duration": 183,
    "start_time": "2023-02-21T09:11:38.399Z"
   },
   {
    "duration": 548,
    "start_time": "2023-02-21T09:12:08.168Z"
   },
   {
    "duration": 54953,
    "start_time": "2023-02-21T09:12:08.737Z"
   },
   {
    "duration": 4,
    "start_time": "2023-02-21T09:13:12.698Z"
   },
   {
    "duration": 309,
    "start_time": "2023-02-21T09:13:13.189Z"
   },
   {
    "duration": 5,
    "start_time": "2023-02-21T09:13:47.264Z"
   },
   {
    "duration": 289,
    "start_time": "2023-02-21T09:13:47.782Z"
   },
   {
    "duration": 7,
    "start_time": "2023-02-21T09:13:59.279Z"
   },
   {
    "duration": 590,
    "start_time": "2023-02-21T09:13:59.703Z"
   },
   {
    "duration": 6,
    "start_time": "2023-02-21T09:14:55.122Z"
   },
   {
    "duration": 434,
    "start_time": "2023-02-21T09:16:30.029Z"
   },
   {
    "duration": 948,
    "start_time": "2023-02-21T09:16:30.465Z"
   },
   {
    "duration": 22,
    "start_time": "2023-02-21T09:16:31.414Z"
   },
   {
    "duration": 25,
    "start_time": "2023-02-21T09:16:31.438Z"
   },
   {
    "duration": 162,
    "start_time": "2023-02-21T09:16:31.466Z"
   },
   {
    "duration": 341,
    "start_time": "2023-02-21T09:16:31.630Z"
   },
   {
    "duration": 108,
    "start_time": "2023-02-21T09:16:31.973Z"
   },
   {
    "duration": 1697,
    "start_time": "2023-02-21T09:16:32.084Z"
   },
   {
    "duration": 7,
    "start_time": "2023-02-21T09:16:33.783Z"
   },
   {
    "duration": 778,
    "start_time": "2023-02-21T09:16:33.792Z"
   },
   {
    "duration": 380,
    "start_time": "2023-02-21T09:16:34.572Z"
   },
   {
    "duration": 4,
    "start_time": "2023-02-21T09:18:00.046Z"
   },
   {
    "duration": 336,
    "start_time": "2023-02-21T09:18:00.333Z"
   },
   {
    "duration": 4,
    "start_time": "2023-02-21T09:18:18.313Z"
   },
   {
    "duration": 327,
    "start_time": "2023-02-21T09:18:18.746Z"
   },
   {
    "duration": 6,
    "start_time": "2023-02-21T09:27:03.147Z"
   },
   {
    "duration": 163,
    "start_time": "2023-02-21T09:28:13.394Z"
   },
   {
    "duration": 11,
    "start_time": "2023-02-21T09:28:34.666Z"
   },
   {
    "duration": 495,
    "start_time": "2023-02-21T09:28:56.743Z"
   },
   {
    "duration": 519,
    "start_time": "2023-02-21T09:43:23.868Z"
   },
   {
    "duration": 19,
    "start_time": "2023-02-21T09:47:42.499Z"
   },
   {
    "duration": 685,
    "start_time": "2023-02-21T09:48:01.311Z"
   },
   {
    "duration": 362,
    "start_time": "2023-02-21T09:48:10.061Z"
   },
   {
    "duration": 650,
    "start_time": "2023-02-21T09:48:42.293Z"
   },
   {
    "duration": 371,
    "start_time": "2023-02-21T09:48:43.339Z"
   },
   {
    "duration": 513,
    "start_time": "2023-02-21T09:48:53.459Z"
   },
   {
    "duration": 25,
    "start_time": "2023-02-21T09:50:09.562Z"
   },
   {
    "duration": 6,
    "start_time": "2023-02-21T09:51:18.881Z"
   },
   {
    "duration": 298,
    "start_time": "2023-02-21T09:51:31.717Z"
   },
   {
    "duration": 11,
    "start_time": "2023-02-21T09:51:58.239Z"
   },
   {
    "duration": 332,
    "start_time": "2023-02-21T09:51:58.636Z"
   },
   {
    "duration": 8,
    "start_time": "2023-02-21T09:52:48.712Z"
   },
   {
    "duration": 348,
    "start_time": "2023-02-21T09:52:49.071Z"
   },
   {
    "duration": 7,
    "start_time": "2023-02-21T09:53:28.605Z"
   },
   {
    "duration": 320,
    "start_time": "2023-02-21T09:53:29.300Z"
   },
   {
    "duration": 6,
    "start_time": "2023-02-21T09:54:22.739Z"
   },
   {
    "duration": 945,
    "start_time": "2023-02-21T09:54:23.266Z"
   },
   {
    "duration": 22,
    "start_time": "2023-02-21T09:55:25.607Z"
   },
   {
    "duration": 6,
    "start_time": "2023-02-21T09:55:26.331Z"
   },
   {
    "duration": 256,
    "start_time": "2023-02-21T09:55:26.788Z"
   },
   {
    "duration": 10,
    "start_time": "2023-02-21T09:56:10.851Z"
   },
   {
    "duration": 298,
    "start_time": "2023-02-21T09:56:11.296Z"
   },
   {
    "duration": 9,
    "start_time": "2023-02-21T09:56:18.358Z"
   },
   {
    "duration": 273,
    "start_time": "2023-02-21T09:56:18.697Z"
   },
   {
    "duration": 15,
    "start_time": "2023-02-21T21:53:35.198Z"
   },
   {
    "duration": 19,
    "start_time": "2023-02-21T21:54:05.883Z"
   },
   {
    "duration": 206,
    "start_time": "2023-02-21T21:54:23.055Z"
   },
   {
    "duration": 6,
    "start_time": "2023-02-21T21:55:58.893Z"
   },
   {
    "duration": 251,
    "start_time": "2023-02-21T21:56:13.998Z"
   },
   {
    "duration": 211,
    "start_time": "2023-02-21T21:56:25.782Z"
   },
   {
    "duration": 5,
    "start_time": "2023-02-21T21:56:45.311Z"
   },
   {
    "duration": 246,
    "start_time": "2023-02-21T21:56:45.727Z"
   },
   {
    "duration": 27,
    "start_time": "2023-02-21T21:56:46.687Z"
   },
   {
    "duration": 204,
    "start_time": "2023-02-21T21:56:47.183Z"
   },
   {
    "duration": 18,
    "start_time": "2023-02-21T21:57:22.302Z"
   },
   {
    "duration": 201,
    "start_time": "2023-02-21T21:57:40.857Z"
   },
   {
    "duration": 15,
    "start_time": "2023-02-21T21:57:53.345Z"
   },
   {
    "duration": 8,
    "start_time": "2023-02-21T21:58:47.535Z"
   },
   {
    "duration": 5,
    "start_time": "2023-02-21T21:58:50.024Z"
   },
   {
    "duration": 335,
    "start_time": "2023-02-21T21:58:50.254Z"
   },
   {
    "duration": 379,
    "start_time": "2023-02-21T21:58:56.220Z"
   },
   {
    "duration": 279,
    "start_time": "2023-02-21T21:59:13.690Z"
   },
   {
    "duration": 4,
    "start_time": "2023-02-21T22:00:34.728Z"
   },
   {
    "duration": 336,
    "start_time": "2023-02-21T22:00:35.321Z"
   },
   {
    "duration": 353,
    "start_time": "2023-02-21T22:00:40.490Z"
   },
   {
    "duration": 515,
    "start_time": "2023-02-21T22:00:43.521Z"
   },
   {
    "duration": 327,
    "start_time": "2023-02-21T22:00:44.103Z"
   },
   {
    "duration": 20,
    "start_time": "2023-02-21T22:00:44.640Z"
   },
   {
    "duration": 18,
    "start_time": "2023-02-21T22:00:44.891Z"
   },
   {
    "duration": 5,
    "start_time": "2023-02-21T22:00:45.107Z"
   },
   {
    "duration": 259,
    "start_time": "2023-02-21T22:00:45.300Z"
   },
   {
    "duration": 19,
    "start_time": "2023-02-21T22:00:45.562Z"
   },
   {
    "duration": 184,
    "start_time": "2023-02-21T22:00:45.731Z"
   },
   {
    "duration": 17,
    "start_time": "2023-02-21T22:00:45.947Z"
   },
   {
    "duration": 211,
    "start_time": "2023-02-21T22:00:46.188Z"
   },
   {
    "duration": 353,
    "start_time": "2023-02-21T22:00:46.402Z"
   },
   {
    "duration": 266,
    "start_time": "2023-02-21T22:01:00.973Z"
   },
   {
    "duration": 246,
    "start_time": "2023-02-21T22:01:07.406Z"
   },
   {
    "duration": 4,
    "start_time": "2023-02-21T22:01:45.889Z"
   },
   {
    "duration": 396,
    "start_time": "2023-02-21T22:01:46.275Z"
   },
   {
    "duration": 395,
    "start_time": "2023-02-21T22:02:04.773Z"
   },
   {
    "duration": 646,
    "start_time": "2023-02-21T22:02:05.237Z"
   },
   {
    "duration": 345,
    "start_time": "2023-02-21T22:02:05.885Z"
   },
   {
    "duration": 24,
    "start_time": "2023-02-21T22:02:06.232Z"
   },
   {
    "duration": 20,
    "start_time": "2023-02-21T22:02:06.301Z"
   },
   {
    "duration": 5,
    "start_time": "2023-02-21T22:02:06.542Z"
   },
   {
    "duration": 247,
    "start_time": "2023-02-21T22:02:06.770Z"
   },
   {
    "duration": 31,
    "start_time": "2023-02-21T22:02:07.019Z"
   },
   {
    "duration": 202,
    "start_time": "2023-02-21T22:02:07.214Z"
   },
   {
    "duration": 19,
    "start_time": "2023-02-21T22:02:07.478Z"
   },
   {
    "duration": 215,
    "start_time": "2023-02-21T22:02:07.846Z"
   },
   {
    "duration": 257,
    "start_time": "2023-02-21T22:02:08.152Z"
   },
   {
    "duration": 11,
    "start_time": "2023-02-21T22:03:01.763Z"
   },
   {
    "duration": 337,
    "start_time": "2023-02-21T22:04:07.293Z"
   },
   {
    "duration": 329,
    "start_time": "2023-02-21T22:04:28.330Z"
   },
   {
    "duration": 343,
    "start_time": "2023-02-21T22:04:34.578Z"
   },
   {
    "duration": 6,
    "start_time": "2023-02-21T22:05:40.885Z"
   },
   {
    "duration": 228,
    "start_time": "2023-02-21T22:05:41.237Z"
   },
   {
    "duration": 18,
    "start_time": "2023-02-21T22:05:45.075Z"
   },
   {
    "duration": 179,
    "start_time": "2023-02-21T22:05:45.747Z"
   },
   {
    "duration": 18,
    "start_time": "2023-02-21T22:05:46.125Z"
   },
   {
    "duration": 201,
    "start_time": "2023-02-21T22:05:46.508Z"
   },
   {
    "duration": 255,
    "start_time": "2023-02-21T22:05:46.780Z"
   },
   {
    "duration": 4,
    "start_time": "2023-02-21T22:06:47.547Z"
   },
   {
    "duration": 343,
    "start_time": "2023-02-21T22:06:48.018Z"
   },
   {
    "duration": 343,
    "start_time": "2023-02-21T22:07:12.519Z"
   },
   {
    "duration": 543,
    "start_time": "2023-02-21T22:07:13.462Z"
   },
   {
    "duration": 340,
    "start_time": "2023-02-21T22:07:14.008Z"
   },
   {
    "duration": 19,
    "start_time": "2023-02-21T22:07:14.784Z"
   },
   {
    "duration": 16,
    "start_time": "2023-02-21T22:07:15.566Z"
   },
   {
    "duration": 5,
    "start_time": "2023-02-21T22:07:15.998Z"
   },
   {
    "duration": 315,
    "start_time": "2023-02-21T22:07:16.408Z"
   },
   {
    "duration": 21,
    "start_time": "2023-02-21T22:07:17.831Z"
   },
   {
    "duration": 176,
    "start_time": "2023-02-21T22:07:18.318Z"
   },
   {
    "duration": 18,
    "start_time": "2023-02-21T22:07:18.750Z"
   },
   {
    "duration": 190,
    "start_time": "2023-02-21T22:07:19.110Z"
   },
   {
    "duration": 267,
    "start_time": "2023-02-21T22:07:19.535Z"
   },
   {
    "duration": 265,
    "start_time": "2023-02-21T22:07:30.383Z"
   },
   {
    "duration": 324,
    "start_time": "2023-02-21T22:07:46.220Z"
   },
   {
    "duration": 267,
    "start_time": "2023-02-21T22:07:53.916Z"
   },
   {
    "duration": 241,
    "start_time": "2023-02-21T22:07:58.388Z"
   },
   {
    "duration": 267,
    "start_time": "2023-02-21T22:08:20.273Z"
   },
   {
    "duration": 241,
    "start_time": "2023-02-21T22:08:39.961Z"
   },
   {
    "duration": 257,
    "start_time": "2023-02-21T22:08:45.490Z"
   },
   {
    "duration": 364,
    "start_time": "2023-02-21T22:08:51.318Z"
   },
   {
    "duration": 257,
    "start_time": "2023-02-21T22:08:56.501Z"
   },
   {
    "duration": 330,
    "start_time": "2023-02-21T22:09:16.391Z"
   },
   {
    "duration": 284,
    "start_time": "2023-02-21T22:09:21.335Z"
   },
   {
    "duration": 6,
    "start_time": "2023-02-21T22:11:22.081Z"
   },
   {
    "duration": 8,
    "start_time": "2023-02-21T22:11:26.339Z"
   },
   {
    "duration": 7,
    "start_time": "2023-02-21T22:13:32.229Z"
   },
   {
    "duration": 7016,
    "start_time": "2023-02-21T22:13:57.518Z"
   },
   {
    "duration": 265,
    "start_time": "2023-02-21T22:14:21.856Z"
   },
   {
    "duration": 4,
    "start_time": "2023-02-21T22:15:19.843Z"
   },
   {
    "duration": 306,
    "start_time": "2023-02-21T22:15:20.184Z"
   },
   {
    "duration": 318,
    "start_time": "2023-02-21T22:15:38.369Z"
   },
   {
    "duration": 480,
    "start_time": "2023-02-21T22:15:38.705Z"
   },
   {
    "duration": 345,
    "start_time": "2023-02-21T22:15:39.187Z"
   },
   {
    "duration": 34,
    "start_time": "2023-02-21T22:15:45.695Z"
   },
   {
    "duration": 4,
    "start_time": "2023-02-21T22:16:13.975Z"
   },
   {
    "duration": 302,
    "start_time": "2023-02-21T22:16:14.299Z"
   },
   {
    "duration": 321,
    "start_time": "2023-02-21T22:16:15.503Z"
   },
   {
    "duration": 487,
    "start_time": "2023-02-21T22:16:15.826Z"
   },
   {
    "duration": 400,
    "start_time": "2023-02-21T22:16:16.315Z"
   },
   {
    "duration": 19,
    "start_time": "2023-02-21T22:16:16.717Z"
   },
   {
    "duration": 16,
    "start_time": "2023-02-21T22:16:16.748Z"
   },
   {
    "duration": 5,
    "start_time": "2023-02-21T22:16:16.766Z"
   },
   {
    "duration": 244,
    "start_time": "2023-02-21T22:16:16.902Z"
   },
   {
    "duration": 18,
    "start_time": "2023-02-21T22:16:17.148Z"
   },
   {
    "duration": 187,
    "start_time": "2023-02-21T22:16:17.358Z"
   },
   {
    "duration": 19,
    "start_time": "2023-02-21T22:16:17.590Z"
   },
   {
    "duration": 191,
    "start_time": "2023-02-21T22:16:17.774Z"
   },
   {
    "duration": 257,
    "start_time": "2023-02-21T22:16:17.985Z"
   },
   {
    "duration": 10,
    "start_time": "2023-02-21T22:16:18.248Z"
   },
   {
    "duration": 259,
    "start_time": "2023-02-21T22:16:28.772Z"
   },
   {
    "duration": 264,
    "start_time": "2023-02-21T22:16:36.439Z"
   },
   {
    "duration": 246,
    "start_time": "2023-02-21T22:16:42.595Z"
   },
   {
    "duration": 234,
    "start_time": "2023-02-21T22:16:47.165Z"
   },
   {
    "duration": 345,
    "start_time": "2023-02-21T22:23:01.366Z"
   },
   {
    "duration": 18,
    "start_time": "2023-02-21T22:24:14.623Z"
   },
   {
    "duration": 17,
    "start_time": "2023-02-21T22:24:26.512Z"
   },
   {
    "duration": 37,
    "start_time": "2023-02-21T22:25:06.765Z"
   },
   {
    "duration": 25,
    "start_time": "2023-02-21T22:25:49.316Z"
   },
   {
    "duration": 33,
    "start_time": "2023-02-21T22:26:16.414Z"
   },
   {
    "duration": 470,
    "start_time": "2023-02-21T22:26:16.469Z"
   },
   {
    "duration": 37,
    "start_time": "2023-02-21T22:26:21.040Z"
   },
   {
    "duration": 12,
    "start_time": "2023-02-21T22:27:06.401Z"
   },
   {
    "duration": 9,
    "start_time": "2023-02-21T22:27:24.482Z"
   },
   {
    "duration": 16,
    "start_time": "2023-02-21T22:27:39.417Z"
   },
   {
    "duration": 455,
    "start_time": "2023-02-21T22:28:01.120Z"
   },
   {
    "duration": 896,
    "start_time": "2023-02-21T22:28:01.577Z"
   },
   {
    "duration": 21,
    "start_time": "2023-02-21T22:28:02.474Z"
   },
   {
    "duration": 20,
    "start_time": "2023-02-21T22:28:02.499Z"
   },
   {
    "duration": 171,
    "start_time": "2023-02-21T22:28:02.521Z"
   },
   {
    "duration": 303,
    "start_time": "2023-02-21T22:28:02.694Z"
   },
   {
    "duration": 102,
    "start_time": "2023-02-21T22:28:02.998Z"
   },
   {
    "duration": 1674,
    "start_time": "2023-02-21T22:28:03.102Z"
   },
   {
    "duration": 6,
    "start_time": "2023-02-21T22:28:04.778Z"
   },
   {
    "duration": 774,
    "start_time": "2023-02-21T22:28:04.787Z"
   },
   {
    "duration": 359,
    "start_time": "2023-02-21T22:28:05.563Z"
   },
   {
    "duration": 480,
    "start_time": "2023-02-21T22:28:05.924Z"
   },
   {
    "duration": 606,
    "start_time": "2023-02-21T22:28:06.406Z"
   },
   {
    "duration": 348,
    "start_time": "2023-02-21T22:28:07.014Z"
   },
   {
    "duration": 22,
    "start_time": "2023-02-21T22:28:07.364Z"
   },
   {
    "duration": 22,
    "start_time": "2023-02-21T22:28:07.389Z"
   },
   {
    "duration": 8,
    "start_time": "2023-02-21T22:28:07.413Z"
   },
   {
    "duration": 262,
    "start_time": "2023-02-21T22:28:07.424Z"
   },
   {
    "duration": 21,
    "start_time": "2023-02-21T22:28:07.688Z"
   },
   {
    "duration": 208,
    "start_time": "2023-02-21T22:28:07.711Z"
   },
   {
    "duration": 19,
    "start_time": "2023-02-21T22:28:07.920Z"
   },
   {
    "duration": 186,
    "start_time": "2023-02-21T22:28:07.949Z"
   },
   {
    "duration": 266,
    "start_time": "2023-02-21T22:28:08.138Z"
   },
   {
    "duration": 13,
    "start_time": "2023-02-21T22:28:08.406Z"
   },
   {
    "duration": 27,
    "start_time": "2023-02-21T22:28:08.421Z"
   },
   {
    "duration": 15,
    "start_time": "2023-02-21T22:28:08.450Z"
   },
   {
    "duration": 444,
    "start_time": "2023-02-21T22:28:09.687Z"
   },
   {
    "duration": 430,
    "start_time": "2023-02-21T22:28:23.773Z"
   },
   {
    "duration": 880,
    "start_time": "2023-02-21T22:28:24.205Z"
   },
   {
    "duration": 24,
    "start_time": "2023-02-21T22:28:25.089Z"
   },
   {
    "duration": 15,
    "start_time": "2023-02-21T22:28:25.115Z"
   },
   {
    "duration": 156,
    "start_time": "2023-02-21T22:28:25.148Z"
   },
   {
    "duration": 318,
    "start_time": "2023-02-21T22:28:25.305Z"
   },
   {
    "duration": 102,
    "start_time": "2023-02-21T22:28:25.624Z"
   },
   {
    "duration": 1614,
    "start_time": "2023-02-21T22:28:25.728Z"
   },
   {
    "duration": 9,
    "start_time": "2023-02-21T22:28:27.349Z"
   },
   {
    "duration": 799,
    "start_time": "2023-02-21T22:28:27.360Z"
   },
   {
    "duration": 375,
    "start_time": "2023-02-21T22:28:28.161Z"
   },
   {
    "duration": 440,
    "start_time": "2023-02-21T22:28:28.538Z"
   },
   {
    "duration": 621,
    "start_time": "2023-02-21T22:28:28.979Z"
   },
   {
    "duration": 368,
    "start_time": "2023-02-21T22:28:29.602Z"
   },
   {
    "duration": 22,
    "start_time": "2023-02-21T22:28:29.971Z"
   },
   {
    "duration": 23,
    "start_time": "2023-02-21T22:28:29.995Z"
   },
   {
    "duration": 12,
    "start_time": "2023-02-21T22:28:30.021Z"
   },
   {
    "duration": 248,
    "start_time": "2023-02-21T22:28:30.049Z"
   },
   {
    "duration": 20,
    "start_time": "2023-02-21T22:28:30.298Z"
   },
   {
    "duration": 373,
    "start_time": "2023-02-21T22:28:30.320Z"
   },
   {
    "duration": 70,
    "start_time": "2023-02-21T22:28:30.695Z"
   },
   {
    "duration": 206,
    "start_time": "2023-02-21T22:28:30.767Z"
   },
   {
    "duration": 259,
    "start_time": "2023-02-21T22:28:30.976Z"
   },
   {
    "duration": 12,
    "start_time": "2023-02-21T22:28:38.359Z"
   },
   {
    "duration": 433,
    "start_time": "2023-02-21T22:28:49.408Z"
   },
   {
    "duration": 818,
    "start_time": "2023-02-21T22:28:49.843Z"
   },
   {
    "duration": 20,
    "start_time": "2023-02-21T22:28:50.662Z"
   },
   {
    "duration": 13,
    "start_time": "2023-02-21T22:28:50.684Z"
   },
   {
    "duration": 157,
    "start_time": "2023-02-21T22:28:50.698Z"
   },
   {
    "duration": 291,
    "start_time": "2023-02-21T22:28:50.857Z"
   },
   {
    "duration": 101,
    "start_time": "2023-02-21T22:28:51.150Z"
   },
   {
    "duration": 1516,
    "start_time": "2023-02-21T22:28:51.253Z"
   },
   {
    "duration": 6,
    "start_time": "2023-02-21T22:28:52.771Z"
   },
   {
    "duration": 766,
    "start_time": "2023-02-21T22:28:52.779Z"
   },
   {
    "duration": 357,
    "start_time": "2023-02-21T22:28:53.546Z"
   },
   {
    "duration": 502,
    "start_time": "2023-02-21T22:28:53.905Z"
   },
   {
    "duration": 547,
    "start_time": "2023-02-21T22:28:54.409Z"
   },
   {
    "duration": 349,
    "start_time": "2023-02-21T22:28:54.958Z"
   },
   {
    "duration": 21,
    "start_time": "2023-02-21T22:28:55.308Z"
   },
   {
    "duration": 21,
    "start_time": "2023-02-21T22:29:00.740Z"
   },
   {
    "duration": 8,
    "start_time": "2023-02-21T22:29:01.149Z"
   },
   {
    "duration": 251,
    "start_time": "2023-02-21T22:29:02.355Z"
   },
   {
    "duration": 33,
    "start_time": "2023-02-21T22:29:02.812Z"
   },
   {
    "duration": 229,
    "start_time": "2023-02-21T22:29:03.972Z"
   },
   {
    "duration": 21,
    "start_time": "2023-02-21T22:29:08.236Z"
   },
   {
    "duration": 174,
    "start_time": "2023-02-21T22:29:10.212Z"
   },
   {
    "duration": 257,
    "start_time": "2023-02-21T22:29:13.820Z"
   },
   {
    "duration": 11,
    "start_time": "2023-02-21T22:29:18.124Z"
   },
   {
    "duration": 14,
    "start_time": "2023-02-21T22:29:21.460Z"
   },
   {
    "duration": 26,
    "start_time": "2023-02-21T22:29:53.026Z"
   },
   {
    "duration": 358,
    "start_time": "2023-02-21T22:30:29.445Z"
   },
   {
    "duration": 423,
    "start_time": "2023-02-21T22:31:08.507Z"
   },
   {
    "duration": 31,
    "start_time": "2023-02-21T22:31:27.216Z"
   },
   {
    "duration": 32,
    "start_time": "2023-02-21T22:33:18.794Z"
   },
   {
    "duration": 24,
    "start_time": "2023-02-21T22:33:37.000Z"
   },
   {
    "duration": 25,
    "start_time": "2023-02-21T22:33:44.080Z"
   },
   {
    "duration": 33,
    "start_time": "2023-02-21T22:34:03.452Z"
   },
   {
    "duration": 26,
    "start_time": "2023-02-21T22:34:42.826Z"
   },
   {
    "duration": 12,
    "start_time": "2023-02-21T22:35:33.071Z"
   },
   {
    "duration": 776,
    "start_time": "2023-02-21T22:35:54.236Z"
   },
   {
    "duration": 27,
    "start_time": "2023-02-21T22:36:05.737Z"
   },
   {
    "duration": 64,
    "start_time": "2023-02-21T22:38:05.714Z"
   },
   {
    "duration": 8,
    "start_time": "2023-02-21T22:38:25.743Z"
   },
   {
    "duration": 11,
    "start_time": "2023-02-21T22:38:26.207Z"
   },
   {
    "duration": 14,
    "start_time": "2023-02-21T22:38:32.727Z"
   },
   {
    "duration": 15,
    "start_time": "2023-02-21T22:40:04.817Z"
   },
   {
    "duration": 8,
    "start_time": "2023-02-21T22:42:25.933Z"
   },
   {
    "duration": 14,
    "start_time": "2023-02-21T22:42:27.064Z"
   },
   {
    "duration": 52,
    "start_time": "2023-02-21T22:42:54.938Z"
   },
   {
    "duration": 402,
    "start_time": "2023-02-21T22:43:07.718Z"
   },
   {
    "duration": 850,
    "start_time": "2023-02-21T22:43:08.122Z"
   },
   {
    "duration": 19,
    "start_time": "2023-02-21T22:43:08.976Z"
   },
   {
    "duration": 13,
    "start_time": "2023-02-21T22:43:08.997Z"
   },
   {
    "duration": 159,
    "start_time": "2023-02-21T22:43:09.012Z"
   },
   {
    "duration": 303,
    "start_time": "2023-02-21T22:43:09.173Z"
   },
   {
    "duration": 94,
    "start_time": "2023-02-21T22:43:09.477Z"
   },
   {
    "duration": 1466,
    "start_time": "2023-02-21T22:43:09.734Z"
   },
   {
    "duration": 6,
    "start_time": "2023-02-21T22:43:11.202Z"
   },
   {
    "duration": 735,
    "start_time": "2023-02-21T22:43:11.209Z"
   },
   {
    "duration": 327,
    "start_time": "2023-02-21T22:43:11.946Z"
   },
   {
    "duration": 419,
    "start_time": "2023-02-21T22:43:12.275Z"
   },
   {
    "duration": 577,
    "start_time": "2023-02-21T22:43:12.696Z"
   },
   {
    "duration": 355,
    "start_time": "2023-02-21T22:43:13.274Z"
   },
   {
    "duration": 23,
    "start_time": "2023-02-21T22:43:13.631Z"
   },
   {
    "duration": 22,
    "start_time": "2023-02-21T22:43:13.656Z"
   },
   {
    "duration": 6,
    "start_time": "2023-02-21T22:43:13.680Z"
   },
   {
    "duration": 257,
    "start_time": "2023-02-21T22:43:13.688Z"
   },
   {
    "duration": 20,
    "start_time": "2023-02-21T22:43:13.949Z"
   },
   {
    "duration": 207,
    "start_time": "2023-02-21T22:43:13.971Z"
   },
   {
    "duration": 18,
    "start_time": "2023-02-21T22:43:14.180Z"
   },
   {
    "duration": 214,
    "start_time": "2023-02-21T22:43:14.199Z"
   },
   {
    "duration": 275,
    "start_time": "2023-02-21T22:43:14.415Z"
   },
   {
    "duration": 11,
    "start_time": "2023-02-21T22:43:14.692Z"
   },
   {
    "duration": 72,
    "start_time": "2023-02-21T22:43:15.038Z"
   },
   {
    "duration": 48,
    "start_time": "2023-02-21T22:43:30.997Z"
   },
   {
    "duration": 12,
    "start_time": "2023-02-21T22:43:52.844Z"
   },
   {
    "duration": 15,
    "start_time": "2023-02-21T22:44:02.962Z"
   },
   {
    "duration": 14,
    "start_time": "2023-02-21T22:44:22.849Z"
   },
   {
    "duration": 252,
    "start_time": "2023-02-21T22:47:22.904Z"
   },
   {
    "duration": 355,
    "start_time": "2023-02-21T22:47:34.290Z"
   },
   {
    "duration": 835,
    "start_time": "2023-02-21T22:47:34.648Z"
   },
   {
    "duration": 19,
    "start_time": "2023-02-21T22:47:35.485Z"
   },
   {
    "duration": 14,
    "start_time": "2023-02-21T22:47:35.506Z"
   },
   {
    "duration": 156,
    "start_time": "2023-02-21T22:47:35.522Z"
   },
   {
    "duration": 288,
    "start_time": "2023-02-21T22:47:35.680Z"
   },
   {
    "duration": 97,
    "start_time": "2023-02-21T22:47:35.969Z"
   },
   {
    "duration": 1573,
    "start_time": "2023-02-21T22:47:36.069Z"
   },
   {
    "duration": 7,
    "start_time": "2023-02-21T22:47:37.648Z"
   },
   {
    "duration": 687,
    "start_time": "2023-02-21T22:47:37.656Z"
   },
   {
    "duration": 329,
    "start_time": "2023-02-21T22:47:38.345Z"
   },
   {
    "duration": 421,
    "start_time": "2023-02-21T22:47:38.676Z"
   },
   {
    "duration": 579,
    "start_time": "2023-02-21T22:47:39.099Z"
   },
   {
    "duration": 338,
    "start_time": "2023-02-21T22:47:39.680Z"
   },
   {
    "duration": 29,
    "start_time": "2023-02-21T22:47:40.020Z"
   },
   {
    "duration": 20,
    "start_time": "2023-02-21T22:47:40.051Z"
   },
   {
    "duration": 5,
    "start_time": "2023-02-21T22:47:40.073Z"
   },
   {
    "duration": 251,
    "start_time": "2023-02-21T22:47:40.079Z"
   },
   {
    "duration": 26,
    "start_time": "2023-02-21T22:47:40.333Z"
   },
   {
    "duration": 193,
    "start_time": "2023-02-21T22:47:40.360Z"
   },
   {
    "duration": 18,
    "start_time": "2023-02-21T22:47:40.555Z"
   },
   {
    "duration": 190,
    "start_time": "2023-02-21T22:47:40.575Z"
   },
   {
    "duration": 262,
    "start_time": "2023-02-21T22:47:40.767Z"
   },
   {
    "duration": 19,
    "start_time": "2023-02-21T22:47:41.031Z"
   },
   {
    "duration": 64,
    "start_time": "2023-02-21T22:47:41.052Z"
   },
   {
    "duration": 38,
    "start_time": "2023-02-21T22:47:41.118Z"
   },
   {
    "duration": 12,
    "start_time": "2023-02-21T22:47:41.158Z"
   },
   {
    "duration": 388,
    "start_time": "2023-02-21T22:47:41.172Z"
   },
   {
    "duration": 351,
    "start_time": "2023-02-21T22:48:06.304Z"
   },
   {
    "duration": 6,
    "start_time": "2023-02-21T22:58:26.159Z"
   },
   {
    "duration": 10,
    "start_time": "2023-02-21T22:58:33.028Z"
   },
   {
    "duration": 3154,
    "start_time": "2023-02-21T22:59:15.688Z"
   },
   {
    "duration": 237,
    "start_time": "2023-02-21T22:59:18.844Z"
   },
   {
    "duration": 98,
    "start_time": "2023-02-21T23:09:34.851Z"
   },
   {
    "duration": 6011,
    "start_time": "2023-02-21T23:09:55.623Z"
   },
   {
    "duration": 82,
    "start_time": "2023-02-21T23:10:18.142Z"
   },
   {
    "duration": 5601,
    "start_time": "2023-02-21T23:10:18.566Z"
   },
   {
    "duration": 169,
    "start_time": "2023-02-21T23:10:42.744Z"
   },
   {
    "duration": 715,
    "start_time": "2023-02-21T23:10:46.571Z"
   },
   {
    "duration": 183,
    "start_time": "2023-02-21T23:11:14.812Z"
   },
   {
    "duration": 1088,
    "start_time": "2023-02-21T23:11:15.601Z"
   },
   {
    "duration": 373,
    "start_time": "2023-02-21T23:11:35.568Z"
   },
   {
    "duration": 18,
    "start_time": "2023-02-21T23:12:29.607Z"
   },
   {
    "duration": 260,
    "start_time": "2023-02-21T23:13:07.938Z"
   },
   {
    "duration": 283,
    "start_time": "2023-02-21T23:13:34.120Z"
   },
   {
    "duration": 235,
    "start_time": "2023-02-21T23:13:49.847Z"
   },
   {
    "duration": 226,
    "start_time": "2023-02-21T23:13:55.417Z"
   },
   {
    "duration": 261,
    "start_time": "2023-02-21T23:14:02.019Z"
   },
   {
    "duration": 233,
    "start_time": "2023-02-21T23:14:44.025Z"
   },
   {
    "duration": 231,
    "start_time": "2023-02-21T23:15:02.666Z"
   },
   {
    "duration": 252,
    "start_time": "2023-02-21T23:15:23.078Z"
   },
   {
    "duration": 233,
    "start_time": "2023-02-21T23:15:30.361Z"
   },
   {
    "duration": 260,
    "start_time": "2023-02-21T23:15:37.183Z"
   },
   {
    "duration": 287,
    "start_time": "2023-02-21T23:15:43.864Z"
   },
   {
    "duration": 237,
    "start_time": "2023-02-21T23:15:48.671Z"
   },
   {
    "duration": 264,
    "start_time": "2023-02-21T23:16:05.622Z"
   },
   {
    "duration": 245,
    "start_time": "2023-02-21T23:16:09.636Z"
   },
   {
    "duration": 551,
    "start_time": "2023-02-21T23:16:15.331Z"
   },
   {
    "duration": 232,
    "start_time": "2023-02-21T23:16:21.685Z"
   },
   {
    "duration": 326,
    "start_time": "2023-02-21T23:16:26.147Z"
   },
   {
    "duration": 8,
    "start_time": "2023-02-21T23:16:42.256Z"
   },
   {
    "duration": 289,
    "start_time": "2023-02-21T23:16:48.880Z"
   },
   {
    "duration": 247,
    "start_time": "2023-02-21T23:16:57.888Z"
   },
   {
    "duration": 338,
    "start_time": "2023-02-21T23:17:43.401Z"
   },
   {
    "duration": 19,
    "start_time": "2023-02-21T23:18:02.331Z"
   },
   {
    "duration": 355,
    "start_time": "2023-02-21T23:18:41.206Z"
   },
   {
    "duration": 800,
    "start_time": "2023-02-21T23:18:41.563Z"
   },
   {
    "duration": 18,
    "start_time": "2023-02-21T23:18:42.365Z"
   },
   {
    "duration": 13,
    "start_time": "2023-02-21T23:18:42.384Z"
   },
   {
    "duration": 211,
    "start_time": "2023-02-21T23:18:42.399Z"
   },
   {
    "duration": 280,
    "start_time": "2023-02-21T23:18:42.611Z"
   },
   {
    "duration": 136,
    "start_time": "2023-02-21T23:18:42.893Z"
   },
   {
    "duration": 1530,
    "start_time": "2023-02-21T23:18:43.030Z"
   },
   {
    "duration": 7,
    "start_time": "2023-02-21T23:18:44.562Z"
   },
   {
    "duration": 738,
    "start_time": "2023-02-21T23:18:44.570Z"
   },
   {
    "duration": 359,
    "start_time": "2023-02-21T23:18:45.310Z"
   },
   {
    "duration": 423,
    "start_time": "2023-02-21T23:18:45.671Z"
   },
   {
    "duration": 688,
    "start_time": "2023-02-21T23:18:46.095Z"
   },
   {
    "duration": 334,
    "start_time": "2023-02-21T23:18:46.786Z"
   },
   {
    "duration": 20,
    "start_time": "2023-02-21T23:18:47.122Z"
   },
   {
    "duration": 27,
    "start_time": "2023-02-21T23:18:47.148Z"
   },
   {
    "duration": 5,
    "start_time": "2023-02-21T23:18:47.176Z"
   },
   {
    "duration": 246,
    "start_time": "2023-02-21T23:18:47.183Z"
   },
   {
    "duration": 23,
    "start_time": "2023-02-21T23:18:47.431Z"
   },
   {
    "duration": 194,
    "start_time": "2023-02-21T23:18:47.456Z"
   },
   {
    "duration": 26,
    "start_time": "2023-02-21T23:18:47.652Z"
   },
   {
    "duration": 205,
    "start_time": "2023-02-21T23:18:47.680Z"
   },
   {
    "duration": 272,
    "start_time": "2023-02-21T23:18:47.886Z"
   },
   {
    "duration": 3157,
    "start_time": "2023-02-21T23:18:48.160Z"
   },
   {
    "duration": 659,
    "start_time": "2023-02-21T23:18:51.318Z"
   },
   {
    "duration": 260,
    "start_time": "2023-02-21T23:18:51.979Z"
   },
   {
    "duration": 357,
    "start_time": "2023-02-21T23:18:52.241Z"
   },
   {
    "duration": 18,
    "start_time": "2023-02-21T23:18:52.600Z"
   },
   {
    "duration": 240,
    "start_time": "2023-02-21T23:19:25.234Z"
   },
   {
    "duration": 434,
    "start_time": "2023-02-21T23:19:30.221Z"
   },
   {
    "duration": 821,
    "start_time": "2023-02-21T23:19:30.657Z"
   },
   {
    "duration": 19,
    "start_time": "2023-02-21T23:19:31.480Z"
   },
   {
    "duration": 36,
    "start_time": "2023-02-21T23:19:31.500Z"
   },
   {
    "duration": 133,
    "start_time": "2023-02-21T23:19:31.539Z"
   },
   {
    "duration": 271,
    "start_time": "2023-02-21T23:19:31.673Z"
   },
   {
    "duration": 108,
    "start_time": "2023-02-21T23:19:31.946Z"
   },
   {
    "duration": 1426,
    "start_time": "2023-02-21T23:19:32.056Z"
   },
   {
    "duration": 8,
    "start_time": "2023-02-21T23:19:33.483Z"
   },
   {
    "duration": 691,
    "start_time": "2023-02-21T23:19:33.493Z"
   },
   {
    "duration": 323,
    "start_time": "2023-02-21T23:19:34.185Z"
   },
   {
    "duration": 398,
    "start_time": "2023-02-21T23:19:34.510Z"
   },
   {
    "duration": 647,
    "start_time": "2023-02-21T23:19:34.909Z"
   },
   {
    "duration": 374,
    "start_time": "2023-02-21T23:19:35.560Z"
   },
   {
    "duration": 28,
    "start_time": "2023-02-21T23:19:35.936Z"
   },
   {
    "duration": 19,
    "start_time": "2023-02-21T23:19:35.966Z"
   },
   {
    "duration": 13,
    "start_time": "2023-02-21T23:19:35.987Z"
   },
   {
    "duration": 251,
    "start_time": "2023-02-21T23:19:36.001Z"
   },
   {
    "duration": 26,
    "start_time": "2023-02-21T23:19:36.254Z"
   },
   {
    "duration": 275,
    "start_time": "2023-02-21T23:19:36.282Z"
   },
   {
    "duration": 21,
    "start_time": "2023-02-21T23:19:36.560Z"
   },
   {
    "duration": 189,
    "start_time": "2023-02-21T23:19:36.582Z"
   },
   {
    "duration": 267,
    "start_time": "2023-02-21T23:19:36.772Z"
   },
   {
    "duration": 3193,
    "start_time": "2023-02-21T23:19:37.041Z"
   },
   {
    "duration": 680,
    "start_time": "2023-02-21T23:19:40.235Z"
   },
   {
    "duration": 282,
    "start_time": "2023-02-21T23:19:40.917Z"
   },
   {
    "duration": 380,
    "start_time": "2023-02-21T23:19:41.200Z"
   },
   {
    "duration": 13,
    "start_time": "2023-02-21T23:19:41.581Z"
   },
   {
    "duration": 410,
    "start_time": "2023-02-21T23:19:58.757Z"
   },
   {
    "duration": 827,
    "start_time": "2023-02-21T23:19:59.169Z"
   },
   {
    "duration": 21,
    "start_time": "2023-02-21T23:19:59.998Z"
   },
   {
    "duration": 27,
    "start_time": "2023-02-21T23:20:00.021Z"
   },
   {
    "duration": 148,
    "start_time": "2023-02-21T23:20:00.050Z"
   },
   {
    "duration": 299,
    "start_time": "2023-02-21T23:20:00.200Z"
   },
   {
    "duration": 104,
    "start_time": "2023-02-21T23:20:00.501Z"
   },
   {
    "duration": 1587,
    "start_time": "2023-02-21T23:20:00.606Z"
   },
   {
    "duration": 7,
    "start_time": "2023-02-21T23:20:02.194Z"
   },
   {
    "duration": 733,
    "start_time": "2023-02-21T23:20:02.204Z"
   },
   {
    "duration": 348,
    "start_time": "2023-02-21T23:20:02.938Z"
   },
   {
    "duration": 442,
    "start_time": "2023-02-21T23:20:03.287Z"
   },
   {
    "duration": 655,
    "start_time": "2023-02-21T23:20:03.731Z"
   },
   {
    "duration": 324,
    "start_time": "2023-02-21T23:20:04.388Z"
   },
   {
    "duration": 19,
    "start_time": "2023-02-21T23:20:04.714Z"
   },
   {
    "duration": 29,
    "start_time": "2023-02-21T23:20:04.734Z"
   },
   {
    "duration": 5,
    "start_time": "2023-02-21T23:20:04.764Z"
   },
   {
    "duration": 258,
    "start_time": "2023-02-21T23:20:04.771Z"
   },
   {
    "duration": 25,
    "start_time": "2023-02-21T23:20:05.031Z"
   },
   {
    "duration": 204,
    "start_time": "2023-02-21T23:20:05.057Z"
   },
   {
    "duration": 19,
    "start_time": "2023-02-21T23:20:05.262Z"
   },
   {
    "duration": 198,
    "start_time": "2023-02-21T23:20:05.283Z"
   },
   {
    "duration": 265,
    "start_time": "2023-02-21T23:20:05.483Z"
   },
   {
    "duration": 3212,
    "start_time": "2023-02-21T23:20:05.750Z"
   },
   {
    "duration": 662,
    "start_time": "2023-02-21T23:20:08.964Z"
   },
   {
    "duration": 269,
    "start_time": "2023-02-21T23:20:09.628Z"
   },
   {
    "duration": 366,
    "start_time": "2023-02-21T23:20:09.898Z"
   },
   {
    "duration": 18,
    "start_time": "2023-02-21T23:20:10.267Z"
   },
   {
    "duration": 6,
    "start_time": "2023-02-21T23:21:34.232Z"
   },
   {
    "duration": 404,
    "start_time": "2023-02-21T23:21:45.621Z"
   },
   {
    "duration": 857,
    "start_time": "2023-02-21T23:21:46.026Z"
   },
   {
    "duration": 18,
    "start_time": "2023-02-21T23:21:46.884Z"
   },
   {
    "duration": 16,
    "start_time": "2023-02-21T23:21:46.904Z"
   },
   {
    "duration": 158,
    "start_time": "2023-02-21T23:21:46.922Z"
   },
   {
    "duration": 297,
    "start_time": "2023-02-21T23:21:47.081Z"
   },
   {
    "duration": 113,
    "start_time": "2023-02-21T23:21:47.380Z"
   },
   {
    "duration": 1536,
    "start_time": "2023-02-21T23:21:47.494Z"
   },
   {
    "duration": 7,
    "start_time": "2023-02-21T23:21:49.032Z"
   },
   {
    "duration": 707,
    "start_time": "2023-02-21T23:21:49.040Z"
   },
   {
    "duration": 359,
    "start_time": "2023-02-21T23:21:49.750Z"
   },
   {
    "duration": 463,
    "start_time": "2023-02-21T23:21:50.111Z"
   },
   {
    "duration": 672,
    "start_time": "2023-02-21T23:21:50.576Z"
   },
   {
    "duration": 333,
    "start_time": "2023-02-21T23:21:51.251Z"
   },
   {
    "duration": 21,
    "start_time": "2023-02-21T23:21:51.586Z"
   },
   {
    "duration": 24,
    "start_time": "2023-02-21T23:21:51.609Z"
   },
   {
    "duration": 14,
    "start_time": "2023-02-21T23:21:51.635Z"
   },
   {
    "duration": 245,
    "start_time": "2023-02-21T23:21:51.650Z"
   },
   {
    "duration": 19,
    "start_time": "2023-02-21T23:21:51.897Z"
   },
   {
    "duration": 200,
    "start_time": "2023-02-21T23:21:51.917Z"
   },
   {
    "duration": 32,
    "start_time": "2023-02-21T23:21:52.120Z"
   },
   {
    "duration": 175,
    "start_time": "2023-02-21T23:21:52.153Z"
   },
   {
    "duration": 247,
    "start_time": "2023-02-21T23:21:52.330Z"
   },
   {
    "duration": 174,
    "start_time": "2023-02-21T23:21:52.579Z"
   },
   {
    "duration": 0,
    "start_time": "2023-02-21T23:21:52.755Z"
   },
   {
    "duration": 0,
    "start_time": "2023-02-21T23:21:52.757Z"
   },
   {
    "duration": 0,
    "start_time": "2023-02-21T23:21:52.758Z"
   },
   {
    "duration": 52,
    "start_time": "2023-02-21T23:22:08.800Z"
   },
   {
    "duration": 734,
    "start_time": "2023-02-21T23:22:09.560Z"
   },
   {
    "duration": 269,
    "start_time": "2023-02-21T23:22:10.296Z"
   },
   {
    "duration": 13,
    "start_time": "2023-02-21T23:22:10.865Z"
   },
   {
    "duration": 282,
    "start_time": "2023-02-21T23:35:45.369Z"
   },
   {
    "duration": 26,
    "start_time": "2023-02-21T23:36:29.171Z"
   },
   {
    "duration": 14,
    "start_time": "2023-02-21T23:36:35.079Z"
   },
   {
    "duration": 275,
    "start_time": "2023-02-21T23:36:49.197Z"
   },
   {
    "duration": 15,
    "start_time": "2023-02-21T23:37:16.487Z"
   },
   {
    "duration": 481,
    "start_time": "2023-02-21T23:37:41.175Z"
   },
   {
    "duration": 14,
    "start_time": "2023-02-21T23:38:22.707Z"
   },
   {
    "duration": 183,
    "start_time": "2023-02-21T23:38:48.596Z"
   },
   {
    "duration": 15,
    "start_time": "2023-02-21T23:39:09.880Z"
   },
   {
    "duration": 759,
    "start_time": "2023-02-21T23:40:40.026Z"
   },
   {
    "duration": 1203,
    "start_time": "2023-02-21T23:40:54.472Z"
   },
   {
    "duration": 1393,
    "start_time": "2023-02-21T23:41:12.087Z"
   },
   {
    "duration": 14,
    "start_time": "2023-02-21T23:41:32.540Z"
   },
   {
    "duration": 156,
    "start_time": "2023-02-21T23:41:50.374Z"
   },
   {
    "duration": 215,
    "start_time": "2023-02-21T23:42:01.565Z"
   },
   {
    "duration": 6,
    "start_time": "2023-02-21T23:42:24.296Z"
   },
   {
    "duration": 6,
    "start_time": "2023-02-21T23:42:31.545Z"
   },
   {
    "duration": 7,
    "start_time": "2023-02-21T23:43:08.110Z"
   },
   {
    "duration": 6,
    "start_time": "2023-02-21T23:43:14.166Z"
   },
   {
    "duration": 10,
    "start_time": "2023-02-21T23:43:28.275Z"
   },
   {
    "duration": 16,
    "start_time": "2023-02-21T23:44:35.819Z"
   },
   {
    "duration": 2382,
    "start_time": "2023-02-21T23:54:02.393Z"
   },
   {
    "duration": 408,
    "start_time": "2023-02-21T23:55:08.255Z"
   },
   {
    "duration": 2080,
    "start_time": "2023-02-21T23:56:52.979Z"
   },
   {
    "duration": 9,
    "start_time": "2023-02-22T00:11:56.585Z"
   },
   {
    "duration": 15,
    "start_time": "2023-02-22T00:12:14.941Z"
   },
   {
    "duration": 46,
    "start_time": "2023-02-22T00:15:25.913Z"
   },
   {
    "duration": 20,
    "start_time": "2023-02-22T00:15:34.103Z"
   },
   {
    "duration": 437,
    "start_time": "2023-02-22T00:15:40.871Z"
   },
   {
    "duration": 6,
    "start_time": "2023-02-22T00:15:49.511Z"
   },
   {
    "duration": 394,
    "start_time": "2023-02-22T00:18:55.538Z"
   },
   {
    "duration": 901,
    "start_time": "2023-02-22T00:23:23.851Z"
   },
   {
    "duration": 4138,
    "start_time": "2023-02-22T00:24:16.585Z"
   },
   {
    "duration": 11,
    "start_time": "2023-02-22T00:24:45.766Z"
   },
   {
    "duration": 6073,
    "start_time": "2023-02-22T00:24:53.477Z"
   },
   {
    "duration": 4820,
    "start_time": "2023-02-22T00:25:23.274Z"
   },
   {
    "duration": 247,
    "start_time": "2023-02-22T00:26:03.623Z"
   },
   {
    "duration": 2692,
    "start_time": "2023-02-22T00:26:12.552Z"
   },
   {
    "duration": 19453,
    "start_time": "2023-02-22T00:27:57.011Z"
   },
   {
    "duration": 19969,
    "start_time": "2023-02-22T00:28:46.244Z"
   },
   {
    "duration": 20104,
    "start_time": "2023-02-22T00:30:29.831Z"
   },
   {
    "duration": 10,
    "start_time": "2023-02-22T00:32:11.198Z"
   },
   {
    "duration": 19969,
    "start_time": "2023-02-22T00:32:29.523Z"
   },
   {
    "duration": 18780,
    "start_time": "2023-02-22T00:33:05.911Z"
   },
   {
    "duration": 9,
    "start_time": "2023-02-22T00:33:40.297Z"
   },
   {
    "duration": 19671,
    "start_time": "2023-02-22T00:33:53.548Z"
   },
   {
    "duration": 19484,
    "start_time": "2023-02-22T00:34:26.994Z"
   },
   {
    "duration": 14,
    "start_time": "2023-02-22T00:35:01.047Z"
   },
   {
    "duration": 19883,
    "start_time": "2023-02-22T00:36:18.258Z"
   },
   {
    "duration": 16,
    "start_time": "2023-02-22T00:36:46.953Z"
   },
   {
    "duration": 11,
    "start_time": "2023-02-22T00:38:03.428Z"
   },
   {
    "duration": 19434,
    "start_time": "2023-02-22T00:38:36.464Z"
   },
   {
    "duration": 8,
    "start_time": "2023-02-22T00:38:55.900Z"
   },
   {
    "duration": 9,
    "start_time": "2023-02-22T00:39:20.409Z"
   },
   {
    "duration": 5,
    "start_time": "2023-02-22T00:40:10.927Z"
   },
   {
    "duration": 9,
    "start_time": "2023-02-22T00:40:11.679Z"
   },
   {
    "duration": 17,
    "start_time": "2023-02-22T00:42:26.311Z"
   },
   {
    "duration": 19319,
    "start_time": "2023-02-22T00:42:29.146Z"
   },
   {
    "duration": 5,
    "start_time": "2023-02-22T00:42:48.467Z"
   },
   {
    "duration": 10,
    "start_time": "2023-02-22T00:42:52.685Z"
   },
   {
    "duration": 207,
    "start_time": "2023-02-22T00:43:14.498Z"
   },
   {
    "duration": 26,
    "start_time": "2023-02-22T00:43:19.679Z"
   },
   {
    "duration": 362,
    "start_time": "2023-02-22T00:46:15.489Z"
   },
   {
    "duration": 823,
    "start_time": "2023-02-22T00:46:15.853Z"
   },
   {
    "duration": 18,
    "start_time": "2023-02-22T00:46:16.678Z"
   },
   {
    "duration": 14,
    "start_time": "2023-02-22T00:46:16.698Z"
   },
   {
    "duration": 145,
    "start_time": "2023-02-22T00:46:16.713Z"
   },
   {
    "duration": 283,
    "start_time": "2023-02-22T00:46:16.859Z"
   },
   {
    "duration": 92,
    "start_time": "2023-02-22T00:46:17.144Z"
   },
   {
    "duration": 1437,
    "start_time": "2023-02-22T00:46:17.238Z"
   },
   {
    "duration": 6,
    "start_time": "2023-02-22T00:46:18.677Z"
   },
   {
    "duration": 668,
    "start_time": "2023-02-22T00:46:18.685Z"
   },
   {
    "duration": 344,
    "start_time": "2023-02-22T00:46:19.355Z"
   },
   {
    "duration": 425,
    "start_time": "2023-02-22T00:46:19.700Z"
   },
   {
    "duration": 601,
    "start_time": "2023-02-22T00:46:20.127Z"
   },
   {
    "duration": 324,
    "start_time": "2023-02-22T00:46:20.730Z"
   },
   {
    "duration": 19,
    "start_time": "2023-02-22T00:46:21.056Z"
   },
   {
    "duration": 20,
    "start_time": "2023-02-22T00:46:21.076Z"
   },
   {
    "duration": 5,
    "start_time": "2023-02-22T00:46:21.097Z"
   },
   {
    "duration": 248,
    "start_time": "2023-02-22T00:46:21.103Z"
   },
   {
    "duration": 18,
    "start_time": "2023-02-22T00:46:21.352Z"
   },
   {
    "duration": 198,
    "start_time": "2023-02-22T00:46:21.373Z"
   },
   {
    "duration": 19,
    "start_time": "2023-02-22T00:46:21.572Z"
   },
   {
    "duration": 187,
    "start_time": "2023-02-22T00:46:21.593Z"
   },
   {
    "duration": 253,
    "start_time": "2023-02-22T00:46:21.782Z"
   },
   {
    "duration": 79,
    "start_time": "2023-02-22T00:46:22.037Z"
   },
   {
    "duration": 777,
    "start_time": "2023-02-22T00:46:22.117Z"
   },
   {
    "duration": 272,
    "start_time": "2023-02-22T00:46:22.895Z"
   },
   {
    "duration": 275,
    "start_time": "2023-02-22T00:46:23.169Z"
   },
   {
    "duration": 251,
    "start_time": "2023-02-22T00:46:23.449Z"
   },
   {
    "duration": 505,
    "start_time": "2023-02-22T00:46:23.702Z"
   },
   {
    "duration": 191,
    "start_time": "2023-02-22T00:46:24.210Z"
   },
   {
    "duration": 1345,
    "start_time": "2023-02-22T00:46:24.403Z"
   },
   {
    "duration": 5,
    "start_time": "2023-02-22T00:46:25.750Z"
   },
   {
    "duration": 9,
    "start_time": "2023-02-22T00:46:25.757Z"
   },
   {
    "duration": 16,
    "start_time": "2023-02-22T00:46:25.767Z"
   },
   {
    "duration": 19141,
    "start_time": "2023-02-22T00:46:25.784Z"
   },
   {
    "duration": 5,
    "start_time": "2023-02-22T00:46:44.927Z"
   },
   {
    "duration": 16,
    "start_time": "2023-02-22T00:46:44.934Z"
   },
   {
    "duration": 212,
    "start_time": "2023-02-22T00:46:44.951Z"
   },
   {
    "duration": 371,
    "start_time": "2023-02-22T00:50:23.484Z"
   },
   {
    "duration": 789,
    "start_time": "2023-02-22T00:50:23.857Z"
   },
   {
    "duration": 20,
    "start_time": "2023-02-22T00:50:24.648Z"
   },
   {
    "duration": 14,
    "start_time": "2023-02-22T00:50:24.669Z"
   },
   {
    "duration": 167,
    "start_time": "2023-02-22T00:50:24.685Z"
   },
   {
    "duration": 298,
    "start_time": "2023-02-22T00:50:24.854Z"
   },
   {
    "duration": 107,
    "start_time": "2023-02-22T00:50:25.153Z"
   },
   {
    "duration": 1516,
    "start_time": "2023-02-22T00:50:25.262Z"
   },
   {
    "duration": 6,
    "start_time": "2023-02-22T00:50:26.780Z"
   },
   {
    "duration": 758,
    "start_time": "2023-02-22T00:50:26.788Z"
   },
   {
    "duration": 350,
    "start_time": "2023-02-22T00:50:27.548Z"
   },
   {
    "duration": 428,
    "start_time": "2023-02-22T00:50:27.900Z"
   },
   {
    "duration": 619,
    "start_time": "2023-02-22T00:50:28.330Z"
   },
   {
    "duration": 343,
    "start_time": "2023-02-22T00:50:28.952Z"
   },
   {
    "duration": 27,
    "start_time": "2023-02-22T00:50:29.298Z"
   },
   {
    "duration": 36,
    "start_time": "2023-02-22T00:50:29.327Z"
   },
   {
    "duration": 11,
    "start_time": "2023-02-22T00:50:29.365Z"
   },
   {
    "duration": 261,
    "start_time": "2023-02-22T00:50:29.378Z"
   },
   {
    "duration": 20,
    "start_time": "2023-02-22T00:50:29.640Z"
   },
   {
    "duration": 193,
    "start_time": "2023-02-22T00:50:29.661Z"
   },
   {
    "duration": 19,
    "start_time": "2023-02-22T00:50:29.855Z"
   },
   {
    "duration": 193,
    "start_time": "2023-02-22T00:50:29.876Z"
   },
   {
    "duration": 268,
    "start_time": "2023-02-22T00:50:30.071Z"
   },
   {
    "duration": 83,
    "start_time": "2023-02-22T00:50:30.341Z"
   },
   {
    "duration": 788,
    "start_time": "2023-02-22T00:50:30.426Z"
   },
   {
    "duration": 275,
    "start_time": "2023-02-22T00:50:31.216Z"
   },
   {
    "duration": 269,
    "start_time": "2023-02-22T00:50:31.493Z"
   },
   {
    "duration": 273,
    "start_time": "2023-02-22T00:50:31.763Z"
   },
   {
    "duration": 540,
    "start_time": "2023-02-22T00:50:32.038Z"
   },
   {
    "duration": 203,
    "start_time": "2023-02-22T00:50:32.580Z"
   },
   {
    "duration": 1393,
    "start_time": "2023-02-22T00:50:32.784Z"
   },
   {
    "duration": 5,
    "start_time": "2023-02-22T00:50:34.179Z"
   },
   {
    "duration": 11,
    "start_time": "2023-02-22T00:50:34.186Z"
   },
   {
    "duration": 40,
    "start_time": "2023-02-22T00:50:34.199Z"
   },
   {
    "duration": 20178,
    "start_time": "2023-02-22T00:50:34.241Z"
   },
   {
    "duration": 6,
    "start_time": "2023-02-22T00:50:54.421Z"
   },
   {
    "duration": 10,
    "start_time": "2023-02-22T00:50:54.428Z"
   },
   {
    "duration": 202,
    "start_time": "2023-02-22T00:50:54.439Z"
   },
   {
    "duration": 292,
    "start_time": "2023-02-22T00:50:54.642Z"
   },
   {
    "duration": 99,
    "start_time": "2023-02-22T00:51:55.718Z"
   },
   {
    "duration": 393,
    "start_time": "2023-02-22T00:52:00.999Z"
   },
   {
    "duration": 922,
    "start_time": "2023-02-22T00:52:01.394Z"
   },
   {
    "duration": 19,
    "start_time": "2023-02-22T00:52:02.318Z"
   },
   {
    "duration": 21,
    "start_time": "2023-02-22T00:52:02.339Z"
   },
   {
    "duration": 157,
    "start_time": "2023-02-22T00:52:02.361Z"
   },
   {
    "duration": 293,
    "start_time": "2023-02-22T00:52:02.519Z"
   },
   {
    "duration": 100,
    "start_time": "2023-02-22T00:52:02.813Z"
   },
   {
    "duration": 1602,
    "start_time": "2023-02-22T00:52:02.915Z"
   },
   {
    "duration": 33,
    "start_time": "2023-02-22T00:52:04.519Z"
   },
   {
    "duration": 701,
    "start_time": "2023-02-22T00:52:04.555Z"
   },
   {
    "duration": 344,
    "start_time": "2023-02-22T00:52:05.258Z"
   },
   {
    "duration": 445,
    "start_time": "2023-02-22T00:52:05.603Z"
   },
   {
    "duration": 620,
    "start_time": "2023-02-22T00:52:06.049Z"
   },
   {
    "duration": 322,
    "start_time": "2023-02-22T00:52:06.671Z"
   },
   {
    "duration": 20,
    "start_time": "2023-02-22T00:52:06.994Z"
   },
   {
    "duration": 46,
    "start_time": "2023-02-22T00:52:07.016Z"
   },
   {
    "duration": 7,
    "start_time": "2023-02-22T00:52:07.065Z"
   },
   {
    "duration": 255,
    "start_time": "2023-02-22T00:52:07.073Z"
   },
   {
    "duration": 27,
    "start_time": "2023-02-22T00:52:07.330Z"
   },
   {
    "duration": 196,
    "start_time": "2023-02-22T00:52:07.359Z"
   },
   {
    "duration": 20,
    "start_time": "2023-02-22T00:52:07.557Z"
   },
   {
    "duration": 193,
    "start_time": "2023-02-22T00:52:07.579Z"
   },
   {
    "duration": 282,
    "start_time": "2023-02-22T00:52:07.773Z"
   },
   {
    "duration": 77,
    "start_time": "2023-02-22T00:52:08.056Z"
   },
   {
    "duration": 778,
    "start_time": "2023-02-22T00:52:08.135Z"
   },
   {
    "duration": 287,
    "start_time": "2023-02-22T00:52:08.914Z"
   },
   {
    "duration": 272,
    "start_time": "2023-02-22T00:52:09.203Z"
   },
   {
    "duration": 248,
    "start_time": "2023-02-22T00:52:09.479Z"
   },
   {
    "duration": 519,
    "start_time": "2023-02-22T00:52:09.729Z"
   },
   {
    "duration": 199,
    "start_time": "2023-02-22T00:52:10.250Z"
   },
   {
    "duration": 1412,
    "start_time": "2023-02-22T00:52:10.451Z"
   },
   {
    "duration": 5,
    "start_time": "2023-02-22T00:52:11.864Z"
   },
   {
    "duration": 10,
    "start_time": "2023-02-22T00:52:11.871Z"
   },
   {
    "duration": 20,
    "start_time": "2023-02-22T00:52:11.883Z"
   },
   {
    "duration": 19194,
    "start_time": "2023-02-22T00:52:11.905Z"
   },
   {
    "duration": 6,
    "start_time": "2023-02-22T00:52:31.100Z"
   },
   {
    "duration": 26,
    "start_time": "2023-02-22T00:52:31.108Z"
   },
   {
    "duration": 211,
    "start_time": "2023-02-22T00:52:31.135Z"
   },
   {
    "duration": 320,
    "start_time": "2023-02-22T00:52:31.348Z"
   },
   {
    "duration": 16,
    "start_time": "2023-02-22T00:53:11.727Z"
   },
   {
    "duration": 1527,
    "start_time": "2023-02-22T00:55:13.184Z"
   },
   {
    "duration": 17,
    "start_time": "2023-02-22T00:55:32.118Z"
   },
   {
    "duration": 102,
    "start_time": "2023-02-22T00:56:41.912Z"
   },
   {
    "duration": 164,
    "start_time": "2023-02-22T00:57:10.896Z"
   },
   {
    "duration": 15,
    "start_time": "2023-02-22T00:57:16.629Z"
   },
   {
    "duration": 13,
    "start_time": "2023-02-22T00:57:19.622Z"
   },
   {
    "duration": 16,
    "start_time": "2023-02-22T00:58:18.101Z"
   },
   {
    "duration": 4286,
    "start_time": "2023-02-22T00:58:38.664Z"
   },
   {
    "duration": 15,
    "start_time": "2023-02-22T00:59:04.314Z"
   },
   {
    "duration": 228,
    "start_time": "2023-02-22T00:59:17.284Z"
   },
   {
    "duration": 229,
    "start_time": "2023-02-22T00:59:26.710Z"
   },
   {
    "duration": 5,
    "start_time": "2023-02-22T01:00:37.878Z"
   },
   {
    "duration": 4,
    "start_time": "2023-02-22T01:00:43.061Z"
   },
   {
    "duration": 388,
    "start_time": "2023-02-22T01:07:28.031Z"
   },
   {
    "duration": 9,
    "start_time": "2023-02-22T01:08:32.251Z"
   },
   {
    "duration": 8,
    "start_time": "2023-02-22T01:09:09.264Z"
   },
   {
    "duration": 10,
    "start_time": "2023-02-22T01:09:18.977Z"
   },
   {
    "duration": 34,
    "start_time": "2023-02-22T01:09:32.505Z"
   },
   {
    "duration": 19,
    "start_time": "2023-02-22T01:09:39.111Z"
   },
   {
    "duration": 10,
    "start_time": "2023-02-22T01:09:59.273Z"
   },
   {
    "duration": 9,
    "start_time": "2023-02-22T01:10:06.353Z"
   },
   {
    "duration": 10,
    "start_time": "2023-02-22T01:10:37.356Z"
   },
   {
    "duration": 13,
    "start_time": "2023-02-22T01:10:41.743Z"
   },
   {
    "duration": 5,
    "start_time": "2023-02-22T01:10:47.683Z"
   },
   {
    "duration": 33,
    "start_time": "2023-02-22T01:10:52.429Z"
   },
   {
    "duration": 18,
    "start_time": "2023-02-22T01:10:57.619Z"
   },
   {
    "duration": 11,
    "start_time": "2023-02-22T01:11:19.669Z"
   },
   {
    "duration": 13,
    "start_time": "2023-02-22T01:11:24.299Z"
   },
   {
    "duration": 12,
    "start_time": "2023-02-22T01:11:28.261Z"
   },
   {
    "duration": 94,
    "start_time": "2023-02-22T01:13:21.827Z"
   },
   {
    "duration": 1978,
    "start_time": "2023-02-22T01:13:22.654Z"
   },
   {
    "duration": 235,
    "start_time": "2023-02-22T01:13:30.447Z"
   },
   {
    "duration": 11,
    "start_time": "2023-02-22T01:14:37.241Z"
   },
   {
    "duration": 2022,
    "start_time": "2023-02-22T01:14:37.752Z"
   },
   {
    "duration": 1966,
    "start_time": "2023-02-22T01:16:34.279Z"
   },
   {
    "duration": 1972,
    "start_time": "2023-02-22T01:16:55.008Z"
   },
   {
    "duration": 8,
    "start_time": "2023-02-22T01:17:44.533Z"
   },
   {
    "duration": 514,
    "start_time": "2023-02-22T01:17:44.941Z"
   },
   {
    "duration": 106,
    "start_time": "2023-02-22T01:17:51.707Z"
   },
   {
    "duration": 363,
    "start_time": "2023-02-22T01:18:39.486Z"
   },
   {
    "duration": 803,
    "start_time": "2023-02-22T01:18:39.851Z"
   },
   {
    "duration": 18,
    "start_time": "2023-02-22T01:18:40.655Z"
   },
   {
    "duration": 19,
    "start_time": "2023-02-22T01:18:40.675Z"
   },
   {
    "duration": 170,
    "start_time": "2023-02-22T01:18:40.696Z"
   },
   {
    "duration": 281,
    "start_time": "2023-02-22T01:18:40.868Z"
   },
   {
    "duration": 86,
    "start_time": "2023-02-22T01:18:41.150Z"
   },
   {
    "duration": 1403,
    "start_time": "2023-02-22T01:18:41.248Z"
   },
   {
    "duration": 6,
    "start_time": "2023-02-22T01:18:42.653Z"
   },
   {
    "duration": 687,
    "start_time": "2023-02-22T01:18:42.661Z"
   },
   {
    "duration": 352,
    "start_time": "2023-02-22T01:18:43.350Z"
   },
   {
    "duration": 449,
    "start_time": "2023-02-22T01:18:43.704Z"
   },
   {
    "duration": 553,
    "start_time": "2023-02-22T01:18:44.155Z"
   },
   {
    "duration": 318,
    "start_time": "2023-02-22T01:18:44.710Z"
   },
   {
    "duration": 27,
    "start_time": "2023-02-22T01:18:45.030Z"
   },
   {
    "duration": 23,
    "start_time": "2023-02-22T01:18:45.059Z"
   },
   {
    "duration": 5,
    "start_time": "2023-02-22T01:18:45.083Z"
   },
   {
    "duration": 248,
    "start_time": "2023-02-22T01:18:45.089Z"
   },
   {
    "duration": 366,
    "start_time": "2023-02-22T01:18:45.339Z"
   },
   {
    "duration": 238,
    "start_time": "2023-02-22T01:18:45.706Z"
   },
   {
    "duration": 4324,
    "start_time": "2023-02-22T01:18:45.948Z"
   },
   {
    "duration": 15,
    "start_time": "2023-02-22T01:18:50.274Z"
   },
   {
    "duration": 21,
    "start_time": "2023-02-22T01:18:50.290Z"
   },
   {
    "duration": 201,
    "start_time": "2023-02-22T01:18:50.312Z"
   },
   {
    "duration": 20,
    "start_time": "2023-02-22T01:18:50.514Z"
   },
   {
    "duration": 177,
    "start_time": "2023-02-22T01:18:50.536Z"
   },
   {
    "duration": 244,
    "start_time": "2023-02-22T01:18:50.714Z"
   },
   {
    "duration": 55,
    "start_time": "2023-02-22T01:18:50.961Z"
   },
   {
    "duration": 672,
    "start_time": "2023-02-22T01:18:51.018Z"
   },
   {
    "duration": 275,
    "start_time": "2023-02-22T01:18:51.692Z"
   },
   {
    "duration": 249,
    "start_time": "2023-02-22T01:18:51.970Z"
   },
   {
    "duration": 228,
    "start_time": "2023-02-22T01:18:52.220Z"
   },
   {
    "duration": 588,
    "start_time": "2023-02-22T01:18:52.450Z"
   },
   {
    "duration": 183,
    "start_time": "2023-02-22T01:18:53.048Z"
   },
   {
    "duration": 1428,
    "start_time": "2023-02-22T01:18:53.232Z"
   },
   {
    "duration": 6,
    "start_time": "2023-02-22T01:18:54.661Z"
   },
   {
    "duration": 7,
    "start_time": "2023-02-22T01:18:54.668Z"
   },
   {
    "duration": 16,
    "start_time": "2023-02-22T01:18:54.676Z"
   },
   {
    "duration": 20621,
    "start_time": "2023-02-22T01:18:54.693Z"
   },
   {
    "duration": 0,
    "start_time": "2023-02-22T01:19:15.316Z"
   },
   {
    "duration": 0,
    "start_time": "2023-02-22T01:19:15.317Z"
   },
   {
    "duration": 0,
    "start_time": "2023-02-22T01:19:15.318Z"
   },
   {
    "duration": 0,
    "start_time": "2023-02-22T01:19:15.319Z"
   },
   {
    "duration": 0,
    "start_time": "2023-02-22T01:19:15.322Z"
   },
   {
    "duration": 0,
    "start_time": "2023-02-22T01:19:15.323Z"
   },
   {
    "duration": 0,
    "start_time": "2023-02-22T01:19:15.325Z"
   },
   {
    "duration": 0,
    "start_time": "2023-02-22T01:19:15.326Z"
   },
   {
    "duration": 399,
    "start_time": "2023-02-22T01:19:26.455Z"
   },
   {
    "duration": 804,
    "start_time": "2023-02-22T01:19:26.856Z"
   },
   {
    "duration": 19,
    "start_time": "2023-02-22T01:19:27.661Z"
   },
   {
    "duration": 13,
    "start_time": "2023-02-22T01:19:27.682Z"
   },
   {
    "duration": 155,
    "start_time": "2023-02-22T01:19:27.697Z"
   },
   {
    "duration": 294,
    "start_time": "2023-02-22T01:19:27.854Z"
   },
   {
    "duration": 100,
    "start_time": "2023-02-22T01:19:28.150Z"
   },
   {
    "duration": 1510,
    "start_time": "2023-02-22T01:19:28.252Z"
   },
   {
    "duration": 6,
    "start_time": "2023-02-22T01:19:29.763Z"
   },
   {
    "duration": 688,
    "start_time": "2023-02-22T01:19:29.771Z"
   },
   {
    "duration": 349,
    "start_time": "2023-02-22T01:19:30.461Z"
   },
   {
    "duration": 437,
    "start_time": "2023-02-22T01:19:30.812Z"
   },
   {
    "duration": 561,
    "start_time": "2023-02-22T01:19:31.251Z"
   },
   {
    "duration": 329,
    "start_time": "2023-02-22T01:19:31.815Z"
   },
   {
    "duration": 19,
    "start_time": "2023-02-22T01:19:32.146Z"
   },
   {
    "duration": 28,
    "start_time": "2023-02-22T01:19:32.167Z"
   },
   {
    "duration": 5,
    "start_time": "2023-02-22T01:19:32.196Z"
   },
   {
    "duration": 231,
    "start_time": "2023-02-22T01:19:32.203Z"
   },
   {
    "duration": 370,
    "start_time": "2023-02-22T01:19:32.436Z"
   },
   {
    "duration": 232,
    "start_time": "2023-02-22T01:19:32.808Z"
   },
   {
    "duration": 412,
    "start_time": "2023-02-22T01:19:33.042Z"
   },
   {
    "duration": 15,
    "start_time": "2023-02-22T01:19:33.456Z"
   },
   {
    "duration": 29,
    "start_time": "2023-02-22T01:19:33.473Z"
   },
   {
    "duration": 182,
    "start_time": "2023-02-22T01:19:33.504Z"
   },
   {
    "duration": 18,
    "start_time": "2023-02-22T01:19:33.688Z"
   },
   {
    "duration": 260,
    "start_time": "2023-02-22T01:19:33.708Z"
   },
   {
    "duration": 253,
    "start_time": "2023-02-22T01:19:33.969Z"
   },
   {
    "duration": 65,
    "start_time": "2023-02-22T01:19:34.224Z"
   },
   {
    "duration": 639,
    "start_time": "2023-02-22T01:19:34.291Z"
   },
   {
    "duration": 271,
    "start_time": "2023-02-22T01:19:34.933Z"
   },
   {
    "duration": 265,
    "start_time": "2023-02-22T01:19:35.206Z"
   },
   {
    "duration": 236,
    "start_time": "2023-02-22T01:19:35.473Z"
   },
   {
    "duration": 502,
    "start_time": "2023-02-22T01:19:35.711Z"
   },
   {
    "duration": 240,
    "start_time": "2023-02-22T01:19:36.215Z"
   },
   {
    "duration": 1327,
    "start_time": "2023-02-22T01:19:36.457Z"
   },
   {
    "duration": 5,
    "start_time": "2023-02-22T01:19:37.786Z"
   },
   {
    "duration": 6,
    "start_time": "2023-02-22T01:19:37.793Z"
   },
   {
    "duration": 14,
    "start_time": "2023-02-22T01:19:37.801Z"
   },
   {
    "duration": 20042,
    "start_time": "2023-02-22T01:19:37.817Z"
   },
   {
    "duration": 6,
    "start_time": "2023-02-22T01:19:57.861Z"
   },
   {
    "duration": 10,
    "start_time": "2023-02-22T01:19:57.871Z"
   },
   {
    "duration": 216,
    "start_time": "2023-02-22T01:19:57.883Z"
   },
   {
    "duration": 439,
    "start_time": "2023-02-22T01:19:58.101Z"
   },
   {
    "duration": 20,
    "start_time": "2023-02-22T01:19:58.542Z"
   },
   {
    "duration": 1487,
    "start_time": "2023-02-22T01:19:58.564Z"
   },
   {
    "duration": 202,
    "start_time": "2023-02-22T01:20:00.053Z"
   },
   {
    "duration": 16,
    "start_time": "2023-02-22T01:20:00.257Z"
   },
   {
    "duration": 965,
    "start_time": "2023-02-22T01:21:39.143Z"
   },
   {
    "duration": 375,
    "start_time": "2023-02-22T01:21:58.890Z"
   },
   {
    "duration": 828,
    "start_time": "2023-02-22T01:21:59.267Z"
   },
   {
    "duration": 20,
    "start_time": "2023-02-22T01:22:00.097Z"
   },
   {
    "duration": 18,
    "start_time": "2023-02-22T01:22:00.120Z"
   },
   {
    "duration": 137,
    "start_time": "2023-02-22T01:22:00.148Z"
   },
   {
    "duration": 288,
    "start_time": "2023-02-22T01:22:00.287Z"
   },
   {
    "duration": 104,
    "start_time": "2023-02-22T01:22:00.576Z"
   },
   {
    "duration": 1488,
    "start_time": "2023-02-22T01:22:00.682Z"
   },
   {
    "duration": 1297,
    "start_time": "2023-02-22T01:22:02.172Z"
   },
   {
    "duration": 8,
    "start_time": "2023-02-22T01:22:03.472Z"
   },
   {
    "duration": 739,
    "start_time": "2023-02-22T01:22:03.482Z"
   },
   {
    "duration": 364,
    "start_time": "2023-02-22T01:22:04.223Z"
   },
   {
    "duration": 428,
    "start_time": "2023-02-22T01:22:04.588Z"
   },
   {
    "duration": 651,
    "start_time": "2023-02-22T01:22:05.017Z"
   },
   {
    "duration": 319,
    "start_time": "2023-02-22T01:22:05.670Z"
   },
   {
    "duration": 18,
    "start_time": "2023-02-22T01:22:05.991Z"
   },
   {
    "duration": 21,
    "start_time": "2023-02-22T01:22:06.011Z"
   },
   {
    "duration": 15,
    "start_time": "2023-02-22T01:22:06.034Z"
   },
   {
    "duration": 242,
    "start_time": "2023-02-22T01:22:06.051Z"
   },
   {
    "duration": 377,
    "start_time": "2023-02-22T01:22:06.295Z"
   },
   {
    "duration": 238,
    "start_time": "2023-02-22T01:22:06.674Z"
   },
   {
    "duration": 400,
    "start_time": "2023-02-22T01:22:06.914Z"
   },
   {
    "duration": 14,
    "start_time": "2023-02-22T01:22:07.316Z"
   },
   {
    "duration": 28,
    "start_time": "2023-02-22T01:22:07.332Z"
   },
   {
    "duration": 183,
    "start_time": "2023-02-22T01:22:07.361Z"
   },
   {
    "duration": 19,
    "start_time": "2023-02-22T01:22:07.546Z"
   },
   {
    "duration": 253,
    "start_time": "2023-02-22T01:22:07.566Z"
   },
   {
    "duration": 248,
    "start_time": "2023-02-22T01:22:07.822Z"
   },
   {
    "duration": 53,
    "start_time": "2023-02-22T01:22:08.072Z"
   },
   {
    "duration": 658,
    "start_time": "2023-02-22T01:22:08.126Z"
   },
   {
    "duration": 264,
    "start_time": "2023-02-22T01:22:08.785Z"
   },
   {
    "duration": 258,
    "start_time": "2023-02-22T01:22:09.051Z"
   },
   {
    "duration": 244,
    "start_time": "2023-02-22T01:22:09.311Z"
   },
   {
    "duration": 509,
    "start_time": "2023-02-22T01:22:09.556Z"
   },
   {
    "duration": 196,
    "start_time": "2023-02-22T01:22:10.067Z"
   },
   {
    "duration": 1338,
    "start_time": "2023-02-22T01:22:10.264Z"
   },
   {
    "duration": 5,
    "start_time": "2023-02-22T01:22:11.603Z"
   },
   {
    "duration": 7,
    "start_time": "2023-02-22T01:22:11.610Z"
   },
   {
    "duration": 31,
    "start_time": "2023-02-22T01:22:11.618Z"
   },
   {
    "duration": 19704,
    "start_time": "2023-02-22T01:22:11.651Z"
   },
   {
    "duration": 9,
    "start_time": "2023-02-22T01:22:31.357Z"
   },
   {
    "duration": 22,
    "start_time": "2023-02-22T01:22:31.368Z"
   },
   {
    "duration": 349,
    "start_time": "2023-02-22T01:22:31.391Z"
   },
   {
    "duration": 352,
    "start_time": "2023-02-22T01:22:31.742Z"
   },
   {
    "duration": 16,
    "start_time": "2023-02-22T01:22:32.096Z"
   },
   {
    "duration": 1460,
    "start_time": "2023-02-22T01:22:32.114Z"
   },
   {
    "duration": 217,
    "start_time": "2023-02-22T01:22:33.576Z"
   },
   {
    "duration": 18,
    "start_time": "2023-02-22T01:22:33.795Z"
   },
   {
    "duration": 426,
    "start_time": "2023-02-22T01:23:38.827Z"
   },
   {
    "duration": 789,
    "start_time": "2023-02-22T01:23:39.255Z"
   },
   {
    "duration": 19,
    "start_time": "2023-02-22T01:23:40.046Z"
   },
   {
    "duration": 23,
    "start_time": "2023-02-22T01:23:40.067Z"
   },
   {
    "duration": 138,
    "start_time": "2023-02-22T01:23:40.092Z"
   },
   {
    "duration": 286,
    "start_time": "2023-02-22T01:23:40.231Z"
   },
   {
    "duration": 97,
    "start_time": "2023-02-22T01:23:40.519Z"
   },
   {
    "duration": 1430,
    "start_time": "2023-02-22T01:23:40.618Z"
   },
   {
    "duration": 1250,
    "start_time": "2023-02-22T01:23:42.051Z"
   },
   {
    "duration": 8,
    "start_time": "2023-02-22T01:23:43.305Z"
   },
   {
    "duration": 740,
    "start_time": "2023-02-22T01:23:43.314Z"
   },
   {
    "duration": 338,
    "start_time": "2023-02-22T01:23:44.056Z"
   },
   {
    "duration": 408,
    "start_time": "2023-02-22T01:23:44.396Z"
   },
   {
    "duration": 666,
    "start_time": "2023-02-22T01:23:44.805Z"
   },
   {
    "duration": 338,
    "start_time": "2023-02-22T01:23:45.473Z"
   },
   {
    "duration": 19,
    "start_time": "2023-02-22T01:23:45.813Z"
   },
   {
    "duration": 28,
    "start_time": "2023-02-22T01:23:45.833Z"
   },
   {
    "duration": 7,
    "start_time": "2023-02-22T01:23:45.863Z"
   },
   {
    "duration": 230,
    "start_time": "2023-02-22T01:23:45.871Z"
   },
   {
    "duration": 392,
    "start_time": "2023-02-22T01:23:46.104Z"
   },
   {
    "duration": 540,
    "start_time": "2023-02-22T01:23:46.498Z"
   },
   {
    "duration": 410,
    "start_time": "2023-02-22T01:23:47.040Z"
   },
   {
    "duration": 16,
    "start_time": "2023-02-22T01:23:47.452Z"
   },
   {
    "duration": 18,
    "start_time": "2023-02-22T01:23:47.470Z"
   },
   {
    "duration": 190,
    "start_time": "2023-02-22T01:23:47.490Z"
   },
   {
    "duration": 18,
    "start_time": "2023-02-22T01:23:47.682Z"
   },
   {
    "duration": 274,
    "start_time": "2023-02-22T01:23:47.701Z"
   },
   {
    "duration": 243,
    "start_time": "2023-02-22T01:23:47.979Z"
   },
   {
    "duration": 58,
    "start_time": "2023-02-22T01:23:48.236Z"
   },
   {
    "duration": 641,
    "start_time": "2023-02-22T01:23:48.296Z"
   },
   {
    "duration": 272,
    "start_time": "2023-02-22T01:23:48.938Z"
   },
   {
    "duration": 260,
    "start_time": "2023-02-22T01:23:49.211Z"
   },
   {
    "duration": 238,
    "start_time": "2023-02-22T01:23:49.473Z"
   },
   {
    "duration": 486,
    "start_time": "2023-02-22T01:23:49.712Z"
   },
   {
    "duration": 194,
    "start_time": "2023-02-22T01:23:50.200Z"
   },
   {
    "duration": 1303,
    "start_time": "2023-02-22T01:23:50.396Z"
   },
   {
    "duration": 6,
    "start_time": "2023-02-22T01:23:51.701Z"
   },
   {
    "duration": 10,
    "start_time": "2023-02-22T01:23:51.708Z"
   },
   {
    "duration": 33,
    "start_time": "2023-02-22T01:23:51.719Z"
   },
   {
    "duration": 19152,
    "start_time": "2023-02-22T01:23:51.754Z"
   },
   {
    "duration": 10,
    "start_time": "2023-02-22T01:24:10.908Z"
   },
   {
    "duration": 11,
    "start_time": "2023-02-22T01:24:10.919Z"
   },
   {
    "duration": 342,
    "start_time": "2023-02-22T01:24:10.931Z"
   },
   {
    "duration": 317,
    "start_time": "2023-02-22T01:24:11.274Z"
   },
   {
    "duration": 16,
    "start_time": "2023-02-22T01:24:11.593Z"
   },
   {
    "duration": 1386,
    "start_time": "2023-02-22T01:24:11.610Z"
   },
   {
    "duration": 215,
    "start_time": "2023-02-22T01:24:12.997Z"
   },
   {
    "duration": 15,
    "start_time": "2023-02-22T01:24:13.213Z"
   },
   {
    "duration": 359,
    "start_time": "2023-02-22T01:24:22.473Z"
   },
   {
    "duration": 559,
    "start_time": "2023-02-22T01:25:22.840Z"
   },
   {
    "duration": 384,
    "start_time": "2023-02-22T01:25:23.400Z"
   },
   {
    "duration": 307,
    "start_time": "2023-02-22T01:25:42.952Z"
   },
   {
    "duration": 7853,
    "start_time": "2023-02-22T01:26:47.706Z"
   },
   {
    "duration": 98,
    "start_time": "2023-02-22T01:30:30.309Z"
   },
   {
    "duration": 210,
    "start_time": "2023-02-22T01:30:37.477Z"
   },
   {
    "duration": 184,
    "start_time": "2023-02-22T01:30:51.965Z"
   },
   {
    "duration": 213,
    "start_time": "2023-02-22T01:31:01.056Z"
   },
   {
    "duration": 218,
    "start_time": "2023-02-22T01:31:17.691Z"
   },
   {
    "duration": 17,
    "start_time": "2023-02-22T01:31:27.844Z"
   },
   {
    "duration": 422,
    "start_time": "2023-02-22T01:31:35.538Z"
   },
   {
    "duration": 823,
    "start_time": "2023-02-22T01:31:35.962Z"
   },
   {
    "duration": 17,
    "start_time": "2023-02-22T01:31:36.787Z"
   },
   {
    "duration": 12,
    "start_time": "2023-02-22T01:31:36.807Z"
   },
   {
    "duration": 138,
    "start_time": "2023-02-22T01:31:36.821Z"
   },
   {
    "duration": 284,
    "start_time": "2023-02-22T01:31:36.961Z"
   },
   {
    "duration": 89,
    "start_time": "2023-02-22T01:31:37.249Z"
   },
   {
    "duration": 1406,
    "start_time": "2023-02-22T01:31:37.348Z"
   },
   {
    "duration": 1284,
    "start_time": "2023-02-22T01:31:38.756Z"
   },
   {
    "duration": 9,
    "start_time": "2023-02-22T01:31:40.043Z"
   },
   {
    "duration": 691,
    "start_time": "2023-02-22T01:31:40.054Z"
   },
   {
    "duration": 324,
    "start_time": "2023-02-22T01:31:40.747Z"
   },
   {
    "duration": 404,
    "start_time": "2023-02-22T01:31:41.073Z"
   },
   {
    "duration": 620,
    "start_time": "2023-02-22T01:31:41.478Z"
   },
   {
    "duration": 323,
    "start_time": "2023-02-22T01:31:42.099Z"
   },
   {
    "duration": 27,
    "start_time": "2023-02-22T01:31:42.424Z"
   },
   {
    "duration": 20,
    "start_time": "2023-02-22T01:31:42.452Z"
   },
   {
    "duration": 5,
    "start_time": "2023-02-22T01:31:42.473Z"
   },
   {
    "duration": 247,
    "start_time": "2023-02-22T01:31:42.479Z"
   },
   {
    "duration": 358,
    "start_time": "2023-02-22T01:31:42.727Z"
   },
   {
    "duration": 577,
    "start_time": "2023-02-22T01:31:43.087Z"
   },
   {
    "duration": 413,
    "start_time": "2023-02-22T01:31:43.665Z"
   },
   {
    "duration": 14,
    "start_time": "2023-02-22T01:31:44.080Z"
   },
   {
    "duration": 20,
    "start_time": "2023-02-22T01:31:44.095Z"
   },
   {
    "duration": 181,
    "start_time": "2023-02-22T01:31:44.116Z"
   },
   {
    "duration": 18,
    "start_time": "2023-02-22T01:31:44.298Z"
   },
   {
    "duration": 251,
    "start_time": "2023-02-22T01:31:44.318Z"
   },
   {
    "duration": 237,
    "start_time": "2023-02-22T01:31:44.573Z"
   },
   {
    "duration": 63,
    "start_time": "2023-02-22T01:31:44.812Z"
   },
   {
    "duration": 675,
    "start_time": "2023-02-22T01:31:44.876Z"
   },
   {
    "duration": 266,
    "start_time": "2023-02-22T01:31:45.553Z"
   },
   {
    "duration": 245,
    "start_time": "2023-02-22T01:31:45.821Z"
   },
   {
    "duration": 247,
    "start_time": "2023-02-22T01:31:46.068Z"
   },
   {
    "duration": 502,
    "start_time": "2023-02-22T01:31:46.317Z"
   },
   {
    "duration": 196,
    "start_time": "2023-02-22T01:31:46.821Z"
   },
   {
    "duration": 1257,
    "start_time": "2023-02-22T01:31:47.019Z"
   },
   {
    "duration": 5,
    "start_time": "2023-02-22T01:31:48.278Z"
   },
   {
    "duration": 9,
    "start_time": "2023-02-22T01:31:48.284Z"
   },
   {
    "duration": 20,
    "start_time": "2023-02-22T01:31:48.294Z"
   },
   {
    "duration": 19902,
    "start_time": "2023-02-22T01:31:48.315Z"
   },
   {
    "duration": 6,
    "start_time": "2023-02-22T01:32:08.218Z"
   },
   {
    "duration": 14,
    "start_time": "2023-02-22T01:32:08.225Z"
   },
   {
    "duration": 339,
    "start_time": "2023-02-22T01:32:08.240Z"
   },
   {
    "duration": 337,
    "start_time": "2023-02-22T01:32:08.581Z"
   },
   {
    "duration": 18,
    "start_time": "2023-02-22T01:32:08.920Z"
   },
   {
    "duration": 1357,
    "start_time": "2023-02-22T01:32:08.940Z"
   },
   {
    "duration": 8205,
    "start_time": "2023-02-22T01:32:10.299Z"
   },
   {
    "duration": 213,
    "start_time": "2023-02-22T01:32:18.506Z"
   },
   {
    "duration": 193,
    "start_time": "2023-02-22T01:32:18.721Z"
   },
   {
    "duration": 12,
    "start_time": "2023-02-22T01:32:18.916Z"
   },
   {
    "duration": 114,
    "start_time": "2023-02-22T01:32:48.733Z"
   },
   {
    "duration": 253,
    "start_time": "2023-02-22T01:35:48.231Z"
   },
   {
    "duration": 118,
    "start_time": "2023-02-22T01:36:11.444Z"
   },
   {
    "duration": 99,
    "start_time": "2023-02-22T01:36:55.497Z"
   },
   {
    "duration": 26,
    "start_time": "2023-02-22T01:37:21.301Z"
   },
   {
    "duration": 20,
    "start_time": "2023-02-22T01:37:26.655Z"
   },
   {
    "duration": 19,
    "start_time": "2023-02-22T01:37:38.777Z"
   },
   {
    "duration": 8315,
    "start_time": "2023-02-22T01:38:22.991Z"
   },
   {
    "duration": 7381,
    "start_time": "2023-02-22T01:38:41.105Z"
   },
   {
    "duration": 366,
    "start_time": "2023-02-22T01:59:51.090Z"
   },
   {
    "duration": 801,
    "start_time": "2023-02-22T01:59:51.458Z"
   },
   {
    "duration": 19,
    "start_time": "2023-02-22T01:59:52.261Z"
   },
   {
    "duration": 13,
    "start_time": "2023-02-22T01:59:52.281Z"
   },
   {
    "duration": 140,
    "start_time": "2023-02-22T01:59:52.296Z"
   },
   {
    "duration": 283,
    "start_time": "2023-02-22T01:59:52.437Z"
   },
   {
    "duration": 96,
    "start_time": "2023-02-22T01:59:52.722Z"
   },
   {
    "duration": 1521,
    "start_time": "2023-02-22T01:59:52.820Z"
   },
   {
    "duration": 1307,
    "start_time": "2023-02-22T01:59:54.348Z"
   },
   {
    "duration": 6,
    "start_time": "2023-02-22T01:59:55.657Z"
   },
   {
    "duration": 709,
    "start_time": "2023-02-22T01:59:55.664Z"
   },
   {
    "duration": 341,
    "start_time": "2023-02-22T01:59:56.375Z"
   },
   {
    "duration": 432,
    "start_time": "2023-02-22T01:59:56.717Z"
   },
   {
    "duration": 679,
    "start_time": "2023-02-22T01:59:57.152Z"
   },
   {
    "duration": 337,
    "start_time": "2023-02-22T01:59:57.833Z"
   },
   {
    "duration": 20,
    "start_time": "2023-02-22T01:59:58.172Z"
   },
   {
    "duration": 27,
    "start_time": "2023-02-22T01:59:58.194Z"
   },
   {
    "duration": 6,
    "start_time": "2023-02-22T01:59:58.222Z"
   },
   {
    "duration": 249,
    "start_time": "2023-02-22T01:59:58.230Z"
   },
   {
    "duration": 376,
    "start_time": "2023-02-22T01:59:58.481Z"
   },
   {
    "duration": 553,
    "start_time": "2023-02-22T01:59:58.858Z"
   },
   {
    "duration": 394,
    "start_time": "2023-02-22T01:59:59.413Z"
   },
   {
    "duration": 15,
    "start_time": "2023-02-22T01:59:59.808Z"
   },
   {
    "duration": 28,
    "start_time": "2023-02-22T01:59:59.825Z"
   },
   {
    "duration": 185,
    "start_time": "2023-02-22T01:59:59.854Z"
   },
   {
    "duration": 23,
    "start_time": "2023-02-22T02:00:00.041Z"
   },
   {
    "duration": 273,
    "start_time": "2023-02-22T02:00:00.065Z"
   },
   {
    "duration": 267,
    "start_time": "2023-02-22T02:00:00.340Z"
   },
   {
    "duration": 69,
    "start_time": "2023-02-22T02:00:00.610Z"
   },
   {
    "duration": 695,
    "start_time": "2023-02-22T02:00:00.681Z"
   },
   {
    "duration": 283,
    "start_time": "2023-02-22T02:00:01.378Z"
   },
   {
    "duration": 280,
    "start_time": "2023-02-22T02:00:01.662Z"
   },
   {
    "duration": 258,
    "start_time": "2023-02-22T02:00:01.943Z"
   },
   {
    "duration": 500,
    "start_time": "2023-02-22T02:00:02.203Z"
   },
   {
    "duration": 191,
    "start_time": "2023-02-22T02:00:02.705Z"
   },
   {
    "duration": 1436,
    "start_time": "2023-02-22T02:00:02.898Z"
   },
   {
    "duration": 6,
    "start_time": "2023-02-22T02:00:04.335Z"
   },
   {
    "duration": 12,
    "start_time": "2023-02-22T02:00:04.342Z"
   },
   {
    "duration": 24,
    "start_time": "2023-02-22T02:00:04.355Z"
   },
   {
    "duration": 20555,
    "start_time": "2023-02-22T02:00:04.380Z"
   },
   {
    "duration": 11,
    "start_time": "2023-02-22T02:00:24.939Z"
   },
   {
    "duration": 23,
    "start_time": "2023-02-22T02:00:24.951Z"
   },
   {
    "duration": 254,
    "start_time": "2023-02-22T02:00:24.976Z"
   },
   {
    "duration": 426,
    "start_time": "2023-02-22T02:00:25.232Z"
   },
   {
    "duration": 16,
    "start_time": "2023-02-22T02:00:25.659Z"
   },
   {
    "duration": 1425,
    "start_time": "2023-02-22T02:00:25.677Z"
   },
   {
    "duration": 8238,
    "start_time": "2023-02-22T02:00:27.104Z"
   },
   {
    "duration": 221,
    "start_time": "2023-02-22T02:00:35.348Z"
   },
   {
    "duration": 204,
    "start_time": "2023-02-22T02:00:35.570Z"
   },
   {
    "duration": 13,
    "start_time": "2023-02-22T02:00:35.776Z"
   },
   {
    "duration": 123,
    "start_time": "2023-02-22T02:00:35.790Z"
   },
   {
    "duration": 288,
    "start_time": "2023-02-22T02:00:35.915Z"
   },
   {
    "duration": 137,
    "start_time": "2023-02-22T02:01:01.651Z"
   },
   {
    "duration": 22,
    "start_time": "2023-02-22T02:01:51.049Z"
   },
   {
    "duration": 152,
    "start_time": "2023-02-22T02:02:28.158Z"
   },
   {
    "duration": 41,
    "start_time": "2023-02-22T02:03:27.400Z"
   },
   {
    "duration": 45,
    "start_time": "2023-02-22T02:03:34.750Z"
   },
   {
    "duration": 121,
    "start_time": "2023-02-22T02:04:10.332Z"
   },
   {
    "duration": 389,
    "start_time": "2023-02-22T02:04:49.583Z"
   },
   {
    "duration": 837,
    "start_time": "2023-02-22T02:04:49.974Z"
   },
   {
    "duration": 20,
    "start_time": "2023-02-22T02:04:50.812Z"
   },
   {
    "duration": 24,
    "start_time": "2023-02-22T02:04:50.834Z"
   },
   {
    "duration": 137,
    "start_time": "2023-02-22T02:04:50.860Z"
   },
   {
    "duration": 273,
    "start_time": "2023-02-22T02:04:50.999Z"
   },
   {
    "duration": 95,
    "start_time": "2023-02-22T02:04:51.273Z"
   },
   {
    "duration": 1463,
    "start_time": "2023-02-22T02:04:51.369Z"
   },
   {
    "duration": 1321,
    "start_time": "2023-02-22T02:04:52.834Z"
   },
   {
    "duration": 6,
    "start_time": "2023-02-22T02:04:54.156Z"
   },
   {
    "duration": 678,
    "start_time": "2023-02-22T02:04:54.164Z"
   },
   {
    "duration": 339,
    "start_time": "2023-02-22T02:04:54.843Z"
   },
   {
    "duration": 419,
    "start_time": "2023-02-22T02:04:55.184Z"
   },
   {
    "duration": 648,
    "start_time": "2023-02-22T02:04:55.607Z"
   },
   {
    "duration": 334,
    "start_time": "2023-02-22T02:04:56.257Z"
   },
   {
    "duration": 20,
    "start_time": "2023-02-22T02:04:56.593Z"
   },
   {
    "duration": 41,
    "start_time": "2023-02-22T02:04:56.614Z"
   },
   {
    "duration": 8,
    "start_time": "2023-02-22T02:04:56.657Z"
   },
   {
    "duration": 223,
    "start_time": "2023-02-22T02:04:56.667Z"
   },
   {
    "duration": 349,
    "start_time": "2023-02-22T02:04:56.892Z"
   },
   {
    "duration": 540,
    "start_time": "2023-02-22T02:04:57.248Z"
   },
   {
    "duration": 386,
    "start_time": "2023-02-22T02:04:57.790Z"
   },
   {
    "duration": 15,
    "start_time": "2023-02-22T02:04:58.178Z"
   },
   {
    "duration": 23,
    "start_time": "2023-02-22T02:04:58.194Z"
   },
   {
    "duration": 191,
    "start_time": "2023-02-22T02:04:58.219Z"
   },
   {
    "duration": 18,
    "start_time": "2023-02-22T02:04:58.411Z"
   },
   {
    "duration": 258,
    "start_time": "2023-02-22T02:04:58.430Z"
   },
   {
    "duration": 238,
    "start_time": "2023-02-22T02:04:58.689Z"
   },
   {
    "duration": 56,
    "start_time": "2023-02-22T02:04:58.929Z"
   },
   {
    "duration": 655,
    "start_time": "2023-02-22T02:04:58.986Z"
   },
   {
    "duration": 263,
    "start_time": "2023-02-22T02:04:59.642Z"
   },
   {
    "duration": 274,
    "start_time": "2023-02-22T02:04:59.907Z"
   },
   {
    "duration": 258,
    "start_time": "2023-02-22T02:05:00.183Z"
   },
   {
    "duration": 508,
    "start_time": "2023-02-22T02:05:00.442Z"
   },
   {
    "duration": 200,
    "start_time": "2023-02-22T02:05:00.952Z"
   },
   {
    "duration": 1268,
    "start_time": "2023-02-22T02:05:01.154Z"
   },
   {
    "duration": 6,
    "start_time": "2023-02-22T02:05:02.423Z"
   },
   {
    "duration": 24,
    "start_time": "2023-02-22T02:05:02.430Z"
   },
   {
    "duration": 46,
    "start_time": "2023-02-22T02:05:02.456Z"
   },
   {
    "duration": 20536,
    "start_time": "2023-02-22T02:05:02.504Z"
   },
   {
    "duration": 6,
    "start_time": "2023-02-22T02:05:23.043Z"
   },
   {
    "duration": 10,
    "start_time": "2023-02-22T02:05:23.051Z"
   },
   {
    "duration": 238,
    "start_time": "2023-02-22T02:05:23.063Z"
   },
   {
    "duration": 432,
    "start_time": "2023-02-22T02:05:23.303Z"
   },
   {
    "duration": 23,
    "start_time": "2023-02-22T02:05:23.736Z"
   },
   {
    "duration": 1320,
    "start_time": "2023-02-22T02:05:23.761Z"
   },
   {
    "duration": 7995,
    "start_time": "2023-02-22T02:05:25.082Z"
   },
   {
    "duration": 212,
    "start_time": "2023-02-22T02:05:33.079Z"
   },
   {
    "duration": 204,
    "start_time": "2023-02-22T02:05:33.293Z"
   },
   {
    "duration": 11,
    "start_time": "2023-02-22T02:05:33.499Z"
   },
   {
    "duration": 123,
    "start_time": "2023-02-22T02:05:33.512Z"
   },
   {
    "duration": 576,
    "start_time": "2023-02-22T02:05:33.637Z"
   },
   {
    "duration": 197,
    "start_time": "2023-02-22T02:05:34.214Z"
   },
   {
    "duration": 178,
    "start_time": "2023-02-22T02:08:56.640Z"
   },
   {
    "duration": 122,
    "start_time": "2023-02-22T02:14:01.882Z"
   },
   {
    "duration": 408,
    "start_time": "2023-02-22T02:14:15.069Z"
   },
   {
    "duration": 809,
    "start_time": "2023-02-22T02:14:15.479Z"
   },
   {
    "duration": 24,
    "start_time": "2023-02-22T02:14:16.290Z"
   },
   {
    "duration": 16,
    "start_time": "2023-02-22T02:14:16.316Z"
   },
   {
    "duration": 134,
    "start_time": "2023-02-22T02:14:16.348Z"
   },
   {
    "duration": 278,
    "start_time": "2023-02-22T02:14:16.484Z"
   },
   {
    "duration": 97,
    "start_time": "2023-02-22T02:14:16.764Z"
   },
   {
    "duration": 1475,
    "start_time": "2023-02-22T02:14:16.862Z"
   },
   {
    "duration": 1259,
    "start_time": "2023-02-22T02:14:18.339Z"
   },
   {
    "duration": 6,
    "start_time": "2023-02-22T02:14:19.599Z"
   },
   {
    "duration": 735,
    "start_time": "2023-02-22T02:14:19.606Z"
   },
   {
    "duration": 332,
    "start_time": "2023-02-22T02:14:20.343Z"
   },
   {
    "duration": 428,
    "start_time": "2023-02-22T02:14:20.676Z"
   },
   {
    "duration": 635,
    "start_time": "2023-02-22T02:14:21.107Z"
   },
   {
    "duration": 313,
    "start_time": "2023-02-22T02:14:21.744Z"
   },
   {
    "duration": 22,
    "start_time": "2023-02-22T02:14:22.058Z"
   },
   {
    "duration": 20,
    "start_time": "2023-02-22T02:14:22.081Z"
   },
   {
    "duration": 5,
    "start_time": "2023-02-22T02:14:22.102Z"
   },
   {
    "duration": 240,
    "start_time": "2023-02-22T02:14:22.108Z"
   },
   {
    "duration": 348,
    "start_time": "2023-02-22T02:14:22.350Z"
   },
   {
    "duration": 532,
    "start_time": "2023-02-22T02:14:22.700Z"
   },
   {
    "duration": 398,
    "start_time": "2023-02-22T02:14:23.233Z"
   },
   {
    "duration": 19,
    "start_time": "2023-02-22T02:14:23.633Z"
   },
   {
    "duration": 20,
    "start_time": "2023-02-22T02:14:23.653Z"
   },
   {
    "duration": 195,
    "start_time": "2023-02-22T02:14:23.674Z"
   },
   {
    "duration": 17,
    "start_time": "2023-02-22T02:14:23.871Z"
   },
   {
    "duration": 260,
    "start_time": "2023-02-22T02:14:23.890Z"
   },
   {
    "duration": 240,
    "start_time": "2023-02-22T02:14:24.152Z"
   },
   {
    "duration": 55,
    "start_time": "2023-02-22T02:14:24.393Z"
   },
   {
    "duration": 631,
    "start_time": "2023-02-22T02:14:24.450Z"
   },
   {
    "duration": 273,
    "start_time": "2023-02-22T02:14:25.082Z"
   },
   {
    "duration": 258,
    "start_time": "2023-02-22T02:14:25.357Z"
   },
   {
    "duration": 244,
    "start_time": "2023-02-22T02:14:25.617Z"
   },
   {
    "duration": 515,
    "start_time": "2023-02-22T02:14:25.863Z"
   },
   {
    "duration": 208,
    "start_time": "2023-02-22T02:14:26.380Z"
   },
   {
    "duration": 1269,
    "start_time": "2023-02-22T02:14:26.590Z"
   },
   {
    "duration": 6,
    "start_time": "2023-02-22T02:14:27.862Z"
   },
   {
    "duration": 8,
    "start_time": "2023-02-22T02:14:27.870Z"
   },
   {
    "duration": 15,
    "start_time": "2023-02-22T02:14:27.880Z"
   },
   {
    "duration": 21256,
    "start_time": "2023-02-22T02:14:27.897Z"
   },
   {
    "duration": 9,
    "start_time": "2023-02-22T02:14:49.158Z"
   },
   {
    "duration": 9,
    "start_time": "2023-02-22T02:14:49.169Z"
   },
   {
    "duration": 253,
    "start_time": "2023-02-22T02:14:49.180Z"
   },
   {
    "duration": 397,
    "start_time": "2023-02-22T02:14:49.435Z"
   },
   {
    "duration": 20,
    "start_time": "2023-02-22T02:14:49.833Z"
   },
   {
    "duration": 1317,
    "start_time": "2023-02-22T02:14:49.854Z"
   },
   {
    "duration": 7727,
    "start_time": "2023-02-22T02:14:51.172Z"
   },
   {
    "duration": 218,
    "start_time": "2023-02-22T02:14:58.901Z"
   },
   {
    "duration": 202,
    "start_time": "2023-02-22T02:14:59.121Z"
   },
   {
    "duration": 13,
    "start_time": "2023-02-22T02:14:59.325Z"
   },
   {
    "duration": 134,
    "start_time": "2023-02-22T02:14:59.339Z"
   },
   {
    "duration": 290,
    "start_time": "2023-02-22T02:14:59.475Z"
   },
   {
    "duration": 162,
    "start_time": "2023-02-22T02:14:59.766Z"
   },
   {
    "duration": 137,
    "start_time": "2023-02-22T02:14:59.930Z"
   },
   {
    "duration": 13,
    "start_time": "2023-02-22T02:43:58.225Z"
   },
   {
    "duration": 117,
    "start_time": "2023-02-22T02:44:43.105Z"
   },
   {
    "duration": 442,
    "start_time": "2023-02-22T02:44:53.423Z"
   },
   {
    "duration": 805,
    "start_time": "2023-02-22T02:44:53.867Z"
   },
   {
    "duration": 18,
    "start_time": "2023-02-22T02:44:54.674Z"
   },
   {
    "duration": 14,
    "start_time": "2023-02-22T02:44:54.694Z"
   },
   {
    "duration": 151,
    "start_time": "2023-02-22T02:44:54.711Z"
   },
   {
    "duration": 293,
    "start_time": "2023-02-22T02:44:54.864Z"
   },
   {
    "duration": 95,
    "start_time": "2023-02-22T02:44:55.158Z"
   },
   {
    "duration": 1456,
    "start_time": "2023-02-22T02:44:55.255Z"
   },
   {
    "duration": 1419,
    "start_time": "2023-02-22T02:44:56.713Z"
   },
   {
    "duration": 16,
    "start_time": "2023-02-22T02:44:58.134Z"
   },
   {
    "duration": 692,
    "start_time": "2023-02-22T02:44:58.152Z"
   },
   {
    "duration": 383,
    "start_time": "2023-02-22T02:44:58.846Z"
   },
   {
    "duration": 450,
    "start_time": "2023-02-22T02:44:59.230Z"
   },
   {
    "duration": 701,
    "start_time": "2023-02-22T02:44:59.685Z"
   },
   {
    "duration": 350,
    "start_time": "2023-02-22T02:45:00.389Z"
   },
   {
    "duration": 26,
    "start_time": "2023-02-22T02:45:00.741Z"
   },
   {
    "duration": 74,
    "start_time": "2023-02-22T02:45:00.769Z"
   },
   {
    "duration": 39,
    "start_time": "2023-02-22T02:45:00.844Z"
   },
   {
    "duration": 294,
    "start_time": "2023-02-22T02:45:00.884Z"
   },
   {
    "duration": 382,
    "start_time": "2023-02-22T02:45:01.180Z"
   },
   {
    "duration": 588,
    "start_time": "2023-02-22T02:45:01.564Z"
   },
   {
    "duration": 398,
    "start_time": "2023-02-22T02:45:02.153Z"
   },
   {
    "duration": 16,
    "start_time": "2023-02-22T02:45:02.552Z"
   },
   {
    "duration": 39,
    "start_time": "2023-02-22T02:45:02.570Z"
   },
   {
    "duration": 185,
    "start_time": "2023-02-22T02:45:02.611Z"
   },
   {
    "duration": 18,
    "start_time": "2023-02-22T02:45:02.798Z"
   },
   {
    "duration": 270,
    "start_time": "2023-02-22T02:45:02.818Z"
   },
   {
    "duration": 246,
    "start_time": "2023-02-22T02:45:03.090Z"
   },
   {
    "duration": 61,
    "start_time": "2023-02-22T02:45:03.338Z"
   },
   {
    "duration": 682,
    "start_time": "2023-02-22T02:45:03.401Z"
   },
   {
    "duration": 275,
    "start_time": "2023-02-22T02:45:04.084Z"
   },
   {
    "duration": 251,
    "start_time": "2023-02-22T02:45:04.360Z"
   },
   {
    "duration": 250,
    "start_time": "2023-02-22T02:45:04.612Z"
   },
   {
    "duration": 515,
    "start_time": "2023-02-22T02:45:04.864Z"
   },
   {
    "duration": 201,
    "start_time": "2023-02-22T02:45:05.381Z"
   },
   {
    "duration": 1316,
    "start_time": "2023-02-22T02:45:05.583Z"
   },
   {
    "duration": 5,
    "start_time": "2023-02-22T02:45:06.901Z"
   },
   {
    "duration": 16,
    "start_time": "2023-02-22T02:45:06.907Z"
   },
   {
    "duration": 27,
    "start_time": "2023-02-22T02:45:06.924Z"
   },
   {
    "duration": 20186,
    "start_time": "2023-02-22T02:45:06.952Z"
   },
   {
    "duration": 6,
    "start_time": "2023-02-22T02:45:27.142Z"
   },
   {
    "duration": 10,
    "start_time": "2023-02-22T02:45:27.150Z"
   },
   {
    "duration": 237,
    "start_time": "2023-02-22T02:45:27.161Z"
   },
   {
    "duration": 413,
    "start_time": "2023-02-22T02:45:27.399Z"
   },
   {
    "duration": 18,
    "start_time": "2023-02-22T02:45:27.814Z"
   },
   {
    "duration": 1346,
    "start_time": "2023-02-22T02:45:27.834Z"
   },
   {
    "duration": 8143,
    "start_time": "2023-02-22T02:45:29.182Z"
   },
   {
    "duration": 230,
    "start_time": "2023-02-22T02:45:37.327Z"
   },
   {
    "duration": 195,
    "start_time": "2023-02-22T02:45:37.558Z"
   },
   {
    "duration": 12,
    "start_time": "2023-02-22T02:45:37.754Z"
   },
   {
    "duration": 136,
    "start_time": "2023-02-22T02:45:37.768Z"
   },
   {
    "duration": 400,
    "start_time": "2023-02-22T02:45:37.906Z"
   },
   {
    "duration": 0,
    "start_time": "2023-02-22T02:45:38.307Z"
   },
   {
    "duration": 0,
    "start_time": "2023-02-22T02:45:38.309Z"
   },
   {
    "duration": 30,
    "start_time": "2023-02-22T02:46:54.070Z"
   },
   {
    "duration": 429,
    "start_time": "2023-02-22T02:47:12.922Z"
   },
   {
    "duration": 816,
    "start_time": "2023-02-22T02:47:13.353Z"
   },
   {
    "duration": 19,
    "start_time": "2023-02-22T02:47:14.170Z"
   },
   {
    "duration": 20,
    "start_time": "2023-02-22T02:47:14.190Z"
   },
   {
    "duration": 144,
    "start_time": "2023-02-22T02:47:14.212Z"
   },
   {
    "duration": 259,
    "start_time": "2023-02-22T02:47:14.358Z"
   },
   {
    "duration": 89,
    "start_time": "2023-02-22T02:47:14.618Z"
   },
   {
    "duration": 1429,
    "start_time": "2023-02-22T02:47:14.709Z"
   },
   {
    "duration": 1287,
    "start_time": "2023-02-22T02:47:16.140Z"
   },
   {
    "duration": 6,
    "start_time": "2023-02-22T02:47:17.429Z"
   },
   {
    "duration": 723,
    "start_time": "2023-02-22T02:47:17.436Z"
   },
   {
    "duration": 338,
    "start_time": "2023-02-22T02:47:18.161Z"
   },
   {
    "duration": 420,
    "start_time": "2023-02-22T02:47:18.500Z"
   },
   {
    "duration": 670,
    "start_time": "2023-02-22T02:47:18.923Z"
   },
   {
    "duration": 314,
    "start_time": "2023-02-22T02:47:19.595Z"
   },
   {
    "duration": 20,
    "start_time": "2023-02-22T02:47:19.910Z"
   },
   {
    "duration": 29,
    "start_time": "2023-02-22T02:47:19.931Z"
   },
   {
    "duration": 5,
    "start_time": "2023-02-22T02:47:19.962Z"
   },
   {
    "duration": 238,
    "start_time": "2023-02-22T02:47:19.969Z"
   },
   {
    "duration": 354,
    "start_time": "2023-02-22T02:47:20.209Z"
   },
   {
    "duration": 561,
    "start_time": "2023-02-22T02:47:20.564Z"
   },
   {
    "duration": 393,
    "start_time": "2023-02-22T02:47:21.127Z"
   },
   {
    "duration": 14,
    "start_time": "2023-02-22T02:47:21.522Z"
   },
   {
    "duration": 19,
    "start_time": "2023-02-22T02:47:21.538Z"
   },
   {
    "duration": 190,
    "start_time": "2023-02-22T02:47:21.559Z"
   },
   {
    "duration": 17,
    "start_time": "2023-02-22T02:47:21.750Z"
   },
   {
    "duration": 256,
    "start_time": "2023-02-22T02:47:21.768Z"
   },
   {
    "duration": 248,
    "start_time": "2023-02-22T02:47:22.026Z"
   },
   {
    "duration": 52,
    "start_time": "2023-02-22T02:47:22.276Z"
   },
   {
    "duration": 691,
    "start_time": "2023-02-22T02:47:22.329Z"
   },
   {
    "duration": 291,
    "start_time": "2023-02-22T02:47:23.021Z"
   },
   {
    "duration": 298,
    "start_time": "2023-02-22T02:47:23.314Z"
   },
   {
    "duration": 265,
    "start_time": "2023-02-22T02:47:23.614Z"
   },
   {
    "duration": 529,
    "start_time": "2023-02-22T02:47:23.881Z"
   },
   {
    "duration": 190,
    "start_time": "2023-02-22T02:47:24.412Z"
   },
   {
    "duration": 1281,
    "start_time": "2023-02-22T02:47:24.604Z"
   },
   {
    "duration": 5,
    "start_time": "2023-02-22T02:47:25.887Z"
   },
   {
    "duration": 9,
    "start_time": "2023-02-22T02:47:25.894Z"
   },
   {
    "duration": 18,
    "start_time": "2023-02-22T02:47:25.904Z"
   },
   {
    "duration": 29852,
    "start_time": "2023-02-22T02:47:25.923Z"
   },
   {
    "duration": 5,
    "start_time": "2023-02-22T02:47:55.778Z"
   },
   {
    "duration": 12,
    "start_time": "2023-02-22T02:47:55.784Z"
   },
   {
    "duration": 248,
    "start_time": "2023-02-22T02:47:55.797Z"
   },
   {
    "duration": 472,
    "start_time": "2023-02-22T02:47:56.047Z"
   },
   {
    "duration": 18,
    "start_time": "2023-02-22T02:47:56.520Z"
   },
   {
    "duration": 1366,
    "start_time": "2023-02-22T02:47:56.549Z"
   },
   {
    "duration": 8562,
    "start_time": "2023-02-22T02:47:57.916Z"
   },
   {
    "duration": 217,
    "start_time": "2023-02-22T02:48:06.480Z"
   },
   {
    "duration": 186,
    "start_time": "2023-02-22T02:48:06.699Z"
   },
   {
    "duration": 13,
    "start_time": "2023-02-22T02:48:06.886Z"
   },
   {
    "duration": 134,
    "start_time": "2023-02-22T02:48:06.900Z"
   },
   {
    "duration": 320,
    "start_time": "2023-02-22T02:48:07.036Z"
   },
   {
    "duration": 13,
    "start_time": "2023-02-22T02:48:07.358Z"
   },
   {
    "duration": 161,
    "start_time": "2023-02-22T02:48:07.373Z"
   },
   {
    "duration": 162,
    "start_time": "2023-02-22T02:49:13.980Z"
   },
   {
    "duration": 117,
    "start_time": "2023-02-22T02:49:50.466Z"
   },
   {
    "duration": 70,
    "start_time": "2023-02-22T02:50:13.223Z"
   },
   {
    "duration": 69,
    "start_time": "2023-02-22T02:50:40.698Z"
   },
   {
    "duration": 161,
    "start_time": "2023-02-22T02:51:07.053Z"
   },
   {
    "duration": 257,
    "start_time": "2023-02-22T02:52:56.362Z"
   },
   {
    "duration": 164,
    "start_time": "2023-02-22T02:53:24.910Z"
   },
   {
    "duration": 418,
    "start_time": "2023-02-22T02:53:36.770Z"
   },
   {
    "duration": 921,
    "start_time": "2023-02-22T02:53:37.190Z"
   },
   {
    "duration": 18,
    "start_time": "2023-02-22T02:53:38.112Z"
   },
   {
    "duration": 28,
    "start_time": "2023-02-22T02:53:38.132Z"
   },
   {
    "duration": 158,
    "start_time": "2023-02-22T02:53:38.162Z"
   },
   {
    "duration": 318,
    "start_time": "2023-02-22T02:53:38.321Z"
   },
   {
    "duration": 112,
    "start_time": "2023-02-22T02:53:38.640Z"
   },
   {
    "duration": 1691,
    "start_time": "2023-02-22T02:53:38.755Z"
   },
   {
    "duration": 1452,
    "start_time": "2023-02-22T02:53:40.449Z"
   },
   {
    "duration": 6,
    "start_time": "2023-02-22T02:53:41.904Z"
   },
   {
    "duration": 817,
    "start_time": "2023-02-22T02:53:41.911Z"
   },
   {
    "duration": 381,
    "start_time": "2023-02-22T02:53:42.730Z"
   },
   {
    "duration": 487,
    "start_time": "2023-02-22T02:53:43.114Z"
   },
   {
    "duration": 727,
    "start_time": "2023-02-22T02:53:43.603Z"
   },
   {
    "duration": 359,
    "start_time": "2023-02-22T02:53:44.332Z"
   },
   {
    "duration": 22,
    "start_time": "2023-02-22T02:53:44.693Z"
   },
   {
    "duration": 32,
    "start_time": "2023-02-22T02:53:44.717Z"
   },
   {
    "duration": 7,
    "start_time": "2023-02-22T02:53:44.752Z"
   },
   {
    "duration": 257,
    "start_time": "2023-02-22T02:53:44.761Z"
   },
   {
    "duration": 446,
    "start_time": "2023-02-22T02:53:45.020Z"
   },
   {
    "duration": 614,
    "start_time": "2023-02-22T02:53:45.467Z"
   },
   {
    "duration": 466,
    "start_time": "2023-02-22T02:53:46.083Z"
   },
   {
    "duration": 21,
    "start_time": "2023-02-22T02:53:46.551Z"
   },
   {
    "duration": 19,
    "start_time": "2023-02-22T02:53:46.573Z"
   },
   {
    "duration": 208,
    "start_time": "2023-02-22T02:53:46.594Z"
   },
   {
    "duration": 17,
    "start_time": "2023-02-22T02:53:46.804Z"
   },
   {
    "duration": 293,
    "start_time": "2023-02-22T02:53:46.823Z"
   },
   {
    "duration": 280,
    "start_time": "2023-02-22T02:53:47.119Z"
   },
   {
    "duration": 70,
    "start_time": "2023-02-22T02:53:47.400Z"
   },
   {
    "duration": 723,
    "start_time": "2023-02-22T02:53:47.472Z"
   },
   {
    "duration": 289,
    "start_time": "2023-02-22T02:53:48.196Z"
   },
   {
    "duration": 274,
    "start_time": "2023-02-22T02:53:48.487Z"
   },
   {
    "duration": 264,
    "start_time": "2023-02-22T02:53:48.764Z"
   },
   {
    "duration": 562,
    "start_time": "2023-02-22T02:53:49.029Z"
   },
   {
    "duration": 233,
    "start_time": "2023-02-22T02:53:49.593Z"
   },
   {
    "duration": 1496,
    "start_time": "2023-02-22T02:53:49.827Z"
   },
   {
    "duration": 5,
    "start_time": "2023-02-22T02:53:51.325Z"
   },
   {
    "duration": 8,
    "start_time": "2023-02-22T02:53:51.331Z"
   },
   {
    "duration": 30,
    "start_time": "2023-02-22T02:53:51.340Z"
   },
   {
    "duration": 29942,
    "start_time": "2023-02-22T02:53:51.372Z"
   },
   {
    "duration": 5,
    "start_time": "2023-02-22T02:54:21.316Z"
   },
   {
    "duration": 21,
    "start_time": "2023-02-22T02:54:21.323Z"
   },
   {
    "duration": 432,
    "start_time": "2023-02-22T02:54:21.346Z"
   },
   {
    "duration": 333,
    "start_time": "2023-02-22T02:54:21.780Z"
   },
   {
    "duration": 18,
    "start_time": "2023-02-22T02:54:22.114Z"
   },
   {
    "duration": 1509,
    "start_time": "2023-02-22T02:54:22.133Z"
   },
   {
    "duration": 9399,
    "start_time": "2023-02-22T02:54:23.648Z"
   },
   {
    "duration": 321,
    "start_time": "2023-02-22T02:54:33.049Z"
   },
   {
    "duration": 25,
    "start_time": "2023-02-22T02:54:33.372Z"
   },
   {
    "duration": 219,
    "start_time": "2023-02-22T02:54:33.399Z"
   },
   {
    "duration": 699,
    "start_time": "2023-02-22T02:54:33.620Z"
   },
   {
    "duration": 30,
    "start_time": "2023-02-22T02:54:34.321Z"
   },
   {
    "duration": 334,
    "start_time": "2023-02-22T02:54:34.352Z"
   },
   {
    "duration": 125,
    "start_time": "2023-02-22T02:54:34.688Z"
   },
   {
    "duration": 383,
    "start_time": "2023-02-22T03:10:03.113Z"
   },
   {
    "duration": 119,
    "start_time": "2023-02-22T03:10:19.813Z"
   },
   {
    "duration": 134,
    "start_time": "2023-02-22T03:10:30.693Z"
   },
   {
    "duration": 13,
    "start_time": "2023-02-22T03:13:36.632Z"
   },
   {
    "duration": 1540,
    "start_time": "2023-02-22T03:15:04.471Z"
   },
   {
    "duration": 24,
    "start_time": "2023-02-22T03:15:28.517Z"
   },
   {
    "duration": 79,
    "start_time": "2023-02-22T03:15:31.735Z"
   },
   {
    "duration": 201,
    "start_time": "2023-02-22T03:16:08.417Z"
   },
   {
    "duration": 313,
    "start_time": "2023-02-22T03:17:03.632Z"
   },
   {
    "duration": 121,
    "start_time": "2023-02-22T03:17:24.316Z"
   },
   {
    "duration": 149,
    "start_time": "2023-02-22T03:18:03.267Z"
   },
   {
    "duration": 37,
    "start_time": "2023-02-22T03:18:18.598Z"
   },
   {
    "duration": 1283,
    "start_time": "2023-02-22T03:19:06.138Z"
   },
   {
    "duration": 9,
    "start_time": "2023-02-22T03:32:22.058Z"
   },
   {
    "duration": 135,
    "start_time": "2023-02-22T03:32:46.251Z"
   },
   {
    "duration": 127,
    "start_time": "2023-02-22T03:39:09.229Z"
   },
   {
    "duration": 188,
    "start_time": "2023-02-22T03:39:27.363Z"
   },
   {
    "duration": 67,
    "start_time": "2023-02-22T03:40:02.987Z"
   },
   {
    "duration": 48,
    "start_time": "2023-02-22T03:41:11.452Z"
   },
   {
    "duration": 5,
    "start_time": "2023-02-22T03:41:15.516Z"
   },
   {
    "duration": 103,
    "start_time": "2023-02-22T03:41:18.548Z"
   },
   {
    "duration": 60,
    "start_time": "2023-02-22T03:42:49.404Z"
   },
   {
    "duration": 53,
    "start_time": "2023-02-22T03:43:05.211Z"
   },
   {
    "duration": 9,
    "start_time": "2023-02-22T03:44:57.411Z"
   },
   {
    "duration": 10,
    "start_time": "2023-02-22T03:45:02.436Z"
   },
   {
    "duration": 11,
    "start_time": "2023-02-22T03:45:12.520Z"
   },
   {
    "duration": 25,
    "start_time": "2023-02-22T03:45:37.743Z"
   },
   {
    "duration": 87,
    "start_time": "2023-02-22T03:46:45.268Z"
   },
   {
    "duration": 18,
    "start_time": "2023-02-22T03:46:47.113Z"
   },
   {
    "duration": 3,
    "start_time": "2023-02-22T03:46:50.440Z"
   },
   {
    "duration": 52,
    "start_time": "2023-02-22T03:46:50.967Z"
   },
   {
    "duration": 16,
    "start_time": "2023-02-22T03:46:52.186Z"
   },
   {
    "duration": 11,
    "start_time": "2023-02-22T03:46:53.312Z"
   },
   {
    "duration": 4,
    "start_time": "2023-02-22T03:48:46.141Z"
   },
   {
    "duration": 20,
    "start_time": "2023-02-22T03:49:00.573Z"
   },
   {
    "duration": 17,
    "start_time": "2023-02-22T03:52:01.191Z"
   },
   {
    "duration": 3,
    "start_time": "2023-02-22T03:55:35.171Z"
   },
   {
    "duration": 1692,
    "start_time": "2023-02-22T03:55:36.157Z"
   },
   {
    "duration": 1696,
    "start_time": "2023-02-22T03:56:16.560Z"
   },
   {
    "duration": 5628,
    "start_time": "2023-02-22T03:56:33.830Z"
   },
   {
    "duration": 9,
    "start_time": "2023-02-22T03:57:08.060Z"
   },
   {
    "duration": 9,
    "start_time": "2023-02-22T03:57:17.466Z"
   },
   {
    "duration": 897,
    "start_time": "2023-02-22T03:57:37.261Z"
   },
   {
    "duration": 23,
    "start_time": "2023-02-22T03:57:39.211Z"
   },
   {
    "duration": 145,
    "start_time": "2023-02-22T03:57:51.813Z"
   },
   {
    "duration": 16,
    "start_time": "2023-02-22T03:57:55.723Z"
   },
   {
    "duration": 1754,
    "start_time": "2023-02-22T03:58:00.408Z"
   },
   {
    "duration": 186,
    "start_time": "2023-02-22T03:58:02.164Z"
   },
   {
    "duration": 2577,
    "start_time": "2023-02-22T03:58:06.281Z"
   },
   {
    "duration": 46,
    "start_time": "2023-02-22T03:58:09.904Z"
   },
   {
    "duration": 5158,
    "start_time": "2023-02-22T03:58:17.994Z"
   },
   {
    "duration": 74,
    "start_time": "2023-02-22T03:58:24.576Z"
   },
   {
    "duration": 1590,
    "start_time": "2023-02-22T03:58:31.760Z"
   },
   {
    "duration": 23,
    "start_time": "2023-02-22T03:58:35.104Z"
   },
   {
    "duration": 399,
    "start_time": "2023-02-22T04:04:55.709Z"
   },
   {
    "duration": 871,
    "start_time": "2023-02-22T04:04:56.110Z"
   },
   {
    "duration": 20,
    "start_time": "2023-02-22T04:04:56.982Z"
   },
   {
    "duration": 13,
    "start_time": "2023-02-22T04:04:57.004Z"
   },
   {
    "duration": 151,
    "start_time": "2023-02-22T04:04:57.018Z"
   },
   {
    "duration": 306,
    "start_time": "2023-02-22T04:04:57.171Z"
   },
   {
    "duration": 110,
    "start_time": "2023-02-22T04:04:57.479Z"
   },
   {
    "duration": 1488,
    "start_time": "2023-02-22T04:04:57.592Z"
   },
   {
    "duration": 1349,
    "start_time": "2023-02-22T04:04:59.082Z"
   },
   {
    "duration": 16,
    "start_time": "2023-02-22T04:05:00.435Z"
   },
   {
    "duration": 816,
    "start_time": "2023-02-22T04:05:00.453Z"
   },
   {
    "duration": 347,
    "start_time": "2023-02-22T04:05:01.270Z"
   },
   {
    "duration": 469,
    "start_time": "2023-02-22T04:05:01.619Z"
   },
   {
    "duration": 675,
    "start_time": "2023-02-22T04:05:02.090Z"
   },
   {
    "duration": 334,
    "start_time": "2023-02-22T04:05:02.767Z"
   },
   {
    "duration": 22,
    "start_time": "2023-02-22T04:05:03.102Z"
   },
   {
    "duration": 32,
    "start_time": "2023-02-22T04:05:03.126Z"
   },
   {
    "duration": 5,
    "start_time": "2023-02-22T04:05:03.160Z"
   },
   {
    "duration": 246,
    "start_time": "2023-02-22T04:05:03.166Z"
   },
   {
    "duration": 399,
    "start_time": "2023-02-22T04:05:03.413Z"
   },
   {
    "duration": 557,
    "start_time": "2023-02-22T04:05:03.813Z"
   },
   {
    "duration": 403,
    "start_time": "2023-02-22T04:05:04.372Z"
   },
   {
    "duration": 17,
    "start_time": "2023-02-22T04:05:04.776Z"
   },
   {
    "duration": 28,
    "start_time": "2023-02-22T04:05:04.794Z"
   },
   {
    "duration": 190,
    "start_time": "2023-02-22T04:05:04.823Z"
   },
   {
    "duration": 19,
    "start_time": "2023-02-22T04:05:05.015Z"
   },
   {
    "duration": 287,
    "start_time": "2023-02-22T04:05:05.036Z"
   },
   {
    "duration": 253,
    "start_time": "2023-02-22T04:05:05.327Z"
   },
   {
    "duration": 70,
    "start_time": "2023-02-22T04:05:05.581Z"
   },
   {
    "duration": 781,
    "start_time": "2023-02-22T04:05:05.653Z"
   },
   {
    "duration": 295,
    "start_time": "2023-02-22T04:05:06.436Z"
   },
   {
    "duration": 257,
    "start_time": "2023-02-22T04:05:06.733Z"
   },
   {
    "duration": 263,
    "start_time": "2023-02-22T04:05:06.992Z"
   },
   {
    "duration": 524,
    "start_time": "2023-02-22T04:05:07.256Z"
   },
   {
    "duration": 231,
    "start_time": "2023-02-22T04:05:07.782Z"
   },
   {
    "duration": 1391,
    "start_time": "2023-02-22T04:05:08.014Z"
   },
   {
    "duration": 6,
    "start_time": "2023-02-22T04:05:09.407Z"
   },
   {
    "duration": 7,
    "start_time": "2023-02-22T04:05:09.414Z"
   },
   {
    "duration": 38,
    "start_time": "2023-02-22T04:05:09.422Z"
   },
   {
    "duration": 20635,
    "start_time": "2023-02-22T04:05:09.461Z"
   },
   {
    "duration": 5,
    "start_time": "2023-02-22T04:05:30.098Z"
   },
   {
    "duration": 17,
    "start_time": "2023-02-22T04:05:30.105Z"
   },
   {
    "duration": 378,
    "start_time": "2023-02-22T04:05:30.124Z"
   },
   {
    "duration": 358,
    "start_time": "2023-02-22T04:05:30.503Z"
   },
   {
    "duration": 19,
    "start_time": "2023-02-22T04:05:30.863Z"
   },
   {
    "duration": 1552,
    "start_time": "2023-02-22T04:05:30.883Z"
   },
   {
    "duration": 8320,
    "start_time": "2023-02-22T04:05:32.436Z"
   },
   {
    "duration": 220,
    "start_time": "2023-02-22T04:05:40.758Z"
   },
   {
    "duration": 23,
    "start_time": "2023-02-22T04:05:40.980Z"
   },
   {
    "duration": 161,
    "start_time": "2023-02-22T04:05:41.005Z"
   },
   {
    "duration": 613,
    "start_time": "2023-02-22T04:05:41.168Z"
   },
   {
    "duration": 23,
    "start_time": "2023-02-22T04:05:41.783Z"
   },
   {
    "duration": 214,
    "start_time": "2023-02-22T04:05:41.808Z"
   },
   {
    "duration": 130,
    "start_time": "2023-02-22T04:05:42.024Z"
   },
   {
    "duration": 15,
    "start_time": "2023-02-22T04:05:42.156Z"
   },
   {
    "duration": 1468,
    "start_time": "2023-02-22T04:05:42.173Z"
   },
   {
    "duration": 112,
    "start_time": "2023-02-22T04:05:43.643Z"
   },
   {
    "duration": 1184,
    "start_time": "2023-02-22T04:05:43.757Z"
   },
   {
    "duration": 124,
    "start_time": "2023-02-22T04:05:44.943Z"
   },
   {
    "duration": 41,
    "start_time": "2023-02-22T04:05:45.070Z"
   },
   {
    "duration": 78,
    "start_time": "2023-02-22T04:05:45.113Z"
   },
   {
    "duration": 59,
    "start_time": "2023-02-22T04:05:45.193Z"
   },
   {
    "duration": 109,
    "start_time": "2023-02-22T04:05:45.255Z"
   },
   {
    "duration": 4,
    "start_time": "2023-02-22T04:05:45.450Z"
   },
   {
    "duration": 2013,
    "start_time": "2023-02-22T04:05:45.455Z"
   },
   {
    "duration": 104,
    "start_time": "2023-02-22T04:05:47.549Z"
   },
   {
    "duration": 3,
    "start_time": "2023-02-22T04:54:54.447Z"
   },
   {
    "duration": 455,
    "start_time": "2023-02-22T05:01:57.618Z"
   },
   {
    "duration": 865,
    "start_time": "2023-02-22T05:01:58.075Z"
   },
   {
    "duration": 18,
    "start_time": "2023-02-22T05:01:58.948Z"
   },
   {
    "duration": 27,
    "start_time": "2023-02-22T05:01:58.968Z"
   },
   {
    "duration": 147,
    "start_time": "2023-02-22T05:01:58.997Z"
   },
   {
    "duration": 309,
    "start_time": "2023-02-22T05:01:59.145Z"
   },
   {
    "duration": 101,
    "start_time": "2023-02-22T05:01:59.456Z"
   },
   {
    "duration": 1591,
    "start_time": "2023-02-22T05:01:59.559Z"
   },
   {
    "duration": 1417,
    "start_time": "2023-02-22T05:02:01.152Z"
   },
   {
    "duration": 7,
    "start_time": "2023-02-22T05:02:02.570Z"
   },
   {
    "duration": 794,
    "start_time": "2023-02-22T05:02:02.578Z"
   },
   {
    "duration": 380,
    "start_time": "2023-02-22T05:02:03.373Z"
   },
   {
    "duration": 461,
    "start_time": "2023-02-22T05:02:03.755Z"
   },
   {
    "duration": 698,
    "start_time": "2023-02-22T05:02:04.220Z"
   },
   {
    "duration": 352,
    "start_time": "2023-02-22T05:02:04.920Z"
   },
   {
    "duration": 20,
    "start_time": "2023-02-22T05:02:05.274Z"
   },
   {
    "duration": 23,
    "start_time": "2023-02-22T05:02:05.295Z"
   },
   {
    "duration": 10,
    "start_time": "2023-02-22T05:02:05.319Z"
   },
   {
    "duration": 254,
    "start_time": "2023-02-22T05:02:05.331Z"
   },
   {
    "duration": 404,
    "start_time": "2023-02-22T05:02:05.587Z"
   },
   {
    "duration": 631,
    "start_time": "2023-02-22T05:02:05.993Z"
   },
   {
    "duration": 418,
    "start_time": "2023-02-22T05:02:06.626Z"
   },
   {
    "duration": 19,
    "start_time": "2023-02-22T05:02:07.046Z"
   },
   {
    "duration": 21,
    "start_time": "2023-02-22T05:02:07.066Z"
   },
   {
    "duration": 194,
    "start_time": "2023-02-22T05:02:07.088Z"
   },
   {
    "duration": 18,
    "start_time": "2023-02-22T05:02:07.283Z"
   },
   {
    "duration": 306,
    "start_time": "2023-02-22T05:02:07.303Z"
   },
   {
    "duration": 280,
    "start_time": "2023-02-22T05:02:07.611Z"
   },
   {
    "duration": 63,
    "start_time": "2023-02-22T05:02:07.893Z"
   },
   {
    "duration": 701,
    "start_time": "2023-02-22T05:02:07.958Z"
   },
   {
    "duration": 290,
    "start_time": "2023-02-22T05:02:08.661Z"
   },
   {
    "duration": 289,
    "start_time": "2023-02-22T05:02:08.953Z"
   },
   {
    "duration": 267,
    "start_time": "2023-02-22T05:02:09.249Z"
   },
   {
    "duration": 537,
    "start_time": "2023-02-22T05:02:09.517Z"
   },
   {
    "duration": 216,
    "start_time": "2023-02-22T05:02:10.056Z"
   },
   {
    "duration": 1346,
    "start_time": "2023-02-22T05:02:10.274Z"
   },
   {
    "duration": 7,
    "start_time": "2023-02-22T05:02:11.623Z"
   },
   {
    "duration": 21,
    "start_time": "2023-02-22T05:02:11.632Z"
   },
   {
    "duration": 18,
    "start_time": "2023-02-22T05:02:11.655Z"
   },
   {
    "duration": 18796,
    "start_time": "2023-02-22T05:02:11.674Z"
   },
   {
    "duration": 10,
    "start_time": "2023-02-22T05:02:30.475Z"
   },
   {
    "duration": 52,
    "start_time": "2023-02-22T05:02:30.486Z"
   },
   {
    "duration": 285,
    "start_time": "2023-02-22T05:02:30.540Z"
   },
   {
    "duration": 478,
    "start_time": "2023-02-22T05:02:30.828Z"
   },
   {
    "duration": 17,
    "start_time": "2023-02-22T05:02:31.307Z"
   },
   {
    "duration": 1444,
    "start_time": "2023-02-22T05:02:31.326Z"
   },
   {
    "duration": 8487,
    "start_time": "2023-02-22T05:02:32.772Z"
   },
   {
    "duration": 226,
    "start_time": "2023-02-22T05:02:41.261Z"
   },
   {
    "duration": 26,
    "start_time": "2023-02-22T05:02:41.489Z"
   },
   {
    "duration": 163,
    "start_time": "2023-02-22T05:02:41.517Z"
   },
   {
    "duration": 587,
    "start_time": "2023-02-22T05:02:41.682Z"
   },
   {
    "duration": 21,
    "start_time": "2023-02-22T05:02:42.270Z"
   },
   {
    "duration": 194,
    "start_time": "2023-02-22T05:02:42.293Z"
   },
   {
    "duration": 121,
    "start_time": "2023-02-22T05:02:42.489Z"
   },
   {
    "duration": 13,
    "start_time": "2023-02-22T05:02:42.611Z"
   },
   {
    "duration": 1461,
    "start_time": "2023-02-22T05:02:42.626Z"
   },
   {
    "duration": 115,
    "start_time": "2023-02-22T05:02:44.089Z"
   },
   {
    "duration": 1191,
    "start_time": "2023-02-22T05:02:44.206Z"
   },
   {
    "duration": 126,
    "start_time": "2023-02-22T05:02:45.398Z"
   },
   {
    "duration": 45,
    "start_time": "2023-02-22T05:02:45.526Z"
   },
   {
    "duration": 92,
    "start_time": "2023-02-22T05:02:45.572Z"
   },
   {
    "duration": 90,
    "start_time": "2023-02-22T05:02:45.666Z"
   },
   {
    "duration": 104,
    "start_time": "2023-02-22T05:02:45.758Z"
   },
   {
    "duration": 87,
    "start_time": "2023-02-22T05:02:45.864Z"
   },
   {
    "duration": 1597,
    "start_time": "2023-02-22T05:02:45.953Z"
   },
   {
    "duration": 102,
    "start_time": "2023-02-22T05:02:47.551Z"
   },
   {
    "duration": 372,
    "start_time": "2023-02-22T05:30:33.893Z"
   },
   {
    "duration": 755,
    "start_time": "2023-02-22T05:30:34.266Z"
   },
   {
    "duration": 20,
    "start_time": "2023-02-22T05:30:35.023Z"
   },
   {
    "duration": 15,
    "start_time": "2023-02-22T05:30:35.049Z"
   },
   {
    "duration": 142,
    "start_time": "2023-02-22T05:30:35.067Z"
   },
   {
    "duration": 272,
    "start_time": "2023-02-22T05:30:35.210Z"
   },
   {
    "duration": 97,
    "start_time": "2023-02-22T05:30:35.484Z"
   },
   {
    "duration": 1557,
    "start_time": "2023-02-22T05:30:35.583Z"
   },
   {
    "duration": 1331,
    "start_time": "2023-02-22T05:30:37.142Z"
   },
   {
    "duration": 7,
    "start_time": "2023-02-22T05:30:38.474Z"
   },
   {
    "duration": 719,
    "start_time": "2023-02-22T05:30:38.483Z"
   },
   {
    "duration": 361,
    "start_time": "2023-02-22T05:30:39.204Z"
   },
   {
    "duration": 470,
    "start_time": "2023-02-22T05:30:39.567Z"
   },
   {
    "duration": 727,
    "start_time": "2023-02-22T05:30:40.048Z"
   },
   {
    "duration": 325,
    "start_time": "2023-02-22T05:30:40.777Z"
   },
   {
    "duration": 30,
    "start_time": "2023-02-22T05:30:41.104Z"
   },
   {
    "duration": 25,
    "start_time": "2023-02-22T05:30:41.136Z"
   },
   {
    "duration": 4,
    "start_time": "2023-02-22T05:30:41.163Z"
   },
   {
    "duration": 249,
    "start_time": "2023-02-22T05:30:41.169Z"
   },
   {
    "duration": 397,
    "start_time": "2023-02-22T05:30:41.419Z"
   },
   {
    "duration": 602,
    "start_time": "2023-02-22T05:30:41.818Z"
   },
   {
    "duration": 398,
    "start_time": "2023-02-22T05:30:42.422Z"
   },
   {
    "duration": 15,
    "start_time": "2023-02-22T05:30:42.822Z"
   },
   {
    "duration": 57,
    "start_time": "2023-02-22T05:30:42.838Z"
   },
   {
    "duration": 182,
    "start_time": "2023-02-22T05:30:42.896Z"
   },
   {
    "duration": 17,
    "start_time": "2023-02-22T05:30:43.079Z"
   },
   {
    "duration": 260,
    "start_time": "2023-02-22T05:30:43.097Z"
   },
   {
    "duration": 277,
    "start_time": "2023-02-22T05:30:43.358Z"
   },
   {
    "duration": 56,
    "start_time": "2023-02-22T05:30:43.637Z"
   },
   {
    "duration": 705,
    "start_time": "2023-02-22T05:30:43.694Z"
   },
   {
    "duration": 276,
    "start_time": "2023-02-22T05:30:44.401Z"
   },
   {
    "duration": 265,
    "start_time": "2023-02-22T05:30:44.680Z"
   },
   {
    "duration": 269,
    "start_time": "2023-02-22T05:30:44.947Z"
   },
   {
    "duration": 522,
    "start_time": "2023-02-22T05:30:45.219Z"
   },
   {
    "duration": 228,
    "start_time": "2023-02-22T05:30:45.742Z"
   },
   {
    "duration": 1421,
    "start_time": "2023-02-22T05:30:45.972Z"
   },
   {
    "duration": 5,
    "start_time": "2023-02-22T05:30:47.395Z"
   },
   {
    "duration": 8,
    "start_time": "2023-02-22T05:30:47.402Z"
   },
   {
    "duration": 20,
    "start_time": "2023-02-22T05:30:47.412Z"
   },
   {
    "duration": 39550,
    "start_time": "2023-02-22T05:30:47.449Z"
   },
   {
    "duration": 6,
    "start_time": "2023-02-22T05:31:27.003Z"
   },
   {
    "duration": 14,
    "start_time": "2023-02-22T05:31:27.010Z"
   },
   {
    "duration": 225,
    "start_time": "2023-02-22T05:31:27.025Z"
   },
   {
    "duration": 482,
    "start_time": "2023-02-22T05:31:27.252Z"
   },
   {
    "duration": 30,
    "start_time": "2023-02-22T05:31:27.737Z"
   },
   {
    "duration": 1520,
    "start_time": "2023-02-22T05:31:27.768Z"
   },
   {
    "duration": 8256,
    "start_time": "2023-02-22T05:31:29.290Z"
   },
   {
    "duration": 255,
    "start_time": "2023-02-22T05:31:37.548Z"
   },
   {
    "duration": 28,
    "start_time": "2023-02-22T05:31:37.805Z"
   },
   {
    "duration": 154,
    "start_time": "2023-02-22T05:31:37.848Z"
   },
   {
    "duration": 574,
    "start_time": "2023-02-22T05:31:38.003Z"
   },
   {
    "duration": 21,
    "start_time": "2023-02-22T05:31:38.579Z"
   },
   {
    "duration": 197,
    "start_time": "2023-02-22T05:31:38.601Z"
   },
   {
    "duration": 113,
    "start_time": "2023-02-22T05:31:38.800Z"
   },
   {
    "duration": 19,
    "start_time": "2023-02-22T05:31:38.915Z"
   },
   {
    "duration": 1440,
    "start_time": "2023-02-22T05:31:38.936Z"
   },
   {
    "duration": 104,
    "start_time": "2023-02-22T05:31:40.377Z"
   },
   {
    "duration": 1171,
    "start_time": "2023-02-22T05:31:40.482Z"
   },
   {
    "duration": 122,
    "start_time": "2023-02-22T05:31:41.654Z"
   },
   {
    "duration": 51,
    "start_time": "2023-02-22T05:31:41.778Z"
   },
   {
    "duration": 75,
    "start_time": "2023-02-22T05:31:41.831Z"
   },
   {
    "duration": 13,
    "start_time": "2023-02-22T05:31:41.950Z"
   },
   {
    "duration": 188,
    "start_time": "2023-02-22T05:31:41.966Z"
   },
   {
    "duration": 194,
    "start_time": "2023-02-22T05:31:42.156Z"
   },
   {
    "duration": 1504,
    "start_time": "2023-02-22T05:31:42.352Z"
   },
   {
    "duration": 99,
    "start_time": "2023-02-22T05:31:43.858Z"
   },
   {
    "duration": 27905,
    "start_time": "2023-02-22T05:31:43.959Z"
   },
   {
    "duration": 26445,
    "start_time": "2023-02-22T05:32:22.084Z"
   },
   {
    "duration": 10661,
    "start_time": "2023-02-22T05:33:10.977Z"
   },
   {
    "duration": 26021,
    "start_time": "2023-02-22T05:33:37.069Z"
   },
   {
    "duration": 836,
    "start_time": "2023-02-22T05:37:25.995Z"
   },
   {
    "duration": 365,
    "start_time": "2023-02-22T05:37:38.600Z"
   },
   {
    "duration": 2966,
    "start_time": "2023-02-22T05:37:38.967Z"
   },
   {
    "duration": 18,
    "start_time": "2023-02-22T05:37:41.934Z"
   },
   {
    "duration": 13,
    "start_time": "2023-02-22T05:37:41.954Z"
   },
   {
    "duration": 141,
    "start_time": "2023-02-22T05:37:41.969Z"
   },
   {
    "duration": 280,
    "start_time": "2023-02-22T05:37:42.112Z"
   },
   {
    "duration": 92,
    "start_time": "2023-02-22T05:37:42.394Z"
   },
   {
    "duration": 1516,
    "start_time": "2023-02-22T05:37:42.487Z"
   },
   {
    "duration": 1302,
    "start_time": "2023-02-22T05:37:44.005Z"
   },
   {
    "duration": 8,
    "start_time": "2023-02-22T05:37:45.309Z"
   },
   {
    "duration": 738,
    "start_time": "2023-02-22T05:37:45.318Z"
   },
   {
    "duration": 388,
    "start_time": "2023-02-22T05:37:46.058Z"
   },
   {
    "duration": 440,
    "start_time": "2023-02-22T05:37:46.449Z"
   },
   {
    "duration": 698,
    "start_time": "2023-02-22T05:37:46.892Z"
   },
   {
    "duration": 338,
    "start_time": "2023-02-22T05:37:47.592Z"
   },
   {
    "duration": 28,
    "start_time": "2023-02-22T05:37:47.933Z"
   },
   {
    "duration": 20,
    "start_time": "2023-02-22T05:37:47.963Z"
   },
   {
    "duration": 6,
    "start_time": "2023-02-22T05:37:47.984Z"
   },
   {
    "duration": 245,
    "start_time": "2023-02-22T05:37:47.991Z"
   },
   {
    "duration": 359,
    "start_time": "2023-02-22T05:37:48.238Z"
   },
   {
    "duration": 555,
    "start_time": "2023-02-22T05:37:48.598Z"
   },
   {
    "duration": 402,
    "start_time": "2023-02-22T05:37:49.155Z"
   },
   {
    "duration": 15,
    "start_time": "2023-02-22T05:37:49.559Z"
   },
   {
    "duration": 17,
    "start_time": "2023-02-22T05:37:49.575Z"
   },
   {
    "duration": 191,
    "start_time": "2023-02-22T05:37:49.594Z"
   },
   {
    "duration": 17,
    "start_time": "2023-02-22T05:37:49.787Z"
   },
   {
    "duration": 283,
    "start_time": "2023-02-22T05:37:49.806Z"
   },
   {
    "duration": 261,
    "start_time": "2023-02-22T05:37:50.092Z"
   },
   {
    "duration": 55,
    "start_time": "2023-02-22T05:37:50.354Z"
   },
   {
    "duration": 704,
    "start_time": "2023-02-22T05:37:50.410Z"
   },
   {
    "duration": 281,
    "start_time": "2023-02-22T05:37:51.116Z"
   },
   {
    "duration": 270,
    "start_time": "2023-02-22T05:37:51.398Z"
   },
   {
    "duration": 265,
    "start_time": "2023-02-22T05:37:51.670Z"
   },
   {
    "duration": 496,
    "start_time": "2023-02-22T05:37:51.936Z"
   },
   {
    "duration": 213,
    "start_time": "2023-02-22T05:37:52.433Z"
   },
   {
    "duration": 1302,
    "start_time": "2023-02-22T05:37:52.648Z"
   },
   {
    "duration": 5,
    "start_time": "2023-02-22T05:37:53.952Z"
   },
   {
    "duration": 7,
    "start_time": "2023-02-22T05:37:53.959Z"
   },
   {
    "duration": 19,
    "start_time": "2023-02-22T05:37:53.967Z"
   },
   {
    "duration": 23104,
    "start_time": "2023-02-22T05:37:53.988Z"
   },
   {
    "duration": 5,
    "start_time": "2023-02-22T05:38:17.096Z"
   },
   {
    "duration": 15,
    "start_time": "2023-02-22T05:38:17.103Z"
   },
   {
    "duration": 215,
    "start_time": "2023-02-22T05:38:17.120Z"
   },
   {
    "duration": 451,
    "start_time": "2023-02-22T05:38:17.336Z"
   },
   {
    "duration": 18,
    "start_time": "2023-02-22T05:38:17.789Z"
   },
   {
    "duration": 1333,
    "start_time": "2023-02-22T05:38:17.808Z"
   },
   {
    "duration": 8299,
    "start_time": "2023-02-22T05:38:19.148Z"
   },
   {
    "duration": 224,
    "start_time": "2023-02-22T05:38:27.449Z"
   },
   {
    "duration": 23,
    "start_time": "2023-02-22T05:38:27.674Z"
   },
   {
    "duration": 158,
    "start_time": "2023-02-22T05:38:27.698Z"
   },
   {
    "duration": 588,
    "start_time": "2023-02-22T05:38:27.857Z"
   },
   {
    "duration": 25,
    "start_time": "2023-02-22T05:38:28.446Z"
   },
   {
    "duration": 200,
    "start_time": "2023-02-22T05:38:28.473Z"
   },
   {
    "duration": 119,
    "start_time": "2023-02-22T05:38:28.675Z"
   },
   {
    "duration": 12,
    "start_time": "2023-02-22T05:38:28.796Z"
   },
   {
    "duration": 1470,
    "start_time": "2023-02-22T05:38:28.810Z"
   },
   {
    "duration": 104,
    "start_time": "2023-02-22T05:38:30.282Z"
   },
   {
    "duration": 1194,
    "start_time": "2023-02-22T05:38:30.387Z"
   },
   {
    "duration": 104,
    "start_time": "2023-02-22T05:38:31.582Z"
   },
   {
    "duration": 63,
    "start_time": "2023-02-22T05:38:31.688Z"
   },
   {
    "duration": 103,
    "start_time": "2023-02-22T05:38:31.753Z"
   },
   {
    "duration": 94,
    "start_time": "2023-02-22T05:38:31.857Z"
   },
   {
    "duration": 129,
    "start_time": "2023-02-22T05:38:31.956Z"
   },
   {
    "duration": 64,
    "start_time": "2023-02-22T05:38:32.087Z"
   },
   {
    "duration": 1900,
    "start_time": "2023-02-22T05:38:32.158Z"
   },
   {
    "duration": 190,
    "start_time": "2023-02-22T05:38:34.060Z"
   },
   {
    "duration": 412,
    "start_time": "2023-02-22T05:38:56.945Z"
   },
   {
    "duration": 2957,
    "start_time": "2023-02-22T05:38:57.359Z"
   },
   {
    "duration": 20,
    "start_time": "2023-02-22T05:39:00.318Z"
   },
   {
    "duration": 16,
    "start_time": "2023-02-22T05:39:00.340Z"
   },
   {
    "duration": 145,
    "start_time": "2023-02-22T05:39:00.358Z"
   },
   {
    "duration": 289,
    "start_time": "2023-02-22T05:39:00.505Z"
   },
   {
    "duration": 101,
    "start_time": "2023-02-22T05:39:00.796Z"
   },
   {
    "duration": 1521,
    "start_time": "2023-02-22T05:39:00.898Z"
   },
   {
    "duration": 1292,
    "start_time": "2023-02-22T05:39:02.421Z"
   },
   {
    "duration": 6,
    "start_time": "2023-02-22T05:39:03.715Z"
   },
   {
    "duration": 745,
    "start_time": "2023-02-22T05:39:03.723Z"
   },
   {
    "duration": 336,
    "start_time": "2023-02-22T05:39:04.469Z"
   },
   {
    "duration": 450,
    "start_time": "2023-02-22T05:39:04.806Z"
   },
   {
    "duration": 635,
    "start_time": "2023-02-22T05:39:05.258Z"
   },
   {
    "duration": 328,
    "start_time": "2023-02-22T05:39:05.895Z"
   },
   {
    "duration": 28,
    "start_time": "2023-02-22T05:39:06.225Z"
   },
   {
    "duration": 27,
    "start_time": "2023-02-22T05:39:06.255Z"
   },
   {
    "duration": 15,
    "start_time": "2023-02-22T05:39:06.285Z"
   },
   {
    "duration": 273,
    "start_time": "2023-02-22T05:39:06.302Z"
   },
   {
    "duration": 374,
    "start_time": "2023-02-22T05:39:06.576Z"
   },
   {
    "duration": 548,
    "start_time": "2023-02-22T05:39:06.952Z"
   },
   {
    "duration": 410,
    "start_time": "2023-02-22T05:39:07.502Z"
   },
   {
    "duration": 15,
    "start_time": "2023-02-22T05:39:07.913Z"
   },
   {
    "duration": 34,
    "start_time": "2023-02-22T05:39:07.930Z"
   },
   {
    "duration": 185,
    "start_time": "2023-02-22T05:39:07.966Z"
   },
   {
    "duration": 18,
    "start_time": "2023-02-22T05:39:08.153Z"
   },
   {
    "duration": 269,
    "start_time": "2023-02-22T05:39:08.173Z"
   },
   {
    "duration": 244,
    "start_time": "2023-02-22T05:39:08.443Z"
   },
   {
    "duration": 50,
    "start_time": "2023-02-22T05:39:08.689Z"
   },
   {
    "duration": 679,
    "start_time": "2023-02-22T05:39:08.749Z"
   },
   {
    "duration": 261,
    "start_time": "2023-02-22T05:39:09.430Z"
   },
   {
    "duration": 264,
    "start_time": "2023-02-22T05:39:09.692Z"
   },
   {
    "duration": 263,
    "start_time": "2023-02-22T05:39:09.958Z"
   },
   {
    "duration": 488,
    "start_time": "2023-02-22T05:39:10.222Z"
   },
   {
    "duration": 208,
    "start_time": "2023-02-22T05:39:10.712Z"
   },
   {
    "duration": 1296,
    "start_time": "2023-02-22T05:39:10.922Z"
   },
   {
    "duration": 6,
    "start_time": "2023-02-22T05:39:12.220Z"
   },
   {
    "duration": 21,
    "start_time": "2023-02-22T05:39:12.228Z"
   },
   {
    "duration": 15,
    "start_time": "2023-02-22T05:39:12.251Z"
   },
   {
    "duration": 20272,
    "start_time": "2023-02-22T05:39:12.268Z"
   },
   {
    "duration": 8,
    "start_time": "2023-02-22T05:39:32.544Z"
   },
   {
    "duration": 11,
    "start_time": "2023-02-22T05:39:32.554Z"
   },
   {
    "duration": 238,
    "start_time": "2023-02-22T05:39:32.567Z"
   },
   {
    "duration": 433,
    "start_time": "2023-02-22T05:39:32.807Z"
   },
   {
    "duration": 22,
    "start_time": "2023-02-22T05:39:33.242Z"
   },
   {
    "duration": 1354,
    "start_time": "2023-02-22T05:39:33.266Z"
   },
   {
    "duration": 8204,
    "start_time": "2023-02-22T05:39:34.622Z"
   },
   {
    "duration": 210,
    "start_time": "2023-02-22T05:39:42.827Z"
   },
   {
    "duration": 29,
    "start_time": "2023-02-22T05:39:43.039Z"
   },
   {
    "duration": 149,
    "start_time": "2023-02-22T05:39:43.069Z"
   },
   {
    "duration": 588,
    "start_time": "2023-02-22T05:39:43.220Z"
   },
   {
    "duration": 29,
    "start_time": "2023-02-22T05:39:43.811Z"
   },
   {
    "duration": 202,
    "start_time": "2023-02-22T05:39:43.841Z"
   },
   {
    "duration": 119,
    "start_time": "2023-02-22T05:39:44.048Z"
   },
   {
    "duration": 12,
    "start_time": "2023-02-22T05:39:44.169Z"
   },
   {
    "duration": 1435,
    "start_time": "2023-02-22T05:39:44.182Z"
   },
   {
    "duration": 99,
    "start_time": "2023-02-22T05:39:45.618Z"
   },
   {
    "duration": 1200,
    "start_time": "2023-02-22T05:39:45.719Z"
   },
   {
    "duration": 108,
    "start_time": "2023-02-22T05:39:46.920Z"
   },
   {
    "duration": 64,
    "start_time": "2023-02-22T05:39:47.030Z"
   },
   {
    "duration": 72,
    "start_time": "2023-02-22T05:39:47.096Z"
   },
   {
    "duration": 81,
    "start_time": "2023-02-22T05:39:47.170Z"
   },
   {
    "duration": 101,
    "start_time": "2023-02-22T05:39:47.252Z"
   },
   {
    "duration": 98,
    "start_time": "2023-02-22T05:39:47.355Z"
   },
   {
    "duration": 1603,
    "start_time": "2023-02-22T05:39:47.455Z"
   },
   {
    "duration": 193,
    "start_time": "2023-02-22T05:39:49.060Z"
   },
   {
    "duration": 399,
    "start_time": "2023-02-22T05:43:22.392Z"
   },
   {
    "duration": 2921,
    "start_time": "2023-02-22T05:43:22.793Z"
   },
   {
    "duration": 20,
    "start_time": "2023-02-22T05:43:25.716Z"
   },
   {
    "duration": 13,
    "start_time": "2023-02-22T05:43:25.738Z"
   },
   {
    "duration": 150,
    "start_time": "2023-02-22T05:43:25.753Z"
   },
   {
    "duration": 286,
    "start_time": "2023-02-22T05:43:25.905Z"
   },
   {
    "duration": 138,
    "start_time": "2023-02-22T05:43:26.192Z"
   },
   {
    "duration": 1520,
    "start_time": "2023-02-22T05:43:26.332Z"
   },
   {
    "duration": 1317,
    "start_time": "2023-02-22T05:43:27.853Z"
   },
   {
    "duration": 10,
    "start_time": "2023-02-22T05:43:29.172Z"
   },
   {
    "duration": 811,
    "start_time": "2023-02-22T05:43:29.185Z"
   },
   {
    "duration": 345,
    "start_time": "2023-02-22T05:43:29.998Z"
   },
   {
    "duration": 427,
    "start_time": "2023-02-22T05:43:30.349Z"
   },
   {
    "duration": 685,
    "start_time": "2023-02-22T05:43:30.779Z"
   },
   {
    "duration": 328,
    "start_time": "2023-02-22T05:43:31.465Z"
   },
   {
    "duration": 20,
    "start_time": "2023-02-22T05:43:31.794Z"
   },
   {
    "duration": 23,
    "start_time": "2023-02-22T05:43:31.816Z"
   },
   {
    "duration": 11,
    "start_time": "2023-02-22T05:43:31.849Z"
   },
   {
    "duration": 228,
    "start_time": "2023-02-22T05:43:31.862Z"
   },
   {
    "duration": 396,
    "start_time": "2023-02-22T05:43:32.092Z"
   },
   {
    "duration": 574,
    "start_time": "2023-02-22T05:43:32.490Z"
   },
   {
    "duration": 429,
    "start_time": "2023-02-22T05:43:33.066Z"
   },
   {
    "duration": 15,
    "start_time": "2023-02-22T05:43:33.497Z"
   },
   {
    "duration": 39,
    "start_time": "2023-02-22T05:43:33.515Z"
   },
   {
    "duration": 183,
    "start_time": "2023-02-22T05:43:33.556Z"
   },
   {
    "duration": 24,
    "start_time": "2023-02-22T05:43:33.740Z"
   },
   {
    "duration": 259,
    "start_time": "2023-02-22T05:43:33.766Z"
   },
   {
    "duration": 250,
    "start_time": "2023-02-22T05:43:34.027Z"
   },
   {
    "duration": 54,
    "start_time": "2023-02-22T05:43:34.279Z"
   },
   {
    "duration": 652,
    "start_time": "2023-02-22T05:43:34.335Z"
   },
   {
    "duration": 278,
    "start_time": "2023-02-22T05:43:34.989Z"
   },
   {
    "duration": 259,
    "start_time": "2023-02-22T05:43:35.269Z"
   },
   {
    "duration": 263,
    "start_time": "2023-02-22T05:43:35.529Z"
   },
   {
    "duration": 500,
    "start_time": "2023-02-22T05:43:35.794Z"
   },
   {
    "duration": 258,
    "start_time": "2023-02-22T05:43:36.296Z"
   },
   {
    "duration": 1238,
    "start_time": "2023-02-22T05:43:36.556Z"
   },
   {
    "duration": 5,
    "start_time": "2023-02-22T05:43:37.796Z"
   },
   {
    "duration": 7,
    "start_time": "2023-02-22T05:43:37.803Z"
   },
   {
    "duration": 38,
    "start_time": "2023-02-22T05:43:37.811Z"
   },
   {
    "duration": 19142,
    "start_time": "2023-02-22T05:43:37.851Z"
   },
   {
    "duration": 10,
    "start_time": "2023-02-22T05:43:56.998Z"
   },
   {
    "duration": 12,
    "start_time": "2023-02-22T05:43:57.009Z"
   },
   {
    "duration": 260,
    "start_time": "2023-02-22T05:43:57.022Z"
   },
   {
    "duration": 479,
    "start_time": "2023-02-22T05:43:57.284Z"
   },
   {
    "duration": 18,
    "start_time": "2023-02-22T05:43:57.765Z"
   },
   {
    "duration": 1385,
    "start_time": "2023-02-22T05:43:57.785Z"
   },
   {
    "duration": 8402,
    "start_time": "2023-02-22T05:43:59.172Z"
   },
   {
    "duration": 222,
    "start_time": "2023-02-22T05:44:07.576Z"
   },
   {
    "duration": 23,
    "start_time": "2023-02-22T05:44:07.799Z"
   },
   {
    "duration": 162,
    "start_time": "2023-02-22T05:44:07.823Z"
   },
   {
    "duration": 577,
    "start_time": "2023-02-22T05:44:07.986Z"
   },
   {
    "duration": 21,
    "start_time": "2023-02-22T05:44:08.565Z"
   },
   {
    "duration": 199,
    "start_time": "2023-02-22T05:44:08.587Z"
   },
   {
    "duration": 114,
    "start_time": "2023-02-22T05:44:08.788Z"
   },
   {
    "duration": 26,
    "start_time": "2023-02-22T05:44:08.904Z"
   },
   {
    "duration": 1467,
    "start_time": "2023-02-22T05:44:08.931Z"
   },
   {
    "duration": 104,
    "start_time": "2023-02-22T05:44:10.400Z"
   },
   {
    "duration": 1187,
    "start_time": "2023-02-22T05:44:10.507Z"
   },
   {
    "duration": 110,
    "start_time": "2023-02-22T05:44:11.696Z"
   },
   {
    "duration": 64,
    "start_time": "2023-02-22T05:44:11.808Z"
   },
   {
    "duration": 104,
    "start_time": "2023-02-22T05:44:11.873Z"
   },
   {
    "duration": 171,
    "start_time": "2023-02-22T05:44:11.979Z"
   },
   {
    "duration": 102,
    "start_time": "2023-02-22T05:44:12.153Z"
   },
   {
    "duration": 195,
    "start_time": "2023-02-22T05:44:12.257Z"
   },
   {
    "duration": 2803,
    "start_time": "2023-02-22T05:44:12.454Z"
   },
   {
    "duration": 100,
    "start_time": "2023-02-22T05:44:15.258Z"
   },
   {
    "duration": 1838,
    "start_time": "2023-02-22T05:44:15.360Z"
   },
   {
    "duration": 111,
    "start_time": "2023-02-22T05:44:17.200Z"
   },
   {
    "duration": 418,
    "start_time": "2023-02-22T05:45:03.713Z"
   },
   {
    "duration": 2988,
    "start_time": "2023-02-22T05:45:04.133Z"
   },
   {
    "duration": 19,
    "start_time": "2023-02-22T05:45:07.123Z"
   },
   {
    "duration": 18,
    "start_time": "2023-02-22T05:45:07.144Z"
   },
   {
    "duration": 149,
    "start_time": "2023-02-22T05:45:07.164Z"
   },
   {
    "duration": 289,
    "start_time": "2023-02-22T05:45:07.315Z"
   },
   {
    "duration": 96,
    "start_time": "2023-02-22T05:45:07.605Z"
   },
   {
    "duration": 1525,
    "start_time": "2023-02-22T05:45:07.702Z"
   },
   {
    "duration": 1361,
    "start_time": "2023-02-22T05:45:09.229Z"
   },
   {
    "duration": 7,
    "start_time": "2023-02-22T05:45:10.592Z"
   },
   {
    "duration": 776,
    "start_time": "2023-02-22T05:45:10.600Z"
   },
   {
    "duration": 324,
    "start_time": "2023-02-22T05:45:11.379Z"
   },
   {
    "duration": 415,
    "start_time": "2023-02-22T05:45:11.705Z"
   },
   {
    "duration": 640,
    "start_time": "2023-02-22T05:45:12.123Z"
   },
   {
    "duration": 323,
    "start_time": "2023-02-22T05:45:12.764Z"
   },
   {
    "duration": 18,
    "start_time": "2023-02-22T05:45:13.089Z"
   },
   {
    "duration": 20,
    "start_time": "2023-02-22T05:45:13.108Z"
   },
   {
    "duration": 22,
    "start_time": "2023-02-22T05:45:13.130Z"
   },
   {
    "duration": 243,
    "start_time": "2023-02-22T05:45:13.153Z"
   },
   {
    "duration": 389,
    "start_time": "2023-02-22T05:45:13.398Z"
   },
   {
    "duration": 587,
    "start_time": "2023-02-22T05:45:13.789Z"
   },
   {
    "duration": 429,
    "start_time": "2023-02-22T05:45:14.377Z"
   },
   {
    "duration": 16,
    "start_time": "2023-02-22T05:45:14.808Z"
   },
   {
    "duration": 39,
    "start_time": "2023-02-22T05:45:14.826Z"
   },
   {
    "duration": 187,
    "start_time": "2023-02-22T05:45:14.866Z"
   },
   {
    "duration": 22,
    "start_time": "2023-02-22T05:45:15.055Z"
   },
   {
    "duration": 275,
    "start_time": "2023-02-22T05:45:15.079Z"
   },
   {
    "duration": 264,
    "start_time": "2023-02-22T05:45:15.356Z"
   },
   {
    "duration": 64,
    "start_time": "2023-02-22T05:45:15.622Z"
   },
   {
    "duration": 697,
    "start_time": "2023-02-22T05:45:15.688Z"
   },
   {
    "duration": 302,
    "start_time": "2023-02-22T05:45:16.387Z"
   },
   {
    "duration": 304,
    "start_time": "2023-02-22T05:45:16.691Z"
   },
   {
    "duration": 275,
    "start_time": "2023-02-22T05:45:16.997Z"
   },
   {
    "duration": 540,
    "start_time": "2023-02-22T05:45:17.274Z"
   },
   {
    "duration": 224,
    "start_time": "2023-02-22T05:45:17.815Z"
   },
   {
    "duration": 1334,
    "start_time": "2023-02-22T05:45:18.041Z"
   },
   {
    "duration": 6,
    "start_time": "2023-02-22T05:45:19.377Z"
   },
   {
    "duration": 9,
    "start_time": "2023-02-22T05:45:19.384Z"
   },
   {
    "duration": 18,
    "start_time": "2023-02-22T05:45:19.394Z"
   },
   {
    "duration": 19254,
    "start_time": "2023-02-22T05:45:19.414Z"
   },
   {
    "duration": 6,
    "start_time": "2023-02-22T05:45:38.672Z"
   },
   {
    "duration": 27,
    "start_time": "2023-02-22T05:45:38.680Z"
   },
   {
    "duration": 242,
    "start_time": "2023-02-22T05:45:38.709Z"
   },
   {
    "duration": 452,
    "start_time": "2023-02-22T05:45:38.953Z"
   },
   {
    "duration": 19,
    "start_time": "2023-02-22T05:45:39.407Z"
   },
   {
    "duration": 1401,
    "start_time": "2023-02-22T05:45:39.428Z"
   },
   {
    "duration": 8325,
    "start_time": "2023-02-22T05:45:40.831Z"
   },
   {
    "duration": 233,
    "start_time": "2023-02-22T05:45:49.158Z"
   },
   {
    "duration": 28,
    "start_time": "2023-02-22T05:45:49.393Z"
   },
   {
    "duration": 162,
    "start_time": "2023-02-22T05:45:49.422Z"
   },
   {
    "duration": 570,
    "start_time": "2023-02-22T05:45:49.585Z"
   },
   {
    "duration": 22,
    "start_time": "2023-02-22T05:45:50.157Z"
   },
   {
    "duration": 199,
    "start_time": "2023-02-22T05:45:50.181Z"
   },
   {
    "duration": 131,
    "start_time": "2023-02-22T05:45:50.382Z"
   },
   {
    "duration": 13,
    "start_time": "2023-02-22T05:45:50.515Z"
   },
   {
    "duration": 1490,
    "start_time": "2023-02-22T05:45:50.530Z"
   },
   {
    "duration": 103,
    "start_time": "2023-02-22T05:45:52.021Z"
   },
   {
    "duration": 1170,
    "start_time": "2023-02-22T05:45:52.126Z"
   },
   {
    "duration": 134,
    "start_time": "2023-02-22T05:45:53.297Z"
   },
   {
    "duration": 65,
    "start_time": "2023-02-22T05:45:53.433Z"
   },
   {
    "duration": 69,
    "start_time": "2023-02-22T05:45:53.499Z"
   },
   {
    "duration": 85,
    "start_time": "2023-02-22T05:45:53.569Z"
   },
   {
    "duration": 194,
    "start_time": "2023-02-22T05:45:53.656Z"
   },
   {
    "duration": 102,
    "start_time": "2023-02-22T05:45:53.853Z"
   },
   {
    "duration": 1599,
    "start_time": "2023-02-22T05:45:53.956Z"
   },
   {
    "duration": 103,
    "start_time": "2023-02-22T05:45:55.557Z"
   },
   {
    "duration": 1853,
    "start_time": "2023-02-22T05:45:55.661Z"
   },
   {
    "duration": 357,
    "start_time": "2023-02-22T05:47:02.806Z"
   },
   {
    "duration": 2962,
    "start_time": "2023-02-22T05:47:03.165Z"
   },
   {
    "duration": 18,
    "start_time": "2023-02-22T05:47:06.129Z"
   },
   {
    "duration": 14,
    "start_time": "2023-02-22T05:47:06.149Z"
   },
   {
    "duration": 189,
    "start_time": "2023-02-22T05:47:06.164Z"
   },
   {
    "duration": 302,
    "start_time": "2023-02-22T05:47:06.355Z"
   },
   {
    "duration": 102,
    "start_time": "2023-02-22T05:47:06.659Z"
   },
   {
    "duration": 1512,
    "start_time": "2023-02-22T05:47:06.762Z"
   },
   {
    "duration": 1361,
    "start_time": "2023-02-22T05:47:08.278Z"
   },
   {
    "duration": 14,
    "start_time": "2023-02-22T05:47:09.640Z"
   },
   {
    "duration": 821,
    "start_time": "2023-02-22T05:47:09.656Z"
   },
   {
    "duration": 349,
    "start_time": "2023-02-22T05:47:10.479Z"
   },
   {
    "duration": 430,
    "start_time": "2023-02-22T05:47:10.830Z"
   },
   {
    "duration": 666,
    "start_time": "2023-02-22T05:47:11.262Z"
   },
   {
    "duration": 334,
    "start_time": "2023-02-22T05:47:11.930Z"
   },
   {
    "duration": 19,
    "start_time": "2023-02-22T05:47:12.266Z"
   },
   {
    "duration": 20,
    "start_time": "2023-02-22T05:47:12.288Z"
   },
   {
    "duration": 5,
    "start_time": "2023-02-22T05:47:12.309Z"
   },
   {
    "duration": 250,
    "start_time": "2023-02-22T05:47:12.316Z"
   },
   {
    "duration": 362,
    "start_time": "2023-02-22T05:47:12.568Z"
   },
   {
    "duration": 555,
    "start_time": "2023-02-22T05:47:12.932Z"
   },
   {
    "duration": 430,
    "start_time": "2023-02-22T05:47:13.489Z"
   },
   {
    "duration": 16,
    "start_time": "2023-02-22T05:47:13.921Z"
   },
   {
    "duration": 16,
    "start_time": "2023-02-22T05:47:13.949Z"
   },
   {
    "duration": 192,
    "start_time": "2023-02-22T05:47:13.967Z"
   },
   {
    "duration": 17,
    "start_time": "2023-02-22T05:47:14.161Z"
   },
   {
    "duration": 260,
    "start_time": "2023-02-22T05:47:14.180Z"
   },
   {
    "duration": 239,
    "start_time": "2023-02-22T05:47:14.447Z"
   },
   {
    "duration": 62,
    "start_time": "2023-02-22T05:47:14.687Z"
   },
   {
    "duration": 713,
    "start_time": "2023-02-22T05:47:14.751Z"
   },
   {
    "duration": 282,
    "start_time": "2023-02-22T05:47:15.466Z"
   },
   {
    "duration": 251,
    "start_time": "2023-02-22T05:47:15.750Z"
   },
   {
    "duration": 248,
    "start_time": "2023-02-22T05:47:16.002Z"
   },
   {
    "duration": 539,
    "start_time": "2023-02-22T05:47:16.251Z"
   },
   {
    "duration": 213,
    "start_time": "2023-02-22T05:47:16.791Z"
   },
   {
    "duration": 1312,
    "start_time": "2023-02-22T05:47:17.005Z"
   },
   {
    "duration": 6,
    "start_time": "2023-02-22T05:47:18.318Z"
   },
   {
    "duration": 7,
    "start_time": "2023-02-22T05:47:18.325Z"
   },
   {
    "duration": 29,
    "start_time": "2023-02-22T05:47:18.333Z"
   },
   {
    "duration": 19151,
    "start_time": "2023-02-22T05:47:18.364Z"
   },
   {
    "duration": 9,
    "start_time": "2023-02-22T05:47:37.517Z"
   },
   {
    "duration": 10,
    "start_time": "2023-02-22T05:47:37.528Z"
   },
   {
    "duration": 334,
    "start_time": "2023-02-22T05:47:37.549Z"
   },
   {
    "duration": 351,
    "start_time": "2023-02-22T05:47:37.885Z"
   },
   {
    "duration": 27,
    "start_time": "2023-02-22T05:47:38.238Z"
   },
   {
    "duration": 1354,
    "start_time": "2023-02-22T05:47:38.267Z"
   },
   {
    "duration": 8142,
    "start_time": "2023-02-22T05:47:39.623Z"
   },
   {
    "duration": 231,
    "start_time": "2023-02-22T05:47:47.766Z"
   },
   {
    "duration": 23,
    "start_time": "2023-02-22T05:47:47.998Z"
   },
   {
    "duration": 166,
    "start_time": "2023-02-22T05:47:48.023Z"
   },
   {
    "duration": 563,
    "start_time": "2023-02-22T05:47:48.191Z"
   },
   {
    "duration": 21,
    "start_time": "2023-02-22T05:47:48.758Z"
   },
   {
    "duration": 197,
    "start_time": "2023-02-22T05:47:48.781Z"
   },
   {
    "duration": 116,
    "start_time": "2023-02-22T05:47:48.980Z"
   },
   {
    "duration": 12,
    "start_time": "2023-02-22T05:47:49.098Z"
   },
   {
    "duration": 1493,
    "start_time": "2023-02-22T05:47:49.114Z"
   },
   {
    "duration": 110,
    "start_time": "2023-02-22T05:47:50.608Z"
   },
   {
    "duration": 1151,
    "start_time": "2023-02-22T05:47:50.720Z"
   },
   {
    "duration": 120,
    "start_time": "2023-02-22T05:47:51.873Z"
   },
   {
    "duration": 64,
    "start_time": "2023-02-22T05:47:51.995Z"
   },
   {
    "duration": 116,
    "start_time": "2023-02-22T05:47:56.734Z"
   },
   {
    "duration": 67,
    "start_time": "2023-02-22T05:47:59.086Z"
   },
   {
    "duration": 91,
    "start_time": "2023-02-22T05:48:00.365Z"
   },
   {
    "duration": 63,
    "start_time": "2023-02-22T05:48:01.592Z"
   },
   {
    "duration": 55,
    "start_time": "2023-02-22T05:48:06.030Z"
   },
   {
    "duration": 94,
    "start_time": "2023-02-22T05:48:07.255Z"
   },
   {
    "duration": 3,
    "start_time": "2023-02-22T05:48:09.224Z"
   },
   {
    "duration": 89,
    "start_time": "2023-02-22T05:48:10.162Z"
   },
   {
    "duration": 4,
    "start_time": "2023-02-22T05:48:11.872Z"
   },
   {
    "duration": 54,
    "start_time": "2023-02-22T05:48:11.910Z"
   },
   {
    "duration": 56,
    "start_time": "2023-02-22T05:48:58.924Z"
   },
   {
    "duration": 53,
    "start_time": "2023-02-22T05:49:10.721Z"
   },
   {
    "duration": 66,
    "start_time": "2023-02-22T05:49:12.184Z"
   },
   {
    "duration": 53,
    "start_time": "2023-02-22T05:49:13.440Z"
   },
   {
    "duration": 55,
    "start_time": "2023-02-22T05:49:15.394Z"
   },
   {
    "duration": 65,
    "start_time": "2023-02-22T05:49:16.400Z"
   },
   {
    "duration": 88,
    "start_time": "2023-02-22T05:49:17.465Z"
   },
   {
    "duration": 61,
    "start_time": "2023-02-22T05:49:18.507Z"
   },
   {
    "duration": 55,
    "start_time": "2023-02-22T05:49:19.528Z"
   },
   {
    "duration": 4,
    "start_time": "2023-02-22T05:49:22.800Z"
   },
   {
    "duration": 62,
    "start_time": "2023-02-22T05:49:23.619Z"
   },
   {
    "duration": 3,
    "start_time": "2023-02-22T05:49:24.945Z"
   },
   {
    "duration": 62,
    "start_time": "2023-02-22T05:49:25.505Z"
   },
   {
    "duration": 3,
    "start_time": "2023-02-22T05:49:26.578Z"
   },
   {
    "duration": 98,
    "start_time": "2023-02-22T05:49:27.160Z"
   },
   {
    "duration": 73,
    "start_time": "2023-02-22T05:50:46.842Z"
   },
   {
    "duration": 4,
    "start_time": "2023-02-22T05:50:47.947Z"
   },
   {
    "duration": 59,
    "start_time": "2023-02-22T05:50:50.595Z"
   },
   {
    "duration": 68,
    "start_time": "2023-02-22T05:50:53.098Z"
   },
   {
    "duration": 3,
    "start_time": "2023-02-22T05:50:53.780Z"
   },
   {
    "duration": 77,
    "start_time": "2023-02-22T05:50:54.572Z"
   },
   {
    "duration": 12,
    "start_time": "2023-02-22T05:51:03.416Z"
   },
   {
    "duration": 101,
    "start_time": "2023-02-22T05:51:12.952Z"
   },
   {
    "duration": 9,
    "start_time": "2023-02-22T05:51:14.160Z"
   },
   {
    "duration": 68,
    "start_time": "2023-02-22T05:51:17.007Z"
   },
   {
    "duration": 9,
    "start_time": "2023-02-22T05:51:18.188Z"
   },
   {
    "duration": 54,
    "start_time": "2023-02-22T05:51:19.746Z"
   },
   {
    "duration": 12,
    "start_time": "2023-02-22T05:51:20.139Z"
   },
   {
    "duration": 12,
    "start_time": "2023-02-22T05:51:27.552Z"
   },
   {
    "duration": 4,
    "start_time": "2023-02-22T05:51:29.424Z"
   },
   {
    "duration": 1662,
    "start_time": "2023-02-22T05:51:30.888Z"
   },
   {
    "duration": 87,
    "start_time": "2023-02-22T05:51:33.967Z"
   },
   {
    "duration": 22,
    "start_time": "2023-02-22T05:51:53.685Z"
   },
   {
    "duration": 17897,
    "start_time": "2023-02-22T05:53:06.141Z"
   },
   {
    "duration": 169,
    "start_time": "2023-02-22T05:53:33.632Z"
   },
   {
    "duration": 119,
    "start_time": "2023-02-22T05:55:45.944Z"
   },
   {
    "duration": 6294,
    "start_time": "2023-02-22T05:56:04.973Z"
   },
   {
    "duration": 81,
    "start_time": "2023-02-22T05:56:15.820Z"
   },
   {
    "duration": 12,
    "start_time": "2023-02-22T05:57:31.482Z"
   },
   {
    "duration": 415,
    "start_time": "2023-02-22T06:03:24.272Z"
   },
   {
    "duration": 910,
    "start_time": "2023-02-22T06:03:24.689Z"
   },
   {
    "duration": 20,
    "start_time": "2023-02-22T06:03:25.601Z"
   },
   {
    "duration": 27,
    "start_time": "2023-02-22T06:03:25.623Z"
   },
   {
    "duration": 160,
    "start_time": "2023-02-22T06:03:25.652Z"
   },
   {
    "duration": 314,
    "start_time": "2023-02-22T06:03:25.814Z"
   },
   {
    "duration": 120,
    "start_time": "2023-02-22T06:03:26.130Z"
   },
   {
    "duration": 1682,
    "start_time": "2023-02-22T06:03:26.254Z"
   },
   {
    "duration": 1421,
    "start_time": "2023-02-22T06:03:27.939Z"
   },
   {
    "duration": 7,
    "start_time": "2023-02-22T06:03:29.361Z"
   },
   {
    "duration": 801,
    "start_time": "2023-02-22T06:03:29.370Z"
   },
   {
    "duration": 382,
    "start_time": "2023-02-22T06:03:30.173Z"
   },
   {
    "duration": 508,
    "start_time": "2023-02-22T06:03:30.557Z"
   },
   {
    "duration": 771,
    "start_time": "2023-02-22T06:03:31.069Z"
   },
   {
    "duration": 370,
    "start_time": "2023-02-22T06:03:31.842Z"
   },
   {
    "duration": 22,
    "start_time": "2023-02-22T06:03:32.214Z"
   },
   {
    "duration": 22,
    "start_time": "2023-02-22T06:03:32.249Z"
   },
   {
    "duration": 14,
    "start_time": "2023-02-22T06:03:32.273Z"
   },
   {
    "duration": 281,
    "start_time": "2023-02-22T06:03:32.289Z"
   },
   {
    "duration": 418,
    "start_time": "2023-02-22T06:03:32.572Z"
   },
   {
    "duration": 632,
    "start_time": "2023-02-22T06:03:32.992Z"
   },
   {
    "duration": 462,
    "start_time": "2023-02-22T06:03:33.627Z"
   },
   {
    "duration": 17,
    "start_time": "2023-02-22T06:03:34.090Z"
   },
   {
    "duration": 23,
    "start_time": "2023-02-22T06:03:34.109Z"
   },
   {
    "duration": 200,
    "start_time": "2023-02-22T06:03:34.150Z"
   },
   {
    "duration": 19,
    "start_time": "2023-02-22T06:03:34.352Z"
   },
   {
    "duration": 296,
    "start_time": "2023-02-22T06:03:34.373Z"
   },
   {
    "duration": 267,
    "start_time": "2023-02-22T06:03:34.671Z"
   },
   {
    "duration": 67,
    "start_time": "2023-02-22T06:03:34.940Z"
   },
   {
    "duration": 769,
    "start_time": "2023-02-22T06:03:35.008Z"
   },
   {
    "duration": 303,
    "start_time": "2023-02-22T06:03:35.779Z"
   },
   {
    "duration": 349,
    "start_time": "2023-02-22T06:03:36.083Z"
   },
   {
    "duration": 291,
    "start_time": "2023-02-22T06:03:36.436Z"
   },
   {
    "duration": 558,
    "start_time": "2023-02-22T06:03:36.729Z"
   },
   {
    "duration": 232,
    "start_time": "2023-02-22T06:03:37.289Z"
   },
   {
    "duration": 1427,
    "start_time": "2023-02-22T06:03:37.523Z"
   },
   {
    "duration": 5,
    "start_time": "2023-02-22T06:03:38.952Z"
   },
   {
    "duration": 7,
    "start_time": "2023-02-22T06:03:38.959Z"
   },
   {
    "duration": 17,
    "start_time": "2023-02-22T06:03:38.967Z"
   },
   {
    "duration": 19541,
    "start_time": "2023-02-22T06:03:38.986Z"
   },
   {
    "duration": 8,
    "start_time": "2023-02-22T06:03:58.531Z"
   },
   {
    "duration": 25,
    "start_time": "2023-02-22T06:03:58.540Z"
   },
   {
    "duration": 260,
    "start_time": "2023-02-22T06:03:58.566Z"
   },
   {
    "duration": 500,
    "start_time": "2023-02-22T06:03:58.827Z"
   },
   {
    "duration": 22,
    "start_time": "2023-02-22T06:03:59.329Z"
   },
   {
    "duration": 1528,
    "start_time": "2023-02-22T06:03:59.352Z"
   },
   {
    "duration": 8949,
    "start_time": "2023-02-22T06:04:00.882Z"
   },
   {
    "duration": 254,
    "start_time": "2023-02-22T06:04:09.833Z"
   },
   {
    "duration": 26,
    "start_time": "2023-02-22T06:04:10.089Z"
   },
   {
    "duration": 173,
    "start_time": "2023-02-22T06:04:10.117Z"
   },
   {
    "duration": 607,
    "start_time": "2023-02-22T06:04:10.292Z"
   },
   {
    "duration": 25,
    "start_time": "2023-02-22T06:04:10.900Z"
   },
   {
    "duration": 211,
    "start_time": "2023-02-22T06:04:10.927Z"
   },
   {
    "duration": 122,
    "start_time": "2023-02-22T06:04:11.140Z"
   },
   {
    "duration": 12,
    "start_time": "2023-02-22T06:04:11.263Z"
   },
   {
    "duration": 1690,
    "start_time": "2023-02-22T06:04:11.277Z"
   },
   {
    "duration": 114,
    "start_time": "2023-02-22T06:04:12.969Z"
   },
   {
    "duration": 1265,
    "start_time": "2023-02-22T06:04:13.084Z"
   },
   {
    "duration": 108,
    "start_time": "2023-02-22T06:04:14.351Z"
   },
   {
    "duration": 56,
    "start_time": "2023-02-22T06:04:14.460Z"
   },
   {
    "duration": 131,
    "start_time": "2023-02-22T06:04:14.518Z"
   },
   {
    "duration": 102,
    "start_time": "2023-02-22T06:04:14.651Z"
   },
   {
    "duration": 193,
    "start_time": "2023-02-22T06:04:14.756Z"
   },
   {
    "duration": 101,
    "start_time": "2023-02-22T06:04:14.952Z"
   },
   {
    "duration": 23097,
    "start_time": "2023-02-22T06:04:15.055Z"
   },
   {
    "duration": 104,
    "start_time": "2023-02-22T06:04:38.154Z"
   },
   {
    "duration": 7123,
    "start_time": "2023-02-22T06:04:38.260Z"
   },
   {
    "duration": 95,
    "start_time": "2023-02-22T06:04:45.385Z"
   },
   {
    "duration": 1080,
    "start_time": "2023-02-22T06:07:06.369Z"
   },
   {
    "duration": 426,
    "start_time": "2023-02-22T06:07:12.444Z"
   },
   {
    "duration": 849,
    "start_time": "2023-02-22T06:07:12.872Z"
   },
   {
    "duration": 19,
    "start_time": "2023-02-22T06:07:13.723Z"
   },
   {
    "duration": 14,
    "start_time": "2023-02-22T06:07:13.744Z"
   },
   {
    "duration": 154,
    "start_time": "2023-02-22T06:07:13.760Z"
   },
   {
    "duration": 286,
    "start_time": "2023-02-22T06:07:13.916Z"
   },
   {
    "duration": 95,
    "start_time": "2023-02-22T06:07:14.203Z"
   },
   {
    "duration": 1496,
    "start_time": "2023-02-22T06:07:14.300Z"
   },
   {
    "duration": 1337,
    "start_time": "2023-02-22T06:07:15.798Z"
   },
   {
    "duration": 15,
    "start_time": "2023-02-22T06:07:17.137Z"
   },
   {
    "duration": 735,
    "start_time": "2023-02-22T06:07:17.154Z"
   },
   {
    "duration": 351,
    "start_time": "2023-02-22T06:07:17.891Z"
   },
   {
    "duration": 446,
    "start_time": "2023-02-22T06:07:18.248Z"
   },
   {
    "duration": 688,
    "start_time": "2023-02-22T06:07:18.697Z"
   },
   {
    "duration": 349,
    "start_time": "2023-02-22T06:07:19.387Z"
   },
   {
    "duration": 23,
    "start_time": "2023-02-22T06:07:19.738Z"
   },
   {
    "duration": 32,
    "start_time": "2023-02-22T06:07:19.763Z"
   },
   {
    "duration": 5,
    "start_time": "2023-02-22T06:07:19.797Z"
   },
   {
    "duration": 242,
    "start_time": "2023-02-22T06:07:19.803Z"
   },
   {
    "duration": 385,
    "start_time": "2023-02-22T06:07:20.048Z"
   },
   {
    "duration": 604,
    "start_time": "2023-02-22T06:07:20.434Z"
   },
   {
    "duration": 409,
    "start_time": "2023-02-22T06:07:21.040Z"
   },
   {
    "duration": 16,
    "start_time": "2023-02-22T06:07:21.451Z"
   },
   {
    "duration": 39,
    "start_time": "2023-02-22T06:07:21.469Z"
   },
   {
    "duration": 184,
    "start_time": "2023-02-22T06:07:21.509Z"
   },
   {
    "duration": 18,
    "start_time": "2023-02-22T06:07:21.695Z"
   },
   {
    "duration": 290,
    "start_time": "2023-02-22T06:07:21.715Z"
   },
   {
    "duration": 258,
    "start_time": "2023-02-22T06:07:22.007Z"
   },
   {
    "duration": 53,
    "start_time": "2023-02-22T06:07:22.267Z"
   },
   {
    "duration": 691,
    "start_time": "2023-02-22T06:07:22.321Z"
   },
   {
    "duration": 277,
    "start_time": "2023-02-22T06:07:23.014Z"
   },
   {
    "duration": 302,
    "start_time": "2023-02-22T06:07:23.293Z"
   },
   {
    "duration": 285,
    "start_time": "2023-02-22T06:07:23.596Z"
   },
   {
    "duration": 496,
    "start_time": "2023-02-22T06:07:23.883Z"
   },
   {
    "duration": 206,
    "start_time": "2023-02-22T06:07:24.380Z"
   },
   {
    "duration": 1295,
    "start_time": "2023-02-22T06:07:24.587Z"
   },
   {
    "duration": 6,
    "start_time": "2023-02-22T06:07:25.883Z"
   },
   {
    "duration": 9,
    "start_time": "2023-02-22T06:07:25.891Z"
   },
   {
    "duration": 17,
    "start_time": "2023-02-22T06:07:25.902Z"
   },
   {
    "duration": 19641,
    "start_time": "2023-02-22T06:07:25.921Z"
   },
   {
    "duration": 6,
    "start_time": "2023-02-22T06:07:45.566Z"
   },
   {
    "duration": 16,
    "start_time": "2023-02-22T06:07:45.574Z"
   },
   {
    "duration": 232,
    "start_time": "2023-02-22T06:07:45.592Z"
   },
   {
    "duration": 490,
    "start_time": "2023-02-22T06:07:45.826Z"
   },
   {
    "duration": 31,
    "start_time": "2023-02-22T06:07:46.319Z"
   },
   {
    "duration": 1388,
    "start_time": "2023-02-22T06:07:46.352Z"
   },
   {
    "duration": 8280,
    "start_time": "2023-02-22T06:07:47.742Z"
   },
   {
    "duration": 239,
    "start_time": "2023-02-22T06:07:56.023Z"
   },
   {
    "duration": 30,
    "start_time": "2023-02-22T06:07:56.264Z"
   },
   {
    "duration": 192,
    "start_time": "2023-02-22T06:07:56.296Z"
   },
   {
    "duration": 590,
    "start_time": "2023-02-22T06:07:56.490Z"
   },
   {
    "duration": 24,
    "start_time": "2023-02-22T06:07:57.082Z"
   },
   {
    "duration": 200,
    "start_time": "2023-02-22T06:07:57.108Z"
   },
   {
    "duration": 138,
    "start_time": "2023-02-22T06:07:57.310Z"
   },
   {
    "duration": 11,
    "start_time": "2023-02-22T06:07:57.450Z"
   },
   {
    "duration": 1514,
    "start_time": "2023-02-22T06:07:57.463Z"
   },
   {
    "duration": 105,
    "start_time": "2023-02-22T06:07:58.979Z"
   },
   {
    "duration": 1215,
    "start_time": "2023-02-22T06:07:59.085Z"
   },
   {
    "duration": 130,
    "start_time": "2023-02-22T06:08:00.302Z"
   },
   {
    "duration": 58,
    "start_time": "2023-02-22T06:08:00.434Z"
   },
   {
    "duration": 80,
    "start_time": "2023-02-22T06:08:00.493Z"
   },
   {
    "duration": 78,
    "start_time": "2023-02-22T06:08:00.574Z"
   },
   {
    "duration": 103,
    "start_time": "2023-02-22T06:08:00.653Z"
   },
   {
    "duration": 90,
    "start_time": "2023-02-22T06:08:00.759Z"
   },
   {
    "duration": 1708,
    "start_time": "2023-02-22T06:08:00.852Z"
   },
   {
    "duration": 190,
    "start_time": "2023-02-22T06:08:02.561Z"
   },
   {
    "duration": 6402,
    "start_time": "2023-02-22T06:08:02.753Z"
   },
   {
    "duration": 78,
    "start_time": "2023-02-22T06:08:09.157Z"
   },
   {
    "duration": 84,
    "start_time": "2023-02-24T09:28:07.036Z"
   },
   {
    "duration": 1777,
    "start_time": "2023-02-24T09:52:15.386Z"
   },
   {
    "duration": 1251,
    "start_time": "2023-02-24T09:52:17.165Z"
   },
   {
    "duration": 19,
    "start_time": "2023-02-24T09:52:18.418Z"
   },
   {
    "duration": 21,
    "start_time": "2023-02-24T09:52:18.440Z"
   },
   {
    "duration": 136,
    "start_time": "2023-02-24T09:52:18.463Z"
   },
   {
    "duration": 314,
    "start_time": "2023-02-24T09:52:18.604Z"
   },
   {
    "duration": 96,
    "start_time": "2023-02-24T09:52:18.921Z"
   },
   {
    "duration": 1724,
    "start_time": "2023-02-24T09:52:19.019Z"
   },
   {
    "duration": 1597,
    "start_time": "2023-02-24T09:52:20.746Z"
   },
   {
    "duration": 6,
    "start_time": "2023-02-24T09:52:22.346Z"
   },
   {
    "duration": 378,
    "start_time": "2023-02-24T09:52:22.353Z"
   },
   {
    "duration": 578,
    "start_time": "2023-02-24T09:52:22.734Z"
   },
   {
    "duration": 713,
    "start_time": "2023-02-24T09:52:23.314Z"
   },
   {
    "duration": 503,
    "start_time": "2023-02-24T09:52:24.030Z"
   },
   {
    "duration": 20,
    "start_time": "2023-02-24T09:52:24.535Z"
   },
   {
    "duration": 16,
    "start_time": "2023-02-24T09:52:24.557Z"
   },
   {
    "duration": 505,
    "start_time": "2023-02-24T09:52:24.574Z"
   },
   {
    "duration": 25,
    "start_time": "2023-02-24T09:52:25.081Z"
   },
   {
    "duration": 6,
    "start_time": "2023-02-24T09:52:25.108Z"
   },
   {
    "duration": 291,
    "start_time": "2023-02-24T09:52:25.116Z"
   },
   {
    "duration": 428,
    "start_time": "2023-02-24T09:52:25.410Z"
   },
   {
    "duration": 568,
    "start_time": "2023-02-24T09:52:25.839Z"
   },
   {
    "duration": 478,
    "start_time": "2023-02-24T09:52:26.410Z"
   },
   {
    "duration": 39,
    "start_time": "2023-02-24T09:52:26.890Z"
   },
   {
    "duration": 25,
    "start_time": "2023-02-24T09:52:26.931Z"
   },
   {
    "duration": 221,
    "start_time": "2023-02-24T09:52:26.957Z"
   },
   {
    "duration": 32,
    "start_time": "2023-02-24T09:52:27.180Z"
   },
   {
    "duration": 220,
    "start_time": "2023-02-24T09:52:27.222Z"
   },
   {
    "duration": 284,
    "start_time": "2023-02-24T09:52:27.444Z"
   },
   {
    "duration": 367,
    "start_time": "2023-02-24T09:52:27.731Z"
   },
   {
    "duration": 86,
    "start_time": "2023-02-24T09:52:28.100Z"
   },
   {
    "duration": 794,
    "start_time": "2023-02-24T09:52:28.187Z"
   },
   {
    "duration": 463,
    "start_time": "2023-02-24T09:52:28.982Z"
   },
   {
    "duration": 330,
    "start_time": "2023-02-24T09:52:29.447Z"
   },
   {
    "duration": 337,
    "start_time": "2023-02-24T09:52:29.781Z"
   },
   {
    "duration": 641,
    "start_time": "2023-02-24T09:52:30.121Z"
   },
   {
    "duration": 253,
    "start_time": "2023-02-24T09:52:30.765Z"
   },
   {
    "duration": 1685,
    "start_time": "2023-02-24T09:52:31.021Z"
   },
   {
    "duration": 8,
    "start_time": "2023-02-24T09:52:32.709Z"
   },
   {
    "duration": 10,
    "start_time": "2023-02-24T09:52:32.718Z"
   },
   {
    "duration": 37363,
    "start_time": "2023-02-24T09:52:32.731Z"
   },
   {
    "duration": 15,
    "start_time": "2023-02-24T09:53:10.096Z"
   },
   {
    "duration": 233,
    "start_time": "2023-02-24T09:53:10.113Z"
   },
   {
    "duration": 28,
    "start_time": "2023-02-24T09:53:10.348Z"
   },
   {
    "duration": 391,
    "start_time": "2023-02-24T09:53:10.378Z"
   },
   {
    "duration": 1451,
    "start_time": "2023-02-24T09:53:10.771Z"
   },
   {
    "duration": 9019,
    "start_time": "2023-02-24T09:53:12.223Z"
   },
   {
    "duration": 21,
    "start_time": "2023-02-24T09:53:21.244Z"
   },
   {
    "duration": 18,
    "start_time": "2023-02-24T09:53:21.267Z"
   },
   {
    "duration": 258,
    "start_time": "2023-02-24T09:53:21.287Z"
   },
   {
    "duration": 15,
    "start_time": "2023-02-24T09:53:21.546Z"
   },
   {
    "duration": 506,
    "start_time": "2023-02-24T09:53:21.563Z"
   },
   {
    "duration": 227,
    "start_time": "2023-02-24T09:53:22.071Z"
   },
   {
    "duration": 108,
    "start_time": "2023-02-24T09:53:22.300Z"
   },
   {
    "duration": 13,
    "start_time": "2023-02-24T09:53:22.410Z"
   },
   {
    "duration": 1453,
    "start_time": "2023-02-24T09:53:22.425Z"
   },
   {
    "duration": 136,
    "start_time": "2023-02-24T09:53:23.881Z"
   },
   {
    "duration": 1351,
    "start_time": "2023-02-24T09:53:24.019Z"
   },
   {
    "duration": 1437,
    "start_time": "2023-02-24T09:53:25.373Z"
   },
   {
    "duration": 0,
    "start_time": "2023-02-24T09:53:26.811Z"
   },
   {
    "duration": 0,
    "start_time": "2023-02-24T09:53:26.813Z"
   },
   {
    "duration": 0,
    "start_time": "2023-02-24T09:53:26.815Z"
   },
   {
    "duration": 0,
    "start_time": "2023-02-24T09:53:26.816Z"
   },
   {
    "duration": 0,
    "start_time": "2023-02-24T09:53:26.818Z"
   },
   {
    "duration": 291,
    "start_time": "2023-02-24T10:04:12.124Z"
   },
   {
    "duration": 1674,
    "start_time": "2023-02-24T10:05:51.046Z"
   },
   {
    "duration": 1522,
    "start_time": "2023-02-24T10:06:07.178Z"
   },
   {
    "duration": 822,
    "start_time": "2023-02-24T10:06:08.702Z"
   },
   {
    "duration": 17,
    "start_time": "2023-02-24T10:06:09.526Z"
   },
   {
    "duration": 15,
    "start_time": "2023-02-24T10:06:09.546Z"
   },
   {
    "duration": 129,
    "start_time": "2023-02-24T10:06:09.563Z"
   },
   {
    "duration": 272,
    "start_time": "2023-02-24T10:06:09.694Z"
   },
   {
    "duration": 86,
    "start_time": "2023-02-24T10:06:09.967Z"
   },
   {
    "duration": 1501,
    "start_time": "2023-02-24T10:06:10.055Z"
   },
   {
    "duration": 1398,
    "start_time": "2023-02-24T10:06:11.558Z"
   },
   {
    "duration": 6,
    "start_time": "2023-02-24T10:06:12.959Z"
   },
   {
    "duration": 441,
    "start_time": "2023-02-24T10:06:12.968Z"
   },
   {
    "duration": 472,
    "start_time": "2023-02-24T10:06:13.411Z"
   },
   {
    "duration": 727,
    "start_time": "2023-02-24T10:06:13.885Z"
   },
   {
    "duration": 355,
    "start_time": "2023-02-24T10:06:14.614Z"
   },
   {
    "duration": 20,
    "start_time": "2023-02-24T10:06:14.971Z"
   },
   {
    "duration": 15,
    "start_time": "2023-02-24T10:06:15.004Z"
   },
   {
    "duration": 606,
    "start_time": "2023-02-24T10:06:15.020Z"
   },
   {
    "duration": 18,
    "start_time": "2023-02-24T10:06:15.629Z"
   },
   {
    "duration": 5,
    "start_time": "2023-02-24T10:06:15.649Z"
   },
   {
    "duration": 257,
    "start_time": "2023-02-24T10:06:15.656Z"
   },
   {
    "duration": 368,
    "start_time": "2023-02-24T10:06:15.915Z"
   },
   {
    "duration": 599,
    "start_time": "2023-02-24T10:06:16.285Z"
   },
   {
    "duration": 507,
    "start_time": "2023-02-24T10:06:16.887Z"
   },
   {
    "duration": 21,
    "start_time": "2023-02-24T10:06:17.396Z"
   },
   {
    "duration": 19,
    "start_time": "2023-02-24T10:06:17.418Z"
   },
   {
    "duration": 295,
    "start_time": "2023-02-24T10:06:17.439Z"
   },
   {
    "duration": 29,
    "start_time": "2023-02-24T10:06:17.737Z"
   },
   {
    "duration": 228,
    "start_time": "2023-02-24T10:06:17.771Z"
   },
   {
    "duration": 293,
    "start_time": "2023-02-24T10:06:18.004Z"
   },
   {
    "duration": 306,
    "start_time": "2023-02-24T10:06:18.299Z"
   },
   {
    "duration": 63,
    "start_time": "2023-02-24T10:06:18.607Z"
   },
   {
    "duration": 761,
    "start_time": "2023-02-24T10:06:18.672Z"
   },
   {
    "duration": 444,
    "start_time": "2023-02-24T10:06:19.435Z"
   },
   {
    "duration": 297,
    "start_time": "2023-02-24T10:06:19.881Z"
   },
   {
    "duration": 279,
    "start_time": "2023-02-24T10:06:20.180Z"
   },
   {
    "duration": 535,
    "start_time": "2023-02-24T10:06:20.460Z"
   },
   {
    "duration": 238,
    "start_time": "2023-02-24T10:06:20.997Z"
   },
   {
    "duration": 1381,
    "start_time": "2023-02-24T10:06:21.237Z"
   },
   {
    "duration": 6,
    "start_time": "2023-02-24T10:06:22.620Z"
   },
   {
    "duration": 12,
    "start_time": "2023-02-24T10:06:22.627Z"
   },
   {
    "duration": 32725,
    "start_time": "2023-02-24T10:06:22.640Z"
   },
   {
    "duration": 12,
    "start_time": "2023-02-24T10:06:55.367Z"
   },
   {
    "duration": 256,
    "start_time": "2023-02-24T10:06:55.381Z"
   },
   {
    "duration": 25,
    "start_time": "2023-02-24T10:06:55.638Z"
   },
   {
    "duration": 412,
    "start_time": "2023-02-24T10:06:55.665Z"
   },
   {
    "duration": 1470,
    "start_time": "2023-02-24T10:06:56.078Z"
   },
   {
    "duration": 8618,
    "start_time": "2023-02-24T10:06:57.550Z"
   },
   {
    "duration": 14,
    "start_time": "2023-02-24T10:07:06.170Z"
   },
   {
    "duration": 29,
    "start_time": "2023-02-24T10:07:06.186Z"
   },
   {
    "duration": 246,
    "start_time": "2023-02-24T10:07:06.217Z"
   },
   {
    "duration": 13,
    "start_time": "2023-02-24T10:07:06.465Z"
   },
   {
    "duration": 528,
    "start_time": "2023-02-24T10:07:06.479Z"
   },
   {
    "duration": 217,
    "start_time": "2023-02-24T10:07:07.009Z"
   },
   {
    "duration": 123,
    "start_time": "2023-02-24T10:07:07.229Z"
   },
   {
    "duration": 17,
    "start_time": "2023-02-24T10:07:07.355Z"
   },
   {
    "duration": 1333,
    "start_time": "2023-02-24T10:07:07.374Z"
   },
   {
    "duration": 107,
    "start_time": "2023-02-24T10:07:08.709Z"
   },
   {
    "duration": 1215,
    "start_time": "2023-02-24T10:07:08.818Z"
   },
   {
    "duration": 1681,
    "start_time": "2023-02-24T10:07:10.035Z"
   },
   {
    "duration": 194,
    "start_time": "2023-02-24T10:07:11.717Z"
   },
   {
    "duration": 3,
    "start_time": "2023-02-24T10:07:11.913Z"
   },
   {
    "duration": 381,
    "start_time": "2023-02-24T10:07:11.917Z"
   },
   {
    "duration": 0,
    "start_time": "2023-02-24T10:07:12.303Z"
   },
   {
    "duration": 0,
    "start_time": "2023-02-24T10:07:12.304Z"
   },
   {
    "duration": 1763,
    "start_time": "2023-02-24T10:07:42.157Z"
   },
   {
    "duration": 4,
    "start_time": "2023-02-24T10:07:58.674Z"
   },
   {
    "duration": 1177,
    "start_time": "2023-02-24T10:07:59.657Z"
   },
   {
    "duration": 1904,
    "start_time": "2023-02-24T10:08:46.404Z"
   },
   {
    "duration": 1057,
    "start_time": "2023-02-24T10:08:48.311Z"
   },
   {
    "duration": 19,
    "start_time": "2023-02-24T10:08:49.369Z"
   },
   {
    "duration": 30,
    "start_time": "2023-02-24T10:08:49.390Z"
   },
   {
    "duration": 161,
    "start_time": "2023-02-24T10:08:49.422Z"
   },
   {
    "duration": 319,
    "start_time": "2023-02-24T10:08:49.584Z"
   },
   {
    "duration": 109,
    "start_time": "2023-02-24T10:08:49.906Z"
   },
   {
    "duration": 1788,
    "start_time": "2023-02-24T10:08:50.018Z"
   },
   {
    "duration": 1673,
    "start_time": "2023-02-24T10:08:51.809Z"
   },
   {
    "duration": 5,
    "start_time": "2023-02-24T10:08:53.484Z"
   },
   {
    "duration": 458,
    "start_time": "2023-02-24T10:08:53.491Z"
   },
   {
    "duration": 636,
    "start_time": "2023-02-24T10:08:53.950Z"
   },
   {
    "duration": 831,
    "start_time": "2023-02-24T10:08:54.588Z"
   },
   {
    "duration": 447,
    "start_time": "2023-02-24T10:08:55.421Z"
   },
   {
    "duration": 19,
    "start_time": "2023-02-24T10:08:55.871Z"
   },
   {
    "duration": 36,
    "start_time": "2023-02-24T10:08:55.891Z"
   },
   {
    "duration": 628,
    "start_time": "2023-02-24T10:08:55.930Z"
   },
   {
    "duration": 25,
    "start_time": "2023-02-24T10:08:56.561Z"
   },
   {
    "duration": 19,
    "start_time": "2023-02-24T10:08:56.588Z"
   },
   {
    "duration": 259,
    "start_time": "2023-02-24T10:08:56.609Z"
   },
   {
    "duration": 418,
    "start_time": "2023-02-24T10:08:56.869Z"
   },
   {
    "duration": 692,
    "start_time": "2023-02-24T10:08:57.290Z"
   },
   {
    "duration": 558,
    "start_time": "2023-02-24T10:08:57.984Z"
   },
   {
    "duration": 36,
    "start_time": "2023-02-24T10:08:58.544Z"
   },
   {
    "duration": 33,
    "start_time": "2023-02-24T10:08:58.582Z"
   },
   {
    "duration": 223,
    "start_time": "2023-02-24T10:08:58.617Z"
   },
   {
    "duration": 18,
    "start_time": "2023-02-24T10:08:58.842Z"
   },
   {
    "duration": 242,
    "start_time": "2023-02-24T10:08:58.864Z"
   },
   {
    "duration": 403,
    "start_time": "2023-02-24T10:08:59.109Z"
   },
   {
    "duration": 364,
    "start_time": "2023-02-24T10:08:59.515Z"
   },
   {
    "duration": 84,
    "start_time": "2023-02-24T10:08:59.881Z"
   },
   {
    "duration": 824,
    "start_time": "2023-02-24T10:08:59.967Z"
   },
   {
    "duration": 448,
    "start_time": "2023-02-24T10:09:00.793Z"
   },
   {
    "duration": 365,
    "start_time": "2023-02-24T10:09:01.244Z"
   },
   {
    "duration": 323,
    "start_time": "2023-02-24T10:09:01.612Z"
   },
   {
    "duration": 625,
    "start_time": "2023-02-24T10:09:01.937Z"
   },
   {
    "duration": 283,
    "start_time": "2023-02-24T10:09:02.564Z"
   },
   {
    "duration": 1751,
    "start_time": "2023-02-24T10:09:02.849Z"
   },
   {
    "duration": 8,
    "start_time": "2023-02-24T10:09:04.603Z"
   },
   {
    "duration": 40,
    "start_time": "2023-02-24T10:09:04.613Z"
   },
   {
    "duration": 25840,
    "start_time": "2023-02-24T10:09:04.656Z"
   },
   {
    "duration": 16,
    "start_time": "2023-02-24T10:09:30.498Z"
   },
   {
    "duration": 323,
    "start_time": "2023-02-24T10:09:30.516Z"
   },
   {
    "duration": 19,
    "start_time": "2023-02-24T10:09:30.842Z"
   },
   {
    "duration": 609,
    "start_time": "2023-02-24T10:09:30.864Z"
   },
   {
    "duration": 1686,
    "start_time": "2023-02-24T10:09:31.475Z"
   },
   {
    "duration": 11587,
    "start_time": "2023-02-24T10:09:33.164Z"
   },
   {
    "duration": 17,
    "start_time": "2023-02-24T10:09:44.753Z"
   },
   {
    "duration": 31,
    "start_time": "2023-02-24T10:09:44.772Z"
   },
   {
    "duration": 257,
    "start_time": "2023-02-24T10:09:44.806Z"
   },
   {
    "duration": 21,
    "start_time": "2023-02-24T10:09:45.066Z"
   },
   {
    "duration": 680,
    "start_time": "2023-02-24T10:09:45.091Z"
   },
   {
    "duration": 241,
    "start_time": "2023-02-24T10:09:45.774Z"
   },
   {
    "duration": 194,
    "start_time": "2023-02-24T10:09:46.018Z"
   },
   {
    "duration": 22,
    "start_time": "2023-02-24T10:09:46.215Z"
   },
   {
    "duration": 10,
    "start_time": "2023-02-24T10:09:46.239Z"
   },
   {
    "duration": 226,
    "start_time": "2023-02-24T10:09:46.252Z"
   },
   {
    "duration": 0,
    "start_time": "2023-02-24T10:09:46.480Z"
   },
   {
    "duration": 0,
    "start_time": "2023-02-24T10:09:46.482Z"
   },
   {
    "duration": 0,
    "start_time": "2023-02-24T10:09:46.484Z"
   },
   {
    "duration": 0,
    "start_time": "2023-02-24T10:09:46.485Z"
   },
   {
    "duration": 0,
    "start_time": "2023-02-24T10:09:46.488Z"
   },
   {
    "duration": 0,
    "start_time": "2023-02-24T10:09:46.504Z"
   },
   {
    "duration": 0,
    "start_time": "2023-02-24T10:09:46.505Z"
   },
   {
    "duration": 12,
    "start_time": "2023-02-24T10:10:38.245Z"
   },
   {
    "duration": 404,
    "start_time": "2023-02-24T10:10:48.395Z"
   },
   {
    "duration": 355,
    "start_time": "2023-02-24T10:11:16.242Z"
   },
   {
    "duration": 430,
    "start_time": "2023-02-24T10:12:19.644Z"
   },
   {
    "duration": 1937,
    "start_time": "2023-02-24T10:12:33.134Z"
   },
   {
    "duration": 422,
    "start_time": "2023-02-24T10:12:56.877Z"
   },
   {
    "duration": 908,
    "start_time": "2023-02-24T10:14:12.511Z"
   },
   {
    "duration": 17,
    "start_time": "2023-02-24T10:14:51.569Z"
   },
   {
    "duration": 13,
    "start_time": "2023-02-24T10:16:18.093Z"
   },
   {
    "duration": 16,
    "start_time": "2023-02-24T10:16:31.984Z"
   },
   {
    "duration": 1781,
    "start_time": "2023-02-24T10:16:47.933Z"
   },
   {
    "duration": 23,
    "start_time": "2023-02-24T10:16:49.716Z"
   },
   {
    "duration": 6,
    "start_time": "2023-02-24T10:17:15.734Z"
   },
   {
    "duration": 6,
    "start_time": "2023-02-24T10:17:24.494Z"
   },
   {
    "duration": 13,
    "start_time": "2023-02-24T10:17:29.545Z"
   },
   {
    "duration": 10,
    "start_time": "2023-02-24T10:17:59.999Z"
   },
   {
    "duration": 11,
    "start_time": "2023-02-24T10:18:12.790Z"
   },
   {
    "duration": 10,
    "start_time": "2023-02-24T10:18:16.090Z"
   },
   {
    "duration": 41,
    "start_time": "2023-02-24T10:18:24.507Z"
   },
   {
    "duration": 23,
    "start_time": "2023-02-24T10:18:38.330Z"
   },
   {
    "duration": 13,
    "start_time": "2023-02-24T10:18:48.473Z"
   },
   {
    "duration": 18,
    "start_time": "2023-02-24T10:21:00.995Z"
   },
   {
    "duration": 23,
    "start_time": "2023-02-24T10:21:13.390Z"
   },
   {
    "duration": 877,
    "start_time": "2023-02-24T10:21:49.336Z"
   },
   {
    "duration": 1022,
    "start_time": "2023-02-24T10:22:08.735Z"
   },
   {
    "duration": 5,
    "start_time": "2023-02-24T10:22:21.918Z"
   },
   {
    "duration": 1175,
    "start_time": "2023-02-24T10:22:23.128Z"
   },
   {
    "duration": 83,
    "start_time": "2023-02-24T10:22:48.473Z"
   },
   {
    "duration": 12,
    "start_time": "2023-02-24T10:24:05.485Z"
   },
   {
    "duration": 109,
    "start_time": "2023-02-24T10:24:07.979Z"
   },
   {
    "duration": 1835,
    "start_time": "2023-02-24T10:24:23.122Z"
   },
   {
    "duration": 90,
    "start_time": "2023-02-24T10:24:41.717Z"
   },
   {
    "duration": 3,
    "start_time": "2023-02-24T10:25:41.257Z"
   },
   {
    "duration": 9,
    "start_time": "2023-02-24T10:25:48.866Z"
   },
   {
    "duration": 15,
    "start_time": "2023-02-24T10:26:11.750Z"
   },
   {
    "duration": 18,
    "start_time": "2023-02-24T10:29:55.322Z"
   },
   {
    "duration": 1581,
    "start_time": "2023-02-24T10:30:03.924Z"
   },
   {
    "duration": 823,
    "start_time": "2023-02-24T10:30:05.507Z"
   },
   {
    "duration": 17,
    "start_time": "2023-02-24T10:30:06.332Z"
   },
   {
    "duration": 14,
    "start_time": "2023-02-24T10:30:06.351Z"
   },
   {
    "duration": 156,
    "start_time": "2023-02-24T10:30:06.368Z"
   },
   {
    "duration": 280,
    "start_time": "2023-02-24T10:30:06.525Z"
   },
   {
    "duration": 98,
    "start_time": "2023-02-24T10:30:06.807Z"
   },
   {
    "duration": 1651,
    "start_time": "2023-02-24T10:30:06.907Z"
   },
   {
    "duration": 1430,
    "start_time": "2023-02-24T10:30:08.560Z"
   },
   {
    "duration": 4,
    "start_time": "2023-02-24T10:30:09.992Z"
   },
   {
    "duration": 364,
    "start_time": "2023-02-24T10:30:09.998Z"
   },
   {
    "duration": 432,
    "start_time": "2023-02-24T10:30:10.364Z"
   },
   {
    "duration": 684,
    "start_time": "2023-02-24T10:30:10.802Z"
   },
   {
    "duration": 353,
    "start_time": "2023-02-24T10:30:11.489Z"
   },
   {
    "duration": 18,
    "start_time": "2023-02-24T10:30:11.843Z"
   },
   {
    "duration": 18,
    "start_time": "2023-02-24T10:30:11.862Z"
   },
   {
    "duration": 577,
    "start_time": "2023-02-24T10:30:11.882Z"
   },
   {
    "duration": 14,
    "start_time": "2023-02-24T10:30:12.460Z"
   },
   {
    "duration": 5,
    "start_time": "2023-02-24T10:30:12.476Z"
   },
   {
    "duration": 257,
    "start_time": "2023-02-24T10:30:12.482Z"
   },
   {
    "duration": 373,
    "start_time": "2023-02-24T10:30:12.741Z"
   },
   {
    "duration": 621,
    "start_time": "2023-02-24T10:30:13.115Z"
   },
   {
    "duration": 457,
    "start_time": "2023-02-24T10:30:13.738Z"
   },
   {
    "duration": 23,
    "start_time": "2023-02-24T10:30:14.205Z"
   },
   {
    "duration": 28,
    "start_time": "2023-02-24T10:30:14.230Z"
   },
   {
    "duration": 235,
    "start_time": "2023-02-24T10:30:14.261Z"
   },
   {
    "duration": 19,
    "start_time": "2023-02-24T10:30:14.503Z"
   },
   {
    "duration": 223,
    "start_time": "2023-02-24T10:30:14.523Z"
   },
   {
    "duration": 276,
    "start_time": "2023-02-24T10:30:14.748Z"
   },
   {
    "duration": 300,
    "start_time": "2023-02-24T10:30:15.026Z"
   },
   {
    "duration": 75,
    "start_time": "2023-02-24T10:30:15.328Z"
   },
   {
    "duration": 709,
    "start_time": "2023-02-24T10:30:15.405Z"
   },
   {
    "duration": 406,
    "start_time": "2023-02-24T10:30:16.116Z"
   },
   {
    "duration": 283,
    "start_time": "2023-02-24T10:30:16.524Z"
   },
   {
    "duration": 263,
    "start_time": "2023-02-24T10:30:16.808Z"
   },
   {
    "duration": 564,
    "start_time": "2023-02-24T10:30:17.073Z"
   },
   {
    "duration": 236,
    "start_time": "2023-02-24T10:30:17.639Z"
   },
   {
    "duration": 1476,
    "start_time": "2023-02-24T10:30:17.877Z"
   },
   {
    "duration": 6,
    "start_time": "2023-02-24T10:30:19.355Z"
   },
   {
    "duration": 8,
    "start_time": "2023-02-24T10:30:19.363Z"
   },
   {
    "duration": 22854,
    "start_time": "2023-02-24T10:30:19.375Z"
   },
   {
    "duration": 11,
    "start_time": "2023-02-24T10:30:42.231Z"
   },
   {
    "duration": 256,
    "start_time": "2023-02-24T10:30:42.245Z"
   },
   {
    "duration": 15,
    "start_time": "2023-02-24T10:30:42.502Z"
   },
   {
    "duration": 381,
    "start_time": "2023-02-24T10:30:42.518Z"
   },
   {
    "duration": 1606,
    "start_time": "2023-02-24T10:30:42.902Z"
   },
   {
    "duration": 8922,
    "start_time": "2023-02-24T10:30:44.510Z"
   },
   {
    "duration": 15,
    "start_time": "2023-02-24T10:30:53.434Z"
   },
   {
    "duration": 30,
    "start_time": "2023-02-24T10:30:53.451Z"
   },
   {
    "duration": 264,
    "start_time": "2023-02-24T10:30:53.483Z"
   },
   {
    "duration": 15,
    "start_time": "2023-02-24T10:30:53.749Z"
   },
   {
    "duration": 565,
    "start_time": "2023-02-24T10:30:53.765Z"
   },
   {
    "duration": 210,
    "start_time": "2023-02-24T10:30:54.333Z"
   },
   {
    "duration": 104,
    "start_time": "2023-02-24T10:30:54.545Z"
   },
   {
    "duration": 13,
    "start_time": "2023-02-24T10:30:54.651Z"
   },
   {
    "duration": 3,
    "start_time": "2023-02-24T10:30:54.666Z"
   },
   {
    "duration": 136,
    "start_time": "2023-02-24T10:30:54.671Z"
   },
   {
    "duration": 0,
    "start_time": "2023-02-24T10:30:54.808Z"
   },
   {
    "duration": 0,
    "start_time": "2023-02-24T10:30:54.809Z"
   },
   {
    "duration": 0,
    "start_time": "2023-02-24T10:30:54.810Z"
   },
   {
    "duration": 0,
    "start_time": "2023-02-24T10:30:54.812Z"
   },
   {
    "duration": 0,
    "start_time": "2023-02-24T10:30:54.813Z"
   },
   {
    "duration": 0,
    "start_time": "2023-02-24T10:30:54.813Z"
   },
   {
    "duration": 0,
    "start_time": "2023-02-24T10:30:54.814Z"
   },
   {
    "duration": 0,
    "start_time": "2023-02-24T10:30:54.815Z"
   },
   {
    "duration": 0,
    "start_time": "2023-02-24T10:30:54.816Z"
   },
   {
    "duration": 1693,
    "start_time": "2023-02-24T10:31:00.975Z"
   },
   {
    "duration": 1013,
    "start_time": "2023-02-24T10:31:09.140Z"
   },
   {
    "duration": 4,
    "start_time": "2023-02-24T10:31:15.980Z"
   },
   {
    "duration": 1260,
    "start_time": "2023-02-24T10:31:16.948Z"
   },
   {
    "duration": 1717,
    "start_time": "2023-02-24T10:31:46.886Z"
   },
   {
    "duration": 984,
    "start_time": "2023-02-24T10:31:51.253Z"
   },
   {
    "duration": 4,
    "start_time": "2023-02-24T10:31:56.538Z"
   },
   {
    "duration": 1125,
    "start_time": "2023-02-24T10:31:59.083Z"
   },
   {
    "duration": 29,
    "start_time": "2023-02-24T10:32:30.036Z"
   },
   {
    "duration": 1233,
    "start_time": "2023-02-24T10:33:08.885Z"
   },
   {
    "duration": 1488,
    "start_time": "2023-02-24T10:33:30.364Z"
   },
   {
    "duration": 1812,
    "start_time": "2023-02-24T10:33:31.854Z"
   },
   {
    "duration": 51,
    "start_time": "2023-02-24T10:33:33.668Z"
   },
   {
    "duration": 29,
    "start_time": "2023-02-24T10:33:33.721Z"
   },
   {
    "duration": 138,
    "start_time": "2023-02-24T10:33:33.752Z"
   },
   {
    "duration": 316,
    "start_time": "2023-02-24T10:33:33.893Z"
   },
   {
    "duration": 113,
    "start_time": "2023-02-24T10:33:34.211Z"
   },
   {
    "duration": 1534,
    "start_time": "2023-02-24T10:33:34.326Z"
   },
   {
    "duration": 1352,
    "start_time": "2023-02-24T10:33:35.862Z"
   },
   {
    "duration": 6,
    "start_time": "2023-02-24T10:33:37.218Z"
   },
   {
    "duration": 398,
    "start_time": "2023-02-24T10:33:37.227Z"
   },
   {
    "duration": 444,
    "start_time": "2023-02-24T10:33:37.627Z"
   },
   {
    "duration": 676,
    "start_time": "2023-02-24T10:33:38.072Z"
   },
   {
    "duration": 372,
    "start_time": "2023-02-24T10:33:38.750Z"
   },
   {
    "duration": 21,
    "start_time": "2023-02-24T10:33:39.124Z"
   },
   {
    "duration": 31,
    "start_time": "2023-02-24T10:33:39.147Z"
   },
   {
    "duration": 627,
    "start_time": "2023-02-24T10:33:39.180Z"
   },
   {
    "duration": 17,
    "start_time": "2023-02-24T10:33:39.809Z"
   },
   {
    "duration": 7,
    "start_time": "2023-02-24T10:33:39.828Z"
   },
   {
    "duration": 256,
    "start_time": "2023-02-24T10:33:39.837Z"
   },
   {
    "duration": 396,
    "start_time": "2023-02-24T10:33:40.095Z"
   },
   {
    "duration": 586,
    "start_time": "2023-02-24T10:33:40.495Z"
   },
   {
    "duration": 491,
    "start_time": "2023-02-24T10:33:41.083Z"
   },
   {
    "duration": 27,
    "start_time": "2023-02-24T10:33:41.577Z"
   },
   {
    "duration": 17,
    "start_time": "2023-02-24T10:33:41.606Z"
   },
   {
    "duration": 200,
    "start_time": "2023-02-24T10:33:41.626Z"
   },
   {
    "duration": 16,
    "start_time": "2023-02-24T10:33:41.828Z"
   },
   {
    "duration": 207,
    "start_time": "2023-02-24T10:33:41.849Z"
   },
   {
    "duration": 272,
    "start_time": "2023-02-24T10:33:42.060Z"
   },
   {
    "duration": 303,
    "start_time": "2023-02-24T10:33:42.334Z"
   },
   {
    "duration": 73,
    "start_time": "2023-02-24T10:33:42.639Z"
   },
   {
    "duration": 823,
    "start_time": "2023-02-24T10:33:42.714Z"
   },
   {
    "duration": 472,
    "start_time": "2023-02-24T10:33:43.540Z"
   },
   {
    "duration": 419,
    "start_time": "2023-02-24T10:33:44.014Z"
   },
   {
    "duration": 312,
    "start_time": "2023-02-24T10:33:44.436Z"
   },
   {
    "duration": 583,
    "start_time": "2023-02-24T10:33:44.751Z"
   },
   {
    "duration": 248,
    "start_time": "2023-02-24T10:33:45.337Z"
   },
   {
    "duration": 1433,
    "start_time": "2023-02-24T10:33:45.586Z"
   },
   {
    "duration": 6,
    "start_time": "2023-02-24T10:33:47.021Z"
   },
   {
    "duration": 13,
    "start_time": "2023-02-24T10:33:47.028Z"
   },
   {
    "duration": 21069,
    "start_time": "2023-02-24T10:33:47.043Z"
   },
   {
    "duration": 11,
    "start_time": "2023-02-24T10:34:08.114Z"
   },
   {
    "duration": 216,
    "start_time": "2023-02-24T10:34:08.127Z"
   },
   {
    "duration": 15,
    "start_time": "2023-02-24T10:34:08.345Z"
   },
   {
    "duration": 387,
    "start_time": "2023-02-24T10:34:08.361Z"
   },
   {
    "duration": 1519,
    "start_time": "2023-02-24T10:34:08.750Z"
   },
   {
    "duration": 10789,
    "start_time": "2023-02-24T10:34:10.271Z"
   },
   {
    "duration": 15,
    "start_time": "2023-02-24T10:34:21.062Z"
   },
   {
    "duration": 29,
    "start_time": "2023-02-24T10:34:21.079Z"
   },
   {
    "duration": 224,
    "start_time": "2023-02-24T10:34:21.111Z"
   },
   {
    "duration": 14,
    "start_time": "2023-02-24T10:34:21.337Z"
   },
   {
    "duration": 558,
    "start_time": "2023-02-24T10:34:21.353Z"
   },
   {
    "duration": 166,
    "start_time": "2023-02-24T10:34:21.913Z"
   },
   {
    "duration": 94,
    "start_time": "2023-02-24T10:34:22.080Z"
   },
   {
    "duration": 13,
    "start_time": "2023-02-24T10:34:22.175Z"
   },
   {
    "duration": 3,
    "start_time": "2023-02-24T10:34:22.203Z"
   },
   {
    "duration": 132,
    "start_time": "2023-02-24T10:34:22.208Z"
   },
   {
    "duration": 0,
    "start_time": "2023-02-24T10:34:22.341Z"
   },
   {
    "duration": 0,
    "start_time": "2023-02-24T10:34:22.342Z"
   },
   {
    "duration": 0,
    "start_time": "2023-02-24T10:34:22.344Z"
   },
   {
    "duration": 0,
    "start_time": "2023-02-24T10:34:22.345Z"
   },
   {
    "duration": 0,
    "start_time": "2023-02-24T10:34:22.346Z"
   },
   {
    "duration": 0,
    "start_time": "2023-02-24T10:34:22.347Z"
   },
   {
    "duration": 0,
    "start_time": "2023-02-24T10:34:22.348Z"
   },
   {
    "duration": 0,
    "start_time": "2023-02-24T10:34:22.350Z"
   },
   {
    "duration": 0,
    "start_time": "2023-02-24T10:34:22.351Z"
   },
   {
    "duration": 1473,
    "start_time": "2023-02-24T10:34:39.098Z"
   },
   {
    "duration": 1038,
    "start_time": "2023-02-24T10:34:41.875Z"
   },
   {
    "duration": 4,
    "start_time": "2023-02-24T10:35:06.656Z"
   },
   {
    "duration": 1136,
    "start_time": "2023-02-24T10:35:07.375Z"
   },
   {
    "duration": 1470,
    "start_time": "2023-02-24T10:36:40.515Z"
   },
   {
    "duration": 833,
    "start_time": "2023-02-24T10:36:41.987Z"
   },
   {
    "duration": 18,
    "start_time": "2023-02-24T10:36:42.822Z"
   },
   {
    "duration": 40,
    "start_time": "2023-02-24T10:36:42.842Z"
   },
   {
    "duration": 146,
    "start_time": "2023-02-24T10:36:42.884Z"
   },
   {
    "duration": 296,
    "start_time": "2023-02-24T10:36:43.032Z"
   },
   {
    "duration": 94,
    "start_time": "2023-02-24T10:36:43.330Z"
   },
   {
    "duration": 1602,
    "start_time": "2023-02-24T10:36:43.426Z"
   },
   {
    "duration": 1387,
    "start_time": "2023-02-24T10:36:45.030Z"
   },
   {
    "duration": 5,
    "start_time": "2023-02-24T10:36:46.420Z"
   },
   {
    "duration": 369,
    "start_time": "2023-02-24T10:36:46.426Z"
   },
   {
    "duration": 433,
    "start_time": "2023-02-24T10:36:46.796Z"
   },
   {
    "duration": 746,
    "start_time": "2023-02-24T10:36:47.232Z"
   },
   {
    "duration": 481,
    "start_time": "2023-02-24T10:36:47.980Z"
   },
   {
    "duration": 19,
    "start_time": "2023-02-24T10:36:48.463Z"
   },
   {
    "duration": 27,
    "start_time": "2023-02-24T10:36:48.483Z"
   },
   {
    "duration": 575,
    "start_time": "2023-02-24T10:36:48.512Z"
   },
   {
    "duration": 17,
    "start_time": "2023-02-24T10:36:49.089Z"
   },
   {
    "duration": 7,
    "start_time": "2023-02-24T10:36:49.108Z"
   },
   {
    "duration": 256,
    "start_time": "2023-02-24T10:36:49.117Z"
   },
   {
    "duration": 388,
    "start_time": "2023-02-24T10:36:49.375Z"
   },
   {
    "duration": 583,
    "start_time": "2023-02-24T10:36:49.765Z"
   },
   {
    "duration": 467,
    "start_time": "2023-02-24T10:36:50.350Z"
   },
   {
    "duration": 18,
    "start_time": "2023-02-24T10:36:50.819Z"
   },
   {
    "duration": 24,
    "start_time": "2023-02-24T10:36:50.839Z"
   },
   {
    "duration": 201,
    "start_time": "2023-02-24T10:36:50.865Z"
   },
   {
    "duration": 17,
    "start_time": "2023-02-24T10:36:51.068Z"
   },
   {
    "duration": 223,
    "start_time": "2023-02-24T10:36:51.102Z"
   },
   {
    "duration": 286,
    "start_time": "2023-02-24T10:36:51.326Z"
   },
   {
    "duration": 302,
    "start_time": "2023-02-24T10:36:51.614Z"
   },
   {
    "duration": 62,
    "start_time": "2023-02-24T10:36:51.918Z"
   },
   {
    "duration": 735,
    "start_time": "2023-02-24T10:36:51.981Z"
   },
   {
    "duration": 419,
    "start_time": "2023-02-24T10:36:52.718Z"
   },
   {
    "duration": 302,
    "start_time": "2023-02-24T10:36:53.139Z"
   },
   {
    "duration": 279,
    "start_time": "2023-02-24T10:36:53.443Z"
   },
   {
    "duration": 584,
    "start_time": "2023-02-24T10:36:53.724Z"
   },
   {
    "duration": 257,
    "start_time": "2023-02-24T10:36:54.310Z"
   },
   {
    "duration": 2336,
    "start_time": "2023-02-24T10:36:54.569Z"
   },
   {
    "duration": 7,
    "start_time": "2023-02-24T10:36:56.907Z"
   },
   {
    "duration": 7,
    "start_time": "2023-02-24T10:36:56.916Z"
   },
   {
    "duration": 24369,
    "start_time": "2023-02-24T10:36:56.925Z"
   },
   {
    "duration": 15,
    "start_time": "2023-02-24T10:37:21.296Z"
   },
   {
    "duration": 216,
    "start_time": "2023-02-24T10:37:21.312Z"
   },
   {
    "duration": 23,
    "start_time": "2023-02-24T10:37:21.529Z"
   },
   {
    "duration": 409,
    "start_time": "2023-02-24T10:37:21.555Z"
   },
   {
    "duration": 1457,
    "start_time": "2023-02-24T10:37:21.966Z"
   },
   {
    "duration": 8836,
    "start_time": "2023-02-24T10:37:23.425Z"
   },
   {
    "duration": 15,
    "start_time": "2023-02-24T10:37:32.262Z"
   },
   {
    "duration": 29,
    "start_time": "2023-02-24T10:37:32.278Z"
   },
   {
    "duration": 14,
    "start_time": "2023-02-24T10:37:32.309Z"
   },
   {
    "duration": 448,
    "start_time": "2023-02-24T10:37:32.325Z"
   },
   {
    "duration": 140,
    "start_time": "2023-02-24T10:37:32.775Z"
   },
   {
    "duration": 86,
    "start_time": "2023-02-24T10:37:32.917Z"
   },
   {
    "duration": 12,
    "start_time": "2023-02-24T10:37:33.005Z"
   },
   {
    "duration": 15,
    "start_time": "2023-02-24T10:37:33.019Z"
   },
   {
    "duration": 124,
    "start_time": "2023-02-24T10:37:33.036Z"
   },
   {
    "duration": 1,
    "start_time": "2023-02-24T10:37:33.161Z"
   },
   {
    "duration": 0,
    "start_time": "2023-02-24T10:37:33.163Z"
   },
   {
    "duration": 0,
    "start_time": "2023-02-24T10:37:33.164Z"
   },
   {
    "duration": 0,
    "start_time": "2023-02-24T10:37:33.165Z"
   },
   {
    "duration": 0,
    "start_time": "2023-02-24T10:37:33.166Z"
   },
   {
    "duration": 0,
    "start_time": "2023-02-24T10:37:33.167Z"
   },
   {
    "duration": 0,
    "start_time": "2023-02-24T10:37:33.169Z"
   },
   {
    "duration": 0,
    "start_time": "2023-02-24T10:37:33.170Z"
   },
   {
    "duration": 0,
    "start_time": "2023-02-24T10:37:33.171Z"
   },
   {
    "duration": 1286,
    "start_time": "2023-02-24T10:38:01.455Z"
   },
   {
    "duration": 1165,
    "start_time": "2023-02-24T10:38:03.075Z"
   },
   {
    "duration": 4,
    "start_time": "2023-02-24T10:38:15.990Z"
   },
   {
    "duration": 15299,
    "start_time": "2023-02-24T10:38:17.022Z"
   },
   {
    "duration": 4,
    "start_time": "2023-02-24T10:38:32.323Z"
   },
   {
    "duration": 9,
    "start_time": "2023-02-24T10:38:33.019Z"
   },
   {
    "duration": 78,
    "start_time": "2023-02-24T10:52:55.665Z"
   },
   {
    "duration": 1100,
    "start_time": "2023-02-24T10:54:25.889Z"
   },
   {
    "duration": 1221,
    "start_time": "2023-02-24T10:54:54.932Z"
   },
   {
    "duration": 1252,
    "start_time": "2023-02-24T10:55:16.229Z"
   },
   {
    "duration": 14246,
    "start_time": "2023-02-24T10:55:30.076Z"
   },
   {
    "duration": 21,
    "start_time": "2023-02-24T10:55:44.324Z"
   },
   {
    "duration": 9,
    "start_time": "2023-02-24T10:55:51.927Z"
   },
   {
    "duration": 1479,
    "start_time": "2023-02-24T10:58:37.420Z"
   },
   {
    "duration": 891,
    "start_time": "2023-02-24T10:58:38.901Z"
   },
   {
    "duration": 22,
    "start_time": "2023-02-24T10:58:39.794Z"
   },
   {
    "duration": 15,
    "start_time": "2023-02-24T10:58:39.818Z"
   },
   {
    "duration": 127,
    "start_time": "2023-02-24T10:58:39.835Z"
   },
   {
    "duration": 288,
    "start_time": "2023-02-24T10:58:39.964Z"
   },
   {
    "duration": 91,
    "start_time": "2023-02-24T10:58:40.253Z"
   },
   {
    "duration": 1798,
    "start_time": "2023-02-24T10:58:40.346Z"
   },
   {
    "duration": 1505,
    "start_time": "2023-02-24T10:58:42.146Z"
   },
   {
    "duration": 7,
    "start_time": "2023-02-24T10:58:43.654Z"
   },
   {
    "duration": 388,
    "start_time": "2023-02-24T10:58:43.663Z"
   },
   {
    "duration": 552,
    "start_time": "2023-02-24T10:58:44.053Z"
   },
   {
    "duration": 694,
    "start_time": "2023-02-24T10:58:44.606Z"
   },
   {
    "duration": 356,
    "start_time": "2023-02-24T10:58:45.303Z"
   },
   {
    "duration": 19,
    "start_time": "2023-02-24T10:58:45.661Z"
   },
   {
    "duration": 30,
    "start_time": "2023-02-24T10:58:45.682Z"
   },
   {
    "duration": 574,
    "start_time": "2023-02-24T10:58:45.714Z"
   },
   {
    "duration": 22,
    "start_time": "2023-02-24T10:58:46.289Z"
   },
   {
    "duration": 5,
    "start_time": "2023-02-24T10:58:46.313Z"
   },
   {
    "duration": 284,
    "start_time": "2023-02-24T10:58:46.319Z"
   },
   {
    "duration": 366,
    "start_time": "2023-02-24T10:58:46.605Z"
   },
   {
    "duration": 631,
    "start_time": "2023-02-24T10:58:46.973Z"
   },
   {
    "duration": 471,
    "start_time": "2023-02-24T10:58:47.606Z"
   },
   {
    "duration": 36,
    "start_time": "2023-02-24T10:58:48.080Z"
   },
   {
    "duration": 23,
    "start_time": "2023-02-24T10:58:48.119Z"
   },
   {
    "duration": 318,
    "start_time": "2023-02-24T10:58:48.144Z"
   },
   {
    "duration": 16,
    "start_time": "2023-02-24T10:58:48.504Z"
   },
   {
    "duration": 202,
    "start_time": "2023-02-24T10:58:48.522Z"
   },
   {
    "duration": 288,
    "start_time": "2023-02-24T10:58:48.726Z"
   },
   {
    "duration": 319,
    "start_time": "2023-02-24T10:58:49.017Z"
   },
   {
    "duration": 90,
    "start_time": "2023-02-24T10:58:49.338Z"
   },
   {
    "duration": 719,
    "start_time": "2023-02-24T10:58:49.430Z"
   },
   {
    "duration": 399,
    "start_time": "2023-02-24T10:58:50.151Z"
   },
   {
    "duration": 278,
    "start_time": "2023-02-24T10:58:50.552Z"
   },
   {
    "duration": 275,
    "start_time": "2023-02-24T10:58:50.832Z"
   },
   {
    "duration": 533,
    "start_time": "2023-02-24T10:58:51.109Z"
   },
   {
    "duration": 239,
    "start_time": "2023-02-24T10:58:51.644Z"
   },
   {
    "duration": 1539,
    "start_time": "2023-02-24T10:58:51.885Z"
   },
   {
    "duration": 8,
    "start_time": "2023-02-24T10:58:53.426Z"
   },
   {
    "duration": 20,
    "start_time": "2023-02-24T10:58:53.437Z"
   },
   {
    "duration": 34259,
    "start_time": "2023-02-24T10:58:53.462Z"
   },
   {
    "duration": 11,
    "start_time": "2023-02-24T10:59:27.723Z"
   },
   {
    "duration": 206,
    "start_time": "2023-02-24T10:59:27.736Z"
   },
   {
    "duration": 14,
    "start_time": "2023-02-24T10:59:27.944Z"
   },
   {
    "duration": 370,
    "start_time": "2023-02-24T10:59:27.960Z"
   },
   {
    "duration": 1499,
    "start_time": "2023-02-24T10:59:28.332Z"
   },
   {
    "duration": 8570,
    "start_time": "2023-02-24T10:59:29.833Z"
   },
   {
    "duration": 13,
    "start_time": "2023-02-24T10:59:38.405Z"
   },
   {
    "duration": 18,
    "start_time": "2023-02-24T10:59:38.420Z"
   },
   {
    "duration": 14,
    "start_time": "2023-02-24T10:59:38.440Z"
   },
   {
    "duration": 431,
    "start_time": "2023-02-24T10:59:38.455Z"
   },
   {
    "duration": 121,
    "start_time": "2023-02-24T10:59:38.888Z"
   },
   {
    "duration": 76,
    "start_time": "2023-02-24T10:59:39.011Z"
   },
   {
    "duration": 25,
    "start_time": "2023-02-24T10:59:39.088Z"
   },
   {
    "duration": 5,
    "start_time": "2023-02-24T10:59:39.114Z"
   },
   {
    "duration": 1213,
    "start_time": "2023-02-24T10:59:39.121Z"
   },
   {
    "duration": 1142,
    "start_time": "2023-02-24T10:59:40.335Z"
   },
   {
    "duration": 3,
    "start_time": "2023-02-24T10:59:41.478Z"
   },
   {
    "duration": 9,
    "start_time": "2023-02-24T10:59:41.482Z"
   },
   {
    "duration": 16518,
    "start_time": "2023-02-24T10:59:41.492Z"
   },
   {
    "duration": 3,
    "start_time": "2023-02-24T10:59:58.012Z"
   },
   {
    "duration": 15,
    "start_time": "2023-02-24T10:59:58.017Z"
   },
   {
    "duration": 1444,
    "start_time": "2023-02-24T11:05:16.078Z"
   },
   {
    "duration": 825,
    "start_time": "2023-02-24T11:05:17.524Z"
   },
   {
    "duration": 18,
    "start_time": "2023-02-24T11:05:18.350Z"
   },
   {
    "duration": 16,
    "start_time": "2023-02-24T11:05:18.369Z"
   },
   {
    "duration": 119,
    "start_time": "2023-02-24T11:05:18.387Z"
   },
   {
    "duration": 274,
    "start_time": "2023-02-24T11:05:18.508Z"
   },
   {
    "duration": 85,
    "start_time": "2023-02-24T11:05:18.784Z"
   },
   {
    "duration": 1523,
    "start_time": "2023-02-24T11:05:18.871Z"
   },
   {
    "duration": 1286,
    "start_time": "2023-02-24T11:05:20.396Z"
   },
   {
    "duration": 5,
    "start_time": "2023-02-24T11:05:21.686Z"
   },
   {
    "duration": 373,
    "start_time": "2023-02-24T11:05:21.692Z"
   },
   {
    "duration": 405,
    "start_time": "2023-02-24T11:05:22.067Z"
   },
   {
    "duration": 641,
    "start_time": "2023-02-24T11:05:22.473Z"
   },
   {
    "duration": 350,
    "start_time": "2023-02-24T11:05:23.116Z"
   },
   {
    "duration": 18,
    "start_time": "2023-02-24T11:05:23.468Z"
   },
   {
    "duration": 25,
    "start_time": "2023-02-24T11:05:23.488Z"
   },
   {
    "duration": 547,
    "start_time": "2023-02-24T11:05:23.514Z"
   },
   {
    "duration": 19,
    "start_time": "2023-02-24T11:05:24.063Z"
   },
   {
    "duration": 19,
    "start_time": "2023-02-24T11:05:24.084Z"
   },
   {
    "duration": 274,
    "start_time": "2023-02-24T11:05:24.106Z"
   },
   {
    "duration": 373,
    "start_time": "2023-02-24T11:05:24.381Z"
   },
   {
    "duration": 600,
    "start_time": "2023-02-24T11:05:24.756Z"
   },
   {
    "duration": 425,
    "start_time": "2023-02-24T11:05:25.358Z"
   },
   {
    "duration": 21,
    "start_time": "2023-02-24T11:05:25.784Z"
   },
   {
    "duration": 13,
    "start_time": "2023-02-24T11:05:25.807Z"
   },
   {
    "duration": 202,
    "start_time": "2023-02-24T11:05:25.822Z"
   },
   {
    "duration": 28,
    "start_time": "2023-02-24T11:05:26.026Z"
   },
   {
    "duration": 202,
    "start_time": "2023-02-24T11:05:26.058Z"
   },
   {
    "duration": 270,
    "start_time": "2023-02-24T11:05:26.262Z"
   },
   {
    "duration": 287,
    "start_time": "2023-02-24T11:05:26.534Z"
   },
   {
    "duration": 88,
    "start_time": "2023-02-24T11:05:26.823Z"
   },
   {
    "duration": 738,
    "start_time": "2023-02-24T11:05:26.913Z"
   },
   {
    "duration": 404,
    "start_time": "2023-02-24T11:05:27.653Z"
   },
   {
    "duration": 284,
    "start_time": "2023-02-24T11:05:28.058Z"
   },
   {
    "duration": 272,
    "start_time": "2023-02-24T11:05:28.344Z"
   },
   {
    "duration": 520,
    "start_time": "2023-02-24T11:05:28.618Z"
   },
   {
    "duration": 235,
    "start_time": "2023-02-24T11:05:29.140Z"
   },
   {
    "duration": 1349,
    "start_time": "2023-02-24T11:05:29.377Z"
   },
   {
    "duration": 6,
    "start_time": "2023-02-24T11:05:30.727Z"
   },
   {
    "duration": 29,
    "start_time": "2023-02-24T11:05:30.735Z"
   },
   {
    "duration": 20292,
    "start_time": "2023-02-24T11:05:30.766Z"
   },
   {
    "duration": 11,
    "start_time": "2023-02-24T11:05:51.060Z"
   },
   {
    "duration": 209,
    "start_time": "2023-02-24T11:05:51.073Z"
   },
   {
    "duration": 21,
    "start_time": "2023-02-24T11:05:51.284Z"
   },
   {
    "duration": 367,
    "start_time": "2023-02-24T11:05:51.307Z"
   },
   {
    "duration": 1403,
    "start_time": "2023-02-24T11:05:51.677Z"
   },
   {
    "duration": 8528,
    "start_time": "2023-02-24T11:05:53.083Z"
   },
   {
    "duration": 15,
    "start_time": "2023-02-24T11:06:01.613Z"
   },
   {
    "duration": 48,
    "start_time": "2023-02-24T11:06:01.629Z"
   },
   {
    "duration": 45,
    "start_time": "2023-02-24T11:06:01.679Z"
   },
   {
    "duration": 413,
    "start_time": "2023-02-24T11:06:01.726Z"
   },
   {
    "duration": 143,
    "start_time": "2023-02-24T11:06:02.141Z"
   },
   {
    "duration": 81,
    "start_time": "2023-02-24T11:06:02.286Z"
   },
   {
    "duration": 12,
    "start_time": "2023-02-24T11:06:02.368Z"
   },
   {
    "duration": 11,
    "start_time": "2023-02-24T11:06:02.382Z"
   },
   {
    "duration": 1260,
    "start_time": "2023-02-24T11:06:02.408Z"
   },
   {
    "duration": 1228,
    "start_time": "2023-02-24T11:06:03.670Z"
   },
   {
    "duration": 2,
    "start_time": "2023-02-24T11:06:04.900Z"
   },
   {
    "duration": 7,
    "start_time": "2023-02-24T11:06:04.903Z"
   },
   {
    "duration": 22764,
    "start_time": "2023-02-24T11:06:04.912Z"
   },
   {
    "duration": 5,
    "start_time": "2023-02-24T11:06:27.678Z"
   },
   {
    "duration": 19,
    "start_time": "2023-02-24T11:06:27.685Z"
   },
   {
    "duration": 568,
    "start_time": "2023-02-24T11:24:13.236Z"
   },
   {
    "duration": 30,
    "start_time": "2023-02-24T11:24:41.729Z"
   },
   {
    "duration": 87,
    "start_time": "2023-02-24T11:25:07.230Z"
   },
   {
    "duration": 4106,
    "start_time": "2023-02-24T11:25:10.065Z"
   },
   {
    "duration": 890,
    "start_time": "2023-02-24T11:25:18.382Z"
   },
   {
    "duration": 151470,
    "start_time": "2023-02-24T11:28:46.960Z"
   },
   {
    "duration": 0,
    "start_time": "2023-02-24T11:31:18.432Z"
   },
   {
    "duration": 0,
    "start_time": "2023-02-26T22:31:43.716Z"
   },
   {
    "duration": 103,
    "start_time": "2023-02-26T22:31:46.302Z"
   },
   {
    "duration": 2151,
    "start_time": "2023-02-26T22:33:15.813Z"
   },
   {
    "duration": 1156,
    "start_time": "2023-02-26T22:35:19.947Z"
   },
   {
    "duration": 2229,
    "start_time": "2023-02-26T22:35:49.674Z"
   },
   {
    "duration": 17,
    "start_time": "2023-02-26T22:45:19.515Z"
   },
   {
    "duration": 11,
    "start_time": "2023-02-26T22:45:36.262Z"
   },
   {
    "duration": 16,
    "start_time": "2023-02-26T22:47:38.027Z"
   },
   {
    "duration": 975,
    "start_time": "2023-02-26T22:47:48.334Z"
   },
   {
    "duration": 1267,
    "start_time": "2023-02-26T22:48:03.836Z"
   },
   {
    "duration": 1130,
    "start_time": "2023-02-26T22:48:14.874Z"
   },
   {
    "duration": 10,
    "start_time": "2023-02-26T22:50:05.395Z"
   },
   {
    "duration": 1216,
    "start_time": "2023-02-26T22:50:13.689Z"
   },
   {
    "duration": 1265,
    "start_time": "2023-02-26T22:51:31.045Z"
   },
   {
    "duration": 1377,
    "start_time": "2023-02-26T22:52:35.030Z"
   },
   {
    "duration": 1128,
    "start_time": "2023-02-26T22:53:03.276Z"
   },
   {
    "duration": 1191,
    "start_time": "2023-02-26T22:53:21.419Z"
   },
   {
    "duration": 951,
    "start_time": "2023-02-26T22:53:29.858Z"
   },
   {
    "duration": 1091,
    "start_time": "2023-02-26T22:53:36.811Z"
   },
   {
    "duration": 1131,
    "start_time": "2023-02-26T22:53:45.174Z"
   },
   {
    "duration": 1055,
    "start_time": "2023-02-26T22:53:55.049Z"
   },
   {
    "duration": 782,
    "start_time": "2023-02-26T22:54:44.821Z"
   },
   {
    "duration": 1119,
    "start_time": "2023-02-26T23:05:27.656Z"
   },
   {
    "duration": 38511,
    "start_time": "2023-02-26T23:06:22.210Z"
   },
   {
    "duration": 2763,
    "start_time": "2023-02-26T23:07:07.866Z"
   },
   {
    "duration": 4255,
    "start_time": "2023-02-26T23:08:17.874Z"
   },
   {
    "duration": 4,
    "start_time": "2023-02-26T23:13:58.513Z"
   },
   {
    "duration": 11,
    "start_time": "2023-02-26T23:13:59.211Z"
   },
   {
    "duration": 323,
    "start_time": "2023-02-26T23:14:01.794Z"
   },
   {
    "duration": 318,
    "start_time": "2023-02-26T23:18:37.593Z"
   },
   {
    "duration": 300,
    "start_time": "2023-02-26T23:18:52.713Z"
   },
   {
    "duration": 356,
    "start_time": "2023-02-26T23:28:56.156Z"
   },
   {
    "duration": 381,
    "start_time": "2023-02-26T23:30:52.532Z"
   },
   {
    "duration": 58591,
    "start_time": "2023-02-26T23:31:04.213Z"
   },
   {
    "duration": 353,
    "start_time": "2023-02-26T23:33:27.764Z"
   },
   {
    "duration": 365,
    "start_time": "2023-02-26T23:33:46.440Z"
   },
   {
    "duration": 8938,
    "start_time": "2023-02-26T23:33:55.183Z"
   },
   {
    "duration": 26932,
    "start_time": "2023-02-26T23:34:09.774Z"
   },
   {
    "duration": 8515,
    "start_time": "2023-02-26T23:34:58.405Z"
   },
   {
    "duration": 0,
    "start_time": "2023-02-26T23:38:49.912Z"
   },
   {
    "duration": 1348,
    "start_time": "2023-02-26T23:42:16.151Z"
   },
   {
    "duration": 758,
    "start_time": "2023-02-26T23:42:17.501Z"
   },
   {
    "duration": 15,
    "start_time": "2023-02-26T23:42:18.261Z"
   },
   {
    "duration": 15,
    "start_time": "2023-02-26T23:42:18.277Z"
   },
   {
    "duration": 113,
    "start_time": "2023-02-26T23:42:18.304Z"
   },
   {
    "duration": 258,
    "start_time": "2023-02-26T23:42:18.418Z"
   },
   {
    "duration": 78,
    "start_time": "2023-02-26T23:42:18.677Z"
   },
   {
    "duration": 1399,
    "start_time": "2023-02-26T23:42:18.756Z"
   },
   {
    "duration": 1196,
    "start_time": "2023-02-26T23:42:20.156Z"
   },
   {
    "duration": 5,
    "start_time": "2023-02-26T23:42:21.353Z"
   },
   {
    "duration": 325,
    "start_time": "2023-02-26T23:42:21.359Z"
   },
   {
    "duration": 391,
    "start_time": "2023-02-26T23:42:21.685Z"
   },
   {
    "duration": 604,
    "start_time": "2023-02-26T23:42:22.078Z"
   },
   {
    "duration": 316,
    "start_time": "2023-02-26T23:42:22.685Z"
   },
   {
    "duration": 17,
    "start_time": "2023-02-26T23:42:23.003Z"
   },
   {
    "duration": 17,
    "start_time": "2023-02-26T23:42:23.022Z"
   },
   {
    "duration": 544,
    "start_time": "2023-02-26T23:42:23.041Z"
   },
   {
    "duration": 17,
    "start_time": "2023-02-26T23:42:23.587Z"
   },
   {
    "duration": 4,
    "start_time": "2023-02-26T23:42:23.606Z"
   },
   {
    "duration": 223,
    "start_time": "2023-02-26T23:42:23.612Z"
   },
   {
    "duration": 345,
    "start_time": "2023-02-26T23:42:23.837Z"
   },
   {
    "duration": 514,
    "start_time": "2023-02-26T23:42:24.184Z"
   },
   {
    "duration": 373,
    "start_time": "2023-02-26T23:42:24.700Z"
   },
   {
    "duration": 15,
    "start_time": "2023-02-26T23:42:25.075Z"
   },
   {
    "duration": 21,
    "start_time": "2023-02-26T23:42:25.092Z"
   },
   {
    "duration": 180,
    "start_time": "2023-02-26T23:42:25.115Z"
   },
   {
    "duration": 18,
    "start_time": "2023-02-26T23:42:25.296Z"
   },
   {
    "duration": 187,
    "start_time": "2023-02-26T23:42:25.316Z"
   },
   {
    "duration": 244,
    "start_time": "2023-02-26T23:42:25.505Z"
   },
   {
    "duration": 259,
    "start_time": "2023-02-26T23:42:25.751Z"
   },
   {
    "duration": 59,
    "start_time": "2023-02-26T23:42:26.012Z"
   },
   {
    "duration": 656,
    "start_time": "2023-02-26T23:42:26.073Z"
   },
   {
    "duration": 372,
    "start_time": "2023-02-26T23:42:26.731Z"
   },
   {
    "duration": 281,
    "start_time": "2023-02-26T23:42:27.105Z"
   },
   {
    "duration": 240,
    "start_time": "2023-02-26T23:42:27.388Z"
   },
   {
    "duration": 471,
    "start_time": "2023-02-26T23:42:27.630Z"
   },
   {
    "duration": 203,
    "start_time": "2023-02-26T23:42:28.103Z"
   },
   {
    "duration": 1223,
    "start_time": "2023-02-26T23:42:28.308Z"
   },
   {
    "duration": 5,
    "start_time": "2023-02-26T23:42:29.532Z"
   },
   {
    "duration": 8,
    "start_time": "2023-02-26T23:42:29.539Z"
   },
   {
    "duration": 23506,
    "start_time": "2023-02-26T23:42:29.550Z"
   },
   {
    "duration": 10,
    "start_time": "2023-02-26T23:42:53.057Z"
   },
   {
    "duration": 213,
    "start_time": "2023-02-26T23:42:53.069Z"
   },
   {
    "duration": 20,
    "start_time": "2023-02-26T23:42:53.284Z"
   },
   {
    "duration": 330,
    "start_time": "2023-02-26T23:42:53.305Z"
   },
   {
    "duration": 1306,
    "start_time": "2023-02-26T23:42:53.636Z"
   },
   {
    "duration": 7390,
    "start_time": "2023-02-26T23:42:54.944Z"
   },
   {
    "duration": 15,
    "start_time": "2023-02-26T23:43:02.336Z"
   },
   {
    "duration": 18,
    "start_time": "2023-02-26T23:43:02.352Z"
   },
   {
    "duration": 33,
    "start_time": "2023-02-26T23:43:02.373Z"
   },
   {
    "duration": 425,
    "start_time": "2023-02-26T23:43:02.408Z"
   },
   {
    "duration": 138,
    "start_time": "2023-02-26T23:43:02.835Z"
   },
   {
    "duration": 82,
    "start_time": "2023-02-26T23:43:02.975Z"
   },
   {
    "duration": 14,
    "start_time": "2023-02-26T23:43:03.059Z"
   },
   {
    "duration": 5,
    "start_time": "2023-02-26T23:43:03.074Z"
   },
   {
    "duration": 1242,
    "start_time": "2023-02-26T23:43:03.080Z"
   },
   {
    "duration": 2176,
    "start_time": "2023-02-26T23:43:04.324Z"
   },
   {
    "duration": 3,
    "start_time": "2023-02-26T23:43:06.502Z"
   },
   {
    "duration": 13,
    "start_time": "2023-02-26T23:43:06.507Z"
   },
   {
    "duration": 44804,
    "start_time": "2023-02-26T23:43:06.522Z"
   },
   {
    "duration": 0,
    "start_time": "2023-02-26T23:43:51.327Z"
   },
   {
    "duration": 0,
    "start_time": "2023-02-26T23:43:51.329Z"
   },
   {
    "duration": 5,
    "start_time": "2023-02-26T23:44:31.636Z"
   },
   {
    "duration": 177586,
    "start_time": "2023-02-26T23:44:32.446Z"
   },
   {
    "duration": 4,
    "start_time": "2023-02-26T23:47:36.134Z"
   },
   {
    "duration": 12979,
    "start_time": "2023-02-26T23:47:36.569Z"
   },
   {
    "duration": 13,
    "start_time": "2023-02-26T23:48:10.582Z"
   },
   {
    "duration": 4,
    "start_time": "2023-02-26T23:56:13.640Z"
   },
   {
    "duration": 22616,
    "start_time": "2023-02-26T23:56:14.518Z"
   },
   {
    "duration": 16642,
    "start_time": "2023-02-26T23:56:38.083Z"
   },
   {
    "duration": 14136,
    "start_time": "2023-02-26T23:57:52.414Z"
   },
   {
    "duration": 13,
    "start_time": "2023-02-26T23:58:10.168Z"
   },
   {
    "duration": 3126,
    "start_time": "2023-02-26T23:59:09.109Z"
   },
   {
    "duration": 4,
    "start_time": "2023-02-26T23:59:13.253Z"
   },
   {
    "duration": 13628,
    "start_time": "2023-02-26T23:59:13.814Z"
   },
   {
    "duration": 4,
    "start_time": "2023-02-26T23:59:31.818Z"
   },
   {
    "duration": 10,
    "start_time": "2023-02-26T23:59:35.127Z"
   },
   {
    "duration": 4,
    "start_time": "2023-02-27T00:00:45.187Z"
   },
   {
    "duration": 14241,
    "start_time": "2023-02-27T00:00:45.709Z"
   },
   {
    "duration": 8,
    "start_time": "2023-02-27T00:01:08.979Z"
   },
   {
    "duration": 4,
    "start_time": "2023-02-27T00:04:37.953Z"
   },
   {
    "duration": 37125,
    "start_time": "2023-02-27T00:04:38.571Z"
   },
   {
    "duration": 4,
    "start_time": "2023-02-27T00:05:19.431Z"
   },
   {
    "duration": 8,
    "start_time": "2023-02-27T00:05:22.369Z"
   },
   {
    "duration": 3,
    "start_time": "2023-02-27T00:36:28.977Z"
   },
   {
    "duration": 39813,
    "start_time": "2023-02-27T00:36:29.249Z"
   },
   {
    "duration": 4,
    "start_time": "2023-02-27T00:37:19.977Z"
   },
   {
    "duration": 9,
    "start_time": "2023-02-27T00:37:22.169Z"
   },
   {
    "duration": 4,
    "start_time": "2023-02-27T00:39:18.473Z"
   },
   {
    "duration": 3,
    "start_time": "2023-02-27T00:41:55.038Z"
   },
   {
    "duration": 37071,
    "start_time": "2023-02-27T00:41:55.941Z"
   },
   {
    "duration": 4,
    "start_time": "2023-02-27T00:42:38.600Z"
   },
   {
    "duration": 9,
    "start_time": "2023-02-27T00:42:42.065Z"
   },
   {
    "duration": 4,
    "start_time": "2023-02-27T00:44:12.511Z"
   },
   {
    "duration": 328,
    "start_time": "2023-02-27T00:44:13.076Z"
   },
   {
    "duration": 285,
    "start_time": "2023-02-27T00:45:04.719Z"
   },
   {
    "duration": 302,
    "start_time": "2023-02-27T00:45:48.604Z"
   },
   {
    "duration": 39318,
    "start_time": "2023-02-27T00:45:53.309Z"
   },
   {
    "duration": 8,
    "start_time": "2023-02-27T00:46:39.002Z"
   },
   {
    "duration": 4,
    "start_time": "2023-02-27T00:50:31.007Z"
   },
   {
    "duration": 79,
    "start_time": "2023-02-27T00:50:31.609Z"
   },
   {
    "duration": 159736,
    "start_time": "2023-02-27T00:50:41.477Z"
   },
   {
    "duration": 5,
    "start_time": "2023-02-27T00:53:29.671Z"
   },
   {
    "duration": 8,
    "start_time": "2023-02-27T00:53:32.688Z"
   },
   {
    "duration": 1223,
    "start_time": "2023-02-27T01:00:51.389Z"
   },
   {
    "duration": 1203,
    "start_time": "2023-02-27T01:01:10.477Z"
   },
   {
    "duration": 2159,
    "start_time": "2023-02-27T01:01:18.309Z"
   },
   {
    "duration": 4,
    "start_time": "2023-02-27T01:01:26.174Z"
   },
   {
    "duration": 363930,
    "start_time": "2023-02-27T01:02:35.314Z"
   },
   {
    "duration": 4,
    "start_time": "2023-02-27T01:10:04.698Z"
   },
   {
    "duration": 8,
    "start_time": "2023-02-27T01:10:08.356Z"
   },
   {
    "duration": 4,
    "start_time": "2023-02-27T01:15:08.115Z"
   },
   {
    "duration": 89863,
    "start_time": "2023-02-27T01:15:08.572Z"
   },
   {
    "duration": 4,
    "start_time": "2023-02-27T01:16:49.991Z"
   },
   {
    "duration": 10,
    "start_time": "2023-02-27T01:16:51.809Z"
   },
   {
    "duration": 4,
    "start_time": "2023-02-27T01:17:57.268Z"
   },
   {
    "duration": 25617,
    "start_time": "2023-02-27T01:19:49.986Z"
   },
   {
    "duration": 1185,
    "start_time": "2023-02-27T01:23:53.442Z"
   },
   {
    "duration": 1415,
    "start_time": "2023-02-27T01:24:20.395Z"
   },
   {
    "duration": 1904,
    "start_time": "2023-02-27T01:24:46.005Z"
   },
   {
    "duration": 72,
    "start_time": "2023-02-27T01:33:47.409Z"
   },
   {
    "duration": 80,
    "start_time": "2023-02-27T01:38:58.392Z"
   },
   {
    "duration": 1548,
    "start_time": "2023-02-27T01:46:52.356Z"
   },
   {
    "duration": 1444,
    "start_time": "2023-02-27T01:47:08.361Z"
   },
   {
    "duration": 1346,
    "start_time": "2023-02-27T01:47:50.658Z"
   },
   {
    "duration": 1365,
    "start_time": "2023-02-27T01:48:22.551Z"
   },
   {
    "duration": 4,
    "start_time": "2023-02-27T01:49:48.189Z"
   },
   {
    "duration": 10,
    "start_time": "2023-02-27T01:50:00.637Z"
   },
   {
    "duration": 9,
    "start_time": "2023-02-27T01:50:04.965Z"
   },
   {
    "duration": 9,
    "start_time": "2023-02-27T01:50:07.405Z"
   },
   {
    "duration": 10,
    "start_time": "2023-02-27T01:50:49.953Z"
   },
   {
    "duration": 9,
    "start_time": "2023-02-27T01:50:53.221Z"
   },
   {
    "duration": 4,
    "start_time": "2023-02-27T01:51:02.922Z"
   },
   {
    "duration": 1559,
    "start_time": "2023-02-27T02:01:49.638Z"
   },
   {
    "duration": 756,
    "start_time": "2023-02-27T02:01:51.198Z"
   },
   {
    "duration": 16,
    "start_time": "2023-02-27T02:01:51.956Z"
   },
   {
    "duration": 14,
    "start_time": "2023-02-27T02:01:51.974Z"
   },
   {
    "duration": 117,
    "start_time": "2023-02-27T02:01:51.990Z"
   },
   {
    "duration": 250,
    "start_time": "2023-02-27T02:01:52.108Z"
   },
   {
    "duration": 75,
    "start_time": "2023-02-27T02:01:52.360Z"
   },
   {
    "duration": 1459,
    "start_time": "2023-02-27T02:01:52.437Z"
   },
   {
    "duration": 1334,
    "start_time": "2023-02-27T02:01:53.898Z"
   },
   {
    "duration": 4,
    "start_time": "2023-02-27T02:01:55.234Z"
   },
   {
    "duration": 334,
    "start_time": "2023-02-27T02:01:55.240Z"
   },
   {
    "duration": 387,
    "start_time": "2023-02-27T02:01:55.576Z"
   },
   {
    "duration": 590,
    "start_time": "2023-02-27T02:01:55.964Z"
   },
   {
    "duration": 306,
    "start_time": "2023-02-27T02:01:56.556Z"
   },
   {
    "duration": 17,
    "start_time": "2023-02-27T02:01:56.864Z"
   },
   {
    "duration": 26,
    "start_time": "2023-02-27T02:01:56.882Z"
   },
   {
    "duration": 472,
    "start_time": "2023-02-27T02:01:56.910Z"
   },
   {
    "duration": 12,
    "start_time": "2023-02-27T02:01:57.384Z"
   },
   {
    "duration": 5,
    "start_time": "2023-02-27T02:01:57.403Z"
   },
   {
    "duration": 219,
    "start_time": "2023-02-27T02:01:57.409Z"
   },
   {
    "duration": 332,
    "start_time": "2023-02-27T02:01:57.629Z"
   },
   {
    "duration": 520,
    "start_time": "2023-02-27T02:01:57.963Z"
   },
   {
    "duration": 388,
    "start_time": "2023-02-27T02:01:58.485Z"
   },
   {
    "duration": 15,
    "start_time": "2023-02-27T02:01:58.875Z"
   },
   {
    "duration": 22,
    "start_time": "2023-02-27T02:01:58.892Z"
   },
   {
    "duration": 190,
    "start_time": "2023-02-27T02:01:58.916Z"
   },
   {
    "duration": 17,
    "start_time": "2023-02-27T02:01:59.108Z"
   },
   {
    "duration": 305,
    "start_time": "2023-02-27T02:01:59.130Z"
   },
   {
    "duration": 252,
    "start_time": "2023-02-27T02:01:59.437Z"
   },
   {
    "duration": 261,
    "start_time": "2023-02-27T02:01:59.691Z"
   },
   {
    "duration": 73,
    "start_time": "2023-02-27T02:01:59.954Z"
   },
   {
    "duration": 640,
    "start_time": "2023-02-27T02:02:00.029Z"
   },
   {
    "duration": 288,
    "start_time": "2023-02-27T02:02:00.671Z"
   },
   {
    "duration": 272,
    "start_time": "2023-02-27T02:02:00.961Z"
   },
   {
    "duration": 237,
    "start_time": "2023-02-27T02:02:01.234Z"
   },
   {
    "duration": 471,
    "start_time": "2023-02-27T02:02:01.473Z"
   },
   {
    "duration": 334,
    "start_time": "2023-02-27T02:02:01.946Z"
   },
   {
    "duration": 1301,
    "start_time": "2023-02-27T02:02:02.281Z"
   },
   {
    "duration": 7,
    "start_time": "2023-02-27T02:02:03.584Z"
   },
   {
    "duration": 7,
    "start_time": "2023-02-27T02:02:03.604Z"
   },
   {
    "duration": 28717,
    "start_time": "2023-02-27T02:02:03.613Z"
   },
   {
    "duration": 10,
    "start_time": "2023-02-27T02:02:32.331Z"
   },
   {
    "duration": 207,
    "start_time": "2023-02-27T02:02:32.343Z"
   },
   {
    "duration": 13,
    "start_time": "2023-02-27T02:02:32.552Z"
   },
   {
    "duration": 337,
    "start_time": "2023-02-27T02:02:32.566Z"
   },
   {
    "duration": 1418,
    "start_time": "2023-02-27T02:02:32.905Z"
   },
   {
    "duration": 7607,
    "start_time": "2023-02-27T02:02:34.324Z"
   },
   {
    "duration": 14,
    "start_time": "2023-02-27T02:02:41.932Z"
   },
   {
    "duration": 17,
    "start_time": "2023-02-27T02:02:41.947Z"
   },
   {
    "duration": 16,
    "start_time": "2023-02-27T02:02:41.966Z"
   },
   {
    "duration": 426,
    "start_time": "2023-02-27T02:02:42.004Z"
   },
   {
    "duration": 160,
    "start_time": "2023-02-27T02:02:42.431Z"
   },
   {
    "duration": 72,
    "start_time": "2023-02-27T02:02:42.593Z"
   },
   {
    "duration": 13,
    "start_time": "2023-02-27T02:02:42.666Z"
   },
   {
    "duration": 5,
    "start_time": "2023-02-27T02:02:42.681Z"
   },
   {
    "duration": 3,
    "start_time": "2023-02-27T02:02:42.703Z"
   },
   {
    "duration": 1259,
    "start_time": "2023-02-27T02:02:42.708Z"
   },
   {
    "duration": 2229,
    "start_time": "2023-02-27T02:02:43.968Z"
   },
   {
    "duration": 4,
    "start_time": "2023-02-27T02:02:46.198Z"
   },
   {
    "duration": 94281,
    "start_time": "2023-02-27T02:02:46.204Z"
   },
   {
    "duration": 3,
    "start_time": "2023-02-27T02:04:20.487Z"
   },
   {
    "duration": 16,
    "start_time": "2023-02-27T02:04:20.491Z"
   },
   {
    "duration": 1497,
    "start_time": "2023-02-27T02:04:20.509Z"
   },
   {
    "duration": 1689,
    "start_time": "2023-02-27T02:06:44.167Z"
   },
   {
    "duration": 802,
    "start_time": "2023-02-27T02:06:45.858Z"
   },
   {
    "duration": 18,
    "start_time": "2023-02-27T02:06:46.662Z"
   },
   {
    "duration": 23,
    "start_time": "2023-02-27T02:06:46.682Z"
   },
   {
    "duration": 118,
    "start_time": "2023-02-27T02:06:46.706Z"
   },
   {
    "duration": 231,
    "start_time": "2023-02-27T02:06:46.826Z"
   },
   {
    "duration": 82,
    "start_time": "2023-02-27T02:06:47.058Z"
   },
   {
    "duration": 1441,
    "start_time": "2023-02-27T02:06:47.142Z"
   },
   {
    "duration": 1240,
    "start_time": "2023-02-27T02:06:48.585Z"
   },
   {
    "duration": 4,
    "start_time": "2023-02-27T02:06:49.828Z"
   },
   {
    "duration": 332,
    "start_time": "2023-02-27T02:06:49.833Z"
   },
   {
    "duration": 383,
    "start_time": "2023-02-27T02:06:50.166Z"
   },
   {
    "duration": 603,
    "start_time": "2023-02-27T02:06:50.550Z"
   },
   {
    "duration": 316,
    "start_time": "2023-02-27T02:06:51.155Z"
   },
   {
    "duration": 18,
    "start_time": "2023-02-27T02:06:51.472Z"
   },
   {
    "duration": 23,
    "start_time": "2023-02-27T02:06:51.492Z"
   },
   {
    "duration": 495,
    "start_time": "2023-02-27T02:06:51.516Z"
   },
   {
    "duration": 13,
    "start_time": "2023-02-27T02:06:52.013Z"
   },
   {
    "duration": 5,
    "start_time": "2023-02-27T02:06:52.027Z"
   },
   {
    "duration": 231,
    "start_time": "2023-02-27T02:06:52.033Z"
   },
   {
    "duration": 329,
    "start_time": "2023-02-27T02:06:52.266Z"
   },
   {
    "duration": 531,
    "start_time": "2023-02-27T02:06:52.596Z"
   },
   {
    "duration": 375,
    "start_time": "2023-02-27T02:06:53.129Z"
   },
   {
    "duration": 18,
    "start_time": "2023-02-27T02:06:53.506Z"
   },
   {
    "duration": 14,
    "start_time": "2023-02-27T02:06:53.525Z"
   },
   {
    "duration": 191,
    "start_time": "2023-02-27T02:06:53.541Z"
   },
   {
    "duration": 16,
    "start_time": "2023-02-27T02:06:53.734Z"
   },
   {
    "duration": 299,
    "start_time": "2023-02-27T02:06:53.754Z"
   },
   {
    "duration": 250,
    "start_time": "2023-02-27T02:06:54.055Z"
   },
   {
    "duration": 268,
    "start_time": "2023-02-27T02:06:54.307Z"
   },
   {
    "duration": 68,
    "start_time": "2023-02-27T02:06:54.577Z"
   },
   {
    "duration": 639,
    "start_time": "2023-02-27T02:06:54.647Z"
   },
   {
    "duration": 271,
    "start_time": "2023-02-27T02:06:55.288Z"
   },
   {
    "duration": 250,
    "start_time": "2023-02-27T02:06:55.561Z"
   },
   {
    "duration": 244,
    "start_time": "2023-02-27T02:06:55.813Z"
   },
   {
    "duration": 473,
    "start_time": "2023-02-27T02:06:56.059Z"
   },
   {
    "duration": 338,
    "start_time": "2023-02-27T02:06:56.534Z"
   },
   {
    "duration": 1258,
    "start_time": "2023-02-27T02:06:56.874Z"
   },
   {
    "duration": 5,
    "start_time": "2023-02-27T02:06:58.133Z"
   },
   {
    "duration": 8,
    "start_time": "2023-02-27T02:06:58.139Z"
   },
   {
    "duration": 21309,
    "start_time": "2023-02-27T02:06:58.148Z"
   },
   {
    "duration": 11,
    "start_time": "2023-02-27T02:07:19.458Z"
   },
   {
    "duration": 208,
    "start_time": "2023-02-27T02:07:19.470Z"
   },
   {
    "duration": 15,
    "start_time": "2023-02-27T02:07:19.679Z"
   },
   {
    "duration": 333,
    "start_time": "2023-02-27T02:07:19.704Z"
   },
   {
    "duration": 1295,
    "start_time": "2023-02-27T02:07:20.038Z"
   },
   {
    "duration": 7590,
    "start_time": "2023-02-27T02:07:21.335Z"
   },
   {
    "duration": 14,
    "start_time": "2023-02-27T02:07:28.927Z"
   },
   {
    "duration": 20,
    "start_time": "2023-02-27T02:07:28.942Z"
   },
   {
    "duration": 14,
    "start_time": "2023-02-27T02:07:28.963Z"
   },
   {
    "duration": 433,
    "start_time": "2023-02-27T02:07:28.978Z"
   },
   {
    "duration": 158,
    "start_time": "2023-02-27T02:07:29.412Z"
   },
   {
    "duration": 66,
    "start_time": "2023-02-27T02:07:29.571Z"
   },
   {
    "duration": 11,
    "start_time": "2023-02-27T02:07:29.639Z"
   },
   {
    "duration": 10,
    "start_time": "2023-02-27T02:07:29.651Z"
   },
   {
    "duration": 5,
    "start_time": "2023-02-27T02:07:29.663Z"
   },
   {
    "duration": 1212,
    "start_time": "2023-02-27T02:07:29.670Z"
   },
   {
    "duration": 2172,
    "start_time": "2023-02-27T02:07:30.885Z"
   },
   {
    "duration": 4,
    "start_time": "2023-02-27T02:07:33.058Z"
   },
   {
    "duration": 138224,
    "start_time": "2023-02-27T02:07:33.063Z"
   },
   {
    "duration": 4,
    "start_time": "2023-02-27T02:09:51.288Z"
   },
   {
    "duration": 17,
    "start_time": "2023-02-27T02:09:51.294Z"
   },
   {
    "duration": 1399,
    "start_time": "2023-02-27T02:09:51.313Z"
   },
   {
    "duration": 1558,
    "start_time": "2023-02-27T02:10:13.065Z"
   },
   {
    "duration": 760,
    "start_time": "2023-02-27T02:10:14.625Z"
   },
   {
    "duration": 19,
    "start_time": "2023-02-27T02:10:15.386Z"
   },
   {
    "duration": 12,
    "start_time": "2023-02-27T02:10:15.407Z"
   },
   {
    "duration": 119,
    "start_time": "2023-02-27T02:10:15.421Z"
   },
   {
    "duration": 262,
    "start_time": "2023-02-27T02:10:15.542Z"
   },
   {
    "duration": 74,
    "start_time": "2023-02-27T02:10:15.805Z"
   },
   {
    "duration": 1423,
    "start_time": "2023-02-27T02:10:15.880Z"
   },
   {
    "duration": 1237,
    "start_time": "2023-02-27T02:10:17.304Z"
   },
   {
    "duration": 4,
    "start_time": "2023-02-27T02:10:18.544Z"
   },
   {
    "duration": 339,
    "start_time": "2023-02-27T02:10:18.549Z"
   },
   {
    "duration": 420,
    "start_time": "2023-02-27T02:10:18.890Z"
   },
   {
    "duration": 627,
    "start_time": "2023-02-27T02:10:19.311Z"
   },
   {
    "duration": 319,
    "start_time": "2023-02-27T02:10:19.940Z"
   },
   {
    "duration": 18,
    "start_time": "2023-02-27T02:10:20.261Z"
   },
   {
    "duration": 28,
    "start_time": "2023-02-27T02:10:20.281Z"
   },
   {
    "duration": 483,
    "start_time": "2023-02-27T02:10:20.311Z"
   },
   {
    "duration": 13,
    "start_time": "2023-02-27T02:10:20.796Z"
   },
   {
    "duration": 7,
    "start_time": "2023-02-27T02:10:20.810Z"
   },
   {
    "duration": 219,
    "start_time": "2023-02-27T02:10:20.819Z"
   },
   {
    "duration": 325,
    "start_time": "2023-02-27T02:10:21.040Z"
   },
   {
    "duration": 541,
    "start_time": "2023-02-27T02:10:21.367Z"
   },
   {
    "duration": 385,
    "start_time": "2023-02-27T02:10:21.910Z"
   },
   {
    "duration": 18,
    "start_time": "2023-02-27T02:10:22.296Z"
   },
   {
    "duration": 16,
    "start_time": "2023-02-27T02:10:22.316Z"
   },
   {
    "duration": 180,
    "start_time": "2023-02-27T02:10:22.334Z"
   },
   {
    "duration": 14,
    "start_time": "2023-02-27T02:10:22.516Z"
   },
   {
    "duration": 282,
    "start_time": "2023-02-27T02:10:22.534Z"
   },
   {
    "duration": 254,
    "start_time": "2023-02-27T02:10:22.817Z"
   },
   {
    "duration": 265,
    "start_time": "2023-02-27T02:10:23.073Z"
   },
   {
    "duration": 64,
    "start_time": "2023-02-27T02:10:23.339Z"
   },
   {
    "duration": 647,
    "start_time": "2023-02-27T02:10:23.404Z"
   },
   {
    "duration": 298,
    "start_time": "2023-02-27T02:10:24.053Z"
   },
   {
    "duration": 258,
    "start_time": "2023-02-27T02:10:24.352Z"
   },
   {
    "duration": 245,
    "start_time": "2023-02-27T02:10:24.612Z"
   },
   {
    "duration": 488,
    "start_time": "2023-02-27T02:10:24.859Z"
   },
   {
    "duration": 331,
    "start_time": "2023-02-27T02:10:25.349Z"
   },
   {
    "duration": 1263,
    "start_time": "2023-02-27T02:10:25.682Z"
   },
   {
    "duration": 6,
    "start_time": "2023-02-27T02:10:26.947Z"
   },
   {
    "duration": 8,
    "start_time": "2023-02-27T02:10:26.954Z"
   },
   {
    "duration": 21322,
    "start_time": "2023-02-27T02:10:26.964Z"
   },
   {
    "duration": 10,
    "start_time": "2023-02-27T02:10:48.287Z"
   },
   {
    "duration": 196,
    "start_time": "2023-02-27T02:10:48.303Z"
   },
   {
    "duration": 14,
    "start_time": "2023-02-27T02:10:48.503Z"
   },
   {
    "duration": 369,
    "start_time": "2023-02-27T02:10:48.518Z"
   },
   {
    "duration": 1319,
    "start_time": "2023-02-27T02:10:48.889Z"
   },
   {
    "duration": 7539,
    "start_time": "2023-02-27T02:10:50.209Z"
   },
   {
    "duration": 13,
    "start_time": "2023-02-27T02:10:57.749Z"
   },
   {
    "duration": 18,
    "start_time": "2023-02-27T02:10:57.763Z"
   },
   {
    "duration": 27,
    "start_time": "2023-02-27T02:10:57.783Z"
   },
   {
    "duration": 416,
    "start_time": "2023-02-27T02:10:57.812Z"
   },
   {
    "duration": 163,
    "start_time": "2023-02-27T02:10:58.230Z"
   },
   {
    "duration": 68,
    "start_time": "2023-02-27T02:10:58.394Z"
   },
   {
    "duration": 11,
    "start_time": "2023-02-27T02:10:58.463Z"
   },
   {
    "duration": 4,
    "start_time": "2023-02-27T02:10:58.475Z"
   },
   {
    "duration": 4,
    "start_time": "2023-02-27T02:10:58.480Z"
   },
   {
    "duration": 1236,
    "start_time": "2023-02-27T02:10:58.485Z"
   },
   {
    "duration": 2215,
    "start_time": "2023-02-27T02:10:59.722Z"
   },
   {
    "duration": 4,
    "start_time": "2023-02-27T02:11:01.939Z"
   },
   {
    "duration": 135897,
    "start_time": "2023-02-27T02:11:01.945Z"
   },
   {
    "duration": 3,
    "start_time": "2023-02-27T02:13:17.844Z"
   },
   {
    "duration": 12,
    "start_time": "2023-02-27T02:13:17.849Z"
   },
   {
    "duration": 1249,
    "start_time": "2023-02-27T02:13:17.863Z"
   },
   {
    "duration": 1557,
    "start_time": "2023-02-27T02:18:19.251Z"
   },
   {
    "duration": 768,
    "start_time": "2023-02-27T02:18:20.810Z"
   },
   {
    "duration": 24,
    "start_time": "2023-02-27T02:18:21.579Z"
   },
   {
    "duration": 13,
    "start_time": "2023-02-27T02:18:21.605Z"
   },
   {
    "duration": 125,
    "start_time": "2023-02-27T02:18:21.620Z"
   },
   {
    "duration": 267,
    "start_time": "2023-02-27T02:18:21.746Z"
   },
   {
    "duration": 76,
    "start_time": "2023-02-27T02:18:22.014Z"
   },
   {
    "duration": 1413,
    "start_time": "2023-02-27T02:18:22.103Z"
   },
   {
    "duration": 1252,
    "start_time": "2023-02-27T02:18:23.517Z"
   },
   {
    "duration": 4,
    "start_time": "2023-02-27T02:18:24.771Z"
   },
   {
    "duration": 337,
    "start_time": "2023-02-27T02:18:24.777Z"
   },
   {
    "duration": 388,
    "start_time": "2023-02-27T02:18:25.115Z"
   },
   {
    "duration": 592,
    "start_time": "2023-02-27T02:18:25.505Z"
   },
   {
    "duration": 310,
    "start_time": "2023-02-27T02:18:26.100Z"
   },
   {
    "duration": 16,
    "start_time": "2023-02-27T02:18:26.412Z"
   },
   {
    "duration": 17,
    "start_time": "2023-02-27T02:18:26.429Z"
   },
   {
    "duration": 482,
    "start_time": "2023-02-27T02:18:26.448Z"
   },
   {
    "duration": 13,
    "start_time": "2023-02-27T02:18:26.931Z"
   },
   {
    "duration": 5,
    "start_time": "2023-02-27T02:18:26.945Z"
   },
   {
    "duration": 223,
    "start_time": "2023-02-27T02:18:26.951Z"
   },
   {
    "duration": 347,
    "start_time": "2023-02-27T02:18:27.176Z"
   },
   {
    "duration": 525,
    "start_time": "2023-02-27T02:18:27.525Z"
   },
   {
    "duration": 378,
    "start_time": "2023-02-27T02:18:28.052Z"
   },
   {
    "duration": 16,
    "start_time": "2023-02-27T02:18:28.431Z"
   },
   {
    "duration": 16,
    "start_time": "2023-02-27T02:18:28.449Z"
   },
   {
    "duration": 175,
    "start_time": "2023-02-27T02:18:28.466Z"
   },
   {
    "duration": 15,
    "start_time": "2023-02-27T02:18:28.643Z"
   },
   {
    "duration": 296,
    "start_time": "2023-02-27T02:18:28.660Z"
   },
   {
    "duration": 245,
    "start_time": "2023-02-27T02:18:28.958Z"
   },
   {
    "duration": 277,
    "start_time": "2023-02-27T02:18:29.205Z"
   },
   {
    "duration": 70,
    "start_time": "2023-02-27T02:18:29.484Z"
   },
   {
    "duration": 624,
    "start_time": "2023-02-27T02:18:29.555Z"
   },
   {
    "duration": 264,
    "start_time": "2023-02-27T02:18:30.180Z"
   },
   {
    "duration": 253,
    "start_time": "2023-02-27T02:18:30.446Z"
   },
   {
    "duration": 245,
    "start_time": "2023-02-27T02:18:30.701Z"
   },
   {
    "duration": 483,
    "start_time": "2023-02-27T02:18:30.948Z"
   },
   {
    "duration": 335,
    "start_time": "2023-02-27T02:18:31.432Z"
   },
   {
    "duration": 1243,
    "start_time": "2023-02-27T02:18:31.769Z"
   },
   {
    "duration": 5,
    "start_time": "2023-02-27T02:18:33.014Z"
   },
   {
    "duration": 12,
    "start_time": "2023-02-27T02:18:33.020Z"
   },
   {
    "duration": 22325,
    "start_time": "2023-02-27T02:18:33.037Z"
   },
   {
    "duration": 12,
    "start_time": "2023-02-27T02:18:55.364Z"
   },
   {
    "duration": 197,
    "start_time": "2023-02-27T02:18:55.377Z"
   },
   {
    "duration": 13,
    "start_time": "2023-02-27T02:18:55.575Z"
   },
   {
    "duration": 336,
    "start_time": "2023-02-27T02:18:55.590Z"
   },
   {
    "duration": 1335,
    "start_time": "2023-02-27T02:18:55.927Z"
   },
   {
    "duration": 7556,
    "start_time": "2023-02-27T02:18:57.264Z"
   },
   {
    "duration": 13,
    "start_time": "2023-02-27T02:19:04.821Z"
   },
   {
    "duration": 15,
    "start_time": "2023-02-27T02:19:04.836Z"
   },
   {
    "duration": 14,
    "start_time": "2023-02-27T02:19:04.853Z"
   },
   {
    "duration": 444,
    "start_time": "2023-02-27T02:19:04.869Z"
   },
   {
    "duration": 127,
    "start_time": "2023-02-27T02:19:05.314Z"
   },
   {
    "duration": 71,
    "start_time": "2023-02-27T02:19:05.443Z"
   },
   {
    "duration": 11,
    "start_time": "2023-02-27T02:19:05.515Z"
   },
   {
    "duration": 6,
    "start_time": "2023-02-27T02:19:05.527Z"
   },
   {
    "duration": 8,
    "start_time": "2023-02-27T02:19:05.534Z"
   },
   {
    "duration": 1201,
    "start_time": "2023-02-27T02:19:05.543Z"
   },
   {
    "duration": 2246,
    "start_time": "2023-02-27T02:19:06.746Z"
   },
   {
    "duration": 4,
    "start_time": "2023-02-27T02:19:08.994Z"
   },
   {
    "duration": 141,
    "start_time": "2023-02-27T02:19:08.999Z"
   },
   {
    "duration": 0,
    "start_time": "2023-02-27T02:19:09.142Z"
   },
   {
    "duration": 0,
    "start_time": "2023-02-27T02:19:09.143Z"
   },
   {
    "duration": 0,
    "start_time": "2023-02-27T02:19:09.144Z"
   },
   {
    "duration": 4,
    "start_time": "2023-02-27T02:20:59.633Z"
   },
   {
    "duration": 136779,
    "start_time": "2023-02-27T02:20:59.977Z"
   },
   {
    "duration": 11,
    "start_time": "2023-02-27T02:23:42.065Z"
   },
   {
    "duration": 14,
    "start_time": "2023-02-27T02:23:57.228Z"
   },
   {
    "duration": 12,
    "start_time": "2023-02-27T02:24:27.551Z"
   },
   {
    "duration": 4,
    "start_time": "2023-02-27T02:24:55.438Z"
   },
   {
    "duration": 138131,
    "start_time": "2023-02-27T02:25:00.217Z"
   },
   {
    "duration": 4,
    "start_time": "2023-02-27T02:27:52.304Z"
   },
   {
    "duration": 8,
    "start_time": "2023-02-27T02:27:56.353Z"
   },
   {
    "duration": 4,
    "start_time": "2023-02-27T02:28:17.756Z"
   },
   {
    "duration": 137146,
    "start_time": "2023-02-27T02:28:18.229Z"
   },
   {
    "duration": 4,
    "start_time": "2023-02-27T02:31:48.414Z"
   },
   {
    "duration": 8,
    "start_time": "2023-02-27T02:31:50.141Z"
   },
   {
    "duration": 1598,
    "start_time": "2023-02-27T02:36:11.621Z"
   },
   {
    "duration": 770,
    "start_time": "2023-02-27T02:36:13.221Z"
   },
   {
    "duration": 21,
    "start_time": "2023-02-27T02:36:13.992Z"
   },
   {
    "duration": 15,
    "start_time": "2023-02-27T02:36:14.015Z"
   },
   {
    "duration": 145,
    "start_time": "2023-02-27T02:36:14.032Z"
   },
   {
    "duration": 268,
    "start_time": "2023-02-27T02:36:14.179Z"
   },
   {
    "duration": 79,
    "start_time": "2023-02-27T02:36:14.448Z"
   },
   {
    "duration": 1377,
    "start_time": "2023-02-27T02:36:14.529Z"
   },
   {
    "duration": 1178,
    "start_time": "2023-02-27T02:36:15.907Z"
   },
   {
    "duration": 4,
    "start_time": "2023-02-27T02:36:17.086Z"
   },
   {
    "duration": 353,
    "start_time": "2023-02-27T02:36:17.091Z"
   },
   {
    "duration": 374,
    "start_time": "2023-02-27T02:36:17.445Z"
   },
   {
    "duration": 613,
    "start_time": "2023-02-27T02:36:17.820Z"
   },
   {
    "duration": 306,
    "start_time": "2023-02-27T02:36:18.436Z"
   },
   {
    "duration": 17,
    "start_time": "2023-02-27T02:36:18.744Z"
   },
   {
    "duration": 16,
    "start_time": "2023-02-27T02:36:18.763Z"
   },
   {
    "duration": 517,
    "start_time": "2023-02-27T02:36:18.781Z"
   },
   {
    "duration": 14,
    "start_time": "2023-02-27T02:36:19.300Z"
   },
   {
    "duration": 5,
    "start_time": "2023-02-27T02:36:19.316Z"
   },
   {
    "duration": 245,
    "start_time": "2023-02-27T02:36:19.322Z"
   },
   {
    "duration": 338,
    "start_time": "2023-02-27T02:36:19.569Z"
   },
   {
    "duration": 543,
    "start_time": "2023-02-27T02:36:19.908Z"
   },
   {
    "duration": 386,
    "start_time": "2023-02-27T02:36:20.452Z"
   },
   {
    "duration": 16,
    "start_time": "2023-02-27T02:36:20.840Z"
   },
   {
    "duration": 19,
    "start_time": "2023-02-27T02:36:20.857Z"
   },
   {
    "duration": 200,
    "start_time": "2023-02-27T02:36:20.878Z"
   },
   {
    "duration": 23,
    "start_time": "2023-02-27T02:36:21.080Z"
   },
   {
    "duration": 285,
    "start_time": "2023-02-27T02:36:21.105Z"
   },
   {
    "duration": 240,
    "start_time": "2023-02-27T02:36:21.392Z"
   },
   {
    "duration": 259,
    "start_time": "2023-02-27T02:36:21.634Z"
   },
   {
    "duration": 64,
    "start_time": "2023-02-27T02:36:21.895Z"
   },
   {
    "duration": 663,
    "start_time": "2023-02-27T02:36:21.960Z"
   },
   {
    "duration": 265,
    "start_time": "2023-02-27T02:36:22.625Z"
   },
   {
    "duration": 273,
    "start_time": "2023-02-27T02:36:22.902Z"
   },
   {
    "duration": 242,
    "start_time": "2023-02-27T02:36:23.177Z"
   },
   {
    "duration": 480,
    "start_time": "2023-02-27T02:36:23.420Z"
   },
   {
    "duration": 363,
    "start_time": "2023-02-27T02:36:23.903Z"
   },
   {
    "duration": 1236,
    "start_time": "2023-02-27T02:36:24.268Z"
   },
   {
    "duration": 5,
    "start_time": "2023-02-27T02:36:25.506Z"
   },
   {
    "duration": 7,
    "start_time": "2023-02-27T02:36:25.512Z"
   },
   {
    "duration": 19602,
    "start_time": "2023-02-27T02:36:25.523Z"
   },
   {
    "duration": 11,
    "start_time": "2023-02-27T02:36:45.127Z"
   },
   {
    "duration": 216,
    "start_time": "2023-02-27T02:36:45.140Z"
   },
   {
    "duration": 14,
    "start_time": "2023-02-27T02:36:45.357Z"
   },
   {
    "duration": 342,
    "start_time": "2023-02-27T02:36:45.372Z"
   },
   {
    "duration": 1337,
    "start_time": "2023-02-27T02:36:45.715Z"
   },
   {
    "duration": 7780,
    "start_time": "2023-02-27T02:36:47.054Z"
   },
   {
    "duration": 12,
    "start_time": "2023-02-27T02:36:54.836Z"
   },
   {
    "duration": 16,
    "start_time": "2023-02-27T02:36:54.849Z"
   },
   {
    "duration": 12,
    "start_time": "2023-02-27T02:36:54.867Z"
   },
   {
    "duration": 431,
    "start_time": "2023-02-27T02:36:54.881Z"
   },
   {
    "duration": 133,
    "start_time": "2023-02-27T02:36:55.313Z"
   },
   {
    "duration": 72,
    "start_time": "2023-02-27T02:36:55.447Z"
   },
   {
    "duration": 11,
    "start_time": "2023-02-27T02:36:55.521Z"
   },
   {
    "duration": 7,
    "start_time": "2023-02-27T02:36:55.533Z"
   },
   {
    "duration": 4,
    "start_time": "2023-02-27T02:36:55.541Z"
   },
   {
    "duration": 1205,
    "start_time": "2023-02-27T02:36:55.547Z"
   },
   {
    "duration": 2230,
    "start_time": "2023-02-27T02:36:56.754Z"
   },
   {
    "duration": 5,
    "start_time": "2023-02-27T02:36:58.986Z"
   },
   {
    "duration": 137149,
    "start_time": "2023-02-27T02:36:58.993Z"
   },
   {
    "duration": 4,
    "start_time": "2023-02-27T02:39:16.144Z"
   },
   {
    "duration": 10,
    "start_time": "2023-02-27T02:39:16.150Z"
   },
   {
    "duration": 1352,
    "start_time": "2023-02-27T02:39:16.162Z"
   },
   {
    "duration": 2060,
    "start_time": "2023-02-27T02:39:44.152Z"
   },
   {
    "duration": 2056,
    "start_time": "2023-02-27T02:40:00.556Z"
   },
   {
    "duration": 136361,
    "start_time": "2023-02-27T02:40:25.522Z"
   },
   {
    "duration": 136,
    "start_time": "2023-02-27T02:42:54.053Z"
   },
   {
    "duration": 4,
    "start_time": "2023-02-27T02:43:00.006Z"
   },
   {
    "duration": 139804,
    "start_time": "2023-02-27T02:43:00.878Z"
   },
   {
    "duration": 4,
    "start_time": "2023-02-27T02:45:27.427Z"
   },
   {
    "duration": 7,
    "start_time": "2023-02-27T02:45:32.274Z"
   },
   {
    "duration": 1254,
    "start_time": "2023-02-27T02:45:37.961Z"
   }
  ],
  "kernelspec": {
   "display_name": "Python 3 (ipykernel)",
   "language": "python",
   "name": "python3"
  },
  "language_info": {
   "codemirror_mode": {
    "name": "ipython",
    "version": 3
   },
   "file_extension": ".py",
   "mimetype": "text/x-python",
   "name": "python",
   "nbconvert_exporter": "python",
   "pygments_lexer": "ipython3",
   "version": "3.9.12"
  },
  "toc": {
   "base_numbering": 1,
   "nav_menu": {},
   "number_sections": true,
   "sideBar": true,
   "skip_h1_title": true,
   "title_cell": "Table of Contents",
   "title_sidebar": "Contents",
   "toc_cell": false,
   "toc_position": {
    "height": "calc(100% - 180px)",
    "left": "10px",
    "top": "150px",
    "width": "165px"
   },
   "toc_section_display": true,
   "toc_window_display": true
  }
 },
 "nbformat": 4,
 "nbformat_minor": 2
}
