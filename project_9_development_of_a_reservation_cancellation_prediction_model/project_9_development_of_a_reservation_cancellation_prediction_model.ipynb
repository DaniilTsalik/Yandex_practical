{
 "cells": [
  {
   "cell_type": "markdown",
   "metadata": {},
   "source": [
    "Сеть отелей «Как в гостях» для привлечения клиентов, добавила на свой сайт возможность бронирования номера без предоплаты. Если клиент отменяет бронирование отель терпит убытки. Чтобы решить эту проблему, нам нужно разработать систему, которая предсказывает отказ от брони и минимизирует издержки сети отелей.  \n",
    "\n",
    "**Цель:** разработка модели, предсказывающей отмену брони.\n",
    "\n",
    "**Задачи:**\n",
    "1. Загрузка и подготовка данных.\n",
    "2. Исследовательский анализ данных.\n",
    "3. Вычисление бизнес-метрики.\n",
    "4. Разработка модели ML.\n",
    "5. Выявление признаков 'ненадёжного' клиента.\n",
    "6. Общий вывод.\n",
    "\n",
    "**Предмет исследования** выборка данных по клиентам сети отелей «Как в гостях».\n",
    "\n",
    "**Методы:**\n",
    "которые мы применим в данном исследовании включают в себя: ознакомление, предобработку, исследовательский анализ данных, обучения моделей машинного обучения, повышение метрик моделей.\n",
    "\n",
    "**Структура проекта:**\n",
    "проектная работа состоит из обзора и предобработки данных, вычисление бизнес-метрик, разработки и тестирования моделей, выявления признаков 'ненадежного' клиента и общего вывода.\n"
   ]
  },
  {
   "cell_type": "markdown",
   "metadata": {},
   "source": [
    "### Шаг 1. Откройте файлы с данными"
   ]
  },
  {
   "cell_type": "code",
   "execution_count": 1,
   "metadata": {},
   "outputs": [],
   "source": [
    " # Импортируем необходимые библиотеки:\n",
    "import copy\n",
    "import pandas as pd\n",
    "import seaborn as sns\n",
    "import numpy as np\n",
    "import matplotlib.pyplot as plt\n",
    "from sklearn import tree\n",
    "from sklearn.ensemble import RandomForestClassifier, GradientBoostingClassifier\n",
    "from sklearn.model_selection import GridSearchCV\n",
    "from sklearn.model_selection import train_test_split\n",
    "from sklearn.pipeline import Pipeline\n",
    "from sklearn.preprocessing import StandardScaler\n",
    "from sklearn.preprocessing import OneHotEncoder\n",
    "from sklearn.preprocessing import LabelEncoder\n",
    "from sklearn.linear_model import LogisticRegression\n",
    "from sklearn.neighbors import KNeighborsClassifier\n",
    "from sklearn.metrics import confusion_matrix, ConfusionMatrixDisplay\n",
    "from sklearn.metrics import f1_score, make_scorer"
   ]
  },
  {
   "cell_type": "code",
   "execution_count": 2,
   "metadata": {},
   "outputs": [],
   "source": [
    " # Настройка параметров отображения максимального количества столбцов:\n",
    "pd.set_option('display.max_columns', None)"
   ]
  },
  {
   "cell_type": "markdown",
   "metadata": {},
   "source": [
    "Присвоим переменным: train_data и test_data значения наших датасетов: 'hotel_train.csv' и 'hotel_test.csv' соответственно:"
   ]
  },
  {
   "cell_type": "code",
   "execution_count": 3,
   "metadata": {},
   "outputs": [],
   "source": [
    "train_data = pd.read_csv('/datasets/hotel_train.csv')\n",
    "test_data = pd.read_csv('/datasets/hotel_test.csv')"
   ]
  },
  {
   "cell_type": "markdown",
   "metadata": {},
   "source": [
    "Поместим наши датасеты в словарь 'data_dict':"
   ]
  },
  {
   "cell_type": "code",
   "execution_count": 4,
   "metadata": {},
   "outputs": [],
   "source": [
    "data_dict = {'train_data': train_data,\n",
    "             'test_data': test_data}"
   ]
  },
  {
   "cell_type": "markdown",
   "metadata": {},
   "source": [
    "Проверим корректность загрузки - выводим по пять первых строк, каждого из датасетов:"
   ]
  },
  {
   "cell_type": "code",
   "execution_count": 5,
   "metadata": {},
   "outputs": [
    {
     "name": "stdout",
     "output_type": "stream",
     "text": [
      "train_data\n"
     ]
    },
    {
     "data": {
      "text/html": [
       "<div>\n",
       "<style scoped>\n",
       "    .dataframe tbody tr th:only-of-type {\n",
       "        vertical-align: middle;\n",
       "    }\n",
       "\n",
       "    .dataframe tbody tr th {\n",
       "        vertical-align: top;\n",
       "    }\n",
       "\n",
       "    .dataframe thead th {\n",
       "        text-align: right;\n",
       "    }\n",
       "</style>\n",
       "<table border=\"1\" class=\"dataframe\">\n",
       "  <thead>\n",
       "    <tr style=\"text-align: right;\">\n",
       "      <th></th>\n",
       "      <th>id</th>\n",
       "      <th>is_canceled</th>\n",
       "      <th>lead_time</th>\n",
       "      <th>arrival_date_year</th>\n",
       "      <th>arrival_date_month</th>\n",
       "      <th>arrival_date_week_number</th>\n",
       "      <th>arrival_date_day_of_month</th>\n",
       "      <th>stays_in_weekend_nights</th>\n",
       "      <th>stays_in_week_nights</th>\n",
       "      <th>adults</th>\n",
       "      <th>children</th>\n",
       "      <th>babies</th>\n",
       "      <th>meal</th>\n",
       "      <th>country</th>\n",
       "      <th>distribution_channel</th>\n",
       "      <th>is_repeated_guest</th>\n",
       "      <th>previous_cancellations</th>\n",
       "      <th>previous_bookings_not_canceled</th>\n",
       "      <th>reserved_room_type</th>\n",
       "      <th>booking_changes</th>\n",
       "      <th>days_in_waiting_list</th>\n",
       "      <th>customer_type</th>\n",
       "      <th>required_car_parking_spaces</th>\n",
       "      <th>total_of_special_requests</th>\n",
       "      <th>total_nights</th>\n",
       "    </tr>\n",
       "  </thead>\n",
       "  <tbody>\n",
       "    <tr>\n",
       "      <th>0</th>\n",
       "      <td>0</td>\n",
       "      <td>0</td>\n",
       "      <td>7.0</td>\n",
       "      <td>2015</td>\n",
       "      <td>July</td>\n",
       "      <td>27</td>\n",
       "      <td>1</td>\n",
       "      <td>0</td>\n",
       "      <td>1</td>\n",
       "      <td>1.0</td>\n",
       "      <td>0.0</td>\n",
       "      <td>0.0</td>\n",
       "      <td>BB</td>\n",
       "      <td>GBR</td>\n",
       "      <td>Direct</td>\n",
       "      <td>0</td>\n",
       "      <td>0</td>\n",
       "      <td>0</td>\n",
       "      <td>A</td>\n",
       "      <td>0</td>\n",
       "      <td>0</td>\n",
       "      <td>Transient</td>\n",
       "      <td>0</td>\n",
       "      <td>0</td>\n",
       "      <td>1</td>\n",
       "    </tr>\n",
       "    <tr>\n",
       "      <th>1</th>\n",
       "      <td>1</td>\n",
       "      <td>0</td>\n",
       "      <td>14.0</td>\n",
       "      <td>2015</td>\n",
       "      <td>July</td>\n",
       "      <td>27</td>\n",
       "      <td>1</td>\n",
       "      <td>0</td>\n",
       "      <td>2</td>\n",
       "      <td>2.0</td>\n",
       "      <td>0.0</td>\n",
       "      <td>0.0</td>\n",
       "      <td>BB</td>\n",
       "      <td>GBR</td>\n",
       "      <td>TA/TO</td>\n",
       "      <td>0</td>\n",
       "      <td>0</td>\n",
       "      <td>0</td>\n",
       "      <td>A</td>\n",
       "      <td>0</td>\n",
       "      <td>0</td>\n",
       "      <td>Transient</td>\n",
       "      <td>0</td>\n",
       "      <td>1</td>\n",
       "      <td>2</td>\n",
       "    </tr>\n",
       "    <tr>\n",
       "      <th>2</th>\n",
       "      <td>2</td>\n",
       "      <td>0</td>\n",
       "      <td>0.0</td>\n",
       "      <td>2015</td>\n",
       "      <td>July</td>\n",
       "      <td>27</td>\n",
       "      <td>1</td>\n",
       "      <td>0</td>\n",
       "      <td>2</td>\n",
       "      <td>2.0</td>\n",
       "      <td>0.0</td>\n",
       "      <td>0.0</td>\n",
       "      <td>BB</td>\n",
       "      <td>PRT</td>\n",
       "      <td>Direct</td>\n",
       "      <td>0</td>\n",
       "      <td>0</td>\n",
       "      <td>0</td>\n",
       "      <td>C</td>\n",
       "      <td>0</td>\n",
       "      <td>0</td>\n",
       "      <td>Transient</td>\n",
       "      <td>0</td>\n",
       "      <td>0</td>\n",
       "      <td>2</td>\n",
       "    </tr>\n",
       "    <tr>\n",
       "      <th>3</th>\n",
       "      <td>3</td>\n",
       "      <td>0</td>\n",
       "      <td>9.0</td>\n",
       "      <td>2015</td>\n",
       "      <td>July</td>\n",
       "      <td>27</td>\n",
       "      <td>1</td>\n",
       "      <td>0</td>\n",
       "      <td>2</td>\n",
       "      <td>2.0</td>\n",
       "      <td>0.0</td>\n",
       "      <td>0.0</td>\n",
       "      <td>FB</td>\n",
       "      <td>PRT</td>\n",
       "      <td>Direct</td>\n",
       "      <td>0</td>\n",
       "      <td>0</td>\n",
       "      <td>0</td>\n",
       "      <td>C</td>\n",
       "      <td>0</td>\n",
       "      <td>0</td>\n",
       "      <td>Transient</td>\n",
       "      <td>0</td>\n",
       "      <td>1</td>\n",
       "      <td>2</td>\n",
       "    </tr>\n",
       "    <tr>\n",
       "      <th>4</th>\n",
       "      <td>4</td>\n",
       "      <td>1</td>\n",
       "      <td>85.0</td>\n",
       "      <td>2015</td>\n",
       "      <td>July</td>\n",
       "      <td>27</td>\n",
       "      <td>1</td>\n",
       "      <td>0</td>\n",
       "      <td>3</td>\n",
       "      <td>2.0</td>\n",
       "      <td>0.0</td>\n",
       "      <td>0.0</td>\n",
       "      <td>BB</td>\n",
       "      <td>PRT</td>\n",
       "      <td>TA/TO</td>\n",
       "      <td>0</td>\n",
       "      <td>0</td>\n",
       "      <td>0</td>\n",
       "      <td>A</td>\n",
       "      <td>0</td>\n",
       "      <td>0</td>\n",
       "      <td>Transient</td>\n",
       "      <td>0</td>\n",
       "      <td>1</td>\n",
       "      <td>3</td>\n",
       "    </tr>\n",
       "  </tbody>\n",
       "</table>\n",
       "</div>"
      ],
      "text/plain": [
       "   id  is_canceled  lead_time  arrival_date_year arrival_date_month  \\\n",
       "0   0            0        7.0               2015               July   \n",
       "1   1            0       14.0               2015               July   \n",
       "2   2            0        0.0               2015               July   \n",
       "3   3            0        9.0               2015               July   \n",
       "4   4            1       85.0               2015               July   \n",
       "\n",
       "   arrival_date_week_number  arrival_date_day_of_month  \\\n",
       "0                        27                          1   \n",
       "1                        27                          1   \n",
       "2                        27                          1   \n",
       "3                        27                          1   \n",
       "4                        27                          1   \n",
       "\n",
       "   stays_in_weekend_nights  stays_in_week_nights  adults  children  babies  \\\n",
       "0                        0                     1     1.0       0.0     0.0   \n",
       "1                        0                     2     2.0       0.0     0.0   \n",
       "2                        0                     2     2.0       0.0     0.0   \n",
       "3                        0                     2     2.0       0.0     0.0   \n",
       "4                        0                     3     2.0       0.0     0.0   \n",
       "\n",
       "        meal country distribution_channel  is_repeated_guest  \\\n",
       "0  BB            GBR               Direct                  0   \n",
       "1  BB            GBR                TA/TO                  0   \n",
       "2  BB            PRT               Direct                  0   \n",
       "3  FB            PRT               Direct                  0   \n",
       "4  BB            PRT                TA/TO                  0   \n",
       "\n",
       "   previous_cancellations  previous_bookings_not_canceled reserved_room_type  \\\n",
       "0                       0                               0   A                  \n",
       "1                       0                               0   A                  \n",
       "2                       0                               0   C                  \n",
       "3                       0                               0   C                  \n",
       "4                       0                               0   A                  \n",
       "\n",
       "   booking_changes  days_in_waiting_list customer_type  \\\n",
       "0                0                     0     Transient   \n",
       "1                0                     0     Transient   \n",
       "2                0                     0     Transient   \n",
       "3                0                     0     Transient   \n",
       "4                0                     0     Transient   \n",
       "\n",
       "   required_car_parking_spaces  total_of_special_requests  total_nights  \n",
       "0                            0                          0             1  \n",
       "1                            0                          1             2  \n",
       "2                            0                          0             2  \n",
       "3                            0                          1             2  \n",
       "4                            0                          1             3  "
      ]
     },
     "metadata": {},
     "output_type": "display_data"
    },
    {
     "name": "stdout",
     "output_type": "stream",
     "text": [
      "test_data\n"
     ]
    },
    {
     "data": {
      "text/html": [
       "<div>\n",
       "<style scoped>\n",
       "    .dataframe tbody tr th:only-of-type {\n",
       "        vertical-align: middle;\n",
       "    }\n",
       "\n",
       "    .dataframe tbody tr th {\n",
       "        vertical-align: top;\n",
       "    }\n",
       "\n",
       "    .dataframe thead th {\n",
       "        text-align: right;\n",
       "    }\n",
       "</style>\n",
       "<table border=\"1\" class=\"dataframe\">\n",
       "  <thead>\n",
       "    <tr style=\"text-align: right;\">\n",
       "      <th></th>\n",
       "      <th>id</th>\n",
       "      <th>is_canceled</th>\n",
       "      <th>lead_time</th>\n",
       "      <th>arrival_date_year</th>\n",
       "      <th>arrival_date_month</th>\n",
       "      <th>arrival_date_week_number</th>\n",
       "      <th>arrival_date_day_of_month</th>\n",
       "      <th>stays_in_weekend_nights</th>\n",
       "      <th>stays_in_week_nights</th>\n",
       "      <th>adults</th>\n",
       "      <th>children</th>\n",
       "      <th>babies</th>\n",
       "      <th>meal</th>\n",
       "      <th>country</th>\n",
       "      <th>distribution_channel</th>\n",
       "      <th>is_repeated_guest</th>\n",
       "      <th>previous_cancellations</th>\n",
       "      <th>previous_bookings_not_canceled</th>\n",
       "      <th>reserved_room_type</th>\n",
       "      <th>booking_changes</th>\n",
       "      <th>days_in_waiting_list</th>\n",
       "      <th>customer_type</th>\n",
       "      <th>required_car_parking_spaces</th>\n",
       "      <th>total_of_special_requests</th>\n",
       "      <th>total_nights</th>\n",
       "    </tr>\n",
       "  </thead>\n",
       "  <tbody>\n",
       "    <tr>\n",
       "      <th>0</th>\n",
       "      <td>6086</td>\n",
       "      <td>1</td>\n",
       "      <td>74.0</td>\n",
       "      <td>2017</td>\n",
       "      <td>January</td>\n",
       "      <td>1</td>\n",
       "      <td>1</td>\n",
       "      <td>1</td>\n",
       "      <td>0</td>\n",
       "      <td>2.0</td>\n",
       "      <td>0.0</td>\n",
       "      <td>0.0</td>\n",
       "      <td>BB</td>\n",
       "      <td>PRT</td>\n",
       "      <td>TA/TO</td>\n",
       "      <td>0</td>\n",
       "      <td>0</td>\n",
       "      <td>0</td>\n",
       "      <td>A</td>\n",
       "      <td>0</td>\n",
       "      <td>0</td>\n",
       "      <td>Transient</td>\n",
       "      <td>0</td>\n",
       "      <td>0</td>\n",
       "      <td>1</td>\n",
       "    </tr>\n",
       "    <tr>\n",
       "      <th>1</th>\n",
       "      <td>6087</td>\n",
       "      <td>1</td>\n",
       "      <td>62.0</td>\n",
       "      <td>2017</td>\n",
       "      <td>January</td>\n",
       "      <td>1</td>\n",
       "      <td>1</td>\n",
       "      <td>2</td>\n",
       "      <td>2</td>\n",
       "      <td>2.0</td>\n",
       "      <td>0.0</td>\n",
       "      <td>0.0</td>\n",
       "      <td>BB</td>\n",
       "      <td>AUT</td>\n",
       "      <td>TA/TO</td>\n",
       "      <td>0</td>\n",
       "      <td>0</td>\n",
       "      <td>0</td>\n",
       "      <td>A</td>\n",
       "      <td>0</td>\n",
       "      <td>0</td>\n",
       "      <td>Transient</td>\n",
       "      <td>0</td>\n",
       "      <td>1</td>\n",
       "      <td>4</td>\n",
       "    </tr>\n",
       "    <tr>\n",
       "      <th>2</th>\n",
       "      <td>6088</td>\n",
       "      <td>1</td>\n",
       "      <td>62.0</td>\n",
       "      <td>2017</td>\n",
       "      <td>January</td>\n",
       "      <td>1</td>\n",
       "      <td>1</td>\n",
       "      <td>2</td>\n",
       "      <td>2</td>\n",
       "      <td>2.0</td>\n",
       "      <td>0.0</td>\n",
       "      <td>0.0</td>\n",
       "      <td>BB</td>\n",
       "      <td>AUT</td>\n",
       "      <td>TA/TO</td>\n",
       "      <td>0</td>\n",
       "      <td>0</td>\n",
       "      <td>0</td>\n",
       "      <td>A</td>\n",
       "      <td>0</td>\n",
       "      <td>0</td>\n",
       "      <td>Transient</td>\n",
       "      <td>0</td>\n",
       "      <td>1</td>\n",
       "      <td>4</td>\n",
       "    </tr>\n",
       "    <tr>\n",
       "      <th>3</th>\n",
       "      <td>6089</td>\n",
       "      <td>1</td>\n",
       "      <td>71.0</td>\n",
       "      <td>2017</td>\n",
       "      <td>January</td>\n",
       "      <td>1</td>\n",
       "      <td>1</td>\n",
       "      <td>2</td>\n",
       "      <td>2</td>\n",
       "      <td>1.0</td>\n",
       "      <td>0.0</td>\n",
       "      <td>0.0</td>\n",
       "      <td>BB</td>\n",
       "      <td>PRT</td>\n",
       "      <td>TA/TO</td>\n",
       "      <td>0</td>\n",
       "      <td>0</td>\n",
       "      <td>0</td>\n",
       "      <td>A</td>\n",
       "      <td>0</td>\n",
       "      <td>0</td>\n",
       "      <td>Transient</td>\n",
       "      <td>0</td>\n",
       "      <td>1</td>\n",
       "      <td>4</td>\n",
       "    </tr>\n",
       "    <tr>\n",
       "      <th>4</th>\n",
       "      <td>6090</td>\n",
       "      <td>1</td>\n",
       "      <td>172.0</td>\n",
       "      <td>2017</td>\n",
       "      <td>January</td>\n",
       "      <td>1</td>\n",
       "      <td>1</td>\n",
       "      <td>2</td>\n",
       "      <td>5</td>\n",
       "      <td>2.0</td>\n",
       "      <td>0.0</td>\n",
       "      <td>0.0</td>\n",
       "      <td>BB</td>\n",
       "      <td>BEL</td>\n",
       "      <td>TA/TO</td>\n",
       "      <td>0</td>\n",
       "      <td>0</td>\n",
       "      <td>0</td>\n",
       "      <td>A</td>\n",
       "      <td>0</td>\n",
       "      <td>0</td>\n",
       "      <td>Transient</td>\n",
       "      <td>0</td>\n",
       "      <td>0</td>\n",
       "      <td>7</td>\n",
       "    </tr>\n",
       "  </tbody>\n",
       "</table>\n",
       "</div>"
      ],
      "text/plain": [
       "     id  is_canceled  lead_time  arrival_date_year arrival_date_month  \\\n",
       "0  6086            1       74.0               2017            January   \n",
       "1  6087            1       62.0               2017            January   \n",
       "2  6088            1       62.0               2017            January   \n",
       "3  6089            1       71.0               2017            January   \n",
       "4  6090            1      172.0               2017            January   \n",
       "\n",
       "   arrival_date_week_number  arrival_date_day_of_month  \\\n",
       "0                         1                          1   \n",
       "1                         1                          1   \n",
       "2                         1                          1   \n",
       "3                         1                          1   \n",
       "4                         1                          1   \n",
       "\n",
       "   stays_in_weekend_nights  stays_in_week_nights  adults  children  babies  \\\n",
       "0                        1                     0     2.0       0.0     0.0   \n",
       "1                        2                     2     2.0       0.0     0.0   \n",
       "2                        2                     2     2.0       0.0     0.0   \n",
       "3                        2                     2     1.0       0.0     0.0   \n",
       "4                        2                     5     2.0       0.0     0.0   \n",
       "\n",
       "        meal country distribution_channel  is_repeated_guest  \\\n",
       "0  BB            PRT                TA/TO                  0   \n",
       "1  BB            AUT                TA/TO                  0   \n",
       "2  BB            AUT                TA/TO                  0   \n",
       "3  BB            PRT                TA/TO                  0   \n",
       "4  BB            BEL                TA/TO                  0   \n",
       "\n",
       "   previous_cancellations  previous_bookings_not_canceled reserved_room_type  \\\n",
       "0                       0                               0   A                  \n",
       "1                       0                               0   A                  \n",
       "2                       0                               0   A                  \n",
       "3                       0                               0   A                  \n",
       "4                       0                               0   A                  \n",
       "\n",
       "   booking_changes  days_in_waiting_list customer_type  \\\n",
       "0                0                     0     Transient   \n",
       "1                0                     0     Transient   \n",
       "2                0                     0     Transient   \n",
       "3                0                     0     Transient   \n",
       "4                0                     0     Transient   \n",
       "\n",
       "   required_car_parking_spaces  total_of_special_requests  total_nights  \n",
       "0                            0                          0             1  \n",
       "1                            0                          1             4  \n",
       "2                            0                          1             4  \n",
       "3                            0                          1             4  \n",
       "4                            0                          0             7  "
      ]
     },
     "metadata": {},
     "output_type": "display_data"
    }
   ],
   "source": [
    "for dataset in data_dict:\n",
    "    \n",
    "    print(dataset)\n",
    "    display(data_dict[dataset].head())"
   ]
  },
  {
   "cell_type": "markdown",
   "metadata": {},
   "source": [
    "### Шаг 2. Предобработка и исследовательский анализ данных"
   ]
  },
  {
   "cell_type": "markdown",
   "metadata": {},
   "source": [
    "Размеры датасетов:"
   ]
  },
  {
   "cell_type": "code",
   "execution_count": 6,
   "metadata": {},
   "outputs": [
    {
     "name": "stdout",
     "output_type": "stream",
     "text": [
      "Размер датасета train_data (65229, 25)\n",
      "Размер датасета test_data (32412, 25)\n"
     ]
    }
   ],
   "source": [
    "for dataset in data_dict:\n",
    "    \n",
    "    size = data_dict[dataset].shape\n",
    "    print(f'Размер датасета {dataset} {size}')"
   ]
  },
  {
   "cell_type": "markdown",
   "metadata": {},
   "source": [
    "Распределение наблюдений в разрезе годов:"
   ]
  },
  {
   "cell_type": "code",
   "execution_count": 7,
   "metadata": {},
   "outputs": [
    {
     "name": "stdout",
     "output_type": "stream",
     "text": [
      "train_data содержит информацию по годам:\n",
      "2015 год - 18328 записей\n",
      "2016 год - 46901 записей\n",
      "test_data содержит информацию по годам:\n",
      "2017 год - 32412 записей\n"
     ]
    }
   ],
   "source": [
    "for dataset in data_dict:\n",
    "    \n",
    "    print(f'{dataset} содержит информацию по годам:')\n",
    "    \n",
    "    for year in list(data_dict[dataset]['arrival_date_year'].unique()):\n",
    "        \n",
    "        string_qnt = len(data_dict[dataset].query('arrival_date_year == @year'))\n",
    "        \n",
    "        print(f'{year} год - {string_qnt} записей')"
   ]
  },
  {
   "cell_type": "markdown",
   "metadata": {},
   "source": [
    "Проверим пропущенные значения:"
   ]
  },
  {
   "cell_type": "code",
   "execution_count": 8,
   "metadata": {},
   "outputs": [
    {
     "name": "stdout",
     "output_type": "stream",
     "text": [
      "train_data\n",
      "\n",
      "id                                0\n",
      "is_canceled                       0\n",
      "lead_time                         0\n",
      "arrival_date_year                 0\n",
      "arrival_date_month                0\n",
      "arrival_date_week_number          0\n",
      "arrival_date_day_of_month         0\n",
      "stays_in_weekend_nights           0\n",
      "stays_in_week_nights              0\n",
      "adults                            0\n",
      "children                          0\n",
      "babies                            0\n",
      "meal                              0\n",
      "country                           0\n",
      "distribution_channel              0\n",
      "is_repeated_guest                 0\n",
      "previous_cancellations            0\n",
      "previous_bookings_not_canceled    0\n",
      "reserved_room_type                0\n",
      "booking_changes                   0\n",
      "days_in_waiting_list              0\n",
      "customer_type                     0\n",
      "required_car_parking_spaces       0\n",
      "total_of_special_requests         0\n",
      "total_nights                      0\n",
      "dtype: int64\n",
      "test_data\n",
      "\n",
      "id                                0\n",
      "is_canceled                       0\n",
      "lead_time                         0\n",
      "arrival_date_year                 0\n",
      "arrival_date_month                0\n",
      "arrival_date_week_number          0\n",
      "arrival_date_day_of_month         0\n",
      "stays_in_weekend_nights           0\n",
      "stays_in_week_nights              0\n",
      "adults                            0\n",
      "children                          0\n",
      "babies                            0\n",
      "meal                              0\n",
      "country                           0\n",
      "distribution_channel              0\n",
      "is_repeated_guest                 0\n",
      "previous_cancellations            0\n",
      "previous_bookings_not_canceled    0\n",
      "reserved_room_type                0\n",
      "booking_changes                   0\n",
      "days_in_waiting_list              0\n",
      "customer_type                     0\n",
      "required_car_parking_spaces       0\n",
      "total_of_special_requests         0\n",
      "total_nights                      0\n",
      "dtype: int64\n"
     ]
    }
   ],
   "source": [
    "for dataset in data_dict:\n",
    "    \n",
    "    print(dataset)\n",
    "    print()\n",
    "    print(data_dict[dataset].isna().sum())"
   ]
  },
  {
   "cell_type": "markdown",
   "metadata": {},
   "source": [
    "Пропущенных значений - не онаруженно.\n",
    "\n",
    "Посмотрим на диапазоны значений данных:"
   ]
  },
  {
   "cell_type": "code",
   "execution_count": 9,
   "metadata": {},
   "outputs": [
    {
     "name": "stdout",
     "output_type": "stream",
     "text": [
      "train_data\n"
     ]
    },
    {
     "data": {
      "text/html": [
       "<div>\n",
       "<style scoped>\n",
       "    .dataframe tbody tr th:only-of-type {\n",
       "        vertical-align: middle;\n",
       "    }\n",
       "\n",
       "    .dataframe tbody tr th {\n",
       "        vertical-align: top;\n",
       "    }\n",
       "\n",
       "    .dataframe thead th {\n",
       "        text-align: right;\n",
       "    }\n",
       "</style>\n",
       "<table border=\"1\" class=\"dataframe\">\n",
       "  <thead>\n",
       "    <tr style=\"text-align: right;\">\n",
       "      <th></th>\n",
       "      <th>id</th>\n",
       "      <th>is_canceled</th>\n",
       "      <th>lead_time</th>\n",
       "      <th>arrival_date_year</th>\n",
       "      <th>arrival_date_week_number</th>\n",
       "      <th>arrival_date_day_of_month</th>\n",
       "      <th>stays_in_weekend_nights</th>\n",
       "      <th>stays_in_week_nights</th>\n",
       "      <th>adults</th>\n",
       "      <th>children</th>\n",
       "      <th>babies</th>\n",
       "      <th>is_repeated_guest</th>\n",
       "      <th>previous_cancellations</th>\n",
       "      <th>previous_bookings_not_canceled</th>\n",
       "      <th>booking_changes</th>\n",
       "      <th>days_in_waiting_list</th>\n",
       "      <th>required_car_parking_spaces</th>\n",
       "      <th>total_of_special_requests</th>\n",
       "      <th>total_nights</th>\n",
       "    </tr>\n",
       "  </thead>\n",
       "  <tbody>\n",
       "    <tr>\n",
       "      <th>count</th>\n",
       "      <td>65229.000000</td>\n",
       "      <td>65229.000000</td>\n",
       "      <td>65229.000000</td>\n",
       "      <td>65229.000000</td>\n",
       "      <td>65229.000000</td>\n",
       "      <td>65229.000000</td>\n",
       "      <td>65229.000000</td>\n",
       "      <td>65229.000000</td>\n",
       "      <td>65229.000000</td>\n",
       "      <td>65229.000000</td>\n",
       "      <td>65229.000000</td>\n",
       "      <td>65229.000000</td>\n",
       "      <td>65229.000000</td>\n",
       "      <td>65229.000000</td>\n",
       "      <td>65229.000000</td>\n",
       "      <td>65229.000000</td>\n",
       "      <td>65229.000000</td>\n",
       "      <td>65229.000000</td>\n",
       "      <td>65229.000000</td>\n",
       "    </tr>\n",
       "    <tr>\n",
       "      <th>mean</th>\n",
       "      <td>43544.069172</td>\n",
       "      <td>0.368609</td>\n",
       "      <td>96.337917</td>\n",
       "      <td>2015.719021</td>\n",
       "      <td>31.339772</td>\n",
       "      <td>15.847813</td>\n",
       "      <td>0.825185</td>\n",
       "      <td>2.224793</td>\n",
       "      <td>1.836576</td>\n",
       "      <td>0.074890</td>\n",
       "      <td>0.007236</td>\n",
       "      <td>0.027151</td>\n",
       "      <td>0.128915</td>\n",
       "      <td>0.107713</td>\n",
       "      <td>0.194269</td>\n",
       "      <td>3.334422</td>\n",
       "      <td>0.056647</td>\n",
       "      <td>0.512763</td>\n",
       "      <td>3.049978</td>\n",
       "    </tr>\n",
       "    <tr>\n",
       "      <th>std</th>\n",
       "      <td>25614.858971</td>\n",
       "      <td>0.482431</td>\n",
       "      <td>96.127545</td>\n",
       "      <td>0.449481</td>\n",
       "      <td>13.464024</td>\n",
       "      <td>8.748182</td>\n",
       "      <td>0.853477</td>\n",
       "      <td>1.354992</td>\n",
       "      <td>0.480245</td>\n",
       "      <td>0.334243</td>\n",
       "      <td>0.098790</td>\n",
       "      <td>0.162523</td>\n",
       "      <td>0.965326</td>\n",
       "      <td>1.326638</td>\n",
       "      <td>0.593838</td>\n",
       "      <td>18.239606</td>\n",
       "      <td>0.232094</td>\n",
       "      <td>0.752590</td>\n",
       "      <td>1.738108</td>\n",
       "    </tr>\n",
       "    <tr>\n",
       "      <th>min</th>\n",
       "      <td>0.000000</td>\n",
       "      <td>0.000000</td>\n",
       "      <td>0.000000</td>\n",
       "      <td>2015.000000</td>\n",
       "      <td>1.000000</td>\n",
       "      <td>1.000000</td>\n",
       "      <td>0.000000</td>\n",
       "      <td>0.000000</td>\n",
       "      <td>0.000000</td>\n",
       "      <td>0.000000</td>\n",
       "      <td>0.000000</td>\n",
       "      <td>0.000000</td>\n",
       "      <td>0.000000</td>\n",
       "      <td>0.000000</td>\n",
       "      <td>0.000000</td>\n",
       "      <td>0.000000</td>\n",
       "      <td>0.000000</td>\n",
       "      <td>0.000000</td>\n",
       "      <td>1.000000</td>\n",
       "    </tr>\n",
       "    <tr>\n",
       "      <th>25%</th>\n",
       "      <td>19108.000000</td>\n",
       "      <td>0.000000</td>\n",
       "      <td>17.000000</td>\n",
       "      <td>2015.000000</td>\n",
       "      <td>21.000000</td>\n",
       "      <td>8.000000</td>\n",
       "      <td>0.000000</td>\n",
       "      <td>1.000000</td>\n",
       "      <td>2.000000</td>\n",
       "      <td>0.000000</td>\n",
       "      <td>0.000000</td>\n",
       "      <td>0.000000</td>\n",
       "      <td>0.000000</td>\n",
       "      <td>0.000000</td>\n",
       "      <td>0.000000</td>\n",
       "      <td>0.000000</td>\n",
       "      <td>0.000000</td>\n",
       "      <td>0.000000</td>\n",
       "      <td>2.000000</td>\n",
       "    </tr>\n",
       "    <tr>\n",
       "      <th>50%</th>\n",
       "      <td>40554.000000</td>\n",
       "      <td>0.000000</td>\n",
       "      <td>64.000000</td>\n",
       "      <td>2016.000000</td>\n",
       "      <td>34.000000</td>\n",
       "      <td>16.000000</td>\n",
       "      <td>1.000000</td>\n",
       "      <td>2.000000</td>\n",
       "      <td>2.000000</td>\n",
       "      <td>0.000000</td>\n",
       "      <td>0.000000</td>\n",
       "      <td>0.000000</td>\n",
       "      <td>0.000000</td>\n",
       "      <td>0.000000</td>\n",
       "      <td>0.000000</td>\n",
       "      <td>0.000000</td>\n",
       "      <td>0.000000</td>\n",
       "      <td>0.000000</td>\n",
       "      <td>3.000000</td>\n",
       "    </tr>\n",
       "    <tr>\n",
       "      <th>75%</th>\n",
       "      <td>67414.000000</td>\n",
       "      <td>1.000000</td>\n",
       "      <td>151.000000</td>\n",
       "      <td>2016.000000</td>\n",
       "      <td>42.000000</td>\n",
       "      <td>23.000000</td>\n",
       "      <td>2.000000</td>\n",
       "      <td>3.000000</td>\n",
       "      <td>2.000000</td>\n",
       "      <td>0.000000</td>\n",
       "      <td>0.000000</td>\n",
       "      <td>0.000000</td>\n",
       "      <td>0.000000</td>\n",
       "      <td>0.000000</td>\n",
       "      <td>0.000000</td>\n",
       "      <td>0.000000</td>\n",
       "      <td>0.000000</td>\n",
       "      <td>1.000000</td>\n",
       "      <td>4.000000</td>\n",
       "    </tr>\n",
       "    <tr>\n",
       "      <th>max</th>\n",
       "      <td>84121.000000</td>\n",
       "      <td>1.000000</td>\n",
       "      <td>374.000000</td>\n",
       "      <td>2016.000000</td>\n",
       "      <td>53.000000</td>\n",
       "      <td>31.000000</td>\n",
       "      <td>4.000000</td>\n",
       "      <td>6.000000</td>\n",
       "      <td>4.000000</td>\n",
       "      <td>3.000000</td>\n",
       "      <td>10.000000</td>\n",
       "      <td>1.000000</td>\n",
       "      <td>26.000000</td>\n",
       "      <td>58.000000</td>\n",
       "      <td>17.000000</td>\n",
       "      <td>259.000000</td>\n",
       "      <td>3.000000</td>\n",
       "      <td>5.000000</td>\n",
       "      <td>10.000000</td>\n",
       "    </tr>\n",
       "  </tbody>\n",
       "</table>\n",
       "</div>"
      ],
      "text/plain": [
       "                 id   is_canceled     lead_time  arrival_date_year  \\\n",
       "count  65229.000000  65229.000000  65229.000000       65229.000000   \n",
       "mean   43544.069172      0.368609     96.337917        2015.719021   \n",
       "std    25614.858971      0.482431     96.127545           0.449481   \n",
       "min        0.000000      0.000000      0.000000        2015.000000   \n",
       "25%    19108.000000      0.000000     17.000000        2015.000000   \n",
       "50%    40554.000000      0.000000     64.000000        2016.000000   \n",
       "75%    67414.000000      1.000000    151.000000        2016.000000   \n",
       "max    84121.000000      1.000000    374.000000        2016.000000   \n",
       "\n",
       "       arrival_date_week_number  arrival_date_day_of_month  \\\n",
       "count              65229.000000               65229.000000   \n",
       "mean                  31.339772                  15.847813   \n",
       "std                   13.464024                   8.748182   \n",
       "min                    1.000000                   1.000000   \n",
       "25%                   21.000000                   8.000000   \n",
       "50%                   34.000000                  16.000000   \n",
       "75%                   42.000000                  23.000000   \n",
       "max                   53.000000                  31.000000   \n",
       "\n",
       "       stays_in_weekend_nights  stays_in_week_nights        adults  \\\n",
       "count             65229.000000          65229.000000  65229.000000   \n",
       "mean                  0.825185              2.224793      1.836576   \n",
       "std                   0.853477              1.354992      0.480245   \n",
       "min                   0.000000              0.000000      0.000000   \n",
       "25%                   0.000000              1.000000      2.000000   \n",
       "50%                   1.000000              2.000000      2.000000   \n",
       "75%                   2.000000              3.000000      2.000000   \n",
       "max                   4.000000              6.000000      4.000000   \n",
       "\n",
       "           children        babies  is_repeated_guest  previous_cancellations  \\\n",
       "count  65229.000000  65229.000000       65229.000000            65229.000000   \n",
       "mean       0.074890      0.007236           0.027151                0.128915   \n",
       "std        0.334243      0.098790           0.162523                0.965326   \n",
       "min        0.000000      0.000000           0.000000                0.000000   \n",
       "25%        0.000000      0.000000           0.000000                0.000000   \n",
       "50%        0.000000      0.000000           0.000000                0.000000   \n",
       "75%        0.000000      0.000000           0.000000                0.000000   \n",
       "max        3.000000     10.000000           1.000000               26.000000   \n",
       "\n",
       "       previous_bookings_not_canceled  booking_changes  days_in_waiting_list  \\\n",
       "count                    65229.000000     65229.000000          65229.000000   \n",
       "mean                         0.107713         0.194269              3.334422   \n",
       "std                          1.326638         0.593838             18.239606   \n",
       "min                          0.000000         0.000000              0.000000   \n",
       "25%                          0.000000         0.000000              0.000000   \n",
       "50%                          0.000000         0.000000              0.000000   \n",
       "75%                          0.000000         0.000000              0.000000   \n",
       "max                         58.000000        17.000000            259.000000   \n",
       "\n",
       "       required_car_parking_spaces  total_of_special_requests  total_nights  \n",
       "count                 65229.000000               65229.000000  65229.000000  \n",
       "mean                      0.056647                   0.512763      3.049978  \n",
       "std                       0.232094                   0.752590      1.738108  \n",
       "min                       0.000000                   0.000000      1.000000  \n",
       "25%                       0.000000                   0.000000      2.000000  \n",
       "50%                       0.000000                   0.000000      3.000000  \n",
       "75%                       0.000000                   1.000000      4.000000  \n",
       "max                       3.000000                   5.000000     10.000000  "
      ]
     },
     "metadata": {},
     "output_type": "display_data"
    },
    {
     "name": "stdout",
     "output_type": "stream",
     "text": [
      "test_data\n"
     ]
    },
    {
     "data": {
      "text/html": [
       "<div>\n",
       "<style scoped>\n",
       "    .dataframe tbody tr th:only-of-type {\n",
       "        vertical-align: middle;\n",
       "    }\n",
       "\n",
       "    .dataframe tbody tr th {\n",
       "        vertical-align: top;\n",
       "    }\n",
       "\n",
       "    .dataframe thead th {\n",
       "        text-align: right;\n",
       "    }\n",
       "</style>\n",
       "<table border=\"1\" class=\"dataframe\">\n",
       "  <thead>\n",
       "    <tr style=\"text-align: right;\">\n",
       "      <th></th>\n",
       "      <th>id</th>\n",
       "      <th>is_canceled</th>\n",
       "      <th>lead_time</th>\n",
       "      <th>arrival_date_year</th>\n",
       "      <th>arrival_date_week_number</th>\n",
       "      <th>arrival_date_day_of_month</th>\n",
       "      <th>stays_in_weekend_nights</th>\n",
       "      <th>stays_in_week_nights</th>\n",
       "      <th>adults</th>\n",
       "      <th>children</th>\n",
       "      <th>babies</th>\n",
       "      <th>is_repeated_guest</th>\n",
       "      <th>previous_cancellations</th>\n",
       "      <th>previous_bookings_not_canceled</th>\n",
       "      <th>booking_changes</th>\n",
       "      <th>days_in_waiting_list</th>\n",
       "      <th>required_car_parking_spaces</th>\n",
       "      <th>total_of_special_requests</th>\n",
       "      <th>total_nights</th>\n",
       "    </tr>\n",
       "  </thead>\n",
       "  <tbody>\n",
       "    <tr>\n",
       "      <th>count</th>\n",
       "      <td>32412.000000</td>\n",
       "      <td>32412.000000</td>\n",
       "      <td>32412.000000</td>\n",
       "      <td>32412.0</td>\n",
       "      <td>32412.000000</td>\n",
       "      <td>32412.000000</td>\n",
       "      <td>32412.000000</td>\n",
       "      <td>32412.00000</td>\n",
       "      <td>32412.000000</td>\n",
       "      <td>32412.000000</td>\n",
       "      <td>32412.000000</td>\n",
       "      <td>32412.000000</td>\n",
       "      <td>32412.000000</td>\n",
       "      <td>32412.000000</td>\n",
       "      <td>32412.000000</td>\n",
       "      <td>32412.000000</td>\n",
       "      <td>32412.000000</td>\n",
       "      <td>32412.000000</td>\n",
       "      <td>32412.000000</td>\n",
       "    </tr>\n",
       "    <tr>\n",
       "      <th>mean</th>\n",
       "      <td>60131.505183</td>\n",
       "      <td>0.388467</td>\n",
       "      <td>97.587869</td>\n",
       "      <td>2017.0</td>\n",
       "      <td>17.804054</td>\n",
       "      <td>15.656948</td>\n",
       "      <td>0.867888</td>\n",
       "      <td>2.34009</td>\n",
       "      <td>1.858602</td>\n",
       "      <td>0.083765</td>\n",
       "      <td>0.005523</td>\n",
       "      <td>0.031377</td>\n",
       "      <td>0.011601</td>\n",
       "      <td>0.171418</td>\n",
       "      <td>0.216741</td>\n",
       "      <td>0.262341</td>\n",
       "      <td>0.046248</td>\n",
       "      <td>0.657781</td>\n",
       "      <td>3.207979</td>\n",
       "    </tr>\n",
       "    <tr>\n",
       "      <th>std</th>\n",
       "      <td>29953.586177</td>\n",
       "      <td>0.487409</td>\n",
       "      <td>86.507146</td>\n",
       "      <td>0.0</td>\n",
       "      <td>9.177384</td>\n",
       "      <td>8.766429</td>\n",
       "      <td>0.853394</td>\n",
       "      <td>1.37517</td>\n",
       "      <td>0.489341</td>\n",
       "      <td>0.343470</td>\n",
       "      <td>0.075757</td>\n",
       "      <td>0.174338</td>\n",
       "      <td>0.180473</td>\n",
       "      <td>1.875170</td>\n",
       "      <td>0.640551</td>\n",
       "      <td>4.733027</td>\n",
       "      <td>0.219367</td>\n",
       "      <td>0.834341</td>\n",
       "      <td>1.738683</td>\n",
       "    </tr>\n",
       "    <tr>\n",
       "      <th>min</th>\n",
       "      <td>6086.000000</td>\n",
       "      <td>0.000000</td>\n",
       "      <td>0.000000</td>\n",
       "      <td>2017.0</td>\n",
       "      <td>1.000000</td>\n",
       "      <td>1.000000</td>\n",
       "      <td>0.000000</td>\n",
       "      <td>0.00000</td>\n",
       "      <td>0.000000</td>\n",
       "      <td>0.000000</td>\n",
       "      <td>0.000000</td>\n",
       "      <td>0.000000</td>\n",
       "      <td>0.000000</td>\n",
       "      <td>0.000000</td>\n",
       "      <td>0.000000</td>\n",
       "      <td>0.000000</td>\n",
       "      <td>0.000000</td>\n",
       "      <td>0.000000</td>\n",
       "      <td>1.000000</td>\n",
       "    </tr>\n",
       "    <tr>\n",
       "      <th>25%</th>\n",
       "      <td>45291.750000</td>\n",
       "      <td>0.000000</td>\n",
       "      <td>23.000000</td>\n",
       "      <td>2017.0</td>\n",
       "      <td>10.000000</td>\n",
       "      <td>8.000000</td>\n",
       "      <td>0.000000</td>\n",
       "      <td>1.00000</td>\n",
       "      <td>2.000000</td>\n",
       "      <td>0.000000</td>\n",
       "      <td>0.000000</td>\n",
       "      <td>0.000000</td>\n",
       "      <td>0.000000</td>\n",
       "      <td>0.000000</td>\n",
       "      <td>0.000000</td>\n",
       "      <td>0.000000</td>\n",
       "      <td>0.000000</td>\n",
       "      <td>0.000000</td>\n",
       "      <td>2.000000</td>\n",
       "    </tr>\n",
       "    <tr>\n",
       "      <th>50%</th>\n",
       "      <td>53394.500000</td>\n",
       "      <td>0.000000</td>\n",
       "      <td>76.000000</td>\n",
       "      <td>2017.0</td>\n",
       "      <td>18.000000</td>\n",
       "      <td>15.500000</td>\n",
       "      <td>1.000000</td>\n",
       "      <td>2.00000</td>\n",
       "      <td>2.000000</td>\n",
       "      <td>0.000000</td>\n",
       "      <td>0.000000</td>\n",
       "      <td>0.000000</td>\n",
       "      <td>0.000000</td>\n",
       "      <td>0.000000</td>\n",
       "      <td>0.000000</td>\n",
       "      <td>0.000000</td>\n",
       "      <td>0.000000</td>\n",
       "      <td>0.000000</td>\n",
       "      <td>3.000000</td>\n",
       "    </tr>\n",
       "    <tr>\n",
       "      <th>75%</th>\n",
       "      <td>89800.250000</td>\n",
       "      <td>1.000000</td>\n",
       "      <td>155.000000</td>\n",
       "      <td>2017.0</td>\n",
       "      <td>25.000000</td>\n",
       "      <td>23.000000</td>\n",
       "      <td>2.000000</td>\n",
       "      <td>3.00000</td>\n",
       "      <td>2.000000</td>\n",
       "      <td>0.000000</td>\n",
       "      <td>0.000000</td>\n",
       "      <td>0.000000</td>\n",
       "      <td>0.000000</td>\n",
       "      <td>0.000000</td>\n",
       "      <td>0.000000</td>\n",
       "      <td>0.000000</td>\n",
       "      <td>0.000000</td>\n",
       "      <td>1.000000</td>\n",
       "      <td>4.000000</td>\n",
       "    </tr>\n",
       "    <tr>\n",
       "      <th>max</th>\n",
       "      <td>97903.000000</td>\n",
       "      <td>1.000000</td>\n",
       "      <td>373.000000</td>\n",
       "      <td>2017.0</td>\n",
       "      <td>35.000000</td>\n",
       "      <td>31.000000</td>\n",
       "      <td>4.000000</td>\n",
       "      <td>6.00000</td>\n",
       "      <td>4.000000</td>\n",
       "      <td>3.000000</td>\n",
       "      <td>2.000000</td>\n",
       "      <td>1.000000</td>\n",
       "      <td>6.000000</td>\n",
       "      <td>72.000000</td>\n",
       "      <td>18.000000</td>\n",
       "      <td>223.000000</td>\n",
       "      <td>8.000000</td>\n",
       "      <td>5.000000</td>\n",
       "      <td>10.000000</td>\n",
       "    </tr>\n",
       "  </tbody>\n",
       "</table>\n",
       "</div>"
      ],
      "text/plain": [
       "                 id   is_canceled     lead_time  arrival_date_year  \\\n",
       "count  32412.000000  32412.000000  32412.000000            32412.0   \n",
       "mean   60131.505183      0.388467     97.587869             2017.0   \n",
       "std    29953.586177      0.487409     86.507146                0.0   \n",
       "min     6086.000000      0.000000      0.000000             2017.0   \n",
       "25%    45291.750000      0.000000     23.000000             2017.0   \n",
       "50%    53394.500000      0.000000     76.000000             2017.0   \n",
       "75%    89800.250000      1.000000    155.000000             2017.0   \n",
       "max    97903.000000      1.000000    373.000000             2017.0   \n",
       "\n",
       "       arrival_date_week_number  arrival_date_day_of_month  \\\n",
       "count              32412.000000               32412.000000   \n",
       "mean                  17.804054                  15.656948   \n",
       "std                    9.177384                   8.766429   \n",
       "min                    1.000000                   1.000000   \n",
       "25%                   10.000000                   8.000000   \n",
       "50%                   18.000000                  15.500000   \n",
       "75%                   25.000000                  23.000000   \n",
       "max                   35.000000                  31.000000   \n",
       "\n",
       "       stays_in_weekend_nights  stays_in_week_nights        adults  \\\n",
       "count             32412.000000           32412.00000  32412.000000   \n",
       "mean                  0.867888               2.34009      1.858602   \n",
       "std                   0.853394               1.37517      0.489341   \n",
       "min                   0.000000               0.00000      0.000000   \n",
       "25%                   0.000000               1.00000      2.000000   \n",
       "50%                   1.000000               2.00000      2.000000   \n",
       "75%                   2.000000               3.00000      2.000000   \n",
       "max                   4.000000               6.00000      4.000000   \n",
       "\n",
       "           children        babies  is_repeated_guest  previous_cancellations  \\\n",
       "count  32412.000000  32412.000000       32412.000000            32412.000000   \n",
       "mean       0.083765      0.005523           0.031377                0.011601   \n",
       "std        0.343470      0.075757           0.174338                0.180473   \n",
       "min        0.000000      0.000000           0.000000                0.000000   \n",
       "25%        0.000000      0.000000           0.000000                0.000000   \n",
       "50%        0.000000      0.000000           0.000000                0.000000   \n",
       "75%        0.000000      0.000000           0.000000                0.000000   \n",
       "max        3.000000      2.000000           1.000000                6.000000   \n",
       "\n",
       "       previous_bookings_not_canceled  booking_changes  days_in_waiting_list  \\\n",
       "count                    32412.000000     32412.000000          32412.000000   \n",
       "mean                         0.171418         0.216741              0.262341   \n",
       "std                          1.875170         0.640551              4.733027   \n",
       "min                          0.000000         0.000000              0.000000   \n",
       "25%                          0.000000         0.000000              0.000000   \n",
       "50%                          0.000000         0.000000              0.000000   \n",
       "75%                          0.000000         0.000000              0.000000   \n",
       "max                         72.000000        18.000000            223.000000   \n",
       "\n",
       "       required_car_parking_spaces  total_of_special_requests  total_nights  \n",
       "count                 32412.000000               32412.000000  32412.000000  \n",
       "mean                      0.046248                   0.657781      3.207979  \n",
       "std                       0.219367                   0.834341      1.738683  \n",
       "min                       0.000000                   0.000000      1.000000  \n",
       "25%                       0.000000                   0.000000      2.000000  \n",
       "50%                       0.000000                   0.000000      3.000000  \n",
       "75%                       0.000000                   1.000000      4.000000  \n",
       "max                       8.000000                   5.000000     10.000000  "
      ]
     },
     "metadata": {},
     "output_type": "display_data"
    }
   ],
   "source": [
    "for dataset in data_dict:\n",
    "    \n",
    "    print(dataset)\n",
    "    display(data_dict[dataset].describe())"
   ]
  },
  {
   "cell_type": "markdown",
   "metadata": {},
   "source": [
    "На первый взгляд все в порядке за исключением кол-ва младенцев, 10 - аномальное значение.\n",
    "\n",
    "Проверим типы данных:"
   ]
  },
  {
   "cell_type": "code",
   "execution_count": 10,
   "metadata": {},
   "outputs": [
    {
     "name": "stdout",
     "output_type": "stream",
     "text": [
      "train_data\n",
      "\n",
      "<class 'pandas.core.frame.DataFrame'>\n",
      "RangeIndex: 65229 entries, 0 to 65228\n",
      "Data columns (total 25 columns):\n",
      " #   Column                          Non-Null Count  Dtype  \n",
      "---  ------                          --------------  -----  \n",
      " 0   id                              65229 non-null  int64  \n",
      " 1   is_canceled                     65229 non-null  int64  \n",
      " 2   lead_time                       65229 non-null  float64\n",
      " 3   arrival_date_year               65229 non-null  int64  \n",
      " 4   arrival_date_month              65229 non-null  object \n",
      " 5   arrival_date_week_number        65229 non-null  int64  \n",
      " 6   arrival_date_day_of_month       65229 non-null  int64  \n",
      " 7   stays_in_weekend_nights         65229 non-null  int64  \n",
      " 8   stays_in_week_nights            65229 non-null  int64  \n",
      " 9   adults                          65229 non-null  float64\n",
      " 10  children                        65229 non-null  float64\n",
      " 11  babies                          65229 non-null  float64\n",
      " 12  meal                            65229 non-null  object \n",
      " 13  country                         65229 non-null  object \n",
      " 14  distribution_channel            65229 non-null  object \n",
      " 15  is_repeated_guest               65229 non-null  int64  \n",
      " 16  previous_cancellations          65229 non-null  int64  \n",
      " 17  previous_bookings_not_canceled  65229 non-null  int64  \n",
      " 18  reserved_room_type              65229 non-null  object \n",
      " 19  booking_changes                 65229 non-null  int64  \n",
      " 20  days_in_waiting_list            65229 non-null  int64  \n",
      " 21  customer_type                   65229 non-null  object \n",
      " 22  required_car_parking_spaces     65229 non-null  int64  \n",
      " 23  total_of_special_requests       65229 non-null  int64  \n",
      " 24  total_nights                    65229 non-null  int64  \n",
      "dtypes: float64(4), int64(15), object(6)\n",
      "memory usage: 12.4+ MB\n"
     ]
    },
    {
     "data": {
      "text/plain": [
       "None"
      ]
     },
     "metadata": {},
     "output_type": "display_data"
    },
    {
     "name": "stdout",
     "output_type": "stream",
     "text": [
      "test_data\n",
      "\n",
      "<class 'pandas.core.frame.DataFrame'>\n",
      "RangeIndex: 32412 entries, 0 to 32411\n",
      "Data columns (total 25 columns):\n",
      " #   Column                          Non-Null Count  Dtype  \n",
      "---  ------                          --------------  -----  \n",
      " 0   id                              32412 non-null  int64  \n",
      " 1   is_canceled                     32412 non-null  int64  \n",
      " 2   lead_time                       32412 non-null  float64\n",
      " 3   arrival_date_year               32412 non-null  int64  \n",
      " 4   arrival_date_month              32412 non-null  object \n",
      " 5   arrival_date_week_number        32412 non-null  int64  \n",
      " 6   arrival_date_day_of_month       32412 non-null  int64  \n",
      " 7   stays_in_weekend_nights         32412 non-null  int64  \n",
      " 8   stays_in_week_nights            32412 non-null  int64  \n",
      " 9   adults                          32412 non-null  float64\n",
      " 10  children                        32412 non-null  float64\n",
      " 11  babies                          32412 non-null  float64\n",
      " 12  meal                            32412 non-null  object \n",
      " 13  country                         32412 non-null  object \n",
      " 14  distribution_channel            32412 non-null  object \n",
      " 15  is_repeated_guest               32412 non-null  int64  \n",
      " 16  previous_cancellations          32412 non-null  int64  \n",
      " 17  previous_bookings_not_canceled  32412 non-null  int64  \n",
      " 18  reserved_room_type              32412 non-null  object \n",
      " 19  booking_changes                 32412 non-null  int64  \n",
      " 20  days_in_waiting_list            32412 non-null  int64  \n",
      " 21  customer_type                   32412 non-null  object \n",
      " 22  required_car_parking_spaces     32412 non-null  int64  \n",
      " 23  total_of_special_requests       32412 non-null  int64  \n",
      " 24  total_nights                    32412 non-null  int64  \n",
      "dtypes: float64(4), int64(15), object(6)\n",
      "memory usage: 6.2+ MB\n"
     ]
    },
    {
     "data": {
      "text/plain": [
       "None"
      ]
     },
     "metadata": {},
     "output_type": "display_data"
    }
   ],
   "source": [
    "for dataset in data_dict:\n",
    "    \n",
    "    print(dataset)\n",
    "    print()\n",
    "    display(data_dict[dataset].info())"
   ]
  },
  {
   "cell_type": "markdown",
   "metadata": {},
   "source": [
    "Данные в столбцах `lead_time`, `adults`, `children`, `babies` приведем к типу `int`:"
   ]
  },
  {
   "cell_type": "code",
   "execution_count": 11,
   "metadata": {},
   "outputs": [],
   "source": [
    "int_columns = ['lead_time', 'adults', 'children', 'babies']\n",
    "\n",
    "for dataset in data_dict:\n",
    "    \n",
    "    for column in int_columns:\n",
    "        \n",
    "        data_dict[dataset][column] = data_dict[dataset][column].astype('int')"
   ]
  },
  {
   "cell_type": "markdown",
   "metadata": {},
   "source": [
    "Обнаружены пробелы в значениях столбцов 'meal', 'reserved_room_type':"
   ]
  },
  {
   "cell_type": "code",
   "execution_count": 12,
   "metadata": {},
   "outputs": [
    {
     "name": "stdout",
     "output_type": "stream",
     "text": [
      "['BB       ' 'FB       ' 'HB       ' 'SC       ' 'SC']\n",
      "['A               ' 'C               ' 'D               '\n",
      " 'E               ' 'G               ' 'F               '\n",
      " 'B               ']\n",
      "['BB       ' 'HB       ' 'SC' 'FB       ' 'SC       ']\n",
      "['A               ' 'E               ' 'G               '\n",
      " 'D               ' 'F               ' 'C               '\n",
      " 'B               ']\n"
     ]
    }
   ],
   "source": [
    "replace_columns = ['meal', 'reserved_room_type']\n",
    "\n",
    "for dataset in data_dict:\n",
    "    for column_name in replace_columns:\n",
    "        print(data_dict[dataset][column_name].unique())"
   ]
  },
  {
   "cell_type": "markdown",
   "metadata": {},
   "source": [
    "Обработаем пробелы при помощи функции `replace_func`:"
   ]
  },
  {
   "cell_type": "code",
   "execution_count": 13,
   "metadata": {},
   "outputs": [],
   "source": [
    "def replace_func(series):\n",
    "    \n",
    "    return series.replace(r'\\s+','',regex=True)"
   ]
  },
  {
   "cell_type": "markdown",
   "metadata": {},
   "source": [
    "Применим функцию `replace_func` ко всем датасетам, построчно:"
   ]
  },
  {
   "cell_type": "code",
   "execution_count": 14,
   "metadata": {},
   "outputs": [
    {
     "name": "stdout",
     "output_type": "stream",
     "text": [
      "['BB' 'FB' 'HB' 'SC']\n",
      "['A' 'C' 'D' 'E' 'G' 'F' 'B']\n",
      "['BB' 'HB' 'SC' 'FB']\n",
      "['A' 'E' 'G' 'D' 'F' 'C' 'B']\n"
     ]
    }
   ],
   "source": [
    "for dataset in data_dict:\n",
    "    \n",
    "    for column in replace_columns:\n",
    "        \n",
    "        data_dict[dataset][column] = replace_func(data_dict[dataset][column])\n",
    "        print(data_dict[dataset][column].unique())"
   ]
  },
  {
   "cell_type": "markdown",
   "metadata": {},
   "source": [
    "В столбце `arrival_date_month` - месяц прибытия, заменим наименование месяца на его числовой эквивалент календарного исчисления:"
   ]
  },
  {
   "cell_type": "code",
   "execution_count": 15,
   "metadata": {},
   "outputs": [
    {
     "name": "stdout",
     "output_type": "stream",
     "text": [
      "train_data\n",
      "['July' 'August' 'September' 'October' 'November' 'December' 'January'\n",
      " 'February' 'March' 'April' 'May' 'June']\n",
      "test_data\n",
      "['January' 'February' 'March' 'April' 'May' 'June' 'July' 'August']\n"
     ]
    }
   ],
   "source": [
    "for dataset in data_dict:\n",
    "    print(dataset)\n",
    "    print(data_dict[dataset]['arrival_date_month'].unique())"
   ]
  },
  {
   "cell_type": "markdown",
   "metadata": {},
   "source": [
    "Обратим внимание на то что на тестовый датасет имеет данные только за 8 месяцев 2017 года."
   ]
  },
  {
   "cell_type": "code",
   "execution_count": 16,
   "metadata": {},
   "outputs": [],
   "source": [
    "d = {'January': 1, \n",
    "     'February': 2, \n",
    "     'March': 3, \n",
    "     'April': 4,\n",
    "     'May': 5,\n",
    "     'June': 6,\n",
    "     'July': 7,\n",
    "     'August': 8,\n",
    "     'September': 9,\n",
    "     'October': 10,\n",
    "     'November': 11,\n",
    "     'December': 12}\n",
    "\n",
    "for dataset in data_dict:\n",
    "    \n",
    "    data_dict[dataset].arrival_date_month = data_dict[dataset].arrival_date_month.map(d)"
   ]
  },
  {
   "cell_type": "markdown",
   "metadata": {},
   "source": [
    "Удалим колонку 'id' из наших датасетов она не несет никакой информации кроме номера записи:"
   ]
  },
  {
   "cell_type": "code",
   "execution_count": 17,
   "metadata": {},
   "outputs": [],
   "source": [
    "drop_columns_list = ['id']\n",
    "\n",
    "for dataset in data_dict:\n",
    "\n",
    "    data_dict[dataset] = data_dict[dataset].drop(columns=drop_columns_list)"
   ]
  },
  {
   "cell_type": "markdown",
   "metadata": {},
   "source": [
    "Проверим наши датасеты на дубликаты:"
   ]
  },
  {
   "cell_type": "code",
   "execution_count": 18,
   "metadata": {},
   "outputs": [
    {
     "name": "stdout",
     "output_type": "stream",
     "text": [
      "В датасете train_data обнаруженно 21377 дублированных записей\n",
      "В датасете test_data обнаруженно 7717 дублированных записей\n"
     ]
    }
   ],
   "source": [
    "for dataset in data_dict:\n",
    "    \n",
    "    duplicated_qnt = data_dict[dataset].duplicated().sum()\n",
    "    print(f'В датасете {dataset} обнаруженно {duplicated_qnt} дублированных записей')"
   ]
  },
  {
   "cell_type": "code",
   "execution_count": 19,
   "metadata": {},
   "outputs": [
    {
     "data": {
      "text/html": [
       "<div>\n",
       "<style scoped>\n",
       "    .dataframe tbody tr th:only-of-type {\n",
       "        vertical-align: middle;\n",
       "    }\n",
       "\n",
       "    .dataframe tbody tr th {\n",
       "        vertical-align: top;\n",
       "    }\n",
       "\n",
       "    .dataframe thead th {\n",
       "        text-align: right;\n",
       "    }\n",
       "</style>\n",
       "<table border=\"1\" class=\"dataframe\">\n",
       "  <thead>\n",
       "    <tr style=\"text-align: right;\">\n",
       "      <th></th>\n",
       "      <th>is_canceled</th>\n",
       "      <th>lead_time</th>\n",
       "      <th>arrival_date_year</th>\n",
       "      <th>arrival_date_month</th>\n",
       "      <th>arrival_date_week_number</th>\n",
       "      <th>arrival_date_day_of_month</th>\n",
       "      <th>stays_in_weekend_nights</th>\n",
       "      <th>stays_in_week_nights</th>\n",
       "      <th>adults</th>\n",
       "      <th>children</th>\n",
       "      <th>babies</th>\n",
       "      <th>meal</th>\n",
       "      <th>country</th>\n",
       "      <th>distribution_channel</th>\n",
       "      <th>is_repeated_guest</th>\n",
       "      <th>previous_cancellations</th>\n",
       "      <th>previous_bookings_not_canceled</th>\n",
       "      <th>reserved_room_type</th>\n",
       "      <th>booking_changes</th>\n",
       "      <th>days_in_waiting_list</th>\n",
       "      <th>customer_type</th>\n",
       "      <th>required_car_parking_spaces</th>\n",
       "      <th>total_of_special_requests</th>\n",
       "      <th>total_nights</th>\n",
       "    </tr>\n",
       "  </thead>\n",
       "  <tbody>\n",
       "    <tr>\n",
       "      <th>12</th>\n",
       "      <td>0</td>\n",
       "      <td>72</td>\n",
       "      <td>2015</td>\n",
       "      <td>7</td>\n",
       "      <td>27</td>\n",
       "      <td>1</td>\n",
       "      <td>2</td>\n",
       "      <td>4</td>\n",
       "      <td>2</td>\n",
       "      <td>0</td>\n",
       "      <td>0</td>\n",
       "      <td>BB</td>\n",
       "      <td>PRT</td>\n",
       "      <td>Direct</td>\n",
       "      <td>0</td>\n",
       "      <td>0</td>\n",
       "      <td>0</td>\n",
       "      <td>A</td>\n",
       "      <td>1</td>\n",
       "      <td>0</td>\n",
       "      <td>Transient</td>\n",
       "      <td>0</td>\n",
       "      <td>1</td>\n",
       "      <td>6</td>\n",
       "    </tr>\n",
       "    <tr>\n",
       "      <th>13</th>\n",
       "      <td>0</td>\n",
       "      <td>72</td>\n",
       "      <td>2015</td>\n",
       "      <td>7</td>\n",
       "      <td>27</td>\n",
       "      <td>1</td>\n",
       "      <td>2</td>\n",
       "      <td>4</td>\n",
       "      <td>2</td>\n",
       "      <td>0</td>\n",
       "      <td>0</td>\n",
       "      <td>BB</td>\n",
       "      <td>PRT</td>\n",
       "      <td>Direct</td>\n",
       "      <td>0</td>\n",
       "      <td>0</td>\n",
       "      <td>0</td>\n",
       "      <td>A</td>\n",
       "      <td>1</td>\n",
       "      <td>0</td>\n",
       "      <td>Transient</td>\n",
       "      <td>0</td>\n",
       "      <td>1</td>\n",
       "      <td>6</td>\n",
       "    </tr>\n",
       "    <tr>\n",
       "      <th>82</th>\n",
       "      <td>1</td>\n",
       "      <td>5</td>\n",
       "      <td>2015</td>\n",
       "      <td>7</td>\n",
       "      <td>28</td>\n",
       "      <td>5</td>\n",
       "      <td>1</td>\n",
       "      <td>0</td>\n",
       "      <td>2</td>\n",
       "      <td>0</td>\n",
       "      <td>0</td>\n",
       "      <td>BB</td>\n",
       "      <td>PRT</td>\n",
       "      <td>TA/TO</td>\n",
       "      <td>0</td>\n",
       "      <td>0</td>\n",
       "      <td>0</td>\n",
       "      <td>D</td>\n",
       "      <td>0</td>\n",
       "      <td>0</td>\n",
       "      <td>Transient</td>\n",
       "      <td>0</td>\n",
       "      <td>0</td>\n",
       "      <td>1</td>\n",
       "    </tr>\n",
       "    <tr>\n",
       "      <th>85</th>\n",
       "      <td>1</td>\n",
       "      <td>5</td>\n",
       "      <td>2015</td>\n",
       "      <td>7</td>\n",
       "      <td>28</td>\n",
       "      <td>5</td>\n",
       "      <td>1</td>\n",
       "      <td>0</td>\n",
       "      <td>2</td>\n",
       "      <td>0</td>\n",
       "      <td>0</td>\n",
       "      <td>BB</td>\n",
       "      <td>PRT</td>\n",
       "      <td>TA/TO</td>\n",
       "      <td>0</td>\n",
       "      <td>0</td>\n",
       "      <td>0</td>\n",
       "      <td>D</td>\n",
       "      <td>0</td>\n",
       "      <td>0</td>\n",
       "      <td>Transient</td>\n",
       "      <td>0</td>\n",
       "      <td>0</td>\n",
       "      <td>1</td>\n",
       "    </tr>\n",
       "    <tr>\n",
       "      <th>113</th>\n",
       "      <td>0</td>\n",
       "      <td>0</td>\n",
       "      <td>2015</td>\n",
       "      <td>7</td>\n",
       "      <td>28</td>\n",
       "      <td>7</td>\n",
       "      <td>0</td>\n",
       "      <td>1</td>\n",
       "      <td>1</td>\n",
       "      <td>0</td>\n",
       "      <td>0</td>\n",
       "      <td>BB</td>\n",
       "      <td>GBR</td>\n",
       "      <td>TA/TO</td>\n",
       "      <td>0</td>\n",
       "      <td>0</td>\n",
       "      <td>0</td>\n",
       "      <td>A</td>\n",
       "      <td>0</td>\n",
       "      <td>0</td>\n",
       "      <td>Transient</td>\n",
       "      <td>0</td>\n",
       "      <td>3</td>\n",
       "      <td>1</td>\n",
       "    </tr>\n",
       "    <tr>\n",
       "      <th>115</th>\n",
       "      <td>0</td>\n",
       "      <td>0</td>\n",
       "      <td>2015</td>\n",
       "      <td>7</td>\n",
       "      <td>28</td>\n",
       "      <td>7</td>\n",
       "      <td>0</td>\n",
       "      <td>1</td>\n",
       "      <td>1</td>\n",
       "      <td>0</td>\n",
       "      <td>0</td>\n",
       "      <td>BB</td>\n",
       "      <td>GBR</td>\n",
       "      <td>TA/TO</td>\n",
       "      <td>0</td>\n",
       "      <td>0</td>\n",
       "      <td>0</td>\n",
       "      <td>A</td>\n",
       "      <td>0</td>\n",
       "      <td>0</td>\n",
       "      <td>Transient</td>\n",
       "      <td>0</td>\n",
       "      <td>3</td>\n",
       "      <td>1</td>\n",
       "    </tr>\n",
       "    <tr>\n",
       "      <th>126</th>\n",
       "      <td>1</td>\n",
       "      <td>1</td>\n",
       "      <td>2015</td>\n",
       "      <td>7</td>\n",
       "      <td>28</td>\n",
       "      <td>8</td>\n",
       "      <td>0</td>\n",
       "      <td>1</td>\n",
       "      <td>2</td>\n",
       "      <td>0</td>\n",
       "      <td>0</td>\n",
       "      <td>BB</td>\n",
       "      <td>PRT</td>\n",
       "      <td>Corporate</td>\n",
       "      <td>0</td>\n",
       "      <td>0</td>\n",
       "      <td>0</td>\n",
       "      <td>A</td>\n",
       "      <td>0</td>\n",
       "      <td>0</td>\n",
       "      <td>Transient</td>\n",
       "      <td>0</td>\n",
       "      <td>1</td>\n",
       "      <td>1</td>\n",
       "    </tr>\n",
       "    <tr>\n",
       "      <th>127</th>\n",
       "      <td>1</td>\n",
       "      <td>1</td>\n",
       "      <td>2015</td>\n",
       "      <td>7</td>\n",
       "      <td>28</td>\n",
       "      <td>8</td>\n",
       "      <td>0</td>\n",
       "      <td>1</td>\n",
       "      <td>2</td>\n",
       "      <td>0</td>\n",
       "      <td>0</td>\n",
       "      <td>BB</td>\n",
       "      <td>PRT</td>\n",
       "      <td>Corporate</td>\n",
       "      <td>0</td>\n",
       "      <td>0</td>\n",
       "      <td>0</td>\n",
       "      <td>A</td>\n",
       "      <td>0</td>\n",
       "      <td>0</td>\n",
       "      <td>Transient</td>\n",
       "      <td>0</td>\n",
       "      <td>1</td>\n",
       "      <td>1</td>\n",
       "    </tr>\n",
       "    <tr>\n",
       "      <th>216</th>\n",
       "      <td>0</td>\n",
       "      <td>40</td>\n",
       "      <td>2015</td>\n",
       "      <td>7</td>\n",
       "      <td>29</td>\n",
       "      <td>13</td>\n",
       "      <td>1</td>\n",
       "      <td>4</td>\n",
       "      <td>2</td>\n",
       "      <td>0</td>\n",
       "      <td>0</td>\n",
       "      <td>BB</td>\n",
       "      <td>ESP</td>\n",
       "      <td>Direct</td>\n",
       "      <td>0</td>\n",
       "      <td>0</td>\n",
       "      <td>0</td>\n",
       "      <td>D</td>\n",
       "      <td>0</td>\n",
       "      <td>0</td>\n",
       "      <td>Transient</td>\n",
       "      <td>0</td>\n",
       "      <td>2</td>\n",
       "      <td>5</td>\n",
       "    </tr>\n",
       "    <tr>\n",
       "      <th>219</th>\n",
       "      <td>0</td>\n",
       "      <td>40</td>\n",
       "      <td>2015</td>\n",
       "      <td>7</td>\n",
       "      <td>29</td>\n",
       "      <td>13</td>\n",
       "      <td>1</td>\n",
       "      <td>4</td>\n",
       "      <td>2</td>\n",
       "      <td>0</td>\n",
       "      <td>0</td>\n",
       "      <td>BB</td>\n",
       "      <td>ESP</td>\n",
       "      <td>Direct</td>\n",
       "      <td>0</td>\n",
       "      <td>0</td>\n",
       "      <td>0</td>\n",
       "      <td>D</td>\n",
       "      <td>0</td>\n",
       "      <td>0</td>\n",
       "      <td>Transient</td>\n",
       "      <td>0</td>\n",
       "      <td>2</td>\n",
       "      <td>5</td>\n",
       "    </tr>\n",
       "    <tr>\n",
       "      <th>243</th>\n",
       "      <td>0</td>\n",
       "      <td>57</td>\n",
       "      <td>2015</td>\n",
       "      <td>7</td>\n",
       "      <td>29</td>\n",
       "      <td>15</td>\n",
       "      <td>0</td>\n",
       "      <td>2</td>\n",
       "      <td>2</td>\n",
       "      <td>0</td>\n",
       "      <td>0</td>\n",
       "      <td>FB</td>\n",
       "      <td>PRT</td>\n",
       "      <td>Direct</td>\n",
       "      <td>0</td>\n",
       "      <td>0</td>\n",
       "      <td>0</td>\n",
       "      <td>A</td>\n",
       "      <td>0</td>\n",
       "      <td>0</td>\n",
       "      <td>Transient-Party</td>\n",
       "      <td>0</td>\n",
       "      <td>0</td>\n",
       "      <td>2</td>\n",
       "    </tr>\n",
       "    <tr>\n",
       "      <th>244</th>\n",
       "      <td>0</td>\n",
       "      <td>57</td>\n",
       "      <td>2015</td>\n",
       "      <td>7</td>\n",
       "      <td>29</td>\n",
       "      <td>15</td>\n",
       "      <td>0</td>\n",
       "      <td>2</td>\n",
       "      <td>2</td>\n",
       "      <td>0</td>\n",
       "      <td>0</td>\n",
       "      <td>FB</td>\n",
       "      <td>PRT</td>\n",
       "      <td>Direct</td>\n",
       "      <td>0</td>\n",
       "      <td>0</td>\n",
       "      <td>0</td>\n",
       "      <td>A</td>\n",
       "      <td>0</td>\n",
       "      <td>0</td>\n",
       "      <td>Transient-Party</td>\n",
       "      <td>0</td>\n",
       "      <td>0</td>\n",
       "      <td>2</td>\n",
       "    </tr>\n",
       "    <tr>\n",
       "      <th>245</th>\n",
       "      <td>0</td>\n",
       "      <td>57</td>\n",
       "      <td>2015</td>\n",
       "      <td>7</td>\n",
       "      <td>29</td>\n",
       "      <td>15</td>\n",
       "      <td>0</td>\n",
       "      <td>2</td>\n",
       "      <td>2</td>\n",
       "      <td>0</td>\n",
       "      <td>0</td>\n",
       "      <td>FB</td>\n",
       "      <td>PRT</td>\n",
       "      <td>Direct</td>\n",
       "      <td>0</td>\n",
       "      <td>0</td>\n",
       "      <td>0</td>\n",
       "      <td>A</td>\n",
       "      <td>0</td>\n",
       "      <td>0</td>\n",
       "      <td>Transient-Party</td>\n",
       "      <td>0</td>\n",
       "      <td>0</td>\n",
       "      <td>2</td>\n",
       "    </tr>\n",
       "    <tr>\n",
       "      <th>246</th>\n",
       "      <td>0</td>\n",
       "      <td>57</td>\n",
       "      <td>2015</td>\n",
       "      <td>7</td>\n",
       "      <td>29</td>\n",
       "      <td>15</td>\n",
       "      <td>0</td>\n",
       "      <td>2</td>\n",
       "      <td>2</td>\n",
       "      <td>0</td>\n",
       "      <td>0</td>\n",
       "      <td>FB</td>\n",
       "      <td>PRT</td>\n",
       "      <td>Direct</td>\n",
       "      <td>0</td>\n",
       "      <td>0</td>\n",
       "      <td>0</td>\n",
       "      <td>A</td>\n",
       "      <td>0</td>\n",
       "      <td>0</td>\n",
       "      <td>Transient-Party</td>\n",
       "      <td>0</td>\n",
       "      <td>0</td>\n",
       "      <td>2</td>\n",
       "    </tr>\n",
       "    <tr>\n",
       "      <th>247</th>\n",
       "      <td>0</td>\n",
       "      <td>57</td>\n",
       "      <td>2015</td>\n",
       "      <td>7</td>\n",
       "      <td>29</td>\n",
       "      <td>15</td>\n",
       "      <td>0</td>\n",
       "      <td>2</td>\n",
       "      <td>1</td>\n",
       "      <td>0</td>\n",
       "      <td>0</td>\n",
       "      <td>FB</td>\n",
       "      <td>PRT</td>\n",
       "      <td>Direct</td>\n",
       "      <td>0</td>\n",
       "      <td>0</td>\n",
       "      <td>0</td>\n",
       "      <td>A</td>\n",
       "      <td>1</td>\n",
       "      <td>0</td>\n",
       "      <td>Transient-Party</td>\n",
       "      <td>0</td>\n",
       "      <td>0</td>\n",
       "      <td>2</td>\n",
       "    </tr>\n",
       "    <tr>\n",
       "      <th>248</th>\n",
       "      <td>0</td>\n",
       "      <td>57</td>\n",
       "      <td>2015</td>\n",
       "      <td>7</td>\n",
       "      <td>29</td>\n",
       "      <td>15</td>\n",
       "      <td>0</td>\n",
       "      <td>2</td>\n",
       "      <td>2</td>\n",
       "      <td>0</td>\n",
       "      <td>0</td>\n",
       "      <td>FB</td>\n",
       "      <td>PRT</td>\n",
       "      <td>Direct</td>\n",
       "      <td>0</td>\n",
       "      <td>0</td>\n",
       "      <td>0</td>\n",
       "      <td>A</td>\n",
       "      <td>0</td>\n",
       "      <td>0</td>\n",
       "      <td>Transient-Party</td>\n",
       "      <td>0</td>\n",
       "      <td>0</td>\n",
       "      <td>2</td>\n",
       "    </tr>\n",
       "    <tr>\n",
       "      <th>249</th>\n",
       "      <td>0</td>\n",
       "      <td>57</td>\n",
       "      <td>2015</td>\n",
       "      <td>7</td>\n",
       "      <td>29</td>\n",
       "      <td>15</td>\n",
       "      <td>0</td>\n",
       "      <td>2</td>\n",
       "      <td>1</td>\n",
       "      <td>0</td>\n",
       "      <td>0</td>\n",
       "      <td>FB</td>\n",
       "      <td>PRT</td>\n",
       "      <td>Direct</td>\n",
       "      <td>0</td>\n",
       "      <td>0</td>\n",
       "      <td>0</td>\n",
       "      <td>A</td>\n",
       "      <td>1</td>\n",
       "      <td>0</td>\n",
       "      <td>Transient-Party</td>\n",
       "      <td>0</td>\n",
       "      <td>0</td>\n",
       "      <td>2</td>\n",
       "    </tr>\n",
       "    <tr>\n",
       "      <th>250</th>\n",
       "      <td>0</td>\n",
       "      <td>57</td>\n",
       "      <td>2015</td>\n",
       "      <td>7</td>\n",
       "      <td>29</td>\n",
       "      <td>15</td>\n",
       "      <td>0</td>\n",
       "      <td>2</td>\n",
       "      <td>2</td>\n",
       "      <td>0</td>\n",
       "      <td>0</td>\n",
       "      <td>FB</td>\n",
       "      <td>PRT</td>\n",
       "      <td>Direct</td>\n",
       "      <td>0</td>\n",
       "      <td>0</td>\n",
       "      <td>0</td>\n",
       "      <td>A</td>\n",
       "      <td>0</td>\n",
       "      <td>0</td>\n",
       "      <td>Transient</td>\n",
       "      <td>0</td>\n",
       "      <td>0</td>\n",
       "      <td>2</td>\n",
       "    </tr>\n",
       "    <tr>\n",
       "      <th>252</th>\n",
       "      <td>0</td>\n",
       "      <td>57</td>\n",
       "      <td>2015</td>\n",
       "      <td>7</td>\n",
       "      <td>29</td>\n",
       "      <td>15</td>\n",
       "      <td>0</td>\n",
       "      <td>2</td>\n",
       "      <td>2</td>\n",
       "      <td>0</td>\n",
       "      <td>0</td>\n",
       "      <td>FB</td>\n",
       "      <td>PRT</td>\n",
       "      <td>Direct</td>\n",
       "      <td>0</td>\n",
       "      <td>0</td>\n",
       "      <td>0</td>\n",
       "      <td>A</td>\n",
       "      <td>0</td>\n",
       "      <td>0</td>\n",
       "      <td>Transient</td>\n",
       "      <td>0</td>\n",
       "      <td>0</td>\n",
       "      <td>2</td>\n",
       "    </tr>\n",
       "    <tr>\n",
       "      <th>253</th>\n",
       "      <td>0</td>\n",
       "      <td>57</td>\n",
       "      <td>2015</td>\n",
       "      <td>7</td>\n",
       "      <td>29</td>\n",
       "      <td>15</td>\n",
       "      <td>0</td>\n",
       "      <td>2</td>\n",
       "      <td>2</td>\n",
       "      <td>0</td>\n",
       "      <td>0</td>\n",
       "      <td>FB</td>\n",
       "      <td>PRT</td>\n",
       "      <td>Direct</td>\n",
       "      <td>0</td>\n",
       "      <td>0</td>\n",
       "      <td>0</td>\n",
       "      <td>A</td>\n",
       "      <td>0</td>\n",
       "      <td>0</td>\n",
       "      <td>Transient-Party</td>\n",
       "      <td>0</td>\n",
       "      <td>0</td>\n",
       "      <td>2</td>\n",
       "    </tr>\n",
       "  </tbody>\n",
       "</table>\n",
       "</div>"
      ],
      "text/plain": [
       "     is_canceled  lead_time  arrival_date_year  arrival_date_month  \\\n",
       "12             0         72               2015                   7   \n",
       "13             0         72               2015                   7   \n",
       "82             1          5               2015                   7   \n",
       "85             1          5               2015                   7   \n",
       "113            0          0               2015                   7   \n",
       "115            0          0               2015                   7   \n",
       "126            1          1               2015                   7   \n",
       "127            1          1               2015                   7   \n",
       "216            0         40               2015                   7   \n",
       "219            0         40               2015                   7   \n",
       "243            0         57               2015                   7   \n",
       "244            0         57               2015                   7   \n",
       "245            0         57               2015                   7   \n",
       "246            0         57               2015                   7   \n",
       "247            0         57               2015                   7   \n",
       "248            0         57               2015                   7   \n",
       "249            0         57               2015                   7   \n",
       "250            0         57               2015                   7   \n",
       "252            0         57               2015                   7   \n",
       "253            0         57               2015                   7   \n",
       "\n",
       "     arrival_date_week_number  arrival_date_day_of_month  \\\n",
       "12                         27                          1   \n",
       "13                         27                          1   \n",
       "82                         28                          5   \n",
       "85                         28                          5   \n",
       "113                        28                          7   \n",
       "115                        28                          7   \n",
       "126                        28                          8   \n",
       "127                        28                          8   \n",
       "216                        29                         13   \n",
       "219                        29                         13   \n",
       "243                        29                         15   \n",
       "244                        29                         15   \n",
       "245                        29                         15   \n",
       "246                        29                         15   \n",
       "247                        29                         15   \n",
       "248                        29                         15   \n",
       "249                        29                         15   \n",
       "250                        29                         15   \n",
       "252                        29                         15   \n",
       "253                        29                         15   \n",
       "\n",
       "     stays_in_weekend_nights  stays_in_week_nights  adults  children  babies  \\\n",
       "12                         2                     4       2         0       0   \n",
       "13                         2                     4       2         0       0   \n",
       "82                         1                     0       2         0       0   \n",
       "85                         1                     0       2         0       0   \n",
       "113                        0                     1       1         0       0   \n",
       "115                        0                     1       1         0       0   \n",
       "126                        0                     1       2         0       0   \n",
       "127                        0                     1       2         0       0   \n",
       "216                        1                     4       2         0       0   \n",
       "219                        1                     4       2         0       0   \n",
       "243                        0                     2       2         0       0   \n",
       "244                        0                     2       2         0       0   \n",
       "245                        0                     2       2         0       0   \n",
       "246                        0                     2       2         0       0   \n",
       "247                        0                     2       1         0       0   \n",
       "248                        0                     2       2         0       0   \n",
       "249                        0                     2       1         0       0   \n",
       "250                        0                     2       2         0       0   \n",
       "252                        0                     2       2         0       0   \n",
       "253                        0                     2       2         0       0   \n",
       "\n",
       "    meal country distribution_channel  is_repeated_guest  \\\n",
       "12    BB     PRT               Direct                  0   \n",
       "13    BB     PRT               Direct                  0   \n",
       "82    BB     PRT                TA/TO                  0   \n",
       "85    BB     PRT                TA/TO                  0   \n",
       "113   BB     GBR                TA/TO                  0   \n",
       "115   BB     GBR                TA/TO                  0   \n",
       "126   BB     PRT            Corporate                  0   \n",
       "127   BB     PRT            Corporate                  0   \n",
       "216   BB     ESP               Direct                  0   \n",
       "219   BB     ESP               Direct                  0   \n",
       "243   FB     PRT               Direct                  0   \n",
       "244   FB     PRT               Direct                  0   \n",
       "245   FB     PRT               Direct                  0   \n",
       "246   FB     PRT               Direct                  0   \n",
       "247   FB     PRT               Direct                  0   \n",
       "248   FB     PRT               Direct                  0   \n",
       "249   FB     PRT               Direct                  0   \n",
       "250   FB     PRT               Direct                  0   \n",
       "252   FB     PRT               Direct                  0   \n",
       "253   FB     PRT               Direct                  0   \n",
       "\n",
       "     previous_cancellations  previous_bookings_not_canceled  \\\n",
       "12                        0                               0   \n",
       "13                        0                               0   \n",
       "82                        0                               0   \n",
       "85                        0                               0   \n",
       "113                       0                               0   \n",
       "115                       0                               0   \n",
       "126                       0                               0   \n",
       "127                       0                               0   \n",
       "216                       0                               0   \n",
       "219                       0                               0   \n",
       "243                       0                               0   \n",
       "244                       0                               0   \n",
       "245                       0                               0   \n",
       "246                       0                               0   \n",
       "247                       0                               0   \n",
       "248                       0                               0   \n",
       "249                       0                               0   \n",
       "250                       0                               0   \n",
       "252                       0                               0   \n",
       "253                       0                               0   \n",
       "\n",
       "    reserved_room_type  booking_changes  days_in_waiting_list  \\\n",
       "12                   A                1                     0   \n",
       "13                   A                1                     0   \n",
       "82                   D                0                     0   \n",
       "85                   D                0                     0   \n",
       "113                  A                0                     0   \n",
       "115                  A                0                     0   \n",
       "126                  A                0                     0   \n",
       "127                  A                0                     0   \n",
       "216                  D                0                     0   \n",
       "219                  D                0                     0   \n",
       "243                  A                0                     0   \n",
       "244                  A                0                     0   \n",
       "245                  A                0                     0   \n",
       "246                  A                0                     0   \n",
       "247                  A                1                     0   \n",
       "248                  A                0                     0   \n",
       "249                  A                1                     0   \n",
       "250                  A                0                     0   \n",
       "252                  A                0                     0   \n",
       "253                  A                0                     0   \n",
       "\n",
       "       customer_type  required_car_parking_spaces  total_of_special_requests  \\\n",
       "12         Transient                            0                          1   \n",
       "13         Transient                            0                          1   \n",
       "82         Transient                            0                          0   \n",
       "85         Transient                            0                          0   \n",
       "113        Transient                            0                          3   \n",
       "115        Transient                            0                          3   \n",
       "126        Transient                            0                          1   \n",
       "127        Transient                            0                          1   \n",
       "216        Transient                            0                          2   \n",
       "219        Transient                            0                          2   \n",
       "243  Transient-Party                            0                          0   \n",
       "244  Transient-Party                            0                          0   \n",
       "245  Transient-Party                            0                          0   \n",
       "246  Transient-Party                            0                          0   \n",
       "247  Transient-Party                            0                          0   \n",
       "248  Transient-Party                            0                          0   \n",
       "249  Transient-Party                            0                          0   \n",
       "250        Transient                            0                          0   \n",
       "252        Transient                            0                          0   \n",
       "253  Transient-Party                            0                          0   \n",
       "\n",
       "     total_nights  \n",
       "12              6  \n",
       "13              6  \n",
       "82              1  \n",
       "85              1  \n",
       "113             1  \n",
       "115             1  \n",
       "126             1  \n",
       "127             1  \n",
       "216             5  \n",
       "219             5  \n",
       "243             2  \n",
       "244             2  \n",
       "245             2  \n",
       "246             2  \n",
       "247             2  \n",
       "248             2  \n",
       "249             2  \n",
       "250             2  \n",
       "252             2  \n",
       "253             2  "
      ]
     },
     "execution_count": 19,
     "metadata": {},
     "output_type": "execute_result"
    }
   ],
   "source": [
    "data_dict['train_data'][data_dict['train_data'].duplicated(keep=False)].head(20)"
   ]
  },
  {
   "cell_type": "markdown",
   "metadata": {},
   "source": [
    "Датасеты имеют множество дублированных записей отличающихся только колонкой 'id' причем записи расположены в непосредственной близости относительно индексов, похоже на программную ошибку при выгрузке данных, избавимся от дубликатов:"
   ]
  },
  {
   "cell_type": "code",
   "execution_count": 20,
   "metadata": {},
   "outputs": [
    {
     "name": "stdout",
     "output_type": "stream",
     "text": [
      " В датасете train_data удалено 21377 записей\n",
      " В датасете test_data удалено 7717 записей\n"
     ]
    }
   ],
   "source": [
    "for dataset in data_dict:\n",
    "    first_len = len(data_dict[dataset])\n",
    "    data_dict[dataset] = data_dict[dataset].drop_duplicates()\n",
    "    qnt = first_len - len(data_dict[dataset])\n",
    "    \n",
    "    print(f' В датасете {dataset} удалено {qnt} записей')"
   ]
  },
  {
   "cell_type": "markdown",
   "metadata": {},
   "source": [
    "Проверим распределение целевого признака 'is_canceled' в датасетах:"
   ]
  },
  {
   "cell_type": "code",
   "execution_count": 21,
   "metadata": {},
   "outputs": [
    {
     "data": {
      "image/png": "[encoded data removed]",
      "text/plain": [
       "<Figure size 504x504 with 1 Axes>"
      ]
     },
     "metadata": {},
     "output_type": "display_data"
    },
    {
     "data": {
      "image/png": "[encoded data removed]",
      "text/plain": [
       "<Figure size 504x504 with 1 Axes>"
      ]
     },
     "metadata": {},
     "output_type": "display_data"
    }
   ],
   "source": [
    "for dataset in data_dict:\n",
    "    data_dict[dataset]['is_canceled'].value_counts(1).plot(kind='pie', legend=True, autopct='%1.1f%%', figsize=(7, 7), title=dataset)\n",
    "    plt.show()"
   ]
  },
  {
   "cell_type": "markdown",
   "metadata": {},
   "source": [
    "Наблюдаем явную разбалансировку данных, всего 25 процентов целевого признака в тренировочном датасете"
   ]
  },
  {
   "cell_type": "markdown",
   "metadata": {},
   "source": [
    "У некоторых постояльцев мы обнаружили 9 и 10 младенцев - явно аномалия, избавимся от этих строк:"
   ]
  },
  {
   "cell_type": "code",
   "execution_count": 22,
   "metadata": {},
   "outputs": [
    {
     "name": "stdout",
     "output_type": "stream",
     "text": [
      "train_data\n",
      "0     43403\n",
      "1       444\n",
      "2         3\n",
      "9         1\n",
      "10        1\n",
      "Name: babies, dtype: int64\n",
      "test_data\n",
      "0    24521\n",
      "1      170\n",
      "2        4\n",
      "Name: babies, dtype: int64\n"
     ]
    }
   ],
   "source": [
    "for dataset in data_dict:\n",
    "    print(dataset)\n",
    "    print(data_dict[dataset]['babies'].value_counts())"
   ]
  },
  {
   "cell_type": "code",
   "execution_count": 23,
   "metadata": {},
   "outputs": [],
   "source": [
    "data_dict['train_data'] = data_dict['train_data'].query('babies < 3')"
   ]
  },
  {
   "cell_type": "markdown",
   "metadata": {},
   "source": [
    "Также мы обнаружили строки в которых не классифицирован тип клиента: взрослый, ребенок, младенец - похоже что это явные аномалии, мы не можем установить адекватного значения заполнения этих строк, удалим их:"
   ]
  },
  {
   "cell_type": "code",
   "execution_count": 24,
   "metadata": {},
   "outputs": [
    {
     "name": "stdout",
     "output_type": "stream",
     "text": [
      "train_data\n"
     ]
    },
    {
     "data": {
      "text/html": [
       "<div>\n",
       "<style scoped>\n",
       "    .dataframe tbody tr th:only-of-type {\n",
       "        vertical-align: middle;\n",
       "    }\n",
       "\n",
       "    .dataframe tbody tr th {\n",
       "        vertical-align: top;\n",
       "    }\n",
       "\n",
       "    .dataframe thead th {\n",
       "        text-align: right;\n",
       "    }\n",
       "</style>\n",
       "<table border=\"1\" class=\"dataframe\">\n",
       "  <thead>\n",
       "    <tr style=\"text-align: right;\">\n",
       "      <th></th>\n",
       "      <th>adults</th>\n",
       "      <th>children</th>\n",
       "      <th>babies</th>\n",
       "      <th>is_canceled</th>\n",
       "      <th>total_nights</th>\n",
       "    </tr>\n",
       "  </thead>\n",
       "  <tbody>\n",
       "    <tr>\n",
       "      <th>23770</th>\n",
       "      <td>0</td>\n",
       "      <td>0</td>\n",
       "      <td>0</td>\n",
       "      <td>0</td>\n",
       "      <td>6</td>\n",
       "    </tr>\n",
       "    <tr>\n",
       "      <th>26878</th>\n",
       "      <td>0</td>\n",
       "      <td>0</td>\n",
       "      <td>0</td>\n",
       "      <td>0</td>\n",
       "      <td>6</td>\n",
       "    </tr>\n",
       "    <tr>\n",
       "      <th>26879</th>\n",
       "      <td>0</td>\n",
       "      <td>0</td>\n",
       "      <td>0</td>\n",
       "      <td>0</td>\n",
       "      <td>6</td>\n",
       "    </tr>\n",
       "    <tr>\n",
       "      <th>31570</th>\n",
       "      <td>0</td>\n",
       "      <td>0</td>\n",
       "      <td>0</td>\n",
       "      <td>0</td>\n",
       "      <td>8</td>\n",
       "    </tr>\n",
       "    <tr>\n",
       "      <th>41461</th>\n",
       "      <td>0</td>\n",
       "      <td>0</td>\n",
       "      <td>0</td>\n",
       "      <td>0</td>\n",
       "      <td>3</td>\n",
       "    </tr>\n",
       "    <tr>\n",
       "      <th>50744</th>\n",
       "      <td>0</td>\n",
       "      <td>0</td>\n",
       "      <td>0</td>\n",
       "      <td>0</td>\n",
       "      <td>6</td>\n",
       "    </tr>\n",
       "    <tr>\n",
       "      <th>54881</th>\n",
       "      <td>0</td>\n",
       "      <td>0</td>\n",
       "      <td>0</td>\n",
       "      <td>0</td>\n",
       "      <td>7</td>\n",
       "    </tr>\n",
       "    <tr>\n",
       "      <th>56674</th>\n",
       "      <td>0</td>\n",
       "      <td>0</td>\n",
       "      <td>0</td>\n",
       "      <td>0</td>\n",
       "      <td>4</td>\n",
       "    </tr>\n",
       "    <tr>\n",
       "      <th>57390</th>\n",
       "      <td>0</td>\n",
       "      <td>0</td>\n",
       "      <td>0</td>\n",
       "      <td>0</td>\n",
       "      <td>4</td>\n",
       "    </tr>\n",
       "    <tr>\n",
       "      <th>58416</th>\n",
       "      <td>0</td>\n",
       "      <td>0</td>\n",
       "      <td>0</td>\n",
       "      <td>0</td>\n",
       "      <td>9</td>\n",
       "    </tr>\n",
       "    <tr>\n",
       "      <th>62781</th>\n",
       "      <td>0</td>\n",
       "      <td>0</td>\n",
       "      <td>0</td>\n",
       "      <td>0</td>\n",
       "      <td>2</td>\n",
       "    </tr>\n",
       "    <tr>\n",
       "      <th>62783</th>\n",
       "      <td>0</td>\n",
       "      <td>0</td>\n",
       "      <td>0</td>\n",
       "      <td>0</td>\n",
       "      <td>4</td>\n",
       "    </tr>\n",
       "    <tr>\n",
       "      <th>63311</th>\n",
       "      <td>0</td>\n",
       "      <td>0</td>\n",
       "      <td>0</td>\n",
       "      <td>0</td>\n",
       "      <td>4</td>\n",
       "    </tr>\n",
       "    <tr>\n",
       "      <th>63360</th>\n",
       "      <td>0</td>\n",
       "      <td>0</td>\n",
       "      <td>0</td>\n",
       "      <td>0</td>\n",
       "      <td>3</td>\n",
       "    </tr>\n",
       "    <tr>\n",
       "      <th>64980</th>\n",
       "      <td>0</td>\n",
       "      <td>0</td>\n",
       "      <td>0</td>\n",
       "      <td>0</td>\n",
       "      <td>3</td>\n",
       "    </tr>\n",
       "  </tbody>\n",
       "</table>\n",
       "</div>"
      ],
      "text/plain": [
       "       adults  children  babies  is_canceled  total_nights\n",
       "23770       0         0       0            0             6\n",
       "26878       0         0       0            0             6\n",
       "26879       0         0       0            0             6\n",
       "31570       0         0       0            0             8\n",
       "41461       0         0       0            0             3\n",
       "50744       0         0       0            0             6\n",
       "54881       0         0       0            0             7\n",
       "56674       0         0       0            0             4\n",
       "57390       0         0       0            0             4\n",
       "58416       0         0       0            0             9\n",
       "62781       0         0       0            0             2\n",
       "62783       0         0       0            0             4\n",
       "63311       0         0       0            0             4\n",
       "63360       0         0       0            0             3\n",
       "64980       0         0       0            0             3"
      ]
     },
     "metadata": {},
     "output_type": "display_data"
    },
    {
     "name": "stdout",
     "output_type": "stream",
     "text": [
      "Удалено 15строк из датасета train_data\n",
      "\n",
      "test_data\n"
     ]
    },
    {
     "data": {
      "text/html": [
       "<div>\n",
       "<style scoped>\n",
       "    .dataframe tbody tr th:only-of-type {\n",
       "        vertical-align: middle;\n",
       "    }\n",
       "\n",
       "    .dataframe tbody tr th {\n",
       "        vertical-align: top;\n",
       "    }\n",
       "\n",
       "    .dataframe thead th {\n",
       "        text-align: right;\n",
       "    }\n",
       "</style>\n",
       "<table border=\"1\" class=\"dataframe\">\n",
       "  <thead>\n",
       "    <tr style=\"text-align: right;\">\n",
       "      <th></th>\n",
       "      <th>adults</th>\n",
       "      <th>children</th>\n",
       "      <th>babies</th>\n",
       "      <th>is_canceled</th>\n",
       "      <th>total_nights</th>\n",
       "    </tr>\n",
       "  </thead>\n",
       "  <tbody>\n",
       "    <tr>\n",
       "      <th>18333</th>\n",
       "      <td>0</td>\n",
       "      <td>0</td>\n",
       "      <td>0</td>\n",
       "      <td>0</td>\n",
       "      <td>2</td>\n",
       "    </tr>\n",
       "    <tr>\n",
       "      <th>21214</th>\n",
       "      <td>0</td>\n",
       "      <td>0</td>\n",
       "      <td>0</td>\n",
       "      <td>0</td>\n",
       "      <td>3</td>\n",
       "    </tr>\n",
       "    <tr>\n",
       "      <th>25596</th>\n",
       "      <td>0</td>\n",
       "      <td>0</td>\n",
       "      <td>0</td>\n",
       "      <td>0</td>\n",
       "      <td>1</td>\n",
       "    </tr>\n",
       "    <tr>\n",
       "      <th>28463</th>\n",
       "      <td>0</td>\n",
       "      <td>0</td>\n",
       "      <td>0</td>\n",
       "      <td>0</td>\n",
       "      <td>5</td>\n",
       "    </tr>\n",
       "    <tr>\n",
       "      <th>28821</th>\n",
       "      <td>0</td>\n",
       "      <td>0</td>\n",
       "      <td>0</td>\n",
       "      <td>0</td>\n",
       "      <td>3</td>\n",
       "    </tr>\n",
       "    <tr>\n",
       "      <th>29808</th>\n",
       "      <td>0</td>\n",
       "      <td>0</td>\n",
       "      <td>0</td>\n",
       "      <td>0</td>\n",
       "      <td>2</td>\n",
       "    </tr>\n",
       "    <tr>\n",
       "      <th>30052</th>\n",
       "      <td>0</td>\n",
       "      <td>0</td>\n",
       "      <td>0</td>\n",
       "      <td>0</td>\n",
       "      <td>7</td>\n",
       "    </tr>\n",
       "  </tbody>\n",
       "</table>\n",
       "</div>"
      ],
      "text/plain": [
       "       adults  children  babies  is_canceled  total_nights\n",
       "18333       0         0       0            0             2\n",
       "21214       0         0       0            0             3\n",
       "25596       0         0       0            0             1\n",
       "28463       0         0       0            0             5\n",
       "28821       0         0       0            0             3\n",
       "29808       0         0       0            0             2\n",
       "30052       0         0       0            0             7"
      ]
     },
     "metadata": {},
     "output_type": "display_data"
    },
    {
     "name": "stdout",
     "output_type": "stream",
     "text": [
      "Удалено 7строк из датасета test_data\n",
      "\n"
     ]
    }
   ],
   "source": [
    "for dataset in data_dict:\n",
    "    \n",
    "    anomaly_rows = data_dict[dataset][['adults', 'children', 'babies', 'is_canceled', 'total_nights']].query('adults == children == babies == 0')\n",
    "    first_len = len(data_dict[dataset])\n",
    "    \n",
    "    print(dataset)\n",
    "    display(anomaly_rows)\n",
    "    data_dict[dataset] = data_dict[dataset].drop(anomaly_rows.index)\n",
    "    \n",
    "    qnt_delete_rows = first_len - len(data_dict[dataset])\n",
    "    \n",
    "    print(f'Удалено {qnt_delete_rows}строк из датасета {dataset}')\n",
    "    print('')"
   ]
  },
  {
   "cell_type": "markdown",
   "metadata": {},
   "source": [
    "Создаем допонительные датасеты для `OH` и `OHE` кодирования для разных типов моделей:"
   ]
  },
  {
   "cell_type": "code",
   "execution_count": 25,
   "metadata": {},
   "outputs": [],
   "source": [
    "preop_data_dict_oe = copy.deepcopy(data_dict)\n",
    "preop_data_dict_ohe = copy.deepcopy(data_dict)"
   ]
  },
  {
   "cell_type": "markdown",
   "metadata": {},
   "source": [
    "Судя по описанию, `total_nights` — это сумма `stays_in_week_nights` и `stays_in_weekend_nights`, удалим `total_nights` т.к. его можно получить из двух других столбцов:"
   ]
  },
  {
   "cell_type": "markdown",
   "metadata": {},
   "source": [
    "Таже можем удаляем столбецы  `'total_nights', 'arrival_date_year', 'arrival_date_month',\n",
    "       'arrival_date_week_number'` т.к. они не несут информации для модели:"
   ]
  },
  {
   "cell_type": "code",
   "execution_count": 26,
   "metadata": {},
   "outputs": [],
   "source": [
    "drop_columns = ['total_nights']\n",
    "\n",
    "for dataset in preop_data_dict_oe:\n",
    "    preop_data_dict_oe[dataset] = preop_data_dict_oe[dataset].drop(columns=drop_columns, axis=1)\n",
    "\n",
    "for dataset in preop_data_dict_ohe:\n",
    "    preop_data_dict_ohe[dataset] = preop_data_dict_ohe[dataset].drop(columns=drop_columns, axis=1)"
   ]
  },
  {
   "cell_type": "markdown",
   "metadata": {},
   "source": [
    "Производим OE кодирование категоральных признаков"
   ]
  },
  {
   "cell_type": "code",
   "execution_count": 27,
   "metadata": {},
   "outputs": [],
   "source": [
    "from sklearn.preprocessing import OrdinalEncoder\n",
    "enc = OrdinalEncoder()\n",
    "\n",
    "cat_columns = list(preop_data_dict_oe['train_data'].select_dtypes(include='object').columns)\n",
    "\n",
    "for dataset in preop_data_dict_oe:\n",
    "    for column in cat_columns:\n",
    "        preop_data_dict_oe[dataset][[column]] = enc.fit_transform(preop_data_dict_oe[dataset][[column]])\n",
    "    "
   ]
  },
  {
   "cell_type": "markdown",
   "metadata": {},
   "source": [
    "Производим OHE кодирование категоральных признаков"
   ]
  },
  {
   "cell_type": "code",
   "execution_count": 28,
   "metadata": {},
   "outputs": [],
   "source": [
    "ohe_columns = ['meal', 'distribution_channel', 'reserved_room_type', 'customer_type']\n",
    "\n",
    "for dataset in preop_data_dict_ohe:\n",
    "    \n",
    "    preop_data_dict_ohe[dataset] = pd.get_dummies(data=preop_data_dict_ohe[dataset], columns = ohe_columns, drop_first=True)      "
   ]
  },
  {
   "cell_type": "code",
   "execution_count": 29,
   "metadata": {},
   "outputs": [],
   "source": [
    "for dataset in preop_data_dict_ohe:\n",
    "    preop_data_dict_ohe[dataset] = preop_data_dict_ohe[dataset].drop(columns='country', axis=1)"
   ]
  },
  {
   "cell_type": "markdown",
   "metadata": {},
   "source": [
    "Построим корреляционную матрицу для тренировочного датасета:"
   ]
  },
  {
   "cell_type": "code",
   "execution_count": 30,
   "metadata": {},
   "outputs": [
    {
     "data": {
      "image/png": "[encoded data removed]",
      "text/plain": [
       "<Figure size 1080x1080 with 2 Axes>"
      ]
     },
     "metadata": {
      "needs_background": "light"
     },
     "output_type": "display_data"
    }
   ],
   "source": [
    "corr_matrix = preop_data_dict_oe['train_data'].corr()\n",
    "\n",
    "mask = np.triu(np.ones_like(corr_matrix, dtype=np.bool_))\n",
    "\n",
    "f, ax = plt.subplots(figsize=(15, 15)) \n",
    "heatmap = sns.heatmap(round(corr_matrix, 2), \n",
    "                      mask = mask,\n",
    "                      square = True,\n",
    "                      linewidths = .5,\n",
    "                      cmap = 'coolwarm',\n",
    "                      cbar_kws = {'shrink': .4, \n",
    "                                'ticks' : [-1, -.5, 0, 0.5, 1]},\n",
    "                      vmin = -1, \n",
    "                      vmax = 1,\n",
    "                      annot = True,\n",
    "                      annot_kws = {'size': 10})\n",
    "\n",
    "ax.set_yticklabels(corr_matrix.columns, rotation = 0)\n",
    "ax.set_xticklabels(corr_matrix.columns)\n",
    "sns.set_style({'xtick.bottom': True}, {'ytick.left': True})"
   ]
  },
  {
   "cell_type": "markdown",
   "metadata": {},
   "source": [
    "### Шаг 3. Формулировка ML-задачи на основе бизнес-задачи"
   ]
  },
  {
   "cell_type": "markdown",
   "metadata": {},
   "source": [
    "Стоимость за ночь, стоимость разовой уборки номера, сезонные коэфициенты, бюджет и процент депозита:"
   ]
  },
  {
   "cell_type": "code",
   "execution_count": 31,
   "metadata": {},
   "outputs": [],
   "source": [
    "NIGHT_PRICE_DICT = {'A': 1000,\n",
    "                    'B': 800,\n",
    "                    'C': 600,\n",
    "                    'D': 550,\n",
    "                    'E': 500,\n",
    "                    'F': 450,\n",
    "                    'G': 350}\n",
    "\n",
    "SERVICE_PRICE_DICT = {'A': 400,\n",
    "                      'B': 350,\n",
    "                      'C': 350,\n",
    "                      'D': 150,\n",
    "                      'E': 150,\n",
    "                      'F': 150,\n",
    "                      'G': 150}\n",
    "\n",
    "SUMMER_COEFFICIENT = .4\n",
    "SPRING_COEFFICIENT = .2\n",
    "AUTUMN_COEFFICIENT = .2\n",
    "\n",
    "ML_BUDGET = 400000\n",
    "\n",
    "DEPOSIT = .8"
   ]
  },
  {
   "cell_type": "markdown",
   "metadata": {},
   "source": [
    "Функция profit для подсчета прибыли без учета предсказаний модели:"
   ]
  },
  {
   "cell_type": "code",
   "execution_count": 32,
   "metadata": {},
   "outputs": [],
   "source": [
    "def profit(row):\n",
    "    \n",
    "    room_type = row['reserved_room_type']\n",
    "    total_nights = row['total_nights']\n",
    "    month = row['arrival_date_month']\n",
    "    price_per_night = NIGHT_PRICE_DICT[row['reserved_room_type']]\n",
    "    koeficient = 1\n",
    "    \n",
    "    if 6 <= month <= 8:\n",
    "        \n",
    "        koeficient += SUMMER_COEFFICIENT\n",
    "        \n",
    "    elif 3 <= month <= 5:\n",
    "        \n",
    "        koeficient += SPRING_COEFFICIENT\n",
    "        \n",
    "    elif 9 <= month <= 11:\n",
    "        \n",
    "        koeficient += AUTUMN_COEFFICIENT\n",
    "\n",
    "    if row['is_canceled'] == 0:\n",
    "        \n",
    "        return total_nights * price_per_night * koeficient - SERVICE_PRICE_DICT[room_type] * (1 + total_nights // 2)\n",
    "            \n",
    "    else:\n",
    "        \n",
    "        return - price_per_night * koeficient - SERVICE_PRICE_DICT[room_type]\n",
    "    "
   ]
  },
  {
   "cell_type": "code",
   "execution_count": 33,
   "metadata": {},
   "outputs": [
    {
     "name": "stdout",
     "output_type": "stream",
     "text": [
      "Чистая прибыль без внедрения модели составила 32661180.0, при убытке 10571770.0\n"
     ]
    }
   ],
   "source": [
    "data_dict['test_data']['profit'] = test_data.apply(profit, axis=1)\n",
    "\n",
    "no_model_profit = data_dict['test_data']['profit'].sum()\n",
    "no_model_loss = -data_dict['test_data'].query('is_canceled == 1')['profit'].sum()\n",
    "\n",
    "print(f'Чистая прибыль без внедрения модели составила {no_model_profit}, при убытке {no_model_loss}')"
   ]
  },
  {
   "cell_type": "markdown",
   "metadata": {},
   "source": [
    "### Шаг 4. Разработка модели ML"
   ]
  },
  {
   "cell_type": "markdown",
   "metadata": {},
   "source": [
    "Метрика по которой мы выбираем модель это максимальные TP и минимальные FN показатели, если рассматривать метрику с точки зрения бизнеса нам нужна модель которая предскажет как можно больше TP целевых значений, в тоже время модель должна давать как можно меньше FN прогнозов чтобы не принуждать \"надежных клиентов\" вносить предоплату. Для этих задач подойдет F мера с указание в оценшике average='binary', pos_label=1 + матрица ошибок"
   ]
  },
  {
   "cell_type": "code",
   "execution_count": 34,
   "metadata": {},
   "outputs": [],
   "source": [
    "dtc = tree.DecisionTreeClassifier(random_state=12345)\n",
    "rfc = RandomForestClassifier(random_state=12345)\n",
    "gbc = GradientBoostingClassifier(random_state=12345)\n",
    "\n",
    "lr = LogisticRegression(random_state=12345)\n",
    "\n",
    "f1 = make_scorer(f1_score, average='binary', pos_label=1)\n",
    "\n",
    "forest_model_list = [dtc, rfc, gbc]\n",
    "linear_model_list = [lr]"
   ]
  },
  {
   "cell_type": "markdown",
   "metadata": {},
   "source": [
    "Выделяем целевые значения и признаки:"
   ]
  },
  {
   "cell_type": "code",
   "execution_count": 35,
   "metadata": {},
   "outputs": [],
   "source": [
    "scaler = StandardScaler()\n",
    "\n",
    "target_train_oe = preop_data_dict_oe['train_data']['is_canceled']\n",
    "features_train_oe = preop_data_dict_oe['train_data'].drop('is_canceled', axis=1)\n",
    "\n",
    "target_train_ohe = preop_data_dict_ohe['train_data']['is_canceled']\n",
    "features_train_ohe = preop_data_dict_ohe['train_data'].drop('is_canceled', axis=1)\n",
    "\n",
    "target_test_oe = preop_data_dict_oe['test_data']['is_canceled']\n",
    "features_test_oe = preop_data_dict_oe['test_data'].drop('is_canceled', axis=1)\n",
    "\n",
    "target_test_ohe = preop_data_dict_ohe['test_data']['is_canceled']\n",
    "features_test_ohe = preop_data_dict_ohe['test_data'].drop('is_canceled', axis=1)"
   ]
  },
  {
   "cell_type": "markdown",
   "metadata": {},
   "source": [
    "Проверяем модель DecisionTreeClassifier():"
   ]
  },
  {
   "cell_type": "code",
   "execution_count": 36,
   "metadata": {},
   "outputs": [
    {
     "name": "stdout",
     "output_type": "stream",
     "text": [
      "Полнота модели DecisionTreeClassifier(class_weight='balanced', max_depth=4, max_features=11,\n",
      "                       random_state=12345) на тренировочной выборке составила:         0.5013190338147179 с параметрами {'dtc__class_weight': 'balanced', 'dtc__max_depth': 4, 'dtc__max_features': 11}\n",
      "CPU times: user 1min, sys: 7.82 s, total: 1min 8s\n",
      "Wall time: 1min 8s\n"
     ]
    }
   ],
   "source": [
    "%%time\n",
    "\n",
    "pipe = Pipeline(steps=[('scaler', scaler), ('dtc', dtc)]) # Создаем пайплайн\n",
    "\n",
    "# Задаем решетку параметров пайплайна\n",
    "param_grid = {'dtc__class_weight': ['balanced'],\n",
    "             'dtc__max_depth': list(range(1, 10)),\n",
    "             'dtc__max_features': list(range(5, 20))}\n",
    "\n",
    "# Создаем нашу модель и передаем ей пайплайн, решетку параметров, также используем кросс-валидацию результата    \n",
    "grid_search_cv = GridSearchCV(pipe, param_grid, cv=6, scoring=f1)\n",
    "\n",
    "# Обучаем модель на тренировочной части выборки:\n",
    "grid_search_cv.fit(features_train_oe, target_train_oe)\n",
    "\n",
    "best_params_dtc = grid_search_cv.best_params_ # Лучшие параметры\n",
    "best_dtc = grid_search_cv.best_estimator_ # Лучшая модель\n",
    "best_dtc_score = grid_search_cv.best_score_ # Лучший результат\n",
    "\n",
    "print(f'Полнота модели {best_dtc[1]} на тренировочной выборке составила: \\\n",
    "        {best_dtc_score} с параметрами {best_params_dtc}')"
   ]
  },
  {
   "cell_type": "code",
   "execution_count": 37,
   "metadata": {},
   "outputs": [
    {
     "data": {
      "image/png": "[encoded data removed]",
      "text/plain": [
       "<Figure size 432x288 with 2 Axes>"
      ]
     },
     "metadata": {
      "needs_background": "light"
     },
     "output_type": "display_data"
    }
   ],
   "source": [
    "from sklearn.metrics import confusion_matrix, ConfusionMatrixDisplay\n",
    "cm = confusion_matrix(target_test_oe, best_dtc.predict(features_test_oe))\n",
    "\n",
    "disp = ConfusionMatrixDisplay(confusion_matrix=cm)\n",
    "disp.plot()\n",
    "plt.show()"
   ]
  },
  {
   "cell_type": "markdown",
   "metadata": {},
   "source": [
    "Проверяем модель RandomForestClassifier():"
   ]
  },
  {
   "cell_type": "code",
   "execution_count": 38,
   "metadata": {},
   "outputs": [
    {
     "name": "stdout",
     "output_type": "stream",
     "text": [
      "Полнота модели RandomForestClassifier(class_weight='balanced', max_depth=1, max_features=None,\n",
      "                       n_estimators=110, random_state=12345) на тренировочной выборке составила:         0.4606917459262834 с параметрами {'rfc__class_weight': 'balanced', 'rfc__max_depth': 1, 'rfc__max_features': None, 'rfc__n_estimators': 110}\n",
      "CPU times: user 1.82 s, sys: 408 ms, total: 2.23 s\n",
      "Wall time: 51 s\n"
     ]
    }
   ],
   "source": [
    "%%time\n",
    "\n",
    "pipe = Pipeline(steps=[('scaler', scaler), ('rfc', rfc)]) # Создаем пайплайн\n",
    "\n",
    "# Задаем решетку параметров пайплайна\n",
    "param_grid = {'rfc__n_estimators': [110],\n",
    "             'rfc__max_features': ['sqrt', 'log2', None],\n",
    "             'rfc__max_depth': [1],\n",
    "             'rfc__class_weight': ['balanced']}\n",
    "\n",
    "# Создаем нашу модель и передаем ей пайплайн, решетку параметров, также используем кросс-валидацию результата    \n",
    "grid_search_cv = GridSearchCV(pipe, param_grid, n_jobs=16, cv=6, scoring=f1)\n",
    "\n",
    "# Обучаем модель на тренировочной части выборки:\n",
    "grid_search_cv.fit(features_train_oe, target_train_oe)\n",
    "\n",
    "best_params_rfc = grid_search_cv.best_params_ # Лучшие параметры\n",
    "best_rfc = grid_search_cv.best_estimator_ # Лучшая модель\n",
    "best_rfc_score = grid_search_cv.best_score_ # Лучший результат\n",
    "\n",
    "print(f'Полнота модели {best_rfc[1]} на тренировочной выборке составила: \\\n",
    "        {best_rfc_score} с параметрами {best_params_rfc}')"
   ]
  },
  {
   "cell_type": "code",
   "execution_count": 39,
   "metadata": {},
   "outputs": [
    {
     "data": {
      "image/png": "[encoded data removed]",
      "text/plain": [
       "<Figure size 432x288 with 2 Axes>"
      ]
     },
     "metadata": {
      "needs_background": "light"
     },
     "output_type": "display_data"
    }
   ],
   "source": [
    "cm = confusion_matrix(target_test_oe, best_rfc.predict(features_test_oe))\n",
    "\n",
    "disp = ConfusionMatrixDisplay(confusion_matrix=cm)\n",
    "disp.plot()\n",
    "plt.show()"
   ]
  },
  {
   "cell_type": "markdown",
   "metadata": {},
   "source": [
    "Проверяем модель GradientBoostingClassifier():"
   ]
  },
  {
   "cell_type": "code",
   "execution_count": 40,
   "metadata": {},
   "outputs": [
    {
     "name": "stdout",
     "output_type": "stream",
     "text": [
      "Полнота модели GradientBoostingClassifier(max_depth=4, max_leaf_nodes=5, n_estimators=150,\n",
      "                           random_state=12345) на тренировочной выборке составила:         0.24620972662145238 с параметрами {'gbc__max_depth': 4, 'gbc__max_leaf_nodes': 5, 'gbc__n_estimators': 150}\n",
      "CPU times: user 8.54 s, sys: 78.5 ms, total: 8.61 s\n",
      "Wall time: 1min 2s\n"
     ]
    }
   ],
   "source": [
    "%%time\n",
    "\n",
    "pipe = Pipeline(steps=[('scaler', scaler), ('gbc', gbc)]) # Создаем пайплайн\n",
    "\n",
    "# Задаем решетку параметров пайплайна\n",
    "param_grid = {'gbc__max_depth': [4],\n",
    "             'gbc__n_estimators': [150],\n",
    "             'gbc__max_leaf_nodes': [5]}\n",
    "\n",
    "# Создаем нашу модель и передаем ей пайплайн, решетку параметров, также используем кросс-валидацию результата    \n",
    "grid_search_cv = GridSearchCV(pipe, param_grid, n_jobs=16, cv=6, scoring=f1)\n",
    "\n",
    "# Обучаем модель на тренировочной части выборки:\n",
    "grid_search_cv.fit(features_train_oe, target_train_oe)\n",
    "\n",
    "best_params_gbc = grid_search_cv.best_params_ # Лучшие параметры\n",
    "best_gbc = grid_search_cv.best_estimator_ # Лучшая модель\n",
    "best_gbc_score = grid_search_cv.best_score_ # Лучший результатат\n",
    "\n",
    "print(f'Полнота модели {best_gbc[1]} на тренировочной выборке составила: \\\n",
    "        {best_gbc_score} с параметрами {best_params_gbc}')"
   ]
  },
  {
   "cell_type": "code",
   "execution_count": 41,
   "metadata": {},
   "outputs": [
    {
     "data": {
      "image/png": "[encoded data removed]",
      "text/plain": [
       "<Figure size 432x288 with 2 Axes>"
      ]
     },
     "metadata": {
      "needs_background": "light"
     },
     "output_type": "display_data"
    }
   ],
   "source": [
    "cm = confusion_matrix(target_test_oe, best_gbc.predict(features_test_oe))\n",
    "\n",
    "disp = ConfusionMatrixDisplay(confusion_matrix=cm)\n",
    "disp.plot()\n",
    "plt.show()"
   ]
  },
  {
   "cell_type": "markdown",
   "metadata": {},
   "source": [
    "Проверяем модель LogisticRegression():"
   ]
  },
  {
   "cell_type": "code",
   "execution_count": 42,
   "metadata": {},
   "outputs": [
    {
     "name": "stdout",
     "output_type": "stream",
     "text": [
      "Полнота модели LogisticRegression(class_weight='balanced', max_iter=400, penalty='none',\n",
      "                   random_state=12345) на тренировочной выборке составила:         0.4173215675493127 с параметрами {'lr__class_weight': 'balanced', 'lr__max_iter': 400, 'lr__penalty': 'none'}\n",
      "CPU times: user 1.4 s, sys: 1.63 s, total: 3.04 s\n",
      "Wall time: 9.61 s\n"
     ]
    }
   ],
   "source": [
    "%%time\n",
    "\n",
    "pipe = Pipeline(steps=[('scaler', scaler), ('lr', lr)]) # Создаем пайплайн\n",
    "\n",
    "# Задаем решетку параметров пайплайна\n",
    "param_grid = {'lr__max_iter': [400],\n",
    "             'lr__penalty': ['l2', 'none'],\n",
    "             'lr__class_weight': ['balanced']}\n",
    "\n",
    "# Создаем нашу модель и передаем ей пайплайн, решетку параметров, также используем кросс-валидацию результата    \n",
    "grid_search_cv = GridSearchCV(pipe, param_grid, n_jobs=16, cv=6, scoring=f1)\n",
    "\n",
    "# Обучаем модель на тренировочной части выборки:\n",
    "grid_search_cv.fit(features_train_ohe, target_train_ohe)\n",
    "\n",
    "best_params_lr = grid_search_cv.best_params_ # Лучшие параметры\n",
    "best_lr = grid_search_cv.best_estimator_ # Лучшая модель\n",
    "best_lr_score = grid_search_cv.best_score_ # Лучший результатат\n",
    "\n",
    "print(f'Полнота модели {best_lr[1]} на тренировочной выборке составила: \\\n",
    "        {best_lr_score} с параметрами {best_params_lr}')"
   ]
  },
  {
   "cell_type": "code",
   "execution_count": 43,
   "metadata": {},
   "outputs": [
    {
     "data": {
      "image/png": "[encoded data removed]",
      "text/plain": [
       "<Figure size 432x288 with 2 Axes>"
      ]
     },
     "metadata": {
      "needs_background": "light"
     },
     "output_type": "display_data"
    }
   ],
   "source": [
    "cm = confusion_matrix(target_test_ohe, best_lr.predict(features_test_ohe))\n",
    "\n",
    "disp = ConfusionMatrixDisplay(confusion_matrix=cm)\n",
    "disp.plot()\n",
    "plt.show()"
   ]
  },
  {
   "cell_type": "code",
   "execution_count": 44,
   "metadata": {},
   "outputs": [
    {
     "data": {
      "text/html": [
       "<div>\n",
       "<style scoped>\n",
       "    .dataframe tbody tr th:only-of-type {\n",
       "        vertical-align: middle;\n",
       "    }\n",
       "\n",
       "    .dataframe tbody tr th {\n",
       "        vertical-align: top;\n",
       "    }\n",
       "\n",
       "    .dataframe thead th {\n",
       "        text-align: right;\n",
       "    }\n",
       "</style>\n",
       "<table border=\"1\" class=\"dataframe\">\n",
       "  <thead>\n",
       "    <tr style=\"text-align: right;\">\n",
       "      <th></th>\n",
       "      <th>lead_time</th>\n",
       "      <th>arrival_date_year</th>\n",
       "      <th>arrival_date_month</th>\n",
       "      <th>arrival_date_week_number</th>\n",
       "      <th>arrival_date_day_of_month</th>\n",
       "      <th>stays_in_weekend_nights</th>\n",
       "      <th>stays_in_week_nights</th>\n",
       "      <th>adults</th>\n",
       "      <th>children</th>\n",
       "      <th>babies</th>\n",
       "      <th>is_repeated_guest</th>\n",
       "      <th>previous_cancellations</th>\n",
       "      <th>previous_bookings_not_canceled</th>\n",
       "      <th>booking_changes</th>\n",
       "      <th>days_in_waiting_list</th>\n",
       "      <th>required_car_parking_spaces</th>\n",
       "      <th>total_of_special_requests</th>\n",
       "      <th>meal_FB</th>\n",
       "      <th>meal_HB</th>\n",
       "      <th>meal_SC</th>\n",
       "      <th>distribution_channel_Direct</th>\n",
       "      <th>distribution_channel_GDS</th>\n",
       "      <th>distribution_channel_TA/TO</th>\n",
       "      <th>reserved_room_type_B</th>\n",
       "      <th>reserved_room_type_C</th>\n",
       "      <th>reserved_room_type_D</th>\n",
       "      <th>reserved_room_type_E</th>\n",
       "      <th>reserved_room_type_F</th>\n",
       "      <th>reserved_room_type_G</th>\n",
       "      <th>customer_type_Group</th>\n",
       "      <th>customer_type_Transient</th>\n",
       "      <th>customer_type_Transient-Party</th>\n",
       "    </tr>\n",
       "  </thead>\n",
       "  <tbody>\n",
       "    <tr>\n",
       "      <th>0</th>\n",
       "      <td>7</td>\n",
       "      <td>2015</td>\n",
       "      <td>7</td>\n",
       "      <td>27</td>\n",
       "      <td>1</td>\n",
       "      <td>0</td>\n",
       "      <td>1</td>\n",
       "      <td>1</td>\n",
       "      <td>0</td>\n",
       "      <td>0</td>\n",
       "      <td>0</td>\n",
       "      <td>0</td>\n",
       "      <td>0</td>\n",
       "      <td>0</td>\n",
       "      <td>0</td>\n",
       "      <td>0</td>\n",
       "      <td>0</td>\n",
       "      <td>0</td>\n",
       "      <td>0</td>\n",
       "      <td>0</td>\n",
       "      <td>1</td>\n",
       "      <td>0</td>\n",
       "      <td>0</td>\n",
       "      <td>0</td>\n",
       "      <td>0</td>\n",
       "      <td>0</td>\n",
       "      <td>0</td>\n",
       "      <td>0</td>\n",
       "      <td>0</td>\n",
       "      <td>0</td>\n",
       "      <td>1</td>\n",
       "      <td>0</td>\n",
       "    </tr>\n",
       "    <tr>\n",
       "      <th>1</th>\n",
       "      <td>14</td>\n",
       "      <td>2015</td>\n",
       "      <td>7</td>\n",
       "      <td>27</td>\n",
       "      <td>1</td>\n",
       "      <td>0</td>\n",
       "      <td>2</td>\n",
       "      <td>2</td>\n",
       "      <td>0</td>\n",
       "      <td>0</td>\n",
       "      <td>0</td>\n",
       "      <td>0</td>\n",
       "      <td>0</td>\n",
       "      <td>0</td>\n",
       "      <td>0</td>\n",
       "      <td>0</td>\n",
       "      <td>1</td>\n",
       "      <td>0</td>\n",
       "      <td>0</td>\n",
       "      <td>0</td>\n",
       "      <td>0</td>\n",
       "      <td>0</td>\n",
       "      <td>1</td>\n",
       "      <td>0</td>\n",
       "      <td>0</td>\n",
       "      <td>0</td>\n",
       "      <td>0</td>\n",
       "      <td>0</td>\n",
       "      <td>0</td>\n",
       "      <td>0</td>\n",
       "      <td>1</td>\n",
       "      <td>0</td>\n",
       "    </tr>\n",
       "    <tr>\n",
       "      <th>2</th>\n",
       "      <td>0</td>\n",
       "      <td>2015</td>\n",
       "      <td>7</td>\n",
       "      <td>27</td>\n",
       "      <td>1</td>\n",
       "      <td>0</td>\n",
       "      <td>2</td>\n",
       "      <td>2</td>\n",
       "      <td>0</td>\n",
       "      <td>0</td>\n",
       "      <td>0</td>\n",
       "      <td>0</td>\n",
       "      <td>0</td>\n",
       "      <td>0</td>\n",
       "      <td>0</td>\n",
       "      <td>0</td>\n",
       "      <td>0</td>\n",
       "      <td>0</td>\n",
       "      <td>0</td>\n",
       "      <td>0</td>\n",
       "      <td>1</td>\n",
       "      <td>0</td>\n",
       "      <td>0</td>\n",
       "      <td>0</td>\n",
       "      <td>1</td>\n",
       "      <td>0</td>\n",
       "      <td>0</td>\n",
       "      <td>0</td>\n",
       "      <td>0</td>\n",
       "      <td>0</td>\n",
       "      <td>1</td>\n",
       "      <td>0</td>\n",
       "    </tr>\n",
       "    <tr>\n",
       "      <th>3</th>\n",
       "      <td>9</td>\n",
       "      <td>2015</td>\n",
       "      <td>7</td>\n",
       "      <td>27</td>\n",
       "      <td>1</td>\n",
       "      <td>0</td>\n",
       "      <td>2</td>\n",
       "      <td>2</td>\n",
       "      <td>0</td>\n",
       "      <td>0</td>\n",
       "      <td>0</td>\n",
       "      <td>0</td>\n",
       "      <td>0</td>\n",
       "      <td>0</td>\n",
       "      <td>0</td>\n",
       "      <td>0</td>\n",
       "      <td>1</td>\n",
       "      <td>1</td>\n",
       "      <td>0</td>\n",
       "      <td>0</td>\n",
       "      <td>1</td>\n",
       "      <td>0</td>\n",
       "      <td>0</td>\n",
       "      <td>0</td>\n",
       "      <td>1</td>\n",
       "      <td>0</td>\n",
       "      <td>0</td>\n",
       "      <td>0</td>\n",
       "      <td>0</td>\n",
       "      <td>0</td>\n",
       "      <td>1</td>\n",
       "      <td>0</td>\n",
       "    </tr>\n",
       "    <tr>\n",
       "      <th>4</th>\n",
       "      <td>85</td>\n",
       "      <td>2015</td>\n",
       "      <td>7</td>\n",
       "      <td>27</td>\n",
       "      <td>1</td>\n",
       "      <td>0</td>\n",
       "      <td>3</td>\n",
       "      <td>2</td>\n",
       "      <td>0</td>\n",
       "      <td>0</td>\n",
       "      <td>0</td>\n",
       "      <td>0</td>\n",
       "      <td>0</td>\n",
       "      <td>0</td>\n",
       "      <td>0</td>\n",
       "      <td>0</td>\n",
       "      <td>1</td>\n",
       "      <td>0</td>\n",
       "      <td>0</td>\n",
       "      <td>0</td>\n",
       "      <td>0</td>\n",
       "      <td>0</td>\n",
       "      <td>1</td>\n",
       "      <td>0</td>\n",
       "      <td>0</td>\n",
       "      <td>0</td>\n",
       "      <td>0</td>\n",
       "      <td>0</td>\n",
       "      <td>0</td>\n",
       "      <td>0</td>\n",
       "      <td>1</td>\n",
       "      <td>0</td>\n",
       "    </tr>\n",
       "    <tr>\n",
       "      <th>...</th>\n",
       "      <td>...</td>\n",
       "      <td>...</td>\n",
       "      <td>...</td>\n",
       "      <td>...</td>\n",
       "      <td>...</td>\n",
       "      <td>...</td>\n",
       "      <td>...</td>\n",
       "      <td>...</td>\n",
       "      <td>...</td>\n",
       "      <td>...</td>\n",
       "      <td>...</td>\n",
       "      <td>...</td>\n",
       "      <td>...</td>\n",
       "      <td>...</td>\n",
       "      <td>...</td>\n",
       "      <td>...</td>\n",
       "      <td>...</td>\n",
       "      <td>...</td>\n",
       "      <td>...</td>\n",
       "      <td>...</td>\n",
       "      <td>...</td>\n",
       "      <td>...</td>\n",
       "      <td>...</td>\n",
       "      <td>...</td>\n",
       "      <td>...</td>\n",
       "      <td>...</td>\n",
       "      <td>...</td>\n",
       "      <td>...</td>\n",
       "      <td>...</td>\n",
       "      <td>...</td>\n",
       "      <td>...</td>\n",
       "      <td>...</td>\n",
       "    </tr>\n",
       "    <tr>\n",
       "      <th>65224</th>\n",
       "      <td>23</td>\n",
       "      <td>2016</td>\n",
       "      <td>12</td>\n",
       "      <td>53</td>\n",
       "      <td>30</td>\n",
       "      <td>2</td>\n",
       "      <td>4</td>\n",
       "      <td>2</td>\n",
       "      <td>0</td>\n",
       "      <td>0</td>\n",
       "      <td>0</td>\n",
       "      <td>0</td>\n",
       "      <td>0</td>\n",
       "      <td>0</td>\n",
       "      <td>0</td>\n",
       "      <td>0</td>\n",
       "      <td>2</td>\n",
       "      <td>0</td>\n",
       "      <td>0</td>\n",
       "      <td>0</td>\n",
       "      <td>0</td>\n",
       "      <td>0</td>\n",
       "      <td>1</td>\n",
       "      <td>0</td>\n",
       "      <td>0</td>\n",
       "      <td>1</td>\n",
       "      <td>0</td>\n",
       "      <td>0</td>\n",
       "      <td>0</td>\n",
       "      <td>0</td>\n",
       "      <td>1</td>\n",
       "      <td>0</td>\n",
       "    </tr>\n",
       "    <tr>\n",
       "      <th>65225</th>\n",
       "      <td>53</td>\n",
       "      <td>2016</td>\n",
       "      <td>12</td>\n",
       "      <td>53</td>\n",
       "      <td>31</td>\n",
       "      <td>2</td>\n",
       "      <td>3</td>\n",
       "      <td>2</td>\n",
       "      <td>0</td>\n",
       "      <td>0</td>\n",
       "      <td>0</td>\n",
       "      <td>0</td>\n",
       "      <td>0</td>\n",
       "      <td>0</td>\n",
       "      <td>0</td>\n",
       "      <td>0</td>\n",
       "      <td>3</td>\n",
       "      <td>0</td>\n",
       "      <td>1</td>\n",
       "      <td>0</td>\n",
       "      <td>0</td>\n",
       "      <td>0</td>\n",
       "      <td>1</td>\n",
       "      <td>0</td>\n",
       "      <td>0</td>\n",
       "      <td>1</td>\n",
       "      <td>0</td>\n",
       "      <td>0</td>\n",
       "      <td>0</td>\n",
       "      <td>0</td>\n",
       "      <td>1</td>\n",
       "      <td>0</td>\n",
       "    </tr>\n",
       "    <tr>\n",
       "      <th>65226</th>\n",
       "      <td>7</td>\n",
       "      <td>2016</td>\n",
       "      <td>12</td>\n",
       "      <td>53</td>\n",
       "      <td>31</td>\n",
       "      <td>2</td>\n",
       "      <td>4</td>\n",
       "      <td>2</td>\n",
       "      <td>0</td>\n",
       "      <td>0</td>\n",
       "      <td>0</td>\n",
       "      <td>0</td>\n",
       "      <td>0</td>\n",
       "      <td>0</td>\n",
       "      <td>0</td>\n",
       "      <td>0</td>\n",
       "      <td>1</td>\n",
       "      <td>0</td>\n",
       "      <td>0</td>\n",
       "      <td>0</td>\n",
       "      <td>0</td>\n",
       "      <td>0</td>\n",
       "      <td>1</td>\n",
       "      <td>0</td>\n",
       "      <td>0</td>\n",
       "      <td>1</td>\n",
       "      <td>0</td>\n",
       "      <td>0</td>\n",
       "      <td>0</td>\n",
       "      <td>0</td>\n",
       "      <td>1</td>\n",
       "      <td>0</td>\n",
       "    </tr>\n",
       "    <tr>\n",
       "      <th>65227</th>\n",
       "      <td>17</td>\n",
       "      <td>2016</td>\n",
       "      <td>12</td>\n",
       "      <td>53</td>\n",
       "      <td>30</td>\n",
       "      <td>2</td>\n",
       "      <td>5</td>\n",
       "      <td>2</td>\n",
       "      <td>0</td>\n",
       "      <td>0</td>\n",
       "      <td>0</td>\n",
       "      <td>0</td>\n",
       "      <td>0</td>\n",
       "      <td>0</td>\n",
       "      <td>0</td>\n",
       "      <td>0</td>\n",
       "      <td>1</td>\n",
       "      <td>0</td>\n",
       "      <td>0</td>\n",
       "      <td>1</td>\n",
       "      <td>0</td>\n",
       "      <td>0</td>\n",
       "      <td>1</td>\n",
       "      <td>0</td>\n",
       "      <td>0</td>\n",
       "      <td>0</td>\n",
       "      <td>0</td>\n",
       "      <td>0</td>\n",
       "      <td>0</td>\n",
       "      <td>0</td>\n",
       "      <td>1</td>\n",
       "      <td>0</td>\n",
       "    </tr>\n",
       "    <tr>\n",
       "      <th>65228</th>\n",
       "      <td>107</td>\n",
       "      <td>2016</td>\n",
       "      <td>12</td>\n",
       "      <td>53</td>\n",
       "      <td>31</td>\n",
       "      <td>2</td>\n",
       "      <td>5</td>\n",
       "      <td>2</td>\n",
       "      <td>0</td>\n",
       "      <td>0</td>\n",
       "      <td>0</td>\n",
       "      <td>0</td>\n",
       "      <td>0</td>\n",
       "      <td>0</td>\n",
       "      <td>0</td>\n",
       "      <td>0</td>\n",
       "      <td>0</td>\n",
       "      <td>0</td>\n",
       "      <td>0</td>\n",
       "      <td>0</td>\n",
       "      <td>0</td>\n",
       "      <td>0</td>\n",
       "      <td>1</td>\n",
       "      <td>0</td>\n",
       "      <td>0</td>\n",
       "      <td>0</td>\n",
       "      <td>0</td>\n",
       "      <td>0</td>\n",
       "      <td>0</td>\n",
       "      <td>0</td>\n",
       "      <td>1</td>\n",
       "      <td>0</td>\n",
       "    </tr>\n",
       "  </tbody>\n",
       "</table>\n",
       "<p>43835 rows × 32 columns</p>\n",
       "</div>"
      ],
      "text/plain": [
       "       lead_time  arrival_date_year  arrival_date_month  \\\n",
       "0              7               2015                   7   \n",
       "1             14               2015                   7   \n",
       "2              0               2015                   7   \n",
       "3              9               2015                   7   \n",
       "4             85               2015                   7   \n",
       "...          ...                ...                 ...   \n",
       "65224         23               2016                  12   \n",
       "65225         53               2016                  12   \n",
       "65226          7               2016                  12   \n",
       "65227         17               2016                  12   \n",
       "65228        107               2016                  12   \n",
       "\n",
       "       arrival_date_week_number  arrival_date_day_of_month  \\\n",
       "0                            27                          1   \n",
       "1                            27                          1   \n",
       "2                            27                          1   \n",
       "3                            27                          1   \n",
       "4                            27                          1   \n",
       "...                         ...                        ...   \n",
       "65224                        53                         30   \n",
       "65225                        53                         31   \n",
       "65226                        53                         31   \n",
       "65227                        53                         30   \n",
       "65228                        53                         31   \n",
       "\n",
       "       stays_in_weekend_nights  stays_in_week_nights  adults  children  \\\n",
       "0                            0                     1       1         0   \n",
       "1                            0                     2       2         0   \n",
       "2                            0                     2       2         0   \n",
       "3                            0                     2       2         0   \n",
       "4                            0                     3       2         0   \n",
       "...                        ...                   ...     ...       ...   \n",
       "65224                        2                     4       2         0   \n",
       "65225                        2                     3       2         0   \n",
       "65226                        2                     4       2         0   \n",
       "65227                        2                     5       2         0   \n",
       "65228                        2                     5       2         0   \n",
       "\n",
       "       babies  is_repeated_guest  previous_cancellations  \\\n",
       "0           0                  0                       0   \n",
       "1           0                  0                       0   \n",
       "2           0                  0                       0   \n",
       "3           0                  0                       0   \n",
       "4           0                  0                       0   \n",
       "...       ...                ...                     ...   \n",
       "65224       0                  0                       0   \n",
       "65225       0                  0                       0   \n",
       "65226       0                  0                       0   \n",
       "65227       0                  0                       0   \n",
       "65228       0                  0                       0   \n",
       "\n",
       "       previous_bookings_not_canceled  booking_changes  days_in_waiting_list  \\\n",
       "0                                   0                0                     0   \n",
       "1                                   0                0                     0   \n",
       "2                                   0                0                     0   \n",
       "3                                   0                0                     0   \n",
       "4                                   0                0                     0   \n",
       "...                               ...              ...                   ...   \n",
       "65224                               0                0                     0   \n",
       "65225                               0                0                     0   \n",
       "65226                               0                0                     0   \n",
       "65227                               0                0                     0   \n",
       "65228                               0                0                     0   \n",
       "\n",
       "       required_car_parking_spaces  total_of_special_requests  meal_FB  \\\n",
       "0                                0                          0        0   \n",
       "1                                0                          1        0   \n",
       "2                                0                          0        0   \n",
       "3                                0                          1        1   \n",
       "4                                0                          1        0   \n",
       "...                            ...                        ...      ...   \n",
       "65224                            0                          2        0   \n",
       "65225                            0                          3        0   \n",
       "65226                            0                          1        0   \n",
       "65227                            0                          1        0   \n",
       "65228                            0                          0        0   \n",
       "\n",
       "       meal_HB  meal_SC  distribution_channel_Direct  \\\n",
       "0            0        0                            1   \n",
       "1            0        0                            0   \n",
       "2            0        0                            1   \n",
       "3            0        0                            1   \n",
       "4            0        0                            0   \n",
       "...        ...      ...                          ...   \n",
       "65224        0        0                            0   \n",
       "65225        1        0                            0   \n",
       "65226        0        0                            0   \n",
       "65227        0        1                            0   \n",
       "65228        0        0                            0   \n",
       "\n",
       "       distribution_channel_GDS  distribution_channel_TA/TO  \\\n",
       "0                             0                           0   \n",
       "1                             0                           1   \n",
       "2                             0                           0   \n",
       "3                             0                           0   \n",
       "4                             0                           1   \n",
       "...                         ...                         ...   \n",
       "65224                         0                           1   \n",
       "65225                         0                           1   \n",
       "65226                         0                           1   \n",
       "65227                         0                           1   \n",
       "65228                         0                           1   \n",
       "\n",
       "       reserved_room_type_B  reserved_room_type_C  reserved_room_type_D  \\\n",
       "0                         0                     0                     0   \n",
       "1                         0                     0                     0   \n",
       "2                         0                     1                     0   \n",
       "3                         0                     1                     0   \n",
       "4                         0                     0                     0   \n",
       "...                     ...                   ...                   ...   \n",
       "65224                     0                     0                     1   \n",
       "65225                     0                     0                     1   \n",
       "65226                     0                     0                     1   \n",
       "65227                     0                     0                     0   \n",
       "65228                     0                     0                     0   \n",
       "\n",
       "       reserved_room_type_E  reserved_room_type_F  reserved_room_type_G  \\\n",
       "0                         0                     0                     0   \n",
       "1                         0                     0                     0   \n",
       "2                         0                     0                     0   \n",
       "3                         0                     0                     0   \n",
       "4                         0                     0                     0   \n",
       "...                     ...                   ...                   ...   \n",
       "65224                     0                     0                     0   \n",
       "65225                     0                     0                     0   \n",
       "65226                     0                     0                     0   \n",
       "65227                     0                     0                     0   \n",
       "65228                     0                     0                     0   \n",
       "\n",
       "       customer_type_Group  customer_type_Transient  \\\n",
       "0                        0                        1   \n",
       "1                        0                        1   \n",
       "2                        0                        1   \n",
       "3                        0                        1   \n",
       "4                        0                        1   \n",
       "...                    ...                      ...   \n",
       "65224                    0                        1   \n",
       "65225                    0                        1   \n",
       "65226                    0                        1   \n",
       "65227                    0                        1   \n",
       "65228                    0                        1   \n",
       "\n",
       "       customer_type_Transient-Party  \n",
       "0                                  0  \n",
       "1                                  0  \n",
       "2                                  0  \n",
       "3                                  0  \n",
       "4                                  0  \n",
       "...                              ...  \n",
       "65224                              0  \n",
       "65225                              0  \n",
       "65226                              0  \n",
       "65227                              0  \n",
       "65228                              0  \n",
       "\n",
       "[43835 rows x 32 columns]"
      ]
     },
     "execution_count": 44,
     "metadata": {},
     "output_type": "execute_result"
    }
   ],
   "source": [
    "features_train_ohe"
   ]
  },
  {
   "cell_type": "code",
   "execution_count": 45,
   "metadata": {},
   "outputs": [],
   "source": [
    "data_dict['test_data']['model_predict'] = best_dtc.predict(features_test_oe)"
   ]
  },
  {
   "cell_type": "markdown",
   "metadata": {},
   "source": [
    "Функция 'model_profit' подсчета прибыли-убытков для каждого клиента учитываю предсказания модели:"
   ]
  },
  {
   "cell_type": "code",
   "execution_count": 46,
   "metadata": {},
   "outputs": [],
   "source": [
    "def model_profit(row):\n",
    "    \n",
    "    room_type = row['reserved_room_type']\n",
    "    total_nights = row['total_nights']\n",
    "    month = row['arrival_date_month']\n",
    "    price_per_night = NIGHT_PRICE_DICT[row['reserved_room_type']]\n",
    "    koeficient = 1\n",
    "    \n",
    "    if 6 <= month <= 8:\n",
    "        \n",
    "        koeficient += SUMMER_COEFFICIENT\n",
    "        \n",
    "    elif 3 <= month <= 5:\n",
    "        \n",
    "        koeficient += SPRING_COEFFICIENT\n",
    "        \n",
    "    elif 9 <= month <= 11:\n",
    "        \n",
    "        koeficient += AUTUMN_COEFFICIENT\n",
    "\n",
    "    if row['is_canceled'] == 0:\n",
    "        \n",
    "        return total_nights * price_per_night * koeficient - SERVICE_PRICE_DICT[room_type] * (1 + total_nights // 2)\n",
    "            \n",
    "    else:\n",
    "        if row['is_canceled'] == 1 and row['model_predict'] == 1:\n",
    "        \n",
    "            return (-price_per_night * koeficient - SERVICE_PRICE_DICT[room_type]) * (1 - DEPOSIT)\n",
    "    \n",
    "        elif row['is_canceled'] == 1 and row['model_predict'] == 0:\n",
    "        \n",
    "            return - price_per_night * koeficient - SERVICE_PRICE_DICT[room_type]\n",
    "        \n",
    "        else:\n",
    "        \n",
    "            return 0\n",
    "    \n"
   ]
  },
  {
   "cell_type": "markdown",
   "metadata": {},
   "source": [
    "Применяем функцию 'model_profit' для подсчета прибыли модели, данные запишем в столбец 'model_profit':"
   ]
  },
  {
   "cell_type": "code",
   "execution_count": 47,
   "metadata": {},
   "outputs": [],
   "source": [
    "data_dict['test_data']['model_profit'] = data_dict['test_data'].apply(model_profit, axis=1)"
   ]
  },
  {
   "cell_type": "markdown",
   "metadata": {},
   "source": [
    "Подсчитаем прибль которую модель принесет с учетом бюджета на разработку:"
   ]
  },
  {
   "cell_type": "code",
   "execution_count": 48,
   "metadata": {},
   "outputs": [
    {
     "name": "stdout",
     "output_type": "stream",
     "text": [
      "Модель принесет 7641968.0 с учетом затрат на разработку\n"
     ]
    }
   ],
   "source": [
    "model_loss = - data_dict['test_data'].query('is_canceled == 1')['model_profit'].sum()\n",
    "\n",
    "model_profit = no_model_loss - model_loss - ML_BUDGET\n",
    "print(f'Модель принесет {model_profit} с учетом затрат на разработку')"
   ]
  },
  {
   "cell_type": "markdown",
   "metadata": {},
   "source": [
    "### Шаг 5. Опишите портрет «ненадёжного» клиента"
   ]
  },
  {
   "cell_type": "code",
   "execution_count": 49,
   "metadata": {},
   "outputs": [
    {
     "data": {
      "text/html": [
       "<div>\n",
       "<style scoped>\n",
       "    .dataframe tbody tr th:only-of-type {\n",
       "        vertical-align: middle;\n",
       "    }\n",
       "\n",
       "    .dataframe tbody tr th {\n",
       "        vertical-align: top;\n",
       "    }\n",
       "\n",
       "    .dataframe thead th {\n",
       "        text-align: right;\n",
       "    }\n",
       "</style>\n",
       "<table border=\"1\" class=\"dataframe\">\n",
       "  <thead>\n",
       "    <tr style=\"text-align: right;\">\n",
       "      <th></th>\n",
       "      <th>is_canceled</th>\n",
       "      <th>lead_time</th>\n",
       "      <th>arrival_date_year</th>\n",
       "      <th>arrival_date_month</th>\n",
       "      <th>arrival_date_week_number</th>\n",
       "      <th>arrival_date_day_of_month</th>\n",
       "      <th>stays_in_weekend_nights</th>\n",
       "      <th>stays_in_week_nights</th>\n",
       "      <th>adults</th>\n",
       "      <th>children</th>\n",
       "      <th>babies</th>\n",
       "      <th>meal</th>\n",
       "      <th>country</th>\n",
       "      <th>distribution_channel</th>\n",
       "      <th>is_repeated_guest</th>\n",
       "      <th>previous_cancellations</th>\n",
       "      <th>previous_bookings_not_canceled</th>\n",
       "      <th>reserved_room_type</th>\n",
       "      <th>booking_changes</th>\n",
       "      <th>days_in_waiting_list</th>\n",
       "      <th>customer_type</th>\n",
       "      <th>required_car_parking_spaces</th>\n",
       "      <th>total_of_special_requests</th>\n",
       "      <th>total_nights</th>\n",
       "    </tr>\n",
       "  </thead>\n",
       "  <tbody>\n",
       "    <tr>\n",
       "      <th>0</th>\n",
       "      <td>0</td>\n",
       "      <td>7</td>\n",
       "      <td>2015</td>\n",
       "      <td>7</td>\n",
       "      <td>27</td>\n",
       "      <td>1</td>\n",
       "      <td>0</td>\n",
       "      <td>1</td>\n",
       "      <td>1</td>\n",
       "      <td>0</td>\n",
       "      <td>0</td>\n",
       "      <td>BB</td>\n",
       "      <td>GBR</td>\n",
       "      <td>Direct</td>\n",
       "      <td>0</td>\n",
       "      <td>0</td>\n",
       "      <td>0</td>\n",
       "      <td>A</td>\n",
       "      <td>0</td>\n",
       "      <td>0</td>\n",
       "      <td>Transient</td>\n",
       "      <td>0</td>\n",
       "      <td>0</td>\n",
       "      <td>1</td>\n",
       "    </tr>\n",
       "    <tr>\n",
       "      <th>1</th>\n",
       "      <td>0</td>\n",
       "      <td>14</td>\n",
       "      <td>2015</td>\n",
       "      <td>7</td>\n",
       "      <td>27</td>\n",
       "      <td>1</td>\n",
       "      <td>0</td>\n",
       "      <td>2</td>\n",
       "      <td>2</td>\n",
       "      <td>0</td>\n",
       "      <td>0</td>\n",
       "      <td>BB</td>\n",
       "      <td>GBR</td>\n",
       "      <td>TA/TO</td>\n",
       "      <td>0</td>\n",
       "      <td>0</td>\n",
       "      <td>0</td>\n",
       "      <td>A</td>\n",
       "      <td>0</td>\n",
       "      <td>0</td>\n",
       "      <td>Transient</td>\n",
       "      <td>0</td>\n",
       "      <td>1</td>\n",
       "      <td>2</td>\n",
       "    </tr>\n",
       "    <tr>\n",
       "      <th>2</th>\n",
       "      <td>0</td>\n",
       "      <td>0</td>\n",
       "      <td>2015</td>\n",
       "      <td>7</td>\n",
       "      <td>27</td>\n",
       "      <td>1</td>\n",
       "      <td>0</td>\n",
       "      <td>2</td>\n",
       "      <td>2</td>\n",
       "      <td>0</td>\n",
       "      <td>0</td>\n",
       "      <td>BB</td>\n",
       "      <td>PRT</td>\n",
       "      <td>Direct</td>\n",
       "      <td>0</td>\n",
       "      <td>0</td>\n",
       "      <td>0</td>\n",
       "      <td>C</td>\n",
       "      <td>0</td>\n",
       "      <td>0</td>\n",
       "      <td>Transient</td>\n",
       "      <td>0</td>\n",
       "      <td>0</td>\n",
       "      <td>2</td>\n",
       "    </tr>\n",
       "    <tr>\n",
       "      <th>3</th>\n",
       "      <td>0</td>\n",
       "      <td>9</td>\n",
       "      <td>2015</td>\n",
       "      <td>7</td>\n",
       "      <td>27</td>\n",
       "      <td>1</td>\n",
       "      <td>0</td>\n",
       "      <td>2</td>\n",
       "      <td>2</td>\n",
       "      <td>0</td>\n",
       "      <td>0</td>\n",
       "      <td>FB</td>\n",
       "      <td>PRT</td>\n",
       "      <td>Direct</td>\n",
       "      <td>0</td>\n",
       "      <td>0</td>\n",
       "      <td>0</td>\n",
       "      <td>C</td>\n",
       "      <td>0</td>\n",
       "      <td>0</td>\n",
       "      <td>Transient</td>\n",
       "      <td>0</td>\n",
       "      <td>1</td>\n",
       "      <td>2</td>\n",
       "    </tr>\n",
       "    <tr>\n",
       "      <th>4</th>\n",
       "      <td>1</td>\n",
       "      <td>85</td>\n",
       "      <td>2015</td>\n",
       "      <td>7</td>\n",
       "      <td>27</td>\n",
       "      <td>1</td>\n",
       "      <td>0</td>\n",
       "      <td>3</td>\n",
       "      <td>2</td>\n",
       "      <td>0</td>\n",
       "      <td>0</td>\n",
       "      <td>BB</td>\n",
       "      <td>PRT</td>\n",
       "      <td>TA/TO</td>\n",
       "      <td>0</td>\n",
       "      <td>0</td>\n",
       "      <td>0</td>\n",
       "      <td>A</td>\n",
       "      <td>0</td>\n",
       "      <td>0</td>\n",
       "      <td>Transient</td>\n",
       "      <td>0</td>\n",
       "      <td>1</td>\n",
       "      <td>3</td>\n",
       "    </tr>\n",
       "  </tbody>\n",
       "</table>\n",
       "</div>"
      ],
      "text/plain": [
       "   is_canceled  lead_time  arrival_date_year  arrival_date_month  \\\n",
       "0            0          7               2015                   7   \n",
       "1            0         14               2015                   7   \n",
       "2            0          0               2015                   7   \n",
       "3            0          9               2015                   7   \n",
       "4            1         85               2015                   7   \n",
       "\n",
       "   arrival_date_week_number  arrival_date_day_of_month  \\\n",
       "0                        27                          1   \n",
       "1                        27                          1   \n",
       "2                        27                          1   \n",
       "3                        27                          1   \n",
       "4                        27                          1   \n",
       "\n",
       "   stays_in_weekend_nights  stays_in_week_nights  adults  children  babies  \\\n",
       "0                        0                     1       1         0       0   \n",
       "1                        0                     2       2         0       0   \n",
       "2                        0                     2       2         0       0   \n",
       "3                        0                     2       2         0       0   \n",
       "4                        0                     3       2         0       0   \n",
       "\n",
       "  meal country distribution_channel  is_repeated_guest  \\\n",
       "0   BB     GBR               Direct                  0   \n",
       "1   BB     GBR                TA/TO                  0   \n",
       "2   BB     PRT               Direct                  0   \n",
       "3   FB     PRT               Direct                  0   \n",
       "4   BB     PRT                TA/TO                  0   \n",
       "\n",
       "   previous_cancellations  previous_bookings_not_canceled reserved_room_type  \\\n",
       "0                       0                               0                  A   \n",
       "1                       0                               0                  A   \n",
       "2                       0                               0                  C   \n",
       "3                       0                               0                  C   \n",
       "4                       0                               0                  A   \n",
       "\n",
       "   booking_changes  days_in_waiting_list customer_type  \\\n",
       "0                0                     0     Transient   \n",
       "1                0                     0     Transient   \n",
       "2                0                     0     Transient   \n",
       "3                0                     0     Transient   \n",
       "4                0                     0     Transient   \n",
       "\n",
       "   required_car_parking_spaces  total_of_special_requests  total_nights  \n",
       "0                            0                          0             1  \n",
       "1                            0                          1             2  \n",
       "2                            0                          0             2  \n",
       "3                            0                          1             2  \n",
       "4                            0                          1             3  "
      ]
     },
     "execution_count": 49,
     "metadata": {},
     "output_type": "execute_result"
    }
   ],
   "source": [
    "general_data = data_dict['train_data'].merge(data_dict['test_data'], how='outer')\n",
    "\n",
    "drop_list = ['profit', 'model_predict', 'model_profit']\n",
    "general_data = general_data.drop(columns=drop_list, axis=1)\n",
    "\n",
    "general_data.head()"
   ]
  },
  {
   "cell_type": "markdown",
   "metadata": {},
   "source": [
    "Для определения ненадежного клиента выведем данные по коррелирующим признакам в разрезе частоты:"
   ]
  },
  {
   "cell_type": "code",
   "execution_count": 50,
   "metadata": {},
   "outputs": [
    {
     "data": {
      "text/html": [
       "<div>\n",
       "<style scoped>\n",
       "    .dataframe tbody tr th:only-of-type {\n",
       "        vertical-align: middle;\n",
       "    }\n",
       "\n",
       "    .dataframe tbody tr th {\n",
       "        vertical-align: top;\n",
       "    }\n",
       "\n",
       "    .dataframe thead tr th {\n",
       "        text-align: left;\n",
       "    }\n",
       "\n",
       "    .dataframe thead tr:last-of-type th {\n",
       "        text-align: right;\n",
       "    }\n",
       "</style>\n",
       "<table border=\"1\" class=\"dataframe\">\n",
       "  <thead>\n",
       "    <tr>\n",
       "      <th></th>\n",
       "      <th colspan=\"3\" halign=\"left\">is_canceled</th>\n",
       "    </tr>\n",
       "    <tr>\n",
       "      <th></th>\n",
       "      <th>sum</th>\n",
       "      <th>count</th>\n",
       "      <th>share</th>\n",
       "    </tr>\n",
       "    <tr>\n",
       "      <th>is_canceled</th>\n",
       "      <th></th>\n",
       "      <th></th>\n",
       "      <th></th>\n",
       "    </tr>\n",
       "  </thead>\n",
       "  <tbody>\n",
       "    <tr>\n",
       "      <th>1</th>\n",
       "      <td>18933</td>\n",
       "      <td>18933</td>\n",
       "      <td>100.0</td>\n",
       "    </tr>\n",
       "    <tr>\n",
       "      <th>0</th>\n",
       "      <td>0</td>\n",
       "      <td>49590</td>\n",
       "      <td>0.0</td>\n",
       "    </tr>\n",
       "  </tbody>\n",
       "</table>\n",
       "</div>"
      ],
      "text/plain": [
       "            is_canceled              \n",
       "                    sum  count  share\n",
       "is_canceled                          \n",
       "1                 18933  18933  100.0\n",
       "0                     0  49590    0.0"
      ]
     },
     "metadata": {},
     "output_type": "display_data"
    },
    {
     "data": {
      "text/html": [
       "<div>\n",
       "<style scoped>\n",
       "    .dataframe tbody tr th:only-of-type {\n",
       "        vertical-align: middle;\n",
       "    }\n",
       "\n",
       "    .dataframe tbody tr th {\n",
       "        vertical-align: top;\n",
       "    }\n",
       "\n",
       "    .dataframe thead tr th {\n",
       "        text-align: left;\n",
       "    }\n",
       "\n",
       "    .dataframe thead tr:last-of-type th {\n",
       "        text-align: right;\n",
       "    }\n",
       "</style>\n",
       "<table border=\"1\" class=\"dataframe\">\n",
       "  <thead>\n",
       "    <tr>\n",
       "      <th></th>\n",
       "      <th colspan=\"3\" halign=\"left\">is_canceled</th>\n",
       "    </tr>\n",
       "    <tr>\n",
       "      <th></th>\n",
       "      <th>sum</th>\n",
       "      <th>count</th>\n",
       "      <th>share</th>\n",
       "    </tr>\n",
       "    <tr>\n",
       "      <th>lead_time</th>\n",
       "      <th></th>\n",
       "      <th></th>\n",
       "      <th></th>\n",
       "    </tr>\n",
       "  </thead>\n",
       "  <tbody>\n",
       "    <tr>\n",
       "      <th>0</th>\n",
       "      <td>251</td>\n",
       "      <td>4401</td>\n",
       "      <td>5.70</td>\n",
       "    </tr>\n",
       "    <tr>\n",
       "      <th>12</th>\n",
       "      <td>186</td>\n",
       "      <td>748</td>\n",
       "      <td>24.87</td>\n",
       "    </tr>\n",
       "    <tr>\n",
       "      <th>18</th>\n",
       "      <td>185</td>\n",
       "      <td>609</td>\n",
       "      <td>30.38</td>\n",
       "    </tr>\n",
       "  </tbody>\n",
       "</table>\n",
       "</div>"
      ],
      "text/plain": [
       "          is_canceled             \n",
       "                  sum count  share\n",
       "lead_time                         \n",
       "0                 251  4401   5.70\n",
       "12                186   748  24.87\n",
       "18                185   609  30.38"
      ]
     },
     "metadata": {},
     "output_type": "display_data"
    },
    {
     "data": {
      "text/html": [
       "<div>\n",
       "<style scoped>\n",
       "    .dataframe tbody tr th:only-of-type {\n",
       "        vertical-align: middle;\n",
       "    }\n",
       "\n",
       "    .dataframe tbody tr th {\n",
       "        vertical-align: top;\n",
       "    }\n",
       "\n",
       "    .dataframe thead tr th {\n",
       "        text-align: left;\n",
       "    }\n",
       "\n",
       "    .dataframe thead tr:last-of-type th {\n",
       "        text-align: right;\n",
       "    }\n",
       "</style>\n",
       "<table border=\"1\" class=\"dataframe\">\n",
       "  <thead>\n",
       "    <tr>\n",
       "      <th></th>\n",
       "      <th colspan=\"3\" halign=\"left\">is_canceled</th>\n",
       "    </tr>\n",
       "    <tr>\n",
       "      <th></th>\n",
       "      <th>sum</th>\n",
       "      <th>count</th>\n",
       "      <th>share</th>\n",
       "    </tr>\n",
       "    <tr>\n",
       "      <th>arrival_date_year</th>\n",
       "      <th></th>\n",
       "      <th></th>\n",
       "      <th></th>\n",
       "    </tr>\n",
       "  </thead>\n",
       "  <tbody>\n",
       "    <tr>\n",
       "      <th>2016</th>\n",
       "      <td>9105</td>\n",
       "      <td>33993</td>\n",
       "      <td>26.78</td>\n",
       "    </tr>\n",
       "    <tr>\n",
       "      <th>2017</th>\n",
       "      <td>7785</td>\n",
       "      <td>24688</td>\n",
       "      <td>31.53</td>\n",
       "    </tr>\n",
       "    <tr>\n",
       "      <th>2015</th>\n",
       "      <td>2043</td>\n",
       "      <td>9842</td>\n",
       "      <td>20.76</td>\n",
       "    </tr>\n",
       "  </tbody>\n",
       "</table>\n",
       "</div>"
      ],
      "text/plain": [
       "                  is_canceled              \n",
       "                          sum  count  share\n",
       "arrival_date_year                          \n",
       "2016                     9105  33993  26.78\n",
       "2017                     7785  24688  31.53\n",
       "2015                     2043   9842  20.76"
      ]
     },
     "metadata": {},
     "output_type": "display_data"
    },
    {
     "data": {
      "text/html": [
       "<div>\n",
       "<style scoped>\n",
       "    .dataframe tbody tr th:only-of-type {\n",
       "        vertical-align: middle;\n",
       "    }\n",
       "\n",
       "    .dataframe tbody tr th {\n",
       "        vertical-align: top;\n",
       "    }\n",
       "\n",
       "    .dataframe thead tr th {\n",
       "        text-align: left;\n",
       "    }\n",
       "\n",
       "    .dataframe thead tr:last-of-type th {\n",
       "        text-align: right;\n",
       "    }\n",
       "</style>\n",
       "<table border=\"1\" class=\"dataframe\">\n",
       "  <thead>\n",
       "    <tr>\n",
       "      <th></th>\n",
       "      <th colspan=\"3\" halign=\"left\">is_canceled</th>\n",
       "    </tr>\n",
       "    <tr>\n",
       "      <th></th>\n",
       "      <th>sum</th>\n",
       "      <th>count</th>\n",
       "      <th>share</th>\n",
       "    </tr>\n",
       "    <tr>\n",
       "      <th>arrival_date_month</th>\n",
       "      <th></th>\n",
       "      <th></th>\n",
       "      <th></th>\n",
       "    </tr>\n",
       "  </thead>\n",
       "  <tbody>\n",
       "    <tr>\n",
       "      <th>8</th>\n",
       "      <td>2323</td>\n",
       "      <td>7442</td>\n",
       "      <td>31.21</td>\n",
       "    </tr>\n",
       "    <tr>\n",
       "      <th>7</th>\n",
       "      <td>2283</td>\n",
       "      <td>7201</td>\n",
       "      <td>31.70</td>\n",
       "    </tr>\n",
       "    <tr>\n",
       "      <th>4</th>\n",
       "      <td>2072</td>\n",
       "      <td>6644</td>\n",
       "      <td>31.19</td>\n",
       "    </tr>\n",
       "  </tbody>\n",
       "</table>\n",
       "</div>"
      ],
      "text/plain": [
       "                   is_canceled             \n",
       "                           sum count  share\n",
       "arrival_date_month                         \n",
       "8                         2323  7442  31.21\n",
       "7                         2283  7201  31.70\n",
       "4                         2072  6644  31.19"
      ]
     },
     "metadata": {},
     "output_type": "display_data"
    },
    {
     "data": {
      "text/html": [
       "<div>\n",
       "<style scoped>\n",
       "    .dataframe tbody tr th:only-of-type {\n",
       "        vertical-align: middle;\n",
       "    }\n",
       "\n",
       "    .dataframe tbody tr th {\n",
       "        vertical-align: top;\n",
       "    }\n",
       "\n",
       "    .dataframe thead tr th {\n",
       "        text-align: left;\n",
       "    }\n",
       "\n",
       "    .dataframe thead tr:last-of-type th {\n",
       "        text-align: right;\n",
       "    }\n",
       "</style>\n",
       "<table border=\"1\" class=\"dataframe\">\n",
       "  <thead>\n",
       "    <tr>\n",
       "      <th></th>\n",
       "      <th colspan=\"3\" halign=\"left\">is_canceled</th>\n",
       "    </tr>\n",
       "    <tr>\n",
       "      <th></th>\n",
       "      <th>sum</th>\n",
       "      <th>count</th>\n",
       "      <th>share</th>\n",
       "    </tr>\n",
       "    <tr>\n",
       "      <th>arrival_date_week_number</th>\n",
       "      <th></th>\n",
       "      <th></th>\n",
       "      <th></th>\n",
       "    </tr>\n",
       "  </thead>\n",
       "  <tbody>\n",
       "    <tr>\n",
       "      <th>18</th>\n",
       "      <td>604</td>\n",
       "      <td>1745</td>\n",
       "      <td>34.61</td>\n",
       "    </tr>\n",
       "    <tr>\n",
       "      <th>33</th>\n",
       "      <td>582</td>\n",
       "      <td>1799</td>\n",
       "      <td>32.35</td>\n",
       "    </tr>\n",
       "    <tr>\n",
       "      <th>28</th>\n",
       "      <td>581</td>\n",
       "      <td>1742</td>\n",
       "      <td>33.35</td>\n",
       "    </tr>\n",
       "  </tbody>\n",
       "</table>\n",
       "</div>"
      ],
      "text/plain": [
       "                         is_canceled             \n",
       "                                 sum count  share\n",
       "arrival_date_week_number                         \n",
       "18                               604  1745  34.61\n",
       "33                               582  1799  32.35\n",
       "28                               581  1742  33.35"
      ]
     },
     "metadata": {},
     "output_type": "display_data"
    },
    {
     "data": {
      "text/html": [
       "<div>\n",
       "<style scoped>\n",
       "    .dataframe tbody tr th:only-of-type {\n",
       "        vertical-align: middle;\n",
       "    }\n",
       "\n",
       "    .dataframe tbody tr th {\n",
       "        vertical-align: top;\n",
       "    }\n",
       "\n",
       "    .dataframe thead tr th {\n",
       "        text-align: left;\n",
       "    }\n",
       "\n",
       "    .dataframe thead tr:last-of-type th {\n",
       "        text-align: right;\n",
       "    }\n",
       "</style>\n",
       "<table border=\"1\" class=\"dataframe\">\n",
       "  <thead>\n",
       "    <tr>\n",
       "      <th></th>\n",
       "      <th colspan=\"3\" halign=\"left\">is_canceled</th>\n",
       "    </tr>\n",
       "    <tr>\n",
       "      <th></th>\n",
       "      <th>sum</th>\n",
       "      <th>count</th>\n",
       "      <th>share</th>\n",
       "    </tr>\n",
       "    <tr>\n",
       "      <th>arrival_date_day_of_month</th>\n",
       "      <th></th>\n",
       "      <th></th>\n",
       "      <th></th>\n",
       "    </tr>\n",
       "  </thead>\n",
       "  <tbody>\n",
       "    <tr>\n",
       "      <th>27</th>\n",
       "      <td>703</td>\n",
       "      <td>2346</td>\n",
       "      <td>29.97</td>\n",
       "    </tr>\n",
       "    <tr>\n",
       "      <th>26</th>\n",
       "      <td>692</td>\n",
       "      <td>2354</td>\n",
       "      <td>29.40</td>\n",
       "    </tr>\n",
       "    <tr>\n",
       "      <th>17</th>\n",
       "      <td>689</td>\n",
       "      <td>2354</td>\n",
       "      <td>29.27</td>\n",
       "    </tr>\n",
       "  </tbody>\n",
       "</table>\n",
       "</div>"
      ],
      "text/plain": [
       "                          is_canceled             \n",
       "                                  sum count  share\n",
       "arrival_date_day_of_month                         \n",
       "27                                703  2346  29.97\n",
       "26                                692  2354  29.40\n",
       "17                                689  2354  29.27"
      ]
     },
     "metadata": {},
     "output_type": "display_data"
    },
    {
     "data": {
      "text/html": [
       "<div>\n",
       "<style scoped>\n",
       "    .dataframe tbody tr th:only-of-type {\n",
       "        vertical-align: middle;\n",
       "    }\n",
       "\n",
       "    .dataframe tbody tr th {\n",
       "        vertical-align: top;\n",
       "    }\n",
       "\n",
       "    .dataframe thead tr th {\n",
       "        text-align: left;\n",
       "    }\n",
       "\n",
       "    .dataframe thead tr:last-of-type th {\n",
       "        text-align: right;\n",
       "    }\n",
       "</style>\n",
       "<table border=\"1\" class=\"dataframe\">\n",
       "  <thead>\n",
       "    <tr>\n",
       "      <th></th>\n",
       "      <th colspan=\"3\" halign=\"left\">is_canceled</th>\n",
       "    </tr>\n",
       "    <tr>\n",
       "      <th></th>\n",
       "      <th>sum</th>\n",
       "      <th>count</th>\n",
       "      <th>share</th>\n",
       "    </tr>\n",
       "    <tr>\n",
       "      <th>stays_in_weekend_nights</th>\n",
       "      <th></th>\n",
       "      <th></th>\n",
       "      <th></th>\n",
       "    </tr>\n",
       "  </thead>\n",
       "  <tbody>\n",
       "    <tr>\n",
       "      <th>0</th>\n",
       "      <td>7326</td>\n",
       "      <td>28419</td>\n",
       "      <td>25.78</td>\n",
       "    </tr>\n",
       "    <tr>\n",
       "      <th>2</th>\n",
       "      <td>6107</td>\n",
       "      <td>20398</td>\n",
       "      <td>29.94</td>\n",
       "    </tr>\n",
       "    <tr>\n",
       "      <th>1</th>\n",
       "      <td>5328</td>\n",
       "      <td>19190</td>\n",
       "      <td>27.76</td>\n",
       "    </tr>\n",
       "  </tbody>\n",
       "</table>\n",
       "</div>"
      ],
      "text/plain": [
       "                        is_canceled              \n",
       "                                sum  count  share\n",
       "stays_in_weekend_nights                          \n",
       "0                              7326  28419  25.78\n",
       "2                              6107  20398  29.94\n",
       "1                              5328  19190  27.76"
      ]
     },
     "metadata": {},
     "output_type": "display_data"
    },
    {
     "data": {
      "text/html": [
       "<div>\n",
       "<style scoped>\n",
       "    .dataframe tbody tr th:only-of-type {\n",
       "        vertical-align: middle;\n",
       "    }\n",
       "\n",
       "    .dataframe tbody tr th {\n",
       "        vertical-align: top;\n",
       "    }\n",
       "\n",
       "    .dataframe thead tr th {\n",
       "        text-align: left;\n",
       "    }\n",
       "\n",
       "    .dataframe thead tr:last-of-type th {\n",
       "        text-align: right;\n",
       "    }\n",
       "</style>\n",
       "<table border=\"1\" class=\"dataframe\">\n",
       "  <thead>\n",
       "    <tr>\n",
       "      <th></th>\n",
       "      <th colspan=\"3\" halign=\"left\">is_canceled</th>\n",
       "    </tr>\n",
       "    <tr>\n",
       "      <th></th>\n",
       "      <th>sum</th>\n",
       "      <th>count</th>\n",
       "      <th>share</th>\n",
       "    </tr>\n",
       "    <tr>\n",
       "      <th>stays_in_week_nights</th>\n",
       "      <th></th>\n",
       "      <th></th>\n",
       "      <th></th>\n",
       "    </tr>\n",
       "  </thead>\n",
       "  <tbody>\n",
       "    <tr>\n",
       "      <th>2</th>\n",
       "      <td>5120</td>\n",
       "      <td>17536</td>\n",
       "      <td>29.20</td>\n",
       "    </tr>\n",
       "    <tr>\n",
       "      <th>3</th>\n",
       "      <td>4210</td>\n",
       "      <td>14008</td>\n",
       "      <td>30.05</td>\n",
       "    </tr>\n",
       "    <tr>\n",
       "      <th>1</th>\n",
       "      <td>4151</td>\n",
       "      <td>18266</td>\n",
       "      <td>22.73</td>\n",
       "    </tr>\n",
       "  </tbody>\n",
       "</table>\n",
       "</div>"
      ],
      "text/plain": [
       "                     is_canceled              \n",
       "                             sum  count  share\n",
       "stays_in_week_nights                          \n",
       "2                           5120  17536  29.20\n",
       "3                           4210  14008  30.05\n",
       "1                           4151  18266  22.73"
      ]
     },
     "metadata": {},
     "output_type": "display_data"
    },
    {
     "data": {
      "text/html": [
       "<div>\n",
       "<style scoped>\n",
       "    .dataframe tbody tr th:only-of-type {\n",
       "        vertical-align: middle;\n",
       "    }\n",
       "\n",
       "    .dataframe tbody tr th {\n",
       "        vertical-align: top;\n",
       "    }\n",
       "\n",
       "    .dataframe thead tr th {\n",
       "        text-align: left;\n",
       "    }\n",
       "\n",
       "    .dataframe thead tr:last-of-type th {\n",
       "        text-align: right;\n",
       "    }\n",
       "</style>\n",
       "<table border=\"1\" class=\"dataframe\">\n",
       "  <thead>\n",
       "    <tr>\n",
       "      <th></th>\n",
       "      <th colspan=\"3\" halign=\"left\">is_canceled</th>\n",
       "    </tr>\n",
       "    <tr>\n",
       "      <th></th>\n",
       "      <th>sum</th>\n",
       "      <th>count</th>\n",
       "      <th>share</th>\n",
       "    </tr>\n",
       "    <tr>\n",
       "      <th>adults</th>\n",
       "      <th></th>\n",
       "      <th></th>\n",
       "      <th></th>\n",
       "    </tr>\n",
       "  </thead>\n",
       "  <tbody>\n",
       "    <tr>\n",
       "      <th>2</th>\n",
       "      <td>14815</td>\n",
       "      <td>50834</td>\n",
       "      <td>29.14</td>\n",
       "    </tr>\n",
       "    <tr>\n",
       "      <th>1</th>\n",
       "      <td>2561</td>\n",
       "      <td>13065</td>\n",
       "      <td>19.60</td>\n",
       "    </tr>\n",
       "    <tr>\n",
       "      <th>3</th>\n",
       "      <td>1476</td>\n",
       "      <td>4396</td>\n",
       "      <td>33.58</td>\n",
       "    </tr>\n",
       "  </tbody>\n",
       "</table>\n",
       "</div>"
      ],
      "text/plain": [
       "       is_canceled              \n",
       "               sum  count  share\n",
       "adults                          \n",
       "2            14815  50834  29.14\n",
       "1             2561  13065  19.60\n",
       "3             1476   4396  33.58"
      ]
     },
     "metadata": {},
     "output_type": "display_data"
    },
    {
     "data": {
      "text/html": [
       "<div>\n",
       "<style scoped>\n",
       "    .dataframe tbody tr th:only-of-type {\n",
       "        vertical-align: middle;\n",
       "    }\n",
       "\n",
       "    .dataframe tbody tr th {\n",
       "        vertical-align: top;\n",
       "    }\n",
       "\n",
       "    .dataframe thead tr th {\n",
       "        text-align: left;\n",
       "    }\n",
       "\n",
       "    .dataframe thead tr:last-of-type th {\n",
       "        text-align: right;\n",
       "    }\n",
       "</style>\n",
       "<table border=\"1\" class=\"dataframe\">\n",
       "  <thead>\n",
       "    <tr>\n",
       "      <th></th>\n",
       "      <th colspan=\"3\" halign=\"left\">is_canceled</th>\n",
       "    </tr>\n",
       "    <tr>\n",
       "      <th></th>\n",
       "      <th>sum</th>\n",
       "      <th>count</th>\n",
       "      <th>share</th>\n",
       "    </tr>\n",
       "    <tr>\n",
       "      <th>children</th>\n",
       "      <th></th>\n",
       "      <th></th>\n",
       "      <th></th>\n",
       "    </tr>\n",
       "  </thead>\n",
       "  <tbody>\n",
       "    <tr>\n",
       "      <th>0</th>\n",
       "      <td>17138</td>\n",
       "      <td>63174</td>\n",
       "      <td>27.13</td>\n",
       "    </tr>\n",
       "    <tr>\n",
       "      <th>1</th>\n",
       "      <td>1020</td>\n",
       "      <td>3382</td>\n",
       "      <td>30.16</td>\n",
       "    </tr>\n",
       "    <tr>\n",
       "      <th>2</th>\n",
       "      <td>768</td>\n",
       "      <td>1946</td>\n",
       "      <td>39.47</td>\n",
       "    </tr>\n",
       "  </tbody>\n",
       "</table>\n",
       "</div>"
      ],
      "text/plain": [
       "         is_canceled              \n",
       "                 sum  count  share\n",
       "children                          \n",
       "0              17138  63174  27.13\n",
       "1               1020   3382  30.16\n",
       "2                768   1946  39.47"
      ]
     },
     "metadata": {},
     "output_type": "display_data"
    },
    {
     "data": {
      "text/html": [
       "<div>\n",
       "<style scoped>\n",
       "    .dataframe tbody tr th:only-of-type {\n",
       "        vertical-align: middle;\n",
       "    }\n",
       "\n",
       "    .dataframe tbody tr th {\n",
       "        vertical-align: top;\n",
       "    }\n",
       "\n",
       "    .dataframe thead tr th {\n",
       "        text-align: left;\n",
       "    }\n",
       "\n",
       "    .dataframe thead tr:last-of-type th {\n",
       "        text-align: right;\n",
       "    }\n",
       "</style>\n",
       "<table border=\"1\" class=\"dataframe\">\n",
       "  <thead>\n",
       "    <tr>\n",
       "      <th></th>\n",
       "      <th colspan=\"3\" halign=\"left\">is_canceled</th>\n",
       "    </tr>\n",
       "    <tr>\n",
       "      <th></th>\n",
       "      <th>sum</th>\n",
       "      <th>count</th>\n",
       "      <th>share</th>\n",
       "    </tr>\n",
       "    <tr>\n",
       "      <th>babies</th>\n",
       "      <th></th>\n",
       "      <th></th>\n",
       "      <th></th>\n",
       "    </tr>\n",
       "  </thead>\n",
       "  <tbody>\n",
       "    <tr>\n",
       "      <th>0</th>\n",
       "      <td>18829</td>\n",
       "      <td>67902</td>\n",
       "      <td>27.73</td>\n",
       "    </tr>\n",
       "    <tr>\n",
       "      <th>1</th>\n",
       "      <td>104</td>\n",
       "      <td>614</td>\n",
       "      <td>16.94</td>\n",
       "    </tr>\n",
       "    <tr>\n",
       "      <th>2</th>\n",
       "      <td>0</td>\n",
       "      <td>7</td>\n",
       "      <td>0.00</td>\n",
       "    </tr>\n",
       "  </tbody>\n",
       "</table>\n",
       "</div>"
      ],
      "text/plain": [
       "       is_canceled              \n",
       "               sum  count  share\n",
       "babies                          \n",
       "0            18829  67902  27.73\n",
       "1              104    614  16.94\n",
       "2                0      7   0.00"
      ]
     },
     "metadata": {},
     "output_type": "display_data"
    },
    {
     "data": {
      "text/html": [
       "<div>\n",
       "<style scoped>\n",
       "    .dataframe tbody tr th:only-of-type {\n",
       "        vertical-align: middle;\n",
       "    }\n",
       "\n",
       "    .dataframe tbody tr th {\n",
       "        vertical-align: top;\n",
       "    }\n",
       "\n",
       "    .dataframe thead tr th {\n",
       "        text-align: left;\n",
       "    }\n",
       "\n",
       "    .dataframe thead tr:last-of-type th {\n",
       "        text-align: right;\n",
       "    }\n",
       "</style>\n",
       "<table border=\"1\" class=\"dataframe\">\n",
       "  <thead>\n",
       "    <tr>\n",
       "      <th></th>\n",
       "      <th colspan=\"3\" halign=\"left\">is_canceled</th>\n",
       "    </tr>\n",
       "    <tr>\n",
       "      <th></th>\n",
       "      <th>sum</th>\n",
       "      <th>count</th>\n",
       "      <th>share</th>\n",
       "    </tr>\n",
       "    <tr>\n",
       "      <th>meal</th>\n",
       "      <th></th>\n",
       "      <th></th>\n",
       "      <th></th>\n",
       "    </tr>\n",
       "  </thead>\n",
       "  <tbody>\n",
       "    <tr>\n",
       "      <th>BB</th>\n",
       "      <td>14226</td>\n",
       "      <td>53858</td>\n",
       "      <td>26.41</td>\n",
       "    </tr>\n",
       "    <tr>\n",
       "      <th>SC</th>\n",
       "      <td>3249</td>\n",
       "      <td>9297</td>\n",
       "      <td>34.95</td>\n",
       "    </tr>\n",
       "    <tr>\n",
       "      <th>HB</th>\n",
       "      <td>1409</td>\n",
       "      <td>5203</td>\n",
       "      <td>27.08</td>\n",
       "    </tr>\n",
       "  </tbody>\n",
       "</table>\n",
       "</div>"
      ],
      "text/plain": [
       "     is_canceled              \n",
       "             sum  count  share\n",
       "meal                          \n",
       "BB         14226  53858  26.41\n",
       "SC          3249   9297  34.95\n",
       "HB          1409   5203  27.08"
      ]
     },
     "metadata": {},
     "output_type": "display_data"
    },
    {
     "data": {
      "text/html": [
       "<div>\n",
       "<style scoped>\n",
       "    .dataframe tbody tr th:only-of-type {\n",
       "        vertical-align: middle;\n",
       "    }\n",
       "\n",
       "    .dataframe tbody tr th {\n",
       "        vertical-align: top;\n",
       "    }\n",
       "\n",
       "    .dataframe thead tr th {\n",
       "        text-align: left;\n",
       "    }\n",
       "\n",
       "    .dataframe thead tr:last-of-type th {\n",
       "        text-align: right;\n",
       "    }\n",
       "</style>\n",
       "<table border=\"1\" class=\"dataframe\">\n",
       "  <thead>\n",
       "    <tr>\n",
       "      <th></th>\n",
       "      <th colspan=\"3\" halign=\"left\">is_canceled</th>\n",
       "    </tr>\n",
       "    <tr>\n",
       "      <th></th>\n",
       "      <th>sum</th>\n",
       "      <th>count</th>\n",
       "      <th>share</th>\n",
       "    </tr>\n",
       "    <tr>\n",
       "      <th>country</th>\n",
       "      <th></th>\n",
       "      <th></th>\n",
       "      <th></th>\n",
       "    </tr>\n",
       "  </thead>\n",
       "  <tbody>\n",
       "    <tr>\n",
       "      <th>PRT</th>\n",
       "      <td>7105</td>\n",
       "      <td>19894</td>\n",
       "      <td>35.71</td>\n",
       "    </tr>\n",
       "    <tr>\n",
       "      <th>GBR</th>\n",
       "      <td>1595</td>\n",
       "      <td>7619</td>\n",
       "      <td>20.93</td>\n",
       "    </tr>\n",
       "    <tr>\n",
       "      <th>FRA</th>\n",
       "      <td>1530</td>\n",
       "      <td>7812</td>\n",
       "      <td>19.59</td>\n",
       "    </tr>\n",
       "  </tbody>\n",
       "</table>\n",
       "</div>"
      ],
      "text/plain": [
       "        is_canceled              \n",
       "                sum  count  share\n",
       "country                          \n",
       "PRT            7105  19894  35.71\n",
       "GBR            1595   7619  20.93\n",
       "FRA            1530   7812  19.59"
      ]
     },
     "metadata": {},
     "output_type": "display_data"
    },
    {
     "data": {
      "text/html": [
       "<div>\n",
       "<style scoped>\n",
       "    .dataframe tbody tr th:only-of-type {\n",
       "        vertical-align: middle;\n",
       "    }\n",
       "\n",
       "    .dataframe tbody tr th {\n",
       "        vertical-align: top;\n",
       "    }\n",
       "\n",
       "    .dataframe thead tr th {\n",
       "        text-align: left;\n",
       "    }\n",
       "\n",
       "    .dataframe thead tr:last-of-type th {\n",
       "        text-align: right;\n",
       "    }\n",
       "</style>\n",
       "<table border=\"1\" class=\"dataframe\">\n",
       "  <thead>\n",
       "    <tr>\n",
       "      <th></th>\n",
       "      <th colspan=\"3\" halign=\"left\">is_canceled</th>\n",
       "    </tr>\n",
       "    <tr>\n",
       "      <th></th>\n",
       "      <th>sum</th>\n",
       "      <th>count</th>\n",
       "      <th>share</th>\n",
       "    </tr>\n",
       "    <tr>\n",
       "      <th>distribution_channel</th>\n",
       "      <th></th>\n",
       "      <th></th>\n",
       "      <th></th>\n",
       "    </tr>\n",
       "  </thead>\n",
       "  <tbody>\n",
       "    <tr>\n",
       "      <th>TA/TO</th>\n",
       "      <td>17115</td>\n",
       "      <td>55385</td>\n",
       "      <td>30.90</td>\n",
       "    </tr>\n",
       "    <tr>\n",
       "      <th>Direct</th>\n",
       "      <td>1277</td>\n",
       "      <td>9003</td>\n",
       "      <td>14.18</td>\n",
       "    </tr>\n",
       "    <tr>\n",
       "      <th>Corporate</th>\n",
       "      <td>511</td>\n",
       "      <td>3966</td>\n",
       "      <td>12.88</td>\n",
       "    </tr>\n",
       "  </tbody>\n",
       "</table>\n",
       "</div>"
      ],
      "text/plain": [
       "                     is_canceled              \n",
       "                             sum  count  share\n",
       "distribution_channel                          \n",
       "TA/TO                      17115  55385  30.90\n",
       "Direct                      1277   9003  14.18\n",
       "Corporate                    511   3966  12.88"
      ]
     },
     "metadata": {},
     "output_type": "display_data"
    },
    {
     "data": {
      "text/html": [
       "<div>\n",
       "<style scoped>\n",
       "    .dataframe tbody tr th:only-of-type {\n",
       "        vertical-align: middle;\n",
       "    }\n",
       "\n",
       "    .dataframe tbody tr th {\n",
       "        vertical-align: top;\n",
       "    }\n",
       "\n",
       "    .dataframe thead tr th {\n",
       "        text-align: left;\n",
       "    }\n",
       "\n",
       "    .dataframe thead tr:last-of-type th {\n",
       "        text-align: right;\n",
       "    }\n",
       "</style>\n",
       "<table border=\"1\" class=\"dataframe\">\n",
       "  <thead>\n",
       "    <tr>\n",
       "      <th></th>\n",
       "      <th colspan=\"3\" halign=\"left\">is_canceled</th>\n",
       "    </tr>\n",
       "    <tr>\n",
       "      <th></th>\n",
       "      <th>sum</th>\n",
       "      <th>count</th>\n",
       "      <th>share</th>\n",
       "    </tr>\n",
       "    <tr>\n",
       "      <th>is_repeated_guest</th>\n",
       "      <th></th>\n",
       "      <th></th>\n",
       "      <th></th>\n",
       "    </tr>\n",
       "  </thead>\n",
       "  <tbody>\n",
       "    <tr>\n",
       "      <th>0</th>\n",
       "      <td>18714</td>\n",
       "      <td>66080</td>\n",
       "      <td>28.32</td>\n",
       "    </tr>\n",
       "    <tr>\n",
       "      <th>1</th>\n",
       "      <td>219</td>\n",
       "      <td>2443</td>\n",
       "      <td>8.96</td>\n",
       "    </tr>\n",
       "  </tbody>\n",
       "</table>\n",
       "</div>"
      ],
      "text/plain": [
       "                  is_canceled              \n",
       "                          sum  count  share\n",
       "is_repeated_guest                          \n",
       "0                       18714  66080  28.32\n",
       "1                         219   2443   8.96"
      ]
     },
     "metadata": {},
     "output_type": "display_data"
    },
    {
     "data": {
      "text/html": [
       "<div>\n",
       "<style scoped>\n",
       "    .dataframe tbody tr th:only-of-type {\n",
       "        vertical-align: middle;\n",
       "    }\n",
       "\n",
       "    .dataframe tbody tr th {\n",
       "        vertical-align: top;\n",
       "    }\n",
       "\n",
       "    .dataframe thead tr th {\n",
       "        text-align: left;\n",
       "    }\n",
       "\n",
       "    .dataframe thead tr:last-of-type th {\n",
       "        text-align: right;\n",
       "    }\n",
       "</style>\n",
       "<table border=\"1\" class=\"dataframe\">\n",
       "  <thead>\n",
       "    <tr>\n",
       "      <th></th>\n",
       "      <th colspan=\"3\" halign=\"left\">is_canceled</th>\n",
       "    </tr>\n",
       "    <tr>\n",
       "      <th></th>\n",
       "      <th>sum</th>\n",
       "      <th>count</th>\n",
       "      <th>share</th>\n",
       "    </tr>\n",
       "    <tr>\n",
       "      <th>previous_cancellations</th>\n",
       "      <th></th>\n",
       "      <th></th>\n",
       "      <th></th>\n",
       "    </tr>\n",
       "  </thead>\n",
       "  <tbody>\n",
       "    <tr>\n",
       "      <th>0</th>\n",
       "      <td>17991</td>\n",
       "      <td>67150</td>\n",
       "      <td>26.79</td>\n",
       "    </tr>\n",
       "    <tr>\n",
       "      <th>1</th>\n",
       "      <td>884</td>\n",
       "      <td>1156</td>\n",
       "      <td>76.47</td>\n",
       "    </tr>\n",
       "    <tr>\n",
       "      <th>2</th>\n",
       "      <td>25</td>\n",
       "      <td>81</td>\n",
       "      <td>30.86</td>\n",
       "    </tr>\n",
       "  </tbody>\n",
       "</table>\n",
       "</div>"
      ],
      "text/plain": [
       "                       is_canceled              \n",
       "                               sum  count  share\n",
       "previous_cancellations                          \n",
       "0                            17991  67150  26.79\n",
       "1                              884   1156  76.47\n",
       "2                               25     81  30.86"
      ]
     },
     "metadata": {},
     "output_type": "display_data"
    },
    {
     "data": {
      "text/html": [
       "<div>\n",
       "<style scoped>\n",
       "    .dataframe tbody tr th:only-of-type {\n",
       "        vertical-align: middle;\n",
       "    }\n",
       "\n",
       "    .dataframe tbody tr th {\n",
       "        vertical-align: top;\n",
       "    }\n",
       "\n",
       "    .dataframe thead tr th {\n",
       "        text-align: left;\n",
       "    }\n",
       "\n",
       "    .dataframe thead tr:last-of-type th {\n",
       "        text-align: right;\n",
       "    }\n",
       "</style>\n",
       "<table border=\"1\" class=\"dataframe\">\n",
       "  <thead>\n",
       "    <tr>\n",
       "      <th></th>\n",
       "      <th colspan=\"3\" halign=\"left\">is_canceled</th>\n",
       "    </tr>\n",
       "    <tr>\n",
       "      <th></th>\n",
       "      <th>sum</th>\n",
       "      <th>count</th>\n",
       "      <th>share</th>\n",
       "    </tr>\n",
       "    <tr>\n",
       "      <th>previous_bookings_not_canceled</th>\n",
       "      <th></th>\n",
       "      <th></th>\n",
       "      <th></th>\n",
       "    </tr>\n",
       "  </thead>\n",
       "  <tbody>\n",
       "    <tr>\n",
       "      <th>0</th>\n",
       "      <td>18803</td>\n",
       "      <td>66011</td>\n",
       "      <td>28.48</td>\n",
       "    </tr>\n",
       "    <tr>\n",
       "      <th>1</th>\n",
       "      <td>48</td>\n",
       "      <td>1004</td>\n",
       "      <td>4.78</td>\n",
       "    </tr>\n",
       "    <tr>\n",
       "      <th>2</th>\n",
       "      <td>24</td>\n",
       "      <td>411</td>\n",
       "      <td>5.84</td>\n",
       "    </tr>\n",
       "  </tbody>\n",
       "</table>\n",
       "</div>"
      ],
      "text/plain": [
       "                               is_canceled              \n",
       "                                       sum  count  share\n",
       "previous_bookings_not_canceled                          \n",
       "0                                    18803  66011  28.48\n",
       "1                                       48   1004   4.78\n",
       "2                                       24    411   5.84"
      ]
     },
     "metadata": {},
     "output_type": "display_data"
    },
    {
     "data": {
      "text/html": [
       "<div>\n",
       "<style scoped>\n",
       "    .dataframe tbody tr th:only-of-type {\n",
       "        vertical-align: middle;\n",
       "    }\n",
       "\n",
       "    .dataframe tbody tr th {\n",
       "        vertical-align: top;\n",
       "    }\n",
       "\n",
       "    .dataframe thead tr th {\n",
       "        text-align: left;\n",
       "    }\n",
       "\n",
       "    .dataframe thead tr:last-of-type th {\n",
       "        text-align: right;\n",
       "    }\n",
       "</style>\n",
       "<table border=\"1\" class=\"dataframe\">\n",
       "  <thead>\n",
       "    <tr>\n",
       "      <th></th>\n",
       "      <th colspan=\"3\" halign=\"left\">is_canceled</th>\n",
       "    </tr>\n",
       "    <tr>\n",
       "      <th></th>\n",
       "      <th>sum</th>\n",
       "      <th>count</th>\n",
       "      <th>share</th>\n",
       "    </tr>\n",
       "    <tr>\n",
       "      <th>reserved_room_type</th>\n",
       "      <th></th>\n",
       "      <th></th>\n",
       "      <th></th>\n",
       "    </tr>\n",
       "  </thead>\n",
       "  <tbody>\n",
       "    <tr>\n",
       "      <th>A</th>\n",
       "      <td>12496</td>\n",
       "      <td>47071</td>\n",
       "      <td>26.55</td>\n",
       "    </tr>\n",
       "    <tr>\n",
       "      <th>D</th>\n",
       "      <td>4242</td>\n",
       "      <td>13852</td>\n",
       "      <td>30.62</td>\n",
       "    </tr>\n",
       "    <tr>\n",
       "      <th>E</th>\n",
       "      <td>987</td>\n",
       "      <td>3740</td>\n",
       "      <td>26.39</td>\n",
       "    </tr>\n",
       "  </tbody>\n",
       "</table>\n",
       "</div>"
      ],
      "text/plain": [
       "                   is_canceled              \n",
       "                           sum  count  share\n",
       "reserved_room_type                          \n",
       "A                        12496  47071  26.55\n",
       "D                         4242  13852  30.62\n",
       "E                          987   3740  26.39"
      ]
     },
     "metadata": {},
     "output_type": "display_data"
    },
    {
     "data": {
      "text/html": [
       "<div>\n",
       "<style scoped>\n",
       "    .dataframe tbody tr th:only-of-type {\n",
       "        vertical-align: middle;\n",
       "    }\n",
       "\n",
       "    .dataframe tbody tr th {\n",
       "        vertical-align: top;\n",
       "    }\n",
       "\n",
       "    .dataframe thead tr th {\n",
       "        text-align: left;\n",
       "    }\n",
       "\n",
       "    .dataframe thead tr:last-of-type th {\n",
       "        text-align: right;\n",
       "    }\n",
       "</style>\n",
       "<table border=\"1\" class=\"dataframe\">\n",
       "  <thead>\n",
       "    <tr>\n",
       "      <th></th>\n",
       "      <th colspan=\"3\" halign=\"left\">is_canceled</th>\n",
       "    </tr>\n",
       "    <tr>\n",
       "      <th></th>\n",
       "      <th>sum</th>\n",
       "      <th>count</th>\n",
       "      <th>share</th>\n",
       "    </tr>\n",
       "    <tr>\n",
       "      <th>booking_changes</th>\n",
       "      <th></th>\n",
       "      <th></th>\n",
       "      <th></th>\n",
       "    </tr>\n",
       "  </thead>\n",
       "  <tbody>\n",
       "    <tr>\n",
       "      <th>0</th>\n",
       "      <td>17115</td>\n",
       "      <td>56877</td>\n",
       "      <td>30.09</td>\n",
       "    </tr>\n",
       "    <tr>\n",
       "      <th>1</th>\n",
       "      <td>1063</td>\n",
       "      <td>7979</td>\n",
       "      <td>13.32</td>\n",
       "    </tr>\n",
       "    <tr>\n",
       "      <th>2</th>\n",
       "      <td>566</td>\n",
       "      <td>2639</td>\n",
       "      <td>21.45</td>\n",
       "    </tr>\n",
       "  </tbody>\n",
       "</table>\n",
       "</div>"
      ],
      "text/plain": [
       "                is_canceled              \n",
       "                        sum  count  share\n",
       "booking_changes                          \n",
       "0                     17115  56877  30.09\n",
       "1                      1063   7979  13.32\n",
       "2                       566   2639  21.45"
      ]
     },
     "metadata": {},
     "output_type": "display_data"
    },
    {
     "data": {
      "text/html": [
       "<div>\n",
       "<style scoped>\n",
       "    .dataframe tbody tr th:only-of-type {\n",
       "        vertical-align: middle;\n",
       "    }\n",
       "\n",
       "    .dataframe tbody tr th {\n",
       "        vertical-align: top;\n",
       "    }\n",
       "\n",
       "    .dataframe thead tr th {\n",
       "        text-align: left;\n",
       "    }\n",
       "\n",
       "    .dataframe thead tr:last-of-type th {\n",
       "        text-align: right;\n",
       "    }\n",
       "</style>\n",
       "<table border=\"1\" class=\"dataframe\">\n",
       "  <thead>\n",
       "    <tr>\n",
       "      <th></th>\n",
       "      <th colspan=\"3\" halign=\"left\">is_canceled</th>\n",
       "    </tr>\n",
       "    <tr>\n",
       "      <th></th>\n",
       "      <th>sum</th>\n",
       "      <th>count</th>\n",
       "      <th>share</th>\n",
       "    </tr>\n",
       "    <tr>\n",
       "      <th>days_in_waiting_list</th>\n",
       "      <th></th>\n",
       "      <th></th>\n",
       "      <th></th>\n",
       "    </tr>\n",
       "  </thead>\n",
       "  <tbody>\n",
       "    <tr>\n",
       "      <th>0</th>\n",
       "      <td>18676</td>\n",
       "      <td>67868</td>\n",
       "      <td>27.52</td>\n",
       "    </tr>\n",
       "    <tr>\n",
       "      <th>31</th>\n",
       "      <td>10</td>\n",
       "      <td>11</td>\n",
       "      <td>90.91</td>\n",
       "    </tr>\n",
       "    <tr>\n",
       "      <th>44</th>\n",
       "      <td>8</td>\n",
       "      <td>18</td>\n",
       "      <td>44.44</td>\n",
       "    </tr>\n",
       "  </tbody>\n",
       "</table>\n",
       "</div>"
      ],
      "text/plain": [
       "                     is_canceled              \n",
       "                             sum  count  share\n",
       "days_in_waiting_list                          \n",
       "0                          18676  67868  27.52\n",
       "31                            10     11  90.91\n",
       "44                             8     18  44.44"
      ]
     },
     "metadata": {},
     "output_type": "display_data"
    },
    {
     "data": {
      "text/html": [
       "<div>\n",
       "<style scoped>\n",
       "    .dataframe tbody tr th:only-of-type {\n",
       "        vertical-align: middle;\n",
       "    }\n",
       "\n",
       "    .dataframe tbody tr th {\n",
       "        vertical-align: top;\n",
       "    }\n",
       "\n",
       "    .dataframe thead tr th {\n",
       "        text-align: left;\n",
       "    }\n",
       "\n",
       "    .dataframe thead tr:last-of-type th {\n",
       "        text-align: right;\n",
       "    }\n",
       "</style>\n",
       "<table border=\"1\" class=\"dataframe\">\n",
       "  <thead>\n",
       "    <tr>\n",
       "      <th></th>\n",
       "      <th colspan=\"3\" halign=\"left\">is_canceled</th>\n",
       "    </tr>\n",
       "    <tr>\n",
       "      <th></th>\n",
       "      <th>sum</th>\n",
       "      <th>count</th>\n",
       "      <th>share</th>\n",
       "    </tr>\n",
       "    <tr>\n",
       "      <th>customer_type</th>\n",
       "      <th></th>\n",
       "      <th></th>\n",
       "      <th></th>\n",
       "    </tr>\n",
       "  </thead>\n",
       "  <tbody>\n",
       "    <tr>\n",
       "      <th>Transient</th>\n",
       "      <td>17133</td>\n",
       "      <td>57310</td>\n",
       "      <td>29.90</td>\n",
       "    </tr>\n",
       "    <tr>\n",
       "      <th>Transient-Party</th>\n",
       "      <td>1361</td>\n",
       "      <td>8588</td>\n",
       "      <td>15.85</td>\n",
       "    </tr>\n",
       "    <tr>\n",
       "      <th>Contract</th>\n",
       "      <td>412</td>\n",
       "      <td>2208</td>\n",
       "      <td>18.66</td>\n",
       "    </tr>\n",
       "  </tbody>\n",
       "</table>\n",
       "</div>"
      ],
      "text/plain": [
       "                is_canceled              \n",
       "                        sum  count  share\n",
       "customer_type                            \n",
       "Transient             17133  57310  29.90\n",
       "Transient-Party        1361   8588  15.85\n",
       "Contract                412   2208  18.66"
      ]
     },
     "metadata": {},
     "output_type": "display_data"
    },
    {
     "data": {
      "text/html": [
       "<div>\n",
       "<style scoped>\n",
       "    .dataframe tbody tr th:only-of-type {\n",
       "        vertical-align: middle;\n",
       "    }\n",
       "\n",
       "    .dataframe tbody tr th {\n",
       "        vertical-align: top;\n",
       "    }\n",
       "\n",
       "    .dataframe thead tr th {\n",
       "        text-align: left;\n",
       "    }\n",
       "\n",
       "    .dataframe thead tr:last-of-type th {\n",
       "        text-align: right;\n",
       "    }\n",
       "</style>\n",
       "<table border=\"1\" class=\"dataframe\">\n",
       "  <thead>\n",
       "    <tr>\n",
       "      <th></th>\n",
       "      <th colspan=\"3\" halign=\"left\">is_canceled</th>\n",
       "    </tr>\n",
       "    <tr>\n",
       "      <th></th>\n",
       "      <th>sum</th>\n",
       "      <th>count</th>\n",
       "      <th>share</th>\n",
       "    </tr>\n",
       "    <tr>\n",
       "      <th>required_car_parking_spaces</th>\n",
       "      <th></th>\n",
       "      <th></th>\n",
       "      <th></th>\n",
       "    </tr>\n",
       "  </thead>\n",
       "  <tbody>\n",
       "    <tr>\n",
       "      <th>0</th>\n",
       "      <td>18933</td>\n",
       "      <td>63477</td>\n",
       "      <td>29.83</td>\n",
       "    </tr>\n",
       "    <tr>\n",
       "      <th>1</th>\n",
       "      <td>0</td>\n",
       "      <td>5025</td>\n",
       "      <td>0.00</td>\n",
       "    </tr>\n",
       "    <tr>\n",
       "      <th>2</th>\n",
       "      <td>0</td>\n",
       "      <td>17</td>\n",
       "      <td>0.00</td>\n",
       "    </tr>\n",
       "  </tbody>\n",
       "</table>\n",
       "</div>"
      ],
      "text/plain": [
       "                            is_canceled              \n",
       "                                    sum  count  share\n",
       "required_car_parking_spaces                          \n",
       "0                                 18933  63477  29.83\n",
       "1                                     0   5025   0.00\n",
       "2                                     0     17   0.00"
      ]
     },
     "metadata": {},
     "output_type": "display_data"
    },
    {
     "data": {
      "text/html": [
       "<div>\n",
       "<style scoped>\n",
       "    .dataframe tbody tr th:only-of-type {\n",
       "        vertical-align: middle;\n",
       "    }\n",
       "\n",
       "    .dataframe tbody tr th {\n",
       "        vertical-align: top;\n",
       "    }\n",
       "\n",
       "    .dataframe thead tr th {\n",
       "        text-align: left;\n",
       "    }\n",
       "\n",
       "    .dataframe thead tr:last-of-type th {\n",
       "        text-align: right;\n",
       "    }\n",
       "</style>\n",
       "<table border=\"1\" class=\"dataframe\">\n",
       "  <thead>\n",
       "    <tr>\n",
       "      <th></th>\n",
       "      <th colspan=\"3\" halign=\"left\">is_canceled</th>\n",
       "    </tr>\n",
       "    <tr>\n",
       "      <th></th>\n",
       "      <th>sum</th>\n",
       "      <th>count</th>\n",
       "      <th>share</th>\n",
       "    </tr>\n",
       "    <tr>\n",
       "      <th>total_of_special_requests</th>\n",
       "      <th></th>\n",
       "      <th></th>\n",
       "      <th></th>\n",
       "    </tr>\n",
       "  </thead>\n",
       "  <tbody>\n",
       "    <tr>\n",
       "      <th>0</th>\n",
       "      <td>11459</td>\n",
       "      <td>33908</td>\n",
       "      <td>33.79</td>\n",
       "    </tr>\n",
       "    <tr>\n",
       "      <th>1</th>\n",
       "      <td>5145</td>\n",
       "      <td>23268</td>\n",
       "      <td>22.11</td>\n",
       "    </tr>\n",
       "    <tr>\n",
       "      <th>2</th>\n",
       "      <td>1984</td>\n",
       "      <td>9326</td>\n",
       "      <td>21.27</td>\n",
       "    </tr>\n",
       "  </tbody>\n",
       "</table>\n",
       "</div>"
      ],
      "text/plain": [
       "                          is_canceled              \n",
       "                                  sum  count  share\n",
       "total_of_special_requests                          \n",
       "0                               11459  33908  33.79\n",
       "1                                5145  23268  22.11\n",
       "2                                1984   9326  21.27"
      ]
     },
     "metadata": {},
     "output_type": "display_data"
    },
    {
     "data": {
      "text/html": [
       "<div>\n",
       "<style scoped>\n",
       "    .dataframe tbody tr th:only-of-type {\n",
       "        vertical-align: middle;\n",
       "    }\n",
       "\n",
       "    .dataframe tbody tr th {\n",
       "        vertical-align: top;\n",
       "    }\n",
       "\n",
       "    .dataframe thead tr th {\n",
       "        text-align: left;\n",
       "    }\n",
       "\n",
       "    .dataframe thead tr:last-of-type th {\n",
       "        text-align: right;\n",
       "    }\n",
       "</style>\n",
       "<table border=\"1\" class=\"dataframe\">\n",
       "  <thead>\n",
       "    <tr>\n",
       "      <th></th>\n",
       "      <th colspan=\"3\" halign=\"left\">is_canceled</th>\n",
       "    </tr>\n",
       "    <tr>\n",
       "      <th></th>\n",
       "      <th>sum</th>\n",
       "      <th>count</th>\n",
       "      <th>share</th>\n",
       "    </tr>\n",
       "    <tr>\n",
       "      <th>total_nights</th>\n",
       "      <th></th>\n",
       "      <th></th>\n",
       "      <th></th>\n",
       "    </tr>\n",
       "  </thead>\n",
       "  <tbody>\n",
       "    <tr>\n",
       "      <th>3</th>\n",
       "      <td>4685</td>\n",
       "      <td>15504</td>\n",
       "      <td>30.22</td>\n",
       "    </tr>\n",
       "    <tr>\n",
       "      <th>4</th>\n",
       "      <td>3618</td>\n",
       "      <td>11780</td>\n",
       "      <td>30.71</td>\n",
       "    </tr>\n",
       "    <tr>\n",
       "      <th>2</th>\n",
       "      <td>3578</td>\n",
       "      <td>12981</td>\n",
       "      <td>27.56</td>\n",
       "    </tr>\n",
       "  </tbody>\n",
       "</table>\n",
       "</div>"
      ],
      "text/plain": [
       "             is_canceled              \n",
       "                     sum  count  share\n",
       "total_nights                          \n",
       "3                   4685  15504  30.22\n",
       "4                   3618  11780  30.71\n",
       "2                   3578  12981  27.56"
      ]
     },
     "metadata": {},
     "output_type": "display_data"
    }
   ],
   "source": [
    "for colum_name in data_dict['train_data'].columns:\n",
    "\n",
    "    table = general_data.groupby([colum_name]).agg({'is_canceled': ['sum', 'count']}).sort_values(by=[('is_canceled', 'sum')], ascending=False).head(3)\n",
    "    table[('is_canceled', 'share')] = round(table[('is_canceled', 'sum')] / (table[('is_canceled', 'count')]/100), 2)\n",
    "    display(pd.DataFrame(table))"
   ]
  },
  {
   "cell_type": "markdown",
   "metadata": {},
   "source": [
    "Ненадежный клиент как правило :\n",
    "\n",
    " 1. Как правило бронирует номер на двоих персон\n",
    " 2. Без детей\n",
    " 3. Предпочитает питание BB\n",
    " 4. Из Португалии\n",
    " 5. Сразу подтверждает заказ\n",
    " 6. Не делает специальных запросов\n",
    " 7. Канал дистрибуции заказа TA/TO\n",
    " 8. Бронирует впервые\n",
    " 9. Предпочитает тип А номера\n",
    " 10. Не изменяет бронирование\n",
    " 11. Не указывает надобность парковочного номера"
   ]
  },
  {
   "cell_type": "markdown",
   "metadata": {},
   "source": [
    "### Шаг 6. Напишите общий вывод"
   ]
  },
  {
   "cell_type": "markdown",
   "metadata": {},
   "source": [
    "Мы загрузили данные и ознакомились с ними. Привели данные к нужным типам, закодировали столбцы содержащие категоральные значения, ознакомились с распределение целевого признака, отфильтровали данные от выбросов, нашли признаки с которыми коррелирует целевой признак.\n",
    "\n",
    "Затем мы подсчитали прибыль которую получает сеть отелей без внедрение модели, подсчитали какие убытки несет сеть.\n",
    "\n",
    "\n",
    "Мы попробовали несколько видов моделей на тренировочной выборке и выяснили что модель DecisionTreeClassifier(class_weight='balanced', max_depth=4, max_features=11,\n",
    "                       random_state=12345) с параметрами {'dtc__class_weight': 'balanced', 'dtc__max_depth': 4, 'dtc__max_features': 11} показала наилучший результат. \n",
    "\n",
    "Метрика по которой мы выбирали модель это максимальные TP и минимальные FN показатели, если рассматривать метрику с точки зрения бизнеса нам нужна модель которая предскажет как можно больше TP целевых значений, в тоже время модель должна давать как можно меньше FN прогнозов чтобы не принуждать \"надежных клиентов\" вносить предоплату.\n",
    "\n",
    "Для повышения метрики мы использовали поиск по сетке параметров и повысили точность модели. Так же мы подсчитали что наша модель принесет прибыль в размере 7641968.0 с учетом затрат  на разработку. И наконец мы составили портрет ненадежного клиента:\n",
    "\n",
    "\n",
    "Ненадежный клиент как правило :\n",
    "\n",
    " 1. Бронирует номер на двоих персон\n",
    " 2. Без детей\n",
    " 3. Предпочитает питание BB\n",
    " 4. Из Португалии\n",
    " 5. Сразу подтверждает заказ\n",
    " 6. Не делает специальных запросов\n",
    " 7. Канал дистрибуции заказа TA/TO\n",
    " 8. Бронирует впервые\n",
    " 9. Предпочитает тип А номера\n",
    " 10. Не изменяет бронирование\n",
    " 11. Не указывает надобность парковочного номера"
   ]
  }
 ],
 "metadata": {
  "ExecuteTimeLog": [
   {
    "duration": 338,
    "start_time": "2022-10-24T09:03:42.351Z"
   },
   {
    "duration": 568,
    "start_time": "2022-10-24T09:04:14.849Z"
   },
   {
    "duration": 430,
    "start_time": "2022-10-24T09:04:50.871Z"
   },
   {
    "duration": 26,
    "start_time": "2022-10-24T09:05:17.643Z"
   },
   {
    "duration": 56,
    "start_time": "2022-10-24T09:05:35.350Z"
   },
   {
    "duration": 225,
    "start_time": "2022-10-24T09:05:38.494Z"
   },
   {
    "duration": 20,
    "start_time": "2022-10-24T09:05:38.921Z"
   },
   {
    "duration": 7,
    "start_time": "2022-10-24T09:05:39.339Z"
   },
   {
    "duration": 199,
    "start_time": "2022-10-24T09:05:45.981Z"
   },
   {
    "duration": 18,
    "start_time": "2022-10-24T09:05:46.413Z"
   },
   {
    "duration": 16,
    "start_time": "2022-10-24T09:05:46.952Z"
   },
   {
    "duration": 5,
    "start_time": "2022-10-24T09:08:16.396Z"
   },
   {
    "duration": 4,
    "start_time": "2022-10-24T09:08:22.464Z"
   },
   {
    "duration": 4,
    "start_time": "2022-10-24T09:08:35.102Z"
   },
   {
    "duration": 3,
    "start_time": "2022-10-24T09:08:48.718Z"
   },
   {
    "duration": 7,
    "start_time": "2022-10-24T09:09:55.124Z"
   },
   {
    "duration": 6,
    "start_time": "2022-10-24T09:10:03.955Z"
   },
   {
    "duration": 8,
    "start_time": "2022-10-24T09:10:27.244Z"
   },
   {
    "duration": 54,
    "start_time": "2022-10-25T02:07:23.849Z"
   },
   {
    "duration": 442,
    "start_time": "2022-10-25T02:07:27.832Z"
   },
   {
    "duration": 558,
    "start_time": "2022-10-25T02:07:28.277Z"
   },
   {
    "duration": 35,
    "start_time": "2022-10-25T02:07:28.837Z"
   },
   {
    "duration": 26,
    "start_time": "2022-10-25T02:07:28.951Z"
   },
   {
    "duration": 4,
    "start_time": "2022-10-25T02:07:29.929Z"
   },
   {
    "duration": 15,
    "start_time": "2022-10-25T02:07:30.360Z"
   },
   {
    "duration": 60,
    "start_time": "2022-10-25T02:07:30.811Z"
   },
   {
    "duration": 39,
    "start_time": "2022-10-25T02:07:37.627Z"
   },
   {
    "duration": 19,
    "start_time": "2022-10-25T02:07:52.192Z"
   },
   {
    "duration": 29,
    "start_time": "2022-10-25T02:08:22.804Z"
   },
   {
    "duration": 14,
    "start_time": "2022-10-25T02:08:29.166Z"
   },
   {
    "duration": 9,
    "start_time": "2022-10-25T02:08:36.669Z"
   },
   {
    "duration": 11,
    "start_time": "2022-10-25T02:08:40.120Z"
   },
   {
    "duration": 17,
    "start_time": "2022-10-25T02:09:00.057Z"
   },
   {
    "duration": 107,
    "start_time": "2022-10-25T02:09:04.631Z"
   },
   {
    "duration": 96,
    "start_time": "2022-10-25T02:10:50.545Z"
   },
   {
    "duration": 28,
    "start_time": "2022-10-25T02:11:23.897Z"
   },
   {
    "duration": 6,
    "start_time": "2022-10-25T02:14:02.972Z"
   },
   {
    "duration": 5,
    "start_time": "2022-10-25T02:14:15.701Z"
   },
   {
    "duration": 4,
    "start_time": "2022-10-25T02:14:37.481Z"
   },
   {
    "duration": 8,
    "start_time": "2022-10-25T02:14:44.084Z"
   },
   {
    "duration": 8,
    "start_time": "2022-10-25T02:15:11.400Z"
   },
   {
    "duration": 6,
    "start_time": "2022-10-25T02:15:44.711Z"
   },
   {
    "duration": 7,
    "start_time": "2022-10-25T02:15:45.028Z"
   },
   {
    "duration": 28,
    "start_time": "2022-10-25T02:17:50.080Z"
   },
   {
    "duration": 12,
    "start_time": "2022-10-25T02:17:50.655Z"
   },
   {
    "duration": 7,
    "start_time": "2022-10-25T02:17:51.820Z"
   },
   {
    "duration": 34,
    "start_time": "2022-10-25T02:17:57.497Z"
   },
   {
    "duration": 27,
    "start_time": "2022-10-25T02:18:15.143Z"
   },
   {
    "duration": 26,
    "start_time": "2022-10-25T02:18:53.208Z"
   },
   {
    "duration": 8,
    "start_time": "2022-10-25T02:18:53.973Z"
   },
   {
    "duration": 23,
    "start_time": "2022-10-25T02:18:57.481Z"
   },
   {
    "duration": 8,
    "start_time": "2022-10-25T02:19:43.165Z"
   },
   {
    "duration": 6,
    "start_time": "2022-10-25T02:19:55.678Z"
   },
   {
    "duration": 5,
    "start_time": "2022-10-25T02:20:10.445Z"
   },
   {
    "duration": 7,
    "start_time": "2022-10-25T02:20:33.048Z"
   },
   {
    "duration": 5,
    "start_time": "2022-10-25T02:20:48.875Z"
   },
   {
    "duration": 6,
    "start_time": "2022-10-25T02:21:14.709Z"
   },
   {
    "duration": 6,
    "start_time": "2022-10-25T02:21:40.776Z"
   },
   {
    "duration": 6,
    "start_time": "2022-10-25T02:22:00.987Z"
   },
   {
    "duration": 8,
    "start_time": "2022-10-25T02:22:24.863Z"
   },
   {
    "duration": 5,
    "start_time": "2022-10-25T02:22:33.086Z"
   },
   {
    "duration": 5,
    "start_time": "2022-10-25T02:22:39.672Z"
   },
   {
    "duration": 6,
    "start_time": "2022-10-25T02:22:46.218Z"
   },
   {
    "duration": 10,
    "start_time": "2022-10-25T02:24:11.205Z"
   },
   {
    "duration": 6,
    "start_time": "2022-10-25T02:25:48.941Z"
   },
   {
    "duration": 6,
    "start_time": "2022-10-25T02:25:55.968Z"
   },
   {
    "duration": 5,
    "start_time": "2022-10-25T02:26:17.229Z"
   },
   {
    "duration": 7,
    "start_time": "2022-10-25T02:26:17.598Z"
   },
   {
    "duration": 9,
    "start_time": "2022-10-25T02:26:29.208Z"
   },
   {
    "duration": 20,
    "start_time": "2022-10-25T02:27:31.165Z"
   },
   {
    "duration": 49,
    "start_time": "2022-10-25T02:28:40.056Z"
   },
   {
    "duration": 12,
    "start_time": "2022-10-25T02:28:40.860Z"
   },
   {
    "duration": 6,
    "start_time": "2022-10-25T02:30:00.749Z"
   },
   {
    "duration": 7,
    "start_time": "2022-10-25T02:30:24.474Z"
   },
   {
    "duration": 5,
    "start_time": "2022-10-25T02:30:35.695Z"
   },
   {
    "duration": 6,
    "start_time": "2022-10-25T02:30:45.230Z"
   },
   {
    "duration": 5,
    "start_time": "2022-10-25T02:30:54.488Z"
   },
   {
    "duration": 8,
    "start_time": "2022-10-25T02:31:04.220Z"
   },
   {
    "duration": 80,
    "start_time": "2022-10-25T02:31:16.969Z"
   },
   {
    "duration": 8,
    "start_time": "2022-10-25T02:31:17.600Z"
   },
   {
    "duration": 83,
    "start_time": "2022-10-25T02:31:20.639Z"
   },
   {
    "duration": 7,
    "start_time": "2022-10-25T02:31:28.122Z"
   },
   {
    "duration": 7,
    "start_time": "2022-10-25T02:33:42.071Z"
   },
   {
    "duration": 5,
    "start_time": "2022-10-25T02:34:02.630Z"
   },
   {
    "duration": 5,
    "start_time": "2022-10-25T02:34:17.140Z"
   },
   {
    "duration": 5,
    "start_time": "2022-10-25T02:34:24.810Z"
   },
   {
    "duration": 10,
    "start_time": "2022-10-25T02:34:54.887Z"
   },
   {
    "duration": 7,
    "start_time": "2022-10-25T02:35:02.181Z"
   },
   {
    "duration": 15,
    "start_time": "2022-10-25T02:35:11.850Z"
   },
   {
    "duration": 7,
    "start_time": "2022-10-25T02:36:32.759Z"
   },
   {
    "duration": 3,
    "start_time": "2022-10-25T02:37:16.481Z"
   },
   {
    "duration": 261,
    "start_time": "2022-10-25T02:37:16.812Z"
   },
   {
    "duration": 6,
    "start_time": "2022-10-25T02:42:18.439Z"
   },
   {
    "duration": 89,
    "start_time": "2022-10-25T02:42:23.583Z"
   },
   {
    "duration": 105,
    "start_time": "2022-10-25T02:42:29.684Z"
   },
   {
    "duration": 8,
    "start_time": "2022-10-25T02:45:56.464Z"
   },
   {
    "duration": 10,
    "start_time": "2022-10-25T02:45:58.910Z"
   },
   {
    "duration": 8,
    "start_time": "2022-10-25T02:46:03.674Z"
   },
   {
    "duration": 10,
    "start_time": "2022-10-25T02:46:07.138Z"
   },
   {
    "duration": 8,
    "start_time": "2022-10-25T02:46:15.378Z"
   },
   {
    "duration": 8,
    "start_time": "2022-10-25T02:46:17.975Z"
   },
   {
    "duration": 8,
    "start_time": "2022-10-25T02:46:20.502Z"
   },
   {
    "duration": 5,
    "start_time": "2022-10-25T02:46:39.517Z"
   },
   {
    "duration": 25,
    "start_time": "2022-10-25T02:48:37.200Z"
   },
   {
    "duration": 375,
    "start_time": "2022-10-25T02:50:58.849Z"
   },
   {
    "duration": 390,
    "start_time": "2022-10-25T02:51:26.407Z"
   },
   {
    "duration": 7,
    "start_time": "2022-10-25T02:53:16.085Z"
   },
   {
    "duration": 16,
    "start_time": "2022-10-25T02:55:42.561Z"
   },
   {
    "duration": 26,
    "start_time": "2022-10-25T02:56:00.722Z"
   },
   {
    "duration": 113,
    "start_time": "2022-10-25T02:59:57.981Z"
   },
   {
    "duration": 14,
    "start_time": "2022-10-25T03:02:23.994Z"
   },
   {
    "duration": 21,
    "start_time": "2022-10-25T03:03:29.574Z"
   },
   {
    "duration": 149,
    "start_time": "2022-10-25T03:03:36.678Z"
   },
   {
    "duration": 35,
    "start_time": "2022-10-25T03:04:43.977Z"
   },
   {
    "duration": 181,
    "start_time": "2022-10-25T03:04:44.559Z"
   },
   {
    "duration": 441,
    "start_time": "2022-10-25T03:04:56.875Z"
   },
   {
    "duration": 252,
    "start_time": "2022-10-25T03:04:57.318Z"
   },
   {
    "duration": 28,
    "start_time": "2022-10-25T03:04:57.576Z"
   },
   {
    "duration": 22,
    "start_time": "2022-10-25T03:04:57.606Z"
   },
   {
    "duration": 10,
    "start_time": "2022-10-25T03:04:57.631Z"
   },
   {
    "duration": 35,
    "start_time": "2022-10-25T03:04:57.642Z"
   },
   {
    "duration": 19,
    "start_time": "2022-10-25T03:04:57.678Z"
   },
   {
    "duration": 12,
    "start_time": "2022-10-25T03:04:57.699Z"
   },
   {
    "duration": 100,
    "start_time": "2022-10-25T03:04:57.712Z"
   },
   {
    "duration": 78,
    "start_time": "2022-10-25T03:04:57.814Z"
   },
   {
    "duration": 24,
    "start_time": "2022-10-25T03:04:57.894Z"
   },
   {
    "duration": 9,
    "start_time": "2022-10-25T03:04:57.920Z"
   },
   {
    "duration": 59,
    "start_time": "2022-10-25T03:04:57.931Z"
   },
   {
    "duration": 20,
    "start_time": "2022-10-25T03:04:57.993Z"
   },
   {
    "duration": 11,
    "start_time": "2022-10-25T03:04:58.016Z"
   },
   {
    "duration": 49,
    "start_time": "2022-10-25T03:04:58.028Z"
   },
   {
    "duration": 6,
    "start_time": "2022-10-25T03:04:58.080Z"
   },
   {
    "duration": 387,
    "start_time": "2022-10-25T03:04:58.087Z"
   },
   {
    "duration": 9,
    "start_time": "2022-10-25T03:04:58.480Z"
   },
   {
    "duration": 27,
    "start_time": "2022-10-25T03:04:58.491Z"
   },
   {
    "duration": 22,
    "start_time": "2022-10-25T03:04:58.520Z"
   },
   {
    "duration": 25,
    "start_time": "2022-10-25T03:04:58.555Z"
   },
   {
    "duration": 155,
    "start_time": "2022-10-25T03:04:58.582Z"
   },
   {
    "duration": 25,
    "start_time": "2022-10-25T03:05:34.315Z"
   },
   {
    "duration": 399,
    "start_time": "2022-10-25T03:06:37.617Z"
   },
   {
    "duration": 264,
    "start_time": "2022-10-25T03:06:38.018Z"
   },
   {
    "duration": 27,
    "start_time": "2022-10-25T03:06:38.284Z"
   },
   {
    "duration": 19,
    "start_time": "2022-10-25T03:06:38.313Z"
   },
   {
    "duration": 28,
    "start_time": "2022-10-25T03:06:38.334Z"
   },
   {
    "duration": 33,
    "start_time": "2022-10-25T03:06:38.363Z"
   },
   {
    "duration": 22,
    "start_time": "2022-10-25T03:06:38.398Z"
   },
   {
    "duration": 13,
    "start_time": "2022-10-25T03:06:38.422Z"
   },
   {
    "duration": 103,
    "start_time": "2022-10-25T03:06:38.437Z"
   },
   {
    "duration": 92,
    "start_time": "2022-10-25T03:06:38.542Z"
   },
   {
    "duration": 41,
    "start_time": "2022-10-25T03:06:38.636Z"
   },
   {
    "duration": 9,
    "start_time": "2022-10-25T03:06:38.680Z"
   },
   {
    "duration": 32,
    "start_time": "2022-10-25T03:06:38.691Z"
   },
   {
    "duration": 43,
    "start_time": "2022-10-25T03:06:38.726Z"
   },
   {
    "duration": 10,
    "start_time": "2022-10-25T03:06:38.772Z"
   },
   {
    "duration": 21,
    "start_time": "2022-10-25T03:06:38.784Z"
   },
   {
    "duration": 3,
    "start_time": "2022-10-25T03:06:38.807Z"
   },
   {
    "duration": 284,
    "start_time": "2022-10-25T03:06:38.812Z"
   },
   {
    "duration": 7,
    "start_time": "2022-10-25T03:06:39.098Z"
   },
   {
    "duration": 16,
    "start_time": "2022-10-25T03:06:39.107Z"
   },
   {
    "duration": 35,
    "start_time": "2022-10-25T03:06:39.124Z"
   },
   {
    "duration": 208,
    "start_time": "2022-10-25T03:06:39.166Z"
   },
   {
    "duration": 6238,
    "start_time": "2022-10-25T03:06:39.376Z"
   },
   {
    "duration": 970,
    "start_time": "2022-10-25T03:10:22.245Z"
   },
   {
    "duration": 3,
    "start_time": "2022-10-25T03:10:45.917Z"
   },
   {
    "duration": 8,
    "start_time": "2022-10-25T03:10:50.139Z"
   },
   {
    "duration": 6482,
    "start_time": "2022-10-25T03:11:25.392Z"
   },
   {
    "duration": 13,
    "start_time": "2022-10-25T03:11:51.426Z"
   },
   {
    "duration": 3,
    "start_time": "2022-10-25T03:12:16.777Z"
   },
   {
    "duration": 0,
    "start_time": "2022-10-25T03:14:18.126Z"
   },
   {
    "duration": 5,
    "start_time": "2022-10-25T03:16:28.123Z"
   },
   {
    "duration": 104196,
    "start_time": "2022-10-25T03:19:02.785Z"
   },
   {
    "duration": 254,
    "start_time": "2022-10-25T03:21:11.445Z"
   },
   {
    "duration": 1,
    "start_time": "2022-10-25T03:23:06.754Z"
   },
   {
    "duration": 8117,
    "start_time": "2022-10-25T03:23:56.881Z"
   },
   {
    "duration": 8111,
    "start_time": "2022-10-25T03:24:23.512Z"
   },
   {
    "duration": 8307,
    "start_time": "2022-10-25T03:26:00.033Z"
   },
   {
    "duration": 8290,
    "start_time": "2022-10-25T03:26:24.992Z"
   },
   {
    "duration": 8494,
    "start_time": "2022-10-25T03:27:45.940Z"
   },
   {
    "duration": 1198,
    "start_time": "2022-10-25T03:29:44.951Z"
   },
   {
    "duration": 311,
    "start_time": "2022-10-25T03:29:46.151Z"
   },
   {
    "duration": 37,
    "start_time": "2022-10-25T03:29:46.468Z"
   },
   {
    "duration": 22,
    "start_time": "2022-10-25T03:29:46.508Z"
   },
   {
    "duration": 20,
    "start_time": "2022-10-25T03:29:46.533Z"
   },
   {
    "duration": 40,
    "start_time": "2022-10-25T03:29:46.573Z"
   },
   {
    "duration": 47,
    "start_time": "2022-10-25T03:29:46.615Z"
   },
   {
    "duration": 34,
    "start_time": "2022-10-25T03:29:46.669Z"
   },
   {
    "duration": 142,
    "start_time": "2022-10-25T03:29:46.707Z"
   },
   {
    "duration": 92,
    "start_time": "2022-10-25T03:29:46.851Z"
   },
   {
    "duration": 46,
    "start_time": "2022-10-25T03:29:46.945Z"
   },
   {
    "duration": 38,
    "start_time": "2022-10-25T03:29:46.993Z"
   },
   {
    "duration": 42,
    "start_time": "2022-10-25T03:29:47.033Z"
   },
   {
    "duration": 49,
    "start_time": "2022-10-25T03:29:47.078Z"
   },
   {
    "duration": 19,
    "start_time": "2022-10-25T03:29:47.129Z"
   },
   {
    "duration": 66,
    "start_time": "2022-10-25T03:29:47.150Z"
   },
   {
    "duration": 2,
    "start_time": "2022-10-25T03:29:47.218Z"
   },
   {
    "duration": 303,
    "start_time": "2022-10-25T03:29:47.222Z"
   },
   {
    "duration": 8,
    "start_time": "2022-10-25T03:29:47.527Z"
   },
   {
    "duration": 73,
    "start_time": "2022-10-25T03:29:47.537Z"
   },
   {
    "duration": 40,
    "start_time": "2022-10-25T03:29:47.612Z"
   },
   {
    "duration": 249,
    "start_time": "2022-10-25T03:29:47.654Z"
   },
   {
    "duration": 9095,
    "start_time": "2022-10-25T03:29:47.906Z"
   },
   {
    "duration": 8,
    "start_time": "2022-10-25T03:30:19.356Z"
   },
   {
    "duration": 4,
    "start_time": "2022-10-25T03:30:28.110Z"
   },
   {
    "duration": 1298,
    "start_time": "2022-10-25T03:30:44.099Z"
   },
   {
    "duration": 309,
    "start_time": "2022-10-25T03:30:45.400Z"
   },
   {
    "duration": 33,
    "start_time": "2022-10-25T03:30:45.711Z"
   },
   {
    "duration": 38,
    "start_time": "2022-10-25T03:30:45.754Z"
   },
   {
    "duration": 15,
    "start_time": "2022-10-25T03:30:45.797Z"
   },
   {
    "duration": 11,
    "start_time": "2022-10-25T03:30:45.814Z"
   },
   {
    "duration": 25,
    "start_time": "2022-10-25T03:30:45.827Z"
   },
   {
    "duration": 28,
    "start_time": "2022-10-25T03:30:45.857Z"
   },
   {
    "duration": 140,
    "start_time": "2022-10-25T03:30:45.889Z"
   },
   {
    "duration": 90,
    "start_time": "2022-10-25T03:30:46.034Z"
   },
   {
    "duration": 47,
    "start_time": "2022-10-25T03:30:46.127Z"
   },
   {
    "duration": 9,
    "start_time": "2022-10-25T03:30:46.177Z"
   },
   {
    "duration": 44,
    "start_time": "2022-10-25T03:30:46.188Z"
   },
   {
    "duration": 34,
    "start_time": "2022-10-25T03:30:46.237Z"
   },
   {
    "duration": 28,
    "start_time": "2022-10-25T03:30:46.273Z"
   },
   {
    "duration": 37,
    "start_time": "2022-10-25T03:30:46.306Z"
   },
   {
    "duration": 70,
    "start_time": "2022-10-25T03:30:46.345Z"
   },
   {
    "duration": 335,
    "start_time": "2022-10-25T03:30:46.417Z"
   },
   {
    "duration": 26,
    "start_time": "2022-10-25T03:30:46.756Z"
   },
   {
    "duration": 19,
    "start_time": "2022-10-25T03:30:46.790Z"
   },
   {
    "duration": 19,
    "start_time": "2022-10-25T03:30:46.811Z"
   },
   {
    "duration": 4,
    "start_time": "2022-10-25T03:30:46.832Z"
   },
   {
    "duration": 795,
    "start_time": "2022-10-25T03:30:46.838Z"
   },
   {
    "duration": 5,
    "start_time": "2022-10-25T03:30:47.636Z"
   },
   {
    "duration": 775,
    "start_time": "2022-10-25T03:31:14.839Z"
   },
   {
    "duration": 750,
    "start_time": "2022-10-25T03:31:37.788Z"
   },
   {
    "duration": 7,
    "start_time": "2022-10-25T03:40:56.139Z"
   },
   {
    "duration": 1858,
    "start_time": "2022-10-25T03:48:47.390Z"
   },
   {
    "duration": 2131,
    "start_time": "2022-10-25T03:49:30.429Z"
   },
   {
    "duration": 2018,
    "start_time": "2022-10-25T03:51:11.458Z"
   },
   {
    "duration": 1846,
    "start_time": "2022-10-25T03:51:22.415Z"
   },
   {
    "duration": 1882,
    "start_time": "2022-10-25T03:51:48.401Z"
   },
   {
    "duration": 1873,
    "start_time": "2022-10-25T03:51:59.733Z"
   },
   {
    "duration": 2154,
    "start_time": "2022-10-25T03:52:10.851Z"
   },
   {
    "duration": 6,
    "start_time": "2022-10-25T04:02:37.292Z"
   },
   {
    "duration": 6,
    "start_time": "2022-10-25T04:03:19.525Z"
   },
   {
    "duration": 113,
    "start_time": "2022-10-25T04:07:00.001Z"
   },
   {
    "duration": 14,
    "start_time": "2022-10-25T04:08:09.401Z"
   },
   {
    "duration": 82,
    "start_time": "2022-10-25T04:08:49.904Z"
   },
   {
    "duration": 65,
    "start_time": "2022-10-25T04:09:03.737Z"
   },
   {
    "duration": 13,
    "start_time": "2022-10-25T04:09:28.931Z"
   },
   {
    "duration": 1049,
    "start_time": "2022-10-25T04:15:09.871Z"
   },
   {
    "duration": 85,
    "start_time": "2022-10-25T04:15:31.709Z"
   },
   {
    "duration": 60,
    "start_time": "2022-10-25T04:16:25.305Z"
   },
   {
    "duration": 512,
    "start_time": "2022-10-25T04:16:45.075Z"
   },
   {
    "duration": 496,
    "start_time": "2022-10-25T04:16:52.613Z"
   },
   {
    "duration": 2106,
    "start_time": "2022-10-25T04:17:09.302Z"
   },
   {
    "duration": 607,
    "start_time": "2022-10-25T04:17:58.936Z"
   },
   {
    "duration": 511,
    "start_time": "2022-10-25T04:18:15.602Z"
   },
   {
    "duration": 2103,
    "start_time": "2022-10-25T04:18:18.578Z"
   },
   {
    "duration": 571,
    "start_time": "2022-10-25T04:18:47.642Z"
   },
   {
    "duration": 1910,
    "start_time": "2022-10-25T04:18:48.486Z"
   },
   {
    "duration": 599,
    "start_time": "2022-10-25T04:18:59.635Z"
   },
   {
    "duration": 2157,
    "start_time": "2022-10-25T04:19:00.236Z"
   },
   {
    "duration": 10,
    "start_time": "2022-10-25T04:20:59.176Z"
   },
   {
    "duration": 6,
    "start_time": "2022-10-25T04:21:13.181Z"
   },
   {
    "duration": 21,
    "start_time": "2022-10-25T04:22:03.593Z"
   },
   {
    "duration": 4,
    "start_time": "2022-10-25T04:27:12.187Z"
   },
   {
    "duration": 39,
    "start_time": "2022-10-25T04:28:32.842Z"
   },
   {
    "duration": 18,
    "start_time": "2022-10-25T04:28:55.387Z"
   },
   {
    "duration": 21,
    "start_time": "2022-10-25T04:30:17.212Z"
   },
   {
    "duration": 161,
    "start_time": "2022-10-25T04:31:13.845Z"
   },
   {
    "duration": 37,
    "start_time": "2022-10-25T04:31:14.296Z"
   },
   {
    "duration": 3321,
    "start_time": "2022-10-25T04:31:26.156Z"
   },
   {
    "duration": 3031,
    "start_time": "2022-10-25T04:33:56.110Z"
   },
   {
    "duration": 3015,
    "start_time": "2022-10-25T04:34:21.404Z"
   },
   {
    "duration": 3447,
    "start_time": "2022-10-25T04:34:30.668Z"
   },
   {
    "duration": 3115,
    "start_time": "2022-10-25T04:35:03.274Z"
   },
   {
    "duration": 3218,
    "start_time": "2022-10-25T04:35:17.882Z"
   },
   {
    "duration": 3531,
    "start_time": "2022-10-25T04:35:43.150Z"
   },
   {
    "duration": 3480,
    "start_time": "2022-10-25T04:35:48.905Z"
   },
   {
    "duration": 3445,
    "start_time": "2022-10-25T04:36:00.619Z"
   },
   {
    "duration": 3267,
    "start_time": "2022-10-25T04:37:29.483Z"
   },
   {
    "duration": 3064,
    "start_time": "2022-10-25T04:37:40.376Z"
   },
   {
    "duration": 1727,
    "start_time": "2022-10-25T04:37:47.288Z"
   },
   {
    "duration": 289,
    "start_time": "2022-10-25T04:37:49.018Z"
   },
   {
    "duration": 33,
    "start_time": "2022-10-25T04:37:49.327Z"
   },
   {
    "duration": 48,
    "start_time": "2022-10-25T04:37:49.362Z"
   },
   {
    "duration": 11,
    "start_time": "2022-10-25T04:37:49.413Z"
   },
   {
    "duration": 16,
    "start_time": "2022-10-25T04:37:49.426Z"
   },
   {
    "duration": 47,
    "start_time": "2022-10-25T04:37:49.444Z"
   },
   {
    "duration": 28,
    "start_time": "2022-10-25T04:37:49.496Z"
   },
   {
    "duration": 122,
    "start_time": "2022-10-25T04:37:49.527Z"
   },
   {
    "duration": 90,
    "start_time": "2022-10-25T04:37:49.651Z"
   },
   {
    "duration": 44,
    "start_time": "2022-10-25T04:37:49.743Z"
   },
   {
    "duration": 17,
    "start_time": "2022-10-25T04:37:49.789Z"
   },
   {
    "duration": 54,
    "start_time": "2022-10-25T04:37:49.808Z"
   },
   {
    "duration": 43,
    "start_time": "2022-10-25T04:37:49.876Z"
   },
   {
    "duration": 12,
    "start_time": "2022-10-25T04:37:49.923Z"
   },
   {
    "duration": 23,
    "start_time": "2022-10-25T04:37:49.937Z"
   },
   {
    "duration": 5,
    "start_time": "2022-10-25T04:37:49.962Z"
   },
   {
    "duration": 405,
    "start_time": "2022-10-25T04:37:49.971Z"
   },
   {
    "duration": 40,
    "start_time": "2022-10-25T04:37:50.383Z"
   },
   {
    "duration": 20,
    "start_time": "2022-10-25T04:37:50.432Z"
   },
   {
    "duration": 52,
    "start_time": "2022-10-25T04:37:50.462Z"
   },
   {
    "duration": 10,
    "start_time": "2022-10-25T04:37:50.517Z"
   },
   {
    "duration": 16,
    "start_time": "2022-10-25T04:37:50.530Z"
   },
   {
    "duration": 2185,
    "start_time": "2022-10-25T04:37:50.548Z"
   },
   {
    "duration": 30,
    "start_time": "2022-10-25T04:37:52.734Z"
   },
   {
    "duration": 33,
    "start_time": "2022-10-25T04:37:52.766Z"
   },
   {
    "duration": 114,
    "start_time": "2022-10-25T04:37:52.801Z"
   },
   {
    "duration": 22,
    "start_time": "2022-10-25T04:37:52.917Z"
   },
   {
    "duration": 2905,
    "start_time": "2022-10-25T04:37:52.941Z"
   },
   {
    "duration": 3298,
    "start_time": "2022-10-25T04:39:10.283Z"
   },
   {
    "duration": 3092,
    "start_time": "2022-10-25T04:39:24.983Z"
   },
   {
    "duration": 3452,
    "start_time": "2022-10-25T04:39:41.231Z"
   },
   {
    "duration": 1936,
    "start_time": "2022-10-25T04:42:15.751Z"
   },
   {
    "duration": 2152,
    "start_time": "2022-10-25T04:43:19.723Z"
   },
   {
    "duration": 1886,
    "start_time": "2022-10-25T04:43:27.838Z"
   },
   {
    "duration": 2255,
    "start_time": "2022-10-25T04:44:02.948Z"
   },
   {
    "duration": 1878,
    "start_time": "2022-10-25T04:44:29.488Z"
   },
   {
    "duration": 512,
    "start_time": "2022-10-25T04:44:31.369Z"
   },
   {
    "duration": 54,
    "start_time": "2022-10-25T04:44:31.884Z"
   },
   {
    "duration": 122,
    "start_time": "2022-10-25T04:44:31.945Z"
   },
   {
    "duration": 78,
    "start_time": "2022-10-25T04:44:32.069Z"
   },
   {
    "duration": 164,
    "start_time": "2022-10-25T04:44:32.149Z"
   },
   {
    "duration": 54,
    "start_time": "2022-10-25T04:44:32.317Z"
   },
   {
    "duration": 27,
    "start_time": "2022-10-25T04:44:32.377Z"
   },
   {
    "duration": 161,
    "start_time": "2022-10-25T04:44:32.412Z"
   },
   {
    "duration": 115,
    "start_time": "2022-10-25T04:44:32.577Z"
   },
   {
    "duration": 46,
    "start_time": "2022-10-25T04:44:32.698Z"
   },
   {
    "duration": 68,
    "start_time": "2022-10-25T04:44:32.749Z"
   },
   {
    "duration": 75,
    "start_time": "2022-10-25T04:44:32.820Z"
   },
   {
    "duration": 34,
    "start_time": "2022-10-25T04:44:32.910Z"
   },
   {
    "duration": 16,
    "start_time": "2022-10-25T04:44:32.946Z"
   },
   {
    "duration": 88,
    "start_time": "2022-10-25T04:44:32.968Z"
   },
   {
    "duration": 81,
    "start_time": "2022-10-25T04:44:33.059Z"
   },
   {
    "duration": 497,
    "start_time": "2022-10-25T04:44:33.142Z"
   },
   {
    "duration": 7,
    "start_time": "2022-10-25T04:44:33.641Z"
   },
   {
    "duration": 93,
    "start_time": "2022-10-25T04:44:33.649Z"
   },
   {
    "duration": 3,
    "start_time": "2022-10-25T04:44:33.744Z"
   },
   {
    "duration": 79,
    "start_time": "2022-10-25T04:44:33.748Z"
   },
   {
    "duration": 10,
    "start_time": "2022-10-25T04:44:33.829Z"
   },
   {
    "duration": 1741,
    "start_time": "2022-10-25T04:44:33.841Z"
   },
   {
    "duration": 2319,
    "start_time": "2022-10-25T04:44:35.584Z"
   },
   {
    "duration": 19,
    "start_time": "2022-10-25T04:44:37.915Z"
   },
   {
    "duration": 15,
    "start_time": "2022-10-25T04:44:37.936Z"
   },
   {
    "duration": 173,
    "start_time": "2022-10-25T04:44:37.953Z"
   },
   {
    "duration": 24,
    "start_time": "2022-10-25T04:44:38.128Z"
   },
   {
    "duration": 3431,
    "start_time": "2022-10-25T04:44:38.156Z"
   },
   {
    "duration": 1988,
    "start_time": "2022-10-25T06:03:10.014Z"
   },
   {
    "duration": 1720,
    "start_time": "2022-10-25T06:03:25.700Z"
   },
   {
    "duration": 1910,
    "start_time": "2022-10-25T06:04:07.694Z"
   },
   {
    "duration": 2013,
    "start_time": "2022-10-25T06:04:41.651Z"
   },
   {
    "duration": 179,
    "start_time": "2022-10-25T07:23:30.172Z"
   },
   {
    "duration": 266,
    "start_time": "2022-10-25T07:53:32.794Z"
   },
   {
    "duration": 303,
    "start_time": "2022-10-25T07:53:51.572Z"
   },
   {
    "duration": 551,
    "start_time": "2022-10-25T07:54:11.801Z"
   },
   {
    "duration": 2052,
    "start_time": "2022-10-25T07:55:22.830Z"
   },
   {
    "duration": 2360,
    "start_time": "2022-10-25T07:56:25.086Z"
   },
   {
    "duration": 2211,
    "start_time": "2022-10-25T07:57:36.506Z"
   },
   {
    "duration": 1837,
    "start_time": "2022-10-25T07:58:15.796Z"
   },
   {
    "duration": 1699,
    "start_time": "2022-10-25T07:58:24.317Z"
   },
   {
    "duration": 1609,
    "start_time": "2022-10-25T07:59:53.581Z"
   },
   {
    "duration": 213,
    "start_time": "2022-10-25T08:05:47.083Z"
   },
   {
    "duration": 173,
    "start_time": "2022-10-25T08:05:56.919Z"
   },
   {
    "duration": 1176,
    "start_time": "2022-10-25T08:06:30.152Z"
   },
   {
    "duration": 1269,
    "start_time": "2022-10-25T08:07:24.929Z"
   },
   {
    "duration": 120,
    "start_time": "2022-10-25T08:07:49.273Z"
   },
   {
    "duration": 1087,
    "start_time": "2022-10-25T08:08:08.106Z"
   },
   {
    "duration": 11,
    "start_time": "2022-10-25T08:09:59.954Z"
   },
   {
    "duration": 1344,
    "start_time": "2022-10-25T08:10:40.919Z"
   },
   {
    "duration": 24,
    "start_time": "2022-10-25T08:10:51.864Z"
   },
   {
    "duration": 1278,
    "start_time": "2022-10-25T08:10:59.987Z"
   },
   {
    "duration": 3270,
    "start_time": "2022-10-25T08:11:22.150Z"
   },
   {
    "duration": 3140,
    "start_time": "2022-10-25T08:22:40.102Z"
   },
   {
    "duration": 227,
    "start_time": "2022-10-25T08:25:41.209Z"
   },
   {
    "duration": 50,
    "start_time": "2022-10-25T08:26:04.092Z"
   },
   {
    "duration": 15,
    "start_time": "2022-10-25T08:27:18.373Z"
   },
   {
    "duration": 20,
    "start_time": "2022-10-25T08:27:41.063Z"
   },
   {
    "duration": 9,
    "start_time": "2022-10-25T08:35:39.305Z"
   },
   {
    "duration": 3090,
    "start_time": "2022-10-25T08:35:40.226Z"
   },
   {
    "duration": 8,
    "start_time": "2022-10-25T08:35:54.984Z"
   },
   {
    "duration": 3238,
    "start_time": "2022-10-25T08:35:55.563Z"
   },
   {
    "duration": 8,
    "start_time": "2022-10-25T08:36:43.996Z"
   },
   {
    "duration": 2051,
    "start_time": "2022-10-25T08:36:44.526Z"
   },
   {
    "duration": 13,
    "start_time": "2022-10-25T08:36:58.449Z"
   },
   {
    "duration": 1992,
    "start_time": "2022-10-25T08:36:58.899Z"
   },
   {
    "duration": 6,
    "start_time": "2022-10-25T08:38:12.317Z"
   },
   {
    "duration": 11,
    "start_time": "2022-10-25T08:38:37.962Z"
   },
   {
    "duration": 1633,
    "start_time": "2022-10-25T08:38:38.501Z"
   },
   {
    "duration": 6,
    "start_time": "2022-10-25T08:38:57.008Z"
   },
   {
    "duration": 2022,
    "start_time": "2022-10-25T08:38:57.516Z"
   },
   {
    "duration": 12,
    "start_time": "2022-10-25T08:40:05.676Z"
   },
   {
    "duration": 1352,
    "start_time": "2022-10-25T08:40:05.984Z"
   },
   {
    "duration": 6,
    "start_time": "2022-10-25T08:40:50.084Z"
   },
   {
    "duration": 1223,
    "start_time": "2022-10-25T08:40:50.541Z"
   },
   {
    "duration": 140,
    "start_time": "2022-10-25T08:41:29.182Z"
   },
   {
    "duration": 564,
    "start_time": "2022-10-25T08:41:52.351Z"
   },
   {
    "duration": 539,
    "start_time": "2022-10-25T08:42:00.398Z"
   },
   {
    "duration": 17,
    "start_time": "2022-10-25T08:42:26.078Z"
   },
   {
    "duration": 1448,
    "start_time": "2022-10-25T08:42:26.493Z"
   },
   {
    "duration": 34,
    "start_time": "2022-10-25T08:42:27.944Z"
   },
   {
    "duration": 829,
    "start_time": "2022-10-25T08:42:27.981Z"
   },
   {
    "duration": 2808,
    "start_time": "2022-10-25T08:42:41.910Z"
   },
   {
    "duration": 4476,
    "start_time": "2022-10-25T08:43:00.451Z"
   },
   {
    "duration": 4,
    "start_time": "2022-10-25T08:47:12.321Z"
   },
   {
    "duration": 5369,
    "start_time": "2022-10-25T08:47:12.768Z"
   },
   {
    "duration": 6,
    "start_time": "2022-10-25T08:59:46.497Z"
   },
   {
    "duration": 17,
    "start_time": "2022-10-25T09:01:26.188Z"
   },
   {
    "duration": 13,
    "start_time": "2022-10-25T09:01:58.622Z"
   },
   {
    "duration": 13,
    "start_time": "2022-10-25T09:01:58.997Z"
   },
   {
    "duration": 2808,
    "start_time": "2022-10-25T09:01:59.328Z"
   },
   {
    "duration": 5,
    "start_time": "2022-10-25T09:02:02.138Z"
   },
   {
    "duration": 39,
    "start_time": "2022-10-25T09:02:02.158Z"
   },
   {
    "duration": 1511,
    "start_time": "2022-10-25T09:02:07.188Z"
   },
   {
    "duration": 274,
    "start_time": "2022-10-25T09:02:08.703Z"
   },
   {
    "duration": 32,
    "start_time": "2022-10-25T09:02:08.985Z"
   },
   {
    "duration": 22,
    "start_time": "2022-10-25T09:02:09.019Z"
   },
   {
    "duration": 7,
    "start_time": "2022-10-25T09:02:09.044Z"
   },
   {
    "duration": 54,
    "start_time": "2022-10-25T09:02:09.052Z"
   },
   {
    "duration": 34,
    "start_time": "2022-10-25T09:02:09.109Z"
   },
   {
    "duration": 32,
    "start_time": "2022-10-25T09:02:09.145Z"
   },
   {
    "duration": 117,
    "start_time": "2022-10-25T09:02:09.184Z"
   },
   {
    "duration": 86,
    "start_time": "2022-10-25T09:02:09.302Z"
   },
   {
    "duration": 30,
    "start_time": "2022-10-25T09:02:09.390Z"
   },
   {
    "duration": 9,
    "start_time": "2022-10-25T09:02:09.422Z"
   },
   {
    "duration": 61,
    "start_time": "2022-10-25T09:02:09.432Z"
   },
   {
    "duration": 25,
    "start_time": "2022-10-25T09:02:09.497Z"
   },
   {
    "duration": 20,
    "start_time": "2022-10-25T09:02:09.524Z"
   },
   {
    "duration": 73,
    "start_time": "2022-10-25T09:02:09.545Z"
   },
   {
    "duration": 24,
    "start_time": "2022-10-25T09:02:09.621Z"
   },
   {
    "duration": 308,
    "start_time": "2022-10-25T09:02:09.647Z"
   },
   {
    "duration": 24,
    "start_time": "2022-10-25T09:02:09.959Z"
   },
   {
    "duration": 21,
    "start_time": "2022-10-25T09:02:09.985Z"
   },
   {
    "duration": 25,
    "start_time": "2022-10-25T09:02:10.008Z"
   },
   {
    "duration": 12,
    "start_time": "2022-10-25T09:02:10.035Z"
   },
   {
    "duration": 45,
    "start_time": "2022-10-25T09:02:10.049Z"
   },
   {
    "duration": 8,
    "start_time": "2022-10-25T09:02:10.096Z"
   },
   {
    "duration": 2388,
    "start_time": "2022-10-25T09:02:10.106Z"
   },
   {
    "duration": 0,
    "start_time": "2022-10-25T09:02:12.503Z"
   },
   {
    "duration": 0,
    "start_time": "2022-10-25T09:02:12.505Z"
   },
   {
    "duration": 0,
    "start_time": "2022-10-25T09:02:12.506Z"
   },
   {
    "duration": 0,
    "start_time": "2022-10-25T09:02:12.508Z"
   },
   {
    "duration": 0,
    "start_time": "2022-10-25T09:02:12.509Z"
   },
   {
    "duration": 0,
    "start_time": "2022-10-25T09:02:12.510Z"
   },
   {
    "duration": 0,
    "start_time": "2022-10-25T09:02:12.511Z"
   },
   {
    "duration": 0,
    "start_time": "2022-10-25T09:02:12.512Z"
   },
   {
    "duration": 0,
    "start_time": "2022-10-25T09:02:12.513Z"
   },
   {
    "duration": 0,
    "start_time": "2022-10-25T09:02:12.514Z"
   },
   {
    "duration": 4,
    "start_time": "2022-10-25T09:03:44.493Z"
   },
   {
    "duration": 10,
    "start_time": "2022-10-25T09:07:48.053Z"
   },
   {
    "duration": 5,
    "start_time": "2022-10-25T09:07:53.707Z"
   },
   {
    "duration": 6,
    "start_time": "2022-10-25T09:23:44.832Z"
   },
   {
    "duration": 17,
    "start_time": "2022-10-25T09:23:53.412Z"
   },
   {
    "duration": 21,
    "start_time": "2022-10-25T09:26:52.887Z"
   },
   {
    "duration": 9,
    "start_time": "2022-10-25T09:26:57.800Z"
   },
   {
    "duration": 69,
    "start_time": "2022-10-25T09:29:54.011Z"
   },
   {
    "duration": 4,
    "start_time": "2022-10-25T09:32:45.821Z"
   },
   {
    "duration": 25,
    "start_time": "2022-10-25T09:34:07.238Z"
   },
   {
    "duration": 46,
    "start_time": "2022-10-25T09:34:24.680Z"
   },
   {
    "duration": 31,
    "start_time": "2022-10-25T09:34:30.089Z"
   },
   {
    "duration": 81889,
    "start_time": "2022-10-25T09:42:17.453Z"
   },
   {
    "duration": 105,
    "start_time": "2022-10-25T09:44:16.378Z"
   },
   {
    "duration": 1758,
    "start_time": "2022-10-25T09:44:56.780Z"
   },
   {
    "duration": 1813,
    "start_time": "2022-10-25T09:45:03.608Z"
   },
   {
    "duration": 324,
    "start_time": "2022-10-25T09:45:05.424Z"
   },
   {
    "duration": 71,
    "start_time": "2022-10-25T09:45:05.750Z"
   },
   {
    "duration": 24,
    "start_time": "2022-10-25T09:45:05.823Z"
   },
   {
    "duration": 81,
    "start_time": "2022-10-25T09:45:05.850Z"
   },
   {
    "duration": 32,
    "start_time": "2022-10-25T09:45:05.933Z"
   },
   {
    "duration": 85,
    "start_time": "2022-10-25T09:45:05.967Z"
   },
   {
    "duration": 73,
    "start_time": "2022-10-25T09:45:06.054Z"
   },
   {
    "duration": 144,
    "start_time": "2022-10-25T09:45:06.129Z"
   },
   {
    "duration": 84,
    "start_time": "2022-10-25T09:45:06.275Z"
   },
   {
    "duration": 40,
    "start_time": "2022-10-25T09:45:06.361Z"
   },
   {
    "duration": 42,
    "start_time": "2022-10-25T09:45:06.404Z"
   },
   {
    "duration": 51,
    "start_time": "2022-10-25T09:45:06.449Z"
   },
   {
    "duration": 40,
    "start_time": "2022-10-25T09:45:06.504Z"
   },
   {
    "duration": 8,
    "start_time": "2022-10-25T09:45:06.545Z"
   },
   {
    "duration": 82,
    "start_time": "2022-10-25T09:45:06.560Z"
   },
   {
    "duration": 38,
    "start_time": "2022-10-25T09:45:06.644Z"
   },
   {
    "duration": 387,
    "start_time": "2022-10-25T09:45:06.685Z"
   },
   {
    "duration": 13,
    "start_time": "2022-10-25T09:45:07.079Z"
   },
   {
    "duration": 59,
    "start_time": "2022-10-25T09:45:07.094Z"
   },
   {
    "duration": 58,
    "start_time": "2022-10-25T09:45:07.163Z"
   },
   {
    "duration": 8,
    "start_time": "2022-10-25T09:45:07.223Z"
   },
   {
    "duration": 61,
    "start_time": "2022-10-25T09:45:07.232Z"
   },
   {
    "duration": 39,
    "start_time": "2022-10-25T09:45:07.294Z"
   },
   {
    "duration": 2578,
    "start_time": "2022-10-25T09:45:07.335Z"
   },
   {
    "duration": 0,
    "start_time": "2022-10-25T09:45:09.915Z"
   },
   {
    "duration": 0,
    "start_time": "2022-10-25T09:45:09.916Z"
   },
   {
    "duration": 0,
    "start_time": "2022-10-25T09:45:09.917Z"
   },
   {
    "duration": 0,
    "start_time": "2022-10-25T09:45:09.918Z"
   },
   {
    "duration": 0,
    "start_time": "2022-10-25T09:45:09.919Z"
   },
   {
    "duration": 0,
    "start_time": "2022-10-25T09:45:09.926Z"
   },
   {
    "duration": 0,
    "start_time": "2022-10-25T09:45:09.927Z"
   },
   {
    "duration": 0,
    "start_time": "2022-10-25T09:45:09.928Z"
   },
   {
    "duration": 0,
    "start_time": "2022-10-25T09:45:09.931Z"
   },
   {
    "duration": 0,
    "start_time": "2022-10-25T09:45:09.932Z"
   },
   {
    "duration": 0,
    "start_time": "2022-10-25T09:45:09.934Z"
   },
   {
    "duration": 1373,
    "start_time": "2022-10-25T09:45:21.977Z"
   },
   {
    "duration": 2067,
    "start_time": "2022-10-25T09:45:53.608Z"
   },
   {
    "duration": 0,
    "start_time": "2022-10-25T09:45:55.677Z"
   },
   {
    "duration": 53756,
    "start_time": "2022-10-25T09:46:28.890Z"
   },
   {
    "duration": 120,
    "start_time": "2022-10-25T09:51:52.655Z"
   },
   {
    "duration": 8,
    "start_time": "2022-10-25T09:51:59.673Z"
   },
   {
    "duration": 2929,
    "start_time": "2022-10-25T09:53:26.509Z"
   },
   {
    "duration": 342,
    "start_time": "2022-10-25T09:53:29.442Z"
   },
   {
    "duration": 29,
    "start_time": "2022-10-25T09:53:29.786Z"
   },
   {
    "duration": 23,
    "start_time": "2022-10-25T09:53:29.820Z"
   },
   {
    "duration": 69,
    "start_time": "2022-10-25T09:53:29.846Z"
   },
   {
    "duration": 26,
    "start_time": "2022-10-25T09:53:29.917Z"
   },
   {
    "duration": 42,
    "start_time": "2022-10-25T09:53:29.945Z"
   },
   {
    "duration": 51,
    "start_time": "2022-10-25T09:53:29.989Z"
   },
   {
    "duration": 190,
    "start_time": "2022-10-25T09:53:30.043Z"
   },
   {
    "duration": 140,
    "start_time": "2022-10-25T09:53:30.235Z"
   },
   {
    "duration": 47,
    "start_time": "2022-10-25T09:53:30.377Z"
   },
   {
    "duration": 19,
    "start_time": "2022-10-25T09:53:30.425Z"
   },
   {
    "duration": 136,
    "start_time": "2022-10-25T09:53:30.446Z"
   },
   {
    "duration": 65,
    "start_time": "2022-10-25T09:53:30.586Z"
   },
   {
    "duration": 37,
    "start_time": "2022-10-25T09:53:30.658Z"
   },
   {
    "duration": 137,
    "start_time": "2022-10-25T09:53:30.697Z"
   },
   {
    "duration": 55,
    "start_time": "2022-10-25T09:53:30.837Z"
   },
   {
    "duration": 373,
    "start_time": "2022-10-25T09:53:30.894Z"
   },
   {
    "duration": 30,
    "start_time": "2022-10-25T09:53:31.276Z"
   },
   {
    "duration": 92,
    "start_time": "2022-10-25T09:53:31.312Z"
   },
   {
    "duration": 32,
    "start_time": "2022-10-25T09:53:31.409Z"
   },
   {
    "duration": 80,
    "start_time": "2022-10-25T09:53:31.444Z"
   },
   {
    "duration": 43,
    "start_time": "2022-10-25T09:53:31.526Z"
   },
   {
    "duration": 209,
    "start_time": "2022-10-25T09:53:31.578Z"
   },
   {
    "duration": 2594,
    "start_time": "2022-10-25T09:53:31.790Z"
   },
   {
    "duration": 0,
    "start_time": "2022-10-25T09:53:34.390Z"
   },
   {
    "duration": 0,
    "start_time": "2022-10-25T09:53:34.395Z"
   },
   {
    "duration": 0,
    "start_time": "2022-10-25T09:53:34.399Z"
   },
   {
    "duration": 0,
    "start_time": "2022-10-25T09:53:34.404Z"
   },
   {
    "duration": 0,
    "start_time": "2022-10-25T09:53:34.410Z"
   },
   {
    "duration": 0,
    "start_time": "2022-10-25T09:53:34.415Z"
   },
   {
    "duration": 0,
    "start_time": "2022-10-25T09:53:34.418Z"
   },
   {
    "duration": 0,
    "start_time": "2022-10-25T09:53:34.420Z"
   },
   {
    "duration": 0,
    "start_time": "2022-10-25T09:53:34.421Z"
   },
   {
    "duration": 0,
    "start_time": "2022-10-25T09:53:34.423Z"
   },
   {
    "duration": 0,
    "start_time": "2022-10-25T09:53:34.424Z"
   },
   {
    "duration": 0,
    "start_time": "2022-10-25T09:53:34.426Z"
   },
   {
    "duration": 1538,
    "start_time": "2022-10-25T09:53:47.208Z"
   },
   {
    "duration": 26,
    "start_time": "2022-10-25T09:55:49.835Z"
   },
   {
    "duration": 2482,
    "start_time": "2022-10-25T09:55:50.521Z"
   },
   {
    "duration": 4,
    "start_time": "2022-10-25T09:55:58.626Z"
   },
   {
    "duration": 1947,
    "start_time": "2022-10-25T09:56:33.616Z"
   },
   {
    "duration": 394,
    "start_time": "2022-10-25T09:56:35.575Z"
   },
   {
    "duration": 31,
    "start_time": "2022-10-25T09:56:35.971Z"
   },
   {
    "duration": 54,
    "start_time": "2022-10-25T09:56:36.004Z"
   },
   {
    "duration": 88,
    "start_time": "2022-10-25T09:56:36.060Z"
   },
   {
    "duration": 94,
    "start_time": "2022-10-25T09:56:36.150Z"
   },
   {
    "duration": 58,
    "start_time": "2022-10-25T09:56:36.247Z"
   },
   {
    "duration": 37,
    "start_time": "2022-10-25T09:56:36.309Z"
   },
   {
    "duration": 164,
    "start_time": "2022-10-25T09:56:36.349Z"
   },
   {
    "duration": 106,
    "start_time": "2022-10-25T09:56:36.518Z"
   },
   {
    "duration": 50,
    "start_time": "2022-10-25T09:56:36.629Z"
   },
   {
    "duration": 77,
    "start_time": "2022-10-25T09:56:36.681Z"
   },
   {
    "duration": 72,
    "start_time": "2022-10-25T09:56:36.765Z"
   },
   {
    "duration": 52,
    "start_time": "2022-10-25T09:56:36.841Z"
   },
   {
    "duration": 41,
    "start_time": "2022-10-25T09:56:36.901Z"
   },
   {
    "duration": 61,
    "start_time": "2022-10-25T09:56:36.944Z"
   },
   {
    "duration": 32,
    "start_time": "2022-10-25T09:56:37.013Z"
   },
   {
    "duration": 505,
    "start_time": "2022-10-25T09:56:37.047Z"
   },
   {
    "duration": 15,
    "start_time": "2022-10-25T09:56:37.554Z"
   },
   {
    "duration": 66,
    "start_time": "2022-10-25T09:56:37.579Z"
   },
   {
    "duration": 58,
    "start_time": "2022-10-25T09:56:37.647Z"
   },
   {
    "duration": 33,
    "start_time": "2022-10-25T09:56:37.707Z"
   },
   {
    "duration": 88,
    "start_time": "2022-10-25T09:56:37.743Z"
   },
   {
    "duration": 24,
    "start_time": "2022-10-25T09:56:37.834Z"
   },
   {
    "duration": 2795,
    "start_time": "2022-10-25T09:56:37.862Z"
   },
   {
    "duration": 0,
    "start_time": "2022-10-25T09:56:40.661Z"
   },
   {
    "duration": 0,
    "start_time": "2022-10-25T09:56:40.664Z"
   },
   {
    "duration": 0,
    "start_time": "2022-10-25T09:56:40.665Z"
   },
   {
    "duration": 0,
    "start_time": "2022-10-25T09:56:40.666Z"
   },
   {
    "duration": 1,
    "start_time": "2022-10-25T09:56:40.666Z"
   },
   {
    "duration": 0,
    "start_time": "2022-10-25T09:56:40.672Z"
   },
   {
    "duration": 0,
    "start_time": "2022-10-25T09:56:40.689Z"
   },
   {
    "duration": 0,
    "start_time": "2022-10-25T09:56:40.690Z"
   },
   {
    "duration": 0,
    "start_time": "2022-10-25T09:56:40.693Z"
   },
   {
    "duration": 0,
    "start_time": "2022-10-25T09:56:40.694Z"
   },
   {
    "duration": 0,
    "start_time": "2022-10-25T09:56:40.695Z"
   },
   {
    "duration": 0,
    "start_time": "2022-10-25T09:56:40.696Z"
   },
   {
    "duration": 0,
    "start_time": "2022-10-25T09:56:40.697Z"
   },
   {
    "duration": 9,
    "start_time": "2022-10-25T09:56:51.304Z"
   },
   {
    "duration": 2141,
    "start_time": "2022-10-25T09:58:02.789Z"
   },
   {
    "duration": 374,
    "start_time": "2022-10-25T09:58:04.933Z"
   },
   {
    "duration": 35,
    "start_time": "2022-10-25T09:58:05.309Z"
   },
   {
    "duration": 48,
    "start_time": "2022-10-25T09:58:05.346Z"
   },
   {
    "duration": 39,
    "start_time": "2022-10-25T09:58:05.396Z"
   },
   {
    "duration": 17,
    "start_time": "2022-10-25T09:58:05.438Z"
   },
   {
    "duration": 60,
    "start_time": "2022-10-25T09:58:05.465Z"
   },
   {
    "duration": 69,
    "start_time": "2022-10-25T09:58:05.532Z"
   },
   {
    "duration": 290,
    "start_time": "2022-10-25T09:58:05.608Z"
   },
   {
    "duration": 101,
    "start_time": "2022-10-25T09:58:05.905Z"
   },
   {
    "duration": 38,
    "start_time": "2022-10-25T09:58:06.012Z"
   },
   {
    "duration": 19,
    "start_time": "2022-10-25T09:58:06.051Z"
   },
   {
    "duration": 93,
    "start_time": "2022-10-25T09:58:06.072Z"
   },
   {
    "duration": 49,
    "start_time": "2022-10-25T09:58:06.176Z"
   },
   {
    "duration": 14,
    "start_time": "2022-10-25T09:58:06.228Z"
   },
   {
    "duration": 41,
    "start_time": "2022-10-25T09:58:06.244Z"
   },
   {
    "duration": 57,
    "start_time": "2022-10-25T09:58:06.287Z"
   },
   {
    "duration": 531,
    "start_time": "2022-10-25T09:58:06.347Z"
   },
   {
    "duration": 12,
    "start_time": "2022-10-25T09:58:06.882Z"
   },
   {
    "duration": 36,
    "start_time": "2022-10-25T09:58:06.897Z"
   },
   {
    "duration": 12,
    "start_time": "2022-10-25T09:58:06.939Z"
   },
   {
    "duration": 75,
    "start_time": "2022-10-25T09:58:06.959Z"
   },
   {
    "duration": 30,
    "start_time": "2022-10-25T09:58:07.037Z"
   },
   {
    "duration": 62,
    "start_time": "2022-10-25T09:58:07.075Z"
   },
   {
    "duration": 2781,
    "start_time": "2022-10-25T09:58:07.139Z"
   },
   {
    "duration": 0,
    "start_time": "2022-10-25T09:58:09.929Z"
   },
   {
    "duration": 0,
    "start_time": "2022-10-25T09:58:09.932Z"
   },
   {
    "duration": 0,
    "start_time": "2022-10-25T09:58:09.936Z"
   },
   {
    "duration": 0,
    "start_time": "2022-10-25T09:58:09.937Z"
   },
   {
    "duration": 0,
    "start_time": "2022-10-25T09:58:09.938Z"
   },
   {
    "duration": 0,
    "start_time": "2022-10-25T09:58:09.940Z"
   },
   {
    "duration": 0,
    "start_time": "2022-10-25T09:58:09.942Z"
   },
   {
    "duration": 0,
    "start_time": "2022-10-25T09:58:09.943Z"
   },
   {
    "duration": 0,
    "start_time": "2022-10-25T09:58:09.945Z"
   },
   {
    "duration": 0,
    "start_time": "2022-10-25T09:58:09.946Z"
   },
   {
    "duration": 0,
    "start_time": "2022-10-25T09:58:09.955Z"
   },
   {
    "duration": 0,
    "start_time": "2022-10-25T09:58:09.956Z"
   },
   {
    "duration": 0,
    "start_time": "2022-10-25T09:58:09.957Z"
   },
   {
    "duration": 1657,
    "start_time": "2022-10-25T09:58:16.784Z"
   },
   {
    "duration": 13,
    "start_time": "2022-10-25T09:58:21.322Z"
   },
   {
    "duration": 5,
    "start_time": "2022-10-25T09:58:39.727Z"
   },
   {
    "duration": 47119,
    "start_time": "2022-10-25T09:58:40.749Z"
   },
   {
    "duration": 35,
    "start_time": "2022-10-25T09:59:27.870Z"
   },
   {
    "duration": 29,
    "start_time": "2022-10-25T10:03:37.638Z"
   },
   {
    "duration": 1835,
    "start_time": "2022-10-25T10:04:05.284Z"
   },
   {
    "duration": 377,
    "start_time": "2022-10-25T10:04:07.122Z"
   },
   {
    "duration": 33,
    "start_time": "2022-10-25T10:04:07.508Z"
   },
   {
    "duration": 35,
    "start_time": "2022-10-25T10:04:07.544Z"
   },
   {
    "duration": 47,
    "start_time": "2022-10-25T10:04:07.581Z"
   },
   {
    "duration": 22,
    "start_time": "2022-10-25T10:04:07.631Z"
   },
   {
    "duration": 89,
    "start_time": "2022-10-25T10:04:07.662Z"
   },
   {
    "duration": 26,
    "start_time": "2022-10-25T10:04:07.756Z"
   },
   {
    "duration": 216,
    "start_time": "2022-10-25T10:04:07.787Z"
   },
   {
    "duration": 91,
    "start_time": "2022-10-25T10:04:08.006Z"
   },
   {
    "duration": 32,
    "start_time": "2022-10-25T10:04:08.102Z"
   },
   {
    "duration": 9,
    "start_time": "2022-10-25T10:04:08.136Z"
   },
   {
    "duration": 92,
    "start_time": "2022-10-25T10:04:08.147Z"
   },
   {
    "duration": 89,
    "start_time": "2022-10-25T10:04:08.241Z"
   },
   {
    "duration": 30,
    "start_time": "2022-10-25T10:04:08.332Z"
   },
   {
    "duration": 126,
    "start_time": "2022-10-25T10:04:08.365Z"
   },
   {
    "duration": 31,
    "start_time": "2022-10-25T10:04:08.507Z"
   },
   {
    "duration": 408,
    "start_time": "2022-10-25T10:04:08.540Z"
   },
   {
    "duration": 22,
    "start_time": "2022-10-25T10:04:08.950Z"
   },
   {
    "duration": 49,
    "start_time": "2022-10-25T10:04:08.988Z"
   },
   {
    "duration": 17,
    "start_time": "2022-10-25T10:04:09.039Z"
   },
   {
    "duration": 64,
    "start_time": "2022-10-25T10:04:09.062Z"
   },
   {
    "duration": 30,
    "start_time": "2022-10-25T10:04:09.128Z"
   },
   {
    "duration": 64,
    "start_time": "2022-10-25T10:04:09.159Z"
   },
   {
    "duration": 2700,
    "start_time": "2022-10-25T10:04:09.225Z"
   },
   {
    "duration": 0,
    "start_time": "2022-10-25T10:04:11.931Z"
   },
   {
    "duration": 0,
    "start_time": "2022-10-25T10:04:11.933Z"
   },
   {
    "duration": 0,
    "start_time": "2022-10-25T10:04:11.934Z"
   },
   {
    "duration": 0,
    "start_time": "2022-10-25T10:04:11.935Z"
   },
   {
    "duration": 0,
    "start_time": "2022-10-25T10:04:11.936Z"
   },
   {
    "duration": 0,
    "start_time": "2022-10-25T10:04:11.937Z"
   },
   {
    "duration": 0,
    "start_time": "2022-10-25T10:04:11.938Z"
   },
   {
    "duration": 0,
    "start_time": "2022-10-25T10:04:11.942Z"
   },
   {
    "duration": 0,
    "start_time": "2022-10-25T10:04:11.953Z"
   },
   {
    "duration": 0,
    "start_time": "2022-10-25T10:04:11.954Z"
   },
   {
    "duration": 0,
    "start_time": "2022-10-25T10:04:11.954Z"
   },
   {
    "duration": 0,
    "start_time": "2022-10-25T10:04:11.955Z"
   },
   {
    "duration": 12,
    "start_time": "2022-10-25T10:04:47.818Z"
   },
   {
    "duration": 13,
    "start_time": "2022-10-25T10:04:54.894Z"
   },
   {
    "duration": 13,
    "start_time": "2022-10-25T10:04:59.374Z"
   },
   {
    "duration": 19,
    "start_time": "2022-10-25T10:05:02.751Z"
   },
   {
    "duration": 2335,
    "start_time": "2022-10-25T10:05:09.988Z"
   },
   {
    "duration": 3,
    "start_time": "2022-10-25T10:06:28.412Z"
   },
   {
    "duration": 11,
    "start_time": "2022-10-25T10:06:54.255Z"
   },
   {
    "duration": 648,
    "start_time": "2022-10-25T10:06:55.005Z"
   },
   {
    "duration": 98,
    "start_time": "2022-10-25T10:06:57.005Z"
   },
   {
    "duration": 6,
    "start_time": "2022-10-25T10:08:27.202Z"
   },
   {
    "duration": 5,
    "start_time": "2022-10-25T10:08:27.678Z"
   },
   {
    "duration": 687,
    "start_time": "2022-10-25T10:08:28.347Z"
   },
   {
    "duration": 75,
    "start_time": "2022-10-25T10:08:29.036Z"
   },
   {
    "duration": 5,
    "start_time": "2022-10-25T10:10:23.608Z"
   },
   {
    "duration": 906,
    "start_time": "2022-10-25T10:10:24.217Z"
   },
   {
    "duration": 75,
    "start_time": "2022-10-25T10:10:25.126Z"
   },
   {
    "duration": 10,
    "start_time": "2022-10-25T10:18:14.922Z"
   },
   {
    "duration": 2029,
    "start_time": "2022-10-25T10:18:16.083Z"
   },
   {
    "duration": 90,
    "start_time": "2022-10-25T10:18:18.117Z"
   },
   {
    "duration": 72,
    "start_time": "2022-10-25T10:31:50.580Z"
   },
   {
    "duration": 9,
    "start_time": "2022-10-25T10:32:06.881Z"
   },
   {
    "duration": 1547,
    "start_time": "2022-10-25T10:32:07.708Z"
   },
   {
    "duration": 45,
    "start_time": "2022-10-25T10:32:09.263Z"
   },
   {
    "duration": 12,
    "start_time": "2022-10-25T10:32:49.554Z"
   },
   {
    "duration": 5,
    "start_time": "2022-10-25T10:37:19.600Z"
   },
   {
    "duration": 1163,
    "start_time": "2022-10-25T10:37:20.214Z"
   },
   {
    "duration": 6,
    "start_time": "2022-10-25T10:37:21.400Z"
   },
   {
    "duration": 16,
    "start_time": "2022-10-25T10:40:35.034Z"
   },
   {
    "duration": 79,
    "start_time": "2022-10-25T10:40:42.280Z"
   },
   {
    "duration": 22,
    "start_time": "2022-10-25T10:41:02.881Z"
   },
   {
    "duration": 11,
    "start_time": "2022-10-25T10:41:09.825Z"
   },
   {
    "duration": 1347,
    "start_time": "2022-10-25T10:42:30.930Z"
   },
   {
    "duration": 15,
    "start_time": "2022-10-25T10:42:32.284Z"
   },
   {
    "duration": 21,
    "start_time": "2022-10-25T10:42:32.399Z"
   },
   {
    "duration": 15,
    "start_time": "2022-10-25T10:43:04.328Z"
   },
   {
    "duration": 11,
    "start_time": "2022-10-25T11:56:49.984Z"
   },
   {
    "duration": 32,
    "start_time": "2022-10-25T11:57:20.982Z"
   },
   {
    "duration": 30,
    "start_time": "2022-10-25T11:57:31.517Z"
   },
   {
    "duration": 16,
    "start_time": "2022-10-25T11:57:39.917Z"
   },
   {
    "duration": 2696,
    "start_time": "2022-10-25T11:57:43.156Z"
   },
   {
    "duration": 18,
    "start_time": "2022-10-25T11:58:49.235Z"
   },
   {
    "duration": 289,
    "start_time": "2022-10-25T11:58:56.216Z"
   },
   {
    "duration": 253,
    "start_time": "2022-10-25T11:59:05.438Z"
   },
   {
    "duration": 278,
    "start_time": "2022-10-25T11:59:40.121Z"
   },
   {
    "duration": 290,
    "start_time": "2022-10-25T12:00:01.549Z"
   },
   {
    "duration": 409,
    "start_time": "2022-10-25T12:00:43.280Z"
   },
   {
    "duration": 270,
    "start_time": "2022-10-25T12:01:49.994Z"
   },
   {
    "duration": 2388,
    "start_time": "2022-10-25T12:03:37.035Z"
   },
   {
    "duration": 651,
    "start_time": "2022-10-25T12:03:39.425Z"
   },
   {
    "duration": 73,
    "start_time": "2022-10-25T12:03:40.086Z"
   },
   {
    "duration": 186,
    "start_time": "2022-10-25T12:03:40.161Z"
   },
   {
    "duration": 99,
    "start_time": "2022-10-25T12:03:40.358Z"
   },
   {
    "duration": 109,
    "start_time": "2022-10-25T12:03:40.459Z"
   },
   {
    "duration": 46,
    "start_time": "2022-10-25T12:03:40.573Z"
   },
   {
    "duration": 186,
    "start_time": "2022-10-25T12:03:40.626Z"
   },
   {
    "duration": 257,
    "start_time": "2022-10-25T12:03:40.821Z"
   },
   {
    "duration": 149,
    "start_time": "2022-10-25T12:03:41.086Z"
   },
   {
    "duration": 96,
    "start_time": "2022-10-25T12:03:41.243Z"
   },
   {
    "duration": 89,
    "start_time": "2022-10-25T12:03:41.357Z"
   },
   {
    "duration": 295,
    "start_time": "2022-10-25T12:03:41.465Z"
   },
   {
    "duration": 208,
    "start_time": "2022-10-25T12:03:41.770Z"
   },
   {
    "duration": 118,
    "start_time": "2022-10-25T12:03:41.990Z"
   },
   {
    "duration": 189,
    "start_time": "2022-10-25T12:03:42.116Z"
   },
   {
    "duration": 72,
    "start_time": "2022-10-25T12:03:42.313Z"
   },
   {
    "duration": 674,
    "start_time": "2022-10-25T12:03:42.397Z"
   },
   {
    "duration": 20,
    "start_time": "2022-10-25T12:03:43.079Z"
   },
   {
    "duration": 212,
    "start_time": "2022-10-25T12:03:43.107Z"
   },
   {
    "duration": 158,
    "start_time": "2022-10-25T12:03:43.332Z"
   },
   {
    "duration": 121,
    "start_time": "2022-10-25T12:03:43.506Z"
   },
   {
    "duration": 215,
    "start_time": "2022-10-25T12:03:43.636Z"
   },
   {
    "duration": 227,
    "start_time": "2022-10-25T12:03:43.856Z"
   },
   {
    "duration": 399,
    "start_time": "2022-10-25T12:03:44.089Z"
   },
   {
    "duration": 241,
    "start_time": "2022-10-25T12:03:44.494Z"
   },
   {
    "duration": 246,
    "start_time": "2022-10-25T12:03:44.742Z"
   },
   {
    "duration": 32,
    "start_time": "2022-10-25T12:03:44.995Z"
   },
   {
    "duration": 2537,
    "start_time": "2022-10-25T12:03:45.034Z"
   },
   {
    "duration": 16,
    "start_time": "2022-10-25T12:03:47.573Z"
   },
   {
    "duration": 33,
    "start_time": "2022-10-25T12:03:47.592Z"
   },
   {
    "duration": 277,
    "start_time": "2022-10-25T12:03:47.631Z"
   },
   {
    "duration": 109,
    "start_time": "2022-10-25T12:03:47.915Z"
   },
   {
    "duration": 3430,
    "start_time": "2022-10-25T12:03:48.029Z"
   },
   {
    "duration": 9,
    "start_time": "2022-10-25T12:03:51.469Z"
   },
   {
    "duration": 102,
    "start_time": "2022-10-25T12:03:51.480Z"
   },
   {
    "duration": 63,
    "start_time": "2022-10-25T12:03:51.593Z"
   },
   {
    "duration": 170,
    "start_time": "2022-10-25T12:03:51.661Z"
   },
   {
    "duration": 1858,
    "start_time": "2022-10-25T12:03:51.841Z"
   },
   {
    "duration": 6,
    "start_time": "2022-10-25T12:03:53.700Z"
   },
   {
    "duration": 166,
    "start_time": "2022-10-25T12:03:53.713Z"
   },
   {
    "duration": 3429,
    "start_time": "2022-10-25T12:04:53.184Z"
   },
   {
    "duration": 6,
    "start_time": "2022-10-25T12:11:12.819Z"
   },
   {
    "duration": 7,
    "start_time": "2022-10-25T12:13:55.187Z"
   },
   {
    "duration": 9,
    "start_time": "2022-10-25T12:13:56.137Z"
   },
   {
    "duration": 128,
    "start_time": "2022-10-25T12:14:06.196Z"
   },
   {
    "duration": 12,
    "start_time": "2022-10-25T12:14:18.084Z"
   },
   {
    "duration": 2587,
    "start_time": "2022-10-25T12:14:18.708Z"
   },
   {
    "duration": 25,
    "start_time": "2022-10-25T12:14:39.778Z"
   },
   {
    "duration": 576,
    "start_time": "2022-10-25T12:14:40.341Z"
   },
   {
    "duration": 9,
    "start_time": "2022-10-25T12:15:01.844Z"
   },
   {
    "duration": 570,
    "start_time": "2022-10-25T12:15:02.192Z"
   },
   {
    "duration": 69,
    "start_time": "2022-10-25T12:20:18.817Z"
   },
   {
    "duration": 2630,
    "start_time": "2022-10-25T12:20:19.707Z"
   },
   {
    "duration": 62,
    "start_time": "2022-10-25T12:21:32.851Z"
   },
   {
    "duration": 57,
    "start_time": "2022-10-26T08:23:52.248Z"
   },
   {
    "duration": 56,
    "start_time": "2022-10-26T08:24:11.947Z"
   },
   {
    "duration": 58,
    "start_time": "2022-10-26T08:24:39.386Z"
   },
   {
    "duration": 38,
    "start_time": "2022-10-26T08:24:51.296Z"
   },
   {
    "duration": 26,
    "start_time": "2022-10-26T08:25:07.955Z"
   },
   {
    "duration": 12,
    "start_time": "2022-10-26T08:25:16.280Z"
   },
   {
    "duration": 477,
    "start_time": "2022-10-26T08:26:29.546Z"
   },
   {
    "duration": 22,
    "start_time": "2022-10-26T08:27:04.044Z"
   },
   {
    "duration": 17,
    "start_time": "2022-10-26T08:27:07.982Z"
   },
   {
    "duration": 40,
    "start_time": "2022-10-26T08:30:24.339Z"
   },
   {
    "duration": 10,
    "start_time": "2022-10-26T08:30:38.512Z"
   },
   {
    "duration": 36,
    "start_time": "2022-10-26T08:31:07.991Z"
   },
   {
    "duration": 3,
    "start_time": "2022-10-26T08:32:28.091Z"
   },
   {
    "duration": 22,
    "start_time": "2022-10-26T08:32:33.350Z"
   },
   {
    "duration": 33,
    "start_time": "2022-10-26T08:34:09.894Z"
   },
   {
    "duration": 2446,
    "start_time": "2022-10-26T08:34:28.149Z"
   },
   {
    "duration": 2317,
    "start_time": "2022-10-26T08:34:55.986Z"
   },
   {
    "duration": 5,
    "start_time": "2022-10-26T08:36:18.689Z"
   },
   {
    "duration": 122,
    "start_time": "2022-10-26T08:36:36.447Z"
   },
   {
    "duration": 110,
    "start_time": "2022-10-26T08:36:48.463Z"
   },
   {
    "duration": 121,
    "start_time": "2022-10-26T08:37:05.947Z"
   },
   {
    "duration": 26,
    "start_time": "2022-10-26T08:37:48.047Z"
   },
   {
    "duration": 9,
    "start_time": "2022-10-26T08:38:31.781Z"
   },
   {
    "duration": 32,
    "start_time": "2022-10-26T08:38:44.058Z"
   },
   {
    "duration": 19,
    "start_time": "2022-10-26T08:39:23.709Z"
   },
   {
    "duration": 18,
    "start_time": "2022-10-26T08:40:13.856Z"
   },
   {
    "duration": 20,
    "start_time": "2022-10-26T08:40:29.847Z"
   },
   {
    "duration": 20,
    "start_time": "2022-10-26T08:41:08.262Z"
   },
   {
    "duration": 15,
    "start_time": "2022-10-26T08:41:30.096Z"
   },
   {
    "duration": 4,
    "start_time": "2022-10-26T08:46:11.046Z"
   },
   {
    "duration": 24,
    "start_time": "2022-10-26T08:46:20.464Z"
   },
   {
    "duration": 2493,
    "start_time": "2022-10-26T08:46:21.051Z"
   },
   {
    "duration": 9,
    "start_time": "2022-10-26T08:46:23.546Z"
   },
   {
    "duration": 1379,
    "start_time": "2022-10-26T08:46:59.450Z"
   },
   {
    "duration": 3,
    "start_time": "2022-10-26T08:47:00.830Z"
   },
   {
    "duration": 297,
    "start_time": "2022-10-26T08:47:00.835Z"
   },
   {
    "duration": 25,
    "start_time": "2022-10-26T08:47:01.134Z"
   },
   {
    "duration": 31,
    "start_time": "2022-10-26T08:47:01.161Z"
   },
   {
    "duration": 19,
    "start_time": "2022-10-26T08:47:01.194Z"
   },
   {
    "duration": 25,
    "start_time": "2022-10-26T08:47:01.215Z"
   },
   {
    "duration": 41,
    "start_time": "2022-10-26T08:47:01.243Z"
   },
   {
    "duration": 13,
    "start_time": "2022-10-26T08:47:01.286Z"
   },
   {
    "duration": 118,
    "start_time": "2022-10-26T08:47:01.301Z"
   },
   {
    "duration": 103,
    "start_time": "2022-10-26T08:47:01.422Z"
   },
   {
    "duration": 42,
    "start_time": "2022-10-26T08:47:01.527Z"
   },
   {
    "duration": 26,
    "start_time": "2022-10-26T08:47:01.571Z"
   },
   {
    "duration": 40,
    "start_time": "2022-10-26T08:47:01.601Z"
   },
   {
    "duration": 26,
    "start_time": "2022-10-26T08:47:01.643Z"
   },
   {
    "duration": 15,
    "start_time": "2022-10-26T08:47:01.672Z"
   },
   {
    "duration": 37,
    "start_time": "2022-10-26T08:47:01.690Z"
   },
   {
    "duration": 4,
    "start_time": "2022-10-26T08:47:01.729Z"
   },
   {
    "duration": 269,
    "start_time": "2022-10-26T08:47:01.736Z"
   },
   {
    "duration": 7,
    "start_time": "2022-10-26T08:47:02.007Z"
   },
   {
    "duration": 24,
    "start_time": "2022-10-26T08:47:02.016Z"
   },
   {
    "duration": 43,
    "start_time": "2022-10-26T08:47:02.042Z"
   },
   {
    "duration": 13,
    "start_time": "2022-10-26T08:47:02.087Z"
   },
   {
    "duration": 23,
    "start_time": "2022-10-26T08:47:02.101Z"
   },
   {
    "duration": 166,
    "start_time": "2022-10-26T08:47:02.125Z"
   },
   {
    "duration": 133,
    "start_time": "2022-10-26T08:47:02.293Z"
   },
   {
    "duration": 140,
    "start_time": "2022-10-26T08:47:02.428Z"
   },
   {
    "duration": 127,
    "start_time": "2022-10-26T08:47:02.570Z"
   },
   {
    "duration": 135,
    "start_time": "2022-10-26T08:47:02.698Z"
   },
   {
    "duration": 111,
    "start_time": "2022-10-26T08:47:02.835Z"
   },
   {
    "duration": 15,
    "start_time": "2022-10-26T08:47:02.953Z"
   },
   {
    "duration": 114,
    "start_time": "2022-10-26T08:47:02.969Z"
   },
   {
    "duration": 52,
    "start_time": "2022-10-26T08:47:03.084Z"
   },
   {
    "duration": 1906,
    "start_time": "2022-10-26T08:47:03.138Z"
   },
   {
    "duration": 104,
    "start_time": "2022-10-26T08:47:05.046Z"
   },
   {
    "duration": 0,
    "start_time": "2022-10-26T08:47:05.152Z"
   },
   {
    "duration": 0,
    "start_time": "2022-10-26T08:47:05.154Z"
   },
   {
    "duration": 0,
    "start_time": "2022-10-26T08:47:05.155Z"
   },
   {
    "duration": 0,
    "start_time": "2022-10-26T08:47:05.156Z"
   },
   {
    "duration": 0,
    "start_time": "2022-10-26T08:47:05.157Z"
   },
   {
    "duration": 0,
    "start_time": "2022-10-26T08:47:05.159Z"
   },
   {
    "duration": 0,
    "start_time": "2022-10-26T08:47:05.160Z"
   },
   {
    "duration": 0,
    "start_time": "2022-10-26T08:47:05.161Z"
   },
   {
    "duration": 0,
    "start_time": "2022-10-26T08:47:05.162Z"
   },
   {
    "duration": 0,
    "start_time": "2022-10-26T08:47:05.163Z"
   },
   {
    "duration": 0,
    "start_time": "2022-10-26T08:47:05.164Z"
   },
   {
    "duration": 0,
    "start_time": "2022-10-26T08:47:05.165Z"
   },
   {
    "duration": 0,
    "start_time": "2022-10-26T08:47:05.166Z"
   },
   {
    "duration": 5,
    "start_time": "2022-10-26T08:47:26.355Z"
   },
   {
    "duration": 51,
    "start_time": "2022-10-28T04:07:00.319Z"
   },
   {
    "duration": 1473,
    "start_time": "2022-10-28T04:07:09.666Z"
   },
   {
    "duration": 3,
    "start_time": "2022-10-28T04:07:11.141Z"
   },
   {
    "duration": 462,
    "start_time": "2022-10-28T04:07:11.145Z"
   },
   {
    "duration": 24,
    "start_time": "2022-10-28T04:07:11.608Z"
   },
   {
    "duration": 22,
    "start_time": "2022-10-28T04:07:11.634Z"
   },
   {
    "duration": 11,
    "start_time": "2022-10-28T04:07:11.657Z"
   },
   {
    "duration": 11,
    "start_time": "2022-10-28T04:07:11.669Z"
   },
   {
    "duration": 21,
    "start_time": "2022-10-28T04:07:11.682Z"
   },
   {
    "duration": 13,
    "start_time": "2022-10-28T04:07:11.705Z"
   },
   {
    "duration": 95,
    "start_time": "2022-10-28T04:07:11.720Z"
   },
   {
    "duration": 78,
    "start_time": "2022-10-28T04:07:11.817Z"
   },
   {
    "duration": 26,
    "start_time": "2022-10-28T04:07:11.897Z"
   },
   {
    "duration": 8,
    "start_time": "2022-10-28T04:07:11.939Z"
   },
   {
    "duration": 41,
    "start_time": "2022-10-28T04:07:11.951Z"
   },
   {
    "duration": 44,
    "start_time": "2022-10-28T04:07:11.994Z"
   },
   {
    "duration": 7,
    "start_time": "2022-10-28T04:07:12.040Z"
   },
   {
    "duration": 29,
    "start_time": "2022-10-28T04:07:12.049Z"
   },
   {
    "duration": 3,
    "start_time": "2022-10-28T04:07:12.080Z"
   },
   {
    "duration": 252,
    "start_time": "2022-10-28T04:07:12.085Z"
   },
   {
    "duration": 7,
    "start_time": "2022-10-28T04:07:12.339Z"
   },
   {
    "duration": 8,
    "start_time": "2022-10-28T04:07:12.347Z"
   },
   {
    "duration": 25,
    "start_time": "2022-10-28T04:07:12.356Z"
   },
   {
    "duration": 4,
    "start_time": "2022-10-28T04:07:12.383Z"
   },
   {
    "duration": 5,
    "start_time": "2022-10-28T04:07:12.389Z"
   },
   {
    "duration": 196,
    "start_time": "2022-10-28T04:07:12.395Z"
   },
   {
    "duration": 118,
    "start_time": "2022-10-28T04:07:12.593Z"
   },
   {
    "duration": 130,
    "start_time": "2022-10-28T04:07:12.712Z"
   },
   {
    "duration": 110,
    "start_time": "2022-10-28T04:07:12.843Z"
   },
   {
    "duration": 132,
    "start_time": "2022-10-28T04:07:12.954Z"
   },
   {
    "duration": 110,
    "start_time": "2022-10-28T04:07:13.088Z"
   },
   {
    "duration": 14,
    "start_time": "2022-10-28T04:07:13.199Z"
   },
   {
    "duration": 88,
    "start_time": "2022-10-28T04:07:13.214Z"
   },
   {
    "duration": 59,
    "start_time": "2022-10-28T04:07:13.304Z"
   },
   {
    "duration": 2040,
    "start_time": "2022-10-28T04:07:13.364Z"
   },
   {
    "duration": 5,
    "start_time": "2022-10-28T04:07:15.406Z"
   },
   {
    "duration": 107,
    "start_time": "2022-10-28T04:07:15.413Z"
   },
   {
    "duration": 0,
    "start_time": "2022-10-28T04:07:15.522Z"
   },
   {
    "duration": 0,
    "start_time": "2022-10-28T04:07:15.524Z"
   },
   {
    "duration": 0,
    "start_time": "2022-10-28T04:07:15.525Z"
   },
   {
    "duration": 0,
    "start_time": "2022-10-28T04:07:15.526Z"
   },
   {
    "duration": 0,
    "start_time": "2022-10-28T04:07:15.539Z"
   },
   {
    "duration": 0,
    "start_time": "2022-10-28T04:07:15.541Z"
   },
   {
    "duration": 0,
    "start_time": "2022-10-28T04:07:15.542Z"
   },
   {
    "duration": 0,
    "start_time": "2022-10-28T04:07:15.543Z"
   },
   {
    "duration": 0,
    "start_time": "2022-10-28T04:07:15.545Z"
   },
   {
    "duration": 0,
    "start_time": "2022-10-28T04:07:15.546Z"
   },
   {
    "duration": 0,
    "start_time": "2022-10-28T04:07:15.547Z"
   },
   {
    "duration": 0,
    "start_time": "2022-10-28T04:07:15.548Z"
   },
   {
    "duration": 11,
    "start_time": "2022-10-28T04:07:46.527Z"
   },
   {
    "duration": 24,
    "start_time": "2022-10-28T04:08:02.189Z"
   },
   {
    "duration": 16,
    "start_time": "2022-10-28T04:08:14.266Z"
   },
   {
    "duration": 13,
    "start_time": "2022-10-28T04:08:37.694Z"
   },
   {
    "duration": 13,
    "start_time": "2022-10-28T04:09:13.649Z"
   },
   {
    "duration": 1313,
    "start_time": "2022-10-28T04:09:25.760Z"
   },
   {
    "duration": 3,
    "start_time": "2022-10-28T04:09:27.076Z"
   },
   {
    "duration": 318,
    "start_time": "2022-10-28T04:09:27.080Z"
   },
   {
    "duration": 40,
    "start_time": "2022-10-28T04:09:27.401Z"
   },
   {
    "duration": 27,
    "start_time": "2022-10-28T04:09:27.444Z"
   },
   {
    "duration": 4,
    "start_time": "2022-10-28T04:09:27.473Z"
   },
   {
    "duration": 11,
    "start_time": "2022-10-28T04:09:27.479Z"
   },
   {
    "duration": 49,
    "start_time": "2022-10-28T04:09:27.492Z"
   },
   {
    "duration": 12,
    "start_time": "2022-10-28T04:09:27.543Z"
   },
   {
    "duration": 96,
    "start_time": "2022-10-28T04:09:27.556Z"
   },
   {
    "duration": 64,
    "start_time": "2022-10-28T04:09:27.654Z"
   },
   {
    "duration": 36,
    "start_time": "2022-10-28T04:09:27.720Z"
   },
   {
    "duration": 9,
    "start_time": "2022-10-28T04:09:27.757Z"
   },
   {
    "duration": 28,
    "start_time": "2022-10-28T04:09:27.769Z"
   },
   {
    "duration": 20,
    "start_time": "2022-10-28T04:09:27.798Z"
   },
   {
    "duration": 8,
    "start_time": "2022-10-28T04:09:27.838Z"
   },
   {
    "duration": 19,
    "start_time": "2022-10-28T04:09:27.847Z"
   },
   {
    "duration": 2,
    "start_time": "2022-10-28T04:09:27.868Z"
   },
   {
    "duration": 263,
    "start_time": "2022-10-28T04:09:27.872Z"
   },
   {
    "duration": 9,
    "start_time": "2022-10-28T04:09:28.137Z"
   },
   {
    "duration": 10,
    "start_time": "2022-10-28T04:09:28.148Z"
   },
   {
    "duration": 24,
    "start_time": "2022-10-28T04:09:28.160Z"
   },
   {
    "duration": 5,
    "start_time": "2022-10-28T04:09:28.185Z"
   },
   {
    "duration": 7,
    "start_time": "2022-10-28T04:09:28.192Z"
   },
   {
    "duration": 205,
    "start_time": "2022-10-28T04:09:28.200Z"
   },
   {
    "duration": 151,
    "start_time": "2022-10-28T04:09:28.407Z"
   },
   {
    "duration": 145,
    "start_time": "2022-10-28T04:09:28.560Z"
   },
   {
    "duration": 113,
    "start_time": "2022-10-28T04:09:28.707Z"
   },
   {
    "duration": 134,
    "start_time": "2022-10-28T04:09:28.821Z"
   },
   {
    "duration": 111,
    "start_time": "2022-10-28T04:09:28.957Z"
   },
   {
    "duration": 13,
    "start_time": "2022-10-28T04:09:29.069Z"
   },
   {
    "duration": 97,
    "start_time": "2022-10-28T04:09:29.084Z"
   },
   {
    "duration": 63,
    "start_time": "2022-10-28T04:09:29.182Z"
   },
   {
    "duration": 2009,
    "start_time": "2022-10-28T04:09:29.246Z"
   },
   {
    "duration": 4,
    "start_time": "2022-10-28T04:09:31.257Z"
   },
   {
    "duration": 111,
    "start_time": "2022-10-28T04:09:31.263Z"
   },
   {
    "duration": 0,
    "start_time": "2022-10-28T04:09:31.376Z"
   },
   {
    "duration": 0,
    "start_time": "2022-10-28T04:09:31.377Z"
   },
   {
    "duration": 0,
    "start_time": "2022-10-28T04:09:31.378Z"
   },
   {
    "duration": 0,
    "start_time": "2022-10-28T04:09:31.379Z"
   },
   {
    "duration": 0,
    "start_time": "2022-10-28T04:09:31.380Z"
   },
   {
    "duration": 0,
    "start_time": "2022-10-28T04:09:31.381Z"
   },
   {
    "duration": 0,
    "start_time": "2022-10-28T04:09:31.382Z"
   },
   {
    "duration": 0,
    "start_time": "2022-10-28T04:09:31.383Z"
   },
   {
    "duration": 0,
    "start_time": "2022-10-28T04:09:31.384Z"
   },
   {
    "duration": 0,
    "start_time": "2022-10-28T04:09:31.385Z"
   },
   {
    "duration": 0,
    "start_time": "2022-10-28T04:09:31.386Z"
   },
   {
    "duration": 0,
    "start_time": "2022-10-28T04:09:31.387Z"
   },
   {
    "duration": 11,
    "start_time": "2022-10-28T04:10:06.910Z"
   },
   {
    "duration": 23,
    "start_time": "2022-10-28T04:10:10.250Z"
   },
   {
    "duration": 16,
    "start_time": "2022-10-28T04:10:18.790Z"
   },
   {
    "duration": 12,
    "start_time": "2022-10-28T04:11:04.713Z"
   },
   {
    "duration": 12,
    "start_time": "2022-10-28T04:11:17.594Z"
   },
   {
    "duration": 1331,
    "start_time": "2022-10-28T04:11:29.017Z"
   },
   {
    "duration": 3,
    "start_time": "2022-10-28T04:11:30.350Z"
   },
   {
    "duration": 255,
    "start_time": "2022-10-28T04:11:30.355Z"
   },
   {
    "duration": 28,
    "start_time": "2022-10-28T04:11:30.612Z"
   },
   {
    "duration": 20,
    "start_time": "2022-10-28T04:11:30.643Z"
   },
   {
    "duration": 9,
    "start_time": "2022-10-28T04:11:30.665Z"
   },
   {
    "duration": 13,
    "start_time": "2022-10-28T04:11:30.676Z"
   },
   {
    "duration": 49,
    "start_time": "2022-10-28T04:11:30.691Z"
   },
   {
    "duration": 14,
    "start_time": "2022-10-28T04:11:30.741Z"
   },
   {
    "duration": 91,
    "start_time": "2022-10-28T04:11:30.757Z"
   },
   {
    "duration": 64,
    "start_time": "2022-10-28T04:11:30.849Z"
   },
   {
    "duration": 42,
    "start_time": "2022-10-28T04:11:30.915Z"
   },
   {
    "duration": 6,
    "start_time": "2022-10-28T04:11:30.959Z"
   },
   {
    "duration": 32,
    "start_time": "2022-10-28T04:11:30.967Z"
   },
   {
    "duration": 18,
    "start_time": "2022-10-28T04:11:31.001Z"
   },
   {
    "duration": 22,
    "start_time": "2022-10-28T04:11:31.020Z"
   },
   {
    "duration": 43,
    "start_time": "2022-10-28T04:11:31.044Z"
   },
   {
    "duration": 4,
    "start_time": "2022-10-28T04:11:31.089Z"
   },
   {
    "duration": 210,
    "start_time": "2022-10-28T04:11:31.094Z"
   },
   {
    "duration": 8,
    "start_time": "2022-10-28T04:11:31.306Z"
   },
   {
    "duration": 7,
    "start_time": "2022-10-28T04:11:31.316Z"
   },
   {
    "duration": 23,
    "start_time": "2022-10-28T04:11:31.339Z"
   },
   {
    "duration": 6,
    "start_time": "2022-10-28T04:11:31.363Z"
   },
   {
    "duration": 10,
    "start_time": "2022-10-28T04:11:31.371Z"
   },
   {
    "duration": 175,
    "start_time": "2022-10-28T04:11:31.383Z"
   },
   {
    "duration": 124,
    "start_time": "2022-10-28T04:11:31.560Z"
   },
   {
    "duration": 140,
    "start_time": "2022-10-28T04:11:31.686Z"
   },
   {
    "duration": 112,
    "start_time": "2022-10-28T04:11:31.830Z"
   },
   {
    "duration": 128,
    "start_time": "2022-10-28T04:11:31.944Z"
   },
   {
    "duration": 108,
    "start_time": "2022-10-28T04:11:32.074Z"
   },
   {
    "duration": 14,
    "start_time": "2022-10-28T04:11:32.184Z"
   },
   {
    "duration": 108,
    "start_time": "2022-10-28T04:11:32.200Z"
   },
   {
    "duration": 58,
    "start_time": "2022-10-28T04:11:32.310Z"
   },
   {
    "duration": 1947,
    "start_time": "2022-10-28T04:11:32.370Z"
   },
   {
    "duration": 5,
    "start_time": "2022-10-28T04:11:34.319Z"
   },
   {
    "duration": 45,
    "start_time": "2022-10-28T04:11:34.327Z"
   },
   {
    "duration": 103,
    "start_time": "2022-10-28T04:11:34.373Z"
   },
   {
    "duration": 0,
    "start_time": "2022-10-28T04:11:34.478Z"
   },
   {
    "duration": 0,
    "start_time": "2022-10-28T04:11:34.480Z"
   },
   {
    "duration": 0,
    "start_time": "2022-10-28T04:11:34.480Z"
   },
   {
    "duration": 0,
    "start_time": "2022-10-28T04:11:34.482Z"
   },
   {
    "duration": 0,
    "start_time": "2022-10-28T04:11:34.482Z"
   },
   {
    "duration": 0,
    "start_time": "2022-10-28T04:11:34.484Z"
   },
   {
    "duration": 0,
    "start_time": "2022-10-28T04:11:34.484Z"
   },
   {
    "duration": 0,
    "start_time": "2022-10-28T04:11:34.485Z"
   },
   {
    "duration": 0,
    "start_time": "2022-10-28T04:11:34.486Z"
   },
   {
    "duration": 0,
    "start_time": "2022-10-28T04:11:34.488Z"
   },
   {
    "duration": 0,
    "start_time": "2022-10-28T04:11:34.488Z"
   },
   {
    "duration": 11,
    "start_time": "2022-10-28T04:11:52.112Z"
   },
   {
    "duration": 368,
    "start_time": "2022-10-28T04:11:57.027Z"
   },
   {
    "duration": 7,
    "start_time": "2022-10-28T04:12:33.356Z"
   },
   {
    "duration": 10,
    "start_time": "2022-10-28T04:12:34.639Z"
   },
   {
    "duration": 28,
    "start_time": "2022-10-28T04:12:35.590Z"
   },
   {
    "duration": 19,
    "start_time": "2022-10-28T04:12:37.722Z"
   },
   {
    "duration": 2162,
    "start_time": "2022-10-28T04:12:38.781Z"
   },
   {
    "duration": 27,
    "start_time": "2022-10-28T04:14:12.230Z"
   },
   {
    "duration": 2327,
    "start_time": "2022-10-28T04:14:17.930Z"
   },
   {
    "duration": 12,
    "start_time": "2022-10-28T04:14:57.896Z"
   },
   {
    "duration": 514,
    "start_time": "2022-10-28T04:15:06.201Z"
   },
   {
    "duration": 4,
    "start_time": "2022-10-28T04:15:40.530Z"
   },
   {
    "duration": 5,
    "start_time": "2022-10-28T04:15:41.270Z"
   },
   {
    "duration": 19,
    "start_time": "2022-10-28T04:15:44.144Z"
   },
   {
    "duration": 5,
    "start_time": "2022-10-28T04:15:57.182Z"
   },
   {
    "duration": 5,
    "start_time": "2022-10-28T04:15:57.688Z"
   },
   {
    "duration": 18,
    "start_time": "2022-10-28T04:16:00.174Z"
   },
   {
    "duration": 679,
    "start_time": "2022-10-28T04:16:22.680Z"
   },
   {
    "duration": 25,
    "start_time": "2022-10-28T04:16:49.321Z"
   },
   {
    "duration": 4,
    "start_time": "2022-10-28T04:17:04.057Z"
   },
   {
    "duration": 5,
    "start_time": "2022-10-28T04:17:04.496Z"
   },
   {
    "duration": 5,
    "start_time": "2022-10-28T04:17:40.639Z"
   },
   {
    "duration": 5,
    "start_time": "2022-10-28T04:17:46.308Z"
   },
   {
    "duration": 1338,
    "start_time": "2022-10-28T04:24:49.232Z"
   },
   {
    "duration": 3,
    "start_time": "2022-10-28T04:24:50.572Z"
   },
   {
    "duration": 251,
    "start_time": "2022-10-28T04:24:50.577Z"
   },
   {
    "duration": 22,
    "start_time": "2022-10-28T04:24:50.830Z"
   },
   {
    "duration": 16,
    "start_time": "2022-10-28T04:24:50.855Z"
   },
   {
    "duration": 5,
    "start_time": "2022-10-28T04:24:50.873Z"
   },
   {
    "duration": 10,
    "start_time": "2022-10-28T04:24:50.879Z"
   },
   {
    "duration": 49,
    "start_time": "2022-10-28T04:24:50.891Z"
   },
   {
    "duration": 15,
    "start_time": "2022-10-28T04:24:50.942Z"
   },
   {
    "duration": 98,
    "start_time": "2022-10-28T04:24:50.958Z"
   },
   {
    "duration": 66,
    "start_time": "2022-10-28T04:24:51.057Z"
   },
   {
    "duration": 37,
    "start_time": "2022-10-28T04:24:51.124Z"
   },
   {
    "duration": 7,
    "start_time": "2022-10-28T04:24:51.163Z"
   },
   {
    "duration": 29,
    "start_time": "2022-10-28T04:24:51.173Z"
   },
   {
    "duration": 44,
    "start_time": "2022-10-28T04:24:51.204Z"
   },
   {
    "duration": 6,
    "start_time": "2022-10-28T04:24:51.249Z"
   },
   {
    "duration": 18,
    "start_time": "2022-10-28T04:24:51.257Z"
   },
   {
    "duration": 7,
    "start_time": "2022-10-28T04:24:51.277Z"
   },
   {
    "duration": 244,
    "start_time": "2022-10-28T04:24:51.285Z"
   },
   {
    "duration": 9,
    "start_time": "2022-10-28T04:24:51.531Z"
   },
   {
    "duration": 9,
    "start_time": "2022-10-28T04:24:51.541Z"
   },
   {
    "duration": 20,
    "start_time": "2022-10-28T04:24:51.551Z"
   },
   {
    "duration": 5,
    "start_time": "2022-10-28T04:24:51.573Z"
   },
   {
    "duration": 6,
    "start_time": "2022-10-28T04:24:51.579Z"
   },
   {
    "duration": 180,
    "start_time": "2022-10-28T04:24:51.587Z"
   },
   {
    "duration": 130,
    "start_time": "2022-10-28T04:24:51.769Z"
   },
   {
    "duration": 130,
    "start_time": "2022-10-28T04:24:51.900Z"
   },
   {
    "duration": 109,
    "start_time": "2022-10-28T04:24:52.031Z"
   },
   {
    "duration": 133,
    "start_time": "2022-10-28T04:24:52.150Z"
   },
   {
    "duration": 110,
    "start_time": "2022-10-28T04:24:52.285Z"
   },
   {
    "duration": 15,
    "start_time": "2022-10-28T04:24:52.397Z"
   },
   {
    "duration": 100,
    "start_time": "2022-10-28T04:24:52.413Z"
   },
   {
    "duration": 86,
    "start_time": "2022-10-28T04:24:52.515Z"
   },
   {
    "duration": 2245,
    "start_time": "2022-10-28T04:24:52.602Z"
   },
   {
    "duration": 4,
    "start_time": "2022-10-28T04:24:54.849Z"
   },
   {
    "duration": 27,
    "start_time": "2022-10-28T04:24:54.855Z"
   },
   {
    "duration": 401,
    "start_time": "2022-10-28T04:24:54.884Z"
   },
   {
    "duration": 4,
    "start_time": "2022-10-28T04:24:55.286Z"
   },
   {
    "duration": 12,
    "start_time": "2022-10-28T04:24:55.292Z"
   },
   {
    "duration": 118,
    "start_time": "2022-10-28T04:24:55.306Z"
   },
   {
    "duration": 0,
    "start_time": "2022-10-28T04:24:55.426Z"
   },
   {
    "duration": 0,
    "start_time": "2022-10-28T04:24:55.427Z"
   },
   {
    "duration": 5,
    "start_time": "2022-10-28T04:26:45.728Z"
   },
   {
    "duration": 15,
    "start_time": "2022-10-28T04:26:46.284Z"
   },
   {
    "duration": 687,
    "start_time": "2022-10-28T04:26:47.043Z"
   },
   {
    "duration": 5,
    "start_time": "2022-10-28T04:27:17.173Z"
   },
   {
    "duration": 28,
    "start_time": "2022-10-28T04:27:57.860Z"
   },
   {
    "duration": 6,
    "start_time": "2022-10-28T04:28:17.676Z"
   },
   {
    "duration": 520,
    "start_time": "2022-10-28T04:28:18.247Z"
   },
   {
    "duration": 4,
    "start_time": "2022-10-28T04:28:19.524Z"
   },
   {
    "duration": 10,
    "start_time": "2022-10-28T04:28:22.365Z"
   },
   {
    "duration": 10,
    "start_time": "2022-10-28T04:31:29.869Z"
   },
   {
    "duration": 10,
    "start_time": "2022-10-28T04:31:48.514Z"
   },
   {
    "duration": 58,
    "start_time": "2022-10-28T04:32:51.269Z"
   },
   {
    "duration": 25,
    "start_time": "2022-10-28T04:32:54.961Z"
   },
   {
    "duration": 3,
    "start_time": "2022-10-28T04:33:05.695Z"
   },
   {
    "duration": 3,
    "start_time": "2022-10-28T04:33:09.480Z"
   },
   {
    "duration": 30,
    "start_time": "2022-10-28T04:35:16.483Z"
   },
   {
    "duration": 4,
    "start_time": "2022-10-28T04:36:53.526Z"
   },
   {
    "duration": 65,
    "start_time": "2022-10-28T04:37:25.609Z"
   },
   {
    "duration": 11099,
    "start_time": "2022-10-28T04:37:40.659Z"
   },
   {
    "duration": 7312,
    "start_time": "2022-10-28T04:37:59.059Z"
   },
   {
    "duration": 5360,
    "start_time": "2022-10-28T04:38:10.843Z"
   },
   {
    "duration": 13032,
    "start_time": "2022-10-28T04:38:35.504Z"
   },
   {
    "duration": 5,
    "start_time": "2022-10-28T04:41:21.769Z"
   },
   {
    "duration": 13114,
    "start_time": "2022-10-28T04:41:25.132Z"
   },
   {
    "duration": 14643,
    "start_time": "2022-10-28T04:44:49.203Z"
   },
   {
    "duration": 15603,
    "start_time": "2022-10-28T04:46:00.331Z"
   },
   {
    "duration": 48,
    "start_time": "2022-10-28T04:49:29.932Z"
   },
   {
    "duration": 13,
    "start_time": "2022-10-28T04:50:26.395Z"
   },
   {
    "duration": 18,
    "start_time": "2022-10-28T04:50:51.521Z"
   },
   {
    "duration": 41,
    "start_time": "2022-10-28T04:51:05.694Z"
   },
   {
    "duration": 23,
    "start_time": "2022-10-28T04:51:12.673Z"
   },
   {
    "duration": 13,
    "start_time": "2022-10-28T04:51:49.796Z"
   },
   {
    "duration": 15,
    "start_time": "2022-10-28T04:52:35.382Z"
   },
   {
    "duration": 5,
    "start_time": "2022-10-28T04:53:24.859Z"
   },
   {
    "duration": 25936,
    "start_time": "2022-10-28T04:53:25.337Z"
   },
   {
    "duration": 508,
    "start_time": "2022-10-28T04:53:51.275Z"
   },
   {
    "duration": 12,
    "start_time": "2022-10-28T04:53:51.785Z"
   },
   {
    "duration": 12,
    "start_time": "2022-10-28T04:54:13.372Z"
   },
   {
    "duration": 31,
    "start_time": "2022-10-28T04:54:45.364Z"
   },
   {
    "duration": 27,
    "start_time": "2022-10-28T04:54:53.151Z"
   },
   {
    "duration": 11,
    "start_time": "2022-10-28T04:54:59.939Z"
   },
   {
    "duration": 2653,
    "start_time": "2022-10-28T04:57:29.631Z"
   },
   {
    "duration": 34346,
    "start_time": "2022-10-28T04:58:07.264Z"
   },
   {
    "duration": 517,
    "start_time": "2022-10-28T04:58:53.726Z"
   },
   {
    "duration": 12,
    "start_time": "2022-10-28T04:58:55.373Z"
   },
   {
    "duration": 12,
    "start_time": "2022-10-28T04:59:00.566Z"
   },
   {
    "duration": 27276,
    "start_time": "2022-10-28T05:01:45.716Z"
   },
   {
    "duration": 532,
    "start_time": "2022-10-28T05:02:12.993Z"
   },
   {
    "duration": 11,
    "start_time": "2022-10-28T05:02:17.728Z"
   },
   {
    "duration": 11,
    "start_time": "2022-10-28T05:02:26.147Z"
   },
   {
    "duration": 13,
    "start_time": "2022-10-28T05:03:14.716Z"
   },
   {
    "duration": 704,
    "start_time": "2022-10-28T05:04:28.483Z"
   },
   {
    "duration": 78932,
    "start_time": "2022-10-28T05:04:39.200Z"
   },
   {
    "duration": 832,
    "start_time": "2022-10-28T05:05:58.134Z"
   },
   {
    "duration": 13,
    "start_time": "2022-10-28T05:06:05.391Z"
   },
   {
    "duration": 11,
    "start_time": "2022-10-28T05:06:11.410Z"
   },
   {
    "duration": 12,
    "start_time": "2022-10-28T05:06:15.116Z"
   },
   {
    "duration": 532778,
    "start_time": "2022-10-28T05:11:47.660Z"
   },
   {
    "duration": 5,
    "start_time": "2022-10-28T05:36:30.489Z"
   },
   {
    "duration": 21,
    "start_time": "2022-10-28T05:36:31.320Z"
   },
   {
    "duration": 48,
    "start_time": "2022-11-01T12:51:37.183Z"
   },
   {
    "duration": 1514,
    "start_time": "2022-11-01T12:51:41.894Z"
   },
   {
    "duration": 2,
    "start_time": "2022-11-01T12:51:43.410Z"
   },
   {
    "duration": 565,
    "start_time": "2022-11-01T12:51:43.859Z"
   },
   {
    "duration": 3,
    "start_time": "2022-11-01T12:53:02.058Z"
   },
   {
    "duration": 37,
    "start_time": "2022-11-01T12:53:13.825Z"
   },
   {
    "duration": 216,
    "start_time": "2022-11-01T12:56:04.218Z"
   },
   {
    "duration": 33,
    "start_time": "2022-11-01T12:56:06.143Z"
   },
   {
    "duration": 3,
    "start_time": "2022-11-01T12:56:13.125Z"
   },
   {
    "duration": 4,
    "start_time": "2022-11-01T12:57:35.634Z"
   },
   {
    "duration": 34,
    "start_time": "2022-11-01T13:02:22.504Z"
   },
   {
    "duration": 77,
    "start_time": "2022-11-01T13:04:09.140Z"
   },
   {
    "duration": 4,
    "start_time": "2022-11-01T13:04:30.719Z"
   },
   {
    "duration": 4,
    "start_time": "2022-11-01T13:04:47.816Z"
   },
   {
    "duration": 34,
    "start_time": "2022-11-01T13:06:03.353Z"
   },
   {
    "duration": 9,
    "start_time": "2022-11-01T13:06:14.594Z"
   },
   {
    "duration": 4,
    "start_time": "2022-11-01T13:06:36.505Z"
   },
   {
    "duration": 46,
    "start_time": "2022-11-01T13:06:52.072Z"
   },
   {
    "duration": 10,
    "start_time": "2022-11-01T13:07:05.908Z"
   },
   {
    "duration": 53,
    "start_time": "2022-11-01T13:07:19.324Z"
   },
   {
    "duration": 67,
    "start_time": "2022-11-01T13:07:26.565Z"
   },
   {
    "duration": 49,
    "start_time": "2022-11-01T13:07:30.514Z"
   },
   {
    "duration": 52,
    "start_time": "2022-11-01T13:07:48.328Z"
   },
   {
    "duration": 86,
    "start_time": "2022-11-01T13:07:52.668Z"
   },
   {
    "duration": 30,
    "start_time": "2022-11-01T13:08:00.040Z"
   },
   {
    "duration": 36,
    "start_time": "2022-11-01T13:08:08.894Z"
   },
   {
    "duration": 42,
    "start_time": "2022-11-01T13:08:17.129Z"
   },
   {
    "duration": 52,
    "start_time": "2022-11-01T13:08:29.923Z"
   },
   {
    "duration": 49,
    "start_time": "2022-11-01T13:08:41.183Z"
   },
   {
    "duration": 109,
    "start_time": "2022-11-01T13:09:35.114Z"
   },
   {
    "duration": 148,
    "start_time": "2022-11-01T13:09:44.618Z"
   },
   {
    "duration": 42,
    "start_time": "2022-11-01T13:10:16.819Z"
   },
   {
    "duration": 42,
    "start_time": "2022-11-01T13:10:30.097Z"
   },
   {
    "duration": 119,
    "start_time": "2022-11-01T13:13:01.453Z"
   },
   {
    "duration": 10,
    "start_time": "2022-11-01T13:13:23.579Z"
   },
   {
    "duration": 11,
    "start_time": "2022-11-01T13:14:00.960Z"
   },
   {
    "duration": 28,
    "start_time": "2022-11-01T13:14:05.926Z"
   },
   {
    "duration": 42,
    "start_time": "2022-11-01T13:14:27.421Z"
   },
   {
    "duration": 9,
    "start_time": "2022-11-01T13:16:12.104Z"
   },
   {
    "duration": 3,
    "start_time": "2022-11-01T13:16:15.081Z"
   },
   {
    "duration": 227,
    "start_time": "2022-11-01T13:16:15.466Z"
   },
   {
    "duration": 17,
    "start_time": "2022-11-01T13:18:39.986Z"
   },
   {
    "duration": 13,
    "start_time": "2022-11-01T13:18:48.967Z"
   },
   {
    "duration": 164,
    "start_time": "2022-11-01T13:19:48.556Z"
   },
   {
    "duration": 197,
    "start_time": "2022-11-01T13:20:49.814Z"
   },
   {
    "duration": 138,
    "start_time": "2022-11-01T13:21:14.953Z"
   },
   {
    "duration": 200,
    "start_time": "2022-11-01T13:21:20.906Z"
   },
   {
    "duration": 311,
    "start_time": "2022-11-01T13:21:36.283Z"
   },
   {
    "duration": 240,
    "start_time": "2022-11-01T13:21:52.622Z"
   },
   {
    "duration": 258,
    "start_time": "2022-11-01T13:22:23.457Z"
   },
   {
    "duration": 269,
    "start_time": "2022-11-01T13:26:30.677Z"
   },
   {
    "duration": 389,
    "start_time": "2022-11-01T13:27:07.992Z"
   },
   {
    "duration": 618,
    "start_time": "2022-11-01T13:28:59.650Z"
   },
   {
    "duration": 552,
    "start_time": "2022-11-01T13:29:30.420Z"
   },
   {
    "duration": 645,
    "start_time": "2022-11-01T13:29:35.015Z"
   },
   {
    "duration": 532,
    "start_time": "2022-11-01T13:29:50.565Z"
   },
   {
    "duration": 101,
    "start_time": "2022-11-01T13:41:27.097Z"
   },
   {
    "duration": 8,
    "start_time": "2022-11-01T13:46:52.897Z"
   },
   {
    "duration": 34,
    "start_time": "2022-11-01T13:48:54.704Z"
   },
   {
    "duration": 6,
    "start_time": "2022-11-01T13:49:01.519Z"
   },
   {
    "duration": 5,
    "start_time": "2022-11-01T13:49:12.314Z"
   },
   {
    "duration": 396,
    "start_time": "2022-11-01T13:51:52.169Z"
   },
   {
    "duration": 58,
    "start_time": "2022-11-02T07:24:34.023Z"
   },
   {
    "duration": 73,
    "start_time": "2022-11-02T07:26:11.766Z"
   },
   {
    "duration": 10,
    "start_time": "2022-11-02T07:26:24.386Z"
   },
   {
    "duration": 6,
    "start_time": "2022-11-02T07:26:41.618Z"
   },
   {
    "duration": 36,
    "start_time": "2022-11-02T07:26:51.317Z"
   },
   {
    "duration": 41,
    "start_time": "2022-11-02T07:27:30.373Z"
   },
   {
    "duration": 25,
    "start_time": "2022-11-02T07:27:35.070Z"
   },
   {
    "duration": 18,
    "start_time": "2022-11-02T07:27:46.544Z"
   },
   {
    "duration": 1420,
    "start_time": "2022-11-02T07:28:24.806Z"
   },
   {
    "duration": 6,
    "start_time": "2022-11-02T07:28:26.228Z"
   },
   {
    "duration": 283,
    "start_time": "2022-11-02T07:28:26.236Z"
   },
   {
    "duration": 4,
    "start_time": "2022-11-02T07:28:26.521Z"
   },
   {
    "duration": 42,
    "start_time": "2022-11-02T07:28:26.527Z"
   },
   {
    "duration": 4,
    "start_time": "2022-11-02T07:28:26.571Z"
   },
   {
    "duration": 34,
    "start_time": "2022-11-02T07:28:26.577Z"
   },
   {
    "duration": 157,
    "start_time": "2022-11-02T07:28:26.634Z"
   },
   {
    "duration": 57,
    "start_time": "2022-11-02T07:28:26.793Z"
   },
   {
    "duration": 9,
    "start_time": "2022-11-02T07:28:26.853Z"
   },
   {
    "duration": 70,
    "start_time": "2022-11-02T07:28:26.863Z"
   },
   {
    "duration": 3,
    "start_time": "2022-11-02T07:28:26.935Z"
   },
   {
    "duration": 254,
    "start_time": "2022-11-02T07:28:26.940Z"
   },
   {
    "duration": 8,
    "start_time": "2022-11-02T07:28:27.195Z"
   },
   {
    "duration": 9,
    "start_time": "2022-11-02T07:28:27.204Z"
   },
   {
    "duration": 29,
    "start_time": "2022-11-02T07:28:27.214Z"
   },
   {
    "duration": 279,
    "start_time": "2022-11-02T07:28:27.245Z"
   },
   {
    "duration": 437,
    "start_time": "2022-11-02T07:28:27.525Z"
   },
   {
    "duration": 23,
    "start_time": "2022-11-02T07:28:27.964Z"
   },
   {
    "duration": 16,
    "start_time": "2022-11-02T07:28:27.989Z"
   },
   {
    "duration": 135,
    "start_time": "2022-11-02T07:28:28.006Z"
   },
   {
    "duration": 22,
    "start_time": "2022-11-02T07:28:28.143Z"
   },
   {
    "duration": 104,
    "start_time": "2022-11-02T07:28:28.167Z"
   },
   {
    "duration": 2393,
    "start_time": "2022-11-02T07:28:28.272Z"
   },
   {
    "duration": 5,
    "start_time": "2022-11-02T07:28:30.667Z"
   },
   {
    "duration": 42,
    "start_time": "2022-11-02T07:28:30.674Z"
   },
   {
    "duration": 425,
    "start_time": "2022-11-02T07:28:30.718Z"
   },
   {
    "duration": 4,
    "start_time": "2022-11-02T07:28:31.147Z"
   },
   {
    "duration": 23,
    "start_time": "2022-11-02T07:28:31.153Z"
   },
   {
    "duration": 138,
    "start_time": "2022-11-02T07:28:31.178Z"
   },
   {
    "duration": 0,
    "start_time": "2022-11-02T07:28:31.318Z"
   },
   {
    "duration": 0,
    "start_time": "2022-11-02T07:28:31.319Z"
   },
   {
    "duration": 0,
    "start_time": "2022-11-02T07:28:31.321Z"
   },
   {
    "duration": 0,
    "start_time": "2022-11-02T07:28:31.322Z"
   },
   {
    "duration": 0,
    "start_time": "2022-11-02T07:28:31.324Z"
   },
   {
    "duration": 0,
    "start_time": "2022-11-02T07:28:31.334Z"
   },
   {
    "duration": 0,
    "start_time": "2022-11-02T07:28:31.335Z"
   },
   {
    "duration": 0,
    "start_time": "2022-11-02T07:28:31.336Z"
   },
   {
    "duration": 0,
    "start_time": "2022-11-02T07:28:31.337Z"
   },
   {
    "duration": 2385,
    "start_time": "2022-11-02T07:29:19.954Z"
   },
   {
    "duration": 25,
    "start_time": "2022-11-02T07:35:46.102Z"
   },
   {
    "duration": 10,
    "start_time": "2022-11-02T07:36:01.075Z"
   },
   {
    "duration": 18,
    "start_time": "2022-11-02T07:37:06.626Z"
   },
   {
    "duration": 1381,
    "start_time": "2022-11-02T07:37:13.356Z"
   },
   {
    "duration": 4,
    "start_time": "2022-11-02T07:37:14.739Z"
   },
   {
    "duration": 253,
    "start_time": "2022-11-02T07:37:14.744Z"
   },
   {
    "duration": 3,
    "start_time": "2022-11-02T07:37:14.998Z"
   },
   {
    "duration": 66,
    "start_time": "2022-11-02T07:37:15.003Z"
   },
   {
    "duration": 4,
    "start_time": "2022-11-02T07:37:15.071Z"
   },
   {
    "duration": 35,
    "start_time": "2022-11-02T07:37:15.076Z"
   },
   {
    "duration": 184,
    "start_time": "2022-11-02T07:37:15.113Z"
   },
   {
    "duration": 60,
    "start_time": "2022-11-02T07:37:15.298Z"
   },
   {
    "duration": 9,
    "start_time": "2022-11-02T07:37:15.359Z"
   },
   {
    "duration": 64,
    "start_time": "2022-11-02T07:37:15.370Z"
   },
   {
    "duration": 3,
    "start_time": "2022-11-02T07:37:15.436Z"
   },
   {
    "duration": 256,
    "start_time": "2022-11-02T07:37:15.440Z"
   },
   {
    "duration": 8,
    "start_time": "2022-11-02T07:37:15.700Z"
   },
   {
    "duration": 10,
    "start_time": "2022-11-02T07:37:15.709Z"
   },
   {
    "duration": 31,
    "start_time": "2022-11-02T07:37:15.720Z"
   },
   {
    "duration": 322,
    "start_time": "2022-11-02T07:37:15.753Z"
   },
   {
    "duration": 491,
    "start_time": "2022-11-02T07:37:16.076Z"
   },
   {
    "duration": 29,
    "start_time": "2022-11-02T07:37:16.569Z"
   },
   {
    "duration": 47,
    "start_time": "2022-11-02T07:37:16.600Z"
   },
   {
    "duration": 138,
    "start_time": "2022-11-02T07:37:16.648Z"
   },
   {
    "duration": 2397,
    "start_time": "2022-11-02T07:37:16.788Z"
   },
   {
    "duration": 117,
    "start_time": "2022-11-02T07:37:19.187Z"
   },
   {
    "duration": 0,
    "start_time": "2022-11-02T07:37:19.306Z"
   },
   {
    "duration": 0,
    "start_time": "2022-11-02T07:37:19.307Z"
   },
   {
    "duration": 0,
    "start_time": "2022-11-02T07:37:19.310Z"
   },
   {
    "duration": 0,
    "start_time": "2022-11-02T07:37:19.311Z"
   },
   {
    "duration": 0,
    "start_time": "2022-11-02T07:37:19.313Z"
   },
   {
    "duration": 0,
    "start_time": "2022-11-02T07:37:19.315Z"
   },
   {
    "duration": 0,
    "start_time": "2022-11-02T07:37:19.334Z"
   },
   {
    "duration": 0,
    "start_time": "2022-11-02T07:37:19.335Z"
   },
   {
    "duration": 0,
    "start_time": "2022-11-02T07:37:19.336Z"
   },
   {
    "duration": 0,
    "start_time": "2022-11-02T07:37:19.338Z"
   },
   {
    "duration": 0,
    "start_time": "2022-11-02T07:37:19.339Z"
   },
   {
    "duration": 0,
    "start_time": "2022-11-02T07:37:19.341Z"
   },
   {
    "duration": 0,
    "start_time": "2022-11-02T07:37:19.342Z"
   },
   {
    "duration": 0,
    "start_time": "2022-11-02T07:37:19.344Z"
   },
   {
    "duration": 19,
    "start_time": "2022-11-02T07:39:01.808Z"
   },
   {
    "duration": 10,
    "start_time": "2022-11-02T07:39:02.722Z"
   },
   {
    "duration": 10,
    "start_time": "2022-11-02T07:39:35.593Z"
   },
   {
    "duration": 4,
    "start_time": "2022-11-02T07:39:59.548Z"
   },
   {
    "duration": 5,
    "start_time": "2022-11-02T07:40:00.408Z"
   },
   {
    "duration": 534,
    "start_time": "2022-11-02T07:40:01.457Z"
   },
   {
    "duration": 4,
    "start_time": "2022-11-02T07:40:08.866Z"
   },
   {
    "duration": 11,
    "start_time": "2022-11-02T07:40:12.148Z"
   },
   {
    "duration": 23,
    "start_time": "2022-11-02T07:40:34.718Z"
   },
   {
    "duration": 117,
    "start_time": "2022-11-02T07:49:09.241Z"
   },
   {
    "duration": 83,
    "start_time": "2022-11-02T07:49:21.276Z"
   },
   {
    "duration": 97,
    "start_time": "2022-11-02T07:49:33.538Z"
   },
   {
    "duration": 50,
    "start_time": "2022-11-02T07:49:39.091Z"
   },
   {
    "duration": 4,
    "start_time": "2022-11-02T07:50:31.076Z"
   },
   {
    "duration": 5,
    "start_time": "2022-11-02T07:57:01.246Z"
   },
   {
    "duration": 540,
    "start_time": "2022-11-02T07:57:02.827Z"
   },
   {
    "duration": 5,
    "start_time": "2022-11-02T07:57:04.281Z"
   },
   {
    "duration": 10,
    "start_time": "2022-11-02T07:57:07.134Z"
   },
   {
    "duration": 576,
    "start_time": "2022-11-02T07:59:59.212Z"
   },
   {
    "duration": 5,
    "start_time": "2022-11-02T08:00:32.774Z"
   },
   {
    "duration": 542,
    "start_time": "2022-11-02T08:00:33.305Z"
   },
   {
    "duration": 4,
    "start_time": "2022-11-02T08:00:33.849Z"
   },
   {
    "duration": 10,
    "start_time": "2022-11-02T08:00:35.256Z"
   },
   {
    "duration": 4,
    "start_time": "2022-11-02T08:01:39.758Z"
   },
   {
    "duration": 5,
    "start_time": "2022-11-02T08:01:40.218Z"
   },
   {
    "duration": 1550,
    "start_time": "2022-11-02T08:08:25.384Z"
   },
   {
    "duration": 3,
    "start_time": "2022-11-02T08:08:26.936Z"
   },
   {
    "duration": 248,
    "start_time": "2022-11-02T08:08:26.940Z"
   },
   {
    "duration": 2,
    "start_time": "2022-11-02T08:08:27.190Z"
   },
   {
    "duration": 51,
    "start_time": "2022-11-02T08:08:27.195Z"
   },
   {
    "duration": 3,
    "start_time": "2022-11-02T08:08:27.248Z"
   },
   {
    "duration": 33,
    "start_time": "2022-11-02T08:08:27.253Z"
   },
   {
    "duration": 197,
    "start_time": "2022-11-02T08:08:27.288Z"
   },
   {
    "duration": 62,
    "start_time": "2022-11-02T08:08:27.487Z"
   },
   {
    "duration": 12,
    "start_time": "2022-11-02T08:08:27.551Z"
   },
   {
    "duration": 73,
    "start_time": "2022-11-02T08:08:27.565Z"
   },
   {
    "duration": 3,
    "start_time": "2022-11-02T08:08:27.640Z"
   },
   {
    "duration": 233,
    "start_time": "2022-11-02T08:08:27.644Z"
   },
   {
    "duration": 7,
    "start_time": "2022-11-02T08:08:27.880Z"
   },
   {
    "duration": 8,
    "start_time": "2022-11-02T08:08:27.888Z"
   },
   {
    "duration": 20,
    "start_time": "2022-11-02T08:08:27.897Z"
   },
   {
    "duration": 299,
    "start_time": "2022-11-02T08:08:27.934Z"
   },
   {
    "duration": 435,
    "start_time": "2022-11-02T08:08:28.236Z"
   },
   {
    "duration": 26,
    "start_time": "2022-11-02T08:08:28.672Z"
   },
   {
    "duration": 38,
    "start_time": "2022-11-02T08:08:28.699Z"
   },
   {
    "duration": 134,
    "start_time": "2022-11-02T08:08:28.739Z"
   },
   {
    "duration": 2439,
    "start_time": "2022-11-02T08:08:28.874Z"
   },
   {
    "duration": 5,
    "start_time": "2022-11-02T08:08:31.315Z"
   },
   {
    "duration": 52,
    "start_time": "2022-11-02T08:08:31.322Z"
   },
   {
    "duration": 6,
    "start_time": "2022-11-02T08:08:31.375Z"
   },
   {
    "duration": 22,
    "start_time": "2022-11-02T08:08:31.382Z"
   },
   {
    "duration": 10,
    "start_time": "2022-11-02T08:08:31.405Z"
   },
   {
    "duration": 546,
    "start_time": "2022-11-02T08:08:31.417Z"
   },
   {
    "duration": 4,
    "start_time": "2022-11-02T08:08:31.965Z"
   },
   {
    "duration": 11,
    "start_time": "2022-11-02T08:08:31.971Z"
   },
   {
    "duration": 2,
    "start_time": "2022-11-02T08:08:31.984Z"
   },
   {
    "duration": 12,
    "start_time": "2022-11-02T08:08:31.988Z"
   },
   {
    "duration": 25228,
    "start_time": "2022-11-02T08:08:32.003Z"
   },
   {
    "duration": 123,
    "start_time": "2022-11-02T08:08:57.233Z"
   },
   {
    "duration": 0,
    "start_time": "2022-11-02T08:08:57.358Z"
   },
   {
    "duration": 0,
    "start_time": "2022-11-02T08:08:57.359Z"
   },
   {
    "duration": 0,
    "start_time": "2022-11-02T08:08:57.361Z"
   },
   {
    "duration": 11,
    "start_time": "2022-11-02T08:11:26.892Z"
   },
   {
    "duration": 4,
    "start_time": "2022-11-02T08:11:33.724Z"
   },
   {
    "duration": 4,
    "start_time": "2022-11-02T08:11:38.273Z"
   },
   {
    "duration": 82583,
    "start_time": "2022-11-02T08:12:46.628Z"
   },
   {
    "duration": 4,
    "start_time": "2022-11-03T05:57:48.131Z"
   },
   {
    "duration": 6,
    "start_time": "2022-11-03T05:57:48.700Z"
   },
   {
    "duration": 51139,
    "start_time": "2022-11-03T05:57:49.348Z"
   },
   {
    "duration": 94,
    "start_time": "2022-11-04T06:22:46.512Z"
   },
   {
    "duration": 1488,
    "start_time": "2022-11-04T06:22:53.495Z"
   },
   {
    "duration": 2,
    "start_time": "2022-11-04T06:22:54.985Z"
   },
   {
    "duration": 446,
    "start_time": "2022-11-04T06:22:54.989Z"
   },
   {
    "duration": 3,
    "start_time": "2022-11-04T06:22:55.437Z"
   },
   {
    "duration": 39,
    "start_time": "2022-11-04T06:22:55.441Z"
   },
   {
    "duration": 3,
    "start_time": "2022-11-04T06:22:55.481Z"
   },
   {
    "duration": 54,
    "start_time": "2022-11-04T06:22:55.486Z"
   },
   {
    "duration": 153,
    "start_time": "2022-11-04T06:22:55.541Z"
   },
   {
    "duration": 52,
    "start_time": "2022-11-04T06:22:55.696Z"
   },
   {
    "duration": 9,
    "start_time": "2022-11-04T06:22:55.751Z"
   },
   {
    "duration": 44,
    "start_time": "2022-11-04T06:22:55.761Z"
   },
   {
    "duration": 3,
    "start_time": "2022-11-04T06:22:55.807Z"
   },
   {
    "duration": 251,
    "start_time": "2022-11-04T06:22:55.812Z"
   },
   {
    "duration": 6,
    "start_time": "2022-11-04T06:22:56.065Z"
   },
   {
    "duration": 7,
    "start_time": "2022-11-04T06:22:56.073Z"
   },
   {
    "duration": 19,
    "start_time": "2022-11-04T06:22:56.081Z"
   },
   {
    "duration": 288,
    "start_time": "2022-11-04T06:22:56.101Z"
   },
   {
    "duration": 426,
    "start_time": "2022-11-04T06:22:56.391Z"
   },
   {
    "duration": 35,
    "start_time": "2022-11-04T06:22:56.819Z"
   },
   {
    "duration": 17,
    "start_time": "2022-11-04T06:22:56.856Z"
   },
   {
    "duration": 126,
    "start_time": "2022-11-04T06:22:56.875Z"
   },
   {
    "duration": 2562,
    "start_time": "2022-11-04T06:22:57.002Z"
   },
   {
    "duration": 5,
    "start_time": "2022-11-04T06:22:59.565Z"
   },
   {
    "duration": 47,
    "start_time": "2022-11-04T06:22:59.572Z"
   },
   {
    "duration": 7,
    "start_time": "2022-11-04T06:22:59.620Z"
   },
   {
    "duration": 6,
    "start_time": "2022-11-04T06:22:59.628Z"
   },
   {
    "duration": 6,
    "start_time": "2022-11-04T06:22:59.635Z"
   },
   {
    "duration": 538,
    "start_time": "2022-11-04T06:22:59.643Z"
   },
   {
    "duration": 4,
    "start_time": "2022-11-04T06:23:00.183Z"
   },
   {
    "duration": 22,
    "start_time": "2022-11-04T06:23:00.189Z"
   },
   {
    "duration": 19,
    "start_time": "2022-11-04T06:23:00.213Z"
   },
   {
    "duration": 15,
    "start_time": "2022-11-04T06:23:00.234Z"
   },
   {
    "duration": 53472,
    "start_time": "2022-11-04T06:23:00.251Z"
   },
   {
    "duration": 122,
    "start_time": "2022-11-04T06:26:34.755Z"
   },
   {
    "duration": 38513,
    "start_time": "2022-11-04T06:26:53.507Z"
   },
   {
    "duration": 14899,
    "start_time": "2022-11-04T06:27:32.022Z"
   },
   {
    "duration": 14460,
    "start_time": "2022-11-04T06:28:20.998Z"
   },
   {
    "duration": 487,
    "start_time": "2022-11-04T06:36:24.132Z"
   },
   {
    "duration": 6,
    "start_time": "2022-11-04T06:36:24.763Z"
   },
   {
    "duration": 734,
    "start_time": "2022-11-04T06:36:26.358Z"
   },
   {
    "duration": 9,
    "start_time": "2022-11-04T06:38:51.115Z"
   },
   {
    "duration": 53,
    "start_time": "2022-11-04T06:39:22.025Z"
   },
   {
    "duration": 1316,
    "start_time": "2022-11-04T06:44:22.475Z"
   },
   {
    "duration": 3,
    "start_time": "2022-11-04T06:44:23.793Z"
   },
   {
    "duration": 233,
    "start_time": "2022-11-04T06:44:23.797Z"
   },
   {
    "duration": 3,
    "start_time": "2022-11-04T06:44:24.031Z"
   },
   {
    "duration": 41,
    "start_time": "2022-11-04T06:44:24.036Z"
   },
   {
    "duration": 3,
    "start_time": "2022-11-04T06:44:24.079Z"
   },
   {
    "duration": 43,
    "start_time": "2022-11-04T06:44:24.084Z"
   },
   {
    "duration": 154,
    "start_time": "2022-11-04T06:44:24.129Z"
   },
   {
    "duration": 55,
    "start_time": "2022-11-04T06:44:24.284Z"
   },
   {
    "duration": 8,
    "start_time": "2022-11-04T06:44:24.341Z"
   },
   {
    "duration": 49,
    "start_time": "2022-11-04T06:44:24.351Z"
   },
   {
    "duration": 3,
    "start_time": "2022-11-04T06:44:24.401Z"
   },
   {
    "duration": 267,
    "start_time": "2022-11-04T06:44:24.405Z"
   },
   {
    "duration": 8,
    "start_time": "2022-11-04T06:44:24.675Z"
   },
   {
    "duration": 10,
    "start_time": "2022-11-04T06:44:24.684Z"
   },
   {
    "duration": 34,
    "start_time": "2022-11-04T06:44:24.695Z"
   },
   {
    "duration": 295,
    "start_time": "2022-11-04T06:44:24.731Z"
   },
   {
    "duration": 423,
    "start_time": "2022-11-04T06:44:25.028Z"
   },
   {
    "duration": 22,
    "start_time": "2022-11-04T06:44:25.453Z"
   },
   {
    "duration": 15,
    "start_time": "2022-11-04T06:44:25.476Z"
   },
   {
    "duration": 125,
    "start_time": "2022-11-04T06:44:25.493Z"
   },
   {
    "duration": 2384,
    "start_time": "2022-11-04T06:44:25.620Z"
   },
   {
    "duration": 5,
    "start_time": "2022-11-04T06:44:28.005Z"
   },
   {
    "duration": 46,
    "start_time": "2022-11-04T06:44:28.011Z"
   },
   {
    "duration": 6,
    "start_time": "2022-11-04T06:44:28.058Z"
   },
   {
    "duration": 10,
    "start_time": "2022-11-04T06:44:28.065Z"
   },
   {
    "duration": 6,
    "start_time": "2022-11-04T06:44:28.076Z"
   },
   {
    "duration": 567,
    "start_time": "2022-11-04T06:44:28.083Z"
   },
   {
    "duration": 5,
    "start_time": "2022-11-04T06:44:28.651Z"
   },
   {
    "duration": 11,
    "start_time": "2022-11-04T06:44:28.658Z"
   },
   {
    "duration": 3,
    "start_time": "2022-11-04T06:44:28.671Z"
   },
   {
    "duration": 7,
    "start_time": "2022-11-04T06:44:28.676Z"
   },
   {
    "duration": 68764,
    "start_time": "2022-11-04T06:44:28.684Z"
   },
   {
    "duration": 19412,
    "start_time": "2022-11-04T06:45:37.451Z"
   },
   {
    "duration": 543,
    "start_time": "2022-11-04T06:45:56.864Z"
   },
   {
    "duration": 7,
    "start_time": "2022-11-04T06:45:57.409Z"
   },
   {
    "duration": 864,
    "start_time": "2022-11-04T06:45:57.418Z"
   },
   {
    "duration": 1627,
    "start_time": "2022-11-04T06:48:46.329Z"
   },
   {
    "duration": 4,
    "start_time": "2022-11-04T06:48:47.959Z"
   },
   {
    "duration": 315,
    "start_time": "2022-11-04T06:48:47.966Z"
   },
   {
    "duration": 3,
    "start_time": "2022-11-04T06:48:48.283Z"
   },
   {
    "duration": 55,
    "start_time": "2022-11-04T06:48:48.288Z"
   },
   {
    "duration": 5,
    "start_time": "2022-11-04T06:48:48.345Z"
   },
   {
    "duration": 41,
    "start_time": "2022-11-04T06:48:48.352Z"
   },
   {
    "duration": 203,
    "start_time": "2022-11-04T06:48:48.395Z"
   },
   {
    "duration": 81,
    "start_time": "2022-11-04T06:48:48.600Z"
   },
   {
    "duration": 10,
    "start_time": "2022-11-04T06:48:48.683Z"
   },
   {
    "duration": 83,
    "start_time": "2022-11-04T06:48:48.695Z"
   },
   {
    "duration": 3,
    "start_time": "2022-11-04T06:48:48.780Z"
   },
   {
    "duration": 248,
    "start_time": "2022-11-04T06:48:48.785Z"
   },
   {
    "duration": 11,
    "start_time": "2022-11-04T06:48:49.038Z"
   },
   {
    "duration": 17,
    "start_time": "2022-11-04T06:48:49.051Z"
   },
   {
    "duration": 22,
    "start_time": "2022-11-04T06:48:49.069Z"
   },
   {
    "duration": 298,
    "start_time": "2022-11-04T06:48:49.093Z"
   },
   {
    "duration": 548,
    "start_time": "2022-11-04T06:48:49.394Z"
   },
   {
    "duration": 28,
    "start_time": "2022-11-04T06:48:49.945Z"
   },
   {
    "duration": 16,
    "start_time": "2022-11-04T06:48:49.974Z"
   },
   {
    "duration": 158,
    "start_time": "2022-11-04T06:48:49.992Z"
   },
   {
    "duration": 2677,
    "start_time": "2022-11-04T06:48:50.153Z"
   },
   {
    "duration": 5,
    "start_time": "2022-11-04T06:48:52.832Z"
   },
   {
    "duration": 48,
    "start_time": "2022-11-04T06:48:52.839Z"
   },
   {
    "duration": 0,
    "start_time": "2022-11-04T06:48:52.888Z"
   },
   {
    "duration": 0,
    "start_time": "2022-11-04T06:48:52.890Z"
   },
   {
    "duration": 0,
    "start_time": "2022-11-04T06:48:52.891Z"
   },
   {
    "duration": 0,
    "start_time": "2022-11-04T06:48:52.892Z"
   },
   {
    "duration": 0,
    "start_time": "2022-11-04T06:48:52.893Z"
   },
   {
    "duration": 0,
    "start_time": "2022-11-04T06:48:52.894Z"
   },
   {
    "duration": 0,
    "start_time": "2022-11-04T06:48:52.895Z"
   },
   {
    "duration": 0,
    "start_time": "2022-11-04T06:48:52.896Z"
   },
   {
    "duration": 0,
    "start_time": "2022-11-04T06:48:52.898Z"
   },
   {
    "duration": 0,
    "start_time": "2022-11-04T06:48:52.899Z"
   },
   {
    "duration": 0,
    "start_time": "2022-11-04T06:48:52.900Z"
   },
   {
    "duration": 0,
    "start_time": "2022-11-04T06:48:52.901Z"
   },
   {
    "duration": 0,
    "start_time": "2022-11-04T06:48:52.902Z"
   },
   {
    "duration": 891,
    "start_time": "2022-11-04T06:49:35.582Z"
   },
   {
    "duration": 1484,
    "start_time": "2022-11-04T06:49:57.317Z"
   },
   {
    "duration": 3,
    "start_time": "2022-11-04T06:49:58.803Z"
   },
   {
    "duration": 281,
    "start_time": "2022-11-04T06:49:58.807Z"
   },
   {
    "duration": 3,
    "start_time": "2022-11-04T06:49:59.089Z"
   },
   {
    "duration": 51,
    "start_time": "2022-11-04T06:49:59.094Z"
   },
   {
    "duration": 6,
    "start_time": "2022-11-04T06:49:59.148Z"
   },
   {
    "duration": 38,
    "start_time": "2022-11-04T06:49:59.157Z"
   },
   {
    "duration": 213,
    "start_time": "2022-11-04T06:49:59.197Z"
   },
   {
    "duration": 70,
    "start_time": "2022-11-04T06:49:59.411Z"
   },
   {
    "duration": 9,
    "start_time": "2022-11-04T06:49:59.482Z"
   },
   {
    "duration": 87,
    "start_time": "2022-11-04T06:49:59.493Z"
   },
   {
    "duration": 3,
    "start_time": "2022-11-04T06:49:59.581Z"
   },
   {
    "duration": 291,
    "start_time": "2022-11-04T06:49:59.585Z"
   },
   {
    "duration": 6,
    "start_time": "2022-11-04T06:49:59.879Z"
   },
   {
    "duration": 8,
    "start_time": "2022-11-04T06:49:59.887Z"
   },
   {
    "duration": 20,
    "start_time": "2022-11-04T06:49:59.896Z"
   },
   {
    "duration": 364,
    "start_time": "2022-11-04T06:49:59.917Z"
   },
   {
    "duration": 514,
    "start_time": "2022-11-04T06:50:00.283Z"
   },
   {
    "duration": 24,
    "start_time": "2022-11-04T06:50:00.799Z"
   },
   {
    "duration": 31,
    "start_time": "2022-11-04T06:50:00.825Z"
   },
   {
    "duration": 142,
    "start_time": "2022-11-04T06:50:00.859Z"
   },
   {
    "duration": 2584,
    "start_time": "2022-11-04T06:50:01.003Z"
   },
   {
    "duration": 4,
    "start_time": "2022-11-04T06:50:03.589Z"
   },
   {
    "duration": 63,
    "start_time": "2022-11-04T06:50:03.594Z"
   },
   {
    "duration": 0,
    "start_time": "2022-11-04T06:50:03.659Z"
   },
   {
    "duration": 0,
    "start_time": "2022-11-04T06:50:03.660Z"
   },
   {
    "duration": 0,
    "start_time": "2022-11-04T06:50:03.662Z"
   },
   {
    "duration": 0,
    "start_time": "2022-11-04T06:50:03.663Z"
   },
   {
    "duration": 0,
    "start_time": "2022-11-04T06:50:03.663Z"
   },
   {
    "duration": 0,
    "start_time": "2022-11-04T06:50:03.664Z"
   },
   {
    "duration": 0,
    "start_time": "2022-11-04T06:50:03.665Z"
   },
   {
    "duration": 0,
    "start_time": "2022-11-04T06:50:03.666Z"
   },
   {
    "duration": 1,
    "start_time": "2022-11-04T06:50:03.667Z"
   },
   {
    "duration": 0,
    "start_time": "2022-11-04T06:50:03.668Z"
   },
   {
    "duration": 0,
    "start_time": "2022-11-04T06:50:03.670Z"
   },
   {
    "duration": 1,
    "start_time": "2022-11-04T06:50:03.670Z"
   },
   {
    "duration": 0,
    "start_time": "2022-11-04T06:50:03.672Z"
   },
   {
    "duration": 0,
    "start_time": "2022-11-04T06:50:03.673Z"
   },
   {
    "duration": 1610,
    "start_time": "2022-11-04T06:51:06.094Z"
   },
   {
    "duration": 3,
    "start_time": "2022-11-04T06:51:07.706Z"
   },
   {
    "duration": 272,
    "start_time": "2022-11-04T06:51:07.711Z"
   },
   {
    "duration": 2,
    "start_time": "2022-11-04T06:51:07.985Z"
   },
   {
    "duration": 58,
    "start_time": "2022-11-04T06:51:07.989Z"
   },
   {
    "duration": 7,
    "start_time": "2022-11-04T06:51:08.049Z"
   },
   {
    "duration": 32,
    "start_time": "2022-11-04T06:51:08.062Z"
   },
   {
    "duration": 196,
    "start_time": "2022-11-04T06:51:08.096Z"
   },
   {
    "duration": 72,
    "start_time": "2022-11-04T06:51:08.294Z"
   },
   {
    "duration": 10,
    "start_time": "2022-11-04T06:51:08.367Z"
   },
   {
    "duration": 88,
    "start_time": "2022-11-04T06:51:08.379Z"
   },
   {
    "duration": 3,
    "start_time": "2022-11-04T06:51:08.469Z"
   },
   {
    "duration": 302,
    "start_time": "2022-11-04T06:51:08.473Z"
   },
   {
    "duration": 6,
    "start_time": "2022-11-04T06:51:08.779Z"
   },
   {
    "duration": 6,
    "start_time": "2022-11-04T06:51:08.787Z"
   },
   {
    "duration": 48,
    "start_time": "2022-11-04T06:51:08.795Z"
   },
   {
    "duration": 307,
    "start_time": "2022-11-04T06:51:08.846Z"
   },
   {
    "duration": 513,
    "start_time": "2022-11-04T06:51:09.155Z"
   },
   {
    "duration": 23,
    "start_time": "2022-11-04T06:51:09.669Z"
   },
   {
    "duration": 16,
    "start_time": "2022-11-04T06:51:09.693Z"
   },
   {
    "duration": 173,
    "start_time": "2022-11-04T06:51:09.711Z"
   },
   {
    "duration": 2626,
    "start_time": "2022-11-04T06:51:09.885Z"
   },
   {
    "duration": 5,
    "start_time": "2022-11-04T06:51:12.513Z"
   },
   {
    "duration": 63,
    "start_time": "2022-11-04T06:51:12.521Z"
   },
   {
    "duration": 0,
    "start_time": "2022-11-04T06:51:12.586Z"
   },
   {
    "duration": 0,
    "start_time": "2022-11-04T06:51:12.587Z"
   },
   {
    "duration": 0,
    "start_time": "2022-11-04T06:51:12.588Z"
   },
   {
    "duration": 0,
    "start_time": "2022-11-04T06:51:12.589Z"
   },
   {
    "duration": 0,
    "start_time": "2022-11-04T06:51:12.590Z"
   },
   {
    "duration": 0,
    "start_time": "2022-11-04T06:51:12.591Z"
   },
   {
    "duration": 0,
    "start_time": "2022-11-04T06:51:12.592Z"
   },
   {
    "duration": 0,
    "start_time": "2022-11-04T06:51:12.593Z"
   },
   {
    "duration": 0,
    "start_time": "2022-11-04T06:51:12.594Z"
   },
   {
    "duration": 0,
    "start_time": "2022-11-04T06:51:12.596Z"
   },
   {
    "duration": 0,
    "start_time": "2022-11-04T06:51:12.597Z"
   },
   {
    "duration": 1,
    "start_time": "2022-11-04T06:51:12.598Z"
   },
   {
    "duration": 0,
    "start_time": "2022-11-04T06:51:12.600Z"
   },
   {
    "duration": 0,
    "start_time": "2022-11-04T06:51:12.601Z"
   },
   {
    "duration": 33,
    "start_time": "2022-11-04T06:51:50.585Z"
   },
   {
    "duration": 5,
    "start_time": "2022-11-04T06:51:52.103Z"
   },
   {
    "duration": 4,
    "start_time": "2022-11-04T06:51:53.316Z"
   },
   {
    "duration": 11,
    "start_time": "2022-11-04T06:51:54.253Z"
   },
   {
    "duration": 660,
    "start_time": "2022-11-04T06:51:54.699Z"
   },
   {
    "duration": 12,
    "start_time": "2022-11-04T06:51:55.362Z"
   },
   {
    "duration": 23,
    "start_time": "2022-11-04T06:51:55.540Z"
   },
   {
    "duration": 9,
    "start_time": "2022-11-04T06:51:56.455Z"
   },
   {
    "duration": 5,
    "start_time": "2022-11-04T06:51:56.882Z"
   },
   {
    "duration": 72361,
    "start_time": "2022-11-04T06:51:57.512Z"
   },
   {
    "duration": 18893,
    "start_time": "2022-11-04T06:53:09.875Z"
   },
   {
    "duration": 145,
    "start_time": "2022-11-04T06:53:35.109Z"
   },
   {
    "duration": 5,
    "start_time": "2022-11-04T06:57:00.691Z"
   },
   {
    "duration": 1443,
    "start_time": "2022-11-04T07:01:41.470Z"
   },
   {
    "duration": 3,
    "start_time": "2022-11-04T07:01:42.915Z"
   },
   {
    "duration": 234,
    "start_time": "2022-11-04T07:01:42.919Z"
   },
   {
    "duration": 4,
    "start_time": "2022-11-04T07:01:43.156Z"
   },
   {
    "duration": 39,
    "start_time": "2022-11-04T07:01:43.163Z"
   },
   {
    "duration": 4,
    "start_time": "2022-11-04T07:01:43.203Z"
   },
   {
    "duration": 74,
    "start_time": "2022-11-04T07:01:43.208Z"
   },
   {
    "duration": 185,
    "start_time": "2022-11-04T07:01:43.284Z"
   },
   {
    "duration": 46,
    "start_time": "2022-11-04T07:01:43.470Z"
   },
   {
    "duration": 40,
    "start_time": "2022-11-04T07:01:43.517Z"
   },
   {
    "duration": 49,
    "start_time": "2022-11-04T07:01:43.561Z"
   },
   {
    "duration": 5,
    "start_time": "2022-11-04T07:01:43.641Z"
   },
   {
    "duration": 263,
    "start_time": "2022-11-04T07:01:43.648Z"
   },
   {
    "duration": 8,
    "start_time": "2022-11-04T07:01:43.914Z"
   },
   {
    "duration": 10,
    "start_time": "2022-11-04T07:01:43.938Z"
   },
   {
    "duration": 26,
    "start_time": "2022-11-04T07:01:43.952Z"
   },
   {
    "duration": 325,
    "start_time": "2022-11-04T07:01:43.980Z"
   },
   {
    "duration": 508,
    "start_time": "2022-11-04T07:01:44.307Z"
   },
   {
    "duration": 48,
    "start_time": "2022-11-04T07:01:44.816Z"
   },
   {
    "duration": 18,
    "start_time": "2022-11-04T07:01:44.866Z"
   },
   {
    "duration": 142,
    "start_time": "2022-11-04T07:01:44.885Z"
   },
   {
    "duration": 2587,
    "start_time": "2022-11-04T07:01:45.029Z"
   },
   {
    "duration": 6,
    "start_time": "2022-11-04T07:01:47.618Z"
   },
   {
    "duration": 52,
    "start_time": "2022-11-04T07:01:47.625Z"
   },
   {
    "duration": 10,
    "start_time": "2022-11-04T07:01:47.679Z"
   },
   {
    "duration": 3,
    "start_time": "2022-11-04T07:01:47.691Z"
   },
   {
    "duration": 43,
    "start_time": "2022-11-04T07:01:47.696Z"
   },
   {
    "duration": 628,
    "start_time": "2022-11-04T07:01:47.742Z"
   },
   {
    "duration": 5,
    "start_time": "2022-11-04T07:01:48.371Z"
   },
   {
    "duration": 13,
    "start_time": "2022-11-04T07:01:48.378Z"
   },
   {
    "duration": 3,
    "start_time": "2022-11-04T07:01:48.392Z"
   },
   {
    "duration": 6,
    "start_time": "2022-11-04T07:01:48.397Z"
   },
   {
    "duration": 72264,
    "start_time": "2022-11-04T07:01:48.405Z"
   },
   {
    "duration": 20474,
    "start_time": "2022-11-04T07:03:00.672Z"
   },
   {
    "duration": 546,
    "start_time": "2022-11-04T07:03:21.148Z"
   },
   {
    "duration": 6,
    "start_time": "2022-11-04T07:03:21.695Z"
   },
   {
    "duration": 167,
    "start_time": "2022-11-04T07:03:21.702Z"
   },
   {
    "duration": 0,
    "start_time": "2022-11-04T07:03:21.870Z"
   },
   {
    "duration": 19,
    "start_time": "2022-11-04T07:04:04.513Z"
   },
   {
    "duration": 23,
    "start_time": "2022-11-04T07:05:55.460Z"
   },
   {
    "duration": 1496,
    "start_time": "2022-11-04T07:06:24.821Z"
   },
   {
    "duration": 3,
    "start_time": "2022-11-04T07:06:26.319Z"
   },
   {
    "duration": 299,
    "start_time": "2022-11-04T07:06:26.323Z"
   },
   {
    "duration": 2,
    "start_time": "2022-11-04T07:06:26.624Z"
   },
   {
    "duration": 58,
    "start_time": "2022-11-04T07:06:26.639Z"
   },
   {
    "duration": 3,
    "start_time": "2022-11-04T07:06:26.699Z"
   },
   {
    "duration": 70,
    "start_time": "2022-11-04T07:06:26.703Z"
   },
   {
    "duration": 191,
    "start_time": "2022-11-04T07:06:26.775Z"
   },
   {
    "duration": 44,
    "start_time": "2022-11-04T07:06:26.968Z"
   },
   {
    "duration": 33,
    "start_time": "2022-11-04T07:06:27.014Z"
   },
   {
    "duration": 58,
    "start_time": "2022-11-04T07:06:27.057Z"
   },
   {
    "duration": 4,
    "start_time": "2022-11-04T07:06:27.117Z"
   },
   {
    "duration": 372,
    "start_time": "2022-11-04T07:06:27.123Z"
   },
   {
    "duration": 8,
    "start_time": "2022-11-04T07:06:27.501Z"
   },
   {
    "duration": 32,
    "start_time": "2022-11-04T07:06:27.511Z"
   },
   {
    "duration": 37,
    "start_time": "2022-11-04T07:06:27.544Z"
   },
   {
    "duration": 311,
    "start_time": "2022-11-04T07:06:27.583Z"
   },
   {
    "duration": 503,
    "start_time": "2022-11-04T07:06:27.896Z"
   },
   {
    "duration": 23,
    "start_time": "2022-11-04T07:06:28.401Z"
   },
   {
    "duration": 28,
    "start_time": "2022-11-04T07:06:28.440Z"
   },
   {
    "duration": 150,
    "start_time": "2022-11-04T07:06:28.471Z"
   },
   {
    "duration": 2689,
    "start_time": "2022-11-04T07:06:28.623Z"
   },
   {
    "duration": 4,
    "start_time": "2022-11-04T07:06:31.314Z"
   },
   {
    "duration": 75,
    "start_time": "2022-11-04T07:06:31.320Z"
   },
   {
    "duration": 11,
    "start_time": "2022-11-04T07:06:31.397Z"
   },
   {
    "duration": 21,
    "start_time": "2022-11-04T07:06:31.410Z"
   },
   {
    "duration": 59,
    "start_time": "2022-11-04T07:06:31.433Z"
   },
   {
    "duration": 665,
    "start_time": "2022-11-04T07:06:31.494Z"
   },
   {
    "duration": 5,
    "start_time": "2022-11-04T07:06:32.167Z"
   },
   {
    "duration": 14,
    "start_time": "2022-11-04T07:06:32.173Z"
   },
   {
    "duration": 3,
    "start_time": "2022-11-04T07:06:32.189Z"
   },
   {
    "duration": 5,
    "start_time": "2022-11-04T07:06:32.194Z"
   },
   {
    "duration": 70870,
    "start_time": "2022-11-04T07:06:32.200Z"
   },
   {
    "duration": 20106,
    "start_time": "2022-11-04T07:07:43.076Z"
   },
   {
    "duration": 597,
    "start_time": "2022-11-04T07:08:03.185Z"
   },
   {
    "duration": 6,
    "start_time": "2022-11-04T07:08:03.784Z"
   },
   {
    "duration": 818,
    "start_time": "2022-11-04T07:08:03.791Z"
   },
   {
    "duration": 4,
    "start_time": "2022-11-04T07:08:04.611Z"
   },
   {
    "duration": 58,
    "start_time": "2022-11-04T07:08:04.617Z"
   },
   {
    "duration": 173,
    "start_time": "2022-11-04T07:09:06.536Z"
   },
   {
    "duration": 1601,
    "start_time": "2022-11-04T07:10:52.318Z"
   },
   {
    "duration": 3,
    "start_time": "2022-11-04T07:10:53.922Z"
   },
   {
    "duration": 320,
    "start_time": "2022-11-04T07:10:53.927Z"
   },
   {
    "duration": 3,
    "start_time": "2022-11-04T07:10:54.248Z"
   },
   {
    "duration": 51,
    "start_time": "2022-11-04T07:10:54.253Z"
   },
   {
    "duration": 5,
    "start_time": "2022-11-04T07:10:54.306Z"
   },
   {
    "duration": 95,
    "start_time": "2022-11-04T07:10:54.313Z"
   },
   {
    "duration": 190,
    "start_time": "2022-11-04T07:10:54.410Z"
   },
   {
    "duration": 86,
    "start_time": "2022-11-04T07:10:54.602Z"
   },
   {
    "duration": 9,
    "start_time": "2022-11-04T07:10:54.690Z"
   },
   {
    "duration": 87,
    "start_time": "2022-11-04T07:10:54.701Z"
   },
   {
    "duration": 3,
    "start_time": "2022-11-04T07:10:54.790Z"
   },
   {
    "duration": 315,
    "start_time": "2022-11-04T07:10:54.795Z"
   },
   {
    "duration": 7,
    "start_time": "2022-11-04T07:10:55.113Z"
   },
   {
    "duration": 12,
    "start_time": "2022-11-04T07:10:55.138Z"
   },
   {
    "duration": 51,
    "start_time": "2022-11-04T07:10:55.152Z"
   },
   {
    "duration": 315,
    "start_time": "2022-11-04T07:10:55.204Z"
   },
   {
    "duration": 497,
    "start_time": "2022-11-04T07:10:55.521Z"
   },
   {
    "duration": 44,
    "start_time": "2022-11-04T07:10:56.020Z"
   },
   {
    "duration": 35,
    "start_time": "2022-11-04T07:10:56.065Z"
   },
   {
    "duration": 161,
    "start_time": "2022-11-04T07:10:56.101Z"
   },
   {
    "duration": 2909,
    "start_time": "2022-11-04T07:10:56.271Z"
   },
   {
    "duration": 5,
    "start_time": "2022-11-04T07:10:59.182Z"
   },
   {
    "duration": 53,
    "start_time": "2022-11-04T07:10:59.188Z"
   },
   {
    "duration": 20,
    "start_time": "2022-11-04T07:10:59.245Z"
   },
   {
    "duration": 19,
    "start_time": "2022-11-04T07:10:59.266Z"
   },
   {
    "duration": 6,
    "start_time": "2022-11-04T07:10:59.286Z"
   },
   {
    "duration": 666,
    "start_time": "2022-11-04T07:10:59.294Z"
   },
   {
    "duration": 6,
    "start_time": "2022-11-04T07:10:59.970Z"
   },
   {
    "duration": 13,
    "start_time": "2022-11-04T07:10:59.978Z"
   },
   {
    "duration": 4,
    "start_time": "2022-11-04T07:10:59.993Z"
   },
   {
    "duration": 7,
    "start_time": "2022-11-04T07:10:59.999Z"
   },
   {
    "duration": 72813,
    "start_time": "2022-11-04T07:11:00.009Z"
   },
   {
    "duration": 20560,
    "start_time": "2022-11-04T07:12:12.824Z"
   },
   {
    "duration": 578,
    "start_time": "2022-11-04T07:12:33.386Z"
   },
   {
    "duration": 12,
    "start_time": "2022-11-04T07:12:33.967Z"
   },
   {
    "duration": 823,
    "start_time": "2022-11-04T07:12:33.981Z"
   },
   {
    "duration": 1174,
    "start_time": "2022-11-04T07:12:34.806Z"
   },
   {
    "duration": 0,
    "start_time": "2022-11-04T07:12:35.983Z"
   },
   {
    "duration": 0,
    "start_time": "2022-11-04T07:12:35.984Z"
   },
   {
    "duration": 6,
    "start_time": "2022-11-04T07:13:02.173Z"
   },
   {
    "duration": 47,
    "start_time": "2022-11-04T07:13:15.177Z"
   },
   {
    "duration": 14,
    "start_time": "2022-11-04T07:14:24.527Z"
   },
   {
    "duration": 14,
    "start_time": "2022-11-04T07:15:32.552Z"
   },
   {
    "duration": 11,
    "start_time": "2022-11-04T07:15:34.692Z"
   },
   {
    "duration": 10,
    "start_time": "2022-11-04T07:15:46.219Z"
   },
   {
    "duration": 11,
    "start_time": "2022-11-04T07:15:47.126Z"
   },
   {
    "duration": 7,
    "start_time": "2022-11-04T07:16:19.036Z"
   },
   {
    "duration": 7,
    "start_time": "2022-11-04T07:16:32.947Z"
   },
   {
    "duration": 11,
    "start_time": "2022-11-04T07:16:34.054Z"
   },
   {
    "duration": 6,
    "start_time": "2022-11-04T07:16:35.260Z"
   },
   {
    "duration": 10,
    "start_time": "2022-11-04T07:16:37.179Z"
   },
   {
    "duration": 21,
    "start_time": "2022-11-04T07:17:35.111Z"
   },
   {
    "duration": 24,
    "start_time": "2022-11-04T07:18:22.832Z"
   },
   {
    "duration": 1450,
    "start_time": "2022-11-04T07:19:10.840Z"
   },
   {
    "duration": 3,
    "start_time": "2022-11-04T07:19:12.292Z"
   },
   {
    "duration": 247,
    "start_time": "2022-11-04T07:19:12.296Z"
   },
   {
    "duration": 3,
    "start_time": "2022-11-04T07:19:12.545Z"
   },
   {
    "duration": 57,
    "start_time": "2022-11-04T07:19:12.550Z"
   },
   {
    "duration": 4,
    "start_time": "2022-11-04T07:19:12.609Z"
   },
   {
    "duration": 48,
    "start_time": "2022-11-04T07:19:12.615Z"
   },
   {
    "duration": 210,
    "start_time": "2022-11-04T07:19:12.665Z"
   },
   {
    "duration": 62,
    "start_time": "2022-11-04T07:19:12.877Z"
   },
   {
    "duration": 11,
    "start_time": "2022-11-04T07:19:12.941Z"
   },
   {
    "duration": 51,
    "start_time": "2022-11-04T07:19:12.953Z"
   },
   {
    "duration": 3,
    "start_time": "2022-11-04T07:19:13.038Z"
   },
   {
    "duration": 292,
    "start_time": "2022-11-04T07:19:13.043Z"
   },
   {
    "duration": 9,
    "start_time": "2022-11-04T07:19:13.341Z"
   },
   {
    "duration": 9,
    "start_time": "2022-11-04T07:19:13.352Z"
   },
   {
    "duration": 25,
    "start_time": "2022-11-04T07:19:13.363Z"
   },
   {
    "duration": 356,
    "start_time": "2022-11-04T07:19:13.390Z"
   },
   {
    "duration": 473,
    "start_time": "2022-11-04T07:19:13.748Z"
   },
   {
    "duration": 36,
    "start_time": "2022-11-04T07:19:14.238Z"
   },
   {
    "duration": 22,
    "start_time": "2022-11-04T07:19:14.276Z"
   },
   {
    "duration": 142,
    "start_time": "2022-11-04T07:19:14.300Z"
   },
   {
    "duration": 2440,
    "start_time": "2022-11-04T07:19:14.445Z"
   },
   {
    "duration": 5,
    "start_time": "2022-11-04T07:19:16.887Z"
   },
   {
    "duration": 60,
    "start_time": "2022-11-04T07:19:16.894Z"
   },
   {
    "duration": 10,
    "start_time": "2022-11-04T07:19:16.956Z"
   },
   {
    "duration": 4,
    "start_time": "2022-11-04T07:19:16.968Z"
   },
   {
    "duration": 5,
    "start_time": "2022-11-04T07:19:16.973Z"
   },
   {
    "duration": 682,
    "start_time": "2022-11-04T07:19:16.980Z"
   },
   {
    "duration": 4,
    "start_time": "2022-11-04T07:19:17.664Z"
   },
   {
    "duration": 11,
    "start_time": "2022-11-04T07:19:17.669Z"
   },
   {
    "duration": 5,
    "start_time": "2022-11-04T07:19:17.682Z"
   },
   {
    "duration": 6,
    "start_time": "2022-11-04T07:19:17.689Z"
   },
   {
    "duration": 7,
    "start_time": "2022-11-04T07:19:17.697Z"
   },
   {
    "duration": 23426,
    "start_time": "2022-11-04T07:19:17.705Z"
   },
   {
    "duration": 547,
    "start_time": "2022-11-04T07:19:41.133Z"
   },
   {
    "duration": 6,
    "start_time": "2022-11-04T07:19:41.681Z"
   },
   {
    "duration": 682,
    "start_time": "2022-11-04T07:19:41.690Z"
   },
   {
    "duration": 5,
    "start_time": "2022-11-04T07:19:42.374Z"
   },
   {
    "duration": 13,
    "start_time": "2022-11-04T07:19:42.381Z"
   },
   {
    "duration": 9,
    "start_time": "2022-11-04T07:19:42.396Z"
   },
   {
    "duration": 38,
    "start_time": "2022-11-04T07:19:42.409Z"
   },
   {
    "duration": 11,
    "start_time": "2022-11-04T07:19:42.449Z"
   },
   {
    "duration": 1450,
    "start_time": "2022-11-04T07:20:01.617Z"
   },
   {
    "duration": 3,
    "start_time": "2022-11-04T07:20:03.069Z"
   },
   {
    "duration": 250,
    "start_time": "2022-11-04T07:20:03.074Z"
   },
   {
    "duration": 3,
    "start_time": "2022-11-04T07:20:03.325Z"
   },
   {
    "duration": 48,
    "start_time": "2022-11-04T07:20:03.330Z"
   },
   {
    "duration": 4,
    "start_time": "2022-11-04T07:20:03.380Z"
   },
   {
    "duration": 55,
    "start_time": "2022-11-04T07:20:03.386Z"
   },
   {
    "duration": 170,
    "start_time": "2022-11-04T07:20:03.443Z"
   },
   {
    "duration": 57,
    "start_time": "2022-11-04T07:20:03.615Z"
   },
   {
    "duration": 9,
    "start_time": "2022-11-04T07:20:03.674Z"
   },
   {
    "duration": 78,
    "start_time": "2022-11-04T07:20:03.685Z"
   },
   {
    "duration": 4,
    "start_time": "2022-11-04T07:20:03.765Z"
   },
   {
    "duration": 267,
    "start_time": "2022-11-04T07:20:03.771Z"
   },
   {
    "duration": 13,
    "start_time": "2022-11-04T07:20:04.043Z"
   },
   {
    "duration": 13,
    "start_time": "2022-11-04T07:20:04.058Z"
   },
   {
    "duration": 24,
    "start_time": "2022-11-04T07:20:04.073Z"
   },
   {
    "duration": 367,
    "start_time": "2022-11-04T07:20:04.099Z"
   },
   {
    "duration": 489,
    "start_time": "2022-11-04T07:20:04.469Z"
   },
   {
    "duration": 26,
    "start_time": "2022-11-04T07:20:04.961Z"
   },
   {
    "duration": 18,
    "start_time": "2022-11-04T07:20:04.989Z"
   },
   {
    "duration": 168,
    "start_time": "2022-11-04T07:20:05.008Z"
   },
   {
    "duration": 2593,
    "start_time": "2022-11-04T07:20:05.178Z"
   },
   {
    "duration": 5,
    "start_time": "2022-11-04T07:20:07.773Z"
   },
   {
    "duration": 63,
    "start_time": "2022-11-04T07:20:07.779Z"
   },
   {
    "duration": 11,
    "start_time": "2022-11-04T07:20:07.843Z"
   },
   {
    "duration": 4,
    "start_time": "2022-11-04T07:20:07.856Z"
   },
   {
    "duration": 8,
    "start_time": "2022-11-04T07:20:07.862Z"
   },
   {
    "duration": 575,
    "start_time": "2022-11-04T07:20:07.872Z"
   },
   {
    "duration": 5,
    "start_time": "2022-11-04T07:20:08.449Z"
   },
   {
    "duration": 11,
    "start_time": "2022-11-04T07:20:08.456Z"
   },
   {
    "duration": 3,
    "start_time": "2022-11-04T07:20:08.469Z"
   },
   {
    "duration": 7,
    "start_time": "2022-11-04T07:20:08.474Z"
   },
   {
    "duration": 5,
    "start_time": "2022-11-04T07:20:08.483Z"
   },
   {
    "duration": 23528,
    "start_time": "2022-11-04T07:20:08.489Z"
   },
   {
    "duration": 522,
    "start_time": "2022-11-04T07:20:32.019Z"
   },
   {
    "duration": 6,
    "start_time": "2022-11-04T07:20:32.542Z"
   },
   {
    "duration": 631,
    "start_time": "2022-11-04T07:20:32.549Z"
   },
   {
    "duration": 5,
    "start_time": "2022-11-04T07:20:33.182Z"
   },
   {
    "duration": 19,
    "start_time": "2022-11-04T07:20:33.188Z"
   },
   {
    "duration": 4,
    "start_time": "2022-11-04T07:20:33.209Z"
   },
   {
    "duration": 9,
    "start_time": "2022-11-04T07:20:33.238Z"
   },
   {
    "duration": 10,
    "start_time": "2022-11-04T07:20:33.249Z"
   },
   {
    "duration": 21609,
    "start_time": "2022-11-04T07:20:47.130Z"
   },
   {
    "duration": 490,
    "start_time": "2022-11-04T07:21:14.868Z"
   },
   {
    "duration": 5,
    "start_time": "2022-11-04T07:21:15.914Z"
   },
   {
    "duration": 619,
    "start_time": "2022-11-04T07:21:19.943Z"
   },
   {
    "duration": 5,
    "start_time": "2022-11-04T07:21:20.564Z"
   },
   {
    "duration": 9,
    "start_time": "2022-11-04T07:21:21.721Z"
   },
   {
    "duration": 3,
    "start_time": "2022-11-04T07:21:23.458Z"
   },
   {
    "duration": 8,
    "start_time": "2022-11-04T07:21:26.594Z"
   },
   {
    "duration": 29616,
    "start_time": "2022-11-04T07:21:41.537Z"
   },
   {
    "duration": 501,
    "start_time": "2022-11-04T07:22:14.954Z"
   },
   {
    "duration": 5,
    "start_time": "2022-11-04T07:22:15.740Z"
   },
   {
    "duration": 620,
    "start_time": "2022-11-04T07:22:16.396Z"
   },
   {
    "duration": 4,
    "start_time": "2022-11-04T07:22:17.017Z"
   },
   {
    "duration": 8,
    "start_time": "2022-11-04T07:22:17.747Z"
   },
   {
    "duration": 4,
    "start_time": "2022-11-04T07:22:19.338Z"
   },
   {
    "duration": 8,
    "start_time": "2022-11-04T07:22:20.670Z"
   },
   {
    "duration": 29336,
    "start_time": "2022-11-04T07:23:14.753Z"
   },
   {
    "duration": 589,
    "start_time": "2022-11-04T07:23:49.260Z"
   },
   {
    "duration": 6,
    "start_time": "2022-11-04T07:23:49.872Z"
   },
   {
    "duration": 659,
    "start_time": "2022-11-04T07:23:50.893Z"
   },
   {
    "duration": 5,
    "start_time": "2022-11-04T07:23:51.554Z"
   },
   {
    "duration": 10,
    "start_time": "2022-11-04T07:23:52.353Z"
   },
   {
    "duration": 5,
    "start_time": "2022-11-04T07:23:55.589Z"
   },
   {
    "duration": 8,
    "start_time": "2022-11-04T07:24:02.189Z"
   },
   {
    "duration": 3,
    "start_time": "2022-11-04T07:24:10.964Z"
   },
   {
    "duration": 34497,
    "start_time": "2022-11-04T07:24:11.502Z"
   },
   {
    "duration": 657,
    "start_time": "2022-11-04T07:24:51.480Z"
   },
   {
    "duration": 10,
    "start_time": "2022-11-04T07:24:52.144Z"
   },
   {
    "duration": 656,
    "start_time": "2022-11-04T07:24:52.656Z"
   },
   {
    "duration": 5,
    "start_time": "2022-11-04T07:24:53.314Z"
   },
   {
    "duration": 9,
    "start_time": "2022-11-04T07:24:54.424Z"
   },
   {
    "duration": 5,
    "start_time": "2022-11-04T07:24:56.949Z"
   },
   {
    "duration": 8,
    "start_time": "2022-11-04T07:25:02.469Z"
   },
   {
    "duration": 141732,
    "start_time": "2022-11-04T07:25:31.172Z"
   },
   {
    "duration": 33803,
    "start_time": "2022-11-04T08:24:30.699Z"
   },
   {
    "duration": 25850,
    "start_time": "2022-11-04T08:25:32.944Z"
   },
   {
    "duration": 56058,
    "start_time": "2022-11-04T08:27:24.696Z"
   },
   {
    "duration": 53171,
    "start_time": "2022-11-04T08:28:56.900Z"
   },
   {
    "duration": 21920,
    "start_time": "2022-11-04T08:32:55.908Z"
   },
   {
    "duration": 483,
    "start_time": "2022-11-04T08:33:23.002Z"
   },
   {
    "duration": 5,
    "start_time": "2022-11-04T08:33:23.564Z"
   },
   {
    "duration": 635,
    "start_time": "2022-11-04T08:33:24.352Z"
   },
   {
    "duration": 6,
    "start_time": "2022-11-04T08:33:26.932Z"
   },
   {
    "duration": 9,
    "start_time": "2022-11-04T08:33:27.666Z"
   },
   {
    "duration": 4,
    "start_time": "2022-11-04T08:33:29.696Z"
   },
   {
    "duration": 8,
    "start_time": "2022-11-04T08:33:31.281Z"
   },
   {
    "duration": 53806,
    "start_time": "2022-11-04T08:33:55.156Z"
   },
   {
    "duration": 6,
    "start_time": "2022-11-04T08:34:53.667Z"
   },
   {
    "duration": 4,
    "start_time": "2022-11-04T08:34:59.767Z"
   },
   {
    "duration": 4,
    "start_time": "2022-11-04T08:35:13.216Z"
   },
   {
    "duration": 43,
    "start_time": "2022-11-04T08:35:26.565Z"
   },
   {
    "duration": 51,
    "start_time": "2022-11-04T08:35:30.214Z"
   },
   {
    "duration": 50,
    "start_time": "2022-11-04T08:35:36.075Z"
   },
   {
    "duration": 113,
    "start_time": "2022-11-04T08:35:40.464Z"
   },
   {
    "duration": 8,
    "start_time": "2022-11-04T08:35:46.596Z"
   },
   {
    "duration": 4,
    "start_time": "2022-11-04T08:35:55.832Z"
   },
   {
    "duration": 8,
    "start_time": "2022-11-04T08:36:00.700Z"
   },
   {
    "duration": 3,
    "start_time": "2022-11-04T08:36:05.978Z"
   },
   {
    "duration": 4,
    "start_time": "2022-11-04T08:36:12.488Z"
   },
   {
    "duration": 51,
    "start_time": "2022-11-04T08:36:18.472Z"
   },
   {
    "duration": 7,
    "start_time": "2022-11-04T08:36:22.678Z"
   },
   {
    "duration": 21768,
    "start_time": "2022-11-04T08:37:05.011Z"
   },
   {
    "duration": 21339,
    "start_time": "2022-11-04T08:38:39.266Z"
   },
   {
    "duration": 24697,
    "start_time": "2022-11-04T08:39:44.053Z"
   },
   {
    "duration": 18095,
    "start_time": "2022-11-04T08:40:17.092Z"
   },
   {
    "duration": 24263,
    "start_time": "2022-11-04T08:40:49.526Z"
   },
   {
    "duration": 21672,
    "start_time": "2022-11-04T08:41:32.932Z"
   },
   {
    "duration": 6712,
    "start_time": "2022-11-04T08:42:33.739Z"
   },
   {
    "duration": 13901,
    "start_time": "2022-11-04T08:42:46.467Z"
   },
   {
    "duration": 20728,
    "start_time": "2022-11-04T08:43:05.384Z"
   },
   {
    "duration": 23092,
    "start_time": "2022-11-04T08:43:32.204Z"
   },
   {
    "duration": 22418,
    "start_time": "2022-11-04T08:44:06.538Z"
   },
   {
    "duration": 103370,
    "start_time": "2022-11-04T08:45:04.095Z"
   },
   {
    "duration": 22857,
    "start_time": "2022-11-04T08:47:12.760Z"
   },
   {
    "duration": 22952,
    "start_time": "2022-11-04T08:47:55.473Z"
   },
   {
    "duration": 22516,
    "start_time": "2022-11-04T08:48:35.653Z"
   },
   {
    "duration": 22431,
    "start_time": "2022-11-04T08:49:38.802Z"
   },
   {
    "duration": 21908,
    "start_time": "2022-11-04T08:50:12.360Z"
   },
   {
    "duration": 736,
    "start_time": "2022-11-04T08:50:44.780Z"
   },
   {
    "duration": 22043,
    "start_time": "2022-11-04T08:50:54.657Z"
   },
   {
    "duration": 21214,
    "start_time": "2022-11-04T08:52:04.265Z"
   },
   {
    "duration": 7938,
    "start_time": "2022-11-04T08:54:09.667Z"
   },
   {
    "duration": 23803,
    "start_time": "2022-11-04T08:54:25.465Z"
   },
   {
    "duration": 18295,
    "start_time": "2022-11-04T08:54:55.741Z"
   },
   {
    "duration": 860,
    "start_time": "2022-11-04T08:56:18.271Z"
   },
   {
    "duration": 40205,
    "start_time": "2022-11-04T08:56:34.599Z"
   },
   {
    "duration": 27111,
    "start_time": "2022-11-04T08:57:31.679Z"
   },
   {
    "duration": 26352,
    "start_time": "2022-11-04T08:59:47.510Z"
   },
   {
    "duration": 26943,
    "start_time": "2022-11-04T09:00:19.075Z"
   },
   {
    "duration": 21398,
    "start_time": "2022-11-04T09:01:08.971Z"
   },
   {
    "duration": 21578,
    "start_time": "2022-11-04T09:01:40.614Z"
   },
   {
    "duration": 232999,
    "start_time": "2022-11-04T09:02:51.948Z"
   },
   {
    "duration": 509,
    "start_time": "2022-11-04T09:32:16.294Z"
   },
   {
    "duration": 6,
    "start_time": "2022-11-04T09:32:16.884Z"
   },
   {
    "duration": 667,
    "start_time": "2022-11-04T09:32:33.766Z"
   },
   {
    "duration": 13,
    "start_time": "2022-11-04T09:32:34.438Z"
   },
   {
    "duration": 10,
    "start_time": "2022-11-04T09:32:35.192Z"
   },
   {
    "duration": 4,
    "start_time": "2022-11-04T09:32:36.059Z"
   },
   {
    "duration": 18,
    "start_time": "2022-11-04T09:32:37.143Z"
   },
   {
    "duration": 5,
    "start_time": "2022-11-04T09:33:13.361Z"
   },
   {
    "duration": 8,
    "start_time": "2022-11-04T09:33:13.912Z"
   },
   {
    "duration": 5,
    "start_time": "2022-11-04T09:33:14.816Z"
   },
   {
    "duration": 10,
    "start_time": "2022-11-04T09:33:15.498Z"
   },
   {
    "duration": 11,
    "start_time": "2022-11-04T09:42:39.491Z"
   },
   {
    "duration": 14,
    "start_time": "2022-11-04T09:42:48.651Z"
   },
   {
    "duration": 15,
    "start_time": "2022-11-04T09:43:14.731Z"
   },
   {
    "duration": 12,
    "start_time": "2022-11-04T09:43:33.520Z"
   },
   {
    "duration": 9,
    "start_time": "2022-11-04T09:47:49.784Z"
   },
   {
    "duration": 674,
    "start_time": "2022-11-04T09:49:21.578Z"
   },
   {
    "duration": 11,
    "start_time": "2022-11-04T09:49:41.136Z"
   },
   {
    "duration": 13,
    "start_time": "2022-11-04T09:49:49.687Z"
   },
   {
    "duration": 4,
    "start_time": "2022-11-04T09:49:57.082Z"
   },
   {
    "duration": 8,
    "start_time": "2022-11-04T09:49:57.928Z"
   },
   {
    "duration": 4,
    "start_time": "2022-11-04T09:50:02.984Z"
   },
   {
    "duration": 9,
    "start_time": "2022-11-04T09:51:09.082Z"
   },
   {
    "duration": 66871,
    "start_time": "2022-11-04T09:53:21.317Z"
   },
   {
    "duration": 22,
    "start_time": "2022-11-04T09:59:18.547Z"
   },
   {
    "duration": 5,
    "start_time": "2022-11-04T09:59:19.604Z"
   },
   {
    "duration": 63180,
    "start_time": "2022-11-04T09:59:20.825Z"
   },
   {
    "duration": 7,
    "start_time": "2022-11-04T10:20:00.095Z"
   },
   {
    "duration": 27,
    "start_time": "2022-11-04T10:20:06.192Z"
   },
   {
    "duration": 114,
    "start_time": "2022-11-04T10:20:37.418Z"
   },
   {
    "duration": 223,
    "start_time": "2022-11-04T10:22:10.765Z"
   },
   {
    "duration": 4,
    "start_time": "2022-11-04T10:22:27.809Z"
   },
   {
    "duration": 7,
    "start_time": "2022-11-04T10:22:43.155Z"
   },
   {
    "duration": 208,
    "start_time": "2022-11-04T10:24:38.908Z"
   },
   {
    "duration": 213,
    "start_time": "2022-11-04T10:24:46.305Z"
   },
   {
    "duration": 297,
    "start_time": "2022-11-04T10:25:07.021Z"
   },
   {
    "duration": 258,
    "start_time": "2022-11-04T10:25:18.651Z"
   },
   {
    "duration": 266,
    "start_time": "2022-11-04T10:25:32.090Z"
   },
   {
    "duration": 72,
    "start_time": "2022-11-04T10:27:14.166Z"
   },
   {
    "duration": 21,
    "start_time": "2022-11-04T10:27:19.965Z"
   },
   {
    "duration": 30,
    "start_time": "2022-11-04T10:28:27.827Z"
   },
   {
    "duration": 43,
    "start_time": "2022-11-04T10:30:26.769Z"
   },
   {
    "duration": 5,
    "start_time": "2022-11-04T10:30:31.011Z"
   },
   {
    "duration": 114,
    "start_time": "2022-11-04T10:32:39.900Z"
   },
   {
    "duration": 144,
    "start_time": "2022-11-04T10:32:58.513Z"
   },
   {
    "duration": 8,
    "start_time": "2022-11-04T10:44:47.775Z"
   },
   {
    "duration": 12,
    "start_time": "2022-11-04T10:45:06.151Z"
   },
   {
    "duration": 16,
    "start_time": "2022-11-04T10:45:12.961Z"
   },
   {
    "duration": 10,
    "start_time": "2022-11-04T10:45:17.202Z"
   },
   {
    "duration": 932,
    "start_time": "2022-11-04T10:47:34.836Z"
   },
   {
    "duration": 40,
    "start_time": "2022-11-04T10:48:43.967Z"
   },
   {
    "duration": 16,
    "start_time": "2022-11-04T10:50:06.753Z"
   },
   {
    "duration": 53,
    "start_time": "2022-11-04T10:50:33.979Z"
   },
   {
    "duration": 46,
    "start_time": "2022-11-04T10:50:46.788Z"
   },
   {
    "duration": 23,
    "start_time": "2022-11-04T10:51:35.262Z"
   },
   {
    "duration": 20,
    "start_time": "2022-11-04T10:52:04.367Z"
   },
   {
    "duration": 24,
    "start_time": "2022-11-04T10:52:13.373Z"
   },
   {
    "duration": 13,
    "start_time": "2022-11-04T10:57:34.269Z"
   },
   {
    "duration": 10,
    "start_time": "2022-11-04T10:57:42.983Z"
   },
   {
    "duration": 1746,
    "start_time": "2022-11-04T10:58:00.618Z"
   },
   {
    "duration": 6,
    "start_time": "2022-11-04T10:58:02.372Z"
   },
   {
    "duration": 390,
    "start_time": "2022-11-04T10:58:02.380Z"
   },
   {
    "duration": 6,
    "start_time": "2022-11-04T10:58:02.772Z"
   },
   {
    "duration": 47,
    "start_time": "2022-11-04T10:58:02.780Z"
   },
   {
    "duration": 31,
    "start_time": "2022-11-04T10:58:02.848Z"
   },
   {
    "duration": 40,
    "start_time": "2022-11-04T10:58:02.880Z"
   },
   {
    "duration": 68,
    "start_time": "2022-11-04T10:58:02.922Z"
   },
   {
    "duration": 188,
    "start_time": "2022-11-04T10:58:02.992Z"
   },
   {
    "duration": 68,
    "start_time": "2022-11-04T10:58:03.181Z"
   },
   {
    "duration": 14,
    "start_time": "2022-11-04T10:58:03.251Z"
   },
   {
    "duration": 122,
    "start_time": "2022-11-04T10:58:03.266Z"
   },
   {
    "duration": 129,
    "start_time": "2022-11-04T10:58:03.390Z"
   },
   {
    "duration": 0,
    "start_time": "2022-11-04T10:58:03.522Z"
   },
   {
    "duration": 0,
    "start_time": "2022-11-04T10:58:03.523Z"
   },
   {
    "duration": 0,
    "start_time": "2022-11-04T10:58:03.524Z"
   },
   {
    "duration": 0,
    "start_time": "2022-11-04T10:58:03.525Z"
   },
   {
    "duration": 0,
    "start_time": "2022-11-04T10:58:03.526Z"
   },
   {
    "duration": 0,
    "start_time": "2022-11-04T10:58:03.527Z"
   },
   {
    "duration": 0,
    "start_time": "2022-11-04T10:58:03.539Z"
   },
   {
    "duration": 0,
    "start_time": "2022-11-04T10:58:03.540Z"
   },
   {
    "duration": 0,
    "start_time": "2022-11-04T10:58:03.540Z"
   },
   {
    "duration": 0,
    "start_time": "2022-11-04T10:58:03.541Z"
   },
   {
    "duration": 0,
    "start_time": "2022-11-04T10:58:03.543Z"
   },
   {
    "duration": 0,
    "start_time": "2022-11-04T10:58:03.543Z"
   },
   {
    "duration": 0,
    "start_time": "2022-11-04T10:58:03.544Z"
   },
   {
    "duration": 0,
    "start_time": "2022-11-04T10:58:03.545Z"
   },
   {
    "duration": 0,
    "start_time": "2022-11-04T10:58:03.546Z"
   },
   {
    "duration": 0,
    "start_time": "2022-11-04T10:58:03.548Z"
   },
   {
    "duration": 0,
    "start_time": "2022-11-04T10:58:03.550Z"
   },
   {
    "duration": 0,
    "start_time": "2022-11-04T10:58:03.551Z"
   },
   {
    "duration": 0,
    "start_time": "2022-11-04T10:58:03.552Z"
   },
   {
    "duration": 0,
    "start_time": "2022-11-04T10:58:03.553Z"
   },
   {
    "duration": 1,
    "start_time": "2022-11-04T10:58:03.554Z"
   },
   {
    "duration": 0,
    "start_time": "2022-11-04T10:58:03.556Z"
   },
   {
    "duration": 0,
    "start_time": "2022-11-04T10:58:03.558Z"
   },
   {
    "duration": 0,
    "start_time": "2022-11-04T10:58:03.559Z"
   },
   {
    "duration": 0,
    "start_time": "2022-11-04T10:58:03.561Z"
   },
   {
    "duration": 0,
    "start_time": "2022-11-04T10:58:03.563Z"
   },
   {
    "duration": 0,
    "start_time": "2022-11-04T10:58:03.564Z"
   },
   {
    "duration": 0,
    "start_time": "2022-11-04T10:58:03.565Z"
   },
   {
    "duration": 0,
    "start_time": "2022-11-04T10:58:03.566Z"
   },
   {
    "duration": 52,
    "start_time": "2022-11-04T10:58:30.555Z"
   },
   {
    "duration": 1548,
    "start_time": "2022-11-04T10:58:37.623Z"
   },
   {
    "duration": 3,
    "start_time": "2022-11-04T10:58:39.173Z"
   },
   {
    "duration": 287,
    "start_time": "2022-11-04T10:58:39.177Z"
   },
   {
    "duration": 3,
    "start_time": "2022-11-04T10:58:39.466Z"
   },
   {
    "duration": 76,
    "start_time": "2022-11-04T10:58:39.474Z"
   },
   {
    "duration": 11,
    "start_time": "2022-11-04T10:58:39.552Z"
   },
   {
    "duration": 36,
    "start_time": "2022-11-04T10:58:39.569Z"
   },
   {
    "duration": 65,
    "start_time": "2022-11-04T10:58:39.607Z"
   },
   {
    "duration": 201,
    "start_time": "2022-11-04T10:58:39.675Z"
   },
   {
    "duration": 81,
    "start_time": "2022-11-04T10:58:39.878Z"
   },
   {
    "duration": 17,
    "start_time": "2022-11-04T10:58:39.961Z"
   },
   {
    "duration": 105,
    "start_time": "2022-11-04T10:58:39.980Z"
   },
   {
    "duration": 30,
    "start_time": "2022-11-04T10:58:40.087Z"
   },
   {
    "duration": 12,
    "start_time": "2022-11-04T10:58:40.142Z"
   },
   {
    "duration": 332,
    "start_time": "2022-11-04T10:58:40.158Z"
   },
   {
    "duration": 7,
    "start_time": "2022-11-04T10:58:40.492Z"
   },
   {
    "duration": 8,
    "start_time": "2022-11-04T10:58:40.501Z"
   },
   {
    "duration": 59,
    "start_time": "2022-11-04T10:58:40.510Z"
   },
   {
    "duration": 351,
    "start_time": "2022-11-04T10:58:40.576Z"
   },
   {
    "duration": 559,
    "start_time": "2022-11-04T10:58:40.929Z"
   },
   {
    "duration": 29,
    "start_time": "2022-11-04T10:58:41.490Z"
   },
   {
    "duration": 45,
    "start_time": "2022-11-04T10:58:41.521Z"
   },
   {
    "duration": 197,
    "start_time": "2022-11-04T10:58:41.569Z"
   },
   {
    "duration": 2799,
    "start_time": "2022-11-04T10:58:41.768Z"
   },
   {
    "duration": 16,
    "start_time": "2022-11-04T10:58:44.568Z"
   },
   {
    "duration": 44,
    "start_time": "2022-11-04T10:58:44.586Z"
   },
   {
    "duration": 27,
    "start_time": "2022-11-04T10:58:44.632Z"
   },
   {
    "duration": 29,
    "start_time": "2022-11-04T10:58:44.660Z"
   },
   {
    "duration": 6,
    "start_time": "2022-11-04T10:58:44.692Z"
   },
   {
    "duration": 679,
    "start_time": "2022-11-04T10:58:44.700Z"
   },
   {
    "duration": 3,
    "start_time": "2022-11-04T10:58:45.381Z"
   },
   {
    "duration": 12,
    "start_time": "2022-11-04T10:58:45.386Z"
   },
   {
    "duration": 5,
    "start_time": "2022-11-04T10:58:45.400Z"
   },
   {
    "duration": 10,
    "start_time": "2022-11-04T10:58:45.407Z"
   },
   {
    "duration": 73145,
    "start_time": "2022-11-04T10:58:45.438Z"
   },
   {
    "duration": 1524,
    "start_time": "2022-11-04T11:00:22.963Z"
   },
   {
    "duration": 4,
    "start_time": "2022-11-04T11:00:24.489Z"
   },
   {
    "duration": 324,
    "start_time": "2022-11-04T11:00:24.495Z"
   },
   {
    "duration": 3,
    "start_time": "2022-11-04T11:00:24.821Z"
   },
   {
    "duration": 68,
    "start_time": "2022-11-04T11:00:24.827Z"
   },
   {
    "duration": 3,
    "start_time": "2022-11-04T11:00:24.897Z"
   },
   {
    "duration": 53,
    "start_time": "2022-11-04T11:00:24.902Z"
   },
   {
    "duration": 54,
    "start_time": "2022-11-04T11:00:24.962Z"
   },
   {
    "duration": 189,
    "start_time": "2022-11-04T11:00:25.018Z"
   },
   {
    "duration": 81,
    "start_time": "2022-11-04T11:00:25.208Z"
   },
   {
    "duration": 10,
    "start_time": "2022-11-04T11:00:25.291Z"
   },
   {
    "duration": 84,
    "start_time": "2022-11-04T11:00:25.303Z"
   },
   {
    "duration": 13,
    "start_time": "2022-11-04T11:00:25.389Z"
   },
   {
    "duration": 2,
    "start_time": "2022-11-04T11:00:25.406Z"
   },
   {
    "duration": 298,
    "start_time": "2022-11-04T11:00:25.410Z"
   },
   {
    "duration": 8,
    "start_time": "2022-11-04T11:00:25.709Z"
   },
   {
    "duration": 25,
    "start_time": "2022-11-04T11:00:25.719Z"
   },
   {
    "duration": 30,
    "start_time": "2022-11-04T11:00:25.746Z"
   },
   {
    "duration": 340,
    "start_time": "2022-11-04T11:00:25.778Z"
   },
   {
    "duration": 540,
    "start_time": "2022-11-04T11:00:26.120Z"
   },
   {
    "duration": 26,
    "start_time": "2022-11-04T11:00:26.662Z"
   },
   {
    "duration": 18,
    "start_time": "2022-11-04T11:00:26.690Z"
   },
   {
    "duration": 186,
    "start_time": "2022-11-04T11:00:26.709Z"
   },
   {
    "duration": 2757,
    "start_time": "2022-11-04T11:00:26.898Z"
   },
   {
    "duration": 17,
    "start_time": "2022-11-04T11:00:29.658Z"
   },
   {
    "duration": 36,
    "start_time": "2022-11-04T11:00:29.677Z"
   },
   {
    "duration": 10,
    "start_time": "2022-11-04T11:00:29.715Z"
   },
   {
    "duration": 6,
    "start_time": "2022-11-04T11:00:29.738Z"
   },
   {
    "duration": 29,
    "start_time": "2022-11-04T11:00:29.745Z"
   },
   {
    "duration": 627,
    "start_time": "2022-11-04T11:00:29.776Z"
   },
   {
    "duration": 4,
    "start_time": "2022-11-04T11:00:30.405Z"
   },
   {
    "duration": 18,
    "start_time": "2022-11-04T11:00:30.411Z"
   },
   {
    "duration": 23,
    "start_time": "2022-11-04T11:00:30.431Z"
   },
   {
    "duration": 25,
    "start_time": "2022-11-04T11:00:30.458Z"
   },
   {
    "duration": 69962,
    "start_time": "2022-11-04T11:00:30.485Z"
   },
   {
    "duration": 28107,
    "start_time": "2022-11-04T11:01:40.450Z"
   },
   {
    "duration": 524,
    "start_time": "2022-11-04T11:02:08.559Z"
   },
   {
    "duration": 6,
    "start_time": "2022-11-04T11:02:09.085Z"
   },
   {
    "duration": 770,
    "start_time": "2022-11-04T11:02:09.093Z"
   },
   {
    "duration": 10,
    "start_time": "2022-11-04T11:02:09.865Z"
   },
   {
    "duration": 251,
    "start_time": "2022-11-04T11:02:09.879Z"
   },
   {
    "duration": 121,
    "start_time": "2022-11-04T11:02:10.131Z"
   },
   {
    "duration": 6,
    "start_time": "2022-11-04T11:05:20.558Z"
   },
   {
    "duration": 5,
    "start_time": "2022-11-04T11:06:23.369Z"
   },
   {
    "duration": 1622,
    "start_time": "2022-11-04T11:07:41.728Z"
   },
   {
    "duration": 3,
    "start_time": "2022-11-04T11:07:43.353Z"
   },
   {
    "duration": 299,
    "start_time": "2022-11-04T11:07:43.357Z"
   },
   {
    "duration": 6,
    "start_time": "2022-11-04T11:07:43.665Z"
   },
   {
    "duration": 40,
    "start_time": "2022-11-04T11:07:43.675Z"
   },
   {
    "duration": 3,
    "start_time": "2022-11-04T11:07:43.717Z"
   },
   {
    "duration": 48,
    "start_time": "2022-11-04T11:07:43.722Z"
   },
   {
    "duration": 30,
    "start_time": "2022-11-04T11:07:43.772Z"
   },
   {
    "duration": 208,
    "start_time": "2022-11-04T11:07:43.804Z"
   },
   {
    "duration": 76,
    "start_time": "2022-11-04T11:07:44.013Z"
   },
   {
    "duration": 13,
    "start_time": "2022-11-04T11:07:44.091Z"
   },
   {
    "duration": 94,
    "start_time": "2022-11-04T11:07:44.106Z"
   },
   {
    "duration": 42,
    "start_time": "2022-11-04T11:07:44.201Z"
   },
   {
    "duration": 3,
    "start_time": "2022-11-04T11:07:44.247Z"
   },
   {
    "duration": 289,
    "start_time": "2022-11-04T11:07:44.254Z"
   },
   {
    "duration": 27,
    "start_time": "2022-11-04T11:07:44.545Z"
   },
   {
    "duration": 11,
    "start_time": "2022-11-04T11:07:44.579Z"
   },
   {
    "duration": 21,
    "start_time": "2022-11-04T11:07:44.592Z"
   },
   {
    "duration": 356,
    "start_time": "2022-11-04T11:07:44.615Z"
   },
   {
    "duration": 484,
    "start_time": "2022-11-04T11:07:44.972Z"
   },
   {
    "duration": 26,
    "start_time": "2022-11-04T11:07:45.459Z"
   },
   {
    "duration": 17,
    "start_time": "2022-11-04T11:07:45.487Z"
   },
   {
    "duration": 165,
    "start_time": "2022-11-04T11:07:45.506Z"
   },
   {
    "duration": 2752,
    "start_time": "2022-11-04T11:07:45.673Z"
   },
   {
    "duration": 23,
    "start_time": "2022-11-04T11:07:48.427Z"
   },
   {
    "duration": 61,
    "start_time": "2022-11-04T11:07:48.453Z"
   },
   {
    "duration": 12,
    "start_time": "2022-11-04T11:07:48.524Z"
   },
   {
    "duration": 37,
    "start_time": "2022-11-04T11:07:48.545Z"
   },
   {
    "duration": 9,
    "start_time": "2022-11-04T11:07:48.584Z"
   },
   {
    "duration": 637,
    "start_time": "2022-11-04T11:07:48.595Z"
   },
   {
    "duration": 4,
    "start_time": "2022-11-04T11:07:49.234Z"
   },
   {
    "duration": 46,
    "start_time": "2022-11-04T11:07:49.240Z"
   },
   {
    "duration": 4,
    "start_time": "2022-11-04T11:07:49.287Z"
   },
   {
    "duration": 9,
    "start_time": "2022-11-04T11:07:49.292Z"
   },
   {
    "duration": 71255,
    "start_time": "2022-11-04T11:07:49.303Z"
   },
   {
    "duration": 30836,
    "start_time": "2022-11-04T11:09:00.569Z"
   },
   {
    "duration": 579,
    "start_time": "2022-11-04T11:09:31.407Z"
   },
   {
    "duration": 7,
    "start_time": "2022-11-04T11:09:31.987Z"
   },
   {
    "duration": 728,
    "start_time": "2022-11-04T11:09:31.996Z"
   },
   {
    "duration": 24,
    "start_time": "2022-11-04T11:09:32.726Z"
   },
   {
    "duration": 250,
    "start_time": "2022-11-04T11:09:32.760Z"
   },
   {
    "duration": 161,
    "start_time": "2022-11-04T11:09:33.012Z"
   },
   {
    "duration": 636,
    "start_time": "2022-11-04T11:45:58.764Z"
   },
   {
    "duration": 657,
    "start_time": "2022-11-04T11:46:58.256Z"
   },
   {
    "duration": 649,
    "start_time": "2022-11-04T11:48:19.228Z"
   },
   {
    "duration": 9,
    "start_time": "2022-11-07T06:15:34.654Z"
   },
   {
    "duration": 9,
    "start_time": "2022-11-07T06:16:35.244Z"
   },
   {
    "duration": 8,
    "start_time": "2022-11-07T06:17:29.231Z"
   },
   {
    "duration": 9,
    "start_time": "2022-11-07T06:17:50.444Z"
   },
   {
    "duration": 45,
    "start_time": "2022-11-10T03:42:09.121Z"
   },
   {
    "duration": 4,
    "start_time": "2022-11-10T03:42:50.067Z"
   },
   {
    "duration": 3,
    "start_time": "2022-11-10T03:42:58.253Z"
   },
   {
    "duration": 199,
    "start_time": "2022-11-10T03:43:19.420Z"
   },
   {
    "duration": 4,
    "start_time": "2022-11-10T03:43:38.097Z"
   },
   {
    "duration": 31,
    "start_time": "2022-11-10T03:43:54.766Z"
   },
   {
    "duration": 4,
    "start_time": "2022-11-10T03:44:25.163Z"
   },
   {
    "duration": 24,
    "start_time": "2022-11-10T03:44:40.426Z"
   },
   {
    "duration": 63,
    "start_time": "2022-11-10T03:45:01.150Z"
   },
   {
    "duration": 29,
    "start_time": "2022-11-10T03:45:11.704Z"
   },
   {
    "duration": 29,
    "start_time": "2022-11-10T03:45:18.350Z"
   },
   {
    "duration": 31,
    "start_time": "2022-11-10T03:45:28.463Z"
   },
   {
    "duration": 29,
    "start_time": "2022-11-10T03:45:32.711Z"
   },
   {
    "duration": 145,
    "start_time": "2022-11-10T03:45:52.525Z"
   },
   {
    "duration": 50,
    "start_time": "2022-11-10T03:49:19.125Z"
   },
   {
    "duration": 45,
    "start_time": "2022-11-10T03:49:44.581Z"
   },
   {
    "duration": 10,
    "start_time": "2022-11-10T03:50:18.330Z"
   },
   {
    "duration": 13,
    "start_time": "2022-11-10T03:50:45.103Z"
   },
   {
    "duration": 49,
    "start_time": "2022-11-10T03:50:53.449Z"
   },
   {
    "duration": 2,
    "start_time": "2022-11-10T03:51:13.733Z"
   },
   {
    "duration": 216,
    "start_time": "2022-11-10T03:51:37.187Z"
   },
   {
    "duration": 8,
    "start_time": "2022-11-10T03:52:20.128Z"
   },
   {
    "duration": 17,
    "start_time": "2022-11-10T03:52:37.167Z"
   },
   {
    "duration": 18,
    "start_time": "2022-11-10T03:52:51.167Z"
   },
   {
    "duration": 57,
    "start_time": "2022-11-10T03:53:10.165Z"
   },
   {
    "duration": 53,
    "start_time": "2022-11-10T03:53:29.544Z"
   },
   {
    "duration": 56,
    "start_time": "2022-11-10T03:53:41.742Z"
   },
   {
    "duration": 36,
    "start_time": "2022-11-10T03:53:47.370Z"
   },
   {
    "duration": 65,
    "start_time": "2022-11-10T03:54:51.375Z"
   },
   {
    "duration": 238,
    "start_time": "2022-11-10T03:55:06.354Z"
   },
   {
    "duration": 408,
    "start_time": "2022-11-10T03:56:05.212Z"
   },
   {
    "duration": 166,
    "start_time": "2022-11-10T03:57:50.470Z"
   },
   {
    "duration": 6,
    "start_time": "2022-11-10T03:58:53.780Z"
   },
   {
    "duration": 10,
    "start_time": "2022-11-10T03:59:10.480Z"
   },
   {
    "duration": 35,
    "start_time": "2022-11-10T03:59:30.445Z"
   },
   {
    "duration": 46,
    "start_time": "2022-11-10T03:59:52.153Z"
   },
   {
    "duration": 118,
    "start_time": "2022-11-10T04:00:02.780Z"
   },
   {
    "duration": 8,
    "start_time": "2022-11-10T04:01:59.820Z"
   },
   {
    "duration": 318,
    "start_time": "2022-11-10T04:03:33.685Z"
   },
   {
    "duration": 4,
    "start_time": "2022-11-10T04:04:14.907Z"
   },
   {
    "duration": 19,
    "start_time": "2022-11-10T04:04:52.635Z"
   },
   {
    "duration": 10,
    "start_time": "2022-11-10T04:11:13.830Z"
   },
   {
    "duration": 606,
    "start_time": "2022-11-10T04:11:25.764Z"
   },
   {
    "duration": 1303,
    "start_time": "2022-11-10T04:12:49.271Z"
   },
   {
    "duration": 3,
    "start_time": "2022-11-10T04:12:50.577Z"
   },
   {
    "duration": 273,
    "start_time": "2022-11-10T04:12:50.581Z"
   },
   {
    "duration": 3,
    "start_time": "2022-11-10T04:12:50.855Z"
   },
   {
    "duration": 58,
    "start_time": "2022-11-10T04:12:50.860Z"
   },
   {
    "duration": 3,
    "start_time": "2022-11-10T04:12:50.920Z"
   },
   {
    "duration": 36,
    "start_time": "2022-11-10T04:12:50.924Z"
   },
   {
    "duration": 56,
    "start_time": "2022-11-10T04:12:50.961Z"
   },
   {
    "duration": 154,
    "start_time": "2022-11-10T04:12:51.018Z"
   },
   {
    "duration": 42,
    "start_time": "2022-11-10T04:12:51.173Z"
   },
   {
    "duration": 9,
    "start_time": "2022-11-10T04:12:51.233Z"
   },
   {
    "duration": 34,
    "start_time": "2022-11-10T04:12:51.243Z"
   },
   {
    "duration": 25,
    "start_time": "2022-11-10T04:12:51.278Z"
   },
   {
    "duration": 231,
    "start_time": "2022-11-10T04:12:51.306Z"
   },
   {
    "duration": 8,
    "start_time": "2022-11-10T04:12:51.538Z"
   },
   {
    "duration": 18,
    "start_time": "2022-11-10T04:12:51.547Z"
   },
   {
    "duration": 29,
    "start_time": "2022-11-10T04:12:51.566Z"
   },
   {
    "duration": 85,
    "start_time": "2022-11-10T04:12:51.597Z"
   },
   {
    "duration": 61,
    "start_time": "2022-11-10T04:12:51.684Z"
   },
   {
    "duration": 35,
    "start_time": "2022-11-10T04:12:51.746Z"
   },
   {
    "duration": 77,
    "start_time": "2022-11-10T04:12:51.783Z"
   },
   {
    "duration": 256,
    "start_time": "2022-11-10T04:12:51.861Z"
   },
   {
    "duration": 6,
    "start_time": "2022-11-10T04:12:52.118Z"
   },
   {
    "duration": 23,
    "start_time": "2022-11-10T04:12:52.132Z"
   },
   {
    "duration": 50,
    "start_time": "2022-11-10T04:12:52.156Z"
   },
   {
    "duration": 6,
    "start_time": "2022-11-10T04:12:52.208Z"
   },
   {
    "duration": 378,
    "start_time": "2022-11-10T04:12:52.216Z"
   },
   {
    "duration": 4,
    "start_time": "2022-11-10T04:12:52.596Z"
   },
   {
    "duration": 120,
    "start_time": "2022-11-10T04:12:52.602Z"
   },
   {
    "duration": 0,
    "start_time": "2022-11-10T04:12:52.723Z"
   },
   {
    "duration": 0,
    "start_time": "2022-11-10T04:12:52.724Z"
   },
   {
    "duration": 0,
    "start_time": "2022-11-10T04:12:52.725Z"
   },
   {
    "duration": 22,
    "start_time": "2022-11-10T04:13:03.195Z"
   },
   {
    "duration": 17,
    "start_time": "2022-11-10T04:13:54.371Z"
   },
   {
    "duration": 290,
    "start_time": "2022-11-10T04:13:55.216Z"
   },
   {
    "duration": 28,
    "start_time": "2022-11-10T04:14:54.742Z"
   },
   {
    "duration": 748,
    "start_time": "2022-11-10T04:14:55.554Z"
   },
   {
    "duration": 12,
    "start_time": "2022-11-10T04:15:00.033Z"
   },
   {
    "duration": 17,
    "start_time": "2022-11-10T04:15:01.334Z"
   },
   {
    "duration": 232,
    "start_time": "2022-11-10T04:15:01.941Z"
   },
   {
    "duration": 1912,
    "start_time": "2022-11-10T04:15:45.261Z"
   },
   {
    "duration": 44,
    "start_time": "2022-11-10T04:15:56.313Z"
   },
   {
    "duration": 44,
    "start_time": "2022-11-10T04:17:28.201Z"
   },
   {
    "duration": 4,
    "start_time": "2022-11-10T04:17:37.623Z"
   },
   {
    "duration": 4,
    "start_time": "2022-11-10T04:18:09.013Z"
   },
   {
    "duration": 502,
    "start_time": "2022-11-10T04:20:43.636Z"
   },
   {
    "duration": 3,
    "start_time": "2022-11-10T04:28:00.135Z"
   },
   {
    "duration": 1302,
    "start_time": "2022-11-10T04:31:02.850Z"
   },
   {
    "duration": 3,
    "start_time": "2022-11-10T04:31:04.154Z"
   },
   {
    "duration": 221,
    "start_time": "2022-11-10T04:31:04.158Z"
   },
   {
    "duration": 2,
    "start_time": "2022-11-10T04:31:04.381Z"
   },
   {
    "duration": 40,
    "start_time": "2022-11-10T04:31:04.385Z"
   },
   {
    "duration": 7,
    "start_time": "2022-11-10T04:31:04.427Z"
   },
   {
    "duration": 30,
    "start_time": "2022-11-10T04:31:04.436Z"
   },
   {
    "duration": 29,
    "start_time": "2022-11-10T04:31:04.468Z"
   },
   {
    "duration": 163,
    "start_time": "2022-11-10T04:31:04.499Z"
   },
   {
    "duration": 40,
    "start_time": "2022-11-10T04:31:04.665Z"
   },
   {
    "duration": 28,
    "start_time": "2022-11-10T04:31:04.706Z"
   },
   {
    "duration": 13,
    "start_time": "2022-11-10T04:31:04.736Z"
   },
   {
    "duration": 2,
    "start_time": "2022-11-10T04:31:04.750Z"
   },
   {
    "duration": 231,
    "start_time": "2022-11-10T04:31:04.754Z"
   },
   {
    "duration": 7,
    "start_time": "2022-11-10T04:31:04.987Z"
   },
   {
    "duration": 24,
    "start_time": "2022-11-10T04:31:04.995Z"
   },
   {
    "duration": 37,
    "start_time": "2022-11-10T04:31:05.020Z"
   },
   {
    "duration": 74,
    "start_time": "2022-11-10T04:31:05.059Z"
   },
   {
    "duration": 51,
    "start_time": "2022-11-10T04:31:05.135Z"
   },
   {
    "duration": 51,
    "start_time": "2022-11-10T04:31:05.187Z"
   },
   {
    "duration": 62,
    "start_time": "2022-11-10T04:31:05.240Z"
   },
   {
    "duration": 266,
    "start_time": "2022-11-10T04:31:05.303Z"
   },
   {
    "duration": 6,
    "start_time": "2022-11-10T04:31:05.570Z"
   },
   {
    "duration": 13,
    "start_time": "2022-11-10T04:31:05.577Z"
   },
   {
    "duration": 47,
    "start_time": "2022-11-10T04:31:05.591Z"
   },
   {
    "duration": 16,
    "start_time": "2022-11-10T04:31:05.639Z"
   },
   {
    "duration": 24,
    "start_time": "2022-11-10T04:31:05.656Z"
   },
   {
    "duration": 281,
    "start_time": "2022-11-10T04:31:05.681Z"
   },
   {
    "duration": 1750,
    "start_time": "2022-11-10T04:31:05.963Z"
   },
   {
    "duration": 4,
    "start_time": "2022-11-10T04:31:07.714Z"
   },
   {
    "duration": 8,
    "start_time": "2022-11-10T04:31:07.719Z"
   },
   {
    "duration": 504,
    "start_time": "2022-11-10T04:31:07.729Z"
   },
   {
    "duration": 3,
    "start_time": "2022-11-10T04:31:08.234Z"
   },
   {
    "duration": 858,
    "start_time": "2022-11-10T04:33:43.928Z"
   },
   {
    "duration": 1360,
    "start_time": "2022-11-10T04:35:57.110Z"
   },
   {
    "duration": 3,
    "start_time": "2022-11-10T04:35:58.471Z"
   },
   {
    "duration": 230,
    "start_time": "2022-11-10T04:35:58.475Z"
   },
   {
    "duration": 2,
    "start_time": "2022-11-10T04:35:58.707Z"
   },
   {
    "duration": 40,
    "start_time": "2022-11-10T04:35:58.712Z"
   },
   {
    "duration": 3,
    "start_time": "2022-11-10T04:35:58.754Z"
   },
   {
    "duration": 40,
    "start_time": "2022-11-10T04:35:58.758Z"
   },
   {
    "duration": 39,
    "start_time": "2022-11-10T04:35:58.800Z"
   },
   {
    "duration": 144,
    "start_time": "2022-11-10T04:35:58.840Z"
   },
   {
    "duration": 52,
    "start_time": "2022-11-10T04:35:58.985Z"
   },
   {
    "duration": 9,
    "start_time": "2022-11-10T04:35:59.038Z"
   },
   {
    "duration": 13,
    "start_time": "2022-11-10T04:35:59.048Z"
   },
   {
    "duration": 2,
    "start_time": "2022-11-10T04:35:59.062Z"
   },
   {
    "duration": 241,
    "start_time": "2022-11-10T04:35:59.067Z"
   },
   {
    "duration": 24,
    "start_time": "2022-11-10T04:35:59.309Z"
   },
   {
    "duration": 18,
    "start_time": "2022-11-10T04:35:59.334Z"
   },
   {
    "duration": 28,
    "start_time": "2022-11-10T04:35:59.354Z"
   },
   {
    "duration": 81,
    "start_time": "2022-11-10T04:35:59.384Z"
   },
   {
    "duration": 52,
    "start_time": "2022-11-10T04:35:59.466Z"
   },
   {
    "duration": 44,
    "start_time": "2022-11-10T04:35:59.519Z"
   },
   {
    "duration": 72,
    "start_time": "2022-11-10T04:35:59.565Z"
   },
   {
    "duration": 259,
    "start_time": "2022-11-10T04:35:59.638Z"
   },
   {
    "duration": 6,
    "start_time": "2022-11-10T04:35:59.898Z"
   },
   {
    "duration": 13,
    "start_time": "2022-11-10T04:35:59.906Z"
   },
   {
    "duration": 29,
    "start_time": "2022-11-10T04:35:59.933Z"
   },
   {
    "duration": 14,
    "start_time": "2022-11-10T04:35:59.964Z"
   },
   {
    "duration": 23,
    "start_time": "2022-11-10T04:35:59.979Z"
   },
   {
    "duration": 282,
    "start_time": "2022-11-10T04:36:00.003Z"
   },
   {
    "duration": 1767,
    "start_time": "2022-11-10T04:36:00.286Z"
   },
   {
    "duration": 4,
    "start_time": "2022-11-10T04:36:02.054Z"
   },
   {
    "duration": 49,
    "start_time": "2022-11-10T04:36:02.059Z"
   },
   {
    "duration": 546,
    "start_time": "2022-11-10T04:36:02.110Z"
   },
   {
    "duration": 4,
    "start_time": "2022-11-10T04:36:02.658Z"
   },
   {
    "duration": 45,
    "start_time": "2022-11-10T04:36:02.664Z"
   },
   {
    "duration": 104,
    "start_time": "2022-11-10T04:40:13.923Z"
   },
   {
    "duration": 8901,
    "start_time": "2022-11-10T04:40:25.899Z"
   },
   {
    "duration": 10600,
    "start_time": "2022-11-10T04:41:40.672Z"
   },
   {
    "duration": 3309,
    "start_time": "2022-11-10T04:44:34.153Z"
   },
   {
    "duration": 10127,
    "start_time": "2022-11-10T04:45:20.301Z"
   },
   {
    "duration": 9894,
    "start_time": "2022-11-10T04:46:46.189Z"
   },
   {
    "duration": 10017,
    "start_time": "2022-11-10T04:47:22.242Z"
   },
   {
    "duration": 987870,
    "start_time": "2022-11-10T04:49:41.295Z"
   },
   {
    "duration": 1332,
    "start_time": "2022-11-10T05:39:43.228Z"
   },
   {
    "duration": 2,
    "start_time": "2022-11-10T05:39:44.563Z"
   },
   {
    "duration": 238,
    "start_time": "2022-11-10T05:39:44.566Z"
   },
   {
    "duration": 2,
    "start_time": "2022-11-10T05:39:44.806Z"
   },
   {
    "duration": 36,
    "start_time": "2022-11-10T05:39:44.810Z"
   },
   {
    "duration": 3,
    "start_time": "2022-11-10T05:39:44.848Z"
   },
   {
    "duration": 30,
    "start_time": "2022-11-10T05:39:44.852Z"
   },
   {
    "duration": 26,
    "start_time": "2022-11-10T05:39:44.884Z"
   },
   {
    "duration": 163,
    "start_time": "2022-11-10T05:39:44.912Z"
   },
   {
    "duration": 41,
    "start_time": "2022-11-10T05:39:45.077Z"
   },
   {
    "duration": 8,
    "start_time": "2022-11-10T05:39:45.132Z"
   },
   {
    "duration": 25,
    "start_time": "2022-11-10T05:39:45.141Z"
   },
   {
    "duration": 5,
    "start_time": "2022-11-10T05:39:45.168Z"
   },
   {
    "duration": 254,
    "start_time": "2022-11-10T05:39:45.174Z"
   },
   {
    "duration": 9,
    "start_time": "2022-11-10T05:39:45.429Z"
   },
   {
    "duration": 22,
    "start_time": "2022-11-10T05:39:45.440Z"
   },
   {
    "duration": 29,
    "start_time": "2022-11-10T05:39:45.463Z"
   },
   {
    "duration": 76,
    "start_time": "2022-11-10T05:39:45.493Z"
   },
   {
    "duration": 63,
    "start_time": "2022-11-10T05:39:45.570Z"
   },
   {
    "duration": 37,
    "start_time": "2022-11-10T05:39:45.634Z"
   },
   {
    "duration": 82,
    "start_time": "2022-11-10T05:39:45.672Z"
   },
   {
    "duration": 254,
    "start_time": "2022-11-10T05:39:45.755Z"
   },
   {
    "duration": 5,
    "start_time": "2022-11-10T05:39:46.010Z"
   },
   {
    "duration": 20,
    "start_time": "2022-11-10T05:39:46.017Z"
   },
   {
    "duration": 29,
    "start_time": "2022-11-10T05:39:46.038Z"
   },
   {
    "duration": 15,
    "start_time": "2022-11-10T05:39:46.068Z"
   },
   {
    "duration": 49,
    "start_time": "2022-11-10T05:39:46.084Z"
   },
   {
    "duration": 266,
    "start_time": "2022-11-10T05:39:46.135Z"
   },
   {
    "duration": 1754,
    "start_time": "2022-11-10T05:39:46.403Z"
   },
   {
    "duration": 3,
    "start_time": "2022-11-10T05:39:48.159Z"
   },
   {
    "duration": 6,
    "start_time": "2022-11-10T05:39:48.164Z"
   },
   {
    "duration": 541,
    "start_time": "2022-11-10T05:39:48.172Z"
   },
   {
    "duration": 3,
    "start_time": "2022-11-10T05:39:48.715Z"
   },
   {
    "duration": 41,
    "start_time": "2022-11-10T05:39:48.720Z"
   },
   {
    "duration": 28049,
    "start_time": "2022-11-10T05:39:48.763Z"
   },
   {
    "duration": 1345,
    "start_time": "2022-11-10T05:54:46.767Z"
   },
   {
    "duration": 3,
    "start_time": "2022-11-10T05:54:48.113Z"
   },
   {
    "duration": 236,
    "start_time": "2022-11-10T05:54:48.117Z"
   },
   {
    "duration": 3,
    "start_time": "2022-11-10T05:54:48.355Z"
   },
   {
    "duration": 37,
    "start_time": "2022-11-10T05:54:48.359Z"
   },
   {
    "duration": 3,
    "start_time": "2022-11-10T05:54:48.397Z"
   },
   {
    "duration": 45,
    "start_time": "2022-11-10T05:54:48.402Z"
   },
   {
    "duration": 28,
    "start_time": "2022-11-10T05:54:48.448Z"
   },
   {
    "duration": 155,
    "start_time": "2022-11-10T05:54:48.478Z"
   },
   {
    "duration": 46,
    "start_time": "2022-11-10T05:54:48.635Z"
   },
   {
    "duration": 9,
    "start_time": "2022-11-10T05:54:48.682Z"
   },
   {
    "duration": 13,
    "start_time": "2022-11-10T05:54:48.692Z"
   },
   {
    "duration": 3,
    "start_time": "2022-11-10T05:54:48.733Z"
   },
   {
    "duration": 231,
    "start_time": "2022-11-10T05:54:48.738Z"
   },
   {
    "duration": 7,
    "start_time": "2022-11-10T05:54:48.971Z"
   },
   {
    "duration": 29,
    "start_time": "2022-11-10T05:54:48.979Z"
   },
   {
    "duration": 38,
    "start_time": "2022-11-10T05:54:49.009Z"
   },
   {
    "duration": 69,
    "start_time": "2022-11-10T05:54:49.049Z"
   },
   {
    "duration": 63,
    "start_time": "2022-11-10T05:54:49.119Z"
   },
   {
    "duration": 34,
    "start_time": "2022-11-10T05:54:49.183Z"
   },
   {
    "duration": 76,
    "start_time": "2022-11-10T05:54:49.218Z"
   },
   {
    "duration": 259,
    "start_time": "2022-11-10T05:54:49.296Z"
   },
   {
    "duration": 5,
    "start_time": "2022-11-10T05:54:49.557Z"
   },
   {
    "duration": 11,
    "start_time": "2022-11-10T05:54:49.564Z"
   },
   {
    "duration": 29,
    "start_time": "2022-11-10T05:54:49.577Z"
   },
   {
    "duration": 36,
    "start_time": "2022-11-10T05:54:49.608Z"
   },
   {
    "duration": 22,
    "start_time": "2022-11-10T05:54:49.646Z"
   },
   {
    "duration": 281,
    "start_time": "2022-11-10T05:54:49.672Z"
   },
   {
    "duration": 1815,
    "start_time": "2022-11-10T05:54:49.954Z"
   },
   {
    "duration": 4,
    "start_time": "2022-11-10T05:54:51.770Z"
   },
   {
    "duration": 19,
    "start_time": "2022-11-10T05:54:51.776Z"
   },
   {
    "duration": 519,
    "start_time": "2022-11-10T05:54:51.796Z"
   },
   {
    "duration": 3,
    "start_time": "2022-11-10T05:54:52.317Z"
   },
   {
    "duration": 63,
    "start_time": "2022-11-10T05:54:52.322Z"
   },
   {
    "duration": 28063,
    "start_time": "2022-11-10T05:54:52.387Z"
   },
   {
    "duration": 1306,
    "start_time": "2022-11-10T05:56:01.464Z"
   },
   {
    "duration": 2,
    "start_time": "2022-11-10T05:56:02.772Z"
   },
   {
    "duration": 243,
    "start_time": "2022-11-10T05:56:02.776Z"
   },
   {
    "duration": 2,
    "start_time": "2022-11-10T05:56:03.021Z"
   },
   {
    "duration": 48,
    "start_time": "2022-11-10T05:56:03.025Z"
   },
   {
    "duration": 3,
    "start_time": "2022-11-10T05:56:03.075Z"
   },
   {
    "duration": 34,
    "start_time": "2022-11-10T05:56:03.079Z"
   },
   {
    "duration": 31,
    "start_time": "2022-11-10T05:56:03.114Z"
   },
   {
    "duration": 149,
    "start_time": "2022-11-10T05:56:03.146Z"
   },
   {
    "duration": 57,
    "start_time": "2022-11-10T05:56:03.296Z"
   },
   {
    "duration": 9,
    "start_time": "2022-11-10T05:56:03.354Z"
   },
   {
    "duration": 24,
    "start_time": "2022-11-10T05:56:03.365Z"
   },
   {
    "duration": 5,
    "start_time": "2022-11-10T05:56:03.391Z"
   },
   {
    "duration": 234,
    "start_time": "2022-11-10T05:56:03.399Z"
   },
   {
    "duration": 7,
    "start_time": "2022-11-10T05:56:03.635Z"
   },
   {
    "duration": 44,
    "start_time": "2022-11-10T05:56:03.644Z"
   },
   {
    "duration": 41,
    "start_time": "2022-11-10T05:56:03.689Z"
   },
   {
    "duration": 66,
    "start_time": "2022-11-10T05:56:03.732Z"
   },
   {
    "duration": 66,
    "start_time": "2022-11-10T05:56:03.800Z"
   },
   {
    "duration": 37,
    "start_time": "2022-11-10T05:56:03.867Z"
   },
   {
    "duration": 77,
    "start_time": "2022-11-10T05:56:03.906Z"
   },
   {
    "duration": 255,
    "start_time": "2022-11-10T05:56:03.984Z"
   },
   {
    "duration": 5,
    "start_time": "2022-11-10T05:56:04.241Z"
   },
   {
    "duration": 26,
    "start_time": "2022-11-10T05:56:04.247Z"
   },
   {
    "duration": 32,
    "start_time": "2022-11-10T05:56:04.275Z"
   },
   {
    "duration": 26,
    "start_time": "2022-11-10T05:56:04.308Z"
   },
   {
    "duration": 22,
    "start_time": "2022-11-10T05:56:04.336Z"
   },
   {
    "duration": 273,
    "start_time": "2022-11-10T05:56:04.360Z"
   },
   {
    "duration": 1779,
    "start_time": "2022-11-10T05:56:04.634Z"
   },
   {
    "duration": 3,
    "start_time": "2022-11-10T05:56:06.415Z"
   },
   {
    "duration": 8,
    "start_time": "2022-11-10T05:56:06.420Z"
   },
   {
    "duration": 509,
    "start_time": "2022-11-10T05:56:06.430Z"
   },
   {
    "duration": 3,
    "start_time": "2022-11-10T05:56:06.941Z"
   },
   {
    "duration": 46,
    "start_time": "2022-11-10T05:56:06.945Z"
   },
   {
    "duration": 28361,
    "start_time": "2022-11-10T05:56:06.993Z"
   },
   {
    "duration": 100104,
    "start_time": "2022-11-10T05:56:35.355Z"
   },
   {
    "duration": 6,
    "start_time": "2022-11-10T05:58:15.461Z"
   },
   {
    "duration": 0,
    "start_time": "2022-11-10T05:58:15.469Z"
   },
   {
    "duration": 0,
    "start_time": "2022-11-10T05:58:15.470Z"
   },
   {
    "duration": 8227,
    "start_time": "2022-11-10T05:58:34.341Z"
   },
   {
    "duration": 45,
    "start_time": "2022-11-10T05:59:06.890Z"
   },
   {
    "duration": 6,
    "start_time": "2022-11-10T05:59:07.299Z"
   },
   {
    "duration": 58498,
    "start_time": "2022-11-10T06:02:30.245Z"
   },
   {
    "duration": 1317,
    "start_time": "2022-11-10T06:16:02.576Z"
   },
   {
    "duration": 3,
    "start_time": "2022-11-10T06:16:03.895Z"
   },
   {
    "duration": 226,
    "start_time": "2022-11-10T06:16:03.900Z"
   },
   {
    "duration": 3,
    "start_time": "2022-11-10T06:16:04.128Z"
   },
   {
    "duration": 38,
    "start_time": "2022-11-10T06:16:04.132Z"
   },
   {
    "duration": 3,
    "start_time": "2022-11-10T06:16:04.622Z"
   },
   {
    "duration": 26,
    "start_time": "2022-11-10T06:16:05.090Z"
   },
   {
    "duration": 28,
    "start_time": "2022-11-10T06:16:05.405Z"
   },
   {
    "duration": 142,
    "start_time": "2022-11-10T06:16:05.945Z"
   },
   {
    "duration": 43,
    "start_time": "2022-11-10T06:16:06.387Z"
   },
   {
    "duration": 9,
    "start_time": "2022-11-10T06:16:06.540Z"
   },
   {
    "duration": 13,
    "start_time": "2022-11-10T06:16:07.200Z"
   },
   {
    "duration": 2,
    "start_time": "2022-11-10T06:16:08.039Z"
   },
   {
    "duration": 218,
    "start_time": "2022-11-10T06:16:09.312Z"
   },
   {
    "duration": 8,
    "start_time": "2022-11-10T06:16:10.808Z"
   },
   {
    "duration": 19,
    "start_time": "2022-11-10T06:16:11.741Z"
   },
   {
    "duration": 30,
    "start_time": "2022-11-10T06:16:16.384Z"
   },
   {
    "duration": 68,
    "start_time": "2022-11-10T06:16:17.576Z"
   },
   {
    "duration": 55,
    "start_time": "2022-11-10T06:16:17.973Z"
   },
   {
    "duration": 36,
    "start_time": "2022-11-10T06:16:18.329Z"
   },
   {
    "duration": 66,
    "start_time": "2022-11-10T06:16:20.515Z"
   },
   {
    "duration": 251,
    "start_time": "2022-11-10T06:16:22.245Z"
   },
   {
    "duration": 6,
    "start_time": "2022-11-10T06:16:26.520Z"
   },
   {
    "duration": 11,
    "start_time": "2022-11-10T06:16:26.947Z"
   },
   {
    "duration": 32,
    "start_time": "2022-11-10T06:16:28.769Z"
   },
   {
    "duration": 16,
    "start_time": "2022-11-10T06:16:33.956Z"
   },
   {
    "duration": 4,
    "start_time": "2022-11-10T06:16:35.727Z"
   },
   {
    "duration": 265,
    "start_time": "2022-11-10T06:17:02.895Z"
   },
   {
    "duration": 2054,
    "start_time": "2022-11-10T06:17:05.246Z"
   },
   {
    "duration": 27,
    "start_time": "2022-11-10T06:17:58.895Z"
   },
   {
    "duration": 4,
    "start_time": "2022-11-10T06:18:00.053Z"
   },
   {
    "duration": 941,
    "start_time": "2022-11-10T06:18:06.236Z"
   },
   {
    "duration": 1403,
    "start_time": "2022-11-10T06:18:08.620Z"
   },
   {
    "duration": 3,
    "start_time": "2022-11-10T06:18:11.274Z"
   },
   {
    "duration": 4,
    "start_time": "2022-11-10T06:18:12.207Z"
   },
   {
    "duration": 507,
    "start_time": "2022-11-10T06:18:12.985Z"
   },
   {
    "duration": 3,
    "start_time": "2022-11-10T06:18:15.939Z"
   },
   {
    "duration": 20,
    "start_time": "2022-11-10T06:18:16.770Z"
   },
   {
    "duration": 27417,
    "start_time": "2022-11-10T06:18:19.758Z"
   },
   {
    "duration": 100915,
    "start_time": "2022-11-10T06:18:52.881Z"
   },
   {
    "duration": 7281,
    "start_time": "2022-11-10T06:20:40.408Z"
   },
   {
    "duration": 62015,
    "start_time": "2022-11-10T06:21:21.428Z"
   },
   {
    "duration": 7400,
    "start_time": "2022-11-10T06:22:23.445Z"
   },
   {
    "duration": 21607,
    "start_time": "2022-11-10T06:23:44.339Z"
   },
   {
    "duration": 3,
    "start_time": "2022-11-10T06:24:26.552Z"
   },
   {
    "duration": 9072,
    "start_time": "2022-11-10T06:25:01.300Z"
   },
   {
    "duration": 5,
    "start_time": "2022-11-10T06:27:18.106Z"
   },
   {
    "duration": 4,
    "start_time": "2022-11-10T06:27:30.405Z"
   },
   {
    "duration": 9107,
    "start_time": "2022-11-10T06:27:58.166Z"
   },
   {
    "duration": 4,
    "start_time": "2022-11-10T06:28:38.044Z"
   },
   {
    "duration": 65,
    "start_time": "2022-11-10T06:32:47.163Z"
   },
   {
    "duration": 28221,
    "start_time": "2022-11-10T06:33:53.806Z"
   },
   {
    "duration": 9378,
    "start_time": "2022-11-10T06:36:01.510Z"
   },
   {
    "duration": 9442,
    "start_time": "2022-11-10T06:36:21.833Z"
   },
   {
    "duration": 5,
    "start_time": "2022-11-10T06:36:58.172Z"
   },
   {
    "duration": 13,
    "start_time": "2022-11-10T06:37:05.124Z"
   },
   {
    "duration": 18,
    "start_time": "2022-11-10T06:44:57.360Z"
   },
   {
    "duration": 6,
    "start_time": "2022-11-10T06:45:28.588Z"
   },
   {
    "duration": 59,
    "start_time": "2022-11-10T06:45:42.763Z"
   },
   {
    "duration": 15,
    "start_time": "2022-11-10T06:45:50.901Z"
   },
   {
    "duration": 19,
    "start_time": "2022-11-10T06:46:10.903Z"
   },
   {
    "duration": 18,
    "start_time": "2022-11-10T06:46:17.858Z"
   },
   {
    "duration": 13,
    "start_time": "2022-11-10T06:46:32.024Z"
   },
   {
    "duration": 9,
    "start_time": "2022-11-10T06:46:38.423Z"
   },
   {
    "duration": 15,
    "start_time": "2022-11-10T06:47:01.019Z"
   },
   {
    "duration": 6,
    "start_time": "2022-11-10T06:47:09.996Z"
   },
   {
    "duration": 24069,
    "start_time": "2022-11-10T06:47:37.719Z"
   },
   {
    "duration": 5367,
    "start_time": "2022-11-10T06:49:03.671Z"
   },
   {
    "duration": 5542,
    "start_time": "2022-11-10T06:49:20.390Z"
   },
   {
    "duration": 100821,
    "start_time": "2022-11-10T06:49:39.208Z"
   },
   {
    "duration": 13,
    "start_time": "2022-11-10T06:53:22.161Z"
   },
   {
    "duration": 4,
    "start_time": "2022-11-10T06:53:37.563Z"
   },
   {
    "duration": 5667,
    "start_time": "2022-11-10T06:53:40.348Z"
   },
   {
    "duration": 100610,
    "start_time": "2022-11-10T06:55:14.872Z"
   },
   {
    "duration": 16,
    "start_time": "2022-11-10T07:07:14.862Z"
   },
   {
    "duration": 13,
    "start_time": "2022-11-10T07:08:52.905Z"
   },
   {
    "duration": 13,
    "start_time": "2022-11-10T07:09:06.373Z"
   },
   {
    "duration": 15,
    "start_time": "2022-11-10T07:14:31.628Z"
   },
   {
    "duration": 4,
    "start_time": "2022-11-10T07:15:38.042Z"
   },
   {
    "duration": 3,
    "start_time": "2022-11-10T07:15:38.241Z"
   },
   {
    "duration": 198,
    "start_time": "2022-11-10T07:15:38.656Z"
   },
   {
    "duration": 5,
    "start_time": "2022-11-10T07:15:39.016Z"
   },
   {
    "duration": 31,
    "start_time": "2022-11-10T07:15:39.375Z"
   },
   {
    "duration": 3,
    "start_time": "2022-11-10T07:15:40.142Z"
   },
   {
    "duration": 24,
    "start_time": "2022-11-10T07:15:40.515Z"
   },
   {
    "duration": 29,
    "start_time": "2022-11-10T07:15:40.899Z"
   },
   {
    "duration": 136,
    "start_time": "2022-11-10T07:15:41.294Z"
   },
   {
    "duration": 44,
    "start_time": "2022-11-10T07:15:41.689Z"
   },
   {
    "duration": 10,
    "start_time": "2022-11-10T07:15:42.098Z"
   },
   {
    "duration": 14,
    "start_time": "2022-11-10T07:15:42.480Z"
   },
   {
    "duration": 3,
    "start_time": "2022-11-10T07:15:42.993Z"
   },
   {
    "duration": 221,
    "start_time": "2022-11-10T07:15:43.684Z"
   },
   {
    "duration": 7,
    "start_time": "2022-11-10T07:15:44.110Z"
   },
   {
    "duration": 19,
    "start_time": "2022-11-10T07:15:45.046Z"
   },
   {
    "duration": 19,
    "start_time": "2022-11-10T07:15:45.634Z"
   },
   {
    "duration": 62,
    "start_time": "2022-11-10T07:15:46.224Z"
   },
   {
    "duration": 56,
    "start_time": "2022-11-10T07:15:46.955Z"
   },
   {
    "duration": 37,
    "start_time": "2022-11-10T07:15:47.372Z"
   },
   {
    "duration": 66,
    "start_time": "2022-11-10T07:15:48.449Z"
   },
   {
    "duration": 249,
    "start_time": "2022-11-10T07:15:48.880Z"
   },
   {
    "duration": 6,
    "start_time": "2022-11-10T07:15:50.908Z"
   },
   {
    "duration": 13,
    "start_time": "2022-11-10T07:15:51.137Z"
   },
   {
    "duration": 34,
    "start_time": "2022-11-10T07:15:52.014Z"
   },
   {
    "duration": 13,
    "start_time": "2022-11-10T07:15:54.328Z"
   },
   {
    "duration": 21,
    "start_time": "2022-11-10T07:15:56.192Z"
   },
   {
    "duration": 18,
    "start_time": "2022-11-10T07:15:59.820Z"
   },
   {
    "duration": 9,
    "start_time": "2022-11-10T07:16:38.054Z"
   },
   {
    "duration": 4,
    "start_time": "2022-11-10T07:16:40.857Z"
   },
   {
    "duration": 5,
    "start_time": "2022-11-10T07:16:47.058Z"
   },
   {
    "duration": 4,
    "start_time": "2022-11-10T07:24:44.314Z"
   },
   {
    "duration": 3,
    "start_time": "2022-11-10T07:24:44.494Z"
   },
   {
    "duration": 181,
    "start_time": "2022-11-10T07:24:44.846Z"
   },
   {
    "duration": 4,
    "start_time": "2022-11-10T07:24:45.191Z"
   },
   {
    "duration": 31,
    "start_time": "2022-11-10T07:24:45.570Z"
   },
   {
    "duration": 4,
    "start_time": "2022-11-10T07:24:46.328Z"
   },
   {
    "duration": 24,
    "start_time": "2022-11-10T07:24:46.709Z"
   },
   {
    "duration": 28,
    "start_time": "2022-11-10T07:24:47.065Z"
   },
   {
    "duration": 139,
    "start_time": "2022-11-10T07:24:47.456Z"
   },
   {
    "duration": 41,
    "start_time": "2022-11-10T07:24:47.849Z"
   },
   {
    "duration": 10,
    "start_time": "2022-11-10T07:24:48.279Z"
   },
   {
    "duration": 14,
    "start_time": "2022-11-10T07:24:57.263Z"
   },
   {
    "duration": 2,
    "start_time": "2022-11-10T07:24:57.690Z"
   },
   {
    "duration": 228,
    "start_time": "2022-11-10T07:24:58.275Z"
   },
   {
    "duration": 9,
    "start_time": "2022-11-10T07:25:00.430Z"
   },
   {
    "duration": 19,
    "start_time": "2022-11-10T07:25:01.197Z"
   },
   {
    "duration": 18,
    "start_time": "2022-11-10T07:25:03.541Z"
   },
   {
    "duration": 56,
    "start_time": "2022-11-10T07:25:03.929Z"
   },
   {
    "duration": 52,
    "start_time": "2022-11-10T07:25:04.106Z"
   },
   {
    "duration": 39,
    "start_time": "2022-11-10T07:25:04.294Z"
   },
   {
    "duration": 61,
    "start_time": "2022-11-10T07:25:06.034Z"
   },
   {
    "duration": 231,
    "start_time": "2022-11-10T07:25:06.987Z"
   },
   {
    "duration": 7,
    "start_time": "2022-11-10T07:25:10.840Z"
   },
   {
    "duration": 11,
    "start_time": "2022-11-10T07:25:11.256Z"
   },
   {
    "duration": 32,
    "start_time": "2022-11-10T07:25:16.458Z"
   },
   {
    "duration": 17,
    "start_time": "2022-11-10T07:27:41.135Z"
   },
   {
    "duration": 19,
    "start_time": "2022-11-10T07:29:08.157Z"
   },
   {
    "duration": 55,
    "start_time": "2022-11-10T07:29:51.110Z"
   },
   {
    "duration": 47,
    "start_time": "2022-11-10T07:30:07.524Z"
   },
   {
    "duration": 14,
    "start_time": "2022-11-10T07:30:27.324Z"
   },
   {
    "duration": 63,
    "start_time": "2022-11-10T07:30:35.551Z"
   },
   {
    "duration": 18,
    "start_time": "2022-11-10T07:30:51.712Z"
   },
   {
    "duration": 22,
    "start_time": "2022-11-10T07:31:08.902Z"
   },
   {
    "duration": 7,
    "start_time": "2022-11-10T07:31:22.463Z"
   },
   {
    "duration": 8,
    "start_time": "2022-11-10T07:47:02.693Z"
   },
   {
    "duration": 8,
    "start_time": "2022-11-10T07:49:20.765Z"
   },
   {
    "duration": 9,
    "start_time": "2022-11-10T07:49:42.872Z"
   },
   {
    "duration": 13,
    "start_time": "2022-11-10T07:51:47.738Z"
   },
   {
    "duration": 9,
    "start_time": "2022-11-10T07:52:28.729Z"
   },
   {
    "duration": 9,
    "start_time": "2022-11-10T07:54:54.737Z"
   },
   {
    "duration": 9,
    "start_time": "2022-11-10T07:55:01.921Z"
   },
   {
    "duration": 12,
    "start_time": "2022-11-10T07:55:11.773Z"
   },
   {
    "duration": 10,
    "start_time": "2022-11-10T07:55:39.507Z"
   },
   {
    "duration": 12,
    "start_time": "2022-11-10T07:55:52.231Z"
   },
   {
    "duration": 15,
    "start_time": "2022-11-10T07:56:12.905Z"
   },
   {
    "duration": 21,
    "start_time": "2022-11-10T07:57:06.013Z"
   },
   {
    "duration": 17,
    "start_time": "2022-11-10T07:57:28.880Z"
   },
   {
    "duration": 20,
    "start_time": "2022-11-10T07:57:36.987Z"
   },
   {
    "duration": 26,
    "start_time": "2022-11-10T07:59:03.987Z"
   },
   {
    "duration": 266,
    "start_time": "2022-11-10T08:00:09.577Z"
   },
   {
    "duration": 59,
    "start_time": "2022-11-10T08:00:35.962Z"
   },
   {
    "duration": 9,
    "start_time": "2022-11-10T08:02:16.271Z"
   },
   {
    "duration": 7,
    "start_time": "2022-11-10T08:02:19.442Z"
   },
   {
    "duration": 11,
    "start_time": "2022-11-10T08:02:20.889Z"
   },
   {
    "duration": 106,
    "start_time": "2022-11-10T08:03:06.445Z"
   },
   {
    "duration": 724,
    "start_time": "2022-11-10T08:04:29.176Z"
   },
   {
    "duration": 15,
    "start_time": "2022-11-10T08:04:30.357Z"
   },
   {
    "duration": 7,
    "start_time": "2022-11-10T08:04:40.920Z"
   },
   {
    "duration": 10,
    "start_time": "2022-11-10T08:04:41.898Z"
   },
   {
    "duration": 114,
    "start_time": "2022-11-10T08:04:42.845Z"
   },
   {
    "duration": 763,
    "start_time": "2022-11-10T08:06:11.931Z"
   },
   {
    "duration": 1866,
    "start_time": "2022-11-10T08:06:19.548Z"
   },
   {
    "duration": 8,
    "start_time": "2022-11-10T08:06:28.546Z"
   },
   {
    "duration": 11,
    "start_time": "2022-11-10T08:06:29.671Z"
   },
   {
    "duration": 200,
    "start_time": "2022-11-10T08:06:30.964Z"
   },
   {
    "duration": 69,
    "start_time": "2022-11-10T08:06:33.384Z"
   },
   {
    "duration": 76820,
    "start_time": "2022-11-10T08:08:16.808Z"
   },
   {
    "duration": 12,
    "start_time": "2022-11-10T08:19:29.449Z"
   },
   {
    "duration": 29,
    "start_time": "2022-11-10T08:19:30.749Z"
   },
   {
    "duration": 17,
    "start_time": "2022-11-10T08:19:40.914Z"
   },
   {
    "duration": 19,
    "start_time": "2022-11-10T08:19:50.899Z"
   },
   {
    "duration": 22,
    "start_time": "2022-11-10T08:19:52.772Z"
   },
   {
    "duration": 17,
    "start_time": "2022-11-10T08:21:07.404Z"
   },
   {
    "duration": 13,
    "start_time": "2022-11-10T08:21:35.336Z"
   },
   {
    "duration": 286,
    "start_time": "2022-11-10T08:21:56.658Z"
   },
   {
    "duration": 2603,
    "start_time": "2022-11-10T08:21:59.364Z"
   },
   {
    "duration": 12,
    "start_time": "2022-11-10T08:22:19.959Z"
   },
   {
    "duration": 19,
    "start_time": "2022-11-10T08:22:21.139Z"
   },
   {
    "duration": 258,
    "start_time": "2022-11-10T08:22:44.385Z"
   },
   {
    "duration": 2116,
    "start_time": "2022-11-10T08:22:46.502Z"
   },
   {
    "duration": 24,
    "start_time": "2022-11-10T08:27:07.957Z"
   },
   {
    "duration": 12,
    "start_time": "2022-11-10T08:27:15.847Z"
   },
   {
    "duration": 12,
    "start_time": "2022-11-10T08:28:34.587Z"
   },
   {
    "duration": 19,
    "start_time": "2022-11-10T08:28:35.656Z"
   },
   {
    "duration": 418,
    "start_time": "2022-11-10T08:28:36.524Z"
   },
   {
    "duration": 49,
    "start_time": "2022-11-10T08:28:46.761Z"
   },
   {
    "duration": 10,
    "start_time": "2022-11-10T08:28:50.543Z"
   },
   {
    "duration": 127,
    "start_time": "2022-11-10T08:28:56.461Z"
   },
   {
    "duration": 2053,
    "start_time": "2022-11-10T08:29:52.386Z"
   },
   {
    "duration": 8,
    "start_time": "2022-11-10T08:30:01.668Z"
   },
   {
    "duration": 6,
    "start_time": "2022-11-10T08:30:02.963Z"
   },
   {
    "duration": 683,
    "start_time": "2022-11-10T08:30:04.520Z"
   },
   {
    "duration": 6,
    "start_time": "2022-11-10T08:30:08.628Z"
   },
   {
    "duration": 26,
    "start_time": "2022-11-10T08:30:21.728Z"
   },
   {
    "duration": 34612,
    "start_time": "2022-11-10T08:30:36.990Z"
   },
   {
    "duration": 2895,
    "start_time": "2022-11-10T08:31:37.148Z"
   },
   {
    "duration": 772,
    "start_time": "2022-11-10T08:32:00.947Z"
   },
   {
    "duration": 42637,
    "start_time": "2022-11-10T08:32:13.156Z"
   },
   {
    "duration": 20,
    "start_time": "2022-11-10T08:36:32.788Z"
   },
   {
    "duration": 73,
    "start_time": "2022-11-10T08:37:43.374Z"
   },
   {
    "duration": 11406,
    "start_time": "2022-11-10T08:38:37.380Z"
   },
   {
    "duration": 5934,
    "start_time": "2022-11-10T08:38:56.877Z"
   },
   {
    "duration": 2915,
    "start_time": "2022-11-10T08:39:36.829Z"
   },
   {
    "duration": 3064,
    "start_time": "2022-11-10T08:43:03.685Z"
   },
   {
    "duration": 5,
    "start_time": "2022-11-10T08:44:27.797Z"
   },
   {
    "duration": 2,
    "start_time": "2022-11-10T08:44:27.984Z"
   },
   {
    "duration": 228,
    "start_time": "2022-11-10T08:44:28.380Z"
   },
   {
    "duration": 4,
    "start_time": "2022-11-10T08:44:28.780Z"
   },
   {
    "duration": 30,
    "start_time": "2022-11-10T08:44:29.158Z"
   },
   {
    "duration": 3,
    "start_time": "2022-11-10T08:44:29.934Z"
   },
   {
    "duration": 24,
    "start_time": "2022-11-10T08:44:30.337Z"
   },
   {
    "duration": 38,
    "start_time": "2022-11-10T08:44:30.722Z"
   },
   {
    "duration": 159,
    "start_time": "2022-11-10T08:44:31.133Z"
   },
   {
    "duration": 43,
    "start_time": "2022-11-10T08:44:31.527Z"
   },
   {
    "duration": 10,
    "start_time": "2022-11-10T08:44:31.926Z"
   },
   {
    "duration": 15,
    "start_time": "2022-11-10T08:44:32.313Z"
   },
   {
    "duration": 3,
    "start_time": "2022-11-10T08:44:32.828Z"
   },
   {
    "duration": 225,
    "start_time": "2022-11-10T08:44:33.369Z"
   },
   {
    "duration": 9,
    "start_time": "2022-11-10T08:44:33.765Z"
   },
   {
    "duration": 20,
    "start_time": "2022-11-10T08:44:34.143Z"
   },
   {
    "duration": 24,
    "start_time": "2022-11-10T08:44:34.545Z"
   },
   {
    "duration": 60,
    "start_time": "2022-11-10T08:44:34.939Z"
   },
   {
    "duration": 58,
    "start_time": "2022-11-10T08:44:35.225Z"
   },
   {
    "duration": 40,
    "start_time": "2022-11-10T08:44:35.365Z"
   },
   {
    "duration": 68,
    "start_time": "2022-11-10T08:44:35.793Z"
   },
   {
    "duration": 318,
    "start_time": "2022-11-10T08:44:36.226Z"
   },
   {
    "duration": 6,
    "start_time": "2022-11-10T08:44:37.094Z"
   },
   {
    "duration": 13,
    "start_time": "2022-11-10T08:44:37.305Z"
   },
   {
    "duration": 32,
    "start_time": "2022-11-10T08:44:37.716Z"
   },
   {
    "duration": 14,
    "start_time": "2022-11-10T08:44:38.984Z"
   },
   {
    "duration": 18,
    "start_time": "2022-11-10T08:44:39.593Z"
   },
   {
    "duration": 399,
    "start_time": "2022-11-10T08:44:39.984Z"
   },
   {
    "duration": 80,
    "start_time": "2022-11-10T08:44:40.385Z"
   },
   {
    "duration": 1973,
    "start_time": "2022-11-10T08:44:40.983Z"
   },
   {
    "duration": 4,
    "start_time": "2022-11-10T08:44:47.041Z"
   },
   {
    "duration": 5,
    "start_time": "2022-11-10T08:44:47.826Z"
   },
   {
    "duration": 560,
    "start_time": "2022-11-10T08:44:48.745Z"
   },
   {
    "duration": 4,
    "start_time": "2022-11-10T08:44:50.898Z"
   },
   {
    "duration": 24,
    "start_time": "2022-11-10T08:44:53.292Z"
   },
   {
    "duration": 73,
    "start_time": "2022-11-10T08:44:54.608Z"
   },
   {
    "duration": 3016,
    "start_time": "2022-11-10T08:44:58.864Z"
   },
   {
    "duration": 13,
    "start_time": "2022-11-10T08:46:07.682Z"
   },
   {
    "duration": 18,
    "start_time": "2022-11-10T08:46:08.309Z"
   },
   {
    "duration": 371,
    "start_time": "2022-11-10T08:46:08.714Z"
   },
   {
    "duration": 71,
    "start_time": "2022-11-10T08:46:09.087Z"
   },
   {
    "duration": 1981,
    "start_time": "2022-11-10T08:46:09.987Z"
   },
   {
    "duration": 3,
    "start_time": "2022-11-10T08:46:12.242Z"
   },
   {
    "duration": 4,
    "start_time": "2022-11-10T08:46:14.607Z"
   },
   {
    "duration": 655,
    "start_time": "2022-11-10T08:46:16.880Z"
   },
   {
    "duration": 4,
    "start_time": "2022-11-10T08:46:19.476Z"
   },
   {
    "duration": 27,
    "start_time": "2022-11-10T08:46:20.696Z"
   },
   {
    "duration": 2960,
    "start_time": "2022-11-10T08:46:22.249Z"
   },
   {
    "duration": 66,
    "start_time": "2022-11-10T08:47:24.931Z"
   },
   {
    "duration": 4,
    "start_time": "2022-11-10T08:47:57.065Z"
   },
   {
    "duration": 4,
    "start_time": "2022-11-10T08:48:09.724Z"
   },
   {
    "duration": 1336,
    "start_time": "2022-11-10T08:49:43.184Z"
   },
   {
    "duration": 3,
    "start_time": "2022-11-10T08:49:44.522Z"
   },
   {
    "duration": 232,
    "start_time": "2022-11-10T08:49:44.526Z"
   },
   {
    "duration": 3,
    "start_time": "2022-11-10T08:49:44.760Z"
   },
   {
    "duration": 39,
    "start_time": "2022-11-10T08:49:44.764Z"
   },
   {
    "duration": 3,
    "start_time": "2022-11-10T08:49:44.805Z"
   },
   {
    "duration": 41,
    "start_time": "2022-11-10T08:49:44.810Z"
   },
   {
    "duration": 28,
    "start_time": "2022-11-10T08:49:44.852Z"
   },
   {
    "duration": 162,
    "start_time": "2022-11-10T08:49:44.881Z"
   },
   {
    "duration": 42,
    "start_time": "2022-11-10T08:49:45.045Z"
   },
   {
    "duration": 9,
    "start_time": "2022-11-10T08:49:45.088Z"
   },
   {
    "duration": 54,
    "start_time": "2022-11-10T08:49:45.099Z"
   },
   {
    "duration": 10,
    "start_time": "2022-11-10T08:49:45.155Z"
   },
   {
    "duration": 231,
    "start_time": "2022-11-10T08:49:45.167Z"
   },
   {
    "duration": 8,
    "start_time": "2022-11-10T08:49:45.400Z"
   },
   {
    "duration": 30,
    "start_time": "2022-11-10T08:49:45.409Z"
   },
   {
    "duration": 29,
    "start_time": "2022-11-10T08:49:45.441Z"
   },
   {
    "duration": 79,
    "start_time": "2022-11-10T08:49:45.472Z"
   },
   {
    "duration": 53,
    "start_time": "2022-11-10T08:49:45.552Z"
   },
   {
    "duration": 52,
    "start_time": "2022-11-10T08:49:45.606Z"
   },
   {
    "duration": 74,
    "start_time": "2022-11-10T08:49:45.660Z"
   },
   {
    "duration": 272,
    "start_time": "2022-11-10T08:49:45.735Z"
   },
   {
    "duration": 5,
    "start_time": "2022-11-10T08:49:46.009Z"
   },
   {
    "duration": 24,
    "start_time": "2022-11-10T08:49:46.015Z"
   },
   {
    "duration": 31,
    "start_time": "2022-11-10T08:49:46.041Z"
   },
   {
    "duration": 14,
    "start_time": "2022-11-10T08:49:46.073Z"
   },
   {
    "duration": 48,
    "start_time": "2022-11-10T08:49:46.089Z"
   },
   {
    "duration": 117,
    "start_time": "2022-11-10T08:49:46.140Z"
   },
   {
    "duration": 0,
    "start_time": "2022-11-10T08:49:46.259Z"
   },
   {
    "duration": 0,
    "start_time": "2022-11-10T08:49:46.261Z"
   },
   {
    "duration": 0,
    "start_time": "2022-11-10T08:49:46.262Z"
   },
   {
    "duration": 0,
    "start_time": "2022-11-10T08:49:46.264Z"
   },
   {
    "duration": 0,
    "start_time": "2022-11-10T08:49:46.266Z"
   },
   {
    "duration": 0,
    "start_time": "2022-11-10T08:49:46.267Z"
   },
   {
    "duration": 0,
    "start_time": "2022-11-10T08:49:46.269Z"
   },
   {
    "duration": 0,
    "start_time": "2022-11-10T08:49:46.270Z"
   },
   {
    "duration": 0,
    "start_time": "2022-11-10T08:49:46.271Z"
   },
   {
    "duration": 0,
    "start_time": "2022-11-10T08:49:46.273Z"
   },
   {
    "duration": 1314,
    "start_time": "2022-11-10T08:50:11.473Z"
   },
   {
    "duration": 3,
    "start_time": "2022-11-10T08:50:12.788Z"
   },
   {
    "duration": 244,
    "start_time": "2022-11-10T08:50:12.792Z"
   },
   {
    "duration": 3,
    "start_time": "2022-11-10T08:50:13.038Z"
   },
   {
    "duration": 51,
    "start_time": "2022-11-10T08:50:13.042Z"
   },
   {
    "duration": 3,
    "start_time": "2022-11-10T08:50:13.095Z"
   },
   {
    "duration": 46,
    "start_time": "2022-11-10T08:50:13.100Z"
   },
   {
    "duration": 29,
    "start_time": "2022-11-10T08:50:13.147Z"
   },
   {
    "duration": 158,
    "start_time": "2022-11-10T08:50:13.178Z"
   },
   {
    "duration": 46,
    "start_time": "2022-11-10T08:50:13.339Z"
   },
   {
    "duration": 9,
    "start_time": "2022-11-10T08:50:13.387Z"
   },
   {
    "duration": 39,
    "start_time": "2022-11-10T08:50:13.397Z"
   },
   {
    "duration": 2,
    "start_time": "2022-11-10T08:50:13.438Z"
   },
   {
    "duration": 244,
    "start_time": "2022-11-10T08:50:13.442Z"
   },
   {
    "duration": 7,
    "start_time": "2022-11-10T08:50:13.687Z"
   },
   {
    "duration": 24,
    "start_time": "2022-11-10T08:50:13.696Z"
   },
   {
    "duration": 54,
    "start_time": "2022-11-10T08:50:13.722Z"
   },
   {
    "duration": 64,
    "start_time": "2022-11-10T08:50:13.778Z"
   },
   {
    "duration": 57,
    "start_time": "2022-11-10T08:50:13.844Z"
   },
   {
    "duration": 50,
    "start_time": "2022-11-10T08:50:13.903Z"
   },
   {
    "duration": 66,
    "start_time": "2022-11-10T08:50:13.954Z"
   },
   {
    "duration": 276,
    "start_time": "2022-11-10T08:50:14.022Z"
   },
   {
    "duration": 7,
    "start_time": "2022-11-10T08:50:14.300Z"
   },
   {
    "duration": 25,
    "start_time": "2022-11-10T08:50:14.308Z"
   },
   {
    "duration": 37,
    "start_time": "2022-11-10T08:50:14.335Z"
   },
   {
    "duration": 15,
    "start_time": "2022-11-10T08:50:14.374Z"
   },
   {
    "duration": 54,
    "start_time": "2022-11-10T08:50:14.390Z"
   },
   {
    "duration": 115,
    "start_time": "2022-11-10T08:50:14.447Z"
   },
   {
    "duration": 0,
    "start_time": "2022-11-10T08:50:14.563Z"
   },
   {
    "duration": 0,
    "start_time": "2022-11-10T08:50:14.564Z"
   },
   {
    "duration": 0,
    "start_time": "2022-11-10T08:50:14.565Z"
   },
   {
    "duration": 0,
    "start_time": "2022-11-10T08:50:14.566Z"
   },
   {
    "duration": 0,
    "start_time": "2022-11-10T08:50:14.567Z"
   },
   {
    "duration": 0,
    "start_time": "2022-11-10T08:50:14.568Z"
   },
   {
    "duration": 0,
    "start_time": "2022-11-10T08:50:14.570Z"
   },
   {
    "duration": 0,
    "start_time": "2022-11-10T08:50:14.570Z"
   },
   {
    "duration": 0,
    "start_time": "2022-11-10T08:50:14.571Z"
   },
   {
    "duration": 0,
    "start_time": "2022-11-10T08:50:14.572Z"
   },
   {
    "duration": 1337,
    "start_time": "2022-11-10T08:50:57.798Z"
   },
   {
    "duration": 2,
    "start_time": "2022-11-10T08:50:59.137Z"
   },
   {
    "duration": 245,
    "start_time": "2022-11-10T08:50:59.141Z"
   },
   {
    "duration": 3,
    "start_time": "2022-11-10T08:50:59.388Z"
   },
   {
    "duration": 44,
    "start_time": "2022-11-10T08:50:59.394Z"
   },
   {
    "duration": 4,
    "start_time": "2022-11-10T08:50:59.441Z"
   },
   {
    "duration": 28,
    "start_time": "2022-11-10T08:50:59.447Z"
   },
   {
    "duration": 56,
    "start_time": "2022-11-10T08:50:59.477Z"
   },
   {
    "duration": 165,
    "start_time": "2022-11-10T08:50:59.534Z"
   },
   {
    "duration": 51,
    "start_time": "2022-11-10T08:50:59.700Z"
   },
   {
    "duration": 9,
    "start_time": "2022-11-10T08:50:59.753Z"
   },
   {
    "duration": 29,
    "start_time": "2022-11-10T08:50:59.764Z"
   },
   {
    "duration": 8,
    "start_time": "2022-11-10T08:50:59.794Z"
   },
   {
    "duration": 248,
    "start_time": "2022-11-10T08:50:59.804Z"
   },
   {
    "duration": 8,
    "start_time": "2022-11-10T08:51:00.053Z"
   },
   {
    "duration": 29,
    "start_time": "2022-11-10T08:51:00.062Z"
   },
   {
    "duration": 52,
    "start_time": "2022-11-10T08:51:00.093Z"
   },
   {
    "duration": 66,
    "start_time": "2022-11-10T08:51:00.147Z"
   },
   {
    "duration": 69,
    "start_time": "2022-11-10T08:51:00.214Z"
   },
   {
    "duration": 36,
    "start_time": "2022-11-10T08:51:00.285Z"
   },
   {
    "duration": 67,
    "start_time": "2022-11-10T08:51:00.332Z"
   },
   {
    "duration": 284,
    "start_time": "2022-11-10T08:51:00.400Z"
   },
   {
    "duration": 8,
    "start_time": "2022-11-10T08:51:00.685Z"
   },
   {
    "duration": 71,
    "start_time": "2022-11-10T08:51:00.695Z"
   },
   {
    "duration": 51,
    "start_time": "2022-11-10T08:51:00.769Z"
   },
   {
    "duration": 54,
    "start_time": "2022-11-10T08:51:00.822Z"
   },
   {
    "duration": 68,
    "start_time": "2022-11-10T08:51:00.878Z"
   },
   {
    "duration": 446,
    "start_time": "2022-11-10T08:51:00.948Z"
   },
   {
    "duration": 1976,
    "start_time": "2022-11-10T08:51:01.396Z"
   },
   {
    "duration": 3,
    "start_time": "2022-11-10T08:51:03.374Z"
   },
   {
    "duration": 19,
    "start_time": "2022-11-10T08:51:03.379Z"
   },
   {
    "duration": 517,
    "start_time": "2022-11-10T08:51:03.400Z"
   },
   {
    "duration": 4,
    "start_time": "2022-11-10T08:51:03.918Z"
   },
   {
    "duration": 115,
    "start_time": "2022-11-10T08:51:03.923Z"
   },
   {
    "duration": 0,
    "start_time": "2022-11-10T08:51:04.040Z"
   },
   {
    "duration": 0,
    "start_time": "2022-11-10T08:51:04.041Z"
   },
   {
    "duration": 0,
    "start_time": "2022-11-10T08:51:04.042Z"
   },
   {
    "duration": 0,
    "start_time": "2022-11-10T08:51:04.043Z"
   },
   {
    "duration": 16,
    "start_time": "2022-11-10T08:51:25.200Z"
   },
   {
    "duration": 3040,
    "start_time": "2022-11-10T08:51:26.212Z"
   },
   {
    "duration": 12,
    "start_time": "2022-11-10T08:53:07.413Z"
   },
   {
    "duration": 5,
    "start_time": "2022-11-10T08:53:29.642Z"
   },
   {
    "duration": 4,
    "start_time": "2022-11-10T08:53:37.598Z"
   },
   {
    "duration": 4,
    "start_time": "2022-11-10T08:53:43.700Z"
   },
   {
    "duration": 5,
    "start_time": "2022-11-10T08:53:51.628Z"
   },
   {
    "duration": 5,
    "start_time": "2022-11-10T08:54:01.434Z"
   },
   {
    "duration": 4,
    "start_time": "2022-11-10T08:54:12.559Z"
   },
   {
    "duration": 537,
    "start_time": "2022-11-10T08:56:43.712Z"
   },
   {
    "duration": 1520,
    "start_time": "2022-11-10T08:57:37.734Z"
   },
   {
    "duration": 3,
    "start_time": "2022-11-10T08:57:39.256Z"
   },
   {
    "duration": 223,
    "start_time": "2022-11-10T08:57:39.261Z"
   },
   {
    "duration": 3,
    "start_time": "2022-11-10T08:57:39.485Z"
   },
   {
    "duration": 44,
    "start_time": "2022-11-10T08:57:39.489Z"
   },
   {
    "duration": 3,
    "start_time": "2022-11-10T08:57:39.535Z"
   },
   {
    "duration": 29,
    "start_time": "2022-11-10T08:57:39.539Z"
   },
   {
    "duration": 28,
    "start_time": "2022-11-10T08:57:39.570Z"
   },
   {
    "duration": 172,
    "start_time": "2022-11-10T08:57:39.600Z"
   },
   {
    "duration": 60,
    "start_time": "2022-11-10T08:57:39.774Z"
   },
   {
    "duration": 9,
    "start_time": "2022-11-10T08:57:39.836Z"
   },
   {
    "duration": 16,
    "start_time": "2022-11-10T08:57:39.846Z"
   },
   {
    "duration": 3,
    "start_time": "2022-11-10T08:57:39.864Z"
   },
   {
    "duration": 255,
    "start_time": "2022-11-10T08:57:39.870Z"
   },
   {
    "duration": 9,
    "start_time": "2022-11-10T08:57:40.127Z"
   },
   {
    "duration": 22,
    "start_time": "2022-11-10T08:57:40.137Z"
   },
   {
    "duration": 31,
    "start_time": "2022-11-10T08:57:40.161Z"
   },
   {
    "duration": 97,
    "start_time": "2022-11-10T08:57:40.194Z"
   },
   {
    "duration": 64,
    "start_time": "2022-11-10T08:57:40.293Z"
   },
   {
    "duration": 36,
    "start_time": "2022-11-10T08:57:40.359Z"
   },
   {
    "duration": 87,
    "start_time": "2022-11-10T08:57:40.397Z"
   },
   {
    "duration": 314,
    "start_time": "2022-11-10T08:57:40.486Z"
   },
   {
    "duration": 6,
    "start_time": "2022-11-10T08:57:40.802Z"
   },
   {
    "duration": 26,
    "start_time": "2022-11-10T08:57:40.810Z"
   },
   {
    "duration": 34,
    "start_time": "2022-11-10T08:57:40.838Z"
   },
   {
    "duration": 15,
    "start_time": "2022-11-10T08:57:40.874Z"
   },
   {
    "duration": 4,
    "start_time": "2022-11-10T08:57:40.891Z"
   },
   {
    "duration": 36,
    "start_time": "2022-11-10T08:57:40.897Z"
   },
   {
    "duration": 23,
    "start_time": "2022-11-10T08:57:40.935Z"
   },
   {
    "duration": 436,
    "start_time": "2022-11-10T08:57:40.960Z"
   },
   {
    "duration": 2019,
    "start_time": "2022-11-10T08:57:41.398Z"
   },
   {
    "duration": 4,
    "start_time": "2022-11-10T08:57:43.418Z"
   },
   {
    "duration": 12,
    "start_time": "2022-11-10T08:57:43.424Z"
   },
   {
    "duration": 532,
    "start_time": "2022-11-10T08:57:43.437Z"
   },
   {
    "duration": 3,
    "start_time": "2022-11-10T08:57:43.971Z"
   },
   {
    "duration": 35,
    "start_time": "2022-11-10T08:57:43.976Z"
   },
   {
    "duration": 3155,
    "start_time": "2022-11-10T08:57:44.013Z"
   },
   {
    "duration": 47195,
    "start_time": "2022-11-10T08:57:47.170Z"
   },
   {
    "duration": 61,
    "start_time": "2022-11-10T08:58:34.367Z"
   },
   {
    "duration": 39034,
    "start_time": "2022-11-10T08:58:34.430Z"
   },
   {
    "duration": 1552,
    "start_time": "2022-11-10T09:03:00.520Z"
   },
   {
    "duration": 3,
    "start_time": "2022-11-10T09:03:02.075Z"
   },
   {
    "duration": 383,
    "start_time": "2022-11-10T09:03:02.080Z"
   },
   {
    "duration": 4,
    "start_time": "2022-11-10T09:03:02.466Z"
   },
   {
    "duration": 71,
    "start_time": "2022-11-10T09:03:02.472Z"
   },
   {
    "duration": 6,
    "start_time": "2022-11-10T09:03:02.545Z"
   },
   {
    "duration": 50,
    "start_time": "2022-11-10T09:03:02.553Z"
   },
   {
    "duration": 62,
    "start_time": "2022-11-10T09:03:02.606Z"
   },
   {
    "duration": 222,
    "start_time": "2022-11-10T09:03:02.671Z"
   },
   {
    "duration": 65,
    "start_time": "2022-11-10T09:03:02.896Z"
   },
   {
    "duration": 12,
    "start_time": "2022-11-10T09:03:02.963Z"
   },
   {
    "duration": 26,
    "start_time": "2022-11-10T09:03:02.977Z"
   },
   {
    "duration": 3,
    "start_time": "2022-11-10T09:03:03.005Z"
   },
   {
    "duration": 379,
    "start_time": "2022-11-10T09:03:03.010Z"
   },
   {
    "duration": 13,
    "start_time": "2022-11-10T09:03:03.391Z"
   },
   {
    "duration": 46,
    "start_time": "2022-11-10T09:03:03.406Z"
   },
   {
    "duration": 32,
    "start_time": "2022-11-10T09:03:03.454Z"
   },
   {
    "duration": 96,
    "start_time": "2022-11-10T09:03:03.487Z"
   },
   {
    "duration": 66,
    "start_time": "2022-11-10T09:03:03.586Z"
   },
   {
    "duration": 40,
    "start_time": "2022-11-10T09:03:03.654Z"
   },
   {
    "duration": 91,
    "start_time": "2022-11-10T09:03:03.695Z"
   },
   {
    "duration": 282,
    "start_time": "2022-11-10T09:03:03.789Z"
   },
   {
    "duration": 6,
    "start_time": "2022-11-10T09:03:04.074Z"
   },
   {
    "duration": 28,
    "start_time": "2022-11-10T09:03:04.081Z"
   },
   {
    "duration": 47,
    "start_time": "2022-11-10T09:03:04.111Z"
   },
   {
    "duration": 15,
    "start_time": "2022-11-10T09:03:04.162Z"
   },
   {
    "duration": 5,
    "start_time": "2022-11-10T09:03:04.179Z"
   },
   {
    "duration": 9,
    "start_time": "2022-11-10T09:03:04.187Z"
   },
   {
    "duration": 52,
    "start_time": "2022-11-10T09:03:04.198Z"
   },
   {
    "duration": 475,
    "start_time": "2022-11-10T09:03:04.255Z"
   },
   {
    "duration": 2321,
    "start_time": "2022-11-10T09:03:04.732Z"
   },
   {
    "duration": 6,
    "start_time": "2022-11-10T09:03:07.055Z"
   },
   {
    "duration": 11,
    "start_time": "2022-11-10T09:03:07.062Z"
   },
   {
    "duration": 567,
    "start_time": "2022-11-10T09:03:07.075Z"
   },
   {
    "duration": 5,
    "start_time": "2022-11-10T09:03:07.644Z"
   },
   {
    "duration": 32,
    "start_time": "2022-11-10T09:03:07.651Z"
   },
   {
    "duration": 3783,
    "start_time": "2022-11-10T09:03:07.685Z"
   },
   {
    "duration": 1803,
    "start_time": "2022-11-10T09:04:13.219Z"
   },
   {
    "duration": 3,
    "start_time": "2022-11-10T09:04:15.024Z"
   },
   {
    "duration": 336,
    "start_time": "2022-11-10T09:04:15.029Z"
   },
   {
    "duration": 3,
    "start_time": "2022-11-10T09:04:15.368Z"
   },
   {
    "duration": 63,
    "start_time": "2022-11-10T09:04:15.373Z"
   },
   {
    "duration": 4,
    "start_time": "2022-11-10T09:04:15.440Z"
   },
   {
    "duration": 38,
    "start_time": "2022-11-10T09:04:15.445Z"
   },
   {
    "duration": 73,
    "start_time": "2022-11-10T09:04:15.485Z"
   },
   {
    "duration": 214,
    "start_time": "2022-11-10T09:04:15.560Z"
   },
   {
    "duration": 84,
    "start_time": "2022-11-10T09:04:15.776Z"
   },
   {
    "duration": 11,
    "start_time": "2022-11-10T09:04:15.862Z"
   },
   {
    "duration": 25,
    "start_time": "2022-11-10T09:04:15.877Z"
   },
   {
    "duration": 3,
    "start_time": "2022-11-10T09:04:16.088Z"
   },
   {
    "duration": 408,
    "start_time": "2022-11-10T09:04:17.039Z"
   },
   {
    "duration": 13,
    "start_time": "2022-11-10T09:04:17.986Z"
   },
   {
    "duration": 28,
    "start_time": "2022-11-10T09:04:18.907Z"
   },
   {
    "duration": 36,
    "start_time": "2022-11-10T09:04:19.868Z"
   },
   {
    "duration": 101,
    "start_time": "2022-11-10T09:04:21.533Z"
   },
   {
    "duration": 85,
    "start_time": "2022-11-10T09:04:21.927Z"
   },
   {
    "duration": 62,
    "start_time": "2022-11-10T09:04:22.825Z"
   },
   {
    "duration": 101,
    "start_time": "2022-11-10T09:04:23.898Z"
   },
   {
    "duration": 385,
    "start_time": "2022-11-10T09:04:24.748Z"
   },
   {
    "duration": 8,
    "start_time": "2022-11-10T09:04:27.406Z"
   },
   {
    "duration": 15,
    "start_time": "2022-11-10T09:04:27.696Z"
   },
   {
    "duration": 48,
    "start_time": "2022-11-10T09:04:29.120Z"
   },
   {
    "duration": 17,
    "start_time": "2022-11-10T09:04:32.031Z"
   },
   {
    "duration": 5,
    "start_time": "2022-11-10T09:04:34.755Z"
   },
   {
    "duration": 6,
    "start_time": "2022-11-10T09:04:36.122Z"
   },
   {
    "duration": 28,
    "start_time": "2022-11-10T09:04:41.158Z"
   },
   {
    "duration": 512,
    "start_time": "2022-11-10T09:04:41.979Z"
   },
   {
    "duration": 2455,
    "start_time": "2022-11-10T09:04:43.634Z"
   },
   {
    "duration": 6,
    "start_time": "2022-11-10T09:04:46.206Z"
   },
   {
    "duration": 6,
    "start_time": "2022-11-10T09:04:47.654Z"
   },
   {
    "duration": 893,
    "start_time": "2022-11-10T09:04:49.574Z"
   },
   {
    "duration": 5,
    "start_time": "2022-11-10T09:05:07.571Z"
   },
   {
    "duration": 6,
    "start_time": "2022-11-10T09:05:14.634Z"
   },
   {
    "duration": 6,
    "start_time": "2022-11-10T09:05:52.201Z"
   },
   {
    "duration": 5,
    "start_time": "2022-11-10T09:05:54.829Z"
   },
   {
    "duration": 5,
    "start_time": "2022-11-10T09:06:03.318Z"
   },
   {
    "duration": 3,
    "start_time": "2022-11-10T09:06:03.515Z"
   },
   {
    "duration": 210,
    "start_time": "2022-11-10T09:06:03.871Z"
   },
   {
    "duration": 5,
    "start_time": "2022-11-10T09:06:04.229Z"
   },
   {
    "duration": 42,
    "start_time": "2022-11-10T09:06:04.598Z"
   },
   {
    "duration": 4,
    "start_time": "2022-11-10T09:06:05.346Z"
   },
   {
    "duration": 24,
    "start_time": "2022-11-10T09:06:05.710Z"
   },
   {
    "duration": 36,
    "start_time": "2022-11-10T09:06:06.086Z"
   },
   {
    "duration": 208,
    "start_time": "2022-11-10T09:06:06.442Z"
   },
   {
    "duration": 49,
    "start_time": "2022-11-10T09:06:06.818Z"
   },
   {
    "duration": 11,
    "start_time": "2022-11-10T09:06:07.187Z"
   },
   {
    "duration": 16,
    "start_time": "2022-11-10T09:06:08.177Z"
   },
   {
    "duration": 3,
    "start_time": "2022-11-10T09:06:08.777Z"
   },
   {
    "duration": 262,
    "start_time": "2022-11-10T09:06:09.900Z"
   },
   {
    "duration": 10,
    "start_time": "2022-11-10T09:06:10.363Z"
   },
   {
    "duration": 26,
    "start_time": "2022-11-10T09:06:11.057Z"
   },
   {
    "duration": 19,
    "start_time": "2022-11-10T09:06:11.746Z"
   },
   {
    "duration": 96,
    "start_time": "2022-11-10T09:06:12.506Z"
   },
   {
    "duration": 93,
    "start_time": "2022-11-10T09:06:13.101Z"
   },
   {
    "duration": 67,
    "start_time": "2022-11-10T09:06:13.430Z"
   },
   {
    "duration": 78,
    "start_time": "2022-11-10T09:06:14.307Z"
   },
   {
    "duration": 311,
    "start_time": "2022-11-10T09:06:15.296Z"
   },
   {
    "duration": 8,
    "start_time": "2022-11-10T09:06:16.904Z"
   },
   {
    "duration": 15,
    "start_time": "2022-11-10T09:06:17.302Z"
   },
   {
    "duration": 37,
    "start_time": "2022-11-10T09:06:19.795Z"
   },
   {
    "duration": 16,
    "start_time": "2022-11-10T09:06:22.532Z"
   },
   {
    "duration": 5,
    "start_time": "2022-11-10T09:06:23.089Z"
   },
   {
    "duration": 6,
    "start_time": "2022-11-10T09:06:23.746Z"
   },
   {
    "duration": 23,
    "start_time": "2022-11-10T09:06:30.767Z"
   },
   {
    "duration": 379,
    "start_time": "2022-11-10T09:06:33.470Z"
   },
   {
    "duration": 5,
    "start_time": "2022-11-10T09:06:37.013Z"
   },
   {
    "duration": 6,
    "start_time": "2022-11-10T09:06:38.982Z"
   },
   {
    "duration": 12,
    "start_time": "2022-11-10T09:07:10.355Z"
   },
   {
    "duration": 5,
    "start_time": "2022-11-10T09:07:10.930Z"
   },
   {
    "duration": 4,
    "start_time": "2022-11-10T09:07:11.630Z"
   },
   {
    "duration": 22,
    "start_time": "2022-11-10T09:07:17.539Z"
   },
   {
    "duration": 5,
    "start_time": "2022-11-10T09:07:19.376Z"
   },
   {
    "duration": 5,
    "start_time": "2022-11-10T09:07:19.959Z"
   },
   {
    "duration": 365,
    "start_time": "2022-11-10T09:07:25.000Z"
   },
   {
    "duration": 5,
    "start_time": "2022-11-10T09:07:27.631Z"
   },
   {
    "duration": 5,
    "start_time": "2022-11-10T09:07:28.463Z"
   },
   {
    "duration": 13,
    "start_time": "2022-11-10T09:08:43.762Z"
   },
   {
    "duration": 5,
    "start_time": "2022-11-10T09:08:44.104Z"
   },
   {
    "duration": 4,
    "start_time": "2022-11-10T09:08:44.771Z"
   },
   {
    "duration": 22,
    "start_time": "2022-11-10T09:08:46.666Z"
   },
   {
    "duration": 4,
    "start_time": "2022-11-10T09:08:48.524Z"
   },
   {
    "duration": 6,
    "start_time": "2022-11-10T09:08:50.963Z"
   },
   {
    "duration": 422,
    "start_time": "2022-11-10T09:08:53.400Z"
   },
   {
    "duration": 5,
    "start_time": "2022-11-10T09:08:56.526Z"
   },
   {
    "duration": 5,
    "start_time": "2022-11-10T09:08:57.196Z"
   },
   {
    "duration": 12,
    "start_time": "2022-11-10T09:09:13.467Z"
   },
   {
    "duration": 5,
    "start_time": "2022-11-10T09:09:14.156Z"
   },
   {
    "duration": 5,
    "start_time": "2022-11-10T09:09:14.756Z"
   },
   {
    "duration": 6,
    "start_time": "2022-11-10T09:09:49.444Z"
   },
   {
    "duration": 5,
    "start_time": "2022-11-10T09:09:55.206Z"
   },
   {
    "duration": 7,
    "start_time": "2022-11-10T09:10:01.466Z"
   },
   {
    "duration": 199,
    "start_time": "2022-11-10T09:10:25.139Z"
   },
   {
    "duration": 7,
    "start_time": "2022-11-10T09:10:41.710Z"
   },
   {
    "duration": 7,
    "start_time": "2022-11-10T09:10:42.293Z"
   },
   {
    "duration": 26,
    "start_time": "2022-11-10T11:15:12.891Z"
   },
   {
    "duration": 4,
    "start_time": "2022-11-10T11:15:17.363Z"
   },
   {
    "duration": 3,
    "start_time": "2022-11-10T11:15:17.537Z"
   },
   {
    "duration": 202,
    "start_time": "2022-11-10T11:15:17.896Z"
   },
   {
    "duration": 4,
    "start_time": "2022-11-10T11:15:18.264Z"
   },
   {
    "duration": 34,
    "start_time": "2022-11-10T11:15:18.641Z"
   },
   {
    "duration": 3,
    "start_time": "2022-11-10T11:15:19.355Z"
   },
   {
    "duration": 21,
    "start_time": "2022-11-10T11:15:19.717Z"
   },
   {
    "duration": 31,
    "start_time": "2022-11-10T11:15:20.093Z"
   },
   {
    "duration": 150,
    "start_time": "2022-11-10T11:15:20.871Z"
   },
   {
    "duration": 59,
    "start_time": "2022-11-10T11:15:21.475Z"
   },
   {
    "duration": 10,
    "start_time": "2022-11-10T11:15:22.349Z"
   },
   {
    "duration": 14,
    "start_time": "2022-11-10T11:15:23.087Z"
   },
   {
    "duration": 3,
    "start_time": "2022-11-10T11:15:23.929Z"
   },
   {
    "duration": 226,
    "start_time": "2022-11-10T11:15:24.941Z"
   },
   {
    "duration": 17,
    "start_time": "2022-11-10T11:15:25.969Z"
   },
   {
    "duration": 16,
    "start_time": "2022-11-10T11:15:26.959Z"
   },
   {
    "duration": 17,
    "start_time": "2022-11-10T11:15:28.146Z"
   },
   {
    "duration": 67,
    "start_time": "2022-11-10T11:15:28.855Z"
   },
   {
    "duration": 56,
    "start_time": "2022-11-10T11:15:29.365Z"
   },
   {
    "duration": 60,
    "start_time": "2022-11-10T11:15:42.899Z"
   },
   {
    "duration": 57,
    "start_time": "2022-11-10T11:16:05.547Z"
   },
   {
    "duration": 77,
    "start_time": "2022-11-10T11:16:34.650Z"
   },
   {
    "duration": 106,
    "start_time": "2022-11-10T11:20:03.886Z"
   },
   {
    "duration": 1375,
    "start_time": "2022-11-10T11:30:20.351Z"
   },
   {
    "duration": 3,
    "start_time": "2022-11-10T11:30:21.729Z"
   },
   {
    "duration": 257,
    "start_time": "2022-11-10T11:30:21.734Z"
   },
   {
    "duration": 4,
    "start_time": "2022-11-10T11:30:21.993Z"
   },
   {
    "duration": 47,
    "start_time": "2022-11-10T11:30:21.998Z"
   },
   {
    "duration": 4,
    "start_time": "2022-11-10T11:30:22.046Z"
   },
   {
    "duration": 28,
    "start_time": "2022-11-10T11:30:22.051Z"
   },
   {
    "duration": 53,
    "start_time": "2022-11-10T11:30:22.080Z"
   },
   {
    "duration": 155,
    "start_time": "2022-11-10T11:30:22.134Z"
   },
   {
    "duration": 60,
    "start_time": "2022-11-10T11:30:22.291Z"
   },
   {
    "duration": 10,
    "start_time": "2022-11-10T11:30:22.352Z"
   },
   {
    "duration": 15,
    "start_time": "2022-11-10T11:30:22.364Z"
   },
   {
    "duration": 3,
    "start_time": "2022-11-10T11:30:22.380Z"
   },
   {
    "duration": 275,
    "start_time": "2022-11-10T11:30:22.386Z"
   },
   {
    "duration": 8,
    "start_time": "2022-11-10T11:30:22.663Z"
   },
   {
    "duration": 20,
    "start_time": "2022-11-10T11:30:22.673Z"
   },
   {
    "duration": 55,
    "start_time": "2022-11-10T11:30:22.694Z"
   },
   {
    "duration": 68,
    "start_time": "2022-11-10T11:30:22.751Z"
   },
   {
    "duration": 80,
    "start_time": "2022-11-10T11:30:22.820Z"
   },
   {
    "duration": 85,
    "start_time": "2022-11-10T11:30:22.903Z"
   },
   {
    "duration": 285,
    "start_time": "2022-11-10T11:30:22.991Z"
   },
   {
    "duration": 7,
    "start_time": "2022-11-10T11:30:23.278Z"
   },
   {
    "duration": 12,
    "start_time": "2022-11-10T11:30:23.287Z"
   },
   {
    "duration": 52,
    "start_time": "2022-11-10T11:30:23.301Z"
   },
   {
    "duration": 15,
    "start_time": "2022-11-10T11:30:23.355Z"
   },
   {
    "duration": 5,
    "start_time": "2022-11-10T11:30:23.371Z"
   },
   {
    "duration": 9,
    "start_time": "2022-11-10T11:30:23.378Z"
   },
   {
    "duration": 7,
    "start_time": "2022-11-10T11:30:23.388Z"
   },
   {
    "duration": 5,
    "start_time": "2022-11-10T11:30:23.397Z"
   },
   {
    "duration": 24,
    "start_time": "2022-11-10T11:30:23.433Z"
   },
   {
    "duration": 151,
    "start_time": "2022-11-10T11:30:23.459Z"
   },
   {
    "duration": 0,
    "start_time": "2022-11-10T11:30:23.611Z"
   },
   {
    "duration": 0,
    "start_time": "2022-11-10T11:30:23.612Z"
   },
   {
    "duration": 0,
    "start_time": "2022-11-10T11:30:23.613Z"
   },
   {
    "duration": 0,
    "start_time": "2022-11-10T11:30:23.614Z"
   },
   {
    "duration": 0,
    "start_time": "2022-11-10T11:30:23.615Z"
   },
   {
    "duration": 0,
    "start_time": "2022-11-10T11:30:23.616Z"
   },
   {
    "duration": 0,
    "start_time": "2022-11-10T11:30:23.617Z"
   },
   {
    "duration": 0,
    "start_time": "2022-11-10T11:30:23.618Z"
   },
   {
    "duration": 0,
    "start_time": "2022-11-10T11:30:23.620Z"
   },
   {
    "duration": 0,
    "start_time": "2022-11-10T11:30:23.632Z"
   },
   {
    "duration": 35,
    "start_time": "2022-11-10T11:30:55.826Z"
   },
   {
    "duration": 48,
    "start_time": "2022-11-10T11:31:17.903Z"
   },
   {
    "duration": 32,
    "start_time": "2022-11-10T11:31:41.960Z"
   },
   {
    "duration": 21,
    "start_time": "2022-11-10T11:32:02.002Z"
   },
   {
    "duration": 51,
    "start_time": "2022-11-10T11:41:16.067Z"
   },
   {
    "duration": 14,
    "start_time": "2022-11-10T11:41:32.569Z"
   },
   {
    "duration": 6,
    "start_time": "2022-11-10T11:41:49.298Z"
   },
   {
    "duration": 15,
    "start_time": "2022-11-10T11:42:00.865Z"
   },
   {
    "duration": 9,
    "start_time": "2022-11-10T11:42:09.590Z"
   },
   {
    "duration": 16,
    "start_time": "2022-11-10T11:42:21.632Z"
   },
   {
    "duration": 17,
    "start_time": "2022-11-10T11:42:55.434Z"
   },
   {
    "duration": 17,
    "start_time": "2022-11-10T11:44:36.856Z"
   },
   {
    "duration": 14,
    "start_time": "2022-11-10T11:45:29.865Z"
   },
   {
    "duration": 13,
    "start_time": "2022-11-10T11:45:49.934Z"
   },
   {
    "duration": 20,
    "start_time": "2022-11-10T11:46:02.801Z"
   },
   {
    "duration": 25,
    "start_time": "2022-11-10T11:51:24.653Z"
   },
   {
    "duration": 23,
    "start_time": "2022-11-10T11:51:33.301Z"
   },
   {
    "duration": 6,
    "start_time": "2022-11-10T11:51:57.628Z"
   },
   {
    "duration": 3,
    "start_time": "2022-11-10T11:52:28.900Z"
   },
   {
    "duration": 4,
    "start_time": "2022-11-10T11:52:48.764Z"
   },
   {
    "duration": 7,
    "start_time": "2022-11-10T11:53:00.656Z"
   },
   {
    "duration": 14,
    "start_time": "2022-11-10T11:55:23.088Z"
   },
   {
    "duration": 15,
    "start_time": "2022-11-10T11:55:47.668Z"
   },
   {
    "duration": 10,
    "start_time": "2022-11-10T11:56:14.656Z"
   },
   {
    "duration": 20,
    "start_time": "2022-11-10T12:15:16.096Z"
   },
   {
    "duration": 24,
    "start_time": "2022-11-10T12:15:31.437Z"
   },
   {
    "duration": 1524,
    "start_time": "2022-11-10T12:15:40.885Z"
   },
   {
    "duration": 15,
    "start_time": "2022-11-10T12:18:12.715Z"
   },
   {
    "duration": 8,
    "start_time": "2022-11-10T12:18:27.372Z"
   },
   {
    "duration": 10,
    "start_time": "2022-11-10T12:18:40.390Z"
   },
   {
    "duration": 10,
    "start_time": "2022-11-10T12:20:15.401Z"
   },
   {
    "duration": 20,
    "start_time": "2022-11-10T12:20:34.597Z"
   },
   {
    "duration": 20,
    "start_time": "2022-11-10T12:20:43.403Z"
   },
   {
    "duration": 143,
    "start_time": "2022-11-10T12:20:48.857Z"
   },
   {
    "duration": 25,
    "start_time": "2022-11-10T12:21:02.289Z"
   },
   {
    "duration": 2077,
    "start_time": "2022-11-10T12:21:25.410Z"
   },
   {
    "duration": 58,
    "start_time": "2022-11-10T12:22:21.206Z"
   },
   {
    "duration": 1370,
    "start_time": "2022-11-10T12:22:31.942Z"
   },
   {
    "duration": 3,
    "start_time": "2022-11-10T12:22:33.314Z"
   },
   {
    "duration": 234,
    "start_time": "2022-11-10T12:22:33.319Z"
   },
   {
    "duration": 3,
    "start_time": "2022-11-10T12:22:33.555Z"
   },
   {
    "duration": 40,
    "start_time": "2022-11-10T12:22:33.559Z"
   },
   {
    "duration": 3,
    "start_time": "2022-11-10T12:22:33.601Z"
   },
   {
    "duration": 58,
    "start_time": "2022-11-10T12:22:33.606Z"
   },
   {
    "duration": 37,
    "start_time": "2022-11-10T12:22:33.666Z"
   },
   {
    "duration": 179,
    "start_time": "2022-11-10T12:22:33.705Z"
   },
   {
    "duration": 53,
    "start_time": "2022-11-10T12:22:33.887Z"
   },
   {
    "duration": 8,
    "start_time": "2022-11-10T12:22:33.941Z"
   },
   {
    "duration": 14,
    "start_time": "2022-11-10T12:22:33.951Z"
   },
   {
    "duration": 3,
    "start_time": "2022-11-10T12:22:33.966Z"
   },
   {
    "duration": 263,
    "start_time": "2022-11-10T12:22:33.970Z"
   },
   {
    "duration": 8,
    "start_time": "2022-11-10T12:22:34.234Z"
   },
   {
    "duration": 17,
    "start_time": "2022-11-10T12:22:34.244Z"
   },
   {
    "duration": 28,
    "start_time": "2022-11-10T12:22:34.263Z"
   },
   {
    "duration": 91,
    "start_time": "2022-11-10T12:22:34.293Z"
   },
   {
    "duration": 59,
    "start_time": "2022-11-10T12:22:34.386Z"
   },
   {
    "duration": 66,
    "start_time": "2022-11-10T12:22:34.446Z"
   },
   {
    "duration": 291,
    "start_time": "2022-11-10T12:22:34.513Z"
   },
   {
    "duration": 5,
    "start_time": "2022-11-10T12:22:34.806Z"
   },
   {
    "duration": 25,
    "start_time": "2022-11-10T12:22:34.813Z"
   },
   {
    "duration": 31,
    "start_time": "2022-11-10T12:22:34.840Z"
   },
   {
    "duration": 15,
    "start_time": "2022-11-10T12:22:34.872Z"
   },
   {
    "duration": 45,
    "start_time": "2022-11-10T12:22:34.889Z"
   },
   {
    "duration": 154,
    "start_time": "2022-11-10T12:22:34.935Z"
   },
   {
    "duration": 2253,
    "start_time": "2022-11-10T12:22:35.092Z"
   },
   {
    "duration": 5,
    "start_time": "2022-11-10T12:22:37.347Z"
   },
   {
    "duration": 8,
    "start_time": "2022-11-10T12:22:37.354Z"
   },
   {
    "duration": 548,
    "start_time": "2022-11-10T12:22:37.364Z"
   },
   {
    "duration": 4,
    "start_time": "2022-11-10T12:22:37.913Z"
   },
   {
    "duration": 17,
    "start_time": "2022-11-10T12:22:37.918Z"
   },
   {
    "duration": 1254,
    "start_time": "2022-11-10T12:22:37.937Z"
   },
   {
    "duration": 197,
    "start_time": "2022-11-10T12:22:39.193Z"
   },
   {
    "duration": 17310,
    "start_time": "2022-11-10T12:22:39.391Z"
   },
   {
    "duration": 57,
    "start_time": "2022-11-10T12:22:56.703Z"
   },
   {
    "duration": 1251,
    "start_time": "2022-11-10T12:23:13.466Z"
   },
   {
    "duration": 1239,
    "start_time": "2022-11-10T12:23:44.341Z"
   },
   {
    "duration": 1241,
    "start_time": "2022-11-10T12:24:13.801Z"
   },
   {
    "duration": 182,
    "start_time": "2022-11-10T12:25:55.407Z"
   },
   {
    "duration": 152,
    "start_time": "2022-11-10T12:26:19.597Z"
   },
   {
    "duration": 1245,
    "start_time": "2022-11-10T12:26:54.696Z"
   },
   {
    "duration": 147,
    "start_time": "2022-11-10T12:26:57.476Z"
   },
   {
    "duration": 24204,
    "start_time": "2022-11-10T12:27:17.261Z"
   },
   {
    "duration": 606,
    "start_time": "2022-11-10T12:27:49.046Z"
   },
   {
    "duration": 27103,
    "start_time": "2022-11-10T12:28:17.929Z"
   },
   {
    "duration": 209,
    "start_time": "2022-11-10T12:28:50.957Z"
   },
   {
    "duration": 28954,
    "start_time": "2022-11-10T12:29:35.159Z"
   },
   {
    "duration": 608,
    "start_time": "2022-11-10T12:30:07.700Z"
   },
   {
    "duration": 27167,
    "start_time": "2022-11-10T12:30:12.393Z"
   },
   {
    "duration": 64,
    "start_time": "2022-11-10T12:31:01.461Z"
   },
   {
    "duration": 52,
    "start_time": "2022-11-10T12:36:29.342Z"
   },
   {
    "duration": 1240,
    "start_time": "2022-11-10T12:36:59.273Z"
   },
   {
    "duration": 149,
    "start_time": "2022-11-10T12:37:13.408Z"
   },
   {
    "duration": 1245,
    "start_time": "2022-11-10T12:38:14.778Z"
   },
   {
    "duration": 151,
    "start_time": "2022-11-10T12:38:19.973Z"
   },
   {
    "duration": 24,
    "start_time": "2022-11-10T12:39:11.430Z"
   },
   {
    "duration": 8,
    "start_time": "2022-11-10T12:39:44.474Z"
   },
   {
    "duration": 1476,
    "start_time": "2022-11-10T12:40:03.721Z"
   },
   {
    "duration": 154,
    "start_time": "2022-11-10T12:40:09.216Z"
   },
   {
    "duration": 19,
    "start_time": "2022-11-10T12:43:16.684Z"
   },
   {
    "duration": 170,
    "start_time": "2022-11-10T12:43:26.961Z"
   },
   {
    "duration": 11,
    "start_time": "2022-11-10T12:44:03.739Z"
   },
   {
    "duration": 10,
    "start_time": "2022-11-10T12:44:15.174Z"
   },
   {
    "duration": 178,
    "start_time": "2022-11-10T12:44:23.459Z"
   },
   {
    "duration": 1356,
    "start_time": "2022-11-10T12:44:26.578Z"
   },
   {
    "duration": 161,
    "start_time": "2022-11-10T12:44:54.268Z"
   },
   {
    "duration": 68,
    "start_time": "2022-11-10T12:47:08.022Z"
   },
   {
    "duration": 77,
    "start_time": "2022-11-10T12:47:21.986Z"
   },
   {
    "duration": 810,
    "start_time": "2022-11-10T12:47:47.271Z"
   },
   {
    "duration": 161,
    "start_time": "2022-11-10T12:47:55.760Z"
   },
   {
    "duration": 788,
    "start_time": "2022-11-10T12:48:11.054Z"
   },
   {
    "duration": 155,
    "start_time": "2022-11-10T12:48:16.687Z"
   },
   {
    "duration": 2763,
    "start_time": "2022-11-10T12:48:38.677Z"
   },
   {
    "duration": 171,
    "start_time": "2022-11-10T12:48:52.530Z"
   },
   {
    "duration": 19089,
    "start_time": "2022-11-10T12:49:08.966Z"
   },
   {
    "duration": 214,
    "start_time": "2022-11-10T12:49:36.331Z"
   },
   {
    "duration": 21807,
    "start_time": "2022-11-10T12:50:26.155Z"
   },
   {
    "duration": 156,
    "start_time": "2022-11-10T12:50:55.579Z"
   },
   {
    "duration": 4335,
    "start_time": "2022-11-10T12:51:37.161Z"
   },
   {
    "duration": 150,
    "start_time": "2022-11-10T12:51:44.249Z"
   },
   {
    "duration": 915,
    "start_time": "2022-11-10T12:53:06.329Z"
   },
   {
    "duration": 413,
    "start_time": "2022-11-10T12:53:38.849Z"
   },
   {
    "duration": 142,
    "start_time": "2022-11-10T12:53:41.456Z"
   },
   {
    "duration": 449,
    "start_time": "2022-11-10T12:53:46.262Z"
   },
   {
    "duration": 168,
    "start_time": "2022-11-10T12:53:46.974Z"
   },
   {
    "duration": 499,
    "start_time": "2022-11-10T12:53:54.642Z"
   },
   {
    "duration": 158,
    "start_time": "2022-11-10T12:53:55.367Z"
   },
   {
    "duration": 410,
    "start_time": "2022-11-10T12:54:03.308Z"
   },
   {
    "duration": 153,
    "start_time": "2022-11-10T12:54:06.563Z"
   },
   {
    "duration": 268,
    "start_time": "2022-11-10T12:54:18.962Z"
   },
   {
    "duration": 255,
    "start_time": "2022-11-10T12:54:24.883Z"
   },
   {
    "duration": 290,
    "start_time": "2022-11-10T12:54:30.587Z"
   },
   {
    "duration": 159,
    "start_time": "2022-11-10T12:54:35.624Z"
   },
   {
    "duration": 271,
    "start_time": "2022-11-10T12:54:42.151Z"
   },
   {
    "duration": 153,
    "start_time": "2022-11-10T12:54:43.057Z"
   },
   {
    "duration": 314,
    "start_time": "2022-11-10T12:54:48.332Z"
   },
   {
    "duration": 160,
    "start_time": "2022-11-10T12:54:49.245Z"
   },
   {
    "duration": 282,
    "start_time": "2022-11-10T12:54:54.571Z"
   },
   {
    "duration": 286,
    "start_time": "2022-11-10T12:55:00.361Z"
   },
   {
    "duration": 172,
    "start_time": "2022-11-10T12:55:01.189Z"
   },
   {
    "duration": 280,
    "start_time": "2022-11-10T12:55:05.104Z"
   },
   {
    "duration": 152,
    "start_time": "2022-11-10T12:55:06.191Z"
   },
   {
    "duration": 298,
    "start_time": "2022-11-10T12:55:17.996Z"
   },
   {
    "duration": 163,
    "start_time": "2022-11-10T12:55:18.880Z"
   },
   {
    "duration": 380,
    "start_time": "2022-11-10T12:55:25.350Z"
   },
   {
    "duration": 162,
    "start_time": "2022-11-10T12:55:26.277Z"
   },
   {
    "duration": 576,
    "start_time": "2022-11-10T12:55:32.584Z"
   },
   {
    "duration": 165,
    "start_time": "2022-11-10T12:55:33.833Z"
   },
   {
    "duration": 621,
    "start_time": "2022-11-10T12:55:38.169Z"
   },
   {
    "duration": 160,
    "start_time": "2022-11-10T12:55:38.896Z"
   },
   {
    "duration": 806,
    "start_time": "2022-11-10T12:55:46.772Z"
   },
   {
    "duration": 146,
    "start_time": "2022-11-10T12:55:47.638Z"
   },
   {
    "duration": 1197,
    "start_time": "2022-11-10T12:55:57.524Z"
   },
   {
    "duration": 155,
    "start_time": "2022-11-10T12:55:58.723Z"
   },
   {
    "duration": 294,
    "start_time": "2022-11-10T12:56:18.234Z"
   },
   {
    "duration": 267,
    "start_time": "2022-11-10T12:56:29.437Z"
   },
   {
    "duration": 301,
    "start_time": "2022-11-10T12:56:33.561Z"
   },
   {
    "duration": 1264,
    "start_time": "2022-11-10T12:56:37.381Z"
   },
   {
    "duration": 192,
    "start_time": "2022-11-10T12:56:38.647Z"
   },
   {
    "duration": 592,
    "start_time": "2022-11-10T12:56:44.712Z"
   },
   {
    "duration": 167,
    "start_time": "2022-11-10T12:56:45.306Z"
   },
   {
    "duration": 412,
    "start_time": "2022-11-10T12:56:49.360Z"
   },
   {
    "duration": 154,
    "start_time": "2022-11-10T12:56:49.859Z"
   },
   {
    "duration": 471,
    "start_time": "2022-11-10T12:57:03.623Z"
   },
   {
    "duration": 163,
    "start_time": "2022-11-10T12:57:04.095Z"
   },
   {
    "duration": 888,
    "start_time": "2022-11-10T12:57:21.266Z"
   },
   {
    "duration": 157,
    "start_time": "2022-11-10T12:57:22.156Z"
   },
   {
    "duration": 850,
    "start_time": "2022-11-10T12:57:37.518Z"
   },
   {
    "duration": 158,
    "start_time": "2022-11-10T12:57:38.370Z"
   },
   {
    "duration": 752,
    "start_time": "2022-11-10T12:57:46.761Z"
   },
   {
    "duration": 164,
    "start_time": "2022-11-10T12:57:47.515Z"
   },
   {
    "duration": 690,
    "start_time": "2022-11-10T12:57:52.603Z"
   },
   {
    "duration": 172,
    "start_time": "2022-11-10T12:57:53.295Z"
   },
   {
    "duration": 4562,
    "start_time": "2022-11-10T12:58:14.694Z"
   },
   {
    "duration": 181,
    "start_time": "2022-11-10T12:58:19.259Z"
   },
   {
    "duration": 1342,
    "start_time": "2022-11-10T13:02:27.695Z"
   },
   {
    "duration": 156,
    "start_time": "2022-11-10T13:02:29.039Z"
   },
   {
    "duration": 13,
    "start_time": "2022-11-10T13:02:55.826Z"
   },
   {
    "duration": 5,
    "start_time": "2022-11-10T13:02:57.716Z"
   },
   {
    "duration": 471,
    "start_time": "2022-11-10T13:03:02.504Z"
   },
   {
    "duration": 59,
    "start_time": "2022-11-10T13:03:04.975Z"
   },
   {
    "duration": 9,
    "start_time": "2022-11-10T13:03:09.079Z"
   },
   {
    "duration": 2,
    "start_time": "2022-11-10T13:03:16.739Z"
   },
   {
    "duration": 153,
    "start_time": "2022-11-10T13:03:22.063Z"
   },
   {
    "duration": 138,
    "start_time": "2022-11-10T13:03:32.855Z"
   },
   {
    "duration": 63,
    "start_time": "2022-11-10T13:03:38.071Z"
   },
   {
    "duration": 60,
    "start_time": "2022-11-10T13:03:38.660Z"
   },
   {
    "duration": 64,
    "start_time": "2022-11-10T13:03:49.866Z"
   },
   {
    "duration": 175,
    "start_time": "2022-11-10T13:05:20.478Z"
   },
   {
    "duration": 11,
    "start_time": "2022-11-10T13:05:48.247Z"
   },
   {
    "duration": 309,
    "start_time": "2022-11-10T13:06:05.263Z"
   },
   {
    "duration": 276,
    "start_time": "2022-11-10T13:10:01.957Z"
   },
   {
    "duration": 36572,
    "start_time": "2022-11-10T13:16:53.217Z"
   },
   {
    "duration": 62,
    "start_time": "2022-11-10T13:27:09.193Z"
   },
   {
    "duration": 76,
    "start_time": "2022-11-10T13:34:46.733Z"
   },
   {
    "duration": 1410,
    "start_time": "2022-11-10T13:34:53.610Z"
   },
   {
    "duration": 3,
    "start_time": "2022-11-10T13:34:55.022Z"
   },
   {
    "duration": 250,
    "start_time": "2022-11-10T13:34:55.027Z"
   },
   {
    "duration": 3,
    "start_time": "2022-11-10T13:34:55.278Z"
   },
   {
    "duration": 45,
    "start_time": "2022-11-10T13:34:55.282Z"
   },
   {
    "duration": 5,
    "start_time": "2022-11-10T13:34:55.329Z"
   },
   {
    "duration": 39,
    "start_time": "2022-11-10T13:34:55.336Z"
   },
   {
    "duration": 77,
    "start_time": "2022-11-10T13:34:55.378Z"
   },
   {
    "duration": 168,
    "start_time": "2022-11-10T13:34:55.457Z"
   },
   {
    "duration": 41,
    "start_time": "2022-11-10T13:34:55.633Z"
   },
   {
    "duration": 8,
    "start_time": "2022-11-10T13:34:55.676Z"
   },
   {
    "duration": 38,
    "start_time": "2022-11-10T13:34:55.686Z"
   },
   {
    "duration": 6,
    "start_time": "2022-11-10T13:34:55.726Z"
   },
   {
    "duration": 245,
    "start_time": "2022-11-10T13:34:55.735Z"
   },
   {
    "duration": 8,
    "start_time": "2022-11-10T13:34:55.982Z"
   },
   {
    "duration": 22,
    "start_time": "2022-11-10T13:34:55.992Z"
   },
   {
    "duration": 43,
    "start_time": "2022-11-10T13:34:56.016Z"
   },
   {
    "duration": 80,
    "start_time": "2022-11-10T13:34:56.061Z"
   },
   {
    "duration": 55,
    "start_time": "2022-11-10T13:34:56.143Z"
   },
   {
    "duration": 85,
    "start_time": "2022-11-10T13:34:56.200Z"
   },
   {
    "duration": 348,
    "start_time": "2022-11-10T13:34:56.287Z"
   },
   {
    "duration": 6,
    "start_time": "2022-11-10T13:34:56.637Z"
   },
   {
    "duration": 13,
    "start_time": "2022-11-10T13:34:56.645Z"
   },
   {
    "duration": 36,
    "start_time": "2022-11-10T13:34:56.659Z"
   },
   {
    "duration": 48,
    "start_time": "2022-11-10T13:34:56.696Z"
   },
   {
    "duration": 23,
    "start_time": "2022-11-10T13:34:56.746Z"
   },
   {
    "duration": 166,
    "start_time": "2022-11-10T13:34:56.771Z"
   },
   {
    "duration": 2199,
    "start_time": "2022-11-10T13:34:56.938Z"
   },
   {
    "duration": 5,
    "start_time": "2022-11-10T13:34:59.139Z"
   },
   {
    "duration": 10,
    "start_time": "2022-11-10T13:34:59.146Z"
   },
   {
    "duration": 552,
    "start_time": "2022-11-10T13:34:59.158Z"
   },
   {
    "duration": 4,
    "start_time": "2022-11-10T13:34:59.712Z"
   },
   {
    "duration": 17,
    "start_time": "2022-11-10T13:34:59.718Z"
   },
   {
    "duration": 1473,
    "start_time": "2022-11-10T13:34:59.737Z"
   },
   {
    "duration": 158,
    "start_time": "2022-11-10T13:35:01.212Z"
   },
   {
    "duration": 34481,
    "start_time": "2022-11-10T13:35:01.372Z"
   },
   {
    "duration": 652,
    "start_time": "2022-11-10T13:35:35.855Z"
   },
   {
    "duration": 33402,
    "start_time": "2022-11-10T13:35:36.509Z"
   },
   {
    "duration": 199,
    "start_time": "2022-11-10T13:36:09.913Z"
   },
   {
    "duration": 21,
    "start_time": "2022-11-10T13:36:10.113Z"
   },
   {
    "duration": 6,
    "start_time": "2022-11-10T13:36:10.137Z"
   },
   {
    "duration": 491,
    "start_time": "2022-11-10T13:36:10.145Z"
   },
   {
    "duration": 10,
    "start_time": "2022-11-10T13:36:10.638Z"
   },
   {
    "duration": 187,
    "start_time": "2022-11-10T13:36:10.651Z"
   },
   {
    "duration": 339,
    "start_time": "2022-11-10T13:36:10.840Z"
   },
   {
    "duration": 4,
    "start_time": "2022-11-10T13:41:38.874Z"
   },
   {
    "duration": 1371,
    "start_time": "2022-11-10T13:41:47.596Z"
   },
   {
    "duration": 158,
    "start_time": "2022-11-10T13:41:53.106Z"
   },
   {
    "duration": 4,
    "start_time": "2022-11-10T13:42:41.435Z"
   },
   {
    "duration": 8,
    "start_time": "2022-11-10T13:42:42.717Z"
   },
   {
    "duration": 1330,
    "start_time": "2022-11-10T13:42:44.714Z"
   },
   {
    "duration": 4,
    "start_time": "2022-11-10T13:43:05.102Z"
   },
   {
    "duration": 152,
    "start_time": "2022-11-10T13:43:08.473Z"
   },
   {
    "duration": 1379,
    "start_time": "2022-11-10T13:43:09.963Z"
   },
   {
    "duration": 163,
    "start_time": "2022-11-10T13:43:13.582Z"
   },
   {
    "duration": 4,
    "start_time": "2022-11-10T13:43:51.168Z"
   },
   {
    "duration": 34217,
    "start_time": "2022-11-10T13:46:03.083Z"
   },
   {
    "duration": 584,
    "start_time": "2022-11-10T13:47:07.577Z"
   },
   {
    "duration": 28522,
    "start_time": "2022-11-10T13:47:40.846Z"
   },
   {
    "duration": 3,
    "start_time": "2022-11-10T13:48:35.824Z"
   },
   {
    "duration": 28059,
    "start_time": "2022-11-10T13:48:53.098Z"
   },
   {
    "duration": 3,
    "start_time": "2022-11-10T13:49:39.433Z"
   },
   {
    "duration": 6,
    "start_time": "2022-11-10T13:49:50.557Z"
   },
   {
    "duration": 4,
    "start_time": "2022-11-10T13:50:12.073Z"
   },
   {
    "duration": 1354,
    "start_time": "2022-11-10T13:50:34.028Z"
   },
   {
    "duration": 5,
    "start_time": "2022-11-10T13:50:40.005Z"
   },
   {
    "duration": 5,
    "start_time": "2022-11-10T13:51:09.951Z"
   },
   {
    "duration": 1692,
    "start_time": "2022-11-10T13:51:33.146Z"
   },
   {
    "duration": 1395,
    "start_time": "2022-11-10T13:52:58.714Z"
   },
   {
    "duration": 166,
    "start_time": "2022-11-10T13:53:08.625Z"
   },
   {
    "duration": 4444,
    "start_time": "2022-11-10T13:54:10.959Z"
   },
   {
    "duration": 174,
    "start_time": "2022-11-10T13:54:24.689Z"
   },
   {
    "duration": 3070,
    "start_time": "2022-11-10T13:55:18.340Z"
   },
   {
    "duration": 2883,
    "start_time": "2022-11-10T13:55:26.122Z"
   },
   {
    "duration": 3164,
    "start_time": "2022-11-10T13:55:34.024Z"
   },
   {
    "duration": 13186,
    "start_time": "2022-11-10T13:55:52.654Z"
   },
   {
    "duration": 13490,
    "start_time": "2022-11-10T13:57:21.799Z"
   },
   {
    "duration": 152,
    "start_time": "2022-11-10T13:57:38.195Z"
   },
   {
    "duration": 35756,
    "start_time": "2022-11-10T13:58:13.731Z"
   },
   {
    "duration": 49013,
    "start_time": "2022-11-10T13:59:03.630Z"
   },
   {
    "duration": 315,
    "start_time": "2022-11-10T13:59:59.336Z"
   },
   {
    "duration": 37680,
    "start_time": "2022-11-10T14:13:00.441Z"
   },
   {
    "duration": 49079,
    "start_time": "2022-11-10T14:13:49.397Z"
   },
   {
    "duration": 13914,
    "start_time": "2022-11-10T14:15:49.230Z"
   },
   {
    "duration": 201222,
    "start_time": "2022-11-10T14:16:15.373Z"
   },
   {
    "duration": 173315,
    "start_time": "2022-11-10T14:19:58.997Z"
   },
   {
    "duration": 5,
    "start_time": "2022-11-10T14:23:41.897Z"
   },
   {
    "duration": 569553,
    "start_time": "2022-11-10T14:24:36.568Z"
   },
   {
    "duration": 305,
    "start_time": "2022-11-10T14:34:30.211Z"
   },
   {
    "duration": 27068,
    "start_time": "2022-11-10T14:35:04.163Z"
   },
   {
    "duration": 192,
    "start_time": "2022-11-10T14:35:37.044Z"
   },
   {
    "duration": 35486,
    "start_time": "2022-11-10T14:38:26.495Z"
   },
   {
    "duration": 45483,
    "start_time": "2022-11-10T14:39:45.861Z"
   },
   {
    "duration": 53260,
    "start_time": "2022-11-10T14:40:43.202Z"
   },
   {
    "duration": 208,
    "start_time": "2022-11-10T14:44:54.932Z"
   },
   {
    "duration": 44169,
    "start_time": "2022-11-10T14:48:48.114Z"
   },
   {
    "duration": 209,
    "start_time": "2022-11-10T14:50:18.173Z"
   },
   {
    "duration": 29,
    "start_time": "2022-11-10T14:51:16.406Z"
   },
   {
    "duration": 31,
    "start_time": "2022-11-10T14:51:39.226Z"
   },
   {
    "duration": 9,
    "start_time": "2022-11-10T14:52:10.468Z"
   },
   {
    "duration": 7,
    "start_time": "2022-11-10T14:52:18.042Z"
   },
   {
    "duration": 6,
    "start_time": "2022-11-10T14:52:23.796Z"
   },
   {
    "duration": 605,
    "start_time": "2022-11-10T14:52:26.006Z"
   },
   {
    "duration": 9,
    "start_time": "2022-11-10T14:52:27.761Z"
   },
   {
    "duration": 21,
    "start_time": "2022-11-10T14:53:32.466Z"
   },
   {
    "duration": 10176,
    "start_time": "2022-11-10T15:03:07.436Z"
   },
   {
    "duration": 13344,
    "start_time": "2022-11-10T15:03:19.598Z"
   },
   {
    "duration": 6603,
    "start_time": "2022-11-10T15:04:05.741Z"
   },
   {
    "duration": 8615,
    "start_time": "2022-11-10T15:05:03.019Z"
   },
   {
    "duration": 6874,
    "start_time": "2022-11-10T15:05:16.161Z"
   },
   {
    "duration": 5680,
    "start_time": "2022-11-10T15:05:45.557Z"
   },
   {
    "duration": 240,
    "start_time": "2022-11-10T15:06:01.509Z"
   },
   {
    "duration": 6373,
    "start_time": "2022-11-10T15:06:53.761Z"
   },
   {
    "duration": 198,
    "start_time": "2022-11-10T15:07:05.050Z"
   },
   {
    "duration": 22,
    "start_time": "2022-11-10T15:09:11.963Z"
   },
   {
    "duration": 4,
    "start_time": "2022-11-10T15:09:42.646Z"
   },
   {
    "duration": 40,
    "start_time": "2022-11-10T15:13:58.461Z"
   },
   {
    "duration": 49,
    "start_time": "2022-11-10T15:14:13.994Z"
   },
   {
    "duration": 4,
    "start_time": "2022-11-10T15:14:19.735Z"
   },
   {
    "duration": 41,
    "start_time": "2022-11-10T15:15:07.528Z"
   },
   {
    "duration": 19,
    "start_time": "2022-11-10T15:16:46.667Z"
   },
   {
    "duration": 16,
    "start_time": "2022-11-10T15:18:30.870Z"
   },
   {
    "duration": 14,
    "start_time": "2022-11-10T15:18:34.032Z"
   },
   {
    "duration": 16,
    "start_time": "2022-11-10T15:18:45.469Z"
   },
   {
    "duration": 23,
    "start_time": "2022-11-10T15:18:46.520Z"
   },
   {
    "duration": 154,
    "start_time": "2022-11-10T15:18:47.254Z"
   },
   {
    "duration": 4,
    "start_time": "2022-11-10T15:18:48.151Z"
   },
   {
    "duration": 41,
    "start_time": "2022-11-10T15:18:50.423Z"
   },
   {
    "duration": 15,
    "start_time": "2022-11-10T15:21:11.716Z"
   },
   {
    "duration": 16,
    "start_time": "2022-11-10T15:21:23.163Z"
   },
   {
    "duration": 19,
    "start_time": "2022-11-10T15:21:23.743Z"
   },
   {
    "duration": 150,
    "start_time": "2022-11-10T15:21:24.127Z"
   },
   {
    "duration": 5,
    "start_time": "2022-11-10T15:21:24.521Z"
   },
   {
    "duration": 38,
    "start_time": "2022-11-10T15:21:25.298Z"
   },
   {
    "duration": 18,
    "start_time": "2022-11-10T15:22:16.251Z"
   },
   {
    "duration": 15,
    "start_time": "2022-11-10T15:22:44.001Z"
   },
   {
    "duration": 13,
    "start_time": "2022-11-10T15:22:48.069Z"
   },
   {
    "duration": 19,
    "start_time": "2022-11-10T15:22:48.783Z"
   },
   {
    "duration": 151,
    "start_time": "2022-11-10T15:22:49.199Z"
   },
   {
    "duration": 4,
    "start_time": "2022-11-10T15:22:49.853Z"
   },
   {
    "duration": 41,
    "start_time": "2022-11-10T15:22:50.554Z"
   },
   {
    "duration": 16,
    "start_time": "2022-11-10T15:23:00.908Z"
   },
   {
    "duration": 13,
    "start_time": "2022-11-10T15:23:03.908Z"
   },
   {
    "duration": 19,
    "start_time": "2022-11-10T15:23:04.559Z"
   },
   {
    "duration": 151,
    "start_time": "2022-11-10T15:23:04.971Z"
   },
   {
    "duration": 5,
    "start_time": "2022-11-10T15:23:05.397Z"
   },
   {
    "duration": 38,
    "start_time": "2022-11-10T15:23:05.794Z"
   },
   {
    "duration": 15,
    "start_time": "2022-11-10T15:23:35.022Z"
   },
   {
    "duration": 15,
    "start_time": "2022-11-10T15:24:04.196Z"
   },
   {
    "duration": 13,
    "start_time": "2022-11-10T15:24:08.619Z"
   },
   {
    "duration": 18,
    "start_time": "2022-11-10T15:24:09.431Z"
   },
   {
    "duration": 153,
    "start_time": "2022-11-10T15:24:09.810Z"
   },
   {
    "duration": 5,
    "start_time": "2022-11-10T15:24:10.217Z"
   },
   {
    "duration": 61,
    "start_time": "2022-11-10T15:24:10.425Z"
   },
   {
    "duration": 874,
    "start_time": "2022-11-10T15:24:23.298Z"
   },
   {
    "duration": 39,
    "start_time": "2022-11-10T15:24:41.639Z"
   },
   {
    "duration": 52,
    "start_time": "2022-11-10T15:25:27.041Z"
   },
   {
    "duration": 41,
    "start_time": "2022-11-10T15:25:59.337Z"
   },
   {
    "duration": 17003,
    "start_time": "2022-11-10T15:26:03.766Z"
   },
   {
    "duration": 3397,
    "start_time": "2022-11-10T15:27:22.871Z"
   },
   {
    "duration": 812,
    "start_time": "2022-11-10T15:28:27.198Z"
   },
   {
    "duration": 991,
    "start_time": "2022-11-10T15:28:42.173Z"
   },
   {
    "duration": 868,
    "start_time": "2022-11-10T15:30:10.983Z"
   },
   {
    "duration": 15,
    "start_time": "2022-11-10T15:31:25.632Z"
   },
   {
    "duration": 21,
    "start_time": "2022-11-10T15:31:31.975Z"
   },
   {
    "duration": 1004,
    "start_time": "2022-11-10T15:31:35.600Z"
   },
   {
    "duration": 1056,
    "start_time": "2022-11-10T15:31:50.362Z"
   },
   {
    "duration": 8,
    "start_time": "2022-11-10T15:32:11.135Z"
   },
   {
    "duration": 10,
    "start_time": "2022-11-10T15:32:46.536Z"
   },
   {
    "duration": 5,
    "start_time": "2022-11-10T15:32:56.219Z"
   },
   {
    "duration": 9,
    "start_time": "2022-11-10T15:33:08.379Z"
   },
   {
    "duration": 19,
    "start_time": "2022-11-10T15:34:04.001Z"
   },
   {
    "duration": 19,
    "start_time": "2022-11-10T15:34:04.784Z"
   },
   {
    "duration": 153,
    "start_time": "2022-11-10T15:34:05.462Z"
   },
   {
    "duration": 4,
    "start_time": "2022-11-10T15:34:06.909Z"
   },
   {
    "duration": 66,
    "start_time": "2022-11-10T15:34:10.057Z"
   },
   {
    "duration": 38,
    "start_time": "2022-11-10T15:34:25.501Z"
   },
   {
    "duration": 1445,
    "start_time": "2022-11-10T15:35:09.532Z"
   },
   {
    "duration": 3,
    "start_time": "2022-11-10T15:35:10.978Z"
   },
   {
    "duration": 261,
    "start_time": "2022-11-10T15:35:10.983Z"
   },
   {
    "duration": 4,
    "start_time": "2022-11-10T15:35:11.246Z"
   },
   {
    "duration": 40,
    "start_time": "2022-11-10T15:35:11.253Z"
   },
   {
    "duration": 3,
    "start_time": "2022-11-10T15:35:11.295Z"
   },
   {
    "duration": 54,
    "start_time": "2022-11-10T15:35:11.300Z"
   },
   {
    "duration": 31,
    "start_time": "2022-11-10T15:35:11.356Z"
   },
   {
    "duration": 173,
    "start_time": "2022-11-10T15:35:11.389Z"
   },
   {
    "duration": 42,
    "start_time": "2022-11-10T15:35:11.564Z"
   },
   {
    "duration": 29,
    "start_time": "2022-11-10T15:35:11.608Z"
   },
   {
    "duration": 14,
    "start_time": "2022-11-10T15:35:11.639Z"
   },
   {
    "duration": 3,
    "start_time": "2022-11-10T15:35:11.654Z"
   },
   {
    "duration": 252,
    "start_time": "2022-11-10T15:35:11.660Z"
   },
   {
    "duration": 7,
    "start_time": "2022-11-10T15:35:11.914Z"
   },
   {
    "duration": 20,
    "start_time": "2022-11-10T15:35:11.932Z"
   },
   {
    "duration": 30,
    "start_time": "2022-11-10T15:35:11.954Z"
   },
   {
    "duration": 89,
    "start_time": "2022-11-10T15:35:11.986Z"
   },
   {
    "duration": 63,
    "start_time": "2022-11-10T15:35:12.077Z"
   },
   {
    "duration": 66,
    "start_time": "2022-11-10T15:35:12.141Z"
   },
   {
    "duration": 299,
    "start_time": "2022-11-10T15:35:12.209Z"
   },
   {
    "duration": 5,
    "start_time": "2022-11-10T15:35:12.510Z"
   },
   {
    "duration": 23,
    "start_time": "2022-11-10T15:35:12.517Z"
   },
   {
    "duration": 35,
    "start_time": "2022-11-10T15:35:12.542Z"
   },
   {
    "duration": 15,
    "start_time": "2022-11-10T15:35:12.578Z"
   },
   {
    "duration": 49,
    "start_time": "2022-11-10T15:35:12.595Z"
   },
   {
    "duration": 170,
    "start_time": "2022-11-10T15:35:12.646Z"
   },
   {
    "duration": 4,
    "start_time": "2022-11-10T15:35:12.818Z"
   },
   {
    "duration": 65,
    "start_time": "2022-11-10T15:35:12.824Z"
   },
   {
    "duration": 41,
    "start_time": "2022-11-10T15:35:12.892Z"
   },
   {
    "duration": 26,
    "start_time": "2022-11-10T15:35:12.934Z"
   },
   {
    "duration": 2178,
    "start_time": "2022-11-10T15:35:12.962Z"
   },
   {
    "duration": 4,
    "start_time": "2022-11-10T15:35:15.142Z"
   },
   {
    "duration": 17,
    "start_time": "2022-11-10T15:35:15.147Z"
   },
   {
    "duration": 570,
    "start_time": "2022-11-10T15:35:15.166Z"
   },
   {
    "duration": 4,
    "start_time": "2022-11-10T15:35:15.737Z"
   },
   {
    "duration": 26,
    "start_time": "2022-11-10T15:35:15.743Z"
   },
   {
    "duration": 10,
    "start_time": "2022-11-10T15:35:15.771Z"
   },
   {
    "duration": 48225,
    "start_time": "2022-11-10T15:35:15.783Z"
   },
   {
    "duration": 148,
    "start_time": "2022-11-10T15:36:04.009Z"
   },
   {
    "duration": 45516,
    "start_time": "2022-11-10T15:36:04.160Z"
   },
   {
    "duration": 290,
    "start_time": "2022-11-10T15:36:49.678Z"
   },
   {
    "duration": 44266,
    "start_time": "2022-11-10T15:36:49.969Z"
   },
   {
    "duration": 201,
    "start_time": "2022-11-10T15:37:34.237Z"
   },
   {
    "duration": 1255,
    "start_time": "2022-11-10T15:37:34.440Z"
   },
   {
    "duration": 203,
    "start_time": "2022-11-10T15:37:35.697Z"
   },
   {
    "duration": 10,
    "start_time": "2022-11-10T15:37:35.901Z"
   },
   {
    "duration": 12,
    "start_time": "2022-11-10T15:37:35.912Z"
   },
   {
    "duration": 475,
    "start_time": "2022-11-10T15:37:35.925Z"
   },
   {
    "duration": 12,
    "start_time": "2022-11-10T15:37:36.402Z"
   },
   {
    "duration": 200,
    "start_time": "2022-11-10T15:37:36.416Z"
   },
   {
    "duration": 331,
    "start_time": "2022-11-10T15:37:36.618Z"
   },
   {
    "duration": 24,
    "start_time": "2022-11-10T15:39:31.420Z"
   },
   {
    "duration": 12,
    "start_time": "2022-11-10T15:40:04.406Z"
   },
   {
    "duration": 20,
    "start_time": "2022-11-10T15:40:05.097Z"
   },
   {
    "duration": 149,
    "start_time": "2022-11-10T15:40:05.487Z"
   },
   {
    "duration": 42,
    "start_time": "2022-11-10T15:40:05.983Z"
   },
   {
    "duration": 17,
    "start_time": "2022-11-10T15:40:06.396Z"
   },
   {
    "duration": 22,
    "start_time": "2022-11-10T15:40:07.232Z"
   },
   {
    "duration": 20,
    "start_time": "2022-11-10T15:40:21.595Z"
   },
   {
    "duration": 18,
    "start_time": "2022-11-10T15:40:49.481Z"
   },
   {
    "duration": 7004,
    "start_time": "2022-11-10T15:40:52.536Z"
   },
   {
    "duration": 19,
    "start_time": "2022-11-10T15:41:06.136Z"
   },
   {
    "duration": 14,
    "start_time": "2022-11-10T15:41:53.401Z"
   },
   {
    "duration": 19,
    "start_time": "2022-11-10T15:41:54.125Z"
   },
   {
    "duration": 175,
    "start_time": "2022-11-10T15:41:54.592Z"
   },
   {
    "duration": 53,
    "start_time": "2022-11-10T15:41:55.915Z"
   },
   {
    "duration": 22,
    "start_time": "2022-11-10T15:42:12.973Z"
   },
   {
    "duration": 28,
    "start_time": "2022-11-10T15:42:24.209Z"
   },
   {
    "duration": 13,
    "start_time": "2022-11-10T15:43:42.819Z"
   },
   {
    "duration": 19,
    "start_time": "2022-11-10T15:43:43.637Z"
   },
   {
    "duration": 148,
    "start_time": "2022-11-10T15:43:44.066Z"
   },
   {
    "duration": 42,
    "start_time": "2022-11-10T15:43:44.823Z"
   },
   {
    "duration": 14,
    "start_time": "2022-11-10T15:43:47.132Z"
   },
   {
    "duration": 20,
    "start_time": "2022-11-10T15:43:48.668Z"
   },
   {
    "duration": 21,
    "start_time": "2022-11-10T15:43:50.294Z"
   },
   {
    "duration": 13,
    "start_time": "2022-11-10T15:44:05.541Z"
   },
   {
    "duration": 10761,
    "start_time": "2022-11-10T15:44:12.672Z"
   },
   {
    "duration": 22,
    "start_time": "2022-11-10T15:44:26.757Z"
   },
   {
    "duration": 285,
    "start_time": "2022-11-10T15:44:44.193Z"
   },
   {
    "duration": 11411,
    "start_time": "2022-11-10T15:45:00.533Z"
   },
   {
    "duration": 10656,
    "start_time": "2022-11-10T15:45:40.377Z"
   },
   {
    "duration": 342,
    "start_time": "2022-11-10T15:46:03.435Z"
   },
   {
    "duration": 12796,
    "start_time": "2022-11-10T15:46:22.842Z"
   },
   {
    "duration": 11368,
    "start_time": "2022-11-10T15:47:51.066Z"
   },
   {
    "duration": 13484,
    "start_time": "2022-11-10T15:48:14.350Z"
   },
   {
    "duration": 12515,
    "start_time": "2022-11-10T15:48:46.322Z"
   },
   {
    "duration": 15330,
    "start_time": "2022-11-10T15:49:14.112Z"
   },
   {
    "duration": 1428,
    "start_time": "2022-11-10T15:50:19.191Z"
   },
   {
    "duration": 14145,
    "start_time": "2022-11-10T15:50:23.590Z"
   },
   {
    "duration": 12182,
    "start_time": "2022-11-10T15:50:46.256Z"
   },
   {
    "duration": 15394,
    "start_time": "2022-11-10T15:51:14.240Z"
   },
   {
    "duration": 42,
    "start_time": "2022-11-10T15:52:06.068Z"
   },
   {
    "duration": 50008,
    "start_time": "2022-11-10T15:53:29.332Z"
   },
   {
    "duration": 15080,
    "start_time": "2022-11-10T15:56:08.061Z"
   },
   {
    "duration": 7696,
    "start_time": "2022-11-10T15:56:29.046Z"
   },
   {
    "duration": 346,
    "start_time": "2022-11-10T15:56:42.210Z"
   },
   {
    "duration": 8996,
    "start_time": "2022-11-10T15:57:26.547Z"
   },
   {
    "duration": 341,
    "start_time": "2022-11-10T15:57:43.737Z"
   },
   {
    "duration": 1450,
    "start_time": "2022-11-10T15:59:59.500Z"
   },
   {
    "duration": 3,
    "start_time": "2022-11-10T16:00:00.952Z"
   },
   {
    "duration": 304,
    "start_time": "2022-11-10T16:00:00.956Z"
   },
   {
    "duration": 3,
    "start_time": "2022-11-10T16:00:01.262Z"
   },
   {
    "duration": 80,
    "start_time": "2022-11-10T16:00:01.266Z"
   },
   {
    "duration": 13,
    "start_time": "2022-11-10T16:00:01.348Z"
   },
   {
    "duration": 53,
    "start_time": "2022-11-10T16:00:01.363Z"
   },
   {
    "duration": 58,
    "start_time": "2022-11-10T16:00:01.418Z"
   },
   {
    "duration": 147,
    "start_time": "2022-11-10T16:00:01.478Z"
   },
   {
    "duration": 48,
    "start_time": "2022-11-10T16:00:01.627Z"
   },
   {
    "duration": 9,
    "start_time": "2022-11-10T16:00:01.676Z"
   },
   {
    "duration": 21,
    "start_time": "2022-11-10T16:00:01.686Z"
   },
   {
    "duration": 25,
    "start_time": "2022-11-10T16:00:01.708Z"
   },
   {
    "duration": 267,
    "start_time": "2022-11-10T16:00:01.736Z"
   },
   {
    "duration": 8,
    "start_time": "2022-11-10T16:00:02.005Z"
   },
   {
    "duration": 29,
    "start_time": "2022-11-10T16:00:02.014Z"
   },
   {
    "duration": 32,
    "start_time": "2022-11-10T16:00:02.044Z"
   },
   {
    "duration": 77,
    "start_time": "2022-11-10T16:00:02.078Z"
   },
   {
    "duration": 56,
    "start_time": "2022-11-10T16:00:02.157Z"
   },
   {
    "duration": 80,
    "start_time": "2022-11-10T16:00:02.215Z"
   },
   {
    "duration": 286,
    "start_time": "2022-11-10T16:00:02.297Z"
   },
   {
    "duration": 6,
    "start_time": "2022-11-10T16:00:02.585Z"
   },
   {
    "duration": 22,
    "start_time": "2022-11-10T16:00:02.592Z"
   },
   {
    "duration": 43,
    "start_time": "2022-11-10T16:00:02.616Z"
   },
   {
    "duration": 17,
    "start_time": "2022-11-10T16:00:02.660Z"
   },
   {
    "duration": 47,
    "start_time": "2022-11-10T16:00:02.679Z"
   },
   {
    "duration": 164,
    "start_time": "2022-11-10T16:00:02.727Z"
   },
   {
    "duration": 48,
    "start_time": "2022-11-10T16:00:02.893Z"
   },
   {
    "duration": 141,
    "start_time": "2022-11-10T16:00:02.943Z"
   },
   {
    "duration": 0,
    "start_time": "2022-11-10T16:00:03.086Z"
   },
   {
    "duration": 0,
    "start_time": "2022-11-10T16:00:03.087Z"
   },
   {
    "duration": 0,
    "start_time": "2022-11-10T16:00:03.088Z"
   },
   {
    "duration": 0,
    "start_time": "2022-11-10T16:00:03.089Z"
   },
   {
    "duration": 0,
    "start_time": "2022-11-10T16:00:03.090Z"
   },
   {
    "duration": 0,
    "start_time": "2022-11-10T16:00:03.091Z"
   },
   {
    "duration": 0,
    "start_time": "2022-11-10T16:00:03.092Z"
   },
   {
    "duration": 0,
    "start_time": "2022-11-10T16:00:03.093Z"
   },
   {
    "duration": 0,
    "start_time": "2022-11-10T16:00:03.095Z"
   },
   {
    "duration": 0,
    "start_time": "2022-11-10T16:00:03.096Z"
   },
   {
    "duration": 0,
    "start_time": "2022-11-10T16:00:03.098Z"
   },
   {
    "duration": 0,
    "start_time": "2022-11-10T16:00:03.099Z"
   },
   {
    "duration": 0,
    "start_time": "2022-11-10T16:00:03.101Z"
   },
   {
    "duration": 0,
    "start_time": "2022-11-10T16:00:03.132Z"
   },
   {
    "duration": 0,
    "start_time": "2022-11-10T16:00:03.134Z"
   },
   {
    "duration": 0,
    "start_time": "2022-11-10T16:00:03.136Z"
   },
   {
    "duration": 0,
    "start_time": "2022-11-10T16:00:03.137Z"
   },
   {
    "duration": 0,
    "start_time": "2022-11-10T16:00:03.139Z"
   },
   {
    "duration": 0,
    "start_time": "2022-11-10T16:00:03.140Z"
   },
   {
    "duration": 0,
    "start_time": "2022-11-10T16:00:03.143Z"
   },
   {
    "duration": 1378,
    "start_time": "2022-11-10T16:02:25.066Z"
   },
   {
    "duration": 3,
    "start_time": "2022-11-10T16:02:26.447Z"
   },
   {
    "duration": 252,
    "start_time": "2022-11-10T16:02:26.452Z"
   },
   {
    "duration": 3,
    "start_time": "2022-11-10T16:02:26.706Z"
   },
   {
    "duration": 40,
    "start_time": "2022-11-10T16:02:26.711Z"
   },
   {
    "duration": 4,
    "start_time": "2022-11-10T16:02:26.753Z"
   },
   {
    "duration": 33,
    "start_time": "2022-11-10T16:02:26.759Z"
   },
   {
    "duration": 54,
    "start_time": "2022-11-10T16:02:26.794Z"
   },
   {
    "duration": 162,
    "start_time": "2022-11-10T16:02:26.850Z"
   },
   {
    "duration": 59,
    "start_time": "2022-11-10T16:02:27.016Z"
   },
   {
    "duration": 10,
    "start_time": "2022-11-10T16:02:27.076Z"
   },
   {
    "duration": 15,
    "start_time": "2022-11-10T16:02:27.087Z"
   },
   {
    "duration": 29,
    "start_time": "2022-11-10T16:02:27.104Z"
   },
   {
    "duration": 252,
    "start_time": "2022-11-10T16:02:27.135Z"
   },
   {
    "duration": 8,
    "start_time": "2022-11-10T16:02:27.389Z"
   },
   {
    "duration": 35,
    "start_time": "2022-11-10T16:02:27.398Z"
   },
   {
    "duration": 31,
    "start_time": "2022-11-10T16:02:27.435Z"
   },
   {
    "duration": 76,
    "start_time": "2022-11-10T16:02:27.468Z"
   },
   {
    "duration": 56,
    "start_time": "2022-11-10T16:02:27.546Z"
   },
   {
    "duration": 90,
    "start_time": "2022-11-10T16:02:27.603Z"
   },
   {
    "duration": 304,
    "start_time": "2022-11-10T16:02:27.695Z"
   },
   {
    "duration": 5,
    "start_time": "2022-11-10T16:02:28.001Z"
   },
   {
    "duration": 25,
    "start_time": "2022-11-10T16:02:28.008Z"
   },
   {
    "duration": 35,
    "start_time": "2022-11-10T16:02:28.034Z"
   },
   {
    "duration": 14,
    "start_time": "2022-11-10T16:02:28.070Z"
   },
   {
    "duration": 23,
    "start_time": "2022-11-10T16:02:28.086Z"
   },
   {
    "duration": 179,
    "start_time": "2022-11-10T16:02:28.111Z"
   },
   {
    "duration": 45,
    "start_time": "2022-11-10T16:02:28.293Z"
   },
   {
    "duration": 11,
    "start_time": "2022-11-10T16:02:28.340Z"
   },
   {
    "duration": 2105,
    "start_time": "2022-11-10T16:02:28.352Z"
   },
   {
    "duration": 4,
    "start_time": "2022-11-10T16:02:30.459Z"
   },
   {
    "duration": 32,
    "start_time": "2022-11-10T16:02:30.465Z"
   },
   {
    "duration": 601,
    "start_time": "2022-11-10T16:02:30.498Z"
   },
   {
    "duration": 4,
    "start_time": "2022-11-10T16:02:31.101Z"
   },
   {
    "duration": 41,
    "start_time": "2022-11-10T16:02:31.107Z"
   },
   {
    "duration": 48883,
    "start_time": "2022-11-10T16:02:31.150Z"
   },
   {
    "duration": 157,
    "start_time": "2022-11-10T16:03:20.035Z"
   },
   {
    "duration": 45040,
    "start_time": "2022-11-10T16:03:20.194Z"
   },
   {
    "duration": 279,
    "start_time": "2022-11-10T16:04:05.236Z"
   },
   {
    "duration": 44425,
    "start_time": "2022-11-10T16:04:05.516Z"
   },
   {
    "duration": 196,
    "start_time": "2022-11-10T16:04:49.943Z"
   },
   {
    "duration": 7894,
    "start_time": "2022-11-10T16:04:50.141Z"
   },
   {
    "duration": 209,
    "start_time": "2022-11-10T16:04:58.041Z"
   },
   {
    "duration": 0,
    "start_time": "2022-11-10T16:04:58.252Z"
   },
   {
    "duration": 0,
    "start_time": "2022-11-10T16:04:58.253Z"
   },
   {
    "duration": 0,
    "start_time": "2022-11-10T16:04:58.254Z"
   },
   {
    "duration": 0,
    "start_time": "2022-11-10T16:04:58.255Z"
   },
   {
    "duration": 0,
    "start_time": "2022-11-10T16:04:58.256Z"
   },
   {
    "duration": 0,
    "start_time": "2022-11-10T16:04:58.257Z"
   },
   {
    "duration": 1459,
    "start_time": "2022-11-10T16:05:15.526Z"
   },
   {
    "duration": 3,
    "start_time": "2022-11-10T16:05:16.987Z"
   },
   {
    "duration": 240,
    "start_time": "2022-11-10T16:05:16.991Z"
   },
   {
    "duration": 3,
    "start_time": "2022-11-10T16:05:17.233Z"
   },
   {
    "duration": 40,
    "start_time": "2022-11-10T16:05:17.237Z"
   },
   {
    "duration": 3,
    "start_time": "2022-11-10T16:05:17.279Z"
   },
   {
    "duration": 30,
    "start_time": "2022-11-10T16:05:17.284Z"
   },
   {
    "duration": 30,
    "start_time": "2022-11-10T16:05:17.332Z"
   },
   {
    "duration": 170,
    "start_time": "2022-11-10T16:05:17.364Z"
   },
   {
    "duration": 46,
    "start_time": "2022-11-10T16:05:17.537Z"
   },
   {
    "duration": 10,
    "start_time": "2022-11-10T16:05:17.585Z"
   },
   {
    "duration": 45,
    "start_time": "2022-11-10T16:05:17.597Z"
   },
   {
    "duration": 3,
    "start_time": "2022-11-10T16:05:17.644Z"
   },
   {
    "duration": 248,
    "start_time": "2022-11-10T16:05:17.649Z"
   },
   {
    "duration": 8,
    "start_time": "2022-11-10T16:05:17.898Z"
   },
   {
    "duration": 32,
    "start_time": "2022-11-10T16:05:17.907Z"
   },
   {
    "duration": 32,
    "start_time": "2022-11-10T16:05:17.940Z"
   },
   {
    "duration": 93,
    "start_time": "2022-11-10T16:05:17.974Z"
   },
   {
    "duration": 71,
    "start_time": "2022-11-10T16:05:18.068Z"
   },
   {
    "duration": 71,
    "start_time": "2022-11-10T16:05:18.141Z"
   },
   {
    "duration": 303,
    "start_time": "2022-11-10T16:05:18.214Z"
   },
   {
    "duration": 15,
    "start_time": "2022-11-10T16:05:18.518Z"
   },
   {
    "duration": 11,
    "start_time": "2022-11-10T16:05:18.534Z"
   },
   {
    "duration": 33,
    "start_time": "2022-11-10T16:05:18.546Z"
   },
   {
    "duration": 15,
    "start_time": "2022-11-10T16:05:18.581Z"
   },
   {
    "duration": 50,
    "start_time": "2022-11-10T16:05:18.597Z"
   },
   {
    "duration": 181,
    "start_time": "2022-11-10T16:05:18.649Z"
   },
   {
    "duration": 41,
    "start_time": "2022-11-10T16:05:18.835Z"
   },
   {
    "duration": 134,
    "start_time": "2022-11-10T16:05:18.877Z"
   },
   {
    "duration": 0,
    "start_time": "2022-11-10T16:05:19.013Z"
   },
   {
    "duration": 0,
    "start_time": "2022-11-10T16:05:19.014Z"
   },
   {
    "duration": 0,
    "start_time": "2022-11-10T16:05:19.015Z"
   },
   {
    "duration": 0,
    "start_time": "2022-11-10T16:05:19.017Z"
   },
   {
    "duration": 0,
    "start_time": "2022-11-10T16:05:19.018Z"
   },
   {
    "duration": 0,
    "start_time": "2022-11-10T16:05:19.033Z"
   },
   {
    "duration": 0,
    "start_time": "2022-11-10T16:05:19.034Z"
   },
   {
    "duration": 0,
    "start_time": "2022-11-10T16:05:19.037Z"
   },
   {
    "duration": 0,
    "start_time": "2022-11-10T16:05:19.038Z"
   },
   {
    "duration": 0,
    "start_time": "2022-11-10T16:05:19.040Z"
   },
   {
    "duration": 0,
    "start_time": "2022-11-10T16:05:19.041Z"
   },
   {
    "duration": 0,
    "start_time": "2022-11-10T16:05:19.042Z"
   },
   {
    "duration": 0,
    "start_time": "2022-11-10T16:05:19.044Z"
   },
   {
    "duration": 0,
    "start_time": "2022-11-10T16:05:19.045Z"
   },
   {
    "duration": 0,
    "start_time": "2022-11-10T16:05:19.046Z"
   },
   {
    "duration": 0,
    "start_time": "2022-11-10T16:05:19.048Z"
   },
   {
    "duration": 0,
    "start_time": "2022-11-10T16:05:19.049Z"
   },
   {
    "duration": 0,
    "start_time": "2022-11-10T16:05:19.050Z"
   },
   {
    "duration": 0,
    "start_time": "2022-11-10T16:05:19.052Z"
   },
   {
    "duration": 0,
    "start_time": "2022-11-10T16:05:19.053Z"
   },
   {
    "duration": 21,
    "start_time": "2022-11-10T16:06:43.085Z"
   },
   {
    "duration": 13,
    "start_time": "2022-11-10T16:10:11.292Z"
   },
   {
    "duration": 18,
    "start_time": "2022-11-10T16:10:13.246Z"
   },
   {
    "duration": 1428,
    "start_time": "2022-11-10T16:10:46.587Z"
   },
   {
    "duration": 3,
    "start_time": "2022-11-10T16:10:48.017Z"
   },
   {
    "duration": 246,
    "start_time": "2022-11-10T16:10:48.022Z"
   },
   {
    "duration": 3,
    "start_time": "2022-11-10T16:10:48.270Z"
   },
   {
    "duration": 51,
    "start_time": "2022-11-10T16:10:48.275Z"
   },
   {
    "duration": 7,
    "start_time": "2022-11-10T16:10:48.327Z"
   },
   {
    "duration": 42,
    "start_time": "2022-11-10T16:10:48.336Z"
   },
   {
    "duration": 46,
    "start_time": "2022-11-10T16:10:48.380Z"
   },
   {
    "duration": 163,
    "start_time": "2022-11-10T16:10:48.428Z"
   },
   {
    "duration": 57,
    "start_time": "2022-11-10T16:10:48.593Z"
   },
   {
    "duration": 11,
    "start_time": "2022-11-10T16:10:48.652Z"
   },
   {
    "duration": 46,
    "start_time": "2022-11-10T16:10:48.664Z"
   },
   {
    "duration": 19,
    "start_time": "2022-11-10T16:10:48.712Z"
   },
   {
    "duration": 300,
    "start_time": "2022-11-10T16:10:48.735Z"
   },
   {
    "duration": 9,
    "start_time": "2022-11-10T16:10:49.036Z"
   },
   {
    "duration": 25,
    "start_time": "2022-11-10T16:10:49.047Z"
   },
   {
    "duration": 36,
    "start_time": "2022-11-10T16:10:49.074Z"
   },
   {
    "duration": 92,
    "start_time": "2022-11-10T16:10:49.112Z"
   },
   {
    "duration": 101,
    "start_time": "2022-11-10T16:10:49.205Z"
   },
   {
    "duration": 74,
    "start_time": "2022-11-10T16:10:49.308Z"
   },
   {
    "duration": 277,
    "start_time": "2022-11-10T16:10:49.384Z"
   },
   {
    "duration": 6,
    "start_time": "2022-11-10T16:10:49.663Z"
   },
   {
    "duration": 13,
    "start_time": "2022-11-10T16:10:49.670Z"
   },
   {
    "duration": 54,
    "start_time": "2022-11-10T16:10:49.685Z"
   },
   {
    "duration": 15,
    "start_time": "2022-11-10T16:10:49.740Z"
   },
   {
    "duration": 22,
    "start_time": "2022-11-10T16:10:49.757Z"
   },
   {
    "duration": 175,
    "start_time": "2022-11-10T16:10:49.781Z"
   },
   {
    "duration": 39,
    "start_time": "2022-11-10T16:10:49.957Z"
   },
   {
    "duration": 136,
    "start_time": "2022-11-10T16:10:49.997Z"
   },
   {
    "duration": 2259,
    "start_time": "2022-11-10T16:10:50.134Z"
   },
   {
    "duration": 5,
    "start_time": "2022-11-10T16:10:52.395Z"
   },
   {
    "duration": 15,
    "start_time": "2022-11-10T16:10:52.402Z"
   },
   {
    "duration": 589,
    "start_time": "2022-11-10T16:10:52.419Z"
   },
   {
    "duration": 3,
    "start_time": "2022-11-10T16:10:53.010Z"
   },
   {
    "duration": 130,
    "start_time": "2022-11-10T16:10:53.014Z"
   },
   {
    "duration": 0,
    "start_time": "2022-11-10T16:10:53.146Z"
   },
   {
    "duration": 0,
    "start_time": "2022-11-10T16:10:53.147Z"
   },
   {
    "duration": 0,
    "start_time": "2022-11-10T16:10:53.148Z"
   },
   {
    "duration": 0,
    "start_time": "2022-11-10T16:10:53.149Z"
   },
   {
    "duration": 0,
    "start_time": "2022-11-10T16:10:53.150Z"
   },
   {
    "duration": 0,
    "start_time": "2022-11-10T16:10:53.151Z"
   },
   {
    "duration": 0,
    "start_time": "2022-11-10T16:10:53.153Z"
   },
   {
    "duration": 0,
    "start_time": "2022-11-10T16:10:53.154Z"
   },
   {
    "duration": 0,
    "start_time": "2022-11-10T16:10:53.154Z"
   },
   {
    "duration": 0,
    "start_time": "2022-11-10T16:10:53.155Z"
   },
   {
    "duration": 0,
    "start_time": "2022-11-10T16:10:53.156Z"
   },
   {
    "duration": 0,
    "start_time": "2022-11-10T16:10:53.157Z"
   },
   {
    "duration": 0,
    "start_time": "2022-11-10T16:10:53.158Z"
   },
   {
    "duration": 0,
    "start_time": "2022-11-10T16:10:53.159Z"
   },
   {
    "duration": 19,
    "start_time": "2022-11-10T16:11:41.710Z"
   },
   {
    "duration": 19,
    "start_time": "2022-11-10T16:11:50.489Z"
   },
   {
    "duration": 20,
    "start_time": "2022-11-10T16:12:18.298Z"
   },
   {
    "duration": 1380,
    "start_time": "2022-11-10T16:13:07.733Z"
   },
   {
    "duration": 3,
    "start_time": "2022-11-10T16:13:09.114Z"
   },
   {
    "duration": 247,
    "start_time": "2022-11-10T16:13:09.119Z"
   },
   {
    "duration": 3,
    "start_time": "2022-11-10T16:13:09.368Z"
   },
   {
    "duration": 52,
    "start_time": "2022-11-10T16:13:09.373Z"
   },
   {
    "duration": 3,
    "start_time": "2022-11-10T16:13:09.427Z"
   },
   {
    "duration": 31,
    "start_time": "2022-11-10T16:13:09.432Z"
   },
   {
    "duration": 28,
    "start_time": "2022-11-10T16:13:09.465Z"
   },
   {
    "duration": 172,
    "start_time": "2022-11-10T16:13:09.494Z"
   },
   {
    "duration": 44,
    "start_time": "2022-11-10T16:13:09.667Z"
   },
   {
    "duration": 9,
    "start_time": "2022-11-10T16:13:09.733Z"
   },
   {
    "duration": 15,
    "start_time": "2022-11-10T16:13:09.744Z"
   },
   {
    "duration": 3,
    "start_time": "2022-11-10T16:13:09.761Z"
   },
   {
    "duration": 266,
    "start_time": "2022-11-10T16:13:09.767Z"
   },
   {
    "duration": 8,
    "start_time": "2022-11-10T16:13:10.034Z"
   },
   {
    "duration": 25,
    "start_time": "2022-11-10T16:13:10.044Z"
   },
   {
    "duration": 34,
    "start_time": "2022-11-10T16:13:10.071Z"
   },
   {
    "duration": 88,
    "start_time": "2022-11-10T16:13:10.107Z"
   },
   {
    "duration": 69,
    "start_time": "2022-11-10T16:13:10.197Z"
   },
   {
    "duration": 80,
    "start_time": "2022-11-10T16:13:10.268Z"
   },
   {
    "duration": 286,
    "start_time": "2022-11-10T16:13:10.349Z"
   },
   {
    "duration": 5,
    "start_time": "2022-11-10T16:13:10.637Z"
   },
   {
    "duration": 15,
    "start_time": "2022-11-10T16:13:10.644Z"
   },
   {
    "duration": 42,
    "start_time": "2022-11-10T16:13:10.661Z"
   },
   {
    "duration": 30,
    "start_time": "2022-11-10T16:13:10.705Z"
   },
   {
    "duration": 25,
    "start_time": "2022-11-10T16:13:10.737Z"
   },
   {
    "duration": 172,
    "start_time": "2022-11-10T16:13:10.763Z"
   },
   {
    "duration": 40,
    "start_time": "2022-11-10T16:13:10.937Z"
   },
   {
    "duration": 12,
    "start_time": "2022-11-10T16:13:10.979Z"
   },
   {
    "duration": 2140,
    "start_time": "2022-11-10T16:13:10.993Z"
   },
   {
    "duration": 6,
    "start_time": "2022-11-10T16:13:13.135Z"
   },
   {
    "duration": 14,
    "start_time": "2022-11-10T16:13:13.143Z"
   },
   {
    "duration": 576,
    "start_time": "2022-11-10T16:13:13.159Z"
   },
   {
    "duration": 4,
    "start_time": "2022-11-10T16:13:13.737Z"
   },
   {
    "duration": 20,
    "start_time": "2022-11-10T16:13:13.743Z"
   },
   {
    "duration": 47866,
    "start_time": "2022-11-10T16:13:13.765Z"
   },
   {
    "duration": 153,
    "start_time": "2022-11-10T16:14:01.632Z"
   },
   {
    "duration": 45894,
    "start_time": "2022-11-10T16:14:01.787Z"
   },
   {
    "duration": 275,
    "start_time": "2022-11-10T16:14:47.683Z"
   },
   {
    "duration": 44767,
    "start_time": "2022-11-10T16:14:47.960Z"
   },
   {
    "duration": 213,
    "start_time": "2022-11-10T16:15:32.736Z"
   },
   {
    "duration": 8390,
    "start_time": "2022-11-10T16:15:32.951Z"
   },
   {
    "duration": 305,
    "start_time": "2022-11-10T16:15:41.343Z"
   },
   {
    "duration": 0,
    "start_time": "2022-11-10T16:15:41.650Z"
   },
   {
    "duration": 0,
    "start_time": "2022-11-10T16:15:41.651Z"
   },
   {
    "duration": 0,
    "start_time": "2022-11-10T16:15:41.652Z"
   },
   {
    "duration": 0,
    "start_time": "2022-11-10T16:15:41.653Z"
   },
   {
    "duration": 0,
    "start_time": "2022-11-10T16:15:41.654Z"
   },
   {
    "duration": 0,
    "start_time": "2022-11-10T16:15:41.655Z"
   },
   {
    "duration": 21,
    "start_time": "2022-11-10T16:15:56.105Z"
   },
   {
    "duration": 6,
    "start_time": "2022-11-10T16:16:54.081Z"
   },
   {
    "duration": 20,
    "start_time": "2022-11-10T16:17:03.598Z"
   },
   {
    "duration": 19,
    "start_time": "2022-11-10T16:18:02.361Z"
   },
   {
    "duration": 1354,
    "start_time": "2022-11-10T16:20:21.376Z"
   },
   {
    "duration": 2,
    "start_time": "2022-11-10T16:20:22.733Z"
   },
   {
    "duration": 270,
    "start_time": "2022-11-10T16:20:22.737Z"
   },
   {
    "duration": 3,
    "start_time": "2022-11-10T16:20:23.008Z"
   },
   {
    "duration": 47,
    "start_time": "2022-11-10T16:20:23.014Z"
   },
   {
    "duration": 4,
    "start_time": "2022-11-10T16:20:23.063Z"
   },
   {
    "duration": 28,
    "start_time": "2022-11-10T16:20:23.069Z"
   },
   {
    "duration": 61,
    "start_time": "2022-11-10T16:20:23.098Z"
   },
   {
    "duration": 160,
    "start_time": "2022-11-10T16:20:23.161Z"
   },
   {
    "duration": 43,
    "start_time": "2022-11-10T16:20:23.332Z"
   },
   {
    "duration": 10,
    "start_time": "2022-11-10T16:20:23.377Z"
   },
   {
    "duration": 45,
    "start_time": "2022-11-10T16:20:23.388Z"
   },
   {
    "duration": 4,
    "start_time": "2022-11-10T16:20:23.435Z"
   },
   {
    "duration": 252,
    "start_time": "2022-11-10T16:20:23.443Z"
   },
   {
    "duration": 8,
    "start_time": "2022-11-10T16:20:23.698Z"
   },
   {
    "duration": 33,
    "start_time": "2022-11-10T16:20:23.708Z"
   },
   {
    "duration": 42,
    "start_time": "2022-11-10T16:20:23.742Z"
   },
   {
    "duration": 73,
    "start_time": "2022-11-10T16:20:23.785Z"
   },
   {
    "duration": 58,
    "start_time": "2022-11-10T16:20:23.860Z"
   },
   {
    "duration": 68,
    "start_time": "2022-11-10T16:20:23.933Z"
   },
   {
    "duration": 295,
    "start_time": "2022-11-10T16:20:24.003Z"
   },
   {
    "duration": 6,
    "start_time": "2022-11-10T16:20:24.301Z"
   },
   {
    "duration": 24,
    "start_time": "2022-11-10T16:20:24.309Z"
   },
   {
    "duration": 34,
    "start_time": "2022-11-10T16:20:24.335Z"
   },
   {
    "duration": 16,
    "start_time": "2022-11-10T16:20:24.370Z"
   },
   {
    "duration": 49,
    "start_time": "2022-11-10T16:20:24.388Z"
   },
   {
    "duration": 156,
    "start_time": "2022-11-10T16:20:24.439Z"
   },
   {
    "duration": 44,
    "start_time": "2022-11-10T16:20:24.597Z"
   },
   {
    "duration": 14,
    "start_time": "2022-11-10T16:20:24.642Z"
   },
   {
    "duration": 2187,
    "start_time": "2022-11-10T16:20:24.658Z"
   },
   {
    "duration": 3,
    "start_time": "2022-11-10T16:20:26.847Z"
   },
   {
    "duration": 33,
    "start_time": "2022-11-10T16:20:26.852Z"
   },
   {
    "duration": 560,
    "start_time": "2022-11-10T16:20:26.886Z"
   },
   {
    "duration": 3,
    "start_time": "2022-11-10T16:20:27.448Z"
   },
   {
    "duration": 22,
    "start_time": "2022-11-10T16:20:27.453Z"
   },
   {
    "duration": 55644,
    "start_time": "2022-11-10T16:20:27.477Z"
   },
   {
    "duration": 146,
    "start_time": "2022-11-10T16:21:23.123Z"
   },
   {
    "duration": 44979,
    "start_time": "2022-11-10T16:21:23.271Z"
   },
   {
    "duration": 278,
    "start_time": "2022-11-10T16:22:08.252Z"
   },
   {
    "duration": 44481,
    "start_time": "2022-11-10T16:22:08.533Z"
   },
   {
    "duration": 203,
    "start_time": "2022-11-10T16:22:53.018Z"
   },
   {
    "duration": 8210,
    "start_time": "2022-11-10T16:22:53.223Z"
   },
   {
    "duration": 427,
    "start_time": "2022-11-10T16:23:01.440Z"
   },
   {
    "duration": 19,
    "start_time": "2022-11-10T16:23:01.868Z"
   },
   {
    "duration": 27,
    "start_time": "2022-11-10T16:23:01.889Z"
   },
   {
    "duration": 6,
    "start_time": "2022-11-10T16:23:01.918Z"
   },
   {
    "duration": 499,
    "start_time": "2022-11-10T16:23:01.932Z"
   },
   {
    "duration": 10,
    "start_time": "2022-11-10T16:23:02.433Z"
   },
   {
    "duration": 181,
    "start_time": "2022-11-10T16:23:02.444Z"
   },
   {
    "duration": 312,
    "start_time": "2022-11-10T16:23:02.627Z"
   },
   {
    "duration": 57,
    "start_time": "2022-11-10T16:24:40.940Z"
   },
   {
    "duration": 2109,
    "start_time": "2022-11-11T10:32:04.337Z"
   },
   {
    "duration": 13,
    "start_time": "2022-11-11T10:32:06.449Z"
   },
   {
    "duration": 668,
    "start_time": "2022-11-11T10:32:06.470Z"
   },
   {
    "duration": 3,
    "start_time": "2022-11-11T10:32:07.141Z"
   },
   {
    "duration": 54,
    "start_time": "2022-11-11T10:32:07.146Z"
   },
   {
    "duration": 5,
    "start_time": "2022-11-11T10:32:07.202Z"
   },
   {
    "duration": 62,
    "start_time": "2022-11-11T10:32:07.209Z"
   },
   {
    "duration": 41,
    "start_time": "2022-11-11T10:32:07.273Z"
   },
   {
    "duration": 203,
    "start_time": "2022-11-11T10:32:07.316Z"
   },
   {
    "duration": 83,
    "start_time": "2022-11-11T10:32:07.524Z"
   },
   {
    "duration": 12,
    "start_time": "2022-11-11T10:32:07.609Z"
   },
   {
    "duration": 53,
    "start_time": "2022-11-11T10:32:07.623Z"
   },
   {
    "duration": 11,
    "start_time": "2022-11-11T10:32:07.678Z"
   },
   {
    "duration": 369,
    "start_time": "2022-11-11T10:32:07.691Z"
   },
   {
    "duration": 13,
    "start_time": "2022-11-11T10:32:08.062Z"
   },
   {
    "duration": 28,
    "start_time": "2022-11-11T10:32:08.076Z"
   },
   {
    "duration": 58,
    "start_time": "2022-11-11T10:32:08.106Z"
   },
   {
    "duration": 102,
    "start_time": "2022-11-11T10:32:08.168Z"
   },
   {
    "duration": 104,
    "start_time": "2022-11-11T10:32:08.273Z"
   },
   {
    "duration": 97,
    "start_time": "2022-11-11T10:32:08.379Z"
   },
   {
    "duration": 392,
    "start_time": "2022-11-11T10:32:08.478Z"
   },
   {
    "duration": 7,
    "start_time": "2022-11-11T10:32:08.872Z"
   },
   {
    "duration": 15,
    "start_time": "2022-11-11T10:32:08.881Z"
   },
   {
    "duration": 68,
    "start_time": "2022-11-11T10:32:08.904Z"
   },
   {
    "duration": 18,
    "start_time": "2022-11-11T10:32:08.975Z"
   },
   {
    "duration": 44,
    "start_time": "2022-11-11T10:32:09.005Z"
   },
   {
    "duration": 259,
    "start_time": "2022-11-11T10:32:09.053Z"
   },
   {
    "duration": 71,
    "start_time": "2022-11-11T10:32:09.318Z"
   },
   {
    "duration": 17,
    "start_time": "2022-11-11T10:32:09.392Z"
   },
   {
    "duration": 2814,
    "start_time": "2022-11-11T10:32:09.413Z"
   },
   {
    "duration": 6,
    "start_time": "2022-11-11T10:32:12.229Z"
   },
   {
    "duration": 8,
    "start_time": "2022-11-11T10:32:12.253Z"
   },
   {
    "duration": 659,
    "start_time": "2022-11-11T10:32:12.267Z"
   },
   {
    "duration": 5,
    "start_time": "2022-11-11T10:32:12.928Z"
   },
   {
    "duration": 45,
    "start_time": "2022-11-11T10:32:12.935Z"
   },
   {
    "duration": 68548,
    "start_time": "2022-11-11T10:32:12.983Z"
   },
   {
    "duration": 233,
    "start_time": "2022-11-11T10:33:21.532Z"
   },
   {
    "duration": 51052,
    "start_time": "2022-11-11T10:33:21.769Z"
   },
   {
    "duration": 347,
    "start_time": "2022-11-11T10:34:12.824Z"
   },
   {
    "duration": 62422,
    "start_time": "2022-11-11T10:34:13.172Z"
   },
   {
    "duration": 249,
    "start_time": "2022-11-11T10:35:15.596Z"
   },
   {
    "duration": 9620,
    "start_time": "2022-11-11T10:35:15.847Z"
   },
   {
    "duration": 447,
    "start_time": "2022-11-11T10:35:25.552Z"
   },
   {
    "duration": 23,
    "start_time": "2022-11-11T10:35:26.001Z"
   },
   {
    "duration": 41,
    "start_time": "2022-11-11T10:35:26.026Z"
   },
   {
    "duration": 8,
    "start_time": "2022-11-11T10:35:26.069Z"
   },
   {
    "duration": 595,
    "start_time": "2022-11-11T10:35:26.079Z"
   },
   {
    "duration": 9,
    "start_time": "2022-11-11T10:35:26.676Z"
   },
   {
    "duration": 200,
    "start_time": "2022-11-11T10:35:26.687Z"
   },
   {
    "duration": 400,
    "start_time": "2022-11-11T10:35:26.889Z"
   }
  ],
  "kernelspec": {
   "display_name": "Python 3 (ipykernel)",
   "language": "python",
   "name": "python3"
  },
  "language_info": {
   "codemirror_mode": {
    "name": "ipython",
    "version": 3
   },
   "file_extension": ".py",
   "mimetype": "text/x-python",
   "name": "python",
   "nbconvert_exporter": "python",
   "pygments_lexer": "ipython3",
   "version": "3.9.12"
  },
  "toc": {
   "base_numbering": 1,
   "nav_menu": {},
   "number_sections": true,
   "sideBar": true,
   "skip_h1_title": true,
   "title_cell": "Table of Contents",
   "title_sidebar": "Contents",
   "toc_cell": false,
   "toc_position": {},
   "toc_section_display": true,
   "toc_window_display": true
  }
 },
 "nbformat": 4,
 "nbformat_minor": 2
}
