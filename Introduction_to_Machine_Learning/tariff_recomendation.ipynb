{
 "cells": [
  {
   "cell_type": "markdown",
   "metadata": {},
   "source": [
    "## Проект \"Рекомендация тарифов\""
   ]
  },
  {
   "cell_type": "markdown",
   "metadata": {},
   "source": [
    "В нашем распоряжении выборка данных о поведении клиентов, которые уже перешли на тарифные планы \"Smart\" и \"Ultra\". Нужно построить модель для задачи классификации, которая выберет подходящий тариф для клиентов которые еще находятся на архивных тарифных планах. Предобработка данных не понадобится — мы её уже сделали.\n",
    "\n",
    "**Цель:** Построить модель категоризации с *accuracy* по крайней мере до 0.75. Проверить *accuracy* модели на тестовой выборке.\n",
    "\n",
    "**Задачи:**\n",
    "\n",
    "1. Открыть файл с данными и изучить его. Путь к файлу: /datasets/users_behavior.csv.\n",
    " \n",
    "2. Разделить исходные данные на обучающую, валидационную и тестовую выборки.\n",
    "\n",
    "3. Исследовать качество разных моделей, меняя гиперпараметры. Сделать выводы по исследованию.\n",
    "\n",
    "4. Проверить качество модели на тестовой выборке.\n",
    "\n",
    "5. Проверить модель на вменяемость.\n",
    "\n",
    "**Предмет исследования:** выборка данных по пользователям оператора «Мегалайна»\n",
    "\n",
    "**Методы** которые мы применим в данном исследовании включают в себя: ознакомление и проверку данных, библиотеку \"sklearn\", обучение и проверку моделей.\n",
    "\n",
    "**Структура проекта:** Проектная работа состоит из обзора и предобработки данных, затем следует разбивка данных на выборки, иссследование моделей, проверка моделей, проверка адекватности модели и общий вывод."
   ]
  },
  {
   "cell_type": "markdown",
   "metadata": {},
   "source": [
    "## Откройте и изучите файл"
   ]
  },
  {
   "cell_type": "code",
   "execution_count": 1,
   "metadata": {},
   "outputs": [],
   "source": [
    "## Импорт библиотек\n",
    "\n",
    "import pandas as pd\n",
    "import numpy as np\n",
    "import collections, numpy\n",
    "import matplotlib.pyplot as plt\n",
    "\n",
    "from sklearn import tree\n",
    "from sklearn.dummy import DummyClassifier\n",
    "from sklearn.ensemble import RandomForestClassifier\n",
    "from sklearn.metrics import accuracy_score\n",
    "from sklearn.model_selection import GridSearchCV\n",
    "from sklearn.model_selection import train_test_split\n",
    "from sklearn.linear_model import LogisticRegression\n",
    "from sklearn.pipeline import Pipeline\n",
    "from sklearn.preprocessing import StandardScaler"
   ]
  },
  {
   "cell_type": "markdown",
   "metadata": {},
   "source": [
    "Откроем файл и запишем данные в пременную \"df\":"
   ]
  },
  {
   "cell_type": "code",
   "execution_count": 2,
   "metadata": {},
   "outputs": [],
   "source": [
    "df = pd.read_csv('/Users/Daniil/Downloads/users_behavior.csv')"
   ]
  },
  {
   "cell_type": "markdown",
   "metadata": {},
   "source": [
    "Выведем первые пять строк:"
   ]
  },
  {
   "cell_type": "code",
   "execution_count": 3,
   "metadata": {},
   "outputs": [
    {
     "data": {
      "text/html": [
       "<div>\n",
       "<style scoped>\n",
       "    .dataframe tbody tr th:only-of-type {\n",
       "        vertical-align: middle;\n",
       "    }\n",
       "\n",
       "    .dataframe tbody tr th {\n",
       "        vertical-align: top;\n",
       "    }\n",
       "\n",
       "    .dataframe thead th {\n",
       "        text-align: right;\n",
       "    }\n",
       "</style>\n",
       "<table border=\"1\" class=\"dataframe\">\n",
       "  <thead>\n",
       "    <tr style=\"text-align: right;\">\n",
       "      <th></th>\n",
       "      <th>calls</th>\n",
       "      <th>minutes</th>\n",
       "      <th>messages</th>\n",
       "      <th>mb_used</th>\n",
       "      <th>is_ultra</th>\n",
       "    </tr>\n",
       "  </thead>\n",
       "  <tbody>\n",
       "    <tr>\n",
       "      <th>0</th>\n",
       "      <td>40.0</td>\n",
       "      <td>311.90</td>\n",
       "      <td>83.0</td>\n",
       "      <td>19915.42</td>\n",
       "      <td>0</td>\n",
       "    </tr>\n",
       "    <tr>\n",
       "      <th>1</th>\n",
       "      <td>85.0</td>\n",
       "      <td>516.75</td>\n",
       "      <td>56.0</td>\n",
       "      <td>22696.96</td>\n",
       "      <td>0</td>\n",
       "    </tr>\n",
       "    <tr>\n",
       "      <th>2</th>\n",
       "      <td>77.0</td>\n",
       "      <td>467.66</td>\n",
       "      <td>86.0</td>\n",
       "      <td>21060.45</td>\n",
       "      <td>0</td>\n",
       "    </tr>\n",
       "    <tr>\n",
       "      <th>3</th>\n",
       "      <td>106.0</td>\n",
       "      <td>745.53</td>\n",
       "      <td>81.0</td>\n",
       "      <td>8437.39</td>\n",
       "      <td>1</td>\n",
       "    </tr>\n",
       "    <tr>\n",
       "      <th>4</th>\n",
       "      <td>66.0</td>\n",
       "      <td>418.74</td>\n",
       "      <td>1.0</td>\n",
       "      <td>14502.75</td>\n",
       "      <td>0</td>\n",
       "    </tr>\n",
       "  </tbody>\n",
       "</table>\n",
       "</div>"
      ],
      "text/plain": [
       "   calls  minutes  messages   mb_used  is_ultra\n",
       "0   40.0   311.90      83.0  19915.42         0\n",
       "1   85.0   516.75      56.0  22696.96         0\n",
       "2   77.0   467.66      86.0  21060.45         0\n",
       "3  106.0   745.53      81.0   8437.39         1\n",
       "4   66.0   418.74       1.0  14502.75         0"
      ]
     },
     "execution_count": 3,
     "metadata": {},
     "output_type": "execute_result"
    }
   ],
   "source": [
    "df.head()"
   ]
  },
  {
   "cell_type": "markdown",
   "metadata": {},
   "source": [
    "Ознакомимся с общей информацией о датасете:"
   ]
  },
  {
   "cell_type": "code",
   "execution_count": 4,
   "metadata": {},
   "outputs": [
    {
     "name": "stdout",
     "output_type": "stream",
     "text": [
      "<class 'pandas.core.frame.DataFrame'>\n",
      "RangeIndex: 3214 entries, 0 to 3213\n",
      "Data columns (total 5 columns):\n",
      " #   Column    Non-Null Count  Dtype  \n",
      "---  ------    --------------  -----  \n",
      " 0   calls     3214 non-null   float64\n",
      " 1   minutes   3214 non-null   float64\n",
      " 2   messages  3214 non-null   float64\n",
      " 3   mb_used   3214 non-null   float64\n",
      " 4   is_ultra  3214 non-null   int64  \n",
      "dtypes: float64(4), int64(1)\n",
      "memory usage: 125.7 KB\n"
     ]
    }
   ],
   "source": [
    "df.info()"
   ]
  },
  {
   "cell_type": "markdown",
   "metadata": {},
   "source": [
    "Нулевых и пропушенных значений не обнаружено.\n",
    "\n",
    "Преобразуем типы данных в стобцах в цельночисленные, с округлением минут и сообщений до целых чисел, мегабайт до гигабайт, и переименуем столбец 'mb_used' в 'gb_used'."
   ]
  },
  {
   "cell_type": "code",
   "execution_count": 5,
   "metadata": {},
   "outputs": [
    {
     "data": {
      "text/html": [
       "<div>\n",
       "<style scoped>\n",
       "    .dataframe tbody tr th:only-of-type {\n",
       "        vertical-align: middle;\n",
       "    }\n",
       "\n",
       "    .dataframe tbody tr th {\n",
       "        vertical-align: top;\n",
       "    }\n",
       "\n",
       "    .dataframe thead th {\n",
       "        text-align: right;\n",
       "    }\n",
       "</style>\n",
       "<table border=\"1\" class=\"dataframe\">\n",
       "  <thead>\n",
       "    <tr style=\"text-align: right;\">\n",
       "      <th></th>\n",
       "      <th>calls</th>\n",
       "      <th>minutes</th>\n",
       "      <th>messages</th>\n",
       "      <th>gb_used</th>\n",
       "      <th>is_ultra</th>\n",
       "    </tr>\n",
       "  </thead>\n",
       "  <tbody>\n",
       "    <tr>\n",
       "      <th>0</th>\n",
       "      <td>40</td>\n",
       "      <td>312</td>\n",
       "      <td>83</td>\n",
       "      <td>20</td>\n",
       "      <td>0</td>\n",
       "    </tr>\n",
       "    <tr>\n",
       "      <th>1</th>\n",
       "      <td>85</td>\n",
       "      <td>517</td>\n",
       "      <td>56</td>\n",
       "      <td>23</td>\n",
       "      <td>0</td>\n",
       "    </tr>\n",
       "    <tr>\n",
       "      <th>2</th>\n",
       "      <td>77</td>\n",
       "      <td>468</td>\n",
       "      <td>86</td>\n",
       "      <td>21</td>\n",
       "      <td>0</td>\n",
       "    </tr>\n",
       "    <tr>\n",
       "      <th>3</th>\n",
       "      <td>106</td>\n",
       "      <td>746</td>\n",
       "      <td>81</td>\n",
       "      <td>9</td>\n",
       "      <td>1</td>\n",
       "    </tr>\n",
       "    <tr>\n",
       "      <th>4</th>\n",
       "      <td>66</td>\n",
       "      <td>419</td>\n",
       "      <td>1</td>\n",
       "      <td>15</td>\n",
       "      <td>0</td>\n",
       "    </tr>\n",
       "  </tbody>\n",
       "</table>\n",
       "</div>"
      ],
      "text/plain": [
       "   calls  minutes  messages  gb_used  is_ultra\n",
       "0     40      312        83       20         0\n",
       "1     85      517        56       23         0\n",
       "2     77      468        86       21         0\n",
       "3    106      746        81        9         1\n",
       "4     66      419         1       15         0"
      ]
     },
     "execution_count": 5,
     "metadata": {},
     "output_type": "execute_result"
    }
   ],
   "source": [
    "df['calls'] = df['calls'].astype('int')\n",
    "df['minutes'] = np.ceil(df['minutes']).astype('int')\n",
    "df['messages'] = df['messages'].astype('int')\n",
    "df['mb_used'] = np.ceil(df['mb_used'] / 1024).astype('int')\n",
    "\n",
    "df.rename(columns={'mb_used': 'gb_used'}, inplace=True)\n",
    "\n",
    "df.head()"
   ]
  },
  {
   "cell_type": "markdown",
   "metadata": {},
   "source": [
    "Проверим на дубликаты:"
   ]
  },
  {
   "cell_type": "code",
   "execution_count": 6,
   "metadata": {},
   "outputs": [
    {
     "data": {
      "text/plain": [
       "2"
      ]
     },
     "execution_count": 6,
     "metadata": {},
     "output_type": "execute_result"
    }
   ],
   "source": [
    "df.duplicated().sum()"
   ]
  },
  {
   "cell_type": "markdown",
   "metadata": {},
   "source": [
    "Две строки дублированы"
   ]
  },
  {
   "cell_type": "code",
   "execution_count": 7,
   "metadata": {},
   "outputs": [
    {
     "data": {
      "text/html": [
       "<div>\n",
       "<style scoped>\n",
       "    .dataframe tbody tr th:only-of-type {\n",
       "        vertical-align: middle;\n",
       "    }\n",
       "\n",
       "    .dataframe tbody tr th {\n",
       "        vertical-align: top;\n",
       "    }\n",
       "\n",
       "    .dataframe thead th {\n",
       "        text-align: right;\n",
       "    }\n",
       "</style>\n",
       "<table border=\"1\" class=\"dataframe\">\n",
       "  <thead>\n",
       "    <tr style=\"text-align: right;\">\n",
       "      <th></th>\n",
       "      <th>calls</th>\n",
       "      <th>minutes</th>\n",
       "      <th>messages</th>\n",
       "      <th>gb_used</th>\n",
       "      <th>is_ultra</th>\n",
       "    </tr>\n",
       "  </thead>\n",
       "  <tbody>\n",
       "    <tr>\n",
       "      <th>540</th>\n",
       "      <td>2</td>\n",
       "      <td>2</td>\n",
       "      <td>0</td>\n",
       "      <td>1</td>\n",
       "      <td>1</td>\n",
       "    </tr>\n",
       "    <tr>\n",
       "      <th>1065</th>\n",
       "      <td>2</td>\n",
       "      <td>2</td>\n",
       "      <td>0</td>\n",
       "      <td>1</td>\n",
       "      <td>1</td>\n",
       "    </tr>\n",
       "    <tr>\n",
       "      <th>1821</th>\n",
       "      <td>16</td>\n",
       "      <td>102</td>\n",
       "      <td>0</td>\n",
       "      <td>3</td>\n",
       "      <td>0</td>\n",
       "    </tr>\n",
       "    <tr>\n",
       "      <th>2396</th>\n",
       "      <td>16</td>\n",
       "      <td>102</td>\n",
       "      <td>0</td>\n",
       "      <td>3</td>\n",
       "      <td>0</td>\n",
       "    </tr>\n",
       "  </tbody>\n",
       "</table>\n",
       "</div>"
      ],
      "text/plain": [
       "      calls  minutes  messages  gb_used  is_ultra\n",
       "540       2        2         0        1         1\n",
       "1065      2        2         0        1         1\n",
       "1821     16      102         0        3         0\n",
       "2396     16      102         0        3         0"
      ]
     },
     "execution_count": 7,
     "metadata": {},
     "output_type": "execute_result"
    }
   ],
   "source": [
    "df[df.duplicated(keep=False)]\n"
   ]
  },
  {
   "cell_type": "markdown",
   "metadata": {},
   "source": [
    "Удалим их"
   ]
  },
  {
   "cell_type": "code",
   "execution_count": 8,
   "metadata": {},
   "outputs": [
    {
     "data": {
      "text/plain": [
       "(3212, 5)"
      ]
     },
     "execution_count": 8,
     "metadata": {},
     "output_type": "execute_result"
    }
   ],
   "source": [
    "df = df.drop_duplicates()\n",
    "df.shape"
   ]
  },
  {
   "cell_type": "markdown",
   "metadata": {},
   "source": [
    "С значениями тоже все впорядке:"
   ]
  },
  {
   "cell_type": "code",
   "execution_count": 9,
   "metadata": {},
   "outputs": [
    {
     "data": {
      "text/html": [
       "<div>\n",
       "<style scoped>\n",
       "    .dataframe tbody tr th:only-of-type {\n",
       "        vertical-align: middle;\n",
       "    }\n",
       "\n",
       "    .dataframe tbody tr th {\n",
       "        vertical-align: top;\n",
       "    }\n",
       "\n",
       "    .dataframe thead th {\n",
       "        text-align: right;\n",
       "    }\n",
       "</style>\n",
       "<table border=\"1\" class=\"dataframe\">\n",
       "  <thead>\n",
       "    <tr style=\"text-align: right;\">\n",
       "      <th></th>\n",
       "      <th>calls</th>\n",
       "      <th>minutes</th>\n",
       "      <th>messages</th>\n",
       "      <th>gb_used</th>\n",
       "      <th>is_ultra</th>\n",
       "    </tr>\n",
       "  </thead>\n",
       "  <tbody>\n",
       "    <tr>\n",
       "      <th>count</th>\n",
       "      <td>3212.000000</td>\n",
       "      <td>3212.000000</td>\n",
       "      <td>3212.000000</td>\n",
       "      <td>3212.000000</td>\n",
       "      <td>3212.000000</td>\n",
       "    </tr>\n",
       "    <tr>\n",
       "      <th>mean</th>\n",
       "      <td>63.072540</td>\n",
       "      <td>438.939913</td>\n",
       "      <td>38.305106</td>\n",
       "      <td>17.309465</td>\n",
       "      <td>0.306351</td>\n",
       "    </tr>\n",
       "    <tr>\n",
       "      <th>std</th>\n",
       "      <td>33.218875</td>\n",
       "      <td>234.459477</td>\n",
       "      <td>36.146950</td>\n",
       "      <td>7.391705</td>\n",
       "      <td>0.461049</td>\n",
       "    </tr>\n",
       "    <tr>\n",
       "      <th>min</th>\n",
       "      <td>0.000000</td>\n",
       "      <td>0.000000</td>\n",
       "      <td>0.000000</td>\n",
       "      <td>0.000000</td>\n",
       "      <td>0.000000</td>\n",
       "    </tr>\n",
       "    <tr>\n",
       "      <th>25%</th>\n",
       "      <td>40.000000</td>\n",
       "      <td>275.000000</td>\n",
       "      <td>9.000000</td>\n",
       "      <td>13.000000</td>\n",
       "      <td>0.000000</td>\n",
       "    </tr>\n",
       "    <tr>\n",
       "      <th>50%</th>\n",
       "      <td>62.000000</td>\n",
       "      <td>431.000000</td>\n",
       "      <td>30.000000</td>\n",
       "      <td>17.000000</td>\n",
       "      <td>0.000000</td>\n",
       "    </tr>\n",
       "    <tr>\n",
       "      <th>75%</th>\n",
       "      <td>82.000000</td>\n",
       "      <td>573.000000</td>\n",
       "      <td>57.000000</td>\n",
       "      <td>21.000000</td>\n",
       "      <td>1.000000</td>\n",
       "    </tr>\n",
       "    <tr>\n",
       "      <th>max</th>\n",
       "      <td>244.000000</td>\n",
       "      <td>1633.000000</td>\n",
       "      <td>224.000000</td>\n",
       "      <td>49.000000</td>\n",
       "      <td>1.000000</td>\n",
       "    </tr>\n",
       "  </tbody>\n",
       "</table>\n",
       "</div>"
      ],
      "text/plain": [
       "             calls      minutes     messages      gb_used     is_ultra\n",
       "count  3212.000000  3212.000000  3212.000000  3212.000000  3212.000000\n",
       "mean     63.072540   438.939913    38.305106    17.309465     0.306351\n",
       "std      33.218875   234.459477    36.146950     7.391705     0.461049\n",
       "min       0.000000     0.000000     0.000000     0.000000     0.000000\n",
       "25%      40.000000   275.000000     9.000000    13.000000     0.000000\n",
       "50%      62.000000   431.000000    30.000000    17.000000     0.000000\n",
       "75%      82.000000   573.000000    57.000000    21.000000     1.000000\n",
       "max     244.000000  1633.000000   224.000000    49.000000     1.000000"
      ]
     },
     "execution_count": 9,
     "metadata": {},
     "output_type": "execute_result"
    }
   ],
   "source": [
    "df.describe()"
   ]
  },
  {
   "cell_type": "markdown",
   "metadata": {},
   "source": [
    "А вот с классами не все так радужно - в нашем датасете присутсвует разбалансированность классов:"
   ]
  },
  {
   "cell_type": "code",
   "execution_count": 10,
   "metadata": {},
   "outputs": [
    {
     "name": "stdout",
     "output_type": "stream",
     "text": [
      "Количество строк в df['is_ultra'] по классам: [2228  984]\n"
     ]
    }
   ],
   "source": [
    "print(f\"Количество строк в df['is_ultra'] по классам: {np.bincount(df['is_ultra'])}\")"
   ]
  },
  {
   "cell_type": "markdown",
   "metadata": {},
   "source": [
    "## Разбейте данные на выборки"
   ]
  },
  {
   "cell_type": "markdown",
   "metadata": {},
   "source": [
    "Выделим признаки и целевое значение:"
   ]
  },
  {
   "cell_type": "code",
   "execution_count": 11,
   "metadata": {},
   "outputs": [],
   "source": [
    "features = df.drop('is_ultra', axis=1)  # features: содержит признаки\n",
    "target = df['is_ultra']  # features: содержит целевой показатель"
   ]
  },
  {
   "cell_type": "markdown",
   "metadata": {},
   "source": [
    "Разделим наш датасет на обучающую и тестовую - выборки:"
   ]
  },
  {
   "cell_type": "code",
   "execution_count": 12,
   "metadata": {},
   "outputs": [
    {
     "name": "stdout",
     "output_type": "stream",
     "text": [
      "Количество строк в target_train по классам: [557 246]\n",
      "Количество строк в target_test по классам: [1671  738]\n"
     ]
    }
   ],
   "source": [
    "features_train, features_test, target_train, target_test = train_test_split( # 60/40\n",
    "    features, target, test_size=0.75, random_state=1234, stratify=target)\n",
    "\n",
    "print(f\"Количество строк в target_train по классам: {np.bincount(target_train)}\")\n",
    "print(f\"Количество строк в target_test по классам: {np.bincount(target_test)}\")"
   ]
  },
  {
   "cell_type": "markdown",
   "metadata": {},
   "source": [
    "## Исследуйте модели"
   ]
  },
  {
   "cell_type": "markdown",
   "metadata": {},
   "source": [
    "Мы будем обучать три модели: **LogisticRegression**, **DecisionTreeClassifier**, **RandomForestClassifier** , для определения оптимальных парметров настройки моделей - используем **GridSearchCV**:"
   ]
  },
  {
   "cell_type": "markdown",
   "metadata": {},
   "source": [
    "### LogisticRegression"
   ]
  },
  {
   "cell_type": "code",
   "execution_count": 13,
   "metadata": {
    "scrolled": false
   },
   "outputs": [
    {
     "name": "stdout",
     "output_type": "stream",
     "text": [
      "Точность модели LogisticRegression() на тренировочной выборке составила:     0.7471972049689442 с параметрами     {'logistic__C': 0.04281332398719394, 'logistic__max_iter': 400, 'logistic__penalty': 'l2', 'logistic__random_state': 12345, 'logistic__solver': 'liblinear'}\n",
      "Wall time: 1.93 s\n"
     ]
    }
   ],
   "source": [
    "%%time\n",
    "scaler = StandardScaler() # Модель StandardScaler() поместим в переменную scaler\n",
    "logistic = LogisticRegression() # Модель StandardScaler() поместим в переменную logistic\n",
    "\n",
    "pipe = Pipeline(steps=[(\"scaler\", scaler), (\"logistic\", logistic)]) # Создаем пайплайн с двумя шагами\n",
    "\n",
    " # Задаем решетку параметров пайплайна\n",
    "param_grid = {'logistic__penalty': ['l1', 'l2'],\n",
    "              'logistic__C': np.logspace(-2, 2, 20),\n",
    "              'logistic__solver': ['liblinear'],\n",
    "              'logistic__max_iter': list(range(400, 800, 100)),\n",
    "              'logistic__random_state':[12345]}\n",
    "\n",
    " # Создаем нашу модель и передаем ей пайплайн, решетку параметров, также используем кросс-валидацию результата\n",
    "grid_search_cv_lr = GridSearchCV(pipe, param_grid, cv=5)\n",
    "\n",
    " # Обучаем модель на тренировочной части выборки:\n",
    "grid_search_cv_lr.fit(features_train, target_train)\n",
    "\n",
    "best_params_lr = grid_search_cv_lr.best_params_ # Лучшие параметры\n",
    "best_lr = grid_search_cv_lr.best_estimator_ # Лучшая модель\n",
    "best_lr_score = grid_search_cv_lr.best_score_ # Лучший результат\n",
    "\n",
    "print(f'Точность модели {logistic} на тренировочной выборке составила: \\\n",
    "    {best_lr_score} с параметрами \\\n",
    "    {best_params_lr}')"
   ]
  },
  {
   "cell_type": "markdown",
   "metadata": {},
   "source": [
    "### DecisionTreeClassifier"
   ]
  },
  {
   "cell_type": "code",
   "execution_count": 14,
   "metadata": {},
   "outputs": [
    {
     "name": "stdout",
     "output_type": "stream",
     "text": [
      "Точность модели DecisionTreeClassifier() на тренировочной выборке составила:     0.7820729813664596 с параметрами     {'dtc__criterion': 'gini', 'dtc__max_depth': 8, 'dtc__min_samples_leaf': 2, 'dtc__min_samples_split': 20, 'dtc__random_state': 12345, 'dtc__splitter': 'random'}\n",
      "Wall time: 775 ms\n"
     ]
    }
   ],
   "source": [
    "%%time\n",
    "dtc = tree.DecisionTreeClassifier() # Модель DecisionTreeClassifier() поместим в переменную dtc\n",
    "\n",
    "pipe = Pipeline(steps=[(\"scaler\", scaler), (\"dtc\", dtc)]) # Создаем пайплайн с двумя шагами\n",
    "\n",
    " # Задаем решетку параметров пайплайна\n",
    "param_grid =  {'dtc__max_depth': list(range(8, 10)),\n",
    "              'dtc__min_samples_split': list(range(20, 26)),\n",
    "              'dtc__min_samples_leaf': list(range(1, 3)),\n",
    "              'dtc__criterion': ['entropy', 'gini'],\n",
    "              'dtc__splitter': ['random'],\n",
    "             'dtc__random_state':[12345]}\n",
    "\n",
    "\n",
    " # Создаем нашу модель и передаем ей пайплайн, решетку параметров, также используем кросс-валидацию результата    \n",
    "grid_search_cv_dtc = GridSearchCV(pipe, param_grid, n_jobs=8, cv=5)\n",
    "\n",
    " # Обучаем модель на тренировочной части выборки:\n",
    "grid_search_cv_dtc.fit(features_train, target_train)\n",
    "\n",
    "best_params_dtc = grid_search_cv_dtc.best_params_ # Лучшие параметры\n",
    "best_dtc = grid_search_cv_dtc.best_estimator_ # Лучшая модель\n",
    "best_dtc_score = grid_search_cv_dtc.best_score_ # Лучший результат\n",
    "\n",
    "print(f'Точность модели {dtc} на тренировочной выборке составила: \\\n",
    "    {best_dtc_score} с параметрами \\\n",
    "    {best_params_dtc}')"
   ]
  },
  {
   "cell_type": "markdown",
   "metadata": {},
   "source": [
    "### RandomForestClassifier"
   ]
  },
  {
   "cell_type": "code",
   "execution_count": 15,
   "metadata": {},
   "outputs": [
    {
     "name": "stdout",
     "output_type": "stream",
     "text": [
      "Точность модели RandomForestClassifier() на тренировочной выборке составила:     0.8057065217391305 с параметрами     {'rfc__bootstrap': False, 'rfc__criterion': 'entropy', 'rfc__max_depth': 6, 'rfc__n_estimators': 11, 'rfc__random_state': 12345}\n",
      "Wall time: 654 ms\n"
     ]
    }
   ],
   "source": [
    "%%time\n",
    "\n",
    "rfc = RandomForestClassifier() # Модель RandomForestClassifier() поместим в переменную rfc\n",
    "\n",
    "pipe = Pipeline(steps=[(\"scaler\", scaler), (\"rfc\", rfc)]) # Создаем пайплайн с двумя шагами\n",
    "\n",
    " # Задаем решетку параметров пайплайна\n",
    "param_grid =  {'rfc__n_estimators': list(range(10, 15, 1)), \n",
    "              'rfc__max_depth': list(range(6, 10)), \n",
    "              'rfc__bootstrap': [True, False], \n",
    "              'rfc__criterion': ['gini', 'entropy'],\n",
    "             'rfc__random_state':[12345]}\n",
    "\n",
    "\n",
    " # Создаем нашу модель и передаем ей пайплайн, решетку параметров, также используем кросс-валидацию результата    \n",
    "grid_search_cv_rfc = GridSearchCV(pipe, param_grid, n_jobs=8, cv=5)\n",
    "\n",
    " # Обучаем модель на тренировочной части выборки:\n",
    "grid_search_cv_rfc.fit(features_train, target_train)\n",
    "\n",
    "best_params_rfc = grid_search_cv_rfc.best_params_ # Лучшие параметры\n",
    "best_rfc = grid_search_cv_rfc.best_estimator_ # Лучшая модель\n",
    "best_rfc_score = grid_search_cv_rfc.best_score_ # Лучший результат\n",
    "print(f'Точность модели {rfc} на тренировочной выборке составила: \\\n",
    "    {best_rfc_score} с параметрами \\\n",
    "    {best_params_rfc}')"
   ]
  },
  {
   "cell_type": "markdown",
   "metadata": {},
   "source": [
    "## Проверьте модель на тестовой выборке"
   ]
  },
  {
   "cell_type": "markdown",
   "metadata": {},
   "source": [
    "Проверим ранее обученные модели на тестовой выборке, имя модели и результаты тестирования поместим в словарь model_dict для дальнейшего сравнения точностей моделей:"
   ]
  },
  {
   "cell_type": "code",
   "execution_count": 16,
   "metadata": {},
   "outputs": [
    {
     "name": "stdout",
     "output_type": "stream",
     "text": [
      "Точность модели Pipeline(steps=[('scaler', StandardScaler()),\n",
      "                ('rfc',\n",
      "                 RandomForestClassifier(bootstrap=False, criterion='entropy',\n",
      "                                        max_depth=6, n_estimators=11,\n",
      "                                        random_state=12345))]) на тестовой выборке составила: 79.45\n"
     ]
    }
   ],
   "source": [
    "predictions_rfc = best_rfc.predict(features_test) # прогноз наилучшей модели RandomForestClassifier()\n",
    "accuracy_rfc_score = accuracy_score(target_test, predictions_rfc) # Точность\n",
    "print(f'Точность модели {best_rfc} на тестовой выборке составила: {round(accuracy_rfc_score*100, 2)}')"
   ]
  },
  {
   "cell_type": "markdown",
   "metadata": {},
   "source": [
    "Модель **RandomForestClassifier** показала результат 79.45 % на тестовой выборке"
   ]
  },
  {
   "cell_type": "markdown",
   "metadata": {},
   "source": [
    "## (бонус) Проверьте модели на адекватность"
   ]
  },
  {
   "cell_type": "code",
   "execution_count": 17,
   "metadata": {},
   "outputs": [
    {
     "name": "stdout",
     "output_type": "stream",
     "text": [
      "Точность рандомной модели на тестовой выборке составила: 49.11%\n",
      "Классы на тестовой выборке модели DummyClassifier() Counter({1: 1232, 0: 1177})\n",
      "Классы на тестовой выборке модели RandomForestClassifier() Counter({0: 1988, 1: 421})\n",
      "Классы тестовой выборки Counter({0: 557, 1: 246})\n"
     ]
    }
   ],
   "source": [
    "model_dc = DummyClassifier(strategy='uniform', random_state=0)\n",
    "model_dc.fit(features_train, target_train)\n",
    "predictions_model_dc = model_dc.predict(features_test)\n",
    "model_dc_score = accuracy_score(target_test, predictions_model_dc)\n",
    "print(f'Точность рандомной модели на тестовой выборке составила: {round(model_dc_score*100,2)}%')\n",
    "\n",
    "print(f'Классы на тестовой выборке модели DummyClassifier() {collections.Counter(predictions_model_dc)}')  \n",
    "print(f'Классы на тестовой выборке модели RandomForestClassifier() {collections.Counter(predictions_rfc)}')  \n",
    "print(f'Классы тестовой выборки {collections.Counter(target_train)}')  "
   ]
  },
  {
   "cell_type": "markdown",
   "metadata": {},
   "source": [
    "DummyClassifier() он же фиктивный классификатор, в нашем случае является маркером неадекватности модели, в выборке данных у нас присутсвует дисбаланс классов - это второй индикатор адекватности т.к. в прогнозе адекватной можели также должен присутствовать дисбаланс. У модели RandomForestClassifier() как раз этот дисбаланс виден в прогнозе, поэтому наша модель вполне адекватна."
   ]
  },
  {
   "cell_type": "markdown",
   "metadata": {},
   "source": [
    "**Общий вывод:** Мы ознакомились с датасетом, затем привели данные к нужным типам и округлили их. Разбили наш датасет на обучающую, валидационную и тестовую выборки. \n",
    "\n",
    "Мы использовали в нашем проекте три модели: **LogisticRegression**, **DecisionTreeClassifier**, **RandomForestClassifier**, применив метод перебора параметров Pipeline + GridSearchCV нам удалось достичь точность в: **74.27, 77.9, 80.5** процентов на валидационной выборке соответственно. \n",
    "\n",
    "Модель **RandomForestClassifier**  параметрами:\n",
    "\n",
    "bootstrap=False \n",
    "\n",
    "criterion='entropy'\n",
    "\n",
    "max_depth=6,\n",
    "\n",
    "n_estimators=11\n",
    "\n",
    "random_state=12345}\n",
    "\n",
    "показала результат 79.45 % на тестовой выборке\n",
    "\n",
    "DummyClassifier() он же фиктивный классификатор, в нашем случае является маркером неадекватности модели, в выборке данных у нас присутсвует дисбаланс классов - это второй индикатор адекватности т.к. в прогнозе адекватной можели также должен присутствовать дисбаланс. У модели RandomForestClassifier() как раз этот дисбаланс виден в прогнозе, поэтому наша модель вполне адекватна."
   ]
  }
 ],
 "metadata": {
  "ExecuteTimeLog": [
   {
    "duration": 401,
    "start_time": "2022-08-28T02:01:48.587Z"
   },
   {
    "duration": 56,
    "start_time": "2022-08-28T02:04:17.321Z"
   },
   {
    "duration": 53,
    "start_time": "2022-08-28T02:04:20.066Z"
   },
   {
    "duration": 245,
    "start_time": "2022-08-28T02:04:38.880Z"
   },
   {
    "duration": 87,
    "start_time": "2022-08-28T02:05:22.498Z"
   },
   {
    "duration": 15,
    "start_time": "2022-08-28T02:05:25.154Z"
   },
   {
    "duration": 19,
    "start_time": "2022-08-28T02:06:02.122Z"
   },
   {
    "duration": 12,
    "start_time": "2022-08-28T02:07:00.030Z"
   },
   {
    "duration": 17,
    "start_time": "2022-08-28T02:07:21.205Z"
   },
   {
    "duration": 20,
    "start_time": "2022-08-28T02:08:26.583Z"
   },
   {
    "duration": 23,
    "start_time": "2022-08-28T02:12:08.832Z"
   },
   {
    "duration": 20,
    "start_time": "2022-08-28T02:12:14.533Z"
   },
   {
    "duration": 12,
    "start_time": "2022-08-28T02:12:48.124Z"
   },
   {
    "duration": 26,
    "start_time": "2022-08-28T02:13:30.999Z"
   },
   {
    "duration": 23,
    "start_time": "2022-08-28T02:13:40.413Z"
   },
   {
    "duration": 841,
    "start_time": "2022-08-28T02:16:31.979Z"
   },
   {
    "duration": 2,
    "start_time": "2022-08-28T02:17:12.849Z"
   },
   {
    "duration": 66,
    "start_time": "2022-08-28T02:18:29.456Z"
   },
   {
    "duration": 4,
    "start_time": "2022-08-28T02:18:40.589Z"
   },
   {
    "duration": 6,
    "start_time": "2022-08-28T02:18:44.343Z"
   },
   {
    "duration": 3,
    "start_time": "2022-08-28T02:28:27.142Z"
   },
   {
    "duration": 7,
    "start_time": "2022-08-28T02:32:00.959Z"
   },
   {
    "duration": 35,
    "start_time": "2022-08-28T02:32:02.996Z"
   },
   {
    "duration": 18,
    "start_time": "2022-08-28T02:35:31.772Z"
   },
   {
    "duration": 19,
    "start_time": "2022-08-28T02:35:39.803Z"
   },
   {
    "duration": 8,
    "start_time": "2022-08-28T02:36:41.721Z"
   },
   {
    "duration": 3,
    "start_time": "2022-08-28T02:37:01.297Z"
   },
   {
    "duration": 8,
    "start_time": "2022-08-28T02:37:08.052Z"
   },
   {
    "duration": 9,
    "start_time": "2022-08-28T02:37:41.719Z"
   },
   {
    "duration": 10,
    "start_time": "2022-08-28T02:37:53.521Z"
   },
   {
    "duration": 6,
    "start_time": "2022-08-28T02:38:15.315Z"
   },
   {
    "duration": 23,
    "start_time": "2022-08-28T02:38:17.740Z"
   },
   {
    "duration": 8,
    "start_time": "2022-08-28T02:38:46.804Z"
   },
   {
    "duration": 10,
    "start_time": "2022-08-28T02:39:01.150Z"
   },
   {
    "duration": 6,
    "start_time": "2022-08-28T02:39:05.205Z"
   },
   {
    "duration": 16,
    "start_time": "2022-08-28T02:39:07.835Z"
   },
   {
    "duration": 9,
    "start_time": "2022-08-28T02:39:26.642Z"
   },
   {
    "duration": 10,
    "start_time": "2022-08-28T02:39:58.124Z"
   },
   {
    "duration": 6,
    "start_time": "2022-08-28T02:40:01.722Z"
   },
   {
    "duration": 15,
    "start_time": "2022-08-28T02:40:04.021Z"
   },
   {
    "duration": 14,
    "start_time": "2022-08-28T02:40:46.998Z"
   },
   {
    "duration": 10,
    "start_time": "2022-08-28T02:41:04.820Z"
   },
   {
    "duration": 7,
    "start_time": "2022-08-28T02:41:09.723Z"
   },
   {
    "duration": 12,
    "start_time": "2022-08-28T02:41:10.748Z"
   },
   {
    "duration": 1336,
    "start_time": "2022-08-28T02:41:28.346Z"
   },
   {
    "duration": 1387,
    "start_time": "2022-08-28T02:41:35.048Z"
   },
   {
    "duration": 0,
    "start_time": "2022-08-28T02:41:36.437Z"
   },
   {
    "duration": 1006,
    "start_time": "2022-08-28T02:42:17.233Z"
   },
   {
    "duration": 36,
    "start_time": "2022-08-28T02:42:18.240Z"
   },
   {
    "duration": 15,
    "start_time": "2022-08-28T02:42:18.278Z"
   },
   {
    "duration": 9,
    "start_time": "2022-08-28T02:42:18.295Z"
   },
   {
    "duration": 35,
    "start_time": "2022-08-28T02:42:18.305Z"
   },
   {
    "duration": 19,
    "start_time": "2022-08-28T02:42:18.342Z"
   },
   {
    "duration": 18,
    "start_time": "2022-08-28T02:42:18.363Z"
   },
   {
    "duration": 10,
    "start_time": "2022-08-28T02:42:18.383Z"
   },
   {
    "duration": 21,
    "start_time": "2022-08-28T02:42:18.394Z"
   },
   {
    "duration": 24,
    "start_time": "2022-08-28T02:42:18.416Z"
   },
   {
    "duration": 1103,
    "start_time": "2022-08-28T02:42:31.229Z"
   },
   {
    "duration": 32,
    "start_time": "2022-08-28T02:42:32.335Z"
   },
   {
    "duration": 19,
    "start_time": "2022-08-28T02:42:32.368Z"
   },
   {
    "duration": 12,
    "start_time": "2022-08-28T02:42:32.389Z"
   },
   {
    "duration": 27,
    "start_time": "2022-08-28T02:42:32.403Z"
   },
   {
    "duration": 25,
    "start_time": "2022-08-28T02:42:32.432Z"
   },
   {
    "duration": 23,
    "start_time": "2022-08-28T02:42:32.459Z"
   },
   {
    "duration": 44,
    "start_time": "2022-08-28T02:42:32.484Z"
   },
   {
    "duration": 6,
    "start_time": "2022-08-28T02:42:32.530Z"
   },
   {
    "duration": 16,
    "start_time": "2022-08-28T02:42:32.538Z"
   },
   {
    "duration": 7,
    "start_time": "2022-08-28T02:49:52.333Z"
   },
   {
    "duration": 13,
    "start_time": "2022-08-28T02:49:53.582Z"
   },
   {
    "duration": 5,
    "start_time": "2022-08-28T02:49:58.641Z"
   },
   {
    "duration": 12,
    "start_time": "2022-08-28T02:49:59.670Z"
   },
   {
    "duration": 6,
    "start_time": "2022-08-28T02:50:03.355Z"
   },
   {
    "duration": 13,
    "start_time": "2022-08-28T02:50:04.373Z"
   },
   {
    "duration": 5,
    "start_time": "2022-08-28T02:50:10.043Z"
   },
   {
    "duration": 15,
    "start_time": "2022-08-28T02:50:11.032Z"
   },
   {
    "duration": 6,
    "start_time": "2022-08-28T02:50:15.494Z"
   },
   {
    "duration": 15,
    "start_time": "2022-08-28T02:50:16.461Z"
   },
   {
    "duration": 5,
    "start_time": "2022-08-28T02:50:20.714Z"
   },
   {
    "duration": 13,
    "start_time": "2022-08-28T02:50:21.726Z"
   },
   {
    "duration": 6,
    "start_time": "2022-08-28T02:50:25.591Z"
   },
   {
    "duration": 14,
    "start_time": "2022-08-28T02:50:26.731Z"
   },
   {
    "duration": 16,
    "start_time": "2022-08-28T02:50:41.152Z"
   },
   {
    "duration": 15,
    "start_time": "2022-08-28T02:50:45.388Z"
   },
   {
    "duration": 16,
    "start_time": "2022-08-28T02:50:48.021Z"
   },
   {
    "duration": 18,
    "start_time": "2022-08-28T02:50:50.632Z"
   },
   {
    "duration": 85,
    "start_time": "2022-08-28T02:54:44.675Z"
   },
   {
    "duration": 955,
    "start_time": "2022-08-28T03:01:02.820Z"
   },
   {
    "duration": 30,
    "start_time": "2022-08-28T03:01:03.777Z"
   },
   {
    "duration": 14,
    "start_time": "2022-08-28T03:01:03.808Z"
   },
   {
    "duration": 9,
    "start_time": "2022-08-28T03:01:03.823Z"
   },
   {
    "duration": 21,
    "start_time": "2022-08-28T03:01:03.833Z"
   },
   {
    "duration": 19,
    "start_time": "2022-08-28T03:01:03.855Z"
   },
   {
    "duration": 41,
    "start_time": "2022-08-28T03:01:03.875Z"
   },
   {
    "duration": 10,
    "start_time": "2022-08-28T03:01:03.917Z"
   },
   {
    "duration": 6,
    "start_time": "2022-08-28T03:01:03.928Z"
   },
   {
    "duration": 852,
    "start_time": "2022-08-28T03:01:03.936Z"
   },
   {
    "duration": 1039,
    "start_time": "2022-08-28T03:02:31.136Z"
   },
   {
    "duration": 1056,
    "start_time": "2022-08-28T03:03:03.953Z"
   },
   {
    "duration": 848,
    "start_time": "2022-08-28T03:03:17.099Z"
   },
   {
    "duration": 927,
    "start_time": "2022-08-28T03:03:24.312Z"
   },
   {
    "duration": 52,
    "start_time": "2022-08-28T03:03:37.940Z"
   },
   {
    "duration": 87,
    "start_time": "2022-08-28T03:06:02.002Z"
   },
   {
    "duration": 10,
    "start_time": "2022-08-28T03:06:56.524Z"
   },
   {
    "duration": 10,
    "start_time": "2022-08-28T03:07:37.090Z"
   },
   {
    "duration": 1004,
    "start_time": "2022-08-28T03:15:53.973Z"
   },
   {
    "duration": 33,
    "start_time": "2022-08-28T03:15:54.978Z"
   },
   {
    "duration": 14,
    "start_time": "2022-08-28T03:15:55.013Z"
   },
   {
    "duration": 10,
    "start_time": "2022-08-28T03:15:55.028Z"
   },
   {
    "duration": 21,
    "start_time": "2022-08-28T03:15:55.040Z"
   },
   {
    "duration": 20,
    "start_time": "2022-08-28T03:15:55.062Z"
   },
   {
    "duration": 39,
    "start_time": "2022-08-28T03:15:55.084Z"
   },
   {
    "duration": 10,
    "start_time": "2022-08-28T03:15:55.125Z"
   },
   {
    "duration": 4,
    "start_time": "2022-08-28T03:15:55.137Z"
   },
   {
    "duration": 71,
    "start_time": "2022-08-28T03:15:55.142Z"
   },
   {
    "duration": 530501,
    "start_time": "2022-08-28T03:15:55.214Z"
   },
   {
    "duration": 0,
    "start_time": "2022-08-28T03:24:45.716Z"
   },
   {
    "duration": 10,
    "start_time": "2022-08-28T05:36:27.047Z"
   },
   {
    "duration": 1350,
    "start_time": "2022-08-28T05:36:38.935Z"
   },
   {
    "duration": 1018,
    "start_time": "2022-08-28T05:36:45.501Z"
   },
   {
    "duration": 32,
    "start_time": "2022-08-28T05:36:46.521Z"
   },
   {
    "duration": 14,
    "start_time": "2022-08-28T05:36:46.555Z"
   },
   {
    "duration": 31,
    "start_time": "2022-08-28T05:36:46.570Z"
   },
   {
    "duration": 28,
    "start_time": "2022-08-28T05:36:46.603Z"
   },
   {
    "duration": 27,
    "start_time": "2022-08-28T05:36:46.633Z"
   },
   {
    "duration": 9,
    "start_time": "2022-08-28T05:36:46.662Z"
   },
   {
    "duration": 22,
    "start_time": "2022-08-28T05:36:46.672Z"
   },
   {
    "duration": 57,
    "start_time": "2022-08-28T05:36:46.696Z"
   },
   {
    "duration": 932,
    "start_time": "2022-08-28T05:38:15.950Z"
   },
   {
    "duration": 33,
    "start_time": "2022-08-28T05:38:16.884Z"
   },
   {
    "duration": 15,
    "start_time": "2022-08-28T05:38:16.918Z"
   },
   {
    "duration": 10,
    "start_time": "2022-08-28T05:38:16.935Z"
   },
   {
    "duration": 21,
    "start_time": "2022-08-28T05:38:16.947Z"
   },
   {
    "duration": 20,
    "start_time": "2022-08-28T05:38:16.969Z"
   },
   {
    "duration": 11,
    "start_time": "2022-08-28T05:38:17.005Z"
   },
   {
    "duration": 6,
    "start_time": "2022-08-28T05:38:17.017Z"
   },
   {
    "duration": 57,
    "start_time": "2022-08-28T05:38:17.024Z"
   },
   {
    "duration": 1006,
    "start_time": "2022-08-28T05:41:58.982Z"
   },
   {
    "duration": 33,
    "start_time": "2022-08-28T05:41:59.989Z"
   },
   {
    "duration": 17,
    "start_time": "2022-08-28T05:42:00.024Z"
   },
   {
    "duration": 12,
    "start_time": "2022-08-28T05:42:00.042Z"
   },
   {
    "duration": 22,
    "start_time": "2022-08-28T05:42:00.056Z"
   },
   {
    "duration": 20,
    "start_time": "2022-08-28T05:42:00.079Z"
   },
   {
    "duration": 3,
    "start_time": "2022-08-28T05:42:00.101Z"
   },
   {
    "duration": 61,
    "start_time": "2022-08-28T05:42:00.105Z"
   },
   {
    "duration": 930,
    "start_time": "2022-08-28T05:46:21.942Z"
   },
   {
    "duration": 31,
    "start_time": "2022-08-28T05:46:22.874Z"
   },
   {
    "duration": 13,
    "start_time": "2022-08-28T05:46:22.907Z"
   },
   {
    "duration": 9,
    "start_time": "2022-08-28T05:46:22.922Z"
   },
   {
    "duration": 11,
    "start_time": "2022-08-28T05:46:22.933Z"
   },
   {
    "duration": 5,
    "start_time": "2022-08-28T05:46:22.945Z"
   },
   {
    "duration": 21,
    "start_time": "2022-08-28T05:46:22.951Z"
   },
   {
    "duration": 3,
    "start_time": "2022-08-28T05:46:22.973Z"
   },
   {
    "duration": 78,
    "start_time": "2022-08-28T05:46:22.977Z"
   },
   {
    "duration": 1080,
    "start_time": "2022-08-28T05:52:29.783Z"
   },
   {
    "duration": 33,
    "start_time": "2022-08-28T05:52:30.864Z"
   },
   {
    "duration": 16,
    "start_time": "2022-08-28T05:52:30.899Z"
   },
   {
    "duration": 11,
    "start_time": "2022-08-28T05:52:30.917Z"
   },
   {
    "duration": 16,
    "start_time": "2022-08-28T05:52:30.930Z"
   },
   {
    "duration": 7,
    "start_time": "2022-08-28T05:52:30.947Z"
   },
   {
    "duration": 11,
    "start_time": "2022-08-28T05:52:30.956Z"
   },
   {
    "duration": 45,
    "start_time": "2022-08-28T05:52:30.968Z"
   },
   {
    "duration": 3,
    "start_time": "2022-08-28T05:52:31.015Z"
   },
   {
    "duration": 63,
    "start_time": "2022-08-28T05:52:31.020Z"
   },
   {
    "duration": 972,
    "start_time": "2022-08-28T05:59:05.339Z"
   },
   {
    "duration": 30,
    "start_time": "2022-08-28T05:59:06.313Z"
   },
   {
    "duration": 15,
    "start_time": "2022-08-28T05:59:06.344Z"
   },
   {
    "duration": 11,
    "start_time": "2022-08-28T05:59:06.361Z"
   },
   {
    "duration": 12,
    "start_time": "2022-08-28T05:59:06.374Z"
   },
   {
    "duration": 4,
    "start_time": "2022-08-28T05:59:06.388Z"
   },
   {
    "duration": 12,
    "start_time": "2022-08-28T05:59:06.394Z"
   },
   {
    "duration": 9,
    "start_time": "2022-08-28T05:59:06.407Z"
   },
   {
    "duration": 20,
    "start_time": "2022-08-28T05:59:06.417Z"
   },
   {
    "duration": 3,
    "start_time": "2022-08-28T05:59:06.438Z"
   },
   {
    "duration": 78,
    "start_time": "2022-08-28T05:59:06.442Z"
   },
   {
    "duration": 947,
    "start_time": "2022-08-28T06:01:31.256Z"
   },
   {
    "duration": 32,
    "start_time": "2022-08-28T06:01:32.206Z"
   },
   {
    "duration": 16,
    "start_time": "2022-08-28T06:01:32.240Z"
   },
   {
    "duration": 11,
    "start_time": "2022-08-28T06:01:32.257Z"
   },
   {
    "duration": 13,
    "start_time": "2022-08-28T06:01:32.270Z"
   },
   {
    "duration": 6,
    "start_time": "2022-08-28T06:01:32.284Z"
   },
   {
    "duration": 10,
    "start_time": "2022-08-28T06:01:32.291Z"
   },
   {
    "duration": 11,
    "start_time": "2022-08-28T06:01:32.306Z"
   },
   {
    "duration": 108,
    "start_time": "2022-08-28T06:01:32.318Z"
   },
   {
    "duration": 0,
    "start_time": "2022-08-28T06:01:32.428Z"
   },
   {
    "duration": 0,
    "start_time": "2022-08-28T06:01:32.429Z"
   },
   {
    "duration": 0,
    "start_time": "2022-08-28T06:01:32.430Z"
   },
   {
    "duration": 0,
    "start_time": "2022-08-28T06:01:32.431Z"
   },
   {
    "duration": 0,
    "start_time": "2022-08-28T06:01:32.432Z"
   },
   {
    "duration": 10,
    "start_time": "2022-08-28T06:01:43.214Z"
   },
   {
    "duration": 10,
    "start_time": "2022-08-28T06:01:59.997Z"
   },
   {
    "duration": 50,
    "start_time": "2022-08-28T06:02:16.026Z"
   },
   {
    "duration": 8,
    "start_time": "2022-08-28T06:02:22.632Z"
   },
   {
    "duration": 8,
    "start_time": "2022-08-28T06:02:43.175Z"
   },
   {
    "duration": 8,
    "start_time": "2022-08-28T06:02:58.574Z"
   },
   {
    "duration": 9,
    "start_time": "2022-08-28T06:03:53.057Z"
   },
   {
    "duration": 12,
    "start_time": "2022-08-28T06:04:09.538Z"
   },
   {
    "duration": 21,
    "start_time": "2022-08-28T06:04:18.160Z"
   },
   {
    "duration": 975,
    "start_time": "2022-08-28T06:14:48.293Z"
   },
   {
    "duration": 31,
    "start_time": "2022-08-28T06:14:49.269Z"
   },
   {
    "duration": 14,
    "start_time": "2022-08-28T06:14:49.301Z"
   },
   {
    "duration": 9,
    "start_time": "2022-08-28T06:14:49.317Z"
   },
   {
    "duration": 14,
    "start_time": "2022-08-28T06:14:49.328Z"
   },
   {
    "duration": 6,
    "start_time": "2022-08-28T06:14:49.343Z"
   },
   {
    "duration": 10,
    "start_time": "2022-08-28T06:14:49.350Z"
   },
   {
    "duration": 8,
    "start_time": "2022-08-28T06:14:49.362Z"
   },
   {
    "duration": 41,
    "start_time": "2022-08-28T06:14:49.372Z"
   },
   {
    "duration": 3,
    "start_time": "2022-08-28T06:14:49.414Z"
   },
   {
    "duration": 10,
    "start_time": "2022-08-28T06:14:49.419Z"
   },
   {
    "duration": 2280,
    "start_time": "2022-08-28T06:14:49.430Z"
   },
   {
    "duration": 2286,
    "start_time": "2022-08-28T06:15:59.123Z"
   },
   {
    "duration": 2418,
    "start_time": "2022-08-28T06:16:29.526Z"
   },
   {
    "duration": 2334,
    "start_time": "2022-08-28T06:17:50.109Z"
   },
   {
    "duration": 2110,
    "start_time": "2022-08-28T06:18:01.019Z"
   },
   {
    "duration": 2181,
    "start_time": "2022-08-28T06:19:00.076Z"
   },
   {
    "duration": 9,
    "start_time": "2022-08-28T06:19:24.906Z"
   },
   {
    "duration": 966,
    "start_time": "2022-08-28T06:19:39.242Z"
   },
   {
    "duration": 31,
    "start_time": "2022-08-28T06:19:40.210Z"
   },
   {
    "duration": 16,
    "start_time": "2022-08-28T06:19:40.242Z"
   },
   {
    "duration": 10,
    "start_time": "2022-08-28T06:19:40.260Z"
   },
   {
    "duration": 13,
    "start_time": "2022-08-28T06:19:40.271Z"
   },
   {
    "duration": 5,
    "start_time": "2022-08-28T06:19:40.285Z"
   },
   {
    "duration": 8,
    "start_time": "2022-08-28T06:19:40.292Z"
   },
   {
    "duration": 12,
    "start_time": "2022-08-28T06:19:40.306Z"
   },
   {
    "duration": 21,
    "start_time": "2022-08-28T06:19:40.319Z"
   },
   {
    "duration": 3,
    "start_time": "2022-08-28T06:19:40.342Z"
   },
   {
    "duration": 6,
    "start_time": "2022-08-28T06:19:40.346Z"
   },
   {
    "duration": 2161,
    "start_time": "2022-08-28T06:19:40.354Z"
   },
   {
    "duration": 345621,
    "start_time": "2022-08-28T06:19:42.517Z"
   },
   {
    "duration": 5,
    "start_time": "2022-08-28T06:26:32.626Z"
   },
   {
    "duration": 4,
    "start_time": "2022-08-28T06:27:47.966Z"
   },
   {
    "duration": 4,
    "start_time": "2022-08-28T06:27:59.073Z"
   },
   {
    "duration": 52,
    "start_time": "2022-08-28T06:59:14.257Z"
   },
   {
    "duration": 5,
    "start_time": "2022-08-28T07:03:43.252Z"
   },
   {
    "duration": 10,
    "start_time": "2022-08-28T07:03:48.032Z"
   },
   {
    "duration": 9,
    "start_time": "2022-08-28T07:03:57.747Z"
   },
   {
    "duration": 6,
    "start_time": "2022-08-28T07:04:05.042Z"
   },
   {
    "duration": 6,
    "start_time": "2022-08-28T07:05:29.262Z"
   },
   {
    "duration": 6,
    "start_time": "2022-08-28T07:06:00.905Z"
   },
   {
    "duration": 8,
    "start_time": "2022-08-28T07:06:09.174Z"
   },
   {
    "duration": 9,
    "start_time": "2022-08-28T07:06:35.380Z"
   },
   {
    "duration": 8,
    "start_time": "2022-08-28T07:06:44.678Z"
   },
   {
    "duration": 6,
    "start_time": "2022-08-28T07:07:08.966Z"
   },
   {
    "duration": 7,
    "start_time": "2022-08-28T07:07:16.681Z"
   },
   {
    "duration": 7,
    "start_time": "2022-08-28T07:07:33.539Z"
   },
   {
    "duration": 1436,
    "start_time": "2022-08-28T07:09:15.361Z"
   },
   {
    "duration": 1456,
    "start_time": "2022-08-28T07:09:52.473Z"
   },
   {
    "duration": 1424,
    "start_time": "2022-08-28T07:09:58.985Z"
   },
   {
    "duration": 1429,
    "start_time": "2022-08-28T07:11:19.838Z"
   },
   {
    "duration": 14252,
    "start_time": "2022-08-28T07:13:16.148Z"
   },
   {
    "duration": 294597,
    "start_time": "2022-08-28T07:14:59.401Z"
   },
   {
    "duration": 95,
    "start_time": "2022-08-28T07:19:54.012Z"
   },
   {
    "duration": 71720,
    "start_time": "2022-08-28T07:22:05.846Z"
   },
   {
    "duration": 5,
    "start_time": "2022-08-28T07:30:26.788Z"
   },
   {
    "duration": 7,
    "start_time": "2022-08-28T07:30:32.684Z"
   },
   {
    "duration": 6,
    "start_time": "2022-08-28T07:31:33.526Z"
   },
   {
    "duration": 36,
    "start_time": "2022-08-28T07:31:35.823Z"
   },
   {
    "duration": 8,
    "start_time": "2022-08-28T07:35:06.194Z"
   },
   {
    "duration": 8,
    "start_time": "2022-08-28T07:36:23.397Z"
   },
   {
    "duration": 398,
    "start_time": "2022-08-28T07:36:34.613Z"
   },
   {
    "duration": 8,
    "start_time": "2022-08-28T07:36:43.663Z"
   },
   {
    "duration": 87,
    "start_time": "2022-08-28T07:36:53.040Z"
   },
   {
    "duration": 95,
    "start_time": "2022-08-28T07:37:30.766Z"
   },
   {
    "duration": 80,
    "start_time": "2022-08-28T07:37:38.566Z"
   },
   {
    "duration": 101,
    "start_time": "2022-08-28T07:38:09.596Z"
   },
   {
    "duration": 179,
    "start_time": "2022-08-28T07:46:05.318Z"
   },
   {
    "duration": 213,
    "start_time": "2022-08-28T07:46:35.200Z"
   },
   {
    "duration": 96,
    "start_time": "2022-08-28T07:47:18.497Z"
   },
   {
    "duration": 82,
    "start_time": "2022-08-28T07:47:36.065Z"
   },
   {
    "duration": 117,
    "start_time": "2022-08-28T07:48:03.535Z"
   },
   {
    "duration": 123,
    "start_time": "2022-08-28T07:48:12.643Z"
   },
   {
    "duration": 124,
    "start_time": "2022-08-28T07:48:59.217Z"
   },
   {
    "duration": 129,
    "start_time": "2022-08-28T07:49:21.954Z"
   },
   {
    "duration": 129,
    "start_time": "2022-08-28T07:50:03.541Z"
   },
   {
    "duration": 111,
    "start_time": "2022-08-28T07:51:10.622Z"
   },
   {
    "duration": 133,
    "start_time": "2022-08-28T07:51:18.941Z"
   },
   {
    "duration": 139,
    "start_time": "2022-08-28T07:51:47.794Z"
   },
   {
    "duration": 98,
    "start_time": "2022-08-28T07:52:07.181Z"
   },
   {
    "duration": 131,
    "start_time": "2022-08-28T07:52:14.921Z"
   },
   {
    "duration": 221,
    "start_time": "2022-08-28T07:52:29.220Z"
   },
   {
    "duration": 153,
    "start_time": "2022-08-28T07:52:32.947Z"
   },
   {
    "duration": 134,
    "start_time": "2022-08-28T07:52:38.370Z"
   },
   {
    "duration": 71,
    "start_time": "2022-08-28T07:53:43.374Z"
   },
   {
    "duration": 0,
    "start_time": "2022-08-28T07:54:10.116Z"
   },
   {
    "duration": 135,
    "start_time": "2022-08-28T07:54:57.953Z"
   },
   {
    "duration": 4,
    "start_time": "2022-08-28T07:58:18.324Z"
   },
   {
    "duration": 4,
    "start_time": "2022-08-28T07:58:29.564Z"
   },
   {
    "duration": 8,
    "start_time": "2022-08-28T07:58:37.135Z"
   },
   {
    "duration": 8,
    "start_time": "2022-08-28T07:58:43.477Z"
   },
   {
    "duration": 4,
    "start_time": "2022-08-28T07:58:46.768Z"
   },
   {
    "duration": 4,
    "start_time": "2022-08-28T08:00:15.645Z"
   },
   {
    "duration": 3,
    "start_time": "2022-08-28T08:00:42.546Z"
   },
   {
    "duration": 3,
    "start_time": "2022-08-28T08:00:47.825Z"
   },
   {
    "duration": 4,
    "start_time": "2022-08-28T08:01:27.501Z"
   },
   {
    "duration": 4,
    "start_time": "2022-08-28T08:01:41.259Z"
   },
   {
    "duration": 3,
    "start_time": "2022-08-28T08:01:47.555Z"
   },
   {
    "duration": 4,
    "start_time": "2022-08-28T08:02:01.431Z"
   },
   {
    "duration": 3,
    "start_time": "2022-08-28T08:02:14.055Z"
   },
   {
    "duration": 7,
    "start_time": "2022-08-28T08:03:02.462Z"
   },
   {
    "duration": 7,
    "start_time": "2022-08-28T08:03:22.983Z"
   },
   {
    "duration": 36,
    "start_time": "2022-08-28T08:03:39.754Z"
   },
   {
    "duration": 134,
    "start_time": "2022-08-28T08:04:20.663Z"
   },
   {
    "duration": 132,
    "start_time": "2022-08-28T08:04:41.892Z"
   },
   {
    "duration": 127,
    "start_time": "2022-08-28T08:04:45.547Z"
   },
   {
    "duration": 4,
    "start_time": "2022-08-28T08:14:45.000Z"
   },
   {
    "duration": 9,
    "start_time": "2022-08-28T08:14:54.390Z"
   },
   {
    "duration": 8,
    "start_time": "2022-08-28T08:14:57.630Z"
   },
   {
    "duration": 8,
    "start_time": "2022-08-28T08:15:11.990Z"
   },
   {
    "duration": 8,
    "start_time": "2022-08-28T08:15:16.873Z"
   },
   {
    "duration": 9,
    "start_time": "2022-08-28T08:15:29.855Z"
   },
   {
    "duration": 10,
    "start_time": "2022-08-28T08:15:34.864Z"
   },
   {
    "duration": 8,
    "start_time": "2022-08-28T08:15:45.983Z"
   },
   {
    "duration": 4,
    "start_time": "2022-08-28T08:16:23.292Z"
   },
   {
    "duration": 12,
    "start_time": "2022-08-28T08:16:37.340Z"
   },
   {
    "duration": 9,
    "start_time": "2022-08-28T08:16:40.551Z"
   },
   {
    "duration": 7,
    "start_time": "2022-08-28T08:17:29.248Z"
   },
   {
    "duration": 6,
    "start_time": "2022-08-28T08:17:42.338Z"
   },
   {
    "duration": 6,
    "start_time": "2022-08-28T08:18:10.142Z"
   },
   {
    "duration": 7,
    "start_time": "2022-08-28T08:18:22.980Z"
   },
   {
    "duration": 5,
    "start_time": "2022-08-28T08:18:24.638Z"
   },
   {
    "duration": 13,
    "start_time": "2022-08-28T08:19:10.028Z"
   },
   {
    "duration": 7,
    "start_time": "2022-08-28T08:19:20.145Z"
   },
   {
    "duration": 6,
    "start_time": "2022-08-28T08:20:39.986Z"
   },
   {
    "duration": 1349,
    "start_time": "2022-08-28T08:21:01.828Z"
   },
   {
    "duration": 8,
    "start_time": "2022-08-28T08:21:14.001Z"
   },
   {
    "duration": 9,
    "start_time": "2022-08-28T08:21:32.893Z"
   },
   {
    "duration": 8,
    "start_time": "2022-08-28T08:37:16.602Z"
   },
   {
    "duration": 7,
    "start_time": "2022-08-28T08:37:18.334Z"
   },
   {
    "duration": 7,
    "start_time": "2022-08-28T08:37:55.545Z"
   },
   {
    "duration": 7,
    "start_time": "2022-08-28T08:37:57.546Z"
   },
   {
    "duration": 5,
    "start_time": "2022-08-28T08:40:47.564Z"
   },
   {
    "duration": 5,
    "start_time": "2022-08-28T08:43:20.734Z"
   },
   {
    "duration": 7,
    "start_time": "2022-08-28T08:43:34.286Z"
   },
   {
    "duration": 6,
    "start_time": "2022-08-28T08:43:38.438Z"
   },
   {
    "duration": 1198,
    "start_time": "2022-08-28T08:46:08.042Z"
   },
   {
    "duration": 31,
    "start_time": "2022-08-28T08:46:09.242Z"
   },
   {
    "duration": 14,
    "start_time": "2022-08-28T08:46:09.275Z"
   },
   {
    "duration": 12,
    "start_time": "2022-08-28T08:46:09.291Z"
   },
   {
    "duration": 15,
    "start_time": "2022-08-28T08:46:09.304Z"
   },
   {
    "duration": 8,
    "start_time": "2022-08-28T08:46:09.321Z"
   },
   {
    "duration": 14,
    "start_time": "2022-08-28T08:46:09.331Z"
   },
   {
    "duration": 21,
    "start_time": "2022-08-28T08:46:09.346Z"
   },
   {
    "duration": 25,
    "start_time": "2022-08-28T08:46:09.369Z"
   },
   {
    "duration": 4,
    "start_time": "2022-08-28T08:46:09.408Z"
   },
   {
    "duration": 9,
    "start_time": "2022-08-28T08:46:09.414Z"
   },
   {
    "duration": 14392,
    "start_time": "2022-08-28T08:46:09.424Z"
   },
   {
    "duration": 302066,
    "start_time": "2022-08-28T08:46:23.818Z"
   },
   {
    "duration": 73061,
    "start_time": "2022-08-28T08:51:25.886Z"
   },
   {
    "duration": 5,
    "start_time": "2022-08-28T08:52:38.948Z"
   },
   {
    "duration": 7,
    "start_time": "2022-08-28T08:52:38.955Z"
   },
   {
    "duration": 16,
    "start_time": "2022-08-28T08:52:38.964Z"
   },
   {
    "duration": 183,
    "start_time": "2022-08-28T08:52:38.982Z"
   },
   {
    "duration": 97,
    "start_time": "2022-08-28T08:52:39.166Z"
   },
   {
    "duration": 0,
    "start_time": "2022-08-28T08:52:39.265Z"
   },
   {
    "duration": 0,
    "start_time": "2022-08-28T08:52:39.266Z"
   },
   {
    "duration": 0,
    "start_time": "2022-08-28T08:52:39.267Z"
   },
   {
    "duration": 9,
    "start_time": "2022-08-28T08:53:23.691Z"
   },
   {
    "duration": 7,
    "start_time": "2022-08-28T08:53:43.634Z"
   },
   {
    "duration": 6,
    "start_time": "2022-08-28T08:53:44.257Z"
   },
   {
    "duration": 7,
    "start_time": "2022-08-28T08:53:44.836Z"
   },
   {
    "duration": 6,
    "start_time": "2022-08-28T08:55:41.590Z"
   },
   {
    "duration": 5,
    "start_time": "2022-08-28T08:55:42.345Z"
   },
   {
    "duration": 15,
    "start_time": "2022-08-28T08:55:42.945Z"
   },
   {
    "duration": 132,
    "start_time": "2022-08-28T08:55:43.601Z"
   },
   {
    "duration": 7,
    "start_time": "2022-08-28T08:55:45.185Z"
   },
   {
    "duration": 6,
    "start_time": "2022-08-28T08:55:46.296Z"
   },
   {
    "duration": 6,
    "start_time": "2022-08-28T08:55:46.977Z"
   },
   {
    "duration": 5,
    "start_time": "2022-08-28T08:55:47.813Z"
   },
   {
    "duration": 9,
    "start_time": "2022-08-28T09:07:38.422Z"
   },
   {
    "duration": 3,
    "start_time": "2022-08-28T09:08:28.045Z"
   },
   {
    "duration": 2,
    "start_time": "2022-08-28T09:08:39.085Z"
   },
   {
    "duration": 5,
    "start_time": "2022-08-28T09:09:20.743Z"
   },
   {
    "duration": 139,
    "start_time": "2022-08-28T09:16:25.323Z"
   },
   {
    "duration": 14690,
    "start_time": "2022-08-28T09:16:37.796Z"
   },
   {
    "duration": 5,
    "start_time": "2022-08-28T09:16:52.488Z"
   },
   {
    "duration": 9,
    "start_time": "2022-08-28T09:17:44.355Z"
   },
   {
    "duration": 7,
    "start_time": "2022-08-28T09:17:50.694Z"
   },
   {
    "duration": 6,
    "start_time": "2022-08-28T09:20:29.670Z"
   },
   {
    "duration": 3,
    "start_time": "2022-08-28T09:23:12.548Z"
   },
   {
    "duration": 5,
    "start_time": "2022-08-28T09:23:12.924Z"
   },
   {
    "duration": 10,
    "start_time": "2022-08-28T09:23:54.893Z"
   },
   {
    "duration": 5,
    "start_time": "2022-08-28T09:24:02.077Z"
   },
   {
    "duration": 5,
    "start_time": "2022-08-28T09:26:34.115Z"
   },
   {
    "duration": 10,
    "start_time": "2022-08-28T09:26:48.725Z"
   },
   {
    "duration": 7,
    "start_time": "2022-08-28T09:27:03.558Z"
   },
   {
    "duration": 88,
    "start_time": "2022-08-28T09:39:42.939Z"
   },
   {
    "duration": 87,
    "start_time": "2022-08-28T09:40:34.745Z"
   },
   {
    "duration": 71,
    "start_time": "2022-08-28T09:40:48.521Z"
   },
   {
    "duration": 74,
    "start_time": "2022-08-28T09:40:55.732Z"
   },
   {
    "duration": 173,
    "start_time": "2022-08-28T09:41:05.509Z"
   },
   {
    "duration": 126,
    "start_time": "2022-08-28T09:41:10.566Z"
   },
   {
    "duration": 182,
    "start_time": "2022-08-28T09:41:14.748Z"
   },
   {
    "duration": 74,
    "start_time": "2022-08-28T09:41:38.800Z"
   },
   {
    "duration": 107,
    "start_time": "2022-08-28T09:41:50.564Z"
   },
   {
    "duration": 17,
    "start_time": "2022-08-28T09:43:36.706Z"
   },
   {
    "duration": 18,
    "start_time": "2022-08-28T09:43:57.579Z"
   },
   {
    "duration": 20,
    "start_time": "2022-08-28T09:44:02.753Z"
   },
   {
    "duration": 19,
    "start_time": "2022-08-28T09:44:17.186Z"
   },
   {
    "duration": 15,
    "start_time": "2022-08-28T09:45:02.316Z"
   },
   {
    "duration": 15,
    "start_time": "2022-08-28T09:46:25.800Z"
   },
   {
    "duration": 1285,
    "start_time": "2022-08-28T09:47:46.972Z"
   },
   {
    "duration": 34,
    "start_time": "2022-08-28T09:47:48.259Z"
   },
   {
    "duration": 11,
    "start_time": "2022-08-28T09:47:48.294Z"
   },
   {
    "duration": 10,
    "start_time": "2022-08-28T09:47:48.307Z"
   },
   {
    "duration": 32,
    "start_time": "2022-08-28T09:47:48.318Z"
   },
   {
    "duration": 5,
    "start_time": "2022-08-28T09:47:48.351Z"
   },
   {
    "duration": 13,
    "start_time": "2022-08-28T09:47:48.357Z"
   },
   {
    "duration": 10,
    "start_time": "2022-08-28T09:47:48.371Z"
   },
   {
    "duration": 23,
    "start_time": "2022-08-28T09:47:48.382Z"
   },
   {
    "duration": 2,
    "start_time": "2022-08-28T09:47:48.408Z"
   },
   {
    "duration": 7,
    "start_time": "2022-08-28T09:47:48.412Z"
   },
   {
    "duration": 14714,
    "start_time": "2022-08-28T09:47:48.420Z"
   },
   {
    "duration": 0,
    "start_time": "2022-08-28T09:48:03.135Z"
   },
   {
    "duration": 0,
    "start_time": "2022-08-28T09:48:03.136Z"
   },
   {
    "duration": 0,
    "start_time": "2022-08-28T09:48:03.137Z"
   },
   {
    "duration": 0,
    "start_time": "2022-08-28T09:48:03.137Z"
   },
   {
    "duration": 0,
    "start_time": "2022-08-28T09:48:03.138Z"
   },
   {
    "duration": 0,
    "start_time": "2022-08-28T09:48:03.139Z"
   },
   {
    "duration": 0,
    "start_time": "2022-08-28T09:48:03.140Z"
   },
   {
    "duration": 0,
    "start_time": "2022-08-28T09:48:03.141Z"
   },
   {
    "duration": 0,
    "start_time": "2022-08-28T09:48:03.142Z"
   },
   {
    "duration": 0,
    "start_time": "2022-08-28T09:48:03.142Z"
   },
   {
    "duration": 0,
    "start_time": "2022-08-28T09:48:03.143Z"
   },
   {
    "duration": 0,
    "start_time": "2022-08-28T09:48:03.144Z"
   },
   {
    "duration": 15265,
    "start_time": "2022-08-28T10:06:54.504Z"
   },
   {
    "duration": 14725,
    "start_time": "2022-08-28T10:07:45.854Z"
   },
   {
    "duration": 1317,
    "start_time": "2022-08-28T10:08:39.503Z"
   },
   {
    "duration": 30,
    "start_time": "2022-08-28T10:08:40.822Z"
   },
   {
    "duration": 15,
    "start_time": "2022-08-28T10:08:40.853Z"
   },
   {
    "duration": 15,
    "start_time": "2022-08-28T10:08:40.869Z"
   },
   {
    "duration": 22,
    "start_time": "2022-08-28T10:08:40.887Z"
   },
   {
    "duration": 9,
    "start_time": "2022-08-28T10:08:40.911Z"
   },
   {
    "duration": 28,
    "start_time": "2022-08-28T10:08:40.922Z"
   },
   {
    "duration": 16,
    "start_time": "2022-08-28T10:08:40.951Z"
   },
   {
    "duration": 25,
    "start_time": "2022-08-28T10:08:40.971Z"
   },
   {
    "duration": 4,
    "start_time": "2022-08-28T10:08:40.998Z"
   },
   {
    "duration": 15,
    "start_time": "2022-08-28T10:08:41.003Z"
   },
   {
    "duration": 15317,
    "start_time": "2022-08-28T10:08:41.019Z"
   },
   {
    "duration": 314957,
    "start_time": "2022-08-28T10:08:56.337Z"
   },
   {
    "duration": 0,
    "start_time": "2022-08-28T10:14:11.295Z"
   },
   {
    "duration": 0,
    "start_time": "2022-08-28T10:14:11.297Z"
   },
   {
    "duration": 0,
    "start_time": "2022-08-28T10:14:11.298Z"
   },
   {
    "duration": 0,
    "start_time": "2022-08-28T10:14:11.299Z"
   },
   {
    "duration": 0,
    "start_time": "2022-08-28T10:14:11.300Z"
   },
   {
    "duration": 0,
    "start_time": "2022-08-28T10:14:11.306Z"
   },
   {
    "duration": 0,
    "start_time": "2022-08-28T10:14:11.307Z"
   },
   {
    "duration": 0,
    "start_time": "2022-08-28T10:14:11.308Z"
   },
   {
    "duration": 0,
    "start_time": "2022-08-28T10:14:11.309Z"
   },
   {
    "duration": 0,
    "start_time": "2022-08-28T10:14:11.310Z"
   },
   {
    "duration": 0,
    "start_time": "2022-08-28T10:14:11.311Z"
   },
   {
    "duration": 319504,
    "start_time": "2022-08-28T10:19:30.099Z"
   },
   {
    "duration": 11178,
    "start_time": "2022-08-28T10:25:49.081Z"
   },
   {
    "duration": 77249,
    "start_time": "2022-08-28T10:26:03.392Z"
   },
   {
    "duration": 8,
    "start_time": "2022-08-28T10:27:59.345Z"
   },
   {
    "duration": 5,
    "start_time": "2022-08-28T10:28:23.493Z"
   },
   {
    "duration": 9,
    "start_time": "2022-08-28T10:28:49.551Z"
   },
   {
    "duration": 5,
    "start_time": "2022-08-28T10:28:57.687Z"
   },
   {
    "duration": 5,
    "start_time": "2022-08-28T10:29:11.392Z"
   },
   {
    "duration": 120,
    "start_time": "2022-08-28T10:29:12.879Z"
   },
   {
    "duration": 5,
    "start_time": "2022-08-28T10:29:33.447Z"
   },
   {
    "duration": 5,
    "start_time": "2022-08-28T10:29:34.553Z"
   },
   {
    "duration": 34,
    "start_time": "2022-08-28T10:29:35.065Z"
   },
   {
    "duration": 117,
    "start_time": "2022-08-28T10:29:35.690Z"
   },
   {
    "duration": 6,
    "start_time": "2022-08-28T10:30:12.929Z"
   },
   {
    "duration": 5,
    "start_time": "2022-08-28T10:30:13.329Z"
   },
   {
    "duration": 35,
    "start_time": "2022-08-28T10:30:13.780Z"
   },
   {
    "duration": 112,
    "start_time": "2022-08-28T10:30:14.387Z"
   },
   {
    "duration": 8572,
    "start_time": "2022-08-28T10:32:26.340Z"
   },
   {
    "duration": 8679,
    "start_time": "2022-08-28T10:33:00.881Z"
   },
   {
    "duration": 8452,
    "start_time": "2022-08-28T10:33:51.432Z"
   },
   {
    "duration": 6,
    "start_time": "2022-08-28T10:35:04.746Z"
   },
   {
    "duration": 5,
    "start_time": "2022-08-28T10:35:07.037Z"
   },
   {
    "duration": 29,
    "start_time": "2022-08-28T10:35:07.505Z"
   },
   {
    "duration": 111,
    "start_time": "2022-08-28T10:35:08.069Z"
   },
   {
    "duration": 7,
    "start_time": "2022-08-28T10:35:43.878Z"
   },
   {
    "duration": 7,
    "start_time": "2022-08-28T10:35:58.543Z"
   },
   {
    "duration": 5,
    "start_time": "2022-08-28T10:36:06.429Z"
   },
   {
    "duration": 31,
    "start_time": "2022-08-28T10:36:06.803Z"
   },
   {
    "duration": 126,
    "start_time": "2022-08-28T10:36:07.308Z"
   },
   {
    "duration": 10735,
    "start_time": "2022-08-28T10:36:46.557Z"
   },
   {
    "duration": 10988,
    "start_time": "2022-08-28T10:37:24.950Z"
   },
   {
    "duration": 10713,
    "start_time": "2022-08-28T10:38:17.153Z"
   },
   {
    "duration": 6,
    "start_time": "2022-08-28T10:39:00.302Z"
   },
   {
    "duration": 5,
    "start_time": "2022-08-28T10:39:00.758Z"
   },
   {
    "duration": 32,
    "start_time": "2022-08-28T10:39:01.175Z"
   },
   {
    "duration": 118,
    "start_time": "2022-08-28T10:39:01.792Z"
   },
   {
    "duration": 7,
    "start_time": "2022-08-28T10:39:20.142Z"
   },
   {
    "duration": 7,
    "start_time": "2022-08-28T10:39:51.684Z"
   },
   {
    "duration": 6,
    "start_time": "2022-08-28T10:39:58.751Z"
   },
   {
    "duration": 5,
    "start_time": "2022-08-28T10:39:59.109Z"
   },
   {
    "duration": 32,
    "start_time": "2022-08-28T10:39:59.559Z"
   },
   {
    "duration": 149,
    "start_time": "2022-08-28T10:40:00.026Z"
   },
   {
    "duration": 75433,
    "start_time": "2022-08-28T10:40:26.287Z"
   },
   {
    "duration": 6,
    "start_time": "2022-08-28T10:41:58.547Z"
   },
   {
    "duration": 6,
    "start_time": "2022-08-28T10:41:58.766Z"
   },
   {
    "duration": 28,
    "start_time": "2022-08-28T10:41:58.981Z"
   },
   {
    "duration": 138,
    "start_time": "2022-08-28T10:41:59.168Z"
   },
   {
    "duration": 1256,
    "start_time": "2022-08-28T10:43:01.327Z"
   },
   {
    "duration": 32,
    "start_time": "2022-08-28T10:43:02.585Z"
   },
   {
    "duration": 13,
    "start_time": "2022-08-28T10:43:02.619Z"
   },
   {
    "duration": 13,
    "start_time": "2022-08-28T10:43:02.635Z"
   },
   {
    "duration": 30,
    "start_time": "2022-08-28T10:43:02.651Z"
   },
   {
    "duration": 19,
    "start_time": "2022-08-28T10:43:02.683Z"
   },
   {
    "duration": 12,
    "start_time": "2022-08-28T10:43:02.704Z"
   },
   {
    "duration": 11,
    "start_time": "2022-08-28T10:43:02.718Z"
   },
   {
    "duration": 25,
    "start_time": "2022-08-28T10:43:02.731Z"
   },
   {
    "duration": 4,
    "start_time": "2022-08-28T10:43:02.759Z"
   },
   {
    "duration": 10,
    "start_time": "2022-08-28T10:43:02.764Z"
   },
   {
    "duration": 8665,
    "start_time": "2022-08-28T10:43:02.776Z"
   },
   {
    "duration": 10508,
    "start_time": "2022-08-28T10:43:11.443Z"
   },
   {
    "duration": 1305392,
    "start_time": "2022-08-28T10:43:21.953Z"
   },
   {
    "duration": 6,
    "start_time": "2022-08-28T11:05:07.347Z"
   },
   {
    "duration": 13,
    "start_time": "2022-08-28T11:05:07.354Z"
   },
   {
    "duration": 38,
    "start_time": "2022-08-28T11:05:07.369Z"
   },
   {
    "duration": 178,
    "start_time": "2022-08-28T11:05:07.413Z"
   },
   {
    "duration": 2,
    "start_time": "2022-08-28T11:05:07.593Z"
   },
   {
    "duration": 19,
    "start_time": "2022-08-28T11:05:07.597Z"
   },
   {
    "duration": 9,
    "start_time": "2022-08-28T11:05:07.618Z"
   },
   {
    "duration": 6,
    "start_time": "2022-08-28T11:05:07.628Z"
   },
   {
    "duration": 7,
    "start_time": "2022-08-28T11:05:07.635Z"
   },
   {
    "duration": 5,
    "start_time": "2022-08-28T11:05:07.644Z"
   },
   {
    "duration": 8017,
    "start_time": "2022-08-29T01:11:12.073Z"
   },
   {
    "duration": 3,
    "start_time": "2022-08-29T01:16:47.307Z"
   },
   {
    "duration": 90,
    "start_time": "2022-08-29T01:17:02.739Z"
   },
   {
    "duration": 4,
    "start_time": "2022-08-29T01:17:09.290Z"
   },
   {
    "duration": 4,
    "start_time": "2022-08-29T01:17:34.687Z"
   },
   {
    "duration": 6,
    "start_time": "2022-08-29T01:35:53.472Z"
   },
   {
    "duration": 139,
    "start_time": "2022-08-29T01:36:23.437Z"
   },
   {
    "duration": 3,
    "start_time": "2022-08-29T01:47:12.576Z"
   },
   {
    "duration": 11,
    "start_time": "2022-08-29T01:47:38.624Z"
   },
   {
    "duration": 4,
    "start_time": "2022-08-29T01:47:49.534Z"
   },
   {
    "duration": 3,
    "start_time": "2022-08-29T01:48:00.234Z"
   },
   {
    "duration": 6,
    "start_time": "2022-08-29T01:48:09.318Z"
   },
   {
    "duration": 1265,
    "start_time": "2022-08-29T01:48:52.349Z"
   },
   {
    "duration": 31,
    "start_time": "2022-08-29T01:48:53.616Z"
   },
   {
    "duration": 13,
    "start_time": "2022-08-29T01:48:53.648Z"
   },
   {
    "duration": 11,
    "start_time": "2022-08-29T01:48:53.662Z"
   },
   {
    "duration": 12,
    "start_time": "2022-08-29T01:48:53.675Z"
   },
   {
    "duration": 5,
    "start_time": "2022-08-29T01:48:53.689Z"
   },
   {
    "duration": 15,
    "start_time": "2022-08-29T01:48:53.695Z"
   },
   {
    "duration": 5,
    "start_time": "2022-08-29T01:48:53.711Z"
   },
   {
    "duration": 20,
    "start_time": "2022-08-29T01:48:53.718Z"
   },
   {
    "duration": 3,
    "start_time": "2022-08-29T01:48:53.740Z"
   },
   {
    "duration": 8,
    "start_time": "2022-08-29T01:48:53.744Z"
   },
   {
    "duration": 6490,
    "start_time": "2022-08-29T01:48:53.753Z"
   },
   {
    "duration": 2293,
    "start_time": "2022-08-29T01:49:00.244Z"
   },
   {
    "duration": 596598,
    "start_time": "2022-08-29T01:49:02.539Z"
   },
   {
    "duration": 23,
    "start_time": "2022-08-29T01:58:59.138Z"
   },
   {
    "duration": 145,
    "start_time": "2022-08-29T01:58:59.162Z"
   },
   {
    "duration": 98,
    "start_time": "2022-08-29T01:58:59.309Z"
   },
   {
    "duration": 0,
    "start_time": "2022-08-29T01:58:59.408Z"
   },
   {
    "duration": 5,
    "start_time": "2022-08-29T02:00:58.756Z"
   },
   {
    "duration": 139,
    "start_time": "2022-08-29T02:01:00.759Z"
   },
   {
    "duration": 4,
    "start_time": "2022-08-29T02:01:13.212Z"
   },
   {
    "duration": 135,
    "start_time": "2022-08-29T02:01:13.811Z"
   },
   {
    "duration": 1212,
    "start_time": "2022-08-29T02:02:04.027Z"
   },
   {
    "duration": 30,
    "start_time": "2022-08-29T02:02:05.241Z"
   },
   {
    "duration": 13,
    "start_time": "2022-08-29T02:02:05.273Z"
   },
   {
    "duration": 15,
    "start_time": "2022-08-29T02:02:05.288Z"
   },
   {
    "duration": 11,
    "start_time": "2022-08-29T02:02:05.305Z"
   },
   {
    "duration": 5,
    "start_time": "2022-08-29T02:02:05.317Z"
   },
   {
    "duration": 13,
    "start_time": "2022-08-29T02:02:05.323Z"
   },
   {
    "duration": 6,
    "start_time": "2022-08-29T02:02:05.337Z"
   },
   {
    "duration": 18,
    "start_time": "2022-08-29T02:02:05.345Z"
   },
   {
    "duration": 2,
    "start_time": "2022-08-29T02:02:05.365Z"
   },
   {
    "duration": 8,
    "start_time": "2022-08-29T02:02:05.369Z"
   },
   {
    "duration": 6495,
    "start_time": "2022-08-29T02:02:05.378Z"
   },
   {
    "duration": 2298,
    "start_time": "2022-08-29T02:02:11.874Z"
   },
   {
    "duration": 18931,
    "start_time": "2022-08-29T02:02:14.174Z"
   },
   {
    "duration": 26,
    "start_time": "2022-08-29T02:02:33.106Z"
   },
   {
    "duration": 165,
    "start_time": "2022-08-29T02:02:33.134Z"
   },
   {
    "duration": 7,
    "start_time": "2022-08-29T02:02:33.301Z"
   },
   {
    "duration": 229,
    "start_time": "2022-08-29T02:02:33.309Z"
   },
   {
    "duration": 73,
    "start_time": "2022-08-29T02:07:30.586Z"
   },
   {
    "duration": 99,
    "start_time": "2022-08-29T02:07:36.625Z"
   },
   {
    "duration": 2544,
    "start_time": "2022-08-29T02:07:45.373Z"
   },
   {
    "duration": 3,
    "start_time": "2022-08-29T02:08:09.631Z"
   },
   {
    "duration": 6012,
    "start_time": "2022-08-29T02:08:15.174Z"
   },
   {
    "duration": 2470,
    "start_time": "2022-08-29T02:08:49.304Z"
   },
   {
    "duration": 18889,
    "start_time": "2022-08-29T02:09:06.264Z"
   },
   {
    "duration": 1170,
    "start_time": "2022-08-29T02:09:53.853Z"
   },
   {
    "duration": 30,
    "start_time": "2022-08-29T02:09:55.025Z"
   },
   {
    "duration": 12,
    "start_time": "2022-08-29T02:09:55.056Z"
   },
   {
    "duration": 9,
    "start_time": "2022-08-29T02:09:55.069Z"
   },
   {
    "duration": 10,
    "start_time": "2022-08-29T02:09:55.080Z"
   },
   {
    "duration": 4,
    "start_time": "2022-08-29T02:09:55.092Z"
   },
   {
    "duration": 9,
    "start_time": "2022-08-29T02:09:55.098Z"
   },
   {
    "duration": 4,
    "start_time": "2022-08-29T02:09:55.109Z"
   },
   {
    "duration": 19,
    "start_time": "2022-08-29T02:09:55.115Z"
   },
   {
    "duration": 2,
    "start_time": "2022-08-29T02:09:55.135Z"
   },
   {
    "duration": 6,
    "start_time": "2022-08-29T02:09:55.139Z"
   },
   {
    "duration": 8044,
    "start_time": "2022-08-29T02:09:55.146Z"
   },
   {
    "duration": 2478,
    "start_time": "2022-08-29T02:10:03.191Z"
   },
   {
    "duration": 20606,
    "start_time": "2022-08-29T02:10:05.671Z"
   },
   {
    "duration": 30,
    "start_time": "2022-08-29T02:10:26.279Z"
   },
   {
    "duration": 139,
    "start_time": "2022-08-29T02:10:26.311Z"
   },
   {
    "duration": 5,
    "start_time": "2022-08-29T02:10:26.451Z"
   },
   {
    "duration": 223,
    "start_time": "2022-08-29T02:10:26.458Z"
   },
   {
    "duration": 1216,
    "start_time": "2022-08-29T02:12:04.137Z"
   },
   {
    "duration": 32,
    "start_time": "2022-08-29T02:12:05.355Z"
   },
   {
    "duration": 12,
    "start_time": "2022-08-29T02:12:05.389Z"
   },
   {
    "duration": 10,
    "start_time": "2022-08-29T02:12:05.403Z"
   },
   {
    "duration": 17,
    "start_time": "2022-08-29T02:12:05.415Z"
   },
   {
    "duration": 5,
    "start_time": "2022-08-29T02:12:05.434Z"
   },
   {
    "duration": 9,
    "start_time": "2022-08-29T02:12:05.440Z"
   },
   {
    "duration": 8,
    "start_time": "2022-08-29T02:12:05.450Z"
   },
   {
    "duration": 19,
    "start_time": "2022-08-29T02:12:05.459Z"
   },
   {
    "duration": 3,
    "start_time": "2022-08-29T02:12:05.479Z"
   },
   {
    "duration": 31,
    "start_time": "2022-08-29T02:12:05.483Z"
   },
   {
    "duration": 8035,
    "start_time": "2022-08-29T02:12:05.515Z"
   },
   {
    "duration": 12391,
    "start_time": "2022-08-29T02:12:13.552Z"
   },
   {
    "duration": 44405,
    "start_time": "2022-08-29T02:12:25.946Z"
   },
   {
    "duration": 24,
    "start_time": "2022-08-29T02:13:10.353Z"
   },
   {
    "duration": 159,
    "start_time": "2022-08-29T02:13:10.379Z"
   },
   {
    "duration": 4,
    "start_time": "2022-08-29T02:13:10.540Z"
   },
   {
    "duration": 145,
    "start_time": "2022-08-29T02:13:10.546Z"
   },
   {
    "duration": 1252,
    "start_time": "2022-08-29T02:13:43.478Z"
   },
   {
    "duration": 30,
    "start_time": "2022-08-29T02:13:44.732Z"
   },
   {
    "duration": 12,
    "start_time": "2022-08-29T02:13:44.764Z"
   },
   {
    "duration": 10,
    "start_time": "2022-08-29T02:13:44.777Z"
   },
   {
    "duration": 11,
    "start_time": "2022-08-29T02:13:44.789Z"
   },
   {
    "duration": 4,
    "start_time": "2022-08-29T02:13:44.802Z"
   },
   {
    "duration": 7,
    "start_time": "2022-08-29T02:13:44.808Z"
   },
   {
    "duration": 5,
    "start_time": "2022-08-29T02:13:44.817Z"
   },
   {
    "duration": 20,
    "start_time": "2022-08-29T02:13:44.823Z"
   },
   {
    "duration": 3,
    "start_time": "2022-08-29T02:13:44.845Z"
   },
   {
    "duration": 7,
    "start_time": "2022-08-29T02:13:44.850Z"
   },
   {
    "duration": 8976,
    "start_time": "2022-08-29T02:13:44.859Z"
   },
   {
    "duration": 12433,
    "start_time": "2022-08-29T02:13:53.837Z"
   },
   {
    "duration": 44321,
    "start_time": "2022-08-29T02:14:06.272Z"
   },
   {
    "duration": 30,
    "start_time": "2022-08-29T02:14:50.594Z"
   },
   {
    "duration": 138,
    "start_time": "2022-08-29T02:14:50.626Z"
   },
   {
    "duration": 4,
    "start_time": "2022-08-29T02:14:50.766Z"
   },
   {
    "duration": 146,
    "start_time": "2022-08-29T02:14:50.771Z"
   },
   {
    "duration": 91,
    "start_time": "2022-08-29T02:20:46.734Z"
   },
   {
    "duration": 27,
    "start_time": "2022-08-29T02:23:15.124Z"
   },
   {
    "duration": 24,
    "start_time": "2022-08-29T02:23:45.123Z"
   },
   {
    "duration": 8,
    "start_time": "2022-08-29T02:24:49.631Z"
   },
   {
    "duration": 5,
    "start_time": "2022-08-29T02:25:43.885Z"
   },
   {
    "duration": 4,
    "start_time": "2022-08-29T02:29:33.628Z"
   },
   {
    "duration": 25,
    "start_time": "2022-08-29T02:30:31.678Z"
   },
   {
    "duration": 23,
    "start_time": "2022-08-29T02:30:43.860Z"
   },
   {
    "duration": 6,
    "start_time": "2022-08-29T02:31:06.441Z"
   },
   {
    "duration": 1197,
    "start_time": "2022-08-29T02:34:02.022Z"
   },
   {
    "duration": 31,
    "start_time": "2022-08-29T02:34:03.221Z"
   },
   {
    "duration": 11,
    "start_time": "2022-08-29T02:34:03.253Z"
   },
   {
    "duration": 14,
    "start_time": "2022-08-29T02:34:03.266Z"
   },
   {
    "duration": 15,
    "start_time": "2022-08-29T02:34:03.282Z"
   },
   {
    "duration": 5,
    "start_time": "2022-08-29T02:34:03.299Z"
   },
   {
    "duration": 10,
    "start_time": "2022-08-29T02:34:03.305Z"
   },
   {
    "duration": 6,
    "start_time": "2022-08-29T02:34:03.316Z"
   },
   {
    "duration": 27,
    "start_time": "2022-08-29T02:34:03.323Z"
   },
   {
    "duration": 3,
    "start_time": "2022-08-29T02:34:03.352Z"
   },
   {
    "duration": 15,
    "start_time": "2022-08-29T02:34:03.357Z"
   },
   {
    "duration": 8958,
    "start_time": "2022-08-29T02:34:03.374Z"
   },
   {
    "duration": 19681,
    "start_time": "2022-08-29T02:34:12.333Z"
   },
   {
    "duration": 41823,
    "start_time": "2022-08-29T02:34:32.017Z"
   },
   {
    "duration": 26,
    "start_time": "2022-08-29T02:35:13.842Z"
   },
   {
    "duration": 149,
    "start_time": "2022-08-29T02:35:13.870Z"
   },
   {
    "duration": 24,
    "start_time": "2022-08-29T02:35:14.020Z"
   },
   {
    "duration": 4,
    "start_time": "2022-08-29T02:35:14.046Z"
   },
   {
    "duration": 1190,
    "start_time": "2022-08-29T02:37:28.954Z"
   },
   {
    "duration": 30,
    "start_time": "2022-08-29T02:37:30.146Z"
   },
   {
    "duration": 13,
    "start_time": "2022-08-29T02:37:30.178Z"
   },
   {
    "duration": 11,
    "start_time": "2022-08-29T02:37:30.192Z"
   },
   {
    "duration": 12,
    "start_time": "2022-08-29T02:37:30.205Z"
   },
   {
    "duration": 9,
    "start_time": "2022-08-29T02:37:30.219Z"
   },
   {
    "duration": 10,
    "start_time": "2022-08-29T02:37:30.229Z"
   },
   {
    "duration": 5,
    "start_time": "2022-08-29T02:37:30.241Z"
   },
   {
    "duration": 19,
    "start_time": "2022-08-29T02:37:30.247Z"
   },
   {
    "duration": 2,
    "start_time": "2022-08-29T02:37:30.268Z"
   },
   {
    "duration": 13,
    "start_time": "2022-08-29T02:37:30.272Z"
   },
   {
    "duration": 3942,
    "start_time": "2022-08-29T02:37:30.305Z"
   },
   {
    "duration": 792,
    "start_time": "2022-08-29T02:37:34.249Z"
   },
   {
    "duration": 12668,
    "start_time": "2022-08-29T02:37:35.043Z"
   },
   {
    "duration": 26,
    "start_time": "2022-08-29T02:37:47.712Z"
   },
   {
    "duration": 147,
    "start_time": "2022-08-29T02:37:47.740Z"
   },
   {
    "duration": 30,
    "start_time": "2022-08-29T02:37:47.888Z"
   },
   {
    "duration": 3,
    "start_time": "2022-08-29T02:37:47.920Z"
   },
   {
    "duration": 1907,
    "start_time": "2022-08-29T05:32:02.818Z"
   },
   {
    "duration": 70,
    "start_time": "2022-08-29T05:32:04.727Z"
   },
   {
    "duration": 14,
    "start_time": "2022-08-29T05:32:04.798Z"
   },
   {
    "duration": 12,
    "start_time": "2022-08-29T05:32:04.813Z"
   },
   {
    "duration": 14,
    "start_time": "2022-08-29T05:32:04.828Z"
   },
   {
    "duration": 6,
    "start_time": "2022-08-29T05:32:04.843Z"
   },
   {
    "duration": 17,
    "start_time": "2022-08-29T05:32:04.851Z"
   },
   {
    "duration": 7,
    "start_time": "2022-08-29T05:32:04.870Z"
   },
   {
    "duration": 29,
    "start_time": "2022-08-29T05:32:04.878Z"
   },
   {
    "duration": 4,
    "start_time": "2022-08-29T05:32:04.909Z"
   },
   {
    "duration": 10,
    "start_time": "2022-08-29T05:32:04.914Z"
   },
   {
    "duration": 4377,
    "start_time": "2022-08-29T05:32:04.925Z"
   },
   {
    "duration": 886,
    "start_time": "2022-08-29T05:32:09.304Z"
   },
   {
    "duration": 15041,
    "start_time": "2022-08-29T05:32:10.193Z"
   },
   {
    "duration": 39,
    "start_time": "2022-08-29T05:32:25.236Z"
   },
   {
    "duration": 191,
    "start_time": "2022-08-29T05:32:25.277Z"
   },
   {
    "duration": 32,
    "start_time": "2022-08-29T05:32:25.470Z"
   },
   {
    "duration": 6,
    "start_time": "2022-08-29T05:32:25.504Z"
   },
   {
    "duration": 86,
    "start_time": "2022-08-29T07:46:23.167Z"
   },
   {
    "duration": 2335,
    "start_time": "2022-08-29T07:46:35.033Z"
   },
   {
    "duration": 86,
    "start_time": "2022-08-29T07:46:37.370Z"
   },
   {
    "duration": 16,
    "start_time": "2022-08-29T07:46:37.458Z"
   },
   {
    "duration": 13,
    "start_time": "2022-08-29T07:46:37.476Z"
   },
   {
    "duration": 31,
    "start_time": "2022-08-29T07:46:37.495Z"
   },
   {
    "duration": 10,
    "start_time": "2022-08-29T07:46:37.528Z"
   },
   {
    "duration": 10,
    "start_time": "2022-08-29T07:46:37.540Z"
   },
   {
    "duration": 9,
    "start_time": "2022-08-29T07:46:37.552Z"
   },
   {
    "duration": 48,
    "start_time": "2022-08-29T07:46:37.563Z"
   },
   {
    "duration": 7,
    "start_time": "2022-08-29T07:46:37.618Z"
   },
   {
    "duration": 204,
    "start_time": "2022-08-29T07:46:37.628Z"
   },
   {
    "duration": 0,
    "start_time": "2022-08-29T07:46:37.835Z"
   },
   {
    "duration": 0,
    "start_time": "2022-08-29T07:46:37.836Z"
   },
   {
    "duration": 0,
    "start_time": "2022-08-29T07:46:37.838Z"
   },
   {
    "duration": 0,
    "start_time": "2022-08-29T07:46:37.839Z"
   },
   {
    "duration": 0,
    "start_time": "2022-08-29T07:46:37.841Z"
   },
   {
    "duration": 0,
    "start_time": "2022-08-29T07:46:37.842Z"
   },
   {
    "duration": 0,
    "start_time": "2022-08-29T07:46:37.844Z"
   },
   {
    "duration": 12,
    "start_time": "2022-08-29T07:47:29.956Z"
   },
   {
    "duration": 11,
    "start_time": "2022-08-29T07:47:59.227Z"
   },
   {
    "duration": 12,
    "start_time": "2022-08-29T07:49:20.119Z"
   },
   {
    "duration": 141,
    "start_time": "2022-08-29T07:50:24.849Z"
   },
   {
    "duration": 128,
    "start_time": "2022-08-29T07:51:02.760Z"
   },
   {
    "duration": 117,
    "start_time": "2022-08-29T07:51:32.463Z"
   },
   {
    "duration": 16,
    "start_time": "2022-08-29T07:51:56.823Z"
   },
   {
    "duration": 10,
    "start_time": "2022-08-29T07:52:20.528Z"
   },
   {
    "duration": 15,
    "start_time": "2022-08-29T07:52:29.480Z"
   },
   {
    "duration": 13,
    "start_time": "2022-08-29T07:55:38.148Z"
   },
   {
    "duration": 19,
    "start_time": "2022-08-29T07:58:06.318Z"
   },
   {
    "duration": 4716,
    "start_time": "2022-08-29T07:58:33.452Z"
   },
   {
    "duration": 4676,
    "start_time": "2022-08-29T07:59:57.831Z"
   },
   {
    "duration": 4409,
    "start_time": "2022-08-29T09:05:37.989Z"
   },
   {
    "duration": 4270,
    "start_time": "2022-08-29T09:07:15.580Z"
   },
   {
    "duration": 15,
    "start_time": "2022-08-29T09:10:19.822Z"
   },
   {
    "duration": 4268,
    "start_time": "2022-08-29T09:10:25.375Z"
   },
   {
    "duration": 4094,
    "start_time": "2022-08-29T09:12:13.688Z"
   },
   {
    "duration": 15,
    "start_time": "2022-08-29T10:48:09.242Z"
   },
   {
    "duration": 25,
    "start_time": "2022-08-29T10:56:03.186Z"
   },
   {
    "duration": 25,
    "start_time": "2022-08-29T10:56:18.536Z"
   },
   {
    "duration": 3346,
    "start_time": "2022-08-29T10:59:30.520Z"
   },
   {
    "duration": 21740,
    "start_time": "2022-08-29T11:01:56.217Z"
   },
   {
    "duration": 18613,
    "start_time": "2022-08-29T11:02:47.114Z"
   },
   {
    "duration": 3973,
    "start_time": "2022-08-29T11:04:34.873Z"
   },
   {
    "duration": 5943,
    "start_time": "2022-08-29T11:05:13.625Z"
   },
   {
    "duration": 8052,
    "start_time": "2022-08-29T11:11:31.668Z"
   },
   {
    "duration": 3910,
    "start_time": "2022-08-29T11:11:52.310Z"
   },
   {
    "duration": 15,
    "start_time": "2022-08-29T11:17:29.057Z"
   },
   {
    "duration": 11,
    "start_time": "2022-08-29T11:18:43.274Z"
   },
   {
    "duration": 12,
    "start_time": "2022-08-29T11:19:12.723Z"
   },
   {
    "duration": 8297,
    "start_time": "2022-08-29T11:19:40.631Z"
   },
   {
    "duration": 20312,
    "start_time": "2022-08-29T11:54:20.022Z"
   },
   {
    "duration": 10070,
    "start_time": "2022-08-29T11:56:24.927Z"
   },
   {
    "duration": 5914,
    "start_time": "2022-08-29T12:01:14.112Z"
   },
   {
    "duration": 6296,
    "start_time": "2022-08-29T12:01:40.535Z"
   },
   {
    "duration": 11752,
    "start_time": "2022-08-29T12:02:22.245Z"
   },
   {
    "duration": 4863,
    "start_time": "2022-08-29T12:02:53.373Z"
   },
   {
    "duration": 4747,
    "start_time": "2022-08-29T12:03:38.584Z"
   },
   {
    "duration": 4800,
    "start_time": "2022-08-29T12:04:06.131Z"
   },
   {
    "duration": 19,
    "start_time": "2022-08-29T12:04:28.204Z"
   },
   {
    "duration": 21,
    "start_time": "2022-08-29T12:04:31.928Z"
   },
   {
    "duration": 1937,
    "start_time": "2022-08-29T12:05:54.240Z"
   },
   {
    "duration": 56,
    "start_time": "2022-08-29T12:05:56.179Z"
   },
   {
    "duration": 22,
    "start_time": "2022-08-29T12:05:56.238Z"
   },
   {
    "duration": 17,
    "start_time": "2022-08-29T12:05:56.264Z"
   },
   {
    "duration": 62,
    "start_time": "2022-08-29T12:05:56.284Z"
   },
   {
    "duration": 12,
    "start_time": "2022-08-29T12:05:56.348Z"
   },
   {
    "duration": 42,
    "start_time": "2022-08-29T12:05:56.362Z"
   },
   {
    "duration": 37,
    "start_time": "2022-08-29T12:05:56.406Z"
   },
   {
    "duration": 46,
    "start_time": "2022-08-29T12:05:56.445Z"
   },
   {
    "duration": 31,
    "start_time": "2022-08-29T12:05:56.496Z"
   },
   {
    "duration": 23,
    "start_time": "2022-08-29T12:05:56.530Z"
   },
   {
    "duration": 10,
    "start_time": "2022-08-29T12:05:56.555Z"
   },
   {
    "duration": 8188,
    "start_time": "2022-08-29T12:05:56.567Z"
   },
   {
    "duration": 0,
    "start_time": "2022-08-29T12:06:04.758Z"
   },
   {
    "duration": 0,
    "start_time": "2022-08-29T12:06:04.760Z"
   },
   {
    "duration": 0,
    "start_time": "2022-08-29T12:06:04.762Z"
   },
   {
    "duration": 0,
    "start_time": "2022-08-29T12:06:04.764Z"
   },
   {
    "duration": 0,
    "start_time": "2022-08-29T12:06:04.767Z"
   },
   {
    "duration": 0,
    "start_time": "2022-08-29T12:06:04.769Z"
   },
   {
    "duration": 0,
    "start_time": "2022-08-29T12:06:04.770Z"
   },
   {
    "duration": 10,
    "start_time": "2022-08-29T12:43:46.430Z"
   },
   {
    "duration": 8,
    "start_time": "2022-08-29T12:44:15.110Z"
   },
   {
    "duration": 144,
    "start_time": "2022-08-29T12:47:19.555Z"
   },
   {
    "duration": 23,
    "start_time": "2022-08-29T12:49:32.321Z"
   },
   {
    "duration": 35,
    "start_time": "2022-08-29T12:49:42.203Z"
   },
   {
    "duration": 16,
    "start_time": "2022-08-29T12:49:49.233Z"
   },
   {
    "duration": 11,
    "start_time": "2022-08-29T12:49:53.822Z"
   },
   {
    "duration": 128,
    "start_time": "2022-08-29T12:50:12.167Z"
   },
   {
    "duration": 11,
    "start_time": "2022-08-29T12:50:50.413Z"
   },
   {
    "duration": 12,
    "start_time": "2022-08-29T12:51:10.746Z"
   },
   {
    "duration": 10,
    "start_time": "2022-08-29T12:51:15.042Z"
   },
   {
    "duration": 70,
    "start_time": "2022-08-29T12:51:25.063Z"
   },
   {
    "duration": 15,
    "start_time": "2022-08-29T12:52:33.287Z"
   },
   {
    "duration": 102,
    "start_time": "2022-08-29T12:52:44.986Z"
   },
   {
    "duration": 17,
    "start_time": "2022-08-29T12:54:36.784Z"
   },
   {
    "duration": 8,
    "start_time": "2022-08-29T12:54:41.693Z"
   },
   {
    "duration": 28,
    "start_time": "2022-08-29T12:55:00.388Z"
   },
   {
    "duration": 4,
    "start_time": "2022-08-29T12:55:04.072Z"
   },
   {
    "duration": 5,
    "start_time": "2022-08-29T12:55:07.788Z"
   },
   {
    "duration": 93,
    "start_time": "2022-08-29T12:56:28.650Z"
   },
   {
    "duration": 10,
    "start_time": "2022-08-29T12:57:16.080Z"
   },
   {
    "duration": 16,
    "start_time": "2022-08-29T12:57:22.157Z"
   },
   {
    "duration": 4,
    "start_time": "2022-08-29T12:57:50.047Z"
   },
   {
    "duration": 14,
    "start_time": "2022-08-29T12:58:01.085Z"
   },
   {
    "duration": 4,
    "start_time": "2022-08-29T12:58:11.053Z"
   },
   {
    "duration": 24,
    "start_time": "2022-08-29T12:58:15.927Z"
   },
   {
    "duration": 11,
    "start_time": "2022-08-29T12:58:19.050Z"
   },
   {
    "duration": 6,
    "start_time": "2022-08-29T12:58:22.208Z"
   },
   {
    "duration": 15,
    "start_time": "2022-08-29T12:58:36.763Z"
   },
   {
    "duration": 6,
    "start_time": "2022-08-29T12:58:41.116Z"
   },
   {
    "duration": 9,
    "start_time": "2022-08-29T12:59:12.589Z"
   },
   {
    "duration": 114,
    "start_time": "2022-08-29T12:59:22.630Z"
   },
   {
    "duration": 203,
    "start_time": "2022-08-29T12:59:30.385Z"
   },
   {
    "duration": 6,
    "start_time": "2022-08-29T13:01:04.867Z"
   },
   {
    "duration": 7485,
    "start_time": "2022-08-29T13:01:23.147Z"
   },
   {
    "duration": 1340,
    "start_time": "2022-08-29T13:07:19.476Z"
   },
   {
    "duration": 27,
    "start_time": "2022-08-29T13:08:10.894Z"
   },
   {
    "duration": 2485,
    "start_time": "2022-08-29T13:08:39.180Z"
   },
   {
    "duration": 2547,
    "start_time": "2022-08-29T13:11:50.191Z"
   },
   {
    "duration": 2465,
    "start_time": "2022-08-29T13:12:42.959Z"
   },
   {
    "duration": 2611,
    "start_time": "2022-08-29T13:13:14.039Z"
   },
   {
    "duration": 2457,
    "start_time": "2022-08-29T13:13:27.412Z"
   },
   {
    "duration": 2468,
    "start_time": "2022-08-29T13:13:36.080Z"
   },
   {
    "duration": 1485,
    "start_time": "2022-09-01T05:56:08.102Z"
   },
   {
    "duration": 63,
    "start_time": "2022-09-01T05:56:09.589Z"
   },
   {
    "duration": 13,
    "start_time": "2022-09-01T05:56:09.654Z"
   },
   {
    "duration": 10,
    "start_time": "2022-09-01T05:56:09.669Z"
   },
   {
    "duration": 12,
    "start_time": "2022-09-01T05:56:09.681Z"
   },
   {
    "duration": 5,
    "start_time": "2022-09-01T05:56:09.694Z"
   },
   {
    "duration": 9,
    "start_time": "2022-09-01T05:56:09.700Z"
   },
   {
    "duration": 6,
    "start_time": "2022-09-01T05:56:09.710Z"
   },
   {
    "duration": 53,
    "start_time": "2022-09-01T05:56:09.718Z"
   },
   {
    "duration": 4,
    "start_time": "2022-09-01T05:56:09.772Z"
   },
   {
    "duration": 17,
    "start_time": "2022-09-01T05:56:09.778Z"
   },
   {
    "duration": 2,
    "start_time": "2022-09-01T05:56:09.797Z"
   },
   {
    "duration": 5097,
    "start_time": "2022-09-01T05:56:09.801Z"
   },
   {
    "duration": 1780,
    "start_time": "2022-09-01T05:56:14.901Z"
   },
   {
    "duration": 14037,
    "start_time": "2022-09-01T05:56:16.684Z"
   },
   {
    "duration": 26,
    "start_time": "2022-09-01T05:56:30.723Z"
   },
   {
    "duration": 159,
    "start_time": "2022-09-01T05:56:30.750Z"
   },
   {
    "duration": 24,
    "start_time": "2022-09-01T05:56:30.910Z"
   },
   {
    "duration": 4,
    "start_time": "2022-09-01T05:56:30.935Z"
   },
   {
    "duration": 4,
    "start_time": "2022-09-01T05:58:20.119Z"
   },
   {
    "duration": 4,
    "start_time": "2022-09-01T05:58:42.904Z"
   },
   {
    "duration": 4,
    "start_time": "2022-09-01T06:00:05.359Z"
   },
   {
    "duration": 1946,
    "start_time": "2022-09-01T06:31:44.941Z"
   },
   {
    "duration": 2035,
    "start_time": "2022-09-01T06:34:14.935Z"
   },
   {
    "duration": 2244,
    "start_time": "2022-09-01T06:37:23.454Z"
   },
   {
    "duration": 3578,
    "start_time": "2022-09-01T06:37:51.026Z"
   },
   {
    "duration": 15700,
    "start_time": "2022-09-01T06:40:41.162Z"
   },
   {
    "duration": 16144,
    "start_time": "2022-09-01T06:41:23.190Z"
   },
   {
    "duration": 886289,
    "start_time": "2022-09-01T07:05:47.547Z"
   },
   {
    "duration": 12,
    "start_time": "2022-09-01T07:25:02.155Z"
   },
   {
    "duration": 8960,
    "start_time": "2022-09-01T07:28:29.527Z"
   },
   {
    "duration": 1464,
    "start_time": "2022-09-01T07:29:28.477Z"
   },
   {
    "duration": 29,
    "start_time": "2022-09-01T07:29:29.943Z"
   },
   {
    "duration": 13,
    "start_time": "2022-09-01T07:29:29.974Z"
   },
   {
    "duration": 13,
    "start_time": "2022-09-01T07:29:29.989Z"
   },
   {
    "duration": 15,
    "start_time": "2022-09-01T07:29:30.005Z"
   },
   {
    "duration": 24,
    "start_time": "2022-09-01T07:29:30.021Z"
   },
   {
    "duration": 24,
    "start_time": "2022-09-01T07:29:30.047Z"
   },
   {
    "duration": 7,
    "start_time": "2022-09-01T07:29:30.073Z"
   },
   {
    "duration": 33,
    "start_time": "2022-09-01T07:29:30.082Z"
   },
   {
    "duration": 3,
    "start_time": "2022-09-01T07:29:30.116Z"
   },
   {
    "duration": 7,
    "start_time": "2022-09-01T07:29:30.121Z"
   },
   {
    "duration": 14,
    "start_time": "2022-09-01T07:29:30.130Z"
   },
   {
    "duration": 22,
    "start_time": "2022-09-01T07:29:30.146Z"
   },
   {
    "duration": 5133,
    "start_time": "2022-09-01T07:29:30.171Z"
   },
   {
    "duration": 3,
    "start_time": "2022-09-01T07:29:35.305Z"
   },
   {
    "duration": 1673,
    "start_time": "2022-09-01T07:29:35.310Z"
   },
   {
    "duration": 2,
    "start_time": "2022-09-01T07:29:36.985Z"
   },
   {
    "duration": 6889,
    "start_time": "2022-09-01T07:29:36.989Z"
   },
   {
    "duration": 4,
    "start_time": "2022-09-01T07:29:43.879Z"
   },
   {
    "duration": 154,
    "start_time": "2022-09-01T07:29:43.885Z"
   },
   {
    "duration": 5,
    "start_time": "2022-09-01T07:29:44.041Z"
   },
   {
    "duration": 7,
    "start_time": "2022-09-01T07:29:44.047Z"
   },
   {
    "duration": 38,
    "start_time": "2022-09-01T07:29:44.055Z"
   },
   {
    "duration": 5,
    "start_time": "2022-09-01T07:29:44.094Z"
   },
   {
    "duration": 3,
    "start_time": "2022-09-01T07:31:08.573Z"
   },
   {
    "duration": 148,
    "start_time": "2022-09-01T07:31:11.150Z"
   },
   {
    "duration": 34,
    "start_time": "2022-09-01T07:33:34.260Z"
   },
   {
    "duration": 30,
    "start_time": "2022-09-01T07:47:08.738Z"
   },
   {
    "duration": 139,
    "start_time": "2022-09-01T07:47:09.618Z"
   },
   {
    "duration": 28,
    "start_time": "2022-09-01T07:48:54.980Z"
   },
   {
    "duration": 172,
    "start_time": "2022-09-01T07:48:55.942Z"
   },
   {
    "duration": 4,
    "start_time": "2022-09-01T07:49:42.754Z"
   },
   {
    "duration": 4,
    "start_time": "2022-09-01T07:50:06.780Z"
   },
   {
    "duration": 4,
    "start_time": "2022-09-01T07:50:34.140Z"
   },
   {
    "duration": 178,
    "start_time": "2022-09-01T07:50:51.444Z"
   },
   {
    "duration": 9,
    "start_time": "2022-09-01T07:52:25.857Z"
   },
   {
    "duration": 3,
    "start_time": "2022-09-01T07:54:35.891Z"
   },
   {
    "duration": 7,
    "start_time": "2022-09-01T07:54:55.361Z"
   },
   {
    "duration": 4986,
    "start_time": "2022-09-01T07:55:54.021Z"
   },
   {
    "duration": 3570,
    "start_time": "2022-09-01T07:56:13.829Z"
   },
   {
    "duration": 7,
    "start_time": "2022-09-01T07:56:35.754Z"
   },
   {
    "duration": 4,
    "start_time": "2022-09-01T07:57:35.589Z"
   },
   {
    "duration": 4,
    "start_time": "2022-09-01T07:58:04.957Z"
   },
   {
    "duration": 29,
    "start_time": "2022-09-01T07:58:32.728Z"
   },
   {
    "duration": 4,
    "start_time": "2022-09-01T07:58:38.251Z"
   },
   {
    "duration": 81,
    "start_time": "2022-09-01T07:58:42.282Z"
   },
   {
    "duration": 5,
    "start_time": "2022-09-01T07:59:42.065Z"
   },
   {
    "duration": 5,
    "start_time": "2022-09-01T07:59:46.905Z"
   },
   {
    "duration": 78,
    "start_time": "2022-09-01T08:00:03.289Z"
   },
   {
    "duration": 138,
    "start_time": "2022-09-01T08:00:53.750Z"
   },
   {
    "duration": 148,
    "start_time": "2022-09-01T08:01:26.725Z"
   },
   {
    "duration": 77,
    "start_time": "2022-09-01T08:01:56.015Z"
   },
   {
    "duration": 5,
    "start_time": "2022-09-01T08:02:12.325Z"
   },
   {
    "duration": 5,
    "start_time": "2022-09-01T08:05:01.849Z"
   },
   {
    "duration": 3,
    "start_time": "2022-09-01T08:07:51.984Z"
   },
   {
    "duration": 5,
    "start_time": "2022-09-01T08:08:06.594Z"
   },
   {
    "duration": 94,
    "start_time": "2022-09-01T08:08:27.309Z"
   },
   {
    "duration": 6,
    "start_time": "2022-09-01T08:08:33.045Z"
   },
   {
    "duration": 8,
    "start_time": "2022-09-01T08:09:19.606Z"
   },
   {
    "duration": 3,
    "start_time": "2022-09-01T08:09:47.586Z"
   },
   {
    "duration": 26,
    "start_time": "2022-09-01T08:10:27.924Z"
   },
   {
    "duration": 4,
    "start_time": "2022-09-01T08:10:33.986Z"
   },
   {
    "duration": 158,
    "start_time": "2022-09-01T08:10:36.836Z"
   },
   {
    "duration": 24,
    "start_time": "2022-09-01T08:10:53.653Z"
   },
   {
    "duration": 33,
    "start_time": "2022-09-01T08:12:25.510Z"
   },
   {
    "duration": 7,
    "start_time": "2022-09-01T08:14:08.416Z"
   },
   {
    "duration": 4,
    "start_time": "2022-09-01T08:14:12.290Z"
   },
   {
    "duration": 10,
    "start_time": "2022-09-01T09:58:10.882Z"
   },
   {
    "duration": 11,
    "start_time": "2022-09-01T09:58:28.861Z"
   },
   {
    "duration": 11,
    "start_time": "2022-09-01T09:58:49.956Z"
   },
   {
    "duration": 8,
    "start_time": "2022-09-01T09:59:08.270Z"
   },
   {
    "duration": 7,
    "start_time": "2022-09-01T09:59:23.257Z"
   },
   {
    "duration": 5,
    "start_time": "2022-09-01T10:02:10.132Z"
   },
   {
    "duration": 80,
    "start_time": "2022-09-01T10:03:35.726Z"
   },
   {
    "duration": 7,
    "start_time": "2022-09-01T10:04:08.900Z"
   },
   {
    "duration": 10,
    "start_time": "2022-09-01T10:04:25.308Z"
   },
   {
    "duration": 6,
    "start_time": "2022-09-01T10:04:52.794Z"
   },
   {
    "duration": 6,
    "start_time": "2022-09-01T10:05:40.075Z"
   },
   {
    "duration": 10,
    "start_time": "2022-09-01T10:18:01.531Z"
   },
   {
    "duration": 8,
    "start_time": "2022-09-01T10:18:13.121Z"
   },
   {
    "duration": 10,
    "start_time": "2022-09-01T10:18:21.217Z"
   },
   {
    "duration": 67,
    "start_time": "2022-09-01T10:18:42.182Z"
   },
   {
    "duration": 12,
    "start_time": "2022-09-01T10:19:06.568Z"
   },
   {
    "duration": 9,
    "start_time": "2022-09-01T10:22:29.400Z"
   },
   {
    "duration": 10,
    "start_time": "2022-09-01T10:22:54.831Z"
   },
   {
    "duration": 9,
    "start_time": "2022-09-01T10:23:16.846Z"
   },
   {
    "duration": 9,
    "start_time": "2022-09-01T10:23:32.848Z"
   },
   {
    "duration": 10,
    "start_time": "2022-09-01T10:23:36.792Z"
   },
   {
    "duration": 10,
    "start_time": "2022-09-01T10:23:44.567Z"
   },
   {
    "duration": 11,
    "start_time": "2022-09-01T10:24:09.129Z"
   },
   {
    "duration": 11,
    "start_time": "2022-09-01T10:24:22.507Z"
   },
   {
    "duration": 9,
    "start_time": "2022-09-01T10:24:34.459Z"
   },
   {
    "duration": 9,
    "start_time": "2022-09-01T10:24:38.302Z"
   },
   {
    "duration": 9,
    "start_time": "2022-09-01T10:24:40.872Z"
   },
   {
    "duration": 6,
    "start_time": "2022-09-01T10:24:48.998Z"
   },
   {
    "duration": 4,
    "start_time": "2022-09-01T10:25:07.325Z"
   },
   {
    "duration": 9,
    "start_time": "2022-09-01T10:25:35.940Z"
   },
   {
    "duration": 9,
    "start_time": "2022-09-01T10:25:43.429Z"
   },
   {
    "duration": 8,
    "start_time": "2022-09-01T10:25:46.344Z"
   },
   {
    "duration": 9,
    "start_time": "2022-09-01T10:26:01.226Z"
   },
   {
    "duration": 7,
    "start_time": "2022-09-01T10:26:06.561Z"
   },
   {
    "duration": 4,
    "start_time": "2022-09-01T10:26:14.096Z"
   },
   {
    "duration": 4,
    "start_time": "2022-09-01T10:26:18.162Z"
   },
   {
    "duration": 9,
    "start_time": "2022-09-01T10:26:23.545Z"
   },
   {
    "duration": 9,
    "start_time": "2022-09-01T10:26:38.822Z"
   },
   {
    "duration": 9,
    "start_time": "2022-09-01T10:26:44.910Z"
   },
   {
    "duration": 984,
    "start_time": "2022-09-01T10:27:03.269Z"
   },
   {
    "duration": 9,
    "start_time": "2022-09-01T10:30:15.127Z"
   },
   {
    "duration": 11,
    "start_time": "2022-09-01T10:30:30.611Z"
   },
   {
    "duration": 10,
    "start_time": "2022-09-01T10:30:50.127Z"
   },
   {
    "duration": 9,
    "start_time": "2022-09-01T10:31:09.033Z"
   },
   {
    "duration": 10,
    "start_time": "2022-09-01T10:31:21.299Z"
   },
   {
    "duration": 4,
    "start_time": "2022-09-01T10:31:42.828Z"
   },
   {
    "duration": 5,
    "start_time": "2022-09-01T10:32:01.171Z"
   },
   {
    "duration": 1267,
    "start_time": "2022-09-01T10:32:45.917Z"
   },
   {
    "duration": 1362,
    "start_time": "2022-09-01T10:33:15.854Z"
   },
   {
    "duration": 1169,
    "start_time": "2022-09-01T10:33:28.279Z"
   },
   {
    "duration": 1305,
    "start_time": "2022-09-01T10:34:01.975Z"
   },
   {
    "duration": 1225,
    "start_time": "2022-09-01T10:34:18.732Z"
   },
   {
    "duration": 1143,
    "start_time": "2022-09-01T10:34:29.348Z"
   },
   {
    "duration": 1727,
    "start_time": "2022-09-01T10:34:57.898Z"
   },
   {
    "duration": 1715,
    "start_time": "2022-09-01T10:35:17.997Z"
   },
   {
    "duration": 1785,
    "start_time": "2022-09-01T10:36:42.290Z"
   },
   {
    "duration": 1756,
    "start_time": "2022-09-01T10:37:04.565Z"
   },
   {
    "duration": 1638,
    "start_time": "2022-09-01T10:37:18.123Z"
   },
   {
    "duration": 1639,
    "start_time": "2022-09-01T10:37:41.563Z"
   },
   {
    "duration": 277,
    "start_time": "2022-09-01T10:37:50.663Z"
   },
   {
    "duration": 144,
    "start_time": "2022-09-01T10:37:54.263Z"
   },
   {
    "duration": 269,
    "start_time": "2022-09-01T10:38:33.753Z"
   },
   {
    "duration": 502,
    "start_time": "2022-09-01T10:38:38.497Z"
   },
   {
    "duration": 130,
    "start_time": "2022-09-01T10:38:44.148Z"
   },
   {
    "duration": 267,
    "start_time": "2022-09-01T10:38:48.763Z"
   },
   {
    "duration": 482,
    "start_time": "2022-09-01T10:41:00.271Z"
   },
   {
    "duration": 3307,
    "start_time": "2022-09-01T10:41:05.168Z"
   },
   {
    "duration": 9,
    "start_time": "2022-09-01T10:42:31.132Z"
   },
   {
    "duration": 4,
    "start_time": "2022-09-01T10:42:41.609Z"
   },
   {
    "duration": 3,
    "start_time": "2022-09-01T10:42:55.633Z"
   },
   {
    "duration": 17,
    "start_time": "2022-09-01T10:43:11.413Z"
   },
   {
    "duration": 4,
    "start_time": "2022-09-01T10:43:26.650Z"
   },
   {
    "duration": 3172,
    "start_time": "2022-09-01T10:43:33.923Z"
   },
   {
    "duration": 4,
    "start_time": "2022-09-01T10:43:43.142Z"
   },
   {
    "duration": 4,
    "start_time": "2022-09-01T10:44:13.633Z"
   },
   {
    "duration": 26,
    "start_time": "2022-09-01T10:48:32.168Z"
   },
   {
    "duration": 137,
    "start_time": "2022-09-01T10:51:33.784Z"
   },
   {
    "duration": 103,
    "start_time": "2022-09-01T10:52:40.553Z"
   },
   {
    "duration": 193,
    "start_time": "2022-09-01T10:52:46.877Z"
   },
   {
    "duration": 102,
    "start_time": "2022-09-01T10:53:25.530Z"
   },
   {
    "duration": 13,
    "start_time": "2022-09-01T10:55:33.165Z"
   },
   {
    "duration": 147,
    "start_time": "2022-09-01T10:57:08.534Z"
   },
   {
    "duration": 591,
    "start_time": "2022-09-01T10:57:14.248Z"
   },
   {
    "duration": 146,
    "start_time": "2022-09-01T10:57:49.648Z"
   },
   {
    "duration": 138,
    "start_time": "2022-09-01T10:58:17.824Z"
   },
   {
    "duration": 165,
    "start_time": "2022-09-01T10:58:50.481Z"
   },
   {
    "duration": 158,
    "start_time": "2022-09-01T10:59:00.124Z"
   },
   {
    "duration": 171,
    "start_time": "2022-09-01T10:59:15.480Z"
   },
   {
    "duration": 237,
    "start_time": "2022-09-01T10:59:35.532Z"
   },
   {
    "duration": 618,
    "start_time": "2022-09-01T11:00:04.107Z"
   },
   {
    "duration": 96,
    "start_time": "2022-09-01T11:00:27.887Z"
   },
   {
    "duration": 18,
    "start_time": "2022-09-01T11:00:38.581Z"
   },
   {
    "duration": 8,
    "start_time": "2022-09-01T11:00:49.147Z"
   },
   {
    "duration": 92,
    "start_time": "2022-09-01T11:00:54.838Z"
   },
   {
    "duration": 164,
    "start_time": "2022-09-01T11:02:47.468Z"
   },
   {
    "duration": 710,
    "start_time": "2022-09-01T11:02:52.425Z"
   },
   {
    "duration": 156,
    "start_time": "2022-09-01T11:03:07.079Z"
   },
   {
    "duration": 590,
    "start_time": "2022-09-01T11:05:43.866Z"
   },
   {
    "duration": 137,
    "start_time": "2022-09-01T11:05:49.637Z"
   },
   {
    "duration": 113,
    "start_time": "2022-09-01T11:07:23.612Z"
   },
   {
    "duration": 136,
    "start_time": "2022-09-01T11:07:41.975Z"
   },
   {
    "duration": 150,
    "start_time": "2022-09-01T11:07:48.932Z"
   },
   {
    "duration": 241,
    "start_time": "2022-09-01T11:07:56.190Z"
   },
   {
    "duration": 112,
    "start_time": "2022-09-01T11:51:32.089Z"
   },
   {
    "duration": 318,
    "start_time": "2022-09-01T11:52:06.975Z"
   },
   {
    "duration": 289,
    "start_time": "2022-09-01T11:52:45.588Z"
   },
   {
    "duration": 384,
    "start_time": "2022-09-01T11:53:23.038Z"
   },
   {
    "duration": 142,
    "start_time": "2022-09-01T12:11:24.681Z"
   },
   {
    "duration": 264,
    "start_time": "2022-09-01T12:11:39.287Z"
   },
   {
    "duration": 268,
    "start_time": "2022-09-01T12:12:25.519Z"
   },
   {
    "duration": 158,
    "start_time": "2022-09-01T12:13:57.369Z"
   },
   {
    "duration": 169,
    "start_time": "2022-09-01T12:14:40.540Z"
   },
   {
    "duration": 151,
    "start_time": "2022-09-01T12:14:55.147Z"
   },
   {
    "duration": 176,
    "start_time": "2022-09-01T12:15:23.519Z"
   },
   {
    "duration": 164,
    "start_time": "2022-09-01T12:15:57.317Z"
   },
   {
    "duration": 308,
    "start_time": "2022-09-01T12:16:05.285Z"
   },
   {
    "duration": 255,
    "start_time": "2022-09-01T12:16:18.788Z"
   },
   {
    "duration": 313,
    "start_time": "2022-09-01T12:16:29.784Z"
   },
   {
    "duration": 304,
    "start_time": "2022-09-01T12:16:44.692Z"
   },
   {
    "duration": 242,
    "start_time": "2022-09-01T12:18:11.033Z"
   },
   {
    "duration": 286,
    "start_time": "2022-09-01T12:18:32.799Z"
   },
   {
    "duration": 301,
    "start_time": "2022-09-01T12:19:14.349Z"
   },
   {
    "duration": 85,
    "start_time": "2022-09-01T12:20:01.052Z"
   },
   {
    "duration": 158,
    "start_time": "2022-09-01T12:20:19.166Z"
   },
   {
    "duration": 243,
    "start_time": "2022-09-01T12:20:31.323Z"
   },
   {
    "duration": 160,
    "start_time": "2022-09-01T12:21:19.872Z"
   },
   {
    "duration": 147,
    "start_time": "2022-09-01T12:21:58.963Z"
   },
   {
    "duration": 264,
    "start_time": "2022-09-01T12:22:14.069Z"
   },
   {
    "duration": 264,
    "start_time": "2022-09-01T12:23:54.021Z"
   },
   {
    "duration": 327,
    "start_time": "2022-09-01T12:29:22.368Z"
   },
   {
    "duration": 355,
    "start_time": "2022-09-01T12:30:17.196Z"
   },
   {
    "duration": 6743,
    "start_time": "2022-09-01T12:33:27.182Z"
   },
   {
    "duration": 11851,
    "start_time": "2022-09-01T12:37:58.048Z"
   },
   {
    "duration": 2701,
    "start_time": "2022-09-01T12:39:00.988Z"
   },
   {
    "duration": 9414,
    "start_time": "2022-09-01T12:39:15.066Z"
   },
   {
    "duration": 5260,
    "start_time": "2022-09-01T12:40:23.825Z"
   },
   {
    "duration": 155,
    "start_time": "2022-09-01T12:41:01.229Z"
   },
   {
    "duration": 142,
    "start_time": "2022-09-01T12:41:08.482Z"
   },
   {
    "duration": 5539,
    "start_time": "2022-09-01T12:41:31.565Z"
   },
   {
    "duration": 5441,
    "start_time": "2022-09-01T12:41:52.878Z"
   },
   {
    "duration": 5240,
    "start_time": "2022-09-01T12:46:05.147Z"
   },
   {
    "duration": 1283,
    "start_time": "2022-09-01T12:53:43.681Z"
   },
   {
    "duration": 29,
    "start_time": "2022-09-01T12:53:44.966Z"
   },
   {
    "duration": 18,
    "start_time": "2022-09-01T12:53:44.997Z"
   },
   {
    "duration": 19,
    "start_time": "2022-09-01T12:53:45.018Z"
   },
   {
    "duration": 14,
    "start_time": "2022-09-01T12:53:45.039Z"
   },
   {
    "duration": 6,
    "start_time": "2022-09-01T12:53:45.055Z"
   },
   {
    "duration": 15,
    "start_time": "2022-09-01T12:53:45.063Z"
   },
   {
    "duration": 7,
    "start_time": "2022-09-01T12:53:45.080Z"
   },
   {
    "duration": 25,
    "start_time": "2022-09-01T12:53:45.088Z"
   },
   {
    "duration": 4,
    "start_time": "2022-09-01T12:53:45.116Z"
   },
   {
    "duration": 8,
    "start_time": "2022-09-01T12:53:45.121Z"
   },
   {
    "duration": 37,
    "start_time": "2022-09-01T12:53:45.131Z"
   },
   {
    "duration": 3,
    "start_time": "2022-09-01T12:53:45.169Z"
   },
   {
    "duration": 5904,
    "start_time": "2022-09-01T12:53:45.174Z"
   },
   {
    "duration": 3,
    "start_time": "2022-09-01T12:53:51.080Z"
   },
   {
    "duration": 1620,
    "start_time": "2022-09-01T12:53:51.084Z"
   },
   {
    "duration": 5229,
    "start_time": "2022-09-01T12:53:52.706Z"
   },
   {
    "duration": 3285,
    "start_time": "2022-09-01T12:53:57.937Z"
   },
   {
    "duration": 5,
    "start_time": "2022-09-01T12:54:01.224Z"
   },
   {
    "duration": 17,
    "start_time": "2022-09-01T12:54:01.231Z"
   },
   {
    "duration": 8975,
    "start_time": "2022-09-01T12:54:01.250Z"
   },
   {
    "duration": 43,
    "start_time": "2022-09-01T12:54:10.226Z"
   },
   {
    "duration": 5,
    "start_time": "2022-09-01T12:54:10.272Z"
   },
   {
    "duration": 195,
    "start_time": "2022-09-01T12:54:10.278Z"
   },
   {
    "duration": 31,
    "start_time": "2022-09-01T12:54:10.476Z"
   },
   {
    "duration": 4,
    "start_time": "2022-09-01T12:54:10.509Z"
   },
   {
    "duration": 30,
    "start_time": "2022-09-01T12:54:10.515Z"
   },
   {
    "duration": 132,
    "start_time": "2022-09-01T12:54:10.549Z"
   },
   {
    "duration": 0,
    "start_time": "2022-09-01T12:54:10.683Z"
   },
   {
    "duration": 5353,
    "start_time": "2022-09-01T12:59:56.677Z"
   },
   {
    "duration": 5585,
    "start_time": "2022-09-01T13:08:55.083Z"
   },
   {
    "duration": 6264,
    "start_time": "2022-09-01T13:13:01.786Z"
   },
   {
    "duration": 34069,
    "start_time": "2022-09-01T13:14:51.250Z"
   },
   {
    "duration": 7894,
    "start_time": "2022-09-01T13:15:54.292Z"
   },
   {
    "duration": 141,
    "start_time": "2022-09-01T13:22:00.848Z"
   },
   {
    "duration": 7828,
    "start_time": "2022-09-01T13:22:16.700Z"
   },
   {
    "duration": 7944,
    "start_time": "2022-09-01T13:22:37.107Z"
   },
   {
    "duration": 8008,
    "start_time": "2022-09-01T13:24:15.130Z"
   },
   {
    "duration": 11960,
    "start_time": "2022-09-01T13:25:28.747Z"
   },
   {
    "duration": 19784,
    "start_time": "2022-09-01T13:27:51.117Z"
   },
   {
    "duration": 1448,
    "start_time": "2022-09-01T13:28:52.761Z"
   },
   {
    "duration": 186,
    "start_time": "2022-09-01T13:29:10.814Z"
   },
   {
    "duration": 1426,
    "start_time": "2022-09-01T13:30:59.214Z"
   },
   {
    "duration": 42,
    "start_time": "2022-09-01T13:31:00.642Z"
   },
   {
    "duration": 16,
    "start_time": "2022-09-01T13:31:00.688Z"
   },
   {
    "duration": 12,
    "start_time": "2022-09-01T13:31:00.705Z"
   },
   {
    "duration": 17,
    "start_time": "2022-09-01T13:31:00.720Z"
   },
   {
    "duration": 8,
    "start_time": "2022-09-01T13:31:00.739Z"
   },
   {
    "duration": 27,
    "start_time": "2022-09-01T13:31:00.749Z"
   },
   {
    "duration": 7,
    "start_time": "2022-09-01T13:31:00.778Z"
   },
   {
    "duration": 49,
    "start_time": "2022-09-01T13:31:00.790Z"
   },
   {
    "duration": 4,
    "start_time": "2022-09-01T13:31:00.840Z"
   },
   {
    "duration": 15,
    "start_time": "2022-09-01T13:31:00.845Z"
   },
   {
    "duration": 46,
    "start_time": "2022-09-01T13:31:00.861Z"
   },
   {
    "duration": 4,
    "start_time": "2022-09-01T13:31:00.909Z"
   },
   {
    "duration": 7104,
    "start_time": "2022-09-01T13:31:00.917Z"
   },
   {
    "duration": 3,
    "start_time": "2022-09-01T13:31:08.023Z"
   },
   {
    "duration": 1467,
    "start_time": "2022-09-01T13:31:08.027Z"
   },
   {
    "duration": 7924,
    "start_time": "2022-09-01T13:31:09.498Z"
   },
   {
    "duration": 3422,
    "start_time": "2022-09-01T13:31:17.424Z"
   },
   {
    "duration": 4,
    "start_time": "2022-09-01T13:31:20.847Z"
   },
   {
    "duration": 19,
    "start_time": "2022-09-01T13:31:20.852Z"
   },
   {
    "duration": 20478,
    "start_time": "2022-09-01T13:31:20.873Z"
   },
   {
    "duration": 36,
    "start_time": "2022-09-01T13:31:41.353Z"
   },
   {
    "duration": 31,
    "start_time": "2022-09-01T13:31:41.390Z"
   },
   {
    "duration": 194,
    "start_time": "2022-09-01T13:31:41.423Z"
   },
   {
    "duration": 28,
    "start_time": "2022-09-01T13:31:41.626Z"
   },
   {
    "duration": 3,
    "start_time": "2022-09-01T13:31:41.656Z"
   },
   {
    "duration": 33,
    "start_time": "2022-09-01T13:31:41.661Z"
   },
   {
    "duration": 130,
    "start_time": "2022-09-01T13:31:41.701Z"
   },
   {
    "duration": 0,
    "start_time": "2022-09-01T13:31:41.833Z"
   },
   {
    "duration": 1627,
    "start_time": "2022-09-01T13:33:30.602Z"
   },
   {
    "duration": 32,
    "start_time": "2022-09-01T13:33:32.231Z"
   },
   {
    "duration": 18,
    "start_time": "2022-09-01T13:33:32.265Z"
   },
   {
    "duration": 29,
    "start_time": "2022-09-01T13:33:32.287Z"
   },
   {
    "duration": 14,
    "start_time": "2022-09-01T13:33:32.318Z"
   },
   {
    "duration": 6,
    "start_time": "2022-09-01T13:33:32.334Z"
   },
   {
    "duration": 10,
    "start_time": "2022-09-01T13:33:32.341Z"
   },
   {
    "duration": 10,
    "start_time": "2022-09-01T13:33:32.353Z"
   },
   {
    "duration": 37,
    "start_time": "2022-09-01T13:33:32.371Z"
   },
   {
    "duration": 4,
    "start_time": "2022-09-01T13:33:32.410Z"
   },
   {
    "duration": 12,
    "start_time": "2022-09-01T13:33:32.415Z"
   },
   {
    "duration": 18,
    "start_time": "2022-09-01T13:33:32.428Z"
   },
   {
    "duration": 7,
    "start_time": "2022-09-01T13:33:32.448Z"
   },
   {
    "duration": 7319,
    "start_time": "2022-09-01T13:33:32.457Z"
   },
   {
    "duration": 4,
    "start_time": "2022-09-01T13:33:39.779Z"
   },
   {
    "duration": 1324,
    "start_time": "2022-09-01T13:33:39.788Z"
   },
   {
    "duration": 7924,
    "start_time": "2022-09-01T13:33:41.113Z"
   },
   {
    "duration": 3655,
    "start_time": "2022-09-01T13:33:49.038Z"
   },
   {
    "duration": 4,
    "start_time": "2022-09-01T13:33:52.699Z"
   },
   {
    "duration": 4,
    "start_time": "2022-09-01T13:33:52.705Z"
   },
   {
    "duration": 17023,
    "start_time": "2022-09-01T13:33:52.711Z"
   },
   {
    "duration": 44,
    "start_time": "2022-09-01T13:34:09.736Z"
   },
   {
    "duration": 15,
    "start_time": "2022-09-01T13:34:09.782Z"
   },
   {
    "duration": 161,
    "start_time": "2022-09-01T13:34:09.798Z"
   },
   {
    "duration": 41,
    "start_time": "2022-09-01T13:34:09.961Z"
   },
   {
    "duration": 21,
    "start_time": "2022-09-01T13:34:10.004Z"
   },
   {
    "duration": 11,
    "start_time": "2022-09-01T13:34:10.027Z"
   },
   {
    "duration": 119,
    "start_time": "2022-09-01T13:34:10.040Z"
   },
   {
    "duration": 0,
    "start_time": "2022-09-01T13:34:10.170Z"
   },
   {
    "duration": 1475,
    "start_time": "2022-09-01T13:36:44.085Z"
   },
   {
    "duration": 40,
    "start_time": "2022-09-01T13:36:45.562Z"
   },
   {
    "duration": 14,
    "start_time": "2022-09-01T13:36:45.604Z"
   },
   {
    "duration": 12,
    "start_time": "2022-09-01T13:36:45.619Z"
   },
   {
    "duration": 13,
    "start_time": "2022-09-01T13:36:45.633Z"
   },
   {
    "duration": 5,
    "start_time": "2022-09-01T13:36:45.648Z"
   },
   {
    "duration": 11,
    "start_time": "2022-09-01T13:36:45.655Z"
   },
   {
    "duration": 21,
    "start_time": "2022-09-01T13:36:45.667Z"
   },
   {
    "duration": 38,
    "start_time": "2022-09-01T13:36:45.689Z"
   },
   {
    "duration": 5,
    "start_time": "2022-09-01T13:36:45.729Z"
   },
   {
    "duration": 4,
    "start_time": "2022-09-01T13:36:45.736Z"
   },
   {
    "duration": 12,
    "start_time": "2022-09-01T13:36:45.742Z"
   },
   {
    "duration": 3,
    "start_time": "2022-09-01T13:36:45.756Z"
   },
   {
    "duration": 7234,
    "start_time": "2022-09-01T13:36:45.769Z"
   },
   {
    "duration": 3,
    "start_time": "2022-09-01T13:36:53.005Z"
   },
   {
    "duration": 1306,
    "start_time": "2022-09-01T13:36:53.009Z"
   },
   {
    "duration": 8127,
    "start_time": "2022-09-01T13:36:54.316Z"
   },
   {
    "duration": 3537,
    "start_time": "2022-09-01T13:37:02.444Z"
   },
   {
    "duration": 5,
    "start_time": "2022-09-01T13:37:05.985Z"
   },
   {
    "duration": 9,
    "start_time": "2022-09-01T13:37:05.992Z"
   },
   {
    "duration": 16457,
    "start_time": "2022-09-01T13:37:06.003Z"
   },
   {
    "duration": 42,
    "start_time": "2022-09-01T13:37:22.462Z"
   },
   {
    "duration": 4,
    "start_time": "2022-09-01T13:37:22.506Z"
   },
   {
    "duration": 182,
    "start_time": "2022-09-01T13:37:22.513Z"
   },
   {
    "duration": 25,
    "start_time": "2022-09-01T13:37:22.697Z"
   },
   {
    "duration": 3,
    "start_time": "2022-09-01T13:37:22.724Z"
   },
   {
    "duration": 17,
    "start_time": "2022-09-01T13:37:22.729Z"
   },
   {
    "duration": 123,
    "start_time": "2022-09-01T13:37:22.747Z"
   },
   {
    "duration": 0,
    "start_time": "2022-09-01T13:37:22.876Z"
   },
   {
    "duration": 8477,
    "start_time": "2022-09-01T14:02:33.651Z"
   },
   {
    "duration": 8682,
    "start_time": "2022-09-01T14:02:57.617Z"
   },
   {
    "duration": 11,
    "start_time": "2022-09-01T14:03:22.743Z"
   },
   {
    "duration": 8835,
    "start_time": "2022-09-01T14:04:15.005Z"
   },
   {
    "duration": 11,
    "start_time": "2022-09-01T14:05:09.412Z"
   },
   {
    "duration": 9328,
    "start_time": "2022-09-01T14:05:13.604Z"
   },
   {
    "duration": 6767,
    "start_time": "2022-09-02T01:32:16.755Z"
   },
   {
    "duration": 6881,
    "start_time": "2022-09-02T01:32:45.409Z"
   },
   {
    "duration": 6837,
    "start_time": "2022-09-02T01:33:05.315Z"
   },
   {
    "duration": 117,
    "start_time": "2022-09-02T01:42:49.614Z"
   },
   {
    "duration": 13926,
    "start_time": "2022-09-02T02:10:23.297Z"
   },
   {
    "duration": 69,
    "start_time": "2022-09-02T02:11:29.141Z"
   },
   {
    "duration": 13159,
    "start_time": "2022-09-02T02:11:49.225Z"
   },
   {
    "duration": 9634,
    "start_time": "2022-09-02T02:12:31.137Z"
   },
   {
    "duration": 3385,
    "start_time": "2022-09-02T02:13:20.717Z"
   },
   {
    "duration": 4717,
    "start_time": "2022-09-02T02:24:17.588Z"
   },
   {
    "duration": 3174,
    "start_time": "2022-09-02T02:25:41.104Z"
   },
   {
    "duration": 3323,
    "start_time": "2022-09-02T02:25:59.696Z"
   },
   {
    "duration": 3242,
    "start_time": "2022-09-02T02:27:17.364Z"
   },
   {
    "duration": 3432,
    "start_time": "2022-09-02T02:27:42.284Z"
   },
   {
    "duration": 3518,
    "start_time": "2022-09-02T02:29:23.275Z"
   },
   {
    "duration": 4850,
    "start_time": "2022-09-02T02:30:55.232Z"
   },
   {
    "duration": 3549,
    "start_time": "2022-09-02T02:31:26.426Z"
   },
   {
    "duration": 4449,
    "start_time": "2022-09-02T02:32:48.991Z"
   },
   {
    "duration": 4325,
    "start_time": "2022-09-02T02:34:18.806Z"
   },
   {
    "duration": 4427,
    "start_time": "2022-09-02T02:34:38.023Z"
   },
   {
    "duration": 8269,
    "start_time": "2022-09-02T02:36:07.044Z"
   },
   {
    "duration": 6647,
    "start_time": "2022-09-02T02:36:35.160Z"
   },
   {
    "duration": 6667,
    "start_time": "2022-09-02T02:37:28.734Z"
   },
   {
    "duration": 676,
    "start_time": "2022-09-02T02:38:50.192Z"
   },
   {
    "duration": 5131,
    "start_time": "2022-09-02T02:40:49.592Z"
   },
   {
    "duration": 1037,
    "start_time": "2022-09-02T02:42:06.255Z"
   },
   {
    "duration": 1730,
    "start_time": "2022-09-02T02:43:04.429Z"
   },
   {
    "duration": 971,
    "start_time": "2022-09-02T02:43:23.035Z"
   },
   {
    "duration": 1339,
    "start_time": "2022-09-02T02:43:51.362Z"
   },
   {
    "duration": 924,
    "start_time": "2022-09-02T02:45:03.787Z"
   },
   {
    "duration": 1325,
    "start_time": "2022-09-02T02:46:18.580Z"
   },
   {
    "duration": 1015,
    "start_time": "2022-09-02T02:48:08.485Z"
   },
   {
    "duration": 1294,
    "start_time": "2022-09-02T02:48:25.416Z"
   },
   {
    "duration": 3307,
    "start_time": "2022-09-02T02:48:43.675Z"
   },
   {
    "duration": 4467,
    "start_time": "2022-09-02T02:49:08.876Z"
   },
   {
    "duration": 5210,
    "start_time": "2022-09-02T02:50:21.272Z"
   },
   {
    "duration": 3926,
    "start_time": "2022-09-02T02:51:07.648Z"
   },
   {
    "duration": 5208,
    "start_time": "2022-09-02T02:52:06.153Z"
   },
   {
    "duration": 5926,
    "start_time": "2022-09-02T03:21:35.127Z"
   },
   {
    "duration": 5378,
    "start_time": "2022-09-02T03:37:40.657Z"
   },
   {
    "duration": 151,
    "start_time": "2022-09-02T03:56:35.351Z"
   },
   {
    "duration": 33,
    "start_time": "2022-09-02T03:59:35.240Z"
   },
   {
    "duration": 24,
    "start_time": "2022-09-02T03:59:44.475Z"
   },
   {
    "duration": 27,
    "start_time": "2022-09-02T03:59:55.698Z"
   },
   {
    "duration": 33,
    "start_time": "2022-09-02T08:07:49.284Z"
   },
   {
    "duration": 31,
    "start_time": "2022-09-02T08:08:05.278Z"
   },
   {
    "duration": 13,
    "start_time": "2022-09-02T08:09:41.034Z"
   },
   {
    "duration": 9,
    "start_time": "2022-09-02T08:09:49.133Z"
   },
   {
    "duration": 8,
    "start_time": "2022-09-02T08:10:20.272Z"
   },
   {
    "duration": 8,
    "start_time": "2022-09-02T08:10:44.515Z"
   },
   {
    "duration": 8,
    "start_time": "2022-09-02T08:11:09.448Z"
   },
   {
    "duration": 7,
    "start_time": "2022-09-02T08:13:35.520Z"
   },
   {
    "duration": 8,
    "start_time": "2022-09-02T08:14:35.014Z"
   },
   {
    "duration": 7,
    "start_time": "2022-09-02T08:14:56.400Z"
   },
   {
    "duration": 7,
    "start_time": "2022-09-02T08:15:14.282Z"
   },
   {
    "duration": 7,
    "start_time": "2022-09-02T08:15:20.888Z"
   },
   {
    "duration": 10,
    "start_time": "2022-09-02T08:15:26.626Z"
   },
   {
    "duration": 7,
    "start_time": "2022-09-02T08:15:35.077Z"
   },
   {
    "duration": 8,
    "start_time": "2022-09-02T08:15:42.476Z"
   },
   {
    "duration": 8,
    "start_time": "2022-09-02T08:22:36.237Z"
   },
   {
    "duration": 10,
    "start_time": "2022-09-02T08:23:54.745Z"
   },
   {
    "duration": 123,
    "start_time": "2022-09-02T08:24:07.606Z"
   },
   {
    "duration": 4,
    "start_time": "2022-09-02T08:26:26.366Z"
   },
   {
    "duration": 4,
    "start_time": "2022-09-02T08:28:33.679Z"
   },
   {
    "duration": 5,
    "start_time": "2022-09-02T08:28:40.379Z"
   },
   {
    "duration": 157,
    "start_time": "2022-09-02T08:43:46.582Z"
   },
   {
    "duration": 84,
    "start_time": "2022-09-02T08:44:02.345Z"
   },
   {
    "duration": 122,
    "start_time": "2022-09-02T08:44:22.715Z"
   },
   {
    "duration": 4,
    "start_time": "2022-09-02T08:44:32.295Z"
   },
   {
    "duration": 4,
    "start_time": "2022-09-02T08:44:41.659Z"
   },
   {
    "duration": 5,
    "start_time": "2022-09-02T08:44:46.007Z"
   },
   {
    "duration": 7,
    "start_time": "2022-09-02T08:46:25.711Z"
   }
  ],
  "kernelspec": {
   "display_name": "Python 3 (ipykernel)",
   "language": "python",
   "name": "python3"
  },
  "language_info": {
   "codemirror_mode": {
    "name": "ipython",
    "version": 3
   },
   "file_extension": ".py",
   "mimetype": "text/x-python",
   "name": "python",
   "nbconvert_exporter": "python",
   "pygments_lexer": "ipython3",
   "version": "3.9.7"
  },
  "toc": {
   "base_numbering": 1,
   "nav_menu": {},
   "number_sections": true,
   "sideBar": true,
   "skip_h1_title": true,
   "title_cell": "Table of Contents",
   "title_sidebar": "Contents",
   "toc_cell": false,
   "toc_position": {},
   "toc_section_display": true,
   "toc_window_display": false
  }
 },
 "nbformat": 4,
 "nbformat_minor": 2
}
