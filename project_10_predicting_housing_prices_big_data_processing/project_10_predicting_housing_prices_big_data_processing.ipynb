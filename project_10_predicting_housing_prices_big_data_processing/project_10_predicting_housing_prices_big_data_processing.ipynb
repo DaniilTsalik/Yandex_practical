{
 "cells": [
  {
   "cell_type": "markdown",
   "id": "4de3bd6d",
   "metadata": {
    "toc": true
   },
   "source": [
    "<h1>Table of Contents<span class=\"tocSkip\"></span></h1>\n",
    "<div class=\"toc\"><ul class=\"toc-item\"><li><span><a href=\"#Проект:-Предсказание-стоимости-жилья\" data-toc-modified-id=\"Проект:-Предсказание-стоимости-жилья-1\"><span class=\"toc-item-num\">1&nbsp;&nbsp;</span>Проект: Предсказание стоимости жилья</a></span></li><li><span><a href=\"#Импорт-библиотек\" data-toc-modified-id=\"Импорт-библиотек-2\"><span class=\"toc-item-num\">2&nbsp;&nbsp;</span>Импорт библиотек</a></span></li><li><span><a href=\"#Инициализация-Spark-сессии\" data-toc-modified-id=\"Инициализация-Spark-сессии-3\"><span class=\"toc-item-num\">3&nbsp;&nbsp;</span>Инициализация Spark-сессии</a></span></li><li><span><a href=\"#Чтение-содержимое-файла\" data-toc-modified-id=\"Чтение-содержимое-файла-4\"><span class=\"toc-item-num\">4&nbsp;&nbsp;</span>Чтение содержимое файла</a></span></li><li><span><a href=\"#Ознакомление-и-предобработка-данных\" data-toc-modified-id=\"Ознакомление-и-предобработка-данных-5\"><span class=\"toc-item-num\">5&nbsp;&nbsp;</span>Ознакомление и предобработка данных</a></span></li><li><span><a href=\"#Матрица-корреляции\" data-toc-modified-id=\"Матрица-корреляции-6\"><span class=\"toc-item-num\">6&nbsp;&nbsp;</span>Матрица корреляции</a></span></li><li><span><a href=\"#Проверка-на-дубликаты\" data-toc-modified-id=\"Проверка-на-дубликаты-7\"><span class=\"toc-item-num\">7&nbsp;&nbsp;</span>Проверка на дубликаты</a></span></li><li><span><a href=\"#Построение-моделей\" data-toc-modified-id=\"Построение-моделей-8\"><span class=\"toc-item-num\">8&nbsp;&nbsp;</span>Построение моделей</a></span></li><li><span><a href=\"#Сравнение-результатов-работы-линейной-регрессии-на-двух-наборах-данных-по-метрикам-RMSE,-MAE-и-R2\" data-toc-modified-id=\"Сравнение-результатов-работы-линейной-регрессии-на-двух-наборах-данных-по-метрикам-RMSE,-MAE-и-R2-9\"><span class=\"toc-item-num\">9&nbsp;&nbsp;</span>Сравнение результатов работы линейной регрессии на двух наборах данных по метрикам RMSE, MAE и R2</a></span></li><li><span><a href=\"#Вывод\" data-toc-modified-id=\"Вывод-10\"><span class=\"toc-item-num\">10&nbsp;&nbsp;</span>Вывод</a></span></li></ul></div>"
   ]
  },
  {
   "cell_type": "markdown",
   "id": "GEqQaHzsZ_bA",
   "metadata": {
    "id": "GEqQaHzsZ_bA"
   },
   "source": [
    "## Проект: Предсказание стоимости жилья\n",
    "\n",
    "**Описание:**\n",
    "\n",
    "   В проекте нам нужно обучить модель линейной регрессии на данных о жилье в Калифорнии в 1990 году. На основе данных нужно предсказать медианную стоимость дома в жилом массиве. Обучите модель и сделайте предсказания на тестовой выборке. Для оценки качества модели используем метрики RMSE, MAE и R2.\n",
    "   \n",
    "**Данные:**\n",
    "\n",
    "* `longitude` — широта;\n",
    "* `latitude` — долгота;\n",
    "* `housing_median_age` — медианный возраст жителей жилого массива;\n",
    "* `total_rooms` — общее количество комнат в домах жилого массива;\n",
    "* `total_bedrooms` — общее количество спален в домах жилого массива;\n",
    "* `population` — количество человек, которые проживают в жилом массиве;\n",
    "* `households` — количество домовладений в жилом массиве;\n",
    "* `median_income` — медианный доход жителей жилого массива;\n",
    "* `median_house_value` — медианная стоимость дома в жилом массиве;\n",
    "* `ocean_proximity` — близость к океану.\n",
    "\n",
    "**Цели:**\n",
    "\n",
    "* Постройте двух модели линейной регрессии (обученной на всех данных и только на числовых данных) для предсказания медианной стоимости дома в жилом массиве.\n",
    "* Сравнение результатов работы линейной регрессии на двух наборах данных по метрикам RMSE, MAE и R2.\n",
    "\n",
    "**Структура проекта:**\n",
    " 1. Импорт библиотек.\n",
    " 2. Инициализация Spark-сессии.\n",
    " 3. Чтение содержимое файла.\n",
    " 4. Ознакомление и предобработка данных.\n",
    " 5. Построение моделей.\n",
    " 6. Сравнение результатов работы моделей.\n",
    " 7. Вывод.\n",
    " \n",
    "**Предмет исследования:**\n",
    "* Данных о жилье в Калифорнии в 1990 году.\n",
    "    \n",
    "**Методы:** которые мы применим в данном исследовании:\n",
    "* Загрузка и ознакомление с данными\n",
    "* Работа с пропусками\n",
    "* Pipeline\n",
    "* Cross-validation\n",
    "* Model tuning\n",
    "\n",
    "\n",
    "**Используемые библитеки:** \n",
    " * Pandas\n",
    " * Numpy\n",
    " * Pyspark\n",
    " * Matplotlib\n",
    " * Seaborn"
   ]
  },
  {
   "cell_type": "markdown",
   "id": "53871372",
   "metadata": {
    "id": "53871372"
   },
   "source": [
    "## Импорт библиотек"
   ]
  },
  {
   "cell_type": "code",
   "execution_count": 22,
   "id": "df92e3ec",
   "metadata": {
    "id": "df92e3ec"
   },
   "outputs": [
    {
     "ename": "ModuleNotFoundError",
     "evalue": "No module named 'pyspark.pandas'",
     "output_type": "error",
     "traceback": [
      "\u001b[0;31m---------------------------------------------------------------------------\u001b[0m",
      "\u001b[0;31mModuleNotFoundError\u001b[0m                       Traceback (most recent call last)",
      "\u001b[0;32m/tmp/ipykernel_4791/90570603.py\u001b[0m in \u001b[0;36m<module>\u001b[0;34m\u001b[0m\n\u001b[1;32m      3\u001b[0m \u001b[0;32mimport\u001b[0m \u001b[0mpandas\u001b[0m \u001b[0;32mas\u001b[0m \u001b[0mpd\u001b[0m\u001b[0;34m\u001b[0m\u001b[0;34m\u001b[0m\u001b[0m\n\u001b[1;32m      4\u001b[0m \u001b[0;32mimport\u001b[0m \u001b[0mpyspark\u001b[0m\u001b[0;34m\u001b[0m\u001b[0;34m\u001b[0m\u001b[0m\n\u001b[0;32m----> 5\u001b[0;31m \u001b[0;32mimport\u001b[0m \u001b[0mpyspark\u001b[0m\u001b[0;34m.\u001b[0m\u001b[0mpandas\u001b[0m \u001b[0;32mas\u001b[0m \u001b[0mps\u001b[0m\u001b[0;34m\u001b[0m\u001b[0;34m\u001b[0m\u001b[0m\n\u001b[0m\u001b[1;32m      6\u001b[0m \u001b[0;32mfrom\u001b[0m \u001b[0mpyspark\u001b[0m\u001b[0;34m.\u001b[0m\u001b[0msql\u001b[0m \u001b[0;32mimport\u001b[0m \u001b[0mSparkSession\u001b[0m\u001b[0;34m\u001b[0m\u001b[0;34m\u001b[0m\u001b[0m\n\u001b[1;32m      7\u001b[0m \u001b[0;32mfrom\u001b[0m \u001b[0mpyspark\u001b[0m\u001b[0;34m.\u001b[0m\u001b[0msql\u001b[0m\u001b[0;34m.\u001b[0m\u001b[0mtypes\u001b[0m \u001b[0;32mimport\u001b[0m \u001b[0;34m*\u001b[0m\u001b[0;34m\u001b[0m\u001b[0;34m\u001b[0m\u001b[0m\n",
      "\u001b[0;31mModuleNotFoundError\u001b[0m: No module named 'pyspark.pandas'"
     ]
    }
   ],
   "source": [
    "import matplotlib.pyplot as plt\n",
    "import numpy as np\n",
    "import pandas as pd\n",
    "import pyspark\n",
    "import pyspark.pandas as ps\n",
    "from pyspark.sql import SparkSession\n",
    "from pyspark.sql.types import *\n",
    "import pyspark.sql.functions as F\n",
    "from pyspark.sql.functions import isnan, when, count, col\n",
    "from pyspark.ml import Pipeline\n",
    "from pyspark.ml.regression import LinearRegression\n",
    "from pyspark.ml.feature import Imputer\n",
    "from pyspark.ml.feature import OneHotEncoder\n",
    "from pyspark.ml.feature import StandardScaler\n",
    "from pyspark.ml.feature import StringIndexer \n",
    "from pyspark.ml.feature import VectorAssembler\n",
    "from pyspark.ml.tuning import CrossValidator, ParamGridBuilder\n",
    "from pyspark.ml.evaluation import RegressionEvaluator\n",
    "from pyspark.ml.feature import HashingTF\n",
    "from pyspark.ml.stat import Correlation\n",
    "import seaborn as sns\n",
    "\n",
    "STUDY = False\n",
    "SEED = 1234"
   ]
  },
  {
   "cell_type": "markdown",
   "id": "ec210019",
   "metadata": {},
   "source": [
    "## Инициализация Spark-сессии\n",
    "    Инициализируем локальную spark-сессию:"
   ]
  },
  {
   "cell_type": "code",
   "execution_count": 2,
   "id": "65311fa9",
   "metadata": {},
   "outputs": [],
   "source": [
    "#  Инициализация локальной spark-сессии\n",
    "spark = SparkSession.builder \\\n",
    "                    .master(\"local\") \\\n",
    "                    .appName(\"EDA California Housing\") \\\n",
    "                    .getOrCreate()"
   ]
  },
  {
   "cell_type": "markdown",
   "id": "511a7ba3",
   "metadata": {},
   "source": [
    "## Чтение содержимое файла\n",
    "    Прочитаем данные:"
   ]
  },
  {
   "cell_type": "code",
   "execution_count": 3,
   "id": "0ce8dd53",
   "metadata": {},
   "outputs": [
    {
     "name": "stderr",
     "output_type": "stream",
     "text": [
      "                                                                                \r"
     ]
    }
   ],
   "source": [
    "#  Чтение содержимое файла\n",
    "df = spark.read.option('header', 'true').csv('/datasets/housing.csv', inferSchema = True) "
   ]
  },
  {
   "cell_type": "markdown",
   "id": "bf61db69",
   "metadata": {},
   "source": [
    "<div class=\"alert alert-block alert-success\">\n",
    "<b>Комментарий от ревьюера v1</b>\n",
    "    \n",
    "✔️ Хорошо, что ты сразу прописываешь подгрузку информации о типах признаков в загрузке данных, это освобождает от необходимости приводить к нужному типу.\n",
    "</div> "
   ]
  },
  {
   "cell_type": "markdown",
   "id": "974284af",
   "metadata": {},
   "source": [
    "## Ознакомление и предобработка данных\n",
    "    Взглянем на первые строки датасета:"
   ]
  },
  {
   "cell_type": "code",
   "execution_count": 4,
   "id": "27ed8a42",
   "metadata": {},
   "outputs": [
    {
     "name": "stdout",
     "output_type": "stream",
     "text": [
      "+---------+--------+------------------+-----------+--------------+----------+----------+-------------+------------------+---------------+\n",
      "|longitude|latitude|housing_median_age|total_rooms|total_bedrooms|population|households|median_income|median_house_value|ocean_proximity|\n",
      "+---------+--------+------------------+-----------+--------------+----------+----------+-------------+------------------+---------------+\n",
      "|  -122.23|   37.88|              41.0|      880.0|         129.0|     322.0|     126.0|       8.3252|          452600.0|       NEAR BAY|\n",
      "|  -122.22|   37.86|              21.0|     7099.0|        1106.0|    2401.0|    1138.0|       8.3014|          358500.0|       NEAR BAY|\n",
      "|  -122.24|   37.85|              52.0|     1467.0|         190.0|     496.0|     177.0|       7.2574|          352100.0|       NEAR BAY|\n",
      "|  -122.25|   37.85|              52.0|     1274.0|         235.0|     558.0|     219.0|       5.6431|          341300.0|       NEAR BAY|\n",
      "|  -122.25|   37.85|              52.0|     1627.0|         280.0|     565.0|     259.0|       3.8462|          342200.0|       NEAR BAY|\n",
      "+---------+--------+------------------+-----------+--------------+----------+----------+-------------+------------------+---------------+\n",
      "only showing top 5 rows\n",
      "\n"
     ]
    }
   ],
   "source": [
    "  # Вывод первых строк датасета\n",
    "df.show(5)"
   ]
  },
  {
   "cell_type": "code",
   "execution_count": 5,
   "id": "3152ae4b",
   "metadata": {},
   "outputs": [
    {
     "data": {
      "text/plain": [
       "[('longitude', 'double'),\n",
       " ('latitude', 'double'),\n",
       " ('housing_median_age', 'double'),\n",
       " ('total_rooms', 'double'),\n",
       " ('total_bedrooms', 'double'),\n",
       " ('population', 'double'),\n",
       " ('households', 'double'),\n",
       " ('median_income', 'double'),\n",
       " ('median_house_value', 'double'),\n",
       " ('ocean_proximity', 'string')]"
      ]
     },
     "execution_count": 5,
     "metadata": {},
     "output_type": "execute_result"
    }
   ],
   "source": [
    "  #Типы данных\n",
    "df.dtypes"
   ]
  },
  {
   "cell_type": "code",
   "execution_count": 6,
   "id": "3f11ad25",
   "metadata": {},
   "outputs": [
    {
     "name": "stderr",
     "output_type": "stream",
     "text": [
      "[Stage 3:>                                                          (0 + 1) / 1]\r"
     ]
    },
    {
     "name": "stdout",
     "output_type": "stream",
     "text": [
      "+---------+--------+------------------+-----------+--------------+----------+----------+-------------+------------------+---------------+\n",
      "|longitude|latitude|housing_median_age|total_rooms|total_bedrooms|population|households|median_income|median_house_value|ocean_proximity|\n",
      "+---------+--------+------------------+-----------+--------------+----------+----------+-------------+------------------+---------------+\n",
      "|        0|       0|                 0|          0|           207|         0|         0|            0|                 0|              0|\n",
      "+---------+--------+------------------+-----------+--------------+----------+----------+-------------+------------------+---------------+\n",
      "\n"
     ]
    },
    {
     "name": "stderr",
     "output_type": "stream",
     "text": [
      "                                                                                \r"
     ]
    }
   ],
   "source": [
    "  #Пропущенные значения\n",
    "na_list = [None, np.nan]\n",
    "df.select([count(when((isnan(c)) | col(c).isNull() | col(c).isin(na_list), c)).alias(c) for c in df.columns]).show()"
   ]
  },
  {
   "cell_type": "markdown",
   "id": "8d55e200",
   "metadata": {},
   "source": [
    "207 знчений в столбце `total_bedrooms` пропущенны, заполнять будем медианным значением при помощи Imputer'а на этапе сборки Pipline'на."
   ]
  },
  {
   "cell_type": "code",
   "execution_count": null,
   "id": "266eb98b",
   "metadata": {},
   "outputs": [],
   "source": [
    "def irq_filtration(columns_list, data):\n",
    "    for target_column in columns_list:\n",
    "        first_len = len(data)\n",
    "        Q1 = data[target_column].quantile(0.25)\n",
    "        Q3 = data[target_column].quantile(0.75)\n",
    "        IQR = Q3 - Q1\n",
    "        Lower_Fence = Q1 - (1.5 * IQR)\n",
    "        Upper_Fence = Q3 + (1.5 * IQR)\n",
    "        data = data.loc[(Lower_Fence <= data[target_column]) & (data[target_column] <=  Upper_Fence) & ()]\n",
    "        print(f'В колонке {target_column} отфильтровано {len(data) - first_len} строк')\n",
    "    return data"
   ]
  },
  {
   "cell_type": "code",
   "execution_count": 21,
   "id": "7977b64f",
   "metadata": {},
   "outputs": [
    {
     "ename": "ModuleNotFoundError",
     "evalue": "No module named 'pyspark.pandas'",
     "output_type": "error",
     "traceback": [
      "\u001b[0;31m---------------------------------------------------------------------------\u001b[0m",
      "\u001b[0;31mModuleNotFoundError\u001b[0m                       Traceback (most recent call last)",
      "\u001b[0;32m/tmp/ipykernel_4791/4059958849.py\u001b[0m in \u001b[0;36m<module>\u001b[0;34m\u001b[0m\n\u001b[0;32m----> 1\u001b[0;31m \u001b[0;32mimport\u001b[0m \u001b[0mpyspark\u001b[0m\u001b[0;34m.\u001b[0m\u001b[0mpandas\u001b[0m \u001b[0;32mas\u001b[0m \u001b[0mps\u001b[0m\u001b[0;34m\u001b[0m\u001b[0;34m\u001b[0m\u001b[0m\n\u001b[0m\u001b[1;32m      2\u001b[0m \u001b[0mps\u001b[0m\u001b[0;34m.\u001b[0m\u001b[0mSeries\u001b[0m\u001b[0;34m(\u001b[0m\u001b[0mdf\u001b[0m\u001b[0;34m.\u001b[0m\u001b[0mselect\u001b[0m\u001b[0;34m(\u001b[0m\u001b[0;34m'housing_median_age'\u001b[0m\u001b[0;34m)\u001b[0m\u001b[0;34m)\u001b[0m\u001b[0;34m\u001b[0m\u001b[0;34m\u001b[0m\u001b[0m\n",
      "\u001b[0;31mModuleNotFoundError\u001b[0m: No module named 'pyspark.pandas'"
     ]
    }
   ],
   "source": [
    "import pyspark.pandas as ps\n",
    "ps.Series(df.select('housing_median_age'))"
   ]
  },
  {
   "cell_type": "markdown",
   "id": "476823a0",
   "metadata": {},
   "source": [
    "## Матрица корреляции"
   ]
  },
  {
   "cell_type": "code",
   "execution_count": 7,
   "id": "8fde78d4",
   "metadata": {},
   "outputs": [
    {
     "name": "stderr",
     "output_type": "stream",
     "text": [
      "23/01/21 19:47:41 WARN BLAS: Failed to load implementation from: com.github.fommil.netlib.NativeSystemBLAS\n",
      "23/01/21 19:47:41 WARN BLAS: Failed to load implementation from: com.github.fommil.netlib.NativeRefBLAS\n",
      "                                                                                \r"
     ]
    },
    {
     "data": {
      "image/png": "[encoded data removed]",
      "text/plain": [
       "<Figure size 1080x1080 with 2 Axes>"
      ]
     },
     "metadata": {
      "needs_background": "light"
     },
     "output_type": "display_data"
    }
   ],
   "source": [
    "columns_list = ['longitude',\n",
    "                'latitude',\n",
    "                'housing_median_age',\n",
    "                'total_rooms',\n",
    "                'total_bedrooms',\n",
    "                'population',\n",
    "                'households',\n",
    "                'median_income',\n",
    "                'median_house_value',\n",
    "                'ocean_proximity_ind']\n",
    "vector_col = \"corr_features\"\n",
    "\n",
    "indexer = StringIndexer(inputCol=\"ocean_proximity\", outputCol=\"ocean_proximity_ind\")\n",
    "indexed = indexer.fit(df).transform(df)\n",
    "\n",
    "numericalimputer = Imputer(inputCols=['total_bedrooms'], outputCols=['total_bedrooms'])\n",
    "indexed_imputer  = numericalimputer.fit(indexed).transform(indexed)\n",
    "\n",
    "assembler = VectorAssembler(inputCols=columns_list, outputCol=vector_col)\n",
    "df_vector = assembler.transform(indexed_imputer)\n",
    "\n",
    "\n",
    "matrix = Correlation.corr(df_vector, vector_col).collect()[0][0].toArray()\n",
    "\n",
    "m = matrix\n",
    "m[np.triu_indices(m.shape[0], 0)] = None\n",
    "\n",
    "corr_matrix = m.tolist() \n",
    "corr_matrix_df = pd.DataFrame(data=corr_matrix, columns = columns_list, index=columns_list) \n",
    "\n",
    "labels = corr_matrix_df.columns.values\n",
    "mask = np.triu(np.ones_like(corr_matrix_df, dtype=np.bool_))\n",
    "\n",
    "f, ax = plt.subplots(figsize=(15, 15)) \n",
    "heatmap = sns.heatmap(round(corr_matrix_df, 2), \n",
    "                      mask = mask,\n",
    "                      square = True,\n",
    "                      linewidths = .5,\n",
    "                      cmap = 'coolwarm',\n",
    "                      cbar_kws = {'shrink': .4, \n",
    "                                'ticks' : [-1, -.5, 0, 0.5, 1]},\n",
    "                      vmin = -1, \n",
    "                      vmax = 1,\n",
    "                      annot = True,\n",
    "                      annot_kws = {'size': 10})\n",
    "\n",
    "\n",
    "sns.set_style({'xtick.bottom': True}, {'ytick.left': True})"
   ]
  },
  {
   "cell_type": "code",
   "execution_count": 8,
   "id": "1ce2767b",
   "metadata": {},
   "outputs": [
    {
     "name": "stderr",
     "output_type": "stream",
     "text": [
      "                                                                                \r"
     ]
    },
    {
     "data": {
      "text/html": [
       "<div>\n",
       "<style scoped>\n",
       "    .dataframe tbody tr th:only-of-type {\n",
       "        vertical-align: middle;\n",
       "    }\n",
       "\n",
       "    .dataframe tbody tr th {\n",
       "        vertical-align: top;\n",
       "    }\n",
       "\n",
       "    .dataframe thead th {\n",
       "        text-align: right;\n",
       "    }\n",
       "</style>\n",
       "<table border=\"1\" class=\"dataframe\">\n",
       "  <thead>\n",
       "    <tr style=\"text-align: right;\">\n",
       "      <th></th>\n",
       "      <th>summary</th>\n",
       "      <th>longitude</th>\n",
       "      <th>latitude</th>\n",
       "      <th>housing_median_age</th>\n",
       "      <th>total_rooms</th>\n",
       "      <th>total_bedrooms</th>\n",
       "      <th>population</th>\n",
       "      <th>households</th>\n",
       "      <th>median_income</th>\n",
       "      <th>median_house_value</th>\n",
       "      <th>ocean_proximity</th>\n",
       "    </tr>\n",
       "  </thead>\n",
       "  <tbody>\n",
       "    <tr>\n",
       "      <th>0</th>\n",
       "      <td>count</td>\n",
       "      <td>20640</td>\n",
       "      <td>20640</td>\n",
       "      <td>20640</td>\n",
       "      <td>20640</td>\n",
       "      <td>20433</td>\n",
       "      <td>20640</td>\n",
       "      <td>20640</td>\n",
       "      <td>20640</td>\n",
       "      <td>20640</td>\n",
       "      <td>20640</td>\n",
       "    </tr>\n",
       "    <tr>\n",
       "      <th>1</th>\n",
       "      <td>mean</td>\n",
       "      <td>-119.56970445736148</td>\n",
       "      <td>35.6318614341087</td>\n",
       "      <td>28.639486434108527</td>\n",
       "      <td>2635.7630813953488</td>\n",
       "      <td>537.8705525375618</td>\n",
       "      <td>1425.4767441860465</td>\n",
       "      <td>499.5396802325581</td>\n",
       "      <td>3.8706710029070246</td>\n",
       "      <td>206855.81690891474</td>\n",
       "      <td>None</td>\n",
       "    </tr>\n",
       "    <tr>\n",
       "      <th>2</th>\n",
       "      <td>stddev</td>\n",
       "      <td>2.003531723502584</td>\n",
       "      <td>2.135952397457101</td>\n",
       "      <td>12.58555761211163</td>\n",
       "      <td>2181.6152515827944</td>\n",
       "      <td>421.38507007403115</td>\n",
       "      <td>1132.46212176534</td>\n",
       "      <td>382.3297528316098</td>\n",
       "      <td>1.899821717945263</td>\n",
       "      <td>115395.61587441359</td>\n",
       "      <td>None</td>\n",
       "    </tr>\n",
       "    <tr>\n",
       "      <th>3</th>\n",
       "      <td>min</td>\n",
       "      <td>-124.35</td>\n",
       "      <td>32.54</td>\n",
       "      <td>1.0</td>\n",
       "      <td>2.0</td>\n",
       "      <td>1.0</td>\n",
       "      <td>3.0</td>\n",
       "      <td>1.0</td>\n",
       "      <td>0.4999</td>\n",
       "      <td>14999.0</td>\n",
       "      <td>&lt;1H OCEAN</td>\n",
       "    </tr>\n",
       "    <tr>\n",
       "      <th>4</th>\n",
       "      <td>max</td>\n",
       "      <td>-114.31</td>\n",
       "      <td>41.95</td>\n",
       "      <td>52.0</td>\n",
       "      <td>39320.0</td>\n",
       "      <td>6445.0</td>\n",
       "      <td>35682.0</td>\n",
       "      <td>6082.0</td>\n",
       "      <td>15.0001</td>\n",
       "      <td>500001.0</td>\n",
       "      <td>NEAR OCEAN</td>\n",
       "    </tr>\n",
       "  </tbody>\n",
       "</table>\n",
       "</div>"
      ],
      "text/plain": [
       "  summary            longitude           latitude  housing_median_age  \\\n",
       "0   count                20640              20640               20640   \n",
       "1    mean  -119.56970445736148   35.6318614341087  28.639486434108527   \n",
       "2  stddev    2.003531723502584  2.135952397457101   12.58555761211163   \n",
       "3     min              -124.35              32.54                 1.0   \n",
       "4     max              -114.31              41.95                52.0   \n",
       "\n",
       "          total_rooms      total_bedrooms          population  \\\n",
       "0               20640               20433               20640   \n",
       "1  2635.7630813953488   537.8705525375618  1425.4767441860465   \n",
       "2  2181.6152515827944  421.38507007403115    1132.46212176534   \n",
       "3                 2.0                 1.0                 3.0   \n",
       "4             39320.0              6445.0             35682.0   \n",
       "\n",
       "          households       median_income  median_house_value ocean_proximity  \n",
       "0              20640               20640               20640           20640  \n",
       "1  499.5396802325581  3.8706710029070246  206855.81690891474            None  \n",
       "2  382.3297528316098   1.899821717945263  115395.61587441359            None  \n",
       "3                1.0              0.4999             14999.0       <1H OCEAN  \n",
       "4             6082.0             15.0001            500001.0      NEAR OCEAN  "
      ]
     },
     "execution_count": 8,
     "metadata": {},
     "output_type": "execute_result"
    }
   ],
   "source": [
    "df.describe().toPandas()"
   ]
  },
  {
   "cell_type": "markdown",
   "id": "2413b38a",
   "metadata": {},
   "source": [
    "## Проверка на дубликаты"
   ]
  },
  {
   "cell_type": "code",
   "execution_count": 9,
   "id": "fb2bbed2",
   "metadata": {},
   "outputs": [
    {
     "name": "stderr",
     "output_type": "stream",
     "text": [
      "                                                                                \r"
     ]
    },
    {
     "name": "stdout",
     "output_type": "stream",
     "text": [
      "Уникальных строк: 20640 из 20640\n"
     ]
    }
   ],
   "source": [
    "print(\"Уникальных строк: \" + str(df.distinct().count()) + ' из ' + str(df.count()))"
   ]
  },
  {
   "cell_type": "markdown",
   "id": "9f0a82f3",
   "metadata": {
    "id": "9f0a82f3"
   },
   "source": [
    "## Построение моделей"
   ]
  },
  {
   "cell_type": "markdown",
   "id": "6ff12ae6",
   "metadata": {},
   "source": [
    "В нашем распоряжении 8 числовых признаков, один категориальный и целевое значение:"
   ]
  },
  {
   "cell_type": "code",
   "execution_count": 10,
   "id": "bddb08c4",
   "metadata": {
    "id": "bddb08c4"
   },
   "outputs": [],
   "source": [
    "categorical_cols = ['ocean_proximity']\n",
    "numerical_cols  = ['longitude', 'latitude', 'housing_median_age', 'total_rooms', 'total_bedrooms',\n",
    "                  'population', 'households', 'median_income']\n",
    "target = 'median_house_value'\n",
    "score_dict = {}"
   ]
  },
  {
   "cell_type": "code",
   "execution_count": 11,
   "id": "93f80eaa",
   "metadata": {},
   "outputs": [
    {
     "name": "stderr",
     "output_type": "stream",
     "text": [
      "23/01/21 19:47:59 WARN LAPACK: Failed to load implementation from: com.github.fommil.netlib.NativeSystemLAPACK\n",
      "23/01/21 19:47:59 WARN LAPACK: Failed to load implementation from: com.github.fommil.netlib.NativeRefLAPACK\n"
     ]
    },
    {
     "name": "stdout",
     "output_type": "stream",
     "text": [
      "Модель  LinearRegressionModel: uid=LinearRegression_0a0de986976b, numFeatures=8 при использовании числовых данных получила         следующие метрики:\n",
      "RMSE: 70030.52647254252\n",
      "MAE: 51118.66543555206\n",
      "R2: 0.6329482726998397\n",
      "С параметрами:\n",
      "tMaxIter:  100\n",
      "ElasticNetParam:  0.0\n",
      "RegParam:  2.0\n",
      "Модель  LinearRegressionModel: uid=LinearRegression_2a410de5c74a, numFeatures=12 при использовании всех данных получила         следующие метрики:\n",
      "RMSE: 69050.70193980727\n",
      "MAE: 50013.002297555955\n",
      "R2: 0.6431475480480736\n",
      "С параметрами:\n",
      "tMaxIter:  100\n",
      "ElasticNetParam:  0.0\n",
      "RegParam:  2.0\n"
     ]
    }
   ],
   "source": [
    "data_sets = ['num_data', 'all_data']\n",
    "train_data, test_data = df.randomSplit([.8,.2], seed=SEED)\n",
    "\n",
    "for data_type in data_sets:\n",
    "    \n",
    "    #  Шаги по обработке числовых значений\n",
    "    numericalimputer = Imputer(inputCols=numerical_cols,\n",
    "                  outputCols=numerical_cols)\n",
    "\n",
    "    numerical_assembler = VectorAssembler(inputCols=numerical_cols,\n",
    "                                      outputCol=\"numerical_features\")\n",
    "\n",
    "    numerical_standardScaler = StandardScaler(inputCol='numerical_features',\n",
    "                                          outputCol=\"numerical_features_scaled\")\n",
    "    \n",
    "    if data_type == 'all_data':\n",
    "\n",
    "        #  Шаги по обработке категориальных значений\n",
    "        categorical_indexer = StringIndexer(inputCols=categorical_cols, \n",
    "                        outputCols=[c+'_idx' for c in categorical_cols])\n",
    "\n",
    "        categorical_encoder = OneHotEncoder(inputCols=[c+'_idx' for c in categorical_cols],\n",
    "                        outputCols=[c+'_ohe' for c in categorical_cols])\n",
    "\n",
    "        categorical_assembler = VectorAssembler(inputCols=[c+'_ohe' for c in categorical_cols],\n",
    "                                        outputCol=\"categorical_features\")\n",
    "\n",
    "\n",
    "        #  Финальная сборка\n",
    "        all_features = ['categorical_features', 'numerical_features_scaled']\n",
    "    elif data_type == 'num_data':\n",
    "        all_features = ['numerical_features_scaled']\n",
    "\n",
    "    final_assembler = VectorAssembler(inputCols=all_features, \n",
    "                                  outputCol=\"all_features\") \n",
    "    \n",
    "    #  Модель\n",
    "    model = LinearRegression()\n",
    "    \n",
    "    if data_type == 'all_data':\n",
    "        #  Пайплайн\n",
    "        pipeline = Pipeline(stages=[categorical_indexer,\n",
    "                            categorical_encoder,\n",
    "                            categorical_assembler,\n",
    "                            numericalimputer,\n",
    "                            numerical_assembler,\n",
    "                            numerical_standardScaler,\n",
    "                            final_assembler, \n",
    "                            model])\n",
    "    elif data_type == 'num_data':\n",
    "        pipeline = Pipeline(stages=[\n",
    "                            numericalimputer,\n",
    "                            numerical_assembler,\n",
    "                            numerical_standardScaler,\n",
    "                            final_assembler, \n",
    "                            model])\n",
    "    #  Решетка параметров\n",
    "    if STUDY:\n",
    "        paramGrid = (ParamGridBuilder()\n",
    "        .addGrid(numericalimputer.strategy, ['median'])     \n",
    "        .addGrid(model.labelCol, [target])\n",
    "        .addGrid(model.featuresCol, [\"all_features\"])\n",
    "        .addGrid(model.regParam, [0.001, 0.01, 0.1, 0.5, 1.0, 2.0])\n",
    "        .addGrid(model.elasticNetParam, [0.0, 0.25, 0.5, 0.75, 1.0])\n",
    "        .addGrid(model.maxIter, [1, 5, 10, 20, 50])\n",
    "        .build())\n",
    "    else:\n",
    "        paramGrid = (ParamGridBuilder()\n",
    "        .addGrid(numericalimputer.strategy, ['median'])     \n",
    "        .addGrid(model.labelCol, [target])\n",
    "        .addGrid(model.featuresCol, [\"all_features\"])\n",
    "        .addGrid(model.regParam, [2.0])\n",
    "        .build())\n",
    "\n",
    "    #  Оценшик \n",
    "    lrevaluator = RegressionEvaluator(predictionCol=\"prediction\", \n",
    "                                  labelCol=target, \n",
    "                                  metricName=\"rmse\")\n",
    "    #  Крос-валидация\n",
    "    lrcv = CrossValidator(estimator=pipeline,\n",
    "                      estimatorParamMaps=paramGrid,\n",
    "                      evaluator=lrevaluator,\n",
    "                      numFolds=5)\n",
    "\n",
    "    #  Обучение\n",
    "    lrcvModel = lrcv.fit(train_data)\n",
    "\n",
    "\n",
    "    #  Метрики\n",
    "    if data_type == 'all_data':\n",
    "        print(\"Модель \" , lrcvModel.bestModel.stages[-1] , \"при использовании всех данных получила\\\n",
    "         следующие метрики:\")\n",
    "    elif data_type == 'num_data':\n",
    "        print(\"Модель \" , lrcvModel.bestModel.stages[-1] , \"при использовании числовых данных получила\\\n",
    "         следующие метрики:\")\n",
    "\n",
    "    lrcvSummary = lrcvModel.bestModel.stages[-1].summary\n",
    "    RMSE = str(lrcvSummary.rootMeanSquaredError)\n",
    "    MAE = str(lrcvSummary.meanAbsoluteError)\n",
    "    R2 = str(lrcvSummary.r2)\n",
    "\n",
    "    print(\"RMSE: \" + RMSE)\n",
    "    print(\"MAE: \" + MAE)\n",
    "    print(\"R2: \" + R2)\n",
    "\n",
    "    print(\"С параметрами:\")\n",
    "    print(\"tMaxIter: \", lrcvModel.bestModel.stages[-1].getMaxIter())\n",
    "    print(\"ElasticNetParam: \", lrcvModel.bestModel.stages[-1].getElasticNetParam())\n",
    "    print(\"RegParam: \", lrcvModel.bestModel.stages[-1].getRegParam())\n",
    "    \n",
    "    if data_type == 'all_data':\n",
    "        score_dict['full_data'] = [RMSE, MAE, R2]\n",
    "    elif data_type == 'num_data':\n",
    "        score_dict['only_num_data'] = [RMSE, MAE, R2]"
   ]
  },
  {
   "cell_type": "markdown",
   "id": "6c747e4a",
   "metadata": {},
   "source": [
    "Результаты моделей из словаря `score_dict` трансформируем в датафрейм `score_table` для удобства восприятия"
   ]
  },
  {
   "cell_type": "code",
   "execution_count": 12,
   "id": "01758845",
   "metadata": {},
   "outputs": [],
   "source": [
    "score_table = pd.DataFrame.from_dict(score_dict, \n",
    "                                     orient='index',\n",
    "                                     columns=['RMSE', 'MAE', 'R2'])\n",
    "score_table[['RMSE', 'MAE', 'R2']] = round(score_table[['RMSE', 'MAE', 'R2']].astype('float'), 2) "
   ]
  },
  {
   "cell_type": "markdown",
   "id": "757fd103",
   "metadata": {
    "id": "757fd103"
   },
   "source": [
    "## Сравнение результатов работы линейной регрессии на двух наборах данных по метрикам RMSE, MAE и R2"
   ]
  },
  {
   "cell_type": "code",
   "execution_count": 13,
   "id": "0af8d911",
   "metadata": {},
   "outputs": [
    {
     "name": "stderr",
     "output_type": "stream",
     "text": [
      "                                                                                \r"
     ]
    },
    {
     "data": {
      "image/png": "[encoded data removed]",
      "text/plain": [
       "<Figure size 1080x720 with 1 Axes>"
      ]
     },
     "metadata": {
      "needs_background": "light"
     },
     "output_type": "display_data"
    }
   ],
   "source": [
    "lr_model = lrcv\n",
    "mdata = lrcvModel.transform(test_data).sort(\"prediction\")\n",
    " \n",
    "x_ax = range(0, test_data.count())\n",
    "y_pred = mdata.select(\"prediction\").collect()\n",
    "y_orig = mdata.select(target).collect()\n",
    "\n",
    "plt.figure(figsize=(15, 10))\n",
    "plt.scatter(x_ax, y_orig, label=\"original\")\n",
    "plt.scatter(x_ax, y_pred, label=\"predicted\", alpha=0.5)\n",
    "plt.title(\"Boston test and predicted data\")\n",
    "plt.xlabel('index')\n",
    "plt.ylabel('Median_house_value')\n",
    "plt.legend(loc='best',fancybox=True, shadow=True)\n",
    "plt.grid(True)\n",
    "plt.show()  "
   ]
  },
  {
   "cell_type": "code",
   "execution_count": 14,
   "id": "5cb2b7d5",
   "metadata": {},
   "outputs": [
    {
     "data": {
      "text/html": [
       "<div>\n",
       "<style scoped>\n",
       "    .dataframe tbody tr th:only-of-type {\n",
       "        vertical-align: middle;\n",
       "    }\n",
       "\n",
       "    .dataframe tbody tr th {\n",
       "        vertical-align: top;\n",
       "    }\n",
       "\n",
       "    .dataframe thead th {\n",
       "        text-align: right;\n",
       "    }\n",
       "</style>\n",
       "<table border=\"1\" class=\"dataframe\">\n",
       "  <thead>\n",
       "    <tr style=\"text-align: right;\">\n",
       "      <th></th>\n",
       "      <th>RMSE</th>\n",
       "      <th>MAE</th>\n",
       "      <th>R2</th>\n",
       "    </tr>\n",
       "  </thead>\n",
       "  <tbody>\n",
       "    <tr>\n",
       "      <th>only_num_data</th>\n",
       "      <td>70030.53</td>\n",
       "      <td>51118.67</td>\n",
       "      <td>0.63</td>\n",
       "    </tr>\n",
       "    <tr>\n",
       "      <th>full_data</th>\n",
       "      <td>69050.70</td>\n",
       "      <td>50013.00</td>\n",
       "      <td>0.64</td>\n",
       "    </tr>\n",
       "  </tbody>\n",
       "</table>\n",
       "</div>"
      ],
      "text/plain": [
       "                   RMSE       MAE    R2\n",
       "only_num_data  70030.53  51118.67  0.63\n",
       "full_data      69050.70  50013.00  0.64"
      ]
     },
     "execution_count": 14,
     "metadata": {},
     "output_type": "execute_result"
    }
   ],
   "source": [
    "score_table"
   ]
  },
  {
   "cell_type": "markdown",
   "id": "f5167756",
   "metadata": {},
   "source": [
    "## Вывод"
   ]
  },
  {
   "cell_type": "markdown",
   "id": "94ceeb71",
   "metadata": {},
   "source": [
    " В этом проекте мы постарались ответить на вопрос: Как отличаются модели линейной регрессии обучаемые на числовых признаках и модели построенные на числовых и категориальных признаках?\n",
    " \n",
    " Для начала мы инициализировали локальную spark-сессию и  загрузили данные. Затем мы ознакомились с размерами датасета, типами данных и также обнаружили пропуски в столбце `total_bedrooms` - количество спален, пропуски мы заполнили в пайплайнах посредством imputer'ра.\n",
    " Мы выделили категориальные признаки, числовые признаки и целевой показатель. При конструировании пайплайна приняли во внимание что категориальные и числовые признаки обрабатываются различно. \n",
    " Для числовых признаков использовали схему: \n",
    " * Импутация пропушенных значений, стратегия - медиана.\n",
    " * Асамблирование в вектор.\n",
    " * Скалирование.\n",
    " Для категоральных признаков:\n",
    " * StringIndexer\n",
    " * OneHotEncoder\n",
    " * Асамблирование в вектор.\n",
    " \n",
    " Затем сложили вектора категориальных и числовых признаков и используя поиск по параметрам вместе с кросс-валидацией обучили модели. Метрики моделей мы поместили в сводную таблицу:\n",
    " \n",
    "|Data type|RMSE|MAE|R2|\n",
    "|------------|----|---|--|\n",
    "|only_num_data|70030.53|51118.67|0.63|\n",
    "|full_data|69050.70|50013.00|0.64|\n",
    "\n",
    "\n",
    " Исходя из данных таблицы, обучение модели линейной регресии с категориальными признаками дает большую точность предсказания, разница составляет порядка 1% по метрике R2, также присутсвует уменьшение RMSE и MAE метрик на 1,5 процента.\n",
    " "
   ]
  }
 ],
 "metadata": {
  "ExecuteTimeLog": [
   {
    "duration": 18329,
    "start_time": "2023-01-17T02:59:10.166Z"
   },
   {
    "duration": 10,
    "start_time": "2023-01-17T02:59:44.427Z"
   },
   {
    "duration": 3261,
    "start_time": "2023-01-17T03:00:00.387Z"
   },
   {
    "duration": 52,
    "start_time": "2023-01-17T03:00:47.459Z"
   },
   {
    "duration": 4490,
    "start_time": "2023-01-17T03:01:01.691Z"
   },
   {
    "duration": 310,
    "start_time": "2023-01-17T03:01:15.651Z"
   },
   {
    "duration": 1088,
    "start_time": "2023-01-17T03:01:36.879Z"
   },
   {
    "duration": 252,
    "start_time": "2023-01-17T03:01:39.904Z"
   },
   {
    "duration": 353,
    "start_time": "2023-01-17T03:02:36.201Z"
   },
   {
    "duration": 143,
    "start_time": "2023-01-17T03:02:36.709Z"
   },
   {
    "duration": 43,
    "start_time": "2023-01-17T03:03:16.900Z"
   },
   {
    "duration": 238,
    "start_time": "2023-01-17T03:03:18.469Z"
   },
   {
    "duration": 199,
    "start_time": "2023-01-17T03:03:27.710Z"
   },
   {
    "duration": 43,
    "start_time": "2023-01-17T03:04:42.760Z"
   },
   {
    "duration": 229,
    "start_time": "2023-01-17T03:04:43.360Z"
   },
   {
    "duration": 148,
    "start_time": "2023-01-17T03:04:51.209Z"
   },
   {
    "duration": 214,
    "start_time": "2023-01-17T03:04:54.143Z"
   },
   {
    "duration": 267,
    "start_time": "2023-01-17T03:05:04.282Z"
   },
   {
    "duration": 166,
    "start_time": "2023-01-17T03:05:04.832Z"
   },
   {
    "duration": 142,
    "start_time": "2023-01-17T03:05:10.408Z"
   },
   {
    "duration": 44,
    "start_time": "2023-01-17T03:06:09.267Z"
   },
   {
    "duration": 152,
    "start_time": "2023-01-17T03:06:10.146Z"
   },
   {
    "duration": 191,
    "start_time": "2023-01-17T03:06:14.762Z"
   },
   {
    "duration": 14,
    "start_time": "2023-01-17T03:06:47.207Z"
   },
   {
    "duration": 168,
    "start_time": "2023-01-17T03:07:08.535Z"
   },
   {
    "duration": 180,
    "start_time": "2023-01-17T03:08:48.544Z"
   },
   {
    "duration": 754,
    "start_time": "2023-01-17T03:09:00.003Z"
   },
   {
    "duration": 7,
    "start_time": "2023-01-17T03:12:05.145Z"
   },
   {
    "duration": 19,
    "start_time": "2023-01-17T03:12:18.852Z"
   },
   {
    "duration": 37,
    "start_time": "2023-01-17T03:12:36.236Z"
   },
   {
    "duration": 150,
    "start_time": "2023-01-17T03:12:36.805Z"
   },
   {
    "duration": 7,
    "start_time": "2023-01-17T03:12:39.172Z"
   },
   {
    "duration": 51,
    "start_time": "2023-01-17T03:13:29.655Z"
   },
   {
    "duration": 132,
    "start_time": "2023-01-17T03:13:30.879Z"
   },
   {
    "duration": 23,
    "start_time": "2023-01-17T03:13:38.685Z"
   },
   {
    "duration": 14,
    "start_time": "2023-01-17T03:13:53.471Z"
   },
   {
    "duration": 21,
    "start_time": "2023-01-17T03:14:57.089Z"
   },
   {
    "duration": 220,
    "start_time": "2023-01-17T03:15:39.061Z"
   },
   {
    "duration": 180,
    "start_time": "2023-01-17T03:15:39.670Z"
   },
   {
    "duration": 94,
    "start_time": "2023-01-17T03:15:46.853Z"
   },
   {
    "duration": 86,
    "start_time": "2023-01-17T03:16:29.720Z"
   },
   {
    "duration": 73,
    "start_time": "2023-01-17T03:17:27.163Z"
   },
   {
    "duration": 6,
    "start_time": "2023-01-17T03:17:46.617Z"
   },
   {
    "duration": 77,
    "start_time": "2023-01-17T03:17:55.228Z"
   },
   {
    "duration": 14,
    "start_time": "2023-01-17T03:19:10.482Z"
   },
   {
    "duration": 168,
    "start_time": "2023-01-17T03:19:24.651Z"
   },
   {
    "duration": 97,
    "start_time": "2023-01-17T03:19:26.499Z"
   },
   {
    "duration": 80,
    "start_time": "2023-01-17T03:19:34.307Z"
   },
   {
    "duration": 901,
    "start_time": "2023-01-17T03:19:58.264Z"
   },
   {
    "duration": 252,
    "start_time": "2023-01-17T03:19:59.167Z"
   },
   {
    "duration": 14,
    "start_time": "2023-01-17T03:20:01.913Z"
   },
   {
    "duration": 11,
    "start_time": "2023-01-17T03:20:07.264Z"
   },
   {
    "duration": 14,
    "start_time": "2023-01-17T03:20:16.737Z"
   },
   {
    "duration": 552,
    "start_time": "2023-01-17T03:21:53.903Z"
   },
   {
    "duration": 124,
    "start_time": "2023-01-17T03:21:54.567Z"
   },
   {
    "duration": 14,
    "start_time": "2023-01-17T03:21:57.535Z"
   },
   {
    "duration": 14,
    "start_time": "2023-01-17T03:22:02.767Z"
   },
   {
    "duration": 13,
    "start_time": "2023-01-17T03:22:08.404Z"
   },
   {
    "duration": 250,
    "start_time": "2023-01-17T03:23:39.422Z"
   },
   {
    "duration": 5,
    "start_time": "2023-01-17T03:33:04.660Z"
   },
   {
    "duration": 4,
    "start_time": "2023-01-17T03:34:27.565Z"
   },
   {
    "duration": 22,
    "start_time": "2023-01-17T03:36:34.349Z"
   },
   {
    "duration": 4,
    "start_time": "2023-01-17T03:36:37.809Z"
   },
   {
    "duration": 8,
    "start_time": "2023-01-17T03:36:38.684Z"
   },
   {
    "duration": 359,
    "start_time": "2023-01-17T03:36:41.416Z"
   },
   {
    "duration": 129,
    "start_time": "2023-01-17T03:36:41.919Z"
   },
   {
    "duration": 4,
    "start_time": "2023-01-17T03:36:42.601Z"
   },
   {
    "duration": 7,
    "start_time": "2023-01-17T03:36:43.225Z"
   },
   {
    "duration": 8,
    "start_time": "2023-01-17T03:36:49.664Z"
   },
   {
    "duration": 9,
    "start_time": "2023-01-17T03:37:36.086Z"
   },
   {
    "duration": 958,
    "start_time": "2023-01-17T03:37:48.519Z"
   },
   {
    "duration": 475,
    "start_time": "2023-01-17T03:38:17.211Z"
   },
   {
    "duration": 120,
    "start_time": "2023-01-17T03:38:18.532Z"
   },
   {
    "duration": 5,
    "start_time": "2023-01-17T03:38:19.251Z"
   },
   {
    "duration": 594,
    "start_time": "2023-01-17T03:38:19.964Z"
   },
   {
    "duration": 758,
    "start_time": "2023-01-17T03:44:00.161Z"
   },
   {
    "duration": 0,
    "start_time": "2023-01-17T03:44:00.921Z"
   },
   {
    "duration": 553,
    "start_time": "2023-01-17T03:44:15.934Z"
   },
   {
    "duration": 139,
    "start_time": "2023-01-17T03:44:18.862Z"
   },
   {
    "duration": 5,
    "start_time": "2023-01-17T03:44:19.349Z"
   },
   {
    "duration": 413,
    "start_time": "2023-01-17T03:44:38.910Z"
   },
   {
    "duration": 2156,
    "start_time": "2023-01-17T04:00:22.413Z"
   },
   {
    "duration": 12,
    "start_time": "2023-01-17T04:08:05.387Z"
   },
   {
    "duration": 8,
    "start_time": "2023-01-17T04:08:14.028Z"
   },
   {
    "duration": 9,
    "start_time": "2023-01-17T04:08:34.007Z"
   },
   {
    "duration": 416,
    "start_time": "2023-01-17T04:09:02.050Z"
   },
   {
    "duration": 151,
    "start_time": "2023-01-17T04:09:04.857Z"
   },
   {
    "duration": 5,
    "start_time": "2023-01-17T04:09:06.322Z"
   },
   {
    "duration": 320,
    "start_time": "2023-01-17T04:09:08.036Z"
   },
   {
    "duration": 10,
    "start_time": "2023-01-17T04:11:00.120Z"
   },
   {
    "duration": 14,
    "start_time": "2023-01-17T04:11:06.961Z"
   },
   {
    "duration": 13,
    "start_time": "2023-01-17T04:11:20.173Z"
   },
   {
    "duration": 18,
    "start_time": "2023-01-17T04:13:09.390Z"
   },
   {
    "duration": 13,
    "start_time": "2023-01-17T04:13:50.851Z"
   },
   {
    "duration": 19,
    "start_time": "2023-01-17T04:14:29.360Z"
   },
   {
    "duration": 9,
    "start_time": "2023-01-17T04:15:26.933Z"
   },
   {
    "duration": 11,
    "start_time": "2023-01-17T04:15:40.104Z"
   },
   {
    "duration": 12,
    "start_time": "2023-01-17T04:15:45.009Z"
   },
   {
    "duration": 11,
    "start_time": "2023-01-17T04:16:14.362Z"
   },
   {
    "duration": 351,
    "start_time": "2023-01-17T04:16:22.446Z"
   },
   {
    "duration": 103,
    "start_time": "2023-01-17T04:16:23.150Z"
   },
   {
    "duration": 4,
    "start_time": "2023-01-17T04:16:23.966Z"
   },
   {
    "duration": 11,
    "start_time": "2023-01-17T04:16:24.742Z"
   },
   {
    "duration": 13,
    "start_time": "2023-01-17T04:17:23.277Z"
   },
   {
    "duration": 470,
    "start_time": "2023-01-17T04:18:29.336Z"
   },
   {
    "duration": 13,
    "start_time": "2023-01-17T04:18:56.641Z"
   },
   {
    "duration": 17,
    "start_time": "2023-01-17T04:19:20.330Z"
   },
   {
    "duration": 15,
    "start_time": "2023-01-17T04:19:32.343Z"
   },
   {
    "duration": 15,
    "start_time": "2023-01-17T04:19:51.984Z"
   },
   {
    "duration": 377,
    "start_time": "2023-01-17T04:20:18.892Z"
   },
   {
    "duration": 763,
    "start_time": "2023-01-17T04:20:39.221Z"
   },
   {
    "duration": 362,
    "start_time": "2023-01-17T04:21:27.711Z"
   },
   {
    "duration": 277,
    "start_time": "2023-01-17T04:21:36.710Z"
   },
   {
    "duration": 550,
    "start_time": "2023-01-17T04:22:04.214Z"
   },
   {
    "duration": 1169,
    "start_time": "2023-01-17T04:24:19.499Z"
   },
   {
    "duration": 4,
    "start_time": "2023-01-17T04:25:04.705Z"
   },
   {
    "duration": 679,
    "start_time": "2023-01-17T04:25:11.171Z"
   },
   {
    "duration": 738,
    "start_time": "2023-01-17T04:25:34.845Z"
   },
   {
    "duration": 616,
    "start_time": "2023-01-17T04:25:58.642Z"
   },
   {
    "duration": 1022,
    "start_time": "2023-01-17T04:26:04.240Z"
   },
   {
    "duration": 10,
    "start_time": "2023-01-17T04:50:03.135Z"
   },
   {
    "duration": 140,
    "start_time": "2023-01-17T04:50:10.114Z"
   },
   {
    "duration": 6,
    "start_time": "2023-01-17T04:50:21.867Z"
   },
   {
    "duration": 873,
    "start_time": "2023-01-17T04:50:31.835Z"
   },
   {
    "duration": 842,
    "start_time": "2023-01-17T04:50:36.507Z"
   },
   {
    "duration": 5,
    "start_time": "2023-01-17T04:50:38.067Z"
   },
   {
    "duration": 107,
    "start_time": "2023-01-17T04:50:40.403Z"
   },
   {
    "duration": 19,
    "start_time": "2023-01-17T04:53:01.398Z"
   },
   {
    "duration": 12,
    "start_time": "2023-01-17T04:53:07.831Z"
   },
   {
    "duration": 8,
    "start_time": "2023-01-17T04:55:55.563Z"
   },
   {
    "duration": 51,
    "start_time": "2023-01-17T05:03:47.563Z"
   },
   {
    "duration": 42,
    "start_time": "2023-01-17T05:03:56.403Z"
   },
   {
    "duration": 18,
    "start_time": "2023-01-17T05:04:56.262Z"
   },
   {
    "duration": 9,
    "start_time": "2023-01-17T05:06:13.312Z"
   },
   {
    "duration": 10,
    "start_time": "2023-01-17T05:06:23.912Z"
   },
   {
    "duration": 32,
    "start_time": "2023-01-17T05:08:40.608Z"
   },
   {
    "duration": 267,
    "start_time": "2023-01-17T05:08:52.873Z"
   },
   {
    "duration": 81,
    "start_time": "2023-01-17T05:08:53.407Z"
   },
   {
    "duration": 5,
    "start_time": "2023-01-17T05:08:54.079Z"
   },
   {
    "duration": 681,
    "start_time": "2023-01-17T05:08:54.671Z"
   },
   {
    "duration": 1032,
    "start_time": "2023-01-17T05:08:56.743Z"
   },
   {
    "duration": 16,
    "start_time": "2023-01-17T05:09:54.925Z"
   },
   {
    "duration": 12,
    "start_time": "2023-01-17T05:10:01.756Z"
   },
   {
    "duration": 12,
    "start_time": "2023-01-17T05:10:09.950Z"
   },
   {
    "duration": 13,
    "start_time": "2023-01-17T05:10:24.741Z"
   },
   {
    "duration": 11,
    "start_time": "2023-01-17T05:11:22.750Z"
   },
   {
    "duration": 13,
    "start_time": "2023-01-17T05:11:52.033Z"
   },
   {
    "duration": 9,
    "start_time": "2023-01-17T05:11:59.073Z"
   },
   {
    "duration": 9,
    "start_time": "2023-01-17T05:12:07.961Z"
   },
   {
    "duration": 10,
    "start_time": "2023-01-17T05:12:48.069Z"
   },
   {
    "duration": 510,
    "start_time": "2023-01-17T05:14:41.557Z"
   },
   {
    "duration": 8,
    "start_time": "2023-01-17T05:16:14.860Z"
   },
   {
    "duration": 8,
    "start_time": "2023-01-17T05:16:27.262Z"
   },
   {
    "duration": 12,
    "start_time": "2023-01-17T05:17:32.334Z"
   },
   {
    "duration": 314,
    "start_time": "2023-01-17T05:17:47.961Z"
   },
   {
    "duration": 13,
    "start_time": "2023-01-17T05:17:50.543Z"
   },
   {
    "duration": 9,
    "start_time": "2023-01-17T05:19:34.907Z"
   },
   {
    "duration": 7,
    "start_time": "2023-01-17T05:20:37.227Z"
   },
   {
    "duration": 8,
    "start_time": "2023-01-17T05:22:02.546Z"
   },
   {
    "duration": 327,
    "start_time": "2023-01-17T05:22:19.529Z"
   },
   {
    "duration": 93,
    "start_time": "2023-01-17T05:22:20.186Z"
   },
   {
    "duration": 5,
    "start_time": "2023-01-17T05:22:22.625Z"
   },
   {
    "duration": 513,
    "start_time": "2023-01-17T05:22:24.491Z"
   },
   {
    "duration": 805,
    "start_time": "2023-01-17T05:22:27.564Z"
   },
   {
    "duration": 9,
    "start_time": "2023-01-17T05:22:30.254Z"
   },
   {
    "duration": 189,
    "start_time": "2023-01-17T05:22:35.678Z"
   },
   {
    "duration": 11,
    "start_time": "2023-01-17T05:22:38.366Z"
   },
   {
    "duration": 9,
    "start_time": "2023-01-17T05:22:49.336Z"
   },
   {
    "duration": 11,
    "start_time": "2023-01-17T05:32:09.852Z"
   },
   {
    "duration": 168,
    "start_time": "2023-01-17T05:36:22.692Z"
   },
   {
    "duration": 165,
    "start_time": "2023-01-17T05:36:31.924Z"
   },
   {
    "duration": 136,
    "start_time": "2023-01-17T05:36:53.142Z"
   },
   {
    "duration": 196,
    "start_time": "2023-01-17T05:37:00.673Z"
   },
   {
    "duration": 170,
    "start_time": "2023-01-17T05:37:07.026Z"
   },
   {
    "duration": 716,
    "start_time": "2023-01-17T05:37:18.946Z"
   },
   {
    "duration": 7,
    "start_time": "2023-01-17T05:38:06.268Z"
   },
   {
    "duration": 3,
    "start_time": "2023-01-17T05:54:23.882Z"
   },
   {
    "duration": 10,
    "start_time": "2023-01-17T05:54:44.750Z"
   },
   {
    "duration": 77,
    "start_time": "2023-01-17T05:56:13.594Z"
   },
   {
    "duration": 31,
    "start_time": "2023-01-17T06:14:44.820Z"
   },
   {
    "duration": 21,
    "start_time": "2023-01-17T06:16:46.043Z"
   },
   {
    "duration": 25,
    "start_time": "2023-01-17T06:18:04.573Z"
   },
   {
    "duration": 22,
    "start_time": "2023-01-17T06:18:20.789Z"
   },
   {
    "duration": 22,
    "start_time": "2023-01-17T06:22:36.586Z"
   },
   {
    "duration": 21,
    "start_time": "2023-01-17T06:24:34.200Z"
   },
   {
    "duration": 48,
    "start_time": "2023-01-17T06:25:24.896Z"
   },
   {
    "duration": 14,
    "start_time": "2023-01-17T06:25:30.943Z"
   },
   {
    "duration": 21,
    "start_time": "2023-01-17T06:25:48.179Z"
   },
   {
    "duration": 36,
    "start_time": "2023-01-17T06:26:08.403Z"
   },
   {
    "duration": 18,
    "start_time": "2023-01-17T06:31:26.547Z"
   },
   {
    "duration": 22,
    "start_time": "2023-01-17T06:33:47.505Z"
   },
   {
    "duration": 955,
    "start_time": "2023-01-17T06:34:25.013Z"
   },
   {
    "duration": 639,
    "start_time": "2023-01-17T06:34:46.335Z"
   },
   {
    "duration": 618,
    "start_time": "2023-01-17T08:09:18.021Z"
   },
   {
    "duration": 70,
    "start_time": "2023-01-17T08:10:48.110Z"
   },
   {
    "duration": 44,
    "start_time": "2023-01-17T08:10:56.112Z"
   },
   {
    "duration": 11,
    "start_time": "2023-01-17T08:11:25.828Z"
   },
   {
    "duration": 8,
    "start_time": "2023-01-17T08:11:28.587Z"
   },
   {
    "duration": 5,
    "start_time": "2023-01-17T08:12:09.345Z"
   },
   {
    "duration": 5,
    "start_time": "2023-01-17T08:12:23.249Z"
   },
   {
    "duration": 11,
    "start_time": "2023-01-17T08:16:51.881Z"
   },
   {
    "duration": 11,
    "start_time": "2023-01-17T08:17:54.589Z"
   },
   {
    "duration": 9,
    "start_time": "2023-01-17T08:18:33.785Z"
   },
   {
    "duration": 12,
    "start_time": "2023-01-17T08:19:04.247Z"
   },
   {
    "duration": 152,
    "start_time": "2023-01-17T08:23:21.144Z"
   },
   {
    "duration": 150,
    "start_time": "2023-01-17T08:23:24.156Z"
   },
   {
    "duration": 7,
    "start_time": "2023-01-17T08:23:30.424Z"
   },
   {
    "duration": 6,
    "start_time": "2023-01-17T08:27:09.838Z"
   },
   {
    "duration": 82,
    "start_time": "2023-01-17T08:27:13.310Z"
   },
   {
    "duration": 44,
    "start_time": "2023-01-17T08:28:28.240Z"
   },
   {
    "duration": 139,
    "start_time": "2023-01-17T08:28:29.040Z"
   },
   {
    "duration": 13,
    "start_time": "2023-01-17T08:33:17.036Z"
   },
   {
    "duration": 19,
    "start_time": "2023-01-17T08:35:15.348Z"
   },
   {
    "duration": 40,
    "start_time": "2023-01-17T08:35:38.237Z"
   },
   {
    "duration": 187,
    "start_time": "2023-01-17T08:35:40.576Z"
   },
   {
    "duration": 37,
    "start_time": "2023-01-17T08:37:00.342Z"
   },
   {
    "duration": 89,
    "start_time": "2023-01-17T08:37:00.891Z"
   },
   {
    "duration": 5,
    "start_time": "2023-01-17T08:37:07.522Z"
   },
   {
    "duration": 984,
    "start_time": "2023-01-17T08:37:09.074Z"
   },
   {
    "duration": 36,
    "start_time": "2023-01-17T08:37:45.991Z"
   },
   {
    "duration": 78,
    "start_time": "2023-01-17T08:37:46.623Z"
   },
   {
    "duration": 37,
    "start_time": "2023-01-17T08:37:52.520Z"
   },
   {
    "duration": 80,
    "start_time": "2023-01-17T08:37:53.327Z"
   },
   {
    "duration": 44,
    "start_time": "2023-01-17T08:37:57.983Z"
   },
   {
    "duration": 135,
    "start_time": "2023-01-17T08:37:58.615Z"
   },
   {
    "duration": 35,
    "start_time": "2023-01-17T08:39:56.471Z"
   },
   {
    "duration": 96,
    "start_time": "2023-01-17T08:39:57.295Z"
   },
   {
    "duration": 58,
    "start_time": "2023-01-17T08:41:04.165Z"
   },
   {
    "duration": 0,
    "start_time": "2023-01-17T08:41:04.224Z"
   },
   {
    "duration": 109,
    "start_time": "2023-01-17T08:42:02.566Z"
   },
   {
    "duration": 40,
    "start_time": "2023-01-17T08:42:06.270Z"
   },
   {
    "duration": 114,
    "start_time": "2023-01-17T08:42:07.413Z"
   },
   {
    "duration": 40,
    "start_time": "2023-01-17T08:44:50.199Z"
   },
   {
    "duration": 109,
    "start_time": "2023-01-17T08:44:52.891Z"
   },
   {
    "duration": 5,
    "start_time": "2023-01-17T08:45:03.798Z"
   },
   {
    "duration": 9,
    "start_time": "2023-01-17T08:45:09.135Z"
   },
   {
    "duration": 5,
    "start_time": "2023-01-17T08:45:24.316Z"
   },
   {
    "duration": 745,
    "start_time": "2023-01-17T08:45:25.066Z"
   },
   {
    "duration": 1841,
    "start_time": "2023-01-17T08:45:28.242Z"
   },
   {
    "duration": 294,
    "start_time": "2023-01-17T08:45:34.477Z"
   },
   {
    "duration": 11,
    "start_time": "2023-01-17T08:45:39.581Z"
   },
   {
    "duration": 16,
    "start_time": "2023-01-17T08:46:45.238Z"
   },
   {
    "duration": 11,
    "start_time": "2023-01-17T08:46:51.734Z"
   },
   {
    "duration": 465,
    "start_time": "2023-01-17T08:46:57.702Z"
   },
   {
    "duration": 13,
    "start_time": "2023-01-17T08:47:09.210Z"
   },
   {
    "duration": 360,
    "start_time": "2023-01-17T08:47:11.307Z"
   },
   {
    "duration": 87,
    "start_time": "2023-01-17T08:47:45.252Z"
   },
   {
    "duration": 12,
    "start_time": "2023-01-17T08:48:01.432Z"
   },
   {
    "duration": 5,
    "start_time": "2023-01-17T08:49:27.153Z"
   },
   {
    "duration": 15,
    "start_time": "2023-01-17T08:49:35.047Z"
   },
   {
    "duration": 7,
    "start_time": "2023-01-17T08:49:47.814Z"
   },
   {
    "duration": 5,
    "start_time": "2023-01-17T08:50:06.205Z"
   },
   {
    "duration": 321,
    "start_time": "2023-01-17T08:50:14.428Z"
   },
   {
    "duration": 394,
    "start_time": "2023-01-17T08:50:31.483Z"
   },
   {
    "duration": 227,
    "start_time": "2023-01-17T08:51:07.240Z"
   },
   {
    "duration": 13,
    "start_time": "2023-01-17T11:16:17.356Z"
   },
   {
    "duration": 192,
    "start_time": "2023-01-17T11:16:22.763Z"
   },
   {
    "duration": 4,
    "start_time": "2023-01-17T11:16:40.717Z"
   },
   {
    "duration": 9,
    "start_time": "2023-01-17T11:16:54.360Z"
   },
   {
    "duration": 40,
    "start_time": "2023-01-17T11:17:03.729Z"
   },
   {
    "duration": 96,
    "start_time": "2023-01-17T11:17:09.376Z"
   },
   {
    "duration": 11,
    "start_time": "2023-01-17T11:17:28.924Z"
   },
   {
    "duration": 36,
    "start_time": "2023-01-17T11:17:35.927Z"
   },
   {
    "duration": 96,
    "start_time": "2023-01-17T11:17:37.406Z"
   },
   {
    "duration": 5,
    "start_time": "2023-01-17T11:17:57.582Z"
   },
   {
    "duration": 559,
    "start_time": "2023-01-17T11:18:00.205Z"
   },
   {
    "duration": 957,
    "start_time": "2023-01-17T11:18:03.292Z"
   },
   {
    "duration": 162,
    "start_time": "2023-01-17T11:18:08.038Z"
   },
   {
    "duration": 322,
    "start_time": "2023-01-17T11:18:13.979Z"
   },
   {
    "duration": 57,
    "start_time": "2023-01-17T11:19:43.349Z"
   },
   {
    "duration": 11,
    "start_time": "2023-01-17T11:20:10.056Z"
   },
   {
    "duration": 11,
    "start_time": "2023-01-17T11:20:19.849Z"
   },
   {
    "duration": 127,
    "start_time": "2023-01-17T11:21:17.323Z"
   },
   {
    "duration": 36,
    "start_time": "2023-01-17T11:22:22.410Z"
   },
   {
    "duration": 102,
    "start_time": "2023-01-17T11:22:23.288Z"
   },
   {
    "duration": 39,
    "start_time": "2023-01-17T11:22:40.549Z"
   },
   {
    "duration": 151,
    "start_time": "2023-01-17T11:22:41.197Z"
   },
   {
    "duration": 35,
    "start_time": "2023-01-17T11:22:56.330Z"
   },
   {
    "duration": 73,
    "start_time": "2023-01-17T11:22:56.781Z"
   },
   {
    "duration": 10,
    "start_time": "2023-01-17T11:23:09.442Z"
   },
   {
    "duration": 505,
    "start_time": "2023-01-17T11:23:16.691Z"
   },
   {
    "duration": 596,
    "start_time": "2023-01-17T11:26:09.283Z"
   },
   {
    "duration": 110,
    "start_time": "2023-01-17T11:26:23.344Z"
   },
   {
    "duration": 5,
    "start_time": "2023-01-17T11:26:32.483Z"
   },
   {
    "duration": 97,
    "start_time": "2023-01-17T11:26:43.612Z"
   },
   {
    "duration": 142,
    "start_time": "2023-01-17T11:27:21.073Z"
   },
   {
    "duration": 125,
    "start_time": "2023-01-17T11:28:03.638Z"
   },
   {
    "duration": 8,
    "start_time": "2023-01-17T11:38:51.270Z"
   },
   {
    "duration": 25,
    "start_time": "2023-01-17T11:40:54.592Z"
   },
   {
    "duration": 404,
    "start_time": "2023-01-17T11:41:00.553Z"
   },
   {
    "duration": 609,
    "start_time": "2023-01-17T11:52:22.459Z"
   },
   {
    "duration": 149,
    "start_time": "2023-01-17T11:52:40.405Z"
   },
   {
    "duration": 589,
    "start_time": "2023-01-17T11:52:41.904Z"
   },
   {
    "duration": 50,
    "start_time": "2023-01-17T23:36:20.659Z"
   },
   {
    "duration": 156,
    "start_time": "2023-01-17T23:36:21.342Z"
   },
   {
    "duration": 571,
    "start_time": "2023-01-17T23:37:50.085Z"
   },
   {
    "duration": 2061,
    "start_time": "2023-01-18T00:28:26.700Z"
   },
   {
    "duration": 11,
    "start_time": "2023-01-18T00:28:47.320Z"
   },
   {
    "duration": 1638,
    "start_time": "2023-01-18T00:28:54.347Z"
   },
   {
    "duration": 8,
    "start_time": "2023-01-18T00:39:00.057Z"
   },
   {
    "duration": 53,
    "start_time": "2023-01-18T00:42:34.403Z"
   },
   {
    "duration": 298,
    "start_time": "2023-01-18T00:42:42.854Z"
   },
   {
    "duration": 81,
    "start_time": "2023-01-18T00:42:44.747Z"
   },
   {
    "duration": 11,
    "start_time": "2023-01-18T00:43:04.999Z"
   },
   {
    "duration": 214,
    "start_time": "2023-01-18T00:43:38.485Z"
   },
   {
    "duration": 59,
    "start_time": "2023-01-18T00:43:39.442Z"
   },
   {
    "duration": 4,
    "start_time": "2023-01-18T00:43:41.359Z"
   },
   {
    "duration": 111,
    "start_time": "2023-01-18T00:44:46.319Z"
   },
   {
    "duration": 52,
    "start_time": "2023-01-18T00:44:46.967Z"
   },
   {
    "duration": 3,
    "start_time": "2023-01-18T00:44:50.816Z"
   },
   {
    "duration": 127,
    "start_time": "2023-01-18T00:44:51.447Z"
   },
   {
    "duration": 53,
    "start_time": "2023-01-18T00:44:51.984Z"
   },
   {
    "duration": 4,
    "start_time": "2023-01-18T00:44:53.262Z"
   },
   {
    "duration": 354,
    "start_time": "2023-01-18T00:44:54.454Z"
   },
   {
    "duration": 115,
    "start_time": "2023-01-18T00:45:08.849Z"
   },
   {
    "duration": 65,
    "start_time": "2023-01-18T00:45:09.385Z"
   },
   {
    "duration": 77,
    "start_time": "2023-01-18T00:46:57.350Z"
   },
   {
    "duration": 4,
    "start_time": "2023-01-18T00:46:59.102Z"
   },
   {
    "duration": 685,
    "start_time": "2023-01-18T00:47:00.174Z"
   },
   {
    "duration": 82,
    "start_time": "2023-01-18T00:47:02.653Z"
   },
   {
    "duration": 8,
    "start_time": "2023-01-18T00:48:21.668Z"
   },
   {
    "duration": 11,
    "start_time": "2023-01-18T00:48:30.560Z"
   },
   {
    "duration": 4,
    "start_time": "2023-01-18T00:48:37.852Z"
   },
   {
    "duration": 34,
    "start_time": "2023-01-18T00:50:23.449Z"
   },
   {
    "duration": 69,
    "start_time": "2023-01-18T00:50:24.310Z"
   },
   {
    "duration": 34,
    "start_time": "2023-01-18T00:50:41.581Z"
   },
   {
    "duration": 112,
    "start_time": "2023-01-18T00:50:42.278Z"
   },
   {
    "duration": 98,
    "start_time": "2023-01-18T00:50:58.180Z"
   },
   {
    "duration": 69,
    "start_time": "2023-01-18T00:50:59.043Z"
   },
   {
    "duration": 33,
    "start_time": "2023-01-18T00:51:09.608Z"
   },
   {
    "duration": 68,
    "start_time": "2023-01-18T00:51:10.467Z"
   },
   {
    "duration": 34,
    "start_time": "2023-01-18T00:51:23.065Z"
   },
   {
    "duration": 72,
    "start_time": "2023-01-18T00:51:23.944Z"
   },
   {
    "duration": 5,
    "start_time": "2023-01-18T00:51:25.196Z"
   },
   {
    "duration": 10,
    "start_time": "2023-01-18T00:51:26.361Z"
   },
   {
    "duration": 3,
    "start_time": "2023-01-18T00:51:29.849Z"
   },
   {
    "duration": 391,
    "start_time": "2023-01-18T00:51:36.125Z"
   },
   {
    "duration": 163,
    "start_time": "2023-01-18T00:51:43.428Z"
   },
   {
    "duration": 178,
    "start_time": "2023-01-18T00:51:49.284Z"
   },
   {
    "duration": 9,
    "start_time": "2023-01-18T00:51:56.926Z"
   },
   {
    "duration": 7,
    "start_time": "2023-01-18T00:55:11.425Z"
   },
   {
    "duration": 8,
    "start_time": "2023-01-18T00:57:56.600Z"
   },
   {
    "duration": 8,
    "start_time": "2023-01-18T00:58:14.385Z"
   },
   {
    "duration": 3,
    "start_time": "2023-01-18T00:58:17.209Z"
   },
   {
    "duration": 1111,
    "start_time": "2023-01-18T00:58:17.672Z"
   },
   {
    "duration": 83,
    "start_time": "2023-01-18T00:58:28.528Z"
   },
   {
    "duration": 3,
    "start_time": "2023-01-18T00:58:33.569Z"
   },
   {
    "duration": 43,
    "start_time": "2023-01-18T00:58:33.924Z"
   },
   {
    "duration": 65,
    "start_time": "2023-01-18T00:58:34.149Z"
   },
   {
    "duration": 5,
    "start_time": "2023-01-18T00:58:34.475Z"
   },
   {
    "duration": 459,
    "start_time": "2023-01-18T00:58:34.753Z"
   },
   {
    "duration": 251,
    "start_time": "2023-01-18T00:58:35.214Z"
   },
   {
    "duration": 3,
    "start_time": "2023-01-18T00:58:35.736Z"
   },
   {
    "duration": 403,
    "start_time": "2023-01-18T00:58:36.187Z"
   },
   {
    "duration": 246,
    "start_time": "2023-01-18T00:59:12.389Z"
   },
   {
    "duration": 86,
    "start_time": "2023-01-18T00:59:30.855Z"
   },
   {
    "duration": 476,
    "start_time": "2023-01-18T00:59:37.896Z"
   },
   {
    "duration": 479,
    "start_time": "2023-01-18T00:59:53.720Z"
   },
   {
    "duration": 3923,
    "start_time": "2023-01-18T01:00:11.351Z"
   },
   {
    "duration": 87,
    "start_time": "2023-01-18T01:00:15.276Z"
   },
   {
    "duration": 2986,
    "start_time": "2023-01-18T01:00:15.364Z"
   },
   {
    "duration": 1116,
    "start_time": "2023-01-18T01:00:18.352Z"
   },
   {
    "duration": 80,
    "start_time": "2023-01-18T01:00:19.470Z"
   },
   {
    "duration": 1919,
    "start_time": "2023-01-18T01:00:19.552Z"
   },
   {
    "duration": 697,
    "start_time": "2023-01-18T01:00:21.474Z"
   },
   {
    "duration": 82,
    "start_time": "2023-01-18T01:00:22.174Z"
   },
   {
    "duration": 166,
    "start_time": "2023-01-18T01:00:38.476Z"
   },
   {
    "duration": 233,
    "start_time": "2023-01-18T01:01:23.056Z"
   },
   {
    "duration": 240,
    "start_time": "2023-01-18T01:02:27.467Z"
   },
   {
    "duration": 42,
    "start_time": "2023-01-18T01:02:33.834Z"
   },
   {
    "duration": 182,
    "start_time": "2023-01-18T01:02:35.827Z"
   },
   {
    "duration": 5,
    "start_time": "2023-01-18T01:02:38.155Z"
   },
   {
    "duration": 899,
    "start_time": "2023-01-18T01:02:39.290Z"
   },
   {
    "duration": 472,
    "start_time": "2023-01-18T01:02:40.191Z"
   },
   {
    "duration": 3,
    "start_time": "2023-01-18T01:02:44.076Z"
   },
   {
    "duration": 760,
    "start_time": "2023-01-18T01:02:45.428Z"
   },
   {
    "duration": 351,
    "start_time": "2023-01-18T01:02:58.659Z"
   },
   {
    "duration": 369,
    "start_time": "2023-01-18T01:03:00.879Z"
   },
   {
    "duration": 31,
    "start_time": "2023-01-18T01:03:17.215Z"
   },
   {
    "duration": 6,
    "start_time": "2023-01-18T01:03:28.236Z"
   },
   {
    "duration": 423,
    "start_time": "2023-01-18T01:03:33.949Z"
   },
   {
    "duration": 27,
    "start_time": "2023-01-18T01:04:18.609Z"
   },
   {
    "duration": 1012,
    "start_time": "2023-01-18T01:04:28.962Z"
   },
   {
    "duration": 9,
    "start_time": "2023-01-18T01:04:38.770Z"
   },
   {
    "duration": 331,
    "start_time": "2023-01-18T01:05:07.039Z"
   },
   {
    "duration": 2764,
    "start_time": "2023-01-18T01:05:30.484Z"
   },
   {
    "duration": 463,
    "start_time": "2023-01-18T01:07:38.442Z"
   },
   {
    "duration": 17194,
    "start_time": "2023-01-18T01:07:38.907Z"
   },
   {
    "duration": 4102,
    "start_time": "2023-01-18T01:07:56.148Z"
   },
   {
    "duration": 19,
    "start_time": "2023-01-18T01:08:00.252Z"
   },
   {
    "duration": 2966,
    "start_time": "2023-01-18T01:08:00.283Z"
   },
   {
    "duration": 1030,
    "start_time": "2023-01-18T01:08:03.251Z"
   },
   {
    "duration": 4,
    "start_time": "2023-01-18T01:08:04.348Z"
   },
   {
    "duration": 2006,
    "start_time": "2023-01-18T01:08:04.354Z"
   },
   {
    "duration": 805,
    "start_time": "2023-01-18T01:08:06.362Z"
   },
   {
    "duration": 493,
    "start_time": "2023-01-18T01:08:07.168Z"
   },
   {
    "duration": 98,
    "start_time": "2023-01-18T01:08:07.663Z"
   },
   {
    "duration": 498,
    "start_time": "2023-01-18T01:08:07.763Z"
   },
   {
    "duration": 106,
    "start_time": "2023-01-18T01:08:08.263Z"
   },
   {
    "duration": 1197,
    "start_time": "2023-01-18T01:08:08.372Z"
   },
   {
    "duration": 6,
    "start_time": "2023-01-18T01:08:09.570Z"
   },
   {
    "duration": 576,
    "start_time": "2023-01-18T01:08:09.577Z"
   },
   {
    "duration": 3194,
    "start_time": "2023-01-18T01:08:10.155Z"
   },
   {
    "duration": 412,
    "start_time": "2023-01-18T01:17:36.076Z"
   },
   {
    "duration": 17089,
    "start_time": "2023-01-18T01:17:36.489Z"
   },
   {
    "duration": 4369,
    "start_time": "2023-01-18T01:17:53.580Z"
   },
   {
    "duration": 16,
    "start_time": "2023-01-18T01:17:57.951Z"
   },
   {
    "duration": 2881,
    "start_time": "2023-01-18T01:17:57.972Z"
   },
   {
    "duration": 1102,
    "start_time": "2023-01-18T01:18:00.855Z"
   },
   {
    "duration": 3,
    "start_time": "2023-01-18T01:18:01.959Z"
   },
   {
    "duration": 2022,
    "start_time": "2023-01-18T01:18:01.963Z"
   },
   {
    "duration": 712,
    "start_time": "2023-01-18T01:18:03.987Z"
   },
   {
    "duration": 423,
    "start_time": "2023-01-18T01:18:04.700Z"
   },
   {
    "duration": 103,
    "start_time": "2023-01-18T01:18:05.148Z"
   },
   {
    "duration": 442,
    "start_time": "2023-01-18T01:18:05.252Z"
   },
   {
    "duration": 34,
    "start_time": "2023-01-18T01:18:05.747Z"
   },
   {
    "duration": 1167,
    "start_time": "2023-01-18T01:18:05.784Z"
   },
   {
    "duration": 6,
    "start_time": "2023-01-18T01:18:06.952Z"
   },
   {
    "duration": 459,
    "start_time": "2023-01-18T01:18:06.959Z"
   },
   {
    "duration": 2944,
    "start_time": "2023-01-18T01:18:07.420Z"
   },
   {
    "duration": 371084,
    "start_time": "2023-01-18T01:18:10.365Z"
   },
   {
    "duration": 0,
    "start_time": "2023-01-18T01:24:21.451Z"
   },
   {
    "duration": 0,
    "start_time": "2023-01-18T01:24:21.452Z"
   },
   {
    "duration": 418,
    "start_time": "2023-01-18T01:25:37.570Z"
   },
   {
    "duration": 17868,
    "start_time": "2023-01-18T01:25:37.990Z"
   },
   {
    "duration": 4120,
    "start_time": "2023-01-18T01:25:55.860Z"
   },
   {
    "duration": 81,
    "start_time": "2023-01-18T01:25:59.982Z"
   },
   {
    "duration": 2987,
    "start_time": "2023-01-18T01:26:00.067Z"
   },
   {
    "duration": 1301,
    "start_time": "2023-01-18T01:26:03.056Z"
   },
   {
    "duration": 3,
    "start_time": "2023-01-18T01:26:04.359Z"
   },
   {
    "duration": 2089,
    "start_time": "2023-01-18T01:26:04.363Z"
   },
   {
    "duration": 722,
    "start_time": "2023-01-18T01:26:06.454Z"
   },
   {
    "duration": 495,
    "start_time": "2023-01-18T01:26:07.178Z"
   },
   {
    "duration": 101,
    "start_time": "2023-01-18T01:26:07.676Z"
   },
   {
    "duration": 497,
    "start_time": "2023-01-18T01:26:07.778Z"
   },
   {
    "duration": 92,
    "start_time": "2023-01-18T01:26:08.277Z"
   },
   {
    "duration": 1198,
    "start_time": "2023-01-18T01:26:08.372Z"
   },
   {
    "duration": 6,
    "start_time": "2023-01-18T01:26:09.572Z"
   },
   {
    "duration": 488,
    "start_time": "2023-01-18T01:26:09.580Z"
   },
   {
    "duration": 427,
    "start_time": "2023-01-18T01:26:10.070Z"
   },
   {
    "duration": 3209,
    "start_time": "2023-01-18T01:26:10.549Z"
   },
   {
    "duration": 2316,
    "start_time": "2023-01-18T01:26:13.759Z"
   },
   {
    "duration": 0,
    "start_time": "2023-01-18T01:26:16.077Z"
   },
   {
    "duration": 0,
    "start_time": "2023-01-18T01:26:16.150Z"
   },
   {
    "duration": 64,
    "start_time": "2023-01-18T01:27:22.388Z"
   },
   {
    "duration": 488,
    "start_time": "2023-01-18T01:27:37.660Z"
   },
   {
    "duration": 16904,
    "start_time": "2023-01-18T01:27:38.150Z"
   },
   {
    "duration": 3900,
    "start_time": "2023-01-18T01:27:55.056Z"
   },
   {
    "duration": 16,
    "start_time": "2023-01-18T01:27:58.959Z"
   },
   {
    "duration": 2892,
    "start_time": "2023-01-18T01:27:58.977Z"
   },
   {
    "duration": 1098,
    "start_time": "2023-01-18T01:28:01.876Z"
   },
   {
    "duration": 76,
    "start_time": "2023-01-18T01:28:02.976Z"
   },
   {
    "duration": 2040,
    "start_time": "2023-01-18T01:28:03.054Z"
   },
   {
    "duration": 662,
    "start_time": "2023-01-18T01:28:05.095Z"
   },
   {
    "duration": 393,
    "start_time": "2023-01-18T01:28:05.758Z"
   },
   {
    "duration": 98,
    "start_time": "2023-01-18T01:28:06.153Z"
   },
   {
    "duration": 505,
    "start_time": "2023-01-18T01:28:06.253Z"
   },
   {
    "duration": 93,
    "start_time": "2023-01-18T01:28:06.760Z"
   },
   {
    "duration": 1101,
    "start_time": "2023-01-18T01:28:06.855Z"
   },
   {
    "duration": 5,
    "start_time": "2023-01-18T01:28:07.958Z"
   },
   {
    "duration": 394,
    "start_time": "2023-01-18T01:28:07.965Z"
   },
   {
    "duration": 416,
    "start_time": "2023-01-18T01:28:11.057Z"
   },
   {
    "duration": 353,
    "start_time": "2023-01-18T01:29:10.150Z"
   },
   {
    "duration": 272,
    "start_time": "2023-01-18T01:29:33.676Z"
   },
   {
    "duration": 334,
    "start_time": "2023-01-18T01:29:40.916Z"
   },
   {
    "duration": 200,
    "start_time": "2023-01-18T01:29:48.219Z"
   },
   {
    "duration": 248,
    "start_time": "2023-01-18T01:29:58.756Z"
   },
   {
    "duration": 6,
    "start_time": "2023-01-18T01:30:29.234Z"
   },
   {
    "duration": 14,
    "start_time": "2023-01-18T01:30:40.865Z"
   },
   {
    "duration": 13,
    "start_time": "2023-01-18T01:30:48.622Z"
   },
   {
    "duration": 29,
    "start_time": "2023-01-18T01:35:19.603Z"
   },
   {
    "duration": 17,
    "start_time": "2023-01-18T01:35:26.929Z"
   },
   {
    "duration": 17,
    "start_time": "2023-01-18T01:35:30.706Z"
   },
   {
    "duration": 7,
    "start_time": "2023-01-18T01:35:33.354Z"
   },
   {
    "duration": 351,
    "start_time": "2023-01-18T01:35:48.940Z"
   },
   {
    "duration": 6,
    "start_time": "2023-01-18T01:36:13.781Z"
   },
   {
    "duration": 183,
    "start_time": "2023-01-18T01:36:18.019Z"
   },
   {
    "duration": 245,
    "start_time": "2023-01-18T01:36:47.508Z"
   },
   {
    "duration": 268,
    "start_time": "2023-01-18T01:38:13.038Z"
   },
   {
    "duration": 2409,
    "start_time": "2023-01-18T01:38:24.301Z"
   },
   {
    "duration": 2519,
    "start_time": "2023-01-18T01:38:50.131Z"
   },
   {
    "duration": 1799,
    "start_time": "2023-01-18T01:39:18.405Z"
   },
   {
    "duration": 991,
    "start_time": "2023-01-18T01:39:26.289Z"
   },
   {
    "duration": 10,
    "start_time": "2023-01-18T01:39:34.284Z"
   },
   {
    "duration": 5,
    "start_time": "2023-01-18T01:40:08.857Z"
   },
   {
    "duration": 7,
    "start_time": "2023-01-18T01:40:12.721Z"
   },
   {
    "duration": 656,
    "start_time": "2023-01-18T01:40:17.882Z"
   },
   {
    "duration": 715,
    "start_time": "2023-01-18T01:40:21.115Z"
   },
   {
    "duration": 7,
    "start_time": "2023-01-18T01:40:25.071Z"
   },
   {
    "duration": 5,
    "start_time": "2023-01-18T01:40:34.313Z"
   },
   {
    "duration": 4,
    "start_time": "2023-01-18T01:40:44.841Z"
   },
   {
    "duration": 5,
    "start_time": "2023-01-18T01:40:50.039Z"
   },
   {
    "duration": 7,
    "start_time": "2023-01-18T01:41:00.126Z"
   },
   {
    "duration": 5,
    "start_time": "2023-01-18T01:41:06.381Z"
   },
   {
    "duration": 4,
    "start_time": "2023-01-18T01:41:43.659Z"
   },
   {
    "duration": 5,
    "start_time": "2023-01-18T01:42:04.167Z"
   },
   {
    "duration": 3,
    "start_time": "2023-01-18T01:42:15.464Z"
   },
   {
    "duration": 3,
    "start_time": "2023-01-18T01:42:23.722Z"
   },
   {
    "duration": 3,
    "start_time": "2023-01-18T01:42:41.420Z"
   },
   {
    "duration": 3,
    "start_time": "2023-01-18T01:42:42.006Z"
   },
   {
    "duration": 4,
    "start_time": "2023-01-18T01:42:45.741Z"
   },
   {
    "duration": 484,
    "start_time": "2023-01-18T01:43:33.993Z"
   },
   {
    "duration": 16872,
    "start_time": "2023-01-18T01:43:34.478Z"
   },
   {
    "duration": 4105,
    "start_time": "2023-01-18T01:43:51.352Z"
   },
   {
    "duration": 16,
    "start_time": "2023-01-18T01:43:55.460Z"
   },
   {
    "duration": 3077,
    "start_time": "2023-01-18T01:43:55.480Z"
   },
   {
    "duration": 1114,
    "start_time": "2023-01-18T01:43:58.559Z"
   },
   {
    "duration": 4,
    "start_time": "2023-01-18T01:43:59.675Z"
   },
   {
    "duration": 2079,
    "start_time": "2023-01-18T01:43:59.680Z"
   },
   {
    "duration": 737,
    "start_time": "2023-01-18T01:44:01.761Z"
   },
   {
    "duration": 415,
    "start_time": "2023-01-18T01:44:02.549Z"
   },
   {
    "duration": 95,
    "start_time": "2023-01-18T01:44:02.966Z"
   },
   {
    "duration": 505,
    "start_time": "2023-01-18T01:44:03.063Z"
   },
   {
    "duration": 97,
    "start_time": "2023-01-18T01:44:03.570Z"
   },
   {
    "duration": 1199,
    "start_time": "2023-01-18T01:44:03.670Z"
   },
   {
    "duration": 5,
    "start_time": "2023-01-18T01:44:04.871Z"
   },
   {
    "duration": 484,
    "start_time": "2023-01-18T01:44:04.878Z"
   },
   {
    "duration": 2706,
    "start_time": "2023-01-18T01:44:05.364Z"
   },
   {
    "duration": 2808,
    "start_time": "2023-01-18T01:44:08.072Z"
   },
   {
    "duration": 46545,
    "start_time": "2023-01-18T01:44:10.948Z"
   },
   {
    "duration": 0,
    "start_time": "2023-01-18T01:44:57.548Z"
   },
   {
    "duration": 0,
    "start_time": "2023-01-18T01:44:57.549Z"
   },
   {
    "duration": 452,
    "start_time": "2023-01-18T02:38:16.530Z"
   },
   {
    "duration": 16871,
    "start_time": "2023-01-18T02:38:16.984Z"
   },
   {
    "duration": 4296,
    "start_time": "2023-01-18T02:38:33.858Z"
   },
   {
    "duration": 18,
    "start_time": "2023-01-18T02:38:38.156Z"
   },
   {
    "duration": 3070,
    "start_time": "2023-01-18T02:38:38.179Z"
   },
   {
    "duration": 1115,
    "start_time": "2023-01-18T02:38:41.250Z"
   },
   {
    "duration": 3,
    "start_time": "2023-01-18T02:38:42.366Z"
   },
   {
    "duration": 2084,
    "start_time": "2023-01-18T02:38:42.370Z"
   },
   {
    "duration": 603,
    "start_time": "2023-01-18T02:38:44.456Z"
   },
   {
    "duration": 436,
    "start_time": "2023-01-18T02:38:45.061Z"
   },
   {
    "duration": 85,
    "start_time": "2023-01-18T02:38:45.499Z"
   },
   {
    "duration": 571,
    "start_time": "2023-01-18T02:38:45.586Z"
   },
   {
    "duration": 26,
    "start_time": "2023-01-18T02:38:46.158Z"
   },
   {
    "duration": 1113,
    "start_time": "2023-01-18T02:38:46.247Z"
   },
   {
    "duration": 6,
    "start_time": "2023-01-18T02:38:47.362Z"
   },
   {
    "duration": 482,
    "start_time": "2023-01-18T02:38:47.369Z"
   },
   {
    "duration": 2338,
    "start_time": "2023-01-18T02:38:47.853Z"
   },
   {
    "duration": 2660,
    "start_time": "2023-01-18T02:38:50.192Z"
   },
   {
    "duration": 410605,
    "start_time": "2023-01-18T02:38:52.854Z"
   },
   {
    "duration": 0,
    "start_time": "2023-01-18T02:45:43.461Z"
   },
   {
    "duration": 477,
    "start_time": "2023-01-18T02:46:41.695Z"
   },
   {
    "duration": 21981,
    "start_time": "2023-01-18T02:46:42.174Z"
   },
   {
    "duration": 626,
    "start_time": "2023-01-18T02:47:04.157Z"
   },
   {
    "duration": 89,
    "start_time": "2023-01-18T02:47:04.785Z"
   },
   {
    "duration": 2488,
    "start_time": "2023-01-18T02:47:04.877Z"
   },
   {
    "duration": 789,
    "start_time": "2023-01-18T02:47:07.367Z"
   },
   {
    "duration": 7,
    "start_time": "2023-01-18T02:47:08.158Z"
   },
   {
    "duration": 2043,
    "start_time": "2023-01-18T02:47:08.167Z"
   },
   {
    "duration": 538,
    "start_time": "2023-01-18T02:47:10.212Z"
   },
   {
    "duration": 349,
    "start_time": "2023-01-18T02:47:10.752Z"
   },
   {
    "duration": 81,
    "start_time": "2023-01-18T02:47:11.102Z"
   },
   {
    "duration": 486,
    "start_time": "2023-01-18T02:47:11.185Z"
   },
   {
    "duration": 87,
    "start_time": "2023-01-18T02:47:11.673Z"
   },
   {
    "duration": 1308,
    "start_time": "2023-01-18T02:47:11.763Z"
   },
   {
    "duration": 6,
    "start_time": "2023-01-18T02:47:13.073Z"
   },
   {
    "duration": 450,
    "start_time": "2023-01-18T02:47:13.080Z"
   },
   {
    "duration": 2521,
    "start_time": "2023-01-18T02:47:13.548Z"
   },
   {
    "duration": 2490,
    "start_time": "2023-01-18T02:47:16.071Z"
   },
   {
    "duration": 295922,
    "start_time": "2023-01-18T02:47:18.563Z"
   },
   {
    "duration": 0,
    "start_time": "2023-01-18T02:52:14.486Z"
   },
   {
    "duration": 504,
    "start_time": "2023-01-18T03:02:25.147Z"
   },
   {
    "duration": 22009,
    "start_time": "2023-01-18T03:02:25.655Z"
   },
   {
    "duration": 688,
    "start_time": "2023-01-18T03:02:47.666Z"
   },
   {
    "duration": 25,
    "start_time": "2023-01-18T03:02:48.356Z"
   },
   {
    "duration": 2573,
    "start_time": "2023-01-18T03:02:48.383Z"
   },
   {
    "duration": 892,
    "start_time": "2023-01-18T03:02:50.958Z"
   },
   {
    "duration": 3,
    "start_time": "2023-01-18T03:02:51.852Z"
   },
   {
    "duration": 1702,
    "start_time": "2023-01-18T03:02:51.856Z"
   },
   {
    "duration": 697,
    "start_time": "2023-01-18T03:02:53.560Z"
   },
   {
    "duration": 389,
    "start_time": "2023-01-18T03:02:54.259Z"
   },
   {
    "duration": 99,
    "start_time": "2023-01-18T03:02:54.650Z"
   },
   {
    "duration": 426,
    "start_time": "2023-01-18T03:02:54.751Z"
   },
   {
    "duration": 88,
    "start_time": "2023-01-18T03:02:55.180Z"
   },
   {
    "duration": 1096,
    "start_time": "2023-01-18T03:02:55.271Z"
   },
   {
    "duration": 5,
    "start_time": "2023-01-18T03:02:56.369Z"
   },
   {
    "duration": 431,
    "start_time": "2023-01-18T03:02:56.375Z"
   },
   {
    "duration": 1947,
    "start_time": "2023-01-18T03:02:56.808Z"
   },
   {
    "duration": 2410,
    "start_time": "2023-01-18T03:02:58.756Z"
   },
   {
    "duration": 4687,
    "start_time": "2023-01-18T03:03:01.168Z"
   },
   {
    "duration": 3,
    "start_time": "2023-01-18T03:03:05.856Z"
   },
   {
    "duration": 6,
    "start_time": "2023-01-18T03:07:37.378Z"
   },
   {
    "duration": 5,
    "start_time": "2023-01-18T03:09:56.832Z"
   },
   {
    "duration": 4,
    "start_time": "2023-01-18T03:10:11.438Z"
   },
   {
    "duration": 552,
    "start_time": "2023-01-18T03:11:23.835Z"
   },
   {
    "duration": 22174,
    "start_time": "2023-01-18T03:11:24.388Z"
   },
   {
    "duration": 687,
    "start_time": "2023-01-18T03:11:46.564Z"
   },
   {
    "duration": 28,
    "start_time": "2023-01-18T03:11:47.252Z"
   },
   {
    "duration": 2590,
    "start_time": "2023-01-18T03:11:47.282Z"
   },
   {
    "duration": 879,
    "start_time": "2023-01-18T03:11:49.874Z"
   },
   {
    "duration": 8,
    "start_time": "2023-01-18T03:11:50.755Z"
   },
   {
    "duration": 1843,
    "start_time": "2023-01-18T03:11:50.764Z"
   },
   {
    "duration": 752,
    "start_time": "2023-01-18T03:11:52.608Z"
   },
   {
    "duration": 402,
    "start_time": "2023-01-18T03:11:53.362Z"
   },
   {
    "duration": 102,
    "start_time": "2023-01-18T03:11:53.766Z"
   },
   {
    "duration": 502,
    "start_time": "2023-01-18T03:11:53.869Z"
   },
   {
    "duration": 88,
    "start_time": "2023-01-18T03:11:54.373Z"
   },
   {
    "duration": 1286,
    "start_time": "2023-01-18T03:11:54.465Z"
   },
   {
    "duration": 6,
    "start_time": "2023-01-18T03:11:55.753Z"
   },
   {
    "duration": 491,
    "start_time": "2023-01-18T03:11:55.760Z"
   },
   {
    "duration": 2355,
    "start_time": "2023-01-18T03:11:56.252Z"
   },
   {
    "duration": 2449,
    "start_time": "2023-01-18T03:11:58.609Z"
   },
   {
    "duration": 4805,
    "start_time": "2023-01-18T03:12:01.061Z"
   },
   {
    "duration": 53,
    "start_time": "2023-01-18T03:12:05.868Z"
   },
   {
    "duration": 0,
    "start_time": "2023-01-18T03:12:05.923Z"
   },
   {
    "duration": 6,
    "start_time": "2023-01-18T03:12:18.528Z"
   },
   {
    "duration": 138,
    "start_time": "2023-01-18T03:16:53.105Z"
   },
   {
    "duration": 412,
    "start_time": "2023-01-18T03:17:26.177Z"
   },
   {
    "duration": 21584,
    "start_time": "2023-01-18T03:17:28.480Z"
   },
   {
    "duration": 790,
    "start_time": "2023-01-18T03:17:53.362Z"
   },
   {
    "duration": 30,
    "start_time": "2023-01-18T03:17:54.154Z"
   },
   {
    "duration": 2242,
    "start_time": "2023-01-18T03:17:55.706Z"
   },
   {
    "duration": 904,
    "start_time": "2023-01-18T03:17:57.951Z"
   },
   {
    "duration": 3,
    "start_time": "2023-01-18T03:18:00.813Z"
   },
   {
    "duration": 1986,
    "start_time": "2023-01-18T03:18:03.764Z"
   },
   {
    "duration": 538,
    "start_time": "2023-01-18T03:18:08.810Z"
   },
   {
    "duration": 36,
    "start_time": "2023-01-18T03:18:24.379Z"
   },
   {
    "duration": 491,
    "start_time": "2023-01-18T03:18:27.258Z"
   },
   {
    "duration": 31,
    "start_time": "2023-01-18T03:18:30.677Z"
   },
   {
    "duration": 1305,
    "start_time": "2023-01-18T03:18:31.651Z"
   },
   {
    "duration": 52,
    "start_time": "2023-01-18T03:50:42.327Z"
   },
   {
    "duration": 152,
    "start_time": "2023-01-18T03:51:20.608Z"
   },
   {
    "duration": 188,
    "start_time": "2023-01-18T03:51:20.777Z"
   },
   {
    "duration": 442,
    "start_time": "2023-01-18T03:51:39.330Z"
   },
   {
    "duration": 4,
    "start_time": "2023-01-18T03:51:44.423Z"
   },
   {
    "duration": 589,
    "start_time": "2023-01-18T03:51:45.088Z"
   },
   {
    "duration": 461,
    "start_time": "2023-01-18T03:51:54.026Z"
   },
   {
    "duration": 22618,
    "start_time": "2023-01-18T03:51:55.041Z"
   },
   {
    "duration": 614,
    "start_time": "2023-01-18T03:52:17.661Z"
   },
   {
    "duration": 27,
    "start_time": "2023-01-18T03:52:18.977Z"
   },
   {
    "duration": 2766,
    "start_time": "2023-01-18T03:52:19.682Z"
   },
   {
    "duration": 818,
    "start_time": "2023-01-18T03:52:22.451Z"
   },
   {
    "duration": 3,
    "start_time": "2023-01-18T03:52:23.271Z"
   },
   {
    "duration": 127,
    "start_time": "2023-01-18T03:52:23.276Z"
   },
   {
    "duration": 205,
    "start_time": "2023-01-18T03:52:43.956Z"
   },
   {
    "duration": 2671,
    "start_time": "2023-01-18T03:57:13.470Z"
   },
   {
    "duration": 4756,
    "start_time": "2023-01-18T03:57:55.131Z"
   },
   {
    "duration": 2775,
    "start_time": "2023-01-18T03:58:25.207Z"
   },
   {
    "duration": 4,
    "start_time": "2023-01-18T03:59:18.867Z"
   },
   {
    "duration": 7,
    "start_time": "2023-01-18T03:59:22.997Z"
   },
   {
    "duration": 6,
    "start_time": "2023-01-18T03:59:27.214Z"
   },
   {
    "duration": 59,
    "start_time": "2023-01-18T04:08:15.024Z"
   },
   {
    "duration": 29,
    "start_time": "2023-01-18T04:08:26.635Z"
   },
   {
    "duration": 34,
    "start_time": "2023-01-18T04:08:45.142Z"
   },
   {
    "duration": 3062,
    "start_time": "2023-01-18T04:09:08.212Z"
   },
   {
    "duration": 455,
    "start_time": "2023-01-18T04:09:57.534Z"
   },
   {
    "duration": 23298,
    "start_time": "2023-01-18T04:09:58.972Z"
   },
   {
    "duration": 677,
    "start_time": "2023-01-18T04:10:22.272Z"
   },
   {
    "duration": 27,
    "start_time": "2023-01-18T04:10:22.952Z"
   },
   {
    "duration": 2775,
    "start_time": "2023-01-18T04:10:22.982Z"
   },
   {
    "duration": 907,
    "start_time": "2023-01-18T04:10:25.758Z"
   },
   {
    "duration": 3,
    "start_time": "2023-01-18T04:10:26.666Z"
   },
   {
    "duration": 7082,
    "start_time": "2023-01-18T04:10:26.671Z"
   },
   {
    "duration": 36,
    "start_time": "2023-01-18T04:14:21.736Z"
   },
   {
    "duration": 34,
    "start_time": "2023-01-18T04:15:52.578Z"
   },
   {
    "duration": 31,
    "start_time": "2023-01-18T04:16:36.496Z"
   },
   {
    "duration": 715,
    "start_time": "2023-01-18T04:17:12.245Z"
   },
   {
    "duration": 1858,
    "start_time": "2023-01-18T04:21:52.112Z"
   },
   {
    "duration": 34,
    "start_time": "2023-01-18T04:28:23.416Z"
   },
   {
    "duration": 1494,
    "start_time": "2023-01-18T04:28:39.700Z"
   },
   {
    "duration": 40,
    "start_time": "2023-01-18T04:31:47.820Z"
   },
   {
    "duration": 501,
    "start_time": "2023-01-18T04:32:43.696Z"
   },
   {
    "duration": 23043,
    "start_time": "2023-01-18T04:32:44.834Z"
   },
   {
    "duration": 774,
    "start_time": "2023-01-18T04:33:07.879Z"
   },
   {
    "duration": 26,
    "start_time": "2023-01-18T04:33:08.655Z"
   },
   {
    "duration": 2765,
    "start_time": "2023-01-18T04:33:08.683Z"
   },
   {
    "duration": 915,
    "start_time": "2023-01-18T04:33:11.450Z"
   },
   {
    "duration": 6,
    "start_time": "2023-01-18T04:33:12.368Z"
   },
   {
    "duration": 304,
    "start_time": "2023-01-18T04:33:12.377Z"
   },
   {
    "duration": 5507,
    "start_time": "2023-01-18T04:34:03.444Z"
   },
   {
    "duration": 50,
    "start_time": "2023-01-18T04:39:08.884Z"
   },
   {
    "duration": 1664,
    "start_time": "2023-01-18T04:39:15.053Z"
   },
   {
    "duration": 1833,
    "start_time": "2023-01-18T04:39:57.823Z"
   },
   {
    "duration": 684,
    "start_time": "2023-01-18T04:44:40.473Z"
   },
   {
    "duration": 1750,
    "start_time": "2023-01-18T04:53:43.313Z"
   },
   {
    "duration": 41,
    "start_time": "2023-01-18T04:58:31.496Z"
   },
   {
    "duration": 9525,
    "start_time": "2023-01-18T04:58:49.161Z"
   },
   {
    "duration": 11,
    "start_time": "2023-01-18T04:59:11.750Z"
   },
   {
    "duration": 419,
    "start_time": "2023-01-18T04:59:18.453Z"
   },
   {
    "duration": 19111,
    "start_time": "2023-01-18T05:00:55.444Z"
   },
   {
    "duration": 4,
    "start_time": "2023-01-18T05:01:30.443Z"
   },
   {
    "duration": 3,
    "start_time": "2023-01-18T05:01:54.530Z"
   },
   {
    "duration": 7,
    "start_time": "2023-01-18T05:02:07.189Z"
   },
   {
    "duration": 8,
    "start_time": "2023-01-18T05:02:15.338Z"
   },
   {
    "duration": 6,
    "start_time": "2023-01-18T05:03:12.620Z"
   },
   {
    "duration": 6,
    "start_time": "2023-01-18T05:03:23.446Z"
   },
   {
    "duration": 4,
    "start_time": "2023-01-18T05:03:38.953Z"
   },
   {
    "duration": 4,
    "start_time": "2023-01-18T05:04:00.662Z"
   },
   {
    "duration": 7,
    "start_time": "2023-01-18T05:04:06.933Z"
   },
   {
    "duration": 7,
    "start_time": "2023-01-18T05:07:05.528Z"
   },
   {
    "duration": 4,
    "start_time": "2023-01-18T05:07:41.744Z"
   },
   {
    "duration": 33465,
    "start_time": "2023-01-18T05:09:34.130Z"
   },
   {
    "duration": 4,
    "start_time": "2023-01-18T05:13:08.501Z"
   },
   {
    "duration": 7,
    "start_time": "2023-01-18T05:13:30.835Z"
   },
   {
    "duration": 3,
    "start_time": "2023-01-18T05:14:50.963Z"
   },
   {
    "duration": 3,
    "start_time": "2023-01-18T05:14:56.099Z"
   },
   {
    "duration": 5,
    "start_time": "2023-01-18T05:21:35.194Z"
   },
   {
    "duration": 4,
    "start_time": "2023-01-18T05:21:44.890Z"
   },
   {
    "duration": 8,
    "start_time": "2023-01-18T05:21:58.250Z"
   },
   {
    "duration": 7,
    "start_time": "2023-01-18T05:22:05.598Z"
   },
   {
    "duration": 100,
    "start_time": "2023-01-18T05:22:20.519Z"
   },
   {
    "duration": 4,
    "start_time": "2023-01-18T05:22:33.623Z"
   },
   {
    "duration": 4,
    "start_time": "2023-01-18T05:22:57.971Z"
   },
   {
    "duration": 4,
    "start_time": "2023-01-18T05:23:18.628Z"
   },
   {
    "duration": 4,
    "start_time": "2023-01-18T05:25:27.474Z"
   },
   {
    "duration": 3,
    "start_time": "2023-01-18T05:25:38.714Z"
   },
   {
    "duration": 34,
    "start_time": "2023-01-18T05:29:22.425Z"
   },
   {
    "duration": 11501,
    "start_time": "2023-01-18T05:29:39.553Z"
   },
   {
    "duration": 4,
    "start_time": "2023-01-18T05:30:07.668Z"
   },
   {
    "duration": 7,
    "start_time": "2023-01-18T05:30:14.395Z"
   },
   {
    "duration": 8,
    "start_time": "2023-01-18T05:30:17.779Z"
   },
   {
    "duration": 4,
    "start_time": "2023-01-18T05:30:23.198Z"
   },
   {
    "duration": 5,
    "start_time": "2023-01-18T05:30:38.104Z"
   },
   {
    "duration": 6,
    "start_time": "2023-01-18T05:30:48.817Z"
   },
   {
    "duration": 7,
    "start_time": "2023-01-18T05:31:00.238Z"
   },
   {
    "duration": 12156,
    "start_time": "2023-01-18T05:31:19.694Z"
   },
   {
    "duration": 12592,
    "start_time": "2023-01-18T05:32:41.264Z"
   },
   {
    "duration": 57,
    "start_time": "2023-01-18T06:03:45.025Z"
   },
   {
    "duration": 388012,
    "start_time": "2023-01-18T06:04:20.775Z"
   },
   {
    "duration": 342836,
    "start_time": "2023-01-18T06:13:56.473Z"
   },
   {
    "duration": 548448,
    "start_time": "2023-01-18T06:24:24.621Z"
   },
   {
    "duration": 527,
    "start_time": "2023-01-18T07:04:31.732Z"
   },
   {
    "duration": 23092,
    "start_time": "2023-01-18T07:04:32.261Z"
   },
   {
    "duration": 809,
    "start_time": "2023-01-18T07:04:55.356Z"
   },
   {
    "duration": 99,
    "start_time": "2023-01-18T07:04:56.167Z"
   },
   {
    "duration": 2885,
    "start_time": "2023-01-18T07:04:56.269Z"
   },
   {
    "duration": 1014,
    "start_time": "2023-01-18T07:04:59.156Z"
   },
   {
    "duration": 4,
    "start_time": "2023-01-18T07:05:00.172Z"
   },
   {
    "duration": 96,
    "start_time": "2023-01-18T07:05:00.177Z"
   },
   {
    "duration": 319,
    "start_time": "2023-01-18T07:05:00.275Z"
   },
   {
    "duration": 0,
    "start_time": "2023-01-18T07:05:00.648Z"
   },
   {
    "duration": 3700,
    "start_time": "2023-01-18T07:06:30.690Z"
   },
   {
    "duration": 1031,
    "start_time": "2023-01-18T07:07:35.848Z"
   },
   {
    "duration": 483,
    "start_time": "2023-01-18T07:14:37.913Z"
   },
   {
    "duration": 23270,
    "start_time": "2023-01-18T07:14:38.399Z"
   },
   {
    "duration": 791,
    "start_time": "2023-01-18T07:15:01.671Z"
   },
   {
    "duration": 94,
    "start_time": "2023-01-18T07:15:02.464Z"
   },
   {
    "duration": 2792,
    "start_time": "2023-01-18T07:15:02.560Z"
   },
   {
    "duration": 917,
    "start_time": "2023-01-18T07:15:05.354Z"
   },
   {
    "duration": 3,
    "start_time": "2023-01-18T07:15:06.273Z"
   },
   {
    "duration": 90,
    "start_time": "2023-01-18T07:15:06.278Z"
   },
   {
    "duration": 3798,
    "start_time": "2023-01-18T07:15:06.370Z"
   },
   {
    "duration": 0,
    "start_time": "2023-01-18T07:15:10.170Z"
   },
   {
    "duration": 468,
    "start_time": "2023-01-18T07:15:52.320Z"
   },
   {
    "duration": 23480,
    "start_time": "2023-01-18T07:15:52.789Z"
   },
   {
    "duration": 708,
    "start_time": "2023-01-18T07:16:16.271Z"
   },
   {
    "duration": 33,
    "start_time": "2023-01-18T07:16:17.047Z"
   },
   {
    "duration": 2966,
    "start_time": "2023-01-18T07:16:17.084Z"
   },
   {
    "duration": 805,
    "start_time": "2023-01-18T07:16:20.051Z"
   },
   {
    "duration": 3,
    "start_time": "2023-01-18T07:16:20.858Z"
   },
   {
    "duration": 90,
    "start_time": "2023-01-18T07:16:20.863Z"
   },
   {
    "duration": 20504,
    "start_time": "2023-01-18T07:16:20.955Z"
   },
   {
    "duration": 230,
    "start_time": "2023-01-18T07:16:41.461Z"
   },
   {
    "duration": 541,
    "start_time": "2023-01-18T07:17:00.334Z"
   },
   {
    "duration": 23710,
    "start_time": "2023-01-18T07:17:00.877Z"
   },
   {
    "duration": 774,
    "start_time": "2023-01-18T07:17:24.589Z"
   },
   {
    "duration": 99,
    "start_time": "2023-01-18T07:17:25.365Z"
   },
   {
    "duration": 2796,
    "start_time": "2023-01-18T07:17:25.467Z"
   },
   {
    "duration": 917,
    "start_time": "2023-01-18T07:17:28.265Z"
   },
   {
    "duration": 4,
    "start_time": "2023-01-18T07:17:29.248Z"
   },
   {
    "duration": 35,
    "start_time": "2023-01-18T07:17:29.253Z"
   },
   {
    "duration": 21272,
    "start_time": "2023-01-18T07:17:29.290Z"
   },
   {
    "duration": 153,
    "start_time": "2023-01-18T07:17:50.564Z"
   },
   {
    "duration": 4,
    "start_time": "2023-01-18T07:18:48.513Z"
   },
   {
    "duration": 5,
    "start_time": "2023-01-18T07:18:57.429Z"
   },
   {
    "duration": 4,
    "start_time": "2023-01-18T07:19:13.650Z"
   },
   {
    "duration": 7,
    "start_time": "2023-01-18T07:19:37.719Z"
   },
   {
    "duration": 5,
    "start_time": "2023-01-18T07:19:40.653Z"
   },
   {
    "duration": 3,
    "start_time": "2023-01-18T07:26:52.567Z"
   },
   {
    "duration": 4,
    "start_time": "2023-01-18T07:26:59.474Z"
   },
   {
    "duration": 4,
    "start_time": "2023-01-18T07:27:11.219Z"
   },
   {
    "duration": 3,
    "start_time": "2023-01-18T07:27:20.419Z"
   },
   {
    "duration": 6,
    "start_time": "2023-01-18T07:27:35.193Z"
   },
   {
    "duration": 4,
    "start_time": "2023-01-18T07:27:49.467Z"
   },
   {
    "duration": 5,
    "start_time": "2023-01-18T07:28:06.896Z"
   },
   {
    "duration": 8,
    "start_time": "2023-01-18T07:28:23.966Z"
   },
   {
    "duration": 4,
    "start_time": "2023-01-18T07:28:36.716Z"
   },
   {
    "duration": 4,
    "start_time": "2023-01-18T07:28:45.837Z"
   },
   {
    "duration": 5,
    "start_time": "2023-01-18T07:28:55.906Z"
   },
   {
    "duration": 5,
    "start_time": "2023-01-18T07:29:27.079Z"
   },
   {
    "duration": 7,
    "start_time": "2023-01-18T07:29:39.879Z"
   },
   {
    "duration": 5,
    "start_time": "2023-01-18T07:29:59.223Z"
   },
   {
    "duration": 5,
    "start_time": "2023-01-18T07:30:35.540Z"
   },
   {
    "duration": 4,
    "start_time": "2023-01-18T07:30:50.802Z"
   },
   {
    "duration": 4,
    "start_time": "2023-01-18T07:31:33.950Z"
   },
   {
    "duration": 4,
    "start_time": "2023-01-18T07:31:42.815Z"
   },
   {
    "duration": 5,
    "start_time": "2023-01-18T07:31:55.218Z"
   },
   {
    "duration": 12466,
    "start_time": "2023-01-18T07:32:53.914Z"
   },
   {
    "duration": 4,
    "start_time": "2023-01-18T07:54:12.169Z"
   },
   {
    "duration": 5,
    "start_time": "2023-01-18T07:55:07.877Z"
   },
   {
    "duration": 9,
    "start_time": "2023-01-18T07:55:36.230Z"
   },
   {
    "duration": 6,
    "start_time": "2023-01-18T07:56:12.299Z"
   },
   {
    "duration": 32,
    "start_time": "2023-01-18T07:56:33.335Z"
   },
   {
    "duration": 1985,
    "start_time": "2023-01-18T07:56:42.594Z"
   },
   {
    "duration": 672188,
    "start_time": "2023-01-18T07:56:56.773Z"
   },
   {
    "duration": 27,
    "start_time": "2023-01-18T08:23:07.872Z"
   },
   {
    "duration": 4,
    "start_time": "2023-01-18T08:24:11.321Z"
   },
   {
    "duration": 7,
    "start_time": "2023-01-18T08:24:18.537Z"
   },
   {
    "duration": 18511,
    "start_time": "2023-01-18T08:24:55.875Z"
   },
   {
    "duration": 558,
    "start_time": "2023-01-18T08:25:29.732Z"
   },
   {
    "duration": 27185,
    "start_time": "2023-01-18T08:25:30.292Z"
   },
   {
    "duration": 977,
    "start_time": "2023-01-18T08:25:57.479Z"
   },
   {
    "duration": 97,
    "start_time": "2023-01-18T08:25:58.458Z"
   },
   {
    "duration": 3496,
    "start_time": "2023-01-18T08:25:58.557Z"
   },
   {
    "duration": 11,
    "start_time": "2023-01-18T08:26:02.056Z"
   },
   {
    "duration": 19,
    "start_time": "2023-01-18T08:26:02.071Z"
   },
   {
    "duration": 161,
    "start_time": "2023-01-18T08:26:02.092Z"
   },
   {
    "duration": 34729,
    "start_time": "2023-01-18T08:26:02.254Z"
   },
   {
    "duration": 3015,
    "start_time": "2023-01-18T08:26:36.986Z"
   },
   {
    "duration": 470,
    "start_time": "2023-01-18T08:35:07.574Z"
   },
   {
    "duration": 803327,
    "start_time": "2023-01-18T08:50:09.984Z"
   },
   {
    "duration": 5,
    "start_time": "2023-01-18T09:10:00.305Z"
   },
   {
    "duration": 4,
    "start_time": "2023-01-18T09:10:19.302Z"
   },
   {
    "duration": 58,
    "start_time": "2023-01-18T09:11:23.618Z"
   },
   {
    "duration": 6,
    "start_time": "2023-01-18T09:11:34.248Z"
   },
   {
    "duration": 4,
    "start_time": "2023-01-18T09:11:46.526Z"
   },
   {
    "duration": 4,
    "start_time": "2023-01-18T09:13:08.874Z"
   },
   {
    "duration": 11,
    "start_time": "2023-01-18T09:13:39.294Z"
   },
   {
    "duration": 9,
    "start_time": "2023-01-18T09:15:57.442Z"
   },
   {
    "duration": 6,
    "start_time": "2023-01-18T09:16:04.689Z"
   },
   {
    "duration": 5,
    "start_time": "2023-01-18T09:16:40.439Z"
   },
   {
    "duration": 4,
    "start_time": "2023-01-18T09:17:06.643Z"
   },
   {
    "duration": 3,
    "start_time": "2023-01-18T09:17:39.225Z"
   },
   {
    "duration": 69,
    "start_time": "2023-01-18T09:17:45.001Z"
   },
   {
    "duration": 4,
    "start_time": "2023-01-18T09:17:52.809Z"
   },
   {
    "duration": 7,
    "start_time": "2023-01-18T09:19:09.590Z"
   },
   {
    "duration": 3,
    "start_time": "2023-01-18T09:23:17.365Z"
   },
   {
    "duration": 3,
    "start_time": "2023-01-18T09:23:26.230Z"
   },
   {
    "duration": 4,
    "start_time": "2023-01-18T09:23:54.890Z"
   },
   {
    "duration": 4,
    "start_time": "2023-01-18T09:24:17.386Z"
   },
   {
    "duration": 80,
    "start_time": "2023-01-18T09:24:36.505Z"
   },
   {
    "duration": 5,
    "start_time": "2023-01-18T09:24:39.447Z"
   },
   {
    "duration": 4,
    "start_time": "2023-01-18T09:24:42.408Z"
   },
   {
    "duration": 4,
    "start_time": "2023-01-18T09:25:48.605Z"
   },
   {
    "duration": 4,
    "start_time": "2023-01-18T09:26:13.779Z"
   },
   {
    "duration": 4,
    "start_time": "2023-01-18T09:26:38.143Z"
   },
   {
    "duration": 4,
    "start_time": "2023-01-18T09:27:14.966Z"
   },
   {
    "duration": 4,
    "start_time": "2023-01-18T09:27:48.368Z"
   },
   {
    "duration": 4,
    "start_time": "2023-01-18T09:28:06.520Z"
   },
   {
    "duration": 3,
    "start_time": "2023-01-18T09:29:23.617Z"
   },
   {
    "duration": 4,
    "start_time": "2023-01-18T09:29:29.069Z"
   },
   {
    "duration": 4,
    "start_time": "2023-01-18T09:30:14.940Z"
   },
   {
    "duration": 4,
    "start_time": "2023-01-18T09:31:17.497Z"
   },
   {
    "duration": 3,
    "start_time": "2023-01-18T09:31:24.903Z"
   },
   {
    "duration": 3,
    "start_time": "2023-01-18T09:31:29.134Z"
   },
   {
    "duration": 3,
    "start_time": "2023-01-18T09:31:32.694Z"
   },
   {
    "duration": 4,
    "start_time": "2023-01-18T09:31:35.958Z"
   },
   {
    "duration": 4,
    "start_time": "2023-01-18T09:31:39.638Z"
   },
   {
    "duration": 3,
    "start_time": "2023-01-18T09:31:42.382Z"
   },
   {
    "duration": 4,
    "start_time": "2023-01-18T09:31:46.563Z"
   },
   {
    "duration": 4,
    "start_time": "2023-01-18T09:32:31.445Z"
   },
   {
    "duration": 5,
    "start_time": "2023-01-18T09:32:48.857Z"
   },
   {
    "duration": 10,
    "start_time": "2023-01-18T09:33:00.352Z"
   },
   {
    "duration": 4,
    "start_time": "2023-01-18T09:34:02.416Z"
   },
   {
    "duration": 8,
    "start_time": "2023-01-18T09:34:20.515Z"
   },
   {
    "duration": 3,
    "start_time": "2023-01-18T09:34:34.286Z"
   },
   {
    "duration": 6,
    "start_time": "2023-01-18T09:35:10.264Z"
   },
   {
    "duration": 3,
    "start_time": "2023-01-18T09:35:14.021Z"
   },
   {
    "duration": 3,
    "start_time": "2023-01-18T09:35:32.109Z"
   },
   {
    "duration": 3,
    "start_time": "2023-01-18T09:35:35.133Z"
   },
   {
    "duration": 7,
    "start_time": "2023-01-18T09:36:12.206Z"
   },
   {
    "duration": 4,
    "start_time": "2023-01-18T09:36:17.818Z"
   },
   {
    "duration": 4,
    "start_time": "2023-01-18T09:36:44.366Z"
   },
   {
    "duration": 4,
    "start_time": "2023-01-18T09:37:35.579Z"
   },
   {
    "duration": 7,
    "start_time": "2023-01-18T09:38:01.032Z"
   },
   {
    "duration": 6,
    "start_time": "2023-01-18T09:38:12.946Z"
   },
   {
    "duration": 46,
    "start_time": "2023-01-18T09:38:18.287Z"
   },
   {
    "duration": 5,
    "start_time": "2023-01-18T09:38:34.941Z"
   },
   {
    "duration": 7,
    "start_time": "2023-01-18T09:40:53.474Z"
   },
   {
    "duration": 7,
    "start_time": "2023-01-18T09:41:35.912Z"
   },
   {
    "duration": 3,
    "start_time": "2023-01-18T09:41:55.192Z"
   },
   {
    "duration": 792249,
    "start_time": "2023-01-18T09:44:49.505Z"
   },
   {
    "duration": 7,
    "start_time": "2023-01-18T10:04:51.364Z"
   },
   {
    "duration": 174,
    "start_time": "2023-01-18T10:05:07.203Z"
   },
   {
    "duration": 32,
    "start_time": "2023-01-18T10:05:10.538Z"
   },
   {
    "duration": 10,
    "start_time": "2023-01-18T10:05:42.378Z"
   },
   {
    "duration": 4,
    "start_time": "2023-01-18T10:05:55.267Z"
   },
   {
    "duration": 8,
    "start_time": "2023-01-18T10:05:56.792Z"
   },
   {
    "duration": 31000,
    "start_time": "2023-01-18T10:05:59.576Z"
   },
   {
    "duration": 4,
    "start_time": "2023-01-18T10:06:49.713Z"
   },
   {
    "duration": 10,
    "start_time": "2023-01-18T10:07:05.938Z"
   },
   {
    "duration": 8,
    "start_time": "2023-01-18T10:07:44.022Z"
   },
   {
    "duration": 821,
    "start_time": "2023-01-18T10:08:35.667Z"
   },
   {
    "duration": 8,
    "start_time": "2023-01-18T10:08:47.937Z"
   },
   {
    "duration": 828,
    "start_time": "2023-01-18T10:08:57.606Z"
   },
   {
    "duration": 11,
    "start_time": "2023-01-18T10:09:08.164Z"
   },
   {
    "duration": 12,
    "start_time": "2023-01-18T10:09:43.577Z"
   },
   {
    "duration": 725,
    "start_time": "2023-01-18T10:16:30.166Z"
   },
   {
    "duration": 25763,
    "start_time": "2023-01-18T10:16:30.893Z"
   },
   {
    "duration": 814,
    "start_time": "2023-01-18T10:16:56.659Z"
   },
   {
    "duration": 105,
    "start_time": "2023-01-18T10:16:57.475Z"
   },
   {
    "duration": 3398,
    "start_time": "2023-01-18T10:16:57.583Z"
   },
   {
    "duration": 4,
    "start_time": "2023-01-18T10:17:01.048Z"
   },
   {
    "duration": 76323,
    "start_time": "2023-01-18T10:17:01.054Z"
   },
   {
    "duration": 927234,
    "start_time": "2023-01-18T10:18:17.379Z"
   },
   {
    "duration": 8,
    "start_time": "2023-01-18T10:33:44.615Z"
   },
   {
    "duration": 28,
    "start_time": "2023-01-18T10:33:44.624Z"
   },
   {
    "duration": 4,
    "start_time": "2023-01-18T10:43:37.974Z"
   },
   {
    "duration": 3,
    "start_time": "2023-01-18T10:43:55.612Z"
   },
   {
    "duration": 3,
    "start_time": "2023-01-18T10:45:45.074Z"
   },
   {
    "duration": 4,
    "start_time": "2023-01-18T10:45:54.473Z"
   },
   {
    "duration": 3,
    "start_time": "2023-01-18T10:45:58.114Z"
   },
   {
    "duration": 4,
    "start_time": "2023-01-18T10:47:47.495Z"
   },
   {
    "duration": 95,
    "start_time": "2023-01-18T10:49:49.005Z"
   },
   {
    "duration": 64,
    "start_time": "2023-01-18T10:50:24.518Z"
   },
   {
    "duration": 67,
    "start_time": "2023-01-18T10:50:44.211Z"
   },
   {
    "duration": 6158,
    "start_time": "2023-01-18T10:51:11.120Z"
   },
   {
    "duration": 27414,
    "start_time": "2023-01-18T10:53:04.073Z"
   },
   {
    "duration": 9890,
    "start_time": "2023-01-18T10:55:40.297Z"
   },
   {
    "duration": 756,
    "start_time": "2023-01-19T11:40:10.789Z"
   },
   {
    "duration": 33153,
    "start_time": "2023-01-19T11:40:11.547Z"
   },
   {
    "duration": 917,
    "start_time": "2023-01-19T11:40:44.758Z"
   },
   {
    "duration": 90,
    "start_time": "2023-01-19T11:40:45.677Z"
   },
   {
    "duration": 2794,
    "start_time": "2023-01-19T11:40:45.770Z"
   },
   {
    "duration": 0,
    "start_time": "2023-01-19T11:40:48.567Z"
   },
   {
    "duration": 1,
    "start_time": "2023-01-19T11:40:48.573Z"
   },
   {
    "duration": 0,
    "start_time": "2023-01-19T11:40:48.575Z"
   },
   {
    "duration": 0,
    "start_time": "2023-01-19T11:40:48.577Z"
   },
   {
    "duration": 0,
    "start_time": "2023-01-19T11:40:48.578Z"
   },
   {
    "duration": 0,
    "start_time": "2023-01-19T11:40:48.579Z"
   },
   {
    "duration": 0,
    "start_time": "2023-01-19T11:40:48.581Z"
   },
   {
    "duration": 9,
    "start_time": "2023-01-19T11:40:59.670Z"
   },
   {
    "duration": 8,
    "start_time": "2023-01-19T11:41:03.585Z"
   },
   {
    "duration": 3394,
    "start_time": "2023-01-19T11:41:08.372Z"
   },
   {
    "duration": 1895,
    "start_time": "2023-01-19T11:41:17.771Z"
   },
   {
    "duration": 719,
    "start_time": "2023-01-19T11:41:47.183Z"
   },
   {
    "duration": 27665,
    "start_time": "2023-01-19T11:41:47.907Z"
   },
   {
    "duration": 883,
    "start_time": "2023-01-19T11:42:15.575Z"
   },
   {
    "duration": 41,
    "start_time": "2023-01-19T11:42:16.460Z"
   },
   {
    "duration": 3483,
    "start_time": "2023-01-19T11:42:16.504Z"
   },
   {
    "duration": 3992,
    "start_time": "2023-01-19T11:42:19.989Z"
   },
   {
    "duration": 4,
    "start_time": "2023-01-19T11:42:23.983Z"
   },
   {
    "duration": 82498,
    "start_time": "2023-01-19T11:42:23.989Z"
   },
   {
    "duration": 23519,
    "start_time": "2023-01-19T11:43:46.489Z"
   },
   {
    "duration": 3,
    "start_time": "2023-01-19T11:44:10.009Z"
   },
   {
    "duration": 46,
    "start_time": "2023-01-19T11:44:10.014Z"
   },
   {
    "duration": 16,
    "start_time": "2023-01-19T11:44:10.065Z"
   },
   {
    "duration": 24,
    "start_time": "2023-01-19T11:44:10.083Z"
   },
   {
    "duration": 774,
    "start_time": "2023-01-20T04:42:53.347Z"
   },
   {
    "duration": 29436,
    "start_time": "2023-01-20T04:42:54.123Z"
   },
   {
    "duration": 690,
    "start_time": "2023-01-20T04:43:23.562Z"
   },
   {
    "duration": 108,
    "start_time": "2023-01-20T04:43:24.255Z"
   },
   {
    "duration": 2783,
    "start_time": "2023-01-20T04:43:24.364Z"
   },
   {
    "duration": 3394,
    "start_time": "2023-01-20T04:43:27.149Z"
   },
   {
    "duration": 3,
    "start_time": "2023-01-20T04:43:30.545Z"
   },
   {
    "duration": 70207,
    "start_time": "2023-01-20T04:43:30.550Z"
   },
   {
    "duration": 21223,
    "start_time": "2023-01-20T04:44:40.759Z"
   },
   {
    "duration": 3,
    "start_time": "2023-01-20T04:45:02.038Z"
   },
   {
    "duration": 28,
    "start_time": "2023-01-20T04:45:02.042Z"
   },
   {
    "duration": 35,
    "start_time": "2023-01-20T04:45:02.072Z"
   },
   {
    "duration": 66,
    "start_time": "2023-01-20T04:45:02.109Z"
   },
   {
    "duration": 1395,
    "start_time": "2023-01-20T04:45:02.177Z"
   },
   {
    "duration": 699,
    "start_time": "2023-01-20T04:57:32.677Z"
   },
   {
    "duration": 24494,
    "start_time": "2023-01-20T04:57:33.378Z"
   },
   {
    "duration": 773,
    "start_time": "2023-01-20T04:57:57.874Z"
   },
   {
    "duration": 30,
    "start_time": "2023-01-20T04:57:58.649Z"
   },
   {
    "duration": 2831,
    "start_time": "2023-01-20T04:57:58.738Z"
   },
   {
    "duration": 3128,
    "start_time": "2023-01-20T04:58:01.638Z"
   },
   {
    "duration": 3,
    "start_time": "2023-01-20T04:58:04.768Z"
   },
   {
    "duration": 71667,
    "start_time": "2023-01-20T04:58:04.773Z"
   },
   {
    "duration": 20801,
    "start_time": "2023-01-20T04:59:16.442Z"
   },
   {
    "duration": 3,
    "start_time": "2023-01-20T04:59:37.244Z"
   },
   {
    "duration": 14,
    "start_time": "2023-01-20T04:59:37.249Z"
   },
   {
    "duration": 13,
    "start_time": "2023-01-20T04:59:37.265Z"
   },
   {
    "duration": 15,
    "start_time": "2023-01-20T04:59:37.280Z"
   },
   {
    "duration": 6,
    "start_time": "2023-01-20T05:05:56.321Z"
   },
   {
    "duration": 455,
    "start_time": "2023-01-20T05:06:16.800Z"
   },
   {
    "duration": 141,
    "start_time": "2023-01-20T05:07:09.403Z"
   },
   {
    "duration": 7,
    "start_time": "2023-01-20T05:07:26.794Z"
   },
   {
    "duration": 5,
    "start_time": "2023-01-20T05:07:52.728Z"
   },
   {
    "duration": 926,
    "start_time": "2023-01-20T05:08:02.336Z"
   },
   {
    "duration": 4,
    "start_time": "2023-01-20T05:12:13.147Z"
   },
   {
    "duration": 173,
    "start_time": "2023-01-20T05:40:57.470Z"
   },
   {
    "duration": 15735,
    "start_time": "2023-01-20T05:41:16.219Z"
   },
   {
    "duration": 11,
    "start_time": "2023-01-20T05:41:55.463Z"
   },
   {
    "duration": 1199,
    "start_time": "2023-01-20T05:42:08.562Z"
   },
   {
    "duration": 419,
    "start_time": "2023-01-20T05:42:44.573Z"
   },
   {
    "duration": 1412,
    "start_time": "2023-01-20T05:42:48.557Z"
   },
   {
    "duration": 997,
    "start_time": "2023-01-20T05:44:11.986Z"
   },
   {
    "duration": 1125,
    "start_time": "2023-01-20T05:44:49.958Z"
   },
   {
    "duration": 68,
    "start_time": "2023-01-20T05:46:10.795Z"
   },
   {
    "duration": 1269,
    "start_time": "2023-01-20T05:46:15.152Z"
   },
   {
    "duration": 1083,
    "start_time": "2023-01-20T05:46:24.473Z"
   },
   {
    "duration": 1293,
    "start_time": "2023-01-20T05:48:27.768Z"
   },
   {
    "duration": 7418,
    "start_time": "2023-01-20T05:48:59.381Z"
   },
   {
    "duration": 7780,
    "start_time": "2023-01-20T05:49:16.985Z"
   },
   {
    "duration": 6191,
    "start_time": "2023-01-20T05:50:14.774Z"
   },
   {
    "duration": 6691,
    "start_time": "2023-01-20T05:50:41.255Z"
   },
   {
    "duration": 5415,
    "start_time": "2023-01-20T05:51:23.336Z"
   },
   {
    "duration": 5334,
    "start_time": "2023-01-20T05:51:38.248Z"
   },
   {
    "duration": 5083,
    "start_time": "2023-01-20T05:52:31.771Z"
   },
   {
    "duration": 40,
    "start_time": "2023-01-20T05:56:12.581Z"
   },
   {
    "duration": 21234,
    "start_time": "2023-01-20T05:56:41.706Z"
   },
   {
    "duration": 5203,
    "start_time": "2023-01-20T05:57:13.472Z"
   },
   {
    "duration": 1165,
    "start_time": "2023-01-20T06:00:27.159Z"
   },
   {
    "duration": 14277,
    "start_time": "2023-01-20T06:00:55.005Z"
   },
   {
    "duration": 4167,
    "start_time": "2023-01-20T06:01:19.509Z"
   },
   {
    "duration": 12847,
    "start_time": "2023-01-20T06:02:23.638Z"
   },
   {
    "duration": 1298,
    "start_time": "2023-01-20T06:03:56.881Z"
   },
   {
    "duration": 1391,
    "start_time": "2023-01-20T06:04:10.581Z"
   },
   {
    "duration": 1313,
    "start_time": "2023-01-20T06:05:38.944Z"
   },
   {
    "duration": 89,
    "start_time": "2023-01-20T06:06:22.292Z"
   },
   {
    "duration": 82,
    "start_time": "2023-01-20T06:06:37.485Z"
   },
   {
    "duration": 5476,
    "start_time": "2023-01-20T06:07:09.897Z"
   },
   {
    "duration": 4211,
    "start_time": "2023-01-20T06:42:19.209Z"
   },
   {
    "duration": 4931,
    "start_time": "2023-01-20T06:42:42.686Z"
   },
   {
    "duration": 891,
    "start_time": "2023-01-20T06:43:03.886Z"
   },
   {
    "duration": 16096,
    "start_time": "2023-01-20T06:43:04.779Z"
   },
   {
    "duration": 9666,
    "start_time": "2023-01-20T06:43:20.877Z"
   },
   {
    "duration": 907,
    "start_time": "2023-01-20T06:43:30.545Z"
   },
   {
    "duration": 105,
    "start_time": "2023-01-20T06:43:31.455Z"
   },
   {
    "duration": 3294,
    "start_time": "2023-01-20T06:43:31.563Z"
   },
   {
    "duration": 3479,
    "start_time": "2023-01-20T06:43:34.859Z"
   },
   {
    "duration": 4,
    "start_time": "2023-01-20T06:43:38.340Z"
   },
   {
    "duration": 77798,
    "start_time": "2023-01-20T06:43:38.346Z"
   },
   {
    "duration": 23353,
    "start_time": "2023-01-20T06:44:56.146Z"
   },
   {
    "duration": 36,
    "start_time": "2023-01-20T06:45:19.501Z"
   },
   {
    "duration": 9185,
    "start_time": "2023-01-20T06:45:19.540Z"
   },
   {
    "duration": 19,
    "start_time": "2023-01-20T06:45:28.727Z"
   },
   {
    "duration": 1009,
    "start_time": "2023-01-20T11:12:46.332Z"
   },
   {
    "duration": 14855,
    "start_time": "2023-01-20T11:12:47.343Z"
   },
   {
    "duration": 8604,
    "start_time": "2023-01-20T11:13:02.201Z"
   },
   {
    "duration": 696,
    "start_time": "2023-01-20T11:13:10.806Z"
   },
   {
    "duration": 95,
    "start_time": "2023-01-20T11:13:11.504Z"
   },
   {
    "duration": 2712,
    "start_time": "2023-01-20T11:13:11.601Z"
   },
   {
    "duration": 3206,
    "start_time": "2023-01-20T11:13:14.316Z"
   },
   {
    "duration": 3,
    "start_time": "2023-01-20T11:13:17.523Z"
   },
   {
    "duration": 5581,
    "start_time": "2023-01-20T11:13:17.527Z"
   },
   {
    "duration": 0,
    "start_time": "2023-01-20T11:13:23.110Z"
   },
   {
    "duration": 0,
    "start_time": "2023-01-20T11:13:23.111Z"
   },
   {
    "duration": 0,
    "start_time": "2023-01-20T11:13:23.112Z"
   },
   {
    "duration": 0,
    "start_time": "2023-01-20T11:13:23.113Z"
   },
   {
    "duration": 806,
    "start_time": "2023-01-20T11:24:40.235Z"
   },
   {
    "duration": 14660,
    "start_time": "2023-01-20T11:24:41.043Z"
   },
   {
    "duration": 8310,
    "start_time": "2023-01-20T11:24:55.705Z"
   },
   {
    "duration": 692,
    "start_time": "2023-01-20T11:25:04.017Z"
   },
   {
    "duration": 95,
    "start_time": "2023-01-20T11:25:04.711Z"
   },
   {
    "duration": 2598,
    "start_time": "2023-01-20T11:25:04.808Z"
   },
   {
    "duration": 2926,
    "start_time": "2023-01-20T11:25:07.408Z"
   },
   {
    "duration": 3,
    "start_time": "2023-01-20T11:25:10.393Z"
   },
   {
    "duration": 5735,
    "start_time": "2023-01-20T11:25:10.398Z"
   },
   {
    "duration": 0,
    "start_time": "2023-01-20T11:25:16.135Z"
   },
   {
    "duration": 0,
    "start_time": "2023-01-20T11:25:16.137Z"
   },
   {
    "duration": 0,
    "start_time": "2023-01-20T11:25:16.139Z"
   },
   {
    "duration": 0,
    "start_time": "2023-01-20T11:25:16.140Z"
   },
   {
    "duration": 853,
    "start_time": "2023-01-20T11:27:25.587Z"
   },
   {
    "duration": 15276,
    "start_time": "2023-01-20T11:27:26.442Z"
   },
   {
    "duration": 8690,
    "start_time": "2023-01-20T11:27:41.722Z"
   },
   {
    "duration": 782,
    "start_time": "2023-01-20T11:27:50.414Z"
   },
   {
    "duration": 98,
    "start_time": "2023-01-20T11:27:51.198Z"
   },
   {
    "duration": 2598,
    "start_time": "2023-01-20T11:27:51.297Z"
   },
   {
    "duration": 3018,
    "start_time": "2023-01-20T11:27:53.897Z"
   },
   {
    "duration": 4,
    "start_time": "2023-01-20T11:27:56.917Z"
   },
   {
    "duration": 5397,
    "start_time": "2023-01-20T11:27:56.922Z"
   },
   {
    "duration": 0,
    "start_time": "2023-01-20T11:28:02.321Z"
   },
   {
    "duration": 0,
    "start_time": "2023-01-20T11:28:02.322Z"
   },
   {
    "duration": 0,
    "start_time": "2023-01-20T11:28:02.323Z"
   },
   {
    "duration": 0,
    "start_time": "2023-01-20T11:28:02.325Z"
   },
   {
    "duration": 28624,
    "start_time": "2023-01-20T11:35:48.084Z"
   },
   {
    "duration": 9,
    "start_time": "2023-01-20T11:36:16.711Z"
   },
   {
    "duration": 8753,
    "start_time": "2023-01-20T11:36:16.794Z"
   },
   {
    "duration": 9,
    "start_time": "2023-01-20T11:36:25.549Z"
   },
   {
    "duration": 1581,
    "start_time": "2023-01-20T12:07:56.940Z"
   },
   {
    "duration": 1007,
    "start_time": "2023-01-21T03:32:35.553Z"
   },
   {
    "duration": 19811,
    "start_time": "2023-01-21T03:32:42.288Z"
   },
   {
    "duration": 8688,
    "start_time": "2023-01-21T03:33:03.561Z"
   },
   {
    "duration": 627,
    "start_time": "2023-01-21T03:33:12.301Z"
   },
   {
    "duration": 109,
    "start_time": "2023-01-21T03:33:12.930Z"
   },
   {
    "duration": 2472,
    "start_time": "2023-01-21T03:33:13.042Z"
   },
   {
    "duration": 2928,
    "start_time": "2023-01-21T03:33:18.498Z"
   },
   {
    "duration": 2,
    "start_time": "2023-01-21T03:33:24.926Z"
   },
   {
    "duration": 274,
    "start_time": "2023-01-21T03:33:32.351Z"
   },
   {
    "duration": 50650,
    "start_time": "2023-01-21T03:34:18.812Z"
   },
   {
    "duration": 9,
    "start_time": "2023-01-21T03:35:25.948Z"
   },
   {
    "duration": 7336,
    "start_time": "2023-01-21T03:35:30.078Z"
   },
   {
    "duration": 11,
    "start_time": "2023-01-21T03:35:44.297Z"
   },
   {
    "duration": 850,
    "start_time": "2023-01-21T03:39:25.081Z"
   },
   {
    "duration": 14692,
    "start_time": "2023-01-21T03:39:25.933Z"
   },
   {
    "duration": 8194,
    "start_time": "2023-01-21T03:39:40.627Z"
   },
   {
    "duration": 781,
    "start_time": "2023-01-21T03:39:48.823Z"
   },
   {
    "duration": 104,
    "start_time": "2023-01-21T03:39:49.606Z"
   },
   {
    "duration": 2515,
    "start_time": "2023-01-21T03:39:49.711Z"
   },
   {
    "duration": 3107,
    "start_time": "2023-01-21T03:39:52.228Z"
   },
   {
    "duration": 63,
    "start_time": "2023-01-21T03:39:55.336Z"
   },
   {
    "duration": 329,
    "start_time": "2023-01-21T03:39:55.401Z"
   },
   {
    "duration": 0,
    "start_time": "2023-01-21T03:39:55.731Z"
   },
   {
    "duration": 0,
    "start_time": "2023-01-21T03:39:55.733Z"
   },
   {
    "duration": 0,
    "start_time": "2023-01-21T03:39:55.733Z"
   },
   {
    "duration": 83,
    "start_time": "2023-01-21T03:42:24.063Z"
   },
   {
    "duration": 46561,
    "start_time": "2023-01-21T03:42:49.210Z"
   },
   {
    "duration": 8,
    "start_time": "2023-01-21T03:43:44.722Z"
   },
   {
    "duration": 8425,
    "start_time": "2023-01-21T03:43:46.479Z"
   },
   {
    "duration": 9,
    "start_time": "2023-01-21T03:43:58.194Z"
   },
   {
    "duration": 1253,
    "start_time": "2023-01-21T03:44:52.356Z"
   },
   {
    "duration": 939,
    "start_time": "2023-01-21T03:45:07.471Z"
   },
   {
    "duration": 97,
    "start_time": "2023-01-21T03:48:37.400Z"
   },
   {
    "duration": 133,
    "start_time": "2023-01-21T04:08:33.544Z"
   },
   {
    "duration": 41,
    "start_time": "2023-01-21T04:09:00.620Z"
   },
   {
    "duration": 19,
    "start_time": "2023-01-21T04:10:02.949Z"
   },
   {
    "duration": 106,
    "start_time": "2023-01-21T04:10:50.323Z"
   },
   {
    "duration": 94,
    "start_time": "2023-01-21T04:12:53.784Z"
   },
   {
    "duration": 136,
    "start_time": "2023-01-21T04:13:03.664Z"
   },
   {
    "duration": 3,
    "start_time": "2023-01-21T04:13:29.383Z"
   },
   {
    "duration": 34,
    "start_time": "2023-01-21T04:13:38.615Z"
   },
   {
    "duration": 57,
    "start_time": "2023-01-21T04:13:58.684Z"
   },
   {
    "duration": 36,
    "start_time": "2023-01-21T04:14:17.824Z"
   },
   {
    "duration": 30,
    "start_time": "2023-01-21T04:14:28.976Z"
   },
   {
    "duration": 126,
    "start_time": "2023-01-21T04:15:44.091Z"
   },
   {
    "duration": 120,
    "start_time": "2023-01-21T04:16:06.371Z"
   },
   {
    "duration": 109,
    "start_time": "2023-01-21T04:16:13.195Z"
   },
   {
    "duration": 108,
    "start_time": "2023-01-21T04:19:51.218Z"
   },
   {
    "duration": 741,
    "start_time": "2023-01-21T04:20:30.958Z"
   },
   {
    "duration": 401,
    "start_time": "2023-01-21T04:21:50.000Z"
   },
   {
    "duration": 2911,
    "start_time": "2023-01-21T04:22:46.728Z"
   },
   {
    "duration": 488,
    "start_time": "2023-01-21T04:22:56.233Z"
   },
   {
    "duration": 963,
    "start_time": "2023-01-21T04:23:10.850Z"
   },
   {
    "duration": 474,
    "start_time": "2023-01-21T04:23:36.939Z"
   },
   {
    "duration": 566,
    "start_time": "2023-01-21T04:24:31.838Z"
   },
   {
    "duration": 421,
    "start_time": "2023-01-21T04:24:33.453Z"
   },
   {
    "duration": 452,
    "start_time": "2023-01-21T04:24:48.269Z"
   },
   {
    "duration": 688,
    "start_time": "2023-01-21T04:25:33.619Z"
   },
   {
    "duration": 467,
    "start_time": "2023-01-21T04:25:41.983Z"
   },
   {
    "duration": 479,
    "start_time": "2023-01-21T04:26:05.943Z"
   },
   {
    "duration": 460,
    "start_time": "2023-01-21T04:26:25.701Z"
   },
   {
    "duration": 449,
    "start_time": "2023-01-21T04:26:39.101Z"
   },
   {
    "duration": 535,
    "start_time": "2023-01-21T04:26:46.828Z"
   },
   {
    "duration": 452,
    "start_time": "2023-01-21T04:26:51.488Z"
   },
   {
    "duration": 470,
    "start_time": "2023-01-21T04:27:01.711Z"
   },
   {
    "duration": 134,
    "start_time": "2023-01-21T04:27:59.821Z"
   },
   {
    "duration": 113,
    "start_time": "2023-01-21T04:29:00.553Z"
   },
   {
    "duration": 353,
    "start_time": "2023-01-21T04:29:15.768Z"
   },
   {
    "duration": 395,
    "start_time": "2023-01-21T04:30:59.798Z"
   },
   {
    "duration": 360,
    "start_time": "2023-01-21T04:32:12.661Z"
   },
   {
    "duration": 343,
    "start_time": "2023-01-21T04:36:16.826Z"
   },
   {
    "duration": 122,
    "start_time": "2023-01-21T04:36:51.592Z"
   },
   {
    "duration": 121,
    "start_time": "2023-01-21T04:37:52.131Z"
   },
   {
    "duration": 135,
    "start_time": "2023-01-21T04:38:22.565Z"
   },
   {
    "duration": 347,
    "start_time": "2023-01-21T04:38:37.438Z"
   },
   {
    "duration": 3,
    "start_time": "2023-01-21T04:39:19.772Z"
   },
   {
    "duration": 17,
    "start_time": "2023-01-21T04:41:16.757Z"
   },
   {
    "duration": 17,
    "start_time": "2023-01-21T04:41:37.368Z"
   },
   {
    "duration": 9,
    "start_time": "2023-01-21T04:45:22.337Z"
   },
   {
    "duration": 390,
    "start_time": "2023-01-21T04:49:28.311Z"
   },
   {
    "duration": 4,
    "start_time": "2023-01-21T04:49:37.341Z"
   },
   {
    "duration": 4,
    "start_time": "2023-01-21T04:49:42.636Z"
   },
   {
    "duration": 408,
    "start_time": "2023-01-21T04:49:44.925Z"
   },
   {
    "duration": 80,
    "start_time": "2023-01-21T04:49:49.701Z"
   },
   {
    "duration": 5,
    "start_time": "2023-01-21T04:49:50.429Z"
   },
   {
    "duration": 704,
    "start_time": "2023-01-21T04:49:51.901Z"
   },
   {
    "duration": 347,
    "start_time": "2023-01-21T04:49:55.774Z"
   },
   {
    "duration": 429,
    "start_time": "2023-01-21T04:50:14.353Z"
   },
   {
    "duration": 427,
    "start_time": "2023-01-21T04:50:52.558Z"
   },
   {
    "duration": 437,
    "start_time": "2023-01-21T04:51:54.565Z"
   },
   {
    "duration": 419,
    "start_time": "2023-01-21T04:52:06.816Z"
   },
   {
    "duration": 442,
    "start_time": "2023-01-21T04:52:25.421Z"
   },
   {
    "duration": 549,
    "start_time": "2023-01-21T04:53:09.874Z"
   },
   {
    "duration": 460,
    "start_time": "2023-01-21T04:53:52.579Z"
   },
   {
    "duration": 442,
    "start_time": "2023-01-21T04:54:08.264Z"
   },
   {
    "duration": 485,
    "start_time": "2023-01-21T04:54:43.165Z"
   },
   {
    "duration": 447,
    "start_time": "2023-01-21T05:02:35.316Z"
   },
   {
    "duration": 413,
    "start_time": "2023-01-21T05:05:19.444Z"
   },
   {
    "duration": 440,
    "start_time": "2023-01-21T05:05:57.460Z"
   },
   {
    "duration": 523,
    "start_time": "2023-01-21T05:07:44.414Z"
   },
   {
    "duration": 462,
    "start_time": "2023-01-21T05:08:26.511Z"
   },
   {
    "duration": 470,
    "start_time": "2023-01-21T05:08:55.274Z"
   },
   {
    "duration": 564,
    "start_time": "2023-01-21T05:09:02.166Z"
   },
   {
    "duration": 517,
    "start_time": "2023-01-21T05:09:50.140Z"
   },
   {
    "duration": 423,
    "start_time": "2023-01-21T05:10:48.443Z"
   },
   {
    "duration": 11,
    "start_time": "2023-01-21T05:12:50.269Z"
   },
   {
    "duration": 503,
    "start_time": "2023-01-21T05:14:39.301Z"
   },
   {
    "duration": 986,
    "start_time": "2023-01-21T05:16:25.264Z"
   },
   {
    "duration": 459,
    "start_time": "2023-01-21T05:20:48.572Z"
   },
   {
    "duration": 250,
    "start_time": "2023-01-21T05:23:37.650Z"
   },
   {
    "duration": 209,
    "start_time": "2023-01-21T05:23:56.131Z"
   },
   {
    "duration": 569,
    "start_time": "2023-01-21T05:24:37.966Z"
   },
   {
    "duration": 573,
    "start_time": "2023-01-21T05:25:41.241Z"
   },
   {
    "duration": 76,
    "start_time": "2023-01-21T05:26:28.254Z"
   },
   {
    "duration": 498,
    "start_time": "2023-01-21T05:26:54.019Z"
   },
   {
    "duration": 450,
    "start_time": "2023-01-21T05:28:27.759Z"
   },
   {
    "duration": 106,
    "start_time": "2023-01-21T05:29:06.898Z"
   },
   {
    "duration": 480,
    "start_time": "2023-01-21T05:31:24.835Z"
   },
   {
    "duration": 1040,
    "start_time": "2023-01-21T05:33:21.803Z"
   },
   {
    "duration": 1493,
    "start_time": "2023-01-21T05:34:45.324Z"
   },
   {
    "duration": 1977,
    "start_time": "2023-01-21T05:37:30.971Z"
   },
   {
    "duration": 1414,
    "start_time": "2023-01-21T05:37:40.357Z"
   },
   {
    "duration": 1490,
    "start_time": "2023-01-21T05:38:08.001Z"
   },
   {
    "duration": 1591,
    "start_time": "2023-01-21T05:38:17.872Z"
   },
   {
    "duration": 1418,
    "start_time": "2023-01-21T05:38:25.906Z"
   },
   {
    "duration": 322,
    "start_time": "2023-01-21T05:41:55.361Z"
   },
   {
    "duration": 2,
    "start_time": "2023-01-21T05:42:26.715Z"
   },
   {
    "duration": 28823,
    "start_time": "2023-01-21T05:42:27.806Z"
   },
   {
    "duration": 316,
    "start_time": "2023-01-21T05:44:03.495Z"
   },
   {
    "duration": 219,
    "start_time": "2023-01-21T05:44:19.114Z"
   },
   {
    "duration": 1585,
    "start_time": "2023-01-21T05:44:21.626Z"
   },
   {
    "duration": 3,
    "start_time": "2023-01-21T05:44:37.387Z"
   },
   {
    "duration": 24201,
    "start_time": "2023-01-21T05:44:38.407Z"
   },
   {
    "duration": 5,
    "start_time": "2023-01-21T05:45:52.116Z"
   },
   {
    "duration": 455,
    "start_time": "2023-01-21T05:46:29.394Z"
   },
   {
    "duration": 219,
    "start_time": "2023-01-21T05:46:36.202Z"
   },
   {
    "duration": 1793,
    "start_time": "2023-01-21T05:46:47.914Z"
   },
   {
    "duration": 1317,
    "start_time": "2023-01-21T05:48:40.075Z"
   },
   {
    "duration": 1426,
    "start_time": "2023-01-21T05:50:49.870Z"
   },
   {
    "duration": 965,
    "start_time": "2023-01-21T05:52:25.873Z"
   },
   {
    "duration": 76,
    "start_time": "2023-01-21T05:53:19.452Z"
   },
   {
    "duration": 10,
    "start_time": "2023-01-21T05:53:27.553Z"
   },
   {
    "duration": 3423,
    "start_time": "2023-01-21T05:55:34.289Z"
   },
   {
    "duration": 2393,
    "start_time": "2023-01-21T05:56:21.710Z"
   },
   {
    "duration": 2421,
    "start_time": "2023-01-21T06:02:30.896Z"
   },
   {
    "duration": 3128,
    "start_time": "2023-01-21T06:03:10.803Z"
   },
   {
    "duration": 2417,
    "start_time": "2023-01-21T06:03:41.121Z"
   },
   {
    "duration": 10,
    "start_time": "2023-01-21T06:04:19.654Z"
   },
   {
    "duration": 16,
    "start_time": "2023-01-21T06:04:24.758Z"
   },
   {
    "duration": 15,
    "start_time": "2023-01-21T06:04:34.070Z"
   },
   {
    "duration": 15,
    "start_time": "2023-01-21T06:04:40.089Z"
   },
   {
    "duration": 14,
    "start_time": "2023-01-21T06:04:42.739Z"
   },
   {
    "duration": 17,
    "start_time": "2023-01-21T06:09:50.322Z"
   },
   {
    "duration": 17,
    "start_time": "2023-01-21T06:10:07.162Z"
   },
   {
    "duration": 332,
    "start_time": "2023-01-21T06:10:19.786Z"
   },
   {
    "duration": 867,
    "start_time": "2023-01-21T06:55:00.670Z"
   },
   {
    "duration": 14575,
    "start_time": "2023-01-21T06:55:01.538Z"
   },
   {
    "duration": 8192,
    "start_time": "2023-01-21T06:55:16.115Z"
   },
   {
    "duration": 616,
    "start_time": "2023-01-21T06:55:24.309Z"
   },
   {
    "duration": 101,
    "start_time": "2023-01-21T06:55:24.926Z"
   },
   {
    "duration": 2389,
    "start_time": "2023-01-21T06:55:25.028Z"
   },
   {
    "duration": 6738,
    "start_time": "2023-01-21T06:55:27.419Z"
   },
   {
    "duration": 0,
    "start_time": "2023-01-21T06:55:34.159Z"
   },
   {
    "duration": 0,
    "start_time": "2023-01-21T06:55:34.160Z"
   },
   {
    "duration": 0,
    "start_time": "2023-01-21T06:55:34.161Z"
   },
   {
    "duration": 0,
    "start_time": "2023-01-21T06:55:34.162Z"
   },
   {
    "duration": 0,
    "start_time": "2023-01-21T06:55:34.163Z"
   },
   {
    "duration": 0,
    "start_time": "2023-01-21T06:55:34.164Z"
   },
   {
    "duration": 0,
    "start_time": "2023-01-21T06:55:34.165Z"
   },
   {
    "duration": 1159,
    "start_time": "2023-01-21T06:56:44.754Z"
   },
   {
    "duration": 14835,
    "start_time": "2023-01-21T06:56:45.915Z"
   },
   {
    "duration": 7984,
    "start_time": "2023-01-21T06:57:00.752Z"
   },
   {
    "duration": 764,
    "start_time": "2023-01-21T06:57:08.738Z"
   },
   {
    "duration": 96,
    "start_time": "2023-01-21T06:57:09.504Z"
   },
   {
    "duration": 2701,
    "start_time": "2023-01-21T06:57:09.602Z"
   },
   {
    "duration": 7638,
    "start_time": "2023-01-21T06:57:12.305Z"
   },
   {
    "duration": 2588,
    "start_time": "2023-01-21T06:57:19.944Z"
   },
   {
    "duration": 6274,
    "start_time": "2023-01-21T06:57:22.534Z"
   },
   {
    "duration": 3,
    "start_time": "2023-01-21T06:57:28.810Z"
   },
   {
    "duration": 41792,
    "start_time": "2023-01-21T06:57:28.814Z"
   },
   {
    "duration": 8,
    "start_time": "2023-01-21T06:58:10.607Z"
   },
   {
    "duration": 8727,
    "start_time": "2023-01-21T06:58:10.616Z"
   },
   {
    "duration": 8,
    "start_time": "2023-01-21T06:58:19.400Z"
   },
   {
    "duration": 1258,
    "start_time": "2023-01-21T06:59:43.314Z"
   },
   {
    "duration": 14970,
    "start_time": "2023-01-21T06:59:44.574Z"
   },
   {
    "duration": 7856,
    "start_time": "2023-01-21T06:59:59.546Z"
   },
   {
    "duration": 622,
    "start_time": "2023-01-21T07:00:07.404Z"
   },
   {
    "duration": 95,
    "start_time": "2023-01-21T07:00:08.028Z"
   },
   {
    "duration": 2595,
    "start_time": "2023-01-21T07:00:08.125Z"
   },
   {
    "duration": 8031,
    "start_time": "2023-01-21T07:00:10.722Z"
   },
   {
    "duration": 2675,
    "start_time": "2023-01-21T07:00:18.755Z"
   },
   {
    "duration": 6695,
    "start_time": "2023-01-21T07:00:21.432Z"
   },
   {
    "duration": 3,
    "start_time": "2023-01-21T07:00:28.128Z"
   },
   {
    "duration": 44277,
    "start_time": "2023-01-21T07:00:28.133Z"
   },
   {
    "duration": 9,
    "start_time": "2023-01-21T07:01:12.411Z"
   },
   {
    "duration": 7564,
    "start_time": "2023-01-21T07:01:12.421Z"
   },
   {
    "duration": 14,
    "start_time": "2023-01-21T07:01:19.987Z"
   },
   {
    "duration": 76,
    "start_time": "2023-01-21T19:43:50.860Z"
   },
   {
    "duration": 1539,
    "start_time": "2023-01-21T19:46:58.224Z"
   },
   {
    "duration": 20558,
    "start_time": "2023-01-21T19:46:59.765Z"
   },
   {
    "duration": 10130,
    "start_time": "2023-01-21T19:47:20.325Z"
   },
   {
    "duration": 778,
    "start_time": "2023-01-21T19:47:30.458Z"
   },
   {
    "duration": 108,
    "start_time": "2023-01-21T19:47:31.239Z"
   },
   {
    "duration": 2818,
    "start_time": "2023-01-21T19:47:31.350Z"
   },
   {
    "duration": 9605,
    "start_time": "2023-01-21T19:47:34.236Z"
   },
   {
    "duration": 3006,
    "start_time": "2023-01-21T19:47:43.842Z"
   },
   {
    "duration": 7316,
    "start_time": "2023-01-21T19:47:46.850Z"
   },
   {
    "duration": 4,
    "start_time": "2023-01-21T19:47:54.169Z"
   },
   {
    "duration": 52461,
    "start_time": "2023-01-21T19:47:54.175Z"
   },
   {
    "duration": 7,
    "start_time": "2023-01-21T19:48:46.639Z"
   },
   {
    "duration": 9835,
    "start_time": "2023-01-21T19:48:46.648Z"
   },
   {
    "duration": 9,
    "start_time": "2023-01-21T19:48:56.486Z"
   },
   {
    "duration": 63,
    "start_time": "2023-01-21T19:48:56.497Z"
   },
   {
    "duration": 106,
    "start_time": "2023-01-22T12:28:18.951Z"
   },
   {
    "duration": 11,
    "start_time": "2023-01-22T12:28:24.378Z"
   },
   {
    "duration": 23,
    "start_time": "2023-01-22T12:28:35.366Z"
   },
   {
    "duration": 311,
    "start_time": "2023-01-22T12:28:48.833Z"
   },
   {
    "duration": 10,
    "start_time": "2023-01-22T12:32:01.339Z"
   },
   {
    "duration": 9,
    "start_time": "2023-01-22T12:33:03.777Z"
   },
   {
    "duration": 9,
    "start_time": "2023-01-22T12:34:02.239Z"
   },
   {
    "duration": 11,
    "start_time": "2023-01-22T12:35:21.538Z"
   }
  ],
  "colab": {
   "name": "PySparkSprint.ipynb",
   "provenance": []
  },
  "kernelspec": {
   "display_name": "Python 3 (ipykernel)",
   "language": "python",
   "name": "python3"
  },
  "language_info": {
   "codemirror_mode": {
    "name": "ipython",
    "version": 3
   },
   "file_extension": ".py",
   "mimetype": "text/x-python",
   "name": "python",
   "nbconvert_exporter": "python",
   "pygments_lexer": "ipython3",
   "version": "3.9.12"
  },
  "toc": {
   "base_numbering": 1,
   "nav_menu": {},
   "number_sections": true,
   "sideBar": true,
   "skip_h1_title": true,
   "title_cell": "Table of Contents",
   "title_sidebar": "Contents",
   "toc_cell": true,
   "toc_position": {},
   "toc_section_display": true,
   "toc_window_display": true
  }
 },
 "nbformat": 4,
 "nbformat_minor": 5
}
