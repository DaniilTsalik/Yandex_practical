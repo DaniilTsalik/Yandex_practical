{
 "cells": [
  {
   "cell_type": "markdown",
   "metadata": {},
   "source": [
    "# Выбор локации для скважины"
   ]
  },
  {
   "cell_type": "markdown",
   "metadata": {},
   "source": [
    "Добывающей компании «ГлавРосГосНефть», нужно решить, где бурить новую скважину.\n",
    "Нам предоставлены пробы нефти в трёх регионах. Характеристики для каждой скважины в регионе уже известны. Построим модели для определения региона, где добыча принесёт наибольшую прибыль. Проанализируем возможную прибыль и риски техникой Bootstrap.\n",
    "\n",
    "\n",
    "**Цель:** постройка модели прогнозирования запасов сырья в скважине, анализ прибыли и рисков при помощи техники Bootstrap, рекомендация района для разработки.\n",
    "\n",
    "**Задачи:**\n",
    "1. Загрузка и подготовка данных.\n",
    "2. Предобработка данных.\n",
    "3. Поиск оптимальной модели.\n",
    "4. Обучение и проверка моделей для каждого региона.\n",
    "5. Поиск наилучшей модели.\n",
    "6. Расчет прибыли, рисков, фактических средних и предсказанных средних запасов сырья.\n",
    "\n",
    "**Предмет исследования** выборки данных для трех райнов.\n",
    "\n",
    "**Методы:**\n",
    "которые мы применим в данном исследовании включают в себя: ознакомление, предобработку, обучения моделей машинного обучения, графическая визуализация качества работы моделей, повышение метрик моделей, техника Bootstrap.\n",
    "\n",
    "**Структура проекта:**\n",
    "проектная работа состоит из обзора и предобработки данных, затем следует изучение точности различных моделей, поиск оптимальной модели, затем следует расчет прибыли и рисков и наконец общий вывод."
   ]
  },
  {
   "cell_type": "markdown",
   "metadata": {},
   "source": [
    "## Загрузка и подготовка данных"
   ]
  },
  {
   "cell_type": "code",
   "execution_count": 1,
   "metadata": {},
   "outputs": [],
   "source": [
    " # Импорт библиотек\n",
    "import pandas as pd\n",
    "import matplotlib.pyplot as plt\n",
    "import numpy as np\n",
    "import seaborn as sns\n",
    "from scipy.stats import gaussian_kde\n",
    "from sklearn import metrics\n",
    "from sklearn.linear_model import LinearRegression\n",
    "from sklearn.linear_model import Ridge\n",
    "from sklearn.linear_model import Lasso\n",
    "from sklearn.preprocessing import StandardScaler\n",
    "from sklearn.pipeline import Pipeline\n",
    "from sklearn.model_selection import train_test_split\n",
    "from sklearn.model_selection import GridSearchCV"
   ]
  },
  {
   "cell_type": "code",
   "execution_count": 2,
   "metadata": {},
   "outputs": [],
   "source": [
    " # чтение данных из выборок\n",
    "region_1 = pd.read_csv('/datasets/geo_data_0.csv')\n",
    "region_2 = pd.read_csv('/datasets/geo_data_1.csv')\n",
    "region_3 = pd.read_csv('/datasets/geo_data_2.csv')"
   ]
  },
  {
   "cell_type": "code",
   "execution_count": 3,
   "metadata": {},
   "outputs": [],
   "source": [
    " # Словарь содержащий выборки\n",
    "region_dict = {'region 1': region_1,\n",
    "               'region 2': region_2,\n",
    "               'region 3': region_3}"
   ]
  },
  {
   "cell_type": "markdown",
   "metadata": {},
   "source": [
    "Посмотрим на первые пять строк наших датасетов:"
   ]
  },
  {
   "cell_type": "code",
   "execution_count": 4,
   "metadata": {},
   "outputs": [
    {
     "name": "stdout",
     "output_type": "stream",
     "text": [
      "region 1\n"
     ]
    },
    {
     "data": {
      "text/html": [
       "<div>\n",
       "<style scoped>\n",
       "    .dataframe tbody tr th:only-of-type {\n",
       "        vertical-align: middle;\n",
       "    }\n",
       "\n",
       "    .dataframe tbody tr th {\n",
       "        vertical-align: top;\n",
       "    }\n",
       "\n",
       "    .dataframe thead th {\n",
       "        text-align: right;\n",
       "    }\n",
       "</style>\n",
       "<table border=\"1\" class=\"dataframe\">\n",
       "  <thead>\n",
       "    <tr style=\"text-align: right;\">\n",
       "      <th></th>\n",
       "      <th>id</th>\n",
       "      <th>f0</th>\n",
       "      <th>f1</th>\n",
       "      <th>f2</th>\n",
       "      <th>product</th>\n",
       "    </tr>\n",
       "  </thead>\n",
       "  <tbody>\n",
       "    <tr>\n",
       "      <th>0</th>\n",
       "      <td>txEyH</td>\n",
       "      <td>0.705745</td>\n",
       "      <td>-0.497823</td>\n",
       "      <td>1.221170</td>\n",
       "      <td>105.280062</td>\n",
       "    </tr>\n",
       "    <tr>\n",
       "      <th>1</th>\n",
       "      <td>2acmU</td>\n",
       "      <td>1.334711</td>\n",
       "      <td>-0.340164</td>\n",
       "      <td>4.365080</td>\n",
       "      <td>73.037750</td>\n",
       "    </tr>\n",
       "    <tr>\n",
       "      <th>2</th>\n",
       "      <td>409Wp</td>\n",
       "      <td>1.022732</td>\n",
       "      <td>0.151990</td>\n",
       "      <td>1.419926</td>\n",
       "      <td>85.265647</td>\n",
       "    </tr>\n",
       "    <tr>\n",
       "      <th>3</th>\n",
       "      <td>iJLyR</td>\n",
       "      <td>-0.032172</td>\n",
       "      <td>0.139033</td>\n",
       "      <td>2.978566</td>\n",
       "      <td>168.620776</td>\n",
       "    </tr>\n",
       "    <tr>\n",
       "      <th>4</th>\n",
       "      <td>Xdl7t</td>\n",
       "      <td>1.988431</td>\n",
       "      <td>0.155413</td>\n",
       "      <td>4.751769</td>\n",
       "      <td>154.036647</td>\n",
       "    </tr>\n",
       "  </tbody>\n",
       "</table>\n",
       "</div>"
      ],
      "text/plain": [
       "      id        f0        f1        f2     product\n",
       "0  txEyH  0.705745 -0.497823  1.221170  105.280062\n",
       "1  2acmU  1.334711 -0.340164  4.365080   73.037750\n",
       "2  409Wp  1.022732  0.151990  1.419926   85.265647\n",
       "3  iJLyR -0.032172  0.139033  2.978566  168.620776\n",
       "4  Xdl7t  1.988431  0.155413  4.751769  154.036647"
      ]
     },
     "metadata": {},
     "output_type": "display_data"
    },
    {
     "name": "stdout",
     "output_type": "stream",
     "text": [
      "region 2\n"
     ]
    },
    {
     "data": {
      "text/html": [
       "<div>\n",
       "<style scoped>\n",
       "    .dataframe tbody tr th:only-of-type {\n",
       "        vertical-align: middle;\n",
       "    }\n",
       "\n",
       "    .dataframe tbody tr th {\n",
       "        vertical-align: top;\n",
       "    }\n",
       "\n",
       "    .dataframe thead th {\n",
       "        text-align: right;\n",
       "    }\n",
       "</style>\n",
       "<table border=\"1\" class=\"dataframe\">\n",
       "  <thead>\n",
       "    <tr style=\"text-align: right;\">\n",
       "      <th></th>\n",
       "      <th>id</th>\n",
       "      <th>f0</th>\n",
       "      <th>f1</th>\n",
       "      <th>f2</th>\n",
       "      <th>product</th>\n",
       "    </tr>\n",
       "  </thead>\n",
       "  <tbody>\n",
       "    <tr>\n",
       "      <th>0</th>\n",
       "      <td>kBEdx</td>\n",
       "      <td>-15.001348</td>\n",
       "      <td>-8.276000</td>\n",
       "      <td>-0.005876</td>\n",
       "      <td>3.179103</td>\n",
       "    </tr>\n",
       "    <tr>\n",
       "      <th>1</th>\n",
       "      <td>62mP7</td>\n",
       "      <td>14.272088</td>\n",
       "      <td>-3.475083</td>\n",
       "      <td>0.999183</td>\n",
       "      <td>26.953261</td>\n",
       "    </tr>\n",
       "    <tr>\n",
       "      <th>2</th>\n",
       "      <td>vyE1P</td>\n",
       "      <td>6.263187</td>\n",
       "      <td>-5.948386</td>\n",
       "      <td>5.001160</td>\n",
       "      <td>134.766305</td>\n",
       "    </tr>\n",
       "    <tr>\n",
       "      <th>3</th>\n",
       "      <td>KcrkZ</td>\n",
       "      <td>-13.081196</td>\n",
       "      <td>-11.506057</td>\n",
       "      <td>4.999415</td>\n",
       "      <td>137.945408</td>\n",
       "    </tr>\n",
       "    <tr>\n",
       "      <th>4</th>\n",
       "      <td>AHL4O</td>\n",
       "      <td>12.702195</td>\n",
       "      <td>-8.147433</td>\n",
       "      <td>5.004363</td>\n",
       "      <td>134.766305</td>\n",
       "    </tr>\n",
       "  </tbody>\n",
       "</table>\n",
       "</div>"
      ],
      "text/plain": [
       "      id         f0         f1        f2     product\n",
       "0  kBEdx -15.001348  -8.276000 -0.005876    3.179103\n",
       "1  62mP7  14.272088  -3.475083  0.999183   26.953261\n",
       "2  vyE1P   6.263187  -5.948386  5.001160  134.766305\n",
       "3  KcrkZ -13.081196 -11.506057  4.999415  137.945408\n",
       "4  AHL4O  12.702195  -8.147433  5.004363  134.766305"
      ]
     },
     "metadata": {},
     "output_type": "display_data"
    },
    {
     "name": "stdout",
     "output_type": "stream",
     "text": [
      "region 3\n"
     ]
    },
    {
     "data": {
      "text/html": [
       "<div>\n",
       "<style scoped>\n",
       "    .dataframe tbody tr th:only-of-type {\n",
       "        vertical-align: middle;\n",
       "    }\n",
       "\n",
       "    .dataframe tbody tr th {\n",
       "        vertical-align: top;\n",
       "    }\n",
       "\n",
       "    .dataframe thead th {\n",
       "        text-align: right;\n",
       "    }\n",
       "</style>\n",
       "<table border=\"1\" class=\"dataframe\">\n",
       "  <thead>\n",
       "    <tr style=\"text-align: right;\">\n",
       "      <th></th>\n",
       "      <th>id</th>\n",
       "      <th>f0</th>\n",
       "      <th>f1</th>\n",
       "      <th>f2</th>\n",
       "      <th>product</th>\n",
       "    </tr>\n",
       "  </thead>\n",
       "  <tbody>\n",
       "    <tr>\n",
       "      <th>0</th>\n",
       "      <td>fwXo0</td>\n",
       "      <td>-1.146987</td>\n",
       "      <td>0.963328</td>\n",
       "      <td>-0.828965</td>\n",
       "      <td>27.758673</td>\n",
       "    </tr>\n",
       "    <tr>\n",
       "      <th>1</th>\n",
       "      <td>WJtFt</td>\n",
       "      <td>0.262778</td>\n",
       "      <td>0.269839</td>\n",
       "      <td>-2.530187</td>\n",
       "      <td>56.069697</td>\n",
       "    </tr>\n",
       "    <tr>\n",
       "      <th>2</th>\n",
       "      <td>ovLUW</td>\n",
       "      <td>0.194587</td>\n",
       "      <td>0.289035</td>\n",
       "      <td>-5.586433</td>\n",
       "      <td>62.871910</td>\n",
       "    </tr>\n",
       "    <tr>\n",
       "      <th>3</th>\n",
       "      <td>q6cA6</td>\n",
       "      <td>2.236060</td>\n",
       "      <td>-0.553760</td>\n",
       "      <td>0.930038</td>\n",
       "      <td>114.572842</td>\n",
       "    </tr>\n",
       "    <tr>\n",
       "      <th>4</th>\n",
       "      <td>WPMUX</td>\n",
       "      <td>-0.515993</td>\n",
       "      <td>1.716266</td>\n",
       "      <td>5.899011</td>\n",
       "      <td>149.600746</td>\n",
       "    </tr>\n",
       "  </tbody>\n",
       "</table>\n",
       "</div>"
      ],
      "text/plain": [
       "      id        f0        f1        f2     product\n",
       "0  fwXo0 -1.146987  0.963328 -0.828965   27.758673\n",
       "1  WJtFt  0.262778  0.269839 -2.530187   56.069697\n",
       "2  ovLUW  0.194587  0.289035 -5.586433   62.871910\n",
       "3  q6cA6  2.236060 -0.553760  0.930038  114.572842\n",
       "4  WPMUX -0.515993  1.716266  5.899011  149.600746"
      ]
     },
     "metadata": {},
     "output_type": "display_data"
    }
   ],
   "source": [
    " for region in region_dict:\n",
    "    \n",
    "    print(region)\n",
    "    display(region_dict[region].head())"
   ]
  },
  {
   "cell_type": "markdown",
   "metadata": {},
   "source": [
    "Оценим диапазоны значений:"
   ]
  },
  {
   "cell_type": "code",
   "execution_count": 5,
   "metadata": {},
   "outputs": [
    {
     "name": "stdout",
     "output_type": "stream",
     "text": [
      "region 1\n"
     ]
    },
    {
     "data": {
      "text/html": [
       "<div>\n",
       "<style scoped>\n",
       "    .dataframe tbody tr th:only-of-type {\n",
       "        vertical-align: middle;\n",
       "    }\n",
       "\n",
       "    .dataframe tbody tr th {\n",
       "        vertical-align: top;\n",
       "    }\n",
       "\n",
       "    .dataframe thead th {\n",
       "        text-align: right;\n",
       "    }\n",
       "</style>\n",
       "<table border=\"1\" class=\"dataframe\">\n",
       "  <thead>\n",
       "    <tr style=\"text-align: right;\">\n",
       "      <th></th>\n",
       "      <th>f0</th>\n",
       "      <th>f1</th>\n",
       "      <th>f2</th>\n",
       "      <th>product</th>\n",
       "    </tr>\n",
       "  </thead>\n",
       "  <tbody>\n",
       "    <tr>\n",
       "      <th>count</th>\n",
       "      <td>100000.000000</td>\n",
       "      <td>100000.000000</td>\n",
       "      <td>100000.000000</td>\n",
       "      <td>100000.000000</td>\n",
       "    </tr>\n",
       "    <tr>\n",
       "      <th>mean</th>\n",
       "      <td>0.500419</td>\n",
       "      <td>0.250143</td>\n",
       "      <td>2.502647</td>\n",
       "      <td>92.500000</td>\n",
       "    </tr>\n",
       "    <tr>\n",
       "      <th>std</th>\n",
       "      <td>0.871832</td>\n",
       "      <td>0.504433</td>\n",
       "      <td>3.248248</td>\n",
       "      <td>44.288691</td>\n",
       "    </tr>\n",
       "    <tr>\n",
       "      <th>min</th>\n",
       "      <td>-1.408605</td>\n",
       "      <td>-0.848218</td>\n",
       "      <td>-12.088328</td>\n",
       "      <td>0.000000</td>\n",
       "    </tr>\n",
       "    <tr>\n",
       "      <th>25%</th>\n",
       "      <td>-0.072580</td>\n",
       "      <td>-0.200881</td>\n",
       "      <td>0.287748</td>\n",
       "      <td>56.497507</td>\n",
       "    </tr>\n",
       "    <tr>\n",
       "      <th>50%</th>\n",
       "      <td>0.502360</td>\n",
       "      <td>0.250252</td>\n",
       "      <td>2.515969</td>\n",
       "      <td>91.849972</td>\n",
       "    </tr>\n",
       "    <tr>\n",
       "      <th>75%</th>\n",
       "      <td>1.073581</td>\n",
       "      <td>0.700646</td>\n",
       "      <td>4.715088</td>\n",
       "      <td>128.564089</td>\n",
       "    </tr>\n",
       "    <tr>\n",
       "      <th>max</th>\n",
       "      <td>2.362331</td>\n",
       "      <td>1.343769</td>\n",
       "      <td>16.003790</td>\n",
       "      <td>185.364347</td>\n",
       "    </tr>\n",
       "  </tbody>\n",
       "</table>\n",
       "</div>"
      ],
      "text/plain": [
       "                  f0             f1             f2        product\n",
       "count  100000.000000  100000.000000  100000.000000  100000.000000\n",
       "mean        0.500419       0.250143       2.502647      92.500000\n",
       "std         0.871832       0.504433       3.248248      44.288691\n",
       "min        -1.408605      -0.848218     -12.088328       0.000000\n",
       "25%        -0.072580      -0.200881       0.287748      56.497507\n",
       "50%         0.502360       0.250252       2.515969      91.849972\n",
       "75%         1.073581       0.700646       4.715088     128.564089\n",
       "max         2.362331       1.343769      16.003790     185.364347"
      ]
     },
     "metadata": {},
     "output_type": "display_data"
    },
    {
     "name": "stdout",
     "output_type": "stream",
     "text": [
      "region 2\n"
     ]
    },
    {
     "data": {
      "text/html": [
       "<div>\n",
       "<style scoped>\n",
       "    .dataframe tbody tr th:only-of-type {\n",
       "        vertical-align: middle;\n",
       "    }\n",
       "\n",
       "    .dataframe tbody tr th {\n",
       "        vertical-align: top;\n",
       "    }\n",
       "\n",
       "    .dataframe thead th {\n",
       "        text-align: right;\n",
       "    }\n",
       "</style>\n",
       "<table border=\"1\" class=\"dataframe\">\n",
       "  <thead>\n",
       "    <tr style=\"text-align: right;\">\n",
       "      <th></th>\n",
       "      <th>f0</th>\n",
       "      <th>f1</th>\n",
       "      <th>f2</th>\n",
       "      <th>product</th>\n",
       "    </tr>\n",
       "  </thead>\n",
       "  <tbody>\n",
       "    <tr>\n",
       "      <th>count</th>\n",
       "      <td>100000.000000</td>\n",
       "      <td>100000.000000</td>\n",
       "      <td>100000.000000</td>\n",
       "      <td>100000.000000</td>\n",
       "    </tr>\n",
       "    <tr>\n",
       "      <th>mean</th>\n",
       "      <td>1.141296</td>\n",
       "      <td>-4.796579</td>\n",
       "      <td>2.494541</td>\n",
       "      <td>68.825000</td>\n",
       "    </tr>\n",
       "    <tr>\n",
       "      <th>std</th>\n",
       "      <td>8.965932</td>\n",
       "      <td>5.119872</td>\n",
       "      <td>1.703572</td>\n",
       "      <td>45.944423</td>\n",
       "    </tr>\n",
       "    <tr>\n",
       "      <th>min</th>\n",
       "      <td>-31.609576</td>\n",
       "      <td>-26.358598</td>\n",
       "      <td>-0.018144</td>\n",
       "      <td>0.000000</td>\n",
       "    </tr>\n",
       "    <tr>\n",
       "      <th>25%</th>\n",
       "      <td>-6.298551</td>\n",
       "      <td>-8.267985</td>\n",
       "      <td>1.000021</td>\n",
       "      <td>26.953261</td>\n",
       "    </tr>\n",
       "    <tr>\n",
       "      <th>50%</th>\n",
       "      <td>1.153055</td>\n",
       "      <td>-4.813172</td>\n",
       "      <td>2.011479</td>\n",
       "      <td>57.085625</td>\n",
       "    </tr>\n",
       "    <tr>\n",
       "      <th>75%</th>\n",
       "      <td>8.621015</td>\n",
       "      <td>-1.332816</td>\n",
       "      <td>3.999904</td>\n",
       "      <td>107.813044</td>\n",
       "    </tr>\n",
       "    <tr>\n",
       "      <th>max</th>\n",
       "      <td>29.421755</td>\n",
       "      <td>18.734063</td>\n",
       "      <td>5.019721</td>\n",
       "      <td>137.945408</td>\n",
       "    </tr>\n",
       "  </tbody>\n",
       "</table>\n",
       "</div>"
      ],
      "text/plain": [
       "                  f0             f1             f2        product\n",
       "count  100000.000000  100000.000000  100000.000000  100000.000000\n",
       "mean        1.141296      -4.796579       2.494541      68.825000\n",
       "std         8.965932       5.119872       1.703572      45.944423\n",
       "min       -31.609576     -26.358598      -0.018144       0.000000\n",
       "25%        -6.298551      -8.267985       1.000021      26.953261\n",
       "50%         1.153055      -4.813172       2.011479      57.085625\n",
       "75%         8.621015      -1.332816       3.999904     107.813044\n",
       "max        29.421755      18.734063       5.019721     137.945408"
      ]
     },
     "metadata": {},
     "output_type": "display_data"
    },
    {
     "name": "stdout",
     "output_type": "stream",
     "text": [
      "region 3\n"
     ]
    },
    {
     "data": {
      "text/html": [
       "<div>\n",
       "<style scoped>\n",
       "    .dataframe tbody tr th:only-of-type {\n",
       "        vertical-align: middle;\n",
       "    }\n",
       "\n",
       "    .dataframe tbody tr th {\n",
       "        vertical-align: top;\n",
       "    }\n",
       "\n",
       "    .dataframe thead th {\n",
       "        text-align: right;\n",
       "    }\n",
       "</style>\n",
       "<table border=\"1\" class=\"dataframe\">\n",
       "  <thead>\n",
       "    <tr style=\"text-align: right;\">\n",
       "      <th></th>\n",
       "      <th>f0</th>\n",
       "      <th>f1</th>\n",
       "      <th>f2</th>\n",
       "      <th>product</th>\n",
       "    </tr>\n",
       "  </thead>\n",
       "  <tbody>\n",
       "    <tr>\n",
       "      <th>count</th>\n",
       "      <td>100000.000000</td>\n",
       "      <td>100000.000000</td>\n",
       "      <td>100000.000000</td>\n",
       "      <td>100000.000000</td>\n",
       "    </tr>\n",
       "    <tr>\n",
       "      <th>mean</th>\n",
       "      <td>0.002023</td>\n",
       "      <td>-0.002081</td>\n",
       "      <td>2.495128</td>\n",
       "      <td>95.000000</td>\n",
       "    </tr>\n",
       "    <tr>\n",
       "      <th>std</th>\n",
       "      <td>1.732045</td>\n",
       "      <td>1.730417</td>\n",
       "      <td>3.473445</td>\n",
       "      <td>44.749921</td>\n",
       "    </tr>\n",
       "    <tr>\n",
       "      <th>min</th>\n",
       "      <td>-8.760004</td>\n",
       "      <td>-7.084020</td>\n",
       "      <td>-11.970335</td>\n",
       "      <td>0.000000</td>\n",
       "    </tr>\n",
       "    <tr>\n",
       "      <th>25%</th>\n",
       "      <td>-1.162288</td>\n",
       "      <td>-1.174820</td>\n",
       "      <td>0.130359</td>\n",
       "      <td>59.450441</td>\n",
       "    </tr>\n",
       "    <tr>\n",
       "      <th>50%</th>\n",
       "      <td>0.009424</td>\n",
       "      <td>-0.009482</td>\n",
       "      <td>2.484236</td>\n",
       "      <td>94.925613</td>\n",
       "    </tr>\n",
       "    <tr>\n",
       "      <th>75%</th>\n",
       "      <td>1.158535</td>\n",
       "      <td>1.163678</td>\n",
       "      <td>4.858794</td>\n",
       "      <td>130.595027</td>\n",
       "    </tr>\n",
       "    <tr>\n",
       "      <th>max</th>\n",
       "      <td>7.238262</td>\n",
       "      <td>7.844801</td>\n",
       "      <td>16.739402</td>\n",
       "      <td>190.029838</td>\n",
       "    </tr>\n",
       "  </tbody>\n",
       "</table>\n",
       "</div>"
      ],
      "text/plain": [
       "                  f0             f1             f2        product\n",
       "count  100000.000000  100000.000000  100000.000000  100000.000000\n",
       "mean        0.002023      -0.002081       2.495128      95.000000\n",
       "std         1.732045       1.730417       3.473445      44.749921\n",
       "min        -8.760004      -7.084020     -11.970335       0.000000\n",
       "25%        -1.162288      -1.174820       0.130359      59.450441\n",
       "50%         0.009424      -0.009482       2.484236      94.925613\n",
       "75%         1.158535       1.163678       4.858794     130.595027\n",
       "max         7.238262       7.844801      16.739402     190.029838"
      ]
     },
     "metadata": {},
     "output_type": "display_data"
    }
   ],
   "source": [
    "for region in region_dict:\n",
    "    \n",
    "    print(region)\n",
    "    display(region_dict[region].describe())"
   ]
  },
  {
   "cell_type": "markdown",
   "metadata": {},
   "source": [
    "Диапазоны значений выглядят адекватно."
   ]
  },
  {
   "cell_type": "markdown",
   "metadata": {},
   "source": [
    "Проверим наши датасеты на дубликаты по столбцу id:"
   ]
  },
  {
   "cell_type": "code",
   "execution_count": 6,
   "metadata": {},
   "outputs": [
    {
     "name": "stdout",
     "output_type": "stream",
     "text": [
      "region 1\n",
      "обнаружено 10 дублированных строк по id:\n"
     ]
    },
    {
     "data": {
      "text/html": [
       "<div>\n",
       "<style scoped>\n",
       "    .dataframe tbody tr th:only-of-type {\n",
       "        vertical-align: middle;\n",
       "    }\n",
       "\n",
       "    .dataframe tbody tr th {\n",
       "        vertical-align: top;\n",
       "    }\n",
       "\n",
       "    .dataframe thead th {\n",
       "        text-align: right;\n",
       "    }\n",
       "</style>\n",
       "<table border=\"1\" class=\"dataframe\">\n",
       "  <thead>\n",
       "    <tr style=\"text-align: right;\">\n",
       "      <th></th>\n",
       "      <th>id</th>\n",
       "      <th>f0</th>\n",
       "      <th>f1</th>\n",
       "      <th>f2</th>\n",
       "      <th>product</th>\n",
       "    </tr>\n",
       "  </thead>\n",
       "  <tbody>\n",
       "    <tr>\n",
       "      <th>64022</th>\n",
       "      <td>74z30</td>\n",
       "      <td>0.741456</td>\n",
       "      <td>0.459229</td>\n",
       "      <td>5.153109</td>\n",
       "      <td>140.771492</td>\n",
       "    </tr>\n",
       "    <tr>\n",
       "      <th>66136</th>\n",
       "      <td>74z30</td>\n",
       "      <td>1.084962</td>\n",
       "      <td>-0.312358</td>\n",
       "      <td>6.990771</td>\n",
       "      <td>127.643327</td>\n",
       "    </tr>\n",
       "    <tr>\n",
       "      <th>3389</th>\n",
       "      <td>A5aEY</td>\n",
       "      <td>-0.039949</td>\n",
       "      <td>0.156872</td>\n",
       "      <td>0.209861</td>\n",
       "      <td>89.249364</td>\n",
       "    </tr>\n",
       "    <tr>\n",
       "      <th>51970</th>\n",
       "      <td>A5aEY</td>\n",
       "      <td>-0.180335</td>\n",
       "      <td>0.935548</td>\n",
       "      <td>-2.094773</td>\n",
       "      <td>33.020205</td>\n",
       "    </tr>\n",
       "    <tr>\n",
       "      <th>42529</th>\n",
       "      <td>AGS9W</td>\n",
       "      <td>1.454747</td>\n",
       "      <td>-0.479651</td>\n",
       "      <td>0.683380</td>\n",
       "      <td>126.370504</td>\n",
       "    </tr>\n",
       "    <tr>\n",
       "      <th>69163</th>\n",
       "      <td>AGS9W</td>\n",
       "      <td>-0.933795</td>\n",
       "      <td>0.116194</td>\n",
       "      <td>-3.655896</td>\n",
       "      <td>19.230453</td>\n",
       "    </tr>\n",
       "    <tr>\n",
       "      <th>931</th>\n",
       "      <td>HZww2</td>\n",
       "      <td>0.755284</td>\n",
       "      <td>0.368511</td>\n",
       "      <td>1.863211</td>\n",
       "      <td>30.681774</td>\n",
       "    </tr>\n",
       "    <tr>\n",
       "      <th>7530</th>\n",
       "      <td>HZww2</td>\n",
       "      <td>1.061194</td>\n",
       "      <td>-0.373969</td>\n",
       "      <td>10.430210</td>\n",
       "      <td>158.828695</td>\n",
       "    </tr>\n",
       "    <tr>\n",
       "      <th>1949</th>\n",
       "      <td>QcMuo</td>\n",
       "      <td>0.506563</td>\n",
       "      <td>-0.323775</td>\n",
       "      <td>-2.215583</td>\n",
       "      <td>75.496502</td>\n",
       "    </tr>\n",
       "    <tr>\n",
       "      <th>63593</th>\n",
       "      <td>QcMuo</td>\n",
       "      <td>0.635635</td>\n",
       "      <td>-0.473422</td>\n",
       "      <td>0.862670</td>\n",
       "      <td>64.578675</td>\n",
       "    </tr>\n",
       "    <tr>\n",
       "      <th>21426</th>\n",
       "      <td>Tdehs</td>\n",
       "      <td>0.829407</td>\n",
       "      <td>0.298807</td>\n",
       "      <td>-0.049563</td>\n",
       "      <td>96.035308</td>\n",
       "    </tr>\n",
       "    <tr>\n",
       "      <th>75715</th>\n",
       "      <td>Tdehs</td>\n",
       "      <td>0.112079</td>\n",
       "      <td>0.430296</td>\n",
       "      <td>3.218993</td>\n",
       "      <td>60.964018</td>\n",
       "    </tr>\n",
       "    <tr>\n",
       "      <th>60140</th>\n",
       "      <td>TtcGQ</td>\n",
       "      <td>0.569276</td>\n",
       "      <td>-0.104876</td>\n",
       "      <td>6.440215</td>\n",
       "      <td>85.350186</td>\n",
       "    </tr>\n",
       "    <tr>\n",
       "      <th>92341</th>\n",
       "      <td>TtcGQ</td>\n",
       "      <td>0.110711</td>\n",
       "      <td>1.022689</td>\n",
       "      <td>0.911381</td>\n",
       "      <td>101.318008</td>\n",
       "    </tr>\n",
       "    <tr>\n",
       "      <th>89582</th>\n",
       "      <td>bsk9y</td>\n",
       "      <td>0.398908</td>\n",
       "      <td>-0.400253</td>\n",
       "      <td>10.122376</td>\n",
       "      <td>163.433078</td>\n",
       "    </tr>\n",
       "    <tr>\n",
       "      <th>97785</th>\n",
       "      <td>bsk9y</td>\n",
       "      <td>0.378429</td>\n",
       "      <td>0.005837</td>\n",
       "      <td>0.160827</td>\n",
       "      <td>160.637302</td>\n",
       "    </tr>\n",
       "    <tr>\n",
       "      <th>1364</th>\n",
       "      <td>bxg6G</td>\n",
       "      <td>0.411645</td>\n",
       "      <td>0.856830</td>\n",
       "      <td>-3.653440</td>\n",
       "      <td>73.604260</td>\n",
       "    </tr>\n",
       "    <tr>\n",
       "      <th>41724</th>\n",
       "      <td>bxg6G</td>\n",
       "      <td>-0.823752</td>\n",
       "      <td>0.546319</td>\n",
       "      <td>3.630479</td>\n",
       "      <td>93.007798</td>\n",
       "    </tr>\n",
       "    <tr>\n",
       "      <th>16633</th>\n",
       "      <td>fiKDv</td>\n",
       "      <td>0.157341</td>\n",
       "      <td>1.028359</td>\n",
       "      <td>5.585586</td>\n",
       "      <td>95.817889</td>\n",
       "    </tr>\n",
       "    <tr>\n",
       "      <th>90815</th>\n",
       "      <td>fiKDv</td>\n",
       "      <td>0.049883</td>\n",
       "      <td>0.841313</td>\n",
       "      <td>6.394613</td>\n",
       "      <td>137.346586</td>\n",
       "    </tr>\n",
       "  </tbody>\n",
       "</table>\n",
       "</div>"
      ],
      "text/plain": [
       "          id        f0        f1         f2     product\n",
       "64022  74z30  0.741456  0.459229   5.153109  140.771492\n",
       "66136  74z30  1.084962 -0.312358   6.990771  127.643327\n",
       "3389   A5aEY -0.039949  0.156872   0.209861   89.249364\n",
       "51970  A5aEY -0.180335  0.935548  -2.094773   33.020205\n",
       "42529  AGS9W  1.454747 -0.479651   0.683380  126.370504\n",
       "69163  AGS9W -0.933795  0.116194  -3.655896   19.230453\n",
       "931    HZww2  0.755284  0.368511   1.863211   30.681774\n",
       "7530   HZww2  1.061194 -0.373969  10.430210  158.828695\n",
       "1949   QcMuo  0.506563 -0.323775  -2.215583   75.496502\n",
       "63593  QcMuo  0.635635 -0.473422   0.862670   64.578675\n",
       "21426  Tdehs  0.829407  0.298807  -0.049563   96.035308\n",
       "75715  Tdehs  0.112079  0.430296   3.218993   60.964018\n",
       "60140  TtcGQ  0.569276 -0.104876   6.440215   85.350186\n",
       "92341  TtcGQ  0.110711  1.022689   0.911381  101.318008\n",
       "89582  bsk9y  0.398908 -0.400253  10.122376  163.433078\n",
       "97785  bsk9y  0.378429  0.005837   0.160827  160.637302\n",
       "1364   bxg6G  0.411645  0.856830  -3.653440   73.604260\n",
       "41724  bxg6G -0.823752  0.546319   3.630479   93.007798\n",
       "16633  fiKDv  0.157341  1.028359   5.585586   95.817889\n",
       "90815  fiKDv  0.049883  0.841313   6.394613  137.346586"
      ]
     },
     "metadata": {},
     "output_type": "display_data"
    },
    {
     "name": "stdout",
     "output_type": "stream",
     "text": [
      "region 2\n",
      "обнаружено 4 дублированных строк по id:\n"
     ]
    },
    {
     "data": {
      "text/html": [
       "<div>\n",
       "<style scoped>\n",
       "    .dataframe tbody tr th:only-of-type {\n",
       "        vertical-align: middle;\n",
       "    }\n",
       "\n",
       "    .dataframe tbody tr th {\n",
       "        vertical-align: top;\n",
       "    }\n",
       "\n",
       "    .dataframe thead th {\n",
       "        text-align: right;\n",
       "    }\n",
       "</style>\n",
       "<table border=\"1\" class=\"dataframe\">\n",
       "  <thead>\n",
       "    <tr style=\"text-align: right;\">\n",
       "      <th></th>\n",
       "      <th>id</th>\n",
       "      <th>f0</th>\n",
       "      <th>f1</th>\n",
       "      <th>f2</th>\n",
       "      <th>product</th>\n",
       "    </tr>\n",
       "  </thead>\n",
       "  <tbody>\n",
       "    <tr>\n",
       "      <th>5849</th>\n",
       "      <td>5ltQ6</td>\n",
       "      <td>-3.435401</td>\n",
       "      <td>-12.296043</td>\n",
       "      <td>1.999796</td>\n",
       "      <td>57.085625</td>\n",
       "    </tr>\n",
       "    <tr>\n",
       "      <th>84461</th>\n",
       "      <td>5ltQ6</td>\n",
       "      <td>18.213839</td>\n",
       "      <td>2.191999</td>\n",
       "      <td>3.993869</td>\n",
       "      <td>107.813044</td>\n",
       "    </tr>\n",
       "    <tr>\n",
       "      <th>1305</th>\n",
       "      <td>LHZR0</td>\n",
       "      <td>11.170835</td>\n",
       "      <td>-1.945066</td>\n",
       "      <td>3.002872</td>\n",
       "      <td>80.859783</td>\n",
       "    </tr>\n",
       "    <tr>\n",
       "      <th>41906</th>\n",
       "      <td>LHZR0</td>\n",
       "      <td>-8.989672</td>\n",
       "      <td>-4.286607</td>\n",
       "      <td>2.009139</td>\n",
       "      <td>57.085625</td>\n",
       "    </tr>\n",
       "    <tr>\n",
       "      <th>2721</th>\n",
       "      <td>bfPNe</td>\n",
       "      <td>-9.494442</td>\n",
       "      <td>-5.463692</td>\n",
       "      <td>4.006042</td>\n",
       "      <td>110.992147</td>\n",
       "    </tr>\n",
       "    <tr>\n",
       "      <th>82178</th>\n",
       "      <td>bfPNe</td>\n",
       "      <td>-6.202799</td>\n",
       "      <td>-4.820045</td>\n",
       "      <td>2.995107</td>\n",
       "      <td>84.038886</td>\n",
       "    </tr>\n",
       "    <tr>\n",
       "      <th>47591</th>\n",
       "      <td>wt4Uk</td>\n",
       "      <td>-9.091098</td>\n",
       "      <td>-8.109279</td>\n",
       "      <td>-0.002314</td>\n",
       "      <td>3.179103</td>\n",
       "    </tr>\n",
       "    <tr>\n",
       "      <th>82873</th>\n",
       "      <td>wt4Uk</td>\n",
       "      <td>10.259972</td>\n",
       "      <td>-9.376355</td>\n",
       "      <td>4.994297</td>\n",
       "      <td>134.766305</td>\n",
       "    </tr>\n",
       "  </tbody>\n",
       "</table>\n",
       "</div>"
      ],
      "text/plain": [
       "          id         f0         f1        f2     product\n",
       "5849   5ltQ6  -3.435401 -12.296043  1.999796   57.085625\n",
       "84461  5ltQ6  18.213839   2.191999  3.993869  107.813044\n",
       "1305   LHZR0  11.170835  -1.945066  3.002872   80.859783\n",
       "41906  LHZR0  -8.989672  -4.286607  2.009139   57.085625\n",
       "2721   bfPNe  -9.494442  -5.463692  4.006042  110.992147\n",
       "82178  bfPNe  -6.202799  -4.820045  2.995107   84.038886\n",
       "47591  wt4Uk  -9.091098  -8.109279 -0.002314    3.179103\n",
       "82873  wt4Uk  10.259972  -9.376355  4.994297  134.766305"
      ]
     },
     "metadata": {},
     "output_type": "display_data"
    },
    {
     "name": "stdout",
     "output_type": "stream",
     "text": [
      "region 3\n",
      "обнаружено 4 дублированных строк по id:\n"
     ]
    },
    {
     "data": {
      "text/html": [
       "<div>\n",
       "<style scoped>\n",
       "    .dataframe tbody tr th:only-of-type {\n",
       "        vertical-align: middle;\n",
       "    }\n",
       "\n",
       "    .dataframe tbody tr th {\n",
       "        vertical-align: top;\n",
       "    }\n",
       "\n",
       "    .dataframe thead th {\n",
       "        text-align: right;\n",
       "    }\n",
       "</style>\n",
       "<table border=\"1\" class=\"dataframe\">\n",
       "  <thead>\n",
       "    <tr style=\"text-align: right;\">\n",
       "      <th></th>\n",
       "      <th>id</th>\n",
       "      <th>f0</th>\n",
       "      <th>f1</th>\n",
       "      <th>f2</th>\n",
       "      <th>product</th>\n",
       "    </tr>\n",
       "  </thead>\n",
       "  <tbody>\n",
       "    <tr>\n",
       "      <th>45404</th>\n",
       "      <td>KUPhW</td>\n",
       "      <td>0.231846</td>\n",
       "      <td>-1.698941</td>\n",
       "      <td>4.990775</td>\n",
       "      <td>11.716299</td>\n",
       "    </tr>\n",
       "    <tr>\n",
       "      <th>55967</th>\n",
       "      <td>KUPhW</td>\n",
       "      <td>1.211150</td>\n",
       "      <td>3.176408</td>\n",
       "      <td>5.543540</td>\n",
       "      <td>132.831802</td>\n",
       "    </tr>\n",
       "    <tr>\n",
       "      <th>11449</th>\n",
       "      <td>VF7Jo</td>\n",
       "      <td>2.122656</td>\n",
       "      <td>-0.858275</td>\n",
       "      <td>5.746001</td>\n",
       "      <td>181.716817</td>\n",
       "    </tr>\n",
       "    <tr>\n",
       "      <th>49564</th>\n",
       "      <td>VF7Jo</td>\n",
       "      <td>-0.883115</td>\n",
       "      <td>0.560537</td>\n",
       "      <td>0.723601</td>\n",
       "      <td>136.233420</td>\n",
       "    </tr>\n",
       "    <tr>\n",
       "      <th>44378</th>\n",
       "      <td>Vcm5J</td>\n",
       "      <td>-1.229484</td>\n",
       "      <td>-2.439204</td>\n",
       "      <td>1.222909</td>\n",
       "      <td>137.968290</td>\n",
       "    </tr>\n",
       "    <tr>\n",
       "      <th>95090</th>\n",
       "      <td>Vcm5J</td>\n",
       "      <td>2.587702</td>\n",
       "      <td>1.986875</td>\n",
       "      <td>2.482245</td>\n",
       "      <td>92.327572</td>\n",
       "    </tr>\n",
       "    <tr>\n",
       "      <th>28039</th>\n",
       "      <td>xCHr8</td>\n",
       "      <td>1.633027</td>\n",
       "      <td>0.368135</td>\n",
       "      <td>-2.378367</td>\n",
       "      <td>6.120525</td>\n",
       "    </tr>\n",
       "    <tr>\n",
       "      <th>43233</th>\n",
       "      <td>xCHr8</td>\n",
       "      <td>-0.847066</td>\n",
       "      <td>2.101796</td>\n",
       "      <td>5.597130</td>\n",
       "      <td>184.388641</td>\n",
       "    </tr>\n",
       "  </tbody>\n",
       "</table>\n",
       "</div>"
      ],
      "text/plain": [
       "          id        f0        f1        f2     product\n",
       "45404  KUPhW  0.231846 -1.698941  4.990775   11.716299\n",
       "55967  KUPhW  1.211150  3.176408  5.543540  132.831802\n",
       "11449  VF7Jo  2.122656 -0.858275  5.746001  181.716817\n",
       "49564  VF7Jo -0.883115  0.560537  0.723601  136.233420\n",
       "44378  Vcm5J -1.229484 -2.439204  1.222909  137.968290\n",
       "95090  Vcm5J  2.587702  1.986875  2.482245   92.327572\n",
       "28039  xCHr8  1.633027  0.368135 -2.378367    6.120525\n",
       "43233  xCHr8 -0.847066  2.101796  5.597130  184.388641"
      ]
     },
     "metadata": {},
     "output_type": "display_data"
    }
   ],
   "source": [
    "for region in region_dict:\n",
    "    \n",
    "    print(region)\n",
    "    \n",
    "    duplicated_id = region_dict[region]['id'].duplicated().sum()\n",
    "    print(f'обнаружено {duplicated_id} дублированных строк по id:')\n",
    "    \n",
    "    display(pd.concat(g for _, g in region_dict[region].groupby('id') if len(g) > 1))"
   ]
  },
  {
   "cell_type": "markdown",
   "metadata": {},
   "source": [
    "В наших датасетах мы обнаружили некоторое значение дублированных строк по столбцу \"id\", следует уточнить у ответсвенного за выгрузку с чем это связанно, в любом случае какие строки с \"id\" удалить, а какие оставить неизвестно, оставляем как есть"
   ]
  },
  {
   "cell_type": "markdown",
   "metadata": {},
   "source": [
    "Столбец \"id\" удалим из каждого датасета:"
   ]
  },
  {
   "cell_type": "code",
   "execution_count": 7,
   "metadata": {},
   "outputs": [
    {
     "data": {
      "text/html": [
       "<div>\n",
       "<style scoped>\n",
       "    .dataframe tbody tr th:only-of-type {\n",
       "        vertical-align: middle;\n",
       "    }\n",
       "\n",
       "    .dataframe tbody tr th {\n",
       "        vertical-align: top;\n",
       "    }\n",
       "\n",
       "    .dataframe thead th {\n",
       "        text-align: right;\n",
       "    }\n",
       "</style>\n",
       "<table border=\"1\" class=\"dataframe\">\n",
       "  <thead>\n",
       "    <tr style=\"text-align: right;\">\n",
       "      <th></th>\n",
       "      <th>f0</th>\n",
       "      <th>f1</th>\n",
       "      <th>f2</th>\n",
       "      <th>product</th>\n",
       "    </tr>\n",
       "  </thead>\n",
       "  <tbody>\n",
       "    <tr>\n",
       "      <th>0</th>\n",
       "      <td>0.705745</td>\n",
       "      <td>-0.497823</td>\n",
       "      <td>1.221170</td>\n",
       "      <td>105.280062</td>\n",
       "    </tr>\n",
       "    <tr>\n",
       "      <th>1</th>\n",
       "      <td>1.334711</td>\n",
       "      <td>-0.340164</td>\n",
       "      <td>4.365080</td>\n",
       "      <td>73.037750</td>\n",
       "    </tr>\n",
       "    <tr>\n",
       "      <th>2</th>\n",
       "      <td>1.022732</td>\n",
       "      <td>0.151990</td>\n",
       "      <td>1.419926</td>\n",
       "      <td>85.265647</td>\n",
       "    </tr>\n",
       "    <tr>\n",
       "      <th>3</th>\n",
       "      <td>-0.032172</td>\n",
       "      <td>0.139033</td>\n",
       "      <td>2.978566</td>\n",
       "      <td>168.620776</td>\n",
       "    </tr>\n",
       "    <tr>\n",
       "      <th>4</th>\n",
       "      <td>1.988431</td>\n",
       "      <td>0.155413</td>\n",
       "      <td>4.751769</td>\n",
       "      <td>154.036647</td>\n",
       "    </tr>\n",
       "  </tbody>\n",
       "</table>\n",
       "</div>"
      ],
      "text/plain": [
       "         f0        f1        f2     product\n",
       "0  0.705745 -0.497823  1.221170  105.280062\n",
       "1  1.334711 -0.340164  4.365080   73.037750\n",
       "2  1.022732  0.151990  1.419926   85.265647\n",
       "3 -0.032172  0.139033  2.978566  168.620776\n",
       "4  1.988431  0.155413  4.751769  154.036647"
      ]
     },
     "metadata": {},
     "output_type": "display_data"
    },
    {
     "data": {
      "text/html": [
       "<div>\n",
       "<style scoped>\n",
       "    .dataframe tbody tr th:only-of-type {\n",
       "        vertical-align: middle;\n",
       "    }\n",
       "\n",
       "    .dataframe tbody tr th {\n",
       "        vertical-align: top;\n",
       "    }\n",
       "\n",
       "    .dataframe thead th {\n",
       "        text-align: right;\n",
       "    }\n",
       "</style>\n",
       "<table border=\"1\" class=\"dataframe\">\n",
       "  <thead>\n",
       "    <tr style=\"text-align: right;\">\n",
       "      <th></th>\n",
       "      <th>f0</th>\n",
       "      <th>f1</th>\n",
       "      <th>f2</th>\n",
       "      <th>product</th>\n",
       "    </tr>\n",
       "  </thead>\n",
       "  <tbody>\n",
       "    <tr>\n",
       "      <th>0</th>\n",
       "      <td>-15.001348</td>\n",
       "      <td>-8.276000</td>\n",
       "      <td>-0.005876</td>\n",
       "      <td>3.179103</td>\n",
       "    </tr>\n",
       "    <tr>\n",
       "      <th>1</th>\n",
       "      <td>14.272088</td>\n",
       "      <td>-3.475083</td>\n",
       "      <td>0.999183</td>\n",
       "      <td>26.953261</td>\n",
       "    </tr>\n",
       "    <tr>\n",
       "      <th>2</th>\n",
       "      <td>6.263187</td>\n",
       "      <td>-5.948386</td>\n",
       "      <td>5.001160</td>\n",
       "      <td>134.766305</td>\n",
       "    </tr>\n",
       "    <tr>\n",
       "      <th>3</th>\n",
       "      <td>-13.081196</td>\n",
       "      <td>-11.506057</td>\n",
       "      <td>4.999415</td>\n",
       "      <td>137.945408</td>\n",
       "    </tr>\n",
       "    <tr>\n",
       "      <th>4</th>\n",
       "      <td>12.702195</td>\n",
       "      <td>-8.147433</td>\n",
       "      <td>5.004363</td>\n",
       "      <td>134.766305</td>\n",
       "    </tr>\n",
       "  </tbody>\n",
       "</table>\n",
       "</div>"
      ],
      "text/plain": [
       "          f0         f1        f2     product\n",
       "0 -15.001348  -8.276000 -0.005876    3.179103\n",
       "1  14.272088  -3.475083  0.999183   26.953261\n",
       "2   6.263187  -5.948386  5.001160  134.766305\n",
       "3 -13.081196 -11.506057  4.999415  137.945408\n",
       "4  12.702195  -8.147433  5.004363  134.766305"
      ]
     },
     "metadata": {},
     "output_type": "display_data"
    },
    {
     "data": {
      "text/html": [
       "<div>\n",
       "<style scoped>\n",
       "    .dataframe tbody tr th:only-of-type {\n",
       "        vertical-align: middle;\n",
       "    }\n",
       "\n",
       "    .dataframe tbody tr th {\n",
       "        vertical-align: top;\n",
       "    }\n",
       "\n",
       "    .dataframe thead th {\n",
       "        text-align: right;\n",
       "    }\n",
       "</style>\n",
       "<table border=\"1\" class=\"dataframe\">\n",
       "  <thead>\n",
       "    <tr style=\"text-align: right;\">\n",
       "      <th></th>\n",
       "      <th>f0</th>\n",
       "      <th>f1</th>\n",
       "      <th>f2</th>\n",
       "      <th>product</th>\n",
       "    </tr>\n",
       "  </thead>\n",
       "  <tbody>\n",
       "    <tr>\n",
       "      <th>0</th>\n",
       "      <td>-1.146987</td>\n",
       "      <td>0.963328</td>\n",
       "      <td>-0.828965</td>\n",
       "      <td>27.758673</td>\n",
       "    </tr>\n",
       "    <tr>\n",
       "      <th>1</th>\n",
       "      <td>0.262778</td>\n",
       "      <td>0.269839</td>\n",
       "      <td>-2.530187</td>\n",
       "      <td>56.069697</td>\n",
       "    </tr>\n",
       "    <tr>\n",
       "      <th>2</th>\n",
       "      <td>0.194587</td>\n",
       "      <td>0.289035</td>\n",
       "      <td>-5.586433</td>\n",
       "      <td>62.871910</td>\n",
       "    </tr>\n",
       "    <tr>\n",
       "      <th>3</th>\n",
       "      <td>2.236060</td>\n",
       "      <td>-0.553760</td>\n",
       "      <td>0.930038</td>\n",
       "      <td>114.572842</td>\n",
       "    </tr>\n",
       "    <tr>\n",
       "      <th>4</th>\n",
       "      <td>-0.515993</td>\n",
       "      <td>1.716266</td>\n",
       "      <td>5.899011</td>\n",
       "      <td>149.600746</td>\n",
       "    </tr>\n",
       "  </tbody>\n",
       "</table>\n",
       "</div>"
      ],
      "text/plain": [
       "         f0        f1        f2     product\n",
       "0 -1.146987  0.963328 -0.828965   27.758673\n",
       "1  0.262778  0.269839 -2.530187   56.069697\n",
       "2  0.194587  0.289035 -5.586433   62.871910\n",
       "3  2.236060 -0.553760  0.930038  114.572842\n",
       "4 -0.515993  1.716266  5.899011  149.600746"
      ]
     },
     "metadata": {},
     "output_type": "display_data"
    }
   ],
   "source": [
    "for region in region_dict:\n",
    "    \n",
    "    region_dict[region] = region_dict[region].drop('id', axis=1)\n",
    "    \n",
    "    display(region_dict[region].head())"
   ]
  },
  {
   "cell_type": "markdown",
   "metadata": {},
   "source": [
    "Оценим выбросы в данных:"
   ]
  },
  {
   "cell_type": "code",
   "execution_count": 8,
   "metadata": {},
   "outputs": [
    {
     "name": "stdout",
     "output_type": "stream",
     "text": [
      "region 1\n"
     ]
    },
    {
     "data": {
      "image/png": "[encoded data removed]",
      "text/plain": [
       "<Figure size 432x288 with 1 Axes>"
      ]
     },
     "metadata": {
      "needs_background": "light"
     },
     "output_type": "display_data"
    },
    {
     "name": "stdout",
     "output_type": "stream",
     "text": [
      "region 2\n"
     ]
    },
    {
     "data": {
      "image/png": "[encoded data removed]",
      "text/plain": [
       "<Figure size 432x288 with 1 Axes>"
      ]
     },
     "metadata": {
      "needs_background": "light"
     },
     "output_type": "display_data"
    },
    {
     "name": "stdout",
     "output_type": "stream",
     "text": [
      "region 3\n"
     ]
    },
    {
     "data": {
      "image/png": "[encoded data removed]",
      "text/plain": [
       "<Figure size 432x288 with 1 Axes>"
      ]
     },
     "metadata": {
      "needs_background": "light"
     },
     "output_type": "display_data"
    }
   ],
   "source": [
    "for region in region_dict:\n",
    "    \n",
    "    print(region)\n",
    "    \n",
    "    plt.boxplot(region_dict[region][['f0', 'f1', 'f2']]);\n",
    "    plt.show()"
   ]
  },
  {
   "cell_type": "markdown",
   "metadata": {},
   "source": [
    "Отфильтруем данные от выбросов:"
   ]
  },
  {
   "cell_type": "code",
   "execution_count": 9,
   "metadata": {},
   "outputs": [],
   "source": [
    "def iqr_filtration(data):\n",
    "    \n",
    "    temp_dict = {}\n",
    "    columns_list = ['f0', 'f1', 'f2']\n",
    "    \n",
    "    for region in data:\n",
    "        \n",
    "        temp_data = data[region]\n",
    "        \n",
    "        for column_name in columns_list:\n",
    "            \n",
    "            q1 = temp_data[column_name].quantile(0.25)\n",
    "            q3 = temp_data[column_name].quantile(0.75)\n",
    "            iqr = q3 - q1\n",
    "            temp_data = temp_data[(temp_data[column_name] > q1 - 1.5 * iqr) \n",
    "                                  & (temp_data[column_name] < q3 + 1.5 * iqr)]\n",
    "            \n",
    "        temp_dict[region] = temp_data\n",
    "        row_filtered = len(data[region]) - len(temp_data)\n",
    "        \n",
    "        print(f'В датасете {region} отфильтровано {row_filtered} строк')\n",
    "        \n",
    "    return temp_dict"
   ]
  },
  {
   "cell_type": "code",
   "execution_count": 10,
   "metadata": {},
   "outputs": [
    {
     "name": "stdout",
     "output_type": "stream",
     "text": [
      "В датасете region 1 отфильтровано 506 строк\n",
      "В датасете region 2 отфильтровано 637 строк\n",
      "В датасете region 3 отфильтровано 1997 строк\n"
     ]
    }
   ],
   "source": [
    "region_iqr_list = iqr_filtration(region_dict)"
   ]
  },
  {
   "cell_type": "markdown",
   "metadata": {},
   "source": [
    "Проверим работу функции фильтрации:"
   ]
  },
  {
   "cell_type": "code",
   "execution_count": 11,
   "metadata": {},
   "outputs": [
    {
     "name": "stdout",
     "output_type": "stream",
     "text": [
      "Датасет region 1, диаграмма boxplot после фильтрации:\n"
     ]
    },
    {
     "data": {
      "image/png": "[encoded data removed]",
      "text/plain": [
       "<Figure size 432x288 with 1 Axes>"
      ]
     },
     "metadata": {
      "needs_background": "light"
     },
     "output_type": "display_data"
    },
    {
     "name": "stdout",
     "output_type": "stream",
     "text": [
      "Датасет region 2, диаграмма boxplot после фильтрации:\n"
     ]
    },
    {
     "data": {
      "image/png": "[encoded data removed]",
      "text/plain": [
       "<Figure size 432x288 with 1 Axes>"
      ]
     },
     "metadata": {
      "needs_background": "light"
     },
     "output_type": "display_data"
    },
    {
     "name": "stdout",
     "output_type": "stream",
     "text": [
      "Датасет region 3, диаграмма boxplot после фильтрации:\n"
     ]
    },
    {
     "data": {
      "image/png": "[encoded data removed]",
      "text/plain": [
       "<Figure size 432x288 with 1 Axes>"
      ]
     },
     "metadata": {
      "needs_background": "light"
     },
     "output_type": "display_data"
    }
   ],
   "source": [
    "for region in region_iqr_list:\n",
    "    \n",
    "    print(f'Датасет {region}, диаграмма boxplot после фильтрации:')\n",
    "    \n",
    "    plt.boxplot(region_iqr_list[region][['f0', 'f1', 'f2']]);\n",
    "    plt.show()"
   ]
  },
  {
   "cell_type": "markdown",
   "metadata": {},
   "source": [
    "Данные очищены"
   ]
  },
  {
   "cell_type": "markdown",
   "metadata": {},
   "source": [
    "Взглянем на распределение целевого признака в датасетах:"
   ]
  },
  {
   "cell_type": "code",
   "execution_count": 12,
   "metadata": {},
   "outputs": [
    {
     "name": "stdout",
     "output_type": "stream",
     "text": [
      "region 1\n"
     ]
    },
    {
     "data": {
      "image/png": "[encoded data removed]",
      "text/plain": [
       "<Figure size 504x360 with 1 Axes>"
      ]
     },
     "metadata": {
      "needs_background": "light"
     },
     "output_type": "display_data"
    },
    {
     "name": "stdout",
     "output_type": "stream",
     "text": [
      "region 2\n"
     ]
    },
    {
     "data": {
      "image/png": "[encoded data removed]",
      "text/plain": [
       "<Figure size 504x360 with 1 Axes>"
      ]
     },
     "metadata": {
      "needs_background": "light"
     },
     "output_type": "display_data"
    },
    {
     "name": "stdout",
     "output_type": "stream",
     "text": [
      "region 3\n"
     ]
    },
    {
     "data": {
      "image/png": "[encoded data removed]",
      "text/plain": [
       "<Figure size 504x360 with 1 Axes>"
      ]
     },
     "metadata": {
      "needs_background": "light"
     },
     "output_type": "display_data"
    }
   ],
   "source": [
    "for region in region_iqr_list:\n",
    "    \n",
    "    print(region)\n",
    "    \n",
    "    region_iqr_list[region]['product'].hist(bins = 10, figsize=[7,5])\n",
    "    \n",
    "    plt.xlabel('Объем нефти (тыс. бар.)')\n",
    "    plt.ylabel('Кол-во скважин')\n",
    "    plt.title(f'Гистограмма распределения объема нефти в скважинах в {region}')\n",
    "    plt.show()"
   ]
  },
  {
   "cell_type": "markdown",
   "metadata": {},
   "source": [
    "В регионе 1 и 3 распределение целевого признака нормальное, в регионе 2 странное распределение."
   ]
  },
  {
   "cell_type": "markdown",
   "metadata": {},
   "source": [
    "Также обратим внимание на корреляцию признаков в датасетах:"
   ]
  },
  {
   "cell_type": "code",
   "execution_count": 13,
   "metadata": {},
   "outputs": [
    {
     "name": "stdout",
     "output_type": "stream",
     "text": [
      "Кореляционная матрица по region 1:\n"
     ]
    },
    {
     "data": {
      "image/png": "[encoded data removed]",
      "text/plain": [
       "<Figure size 432x288 with 2 Axes>"
      ]
     },
     "metadata": {
      "needs_background": "light"
     },
     "output_type": "display_data"
    },
    {
     "name": "stdout",
     "output_type": "stream",
     "text": [
      "Кореляционная матрица по region 2:\n"
     ]
    },
    {
     "data": {
      "image/png": "[encoded data removed]",
      "text/plain": [
       "<Figure size 432x288 with 2 Axes>"
      ]
     },
     "metadata": {
      "needs_background": "light"
     },
     "output_type": "display_data"
    },
    {
     "name": "stdout",
     "output_type": "stream",
     "text": [
      "Кореляционная матрица по region 3:\n"
     ]
    },
    {
     "data": {
      "image/png": "[encoded data removed]",
      "text/plain": [
       "<Figure size 432x288 with 2 Axes>"
      ]
     },
     "metadata": {
      "needs_background": "light"
     },
     "output_type": "display_data"
    }
   ],
   "source": [
    "for region in region_iqr_list:\n",
    "    \n",
    "    print(f'Кореляционная матрица по {region}:')\n",
    "    \n",
    "    corr = region_iqr_list[region].corr()\n",
    "    sns.heatmap(corr, xticklabels=corr.columns, yticklabels=corr.columns, cmap='coolwarm', annot = True)\n",
    "    plt.show()"
   ]
  },
  {
   "cell_type": "markdown",
   "metadata": {},
   "source": [
    "Первый регион:\n",
    "\n",
    "    f0 и f1 - отрицательно коррелируют друг с другом\n",
    "    f2 и целевой признак - имеется корреляция 0.44\n",
    "\n",
    "Второй регион:\n",
    "\n",
    "    f2 и целевой признак - сильная корреляция\n",
    "    f1 и целевой признак - слабая корреляция\n",
    "    \n",
    "Третий регион:\n",
    "\n",
    "    f2 и целевой признак - сильная корреляция\n",
    "    f1 и целевой признак - слабая корреляция\n",
    "    f2 и целевой признак - имеется корреляция 0.44"
   ]
  },
  {
   "cell_type": "markdown",
   "metadata": {},
   "source": [
    "## Обучение и проверка модели"
   ]
  },
  {
   "cell_type": "markdown",
   "metadata": {},
   "source": [
    "### Разбейте данные на обучающую и валидационную выборки в соотношении 75:25"
   ]
  },
  {
   "cell_type": "code",
   "execution_count": 14,
   "metadata": {},
   "outputs": [],
   "source": [
    "scaler = StandardScaler()\n",
    "\n",
    "# Функция разделения целевого показателя и признаком на тренировочные и валидационные выборки\n",
    "def data_separation(data):\n",
    "    \n",
    "    target = data['product']\n",
    "    features = data.drop(['product'], axis=1)\n",
    "    \n",
    "    features_train, features_test, target_train, target_test = train_test_split(features, \n",
    "                                                                                target, \n",
    "                                                                                test_size=0.25, \n",
    "                                                                                random_state=12345)\n",
    "    scaler.fit(features_train)\n",
    "    features_train = scaler.transform(features_train)\n",
    "    features_test = scaler.transform(features_test)\n",
    "\n",
    "    return features_train, features_test, target_train, target_test"
   ]
  },
  {
   "cell_type": "code",
   "execution_count": 15,
   "metadata": {},
   "outputs": [],
   "source": [
    "features_train_reg_1, features_test_reg_1, target_train_reg_1, target_test_reg_1 = data_separation(region_iqr_list['region 1'])\n",
    "features_train_reg_2, features_test_reg_2, target_train_reg_2, target_test_reg_2 = data_separation(region_iqr_list['region 2'])\n",
    "features_train_reg_3, features_test_reg_3, target_train_reg_3, target_test_reg_3 = data_separation(region_iqr_list['region 3'])\n",
    "\n",
    "target = {}\n",
    "\n",
    "target['region_1'] = target_test_reg_1\n",
    "target['region_2'] = target_test_reg_2\n",
    "target['region_3'] = target_test_reg_3"
   ]
  },
  {
   "cell_type": "markdown",
   "metadata": {},
   "source": [
    "### Поиск наилучшей модели модели"
   ]
  },
  {
   "cell_type": "code",
   "execution_count": 16,
   "metadata": {},
   "outputs": [],
   "source": [
    "    lr = LinearRegression()\n",
    "    ridge = Ridge()\n",
    "    lasso = Lasso()\n",
    "    model_list = [lr, ridge, lasso]"
   ]
  },
  {
   "cell_type": "code",
   "execution_count": 17,
   "metadata": {},
   "outputs": [],
   "source": [
    " # Функция для построения результирующей таблицы результатов для разных моделей  \n",
    "def statistic_table (region_list, model_list):\n",
    "    \n",
    "    table = pd.DataFrame()\n",
    "    i = 0\n",
    "    \n",
    "    for key, value in region_list.items(): # обход словаря датасетов\n",
    "        \n",
    "        features_train, features_test, target_train, target_test = data_separation(value) # разделение данных\n",
    "        \n",
    "        for model in model_list: # обход списка моделей\n",
    "            \n",
    "             # обучение, предсказание \n",
    "            carrent_model = model\n",
    "            model.fit(features_train, target_train) \n",
    "            predict = model.predict(features_test)\n",
    "            \n",
    "            # расчет метрик \n",
    "            rmse = np.sqrt(metrics.mean_squared_error(target_test, predict))\n",
    "            mean_well_capacity_predict = predict.mean()\n",
    "            mean_well_capacity_real =  target_test.mean()\n",
    "            \n",
    "             # заполнение таблицы\n",
    "            table.loc[i, 'region'] = key\n",
    "            table.loc[i, 'model'] = model\n",
    "            table.loc[i, 'rmse'] = rmse\n",
    "            table.loc[i, 'real_mean_capacity'] = mean_well_capacity_real\n",
    "            table.loc[i, 'predict_mean_capacity'] = mean_well_capacity_predict\n",
    "            \n",
    "            i += 1\n",
    "        \n",
    "    return table   "
   ]
  },
  {
   "cell_type": "code",
   "execution_count": 18,
   "metadata": {},
   "outputs": [
    {
     "data": {
      "text/html": [
       "<div>\n",
       "<style scoped>\n",
       "    .dataframe tbody tr th:only-of-type {\n",
       "        vertical-align: middle;\n",
       "    }\n",
       "\n",
       "    .dataframe tbody tr th {\n",
       "        vertical-align: top;\n",
       "    }\n",
       "\n",
       "    .dataframe thead th {\n",
       "        text-align: right;\n",
       "    }\n",
       "</style>\n",
       "<table border=\"1\" class=\"dataframe\">\n",
       "  <thead>\n",
       "    <tr style=\"text-align: right;\">\n",
       "      <th></th>\n",
       "      <th>region</th>\n",
       "      <th>model</th>\n",
       "      <th>rmse</th>\n",
       "      <th>real_mean_capacity</th>\n",
       "      <th>predict_mean_capacity</th>\n",
       "    </tr>\n",
       "  </thead>\n",
       "  <tbody>\n",
       "    <tr>\n",
       "      <th>0</th>\n",
       "      <td>region 1</td>\n",
       "      <td>LinearRegression()</td>\n",
       "      <td>37.922931</td>\n",
       "      <td>92.237804</td>\n",
       "      <td>92.724768</td>\n",
       "    </tr>\n",
       "    <tr>\n",
       "      <th>1</th>\n",
       "      <td>region 1</td>\n",
       "      <td>Ridge()</td>\n",
       "      <td>37.922930</td>\n",
       "      <td>92.237804</td>\n",
       "      <td>92.724767</td>\n",
       "    </tr>\n",
       "    <tr>\n",
       "      <th>2</th>\n",
       "      <td>region 1</td>\n",
       "      <td>Lasso()</td>\n",
       "      <td>37.947700</td>\n",
       "      <td>92.237804</td>\n",
       "      <td>92.709311</td>\n",
       "    </tr>\n",
       "    <tr>\n",
       "      <th>3</th>\n",
       "      <td>region 2</td>\n",
       "      <td>LinearRegression()</td>\n",
       "      <td>0.889031</td>\n",
       "      <td>68.576334</td>\n",
       "      <td>68.571559</td>\n",
       "    </tr>\n",
       "    <tr>\n",
       "      <th>4</th>\n",
       "      <td>region 2</td>\n",
       "      <td>Ridge()</td>\n",
       "      <td>0.889032</td>\n",
       "      <td>68.576334</td>\n",
       "      <td>68.571564</td>\n",
       "    </tr>\n",
       "    <tr>\n",
       "      <th>5</th>\n",
       "      <td>region 2</td>\n",
       "      <td>Lasso()</td>\n",
       "      <td>1.676011</td>\n",
       "      <td>68.576334</td>\n",
       "      <td>68.576056</td>\n",
       "    </tr>\n",
       "    <tr>\n",
       "      <th>6</th>\n",
       "      <td>region 3</td>\n",
       "      <td>LinearRegression()</td>\n",
       "      <td>40.176797</td>\n",
       "      <td>94.798518</td>\n",
       "      <td>94.677169</td>\n",
       "    </tr>\n",
       "    <tr>\n",
       "      <th>7</th>\n",
       "      <td>region 3</td>\n",
       "      <td>Ridge()</td>\n",
       "      <td>40.176798</td>\n",
       "      <td>94.798518</td>\n",
       "      <td>94.677171</td>\n",
       "    </tr>\n",
       "    <tr>\n",
       "      <th>8</th>\n",
       "      <td>region 3</td>\n",
       "      <td>Lasso()</td>\n",
       "      <td>40.192911</td>\n",
       "      <td>94.798518</td>\n",
       "      <td>94.683617</td>\n",
       "    </tr>\n",
       "  </tbody>\n",
       "</table>\n",
       "</div>"
      ],
      "text/plain": [
       "     region               model       rmse  real_mean_capacity  \\\n",
       "0  region 1  LinearRegression()  37.922931           92.237804   \n",
       "1  region 1             Ridge()  37.922930           92.237804   \n",
       "2  region 1             Lasso()  37.947700           92.237804   \n",
       "3  region 2  LinearRegression()   0.889031           68.576334   \n",
       "4  region 2             Ridge()   0.889032           68.576334   \n",
       "5  region 2             Lasso()   1.676011           68.576334   \n",
       "6  region 3  LinearRegression()  40.176797           94.798518   \n",
       "7  region 3             Ridge()  40.176798           94.798518   \n",
       "8  region 3             Lasso()  40.192911           94.798518   \n",
       "\n",
       "   predict_mean_capacity  \n",
       "0              92.724768  \n",
       "1              92.724767  \n",
       "2              92.709311  \n",
       "3              68.571559  \n",
       "4              68.571564  \n",
       "5              68.576056  \n",
       "6              94.677169  \n",
       "7              94.677171  \n",
       "8              94.683617  "
      ]
     },
     "execution_count": 18,
     "metadata": {},
     "output_type": "execute_result"
    }
   ],
   "source": [
    "statistic_table(region_iqr_list, model_list)"
   ]
  },
  {
   "cell_type": "markdown",
   "metadata": {},
   "source": [
    "По результатам тестирования указанных в таблице выше: все три модели показали одинаковый результат с незначительными отклонениями, мы будем в дальнейщем использовать LinearRegression()"
   ]
  },
  {
   "cell_type": "markdown",
   "metadata": {},
   "source": [
    "### Обучите модель и сделайте предсказания на валидационной выборке."
   ]
  },
  {
   "cell_type": "markdown",
   "metadata": {},
   "source": [
    "#### Region 1"
   ]
  },
  {
   "cell_type": "code",
   "execution_count": 19,
   "metadata": {},
   "outputs": [],
   "source": [
    " # Функция визуализации работы модели\n",
    "def model_visualization(target, y_pred):\n",
    "    \n",
    "     # компоновка, упорядочивание данных\n",
    "    table = pd.concat([target.reset_index(drop=True), y_pred], axis=1 )\n",
    "    table = (table.rename(columns={'product': 'target', 0: 'predict'})\n",
    "                  .sort_values(by='target')\n",
    "                  .reset_index(drop=True)\n",
    "    )\n",
    "    \n",
    "     # выборка данных\n",
    "    predict = table['predict'][0:len(table):1]\n",
    "    target = table['target'][0:len(table):1]\n",
    "    \n",
    "     # градиентная окраска\n",
    "    x = list(range(0, len(predict)))\n",
    "    y = predict\n",
    "    xy = np.vstack([x,y])\n",
    "    z = gaussian_kde(xy)(xy)\n",
    "    \n",
    "     # построение диаграммы\n",
    "    plt.figure(figsize=(10, 5), dpi=80)\n",
    "    plt.scatter(list(range(0,len(predict))), predict, c=z, s=15)\n",
    "    plt.scatter(list(range(0,len(predict))), target, alpha=0.1, color='red', s=10)\n",
    "\n",
    "    plt.show()"
   ]
  },
  {
   "cell_type": "code",
   "execution_count": 20,
   "metadata": {},
   "outputs": [
    {
     "name": "stdout",
     "output_type": "stream",
     "text": [
      "Точность модели LinearRegression() на тренировочной выборке составила:       -1418.6565307547871 с параметрами       {'lr__copy_X': True, 'lr__fit_intercept': True, 'lr__normalize': True, 'lr__positive': False}\n",
      "RMSE: 37.922930890531454\n"
     ]
    }
   ],
   "source": [
    "prediction = {}\n",
    "\n",
    "\n",
    "pipe = Pipeline(steps=[('lr', lr)])\n",
    "\n",
    "\n",
    " # Задаем решетку параметров пайплайна\n",
    "param_grid = {'lr__copy_X': [True, False],\n",
    "             'lr__fit_intercept': [True, False],\n",
    "             'lr__normalize': [True, False],\n",
    "             'lr__positive': [True, False]}\n",
    "\n",
    " # Создаем grid_search и передаем ему пайплайн, решетку параметров, также используем кросс-валидацию результата    \n",
    "grid_search_cv_lr = GridSearchCV(pipe, param_grid, n_jobs=8, cv=5, scoring=\"neg_mean_squared_error\")\n",
    "\n",
    " # Обучаем модель на тренировочной части выборки:\n",
    "grid_search_cv_lr.fit(features_train_reg_1, target_train_reg_1)\n",
    "\n",
    "best_params_lr_region_1 = grid_search_cv_lr.best_params_ # Лучшие параметры\n",
    "best_lr_region_1 = grid_search_cv_lr.best_estimator_ # Лучшая модель\n",
    "best_lr_score_region_1 = grid_search_cv_lr.best_score_ # Лучший результат\n",
    "\n",
    "\n",
    "prediction__region_1 = best_lr_region_1.predict(features_test_reg_1)\n",
    "prediction['region_1'] = prediction__region_1\n",
    "rmse = np.sqrt(metrics.mean_squared_error(target_test_reg_1, prediction__region_1))\n",
    "\n",
    "print(f'Точность модели {lr} на тренировочной выборке составила: \\\n",
    "      {best_lr_score_region_1} с параметрами \\\n",
    "      {best_params_lr_region_1}')\n",
    "print(f'RMSE: {rmse}')"
   ]
  },
  {
   "cell_type": "code",
   "execution_count": 21,
   "metadata": {},
   "outputs": [
    {
     "data": {
      "image/png": "[encoded data removed]",
      "text/plain": [
       "<Figure size 800x400 with 1 Axes>"
      ]
     },
     "metadata": {
      "needs_background": "light"
     },
     "output_type": "display_data"
    }
   ],
   "source": [
    "target_region_1 = pd.DataFrame(target_test_reg_1)\n",
    "pred_region_1 = pd.DataFrame(prediction__region_1)\n",
    "model_visualization(target_region_1, pred_region_1)"
   ]
  },
  {
   "cell_type": "markdown",
   "metadata": {},
   "source": [
    "Модель для региона 1 имееет RMSE 38, судя по графику модель слабо передает целевой признак, только при значениях целевого признака 75 - 100 модель хорошо работает, а в остальном: при меньших показания целевого признакаа модель ошибается в большую сторону а при больших соответсвенно в меньшую. "
   ]
  },
  {
   "cell_type": "markdown",
   "metadata": {},
   "source": [
    "#### Region 2"
   ]
  },
  {
   "cell_type": "code",
   "execution_count": 22,
   "metadata": {},
   "outputs": [
    {
     "name": "stdout",
     "output_type": "stream",
     "text": [
      "Точность модели LinearRegression() на тренировочной выборке составила:      -0.7942086542631314 с параметрами      {'lr__copy_X': True, 'lr__fit_intercept': True, 'lr__normalize': False, 'lr__positive': False}\n",
      "RMSE: 0.8890307022067054\n"
     ]
    }
   ],
   "source": [
    " # Обучаем модель на тренировочной части выборки:\n",
    "grid_search_cv_lr.fit(features_train_reg_2, target_train_reg_2)\n",
    "\n",
    "best_params_lr_region_2 = grid_search_cv_lr.best_params_ # Лучшие параметры\n",
    "best_lr_region_2 = grid_search_cv_lr.best_estimator_ # Лучшая модель\n",
    "best_lr_score_region_2 = grid_search_cv_lr.best_score_ # Лучший результат\n",
    "\n",
    "prediction__region_2 = best_lr_region_2.predict(features_test_reg_2)\n",
    "prediction['region_2'] = prediction__region_2\n",
    "rmse = np.sqrt(metrics.mean_squared_error(target_test_reg_2, prediction__region_2))\n",
    "\n",
    "print(f'Точность модели {lr} на тренировочной выборке составила: \\\n",
    "      {best_lr_score_region_2} с параметрами \\\n",
    "      {best_params_lr_region_2}')\n",
    "print(f'RMSE: {rmse}')"
   ]
  },
  {
   "cell_type": "code",
   "execution_count": 23,
   "metadata": {},
   "outputs": [
    {
     "data": {
      "image/png": "[encoded data removed]",
      "text/plain": [
       "<Figure size 800x400 with 1 Axes>"
      ]
     },
     "metadata": {
      "needs_background": "light"
     },
     "output_type": "display_data"
    }
   ],
   "source": [
    "target_region_2 = pd.DataFrame(target_test_reg_2)\n",
    "pred_region_2 = pd.DataFrame(prediction__region_2)\n",
    "model_visualization(target_region_2, pred_region_2)"
   ]
  },
  {
   "cell_type": "markdown",
   "metadata": {},
   "source": [
    "Во втором регионе распределение данных очень странное, данные больше похожи на синтетические - требуется консультация с ответсвенными за выгрузку данных, модель хорошо обучилась и довольно точно предсказывает результат."
   ]
  },
  {
   "cell_type": "markdown",
   "metadata": {},
   "source": [
    "#### Region 3"
   ]
  },
  {
   "cell_type": "code",
   "execution_count": 24,
   "metadata": {},
   "outputs": [
    {
     "name": "stdout",
     "output_type": "stream",
     "text": [
      "Точность модели LinearRegression() на тренировочной выборке составила:      -1606.0949872791546 с параметрами      {'lr__copy_X': True, 'lr__fit_intercept': True, 'lr__normalize': False, 'lr__positive': True}\n",
      "RMSE: 40.17695046244152\n"
     ]
    }
   ],
   "source": [
    " # Обучаем модель на тренировочной части выборки:\n",
    "grid_search_cv_lr.fit(features_train_reg_3, target_train_reg_3)\n",
    "\n",
    "best_params_lr_region_3 = grid_search_cv_lr.best_params_ # Лучшие параметры\n",
    "best_lr_region_3 = grid_search_cv_lr.best_estimator_ # Лучшая модель\n",
    "best_lr_score_region_3 = grid_search_cv_lr.best_score_ # Лучший результат\n",
    "\n",
    "prediction__region_3 = best_lr_region_3.predict(features_test_reg_3)\n",
    "prediction['region_3'] = prediction__region_3\n",
    "rmse = np.sqrt(metrics.mean_squared_error(target_test_reg_3, prediction__region_3))\n",
    "\n",
    "print(f'Точность модели {lr} на тренировочной выборке составила: \\\n",
    "      {best_lr_score_region_3} с параметрами \\\n",
    "      {best_params_lr_region_3}')\n",
    "print(f'RMSE: {rmse}')"
   ]
  },
  {
   "cell_type": "code",
   "execution_count": 25,
   "metadata": {},
   "outputs": [
    {
     "data": {
      "image/png": "[encoded data removed]",
      "text/plain": [
       "<Figure size 800x400 with 1 Axes>"
      ]
     },
     "metadata": {
      "needs_background": "light"
     },
     "output_type": "display_data"
    }
   ],
   "source": [
    "target_region_3 = pd.DataFrame(target_test_reg_3)\n",
    "pred_region_3 = pd.DataFrame(prediction__region_3)\n",
    "model_visualization(target_region_3, pred_region_3)"
   ]
  },
  {
   "cell_type": "markdown",
   "metadata": {},
   "source": [
    "RMSE модели составило 40, модель ведет себя также как и модель первого региона."
   ]
  },
  {
   "cell_type": "markdown",
   "metadata": {},
   "source": [
    "### Напечатайте на экране средний запас предсказанного сырья и RMSE модели"
   ]
  },
  {
   "cell_type": "code",
   "execution_count": 26,
   "metadata": {},
   "outputs": [],
   "source": [
    "pivot_table = pd.DataFrame()\n",
    "i = 1   \n",
    "\n",
    "for key, value in prediction.items():\n",
    "    pivot_table.loc[i, 'model'] = lr\n",
    "    pivot_table.loc[i, 'region'] = 'Region_' + str(i)\n",
    "    pivot_table.loc[i, 'mean_predict_capacity'] = value.mean()\n",
    "    pivot_table.loc[i, 'mean_real_capacity'] = target[key].mean() \n",
    "    pivot_table.loc[i, 'rmse'] = np.sqrt(metrics.mean_squared_error(target[key], value))\n",
    "    i += 1"
   ]
  },
  {
   "cell_type": "code",
   "execution_count": 27,
   "metadata": {},
   "outputs": [
    {
     "data": {
      "text/html": [
       "<div>\n",
       "<style scoped>\n",
       "    .dataframe tbody tr th:only-of-type {\n",
       "        vertical-align: middle;\n",
       "    }\n",
       "\n",
       "    .dataframe tbody tr th {\n",
       "        vertical-align: top;\n",
       "    }\n",
       "\n",
       "    .dataframe thead th {\n",
       "        text-align: right;\n",
       "    }\n",
       "</style>\n",
       "<table border=\"1\" class=\"dataframe\">\n",
       "  <thead>\n",
       "    <tr style=\"text-align: right;\">\n",
       "      <th></th>\n",
       "      <th>model</th>\n",
       "      <th>region</th>\n",
       "      <th>mean_predict_capacity</th>\n",
       "      <th>mean_real_capacity</th>\n",
       "      <th>rmse</th>\n",
       "    </tr>\n",
       "  </thead>\n",
       "  <tbody>\n",
       "    <tr>\n",
       "      <th>1</th>\n",
       "      <td>LinearRegression()</td>\n",
       "      <td>Region_1</td>\n",
       "      <td>92.724768</td>\n",
       "      <td>92.237804</td>\n",
       "      <td>37.922931</td>\n",
       "    </tr>\n",
       "    <tr>\n",
       "      <th>2</th>\n",
       "      <td>LinearRegression()</td>\n",
       "      <td>Region_2</td>\n",
       "      <td>68.571559</td>\n",
       "      <td>68.576334</td>\n",
       "      <td>0.889031</td>\n",
       "    </tr>\n",
       "    <tr>\n",
       "      <th>3</th>\n",
       "      <td>LinearRegression()</td>\n",
       "      <td>Region_3</td>\n",
       "      <td>94.678414</td>\n",
       "      <td>94.798518</td>\n",
       "      <td>40.176950</td>\n",
       "    </tr>\n",
       "  </tbody>\n",
       "</table>\n",
       "</div>"
      ],
      "text/plain": [
       "                model    region  mean_predict_capacity  mean_real_capacity  \\\n",
       "1  LinearRegression()  Region_1              92.724768           92.237804   \n",
       "2  LinearRegression()  Region_2              68.571559           68.576334   \n",
       "3  LinearRegression()  Region_3              94.678414           94.798518   \n",
       "\n",
       "        rmse  \n",
       "1  37.922931  \n",
       "2   0.889031  \n",
       "3  40.176950  "
      ]
     },
     "execution_count": 27,
     "metadata": {},
     "output_type": "execute_result"
    }
   ],
   "source": [
    "pivot_table"
   ]
  },
  {
   "cell_type": "markdown",
   "metadata": {},
   "source": [
    "### Проанализируйте результаты"
   ]
  },
  {
   "cell_type": "markdown",
   "metadata": {},
   "source": [
    "## Подготовка к расчёту прибыли"
   ]
  },
  {
   "cell_type": "code",
   "execution_count": 28,
   "metadata": {},
   "outputs": [],
   "source": [
    "param_dict = {'well_qnt': 500,\n",
    "              'top_well_qnt': 200,\n",
    "              'budget': 10**10,\n",
    "              'income_barrel': 450,\n",
    "              'loss_probability': 0.025}"
   ]
  },
  {
   "cell_type": "code",
   "execution_count": 29,
   "metadata": {},
   "outputs": [
    {
     "name": "stdout",
     "output_type": "stream",
     "text": [
      "Средний запас сырья в скважине, для безубыточной разработки в регионе составляет 111.111 тыс. баррелей\n"
     ]
    }
   ],
   "source": [
    "sufficient_volume_region = round(param_dict['budget'] / param_dict['top_well_qnt'] / (param_dict['income_barrel'] * 10**3), 3)\n",
    "\n",
    "print(f'Средний запас сырья в скважине, для безубыточной разработки в регионе составляет {sufficient_volume_region} тыс. баррелей')"
   ]
  },
  {
   "cell_type": "markdown",
   "metadata": {},
   "source": [
    "## Расчёт прибыли и рисков "
   ]
  },
  {
   "cell_type": "code",
   "execution_count": 30,
   "metadata": {},
   "outputs": [],
   "source": [
    "def profit_calculation(target, prediction, top_well_qnt, budget, income_barrel):\n",
    "    \n",
    "    prediction_sort = prediction.sort_values(ascending=False)\n",
    "    top = target[prediction_sort.index][:top_well_qnt]\n",
    "    revenue = income_barrel * 10**3 * top.sum()\n",
    "    profit = revenue - budget\n",
    "    return profit"
   ]
  },
  {
   "cell_type": "code",
   "execution_count": 31,
   "metadata": {},
   "outputs": [],
   "source": [
    "def region_analysis(target, predictions, param, region_name):\n",
    "    \n",
    "    values = []\n",
    "    state = np.random.RandomState(12345)\n",
    "    \n",
    "    for key, value in param.items():\n",
    "        \n",
    "        if key == 'well_qnt':\n",
    "            well_qnt = value\n",
    "        elif key == 'top_well_qnt':\n",
    "            top_well_qnt = value\n",
    "        elif key == 'budget':\n",
    "            budget = value\n",
    "        elif key == 'income_barrel':\n",
    "            income_barrel = value\n",
    "        elif key == 'loss_probability':\n",
    "            loss_probability = value\n",
    "            \n",
    "    for i in range(1000):\n",
    "        target_subsample = (target.reset_index(drop=True)\n",
    "                                 .sample(n=well_qnt, \n",
    "                                         replace=False, \n",
    "                                         random_state=state)\n",
    "        )\n",
    "        pred_subsample = predictions[target_subsample.index]\n",
    "        value = profit_calculation(target_subsample, pred_subsample, top_well_qnt, budget, income_barrel)\n",
    "        values.append(value)\n",
    "        \n",
    "    values = pd.Series(values)\n",
    "    risk = (values < 0).mean()\n",
    "        \n",
    "    lower = values.quantile(loss_probability)\n",
    "    upper = values.quantile(1 - loss_probability)\n",
    "        \n",
    "    print(f'Средняя прибыль в {region_name}: {round(values.mean(), 2)} млн. руб')\n",
    "    print(f'95% доверительный интервал: ({lower}, {upper})')\n",
    "    print(f'Риск убытков: {risk * 100}')\n",
    "        \n",
    "    if risk <= loss_probability:\n",
    "        print('Риск убытков меньше необходимого значения. Регион можно оставить.')\n",
    "    else:\n",
    "        print('Риск убытков больше необходимого значения.')\n",
    "    print( )"
   ]
  },
  {
   "cell_type": "code",
   "execution_count": 32,
   "metadata": {},
   "outputs": [],
   "source": [
    "def common_analysis(region_dict, param):\n",
    "    for key, value in region_dict.items():\n",
    "        target = value['product']\n",
    "        features = value.drop(['product'], axis=1)\n",
    "        features = scaler.fit_transform(features)\n",
    "        features_train, features_test, target_train, target_test = train_test_split(features, \n",
    "                                                                            target, \n",
    "                                                                            test_size=0.25, \n",
    "                                                                            random_state=12345)\n",
    "        pipe = Pipeline(steps=[('lr', lr)]) # Создаем пайплайн\n",
    "\n",
    "        # Задаем решетку параметров пайплайна\n",
    "        param_grid = {'lr__copy_X':[True, False],\n",
    "             'lr__fit_intercept':[True, False],\n",
    "             'lr__normalize':[True, False],\n",
    "             'lr__positive':[True, False]}\n",
    "\n",
    "        # Создаем нашу модель и передаем ей пайплайн, решетку параметров, также используем кросс-валидацию результата    \n",
    "        grid_search_cv_lr = GridSearchCV(pipe, param_grid, n_jobs=8, cv=5, scoring=\"neg_mean_squared_error\")\n",
    "\n",
    "        # Обучаем модель на тренировочной части выборки:\n",
    "        grid_search_cv_lr.fit(features_train, target_train)\n",
    "        best_lr = grid_search_cv_lr.best_estimator_ # Лучшая модель\n",
    "        predictions = pd.Series(best_lr.predict(features_test))\n",
    "        region_analysis(pd.Series(target_test), predictions, param, key)\n",
    "        "
   ]
  },
  {
   "cell_type": "code",
   "execution_count": 33,
   "metadata": {},
   "outputs": [
    {
     "name": "stdout",
     "output_type": "stream",
     "text": [
      "Средняя прибыль в region 1: 369846681.96 млн. руб\n",
      "95% доверительный интервал: (-155696070.04446873, 908556013.2387173)\n",
      "Риск убытков: 7.7\n",
      "Риск убытков больше необходимого значения.\n",
      "\n",
      "Средняя прибыль в region 2: 438002489.19 млн. руб\n",
      "95% доверительный интервал: (28194534.490594104, 827952214.1503843)\n",
      "Риск убытков: 1.6\n",
      "Риск убытков меньше необходимого значения. Регион можно оставить.\n",
      "\n",
      "Средняя прибыль в region 3: 358450010.6 млн. руб\n",
      "95% доверительный интервал: (-177744011.27741998, 854312520.3199828)\n",
      "Риск убытков: 8.200000000000001\n",
      "Риск убытков больше необходимого значения.\n",
      "\n"
     ]
    }
   ],
   "source": [
    "common_analysis(region_iqr_list, param_dict)"
   ]
  },
  {
   "cell_type": "markdown",
   "metadata": {},
   "source": [
    "## Общий вывод"
   ]
  },
  {
   "cell_type": "markdown",
   "metadata": {},
   "source": [
    "Мы ознакомились и предобработали данные, иизбавились от выбросов в значениях, разбили данные на тренировочные и валидационные выборки, определили и обучили модель линейной регрессии для каждого региона.\n",
    " \n",
    "При анализе - обратили внимание на странное распределение данных во втором регионе.\n",
    "\n",
    "Рассчитали среднее содержание сырья для безубыточной добычи в регионе.\n",
    "\n",
    "При помощи методики Bootstrap нашли распределение прибыли.\n",
    "\n",
    "Для разработки подходит регион номер 2 с метриками:\n",
    "\n",
    "    Средняя прибыль: 438002489.19 млн. руб\n",
    "    95% доверительный интервал: (28194534.490594104, 827952214.1503843)\n",
    "    Риск убытков: 1.6"
   ]
  }
 ],
 "metadata": {
  "ExecuteTimeLog": [
   {
    "duration": 50,
    "start_time": "2022-10-06T06:59:49.397Z"
   },
   {
    "duration": 5,
    "start_time": "2022-10-06T06:59:53.709Z"
   },
   {
    "duration": 385,
    "start_time": "2022-10-06T07:00:10.243Z"
   },
   {
    "duration": 360,
    "start_time": "2022-10-06T07:00:10.668Z"
   },
   {
    "duration": 19,
    "start_time": "2022-10-06T07:00:12.764Z"
   },
   {
    "duration": 496,
    "start_time": "2022-10-06T07:00:59.477Z"
   },
   {
    "duration": 11,
    "start_time": "2022-10-06T07:01:00.196Z"
   },
   {
    "duration": 9,
    "start_time": "2022-10-06T07:01:11.157Z"
   },
   {
    "duration": 8,
    "start_time": "2022-10-06T07:01:18.677Z"
   },
   {
    "duration": 20,
    "start_time": "2022-10-06T07:01:40.068Z"
   },
   {
    "duration": 20,
    "start_time": "2022-10-06T07:03:51.957Z"
   },
   {
    "duration": 21,
    "start_time": "2022-10-06T07:04:09.317Z"
   },
   {
    "duration": 34,
    "start_time": "2022-10-06T07:05:08.685Z"
   },
   {
    "duration": 5,
    "start_time": "2022-10-06T07:06:18.756Z"
   },
   {
    "duration": 31,
    "start_time": "2022-10-06T07:06:35.229Z"
   },
   {
    "duration": 18,
    "start_time": "2022-10-06T07:06:41.396Z"
   },
   {
    "duration": 12,
    "start_time": "2022-10-06T07:06:54.551Z"
   },
   {
    "duration": 8,
    "start_time": "2022-10-06T07:09:59.508Z"
   },
   {
    "duration": 23,
    "start_time": "2022-10-06T07:10:07.116Z"
   },
   {
    "duration": 50,
    "start_time": "2022-10-06T07:10:52.779Z"
   },
   {
    "duration": 13,
    "start_time": "2022-10-06T07:10:59.596Z"
   },
   {
    "duration": 19,
    "start_time": "2022-10-06T07:11:16.539Z"
   },
   {
    "duration": 21,
    "start_time": "2022-10-06T07:12:19.748Z"
   },
   {
    "duration": 15,
    "start_time": "2022-10-06T07:12:42.795Z"
   },
   {
    "duration": 18,
    "start_time": "2022-10-06T07:12:52.316Z"
   },
   {
    "duration": 22,
    "start_time": "2022-10-06T07:13:37.916Z"
   },
   {
    "duration": 22,
    "start_time": "2022-10-06T07:15:41.099Z"
   },
   {
    "duration": 8,
    "start_time": "2022-10-06T07:16:57.009Z"
   },
   {
    "duration": 49,
    "start_time": "2022-10-06T07:17:58.784Z"
   },
   {
    "duration": 50,
    "start_time": "2022-10-06T07:18:09.273Z"
   },
   {
    "duration": 22,
    "start_time": "2022-10-06T07:18:29.351Z"
   },
   {
    "duration": 1631,
    "start_time": "2022-10-06T07:20:46.058Z"
   },
   {
    "duration": 13,
    "start_time": "2022-10-06T07:22:10.215Z"
   },
   {
    "duration": 7,
    "start_time": "2022-10-06T08:02:28.894Z"
   },
   {
    "duration": 1611,
    "start_time": "2022-10-06T08:02:35.711Z"
   },
   {
    "duration": 1567,
    "start_time": "2022-10-06T08:02:59.453Z"
   },
   {
    "duration": 1726,
    "start_time": "2022-10-06T08:03:14.495Z"
   },
   {
    "duration": 62,
    "start_time": "2022-10-06T08:05:05.302Z"
   },
   {
    "duration": 69,
    "start_time": "2022-10-06T08:05:16.341Z"
   },
   {
    "duration": 27,
    "start_time": "2022-10-06T08:05:20.820Z"
   },
   {
    "duration": 7,
    "start_time": "2022-10-06T08:05:48.907Z"
   },
   {
    "duration": 151,
    "start_time": "2022-10-06T08:05:57.388Z"
   },
   {
    "duration": 140,
    "start_time": "2022-10-06T08:06:01.227Z"
   },
   {
    "duration": 11,
    "start_time": "2022-10-06T08:06:21.085Z"
   },
   {
    "duration": 8,
    "start_time": "2022-10-06T08:09:40.740Z"
   },
   {
    "duration": 18,
    "start_time": "2022-10-06T08:10:02.428Z"
   },
   {
    "duration": 81,
    "start_time": "2022-10-06T08:10:25.084Z"
   },
   {
    "duration": 96,
    "start_time": "2022-10-06T08:10:37.380Z"
   },
   {
    "duration": 87,
    "start_time": "2022-10-06T08:10:44.275Z"
   },
   {
    "duration": 94,
    "start_time": "2022-10-06T08:10:52.427Z"
   },
   {
    "duration": 17,
    "start_time": "2022-10-06T08:11:51.869Z"
   },
   {
    "duration": 1580,
    "start_time": "2022-10-06T08:12:03.861Z"
   },
   {
    "duration": 1566,
    "start_time": "2022-10-06T08:12:08.990Z"
   },
   {
    "duration": 19,
    "start_time": "2022-10-06T08:12:30.509Z"
   },
   {
    "duration": 1544,
    "start_time": "2022-10-06T08:12:48.827Z"
   },
   {
    "duration": 9,
    "start_time": "2022-10-06T08:14:24.464Z"
   },
   {
    "duration": 17,
    "start_time": "2022-10-06T08:14:50.792Z"
   },
   {
    "duration": 11,
    "start_time": "2022-10-06T08:15:36.632Z"
   },
   {
    "duration": 6,
    "start_time": "2022-10-06T08:15:56.632Z"
   },
   {
    "duration": 8,
    "start_time": "2022-10-06T08:16:30.632Z"
   },
   {
    "duration": 2,
    "start_time": "2022-10-06T08:16:48.552Z"
   },
   {
    "duration": 19,
    "start_time": "2022-10-06T08:16:58.632Z"
   },
   {
    "duration": 7,
    "start_time": "2022-10-06T08:17:14.623Z"
   },
   {
    "duration": 18,
    "start_time": "2022-10-06T08:17:15.423Z"
   },
   {
    "duration": 8,
    "start_time": "2022-10-06T08:17:29.904Z"
   },
   {
    "duration": 18,
    "start_time": "2022-10-06T08:17:30.480Z"
   },
   {
    "duration": 11,
    "start_time": "2022-10-06T08:18:03.760Z"
   },
   {
    "duration": 401,
    "start_time": "2022-10-06T08:18:28.576Z"
   },
   {
    "duration": 355,
    "start_time": "2022-10-06T08:18:28.979Z"
   },
   {
    "duration": 25,
    "start_time": "2022-10-06T08:18:29.336Z"
   },
   {
    "duration": 103,
    "start_time": "2022-10-06T08:18:29.363Z"
   },
   {
    "duration": 14,
    "start_time": "2022-10-06T08:18:29.468Z"
   },
   {
    "duration": 1512,
    "start_time": "2022-10-06T08:18:29.484Z"
   },
   {
    "duration": 25,
    "start_time": "2022-10-06T08:18:30.997Z"
   },
   {
    "duration": 1634,
    "start_time": "2022-10-06T08:18:31.024Z"
   },
   {
    "duration": 20,
    "start_time": "2022-10-06T08:18:32.660Z"
   },
   {
    "duration": 1585,
    "start_time": "2022-10-06T08:18:32.682Z"
   },
   {
    "duration": 6,
    "start_time": "2022-10-06T08:18:34.269Z"
   },
   {
    "duration": 18,
    "start_time": "2022-10-06T08:18:34.277Z"
   },
   {
    "duration": 77,
    "start_time": "2022-10-06T08:18:57.423Z"
   },
   {
    "duration": 419,
    "start_time": "2022-10-06T08:19:03.106Z"
   },
   {
    "duration": 366,
    "start_time": "2022-10-06T08:19:03.527Z"
   },
   {
    "duration": 28,
    "start_time": "2022-10-06T08:19:03.896Z"
   },
   {
    "duration": 106,
    "start_time": "2022-10-06T08:19:03.926Z"
   },
   {
    "duration": 15,
    "start_time": "2022-10-06T08:19:04.034Z"
   },
   {
    "duration": 1610,
    "start_time": "2022-10-06T08:19:04.050Z"
   },
   {
    "duration": 18,
    "start_time": "2022-10-06T08:19:05.661Z"
   },
   {
    "duration": 1531,
    "start_time": "2022-10-06T08:19:05.681Z"
   },
   {
    "duration": 19,
    "start_time": "2022-10-06T08:19:07.213Z"
   },
   {
    "duration": 1538,
    "start_time": "2022-10-06T08:19:07.234Z"
   },
   {
    "duration": 9,
    "start_time": "2022-10-06T08:19:08.774Z"
   },
   {
    "duration": 32,
    "start_time": "2022-10-06T08:19:08.785Z"
   },
   {
    "duration": 9,
    "start_time": "2022-10-06T08:19:47.672Z"
   },
   {
    "duration": 10,
    "start_time": "2022-10-06T08:19:50.239Z"
   },
   {
    "duration": 42,
    "start_time": "2022-10-06T08:21:17.512Z"
   },
   {
    "duration": 26,
    "start_time": "2022-10-06T08:21:21.511Z"
   },
   {
    "duration": 35,
    "start_time": "2022-10-06T08:21:24.791Z"
   },
   {
    "duration": 71,
    "start_time": "2022-10-06T08:45:38.311Z"
   },
   {
    "duration": 406,
    "start_time": "2022-10-06T08:45:55.767Z"
   },
   {
    "duration": 20,
    "start_time": "2022-10-06T08:46:00.703Z"
   },
   {
    "duration": 10,
    "start_time": "2022-10-06T08:46:14.063Z"
   },
   {
    "duration": 482,
    "start_time": "2022-10-06T08:46:34.543Z"
   },
   {
    "duration": 52,
    "start_time": "2022-10-06T13:12:02.469Z"
   },
   {
    "duration": 1340,
    "start_time": "2022-10-06T13:12:16.914Z"
   },
   {
    "duration": 781,
    "start_time": "2022-10-06T13:12:18.256Z"
   },
   {
    "duration": 29,
    "start_time": "2022-10-06T13:12:19.039Z"
   },
   {
    "duration": 116,
    "start_time": "2022-10-06T13:12:19.071Z"
   },
   {
    "duration": 18,
    "start_time": "2022-10-06T13:12:19.189Z"
   },
   {
    "duration": 1625,
    "start_time": "2022-10-06T13:12:19.208Z"
   },
   {
    "duration": 20,
    "start_time": "2022-10-06T13:12:20.835Z"
   },
   {
    "duration": 1675,
    "start_time": "2022-10-06T13:12:20.857Z"
   },
   {
    "duration": 19,
    "start_time": "2022-10-06T13:12:22.534Z"
   },
   {
    "duration": 1637,
    "start_time": "2022-10-06T13:12:22.556Z"
   },
   {
    "duration": 15,
    "start_time": "2022-10-06T13:12:24.195Z"
   },
   {
    "duration": 29,
    "start_time": "2022-10-06T13:12:24.212Z"
   },
   {
    "duration": 21,
    "start_time": "2022-10-06T13:12:24.243Z"
   },
   {
    "duration": 221,
    "start_time": "2022-10-06T13:12:24.266Z"
   },
   {
    "duration": 615,
    "start_time": "2022-10-06T13:13:36.587Z"
   },
   {
    "duration": 598,
    "start_time": "2022-10-06T13:14:02.874Z"
   },
   {
    "duration": 302,
    "start_time": "2022-10-06T13:15:19.661Z"
   },
   {
    "duration": 623,
    "start_time": "2022-10-06T13:15:25.826Z"
   },
   {
    "duration": 282,
    "start_time": "2022-10-06T13:16:03.488Z"
   },
   {
    "duration": 200,
    "start_time": "2022-10-06T13:16:19.747Z"
   },
   {
    "duration": 234,
    "start_time": "2022-10-06T13:16:35.267Z"
   },
   {
    "duration": 47,
    "start_time": "2022-10-07T05:06:52.680Z"
   },
   {
    "duration": 1282,
    "start_time": "2022-10-07T05:07:19.554Z"
   },
   {
    "duration": 718,
    "start_time": "2022-10-07T05:07:20.838Z"
   },
   {
    "duration": 24,
    "start_time": "2022-10-07T05:07:21.558Z"
   },
   {
    "duration": 97,
    "start_time": "2022-10-07T05:07:21.584Z"
   },
   {
    "duration": 15,
    "start_time": "2022-10-07T05:07:21.683Z"
   },
   {
    "duration": 1434,
    "start_time": "2022-10-07T05:07:21.700Z"
   },
   {
    "duration": 17,
    "start_time": "2022-10-07T05:07:23.135Z"
   },
   {
    "duration": 1443,
    "start_time": "2022-10-07T05:07:23.153Z"
   },
   {
    "duration": 16,
    "start_time": "2022-10-07T05:07:24.598Z"
   },
   {
    "duration": 1459,
    "start_time": "2022-10-07T05:07:24.616Z"
   },
   {
    "duration": 12,
    "start_time": "2022-10-07T05:07:26.077Z"
   },
   {
    "duration": 18,
    "start_time": "2022-10-07T05:07:26.091Z"
   },
   {
    "duration": 23,
    "start_time": "2022-10-07T05:07:26.110Z"
   },
   {
    "duration": 321,
    "start_time": "2022-10-07T05:07:26.136Z"
   },
   {
    "duration": 186,
    "start_time": "2022-10-07T05:07:26.459Z"
   },
   {
    "duration": 232,
    "start_time": "2022-10-07T05:07:26.647Z"
   },
   {
    "duration": 9,
    "start_time": "2022-10-07T05:07:26.881Z"
   },
   {
    "duration": 310,
    "start_time": "2022-10-07T05:08:34.389Z"
   },
   {
    "duration": 352,
    "start_time": "2022-10-07T05:08:54.536Z"
   },
   {
    "duration": 307,
    "start_time": "2022-10-07T05:09:09.096Z"
   },
   {
    "duration": 316,
    "start_time": "2022-10-07T05:09:14.927Z"
   },
   {
    "duration": 303,
    "start_time": "2022-10-07T05:09:20.474Z"
   },
   {
    "duration": 844,
    "start_time": "2022-10-07T05:10:27.971Z"
   },
   {
    "duration": 307,
    "start_time": "2022-10-07T05:10:51.468Z"
   },
   {
    "duration": 428,
    "start_time": "2022-10-07T05:11:29.368Z"
   },
   {
    "duration": 313,
    "start_time": "2022-10-07T05:11:42.920Z"
   },
   {
    "duration": 306,
    "start_time": "2022-10-07T05:12:19.649Z"
   },
   {
    "duration": 371,
    "start_time": "2022-10-07T05:12:46.212Z"
   },
   {
    "duration": 456,
    "start_time": "2022-10-07T05:14:22.836Z"
   },
   {
    "duration": 553,
    "start_time": "2022-10-07T05:17:20.360Z"
   },
   {
    "duration": 481,
    "start_time": "2022-10-07T05:18:10.094Z"
   },
   {
    "duration": 368,
    "start_time": "2022-10-07T05:18:25.433Z"
   },
   {
    "duration": 817,
    "start_time": "2022-10-07T05:18:30.934Z"
   },
   {
    "duration": 1387,
    "start_time": "2022-10-07T05:18:37.059Z"
   },
   {
    "duration": 261,
    "start_time": "2022-10-07T05:18:43.413Z"
   },
   {
    "duration": 204,
    "start_time": "2022-10-07T05:18:49.455Z"
   },
   {
    "duration": 493,
    "start_time": "2022-10-07T05:18:56.240Z"
   },
   {
    "duration": 254,
    "start_time": "2022-10-07T05:19:05.068Z"
   },
   {
    "duration": 207,
    "start_time": "2022-10-07T05:19:10.430Z"
   },
   {
    "duration": 153,
    "start_time": "2022-10-07T05:19:14.892Z"
   },
   {
    "duration": 161,
    "start_time": "2022-10-07T05:19:21.407Z"
   },
   {
    "duration": 182,
    "start_time": "2022-10-07T05:19:30.831Z"
   },
   {
    "duration": 151,
    "start_time": "2022-10-07T05:19:47.210Z"
   },
   {
    "duration": 148,
    "start_time": "2022-10-07T05:20:05.107Z"
   },
   {
    "duration": 94,
    "start_time": "2022-10-07T05:56:44.859Z"
   },
   {
    "duration": 401,
    "start_time": "2022-10-07T05:57:13.820Z"
   },
   {
    "duration": 3,
    "start_time": "2022-10-07T05:57:22.560Z"
   },
   {
    "duration": 3,
    "start_time": "2022-10-07T06:03:28.602Z"
   },
   {
    "duration": 12,
    "start_time": "2022-10-07T06:05:38.697Z"
   },
   {
    "duration": 5,
    "start_time": "2022-10-07T06:05:46.120Z"
   },
   {
    "duration": 20,
    "start_time": "2022-10-07T06:08:28.832Z"
   },
   {
    "duration": 10,
    "start_time": "2022-10-07T06:09:13.510Z"
   },
   {
    "duration": 6,
    "start_time": "2022-10-07T06:09:19.418Z"
   },
   {
    "duration": 15,
    "start_time": "2022-10-07T06:09:38.888Z"
   },
   {
    "duration": 10,
    "start_time": "2022-10-07T06:09:39.334Z"
   },
   {
    "duration": 4,
    "start_time": "2022-10-07T06:09:49.440Z"
   },
   {
    "duration": 3,
    "start_time": "2022-10-07T06:13:01.928Z"
   },
   {
    "duration": 12,
    "start_time": "2022-10-07T06:16:08.687Z"
   },
   {
    "duration": 14,
    "start_time": "2022-10-07T06:22:03.047Z"
   },
   {
    "duration": 14,
    "start_time": "2022-10-07T06:22:03.544Z"
   },
   {
    "duration": 23,
    "start_time": "2022-10-07T06:22:04.175Z"
   },
   {
    "duration": 4,
    "start_time": "2022-10-07T06:22:39.447Z"
   },
   {
    "duration": 10,
    "start_time": "2022-10-07T06:22:44.294Z"
   },
   {
    "duration": 4,
    "start_time": "2022-10-07T06:23:05.416Z"
   },
   {
    "duration": 5203,
    "start_time": "2022-10-07T06:23:10.612Z"
   },
   {
    "duration": 5604,
    "start_time": "2022-10-07T06:26:10.346Z"
   },
   {
    "duration": 11,
    "start_time": "2022-10-07T06:26:54.641Z"
   },
   {
    "duration": 2148,
    "start_time": "2022-10-07T06:26:56.197Z"
   },
   {
    "duration": 480,
    "start_time": "2022-10-07T06:27:47.748Z"
   },
   {
    "duration": 4763,
    "start_time": "2022-10-07T06:28:06.148Z"
   },
   {
    "duration": 4495,
    "start_time": "2022-10-07T06:28:35.752Z"
   },
   {
    "duration": 5191,
    "start_time": "2022-10-07T06:31:09.402Z"
   },
   {
    "duration": 4956,
    "start_time": "2022-10-07T06:31:20.440Z"
   },
   {
    "duration": 8351,
    "start_time": "2022-10-07T06:31:33.613Z"
   },
   {
    "duration": 309,
    "start_time": "2022-10-07T06:32:07.232Z"
   },
   {
    "duration": 946,
    "start_time": "2022-10-07T06:33:37.515Z"
   },
   {
    "duration": 13,
    "start_time": "2022-10-07T06:56:05.647Z"
   },
   {
    "duration": 12,
    "start_time": "2022-10-07T06:56:06.190Z"
   },
   {
    "duration": 8909,
    "start_time": "2022-10-07T06:56:08.567Z"
   },
   {
    "duration": 13,
    "start_time": "2022-10-07T06:56:43.032Z"
   },
   {
    "duration": 13,
    "start_time": "2022-10-07T06:56:43.804Z"
   },
   {
    "duration": 880,
    "start_time": "2022-10-07T06:56:44.988Z"
   },
   {
    "duration": 439,
    "start_time": "2022-10-07T07:32:01.487Z"
   },
   {
    "duration": 307,
    "start_time": "2022-10-07T07:32:21.287Z"
   },
   {
    "duration": 12,
    "start_time": "2022-10-07T07:40:25.013Z"
   },
   {
    "duration": 11,
    "start_time": "2022-10-07T07:40:25.493Z"
   },
   {
    "duration": 8639,
    "start_time": "2022-10-07T07:40:26.222Z"
   },
   {
    "duration": 64,
    "start_time": "2022-10-07T07:49:48.371Z"
   },
   {
    "duration": 11,
    "start_time": "2022-10-07T07:49:57.312Z"
   },
   {
    "duration": 9130,
    "start_time": "2022-10-07T07:49:57.823Z"
   },
   {
    "duration": 281,
    "start_time": "2022-10-07T07:50:06.958Z"
   },
   {
    "duration": 298,
    "start_time": "2022-10-07T07:50:14.780Z"
   },
   {
    "duration": 4,
    "start_time": "2022-10-07T07:50:59.341Z"
   },
   {
    "duration": 337,
    "start_time": "2022-10-07T07:51:04.330Z"
   },
   {
    "duration": 312,
    "start_time": "2022-10-07T07:54:13.456Z"
   },
   {
    "duration": 300,
    "start_time": "2022-10-07T07:54:26.309Z"
   },
   {
    "duration": 326,
    "start_time": "2022-10-07T07:54:51.537Z"
   },
   {
    "duration": 311,
    "start_time": "2022-10-07T07:55:04.948Z"
   },
   {
    "duration": 338,
    "start_time": "2022-10-07T07:55:14.521Z"
   },
   {
    "duration": 279,
    "start_time": "2022-10-07T07:55:24.677Z"
   },
   {
    "duration": 260,
    "start_time": "2022-10-07T07:55:40.990Z"
   },
   {
    "duration": 393,
    "start_time": "2022-10-07T07:55:57.665Z"
   },
   {
    "duration": 309,
    "start_time": "2022-10-07T07:56:03.546Z"
   },
   {
    "duration": 314,
    "start_time": "2022-10-07T07:56:08.023Z"
   },
   {
    "duration": 308,
    "start_time": "2022-10-07T07:56:20.646Z"
   },
   {
    "duration": 297,
    "start_time": "2022-10-07T07:57:11.058Z"
   },
   {
    "duration": 50,
    "start_time": "2022-10-07T07:57:23.031Z"
   },
   {
    "duration": 324,
    "start_time": "2022-10-07T07:57:27.942Z"
   },
   {
    "duration": 327,
    "start_time": "2022-10-07T07:57:37.943Z"
   },
   {
    "duration": 267,
    "start_time": "2022-10-07T07:57:43.499Z"
   },
   {
    "duration": 303,
    "start_time": "2022-10-07T07:58:24.308Z"
   },
   {
    "duration": 275,
    "start_time": "2022-10-07T07:59:09.096Z"
   },
   {
    "duration": 819,
    "start_time": "2022-10-07T07:59:36.962Z"
   },
   {
    "duration": 265,
    "start_time": "2022-10-07T07:59:43.305Z"
   },
   {
    "duration": 760,
    "start_time": "2022-10-07T08:00:06.960Z"
   },
   {
    "duration": 849,
    "start_time": "2022-10-07T08:00:19.752Z"
   },
   {
    "duration": 305,
    "start_time": "2022-10-07T08:00:34.270Z"
   },
   {
    "duration": 829,
    "start_time": "2022-10-07T08:00:40.374Z"
   },
   {
    "duration": 273,
    "start_time": "2022-10-07T08:01:02.062Z"
   },
   {
    "duration": 894,
    "start_time": "2022-10-07T08:01:12.709Z"
   },
   {
    "duration": 986,
    "start_time": "2022-10-07T08:02:11.156Z"
   },
   {
    "duration": 13,
    "start_time": "2022-10-07T08:02:55.580Z"
   },
   {
    "duration": 916,
    "start_time": "2022-10-07T08:03:05.540Z"
   },
   {
    "duration": 350,
    "start_time": "2022-10-07T08:04:28.357Z"
   },
   {
    "duration": 10,
    "start_time": "2022-10-07T08:04:44.756Z"
   },
   {
    "duration": 817,
    "start_time": "2022-10-07T08:04:50.228Z"
   },
   {
    "duration": 13,
    "start_time": "2022-10-07T08:05:40.099Z"
   },
   {
    "duration": 11,
    "start_time": "2022-10-07T08:05:40.667Z"
   },
   {
    "duration": 9914,
    "start_time": "2022-10-07T08:05:41.224Z"
   },
   {
    "duration": 843,
    "start_time": "2022-10-07T08:05:51.233Z"
   },
   {
    "duration": 853,
    "start_time": "2022-10-07T08:06:36.537Z"
   },
   {
    "duration": 400,
    "start_time": "2022-10-07T08:07:36.617Z"
   },
   {
    "duration": 360,
    "start_time": "2022-10-07T08:08:03.336Z"
   },
   {
    "duration": 312,
    "start_time": "2022-10-07T08:08:12.864Z"
   },
   {
    "duration": 4,
    "start_time": "2022-10-07T08:08:23.288Z"
   },
   {
    "duration": 305,
    "start_time": "2022-10-07T08:08:30.378Z"
   },
   {
    "duration": 329,
    "start_time": "2022-10-07T08:09:33.737Z"
   },
   {
    "duration": 288,
    "start_time": "2022-10-07T08:09:57.378Z"
   },
   {
    "duration": 15,
    "start_time": "2022-10-07T08:10:48.767Z"
   },
   {
    "duration": 13,
    "start_time": "2022-10-07T08:10:49.388Z"
   },
   {
    "duration": 3248,
    "start_time": "2022-10-07T08:10:50.088Z"
   },
   {
    "duration": 428,
    "start_time": "2022-10-07T08:10:53.339Z"
   },
   {
    "duration": 14,
    "start_time": "2022-10-07T08:28:57.914Z"
   },
   {
    "duration": 12,
    "start_time": "2022-10-07T08:28:58.472Z"
   },
   {
    "duration": 9032,
    "start_time": "2022-10-07T08:28:59.041Z"
   },
   {
    "duration": 401,
    "start_time": "2022-10-07T08:29:08.079Z"
   },
   {
    "duration": 61,
    "start_time": "2022-10-07T08:29:53.395Z"
   },
   {
    "duration": 251,
    "start_time": "2022-10-07T08:30:02.266Z"
   },
   {
    "duration": 293,
    "start_time": "2022-10-07T08:30:10.314Z"
   },
   {
    "duration": 234,
    "start_time": "2022-10-07T08:33:07.404Z"
   },
   {
    "duration": 390,
    "start_time": "2022-10-07T08:33:24.163Z"
   },
   {
    "duration": 241,
    "start_time": "2022-10-07T08:33:47.793Z"
   },
   {
    "duration": 222,
    "start_time": "2022-10-07T08:37:39.595Z"
   },
   {
    "duration": 268,
    "start_time": "2022-10-07T08:38:04.253Z"
   },
   {
    "duration": 15,
    "start_time": "2022-10-07T08:38:18.152Z"
   },
   {
    "duration": 13,
    "start_time": "2022-10-07T08:38:18.783Z"
   },
   {
    "duration": 8927,
    "start_time": "2022-10-07T08:38:19.635Z"
   },
   {
    "duration": 428,
    "start_time": "2022-10-07T08:38:28.565Z"
   },
   {
    "duration": 157,
    "start_time": "2022-10-07T08:39:18.476Z"
   },
   {
    "duration": 216,
    "start_time": "2022-10-07T08:39:33.897Z"
   },
   {
    "duration": 250,
    "start_time": "2022-10-07T08:40:22.604Z"
   },
   {
    "duration": 13,
    "start_time": "2022-10-07T08:40:52.165Z"
   },
   {
    "duration": 238,
    "start_time": "2022-10-07T08:41:31.680Z"
   },
   {
    "duration": 11,
    "start_time": "2022-10-07T08:41:45.393Z"
   },
   {
    "duration": 249,
    "start_time": "2022-10-07T08:42:47.397Z"
   },
   {
    "duration": 6,
    "start_time": "2022-10-07T08:43:16.633Z"
   },
   {
    "duration": 44,
    "start_time": "2022-10-07T08:43:55.243Z"
   },
   {
    "duration": 291,
    "start_time": "2022-10-07T08:44:06.512Z"
   },
   {
    "duration": 3,
    "start_time": "2022-10-07T08:44:29.852Z"
   },
   {
    "duration": 5,
    "start_time": "2022-10-07T08:44:38.281Z"
   },
   {
    "duration": 5,
    "start_time": "2022-10-07T08:44:42.389Z"
   },
   {
    "duration": 258,
    "start_time": "2022-10-07T08:44:52.481Z"
   },
   {
    "duration": 7,
    "start_time": "2022-10-07T08:45:09.272Z"
   },
   {
    "duration": 7,
    "start_time": "2022-10-07T08:45:38.915Z"
   },
   {
    "duration": 296,
    "start_time": "2022-10-07T08:45:50.215Z"
   },
   {
    "duration": 285,
    "start_time": "2022-10-07T08:46:28.728Z"
   },
   {
    "duration": 275,
    "start_time": "2022-10-07T08:46:54.962Z"
   },
   {
    "duration": 234,
    "start_time": "2022-10-07T08:47:07.485Z"
   },
   {
    "duration": 6,
    "start_time": "2022-10-07T08:47:49.391Z"
   },
   {
    "duration": 247,
    "start_time": "2022-10-07T08:48:00.686Z"
   },
   {
    "duration": 6,
    "start_time": "2022-10-07T08:48:13.518Z"
   },
   {
    "duration": 8,
    "start_time": "2022-10-07T08:48:20.262Z"
   },
   {
    "duration": 9,
    "start_time": "2022-10-07T08:48:47.194Z"
   },
   {
    "duration": 9,
    "start_time": "2022-10-07T08:48:56.286Z"
   },
   {
    "duration": 261,
    "start_time": "2022-10-07T08:49:06.560Z"
   },
   {
    "duration": 296,
    "start_time": "2022-10-07T08:49:32.324Z"
   },
   {
    "duration": 256,
    "start_time": "2022-10-07T08:49:53.508Z"
   },
   {
    "duration": 6,
    "start_time": "2022-10-07T08:50:16.135Z"
   },
   {
    "duration": 7,
    "start_time": "2022-10-07T08:50:26.815Z"
   },
   {
    "duration": 421,
    "start_time": "2022-10-07T08:50:39.415Z"
   },
   {
    "duration": 264,
    "start_time": "2022-10-07T08:50:53.756Z"
   },
   {
    "duration": 299,
    "start_time": "2022-10-07T08:51:05.413Z"
   },
   {
    "duration": 316,
    "start_time": "2022-10-07T08:51:19.417Z"
   },
   {
    "duration": 13,
    "start_time": "2022-10-07T08:51:31.069Z"
   },
   {
    "duration": 11,
    "start_time": "2022-10-07T08:51:31.560Z"
   },
   {
    "duration": 9027,
    "start_time": "2022-10-07T08:51:32.281Z"
   },
   {
    "duration": 428,
    "start_time": "2022-10-07T08:51:41.335Z"
   },
   {
    "duration": 14,
    "start_time": "2022-10-07T08:52:09.175Z"
   },
   {
    "duration": 13,
    "start_time": "2022-10-07T08:52:09.555Z"
   },
   {
    "duration": 949,
    "start_time": "2022-10-07T08:52:10.114Z"
   },
   {
    "duration": 314,
    "start_time": "2022-10-07T08:52:11.065Z"
   },
   {
    "duration": 13,
    "start_time": "2022-10-07T08:52:21.165Z"
   },
   {
    "duration": 12,
    "start_time": "2022-10-07T08:52:21.640Z"
   },
   {
    "duration": 907,
    "start_time": "2022-10-07T08:52:22.451Z"
   },
   {
    "duration": 293,
    "start_time": "2022-10-07T08:52:23.360Z"
   },
   {
    "duration": 285,
    "start_time": "2022-10-07T08:56:31.948Z"
   },
   {
    "duration": 12,
    "start_time": "2022-10-07T08:58:41.638Z"
   },
   {
    "duration": 8,
    "start_time": "2022-10-07T08:58:50.020Z"
   },
   {
    "duration": 10,
    "start_time": "2022-10-07T08:58:55.473Z"
   },
   {
    "duration": 9,
    "start_time": "2022-10-07T08:58:56.236Z"
   },
   {
    "duration": 8960,
    "start_time": "2022-10-07T08:58:59.874Z"
   },
   {
    "duration": 103,
    "start_time": "2022-10-07T08:59:12.869Z"
   },
   {
    "duration": 5,
    "start_time": "2022-10-07T08:59:27.061Z"
   },
   {
    "duration": 8,
    "start_time": "2022-10-07T08:59:27.881Z"
   },
   {
    "duration": 702,
    "start_time": "2022-10-07T08:59:28.748Z"
   },
   {
    "duration": 4,
    "start_time": "2022-10-07T08:59:48.664Z"
   },
   {
    "duration": 8,
    "start_time": "2022-10-07T08:59:49.190Z"
   },
   {
    "duration": 707,
    "start_time": "2022-10-07T08:59:50.243Z"
   },
   {
    "duration": 102,
    "start_time": "2022-10-07T08:59:51.315Z"
   },
   {
    "duration": 5,
    "start_time": "2022-10-07T09:06:20.519Z"
   },
   {
    "duration": 9,
    "start_time": "2022-10-07T09:06:21.131Z"
   },
   {
    "duration": 9208,
    "start_time": "2022-10-07T09:06:21.727Z"
   },
   {
    "duration": 255,
    "start_time": "2022-10-07T09:06:30.937Z"
   },
   {
    "duration": 9,
    "start_time": "2022-10-07T09:06:49.436Z"
   },
   {
    "duration": 9,
    "start_time": "2022-10-07T09:06:50.025Z"
   },
   {
    "duration": 681,
    "start_time": "2022-10-07T09:06:50.584Z"
   },
   {
    "duration": 153,
    "start_time": "2022-10-07T09:06:51.267Z"
   },
   {
    "duration": 9,
    "start_time": "2022-10-07T09:07:19.613Z"
   },
   {
    "duration": 5,
    "start_time": "2022-10-07T09:07:31.236Z"
   },
   {
    "duration": 10,
    "start_time": "2022-10-07T09:07:31.742Z"
   },
   {
    "duration": 907,
    "start_time": "2022-10-07T09:07:32.259Z"
   },
   {
    "duration": 128,
    "start_time": "2022-10-07T09:07:33.169Z"
   },
   {
    "duration": 5,
    "start_time": "2022-10-07T09:07:52.249Z"
   },
   {
    "duration": 11,
    "start_time": "2022-10-07T09:07:52.982Z"
   },
   {
    "duration": 1101,
    "start_time": "2022-10-07T09:07:54.358Z"
   },
   {
    "duration": 276,
    "start_time": "2022-10-07T09:07:55.461Z"
   },
   {
    "duration": 5,
    "start_time": "2022-10-07T09:09:08.276Z"
   },
   {
    "duration": 10,
    "start_time": "2022-10-07T09:09:09.625Z"
   },
   {
    "duration": 948,
    "start_time": "2022-10-07T09:09:10.718Z"
   },
   {
    "duration": 223,
    "start_time": "2022-10-07T09:09:16.497Z"
   },
   {
    "duration": 10,
    "start_time": "2022-10-07T09:09:51.217Z"
   },
   {
    "duration": 10,
    "start_time": "2022-10-07T09:09:51.940Z"
   },
   {
    "duration": 774,
    "start_time": "2022-10-07T09:09:53.098Z"
   },
   {
    "duration": 233,
    "start_time": "2022-10-07T09:09:56.784Z"
   },
   {
    "duration": 12,
    "start_time": "2022-10-07T09:10:05.592Z"
   },
   {
    "duration": 12,
    "start_time": "2022-10-07T09:10:06.188Z"
   },
   {
    "duration": 833,
    "start_time": "2022-10-07T09:10:08.041Z"
   },
   {
    "duration": 284,
    "start_time": "2022-10-07T09:10:11.133Z"
   },
   {
    "duration": 11,
    "start_time": "2022-10-07T09:10:41.503Z"
   },
   {
    "duration": 10,
    "start_time": "2022-10-07T09:10:41.994Z"
   },
   {
    "duration": 919,
    "start_time": "2022-10-07T09:10:42.859Z"
   },
   {
    "duration": 222,
    "start_time": "2022-10-07T09:10:45.093Z"
   },
   {
    "duration": 10,
    "start_time": "2022-10-07T09:10:53.203Z"
   },
   {
    "duration": 11,
    "start_time": "2022-10-07T09:10:53.876Z"
   },
   {
    "duration": 835,
    "start_time": "2022-10-07T09:10:54.520Z"
   },
   {
    "duration": 263,
    "start_time": "2022-10-07T09:10:56.513Z"
   },
   {
    "duration": 9,
    "start_time": "2022-10-07T09:11:03.745Z"
   },
   {
    "duration": 10,
    "start_time": "2022-10-07T09:11:04.450Z"
   },
   {
    "duration": 846,
    "start_time": "2022-10-07T09:11:05.015Z"
   },
   {
    "duration": 287,
    "start_time": "2022-10-07T09:11:08.536Z"
   },
   {
    "duration": 9,
    "start_time": "2022-10-07T09:11:21.937Z"
   },
   {
    "duration": 8,
    "start_time": "2022-10-07T09:11:22.606Z"
   },
   {
    "duration": 648,
    "start_time": "2022-10-07T09:11:23.110Z"
   },
   {
    "duration": 110,
    "start_time": "2022-10-07T09:11:24.087Z"
   },
   {
    "duration": 9,
    "start_time": "2022-10-07T09:11:43.644Z"
   },
   {
    "duration": 8,
    "start_time": "2022-10-07T09:11:44.230Z"
   },
   {
    "duration": 600,
    "start_time": "2022-10-07T09:11:44.876Z"
   },
   {
    "duration": 95,
    "start_time": "2022-10-07T09:11:47.837Z"
   },
   {
    "duration": 8,
    "start_time": "2022-10-07T09:12:01.062Z"
   },
   {
    "duration": 7,
    "start_time": "2022-10-07T09:12:02.045Z"
   },
   {
    "duration": 629,
    "start_time": "2022-10-07T09:12:03.146Z"
   },
   {
    "duration": 102,
    "start_time": "2022-10-07T09:12:09.948Z"
   },
   {
    "duration": 10,
    "start_time": "2022-10-07T09:12:17.646Z"
   },
   {
    "duration": 10,
    "start_time": "2022-10-07T09:12:19.153Z"
   },
   {
    "duration": 841,
    "start_time": "2022-10-07T09:12:19.716Z"
   },
   {
    "duration": 242,
    "start_time": "2022-10-07T09:12:21.505Z"
   },
   {
    "duration": 10,
    "start_time": "2022-10-07T09:12:26.604Z"
   },
   {
    "duration": 10,
    "start_time": "2022-10-07T09:12:27.071Z"
   },
   {
    "duration": 775,
    "start_time": "2022-10-07T09:12:27.601Z"
   },
   {
    "duration": 235,
    "start_time": "2022-10-07T09:12:29.581Z"
   },
   {
    "duration": 11,
    "start_time": "2022-10-07T09:17:39.062Z"
   },
   {
    "duration": 10,
    "start_time": "2022-10-07T09:18:04.167Z"
   },
   {
    "duration": 10,
    "start_time": "2022-10-07T09:18:11.582Z"
   },
   {
    "duration": 1122,
    "start_time": "2022-10-07T09:19:10.639Z"
   },
   {
    "duration": 149,
    "start_time": "2022-10-07T09:19:23.962Z"
   },
   {
    "duration": 9,
    "start_time": "2022-10-07T09:19:53.997Z"
   },
   {
    "duration": 10,
    "start_time": "2022-10-07T09:19:54.935Z"
   },
   {
    "duration": 9529,
    "start_time": "2022-10-07T09:19:55.917Z"
   },
   {
    "duration": 12,
    "start_time": "2022-10-07T09:20:21.258Z"
   },
   {
    "duration": 12,
    "start_time": "2022-10-07T09:20:25.182Z"
   },
   {
    "duration": 687,
    "start_time": "2022-10-07T09:20:27.663Z"
   },
   {
    "duration": 259,
    "start_time": "2022-10-07T09:20:31.283Z"
   },
   {
    "duration": 363,
    "start_time": "2022-10-07T09:20:51.132Z"
   },
   {
    "duration": 210,
    "start_time": "2022-10-07T09:21:09.927Z"
   },
   {
    "duration": 4,
    "start_time": "2022-10-07T09:21:32.852Z"
   },
   {
    "duration": 3,
    "start_time": "2022-10-07T09:21:47.106Z"
   },
   {
    "duration": 13,
    "start_time": "2022-10-07T09:24:59.334Z"
   },
   {
    "duration": 10,
    "start_time": "2022-10-07T09:24:59.854Z"
   },
   {
    "duration": 889,
    "start_time": "2022-10-07T09:25:00.382Z"
   },
   {
    "duration": 13,
    "start_time": "2022-10-07T09:25:07.160Z"
   },
   {
    "duration": 11,
    "start_time": "2022-10-07T09:25:07.571Z"
   },
   {
    "duration": 868,
    "start_time": "2022-10-07T09:25:08.007Z"
   },
   {
    "duration": 12,
    "start_time": "2022-10-07T09:25:15.394Z"
   },
   {
    "duration": 12,
    "start_time": "2022-10-07T09:25:15.973Z"
   },
   {
    "duration": 949,
    "start_time": "2022-10-07T09:25:16.510Z"
   },
   {
    "duration": 15,
    "start_time": "2022-10-07T09:25:30.336Z"
   },
   {
    "duration": 17,
    "start_time": "2022-10-07T09:25:31.247Z"
   },
   {
    "duration": 970,
    "start_time": "2022-10-07T09:25:31.796Z"
   },
   {
    "duration": 5,
    "start_time": "2022-10-07T09:25:45.243Z"
   },
   {
    "duration": 10,
    "start_time": "2022-10-07T09:25:46.210Z"
   },
   {
    "duration": 1068,
    "start_time": "2022-10-07T09:25:50.994Z"
   },
   {
    "duration": 1064,
    "start_time": "2022-10-07T09:30:39.905Z"
   },
   {
    "duration": 4,
    "start_time": "2022-10-07T09:30:48.467Z"
   },
   {
    "duration": 1076,
    "start_time": "2022-10-07T09:30:53.057Z"
   },
   {
    "duration": 1090,
    "start_time": "2022-10-07T09:32:13.476Z"
   },
   {
    "duration": 1072,
    "start_time": "2022-10-07T09:32:36.519Z"
   },
   {
    "duration": 268,
    "start_time": "2022-10-07T09:32:42.438Z"
   },
   {
    "duration": 239,
    "start_time": "2022-10-07T09:34:09.281Z"
   },
   {
    "duration": 5,
    "start_time": "2022-10-07T09:34:33.116Z"
   },
   {
    "duration": 9,
    "start_time": "2022-10-07T09:34:33.616Z"
   },
   {
    "duration": 985,
    "start_time": "2022-10-07T09:34:34.489Z"
   },
   {
    "duration": 362,
    "start_time": "2022-10-07T09:34:35.478Z"
   },
   {
    "duration": 5,
    "start_time": "2022-10-07T09:35:44.664Z"
   },
   {
    "duration": 10,
    "start_time": "2022-10-07T09:35:45.045Z"
   },
   {
    "duration": 1057,
    "start_time": "2022-10-07T09:35:45.597Z"
   },
   {
    "duration": 255,
    "start_time": "2022-10-07T09:35:48.703Z"
   },
   {
    "duration": 407,
    "start_time": "2022-10-07T09:36:46.430Z"
   },
   {
    "duration": 295,
    "start_time": "2022-10-07T09:36:50.428Z"
   },
   {
    "duration": 50,
    "start_time": "2022-10-07T09:46:48.997Z"
   },
   {
    "duration": 5991,
    "start_time": "2022-10-07T09:46:59.589Z"
   },
   {
    "duration": 43,
    "start_time": "2022-10-07T09:47:40.138Z"
   },
   {
    "duration": 10,
    "start_time": "2022-10-07T09:47:54.433Z"
   },
   {
    "duration": 5,
    "start_time": "2022-10-07T09:47:59.464Z"
   },
   {
    "duration": 12862,
    "start_time": "2022-10-07T09:53:15.680Z"
   },
   {
    "duration": 278,
    "start_time": "2022-10-07T09:54:24.370Z"
   },
   {
    "duration": 61,
    "start_time": "2022-10-07T10:09:05.775Z"
   },
   {
    "duration": 9,
    "start_time": "2022-10-07T10:09:21.330Z"
   },
   {
    "duration": 315,
    "start_time": "2022-10-07T10:09:38.546Z"
   },
   {
    "duration": 7,
    "start_time": "2022-10-07T10:10:20.368Z"
   },
   {
    "duration": 5,
    "start_time": "2022-10-07T10:10:30.401Z"
   },
   {
    "duration": 5,
    "start_time": "2022-10-07T10:11:16.457Z"
   },
   {
    "duration": 10,
    "start_time": "2022-10-07T10:12:03.183Z"
   },
   {
    "duration": 11,
    "start_time": "2022-10-07T10:12:15.711Z"
   },
   {
    "duration": 8,
    "start_time": "2022-10-07T10:12:47.375Z"
   },
   {
    "duration": 12,
    "start_time": "2022-10-07T10:12:58.898Z"
   },
   {
    "duration": 11,
    "start_time": "2022-10-07T10:13:20.711Z"
   },
   {
    "duration": 13,
    "start_time": "2022-10-07T10:13:30.502Z"
   },
   {
    "duration": 9,
    "start_time": "2022-10-07T10:13:34.741Z"
   },
   {
    "duration": 274,
    "start_time": "2022-10-07T10:13:52.587Z"
   },
   {
    "duration": 292,
    "start_time": "2022-10-07T10:15:06.199Z"
   },
   {
    "duration": 12,
    "start_time": "2022-10-07T10:16:27.836Z"
   },
   {
    "duration": 9,
    "start_time": "2022-10-07T10:16:36.661Z"
   },
   {
    "duration": 13,
    "start_time": "2022-10-07T10:16:45.423Z"
   },
   {
    "duration": 5,
    "start_time": "2022-10-07T10:16:54.522Z"
   },
   {
    "duration": 4,
    "start_time": "2022-10-07T10:17:06.152Z"
   },
   {
    "duration": 13,
    "start_time": "2022-10-07T10:17:15.471Z"
   },
   {
    "duration": 12,
    "start_time": "2022-10-07T10:17:32.807Z"
   },
   {
    "duration": 9,
    "start_time": "2022-10-07T10:19:50.444Z"
   },
   {
    "duration": 784,
    "start_time": "2022-10-07T10:20:12.549Z"
   },
   {
    "duration": 1008,
    "start_time": "2022-10-07T10:20:18.095Z"
   },
   {
    "duration": 11,
    "start_time": "2022-10-07T10:20:22.996Z"
   },
   {
    "duration": 17,
    "start_time": "2022-10-07T10:22:30.740Z"
   },
   {
    "duration": 17,
    "start_time": "2022-10-07T10:22:45.928Z"
   },
   {
    "duration": 4,
    "start_time": "2022-10-07T10:22:55.087Z"
   },
   {
    "duration": 15,
    "start_time": "2022-10-07T10:23:05.283Z"
   },
   {
    "duration": 334,
    "start_time": "2022-10-07T10:23:34.013Z"
   },
   {
    "duration": 17,
    "start_time": "2022-10-07T10:24:30.161Z"
   },
   {
    "duration": 9,
    "start_time": "2022-10-07T10:24:33.446Z"
   },
   {
    "duration": 237,
    "start_time": "2022-10-07T10:24:41.000Z"
   },
   {
    "duration": 312,
    "start_time": "2022-10-07T10:25:30.933Z"
   },
   {
    "duration": 270,
    "start_time": "2022-10-07T11:08:12.571Z"
   },
   {
    "duration": 249,
    "start_time": "2022-10-07T11:09:02.296Z"
   },
   {
    "duration": 10,
    "start_time": "2022-10-07T11:09:16.347Z"
   },
   {
    "duration": 13,
    "start_time": "2022-10-07T11:09:27.347Z"
   },
   {
    "duration": 8,
    "start_time": "2022-10-07T11:09:38.822Z"
   },
   {
    "duration": 9,
    "start_time": "2022-10-07T11:12:49.405Z"
   },
   {
    "duration": 4,
    "start_time": "2022-10-07T11:13:12.185Z"
   },
   {
    "duration": 17,
    "start_time": "2022-10-07T11:13:27.328Z"
   },
   {
    "duration": 215,
    "start_time": "2022-10-07T11:13:42.347Z"
   },
   {
    "duration": 185,
    "start_time": "2022-10-07T11:14:03.179Z"
   },
   {
    "duration": 206,
    "start_time": "2022-10-07T11:14:25.765Z"
   },
   {
    "duration": 207,
    "start_time": "2022-10-07T11:14:35.259Z"
   },
   {
    "duration": 264,
    "start_time": "2022-10-07T11:18:04.274Z"
   },
   {
    "duration": 300,
    "start_time": "2022-10-07T11:18:52.041Z"
   },
   {
    "duration": 267,
    "start_time": "2022-10-07T11:19:19.074Z"
   },
   {
    "duration": 3,
    "start_time": "2022-10-07T11:19:57.709Z"
   },
   {
    "duration": 268,
    "start_time": "2022-10-07T11:20:59.177Z"
   },
   {
    "duration": 249,
    "start_time": "2022-10-07T11:21:20.999Z"
   },
   {
    "duration": 5,
    "start_time": "2022-10-07T11:21:38.532Z"
   },
   {
    "duration": 253,
    "start_time": "2022-10-07T11:22:00.488Z"
   },
   {
    "duration": 5,
    "start_time": "2022-10-07T11:22:09.275Z"
   },
   {
    "duration": 11,
    "start_time": "2022-10-07T11:22:09.974Z"
   },
   {
    "duration": 13,
    "start_time": "2022-10-07T11:22:10.697Z"
   },
   {
    "duration": 16,
    "start_time": "2022-10-07T11:22:56.425Z"
   },
   {
    "duration": 13,
    "start_time": "2022-10-07T11:23:07.228Z"
   },
   {
    "duration": 12,
    "start_time": "2022-10-07T11:23:08.100Z"
   },
   {
    "duration": 17,
    "start_time": "2022-10-07T11:23:08.774Z"
   },
   {
    "duration": 1379,
    "start_time": "2022-10-07T11:23:18.801Z"
   },
   {
    "duration": 379,
    "start_time": "2022-10-07T11:23:20.183Z"
   },
   {
    "duration": 23,
    "start_time": "2022-10-07T11:23:20.564Z"
   },
   {
    "duration": 127,
    "start_time": "2022-10-07T11:23:20.589Z"
   },
   {
    "duration": 32,
    "start_time": "2022-10-07T11:23:20.718Z"
   },
   {
    "duration": 1521,
    "start_time": "2022-10-07T11:23:20.752Z"
   },
   {
    "duration": 16,
    "start_time": "2022-10-07T11:23:22.275Z"
   },
   {
    "duration": 1507,
    "start_time": "2022-10-07T11:23:22.293Z"
   },
   {
    "duration": 20,
    "start_time": "2022-10-07T11:23:23.802Z"
   },
   {
    "duration": 1530,
    "start_time": "2022-10-07T11:23:23.834Z"
   },
   {
    "duration": 11,
    "start_time": "2022-10-07T11:23:25.365Z"
   },
   {
    "duration": 20,
    "start_time": "2022-10-07T11:23:25.378Z"
   },
   {
    "duration": 26,
    "start_time": "2022-10-07T11:23:25.400Z"
   },
   {
    "duration": 228,
    "start_time": "2022-10-07T11:23:25.427Z"
   },
   {
    "duration": 323,
    "start_time": "2022-10-07T11:23:25.657Z"
   },
   {
    "duration": 259,
    "start_time": "2022-10-07T11:23:25.982Z"
   },
   {
    "duration": 6,
    "start_time": "2022-10-07T11:23:26.243Z"
   },
   {
    "duration": 211,
    "start_time": "2022-10-07T11:23:26.251Z"
   },
   {
    "duration": 270,
    "start_time": "2022-10-07T11:23:26.464Z"
   },
   {
    "duration": 358,
    "start_time": "2022-10-07T11:23:26.735Z"
   },
   {
    "duration": 170,
    "start_time": "2022-10-07T11:23:27.094Z"
   },
   {
    "duration": 189,
    "start_time": "2022-10-07T11:23:27.266Z"
   },
   {
    "duration": 314,
    "start_time": "2022-10-07T11:23:27.457Z"
   },
   {
    "duration": 161,
    "start_time": "2022-10-07T11:23:27.772Z"
   },
   {
    "duration": 13,
    "start_time": "2022-10-07T11:23:27.935Z"
   },
   {
    "duration": 13,
    "start_time": "2022-10-07T11:23:27.950Z"
   },
   {
    "duration": 146,
    "start_time": "2022-10-07T11:23:27.966Z"
   },
   {
    "duration": 0,
    "start_time": "2022-10-07T11:23:28.114Z"
   },
   {
    "duration": 0,
    "start_time": "2022-10-07T11:23:28.115Z"
   },
   {
    "duration": 14,
    "start_time": "2022-10-07T11:25:12.886Z"
   },
   {
    "duration": 12,
    "start_time": "2022-10-07T11:26:45.601Z"
   },
   {
    "duration": 12,
    "start_time": "2022-10-07T11:26:47.177Z"
   },
   {
    "duration": 12245,
    "start_time": "2022-10-07T11:26:47.692Z"
   },
   {
    "duration": 231,
    "start_time": "2022-10-07T11:27:04.789Z"
   },
   {
    "duration": 303,
    "start_time": "2022-10-07T11:27:36.347Z"
   },
   {
    "duration": 9,
    "start_time": "2022-10-07T11:27:53.672Z"
   },
   {
    "duration": 275,
    "start_time": "2022-10-07T11:30:05.161Z"
   },
   {
    "duration": 1277,
    "start_time": "2022-10-07T11:30:26.716Z"
   },
   {
    "duration": 279,
    "start_time": "2022-10-07T11:30:32.969Z"
   },
   {
    "duration": 4,
    "start_time": "2022-10-07T11:30:52.856Z"
   },
   {
    "duration": 8,
    "start_time": "2022-10-07T11:31:15.312Z"
   },
   {
    "duration": 7,
    "start_time": "2022-10-07T11:31:24.015Z"
   },
   {
    "duration": 15,
    "start_time": "2022-10-07T11:31:39.102Z"
   },
   {
    "duration": 11,
    "start_time": "2022-10-07T11:31:55.187Z"
   },
   {
    "duration": 8,
    "start_time": "2022-10-07T11:32:11.244Z"
   },
   {
    "duration": 9,
    "start_time": "2022-10-07T11:32:21.437Z"
   },
   {
    "duration": 10,
    "start_time": "2022-10-07T11:32:33.805Z"
   },
   {
    "duration": 13,
    "start_time": "2022-10-07T11:33:04.767Z"
   },
   {
    "duration": 8,
    "start_time": "2022-10-07T11:33:20.560Z"
   },
   {
    "duration": 9,
    "start_time": "2022-10-07T11:33:31.166Z"
   },
   {
    "duration": 2,
    "start_time": "2022-10-07T11:33:33.681Z"
   },
   {
    "duration": 17,
    "start_time": "2022-10-07T11:34:14.185Z"
   },
   {
    "duration": 4,
    "start_time": "2022-10-07T11:34:39.224Z"
   },
   {
    "duration": 277,
    "start_time": "2022-10-07T11:35:21.037Z"
   },
   {
    "duration": 8,
    "start_time": "2022-10-07T11:35:38.438Z"
   },
   {
    "duration": 59,
    "start_time": "2022-10-07T11:36:35.484Z"
   },
   {
    "duration": 9,
    "start_time": "2022-10-07T11:36:46.609Z"
   },
   {
    "duration": 8,
    "start_time": "2022-10-07T11:36:53.906Z"
   },
   {
    "duration": 9,
    "start_time": "2022-10-07T11:37:07.874Z"
   },
   {
    "duration": 381,
    "start_time": "2022-10-07T11:37:21.645Z"
   },
   {
    "duration": 257,
    "start_time": "2022-10-07T11:37:53.006Z"
   },
   {
    "duration": 5,
    "start_time": "2022-10-07T11:37:58.317Z"
   },
   {
    "duration": 7,
    "start_time": "2022-10-07T11:39:28.439Z"
   },
   {
    "duration": 139,
    "start_time": "2022-10-07T11:39:50.511Z"
   },
   {
    "duration": 8,
    "start_time": "2022-10-07T11:40:01.982Z"
   },
   {
    "duration": 4,
    "start_time": "2022-10-07T11:40:58.248Z"
   },
   {
    "duration": 9,
    "start_time": "2022-10-07T11:41:17.705Z"
   },
   {
    "duration": 8,
    "start_time": "2022-10-07T11:43:00.066Z"
   },
   {
    "duration": 9,
    "start_time": "2022-10-07T11:43:19.053Z"
   },
   {
    "duration": 11,
    "start_time": "2022-10-07T11:44:14.930Z"
   },
   {
    "duration": 8,
    "start_time": "2022-10-07T11:44:33.527Z"
   },
   {
    "duration": 11,
    "start_time": "2022-10-07T11:44:54.271Z"
   },
   {
    "duration": 220,
    "start_time": "2022-10-07T11:45:29.797Z"
   },
   {
    "duration": 977,
    "start_time": "2022-10-07T11:45:52.233Z"
   },
   {
    "duration": 339,
    "start_time": "2022-10-07T11:46:06.223Z"
   },
   {
    "duration": 7,
    "start_time": "2022-10-07T11:46:35.234Z"
   },
   {
    "duration": 266,
    "start_time": "2022-10-07T11:47:45.990Z"
   },
   {
    "duration": 5,
    "start_time": "2022-10-07T11:47:57.574Z"
   },
   {
    "duration": 7,
    "start_time": "2022-10-07T11:48:01.818Z"
   },
   {
    "duration": 9,
    "start_time": "2022-10-07T11:48:32.298Z"
   },
   {
    "duration": 306,
    "start_time": "2022-10-07T11:48:44.437Z"
   },
   {
    "duration": 9,
    "start_time": "2022-10-07T11:49:26.557Z"
   },
   {
    "duration": 9,
    "start_time": "2022-10-07T11:49:54.519Z"
   },
   {
    "duration": 9,
    "start_time": "2022-10-07T11:50:00.972Z"
   },
   {
    "duration": 267,
    "start_time": "2022-10-07T11:50:20.176Z"
   },
   {
    "duration": 7,
    "start_time": "2022-10-07T11:50:37.039Z"
   },
   {
    "duration": 8,
    "start_time": "2022-10-07T11:50:45.317Z"
   },
   {
    "duration": 234,
    "start_time": "2022-10-07T11:51:07.390Z"
   },
   {
    "duration": 273,
    "start_time": "2022-10-07T11:51:20.642Z"
   },
   {
    "duration": 9,
    "start_time": "2022-10-07T11:52:05.713Z"
   },
   {
    "duration": 262,
    "start_time": "2022-10-07T11:52:20.480Z"
   },
   {
    "duration": 4,
    "start_time": "2022-10-07T11:53:36.014Z"
   },
   {
    "duration": 7,
    "start_time": "2022-10-07T11:54:13.438Z"
   },
   {
    "duration": 8,
    "start_time": "2022-10-07T11:54:37.093Z"
   },
   {
    "duration": 13,
    "start_time": "2022-10-07T11:54:52.500Z"
   },
   {
    "duration": 13,
    "start_time": "2022-10-07T11:54:53.015Z"
   },
   {
    "duration": 12307,
    "start_time": "2022-10-07T11:54:53.531Z"
   },
   {
    "duration": 241,
    "start_time": "2022-10-07T11:55:09.899Z"
   },
   {
    "duration": 289,
    "start_time": "2022-10-07T11:55:22.334Z"
   },
   {
    "duration": 289,
    "start_time": "2022-10-07T11:55:38.346Z"
   },
   {
    "duration": 317,
    "start_time": "2022-10-07T11:55:53.032Z"
   },
   {
    "duration": 259,
    "start_time": "2022-10-07T11:55:57.879Z"
   },
   {
    "duration": 396,
    "start_time": "2022-10-07T11:56:17.646Z"
   },
   {
    "duration": 337,
    "start_time": "2022-10-07T11:56:26.263Z"
   },
   {
    "duration": 274,
    "start_time": "2022-10-07T11:56:35.767Z"
   },
   {
    "duration": 308,
    "start_time": "2022-10-07T11:56:54.012Z"
   },
   {
    "duration": 241,
    "start_time": "2022-10-07T11:57:17.482Z"
   },
   {
    "duration": 290,
    "start_time": "2022-10-07T11:58:04.629Z"
   },
   {
    "duration": 239,
    "start_time": "2022-10-07T11:58:16.783Z"
   },
   {
    "duration": 274,
    "start_time": "2022-10-07T11:59:04.800Z"
   },
   {
    "duration": 294,
    "start_time": "2022-10-07T11:59:22.284Z"
   },
   {
    "duration": 302,
    "start_time": "2022-10-07T11:59:37.850Z"
   },
   {
    "duration": 254,
    "start_time": "2022-10-07T11:59:44.394Z"
   },
   {
    "duration": 4,
    "start_time": "2022-10-07T12:04:55.521Z"
   },
   {
    "duration": 5,
    "start_time": "2022-10-07T12:05:01.985Z"
   },
   {
    "duration": 306,
    "start_time": "2022-10-07T12:05:53.118Z"
   },
   {
    "duration": 317,
    "start_time": "2022-10-07T12:08:06.417Z"
   },
   {
    "duration": 319,
    "start_time": "2022-10-07T12:08:21.122Z"
   },
   {
    "duration": 267,
    "start_time": "2022-10-07T12:08:29.210Z"
   },
   {
    "duration": 13,
    "start_time": "2022-10-07T12:08:43.713Z"
   },
   {
    "duration": 13,
    "start_time": "2022-10-07T12:08:44.221Z"
   },
   {
    "duration": 12470,
    "start_time": "2022-10-07T12:08:44.776Z"
   },
   {
    "duration": 411,
    "start_time": "2022-10-07T12:08:57.341Z"
   },
   {
    "duration": 313,
    "start_time": "2022-10-07T12:09:16.823Z"
   },
   {
    "duration": 15,
    "start_time": "2022-10-07T12:09:36.314Z"
   },
   {
    "duration": 12,
    "start_time": "2022-10-07T12:09:36.850Z"
   },
   {
    "duration": 2410,
    "start_time": "2022-10-07T12:09:37.368Z"
   },
   {
    "duration": 368,
    "start_time": "2022-10-07T12:09:39.781Z"
   },
   {
    "duration": 242,
    "start_time": "2022-10-07T12:12:14.393Z"
   },
   {
    "duration": 4,
    "start_time": "2022-10-07T12:12:44.881Z"
   },
   {
    "duration": 290,
    "start_time": "2022-10-07T12:13:25.149Z"
   },
   {
    "duration": 9,
    "start_time": "2022-10-07T12:14:01.185Z"
   },
   {
    "duration": 279,
    "start_time": "2022-10-07T12:14:15.646Z"
   },
   {
    "duration": 8,
    "start_time": "2022-10-07T12:14:24.896Z"
   },
   {
    "duration": 7,
    "start_time": "2022-10-07T12:14:34.462Z"
   },
   {
    "duration": 9,
    "start_time": "2022-10-07T12:15:21.065Z"
   },
   {
    "duration": 8,
    "start_time": "2022-10-07T12:15:35.234Z"
   },
   {
    "duration": 265,
    "start_time": "2022-10-07T12:18:50.304Z"
   },
   {
    "duration": 8,
    "start_time": "2022-10-07T12:18:59.772Z"
   },
   {
    "duration": 4,
    "start_time": "2022-10-07T12:19:40.662Z"
   },
   {
    "duration": 280,
    "start_time": "2022-10-07T12:20:02.242Z"
   },
   {
    "duration": 6,
    "start_time": "2022-10-07T12:20:06.393Z"
   },
   {
    "duration": 7,
    "start_time": "2022-10-07T12:20:09.468Z"
   },
   {
    "duration": 7,
    "start_time": "2022-10-07T12:20:34.716Z"
   },
   {
    "duration": 7,
    "start_time": "2022-10-07T12:20:53.984Z"
   },
   {
    "duration": 7,
    "start_time": "2022-10-07T12:21:48.518Z"
   },
   {
    "duration": 272,
    "start_time": "2022-10-07T12:22:05.361Z"
   },
   {
    "duration": 4,
    "start_time": "2022-10-07T12:22:10.096Z"
   },
   {
    "duration": 7,
    "start_time": "2022-10-07T12:22:10.965Z"
   },
   {
    "duration": 7,
    "start_time": "2022-10-07T12:22:12.638Z"
   },
   {
    "duration": 294,
    "start_time": "2022-10-07T12:23:14.269Z"
   },
   {
    "duration": 7,
    "start_time": "2022-10-07T12:23:27.259Z"
   },
   {
    "duration": 9,
    "start_time": "2022-10-07T12:23:31.569Z"
   },
   {
    "duration": 276,
    "start_time": "2022-10-07T12:24:07.269Z"
   },
   {
    "duration": 4,
    "start_time": "2022-10-07T12:24:13.264Z"
   },
   {
    "duration": 7,
    "start_time": "2022-10-07T12:24:13.918Z"
   },
   {
    "duration": 7,
    "start_time": "2022-10-07T12:24:25.493Z"
   },
   {
    "duration": 8,
    "start_time": "2022-10-07T12:24:48.128Z"
   },
   {
    "duration": 8,
    "start_time": "2022-10-07T12:24:51.845Z"
   },
   {
    "duration": 242,
    "start_time": "2022-10-07T12:25:12.291Z"
   },
   {
    "duration": 16,
    "start_time": "2022-10-07T12:25:26.314Z"
   },
   {
    "duration": 12,
    "start_time": "2022-10-07T12:25:33.272Z"
   },
   {
    "duration": 12225,
    "start_time": "2022-10-07T12:25:33.810Z"
   },
   {
    "duration": 353,
    "start_time": "2022-10-07T12:25:46.038Z"
   },
   {
    "duration": 14,
    "start_time": "2022-10-07T12:25:56.469Z"
   },
   {
    "duration": 12,
    "start_time": "2022-10-07T12:25:56.956Z"
   },
   {
    "duration": 2427,
    "start_time": "2022-10-07T12:25:57.550Z"
   },
   {
    "duration": 326,
    "start_time": "2022-10-07T12:25:59.982Z"
   },
   {
    "duration": 257,
    "start_time": "2022-10-07T12:26:12.594Z"
   },
   {
    "duration": 363,
    "start_time": "2022-10-07T12:26:19.999Z"
   },
   {
    "duration": 10,
    "start_time": "2022-10-07T12:29:54.441Z"
   },
   {
    "duration": 9,
    "start_time": "2022-10-07T12:29:55.026Z"
   },
   {
    "duration": 2022,
    "start_time": "2022-10-07T12:29:55.815Z"
   },
   {
    "duration": 132,
    "start_time": "2022-10-07T12:30:01.032Z"
   },
   {
    "duration": 4,
    "start_time": "2022-10-07T12:30:13.851Z"
   },
   {
    "duration": 10,
    "start_time": "2022-10-07T12:30:14.495Z"
   },
   {
    "duration": 2804,
    "start_time": "2022-10-07T12:30:15.430Z"
   },
   {
    "duration": 177,
    "start_time": "2022-10-07T12:30:18.236Z"
   },
   {
    "duration": 6,
    "start_time": "2022-10-07T12:30:34.518Z"
   },
   {
    "duration": 12,
    "start_time": "2022-10-07T12:30:34.897Z"
   },
   {
    "duration": 3066,
    "start_time": "2022-10-07T12:30:35.568Z"
   },
   {
    "duration": 287,
    "start_time": "2022-10-07T12:30:45.754Z"
   },
   {
    "duration": 1784985,
    "start_time": "2022-10-07T12:38:52.646Z"
   },
   {
    "duration": 11649,
    "start_time": "2022-10-07T13:10:49.286Z"
   },
   {
    "duration": 2159,
    "start_time": "2022-10-07T13:11:52.788Z"
   },
   {
    "duration": 268,
    "start_time": "2022-10-07T13:12:04.477Z"
   },
   {
    "duration": 3151,
    "start_time": "2022-10-07T13:13:56.793Z"
   },
   {
    "duration": 277,
    "start_time": "2022-10-07T13:14:10.776Z"
   },
   {
    "duration": 1888,
    "start_time": "2022-10-07T13:14:40.446Z"
   },
   {
    "duration": 300,
    "start_time": "2022-10-07T13:15:02.524Z"
   },
   {
    "duration": 499,
    "start_time": "2022-10-07T13:17:39.903Z"
   },
   {
    "duration": 5858,
    "start_time": "2022-10-07T13:18:29.677Z"
   },
   {
    "duration": 2622,
    "start_time": "2022-10-07T13:18:54.815Z"
   },
   {
    "duration": 267,
    "start_time": "2022-10-07T13:19:08.177Z"
   },
   {
    "duration": 5,
    "start_time": "2022-10-07T13:20:26.634Z"
   },
   {
    "duration": 13,
    "start_time": "2022-10-07T13:20:27.236Z"
   },
   {
    "duration": 3003,
    "start_time": "2022-10-07T13:20:27.833Z"
   },
   {
    "duration": 230,
    "start_time": "2022-10-07T13:20:34.796Z"
   },
   {
    "duration": 1770,
    "start_time": "2022-10-07T13:20:41.100Z"
   },
   {
    "duration": 303,
    "start_time": "2022-10-07T13:20:45.733Z"
   },
   {
    "duration": 489,
    "start_time": "2022-10-07T13:20:49.747Z"
   },
   {
    "duration": 253,
    "start_time": "2022-10-07T13:21:02.702Z"
   },
   {
    "duration": 5060,
    "start_time": "2022-10-07T13:28:58.654Z"
   },
   {
    "duration": 5191,
    "start_time": "2022-10-07T13:29:32.319Z"
   },
   {
    "duration": 11901,
    "start_time": "2022-10-07T13:30:05.840Z"
   },
   {
    "duration": 2442,
    "start_time": "2022-10-07T13:30:32.837Z"
   },
   {
    "duration": 485,
    "start_time": "2022-10-07T13:31:55.311Z"
   },
   {
    "duration": 4947,
    "start_time": "2022-10-07T13:32:12.317Z"
   },
   {
    "duration": 63,
    "start_time": "2022-10-07T13:32:43.204Z"
   },
   {
    "duration": 50,
    "start_time": "2022-10-07T13:32:56.531Z"
   },
   {
    "duration": 4,
    "start_time": "2022-10-07T13:33:00.015Z"
   },
   {
    "duration": 10376,
    "start_time": "2022-10-07T13:34:09.163Z"
   },
   {
    "duration": 11775,
    "start_time": "2022-10-07T13:34:55.996Z"
   },
   {
    "duration": 8113,
    "start_time": "2022-10-07T13:35:31.867Z"
   },
   {
    "duration": 325,
    "start_time": "2022-10-07T13:35:47.632Z"
   },
   {
    "duration": 8550,
    "start_time": "2022-10-07T13:36:52.542Z"
   },
   {
    "duration": 8556,
    "start_time": "2022-10-07T13:37:17.924Z"
   },
   {
    "duration": 4,
    "start_time": "2022-10-07T13:38:12.893Z"
   },
   {
    "duration": 9305,
    "start_time": "2022-10-07T13:39:07.234Z"
   },
   {
    "duration": 312,
    "start_time": "2022-10-07T13:39:31.109Z"
   },
   {
    "duration": 18974,
    "start_time": "2022-10-07T13:42:24.872Z"
   },
   {
    "duration": 1681,
    "start_time": "2022-10-11T06:27:34.282Z"
   },
   {
    "duration": 1960,
    "start_time": "2022-10-11T06:27:35.967Z"
   },
   {
    "duration": 46,
    "start_time": "2022-10-11T06:27:37.929Z"
   },
   {
    "duration": 129,
    "start_time": "2022-10-11T06:27:37.978Z"
   },
   {
    "duration": 21,
    "start_time": "2022-10-11T06:27:38.109Z"
   },
   {
    "duration": 1799,
    "start_time": "2022-10-11T06:27:38.132Z"
   },
   {
    "duration": 19,
    "start_time": "2022-10-11T06:27:39.933Z"
   },
   {
    "duration": 1734,
    "start_time": "2022-10-11T06:27:39.954Z"
   },
   {
    "duration": 21,
    "start_time": "2022-10-11T06:27:41.690Z"
   },
   {
    "duration": 1713,
    "start_time": "2022-10-11T06:27:41.713Z"
   },
   {
    "duration": 11,
    "start_time": "2022-10-11T06:27:43.428Z"
   },
   {
    "duration": 18,
    "start_time": "2022-10-11T06:27:43.441Z"
   },
   {
    "duration": 34,
    "start_time": "2022-10-11T06:27:43.461Z"
   },
   {
    "duration": 232,
    "start_time": "2022-10-11T06:27:43.498Z"
   },
   {
    "duration": 357,
    "start_time": "2022-10-11T06:27:43.732Z"
   },
   {
    "duration": 241,
    "start_time": "2022-10-11T06:27:44.091Z"
   },
   {
    "duration": 4,
    "start_time": "2022-10-11T06:27:44.333Z"
   },
   {
    "duration": 195,
    "start_time": "2022-10-11T06:27:44.339Z"
   },
   {
    "duration": 287,
    "start_time": "2022-10-11T06:27:44.537Z"
   },
   {
    "duration": 391,
    "start_time": "2022-10-11T06:27:44.826Z"
   },
   {
    "duration": 212,
    "start_time": "2022-10-11T06:27:45.218Z"
   },
   {
    "duration": 218,
    "start_time": "2022-10-11T06:27:45.432Z"
   },
   {
    "duration": 352,
    "start_time": "2022-10-11T06:27:45.653Z"
   },
   {
    "duration": 188,
    "start_time": "2022-10-11T06:27:46.007Z"
   },
   {
    "duration": 5,
    "start_time": "2022-10-11T06:27:46.197Z"
   },
   {
    "duration": 16,
    "start_time": "2022-10-11T06:27:46.204Z"
   },
   {
    "duration": 15368,
    "start_time": "2022-10-11T06:27:46.222Z"
   },
   {
    "duration": 370,
    "start_time": "2022-10-11T06:28:01.592Z"
   },
   {
    "duration": 10577,
    "start_time": "2022-10-11T06:28:01.965Z"
   },
   {
    "duration": 8,
    "start_time": "2022-10-11T06:28:12.545Z"
   },
   {
    "duration": 427,
    "start_time": "2022-10-11T06:28:12.594Z"
   },
   {
    "duration": 20066,
    "start_time": "2022-10-11T06:28:13.024Z"
   },
   {
    "duration": 6,
    "start_time": "2022-10-11T06:28:33.095Z"
   },
   {
    "duration": 408,
    "start_time": "2022-10-11T06:28:33.105Z"
   },
   {
    "duration": 126,
    "start_time": "2022-10-11T06:28:33.515Z"
   },
   {
    "duration": 9,
    "start_time": "2022-10-11T06:28:39.895Z"
   },
   {
    "duration": 5,
    "start_time": "2022-10-11T06:28:45.570Z"
   },
   {
    "duration": 4,
    "start_time": "2022-10-11T06:29:23.737Z"
   },
   {
    "duration": 4,
    "start_time": "2022-10-11T06:29:32.338Z"
   },
   {
    "duration": 240,
    "start_time": "2022-10-11T06:30:27.634Z"
   },
   {
    "duration": 4,
    "start_time": "2022-10-11T06:30:30.347Z"
   },
   {
    "duration": 4,
    "start_time": "2022-10-11T06:30:55.530Z"
   },
   {
    "duration": 5,
    "start_time": "2022-10-11T06:30:57.884Z"
   },
   {
    "duration": 383,
    "start_time": "2022-10-11T06:32:33.778Z"
   },
   {
    "duration": 6,
    "start_time": "2022-10-11T06:32:45.019Z"
   },
   {
    "duration": 4,
    "start_time": "2022-10-11T06:36:58.662Z"
   },
   {
    "duration": 19,
    "start_time": "2022-10-11T06:40:13.172Z"
   },
   {
    "duration": 4,
    "start_time": "2022-10-11T06:41:26.479Z"
   },
   {
    "duration": 131,
    "start_time": "2022-10-11T06:41:43.245Z"
   },
   {
    "duration": 4,
    "start_time": "2022-10-11T06:41:48.266Z"
   },
   {
    "duration": 15,
    "start_time": "2022-10-11T06:42:14.547Z"
   },
   {
    "duration": 5,
    "start_time": "2022-10-11T06:42:27.546Z"
   },
   {
    "duration": 404,
    "start_time": "2022-10-11T06:42:42.359Z"
   },
   {
    "duration": 5,
    "start_time": "2022-10-11T06:42:50.706Z"
   },
   {
    "duration": 4,
    "start_time": "2022-10-11T06:43:06.032Z"
   },
   {
    "duration": 5,
    "start_time": "2022-10-11T06:43:07.066Z"
   },
   {
    "duration": 9,
    "start_time": "2022-10-11T06:43:31.096Z"
   },
   {
    "duration": 16,
    "start_time": "2022-10-11T06:43:31.911Z"
   },
   {
    "duration": 14492,
    "start_time": "2022-10-11T06:43:32.498Z"
   },
   {
    "duration": 332,
    "start_time": "2022-10-11T06:43:56.106Z"
   },
   {
    "duration": 7,
    "start_time": "2022-10-11T06:44:23.718Z"
   },
   {
    "duration": 16,
    "start_time": "2022-10-11T06:44:24.314Z"
   },
   {
    "duration": 3110,
    "start_time": "2022-10-11T06:44:25.279Z"
   },
   {
    "duration": 9326,
    "start_time": "2022-10-11T06:44:34.012Z"
   },
   {
    "duration": 5,
    "start_time": "2022-10-11T06:44:54.349Z"
   },
   {
    "duration": 353,
    "start_time": "2022-10-11T06:44:56.083Z"
   },
   {
    "duration": 312,
    "start_time": "2022-10-11T06:45:52.411Z"
   },
   {
    "duration": 305,
    "start_time": "2022-10-11T06:46:07.110Z"
   },
   {
    "duration": 291,
    "start_time": "2022-10-11T06:46:38.964Z"
   },
   {
    "duration": 11,
    "start_time": "2022-10-11T06:47:01.101Z"
   },
   {
    "duration": 5,
    "start_time": "2022-10-11T06:47:15.932Z"
   },
   {
    "duration": 8,
    "start_time": "2022-10-11T06:47:26.310Z"
   },
   {
    "duration": 4,
    "start_time": "2022-10-11T06:48:10.529Z"
   },
   {
    "duration": 5,
    "start_time": "2022-10-11T06:48:17.437Z"
   },
   {
    "duration": 5,
    "start_time": "2022-10-11T06:48:35.718Z"
   },
   {
    "duration": 491,
    "start_time": "2022-10-11T06:49:12.354Z"
   },
   {
    "duration": 290,
    "start_time": "2022-10-11T06:49:37.752Z"
   },
   {
    "duration": 8,
    "start_time": "2022-10-11T06:49:41.727Z"
   },
   {
    "duration": 14,
    "start_time": "2022-10-11T06:50:15.358Z"
   },
   {
    "duration": 10,
    "start_time": "2022-10-11T06:50:31.268Z"
   },
   {
    "duration": 10,
    "start_time": "2022-10-11T06:50:35.040Z"
   },
   {
    "duration": 350,
    "start_time": "2022-10-11T06:51:01.085Z"
   },
   {
    "duration": 9,
    "start_time": "2022-10-11T06:51:06.623Z"
   },
   {
    "duration": 12,
    "start_time": "2022-10-11T06:51:17.473Z"
   },
   {
    "duration": 454,
    "start_time": "2022-10-11T06:51:52.186Z"
   },
   {
    "duration": 20,
    "start_time": "2022-10-11T06:52:51.786Z"
   },
   {
    "duration": 299,
    "start_time": "2022-10-11T06:53:20.367Z"
   },
   {
    "duration": 14,
    "start_time": "2022-10-11T06:53:23.508Z"
   },
   {
    "duration": 359,
    "start_time": "2022-10-11T06:53:42.480Z"
   },
   {
    "duration": 300,
    "start_time": "2022-10-11T06:54:03.564Z"
   },
   {
    "duration": 466,
    "start_time": "2022-10-11T06:54:12.918Z"
   },
   {
    "duration": 313,
    "start_time": "2022-10-11T06:54:21.144Z"
   },
   {
    "duration": 297,
    "start_time": "2022-10-11T06:55:14.523Z"
   },
   {
    "duration": 302,
    "start_time": "2022-10-11T06:55:18.930Z"
   },
   {
    "duration": 14,
    "start_time": "2022-10-11T06:55:58.561Z"
   },
   {
    "duration": 12,
    "start_time": "2022-10-11T06:56:00.954Z"
   },
   {
    "duration": 12933,
    "start_time": "2022-10-11T06:56:03.181Z"
   },
   {
    "duration": 15,
    "start_time": "2022-10-11T06:56:30.913Z"
   },
   {
    "duration": 15,
    "start_time": "2022-10-11T06:56:32.137Z"
   },
   {
    "duration": 2420,
    "start_time": "2022-10-11T06:56:34.110Z"
   },
   {
    "duration": 12,
    "start_time": "2022-10-11T06:56:45.140Z"
   },
   {
    "duration": 12,
    "start_time": "2022-10-11T06:56:45.575Z"
   },
   {
    "duration": 2448,
    "start_time": "2022-10-11T06:56:47.466Z"
   },
   {
    "duration": 10,
    "start_time": "2022-10-11T06:57:09.413Z"
   },
   {
    "duration": 8,
    "start_time": "2022-10-11T06:57:09.827Z"
   },
   {
    "duration": 2199,
    "start_time": "2022-10-11T06:57:10.612Z"
   },
   {
    "duration": 15,
    "start_time": "2022-10-11T06:57:22.054Z"
   },
   {
    "duration": 12,
    "start_time": "2022-10-11T06:57:22.528Z"
   },
   {
    "duration": 2687,
    "start_time": "2022-10-11T06:57:23.413Z"
   },
   {
    "duration": 13,
    "start_time": "2022-10-11T06:57:43.037Z"
   },
   {
    "duration": 17,
    "start_time": "2022-10-11T06:57:43.449Z"
   },
   {
    "duration": 2784,
    "start_time": "2022-10-11T06:57:45.216Z"
   },
   {
    "duration": 58,
    "start_time": "2022-10-11T06:58:23.261Z"
   },
   {
    "duration": 309,
    "start_time": "2022-10-11T06:58:49.411Z"
   },
   {
    "duration": 285,
    "start_time": "2022-10-11T06:58:58.264Z"
   },
   {
    "duration": 364,
    "start_time": "2022-10-11T06:59:09.512Z"
   },
   {
    "duration": 331,
    "start_time": "2022-10-11T06:59:16.177Z"
   },
   {
    "duration": 8037,
    "start_time": "2022-10-11T06:59:54.978Z"
   },
   {
    "duration": 262,
    "start_time": "2022-10-11T07:00:26.857Z"
   },
   {
    "duration": 14906,
    "start_time": "2022-10-11T07:00:32.139Z"
   },
   {
    "duration": 10,
    "start_time": "2022-10-11T07:01:04.392Z"
   },
   {
    "duration": 304,
    "start_time": "2022-10-11T07:01:05.143Z"
   },
   {
    "duration": 5,
    "start_time": "2022-10-11T07:01:47.142Z"
   },
   {
    "duration": 13,
    "start_time": "2022-10-11T07:01:47.606Z"
   },
   {
    "duration": 3046,
    "start_time": "2022-10-11T07:01:49.009Z"
   },
   {
    "duration": 3,
    "start_time": "2022-10-11T07:15:23.478Z"
   },
   {
    "duration": 4,
    "start_time": "2022-10-11T07:15:29.776Z"
   },
   {
    "duration": 4,
    "start_time": "2022-10-11T07:23:06.213Z"
   },
   {
    "duration": 5,
    "start_time": "2022-10-11T07:23:11.935Z"
   },
   {
    "duration": 2,
    "start_time": "2022-10-11T07:24:53.104Z"
   },
   {
    "duration": 3,
    "start_time": "2022-10-11T07:24:53.861Z"
   },
   {
    "duration": 4,
    "start_time": "2022-10-11T07:25:07.182Z"
   },
   {
    "duration": 4,
    "start_time": "2022-10-11T07:25:09.531Z"
   },
   {
    "duration": 3,
    "start_time": "2022-10-11T07:25:22.978Z"
   },
   {
    "duration": 4,
    "start_time": "2022-10-11T07:25:24.556Z"
   },
   {
    "duration": 3,
    "start_time": "2022-10-11T07:25:31.383Z"
   },
   {
    "duration": 5,
    "start_time": "2022-10-11T07:25:33.183Z"
   },
   {
    "duration": 12,
    "start_time": "2022-10-11T07:28:08.599Z"
   },
   {
    "duration": 20,
    "start_time": "2022-10-11T07:29:07.019Z"
   },
   {
    "duration": 27,
    "start_time": "2022-10-11T07:31:38.045Z"
   },
   {
    "duration": 21,
    "start_time": "2022-10-11T07:32:06.632Z"
   },
   {
    "duration": 21,
    "start_time": "2022-10-11T07:32:36.503Z"
   },
   {
    "duration": 15,
    "start_time": "2022-10-11T07:32:46.882Z"
   },
   {
    "duration": 124,
    "start_time": "2022-10-11T07:32:56.926Z"
   },
   {
    "duration": 24,
    "start_time": "2022-10-11T07:33:22.900Z"
   },
   {
    "duration": 123,
    "start_time": "2022-10-11T07:33:36.778Z"
   },
   {
    "duration": 20,
    "start_time": "2022-10-11T07:35:16.350Z"
   },
   {
    "duration": 13,
    "start_time": "2022-10-11T07:36:34.964Z"
   },
   {
    "duration": 10,
    "start_time": "2022-10-11T07:36:57.476Z"
   },
   {
    "duration": 9,
    "start_time": "2022-10-11T07:37:16.278Z"
   },
   {
    "duration": 23,
    "start_time": "2022-10-11T07:37:34.078Z"
   },
   {
    "duration": 16,
    "start_time": "2022-10-11T07:37:57.267Z"
   },
   {
    "duration": 3,
    "start_time": "2022-10-11T07:39:02.772Z"
   },
   {
    "duration": 413,
    "start_time": "2022-10-11T07:39:03.239Z"
   },
   {
    "duration": 27,
    "start_time": "2022-10-11T07:39:04.160Z"
   },
   {
    "duration": 132,
    "start_time": "2022-10-11T07:39:07.180Z"
   },
   {
    "duration": 22,
    "start_time": "2022-10-11T07:39:11.003Z"
   },
   {
    "duration": 5440,
    "start_time": "2022-10-11T07:39:12.688Z"
   },
   {
    "duration": 5440,
    "start_time": "2022-10-11T07:39:33.819Z"
   },
   {
    "duration": 5540,
    "start_time": "2022-10-11T07:40:35.986Z"
   },
   {
    "duration": 76,
    "start_time": "2022-10-11T07:41:57.416Z"
   },
   {
    "duration": 5720,
    "start_time": "2022-10-11T07:42:40.743Z"
   },
   {
    "duration": 5704,
    "start_time": "2022-10-11T07:43:14.349Z"
   },
   {
    "duration": 5996,
    "start_time": "2022-10-11T07:52:54.849Z"
   },
   {
    "duration": 13,
    "start_time": "2022-10-11T07:54:09.282Z"
   },
   {
    "duration": 20,
    "start_time": "2022-10-11T07:54:20.878Z"
   },
   {
    "duration": 4,
    "start_time": "2022-10-11T07:54:29.520Z"
   },
   {
    "duration": 453,
    "start_time": "2022-10-11T07:54:30.067Z"
   },
   {
    "duration": 46,
    "start_time": "2022-10-11T07:54:30.661Z"
   },
   {
    "duration": 119,
    "start_time": "2022-10-11T07:54:31.435Z"
   },
   {
    "duration": 23,
    "start_time": "2022-10-11T07:54:32.961Z"
   },
   {
    "duration": 6364,
    "start_time": "2022-10-11T07:54:33.635Z"
   },
   {
    "duration": 26,
    "start_time": "2022-10-11T07:54:51.159Z"
   },
   {
    "duration": 858,
    "start_time": "2022-10-11T07:57:54.952Z"
   },
   {
    "duration": 256,
    "start_time": "2022-10-11T07:58:27.915Z"
   },
   {
    "duration": 3,
    "start_time": "2022-10-11T07:59:39.041Z"
   },
   {
    "duration": 5,
    "start_time": "2022-10-11T08:00:02.152Z"
   },
   {
    "duration": 5,
    "start_time": "2022-10-11T08:00:20.008Z"
   },
   {
    "duration": 350,
    "start_time": "2022-10-11T08:00:39.332Z"
   },
   {
    "duration": 106,
    "start_time": "2022-10-11T08:04:23.652Z"
   },
   {
    "duration": 21,
    "start_time": "2022-10-11T08:04:31.004Z"
   },
   {
    "duration": 458,
    "start_time": "2022-10-11T08:04:42.816Z"
   },
   {
    "duration": 40,
    "start_time": "2022-10-11T08:09:51.019Z"
   },
   {
    "duration": 1285,
    "start_time": "2022-10-11T08:12:56.947Z"
   },
   {
    "duration": 1006,
    "start_time": "2022-10-11T08:17:17.526Z"
   },
   {
    "duration": 222,
    "start_time": "2022-10-11T08:20:28.716Z"
   },
   {
    "duration": 15,
    "start_time": "2022-10-11T08:20:34.225Z"
   },
   {
    "duration": 17,
    "start_time": "2022-10-11T08:21:11.678Z"
   },
   {
    "duration": 14,
    "start_time": "2022-10-11T08:21:20.621Z"
   },
   {
    "duration": 217,
    "start_time": "2022-10-11T08:21:29.943Z"
   },
   {
    "duration": 242,
    "start_time": "2022-10-11T08:21:38.277Z"
   },
   {
    "duration": 19,
    "start_time": "2022-10-11T08:22:03.438Z"
   },
   {
    "duration": 5,
    "start_time": "2022-10-11T08:22:08.982Z"
   },
   {
    "duration": 587,
    "start_time": "2022-10-11T08:22:09.442Z"
   },
   {
    "duration": 34,
    "start_time": "2022-10-11T08:22:10.032Z"
   },
   {
    "duration": 170,
    "start_time": "2022-10-11T08:22:10.568Z"
   },
   {
    "duration": 7214,
    "start_time": "2022-10-11T08:22:11.223Z"
   },
   {
    "duration": 35,
    "start_time": "2022-10-11T08:22:18.449Z"
   },
   {
    "duration": 283,
    "start_time": "2022-10-11T08:22:20.973Z"
   },
   {
    "duration": 472,
    "start_time": "2022-10-11T08:22:23.544Z"
   },
   {
    "duration": 46,
    "start_time": "2022-10-11T08:22:26.557Z"
   },
   {
    "duration": 1730,
    "start_time": "2022-10-11T08:22:30.931Z"
   },
   {
    "duration": 183,
    "start_time": "2022-10-11T08:23:02.603Z"
   },
   {
    "duration": 176,
    "start_time": "2022-10-11T08:23:37.836Z"
   },
   {
    "duration": 266,
    "start_time": "2022-10-11T08:24:13.967Z"
   },
   {
    "duration": 492,
    "start_time": "2022-10-11T08:24:35.590Z"
   },
   {
    "duration": 1759,
    "start_time": "2022-10-11T08:31:12.802Z"
   },
   {
    "duration": 2576,
    "start_time": "2022-10-11T08:32:51.047Z"
   },
   {
    "duration": 15575,
    "start_time": "2022-10-11T08:35:03.366Z"
   },
   {
    "duration": 6792,
    "start_time": "2022-10-11T08:35:59.379Z"
   },
   {
    "duration": 121,
    "start_time": "2022-10-11T09:00:57.578Z"
   },
   {
    "duration": 153,
    "start_time": "2022-10-11T09:01:14.922Z"
   },
   {
    "duration": 111,
    "start_time": "2022-10-11T09:01:56.431Z"
   },
   {
    "duration": 441,
    "start_time": "2022-10-11T09:01:58.219Z"
   },
   {
    "duration": 131,
    "start_time": "2022-10-11T09:02:47.943Z"
   },
   {
    "duration": 429,
    "start_time": "2022-10-11T09:02:48.952Z"
   },
   {
    "duration": 126,
    "start_time": "2022-10-11T09:04:52.368Z"
   },
   {
    "duration": 604,
    "start_time": "2022-10-11T09:04:53.523Z"
   },
   {
    "duration": 14,
    "start_time": "2022-10-11T09:05:41.552Z"
   },
   {
    "duration": 308,
    "start_time": "2022-10-11T09:06:04.967Z"
   },
   {
    "duration": 118,
    "start_time": "2022-10-11T09:07:55.238Z"
   },
   {
    "duration": 142,
    "start_time": "2022-10-11T09:07:57.716Z"
   },
   {
    "duration": 6,
    "start_time": "2022-10-11T09:08:01.157Z"
   },
   {
    "duration": 128,
    "start_time": "2022-10-11T09:08:39.216Z"
   },
   {
    "duration": 260,
    "start_time": "2022-10-11T09:08:39.820Z"
   },
   {
    "duration": 12,
    "start_time": "2022-10-11T09:08:42.629Z"
   },
   {
    "duration": 116,
    "start_time": "2022-10-11T09:10:19.436Z"
   },
   {
    "duration": 277,
    "start_time": "2022-10-11T09:10:19.931Z"
   },
   {
    "duration": 14,
    "start_time": "2022-10-11T09:10:20.533Z"
   },
   {
    "duration": 94,
    "start_time": "2022-10-11T09:12:55.342Z"
   },
   {
    "duration": 250,
    "start_time": "2022-10-11T09:12:56.619Z"
   },
   {
    "duration": 11,
    "start_time": "2022-10-11T09:12:58.469Z"
   },
   {
    "duration": 97,
    "start_time": "2022-10-11T09:15:24.386Z"
   },
   {
    "duration": 378,
    "start_time": "2022-10-11T09:15:26.633Z"
   },
   {
    "duration": 11,
    "start_time": "2022-10-11T09:15:29.657Z"
   },
   {
    "duration": 440,
    "start_time": "2022-10-11T09:15:54.483Z"
   },
   {
    "duration": 10,
    "start_time": "2022-10-11T09:18:39.763Z"
   },
   {
    "duration": 14,
    "start_time": "2022-10-11T09:18:48.169Z"
   },
   {
    "duration": 92,
    "start_time": "2022-10-11T09:21:52.550Z"
   },
   {
    "duration": 109,
    "start_time": "2022-10-11T09:22:09.848Z"
   },
   {
    "duration": 4,
    "start_time": "2022-10-11T09:22:35.938Z"
   },
   {
    "duration": 440,
    "start_time": "2022-10-11T09:22:36.533Z"
   },
   {
    "duration": 42,
    "start_time": "2022-10-11T09:22:37.320Z"
   },
   {
    "duration": 116,
    "start_time": "2022-10-11T09:22:38.645Z"
   },
   {
    "duration": 6049,
    "start_time": "2022-10-11T09:22:41.522Z"
   },
   {
    "duration": 48,
    "start_time": "2022-10-11T09:22:47.573Z"
   },
   {
    "duration": 244,
    "start_time": "2022-10-11T09:22:47.623Z"
   },
   {
    "duration": 418,
    "start_time": "2022-10-11T09:22:52.223Z"
   },
   {
    "duration": 110,
    "start_time": "2022-10-11T09:22:53.786Z"
   },
   {
    "duration": 18,
    "start_time": "2022-10-11T09:23:05.916Z"
   },
   {
    "duration": 449,
    "start_time": "2022-10-11T09:23:26.954Z"
   },
   {
    "duration": 74,
    "start_time": "2022-10-11T09:25:36.050Z"
   },
   {
    "duration": 21,
    "start_time": "2022-10-11T09:25:42.859Z"
   },
   {
    "duration": 454,
    "start_time": "2022-10-11T09:25:57.058Z"
   },
   {
    "duration": 520,
    "start_time": "2022-10-11T09:26:34.188Z"
   },
   {
    "duration": 689,
    "start_time": "2022-10-11T09:26:51.607Z"
   },
   {
    "duration": 491,
    "start_time": "2022-10-11T09:27:01.671Z"
   },
   {
    "duration": 1423,
    "start_time": "2022-10-11T09:28:48.885Z"
   },
   {
    "duration": 742,
    "start_time": "2022-10-11T09:29:13.514Z"
   },
   {
    "duration": 594,
    "start_time": "2022-10-11T09:29:34.663Z"
   },
   {
    "duration": 591,
    "start_time": "2022-10-11T09:29:42.723Z"
   },
   {
    "duration": 705,
    "start_time": "2022-10-11T09:30:53.672Z"
   },
   {
    "duration": 745,
    "start_time": "2022-10-11T09:31:07.270Z"
   },
   {
    "duration": 926,
    "start_time": "2022-10-11T09:31:53.717Z"
   },
   {
    "duration": 8,
    "start_time": "2022-10-11T09:32:25.952Z"
   },
   {
    "duration": 25,
    "start_time": "2022-10-11T09:32:27.199Z"
   },
   {
    "duration": 18062,
    "start_time": "2022-10-11T09:32:28.696Z"
   },
   {
    "duration": 1680,
    "start_time": "2022-10-11T09:32:56.477Z"
   },
   {
    "duration": 489,
    "start_time": "2022-10-11T09:32:58.161Z"
   },
   {
    "duration": 42,
    "start_time": "2022-10-11T09:32:58.651Z"
   },
   {
    "duration": 141,
    "start_time": "2022-10-11T09:32:58.695Z"
   },
   {
    "duration": 6016,
    "start_time": "2022-10-11T09:32:58.838Z"
   },
   {
    "duration": 56,
    "start_time": "2022-10-11T09:33:04.856Z"
   },
   {
    "duration": 451,
    "start_time": "2022-10-11T09:33:04.917Z"
   },
   {
    "duration": 113,
    "start_time": "2022-10-11T09:33:05.370Z"
   },
   {
    "duration": 549,
    "start_time": "2022-10-11T09:33:05.485Z"
   },
   {
    "duration": 622,
    "start_time": "2022-10-11T09:33:06.038Z"
   },
   {
    "duration": 734,
    "start_time": "2022-10-11T09:33:06.662Z"
   },
   {
    "duration": 13,
    "start_time": "2022-10-11T09:33:07.398Z"
   },
   {
    "duration": 50,
    "start_time": "2022-10-11T09:33:07.413Z"
   },
   {
    "duration": 18799,
    "start_time": "2022-10-11T09:33:07.465Z"
   },
   {
    "duration": 0,
    "start_time": "2022-10-11T09:33:26.266Z"
   },
   {
    "duration": 0,
    "start_time": "2022-10-11T09:33:26.267Z"
   },
   {
    "duration": 0,
    "start_time": "2022-10-11T09:33:26.268Z"
   },
   {
    "duration": 1,
    "start_time": "2022-10-11T09:33:26.269Z"
   },
   {
    "duration": 0,
    "start_time": "2022-10-11T09:33:26.270Z"
   },
   {
    "duration": 0,
    "start_time": "2022-10-11T09:33:26.272Z"
   },
   {
    "duration": 0,
    "start_time": "2022-10-11T09:33:26.273Z"
   },
   {
    "duration": 0,
    "start_time": "2022-10-11T09:33:26.274Z"
   },
   {
    "duration": 0,
    "start_time": "2022-10-11T09:33:26.276Z"
   },
   {
    "duration": 0,
    "start_time": "2022-10-11T09:33:26.300Z"
   },
   {
    "duration": 6,
    "start_time": "2022-10-11T09:34:57.119Z"
   },
   {
    "duration": 14,
    "start_time": "2022-10-11T09:34:58.441Z"
   },
   {
    "duration": 2942,
    "start_time": "2022-10-11T09:34:59.274Z"
   },
   {
    "duration": 21,
    "start_time": "2022-10-11T09:35:16.579Z"
   },
   {
    "duration": 18,
    "start_time": "2022-10-11T09:35:17.117Z"
   },
   {
    "duration": 2413,
    "start_time": "2022-10-11T09:35:17.782Z"
   },
   {
    "duration": 19,
    "start_time": "2022-10-11T09:36:20.258Z"
   },
   {
    "duration": 2340,
    "start_time": "2022-10-11T09:38:06.404Z"
   },
   {
    "duration": 319,
    "start_time": "2022-10-11T09:38:13.614Z"
   },
   {
    "duration": 6916,
    "start_time": "2022-10-11T09:38:16.979Z"
   },
   {
    "duration": 4,
    "start_time": "2022-10-11T09:38:30.860Z"
   },
   {
    "duration": 269,
    "start_time": "2022-10-11T09:38:31.254Z"
   },
   {
    "duration": 12853,
    "start_time": "2022-10-11T09:38:39.750Z"
   },
   {
    "duration": 5,
    "start_time": "2022-10-11T09:38:52.608Z"
   },
   {
    "duration": 298,
    "start_time": "2022-10-11T09:38:52.620Z"
   },
   {
    "duration": 4,
    "start_time": "2022-10-11T09:39:00.582Z"
   },
   {
    "duration": 3,
    "start_time": "2022-10-11T09:39:02.515Z"
   },
   {
    "duration": 35,
    "start_time": "2022-10-11T09:39:39.389Z"
   },
   {
    "duration": 8,
    "start_time": "2022-10-11T09:39:47.015Z"
   },
   {
    "duration": 4,
    "start_time": "2022-10-11T09:40:08.171Z"
   },
   {
    "duration": 398,
    "start_time": "2022-10-12T00:14:46.232Z"
   },
   {
    "duration": 375,
    "start_time": "2022-10-12T00:14:56.406Z"
   },
   {
    "duration": 642,
    "start_time": "2022-10-12T00:15:37.739Z"
   },
   {
    "duration": 214,
    "start_time": "2022-10-12T00:18:29.230Z"
   },
   {
    "duration": 16,
    "start_time": "2022-10-12T00:20:25.484Z"
   },
   {
    "duration": 6,
    "start_time": "2022-10-12T00:20:42.218Z"
   },
   {
    "duration": 5,
    "start_time": "2022-10-12T00:23:44.621Z"
   },
   {
    "duration": 6,
    "start_time": "2022-10-12T00:24:23.079Z"
   },
   {
    "duration": 76,
    "start_time": "2022-10-12T00:25:41.032Z"
   },
   {
    "duration": 4,
    "start_time": "2022-10-12T00:25:48.606Z"
   },
   {
    "duration": 4,
    "start_time": "2022-10-12T00:26:06.126Z"
   },
   {
    "duration": 79,
    "start_time": "2022-10-12T00:26:33.694Z"
   },
   {
    "duration": 3,
    "start_time": "2022-10-12T00:26:42.791Z"
   },
   {
    "duration": 6,
    "start_time": "2022-10-12T00:27:03.176Z"
   },
   {
    "duration": 6,
    "start_time": "2022-10-12T00:27:32.997Z"
   },
   {
    "duration": 3,
    "start_time": "2022-10-12T00:28:40.653Z"
   },
   {
    "duration": 3,
    "start_time": "2022-10-12T00:29:02.645Z"
   },
   {
    "duration": 12,
    "start_time": "2022-10-12T00:31:28.927Z"
   },
   {
    "duration": 12,
    "start_time": "2022-10-12T00:31:29.521Z"
   },
   {
    "duration": 12658,
    "start_time": "2022-10-12T00:31:30.036Z"
   },
   {
    "duration": 405,
    "start_time": "2022-10-12T00:31:42.698Z"
   },
   {
    "duration": 3,
    "start_time": "2022-10-12T00:53:25.829Z"
   },
   {
    "duration": 4,
    "start_time": "2022-10-12T01:29:58.165Z"
   },
   {
    "duration": 4,
    "start_time": "2022-10-12T01:29:59.163Z"
   },
   {
    "duration": 6,
    "start_time": "2022-10-12T01:29:59.879Z"
   },
   {
    "duration": 4,
    "start_time": "2022-10-12T01:30:01.933Z"
   },
   {
    "duration": 115,
    "start_time": "2022-10-12T01:30:03.197Z"
   },
   {
    "duration": 6,
    "start_time": "2022-10-12T01:30:24.952Z"
   },
   {
    "duration": 13,
    "start_time": "2022-10-12T01:34:20.809Z"
   },
   {
    "duration": 22,
    "start_time": "2022-10-12T01:34:59.570Z"
   },
   {
    "duration": 3,
    "start_time": "2022-10-12T01:35:24.960Z"
   },
   {
    "duration": 7,
    "start_time": "2022-10-12T01:35:25.386Z"
   },
   {
    "duration": 5,
    "start_time": "2022-10-12T01:35:26.462Z"
   },
   {
    "duration": 27,
    "start_time": "2022-10-12T01:35:26.994Z"
   },
   {
    "duration": 25,
    "start_time": "2022-10-12T01:36:40.275Z"
   },
   {
    "duration": 13,
    "start_time": "2022-10-12T01:38:27.479Z"
   },
   {
    "duration": 12,
    "start_time": "2022-10-12T01:38:28.009Z"
   },
   {
    "duration": 11752,
    "start_time": "2022-10-12T01:38:29.645Z"
   },
   {
    "duration": 283,
    "start_time": "2022-10-12T01:38:44.324Z"
   },
   {
    "duration": 4,
    "start_time": "2022-10-12T01:38:49.846Z"
   },
   {
    "duration": 4,
    "start_time": "2022-10-12T01:38:50.343Z"
   },
   {
    "duration": 7,
    "start_time": "2022-10-12T01:38:52.053Z"
   },
   {
    "duration": 4,
    "start_time": "2022-10-12T01:38:56.459Z"
   },
   {
    "duration": 7,
    "start_time": "2022-10-12T01:38:57.059Z"
   },
   {
    "duration": 6,
    "start_time": "2022-10-12T01:38:58.438Z"
   },
   {
    "duration": 26,
    "start_time": "2022-10-12T01:38:59.181Z"
   },
   {
    "duration": 7,
    "start_time": "2022-10-12T01:41:45.272Z"
   },
   {
    "duration": 5,
    "start_time": "2022-10-12T01:42:25.453Z"
   },
   {
    "duration": 6,
    "start_time": "2022-10-12T01:42:48.547Z"
   },
   {
    "duration": 3,
    "start_time": "2022-10-12T01:43:42.042Z"
   },
   {
    "duration": 7,
    "start_time": "2022-10-12T01:43:42.625Z"
   },
   {
    "duration": 4,
    "start_time": "2022-10-12T01:43:43.320Z"
   },
   {
    "duration": 6,
    "start_time": "2022-10-12T01:43:44.052Z"
   },
   {
    "duration": 6,
    "start_time": "2022-10-12T01:43:46.744Z"
   },
   {
    "duration": 11,
    "start_time": "2022-10-12T01:44:06.348Z"
   },
   {
    "duration": 6,
    "start_time": "2022-10-12T01:44:15.627Z"
   },
   {
    "duration": 3,
    "start_time": "2022-10-12T01:44:24.828Z"
   },
   {
    "duration": 7,
    "start_time": "2022-10-12T01:44:25.430Z"
   },
   {
    "duration": 4,
    "start_time": "2022-10-12T01:44:26.958Z"
   },
   {
    "duration": 6,
    "start_time": "2022-10-12T01:44:27.694Z"
   },
   {
    "duration": 26,
    "start_time": "2022-10-12T01:44:35.088Z"
   },
   {
    "duration": 4,
    "start_time": "2022-10-12T01:45:06.293Z"
   },
   {
    "duration": 6,
    "start_time": "2022-10-12T01:45:06.795Z"
   },
   {
    "duration": 7,
    "start_time": "2022-10-12T01:45:07.234Z"
   },
   {
    "duration": 23,
    "start_time": "2022-10-12T01:45:07.869Z"
   },
   {
    "duration": 6,
    "start_time": "2022-10-12T01:46:21.028Z"
   },
   {
    "duration": 7,
    "start_time": "2022-10-12T01:46:21.528Z"
   },
   {
    "duration": 23,
    "start_time": "2022-10-12T01:46:22.092Z"
   },
   {
    "duration": 4,
    "start_time": "2022-10-12T01:50:04.946Z"
   },
   {
    "duration": 7,
    "start_time": "2022-10-12T01:50:05.541Z"
   },
   {
    "duration": 6,
    "start_time": "2022-10-12T01:50:06.393Z"
   },
   {
    "duration": 22,
    "start_time": "2022-10-12T01:50:06.917Z"
   },
   {
    "duration": 3,
    "start_time": "2022-10-12T01:54:53.196Z"
   },
   {
    "duration": 7,
    "start_time": "2022-10-12T01:54:53.647Z"
   },
   {
    "duration": 9,
    "start_time": "2022-10-12T01:54:54.436Z"
   },
   {
    "duration": 27,
    "start_time": "2022-10-12T01:54:55.093Z"
   },
   {
    "duration": 3,
    "start_time": "2022-10-12T01:58:21.760Z"
   },
   {
    "duration": 4,
    "start_time": "2022-10-12T01:58:22.172Z"
   },
   {
    "duration": 6,
    "start_time": "2022-10-12T01:58:22.562Z"
   },
   {
    "duration": 3,
    "start_time": "2022-10-12T01:58:23.840Z"
   },
   {
    "duration": 7,
    "start_time": "2022-10-12T01:58:24.420Z"
   },
   {
    "duration": 6,
    "start_time": "2022-10-12T01:58:25.874Z"
   },
   {
    "duration": 1583,
    "start_time": "2022-10-12T01:58:26.513Z"
   },
   {
    "duration": 7,
    "start_time": "2022-10-12T01:59:24.121Z"
   },
   {
    "duration": 8,
    "start_time": "2022-10-12T01:59:24.725Z"
   },
   {
    "duration": 1573,
    "start_time": "2022-10-12T01:59:25.153Z"
   },
   {
    "duration": 79,
    "start_time": "2022-10-12T02:26:10.969Z"
   },
   {
    "duration": 5,
    "start_time": "2022-10-12T02:26:19.275Z"
   },
   {
    "duration": 5371,
    "start_time": "2022-10-12T02:27:38.107Z"
   },
   {
    "duration": 1450,
    "start_time": "2022-10-12T02:32:51.886Z"
   },
   {
    "duration": 380,
    "start_time": "2022-10-12T02:32:53.340Z"
   },
   {
    "duration": 29,
    "start_time": "2022-10-12T02:32:53.722Z"
   },
   {
    "duration": 123,
    "start_time": "2022-10-12T02:32:53.753Z"
   },
   {
    "duration": 4659,
    "start_time": "2022-10-12T02:32:53.891Z"
   },
   {
    "duration": 39,
    "start_time": "2022-10-12T02:32:58.551Z"
   },
   {
    "duration": 383,
    "start_time": "2022-10-12T02:32:58.592Z"
   },
   {
    "duration": 83,
    "start_time": "2022-10-12T02:32:58.976Z"
   },
   {
    "duration": 458,
    "start_time": "2022-10-12T02:32:59.061Z"
   },
   {
    "duration": 581,
    "start_time": "2022-10-12T02:32:59.521Z"
   },
   {
    "duration": 642,
    "start_time": "2022-10-12T02:33:00.104Z"
   },
   {
    "duration": 16,
    "start_time": "2022-10-12T02:33:00.748Z"
   },
   {
    "duration": 27,
    "start_time": "2022-10-12T02:33:00.766Z"
   },
   {
    "duration": 13093,
    "start_time": "2022-10-12T02:33:00.796Z"
   },
   {
    "duration": 326,
    "start_time": "2022-10-12T02:33:13.892Z"
   },
   {
    "duration": 7193,
    "start_time": "2022-10-12T02:33:14.220Z"
   },
   {
    "duration": 392,
    "start_time": "2022-10-12T02:33:21.416Z"
   },
   {
    "duration": 13683,
    "start_time": "2022-10-12T02:33:21.811Z"
   },
   {
    "duration": 95,
    "start_time": "2022-10-12T02:33:35.497Z"
   },
   {
    "duration": 524,
    "start_time": "2022-10-12T02:33:35.594Z"
   },
   {
    "duration": 3,
    "start_time": "2022-10-12T02:33:36.119Z"
   },
   {
    "duration": 127,
    "start_time": "2022-10-12T02:33:36.124Z"
   },
   {
    "duration": 0,
    "start_time": "2022-10-12T02:33:36.253Z"
   },
   {
    "duration": 0,
    "start_time": "2022-10-12T02:33:36.254Z"
   },
   {
    "duration": 0,
    "start_time": "2022-10-12T02:33:36.255Z"
   },
   {
    "duration": 0,
    "start_time": "2022-10-12T02:33:36.256Z"
   },
   {
    "duration": 0,
    "start_time": "2022-10-12T02:33:36.258Z"
   },
   {
    "duration": 6,
    "start_time": "2022-10-12T02:33:53.547Z"
   },
   {
    "duration": 4,
    "start_time": "2022-10-12T02:33:58.621Z"
   },
   {
    "duration": 7,
    "start_time": "2022-10-12T02:33:59.932Z"
   },
   {
    "duration": 4,
    "start_time": "2022-10-12T02:34:00.833Z"
   },
   {
    "duration": 5210,
    "start_time": "2022-10-12T02:34:02.125Z"
   },
   {
    "duration": 5,
    "start_time": "2022-10-12T02:51:26.947Z"
   },
   {
    "duration": 8,
    "start_time": "2022-10-12T02:51:28.108Z"
   },
   {
    "duration": 22295,
    "start_time": "2022-10-12T02:51:37.564Z"
   },
   {
    "duration": 7,
    "start_time": "2022-10-12T02:52:26.299Z"
   },
   {
    "duration": 6,
    "start_time": "2022-10-12T02:52:27.500Z"
   },
   {
    "duration": 12518,
    "start_time": "2022-10-12T02:52:28.007Z"
   },
   {
    "duration": 3,
    "start_time": "2022-10-12T02:56:00.198Z"
   },
   {
    "duration": 4,
    "start_time": "2022-10-12T03:07:19.585Z"
   },
   {
    "duration": 28,
    "start_time": "2022-10-12T03:07:25.930Z"
   },
   {
    "duration": 343,
    "start_time": "2022-10-12T03:11:38.071Z"
   },
   {
    "duration": 260,
    "start_time": "2022-10-12T03:12:06.247Z"
   },
   {
    "duration": 311,
    "start_time": "2022-10-12T03:12:19.611Z"
   },
   {
    "duration": 274,
    "start_time": "2022-10-12T03:12:30.630Z"
   },
   {
    "duration": 303,
    "start_time": "2022-10-12T03:12:35.670Z"
   },
   {
    "duration": 271,
    "start_time": "2022-10-12T03:12:39.834Z"
   },
   {
    "duration": 284,
    "start_time": "2022-10-12T03:12:43.836Z"
   },
   {
    "duration": 296,
    "start_time": "2022-10-12T03:12:48.505Z"
   },
   {
    "duration": 301,
    "start_time": "2022-10-12T03:12:56.193Z"
   },
   {
    "duration": 327,
    "start_time": "2022-10-12T03:13:01.625Z"
   },
   {
    "duration": 286,
    "start_time": "2022-10-12T03:13:16.532Z"
   },
   {
    "duration": 295,
    "start_time": "2022-10-12T03:13:25.808Z"
   },
   {
    "duration": 373,
    "start_time": "2022-10-12T03:13:36.342Z"
   },
   {
    "duration": 5,
    "start_time": "2022-10-12T03:15:26.706Z"
   },
   {
    "duration": 10,
    "start_time": "2022-10-12T03:15:51.077Z"
   },
   {
    "duration": 9,
    "start_time": "2022-10-12T03:16:01.122Z"
   },
   {
    "duration": 9,
    "start_time": "2022-10-12T03:16:13.788Z"
   },
   {
    "duration": 9,
    "start_time": "2022-10-12T03:16:39.240Z"
   },
   {
    "duration": 344,
    "start_time": "2022-10-12T03:17:33.181Z"
   },
   {
    "duration": 333,
    "start_time": "2022-10-12T03:18:04.768Z"
   },
   {
    "duration": 309,
    "start_time": "2022-10-12T03:19:11.315Z"
   },
   {
    "duration": 271,
    "start_time": "2022-10-12T03:20:46.236Z"
   },
   {
    "duration": 74,
    "start_time": "2022-10-12T03:25:11.197Z"
   },
   {
    "duration": 143,
    "start_time": "2022-10-12T03:25:21.466Z"
   },
   {
    "duration": 141,
    "start_time": "2022-10-12T03:26:10.749Z"
   },
   {
    "duration": 106,
    "start_time": "2022-10-12T03:26:51.193Z"
   },
   {
    "duration": 322,
    "start_time": "2022-10-12T03:27:07.789Z"
   },
   {
    "duration": 7,
    "start_time": "2022-10-12T03:27:24.028Z"
   },
   {
    "duration": 476,
    "start_time": "2022-10-12T03:29:41.094Z"
   },
   {
    "duration": 315,
    "start_time": "2022-10-12T03:30:15.607Z"
   },
   {
    "duration": 7,
    "start_time": "2022-10-12T03:30:40.219Z"
   },
   {
    "duration": 318,
    "start_time": "2022-10-12T03:31:11.221Z"
   },
   {
    "duration": 11,
    "start_time": "2022-10-12T03:31:32.925Z"
   },
   {
    "duration": 15,
    "start_time": "2022-10-12T03:32:03.527Z"
   },
   {
    "duration": 8,
    "start_time": "2022-10-12T03:32:17.761Z"
   },
   {
    "duration": 8,
    "start_time": "2022-10-12T03:32:30.651Z"
   },
   {
    "duration": 8,
    "start_time": "2022-10-12T03:32:40.737Z"
   },
   {
    "duration": 6,
    "start_time": "2022-10-12T03:33:20.203Z"
   },
   {
    "duration": 12,
    "start_time": "2022-10-12T03:33:48.776Z"
   },
   {
    "duration": 6,
    "start_time": "2022-10-12T03:34:12.882Z"
   },
   {
    "duration": 24,
    "start_time": "2022-10-12T03:36:55.955Z"
   },
   {
    "duration": 16,
    "start_time": "2022-10-12T03:37:06.539Z"
   },
   {
    "duration": 331,
    "start_time": "2022-10-12T03:40:07.378Z"
   },
   {
    "duration": 302,
    "start_time": "2022-10-12T03:41:21.648Z"
   },
   {
    "duration": 280,
    "start_time": "2022-10-12T03:42:05.432Z"
   },
   {
    "duration": 1160,
    "start_time": "2022-10-12T03:42:27.266Z"
   },
   {
    "duration": 6,
    "start_time": "2022-10-12T03:42:39.699Z"
   },
   {
    "duration": 286,
    "start_time": "2022-10-12T03:42:49.020Z"
   },
   {
    "duration": 368,
    "start_time": "2022-10-12T03:43:19.934Z"
   },
   {
    "duration": 272,
    "start_time": "2022-10-12T03:43:29.932Z"
   },
   {
    "duration": 315,
    "start_time": "2022-10-12T03:43:58.707Z"
   },
   {
    "duration": 307,
    "start_time": "2022-10-12T03:44:07.396Z"
   },
   {
    "duration": 1301,
    "start_time": "2022-10-12T03:45:44.722Z"
   },
   {
    "duration": 5,
    "start_time": "2022-10-12T03:45:49.451Z"
   },
   {
    "duration": 1204,
    "start_time": "2022-10-12T03:45:59.852Z"
   },
   {
    "duration": 7,
    "start_time": "2022-10-12T03:46:03.684Z"
   },
   {
    "duration": 6,
    "start_time": "2022-10-12T03:46:31.506Z"
   },
   {
    "duration": 6,
    "start_time": "2022-10-12T03:46:39.277Z"
   },
   {
    "duration": 1243,
    "start_time": "2022-10-12T03:46:47.979Z"
   },
   {
    "duration": 134,
    "start_time": "2022-10-12T03:50:13.971Z"
   },
   {
    "duration": 190,
    "start_time": "2022-10-12T03:50:34.801Z"
   },
   {
    "duration": 192,
    "start_time": "2022-10-12T03:51:28.704Z"
   },
   {
    "duration": 86,
    "start_time": "2022-10-12T03:51:51.613Z"
   },
   {
    "duration": 196,
    "start_time": "2022-10-12T03:52:21.698Z"
   },
   {
    "duration": 75,
    "start_time": "2022-10-12T03:52:30.118Z"
   },
   {
    "duration": 47,
    "start_time": "2022-10-12T03:53:25.749Z"
   },
   {
    "duration": 84,
    "start_time": "2022-10-12T03:54:00.820Z"
   },
   {
    "duration": 1306,
    "start_time": "2022-10-12T03:54:11.555Z"
   },
   {
    "duration": 107,
    "start_time": "2022-10-12T03:54:28.793Z"
   },
   {
    "duration": 173,
    "start_time": "2022-10-12T03:55:27.626Z"
   },
   {
    "duration": 121,
    "start_time": "2022-10-12T03:56:08.484Z"
   },
   {
    "duration": 168,
    "start_time": "2022-10-12T03:56:30.424Z"
   },
   {
    "duration": 192,
    "start_time": "2022-10-12T03:57:18.314Z"
   },
   {
    "duration": 39,
    "start_time": "2022-10-12T03:57:27.057Z"
   },
   {
    "duration": 257,
    "start_time": "2022-10-12T03:58:18.653Z"
   },
   {
    "duration": 17,
    "start_time": "2022-10-12T04:03:02.599Z"
   },
   {
    "duration": 98,
    "start_time": "2022-10-12T04:03:12.811Z"
   },
   {
    "duration": 71,
    "start_time": "2022-10-12T04:03:47.619Z"
   },
   {
    "duration": 24,
    "start_time": "2022-10-12T04:03:54.383Z"
   },
   {
    "duration": 68,
    "start_time": "2022-10-12T04:03:58.227Z"
   },
   {
    "duration": 105,
    "start_time": "2022-10-12T04:04:11.787Z"
   },
   {
    "duration": 56,
    "start_time": "2022-10-12T04:04:19.341Z"
   },
   {
    "duration": 6,
    "start_time": "2022-10-12T04:05:36.875Z"
   },
   {
    "duration": 33,
    "start_time": "2022-10-12T04:06:04.373Z"
   },
   {
    "duration": 47,
    "start_time": "2022-10-12T04:06:11.641Z"
   },
   {
    "duration": 19,
    "start_time": "2022-10-12T04:07:07.722Z"
   },
   {
    "duration": 198,
    "start_time": "2022-10-12T04:07:22.397Z"
   },
   {
    "duration": 64,
    "start_time": "2022-10-12T04:07:30.231Z"
   },
   {
    "duration": 68,
    "start_time": "2022-10-12T04:07:51.625Z"
   },
   {
    "duration": 46,
    "start_time": "2022-10-12T04:07:57.145Z"
   },
   {
    "duration": 84,
    "start_time": "2022-10-12T04:08:04.422Z"
   },
   {
    "duration": 23,
    "start_time": "2022-10-12T04:08:30.779Z"
   },
   {
    "duration": 36,
    "start_time": "2022-10-12T04:08:38.683Z"
   },
   {
    "duration": 109,
    "start_time": "2022-10-12T04:09:29.799Z"
   },
   {
    "duration": 32,
    "start_time": "2022-10-12T04:09:36.559Z"
   },
   {
    "duration": 199,
    "start_time": "2022-10-12T04:09:51.794Z"
   },
   {
    "duration": 126,
    "start_time": "2022-10-12T04:10:01.989Z"
   },
   {
    "duration": 105,
    "start_time": "2022-10-12T04:10:12.503Z"
   },
   {
    "duration": 145,
    "start_time": "2022-10-12T04:10:20.858Z"
   },
   {
    "duration": 73,
    "start_time": "2022-10-12T04:10:35.522Z"
   },
   {
    "duration": 17,
    "start_time": "2022-10-12T04:10:49.208Z"
   },
   {
    "duration": 71,
    "start_time": "2022-10-12T04:10:58.719Z"
   },
   {
    "duration": 78,
    "start_time": "2022-10-12T04:12:06.024Z"
   },
   {
    "duration": 23,
    "start_time": "2022-10-12T04:12:27.597Z"
   },
   {
    "duration": 27,
    "start_time": "2022-10-12T04:12:35.174Z"
   },
   {
    "duration": 139,
    "start_time": "2022-10-12T04:12:45.156Z"
   },
   {
    "duration": 153,
    "start_time": "2022-10-12T04:13:23.243Z"
   },
   {
    "duration": 169,
    "start_time": "2022-10-12T04:13:47.636Z"
   },
   {
    "duration": 146,
    "start_time": "2022-10-12T04:15:13.144Z"
   },
   {
    "duration": 176,
    "start_time": "2022-10-12T04:18:03.235Z"
   },
   {
    "duration": 130,
    "start_time": "2022-10-12T04:18:22.568Z"
   },
   {
    "duration": 81,
    "start_time": "2022-10-12T04:18:58.252Z"
   },
   {
    "duration": 66,
    "start_time": "2022-10-12T04:19:03.948Z"
   },
   {
    "duration": 118,
    "start_time": "2022-10-12T04:19:15.785Z"
   },
   {
    "duration": 191,
    "start_time": "2022-10-12T04:20:24.800Z"
   },
   {
    "duration": 100,
    "start_time": "2022-10-12T04:20:35.611Z"
   },
   {
    "duration": 64,
    "start_time": "2022-10-12T04:20:44.529Z"
   },
   {
    "duration": 29,
    "start_time": "2022-10-12T04:21:25.161Z"
   },
   {
    "duration": 19,
    "start_time": "2022-10-12T04:21:41.384Z"
   },
   {
    "duration": 117,
    "start_time": "2022-10-12T04:22:40.388Z"
   },
   {
    "duration": 1294,
    "start_time": "2022-10-12T04:22:57.575Z"
   },
   {
    "duration": 1486,
    "start_time": "2022-10-12T04:23:09.102Z"
   },
   {
    "duration": 1438,
    "start_time": "2022-10-12T04:23:35.088Z"
   },
   {
    "duration": 125,
    "start_time": "2022-10-12T04:23:41.286Z"
   },
   {
    "duration": 1356,
    "start_time": "2022-10-12T04:24:00.581Z"
   },
   {
    "duration": 104,
    "start_time": "2022-10-12T04:24:15.302Z"
   },
   {
    "duration": 43,
    "start_time": "2022-10-12T04:24:29.964Z"
   },
   {
    "duration": 305,
    "start_time": "2022-10-12T04:25:21.910Z"
   },
   {
    "duration": 293,
    "start_time": "2022-10-12T04:25:45.202Z"
   },
   {
    "duration": 298,
    "start_time": "2022-10-12T04:26:02.615Z"
   },
   {
    "duration": 327,
    "start_time": "2022-10-12T04:26:15.079Z"
   },
   {
    "duration": 277,
    "start_time": "2022-10-12T04:26:47.130Z"
   },
   {
    "duration": 261,
    "start_time": "2022-10-12T04:26:57.734Z"
   },
   {
    "duration": 295,
    "start_time": "2022-10-12T04:27:07.404Z"
   },
   {
    "duration": 333,
    "start_time": "2022-10-12T04:27:16.554Z"
   },
   {
    "duration": 288,
    "start_time": "2022-10-12T04:30:12.030Z"
   },
   {
    "duration": 4,
    "start_time": "2022-10-12T04:38:56.973Z"
   },
   {
    "duration": 13,
    "start_time": "2022-10-12T04:39:01.945Z"
   },
   {
    "duration": 20,
    "start_time": "2022-10-12T04:39:07.726Z"
   },
   {
    "duration": 237,
    "start_time": "2022-10-12T04:41:42.636Z"
   },
   {
    "duration": 280,
    "start_time": "2022-10-12T04:42:08.632Z"
   },
   {
    "duration": 96,
    "start_time": "2022-10-12T04:42:30.409Z"
   },
   {
    "duration": 347,
    "start_time": "2022-10-12T04:42:41.602Z"
   },
   {
    "duration": 304,
    "start_time": "2022-10-12T04:42:54.377Z"
   },
   {
    "duration": 34,
    "start_time": "2022-10-12T04:44:08.972Z"
   },
   {
    "duration": 99,
    "start_time": "2022-10-12T04:45:42.367Z"
   },
   {
    "duration": 79,
    "start_time": "2022-10-12T04:46:36.358Z"
   },
   {
    "duration": 29,
    "start_time": "2022-10-12T04:46:49.878Z"
   },
   {
    "duration": 317,
    "start_time": "2022-10-12T04:47:13.265Z"
   },
   {
    "duration": 5,
    "start_time": "2022-10-12T04:48:07.206Z"
   },
   {
    "duration": 342,
    "start_time": "2022-10-12T04:48:19.492Z"
   },
   {
    "duration": 315,
    "start_time": "2022-10-12T04:48:29.372Z"
   },
   {
    "duration": 318,
    "start_time": "2022-10-12T04:48:37.223Z"
   },
   {
    "duration": 323,
    "start_time": "2022-10-12T04:48:47.331Z"
   },
   {
    "duration": 354,
    "start_time": "2022-10-12T04:48:57.112Z"
   },
   {
    "duration": 428,
    "start_time": "2022-10-12T04:49:06.220Z"
   },
   {
    "duration": 363,
    "start_time": "2022-10-12T04:49:12.283Z"
   },
   {
    "duration": 338,
    "start_time": "2022-10-12T04:49:18.137Z"
   },
   {
    "duration": 344,
    "start_time": "2022-10-12T04:49:23.416Z"
   },
   {
    "duration": 366,
    "start_time": "2022-10-12T04:49:45.482Z"
   },
   {
    "duration": 360,
    "start_time": "2022-10-12T04:49:50.518Z"
   },
   {
    "duration": 327,
    "start_time": "2022-10-12T04:51:05.581Z"
   },
   {
    "duration": 291,
    "start_time": "2022-10-12T04:51:59.056Z"
   },
   {
    "duration": 342,
    "start_time": "2022-10-12T04:52:06.528Z"
   },
   {
    "duration": 367,
    "start_time": "2022-10-12T04:52:18.479Z"
   },
   {
    "duration": 316,
    "start_time": "2022-10-12T04:52:37.835Z"
   },
   {
    "duration": 369,
    "start_time": "2022-10-12T04:52:44.994Z"
   },
   {
    "duration": 449,
    "start_time": "2022-10-12T04:52:50.285Z"
   },
   {
    "duration": 331,
    "start_time": "2022-10-12T04:53:03.830Z"
   },
   {
    "duration": 304,
    "start_time": "2022-10-12T04:53:08.757Z"
   },
   {
    "duration": 312,
    "start_time": "2022-10-12T04:53:15.255Z"
   },
   {
    "duration": 378,
    "start_time": "2022-10-12T04:53:23.295Z"
   },
   {
    "duration": 297,
    "start_time": "2022-10-12T04:54:19.852Z"
   },
   {
    "duration": 352,
    "start_time": "2022-10-12T04:54:33.366Z"
   },
   {
    "duration": 366,
    "start_time": "2022-10-12T04:54:42.485Z"
   },
   {
    "duration": 359,
    "start_time": "2022-10-12T04:54:48.990Z"
   },
   {
    "duration": 363,
    "start_time": "2022-10-12T04:59:48.391Z"
   },
   {
    "duration": 332,
    "start_time": "2022-10-12T05:01:15.827Z"
   },
   {
    "duration": 407,
    "start_time": "2022-10-12T05:01:21.686Z"
   },
   {
    "duration": 387,
    "start_time": "2022-10-12T05:01:26.837Z"
   },
   {
    "duration": 309,
    "start_time": "2022-10-12T05:01:35.051Z"
   },
   {
    "duration": 354,
    "start_time": "2022-10-12T05:01:40.713Z"
   },
   {
    "duration": 301,
    "start_time": "2022-10-12T05:02:34.448Z"
   },
   {
    "duration": 326,
    "start_time": "2022-10-12T05:02:41.226Z"
   },
   {
    "duration": 349,
    "start_time": "2022-10-12T05:03:06.595Z"
   },
   {
    "duration": 69,
    "start_time": "2022-10-12T05:08:36.423Z"
   },
   {
    "duration": 54,
    "start_time": "2022-10-12T05:08:47.339Z"
   },
   {
    "duration": 473,
    "start_time": "2022-10-12T05:08:58.497Z"
   },
   {
    "duration": 437,
    "start_time": "2022-10-12T05:09:18.533Z"
   },
   {
    "duration": 477,
    "start_time": "2022-10-12T05:09:41.361Z"
   },
   {
    "duration": 454,
    "start_time": "2022-10-12T05:09:48.481Z"
   },
   {
    "duration": 432,
    "start_time": "2022-10-12T05:10:06.112Z"
   },
   {
    "duration": 467,
    "start_time": "2022-10-12T05:10:16.473Z"
   },
   {
    "duration": 493,
    "start_time": "2022-10-12T05:10:36.852Z"
   },
   {
    "duration": 441,
    "start_time": "2022-10-12T05:11:33.901Z"
   },
   {
    "duration": 447,
    "start_time": "2022-10-12T05:11:57.608Z"
   },
   {
    "duration": 463,
    "start_time": "2022-10-12T05:12:46.975Z"
   },
   {
    "duration": 4,
    "start_time": "2022-10-12T05:13:12.498Z"
   },
   {
    "duration": 418,
    "start_time": "2022-10-12T05:14:06.430Z"
   },
   {
    "duration": 518,
    "start_time": "2022-10-12T05:14:44.682Z"
   },
   {
    "duration": 509,
    "start_time": "2022-10-12T05:14:54.680Z"
   },
   {
    "duration": 423,
    "start_time": "2022-10-12T05:15:05.653Z"
   },
   {
    "duration": 460,
    "start_time": "2022-10-12T05:15:13.023Z"
   },
   {
    "duration": 7,
    "start_time": "2022-10-12T05:18:38.502Z"
   },
   {
    "duration": 531,
    "start_time": "2022-10-12T05:18:40.474Z"
   },
   {
    "duration": 446,
    "start_time": "2022-10-12T05:18:59.629Z"
   },
   {
    "duration": 15,
    "start_time": "2022-10-12T05:20:00.956Z"
   },
   {
    "duration": 12,
    "start_time": "2022-10-12T05:20:01.390Z"
   },
   {
    "duration": 11579,
    "start_time": "2022-10-12T05:20:02.717Z"
   },
   {
    "duration": 7,
    "start_time": "2022-10-12T05:20:15.518Z"
   },
   {
    "duration": 451,
    "start_time": "2022-10-12T05:20:16.296Z"
   },
   {
    "duration": 15,
    "start_time": "2022-10-12T05:21:14.237Z"
   },
   {
    "duration": 11,
    "start_time": "2022-10-12T05:21:14.870Z"
   },
   {
    "duration": 2703,
    "start_time": "2022-10-12T05:21:15.337Z"
   },
   {
    "duration": 48,
    "start_time": "2022-10-12T05:21:18.043Z"
   },
   {
    "duration": 434,
    "start_time": "2022-10-12T05:21:35.541Z"
   },
   {
    "duration": 2,
    "start_time": "2022-10-12T05:45:20.271Z"
   },
   {
    "duration": 3,
    "start_time": "2022-10-12T05:45:20.652Z"
   },
   {
    "duration": 3,
    "start_time": "2022-10-12T05:46:07.051Z"
   },
   {
    "duration": 204,
    "start_time": "2022-10-12T05:46:07.451Z"
   },
   {
    "duration": 3,
    "start_time": "2022-10-12T05:46:59.359Z"
   },
   {
    "duration": 3,
    "start_time": "2022-10-12T05:46:59.711Z"
   },
   {
    "duration": 12,
    "start_time": "2022-10-12T05:47:00.137Z"
   },
   {
    "duration": 1266,
    "start_time": "2022-10-12T05:47:30.482Z"
   },
   {
    "duration": 14,
    "start_time": "2022-10-12T05:47:47.405Z"
   },
   {
    "duration": 3,
    "start_time": "2022-10-12T05:48:09.527Z"
   },
   {
    "duration": 19,
    "start_time": "2022-10-12T05:48:10.070Z"
   },
   {
    "duration": 12622,
    "start_time": "2022-10-12T05:49:43.167Z"
   },
   {
    "duration": 6,
    "start_time": "2022-10-12T05:49:59.178Z"
   },
   {
    "duration": 461,
    "start_time": "2022-10-12T05:49:59.860Z"
   },
   {
    "duration": 441,
    "start_time": "2022-10-12T05:52:22.539Z"
   },
   {
    "duration": 471,
    "start_time": "2022-10-12T05:52:46.703Z"
   },
   {
    "duration": 5,
    "start_time": "2022-10-12T07:16:23.394Z"
   },
   {
    "duration": 105,
    "start_time": "2022-10-12T07:16:44.979Z"
   },
   {
    "duration": 4,
    "start_time": "2022-10-12T07:18:26.305Z"
   },
   {
    "duration": 1577,
    "start_time": "2022-10-12T07:18:27.847Z"
   },
   {
    "duration": 5,
    "start_time": "2022-10-12T07:19:04.793Z"
   },
   {
    "duration": 1654,
    "start_time": "2022-10-12T07:19:05.413Z"
   },
   {
    "duration": 4,
    "start_time": "2022-10-12T07:19:40.543Z"
   },
   {
    "duration": 1342,
    "start_time": "2022-10-12T07:19:41.586Z"
   },
   {
    "duration": 5,
    "start_time": "2022-10-12T07:20:02.457Z"
   },
   {
    "duration": 62,
    "start_time": "2022-10-12T07:20:03.247Z"
   },
   {
    "duration": 5,
    "start_time": "2022-10-12T07:20:35.269Z"
   },
   {
    "duration": 65,
    "start_time": "2022-10-12T07:20:35.712Z"
   },
   {
    "duration": 4,
    "start_time": "2022-10-12T07:20:59.608Z"
   },
   {
    "duration": 74,
    "start_time": "2022-10-12T07:21:00.008Z"
   },
   {
    "duration": 4,
    "start_time": "2022-10-12T07:21:14.450Z"
   },
   {
    "duration": 29,
    "start_time": "2022-10-12T07:21:14.833Z"
   },
   {
    "duration": 5,
    "start_time": "2022-10-12T07:21:27.681Z"
   },
   {
    "duration": 78,
    "start_time": "2022-10-12T07:21:28.957Z"
   },
   {
    "duration": 4,
    "start_time": "2022-10-12T07:21:46.915Z"
   },
   {
    "duration": 79,
    "start_time": "2022-10-12T07:21:47.341Z"
   },
   {
    "duration": 5,
    "start_time": "2022-10-12T07:21:59.598Z"
   },
   {
    "duration": 19,
    "start_time": "2022-10-12T07:22:00.433Z"
   },
   {
    "duration": 5,
    "start_time": "2022-10-12T07:22:19.396Z"
   },
   {
    "duration": 65,
    "start_time": "2022-10-12T07:22:20.092Z"
   },
   {
    "duration": 5,
    "start_time": "2022-10-12T07:22:53.262Z"
   },
   {
    "duration": 55,
    "start_time": "2022-10-12T07:22:53.782Z"
   },
   {
    "duration": 6,
    "start_time": "2022-10-12T07:25:34.310Z"
   },
   {
    "duration": 25,
    "start_time": "2022-10-12T07:25:34.689Z"
   },
   {
    "duration": 20838,
    "start_time": "2022-10-12T07:25:45.856Z"
   },
   {
    "duration": 459,
    "start_time": "2022-10-12T07:26:08.956Z"
   },
   {
    "duration": 15943,
    "start_time": "2022-10-12T07:26:09.558Z"
   },
   {
    "duration": 464,
    "start_time": "2022-10-12T07:26:26.930Z"
   },
   {
    "duration": 6,
    "start_time": "2022-10-12T07:26:37.995Z"
   },
   {
    "duration": 21,
    "start_time": "2022-10-12T07:26:38.377Z"
   },
   {
    "duration": 5,
    "start_time": "2022-10-12T07:27:05.469Z"
   },
   {
    "duration": 67,
    "start_time": "2022-10-12T07:27:05.828Z"
   },
   {
    "duration": 4,
    "start_time": "2022-10-12T07:28:58.010Z"
   },
   {
    "duration": 68,
    "start_time": "2022-10-12T07:28:58.457Z"
   },
   {
    "duration": 6,
    "start_time": "2022-10-12T07:38:21.217Z"
   },
   {
    "duration": 86,
    "start_time": "2022-10-12T07:38:21.621Z"
   },
   {
    "duration": 6,
    "start_time": "2022-10-12T07:40:38.998Z"
   },
   {
    "duration": 76,
    "start_time": "2022-10-12T07:40:40.256Z"
   },
   {
    "duration": 7,
    "start_time": "2022-10-12T07:40:58.362Z"
   },
   {
    "duration": 65,
    "start_time": "2022-10-12T07:40:58.894Z"
   },
   {
    "duration": 5,
    "start_time": "2022-10-12T07:41:13.510Z"
   },
   {
    "duration": 90,
    "start_time": "2022-10-12T07:41:13.937Z"
   },
   {
    "duration": 6,
    "start_time": "2022-10-12T07:45:55.937Z"
   },
   {
    "duration": 1589,
    "start_time": "2022-10-12T07:45:56.413Z"
   },
   {
    "duration": 8,
    "start_time": "2022-10-12T07:46:10.716Z"
   },
   {
    "duration": 1704,
    "start_time": "2022-10-12T07:46:11.188Z"
   },
   {
    "duration": 126,
    "start_time": "2022-10-12T07:50:11.046Z"
   },
   {
    "duration": 1761,
    "start_time": "2022-10-12T07:50:11.546Z"
   },
   {
    "duration": 138,
    "start_time": "2022-10-12T07:50:22.150Z"
   },
   {
    "duration": 1721,
    "start_time": "2022-10-12T07:50:22.578Z"
   },
   {
    "duration": 125,
    "start_time": "2022-10-12T07:50:50.212Z"
   },
   {
    "duration": 9,
    "start_time": "2022-10-12T07:50:59.833Z"
   },
   {
    "duration": 1781,
    "start_time": "2022-10-12T07:51:00.325Z"
   },
   {
    "duration": 10,
    "start_time": "2022-10-12T07:51:23.599Z"
   },
   {
    "duration": 1279,
    "start_time": "2022-10-12T07:51:24.021Z"
   },
   {
    "duration": 7,
    "start_time": "2022-10-12T09:03:06.534Z"
   },
   {
    "duration": 824,
    "start_time": "2022-10-12T09:03:06.984Z"
   },
   {
    "duration": 7,
    "start_time": "2022-10-12T09:03:15.031Z"
   },
   {
    "duration": 9381,
    "start_time": "2022-10-12T09:03:15.417Z"
   },
   {
    "duration": 2033,
    "start_time": "2022-10-12T09:34:11.774Z"
   },
   {
    "duration": 10,
    "start_time": "2022-10-13T06:24:44.251Z"
   },
   {
    "duration": 43,
    "start_time": "2022-10-13T06:26:02.253Z"
   },
   {
    "duration": 1647,
    "start_time": "2022-10-13T06:52:30.517Z"
   },
   {
    "duration": 831,
    "start_time": "2022-10-13T06:52:32.168Z"
   },
   {
    "duration": 3,
    "start_time": "2022-10-13T06:52:33.001Z"
   },
   {
    "duration": 34,
    "start_time": "2022-10-13T06:52:33.005Z"
   },
   {
    "duration": 108,
    "start_time": "2022-10-13T06:52:33.040Z"
   },
   {
    "duration": 4738,
    "start_time": "2022-10-13T06:52:33.150Z"
   },
   {
    "duration": 29,
    "start_time": "2022-10-13T06:52:37.890Z"
   },
   {
    "duration": 362,
    "start_time": "2022-10-13T06:52:37.921Z"
   },
   {
    "duration": 6,
    "start_time": "2022-10-13T06:52:38.285Z"
   },
   {
    "duration": 65,
    "start_time": "2022-10-13T06:52:38.308Z"
   },
   {
    "duration": 407,
    "start_time": "2022-10-13T06:52:38.375Z"
   },
   {
    "duration": 465,
    "start_time": "2022-10-13T06:52:38.784Z"
   },
   {
    "duration": 536,
    "start_time": "2022-10-13T06:52:39.250Z"
   },
   {
    "duration": 3,
    "start_time": "2022-10-13T06:52:39.788Z"
   },
   {
    "duration": 132,
    "start_time": "2022-10-13T06:52:39.792Z"
   },
   {
    "duration": 0,
    "start_time": "2022-10-13T06:52:39.926Z"
   },
   {
    "duration": 0,
    "start_time": "2022-10-13T06:52:39.927Z"
   },
   {
    "duration": 0,
    "start_time": "2022-10-13T06:52:39.927Z"
   },
   {
    "duration": 0,
    "start_time": "2022-10-13T06:52:39.928Z"
   },
   {
    "duration": 0,
    "start_time": "2022-10-13T06:52:39.929Z"
   },
   {
    "duration": 0,
    "start_time": "2022-10-13T06:52:39.930Z"
   },
   {
    "duration": 0,
    "start_time": "2022-10-13T06:52:39.931Z"
   },
   {
    "duration": 0,
    "start_time": "2022-10-13T06:52:39.932Z"
   },
   {
    "duration": 0,
    "start_time": "2022-10-13T06:52:39.933Z"
   },
   {
    "duration": 0,
    "start_time": "2022-10-13T06:52:39.933Z"
   },
   {
    "duration": 0,
    "start_time": "2022-10-13T06:52:39.934Z"
   },
   {
    "duration": 1,
    "start_time": "2022-10-13T06:52:39.935Z"
   },
   {
    "duration": 9,
    "start_time": "2022-10-13T06:53:04.156Z"
   },
   {
    "duration": 9,
    "start_time": "2022-10-13T06:53:27.392Z"
   },
   {
    "duration": 9,
    "start_time": "2022-10-13T06:54:05.541Z"
   },
   {
    "duration": 56,
    "start_time": "2022-10-13T06:54:34.518Z"
   },
   {
    "duration": 12,
    "start_time": "2022-10-13T06:54:41.365Z"
   },
   {
    "duration": 9,
    "start_time": "2022-10-13T06:54:59.152Z"
   },
   {
    "duration": 111,
    "start_time": "2022-10-13T07:04:01.197Z"
   },
   {
    "duration": 6,
    "start_time": "2022-10-13T07:06:18.223Z"
   },
   {
    "duration": 12,
    "start_time": "2022-10-13T07:06:25.847Z"
   },
   {
    "duration": 4,
    "start_time": "2022-10-13T07:07:22.382Z"
   },
   {
    "duration": 5,
    "start_time": "2022-10-13T07:07:30.046Z"
   },
   {
    "duration": 13,
    "start_time": "2022-10-13T07:07:30.549Z"
   },
   {
    "duration": 3,
    "start_time": "2022-10-13T07:08:16.632Z"
   },
   {
    "duration": 5,
    "start_time": "2022-10-13T07:08:22.579Z"
   },
   {
    "duration": 12,
    "start_time": "2022-10-13T07:08:22.883Z"
   },
   {
    "duration": 3,
    "start_time": "2022-10-13T07:09:28.758Z"
   },
   {
    "duration": 5,
    "start_time": "2022-10-13T07:09:36.246Z"
   },
   {
    "duration": 1026,
    "start_time": "2022-10-13T07:09:36.585Z"
   },
   {
    "duration": 3,
    "start_time": "2022-10-13T07:10:42.890Z"
   },
   {
    "duration": 4,
    "start_time": "2022-10-13T07:10:44.173Z"
   },
   {
    "duration": 1143,
    "start_time": "2022-10-13T07:10:45.068Z"
   },
   {
    "duration": 11,
    "start_time": "2022-10-13T07:15:59.893Z"
   },
   {
    "duration": 3,
    "start_time": "2022-10-13T07:16:06.863Z"
   },
   {
    "duration": 46,
    "start_time": "2022-10-13T07:16:07.257Z"
   },
   {
    "duration": 11466,
    "start_time": "2022-10-13T07:16:09.750Z"
   },
   {
    "duration": 2108,
    "start_time": "2022-10-13T07:16:33.437Z"
   },
   {
    "duration": 11,
    "start_time": "2022-10-13T07:16:36.788Z"
   },
   {
    "duration": 9,
    "start_time": "2022-10-13T07:16:43.159Z"
   },
   {
    "duration": 11,
    "start_time": "2022-10-13T07:16:53.774Z"
   },
   {
    "duration": 6,
    "start_time": "2022-10-13T07:17:00.158Z"
   },
   {
    "duration": 7826,
    "start_time": "2022-10-13T07:17:02.270Z"
   },
   {
    "duration": 7731,
    "start_time": "2022-10-13T07:17:46.531Z"
   },
   {
    "duration": 2239,
    "start_time": "2022-10-13T07:19:59.493Z"
   },
   {
    "duration": 7704,
    "start_time": "2022-10-13T07:20:33.636Z"
   },
   {
    "duration": 43,
    "start_time": "2022-10-13T07:21:24.638Z"
   },
   {
    "duration": 1971,
    "start_time": "2022-10-13T07:21:29.469Z"
   },
   {
    "duration": 7524,
    "start_time": "2022-10-13T07:21:34.084Z"
   },
   {
    "duration": 1975,
    "start_time": "2022-10-13T07:22:13.166Z"
   },
   {
    "duration": 7485,
    "start_time": "2022-10-13T07:22:15.143Z"
   },
   {
    "duration": 3,
    "start_time": "2022-10-13T07:43:18.560Z"
   },
   {
    "duration": 4,
    "start_time": "2022-10-13T07:43:19.032Z"
   },
   {
    "duration": 6,
    "start_time": "2022-10-13T07:43:20.944Z"
   },
   {
    "duration": 5,
    "start_time": "2022-10-13T07:43:40.439Z"
   },
   {
    "duration": 8,
    "start_time": "2022-10-13T08:02:55.477Z"
   },
   {
    "duration": 1580,
    "start_time": "2022-10-13T08:03:01.451Z"
   },
   {
    "duration": 342,
    "start_time": "2022-10-13T08:03:03.034Z"
   },
   {
    "duration": 2,
    "start_time": "2022-10-13T08:03:03.378Z"
   },
   {
    "duration": 34,
    "start_time": "2022-10-13T08:03:03.382Z"
   },
   {
    "duration": 120,
    "start_time": "2022-10-13T08:03:03.418Z"
   },
   {
    "duration": 4864,
    "start_time": "2022-10-13T08:03:03.539Z"
   },
   {
    "duration": 26,
    "start_time": "2022-10-13T08:03:08.405Z"
   },
   {
    "duration": 359,
    "start_time": "2022-10-13T08:03:08.432Z"
   },
   {
    "duration": 4,
    "start_time": "2022-10-13T08:03:08.793Z"
   },
   {
    "duration": 79,
    "start_time": "2022-10-13T08:03:08.799Z"
   },
   {
    "duration": 431,
    "start_time": "2022-10-13T08:03:08.880Z"
   },
   {
    "duration": 487,
    "start_time": "2022-10-13T08:03:09.312Z"
   },
   {
    "duration": 556,
    "start_time": "2022-10-13T08:03:09.801Z"
   },
   {
    "duration": 3,
    "start_time": "2022-10-13T08:03:10.360Z"
   },
   {
    "duration": 116,
    "start_time": "2022-10-13T08:03:10.364Z"
   },
   {
    "duration": 3,
    "start_time": "2022-10-13T08:03:10.482Z"
   },
   {
    "duration": 12,
    "start_time": "2022-10-13T08:03:10.486Z"
   },
   {
    "duration": 1320,
    "start_time": "2022-10-13T08:03:10.500Z"
   },
   {
    "duration": 7,
    "start_time": "2022-10-13T08:03:11.822Z"
   },
   {
    "duration": 164,
    "start_time": "2022-10-13T08:03:11.830Z"
   },
   {
    "duration": 0,
    "start_time": "2022-10-13T08:03:11.995Z"
   },
   {
    "duration": 0,
    "start_time": "2022-10-13T08:03:11.996Z"
   },
   {
    "duration": 0,
    "start_time": "2022-10-13T08:03:11.998Z"
   },
   {
    "duration": 0,
    "start_time": "2022-10-13T08:03:11.999Z"
   },
   {
    "duration": 0,
    "start_time": "2022-10-13T08:03:12.008Z"
   },
   {
    "duration": 0,
    "start_time": "2022-10-13T08:03:12.009Z"
   },
   {
    "duration": 0,
    "start_time": "2022-10-13T08:03:12.010Z"
   },
   {
    "duration": 0,
    "start_time": "2022-10-13T08:03:12.011Z"
   },
   {
    "duration": 0,
    "start_time": "2022-10-13T08:03:12.012Z"
   },
   {
    "duration": 0,
    "start_time": "2022-10-13T08:03:12.012Z"
   },
   {
    "duration": 0,
    "start_time": "2022-10-13T08:03:12.013Z"
   },
   {
    "duration": 0,
    "start_time": "2022-10-13T08:03:12.014Z"
   },
   {
    "duration": 0,
    "start_time": "2022-10-13T08:03:12.015Z"
   },
   {
    "duration": 11466,
    "start_time": "2022-10-13T08:03:36.346Z"
   },
   {
    "duration": 7,
    "start_time": "2022-10-13T08:03:47.814Z"
   },
   {
    "duration": 2479,
    "start_time": "2022-10-13T08:05:00.497Z"
   },
   {
    "duration": 1012,
    "start_time": "2022-10-13T08:05:12.077Z"
   },
   {
    "duration": 1187,
    "start_time": "2022-10-13T08:05:15.757Z"
   },
   {
    "duration": 5,
    "start_time": "2022-10-13T08:05:38.946Z"
   },
   {
    "duration": 6,
    "start_time": "2022-10-13T08:05:43.070Z"
   },
   {
    "duration": 5,
    "start_time": "2022-10-13T08:06:10.208Z"
   },
   {
    "duration": 7,
    "start_time": "2022-10-13T08:06:10.782Z"
   },
   {
    "duration": 11110,
    "start_time": "2022-10-13T08:11:12.404Z"
   },
   {
    "duration": 6,
    "start_time": "2022-10-13T08:11:24.730Z"
   },
   {
    "duration": 8,
    "start_time": "2022-10-13T08:11:25.267Z"
   },
   {
    "duration": 5,
    "start_time": "2022-10-13T08:11:33.621Z"
   },
   {
    "duration": 7,
    "start_time": "2022-10-13T08:11:34.333Z"
   },
   {
    "duration": 2081,
    "start_time": "2022-10-13T08:13:08.760Z"
   },
   {
    "duration": 8,
    "start_time": "2022-10-13T08:13:11.925Z"
   },
   {
    "duration": 8,
    "start_time": "2022-10-13T08:13:13.769Z"
   },
   {
    "duration": 4,
    "start_time": "2022-10-13T08:13:26.840Z"
   },
   {
    "duration": 7,
    "start_time": "2022-10-13T08:13:27.324Z"
   },
   {
    "duration": 6,
    "start_time": "2022-10-13T08:13:27.957Z"
   },
   {
    "duration": 11,
    "start_time": "2022-10-13T08:13:28.386Z"
   },
   {
    "duration": 3,
    "start_time": "2022-10-13T08:13:41.059Z"
   },
   {
    "duration": 4,
    "start_time": "2022-10-13T08:13:41.378Z"
   },
   {
    "duration": 6,
    "start_time": "2022-10-13T08:13:41.718Z"
   },
   {
    "duration": 3,
    "start_time": "2022-10-13T08:13:42.691Z"
   },
   {
    "duration": 7,
    "start_time": "2022-10-13T08:13:43.185Z"
   },
   {
    "duration": 5,
    "start_time": "2022-10-13T08:13:43.853Z"
   },
   {
    "duration": 16,
    "start_time": "2022-10-13T08:13:44.413Z"
   },
   {
    "duration": 54,
    "start_time": "2022-10-13T08:16:34.553Z"
   },
   {
    "duration": 1571,
    "start_time": "2022-10-13T08:17:12.399Z"
   },
   {
    "duration": 384,
    "start_time": "2022-10-13T08:17:13.974Z"
   },
   {
    "duration": 4,
    "start_time": "2022-10-13T08:17:14.360Z"
   },
   {
    "duration": 50,
    "start_time": "2022-10-13T08:17:14.366Z"
   },
   {
    "duration": 146,
    "start_time": "2022-10-13T08:17:14.420Z"
   },
   {
    "duration": 5001,
    "start_time": "2022-10-13T08:17:14.569Z"
   },
   {
    "duration": 37,
    "start_time": "2022-10-13T08:17:19.572Z"
   },
   {
    "duration": 365,
    "start_time": "2022-10-13T08:17:19.610Z"
   },
   {
    "duration": 6,
    "start_time": "2022-10-13T08:17:19.978Z"
   },
   {
    "duration": 93,
    "start_time": "2022-10-13T08:17:19.986Z"
   },
   {
    "duration": 462,
    "start_time": "2022-10-13T08:17:20.081Z"
   },
   {
    "duration": 474,
    "start_time": "2022-10-13T08:17:20.545Z"
   },
   {
    "duration": 569,
    "start_time": "2022-10-13T08:17:21.021Z"
   },
   {
    "duration": 3,
    "start_time": "2022-10-13T08:17:21.593Z"
   },
   {
    "duration": 59,
    "start_time": "2022-10-13T08:17:21.598Z"
   },
   {
    "duration": 4,
    "start_time": "2022-10-13T08:17:21.659Z"
   },
   {
    "duration": 15,
    "start_time": "2022-10-13T08:17:21.665Z"
   },
   {
    "duration": 1340,
    "start_time": "2022-10-13T08:17:21.682Z"
   },
   {
    "duration": 6,
    "start_time": "2022-10-13T08:17:23.023Z"
   },
   {
    "duration": 12179,
    "start_time": "2022-10-13T08:17:23.030Z"
   },
   {
    "duration": 22,
    "start_time": "2022-10-13T08:17:35.211Z"
   },
   {
    "duration": 30,
    "start_time": "2022-10-13T08:17:35.235Z"
   },
   {
    "duration": 8133,
    "start_time": "2022-10-13T08:17:35.267Z"
   },
   {
    "duration": 2230,
    "start_time": "2022-10-13T08:17:43.402Z"
   },
   {
    "duration": 7853,
    "start_time": "2022-10-13T08:17:45.633Z"
   },
   {
    "duration": 2333,
    "start_time": "2022-10-13T08:17:53.488Z"
   },
   {
    "duration": 7665,
    "start_time": "2022-10-13T08:17:55.822Z"
   },
   {
    "duration": 3,
    "start_time": "2022-10-13T08:18:03.489Z"
   },
   {
    "duration": 16,
    "start_time": "2022-10-13T08:18:03.493Z"
   },
   {
    "duration": 4,
    "start_time": "2022-10-13T08:18:03.510Z"
   },
   {
    "duration": 8,
    "start_time": "2022-10-13T08:18:03.515Z"
   },
   {
    "duration": 13,
    "start_time": "2022-10-13T08:18:03.525Z"
   },
   {
    "duration": 132,
    "start_time": "2022-10-13T08:18:03.540Z"
   },
   {
    "duration": 7,
    "start_time": "2022-10-13T08:21:33.304Z"
   },
   {
    "duration": 11,
    "start_time": "2022-10-13T08:21:33.904Z"
   },
   {
    "duration": 10,
    "start_time": "2022-10-13T08:24:34.507Z"
   },
   {
    "duration": 13,
    "start_time": "2022-10-13T08:24:34.913Z"
   },
   {
    "duration": 10214,
    "start_time": "2022-10-13T08:25:58.996Z"
   },
   {
    "duration": 5,
    "start_time": "2022-10-13T08:30:44.854Z"
   },
   {
    "duration": 2176,
    "start_time": "2022-10-13T08:30:45.368Z"
   },
   {
    "duration": 7626,
    "start_time": "2022-10-13T08:30:48.276Z"
   },
   {
    "duration": 2148,
    "start_time": "2022-10-13T08:30:58.861Z"
   },
   {
    "duration": 7571,
    "start_time": "2022-10-13T08:31:01.598Z"
   },
   {
    "duration": 1842,
    "start_time": "2022-10-13T08:31:10.798Z"
   },
   {
    "duration": 7400,
    "start_time": "2022-10-13T08:31:14.477Z"
   },
   {
    "duration": 5,
    "start_time": "2022-10-13T08:33:35.717Z"
   },
   {
    "duration": 7,
    "start_time": "2022-10-13T08:33:42.850Z"
   },
   {
    "duration": 5,
    "start_time": "2022-10-13T08:35:07.109Z"
   },
   {
    "duration": 6,
    "start_time": "2022-10-13T08:35:12.008Z"
   },
   {
    "duration": 5,
    "start_time": "2022-10-13T08:35:19.777Z"
   },
   {
    "duration": 7,
    "start_time": "2022-10-13T08:35:20.198Z"
   },
   {
    "duration": 15,
    "start_time": "2022-10-13T08:48:37.390Z"
   },
   {
    "duration": 6,
    "start_time": "2022-10-13T08:48:37.763Z"
   },
   {
    "duration": 9,
    "start_time": "2022-10-13T08:49:09.740Z"
   },
   {
    "duration": 7,
    "start_time": "2022-10-13T08:49:10.945Z"
   },
   {
    "duration": 8,
    "start_time": "2022-10-13T08:49:24.049Z"
   },
   {
    "duration": 10,
    "start_time": "2022-10-13T08:49:24.446Z"
   },
   {
    "duration": 102,
    "start_time": "2022-10-13T08:55:39.457Z"
   },
   {
    "duration": 7,
    "start_time": "2022-10-13T08:55:39.922Z"
   },
   {
    "duration": 10,
    "start_time": "2022-10-13T08:55:44.296Z"
   },
   {
    "duration": 8,
    "start_time": "2022-10-13T08:55:44.930Z"
   },
   {
    "duration": 46,
    "start_time": "2022-10-13T08:58:14.995Z"
   },
   {
    "duration": 13,
    "start_time": "2022-10-13T08:58:32.554Z"
   },
   {
    "duration": 9,
    "start_time": "2022-10-13T08:58:32.976Z"
   },
   {
    "duration": 15,
    "start_time": "2022-10-13T08:59:42.926Z"
   },
   {
    "duration": 10,
    "start_time": "2022-10-13T08:59:43.735Z"
   },
   {
    "duration": 44,
    "start_time": "2022-10-13T09:00:15.031Z"
   },
   {
    "duration": 14,
    "start_time": "2022-10-13T09:00:22.021Z"
   },
   {
    "duration": 9,
    "start_time": "2022-10-13T09:00:22.624Z"
   },
   {
    "duration": 3,
    "start_time": "2022-10-13T09:01:51.142Z"
   },
   {
    "duration": 41,
    "start_time": "2022-10-13T09:01:51.837Z"
   },
   {
    "duration": 3,
    "start_time": "2022-10-13T09:01:59.641Z"
   },
   {
    "duration": 45,
    "start_time": "2022-10-13T09:01:59.989Z"
   },
   {
    "duration": 6,
    "start_time": "2022-10-13T09:02:00.734Z"
   },
   {
    "duration": 5,
    "start_time": "2022-10-13T09:02:01.393Z"
   },
   {
    "duration": 1416,
    "start_time": "2022-10-13T09:02:05.312Z"
   },
   {
    "duration": 9,
    "start_time": "2022-10-13T09:02:09.403Z"
   },
   {
    "duration": 12410,
    "start_time": "2022-10-13T09:02:10.204Z"
   },
   {
    "duration": 8240,
    "start_time": "2022-10-13T09:02:22.619Z"
   },
   {
    "duration": 3,
    "start_time": "2022-10-13T09:02:36.932Z"
   },
   {
    "duration": 5,
    "start_time": "2022-10-13T09:02:37.291Z"
   },
   {
    "duration": 4,
    "start_time": "2022-10-13T09:02:38.860Z"
   },
   {
    "duration": 6,
    "start_time": "2022-10-13T09:02:39.585Z"
   },
   {
    "duration": 9,
    "start_time": "2022-10-13T09:02:41.309Z"
   },
   {
    "duration": 11834,
    "start_time": "2022-10-13T09:02:42.196Z"
   },
   {
    "duration": 7,
    "start_time": "2022-10-13T09:06:43.987Z"
   },
   {
    "duration": 8,
    "start_time": "2022-10-13T09:06:44.476Z"
   },
   {
    "duration": 11564,
    "start_time": "2022-10-13T09:06:45.089Z"
   },
   {
    "duration": 9,
    "start_time": "2022-10-13T09:07:46.105Z"
   },
   {
    "duration": 6,
    "start_time": "2022-10-13T09:07:46.739Z"
   },
   {
    "duration": 11637,
    "start_time": "2022-10-13T09:07:47.302Z"
   },
   {
    "duration": 7,
    "start_time": "2022-10-13T09:08:58.947Z"
   },
   {
    "duration": 6,
    "start_time": "2022-10-13T09:08:59.409Z"
   },
   {
    "duration": 11098,
    "start_time": "2022-10-13T09:08:59.955Z"
   },
   {
    "duration": 8,
    "start_time": "2022-10-13T09:09:24.569Z"
   },
   {
    "duration": 6,
    "start_time": "2022-10-13T09:09:25.038Z"
   },
   {
    "duration": 10836,
    "start_time": "2022-10-13T09:09:25.710Z"
   },
   {
    "duration": 52,
    "start_time": "2022-10-13T09:46:11.680Z"
   },
   {
    "duration": 3,
    "start_time": "2022-10-13T09:47:00.170Z"
   },
   {
    "duration": 60,
    "start_time": "2022-10-15T08:00:57.865Z"
   },
   {
    "duration": 1463,
    "start_time": "2022-10-15T08:01:44.479Z"
   },
   {
    "duration": 810,
    "start_time": "2022-10-15T08:01:45.946Z"
   },
   {
    "duration": 2,
    "start_time": "2022-10-15T08:01:46.758Z"
   },
   {
    "duration": 45,
    "start_time": "2022-10-15T08:01:46.762Z"
   },
   {
    "duration": 95,
    "start_time": "2022-10-15T08:01:46.809Z"
   },
   {
    "duration": 4502,
    "start_time": "2022-10-15T08:01:46.906Z"
   },
   {
    "duration": 31,
    "start_time": "2022-10-15T08:01:51.409Z"
   },
   {
    "duration": 355,
    "start_time": "2022-10-15T08:01:51.441Z"
   },
   {
    "duration": 4,
    "start_time": "2022-10-15T08:01:51.797Z"
   },
   {
    "duration": 63,
    "start_time": "2022-10-15T08:01:51.821Z"
   },
   {
    "duration": 441,
    "start_time": "2022-10-15T08:01:51.886Z"
   },
   {
    "duration": 498,
    "start_time": "2022-10-15T08:01:52.328Z"
   },
   {
    "duration": 583,
    "start_time": "2022-10-15T08:01:52.828Z"
   },
   {
    "duration": 4,
    "start_time": "2022-10-15T08:01:53.412Z"
   },
   {
    "duration": 32,
    "start_time": "2022-10-15T08:01:53.422Z"
   },
   {
    "duration": 3,
    "start_time": "2022-10-15T08:01:53.455Z"
   },
   {
    "duration": 8,
    "start_time": "2022-10-15T08:01:53.459Z"
   },
   {
    "duration": 1654,
    "start_time": "2022-10-15T08:01:53.469Z"
   },
   {
    "duration": 5,
    "start_time": "2022-10-15T08:01:55.125Z"
   },
   {
    "duration": 116,
    "start_time": "2022-10-15T08:01:55.131Z"
   },
   {
    "duration": 0,
    "start_time": "2022-10-15T08:01:55.249Z"
   },
   {
    "duration": 0,
    "start_time": "2022-10-15T08:01:55.250Z"
   },
   {
    "duration": 0,
    "start_time": "2022-10-15T08:01:55.252Z"
   },
   {
    "duration": 0,
    "start_time": "2022-10-15T08:01:55.253Z"
   },
   {
    "duration": 0,
    "start_time": "2022-10-15T08:01:55.254Z"
   },
   {
    "duration": 0,
    "start_time": "2022-10-15T08:01:55.255Z"
   },
   {
    "duration": 0,
    "start_time": "2022-10-15T08:01:55.256Z"
   },
   {
    "duration": 0,
    "start_time": "2022-10-15T08:01:55.257Z"
   },
   {
    "duration": 0,
    "start_time": "2022-10-15T08:01:55.258Z"
   },
   {
    "duration": 0,
    "start_time": "2022-10-15T08:01:55.259Z"
   },
   {
    "duration": 0,
    "start_time": "2022-10-15T08:01:55.260Z"
   },
   {
    "duration": 0,
    "start_time": "2022-10-15T08:01:55.261Z"
   },
   {
    "duration": 0,
    "start_time": "2022-10-15T08:01:55.262Z"
   },
   {
    "duration": 15,
    "start_time": "2022-10-15T08:03:18.899Z"
   },
   {
    "duration": 5548,
    "start_time": "2022-10-15T08:05:19.221Z"
   },
   {
    "duration": 5220,
    "start_time": "2022-10-15T08:06:12.525Z"
   },
   {
    "duration": 0,
    "start_time": "2022-10-15T08:06:17.748Z"
   },
   {
    "duration": 71,
    "start_time": "2022-10-15T08:07:00.438Z"
   },
   {
    "duration": 4923,
    "start_time": "2022-10-15T08:07:09.752Z"
   },
   {
    "duration": 5508,
    "start_time": "2022-10-15T08:11:16.546Z"
   },
   {
    "duration": 44,
    "start_time": "2022-10-15T08:12:15.787Z"
   },
   {
    "duration": 4401,
    "start_time": "2022-10-15T08:12:29.394Z"
   },
   {
    "duration": 12,
    "start_time": "2022-10-15T08:13:19.922Z"
   },
   {
    "duration": 4583,
    "start_time": "2022-10-15T08:13:23.973Z"
   },
   {
    "duration": 12731,
    "start_time": "2022-10-15T08:13:48.992Z"
   },
   {
    "duration": 3,
    "start_time": "2022-10-15T08:14:26.151Z"
   },
   {
    "duration": 5,
    "start_time": "2022-10-15T08:20:48.784Z"
   },
   {
    "duration": 26,
    "start_time": "2022-10-15T08:20:50.640Z"
   },
   {
    "duration": 5,
    "start_time": "2022-10-15T08:21:14.784Z"
   },
   {
    "duration": 60,
    "start_time": "2022-10-15T08:21:15.806Z"
   },
   {
    "duration": 3,
    "start_time": "2022-10-15T08:21:17.419Z"
   },
   {
    "duration": 6,
    "start_time": "2022-10-15T08:21:18.369Z"
   },
   {
    "duration": 192,
    "start_time": "2022-10-15T08:21:19.035Z"
   },
   {
    "duration": 4,
    "start_time": "2022-10-15T08:24:02.188Z"
   },
   {
    "duration": 51,
    "start_time": "2022-10-15T08:24:03.050Z"
   },
   {
    "duration": 3,
    "start_time": "2022-10-15T08:24:06.070Z"
   },
   {
    "duration": 5,
    "start_time": "2022-10-15T08:24:06.563Z"
   },
   {
    "duration": 7,
    "start_time": "2022-10-15T08:24:11.565Z"
   },
   {
    "duration": 1327,
    "start_time": "2022-10-15T08:24:25.197Z"
   },
   {
    "duration": 339,
    "start_time": "2022-10-15T08:24:26.527Z"
   },
   {
    "duration": 2,
    "start_time": "2022-10-15T08:24:26.868Z"
   },
   {
    "duration": 38,
    "start_time": "2022-10-15T08:24:26.872Z"
   },
   {
    "duration": 111,
    "start_time": "2022-10-15T08:24:26.912Z"
   },
   {
    "duration": 4609,
    "start_time": "2022-10-15T08:24:27.025Z"
   },
   {
    "duration": 25,
    "start_time": "2022-10-15T08:24:31.636Z"
   },
   {
    "duration": 384,
    "start_time": "2022-10-15T08:24:31.663Z"
   },
   {
    "duration": 4,
    "start_time": "2022-10-15T08:24:32.049Z"
   },
   {
    "duration": 88,
    "start_time": "2022-10-15T08:24:32.055Z"
   },
   {
    "duration": 421,
    "start_time": "2022-10-15T08:24:32.144Z"
   },
   {
    "duration": 487,
    "start_time": "2022-10-15T08:24:32.567Z"
   },
   {
    "duration": 559,
    "start_time": "2022-10-15T08:24:33.056Z"
   },
   {
    "duration": 6,
    "start_time": "2022-10-15T08:24:33.616Z"
   },
   {
    "duration": 61,
    "start_time": "2022-10-15T08:24:33.624Z"
   },
   {
    "duration": 4,
    "start_time": "2022-10-15T08:24:33.686Z"
   },
   {
    "duration": 6,
    "start_time": "2022-10-15T08:24:33.691Z"
   },
   {
    "duration": 1237,
    "start_time": "2022-10-15T08:24:33.698Z"
   },
   {
    "duration": 8,
    "start_time": "2022-10-15T08:24:34.938Z"
   },
   {
    "duration": 12703,
    "start_time": "2022-10-15T08:24:35.022Z"
   },
   {
    "duration": 7806,
    "start_time": "2022-10-15T08:24:47.727Z"
   },
   {
    "duration": 2627,
    "start_time": "2022-10-15T08:24:55.534Z"
   },
   {
    "duration": 7893,
    "start_time": "2022-10-15T08:24:58.163Z"
   },
   {
    "duration": 2601,
    "start_time": "2022-10-15T08:25:06.058Z"
   },
   {
    "duration": 7777,
    "start_time": "2022-10-15T08:25:08.661Z"
   },
   {
    "duration": 16,
    "start_time": "2022-10-15T08:25:16.440Z"
   },
   {
    "duration": 9,
    "start_time": "2022-10-15T08:25:16.458Z"
   },
   {
    "duration": 3,
    "start_time": "2022-10-15T08:25:16.470Z"
   },
   {
    "duration": 6,
    "start_time": "2022-10-15T08:25:16.474Z"
   },
   {
    "duration": 5,
    "start_time": "2022-10-15T08:25:16.482Z"
   },
   {
    "duration": 39,
    "start_time": "2022-10-15T08:25:16.488Z"
   },
   {
    "duration": 11,
    "start_time": "2022-10-15T08:25:16.529Z"
   },
   {
    "duration": 12542,
    "start_time": "2022-10-15T08:25:16.542Z"
   },
   {
    "duration": 4,
    "start_time": "2022-10-15T08:39:37.874Z"
   },
   {
    "duration": 161,
    "start_time": "2022-10-15T08:39:38.991Z"
   },
   {
    "duration": 1274,
    "start_time": "2022-10-15T08:39:52.842Z"
   },
   {
    "duration": 335,
    "start_time": "2022-10-15T08:39:54.119Z"
   },
   {
    "duration": 3,
    "start_time": "2022-10-15T08:39:54.456Z"
   },
   {
    "duration": 27,
    "start_time": "2022-10-15T08:39:54.461Z"
   },
   {
    "duration": 114,
    "start_time": "2022-10-15T08:39:54.490Z"
   },
   {
    "duration": 4341,
    "start_time": "2022-10-15T08:39:54.606Z"
   },
   {
    "duration": 35,
    "start_time": "2022-10-15T08:39:58.948Z"
   },
   {
    "duration": 380,
    "start_time": "2022-10-15T08:39:58.985Z"
   },
   {
    "duration": 4,
    "start_time": "2022-10-15T08:39:59.367Z"
   },
   {
    "duration": 78,
    "start_time": "2022-10-15T08:39:59.374Z"
   },
   {
    "duration": 454,
    "start_time": "2022-10-15T08:39:59.453Z"
   },
   {
    "duration": 493,
    "start_time": "2022-10-15T08:39:59.908Z"
   },
   {
    "duration": 563,
    "start_time": "2022-10-15T08:40:00.403Z"
   },
   {
    "duration": 5,
    "start_time": "2022-10-15T08:40:00.967Z"
   },
   {
    "duration": 143,
    "start_time": "2022-10-15T08:40:00.973Z"
   },
   {
    "duration": 0,
    "start_time": "2022-10-15T08:40:01.118Z"
   },
   {
    "duration": 0,
    "start_time": "2022-10-15T08:40:01.122Z"
   },
   {
    "duration": 0,
    "start_time": "2022-10-15T08:40:01.124Z"
   },
   {
    "duration": 0,
    "start_time": "2022-10-15T08:40:01.125Z"
   },
   {
    "duration": 0,
    "start_time": "2022-10-15T08:40:01.126Z"
   },
   {
    "duration": 0,
    "start_time": "2022-10-15T08:40:01.128Z"
   },
   {
    "duration": 0,
    "start_time": "2022-10-15T08:40:01.129Z"
   },
   {
    "duration": 0,
    "start_time": "2022-10-15T08:40:01.131Z"
   },
   {
    "duration": 0,
    "start_time": "2022-10-15T08:40:01.132Z"
   },
   {
    "duration": 0,
    "start_time": "2022-10-15T08:40:01.133Z"
   },
   {
    "duration": 0,
    "start_time": "2022-10-15T08:40:01.134Z"
   },
   {
    "duration": 0,
    "start_time": "2022-10-15T08:40:01.136Z"
   },
   {
    "duration": 0,
    "start_time": "2022-10-15T08:40:01.137Z"
   },
   {
    "duration": 0,
    "start_time": "2022-10-15T08:40:01.139Z"
   },
   {
    "duration": 0,
    "start_time": "2022-10-15T08:40:01.140Z"
   },
   {
    "duration": 0,
    "start_time": "2022-10-15T08:40:01.141Z"
   },
   {
    "duration": 0,
    "start_time": "2022-10-15T08:40:01.142Z"
   },
   {
    "duration": 0,
    "start_time": "2022-10-15T08:40:01.144Z"
   },
   {
    "duration": 4,
    "start_time": "2022-10-15T08:40:28.646Z"
   },
   {
    "duration": 37,
    "start_time": "2022-10-15T08:40:29.845Z"
   },
   {
    "duration": 5,
    "start_time": "2022-10-15T08:40:38.079Z"
   },
   {
    "duration": 56,
    "start_time": "2022-10-15T08:40:39.307Z"
   },
   {
    "duration": 3,
    "start_time": "2022-10-15T08:40:41.831Z"
   },
   {
    "duration": 5,
    "start_time": "2022-10-15T08:40:42.325Z"
   },
   {
    "duration": 1472,
    "start_time": "2022-10-15T08:40:52.768Z"
   },
   {
    "duration": 4,
    "start_time": "2022-10-15T08:41:27.614Z"
   },
   {
    "duration": 40,
    "start_time": "2022-10-15T08:41:29.623Z"
   },
   {
    "duration": 5,
    "start_time": "2022-10-15T08:41:34.433Z"
   },
   {
    "duration": 2740,
    "start_time": "2022-10-15T08:41:38.088Z"
   },
   {
    "duration": 1359,
    "start_time": "2022-10-15T08:50:47.828Z"
   },
   {
    "duration": 336,
    "start_time": "2022-10-15T08:50:49.190Z"
   },
   {
    "duration": 4,
    "start_time": "2022-10-15T08:50:49.528Z"
   },
   {
    "duration": 29,
    "start_time": "2022-10-15T08:50:49.533Z"
   },
   {
    "duration": 115,
    "start_time": "2022-10-15T08:50:49.564Z"
   },
   {
    "duration": 4508,
    "start_time": "2022-10-15T08:50:49.681Z"
   },
   {
    "duration": 38,
    "start_time": "2022-10-15T08:50:54.191Z"
   },
   {
    "duration": 350,
    "start_time": "2022-10-15T08:50:54.231Z"
   },
   {
    "duration": 4,
    "start_time": "2022-10-15T08:50:54.583Z"
   },
   {
    "duration": 78,
    "start_time": "2022-10-15T08:50:54.589Z"
   },
   {
    "duration": 433,
    "start_time": "2022-10-15T08:50:54.668Z"
   },
   {
    "duration": 493,
    "start_time": "2022-10-15T08:50:55.103Z"
   },
   {
    "duration": 583,
    "start_time": "2022-10-15T08:50:55.598Z"
   },
   {
    "duration": 4,
    "start_time": "2022-10-15T08:50:56.184Z"
   },
   {
    "duration": 73,
    "start_time": "2022-10-15T08:50:56.189Z"
   },
   {
    "duration": 3,
    "start_time": "2022-10-15T08:50:56.263Z"
   },
   {
    "duration": 18,
    "start_time": "2022-10-15T08:50:56.268Z"
   },
   {
    "duration": 1154,
    "start_time": "2022-10-15T08:50:56.288Z"
   },
   {
    "duration": 6,
    "start_time": "2022-10-15T08:50:57.444Z"
   },
   {
    "duration": 12401,
    "start_time": "2022-10-15T08:50:57.521Z"
   },
   {
    "duration": 7695,
    "start_time": "2022-10-15T08:51:09.925Z"
   },
   {
    "duration": 2702,
    "start_time": "2022-10-15T08:51:17.622Z"
   },
   {
    "duration": 7533,
    "start_time": "2022-10-15T08:51:20.332Z"
   },
   {
    "duration": 2607,
    "start_time": "2022-10-15T08:51:27.867Z"
   },
   {
    "duration": 7443,
    "start_time": "2022-10-15T08:51:30.476Z"
   },
   {
    "duration": 19,
    "start_time": "2022-10-15T08:51:37.921Z"
   },
   {
    "duration": 14,
    "start_time": "2022-10-15T08:51:37.942Z"
   },
   {
    "duration": 5,
    "start_time": "2022-10-15T08:51:37.958Z"
   },
   {
    "duration": 7,
    "start_time": "2022-10-15T08:51:37.965Z"
   },
   {
    "duration": 7,
    "start_time": "2022-10-15T08:51:37.974Z"
   },
   {
    "duration": 6,
    "start_time": "2022-10-15T08:51:37.982Z"
   },
   {
    "duration": 9,
    "start_time": "2022-10-15T08:51:37.989Z"
   },
   {
    "duration": 12649,
    "start_time": "2022-10-15T08:51:38.000Z"
   }
  ],
  "kernelspec": {
   "display_name": "Python 3 (ipykernel)",
   "language": "python",
   "name": "python3"
  },
  "language_info": {
   "codemirror_mode": {
    "name": "ipython",
    "version": 3
   },
   "file_extension": ".py",
   "mimetype": "text/x-python",
   "name": "python",
   "nbconvert_exporter": "python",
   "pygments_lexer": "ipython3",
   "version": "3.9.12"
  },
  "toc": {
   "base_numbering": 1,
   "nav_menu": {},
   "number_sections": true,
   "sideBar": true,
   "skip_h1_title": true,
   "title_cell": "Table of Contents",
   "title_sidebar": "Contents",
   "toc_cell": false,
   "toc_position": {},
   "toc_section_display": true,
   "toc_window_display": false
  }
 },
 "nbformat": 4,
 "nbformat_minor": 2
}
