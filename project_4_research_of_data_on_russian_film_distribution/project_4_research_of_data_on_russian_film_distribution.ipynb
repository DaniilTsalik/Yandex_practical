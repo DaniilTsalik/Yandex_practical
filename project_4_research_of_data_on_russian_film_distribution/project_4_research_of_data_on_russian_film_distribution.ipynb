{
 "cells": [
  {
   "cell_type": "markdown",
   "metadata": {
    "id": "sIfNaMOxgFyK"
   },
   "source": [
    "## Исследование данных о российском кинопрокате\n",
    "\n",
    "Заказчик этого исследования — Министерство культуры Российской Федерации.\n",
    "Нам нужно изучить рынок российского кинопроката и выявить текущие тренды. Уделить внимание фильмам, которые получили государственную поддержку. Ответить на вопрос, насколько такие фильмы интересны зрителю.\n",
    "\n",
    "**Цель:** установление параметров и факторов влияющих на интерес зрителей по отношению к фильмам и кассовым сборам.\n",
    "\n",
    "**Задачи:**\n",
    "\n",
    "* Сколько фильмов выходило в прокат каждый год. \n",
    "* Какую долю составляют фильмы с указанной информацией о прокате в кинотеатрах.\n",
    "* Как эта доля менялась по годам.\n",
    "* Какой период полнее всего представлен в данных о прокате в кинотеатрах.\n",
    "* Как менялась динамика проката по годам. \n",
    "* В каком году сумма сборов была минимальной? А максимальной?\n",
    "* С помощью сводной таблицы посчитайте среднюю и медианную сумму сборов для каждого года. Сравните значения и сделайте выводы.\n",
    "* Определите, влияет ли возрастное ограничение аудитории («6+», «12+», «16+», «18+» и т. д.) на сборы фильма в прокате в период с 2015 по 2019 год? \n",
    "* Фильмы с каким возрастным ограничением собрали больше всего денег в прокате? * Меняется ли картина в зависимости от года? Если да, предположите, с чем это может быть связано.\n",
    "\n",
    "**Предмет исследования:** рынок российского кинопроката.\n",
    "\n",
    "**Методы** которые мы применим в данном исследовании включают в себя: ознакомление, предобработку и исследовательский анализ данных.\n",
    "\n",
    "**Структура проекта.** Проектная работа состоит из обзора и предобработки данных, затем следует изучение и исследовательский анализ данных.\n",
    "\n"
   ]
  },
  {
   "cell_type": "markdown",
   "metadata": {
    "id": "3bSlkCsbgFyL"
   },
   "source": [
    "### Шаг 1. Откройте файлы с данными и объедините их в один датафрейм. \n",
    "\n",
    "Объедините данные таким образом, чтобы все объекты из датасета `mkrf_movies` обязательно вошли в получившийся датафрейм. \n",
    "\n",
    "<div id=\"accordion\">\n",
    "    <div class=\"card\">\n",
    "        <div class=\"card-header\" id=\"headingThree\">\n",
    "            <button class=\"btn btn-link collapsed\" data-toggle=\"collapse\" data-target=\"#collapseHint_0\" aria-expanded=\"false\" aria-controls=\"collapseHint_0\">Подсказка</button>\n",
    "        </div>\n",
    "        <div id=\"collapseHint_0\" class=\"collapse\" aria-labelledby=\"headingThree\" data-parent=\"#accordion\">\n",
    "            <div class=\"card-body\">\n",
    "Обратите внимание на тип данных столбца, по которому будете соединять датафреймы. Тип данных этих столбцов должен быть одинаковым в обоих датафреймах.\n",
    "            </div>\n",
    "        </div>\n",
    "    </div>\n",
    "</div>"
   ]
  },
  {
   "cell_type": "code",
   "execution_count": 1,
   "metadata": {
    "id": "dw87FlzMgFyM"
   },
   "outputs": [],
   "source": [
    "import pandas as pd\n",
    "import matplotlib.pyplot as plt\n",
    "import numpy as np"
   ]
  },
  {
   "cell_type": "markdown",
   "metadata": {},
   "source": [
    "Ознакомимся с датасетами"
   ]
  },
  {
   "cell_type": "code",
   "execution_count": 2,
   "metadata": {},
   "outputs": [
    {
     "data": {
      "text/html": [
       "<div>\n",
       "<style scoped>\n",
       "    .dataframe tbody tr th:only-of-type {\n",
       "        vertical-align: middle;\n",
       "    }\n",
       "\n",
       "    .dataframe tbody tr th {\n",
       "        vertical-align: top;\n",
       "    }\n",
       "\n",
       "    .dataframe thead th {\n",
       "        text-align: right;\n",
       "    }\n",
       "</style>\n",
       "<table border=\"1\" class=\"dataframe\">\n",
       "  <thead>\n",
       "    <tr style=\"text-align: right;\">\n",
       "      <th></th>\n",
       "      <th>title</th>\n",
       "      <th>puNumber</th>\n",
       "      <th>show_start_date</th>\n",
       "      <th>type</th>\n",
       "      <th>film_studio</th>\n",
       "      <th>production_country</th>\n",
       "      <th>director</th>\n",
       "      <th>producer</th>\n",
       "      <th>age_restriction</th>\n",
       "      <th>refundable_support</th>\n",
       "      <th>nonrefundable_support</th>\n",
       "      <th>budget</th>\n",
       "      <th>financing_source</th>\n",
       "      <th>ratings</th>\n",
       "      <th>genres</th>\n",
       "    </tr>\n",
       "  </thead>\n",
       "  <tbody>\n",
       "    <tr>\n",
       "      <th>0</th>\n",
       "      <td>Открытый простор</td>\n",
       "      <td>221048915</td>\n",
       "      <td>2015-11-27T12:00:00.000Z</td>\n",
       "      <td>Художественный</td>\n",
       "      <td>Тачстоун Пикчерз, Кобальт Пикчерз, Бикон Пикче...</td>\n",
       "      <td>США</td>\n",
       "      <td>Кевин Костнер</td>\n",
       "      <td>Дэвид Валдес, Кевин Костнер, Джейк Эбертс</td>\n",
       "      <td>«18+» - запрещено для детей</td>\n",
       "      <td>NaN</td>\n",
       "      <td>NaN</td>\n",
       "      <td>NaN</td>\n",
       "      <td>NaN</td>\n",
       "      <td>7.2</td>\n",
       "      <td>боевик,драма,мелодрама</td>\n",
       "    </tr>\n",
       "    <tr>\n",
       "      <th>1</th>\n",
       "      <td>Особо важное задание</td>\n",
       "      <td>111013716</td>\n",
       "      <td>2016-09-13T12:00:00.000Z</td>\n",
       "      <td>Художественный</td>\n",
       "      <td>Киностудия \"Мосфильм\"</td>\n",
       "      <td>СССР</td>\n",
       "      <td>Е.Матвеев</td>\n",
       "      <td>NaN</td>\n",
       "      <td>«6+» - для детей старше 6 лет</td>\n",
       "      <td>NaN</td>\n",
       "      <td>NaN</td>\n",
       "      <td>NaN</td>\n",
       "      <td>NaN</td>\n",
       "      <td>6.6</td>\n",
       "      <td>драма,военный</td>\n",
       "    </tr>\n",
       "    <tr>\n",
       "      <th>2</th>\n",
       "      <td>Особо опасен</td>\n",
       "      <td>221038416</td>\n",
       "      <td>2016-10-10T12:00:00.000Z</td>\n",
       "      <td>Художественный</td>\n",
       "      <td>Юниверсал Пикчерз, Кикстарт Продакшнз, Марк Пл...</td>\n",
       "      <td>США</td>\n",
       "      <td>Тимур Бекмамбетов</td>\n",
       "      <td>Джим Лемли, Джейсон Нетер, Марк Е.Платт, Яйн Смит</td>\n",
       "      <td>«18+» - запрещено для детей</td>\n",
       "      <td>NaN</td>\n",
       "      <td>NaN</td>\n",
       "      <td>NaN</td>\n",
       "      <td>NaN</td>\n",
       "      <td>6.8</td>\n",
       "      <td>фантастика,боевик,триллер</td>\n",
       "    </tr>\n",
       "    <tr>\n",
       "      <th>3</th>\n",
       "      <td>Особо опасен</td>\n",
       "      <td>221026916</td>\n",
       "      <td>2016-06-10T12:00:00.000Z</td>\n",
       "      <td>Художественный</td>\n",
       "      <td>Юниверсал Пикчерз, Кикстарт Продакшнз, Марк Пл...</td>\n",
       "      <td>США</td>\n",
       "      <td>Тимур Бекмамбетов</td>\n",
       "      <td>Джим Лемли, Джейсон Нетер, Марк Е.Платт, Яйн Смит</td>\n",
       "      <td>«18+» - запрещено для детей</td>\n",
       "      <td>NaN</td>\n",
       "      <td>NaN</td>\n",
       "      <td>NaN</td>\n",
       "      <td>NaN</td>\n",
       "      <td>6.8</td>\n",
       "      <td>фантастика,боевик,триллер</td>\n",
       "    </tr>\n",
       "    <tr>\n",
       "      <th>4</th>\n",
       "      <td>Особо опасен</td>\n",
       "      <td>221030815</td>\n",
       "      <td>2015-07-29T12:00:00.000Z</td>\n",
       "      <td>Художественный</td>\n",
       "      <td>Юниверсал Пикчерз, Кикстарт Продакшнз, Марк Пл...</td>\n",
       "      <td>США</td>\n",
       "      <td>Тимур Бекмамбетов</td>\n",
       "      <td>Джим Лемли, Джейсон Нетер, Марк Е.Платт, Яйн Смит</td>\n",
       "      <td>«18+» - запрещено для детей</td>\n",
       "      <td>NaN</td>\n",
       "      <td>NaN</td>\n",
       "      <td>NaN</td>\n",
       "      <td>NaN</td>\n",
       "      <td>6.8</td>\n",
       "      <td>фантастика,боевик,триллер</td>\n",
       "    </tr>\n",
       "  </tbody>\n",
       "</table>\n",
       "</div>"
      ],
      "text/plain": [
       "                  title   puNumber           show_start_date            type  \\\n",
       "0      Открытый простор  221048915  2015-11-27T12:00:00.000Z  Художественный   \n",
       "1  Особо важное задание  111013716  2016-09-13T12:00:00.000Z  Художественный   \n",
       "2          Особо опасен  221038416  2016-10-10T12:00:00.000Z  Художественный   \n",
       "3          Особо опасен  221026916  2016-06-10T12:00:00.000Z  Художественный   \n",
       "4          Особо опасен  221030815  2015-07-29T12:00:00.000Z  Художественный   \n",
       "\n",
       "                                         film_studio production_country  \\\n",
       "0  Тачстоун Пикчерз, Кобальт Пикчерз, Бикон Пикче...                США   \n",
       "1                              Киностудия \"Мосфильм\"               СССР   \n",
       "2  Юниверсал Пикчерз, Кикстарт Продакшнз, Марк Пл...                США   \n",
       "3  Юниверсал Пикчерз, Кикстарт Продакшнз, Марк Пл...                США   \n",
       "4  Юниверсал Пикчерз, Кикстарт Продакшнз, Марк Пл...                США   \n",
       "\n",
       "            director                                           producer  \\\n",
       "0      Кевин Костнер          Дэвид Валдес, Кевин Костнер, Джейк Эбертс   \n",
       "1          Е.Матвеев                                                NaN   \n",
       "2  Тимур Бекмамбетов  Джим Лемли, Джейсон Нетер, Марк Е.Платт, Яйн Смит   \n",
       "3  Тимур Бекмамбетов  Джим Лемли, Джейсон Нетер, Марк Е.Платт, Яйн Смит   \n",
       "4  Тимур Бекмамбетов  Джим Лемли, Джейсон Нетер, Марк Е.Платт, Яйн Смит   \n",
       "\n",
       "                 age_restriction  refundable_support  nonrefundable_support  \\\n",
       "0    «18+» - запрещено для детей                 NaN                    NaN   \n",
       "1  «6+» - для детей старше 6 лет                 NaN                    NaN   \n",
       "2    «18+» - запрещено для детей                 NaN                    NaN   \n",
       "3    «18+» - запрещено для детей                 NaN                    NaN   \n",
       "4    «18+» - запрещено для детей                 NaN                    NaN   \n",
       "\n",
       "   budget financing_source ratings                     genres  \n",
       "0     NaN              NaN     7.2     боевик,драма,мелодрама  \n",
       "1     NaN              NaN     6.6              драма,военный  \n",
       "2     NaN              NaN     6.8  фантастика,боевик,триллер  \n",
       "3     NaN              NaN     6.8  фантастика,боевик,триллер  \n",
       "4     NaN              NaN     6.8  фантастика,боевик,триллер  "
      ]
     },
     "execution_count": 2,
     "metadata": {},
     "output_type": "execute_result"
    }
   ],
   "source": [
    "movies = pd.read_csv('/datasets/mkrf_movies.csv')\n",
    "movies.head()"
   ]
  },
  {
   "cell_type": "code",
   "execution_count": 3,
   "metadata": {},
   "outputs": [
    {
     "data": {
      "text/html": [
       "<div>\n",
       "<style scoped>\n",
       "    .dataframe tbody tr th:only-of-type {\n",
       "        vertical-align: middle;\n",
       "    }\n",
       "\n",
       "    .dataframe tbody tr th {\n",
       "        vertical-align: top;\n",
       "    }\n",
       "\n",
       "    .dataframe thead th {\n",
       "        text-align: right;\n",
       "    }\n",
       "</style>\n",
       "<table border=\"1\" class=\"dataframe\">\n",
       "  <thead>\n",
       "    <tr style=\"text-align: right;\">\n",
       "      <th></th>\n",
       "      <th>puNumber</th>\n",
       "      <th>box_office</th>\n",
       "    </tr>\n",
       "  </thead>\n",
       "  <tbody>\n",
       "    <tr>\n",
       "      <th>1377</th>\n",
       "      <td>121009217</td>\n",
       "      <td>2.118396e+09</td>\n",
       "    </tr>\n",
       "    <tr>\n",
       "      <th>759</th>\n",
       "      <td>111024918</td>\n",
       "      <td>2.271754e+09</td>\n",
       "    </tr>\n",
       "    <tr>\n",
       "      <th>1196</th>\n",
       "      <td>121005519</td>\n",
       "      <td>2.576614e+09</td>\n",
       "    </tr>\n",
       "    <tr>\n",
       "      <th>533</th>\n",
       "      <td>111011817</td>\n",
       "      <td>2.779686e+09</td>\n",
       "    </tr>\n",
       "    <tr>\n",
       "      <th>736</th>\n",
       "      <td>111021719</td>\n",
       "      <td>3.073569e+09</td>\n",
       "    </tr>\n",
       "  </tbody>\n",
       "</table>\n",
       "</div>"
      ],
      "text/plain": [
       "       puNumber    box_office\n",
       "1377  121009217  2.118396e+09\n",
       "759   111024918  2.271754e+09\n",
       "1196  121005519  2.576614e+09\n",
       "533   111011817  2.779686e+09\n",
       "736   111021719  3.073569e+09"
      ]
     },
     "execution_count": 3,
     "metadata": {},
     "output_type": "execute_result"
    }
   ],
   "source": [
    "shows = pd.read_csv('/datasets/mkrf_shows.csv')\n",
    "shows.sort_values(by='box_office').tail(5)"
   ]
  },
  {
   "cell_type": "markdown",
   "metadata": {},
   "source": [
    "Приведем наименование колонок в обоих датасетах к snake_case:"
   ]
  },
  {
   "cell_type": "code",
   "execution_count": 4,
   "metadata": {},
   "outputs": [],
   "source": [
    "movies = movies.rename(columns={'puNumber': 'pu_number'})\n",
    "shows = shows.rename(columns={'puNumber': 'pu_number'})"
   ]
  },
  {
   "cell_type": "markdown",
   "metadata": {},
   "source": [
    "Проверим типы данных в общем столбце датасетов перед соединением:"
   ]
  },
  {
   "cell_type": "code",
   "execution_count": 5,
   "metadata": {},
   "outputs": [
    {
     "name": "stdout",
     "output_type": "stream",
     "text": [
      "object\n",
      "int64\n"
     ]
    }
   ],
   "source": [
    "\n",
    "print(movies['pu_number'].dtypes)\n",
    "print(shows['pu_number'].dtypes)"
   ]
  },
  {
   "cell_type": "markdown",
   "metadata": {},
   "source": [
    "Для объединения датасетов нам нужно привести тип данных в столбцах 'pu_number' к единому типу 'int'"
   ]
  },
  {
   "cell_type": "code",
   "execution_count": 6,
   "metadata": {},
   "outputs": [
    {
     "name": "stdout",
     "output_type": "stream",
     "text": [
      "int64\n",
      "int64\n"
     ]
    }
   ],
   "source": [
    "movies['pu_number'].replace('нет', 0, inplace=True)\n",
    "movies['pu_number'] = pd.to_numeric(movies['pu_number'], errors='coerce')\n",
    "\n",
    "print(movies['pu_number'].dtypes)\n",
    "print(shows['pu_number'].dtypes)"
   ]
  },
  {
   "cell_type": "markdown",
   "metadata": {},
   "source": [
    "Теперь можем объеденить наши датасеты"
   ]
  },
  {
   "cell_type": "code",
   "execution_count": 7,
   "metadata": {},
   "outputs": [
    {
     "data": {
      "text/html": [
       "<div>\n",
       "<style scoped>\n",
       "    .dataframe tbody tr th:only-of-type {\n",
       "        vertical-align: middle;\n",
       "    }\n",
       "\n",
       "    .dataframe tbody tr th {\n",
       "        vertical-align: top;\n",
       "    }\n",
       "\n",
       "    .dataframe thead th {\n",
       "        text-align: right;\n",
       "    }\n",
       "</style>\n",
       "<table border=\"1\" class=\"dataframe\">\n",
       "  <thead>\n",
       "    <tr style=\"text-align: right;\">\n",
       "      <th></th>\n",
       "      <th>title</th>\n",
       "      <th>pu_number</th>\n",
       "      <th>show_start_date</th>\n",
       "      <th>type</th>\n",
       "      <th>film_studio</th>\n",
       "      <th>production_country</th>\n",
       "      <th>director</th>\n",
       "      <th>producer</th>\n",
       "      <th>age_restriction</th>\n",
       "      <th>refundable_support</th>\n",
       "      <th>nonrefundable_support</th>\n",
       "      <th>budget</th>\n",
       "      <th>financing_source</th>\n",
       "      <th>ratings</th>\n",
       "      <th>genres</th>\n",
       "      <th>box_office</th>\n",
       "    </tr>\n",
       "  </thead>\n",
       "  <tbody>\n",
       "    <tr>\n",
       "      <th>7456</th>\n",
       "      <td>Холоп</td>\n",
       "      <td>111021719</td>\n",
       "      <td>2019-12-19T12:00:00.000Z</td>\n",
       "      <td>Художественный</td>\n",
       "      <td>ООО \"МЕМ-МЕДИА\" по заказу АО \"ВБД Груп\"</td>\n",
       "      <td>Россия</td>\n",
       "      <td>К.Шипенко</td>\n",
       "      <td>Э.Илоян, Д.Жалинский, В.Дусмухаметов, Т.Бадзие...</td>\n",
       "      <td>«12+» - для детей старше 12 лет</td>\n",
       "      <td>25000000.0</td>\n",
       "      <td>35000000.0</td>\n",
       "      <td>160000000.0</td>\n",
       "      <td>Фонд кино</td>\n",
       "      <td>6.8</td>\n",
       "      <td>комедия</td>\n",
       "      <td>3.073569e+09</td>\n",
       "    </tr>\n",
       "    <tr>\n",
       "      <th>5653</th>\n",
       "      <td>Движение вверх</td>\n",
       "      <td>111011817</td>\n",
       "      <td>2017-12-21T12:00:00.000Z</td>\n",
       "      <td>Художественный</td>\n",
       "      <td>ООО \"Студия \"ТРИТЭ\" Никиты Михалкова\"</td>\n",
       "      <td>Россия</td>\n",
       "      <td>А.Мегердичев</td>\n",
       "      <td>Л.Верещагин, А.Златопольский, Н.Михалков, ООО ...</td>\n",
       "      <td>«6+» - для детей старше 6 лет</td>\n",
       "      <td>0.0</td>\n",
       "      <td>400000000.0</td>\n",
       "      <td>590192191.0</td>\n",
       "      <td>Фонд кино</td>\n",
       "      <td>7.5</td>\n",
       "      <td>спорт,драма</td>\n",
       "      <td>2.779686e+09</td>\n",
       "    </tr>\n",
       "    <tr>\n",
       "      <th>6820</th>\n",
       "      <td>Мстители: Финал</td>\n",
       "      <td>121005519</td>\n",
       "      <td>2019-04-29T12:00:00.000Z</td>\n",
       "      <td>Художественный</td>\n",
       "      <td>Марвел Студиос</td>\n",
       "      <td>США</td>\n",
       "      <td>Джо Руссо, Энтони Руссо</td>\n",
       "      <td>Кевин Фейги</td>\n",
       "      <td>«16+» - для детей старше 16 лет</td>\n",
       "      <td>NaN</td>\n",
       "      <td>NaN</td>\n",
       "      <td>NaN</td>\n",
       "      <td>NaN</td>\n",
       "      <td>7.6</td>\n",
       "      <td>фантастика,боевик,драма</td>\n",
       "      <td>2.576614e+09</td>\n",
       "    </tr>\n",
       "  </tbody>\n",
       "</table>\n",
       "</div>"
      ],
      "text/plain": [
       "                title  pu_number           show_start_date             type  \\\n",
       "7456            Холоп  111021719  2019-12-19T12:00:00.000Z   Художественный   \n",
       "5653   Движение вверх  111011817  2017-12-21T12:00:00.000Z   Художественный   \n",
       "6820  Мстители: Финал  121005519  2019-04-29T12:00:00.000Z   Художественный   \n",
       "\n",
       "                                  film_studio production_country  \\\n",
       "7456  ООО \"МЕМ-МЕДИА\" по заказу АО \"ВБД Груп\"             Россия   \n",
       "5653    ООО \"Студия \"ТРИТЭ\" Никиты Михалкова\"             Россия   \n",
       "6820                           Марвел Студиос                США   \n",
       "\n",
       "                     director  \\\n",
       "7456                К.Шипенко   \n",
       "5653             А.Мегердичев   \n",
       "6820  Джо Руссо, Энтони Руссо   \n",
       "\n",
       "                                               producer  \\\n",
       "7456  Э.Илоян, Д.Жалинский, В.Дусмухаметов, Т.Бадзие...   \n",
       "5653  Л.Верещагин, А.Златопольский, Н.Михалков, ООО ...   \n",
       "6820                                        Кевин Фейги   \n",
       "\n",
       "                      age_restriction  refundable_support  \\\n",
       "7456  «12+» - для детей старше 12 лет          25000000.0   \n",
       "5653    «6+» - для детей старше 6 лет                 0.0   \n",
       "6820  «16+» - для детей старше 16 лет                 NaN   \n",
       "\n",
       "      nonrefundable_support       budget financing_source ratings  \\\n",
       "7456             35000000.0  160000000.0        Фонд кино     6.8   \n",
       "5653            400000000.0  590192191.0        Фонд кино     7.5   \n",
       "6820                    NaN          NaN              NaN     7.6   \n",
       "\n",
       "                       genres    box_office  \n",
       "7456                  комедия  3.073569e+09  \n",
       "5653              спорт,драма  2.779686e+09  \n",
       "6820  фантастика,боевик,драма  2.576614e+09  "
      ]
     },
     "metadata": {},
     "output_type": "display_data"
    },
    {
     "name": "stdout",
     "output_type": "stream",
     "text": [
      "<class 'pandas.core.frame.DataFrame'>\n",
      "Int64Index: 7486 entries, 0 to 7485\n",
      "Data columns (total 16 columns):\n",
      " #   Column                 Non-Null Count  Dtype  \n",
      "---  ------                 --------------  -----  \n",
      " 0   title                  7486 non-null   object \n",
      " 1   pu_number              7486 non-null   int64  \n",
      " 2   show_start_date        7486 non-null   object \n",
      " 3   type                   7486 non-null   object \n",
      " 4   film_studio            7468 non-null   object \n",
      " 5   production_country     7484 non-null   object \n",
      " 6   director               7477 non-null   object \n",
      " 7   producer               6918 non-null   object \n",
      " 8   age_restriction        7486 non-null   object \n",
      " 9   refundable_support     332 non-null    float64\n",
      " 10  nonrefundable_support  332 non-null    float64\n",
      " 11  budget                 332 non-null    float64\n",
      " 12  financing_source       332 non-null    object \n",
      " 13  ratings                6519 non-null   object \n",
      " 14  genres                 6510 non-null   object \n",
      " 15  box_office             3158 non-null   float64\n",
      "dtypes: float64(4), int64(1), object(11)\n",
      "memory usage: 994.2+ KB\n"
     ]
    }
   ],
   "source": [
    "df = movies.merge(shows, how='left', on='pu_number')\n",
    "display(df.sort_values(by='box_office', ascending=False).head(3))\n",
    "df.info()"
   ]
  },
  {
   "cell_type": "markdown",
   "metadata": {},
   "source": [
    "#### Вывод 1\n",
    "\n",
    "На первом шаге мы ознакомились с предоставленными датасетами, привели значения в общем столбце к одному типу и произвели объединение."
   ]
  },
  {
   "cell_type": "markdown",
   "metadata": {
    "id": "KLDGpPG0gFyM"
   },
   "source": [
    "### Шаг 2. Предобработка данных"
   ]
  },
  {
   "cell_type": "markdown",
   "metadata": {
    "id": "ssWwKXsxgFyO"
   },
   "source": [
    "#### Шаг 2.1. Проверьте типы данных\n",
    "\n",
    "- Проверьте типы данных в датафрейме и преобразуйте их там, где это необходимо."
   ]
  },
  {
   "cell_type": "markdown",
   "metadata": {},
   "source": [
    "При помощи метода .info() проверим типы данных и количество ненулевых значений"
   ]
  },
  {
   "cell_type": "code",
   "execution_count": 8,
   "metadata": {
    "id": "kVGSplJOgFyO"
   },
   "outputs": [
    {
     "name": "stdout",
     "output_type": "stream",
     "text": [
      "<class 'pandas.core.frame.DataFrame'>\n",
      "Int64Index: 7486 entries, 0 to 7485\n",
      "Data columns (total 16 columns):\n",
      " #   Column                 Non-Null Count  Dtype  \n",
      "---  ------                 --------------  -----  \n",
      " 0   title                  7486 non-null   object \n",
      " 1   pu_number              7486 non-null   int64  \n",
      " 2   show_start_date        7486 non-null   object \n",
      " 3   type                   7486 non-null   object \n",
      " 4   film_studio            7468 non-null   object \n",
      " 5   production_country     7484 non-null   object \n",
      " 6   director               7477 non-null   object \n",
      " 7   producer               6918 non-null   object \n",
      " 8   age_restriction        7486 non-null   object \n",
      " 9   refundable_support     332 non-null    float64\n",
      " 10  nonrefundable_support  332 non-null    float64\n",
      " 11  budget                 332 non-null    float64\n",
      " 12  financing_source       332 non-null    object \n",
      " 13  ratings                6519 non-null   object \n",
      " 14  genres                 6510 non-null   object \n",
      " 15  box_office             3158 non-null   float64\n",
      "dtypes: float64(4), int64(1), object(11)\n",
      "memory usage: 994.2+ KB\n"
     ]
    }
   ],
   "source": [
    "df.info()"
   ]
  },
  {
   "cell_type": "markdown",
   "metadata": {},
   "source": [
    "Столбец 'show_start_date' приведем к типу datatime"
   ]
  },
  {
   "cell_type": "code",
   "execution_count": 9,
   "metadata": {},
   "outputs": [
    {
     "name": "stdout",
     "output_type": "stream",
     "text": [
      "<class 'pandas.core.frame.DataFrame'>\n",
      "Int64Index: 7486 entries, 0 to 7485\n",
      "Data columns (total 16 columns):\n",
      " #   Column                 Non-Null Count  Dtype              \n",
      "---  ------                 --------------  -----              \n",
      " 0   title                  7486 non-null   object             \n",
      " 1   pu_number              7486 non-null   int64              \n",
      " 2   show_start_date        7486 non-null   datetime64[ns, UTC]\n",
      " 3   type                   7486 non-null   object             \n",
      " 4   film_studio            7468 non-null   object             \n",
      " 5   production_country     7484 non-null   object             \n",
      " 6   director               7477 non-null   object             \n",
      " 7   producer               6918 non-null   object             \n",
      " 8   age_restriction        7486 non-null   object             \n",
      " 9   refundable_support     332 non-null    float64            \n",
      " 10  nonrefundable_support  332 non-null    float64            \n",
      " 11  budget                 332 non-null    float64            \n",
      " 12  financing_source       332 non-null    object             \n",
      " 13  ratings                6519 non-null   object             \n",
      " 14  genres                 6510 non-null   object             \n",
      " 15  box_office             3158 non-null   float64            \n",
      "dtypes: datetime64[ns, UTC](1), float64(4), int64(1), object(10)\n",
      "memory usage: 994.2+ KB\n"
     ]
    }
   ],
   "source": [
    "df['show_start_date'] = pd.to_datetime(df['show_start_date'])\n",
    "df.info()"
   ]
  },
  {
   "cell_type": "markdown",
   "metadata": {
    "id": "i0MOLbF-gFyP"
   },
   "source": [
    "#### Шаг 2.2. Изучите пропуски в датафрейме\n",
    "\n",
    "- Объясните, почему заполнили пропуски определённым образом или почему не стали этого делать."
   ]
  },
  {
   "cell_type": "code",
   "execution_count": 10,
   "metadata": {
    "id": "8MJD_lkngFyP",
    "scrolled": true
   },
   "outputs": [
    {
     "data": {
      "text/plain": [
       "title                    0.000000\n",
       "pu_number                0.000000\n",
       "show_start_date          0.000000\n",
       "type                     0.000000\n",
       "film_studio              0.002404\n",
       "production_country       0.000267\n",
       "director                 0.001202\n",
       "producer                 0.075875\n",
       "age_restriction          0.000000\n",
       "refundable_support       0.955651\n",
       "nonrefundable_support    0.955651\n",
       "budget                   0.955651\n",
       "financing_source         0.955651\n",
       "ratings                  0.129174\n",
       "genres                   0.130377\n",
       "box_office               0.578146\n",
       "dtype: float64"
      ]
     },
     "execution_count": 10,
     "metadata": {},
     "output_type": "execute_result"
    }
   ],
   "source": [
    "df.isna().mean()"
   ]
  },
  {
   "cell_type": "markdown",
   "metadata": {},
   "source": [
    "Пропуски в столбцах: 'film_studio', 'production_country', 'director', 'producer', 'genres', 'box_office', 'financing_source' оставляем без изменений, достоверных данных чем их заполнить у нас нет.\n",
    "\n",
    "Пропуски в столбцах: 'refundable_support', 'nonrefundable_support', 'budget', 'box_office' заменим на 0, отсутсвие финансирования или возвратной части господдержки или кассовых сборов вполне можно оценить как 0.\n",
    "\n",
    "Пропуски в столбце 'ratings' трогать не будем, любое числовое значение влияет на общий рейтинг."
   ]
  },
  {
   "cell_type": "code",
   "execution_count": 11,
   "metadata": {},
   "outputs": [
    {
     "data": {
      "text/plain": [
       "title                    0.000000\n",
       "pu_number                0.000000\n",
       "show_start_date          0.000000\n",
       "type                     0.000000\n",
       "film_studio              0.002404\n",
       "production_country       0.000267\n",
       "director                 0.001202\n",
       "producer                 0.075875\n",
       "age_restriction          0.000000\n",
       "refundable_support       0.000000\n",
       "nonrefundable_support    0.000000\n",
       "budget                   0.000000\n",
       "financing_source         0.955651\n",
       "ratings                  0.129174\n",
       "genres                   0.130377\n",
       "box_office               0.000000\n",
       "dtype: float64"
      ]
     },
     "execution_count": 11,
     "metadata": {},
     "output_type": "execute_result"
    }
   ],
   "source": [
    "df[['refundable_support', 'nonrefundable_support', 'budget', 'box_office']] = df[['refundable_support', 'nonrefundable_support', 'budget', 'box_office']].fillna(0)\n",
    "df.isna().mean()"
   ]
  },
  {
   "cell_type": "markdown",
   "metadata": {
    "id": "4c6k1t9ygFyQ"
   },
   "source": [
    "#### Шаг 2.3. Изучите дубликаты в датафрейме\n",
    "- Проверьте, есть ли в данных дубликаты. Опишите причины, которые могли повлиять на появление дублей."
   ]
  },
  {
   "cell_type": "markdown",
   "metadata": {},
   "source": [
    "Явных дубликатов в датасете не обнаружено"
   ]
  },
  {
   "cell_type": "code",
   "execution_count": 12,
   "metadata": {
    "id": "aKck8RIdgFyQ"
   },
   "outputs": [
    {
     "data": {
      "text/plain": [
       "0"
      ]
     },
     "execution_count": 12,
     "metadata": {},
     "output_type": "execute_result"
    }
   ],
   "source": [
    "df.duplicated().sum()"
   ]
  },
  {
   "cell_type": "markdown",
   "metadata": {},
   "source": [
    "При проверке столбца 'producer' неявных дубликатов не обнаружили, заполним '...' пропущенные значения"
   ]
  },
  {
   "cell_type": "code",
   "execution_count": 13,
   "metadata": {},
   "outputs": [
    {
     "data": {
      "text/plain": [
       "array(['Дэвид Валдес, Кевин Костнер, Джейк Эбертс', Ellipsis,\n",
       "       'Джим Лемли, Джейсон Нетер, Марк Е.Платт, Яйн Смит', ...,\n",
       "       'Поппи Бегум, Ник Пойнц',\n",
       "       'Джефф Боулер, Дэниэл Гродник, Луильо Руис, Брэт Саксон, Кирк Шоу',\n",
       "       'Дженнифер Додж'], dtype=object)"
      ]
     },
     "execution_count": 13,
     "metadata": {},
     "output_type": "execute_result"
    }
   ],
   "source": [
    "df['producer'] = df['producer'].fillna(...)\n",
    "df['producer'].unique()"
   ]
  },
  {
   "cell_type": "markdown",
   "metadata": {},
   "source": [
    "При проверке столбца 'financing_source' неявных дубликатов не обнаружили, заполним '...' пропущенные значения"
   ]
  },
  {
   "cell_type": "code",
   "execution_count": 15,
   "metadata": {},
   "outputs": [
    {
     "data": {
      "text/plain": [
       "array([Ellipsis, 'Министерство культуры', 'Фонд кино',\n",
       "       'Министерство культуры, Фонд кино'], dtype=object)"
      ]
     },
     "execution_count": 15,
     "metadata": {},
     "output_type": "execute_result"
    }
   ],
   "source": [
    "df['financing_source'] = df['financing_source'].fillna(...)\n",
    "df['financing_source'].unique()"
   ]
  },
  {
   "cell_type": "markdown",
   "metadata": {
    "id": "52fOPrEBgFyQ"
   },
   "source": [
    "#### Шаг 2.4. Изучите категориальные значения\n",
    "\n",
    "- Посмотрите, какая общая проблема встречается почти во всех категориальных столбцах;\n",
    "- Исправьте проблемные значения в поле `type`.\n",
    "\n",
    "<div id=\"accordion\">\n",
    "    <div class=\"card\">\n",
    "        <div class=\"card-header\" id=\"headingThree\">\n",
    "            <button class=\"btn btn-link collapsed\" data-toggle=\"collapse\" data-target=\"#collapseHint_1\" aria-expanded=\"false\" aria-controls=\"collapseHint_1\">Подсказка</button>\n",
    "        </div>\n",
    "        <div id=\"collapseHint_1\" class=\"collapse\" aria-labelledby=\"headingThree\" data-parent=\"#accordion\">\n",
    "            <div class=\"card-body\">\n",
    "В поле <code>type</code> есть несколько значений, у которых появился пробел в начале строки. Самый простой способ их «починить» -- использовать метод <a href=\"https://pandas.pydata.org/docs/reference/api/pandas.Series.str.strip.html#pandas.Series.str.strip\">.str.strip</a>. Этот метод удаляет все пробелы, которые встречаются в начале и в конце строки. Применяют его таким образом:<br>\n",
    "<code>df['type'].str.strip()</code>\n",
    "            </div>\n",
    "        </div>\n",
    "    </div>\n",
    "</div>"
   ]
  },
  {
   "cell_type": "markdown",
   "metadata": {},
   "source": [
    "Проверим уникальные значения столбца 'type'"
   ]
  },
  {
   "cell_type": "code",
   "execution_count": 16,
   "metadata": {},
   "outputs": [
    {
     "data": {
      "text/plain": [
       "array(['Художественный', 'Анимационный', 'Прочие', 'Документальный',\n",
       "       'Научно-популярный', ' Художественный', ' Анимационный',\n",
       "       'Музыкально-развлекательный'], dtype=object)"
      ]
     },
     "execution_count": 16,
     "metadata": {},
     "output_type": "execute_result"
    }
   ],
   "source": [
    "df['type'].unique()"
   ]
  },
  {
   "cell_type": "markdown",
   "metadata": {},
   "source": [
    "Мы обнаружили неявные дубликаты, одинаковые типы но содержащие пробелы, приведем их в нормальный вид используя метод .strip()"
   ]
  },
  {
   "cell_type": "code",
   "execution_count": 17,
   "metadata": {},
   "outputs": [
    {
     "data": {
      "text/plain": [
       "array(['Художественный', 'Анимационный', 'Прочие', 'Документальный',\n",
       "       'Научно-популярный', 'Музыкально-развлекательный'], dtype=object)"
      ]
     },
     "execution_count": 17,
     "metadata": {},
     "output_type": "execute_result"
    }
   ],
   "source": [
    "df['type'] = df['type'].str.strip()\n",
    "df['type'].unique()"
   ]
  },
  {
   "cell_type": "markdown",
   "metadata": {},
   "source": [
    "Обнаружили различие в диапазонах в рейтингов - столбец 'ratings', скорее всего это рейтинг ожидания, актуальные данные по рейтингу нам взять не откуда, поэтому заполним на 'NaN'"
   ]
  },
  {
   "cell_type": "code",
   "execution_count": 18,
   "metadata": {},
   "outputs": [
    {
     "data": {
      "text/plain": [
       "array(['7.2', '6.6', '6.8', '7.7', '8.3', '8.0', '7.8', '8.1', '7.1',\n",
       "       '6.0', '7.4', '5.8', '8.7', '6.3', '6.9', '5.0', '4.3', '7.3',\n",
       "       '7.0', '6.4', nan, '8.2', '7.5', '6.7', '7.9', '5.9', '6.2', '5.6',\n",
       "       '6.5', '2.4', '7.6', '6.1', '8.6', '8.5', '8.8', '5.5', '5.1',\n",
       "       '5.7', '5.4', '99%', '4.4', '4.5', '5.3', '4.1', '8.4', '2.6',\n",
       "       '3.8', '4.6', '4.8', '4.0', '3.0', '1.6', '4.2', '5.2', '4.7',\n",
       "       '4.9', '3.9', '2.7', '3.3', '2.9', '28%', '3.7', '1.4', '3.1',\n",
       "       '97%', '3.5', '3.2', '2.8', '1.5', '2.1', '2.5', '9.2', '3.4',\n",
       "       '1.1', '3.6', '83%', '64%', '91%', '94%', '62%', '79%', '90%',\n",
       "       '19%', '88%', '1.0', '89%', '1.3', '1.9', '1.8', '1.2', '1.7',\n",
       "       '9.0', '98%', '8.9', '9.1'], dtype=object)"
      ]
     },
     "execution_count": 18,
     "metadata": {},
     "output_type": "execute_result"
    }
   ],
   "source": [
    "df['ratings'].unique()"
   ]
  },
  {
   "cell_type": "code",
   "execution_count": 19,
   "metadata": {},
   "outputs": [
    {
     "data": {
      "text/plain": [
       "array([7.2, 6.6, 6.8, 7.7, 8.3, 8. , 7.8, 8.1, 7.1, 6. , 7.4, 5.8, 8.7,\n",
       "       6.3, 6.9, 5. , 4.3, 7.3, 7. , 6.4, nan, 8.2, 7.5, 6.7, 7.9, 5.9,\n",
       "       6.2, 5.6, 6.5, 2.4, 7.6, 6.1, 8.6, 8.5, 8.8, 5.5, 5.1, 5.7, 5.4,\n",
       "       4.4, 4.5, 5.3, 4.1, 8.4, 2.6, 3.8, 4.6, 4.8, 4. , 3. , 1.6, 4.2,\n",
       "       5.2, 4.7, 4.9, 3.9, 2.7, 3.3, 2.9, 3.7, 1.4, 3.1, 3.5, 3.2, 2.8,\n",
       "       1.5, 2.1, 2.5, 9.2, 3.4, 1.1, 3.6, 1. , 1.3, 1.9, 1.8, 1.2, 1.7,\n",
       "       9. , 8.9, 9.1])"
      ]
     },
     "execution_count": 19,
     "metadata": {},
     "output_type": "execute_result"
    }
   ],
   "source": [
    "df['ratings'] = pd.to_numeric(df['ratings'], errors='coerce')\n",
    "df['ratings'].unique()"
   ]
  },
  {
   "cell_type": "markdown",
   "metadata": {},
   "source": [
    "Данные в столбце 'genres' пока что не вызывают нареканий"
   ]
  },
  {
   "cell_type": "code",
   "execution_count": 20,
   "metadata": {
    "scrolled": true
   },
   "outputs": [
    {
     "data": {
      "text/plain": [
       "array(['боевик,драма,мелодрама', 'драма,военный',\n",
       "       'фантастика,боевик,триллер', 'драма', 'мелодрама,комедия',\n",
       "       'мюзикл,мелодрама,комедия', 'комедия,криминал',\n",
       "       'боевик,триллер,детектив', 'боевик,драма,приключения',\n",
       "       'драма,спорт', 'триллер,драма,мелодрама', 'комедия,мелодрама',\n",
       "       'драма,мелодрама,комедия', 'драма,мелодрама', 'драма,история',\n",
       "       'драма,мелодрама,семейный', 'комедия,мелодрама,криминал',\n",
       "       'комедия', 'боевик,драма,криминал', 'драма,комедия',\n",
       "       'ужасы,фантастика,комедия', 'мультфильм,короткометражка,мелодрама',\n",
       "       'драма,криминал', 'мультфильм,фантастика,фэнтези',\n",
       "       'триллер,драма,криминал', 'драма,мелодрама,биография',\n",
       "       'драма,комедия,военный', 'фантастика,драма,детектив',\n",
       "       'мюзикл,семейный', nan, 'военный,приключения,драма',\n",
       "       'документальный,драма', 'драма,биография,история',\n",
       "       'боевик,триллер,драма', 'фэнтези,боевик',\n",
       "       'боевик,комедия,криминал', 'мюзикл,комедия,детский',\n",
       "       'комедия,мелодрама,драма', 'мультфильм,фэнтези,комедия',\n",
       "       'комедия,история', 'мелодрама', 'драма,биография,музыка',\n",
       "       'фэнтези,драма,мелодрама', 'триллер,военный',\n",
       "       'драма,мелодрама,военный', 'мюзикл,драма,мелодрама',\n",
       "       'мюзикл,комедия', 'мультфильм,приключения,семейный',\n",
       "       'ужасы,триллер', 'боевик,драма,военный', 'драма,боевик',\n",
       "       'мультфильм,драма,комедия', 'триллер,криминал',\n",
       "       'военный,биография,драма', 'комедия,семейный', 'военный',\n",
       "       'драма,семейный,биография', 'фэнтези,приключения,семейный',\n",
       "       'драма,криминал,биография', 'ужасы,триллер,детектив',\n",
       "       'боевик,история,драма', 'ужасы,триллер,драма',\n",
       "       'драма,криминал,спорт', 'документальный,короткометражка',\n",
       "       'триллер,драма', 'криминал,детектив,приключения',\n",
       "       'драма,комедия,криминал', 'драма,комедия,вестерн',\n",
       "       'драма,мелодрама,детектив', 'мелодрама,биография',\n",
       "       'фэнтези,мелодрама,драма', 'драма,мелодрама,история',\n",
       "       'комедия,приключения,история', 'приключения', 'драма,семейный',\n",
       "       'криминал,детектив', 'мультфильм,короткометражка,ужасы',\n",
       "       'фантастика,триллер,драма', 'фэнтези,мелодрама,комедия',\n",
       "       'драма,биография', 'комедия,криминал,история',\n",
       "       'триллер,драма,детектив', 'фантастика,комедия,приключения',\n",
       "       'фэнтези,семейный', 'ужасы,фантастика,боевик',\n",
       "       'мелодрама,криминал', 'комедия,приключения,мелодрама',\n",
       "       'боевик,триллер,приключения', 'боевик,приключения',\n",
       "       'боевик,триллер,криминал', 'документальный,военный,история',\n",
       "       'драма,музыка', 'боевик,драма', 'приключения,боевик',\n",
       "       'драма,военный,биография', 'триллер,драма,приключения',\n",
       "       'аниме,мультфильм,фэнтези', 'триллер,детектив,драма',\n",
       "       'боевик,триллер,мелодрама', 'боевик,история',\n",
       "       'приключения,история', 'драма,комедия,приключения',\n",
       "       'фэнтези,комедия,приключения', 'драма,вестерн',\n",
       "       'документальный,музыка', 'мелодрама,драма',\n",
       "       'триллер,криминал,детектив', 'ужасы', 'боевик,комедия,приключения',\n",
       "       'мультфильм,фэнтези,боевик', 'боевик,фэнтези,драма',\n",
       "       'фэнтези,драма', 'фэнтези,боевик,комедия',\n",
       "       'приключения,детский,комедия', 'документальный',\n",
       "       'боевик,триллер,комедия', 'мелодрама,комедия,криминал',\n",
       "       'драма,детектив', 'мюзикл,ужасы,триллер', 'детектив,триллер,ужасы',\n",
       "       'ужасы,фэнтези', 'ужасы,фэнтези,триллер', 'мультфильм,драма',\n",
       "       'ужасы,боевик,фантастика', 'боевик', 'фантастика,боевик',\n",
       "       'мелодрама,комедия,приключения', 'триллер,детектив',\n",
       "       'мюзикл,мелодрама,фэнтези', 'криминал', 'триллер,комедия,криминал',\n",
       "       'боевик,приключения,триллер', 'триллер,драма,военный',\n",
       "       'комедия,семейный,музыка', 'комедия,фантастика,мелодрама',\n",
       "       'фантастика,триллер,криминал', 'комедия,драма', 'боевик,военный',\n",
       "       'ужасы,фантастика,триллер', 'фантастика,драма,мелодрама',\n",
       "       'фэнтези,драма,детектив', 'боевик,триллер', 'боевик,драма,история',\n",
       "       'мультфильм,мюзикл,фэнтези', 'для взрослых,драма,мелодрама',\n",
       "       'мультфильм,боевик,детектив', 'фантастика,мелодрама,боевик',\n",
       "       'ужасы,фантастика,детектив', 'фантастика,боевик,приключения',\n",
       "       'мелодрама,комедия,спорт', 'комедия,боевик,приключения',\n",
       "       'документальный,приключения', 'мультфильм,короткометражка,детский',\n",
       "       'комедия,приключения', 'ужасы,драма', 'ужасы,фэнтези,боевик',\n",
       "       'мультфильм,фэнтези,детский', 'мюзикл,боевик,драма',\n",
       "       'семейный,комедия,драма', 'концерт,музыка', 'фэнтези,боевик,драма',\n",
       "       'драма,комедия,музыка', 'фантастика,фэнтези,боевик',\n",
       "       'фэнтези,комедия,семейный', 'фэнтези,драма,комедия',\n",
       "       'мультфильм,мюзикл,драма', 'триллер', 'боевик,криминал,триллер',\n",
       "       'мультфильм,приключения,драма', 'мелодрама,музыка',\n",
       "       'документальный,музыка,концерт', 'мультфильм,семейный',\n",
       "       'мультфильм,комедия,приключения', 'мультфильм,комедия,семейный',\n",
       "       'фантастика,драма', 'фэнтези,боевик,приключения',\n",
       "       'мультфильм,приключения', 'драма,военный,история', 'история',\n",
       "       'драма,приключения,военный',\n",
       "       'документальный,короткометражка,семейный',\n",
       "       'мелодрама,история,триллер', 'ужасы,детектив',\n",
       "       'мюзикл,комедия,приключения', 'драма,спорт,биография',\n",
       "       'фантастика,боевик,комедия', 'фантастика,приключения,детектив',\n",
       "       'короткометражка,драма,военный', 'драма,мультфильм',\n",
       "       'приключения,семейный', 'детектив', 'триллер,приключения',\n",
       "       'аниме,мультфильм,боевик', 'драма,комедия,биография',\n",
       "       'драма,комедия,спорт', 'боевик,мелодрама,комедия',\n",
       "       'семейный,комедия', 'фэнтези,боевик,триллер',\n",
       "       'документальный,фэнтези,семейный', 'фантастика,фэнтези,драма',\n",
       "       'ужасы,комедия,фэнтези', 'документальный,биография,музыка',\n",
       "       'фантастика,боевик,фэнтези', 'ужасы,боевик,триллер',\n",
       "       'комедия,криминал,семейный', 'приключения,драма',\n",
       "       'криминал,драма,триллер', 'драма,детектив,криминал',\n",
       "       'фэнтези,приключения,комедия', 'комедия,спорт',\n",
       "       'мюзикл,фэнтези,мелодрама', 'мультфильм,фэнтези,приключения',\n",
       "       'фантастика,фэнтези,приключения', 'фэнтези',\n",
       "       'фэнтези,приключения,боевик', 'фантастика,боевик,драма',\n",
       "       'криминал,драма', 'криминал,триллер,драма',\n",
       "       'драма,мелодрама,приключения', 'детский,комедия',\n",
       "       'фантастика,драма,боевик', 'мультфильм,семейный,фэнтези',\n",
       "       'концерт,музыка,документальный', 'ужасы,комедия,приключения',\n",
       "       'драма,мелодрама,криминал', 'ужасы,фантастика,фэнтези',\n",
       "       'боевик,комедия', 'мультфильм,фантастика,комедия', 'триллер,ужасы',\n",
       "       'мультфильм,мюзикл,комедия', 'мелодрама,фэнтези,триллер',\n",
       "       'детский,приключения,комедия', 'комедия,детектив',\n",
       "       'аниме,мультфильм,мелодрама', 'документальный,драма,семейный',\n",
       "       'документальный,биография,история', 'военный,боевик,драма',\n",
       "       'ужасы,комедия', 'комедия,приключения,семейный',\n",
       "       'приключения,биография,история', 'детский,приключения,семейный',\n",
       "       'спорт,драма,биография', 'аниме,мультфильм,ужасы',\n",
       "       'фантастика,боевик,криминал', 'мюзикл,драма',\n",
       "       'драма,криминал,детектив', 'аниме,мультфильм,драма',\n",
       "       'драма,триллер,приключения', 'триллер,криминал,драма',\n",
       "       'фэнтези,комедия,драма', 'мультфильм,комедия',\n",
       "       'драма,комедия,история', 'комедия,биография,история',\n",
       "       'мультфильм,фантастика,приключения', 'аниме,мультфильм,фантастика',\n",
       "       'мультфильм,фэнтези,семейный', 'мультфильм,боевик,комедия',\n",
       "       'комедия,криминал,спорт', 'документальный,мюзикл',\n",
       "       'мелодрама,комедия,музыка', 'биография',\n",
       "       'триллер,криминал,комедия', 'фантастика,драма,комедия',\n",
       "       'комедия,драма,мелодрама', 'фантастика,приключения,боевик',\n",
       "       'мультфильм,фэнтези,драма', 'триллер,комедия',\n",
       "       'драма,приключения,биография', 'фантастика,комедия',\n",
       "       'мелодрама,драма,комедия', 'боевик,криминал',\n",
       "       'драма,криминал,боевик', 'мультфильм,мюзикл,детский',\n",
       "       'драма,фэнтези', 'документальный,семейный',\n",
       "       'фэнтези,драма,приключения', 'ужасы,комедия,фантастика',\n",
       "       'драма,мелодрама,музыка', 'фэнтези,драма,семейный',\n",
       "       'триллер,мелодрама,драма', 'вестерн,боевик,драма',\n",
       "       'мультфильм,короткометражка,комедия', 'триллер,драма,история',\n",
       "       'ужасы,фантастика', 'ужасы,мелодрама,комедия',\n",
       "       'фэнтези,приключения', 'фантастика,триллер',\n",
       "       'ужасы,боевик,фэнтези', 'мультфильм,комедия,детский',\n",
       "       'триллер,драма,биография', 'мультфильм,ужасы,фэнтези',\n",
       "       'мультфильм,ужасы,фантастика', 'ужасы,боевик,комедия',\n",
       "       'драма,биография,спорт', 'мультфильм', 'мелодрама,комедия,драма',\n",
       "       'приключения,фантастика,семейный', 'комедия,криминал,детектив',\n",
       "       'ужасы,триллер,комедия', 'криминал,комедия,триллер',\n",
       "       'семейный,приключения,комедия', 'мультфильм,драма,приключения',\n",
       "       'ужасы,драма,детектив', 'драма,приключения,фэнтези',\n",
       "       'фантастика,мультфильм,драма', 'драма,триллер,детектив',\n",
       "       'драма,история,музыка', 'детский', 'триллер,боевик,криминал',\n",
       "       'драма,фантастика', 'комедия,драма,семейный',\n",
       "       'боевик,драма,комедия', 'комедия,ужасы',\n",
       "       'драма,фантастика,триллер', 'фантастика,драма,триллер',\n",
       "       'история,спорт,драма', 'документальный,биография',\n",
       "       'биография,история', 'спорт,драма', 'боевик,фэнтези',\n",
       "       'мультфильм,фэнтези', 'документальный,комедия,история',\n",
       "       'криминал,комедия,боевик', 'фэнтези,приключения,драма',\n",
       "       'музыка,концерт', 'триллер,драма,боевик',\n",
       "       'комедия,криминал,боевик', 'комедия,фантастика,боевик',\n",
       "       'вестерн,приключения,боевик', 'аниме,мультфильм,комедия',\n",
       "       'детектив,криминал,триллер', 'мультфильм,комедия,криминал',\n",
       "       'комедия,приключения,детектив', 'мелодрама,фантастика,драма',\n",
       "       'драма,комедия,семейный', 'приключения,фантастика',\n",
       "       'триллер,детектив,ужасы', 'комедия,приключения,фэнтези',\n",
       "       'фэнтези,триллер,драма', 'мелодрама,приключения,боевик',\n",
       "       'детектив,триллер,криминал', 'фэнтези,семейный,мелодрама',\n",
       "       'военный,драма', 'документальный,приключения,семейный',\n",
       "       'криминал,комедия,драма', 'комедия,фантастика',\n",
       "       'история,биография,драма', 'мелодрама,драма,музыка',\n",
       "       'боевик,мелодрама', 'комедия,криминал,триллер',\n",
       "       'детектив,триллер,боевик', 'комедия,боевик,криминал',\n",
       "       'комедия,вестерн', 'детский,мелодрама,семейный',\n",
       "       'короткометражка,мультфильм', 'комедия,фэнтези',\n",
       "       'фантастика,драма,ужасы', 'триллер,драма,ужасы',\n",
       "       'драма,фэнтези,история', 'комедия,драма,короткометражка',\n",
       "       'фэнтези,триллер,приключения', 'семейный',\n",
       "       'комедия,криминал,драма', 'комедия,фэнтези,ужасы',\n",
       "       'короткометражка,комедия,криминал', 'фантастика',\n",
       "       'триллер,ужасы,драма', 'мелодрама,драма,фэнтези',\n",
       "       'фантастика,приключения,драма', 'боевик,детектив',\n",
       "       'военный,драма,боевик', 'комедия,мелодрама,фэнтези',\n",
       "       'вестерн,криминал,триллер', 'драма,история,триллер',\n",
       "       'мультфильм,фантастика,боевик', 'детектив,драма,криминал',\n",
       "       'приключения,история,драма', 'мультфильм,семейный,детский',\n",
       "       'биография,драма,история', 'триллер,криминал,боевик',\n",
       "       'история,мелодрама', 'приключения,детский',\n",
       "       'музыка,приключения,концерт', 'военный,драма,комедия',\n",
       "       'фэнтези,боевик,военный', 'фантастика,детектив,боевик',\n",
       "       'мультфильм,фэнтези,история', 'биография,мелодрама,драма',\n",
       "       'документальный,биография,спорт', 'фантастика,комедия,детектив',\n",
       "       'музыка,концерт,документальный', 'триллер,боевик,приключения',\n",
       "       'триллер,драма,комедия', 'детектив,криминал',\n",
       "       'мультфильм,приключения,фэнтези', 'мелодрама,приключения',\n",
       "       'комедия,музыка', 'мелодрама,комедия,ужасы',\n",
       "       'драма,криминал,приключения', 'приключения,детектив,мелодрама',\n",
       "       'драма,криминал,фантастика', 'фэнтези,драма,биография',\n",
       "       'детектив,фантастика,криминал', 'триллер,драма,фантастика',\n",
       "       'ужасы,комедия,боевик', 'мелодрама,история', 'триллер,боевик',\n",
       "       'фильм-нуар,триллер,детектив', 'комедия,криминал,приключения',\n",
       "       'ужасы,триллер,мелодрама', 'военный,драма,история',\n",
       "       'драма,спорт,история', 'документальный,драма,история',\n",
       "       'триллер,мелодрама,детектив', 'детский,семейный',\n",
       "       'мюзикл,семейный,драма', 'биография,военный,драма',\n",
       "       'мультфильм,детский', 'боевик,криминал,драма',\n",
       "       'детектив,фэнтези,триллер', 'драма,боевик,приключения',\n",
       "       'драма,мелодрама,фэнтези', 'детектив,история,драма',\n",
       "       'фэнтези,боевик,ужасы', 'ужасы,фэнтези,мелодрама',\n",
       "       'ужасы,приключения', 'боевик,фантастика',\n",
       "       'ужасы,мелодрама,детектив', 'фантастика,триллер,приключения',\n",
       "       'боевик,приключения,история', 'приключения,боевик,триллер',\n",
       "       'детектив,ужасы,криминал', 'семейный,фэнтези', 'мюзикл,мелодрама',\n",
       "       'драма,военный,приключения', 'фантастика,драма,приключения',\n",
       "       'приключения,семейный,драма', 'история,драма,боевик',\n",
       "       'мультфильм,приключения,комедия', 'криминал,драма,комедия',\n",
       "       'ужасы,комедия,драма', 'комедия,семейный,приключения',\n",
       "       'мюзикл,фэнтези,драма', 'драма,вестерн,боевик',\n",
       "       'фантастика,триллер,детектив', 'драма,история,детектив',\n",
       "       'короткометражка,биография', 'мультфильм,приключения,фантастика',\n",
       "       'комедия,триллер', 'мультфильм,приключения,детектив',\n",
       "       'драма,триллер', 'ужасы,триллер,криминал',\n",
       "       'документальный,криминал,военный', 'ужасы,фэнтези,драма',\n",
       "       'фэнтези,комедия', 'ужасы,фэнтези,комедия', 'комедия,музыка,драма',\n",
       "       'мультфильм,приключения,военный', 'мюзикл,фэнтези,комедия',\n",
       "       'боевик,фантастика,приключения', 'триллер,ужасы,криминал',\n",
       "       'ужасы,фантастика,драма', 'фантастика,приключения,семейный',\n",
       "       'короткометражка,музыка', 'мелодрама,детектив,комедия',\n",
       "       'документальный,триллер,биография', 'боевик,фантастика,триллер',\n",
       "       'спорт,драма,комедия', 'фэнтези,мелодрама,приключения',\n",
       "       'триллер,детектив,криминал', 'короткометражка,мелодрама',\n",
       "       'мультфильм,семейный,спорт', 'комедия,фэнтези,мелодрама',\n",
       "       'драма,спорт,комедия', 'история,драма,мелодрама',\n",
       "       'драма,боевик,криминал', 'драма,комедия,триллер',\n",
       "       'аниме,мультфильм', 'документальный,ужасы',\n",
       "       'мультфильм,короткометражка', 'драма,история,военный',\n",
       "       'мультфильм,короткометражка,фэнтези', 'комедия,военный,музыка',\n",
       "       'биография,история,драма', 'ужасы,драма,мелодрама',\n",
       "       'драма,комедия,детектив', 'комедия,семейный,фантастика',\n",
       "       'мультфильм,семейный,комедия', 'история,детектив',\n",
       "       'приключения,мелодрама,детектив', 'мюзикл,комедия,мелодрама',\n",
       "       'драма,фантастика,ужасы', 'мультфильм,ужасы,комедия',\n",
       "       'для взрослых,драма,комедия', 'ужасы,комедия,музыка',\n",
       "       'комедия,история,драма', 'семейный,детектив,детский',\n",
       "       'короткометражка,драма', 'документальный,новости,драма',\n",
       "       'триллер,мелодрама', 'ужасы,драма,вестерн',\n",
       "       'мюзикл,фэнтези,семейный', 'вестерн,драма,триллер',\n",
       "       'приключения,вестерн,боевик', 'семейный,комедия,музыка',\n",
       "       'боевик,драма,вестерн', 'ужасы,драма,триллер',\n",
       "       'фантастика,мелодрама', 'комедия,криминал,биография',\n",
       "       'семейный,мультфильм,комедия', 'комедия,драма,криминал',\n",
       "       'фантастика,боевик,военный', 'приключения,биография,драма',\n",
       "       'приключения,триллер,биография', 'криминал,боевик,триллер',\n",
       "       'боевик,вестерн,приключения', 'история,драма',\n",
       "       'фантастика,фэнтези,комедия', 'мультфильм,детский,комедия',\n",
       "       'мелодрама,комедия,триллер', 'документальный,боевик,приключения',\n",
       "       'драма,приключения', 'мелодрама,военный,драма', 'триллер,фэнтези',\n",
       "       'драма,триллер,биография', 'фэнтези,боевик,семейный',\n",
       "       'фантастика,триллер,комедия', 'документальный,фэнтези',\n",
       "       'комедия,мультфильм,фантастика', 'криминал,биография,комедия',\n",
       "       'биография,спорт,драма', 'приключения,военный',\n",
       "       'мультфильм,семейный,драма', 'документальный,фэнтези,драма',\n",
       "       'комедия,боевик,фантастика', 'семейный,приключения,военный',\n",
       "       'триллер,ужасы,детектив', 'короткометражка',\n",
       "       'мелодрама,триллер,история', 'документальный,история',\n",
       "       'мультфильм,приключения,детский', 'драма,комедия,мультфильм',\n",
       "       'военный,детектив', 'семейный,приключения,документальный',\n",
       "       'детский,фэнтези', 'документальный,комедия', 'комедия,биография',\n",
       "       'криминал,комедия', 'спорт,мелодрама,криминал',\n",
       "       'фантастика,комедия,боевик', 'боевик,приключения,детектив',\n",
       "       'детектив,триллер,драма', 'документальный,фантастика',\n",
       "       'мелодрама,комедия,семейный', 'мультфильм,мелодрама,комедия',\n",
       "       'драма,спорт,семейный', 'фантастика,мелодрама,фэнтези',\n",
       "       'мюзикл,комедия,музыка', 'фантастика,триллер,мелодрама',\n",
       "       'приключения,комедия,фэнтези', 'фэнтези,боевик,детектив',\n",
       "       'фэнтези,боевик,мелодрама', 'комедия,военный',\n",
       "       'драма,спорт,боевик', 'мультфильм,боевик,триллер',\n",
       "       'мелодрама,семейный', 'фантастика,боевик,детектив',\n",
       "       'драма,приключения,история', 'документальный,драма,музыка',\n",
       "       'фантастика,триллер,боевик', 'фэнтези,боевик,вестерн',\n",
       "       'драма,комедия,мелодрама', 'ужасы,фэнтези,приключения',\n",
       "       'триллер,фэнтези,драма', 'мультфильм,мюзикл,мелодрама',\n",
       "       'ужасы,триллер,фантастика', 'триллер,мелодрама,комедия',\n",
       "       'ужасы,комедия,семейный', 'комедия,приключения,музыка',\n",
       "       'документальный,комедия,криминал', 'мелодрама,детектив',\n",
       "       'детский,приключения,фантастика', 'короткометражка,боевик,драма',\n",
       "       'боевик,комедия,семейный', 'фантастика,боевик,мелодрама',\n",
       "       'фэнтези,триллер,мелодрама', 'драма,детектив,история',\n",
       "       'боевик,криминал,детектив', 'мультфильм,фэнтези,мелодрама',\n",
       "       'мелодрама,драма,боевик', 'драма,вестерн,приключения',\n",
       "       'драма,приключения,мелодрама', 'фэнтези,боевик,криминал',\n",
       "       'фантастика,комедия,семейный', 'детский,фэнтези,приключения',\n",
       "       'ужасы,боевик', 'фантастика,мелодрама,комедия',\n",
       "       'семейный,спорт,боевик', 'триллер,биография,драма',\n",
       "       'ужасы,драма,комедия', 'мультфильм,фэнтези,триллер', 'мюзикл',\n",
       "       'боевик,спорт,драма', 'комедия,приключения,вестерн',\n",
       "       'документальный,ужасы,боевик', 'фантастика,боевик,семейный',\n",
       "       'военный,история', 'ужасы,боевик,криминал', 'детектив,триллер',\n",
       "       'драма,семейный,комедия', 'драма,детектив,приключения',\n",
       "       'драма,криминал,история', 'приключения,триллер',\n",
       "       'боевик,драма,биография', 'драма,приключения,триллер',\n",
       "       'комедия,фэнтези,приключения', 'фантастика,боевик,ужасы',\n",
       "       'драма,комедия,фантастика', 'детектив,криминал,драма',\n",
       "       'боевик,триллер,фэнтези', 'приключения,детектив,семейный',\n",
       "       'ужасы,комедия,криминал', 'мультфильм,биография,драма',\n",
       "       'история,боевик,фэнтези', 'детектив,криминал,боевик',\n",
       "       'приключения,фэнтези', 'комедия,приключения,спорт',\n",
       "       'драма,биография,мюзикл', 'комедия,семейный,фэнтези',\n",
       "       'детектив,драма,триллер', 'боевик,приключения,семейный',\n",
       "       'биография,спорт,комедия', 'фантастика,приключения,военный',\n",
       "       'документальный,драма,биография', 'детектив,приключения,драма',\n",
       "       'аниме,мультфильм,приключения', 'семейный,приключения',\n",
       "       'ужасы,фэнтези,детектив', 'семейный,документальный',\n",
       "       'драма,приключения,семейный', 'приключения,история,военный',\n",
       "       'фэнтези,мелодрама', 'фэнтези,триллер,детектив',\n",
       "       'документальный,спорт,биография', 'комедия,триллер,драма',\n",
       "       'драма,ужасы', 'биография,музыка,драма', 'фэнтези,ужасы',\n",
       "       'детектив,мелодрама,фэнтези', 'боевик,военный,история',\n",
       "       'биография,драма,криминал', 'триллер,мелодрама,криминал',\n",
       "       'семейный,мелодрама', 'биография,драма', 'военный,история,драма',\n",
       "       'фантастика,детектив,фэнтези', 'детектив,приключения,триллер',\n",
       "       'фантастика,приключения', 'мультфильм,короткометражка,мюзикл',\n",
       "       'мультфильм,детский,семейный', 'документальный,драма,комедия',\n",
       "       'комедия,приключения,криминал', 'документальный,семейный,музыка',\n",
       "       'мелодрама,музыка,драма', 'детектив,фантастика,триллер',\n",
       "       'драма,мелодрама,триллер', 'биография,драма,военный',\n",
       "       'приключения,фантастика,драма', 'детектив,фильм-нуар,комедия',\n",
       "       'документальный,спорт', 'триллер,фантастика,драма',\n",
       "       'биография,документальный', 'ужасы,фантастика,мелодрама',\n",
       "       'детектив,комедия', 'история,биография,военный',\n",
       "       'криминал,мелодрама', 'драма,криминал,вестерн',\n",
       "       'мелодрама,семейный,приключения', 'триллер,ужасы,мелодрама',\n",
       "       'фэнтези,драма,фильм-нуар', 'детектив,мелодрама',\n",
       "       'комедия,драма,биография', 'драма,военный,боевик',\n",
       "       'драма,комедия,ужасы', 'фантастика,драма,криминал',\n",
       "       'документальный,музыка,биография', 'мультфильм,боевик,приключения',\n",
       "       'короткометражка,фантастика', 'мультфильм,мелодрама,драма',\n",
       "       'боевик,военный,драма', 'фэнтези,семейный,приключения',\n",
       "       'детский,мультфильм,приключения', 'семейный,фэнтези,комедия',\n",
       "       'фэнтези,ужасы,триллер', 'ужасы,триллер,приключения',\n",
       "       'драма,боевик,история', 'фэнтези,комедия,детектив',\n",
       "       'история,приключения', 'аниме,мультфильм,короткометражка',\n",
       "       'драма,военный,триллер', 'биография,криминал,триллер',\n",
       "       'фантастика,фэнтези,детектив', 'вестерн,биография,драма',\n",
       "       'биография,музыка,мюзикл', 'драма,история,биография',\n",
       "       'приключения,драма,фантастика', 'комедия,фэнтези,криминал',\n",
       "       'биография,спорт,история', 'драма,криминал,семейный',\n",
       "       'детектив,боевик,история', 'ужасы,комедия,детектив',\n",
       "       'триллер,приключения,драма', 'фэнтези,комедия,криминал',\n",
       "       'триллер,криминал,приключения', 'комедия,детектив,приключения',\n",
       "       'фэнтези,драма,ужасы', 'ужасы,драма,военный', 'реальное ТВ',\n",
       "       'аниме,мультфильм,детектив', 'приключения,фэнтези,семейный',\n",
       "       'драма,биография,комедия', 'триллер,комедия,ужасы',\n",
       "       'музыка,мелодрама,фэнтези', 'мультфильм,история',\n",
       "       'мультфильм,комедия,фантастика', 'биография,криминал,драма',\n",
       "       'комедия,мелодрама,фантастика', 'криминал,боевик,комедия',\n",
       "       'история,криминал', 'детектив,комедия,драма',\n",
       "       'триллер,фантастика,боевик', 'криминал,боевик',\n",
       "       'комедия,драма,военный', 'драма,триллер,криминал',\n",
       "       'мультфильм,мелодрама,приключения', 'фантастика,фэнтези,триллер',\n",
       "       'короткометражка,драма,триллер', 'военный,боевик,история',\n",
       "       'боевик,драма,триллер', 'документальный,военный,драма',\n",
       "       'драма,криминал,фильм-нуар', 'мультфильм,детский,приключения',\n",
       "       'мелодрама,история,драма'], dtype=object)"
      ]
     },
     "execution_count": 20,
     "metadata": {},
     "output_type": "execute_result"
    }
   ],
   "source": [
    "df['genres'].unique()"
   ]
  },
  {
   "cell_type": "markdown",
   "metadata": {},
   "source": [
    "Данные в столбце 'age_restriction' пока что не вызывают нареканий"
   ]
  },
  {
   "cell_type": "code",
   "execution_count": 21,
   "metadata": {},
   "outputs": [
    {
     "data": {
      "text/plain": [
       "array(['«18+» - запрещено для детей', '«6+» - для детей старше 6 лет',\n",
       "       '«12+» - для детей старше 12 лет',\n",
       "       '«16+» - для детей старше 16 лет',\n",
       "       '«0+» - для любой зрительской аудитории'], dtype=object)"
      ]
     },
     "execution_count": 21,
     "metadata": {},
     "output_type": "execute_result"
    }
   ],
   "source": [
    "df['age_restriction'].unique()"
   ]
  },
  {
   "cell_type": "markdown",
   "metadata": {},
   "source": [
    "В столбце 'title' обнаружили множество данных с ненужными символами в конце строки, нужно проконсультироваться с отвественными за выгрузку, может быть связанно с человеским фактором, удалим ненужные символы применив метод str.strip()"
   ]
  },
  {
   "cell_type": "code",
   "execution_count": 22,
   "metadata": {},
   "outputs": [],
   "source": [
    "df['title'] = df['title'].str.strip('.' '_' '/' '!' ' ' ',' '#')"
   ]
  },
  {
   "cell_type": "markdown",
   "metadata": {
    "id": "XFSN5lrEgFyR"
   },
   "source": [
    "#### Шаг 2.5. Проверьте количественные значения\n",
    "\n",
    "- Проверьте, обнаружились ли в таких столбцах подозрительные данные. Как с такими данными лучше поступить?\n",
    "\n",
    "<div id=\"accordion\">\n",
    "    <div class=\"card\">\n",
    "        <div class=\"card-header\" id=\"headingThree\">\n",
    "            <button class=\"btn btn-link collapsed\" data-toggle=\"collapse\" data-target=\"#collapseHint_budget\" aria-expanded=\"false\" aria-controls=\"collapseHint_budget\">Подсказка</button>\n",
    "        </div>\n",
    "        <div id=\"collapseHint_budget\" class=\"collapse\" aria-labelledby=\"headingThree\" data-parent=\"#accordion\">\n",
    "            <div class=\"card-body\">\n",
    "Обратите внимание на описание столбца <code>budget</code>. Как этот столбец соотносится с двумя другими: <code>refundable_support</code> и <code>nonrefundable_support</code>?\n",
    "            </div>\n",
    "        </div>\n",
    "    </div>\n",
    "</div>"
   ]
  },
  {
   "cell_type": "markdown",
   "metadata": {},
   "source": [
    "Для удобства восприятия данных, данные в столбцах: 'budget', 'refundable_support', 'nonrefundable_support', 'box_office' пересчитаем в миллионы с точностью до трех знаков дробной части"
   ]
  },
  {
   "cell_type": "code",
   "execution_count": 23,
   "metadata": {
    "id": "YbzClBxagFyS",
    "scrolled": true
   },
   "outputs": [
    {
     "data": {
      "text/html": [
       "<div>\n",
       "<style scoped>\n",
       "    .dataframe tbody tr th:only-of-type {\n",
       "        vertical-align: middle;\n",
       "    }\n",
       "\n",
       "    .dataframe tbody tr th {\n",
       "        vertical-align: top;\n",
       "    }\n",
       "\n",
       "    .dataframe thead th {\n",
       "        text-align: right;\n",
       "    }\n",
       "</style>\n",
       "<table border=\"1\" class=\"dataframe\">\n",
       "  <thead>\n",
       "    <tr style=\"text-align: right;\">\n",
       "      <th></th>\n",
       "      <th>budget</th>\n",
       "      <th>refundable_support</th>\n",
       "      <th>nonrefundable_support</th>\n",
       "      <th>box_office</th>\n",
       "    </tr>\n",
       "  </thead>\n",
       "  <tbody>\n",
       "    <tr>\n",
       "      <th>7114</th>\n",
       "      <td>2305.074</td>\n",
       "      <td>180.0</td>\n",
       "      <td>90.000</td>\n",
       "      <td>333.597</td>\n",
       "    </tr>\n",
       "    <tr>\n",
       "      <th>5437</th>\n",
       "      <td>1032.906</td>\n",
       "      <td>110.0</td>\n",
       "      <td>190.000</td>\n",
       "      <td>511.776</td>\n",
       "    </tr>\n",
       "    <tr>\n",
       "      <th>7464</th>\n",
       "      <td>980.000</td>\n",
       "      <td>100.0</td>\n",
       "      <td>400.000</td>\n",
       "      <td>717.703</td>\n",
       "    </tr>\n",
       "    <tr>\n",
       "      <th>7474</th>\n",
       "      <td>944.000</td>\n",
       "      <td>100.0</td>\n",
       "      <td>400.000</td>\n",
       "      <td>0.000</td>\n",
       "    </tr>\n",
       "    <tr>\n",
       "      <th>7171</th>\n",
       "      <td>779.942</td>\n",
       "      <td>0.0</td>\n",
       "      <td>60.000</td>\n",
       "      <td>54.243</td>\n",
       "    </tr>\n",
       "    <tr>\n",
       "      <th>3351</th>\n",
       "      <td>684.201</td>\n",
       "      <td>150.0</td>\n",
       "      <td>300.000</td>\n",
       "      <td>364.285</td>\n",
       "    </tr>\n",
       "    <tr>\n",
       "      <th>2920</th>\n",
       "      <td>635.284</td>\n",
       "      <td>50.0</td>\n",
       "      <td>392.104</td>\n",
       "      <td>1402.255</td>\n",
       "    </tr>\n",
       "    <tr>\n",
       "      <th>5653</th>\n",
       "      <td>590.192</td>\n",
       "      <td>0.0</td>\n",
       "      <td>400.000</td>\n",
       "      <td>2779.686</td>\n",
       "    </tr>\n",
       "    <tr>\n",
       "      <th>6549</th>\n",
       "      <td>563.785</td>\n",
       "      <td>60.0</td>\n",
       "      <td>120.000</td>\n",
       "      <td>2271.754</td>\n",
       "    </tr>\n",
       "    <tr>\n",
       "      <th>3255</th>\n",
       "      <td>528.442</td>\n",
       "      <td>75.0</td>\n",
       "      <td>175.000</td>\n",
       "      <td>544.332</td>\n",
       "    </tr>\n",
       "  </tbody>\n",
       "</table>\n",
       "</div>"
      ],
      "text/plain": [
       "        budget  refundable_support  nonrefundable_support  box_office\n",
       "7114  2305.074               180.0                 90.000     333.597\n",
       "5437  1032.906               110.0                190.000     511.776\n",
       "7464   980.000               100.0                400.000     717.703\n",
       "7474   944.000               100.0                400.000       0.000\n",
       "7171   779.942                 0.0                 60.000      54.243\n",
       "3351   684.201               150.0                300.000     364.285\n",
       "2920   635.284                50.0                392.104    1402.255\n",
       "5653   590.192                 0.0                400.000    2779.686\n",
       "6549   563.785                60.0                120.000    2271.754\n",
       "3255   528.442                75.0                175.000     544.332"
      ]
     },
     "execution_count": 23,
     "metadata": {},
     "output_type": "execute_result"
    }
   ],
   "source": [
    "df['budget'] = round(df['budget']/1000000, 3)\n",
    "df['refundable_support'] = round(df['refundable_support']/1000000, 3)\n",
    "df['nonrefundable_support'] = round(df['nonrefundable_support']/1000000, 3)\n",
    "df['box_office'] = round(df['box_office']/1000000, 3)\n",
    "df[['budget', 'refundable_support', 'nonrefundable_support', 'box_office']].sort_values(by='budget', ascending=False).head(10)"
   ]
  },
  {
   "cell_type": "markdown",
   "metadata": {},
   "source": [
    "Датасет содержит 17 строк в которых бюджет меньше возвращаемой или не возвращаемой части финансирования, судя по документации к данным эти строки должны содержать данные в столбце 'budget', значений для заполнения у нас нет, следует задать вопрос ответсвенным за выгрузку данных"
   ]
  },
  {
   "cell_type": "code",
   "execution_count": 24,
   "metadata": {},
   "outputs": [
    {
     "data": {
      "text/html": [
       "<div>\n",
       "<style scoped>\n",
       "    .dataframe tbody tr th:only-of-type {\n",
       "        vertical-align: middle;\n",
       "    }\n",
       "\n",
       "    .dataframe tbody tr th {\n",
       "        vertical-align: top;\n",
       "    }\n",
       "\n",
       "    .dataframe thead th {\n",
       "        text-align: right;\n",
       "    }\n",
       "</style>\n",
       "<table border=\"1\" class=\"dataframe\">\n",
       "  <thead>\n",
       "    <tr style=\"text-align: right;\">\n",
       "      <th></th>\n",
       "      <th>title</th>\n",
       "      <th>pu_number</th>\n",
       "      <th>show_start_date</th>\n",
       "      <th>type</th>\n",
       "      <th>film_studio</th>\n",
       "      <th>production_country</th>\n",
       "      <th>director</th>\n",
       "      <th>producer</th>\n",
       "      <th>age_restriction</th>\n",
       "      <th>refundable_support</th>\n",
       "      <th>nonrefundable_support</th>\n",
       "      <th>budget</th>\n",
       "      <th>financing_source</th>\n",
       "      <th>ratings</th>\n",
       "      <th>genres</th>\n",
       "      <th>box_office</th>\n",
       "    </tr>\n",
       "  </thead>\n",
       "  <tbody>\n",
       "    <tr>\n",
       "      <th>2053</th>\n",
       "      <td>14+</td>\n",
       "      <td>111023614</td>\n",
       "      <td>2014-12-19 12:00:00+00:00</td>\n",
       "      <td>Художественный</td>\n",
       "      <td>ООО Киностудия  \"Сентябрь\"</td>\n",
       "      <td>Россия</td>\n",
       "      <td>А.Зайцев</td>\n",
       "      <td>О.Гранина, А.Зайцев</td>\n",
       "      <td>«16+» - для детей старше 16 лет</td>\n",
       "      <td>0.0</td>\n",
       "      <td>23.0</td>\n",
       "      <td>0.0</td>\n",
       "      <td>Министерство культуры, Фонд кино</td>\n",
       "      <td>6.6</td>\n",
       "      <td>мелодрама</td>\n",
       "      <td>10.234</td>\n",
       "    </tr>\n",
       "    <tr>\n",
       "      <th>2058</th>\n",
       "      <td>Дуxless 2</td>\n",
       "      <td>111000415</td>\n",
       "      <td>2015-01-26 12:00:00+00:00</td>\n",
       "      <td>Художественный</td>\n",
       "      <td>ООО \"Киностудия \"Слово\", ООО \"Арт Пикчерс Студия\"</td>\n",
       "      <td>Россия</td>\n",
       "      <td>Р.Прыгунов</td>\n",
       "      <td>П.Ануров, Ф.Бондарчук, Д.Рудовский</td>\n",
       "      <td>«16+» - для детей старше 16 лет</td>\n",
       "      <td>0.0</td>\n",
       "      <td>75.0</td>\n",
       "      <td>0.0</td>\n",
       "      <td>Фонд кино</td>\n",
       "      <td>6.6</td>\n",
       "      <td>драма</td>\n",
       "      <td>446.164</td>\n",
       "    </tr>\n",
       "    <tr>\n",
       "      <th>2472</th>\n",
       "      <td>Воин (2015)</td>\n",
       "      <td>111017315</td>\n",
       "      <td>2015-09-28 12:00:00+00:00</td>\n",
       "      <td>Художественный</td>\n",
       "      <td>ООО \"Форпост Продакшн\", ООО \"Арт Пикчерс Студия\"</td>\n",
       "      <td>Россия</td>\n",
       "      <td>А.Андрианов</td>\n",
       "      <td>ООО \"Арт Пикчерс Студия\"</td>\n",
       "      <td>«12+» - для детей старше 12 лет</td>\n",
       "      <td>10.0</td>\n",
       "      <td>70.0</td>\n",
       "      <td>0.0</td>\n",
       "      <td>Фонд кино</td>\n",
       "      <td>7.8</td>\n",
       "      <td>боевик,драма,криминал</td>\n",
       "      <td>196.572</td>\n",
       "    </tr>\n",
       "    <tr>\n",
       "      <th>2532</th>\n",
       "      <td>Бармен</td>\n",
       "      <td>111009615</td>\n",
       "      <td>2015-05-26 12:00:00+00:00</td>\n",
       "      <td>Художественный</td>\n",
       "      <td>АО \"ВайТ Медиа\", ООО \"Арт Пикчерс Студия\"</td>\n",
       "      <td>Россия</td>\n",
       "      <td>Д.Штурманова</td>\n",
       "      <td>Т.Вайнштейн</td>\n",
       "      <td>«16+» - для детей старше 16 лет</td>\n",
       "      <td>20.0</td>\n",
       "      <td>0.0</td>\n",
       "      <td>0.0</td>\n",
       "      <td>Фонд кино</td>\n",
       "      <td>6.2</td>\n",
       "      <td>комедия,фэнтези</td>\n",
       "      <td>67.419</td>\n",
       "    </tr>\n",
       "    <tr>\n",
       "      <th>2615</th>\n",
       "      <td>Савва. Сердце воина</td>\n",
       "      <td>114001715</td>\n",
       "      <td>2015-07-21 12:00:00+00:00</td>\n",
       "      <td>Анимационный</td>\n",
       "      <td>ООО \"Глюкоза Продакшн\", ООО \"Арт Пикчерс Студия\"</td>\n",
       "      <td>Россия</td>\n",
       "      <td>М.Фадеев</td>\n",
       "      <td>А.Чистяков</td>\n",
       "      <td>«6+» - для детей старше 6 лет</td>\n",
       "      <td>60.0</td>\n",
       "      <td>100.0</td>\n",
       "      <td>0.0</td>\n",
       "      <td>Фонд кино</td>\n",
       "      <td>4.6</td>\n",
       "      <td>мультфильм,приключения,фэнтези</td>\n",
       "      <td>184.488</td>\n",
       "    </tr>\n",
       "  </tbody>\n",
       "</table>\n",
       "</div>"
      ],
      "text/plain": [
       "                    title  pu_number           show_start_date  \\\n",
       "2053                  14+  111023614 2014-12-19 12:00:00+00:00   \n",
       "2058            Дуxless 2  111000415 2015-01-26 12:00:00+00:00   \n",
       "2472          Воин (2015)  111017315 2015-09-28 12:00:00+00:00   \n",
       "2532               Бармен  111009615 2015-05-26 12:00:00+00:00   \n",
       "2615  Савва. Сердце воина  114001715 2015-07-21 12:00:00+00:00   \n",
       "\n",
       "                type                                        film_studio  \\\n",
       "2053  Художественный                         ООО Киностудия  \"Сентябрь\"   \n",
       "2058  Художественный  ООО \"Киностудия \"Слово\", ООО \"Арт Пикчерс Студия\"   \n",
       "2472  Художественный   ООО \"Форпост Продакшн\", ООО \"Арт Пикчерс Студия\"   \n",
       "2532  Художественный          АО \"ВайТ Медиа\", ООО \"Арт Пикчерс Студия\"   \n",
       "2615    Анимационный   ООО \"Глюкоза Продакшн\", ООО \"Арт Пикчерс Студия\"   \n",
       "\n",
       "     production_country      director                            producer  \\\n",
       "2053             Россия      А.Зайцев                 О.Гранина, А.Зайцев   \n",
       "2058             Россия    Р.Прыгунов  П.Ануров, Ф.Бондарчук, Д.Рудовский   \n",
       "2472             Россия   А.Андрианов            ООО \"Арт Пикчерс Студия\"   \n",
       "2532             Россия  Д.Штурманова                         Т.Вайнштейн   \n",
       "2615             Россия      М.Фадеев                          А.Чистяков   \n",
       "\n",
       "                      age_restriction  refundable_support  \\\n",
       "2053  «16+» - для детей старше 16 лет                 0.0   \n",
       "2058  «16+» - для детей старше 16 лет                 0.0   \n",
       "2472  «12+» - для детей старше 12 лет                10.0   \n",
       "2532  «16+» - для детей старше 16 лет                20.0   \n",
       "2615    «6+» - для детей старше 6 лет                60.0   \n",
       "\n",
       "      nonrefundable_support  budget                  financing_source  \\\n",
       "2053                   23.0     0.0  Министерство культуры, Фонд кино   \n",
       "2058                   75.0     0.0                         Фонд кино   \n",
       "2472                   70.0     0.0                         Фонд кино   \n",
       "2532                    0.0     0.0                         Фонд кино   \n",
       "2615                  100.0     0.0                         Фонд кино   \n",
       "\n",
       "      ratings                          genres  box_office  \n",
       "2053      6.6                       мелодрама      10.234  \n",
       "2058      6.6                           драма     446.164  \n",
       "2472      7.8           боевик,драма,криминал     196.572  \n",
       "2532      6.2                 комедия,фэнтези      67.419  \n",
       "2615      4.6  мультфильм,приключения,фэнтези     184.488  "
      ]
     },
     "execution_count": 24,
     "metadata": {},
     "output_type": "execute_result"
    }
   ],
   "source": [
    "df.loc[df['budget'] < (df['refundable_support'] + df['nonrefundable_support'])].head()"
   ]
  },
  {
   "cell_type": "markdown",
   "metadata": {},
   "source": [
    "Заполним эти строки суммой поддержки умноженной на коэфициент которые отражает в среднем по датасету во сколько раз в среднем бюджет больше поддержки"
   ]
  },
  {
   "cell_type": "code",
   "execution_count": 25,
   "metadata": {},
   "outputs": [],
   "source": [
    "df.loc[df['budget'] < (df['refundable_support'] + df['nonrefundable_support']), ['budget']] = \\\n",
    "((df['refundable_support'] + df['nonrefundable_support']) * (df['budget'] \\\n",
    "/ (df['refundable_support'] + df['nonrefundable_support']))).mean()"
   ]
  },
  {
   "cell_type": "markdown",
   "metadata": {
    "id": "Eu6oWp2CgFyS"
   },
   "source": [
    "#### Шаг 2.6. Добавьте новые столбцы\n",
    "\n",
    "\n",
    "\n"
   ]
  },
  {
   "cell_type": "markdown",
   "metadata": {
    "id": "7GgW-UpAgFyS"
   },
   "source": [
    "- Создайте столбец с информацией о годе проката. Выделите год из даты премьеры фильма."
   ]
  },
  {
   "cell_type": "code",
   "execution_count": 26,
   "metadata": {
    "id": "I-yd1DkWgFyT"
   },
   "outputs": [
    {
     "data": {
      "text/plain": [
       "0    2015\n",
       "1    2016\n",
       "2    2016\n",
       "3    2016\n",
       "4    2015\n",
       "Name: year_start_date, dtype: int64"
      ]
     },
     "execution_count": 26,
     "metadata": {},
     "output_type": "execute_result"
    }
   ],
   "source": [
    "df['year_start_date'] = df['show_start_date'].dt.year\n",
    "df['year_start_date'].head()"
   ]
  },
  {
   "cell_type": "markdown",
   "metadata": {
    "id": "nFTDLDYOgFyT"
   },
   "source": [
    "- Создайте два столбца: с именем и фамилией главного режиссёра и основным жанром фильма. В столбцы войдут первые значения из списка режиссёров и жанров соответственно.\n",
    "\n",
    "<div id=\"accordion\">\n",
    "    <div class=\"card\">\n",
    "        <div class=\"card-header\" id=\"headingThree\">\n",
    "            <button class=\"btn btn-link collapsed\" data-toggle=\"collapse\" data-target=\"#collapseHint_2\" aria-expanded=\"false\" aria-controls=\"collapseHint_2\">Подсказка</button>\n",
    "        </div>\n",
    "        <div id=\"collapseHint_2\" class=\"collapse\" aria-labelledby=\"headingThree\" data-parent=\"#accordion\">\n",
    "            <div class=\"card-body\">\n",
    "Чтобы создать такие столбцы, лучше всего использовать собственную функцию. Эту функцию можно применить к двум столбцам сразу. \n",
    "            </div>\n",
    "        </div>\n",
    "    </div>\n",
    "</div>"
   ]
  },
  {
   "cell_type": "code",
   "execution_count": 27,
   "metadata": {
    "id": "LSbRZKbMgFyU"
   },
   "outputs": [
    {
     "data": {
      "text/html": [
       "<div>\n",
       "<style scoped>\n",
       "    .dataframe tbody tr th:only-of-type {\n",
       "        vertical-align: middle;\n",
       "    }\n",
       "\n",
       "    .dataframe tbody tr th {\n",
       "        vertical-align: top;\n",
       "    }\n",
       "\n",
       "    .dataframe thead th {\n",
       "        text-align: right;\n",
       "    }\n",
       "</style>\n",
       "<table border=\"1\" class=\"dataframe\">\n",
       "  <thead>\n",
       "    <tr style=\"text-align: right;\">\n",
       "      <th></th>\n",
       "      <th>director</th>\n",
       "      <th>genres</th>\n",
       "      <th>main_director</th>\n",
       "      <th>main_genres</th>\n",
       "    </tr>\n",
       "  </thead>\n",
       "  <tbody>\n",
       "    <tr>\n",
       "      <th>0</th>\n",
       "      <td>Кевин Костнер</td>\n",
       "      <td>боевик,драма,мелодрама</td>\n",
       "      <td>Кевин Костнер</td>\n",
       "      <td>боевик</td>\n",
       "    </tr>\n",
       "    <tr>\n",
       "      <th>1</th>\n",
       "      <td>Е.Матвеев</td>\n",
       "      <td>драма,военный</td>\n",
       "      <td>Е.Матвеев</td>\n",
       "      <td>драма</td>\n",
       "    </tr>\n",
       "    <tr>\n",
       "      <th>2</th>\n",
       "      <td>Тимур Бекмамбетов</td>\n",
       "      <td>фантастика,боевик,триллер</td>\n",
       "      <td>Тимур Бекмамбетов</td>\n",
       "      <td>фантастика</td>\n",
       "    </tr>\n",
       "    <tr>\n",
       "      <th>3</th>\n",
       "      <td>Тимур Бекмамбетов</td>\n",
       "      <td>фантастика,боевик,триллер</td>\n",
       "      <td>Тимур Бекмамбетов</td>\n",
       "      <td>фантастика</td>\n",
       "    </tr>\n",
       "    <tr>\n",
       "      <th>4</th>\n",
       "      <td>Тимур Бекмамбетов</td>\n",
       "      <td>фантастика,боевик,триллер</td>\n",
       "      <td>Тимур Бекмамбетов</td>\n",
       "      <td>фантастика</td>\n",
       "    </tr>\n",
       "  </tbody>\n",
       "</table>\n",
       "</div>"
      ],
      "text/plain": [
       "            director                     genres      main_director main_genres\n",
       "0      Кевин Костнер     боевик,драма,мелодрама      Кевин Костнер      боевик\n",
       "1          Е.Матвеев              драма,военный          Е.Матвеев       драма\n",
       "2  Тимур Бекмамбетов  фантастика,боевик,триллер  Тимур Бекмамбетов  фантастика\n",
       "3  Тимур Бекмамбетов  фантастика,боевик,триллер  Тимур Бекмамбетов  фантастика\n",
       "4  Тимур Бекмамбетов  фантастика,боевик,триллер  Тимур Бекмамбетов  фантастика"
      ]
     },
     "execution_count": 27,
     "metadata": {},
     "output_type": "execute_result"
    }
   ],
   "source": [
    "def string_separation (columns):\n",
    "    columns['director'] = str(columns['director']).split(',')[0]\n",
    "    columns['genres'] = str(columns['genres']).split(',')[0]\n",
    "    return columns  \n",
    "        \n",
    "df[['main_director', 'main_genres']] = df[['director', 'genres']].apply(string_separation, axis=1)\n",
    "df[['director', 'genres', 'main_director', 'main_genres']].head()           "
   ]
  },
  {
   "cell_type": "markdown",
   "metadata": {
    "id": "1FsCXHwdgFyU"
   },
   "source": [
    "- Посчитайте, какую долю от общего бюджета фильма составляет государственная поддержка."
   ]
  },
  {
   "cell_type": "code",
   "execution_count": 28,
   "metadata": {
    "id": "LV6qFuZLgFyV"
   },
   "outputs": [
    {
     "data": {
      "text/html": [
       "<div>\n",
       "<style scoped>\n",
       "    .dataframe tbody tr th:only-of-type {\n",
       "        vertical-align: middle;\n",
       "    }\n",
       "\n",
       "    .dataframe tbody tr th {\n",
       "        vertical-align: top;\n",
       "    }\n",
       "\n",
       "    .dataframe thead th {\n",
       "        text-align: right;\n",
       "    }\n",
       "</style>\n",
       "<table border=\"1\" class=\"dataframe\">\n",
       "  <thead>\n",
       "    <tr style=\"text-align: right;\">\n",
       "      <th></th>\n",
       "      <th>title</th>\n",
       "      <th>pu_number</th>\n",
       "      <th>show_start_date</th>\n",
       "      <th>type</th>\n",
       "      <th>film_studio</th>\n",
       "      <th>production_country</th>\n",
       "      <th>director</th>\n",
       "      <th>producer</th>\n",
       "      <th>age_restriction</th>\n",
       "      <th>refundable_support</th>\n",
       "      <th>nonrefundable_support</th>\n",
       "      <th>budget</th>\n",
       "      <th>financing_source</th>\n",
       "      <th>ratings</th>\n",
       "      <th>genres</th>\n",
       "      <th>box_office</th>\n",
       "      <th>year_start_date</th>\n",
       "      <th>main_director</th>\n",
       "      <th>main_genres</th>\n",
       "      <th>share_government_support</th>\n",
       "    </tr>\n",
       "  </thead>\n",
       "  <tbody>\n",
       "    <tr>\n",
       "      <th>1281</th>\n",
       "      <td>Пока еще жива</td>\n",
       "      <td>111005313</td>\n",
       "      <td>2013-10-11 12:00:00+00:00</td>\n",
       "      <td>Художественный</td>\n",
       "      <td>АНО содействия развитию кинематографии \"Ангел-...</td>\n",
       "      <td>Россия</td>\n",
       "      <td>А.Атанесян</td>\n",
       "      <td>А.Атанесян, М.Бабаханов, Р.Бутко</td>\n",
       "      <td>«16+» - для детей старше 16 лет</td>\n",
       "      <td>0.0</td>\n",
       "      <td>26.500</td>\n",
       "      <td>79.412</td>\n",
       "      <td>Министерство культуры</td>\n",
       "      <td>8.1</td>\n",
       "      <td>драма,мелодрама</td>\n",
       "      <td>0.365</td>\n",
       "      <td>2013</td>\n",
       "      <td>А.Атанесян</td>\n",
       "      <td>драма</td>\n",
       "      <td>0.33</td>\n",
       "    </tr>\n",
       "    <tr>\n",
       "      <th>1448</th>\n",
       "      <td>Бесславные придурки</td>\n",
       "      <td>111003314</td>\n",
       "      <td>2014-03-28 12:00:00+00:00</td>\n",
       "      <td>Художественный</td>\n",
       "      <td>ООО \"Компания \"АТК-Студио\"</td>\n",
       "      <td>Россия</td>\n",
       "      <td>А.Якимчук</td>\n",
       "      <td>А.Тютрюмов</td>\n",
       "      <td>«12+» - для детей старше 12 лет</td>\n",
       "      <td>0.0</td>\n",
       "      <td>26.000</td>\n",
       "      <td>37.143</td>\n",
       "      <td>Министерство культуры</td>\n",
       "      <td>NaN</td>\n",
       "      <td>NaN</td>\n",
       "      <td>0.028</td>\n",
       "      <td>2014</td>\n",
       "      <td>А.Якимчук</td>\n",
       "      <td>nan</td>\n",
       "      <td>0.70</td>\n",
       "    </tr>\n",
       "    <tr>\n",
       "      <th>1498</th>\n",
       "      <td>Невидимки</td>\n",
       "      <td>111004213</td>\n",
       "      <td>2013-09-10 12:00:00+00:00</td>\n",
       "      <td>Художественный</td>\n",
       "      <td>ООО \"Компания \"РЕАЛ-ДАКОТА\"</td>\n",
       "      <td>Россия</td>\n",
       "      <td>Р.Давлетьяров, С.Комаров</td>\n",
       "      <td>Р.Давлетьяров, А.Котелевский, А.Олейников</td>\n",
       "      <td>«12+» - для детей старше 12 лет</td>\n",
       "      <td>0.0</td>\n",
       "      <td>107.848</td>\n",
       "      <td>176.023</td>\n",
       "      <td>Фонд кино</td>\n",
       "      <td>5.3</td>\n",
       "      <td>комедия,фантастика</td>\n",
       "      <td>19.957</td>\n",
       "      <td>2013</td>\n",
       "      <td>Р.Давлетьяров</td>\n",
       "      <td>комедия</td>\n",
       "      <td>0.61</td>\n",
       "    </tr>\n",
       "    <tr>\n",
       "      <th>1524</th>\n",
       "      <td>БЕРЦЫ</td>\n",
       "      <td>111004314</td>\n",
       "      <td>2014-05-05 12:00:00+00:00</td>\n",
       "      <td>Художественный</td>\n",
       "      <td>ООО \"Студия \"Пассажир\"</td>\n",
       "      <td>Россия</td>\n",
       "      <td>Е.Миндадзе (псевдоним Катя Шагалова)</td>\n",
       "      <td>Л.Антонова</td>\n",
       "      <td>«16+» - для детей старше 16 лет</td>\n",
       "      <td>0.0</td>\n",
       "      <td>28.000</td>\n",
       "      <td>40.574</td>\n",
       "      <td>Министерство культуры</td>\n",
       "      <td>4.2</td>\n",
       "      <td>драма</td>\n",
       "      <td>0.056</td>\n",
       "      <td>2014</td>\n",
       "      <td>Е.Миндадзе (псевдоним Катя Шагалова)</td>\n",
       "      <td>драма</td>\n",
       "      <td>0.69</td>\n",
       "    </tr>\n",
       "    <tr>\n",
       "      <th>1792</th>\n",
       "      <td>Братья Ч</td>\n",
       "      <td>111004414</td>\n",
       "      <td>2014-04-23 12:00:00+00:00</td>\n",
       "      <td>Художественный</td>\n",
       "      <td>ООО \"Студия \"Пассажир\"</td>\n",
       "      <td>Россия</td>\n",
       "      <td>М.Угаров</td>\n",
       "      <td>А.Миндадзе, Л.Антонова</td>\n",
       "      <td>«16+» - для детей старше 16 лет</td>\n",
       "      <td>0.0</td>\n",
       "      <td>25.000</td>\n",
       "      <td>40.015</td>\n",
       "      <td>Министерство культуры</td>\n",
       "      <td>6.4</td>\n",
       "      <td>драма</td>\n",
       "      <td>0.232</td>\n",
       "      <td>2014</td>\n",
       "      <td>М.Угаров</td>\n",
       "      <td>драма</td>\n",
       "      <td>0.62</td>\n",
       "    </tr>\n",
       "  </tbody>\n",
       "</table>\n",
       "</div>"
      ],
      "text/plain": [
       "                    title  pu_number           show_start_date  \\\n",
       "1281        Пока еще жива  111005313 2013-10-11 12:00:00+00:00   \n",
       "1448  Бесславные придурки  111003314 2014-03-28 12:00:00+00:00   \n",
       "1498            Невидимки  111004213 2013-09-10 12:00:00+00:00   \n",
       "1524                БЕРЦЫ  111004314 2014-05-05 12:00:00+00:00   \n",
       "1792             Братья Ч  111004414 2014-04-23 12:00:00+00:00   \n",
       "\n",
       "                type                                        film_studio  \\\n",
       "1281  Художественный  АНО содействия развитию кинематографии \"Ангел-...   \n",
       "1448  Художественный                         ООО \"Компания \"АТК-Студио\"   \n",
       "1498  Художественный                        ООО \"Компания \"РЕАЛ-ДАКОТА\"   \n",
       "1524  Художественный                             ООО \"Студия \"Пассажир\"   \n",
       "1792  Художественный                             ООО \"Студия \"Пассажир\"   \n",
       "\n",
       "     production_country                              director  \\\n",
       "1281             Россия                            А.Атанесян   \n",
       "1448             Россия                             А.Якимчук   \n",
       "1498             Россия              Р.Давлетьяров, С.Комаров   \n",
       "1524             Россия  Е.Миндадзе (псевдоним Катя Шагалова)   \n",
       "1792             Россия                              М.Угаров   \n",
       "\n",
       "                                       producer  \\\n",
       "1281           А.Атанесян, М.Бабаханов, Р.Бутко   \n",
       "1448                                 А.Тютрюмов   \n",
       "1498  Р.Давлетьяров, А.Котелевский, А.Олейников   \n",
       "1524                                 Л.Антонова   \n",
       "1792                     А.Миндадзе, Л.Антонова   \n",
       "\n",
       "                      age_restriction  refundable_support  \\\n",
       "1281  «16+» - для детей старше 16 лет                 0.0   \n",
       "1448  «12+» - для детей старше 12 лет                 0.0   \n",
       "1498  «12+» - для детей старше 12 лет                 0.0   \n",
       "1524  «16+» - для детей старше 16 лет                 0.0   \n",
       "1792  «16+» - для детей старше 16 лет                 0.0   \n",
       "\n",
       "      nonrefundable_support   budget       financing_source  ratings  \\\n",
       "1281                 26.500   79.412  Министерство культуры      8.1   \n",
       "1448                 26.000   37.143  Министерство культуры      NaN   \n",
       "1498                107.848  176.023              Фонд кино      5.3   \n",
       "1524                 28.000   40.574  Министерство культуры      4.2   \n",
       "1792                 25.000   40.015  Министерство культуры      6.4   \n",
       "\n",
       "                  genres  box_office  year_start_date  \\\n",
       "1281     драма,мелодрама       0.365             2013   \n",
       "1448                 NaN       0.028             2014   \n",
       "1498  комедия,фантастика      19.957             2013   \n",
       "1524               драма       0.056             2014   \n",
       "1792               драма       0.232             2014   \n",
       "\n",
       "                             main_director main_genres  \\\n",
       "1281                            А.Атанесян       драма   \n",
       "1448                             А.Якимчук         nan   \n",
       "1498                         Р.Давлетьяров     комедия   \n",
       "1524  Е.Миндадзе (псевдоним Катя Шагалова)       драма   \n",
       "1792                              М.Угаров       драма   \n",
       "\n",
       "      share_government_support  \n",
       "1281                      0.33  \n",
       "1448                      0.70  \n",
       "1498                      0.61  \n",
       "1524                      0.69  \n",
       "1792                      0.62  "
      ]
     },
     "execution_count": 28,
     "metadata": {},
     "output_type": "execute_result"
    }
   ],
   "source": [
    "df.loc[((df['budget'] > 0) & ((df['refundable_support'] > 0 ) | (df['nonrefundable_support'] > 0))), 'share_government_support']\\\n",
    "= round((df['refundable_support'] + df['nonrefundable_support']) / df['budget'], 2)\n",
    "\n",
    "df.loc[((df['budget'] > 0) & ((df['refundable_support'] > 0 ) | (df['nonrefundable_support'] > 0)))].head()"
   ]
  },
  {
   "cell_type": "markdown",
   "metadata": {},
   "source": [
    "### Вывод 2\n",
    "На втором шаге мы занимались предобработкой данных, исследовали наш датасет на явные и не явные дубликаты, добавляли расчетные колонки, изменяли типы данных, работали с пропусками в данных. "
   ]
  },
  {
   "cell_type": "markdown",
   "metadata": {
    "id": "6t4EukPLgFyV"
   },
   "source": [
    "### Шаг 3. Проведите исследовательский анализ данных\n"
   ]
  },
  {
   "cell_type": "markdown",
   "metadata": {
    "id": "vAH8WCzugFyV"
   },
   "source": [
    "- Посмотрите, сколько фильмов выходило в прокат каждый год. Обратите внимание, что данные о прокате в кинотеатрах известны не для всех фильмов. Посчитайте, какую долю составляют фильмы с указанной информацией о прокате в кинотеатрах."
   ]
  },
  {
   "cell_type": "code",
   "execution_count": 29,
   "metadata": {},
   "outputs": [
    {
     "data": {
      "image/png": "[encoded data removed]",
      "text/plain": [
       "<Figure size 720x432 with 1 Axes>"
      ]
     },
     "metadata": {
      "needs_background": "light"
     },
     "output_type": "display_data"
    }
   ],
   "source": [
    "all_films_by_year = (df[['title', 'year_start_date', 'box_office', 'pu_number']]\n",
    "                     .drop_duplicates(subset=['title', 'year_start_date'])\n",
    "                     .groupby('year_start_date')['title']\n",
    "                     .agg('count'))\n",
    "\n",
    "all_films_by_year = (pd.DataFrame(all_films_by_year)\n",
    "                     .reset_index()\n",
    "                     .rename(columns={'year_start_date': 'year', 'title': 'qty'}))\n",
    "                    \n",
    "    \n",
    "list_pu = shows['pu_number']\n",
    "\n",
    "rental_in_movie_theaters_by_year = df.query('pu_number in @list_pu')\n",
    "rental_in_movie_theaters_by_year = (rental_in_movie_theaters_by_year[['title', 'year_start_date', 'box_office', 'pu_number']]\n",
    "                     .drop_duplicates(subset=['title', 'year_start_date'])\n",
    "                     .groupby('year_start_date')['title']\n",
    "                     .agg('count'))\n",
    "\n",
    "rental_in_movie_theaters_by_year = (pd.DataFrame(rental_in_movie_theaters_by_year)\n",
    "                     .reset_index()\n",
    "                     .rename(columns={'year_start_date': 'year', 'title': 'qty'}))\n",
    "\n",
    "data = rental_in_movie_theaters_by_year\n",
    "names = list(rental_in_movie_theaters_by_year['year'])\n",
    "values1 = list(rental_in_movie_theaters_by_year['qty'])\n",
    "values2 = list(all_films_by_year['qty'])\n",
    "\n",
    "fig, ax = plt.subplots(1, figsize=(10, 6), sharey=True)\n",
    "\n",
    "for i in range(len(names)):\n",
    "    ax.text(names[i]-0.2, values1[i]+ (values2[i] - values1[i])/2, values2[i] - values1[i], fontsize=12)\n",
    "    ax.text(names[i]-0.2, values1[i]/2, values1[i], fontsize=12)\n",
    "    \n",
    "ax.set_ylabel('Количество')\n",
    "ax.set_xlabel('Год')\n",
    "\n",
    "ax.bar(names, values2)\n",
    "ax.bar(names, values1, label='Показы в кинотеатрах')\n",
    "\n",
    "ax.legend()\n",
    "\n",
    "fig.suptitle('Показы фильмов 2010 - 2019 гг.');"
   ]
  },
  {
   "cell_type": "markdown",
   "metadata": {},
   "source": [
    "Посмотрите, сколько фильмов выходило в прокат каждый год.\n",
    "\n",
    "\n",
    "В 2010 году в прокат вышло всего 102 фильма. С 2011 по 2016 год количество фильмов вышедших в прокат увеличилось в пять раз до 522 фильмов в 2016 году, в 2017 году заметно снижение количества фильмов в прокате а так же уменьшение общего количества фильмов вышедших в этом году, за период 2018 - 2019 гг. доля фильмов в прокате вернулась к уровню 2016 года, но общее количество фильмов вышедших в 2019 году возросло и составило 925 фильмов.  "
   ]
  },
  {
   "cell_type": "code",
   "execution_count": 31,
   "metadata": {},
   "outputs": [
    {
     "data": {
      "image/png": "[encoded data removed]",
      "text/plain": [
       "<Figure size 720x432 with 1 Axes>"
      ]
     },
     "metadata": {
      "needs_background": "light"
     },
     "output_type": "display_data"
    }
   ],
   "source": [
    "share_films_in_movie_theaters = all_films_by_year.merge(rental_in_movie_theaters_by_year, on='year')\n",
    "share_films_in_movie_theaters['share'] = round(share_films_in_movie_theaters['qty_y'] \n",
    "                                               / share_films_in_movie_theaters['qty_x'], 2)\n",
    "\n",
    "data = share_films_in_movie_theaters\n",
    "names = list(share_films_in_movie_theaters['year'])\n",
    "values = list(share_films_in_movie_theaters['share'])\n",
    "\n",
    "fig, ax = plt.subplots(1, figsize=(10, 6), sharey=True)\n",
    "\n",
    "for i in range(len(names)): \n",
    "    ax.text(names[i]-0.2, values[i]+0.01, values[i], fontsize=12)\n",
    "    \n",
    "ax.set_ylabel('Доля')\n",
    "ax.set_xlabel('Год')\n",
    "\n",
    "ax.bar(names, values, label='Доля фильмов показанных в кинотеатрах')\n",
    "ax.legend()\n",
    "\n",
    "fig.suptitle('Доля фильмов с указанной информацией о прокате в кинотеатрах 2010 - 2019 гг.');"
   ]
  },
  {
   "cell_type": "markdown",
   "metadata": {},
   "source": [
    "Доля фильмов с указанной информацией о прокате в кинотеатрах неуклонно растет, начиная с 2010 года она составляла всего 13 %, в период с 2010 - 2014 наблюдается стабильный равномерный рост до 37 процентов, 2015 - 2017 гг. она уже составляет около 70 %, затем в 2018 - 2019 годах доля уменьшилась до 54 и 57 процентов соответственно."
   ]
  },
  {
   "cell_type": "code",
   "execution_count": 32,
   "metadata": {},
   "outputs": [
    {
     "name": "stdout",
     "output_type": "stream",
     "text": [
      "Cумма сборов была минимальной в 2010 году\n",
      "Cумма сборов была максимальной в 2018 году\n"
     ]
    },
    {
     "data": {
      "text/plain": [
       "Text(0.5, 0.98, 'Кассовые сборы')"
      ]
     },
     "execution_count": 32,
     "metadata": {},
     "output_type": "execute_result"
    },
    {
     "data": {
      "image/png": "[encoded data removed]",
      "text/plain": [
       "<Figure size 720x360 with 1 Axes>"
      ]
     },
     "metadata": {
      "needs_background": "light"
     },
     "output_type": "display_data"
    }
   ],
   "source": [
    "rental_dynamics_by_years = df.query('box_office > 0')\n",
    "rental_dynamics_by_years = (rental_dynamics_by_years[['title', 'year_start_date', 'box_office', 'pu_number']]\n",
    "                     .groupby('year_start_date')['box_office']\n",
    "                     .agg(['sum', 'count', 'mean', 'median']))\n",
    "\n",
    "\n",
    "rental_dynamics_by_years = (pd.DataFrame(rental_dynamics_by_years)\n",
    "                     .reset_index()\n",
    "                     .rename(columns={'year_start_date': 'year', 'title': 'qty'}))\n",
    "\n",
    "rental_dynamics_by_years[['sum', 'mean', 'median']] = round(rental_dynamics_by_years[['sum', 'mean', 'median']], 4)\n",
    "\n",
    "\n",
    "year_min_box_office = rental_dynamics_by_years.sort_values(by='sum')['year'][0]\n",
    "year_max_box_office = (rental_dynamics_by_years.sort_values(by='sum', ascending=False).reset_index(drop=True))['year'][0]\n",
    "\n",
    "\n",
    "print(f'Cумма сборов была минимальной в {year_min_box_office} году')\n",
    "print(f'Cумма сборов была максимальной в {year_max_box_office} году')  \n",
    "\n",
    "\n",
    "data = rental_dynamics_by_years\n",
    "names = list(rental_dynamics_by_years['year'])\n",
    "values = list(rental_dynamics_by_years['sum'])\n",
    "\n",
    "fig, ax = plt.subplots(1, figsize=(10, 5), sharey=True)\n",
    "\n",
    "for i in range(len(names)): \n",
    "    ax.text(names[i]-0.45, values[i]+400, round(values[i],1), fontsize=12)\n",
    "    \n",
    "ax.set_ylabel('Млн. руб.')\n",
    "ax.set_xlabel('Год')\n",
    "\n",
    "\n",
    "ax.bar(names, values, label='Доля фильмов показанных в кинотеатрах')\n",
    "ax.legend()\n",
    "\n",
    "fig.suptitle('Кассовые сборы')"
   ]
  },
  {
   "cell_type": "markdown",
   "metadata": {
    "id": "BEOdcIrIgFyW"
   },
   "source": [
    "- Изучите, как менялась динамика проката по годам. В каком году сумма сборов была минимальной? А максимальной?"
   ]
  },
  {
   "cell_type": "markdown",
   "metadata": {
    "id": "tfEhofYvgFyX"
   },
   "source": [
    "Сумма сборов была минимальной в 2010 году. Судя по графику кассовых сборов, у нас имеется недостаток данных по кассовым сборам за период 2010 - 2014 гг., если отбросить эти не полноценные данные то минимальная сумма сборов была в 2015 году - медианное значение почти 4  млрд руб., а в 2016 году сумма приблизилась к 5 млрд. руб. а именно 4.786 млрд, 2017 - 2018 наблюдается рост сборов 4.856 и 4.966 соответственно, в 2019 году сумма кассовых сборов уменьшилась до 4.842 млрд. руб. В 2018 году сумма кассовых сборов была максимальной."
   ]
  },
  {
   "cell_type": "markdown",
   "metadata": {
    "id": "G-7qS-N-gFyY"
   },
   "source": [
    "- С помощью сводной таблицы посчитайте среднюю и медианную сумму сборов для каждого года."
   ]
  },
  {
   "cell_type": "code",
   "execution_count": 33,
   "metadata": {
    "id": "jmp-rgg9gFyY"
   },
   "outputs": [
    {
     "data": {
      "text/html": [
       "<div>\n",
       "<style scoped>\n",
       "    .dataframe tbody tr th:only-of-type {\n",
       "        vertical-align: middle;\n",
       "    }\n",
       "\n",
       "    .dataframe tbody tr th {\n",
       "        vertical-align: top;\n",
       "    }\n",
       "\n",
       "    .dataframe thead th {\n",
       "        text-align: right;\n",
       "    }\n",
       "</style>\n",
       "<table border=\"1\" class=\"dataframe\">\n",
       "  <thead>\n",
       "    <tr style=\"text-align: right;\">\n",
       "      <th></th>\n",
       "      <th>year</th>\n",
       "      <th>sum</th>\n",
       "      <th>count</th>\n",
       "      <th>mean</th>\n",
       "      <th>median</th>\n",
       "    </tr>\n",
       "  </thead>\n",
       "  <tbody>\n",
       "    <tr>\n",
       "      <th>0</th>\n",
       "      <td>2010</td>\n",
       "      <td>2.431</td>\n",
       "      <td>74</td>\n",
       "      <td>0.0329</td>\n",
       "      <td>0.0035</td>\n",
       "    </tr>\n",
       "    <tr>\n",
       "      <th>1</th>\n",
       "      <td>2011</td>\n",
       "      <td>14.097</td>\n",
       "      <td>87</td>\n",
       "      <td>0.1620</td>\n",
       "      <td>0.0050</td>\n",
       "    </tr>\n",
       "    <tr>\n",
       "      <th>2</th>\n",
       "      <td>2012</td>\n",
       "      <td>6.949</td>\n",
       "      <td>103</td>\n",
       "      <td>0.0675</td>\n",
       "      <td>0.0100</td>\n",
       "    </tr>\n",
       "    <tr>\n",
       "      <th>3</th>\n",
       "      <td>2013</td>\n",
       "      <td>29.802</td>\n",
       "      <td>154</td>\n",
       "      <td>0.1935</td>\n",
       "      <td>0.0050</td>\n",
       "    </tr>\n",
       "    <tr>\n",
       "      <th>4</th>\n",
       "      <td>2014</td>\n",
       "      <td>7444.948</td>\n",
       "      <td>244</td>\n",
       "      <td>30.5121</td>\n",
       "      <td>0.0690</td>\n",
       "    </tr>\n",
       "    <tr>\n",
       "      <th>5</th>\n",
       "      <td>2015</td>\n",
       "      <td>39497.369</td>\n",
       "      <td>458</td>\n",
       "      <td>86.2388</td>\n",
       "      <td>5.2000</td>\n",
       "    </tr>\n",
       "    <tr>\n",
       "      <th>6</th>\n",
       "      <td>2016</td>\n",
       "      <td>47866.298</td>\n",
       "      <td>519</td>\n",
       "      <td>92.2279</td>\n",
       "      <td>4.0350</td>\n",
       "    </tr>\n",
       "    <tr>\n",
       "      <th>7</th>\n",
       "      <td>2017</td>\n",
       "      <td>48563.701</td>\n",
       "      <td>357</td>\n",
       "      <td>136.0328</td>\n",
       "      <td>9.9680</td>\n",
       "    </tr>\n",
       "    <tr>\n",
       "      <th>8</th>\n",
       "      <td>2018</td>\n",
       "      <td>49668.403</td>\n",
       "      <td>475</td>\n",
       "      <td>104.5651</td>\n",
       "      <td>8.8910</td>\n",
       "    </tr>\n",
       "    <tr>\n",
       "      <th>9</th>\n",
       "      <td>2019</td>\n",
       "      <td>48425.704</td>\n",
       "      <td>530</td>\n",
       "      <td>91.3693</td>\n",
       "      <td>4.6280</td>\n",
       "    </tr>\n",
       "  </tbody>\n",
       "</table>\n",
       "</div>"
      ],
      "text/plain": [
       "   year        sum  count      mean  median\n",
       "0  2010      2.431     74    0.0329  0.0035\n",
       "1  2011     14.097     87    0.1620  0.0050\n",
       "2  2012      6.949    103    0.0675  0.0100\n",
       "3  2013     29.802    154    0.1935  0.0050\n",
       "4  2014   7444.948    244   30.5121  0.0690\n",
       "5  2015  39497.369    458   86.2388  5.2000\n",
       "6  2016  47866.298    519   92.2279  4.0350\n",
       "7  2017  48563.701    357  136.0328  9.9680\n",
       "8  2018  49668.403    475  104.5651  8.8910\n",
       "9  2019  48425.704    530   91.3693  4.6280"
      ]
     },
     "metadata": {},
     "output_type": "display_data"
    },
    {
     "data": {
      "text/plain": [
       "1101"
      ]
     },
     "metadata": {},
     "output_type": "display_data"
    }
   ],
   "source": [
    "display(rental_dynamics_by_years)\n",
    "display(len(df.query('0 < box_office < 1')))"
   ]
  },
  {
   "cell_type": "markdown",
   "metadata": {},
   "source": [
    "Медианные и средние значения кассовых сборов в разрезе годов сильно различаются, это связанно с тем что данные по кассовым сборам содержат очень много околонулевых и минимальных значений - треть значений о кассовых сборах меньше 1 миллиона рублей, с чем именно это связанно: с ошибками в данных или низких кассовых сборах точно не известно. Медианные и средние значения в целом следуют за динамикой полного годового финансирования."
   ]
  },
  {
   "cell_type": "markdown",
   "metadata": {
    "id": "Ok89WFwJgFyZ"
   },
   "source": [
    "- Определите, влияет ли возрастное ограничение аудитории («6+», «12+», «16+», «18+» и т. д.) на сборы фильма в прокате в период с 2015 по 2019 год? Фильмы с каким возрастным ограничением собрали больше всего денег в прокате? Меняется ли картина в зависимости от года? Если да, предположите, с чем это может быть связано."
   ]
  },
  {
   "cell_type": "code",
   "execution_count": 34,
   "metadata": {
    "id": "jsSbEqfjgFya"
   },
   "outputs": [
    {
     "data": {
      "text/html": [
       "<div>\n",
       "<style scoped>\n",
       "    .dataframe tbody tr th:only-of-type {\n",
       "        vertical-align: middle;\n",
       "    }\n",
       "\n",
       "    .dataframe tbody tr th {\n",
       "        vertical-align: top;\n",
       "    }\n",
       "\n",
       "    .dataframe thead th {\n",
       "        text-align: right;\n",
       "    }\n",
       "</style>\n",
       "<table border=\"1\" class=\"dataframe\">\n",
       "  <thead>\n",
       "    <tr style=\"text-align: right;\">\n",
       "      <th></th>\n",
       "      <th>year</th>\n",
       "      <th>«18+» - запрещено для детей</th>\n",
       "      <th>«6+» - для детей старше 6 лет</th>\n",
       "      <th>«12+» - для детей старше 12 лет</th>\n",
       "      <th>«16+» - для детей старше 16 лет</th>\n",
       "      <th>«0+» - для любой зрительской аудитории</th>\n",
       "    </tr>\n",
       "  </thead>\n",
       "  <tbody>\n",
       "    <tr>\n",
       "      <th>0</th>\n",
       "      <td>2015</td>\n",
       "      <td>5432.311</td>\n",
       "      <td>8701.802</td>\n",
       "      <td>13616.087</td>\n",
       "      <td>11368.117</td>\n",
       "      <td>379.052</td>\n",
       "    </tr>\n",
       "    <tr>\n",
       "      <th>1</th>\n",
       "      <td>2016</td>\n",
       "      <td>6793.930</td>\n",
       "      <td>12053.146</td>\n",
       "      <td>12204.447</td>\n",
       "      <td>16664.549</td>\n",
       "      <td>150.226</td>\n",
       "    </tr>\n",
       "    <tr>\n",
       "      <th>2</th>\n",
       "      <td>2017</td>\n",
       "      <td>9651.488</td>\n",
       "      <td>12086.143</td>\n",
       "      <td>7851.428</td>\n",
       "      <td>18745.043</td>\n",
       "      <td>229.599</td>\n",
       "    </tr>\n",
       "    <tr>\n",
       "      <th>3</th>\n",
       "      <td>2018</td>\n",
       "      <td>8760.086</td>\n",
       "      <td>10104.975</td>\n",
       "      <td>14267.290</td>\n",
       "      <td>16503.603</td>\n",
       "      <td>32.449</td>\n",
       "    </tr>\n",
       "    <tr>\n",
       "      <th>4</th>\n",
       "      <td>2019</td>\n",
       "      <td>10121.797</td>\n",
       "      <td>12852.546</td>\n",
       "      <td>12680.198</td>\n",
       "      <td>12753.417</td>\n",
       "      <td>17.746</td>\n",
       "    </tr>\n",
       "  </tbody>\n",
       "</table>\n",
       "</div>"
      ],
      "text/plain": [
       "   year  «18+» - запрещено для детей  «6+» - для детей старше 6 лет  \\\n",
       "0  2015                     5432.311                       8701.802   \n",
       "1  2016                     6793.930                      12053.146   \n",
       "2  2017                     9651.488                      12086.143   \n",
       "3  2018                     8760.086                      10104.975   \n",
       "4  2019                    10121.797                      12852.546   \n",
       "\n",
       "   «12+» - для детей старше 12 лет  «16+» - для детей старше 16 лет  \\\n",
       "0                        13616.087                        11368.117   \n",
       "1                        12204.447                        16664.549   \n",
       "2                         7851.428                        18745.043   \n",
       "3                        14267.290                        16503.603   \n",
       "4                        12680.198                        12753.417   \n",
       "\n",
       "   «0+» - для любой зрительской аудитории  \n",
       "0                                 379.052  \n",
       "1                                 150.226  \n",
       "2                                 229.599  \n",
       "3                                  32.449  \n",
       "4                                  17.746  "
      ]
     },
     "metadata": {},
     "output_type": "display_data"
    },
    {
     "data": {
      "image/png": "[encoded data removed]",
      "text/plain": [
       "<Figure size 720x432 with 1 Axes>"
      ]
     },
     "metadata": {
      "needs_background": "light"
     },
     "output_type": "display_data"
    }
   ],
   "source": [
    "restriction_list = ['«18+» - запрещено для детей', '«6+» - для детей старше 6 лет',\n",
    "       '«12+» - для детей старше 12 лет',\n",
    "       '«16+» - для детей старше 16 лет',\n",
    "       '«0+» - для любой зрительской аудитории']\n",
    "age_list = {'year': [2015, 2016, 2017, 2018, 2019]}\n",
    "\n",
    "def age_restriction (restriction_list, age_list):\n",
    "    \n",
    "    table = pd.DataFrame(age_list)\n",
    "    \n",
    "    for restriction in restriction_list:\n",
    "        rental_dynamics_by_years = df.query('(box_office != 0) and (age_restriction == @restriction) and (2015 <= year_start_date <= 2019)')\n",
    "        rental_dynamics_by_years = (rental_dynamics_by_years[['year_start_date', 'box_office']]\n",
    "                     .groupby('year_start_date')['box_office']\n",
    "                     .agg('sum'))\n",
    "\n",
    "        rental_dynamics_by_years = (pd.DataFrame(rental_dynamics_by_years)\n",
    "                     .reset_index()\n",
    "                     .rename(columns={'year_start_date': 'year', 'box_office': restriction}))\n",
    "        \n",
    "        table = table.merge(rental_dynamics_by_years, on='year')\n",
    "        \n",
    "        \n",
    "    table['year']  = table['year'].astype('int') \n",
    "    table.reset_index(drop=True)      \n",
    "    return table\n",
    "\n",
    "t = age_restriction (restriction_list, age_list)\n",
    "\n",
    "display(t)\n",
    "\n",
    "data = t\n",
    "names = t['year']\n",
    "\n",
    "values0 = t['«18+» - запрещено для детей']\n",
    "values1 = t['«6+» - для детей старше 6 лет']\n",
    "values2 = t['«12+» - для детей старше 12 лет']\n",
    "values3 = t['«16+» - для детей старше 16 лет']\n",
    "values4 = t['«0+» - для любой зрительской аудитории']\n",
    "\n",
    "fig, ax = plt.subplots(1, figsize=(10, 6))\n",
    "\n",
    "ax.set_ylabel('Сборы млн. руб.')\n",
    "ax.set_xlabel('Год')\n",
    "\n",
    "ax.plot(names, values0, label='18+');\n",
    "ax.plot(names, values1, label='6+');\n",
    "ax.plot(names, values2, label='12+');\n",
    "ax.plot(names, values3, label='16+');\n",
    "ax.plot(names, values4, label='0+');\n",
    "\n",
    "ax.legend()\n",
    "\n",
    "fig.suptitle('Кассовые сборы по годам, в разрезе возрастных ограничений');"
   ]
  },
  {
   "cell_type": "code",
   "execution_count": 35,
   "metadata": {},
   "outputs": [
    {
     "data": {
      "text/plain": [
       "<matplotlib.legend.Legend at 0x7fdb30aee760>"
      ]
     },
     "execution_count": 35,
     "metadata": {},
     "output_type": "execute_result"
    },
    {
     "data": {
      "image/png": "[encoded data removed]",
      "text/plain": [
       "<Figure size 1080x432 with 1 Axes>"
      ]
     },
     "metadata": {
      "needs_background": "light"
     },
     "output_type": "display_data"
    }
   ],
   "source": [
    "# код ревьюера\n",
    "t.set_index('year').plot(kind='bar', figsize=(15,6))\n",
    "plt.legend(bbox_to_anchor=(1,1))"
   ]
  },
  {
   "cell_type": "markdown",
   "metadata": {},
   "source": [
    "Судя по данным графика \"Кассовые сборы по годам, в разрезе возрастных ограничений\" расположенным выше, каждое возрастное ограничение имеет свою нищу кассовых сборов и влияет на сумму сборов фильма, мы наблюдаем падение кассовых сборов фильмов с возрастным ограничением 12+ с 2015 по 2017 гг. в тоже время наблюдается рост кассовых сборов фильмов с возрастным ограничением 16+ в 2017 году картина меняется наоборот: кассовые сборы фильмов с возрастным ограничением 12+ начинаю расти а 16+ падать, в итоге к 2019 году кассовые сборы фильмов с ограничениями 16+, 12+, 6+ сравнялись. Я думаю провал в 2017 году является следствием того что большая часть фильмов с поддержкой по бюджету в 2016 году не окупилась и режиссеры ушли в нишу 16+."
   ]
  },
  {
   "cell_type": "code",
   "execution_count": 36,
   "metadata": {},
   "outputs": [
    {
     "data": {
      "text/html": [
       "<div>\n",
       "<style scoped>\n",
       "    .dataframe tbody tr th:only-of-type {\n",
       "        vertical-align: middle;\n",
       "    }\n",
       "\n",
       "    .dataframe tbody tr th {\n",
       "        vertical-align: top;\n",
       "    }\n",
       "\n",
       "    .dataframe thead th {\n",
       "        text-align: right;\n",
       "    }\n",
       "</style>\n",
       "<table border=\"1\" class=\"dataframe\">\n",
       "  <thead>\n",
       "    <tr style=\"text-align: right;\">\n",
       "      <th></th>\n",
       "      <th>age_restriction</th>\n",
       "      <th>sum</th>\n",
       "      <th>count</th>\n",
       "      <th>share</th>\n",
       "    </tr>\n",
       "  </thead>\n",
       "  <tbody>\n",
       "    <tr>\n",
       "      <th>2</th>\n",
       "      <td>«16+» - для детей старше 16 лет</td>\n",
       "      <td>76583.666</td>\n",
       "      <td>1029</td>\n",
       "      <td>31.7</td>\n",
       "    </tr>\n",
       "    <tr>\n",
       "      <th>1</th>\n",
       "      <td>«12+» - для детей старше 12 лет</td>\n",
       "      <td>63225.587</td>\n",
       "      <td>504</td>\n",
       "      <td>26.2</td>\n",
       "    </tr>\n",
       "    <tr>\n",
       "      <th>4</th>\n",
       "      <td>«6+» - для детей старше 6 лет</td>\n",
       "      <td>57530.728</td>\n",
       "      <td>374</td>\n",
       "      <td>23.8</td>\n",
       "    </tr>\n",
       "    <tr>\n",
       "      <th>3</th>\n",
       "      <td>«18+» - запрещено для детей</td>\n",
       "      <td>42974.723</td>\n",
       "      <td>863</td>\n",
       "      <td>17.8</td>\n",
       "    </tr>\n",
       "    <tr>\n",
       "      <th>0</th>\n",
       "      <td>«0+» - для любой зрительской аудитории</td>\n",
       "      <td>1204.998</td>\n",
       "      <td>231</td>\n",
       "      <td>0.5</td>\n",
       "    </tr>\n",
       "  </tbody>\n",
       "</table>\n",
       "</div>"
      ],
      "text/plain": [
       "                          age_restriction        sum  count  share\n",
       "2         «16+» - для детей старше 16 лет  76583.666   1029   31.7\n",
       "1         «12+» - для детей старше 12 лет  63225.587    504   26.2\n",
       "4           «6+» - для детей старше 6 лет  57530.728    374   23.8\n",
       "3             «18+» - запрещено для детей  42974.723    863   17.8\n",
       "0  «0+» - для любой зрительской аудитории   1204.998    231    0.5"
      ]
     },
     "metadata": {},
     "output_type": "display_data"
    },
    {
     "data": {
      "image/png": "[encoded data removed]",
      "text/plain": [
       "<Figure size 720x720 with 1 Axes>"
      ]
     },
     "metadata": {},
     "output_type": "display_data"
    }
   ],
   "source": [
    "rental_dynamics_by_years = (df[df['box_office'] > 0].groupby('age_restriction')['box_office']\n",
    "                     .agg(['sum', 'count']))\n",
    "\n",
    "rental_dynamics_by_years = (pd.DataFrame(rental_dynamics_by_years)\n",
    "                     .reset_index())\n",
    "rental_dynamics_by_years['share'] = round(rental_dynamics_by_years['sum']/rental_dynamics_by_years['sum'].sum(),3)*100\n",
    "\n",
    "display(rental_dynamics_by_years.sort_values(by='sum', ascending=False))\n",
    "\n",
    "\n",
    "labels = rental_dynamics_by_years['age_restriction']\n",
    "sizes = rental_dynamics_by_years['share']\n",
    "explode = ( 0.2,  0.2, 0.2,  0.2,  0.2)\n",
    "\n",
    "fig1, ax1 = plt.subplots(figsize=(10, 10))\n",
    "\n",
    "ax1.pie(sizes, explode=explode, labels=labels , autopct='%1.1f%%', shadow=True, startangle=90)\n",
    "ax1.axis('equal')\n",
    "\n",
    "plt.show()"
   ]
  },
  {
   "cell_type": "markdown",
   "metadata": {},
   "source": [
    "Фильмы с возрастным ограничением 16+ собрали больше всего денег в прокате 31.7 % от общих собранных средст или 7.6 млрд. руб, на втором месте идут фильмы с возрастным ограничением 12+ 26.2 % или 6.3 млрд. руб и наконец на третьем месте идут фильмы с возрастным ограничением 6+ которые собрали в прокате 5.7 млрд. руб."
   ]
  },
  {
   "cell_type": "markdown",
   "metadata": {
    "id": "l_Kg6Ku4gFya"
   },
   "source": [
    "### Шаг 4. Исследуйте фильмы, которые получили государственную поддержку\n",
    "\n",
    "На этом этапе нет конкретных инструкций и заданий — поищите интересные закономерности в данных. Посмотрите, сколько выделяют средств на поддержку кино. Проверьте, хорошо ли окупаются такие фильмы, какой у них рейтинг."
   ]
  },
  {
   "cell_type": "code",
   "execution_count": 37,
   "metadata": {},
   "outputs": [
    {
     "data": {
      "text/html": [
       "<div>\n",
       "<style scoped>\n",
       "    .dataframe tbody tr th:only-of-type {\n",
       "        vertical-align: middle;\n",
       "    }\n",
       "\n",
       "    .dataframe tbody tr th {\n",
       "        vertical-align: top;\n",
       "    }\n",
       "\n",
       "    .dataframe thead th {\n",
       "        text-align: right;\n",
       "    }\n",
       "</style>\n",
       "<table border=\"1\" class=\"dataframe\">\n",
       "  <thead>\n",
       "    <tr style=\"text-align: right;\">\n",
       "      <th></th>\n",
       "      <th>year_start_date</th>\n",
       "      <th>count</th>\n",
       "      <th>sum</th>\n",
       "      <th>mean</th>\n",
       "      <th>median</th>\n",
       "    </tr>\n",
       "  </thead>\n",
       "  <tbody>\n",
       "    <tr>\n",
       "      <th>0</th>\n",
       "      <td>2013</td>\n",
       "      <td>2</td>\n",
       "      <td>134</td>\n",
       "      <td>67</td>\n",
       "      <td>67</td>\n",
       "    </tr>\n",
       "    <tr>\n",
       "      <th>1</th>\n",
       "      <td>2014</td>\n",
       "      <td>16</td>\n",
       "      <td>572</td>\n",
       "      <td>35</td>\n",
       "      <td>27</td>\n",
       "    </tr>\n",
       "    <tr>\n",
       "      <th>2</th>\n",
       "      <td>2015</td>\n",
       "      <td>86</td>\n",
       "      <td>3656</td>\n",
       "      <td>42</td>\n",
       "      <td>30</td>\n",
       "    </tr>\n",
       "    <tr>\n",
       "      <th>3</th>\n",
       "      <td>2016</td>\n",
       "      <td>61</td>\n",
       "      <td>4303</td>\n",
       "      <td>70</td>\n",
       "      <td>35</td>\n",
       "    </tr>\n",
       "    <tr>\n",
       "      <th>4</th>\n",
       "      <td>2017</td>\n",
       "      <td>41</td>\n",
       "      <td>3183</td>\n",
       "      <td>77</td>\n",
       "      <td>40</td>\n",
       "    </tr>\n",
       "    <tr>\n",
       "      <th>5</th>\n",
       "      <td>2018</td>\n",
       "      <td>56</td>\n",
       "      <td>3446</td>\n",
       "      <td>61</td>\n",
       "      <td>45</td>\n",
       "    </tr>\n",
       "    <tr>\n",
       "      <th>6</th>\n",
       "      <td>2019</td>\n",
       "      <td>70</td>\n",
       "      <td>4904</td>\n",
       "      <td>70</td>\n",
       "      <td>40</td>\n",
       "    </tr>\n",
       "  </tbody>\n",
       "</table>\n",
       "</div>"
      ],
      "text/plain": [
       "   year_start_date  count   sum  mean  median\n",
       "0             2013      2   134    67      67\n",
       "1             2014     16   572    35      27\n",
       "2             2015     86  3656    42      30\n",
       "3             2016     61  4303    70      35\n",
       "4             2017     41  3183    77      40\n",
       "5             2018     56  3446    61      45\n",
       "6             2019     70  4904    70      40"
      ]
     },
     "metadata": {},
     "output_type": "display_data"
    },
    {
     "data": {
      "image/png": "[encoded data removed]",
      "text/plain": [
       "<Figure size 576x360 with 1 Axes>"
      ]
     },
     "metadata": {
      "needs_background": "light"
     },
     "output_type": "display_data"
    }
   ],
   "source": [
    "def total_support (row):\n",
    "    if row['refundable_support'] > 0 or row['nonrefundable_support']> 0:\n",
    "        return row['refundable_support'] + row['nonrefundable_support']\n",
    "    else:\n",
    "        return 0\n",
    "    \n",
    "df['total_support'] = df.apply(total_support, axis=1)\n",
    "\n",
    "\n",
    "total_support = df[df['total_support'] != 0]\n",
    "total_support = (total_support\n",
    "                     .groupby('year_start_date')['total_support']\n",
    "                     .agg(['count','sum', 'mean', 'median']))\n",
    "total_support = total_support.reset_index()\n",
    "total_support[['sum', 'mean', 'median']] = total_support[['sum', 'mean', 'median']].astype('int')\n",
    "                    \n",
    "display(total_support)\n",
    "\n",
    "\n",
    "data = total_support\n",
    "names = total_support['year_start_date']\n",
    "values = total_support['sum']\n",
    "\n",
    "fig, ax = plt.subplots(figsize=(8, 5))\n",
    "\n",
    "for i in range(len(total_support)): \n",
    "    ax.text(names[i]-0.2, values[i]+10, round(values[i]), fontsize=12)\n",
    "    \n",
    "ax.set_xlabel('Год')\n",
    "ax.plot(names, values)\n",
    "\n",
    "fig.suptitle('Выделение средств на поддержку кино млн.');"
   ]
  },
  {
   "cell_type": "markdown",
   "metadata": {},
   "source": [
    "Если рассматривать период с 2014 по 2019 гг. сумма поддержки растет с каждым годом и в 2016 г. составляет  4.3 млрд. руб., затем в 2017 году сумма поддержки снижается до 3.1 млрд. руб. В 2018 и 2019 гг. рост возобновляется и в 2019 г. достигает своего максимума 4.9 млрд. руб"
   ]
  },
  {
   "cell_type": "code",
   "execution_count": 38,
   "metadata": {},
   "outputs": [
    {
     "data": {
      "image/png": "[encoded data removed]",
      "text/plain": [
       "<Figure size 720x360 with 1 Axes>"
      ]
     },
     "metadata": {
      "needs_background": "light"
     },
     "output_type": "display_data"
    }
   ],
   "source": [
    "df.loc[((df['box_office'] >= 0) & (df['budget'] > 0)), ['payback']] = df['box_office'] /df['budget']\n",
    "\n",
    "payback_films = df[(df['share_government_support'] > 0) & (df['box_office'] > 0) & (df['budget'] > 0)] \\\n",
    "                     .drop_duplicates(subset=['title', 'year_start_date']) \\\n",
    "                     .groupby(['year_start_date', df['payback'] >= 1]) \\\n",
    "                     .agg({'title' : 'count'}).unstack('payback').fillna(0).astype('int')\n",
    "\n",
    "payback_films.plot(kind='bar', figsize=(10, 5), stacked=False, ylabel='Количество', xlabel='Год', use_index=True)\n",
    "plt.legend(['Не окупившиеся', 'Окупившиеся'])\n",
    "plt.suptitle('Окупившиеся и не окупившиеся фильмы 2013-2019 гг.')\n",
    "\n",
    "names = list(payback_films.index)\n",
    "values1 = list(payback_films['title', False])\n",
    "values2 = list(payback_films['title', True])\n",
    "\n",
    "for i in range(len(names)): \n",
    "    plt.text(i-0.24, values1[i]+0.4, values1[i], fontsize=12)\n",
    "    plt.text(i+0.04, values2[i]+0.4, values2[i], fontsize=12);"
   ]
  },
  {
   "cell_type": "code",
   "execution_count": 39,
   "metadata": {},
   "outputs": [
    {
     "data": {
      "text/html": [
       "<div>\n",
       "<style scoped>\n",
       "    .dataframe tbody tr th:only-of-type {\n",
       "        vertical-align: middle;\n",
       "    }\n",
       "\n",
       "    .dataframe tbody tr th {\n",
       "        vertical-align: top;\n",
       "    }\n",
       "\n",
       "    .dataframe thead th {\n",
       "        text-align: right;\n",
       "    }\n",
       "</style>\n",
       "<table border=\"1\" class=\"dataframe\">\n",
       "  <thead>\n",
       "    <tr style=\"text-align: right;\">\n",
       "      <th></th>\n",
       "      <th>no_payback</th>\n",
       "      <th>payback</th>\n",
       "      <th>share</th>\n",
       "    </tr>\n",
       "    <tr>\n",
       "      <th>year_start_date</th>\n",
       "      <th></th>\n",
       "      <th></th>\n",
       "      <th></th>\n",
       "    </tr>\n",
       "  </thead>\n",
       "  <tbody>\n",
       "    <tr>\n",
       "      <th>2013</th>\n",
       "      <td>2</td>\n",
       "      <td>0</td>\n",
       "      <td>0.00</td>\n",
       "    </tr>\n",
       "    <tr>\n",
       "      <th>2014</th>\n",
       "      <td>13</td>\n",
       "      <td>3</td>\n",
       "      <td>18.75</td>\n",
       "    </tr>\n",
       "    <tr>\n",
       "      <th>2015</th>\n",
       "      <td>69</td>\n",
       "      <td>16</td>\n",
       "      <td>18.82</td>\n",
       "    </tr>\n",
       "    <tr>\n",
       "      <th>2016</th>\n",
       "      <td>50</td>\n",
       "      <td>10</td>\n",
       "      <td>16.67</td>\n",
       "    </tr>\n",
       "    <tr>\n",
       "      <th>2017</th>\n",
       "      <td>26</td>\n",
       "      <td>13</td>\n",
       "      <td>33.33</td>\n",
       "    </tr>\n",
       "    <tr>\n",
       "      <th>2018</th>\n",
       "      <td>38</td>\n",
       "      <td>18</td>\n",
       "      <td>32.14</td>\n",
       "    </tr>\n",
       "    <tr>\n",
       "      <th>2019</th>\n",
       "      <td>48</td>\n",
       "      <td>12</td>\n",
       "      <td>20.00</td>\n",
       "    </tr>\n",
       "  </tbody>\n",
       "</table>\n",
       "</div>"
      ],
      "text/plain": [
       "                 no_payback  payback  share\n",
       "year_start_date                            \n",
       "2013                      2        0   0.00\n",
       "2014                     13        3  18.75\n",
       "2015                     69       16  18.82\n",
       "2016                     50       10  16.67\n",
       "2017                     26       13  33.33\n",
       "2018                     38       18  32.14\n",
       "2019                     48       12  20.00"
      ]
     },
     "execution_count": 39,
     "metadata": {},
     "output_type": "execute_result"
    }
   ],
   "source": [
    "payback_films.columns = ['no_payback', 'payback']\n",
    "payback_films['share'] = round((payback_films['payback'] / (payback_films['no_payback'] + payback_films['payback']))*100,2)\n",
    "payback_films"
   ]
  },
  {
   "cell_type": "code",
   "execution_count": 40,
   "metadata": {},
   "outputs": [
    {
     "data": {
      "image/png": "[encoded data removed]",
      "text/plain": [
       "<Figure size 720x360 with 1 Axes>"
      ]
     },
     "metadata": {
      "needs_background": "light"
     },
     "output_type": "display_data"
    }
   ],
   "source": [
    "payback_films.plot(figsize=(10, 5), y='share', ylabel='Процент', xlabel='Год')\n",
    "plt.legend(['Процент окупившихся'])\n",
    "plt.suptitle('Процент окупившихся фильмов 2013-2019 гг.')\n",
    "\n",
    "values1 = list(payback_films['share'])\n",
    "\n",
    "for i in range(len(values1)): \n",
    "    plt.text(names[i], values1[i], values1[i], fontsize=10)    "
   ]
  },
  {
   "cell_type": "markdown",
   "metadata": {},
   "source": [
    "Рассматривая окупаемость фильмов с господдержкой - мы приходим к выводу что дела обстоят не совсем радужно, в среднем только 23% от всех фильмов окупаются. В разрезе годов ситуация выглядит иначе: начиная с 2014 года в котором окупилось 20 % фильмов, наблюдается спад окупаемости в 2014 - 2015 гг. 16.5 и 15.8 % соответственно. Затем в 2017 году доля окупившихся фильмов с господдержкой возрастает до 35%, немного снижается в 2018 году до почти 33 процентов и устанавливается на отметке 18.6 % в 2019 году. "
   ]
  },
  {
   "cell_type": "code",
   "execution_count": 41,
   "metadata": {},
   "outputs": [
    {
     "data": {
      "text/html": [
       "<div>\n",
       "<style scoped>\n",
       "    .dataframe tbody tr th:only-of-type {\n",
       "        vertical-align: middle;\n",
       "    }\n",
       "\n",
       "    .dataframe tbody tr th {\n",
       "        vertical-align: top;\n",
       "    }\n",
       "\n",
       "    .dataframe thead th {\n",
       "        text-align: right;\n",
       "    }\n",
       "</style>\n",
       "<table border=\"1\" class=\"dataframe\">\n",
       "  <thead>\n",
       "    <tr style=\"text-align: right;\">\n",
       "      <th></th>\n",
       "      <th>year</th>\n",
       "      <th>film_whith_support</th>\n",
       "      <th>mean_ratings_film_whith_support</th>\n",
       "      <th>median_ratings_film_whith_support</th>\n",
       "      <th>film_whithout_support</th>\n",
       "      <th>mean_ratings_film_whithout_support</th>\n",
       "      <th>median_ratings_film_whithout_support</th>\n",
       "    </tr>\n",
       "  </thead>\n",
       "  <tbody>\n",
       "    <tr>\n",
       "      <th>0</th>\n",
       "      <td>2013</td>\n",
       "      <td>2</td>\n",
       "      <td>6.70</td>\n",
       "      <td>6.7</td>\n",
       "      <td>580</td>\n",
       "      <td>6.51</td>\n",
       "      <td>6.6</td>\n",
       "    </tr>\n",
       "    <tr>\n",
       "      <th>1</th>\n",
       "      <td>2014</td>\n",
       "      <td>15</td>\n",
       "      <td>6.01</td>\n",
       "      <td>6.4</td>\n",
       "      <td>724</td>\n",
       "      <td>6.53</td>\n",
       "      <td>6.7</td>\n",
       "    </tr>\n",
       "    <tr>\n",
       "      <th>2</th>\n",
       "      <td>2015</td>\n",
       "      <td>81</td>\n",
       "      <td>6.06</td>\n",
       "      <td>6.2</td>\n",
       "      <td>534</td>\n",
       "      <td>6.34</td>\n",
       "      <td>6.5</td>\n",
       "    </tr>\n",
       "    <tr>\n",
       "      <th>3</th>\n",
       "      <td>2016</td>\n",
       "      <td>56</td>\n",
       "      <td>5.76</td>\n",
       "      <td>5.9</td>\n",
       "      <td>654</td>\n",
       "      <td>6.40</td>\n",
       "      <td>6.6</td>\n",
       "    </tr>\n",
       "    <tr>\n",
       "      <th>4</th>\n",
       "      <td>2017</td>\n",
       "      <td>39</td>\n",
       "      <td>6.00</td>\n",
       "      <td>6.2</td>\n",
       "      <td>395</td>\n",
       "      <td>6.35</td>\n",
       "      <td>6.4</td>\n",
       "    </tr>\n",
       "    <tr>\n",
       "      <th>5</th>\n",
       "      <td>2018</td>\n",
       "      <td>53</td>\n",
       "      <td>6.00</td>\n",
       "      <td>6.2</td>\n",
       "      <td>603</td>\n",
       "      <td>6.41</td>\n",
       "      <td>6.5</td>\n",
       "    </tr>\n",
       "    <tr>\n",
       "      <th>6</th>\n",
       "      <td>2019</td>\n",
       "      <td>67</td>\n",
       "      <td>6.18</td>\n",
       "      <td>6.2</td>\n",
       "      <td>655</td>\n",
       "      <td>6.52</td>\n",
       "      <td>6.5</td>\n",
       "    </tr>\n",
       "  </tbody>\n",
       "</table>\n",
       "</div>"
      ],
      "text/plain": [
       "   year  film_whith_support  mean_ratings_film_whith_support  \\\n",
       "0  2013                   2                             6.70   \n",
       "1  2014                  15                             6.01   \n",
       "2  2015                  81                             6.06   \n",
       "3  2016                  56                             5.76   \n",
       "4  2017                  39                             6.00   \n",
       "5  2018                  53                             6.00   \n",
       "6  2019                  67                             6.18   \n",
       "\n",
       "   median_ratings_film_whith_support  film_whithout_support  \\\n",
       "0                                6.7                    580   \n",
       "1                                6.4                    724   \n",
       "2                                6.2                    534   \n",
       "3                                5.9                    654   \n",
       "4                                6.2                    395   \n",
       "5                                6.2                    603   \n",
       "6                                6.2                    655   \n",
       "\n",
       "   mean_ratings_film_whithout_support  median_ratings_film_whithout_support  \n",
       "0                                6.51                                   6.6  \n",
       "1                                6.53                                   6.7  \n",
       "2                                6.34                                   6.5  \n",
       "3                                6.40                                   6.6  \n",
       "4                                6.35                                   6.4  \n",
       "5                                6.41                                   6.5  \n",
       "6                                6.52                                   6.5  "
      ]
     },
     "metadata": {},
     "output_type": "display_data"
    },
    {
     "name": "stdout",
     "output_type": "stream",
     "text": [
      "Средний рейтинг фильмов с господдержкой 6.0\n",
      "Средний рейтинг фильмов без господдержки 6.5\n"
     ]
    },
    {
     "data": {
      "image/png": "[encoded data removed]",
      "text/plain": [
       "<Figure size 720x432 with 1 Axes>"
      ]
     },
     "metadata": {
      "needs_background": "light"
     },
     "output_type": "display_data"
    }
   ],
   "source": [
    "support = df.query('(share_government_support > 0) and (ratings > 1.0)')\n",
    "no_support = df.query('(share_government_support.isna()) and (ratings > 1.0)')\n",
    "\n",
    "raiting_support = support.groupby('year_start_date')['ratings'].agg(['count', 'mean', 'median'])\n",
    "raiting_no_support = no_support.groupby('year_start_date')['ratings'].agg(['count', 'mean', 'median'])\n",
    "\n",
    "total_raiting = raiting_support.merge(raiting_no_support, on='year_start_date')\n",
    "#print(no_support)\n",
    "total_raiting[['mean_x', 'mean_y']] = round(total_raiting[['mean_x', 'mean_y']],2)\n",
    "total_raiting = (total_raiting.reset_index()\n",
    "                .rename(columns={'year_start_date': 'year',\n",
    "                                 'count_x': 'film_whith_support',\n",
    "                                 'mean_x': 'mean_ratings_film_whith_support',\n",
    "                                 'median_x': 'median_ratings_film_whith_support',\n",
    "                                 'count_y': 'film_whithout_support',\n",
    "                                 'mean_y': 'mean_ratings_film_whithout_support',\n",
    "                                 'median_y': 'median_ratings_film_whithout_support'}))\n",
    "\n",
    "\n",
    "display(total_raiting)\n",
    "\n",
    "total_raiting_support = round(support['ratings'].mean(), 1)\n",
    "print(f'Средний рейтинг фильмов с господдержкой {total_raiting_support}')\n",
    "\n",
    "total_raiting_no_support = round(no_support['ratings'].mean(), 1)\n",
    "print(f'Средний рейтинг фильмов без господдержки {total_raiting_no_support}')\n",
    "\n",
    "\n",
    "names = total_raiting['year']\n",
    "values1 = total_raiting['mean_ratings_film_whith_support']\n",
    "values2 = total_raiting['mean_ratings_film_whithout_support']\n",
    "\n",
    "fig, ax = plt.subplots(1, figsize=(10, 6))\n",
    "\n",
    "for i in range(len(names)): \n",
    "    ax.text(names[i], values1[i], values1[i], fontsize=12)\n",
    "    ax.text(names[i], values2[i], values2[i], fontsize=12)\n",
    "\n",
    "    \n",
    "ax.set_ylabel('Средний рейтинг')\n",
    "ax.set_xlabel('Год')\n",
    "\n",
    "ax.plot(names, values1, label='с господдержкой');\n",
    "ax.plot(names, values2, label='без господдержки');\n",
    "\n",
    "\n",
    "ax.legend()\n",
    "\n",
    "fig.suptitle('Средний рейтинг фильмов 2013 - 2019 гг.');"
   ]
  },
  {
   "cell_type": "markdown",
   "metadata": {},
   "source": [
    "Рассмотрев график среднего рейтинга фильмов 2013 - 2019 гг. приходим к выводу что фильмы с госсподдержкой в среднем получают оценки на 0.4 балла меньше чем фильмы без господдержки по десятибальной шкале."
   ]
  },
  {
   "cell_type": "code",
   "execution_count": 42,
   "metadata": {},
   "outputs": [
    {
     "data": {
      "text/html": [
       "<div>\n",
       "<style scoped>\n",
       "    .dataframe tbody tr th:only-of-type {\n",
       "        vertical-align: middle;\n",
       "    }\n",
       "\n",
       "    .dataframe tbody tr th {\n",
       "        vertical-align: top;\n",
       "    }\n",
       "\n",
       "    .dataframe thead th {\n",
       "        text-align: right;\n",
       "    }\n",
       "</style>\n",
       "<table border=\"1\" class=\"dataframe\">\n",
       "  <thead>\n",
       "    <tr style=\"text-align: right;\">\n",
       "      <th></th>\n",
       "      <th>title</th>\n",
       "      <th>director</th>\n",
       "      <th>budget</th>\n",
       "      <th>box_office</th>\n",
       "      <th>payback</th>\n",
       "    </tr>\n",
       "  </thead>\n",
       "  <tbody>\n",
       "    <tr>\n",
       "      <th>7456</th>\n",
       "      <td>Холоп</td>\n",
       "      <td>К.Шипенко</td>\n",
       "      <td>160.000000</td>\n",
       "      <td>3073.569</td>\n",
       "      <td>19.209806</td>\n",
       "    </tr>\n",
       "    <tr>\n",
       "      <th>5708</th>\n",
       "      <td>Лёд</td>\n",
       "      <td>О.Трофим</td>\n",
       "      <td>148.585000</td>\n",
       "      <td>1445.732</td>\n",
       "      <td>9.730000</td>\n",
       "    </tr>\n",
       "    <tr>\n",
       "      <th>3565</th>\n",
       "      <td>Притяжение (2016)</td>\n",
       "      <td>Ф.Бондарчук</td>\n",
       "      <td>127.229717</td>\n",
       "      <td>1038.321</td>\n",
       "      <td>8.160994</td>\n",
       "    </tr>\n",
       "  </tbody>\n",
       "</table>\n",
       "</div>"
      ],
      "text/plain": [
       "                  title     director      budget  box_office    payback\n",
       "7456              Холоп    К.Шипенко  160.000000    3073.569  19.209806\n",
       "5708                Лёд     О.Трофим  148.585000    1445.732   9.730000\n",
       "3565  Притяжение (2016)  Ф.Бондарчук  127.229717    1038.321   8.160994"
      ]
     },
     "execution_count": 42,
     "metadata": {},
     "output_type": "execute_result"
    }
   ],
   "source": [
    "payback = df[df['payback'] >= 1]\n",
    "t = payback[['title', 'director', 'budget', 'box_office', 'payback']].sort_values(by='payback', ascending=False).head(3)\n",
    "t"
   ]
  },
  {
   "cell_type": "markdown",
   "metadata": {},
   "source": [
    "Бесспорным лидером окупаемости является фильм \"Холоп\" режиссера К.Шипенко, который собрал в прокате 3 млрд. рублей при производственном бюджете 160 млн. руб., окупаемость этого фильма по отношению к бюджету 19 раз. Второю строчку топ-а окупаемых фильмов заняла картина \"Лёд\" режиссера О.Трофима с результатом по окупаемости 9.7 раза. И на третьем месте картина \"Я худею\" 7.2 раза - вполне неплохой результат."
   ]
  },
  {
   "cell_type": "code",
   "execution_count": 43,
   "metadata": {},
   "outputs": [
    {
     "data": {
      "text/html": [
       "<div>\n",
       "<style scoped>\n",
       "    .dataframe tbody tr th:only-of-type {\n",
       "        vertical-align: middle;\n",
       "    }\n",
       "\n",
       "    .dataframe tbody tr th {\n",
       "        vertical-align: top;\n",
       "    }\n",
       "\n",
       "    .dataframe thead th {\n",
       "        text-align: right;\n",
       "    }\n",
       "</style>\n",
       "<table border=\"1\" class=\"dataframe\">\n",
       "  <thead>\n",
       "    <tr style=\"text-align: right;\">\n",
       "      <th></th>\n",
       "      <th>title</th>\n",
       "      <th>director</th>\n",
       "      <th>budget</th>\n",
       "      <th>box_office</th>\n",
       "      <th>payback</th>\n",
       "    </tr>\n",
       "  </thead>\n",
       "  <tbody>\n",
       "    <tr>\n",
       "      <th>7456</th>\n",
       "      <td>Холоп</td>\n",
       "      <td>К.Шипенко</td>\n",
       "      <td>160.000</td>\n",
       "      <td>3073.569</td>\n",
       "      <td>19.209806</td>\n",
       "    </tr>\n",
       "    <tr>\n",
       "      <th>5653</th>\n",
       "      <td>Движение вверх</td>\n",
       "      <td>А.Мегердичев</td>\n",
       "      <td>590.192</td>\n",
       "      <td>2779.686</td>\n",
       "      <td>4.709800</td>\n",
       "    </tr>\n",
       "    <tr>\n",
       "      <th>6820</th>\n",
       "      <td>Мстители: Финал</td>\n",
       "      <td>Джо Руссо, Энтони Руссо</td>\n",
       "      <td>0.000</td>\n",
       "      <td>2576.614</td>\n",
       "      <td>NaN</td>\n",
       "    </tr>\n",
       "    <tr>\n",
       "      <th>6549</th>\n",
       "      <td>Т-34</td>\n",
       "      <td>А.Сидоров</td>\n",
       "      <td>563.785</td>\n",
       "      <td>2271.754</td>\n",
       "      <td>4.029469</td>\n",
       "    </tr>\n",
       "    <tr>\n",
       "      <th>3488</th>\n",
       "      <td>Пираты Карибского моря: Мертвецы не рассказыва...</td>\n",
       "      <td>Йоаким Реннинг, Эспен Сандберг</td>\n",
       "      <td>0.000</td>\n",
       "      <td>2118.396</td>\n",
       "      <td>NaN</td>\n",
       "    </tr>\n",
       "    <tr>\n",
       "      <th>2859</th>\n",
       "      <td>Зверополис</td>\n",
       "      <td>Рич Мур, Байрон Ховард</td>\n",
       "      <td>0.000</td>\n",
       "      <td>2048.126</td>\n",
       "      <td>NaN</td>\n",
       "    </tr>\n",
       "    <tr>\n",
       "      <th>3755</th>\n",
       "      <td>Тайная жизнь домашних животных. Миньоны против...</td>\n",
       "      <td>Крис Рено</td>\n",
       "      <td>0.000</td>\n",
       "      <td>1971.005</td>\n",
       "      <td>NaN</td>\n",
       "    </tr>\n",
       "    <tr>\n",
       "      <th>6274</th>\n",
       "      <td>Веном</td>\n",
       "      <td>Рубен Флейшер</td>\n",
       "      <td>0.000</td>\n",
       "      <td>1913.258</td>\n",
       "      <td>NaN</td>\n",
       "    </tr>\n",
       "    <tr>\n",
       "      <th>7216</th>\n",
       "      <td>Малефисента: Владычица тьмы</td>\n",
       "      <td>Йоаким Роннинг</td>\n",
       "      <td>0.000</td>\n",
       "      <td>1911.945</td>\n",
       "      <td>NaN</td>\n",
       "    </tr>\n",
       "    <tr>\n",
       "      <th>7258</th>\n",
       "      <td>Джокер</td>\n",
       "      <td>Тодд Филлипс</td>\n",
       "      <td>0.000</td>\n",
       "      <td>1890.368</td>\n",
       "      <td>NaN</td>\n",
       "    </tr>\n",
       "  </tbody>\n",
       "</table>\n",
       "</div>"
      ],
      "text/plain": [
       "                                                  title  \\\n",
       "7456                                              Холоп   \n",
       "5653                                     Движение вверх   \n",
       "6820                                    Мстители: Финал   \n",
       "6549                                               Т-34   \n",
       "3488  Пираты Карибского моря: Мертвецы не рассказыва...   \n",
       "2859                                         Зверополис   \n",
       "3755  Тайная жизнь домашних животных. Миньоны против...   \n",
       "6274                                              Веном   \n",
       "7216                        Малефисента: Владычица тьмы   \n",
       "7258                                             Джокер   \n",
       "\n",
       "                            director   budget  box_office    payback  \n",
       "7456                       К.Шипенко  160.000    3073.569  19.209806  \n",
       "5653                    А.Мегердичев  590.192    2779.686   4.709800  \n",
       "6820         Джо Руссо, Энтони Руссо    0.000    2576.614        NaN  \n",
       "6549                       А.Сидоров  563.785    2271.754   4.029469  \n",
       "3488  Йоаким Реннинг, Эспен Сандберг    0.000    2118.396        NaN  \n",
       "2859          Рич Мур, Байрон Ховард    0.000    2048.126        NaN  \n",
       "3755                       Крис Рено    0.000    1971.005        NaN  \n",
       "6274                   Рубен Флейшер    0.000    1913.258        NaN  \n",
       "7216                  Йоаким Роннинг    0.000    1911.945        NaN  \n",
       "7258                    Тодд Филлипс    0.000    1890.368        NaN  "
      ]
     },
     "execution_count": 43,
     "metadata": {},
     "output_type": "execute_result"
    }
   ],
   "source": [
    "t = df[['title', 'director', 'budget', 'box_office', 'payback']].sort_values(by='box_office', ascending=False).head(10)\n",
    "t"
   ]
  },
  {
   "cell_type": "markdown",
   "metadata": {},
   "source": [
    "Топ 10 фильмов с самыми большими кассовыми сборами открывает картина К.Шипенко \"Холоп\" с результатом чуть более 3 млрд. рублей, на втором месте расположилась картина \"Движение вверх\" режиссера А.Мегердичева которая собрала в кинопрокате 2.7 млрд. рублей."
   ]
  },
  {
   "cell_type": "code",
   "execution_count": 44,
   "metadata": {},
   "outputs": [
    {
     "data": {
      "text/html": [
       "<div>\n",
       "<style scoped>\n",
       "    .dataframe tbody tr th:only-of-type {\n",
       "        vertical-align: middle;\n",
       "    }\n",
       "\n",
       "    .dataframe tbody tr th {\n",
       "        vertical-align: top;\n",
       "    }\n",
       "\n",
       "    .dataframe thead th {\n",
       "        text-align: right;\n",
       "    }\n",
       "</style>\n",
       "<table border=\"1\" class=\"dataframe\">\n",
       "  <thead>\n",
       "    <tr style=\"text-align: right;\">\n",
       "      <th></th>\n",
       "      <th>sum</th>\n",
       "    </tr>\n",
       "    <tr>\n",
       "      <th>director</th>\n",
       "      <th></th>\n",
       "    </tr>\n",
       "  </thead>\n",
       "  <tbody>\n",
       "    <tr>\n",
       "      <th>К.Шипенко</th>\n",
       "      <td>3826.249</td>\n",
       "    </tr>\n",
       "    <tr>\n",
       "      <th>А.Мегердичев</th>\n",
       "      <td>2779.686</td>\n",
       "    </tr>\n",
       "    <tr>\n",
       "      <th>Д.Дьяченко</th>\n",
       "      <td>2404.899</td>\n",
       "    </tr>\n",
       "    <tr>\n",
       "      <th>А.Сидоров</th>\n",
       "      <td>2271.754</td>\n",
       "    </tr>\n",
       "    <tr>\n",
       "      <th>О.Трофим</th>\n",
       "      <td>1445.732</td>\n",
       "    </tr>\n",
       "  </tbody>\n",
       "</table>\n",
       "</div>"
      ],
      "text/plain": [
       "                   sum\n",
       "director              \n",
       "К.Шипенко     3826.249\n",
       "А.Мегердичев  2779.686\n",
       "Д.Дьяченко    2404.899\n",
       "А.Сидоров     2271.754\n",
       "О.Трофим      1445.732"
      ]
     },
     "metadata": {},
     "output_type": "display_data"
    }
   ],
   "source": [
    "top5_director = payback.groupby(['director'])['box_office'].agg(['sum']).sort_values(by='sum', ascending=False).head(5)\n",
    "\n",
    "display(top5_director)"
   ]
  },
  {
   "cell_type": "markdown",
   "metadata": {},
   "source": [
    "Пятерку режиссеров фильмы которых собрали наибольшее количество кассовых сборов возглавляет К.Шипенко почти 4 млрд. руб, на втором месте А.Мегердичев 2.7 млрд. руб., на третьем Д.Дьяченко которые снял множество картин (\"Супербобровы\", \"Кухня в Париже\", \"О чем еще говорят мужчины\") 2.4 млрд. руб."
   ]
  },
  {
   "cell_type": "code",
   "execution_count": 45,
   "metadata": {},
   "outputs": [
    {
     "data": {
      "text/html": [
       "<div>\n",
       "<style scoped>\n",
       "    .dataframe tbody tr th:only-of-type {\n",
       "        vertical-align: middle;\n",
       "    }\n",
       "\n",
       "    .dataframe tbody tr th {\n",
       "        vertical-align: top;\n",
       "    }\n",
       "\n",
       "    .dataframe thead th {\n",
       "        text-align: right;\n",
       "    }\n",
       "</style>\n",
       "<table border=\"1\" class=\"dataframe\">\n",
       "  <thead>\n",
       "    <tr style=\"text-align: right;\">\n",
       "      <th></th>\n",
       "      <th>year</th>\n",
       "      <th>payback_film_count</th>\n",
       "      <th>payback_film_mean</th>\n",
       "      <th>payback_film_median</th>\n",
       "      <th>no_payback_film_count</th>\n",
       "      <th>no_payback_film_mean</th>\n",
       "      <th>no_payback_film_median</th>\n",
       "    </tr>\n",
       "  </thead>\n",
       "  <tbody>\n",
       "    <tr>\n",
       "      <th>0</th>\n",
       "      <td>2014</td>\n",
       "      <td>3</td>\n",
       "      <td>5.83</td>\n",
       "      <td>6.00</td>\n",
       "      <td>12</td>\n",
       "      <td>6.05</td>\n",
       "      <td>6.40</td>\n",
       "    </tr>\n",
       "    <tr>\n",
       "      <th>1</th>\n",
       "      <td>2015</td>\n",
       "      <td>16</td>\n",
       "      <td>6.43</td>\n",
       "      <td>6.45</td>\n",
       "      <td>65</td>\n",
       "      <td>5.97</td>\n",
       "      <td>6.20</td>\n",
       "    </tr>\n",
       "    <tr>\n",
       "      <th>2</th>\n",
       "      <td>2016</td>\n",
       "      <td>10</td>\n",
       "      <td>5.89</td>\n",
       "      <td>5.70</td>\n",
       "      <td>47</td>\n",
       "      <td>5.63</td>\n",
       "      <td>6.00</td>\n",
       "    </tr>\n",
       "    <tr>\n",
       "      <th>3</th>\n",
       "      <td>2017</td>\n",
       "      <td>13</td>\n",
       "      <td>6.12</td>\n",
       "      <td>6.40</td>\n",
       "      <td>26</td>\n",
       "      <td>5.94</td>\n",
       "      <td>6.15</td>\n",
       "    </tr>\n",
       "    <tr>\n",
       "      <th>4</th>\n",
       "      <td>2018</td>\n",
       "      <td>17</td>\n",
       "      <td>5.92</td>\n",
       "      <td>6.40</td>\n",
       "      <td>36</td>\n",
       "      <td>6.04</td>\n",
       "      <td>6.20</td>\n",
       "    </tr>\n",
       "    <tr>\n",
       "      <th>5</th>\n",
       "      <td>2019</td>\n",
       "      <td>12</td>\n",
       "      <td>6.42</td>\n",
       "      <td>6.45</td>\n",
       "      <td>55</td>\n",
       "      <td>6.12</td>\n",
       "      <td>6.10</td>\n",
       "    </tr>\n",
       "  </tbody>\n",
       "</table>\n",
       "</div>"
      ],
      "text/plain": [
       "   year  payback_film_count  payback_film_mean  payback_film_median  \\\n",
       "0  2014                   3               5.83                 6.00   \n",
       "1  2015                  16               6.43                 6.45   \n",
       "2  2016                  10               5.89                 5.70   \n",
       "3  2017                  13               6.12                 6.40   \n",
       "4  2018                  17               5.92                 6.40   \n",
       "5  2019                  12               6.42                 6.45   \n",
       "\n",
       "   no_payback_film_count  no_payback_film_mean  no_payback_film_median  \n",
       "0                     12                  6.05                    6.40  \n",
       "1                     65                  5.97                    6.20  \n",
       "2                     47                  5.63                    6.00  \n",
       "3                     26                  5.94                    6.15  \n",
       "4                     36                  6.04                    6.20  \n",
       "5                     55                  6.12                    6.10  "
      ]
     },
     "metadata": {},
     "output_type": "display_data"
    },
    {
     "data": {
      "image/png": "[encoded data removed]",
      "text/plain": [
       "<Figure size 720x432 with 1 Axes>"
      ]
     },
     "metadata": {
      "needs_background": "light"
     },
     "output_type": "display_data"
    }
   ],
   "source": [
    "payback_films = df.query('(share_government_support > 0) and (payback > 1.0)').sort_values(by='ratings', ascending=False)\n",
    "no_payback_films = df.query('(share_government_support > 0) and (payback < 1.0)').sort_values(by='ratings', ascending=False)\n",
    "\n",
    "payback_films = payback_films.groupby(['year_start_date'])['ratings'].agg(['count', 'mean', 'median'])\n",
    "no_payback_films = no_payback_films.groupby(['year_start_date'])['ratings'].agg(['count', 'mean', 'median'])\n",
    "\n",
    "all_payback = payback_films.merge(no_payback_films, how='left', on='year_start_date')\n",
    "all_payback = (all_payback.reset_index()\n",
    "                          .rename(columns={'year_start_date': 'year',\n",
    "                                           'count_x': 'payback_film_count',\n",
    "                                           'mean_x': 'payback_film_mean',\n",
    "                                           'median_x': 'payback_film_median',\n",
    "                                           'count_y': 'no_payback_film_count',\n",
    "                                           'mean_y': 'no_payback_film_mean',\n",
    "                                           'median_y': 'no_payback_film_median'}))\n",
    "all_payback[['payback_film_mean', 'payback_film_median', 'no_payback_film_mean', 'no_payback_film_median']] = round(all_payback[['payback_film_mean', 'payback_film_median', 'no_payback_film_mean', 'no_payback_film_median']], 2)\n",
    "\n",
    "display(all_payback)\n",
    "\n",
    "names = all_payback['year']\n",
    "values1 = all_payback['payback_film_median']\n",
    "values2 = all_payback['no_payback_film_median']\n",
    "\n",
    "fig, ax = plt.subplots(1, figsize=(10, 6))\n",
    "\n",
    "for i in range(len(names)): \n",
    "    ax.text(names[i], values1[i], values1[i], fontsize=12)\n",
    "    ax.text(names[i], values2[i], values2[i], fontsize=12)\n",
    "\n",
    "    \n",
    "ax.set_ylabel('Медианный рейтинг')\n",
    "ax.set_xlabel('Год')\n",
    "\n",
    "ax.plot(names, values1, label='окупившиеся фильмы');\n",
    "ax.plot(names, values2, label='не окупившиеся фильмы');\n",
    "\n",
    "\n",
    "ax.legend()\n",
    "\n",
    "fig.suptitle('Медианный рейтинг рейтинг фильмов с господдержкой 2013 - 2019 гг.');"
   ]
  },
  {
   "cell_type": "markdown",
   "metadata": {},
   "source": [
    "Окупившиеся фильмы как правило имеют рейтинг выше чем не окупившиеся фильмы, и те и другие получают государственную поддержку, но так было не всегда. Возьмем к примеру 2014 год в котором картина была противоположной: окупившиеся фильмы тогда имели более низкий рейтинг по сравнению с не окупившимися 6.0 против 6.4 балла, в 2015 году ситуация изменилась - рейтинги почти сравнялись 6.3 балла и 6.2 балла соответсвенно. 2016 г. оказался провальным как для фильмов с поддержкой так и без. В период с 2017 по 2019 гг. ситуация вновь изменилась: окупившиеся фильмы стали набирать более высокий рейтинг чем не окупившиеся 6.4, 6.5, 6.7 баллов в этом периоде получали окупившиеся фильмы и 6.1, 6.3, 6.2 баллов для не окупившихся."
   ]
  },
  {
   "cell_type": "code",
   "execution_count": 46,
   "metadata": {},
   "outputs": [
    {
     "data": {
      "text/html": [
       "<div>\n",
       "<style scoped>\n",
       "    .dataframe tbody tr th:only-of-type {\n",
       "        vertical-align: middle;\n",
       "    }\n",
       "\n",
       "    .dataframe tbody tr th {\n",
       "        vertical-align: top;\n",
       "    }\n",
       "\n",
       "    .dataframe thead th {\n",
       "        text-align: right;\n",
       "    }\n",
       "</style>\n",
       "<table border=\"1\" class=\"dataframe\">\n",
       "  <thead>\n",
       "    <tr style=\"text-align: right;\">\n",
       "      <th></th>\n",
       "      <th>count</th>\n",
       "      <th>sum</th>\n",
       "    </tr>\n",
       "    <tr>\n",
       "      <th>film_studio</th>\n",
       "      <th></th>\n",
       "      <th></th>\n",
       "    </tr>\n",
       "  </thead>\n",
       "  <tbody>\n",
       "    <tr>\n",
       "      <th>ООО \"Студия анимационного кино \"Мельница\"</th>\n",
       "      <td>7</td>\n",
       "      <td>630</td>\n",
       "    </tr>\n",
       "    <tr>\n",
       "      <th>ООО \"Кинокомпания \"СТВ\"</th>\n",
       "      <td>6</td>\n",
       "      <td>190</td>\n",
       "    </tr>\n",
       "    <tr>\n",
       "      <th>ООО \"ТаББаК\"</th>\n",
       "      <td>6</td>\n",
       "      <td>688</td>\n",
       "    </tr>\n",
       "    <tr>\n",
       "      <th>ООО \"Киностудия \"ВЕРТИКАЛЬ\"</th>\n",
       "      <td>4</td>\n",
       "      <td>143</td>\n",
       "    </tr>\n",
       "    <tr>\n",
       "      <th>ООО \"ВИЗАРТ ФИЛЬМ\"</th>\n",
       "      <td>4</td>\n",
       "      <td>470</td>\n",
       "    </tr>\n",
       "  </tbody>\n",
       "</table>\n",
       "</div>"
      ],
      "text/plain": [
       "                                           count  sum\n",
       "film_studio                                          \n",
       "ООО \"Студия анимационного кино \"Мельница\"      7  630\n",
       "ООО \"Кинокомпания \"СТВ\"                        6  190\n",
       "ООО \"ТаББаК\"                                   6  688\n",
       "ООО \"Киностудия \"ВЕРТИКАЛЬ\"                    4  143\n",
       "ООО \"ВИЗАРТ ФИЛЬМ\"                             4  470"
      ]
     },
     "metadata": {},
     "output_type": "display_data"
    }
   ],
   "source": [
    "top5_support_studio = df.loc[(df['share_government_support'] > 0)] \\\n",
    ".groupby('film_studio')['total_support'].agg(['count', 'sum']).astype('int').sort_values(by='count', ascending=False)\n",
    "display(top5_support_studio.head())"
   ]
  },
  {
   "cell_type": "markdown",
   "metadata": {},
   "source": [
    "Выше представлено топ-5 киностудий которые чаще всего получают поддержку"
   ]
  },
  {
   "cell_type": "code",
   "execution_count": 47,
   "metadata": {},
   "outputs": [
    {
     "data": {
      "text/html": [
       "<div>\n",
       "<style scoped>\n",
       "    .dataframe tbody tr th:only-of-type {\n",
       "        vertical-align: middle;\n",
       "    }\n",
       "\n",
       "    .dataframe tbody tr th {\n",
       "        vertical-align: top;\n",
       "    }\n",
       "\n",
       "    .dataframe thead th {\n",
       "        text-align: right;\n",
       "    }\n",
       "</style>\n",
       "<table border=\"1\" class=\"dataframe\">\n",
       "  <thead>\n",
       "    <tr style=\"text-align: right;\">\n",
       "      <th></th>\n",
       "      <th>count</th>\n",
       "      <th>sum</th>\n",
       "    </tr>\n",
       "    <tr>\n",
       "      <th>main_genres</th>\n",
       "      <th></th>\n",
       "      <th></th>\n",
       "    </tr>\n",
       "  </thead>\n",
       "  <tbody>\n",
       "    <tr>\n",
       "      <th>драма</th>\n",
       "      <td>93</td>\n",
       "      <td>5314</td>\n",
       "    </tr>\n",
       "    <tr>\n",
       "      <th>комедия</th>\n",
       "      <td>74</td>\n",
       "      <td>3218</td>\n",
       "    </tr>\n",
       "    <tr>\n",
       "      <th>мультфильм</th>\n",
       "      <td>31</td>\n",
       "      <td>2461</td>\n",
       "    </tr>\n",
       "    <tr>\n",
       "      <th>nan</th>\n",
       "      <td>16</td>\n",
       "      <td>688</td>\n",
       "    </tr>\n",
       "    <tr>\n",
       "      <th>триллер</th>\n",
       "      <td>15</td>\n",
       "      <td>769</td>\n",
       "    </tr>\n",
       "  </tbody>\n",
       "</table>\n",
       "</div>"
      ],
      "text/plain": [
       "             count   sum\n",
       "main_genres             \n",
       "драма           93  5314\n",
       "комедия         74  3218\n",
       "мультфильм      31  2461\n",
       "nan             16   688\n",
       "триллер         15   769"
      ]
     },
     "metadata": {},
     "output_type": "display_data"
    }
   ],
   "source": [
    "top5_main_genres = df.loc[(df['share_government_support'] > 0)] \\\n",
    ".groupby('main_genres')['total_support'].agg(['count', 'sum'])\n",
    "display(top5_main_genres.sort_values(by='count', ascending=False).astype('int').head())"
   ]
  },
  {
   "cell_type": "markdown",
   "metadata": {},
   "source": [
    "Сымый распростараненный жанр он же получающий максимальную господдержку - драма"
   ]
  },
  {
   "cell_type": "code",
   "execution_count": 48,
   "metadata": {},
   "outputs": [
    {
     "data": {
      "text/html": [
       "<div>\n",
       "<style scoped>\n",
       "    .dataframe tbody tr th:only-of-type {\n",
       "        vertical-align: middle;\n",
       "    }\n",
       "\n",
       "    .dataframe tbody tr th {\n",
       "        vertical-align: top;\n",
       "    }\n",
       "\n",
       "    .dataframe thead th {\n",
       "        text-align: right;\n",
       "    }\n",
       "</style>\n",
       "<table border=\"1\" class=\"dataframe\">\n",
       "  <thead>\n",
       "    <tr style=\"text-align: right;\">\n",
       "      <th></th>\n",
       "      <th>count</th>\n",
       "      <th>sum</th>\n",
       "    </tr>\n",
       "    <tr>\n",
       "      <th>director</th>\n",
       "      <th></th>\n",
       "      <th></th>\n",
       "    </tr>\n",
       "  </thead>\n",
       "  <tbody>\n",
       "    <tr>\n",
       "      <th>Р.Давлетьяров</th>\n",
       "      <td>4</td>\n",
       "      <td>352</td>\n",
       "    </tr>\n",
       "    <tr>\n",
       "      <th>Д.Дьяченко</th>\n",
       "      <td>4</td>\n",
       "      <td>351</td>\n",
       "    </tr>\n",
       "    <tr>\n",
       "      <th>С.Андреасян</th>\n",
       "      <td>4</td>\n",
       "      <td>325</td>\n",
       "    </tr>\n",
       "    <tr>\n",
       "      <th>С.Мокрицкий</th>\n",
       "      <td>3</td>\n",
       "      <td>202</td>\n",
       "    </tr>\n",
       "    <tr>\n",
       "      <th>Н.Хомерики</th>\n",
       "      <td>3</td>\n",
       "      <td>660</td>\n",
       "    </tr>\n",
       "  </tbody>\n",
       "</table>\n",
       "</div>"
      ],
      "text/plain": [
       "               count  sum\n",
       "director                 \n",
       "Р.Давлетьяров      4  352\n",
       "Д.Дьяченко         4  351\n",
       "С.Андреасян        4  325\n",
       "С.Мокрицкий        3  202\n",
       "Н.Хомерики         3  660"
      ]
     },
     "metadata": {},
     "output_type": "display_data"
    }
   ],
   "source": [
    "top5_support_studio = df.loc[(df['share_government_support'] > 0)] \\\n",
    ".groupby('director')['total_support'].agg(['count', 'sum'])\n",
    "display(top5_support_studio.sort_values(by='count', ascending=False).astype('int').head())"
   ]
  },
  {
   "cell_type": "markdown",
   "metadata": {},
   "source": [
    "топ-5 режисеров получающих поддержку"
   ]
  },
  {
   "cell_type": "code",
   "execution_count": 49,
   "metadata": {},
   "outputs": [
    {
     "data": {
      "text/html": [
       "<div>\n",
       "<style scoped>\n",
       "    .dataframe tbody tr th:only-of-type {\n",
       "        vertical-align: middle;\n",
       "    }\n",
       "\n",
       "    .dataframe tbody tr th {\n",
       "        vertical-align: top;\n",
       "    }\n",
       "\n",
       "    .dataframe thead tr th {\n",
       "        text-align: left;\n",
       "    }\n",
       "\n",
       "    .dataframe thead tr:last-of-type th {\n",
       "        text-align: right;\n",
       "    }\n",
       "</style>\n",
       "<table border=\"1\" class=\"dataframe\">\n",
       "  <thead>\n",
       "    <tr>\n",
       "      <th></th>\n",
       "      <th>box_office</th>\n",
       "      <th>budget</th>\n",
       "      <th>loss</th>\n",
       "    </tr>\n",
       "    <tr>\n",
       "      <th></th>\n",
       "      <th>sum</th>\n",
       "      <th>sum</th>\n",
       "      <th></th>\n",
       "    </tr>\n",
       "    <tr>\n",
       "      <th>film_studio</th>\n",
       "      <th></th>\n",
       "      <th></th>\n",
       "      <th></th>\n",
       "    </tr>\n",
       "  </thead>\n",
       "  <tbody>\n",
       "    <tr>\n",
       "      <th>ООО \"Кинокомпания \"СТВ\"; ООО \"РФГ Корп\"; ООО \"РФГ\"; АО \"Маринс Групп Интертеймент\"; ООО \"Фетисов Иллюзион\"; ИП Петрухин; Чайна Филм Ко., Лтд.; Чайна Интернэшнл Филм &amp; Медиа Корп., Лтд., Спаркл Ролл Медиа Корпорейшн, Лтд.</th>\n",
       "      <td>333</td>\n",
       "      <td>2305</td>\n",
       "      <td>-1971</td>\n",
       "    </tr>\n",
       "    <tr>\n",
       "      <th>ООО \"Арт Пикчерс Студия\", ООО \"Водород 2011\"</th>\n",
       "      <td>0</td>\n",
       "      <td>944</td>\n",
       "      <td>-944</td>\n",
       "    </tr>\n",
       "    <tr>\n",
       "      <th>ООО \"Нон-Стоп Продакшн\"</th>\n",
       "      <td>508</td>\n",
       "      <td>1405</td>\n",
       "      <td>-896</td>\n",
       "    </tr>\n",
       "    <tr>\n",
       "      <th>НО Фонд Андрея Кончаловского по поддержке кино и сценических искусств, ООО \"Жан Виго Италия\" (Jean Vigo Italia S.R.L.)</th>\n",
       "      <td>54</td>\n",
       "      <td>779</td>\n",
       "      <td>-725</td>\n",
       "    </tr>\n",
       "    <tr>\n",
       "      <th>ООО \"ВИЗАРТ ФИЛЬМ\"</th>\n",
       "      <td>325</td>\n",
       "      <td>935</td>\n",
       "      <td>-610</td>\n",
       "    </tr>\n",
       "  </tbody>\n",
       "</table>\n",
       "</div>"
      ],
      "text/plain": [
       "                                                   box_office budget  loss\n",
       "                                                          sum    sum      \n",
       "film_studio                                                               \n",
       "ООО \"Кинокомпания \"СТВ\"; ООО \"РФГ Корп\"; ООО \"Р...        333   2305 -1971\n",
       "ООО \"Арт Пикчерс Студия\", ООО \"Водород 2011\"                0    944  -944\n",
       "ООО \"Нон-Стоп Продакшн\"                                   508   1405  -896\n",
       "НО Фонд Андрея Кончаловского по поддержке кино ...         54    779  -725\n",
       "ООО \"ВИЗАРТ ФИЛЬМ\"                                        325    935  -610"
      ]
     },
     "metadata": {},
     "output_type": "display_data"
    }
   ],
   "source": [
    "top5_loss_studio = df.loc[(df['budget'] > df['box_office']) & (df['budget'] >0)] \\\n",
    ".groupby('film_studio')[['box_office', 'budget']].agg(['sum'])\n",
    "top5_loss_studio['loss'] = top5_loss_studio['box_office', 'sum'] - top5_loss_studio['budget', 'sum']\n",
    "\n",
    "display(top5_loss_studio.sort_values(by=('loss', ''), ascending=True).astype('int').head())"
   ]
  },
  {
   "cell_type": "markdown",
   "metadata": {},
   "source": [
    "Топ-5 студий по максимальному убытку"
   ]
  },
  {
   "cell_type": "code",
   "execution_count": 50,
   "metadata": {},
   "outputs": [
    {
     "data": {
      "text/html": [
       "<div>\n",
       "<style scoped>\n",
       "    .dataframe tbody tr th:only-of-type {\n",
       "        vertical-align: middle;\n",
       "    }\n",
       "\n",
       "    .dataframe tbody tr th {\n",
       "        vertical-align: top;\n",
       "    }\n",
       "\n",
       "    .dataframe thead tr th {\n",
       "        text-align: left;\n",
       "    }\n",
       "\n",
       "    .dataframe thead tr:last-of-type th {\n",
       "        text-align: right;\n",
       "    }\n",
       "</style>\n",
       "<table border=\"1\" class=\"dataframe\">\n",
       "  <thead>\n",
       "    <tr>\n",
       "      <th></th>\n",
       "      <th>box_office</th>\n",
       "      <th>budget</th>\n",
       "      <th>loss</th>\n",
       "    </tr>\n",
       "    <tr>\n",
       "      <th></th>\n",
       "      <th>sum</th>\n",
       "      <th>sum</th>\n",
       "      <th></th>\n",
       "    </tr>\n",
       "    <tr>\n",
       "      <th>main_director</th>\n",
       "      <th></th>\n",
       "      <th></th>\n",
       "      <th></th>\n",
       "    </tr>\n",
       "  </thead>\n",
       "  <tbody>\n",
       "    <tr>\n",
       "      <th>О.Степченко</th>\n",
       "      <td>333</td>\n",
       "      <td>2305</td>\n",
       "      <td>-1971</td>\n",
       "    </tr>\n",
       "    <tr>\n",
       "      <th>Ф.Бондарчук</th>\n",
       "      <td>0</td>\n",
       "      <td>944</td>\n",
       "      <td>-944</td>\n",
       "    </tr>\n",
       "    <tr>\n",
       "      <th>А.Михалков (псевдоним А.Кончаловский)</th>\n",
       "      <td>54</td>\n",
       "      <td>779</td>\n",
       "      <td>-725</td>\n",
       "    </tr>\n",
       "    <tr>\n",
       "      <th>А.Учитель</th>\n",
       "      <td>511</td>\n",
       "      <td>1032</td>\n",
       "      <td>-521</td>\n",
       "    </tr>\n",
       "    <tr>\n",
       "      <th>Р.Давлетьяров</th>\n",
       "      <td>50</td>\n",
       "      <td>549</td>\n",
       "      <td>-499</td>\n",
       "    </tr>\n",
       "  </tbody>\n",
       "</table>\n",
       "</div>"
      ],
      "text/plain": [
       "                                      box_office budget  loss\n",
       "                                             sum    sum      \n",
       "main_director                                                \n",
       "О.Степченко                                  333   2305 -1971\n",
       " Ф.Бондарчук                                   0    944  -944\n",
       "А.Михалков (псевдоним А.Кончаловский)         54    779  -725\n",
       "А.Учитель                                    511   1032  -521\n",
       "Р.Давлетьяров                                 50    549  -499"
      ]
     },
     "metadata": {},
     "output_type": "display_data"
    }
   ],
   "source": [
    "top5_loss_main_director = df.loc[(df['budget'] > df['box_office']) & (df['budget'] >0)] \\\n",
    ".groupby('main_director')[['box_office', 'budget']].agg(['sum'])\n",
    "top5_loss_main_director['loss'] = top5_loss_main_director['box_office', 'sum'] - top5_loss_main_director['budget', 'sum']\n",
    "\n",
    "display(top5_loss_main_director.sort_values(by=('loss', ''), ascending=True).astype('int').head())"
   ]
  },
  {
   "cell_type": "markdown",
   "metadata": {},
   "source": [
    "Топ-5 режисеров получивших максимальные убытки, обратим внимание на Р.Давлетьярова который 4 раза получал поддержку, стоит задуматься о предоставлении ему поддержки в пятый раз"
   ]
  },
  {
   "cell_type": "code",
   "execution_count": 51,
   "metadata": {},
   "outputs": [
    {
     "data": {
      "text/html": [
       "<div>\n",
       "<style scoped>\n",
       "    .dataframe tbody tr th:only-of-type {\n",
       "        vertical-align: middle;\n",
       "    }\n",
       "\n",
       "    .dataframe tbody tr th {\n",
       "        vertical-align: top;\n",
       "    }\n",
       "\n",
       "    .dataframe thead tr th {\n",
       "        text-align: left;\n",
       "    }\n",
       "\n",
       "    .dataframe thead tr:last-of-type th {\n",
       "        text-align: right;\n",
       "    }\n",
       "</style>\n",
       "<table border=\"1\" class=\"dataframe\">\n",
       "  <thead>\n",
       "    <tr>\n",
       "      <th></th>\n",
       "      <th>box_office</th>\n",
       "      <th>budget</th>\n",
       "      <th>loss</th>\n",
       "    </tr>\n",
       "    <tr>\n",
       "      <th></th>\n",
       "      <th>sum</th>\n",
       "      <th>sum</th>\n",
       "      <th></th>\n",
       "    </tr>\n",
       "    <tr>\n",
       "      <th>main_genres</th>\n",
       "      <th></th>\n",
       "      <th></th>\n",
       "      <th></th>\n",
       "    </tr>\n",
       "  </thead>\n",
       "  <tbody>\n",
       "    <tr>\n",
       "      <th>драма</th>\n",
       "      <td>1578</td>\n",
       "      <td>7520</td>\n",
       "      <td>-5941</td>\n",
       "    </tr>\n",
       "    <tr>\n",
       "      <th>комедия</th>\n",
       "      <td>1062</td>\n",
       "      <td>3915</td>\n",
       "      <td>-2853</td>\n",
       "    </tr>\n",
       "    <tr>\n",
       "      <th>мультфильм</th>\n",
       "      <td>1387</td>\n",
       "      <td>3955</td>\n",
       "      <td>-2568</td>\n",
       "    </tr>\n",
       "    <tr>\n",
       "      <th>приключения</th>\n",
       "      <td>661</td>\n",
       "      <td>2846</td>\n",
       "      <td>-2185</td>\n",
       "    </tr>\n",
       "    <tr>\n",
       "      <th>фантастика</th>\n",
       "      <td>475</td>\n",
       "      <td>1993</td>\n",
       "      <td>-1517</td>\n",
       "    </tr>\n",
       "  </tbody>\n",
       "</table>\n",
       "</div>"
      ],
      "text/plain": [
       "            box_office budget  loss\n",
       "                   sum    sum      \n",
       "main_genres                        \n",
       "драма             1578   7520 -5941\n",
       "комедия           1062   3915 -2853\n",
       "мультфильм        1387   3955 -2568\n",
       "приключения        661   2846 -2185\n",
       "фантастика         475   1993 -1517"
      ]
     },
     "metadata": {},
     "output_type": "display_data"
    }
   ],
   "source": [
    "top5_loss_genres = df.loc[(df['budget'] > df['box_office']) & (df['budget'] >0)] \\\n",
    ".groupby('main_genres')[['box_office', 'budget']].agg(['sum'])\n",
    "top5_loss_genres['loss'] = (top5_loss_genres['box_office', 'sum'] - top5_loss_genres['budget', 'sum'])\n",
    "\n",
    "display(top5_loss_genres.sort_values(by=('loss', ''), ascending=True).astype('int').head())"
   ]
  },
  {
   "cell_type": "markdown",
   "metadata": {},
   "source": [
    "Как печально бы это не звучало но убытки максимальны в жанре драма"
   ]
  },
  {
   "cell_type": "markdown",
   "metadata": {
    "id": "V2gYwMcPgFyd"
   },
   "source": [
    "### Шаг 5. Напишите общий вывод"
   ]
  },
  {
   "cell_type": "markdown",
   "metadata": {
    "id": "AYRg3dzXgFye"
   },
   "source": [
    "В этом исследовании мы проанализировали Российский рынок кинопроката и постарались ответить на поставленные вопросы. \n",
    "\n",
    "Наш анализ начался с ознакомления с двумя датасетами, первый содержал общую информацию о фильмах а второй информацию о номерах прокатных удостоверений кинотеатров и сумму кассовых сборов. Мы соединили вышеуказанные датасеты по колонке номера прокатного удостоверения для дальнейшего анализа. Затем мы проверили наш датасет на явные дубликаты и не явные дубликаты, привели данные к нужным нам типам, добавили расчетные колонки, обработали категоральные столбцы. \n",
    "\n",
    "Проведя исследовательский анализ данных мы проанализировали количество фильмов которые выходили в прокат в период с 2011 - 2019 гг. заметили снижение количества кинокартин в 2017 гг. Мы увидели что доля фильмов с указанной информацией о прокате в кинотеатрах неуклонно растет, также нам удалось выяснить что период с 2015 - 2019 гг. эта доля представленна наиболее подробно.\n",
    "\n",
    "\n",
    "Также нам удалось установить что в 2015 году сумма сумма кассовх сборов была максимальной, а в 2018 году сумма кассовых сборов была максимальной. С помощью сводной таблицы мы посчитали среднюю и медианную сумму сборов для каждого года а также пришли к выводу что медианные и средние значения в целом следуют за динамикой полного годового финансирования. \n",
    "\n",
    "Нам удалось узнать что каждое возрастное ограничение имеет свою нищу кассовых сборов и влияет на сумму сборов фильма и фильмы с возрастным ограничением 16+ собрали больше всего денег в прокате.\n",
    "\n",
    "На последок мы установили что: самый распростараненный жанр он же получающий максимальную господдержку - драма, драма также является самым убыточным жанром, каким жанрам чаще выделяют поддержку, студиям и режиссерам и посчитали общий убыток.\n",
    "\n",
    "Подводя итоги исследования хочется добавить что в 2016-2017 года происходит становление Российский рынка кинопроката, 2016г. является кризисным для Российского кинематографа, в этом году вышло очень мало интересных картин, в тоже время с этого года изменилось отношение правительства к иностранным фильмам - на рынке решили ограничить кинопоказы зарубежных фильмов, сначала рынок отреагировал а это падением но в последующих годах восстановился и даже стал расти: как в отношении среднего рейтинга так и отношении кассовых сборов.\n"
   ]
  }
 ],
 "metadata": {
  "ExecuteTimeLog": [
   {
    "duration": 537,
    "start_time": "2021-07-07T10:12:08.634Z"
   },
   {
    "duration": 206,
    "start_time": "2021-07-07T10:12:30.191Z"
   },
   {
    "duration": 227,
    "start_time": "2021-07-07T10:12:33.078Z"
   },
   {
    "duration": 153,
    "start_time": "2021-07-07T10:13:42.146Z"
   },
   {
    "duration": 233,
    "start_time": "2021-07-07T10:30:09.252Z"
   },
   {
    "duration": 19,
    "start_time": "2021-07-07T10:30:15.577Z"
   },
   {
    "duration": 18,
    "start_time": "2021-07-07T10:30:57.348Z"
   },
   {
    "duration": 19,
    "start_time": "2021-07-07T10:31:17.452Z"
   },
   {
    "duration": 21,
    "start_time": "2021-07-07T10:31:32.227Z"
   },
   {
    "duration": 27,
    "start_time": "2021-07-07T10:32:06.588Z"
   },
   {
    "duration": 23,
    "start_time": "2021-07-07T10:32:43.645Z"
   },
   {
    "duration": 24,
    "start_time": "2021-07-07T10:33:06.948Z"
   },
   {
    "duration": 7,
    "start_time": "2021-07-07T10:33:28.558Z"
   },
   {
    "duration": 23,
    "start_time": "2021-07-07T10:33:43.761Z"
   },
   {
    "duration": 28,
    "start_time": "2021-07-07T10:34:13.466Z"
   },
   {
    "duration": 23,
    "start_time": "2021-07-07T10:35:56.187Z"
   },
   {
    "duration": 6,
    "start_time": "2021-07-07T10:36:48.182Z"
   },
   {
    "duration": 14,
    "start_time": "2021-07-07T10:37:49.641Z"
   },
   {
    "duration": 6,
    "start_time": "2021-07-07T10:38:06.694Z"
   },
   {
    "duration": 6,
    "start_time": "2021-07-07T10:38:13.493Z"
   },
   {
    "duration": 19,
    "start_time": "2021-07-07T10:38:44.056Z"
   },
   {
    "duration": 186,
    "start_time": "2021-07-07T10:48:35.618Z"
   },
   {
    "duration": 24,
    "start_time": "2021-07-07T10:48:51.498Z"
   },
   {
    "duration": 20,
    "start_time": "2021-07-07T10:48:59.415Z"
   },
   {
    "duration": 20,
    "start_time": "2021-07-07T10:53:02.195Z"
   },
   {
    "duration": 188,
    "start_time": "2021-07-07T10:54:40.486Z"
   },
   {
    "duration": 115,
    "start_time": "2021-07-07T10:54:52.552Z"
   },
   {
    "duration": 214,
    "start_time": "2021-07-07T10:54:56.354Z"
   },
   {
    "duration": 47,
    "start_time": "2021-07-07T10:54:58.282Z"
   },
   {
    "duration": 217,
    "start_time": "2021-07-07T10:59:16.075Z"
   },
   {
    "duration": 51,
    "start_time": "2021-07-07T10:59:16.243Z"
   },
   {
    "duration": 578,
    "start_time": "2021-07-07T10:59:18.774Z"
   },
   {
    "duration": 161,
    "start_time": "2021-07-07T10:59:21.238Z"
   },
   {
    "duration": 59,
    "start_time": "2021-07-07T10:59:21.453Z"
   },
   {
    "duration": 3,
    "start_time": "2021-07-07T11:02:10.786Z"
   },
   {
    "duration": 13,
    "start_time": "2021-07-07T11:07:07.722Z"
   },
   {
    "duration": 26,
    "start_time": "2021-07-07T11:07:17.958Z"
   },
   {
    "duration": 22,
    "start_time": "2021-07-07T11:08:17.939Z"
   },
   {
    "duration": 212,
    "start_time": "2021-07-07T11:08:19.665Z"
   },
   {
    "duration": 21,
    "start_time": "2021-07-07T11:08:29.945Z"
   },
   {
    "duration": 31,
    "start_time": "2021-07-07T11:08:38.899Z"
   },
   {
    "duration": 23,
    "start_time": "2021-07-07T11:08:54.527Z"
   },
   {
    "duration": 8,
    "start_time": "2021-07-07T11:18:55.974Z"
   },
   {
    "duration": 7,
    "start_time": "2021-07-07T11:19:03.639Z"
   },
   {
    "duration": 7,
    "start_time": "2021-07-07T11:19:06.444Z"
   },
   {
    "duration": 578,
    "start_time": "2021-07-07T12:09:59.576Z"
   },
   {
    "duration": 195,
    "start_time": "2021-07-07T12:10:00.156Z"
   },
   {
    "duration": 115,
    "start_time": "2021-07-07T12:10:00.353Z"
   },
   {
    "duration": 3,
    "start_time": "2021-07-07T12:10:00.470Z"
   },
   {
    "duration": 32,
    "start_time": "2021-07-07T12:10:00.474Z"
   },
   {
    "duration": 23,
    "start_time": "2021-07-07T12:10:00.508Z"
   },
   {
    "duration": 19,
    "start_time": "2021-07-07T12:10:00.533Z"
   },
   {
    "duration": 44,
    "start_time": "2021-07-07T12:10:00.553Z"
   },
   {
    "duration": 7,
    "start_time": "2021-07-07T12:10:00.600Z"
   },
   {
    "duration": 7,
    "start_time": "2021-07-07T12:19:45.761Z"
   },
   {
    "duration": 21,
    "start_time": "2021-07-07T12:21:35.482Z"
   },
   {
    "duration": 21,
    "start_time": "2021-07-07T12:29:23.569Z"
   },
   {
    "duration": 525,
    "start_time": "2021-07-07T12:29:44.542Z"
   },
   {
    "duration": 214,
    "start_time": "2021-07-07T12:29:45.069Z"
   },
   {
    "duration": 92,
    "start_time": "2021-07-07T12:29:45.285Z"
   },
   {
    "duration": 3,
    "start_time": "2021-07-07T12:29:45.379Z"
   },
   {
    "duration": 28,
    "start_time": "2021-07-07T12:29:45.384Z"
   },
   {
    "duration": 23,
    "start_time": "2021-07-07T12:29:45.413Z"
   },
   {
    "duration": 21,
    "start_time": "2021-07-07T12:29:45.437Z"
   },
   {
    "duration": 41,
    "start_time": "2021-07-07T12:29:45.460Z"
   },
   {
    "duration": 7,
    "start_time": "2021-07-07T12:29:45.502Z"
   },
   {
    "duration": 20,
    "start_time": "2021-07-07T12:29:45.511Z"
   },
   {
    "duration": 12,
    "start_time": "2021-07-07T12:34:02.800Z"
   },
   {
    "duration": 7,
    "start_time": "2021-07-07T12:35:10.479Z"
   },
   {
    "duration": 8,
    "start_time": "2021-07-07T12:35:22.440Z"
   },
   {
    "duration": 6,
    "start_time": "2021-07-07T12:35:35.649Z"
   },
   {
    "duration": 6,
    "start_time": "2021-07-07T12:35:43.107Z"
   },
   {
    "duration": 22,
    "start_time": "2021-07-07T12:38:03.029Z"
   },
   {
    "duration": 10,
    "start_time": "2021-07-07T12:38:06.592Z"
   },
   {
    "duration": 563,
    "start_time": "2021-07-07T12:38:46.493Z"
   },
   {
    "duration": 265,
    "start_time": "2021-07-07T12:38:47.058Z"
   },
   {
    "duration": 94,
    "start_time": "2021-07-07T12:38:47.325Z"
   },
   {
    "duration": 3,
    "start_time": "2021-07-07T12:38:47.422Z"
   },
   {
    "duration": 30,
    "start_time": "2021-07-07T12:38:47.427Z"
   },
   {
    "duration": 16,
    "start_time": "2021-07-07T12:38:53.305Z"
   },
   {
    "duration": 10,
    "start_time": "2021-07-07T12:38:53.499Z"
   },
   {
    "duration": 8,
    "start_time": "2021-07-07T12:39:48.161Z"
   },
   {
    "duration": 27,
    "start_time": "2021-07-07T12:41:17.629Z"
   },
   {
    "duration": 17,
    "start_time": "2021-07-07T12:41:17.867Z"
   },
   {
    "duration": 21,
    "start_time": "2021-07-07T12:41:19.310Z"
   },
   {
    "duration": 7,
    "start_time": "2021-07-07T12:41:19.544Z"
   },
   {
    "duration": 20,
    "start_time": "2021-07-07T12:41:20.504Z"
   },
   {
    "duration": 554,
    "start_time": "2021-07-07T12:56:23.696Z"
   },
   {
    "duration": 200,
    "start_time": "2021-07-07T12:56:25.234Z"
   },
   {
    "duration": 119,
    "start_time": "2021-07-07T12:56:25.480Z"
   },
   {
    "duration": 4,
    "start_time": "2021-07-07T12:56:25.762Z"
   },
   {
    "duration": 26,
    "start_time": "2021-07-07T12:56:27.172Z"
   },
   {
    "duration": 12,
    "start_time": "2021-07-07T12:56:29.051Z"
   },
   {
    "duration": 10,
    "start_time": "2021-07-07T12:56:29.291Z"
   },
   {
    "duration": 8,
    "start_time": "2021-07-07T12:56:29.623Z"
   },
   {
    "duration": 28,
    "start_time": "2021-07-07T12:56:32.137Z"
   },
   {
    "duration": 19,
    "start_time": "2021-07-07T12:56:39.785Z"
   },
   {
    "duration": 20,
    "start_time": "2021-07-07T12:56:44.297Z"
   },
   {
    "duration": 7,
    "start_time": "2021-07-07T12:56:45.392Z"
   },
   {
    "duration": 23,
    "start_time": "2021-07-07T12:56:46.615Z"
   },
   {
    "duration": 4,
    "start_time": "2021-07-07T12:57:06.625Z"
   },
   {
    "duration": 32,
    "start_time": "2021-07-07T12:57:36.690Z"
   },
   {
    "duration": 18,
    "start_time": "2021-07-07T12:58:00.149Z"
   },
   {
    "duration": 15,
    "start_time": "2021-07-07T12:59:16.793Z"
   },
   {
    "duration": 7,
    "start_time": "2021-07-07T13:19:22.624Z"
   },
   {
    "duration": 6,
    "start_time": "2021-07-07T14:17:33.527Z"
   },
   {
    "duration": 9,
    "start_time": "2021-07-07T14:17:48.409Z"
   },
   {
    "duration": 8,
    "start_time": "2021-07-07T14:20:13.060Z"
   },
   {
    "duration": 8,
    "start_time": "2021-07-07T14:20:37.957Z"
   },
   {
    "duration": 8,
    "start_time": "2021-07-07T14:20:47.470Z"
   },
   {
    "duration": 9,
    "start_time": "2021-07-07T14:20:54.503Z"
   },
   {
    "duration": 10,
    "start_time": "2021-07-07T14:28:57.763Z"
   },
   {
    "duration": 3,
    "start_time": "2021-07-07T14:30:23.377Z"
   },
   {
    "duration": 3,
    "start_time": "2021-07-07T14:30:36.489Z"
   },
   {
    "duration": 103,
    "start_time": "2021-07-07T14:30:52.351Z"
   },
   {
    "duration": 8,
    "start_time": "2021-07-07T14:30:54.763Z"
   },
   {
    "duration": 8,
    "start_time": "2021-07-07T14:31:29.301Z"
   },
   {
    "duration": 13,
    "start_time": "2021-07-07T14:31:44.516Z"
   },
   {
    "duration": 7,
    "start_time": "2021-07-07T14:33:10.972Z"
   },
   {
    "duration": 11,
    "start_time": "2021-07-07T14:33:27.780Z"
   },
   {
    "duration": 8,
    "start_time": "2021-07-07T14:34:44.588Z"
   },
   {
    "duration": 57,
    "start_time": "2021-07-07T14:35:59.042Z"
   },
   {
    "duration": 3,
    "start_time": "2021-07-07T14:36:28.168Z"
   },
   {
    "duration": 5,
    "start_time": "2021-07-07T14:36:46.254Z"
   },
   {
    "duration": 4,
    "start_time": "2021-07-07T14:36:52.714Z"
   },
   {
    "duration": 3,
    "start_time": "2021-07-07T14:36:56.612Z"
   },
   {
    "duration": 4,
    "start_time": "2021-07-07T14:36:57.049Z"
   },
   {
    "duration": 3,
    "start_time": "2021-07-07T14:39:21.214Z"
   },
   {
    "duration": 7,
    "start_time": "2021-07-07T14:39:52.406Z"
   },
   {
    "duration": 11,
    "start_time": "2021-07-07T14:39:58.576Z"
   },
   {
    "duration": 9,
    "start_time": "2021-07-07T14:40:26.301Z"
   },
   {
    "duration": 10,
    "start_time": "2021-07-07T14:40:31.704Z"
   },
   {
    "duration": 11,
    "start_time": "2021-07-07T14:40:36.249Z"
   },
   {
    "duration": 10,
    "start_time": "2021-07-07T14:40:39.783Z"
   },
   {
    "duration": 9,
    "start_time": "2021-07-07T14:40:48.558Z"
   },
   {
    "duration": 10,
    "start_time": "2021-07-07T14:40:57.143Z"
   },
   {
    "duration": 9,
    "start_time": "2021-07-07T14:41:06.074Z"
   },
   {
    "duration": 4324,
    "start_time": "2021-07-07T14:41:22.004Z"
   },
   {
    "duration": 11,
    "start_time": "2021-07-07T14:41:33.392Z"
   },
   {
    "duration": 9,
    "start_time": "2021-07-07T14:41:39.288Z"
   },
   {
    "duration": 569,
    "start_time": "2021-07-07T14:42:14.387Z"
   },
   {
    "duration": 197,
    "start_time": "2021-07-07T14:42:14.959Z"
   },
   {
    "duration": 84,
    "start_time": "2021-07-07T14:42:16.052Z"
   },
   {
    "duration": 4,
    "start_time": "2021-07-07T14:42:16.900Z"
   },
   {
    "duration": 27,
    "start_time": "2021-07-07T14:42:19.898Z"
   },
   {
    "duration": 12,
    "start_time": "2021-07-07T14:42:21.577Z"
   },
   {
    "duration": 9,
    "start_time": "2021-07-07T14:42:21.813Z"
   },
   {
    "duration": 9,
    "start_time": "2021-07-07T14:42:22.569Z"
   },
   {
    "duration": 29,
    "start_time": "2021-07-07T14:42:25.837Z"
   },
   {
    "duration": 20,
    "start_time": "2021-07-07T14:42:27.003Z"
   },
   {
    "duration": 21,
    "start_time": "2021-07-07T14:42:28.767Z"
   },
   {
    "duration": 7,
    "start_time": "2021-07-07T14:42:29.838Z"
   },
   {
    "duration": 4,
    "start_time": "2021-07-07T14:43:25.493Z"
   },
   {
    "duration": 7,
    "start_time": "2021-07-07T14:43:26.573Z"
   },
   {
    "duration": 10,
    "start_time": "2021-07-07T14:43:31.639Z"
   },
   {
    "duration": 9,
    "start_time": "2021-07-07T14:43:32.046Z"
   },
   {
    "duration": 10,
    "start_time": "2021-07-07T14:43:33.301Z"
   },
   {
    "duration": 12,
    "start_time": "2021-07-07T14:43:33.658Z"
   },
   {
    "duration": 8,
    "start_time": "2021-07-07T14:43:34.552Z"
   },
   {
    "duration": 9,
    "start_time": "2021-07-07T14:43:35.058Z"
   },
   {
    "duration": 12,
    "start_time": "2021-07-07T14:43:35.914Z"
   },
   {
    "duration": 17,
    "start_time": "2021-07-07T14:45:34.368Z"
   },
   {
    "duration": 512,
    "start_time": "2021-07-07T14:51:58.236Z"
   },
   {
    "duration": 223,
    "start_time": "2021-07-07T14:51:58.750Z"
   },
   {
    "duration": 93,
    "start_time": "2021-07-07T14:51:58.977Z"
   },
   {
    "duration": 4,
    "start_time": "2021-07-07T14:51:59.071Z"
   },
   {
    "duration": 37,
    "start_time": "2021-07-07T14:51:59.077Z"
   },
   {
    "duration": 18,
    "start_time": "2021-07-07T14:51:59.116Z"
   },
   {
    "duration": 10,
    "start_time": "2021-07-07T14:51:59.137Z"
   },
   {
    "duration": 8,
    "start_time": "2021-07-07T14:51:59.149Z"
   },
   {
    "duration": 54,
    "start_time": "2021-07-07T14:51:59.158Z"
   },
   {
    "duration": 18,
    "start_time": "2021-07-07T14:51:59.213Z"
   },
   {
    "duration": 22,
    "start_time": "2021-07-07T14:51:59.232Z"
   },
   {
    "duration": 36,
    "start_time": "2021-07-07T14:51:59.255Z"
   },
   {
    "duration": 7,
    "start_time": "2021-07-07T14:51:59.293Z"
   },
   {
    "duration": 10,
    "start_time": "2021-07-07T14:51:59.302Z"
   },
   {
    "duration": 9,
    "start_time": "2021-07-07T14:51:59.313Z"
   },
   {
    "duration": 11,
    "start_time": "2021-07-07T14:51:59.324Z"
   },
   {
    "duration": 8,
    "start_time": "2021-07-07T14:51:59.337Z"
   },
   {
    "duration": 46,
    "start_time": "2021-07-07T14:51:59.347Z"
   },
   {
    "duration": 22,
    "start_time": "2021-07-07T14:51:59.395Z"
   },
   {
    "duration": 24,
    "start_time": "2021-07-07T14:57:32.911Z"
   },
   {
    "duration": 7,
    "start_time": "2021-07-07T14:58:22.070Z"
   },
   {
    "duration": 4,
    "start_time": "2021-07-07T14:59:11.239Z"
   },
   {
    "duration": 25,
    "start_time": "2021-07-07T15:07:22.208Z"
   },
   {
    "duration": 16,
    "start_time": "2021-07-07T15:08:25.560Z"
   },
   {
    "duration": 15,
    "start_time": "2021-07-07T15:08:40.647Z"
   },
   {
    "duration": 14,
    "start_time": "2021-07-07T15:08:46.669Z"
   },
   {
    "duration": 533,
    "start_time": "2021-07-07T15:18:07.440Z"
   },
   {
    "duration": 173,
    "start_time": "2021-07-07T15:18:07.974Z"
   },
   {
    "duration": 84,
    "start_time": "2021-07-07T15:18:08.149Z"
   },
   {
    "duration": 3,
    "start_time": "2021-07-07T15:18:08.235Z"
   },
   {
    "duration": 30,
    "start_time": "2021-07-07T15:18:08.240Z"
   },
   {
    "duration": 22,
    "start_time": "2021-07-07T15:18:08.272Z"
   },
   {
    "duration": 11,
    "start_time": "2021-07-07T15:18:08.295Z"
   },
   {
    "duration": 11,
    "start_time": "2021-07-07T15:18:08.309Z"
   },
   {
    "duration": 40,
    "start_time": "2021-07-07T15:18:08.322Z"
   },
   {
    "duration": 42,
    "start_time": "2021-07-07T15:18:08.364Z"
   },
   {
    "duration": 22,
    "start_time": "2021-07-07T15:18:08.408Z"
   },
   {
    "duration": 5,
    "start_time": "2021-07-07T15:18:08.432Z"
   },
   {
    "duration": 13,
    "start_time": "2021-07-07T15:18:08.439Z"
   },
   {
    "duration": 9,
    "start_time": "2021-07-07T15:18:08.454Z"
   },
   {
    "duration": 32,
    "start_time": "2021-07-07T15:18:08.465Z"
   },
   {
    "duration": 10,
    "start_time": "2021-07-07T15:18:08.501Z"
   },
   {
    "duration": 7,
    "start_time": "2021-07-07T15:18:08.513Z"
   },
   {
    "duration": 11,
    "start_time": "2021-07-07T15:18:08.521Z"
   },
   {
    "duration": 17,
    "start_time": "2021-07-07T15:18:08.534Z"
   },
   {
    "duration": 44,
    "start_time": "2021-07-07T15:18:08.553Z"
   },
   {
    "duration": 22,
    "start_time": "2021-07-07T15:18:08.599Z"
   },
   {
    "duration": 61,
    "start_time": "2021-07-07T15:18:08.622Z"
   },
   {
    "duration": 7,
    "start_time": "2021-07-07T15:18:39.457Z"
   },
   {
    "duration": 5,
    "start_time": "2021-07-07T16:05:17.020Z"
   },
   {
    "duration": 5,
    "start_time": "2021-07-07T16:51:28.794Z"
   },
   {
    "duration": 546,
    "start_time": "2021-07-07T16:52:26.306Z"
   },
   {
    "duration": 203,
    "start_time": "2021-07-07T16:52:27.523Z"
   },
   {
    "duration": 85,
    "start_time": "2021-07-07T16:52:27.736Z"
   },
   {
    "duration": 4,
    "start_time": "2021-07-07T16:52:27.899Z"
   },
   {
    "duration": 25,
    "start_time": "2021-07-07T16:52:28.674Z"
   },
   {
    "duration": 8,
    "start_time": "2021-07-07T16:52:32.956Z"
   },
   {
    "duration": 18,
    "start_time": "2021-07-07T16:52:35.616Z"
   },
   {
    "duration": 6,
    "start_time": "2021-07-07T16:52:36.913Z"
   },
   {
    "duration": 11,
    "start_time": "2021-07-07T16:52:40.258Z"
   },
   {
    "duration": 10,
    "start_time": "2021-07-07T16:52:46.251Z"
   },
   {
    "duration": 8,
    "start_time": "2021-07-07T16:52:47.182Z"
   },
   {
    "duration": 27,
    "start_time": "2021-07-07T16:53:20.391Z"
   },
   {
    "duration": 20,
    "start_time": "2021-07-07T16:53:22.022Z"
   },
   {
    "duration": 23,
    "start_time": "2021-07-07T16:53:23.690Z"
   },
   {
    "duration": 8,
    "start_time": "2021-07-07T16:53:24.261Z"
   },
   {
    "duration": 4,
    "start_time": "2021-07-07T16:53:38.733Z"
   },
   {
    "duration": 7,
    "start_time": "2021-07-07T16:53:40.445Z"
   },
   {
    "duration": 11,
    "start_time": "2021-07-07T16:53:41.348Z"
   },
   {
    "duration": 13,
    "start_time": "2021-07-07T16:53:45.250Z"
   },
   {
    "duration": 12,
    "start_time": "2021-07-07T16:53:45.467Z"
   },
   {
    "duration": 4,
    "start_time": "2021-07-07T16:55:32.704Z"
   },
   {
    "duration": 12,
    "start_time": "2021-07-07T16:55:49.012Z"
   },
   {
    "duration": 18,
    "start_time": "2021-07-07T16:55:49.547Z"
   },
   {
    "duration": 611,
    "start_time": "2021-07-07T16:58:35.156Z"
   },
   {
    "duration": 200,
    "start_time": "2021-07-07T16:58:35.770Z"
   },
   {
    "duration": 86,
    "start_time": "2021-07-07T16:58:35.972Z"
   },
   {
    "duration": 3,
    "start_time": "2021-07-07T16:58:36.060Z"
   },
   {
    "duration": 27,
    "start_time": "2021-07-07T16:58:36.065Z"
   },
   {
    "duration": 8,
    "start_time": "2021-07-07T16:58:36.094Z"
   },
   {
    "duration": 17,
    "start_time": "2021-07-07T16:58:36.103Z"
   },
   {
    "duration": 5,
    "start_time": "2021-07-07T16:58:36.123Z"
   },
   {
    "duration": 11,
    "start_time": "2021-07-07T16:58:36.130Z"
   },
   {
    "duration": 7,
    "start_time": "2021-07-07T16:58:36.143Z"
   },
   {
    "duration": 37,
    "start_time": "2021-07-07T16:58:36.152Z"
   },
   {
    "duration": 27,
    "start_time": "2021-07-07T16:58:36.191Z"
   },
   {
    "duration": 19,
    "start_time": "2021-07-07T16:58:36.219Z"
   },
   {
    "duration": 49,
    "start_time": "2021-07-07T16:58:36.240Z"
   },
   {
    "duration": 6,
    "start_time": "2021-07-07T16:58:36.291Z"
   },
   {
    "duration": 3,
    "start_time": "2021-07-07T16:58:36.299Z"
   },
   {
    "duration": 13,
    "start_time": "2021-07-07T16:58:36.304Z"
   },
   {
    "duration": 10,
    "start_time": "2021-07-07T16:58:36.319Z"
   },
   {
    "duration": 10,
    "start_time": "2021-07-07T16:58:36.331Z"
   },
   {
    "duration": 44,
    "start_time": "2021-07-07T16:58:36.343Z"
   },
   {
    "duration": 4,
    "start_time": "2021-07-07T16:58:36.388Z"
   },
   {
    "duration": 13,
    "start_time": "2021-07-07T16:58:36.394Z"
   },
   {
    "duration": 16,
    "start_time": "2021-07-07T16:58:36.410Z"
   },
   {
    "duration": 8,
    "start_time": "2021-07-07T17:02:31.629Z"
   },
   {
    "duration": 8,
    "start_time": "2021-07-07T17:02:34.308Z"
   },
   {
    "duration": 6,
    "start_time": "2021-07-07T17:05:13.483Z"
   },
   {
    "duration": 17,
    "start_time": "2021-07-07T17:05:20.606Z"
   },
   {
    "duration": 7,
    "start_time": "2021-07-07T17:05:34.638Z"
   },
   {
    "duration": 3,
    "start_time": "2021-07-07T17:06:31.883Z"
   },
   {
    "duration": 570,
    "start_time": "2021-07-07T17:06:37.165Z"
   },
   {
    "duration": 174,
    "start_time": "2021-07-07T17:06:37.737Z"
   },
   {
    "duration": 47,
    "start_time": "2021-07-07T17:06:37.913Z"
   },
   {
    "duration": 3,
    "start_time": "2021-07-07T17:06:37.962Z"
   },
   {
    "duration": 27,
    "start_time": "2021-07-07T17:06:37.967Z"
   },
   {
    "duration": 7,
    "start_time": "2021-07-07T17:06:37.996Z"
   },
   {
    "duration": 16,
    "start_time": "2021-07-07T17:06:38.005Z"
   },
   {
    "duration": 6,
    "start_time": "2021-07-07T17:06:38.024Z"
   },
   {
    "duration": 12,
    "start_time": "2021-07-07T17:06:38.031Z"
   },
   {
    "duration": 41,
    "start_time": "2021-07-07T17:06:38.045Z"
   },
   {
    "duration": 8,
    "start_time": "2021-07-07T17:06:38.088Z"
   },
   {
    "duration": 26,
    "start_time": "2021-07-07T17:06:38.098Z"
   },
   {
    "duration": 17,
    "start_time": "2021-07-07T17:06:38.126Z"
   },
   {
    "duration": 43,
    "start_time": "2021-07-07T17:06:38.144Z"
   },
   {
    "duration": 6,
    "start_time": "2021-07-07T17:06:38.188Z"
   },
   {
    "duration": 5,
    "start_time": "2021-07-07T17:06:38.195Z"
   },
   {
    "duration": 9,
    "start_time": "2021-07-07T17:06:38.201Z"
   },
   {
    "duration": 12,
    "start_time": "2021-07-07T17:06:38.212Z"
   },
   {
    "duration": 11,
    "start_time": "2021-07-07T17:06:38.226Z"
   },
   {
    "duration": 47,
    "start_time": "2021-07-07T17:06:38.239Z"
   },
   {
    "duration": 4,
    "start_time": "2021-07-07T17:06:38.288Z"
   },
   {
    "duration": 13,
    "start_time": "2021-07-07T17:06:38.293Z"
   },
   {
    "duration": 5,
    "start_time": "2021-07-07T17:06:38.309Z"
   },
   {
    "duration": 18,
    "start_time": "2021-07-07T17:06:38.325Z"
   },
   {
    "duration": 20,
    "start_time": "2021-07-07T17:07:02.805Z"
   },
   {
    "duration": 19,
    "start_time": "2021-07-07T17:07:08.527Z"
   },
   {
    "duration": 19,
    "start_time": "2021-07-07T17:07:12.758Z"
   },
   {
    "duration": 22,
    "start_time": "2021-07-07T17:07:17.497Z"
   },
   {
    "duration": 19,
    "start_time": "2021-07-07T17:07:19.645Z"
   },
   {
    "duration": 10,
    "start_time": "2021-07-07T17:07:34.239Z"
   },
   {
    "duration": 17,
    "start_time": "2021-07-07T17:07:54.144Z"
   },
   {
    "duration": 14,
    "start_time": "2021-07-07T17:08:14.357Z"
   },
   {
    "duration": 616,
    "start_time": "2021-07-07T17:08:45.254Z"
   },
   {
    "duration": 178,
    "start_time": "2021-07-07T17:08:45.872Z"
   },
   {
    "duration": 60,
    "start_time": "2021-07-07T17:08:46.054Z"
   },
   {
    "duration": 3,
    "start_time": "2021-07-07T17:08:46.116Z"
   },
   {
    "duration": 26,
    "start_time": "2021-07-07T17:08:46.121Z"
   },
   {
    "duration": 7,
    "start_time": "2021-07-07T17:08:46.149Z"
   },
   {
    "duration": 17,
    "start_time": "2021-07-07T17:08:46.158Z"
   },
   {
    "duration": 14,
    "start_time": "2021-07-07T17:08:46.176Z"
   },
   {
    "duration": 17,
    "start_time": "2021-07-07T17:08:46.193Z"
   },
   {
    "duration": 9,
    "start_time": "2021-07-07T17:08:46.211Z"
   },
   {
    "duration": 21,
    "start_time": "2021-07-07T17:08:46.221Z"
   },
   {
    "duration": 49,
    "start_time": "2021-07-07T17:08:46.244Z"
   },
   {
    "duration": 24,
    "start_time": "2021-07-07T17:08:46.295Z"
   },
   {
    "duration": 22,
    "start_time": "2021-07-07T17:08:46.321Z"
   },
   {
    "duration": 6,
    "start_time": "2021-07-07T17:08:46.345Z"
   },
   {
    "duration": 5,
    "start_time": "2021-07-07T17:08:46.353Z"
   },
   {
    "duration": 13,
    "start_time": "2021-07-07T17:08:46.386Z"
   },
   {
    "duration": 12,
    "start_time": "2021-07-07T17:08:46.402Z"
   },
   {
    "duration": 10,
    "start_time": "2021-07-07T17:08:46.415Z"
   },
   {
    "duration": 7,
    "start_time": "2021-07-07T17:08:46.427Z"
   },
   {
    "duration": 8,
    "start_time": "2021-07-07T17:08:46.435Z"
   },
   {
    "duration": 68,
    "start_time": "2021-07-07T17:08:46.446Z"
   },
   {
    "duration": 13,
    "start_time": "2021-07-07T17:08:46.516Z"
   },
   {
    "duration": 78,
    "start_time": "2021-07-07T17:08:46.530Z"
   },
   {
    "duration": 40,
    "start_time": "2021-07-07T17:09:08.185Z"
   },
   {
    "duration": 16,
    "start_time": "2021-07-07T17:09:19.324Z"
   },
   {
    "duration": 21,
    "start_time": "2021-07-07T17:09:23.290Z"
   },
   {
    "duration": 13,
    "start_time": "2021-07-07T17:09:54.812Z"
   },
   {
    "duration": 13,
    "start_time": "2021-07-07T17:10:02.039Z"
   },
   {
    "duration": 10,
    "start_time": "2021-07-07T17:10:29.632Z"
   },
   {
    "duration": 13,
    "start_time": "2021-07-07T17:10:52.372Z"
   },
   {
    "duration": 13,
    "start_time": "2021-07-07T17:11:17.270Z"
   },
   {
    "duration": 13,
    "start_time": "2021-07-07T17:14:59.284Z"
   },
   {
    "duration": 547,
    "start_time": "2021-07-07T17:18:52.403Z"
   },
   {
    "duration": 163,
    "start_time": "2021-07-07T17:18:52.952Z"
   },
   {
    "duration": 44,
    "start_time": "2021-07-07T17:18:53.117Z"
   },
   {
    "duration": 3,
    "start_time": "2021-07-07T17:18:53.162Z"
   },
   {
    "duration": 26,
    "start_time": "2021-07-07T17:18:53.167Z"
   },
   {
    "duration": 6,
    "start_time": "2021-07-07T17:18:53.195Z"
   },
   {
    "duration": 15,
    "start_time": "2021-07-07T17:18:53.203Z"
   },
   {
    "duration": 5,
    "start_time": "2021-07-07T17:18:53.220Z"
   },
   {
    "duration": 11,
    "start_time": "2021-07-07T17:18:53.228Z"
   },
   {
    "duration": 9,
    "start_time": "2021-07-07T17:18:53.241Z"
   },
   {
    "duration": 41,
    "start_time": "2021-07-07T17:18:53.252Z"
   },
   {
    "duration": 33,
    "start_time": "2021-07-07T17:18:53.295Z"
   },
   {
    "duration": 19,
    "start_time": "2021-07-07T17:18:53.330Z"
   },
   {
    "duration": 49,
    "start_time": "2021-07-07T17:18:53.350Z"
   },
   {
    "duration": 5,
    "start_time": "2021-07-07T17:18:53.401Z"
   },
   {
    "duration": 5,
    "start_time": "2021-07-07T17:18:53.408Z"
   },
   {
    "duration": 11,
    "start_time": "2021-07-07T17:18:53.414Z"
   },
   {
    "duration": 9,
    "start_time": "2021-07-07T17:18:53.427Z"
   },
   {
    "duration": 10,
    "start_time": "2021-07-07T17:18:53.437Z"
   },
   {
    "duration": 39,
    "start_time": "2021-07-07T17:18:53.448Z"
   },
   {
    "duration": 26,
    "start_time": "2021-07-07T17:18:55.799Z"
   },
   {
    "duration": 598,
    "start_time": "2021-07-07T17:20:17.862Z"
   },
   {
    "duration": 161,
    "start_time": "2021-07-07T17:20:18.462Z"
   },
   {
    "duration": 45,
    "start_time": "2021-07-07T17:20:18.626Z"
   },
   {
    "duration": 4,
    "start_time": "2021-07-07T17:20:18.673Z"
   },
   {
    "duration": 38,
    "start_time": "2021-07-07T17:20:26.877Z"
   },
   {
    "duration": 7,
    "start_time": "2021-07-07T17:20:37.405Z"
   },
   {
    "duration": 19,
    "start_time": "2021-07-07T17:20:51.534Z"
   },
   {
    "duration": 5,
    "start_time": "2021-07-07T17:20:57.228Z"
   },
   {
    "duration": 7,
    "start_time": "2021-07-07T17:21:08.235Z"
   },
   {
    "duration": 19,
    "start_time": "2021-07-07T17:21:42.158Z"
   },
   {
    "duration": 14,
    "start_time": "2021-07-07T17:21:50.225Z"
   },
   {
    "duration": 22,
    "start_time": "2021-07-07T17:22:54.104Z"
   },
   {
    "duration": 5,
    "start_time": "2021-07-07T17:22:56.371Z"
   },
   {
    "duration": 14,
    "start_time": "2021-07-07T17:22:58.316Z"
   },
   {
    "duration": 5,
    "start_time": "2021-07-07T17:22:58.493Z"
   },
   {
    "duration": 35,
    "start_time": "2021-07-07T17:22:59.666Z"
   },
   {
    "duration": 6,
    "start_time": "2021-07-07T17:23:02.410Z"
   },
   {
    "duration": 611,
    "start_time": "2021-07-07T17:24:59.664Z"
   },
   {
    "duration": 178,
    "start_time": "2021-07-07T17:25:01.945Z"
   },
   {
    "duration": 47,
    "start_time": "2021-07-07T17:25:02.125Z"
   },
   {
    "duration": 2,
    "start_time": "2021-07-07T17:25:07.903Z"
   },
   {
    "duration": 254,
    "start_time": "2021-07-07T17:25:08.232Z"
   },
   {
    "duration": 182,
    "start_time": "2021-07-07T17:25:08.671Z"
   },
   {
    "duration": 6,
    "start_time": "2021-07-07T17:25:13.104Z"
   },
   {
    "duration": 36,
    "start_time": "2021-07-07T17:25:13.662Z"
   },
   {
    "duration": 7,
    "start_time": "2021-07-07T17:25:14.528Z"
   },
   {
    "duration": 24,
    "start_time": "2021-07-07T17:25:27.982Z"
   },
   {
    "duration": 3,
    "start_time": "2021-07-07T17:25:48.982Z"
   },
   {
    "duration": 165,
    "start_time": "2021-07-07T17:25:48.987Z"
   },
   {
    "duration": 50,
    "start_time": "2021-07-07T17:25:49.154Z"
   },
   {
    "duration": 4,
    "start_time": "2021-07-07T17:25:49.206Z"
   },
   {
    "duration": 26,
    "start_time": "2021-07-07T17:25:49.212Z"
   },
   {
    "duration": 7,
    "start_time": "2021-07-07T17:25:49.240Z"
   },
   {
    "duration": 16,
    "start_time": "2021-07-07T17:25:49.249Z"
   },
   {
    "duration": 22,
    "start_time": "2021-07-07T17:25:49.266Z"
   },
   {
    "duration": 16,
    "start_time": "2021-07-07T17:25:49.291Z"
   },
   {
    "duration": 9,
    "start_time": "2021-07-07T17:25:49.309Z"
   },
   {
    "duration": 7,
    "start_time": "2021-07-07T17:25:49.319Z"
   },
   {
    "duration": 28,
    "start_time": "2021-07-07T17:25:49.328Z"
   },
   {
    "duration": 44,
    "start_time": "2021-07-07T17:25:49.357Z"
   },
   {
    "duration": 22,
    "start_time": "2021-07-07T17:25:49.403Z"
   },
   {
    "duration": 7,
    "start_time": "2021-07-07T17:25:49.427Z"
   },
   {
    "duration": 3,
    "start_time": "2021-07-07T17:25:49.436Z"
   },
   {
    "duration": 44,
    "start_time": "2021-07-07T17:25:49.441Z"
   },
   {
    "duration": 12,
    "start_time": "2021-07-07T17:25:49.488Z"
   },
   {
    "duration": 13,
    "start_time": "2021-07-07T17:25:49.502Z"
   },
   {
    "duration": 10,
    "start_time": "2021-07-07T17:25:49.516Z"
   },
   {
    "duration": 62,
    "start_time": "2021-07-07T17:25:49.527Z"
   },
   {
    "duration": 26,
    "start_time": "2021-07-07T17:26:51.809Z"
   },
   {
    "duration": 26,
    "start_time": "2021-07-07T17:26:55.759Z"
   },
   {
    "duration": 26,
    "start_time": "2021-07-07T17:27:04.501Z"
   },
   {
    "duration": 25,
    "start_time": "2021-07-07T17:28:24.859Z"
   },
   {
    "duration": 21,
    "start_time": "2021-07-07T17:28:55.250Z"
   },
   {
    "duration": 21,
    "start_time": "2021-07-07T17:28:58.885Z"
   },
   {
    "duration": 7,
    "start_time": "2021-07-07T17:45:40.972Z"
   },
   {
    "duration": 13,
    "start_time": "2021-07-07T17:45:42.529Z"
   },
   {
    "duration": 27,
    "start_time": "2021-07-07T17:45:51.026Z"
   },
   {
    "duration": 518,
    "start_time": "2021-07-07T17:46:15.532Z"
   },
   {
    "duration": 235,
    "start_time": "2021-07-07T17:46:16.053Z"
   },
   {
    "duration": 80,
    "start_time": "2021-07-07T17:46:16.292Z"
   },
   {
    "duration": 5,
    "start_time": "2021-07-07T17:46:16.373Z"
   },
   {
    "duration": 26,
    "start_time": "2021-07-07T17:46:16.380Z"
   },
   {
    "duration": 7,
    "start_time": "2021-07-07T17:46:16.408Z"
   },
   {
    "duration": 16,
    "start_time": "2021-07-07T17:46:16.418Z"
   },
   {
    "duration": 5,
    "start_time": "2021-07-07T17:46:16.436Z"
   },
   {
    "duration": 13,
    "start_time": "2021-07-07T17:46:16.442Z"
   },
   {
    "duration": 35,
    "start_time": "2021-07-07T17:46:16.456Z"
   },
   {
    "duration": 8,
    "start_time": "2021-07-07T17:46:16.493Z"
   },
   {
    "duration": 28,
    "start_time": "2021-07-07T17:46:16.502Z"
   },
   {
    "duration": 17,
    "start_time": "2021-07-07T17:46:16.532Z"
   },
   {
    "duration": 44,
    "start_time": "2021-07-07T17:46:16.551Z"
   },
   {
    "duration": 6,
    "start_time": "2021-07-07T17:46:16.597Z"
   },
   {
    "duration": 4,
    "start_time": "2021-07-07T17:46:16.605Z"
   },
   {
    "duration": 9,
    "start_time": "2021-07-07T17:46:16.610Z"
   },
   {
    "duration": 9,
    "start_time": "2021-07-07T17:46:16.621Z"
   },
   {
    "duration": 10,
    "start_time": "2021-07-07T17:46:16.632Z"
   },
   {
    "duration": 43,
    "start_time": "2021-07-07T17:46:16.644Z"
   },
   {
    "duration": 26,
    "start_time": "2021-07-07T17:46:16.689Z"
   },
   {
    "duration": 19,
    "start_time": "2021-07-07T17:46:16.718Z"
   },
   {
    "duration": 8,
    "start_time": "2021-07-07T17:46:16.738Z"
   },
   {
    "duration": 43,
    "start_time": "2021-07-07T17:46:16.747Z"
   },
   {
    "duration": 19,
    "start_time": "2021-07-07T17:46:16.791Z"
   },
   {
    "duration": 9,
    "start_time": "2021-07-07T17:46:16.812Z"
   },
   {
    "duration": 60,
    "start_time": "2021-07-07T17:46:16.822Z"
   },
   {
    "duration": -8,
    "start_time": "2021-07-07T17:46:16.892Z"
   },
   {
    "duration": 12,
    "start_time": "2021-07-07T17:48:47.707Z"
   },
   {
    "duration": 553,
    "start_time": "2021-07-07T18:10:09.350Z"
   },
   {
    "duration": 230,
    "start_time": "2021-07-07T18:10:09.905Z"
   },
   {
    "duration": 97,
    "start_time": "2021-07-07T18:10:10.137Z"
   },
   {
    "duration": 5,
    "start_time": "2021-07-07T18:10:10.236Z"
   },
   {
    "duration": 29,
    "start_time": "2021-07-07T18:10:10.242Z"
   },
   {
    "duration": 7,
    "start_time": "2021-07-07T18:10:10.272Z"
   },
   {
    "duration": 15,
    "start_time": "2021-07-07T18:10:10.281Z"
   },
   {
    "duration": 4,
    "start_time": "2021-07-07T18:10:10.299Z"
   },
   {
    "duration": 14,
    "start_time": "2021-07-07T18:10:10.305Z"
   },
   {
    "duration": 8,
    "start_time": "2021-07-07T18:10:10.321Z"
   },
   {
    "duration": 8,
    "start_time": "2021-07-07T18:10:10.331Z"
   },
   {
    "duration": 56,
    "start_time": "2021-07-07T18:10:10.341Z"
   },
   {
    "duration": 19,
    "start_time": "2021-07-07T18:10:10.399Z"
   },
   {
    "duration": 23,
    "start_time": "2021-07-07T18:10:10.419Z"
   },
   {
    "duration": 6,
    "start_time": "2021-07-07T18:10:10.444Z"
   },
   {
    "duration": 9,
    "start_time": "2021-07-07T18:10:10.451Z"
   },
   {
    "duration": 30,
    "start_time": "2021-07-07T18:10:10.462Z"
   },
   {
    "duration": 9,
    "start_time": "2021-07-07T18:10:10.494Z"
   },
   {
    "duration": 14,
    "start_time": "2021-07-07T18:10:10.505Z"
   },
   {
    "duration": 7,
    "start_time": "2021-07-07T18:10:10.521Z"
   },
   {
    "duration": 26,
    "start_time": "2021-07-07T18:10:10.530Z"
   },
   {
    "duration": 44,
    "start_time": "2021-07-07T18:10:10.558Z"
   },
   {
    "duration": 7,
    "start_time": "2021-07-07T18:10:10.605Z"
   },
   {
    "duration": 11,
    "start_time": "2021-07-07T18:10:10.614Z"
   },
   {
    "duration": 19,
    "start_time": "2021-07-07T18:10:10.626Z"
   },
   {
    "duration": 44,
    "start_time": "2021-07-07T18:10:10.646Z"
   },
   {
    "duration": 516,
    "start_time": "2021-07-07T18:14:00.826Z"
   },
   {
    "duration": 230,
    "start_time": "2021-07-07T18:14:01.344Z"
   },
   {
    "duration": 105,
    "start_time": "2021-07-07T18:14:01.576Z"
   },
   {
    "duration": 5,
    "start_time": "2021-07-07T18:14:01.683Z"
   },
   {
    "duration": 46,
    "start_time": "2021-07-07T18:14:01.690Z"
   },
   {
    "duration": 7,
    "start_time": "2021-07-07T18:14:01.738Z"
   },
   {
    "duration": 20,
    "start_time": "2021-07-07T18:14:01.747Z"
   },
   {
    "duration": 16,
    "start_time": "2021-07-07T18:14:01.769Z"
   },
   {
    "duration": 14,
    "start_time": "2021-07-07T18:14:01.787Z"
   },
   {
    "duration": 15,
    "start_time": "2021-07-07T18:14:01.803Z"
   },
   {
    "duration": 12,
    "start_time": "2021-07-07T18:14:01.820Z"
   },
   {
    "duration": 35,
    "start_time": "2021-07-07T18:14:01.833Z"
   },
   {
    "duration": 31,
    "start_time": "2021-07-07T18:14:01.869Z"
   },
   {
    "duration": 37,
    "start_time": "2021-07-07T18:14:01.902Z"
   },
   {
    "duration": 8,
    "start_time": "2021-07-07T18:14:01.942Z"
   },
   {
    "duration": 16,
    "start_time": "2021-07-07T18:14:01.952Z"
   },
   {
    "duration": 13,
    "start_time": "2021-07-07T18:14:01.970Z"
   },
   {
    "duration": 32,
    "start_time": "2021-07-07T18:14:01.985Z"
   },
   {
    "duration": 11,
    "start_time": "2021-07-07T18:14:02.019Z"
   },
   {
    "duration": 22,
    "start_time": "2021-07-07T18:14:02.031Z"
   },
   {
    "duration": 27,
    "start_time": "2021-07-07T18:14:02.055Z"
   },
   {
    "duration": 18,
    "start_time": "2021-07-07T18:14:02.084Z"
   },
   {
    "duration": 18,
    "start_time": "2021-07-07T18:14:02.106Z"
   },
   {
    "duration": 11,
    "start_time": "2021-07-07T18:14:02.126Z"
   },
   {
    "duration": 21,
    "start_time": "2021-07-07T18:14:02.138Z"
   },
   {
    "duration": 32,
    "start_time": "2021-07-07T18:14:02.161Z"
   },
   {
    "duration": 28,
    "start_time": "2021-07-07T18:14:44.295Z"
   },
   {
    "duration": 6,
    "start_time": "2021-07-07T18:15:05.834Z"
   },
   {
    "duration": 511,
    "start_time": "2021-07-07T18:15:41.541Z"
   },
   {
    "duration": 183,
    "start_time": "2021-07-07T18:15:42.054Z"
   },
   {
    "duration": 50,
    "start_time": "2021-07-07T18:15:42.239Z"
   },
   {
    "duration": 5,
    "start_time": "2021-07-07T18:15:42.291Z"
   },
   {
    "duration": 48,
    "start_time": "2021-07-07T18:15:42.297Z"
   },
   {
    "duration": 8,
    "start_time": "2021-07-07T18:15:42.346Z"
   },
   {
    "duration": 17,
    "start_time": "2021-07-07T18:15:42.356Z"
   },
   {
    "duration": 15,
    "start_time": "2021-07-07T18:15:42.375Z"
   },
   {
    "duration": 12,
    "start_time": "2021-07-07T18:15:42.392Z"
   },
   {
    "duration": 7,
    "start_time": "2021-07-07T18:15:42.406Z"
   },
   {
    "duration": 7,
    "start_time": "2021-07-07T18:15:42.415Z"
   },
   {
    "duration": 29,
    "start_time": "2021-07-07T18:15:42.423Z"
   },
   {
    "duration": 43,
    "start_time": "2021-07-07T18:15:42.453Z"
   },
   {
    "duration": 18,
    "start_time": "2021-07-07T18:15:42.497Z"
   },
   {
    "duration": 6,
    "start_time": "2021-07-07T18:15:42.516Z"
   },
   {
    "duration": 3,
    "start_time": "2021-07-07T18:15:42.523Z"
   },
   {
    "duration": 18,
    "start_time": "2021-07-07T18:15:42.528Z"
   },
   {
    "duration": 10,
    "start_time": "2021-07-07T18:15:42.547Z"
   },
   {
    "duration": 36,
    "start_time": "2021-07-07T18:15:42.559Z"
   },
   {
    "duration": 8,
    "start_time": "2021-07-07T18:15:42.597Z"
   },
   {
    "duration": 28,
    "start_time": "2021-07-07T18:15:42.606Z"
   },
   {
    "duration": 52,
    "start_time": "2021-07-07T18:15:42.635Z"
   },
   {
    "duration": 7,
    "start_time": "2021-07-07T18:15:42.690Z"
   },
   {
    "duration": 10,
    "start_time": "2021-07-07T18:15:42.699Z"
   },
   {
    "duration": 19,
    "start_time": "2021-07-07T18:15:42.711Z"
   },
   {
    "duration": 9,
    "start_time": "2021-07-07T18:15:42.732Z"
   },
   {
    "duration": 5,
    "start_time": "2021-07-07T18:15:42.743Z"
   },
   {
    "duration": 1450,
    "start_time": "2021-07-07T18:15:51.984Z"
   },
   {
    "duration": 161,
    "start_time": "2021-07-07T18:15:53.435Z"
   },
   {
    "duration": 124,
    "start_time": "2021-07-07T18:15:53.598Z"
   },
   {
    "duration": 5,
    "start_time": "2021-07-07T18:15:53.724Z"
   },
   {
    "duration": 34,
    "start_time": "2021-07-07T18:15:53.730Z"
   },
   {
    "duration": 7,
    "start_time": "2021-07-07T18:15:53.765Z"
   },
   {
    "duration": 15,
    "start_time": "2021-07-07T18:15:53.773Z"
   },
   {
    "duration": 5,
    "start_time": "2021-07-07T18:15:53.791Z"
   },
   {
    "duration": 19,
    "start_time": "2021-07-07T18:15:53.798Z"
   },
   {
    "duration": 9,
    "start_time": "2021-07-07T18:15:53.818Z"
   },
   {
    "duration": 19,
    "start_time": "2021-07-07T18:15:53.828Z"
   },
   {
    "duration": 27,
    "start_time": "2021-07-07T18:15:53.848Z"
   },
   {
    "duration": 16,
    "start_time": "2021-07-07T18:15:53.884Z"
   },
   {
    "duration": 29,
    "start_time": "2021-07-07T18:15:53.901Z"
   },
   {
    "duration": 5,
    "start_time": "2021-07-07T18:15:53.932Z"
   },
   {
    "duration": 15,
    "start_time": "2021-07-07T18:15:53.939Z"
   },
   {
    "duration": 13,
    "start_time": "2021-07-07T18:15:53.956Z"
   },
   {
    "duration": 20,
    "start_time": "2021-07-07T18:15:53.971Z"
   },
   {
    "duration": 14,
    "start_time": "2021-07-07T18:15:53.992Z"
   },
   {
    "duration": 9,
    "start_time": "2021-07-07T18:15:54.009Z"
   },
   {
    "duration": 28,
    "start_time": "2021-07-07T18:15:54.020Z"
   },
   {
    "duration": 50,
    "start_time": "2021-07-07T18:15:54.051Z"
   },
   {
    "duration": 8,
    "start_time": "2021-07-07T18:15:54.105Z"
   },
   {
    "duration": 11,
    "start_time": "2021-07-07T18:15:54.115Z"
   },
   {
    "duration": 20,
    "start_time": "2021-07-07T18:15:54.128Z"
   },
   {
    "duration": 13,
    "start_time": "2021-07-07T18:15:54.184Z"
   },
   {
    "duration": 7,
    "start_time": "2021-07-07T18:15:54.199Z"
   },
   {
    "duration": 7,
    "start_time": "2021-07-07T18:17:08.042Z"
   },
   {
    "duration": 8,
    "start_time": "2021-07-07T18:17:21.008Z"
   },
   {
    "duration": 7,
    "start_time": "2021-07-07T18:17:29.003Z"
   },
   {
    "duration": 8,
    "start_time": "2021-07-07T18:17:32.492Z"
   },
   {
    "duration": 9,
    "start_time": "2021-07-07T18:17:41.758Z"
   },
   {
    "duration": 255,
    "start_time": "2021-07-07T18:20:20.897Z"
   },
   {
    "duration": 173,
    "start_time": "2021-07-07T18:20:26.636Z"
   },
   {
    "duration": 7,
    "start_time": "2021-07-07T18:21:47.164Z"
   },
   {
    "duration": 254,
    "start_time": "2021-07-07T18:23:08.703Z"
   },
   {
    "duration": 21,
    "start_time": "2021-07-07T18:23:22.506Z"
   },
   {
    "duration": 315,
    "start_time": "2021-07-07T18:25:54.801Z"
   },
   {
    "duration": 34,
    "start_time": "2021-07-07T18:26:51.817Z"
   },
   {
    "duration": 327,
    "start_time": "2021-07-07T18:26:56.147Z"
   },
   {
    "duration": 342,
    "start_time": "2021-07-07T18:27:15.887Z"
   },
   {
    "duration": 302,
    "start_time": "2021-07-07T18:28:18.569Z"
   },
   {
    "duration": 226,
    "start_time": "2021-07-07T18:29:20.879Z"
   },
   {
    "duration": 207,
    "start_time": "2021-07-07T18:29:58.114Z"
   },
   {
    "duration": 140,
    "start_time": "2021-07-07T18:32:04.372Z"
   },
   {
    "duration": 158,
    "start_time": "2021-07-07T18:32:32.508Z"
   },
   {
    "duration": 145,
    "start_time": "2021-07-07T18:32:41.365Z"
   },
   {
    "duration": 132,
    "start_time": "2021-07-07T18:32:45.199Z"
   },
   {
    "duration": 11,
    "start_time": "2021-07-07T18:35:24.679Z"
   },
   {
    "duration": 268,
    "start_time": "2021-07-07T18:36:16.145Z"
   },
   {
    "duration": 227,
    "start_time": "2021-07-07T18:37:04.918Z"
   },
   {
    "duration": 3,
    "start_time": "2021-07-07T18:37:33.012Z"
   },
   {
    "duration": 671,
    "start_time": "2021-07-07T18:37:38.295Z"
   },
   {
    "duration": 54,
    "start_time": "2021-07-07T18:37:53.406Z"
   },
   {
    "duration": 631,
    "start_time": "2021-07-07T18:37:56.463Z"
   },
   {
    "duration": 19,
    "start_time": "2021-07-07T18:39:40.535Z"
   },
   {
    "duration": 20,
    "start_time": "2021-07-07T18:40:12.236Z"
   },
   {
    "duration": 633,
    "start_time": "2021-07-07T18:42:00.398Z"
   },
   {
    "duration": 218,
    "start_time": "2021-07-07T18:42:01.033Z"
   },
   {
    "duration": 49,
    "start_time": "2021-07-07T18:42:01.253Z"
   },
   {
    "duration": 5,
    "start_time": "2021-07-07T18:42:01.303Z"
   },
   {
    "duration": 27,
    "start_time": "2021-07-07T18:42:01.310Z"
   },
   {
    "duration": 8,
    "start_time": "2021-07-07T18:42:01.339Z"
   },
   {
    "duration": 20,
    "start_time": "2021-07-07T18:42:01.348Z"
   },
   {
    "duration": 6,
    "start_time": "2021-07-07T18:42:01.386Z"
   },
   {
    "duration": 16,
    "start_time": "2021-07-07T18:42:01.394Z"
   },
   {
    "duration": 9,
    "start_time": "2021-07-07T18:42:01.411Z"
   },
   {
    "duration": 11,
    "start_time": "2021-07-07T18:42:01.421Z"
   },
   {
    "duration": 31,
    "start_time": "2021-07-07T18:42:01.434Z"
   },
   {
    "duration": 18,
    "start_time": "2021-07-07T18:42:01.485Z"
   },
   {
    "duration": 23,
    "start_time": "2021-07-07T18:42:01.505Z"
   },
   {
    "duration": 6,
    "start_time": "2021-07-07T18:42:01.530Z"
   },
   {
    "duration": 10,
    "start_time": "2021-07-07T18:42:01.538Z"
   },
   {
    "duration": 13,
    "start_time": "2021-07-07T18:42:01.550Z"
   },
   {
    "duration": 24,
    "start_time": "2021-07-07T18:42:01.564Z"
   },
   {
    "duration": 20,
    "start_time": "2021-07-07T18:42:01.590Z"
   },
   {
    "duration": 8,
    "start_time": "2021-07-07T18:42:01.611Z"
   },
   {
    "duration": 31,
    "start_time": "2021-07-07T18:42:01.620Z"
   },
   {
    "duration": 39,
    "start_time": "2021-07-07T18:42:01.653Z"
   },
   {
    "duration": 8,
    "start_time": "2021-07-07T18:42:01.696Z"
   },
   {
    "duration": 13,
    "start_time": "2021-07-07T18:42:01.705Z"
   },
   {
    "duration": 20,
    "start_time": "2021-07-07T18:42:01.720Z"
   },
   {
    "duration": 12,
    "start_time": "2021-07-07T18:42:01.741Z"
   },
   {
    "duration": 35,
    "start_time": "2021-07-07T18:42:01.755Z"
   },
   {
    "duration": 14,
    "start_time": "2021-07-07T18:42:01.792Z"
   },
   {
    "duration": 188,
    "start_time": "2021-07-07T18:42:01.808Z"
   },
   {
    "duration": 19,
    "start_time": "2021-07-07T18:42:01.998Z"
   },
   {
    "duration": 175,
    "start_time": "2021-07-07T18:42:02.019Z"
   },
   {
    "duration": 134,
    "start_time": "2021-07-07T18:42:02.196Z"
   },
   {
    "duration": 10,
    "start_time": "2021-07-07T18:42:02.331Z"
   },
   {
    "duration": 19,
    "start_time": "2021-07-07T18:42:02.343Z"
   },
   {
    "duration": 628,
    "start_time": "2021-07-07T18:46:30.701Z"
   },
   {
    "duration": 183,
    "start_time": "2021-07-07T18:46:31.331Z"
   },
   {
    "duration": 48,
    "start_time": "2021-07-07T18:46:31.516Z"
   },
   {
    "duration": 5,
    "start_time": "2021-07-07T18:46:31.566Z"
   },
   {
    "duration": 28,
    "start_time": "2021-07-07T18:46:31.572Z"
   },
   {
    "duration": 8,
    "start_time": "2021-07-07T18:46:31.602Z"
   },
   {
    "duration": 19,
    "start_time": "2021-07-07T18:46:31.611Z"
   },
   {
    "duration": 6,
    "start_time": "2021-07-07T18:46:31.633Z"
   },
   {
    "duration": 17,
    "start_time": "2021-07-07T18:46:31.642Z"
   },
   {
    "duration": 10,
    "start_time": "2021-07-07T18:46:31.684Z"
   },
   {
    "duration": 9,
    "start_time": "2021-07-07T18:46:31.695Z"
   },
   {
    "duration": 28,
    "start_time": "2021-07-07T18:46:31.705Z"
   },
   {
    "duration": 18,
    "start_time": "2021-07-07T18:46:31.735Z"
   },
   {
    "duration": 48,
    "start_time": "2021-07-07T18:46:31.755Z"
   },
   {
    "duration": 6,
    "start_time": "2021-07-07T18:46:31.804Z"
   },
   {
    "duration": 4,
    "start_time": "2021-07-07T18:46:31.812Z"
   },
   {
    "duration": 9,
    "start_time": "2021-07-07T18:46:31.817Z"
   },
   {
    "duration": 10,
    "start_time": "2021-07-07T18:46:31.827Z"
   },
   {
    "duration": 12,
    "start_time": "2021-07-07T18:46:31.838Z"
   },
   {
    "duration": 39,
    "start_time": "2021-07-07T18:46:31.851Z"
   },
   {
    "duration": 24,
    "start_time": "2021-07-07T18:46:31.892Z"
   },
   {
    "duration": 15,
    "start_time": "2021-07-07T18:46:31.918Z"
   },
   {
    "duration": 7,
    "start_time": "2021-07-07T18:46:31.936Z"
   },
   {
    "duration": 8,
    "start_time": "2021-07-07T18:46:31.944Z"
   },
   {
    "duration": 19,
    "start_time": "2021-07-07T18:46:31.984Z"
   },
   {
    "duration": 10,
    "start_time": "2021-07-07T18:46:32.004Z"
   },
   {
    "duration": 5,
    "start_time": "2021-07-07T18:46:32.016Z"
   },
   {
    "duration": 9,
    "start_time": "2021-07-07T18:46:32.023Z"
   },
   {
    "duration": 199,
    "start_time": "2021-07-07T18:46:32.033Z"
   },
   {
    "duration": 19,
    "start_time": "2021-07-07T18:46:32.234Z"
   },
   {
    "duration": 159,
    "start_time": "2021-07-07T18:46:32.255Z"
   },
   {
    "duration": 134,
    "start_time": "2021-07-07T18:46:32.416Z"
   },
   {
    "duration": 10,
    "start_time": "2021-07-07T18:46:32.552Z"
   },
   {
    "duration": 34,
    "start_time": "2021-07-07T18:46:32.563Z"
   },
   {
    "duration": 1039,
    "start_time": "2021-07-08T08:41:09.419Z"
   },
   {
    "duration": 333,
    "start_time": "2021-07-08T08:41:10.459Z"
   },
   {
    "duration": 173,
    "start_time": "2021-07-08T08:41:10.794Z"
   },
   {
    "duration": 5,
    "start_time": "2021-07-08T08:41:10.968Z"
   },
   {
    "duration": 25,
    "start_time": "2021-07-08T08:41:10.975Z"
   },
   {
    "duration": 9,
    "start_time": "2021-07-08T08:41:11.002Z"
   },
   {
    "duration": 18,
    "start_time": "2021-07-08T08:41:11.013Z"
   },
   {
    "duration": 6,
    "start_time": "2021-07-08T08:41:11.033Z"
   },
   {
    "duration": 44,
    "start_time": "2021-07-08T08:41:11.042Z"
   },
   {
    "duration": 10,
    "start_time": "2021-07-08T08:41:11.088Z"
   },
   {
    "duration": 9,
    "start_time": "2021-07-08T08:41:11.100Z"
   },
   {
    "duration": 27,
    "start_time": "2021-07-08T08:41:11.111Z"
   },
   {
    "duration": 46,
    "start_time": "2021-07-08T08:41:11.140Z"
   },
   {
    "duration": 17,
    "start_time": "2021-07-08T08:41:11.187Z"
   },
   {
    "duration": 6,
    "start_time": "2021-07-08T08:41:11.206Z"
   },
   {
    "duration": 5,
    "start_time": "2021-07-08T08:41:11.213Z"
   },
   {
    "duration": 10,
    "start_time": "2021-07-08T08:41:11.219Z"
   },
   {
    "duration": 9,
    "start_time": "2021-07-08T08:41:11.230Z"
   },
   {
    "duration": 45,
    "start_time": "2021-07-08T08:41:11.241Z"
   },
   {
    "duration": 7,
    "start_time": "2021-07-08T08:41:11.287Z"
   },
   {
    "duration": 24,
    "start_time": "2021-07-08T08:41:11.296Z"
   },
   {
    "duration": 16,
    "start_time": "2021-07-08T08:41:11.322Z"
   },
   {
    "duration": 7,
    "start_time": "2021-07-08T08:41:11.341Z"
   },
   {
    "duration": 41,
    "start_time": "2021-07-08T08:41:11.349Z"
   },
   {
    "duration": 17,
    "start_time": "2021-07-08T08:41:11.391Z"
   },
   {
    "duration": 9,
    "start_time": "2021-07-08T08:41:11.410Z"
   },
   {
    "duration": 5,
    "start_time": "2021-07-08T08:41:11.421Z"
   },
   {
    "duration": 6,
    "start_time": "2021-07-08T08:41:11.428Z"
   },
   {
    "duration": 198,
    "start_time": "2021-07-08T08:41:11.435Z"
   },
   {
    "duration": 18,
    "start_time": "2021-07-08T08:41:11.635Z"
   },
   {
    "duration": 155,
    "start_time": "2021-07-08T08:41:11.655Z"
   },
   {
    "duration": 138,
    "start_time": "2021-07-08T08:41:11.811Z"
   },
   {
    "duration": 10,
    "start_time": "2021-07-08T08:41:11.950Z"
   },
   {
    "duration": 29,
    "start_time": "2021-07-08T08:41:11.961Z"
   },
   {
    "duration": 171,
    "start_time": "2021-07-08T08:47:44.522Z"
   },
   {
    "duration": 124,
    "start_time": "2021-07-08T08:47:46.872Z"
   },
   {
    "duration": 191,
    "start_time": "2021-07-08T08:47:58.148Z"
   },
   {
    "duration": 191,
    "start_time": "2021-07-08T08:48:07.412Z"
   },
   {
    "duration": 261,
    "start_time": "2021-07-08T08:48:10.385Z"
   },
   {
    "duration": 255,
    "start_time": "2021-07-08T08:48:14.494Z"
   },
   {
    "duration": 219,
    "start_time": "2021-07-08T08:48:22.752Z"
   },
   {
    "duration": 173,
    "start_time": "2021-07-08T08:49:06.395Z"
   },
   {
    "duration": 180,
    "start_time": "2021-07-08T08:49:21.011Z"
   },
   {
    "duration": 6,
    "start_time": "2021-07-08T08:50:31.697Z"
   },
   {
    "duration": 10,
    "start_time": "2021-07-08T08:50:47.394Z"
   },
   {
    "duration": 11,
    "start_time": "2021-07-08T08:53:49.332Z"
   },
   {
    "duration": 171,
    "start_time": "2021-07-08T08:54:28.408Z"
   },
   {
    "duration": 636,
    "start_time": "2021-07-08T09:02:48.385Z"
   },
   {
    "duration": 227,
    "start_time": "2021-07-08T09:02:49.023Z"
   },
   {
    "duration": 104,
    "start_time": "2021-07-08T09:02:49.252Z"
   },
   {
    "duration": 5,
    "start_time": "2021-07-08T09:02:49.358Z"
   },
   {
    "duration": 27,
    "start_time": "2021-07-08T09:02:49.365Z"
   },
   {
    "duration": 8,
    "start_time": "2021-07-08T09:02:49.394Z"
   },
   {
    "duration": 18,
    "start_time": "2021-07-08T09:02:49.404Z"
   },
   {
    "duration": 6,
    "start_time": "2021-07-08T09:02:49.424Z"
   },
   {
    "duration": 11,
    "start_time": "2021-07-08T09:02:49.433Z"
   },
   {
    "duration": 13,
    "start_time": "2021-07-08T09:02:49.485Z"
   },
   {
    "duration": 9,
    "start_time": "2021-07-08T09:02:49.500Z"
   },
   {
    "duration": 38,
    "start_time": "2021-07-08T09:02:49.511Z"
   },
   {
    "duration": 42,
    "start_time": "2021-07-08T09:02:49.551Z"
   },
   {
    "duration": 21,
    "start_time": "2021-07-08T09:02:49.594Z"
   },
   {
    "duration": 6,
    "start_time": "2021-07-08T09:02:49.616Z"
   },
   {
    "duration": 3,
    "start_time": "2021-07-08T09:02:49.623Z"
   },
   {
    "duration": 9,
    "start_time": "2021-07-08T09:02:49.628Z"
   },
   {
    "duration": 52,
    "start_time": "2021-07-08T09:02:49.638Z"
   },
   {
    "duration": 11,
    "start_time": "2021-07-08T09:02:49.692Z"
   },
   {
    "duration": 8,
    "start_time": "2021-07-08T09:02:49.704Z"
   },
   {
    "duration": 27,
    "start_time": "2021-07-08T09:02:49.713Z"
   },
   {
    "duration": 59,
    "start_time": "2021-07-08T09:02:49.741Z"
   },
   {
    "duration": 8,
    "start_time": "2021-07-08T09:02:49.803Z"
   },
   {
    "duration": 14,
    "start_time": "2021-07-08T09:02:49.813Z"
   },
   {
    "duration": 20,
    "start_time": "2021-07-08T09:02:49.829Z"
   },
   {
    "duration": 44,
    "start_time": "2021-07-08T09:02:49.851Z"
   },
   {
    "duration": 14,
    "start_time": "2021-07-08T09:02:49.896Z"
   },
   {
    "duration": 221,
    "start_time": "2021-07-08T09:02:49.912Z"
   },
   {
    "duration": 6,
    "start_time": "2021-07-08T09:02:50.134Z"
   },
   {
    "duration": 206,
    "start_time": "2021-07-08T09:02:50.142Z"
   },
   {
    "duration": 19,
    "start_time": "2021-07-08T09:02:50.350Z"
   },
   {
    "duration": 21,
    "start_time": "2021-07-08T09:02:50.370Z"
   },
   {
    "duration": 20,
    "start_time": "2021-07-08T09:02:50.393Z"
   },
   {
    "duration": 5,
    "start_time": "2021-07-08T09:02:50.414Z"
   },
   {
    "duration": 5,
    "start_time": "2021-07-08T09:03:34.173Z"
   },
   {
    "duration": 6,
    "start_time": "2021-07-08T09:04:49.062Z"
   },
   {
    "duration": 9,
    "start_time": "2021-07-08T09:04:50.118Z"
   },
   {
    "duration": 14,
    "start_time": "2021-07-08T09:04:58.512Z"
   },
   {
    "duration": 9,
    "start_time": "2021-07-08T09:05:10.988Z"
   },
   {
    "duration": 11,
    "start_time": "2021-07-08T09:05:11.743Z"
   },
   {
    "duration": 7,
    "start_time": "2021-07-08T09:05:25.677Z"
   },
   {
    "duration": 13,
    "start_time": "2021-07-08T09:05:47.189Z"
   },
   {
    "duration": 13,
    "start_time": "2021-07-08T09:05:54.755Z"
   },
   {
    "duration": 4,
    "start_time": "2021-07-08T09:06:29.189Z"
   },
   {
    "duration": 244,
    "start_time": "2021-07-08T09:06:29.195Z"
   },
   {
    "duration": 91,
    "start_time": "2021-07-08T09:06:29.441Z"
   },
   {
    "duration": 4,
    "start_time": "2021-07-08T09:06:29.534Z"
   },
   {
    "duration": 28,
    "start_time": "2021-07-08T09:06:29.540Z"
   },
   {
    "duration": 6,
    "start_time": "2021-07-08T09:06:29.570Z"
   },
   {
    "duration": 18,
    "start_time": "2021-07-08T09:06:29.578Z"
   },
   {
    "duration": 5,
    "start_time": "2021-07-08T09:06:29.597Z"
   },
   {
    "duration": 13,
    "start_time": "2021-07-08T09:06:29.605Z"
   },
   {
    "duration": 8,
    "start_time": "2021-07-08T09:06:29.620Z"
   },
   {
    "duration": 7,
    "start_time": "2021-07-08T09:06:29.630Z"
   },
   {
    "duration": 63,
    "start_time": "2021-07-08T09:06:29.639Z"
   },
   {
    "duration": 17,
    "start_time": "2021-07-08T09:06:29.704Z"
   },
   {
    "duration": 20,
    "start_time": "2021-07-08T09:06:29.723Z"
   },
   {
    "duration": 6,
    "start_time": "2021-07-08T09:06:29.745Z"
   },
   {
    "duration": 3,
    "start_time": "2021-07-08T09:06:29.752Z"
   },
   {
    "duration": 7,
    "start_time": "2021-07-08T09:06:29.785Z"
   },
   {
    "duration": 11,
    "start_time": "2021-07-08T09:06:29.794Z"
   },
   {
    "duration": 15,
    "start_time": "2021-07-08T09:06:29.807Z"
   },
   {
    "duration": 8,
    "start_time": "2021-07-08T09:06:29.823Z"
   },
   {
    "duration": 70,
    "start_time": "2021-07-08T09:06:29.832Z"
   },
   {
    "duration": 17,
    "start_time": "2021-07-08T09:06:29.903Z"
   },
   {
    "duration": 9,
    "start_time": "2021-07-08T09:06:29.921Z"
   },
   {
    "duration": 9,
    "start_time": "2021-07-08T09:06:29.932Z"
   },
   {
    "duration": 57,
    "start_time": "2021-07-08T09:06:29.942Z"
   },
   {
    "duration": 11,
    "start_time": "2021-07-08T09:06:30.001Z"
   },
   {
    "duration": 19,
    "start_time": "2021-07-08T09:06:30.016Z"
   },
   {
    "duration": 217,
    "start_time": "2021-07-08T09:06:30.037Z"
   },
   {
    "duration": 6,
    "start_time": "2021-07-08T09:06:30.255Z"
   },
   {
    "duration": 205,
    "start_time": "2021-07-08T09:06:30.263Z"
   },
   {
    "duration": 27,
    "start_time": "2021-07-08T09:06:30.470Z"
   },
   {
    "duration": 11,
    "start_time": "2021-07-08T09:06:30.500Z"
   },
   {
    "duration": 31,
    "start_time": "2021-07-08T09:06:30.513Z"
   },
   {
    "duration": 18,
    "start_time": "2021-07-08T09:06:30.546Z"
   },
   {
    "duration": 11,
    "start_time": "2021-07-08T09:06:30.566Z"
   },
   {
    "duration": 19,
    "start_time": "2021-07-08T09:06:30.579Z"
   },
   {
    "duration": 20,
    "start_time": "2021-07-08T09:06:49.466Z"
   },
   {
    "duration": 9,
    "start_time": "2021-07-08T09:06:51.994Z"
   },
   {
    "duration": 20,
    "start_time": "2021-07-08T09:06:52.273Z"
   },
   {
    "duration": 246,
    "start_time": "2021-07-08T09:10:21.272Z"
   },
   {
    "duration": 84,
    "start_time": "2021-07-08T09:10:21.436Z"
   },
   {
    "duration": 7,
    "start_time": "2021-07-08T09:10:37.608Z"
   },
   {
    "duration": 189,
    "start_time": "2021-07-08T09:10:38.573Z"
   },
   {
    "duration": 185,
    "start_time": "2021-07-08T09:10:53.181Z"
   },
   {
    "duration": 11,
    "start_time": "2021-07-08T09:10:59.549Z"
   },
   {
    "duration": 42,
    "start_time": "2021-07-08T09:10:59.709Z"
   },
   {
    "duration": 12,
    "start_time": "2021-07-08T09:11:02.857Z"
   },
   {
    "duration": 28,
    "start_time": "2021-07-08T09:11:10.062Z"
   },
   {
    "duration": 249,
    "start_time": "2021-07-08T09:11:37.388Z"
   },
   {
    "duration": 232,
    "start_time": "2021-07-08T09:11:49.485Z"
   },
   {
    "duration": 453,
    "start_time": "2021-07-08T09:12:01.546Z"
   },
   {
    "duration": 440,
    "start_time": "2021-07-08T09:12:12.347Z"
   },
   {
    "duration": 213,
    "start_time": "2021-07-08T09:13:32.196Z"
   },
   {
    "duration": 172,
    "start_time": "2021-07-08T09:14:07.400Z"
   },
   {
    "duration": 185,
    "start_time": "2021-07-08T09:14:14.905Z"
   },
   {
    "duration": 209,
    "start_time": "2021-07-08T09:14:40.109Z"
   },
   {
    "duration": 201,
    "start_time": "2021-07-08T09:14:54.506Z"
   },
   {
    "duration": 622,
    "start_time": "2021-07-08T09:18:14.497Z"
   },
   {
    "duration": 220,
    "start_time": "2021-07-08T09:18:15.121Z"
   },
   {
    "duration": 79,
    "start_time": "2021-07-08T09:18:15.343Z"
   },
   {
    "duration": 4,
    "start_time": "2021-07-08T09:18:15.425Z"
   },
   {
    "duration": 24,
    "start_time": "2021-07-08T09:18:15.431Z"
   },
   {
    "duration": 8,
    "start_time": "2021-07-08T09:18:15.457Z"
   },
   {
    "duration": 16,
    "start_time": "2021-07-08T09:18:15.466Z"
   },
   {
    "duration": 5,
    "start_time": "2021-07-08T09:18:15.484Z"
   },
   {
    "duration": 10,
    "start_time": "2021-07-08T09:18:15.493Z"
   },
   {
    "duration": 8,
    "start_time": "2021-07-08T09:18:15.504Z"
   },
   {
    "duration": 7,
    "start_time": "2021-07-08T09:18:15.513Z"
   },
   {
    "duration": 26,
    "start_time": "2021-07-08T09:18:15.522Z"
   },
   {
    "duration": 49,
    "start_time": "2021-07-08T09:18:15.550Z"
   },
   {
    "duration": 21,
    "start_time": "2021-07-08T09:18:15.601Z"
   },
   {
    "duration": 8,
    "start_time": "2021-07-08T09:18:15.624Z"
   },
   {
    "duration": 3,
    "start_time": "2021-07-08T09:18:15.634Z"
   },
   {
    "duration": 8,
    "start_time": "2021-07-08T09:18:15.639Z"
   },
   {
    "duration": 45,
    "start_time": "2021-07-08T09:18:15.649Z"
   },
   {
    "duration": 13,
    "start_time": "2021-07-08T09:18:15.696Z"
   },
   {
    "duration": 10,
    "start_time": "2021-07-08T09:18:15.711Z"
   },
   {
    "duration": 64,
    "start_time": "2021-07-08T09:18:15.722Z"
   },
   {
    "duration": 19,
    "start_time": "2021-07-08T09:18:15.788Z"
   },
   {
    "duration": 9,
    "start_time": "2021-07-08T09:18:15.809Z"
   },
   {
    "duration": 9,
    "start_time": "2021-07-08T09:18:15.820Z"
   },
   {
    "duration": 18,
    "start_time": "2021-07-08T09:18:15.831Z"
   },
   {
    "duration": 43,
    "start_time": "2021-07-08T09:18:15.851Z"
   },
   {
    "duration": 12,
    "start_time": "2021-07-08T09:18:15.897Z"
   },
   {
    "duration": 219,
    "start_time": "2021-07-08T09:18:15.911Z"
   },
   {
    "duration": 8,
    "start_time": "2021-07-08T09:18:16.132Z"
   },
   {
    "duration": 199,
    "start_time": "2021-07-08T09:18:16.141Z"
   },
   {
    "duration": 18,
    "start_time": "2021-07-08T09:18:16.341Z"
   },
   {
    "duration": 24,
    "start_time": "2021-07-08T09:18:16.361Z"
   },
   {
    "duration": 24,
    "start_time": "2021-07-08T09:18:16.387Z"
   },
   {
    "duration": 211,
    "start_time": "2021-07-08T09:18:16.413Z"
   },
   {
    "duration": 18,
    "start_time": "2021-07-08T09:18:16.626Z"
   },
   {
    "duration": 596,
    "start_time": "2021-07-08T10:06:33.623Z"
   },
   {
    "duration": 181,
    "start_time": "2021-07-08T10:06:34.221Z"
   },
   {
    "duration": 176,
    "start_time": "2021-07-08T10:06:34.635Z"
   },
   {
    "duration": 239,
    "start_time": "2021-07-08T10:06:55.572Z"
   },
   {
    "duration": 6,
    "start_time": "2021-07-08T10:06:57.687Z"
   },
   {
    "duration": 4,
    "start_time": "2021-07-08T10:07:03.956Z"
   },
   {
    "duration": 4,
    "start_time": "2021-07-08T10:07:10.376Z"
   },
   {
    "duration": 4,
    "start_time": "2021-07-08T10:17:19.889Z"
   },
   {
    "duration": 3,
    "start_time": "2021-07-08T10:19:19.407Z"
   },
   {
    "duration": 197,
    "start_time": "2021-07-08T10:19:19.412Z"
   },
   {
    "duration": 127,
    "start_time": "2021-07-08T10:19:19.611Z"
   },
   {
    "duration": 4,
    "start_time": "2021-07-08T10:19:19.740Z"
   },
   {
    "duration": 27,
    "start_time": "2021-07-08T10:19:19.746Z"
   },
   {
    "duration": 7,
    "start_time": "2021-07-08T10:19:19.775Z"
   },
   {
    "duration": 30,
    "start_time": "2021-07-08T10:19:19.784Z"
   },
   {
    "duration": 7,
    "start_time": "2021-07-08T10:19:19.817Z"
   },
   {
    "duration": 26,
    "start_time": "2021-07-08T10:19:19.826Z"
   },
   {
    "duration": 18,
    "start_time": "2021-07-08T10:19:19.854Z"
   },
   {
    "duration": 14,
    "start_time": "2021-07-08T10:19:19.874Z"
   },
   {
    "duration": 48,
    "start_time": "2021-07-08T10:19:19.890Z"
   },
   {
    "duration": 17,
    "start_time": "2021-07-08T10:19:19.940Z"
   },
   {
    "duration": 38,
    "start_time": "2021-07-08T10:19:19.959Z"
   },
   {
    "duration": 8,
    "start_time": "2021-07-08T10:19:19.999Z"
   },
   {
    "duration": 15,
    "start_time": "2021-07-08T10:19:20.009Z"
   },
   {
    "duration": 22,
    "start_time": "2021-07-08T10:19:20.026Z"
   },
   {
    "duration": 10,
    "start_time": "2021-07-08T10:19:20.050Z"
   },
   {
    "duration": 10,
    "start_time": "2021-07-08T10:19:20.062Z"
   },
   {
    "duration": 20,
    "start_time": "2021-07-08T10:19:20.073Z"
   },
   {
    "duration": 29,
    "start_time": "2021-07-08T10:19:20.095Z"
   },
   {
    "duration": 17,
    "start_time": "2021-07-08T10:19:20.126Z"
   },
   {
    "duration": 40,
    "start_time": "2021-07-08T10:19:20.146Z"
   },
   {
    "duration": 15,
    "start_time": "2021-07-08T10:19:20.189Z"
   },
   {
    "duration": 19,
    "start_time": "2021-07-08T10:19:20.206Z"
   },
   {
    "duration": 10,
    "start_time": "2021-07-08T10:19:20.226Z"
   },
   {
    "duration": 11,
    "start_time": "2021-07-08T10:19:20.238Z"
   },
   {
    "duration": 297,
    "start_time": "2021-07-08T10:19:20.250Z"
   },
   {
    "duration": 6,
    "start_time": "2021-07-08T10:19:20.549Z"
   },
   {
    "duration": 191,
    "start_time": "2021-07-08T10:19:20.557Z"
   },
   {
    "duration": 19,
    "start_time": "2021-07-08T10:19:20.750Z"
   },
   {
    "duration": 20,
    "start_time": "2021-07-08T10:19:20.771Z"
   },
   {
    "duration": 15,
    "start_time": "2021-07-08T10:19:20.793Z"
   },
   {
    "duration": 222,
    "start_time": "2021-07-08T10:19:20.809Z"
   },
   {
    "duration": 20,
    "start_time": "2021-07-08T10:19:21.033Z"
   },
   {
    "duration": 27,
    "start_time": "2021-07-08T10:45:04.055Z"
   },
   {
    "duration": 8,
    "start_time": "2021-07-08T10:45:08.478Z"
   },
   {
    "duration": 8,
    "start_time": "2021-07-08T10:45:31.982Z"
   },
   {
    "duration": 10,
    "start_time": "2021-07-08T10:46:01.221Z"
   },
   {
    "duration": 17,
    "start_time": "2021-07-08T10:46:40.011Z"
   },
   {
    "duration": 193,
    "start_time": "2021-07-08T10:48:19.471Z"
   },
   {
    "duration": 225,
    "start_time": "2021-07-08T10:49:26.480Z"
   },
   {
    "duration": 204,
    "start_time": "2021-07-08T10:49:59.992Z"
   },
   {
    "duration": 435,
    "start_time": "2021-07-08T10:50:06.779Z"
   },
   {
    "duration": 199,
    "start_time": "2021-07-08T10:50:14.891Z"
   },
   {
    "duration": 204,
    "start_time": "2021-07-08T10:50:18.501Z"
   },
   {
    "duration": 244,
    "start_time": "2021-07-08T10:50:23.359Z"
   },
   {
    "duration": 192,
    "start_time": "2021-07-08T10:50:29.135Z"
   },
   {
    "duration": 218,
    "start_time": "2021-07-08T10:50:33.092Z"
   },
   {
    "duration": 207,
    "start_time": "2021-07-08T10:52:45.381Z"
   },
   {
    "duration": 5,
    "start_time": "2021-07-08T10:53:34.641Z"
   },
   {
    "duration": 196,
    "start_time": "2021-07-08T10:53:41.478Z"
   },
   {
    "duration": 43,
    "start_time": "2021-07-08T10:53:50.335Z"
   },
   {
    "duration": 32,
    "start_time": "2021-07-08T10:53:55.294Z"
   },
   {
    "duration": 55,
    "start_time": "2021-07-08T10:54:09.675Z"
   },
   {
    "duration": 16,
    "start_time": "2021-07-08T10:54:12.260Z"
   },
   {
    "duration": 15,
    "start_time": "2021-07-08T10:54:49.150Z"
   },
   {
    "duration": 20,
    "start_time": "2021-07-08T10:56:07.596Z"
   },
   {
    "duration": 16,
    "start_time": "2021-07-08T10:58:26.276Z"
   },
   {
    "duration": 22,
    "start_time": "2021-07-08T10:59:00.486Z"
   },
   {
    "duration": 18,
    "start_time": "2021-07-08T11:02:09.653Z"
   },
   {
    "duration": 10,
    "start_time": "2021-07-08T11:03:44.331Z"
   },
   {
    "duration": 10,
    "start_time": "2021-07-08T11:03:54.055Z"
   },
   {
    "duration": 12,
    "start_time": "2021-07-08T11:04:41.967Z"
   },
   {
    "duration": 24,
    "start_time": "2021-07-08T11:07:30.732Z"
   },
   {
    "duration": 6,
    "start_time": "2021-07-08T11:07:37.364Z"
   },
   {
    "duration": 16,
    "start_time": "2021-07-08T11:08:01.819Z"
   },
   {
    "duration": 17,
    "start_time": "2021-07-08T11:09:47.488Z"
   },
   {
    "duration": 246,
    "start_time": "2021-07-08T11:10:00.830Z"
   },
   {
    "duration": 18,
    "start_time": "2021-07-08T11:13:55.195Z"
   },
   {
    "duration": 204,
    "start_time": "2021-07-08T11:14:04.951Z"
   },
   {
    "duration": 19,
    "start_time": "2021-07-08T11:15:10.613Z"
   },
   {
    "duration": 680,
    "start_time": "2021-07-08T11:16:25.793Z"
   },
   {
    "duration": 451,
    "start_time": "2021-07-08T11:16:40.313Z"
   },
   {
    "duration": 469,
    "start_time": "2021-07-08T11:17:21.286Z"
   },
   {
    "duration": 20,
    "start_time": "2021-07-08T11:19:12.554Z"
   },
   {
    "duration": 35,
    "start_time": "2021-07-08T11:20:05.484Z"
   },
   {
    "duration": 53,
    "start_time": "2021-07-08T11:21:40.050Z"
   },
   {
    "duration": 13,
    "start_time": "2021-07-08T11:22:26.059Z"
   },
   {
    "duration": 19,
    "start_time": "2021-07-08T11:22:47.419Z"
   },
   {
    "duration": 25,
    "start_time": "2021-07-08T11:23:19.958Z"
   },
   {
    "duration": 29,
    "start_time": "2021-07-08T11:23:25.415Z"
   },
   {
    "duration": 10,
    "start_time": "2021-07-08T11:24:45.138Z"
   },
   {
    "duration": 19,
    "start_time": "2021-07-08T11:24:54.498Z"
   },
   {
    "duration": 12,
    "start_time": "2021-07-08T11:25:32.225Z"
   },
   {
    "duration": 19,
    "start_time": "2021-07-08T11:25:37.092Z"
   },
   {
    "duration": 17,
    "start_time": "2021-07-08T11:25:58.116Z"
   },
   {
    "duration": 15,
    "start_time": "2021-07-08T11:26:02.258Z"
   },
   {
    "duration": 8,
    "start_time": "2021-07-08T11:26:59.682Z"
   },
   {
    "duration": 184,
    "start_time": "2021-07-08T11:27:21.894Z"
   },
   {
    "duration": 8,
    "start_time": "2021-07-08T11:27:23.824Z"
   },
   {
    "duration": 202,
    "start_time": "2021-07-08T11:27:23.962Z"
   },
   {
    "duration": 360,
    "start_time": "2021-07-08T11:28:33.215Z"
   },
   {
    "duration": 231,
    "start_time": "2021-07-08T11:32:05.542Z"
   },
   {
    "duration": 607,
    "start_time": "2021-07-08T11:36:27.854Z"
   },
   {
    "duration": 241,
    "start_time": "2021-07-08T11:36:28.463Z"
   },
   {
    "duration": 67,
    "start_time": "2021-07-08T11:36:28.709Z"
   },
   {
    "duration": 5,
    "start_time": "2021-07-08T11:36:28.778Z"
   },
   {
    "duration": 32,
    "start_time": "2021-07-08T11:36:28.784Z"
   },
   {
    "duration": 11,
    "start_time": "2021-07-08T11:36:28.819Z"
   },
   {
    "duration": 20,
    "start_time": "2021-07-08T11:36:28.834Z"
   },
   {
    "duration": 36,
    "start_time": "2021-07-08T11:36:28.857Z"
   },
   {
    "duration": 16,
    "start_time": "2021-07-08T11:36:28.895Z"
   },
   {
    "duration": 14,
    "start_time": "2021-07-08T11:36:28.913Z"
   },
   {
    "duration": 9,
    "start_time": "2021-07-08T11:36:28.930Z"
   },
   {
    "duration": 55,
    "start_time": "2021-07-08T11:36:28.941Z"
   },
   {
    "duration": 27,
    "start_time": "2021-07-08T11:36:28.999Z"
   },
   {
    "duration": 30,
    "start_time": "2021-07-08T11:36:29.028Z"
   },
   {
    "duration": 31,
    "start_time": "2021-07-08T11:36:29.060Z"
   },
   {
    "duration": 3,
    "start_time": "2021-07-08T11:36:29.093Z"
   },
   {
    "duration": 12,
    "start_time": "2021-07-08T11:36:29.099Z"
   },
   {
    "duration": 11,
    "start_time": "2021-07-08T11:36:29.112Z"
   },
   {
    "duration": 12,
    "start_time": "2021-07-08T11:36:29.125Z"
   },
   {
    "duration": 9,
    "start_time": "2021-07-08T11:36:29.139Z"
   },
   {
    "duration": 31,
    "start_time": "2021-07-08T11:36:29.191Z"
   },
   {
    "duration": 17,
    "start_time": "2021-07-08T11:36:29.226Z"
   },
   {
    "duration": 7,
    "start_time": "2021-07-08T11:36:29.245Z"
   },
   {
    "duration": 10,
    "start_time": "2021-07-08T11:36:29.254Z"
   },
   {
    "duration": 30,
    "start_time": "2021-07-08T11:36:29.292Z"
   },
   {
    "duration": 11,
    "start_time": "2021-07-08T11:36:29.324Z"
   },
   {
    "duration": 11,
    "start_time": "2021-07-08T11:36:29.337Z"
   },
   {
    "duration": 230,
    "start_time": "2021-07-08T11:36:29.349Z"
   },
   {
    "duration": 13,
    "start_time": "2021-07-08T11:36:29.588Z"
   },
   {
    "duration": 205,
    "start_time": "2021-07-08T11:36:29.603Z"
   },
   {
    "duration": 20,
    "start_time": "2021-07-08T11:36:29.810Z"
   },
   {
    "duration": 9,
    "start_time": "2021-07-08T11:36:29.832Z"
   },
   {
    "duration": 16,
    "start_time": "2021-07-08T11:36:29.843Z"
   },
   {
    "duration": 283,
    "start_time": "2021-07-08T11:36:29.861Z"
   },
   {
    "duration": 50,
    "start_time": "2021-07-08T11:36:30.146Z"
   },
   {
    "duration": 14,
    "start_time": "2021-07-08T11:36:30.198Z"
   },
   {
    "duration": 11,
    "start_time": "2021-07-08T11:36:30.214Z"
   },
   {
    "duration": 245,
    "start_time": "2021-07-08T11:36:30.227Z"
   },
   {
    "duration": 439,
    "start_time": "2021-07-08T11:36:30.474Z"
   },
   {
    "duration": 210,
    "start_time": "2021-07-08T11:36:30.915Z"
   },
   {
    "duration": 15,
    "start_time": "2021-07-08T11:36:31.127Z"
   },
   {
    "duration": 17,
    "start_time": "2021-07-08T11:38:20.451Z"
   },
   {
    "duration": 642,
    "start_time": "2021-07-08T11:46:17.881Z"
   },
   {
    "duration": 210,
    "start_time": "2021-07-08T11:46:18.525Z"
   },
   {
    "duration": 104,
    "start_time": "2021-07-08T11:46:18.741Z"
   },
   {
    "duration": 8,
    "start_time": "2021-07-08T11:46:18.847Z"
   },
   {
    "duration": 25,
    "start_time": "2021-07-08T11:46:18.857Z"
   },
   {
    "duration": 14,
    "start_time": "2021-07-08T11:46:18.884Z"
   },
   {
    "duration": 22,
    "start_time": "2021-07-08T11:46:18.900Z"
   },
   {
    "duration": 5,
    "start_time": "2021-07-08T11:46:18.924Z"
   },
   {
    "duration": 13,
    "start_time": "2021-07-08T11:46:18.931Z"
   },
   {
    "duration": 45,
    "start_time": "2021-07-08T11:46:18.946Z"
   },
   {
    "duration": 12,
    "start_time": "2021-07-08T11:46:18.993Z"
   },
   {
    "duration": 38,
    "start_time": "2021-07-08T11:46:19.006Z"
   },
   {
    "duration": 50,
    "start_time": "2021-07-08T11:46:19.046Z"
   },
   {
    "duration": 29,
    "start_time": "2021-07-08T11:46:19.099Z"
   },
   {
    "duration": 7,
    "start_time": "2021-07-08T11:46:19.130Z"
   },
   {
    "duration": 3,
    "start_time": "2021-07-08T11:46:19.139Z"
   },
   {
    "duration": 11,
    "start_time": "2021-07-08T11:46:19.144Z"
   },
   {
    "duration": 40,
    "start_time": "2021-07-08T11:46:19.157Z"
   },
   {
    "duration": 15,
    "start_time": "2021-07-08T11:46:19.199Z"
   },
   {
    "duration": 10,
    "start_time": "2021-07-08T11:46:19.217Z"
   },
   {
    "duration": 68,
    "start_time": "2021-07-08T11:46:19.230Z"
   },
   {
    "duration": 17,
    "start_time": "2021-07-08T11:46:19.301Z"
   },
   {
    "duration": 7,
    "start_time": "2021-07-08T11:46:19.321Z"
   },
   {
    "duration": 11,
    "start_time": "2021-07-08T11:46:19.330Z"
   },
   {
    "duration": 59,
    "start_time": "2021-07-08T11:46:19.343Z"
   },
   {
    "duration": 17,
    "start_time": "2021-07-08T11:46:19.405Z"
   },
   {
    "duration": 16,
    "start_time": "2021-07-08T11:46:19.424Z"
   },
   {
    "duration": 252,
    "start_time": "2021-07-08T11:46:19.443Z"
   },
   {
    "duration": 9,
    "start_time": "2021-07-08T11:46:19.697Z"
   },
   {
    "duration": 224,
    "start_time": "2021-07-08T11:46:19.708Z"
   },
   {
    "duration": 21,
    "start_time": "2021-07-08T11:46:19.934Z"
   },
   {
    "duration": 9,
    "start_time": "2021-07-08T11:46:19.956Z"
   },
   {
    "duration": 32,
    "start_time": "2021-07-08T11:46:19.967Z"
   },
   {
    "duration": 288,
    "start_time": "2021-07-08T11:46:20.004Z"
   },
   {
    "duration": 23,
    "start_time": "2021-07-08T11:46:20.300Z"
   },
   {
    "duration": 11,
    "start_time": "2021-07-08T11:46:20.325Z"
   },
   {
    "duration": 11,
    "start_time": "2021-07-08T11:46:20.339Z"
   },
   {
    "duration": 259,
    "start_time": "2021-07-08T11:46:20.352Z"
   },
   {
    "duration": 438,
    "start_time": "2021-07-08T11:46:20.613Z"
   },
   {
    "duration": 207,
    "start_time": "2021-07-08T11:46:21.054Z"
   },
   {
    "duration": 27,
    "start_time": "2021-07-08T11:46:21.262Z"
   },
   {
    "duration": 19,
    "start_time": "2021-07-08T11:46:21.291Z"
   },
   {
    "duration": 820,
    "start_time": "2021-07-08T11:49:01.655Z"
   },
   {
    "duration": 372,
    "start_time": "2021-07-08T11:49:02.478Z"
   },
   {
    "duration": 98,
    "start_time": "2021-07-08T11:49:02.853Z"
   },
   {
    "duration": 6,
    "start_time": "2021-07-08T11:49:02.953Z"
   },
   {
    "duration": 39,
    "start_time": "2021-07-08T11:49:02.960Z"
   },
   {
    "duration": 9,
    "start_time": "2021-07-08T11:49:03.003Z"
   },
   {
    "duration": 23,
    "start_time": "2021-07-08T11:49:03.014Z"
   },
   {
    "duration": 6,
    "start_time": "2021-07-08T11:49:03.041Z"
   },
   {
    "duration": 20,
    "start_time": "2021-07-08T11:49:03.049Z"
   },
   {
    "duration": 18,
    "start_time": "2021-07-08T11:49:03.084Z"
   },
   {
    "duration": 14,
    "start_time": "2021-07-08T11:49:03.104Z"
   },
   {
    "duration": 39,
    "start_time": "2021-07-08T11:49:03.119Z"
   },
   {
    "duration": 38,
    "start_time": "2021-07-08T11:49:03.160Z"
   },
   {
    "duration": 26,
    "start_time": "2021-07-08T11:49:03.200Z"
   },
   {
    "duration": 7,
    "start_time": "2021-07-08T11:49:03.227Z"
   },
   {
    "duration": 4,
    "start_time": "2021-07-08T11:49:03.236Z"
   },
   {
    "duration": 15,
    "start_time": "2021-07-08T11:49:03.243Z"
   },
   {
    "duration": 21,
    "start_time": "2021-07-08T11:49:03.285Z"
   },
   {
    "duration": 17,
    "start_time": "2021-07-08T11:49:03.309Z"
   },
   {
    "duration": 10,
    "start_time": "2021-07-08T11:49:03.328Z"
   },
   {
    "duration": 65,
    "start_time": "2021-07-08T11:49:03.340Z"
   },
   {
    "duration": 18,
    "start_time": "2021-07-08T11:49:03.407Z"
   },
   {
    "duration": 8,
    "start_time": "2021-07-08T11:49:03.428Z"
   },
   {
    "duration": 15,
    "start_time": "2021-07-08T11:49:03.438Z"
   },
   {
    "duration": 40,
    "start_time": "2021-07-08T11:49:03.455Z"
   },
   {
    "duration": 12,
    "start_time": "2021-07-08T11:49:03.497Z"
   },
   {
    "duration": 29,
    "start_time": "2021-07-08T11:49:03.511Z"
   },
   {
    "duration": 285,
    "start_time": "2021-07-08T11:49:03.542Z"
   },
   {
    "duration": 8,
    "start_time": "2021-07-08T11:49:03.829Z"
   },
   {
    "duration": 227,
    "start_time": "2021-07-08T11:49:03.838Z"
   },
   {
    "duration": 40,
    "start_time": "2021-07-08T11:49:04.066Z"
   },
   {
    "duration": 10,
    "start_time": "2021-07-08T11:49:04.108Z"
   },
   {
    "duration": 26,
    "start_time": "2021-07-08T11:49:04.121Z"
   },
   {
    "duration": 290,
    "start_time": "2021-07-08T11:49:04.149Z"
   },
   {
    "duration": 26,
    "start_time": "2021-07-08T11:49:04.441Z"
   },
   {
    "duration": 31,
    "start_time": "2021-07-08T11:49:04.470Z"
   },
   {
    "duration": 14,
    "start_time": "2021-07-08T11:49:04.503Z"
   },
   {
    "duration": 259,
    "start_time": "2021-07-08T11:49:04.521Z"
   },
   {
    "duration": 480,
    "start_time": "2021-07-08T11:49:04.782Z"
   },
   {
    "duration": 225,
    "start_time": "2021-07-08T11:49:05.264Z"
   },
   {
    "duration": 22,
    "start_time": "2021-07-08T11:49:05.491Z"
   },
   {
    "duration": 24,
    "start_time": "2021-07-08T11:49:05.515Z"
   },
   {
    "duration": 634,
    "start_time": "2021-07-08T11:52:24.960Z"
   },
   {
    "duration": 199,
    "start_time": "2021-07-08T11:52:25.599Z"
   },
   {
    "duration": 106,
    "start_time": "2021-07-08T11:52:25.803Z"
   },
   {
    "duration": 7,
    "start_time": "2021-07-08T11:52:25.911Z"
   },
   {
    "duration": 29,
    "start_time": "2021-07-08T11:52:25.920Z"
   },
   {
    "duration": 7,
    "start_time": "2021-07-08T11:52:25.951Z"
   },
   {
    "duration": 26,
    "start_time": "2021-07-08T11:52:25.961Z"
   },
   {
    "duration": 11,
    "start_time": "2021-07-08T11:52:25.990Z"
   },
   {
    "duration": 29,
    "start_time": "2021-07-08T11:52:26.005Z"
   },
   {
    "duration": 9,
    "start_time": "2021-07-08T11:52:26.036Z"
   },
   {
    "duration": 8,
    "start_time": "2021-07-08T11:52:26.047Z"
   },
   {
    "duration": 63,
    "start_time": "2021-07-08T11:52:26.057Z"
   },
   {
    "duration": 17,
    "start_time": "2021-07-08T11:52:26.122Z"
   },
   {
    "duration": 43,
    "start_time": "2021-07-08T11:52:26.142Z"
   },
   {
    "duration": 17,
    "start_time": "2021-07-08T11:52:26.187Z"
   },
   {
    "duration": 5,
    "start_time": "2021-07-08T11:52:26.206Z"
   },
   {
    "duration": 12,
    "start_time": "2021-07-08T11:52:26.212Z"
   },
   {
    "duration": 11,
    "start_time": "2021-07-08T11:52:26.226Z"
   },
   {
    "duration": 12,
    "start_time": "2021-07-08T11:52:26.238Z"
   },
   {
    "duration": 38,
    "start_time": "2021-07-08T11:52:26.252Z"
   },
   {
    "duration": 40,
    "start_time": "2021-07-08T11:52:26.292Z"
   },
   {
    "duration": 17,
    "start_time": "2021-07-08T11:52:26.336Z"
   },
   {
    "duration": 39,
    "start_time": "2021-07-08T11:52:26.355Z"
   },
   {
    "duration": 11,
    "start_time": "2021-07-08T11:52:26.395Z"
   },
   {
    "duration": 23,
    "start_time": "2021-07-08T11:52:26.408Z"
   },
   {
    "duration": 12,
    "start_time": "2021-07-08T11:52:26.432Z"
   },
   {
    "duration": 41,
    "start_time": "2021-07-08T11:52:26.446Z"
   },
   {
    "duration": 215,
    "start_time": "2021-07-08T11:52:26.493Z"
   },
   {
    "duration": 8,
    "start_time": "2021-07-08T11:52:26.710Z"
   },
   {
    "duration": 228,
    "start_time": "2021-07-08T11:52:26.720Z"
   },
   {
    "duration": 18,
    "start_time": "2021-07-08T11:52:26.950Z"
   },
   {
    "duration": 35,
    "start_time": "2021-07-08T11:52:26.969Z"
   },
   {
    "duration": 23,
    "start_time": "2021-07-08T11:52:27.006Z"
   },
   {
    "duration": 258,
    "start_time": "2021-07-08T11:52:27.030Z"
   },
   {
    "duration": 24,
    "start_time": "2021-07-08T11:52:27.290Z"
   },
   {
    "duration": 12,
    "start_time": "2021-07-08T11:52:27.316Z"
   },
   {
    "duration": 10,
    "start_time": "2021-07-08T11:52:27.329Z"
   },
   {
    "duration": 298,
    "start_time": "2021-07-08T11:52:27.341Z"
   },
   {
    "duration": 436,
    "start_time": "2021-07-08T11:52:27.641Z"
   },
   {
    "duration": 216,
    "start_time": "2021-07-08T11:52:28.079Z"
   },
   {
    "duration": 20,
    "start_time": "2021-07-08T11:52:28.297Z"
   },
   {
    "duration": 17,
    "start_time": "2021-07-08T11:52:28.319Z"
   },
   {
    "duration": 562,
    "start_time": "2022-07-11T09:11:29.434Z"
   },
   {
    "duration": 882,
    "start_time": "2022-07-11T09:11:41.152Z"
   },
   {
    "duration": 173,
    "start_time": "2022-07-11T09:12:53.374Z"
   },
   {
    "duration": 96,
    "start_time": "2022-07-11T09:12:57.326Z"
   },
   {
    "duration": 84,
    "start_time": "2022-07-11T09:13:05.474Z"
   },
   {
    "duration": 50,
    "start_time": "2022-07-11T09:14:44.985Z"
   },
   {
    "duration": 44,
    "start_time": "2022-07-11T09:17:32.130Z"
   },
   {
    "duration": 86,
    "start_time": "2022-07-11T09:17:44.061Z"
   },
   {
    "duration": 29,
    "start_time": "2022-07-11T09:17:46.491Z"
   },
   {
    "duration": 813,
    "start_time": "2022-07-11T09:17:49.066Z"
   },
   {
    "duration": 6,
    "start_time": "2022-07-11T09:17:57.693Z"
   },
   {
    "duration": 6,
    "start_time": "2022-07-11T09:18:09.046Z"
   },
   {
    "duration": 7,
    "start_time": "2022-07-11T09:18:34.439Z"
   },
   {
    "duration": 5,
    "start_time": "2022-07-11T09:18:44.899Z"
   },
   {
    "duration": 6,
    "start_time": "2022-07-11T09:19:00.827Z"
   },
   {
    "duration": 3,
    "start_time": "2022-07-11T09:19:39.455Z"
   },
   {
    "duration": 118,
    "start_time": "2022-07-11T09:21:11.746Z"
   },
   {
    "duration": 226,
    "start_time": "2022-07-11T09:22:11.582Z"
   },
   {
    "duration": 386,
    "start_time": "2022-07-11T09:24:36.091Z"
   },
   {
    "duration": 6,
    "start_time": "2022-07-11T09:24:39.191Z"
   },
   {
    "duration": 8,
    "start_time": "2022-07-11T09:27:31.175Z"
   },
   {
    "duration": 326,
    "start_time": "2022-07-11T09:27:59.637Z"
   },
   {
    "duration": 7,
    "start_time": "2022-07-11T09:28:14.271Z"
   },
   {
    "duration": 7,
    "start_time": "2022-07-11T09:28:27.842Z"
   },
   {
    "duration": 8,
    "start_time": "2022-07-11T09:28:50.554Z"
   },
   {
    "duration": 6,
    "start_time": "2022-07-11T09:29:27.166Z"
   },
   {
    "duration": 6,
    "start_time": "2022-07-11T09:29:31.854Z"
   },
   {
    "duration": 33,
    "start_time": "2022-07-11T09:32:25.874Z"
   },
   {
    "duration": 29,
    "start_time": "2022-07-11T09:33:34.809Z"
   },
   {
    "duration": 4,
    "start_time": "2022-07-11T09:33:51.677Z"
   },
   {
    "duration": 100,
    "start_time": "2022-07-11T09:33:53.114Z"
   },
   {
    "duration": 24,
    "start_time": "2022-07-11T09:33:53.911Z"
   },
   {
    "duration": 6,
    "start_time": "2022-07-11T09:33:54.603Z"
   },
   {
    "duration": 7,
    "start_time": "2022-07-11T09:33:55.866Z"
   },
   {
    "duration": 33,
    "start_time": "2022-07-11T09:33:57.382Z"
   },
   {
    "duration": 40,
    "start_time": "2022-07-11T09:35:24.422Z"
   },
   {
    "duration": 32,
    "start_time": "2022-07-11T09:36:19.072Z"
   },
   {
    "duration": 87,
    "start_time": "2022-07-11T09:36:34.186Z"
   },
   {
    "duration": 3,
    "start_time": "2022-07-11T09:36:38.212Z"
   },
   {
    "duration": 94,
    "start_time": "2022-07-11T09:36:39.279Z"
   },
   {
    "duration": 40,
    "start_time": "2022-07-11T09:36:40.216Z"
   },
   {
    "duration": 5,
    "start_time": "2022-07-11T09:36:42.048Z"
   },
   {
    "duration": 7,
    "start_time": "2022-07-11T09:36:43.528Z"
   },
   {
    "duration": 83,
    "start_time": "2022-07-11T09:37:18.419Z"
   },
   {
    "duration": 24,
    "start_time": "2022-07-11T09:37:18.941Z"
   },
   {
    "duration": 4,
    "start_time": "2022-07-11T09:37:19.580Z"
   },
   {
    "duration": 6,
    "start_time": "2022-07-11T09:37:20.618Z"
   },
   {
    "duration": 32,
    "start_time": "2022-07-11T09:37:22.069Z"
   },
   {
    "duration": 31,
    "start_time": "2022-07-11T09:38:45.719Z"
   },
   {
    "duration": 29,
    "start_time": "2022-07-11T09:39:47.667Z"
   },
   {
    "duration": 14,
    "start_time": "2022-07-11T09:40:01.882Z"
   },
   {
    "duration": 31,
    "start_time": "2022-07-11T09:40:14.430Z"
   },
   {
    "duration": 29,
    "start_time": "2022-07-11T09:40:43.828Z"
   },
   {
    "duration": 91,
    "start_time": "2022-07-11T09:40:47.283Z"
   },
   {
    "duration": 11,
    "start_time": "2022-07-11T09:41:09.621Z"
   },
   {
    "duration": 32,
    "start_time": "2022-07-11T09:41:13.225Z"
   },
   {
    "duration": 15,
    "start_time": "2022-07-11T09:41:20.951Z"
   },
   {
    "duration": 16,
    "start_time": "2022-07-11T09:44:44.703Z"
   },
   {
    "duration": 8,
    "start_time": "2022-07-11T09:45:02.356Z"
   },
   {
    "duration": 14,
    "start_time": "2022-07-11T09:45:09.825Z"
   },
   {
    "duration": 4,
    "start_time": "2022-07-11T09:46:03.439Z"
   },
   {
    "duration": 88,
    "start_time": "2022-07-11T09:46:04.684Z"
   },
   {
    "duration": 25,
    "start_time": "2022-07-11T09:46:05.446Z"
   },
   {
    "duration": 4,
    "start_time": "2022-07-11T09:46:06.218Z"
   },
   {
    "duration": 6,
    "start_time": "2022-07-11T09:46:07.336Z"
   },
   {
    "duration": 26,
    "start_time": "2022-07-11T09:46:08.599Z"
   },
   {
    "duration": 48,
    "start_time": "2022-07-11T09:48:12.159Z"
   },
   {
    "duration": 38,
    "start_time": "2022-07-11T09:49:24.918Z"
   },
   {
    "duration": 37,
    "start_time": "2022-07-11T09:50:01.683Z"
   },
   {
    "duration": 26,
    "start_time": "2022-07-11T09:51:18.902Z"
   },
   {
    "duration": 37,
    "start_time": "2022-07-11T09:51:28.791Z"
   },
   {
    "duration": 39,
    "start_time": "2022-07-11T09:52:09.869Z"
   },
   {
    "duration": 26,
    "start_time": "2022-07-11T09:52:17.061Z"
   },
   {
    "duration": 9,
    "start_time": "2022-07-11T10:01:38.780Z"
   },
   {
    "duration": 26,
    "start_time": "2022-07-11T10:01:49.826Z"
   },
   {
    "duration": 23,
    "start_time": "2022-07-11T10:02:04.317Z"
   },
   {
    "duration": 10,
    "start_time": "2022-07-11T10:02:17.040Z"
   },
   {
    "duration": 16,
    "start_time": "2022-07-11T10:08:06.602Z"
   },
   {
    "duration": 13,
    "start_time": "2022-07-11T10:08:22.073Z"
   },
   {
    "duration": 80,
    "start_time": "2022-07-11T10:08:35.684Z"
   },
   {
    "duration": 83,
    "start_time": "2022-07-11T10:09:04.124Z"
   },
   {
    "duration": 20,
    "start_time": "2022-07-11T10:09:57.914Z"
   },
   {
    "duration": 7,
    "start_time": "2022-07-11T10:10:08.951Z"
   },
   {
    "duration": 15,
    "start_time": "2022-07-11T10:10:39.021Z"
   },
   {
    "duration": 11,
    "start_time": "2022-07-11T10:10:48.243Z"
   },
   {
    "duration": 8,
    "start_time": "2022-07-11T10:10:49.220Z"
   },
   {
    "duration": 25,
    "start_time": "2022-07-11T10:10:55.787Z"
   },
   {
    "duration": 3,
    "start_time": "2022-07-11T10:13:37.996Z"
   },
   {
    "duration": 97,
    "start_time": "2022-07-11T10:13:38.966Z"
   },
   {
    "duration": 25,
    "start_time": "2022-07-11T10:13:39.936Z"
   },
   {
    "duration": 4,
    "start_time": "2022-07-11T10:13:40.423Z"
   },
   {
    "duration": 9,
    "start_time": "2022-07-11T10:13:41.275Z"
   },
   {
    "duration": 35,
    "start_time": "2022-07-11T10:13:42.303Z"
   },
   {
    "duration": 17,
    "start_time": "2022-07-11T10:13:43.902Z"
   },
   {
    "duration": 9,
    "start_time": "2022-07-11T10:13:45.017Z"
   },
   {
    "duration": 20,
    "start_time": "2022-07-11T10:13:45.990Z"
   },
   {
    "duration": 13,
    "start_time": "2022-07-11T10:17:59.596Z"
   },
   {
    "duration": 28,
    "start_time": "2022-07-11T10:19:02.334Z"
   },
   {
    "duration": 17,
    "start_time": "2022-07-11T10:19:08.452Z"
   },
   {
    "duration": 17,
    "start_time": "2022-07-11T10:19:49.428Z"
   },
   {
    "duration": 18,
    "start_time": "2022-07-11T10:19:59.253Z"
   },
   {
    "duration": 10,
    "start_time": "2022-07-11T10:20:03.435Z"
   },
   {
    "duration": 17,
    "start_time": "2022-07-11T10:20:15.917Z"
   },
   {
    "duration": 27,
    "start_time": "2022-07-11T10:21:10.247Z"
   },
   {
    "duration": 23,
    "start_time": "2022-07-11T10:21:14.134Z"
   },
   {
    "duration": 23,
    "start_time": "2022-07-11T10:21:21.637Z"
   },
   {
    "duration": 24,
    "start_time": "2022-07-11T10:21:29.349Z"
   },
   {
    "duration": 35,
    "start_time": "2022-07-11T10:21:40.863Z"
   },
   {
    "duration": 35,
    "start_time": "2022-07-11T10:21:52.158Z"
   },
   {
    "duration": 31,
    "start_time": "2022-07-11T10:22:01.761Z"
   },
   {
    "duration": 24,
    "start_time": "2022-07-11T10:22:14.299Z"
   },
   {
    "duration": 27,
    "start_time": "2022-07-11T10:22:30.990Z"
   },
   {
    "duration": 16,
    "start_time": "2022-07-11T10:22:40.897Z"
   },
   {
    "duration": 9,
    "start_time": "2022-07-11T10:23:52.913Z"
   },
   {
    "duration": 22,
    "start_time": "2022-07-11T10:24:17.867Z"
   },
   {
    "duration": 15,
    "start_time": "2022-07-11T10:27:45.931Z"
   },
   {
    "duration": 13,
    "start_time": "2022-07-11T10:28:06.126Z"
   },
   {
    "duration": 83,
    "start_time": "2022-07-11T10:28:29.159Z"
   },
   {
    "duration": 11,
    "start_time": "2022-07-11T10:29:05.688Z"
   },
   {
    "duration": 10,
    "start_time": "2022-07-11T10:29:37.261Z"
   },
   {
    "duration": 11,
    "start_time": "2022-07-11T10:29:49.952Z"
   },
   {
    "duration": 10,
    "start_time": "2022-07-11T10:29:56.334Z"
   },
   {
    "duration": 24,
    "start_time": "2022-07-11T10:30:06.760Z"
   },
   {
    "duration": 27,
    "start_time": "2022-07-11T10:30:23.156Z"
   },
   {
    "duration": 25,
    "start_time": "2022-07-11T10:30:50.277Z"
   },
   {
    "duration": 49,
    "start_time": "2022-07-11T10:31:46.993Z"
   },
   {
    "duration": 14,
    "start_time": "2022-07-11T10:31:51.416Z"
   },
   {
    "duration": 33,
    "start_time": "2022-07-11T10:32:00.507Z"
   },
   {
    "duration": 32,
    "start_time": "2022-07-11T10:32:16.557Z"
   },
   {
    "duration": 1030,
    "start_time": "2022-07-11T10:32:37.837Z"
   },
   {
    "duration": 25,
    "start_time": "2022-07-11T10:32:47.178Z"
   },
   {
    "duration": 9,
    "start_time": "2022-07-11T10:34:36.578Z"
   },
   {
    "duration": 11,
    "start_time": "2022-07-11T10:34:40.900Z"
   },
   {
    "duration": 24,
    "start_time": "2022-07-11T10:35:43.591Z"
   },
   {
    "duration": 27,
    "start_time": "2022-07-11T10:37:08.152Z"
   },
   {
    "duration": 11,
    "start_time": "2022-07-11T10:37:19.181Z"
   },
   {
    "duration": 10,
    "start_time": "2022-07-11T10:37:39.183Z"
   },
   {
    "duration": 35,
    "start_time": "2022-07-11T10:38:05.789Z"
   },
   {
    "duration": 102,
    "start_time": "2022-07-11T10:38:40.843Z"
   },
   {
    "duration": 25,
    "start_time": "2022-07-11T10:38:50.104Z"
   },
   {
    "duration": 33,
    "start_time": "2022-07-11T10:43:19.759Z"
   },
   {
    "duration": 26,
    "start_time": "2022-07-11T10:43:46.312Z"
   },
   {
    "duration": 14,
    "start_time": "2022-07-11T10:43:57.537Z"
   },
   {
    "duration": 28,
    "start_time": "2022-07-11T10:44:06.333Z"
   },
   {
    "duration": 30,
    "start_time": "2022-07-11T10:47:36.581Z"
   },
   {
    "duration": 32,
    "start_time": "2022-07-11T10:47:49.608Z"
   },
   {
    "duration": 28,
    "start_time": "2022-07-11T10:49:40.850Z"
   },
   {
    "duration": 27,
    "start_time": "2022-07-11T10:49:53.003Z"
   },
   {
    "duration": 27,
    "start_time": "2022-07-11T10:50:03.349Z"
   },
   {
    "duration": 32,
    "start_time": "2022-07-11T10:50:12.896Z"
   },
   {
    "duration": 1164,
    "start_time": "2022-07-11T10:50:31.545Z"
   },
   {
    "duration": 91,
    "start_time": "2022-07-11T10:50:32.711Z"
   },
   {
    "duration": 25,
    "start_time": "2022-07-11T10:50:32.804Z"
   },
   {
    "duration": 4,
    "start_time": "2022-07-11T10:50:32.830Z"
   },
   {
    "duration": 12,
    "start_time": "2022-07-11T10:50:32.836Z"
   },
   {
    "duration": 29,
    "start_time": "2022-07-11T10:50:32.849Z"
   },
   {
    "duration": 18,
    "start_time": "2022-07-11T10:50:32.880Z"
   },
   {
    "duration": 41,
    "start_time": "2022-07-11T10:50:32.900Z"
   },
   {
    "duration": 36,
    "start_time": "2022-07-11T10:50:32.943Z"
   },
   {
    "duration": 27,
    "start_time": "2022-07-11T10:50:49.786Z"
   },
   {
    "duration": 1256,
    "start_time": "2022-07-11T10:50:57.529Z"
   },
   {
    "duration": 92,
    "start_time": "2022-07-11T10:50:58.787Z"
   },
   {
    "duration": 24,
    "start_time": "2022-07-11T10:50:58.881Z"
   },
   {
    "duration": 4,
    "start_time": "2022-07-11T10:50:58.907Z"
   },
   {
    "duration": 12,
    "start_time": "2022-07-11T10:50:58.914Z"
   },
   {
    "duration": 38,
    "start_time": "2022-07-11T10:50:58.928Z"
   },
   {
    "duration": 15,
    "start_time": "2022-07-11T10:50:58.968Z"
   },
   {
    "duration": 31,
    "start_time": "2022-07-11T10:50:58.985Z"
   },
   {
    "duration": 32,
    "start_time": "2022-07-11T10:50:59.018Z"
   },
   {
    "duration": 1378,
    "start_time": "2022-07-11T10:52:30.495Z"
   },
   {
    "duration": 100,
    "start_time": "2022-07-11T10:52:31.876Z"
   },
   {
    "duration": 28,
    "start_time": "2022-07-11T10:52:31.978Z"
   },
   {
    "duration": 6,
    "start_time": "2022-07-11T10:52:32.008Z"
   },
   {
    "duration": 22,
    "start_time": "2022-07-11T10:52:32.016Z"
   },
   {
    "duration": 37,
    "start_time": "2022-07-11T10:52:32.040Z"
   },
   {
    "duration": 23,
    "start_time": "2022-07-11T10:52:32.080Z"
   },
   {
    "duration": 32,
    "start_time": "2022-07-11T10:52:32.105Z"
   },
   {
    "duration": 30,
    "start_time": "2022-07-11T10:52:32.139Z"
   },
   {
    "duration": 123,
    "start_time": "2022-07-11T10:55:45.982Z"
   },
   {
    "duration": 26,
    "start_time": "2022-07-11T10:55:53.418Z"
   },
   {
    "duration": 30,
    "start_time": "2022-07-11T10:56:07.581Z"
   },
   {
    "duration": 27,
    "start_time": "2022-07-11T10:56:50.072Z"
   },
   {
    "duration": 33,
    "start_time": "2022-07-11T10:57:03.353Z"
   },
   {
    "duration": 28,
    "start_time": "2022-07-11T10:57:15.574Z"
   },
   {
    "duration": 27,
    "start_time": "2022-07-11T10:57:21.709Z"
   },
   {
    "duration": 1152,
    "start_time": "2022-07-11T10:57:34.646Z"
   },
   {
    "duration": 90,
    "start_time": "2022-07-11T10:57:35.799Z"
   },
   {
    "duration": 26,
    "start_time": "2022-07-11T10:57:35.891Z"
   },
   {
    "duration": 5,
    "start_time": "2022-07-11T10:57:35.919Z"
   },
   {
    "duration": 18,
    "start_time": "2022-07-11T10:57:35.926Z"
   },
   {
    "duration": 42,
    "start_time": "2022-07-11T10:57:35.945Z"
   },
   {
    "duration": 18,
    "start_time": "2022-07-11T10:57:35.988Z"
   },
   {
    "duration": 22,
    "start_time": "2022-07-11T10:57:36.007Z"
   },
   {
    "duration": 29,
    "start_time": "2022-07-11T10:57:36.031Z"
   },
   {
    "duration": 27,
    "start_time": "2022-07-11T10:57:51.007Z"
   },
   {
    "duration": 97,
    "start_time": "2022-07-11T10:59:12.657Z"
   },
   {
    "duration": 9,
    "start_time": "2022-07-11T10:59:32.677Z"
   },
   {
    "duration": 19,
    "start_time": "2022-07-11T11:06:31.132Z"
   },
   {
    "duration": 11,
    "start_time": "2022-07-11T11:07:06.387Z"
   },
   {
    "duration": 126,
    "start_time": "2022-07-11T11:13:24.470Z"
   },
   {
    "duration": 12,
    "start_time": "2022-07-11T11:13:28.631Z"
   },
   {
    "duration": 27,
    "start_time": "2022-07-11T11:13:35.792Z"
   },
   {
    "duration": 28,
    "start_time": "2022-07-11T11:13:53.124Z"
   },
   {
    "duration": 23,
    "start_time": "2022-07-11T11:14:52.532Z"
   },
   {
    "duration": 26,
    "start_time": "2022-07-11T11:15:05.260Z"
   },
   {
    "duration": 16,
    "start_time": "2022-07-11T11:15:16.922Z"
   },
   {
    "duration": 21,
    "start_time": "2022-07-11T11:15:21.937Z"
   },
   {
    "duration": 26,
    "start_time": "2022-07-11T11:15:29.756Z"
   },
   {
    "duration": 22,
    "start_time": "2022-07-11T11:15:45.186Z"
   },
   {
    "duration": 30,
    "start_time": "2022-07-11T11:16:01.539Z"
   },
   {
    "duration": 21,
    "start_time": "2022-07-11T11:16:21.837Z"
   },
   {
    "duration": 30,
    "start_time": "2022-07-11T11:16:48.039Z"
   },
   {
    "duration": 27,
    "start_time": "2022-07-11T11:17:55.711Z"
   },
   {
    "duration": 14,
    "start_time": "2022-07-11T11:18:01.892Z"
   },
   {
    "duration": 11,
    "start_time": "2022-07-11T11:24:49.026Z"
   },
   {
    "duration": 16,
    "start_time": "2022-07-11T11:25:04.673Z"
   },
   {
    "duration": 12,
    "start_time": "2022-07-11T11:25:27.764Z"
   },
   {
    "duration": 8,
    "start_time": "2022-07-11T11:28:14.506Z"
   },
   {
    "duration": 12,
    "start_time": "2022-07-11T11:28:24.275Z"
   },
   {
    "duration": 10,
    "start_time": "2022-07-11T11:29:49.549Z"
   },
   {
    "duration": 10,
    "start_time": "2022-07-11T11:29:54.049Z"
   },
   {
    "duration": 21,
    "start_time": "2022-07-11T11:30:57.089Z"
   },
   {
    "duration": 18,
    "start_time": "2022-07-11T11:31:12.676Z"
   },
   {
    "duration": 12,
    "start_time": "2022-07-11T11:31:23.936Z"
   },
   {
    "duration": 14,
    "start_time": "2022-07-11T11:33:35.768Z"
   },
   {
    "duration": 18,
    "start_time": "2022-07-11T11:33:51.691Z"
   },
   {
    "duration": 5,
    "start_time": "2022-07-11T11:36:22.805Z"
   },
   {
    "duration": 5,
    "start_time": "2022-07-11T11:39:00.253Z"
   },
   {
    "duration": 7,
    "start_time": "2022-07-11T11:39:06.537Z"
   },
   {
    "duration": 7,
    "start_time": "2022-07-11T11:40:10.865Z"
   },
   {
    "duration": 6,
    "start_time": "2022-07-11T11:41:04.668Z"
   },
   {
    "duration": 6,
    "start_time": "2022-07-11T11:42:28.238Z"
   },
   {
    "duration": 9,
    "start_time": "2022-07-11T11:42:49.282Z"
   },
   {
    "duration": 7,
    "start_time": "2022-07-11T11:43:22.861Z"
   },
   {
    "duration": 5,
    "start_time": "2022-07-11T11:43:42.631Z"
   },
   {
    "duration": 10,
    "start_time": "2022-07-11T11:45:28.012Z"
   },
   {
    "duration": 10,
    "start_time": "2022-07-11T11:45:44.912Z"
   },
   {
    "duration": 9,
    "start_time": "2022-07-11T11:45:56.247Z"
   },
   {
    "duration": 9,
    "start_time": "2022-07-11T11:46:14.044Z"
   },
   {
    "duration": 1137,
    "start_time": "2022-07-11T11:46:22.760Z"
   },
   {
    "duration": 93,
    "start_time": "2022-07-11T11:46:23.899Z"
   },
   {
    "duration": 25,
    "start_time": "2022-07-11T11:46:23.993Z"
   },
   {
    "duration": 4,
    "start_time": "2022-07-11T11:46:24.020Z"
   },
   {
    "duration": 14,
    "start_time": "2022-07-11T11:46:24.027Z"
   },
   {
    "duration": 39,
    "start_time": "2022-07-11T11:46:24.043Z"
   },
   {
    "duration": 18,
    "start_time": "2022-07-11T11:46:24.084Z"
   },
   {
    "duration": 35,
    "start_time": "2022-07-11T11:46:24.104Z"
   },
   {
    "duration": 12,
    "start_time": "2022-07-11T11:46:24.141Z"
   },
   {
    "duration": 23,
    "start_time": "2022-07-11T11:46:24.155Z"
   },
   {
    "duration": 47,
    "start_time": "2022-07-11T11:46:24.180Z"
   },
   {
    "duration": 6,
    "start_time": "2022-07-11T11:46:24.229Z"
   },
   {
    "duration": 13,
    "start_time": "2022-07-11T11:46:24.236Z"
   },
   {
    "duration": 9,
    "start_time": "2022-07-11T11:46:24.252Z"
   },
   {
    "duration": 5,
    "start_time": "2022-07-11T11:47:15.254Z"
   },
   {
    "duration": 8,
    "start_time": "2022-07-11T11:47:52.555Z"
   },
   {
    "duration": 5,
    "start_time": "2022-07-11T11:48:27.403Z"
   },
   {
    "duration": 71,
    "start_time": "2022-07-11T11:58:26.069Z"
   },
   {
    "duration": 4,
    "start_time": "2022-07-11T11:58:36.251Z"
   },
   {
    "duration": 7,
    "start_time": "2022-07-11T11:58:40.895Z"
   },
   {
    "duration": 5,
    "start_time": "2022-07-11T11:59:52.683Z"
   },
   {
    "duration": 124,
    "start_time": "2022-07-11T12:01:59.269Z"
   },
   {
    "duration": 42,
    "start_time": "2022-07-11T12:04:05.542Z"
   },
   {
    "duration": 38,
    "start_time": "2022-07-11T12:04:37.409Z"
   },
   {
    "duration": 40,
    "start_time": "2022-07-11T12:04:57.516Z"
   },
   {
    "duration": 63,
    "start_time": "2022-07-11T12:05:46.078Z"
   },
   {
    "duration": 44,
    "start_time": "2022-07-11T12:06:17.756Z"
   },
   {
    "duration": 37,
    "start_time": "2022-07-11T12:07:07.159Z"
   },
   {
    "duration": 1715,
    "start_time": "2022-07-11T12:08:46.438Z"
   },
   {
    "duration": 10,
    "start_time": "2022-07-11T12:08:52.700Z"
   },
   {
    "duration": 5,
    "start_time": "2022-07-11T12:09:01.041Z"
   },
   {
    "duration": 7,
    "start_time": "2022-07-11T12:09:15.997Z"
   },
   {
    "duration": 11,
    "start_time": "2022-07-11T12:09:30.404Z"
   },
   {
    "duration": 102,
    "start_time": "2022-07-12T02:13:02.273Z"
   },
   {
    "duration": 6,
    "start_time": "2022-07-12T02:13:17.793Z"
   },
   {
    "duration": 13,
    "start_time": "2022-07-12T02:15:13.669Z"
   },
   {
    "duration": 6,
    "start_time": "2022-07-12T02:16:55.939Z"
   },
   {
    "duration": 7,
    "start_time": "2022-07-12T02:17:28.348Z"
   },
   {
    "duration": 8,
    "start_time": "2022-07-12T04:02:33.170Z"
   },
   {
    "duration": 8,
    "start_time": "2022-07-12T04:03:02.055Z"
   },
   {
    "duration": 8,
    "start_time": "2022-07-12T04:03:45.457Z"
   },
   {
    "duration": 8,
    "start_time": "2022-07-12T04:04:21.128Z"
   },
   {
    "duration": 12,
    "start_time": "2022-07-12T04:46:53.364Z"
   },
   {
    "duration": 10,
    "start_time": "2022-07-12T04:47:11.191Z"
   },
   {
    "duration": 8,
    "start_time": "2022-07-12T04:47:40.964Z"
   },
   {
    "duration": 9,
    "start_time": "2022-07-12T04:48:18.765Z"
   },
   {
    "duration": 8,
    "start_time": "2022-07-12T04:48:43.690Z"
   },
   {
    "duration": 9,
    "start_time": "2022-07-12T04:49:03.494Z"
   },
   {
    "duration": 9,
    "start_time": "2022-07-12T04:49:26.908Z"
   },
   {
    "duration": 10,
    "start_time": "2022-07-12T04:50:15.463Z"
   },
   {
    "duration": 12,
    "start_time": "2022-07-12T04:50:43.745Z"
   },
   {
    "duration": 13,
    "start_time": "2022-07-12T04:51:08.943Z"
   },
   {
    "duration": 8,
    "start_time": "2022-07-12T04:51:46.804Z"
   },
   {
    "duration": 8,
    "start_time": "2022-07-12T04:51:49.649Z"
   },
   {
    "duration": 1198,
    "start_time": "2022-07-12T04:51:54.187Z"
   },
   {
    "duration": 99,
    "start_time": "2022-07-12T04:51:55.387Z"
   },
   {
    "duration": 24,
    "start_time": "2022-07-12T04:51:55.487Z"
   },
   {
    "duration": 4,
    "start_time": "2022-07-12T04:51:55.513Z"
   },
   {
    "duration": 12,
    "start_time": "2022-07-12T04:51:55.519Z"
   },
   {
    "duration": 27,
    "start_time": "2022-07-12T04:51:55.533Z"
   },
   {
    "duration": 18,
    "start_time": "2022-07-12T04:51:55.562Z"
   },
   {
    "duration": 20,
    "start_time": "2022-07-12T04:51:55.582Z"
   },
   {
    "duration": 29,
    "start_time": "2022-07-12T04:51:55.604Z"
   },
   {
    "duration": 15,
    "start_time": "2022-07-12T04:51:55.635Z"
   },
   {
    "duration": 21,
    "start_time": "2022-07-12T04:51:55.651Z"
   },
   {
    "duration": 5,
    "start_time": "2022-07-12T04:51:55.674Z"
   },
   {
    "duration": 47,
    "start_time": "2022-07-12T04:51:55.680Z"
   },
   {
    "duration": 7,
    "start_time": "2022-07-12T04:51:55.730Z"
   },
   {
    "duration": 11,
    "start_time": "2022-07-12T04:51:55.738Z"
   },
   {
    "duration": 14,
    "start_time": "2022-07-12T04:51:55.751Z"
   },
   {
    "duration": 11,
    "start_time": "2022-07-12T04:52:30.708Z"
   },
   {
    "duration": 15,
    "start_time": "2022-07-12T04:53:23.279Z"
   },
   {
    "duration": 97,
    "start_time": "2022-07-12T04:53:42.319Z"
   },
   {
    "duration": 8,
    "start_time": "2022-07-12T04:53:49.795Z"
   },
   {
    "duration": 11,
    "start_time": "2022-07-12T04:53:58.151Z"
   },
   {
    "duration": 12,
    "start_time": "2022-07-12T04:54:27.422Z"
   },
   {
    "duration": 13,
    "start_time": "2022-07-12T04:54:35.433Z"
   },
   {
    "duration": 11,
    "start_time": "2022-07-12T04:54:41.450Z"
   },
   {
    "duration": 13,
    "start_time": "2022-07-12T04:55:05.956Z"
   },
   {
    "duration": 9,
    "start_time": "2022-07-12T04:55:19.944Z"
   },
   {
    "duration": 8,
    "start_time": "2022-07-12T04:57:12.783Z"
   },
   {
    "duration": 1137,
    "start_time": "2022-07-12T04:57:22.598Z"
   },
   {
    "duration": 87,
    "start_time": "2022-07-12T04:57:23.737Z"
   },
   {
    "duration": 25,
    "start_time": "2022-07-12T04:57:23.826Z"
   },
   {
    "duration": 4,
    "start_time": "2022-07-12T04:57:23.854Z"
   },
   {
    "duration": 27,
    "start_time": "2022-07-12T04:57:23.859Z"
   },
   {
    "duration": 35,
    "start_time": "2022-07-12T04:57:23.887Z"
   },
   {
    "duration": 15,
    "start_time": "2022-07-12T04:57:23.924Z"
   },
   {
    "duration": 20,
    "start_time": "2022-07-12T04:57:23.941Z"
   },
   {
    "duration": 13,
    "start_time": "2022-07-12T04:57:23.963Z"
   },
   {
    "duration": 28,
    "start_time": "2022-07-12T04:57:23.979Z"
   },
   {
    "duration": 33,
    "start_time": "2022-07-12T04:57:24.009Z"
   },
   {
    "duration": 5,
    "start_time": "2022-07-12T04:57:24.043Z"
   },
   {
    "duration": 10,
    "start_time": "2022-07-12T04:57:24.050Z"
   },
   {
    "duration": 9,
    "start_time": "2022-07-12T04:57:24.062Z"
   },
   {
    "duration": 7,
    "start_time": "2022-07-12T04:57:24.072Z"
   },
   {
    "duration": 551,
    "start_time": "2022-07-12T04:57:24.081Z"
   },
   {
    "duration": 24,
    "start_time": "2022-07-12T04:57:54.463Z"
   },
   {
    "duration": 15,
    "start_time": "2022-07-12T04:58:05.620Z"
   },
   {
    "duration": 14,
    "start_time": "2022-07-12T04:58:34.225Z"
   },
   {
    "duration": 14,
    "start_time": "2022-07-12T04:58:49.951Z"
   },
   {
    "duration": 13,
    "start_time": "2022-07-12T04:59:12.231Z"
   },
   {
    "duration": 11,
    "start_time": "2022-07-12T04:59:45.949Z"
   },
   {
    "duration": 11,
    "start_time": "2022-07-12T05:00:04.453Z"
   },
   {
    "duration": 18,
    "start_time": "2022-07-12T05:00:16.699Z"
   },
   {
    "duration": 10,
    "start_time": "2022-07-12T05:00:29.210Z"
   },
   {
    "duration": 16,
    "start_time": "2022-07-12T05:00:33.656Z"
   },
   {
    "duration": 8,
    "start_time": "2022-07-12T05:00:59.583Z"
   },
   {
    "duration": 13,
    "start_time": "2022-07-12T05:04:09.281Z"
   },
   {
    "duration": 839,
    "start_time": "2022-07-12T05:04:23.221Z"
   },
   {
    "duration": 1007,
    "start_time": "2022-07-12T05:04:34.061Z"
   },
   {
    "duration": 13,
    "start_time": "2022-07-12T05:04:45.589Z"
   },
   {
    "duration": 9,
    "start_time": "2022-07-12T05:04:56.525Z"
   },
   {
    "duration": 13,
    "start_time": "2022-07-12T05:05:07.036Z"
   },
   {
    "duration": 13,
    "start_time": "2022-07-12T05:05:42.806Z"
   },
   {
    "duration": 14,
    "start_time": "2022-07-12T05:06:04.327Z"
   },
   {
    "duration": 13,
    "start_time": "2022-07-12T05:06:18.582Z"
   },
   {
    "duration": 5,
    "start_time": "2022-07-12T05:10:40.452Z"
   },
   {
    "duration": 7,
    "start_time": "2022-07-12T05:11:17.701Z"
   },
   {
    "duration": 5,
    "start_time": "2022-07-12T05:12:05.339Z"
   },
   {
    "duration": 8,
    "start_time": "2022-07-12T05:12:06.922Z"
   },
   {
    "duration": 1107,
    "start_time": "2022-07-12T05:12:31.064Z"
   },
   {
    "duration": 89,
    "start_time": "2022-07-12T05:12:32.173Z"
   },
   {
    "duration": 24,
    "start_time": "2022-07-12T05:12:32.264Z"
   },
   {
    "duration": 4,
    "start_time": "2022-07-12T05:12:32.291Z"
   },
   {
    "duration": 13,
    "start_time": "2022-07-12T05:12:32.297Z"
   },
   {
    "duration": 30,
    "start_time": "2022-07-12T05:12:32.312Z"
   },
   {
    "duration": 17,
    "start_time": "2022-07-12T05:12:32.344Z"
   },
   {
    "duration": 19,
    "start_time": "2022-07-12T05:12:32.363Z"
   },
   {
    "duration": 42,
    "start_time": "2022-07-12T05:12:32.384Z"
   },
   {
    "duration": 15,
    "start_time": "2022-07-12T05:12:32.428Z"
   },
   {
    "duration": 19,
    "start_time": "2022-07-12T05:12:32.444Z"
   },
   {
    "duration": 6,
    "start_time": "2022-07-12T05:12:32.465Z"
   },
   {
    "duration": 22,
    "start_time": "2022-07-12T05:12:32.472Z"
   },
   {
    "duration": 8,
    "start_time": "2022-07-12T05:12:32.495Z"
   },
   {
    "duration": 27,
    "start_time": "2022-07-12T05:12:32.505Z"
   },
   {
    "duration": 9,
    "start_time": "2022-07-12T05:12:32.533Z"
   },
   {
    "duration": 21,
    "start_time": "2022-07-12T05:12:32.544Z"
   },
   {
    "duration": 8,
    "start_time": "2022-07-12T05:12:32.567Z"
   },
   {
    "duration": 17,
    "start_time": "2022-07-12T05:12:32.577Z"
   },
   {
    "duration": 8,
    "start_time": "2022-07-12T05:13:54.458Z"
   },
   {
    "duration": 104,
    "start_time": "2022-07-12T05:14:13.929Z"
   },
   {
    "duration": 6,
    "start_time": "2022-07-12T05:14:20.176Z"
   },
   {
    "duration": 5,
    "start_time": "2022-07-12T05:14:37.842Z"
   },
   {
    "duration": 11,
    "start_time": "2022-07-12T05:15:01.489Z"
   },
   {
    "duration": 7,
    "start_time": "2022-07-12T05:15:10.003Z"
   },
   {
    "duration": 7,
    "start_time": "2022-07-12T05:15:22.536Z"
   },
   {
    "duration": 6,
    "start_time": "2022-07-12T05:15:40.100Z"
   },
   {
    "duration": 11,
    "start_time": "2022-07-12T05:16:15.771Z"
   },
   {
    "duration": 11,
    "start_time": "2022-07-12T05:16:40.982Z"
   },
   {
    "duration": 14,
    "start_time": "2022-07-12T05:18:16.677Z"
   },
   {
    "duration": 1104,
    "start_time": "2022-07-12T05:18:29.975Z"
   },
   {
    "duration": 97,
    "start_time": "2022-07-12T05:18:31.081Z"
   },
   {
    "duration": 25,
    "start_time": "2022-07-12T05:18:31.179Z"
   },
   {
    "duration": 89,
    "start_time": "2022-07-12T05:18:31.205Z"
   },
   {
    "duration": 73,
    "start_time": "2022-07-12T05:18:31.296Z"
   },
   {
    "duration": 45,
    "start_time": "2022-07-12T05:18:31.371Z"
   },
   {
    "duration": 42,
    "start_time": "2022-07-12T05:18:31.418Z"
   },
   {
    "duration": 73,
    "start_time": "2022-07-12T05:18:31.462Z"
   },
   {
    "duration": 61,
    "start_time": "2022-07-12T05:18:31.537Z"
   },
   {
    "duration": 61,
    "start_time": "2022-07-12T05:18:31.599Z"
   },
   {
    "duration": 37,
    "start_time": "2022-07-12T05:18:31.662Z"
   },
   {
    "duration": 45,
    "start_time": "2022-07-12T05:18:31.701Z"
   },
   {
    "duration": 35,
    "start_time": "2022-07-12T05:18:31.748Z"
   },
   {
    "duration": 35,
    "start_time": "2022-07-12T05:18:31.785Z"
   },
   {
    "duration": 27,
    "start_time": "2022-07-12T05:18:31.822Z"
   },
   {
    "duration": 31,
    "start_time": "2022-07-12T05:18:31.850Z"
   },
   {
    "duration": 25,
    "start_time": "2022-07-12T05:18:31.883Z"
   },
   {
    "duration": 38,
    "start_time": "2022-07-12T05:18:31.910Z"
   },
   {
    "duration": 38,
    "start_time": "2022-07-12T05:18:31.950Z"
   },
   {
    "duration": 8,
    "start_time": "2022-07-12T05:18:51.449Z"
   },
   {
    "duration": 8,
    "start_time": "2022-07-12T05:19:49.917Z"
   },
   {
    "duration": 88,
    "start_time": "2022-07-12T05:23:23.796Z"
   },
   {
    "duration": 116,
    "start_time": "2022-07-12T05:23:34.332Z"
   },
   {
    "duration": 1165,
    "start_time": "2022-07-12T05:23:48.390Z"
   },
   {
    "duration": 91,
    "start_time": "2022-07-12T05:23:49.557Z"
   },
   {
    "duration": 24,
    "start_time": "2022-07-12T05:23:49.650Z"
   },
   {
    "duration": 4,
    "start_time": "2022-07-12T05:23:49.676Z"
   },
   {
    "duration": 23,
    "start_time": "2022-07-12T05:23:49.682Z"
   },
   {
    "duration": 25,
    "start_time": "2022-07-12T05:23:49.707Z"
   },
   {
    "duration": 16,
    "start_time": "2022-07-12T05:23:49.734Z"
   },
   {
    "duration": 18,
    "start_time": "2022-07-12T05:23:49.752Z"
   },
   {
    "duration": 12,
    "start_time": "2022-07-12T05:23:49.772Z"
   },
   {
    "duration": 41,
    "start_time": "2022-07-12T05:23:49.786Z"
   },
   {
    "duration": 19,
    "start_time": "2022-07-12T05:23:49.829Z"
   },
   {
    "duration": 7,
    "start_time": "2022-07-12T05:23:49.850Z"
   },
   {
    "duration": 13,
    "start_time": "2022-07-12T05:23:49.859Z"
   },
   {
    "duration": 8,
    "start_time": "2022-07-12T05:23:49.874Z"
   },
   {
    "duration": 10,
    "start_time": "2022-07-12T05:23:49.883Z"
   },
   {
    "duration": 31,
    "start_time": "2022-07-12T05:23:49.894Z"
   },
   {
    "duration": 104,
    "start_time": "2022-07-12T05:23:49.927Z"
   },
   {
    "duration": 8,
    "start_time": "2022-07-12T05:23:50.034Z"
   },
   {
    "duration": 15,
    "start_time": "2022-07-12T05:23:50.044Z"
   },
   {
    "duration": 1118,
    "start_time": "2022-07-12T05:25:43.363Z"
   },
   {
    "duration": 109,
    "start_time": "2022-07-12T05:25:44.484Z"
   },
   {
    "duration": 27,
    "start_time": "2022-07-12T05:25:44.595Z"
   },
   {
    "duration": 5,
    "start_time": "2022-07-12T05:25:44.625Z"
   },
   {
    "duration": 19,
    "start_time": "2022-07-12T05:25:44.633Z"
   },
   {
    "duration": 28,
    "start_time": "2022-07-12T05:25:44.653Z"
   },
   {
    "duration": 16,
    "start_time": "2022-07-12T05:25:44.683Z"
   },
   {
    "duration": 35,
    "start_time": "2022-07-12T05:25:44.701Z"
   },
   {
    "duration": 11,
    "start_time": "2022-07-12T05:25:44.738Z"
   },
   {
    "duration": 19,
    "start_time": "2022-07-12T05:25:44.751Z"
   },
   {
    "duration": 23,
    "start_time": "2022-07-12T05:25:44.772Z"
   },
   {
    "duration": 31,
    "start_time": "2022-07-12T05:25:44.796Z"
   },
   {
    "duration": 11,
    "start_time": "2022-07-12T05:25:44.828Z"
   },
   {
    "duration": 12,
    "start_time": "2022-07-12T05:25:44.841Z"
   },
   {
    "duration": 15,
    "start_time": "2022-07-12T05:25:44.854Z"
   },
   {
    "duration": 10,
    "start_time": "2022-07-12T05:25:44.871Z"
   },
   {
    "duration": 144,
    "start_time": "2022-07-12T05:25:44.883Z"
   },
   {
    "duration": 0,
    "start_time": "2022-07-12T05:25:45.030Z"
   },
   {
    "duration": 0,
    "start_time": "2022-07-12T05:25:45.031Z"
   },
   {
    "duration": 98,
    "start_time": "2022-07-12T05:26:10.381Z"
   },
   {
    "duration": 1089,
    "start_time": "2022-07-12T05:26:29.984Z"
   },
   {
    "duration": 98,
    "start_time": "2022-07-12T05:26:31.075Z"
   },
   {
    "duration": 25,
    "start_time": "2022-07-12T05:26:31.175Z"
   },
   {
    "duration": 4,
    "start_time": "2022-07-12T05:26:31.202Z"
   },
   {
    "duration": 36,
    "start_time": "2022-07-12T05:26:31.208Z"
   },
   {
    "duration": 35,
    "start_time": "2022-07-12T05:26:31.245Z"
   },
   {
    "duration": 17,
    "start_time": "2022-07-12T05:26:31.282Z"
   },
   {
    "duration": 27,
    "start_time": "2022-07-12T05:26:31.301Z"
   },
   {
    "duration": 21,
    "start_time": "2022-07-12T05:26:31.330Z"
   },
   {
    "duration": 21,
    "start_time": "2022-07-12T05:26:31.353Z"
   },
   {
    "duration": 20,
    "start_time": "2022-07-12T05:26:31.376Z"
   },
   {
    "duration": 8,
    "start_time": "2022-07-12T05:26:31.398Z"
   },
   {
    "duration": 40,
    "start_time": "2022-07-12T05:26:31.408Z"
   },
   {
    "duration": 14,
    "start_time": "2022-07-12T05:26:31.452Z"
   },
   {
    "duration": 25,
    "start_time": "2022-07-12T05:26:31.468Z"
   },
   {
    "duration": 26,
    "start_time": "2022-07-12T05:26:31.495Z"
   },
   {
    "duration": 144,
    "start_time": "2022-07-12T05:26:31.523Z"
   },
   {
    "duration": 8,
    "start_time": "2022-07-12T05:26:31.669Z"
   },
   {
    "duration": 38,
    "start_time": "2022-07-12T05:26:31.679Z"
   },
   {
    "duration": 13,
    "start_time": "2022-07-12T05:30:49.474Z"
   },
   {
    "duration": 29,
    "start_time": "2022-07-12T05:35:44.387Z"
   },
   {
    "duration": 30,
    "start_time": "2022-07-12T05:42:15.246Z"
   },
   {
    "duration": 38,
    "start_time": "2022-07-12T05:42:28.644Z"
   },
   {
    "duration": 38,
    "start_time": "2022-07-12T05:43:02.223Z"
   },
   {
    "duration": 97,
    "start_time": "2022-07-12T05:43:24.315Z"
   },
   {
    "duration": 40,
    "start_time": "2022-07-12T05:43:29.392Z"
   },
   {
    "duration": 47,
    "start_time": "2022-07-12T05:45:06.077Z"
   },
   {
    "duration": 37,
    "start_time": "2022-07-12T05:46:05.997Z"
   },
   {
    "duration": 1136,
    "start_time": "2022-07-12T05:47:11.485Z"
   },
   {
    "duration": 102,
    "start_time": "2022-07-12T05:47:12.623Z"
   },
   {
    "duration": 24,
    "start_time": "2022-07-12T05:47:12.727Z"
   },
   {
    "duration": 4,
    "start_time": "2022-07-12T05:47:12.754Z"
   },
   {
    "duration": 11,
    "start_time": "2022-07-12T05:47:12.760Z"
   },
   {
    "duration": 27,
    "start_time": "2022-07-12T05:47:12.773Z"
   },
   {
    "duration": 30,
    "start_time": "2022-07-12T05:47:12.802Z"
   },
   {
    "duration": 19,
    "start_time": "2022-07-12T05:47:12.834Z"
   },
   {
    "duration": 11,
    "start_time": "2022-07-12T05:47:12.855Z"
   },
   {
    "duration": 31,
    "start_time": "2022-07-12T05:47:12.868Z"
   },
   {
    "duration": 42,
    "start_time": "2022-07-12T05:47:12.900Z"
   },
   {
    "duration": 10,
    "start_time": "2022-07-12T05:47:12.944Z"
   },
   {
    "duration": 18,
    "start_time": "2022-07-12T05:47:12.956Z"
   },
   {
    "duration": 8,
    "start_time": "2022-07-12T05:47:12.977Z"
   },
   {
    "duration": 11,
    "start_time": "2022-07-12T05:47:12.986Z"
   },
   {
    "duration": 25,
    "start_time": "2022-07-12T05:47:12.999Z"
   },
   {
    "duration": 112,
    "start_time": "2022-07-12T05:47:13.026Z"
   },
   {
    "duration": 7,
    "start_time": "2022-07-12T05:47:13.140Z"
   },
   {
    "duration": 53,
    "start_time": "2022-07-12T05:47:13.149Z"
   },
   {
    "duration": 1113,
    "start_time": "2022-07-12T05:47:57.941Z"
   },
   {
    "duration": 89,
    "start_time": "2022-07-12T05:47:59.056Z"
   },
   {
    "duration": 24,
    "start_time": "2022-07-12T05:47:59.147Z"
   },
   {
    "duration": 4,
    "start_time": "2022-07-12T05:47:59.172Z"
   },
   {
    "duration": 14,
    "start_time": "2022-07-12T05:47:59.178Z"
   },
   {
    "duration": 40,
    "start_time": "2022-07-12T05:47:59.194Z"
   },
   {
    "duration": 15,
    "start_time": "2022-07-12T05:47:59.236Z"
   },
   {
    "duration": 19,
    "start_time": "2022-07-12T05:47:59.253Z"
   },
   {
    "duration": 15,
    "start_time": "2022-07-12T05:47:59.274Z"
   },
   {
    "duration": 38,
    "start_time": "2022-07-12T05:47:59.291Z"
   },
   {
    "duration": 21,
    "start_time": "2022-07-12T05:47:59.331Z"
   },
   {
    "duration": 6,
    "start_time": "2022-07-12T05:47:59.354Z"
   },
   {
    "duration": 12,
    "start_time": "2022-07-12T05:47:59.362Z"
   },
   {
    "duration": 9,
    "start_time": "2022-07-12T05:47:59.377Z"
   },
   {
    "duration": 35,
    "start_time": "2022-07-12T05:47:59.388Z"
   },
   {
    "duration": 5,
    "start_time": "2022-07-12T05:47:59.425Z"
   },
   {
    "duration": 104,
    "start_time": "2022-07-12T05:47:59.432Z"
   },
   {
    "duration": 7,
    "start_time": "2022-07-12T05:47:59.538Z"
   },
   {
    "duration": 77,
    "start_time": "2022-07-12T05:47:59.547Z"
   },
   {
    "duration": 1098,
    "start_time": "2022-07-12T05:48:36.259Z"
   },
   {
    "duration": 86,
    "start_time": "2022-07-12T05:48:37.359Z"
   },
   {
    "duration": 23,
    "start_time": "2022-07-12T05:48:37.447Z"
   },
   {
    "duration": 3,
    "start_time": "2022-07-12T05:48:37.472Z"
   },
   {
    "duration": 6,
    "start_time": "2022-07-12T05:48:37.478Z"
   },
   {
    "duration": 24,
    "start_time": "2022-07-12T05:48:37.486Z"
   },
   {
    "duration": 18,
    "start_time": "2022-07-12T05:48:37.512Z"
   },
   {
    "duration": 17,
    "start_time": "2022-07-12T05:48:37.531Z"
   },
   {
    "duration": 10,
    "start_time": "2022-07-12T05:48:37.549Z"
   },
   {
    "duration": 17,
    "start_time": "2022-07-12T05:48:37.561Z"
   },
   {
    "duration": 18,
    "start_time": "2022-07-12T05:48:37.580Z"
   },
   {
    "duration": 6,
    "start_time": "2022-07-12T05:48:37.623Z"
   },
   {
    "duration": 13,
    "start_time": "2022-07-12T05:48:37.631Z"
   },
   {
    "duration": 14,
    "start_time": "2022-07-12T05:48:37.646Z"
   },
   {
    "duration": 7,
    "start_time": "2022-07-12T05:48:37.662Z"
   },
   {
    "duration": 10,
    "start_time": "2022-07-12T05:48:37.670Z"
   },
   {
    "duration": 96,
    "start_time": "2022-07-12T05:48:37.682Z"
   },
   {
    "duration": 7,
    "start_time": "2022-07-12T05:48:37.780Z"
   },
   {
    "duration": 56,
    "start_time": "2022-07-12T05:48:37.788Z"
   },
   {
    "duration": 74,
    "start_time": "2022-07-12T05:49:50.256Z"
   },
   {
    "duration": 1095,
    "start_time": "2022-07-12T05:50:05.355Z"
   },
   {
    "duration": 90,
    "start_time": "2022-07-12T05:50:06.452Z"
   },
   {
    "duration": 25,
    "start_time": "2022-07-12T05:50:06.543Z"
   },
   {
    "duration": 4,
    "start_time": "2022-07-12T05:50:06.570Z"
   },
   {
    "duration": 12,
    "start_time": "2022-07-12T05:50:06.575Z"
   },
   {
    "duration": 33,
    "start_time": "2022-07-12T05:50:06.589Z"
   },
   {
    "duration": 15,
    "start_time": "2022-07-12T05:50:06.623Z"
   },
   {
    "duration": 16,
    "start_time": "2022-07-12T05:50:06.640Z"
   },
   {
    "duration": 12,
    "start_time": "2022-07-12T05:50:06.658Z"
   },
   {
    "duration": 14,
    "start_time": "2022-07-12T05:50:06.673Z"
   },
   {
    "duration": 51,
    "start_time": "2022-07-12T05:50:06.689Z"
   },
   {
    "duration": 6,
    "start_time": "2022-07-12T05:50:06.741Z"
   },
   {
    "duration": 7,
    "start_time": "2022-07-12T05:50:06.749Z"
   },
   {
    "duration": 11,
    "start_time": "2022-07-12T05:50:06.757Z"
   },
   {
    "duration": 10,
    "start_time": "2022-07-12T05:50:06.770Z"
   },
   {
    "duration": 9,
    "start_time": "2022-07-12T05:50:06.782Z"
   },
   {
    "duration": 133,
    "start_time": "2022-07-12T05:50:06.793Z"
   },
   {
    "duration": 7,
    "start_time": "2022-07-12T05:50:06.928Z"
   },
   {
    "duration": 80,
    "start_time": "2022-07-12T05:50:06.938Z"
   },
   {
    "duration": 1103,
    "start_time": "2022-07-12T05:55:41.750Z"
   },
   {
    "duration": 96,
    "start_time": "2022-07-12T05:55:42.855Z"
   },
   {
    "duration": 24,
    "start_time": "2022-07-12T05:55:42.953Z"
   },
   {
    "duration": 5,
    "start_time": "2022-07-12T05:55:42.979Z"
   },
   {
    "duration": 12,
    "start_time": "2022-07-12T05:55:42.987Z"
   },
   {
    "duration": 33,
    "start_time": "2022-07-12T05:55:43.001Z"
   },
   {
    "duration": 15,
    "start_time": "2022-07-12T05:55:43.037Z"
   },
   {
    "duration": 18,
    "start_time": "2022-07-12T05:55:43.054Z"
   },
   {
    "duration": 11,
    "start_time": "2022-07-12T05:55:43.074Z"
   },
   {
    "duration": 45,
    "start_time": "2022-07-12T05:55:43.086Z"
   },
   {
    "duration": 19,
    "start_time": "2022-07-12T05:55:43.133Z"
   },
   {
    "duration": 8,
    "start_time": "2022-07-12T05:55:43.154Z"
   },
   {
    "duration": 11,
    "start_time": "2022-07-12T05:55:43.163Z"
   },
   {
    "duration": 7,
    "start_time": "2022-07-12T05:55:43.177Z"
   },
   {
    "duration": 38,
    "start_time": "2022-07-12T05:55:43.186Z"
   },
   {
    "duration": 7,
    "start_time": "2022-07-12T05:55:43.225Z"
   },
   {
    "duration": 104,
    "start_time": "2022-07-12T05:55:43.234Z"
   },
   {
    "duration": 7,
    "start_time": "2022-07-12T05:55:43.340Z"
   },
   {
    "duration": 72,
    "start_time": "2022-07-12T05:55:43.349Z"
   },
   {
    "duration": 1195,
    "start_time": "2022-07-12T05:56:27.811Z"
   },
   {
    "duration": 88,
    "start_time": "2022-07-12T05:56:29.008Z"
   },
   {
    "duration": 23,
    "start_time": "2022-07-12T05:56:29.098Z"
   },
   {
    "duration": 5,
    "start_time": "2022-07-12T05:56:29.123Z"
   },
   {
    "duration": 9,
    "start_time": "2022-07-12T05:56:29.130Z"
   },
   {
    "duration": 27,
    "start_time": "2022-07-12T05:56:29.140Z"
   },
   {
    "duration": 15,
    "start_time": "2022-07-12T05:56:29.169Z"
   },
   {
    "duration": 44,
    "start_time": "2022-07-12T05:56:29.185Z"
   },
   {
    "duration": 12,
    "start_time": "2022-07-12T05:56:29.231Z"
   },
   {
    "duration": 32,
    "start_time": "2022-07-12T05:56:29.245Z"
   },
   {
    "duration": 36,
    "start_time": "2022-07-12T05:56:29.279Z"
   },
   {
    "duration": 7,
    "start_time": "2022-07-12T05:56:29.317Z"
   },
   {
    "duration": 13,
    "start_time": "2022-07-12T05:56:29.325Z"
   },
   {
    "duration": 8,
    "start_time": "2022-07-12T05:56:29.342Z"
   },
   {
    "duration": 29,
    "start_time": "2022-07-12T05:56:29.352Z"
   },
   {
    "duration": 8,
    "start_time": "2022-07-12T05:56:29.383Z"
   },
   {
    "duration": 125,
    "start_time": "2022-07-12T05:56:29.393Z"
   },
   {
    "duration": 8,
    "start_time": "2022-07-12T05:56:29.523Z"
   },
   {
    "duration": 79,
    "start_time": "2022-07-12T05:56:29.533Z"
   },
   {
    "duration": 1124,
    "start_time": "2022-07-12T05:56:56.073Z"
   },
   {
    "duration": 85,
    "start_time": "2022-07-12T05:56:57.198Z"
   },
   {
    "duration": 23,
    "start_time": "2022-07-12T05:56:57.284Z"
   },
   {
    "duration": 4,
    "start_time": "2022-07-12T05:56:57.309Z"
   },
   {
    "duration": 8,
    "start_time": "2022-07-12T05:56:57.315Z"
   },
   {
    "duration": 25,
    "start_time": "2022-07-12T05:56:57.324Z"
   },
   {
    "duration": 15,
    "start_time": "2022-07-12T05:56:57.350Z"
   },
   {
    "duration": 25,
    "start_time": "2022-07-12T05:56:57.366Z"
   },
   {
    "duration": 34,
    "start_time": "2022-07-12T05:56:57.392Z"
   },
   {
    "duration": 16,
    "start_time": "2022-07-12T05:56:57.428Z"
   },
   {
    "duration": 19,
    "start_time": "2022-07-12T05:56:57.446Z"
   },
   {
    "duration": 6,
    "start_time": "2022-07-12T05:56:57.467Z"
   },
   {
    "duration": 9,
    "start_time": "2022-07-12T05:56:57.475Z"
   },
   {
    "duration": 39,
    "start_time": "2022-07-12T05:56:57.487Z"
   },
   {
    "duration": 11,
    "start_time": "2022-07-12T05:56:57.528Z"
   },
   {
    "duration": 10,
    "start_time": "2022-07-12T05:56:57.540Z"
   },
   {
    "duration": 112,
    "start_time": "2022-07-12T05:56:57.552Z"
   },
   {
    "duration": 8,
    "start_time": "2022-07-12T05:56:57.666Z"
   },
   {
    "duration": 102,
    "start_time": "2022-07-12T05:56:57.676Z"
   },
   {
    "duration": 4,
    "start_time": "2022-07-12T05:58:35.681Z"
   },
   {
    "duration": 18,
    "start_time": "2022-07-12T06:03:26.756Z"
   },
   {
    "duration": 16,
    "start_time": "2022-07-12T06:03:36.373Z"
   },
   {
    "duration": 17,
    "start_time": "2022-07-12T06:03:42.855Z"
   },
   {
    "duration": 17,
    "start_time": "2022-07-12T06:04:13.574Z"
   },
   {
    "duration": 18,
    "start_time": "2022-07-12T06:04:32.504Z"
   },
   {
    "duration": 1167,
    "start_time": "2022-07-12T06:04:48.796Z"
   },
   {
    "duration": 108,
    "start_time": "2022-07-12T06:04:49.965Z"
   },
   {
    "duration": 24,
    "start_time": "2022-07-12T06:04:50.075Z"
   },
   {
    "duration": 17,
    "start_time": "2022-07-12T06:04:50.101Z"
   },
   {
    "duration": 12,
    "start_time": "2022-07-12T06:04:50.120Z"
   },
   {
    "duration": 28,
    "start_time": "2022-07-12T06:04:50.134Z"
   },
   {
    "duration": 16,
    "start_time": "2022-07-12T06:04:50.164Z"
   },
   {
    "duration": 18,
    "start_time": "2022-07-12T06:04:50.182Z"
   },
   {
    "duration": 25,
    "start_time": "2022-07-12T06:04:50.202Z"
   },
   {
    "duration": 16,
    "start_time": "2022-07-12T06:04:50.229Z"
   },
   {
    "duration": 21,
    "start_time": "2022-07-12T06:04:50.247Z"
   },
   {
    "duration": 8,
    "start_time": "2022-07-12T06:04:50.270Z"
   },
   {
    "duration": 43,
    "start_time": "2022-07-12T06:04:50.280Z"
   },
   {
    "duration": 5,
    "start_time": "2022-07-12T06:04:50.327Z"
   },
   {
    "duration": 20,
    "start_time": "2022-07-12T06:04:50.334Z"
   },
   {
    "duration": 16,
    "start_time": "2022-07-12T06:04:50.356Z"
   },
   {
    "duration": 100,
    "start_time": "2022-07-12T06:04:50.374Z"
   },
   {
    "duration": 7,
    "start_time": "2022-07-12T06:04:50.476Z"
   },
   {
    "duration": 16,
    "start_time": "2022-07-12T06:04:50.485Z"
   },
   {
    "duration": 20,
    "start_time": "2022-07-12T06:04:50.503Z"
   },
   {
    "duration": 20,
    "start_time": "2022-07-12T06:04:50.524Z"
   },
   {
    "duration": 19,
    "start_time": "2022-07-12T06:05:00.677Z"
   },
   {
    "duration": 29,
    "start_time": "2022-07-12T06:05:20.633Z"
   },
   {
    "duration": 6,
    "start_time": "2022-07-12T06:07:39.016Z"
   },
   {
    "duration": 7,
    "start_time": "2022-07-12T06:07:51.213Z"
   },
   {
    "duration": 9,
    "start_time": "2022-07-12T06:09:30.422Z"
   },
   {
    "duration": 1114,
    "start_time": "2022-07-12T06:09:57.639Z"
   },
   {
    "duration": 88,
    "start_time": "2022-07-12T06:09:58.755Z"
   },
   {
    "duration": 25,
    "start_time": "2022-07-12T06:09:58.844Z"
   },
   {
    "duration": 5,
    "start_time": "2022-07-12T06:09:58.870Z"
   },
   {
    "duration": 13,
    "start_time": "2022-07-12T06:09:58.877Z"
   },
   {
    "duration": 26,
    "start_time": "2022-07-12T06:09:58.892Z"
   },
   {
    "duration": 15,
    "start_time": "2022-07-12T06:09:58.922Z"
   },
   {
    "duration": 18,
    "start_time": "2022-07-12T06:09:58.939Z"
   },
   {
    "duration": 12,
    "start_time": "2022-07-12T06:09:58.959Z"
   },
   {
    "duration": 15,
    "start_time": "2022-07-12T06:09:58.973Z"
   },
   {
    "duration": 49,
    "start_time": "2022-07-12T06:09:58.990Z"
   },
   {
    "duration": 7,
    "start_time": "2022-07-12T06:09:59.041Z"
   },
   {
    "duration": 8,
    "start_time": "2022-07-12T06:09:59.049Z"
   },
   {
    "duration": 17,
    "start_time": "2022-07-12T06:09:59.059Z"
   },
   {
    "duration": 11,
    "start_time": "2022-07-12T06:09:59.077Z"
   },
   {
    "duration": 5,
    "start_time": "2022-07-12T06:09:59.090Z"
   },
   {
    "duration": 110,
    "start_time": "2022-07-12T06:09:59.097Z"
   },
   {
    "duration": 16,
    "start_time": "2022-07-12T06:09:59.208Z"
   },
   {
    "duration": 24,
    "start_time": "2022-07-12T06:09:59.225Z"
   },
   {
    "duration": 18,
    "start_time": "2022-07-12T06:09:59.251Z"
   },
   {
    "duration": 9,
    "start_time": "2022-07-12T06:09:59.270Z"
   },
   {
    "duration": 30,
    "start_time": "2022-07-12T06:26:18.179Z"
   },
   {
    "duration": 20,
    "start_time": "2022-07-12T06:29:17.336Z"
   },
   {
    "duration": 5,
    "start_time": "2022-07-12T06:30:26.815Z"
   },
   {
    "duration": 16,
    "start_time": "2022-07-12T06:31:05.341Z"
   },
   {
    "duration": 20,
    "start_time": "2022-07-12T06:31:32.091Z"
   },
   {
    "duration": 17,
    "start_time": "2022-07-12T06:31:40.460Z"
   },
   {
    "duration": 16,
    "start_time": "2022-07-12T06:32:32.208Z"
   },
   {
    "duration": 17,
    "start_time": "2022-07-12T06:33:49.874Z"
   },
   {
    "duration": 26,
    "start_time": "2022-07-12T06:34:49.791Z"
   },
   {
    "duration": 21,
    "start_time": "2022-07-12T06:39:44.973Z"
   },
   {
    "duration": 5,
    "start_time": "2022-07-12T06:40:35.075Z"
   },
   {
    "duration": 6,
    "start_time": "2022-07-12T06:40:47.473Z"
   },
   {
    "duration": 6,
    "start_time": "2022-07-12T06:40:56.575Z"
   },
   {
    "duration": 131,
    "start_time": "2022-07-12T06:48:13.062Z"
   },
   {
    "duration": 13,
    "start_time": "2022-07-12T06:48:59.036Z"
   },
   {
    "duration": 9,
    "start_time": "2022-07-12T06:49:19.952Z"
   },
   {
    "duration": 12,
    "start_time": "2022-07-12T06:49:26.075Z"
   },
   {
    "duration": 329,
    "start_time": "2022-07-12T06:50:52.007Z"
   },
   {
    "duration": 273,
    "start_time": "2022-07-12T06:51:12.066Z"
   },
   {
    "duration": 254,
    "start_time": "2022-07-12T06:52:04.652Z"
   },
   {
    "duration": 188,
    "start_time": "2022-07-12T06:53:21.408Z"
   },
   {
    "duration": 38,
    "start_time": "2022-07-12T06:53:35.268Z"
   },
   {
    "duration": 341,
    "start_time": "2022-07-12T06:54:32.221Z"
   },
   {
    "duration": 206,
    "start_time": "2022-07-12T06:56:14.076Z"
   },
   {
    "duration": 725,
    "start_time": "2022-07-12T06:58:41.185Z"
   },
   {
    "duration": 34,
    "start_time": "2022-07-12T06:59:59.526Z"
   },
   {
    "duration": 34,
    "start_time": "2022-07-12T07:01:42.552Z"
   },
   {
    "duration": 41,
    "start_time": "2022-07-12T07:02:23.986Z"
   },
   {
    "duration": 46,
    "start_time": "2022-07-12T07:03:18.809Z"
   },
   {
    "duration": 67,
    "start_time": "2022-07-12T07:03:37.241Z"
   },
   {
    "duration": 71,
    "start_time": "2022-07-12T07:03:44.767Z"
   },
   {
    "duration": 114,
    "start_time": "2022-07-12T07:04:49.917Z"
   },
   {
    "duration": 191,
    "start_time": "2022-07-12T07:05:11.515Z"
   },
   {
    "duration": 104,
    "start_time": "2022-07-12T07:05:24.922Z"
   },
   {
    "duration": 1175,
    "start_time": "2022-07-12T07:06:54.810Z"
   },
   {
    "duration": 91,
    "start_time": "2022-07-12T07:07:06.890Z"
   },
   {
    "duration": 307,
    "start_time": "2022-07-12T07:08:21.820Z"
   },
   {
    "duration": 594,
    "start_time": "2022-07-12T07:08:29.975Z"
   },
   {
    "duration": 288,
    "start_time": "2022-07-12T07:50:49.111Z"
   },
   {
    "duration": 319,
    "start_time": "2022-07-12T07:51:48.279Z"
   },
   {
    "duration": 316,
    "start_time": "2022-07-12T07:52:15.247Z"
   },
   {
    "duration": 241,
    "start_time": "2022-07-12T07:52:22.151Z"
   },
   {
    "duration": 253,
    "start_time": "2022-07-12T07:53:37.159Z"
   },
   {
    "duration": 697,
    "start_time": "2022-07-12T07:53:47.797Z"
   },
   {
    "duration": 902,
    "start_time": "2022-07-12T07:54:00.718Z"
   },
   {
    "duration": 102,
    "start_time": "2022-07-12T07:54:58.026Z"
   },
   {
    "duration": 120,
    "start_time": "2022-07-12T07:56:03.273Z"
   },
   {
    "duration": 874,
    "start_time": "2022-07-12T07:56:22.286Z"
   },
   {
    "duration": 82,
    "start_time": "2022-07-12T07:56:35.291Z"
   },
   {
    "duration": 943,
    "start_time": "2022-07-12T07:56:45.646Z"
   },
   {
    "duration": 61,
    "start_time": "2022-07-12T07:57:09.959Z"
   },
   {
    "duration": 622,
    "start_time": "2022-07-12T07:57:50.167Z"
   },
   {
    "duration": 878,
    "start_time": "2022-07-12T07:58:03.304Z"
   },
   {
    "duration": 793,
    "start_time": "2022-07-12T07:58:40.330Z"
   },
   {
    "duration": 776,
    "start_time": "2022-07-12T07:58:45.054Z"
   },
   {
    "duration": 106,
    "start_time": "2022-07-12T07:58:57.517Z"
   },
   {
    "duration": 95,
    "start_time": "2022-07-12T07:59:28.234Z"
   },
   {
    "duration": 171,
    "start_time": "2022-07-12T08:00:44.186Z"
   },
   {
    "duration": 31,
    "start_time": "2022-07-12T08:01:49.542Z"
   },
   {
    "duration": 99,
    "start_time": "2022-07-12T08:02:05.549Z"
   },
   {
    "duration": 104,
    "start_time": "2022-07-12T08:02:21.904Z"
   },
   {
    "duration": 66,
    "start_time": "2022-07-12T09:18:45.067Z"
   },
   {
    "duration": 108,
    "start_time": "2022-07-12T09:18:52.734Z"
   },
   {
    "duration": 51,
    "start_time": "2022-07-12T09:19:53.974Z"
   },
   {
    "duration": 112,
    "start_time": "2022-07-12T09:20:01.411Z"
   },
   {
    "duration": 110,
    "start_time": "2022-07-12T09:22:15.731Z"
   },
   {
    "duration": 174,
    "start_time": "2022-07-12T09:22:38.295Z"
   },
   {
    "duration": 927,
    "start_time": "2022-07-12T09:22:56.705Z"
   },
   {
    "duration": 99,
    "start_time": "2022-07-12T09:23:05.852Z"
   },
   {
    "duration": 101,
    "start_time": "2022-07-12T09:24:48.747Z"
   },
   {
    "duration": 86,
    "start_time": "2022-07-12T09:26:05.891Z"
   },
   {
    "duration": 109,
    "start_time": "2022-07-12T09:27:03.240Z"
   },
   {
    "duration": 655,
    "start_time": "2022-07-12T09:27:10.457Z"
   },
   {
    "duration": 578,
    "start_time": "2022-07-12T09:27:45.244Z"
   },
   {
    "duration": 1201,
    "start_time": "2022-07-12T09:27:50.131Z"
   },
   {
    "duration": 94,
    "start_time": "2022-07-12T09:27:51.335Z"
   },
   {
    "duration": 24,
    "start_time": "2022-07-12T09:27:51.430Z"
   },
   {
    "duration": 5,
    "start_time": "2022-07-12T09:27:51.456Z"
   },
   {
    "duration": 8,
    "start_time": "2022-07-12T09:27:51.464Z"
   },
   {
    "duration": 27,
    "start_time": "2022-07-12T09:27:51.474Z"
   },
   {
    "duration": 31,
    "start_time": "2022-07-12T09:27:51.502Z"
   },
   {
    "duration": 22,
    "start_time": "2022-07-12T09:27:51.534Z"
   },
   {
    "duration": 14,
    "start_time": "2022-07-12T09:27:51.558Z"
   },
   {
    "duration": 49,
    "start_time": "2022-07-12T09:27:51.575Z"
   },
   {
    "duration": 21,
    "start_time": "2022-07-12T09:27:51.626Z"
   },
   {
    "duration": 8,
    "start_time": "2022-07-12T09:27:51.649Z"
   },
   {
    "duration": 8,
    "start_time": "2022-07-12T09:27:51.658Z"
   },
   {
    "duration": 5,
    "start_time": "2022-07-12T09:27:51.670Z"
   },
   {
    "duration": 47,
    "start_time": "2022-07-12T09:27:51.677Z"
   },
   {
    "duration": 13,
    "start_time": "2022-07-12T09:27:51.726Z"
   },
   {
    "duration": 108,
    "start_time": "2022-07-12T09:27:51.740Z"
   },
   {
    "duration": 7,
    "start_time": "2022-07-12T09:27:51.850Z"
   },
   {
    "duration": 10,
    "start_time": "2022-07-12T09:27:51.859Z"
   },
   {
    "duration": 18,
    "start_time": "2022-07-12T09:27:51.871Z"
   },
   {
    "duration": 45,
    "start_time": "2022-07-12T09:27:51.890Z"
   },
   {
    "duration": 7,
    "start_time": "2022-07-12T09:27:51.937Z"
   },
   {
    "duration": 835,
    "start_time": "2022-07-12T09:27:51.946Z"
   },
   {
    "duration": 96,
    "start_time": "2022-07-12T09:28:09.532Z"
   },
   {
    "duration": 7,
    "start_time": "2022-07-12T09:29:05.613Z"
   },
   {
    "duration": 5,
    "start_time": "2022-07-12T09:29:18.989Z"
   },
   {
    "duration": 13,
    "start_time": "2022-07-12T09:30:30.136Z"
   },
   {
    "duration": 6,
    "start_time": "2022-07-12T09:30:39.437Z"
   },
   {
    "duration": 91,
    "start_time": "2022-07-12T09:30:59.959Z"
   },
   {
    "duration": 8,
    "start_time": "2022-07-12T09:31:15.697Z"
   },
   {
    "duration": 6,
    "start_time": "2022-07-12T09:31:40.947Z"
   },
   {
    "duration": 1002,
    "start_time": "2022-07-12T09:31:52.568Z"
   },
   {
    "duration": 10,
    "start_time": "2022-07-12T09:32:07.390Z"
   },
   {
    "duration": 9,
    "start_time": "2022-07-12T09:32:42.517Z"
   },
   {
    "duration": 19,
    "start_time": "2022-07-12T09:33:54.544Z"
   },
   {
    "duration": 1041,
    "start_time": "2022-07-12T09:34:01.235Z"
   },
   {
    "duration": 911,
    "start_time": "2022-07-12T09:34:09.432Z"
   },
   {
    "duration": 7,
    "start_time": "2022-07-12T09:34:38.260Z"
   },
   {
    "duration": 9,
    "start_time": "2022-07-12T09:34:56.489Z"
   },
   {
    "duration": 76,
    "start_time": "2022-07-12T09:35:09.498Z"
   },
   {
    "duration": 4,
    "start_time": "2022-07-12T09:35:18.863Z"
   },
   {
    "duration": 4,
    "start_time": "2022-07-12T09:35:34.518Z"
   },
   {
    "duration": 5,
    "start_time": "2022-07-12T09:35:44.481Z"
   },
   {
    "duration": 4,
    "start_time": "2022-07-12T09:35:50.598Z"
   },
   {
    "duration": 4,
    "start_time": "2022-07-12T09:35:55.209Z"
   },
   {
    "duration": 38,
    "start_time": "2022-07-12T09:38:33.567Z"
   },
   {
    "duration": 38,
    "start_time": "2022-07-12T09:39:04.020Z"
   },
   {
    "duration": 107,
    "start_time": "2022-07-12T09:39:42.737Z"
   },
   {
    "duration": 1249,
    "start_time": "2022-07-12T09:40:03.057Z"
   },
   {
    "duration": 107,
    "start_time": "2022-07-12T09:40:40.736Z"
   },
   {
    "duration": 111,
    "start_time": "2022-07-12T09:41:56.894Z"
   },
   {
    "duration": 175,
    "start_time": "2022-07-12T09:42:21.308Z"
   },
   {
    "duration": 65,
    "start_time": "2022-07-12T09:42:42.833Z"
   },
   {
    "duration": 55,
    "start_time": "2022-07-12T09:42:50.993Z"
   },
   {
    "duration": 98,
    "start_time": "2022-07-12T09:42:59.864Z"
   },
   {
    "duration": 110,
    "start_time": "2022-07-12T09:43:08.804Z"
   },
   {
    "duration": 104,
    "start_time": "2022-07-12T09:43:32.662Z"
   },
   {
    "duration": 94,
    "start_time": "2022-07-12T09:43:46.535Z"
   },
   {
    "duration": 106,
    "start_time": "2022-07-12T09:43:59.283Z"
   },
   {
    "duration": 98,
    "start_time": "2022-07-12T09:44:08.110Z"
   },
   {
    "duration": 113,
    "start_time": "2022-07-12T09:44:22.628Z"
   },
   {
    "duration": 168,
    "start_time": "2022-07-12T09:44:33.566Z"
   },
   {
    "duration": 99,
    "start_time": "2022-07-12T09:44:38.752Z"
   },
   {
    "duration": 110,
    "start_time": "2022-07-12T09:45:28.228Z"
   },
   {
    "duration": 65,
    "start_time": "2022-07-12T09:45:42.613Z"
   },
   {
    "duration": 107,
    "start_time": "2022-07-12T09:45:46.533Z"
   },
   {
    "duration": 120,
    "start_time": "2022-07-12T09:45:57.140Z"
   },
   {
    "duration": 110,
    "start_time": "2022-07-12T09:46:05.501Z"
   },
   {
    "duration": 185,
    "start_time": "2022-07-12T09:46:23.009Z"
   },
   {
    "duration": 109,
    "start_time": "2022-07-12T09:46:37.794Z"
   },
   {
    "duration": 117,
    "start_time": "2022-07-12T09:46:52.798Z"
   },
   {
    "duration": 107,
    "start_time": "2022-07-12T09:47:12.071Z"
   },
   {
    "duration": 23,
    "start_time": "2022-07-12T09:50:13.052Z"
   },
   {
    "duration": 2405,
    "start_time": "2022-07-12T09:50:33.792Z"
   },
   {
    "duration": 19,
    "start_time": "2022-07-12T09:50:42.868Z"
   },
   {
    "duration": 22,
    "start_time": "2022-07-12T09:51:35.112Z"
   },
   {
    "duration": 16,
    "start_time": "2022-07-12T09:51:53.945Z"
   },
   {
    "duration": 18,
    "start_time": "2022-07-12T09:52:28.216Z"
   },
   {
    "duration": 18,
    "start_time": "2022-07-12T09:52:34.205Z"
   },
   {
    "duration": 24,
    "start_time": "2022-07-12T09:52:51.139Z"
   },
   {
    "duration": 26,
    "start_time": "2022-07-12T09:53:13.112Z"
   },
   {
    "duration": 15,
    "start_time": "2022-07-12T09:53:25.451Z"
   },
   {
    "duration": 19,
    "start_time": "2022-07-12T09:54:12.827Z"
   },
   {
    "duration": 2399,
    "start_time": "2022-07-12T09:54:34.858Z"
   },
   {
    "duration": 89,
    "start_time": "2022-07-12T09:55:03.158Z"
   },
   {
    "duration": 90,
    "start_time": "2022-07-12T09:55:43.055Z"
   },
   {
    "duration": 53,
    "start_time": "2022-07-12T09:56:53.062Z"
   },
   {
    "duration": 4154,
    "start_time": "2022-07-12T09:56:58.613Z"
   },
   {
    "duration": 2120,
    "start_time": "2022-07-12T09:57:40.258Z"
   },
   {
    "duration": 104,
    "start_time": "2022-07-12T09:58:14.597Z"
   },
   {
    "duration": 1336,
    "start_time": "2022-07-12T09:58:52.147Z"
   },
   {
    "duration": 94,
    "start_time": "2022-07-12T09:59:31.032Z"
   },
   {
    "duration": 17,
    "start_time": "2022-07-12T10:07:23.454Z"
   },
   {
    "duration": 80,
    "start_time": "2022-07-12T10:11:49.312Z"
   },
   {
    "duration": 9,
    "start_time": "2022-07-12T10:11:56.973Z"
   },
   {
    "duration": 1250,
    "start_time": "2022-07-12T10:12:29.400Z"
   },
   {
    "duration": 95,
    "start_time": "2022-07-12T10:12:30.652Z"
   },
   {
    "duration": 25,
    "start_time": "2022-07-12T10:12:30.748Z"
   },
   {
    "duration": 25,
    "start_time": "2022-07-12T10:12:30.775Z"
   },
   {
    "duration": 37,
    "start_time": "2022-07-12T10:12:30.802Z"
   },
   {
    "duration": 42,
    "start_time": "2022-07-12T10:12:30.841Z"
   },
   {
    "duration": 23,
    "start_time": "2022-07-12T10:12:30.885Z"
   },
   {
    "duration": 20,
    "start_time": "2022-07-12T10:12:30.909Z"
   },
   {
    "duration": 21,
    "start_time": "2022-07-12T10:12:30.930Z"
   },
   {
    "duration": 43,
    "start_time": "2022-07-12T10:12:30.953Z"
   },
   {
    "duration": 66,
    "start_time": "2022-07-12T10:12:30.999Z"
   },
   {
    "duration": 23,
    "start_time": "2022-07-12T10:12:31.067Z"
   },
   {
    "duration": 22,
    "start_time": "2022-07-12T10:12:31.092Z"
   },
   {
    "duration": 57,
    "start_time": "2022-07-12T10:12:31.126Z"
   },
   {
    "duration": 30,
    "start_time": "2022-07-12T10:12:31.186Z"
   },
   {
    "duration": 66,
    "start_time": "2022-07-12T10:12:31.218Z"
   },
   {
    "duration": 131,
    "start_time": "2022-07-12T10:12:31.286Z"
   },
   {
    "duration": 9,
    "start_time": "2022-07-12T10:12:31.419Z"
   },
   {
    "duration": 40,
    "start_time": "2022-07-12T10:12:31.430Z"
   },
   {
    "duration": 69,
    "start_time": "2022-07-12T10:12:31.472Z"
   },
   {
    "duration": 50,
    "start_time": "2022-07-12T10:12:31.543Z"
   },
   {
    "duration": 7,
    "start_time": "2022-07-12T10:12:31.594Z"
   },
   {
    "duration": 31,
    "start_time": "2022-07-12T10:12:31.603Z"
   },
   {
    "duration": 109,
    "start_time": "2022-07-12T10:12:45.977Z"
   },
   {
    "duration": 100,
    "start_time": "2022-07-12T10:13:48.900Z"
   },
   {
    "duration": 138,
    "start_time": "2022-07-12T10:14:25.889Z"
   },
   {
    "duration": 1245,
    "start_time": "2022-07-12T10:14:44.345Z"
   },
   {
    "duration": 98,
    "start_time": "2022-07-12T10:14:45.592Z"
   },
   {
    "duration": 23,
    "start_time": "2022-07-12T10:14:45.691Z"
   },
   {
    "duration": 4,
    "start_time": "2022-07-12T10:14:45.716Z"
   },
   {
    "duration": 12,
    "start_time": "2022-07-12T10:14:45.721Z"
   },
   {
    "duration": 29,
    "start_time": "2022-07-12T10:14:45.734Z"
   },
   {
    "duration": 16,
    "start_time": "2022-07-12T10:14:45.764Z"
   },
   {
    "duration": 18,
    "start_time": "2022-07-12T10:14:45.782Z"
   },
   {
    "duration": 12,
    "start_time": "2022-07-12T10:14:45.822Z"
   },
   {
    "duration": 15,
    "start_time": "2022-07-12T10:14:45.836Z"
   },
   {
    "duration": 20,
    "start_time": "2022-07-12T10:14:45.853Z"
   },
   {
    "duration": 7,
    "start_time": "2022-07-12T10:14:45.874Z"
   },
   {
    "duration": 41,
    "start_time": "2022-07-12T10:14:45.883Z"
   },
   {
    "duration": 7,
    "start_time": "2022-07-12T10:14:45.926Z"
   },
   {
    "duration": 10,
    "start_time": "2022-07-12T10:14:45.935Z"
   },
   {
    "duration": 6,
    "start_time": "2022-07-12T10:14:45.948Z"
   },
   {
    "duration": 139,
    "start_time": "2022-07-12T10:14:45.956Z"
   },
   {
    "duration": 7,
    "start_time": "2022-07-12T10:14:46.097Z"
   },
   {
    "duration": 22,
    "start_time": "2022-07-12T10:14:46.106Z"
   },
   {
    "duration": 26,
    "start_time": "2022-07-12T10:14:46.130Z"
   },
   {
    "duration": 20,
    "start_time": "2022-07-12T10:14:46.158Z"
   },
   {
    "duration": 6,
    "start_time": "2022-07-12T10:14:46.180Z"
   },
   {
    "duration": 48,
    "start_time": "2022-07-12T10:14:46.188Z"
   },
   {
    "duration": 678,
    "start_time": "2022-07-12T10:15:03.171Z"
   },
   {
    "duration": 11,
    "start_time": "2022-07-12T10:15:15.565Z"
   },
   {
    "duration": 988,
    "start_time": "2022-07-12T10:16:03.427Z"
   },
   {
    "duration": 1446,
    "start_time": "2022-07-12T10:16:26.888Z"
   },
   {
    "duration": 23,
    "start_time": "2022-07-12T10:16:53.815Z"
   },
   {
    "duration": 2372,
    "start_time": "2022-07-12T10:17:09.346Z"
   },
   {
    "duration": 16,
    "start_time": "2022-07-12T10:17:31.672Z"
   },
   {
    "duration": 17,
    "start_time": "2022-07-12T10:18:02.524Z"
   },
   {
    "duration": 18,
    "start_time": "2022-07-12T10:19:04.324Z"
   },
   {
    "duration": 17,
    "start_time": "2022-07-12T10:19:15.615Z"
   },
   {
    "duration": 22,
    "start_time": "2022-07-12T10:20:19.373Z"
   },
   {
    "duration": 18,
    "start_time": "2022-07-12T10:20:31.047Z"
   },
   {
    "duration": 22,
    "start_time": "2022-07-12T10:21:03.561Z"
   },
   {
    "duration": 18,
    "start_time": "2022-07-12T10:21:31.132Z"
   },
   {
    "duration": 1793,
    "start_time": "2022-07-12T10:21:45.181Z"
   },
   {
    "duration": 106,
    "start_time": "2022-07-12T10:22:38.569Z"
   },
   {
    "duration": 108,
    "start_time": "2022-07-12T10:22:44.018Z"
   },
   {
    "duration": 1864,
    "start_time": "2022-07-12T10:22:55.620Z"
   },
   {
    "duration": 1916,
    "start_time": "2022-07-12T10:23:43.766Z"
   },
   {
    "duration": 3999,
    "start_time": "2022-07-12T10:24:33.407Z"
   },
   {
    "duration": 436,
    "start_time": "2022-07-12T10:25:38.475Z"
   },
   {
    "duration": 84,
    "start_time": "2022-07-12T10:27:13.317Z"
   },
   {
    "duration": 18,
    "start_time": "2022-07-12T10:27:20.085Z"
   },
   {
    "duration": 4,
    "start_time": "2022-07-12T10:28:32.627Z"
   },
   {
    "duration": 522,
    "start_time": "2022-07-12T10:28:40.477Z"
   },
   {
    "duration": 538,
    "start_time": "2022-07-12T10:29:17.440Z"
   },
   {
    "duration": 542,
    "start_time": "2022-07-12T10:29:39.569Z"
   },
   {
    "duration": 8,
    "start_time": "2022-07-12T10:32:23.129Z"
   },
   {
    "duration": 7,
    "start_time": "2022-07-12T10:32:49.897Z"
   },
   {
    "duration": 14,
    "start_time": "2022-07-12T10:34:17.990Z"
   },
   {
    "duration": 13,
    "start_time": "2022-07-12T10:34:36.623Z"
   },
   {
    "duration": 14,
    "start_time": "2022-07-12T10:36:32.719Z"
   },
   {
    "duration": 13,
    "start_time": "2022-07-12T10:37:00.094Z"
   },
   {
    "duration": 17,
    "start_time": "2022-07-12T10:37:07.894Z"
   },
   {
    "duration": 12,
    "start_time": "2022-07-12T10:37:46.096Z"
   },
   {
    "duration": 12,
    "start_time": "2022-07-12T10:39:07.331Z"
   },
   {
    "duration": 12,
    "start_time": "2022-07-12T10:39:59.273Z"
   },
   {
    "duration": 11,
    "start_time": "2022-07-12T10:42:21.307Z"
   },
   {
    "duration": 11,
    "start_time": "2022-07-12T10:42:34.107Z"
   },
   {
    "duration": 10,
    "start_time": "2022-07-12T10:44:10.038Z"
   },
   {
    "duration": 8,
    "start_time": "2022-07-12T10:45:02.511Z"
   },
   {
    "duration": 9,
    "start_time": "2022-07-12T10:45:22.776Z"
   },
   {
    "duration": 28,
    "start_time": "2022-07-12T10:48:33.666Z"
   },
   {
    "duration": 5,
    "start_time": "2022-07-12T10:49:52.010Z"
   },
   {
    "duration": 7,
    "start_time": "2022-07-12T10:50:04.047Z"
   },
   {
    "duration": 13,
    "start_time": "2022-07-12T10:50:28.998Z"
   },
   {
    "duration": 18,
    "start_time": "2022-07-12T10:50:51.543Z"
   },
   {
    "duration": 12,
    "start_time": "2022-07-12T10:51:13.296Z"
   },
   {
    "duration": 9,
    "start_time": "2022-07-12T10:52:58.296Z"
   },
   {
    "duration": 5,
    "start_time": "2022-07-12T10:53:08.636Z"
   },
   {
    "duration": 33,
    "start_time": "2022-07-12T10:53:42.972Z"
   },
   {
    "duration": 21,
    "start_time": "2022-07-12T10:53:52.129Z"
   },
   {
    "duration": 5,
    "start_time": "2022-07-12T10:54:07.010Z"
   },
   {
    "duration": 4,
    "start_time": "2022-07-12T10:54:20.556Z"
   },
   {
    "duration": 5,
    "start_time": "2022-07-12T10:54:31.662Z"
   },
   {
    "duration": 5,
    "start_time": "2022-07-12T10:55:41.746Z"
   },
   {
    "duration": 7,
    "start_time": "2022-07-12T10:56:10.035Z"
   },
   {
    "duration": 137,
    "start_time": "2022-07-12T10:56:55.578Z"
   },
   {
    "duration": 81,
    "start_time": "2022-07-12T10:57:04.097Z"
   },
   {
    "duration": 137,
    "start_time": "2022-07-12T10:57:09.424Z"
   },
   {
    "duration": 210,
    "start_time": "2022-07-12T10:57:19.438Z"
   },
   {
    "duration": 146,
    "start_time": "2022-07-12T10:58:20.584Z"
   },
   {
    "duration": 137,
    "start_time": "2022-07-12T10:58:39.653Z"
   },
   {
    "duration": 8,
    "start_time": "2022-07-12T10:59:55.289Z"
   },
   {
    "duration": 7,
    "start_time": "2022-07-12T11:00:01.388Z"
   },
   {
    "duration": 6,
    "start_time": "2022-07-12T11:00:12.205Z"
   },
   {
    "duration": 6,
    "start_time": "2022-07-12T11:00:37.568Z"
   },
   {
    "duration": 139,
    "start_time": "2022-07-12T11:02:08.455Z"
   },
   {
    "duration": 164,
    "start_time": "2022-07-12T21:48:29.838Z"
   },
   {
    "duration": 131,
    "start_time": "2022-07-12T21:48:47.986Z"
   },
   {
    "duration": 30,
    "start_time": "2022-07-12T21:52:06.164Z"
   },
   {
    "duration": 17,
    "start_time": "2022-07-12T21:52:12.828Z"
   },
   {
    "duration": 1067,
    "start_time": "2022-07-12T21:52:18.980Z"
   },
   {
    "duration": 89,
    "start_time": "2022-07-12T21:52:20.049Z"
   },
   {
    "duration": 24,
    "start_time": "2022-07-12T21:52:20.140Z"
   },
   {
    "duration": 4,
    "start_time": "2022-07-12T21:52:20.165Z"
   },
   {
    "duration": 15,
    "start_time": "2022-07-12T21:52:20.172Z"
   },
   {
    "duration": 24,
    "start_time": "2022-07-12T21:52:20.188Z"
   },
   {
    "duration": 16,
    "start_time": "2022-07-12T21:52:20.213Z"
   },
   {
    "duration": 17,
    "start_time": "2022-07-12T21:52:20.231Z"
   },
   {
    "duration": 10,
    "start_time": "2022-07-12T21:52:20.249Z"
   },
   {
    "duration": 16,
    "start_time": "2022-07-12T21:52:20.261Z"
   },
   {
    "duration": 20,
    "start_time": "2022-07-12T21:52:20.279Z"
   },
   {
    "duration": 6,
    "start_time": "2022-07-12T21:52:20.322Z"
   },
   {
    "duration": 8,
    "start_time": "2022-07-12T21:52:20.330Z"
   },
   {
    "duration": 5,
    "start_time": "2022-07-12T21:52:20.341Z"
   },
   {
    "duration": 8,
    "start_time": "2022-07-12T21:52:20.348Z"
   },
   {
    "duration": 6,
    "start_time": "2022-07-12T21:52:20.357Z"
   },
   {
    "duration": 120,
    "start_time": "2022-07-12T21:52:20.365Z"
   },
   {
    "duration": 6,
    "start_time": "2022-07-12T21:52:20.487Z"
   },
   {
    "duration": 9,
    "start_time": "2022-07-12T21:52:20.495Z"
   },
   {
    "duration": 31,
    "start_time": "2022-07-12T21:52:20.505Z"
   },
   {
    "duration": 20,
    "start_time": "2022-07-12T21:52:20.538Z"
   },
   {
    "duration": 16,
    "start_time": "2022-07-12T21:52:20.559Z"
   },
   {
    "duration": 510,
    "start_time": "2022-07-12T21:52:20.577Z"
   },
   {
    "duration": 8,
    "start_time": "2022-07-12T21:52:21.089Z"
   },
   {
    "duration": 155,
    "start_time": "2022-07-12T21:52:21.099Z"
   },
   {
    "duration": 152,
    "start_time": "2022-07-12T21:52:21.256Z"
   },
   {
    "duration": 187,
    "start_time": "2022-07-12T21:55:02.808Z"
   },
   {
    "duration": 80,
    "start_time": "2022-07-12T21:55:11.773Z"
   },
   {
    "duration": 80,
    "start_time": "2022-07-12T21:55:19.911Z"
   },
   {
    "duration": 26,
    "start_time": "2022-07-12T21:55:34.965Z"
   },
   {
    "duration": 23,
    "start_time": "2022-07-12T21:58:00.817Z"
   },
   {
    "duration": 1202,
    "start_time": "2022-07-12T21:58:27.103Z"
   },
   {
    "duration": 85,
    "start_time": "2022-07-12T21:58:28.307Z"
   },
   {
    "duration": 20,
    "start_time": "2022-07-12T21:58:28.394Z"
   },
   {
    "duration": 4,
    "start_time": "2022-07-12T21:58:28.416Z"
   },
   {
    "duration": 29,
    "start_time": "2022-07-12T21:58:28.422Z"
   },
   {
    "duration": 23,
    "start_time": "2022-07-12T21:58:28.452Z"
   },
   {
    "duration": 13,
    "start_time": "2022-07-12T21:58:28.477Z"
   },
   {
    "duration": 18,
    "start_time": "2022-07-12T21:58:28.491Z"
   },
   {
    "duration": 25,
    "start_time": "2022-07-12T21:58:28.511Z"
   },
   {
    "duration": 13,
    "start_time": "2022-07-12T21:58:28.539Z"
   },
   {
    "duration": 19,
    "start_time": "2022-07-12T21:58:28.554Z"
   },
   {
    "duration": 7,
    "start_time": "2022-07-12T21:58:28.575Z"
   },
   {
    "duration": 9,
    "start_time": "2022-07-12T21:58:28.584Z"
   },
   {
    "duration": 35,
    "start_time": "2022-07-12T21:58:28.596Z"
   },
   {
    "duration": 10,
    "start_time": "2022-07-12T21:58:28.632Z"
   },
   {
    "duration": 4,
    "start_time": "2022-07-12T21:58:28.644Z"
   },
   {
    "duration": 124,
    "start_time": "2022-07-12T21:58:28.650Z"
   },
   {
    "duration": 7,
    "start_time": "2022-07-12T21:58:28.775Z"
   },
   {
    "duration": 7,
    "start_time": "2022-07-12T21:58:28.784Z"
   },
   {
    "duration": 33,
    "start_time": "2022-07-12T21:58:28.792Z"
   },
   {
    "duration": 22,
    "start_time": "2022-07-12T21:58:28.827Z"
   },
   {
    "duration": 6,
    "start_time": "2022-07-12T21:58:28.850Z"
   },
   {
    "duration": 552,
    "start_time": "2022-07-12T21:58:28.858Z"
   },
   {
    "duration": 17,
    "start_time": "2022-07-12T21:58:29.411Z"
   },
   {
    "duration": 158,
    "start_time": "2022-07-12T21:58:29.434Z"
   },
   {
    "duration": 147,
    "start_time": "2022-07-12T21:58:29.593Z"
   },
   {
    "duration": 6,
    "start_time": "2022-07-12T22:04:35.204Z"
   },
   {
    "duration": 93,
    "start_time": "2022-07-12T22:11:15.535Z"
   },
   {
    "duration": 29,
    "start_time": "2022-07-12T22:11:21.049Z"
   },
   {
    "duration": 7,
    "start_time": "2022-07-12T22:19:53.034Z"
   },
   {
    "duration": 42,
    "start_time": "2022-07-12T22:20:24.181Z"
   },
   {
    "duration": 77,
    "start_time": "2022-07-12T22:20:47.237Z"
   },
   {
    "duration": 107,
    "start_time": "2022-07-12T22:21:46.430Z"
   },
   {
    "duration": 47,
    "start_time": "2022-07-12T22:21:58.959Z"
   },
   {
    "duration": 19,
    "start_time": "2022-07-12T22:22:33.354Z"
   },
   {
    "duration": 10,
    "start_time": "2022-07-12T22:22:57.482Z"
   },
   {
    "duration": 11,
    "start_time": "2022-07-12T22:23:18.694Z"
   },
   {
    "duration": 6,
    "start_time": "2022-07-12T22:23:25.887Z"
   },
   {
    "duration": 15,
    "start_time": "2022-07-12T22:23:33.863Z"
   },
   {
    "duration": 7,
    "start_time": "2022-07-12T22:24:19.377Z"
   },
   {
    "duration": 12,
    "start_time": "2022-07-12T22:24:30.820Z"
   },
   {
    "duration": 6,
    "start_time": "2022-07-12T22:24:42.996Z"
   },
   {
    "duration": 11,
    "start_time": "2022-07-12T22:24:59.010Z"
   },
   {
    "duration": 5,
    "start_time": "2022-07-12T22:25:07.098Z"
   },
   {
    "duration": 11,
    "start_time": "2022-07-12T22:27:09.586Z"
   },
   {
    "duration": 12,
    "start_time": "2022-07-12T22:27:15.580Z"
   },
   {
    "duration": 5,
    "start_time": "2022-07-12T22:28:07.249Z"
   },
   {
    "duration": 5,
    "start_time": "2022-07-12T22:32:12.240Z"
   },
   {
    "duration": 6,
    "start_time": "2022-07-12T22:32:21.909Z"
   },
   {
    "duration": 14,
    "start_time": "2022-07-12T22:32:45.442Z"
   },
   {
    "duration": 11,
    "start_time": "2022-07-12T22:33:20.912Z"
   },
   {
    "duration": 19,
    "start_time": "2022-07-12T22:33:58.214Z"
   },
   {
    "duration": 11,
    "start_time": "2022-07-12T22:34:04.557Z"
   },
   {
    "duration": 5,
    "start_time": "2022-07-12T22:35:31.475Z"
   },
   {
    "duration": 23,
    "start_time": "2022-07-12T22:36:14.401Z"
   },
   {
    "duration": 10,
    "start_time": "2022-07-12T22:36:19.901Z"
   },
   {
    "duration": 9,
    "start_time": "2022-07-12T22:37:10.916Z"
   },
   {
    "duration": 10,
    "start_time": "2022-07-12T22:37:21.695Z"
   },
   {
    "duration": 10,
    "start_time": "2022-07-12T22:37:56.666Z"
   },
   {
    "duration": 10,
    "start_time": "2022-07-12T22:38:23.732Z"
   },
   {
    "duration": 11,
    "start_time": "2022-07-12T22:38:46.227Z"
   },
   {
    "duration": 14,
    "start_time": "2022-07-12T22:39:34.151Z"
   },
   {
    "duration": 13,
    "start_time": "2022-07-12T22:40:31.411Z"
   },
   {
    "duration": 10,
    "start_time": "2022-07-12T22:40:52.789Z"
   },
   {
    "duration": 9,
    "start_time": "2022-07-12T23:24:47.690Z"
   },
   {
    "duration": 10,
    "start_time": "2022-07-12T23:25:08.147Z"
   },
   {
    "duration": 10,
    "start_time": "2022-07-12T23:25:48.837Z"
   },
   {
    "duration": 10,
    "start_time": "2022-07-12T23:26:17.591Z"
   },
   {
    "duration": 11,
    "start_time": "2022-07-12T23:27:58.345Z"
   },
   {
    "duration": 13,
    "start_time": "2022-07-12T23:28:18.594Z"
   },
   {
    "duration": 13,
    "start_time": "2022-07-12T23:29:07.627Z"
   },
   {
    "duration": 12,
    "start_time": "2022-07-12T23:29:29.504Z"
   },
   {
    "duration": 12,
    "start_time": "2022-07-12T23:29:42.360Z"
   },
   {
    "duration": 14,
    "start_time": "2022-07-12T23:29:54.903Z"
   },
   {
    "duration": 14,
    "start_time": "2022-07-12T23:30:24.005Z"
   },
   {
    "duration": 5,
    "start_time": "2022-07-12T23:30:44.459Z"
   },
   {
    "duration": 14,
    "start_time": "2022-07-12T23:30:49.499Z"
   },
   {
    "duration": 15,
    "start_time": "2022-07-12T23:31:01.167Z"
   },
   {
    "duration": 17,
    "start_time": "2022-07-12T23:31:14.425Z"
   },
   {
    "duration": 12,
    "start_time": "2022-07-12T23:31:31.782Z"
   },
   {
    "duration": 15,
    "start_time": "2022-07-12T23:31:47.994Z"
   },
   {
    "duration": 13,
    "start_time": "2022-07-12T23:31:59.009Z"
   },
   {
    "duration": 14,
    "start_time": "2022-07-12T23:32:17.811Z"
   },
   {
    "duration": 13,
    "start_time": "2022-07-12T23:32:32.570Z"
   },
   {
    "duration": 14,
    "start_time": "2022-07-12T23:32:44.191Z"
   },
   {
    "duration": 14,
    "start_time": "2022-07-12T23:33:00.744Z"
   },
   {
    "duration": 14,
    "start_time": "2022-07-12T23:33:10.321Z"
   },
   {
    "duration": 14,
    "start_time": "2022-07-12T23:35:13.372Z"
   },
   {
    "duration": 14,
    "start_time": "2022-07-12T23:35:31.176Z"
   },
   {
    "duration": 14,
    "start_time": "2022-07-12T23:35:49.878Z"
   },
   {
    "duration": 34,
    "start_time": "2022-07-12T23:36:15.415Z"
   },
   {
    "duration": 12,
    "start_time": "2022-07-12T23:39:48.358Z"
   },
   {
    "duration": 11,
    "start_time": "2022-07-12T23:39:56.206Z"
   },
   {
    "duration": 3,
    "start_time": "2022-07-12T23:43:41.619Z"
   },
   {
    "duration": 24,
    "start_time": "2022-07-12T23:43:57.299Z"
   },
   {
    "duration": 12,
    "start_time": "2022-07-12T23:44:07.909Z"
   },
   {
    "duration": 13,
    "start_time": "2022-07-12T23:44:30.144Z"
   },
   {
    "duration": 36,
    "start_time": "2022-07-12T23:45:14.392Z"
   },
   {
    "duration": 278,
    "start_time": "2022-07-12T23:47:36.223Z"
   },
   {
    "duration": 201,
    "start_time": "2022-07-12T23:48:02.724Z"
   },
   {
    "duration": 23,
    "start_time": "2022-07-12T23:48:27.947Z"
   },
   {
    "duration": 17,
    "start_time": "2022-07-12T23:50:42.235Z"
   },
   {
    "duration": 1148,
    "start_time": "2022-07-12T23:51:40.287Z"
   },
   {
    "duration": 87,
    "start_time": "2022-07-12T23:51:41.437Z"
   },
   {
    "duration": 23,
    "start_time": "2022-07-12T23:51:41.525Z"
   },
   {
    "duration": 4,
    "start_time": "2022-07-12T23:51:41.550Z"
   },
   {
    "duration": 19,
    "start_time": "2022-07-12T23:51:41.556Z"
   },
   {
    "duration": 39,
    "start_time": "2022-07-12T23:51:41.577Z"
   },
   {
    "duration": 14,
    "start_time": "2022-07-12T23:51:41.618Z"
   },
   {
    "duration": 26,
    "start_time": "2022-07-12T23:51:41.633Z"
   },
   {
    "duration": 10,
    "start_time": "2022-07-12T23:51:41.661Z"
   },
   {
    "duration": 14,
    "start_time": "2022-07-12T23:51:41.673Z"
   },
   {
    "duration": 18,
    "start_time": "2022-07-12T23:51:41.688Z"
   },
   {
    "duration": 21,
    "start_time": "2022-07-12T23:51:41.707Z"
   },
   {
    "duration": 9,
    "start_time": "2022-07-12T23:51:41.730Z"
   },
   {
    "duration": 5,
    "start_time": "2022-07-12T23:51:41.742Z"
   },
   {
    "duration": 6,
    "start_time": "2022-07-12T23:51:41.748Z"
   },
   {
    "duration": 8,
    "start_time": "2022-07-12T23:51:41.756Z"
   },
   {
    "duration": 11,
    "start_time": "2022-07-12T23:51:41.766Z"
   },
   {
    "duration": 106,
    "start_time": "2022-07-12T23:51:41.778Z"
   },
   {
    "duration": 8,
    "start_time": "2022-07-12T23:51:41.886Z"
   },
   {
    "duration": 7,
    "start_time": "2022-07-12T23:51:41.895Z"
   },
   {
    "duration": 23,
    "start_time": "2022-07-12T23:51:41.903Z"
   },
   {
    "duration": 15,
    "start_time": "2022-07-12T23:51:41.928Z"
   },
   {
    "duration": 19,
    "start_time": "2022-07-12T23:51:41.945Z"
   },
   {
    "duration": 14,
    "start_time": "2022-07-12T23:51:41.965Z"
   },
   {
    "duration": 505,
    "start_time": "2022-07-12T23:51:41.981Z"
   },
   {
    "duration": 11,
    "start_time": "2022-07-12T23:51:42.487Z"
   },
   {
    "duration": 29,
    "start_time": "2022-07-12T23:51:42.499Z"
   },
   {
    "duration": 156,
    "start_time": "2022-07-12T23:51:42.529Z"
   },
   {
    "duration": 137,
    "start_time": "2022-07-12T23:51:42.688Z"
   },
   {
    "duration": 30,
    "start_time": "2022-07-12T23:52:41.992Z"
   },
   {
    "duration": 1093,
    "start_time": "2022-07-12T23:56:25.244Z"
   },
   {
    "duration": 87,
    "start_time": "2022-07-12T23:56:26.339Z"
   },
   {
    "duration": 23,
    "start_time": "2022-07-12T23:56:26.427Z"
   },
   {
    "duration": 4,
    "start_time": "2022-07-12T23:56:26.452Z"
   },
   {
    "duration": 8,
    "start_time": "2022-07-12T23:56:26.458Z"
   },
   {
    "duration": 22,
    "start_time": "2022-07-12T23:56:26.468Z"
   },
   {
    "duration": 12,
    "start_time": "2022-07-12T23:56:26.492Z"
   },
   {
    "duration": 17,
    "start_time": "2022-07-12T23:56:26.522Z"
   },
   {
    "duration": 10,
    "start_time": "2022-07-12T23:56:26.540Z"
   },
   {
    "duration": 12,
    "start_time": "2022-07-12T23:56:26.551Z"
   },
   {
    "duration": 17,
    "start_time": "2022-07-12T23:56:26.564Z"
   },
   {
    "duration": 5,
    "start_time": "2022-07-12T23:56:26.583Z"
   },
   {
    "duration": 42,
    "start_time": "2022-07-12T23:56:26.590Z"
   },
   {
    "duration": 22,
    "start_time": "2022-07-12T23:56:26.634Z"
   },
   {
    "duration": 7,
    "start_time": "2022-07-12T23:56:26.658Z"
   },
   {
    "duration": 8,
    "start_time": "2022-07-12T23:56:26.667Z"
   },
   {
    "duration": 4,
    "start_time": "2022-07-12T23:56:26.676Z"
   },
   {
    "duration": 91,
    "start_time": "2022-07-12T23:56:26.682Z"
   },
   {
    "duration": 7,
    "start_time": "2022-07-12T23:56:26.775Z"
   },
   {
    "duration": 9,
    "start_time": "2022-07-12T23:56:26.783Z"
   },
   {
    "duration": 7,
    "start_time": "2022-07-12T23:56:26.793Z"
   },
   {
    "duration": 32,
    "start_time": "2022-07-12T23:56:26.801Z"
   },
   {
    "duration": 19,
    "start_time": "2022-07-12T23:56:26.835Z"
   },
   {
    "duration": 14,
    "start_time": "2022-07-12T23:56:26.855Z"
   },
   {
    "duration": 505,
    "start_time": "2022-07-12T23:56:26.871Z"
   },
   {
    "duration": 11,
    "start_time": "2022-07-12T23:56:27.378Z"
   },
   {
    "duration": 43,
    "start_time": "2022-07-12T23:56:27.391Z"
   },
   {
    "duration": 162,
    "start_time": "2022-07-12T23:56:27.436Z"
   },
   {
    "duration": 159,
    "start_time": "2022-07-12T23:56:27.600Z"
   },
   {
    "duration": 101,
    "start_time": "2022-07-13T00:02:26.776Z"
   },
   {
    "duration": 13,
    "start_time": "2022-07-13T00:02:51.363Z"
   },
   {
    "duration": 10,
    "start_time": "2022-07-13T00:02:58.803Z"
   },
   {
    "duration": 14,
    "start_time": "2022-07-13T00:04:57.910Z"
   },
   {
    "duration": 19,
    "start_time": "2022-07-13T00:05:05.156Z"
   },
   {
    "duration": 14,
    "start_time": "2022-07-13T00:06:52.534Z"
   },
   {
    "duration": 146,
    "start_time": "2022-07-13T00:07:14.802Z"
   },
   {
    "duration": 149,
    "start_time": "2022-07-13T00:08:55.912Z"
   },
   {
    "duration": 11,
    "start_time": "2022-07-13T00:20:50.414Z"
   },
   {
    "duration": 25,
    "start_time": "2022-07-13T00:20:54.465Z"
   },
   {
    "duration": 11,
    "start_time": "2022-07-13T00:21:21.283Z"
   },
   {
    "duration": 10,
    "start_time": "2022-07-13T00:22:08.062Z"
   },
   {
    "duration": 9,
    "start_time": "2022-07-13T00:23:08.715Z"
   },
   {
    "duration": 3,
    "start_time": "2022-07-13T00:23:26.593Z"
   },
   {
    "duration": 7,
    "start_time": "2022-07-13T00:23:31.782Z"
   },
   {
    "duration": 10,
    "start_time": "2022-07-13T00:23:54.104Z"
   },
   {
    "duration": 9,
    "start_time": "2022-07-13T00:23:59.301Z"
   },
   {
    "duration": 8,
    "start_time": "2022-07-13T00:24:03.062Z"
   },
   {
    "duration": 14,
    "start_time": "2022-07-13T00:24:52.817Z"
   },
   {
    "duration": 8,
    "start_time": "2022-07-13T00:25:07.212Z"
   },
   {
    "duration": 9,
    "start_time": "2022-07-13T00:25:21.813Z"
   },
   {
    "duration": 6,
    "start_time": "2022-07-13T00:26:38.862Z"
   },
   {
    "duration": 13,
    "start_time": "2022-07-13T00:26:44.449Z"
   },
   {
    "duration": 12,
    "start_time": "2022-07-13T00:26:55.518Z"
   },
   {
    "duration": 13,
    "start_time": "2022-07-13T00:27:18.713Z"
   },
   {
    "duration": 11,
    "start_time": "2022-07-13T00:27:48.830Z"
   },
   {
    "duration": 131,
    "start_time": "2022-07-13T00:30:01.484Z"
   },
   {
    "duration": 139,
    "start_time": "2022-07-13T00:30:05.624Z"
   },
   {
    "duration": 13,
    "start_time": "2022-07-13T00:30:10.123Z"
   },
   {
    "duration": 1133,
    "start_time": "2022-07-13T00:30:25.796Z"
   },
   {
    "duration": 86,
    "start_time": "2022-07-13T00:30:26.930Z"
   },
   {
    "duration": 23,
    "start_time": "2022-07-13T00:30:27.018Z"
   },
   {
    "duration": 4,
    "start_time": "2022-07-13T00:30:27.042Z"
   },
   {
    "duration": 12,
    "start_time": "2022-07-13T00:30:27.048Z"
   },
   {
    "duration": 26,
    "start_time": "2022-07-13T00:30:27.061Z"
   },
   {
    "duration": 13,
    "start_time": "2022-07-13T00:30:27.089Z"
   },
   {
    "duration": 23,
    "start_time": "2022-07-13T00:30:27.103Z"
   },
   {
    "duration": 12,
    "start_time": "2022-07-13T00:30:27.127Z"
   },
   {
    "duration": 13,
    "start_time": "2022-07-13T00:30:27.142Z"
   },
   {
    "duration": 19,
    "start_time": "2022-07-13T00:30:27.157Z"
   },
   {
    "duration": 7,
    "start_time": "2022-07-13T00:30:27.177Z"
   },
   {
    "duration": 38,
    "start_time": "2022-07-13T00:30:27.185Z"
   },
   {
    "duration": 11,
    "start_time": "2022-07-13T00:30:27.225Z"
   },
   {
    "duration": 13,
    "start_time": "2022-07-13T00:30:27.237Z"
   },
   {
    "duration": 9,
    "start_time": "2022-07-13T00:30:27.251Z"
   },
   {
    "duration": 5,
    "start_time": "2022-07-13T00:30:27.262Z"
   },
   {
    "duration": 97,
    "start_time": "2022-07-13T00:30:27.268Z"
   },
   {
    "duration": 7,
    "start_time": "2022-07-13T00:30:27.366Z"
   },
   {
    "duration": 14,
    "start_time": "2022-07-13T00:30:27.375Z"
   },
   {
    "duration": 8,
    "start_time": "2022-07-13T00:30:27.391Z"
   },
   {
    "duration": 28,
    "start_time": "2022-07-13T00:30:27.400Z"
   },
   {
    "duration": 21,
    "start_time": "2022-07-13T00:30:27.430Z"
   },
   {
    "duration": 9,
    "start_time": "2022-07-13T00:30:27.453Z"
   },
   {
    "duration": 513,
    "start_time": "2022-07-13T00:30:27.464Z"
   },
   {
    "duration": 11,
    "start_time": "2022-07-13T00:30:27.979Z"
   },
   {
    "duration": 158,
    "start_time": "2022-07-13T00:30:27.991Z"
   },
   {
    "duration": 134,
    "start_time": "2022-07-13T00:30:28.151Z"
   },
   {
    "duration": 12,
    "start_time": "2022-07-13T00:30:28.286Z"
   },
   {
    "duration": 128,
    "start_time": "2022-07-13T00:30:59.354Z"
   },
   {
    "duration": 13,
    "start_time": "2022-07-13T00:31:03.660Z"
   },
   {
    "duration": 12,
    "start_time": "2022-07-13T00:36:15.771Z"
   },
   {
    "duration": 12,
    "start_time": "2022-07-13T00:36:22.790Z"
   },
   {
    "duration": 203,
    "start_time": "2022-07-13T04:40:16.915Z"
   },
   {
    "duration": 158,
    "start_time": "2022-07-13T04:40:33.195Z"
   },
   {
    "duration": 117,
    "start_time": "2022-07-13T04:41:45.996Z"
   },
   {
    "duration": 35,
    "start_time": "2022-07-13T04:42:20.382Z"
   },
   {
    "duration": 42,
    "start_time": "2022-07-13T04:42:33.337Z"
   },
   {
    "duration": 36,
    "start_time": "2022-07-13T04:42:42.928Z"
   },
   {
    "duration": 34,
    "start_time": "2022-07-13T04:42:59.428Z"
   },
   {
    "duration": 40,
    "start_time": "2022-07-13T04:43:30.312Z"
   },
   {
    "duration": 171,
    "start_time": "2022-07-13T04:43:38.144Z"
   },
   {
    "duration": 13,
    "start_time": "2022-07-13T04:44:11.494Z"
   },
   {
    "duration": 145,
    "start_time": "2022-07-13T04:44:34.204Z"
   },
   {
    "duration": 254,
    "start_time": "2022-07-13T04:44:37.615Z"
   },
   {
    "duration": 17,
    "start_time": "2022-07-13T04:44:40.276Z"
   },
   {
    "duration": 123,
    "start_time": "2022-07-13T04:45:21.669Z"
   },
   {
    "duration": 821,
    "start_time": "2022-07-13T04:45:34.690Z"
   },
   {
    "duration": 88,
    "start_time": "2022-07-13T04:45:50.524Z"
   },
   {
    "duration": 53,
    "start_time": "2022-07-13T04:46:06.696Z"
   },
   {
    "duration": 34,
    "start_time": "2022-07-13T04:46:12.022Z"
   },
   {
    "duration": 131,
    "start_time": "2022-07-13T04:46:17.027Z"
   },
   {
    "duration": 153,
    "start_time": "2022-07-13T04:47:29.225Z"
   },
   {
    "duration": 12,
    "start_time": "2022-07-13T04:48:37.729Z"
   },
   {
    "duration": 5,
    "start_time": "2022-07-13T04:54:25.846Z"
   },
   {
    "duration": 7,
    "start_time": "2022-07-13T04:55:27.293Z"
   },
   {
    "duration": 9,
    "start_time": "2022-07-13T04:55:43.955Z"
   },
   {
    "duration": 9,
    "start_time": "2022-07-13T04:56:00.593Z"
   },
   {
    "duration": 153,
    "start_time": "2022-07-13T04:59:14.894Z"
   },
   {
    "duration": 160,
    "start_time": "2022-07-13T05:00:46.846Z"
   },
   {
    "duration": 14,
    "start_time": "2022-07-13T05:00:49.924Z"
   },
   {
    "duration": 173,
    "start_time": "2022-07-13T05:01:40.030Z"
   },
   {
    "duration": 152,
    "start_time": "2022-07-13T05:01:45.960Z"
   },
   {
    "duration": 100,
    "start_time": "2022-07-13T05:01:56.983Z"
   },
   {
    "duration": 107,
    "start_time": "2022-07-13T05:02:02.087Z"
   },
   {
    "duration": 14,
    "start_time": "2022-07-13T05:02:21.269Z"
   },
   {
    "duration": 16,
    "start_time": "2022-07-13T05:02:58.877Z"
   },
   {
    "duration": 16,
    "start_time": "2022-07-13T05:03:15.442Z"
   },
   {
    "duration": 25,
    "start_time": "2022-07-13T05:03:25.625Z"
   },
   {
    "duration": 156,
    "start_time": "2022-07-13T05:03:46.984Z"
   },
   {
    "duration": 19,
    "start_time": "2022-07-13T05:06:49.318Z"
   },
   {
    "duration": 1221,
    "start_time": "2022-07-13T05:07:07.286Z"
   },
   {
    "duration": 101,
    "start_time": "2022-07-13T05:07:08.510Z"
   },
   {
    "duration": 26,
    "start_time": "2022-07-13T05:07:08.613Z"
   },
   {
    "duration": 4,
    "start_time": "2022-07-13T05:07:08.641Z"
   },
   {
    "duration": 20,
    "start_time": "2022-07-13T05:07:08.648Z"
   },
   {
    "duration": 42,
    "start_time": "2022-07-13T05:07:08.669Z"
   },
   {
    "duration": 20,
    "start_time": "2022-07-13T05:07:08.712Z"
   },
   {
    "duration": 43,
    "start_time": "2022-07-13T05:07:08.735Z"
   },
   {
    "duration": 19,
    "start_time": "2022-07-13T05:07:08.779Z"
   },
   {
    "duration": 27,
    "start_time": "2022-07-13T05:07:08.800Z"
   },
   {
    "duration": 24,
    "start_time": "2022-07-13T05:07:08.830Z"
   },
   {
    "duration": 11,
    "start_time": "2022-07-13T05:07:08.857Z"
   },
   {
    "duration": 17,
    "start_time": "2022-07-13T05:07:08.871Z"
   },
   {
    "duration": 30,
    "start_time": "2022-07-13T05:07:08.893Z"
   },
   {
    "duration": 19,
    "start_time": "2022-07-13T05:07:08.925Z"
   },
   {
    "duration": 12,
    "start_time": "2022-07-13T05:07:08.946Z"
   },
   {
    "duration": 27,
    "start_time": "2022-07-13T05:07:08.960Z"
   },
   {
    "duration": 113,
    "start_time": "2022-07-13T05:07:08.989Z"
   },
   {
    "duration": 9,
    "start_time": "2022-07-13T05:07:09.104Z"
   },
   {
    "duration": 6,
    "start_time": "2022-07-13T05:07:09.124Z"
   },
   {
    "duration": 19,
    "start_time": "2022-07-13T05:07:09.133Z"
   },
   {
    "duration": 22,
    "start_time": "2022-07-13T05:07:09.154Z"
   },
   {
    "duration": 26,
    "start_time": "2022-07-13T05:07:09.178Z"
   },
   {
    "duration": 20,
    "start_time": "2022-07-13T05:07:09.206Z"
   },
   {
    "duration": 579,
    "start_time": "2022-07-13T05:07:09.227Z"
   },
   {
    "duration": 15,
    "start_time": "2022-07-13T05:07:09.807Z"
   },
   {
    "duration": 17,
    "start_time": "2022-07-13T05:07:09.824Z"
   },
   {
    "duration": 202,
    "start_time": "2022-07-13T05:07:09.843Z"
   },
   {
    "duration": 17,
    "start_time": "2022-07-13T05:07:10.047Z"
   },
   {
    "duration": 18,
    "start_time": "2022-07-13T05:07:24.617Z"
   },
   {
    "duration": 17,
    "start_time": "2022-07-13T05:07:31.079Z"
   },
   {
    "duration": 14,
    "start_time": "2022-07-13T05:07:38.847Z"
   },
   {
    "duration": 17,
    "start_time": "2022-07-13T05:07:56.810Z"
   },
   {
    "duration": 112,
    "start_time": "2022-07-13T05:08:42.740Z"
   },
   {
    "duration": 3,
    "start_time": "2022-07-13T05:09:08.374Z"
   },
   {
    "duration": 250,
    "start_time": "2022-07-13T05:09:19.603Z"
   },
   {
    "duration": 251,
    "start_time": "2022-07-13T05:10:13.838Z"
   },
   {
    "duration": 120,
    "start_time": "2022-07-13T05:10:20.085Z"
   },
   {
    "duration": 115,
    "start_time": "2022-07-13T05:10:34.775Z"
   },
   {
    "duration": 212,
    "start_time": "2022-07-13T05:10:44.189Z"
   },
   {
    "duration": 122,
    "start_time": "2022-07-13T05:11:50.278Z"
   },
   {
    "duration": 151,
    "start_time": "2022-07-13T05:12:15.139Z"
   },
   {
    "duration": 195,
    "start_time": "2022-07-13T05:12:27.998Z"
   },
   {
    "duration": 187,
    "start_time": "2022-07-13T05:12:33.446Z"
   },
   {
    "duration": 167,
    "start_time": "2022-07-13T05:12:39.115Z"
   },
   {
    "duration": 38,
    "start_time": "2022-07-13T05:16:36.646Z"
   },
   {
    "duration": 176,
    "start_time": "2022-07-13T05:17:18.161Z"
   },
   {
    "duration": 152,
    "start_time": "2022-07-13T05:18:30.253Z"
   },
   {
    "duration": 206,
    "start_time": "2022-07-13T05:20:51.200Z"
   },
   {
    "duration": 186,
    "start_time": "2022-07-13T05:21:11.420Z"
   },
   {
    "duration": 251,
    "start_time": "2022-07-13T05:21:32.182Z"
   },
   {
    "duration": 232,
    "start_time": "2022-07-13T05:22:35.912Z"
   },
   {
    "duration": 30,
    "start_time": "2022-07-13T05:29:28.005Z"
   },
   {
    "duration": 403,
    "start_time": "2022-07-13T05:29:34.432Z"
   },
   {
    "duration": 178,
    "start_time": "2022-07-13T05:29:41.990Z"
   },
   {
    "duration": 165,
    "start_time": "2022-07-13T05:30:29.294Z"
   },
   {
    "duration": 138,
    "start_time": "2022-07-13T05:30:57.851Z"
   },
   {
    "duration": 136,
    "start_time": "2022-07-13T05:31:30.240Z"
   },
   {
    "duration": 150,
    "start_time": "2022-07-13T05:32:35.804Z"
   },
   {
    "duration": 138,
    "start_time": "2022-07-13T05:33:41.655Z"
   },
   {
    "duration": 107,
    "start_time": "2022-07-13T05:33:55.185Z"
   },
   {
    "duration": 97,
    "start_time": "2022-07-13T05:34:21.507Z"
   },
   {
    "duration": 150,
    "start_time": "2022-07-13T05:34:42.966Z"
   },
   {
    "duration": 108,
    "start_time": "2022-07-13T05:35:00.594Z"
   },
   {
    "duration": 98,
    "start_time": "2022-07-13T05:36:08.160Z"
   },
   {
    "duration": 154,
    "start_time": "2022-07-13T05:36:14.148Z"
   },
   {
    "duration": 178,
    "start_time": "2022-07-13T05:40:59.492Z"
   },
   {
    "duration": 358,
    "start_time": "2022-07-13T05:41:08.215Z"
   },
   {
    "duration": 106,
    "start_time": "2022-07-13T05:41:28.878Z"
   },
   {
    "duration": 301,
    "start_time": "2022-07-13T05:41:54.719Z"
   },
   {
    "duration": 197,
    "start_time": "2022-07-13T05:42:19.812Z"
   },
   {
    "duration": 153,
    "start_time": "2022-07-13T05:42:39.250Z"
   },
   {
    "duration": 165,
    "start_time": "2022-07-13T05:42:43.295Z"
   },
   {
    "duration": 81,
    "start_time": "2022-07-13T05:42:51.596Z"
   },
   {
    "duration": 282,
    "start_time": "2022-07-13T05:43:01.153Z"
   },
   {
    "duration": 271,
    "start_time": "2022-07-13T05:43:05.568Z"
   },
   {
    "duration": 200,
    "start_time": "2022-07-13T05:43:11.578Z"
   },
   {
    "duration": 206,
    "start_time": "2022-07-13T05:43:16.020Z"
   },
   {
    "duration": 73,
    "start_time": "2022-07-13T05:44:00.703Z"
   },
   {
    "duration": 83,
    "start_time": "2022-07-13T05:44:30.297Z"
   },
   {
    "duration": 208,
    "start_time": "2022-07-13T05:44:39.082Z"
   },
   {
    "duration": 242,
    "start_time": "2022-07-13T05:44:51.322Z"
   },
   {
    "duration": 188,
    "start_time": "2022-07-13T05:46:43.052Z"
   },
   {
    "duration": 193,
    "start_time": "2022-07-13T05:54:20.287Z"
   },
   {
    "duration": 351,
    "start_time": "2022-07-13T05:55:12.267Z"
   },
   {
    "duration": 34,
    "start_time": "2022-07-13T05:56:16.897Z"
   },
   {
    "duration": 27,
    "start_time": "2022-07-13T05:57:04.792Z"
   },
   {
    "duration": 29,
    "start_time": "2022-07-13T05:57:26.757Z"
   },
   {
    "duration": 307,
    "start_time": "2022-07-13T05:57:34.668Z"
   },
   {
    "duration": 296,
    "start_time": "2022-07-13T05:57:47.107Z"
   },
   {
    "duration": 263,
    "start_time": "2022-07-13T05:58:27.924Z"
   },
   {
    "duration": 257,
    "start_time": "2022-07-13T05:58:45.617Z"
   },
   {
    "duration": 1557,
    "start_time": "2022-07-13T06:04:40.619Z"
   },
   {
    "duration": 212,
    "start_time": "2022-07-13T06:05:50.261Z"
   },
   {
    "duration": 103,
    "start_time": "2022-07-13T06:32:46.575Z"
   },
   {
    "duration": 72,
    "start_time": "2022-07-13T06:33:31.393Z"
   },
   {
    "duration": 63,
    "start_time": "2022-07-13T06:34:15.662Z"
   },
   {
    "duration": 209,
    "start_time": "2022-07-13T06:34:26.894Z"
   },
   {
    "duration": 10,
    "start_time": "2022-07-13T06:36:03.242Z"
   },
   {
    "duration": 14,
    "start_time": "2022-07-13T06:36:57.156Z"
   },
   {
    "duration": 9,
    "start_time": "2022-07-13T06:37:30.049Z"
   },
   {
    "duration": 21,
    "start_time": "2022-07-13T06:38:00.642Z"
   },
   {
    "duration": 15,
    "start_time": "2022-07-13T06:38:13.529Z"
   },
   {
    "duration": 14,
    "start_time": "2022-07-13T06:39:11.390Z"
   },
   {
    "duration": 203,
    "start_time": "2022-07-13T06:43:26.882Z"
   },
   {
    "duration": 204,
    "start_time": "2022-07-13T06:43:30.477Z"
   },
   {
    "duration": 18,
    "start_time": "2022-07-13T06:44:07.309Z"
   },
   {
    "duration": 55,
    "start_time": "2022-07-13T06:49:28.640Z"
   },
   {
    "duration": 85,
    "start_time": "2022-07-13T06:49:52.590Z"
   },
   {
    "duration": 206,
    "start_time": "2022-07-13T06:50:23.893Z"
   },
   {
    "duration": 16,
    "start_time": "2022-07-13T06:50:51.572Z"
   },
   {
    "duration": 212,
    "start_time": "2022-07-13T06:57:57.582Z"
   },
   {
    "duration": 243,
    "start_time": "2022-07-13T06:58:14.373Z"
   },
   {
    "duration": 237,
    "start_time": "2022-07-13T06:58:32.817Z"
   },
   {
    "duration": 256,
    "start_time": "2022-07-13T06:58:53.041Z"
   },
   {
    "duration": 233,
    "start_time": "2022-07-13T06:59:12.256Z"
   },
   {
    "duration": 426,
    "start_time": "2022-07-13T07:01:02.251Z"
   },
   {
    "duration": 247,
    "start_time": "2022-07-13T07:02:52.541Z"
   },
   {
    "duration": 267,
    "start_time": "2022-07-13T07:03:42.820Z"
   },
   {
    "duration": 274,
    "start_time": "2022-07-13T07:04:12.539Z"
   },
   {
    "duration": 296,
    "start_time": "2022-07-13T07:04:47.560Z"
   },
   {
    "duration": 322,
    "start_time": "2022-07-13T07:05:29.994Z"
   },
   {
    "duration": 280,
    "start_time": "2022-07-13T07:05:48.765Z"
   },
   {
    "duration": 338,
    "start_time": "2022-07-13T07:06:50.722Z"
   },
   {
    "duration": 167,
    "start_time": "2022-07-13T07:10:13.765Z"
   },
   {
    "duration": 464,
    "start_time": "2022-07-13T07:10:41.452Z"
   },
   {
    "duration": 490,
    "start_time": "2022-07-13T07:11:38.955Z"
   },
   {
    "duration": 550,
    "start_time": "2022-07-13T07:13:03.791Z"
   },
   {
    "duration": 259,
    "start_time": "2022-07-13T07:13:43.093Z"
   },
   {
    "duration": 266,
    "start_time": "2022-07-13T07:13:52.754Z"
   },
   {
    "duration": 237,
    "start_time": "2022-07-13T07:14:08.762Z"
   },
   {
    "duration": 280,
    "start_time": "2022-07-13T07:14:13.120Z"
   },
   {
    "duration": 480,
    "start_time": "2022-07-13T07:14:58.885Z"
   },
   {
    "duration": 230,
    "start_time": "2022-07-13T07:15:25.785Z"
   },
   {
    "duration": 265,
    "start_time": "2022-07-13T07:15:52.801Z"
   },
   {
    "duration": 65,
    "start_time": "2022-07-13T07:29:54.436Z"
   },
   {
    "duration": 87,
    "start_time": "2022-07-13T07:30:32.889Z"
   },
   {
    "duration": 29,
    "start_time": "2022-07-13T07:30:49.648Z"
   },
   {
    "duration": 33,
    "start_time": "2022-07-13T07:31:07.161Z"
   },
   {
    "duration": 41,
    "start_time": "2022-07-13T07:31:16.713Z"
   },
   {
    "duration": 29,
    "start_time": "2022-07-13T07:31:33.192Z"
   },
   {
    "duration": 34,
    "start_time": "2022-07-13T07:31:47.518Z"
   },
   {
    "duration": 26,
    "start_time": "2022-07-13T07:32:46.072Z"
   },
   {
    "duration": 25,
    "start_time": "2022-07-13T07:33:10.141Z"
   },
   {
    "duration": 16,
    "start_time": "2022-07-13T07:34:16.390Z"
   },
   {
    "duration": 27,
    "start_time": "2022-07-13T07:34:20.568Z"
   },
   {
    "duration": 24,
    "start_time": "2022-07-13T07:35:28.349Z"
   },
   {
    "duration": 22,
    "start_time": "2022-07-13T07:36:40.353Z"
   },
   {
    "duration": 20,
    "start_time": "2022-07-13T07:38:13.685Z"
   },
   {
    "duration": 91,
    "start_time": "2022-07-13T07:41:14.262Z"
   },
   {
    "duration": 1454,
    "start_time": "2022-07-13T07:41:22.132Z"
   },
   {
    "duration": 36,
    "start_time": "2022-07-13T07:42:22.019Z"
   },
   {
    "duration": 21,
    "start_time": "2022-07-13T07:42:47.712Z"
   },
   {
    "duration": 1508,
    "start_time": "2022-07-13T07:42:55.704Z"
   },
   {
    "duration": 21,
    "start_time": "2022-07-13T07:43:26.645Z"
   },
   {
    "duration": 17,
    "start_time": "2022-07-13T07:43:37.649Z"
   },
   {
    "duration": 22,
    "start_time": "2022-07-13T07:44:04.561Z"
   },
   {
    "duration": 24,
    "start_time": "2022-07-13T07:44:15.454Z"
   },
   {
    "duration": 26,
    "start_time": "2022-07-13T07:45:14.317Z"
   },
   {
    "duration": 24,
    "start_time": "2022-07-13T07:45:23.511Z"
   },
   {
    "duration": 1637,
    "start_time": "2022-07-13T07:46:29.950Z"
   },
   {
    "duration": 23,
    "start_time": "2022-07-13T07:46:52.590Z"
   },
   {
    "duration": 19,
    "start_time": "2022-07-13T07:46:59.452Z"
   },
   {
    "duration": 40,
    "start_time": "2022-07-13T07:47:14.149Z"
   },
   {
    "duration": 26,
    "start_time": "2022-07-13T07:47:25.892Z"
   },
   {
    "duration": 28,
    "start_time": "2022-07-13T07:47:40.106Z"
   },
   {
    "duration": 26,
    "start_time": "2022-07-13T07:48:43.691Z"
   },
   {
    "duration": 34,
    "start_time": "2022-07-13T07:49:02.605Z"
   },
   {
    "duration": 22,
    "start_time": "2022-07-13T07:49:19.186Z"
   },
   {
    "duration": 25,
    "start_time": "2022-07-13T07:49:31.960Z"
   },
   {
    "duration": 32,
    "start_time": "2022-07-13T07:49:46.304Z"
   },
   {
    "duration": 33,
    "start_time": "2022-07-13T07:50:09.421Z"
   },
   {
    "duration": 27,
    "start_time": "2022-07-13T07:51:52.086Z"
   },
   {
    "duration": 25,
    "start_time": "2022-07-13T07:52:09.958Z"
   },
   {
    "duration": 23,
    "start_time": "2022-07-13T07:52:21.454Z"
   },
   {
    "duration": 1762,
    "start_time": "2022-07-13T07:52:45.849Z"
   },
   {
    "duration": 41,
    "start_time": "2022-07-13T07:52:56.151Z"
   },
   {
    "duration": 122,
    "start_time": "2022-07-13T07:53:20.594Z"
   },
   {
    "duration": 31,
    "start_time": "2022-07-13T07:53:30.251Z"
   },
   {
    "duration": 21,
    "start_time": "2022-07-13T07:54:00.755Z"
   },
   {
    "duration": 34,
    "start_time": "2022-07-13T07:54:23.612Z"
   },
   {
    "duration": 30,
    "start_time": "2022-07-13T07:54:30.018Z"
   },
   {
    "duration": 18,
    "start_time": "2022-07-13T07:54:46.900Z"
   },
   {
    "duration": 28,
    "start_time": "2022-07-13T07:55:43.080Z"
   },
   {
    "duration": 300,
    "start_time": "2022-07-13T07:56:56.787Z"
   },
   {
    "duration": 295,
    "start_time": "2022-07-13T07:58:22.266Z"
   },
   {
    "duration": 236,
    "start_time": "2022-07-13T07:59:00.656Z"
   },
   {
    "duration": 362,
    "start_time": "2022-07-13T08:01:50.994Z"
   },
   {
    "duration": 345,
    "start_time": "2022-07-13T08:03:33.956Z"
   },
   {
    "duration": 327,
    "start_time": "2022-07-13T08:03:43.222Z"
   },
   {
    "duration": 293,
    "start_time": "2022-07-13T08:06:48.997Z"
   },
   {
    "duration": 259,
    "start_time": "2022-07-13T08:07:08.657Z"
   },
   {
    "duration": 310,
    "start_time": "2022-07-13T08:08:44.491Z"
   },
   {
    "duration": 15,
    "start_time": "2022-07-13T08:08:53.474Z"
   },
   {
    "duration": 15,
    "start_time": "2022-07-13T08:09:36.650Z"
   },
   {
    "duration": 18,
    "start_time": "2022-07-13T08:09:54.991Z"
   },
   {
    "duration": 262,
    "start_time": "2022-07-13T08:10:52.750Z"
   },
   {
    "duration": 13,
    "start_time": "2022-07-13T08:10:57.985Z"
   },
   {
    "duration": 40,
    "start_time": "2022-07-13T08:11:41.500Z"
   },
   {
    "duration": 37,
    "start_time": "2022-07-13T08:12:09.297Z"
   },
   {
    "duration": 35,
    "start_time": "2022-07-13T08:12:35.813Z"
   },
   {
    "duration": 233,
    "start_time": "2022-07-13T08:12:39.577Z"
   },
   {
    "duration": 237,
    "start_time": "2022-07-13T08:13:36.880Z"
   },
   {
    "duration": 11,
    "start_time": "2022-07-13T08:13:45.762Z"
   },
   {
    "duration": 19,
    "start_time": "2022-07-13T08:14:07.611Z"
   },
   {
    "duration": 6,
    "start_time": "2022-07-13T08:32:25.395Z"
   },
   {
    "duration": 23,
    "start_time": "2022-07-14T03:52:15.894Z"
   },
   {
    "duration": 12,
    "start_time": "2022-07-14T03:59:11.862Z"
   },
   {
    "duration": 25,
    "start_time": "2022-07-14T03:59:34.276Z"
   },
   {
    "duration": 8,
    "start_time": "2022-07-14T04:00:27.775Z"
   },
   {
    "duration": 65,
    "start_time": "2022-07-14T04:01:04.221Z"
   },
   {
    "duration": 8,
    "start_time": "2022-07-14T04:01:13.995Z"
   },
   {
    "duration": 8,
    "start_time": "2022-07-14T04:01:23.787Z"
   },
   {
    "duration": 11,
    "start_time": "2022-07-14T04:02:10.422Z"
   },
   {
    "duration": 9,
    "start_time": "2022-07-14T04:02:14.184Z"
   },
   {
    "duration": 7,
    "start_time": "2022-07-14T04:02:26.757Z"
   },
   {
    "duration": 6,
    "start_time": "2022-07-14T04:03:37.792Z"
   },
   {
    "duration": 7,
    "start_time": "2022-07-14T04:05:03.029Z"
   },
   {
    "duration": 47,
    "start_time": "2022-07-14T04:05:27.866Z"
   },
   {
    "duration": 26,
    "start_time": "2022-07-14T04:06:35.441Z"
   },
   {
    "duration": 51,
    "start_time": "2022-07-14T04:07:02.011Z"
   },
   {
    "duration": 51,
    "start_time": "2022-07-14T04:09:11.789Z"
   },
   {
    "duration": 53,
    "start_time": "2022-07-14T04:09:23.804Z"
   },
   {
    "duration": 50,
    "start_time": "2022-07-14T04:10:03.611Z"
   },
   {
    "duration": 53,
    "start_time": "2022-07-14T04:11:59.619Z"
   },
   {
    "duration": 325,
    "start_time": "2022-07-14T04:22:13.853Z"
   },
   {
    "duration": 287,
    "start_time": "2022-07-14T04:24:40.670Z"
   },
   {
    "duration": 273,
    "start_time": "2022-07-14T04:25:37.107Z"
   },
   {
    "duration": 276,
    "start_time": "2022-07-14T04:26:51.346Z"
   },
   {
    "duration": 311,
    "start_time": "2022-07-14T04:27:30.534Z"
   },
   {
    "duration": 305,
    "start_time": "2022-07-14T04:30:28.434Z"
   },
   {
    "duration": 278,
    "start_time": "2022-07-14T04:55:58.202Z"
   },
   {
    "duration": 548,
    "start_time": "2022-07-14T04:56:46.051Z"
   },
   {
    "duration": 267,
    "start_time": "2022-07-14T04:57:06.533Z"
   },
   {
    "duration": 298,
    "start_time": "2022-07-14T04:57:21.139Z"
   },
   {
    "duration": 279,
    "start_time": "2022-07-14T04:57:38.542Z"
   },
   {
    "duration": 297,
    "start_time": "2022-07-14T04:58:09.575Z"
   },
   {
    "duration": 410,
    "start_time": "2022-07-14T04:58:24.791Z"
   },
   {
    "duration": 297,
    "start_time": "2022-07-14T04:58:44.553Z"
   },
   {
    "duration": 270,
    "start_time": "2022-07-14T05:00:44.642Z"
   },
   {
    "duration": 273,
    "start_time": "2022-07-14T05:00:53.202Z"
   },
   {
    "duration": 278,
    "start_time": "2022-07-14T05:00:59.101Z"
   },
   {
    "duration": 316,
    "start_time": "2022-07-14T05:01:04.477Z"
   },
   {
    "duration": 285,
    "start_time": "2022-07-14T05:01:11.067Z"
   },
   {
    "duration": 276,
    "start_time": "2022-07-14T05:01:34.146Z"
   },
   {
    "duration": 109,
    "start_time": "2022-07-14T05:06:24.681Z"
   },
   {
    "duration": 810,
    "start_time": "2022-07-14T05:06:48.337Z"
   },
   {
    "duration": 104,
    "start_time": "2022-07-14T05:07:04.810Z"
   },
   {
    "duration": 73,
    "start_time": "2022-07-14T05:10:37.625Z"
   },
   {
    "duration": 14,
    "start_time": "2022-07-14T05:10:43.066Z"
   },
   {
    "duration": 1100,
    "start_time": "2022-07-14T05:11:38.165Z"
   },
   {
    "duration": 142,
    "start_time": "2022-07-14T05:11:54.325Z"
   },
   {
    "duration": 56,
    "start_time": "2022-07-14T05:12:15.976Z"
   },
   {
    "duration": 17,
    "start_time": "2022-07-14T05:12:19.860Z"
   },
   {
    "duration": 13,
    "start_time": "2022-07-14T05:14:06.351Z"
   },
   {
    "duration": 15,
    "start_time": "2022-07-14T05:14:18.418Z"
   },
   {
    "duration": 14,
    "start_time": "2022-07-14T05:14:31.763Z"
   },
   {
    "duration": 13,
    "start_time": "2022-07-14T05:14:43.294Z"
   },
   {
    "duration": 14,
    "start_time": "2022-07-14T05:14:49.756Z"
   },
   {
    "duration": 14,
    "start_time": "2022-07-14T05:14:54.810Z"
   },
   {
    "duration": 134,
    "start_time": "2022-07-14T05:15:08.629Z"
   },
   {
    "duration": 138,
    "start_time": "2022-07-14T05:16:01.697Z"
   },
   {
    "duration": 120,
    "start_time": "2022-07-14T05:16:35.622Z"
   },
   {
    "duration": 125,
    "start_time": "2022-07-14T05:16:54.950Z"
   },
   {
    "duration": 144,
    "start_time": "2022-07-14T05:17:00.049Z"
   },
   {
    "duration": 150,
    "start_time": "2022-07-14T05:17:13.520Z"
   },
   {
    "duration": 142,
    "start_time": "2022-07-14T05:17:21.353Z"
   },
   {
    "duration": 127,
    "start_time": "2022-07-14T05:17:27.413Z"
   },
   {
    "duration": 155,
    "start_time": "2022-07-14T05:17:32.165Z"
   },
   {
    "duration": 137,
    "start_time": "2022-07-14T05:18:27.202Z"
   },
   {
    "duration": 165,
    "start_time": "2022-07-14T05:21:37.788Z"
   },
   {
    "duration": 224,
    "start_time": "2022-07-14T05:21:44.366Z"
   },
   {
    "duration": 148,
    "start_time": "2022-07-14T05:22:49.655Z"
   },
   {
    "duration": 177,
    "start_time": "2022-07-14T05:22:59.906Z"
   },
   {
    "duration": 165,
    "start_time": "2022-07-14T05:23:16.022Z"
   },
   {
    "duration": 145,
    "start_time": "2022-07-14T05:23:29.586Z"
   },
   {
    "duration": 141,
    "start_time": "2022-07-14T05:23:44.688Z"
   },
   {
    "duration": 169,
    "start_time": "2022-07-14T05:23:52.963Z"
   },
   {
    "duration": 453,
    "start_time": "2022-07-14T05:24:56.883Z"
   },
   {
    "duration": 177,
    "start_time": "2022-07-14T05:25:08.502Z"
   },
   {
    "duration": 204,
    "start_time": "2022-07-14T05:28:05.640Z"
   },
   {
    "duration": 33,
    "start_time": "2022-07-14T05:32:26.606Z"
   },
   {
    "duration": 27,
    "start_time": "2022-07-14T05:34:38.899Z"
   },
   {
    "duration": 10,
    "start_time": "2022-07-14T05:35:21.880Z"
   },
   {
    "duration": 8,
    "start_time": "2022-07-14T05:35:45.712Z"
   },
   {
    "duration": 4,
    "start_time": "2022-07-14T05:36:31.714Z"
   },
   {
    "duration": 22,
    "start_time": "2022-07-14T05:36:37.172Z"
   },
   {
    "duration": 28,
    "start_time": "2022-07-14T05:37:58.100Z"
   },
   {
    "duration": 10,
    "start_time": "2022-07-14T05:38:08.976Z"
   },
   {
    "duration": 23,
    "start_time": "2022-07-14T05:38:19.258Z"
   },
   {
    "duration": 181,
    "start_time": "2022-07-14T05:39:29.454Z"
   },
   {
    "duration": 199,
    "start_time": "2022-07-14T05:40:30.287Z"
   },
   {
    "duration": 19,
    "start_time": "2022-07-14T05:40:38.454Z"
   },
   {
    "duration": 18,
    "start_time": "2022-07-14T05:40:44.131Z"
   },
   {
    "duration": 140,
    "start_time": "2022-07-14T05:40:56.503Z"
   },
   {
    "duration": 232,
    "start_time": "2022-07-14T05:41:20.197Z"
   },
   {
    "duration": 17,
    "start_time": "2022-07-14T05:41:41.422Z"
   },
   {
    "duration": 17,
    "start_time": "2022-07-14T05:41:53.860Z"
   },
   {
    "duration": 17,
    "start_time": "2022-07-14T05:42:25.067Z"
   },
   {
    "duration": 20,
    "start_time": "2022-07-14T05:42:30.491Z"
   },
   {
    "duration": 296,
    "start_time": "2022-07-14T05:42:40.220Z"
   },
   {
    "duration": 23,
    "start_time": "2022-07-14T05:42:54.966Z"
   },
   {
    "duration": 197,
    "start_time": "2022-07-14T05:43:42.138Z"
   },
   {
    "duration": 190,
    "start_time": "2022-07-14T05:44:11.904Z"
   },
   {
    "duration": 20,
    "start_time": "2022-07-14T05:46:04.417Z"
   },
   {
    "duration": 264,
    "start_time": "2022-07-14T05:47:48.943Z"
   },
   {
    "duration": 271,
    "start_time": "2022-07-14T05:48:41.757Z"
   },
   {
    "duration": 266,
    "start_time": "2022-07-14T05:49:22.236Z"
   },
   {
    "duration": 28,
    "start_time": "2022-07-14T05:51:10.279Z"
   },
   {
    "duration": 259,
    "start_time": "2022-07-14T05:56:52.680Z"
   },
   {
    "duration": 18,
    "start_time": "2022-07-14T05:57:16.379Z"
   },
   {
    "duration": 12,
    "start_time": "2022-07-14T05:57:59.254Z"
   },
   {
    "duration": 24,
    "start_time": "2022-07-14T05:58:22.835Z"
   },
   {
    "duration": 24,
    "start_time": "2022-07-14T06:03:25.469Z"
   },
   {
    "duration": 278,
    "start_time": "2022-07-14T06:03:36.813Z"
   },
   {
    "duration": 25,
    "start_time": "2022-07-14T06:05:04.113Z"
   },
   {
    "duration": 24,
    "start_time": "2022-07-14T06:05:18.868Z"
   },
   {
    "duration": 257,
    "start_time": "2022-07-14T06:05:38.038Z"
   },
   {
    "duration": 316,
    "start_time": "2022-07-14T06:06:14.461Z"
   },
   {
    "duration": 298,
    "start_time": "2022-07-14T06:06:49.754Z"
   },
   {
    "duration": 303,
    "start_time": "2022-07-14T06:07:04.632Z"
   },
   {
    "duration": 731,
    "start_time": "2022-07-14T06:08:16.070Z"
   },
   {
    "duration": 308,
    "start_time": "2022-07-14T06:08:41.992Z"
   },
   {
    "duration": 321,
    "start_time": "2022-07-14T06:10:03.534Z"
   },
   {
    "duration": 12,
    "start_time": "2022-07-14T06:11:40.822Z"
   },
   {
    "duration": 13,
    "start_time": "2022-07-14T06:11:55.799Z"
   },
   {
    "duration": 11,
    "start_time": "2022-07-14T06:12:03.952Z"
   },
   {
    "duration": 44,
    "start_time": "2022-07-14T06:17:50.073Z"
   },
   {
    "duration": 71,
    "start_time": "2022-07-14T06:17:56.587Z"
   },
   {
    "duration": 70,
    "start_time": "2022-07-14T06:18:02.395Z"
   },
   {
    "duration": 1215,
    "start_time": "2022-07-14T06:18:12.611Z"
   },
   {
    "duration": 96,
    "start_time": "2022-07-14T06:18:13.829Z"
   },
   {
    "duration": 26,
    "start_time": "2022-07-14T06:18:13.926Z"
   },
   {
    "duration": 5,
    "start_time": "2022-07-14T06:18:13.954Z"
   },
   {
    "duration": 34,
    "start_time": "2022-07-14T06:18:13.961Z"
   },
   {
    "duration": 31,
    "start_time": "2022-07-14T06:18:13.997Z"
   },
   {
    "duration": 14,
    "start_time": "2022-07-14T06:18:14.030Z"
   },
   {
    "duration": 17,
    "start_time": "2022-07-14T06:18:14.045Z"
   },
   {
    "duration": 10,
    "start_time": "2022-07-14T06:18:14.064Z"
   },
   {
    "duration": 13,
    "start_time": "2022-07-14T06:18:14.076Z"
   },
   {
    "duration": 44,
    "start_time": "2022-07-14T06:18:14.091Z"
   },
   {
    "duration": 7,
    "start_time": "2022-07-14T06:18:14.136Z"
   },
   {
    "duration": 11,
    "start_time": "2022-07-14T06:18:14.145Z"
   },
   {
    "duration": 10,
    "start_time": "2022-07-14T06:18:14.157Z"
   },
   {
    "duration": 13,
    "start_time": "2022-07-14T06:18:14.169Z"
   },
   {
    "duration": 12,
    "start_time": "2022-07-14T06:18:14.184Z"
   },
   {
    "duration": 7,
    "start_time": "2022-07-14T06:18:14.198Z"
   },
   {
    "duration": 100,
    "start_time": "2022-07-14T06:18:14.223Z"
   },
   {
    "duration": 7,
    "start_time": "2022-07-14T06:18:14.326Z"
   },
   {
    "duration": 13,
    "start_time": "2022-07-14T06:18:14.334Z"
   },
   {
    "duration": 11,
    "start_time": "2022-07-14T06:18:14.348Z"
   },
   {
    "duration": 23,
    "start_time": "2022-07-14T06:18:14.360Z"
   },
   {
    "duration": 48,
    "start_time": "2022-07-14T06:18:14.385Z"
   },
   {
    "duration": 20,
    "start_time": "2022-07-14T06:18:14.435Z"
   },
   {
    "duration": 582,
    "start_time": "2022-07-14T06:18:14.457Z"
   },
   {
    "duration": 84,
    "start_time": "2022-07-14T06:18:15.041Z"
   },
   {
    "duration": 273,
    "start_time": "2022-07-14T06:18:15.126Z"
   },
   {
    "duration": 119,
    "start_time": "2022-07-14T06:18:15.404Z"
   },
   {
    "duration": 0,
    "start_time": "2022-07-14T06:18:15.526Z"
   },
   {
    "duration": 0,
    "start_time": "2022-07-14T06:18:15.527Z"
   },
   {
    "duration": 0,
    "start_time": "2022-07-14T06:18:15.529Z"
   },
   {
    "duration": 0,
    "start_time": "2022-07-14T06:18:15.531Z"
   },
   {
    "duration": 0,
    "start_time": "2022-07-14T06:18:15.532Z"
   },
   {
    "duration": 0,
    "start_time": "2022-07-14T06:18:15.533Z"
   },
   {
    "duration": 783,
    "start_time": "2022-07-14T06:20:19.379Z"
   },
   {
    "duration": 235,
    "start_time": "2022-07-14T06:21:04.251Z"
   },
   {
    "duration": 253,
    "start_time": "2022-07-14T06:21:07.618Z"
   },
   {
    "duration": 10,
    "start_time": "2022-07-14T06:21:09.329Z"
   },
   {
    "duration": 278,
    "start_time": "2022-07-14T06:21:10.530Z"
   },
   {
    "duration": 253,
    "start_time": "2022-07-14T06:21:11.232Z"
   },
   {
    "duration": 307,
    "start_time": "2022-07-14T06:21:13.121Z"
   },
   {
    "duration": 182,
    "start_time": "2022-07-14T06:21:53.375Z"
   },
   {
    "duration": 202,
    "start_time": "2022-07-14T06:22:04.523Z"
   },
   {
    "duration": 161,
    "start_time": "2022-07-14T06:22:12.673Z"
   },
   {
    "duration": 173,
    "start_time": "2022-07-14T06:22:58.143Z"
   },
   {
    "duration": 184,
    "start_time": "2022-07-14T06:23:24.915Z"
   },
   {
    "duration": 187,
    "start_time": "2022-07-14T06:24:34.432Z"
   },
   {
    "duration": 174,
    "start_time": "2022-07-14T06:24:39.561Z"
   },
   {
    "duration": 146,
    "start_time": "2022-07-14T06:24:53.793Z"
   },
   {
    "duration": 42,
    "start_time": "2022-07-14T08:33:41.293Z"
   },
   {
    "duration": 1175,
    "start_time": "2022-07-14T08:33:46.256Z"
   },
   {
    "duration": 401,
    "start_time": "2022-07-14T08:33:47.433Z"
   },
   {
    "duration": 84,
    "start_time": "2022-07-14T08:33:47.835Z"
   },
   {
    "duration": 4,
    "start_time": "2022-07-14T08:33:47.920Z"
   },
   {
    "duration": 9,
    "start_time": "2022-07-14T08:33:47.926Z"
   },
   {
    "duration": 21,
    "start_time": "2022-07-14T08:33:47.937Z"
   },
   {
    "duration": 11,
    "start_time": "2022-07-14T08:33:47.959Z"
   },
   {
    "duration": 15,
    "start_time": "2022-07-14T08:33:47.972Z"
   },
   {
    "duration": 9,
    "start_time": "2022-07-14T08:33:47.988Z"
   },
   {
    "duration": 11,
    "start_time": "2022-07-14T08:33:47.999Z"
   },
   {
    "duration": 15,
    "start_time": "2022-07-14T08:33:48.012Z"
   },
   {
    "duration": 6,
    "start_time": "2022-07-14T08:33:48.052Z"
   },
   {
    "duration": 9,
    "start_time": "2022-07-14T08:33:48.059Z"
   },
   {
    "duration": 5,
    "start_time": "2022-07-14T08:33:48.070Z"
   },
   {
    "duration": 5,
    "start_time": "2022-07-14T08:33:48.076Z"
   },
   {
    "duration": 8,
    "start_time": "2022-07-14T08:33:48.083Z"
   },
   {
    "duration": 6,
    "start_time": "2022-07-14T08:33:48.092Z"
   },
   {
    "duration": 97,
    "start_time": "2022-07-14T08:33:48.099Z"
   },
   {
    "duration": 7,
    "start_time": "2022-07-14T08:33:48.198Z"
   },
   {
    "duration": 6,
    "start_time": "2022-07-14T08:33:48.206Z"
   },
   {
    "duration": 6,
    "start_time": "2022-07-14T08:33:48.214Z"
   },
   {
    "duration": 36,
    "start_time": "2022-07-14T08:33:48.221Z"
   },
   {
    "duration": 19,
    "start_time": "2022-07-14T08:33:48.258Z"
   },
   {
    "duration": 10,
    "start_time": "2022-07-14T08:33:48.278Z"
   },
   {
    "duration": 489,
    "start_time": "2022-07-14T08:33:48.289Z"
   },
   {
    "duration": 73,
    "start_time": "2022-07-14T08:33:48.779Z"
   },
   {
    "duration": 216,
    "start_time": "2022-07-14T08:33:48.854Z"
   },
   {
    "duration": 182,
    "start_time": "2022-07-14T08:33:49.072Z"
   },
   {
    "duration": 181,
    "start_time": "2022-07-14T08:33:49.255Z"
   },
   {
    "duration": 14,
    "start_time": "2022-07-14T08:33:49.438Z"
   },
   {
    "duration": 274,
    "start_time": "2022-07-14T08:33:49.453Z"
   },
   {
    "duration": 229,
    "start_time": "2022-07-14T08:33:49.729Z"
   },
   {
    "duration": 153,
    "start_time": "2022-07-14T08:33:49.960Z"
   },
   {
    "duration": 20,
    "start_time": "2022-07-14T08:33:50.114Z"
   },
   {
    "duration": 11,
    "start_time": "2022-07-14T08:33:50.151Z"
   },
   {
    "duration": 87,
    "start_time": "2022-07-14T08:36:46.841Z"
   },
   {
    "duration": 21,
    "start_time": "2022-07-14T08:36:59.909Z"
   },
   {
    "duration": 32,
    "start_time": "2022-07-14T08:37:23.231Z"
   },
   {
    "duration": 54,
    "start_time": "2022-07-14T08:40:07.257Z"
   },
   {
    "duration": 133,
    "start_time": "2022-07-14T08:42:59.072Z"
   },
   {
    "duration": 140,
    "start_time": "2022-07-14T08:43:32.773Z"
   },
   {
    "duration": 128,
    "start_time": "2022-07-14T08:45:19.414Z"
   },
   {
    "duration": 126,
    "start_time": "2022-07-14T08:45:59.871Z"
   },
   {
    "duration": 153,
    "start_time": "2022-07-14T08:46:20.213Z"
   },
   {
    "duration": 169,
    "start_time": "2022-07-14T08:46:24.150Z"
   },
   {
    "duration": 152,
    "start_time": "2022-07-14T08:46:28.869Z"
   },
   {
    "duration": 138,
    "start_time": "2022-07-14T08:46:42.868Z"
   },
   {
    "duration": 161,
    "start_time": "2022-07-14T08:46:47.621Z"
   },
   {
    "duration": 186,
    "start_time": "2022-07-14T08:47:16.025Z"
   },
   {
    "duration": 142,
    "start_time": "2022-07-14T08:47:53.043Z"
   },
   {
    "duration": 180,
    "start_time": "2022-07-14T08:52:47.970Z"
   },
   {
    "duration": 97,
    "start_time": "2022-07-14T08:53:06.415Z"
   },
   {
    "duration": 141,
    "start_time": "2022-07-14T08:58:16.937Z"
   },
   {
    "duration": 145,
    "start_time": "2022-07-14T08:58:29.166Z"
   },
   {
    "duration": 129,
    "start_time": "2022-07-14T08:58:53.894Z"
   },
   {
    "duration": 144,
    "start_time": "2022-07-14T08:59:02.013Z"
   },
   {
    "duration": 144,
    "start_time": "2022-07-14T09:00:12.669Z"
   },
   {
    "duration": 137,
    "start_time": "2022-07-14T09:01:39.528Z"
   },
   {
    "duration": 127,
    "start_time": "2022-07-14T09:01:52.969Z"
   },
   {
    "duration": 182,
    "start_time": "2022-07-14T09:03:28.190Z"
   },
   {
    "duration": 124,
    "start_time": "2022-07-14T09:03:32.172Z"
   },
   {
    "duration": 153,
    "start_time": "2022-07-14T09:08:08.671Z"
   },
   {
    "duration": 125,
    "start_time": "2022-07-14T09:08:59.764Z"
   },
   {
    "duration": 243,
    "start_time": "2022-07-14T09:09:45.622Z"
   },
   {
    "duration": 236,
    "start_time": "2022-07-14T09:09:56.654Z"
   },
   {
    "duration": 140,
    "start_time": "2022-07-14T09:11:28.829Z"
   },
   {
    "duration": 233,
    "start_time": "2022-07-14T09:12:14.046Z"
   },
   {
    "duration": 123,
    "start_time": "2022-07-14T09:12:31.210Z"
   },
   {
    "duration": 140,
    "start_time": "2022-07-14T09:13:07.359Z"
   },
   {
    "duration": 129,
    "start_time": "2022-07-14T09:14:11.827Z"
   },
   {
    "duration": 135,
    "start_time": "2022-07-14T09:15:03.555Z"
   },
   {
    "duration": 62,
    "start_time": "2022-07-14T09:22:23.539Z"
   },
   {
    "duration": 1768,
    "start_time": "2022-07-14T09:22:48.899Z"
   },
   {
    "duration": 29,
    "start_time": "2022-07-14T09:23:17.249Z"
   },
   {
    "duration": 33,
    "start_time": "2022-07-14T09:24:03.603Z"
   },
   {
    "duration": 37,
    "start_time": "2022-07-14T09:24:49.582Z"
   },
   {
    "duration": 34,
    "start_time": "2022-07-14T09:25:21.263Z"
   },
   {
    "duration": 41,
    "start_time": "2022-07-14T09:26:08.336Z"
   },
   {
    "duration": 29,
    "start_time": "2022-07-14T09:27:42.983Z"
   },
   {
    "duration": 24,
    "start_time": "2022-07-14T09:27:49.064Z"
   },
   {
    "duration": 27,
    "start_time": "2022-07-14T09:30:08.432Z"
   },
   {
    "duration": 24,
    "start_time": "2022-07-14T09:30:26.135Z"
   },
   {
    "duration": 31,
    "start_time": "2022-07-14T09:30:34.251Z"
   },
   {
    "duration": 23,
    "start_time": "2022-07-14T09:30:58.693Z"
   },
   {
    "duration": 31,
    "start_time": "2022-07-14T09:31:03.991Z"
   },
   {
    "duration": 24,
    "start_time": "2022-07-14T09:31:45.972Z"
   },
   {
    "duration": 30,
    "start_time": "2022-07-14T09:31:55.899Z"
   },
   {
    "duration": 1647,
    "start_time": "2022-07-14T09:33:12.185Z"
   },
   {
    "duration": 2138,
    "start_time": "2022-07-14T09:33:59.833Z"
   },
   {
    "duration": 159,
    "start_time": "2022-07-14T09:34:49.784Z"
   },
   {
    "duration": 151,
    "start_time": "2022-07-14T09:35:32.255Z"
   },
   {
    "duration": 180,
    "start_time": "2022-07-14T09:36:47.460Z"
   },
   {
    "duration": 156,
    "start_time": "2022-07-14T09:37:36.610Z"
   },
   {
    "duration": 15,
    "start_time": "2022-07-14T09:41:04.138Z"
   },
   {
    "duration": 72,
    "start_time": "2022-07-14T09:42:10.059Z"
   },
   {
    "duration": 79,
    "start_time": "2022-07-14T09:42:27.585Z"
   },
   {
    "duration": 14,
    "start_time": "2022-07-14T09:43:41.101Z"
   },
   {
    "duration": 22,
    "start_time": "2022-07-14T09:44:49.754Z"
   },
   {
    "duration": 25,
    "start_time": "2022-07-14T09:46:05.112Z"
   },
   {
    "duration": 24,
    "start_time": "2022-07-14T09:46:21.713Z"
   },
   {
    "duration": 231,
    "start_time": "2022-07-14T11:30:58.767Z"
   },
   {
    "duration": 91,
    "start_time": "2022-07-14T11:31:16.572Z"
   },
   {
    "duration": 176,
    "start_time": "2022-07-14T11:34:02.892Z"
   },
   {
    "duration": 91,
    "start_time": "2022-07-14T11:44:09.213Z"
   },
   {
    "duration": 72,
    "start_time": "2022-07-14T11:44:40.647Z"
   },
   {
    "duration": 79,
    "start_time": "2022-07-14T11:44:48.679Z"
   },
   {
    "duration": 79,
    "start_time": "2022-07-14T11:46:30.350Z"
   },
   {
    "duration": 79,
    "start_time": "2022-07-14T11:46:37.125Z"
   },
   {
    "duration": 77,
    "start_time": "2022-07-14T11:47:42.978Z"
   },
   {
    "duration": 165,
    "start_time": "2022-07-14T11:47:54.143Z"
   },
   {
    "duration": 97,
    "start_time": "2022-07-14T11:48:58.266Z"
   },
   {
    "duration": 93,
    "start_time": "2022-07-14T11:49:47.197Z"
   },
   {
    "duration": 95,
    "start_time": "2022-07-14T11:50:20.272Z"
   },
   {
    "duration": 70,
    "start_time": "2022-07-14T11:50:31.100Z"
   },
   {
    "duration": 117,
    "start_time": "2022-07-14T11:51:10.283Z"
   },
   {
    "duration": 70,
    "start_time": "2022-07-14T11:51:16.350Z"
   },
   {
    "duration": 71,
    "start_time": "2022-07-14T11:51:27.688Z"
   },
   {
    "duration": 70,
    "start_time": "2022-07-14T11:51:44.449Z"
   },
   {
    "duration": 73,
    "start_time": "2022-07-14T11:54:00.179Z"
   },
   {
    "duration": 78,
    "start_time": "2022-07-14T11:54:11.774Z"
   },
   {
    "duration": 74,
    "start_time": "2022-07-14T11:55:56.943Z"
   },
   {
    "duration": 161,
    "start_time": "2022-07-14T11:56:22.711Z"
   },
   {
    "duration": 108,
    "start_time": "2022-07-14T11:56:59.324Z"
   },
   {
    "duration": 86,
    "start_time": "2022-07-14T11:57:27.465Z"
   },
   {
    "duration": 1223,
    "start_time": "2022-07-14T11:58:08.900Z"
   },
   {
    "duration": 107,
    "start_time": "2022-07-14T11:58:10.125Z"
   },
   {
    "duration": 44,
    "start_time": "2022-07-14T11:58:10.235Z"
   },
   {
    "duration": 5,
    "start_time": "2022-07-14T11:58:10.282Z"
   },
   {
    "duration": 9,
    "start_time": "2022-07-14T11:58:10.290Z"
   },
   {
    "duration": 25,
    "start_time": "2022-07-14T11:58:10.301Z"
   },
   {
    "duration": 33,
    "start_time": "2022-07-14T11:58:10.328Z"
   },
   {
    "duration": 21,
    "start_time": "2022-07-14T11:58:10.362Z"
   },
   {
    "duration": 11,
    "start_time": "2022-07-14T11:58:10.384Z"
   },
   {
    "duration": 20,
    "start_time": "2022-07-14T11:58:10.399Z"
   },
   {
    "duration": 56,
    "start_time": "2022-07-14T11:58:10.421Z"
   },
   {
    "duration": 7,
    "start_time": "2022-07-14T11:58:10.478Z"
   },
   {
    "duration": 12,
    "start_time": "2022-07-14T11:58:10.487Z"
   },
   {
    "duration": 6,
    "start_time": "2022-07-14T11:58:10.501Z"
   },
   {
    "duration": 7,
    "start_time": "2022-07-14T11:58:10.509Z"
   },
   {
    "duration": 52,
    "start_time": "2022-07-14T11:58:10.518Z"
   },
   {
    "duration": 6,
    "start_time": "2022-07-14T11:58:10.572Z"
   },
   {
    "duration": 128,
    "start_time": "2022-07-14T11:58:10.580Z"
   },
   {
    "duration": 8,
    "start_time": "2022-07-14T11:58:10.710Z"
   },
   {
    "duration": 6,
    "start_time": "2022-07-14T11:58:10.719Z"
   },
   {
    "duration": 32,
    "start_time": "2022-07-14T11:58:10.727Z"
   },
   {
    "duration": 30,
    "start_time": "2022-07-14T11:58:10.761Z"
   },
   {
    "duration": 21,
    "start_time": "2022-07-14T11:58:10.793Z"
   },
   {
    "duration": 12,
    "start_time": "2022-07-14T11:58:10.816Z"
   },
   {
    "duration": 585,
    "start_time": "2022-07-14T11:58:10.829Z"
   },
   {
    "duration": 111,
    "start_time": "2022-07-14T11:58:11.416Z"
   },
   {
    "duration": 284,
    "start_time": "2022-07-14T11:58:11.529Z"
   },
   {
    "duration": 224,
    "start_time": "2022-07-14T11:58:11.816Z"
   },
   {
    "duration": 244,
    "start_time": "2022-07-14T11:58:12.042Z"
   },
   {
    "duration": 10,
    "start_time": "2022-07-14T11:58:12.287Z"
   },
   {
    "duration": 318,
    "start_time": "2022-07-14T11:58:12.298Z"
   },
   {
    "duration": 273,
    "start_time": "2022-07-14T11:58:12.618Z"
   },
   {
    "duration": 278,
    "start_time": "2022-07-14T11:58:12.893Z"
   },
   {
    "duration": 91,
    "start_time": "2022-07-14T11:58:13.173Z"
   },
   {
    "duration": 135,
    "start_time": "2022-07-14T11:58:46.813Z"
   },
   {
    "duration": 138,
    "start_time": "2022-07-14T11:58:51.809Z"
   },
   {
    "duration": 167,
    "start_time": "2022-07-14T11:59:09.610Z"
   },
   {
    "duration": 209,
    "start_time": "2022-07-14T11:59:21.780Z"
   },
   {
    "duration": 188,
    "start_time": "2022-07-14T11:59:32.644Z"
   },
   {
    "duration": 96,
    "start_time": "2022-07-14T12:15:25.173Z"
   },
   {
    "duration": 90,
    "start_time": "2022-07-14T12:15:33.882Z"
   },
   {
    "duration": 75,
    "start_time": "2022-07-14T12:15:42.570Z"
   },
   {
    "duration": 181,
    "start_time": "2022-07-14T12:24:10.868Z"
   },
   {
    "duration": 199,
    "start_time": "2022-07-14T12:24:40.629Z"
   },
   {
    "duration": 130,
    "start_time": "2022-07-14T12:24:54.101Z"
   },
   {
    "duration": 83,
    "start_time": "2022-07-14T12:25:23.742Z"
   },
   {
    "duration": 1807,
    "start_time": "2022-07-14T12:27:25.900Z"
   },
   {
    "duration": 122,
    "start_time": "2022-07-14T12:28:32.045Z"
   },
   {
    "duration": 97,
    "start_time": "2022-07-14T12:28:51.539Z"
   },
   {
    "duration": 95,
    "start_time": "2022-07-14T12:30:51.679Z"
   },
   {
    "duration": 87,
    "start_time": "2022-07-14T12:31:13.305Z"
   },
   {
    "duration": 91,
    "start_time": "2022-07-14T12:31:56.904Z"
   },
   {
    "duration": 86,
    "start_time": "2022-07-14T12:32:17.085Z"
   },
   {
    "duration": 97,
    "start_time": "2022-07-14T12:32:24.775Z"
   },
   {
    "duration": 95,
    "start_time": "2022-07-14T12:32:36.464Z"
   },
   {
    "duration": 170,
    "start_time": "2022-07-14T12:33:14.314Z"
   },
   {
    "duration": 92,
    "start_time": "2022-07-14T12:33:29.952Z"
   },
   {
    "duration": 341,
    "start_time": "2022-07-14T12:34:20.706Z"
   },
   {
    "duration": 297,
    "start_time": "2022-07-14T12:34:43.815Z"
   },
   {
    "duration": 320,
    "start_time": "2022-07-14T12:35:04.468Z"
   },
   {
    "duration": 325,
    "start_time": "2022-07-14T12:36:27.644Z"
   },
   {
    "duration": 356,
    "start_time": "2022-07-14T12:37:28.671Z"
   },
   {
    "duration": 310,
    "start_time": "2022-07-14T12:37:43.820Z"
   },
   {
    "duration": 398,
    "start_time": "2022-07-14T12:38:01.782Z"
   },
   {
    "duration": 365,
    "start_time": "2022-07-14T12:38:10.422Z"
   },
   {
    "duration": 368,
    "start_time": "2022-07-14T12:38:16.272Z"
   },
   {
    "duration": 327,
    "start_time": "2022-07-14T12:38:25.402Z"
   },
   {
    "duration": 311,
    "start_time": "2022-07-14T12:38:36.633Z"
   },
   {
    "duration": 313,
    "start_time": "2022-07-14T12:38:42.575Z"
   },
   {
    "duration": 365,
    "start_time": "2022-07-14T12:38:47.805Z"
   },
   {
    "duration": 1888,
    "start_time": "2022-07-14T12:42:15.998Z"
   },
   {
    "duration": 476,
    "start_time": "2022-07-14T12:42:28.057Z"
   },
   {
    "duration": 364,
    "start_time": "2022-07-14T12:42:52.268Z"
   },
   {
    "duration": 311,
    "start_time": "2022-07-14T12:43:15.330Z"
   },
   {
    "duration": 352,
    "start_time": "2022-07-14T12:43:29.167Z"
   },
   {
    "duration": 332,
    "start_time": "2022-07-14T12:43:35.242Z"
   },
   {
    "duration": 332,
    "start_time": "2022-07-14T12:43:42.076Z"
   },
   {
    "duration": 363,
    "start_time": "2022-07-14T12:45:22.424Z"
   },
   {
    "duration": 306,
    "start_time": "2022-07-14T12:47:56.670Z"
   },
   {
    "duration": 265,
    "start_time": "2022-07-14T12:48:10.682Z"
   },
   {
    "duration": 320,
    "start_time": "2022-07-14T12:49:27.043Z"
   },
   {
    "duration": 273,
    "start_time": "2022-07-14T12:49:36.948Z"
   },
   {
    "duration": 379,
    "start_time": "2022-07-14T12:50:42.964Z"
   },
   {
    "duration": 284,
    "start_time": "2022-07-14T12:50:51.928Z"
   },
   {
    "duration": 333,
    "start_time": "2022-07-14T12:51:52.735Z"
   },
   {
    "duration": 241,
    "start_time": "2022-07-14T12:52:48.782Z"
   },
   {
    "duration": 237,
    "start_time": "2022-07-14T12:53:05.103Z"
   },
   {
    "duration": 307,
    "start_time": "2022-07-14T13:01:22.900Z"
   },
   {
    "duration": 391,
    "start_time": "2022-07-14T13:01:51.376Z"
   },
   {
    "duration": 484,
    "start_time": "2022-07-14T13:02:01.460Z"
   },
   {
    "duration": 439,
    "start_time": "2022-07-14T13:02:14.403Z"
   },
   {
    "duration": 445,
    "start_time": "2022-07-14T13:02:20.243Z"
   },
   {
    "duration": 397,
    "start_time": "2022-07-14T13:02:27.426Z"
   },
   {
    "duration": 446,
    "start_time": "2022-07-14T13:03:21.940Z"
   },
   {
    "duration": 423,
    "start_time": "2022-07-14T13:04:03.573Z"
   },
   {
    "duration": 432,
    "start_time": "2022-07-14T13:04:15.447Z"
   },
   {
    "duration": 564,
    "start_time": "2022-07-14T13:04:45.324Z"
   },
   {
    "duration": 449,
    "start_time": "2022-07-14T13:07:04.422Z"
   },
   {
    "duration": 453,
    "start_time": "2022-07-14T13:12:41.413Z"
   },
   {
    "duration": 422,
    "start_time": "2022-07-14T13:12:53.053Z"
   },
   {
    "duration": 486,
    "start_time": "2022-07-14T13:13:05.369Z"
   },
   {
    "duration": 633,
    "start_time": "2022-07-14T13:13:25.709Z"
   },
   {
    "duration": 428,
    "start_time": "2022-07-14T13:13:53.872Z"
   },
   {
    "duration": 435,
    "start_time": "2022-07-14T13:15:24.837Z"
   },
   {
    "duration": 54,
    "start_time": "2022-07-15T04:55:05.272Z"
   },
   {
    "duration": 1216,
    "start_time": "2022-07-15T04:55:10.890Z"
   },
   {
    "duration": 212,
    "start_time": "2022-07-15T04:55:12.108Z"
   },
   {
    "duration": 79,
    "start_time": "2022-07-15T04:55:12.322Z"
   },
   {
    "duration": 4,
    "start_time": "2022-07-15T04:55:12.403Z"
   },
   {
    "duration": 22,
    "start_time": "2022-07-15T04:55:12.410Z"
   },
   {
    "duration": 35,
    "start_time": "2022-07-15T04:55:12.433Z"
   },
   {
    "duration": 14,
    "start_time": "2022-07-15T04:55:12.470Z"
   },
   {
    "duration": 24,
    "start_time": "2022-07-15T04:55:12.485Z"
   },
   {
    "duration": 17,
    "start_time": "2022-07-15T04:55:12.511Z"
   },
   {
    "duration": 21,
    "start_time": "2022-07-15T04:55:12.530Z"
   },
   {
    "duration": 29,
    "start_time": "2022-07-15T04:55:12.553Z"
   },
   {
    "duration": 6,
    "start_time": "2022-07-15T04:55:12.584Z"
   },
   {
    "duration": 15,
    "start_time": "2022-07-15T04:55:12.592Z"
   },
   {
    "duration": 13,
    "start_time": "2022-07-15T04:55:12.609Z"
   },
   {
    "duration": 13,
    "start_time": "2022-07-15T04:55:12.624Z"
   },
   {
    "duration": 8,
    "start_time": "2022-07-15T04:55:12.639Z"
   },
   {
    "duration": 4,
    "start_time": "2022-07-15T04:55:12.649Z"
   },
   {
    "duration": 89,
    "start_time": "2022-07-15T04:55:12.660Z"
   },
   {
    "duration": 12,
    "start_time": "2022-07-15T04:55:12.751Z"
   },
   {
    "duration": 7,
    "start_time": "2022-07-15T04:55:12.764Z"
   },
   {
    "duration": 9,
    "start_time": "2022-07-15T04:55:12.773Z"
   },
   {
    "duration": 18,
    "start_time": "2022-07-15T04:55:12.784Z"
   },
   {
    "duration": 19,
    "start_time": "2022-07-15T04:55:12.803Z"
   },
   {
    "duration": 40,
    "start_time": "2022-07-15T04:55:12.823Z"
   },
   {
    "duration": 474,
    "start_time": "2022-07-15T04:55:12.865Z"
   },
   {
    "duration": 74,
    "start_time": "2022-07-15T04:55:13.341Z"
   },
   {
    "duration": 244,
    "start_time": "2022-07-15T04:55:13.416Z"
   },
   {
    "duration": 194,
    "start_time": "2022-07-15T04:55:13.662Z"
   },
   {
    "duration": 205,
    "start_time": "2022-07-15T04:55:13.857Z"
   },
   {
    "duration": 9,
    "start_time": "2022-07-15T04:55:14.064Z"
   },
   {
    "duration": 262,
    "start_time": "2022-07-15T04:55:14.074Z"
   },
   {
    "duration": 243,
    "start_time": "2022-07-15T04:55:14.338Z"
   },
   {
    "duration": 264,
    "start_time": "2022-07-15T04:55:14.583Z"
   },
   {
    "duration": 437,
    "start_time": "2022-07-15T04:55:14.849Z"
   },
   {
    "duration": 8,
    "start_time": "2022-07-15T04:55:15.288Z"
   },
   {
    "duration": 9,
    "start_time": "2022-07-15T04:56:16.511Z"
   },
   {
    "duration": 95,
    "start_time": "2022-07-15T04:56:27.730Z"
   },
   {
    "duration": 10,
    "start_time": "2022-07-15T04:56:53.840Z"
   },
   {
    "duration": 8,
    "start_time": "2022-07-15T04:57:06.174Z"
   },
   {
    "duration": 7,
    "start_time": "2022-07-15T05:00:44.311Z"
   },
   {
    "duration": 11,
    "start_time": "2022-07-15T05:00:51.576Z"
   },
   {
    "duration": 12,
    "start_time": "2022-07-15T05:01:01.425Z"
   },
   {
    "duration": 11,
    "start_time": "2022-07-15T05:01:08.030Z"
   },
   {
    "duration": 18,
    "start_time": "2022-07-15T05:02:16.817Z"
   },
   {
    "duration": 18,
    "start_time": "2022-07-15T05:04:38.765Z"
   },
   {
    "duration": 28,
    "start_time": "2022-07-15T05:05:16.187Z"
   },
   {
    "duration": 30,
    "start_time": "2022-07-15T05:06:40.335Z"
   },
   {
    "duration": 79,
    "start_time": "2022-07-15T05:06:47.423Z"
   },
   {
    "duration": 25,
    "start_time": "2022-07-15T05:07:01.947Z"
   },
   {
    "duration": 24,
    "start_time": "2022-07-15T05:08:04.851Z"
   },
   {
    "duration": 18,
    "start_time": "2022-07-15T05:08:55.049Z"
   },
   {
    "duration": 22,
    "start_time": "2022-07-15T05:09:01.528Z"
   },
   {
    "duration": 36,
    "start_time": "2022-07-15T05:09:32.852Z"
   },
   {
    "duration": 30,
    "start_time": "2022-07-15T05:10:01.057Z"
   },
   {
    "duration": 27,
    "start_time": "2022-07-15T05:10:12.698Z"
   },
   {
    "duration": 50,
    "start_time": "2022-07-15T05:12:16.283Z"
   },
   {
    "duration": 44,
    "start_time": "2022-07-15T05:12:20.344Z"
   },
   {
    "duration": 16,
    "start_time": "2022-07-15T05:12:45.856Z"
   },
   {
    "duration": 24,
    "start_time": "2022-07-15T05:12:50.795Z"
   },
   {
    "duration": 20,
    "start_time": "2022-07-15T05:13:10.663Z"
   },
   {
    "duration": 26,
    "start_time": "2022-07-15T05:13:16.727Z"
   },
   {
    "duration": 17,
    "start_time": "2022-07-15T05:13:23.483Z"
   },
   {
    "duration": 24,
    "start_time": "2022-07-15T05:13:31.515Z"
   },
   {
    "duration": 18,
    "start_time": "2022-07-15T05:13:49.153Z"
   },
   {
    "duration": 25,
    "start_time": "2022-07-15T05:14:16.311Z"
   },
   {
    "duration": 780,
    "start_time": "2022-07-15T05:15:05.370Z"
   },
   {
    "duration": 18,
    "start_time": "2022-07-15T05:15:27.977Z"
   },
   {
    "duration": 19,
    "start_time": "2022-07-15T05:15:41.319Z"
   },
   {
    "duration": 21,
    "start_time": "2022-07-15T05:17:25.055Z"
   },
   {
    "duration": 36,
    "start_time": "2022-07-15T05:17:33.485Z"
   },
   {
    "duration": 811,
    "start_time": "2022-07-15T05:24:05.764Z"
   },
   {
    "duration": 42,
    "start_time": "2022-07-15T05:26:30.117Z"
   },
   {
    "duration": 39,
    "start_time": "2022-07-15T05:27:30.607Z"
   },
   {
    "duration": 170,
    "start_time": "2022-07-15T05:28:29.105Z"
   },
   {
    "duration": 153,
    "start_time": "2022-07-15T05:30:25.870Z"
   },
   {
    "duration": 174,
    "start_time": "2022-07-15T05:34:42.407Z"
   },
   {
    "duration": 151,
    "start_time": "2022-07-15T05:36:58.980Z"
   },
   {
    "duration": 192,
    "start_time": "2022-07-15T05:37:26.541Z"
   },
   {
    "duration": 263,
    "start_time": "2022-07-15T05:37:42.940Z"
   },
   {
    "duration": 197,
    "start_time": "2022-07-15T05:38:14.560Z"
   },
   {
    "duration": 166,
    "start_time": "2022-07-15T05:44:21.131Z"
   },
   {
    "duration": 366,
    "start_time": "2022-07-15T05:44:32.479Z"
   },
   {
    "duration": 58,
    "start_time": "2022-07-15T05:58:10.359Z"
   },
   {
    "duration": 262,
    "start_time": "2022-07-15T05:58:32.341Z"
   },
   {
    "duration": 299,
    "start_time": "2022-07-15T06:00:04.190Z"
   },
   {
    "duration": 292,
    "start_time": "2022-07-15T06:01:11.912Z"
   },
   {
    "duration": 253,
    "start_time": "2022-07-15T06:01:31.665Z"
   },
   {
    "duration": 308,
    "start_time": "2022-07-15T06:02:35.112Z"
   },
   {
    "duration": 260,
    "start_time": "2022-07-15T06:04:06.957Z"
   },
   {
    "duration": 318,
    "start_time": "2022-07-15T06:04:22.861Z"
   },
   {
    "duration": 165,
    "start_time": "2022-07-15T07:10:05.035Z"
   },
   {
    "duration": 332,
    "start_time": "2022-07-15T07:11:15.787Z"
   },
   {
    "duration": 319,
    "start_time": "2022-07-15T07:11:54.077Z"
   },
   {
    "duration": 333,
    "start_time": "2022-07-15T07:12:03.274Z"
   },
   {
    "duration": 338,
    "start_time": "2022-07-15T07:12:21.161Z"
   },
   {
    "duration": 327,
    "start_time": "2022-07-15T07:19:00.180Z"
   },
   {
    "duration": 332,
    "start_time": "2022-07-15T07:19:16.793Z"
   },
   {
    "duration": 296,
    "start_time": "2022-07-15T07:19:46.127Z"
   },
   {
    "duration": 271,
    "start_time": "2022-07-15T07:22:49.454Z"
   },
   {
    "duration": 337,
    "start_time": "2022-07-15T07:25:22.412Z"
   },
   {
    "duration": 329,
    "start_time": "2022-07-15T07:25:54.727Z"
   },
   {
    "duration": 264,
    "start_time": "2022-07-15T07:29:19.959Z"
   },
   {
    "duration": 336,
    "start_time": "2022-07-15T07:30:23.137Z"
   },
   {
    "duration": 225,
    "start_time": "2022-07-15T07:30:42.124Z"
   },
   {
    "duration": 320,
    "start_time": "2022-07-15T07:33:11.799Z"
   },
   {
    "duration": 257,
    "start_time": "2022-07-15T07:33:31.274Z"
   },
   {
    "duration": 268,
    "start_time": "2022-07-15T07:34:15.646Z"
   },
   {
    "duration": 232,
    "start_time": "2022-07-15T07:36:07.213Z"
   },
   {
    "duration": 259,
    "start_time": "2022-07-15T07:36:32.299Z"
   },
   {
    "duration": 257,
    "start_time": "2022-07-15T07:36:43.775Z"
   },
   {
    "duration": 32,
    "start_time": "2022-07-15T08:14:31.273Z"
   },
   {
    "duration": 31,
    "start_time": "2022-07-15T08:16:04.478Z"
   },
   {
    "duration": 35,
    "start_time": "2022-07-15T08:16:22.049Z"
   },
   {
    "duration": 27,
    "start_time": "2022-07-15T08:16:30.110Z"
   },
   {
    "duration": 39,
    "start_time": "2022-07-15T08:16:42.932Z"
   },
   {
    "duration": 12,
    "start_time": "2022-07-15T08:21:59.595Z"
   },
   {
    "duration": 17,
    "start_time": "2022-07-15T08:24:31.354Z"
   },
   {
    "duration": 18,
    "start_time": "2022-07-15T08:26:16.284Z"
   },
   {
    "duration": 13,
    "start_time": "2022-07-15T08:27:16.604Z"
   },
   {
    "duration": 5,
    "start_time": "2022-07-15T08:35:30.666Z"
   },
   {
    "duration": 3,
    "start_time": "2022-07-15T08:35:39.031Z"
   },
   {
    "duration": 49,
    "start_time": "2022-07-15T08:35:47.482Z"
   },
   {
    "duration": 16,
    "start_time": "2022-07-15T08:36:57.350Z"
   },
   {
    "duration": 11,
    "start_time": "2022-07-15T08:37:17.833Z"
   },
   {
    "duration": 10,
    "start_time": "2022-07-15T08:37:33.108Z"
   },
   {
    "duration": 10,
    "start_time": "2022-07-15T08:38:43.878Z"
   },
   {
    "duration": 29,
    "start_time": "2022-07-15T08:39:17.448Z"
   },
   {
    "duration": 15,
    "start_time": "2022-07-15T08:39:27.392Z"
   },
   {
    "duration": 14,
    "start_time": "2022-07-15T08:40:02.588Z"
   },
   {
    "duration": 15,
    "start_time": "2022-07-15T08:40:48.142Z"
   },
   {
    "duration": 13,
    "start_time": "2022-07-15T08:40:57.644Z"
   },
   {
    "duration": 25,
    "start_time": "2022-07-15T08:41:25.551Z"
   },
   {
    "duration": 11,
    "start_time": "2022-07-15T08:41:45.792Z"
   },
   {
    "duration": 12,
    "start_time": "2022-07-15T08:42:17.224Z"
   },
   {
    "duration": 1029,
    "start_time": "2022-07-15T08:42:59.928Z"
   },
   {
    "duration": 98,
    "start_time": "2022-07-15T08:43:00.959Z"
   },
   {
    "duration": 46,
    "start_time": "2022-07-15T08:43:01.059Z"
   },
   {
    "duration": 4,
    "start_time": "2022-07-15T08:43:01.107Z"
   },
   {
    "duration": 27,
    "start_time": "2022-07-15T08:43:01.113Z"
   },
   {
    "duration": 55,
    "start_time": "2022-07-15T08:43:01.142Z"
   },
   {
    "duration": 12,
    "start_time": "2022-07-15T08:43:01.199Z"
   },
   {
    "duration": 41,
    "start_time": "2022-07-15T08:43:01.213Z"
   },
   {
    "duration": 25,
    "start_time": "2022-07-15T08:43:01.256Z"
   },
   {
    "duration": 26,
    "start_time": "2022-07-15T08:43:01.283Z"
   },
   {
    "duration": 28,
    "start_time": "2022-07-15T08:43:01.311Z"
   },
   {
    "duration": 36,
    "start_time": "2022-07-15T08:43:01.341Z"
   },
   {
    "duration": 33,
    "start_time": "2022-07-15T08:43:01.379Z"
   },
   {
    "duration": 25,
    "start_time": "2022-07-15T08:43:01.415Z"
   },
   {
    "duration": 16,
    "start_time": "2022-07-15T08:43:01.442Z"
   },
   {
    "duration": 59,
    "start_time": "2022-07-15T08:43:01.460Z"
   },
   {
    "duration": 51,
    "start_time": "2022-07-15T08:43:01.521Z"
   },
   {
    "duration": 124,
    "start_time": "2022-07-15T08:43:01.575Z"
   },
   {
    "duration": 7,
    "start_time": "2022-07-15T08:43:01.700Z"
   },
   {
    "duration": 17,
    "start_time": "2022-07-15T08:43:01.708Z"
   },
   {
    "duration": 13,
    "start_time": "2022-07-15T08:43:01.727Z"
   },
   {
    "duration": 31,
    "start_time": "2022-07-15T08:43:01.741Z"
   },
   {
    "duration": 18,
    "start_time": "2022-07-15T08:43:01.774Z"
   },
   {
    "duration": 9,
    "start_time": "2022-07-15T08:43:01.794Z"
   },
   {
    "duration": 530,
    "start_time": "2022-07-15T08:43:01.804Z"
   },
   {
    "duration": 73,
    "start_time": "2022-07-15T08:43:02.336Z"
   },
   {
    "duration": 260,
    "start_time": "2022-07-15T08:43:02.410Z"
   },
   {
    "duration": 204,
    "start_time": "2022-07-15T08:43:02.673Z"
   },
   {
    "duration": 178,
    "start_time": "2022-07-15T08:43:02.879Z"
   },
   {
    "duration": 13,
    "start_time": "2022-07-15T08:43:03.060Z"
   },
   {
    "duration": 258,
    "start_time": "2022-07-15T08:43:03.075Z"
   },
   {
    "duration": 239,
    "start_time": "2022-07-15T08:43:03.335Z"
   },
   {
    "duration": 245,
    "start_time": "2022-07-15T08:43:03.575Z"
   },
   {
    "duration": 424,
    "start_time": "2022-07-15T08:43:03.822Z"
   },
   {
    "duration": 244,
    "start_time": "2022-07-15T08:43:04.248Z"
   },
   {
    "duration": 12,
    "start_time": "2022-07-15T08:43:04.494Z"
   },
   {
    "duration": 28,
    "start_time": "2022-07-15T08:43:04.507Z"
   },
   {
    "duration": 17,
    "start_time": "2022-07-15T08:43:04.537Z"
   },
   {
    "duration": 105,
    "start_time": "2022-07-15T08:43:04.556Z"
   },
   {
    "duration": 12,
    "start_time": "2022-07-15T08:43:13.148Z"
   },
   {
    "duration": 17,
    "start_time": "2022-07-15T08:43:25.773Z"
   },
   {
    "duration": 14,
    "start_time": "2022-07-15T08:43:46.832Z"
   },
   {
    "duration": 12,
    "start_time": "2022-07-15T08:43:58.127Z"
   },
   {
    "duration": 15,
    "start_time": "2022-07-15T08:44:26.610Z"
   },
   {
    "duration": 13,
    "start_time": "2022-07-15T08:45:05.141Z"
   },
   {
    "duration": 10,
    "start_time": "2022-07-15T08:45:12.077Z"
   },
   {
    "duration": 10,
    "start_time": "2022-07-15T08:45:32.757Z"
   },
   {
    "duration": 13,
    "start_time": "2022-07-15T08:48:01.374Z"
   },
   {
    "duration": 15,
    "start_time": "2022-07-15T08:51:18.101Z"
   },
   {
    "duration": 78,
    "start_time": "2022-07-15T08:54:44.640Z"
   },
   {
    "duration": 71,
    "start_time": "2022-07-15T08:54:56.594Z"
   },
   {
    "duration": 77,
    "start_time": "2022-07-15T08:55:02.048Z"
   },
   {
    "duration": 74,
    "start_time": "2022-07-15T08:55:27.404Z"
   },
   {
    "duration": 583,
    "start_time": "2022-07-15T08:55:40.920Z"
   },
   {
    "duration": 507,
    "start_time": "2022-07-15T08:55:55.372Z"
   },
   {
    "duration": 56,
    "start_time": "2022-07-15T08:56:11.884Z"
   },
   {
    "duration": 16,
    "start_time": "2022-07-15T08:56:39.486Z"
   },
   {
    "duration": 43,
    "start_time": "2022-07-15T08:56:44.345Z"
   },
   {
    "duration": 39,
    "start_time": "2022-07-15T08:56:52.132Z"
   },
   {
    "duration": 52,
    "start_time": "2022-07-15T08:57:29.761Z"
   },
   {
    "duration": 35,
    "start_time": "2022-07-15T08:57:43.499Z"
   },
   {
    "duration": 53,
    "start_time": "2022-07-15T08:57:54.728Z"
   },
   {
    "duration": 40,
    "start_time": "2022-07-15T08:58:02.011Z"
   },
   {
    "duration": 34,
    "start_time": "2022-07-15T08:58:48.173Z"
   },
   {
    "duration": 49,
    "start_time": "2022-07-15T08:58:54.136Z"
   },
   {
    "duration": 12,
    "start_time": "2022-07-15T09:00:47.009Z"
   },
   {
    "duration": 2,
    "start_time": "2022-07-15T09:02:33.483Z"
   },
   {
    "duration": 101,
    "start_time": "2022-07-15T09:02:35.092Z"
   },
   {
    "duration": 52,
    "start_time": "2022-07-15T09:02:35.949Z"
   },
   {
    "duration": 4,
    "start_time": "2022-07-15T09:02:37.581Z"
   },
   {
    "duration": 7,
    "start_time": "2022-07-15T09:02:38.695Z"
   },
   {
    "duration": 41,
    "start_time": "2022-07-15T09:02:39.933Z"
   },
   {
    "duration": 15,
    "start_time": "2022-07-15T09:11:09.681Z"
   },
   {
    "duration": 620,
    "start_time": "2022-07-15T09:11:36.780Z"
   },
   {
    "duration": 103,
    "start_time": "2022-07-15T09:11:37.402Z"
   },
   {
    "duration": 45,
    "start_time": "2022-07-15T09:11:37.507Z"
   },
   {
    "duration": 4,
    "start_time": "2022-07-15T09:11:37.554Z"
   },
   {
    "duration": 37,
    "start_time": "2022-07-15T09:11:37.559Z"
   },
   {
    "duration": 82,
    "start_time": "2022-07-15T09:11:37.598Z"
   },
   {
    "duration": 12,
    "start_time": "2022-07-15T09:11:37.681Z"
   },
   {
    "duration": 39,
    "start_time": "2022-07-15T09:11:37.695Z"
   },
   {
    "duration": 10,
    "start_time": "2022-07-15T09:11:37.736Z"
   },
   {
    "duration": 47,
    "start_time": "2022-07-15T09:11:37.748Z"
   },
   {
    "duration": 35,
    "start_time": "2022-07-15T09:11:37.797Z"
   },
   {
    "duration": 15,
    "start_time": "2022-07-15T09:11:37.833Z"
   },
   {
    "duration": 31,
    "start_time": "2022-07-15T09:11:37.849Z"
   },
   {
    "duration": 28,
    "start_time": "2022-07-15T09:11:37.882Z"
   },
   {
    "duration": 12,
    "start_time": "2022-07-15T09:11:37.912Z"
   },
   {
    "duration": 34,
    "start_time": "2022-07-15T09:11:37.925Z"
   },
   {
    "duration": 22,
    "start_time": "2022-07-15T09:11:37.961Z"
   },
   {
    "duration": 116,
    "start_time": "2022-07-15T09:11:37.985Z"
   },
   {
    "duration": 7,
    "start_time": "2022-07-15T09:11:38.103Z"
   },
   {
    "duration": 8,
    "start_time": "2022-07-15T09:11:38.112Z"
   },
   {
    "duration": 6,
    "start_time": "2022-07-15T09:11:38.121Z"
   },
   {
    "duration": 17,
    "start_time": "2022-07-15T09:11:38.129Z"
   },
   {
    "duration": 26,
    "start_time": "2022-07-15T09:11:38.160Z"
   },
   {
    "duration": 5,
    "start_time": "2022-07-15T09:11:38.188Z"
   },
   {
    "duration": 498,
    "start_time": "2022-07-15T09:11:38.195Z"
   },
   {
    "duration": 89,
    "start_time": "2022-07-15T09:11:38.695Z"
   },
   {
    "duration": 340,
    "start_time": "2022-07-15T09:11:38.786Z"
   },
   {
    "duration": 0,
    "start_time": "2022-07-15T09:11:39.128Z"
   },
   {
    "duration": 0,
    "start_time": "2022-07-15T09:11:39.129Z"
   },
   {
    "duration": 0,
    "start_time": "2022-07-15T09:11:39.130Z"
   },
   {
    "duration": 0,
    "start_time": "2022-07-15T09:11:39.131Z"
   },
   {
    "duration": 0,
    "start_time": "2022-07-15T09:11:39.132Z"
   },
   {
    "duration": 0,
    "start_time": "2022-07-15T09:11:39.133Z"
   },
   {
    "duration": 0,
    "start_time": "2022-07-15T09:11:39.134Z"
   },
   {
    "duration": 0,
    "start_time": "2022-07-15T09:11:39.135Z"
   },
   {
    "duration": 0,
    "start_time": "2022-07-15T09:11:39.136Z"
   },
   {
    "duration": 0,
    "start_time": "2022-07-15T09:11:39.137Z"
   },
   {
    "duration": 0,
    "start_time": "2022-07-15T09:11:39.137Z"
   },
   {
    "duration": 0,
    "start_time": "2022-07-15T09:11:39.138Z"
   },
   {
    "duration": 616,
    "start_time": "2022-07-15T09:12:09.696Z"
   },
   {
    "duration": 110,
    "start_time": "2022-07-15T09:12:10.314Z"
   },
   {
    "duration": 54,
    "start_time": "2022-07-15T09:12:10.426Z"
   },
   {
    "duration": 4,
    "start_time": "2022-07-15T09:12:10.481Z"
   },
   {
    "duration": 26,
    "start_time": "2022-07-15T09:12:10.487Z"
   },
   {
    "duration": 69,
    "start_time": "2022-07-15T09:12:10.514Z"
   },
   {
    "duration": 13,
    "start_time": "2022-07-15T09:12:10.585Z"
   },
   {
    "duration": 39,
    "start_time": "2022-07-15T09:12:10.600Z"
   },
   {
    "duration": 13,
    "start_time": "2022-07-15T09:12:10.641Z"
   },
   {
    "duration": 35,
    "start_time": "2022-07-15T09:12:10.656Z"
   },
   {
    "duration": 33,
    "start_time": "2022-07-15T09:12:10.693Z"
   },
   {
    "duration": 14,
    "start_time": "2022-07-15T09:12:10.728Z"
   },
   {
    "duration": 39,
    "start_time": "2022-07-15T09:12:10.744Z"
   },
   {
    "duration": 28,
    "start_time": "2022-07-15T09:12:10.786Z"
   },
   {
    "duration": 30,
    "start_time": "2022-07-15T09:12:10.816Z"
   },
   {
    "duration": 34,
    "start_time": "2022-07-15T09:12:10.847Z"
   },
   {
    "duration": 21,
    "start_time": "2022-07-15T09:12:10.882Z"
   },
   {
    "duration": 105,
    "start_time": "2022-07-15T09:12:10.904Z"
   },
   {
    "duration": 7,
    "start_time": "2022-07-15T09:12:11.011Z"
   },
   {
    "duration": 28,
    "start_time": "2022-07-15T09:12:11.019Z"
   },
   {
    "duration": 31,
    "start_time": "2022-07-15T09:12:11.049Z"
   },
   {
    "duration": 26,
    "start_time": "2022-07-15T09:12:11.083Z"
   },
   {
    "duration": 20,
    "start_time": "2022-07-15T09:12:11.111Z"
   },
   {
    "duration": 14,
    "start_time": "2022-07-15T09:12:11.133Z"
   },
   {
    "duration": 486,
    "start_time": "2022-07-15T09:12:11.149Z"
   },
   {
    "duration": 74,
    "start_time": "2022-07-15T09:12:11.637Z"
   },
   {
    "duration": 301,
    "start_time": "2022-07-15T09:12:11.713Z"
   },
   {
    "duration": 204,
    "start_time": "2022-07-15T09:12:12.016Z"
   },
   {
    "duration": 196,
    "start_time": "2022-07-15T09:12:12.222Z"
   },
   {
    "duration": 9,
    "start_time": "2022-07-15T09:12:12.419Z"
   },
   {
    "duration": 278,
    "start_time": "2022-07-15T09:12:12.430Z"
   },
   {
    "duration": 186,
    "start_time": "2022-07-15T09:12:12.710Z"
   },
   {
    "duration": 242,
    "start_time": "2022-07-15T09:12:12.897Z"
   },
   {
    "duration": 436,
    "start_time": "2022-07-15T09:12:13.141Z"
   },
   {
    "duration": 234,
    "start_time": "2022-07-15T09:12:13.579Z"
   },
   {
    "duration": 13,
    "start_time": "2022-07-15T09:12:13.814Z"
   },
   {
    "duration": 17,
    "start_time": "2022-07-15T09:12:13.828Z"
   },
   {
    "duration": 29,
    "start_time": "2022-07-15T09:12:13.847Z"
   },
   {
    "duration": 10,
    "start_time": "2022-07-15T09:12:13.878Z"
   },
   {
    "duration": 293,
    "start_time": "2022-07-15T09:12:29.290Z"
   },
   {
    "duration": 226,
    "start_time": "2022-07-15T09:14:43.031Z"
   },
   {
    "duration": 231,
    "start_time": "2022-07-15T09:15:19.239Z"
   },
   {
    "duration": 185,
    "start_time": "2022-07-15T09:16:09.582Z"
   },
   {
    "duration": 185,
    "start_time": "2022-07-15T09:16:14.387Z"
   },
   {
    "duration": 189,
    "start_time": "2022-07-15T09:16:38.869Z"
   },
   {
    "duration": 185,
    "start_time": "2022-07-15T09:30:00.252Z"
   },
   {
    "duration": 182,
    "start_time": "2022-07-15T09:40:17.227Z"
   },
   {
    "duration": 147,
    "start_time": "2022-07-15T09:58:36.235Z"
   },
   {
    "duration": 269,
    "start_time": "2022-07-15T09:59:10.247Z"
   },
   {
    "duration": 251,
    "start_time": "2022-07-15T09:59:48.373Z"
   },
   {
    "duration": 194,
    "start_time": "2022-07-15T10:00:58.389Z"
   },
   {
    "duration": 261,
    "start_time": "2022-07-15T10:01:17.012Z"
   },
   {
    "duration": 298,
    "start_time": "2022-07-15T10:10:46.237Z"
   },
   {
    "duration": 1074,
    "start_time": "2022-07-15T10:12:09.171Z"
   },
   {
    "duration": 236,
    "start_time": "2022-07-15T10:12:29.688Z"
   },
   {
    "duration": 964,
    "start_time": "2022-07-15T10:12:57.535Z"
   },
   {
    "duration": 242,
    "start_time": "2022-07-15T10:14:03.990Z"
   },
   {
    "duration": 1219,
    "start_time": "2022-07-15T10:14:41.658Z"
   },
   {
    "duration": 239,
    "start_time": "2022-07-15T10:16:45.381Z"
   },
   {
    "duration": 15,
    "start_time": "2022-07-15T11:41:03.125Z"
   },
   {
    "duration": 9,
    "start_time": "2022-07-15T11:41:14.344Z"
   },
   {
    "duration": 11,
    "start_time": "2022-07-15T11:41:57.299Z"
   },
   {
    "duration": 25,
    "start_time": "2022-07-15T11:48:36.557Z"
   },
   {
    "duration": 13,
    "start_time": "2022-07-15T11:49:02.547Z"
   },
   {
    "duration": 34,
    "start_time": "2022-07-15T11:52:13.360Z"
   },
   {
    "duration": 37,
    "start_time": "2022-07-15T11:54:58.340Z"
   },
   {
    "duration": 38,
    "start_time": "2022-07-15T11:55:28.775Z"
   },
   {
    "duration": 36,
    "start_time": "2022-07-15T11:55:50.852Z"
   },
   {
    "duration": 36,
    "start_time": "2022-07-15T11:56:04.021Z"
   },
   {
    "duration": 40,
    "start_time": "2022-07-15T11:56:36.361Z"
   },
   {
    "duration": 35,
    "start_time": "2022-07-15T12:00:40.303Z"
   },
   {
    "duration": 16,
    "start_time": "2022-07-15T12:02:52.207Z"
   },
   {
    "duration": 20,
    "start_time": "2022-07-15T12:03:03.298Z"
   },
   {
    "duration": 24,
    "start_time": "2022-07-15T12:03:26.510Z"
   },
   {
    "duration": 21,
    "start_time": "2022-07-15T12:03:51.638Z"
   },
   {
    "duration": 25,
    "start_time": "2022-07-15T12:04:00.171Z"
   },
   {
    "duration": 24,
    "start_time": "2022-07-15T12:04:11.863Z"
   },
   {
    "duration": 24,
    "start_time": "2022-07-16T03:35:26.341Z"
   },
   {
    "duration": 24,
    "start_time": "2022-07-16T03:38:02.242Z"
   },
   {
    "duration": 27,
    "start_time": "2022-07-16T03:39:37.262Z"
   },
   {
    "duration": 197,
    "start_time": "2022-07-16T03:41:06.328Z"
   },
   {
    "duration": 194,
    "start_time": "2022-07-16T03:41:59.683Z"
   },
   {
    "duration": 202,
    "start_time": "2022-07-16T03:42:42.664Z"
   },
   {
    "duration": 236,
    "start_time": "2022-07-16T03:43:16.110Z"
   },
   {
    "duration": 205,
    "start_time": "2022-07-16T03:43:41.757Z"
   },
   {
    "duration": 13,
    "start_time": "2022-07-16T04:47:32.954Z"
   },
   {
    "duration": 9,
    "start_time": "2022-07-16T04:48:19.296Z"
   },
   {
    "duration": 617,
    "start_time": "2022-07-16T04:48:33.031Z"
   },
   {
    "duration": 98,
    "start_time": "2022-07-16T04:48:33.650Z"
   },
   {
    "duration": 46,
    "start_time": "2022-07-16T04:48:33.750Z"
   },
   {
    "duration": 3,
    "start_time": "2022-07-16T04:48:33.798Z"
   },
   {
    "duration": 9,
    "start_time": "2022-07-16T04:48:33.804Z"
   },
   {
    "duration": 40,
    "start_time": "2022-07-16T04:48:33.814Z"
   },
   {
    "duration": 12,
    "start_time": "2022-07-16T04:48:33.855Z"
   },
   {
    "duration": 19,
    "start_time": "2022-07-16T04:48:33.868Z"
   },
   {
    "duration": 10,
    "start_time": "2022-07-16T04:48:33.888Z"
   },
   {
    "duration": 11,
    "start_time": "2022-07-16T04:48:33.900Z"
   },
   {
    "duration": 18,
    "start_time": "2022-07-16T04:48:33.913Z"
   },
   {
    "duration": 31,
    "start_time": "2022-07-16T04:48:33.933Z"
   },
   {
    "duration": 8,
    "start_time": "2022-07-16T04:48:33.966Z"
   },
   {
    "duration": 5,
    "start_time": "2022-07-16T04:48:33.977Z"
   },
   {
    "duration": 9,
    "start_time": "2022-07-16T04:48:33.984Z"
   },
   {
    "duration": 10,
    "start_time": "2022-07-16T04:48:33.994Z"
   },
   {
    "duration": 4,
    "start_time": "2022-07-16T04:48:34.006Z"
   },
   {
    "duration": 104,
    "start_time": "2022-07-16T04:48:34.011Z"
   },
   {
    "duration": 7,
    "start_time": "2022-07-16T04:48:34.117Z"
   },
   {
    "duration": 5,
    "start_time": "2022-07-16T04:48:34.126Z"
   },
   {
    "duration": 6,
    "start_time": "2022-07-16T04:48:34.133Z"
   },
   {
    "duration": 28,
    "start_time": "2022-07-16T04:48:34.141Z"
   },
   {
    "duration": 17,
    "start_time": "2022-07-16T04:48:34.171Z"
   },
   {
    "duration": 8,
    "start_time": "2022-07-16T04:48:34.189Z"
   },
   {
    "duration": 458,
    "start_time": "2022-07-16T04:48:34.198Z"
   },
   {
    "duration": 73,
    "start_time": "2022-07-16T04:48:34.660Z"
   },
   {
    "duration": 273,
    "start_time": "2022-07-16T04:48:34.735Z"
   },
   {
    "duration": 188,
    "start_time": "2022-07-16T04:48:35.009Z"
   },
   {
    "duration": 200,
    "start_time": "2022-07-16T04:48:35.199Z"
   },
   {
    "duration": 9,
    "start_time": "2022-07-16T04:48:35.401Z"
   },
   {
    "duration": 247,
    "start_time": "2022-07-16T04:48:35.411Z"
   },
   {
    "duration": 177,
    "start_time": "2022-07-16T04:48:35.660Z"
   },
   {
    "duration": 232,
    "start_time": "2022-07-16T04:48:35.838Z"
   },
   {
    "duration": 454,
    "start_time": "2022-07-16T04:48:36.072Z"
   },
   {
    "duration": 218,
    "start_time": "2022-07-16T04:48:36.528Z"
   },
   {
    "duration": 16,
    "start_time": "2022-07-16T04:48:36.747Z"
   },
   {
    "duration": 15,
    "start_time": "2022-07-16T04:48:36.765Z"
   },
   {
    "duration": 31,
    "start_time": "2022-07-16T04:48:36.781Z"
   },
   {
    "duration": 289,
    "start_time": "2022-07-16T04:48:36.813Z"
   },
   {
    "duration": 568,
    "start_time": "2022-07-16T04:51:29.103Z"
   },
   {
    "duration": 96,
    "start_time": "2022-07-16T04:51:29.673Z"
   },
   {
    "duration": 43,
    "start_time": "2022-07-16T04:51:29.770Z"
   },
   {
    "duration": 3,
    "start_time": "2022-07-16T04:51:29.815Z"
   },
   {
    "duration": 14,
    "start_time": "2022-07-16T04:51:29.820Z"
   },
   {
    "duration": 37,
    "start_time": "2022-07-16T04:51:29.835Z"
   },
   {
    "duration": 12,
    "start_time": "2022-07-16T04:51:29.874Z"
   },
   {
    "duration": 15,
    "start_time": "2022-07-16T04:51:29.888Z"
   },
   {
    "duration": 8,
    "start_time": "2022-07-16T04:51:29.904Z"
   },
   {
    "duration": 11,
    "start_time": "2022-07-16T04:51:29.914Z"
   },
   {
    "duration": 47,
    "start_time": "2022-07-16T04:51:29.926Z"
   },
   {
    "duration": 5,
    "start_time": "2022-07-16T04:51:29.975Z"
   },
   {
    "duration": 11,
    "start_time": "2022-07-16T04:51:29.981Z"
   },
   {
    "duration": 4,
    "start_time": "2022-07-16T04:51:29.994Z"
   },
   {
    "duration": 11,
    "start_time": "2022-07-16T04:51:30.000Z"
   },
   {
    "duration": 21,
    "start_time": "2022-07-16T04:51:30.012Z"
   },
   {
    "duration": 7,
    "start_time": "2022-07-16T04:51:30.034Z"
   },
   {
    "duration": 97,
    "start_time": "2022-07-16T04:51:30.042Z"
   },
   {
    "duration": 7,
    "start_time": "2022-07-16T04:51:30.141Z"
   },
   {
    "duration": 13,
    "start_time": "2022-07-16T04:51:30.150Z"
   },
   {
    "duration": 32,
    "start_time": "2022-07-16T04:51:30.164Z"
   },
   {
    "duration": 41,
    "start_time": "2022-07-16T04:51:30.198Z"
   },
   {
    "duration": 39,
    "start_time": "2022-07-16T04:51:30.241Z"
   },
   {
    "duration": 16,
    "start_time": "2022-07-16T04:51:30.283Z"
   },
   {
    "duration": 473,
    "start_time": "2022-07-16T04:51:30.300Z"
   },
   {
    "duration": 69,
    "start_time": "2022-07-16T04:51:30.775Z"
   },
   {
    "duration": 287,
    "start_time": "2022-07-16T04:51:30.846Z"
   },
   {
    "duration": 197,
    "start_time": "2022-07-16T04:51:31.137Z"
   },
   {
    "duration": 192,
    "start_time": "2022-07-16T04:51:31.336Z"
   },
   {
    "duration": 19,
    "start_time": "2022-07-16T04:51:31.530Z"
   },
   {
    "duration": 276,
    "start_time": "2022-07-16T04:51:31.551Z"
   },
   {
    "duration": 168,
    "start_time": "2022-07-16T04:51:31.828Z"
   },
   {
    "duration": 229,
    "start_time": "2022-07-16T04:51:31.997Z"
   },
   {
    "duration": 399,
    "start_time": "2022-07-16T04:51:32.227Z"
   },
   {
    "duration": 236,
    "start_time": "2022-07-16T04:51:32.627Z"
   },
   {
    "duration": 10,
    "start_time": "2022-07-16T04:51:32.864Z"
   },
   {
    "duration": 32,
    "start_time": "2022-07-16T04:51:32.875Z"
   },
   {
    "duration": 47,
    "start_time": "2022-07-16T04:51:32.909Z"
   },
   {
    "duration": 260,
    "start_time": "2022-07-16T04:51:32.957Z"
   },
   {
    "duration": 71,
    "start_time": "2022-07-16T04:53:32.519Z"
   },
   {
    "duration": 14,
    "start_time": "2022-07-16T04:53:37.640Z"
   },
   {
    "duration": 13,
    "start_time": "2022-07-16T04:53:56.504Z"
   },
   {
    "duration": 11,
    "start_time": "2022-07-16T04:54:16.523Z"
   },
   {
    "duration": 12,
    "start_time": "2022-07-16T04:54:25.552Z"
   },
   {
    "duration": 12,
    "start_time": "2022-07-16T04:54:43.021Z"
   },
   {
    "duration": 15,
    "start_time": "2022-07-16T04:55:07.465Z"
   },
   {
    "duration": 90,
    "start_time": "2022-07-16T04:55:22.626Z"
   },
   {
    "duration": 54,
    "start_time": "2022-07-16T04:56:23.212Z"
   },
   {
    "duration": 15,
    "start_time": "2022-07-16T04:56:33.284Z"
   },
   {
    "duration": 15,
    "start_time": "2022-07-16T04:56:45.880Z"
   },
   {
    "duration": 16,
    "start_time": "2022-07-16T04:56:52.687Z"
   },
   {
    "duration": 15,
    "start_time": "2022-07-16T04:56:58.375Z"
   },
   {
    "duration": 16,
    "start_time": "2022-07-16T04:57:03.179Z"
   },
   {
    "duration": 15,
    "start_time": "2022-07-16T04:57:07.682Z"
   },
   {
    "duration": 16,
    "start_time": "2022-07-16T04:57:12.523Z"
   },
   {
    "duration": 15,
    "start_time": "2022-07-16T04:57:17.302Z"
   },
   {
    "duration": 59,
    "start_time": "2022-07-16T04:58:21.093Z"
   },
   {
    "duration": 60,
    "start_time": "2022-07-16T04:58:35.948Z"
   },
   {
    "duration": 63,
    "start_time": "2022-07-16T04:58:53.984Z"
   },
   {
    "duration": 57,
    "start_time": "2022-07-16T05:06:37.361Z"
   },
   {
    "duration": 572,
    "start_time": "2022-07-16T05:07:24.505Z"
   },
   {
    "duration": 99,
    "start_time": "2022-07-16T05:07:25.079Z"
   },
   {
    "duration": 46,
    "start_time": "2022-07-16T05:07:25.179Z"
   },
   {
    "duration": 4,
    "start_time": "2022-07-16T05:07:25.227Z"
   },
   {
    "duration": 19,
    "start_time": "2022-07-16T05:07:25.234Z"
   },
   {
    "duration": 58,
    "start_time": "2022-07-16T05:07:25.255Z"
   },
   {
    "duration": 15,
    "start_time": "2022-07-16T05:07:25.315Z"
   },
   {
    "duration": 16,
    "start_time": "2022-07-16T05:07:25.331Z"
   },
   {
    "duration": 16,
    "start_time": "2022-07-16T05:07:25.348Z"
   },
   {
    "duration": 26,
    "start_time": "2022-07-16T05:07:25.366Z"
   },
   {
    "duration": 33,
    "start_time": "2022-07-16T05:07:25.394Z"
   },
   {
    "duration": 6,
    "start_time": "2022-07-16T05:07:25.429Z"
   },
   {
    "duration": 12,
    "start_time": "2022-07-16T05:07:25.436Z"
   },
   {
    "duration": 12,
    "start_time": "2022-07-16T05:07:25.451Z"
   },
   {
    "duration": 12,
    "start_time": "2022-07-16T05:07:25.465Z"
   },
   {
    "duration": 9,
    "start_time": "2022-07-16T05:07:25.479Z"
   },
   {
    "duration": 5,
    "start_time": "2022-07-16T05:07:25.489Z"
   },
   {
    "duration": 88,
    "start_time": "2022-07-16T05:07:25.496Z"
   },
   {
    "duration": 6,
    "start_time": "2022-07-16T05:07:25.586Z"
   },
   {
    "duration": 58,
    "start_time": "2022-07-16T05:07:25.593Z"
   },
   {
    "duration": 6,
    "start_time": "2022-07-16T05:07:25.653Z"
   },
   {
    "duration": 26,
    "start_time": "2022-07-16T05:07:25.661Z"
   },
   {
    "duration": 19,
    "start_time": "2022-07-16T05:07:25.688Z"
   },
   {
    "duration": 12,
    "start_time": "2022-07-16T05:07:25.708Z"
   },
   {
    "duration": 451,
    "start_time": "2022-07-16T05:07:25.722Z"
   },
   {
    "duration": 99,
    "start_time": "2022-07-16T05:07:26.174Z"
   },
   {
    "duration": 296,
    "start_time": "2022-07-16T05:07:26.276Z"
   },
   {
    "duration": 193,
    "start_time": "2022-07-16T05:07:26.574Z"
   },
   {
    "duration": 192,
    "start_time": "2022-07-16T05:07:26.768Z"
   },
   {
    "duration": 15,
    "start_time": "2022-07-16T05:07:26.962Z"
   },
   {
    "duration": 246,
    "start_time": "2022-07-16T05:07:26.978Z"
   },
   {
    "duration": 169,
    "start_time": "2022-07-16T05:07:27.225Z"
   },
   {
    "duration": 225,
    "start_time": "2022-07-16T05:07:27.395Z"
   },
   {
    "duration": 402,
    "start_time": "2022-07-16T05:07:27.621Z"
   },
   {
    "duration": 224,
    "start_time": "2022-07-16T05:07:28.025Z"
   },
   {
    "duration": 11,
    "start_time": "2022-07-16T05:07:28.250Z"
   },
   {
    "duration": 17,
    "start_time": "2022-07-16T05:07:28.262Z"
   },
   {
    "duration": 30,
    "start_time": "2022-07-16T05:07:28.280Z"
   },
   {
    "duration": 281,
    "start_time": "2022-07-16T05:07:28.311Z"
   },
   {
    "duration": 84,
    "start_time": "2022-07-16T05:09:07.574Z"
   },
   {
    "duration": 19,
    "start_time": "2022-07-16T05:09:12.483Z"
   },
   {
    "duration": 112,
    "start_time": "2022-07-16T05:10:25.390Z"
   },
   {
    "duration": 8,
    "start_time": "2022-07-16T05:12:31.096Z"
   },
   {
    "duration": 608,
    "start_time": "2022-07-16T05:12:41.837Z"
   },
   {
    "duration": 98,
    "start_time": "2022-07-16T05:12:42.447Z"
   },
   {
    "duration": 45,
    "start_time": "2022-07-16T05:12:42.547Z"
   },
   {
    "duration": 4,
    "start_time": "2022-07-16T05:12:42.595Z"
   },
   {
    "duration": 31,
    "start_time": "2022-07-16T05:12:42.601Z"
   },
   {
    "duration": 49,
    "start_time": "2022-07-16T05:12:42.633Z"
   },
   {
    "duration": 22,
    "start_time": "2022-07-16T05:12:42.684Z"
   },
   {
    "duration": 30,
    "start_time": "2022-07-16T05:12:42.708Z"
   },
   {
    "duration": 14,
    "start_time": "2022-07-16T05:12:42.740Z"
   },
   {
    "duration": 29,
    "start_time": "2022-07-16T05:12:42.757Z"
   },
   {
    "duration": 28,
    "start_time": "2022-07-16T05:12:42.788Z"
   },
   {
    "duration": 20,
    "start_time": "2022-07-16T05:12:42.817Z"
   },
   {
    "duration": 16,
    "start_time": "2022-07-16T05:12:42.838Z"
   },
   {
    "duration": 29,
    "start_time": "2022-07-16T05:12:42.855Z"
   },
   {
    "duration": 31,
    "start_time": "2022-07-16T05:12:42.886Z"
   },
   {
    "duration": 17,
    "start_time": "2022-07-16T05:12:42.919Z"
   },
   {
    "duration": 33,
    "start_time": "2022-07-16T05:12:42.937Z"
   },
   {
    "duration": 111,
    "start_time": "2022-07-16T05:12:42.972Z"
   },
   {
    "duration": 7,
    "start_time": "2022-07-16T05:12:43.084Z"
   },
   {
    "duration": 42,
    "start_time": "2022-07-16T05:12:43.092Z"
   },
   {
    "duration": 13,
    "start_time": "2022-07-16T05:12:43.135Z"
   },
   {
    "duration": 40,
    "start_time": "2022-07-16T05:12:43.149Z"
   },
   {
    "duration": 27,
    "start_time": "2022-07-16T05:12:43.191Z"
   },
   {
    "duration": 24,
    "start_time": "2022-07-16T05:12:43.220Z"
   },
   {
    "duration": 474,
    "start_time": "2022-07-16T05:12:43.245Z"
   },
   {
    "duration": 75,
    "start_time": "2022-07-16T05:12:43.720Z"
   },
   {
    "duration": 274,
    "start_time": "2022-07-16T05:12:43.796Z"
   },
   {
    "duration": 184,
    "start_time": "2022-07-16T05:12:44.073Z"
   },
   {
    "duration": 186,
    "start_time": "2022-07-16T05:12:44.259Z"
   },
   {
    "duration": 16,
    "start_time": "2022-07-16T05:12:44.446Z"
   },
   {
    "duration": 288,
    "start_time": "2022-07-16T05:12:44.463Z"
   },
   {
    "duration": 174,
    "start_time": "2022-07-16T05:12:44.752Z"
   },
   {
    "duration": 229,
    "start_time": "2022-07-16T05:12:44.927Z"
   },
   {
    "duration": 418,
    "start_time": "2022-07-16T05:12:45.160Z"
   },
   {
    "duration": 232,
    "start_time": "2022-07-16T05:12:45.580Z"
   },
   {
    "duration": 10,
    "start_time": "2022-07-16T05:12:45.814Z"
   },
   {
    "duration": 15,
    "start_time": "2022-07-16T05:12:45.825Z"
   },
   {
    "duration": 44,
    "start_time": "2022-07-16T05:12:45.841Z"
   },
   {
    "duration": 286,
    "start_time": "2022-07-16T05:12:45.887Z"
   },
   {
    "duration": 53,
    "start_time": "2022-07-16T05:19:39.364Z"
   },
   {
    "duration": 15,
    "start_time": "2022-07-16T05:19:52.013Z"
   },
   {
    "duration": 19,
    "start_time": "2022-07-16T05:20:25.323Z"
   },
   {
    "duration": 12,
    "start_time": "2022-07-16T05:20:34.218Z"
   },
   {
    "duration": 12,
    "start_time": "2022-07-16T05:20:52.641Z"
   },
   {
    "duration": 12,
    "start_time": "2022-07-16T05:21:00.243Z"
   },
   {
    "duration": 12,
    "start_time": "2022-07-16T05:21:07.437Z"
   },
   {
    "duration": 12,
    "start_time": "2022-07-16T05:21:16.742Z"
   },
   {
    "duration": 13,
    "start_time": "2022-07-16T05:21:22.769Z"
   },
   {
    "duration": 572,
    "start_time": "2022-07-16T05:24:09.623Z"
   },
   {
    "duration": 98,
    "start_time": "2022-07-16T05:24:10.197Z"
   },
   {
    "duration": 44,
    "start_time": "2022-07-16T05:24:10.297Z"
   },
   {
    "duration": 4,
    "start_time": "2022-07-16T05:24:10.343Z"
   },
   {
    "duration": 9,
    "start_time": "2022-07-16T05:24:10.348Z"
   },
   {
    "duration": 37,
    "start_time": "2022-07-16T05:24:10.358Z"
   },
   {
    "duration": 13,
    "start_time": "2022-07-16T05:24:10.396Z"
   },
   {
    "duration": 18,
    "start_time": "2022-07-16T05:24:10.410Z"
   },
   {
    "duration": 31,
    "start_time": "2022-07-16T05:24:10.430Z"
   },
   {
    "duration": 11,
    "start_time": "2022-07-16T05:24:10.464Z"
   },
   {
    "duration": 19,
    "start_time": "2022-07-16T05:24:10.477Z"
   },
   {
    "duration": 6,
    "start_time": "2022-07-16T05:24:10.497Z"
   },
   {
    "duration": 8,
    "start_time": "2022-07-16T05:24:10.505Z"
   },
   {
    "duration": 7,
    "start_time": "2022-07-16T05:24:10.514Z"
   },
   {
    "duration": 8,
    "start_time": "2022-07-16T05:24:10.522Z"
   },
   {
    "duration": 34,
    "start_time": "2022-07-16T05:24:10.532Z"
   },
   {
    "duration": 7,
    "start_time": "2022-07-16T05:24:10.568Z"
   },
   {
    "duration": 104,
    "start_time": "2022-07-16T05:24:10.577Z"
   },
   {
    "duration": 8,
    "start_time": "2022-07-16T05:24:10.684Z"
   },
   {
    "duration": 15,
    "start_time": "2022-07-16T05:24:10.694Z"
   },
   {
    "duration": 8,
    "start_time": "2022-07-16T05:24:10.711Z"
   },
   {
    "duration": 18,
    "start_time": "2022-07-16T05:24:10.720Z"
   },
   {
    "duration": 36,
    "start_time": "2022-07-16T05:24:10.740Z"
   },
   {
    "duration": 8,
    "start_time": "2022-07-16T05:24:10.778Z"
   },
   {
    "duration": 476,
    "start_time": "2022-07-16T05:24:10.788Z"
   },
   {
    "duration": 70,
    "start_time": "2022-07-16T05:24:11.266Z"
   },
   {
    "duration": 295,
    "start_time": "2022-07-16T05:24:11.337Z"
   },
   {
    "duration": 194,
    "start_time": "2022-07-16T05:24:11.636Z"
   },
   {
    "duration": 196,
    "start_time": "2022-07-16T05:24:11.832Z"
   },
   {
    "duration": 14,
    "start_time": "2022-07-16T05:24:12.030Z"
   },
   {
    "duration": 266,
    "start_time": "2022-07-16T05:24:12.045Z"
   },
   {
    "duration": 184,
    "start_time": "2022-07-16T05:24:12.313Z"
   },
   {
    "duration": 247,
    "start_time": "2022-07-16T05:24:12.498Z"
   },
   {
    "duration": 421,
    "start_time": "2022-07-16T05:24:12.746Z"
   },
   {
    "duration": 232,
    "start_time": "2022-07-16T05:24:13.169Z"
   },
   {
    "duration": 11,
    "start_time": "2022-07-16T05:24:13.403Z"
   },
   {
    "duration": 15,
    "start_time": "2022-07-16T05:24:13.415Z"
   },
   {
    "duration": 49,
    "start_time": "2022-07-16T05:24:13.432Z"
   },
   {
    "duration": 296,
    "start_time": "2022-07-16T05:24:13.483Z"
   },
   {
    "duration": 609,
    "start_time": "2022-07-16T05:36:34.376Z"
   },
   {
    "duration": 98,
    "start_time": "2022-07-16T05:36:34.987Z"
   },
   {
    "duration": 44,
    "start_time": "2022-07-16T05:36:35.086Z"
   },
   {
    "duration": 3,
    "start_time": "2022-07-16T05:36:35.132Z"
   },
   {
    "duration": 10,
    "start_time": "2022-07-16T05:36:35.137Z"
   },
   {
    "duration": 39,
    "start_time": "2022-07-16T05:36:35.148Z"
   },
   {
    "duration": 13,
    "start_time": "2022-07-16T05:36:35.188Z"
   },
   {
    "duration": 17,
    "start_time": "2022-07-16T05:36:35.203Z"
   },
   {
    "duration": 10,
    "start_time": "2022-07-16T05:36:35.222Z"
   },
   {
    "duration": 13,
    "start_time": "2022-07-16T05:36:35.260Z"
   },
   {
    "duration": 18,
    "start_time": "2022-07-16T05:36:35.275Z"
   },
   {
    "duration": 6,
    "start_time": "2022-07-16T05:36:35.295Z"
   },
   {
    "duration": 11,
    "start_time": "2022-07-16T05:36:35.303Z"
   },
   {
    "duration": 13,
    "start_time": "2022-07-16T05:36:35.317Z"
   },
   {
    "duration": 7,
    "start_time": "2022-07-16T05:36:35.332Z"
   },
   {
    "duration": 24,
    "start_time": "2022-07-16T05:36:35.341Z"
   },
   {
    "duration": 17,
    "start_time": "2022-07-16T05:36:35.367Z"
   },
   {
    "duration": 94,
    "start_time": "2022-07-16T05:36:35.386Z"
   },
   {
    "duration": 8,
    "start_time": "2022-07-16T05:36:35.481Z"
   },
   {
    "duration": 8,
    "start_time": "2022-07-16T05:36:35.490Z"
   },
   {
    "duration": 8,
    "start_time": "2022-07-16T05:36:35.499Z"
   },
   {
    "duration": 17,
    "start_time": "2022-07-16T05:36:35.509Z"
   },
   {
    "duration": 40,
    "start_time": "2022-07-16T05:36:35.528Z"
   },
   {
    "duration": 7,
    "start_time": "2022-07-16T05:36:35.570Z"
   },
   {
    "duration": 471,
    "start_time": "2022-07-16T05:36:35.579Z"
   },
   {
    "duration": 72,
    "start_time": "2022-07-16T05:36:36.052Z"
   },
   {
    "duration": 351,
    "start_time": "2022-07-16T05:36:36.126Z"
   },
   {
    "duration": 215,
    "start_time": "2022-07-16T05:36:36.479Z"
   },
   {
    "duration": 194,
    "start_time": "2022-07-16T05:36:36.696Z"
   },
   {
    "duration": 14,
    "start_time": "2022-07-16T05:36:36.892Z"
   },
   {
    "duration": 257,
    "start_time": "2022-07-16T05:36:36.907Z"
   },
   {
    "duration": 173,
    "start_time": "2022-07-16T05:36:37.166Z"
   },
   {
    "duration": 246,
    "start_time": "2022-07-16T05:36:37.341Z"
   },
   {
    "duration": 489,
    "start_time": "2022-07-16T05:36:37.589Z"
   },
   {
    "duration": 298,
    "start_time": "2022-07-16T05:36:38.080Z"
   },
   {
    "duration": 11,
    "start_time": "2022-07-16T05:36:38.379Z"
   },
   {
    "duration": 21,
    "start_time": "2022-07-16T05:36:38.391Z"
   },
   {
    "duration": 31,
    "start_time": "2022-07-16T05:36:38.413Z"
   },
   {
    "duration": 301,
    "start_time": "2022-07-16T05:36:38.445Z"
   },
   {
    "duration": 10,
    "start_time": "2022-07-16T05:37:14.006Z"
   },
   {
    "duration": 214,
    "start_time": "2022-07-16T05:37:26.869Z"
   },
   {
    "duration": 12,
    "start_time": "2022-07-16T14:22:04.780Z"
   },
   {
    "duration": 3,
    "start_time": "2022-07-16T14:26:20.583Z"
   },
   {
    "duration": 3,
    "start_time": "2022-07-16T14:26:26.692Z"
   },
   {
    "duration": 449,
    "start_time": "2022-07-16T14:27:12.103Z"
   },
   {
    "duration": 6,
    "start_time": "2022-07-16T14:27:17.694Z"
   },
   {
    "duration": 61,
    "start_time": "2022-07-16T14:27:25.745Z"
   },
   {
    "duration": 5,
    "start_time": "2022-07-16T14:27:54.748Z"
   },
   {
    "duration": 100,
    "start_time": "2022-07-16T14:30:24.170Z"
   },
   {
    "duration": 433,
    "start_time": "2022-07-16T14:36:24.199Z"
   },
   {
    "duration": 268,
    "start_time": "2022-07-16T14:36:24.636Z"
   },
   {
    "duration": 81,
    "start_time": "2022-07-16T14:36:24.905Z"
   },
   {
    "duration": 4,
    "start_time": "2022-07-16T14:36:24.988Z"
   },
   {
    "duration": 13,
    "start_time": "2022-07-16T14:36:24.994Z"
   },
   {
    "duration": 52,
    "start_time": "2022-07-16T14:36:25.009Z"
   },
   {
    "duration": 15,
    "start_time": "2022-07-16T14:36:25.063Z"
   },
   {
    "duration": 40,
    "start_time": "2022-07-16T14:36:25.080Z"
   },
   {
    "duration": 12,
    "start_time": "2022-07-16T14:36:25.122Z"
   },
   {
    "duration": 14,
    "start_time": "2022-07-16T14:36:25.136Z"
   },
   {
    "duration": 18,
    "start_time": "2022-07-16T14:36:25.151Z"
   },
   {
    "duration": 6,
    "start_time": "2022-07-16T14:36:25.170Z"
   },
   {
    "duration": 38,
    "start_time": "2022-07-16T14:36:25.177Z"
   },
   {
    "duration": 13,
    "start_time": "2022-07-16T14:36:25.217Z"
   },
   {
    "duration": 3,
    "start_time": "2022-07-16T14:36:25.232Z"
   },
   {
    "duration": 12,
    "start_time": "2022-07-16T14:36:25.236Z"
   },
   {
    "duration": 9,
    "start_time": "2022-07-16T14:36:25.250Z"
   },
   {
    "duration": 6,
    "start_time": "2022-07-16T14:36:25.260Z"
   },
   {
    "duration": 118,
    "start_time": "2022-07-16T14:36:25.268Z"
   },
   {
    "duration": 7,
    "start_time": "2022-07-16T14:36:25.388Z"
   },
   {
    "duration": 8,
    "start_time": "2022-07-16T14:36:25.411Z"
   },
   {
    "duration": 19,
    "start_time": "2022-07-16T14:36:25.421Z"
   },
   {
    "duration": 19,
    "start_time": "2022-07-16T14:36:25.442Z"
   },
   {
    "duration": 20,
    "start_time": "2022-07-16T14:36:25.462Z"
   },
   {
    "duration": 11,
    "start_time": "2022-07-16T14:36:25.484Z"
   },
   {
    "duration": 526,
    "start_time": "2022-07-16T14:36:25.511Z"
   },
   {
    "duration": 132,
    "start_time": "2022-07-16T14:36:26.039Z"
   },
   {
    "duration": 266,
    "start_time": "2022-07-16T14:36:26.175Z"
   },
   {
    "duration": 218,
    "start_time": "2022-07-16T14:36:26.443Z"
   },
   {
    "duration": 210,
    "start_time": "2022-07-16T14:36:26.662Z"
   },
   {
    "duration": 15,
    "start_time": "2022-07-16T14:36:26.874Z"
   },
   {
    "duration": 299,
    "start_time": "2022-07-16T14:36:26.891Z"
   },
   {
    "duration": 209,
    "start_time": "2022-07-16T14:36:27.192Z"
   },
   {
    "duration": 265,
    "start_time": "2022-07-16T14:36:27.403Z"
   },
   {
    "duration": 468,
    "start_time": "2022-07-16T14:36:27.670Z"
   },
   {
    "duration": 307,
    "start_time": "2022-07-16T14:36:28.140Z"
   },
   {
    "duration": 11,
    "start_time": "2022-07-16T14:36:28.449Z"
   },
   {
    "duration": 16,
    "start_time": "2022-07-16T14:36:28.462Z"
   },
   {
    "duration": 10,
    "start_time": "2022-07-16T14:36:28.480Z"
   },
   {
    "duration": 244,
    "start_time": "2022-07-16T14:36:28.512Z"
   },
   {
    "duration": 7,
    "start_time": "2022-07-16T14:39:12.200Z"
   },
   {
    "duration": 13,
    "start_time": "2022-07-16T14:39:19.766Z"
   },
   {
    "duration": 258,
    "start_time": "2022-07-16T14:39:34.075Z"
   },
   {
    "duration": 30,
    "start_time": "2022-07-16T14:39:51.742Z"
   },
   {
    "duration": 235,
    "start_time": "2022-07-16T14:40:00.349Z"
   },
   {
    "duration": 196,
    "start_time": "2022-07-16T14:40:13.828Z"
   },
   {
    "duration": 192,
    "start_time": "2022-07-16T14:41:43.335Z"
   },
   {
    "duration": 3,
    "start_time": "2022-07-16T15:10:33.361Z"
   },
   {
    "duration": 103,
    "start_time": "2022-07-16T15:10:33.365Z"
   },
   {
    "duration": 42,
    "start_time": "2022-07-16T15:10:33.470Z"
   },
   {
    "duration": 3,
    "start_time": "2022-07-16T15:10:33.514Z"
   },
   {
    "duration": 17,
    "start_time": "2022-07-16T15:10:33.519Z"
   },
   {
    "duration": 42,
    "start_time": "2022-07-16T15:10:33.537Z"
   },
   {
    "duration": 12,
    "start_time": "2022-07-16T15:10:33.581Z"
   },
   {
    "duration": 17,
    "start_time": "2022-07-16T15:10:33.609Z"
   },
   {
    "duration": 10,
    "start_time": "2022-07-16T15:10:33.627Z"
   },
   {
    "duration": 14,
    "start_time": "2022-07-16T15:10:33.638Z"
   },
   {
    "duration": 18,
    "start_time": "2022-07-16T15:10:33.655Z"
   },
   {
    "duration": 39,
    "start_time": "2022-07-16T15:10:33.675Z"
   },
   {
    "duration": 8,
    "start_time": "2022-07-16T15:10:33.716Z"
   },
   {
    "duration": 8,
    "start_time": "2022-07-16T15:10:33.726Z"
   },
   {
    "duration": 5,
    "start_time": "2022-07-16T15:10:33.736Z"
   },
   {
    "duration": 7,
    "start_time": "2022-07-16T15:10:33.742Z"
   },
   {
    "duration": 8,
    "start_time": "2022-07-16T15:10:33.750Z"
   },
   {
    "duration": 5,
    "start_time": "2022-07-16T15:10:33.760Z"
   },
   {
    "duration": 120,
    "start_time": "2022-07-16T15:10:33.766Z"
   },
   {
    "duration": 6,
    "start_time": "2022-07-16T15:10:33.888Z"
   },
   {
    "duration": 14,
    "start_time": "2022-07-16T15:10:33.896Z"
   },
   {
    "duration": 7,
    "start_time": "2022-07-16T15:10:33.911Z"
   },
   {
    "duration": 18,
    "start_time": "2022-07-16T15:10:33.920Z"
   },
   {
    "duration": 18,
    "start_time": "2022-07-16T15:10:33.940Z"
   },
   {
    "duration": 9,
    "start_time": "2022-07-16T15:10:33.959Z"
   },
   {
    "duration": 525,
    "start_time": "2022-07-16T15:10:33.969Z"
   },
   {
    "duration": 76,
    "start_time": "2022-07-16T15:10:34.496Z"
   },
   {
    "duration": 240,
    "start_time": "2022-07-16T15:10:34.574Z"
   },
   {
    "duration": 250,
    "start_time": "2022-07-16T15:10:34.817Z"
   },
   {
    "duration": 206,
    "start_time": "2022-07-16T15:10:35.068Z"
   },
   {
    "duration": 201,
    "start_time": "2022-07-16T15:10:35.275Z"
   },
   {
    "duration": 14,
    "start_time": "2022-07-16T15:10:35.477Z"
   },
   {
    "duration": 266,
    "start_time": "2022-07-16T15:10:35.492Z"
   },
   {
    "duration": 8,
    "start_time": "2022-07-16T15:10:35.760Z"
   },
   {
    "duration": 0,
    "start_time": "2022-07-16T15:10:35.769Z"
   },
   {
    "duration": 0,
    "start_time": "2022-07-16T15:10:35.771Z"
   },
   {
    "duration": 0,
    "start_time": "2022-07-16T15:10:35.772Z"
   },
   {
    "duration": 0,
    "start_time": "2022-07-16T15:10:35.773Z"
   },
   {
    "duration": 0,
    "start_time": "2022-07-16T15:10:35.774Z"
   },
   {
    "duration": 0,
    "start_time": "2022-07-16T15:10:35.775Z"
   },
   {
    "duration": 0,
    "start_time": "2022-07-16T15:10:35.777Z"
   },
   {
    "duration": 0,
    "start_time": "2022-07-16T15:10:35.778Z"
   },
   {
    "duration": 10,
    "start_time": "2022-07-16T15:10:38.339Z"
   },
   {
    "duration": 231,
    "start_time": "2022-07-16T15:10:48.382Z"
   },
   {
    "duration": 208,
    "start_time": "2022-07-16T15:10:52.480Z"
   },
   {
    "duration": 302,
    "start_time": "2022-07-16T15:11:01.339Z"
   },
   {
    "duration": 236,
    "start_time": "2022-07-16T15:11:16.157Z"
   },
   {
    "duration": 72,
    "start_time": "2022-07-16T15:11:18.047Z"
   },
   {
    "duration": 235,
    "start_time": "2022-07-16T15:11:28.703Z"
   },
   {
    "duration": 243,
    "start_time": "2022-07-16T15:12:03.463Z"
   },
   {
    "duration": 174,
    "start_time": "2022-07-16T15:12:03.708Z"
   },
   {
    "duration": 343,
    "start_time": "2022-07-16T15:12:03.883Z"
   },
   {
    "duration": 430,
    "start_time": "2022-07-16T15:12:04.228Z"
   },
   {
    "duration": 237,
    "start_time": "2022-07-16T15:12:04.660Z"
   },
   {
    "duration": 18,
    "start_time": "2022-07-16T15:12:04.898Z"
   },
   {
    "duration": 22,
    "start_time": "2022-07-16T15:12:04.918Z"
   },
   {
    "duration": 9,
    "start_time": "2022-07-16T15:12:04.941Z"
   },
   {
    "duration": 230,
    "start_time": "2022-07-16T15:12:04.952Z"
   },
   {
    "duration": 102,
    "start_time": "2022-07-16T15:20:43.177Z"
   },
   {
    "duration": 83,
    "start_time": "2022-07-16T15:20:44.239Z"
   },
   {
    "duration": 85,
    "start_time": "2022-07-16T15:20:44.951Z"
   },
   {
    "duration": 848,
    "start_time": "2022-07-17T02:51:31.139Z"
   },
   {
    "duration": 250,
    "start_time": "2022-07-17T02:51:31.990Z"
   },
   {
    "duration": 89,
    "start_time": "2022-07-17T02:51:32.241Z"
   },
   {
    "duration": 4,
    "start_time": "2022-07-17T02:51:32.333Z"
   },
   {
    "duration": 22,
    "start_time": "2022-07-17T02:51:32.339Z"
   },
   {
    "duration": 44,
    "start_time": "2022-07-17T02:51:32.362Z"
   },
   {
    "duration": 23,
    "start_time": "2022-07-17T02:51:32.407Z"
   },
   {
    "duration": 28,
    "start_time": "2022-07-17T02:51:32.432Z"
   },
   {
    "duration": 9,
    "start_time": "2022-07-17T02:51:32.462Z"
   },
   {
    "duration": 16,
    "start_time": "2022-07-17T02:51:32.473Z"
   },
   {
    "duration": 38,
    "start_time": "2022-07-17T02:51:32.490Z"
   },
   {
    "duration": 7,
    "start_time": "2022-07-17T02:51:32.530Z"
   },
   {
    "duration": 21,
    "start_time": "2022-07-17T02:51:32.539Z"
   },
   {
    "duration": 9,
    "start_time": "2022-07-17T02:51:32.562Z"
   },
   {
    "duration": 7,
    "start_time": "2022-07-17T02:51:32.572Z"
   },
   {
    "duration": 13,
    "start_time": "2022-07-17T02:51:32.580Z"
   },
   {
    "duration": 37,
    "start_time": "2022-07-17T02:51:32.594Z"
   },
   {
    "duration": 10,
    "start_time": "2022-07-17T02:51:32.633Z"
   },
   {
    "duration": 111,
    "start_time": "2022-07-17T02:51:32.645Z"
   },
   {
    "duration": 7,
    "start_time": "2022-07-17T02:51:32.757Z"
   },
   {
    "duration": 24,
    "start_time": "2022-07-17T02:51:32.766Z"
   },
   {
    "duration": 9,
    "start_time": "2022-07-17T02:51:32.791Z"
   },
   {
    "duration": 40,
    "start_time": "2022-07-17T02:51:32.801Z"
   },
   {
    "duration": 19,
    "start_time": "2022-07-17T02:51:32.843Z"
   },
   {
    "duration": 15,
    "start_time": "2022-07-17T02:51:32.864Z"
   },
   {
    "duration": 496,
    "start_time": "2022-07-17T02:51:32.880Z"
   },
   {
    "duration": 81,
    "start_time": "2022-07-17T02:51:33.378Z"
   },
   {
    "duration": 301,
    "start_time": "2022-07-17T02:51:33.462Z"
   },
   {
    "duration": 202,
    "start_time": "2022-07-17T02:51:33.765Z"
   },
   {
    "duration": 203,
    "start_time": "2022-07-17T02:51:33.969Z"
   },
   {
    "duration": 202,
    "start_time": "2022-07-17T02:51:34.174Z"
   },
   {
    "duration": 13,
    "start_time": "2022-07-17T02:51:34.378Z"
   },
   {
    "duration": 275,
    "start_time": "2022-07-17T02:51:34.393Z"
   },
   {
    "duration": 251,
    "start_time": "2022-07-17T02:51:34.669Z"
   },
   {
    "duration": 176,
    "start_time": "2022-07-17T02:51:34.924Z"
   },
   {
    "duration": 249,
    "start_time": "2022-07-17T02:51:35.102Z"
   },
   {
    "duration": 486,
    "start_time": "2022-07-17T02:51:35.353Z"
   },
   {
    "duration": 238,
    "start_time": "2022-07-17T02:51:35.840Z"
   },
   {
    "duration": 11,
    "start_time": "2022-07-17T02:51:36.080Z"
   },
   {
    "duration": 38,
    "start_time": "2022-07-17T02:51:36.092Z"
   },
   {
    "duration": 10,
    "start_time": "2022-07-17T02:51:36.132Z"
   },
   {
    "duration": 231,
    "start_time": "2022-07-17T02:51:36.143Z"
   },
   {
    "duration": 583,
    "start_time": "2022-07-17T04:57:27.558Z"
   },
   {
    "duration": 99,
    "start_time": "2022-07-17T04:57:28.143Z"
   },
   {
    "duration": 40,
    "start_time": "2022-07-17T04:57:28.243Z"
   },
   {
    "duration": 10,
    "start_time": "2022-07-17T04:57:28.285Z"
   },
   {
    "duration": 786,
    "start_time": "2022-07-17T04:57:28.297Z"
   },
   {
    "duration": 0,
    "start_time": "2022-07-17T04:57:29.086Z"
   },
   {
    "duration": 0,
    "start_time": "2022-07-17T04:57:29.088Z"
   },
   {
    "duration": 0,
    "start_time": "2022-07-17T04:57:29.089Z"
   },
   {
    "duration": 0,
    "start_time": "2022-07-17T04:57:29.090Z"
   },
   {
    "duration": 0,
    "start_time": "2022-07-17T04:57:29.090Z"
   },
   {
    "duration": 0,
    "start_time": "2022-07-17T04:57:29.091Z"
   },
   {
    "duration": 0,
    "start_time": "2022-07-17T04:57:29.092Z"
   },
   {
    "duration": 0,
    "start_time": "2022-07-17T04:57:29.093Z"
   },
   {
    "duration": 0,
    "start_time": "2022-07-17T04:57:29.095Z"
   },
   {
    "duration": 0,
    "start_time": "2022-07-17T04:57:29.096Z"
   },
   {
    "duration": 0,
    "start_time": "2022-07-17T04:57:29.097Z"
   },
   {
    "duration": 0,
    "start_time": "2022-07-17T04:57:29.098Z"
   },
   {
    "duration": 0,
    "start_time": "2022-07-17T04:57:29.098Z"
   },
   {
    "duration": 0,
    "start_time": "2022-07-17T04:57:29.099Z"
   },
   {
    "duration": 0,
    "start_time": "2022-07-17T04:57:29.100Z"
   },
   {
    "duration": 0,
    "start_time": "2022-07-17T04:57:29.102Z"
   },
   {
    "duration": 0,
    "start_time": "2022-07-17T04:57:29.103Z"
   },
   {
    "duration": 0,
    "start_time": "2022-07-17T04:57:29.104Z"
   },
   {
    "duration": 0,
    "start_time": "2022-07-17T04:57:29.105Z"
   },
   {
    "duration": 0,
    "start_time": "2022-07-17T04:57:29.105Z"
   },
   {
    "duration": 1,
    "start_time": "2022-07-17T04:57:29.106Z"
   },
   {
    "duration": 0,
    "start_time": "2022-07-17T04:57:29.107Z"
   },
   {
    "duration": 0,
    "start_time": "2022-07-17T04:57:29.108Z"
   },
   {
    "duration": 0,
    "start_time": "2022-07-17T04:57:29.109Z"
   },
   {
    "duration": 0,
    "start_time": "2022-07-17T04:57:29.110Z"
   },
   {
    "duration": 0,
    "start_time": "2022-07-17T04:57:29.111Z"
   },
   {
    "duration": 0,
    "start_time": "2022-07-17T04:57:29.112Z"
   },
   {
    "duration": 0,
    "start_time": "2022-07-17T04:57:29.113Z"
   },
   {
    "duration": 0,
    "start_time": "2022-07-17T04:57:29.114Z"
   },
   {
    "duration": 0,
    "start_time": "2022-07-17T04:57:29.115Z"
   },
   {
    "duration": 0,
    "start_time": "2022-07-17T04:57:29.115Z"
   },
   {
    "duration": 0,
    "start_time": "2022-07-17T04:57:29.116Z"
   },
   {
    "duration": 1,
    "start_time": "2022-07-17T04:57:29.117Z"
   },
   {
    "duration": 0,
    "start_time": "2022-07-17T04:57:29.119Z"
   },
   {
    "duration": 0,
    "start_time": "2022-07-17T04:57:29.119Z"
   },
   {
    "duration": 0,
    "start_time": "2022-07-17T04:57:29.120Z"
   },
   {
    "duration": 0,
    "start_time": "2022-07-17T04:57:29.122Z"
   },
   {
    "duration": 0,
    "start_time": "2022-07-17T04:57:29.123Z"
   },
   {
    "duration": 648,
    "start_time": "2022-07-17T04:58:03.904Z"
   },
   {
    "duration": 98,
    "start_time": "2022-07-17T04:58:04.554Z"
   },
   {
    "duration": 44,
    "start_time": "2022-07-17T04:58:04.653Z"
   },
   {
    "duration": 12,
    "start_time": "2022-07-17T04:58:04.698Z"
   },
   {
    "duration": 790,
    "start_time": "2022-07-17T04:58:04.712Z"
   },
   {
    "duration": 0,
    "start_time": "2022-07-17T04:58:05.505Z"
   },
   {
    "duration": 0,
    "start_time": "2022-07-17T04:58:05.506Z"
   },
   {
    "duration": 0,
    "start_time": "2022-07-17T04:58:05.507Z"
   },
   {
    "duration": 0,
    "start_time": "2022-07-17T04:58:05.509Z"
   },
   {
    "duration": 0,
    "start_time": "2022-07-17T04:58:05.509Z"
   },
   {
    "duration": 0,
    "start_time": "2022-07-17T04:58:05.510Z"
   },
   {
    "duration": 0,
    "start_time": "2022-07-17T04:58:05.511Z"
   },
   {
    "duration": 0,
    "start_time": "2022-07-17T04:58:05.512Z"
   },
   {
    "duration": 0,
    "start_time": "2022-07-17T04:58:05.513Z"
   },
   {
    "duration": 0,
    "start_time": "2022-07-17T04:58:05.514Z"
   },
   {
    "duration": 0,
    "start_time": "2022-07-17T04:58:05.515Z"
   },
   {
    "duration": 0,
    "start_time": "2022-07-17T04:58:05.516Z"
   },
   {
    "duration": 0,
    "start_time": "2022-07-17T04:58:05.517Z"
   },
   {
    "duration": 0,
    "start_time": "2022-07-17T04:58:05.518Z"
   },
   {
    "duration": 0,
    "start_time": "2022-07-17T04:58:05.519Z"
   },
   {
    "duration": 0,
    "start_time": "2022-07-17T04:58:05.520Z"
   },
   {
    "duration": 0,
    "start_time": "2022-07-17T04:58:05.521Z"
   },
   {
    "duration": 0,
    "start_time": "2022-07-17T04:58:05.521Z"
   },
   {
    "duration": 0,
    "start_time": "2022-07-17T04:58:05.522Z"
   },
   {
    "duration": 0,
    "start_time": "2022-07-17T04:58:05.523Z"
   },
   {
    "duration": 0,
    "start_time": "2022-07-17T04:58:05.524Z"
   },
   {
    "duration": 0,
    "start_time": "2022-07-17T04:58:05.525Z"
   },
   {
    "duration": 0,
    "start_time": "2022-07-17T04:58:05.526Z"
   },
   {
    "duration": 0,
    "start_time": "2022-07-17T04:58:05.527Z"
   },
   {
    "duration": 0,
    "start_time": "2022-07-17T04:58:05.528Z"
   },
   {
    "duration": 0,
    "start_time": "2022-07-17T04:58:05.529Z"
   },
   {
    "duration": 0,
    "start_time": "2022-07-17T04:58:05.530Z"
   },
   {
    "duration": 0,
    "start_time": "2022-07-17T04:58:05.531Z"
   },
   {
    "duration": 0,
    "start_time": "2022-07-17T04:58:05.532Z"
   },
   {
    "duration": 0,
    "start_time": "2022-07-17T04:58:05.533Z"
   },
   {
    "duration": 0,
    "start_time": "2022-07-17T04:58:05.534Z"
   },
   {
    "duration": 0,
    "start_time": "2022-07-17T04:58:05.535Z"
   },
   {
    "duration": 0,
    "start_time": "2022-07-17T04:58:05.536Z"
   },
   {
    "duration": 0,
    "start_time": "2022-07-17T04:58:05.537Z"
   },
   {
    "duration": 0,
    "start_time": "2022-07-17T04:58:05.538Z"
   },
   {
    "duration": 0,
    "start_time": "2022-07-17T04:58:05.539Z"
   },
   {
    "duration": 0,
    "start_time": "2022-07-17T04:58:05.540Z"
   },
   {
    "duration": 0,
    "start_time": "2022-07-17T04:58:05.541Z"
   },
   {
    "duration": 646,
    "start_time": "2022-07-17T04:58:59.487Z"
   },
   {
    "duration": 96,
    "start_time": "2022-07-17T04:59:00.135Z"
   },
   {
    "duration": 43,
    "start_time": "2022-07-17T04:59:00.233Z"
   },
   {
    "duration": 10,
    "start_time": "2022-07-17T04:59:00.278Z"
   },
   {
    "duration": 820,
    "start_time": "2022-07-17T04:59:00.290Z"
   },
   {
    "duration": 0,
    "start_time": "2022-07-17T04:59:01.113Z"
   },
   {
    "duration": 0,
    "start_time": "2022-07-17T04:59:01.114Z"
   },
   {
    "duration": 0,
    "start_time": "2022-07-17T04:59:01.115Z"
   },
   {
    "duration": 0,
    "start_time": "2022-07-17T04:59:01.116Z"
   },
   {
    "duration": 0,
    "start_time": "2022-07-17T04:59:01.117Z"
   },
   {
    "duration": 0,
    "start_time": "2022-07-17T04:59:01.118Z"
   },
   {
    "duration": 0,
    "start_time": "2022-07-17T04:59:01.119Z"
   },
   {
    "duration": 0,
    "start_time": "2022-07-17T04:59:01.120Z"
   },
   {
    "duration": 0,
    "start_time": "2022-07-17T04:59:01.121Z"
   },
   {
    "duration": 0,
    "start_time": "2022-07-17T04:59:01.122Z"
   },
   {
    "duration": 0,
    "start_time": "2022-07-17T04:59:01.123Z"
   },
   {
    "duration": 0,
    "start_time": "2022-07-17T04:59:01.124Z"
   },
   {
    "duration": 0,
    "start_time": "2022-07-17T04:59:01.125Z"
   },
   {
    "duration": 0,
    "start_time": "2022-07-17T04:59:01.126Z"
   },
   {
    "duration": 0,
    "start_time": "2022-07-17T04:59:01.127Z"
   },
   {
    "duration": 0,
    "start_time": "2022-07-17T04:59:01.128Z"
   },
   {
    "duration": 0,
    "start_time": "2022-07-17T04:59:01.129Z"
   },
   {
    "duration": 0,
    "start_time": "2022-07-17T04:59:01.130Z"
   },
   {
    "duration": 0,
    "start_time": "2022-07-17T04:59:01.131Z"
   },
   {
    "duration": 0,
    "start_time": "2022-07-17T04:59:01.132Z"
   },
   {
    "duration": 0,
    "start_time": "2022-07-17T04:59:01.133Z"
   },
   {
    "duration": 0,
    "start_time": "2022-07-17T04:59:01.134Z"
   },
   {
    "duration": 0,
    "start_time": "2022-07-17T04:59:01.135Z"
   },
   {
    "duration": 0,
    "start_time": "2022-07-17T04:59:01.136Z"
   },
   {
    "duration": 0,
    "start_time": "2022-07-17T04:59:01.138Z"
   },
   {
    "duration": 0,
    "start_time": "2022-07-17T04:59:01.139Z"
   },
   {
    "duration": 0,
    "start_time": "2022-07-17T04:59:01.140Z"
   },
   {
    "duration": 0,
    "start_time": "2022-07-17T04:59:01.141Z"
   },
   {
    "duration": 0,
    "start_time": "2022-07-17T04:59:01.141Z"
   },
   {
    "duration": 0,
    "start_time": "2022-07-17T04:59:01.142Z"
   },
   {
    "duration": 0,
    "start_time": "2022-07-17T04:59:01.143Z"
   },
   {
    "duration": 0,
    "start_time": "2022-07-17T04:59:01.144Z"
   },
   {
    "duration": 0,
    "start_time": "2022-07-17T04:59:01.145Z"
   },
   {
    "duration": 0,
    "start_time": "2022-07-17T04:59:01.146Z"
   },
   {
    "duration": 0,
    "start_time": "2022-07-17T04:59:01.147Z"
   },
   {
    "duration": 0,
    "start_time": "2022-07-17T04:59:01.148Z"
   },
   {
    "duration": 0,
    "start_time": "2022-07-17T04:59:01.149Z"
   },
   {
    "duration": 0,
    "start_time": "2022-07-17T04:59:01.150Z"
   },
   {
    "duration": 588,
    "start_time": "2022-07-17T04:59:33.527Z"
   },
   {
    "duration": 94,
    "start_time": "2022-07-17T04:59:34.117Z"
   },
   {
    "duration": 40,
    "start_time": "2022-07-17T04:59:34.212Z"
   },
   {
    "duration": 3,
    "start_time": "2022-07-17T04:59:34.254Z"
   },
   {
    "duration": 8,
    "start_time": "2022-07-17T04:59:34.259Z"
   },
   {
    "duration": 14,
    "start_time": "2022-07-17T04:59:34.269Z"
   },
   {
    "duration": 41,
    "start_time": "2022-07-17T04:59:34.284Z"
   },
   {
    "duration": 12,
    "start_time": "2022-07-17T04:59:34.326Z"
   },
   {
    "duration": 15,
    "start_time": "2022-07-17T04:59:34.340Z"
   },
   {
    "duration": 8,
    "start_time": "2022-07-17T04:59:34.357Z"
   },
   {
    "duration": 11,
    "start_time": "2022-07-17T04:59:34.366Z"
   },
   {
    "duration": 47,
    "start_time": "2022-07-17T04:59:34.378Z"
   },
   {
    "duration": 6,
    "start_time": "2022-07-17T04:59:34.426Z"
   },
   {
    "duration": 4,
    "start_time": "2022-07-17T04:59:34.435Z"
   },
   {
    "duration": 8,
    "start_time": "2022-07-17T04:59:34.441Z"
   },
   {
    "duration": 9,
    "start_time": "2022-07-17T04:59:34.450Z"
   },
   {
    "duration": 13,
    "start_time": "2022-07-17T04:59:34.461Z"
   },
   {
    "duration": 9,
    "start_time": "2022-07-17T04:59:34.475Z"
   },
   {
    "duration": 6,
    "start_time": "2022-07-17T04:59:34.485Z"
   },
   {
    "duration": 88,
    "start_time": "2022-07-17T04:59:34.509Z"
   },
   {
    "duration": 18,
    "start_time": "2022-07-17T04:59:34.598Z"
   },
   {
    "duration": 7,
    "start_time": "2022-07-17T04:59:34.617Z"
   },
   {
    "duration": 10,
    "start_time": "2022-07-17T04:59:34.625Z"
   },
   {
    "duration": 21,
    "start_time": "2022-07-17T04:59:34.636Z"
   },
   {
    "duration": 18,
    "start_time": "2022-07-17T04:59:34.659Z"
   },
   {
    "duration": 7,
    "start_time": "2022-07-17T04:59:34.678Z"
   },
   {
    "duration": 470,
    "start_time": "2022-07-17T04:59:34.687Z"
   },
   {
    "duration": 73,
    "start_time": "2022-07-17T04:59:35.159Z"
   },
   {
    "duration": 274,
    "start_time": "2022-07-17T04:59:35.233Z"
   },
   {
    "duration": 186,
    "start_time": "2022-07-17T04:59:35.510Z"
   },
   {
    "duration": 187,
    "start_time": "2022-07-17T04:59:35.698Z"
   },
   {
    "duration": 202,
    "start_time": "2022-07-17T04:59:35.887Z"
   },
   {
    "duration": 25,
    "start_time": "2022-07-17T04:59:36.090Z"
   },
   {
    "duration": 259,
    "start_time": "2022-07-17T04:59:36.117Z"
   },
   {
    "duration": 231,
    "start_time": "2022-07-17T04:59:36.377Z"
   },
   {
    "duration": 169,
    "start_time": "2022-07-17T04:59:36.610Z"
   },
   {
    "duration": 226,
    "start_time": "2022-07-17T04:59:36.780Z"
   },
   {
    "duration": 509,
    "start_time": "2022-07-17T04:59:37.010Z"
   },
   {
    "duration": 233,
    "start_time": "2022-07-17T04:59:37.520Z"
   },
   {
    "duration": 11,
    "start_time": "2022-07-17T04:59:37.755Z"
   },
   {
    "duration": 55,
    "start_time": "2022-07-17T04:59:37.769Z"
   },
   {
    "duration": 30,
    "start_time": "2022-07-17T04:59:37.826Z"
   },
   {
    "duration": 208,
    "start_time": "2022-07-17T04:59:37.858Z"
   },
   {
    "duration": 44,
    "start_time": "2022-07-17T05:15:45.148Z"
   },
   {
    "duration": 13,
    "start_time": "2022-07-17T05:15:51.697Z"
   },
   {
    "duration": 646,
    "start_time": "2022-07-17T05:16:11.379Z"
   },
   {
    "duration": 98,
    "start_time": "2022-07-17T05:16:12.027Z"
   },
   {
    "duration": 40,
    "start_time": "2022-07-17T05:16:12.127Z"
   },
   {
    "duration": 5,
    "start_time": "2022-07-17T05:16:12.170Z"
   },
   {
    "duration": 7,
    "start_time": "2022-07-17T05:16:12.177Z"
   },
   {
    "duration": 24,
    "start_time": "2022-07-17T05:16:12.186Z"
   },
   {
    "duration": 38,
    "start_time": "2022-07-17T05:16:12.211Z"
   },
   {
    "duration": 12,
    "start_time": "2022-07-17T05:16:12.250Z"
   },
   {
    "duration": 20,
    "start_time": "2022-07-17T05:16:12.264Z"
   },
   {
    "duration": 28,
    "start_time": "2022-07-17T05:16:12.286Z"
   },
   {
    "duration": 12,
    "start_time": "2022-07-17T05:16:12.315Z"
   },
   {
    "duration": 18,
    "start_time": "2022-07-17T05:16:12.328Z"
   },
   {
    "duration": 6,
    "start_time": "2022-07-17T05:16:12.347Z"
   },
   {
    "duration": 6,
    "start_time": "2022-07-17T05:16:12.354Z"
   },
   {
    "duration": 6,
    "start_time": "2022-07-17T05:16:12.362Z"
   },
   {
    "duration": 4,
    "start_time": "2022-07-17T05:16:12.370Z"
   },
   {
    "duration": 8,
    "start_time": "2022-07-17T05:16:12.410Z"
   },
   {
    "duration": 6,
    "start_time": "2022-07-17T05:16:12.419Z"
   },
   {
    "duration": 20,
    "start_time": "2022-07-17T05:16:12.426Z"
   },
   {
    "duration": 13,
    "start_time": "2022-07-17T05:16:12.448Z"
   },
   {
    "duration": 7,
    "start_time": "2022-07-17T05:16:12.463Z"
   },
   {
    "duration": 10,
    "start_time": "2022-07-17T05:16:12.471Z"
   },
   {
    "duration": 6,
    "start_time": "2022-07-17T05:16:12.510Z"
   },
   {
    "duration": 21,
    "start_time": "2022-07-17T05:16:12.518Z"
   },
   {
    "duration": 20,
    "start_time": "2022-07-17T05:16:12.541Z"
   },
   {
    "duration": 14,
    "start_time": "2022-07-17T05:16:12.562Z"
   },
   {
    "duration": 510,
    "start_time": "2022-07-17T05:16:12.577Z"
   },
   {
    "duration": 75,
    "start_time": "2022-07-17T05:16:13.091Z"
   },
   {
    "duration": 253,
    "start_time": "2022-07-17T05:16:13.168Z"
   },
   {
    "duration": 228,
    "start_time": "2022-07-17T05:16:13.423Z"
   },
   {
    "duration": 202,
    "start_time": "2022-07-17T05:16:13.652Z"
   },
   {
    "duration": 221,
    "start_time": "2022-07-17T05:16:13.856Z"
   },
   {
    "duration": 14,
    "start_time": "2022-07-17T05:16:14.079Z"
   },
   {
    "duration": 273,
    "start_time": "2022-07-17T05:16:14.095Z"
   },
   {
    "duration": 241,
    "start_time": "2022-07-17T05:16:14.369Z"
   },
   {
    "duration": 180,
    "start_time": "2022-07-17T05:16:14.611Z"
   },
   {
    "duration": 251,
    "start_time": "2022-07-17T05:16:14.793Z"
   },
   {
    "duration": 439,
    "start_time": "2022-07-17T05:16:15.045Z"
   },
   {
    "duration": 286,
    "start_time": "2022-07-17T05:16:15.485Z"
   },
   {
    "duration": 13,
    "start_time": "2022-07-17T05:16:15.772Z"
   },
   {
    "duration": 37,
    "start_time": "2022-07-17T05:16:15.787Z"
   },
   {
    "duration": 12,
    "start_time": "2022-07-17T05:16:15.826Z"
   },
   {
    "duration": 236,
    "start_time": "2022-07-17T05:16:15.840Z"
   },
   {
    "duration": 76,
    "start_time": "2022-07-17T05:20:15.697Z"
   },
   {
    "duration": 11,
    "start_time": "2022-07-17T05:20:38.351Z"
   },
   {
    "duration": 7,
    "start_time": "2022-07-17T05:21:36.900Z"
   },
   {
    "duration": 7,
    "start_time": "2022-07-17T05:22:40.872Z"
   },
   {
    "duration": 6,
    "start_time": "2022-07-17T05:22:48.973Z"
   },
   {
    "duration": 12,
    "start_time": "2022-07-17T05:28:59.454Z"
   },
   {
    "duration": 7,
    "start_time": "2022-07-17T05:32:03.271Z"
   },
   {
    "duration": 5,
    "start_time": "2022-07-17T05:33:09.679Z"
   },
   {
    "duration": 5,
    "start_time": "2022-07-17T05:33:29.544Z"
   },
   {
    "duration": 570,
    "start_time": "2022-07-17T05:33:35.332Z"
   },
   {
    "duration": 94,
    "start_time": "2022-07-17T05:33:35.904Z"
   },
   {
    "duration": 41,
    "start_time": "2022-07-17T05:33:35.999Z"
   },
   {
    "duration": 6,
    "start_time": "2022-07-17T05:33:36.041Z"
   },
   {
    "duration": 13,
    "start_time": "2022-07-17T05:33:36.048Z"
   },
   {
    "duration": 13,
    "start_time": "2022-07-17T05:33:36.062Z"
   },
   {
    "duration": 38,
    "start_time": "2022-07-17T05:33:36.076Z"
   },
   {
    "duration": 13,
    "start_time": "2022-07-17T05:33:36.116Z"
   },
   {
    "duration": 16,
    "start_time": "2022-07-17T05:33:36.130Z"
   },
   {
    "duration": 9,
    "start_time": "2022-07-17T05:33:36.147Z"
   },
   {
    "duration": 11,
    "start_time": "2022-07-17T05:33:36.158Z"
   },
   {
    "duration": 40,
    "start_time": "2022-07-17T05:33:36.171Z"
   },
   {
    "duration": 6,
    "start_time": "2022-07-17T05:33:36.212Z"
   },
   {
    "duration": 6,
    "start_time": "2022-07-17T05:33:36.220Z"
   },
   {
    "duration": 9,
    "start_time": "2022-07-17T05:33:36.227Z"
   },
   {
    "duration": 5,
    "start_time": "2022-07-17T05:33:36.237Z"
   },
   {
    "duration": 9,
    "start_time": "2022-07-17T05:33:36.243Z"
   },
   {
    "duration": 7,
    "start_time": "2022-07-17T05:33:36.254Z"
   },
   {
    "duration": 14,
    "start_time": "2022-07-17T05:33:36.263Z"
   },
   {
    "duration": 97,
    "start_time": "2022-07-17T05:33:36.278Z"
   },
   {
    "duration": 0,
    "start_time": "2022-07-17T05:33:36.377Z"
   },
   {
    "duration": 0,
    "start_time": "2022-07-17T05:33:36.378Z"
   },
   {
    "duration": 0,
    "start_time": "2022-07-17T05:33:36.379Z"
   },
   {
    "duration": 0,
    "start_time": "2022-07-17T05:33:36.380Z"
   },
   {
    "duration": 0,
    "start_time": "2022-07-17T05:33:36.381Z"
   },
   {
    "duration": 0,
    "start_time": "2022-07-17T05:33:36.382Z"
   },
   {
    "duration": 0,
    "start_time": "2022-07-17T05:33:36.383Z"
   },
   {
    "duration": 0,
    "start_time": "2022-07-17T05:33:36.385Z"
   },
   {
    "duration": 0,
    "start_time": "2022-07-17T05:33:36.386Z"
   },
   {
    "duration": 0,
    "start_time": "2022-07-17T05:33:36.387Z"
   },
   {
    "duration": 0,
    "start_time": "2022-07-17T05:33:36.409Z"
   },
   {
    "duration": 0,
    "start_time": "2022-07-17T05:33:36.410Z"
   },
   {
    "duration": 0,
    "start_time": "2022-07-17T05:33:36.411Z"
   },
   {
    "duration": 0,
    "start_time": "2022-07-17T05:33:36.412Z"
   },
   {
    "duration": 0,
    "start_time": "2022-07-17T05:33:36.413Z"
   },
   {
    "duration": 0,
    "start_time": "2022-07-17T05:33:36.414Z"
   },
   {
    "duration": 0,
    "start_time": "2022-07-17T05:33:36.415Z"
   },
   {
    "duration": 0,
    "start_time": "2022-07-17T05:33:36.416Z"
   },
   {
    "duration": 0,
    "start_time": "2022-07-17T05:33:36.416Z"
   },
   {
    "duration": 0,
    "start_time": "2022-07-17T05:33:36.417Z"
   },
   {
    "duration": 0,
    "start_time": "2022-07-17T05:33:36.418Z"
   },
   {
    "duration": 0,
    "start_time": "2022-07-17T05:33:36.419Z"
   },
   {
    "duration": 0,
    "start_time": "2022-07-17T05:33:36.420Z"
   },
   {
    "duration": 0,
    "start_time": "2022-07-17T05:33:36.422Z"
   },
   {
    "duration": 607,
    "start_time": "2022-07-17T07:00:39.156Z"
   },
   {
    "duration": 101,
    "start_time": "2022-07-17T07:00:39.764Z"
   },
   {
    "duration": 42,
    "start_time": "2022-07-17T07:00:39.867Z"
   },
   {
    "duration": 4,
    "start_time": "2022-07-17T07:00:39.911Z"
   },
   {
    "duration": 19,
    "start_time": "2022-07-17T07:00:39.917Z"
   },
   {
    "duration": 12,
    "start_time": "2022-07-17T07:00:39.937Z"
   },
   {
    "duration": 40,
    "start_time": "2022-07-17T07:00:39.951Z"
   },
   {
    "duration": 19,
    "start_time": "2022-07-17T07:00:39.992Z"
   },
   {
    "duration": 24,
    "start_time": "2022-07-17T07:00:40.012Z"
   },
   {
    "duration": 10,
    "start_time": "2022-07-17T07:00:40.038Z"
   },
   {
    "duration": 16,
    "start_time": "2022-07-17T07:00:40.050Z"
   },
   {
    "duration": 46,
    "start_time": "2022-07-17T07:00:40.067Z"
   },
   {
    "duration": 7,
    "start_time": "2022-07-17T07:00:40.115Z"
   },
   {
    "duration": 4,
    "start_time": "2022-07-17T07:00:40.125Z"
   },
   {
    "duration": 12,
    "start_time": "2022-07-17T07:00:40.131Z"
   },
   {
    "duration": 4,
    "start_time": "2022-07-17T07:00:40.144Z"
   },
   {
    "duration": 11,
    "start_time": "2022-07-17T07:00:40.149Z"
   },
   {
    "duration": 5,
    "start_time": "2022-07-17T07:00:40.162Z"
   },
   {
    "duration": 11,
    "start_time": "2022-07-17T07:00:40.168Z"
   },
   {
    "duration": 31,
    "start_time": "2022-07-17T07:00:40.181Z"
   },
   {
    "duration": 9,
    "start_time": "2022-07-17T07:00:40.214Z"
   },
   {
    "duration": 6,
    "start_time": "2022-07-17T07:00:40.224Z"
   },
   {
    "duration": 91,
    "start_time": "2022-07-17T07:00:40.232Z"
   },
   {
    "duration": 0,
    "start_time": "2022-07-17T07:00:40.325Z"
   },
   {
    "duration": 0,
    "start_time": "2022-07-17T07:00:40.326Z"
   },
   {
    "duration": 0,
    "start_time": "2022-07-17T07:00:40.327Z"
   },
   {
    "duration": 0,
    "start_time": "2022-07-17T07:00:40.329Z"
   },
   {
    "duration": 0,
    "start_time": "2022-07-17T07:00:40.330Z"
   },
   {
    "duration": 0,
    "start_time": "2022-07-17T07:00:40.331Z"
   },
   {
    "duration": 0,
    "start_time": "2022-07-17T07:00:40.333Z"
   },
   {
    "duration": 0,
    "start_time": "2022-07-17T07:00:40.334Z"
   },
   {
    "duration": 0,
    "start_time": "2022-07-17T07:00:40.335Z"
   },
   {
    "duration": 0,
    "start_time": "2022-07-17T07:00:40.336Z"
   },
   {
    "duration": 0,
    "start_time": "2022-07-17T07:00:40.337Z"
   },
   {
    "duration": 0,
    "start_time": "2022-07-17T07:00:40.338Z"
   },
   {
    "duration": 0,
    "start_time": "2022-07-17T07:00:40.339Z"
   },
   {
    "duration": 0,
    "start_time": "2022-07-17T07:00:40.340Z"
   },
   {
    "duration": 0,
    "start_time": "2022-07-17T07:00:40.342Z"
   },
   {
    "duration": 0,
    "start_time": "2022-07-17T07:00:40.343Z"
   },
   {
    "duration": 0,
    "start_time": "2022-07-17T07:00:40.344Z"
   },
   {
    "duration": 0,
    "start_time": "2022-07-17T07:00:40.345Z"
   },
   {
    "duration": 0,
    "start_time": "2022-07-17T07:00:40.346Z"
   },
   {
    "duration": 0,
    "start_time": "2022-07-17T07:00:40.347Z"
   },
   {
    "duration": 8,
    "start_time": "2022-07-17T07:01:49.692Z"
   },
   {
    "duration": 9,
    "start_time": "2022-07-17T07:03:42.374Z"
   },
   {
    "duration": 9,
    "start_time": "2022-07-17T07:04:02.903Z"
   },
   {
    "duration": 9,
    "start_time": "2022-07-17T07:12:27.192Z"
   },
   {
    "duration": 20,
    "start_time": "2022-07-17T07:14:08.018Z"
   },
   {
    "duration": 46,
    "start_time": "2022-07-17T07:17:09.384Z"
   },
   {
    "duration": 9,
    "start_time": "2022-07-17T07:17:21.025Z"
   },
   {
    "duration": 8,
    "start_time": "2022-07-17T07:17:25.003Z"
   },
   {
    "duration": 21,
    "start_time": "2022-07-17T07:17:43.267Z"
   },
   {
    "duration": 20,
    "start_time": "2022-07-17T07:25:25.683Z"
   },
   {
    "duration": 32,
    "start_time": "2022-07-17T07:27:08.958Z"
   },
   {
    "duration": 10,
    "start_time": "2022-07-17T07:28:55.597Z"
   },
   {
    "duration": 7,
    "start_time": "2022-07-17T07:29:12.353Z"
   },
   {
    "duration": 39,
    "start_time": "2022-07-17T07:29:15.553Z"
   },
   {
    "duration": 10,
    "start_time": "2022-07-17T07:30:15.697Z"
   },
   {
    "duration": 41,
    "start_time": "2022-07-17T07:30:46.449Z"
   },
   {
    "duration": 36,
    "start_time": "2022-07-17T07:31:44.789Z"
   },
   {
    "duration": 11,
    "start_time": "2022-07-17T07:32:10.156Z"
   },
   {
    "duration": 1505,
    "start_time": "2022-07-17T07:33:48.621Z"
   },
   {
    "duration": 1357,
    "start_time": "2022-07-17T07:34:47.171Z"
   },
   {
    "duration": 22,
    "start_time": "2022-07-17T07:35:36.104Z"
   },
   {
    "duration": 41,
    "start_time": "2022-07-17T07:36:03.782Z"
   },
   {
    "duration": 42,
    "start_time": "2022-07-17T07:36:10.956Z"
   },
   {
    "duration": 295,
    "start_time": "2022-07-17T07:37:23.852Z"
   },
   {
    "duration": 1236,
    "start_time": "2022-07-17T11:11:29.708Z"
   },
   {
    "duration": 1881,
    "start_time": "2022-07-17T11:11:46.670Z"
   },
   {
    "duration": 299,
    "start_time": "2022-07-17T11:13:56.156Z"
   },
   {
    "duration": 611,
    "start_time": "2022-07-17T11:14:06.518Z"
   },
   {
    "duration": 110,
    "start_time": "2022-07-17T11:14:07.131Z"
   },
   {
    "duration": 44,
    "start_time": "2022-07-17T11:14:07.244Z"
   },
   {
    "duration": 5,
    "start_time": "2022-07-17T11:14:07.290Z"
   },
   {
    "duration": 37,
    "start_time": "2022-07-17T11:14:07.297Z"
   },
   {
    "duration": 37,
    "start_time": "2022-07-17T11:14:07.336Z"
   },
   {
    "duration": 63,
    "start_time": "2022-07-17T11:14:07.375Z"
   },
   {
    "duration": 14,
    "start_time": "2022-07-17T11:14:07.440Z"
   },
   {
    "duration": 46,
    "start_time": "2022-07-17T11:14:07.455Z"
   },
   {
    "duration": 19,
    "start_time": "2022-07-17T11:14:07.504Z"
   },
   {
    "duration": 25,
    "start_time": "2022-07-17T11:14:07.525Z"
   },
   {
    "duration": 41,
    "start_time": "2022-07-17T11:14:07.552Z"
   },
   {
    "duration": 19,
    "start_time": "2022-07-17T11:14:07.595Z"
   },
   {
    "duration": 15,
    "start_time": "2022-07-17T11:14:07.615Z"
   },
   {
    "duration": 26,
    "start_time": "2022-07-17T11:14:07.632Z"
   },
   {
    "duration": 25,
    "start_time": "2022-07-17T11:14:07.660Z"
   },
   {
    "duration": 31,
    "start_time": "2022-07-17T11:14:07.687Z"
   },
   {
    "duration": 27,
    "start_time": "2022-07-17T11:14:07.719Z"
   },
   {
    "duration": 27,
    "start_time": "2022-07-17T11:14:07.747Z"
   },
   {
    "duration": 28,
    "start_time": "2022-07-17T11:14:07.776Z"
   },
   {
    "duration": 18,
    "start_time": "2022-07-17T11:14:07.806Z"
   },
   {
    "duration": 23,
    "start_time": "2022-07-17T11:14:07.825Z"
   },
   {
    "duration": 29,
    "start_time": "2022-07-17T11:14:07.850Z"
   },
   {
    "duration": 35,
    "start_time": "2022-07-17T11:14:07.881Z"
   },
   {
    "duration": 5,
    "start_time": "2022-07-17T11:14:07.918Z"
   },
   {
    "duration": 496,
    "start_time": "2022-07-17T11:14:07.925Z"
   },
   {
    "duration": 69,
    "start_time": "2022-07-17T11:14:08.423Z"
   },
   {
    "duration": 252,
    "start_time": "2022-07-17T11:14:08.495Z"
   },
   {
    "duration": 237,
    "start_time": "2022-07-17T11:14:08.749Z"
   },
   {
    "duration": 202,
    "start_time": "2022-07-17T11:14:08.987Z"
   },
   {
    "duration": 201,
    "start_time": "2022-07-17T11:14:09.191Z"
   },
   {
    "duration": 21,
    "start_time": "2022-07-17T11:14:09.393Z"
   },
   {
    "duration": 264,
    "start_time": "2022-07-17T11:14:09.416Z"
   },
   {
    "duration": 242,
    "start_time": "2022-07-17T11:14:09.681Z"
   },
   {
    "duration": 182,
    "start_time": "2022-07-17T11:14:09.925Z"
   },
   {
    "duration": 247,
    "start_time": "2022-07-17T11:14:10.109Z"
   },
   {
    "duration": 421,
    "start_time": "2022-07-17T11:14:10.358Z"
   },
   {
    "duration": 305,
    "start_time": "2022-07-17T11:14:10.781Z"
   },
   {
    "duration": 21,
    "start_time": "2022-07-17T11:14:11.088Z"
   },
   {
    "duration": 16,
    "start_time": "2022-07-17T11:14:11.112Z"
   },
   {
    "duration": 31,
    "start_time": "2022-07-17T11:14:11.129Z"
   },
   {
    "duration": 238,
    "start_time": "2022-07-17T11:14:11.162Z"
   },
   {
    "duration": 32,
    "start_time": "2022-07-17T11:15:16.125Z"
   },
   {
    "duration": 655,
    "start_time": "2022-07-17T11:16:06.015Z"
   },
   {
    "duration": 111,
    "start_time": "2022-07-17T11:16:06.672Z"
   },
   {
    "duration": 45,
    "start_time": "2022-07-17T11:16:06.785Z"
   },
   {
    "duration": 6,
    "start_time": "2022-07-17T11:16:06.833Z"
   },
   {
    "duration": 8,
    "start_time": "2022-07-17T11:16:06.840Z"
   },
   {
    "duration": 14,
    "start_time": "2022-07-17T11:16:06.849Z"
   },
   {
    "duration": 44,
    "start_time": "2022-07-17T11:16:06.865Z"
   },
   {
    "duration": 20,
    "start_time": "2022-07-17T11:16:06.911Z"
   },
   {
    "duration": 20,
    "start_time": "2022-07-17T11:16:06.933Z"
   },
   {
    "duration": 11,
    "start_time": "2022-07-17T11:16:06.956Z"
   },
   {
    "duration": 46,
    "start_time": "2022-07-17T11:16:06.969Z"
   },
   {
    "duration": 21,
    "start_time": "2022-07-17T11:16:07.017Z"
   },
   {
    "duration": 9,
    "start_time": "2022-07-17T11:16:07.040Z"
   },
   {
    "duration": 5,
    "start_time": "2022-07-17T11:16:07.051Z"
   },
   {
    "duration": 16,
    "start_time": "2022-07-17T11:16:07.058Z"
   },
   {
    "duration": 8,
    "start_time": "2022-07-17T11:16:07.077Z"
   },
   {
    "duration": 18,
    "start_time": "2022-07-17T11:16:07.109Z"
   },
   {
    "duration": 8,
    "start_time": "2022-07-17T11:16:07.129Z"
   },
   {
    "duration": 14,
    "start_time": "2022-07-17T11:16:07.139Z"
   },
   {
    "duration": 16,
    "start_time": "2022-07-17T11:16:07.154Z"
   },
   {
    "duration": 7,
    "start_time": "2022-07-17T11:16:07.172Z"
   },
   {
    "duration": 11,
    "start_time": "2022-07-17T11:16:07.181Z"
   },
   {
    "duration": 62,
    "start_time": "2022-07-17T11:16:07.209Z"
   },
   {
    "duration": 24,
    "start_time": "2022-07-17T11:16:07.273Z"
   },
   {
    "duration": 5,
    "start_time": "2022-07-17T11:16:07.299Z"
   },
   {
    "duration": 506,
    "start_time": "2022-07-17T11:16:07.306Z"
   },
   {
    "duration": 72,
    "start_time": "2022-07-17T11:16:07.813Z"
   },
   {
    "duration": 301,
    "start_time": "2022-07-17T11:16:07.888Z"
   },
   {
    "duration": 199,
    "start_time": "2022-07-17T11:16:08.190Z"
   },
   {
    "duration": 203,
    "start_time": "2022-07-17T11:16:08.390Z"
   },
   {
    "duration": 204,
    "start_time": "2022-07-17T11:16:08.594Z"
   },
   {
    "duration": 13,
    "start_time": "2022-07-17T11:16:08.809Z"
   },
   {
    "duration": 297,
    "start_time": "2022-07-17T11:16:08.824Z"
   },
   {
    "duration": 254,
    "start_time": "2022-07-17T11:16:09.123Z"
   },
   {
    "duration": 192,
    "start_time": "2022-07-17T11:16:09.379Z"
   },
   {
    "duration": 241,
    "start_time": "2022-07-17T11:16:09.572Z"
   },
   {
    "duration": 504,
    "start_time": "2022-07-17T11:16:09.814Z"
   },
   {
    "duration": 242,
    "start_time": "2022-07-17T11:16:10.320Z"
   },
   {
    "duration": 11,
    "start_time": "2022-07-17T11:16:10.563Z"
   },
   {
    "duration": 18,
    "start_time": "2022-07-17T11:16:10.575Z"
   },
   {
    "duration": 19,
    "start_time": "2022-07-17T11:16:10.594Z"
   },
   {
    "duration": 264,
    "start_time": "2022-07-17T11:16:10.615Z"
   },
   {
    "duration": 628,
    "start_time": "2022-07-17T11:21:43.491Z"
   },
   {
    "duration": 95,
    "start_time": "2022-07-17T11:21:44.121Z"
   },
   {
    "duration": 40,
    "start_time": "2022-07-17T11:21:44.217Z"
   },
   {
    "duration": 4,
    "start_time": "2022-07-17T11:21:44.259Z"
   },
   {
    "duration": 24,
    "start_time": "2022-07-17T11:21:44.264Z"
   },
   {
    "duration": 19,
    "start_time": "2022-07-17T11:21:44.290Z"
   },
   {
    "duration": 55,
    "start_time": "2022-07-17T11:21:44.311Z"
   },
   {
    "duration": 12,
    "start_time": "2022-07-17T11:21:44.367Z"
   },
   {
    "duration": 29,
    "start_time": "2022-07-17T11:21:44.381Z"
   },
   {
    "duration": 9,
    "start_time": "2022-07-17T11:21:44.412Z"
   },
   {
    "duration": 27,
    "start_time": "2022-07-17T11:21:44.423Z"
   },
   {
    "duration": 22,
    "start_time": "2022-07-17T11:21:44.452Z"
   },
   {
    "duration": 15,
    "start_time": "2022-07-17T11:21:44.475Z"
   },
   {
    "duration": 23,
    "start_time": "2022-07-17T11:21:44.492Z"
   },
   {
    "duration": 28,
    "start_time": "2022-07-17T11:21:44.516Z"
   },
   {
    "duration": 25,
    "start_time": "2022-07-17T11:21:44.546Z"
   },
   {
    "duration": 21,
    "start_time": "2022-07-17T11:21:44.572Z"
   },
   {
    "duration": 21,
    "start_time": "2022-07-17T11:21:44.594Z"
   },
   {
    "duration": 22,
    "start_time": "2022-07-17T11:21:44.616Z"
   },
   {
    "duration": 32,
    "start_time": "2022-07-17T11:21:44.639Z"
   },
   {
    "duration": 18,
    "start_time": "2022-07-17T11:21:44.672Z"
   },
   {
    "duration": 18,
    "start_time": "2022-07-17T11:21:44.691Z"
   },
   {
    "duration": 33,
    "start_time": "2022-07-17T11:21:44.711Z"
   },
   {
    "duration": 24,
    "start_time": "2022-07-17T11:21:44.746Z"
   },
   {
    "duration": 11,
    "start_time": "2022-07-17T11:21:44.772Z"
   },
   {
    "duration": 22,
    "start_time": "2022-07-17T11:21:44.784Z"
   },
   {
    "duration": 497,
    "start_time": "2022-07-17T11:21:44.808Z"
   },
   {
    "duration": 67,
    "start_time": "2022-07-17T11:21:45.308Z"
   },
   {
    "duration": 250,
    "start_time": "2022-07-17T11:21:45.376Z"
   },
   {
    "duration": 231,
    "start_time": "2022-07-17T11:21:45.627Z"
   },
   {
    "duration": 197,
    "start_time": "2022-07-17T11:21:45.860Z"
   },
   {
    "duration": 216,
    "start_time": "2022-07-17T11:21:46.059Z"
   },
   {
    "duration": 13,
    "start_time": "2022-07-17T11:21:46.277Z"
   },
   {
    "duration": 263,
    "start_time": "2022-07-17T11:21:46.291Z"
   },
   {
    "duration": 253,
    "start_time": "2022-07-17T11:21:46.556Z"
   },
   {
    "duration": 182,
    "start_time": "2022-07-17T11:21:46.811Z"
   },
   {
    "duration": 260,
    "start_time": "2022-07-17T11:21:46.994Z"
   },
   {
    "duration": 421,
    "start_time": "2022-07-17T11:21:47.256Z"
   },
   {
    "duration": 302,
    "start_time": "2022-07-17T11:21:47.680Z"
   },
   {
    "duration": 11,
    "start_time": "2022-07-17T11:21:47.984Z"
   },
   {
    "duration": 23,
    "start_time": "2022-07-17T11:21:47.997Z"
   },
   {
    "duration": 10,
    "start_time": "2022-07-17T11:21:48.022Z"
   },
   {
    "duration": 274,
    "start_time": "2022-07-17T11:21:48.033Z"
   },
   {
    "duration": 64,
    "start_time": "2022-07-17T11:31:31.986Z"
   },
   {
    "duration": 68,
    "start_time": "2022-07-17T11:35:50.312Z"
   },
   {
    "duration": 72,
    "start_time": "2022-07-17T11:36:40.798Z"
   },
   {
    "duration": 11,
    "start_time": "2022-07-17T11:36:47.658Z"
   },
   {
    "duration": 10,
    "start_time": "2022-07-17T11:39:51.813Z"
   },
   {
    "duration": 877,
    "start_time": "2022-07-17T11:40:13.661Z"
   },
   {
    "duration": 14,
    "start_time": "2022-07-17T11:41:18.419Z"
   },
   {
    "duration": 723,
    "start_time": "2022-07-17T11:42:55.794Z"
   },
   {
    "duration": 11,
    "start_time": "2022-07-17T11:46:52.858Z"
   },
   {
    "duration": 10,
    "start_time": "2022-07-17T11:47:02.623Z"
   },
   {
    "duration": 498,
    "start_time": "2022-07-17T11:48:20.709Z"
   },
   {
    "duration": 470,
    "start_time": "2022-07-17T11:48:45.360Z"
   },
   {
    "duration": 484,
    "start_time": "2022-07-17T11:49:03.770Z"
   },
   {
    "duration": 4800,
    "start_time": "2022-07-17T11:49:39.895Z"
   },
   {
    "duration": 4546,
    "start_time": "2022-07-17T11:50:47.117Z"
   },
   {
    "duration": 150,
    "start_time": "2022-07-17T11:50:55.664Z"
   },
   {
    "duration": 488,
    "start_time": "2022-07-17T11:51:05.181Z"
   },
   {
    "duration": 805,
    "start_time": "2022-07-17T11:51:26.123Z"
   },
   {
    "duration": 386,
    "start_time": "2022-07-17T11:52:29.397Z"
   },
   {
    "duration": 6,
    "start_time": "2022-07-17T11:52:34.485Z"
   },
   {
    "duration": 472,
    "start_time": "2022-07-17T11:52:54.177Z"
   },
   {
    "duration": 15,
    "start_time": "2022-07-17T11:53:09.108Z"
   },
   {
    "duration": 10,
    "start_time": "2022-07-17T11:56:12.659Z"
   },
   {
    "duration": 9,
    "start_time": "2022-07-17T11:56:31.396Z"
   },
   {
    "duration": 13,
    "start_time": "2022-07-17T11:56:36.984Z"
   },
   {
    "duration": 10,
    "start_time": "2022-07-17T11:56:42.257Z"
   },
   {
    "duration": 9,
    "start_time": "2022-07-17T11:57:05.298Z"
   },
   {
    "duration": 469,
    "start_time": "2022-07-17T11:57:35.963Z"
   },
   {
    "duration": 487,
    "start_time": "2022-07-17T11:58:08.856Z"
   },
   {
    "duration": 4717,
    "start_time": "2022-07-17T11:58:31.105Z"
   },
   {
    "duration": 4785,
    "start_time": "2022-07-17T11:59:07.828Z"
   },
   {
    "duration": 477,
    "start_time": "2022-07-17T11:59:14.336Z"
   },
   {
    "duration": 697,
    "start_time": "2022-07-17T11:59:41.227Z"
   },
   {
    "duration": 1622,
    "start_time": "2022-07-17T11:59:58.728Z"
   },
   {
    "duration": 1691,
    "start_time": "2022-07-17T12:00:18.873Z"
   },
   {
    "duration": 1636,
    "start_time": "2022-07-17T12:00:40.399Z"
   },
   {
    "duration": 518,
    "start_time": "2022-07-17T12:01:01.954Z"
   },
   {
    "duration": 489,
    "start_time": "2022-07-17T12:01:42.027Z"
   },
   {
    "duration": 576,
    "start_time": "2022-07-17T12:01:56.665Z"
   },
   {
    "duration": 631,
    "start_time": "2022-07-17T12:02:03.329Z"
   },
   {
    "duration": 474,
    "start_time": "2022-07-17T12:02:08.029Z"
   },
   {
    "duration": 559,
    "start_time": "2022-07-17T12:02:52.631Z"
   },
   {
    "duration": 11,
    "start_time": "2022-07-17T12:07:49.340Z"
   },
   {
    "duration": 12,
    "start_time": "2022-07-17T12:09:56.787Z"
   },
   {
    "duration": 14,
    "start_time": "2022-07-17T12:11:38.284Z"
   },
   {
    "duration": 10,
    "start_time": "2022-07-17T12:12:53.719Z"
   },
   {
    "duration": 11,
    "start_time": "2022-07-17T12:13:48.114Z"
   },
   {
    "duration": 77,
    "start_time": "2022-07-17T12:16:21.312Z"
   },
   {
    "duration": 84,
    "start_time": "2022-07-17T12:17:27.281Z"
   },
   {
    "duration": 73,
    "start_time": "2022-07-17T12:18:13.061Z"
   },
   {
    "duration": 365,
    "start_time": "2022-07-17T12:19:06.861Z"
   },
   {
    "duration": 16,
    "start_time": "2022-07-17T12:20:36.908Z"
   },
   {
    "duration": 15,
    "start_time": "2022-07-17T12:23:53.615Z"
   },
   {
    "duration": 10,
    "start_time": "2022-07-17T12:24:13.239Z"
   },
   {
    "duration": 9,
    "start_time": "2022-07-17T12:24:24.900Z"
   },
   {
    "duration": 10,
    "start_time": "2022-07-17T12:25:26.672Z"
   },
   {
    "duration": 14,
    "start_time": "2022-07-17T12:25:40.216Z"
   },
   {
    "duration": 8,
    "start_time": "2022-07-17T12:25:57.293Z"
   },
   {
    "duration": 10,
    "start_time": "2022-07-17T12:26:12.572Z"
   },
   {
    "duration": 11,
    "start_time": "2022-07-17T12:26:36.361Z"
   },
   {
    "duration": 8,
    "start_time": "2022-07-17T12:26:47.029Z"
   },
   {
    "duration": 9,
    "start_time": "2022-07-17T12:27:05.957Z"
   },
   {
    "duration": 9,
    "start_time": "2022-07-17T12:27:25.145Z"
   },
   {
    "duration": 9,
    "start_time": "2022-07-17T12:27:51.615Z"
   },
   {
    "duration": 9,
    "start_time": "2022-07-17T12:28:10.729Z"
   },
   {
    "duration": 8,
    "start_time": "2022-07-17T12:28:17.618Z"
   },
   {
    "duration": 8,
    "start_time": "2022-07-17T12:30:20.126Z"
   },
   {
    "duration": 245,
    "start_time": "2022-07-17T12:30:27.650Z"
   },
   {
    "duration": 11,
    "start_time": "2022-07-17T12:30:56.352Z"
   },
   {
    "duration": 238,
    "start_time": "2022-07-17T12:31:13.948Z"
   },
   {
    "duration": 215,
    "start_time": "2022-07-17T12:31:33.983Z"
   },
   {
    "duration": 272,
    "start_time": "2022-07-17T12:32:09.448Z"
   },
   {
    "duration": 220,
    "start_time": "2022-07-17T12:32:23.054Z"
   },
   {
    "duration": 9,
    "start_time": "2022-07-17T12:35:22.494Z"
   },
   {
    "duration": 9,
    "start_time": "2022-07-17T12:37:27.054Z"
   },
   {
    "duration": 207,
    "start_time": "2022-07-17T12:37:48.509Z"
   },
   {
    "duration": 188,
    "start_time": "2022-07-17T12:41:25.976Z"
   },
   {
    "duration": 9,
    "start_time": "2022-07-17T12:41:34.839Z"
   },
   {
    "duration": 10,
    "start_time": "2022-07-17T12:41:51.367Z"
   },
   {
    "duration": 10,
    "start_time": "2022-07-17T12:41:59.691Z"
   },
   {
    "duration": 9,
    "start_time": "2022-07-17T12:42:18.556Z"
   },
   {
    "duration": 38,
    "start_time": "2022-07-17T12:42:43.271Z"
   },
   {
    "duration": 658,
    "start_time": "2022-07-17T12:43:05.002Z"
   },
   {
    "duration": 97,
    "start_time": "2022-07-17T12:43:05.661Z"
   },
   {
    "duration": 40,
    "start_time": "2022-07-17T12:43:05.760Z"
   },
   {
    "duration": 5,
    "start_time": "2022-07-17T12:43:05.802Z"
   },
   {
    "duration": 8,
    "start_time": "2022-07-17T12:43:05.808Z"
   },
   {
    "duration": 70,
    "start_time": "2022-07-17T12:43:05.818Z"
   },
   {
    "duration": 0,
    "start_time": "2022-07-17T12:43:05.891Z"
   },
   {
    "duration": 0,
    "start_time": "2022-07-17T12:43:05.892Z"
   },
   {
    "duration": 0,
    "start_time": "2022-07-17T12:43:05.894Z"
   },
   {
    "duration": 0,
    "start_time": "2022-07-17T12:43:05.895Z"
   },
   {
    "duration": 0,
    "start_time": "2022-07-17T12:43:05.897Z"
   },
   {
    "duration": 0,
    "start_time": "2022-07-17T12:43:05.898Z"
   },
   {
    "duration": 0,
    "start_time": "2022-07-17T12:43:05.900Z"
   },
   {
    "duration": 0,
    "start_time": "2022-07-17T12:43:05.910Z"
   },
   {
    "duration": 0,
    "start_time": "2022-07-17T12:43:05.911Z"
   },
   {
    "duration": 0,
    "start_time": "2022-07-17T12:43:05.913Z"
   },
   {
    "duration": 0,
    "start_time": "2022-07-17T12:43:05.914Z"
   },
   {
    "duration": 0,
    "start_time": "2022-07-17T12:43:05.916Z"
   },
   {
    "duration": 0,
    "start_time": "2022-07-17T12:43:05.918Z"
   },
   {
    "duration": 0,
    "start_time": "2022-07-17T12:43:05.919Z"
   },
   {
    "duration": 0,
    "start_time": "2022-07-17T12:43:05.921Z"
   },
   {
    "duration": 0,
    "start_time": "2022-07-17T12:43:05.922Z"
   },
   {
    "duration": 0,
    "start_time": "2022-07-17T12:43:05.924Z"
   },
   {
    "duration": 0,
    "start_time": "2022-07-17T12:43:05.925Z"
   },
   {
    "duration": 0,
    "start_time": "2022-07-17T12:43:05.927Z"
   },
   {
    "duration": 0,
    "start_time": "2022-07-17T12:43:05.928Z"
   },
   {
    "duration": 0,
    "start_time": "2022-07-17T12:43:05.930Z"
   },
   {
    "duration": 0,
    "start_time": "2022-07-17T12:43:05.931Z"
   },
   {
    "duration": 0,
    "start_time": "2022-07-17T12:43:05.933Z"
   },
   {
    "duration": 0,
    "start_time": "2022-07-17T12:43:05.934Z"
   },
   {
    "duration": 0,
    "start_time": "2022-07-17T12:43:05.936Z"
   },
   {
    "duration": 0,
    "start_time": "2022-07-17T12:43:05.938Z"
   },
   {
    "duration": 0,
    "start_time": "2022-07-17T12:43:05.940Z"
   },
   {
    "duration": 0,
    "start_time": "2022-07-17T12:43:05.941Z"
   },
   {
    "duration": 0,
    "start_time": "2022-07-17T12:43:05.942Z"
   },
   {
    "duration": 0,
    "start_time": "2022-07-17T12:43:05.944Z"
   },
   {
    "duration": 0,
    "start_time": "2022-07-17T12:43:05.945Z"
   },
   {
    "duration": 0,
    "start_time": "2022-07-17T12:43:05.947Z"
   },
   {
    "duration": 0,
    "start_time": "2022-07-17T12:43:05.949Z"
   },
   {
    "duration": 0,
    "start_time": "2022-07-17T12:43:06.011Z"
   },
   {
    "duration": 0,
    "start_time": "2022-07-17T12:43:06.012Z"
   },
   {
    "duration": 0,
    "start_time": "2022-07-17T12:43:06.014Z"
   },
   {
    "duration": 0,
    "start_time": "2022-07-17T12:43:06.016Z"
   },
   {
    "duration": 567,
    "start_time": "2022-07-17T12:43:26.348Z"
   },
   {
    "duration": 97,
    "start_time": "2022-07-17T12:43:26.916Z"
   },
   {
    "duration": 42,
    "start_time": "2022-07-17T12:43:27.015Z"
   },
   {
    "duration": 4,
    "start_time": "2022-07-17T12:43:27.059Z"
   },
   {
    "duration": 8,
    "start_time": "2022-07-17T12:43:27.065Z"
   },
   {
    "duration": 79,
    "start_time": "2022-07-17T12:43:27.075Z"
   },
   {
    "duration": 0,
    "start_time": "2022-07-17T12:43:27.157Z"
   },
   {
    "duration": 0,
    "start_time": "2022-07-17T12:43:27.159Z"
   },
   {
    "duration": 0,
    "start_time": "2022-07-17T12:43:27.160Z"
   },
   {
    "duration": 0,
    "start_time": "2022-07-17T12:43:27.161Z"
   },
   {
    "duration": 0,
    "start_time": "2022-07-17T12:43:27.161Z"
   },
   {
    "duration": 0,
    "start_time": "2022-07-17T12:43:27.163Z"
   },
   {
    "duration": 0,
    "start_time": "2022-07-17T12:43:27.164Z"
   },
   {
    "duration": 0,
    "start_time": "2022-07-17T12:43:27.165Z"
   },
   {
    "duration": 0,
    "start_time": "2022-07-17T12:43:27.165Z"
   },
   {
    "duration": 0,
    "start_time": "2022-07-17T12:43:27.167Z"
   },
   {
    "duration": 0,
    "start_time": "2022-07-17T12:43:27.168Z"
   },
   {
    "duration": 0,
    "start_time": "2022-07-17T12:43:27.169Z"
   },
   {
    "duration": 0,
    "start_time": "2022-07-17T12:43:27.170Z"
   },
   {
    "duration": 0,
    "start_time": "2022-07-17T12:43:27.171Z"
   },
   {
    "duration": 0,
    "start_time": "2022-07-17T12:43:27.172Z"
   },
   {
    "duration": 0,
    "start_time": "2022-07-17T12:43:27.173Z"
   },
   {
    "duration": 0,
    "start_time": "2022-07-17T12:43:27.174Z"
   },
   {
    "duration": 0,
    "start_time": "2022-07-17T12:43:27.209Z"
   },
   {
    "duration": 0,
    "start_time": "2022-07-17T12:43:27.211Z"
   },
   {
    "duration": 0,
    "start_time": "2022-07-17T12:43:27.213Z"
   },
   {
    "duration": 0,
    "start_time": "2022-07-17T12:43:27.214Z"
   },
   {
    "duration": 0,
    "start_time": "2022-07-17T12:43:27.215Z"
   },
   {
    "duration": 0,
    "start_time": "2022-07-17T12:43:27.216Z"
   },
   {
    "duration": 0,
    "start_time": "2022-07-17T12:43:27.217Z"
   },
   {
    "duration": 0,
    "start_time": "2022-07-17T12:43:27.218Z"
   },
   {
    "duration": 0,
    "start_time": "2022-07-17T12:43:27.219Z"
   },
   {
    "duration": 0,
    "start_time": "2022-07-17T12:43:27.220Z"
   },
   {
    "duration": 0,
    "start_time": "2022-07-17T12:43:27.221Z"
   },
   {
    "duration": 0,
    "start_time": "2022-07-17T12:43:27.222Z"
   },
   {
    "duration": 0,
    "start_time": "2022-07-17T12:43:27.223Z"
   },
   {
    "duration": 0,
    "start_time": "2022-07-17T12:43:27.224Z"
   },
   {
    "duration": 0,
    "start_time": "2022-07-17T12:43:27.225Z"
   },
   {
    "duration": 0,
    "start_time": "2022-07-17T12:43:27.226Z"
   },
   {
    "duration": 0,
    "start_time": "2022-07-17T12:43:27.227Z"
   },
   {
    "duration": 0,
    "start_time": "2022-07-17T12:43:27.228Z"
   },
   {
    "duration": 0,
    "start_time": "2022-07-17T12:43:27.229Z"
   },
   {
    "duration": 0,
    "start_time": "2022-07-17T12:43:27.230Z"
   },
   {
    "duration": 181,
    "start_time": "2022-07-17T12:44:26.796Z"
   },
   {
    "duration": 657,
    "start_time": "2022-07-17T12:45:26.593Z"
   },
   {
    "duration": 100,
    "start_time": "2022-07-17T12:45:27.252Z"
   },
   {
    "duration": 40,
    "start_time": "2022-07-17T12:45:27.353Z"
   },
   {
    "duration": 4,
    "start_time": "2022-07-17T12:45:27.395Z"
   },
   {
    "duration": 6,
    "start_time": "2022-07-17T12:45:27.401Z"
   },
   {
    "duration": 294,
    "start_time": "2022-07-17T12:45:27.408Z"
   },
   {
    "duration": 0,
    "start_time": "2022-07-17T12:45:27.705Z"
   },
   {
    "duration": 0,
    "start_time": "2022-07-17T12:45:27.706Z"
   },
   {
    "duration": 0,
    "start_time": "2022-07-17T12:45:27.707Z"
   },
   {
    "duration": 0,
    "start_time": "2022-07-17T12:45:27.708Z"
   },
   {
    "duration": 0,
    "start_time": "2022-07-17T12:45:27.709Z"
   },
   {
    "duration": 0,
    "start_time": "2022-07-17T12:45:27.710Z"
   },
   {
    "duration": 0,
    "start_time": "2022-07-17T12:45:27.711Z"
   },
   {
    "duration": 0,
    "start_time": "2022-07-17T12:45:27.713Z"
   },
   {
    "duration": 0,
    "start_time": "2022-07-17T12:45:27.713Z"
   },
   {
    "duration": 0,
    "start_time": "2022-07-17T12:45:27.715Z"
   },
   {
    "duration": 0,
    "start_time": "2022-07-17T12:45:27.715Z"
   },
   {
    "duration": 0,
    "start_time": "2022-07-17T12:45:27.716Z"
   },
   {
    "duration": 0,
    "start_time": "2022-07-17T12:45:27.717Z"
   },
   {
    "duration": 0,
    "start_time": "2022-07-17T12:45:27.719Z"
   },
   {
    "duration": 0,
    "start_time": "2022-07-17T12:45:27.719Z"
   },
   {
    "duration": 0,
    "start_time": "2022-07-17T12:45:27.721Z"
   },
   {
    "duration": 0,
    "start_time": "2022-07-17T12:45:27.722Z"
   },
   {
    "duration": 0,
    "start_time": "2022-07-17T12:45:27.723Z"
   },
   {
    "duration": 0,
    "start_time": "2022-07-17T12:45:27.724Z"
   },
   {
    "duration": 0,
    "start_time": "2022-07-17T12:45:27.725Z"
   },
   {
    "duration": 0,
    "start_time": "2022-07-17T12:45:27.725Z"
   },
   {
    "duration": 0,
    "start_time": "2022-07-17T12:45:27.727Z"
   },
   {
    "duration": 0,
    "start_time": "2022-07-17T12:45:27.729Z"
   },
   {
    "duration": 0,
    "start_time": "2022-07-17T12:45:27.730Z"
   },
   {
    "duration": 0,
    "start_time": "2022-07-17T12:45:27.731Z"
   },
   {
    "duration": 0,
    "start_time": "2022-07-17T12:45:27.732Z"
   },
   {
    "duration": 0,
    "start_time": "2022-07-17T12:45:27.733Z"
   },
   {
    "duration": 0,
    "start_time": "2022-07-17T12:45:27.734Z"
   },
   {
    "duration": 0,
    "start_time": "2022-07-17T12:45:27.736Z"
   },
   {
    "duration": 0,
    "start_time": "2022-07-17T12:45:27.737Z"
   },
   {
    "duration": 0,
    "start_time": "2022-07-17T12:45:27.738Z"
   },
   {
    "duration": 0,
    "start_time": "2022-07-17T12:45:27.739Z"
   },
   {
    "duration": 0,
    "start_time": "2022-07-17T12:45:27.740Z"
   },
   {
    "duration": 0,
    "start_time": "2022-07-17T12:45:27.741Z"
   },
   {
    "duration": 0,
    "start_time": "2022-07-17T12:45:27.742Z"
   },
   {
    "duration": 0,
    "start_time": "2022-07-17T12:45:27.743Z"
   },
   {
    "duration": 0,
    "start_time": "2022-07-17T12:45:27.745Z"
   },
   {
    "duration": 17,
    "start_time": "2022-07-17T12:46:04.875Z"
   },
   {
    "duration": 5,
    "start_time": "2022-07-17T12:49:04.987Z"
   },
   {
    "duration": 574,
    "start_time": "2022-07-17T12:49:12.253Z"
   },
   {
    "duration": 114,
    "start_time": "2022-07-17T12:49:12.829Z"
   },
   {
    "duration": 41,
    "start_time": "2022-07-17T12:49:12.945Z"
   },
   {
    "duration": 4,
    "start_time": "2022-07-17T12:49:12.988Z"
   },
   {
    "duration": 5,
    "start_time": "2022-07-17T12:49:12.995Z"
   },
   {
    "duration": 14,
    "start_time": "2022-07-17T12:49:13.002Z"
   },
   {
    "duration": 42,
    "start_time": "2022-07-17T12:49:13.018Z"
   },
   {
    "duration": 16,
    "start_time": "2022-07-17T12:49:13.061Z"
   },
   {
    "duration": 36,
    "start_time": "2022-07-17T12:49:13.079Z"
   },
   {
    "duration": 10,
    "start_time": "2022-07-17T12:49:13.116Z"
   },
   {
    "duration": 18,
    "start_time": "2022-07-17T12:49:13.127Z"
   },
   {
    "duration": 17,
    "start_time": "2022-07-17T12:49:13.147Z"
   },
   {
    "duration": 5,
    "start_time": "2022-07-17T12:49:13.165Z"
   },
   {
    "duration": 5,
    "start_time": "2022-07-17T12:49:13.173Z"
   },
   {
    "duration": 8,
    "start_time": "2022-07-17T12:49:13.179Z"
   },
   {
    "duration": 24,
    "start_time": "2022-07-17T12:49:13.188Z"
   },
   {
    "duration": 21,
    "start_time": "2022-07-17T12:49:13.213Z"
   },
   {
    "duration": 5,
    "start_time": "2022-07-17T12:49:13.236Z"
   },
   {
    "duration": 10,
    "start_time": "2022-07-17T12:49:13.243Z"
   },
   {
    "duration": 15,
    "start_time": "2022-07-17T12:49:13.254Z"
   },
   {
    "duration": 7,
    "start_time": "2022-07-17T12:49:13.271Z"
   },
   {
    "duration": 7,
    "start_time": "2022-07-17T12:49:13.279Z"
   },
   {
    "duration": 29,
    "start_time": "2022-07-17T12:49:13.288Z"
   },
   {
    "duration": 23,
    "start_time": "2022-07-17T12:49:13.319Z"
   },
   {
    "duration": 13,
    "start_time": "2022-07-17T12:49:13.343Z"
   },
   {
    "duration": 5,
    "start_time": "2022-07-17T12:49:13.358Z"
   },
   {
    "duration": 480,
    "start_time": "2022-07-17T12:49:13.365Z"
   },
   {
    "duration": 28,
    "start_time": "2022-07-17T12:49:13.847Z"
   },
   {
    "duration": 253,
    "start_time": "2022-07-17T12:49:13.877Z"
   },
   {
    "duration": 229,
    "start_time": "2022-07-17T12:49:14.132Z"
   },
   {
    "duration": 196,
    "start_time": "2022-07-17T12:49:14.363Z"
   },
   {
    "duration": 195,
    "start_time": "2022-07-17T12:49:14.560Z"
   },
   {
    "duration": 14,
    "start_time": "2022-07-17T12:49:14.756Z"
   },
   {
    "duration": 272,
    "start_time": "2022-07-17T12:49:14.772Z"
   },
   {
    "duration": 230,
    "start_time": "2022-07-17T12:49:15.046Z"
   },
   {
    "duration": 178,
    "start_time": "2022-07-17T12:49:15.277Z"
   },
   {
    "duration": 224,
    "start_time": "2022-07-17T12:49:15.457Z"
   },
   {
    "duration": 159,
    "start_time": "2022-07-17T12:49:15.683Z"
   },
   {
    "duration": 0,
    "start_time": "2022-07-17T12:49:15.844Z"
   },
   {
    "duration": 0,
    "start_time": "2022-07-17T12:49:15.845Z"
   },
   {
    "duration": 0,
    "start_time": "2022-07-17T12:49:15.846Z"
   },
   {
    "duration": 0,
    "start_time": "2022-07-17T12:49:15.847Z"
   },
   {
    "duration": 0,
    "start_time": "2022-07-17T12:49:15.849Z"
   },
   {
    "duration": 26,
    "start_time": "2022-07-17T12:49:48.378Z"
   },
   {
    "duration": 6,
    "start_time": "2022-07-17T12:50:54.437Z"
   },
   {
    "duration": 31,
    "start_time": "2022-07-17T12:51:09.436Z"
   },
   {
    "duration": 50,
    "start_time": "2022-07-17T12:51:33.414Z"
   },
   {
    "duration": 789,
    "start_time": "2022-07-17T12:51:38.187Z"
   },
   {
    "duration": 28,
    "start_time": "2022-07-17T12:51:54.751Z"
   },
   {
    "duration": 641,
    "start_time": "2022-07-17T12:52:03.391Z"
   },
   {
    "duration": 101,
    "start_time": "2022-07-17T12:52:04.034Z"
   },
   {
    "duration": 40,
    "start_time": "2022-07-17T12:52:04.136Z"
   },
   {
    "duration": 4,
    "start_time": "2022-07-17T12:52:04.179Z"
   },
   {
    "duration": 20,
    "start_time": "2022-07-17T12:52:04.184Z"
   },
   {
    "duration": 20,
    "start_time": "2022-07-17T12:52:04.205Z"
   },
   {
    "duration": 47,
    "start_time": "2022-07-17T12:52:04.227Z"
   },
   {
    "duration": 14,
    "start_time": "2022-07-17T12:52:04.276Z"
   },
   {
    "duration": 20,
    "start_time": "2022-07-17T12:52:04.291Z"
   },
   {
    "duration": 10,
    "start_time": "2022-07-17T12:52:04.314Z"
   },
   {
    "duration": 22,
    "start_time": "2022-07-17T12:52:04.325Z"
   },
   {
    "duration": 23,
    "start_time": "2022-07-17T12:52:04.348Z"
   },
   {
    "duration": 6,
    "start_time": "2022-07-17T12:52:04.372Z"
   },
   {
    "duration": 6,
    "start_time": "2022-07-17T12:52:04.380Z"
   },
   {
    "duration": 22,
    "start_time": "2022-07-17T12:52:04.388Z"
   },
   {
    "duration": 6,
    "start_time": "2022-07-17T12:52:04.412Z"
   },
   {
    "duration": 16,
    "start_time": "2022-07-17T12:52:04.420Z"
   },
   {
    "duration": 10,
    "start_time": "2022-07-17T12:52:04.438Z"
   },
   {
    "duration": 19,
    "start_time": "2022-07-17T12:52:04.449Z"
   },
   {
    "duration": 9,
    "start_time": "2022-07-17T12:52:04.469Z"
   },
   {
    "duration": 7,
    "start_time": "2022-07-17T12:52:04.479Z"
   },
   {
    "duration": 12,
    "start_time": "2022-07-17T12:52:04.488Z"
   },
   {
    "duration": 28,
    "start_time": "2022-07-17T12:52:04.501Z"
   },
   {
    "duration": 19,
    "start_time": "2022-07-17T12:52:04.530Z"
   },
   {
    "duration": 6,
    "start_time": "2022-07-17T12:52:04.551Z"
   },
   {
    "duration": 12,
    "start_time": "2022-07-17T12:52:04.558Z"
   },
   {
    "duration": 516,
    "start_time": "2022-07-17T12:52:04.572Z"
   },
   {
    "duration": 32,
    "start_time": "2022-07-17T12:52:05.092Z"
   },
   {
    "duration": 238,
    "start_time": "2022-07-17T12:52:05.125Z"
   },
   {
    "duration": 240,
    "start_time": "2022-07-17T12:52:05.365Z"
   },
   {
    "duration": 200,
    "start_time": "2022-07-17T12:52:05.609Z"
   },
   {
    "duration": 195,
    "start_time": "2022-07-17T12:52:05.811Z"
   },
   {
    "duration": 14,
    "start_time": "2022-07-17T12:52:06.009Z"
   },
   {
    "duration": 268,
    "start_time": "2022-07-17T12:52:06.024Z"
   },
   {
    "duration": 229,
    "start_time": "2022-07-17T12:52:06.294Z"
   },
   {
    "duration": 171,
    "start_time": "2022-07-17T12:52:06.524Z"
   },
   {
    "duration": 230,
    "start_time": "2022-07-17T12:52:06.697Z"
   },
   {
    "duration": 425,
    "start_time": "2022-07-17T12:52:06.930Z"
   },
   {
    "duration": 237,
    "start_time": "2022-07-17T12:52:07.356Z"
   },
   {
    "duration": 16,
    "start_time": "2022-07-17T12:52:07.595Z"
   },
   {
    "duration": 16,
    "start_time": "2022-07-17T12:52:07.613Z"
   },
   {
    "duration": 9,
    "start_time": "2022-07-17T12:52:07.631Z"
   },
   {
    "duration": 272,
    "start_time": "2022-07-17T12:52:07.642Z"
   },
   {
    "duration": 27,
    "start_time": "2022-07-17T12:52:53.560Z"
   },
   {
    "duration": 50,
    "start_time": "2022-07-17T12:53:13.158Z"
   },
   {
    "duration": 28,
    "start_time": "2022-07-17T12:53:24.594Z"
   },
   {
    "duration": 29,
    "start_time": "2022-07-17T12:54:09.302Z"
   },
   {
    "duration": 196,
    "start_time": "2022-07-17T12:59:49.218Z"
   },
   {
    "duration": 186,
    "start_time": "2022-07-17T12:59:56.468Z"
   },
   {
    "duration": 198,
    "start_time": "2022-07-17T13:00:04.221Z"
   },
   {
    "duration": 191,
    "start_time": "2022-07-17T13:00:12.538Z"
   },
   {
    "duration": 186,
    "start_time": "2022-07-17T13:00:17.298Z"
   },
   {
    "duration": 187,
    "start_time": "2022-07-17T13:00:29.457Z"
   },
   {
    "duration": 244,
    "start_time": "2022-07-17T13:00:41.378Z"
   },
   {
    "duration": 197,
    "start_time": "2022-07-17T13:00:45.200Z"
   },
   {
    "duration": 191,
    "start_time": "2022-07-17T13:00:49.589Z"
   },
   {
    "duration": 269,
    "start_time": "2022-07-17T13:00:53.865Z"
   },
   {
    "duration": 190,
    "start_time": "2022-07-17T13:00:59.221Z"
   },
   {
    "duration": 208,
    "start_time": "2022-07-17T13:01:02.904Z"
   },
   {
    "duration": 195,
    "start_time": "2022-07-17T13:01:07.538Z"
   },
   {
    "duration": 213,
    "start_time": "2022-07-17T13:01:12.579Z"
   },
   {
    "duration": 202,
    "start_time": "2022-07-17T13:01:18.022Z"
   },
   {
    "duration": 211,
    "start_time": "2022-07-17T13:01:23.337Z"
   },
   {
    "duration": 202,
    "start_time": "2022-07-17T13:01:26.737Z"
   },
   {
    "duration": 197,
    "start_time": "2022-07-17T13:01:33.588Z"
   },
   {
    "duration": 193,
    "start_time": "2022-07-17T13:01:40.382Z"
   },
   {
    "duration": 189,
    "start_time": "2022-07-17T13:01:46.499Z"
   },
   {
    "duration": 269,
    "start_time": "2022-07-17T13:01:52.341Z"
   },
   {
    "duration": 598,
    "start_time": "2022-07-17T13:03:12.839Z"
   },
   {
    "duration": 96,
    "start_time": "2022-07-17T13:03:13.438Z"
   },
   {
    "duration": 40,
    "start_time": "2022-07-17T13:03:13.536Z"
   },
   {
    "duration": 4,
    "start_time": "2022-07-17T13:03:13.578Z"
   },
   {
    "duration": 4,
    "start_time": "2022-07-17T13:03:13.584Z"
   },
   {
    "duration": 12,
    "start_time": "2022-07-17T13:03:13.590Z"
   },
   {
    "duration": 39,
    "start_time": "2022-07-17T13:03:13.604Z"
   },
   {
    "duration": 13,
    "start_time": "2022-07-17T13:03:13.645Z"
   },
   {
    "duration": 16,
    "start_time": "2022-07-17T13:03:13.660Z"
   },
   {
    "duration": 40,
    "start_time": "2022-07-17T13:03:13.677Z"
   },
   {
    "duration": 16,
    "start_time": "2022-07-17T13:03:13.718Z"
   },
   {
    "duration": 20,
    "start_time": "2022-07-17T13:03:13.736Z"
   },
   {
    "duration": 7,
    "start_time": "2022-07-17T13:03:13.757Z"
   },
   {
    "duration": 4,
    "start_time": "2022-07-17T13:03:13.768Z"
   },
   {
    "duration": 10,
    "start_time": "2022-07-17T13:03:13.774Z"
   },
   {
    "duration": 24,
    "start_time": "2022-07-17T13:03:13.786Z"
   },
   {
    "duration": 13,
    "start_time": "2022-07-17T13:03:13.812Z"
   },
   {
    "duration": 6,
    "start_time": "2022-07-17T13:03:13.826Z"
   },
   {
    "duration": 10,
    "start_time": "2022-07-17T13:03:13.833Z"
   },
   {
    "duration": 9,
    "start_time": "2022-07-17T13:03:13.845Z"
   },
   {
    "duration": 9,
    "start_time": "2022-07-17T13:03:13.855Z"
   },
   {
    "duration": 8,
    "start_time": "2022-07-17T13:03:13.866Z"
   },
   {
    "duration": 34,
    "start_time": "2022-07-17T13:03:13.876Z"
   },
   {
    "duration": 17,
    "start_time": "2022-07-17T13:03:13.912Z"
   },
   {
    "duration": 7,
    "start_time": "2022-07-17T13:03:13.931Z"
   },
   {
    "duration": 6,
    "start_time": "2022-07-17T13:03:13.939Z"
   },
   {
    "duration": 491,
    "start_time": "2022-07-17T13:03:13.946Z"
   },
   {
    "duration": 22,
    "start_time": "2022-07-17T13:03:14.439Z"
   },
   {
    "duration": 246,
    "start_time": "2022-07-17T13:03:14.462Z"
   },
   {
    "duration": 242,
    "start_time": "2022-07-17T13:03:14.709Z"
   },
   {
    "duration": 196,
    "start_time": "2022-07-17T13:03:14.953Z"
   },
   {
    "duration": 191,
    "start_time": "2022-07-17T13:03:15.151Z"
   },
   {
    "duration": 12,
    "start_time": "2022-07-17T13:03:15.344Z"
   },
   {
    "duration": 260,
    "start_time": "2022-07-17T13:03:15.358Z"
   },
   {
    "duration": 248,
    "start_time": "2022-07-17T13:03:15.620Z"
   },
   {
    "duration": 195,
    "start_time": "2022-07-17T13:03:15.869Z"
   },
   {
    "duration": 253,
    "start_time": "2022-07-17T13:03:16.066Z"
   },
   {
    "duration": 432,
    "start_time": "2022-07-17T13:03:16.321Z"
   },
   {
    "duration": 242,
    "start_time": "2022-07-17T13:03:16.755Z"
   },
   {
    "duration": 18,
    "start_time": "2022-07-17T13:03:16.999Z"
   },
   {
    "duration": 39,
    "start_time": "2022-07-17T13:03:17.021Z"
   },
   {
    "duration": 19,
    "start_time": "2022-07-17T13:03:17.062Z"
   },
   {
    "duration": 255,
    "start_time": "2022-07-17T13:03:17.082Z"
   },
   {
    "duration": 29,
    "start_time": "2022-07-17T13:21:38.315Z"
   },
   {
    "duration": 37,
    "start_time": "2022-07-17T13:24:15.358Z"
   },
   {
    "duration": 2513,
    "start_time": "2022-07-18T05:53:41.095Z"
   },
   {
    "duration": 2419,
    "start_time": "2022-07-18T05:53:47.121Z"
   },
   {
    "duration": 249,
    "start_time": "2022-07-18T05:54:00.224Z"
   },
   {
    "duration": 264,
    "start_time": "2022-07-18T05:54:30.201Z"
   },
   {
    "duration": 245,
    "start_time": "2022-07-18T05:54:52.132Z"
   },
   {
    "duration": 280,
    "start_time": "2022-07-18T05:55:10.104Z"
   },
   {
    "duration": 253,
    "start_time": "2022-07-18T05:55:16.660Z"
   },
   {
    "duration": 279,
    "start_time": "2022-07-18T05:55:38.428Z"
   },
   {
    "duration": 244,
    "start_time": "2022-07-18T05:56:35.746Z"
   },
   {
    "duration": 321,
    "start_time": "2022-07-18T05:56:54.345Z"
   },
   {
    "duration": 227,
    "start_time": "2022-07-18T05:57:04.753Z"
   },
   {
    "duration": 235,
    "start_time": "2022-07-18T05:57:25.234Z"
   },
   {
    "duration": 236,
    "start_time": "2022-07-18T05:57:45.094Z"
   },
   {
    "duration": 250,
    "start_time": "2022-07-18T05:58:11.189Z"
   },
   {
    "duration": 234,
    "start_time": "2022-07-18T05:58:21.845Z"
   },
   {
    "duration": 237,
    "start_time": "2022-07-18T05:58:35.038Z"
   },
   {
    "duration": 252,
    "start_time": "2022-07-18T05:58:42.593Z"
   },
   {
    "duration": 249,
    "start_time": "2022-07-18T05:58:48.423Z"
   },
   {
    "duration": 253,
    "start_time": "2022-07-18T05:59:08.667Z"
   },
   {
    "duration": 232,
    "start_time": "2022-07-18T05:59:25.768Z"
   },
   {
    "duration": 313,
    "start_time": "2022-07-18T06:00:18.445Z"
   },
   {
    "duration": 259,
    "start_time": "2022-07-18T06:00:26.385Z"
   },
   {
    "duration": 248,
    "start_time": "2022-07-18T06:01:49.424Z"
   },
   {
    "duration": 316,
    "start_time": "2022-07-18T06:03:31.272Z"
   },
   {
    "duration": 263,
    "start_time": "2022-07-18T06:03:42.565Z"
   },
   {
    "duration": 249,
    "start_time": "2022-07-18T06:04:34.101Z"
   },
   {
    "duration": 212,
    "start_time": "2022-07-18T06:04:45.256Z"
   },
   {
    "duration": 236,
    "start_time": "2022-07-18T06:04:52.547Z"
   },
   {
    "duration": 269,
    "start_time": "2022-07-18T06:05:10.864Z"
   },
   {
    "duration": 263,
    "start_time": "2022-07-18T06:05:30.635Z"
   },
   {
    "duration": 275,
    "start_time": "2022-07-18T06:05:52.785Z"
   },
   {
    "duration": 401,
    "start_time": "2022-07-18T06:06:02.149Z"
   },
   {
    "duration": 255,
    "start_time": "2022-07-18T06:06:40.926Z"
   },
   {
    "duration": 236,
    "start_time": "2022-07-18T06:07:00.341Z"
   },
   {
    "duration": 248,
    "start_time": "2022-07-18T06:07:13.931Z"
   },
   {
    "duration": 30,
    "start_time": "2022-07-18T06:14:05.093Z"
   },
   {
    "duration": 23,
    "start_time": "2022-07-18T06:14:23.331Z"
   },
   {
    "duration": 19,
    "start_time": "2022-07-18T06:14:43.260Z"
   },
   {
    "duration": 18,
    "start_time": "2022-07-18T06:14:53.435Z"
   },
   {
    "duration": 75,
    "start_time": "2022-07-18T06:21:19.712Z"
   },
   {
    "duration": 195,
    "start_time": "2022-07-18T06:22:33.451Z"
   },
   {
    "duration": 196,
    "start_time": "2022-07-18T06:22:38.432Z"
   },
   {
    "duration": 196,
    "start_time": "2022-07-18T06:23:03.348Z"
   },
   {
    "duration": 216,
    "start_time": "2022-07-18T06:23:14.790Z"
   },
   {
    "duration": 103,
    "start_time": "2022-07-18T06:27:12.677Z"
   },
   {
    "duration": 75,
    "start_time": "2022-07-18T06:27:27.831Z"
   },
   {
    "duration": 10,
    "start_time": "2022-07-18T06:27:32.296Z"
   },
   {
    "duration": 199,
    "start_time": "2022-07-18T06:27:38.511Z"
   },
   {
    "duration": 192,
    "start_time": "2022-07-18T06:28:22.764Z"
   },
   {
    "duration": 377,
    "start_time": "2022-07-18T06:31:08.685Z"
   },
   {
    "duration": 247,
    "start_time": "2022-07-18T06:31:25.590Z"
   },
   {
    "duration": 232,
    "start_time": "2022-07-18T11:39:01.117Z"
   },
   {
    "duration": 229,
    "start_time": "2022-07-18T11:39:14.458Z"
   },
   {
    "duration": 118,
    "start_time": "2022-07-18T11:45:21.266Z"
   },
   {
    "duration": 350,
    "start_time": "2022-07-18T11:45:27.369Z"
   },
   {
    "duration": 725,
    "start_time": "2022-07-19T06:05:18.926Z"
   },
   {
    "duration": 112,
    "start_time": "2022-07-19T06:05:19.653Z"
   },
   {
    "duration": 49,
    "start_time": "2022-07-19T06:05:19.767Z"
   },
   {
    "duration": 7,
    "start_time": "2022-07-19T06:05:19.822Z"
   },
   {
    "duration": 21,
    "start_time": "2022-07-19T06:05:19.835Z"
   },
   {
    "duration": 18,
    "start_time": "2022-07-19T06:05:19.857Z"
   },
   {
    "duration": 69,
    "start_time": "2022-07-19T06:05:19.877Z"
   },
   {
    "duration": 21,
    "start_time": "2022-07-19T06:05:19.951Z"
   },
   {
    "duration": 22,
    "start_time": "2022-07-19T06:05:19.974Z"
   },
   {
    "duration": 38,
    "start_time": "2022-07-19T06:05:19.999Z"
   },
   {
    "duration": 36,
    "start_time": "2022-07-19T06:05:20.040Z"
   },
   {
    "duration": 24,
    "start_time": "2022-07-19T06:05:20.078Z"
   },
   {
    "duration": 20,
    "start_time": "2022-07-19T06:05:20.104Z"
   },
   {
    "duration": 50,
    "start_time": "2022-07-19T06:05:20.132Z"
   },
   {
    "duration": 12,
    "start_time": "2022-07-19T06:05:20.184Z"
   },
   {
    "duration": 10,
    "start_time": "2022-07-19T06:05:20.199Z"
   },
   {
    "duration": 56,
    "start_time": "2022-07-19T06:05:20.211Z"
   },
   {
    "duration": 15,
    "start_time": "2022-07-19T06:05:20.270Z"
   },
   {
    "duration": 16,
    "start_time": "2022-07-19T06:05:20.287Z"
   },
   {
    "duration": 13,
    "start_time": "2022-07-19T06:05:20.305Z"
   },
   {
    "duration": 39,
    "start_time": "2022-07-19T06:05:20.320Z"
   },
   {
    "duration": 9,
    "start_time": "2022-07-19T06:05:20.361Z"
   },
   {
    "duration": 20,
    "start_time": "2022-07-19T06:05:20.371Z"
   },
   {
    "duration": 27,
    "start_time": "2022-07-19T06:05:20.393Z"
   },
   {
    "duration": 24,
    "start_time": "2022-07-19T06:05:20.435Z"
   },
   {
    "duration": 11,
    "start_time": "2022-07-19T06:05:20.461Z"
   },
   {
    "duration": 583,
    "start_time": "2022-07-19T06:05:20.474Z"
   },
   {
    "duration": 37,
    "start_time": "2022-07-19T06:05:21.060Z"
   },
   {
    "duration": 279,
    "start_time": "2022-07-19T06:05:21.099Z"
   },
   {
    "duration": 318,
    "start_time": "2022-07-19T06:05:21.379Z"
   },
   {
    "duration": 319,
    "start_time": "2022-07-19T06:05:21.700Z"
   },
   {
    "duration": 238,
    "start_time": "2022-07-19T06:05:22.020Z"
   },
   {
    "duration": 14,
    "start_time": "2022-07-19T06:05:22.260Z"
   },
   {
    "duration": 358,
    "start_time": "2022-07-19T06:05:22.276Z"
   },
   {
    "duration": 267,
    "start_time": "2022-07-19T06:05:22.639Z"
   },
   {
    "duration": 237,
    "start_time": "2022-07-19T06:05:22.909Z"
   },
   {
    "duration": 304,
    "start_time": "2022-07-19T06:05:23.148Z"
   },
   {
    "duration": 542,
    "start_time": "2022-07-19T06:05:23.455Z"
   },
   {
    "duration": 0,
    "start_time": "2022-07-19T06:05:23.999Z"
   },
   {
    "duration": 0,
    "start_time": "2022-07-19T06:05:24.000Z"
   },
   {
    "duration": 0,
    "start_time": "2022-07-19T06:05:24.001Z"
   },
   {
    "duration": 0,
    "start_time": "2022-07-19T06:05:24.003Z"
   },
   {
    "duration": 0,
    "start_time": "2022-07-19T06:05:24.005Z"
   },
   {
    "duration": 0,
    "start_time": "2022-07-19T06:05:24.006Z"
   },
   {
    "duration": 28,
    "start_time": "2022-07-19T06:06:20.326Z"
   },
   {
    "duration": 18,
    "start_time": "2022-07-19T06:06:34.635Z"
   },
   {
    "duration": 418,
    "start_time": "2022-07-19T06:06:40.876Z"
   },
   {
    "duration": 5,
    "start_time": "2022-07-19T06:13:56.828Z"
   },
   {
    "duration": 239,
    "start_time": "2022-07-19T06:14:08.162Z"
   },
   {
    "duration": 171,
    "start_time": "2022-07-19T06:16:31.036Z"
   },
   {
    "duration": 190,
    "start_time": "2022-07-19T06:18:53.814Z"
   },
   {
    "duration": 222,
    "start_time": "2022-07-19T06:19:24.731Z"
   },
   {
    "duration": 1138,
    "start_time": "2022-07-19T06:24:40.989Z"
   },
   {
    "duration": 1268,
    "start_time": "2022-07-19T06:24:49.459Z"
   },
   {
    "duration": 422,
    "start_time": "2022-07-19T06:24:57.134Z"
   },
   {
    "duration": 144,
    "start_time": "2022-07-19T06:25:15.068Z"
   },
   {
    "duration": 63,
    "start_time": "2022-07-19T06:27:28.717Z"
   },
   {
    "duration": 64,
    "start_time": "2022-07-19T06:27:39.036Z"
   },
   {
    "duration": 448,
    "start_time": "2022-07-19T06:28:29.463Z"
   },
   {
    "duration": 415,
    "start_time": "2022-07-19T06:28:53.186Z"
   },
   {
    "duration": 192,
    "start_time": "2022-07-19T06:30:12.466Z"
   },
   {
    "duration": 213,
    "start_time": "2022-07-19T06:34:11.551Z"
   },
   {
    "duration": 26,
    "start_time": "2022-07-19T06:34:30.675Z"
   },
   {
    "duration": 185,
    "start_time": "2022-07-19T06:35:16.432Z"
   },
   {
    "duration": 244,
    "start_time": "2022-07-19T06:36:24.318Z"
   },
   {
    "duration": 220,
    "start_time": "2022-07-19T06:36:31.803Z"
   },
   {
    "duration": 200,
    "start_time": "2022-07-19T06:39:24.409Z"
   },
   {
    "duration": 197,
    "start_time": "2022-07-19T06:39:46.159Z"
   },
   {
    "duration": 203,
    "start_time": "2022-07-19T06:40:50.206Z"
   },
   {
    "duration": 64,
    "start_time": "2022-07-19T06:41:03.179Z"
   },
   {
    "duration": 141,
    "start_time": "2022-07-19T06:41:12.484Z"
   },
   {
    "duration": 216,
    "start_time": "2022-07-19T06:41:19.806Z"
   },
   {
    "duration": 210,
    "start_time": "2022-07-19T06:43:30.653Z"
   },
   {
    "duration": 209,
    "start_time": "2022-07-19T06:43:37.792Z"
   },
   {
    "duration": 207,
    "start_time": "2022-07-19T06:43:52.313Z"
   },
   {
    "duration": 231,
    "start_time": "2022-07-19T06:44:00.925Z"
   },
   {
    "duration": 236,
    "start_time": "2022-07-19T06:44:08.775Z"
   },
   {
    "duration": 190,
    "start_time": "2022-07-19T06:45:57.863Z"
   },
   {
    "duration": 182,
    "start_time": "2022-07-19T06:57:05.819Z"
   },
   {
    "duration": 196,
    "start_time": "2022-07-19T06:57:58.237Z"
   },
   {
    "duration": 59,
    "start_time": "2022-07-19T06:58:08.992Z"
   },
   {
    "duration": 66,
    "start_time": "2022-07-19T06:58:55.780Z"
   },
   {
    "duration": 251,
    "start_time": "2022-07-19T06:59:17.638Z"
   },
   {
    "duration": 200,
    "start_time": "2022-07-19T06:59:36.961Z"
   },
   {
    "duration": 62,
    "start_time": "2022-07-19T07:00:23.740Z"
   },
   {
    "duration": 198,
    "start_time": "2022-07-19T07:00:43.661Z"
   },
   {
    "duration": 201,
    "start_time": "2022-07-19T07:01:40.446Z"
   },
   {
    "duration": 190,
    "start_time": "2022-07-19T07:02:34.995Z"
   },
   {
    "duration": 202,
    "start_time": "2022-07-19T07:02:40.843Z"
   },
   {
    "duration": 186,
    "start_time": "2022-07-19T07:03:29.663Z"
   },
   {
    "duration": 221,
    "start_time": "2022-07-19T07:04:36.691Z"
   },
   {
    "duration": 198,
    "start_time": "2022-07-19T07:05:08.322Z"
   },
   {
    "duration": 196,
    "start_time": "2022-07-19T07:05:35.155Z"
   },
   {
    "duration": 212,
    "start_time": "2022-07-19T07:06:39.693Z"
   },
   {
    "duration": 198,
    "start_time": "2022-07-19T07:07:56.840Z"
   },
   {
    "duration": 208,
    "start_time": "2022-07-19T07:08:13.302Z"
   },
   {
    "duration": 199,
    "start_time": "2022-07-19T07:09:11.140Z"
   },
   {
    "duration": 233,
    "start_time": "2022-07-19T07:09:57.555Z"
   },
   {
    "duration": 208,
    "start_time": "2022-07-19T07:10:17.364Z"
   },
   {
    "duration": 225,
    "start_time": "2022-07-19T07:10:34.041Z"
   },
   {
    "duration": 220,
    "start_time": "2022-07-19T07:10:42.559Z"
   },
   {
    "duration": 1563,
    "start_time": "2022-07-19T07:10:57.880Z"
   },
   {
    "duration": 236,
    "start_time": "2022-07-19T07:11:15.361Z"
   },
   {
    "duration": 1094,
    "start_time": "2022-07-19T07:11:23.370Z"
   },
   {
    "duration": 204,
    "start_time": "2022-07-19T07:12:12.168Z"
   },
   {
    "duration": 1125,
    "start_time": "2022-07-19T07:12:54.406Z"
   },
   {
    "duration": 209,
    "start_time": "2022-07-19T07:13:26.347Z"
   },
   {
    "duration": 560,
    "start_time": "2022-07-19T07:13:44.549Z"
   },
   {
    "duration": 197,
    "start_time": "2022-07-19T07:16:42.644Z"
   },
   {
    "duration": 1419,
    "start_time": "2022-07-19T07:18:04.454Z"
   },
   {
    "duration": 203,
    "start_time": "2022-07-19T07:18:15.543Z"
   },
   {
    "duration": 66,
    "start_time": "2022-07-19T07:18:30.541Z"
   },
   {
    "duration": 65,
    "start_time": "2022-07-19T07:18:39.992Z"
   },
   {
    "duration": 57,
    "start_time": "2022-07-19T07:18:52.297Z"
   },
   {
    "duration": 1301,
    "start_time": "2022-07-19T07:19:00.148Z"
   },
   {
    "duration": 70,
    "start_time": "2022-07-19T07:19:57.891Z"
   },
   {
    "duration": 1609,
    "start_time": "2022-07-19T07:20:02.826Z"
   },
   {
    "duration": 211,
    "start_time": "2022-07-19T07:22:39.073Z"
   },
   {
    "duration": 226,
    "start_time": "2022-07-19T07:23:04.840Z"
   },
   {
    "duration": 217,
    "start_time": "2022-07-19T07:23:10.613Z"
   },
   {
    "duration": 1185,
    "start_time": "2022-07-19T07:23:33.693Z"
   },
   {
    "duration": 218,
    "start_time": "2022-07-19T07:24:20.497Z"
   },
   {
    "duration": 229,
    "start_time": "2022-07-19T07:24:54.111Z"
   },
   {
    "duration": 227,
    "start_time": "2022-07-19T07:25:01.751Z"
   },
   {
    "duration": 210,
    "start_time": "2022-07-19T07:25:15.563Z"
   },
   {
    "duration": 1127,
    "start_time": "2022-07-19T07:25:21.297Z"
   },
   {
    "duration": 829,
    "start_time": "2022-07-19T07:25:36.949Z"
   },
   {
    "duration": 806,
    "start_time": "2022-07-19T07:25:42.941Z"
   },
   {
    "duration": 299,
    "start_time": "2022-07-19T07:25:48.358Z"
   },
   {
    "duration": 296,
    "start_time": "2022-07-19T07:26:36.847Z"
   },
   {
    "duration": 315,
    "start_time": "2022-07-19T07:26:44.615Z"
   },
   {
    "duration": 81,
    "start_time": "2022-07-19T07:28:25.583Z"
   },
   {
    "duration": 321,
    "start_time": "2022-07-19T07:28:30.866Z"
   },
   {
    "duration": 243,
    "start_time": "2022-07-19T07:29:11.053Z"
   },
   {
    "duration": 255,
    "start_time": "2022-07-19T07:29:30.111Z"
   },
   {
    "duration": 668,
    "start_time": "2022-07-19T07:29:47.378Z"
   },
   {
    "duration": 188,
    "start_time": "2022-07-19T07:30:00.548Z"
   },
   {
    "duration": 208,
    "start_time": "2022-07-19T07:30:17.304Z"
   },
   {
    "duration": 214,
    "start_time": "2022-07-19T07:31:18.206Z"
   },
   {
    "duration": 174,
    "start_time": "2022-07-19T07:32:29.868Z"
   },
   {
    "duration": 321,
    "start_time": "2022-07-19T07:32:50.283Z"
   },
   {
    "duration": 774,
    "start_time": "2022-07-19T07:33:25.752Z"
   },
   {
    "duration": 160,
    "start_time": "2022-07-19T07:33:42.742Z"
   },
   {
    "duration": 324,
    "start_time": "2022-07-19T07:33:54.608Z"
   },
   {
    "duration": 246,
    "start_time": "2022-07-19T07:34:23.091Z"
   },
   {
    "duration": 270,
    "start_time": "2022-07-19T07:34:31.238Z"
   },
   {
    "duration": 211,
    "start_time": "2022-07-19T07:34:37.571Z"
   },
   {
    "duration": 296,
    "start_time": "2022-07-19T07:34:47.581Z"
   },
   {
    "duration": 234,
    "start_time": "2022-07-19T07:34:56.732Z"
   },
   {
    "duration": 238,
    "start_time": "2022-07-19T07:35:02.378Z"
   },
   {
    "duration": 267,
    "start_time": "2022-07-19T07:35:52.451Z"
   },
   {
    "duration": 264,
    "start_time": "2022-07-19T07:36:26.057Z"
   },
   {
    "duration": 297,
    "start_time": "2022-07-19T07:36:34.112Z"
   },
   {
    "duration": 250,
    "start_time": "2022-07-19T07:36:45.175Z"
   },
   {
    "duration": 284,
    "start_time": "2022-07-19T07:36:51.174Z"
   },
   {
    "duration": 321,
    "start_time": "2022-07-19T07:37:04.920Z"
   },
   {
    "duration": 330,
    "start_time": "2022-07-19T07:37:11.443Z"
   },
   {
    "duration": 268,
    "start_time": "2022-07-19T07:37:21.151Z"
   },
   {
    "duration": 247,
    "start_time": "2022-07-19T07:37:26.318Z"
   },
   {
    "duration": 681,
    "start_time": "2022-07-19T07:37:31.042Z"
   },
   {
    "duration": 323,
    "start_time": "2022-07-19T07:37:37.355Z"
   },
   {
    "duration": 264,
    "start_time": "2022-07-19T07:38:20.887Z"
   },
   {
    "duration": 220,
    "start_time": "2022-07-19T07:38:28.151Z"
   },
   {
    "duration": 235,
    "start_time": "2022-07-19T07:38:31.850Z"
   },
   {
    "duration": 276,
    "start_time": "2022-07-19T07:39:25.634Z"
   },
   {
    "duration": 225,
    "start_time": "2022-07-19T07:39:39.744Z"
   },
   {
    "duration": 279,
    "start_time": "2022-07-19T07:39:46.962Z"
   },
   {
    "duration": 242,
    "start_time": "2022-07-19T07:39:54.972Z"
   },
   {
    "duration": 268,
    "start_time": "2022-07-19T07:40:03.478Z"
   },
   {
    "duration": 263,
    "start_time": "2022-07-19T07:41:04.630Z"
   },
   {
    "duration": 342,
    "start_time": "2022-07-19T07:41:11.256Z"
   },
   {
    "duration": 345,
    "start_time": "2022-07-19T07:41:21.810Z"
   },
   {
    "duration": 291,
    "start_time": "2022-07-19T07:41:36.155Z"
   },
   {
    "duration": 269,
    "start_time": "2022-07-19T07:41:45.641Z"
   },
   {
    "duration": 289,
    "start_time": "2022-07-19T07:41:53.366Z"
   },
   {
    "duration": 286,
    "start_time": "2022-07-19T07:42:07.187Z"
   },
   {
    "duration": 304,
    "start_time": "2022-07-19T07:42:49.429Z"
   },
   {
    "duration": 286,
    "start_time": "2022-07-19T07:43:01.287Z"
   },
   {
    "duration": 338,
    "start_time": "2022-07-19T07:43:47.768Z"
   },
   {
    "duration": 304,
    "start_time": "2022-07-19T07:52:52.043Z"
   },
   {
    "duration": 56,
    "start_time": "2022-07-19T07:56:26.729Z"
   },
   {
    "duration": 513,
    "start_time": "2022-07-19T07:56:32.481Z"
   },
   {
    "duration": 608,
    "start_time": "2022-07-19T07:56:39.850Z"
   },
   {
    "duration": 588,
    "start_time": "2022-07-19T07:57:08.588Z"
   },
   {
    "duration": 552,
    "start_time": "2022-07-19T07:58:05.200Z"
   },
   {
    "duration": 571,
    "start_time": "2022-07-19T07:58:13.773Z"
   },
   {
    "duration": 243,
    "start_time": "2022-07-19T07:58:21.128Z"
   },
   {
    "duration": 583,
    "start_time": "2022-07-19T07:59:02.182Z"
   },
   {
    "duration": 291,
    "start_time": "2022-07-19T08:00:17.348Z"
   },
   {
    "duration": 1271,
    "start_time": "2022-07-19T08:00:51.900Z"
   },
   {
    "duration": 271,
    "start_time": "2022-07-19T08:01:25.977Z"
   },
   {
    "duration": 236,
    "start_time": "2022-07-19T08:02:17.456Z"
   },
   {
    "duration": 316,
    "start_time": "2022-07-19T08:02:21.528Z"
   },
   {
    "duration": 476,
    "start_time": "2022-07-19T08:03:09.792Z"
   },
   {
    "duration": 271,
    "start_time": "2022-07-19T08:03:40.361Z"
   },
   {
    "duration": 402,
    "start_time": "2022-07-19T08:04:27.860Z"
   },
   {
    "duration": 381,
    "start_time": "2022-07-19T08:04:52.039Z"
   },
   {
    "duration": 263,
    "start_time": "2022-07-19T08:05:23.067Z"
   },
   {
    "duration": 5,
    "start_time": "2022-07-19T08:05:35.356Z"
   },
   {
    "duration": 305,
    "start_time": "2022-07-19T08:05:38.908Z"
   },
   {
    "duration": 245,
    "start_time": "2022-07-19T08:05:45.017Z"
   },
   {
    "duration": 10,
    "start_time": "2022-07-19T08:05:46.619Z"
   },
   {
    "duration": 186,
    "start_time": "2022-07-19T08:05:49.910Z"
   },
   {
    "duration": 304,
    "start_time": "2022-07-19T08:06:04.042Z"
   },
   {
    "duration": 610,
    "start_time": "2022-07-19T08:06:32.170Z"
   },
   {
    "duration": 1704,
    "start_time": "2022-07-19T08:07:02.929Z"
   },
   {
    "duration": 1414,
    "start_time": "2022-07-19T08:07:18.001Z"
   },
   {
    "duration": 272,
    "start_time": "2022-07-19T08:07:29.697Z"
   },
   {
    "duration": 12,
    "start_time": "2022-07-19T08:07:30.329Z"
   },
   {
    "duration": 197,
    "start_time": "2022-07-19T08:07:31.244Z"
   },
   {
    "duration": 255,
    "start_time": "2022-07-19T08:07:50.273Z"
   },
   {
    "duration": 295,
    "start_time": "2022-07-19T08:07:57.736Z"
   },
   {
    "duration": 17,
    "start_time": "2022-07-19T08:07:58.376Z"
   },
   {
    "duration": 230,
    "start_time": "2022-07-19T08:07:59.223Z"
   },
   {
    "duration": 235,
    "start_time": "2022-07-19T08:08:31.722Z"
   },
   {
    "duration": 175,
    "start_time": "2022-07-19T08:08:41.975Z"
   },
   {
    "duration": 241,
    "start_time": "2022-07-19T08:09:06.735Z"
   },
   {
    "duration": 342,
    "start_time": "2022-07-19T08:09:10.644Z"
   },
   {
    "duration": 11,
    "start_time": "2022-07-19T08:09:11.200Z"
   },
   {
    "duration": 175,
    "start_time": "2022-07-19T08:09:15.242Z"
   },
   {
    "duration": 250,
    "start_time": "2022-07-19T08:10:46.205Z"
   },
   {
    "duration": 249,
    "start_time": "2022-07-19T08:10:50.685Z"
   },
   {
    "duration": 9,
    "start_time": "2022-07-19T08:10:51.239Z"
   },
   {
    "duration": 176,
    "start_time": "2022-07-19T08:10:52.060Z"
   },
   {
    "duration": 235,
    "start_time": "2022-07-19T08:11:23.071Z"
   },
   {
    "duration": 344,
    "start_time": "2022-07-19T08:11:26.995Z"
   },
   {
    "duration": 10,
    "start_time": "2022-07-19T08:11:27.582Z"
   },
   {
    "duration": 247,
    "start_time": "2022-07-19T08:11:32.010Z"
   },
   {
    "duration": 211,
    "start_time": "2022-07-19T08:15:00.875Z"
   },
   {
    "duration": 345,
    "start_time": "2022-07-19T08:15:23.730Z"
   },
   {
    "duration": 15,
    "start_time": "2022-07-19T08:15:24.770Z"
   },
   {
    "duration": 184,
    "start_time": "2022-07-19T08:15:25.670Z"
   },
   {
    "duration": 1375,
    "start_time": "2022-07-19T08:17:31.183Z"
   },
   {
    "duration": 252,
    "start_time": "2022-07-19T08:17:35.084Z"
   },
   {
    "duration": 14,
    "start_time": "2022-07-19T08:17:35.790Z"
   },
   {
    "duration": 1376,
    "start_time": "2022-07-19T08:17:36.691Z"
   },
   {
    "duration": 145,
    "start_time": "2022-07-19T08:18:07.238Z"
   },
   {
    "duration": 1053,
    "start_time": "2022-07-19T08:18:48.850Z"
   },
   {
    "duration": 177,
    "start_time": "2022-07-19T08:19:53.556Z"
   },
   {
    "duration": 313,
    "start_time": "2022-07-19T08:19:58.071Z"
   },
   {
    "duration": 14,
    "start_time": "2022-07-19T08:19:58.665Z"
   },
   {
    "duration": 152,
    "start_time": "2022-07-19T08:19:59.394Z"
   },
   {
    "duration": 131,
    "start_time": "2022-07-19T08:20:33.152Z"
   },
   {
    "duration": 195,
    "start_time": "2022-07-19T08:20:53.041Z"
   },
   {
    "duration": 150,
    "start_time": "2022-07-19T08:21:49.753Z"
   },
   {
    "duration": 122,
    "start_time": "2022-07-19T08:21:54.464Z"
   },
   {
    "duration": 216,
    "start_time": "2022-07-19T08:22:02.480Z"
   },
   {
    "duration": 120,
    "start_time": "2022-07-19T08:22:31.621Z"
   },
   {
    "duration": 553,
    "start_time": "2022-07-19T08:22:39.504Z"
   },
   {
    "duration": 115,
    "start_time": "2022-07-19T08:22:52.571Z"
   },
   {
    "duration": 181,
    "start_time": "2022-07-19T08:23:03.198Z"
   },
   {
    "duration": 134,
    "start_time": "2022-07-19T08:23:09.929Z"
   },
   {
    "duration": 144,
    "start_time": "2022-07-19T08:23:16.625Z"
   },
   {
    "duration": 121,
    "start_time": "2022-07-19T08:23:27.760Z"
   },
   {
    "duration": 202,
    "start_time": "2022-07-19T08:23:52.178Z"
   },
   {
    "duration": 119,
    "start_time": "2022-07-19T08:24:06.962Z"
   },
   {
    "duration": 136,
    "start_time": "2022-07-19T08:24:24.052Z"
   },
   {
    "duration": 143,
    "start_time": "2022-07-19T08:25:14.244Z"
   },
   {
    "duration": 124,
    "start_time": "2022-07-19T08:25:24.865Z"
   },
   {
    "duration": 261,
    "start_time": "2022-07-19T08:25:33.351Z"
   },
   {
    "duration": 12,
    "start_time": "2022-07-19T08:25:34.562Z"
   },
   {
    "duration": 119,
    "start_time": "2022-07-19T08:25:35.441Z"
   },
   {
    "duration": 136,
    "start_time": "2022-07-19T08:26:25.415Z"
   },
   {
    "duration": 164,
    "start_time": "2022-07-19T08:26:35.830Z"
   },
   {
    "duration": 16,
    "start_time": "2022-07-19T08:28:05.130Z"
   },
   {
    "duration": 17,
    "start_time": "2022-07-19T08:28:44.330Z"
   },
   {
    "duration": 184,
    "start_time": "2022-07-19T08:29:00.460Z"
   },
   {
    "duration": 314,
    "start_time": "2022-07-19T08:31:12.971Z"
   },
   {
    "duration": 289,
    "start_time": "2022-07-19T08:31:23.149Z"
   },
   {
    "duration": 238,
    "start_time": "2022-07-19T08:31:33.038Z"
   },
   {
    "duration": 10,
    "start_time": "2022-07-19T08:31:33.576Z"
   },
   {
    "duration": 192,
    "start_time": "2022-07-19T08:31:41.002Z"
   },
   {
    "duration": 111,
    "start_time": "2022-07-19T08:32:48.148Z"
   },
   {
    "duration": 116,
    "start_time": "2022-07-19T08:33:04.565Z"
   },
   {
    "duration": 163,
    "start_time": "2022-07-19T08:35:15.206Z"
   },
   {
    "duration": 269,
    "start_time": "2022-07-19T08:35:21.399Z"
   },
   {
    "duration": 209,
    "start_time": "2022-07-19T08:36:23.040Z"
   },
   {
    "duration": 239,
    "start_time": "2022-07-19T08:36:51.565Z"
   },
   {
    "duration": 136,
    "start_time": "2022-07-19T08:37:28.329Z"
   },
   {
    "duration": 163,
    "start_time": "2022-07-19T08:38:29.673Z"
   },
   {
    "duration": 139,
    "start_time": "2022-07-19T08:38:37.472Z"
   },
   {
    "duration": 143,
    "start_time": "2022-07-19T08:39:03.436Z"
   },
   {
    "duration": 56,
    "start_time": "2022-07-19T08:41:38.938Z"
   },
   {
    "duration": 203,
    "start_time": "2022-07-19T08:41:44.196Z"
   },
   {
    "duration": 84,
    "start_time": "2022-07-19T08:42:49.186Z"
   },
   {
    "duration": 201,
    "start_time": "2022-07-19T08:42:54.851Z"
   },
   {
    "duration": 279,
    "start_time": "2022-07-19T08:43:31.509Z"
   },
   {
    "duration": 213,
    "start_time": "2022-07-19T08:43:43.042Z"
   },
   {
    "duration": 252,
    "start_time": "2022-07-19T08:43:49.828Z"
   },
   {
    "duration": 209,
    "start_time": "2022-07-19T08:43:57.173Z"
   },
   {
    "duration": 218,
    "start_time": "2022-07-19T08:45:25.453Z"
   },
   {
    "duration": 288,
    "start_time": "2022-07-19T08:48:07.752Z"
   },
   {
    "duration": 17,
    "start_time": "2022-07-19T08:48:16.718Z"
   },
   {
    "duration": 570,
    "start_time": "2022-07-19T08:48:30.425Z"
   },
   {
    "duration": 227,
    "start_time": "2022-07-19T08:48:57.056Z"
   },
   {
    "duration": 208,
    "start_time": "2022-07-19T08:49:07.939Z"
   },
   {
    "duration": 253,
    "start_time": "2022-07-19T08:52:09.781Z"
   },
   {
    "duration": 15,
    "start_time": "2022-07-19T08:52:18.464Z"
   },
   {
    "duration": 21,
    "start_time": "2022-07-19T08:52:53.438Z"
   },
   {
    "duration": 13,
    "start_time": "2022-07-19T08:52:55.576Z"
   },
   {
    "duration": 382,
    "start_time": "2022-07-19T08:52:57.984Z"
   },
   {
    "duration": 795,
    "start_time": "2022-07-19T08:54:31.939Z"
   },
   {
    "duration": 151,
    "start_time": "2022-07-19T08:54:32.743Z"
   },
   {
    "duration": 64,
    "start_time": "2022-07-19T08:54:32.896Z"
   },
   {
    "duration": 5,
    "start_time": "2022-07-19T08:54:32.963Z"
   },
   {
    "duration": 8,
    "start_time": "2022-07-19T08:54:32.970Z"
   },
   {
    "duration": 15,
    "start_time": "2022-07-19T08:54:32.980Z"
   },
   {
    "duration": 65,
    "start_time": "2022-07-19T08:54:32.997Z"
   },
   {
    "duration": 15,
    "start_time": "2022-07-19T08:54:33.065Z"
   },
   {
    "duration": 21,
    "start_time": "2022-07-19T08:54:33.081Z"
   },
   {
    "duration": 29,
    "start_time": "2022-07-19T08:54:33.117Z"
   },
   {
    "duration": 19,
    "start_time": "2022-07-19T08:54:33.156Z"
   },
   {
    "duration": 28,
    "start_time": "2022-07-19T08:54:33.177Z"
   },
   {
    "duration": 22,
    "start_time": "2022-07-19T08:54:33.207Z"
   },
   {
    "duration": 39,
    "start_time": "2022-07-19T08:54:33.231Z"
   },
   {
    "duration": 13,
    "start_time": "2022-07-19T08:54:33.272Z"
   },
   {
    "duration": 6,
    "start_time": "2022-07-19T08:54:33.287Z"
   },
   {
    "duration": 8,
    "start_time": "2022-07-19T08:54:33.296Z"
   },
   {
    "duration": 30,
    "start_time": "2022-07-19T08:54:33.306Z"
   },
   {
    "duration": 33,
    "start_time": "2022-07-19T08:54:33.338Z"
   },
   {
    "duration": 21,
    "start_time": "2022-07-19T08:54:33.374Z"
   },
   {
    "duration": 10,
    "start_time": "2022-07-19T08:54:33.397Z"
   },
   {
    "duration": 64,
    "start_time": "2022-07-19T08:54:33.410Z"
   },
   {
    "duration": 84,
    "start_time": "2022-07-19T08:54:33.477Z"
   },
   {
    "duration": 27,
    "start_time": "2022-07-19T08:54:33.563Z"
   },
   {
    "duration": 22,
    "start_time": "2022-07-19T08:54:33.592Z"
   },
   {
    "duration": 69,
    "start_time": "2022-07-19T08:54:33.616Z"
   },
   {
    "duration": 665,
    "start_time": "2022-07-19T08:54:33.687Z"
   },
   {
    "duration": 25,
    "start_time": "2022-07-19T08:54:34.358Z"
   },
   {
    "duration": 376,
    "start_time": "2022-07-19T08:54:34.384Z"
   },
   {
    "duration": 372,
    "start_time": "2022-07-19T08:54:34.763Z"
   },
   {
    "duration": 300,
    "start_time": "2022-07-19T08:54:35.137Z"
   },
   {
    "duration": 278,
    "start_time": "2022-07-19T08:54:35.442Z"
   },
   {
    "duration": 29,
    "start_time": "2022-07-19T08:54:35.733Z"
   },
   {
    "duration": 339,
    "start_time": "2022-07-19T08:54:35.764Z"
   },
   {
    "duration": 412,
    "start_time": "2022-07-19T08:54:36.105Z"
   },
   {
    "duration": 279,
    "start_time": "2022-07-19T08:54:36.519Z"
   },
   {
    "duration": 288,
    "start_time": "2022-07-19T08:54:36.799Z"
   },
   {
    "duration": 1797,
    "start_time": "2022-07-19T08:54:37.089Z"
   },
   {
    "duration": 0,
    "start_time": "2022-07-19T08:54:38.890Z"
   },
   {
    "duration": 0,
    "start_time": "2022-07-19T08:54:38.891Z"
   },
   {
    "duration": 0,
    "start_time": "2022-07-19T08:54:38.893Z"
   },
   {
    "duration": 0,
    "start_time": "2022-07-19T08:54:38.894Z"
   },
   {
    "duration": 0,
    "start_time": "2022-07-19T08:54:38.895Z"
   },
   {
    "duration": 0,
    "start_time": "2022-07-19T08:54:38.897Z"
   },
   {
    "duration": 0,
    "start_time": "2022-07-19T08:54:38.898Z"
   },
   {
    "duration": 319,
    "start_time": "2022-07-19T08:59:28.257Z"
   },
   {
    "duration": 1084,
    "start_time": "2022-07-19T08:59:32.781Z"
   },
   {
    "duration": 384,
    "start_time": "2022-07-19T08:59:43.867Z"
   },
   {
    "duration": 1291,
    "start_time": "2022-07-19T08:59:44.601Z"
   },
   {
    "duration": 26,
    "start_time": "2022-07-19T09:00:25.975Z"
   },
   {
    "duration": 283,
    "start_time": "2022-07-19T09:00:26.900Z"
   },
   {
    "duration": 438,
    "start_time": "2022-07-19T09:00:31.702Z"
   },
   {
    "duration": 10,
    "start_time": "2022-07-19T09:00:37.085Z"
   },
   {
    "duration": 269,
    "start_time": "2022-07-19T09:02:32.709Z"
   },
   {
    "duration": 282,
    "start_time": "2022-07-19T09:02:49.857Z"
   },
   {
    "duration": 226,
    "start_time": "2022-07-19T09:02:59.152Z"
   },
   {
    "duration": 227,
    "start_time": "2022-07-19T09:03:10.372Z"
   },
   {
    "duration": 293,
    "start_time": "2022-07-19T09:03:19.775Z"
   },
   {
    "duration": 23,
    "start_time": "2022-07-19T09:03:59.754Z"
   },
   {
    "duration": 97,
    "start_time": "2022-07-19T09:04:05.396Z"
   },
   {
    "duration": 53,
    "start_time": "2022-07-19T09:04:54.041Z"
   },
   {
    "duration": 75,
    "start_time": "2022-07-19T09:05:07.165Z"
   },
   {
    "duration": 6,
    "start_time": "2022-07-19T09:11:01.053Z"
   },
   {
    "duration": 194,
    "start_time": "2022-07-19T09:12:16.269Z"
   },
   {
    "duration": 80,
    "start_time": "2022-07-19T09:12:38.374Z"
   },
   {
    "duration": 21,
    "start_time": "2022-07-19T09:13:17.269Z"
   },
   {
    "duration": 133,
    "start_time": "2022-07-19T09:13:38.975Z"
   },
   {
    "duration": 325,
    "start_time": "2022-07-19T09:14:02.439Z"
   },
   {
    "duration": 371,
    "start_time": "2022-07-19T09:14:11.333Z"
   },
   {
    "duration": 16,
    "start_time": "2022-07-19T09:14:23.812Z"
   },
   {
    "duration": 24,
    "start_time": "2022-07-19T09:14:48.749Z"
   },
   {
    "duration": 14,
    "start_time": "2022-07-19T09:14:50.144Z"
   },
   {
    "duration": 418,
    "start_time": "2022-07-19T09:14:51.389Z"
   },
   {
    "duration": 11,
    "start_time": "2022-07-19T09:18:32.250Z"
   },
   {
    "duration": 27,
    "start_time": "2022-07-19T09:18:38.816Z"
   },
   {
    "duration": 13,
    "start_time": "2022-07-19T09:18:46.276Z"
   },
   {
    "duration": 342,
    "start_time": "2022-07-19T09:18:49.131Z"
   },
   {
    "duration": 341,
    "start_time": "2022-07-19T09:19:27.564Z"
   },
   {
    "duration": 732,
    "start_time": "2022-07-19T09:20:13.249Z"
   },
   {
    "duration": 131,
    "start_time": "2022-07-19T09:20:13.983Z"
   },
   {
    "duration": 51,
    "start_time": "2022-07-19T09:20:14.137Z"
   },
   {
    "duration": 5,
    "start_time": "2022-07-19T09:20:14.190Z"
   },
   {
    "duration": 52,
    "start_time": "2022-07-19T09:20:14.198Z"
   },
   {
    "duration": 15,
    "start_time": "2022-07-19T09:20:14.252Z"
   },
   {
    "duration": 49,
    "start_time": "2022-07-19T09:20:14.269Z"
   },
   {
    "duration": 38,
    "start_time": "2022-07-19T09:20:14.320Z"
   },
   {
    "duration": 25,
    "start_time": "2022-07-19T09:20:14.361Z"
   },
   {
    "duration": 16,
    "start_time": "2022-07-19T09:20:14.388Z"
   },
   {
    "duration": 73,
    "start_time": "2022-07-19T09:20:14.408Z"
   },
   {
    "duration": 59,
    "start_time": "2022-07-19T09:20:14.484Z"
   },
   {
    "duration": 8,
    "start_time": "2022-07-19T09:20:14.545Z"
   },
   {
    "duration": 23,
    "start_time": "2022-07-19T09:20:14.557Z"
   },
   {
    "duration": 19,
    "start_time": "2022-07-19T09:20:14.582Z"
   },
   {
    "duration": 45,
    "start_time": "2022-07-19T09:20:14.603Z"
   },
   {
    "duration": 30,
    "start_time": "2022-07-19T09:20:14.650Z"
   },
   {
    "duration": 23,
    "start_time": "2022-07-19T09:20:14.682Z"
   },
   {
    "duration": 64,
    "start_time": "2022-07-19T09:20:14.707Z"
   },
   {
    "duration": 9,
    "start_time": "2022-07-19T09:20:14.773Z"
   },
   {
    "duration": 83,
    "start_time": "2022-07-19T09:20:14.784Z"
   },
   {
    "duration": 32,
    "start_time": "2022-07-19T09:20:14.869Z"
   },
   {
    "duration": 67,
    "start_time": "2022-07-19T09:20:14.904Z"
   },
   {
    "duration": 26,
    "start_time": "2022-07-19T09:20:14.974Z"
   },
   {
    "duration": 75,
    "start_time": "2022-07-19T09:20:15.002Z"
   },
   {
    "duration": 27,
    "start_time": "2022-07-19T09:20:15.080Z"
   },
   {
    "duration": 753,
    "start_time": "2022-07-19T09:20:15.109Z"
   },
   {
    "duration": 28,
    "start_time": "2022-07-19T09:20:15.864Z"
   },
   {
    "duration": 367,
    "start_time": "2022-07-19T09:20:15.894Z"
   },
   {
    "duration": 319,
    "start_time": "2022-07-19T09:20:16.263Z"
   },
   {
    "duration": 283,
    "start_time": "2022-07-19T09:20:16.584Z"
   },
   {
    "duration": 285,
    "start_time": "2022-07-19T09:20:16.869Z"
   },
   {
    "duration": 18,
    "start_time": "2022-07-19T09:20:17.156Z"
   },
   {
    "duration": 408,
    "start_time": "2022-07-19T09:20:17.177Z"
   },
   {
    "duration": 372,
    "start_time": "2022-07-19T09:20:17.587Z"
   },
   {
    "duration": 293,
    "start_time": "2022-07-19T09:20:17.964Z"
   },
   {
    "duration": 338,
    "start_time": "2022-07-19T09:20:18.261Z"
   },
   {
    "duration": 295,
    "start_time": "2022-07-19T09:20:18.602Z"
   },
   {
    "duration": 25,
    "start_time": "2022-07-19T09:20:18.899Z"
   },
   {
    "duration": 256,
    "start_time": "2022-07-19T09:20:18.930Z"
   },
   {
    "duration": 313,
    "start_time": "2022-07-19T09:20:19.190Z"
   },
   {
    "duration": 31,
    "start_time": "2022-07-19T09:20:19.515Z"
   },
   {
    "duration": 36,
    "start_time": "2022-07-19T09:20:19.549Z"
   },
   {
    "duration": 15,
    "start_time": "2022-07-19T09:20:19.587Z"
   },
   {
    "duration": 398,
    "start_time": "2022-07-19T09:20:19.604Z"
   },
   {
    "duration": 329,
    "start_time": "2022-07-19T09:21:06.429Z"
   },
   {
    "duration": 272,
    "start_time": "2022-07-19T09:22:37.135Z"
   },
   {
    "duration": 294,
    "start_time": "2022-07-19T09:25:46.940Z"
   },
   {
    "duration": 265,
    "start_time": "2022-07-19T09:27:04.289Z"
   },
   {
    "duration": 4,
    "start_time": "2022-07-19T09:31:56.236Z"
   },
   {
    "duration": 57,
    "start_time": "2022-07-19T09:32:01.436Z"
   },
   {
    "duration": 59,
    "start_time": "2022-07-19T09:33:20.343Z"
   },
   {
    "duration": 10,
    "start_time": "2022-07-19T09:33:27.793Z"
   },
   {
    "duration": 24,
    "start_time": "2022-07-19T09:33:54.802Z"
   },
   {
    "duration": 11,
    "start_time": "2022-07-19T09:34:03.418Z"
   },
   {
    "duration": 10,
    "start_time": "2022-07-19T09:34:22.855Z"
   },
   {
    "duration": 11,
    "start_time": "2022-07-19T09:34:30.990Z"
   },
   {
    "duration": 88,
    "start_time": "2022-07-19T09:34:49.465Z"
   },
   {
    "duration": 15,
    "start_time": "2022-07-19T09:35:08.144Z"
   },
   {
    "duration": 16,
    "start_time": "2022-07-19T09:35:31.037Z"
   },
   {
    "duration": 17,
    "start_time": "2022-07-19T09:36:10.652Z"
   },
   {
    "duration": 13,
    "start_time": "2022-07-19T09:36:37.181Z"
   },
   {
    "duration": 20,
    "start_time": "2022-07-19T09:37:38.419Z"
   },
   {
    "duration": 17,
    "start_time": "2022-07-19T09:39:07.919Z"
   },
   {
    "duration": 42,
    "start_time": "2022-07-19T09:48:36.177Z"
   },
   {
    "duration": 18,
    "start_time": "2022-07-19T09:51:47.773Z"
   },
   {
    "duration": 18,
    "start_time": "2022-07-19T09:52:02.505Z"
   },
   {
    "duration": 19,
    "start_time": "2022-07-19T09:53:12.952Z"
   },
   {
    "duration": 18,
    "start_time": "2022-07-19T09:54:33.948Z"
   },
   {
    "duration": 14,
    "start_time": "2022-07-19T09:55:45.225Z"
   },
   {
    "duration": 289,
    "start_time": "2022-07-19T09:57:40.442Z"
   },
   {
    "duration": 660,
    "start_time": "2022-07-19T09:58:02.851Z"
   },
   {
    "duration": 121,
    "start_time": "2022-07-19T09:58:03.513Z"
   },
   {
    "duration": 41,
    "start_time": "2022-07-19T09:58:03.636Z"
   },
   {
    "duration": 7,
    "start_time": "2022-07-19T09:58:03.679Z"
   },
   {
    "duration": 5,
    "start_time": "2022-07-19T09:58:03.689Z"
   },
   {
    "duration": 16,
    "start_time": "2022-07-19T09:58:03.696Z"
   },
   {
    "duration": 42,
    "start_time": "2022-07-19T09:58:03.714Z"
   },
   {
    "duration": 21,
    "start_time": "2022-07-19T09:58:03.758Z"
   },
   {
    "duration": 44,
    "start_time": "2022-07-19T09:58:03.782Z"
   },
   {
    "duration": 15,
    "start_time": "2022-07-19T09:58:03.829Z"
   },
   {
    "duration": 20,
    "start_time": "2022-07-19T09:58:03.846Z"
   },
   {
    "duration": 39,
    "start_time": "2022-07-19T09:58:03.868Z"
   },
   {
    "duration": 22,
    "start_time": "2022-07-19T09:58:03.910Z"
   },
   {
    "duration": 26,
    "start_time": "2022-07-19T09:58:03.937Z"
   },
   {
    "duration": 14,
    "start_time": "2022-07-19T09:58:03.965Z"
   },
   {
    "duration": 14,
    "start_time": "2022-07-19T09:58:03.981Z"
   },
   {
    "duration": 15,
    "start_time": "2022-07-19T09:58:03.997Z"
   },
   {
    "duration": 48,
    "start_time": "2022-07-19T09:58:04.014Z"
   },
   {
    "duration": 21,
    "start_time": "2022-07-19T09:58:04.063Z"
   },
   {
    "duration": 21,
    "start_time": "2022-07-19T09:58:04.085Z"
   },
   {
    "duration": 56,
    "start_time": "2022-07-19T09:58:04.108Z"
   },
   {
    "duration": 22,
    "start_time": "2022-07-19T09:58:04.166Z"
   },
   {
    "duration": 37,
    "start_time": "2022-07-19T09:58:04.189Z"
   },
   {
    "duration": 25,
    "start_time": "2022-07-19T09:58:04.228Z"
   },
   {
    "duration": 7,
    "start_time": "2022-07-19T09:58:04.255Z"
   },
   {
    "duration": 13,
    "start_time": "2022-07-19T09:58:04.264Z"
   },
   {
    "duration": 537,
    "start_time": "2022-07-19T09:58:04.279Z"
   },
   {
    "duration": 37,
    "start_time": "2022-07-19T09:58:04.818Z"
   },
   {
    "duration": 312,
    "start_time": "2022-07-19T09:58:04.858Z"
   },
   {
    "duration": 285,
    "start_time": "2022-07-19T09:58:05.172Z"
   },
   {
    "duration": 220,
    "start_time": "2022-07-19T09:58:05.459Z"
   },
   {
    "duration": 246,
    "start_time": "2022-07-19T09:58:05.681Z"
   },
   {
    "duration": 15,
    "start_time": "2022-07-19T09:58:05.929Z"
   },
   {
    "duration": 311,
    "start_time": "2022-07-19T09:58:05.946Z"
   },
   {
    "duration": 281,
    "start_time": "2022-07-19T09:58:06.258Z"
   },
   {
    "duration": 214,
    "start_time": "2022-07-19T09:58:06.541Z"
   },
   {
    "duration": 275,
    "start_time": "2022-07-19T09:58:06.757Z"
   },
   {
    "duration": 273,
    "start_time": "2022-07-19T09:58:07.034Z"
   },
   {
    "duration": 23,
    "start_time": "2022-07-19T09:58:07.309Z"
   },
   {
    "duration": 195,
    "start_time": "2022-07-19T09:58:07.333Z"
   },
   {
    "duration": 242,
    "start_time": "2022-07-19T09:58:07.533Z"
   },
   {
    "duration": 14,
    "start_time": "2022-07-19T09:58:07.777Z"
   },
   {
    "duration": 37,
    "start_time": "2022-07-19T09:58:07.793Z"
   },
   {
    "duration": 17,
    "start_time": "2022-07-19T09:58:07.832Z"
   },
   {
    "duration": 345,
    "start_time": "2022-07-19T09:58:07.851Z"
   },
   {
    "duration": 24,
    "start_time": "2022-07-19T09:58:08.198Z"
   },
   {
    "duration": 14,
    "start_time": "2022-07-19T09:58:08.226Z"
   },
   {
    "duration": 14,
    "start_time": "2022-07-19T09:58:08.242Z"
   },
   {
    "duration": 64,
    "start_time": "2022-07-19T09:58:08.258Z"
   },
   {
    "duration": 14,
    "start_time": "2022-07-19T09:59:27.055Z"
   },
   {
    "duration": 249,
    "start_time": "2022-07-19T10:00:15.192Z"
   },
   {
    "duration": 10,
    "start_time": "2022-07-19T10:00:16.372Z"
   },
   {
    "duration": 210,
    "start_time": "2022-07-19T10:00:16.959Z"
   },
   {
    "duration": 14,
    "start_time": "2022-07-19T10:00:22.482Z"
   },
   {
    "duration": 274,
    "start_time": "2022-07-19T10:04:24.938Z"
   },
   {
    "duration": 10,
    "start_time": "2022-07-19T10:04:25.962Z"
   },
   {
    "duration": 218,
    "start_time": "2022-07-19T10:04:26.545Z"
   },
   {
    "duration": 357,
    "start_time": "2022-07-19T10:04:28.741Z"
   },
   {
    "duration": 17,
    "start_time": "2022-07-19T10:04:33.084Z"
   },
   {
    "duration": 725,
    "start_time": "2022-07-19T10:04:42.505Z"
   },
   {
    "duration": 108,
    "start_time": "2022-07-19T10:04:43.232Z"
   },
   {
    "duration": 42,
    "start_time": "2022-07-19T10:04:43.342Z"
   },
   {
    "duration": 6,
    "start_time": "2022-07-19T10:04:43.387Z"
   },
   {
    "duration": 45,
    "start_time": "2022-07-19T10:04:43.394Z"
   },
   {
    "duration": 30,
    "start_time": "2022-07-19T10:04:43.441Z"
   },
   {
    "duration": 63,
    "start_time": "2022-07-19T10:04:43.474Z"
   },
   {
    "duration": 28,
    "start_time": "2022-07-19T10:04:43.538Z"
   },
   {
    "duration": 22,
    "start_time": "2022-07-19T10:04:43.568Z"
   },
   {
    "duration": 31,
    "start_time": "2022-07-19T10:04:43.594Z"
   },
   {
    "duration": 55,
    "start_time": "2022-07-19T10:04:43.627Z"
   },
   {
    "duration": 49,
    "start_time": "2022-07-19T10:04:43.684Z"
   },
   {
    "duration": 27,
    "start_time": "2022-07-19T10:04:43.736Z"
   },
   {
    "duration": 33,
    "start_time": "2022-07-19T10:04:43.765Z"
   },
   {
    "duration": 58,
    "start_time": "2022-07-19T10:04:43.800Z"
   },
   {
    "duration": 34,
    "start_time": "2022-07-19T10:04:43.860Z"
   },
   {
    "duration": 46,
    "start_time": "2022-07-19T10:04:43.896Z"
   },
   {
    "duration": 33,
    "start_time": "2022-07-19T10:04:43.944Z"
   },
   {
    "duration": 45,
    "start_time": "2022-07-19T10:04:43.979Z"
   },
   {
    "duration": 51,
    "start_time": "2022-07-19T10:04:44.025Z"
   },
   {
    "duration": 60,
    "start_time": "2022-07-19T10:04:44.078Z"
   },
   {
    "duration": 27,
    "start_time": "2022-07-19T10:04:44.141Z"
   },
   {
    "duration": 52,
    "start_time": "2022-07-19T10:04:44.170Z"
   },
   {
    "duration": 43,
    "start_time": "2022-07-19T10:04:44.224Z"
   },
   {
    "duration": 39,
    "start_time": "2022-07-19T10:04:44.269Z"
   },
   {
    "duration": 42,
    "start_time": "2022-07-19T10:04:44.314Z"
   },
   {
    "duration": 616,
    "start_time": "2022-07-19T10:04:44.358Z"
   },
   {
    "duration": 41,
    "start_time": "2022-07-19T10:04:44.978Z"
   },
   {
    "duration": 309,
    "start_time": "2022-07-19T10:04:45.030Z"
   },
   {
    "duration": 273,
    "start_time": "2022-07-19T10:04:45.342Z"
   },
   {
    "duration": 237,
    "start_time": "2022-07-19T10:04:45.625Z"
   },
   {
    "duration": 281,
    "start_time": "2022-07-19T10:04:45.864Z"
   },
   {
    "duration": 22,
    "start_time": "2022-07-19T10:04:46.147Z"
   },
   {
    "duration": 370,
    "start_time": "2022-07-19T10:04:46.172Z"
   },
   {
    "duration": 297,
    "start_time": "2022-07-19T10:04:46.544Z"
   },
   {
    "duration": 241,
    "start_time": "2022-07-19T10:04:46.843Z"
   },
   {
    "duration": 364,
    "start_time": "2022-07-19T10:04:47.086Z"
   },
   {
    "duration": 360,
    "start_time": "2022-07-19T10:04:47.452Z"
   },
   {
    "duration": 14,
    "start_time": "2022-07-19T10:04:47.816Z"
   },
   {
    "duration": 289,
    "start_time": "2022-07-19T10:04:47.835Z"
   },
   {
    "duration": 277,
    "start_time": "2022-07-19T10:04:48.127Z"
   },
   {
    "duration": 23,
    "start_time": "2022-07-19T10:04:48.410Z"
   },
   {
    "duration": 28,
    "start_time": "2022-07-19T10:04:48.435Z"
   },
   {
    "duration": 23,
    "start_time": "2022-07-19T10:04:48.466Z"
   },
   {
    "duration": 469,
    "start_time": "2022-07-19T10:04:48.491Z"
   },
   {
    "duration": 15,
    "start_time": "2022-07-19T10:04:48.962Z"
   },
   {
    "duration": 61,
    "start_time": "2022-07-19T10:04:48.978Z"
   },
   {
    "duration": 19,
    "start_time": "2022-07-19T10:04:49.041Z"
   },
   {
    "duration": 65,
    "start_time": "2022-07-19T10:04:49.062Z"
   },
   {
    "duration": 142,
    "start_time": "2022-07-19T10:06:45.703Z"
   },
   {
    "duration": 43,
    "start_time": "2022-07-20T05:07:50.407Z"
   },
   {
    "duration": 27,
    "start_time": "2022-07-20T05:08:30.432Z"
   },
   {
    "duration": 27,
    "start_time": "2022-07-20T05:08:49.137Z"
   },
   {
    "duration": 22,
    "start_time": "2022-07-20T05:09:02.493Z"
   },
   {
    "duration": 19,
    "start_time": "2022-07-20T05:09:10.550Z"
   },
   {
    "duration": 32,
    "start_time": "2022-07-20T05:09:50.435Z"
   },
   {
    "duration": 12,
    "start_time": "2022-07-20T05:13:45.076Z"
   },
   {
    "duration": 25,
    "start_time": "2022-07-20T05:14:07.351Z"
   },
   {
    "duration": 36,
    "start_time": "2022-07-20T05:16:30.362Z"
   },
   {
    "duration": 25,
    "start_time": "2022-07-20T05:17:36.074Z"
   },
   {
    "duration": 43,
    "start_time": "2022-07-20T05:17:46.947Z"
   },
   {
    "duration": 20,
    "start_time": "2022-07-20T05:18:00.171Z"
   },
   {
    "duration": 21,
    "start_time": "2022-07-20T05:18:15.785Z"
   },
   {
    "duration": 42,
    "start_time": "2022-07-20T05:18:32.826Z"
   },
   {
    "duration": 24,
    "start_time": "2022-07-20T05:19:19.162Z"
   },
   {
    "duration": 26,
    "start_time": "2022-07-20T05:19:58.631Z"
   },
   {
    "duration": 25,
    "start_time": "2022-07-20T05:20:17.602Z"
   },
   {
    "duration": 40,
    "start_time": "2022-07-20T05:20:30.132Z"
   },
   {
    "duration": 25,
    "start_time": "2022-07-20T05:20:40.756Z"
   },
   {
    "duration": 30,
    "start_time": "2022-07-20T05:21:35.152Z"
   },
   {
    "duration": 28,
    "start_time": "2022-07-20T05:22:22.599Z"
   },
   {
    "duration": 9,
    "start_time": "2022-07-20T05:29:09.535Z"
   },
   {
    "duration": 32,
    "start_time": "2022-07-20T05:29:24.488Z"
   },
   {
    "duration": 25,
    "start_time": "2022-07-20T05:29:52.941Z"
   },
   {
    "duration": 27,
    "start_time": "2022-07-20T05:30:21.045Z"
   },
   {
    "duration": 21,
    "start_time": "2022-07-20T05:30:27.573Z"
   },
   {
    "duration": 21,
    "start_time": "2022-07-20T05:30:38.644Z"
   },
   {
    "duration": 24,
    "start_time": "2022-07-20T05:30:46.883Z"
   },
   {
    "duration": 20,
    "start_time": "2022-07-20T05:31:12.375Z"
   },
   {
    "duration": 31,
    "start_time": "2022-07-20T05:31:39.033Z"
   },
   {
    "duration": 25,
    "start_time": "2022-07-20T05:31:46.545Z"
   },
   {
    "duration": 24,
    "start_time": "2022-07-20T05:32:05.446Z"
   },
   {
    "duration": 29,
    "start_time": "2022-07-20T05:32:15.333Z"
   },
   {
    "duration": 40,
    "start_time": "2022-07-20T05:33:22.000Z"
   },
   {
    "duration": 22,
    "start_time": "2022-07-20T05:35:19.458Z"
   },
   {
    "duration": 23,
    "start_time": "2022-07-20T05:35:32.676Z"
   },
   {
    "duration": 25,
    "start_time": "2022-07-20T05:35:49.448Z"
   },
   {
    "duration": 22,
    "start_time": "2022-07-20T05:36:44.859Z"
   },
   {
    "duration": 12,
    "start_time": "2022-07-20T05:40:13.693Z"
   },
   {
    "duration": 17,
    "start_time": "2022-07-20T05:40:29.753Z"
   },
   {
    "duration": 13,
    "start_time": "2022-07-20T05:41:02.288Z"
   },
   {
    "duration": 16,
    "start_time": "2022-07-20T05:41:10.595Z"
   },
   {
    "duration": 34,
    "start_time": "2022-07-20T05:41:33.712Z"
   },
   {
    "duration": 27,
    "start_time": "2022-07-20T05:41:37.449Z"
   },
   {
    "duration": 27,
    "start_time": "2022-07-20T05:41:43.843Z"
   },
   {
    "duration": 26,
    "start_time": "2022-07-20T05:42:20.340Z"
   },
   {
    "duration": 28,
    "start_time": "2022-07-20T05:42:30.983Z"
   },
   {
    "duration": 27,
    "start_time": "2022-07-20T05:42:55.561Z"
   },
   {
    "duration": 24,
    "start_time": "2022-07-20T05:43:09.462Z"
   },
   {
    "duration": 24,
    "start_time": "2022-07-20T05:43:27.043Z"
   },
   {
    "duration": 30,
    "start_time": "2022-07-20T05:43:33.708Z"
   },
   {
    "duration": 21,
    "start_time": "2022-07-20T05:43:37.895Z"
   },
   {
    "duration": 23,
    "start_time": "2022-07-20T05:43:46.817Z"
   },
   {
    "duration": 13,
    "start_time": "2022-07-20T05:43:56.937Z"
   },
   {
    "duration": 13,
    "start_time": "2022-07-20T05:44:09.082Z"
   },
   {
    "duration": 654,
    "start_time": "2022-07-20T05:53:39.050Z"
   },
   {
    "duration": 143,
    "start_time": "2022-07-20T05:53:39.706Z"
   },
   {
    "duration": 46,
    "start_time": "2022-07-20T05:53:39.851Z"
   },
   {
    "duration": 5,
    "start_time": "2022-07-20T05:53:39.900Z"
   },
   {
    "duration": 43,
    "start_time": "2022-07-20T05:53:39.906Z"
   },
   {
    "duration": 13,
    "start_time": "2022-07-20T05:53:39.951Z"
   },
   {
    "duration": 57,
    "start_time": "2022-07-20T05:53:39.966Z"
   },
   {
    "duration": 22,
    "start_time": "2022-07-20T05:53:40.031Z"
   },
   {
    "duration": 18,
    "start_time": "2022-07-20T05:53:40.055Z"
   },
   {
    "duration": 10,
    "start_time": "2022-07-20T05:53:40.076Z"
   },
   {
    "duration": 44,
    "start_time": "2022-07-20T05:53:40.087Z"
   },
   {
    "duration": 32,
    "start_time": "2022-07-20T05:53:40.136Z"
   },
   {
    "duration": 6,
    "start_time": "2022-07-20T05:53:40.170Z"
   },
   {
    "duration": 7,
    "start_time": "2022-07-20T05:53:40.177Z"
   },
   {
    "duration": 12,
    "start_time": "2022-07-20T05:53:40.185Z"
   },
   {
    "duration": 14,
    "start_time": "2022-07-20T05:53:40.199Z"
   },
   {
    "duration": 36,
    "start_time": "2022-07-20T05:53:40.218Z"
   },
   {
    "duration": 7,
    "start_time": "2022-07-20T05:53:40.256Z"
   },
   {
    "duration": 13,
    "start_time": "2022-07-20T05:53:40.264Z"
   },
   {
    "duration": 15,
    "start_time": "2022-07-20T05:53:40.280Z"
   },
   {
    "duration": 26,
    "start_time": "2022-07-20T05:53:40.297Z"
   },
   {
    "duration": 33,
    "start_time": "2022-07-20T05:53:40.325Z"
   },
   {
    "duration": 19,
    "start_time": "2022-07-20T05:53:40.359Z"
   },
   {
    "duration": 18,
    "start_time": "2022-07-20T05:53:40.379Z"
   },
   {
    "duration": 8,
    "start_time": "2022-07-20T05:53:40.400Z"
   },
   {
    "duration": 42,
    "start_time": "2022-07-20T05:53:40.417Z"
   },
   {
    "duration": 571,
    "start_time": "2022-07-20T05:53:40.461Z"
   },
   {
    "duration": 31,
    "start_time": "2022-07-20T05:53:41.036Z"
   },
   {
    "duration": 305,
    "start_time": "2022-07-20T05:53:41.069Z"
   },
   {
    "duration": 318,
    "start_time": "2022-07-20T05:53:41.376Z"
   },
   {
    "duration": 309,
    "start_time": "2022-07-20T05:53:41.697Z"
   },
   {
    "duration": 241,
    "start_time": "2022-07-20T05:53:42.009Z"
   },
   {
    "duration": 17,
    "start_time": "2022-07-20T05:53:42.251Z"
   },
   {
    "duration": 321,
    "start_time": "2022-07-20T05:53:42.270Z"
   },
   {
    "duration": 295,
    "start_time": "2022-07-20T05:53:42.592Z"
   },
   {
    "duration": 213,
    "start_time": "2022-07-20T05:53:42.889Z"
   },
   {
    "duration": 278,
    "start_time": "2022-07-20T05:53:43.104Z"
   },
   {
    "duration": 290,
    "start_time": "2022-07-20T05:53:43.384Z"
   },
   {
    "duration": 12,
    "start_time": "2022-07-20T05:53:43.676Z"
   },
   {
    "duration": 271,
    "start_time": "2022-07-20T05:53:43.690Z"
   },
   {
    "duration": 268,
    "start_time": "2022-07-20T05:53:43.963Z"
   },
   {
    "duration": 22,
    "start_time": "2022-07-20T05:53:44.234Z"
   },
   {
    "duration": 19,
    "start_time": "2022-07-20T05:53:44.258Z"
   },
   {
    "duration": 12,
    "start_time": "2022-07-20T05:53:44.279Z"
   },
   {
    "duration": 335,
    "start_time": "2022-07-20T05:53:44.293Z"
   },
   {
    "duration": 14,
    "start_time": "2022-07-20T05:53:44.630Z"
   },
   {
    "duration": 13,
    "start_time": "2022-07-20T05:53:44.646Z"
   },
   {
    "duration": 60,
    "start_time": "2022-07-20T05:53:44.661Z"
   },
   {
    "duration": 35,
    "start_time": "2022-07-20T05:53:44.727Z"
   },
   {
    "duration": 28,
    "start_time": "2022-07-20T05:53:44.772Z"
   },
   {
    "duration": 37,
    "start_time": "2022-07-20T05:53:44.802Z"
   },
   {
    "duration": 45,
    "start_time": "2022-07-20T05:54:57.851Z"
   },
   {
    "duration": 803,
    "start_time": "2022-07-22T05:21:41.855Z"
   },
   {
    "duration": 210,
    "start_time": "2022-07-22T05:21:42.663Z"
   },
   {
    "duration": 82,
    "start_time": "2022-07-22T05:21:42.874Z"
   },
   {
    "duration": 6,
    "start_time": "2022-07-22T05:21:42.957Z"
   },
   {
    "duration": 6,
    "start_time": "2022-07-22T05:21:42.964Z"
   },
   {
    "duration": 25,
    "start_time": "2022-07-22T05:21:42.971Z"
   },
   {
    "duration": 39,
    "start_time": "2022-07-22T05:21:42.998Z"
   },
   {
    "duration": 12,
    "start_time": "2022-07-22T05:21:43.039Z"
   },
   {
    "duration": 23,
    "start_time": "2022-07-22T05:21:43.052Z"
   },
   {
    "duration": 8,
    "start_time": "2022-07-22T05:21:43.078Z"
   },
   {
    "duration": 11,
    "start_time": "2022-07-22T05:21:43.087Z"
   },
   {
    "duration": 17,
    "start_time": "2022-07-22T05:21:43.099Z"
   },
   {
    "duration": 5,
    "start_time": "2022-07-22T05:21:43.117Z"
   },
   {
    "duration": 6,
    "start_time": "2022-07-22T05:21:43.123Z"
   },
   {
    "duration": 6,
    "start_time": "2022-07-22T05:21:43.164Z"
   },
   {
    "duration": 9,
    "start_time": "2022-07-22T05:21:43.171Z"
   },
   {
    "duration": 9,
    "start_time": "2022-07-22T05:21:43.181Z"
   },
   {
    "duration": 6,
    "start_time": "2022-07-22T05:21:43.191Z"
   },
   {
    "duration": 10,
    "start_time": "2022-07-22T05:21:43.198Z"
   },
   {
    "duration": 9,
    "start_time": "2022-07-22T05:21:43.209Z"
   },
   {
    "duration": 6,
    "start_time": "2022-07-22T05:21:43.220Z"
   },
   {
    "duration": 36,
    "start_time": "2022-07-22T05:21:43.228Z"
   },
   {
    "duration": 17,
    "start_time": "2022-07-22T05:21:43.266Z"
   },
   {
    "duration": 16,
    "start_time": "2022-07-22T05:21:43.285Z"
   },
   {
    "duration": 10,
    "start_time": "2022-07-22T05:21:43.303Z"
   },
   {
    "duration": 7,
    "start_time": "2022-07-22T05:21:43.315Z"
   },
   {
    "duration": 521,
    "start_time": "2022-07-22T05:21:43.324Z"
   },
   {
    "duration": 31,
    "start_time": "2022-07-22T05:21:43.849Z"
   },
   {
    "duration": 227,
    "start_time": "2022-07-22T05:21:43.881Z"
   },
   {
    "duration": 231,
    "start_time": "2022-07-22T05:21:44.110Z"
   },
   {
    "duration": 199,
    "start_time": "2022-07-22T05:21:44.343Z"
   },
   {
    "duration": 197,
    "start_time": "2022-07-22T05:21:44.544Z"
   },
   {
    "duration": 23,
    "start_time": "2022-07-22T05:21:44.743Z"
   },
   {
    "duration": 253,
    "start_time": "2022-07-22T05:21:44.768Z"
   },
   {
    "duration": 237,
    "start_time": "2022-07-22T05:21:45.023Z"
   },
   {
    "duration": 189,
    "start_time": "2022-07-22T05:21:45.264Z"
   },
   {
    "duration": 239,
    "start_time": "2022-07-22T05:21:45.455Z"
   },
   {
    "duration": 215,
    "start_time": "2022-07-22T05:21:45.696Z"
   },
   {
    "duration": 9,
    "start_time": "2022-07-22T05:21:45.913Z"
   },
   {
    "duration": 178,
    "start_time": "2022-07-22T05:21:45.924Z"
   },
   {
    "duration": 230,
    "start_time": "2022-07-22T05:21:46.104Z"
   },
   {
    "duration": 11,
    "start_time": "2022-07-22T05:21:46.336Z"
   },
   {
    "duration": 25,
    "start_time": "2022-07-22T05:21:46.348Z"
   },
   {
    "duration": 9,
    "start_time": "2022-07-22T05:21:46.375Z"
   },
   {
    "duration": 294,
    "start_time": "2022-07-22T05:21:46.385Z"
   },
   {
    "duration": 12,
    "start_time": "2022-07-22T05:21:46.680Z"
   },
   {
    "duration": 10,
    "start_time": "2022-07-22T05:21:46.693Z"
   },
   {
    "duration": 12,
    "start_time": "2022-07-22T05:21:46.705Z"
   },
   {
    "duration": 47,
    "start_time": "2022-07-22T05:21:46.718Z"
   },
   {
    "duration": 19,
    "start_time": "2022-07-22T05:21:46.766Z"
   },
   {
    "duration": 18,
    "start_time": "2022-07-22T05:21:46.786Z"
   }
  ],
  "colab": {
   "name": "DA+. Сборный проект 1. Шаблон (1).ipynb",
   "provenance": []
  },
  "kernelspec": {
   "display_name": "Python 3 (ipykernel)",
   "language": "python",
   "name": "python3"
  },
  "language_info": {
   "codemirror_mode": {
    "name": "ipython",
    "version": 3
   },
   "file_extension": ".py",
   "mimetype": "text/x-python",
   "name": "python",
   "nbconvert_exporter": "python",
   "pygments_lexer": "ipython3",
   "version": "3.9.12"
  },
  "toc": {
   "base_numbering": 1,
   "nav_menu": {},
   "number_sections": true,
   "sideBar": true,
   "skip_h1_title": true,
   "title_cell": "Table of Contents",
   "title_sidebar": "Contents",
   "toc_cell": false,
   "toc_position": {
    "height": "calc(100% - 180px)",
    "left": "10px",
    "top": "150px",
    "width": "375.391px"
   },
   "toc_section_display": true,
   "toc_window_display": false
  }
 },
 "nbformat": 4,
 "nbformat_minor": 1
}
