{
 "cells": [
  {
   "cell_type": "markdown",
   "metadata": {},
   "source": [
    "## Определение перспективного тарифа для телеком-компании\n",
    "\n",
    "    «Мегалайн» — федеральный оператор сотовой связи. Клиентам предлагаются два тарифных плана: «Смарт» и «Ультра». Нам предстоит сделать предварительный анализ тарифов на небольшой выборке клиентов. И понять какой тариф приносит больше денег.\n",
    "\n",
    "    \n",
    "\n",
    "**Цель:** ответ на вопрос: Какой тариф приносит больше денег?\n",
    "\n",
    "**Задачи:**\n",
    "1. Откройте файл с данными и изучите общую информацию\n",
    "2. Подготовьте данные\n",
    "    * приведите данные к нужным типам;\n",
    "    * найдите и исправьте ошибки в данных, если они есть.\n",
    "3. Посчитать для каждого пользователя:\n",
    "    * количество сделанных звонков и израсходованных минут разговора по месяцам;\n",
    "    * количество отправленных сообщений по месяцам;\n",
    "    * объем израсходованного интернет-трафика по месяцам;\n",
    "    * помесячную выручку с каждого пользователя.\n",
    "4. Проверьте гипотез:\n",
    "    * средняя выручка пользователей тарифов «Ультра» и «Смарт» различаются;\n",
    "    * средняя выручка пользователей из Москвы отличается от выручки пользователей из других регионов.\n",
    "    \n",
    "**Предмет исследования:** выборка данных по 500 пользователям оператора «Мегалайна»\n",
    "\n",
    "**Методы** которые мы применим в данном исследовании включают в себя: ознакомление, предобработку и статистический анализ данных.\n",
    "\n",
    "**Структура проекта.** Проектная работа состоит из обзора и предобработки данных, затем следует изучение и статистический анализ данных и общий вывод."
   ]
  },
  {
   "cell_type": "markdown",
   "metadata": {},
   "source": [
    "## Открытие файлов с данными и изучение общей информации"
   ]
  },
  {
   "cell_type": "code",
   "execution_count": 1,
   "metadata": {},
   "outputs": [],
   "source": [
    "import pandas as pd\n",
    "import matplotlib.pyplot as plt\n",
    "from scipy import stats as st\n",
    "import numpy as np\n",
    "import math"
   ]
  },
  {
   "cell_type": "code",
   "execution_count": 2,
   "metadata": {},
   "outputs": [],
   "source": [
    "calls = pd.read_csv('/datasets/calls.csv')\n",
    "internet = pd.read_csv('/datasets/internet.csv')\n",
    "messages = pd.read_csv('/datasets/messages.csv')\n",
    "tariffs = pd.read_csv('/datasets/tariffs.csv')\n",
    "users = pd.read_csv('/datasets/users.csv')"
   ]
  },
  {
   "cell_type": "code",
   "execution_count": 3,
   "metadata": {},
   "outputs": [
    {
     "data": {
      "text/html": [
       "<div>\n",
       "<style scoped>\n",
       "    .dataframe tbody tr th:only-of-type {\n",
       "        vertical-align: middle;\n",
       "    }\n",
       "\n",
       "    .dataframe tbody tr th {\n",
       "        vertical-align: top;\n",
       "    }\n",
       "\n",
       "    .dataframe thead th {\n",
       "        text-align: right;\n",
       "    }\n",
       "</style>\n",
       "<table border=\"1\" class=\"dataframe\">\n",
       "  <thead>\n",
       "    <tr style=\"text-align: right;\">\n",
       "      <th></th>\n",
       "      <th>id</th>\n",
       "      <th>call_date</th>\n",
       "      <th>duration</th>\n",
       "      <th>user_id</th>\n",
       "    </tr>\n",
       "  </thead>\n",
       "  <tbody>\n",
       "    <tr>\n",
       "      <th>0</th>\n",
       "      <td>1000_0</td>\n",
       "      <td>2018-07-25</td>\n",
       "      <td>0.00</td>\n",
       "      <td>1000</td>\n",
       "    </tr>\n",
       "    <tr>\n",
       "      <th>1</th>\n",
       "      <td>1000_1</td>\n",
       "      <td>2018-08-17</td>\n",
       "      <td>0.00</td>\n",
       "      <td>1000</td>\n",
       "    </tr>\n",
       "    <tr>\n",
       "      <th>2</th>\n",
       "      <td>1000_2</td>\n",
       "      <td>2018-06-11</td>\n",
       "      <td>2.85</td>\n",
       "      <td>1000</td>\n",
       "    </tr>\n",
       "    <tr>\n",
       "      <th>3</th>\n",
       "      <td>1000_3</td>\n",
       "      <td>2018-09-21</td>\n",
       "      <td>13.80</td>\n",
       "      <td>1000</td>\n",
       "    </tr>\n",
       "    <tr>\n",
       "      <th>4</th>\n",
       "      <td>1000_4</td>\n",
       "      <td>2018-12-15</td>\n",
       "      <td>5.18</td>\n",
       "      <td>1000</td>\n",
       "    </tr>\n",
       "  </tbody>\n",
       "</table>\n",
       "</div>"
      ],
      "text/plain": [
       "       id   call_date  duration  user_id\n",
       "0  1000_0  2018-07-25      0.00     1000\n",
       "1  1000_1  2018-08-17      0.00     1000\n",
       "2  1000_2  2018-06-11      2.85     1000\n",
       "3  1000_3  2018-09-21     13.80     1000\n",
       "4  1000_4  2018-12-15      5.18     1000"
      ]
     },
     "metadata": {},
     "output_type": "display_data"
    },
    {
     "name": "stdout",
     "output_type": "stream",
     "text": [
      "<class 'pandas.core.frame.DataFrame'>\n",
      "RangeIndex: 202607 entries, 0 to 202606\n",
      "Data columns (total 4 columns):\n",
      " #   Column     Non-Null Count   Dtype  \n",
      "---  ------     --------------   -----  \n",
      " 0   id         202607 non-null  object \n",
      " 1   call_date  202607 non-null  object \n",
      " 2   duration   202607 non-null  float64\n",
      " 3   user_id    202607 non-null  int64  \n",
      "dtypes: float64(1), int64(1), object(2)\n",
      "memory usage: 6.2+ MB\n"
     ]
    }
   ],
   "source": [
    "display(calls.head(5))\n",
    "calls.info()"
   ]
  },
  {
   "cell_type": "code",
   "execution_count": 4,
   "metadata": {},
   "outputs": [
    {
     "data": {
      "text/html": [
       "<div>\n",
       "<style scoped>\n",
       "    .dataframe tbody tr th:only-of-type {\n",
       "        vertical-align: middle;\n",
       "    }\n",
       "\n",
       "    .dataframe tbody tr th {\n",
       "        vertical-align: top;\n",
       "    }\n",
       "\n",
       "    .dataframe thead th {\n",
       "        text-align: right;\n",
       "    }\n",
       "</style>\n",
       "<table border=\"1\" class=\"dataframe\">\n",
       "  <thead>\n",
       "    <tr style=\"text-align: right;\">\n",
       "      <th></th>\n",
       "      <th>Unnamed: 0</th>\n",
       "      <th>id</th>\n",
       "      <th>mb_used</th>\n",
       "      <th>session_date</th>\n",
       "      <th>user_id</th>\n",
       "    </tr>\n",
       "  </thead>\n",
       "  <tbody>\n",
       "    <tr>\n",
       "      <th>0</th>\n",
       "      <td>0</td>\n",
       "      <td>1000_0</td>\n",
       "      <td>112.95</td>\n",
       "      <td>2018-11-25</td>\n",
       "      <td>1000</td>\n",
       "    </tr>\n",
       "    <tr>\n",
       "      <th>1</th>\n",
       "      <td>1</td>\n",
       "      <td>1000_1</td>\n",
       "      <td>1052.81</td>\n",
       "      <td>2018-09-07</td>\n",
       "      <td>1000</td>\n",
       "    </tr>\n",
       "    <tr>\n",
       "      <th>2</th>\n",
       "      <td>2</td>\n",
       "      <td>1000_2</td>\n",
       "      <td>1197.26</td>\n",
       "      <td>2018-06-25</td>\n",
       "      <td>1000</td>\n",
       "    </tr>\n",
       "    <tr>\n",
       "      <th>3</th>\n",
       "      <td>3</td>\n",
       "      <td>1000_3</td>\n",
       "      <td>550.27</td>\n",
       "      <td>2018-08-22</td>\n",
       "      <td>1000</td>\n",
       "    </tr>\n",
       "    <tr>\n",
       "      <th>4</th>\n",
       "      <td>4</td>\n",
       "      <td>1000_4</td>\n",
       "      <td>302.56</td>\n",
       "      <td>2018-09-24</td>\n",
       "      <td>1000</td>\n",
       "    </tr>\n",
       "  </tbody>\n",
       "</table>\n",
       "</div>"
      ],
      "text/plain": [
       "   Unnamed: 0      id  mb_used session_date  user_id\n",
       "0           0  1000_0   112.95   2018-11-25     1000\n",
       "1           1  1000_1  1052.81   2018-09-07     1000\n",
       "2           2  1000_2  1197.26   2018-06-25     1000\n",
       "3           3  1000_3   550.27   2018-08-22     1000\n",
       "4           4  1000_4   302.56   2018-09-24     1000"
      ]
     },
     "metadata": {},
     "output_type": "display_data"
    },
    {
     "name": "stdout",
     "output_type": "stream",
     "text": [
      "<class 'pandas.core.frame.DataFrame'>\n",
      "RangeIndex: 149396 entries, 0 to 149395\n",
      "Data columns (total 5 columns):\n",
      " #   Column        Non-Null Count   Dtype  \n",
      "---  ------        --------------   -----  \n",
      " 0   Unnamed: 0    149396 non-null  int64  \n",
      " 1   id            149396 non-null  object \n",
      " 2   mb_used       149396 non-null  float64\n",
      " 3   session_date  149396 non-null  object \n",
      " 4   user_id       149396 non-null  int64  \n",
      "dtypes: float64(1), int64(2), object(2)\n",
      "memory usage: 5.7+ MB\n"
     ]
    }
   ],
   "source": [
    "display(internet.head(5))\n",
    "internet.info()"
   ]
  },
  {
   "cell_type": "code",
   "execution_count": 5,
   "metadata": {},
   "outputs": [
    {
     "data": {
      "text/html": [
       "<div>\n",
       "<style scoped>\n",
       "    .dataframe tbody tr th:only-of-type {\n",
       "        vertical-align: middle;\n",
       "    }\n",
       "\n",
       "    .dataframe tbody tr th {\n",
       "        vertical-align: top;\n",
       "    }\n",
       "\n",
       "    .dataframe thead th {\n",
       "        text-align: right;\n",
       "    }\n",
       "</style>\n",
       "<table border=\"1\" class=\"dataframe\">\n",
       "  <thead>\n",
       "    <tr style=\"text-align: right;\">\n",
       "      <th></th>\n",
       "      <th>id</th>\n",
       "      <th>message_date</th>\n",
       "      <th>user_id</th>\n",
       "    </tr>\n",
       "  </thead>\n",
       "  <tbody>\n",
       "    <tr>\n",
       "      <th>0</th>\n",
       "      <td>1000_0</td>\n",
       "      <td>2018-06-27</td>\n",
       "      <td>1000</td>\n",
       "    </tr>\n",
       "    <tr>\n",
       "      <th>1</th>\n",
       "      <td>1000_1</td>\n",
       "      <td>2018-10-08</td>\n",
       "      <td>1000</td>\n",
       "    </tr>\n",
       "    <tr>\n",
       "      <th>2</th>\n",
       "      <td>1000_2</td>\n",
       "      <td>2018-08-04</td>\n",
       "      <td>1000</td>\n",
       "    </tr>\n",
       "    <tr>\n",
       "      <th>3</th>\n",
       "      <td>1000_3</td>\n",
       "      <td>2018-06-16</td>\n",
       "      <td>1000</td>\n",
       "    </tr>\n",
       "    <tr>\n",
       "      <th>4</th>\n",
       "      <td>1000_4</td>\n",
       "      <td>2018-12-05</td>\n",
       "      <td>1000</td>\n",
       "    </tr>\n",
       "  </tbody>\n",
       "</table>\n",
       "</div>"
      ],
      "text/plain": [
       "       id message_date  user_id\n",
       "0  1000_0   2018-06-27     1000\n",
       "1  1000_1   2018-10-08     1000\n",
       "2  1000_2   2018-08-04     1000\n",
       "3  1000_3   2018-06-16     1000\n",
       "4  1000_4   2018-12-05     1000"
      ]
     },
     "metadata": {},
     "output_type": "display_data"
    },
    {
     "name": "stdout",
     "output_type": "stream",
     "text": [
      "<class 'pandas.core.frame.DataFrame'>\n",
      "RangeIndex: 123036 entries, 0 to 123035\n",
      "Data columns (total 3 columns):\n",
      " #   Column        Non-Null Count   Dtype \n",
      "---  ------        --------------   ----- \n",
      " 0   id            123036 non-null  object\n",
      " 1   message_date  123036 non-null  object\n",
      " 2   user_id       123036 non-null  int64 \n",
      "dtypes: int64(1), object(2)\n",
      "memory usage: 2.8+ MB\n"
     ]
    }
   ],
   "source": [
    "display(messages.head(5))\n",
    "messages.info()"
   ]
  },
  {
   "cell_type": "code",
   "execution_count": 6,
   "metadata": {},
   "outputs": [
    {
     "data": {
      "text/html": [
       "<div>\n",
       "<style scoped>\n",
       "    .dataframe tbody tr th:only-of-type {\n",
       "        vertical-align: middle;\n",
       "    }\n",
       "\n",
       "    .dataframe tbody tr th {\n",
       "        vertical-align: top;\n",
       "    }\n",
       "\n",
       "    .dataframe thead th {\n",
       "        text-align: right;\n",
       "    }\n",
       "</style>\n",
       "<table border=\"1\" class=\"dataframe\">\n",
       "  <thead>\n",
       "    <tr style=\"text-align: right;\">\n",
       "      <th></th>\n",
       "      <th>messages_included</th>\n",
       "      <th>mb_per_month_included</th>\n",
       "      <th>minutes_included</th>\n",
       "      <th>rub_monthly_fee</th>\n",
       "      <th>rub_per_gb</th>\n",
       "      <th>rub_per_message</th>\n",
       "      <th>rub_per_minute</th>\n",
       "      <th>tariff_name</th>\n",
       "    </tr>\n",
       "  </thead>\n",
       "  <tbody>\n",
       "    <tr>\n",
       "      <th>0</th>\n",
       "      <td>50</td>\n",
       "      <td>15360</td>\n",
       "      <td>500</td>\n",
       "      <td>550</td>\n",
       "      <td>200</td>\n",
       "      <td>3</td>\n",
       "      <td>3</td>\n",
       "      <td>smart</td>\n",
       "    </tr>\n",
       "    <tr>\n",
       "      <th>1</th>\n",
       "      <td>1000</td>\n",
       "      <td>30720</td>\n",
       "      <td>3000</td>\n",
       "      <td>1950</td>\n",
       "      <td>150</td>\n",
       "      <td>1</td>\n",
       "      <td>1</td>\n",
       "      <td>ultra</td>\n",
       "    </tr>\n",
       "  </tbody>\n",
       "</table>\n",
       "</div>"
      ],
      "text/plain": [
       "   messages_included  mb_per_month_included  minutes_included  \\\n",
       "0                 50                  15360               500   \n",
       "1               1000                  30720              3000   \n",
       "\n",
       "   rub_monthly_fee  rub_per_gb  rub_per_message  rub_per_minute tariff_name  \n",
       "0              550         200                3               3       smart  \n",
       "1             1950         150                1               1       ultra  "
      ]
     },
     "metadata": {},
     "output_type": "display_data"
    },
    {
     "name": "stdout",
     "output_type": "stream",
     "text": [
      "<class 'pandas.core.frame.DataFrame'>\n",
      "RangeIndex: 2 entries, 0 to 1\n",
      "Data columns (total 8 columns):\n",
      " #   Column                 Non-Null Count  Dtype \n",
      "---  ------                 --------------  ----- \n",
      " 0   messages_included      2 non-null      int64 \n",
      " 1   mb_per_month_included  2 non-null      int64 \n",
      " 2   minutes_included       2 non-null      int64 \n",
      " 3   rub_monthly_fee        2 non-null      int64 \n",
      " 4   rub_per_gb             2 non-null      int64 \n",
      " 5   rub_per_message        2 non-null      int64 \n",
      " 6   rub_per_minute         2 non-null      int64 \n",
      " 7   tariff_name            2 non-null      object\n",
      "dtypes: int64(7), object(1)\n",
      "memory usage: 256.0+ bytes\n"
     ]
    }
   ],
   "source": [
    "display(tariffs)\n",
    "tariffs.info()"
   ]
  },
  {
   "cell_type": "code",
   "execution_count": 7,
   "metadata": {},
   "outputs": [
    {
     "data": {
      "text/html": [
       "<div>\n",
       "<style scoped>\n",
       "    .dataframe tbody tr th:only-of-type {\n",
       "        vertical-align: middle;\n",
       "    }\n",
       "\n",
       "    .dataframe tbody tr th {\n",
       "        vertical-align: top;\n",
       "    }\n",
       "\n",
       "    .dataframe thead th {\n",
       "        text-align: right;\n",
       "    }\n",
       "</style>\n",
       "<table border=\"1\" class=\"dataframe\">\n",
       "  <thead>\n",
       "    <tr style=\"text-align: right;\">\n",
       "      <th></th>\n",
       "      <th>user_id</th>\n",
       "      <th>age</th>\n",
       "      <th>churn_date</th>\n",
       "      <th>city</th>\n",
       "      <th>first_name</th>\n",
       "      <th>last_name</th>\n",
       "      <th>reg_date</th>\n",
       "      <th>tariff</th>\n",
       "    </tr>\n",
       "  </thead>\n",
       "  <tbody>\n",
       "    <tr>\n",
       "      <th>0</th>\n",
       "      <td>1000</td>\n",
       "      <td>52</td>\n",
       "      <td>NaN</td>\n",
       "      <td>Краснодар</td>\n",
       "      <td>Рафаил</td>\n",
       "      <td>Верещагин</td>\n",
       "      <td>2018-05-25</td>\n",
       "      <td>ultra</td>\n",
       "    </tr>\n",
       "    <tr>\n",
       "      <th>1</th>\n",
       "      <td>1001</td>\n",
       "      <td>41</td>\n",
       "      <td>NaN</td>\n",
       "      <td>Москва</td>\n",
       "      <td>Иван</td>\n",
       "      <td>Ежов</td>\n",
       "      <td>2018-11-01</td>\n",
       "      <td>smart</td>\n",
       "    </tr>\n",
       "    <tr>\n",
       "      <th>2</th>\n",
       "      <td>1002</td>\n",
       "      <td>59</td>\n",
       "      <td>NaN</td>\n",
       "      <td>Стерлитамак</td>\n",
       "      <td>Евгений</td>\n",
       "      <td>Абрамович</td>\n",
       "      <td>2018-06-17</td>\n",
       "      <td>smart</td>\n",
       "    </tr>\n",
       "    <tr>\n",
       "      <th>3</th>\n",
       "      <td>1003</td>\n",
       "      <td>23</td>\n",
       "      <td>NaN</td>\n",
       "      <td>Москва</td>\n",
       "      <td>Белла</td>\n",
       "      <td>Белякова</td>\n",
       "      <td>2018-08-17</td>\n",
       "      <td>ultra</td>\n",
       "    </tr>\n",
       "    <tr>\n",
       "      <th>4</th>\n",
       "      <td>1004</td>\n",
       "      <td>68</td>\n",
       "      <td>NaN</td>\n",
       "      <td>Новокузнецк</td>\n",
       "      <td>Татьяна</td>\n",
       "      <td>Авдеенко</td>\n",
       "      <td>2018-05-14</td>\n",
       "      <td>ultra</td>\n",
       "    </tr>\n",
       "  </tbody>\n",
       "</table>\n",
       "</div>"
      ],
      "text/plain": [
       "   user_id  age churn_date         city first_name  last_name    reg_date  \\\n",
       "0     1000   52        NaN    Краснодар     Рафаил  Верещагин  2018-05-25   \n",
       "1     1001   41        NaN       Москва       Иван       Ежов  2018-11-01   \n",
       "2     1002   59        NaN  Стерлитамак    Евгений  Абрамович  2018-06-17   \n",
       "3     1003   23        NaN       Москва      Белла   Белякова  2018-08-17   \n",
       "4     1004   68        NaN  Новокузнецк    Татьяна   Авдеенко  2018-05-14   \n",
       "\n",
       "  tariff  \n",
       "0  ultra  \n",
       "1  smart  \n",
       "2  smart  \n",
       "3  ultra  \n",
       "4  ultra  "
      ]
     },
     "metadata": {},
     "output_type": "display_data"
    },
    {
     "name": "stdout",
     "output_type": "stream",
     "text": [
      "<class 'pandas.core.frame.DataFrame'>\n",
      "RangeIndex: 500 entries, 0 to 499\n",
      "Data columns (total 8 columns):\n",
      " #   Column      Non-Null Count  Dtype \n",
      "---  ------      --------------  ----- \n",
      " 0   user_id     500 non-null    int64 \n",
      " 1   age         500 non-null    int64 \n",
      " 2   churn_date  38 non-null     object\n",
      " 3   city        500 non-null    object\n",
      " 4   first_name  500 non-null    object\n",
      " 5   last_name   500 non-null    object\n",
      " 6   reg_date    500 non-null    object\n",
      " 7   tariff      500 non-null    object\n",
      "dtypes: int64(2), object(6)\n",
      "memory usage: 31.4+ KB\n"
     ]
    }
   ],
   "source": [
    "display(users.head(5))\n",
    "users.info()"
   ]
  },
  {
   "cell_type": "markdown",
   "metadata": {},
   "source": [
    "## Подготовка данных"
   ]
  },
  {
   "cell_type": "markdown",
   "metadata": {},
   "source": [
    "### Calls"
   ]
  },
  {
   "cell_type": "markdown",
   "metadata": {},
   "source": [
    "Проверим на дубликаты:"
   ]
  },
  {
   "cell_type": "code",
   "execution_count": 8,
   "metadata": {},
   "outputs": [
    {
     "data": {
      "text/plain": [
       "0"
      ]
     },
     "execution_count": 8,
     "metadata": {},
     "output_type": "execute_result"
    }
   ],
   "source": [
    "calls.duplicated().sum()"
   ]
  },
  {
   "cell_type": "markdown",
   "metadata": {},
   "source": [
    "Приведем значения в столбце call_date к типу 'datatime': "
   ]
  },
  {
   "cell_type": "code",
   "execution_count": 9,
   "metadata": {},
   "outputs": [
    {
     "name": "stdout",
     "output_type": "stream",
     "text": [
      "<class 'pandas.core.frame.DataFrame'>\n",
      "RangeIndex: 202607 entries, 0 to 202606\n",
      "Data columns (total 4 columns):\n",
      " #   Column     Non-Null Count   Dtype         \n",
      "---  ------     --------------   -----         \n",
      " 0   id         202607 non-null  object        \n",
      " 1   call_date  202607 non-null  datetime64[ns]\n",
      " 2   duration   202607 non-null  float64       \n",
      " 3   user_id    202607 non-null  int64         \n",
      "dtypes: datetime64[ns](1), float64(1), int64(1), object(1)\n",
      "memory usage: 6.2+ MB\n"
     ]
    }
   ],
   "source": [
    "calls['call_date'] = pd.to_datetime(calls['call_date'], format='%Y-%m-%d')\n",
    "calls.info()"
   ]
  },
  {
   "cell_type": "code",
   "execution_count": 10,
   "metadata": {},
   "outputs": [],
   "source": [
    "calls['duration'] = np.ceil(calls['duration']).astype('int')"
   ]
  },
  {
   "cell_type": "code",
   "execution_count": 11,
   "metadata": {},
   "outputs": [
    {
     "data": {
      "text/html": [
       "<div>\n",
       "<style scoped>\n",
       "    .dataframe tbody tr th:only-of-type {\n",
       "        vertical-align: middle;\n",
       "    }\n",
       "\n",
       "    .dataframe tbody tr th {\n",
       "        vertical-align: top;\n",
       "    }\n",
       "\n",
       "    .dataframe thead th {\n",
       "        text-align: right;\n",
       "    }\n",
       "</style>\n",
       "<table border=\"1\" class=\"dataframe\">\n",
       "  <thead>\n",
       "    <tr style=\"text-align: right;\">\n",
       "      <th></th>\n",
       "      <th>id</th>\n",
       "      <th>call_date</th>\n",
       "      <th>duration</th>\n",
       "      <th>user_id</th>\n",
       "    </tr>\n",
       "  </thead>\n",
       "  <tbody>\n",
       "    <tr>\n",
       "      <th>0</th>\n",
       "      <td>1000_0</td>\n",
       "      <td>2018-07-25</td>\n",
       "      <td>0</td>\n",
       "      <td>1000</td>\n",
       "    </tr>\n",
       "    <tr>\n",
       "      <th>1</th>\n",
       "      <td>1000_1</td>\n",
       "      <td>2018-08-17</td>\n",
       "      <td>0</td>\n",
       "      <td>1000</td>\n",
       "    </tr>\n",
       "    <tr>\n",
       "      <th>2</th>\n",
       "      <td>1000_2</td>\n",
       "      <td>2018-06-11</td>\n",
       "      <td>3</td>\n",
       "      <td>1000</td>\n",
       "    </tr>\n",
       "    <tr>\n",
       "      <th>3</th>\n",
       "      <td>1000_3</td>\n",
       "      <td>2018-09-21</td>\n",
       "      <td>14</td>\n",
       "      <td>1000</td>\n",
       "    </tr>\n",
       "    <tr>\n",
       "      <th>4</th>\n",
       "      <td>1000_4</td>\n",
       "      <td>2018-12-15</td>\n",
       "      <td>6</td>\n",
       "      <td>1000</td>\n",
       "    </tr>\n",
       "  </tbody>\n",
       "</table>\n",
       "</div>"
      ],
      "text/plain": [
       "       id  call_date  duration  user_id\n",
       "0  1000_0 2018-07-25         0     1000\n",
       "1  1000_1 2018-08-17         0     1000\n",
       "2  1000_2 2018-06-11         3     1000\n",
       "3  1000_3 2018-09-21        14     1000\n",
       "4  1000_4 2018-12-15         6     1000"
      ]
     },
     "execution_count": 11,
     "metadata": {},
     "output_type": "execute_result"
    }
   ],
   "source": [
    "calls.head(5)"
   ]
  },
  {
   "cell_type": "markdown",
   "metadata": {},
   "source": [
    "### Internet"
   ]
  },
  {
   "cell_type": "markdown",
   "metadata": {},
   "source": [
    "Проверим на дубликаты:"
   ]
  },
  {
   "cell_type": "code",
   "execution_count": 12,
   "metadata": {},
   "outputs": [
    {
     "data": {
      "text/plain": [
       "0"
      ]
     },
     "execution_count": 12,
     "metadata": {},
     "output_type": "execute_result"
    }
   ],
   "source": [
    "internet.duplicated().sum()"
   ]
  },
  {
   "cell_type": "code",
   "execution_count": 13,
   "metadata": {},
   "outputs": [],
   "source": [
    "internet = internet.drop(labels='Unnamed: 0', axis=1)\n",
    "internet['session_date'] = pd.to_datetime(internet['session_date'], format='%Y-%m-%d')"
   ]
  },
  {
   "cell_type": "code",
   "execution_count": 14,
   "metadata": {},
   "outputs": [
    {
     "data": {
      "text/html": [
       "<div>\n",
       "<style scoped>\n",
       "    .dataframe tbody tr th:only-of-type {\n",
       "        vertical-align: middle;\n",
       "    }\n",
       "\n",
       "    .dataframe tbody tr th {\n",
       "        vertical-align: top;\n",
       "    }\n",
       "\n",
       "    .dataframe thead th {\n",
       "        text-align: right;\n",
       "    }\n",
       "</style>\n",
       "<table border=\"1\" class=\"dataframe\">\n",
       "  <thead>\n",
       "    <tr style=\"text-align: right;\">\n",
       "      <th></th>\n",
       "      <th>id</th>\n",
       "      <th>mb_used</th>\n",
       "      <th>session_date</th>\n",
       "      <th>user_id</th>\n",
       "    </tr>\n",
       "  </thead>\n",
       "  <tbody>\n",
       "    <tr>\n",
       "      <th>0</th>\n",
       "      <td>1000_0</td>\n",
       "      <td>112.95</td>\n",
       "      <td>2018-11-25</td>\n",
       "      <td>1000</td>\n",
       "    </tr>\n",
       "    <tr>\n",
       "      <th>1</th>\n",
       "      <td>1000_1</td>\n",
       "      <td>1052.81</td>\n",
       "      <td>2018-09-07</td>\n",
       "      <td>1000</td>\n",
       "    </tr>\n",
       "    <tr>\n",
       "      <th>2</th>\n",
       "      <td>1000_2</td>\n",
       "      <td>1197.26</td>\n",
       "      <td>2018-06-25</td>\n",
       "      <td>1000</td>\n",
       "    </tr>\n",
       "    <tr>\n",
       "      <th>3</th>\n",
       "      <td>1000_3</td>\n",
       "      <td>550.27</td>\n",
       "      <td>2018-08-22</td>\n",
       "      <td>1000</td>\n",
       "    </tr>\n",
       "    <tr>\n",
       "      <th>4</th>\n",
       "      <td>1000_4</td>\n",
       "      <td>302.56</td>\n",
       "      <td>2018-09-24</td>\n",
       "      <td>1000</td>\n",
       "    </tr>\n",
       "  </tbody>\n",
       "</table>\n",
       "</div>"
      ],
      "text/plain": [
       "       id  mb_used session_date  user_id\n",
       "0  1000_0   112.95   2018-11-25     1000\n",
       "1  1000_1  1052.81   2018-09-07     1000\n",
       "2  1000_2  1197.26   2018-06-25     1000\n",
       "3  1000_3   550.27   2018-08-22     1000\n",
       "4  1000_4   302.56   2018-09-24     1000"
      ]
     },
     "metadata": {},
     "output_type": "display_data"
    },
    {
     "name": "stdout",
     "output_type": "stream",
     "text": [
      "<class 'pandas.core.frame.DataFrame'>\n",
      "RangeIndex: 149396 entries, 0 to 149395\n",
      "Data columns (total 4 columns):\n",
      " #   Column        Non-Null Count   Dtype         \n",
      "---  ------        --------------   -----         \n",
      " 0   id            149396 non-null  object        \n",
      " 1   mb_used       149396 non-null  float64       \n",
      " 2   session_date  149396 non-null  datetime64[ns]\n",
      " 3   user_id       149396 non-null  int64         \n",
      "dtypes: datetime64[ns](1), float64(1), int64(1), object(1)\n",
      "memory usage: 4.6+ MB\n"
     ]
    }
   ],
   "source": [
    "display(internet.head(5))\n",
    "internet.info()"
   ]
  },
  {
   "cell_type": "markdown",
   "metadata": {},
   "source": [
    "### Messages"
   ]
  },
  {
   "cell_type": "markdown",
   "metadata": {},
   "source": [
    "Проверим на дубликаты:"
   ]
  },
  {
   "cell_type": "code",
   "execution_count": 15,
   "metadata": {},
   "outputs": [
    {
     "data": {
      "text/plain": [
       "0"
      ]
     },
     "execution_count": 15,
     "metadata": {},
     "output_type": "execute_result"
    }
   ],
   "source": [
    "messages.duplicated().sum()"
   ]
  },
  {
   "cell_type": "code",
   "execution_count": 16,
   "metadata": {},
   "outputs": [],
   "source": [
    "messages['message_date'] = pd.to_datetime(messages['message_date'], format='%Y-%m-%d')"
   ]
  },
  {
   "cell_type": "code",
   "execution_count": 17,
   "metadata": {},
   "outputs": [
    {
     "name": "stdout",
     "output_type": "stream",
     "text": [
      "<class 'pandas.core.frame.DataFrame'>\n",
      "RangeIndex: 123036 entries, 0 to 123035\n",
      "Data columns (total 3 columns):\n",
      " #   Column        Non-Null Count   Dtype         \n",
      "---  ------        --------------   -----         \n",
      " 0   id            123036 non-null  object        \n",
      " 1   message_date  123036 non-null  datetime64[ns]\n",
      " 2   user_id       123036 non-null  int64         \n",
      "dtypes: datetime64[ns](1), int64(1), object(1)\n",
      "memory usage: 2.8+ MB\n"
     ]
    }
   ],
   "source": [
    "messages.info()"
   ]
  },
  {
   "cell_type": "markdown",
   "metadata": {},
   "source": [
    "### Tariffs"
   ]
  },
  {
   "cell_type": "code",
   "execution_count": 18,
   "metadata": {},
   "outputs": [
    {
     "data": {
      "text/html": [
       "<div>\n",
       "<style scoped>\n",
       "    .dataframe tbody tr th:only-of-type {\n",
       "        vertical-align: middle;\n",
       "    }\n",
       "\n",
       "    .dataframe tbody tr th {\n",
       "        vertical-align: top;\n",
       "    }\n",
       "\n",
       "    .dataframe thead th {\n",
       "        text-align: right;\n",
       "    }\n",
       "</style>\n",
       "<table border=\"1\" class=\"dataframe\">\n",
       "  <thead>\n",
       "    <tr style=\"text-align: right;\">\n",
       "      <th></th>\n",
       "      <th>messages_included</th>\n",
       "      <th>gb_per_month_included</th>\n",
       "      <th>minutes_included</th>\n",
       "      <th>rub_monthly_fee</th>\n",
       "      <th>rub_per_gb</th>\n",
       "      <th>rub_per_message</th>\n",
       "      <th>rub_per_minute</th>\n",
       "      <th>tariff_name</th>\n",
       "    </tr>\n",
       "  </thead>\n",
       "  <tbody>\n",
       "    <tr>\n",
       "      <th>0</th>\n",
       "      <td>50</td>\n",
       "      <td>15</td>\n",
       "      <td>500</td>\n",
       "      <td>550</td>\n",
       "      <td>200</td>\n",
       "      <td>3</td>\n",
       "      <td>3</td>\n",
       "      <td>smart</td>\n",
       "    </tr>\n",
       "    <tr>\n",
       "      <th>1</th>\n",
       "      <td>1000</td>\n",
       "      <td>30</td>\n",
       "      <td>3000</td>\n",
       "      <td>1950</td>\n",
       "      <td>150</td>\n",
       "      <td>1</td>\n",
       "      <td>1</td>\n",
       "      <td>ultra</td>\n",
       "    </tr>\n",
       "  </tbody>\n",
       "</table>\n",
       "</div>"
      ],
      "text/plain": [
       "   messages_included  gb_per_month_included  minutes_included  \\\n",
       "0                 50                     15               500   \n",
       "1               1000                     30              3000   \n",
       "\n",
       "   rub_monthly_fee  rub_per_gb  rub_per_message  rub_per_minute tariff_name  \n",
       "0              550         200                3               3       smart  \n",
       "1             1950         150                1               1       ultra  "
      ]
     },
     "execution_count": 18,
     "metadata": {},
     "output_type": "execute_result"
    }
   ],
   "source": [
    "tariffs['mb_per_month_included'] = (tariffs['mb_per_month_included'] / 1024).astype('int')\n",
    "tariffs = tariffs.rename(columns={'mb_per_month_included': \"gb_per_month_included\"})\n",
    "tariffs.head(10)"
   ]
  },
  {
   "cell_type": "markdown",
   "metadata": {},
   "source": [
    "### Users"
   ]
  },
  {
   "cell_type": "markdown",
   "metadata": {},
   "source": [
    "Проверим на дубликаты:"
   ]
  },
  {
   "cell_type": "code",
   "execution_count": 19,
   "metadata": {},
   "outputs": [
    {
     "data": {
      "text/plain": [
       "0"
      ]
     },
     "execution_count": 19,
     "metadata": {},
     "output_type": "execute_result"
    }
   ],
   "source": [
    "users.duplicated().sum()"
   ]
  },
  {
   "cell_type": "code",
   "execution_count": 20,
   "metadata": {},
   "outputs": [],
   "source": [
    "users['reg_date'] = pd.to_datetime(users['reg_date'], format='%Y-%m-%d')\n",
    "users['churn_date'] = pd.to_datetime(users['churn_date'], format='%Y-%m-%d')"
   ]
  },
  {
   "cell_type": "code",
   "execution_count": 21,
   "metadata": {},
   "outputs": [
    {
     "data": {
      "text/html": [
       "<div>\n",
       "<style scoped>\n",
       "    .dataframe tbody tr th:only-of-type {\n",
       "        vertical-align: middle;\n",
       "    }\n",
       "\n",
       "    .dataframe tbody tr th {\n",
       "        vertical-align: top;\n",
       "    }\n",
       "\n",
       "    .dataframe thead th {\n",
       "        text-align: right;\n",
       "    }\n",
       "</style>\n",
       "<table border=\"1\" class=\"dataframe\">\n",
       "  <thead>\n",
       "    <tr style=\"text-align: right;\">\n",
       "      <th></th>\n",
       "      <th>user_id</th>\n",
       "      <th>age</th>\n",
       "      <th>churn_date</th>\n",
       "      <th>city</th>\n",
       "      <th>first_name</th>\n",
       "      <th>last_name</th>\n",
       "      <th>reg_date</th>\n",
       "      <th>tariff</th>\n",
       "    </tr>\n",
       "  </thead>\n",
       "  <tbody>\n",
       "    <tr>\n",
       "      <th>0</th>\n",
       "      <td>1000</td>\n",
       "      <td>52</td>\n",
       "      <td>NaT</td>\n",
       "      <td>Краснодар</td>\n",
       "      <td>Рафаил</td>\n",
       "      <td>Верещагин</td>\n",
       "      <td>2018-05-25</td>\n",
       "      <td>ultra</td>\n",
       "    </tr>\n",
       "    <tr>\n",
       "      <th>1</th>\n",
       "      <td>1001</td>\n",
       "      <td>41</td>\n",
       "      <td>NaT</td>\n",
       "      <td>Москва</td>\n",
       "      <td>Иван</td>\n",
       "      <td>Ежов</td>\n",
       "      <td>2018-11-01</td>\n",
       "      <td>smart</td>\n",
       "    </tr>\n",
       "    <tr>\n",
       "      <th>2</th>\n",
       "      <td>1002</td>\n",
       "      <td>59</td>\n",
       "      <td>NaT</td>\n",
       "      <td>Стерлитамак</td>\n",
       "      <td>Евгений</td>\n",
       "      <td>Абрамович</td>\n",
       "      <td>2018-06-17</td>\n",
       "      <td>smart</td>\n",
       "    </tr>\n",
       "    <tr>\n",
       "      <th>3</th>\n",
       "      <td>1003</td>\n",
       "      <td>23</td>\n",
       "      <td>NaT</td>\n",
       "      <td>Москва</td>\n",
       "      <td>Белла</td>\n",
       "      <td>Белякова</td>\n",
       "      <td>2018-08-17</td>\n",
       "      <td>ultra</td>\n",
       "    </tr>\n",
       "    <tr>\n",
       "      <th>4</th>\n",
       "      <td>1004</td>\n",
       "      <td>68</td>\n",
       "      <td>NaT</td>\n",
       "      <td>Новокузнецк</td>\n",
       "      <td>Татьяна</td>\n",
       "      <td>Авдеенко</td>\n",
       "      <td>2018-05-14</td>\n",
       "      <td>ultra</td>\n",
       "    </tr>\n",
       "    <tr>\n",
       "      <th>5</th>\n",
       "      <td>1005</td>\n",
       "      <td>67</td>\n",
       "      <td>NaT</td>\n",
       "      <td>Набережные Челны</td>\n",
       "      <td>Афанасий</td>\n",
       "      <td>Горлов</td>\n",
       "      <td>2018-01-25</td>\n",
       "      <td>smart</td>\n",
       "    </tr>\n",
       "    <tr>\n",
       "      <th>6</th>\n",
       "      <td>1006</td>\n",
       "      <td>21</td>\n",
       "      <td>NaT</td>\n",
       "      <td>Ульяновск</td>\n",
       "      <td>Леонид</td>\n",
       "      <td>Ермолаев</td>\n",
       "      <td>2018-02-26</td>\n",
       "      <td>smart</td>\n",
       "    </tr>\n",
       "    <tr>\n",
       "      <th>7</th>\n",
       "      <td>1007</td>\n",
       "      <td>65</td>\n",
       "      <td>NaT</td>\n",
       "      <td>Москва</td>\n",
       "      <td>Юна</td>\n",
       "      <td>Березина</td>\n",
       "      <td>2018-04-19</td>\n",
       "      <td>smart</td>\n",
       "    </tr>\n",
       "    <tr>\n",
       "      <th>8</th>\n",
       "      <td>1008</td>\n",
       "      <td>63</td>\n",
       "      <td>NaT</td>\n",
       "      <td>Челябинск</td>\n",
       "      <td>Рустэм</td>\n",
       "      <td>Пономарёв</td>\n",
       "      <td>2018-12-19</td>\n",
       "      <td>smart</td>\n",
       "    </tr>\n",
       "    <tr>\n",
       "      <th>9</th>\n",
       "      <td>1009</td>\n",
       "      <td>24</td>\n",
       "      <td>NaT</td>\n",
       "      <td>Пермь</td>\n",
       "      <td>Василиса</td>\n",
       "      <td>Блинова</td>\n",
       "      <td>2018-03-22</td>\n",
       "      <td>smart</td>\n",
       "    </tr>\n",
       "  </tbody>\n",
       "</table>\n",
       "</div>"
      ],
      "text/plain": [
       "   user_id  age churn_date              city first_name  last_name   reg_date  \\\n",
       "0     1000   52        NaT         Краснодар     Рафаил  Верещагин 2018-05-25   \n",
       "1     1001   41        NaT            Москва       Иван       Ежов 2018-11-01   \n",
       "2     1002   59        NaT       Стерлитамак    Евгений  Абрамович 2018-06-17   \n",
       "3     1003   23        NaT            Москва      Белла   Белякова 2018-08-17   \n",
       "4     1004   68        NaT       Новокузнецк    Татьяна   Авдеенко 2018-05-14   \n",
       "5     1005   67        NaT  Набережные Челны   Афанасий     Горлов 2018-01-25   \n",
       "6     1006   21        NaT         Ульяновск     Леонид   Ермолаев 2018-02-26   \n",
       "7     1007   65        NaT            Москва        Юна   Березина 2018-04-19   \n",
       "8     1008   63        NaT         Челябинск     Рустэм  Пономарёв 2018-12-19   \n",
       "9     1009   24        NaT             Пермь   Василиса    Блинова 2018-03-22   \n",
       "\n",
       "  tariff  \n",
       "0  ultra  \n",
       "1  smart  \n",
       "2  smart  \n",
       "3  ultra  \n",
       "4  ultra  \n",
       "5  smart  \n",
       "6  smart  \n",
       "7  smart  \n",
       "8  smart  \n",
       "9  smart  "
      ]
     },
     "metadata": {},
     "output_type": "display_data"
    },
    {
     "name": "stdout",
     "output_type": "stream",
     "text": [
      "<class 'pandas.core.frame.DataFrame'>\n",
      "RangeIndex: 500 entries, 0 to 499\n",
      "Data columns (total 8 columns):\n",
      " #   Column      Non-Null Count  Dtype         \n",
      "---  ------      --------------  -----         \n",
      " 0   user_id     500 non-null    int64         \n",
      " 1   age         500 non-null    int64         \n",
      " 2   churn_date  38 non-null     datetime64[ns]\n",
      " 3   city        500 non-null    object        \n",
      " 4   first_name  500 non-null    object        \n",
      " 5   last_name   500 non-null    object        \n",
      " 6   reg_date    500 non-null    datetime64[ns]\n",
      " 7   tariff      500 non-null    object        \n",
      "dtypes: datetime64[ns](2), int64(2), object(4)\n",
      "memory usage: 31.4+ KB\n"
     ]
    }
   ],
   "source": [
    "display(users.head(10))\n",
    "users.info()"
   ]
  },
  {
   "cell_type": "code",
   "execution_count": 22,
   "metadata": {},
   "outputs": [
    {
     "data": {
      "text/plain": [
       "array([18, 19, 20, 21, 22, 23, 24, 25, 26, 27, 28, 29, 30, 31, 32, 33, 34,\n",
       "       35, 36, 37, 38, 39, 40, 41, 42, 43, 44, 45, 46, 47, 48, 49, 50, 51,\n",
       "       52, 53, 54, 55, 56, 57, 58, 59, 60, 61, 62, 63, 64, 65, 66, 67, 68,\n",
       "       69, 70, 71, 72, 73, 74, 75])"
      ]
     },
     "execution_count": 22,
     "metadata": {},
     "output_type": "execute_result"
    }
   ],
   "source": [
    "users['age'].sort_values().unique()"
   ]
  },
  {
   "cell_type": "code",
   "execution_count": 23,
   "metadata": {},
   "outputs": [
    {
     "data": {
      "text/plain": [
       "array(['ultra', 'smart'], dtype=object)"
      ]
     },
     "execution_count": 23,
     "metadata": {},
     "output_type": "execute_result"
    }
   ],
   "source": [
    "users['tariff'].unique()"
   ]
  },
  {
   "cell_type": "markdown",
   "metadata": {},
   "source": [
    "### Статистики для каждого пользователя:"
   ]
  },
  {
   "cell_type": "markdown",
   "metadata": {},
   "source": [
    "##### Количество сделанных звонков и израсходованных минут разговора по месяцам"
   ]
  },
  {
   "cell_type": "code",
   "execution_count": 24,
   "metadata": {},
   "outputs": [],
   "source": [
    "calls['month'] = calls['call_date'].dt.month"
   ]
  },
  {
   "cell_type": "code",
   "execution_count": 25,
   "metadata": {
    "scrolled": true
   },
   "outputs": [
    {
     "data": {
      "text/html": [
       "<div>\n",
       "<style scoped>\n",
       "    .dataframe tbody tr th:only-of-type {\n",
       "        vertical-align: middle;\n",
       "    }\n",
       "\n",
       "    .dataframe tbody tr th {\n",
       "        vertical-align: top;\n",
       "    }\n",
       "\n",
       "    .dataframe thead th {\n",
       "        text-align: right;\n",
       "    }\n",
       "</style>\n",
       "<table border=\"1\" class=\"dataframe\">\n",
       "  <thead>\n",
       "    <tr style=\"text-align: right;\">\n",
       "      <th></th>\n",
       "      <th>user_id</th>\n",
       "      <th>month</th>\n",
       "      <th>calls_count</th>\n",
       "      <th>calls_sum</th>\n",
       "    </tr>\n",
       "  </thead>\n",
       "  <tbody>\n",
       "    <tr>\n",
       "      <th>0</th>\n",
       "      <td>1000</td>\n",
       "      <td>5</td>\n",
       "      <td>22</td>\n",
       "      <td>159</td>\n",
       "    </tr>\n",
       "    <tr>\n",
       "      <th>1</th>\n",
       "      <td>1000</td>\n",
       "      <td>6</td>\n",
       "      <td>43</td>\n",
       "      <td>172</td>\n",
       "    </tr>\n",
       "    <tr>\n",
       "      <th>2</th>\n",
       "      <td>1000</td>\n",
       "      <td>7</td>\n",
       "      <td>47</td>\n",
       "      <td>340</td>\n",
       "    </tr>\n",
       "    <tr>\n",
       "      <th>3</th>\n",
       "      <td>1000</td>\n",
       "      <td>8</td>\n",
       "      <td>52</td>\n",
       "      <td>408</td>\n",
       "    </tr>\n",
       "    <tr>\n",
       "      <th>4</th>\n",
       "      <td>1000</td>\n",
       "      <td>9</td>\n",
       "      <td>58</td>\n",
       "      <td>466</td>\n",
       "    </tr>\n",
       "    <tr>\n",
       "      <th>5</th>\n",
       "      <td>1000</td>\n",
       "      <td>10</td>\n",
       "      <td>57</td>\n",
       "      <td>350</td>\n",
       "    </tr>\n",
       "    <tr>\n",
       "      <th>6</th>\n",
       "      <td>1000</td>\n",
       "      <td>11</td>\n",
       "      <td>43</td>\n",
       "      <td>338</td>\n",
       "    </tr>\n",
       "    <tr>\n",
       "      <th>7</th>\n",
       "      <td>1000</td>\n",
       "      <td>12</td>\n",
       "      <td>46</td>\n",
       "      <td>333</td>\n",
       "    </tr>\n",
       "    <tr>\n",
       "      <th>8</th>\n",
       "      <td>1001</td>\n",
       "      <td>11</td>\n",
       "      <td>59</td>\n",
       "      <td>430</td>\n",
       "    </tr>\n",
       "    <tr>\n",
       "      <th>9</th>\n",
       "      <td>1001</td>\n",
       "      <td>12</td>\n",
       "      <td>63</td>\n",
       "      <td>414</td>\n",
       "    </tr>\n",
       "  </tbody>\n",
       "</table>\n",
       "</div>"
      ],
      "text/plain": [
       "   user_id  month  calls_count  calls_sum\n",
       "0     1000      5           22        159\n",
       "1     1000      6           43        172\n",
       "2     1000      7           47        340\n",
       "3     1000      8           52        408\n",
       "4     1000      9           58        466\n",
       "5     1000     10           57        350\n",
       "6     1000     11           43        338\n",
       "7     1000     12           46        333\n",
       "8     1001     11           59        430\n",
       "9     1001     12           63        414"
      ]
     },
     "execution_count": 25,
     "metadata": {},
     "output_type": "execute_result"
    }
   ],
   "source": [
    "user_call_sum = calls.groupby(['user_id', 'month'])['duration'].agg(['count', 'sum'])\n",
    "user_call_sum = user_call_sum.rename(columns={'count': 'calls_count','sum': 'calls_sum'})\\\n",
    "                             .reset_index()\n",
    "user_call_sum.head(10)"
   ]
  },
  {
   "cell_type": "markdown",
   "metadata": {},
   "source": [
    "##### Количество отправленных сообщений по месяцам"
   ]
  },
  {
   "cell_type": "code",
   "execution_count": 26,
   "metadata": {},
   "outputs": [
    {
     "data": {
      "text/html": [
       "<div>\n",
       "<style scoped>\n",
       "    .dataframe tbody tr th:only-of-type {\n",
       "        vertical-align: middle;\n",
       "    }\n",
       "\n",
       "    .dataframe tbody tr th {\n",
       "        vertical-align: top;\n",
       "    }\n",
       "\n",
       "    .dataframe thead th {\n",
       "        text-align: right;\n",
       "    }\n",
       "</style>\n",
       "<table border=\"1\" class=\"dataframe\">\n",
       "  <thead>\n",
       "    <tr style=\"text-align: right;\">\n",
       "      <th></th>\n",
       "      <th>id</th>\n",
       "      <th>message_date</th>\n",
       "      <th>user_id</th>\n",
       "      <th>month</th>\n",
       "    </tr>\n",
       "  </thead>\n",
       "  <tbody>\n",
       "    <tr>\n",
       "      <th>0</th>\n",
       "      <td>1000_0</td>\n",
       "      <td>2018-06-27</td>\n",
       "      <td>1000</td>\n",
       "      <td>6</td>\n",
       "    </tr>\n",
       "    <tr>\n",
       "      <th>1</th>\n",
       "      <td>1000_1</td>\n",
       "      <td>2018-10-08</td>\n",
       "      <td>1000</td>\n",
       "      <td>10</td>\n",
       "    </tr>\n",
       "    <tr>\n",
       "      <th>2</th>\n",
       "      <td>1000_2</td>\n",
       "      <td>2018-08-04</td>\n",
       "      <td>1000</td>\n",
       "      <td>8</td>\n",
       "    </tr>\n",
       "    <tr>\n",
       "      <th>3</th>\n",
       "      <td>1000_3</td>\n",
       "      <td>2018-06-16</td>\n",
       "      <td>1000</td>\n",
       "      <td>6</td>\n",
       "    </tr>\n",
       "    <tr>\n",
       "      <th>4</th>\n",
       "      <td>1000_4</td>\n",
       "      <td>2018-12-05</td>\n",
       "      <td>1000</td>\n",
       "      <td>12</td>\n",
       "    </tr>\n",
       "    <tr>\n",
       "      <th>5</th>\n",
       "      <td>1000_5</td>\n",
       "      <td>2018-06-20</td>\n",
       "      <td>1000</td>\n",
       "      <td>6</td>\n",
       "    </tr>\n",
       "    <tr>\n",
       "      <th>6</th>\n",
       "      <td>1000_6</td>\n",
       "      <td>2018-11-19</td>\n",
       "      <td>1000</td>\n",
       "      <td>11</td>\n",
       "    </tr>\n",
       "    <tr>\n",
       "      <th>7</th>\n",
       "      <td>1000_7</td>\n",
       "      <td>2018-10-29</td>\n",
       "      <td>1000</td>\n",
       "      <td>10</td>\n",
       "    </tr>\n",
       "    <tr>\n",
       "      <th>8</th>\n",
       "      <td>1000_8</td>\n",
       "      <td>2018-06-25</td>\n",
       "      <td>1000</td>\n",
       "      <td>6</td>\n",
       "    </tr>\n",
       "    <tr>\n",
       "      <th>9</th>\n",
       "      <td>1000_9</td>\n",
       "      <td>2018-12-18</td>\n",
       "      <td>1000</td>\n",
       "      <td>12</td>\n",
       "    </tr>\n",
       "  </tbody>\n",
       "</table>\n",
       "</div>"
      ],
      "text/plain": [
       "       id message_date  user_id  month\n",
       "0  1000_0   2018-06-27     1000      6\n",
       "1  1000_1   2018-10-08     1000     10\n",
       "2  1000_2   2018-08-04     1000      8\n",
       "3  1000_3   2018-06-16     1000      6\n",
       "4  1000_4   2018-12-05     1000     12\n",
       "5  1000_5   2018-06-20     1000      6\n",
       "6  1000_6   2018-11-19     1000     11\n",
       "7  1000_7   2018-10-29     1000     10\n",
       "8  1000_8   2018-06-25     1000      6\n",
       "9  1000_9   2018-12-18     1000     12"
      ]
     },
     "execution_count": 26,
     "metadata": {},
     "output_type": "execute_result"
    }
   ],
   "source": [
    "messages['month'] = messages['message_date'].dt.month\n",
    "messages.head(10)"
   ]
  },
  {
   "cell_type": "code",
   "execution_count": 27,
   "metadata": {},
   "outputs": [
    {
     "data": {
      "text/html": [
       "<div>\n",
       "<style scoped>\n",
       "    .dataframe tbody tr th:only-of-type {\n",
       "        vertical-align: middle;\n",
       "    }\n",
       "\n",
       "    .dataframe tbody tr th {\n",
       "        vertical-align: top;\n",
       "    }\n",
       "\n",
       "    .dataframe thead th {\n",
       "        text-align: right;\n",
       "    }\n",
       "</style>\n",
       "<table border=\"1\" class=\"dataframe\">\n",
       "  <thead>\n",
       "    <tr style=\"text-align: right;\">\n",
       "      <th></th>\n",
       "      <th>user_id</th>\n",
       "      <th>month</th>\n",
       "      <th>messages_sent</th>\n",
       "    </tr>\n",
       "  </thead>\n",
       "  <tbody>\n",
       "    <tr>\n",
       "      <th>0</th>\n",
       "      <td>1000</td>\n",
       "      <td>5</td>\n",
       "      <td>22</td>\n",
       "    </tr>\n",
       "    <tr>\n",
       "      <th>1</th>\n",
       "      <td>1000</td>\n",
       "      <td>6</td>\n",
       "      <td>43</td>\n",
       "    </tr>\n",
       "    <tr>\n",
       "      <th>2</th>\n",
       "      <td>1000</td>\n",
       "      <td>7</td>\n",
       "      <td>47</td>\n",
       "    </tr>\n",
       "    <tr>\n",
       "      <th>3</th>\n",
       "      <td>1000</td>\n",
       "      <td>8</td>\n",
       "      <td>52</td>\n",
       "    </tr>\n",
       "    <tr>\n",
       "      <th>4</th>\n",
       "      <td>1000</td>\n",
       "      <td>9</td>\n",
       "      <td>58</td>\n",
       "    </tr>\n",
       "    <tr>\n",
       "      <th>5</th>\n",
       "      <td>1000</td>\n",
       "      <td>10</td>\n",
       "      <td>57</td>\n",
       "    </tr>\n",
       "    <tr>\n",
       "      <th>6</th>\n",
       "      <td>1000</td>\n",
       "      <td>11</td>\n",
       "      <td>43</td>\n",
       "    </tr>\n",
       "    <tr>\n",
       "      <th>7</th>\n",
       "      <td>1000</td>\n",
       "      <td>12</td>\n",
       "      <td>46</td>\n",
       "    </tr>\n",
       "    <tr>\n",
       "      <th>8</th>\n",
       "      <td>1001</td>\n",
       "      <td>11</td>\n",
       "      <td>59</td>\n",
       "    </tr>\n",
       "    <tr>\n",
       "      <th>9</th>\n",
       "      <td>1001</td>\n",
       "      <td>12</td>\n",
       "      <td>63</td>\n",
       "    </tr>\n",
       "  </tbody>\n",
       "</table>\n",
       "</div>"
      ],
      "text/plain": [
       "   user_id  month  messages_sent\n",
       "0     1000      5             22\n",
       "1     1000      6             43\n",
       "2     1000      7             47\n",
       "3     1000      8             52\n",
       "4     1000      9             58\n",
       "5     1000     10             57\n",
       "6     1000     11             43\n",
       "7     1000     12             46\n",
       "8     1001     11             59\n",
       "9     1001     12             63"
      ]
     },
     "execution_count": 27,
     "metadata": {},
     "output_type": "execute_result"
    }
   ],
   "source": [
    "user_messages_count = calls.groupby(['user_id', 'month'])['id'].agg('count')\n",
    "user_messages_count = pd.DataFrame(user_messages_count)\\\n",
    "                        .rename(columns={'id': 'messages_sent'})\\\n",
    "                        .reset_index()\n",
    "user_messages_count.head(10)"
   ]
  },
  {
   "cell_type": "markdown",
   "metadata": {},
   "source": [
    "##### Объем израсходованного интернет-трафика по месяцам"
   ]
  },
  {
   "cell_type": "code",
   "execution_count": 28,
   "metadata": {},
   "outputs": [
    {
     "data": {
      "text/html": [
       "<div>\n",
       "<style scoped>\n",
       "    .dataframe tbody tr th:only-of-type {\n",
       "        vertical-align: middle;\n",
       "    }\n",
       "\n",
       "    .dataframe tbody tr th {\n",
       "        vertical-align: top;\n",
       "    }\n",
       "\n",
       "    .dataframe thead th {\n",
       "        text-align: right;\n",
       "    }\n",
       "</style>\n",
       "<table border=\"1\" class=\"dataframe\">\n",
       "  <thead>\n",
       "    <tr style=\"text-align: right;\">\n",
       "      <th></th>\n",
       "      <th>id</th>\n",
       "      <th>mb_used</th>\n",
       "      <th>session_date</th>\n",
       "      <th>user_id</th>\n",
       "    </tr>\n",
       "  </thead>\n",
       "  <tbody>\n",
       "    <tr>\n",
       "      <th>0</th>\n",
       "      <td>1000_0</td>\n",
       "      <td>112.95</td>\n",
       "      <td>2018-11-25</td>\n",
       "      <td>1000</td>\n",
       "    </tr>\n",
       "    <tr>\n",
       "      <th>1</th>\n",
       "      <td>1000_1</td>\n",
       "      <td>1052.81</td>\n",
       "      <td>2018-09-07</td>\n",
       "      <td>1000</td>\n",
       "    </tr>\n",
       "    <tr>\n",
       "      <th>2</th>\n",
       "      <td>1000_2</td>\n",
       "      <td>1197.26</td>\n",
       "      <td>2018-06-25</td>\n",
       "      <td>1000</td>\n",
       "    </tr>\n",
       "    <tr>\n",
       "      <th>3</th>\n",
       "      <td>1000_3</td>\n",
       "      <td>550.27</td>\n",
       "      <td>2018-08-22</td>\n",
       "      <td>1000</td>\n",
       "    </tr>\n",
       "    <tr>\n",
       "      <th>4</th>\n",
       "      <td>1000_4</td>\n",
       "      <td>302.56</td>\n",
       "      <td>2018-09-24</td>\n",
       "      <td>1000</td>\n",
       "    </tr>\n",
       "    <tr>\n",
       "      <th>...</th>\n",
       "      <td>...</td>\n",
       "      <td>...</td>\n",
       "      <td>...</td>\n",
       "      <td>...</td>\n",
       "    </tr>\n",
       "    <tr>\n",
       "      <th>149391</th>\n",
       "      <td>1499_152</td>\n",
       "      <td>318.90</td>\n",
       "      <td>2018-10-03</td>\n",
       "      <td>1499</td>\n",
       "    </tr>\n",
       "    <tr>\n",
       "      <th>149392</th>\n",
       "      <td>1499_153</td>\n",
       "      <td>490.13</td>\n",
       "      <td>2018-12-14</td>\n",
       "      <td>1499</td>\n",
       "    </tr>\n",
       "    <tr>\n",
       "      <th>149393</th>\n",
       "      <td>1499_154</td>\n",
       "      <td>0.00</td>\n",
       "      <td>2018-10-27</td>\n",
       "      <td>1499</td>\n",
       "    </tr>\n",
       "    <tr>\n",
       "      <th>149394</th>\n",
       "      <td>1499_155</td>\n",
       "      <td>1246.32</td>\n",
       "      <td>2018-11-26</td>\n",
       "      <td>1499</td>\n",
       "    </tr>\n",
       "    <tr>\n",
       "      <th>149395</th>\n",
       "      <td>1499_156</td>\n",
       "      <td>544.37</td>\n",
       "      <td>2018-10-26</td>\n",
       "      <td>1499</td>\n",
       "    </tr>\n",
       "  </tbody>\n",
       "</table>\n",
       "<p>149396 rows × 4 columns</p>\n",
       "</div>"
      ],
      "text/plain": [
       "              id  mb_used session_date  user_id\n",
       "0         1000_0   112.95   2018-11-25     1000\n",
       "1         1000_1  1052.81   2018-09-07     1000\n",
       "2         1000_2  1197.26   2018-06-25     1000\n",
       "3         1000_3   550.27   2018-08-22     1000\n",
       "4         1000_4   302.56   2018-09-24     1000\n",
       "...          ...      ...          ...      ...\n",
       "149391  1499_152   318.90   2018-10-03     1499\n",
       "149392  1499_153   490.13   2018-12-14     1499\n",
       "149393  1499_154     0.00   2018-10-27     1499\n",
       "149394  1499_155  1246.32   2018-11-26     1499\n",
       "149395  1499_156   544.37   2018-10-26     1499\n",
       "\n",
       "[149396 rows x 4 columns]"
      ]
     },
     "execution_count": 28,
     "metadata": {},
     "output_type": "execute_result"
    }
   ],
   "source": [
    "internet"
   ]
  },
  {
   "cell_type": "code",
   "execution_count": 29,
   "metadata": {},
   "outputs": [
    {
     "data": {
      "text/html": [
       "<div>\n",
       "<style scoped>\n",
       "    .dataframe tbody tr th:only-of-type {\n",
       "        vertical-align: middle;\n",
       "    }\n",
       "\n",
       "    .dataframe tbody tr th {\n",
       "        vertical-align: top;\n",
       "    }\n",
       "\n",
       "    .dataframe thead th {\n",
       "        text-align: right;\n",
       "    }\n",
       "</style>\n",
       "<table border=\"1\" class=\"dataframe\">\n",
       "  <thead>\n",
       "    <tr style=\"text-align: right;\">\n",
       "      <th></th>\n",
       "      <th>user_id</th>\n",
       "      <th>month</th>\n",
       "      <th>mb_used</th>\n",
       "    </tr>\n",
       "  </thead>\n",
       "  <tbody>\n",
       "    <tr>\n",
       "      <th>0</th>\n",
       "      <td>1000</td>\n",
       "      <td>5</td>\n",
       "      <td>2253.49</td>\n",
       "    </tr>\n",
       "    <tr>\n",
       "      <th>1</th>\n",
       "      <td>1000</td>\n",
       "      <td>6</td>\n",
       "      <td>23233.77</td>\n",
       "    </tr>\n",
       "    <tr>\n",
       "      <th>2</th>\n",
       "      <td>1000</td>\n",
       "      <td>7</td>\n",
       "      <td>14003.64</td>\n",
       "    </tr>\n",
       "    <tr>\n",
       "      <th>3</th>\n",
       "      <td>1000</td>\n",
       "      <td>8</td>\n",
       "      <td>14055.93</td>\n",
       "    </tr>\n",
       "    <tr>\n",
       "      <th>4</th>\n",
       "      <td>1000</td>\n",
       "      <td>9</td>\n",
       "      <td>14568.91</td>\n",
       "    </tr>\n",
       "    <tr>\n",
       "      <th>...</th>\n",
       "      <td>...</td>\n",
       "      <td>...</td>\n",
       "      <td>...</td>\n",
       "    </tr>\n",
       "    <tr>\n",
       "      <th>3198</th>\n",
       "      <td>1498</td>\n",
       "      <td>10</td>\n",
       "      <td>20579.36</td>\n",
       "    </tr>\n",
       "    <tr>\n",
       "      <th>3199</th>\n",
       "      <td>1499</td>\n",
       "      <td>9</td>\n",
       "      <td>1845.75</td>\n",
       "    </tr>\n",
       "    <tr>\n",
       "      <th>3200</th>\n",
       "      <td>1499</td>\n",
       "      <td>10</td>\n",
       "      <td>17788.51</td>\n",
       "    </tr>\n",
       "    <tr>\n",
       "      <th>3201</th>\n",
       "      <td>1499</td>\n",
       "      <td>11</td>\n",
       "      <td>17963.31</td>\n",
       "    </tr>\n",
       "    <tr>\n",
       "      <th>3202</th>\n",
       "      <td>1499</td>\n",
       "      <td>12</td>\n",
       "      <td>13055.58</td>\n",
       "    </tr>\n",
       "  </tbody>\n",
       "</table>\n",
       "<p>3203 rows × 3 columns</p>\n",
       "</div>"
      ],
      "text/plain": [
       "      user_id  month   mb_used\n",
       "0        1000      5   2253.49\n",
       "1        1000      6  23233.77\n",
       "2        1000      7  14003.64\n",
       "3        1000      8  14055.93\n",
       "4        1000      9  14568.91\n",
       "...       ...    ...       ...\n",
       "3198     1498     10  20579.36\n",
       "3199     1499      9   1845.75\n",
       "3200     1499     10  17788.51\n",
       "3201     1499     11  17963.31\n",
       "3202     1499     12  13055.58\n",
       "\n",
       "[3203 rows x 3 columns]"
      ]
     },
     "execution_count": 29,
     "metadata": {},
     "output_type": "execute_result"
    }
   ],
   "source": [
    "internet['month'] = internet['session_date'].dt.month\n",
    "user_internet_sum = internet.groupby(['user_id', 'month'])['mb_used'].agg('sum')\n",
    "user_internet_sum = pd.DataFrame(user_internet_sum)\\\n",
    "                      .reset_index()\n",
    "user_internet_sum"
   ]
  },
  {
   "cell_type": "markdown",
   "metadata": {},
   "source": [
    "## Сводный датасет:"
   ]
  },
  {
   "cell_type": "markdown",
   "metadata": {},
   "source": [
    "Объединим датасеты \"user_call_sum\", \"user_messages_count\", \"user_internet_sum\", \"users\" в сводную таблицу:"
   ]
  },
  {
   "cell_type": "code",
   "execution_count": 68,
   "metadata": {},
   "outputs": [
    {
     "data": {
      "text/html": [
       "<div>\n",
       "<style scoped>\n",
       "    .dataframe tbody tr th:only-of-type {\n",
       "        vertical-align: middle;\n",
       "    }\n",
       "\n",
       "    .dataframe tbody tr th {\n",
       "        vertical-align: top;\n",
       "    }\n",
       "\n",
       "    .dataframe thead th {\n",
       "        text-align: right;\n",
       "    }\n",
       "</style>\n",
       "<table border=\"1\" class=\"dataframe\">\n",
       "  <thead>\n",
       "    <tr style=\"text-align: right;\">\n",
       "      <th></th>\n",
       "      <th>user_id</th>\n",
       "      <th>month</th>\n",
       "      <th>calls_count</th>\n",
       "      <th>calls_sum</th>\n",
       "      <th>messages_sent</th>\n",
       "      <th>mb_used</th>\n",
       "      <th>age</th>\n",
       "      <th>churn_date</th>\n",
       "      <th>city</th>\n",
       "      <th>first_name</th>\n",
       "      <th>last_name</th>\n",
       "      <th>reg_date</th>\n",
       "      <th>tariff</th>\n",
       "    </tr>\n",
       "  </thead>\n",
       "  <tbody>\n",
       "    <tr>\n",
       "      <th>0</th>\n",
       "      <td>1000</td>\n",
       "      <td>5.0</td>\n",
       "      <td>22.0</td>\n",
       "      <td>159.0</td>\n",
       "      <td>22.0</td>\n",
       "      <td>2253.49</td>\n",
       "      <td>52</td>\n",
       "      <td>NaT</td>\n",
       "      <td>Краснодар</td>\n",
       "      <td>Рафаил</td>\n",
       "      <td>Верещагин</td>\n",
       "      <td>2018-05-25</td>\n",
       "      <td>ultra</td>\n",
       "    </tr>\n",
       "    <tr>\n",
       "      <th>1</th>\n",
       "      <td>1000</td>\n",
       "      <td>6.0</td>\n",
       "      <td>43.0</td>\n",
       "      <td>172.0</td>\n",
       "      <td>43.0</td>\n",
       "      <td>23233.77</td>\n",
       "      <td>52</td>\n",
       "      <td>NaT</td>\n",
       "      <td>Краснодар</td>\n",
       "      <td>Рафаил</td>\n",
       "      <td>Верещагин</td>\n",
       "      <td>2018-05-25</td>\n",
       "      <td>ultra</td>\n",
       "    </tr>\n",
       "    <tr>\n",
       "      <th>2</th>\n",
       "      <td>1000</td>\n",
       "      <td>7.0</td>\n",
       "      <td>47.0</td>\n",
       "      <td>340.0</td>\n",
       "      <td>47.0</td>\n",
       "      <td>14003.64</td>\n",
       "      <td>52</td>\n",
       "      <td>NaT</td>\n",
       "      <td>Краснодар</td>\n",
       "      <td>Рафаил</td>\n",
       "      <td>Верещагин</td>\n",
       "      <td>2018-05-25</td>\n",
       "      <td>ultra</td>\n",
       "    </tr>\n",
       "    <tr>\n",
       "      <th>3</th>\n",
       "      <td>1000</td>\n",
       "      <td>8.0</td>\n",
       "      <td>52.0</td>\n",
       "      <td>408.0</td>\n",
       "      <td>52.0</td>\n",
       "      <td>14055.93</td>\n",
       "      <td>52</td>\n",
       "      <td>NaT</td>\n",
       "      <td>Краснодар</td>\n",
       "      <td>Рафаил</td>\n",
       "      <td>Верещагин</td>\n",
       "      <td>2018-05-25</td>\n",
       "      <td>ultra</td>\n",
       "    </tr>\n",
       "    <tr>\n",
       "      <th>4</th>\n",
       "      <td>1000</td>\n",
       "      <td>9.0</td>\n",
       "      <td>58.0</td>\n",
       "      <td>466.0</td>\n",
       "      <td>58.0</td>\n",
       "      <td>14568.91</td>\n",
       "      <td>52</td>\n",
       "      <td>NaT</td>\n",
       "      <td>Краснодар</td>\n",
       "      <td>Рафаил</td>\n",
       "      <td>Верещагин</td>\n",
       "      <td>2018-05-25</td>\n",
       "      <td>ultra</td>\n",
       "    </tr>\n",
       "  </tbody>\n",
       "</table>\n",
       "</div>"
      ],
      "text/plain": [
       "   user_id  month  calls_count  calls_sum  messages_sent   mb_used  age  \\\n",
       "0     1000    5.0         22.0      159.0           22.0   2253.49   52   \n",
       "1     1000    6.0         43.0      172.0           43.0  23233.77   52   \n",
       "2     1000    7.0         47.0      340.0           47.0  14003.64   52   \n",
       "3     1000    8.0         52.0      408.0           52.0  14055.93   52   \n",
       "4     1000    9.0         58.0      466.0           58.0  14568.91   52   \n",
       "\n",
       "  churn_date       city first_name  last_name   reg_date tariff  \n",
       "0        NaT  Краснодар     Рафаил  Верещагин 2018-05-25  ultra  \n",
       "1        NaT  Краснодар     Рафаил  Верещагин 2018-05-25  ultra  \n",
       "2        NaT  Краснодар     Рафаил  Верещагин 2018-05-25  ultra  \n",
       "3        NaT  Краснодар     Рафаил  Верещагин 2018-05-25  ultra  \n",
       "4        NaT  Краснодар     Рафаил  Верещагин 2018-05-25  ultra  "
      ]
     },
     "execution_count": 68,
     "metadata": {},
     "output_type": "execute_result"
    }
   ],
   "source": [
    "table = user_call_sum.merge(user_messages_count, on=['user_id', 'month'], how='outer')\n",
    "table = table.merge(user_internet_sum, on=['user_id', 'month'], how='outer')\n",
    "table = table.merge(users, on='user_id', how='right')\n",
    "table.head()"
   ]
  },
  {
   "cell_type": "markdown",
   "metadata": {},
   "source": [
    "Проверим на пользователей которые не пользовались никакими услугами:"
   ]
  },
  {
   "cell_type": "code",
   "execution_count": 69,
   "metadata": {},
   "outputs": [
    {
     "data": {
      "text/html": [
       "<div>\n",
       "<style scoped>\n",
       "    .dataframe tbody tr th:only-of-type {\n",
       "        vertical-align: middle;\n",
       "    }\n",
       "\n",
       "    .dataframe tbody tr th {\n",
       "        vertical-align: top;\n",
       "    }\n",
       "\n",
       "    .dataframe thead th {\n",
       "        text-align: right;\n",
       "    }\n",
       "</style>\n",
       "<table border=\"1\" class=\"dataframe\">\n",
       "  <thead>\n",
       "    <tr style=\"text-align: right;\">\n",
       "      <th></th>\n",
       "      <th>user_id</th>\n",
       "      <th>month</th>\n",
       "      <th>calls_count</th>\n",
       "      <th>calls_sum</th>\n",
       "      <th>messages_sent</th>\n",
       "      <th>mb_used</th>\n",
       "      <th>age</th>\n",
       "      <th>churn_date</th>\n",
       "      <th>city</th>\n",
       "      <th>first_name</th>\n",
       "      <th>last_name</th>\n",
       "      <th>reg_date</th>\n",
       "      <th>tariff</th>\n",
       "    </tr>\n",
       "  </thead>\n",
       "  <tbody>\n",
       "    <tr>\n",
       "      <th>827</th>\n",
       "      <td>1128</td>\n",
       "      <td>NaN</td>\n",
       "      <td>NaN</td>\n",
       "      <td>NaN</td>\n",
       "      <td>NaN</td>\n",
       "      <td>NaN</td>\n",
       "      <td>51</td>\n",
       "      <td>2018-12-23</td>\n",
       "      <td>Волжский</td>\n",
       "      <td>Ксения</td>\n",
       "      <td>Агаева</td>\n",
       "      <td>2018-12-15</td>\n",
       "      <td>ultra</td>\n",
       "    </tr>\n",
       "    <tr>\n",
       "      <th>2335</th>\n",
       "      <td>1371</td>\n",
       "      <td>NaN</td>\n",
       "      <td>NaN</td>\n",
       "      <td>NaN</td>\n",
       "      <td>NaN</td>\n",
       "      <td>NaN</td>\n",
       "      <td>50</td>\n",
       "      <td>2018-12-30</td>\n",
       "      <td>Омск</td>\n",
       "      <td>Ириней</td>\n",
       "      <td>Трофимов</td>\n",
       "      <td>2018-12-25</td>\n",
       "      <td>smart</td>\n",
       "    </tr>\n",
       "  </tbody>\n",
       "</table>\n",
       "</div>"
      ],
      "text/plain": [
       "      user_id  month  calls_count  calls_sum  messages_sent  mb_used  age  \\\n",
       "827      1128    NaN          NaN        NaN            NaN      NaN   51   \n",
       "2335     1371    NaN          NaN        NaN            NaN      NaN   50   \n",
       "\n",
       "     churn_date      city first_name last_name   reg_date tariff  \n",
       "827  2018-12-23  Волжский     Ксения    Агаева 2018-12-15  ultra  \n",
       "2335 2018-12-30      Омск     Ириней  Трофимов 2018-12-25  smart  "
      ]
     },
     "execution_count": 69,
     "metadata": {},
     "output_type": "execute_result"
    }
   ],
   "source": [
    "table.query('calls_sum.isnull() & messages_sent.isnull() & mb_used.isnull()')"
   ]
  },
  {
   "cell_type": "markdown",
   "metadata": {},
   "source": [
    "Мы обнаружили в датасете 2 человека которые вообще не пользовались ни какими услугами связи, судя по информации из столбца \"churn_date\" и \"reg_date\" первый расторг договор после 8 дней от момента заключения а второй через 5 дней, эти строки не несут никакой информации - просто удалим их."
   ]
  },
  {
   "cell_type": "code",
   "execution_count": 70,
   "metadata": {},
   "outputs": [
    {
     "name": "stdout",
     "output_type": "stream",
     "text": [
      "3216\n",
      "3214\n"
     ]
    }
   ],
   "source": [
    "print(len(table))\n",
    "table = table.dropna(subset=['calls_sum', 'messages_sent', 'mb_used', 'calls_count'], how='all', inplace=False)\n",
    "print(len(table))"
   ]
  },
  {
   "cell_type": "markdown",
   "metadata": {},
   "source": [
    "Проверим наш сводный датасет \"table\" на пропуски:"
   ]
  },
  {
   "cell_type": "code",
   "execution_count": 71,
   "metadata": {},
   "outputs": [
    {
     "data": {
      "text/plain": [
       "user_id          0.000000\n",
       "month            0.000000\n",
       "calls_count      0.012446\n",
       "calls_sum        0.012446\n",
       "messages_sent    0.012446\n",
       "mb_used          0.003423\n",
       "age              0.000000\n",
       "churn_date       0.941817\n",
       "city             0.000000\n",
       "first_name       0.000000\n",
       "last_name        0.000000\n",
       "reg_date         0.000000\n",
       "tariff           0.000000\n",
       "dtype: float64"
      ]
     },
     "execution_count": 71,
     "metadata": {},
     "output_type": "execute_result"
    }
   ],
   "source": [
    "table.isna().mean()"
   ]
  },
  {
   "cell_type": "markdown",
   "metadata": {},
   "source": [
    "94 % всех значений из столбца \"churn_date\" пропущены, \"churn_date\" - это дата расторжения договора, это означает что в строках в которых не указанна дата расторжения договора находятся данные по пользователям у которых действующий договор на услуги связи - оставим без изменения."
   ]
  },
  {
   "cell_type": "markdown",
   "metadata": {},
   "source": [
    "В столбцах \"calls_count\", \"calls_sum\", \"messages_sent\", \"mb_used\" пропущенные значения заполним на 0, не все абоненты пользуются сообщениями, звонками и интернетом в течении месяца:"
   ]
  },
  {
   "cell_type": "code",
   "execution_count": 72,
   "metadata": {},
   "outputs": [
    {
     "data": {
      "text/plain": [
       "user_id          0.000000\n",
       "month            0.000000\n",
       "calls_count      0.000000\n",
       "calls_sum        0.000000\n",
       "messages_sent    0.000000\n",
       "mb_used          0.000000\n",
       "age              0.000000\n",
       "churn_date       0.941817\n",
       "city             0.000000\n",
       "first_name       0.000000\n",
       "last_name        0.000000\n",
       "reg_date         0.000000\n",
       "tariff           0.000000\n",
       "dtype: float64"
      ]
     },
     "execution_count": 72,
     "metadata": {},
     "output_type": "execute_result"
    }
   ],
   "source": [
    "table[[\"calls_count\", \"calls_sum\", \"messages_sent\", \"mb_used\"]] = table[[\"calls_count\", \"calls_sum\",\\\n",
    "                                                                         \"messages_sent\", \"mb_used\"]].fillna(0)\n",
    "table.isna().mean()"
   ]
  },
  {
   "cell_type": "markdown",
   "metadata": {},
   "source": [
    "## Анализ данных"
   ]
  },
  {
   "cell_type": "code",
   "execution_count": 35,
   "metadata": {},
   "outputs": [],
   "source": [
    "table['mb_used'] = (table['mb_used'] / 1024).apply(np.ceil)\\\n",
    "                                            .astype('int')\n",
    "\n",
    "def parametr_tariff(tariff, parametr_name):\n",
    "    return tariffs.loc[tariffs['tariff_name'] == tariff,[parametr_name]].values[0][0]\n",
    "\n",
    "\n",
    "def total_income(row):\n",
    "    total_income = 0\n",
    "    subscription = 0\n",
    "    \n",
    "    subscription = parametr_tariff(row['tariff'], 'rub_monthly_fee')\n",
    "    lim_gb = parametr_tariff(row['tariff'], 'gb_per_month_included')\n",
    "    lim_min = parametr_tariff(row['tariff'], 'minutes_included')\n",
    "    lim_sms = parametr_tariff(row['tariff'], 'messages_included')\n",
    "    price_gb = parametr_tariff(row['tariff'], 'rub_per_gb')\n",
    "    price_min = parametr_tariff(row['tariff'], 'rub_per_minute')\n",
    "    price_sms = parametr_tariff(row['tariff'], 'rub_per_message')  \n",
    "    \n",
    "    total_income = subscription\n",
    "    row['subscription'] = subscription\n",
    "        \n",
    "    if row['mb_used'] > lim_gb:\n",
    "        income = (row['mb_used'] - lim_gb) * price_gb\n",
    "        total_income += income\n",
    "        row['internet_income'] = income\n",
    "    else:\n",
    "        row['internet_income'] = 0\n",
    "        \n",
    "    if row['calls_sum'] > lim_min:\n",
    "        income = (row['calls_sum'] - lim_min) * price_min\n",
    "        total_income += income\n",
    "        row['calls_income'] = income\n",
    "    else:\n",
    "        row['calls_income'] = 0\n",
    "            \n",
    "    if row['messages_sent'] > lim_sms:\n",
    "        income = (row['messages_sent'] - lim_sms) * price_sms\n",
    "        total_income += income\n",
    "        row['messages_income'] = income\n",
    "    else:\n",
    "        row['messages_income'] = 0\n",
    "    row['total_income'] = total_income\n",
    "    return row\n",
    "    \n",
    "    \n",
    "table = table.apply(total_income, axis=1) "
   ]
  },
  {
   "cell_type": "code",
   "execution_count": 36,
   "metadata": {},
   "outputs": [
    {
     "data": {
      "text/html": [
       "<div>\n",
       "<style scoped>\n",
       "    .dataframe tbody tr th:only-of-type {\n",
       "        vertical-align: middle;\n",
       "    }\n",
       "\n",
       "    .dataframe tbody tr th {\n",
       "        vertical-align: top;\n",
       "    }\n",
       "\n",
       "    .dataframe thead th {\n",
       "        text-align: right;\n",
       "    }\n",
       "</style>\n",
       "<table border=\"1\" class=\"dataframe\">\n",
       "  <thead>\n",
       "    <tr style=\"text-align: right;\">\n",
       "      <th></th>\n",
       "      <th>user_id</th>\n",
       "      <th>month</th>\n",
       "      <th>calls_count</th>\n",
       "      <th>calls_sum</th>\n",
       "      <th>messages_sent</th>\n",
       "      <th>mb_used</th>\n",
       "      <th>age</th>\n",
       "      <th>churn_date</th>\n",
       "      <th>city</th>\n",
       "      <th>first_name</th>\n",
       "      <th>last_name</th>\n",
       "      <th>reg_date</th>\n",
       "      <th>tariff</th>\n",
       "      <th>subscription</th>\n",
       "      <th>internet_income</th>\n",
       "      <th>calls_income</th>\n",
       "      <th>messages_income</th>\n",
       "      <th>total_income</th>\n",
       "    </tr>\n",
       "  </thead>\n",
       "  <tbody>\n",
       "    <tr>\n",
       "      <th>0</th>\n",
       "      <td>1000</td>\n",
       "      <td>5.0</td>\n",
       "      <td>22.0</td>\n",
       "      <td>159.0</td>\n",
       "      <td>22.0</td>\n",
       "      <td>3</td>\n",
       "      <td>52</td>\n",
       "      <td>0</td>\n",
       "      <td>Краснодар</td>\n",
       "      <td>Рафаил</td>\n",
       "      <td>Верещагин</td>\n",
       "      <td>2018-05-25</td>\n",
       "      <td>ultra</td>\n",
       "      <td>1950</td>\n",
       "      <td>0</td>\n",
       "      <td>0.0</td>\n",
       "      <td>0.0</td>\n",
       "      <td>1950.0</td>\n",
       "    </tr>\n",
       "    <tr>\n",
       "      <th>1</th>\n",
       "      <td>1000</td>\n",
       "      <td>6.0</td>\n",
       "      <td>43.0</td>\n",
       "      <td>172.0</td>\n",
       "      <td>43.0</td>\n",
       "      <td>23</td>\n",
       "      <td>52</td>\n",
       "      <td>0</td>\n",
       "      <td>Краснодар</td>\n",
       "      <td>Рафаил</td>\n",
       "      <td>Верещагин</td>\n",
       "      <td>2018-05-25</td>\n",
       "      <td>ultra</td>\n",
       "      <td>1950</td>\n",
       "      <td>0</td>\n",
       "      <td>0.0</td>\n",
       "      <td>0.0</td>\n",
       "      <td>1950.0</td>\n",
       "    </tr>\n",
       "    <tr>\n",
       "      <th>2</th>\n",
       "      <td>1000</td>\n",
       "      <td>7.0</td>\n",
       "      <td>47.0</td>\n",
       "      <td>340.0</td>\n",
       "      <td>47.0</td>\n",
       "      <td>14</td>\n",
       "      <td>52</td>\n",
       "      <td>0</td>\n",
       "      <td>Краснодар</td>\n",
       "      <td>Рафаил</td>\n",
       "      <td>Верещагин</td>\n",
       "      <td>2018-05-25</td>\n",
       "      <td>ultra</td>\n",
       "      <td>1950</td>\n",
       "      <td>0</td>\n",
       "      <td>0.0</td>\n",
       "      <td>0.0</td>\n",
       "      <td>1950.0</td>\n",
       "    </tr>\n",
       "    <tr>\n",
       "      <th>3</th>\n",
       "      <td>1000</td>\n",
       "      <td>8.0</td>\n",
       "      <td>52.0</td>\n",
       "      <td>408.0</td>\n",
       "      <td>52.0</td>\n",
       "      <td>14</td>\n",
       "      <td>52</td>\n",
       "      <td>0</td>\n",
       "      <td>Краснодар</td>\n",
       "      <td>Рафаил</td>\n",
       "      <td>Верещагин</td>\n",
       "      <td>2018-05-25</td>\n",
       "      <td>ultra</td>\n",
       "      <td>1950</td>\n",
       "      <td>0</td>\n",
       "      <td>0.0</td>\n",
       "      <td>0.0</td>\n",
       "      <td>1950.0</td>\n",
       "    </tr>\n",
       "    <tr>\n",
       "      <th>4</th>\n",
       "      <td>1000</td>\n",
       "      <td>9.0</td>\n",
       "      <td>58.0</td>\n",
       "      <td>466.0</td>\n",
       "      <td>58.0</td>\n",
       "      <td>15</td>\n",
       "      <td>52</td>\n",
       "      <td>0</td>\n",
       "      <td>Краснодар</td>\n",
       "      <td>Рафаил</td>\n",
       "      <td>Верещагин</td>\n",
       "      <td>2018-05-25</td>\n",
       "      <td>ultra</td>\n",
       "      <td>1950</td>\n",
       "      <td>0</td>\n",
       "      <td>0.0</td>\n",
       "      <td>0.0</td>\n",
       "      <td>1950.0</td>\n",
       "    </tr>\n",
       "  </tbody>\n",
       "</table>\n",
       "</div>"
      ],
      "text/plain": [
       "   user_id  month  calls_count  calls_sum  messages_sent  mb_used  age  \\\n",
       "0     1000    5.0         22.0      159.0           22.0        3   52   \n",
       "1     1000    6.0         43.0      172.0           43.0       23   52   \n",
       "2     1000    7.0         47.0      340.0           47.0       14   52   \n",
       "3     1000    8.0         52.0      408.0           52.0       14   52   \n",
       "4     1000    9.0         58.0      466.0           58.0       15   52   \n",
       "\n",
       "  churn_date       city first_name  last_name   reg_date tariff  subscription  \\\n",
       "0          0  Краснодар     Рафаил  Верещагин 2018-05-25  ultra          1950   \n",
       "1          0  Краснодар     Рафаил  Верещагин 2018-05-25  ultra          1950   \n",
       "2          0  Краснодар     Рафаил  Верещагин 2018-05-25  ultra          1950   \n",
       "3          0  Краснодар     Рафаил  Верещагин 2018-05-25  ultra          1950   \n",
       "4          0  Краснодар     Рафаил  Верещагин 2018-05-25  ultra          1950   \n",
       "\n",
       "   internet_income  calls_income  messages_income  total_income  \n",
       "0                0           0.0              0.0        1950.0  \n",
       "1                0           0.0              0.0        1950.0  \n",
       "2                0           0.0              0.0        1950.0  \n",
       "3                0           0.0              0.0        1950.0  \n",
       "4                0           0.0              0.0        1950.0  "
      ]
     },
     "execution_count": 36,
     "metadata": {},
     "output_type": "execute_result"
    }
   ],
   "source": [
    "table.head()"
   ]
  },
  {
   "cell_type": "markdown",
   "metadata": {},
   "source": [
    "### Опишите поведение клиентов оператора, исходя из выборки"
   ]
  },
  {
   "cell_type": "markdown",
   "metadata": {},
   "source": [
    "Клиенты оператора сотовой связи \"Мегалайн\" используют два тарифа:\n",
    "\n",
    "Тариф «Смарт»\n",
    "1. Ежемесячная плата: 550 рублей\n",
    "2. Включено 500 минут разговора, 50 сообщений и 15 Гб интернет-трафика\n",
    "3. Стоимость услуг сверх тарифного пакета:\n",
    "    * минута разговора: 3 рубля\n",
    "    * сообщение: 3 рубля\n",
    "    * 1 Гб интернет-трафика: 200 рублей\n",
    "\n",
    "Тариф «Ультра»\n",
    "1. Ежемесячная плата: 1950 рублей\n",
    "2. Включено 3000 минут разговора, 1000 сообщений и 30 Гб интернет-трафика\n",
    "3. Стоимость услуг сверх тарифного пакета:\n",
    "    * минута разговора: 1 рубль\n",
    "    * сообщение: 1 рубль\n",
    "    * 1 Гб интернет-трафика: 150 рублей"
   ]
  },
  {
   "cell_type": "code",
   "execution_count": 39,
   "metadata": {},
   "outputs": [
    {
     "data": {
      "text/html": [
       "<div>\n",
       "<style scoped>\n",
       "    .dataframe tbody tr th:only-of-type {\n",
       "        vertical-align: middle;\n",
       "    }\n",
       "\n",
       "    .dataframe tbody tr th {\n",
       "        vertical-align: top;\n",
       "    }\n",
       "\n",
       "    .dataframe thead tr th {\n",
       "        text-align: left;\n",
       "    }\n",
       "\n",
       "    .dataframe thead tr:last-of-type th {\n",
       "        text-align: right;\n",
       "    }\n",
       "</style>\n",
       "<table border=\"1\" class=\"dataframe\">\n",
       "  <thead>\n",
       "    <tr>\n",
       "      <th></th>\n",
       "      <th colspan=\"3\" halign=\"left\">sum</th>\n",
       "      <th colspan=\"3\" halign=\"left\">mean</th>\n",
       "      <th colspan=\"3\" halign=\"left\">median</th>\n",
       "    </tr>\n",
       "    <tr>\n",
       "      <th></th>\n",
       "      <th>calls_sum</th>\n",
       "      <th>mb_used</th>\n",
       "      <th>messages_sent</th>\n",
       "      <th>calls_sum</th>\n",
       "      <th>mb_used</th>\n",
       "      <th>messages_sent</th>\n",
       "      <th>calls_sum</th>\n",
       "      <th>mb_used</th>\n",
       "      <th>messages_sent</th>\n",
       "    </tr>\n",
       "    <tr>\n",
       "      <th>tariff</th>\n",
       "      <th></th>\n",
       "      <th></th>\n",
       "      <th></th>\n",
       "      <th></th>\n",
       "      <th></th>\n",
       "      <th></th>\n",
       "      <th></th>\n",
       "      <th></th>\n",
       "      <th></th>\n",
       "    </tr>\n",
       "  </thead>\n",
       "  <tbody>\n",
       "    <tr>\n",
       "      <th>smart</th>\n",
       "      <td>931577.0</td>\n",
       "      <td>36397</td>\n",
       "      <td>130315.0</td>\n",
       "      <td>417.93</td>\n",
       "      <td>16.33</td>\n",
       "      <td>58.46</td>\n",
       "      <td>422.0</td>\n",
       "      <td>17</td>\n",
       "      <td>60.0</td>\n",
       "    </tr>\n",
       "    <tr>\n",
       "      <th>ultra</th>\n",
       "      <td>518724.0</td>\n",
       "      <td>19202</td>\n",
       "      <td>72292.0</td>\n",
       "      <td>526.62</td>\n",
       "      <td>19.49</td>\n",
       "      <td>73.39</td>\n",
       "      <td>518.0</td>\n",
       "      <td>19</td>\n",
       "      <td>74.0</td>\n",
       "    </tr>\n",
       "  </tbody>\n",
       "</table>\n",
       "</div>"
      ],
      "text/plain": [
       "             sum                            mean                        \\\n",
       "       calls_sum mb_used messages_sent calls_sum mb_used messages_sent   \n",
       "tariff                                                                   \n",
       "smart   931577.0   36397      130315.0    417.93   16.33         58.46   \n",
       "ultra   518724.0   19202       72292.0    526.62   19.49         73.39   \n",
       "\n",
       "          median                        \n",
       "       calls_sum mb_used messages_sent  \n",
       "tariff                                  \n",
       "smart      422.0      17          60.0  \n",
       "ultra      518.0      19          74.0  "
      ]
     },
     "metadata": {},
     "output_type": "display_data"
    },
    {
     "data": {
      "image/png": "[encoded data removed]",
      "text/plain": [
       "<Figure size 432x288 with 1 Axes>"
      ]
     },
     "metadata": {},
     "output_type": "display_data"
    }
   ],
   "source": [
    "statistic_table = round(table.pivot_table(index='tariff', \n",
    "                                          values=['calls_sum', \n",
    "                                                  'mb_used', \n",
    "                                                  'messages_sent'], \n",
    "                                          aggfunc=['sum', \n",
    "                                                   'mean', \n",
    "                                                   'median']), 2)\n",
    "display(statistic_table)\n",
    "\n",
    "statistic_table = table.drop_duplicates(subset='user_id')\n",
    "statistic_table.groupby('tariff')['user_id']\\\n",
    "               .agg('count')\\\n",
    "               .plot(kind='pie', \n",
    "                     autopct='%1.1f%%');"
   ]
  },
  {
   "cell_type": "markdown",
   "metadata": {},
   "source": [
    "Начнем с того, что количество пользователей тарифа \"Smart\" 70.3%, больше в два раза чем количество пользователей тарифа \"Ultra\" 29.7%."
   ]
  },
  {
   "cell_type": "code",
   "execution_count": 40,
   "metadata": {},
   "outputs": [
    {
     "name": "stdout",
     "output_type": "stream",
     "text": [
      "В 33.83% случаев пользователи тарифа \"smart\" превысили пакет включенных минут.\n"
     ]
    }
   ],
   "source": [
    "over_call = len(table.query('calls_sum > 500 & tariff == \"smart\"'))\n",
    "norm_call = len(table.query('calls_sum <= 500 & tariff == \"smart\"'))\n",
    "over_call = round(over_call / (norm_call + over_call) * 100, 2)\n",
    "print(f'В {over_call}% случаев пользователи тарифа \"smart\" превысили пакет включенных минут.')"
   ]
  },
  {
   "cell_type": "code",
   "execution_count": 41,
   "metadata": {},
   "outputs": [
    {
     "name": "stdout",
     "output_type": "stream",
     "text": [
      "В 58.5% случаев пользователи тарифа \"smart\" превысили пакет включенного интернет трафика.\n"
     ]
    }
   ],
   "source": [
    "over_internet = len(table.query('mb_used > 15 & tariff == \"smart\"'))\n",
    "norm_internet = len(table.query('mb_used <= 15 & tariff == \"smart\"'))\n",
    "over_internet = round(over_internet / (norm_internet + over_internet) * 100, 2)\n",
    "print(f'В {over_internet}% случаев пользователи тарифа \"smart\" превысили пакет включенного интернет трафика.')"
   ]
  },
  {
   "cell_type": "code",
   "execution_count": 42,
   "metadata": {},
   "outputs": [
    {
     "name": "stdout",
     "output_type": "stream",
     "text": [
      "В 62.81% случаев пользователи тарифа \"smart\" превысили пакет включенных СМС сообщений.\n"
     ]
    }
   ],
   "source": [
    "over_messages = len(table.query('messages_sent > 50 & tariff == \"smart\"'))\n",
    "norm_messages = len(table.query('messages_sent <= 50 & tariff == \"smart\"'))\n",
    "over_messages = round(over_messages / (norm_messages + over_messages)* 100, 2)\n",
    "print(f'В {over_messages}% случаев пользователи тарифа \"smart\" превысили пакет включенных СМС сообщений.')"
   ]
  },
  {
   "cell_type": "code",
   "execution_count": 43,
   "metadata": {},
   "outputs": [
    {
     "name": "stdout",
     "output_type": "stream",
     "text": [
      "В 13.6% случаев пользователи тарифа \"Ultra\" превысили пакет включенного интернет трафика.\n"
     ]
    }
   ],
   "source": [
    "over_internet = len(table.query('mb_used > 30 & tariff == \"ultra\"'))\n",
    "norm_internet = len(table.query('mb_used <= 30 & tariff == \"ultra\"'))\n",
    "over_internet = round(over_internet / (norm_internet + over_internet) * 100, 2)\n",
    "print(f'В {over_internet}% случаев пользователи тарифа \"Ultra\" превысили пакет включенного интернет трафика.')"
   ]
  },
  {
   "cell_type": "code",
   "execution_count": 44,
   "metadata": {},
   "outputs": [
    {
     "data": {
      "image/png": "[encoded data removed]",
      "text/plain": [
       "<Figure size 432x288 with 1 Axes>"
      ]
     },
     "metadata": {},
     "output_type": "display_data"
    },
    {
     "data": {
      "image/png": "[encoded data removed]",
      "text/plain": [
       "<Figure size 432x288 with 1 Axes>"
      ]
     },
     "metadata": {},
     "output_type": "display_data"
    },
    {
     "data": {
      "text/html": [
       "<div>\n",
       "<style scoped>\n",
       "    .dataframe tbody tr th:only-of-type {\n",
       "        vertical-align: middle;\n",
       "    }\n",
       "\n",
       "    .dataframe tbody tr th {\n",
       "        vertical-align: top;\n",
       "    }\n",
       "\n",
       "    .dataframe thead th {\n",
       "        text-align: right;\n",
       "    }\n",
       "</style>\n",
       "<table border=\"1\" class=\"dataframe\">\n",
       "  <thead>\n",
       "    <tr style=\"text-align: right;\">\n",
       "      <th></th>\n",
       "      <th>calls_income</th>\n",
       "      <th>internet_income</th>\n",
       "      <th>messages_income</th>\n",
       "      <th>subscription</th>\n",
       "      <th>total_income</th>\n",
       "    </tr>\n",
       "    <tr>\n",
       "      <th>tariff</th>\n",
       "      <th></th>\n",
       "      <th></th>\n",
       "      <th></th>\n",
       "      <th></th>\n",
       "      <th></th>\n",
       "    </tr>\n",
       "  </thead>\n",
       "  <tbody>\n",
       "    <tr>\n",
       "      <th>smart</th>\n",
       "      <td>278217.0</td>\n",
       "      <td>1332400</td>\n",
       "      <td>102612.0</td>\n",
       "      <td>1225950</td>\n",
       "      <td>2939179.0</td>\n",
       "    </tr>\n",
       "    <tr>\n",
       "      <th>ultra</th>\n",
       "      <td>0.0</td>\n",
       "      <td>118350</td>\n",
       "      <td>0.0</td>\n",
       "      <td>1920750</td>\n",
       "      <td>2039100.0</td>\n",
       "    </tr>\n",
       "  </tbody>\n",
       "</table>\n",
       "</div>"
      ],
      "text/plain": [
       "        calls_income  internet_income  messages_income  subscription  \\\n",
       "tariff                                                                 \n",
       "smart       278217.0          1332400         102612.0       1225950   \n",
       "ultra            0.0           118350              0.0       1920750   \n",
       "\n",
       "        total_income  \n",
       "tariff                \n",
       "smart      2939179.0  \n",
       "ultra      2039100.0  "
      ]
     },
     "metadata": {},
     "output_type": "display_data"
    }
   ],
   "source": [
    "statistic_table = round(table.pivot_table(index = 'tariff', \n",
    "                                    values = ['calls_income',\n",
    "                                              'messages_income',\n",
    "                                              'internet_income',\n",
    "                                              'subscription'], \n",
    "                                    aggfunc = 'sum'), 2)\n",
    "\n",
    "labels = statistic_table.columns\n",
    "sizes = statistic_table.loc['ultra']\n",
    "sizes2 = statistic_table.loc['smart']\n",
    "\n",
    "fig, ax = plt.subplots()\n",
    "ax.pie(sizes, \n",
    "       labels=labels, \n",
    "       autopct='%1.1f%%')\n",
    "ax.axis('equal')\n",
    "ax.set_title('ultra')\n",
    "\n",
    "fig, ax1 = plt.subplots()\n",
    "ax1.pie(sizes2, \n",
    "        labels=labels, \n",
    "        autopct='%1.1f%%')\n",
    "ax1.axis('equal')\n",
    "ax1.set_title('smart')\n",
    "\n",
    "plt.show()\n",
    "\n",
    "\n",
    "statistic_table['total_income'] = (statistic_table['calls_income'] + statistic_table['messages_income' ] +\n",
    "statistic_table['internet_income'] + statistic_table['subscription' ])\n",
    "\n",
    "display(statistic_table)"
   ]
  },
  {
   "cell_type": "markdown",
   "metadata": {},
   "source": [
    "Рассмотрев структуру дохода по тарифам приходим к выводу что доходы компании от тарифа \"Ultra\" в большинстве своем состоят из ежемесячных платежей по подписке но около 6% доходов состовляют платежи по превышению интернет трафика . Доходы от тарифа \"Smart\" только на 42% состоят из ежемесячных платежей по подписке и на 45% от платежей по превышению интернет трафика, на 9.5 и 3.5 %-ов от превышения пакета минут и СМС соответсвенно."
   ]
  },
  {
   "cell_type": "code",
   "execution_count": 45,
   "metadata": {},
   "outputs": [
    {
     "data": {
      "text/html": [
       "<div>\n",
       "<style scoped>\n",
       "    .dataframe tbody tr th:only-of-type {\n",
       "        vertical-align: middle;\n",
       "    }\n",
       "\n",
       "    .dataframe tbody tr th {\n",
       "        vertical-align: top;\n",
       "    }\n",
       "\n",
       "    .dataframe thead th {\n",
       "        text-align: right;\n",
       "    }\n",
       "</style>\n",
       "<table border=\"1\" class=\"dataframe\">\n",
       "  <thead>\n",
       "    <tr style=\"text-align: right;\">\n",
       "      <th></th>\n",
       "      <th>calls_income</th>\n",
       "      <th>internet_income</th>\n",
       "      <th>messages_income</th>\n",
       "      <th>subscription</th>\n",
       "      <th>total_income</th>\n",
       "    </tr>\n",
       "    <tr>\n",
       "      <th>tariff</th>\n",
       "      <th></th>\n",
       "      <th></th>\n",
       "      <th></th>\n",
       "      <th></th>\n",
       "      <th></th>\n",
       "    </tr>\n",
       "  </thead>\n",
       "  <tbody>\n",
       "    <tr>\n",
       "      <th>smart</th>\n",
       "      <td>125.0</td>\n",
       "      <td>598.0</td>\n",
       "      <td>46.0</td>\n",
       "      <td>550</td>\n",
       "      <td>1319.0</td>\n",
       "    </tr>\n",
       "    <tr>\n",
       "      <th>ultra</th>\n",
       "      <td>0.0</td>\n",
       "      <td>120.0</td>\n",
       "      <td>0.0</td>\n",
       "      <td>1950</td>\n",
       "      <td>2070.0</td>\n",
       "    </tr>\n",
       "  </tbody>\n",
       "</table>\n",
       "</div>"
      ],
      "text/plain": [
       "        calls_income  internet_income  messages_income  subscription  \\\n",
       "tariff                                                                 \n",
       "smart          125.0            598.0             46.0           550   \n",
       "ultra            0.0            120.0              0.0          1950   \n",
       "\n",
       "        total_income  \n",
       "tariff                \n",
       "smart         1319.0  \n",
       "ultra         2070.0  "
      ]
     },
     "metadata": {},
     "output_type": "display_data"
    },
    {
     "data": {
      "image/png": "[encoded data removed]",
      "text/plain": [
       "<Figure size 1080x504 with 1 Axes>"
      ]
     },
     "metadata": {
      "needs_background": "light"
     },
     "output_type": "display_data"
    }
   ],
   "source": [
    "statistic_table = round(table.pivot_table(index = 'tariff', \n",
    "                                    values = ['calls_income',\n",
    "                                              'messages_income',\n",
    "                                              'internet_income',\n",
    "                                              'subscription'], \n",
    "                                    aggfunc = 'mean'))\n",
    "\n",
    "statistic_table.plot(kind='bar', \n",
    "                     stacked='False', \n",
    "                     figsize =(15,7))\n",
    "\n",
    "statistic_table['total_income'] = (statistic_table['calls_income'] + statistic_table['messages_income' ] +\n",
    "statistic_table['internet_income'] + statistic_table['subscription' ])\n",
    "display(statistic_table)"
   ]
  },
  {
   "cell_type": "markdown",
   "metadata": {},
   "source": [
    "На гистограммах выше, отображена структура среднего месячного платежа по тарифам, средний платеж по трафу \"Ultra\" выше - 2072 рубля против платежа по тарифу \"Smart\" 1320 рублей."
   ]
  },
  {
   "cell_type": "code",
   "execution_count": 46,
   "metadata": {},
   "outputs": [
    {
     "data": {
      "text/html": [
       "<div>\n",
       "<style scoped>\n",
       "    .dataframe tbody tr th:only-of-type {\n",
       "        vertical-align: middle;\n",
       "    }\n",
       "\n",
       "    .dataframe tbody tr th {\n",
       "        vertical-align: top;\n",
       "    }\n",
       "\n",
       "    .dataframe thead th {\n",
       "        text-align: right;\n",
       "    }\n",
       "</style>\n",
       "<table border=\"1\" class=\"dataframe\">\n",
       "  <thead>\n",
       "    <tr style=\"text-align: right;\">\n",
       "      <th></th>\n",
       "      <th>calls_income</th>\n",
       "      <th>internet_income</th>\n",
       "      <th>messages_income</th>\n",
       "      <th>subscription</th>\n",
       "      <th>total_income</th>\n",
       "    </tr>\n",
       "    <tr>\n",
       "      <th>tariff</th>\n",
       "      <th></th>\n",
       "      <th></th>\n",
       "      <th></th>\n",
       "      <th></th>\n",
       "      <th></th>\n",
       "    </tr>\n",
       "  </thead>\n",
       "  <tbody>\n",
       "    <tr>\n",
       "      <th>smart</th>\n",
       "      <td>278217.0</td>\n",
       "      <td>1332400</td>\n",
       "      <td>102612.0</td>\n",
       "      <td>1225950</td>\n",
       "      <td>2939179.0</td>\n",
       "    </tr>\n",
       "    <tr>\n",
       "      <th>ultra</th>\n",
       "      <td>0.0</td>\n",
       "      <td>118350</td>\n",
       "      <td>0.0</td>\n",
       "      <td>1920750</td>\n",
       "      <td>2039100.0</td>\n",
       "    </tr>\n",
       "  </tbody>\n",
       "</table>\n",
       "</div>"
      ],
      "text/plain": [
       "        calls_income  internet_income  messages_income  subscription  \\\n",
       "tariff                                                                 \n",
       "smart       278217.0          1332400         102612.0       1225950   \n",
       "ultra            0.0           118350              0.0       1920750   \n",
       "\n",
       "        total_income  \n",
       "tariff                \n",
       "smart      2939179.0  \n",
       "ultra      2039100.0  "
      ]
     },
     "metadata": {},
     "output_type": "display_data"
    },
    {
     "data": {
      "image/png": "[encoded data removed]",
      "text/plain": [
       "<Figure size 1080x504 with 1 Axes>"
      ]
     },
     "metadata": {
      "needs_background": "light"
     },
     "output_type": "display_data"
    }
   ],
   "source": [
    "statistic_table = round(table.pivot_table(index = 'tariff', \n",
    "                                          values = ['calls_income',\n",
    "                                                    'messages_income',\n",
    "                                                    'internet_income',\n",
    "                                                    'subscription'], \n",
    "                                    aggfunc = 'sum'))\n",
    "\n",
    "statistic_table.plot(kind='bar', \n",
    "                     stacked='False', \n",
    "                     figsize =(15,7))\n",
    "\n",
    "statistic_table['total_income'] = (statistic_table['calls_income'] + statistic_table['messages_income' ] +\n",
    "statistic_table['internet_income'] + statistic_table['subscription' ])\n",
    "display(statistic_table)"
   ]
  },
  {
   "cell_type": "markdown",
   "metadata": {},
   "source": [
    "Тариф \"smart\" в годовом выражении приносит основную часть прибыли по выборке 2.9 млн. руб., тариф \"Ultra\" всего 2 млн. руб. "
   ]
  },
  {
   "cell_type": "code",
   "execution_count": 51,
   "metadata": {},
   "outputs": [
    {
     "data": {
      "image/png": "[encoded data removed]",
      "text/plain": [
       "<Figure size 1080x504 with 1 Axes>"
      ]
     },
     "metadata": {
      "needs_background": "light"
     },
     "output_type": "display_data"
    }
   ],
   "source": [
    "for tariff_name in tariffs['tariff_name']:\n",
    "    statistic_table = (table[table['tariff'] == tariff_name].groupby('month')['total_income']\n",
    "                                                            .agg('sum'))\n",
    "    statistic_table.name = 'total_income_' + tariff_name\n",
    "    statistic_table.plot(figsize =(15,7), legend=True)"
   ]
  },
  {
   "cell_type": "markdown",
   "metadata": {},
   "source": [
    "При анализе помесячной выручки в разрезе тарифов, приходи к выводу что тарифы вывели на рынок в начале 2018 г., месячная выручка по тарифу \"smart\" в течении года более динамично увеличивается по отношению к тарифу \"Ultra\""
   ]
  },
  {
   "cell_type": "markdown",
   "metadata": {},
   "source": [
    "## Гистограммы, среднее количество, дисперсия, стандартное отклонение и описания распределений."
   ]
  },
  {
   "cell_type": "markdown",
   "metadata": {},
   "source": [
    "### Сколько минут разговора требуется пользователям каждого тарифа в месяц?"
   ]
  },
  {
   "cell_type": "code",
   "execution_count": 52,
   "metadata": {},
   "outputs": [
    {
     "data": {
      "image/png": "[encoded data removed]",
      "text/plain": [
       "<Figure size 864x360 with 1 Axes>"
      ]
     },
     "metadata": {
      "needs_background": "light"
     },
     "output_type": "display_data"
    },
    {
     "data": {
      "text/html": [
       "<div>\n",
       "<style scoped>\n",
       "    .dataframe tbody tr th:only-of-type {\n",
       "        vertical-align: middle;\n",
       "    }\n",
       "\n",
       "    .dataframe tbody tr th {\n",
       "        vertical-align: top;\n",
       "    }\n",
       "\n",
       "    .dataframe thead tr th {\n",
       "        text-align: left;\n",
       "    }\n",
       "\n",
       "    .dataframe thead tr:last-of-type th {\n",
       "        text-align: right;\n",
       "    }\n",
       "</style>\n",
       "<table border=\"1\" class=\"dataframe\">\n",
       "  <thead>\n",
       "    <tr>\n",
       "      <th></th>\n",
       "      <th>mean</th>\n",
       "      <th>median</th>\n",
       "      <th>var</th>\n",
       "      <th>std</th>\n",
       "    </tr>\n",
       "    <tr>\n",
       "      <th></th>\n",
       "      <th>calls_sum</th>\n",
       "      <th>calls_sum</th>\n",
       "      <th>calls_sum</th>\n",
       "      <th>calls_sum</th>\n",
       "    </tr>\n",
       "    <tr>\n",
       "      <th>tariff</th>\n",
       "      <th></th>\n",
       "      <th></th>\n",
       "      <th></th>\n",
       "      <th></th>\n",
       "    </tr>\n",
       "  </thead>\n",
       "  <tbody>\n",
       "    <tr>\n",
       "      <th>smart</th>\n",
       "      <td>418.0</td>\n",
       "      <td>422.0</td>\n",
       "      <td>36219.0</td>\n",
       "      <td>190.0</td>\n",
       "    </tr>\n",
       "    <tr>\n",
       "      <th>ultra</th>\n",
       "      <td>527.0</td>\n",
       "      <td>518.0</td>\n",
       "      <td>100874.0</td>\n",
       "      <td>318.0</td>\n",
       "    </tr>\n",
       "  </tbody>\n",
       "</table>\n",
       "</div>"
      ],
      "text/plain": [
       "            mean    median       var       std\n",
       "       calls_sum calls_sum calls_sum calls_sum\n",
       "tariff                                        \n",
       "smart      418.0     422.0   36219.0     190.0\n",
       "ultra      527.0     518.0  100874.0     318.0"
      ]
     },
     "metadata": {},
     "output_type": "display_data"
    },
    {
     "name": "stdout",
     "output_type": "stream",
     "text": [
      "-153.006241260281 988.8761380749961\n",
      "-426.1949433235718 1479.441643831186\n"
     ]
    }
   ],
   "source": [
    "table.loc[table.loc[:,'tariff'] == 'smart']['calls_sum'].plot(kind='hist',\n",
    "                                                              bins=range(0, 1700, 100),\n",
    "                                                              label='smart', \n",
    "                                                              figsize=(12, 5),\n",
    "                                                              grid=True)\n",
    "    \n",
    "table.loc[table.loc[:,'tariff'] == \"ultra\"]['calls_sum'].plot(kind='hist',\n",
    "                                                              bins=range(0, 1700, 100),\n",
    "                                                              alpha=0.7,\n",
    "                                                              label='ultra',\n",
    "                                                              figsize=(12, 5),\n",
    "                                                              grid=True)\n",
    "    \n",
    "plt.title('Минуты разговора в месяц')\n",
    "plt.legend()\n",
    "plt.xlabel(\"Кол-во\")\n",
    "plt.ylabel(\"Частота\")\n",
    "plt.show()\n",
    "\n",
    "\n",
    "statistic_table = table.pivot_table(index='tariff', \n",
    "                                    values=['calls_sum'], \n",
    "                                    aggfunc=['mean', \n",
    "                                             'median', \n",
    "                                             'var', \n",
    "                                             'std'])\n",
    "display(round(statistic_table))\n",
    "\n",
    "mean = statistic_table.loc['smart'][('mean', 'calls_sum')]\n",
    "sigma = statistic_table.loc['smart'][('std', 'calls_sum')]\n",
    "print(mean - 3 * sigma, mean + 3 * sigma)\n",
    "\n",
    "mean = statistic_table.loc['ultra'][('mean', 'calls_sum')]\n",
    "sigma = statistic_table.loc['ultra'][('std', 'calls_sum')]\n",
    "print(mean - 3 * sigma, mean + 3 * sigma)"
   ]
  },
  {
   "cell_type": "markdown",
   "metadata": {},
   "source": [
    "На гистограмме плотностей отображено количество минут которое пользователи тарифов \"Smart\" и \"Ultra\" выговаривают в течении месяца. В среднем пользователям тарифа \"Smart\" требуется 419 минут разговорного времени в месяц, большинство пользователей разговаривают от 0 до 986 минут в месяц. Пользовотели тарифа \"Ultra\" в среднем разговаривают больше, им в месяц в среднем требуется 531 минута разговорного времени, большинство пользователей тарифа разговаривают от 0 до 1486 минут в месяц.\n",
    "\n",
    "Распределение значений на гистограмме для обоих тарифов имеют симметричное распределение что подтверждается совпадением медианного и среднего значений. Дисперсия у пользователей тарифа \"Ultra\" более чем в два раза больше чем у пользователей тарифа \"Smart\".  "
   ]
  },
  {
   "cell_type": "markdown",
   "metadata": {},
   "source": [
    "### Сколько сообщений требуется пользователям каждого тарифа в месяц?"
   ]
  },
  {
   "cell_type": "code",
   "execution_count": 53,
   "metadata": {},
   "outputs": [
    {
     "data": {
      "image/png": "[encoded data removed]",
      "text/plain": [
       "<Figure size 864x360 with 1 Axes>"
      ]
     },
     "metadata": {
      "needs_background": "light"
     },
     "output_type": "display_data"
    },
    {
     "data": {
      "text/html": [
       "<div>\n",
       "<style scoped>\n",
       "    .dataframe tbody tr th:only-of-type {\n",
       "        vertical-align: middle;\n",
       "    }\n",
       "\n",
       "    .dataframe tbody tr th {\n",
       "        vertical-align: top;\n",
       "    }\n",
       "\n",
       "    .dataframe thead tr th {\n",
       "        text-align: left;\n",
       "    }\n",
       "\n",
       "    .dataframe thead tr:last-of-type th {\n",
       "        text-align: right;\n",
       "    }\n",
       "</style>\n",
       "<table border=\"1\" class=\"dataframe\">\n",
       "  <thead>\n",
       "    <tr>\n",
       "      <th></th>\n",
       "      <th>mean</th>\n",
       "      <th>median</th>\n",
       "      <th>var</th>\n",
       "      <th>std</th>\n",
       "    </tr>\n",
       "    <tr>\n",
       "      <th></th>\n",
       "      <th>messages_sent</th>\n",
       "      <th>messages_sent</th>\n",
       "      <th>messages_sent</th>\n",
       "      <th>messages_sent</th>\n",
       "    </tr>\n",
       "    <tr>\n",
       "      <th>tariff</th>\n",
       "      <th></th>\n",
       "      <th></th>\n",
       "      <th></th>\n",
       "      <th></th>\n",
       "    </tr>\n",
       "  </thead>\n",
       "  <tbody>\n",
       "    <tr>\n",
       "      <th>smart</th>\n",
       "      <td>58.0</td>\n",
       "      <td>60.0</td>\n",
       "      <td>673.0</td>\n",
       "      <td>26.0</td>\n",
       "    </tr>\n",
       "    <tr>\n",
       "      <th>ultra</th>\n",
       "      <td>73.0</td>\n",
       "      <td>74.0</td>\n",
       "      <td>1929.0</td>\n",
       "      <td>44.0</td>\n",
       "    </tr>\n",
       "  </tbody>\n",
       "</table>\n",
       "</div>"
      ],
      "text/plain": [
       "                mean        median           var           std\n",
       "       messages_sent messages_sent messages_sent messages_sent\n",
       "tariff                                                        \n",
       "smart           58.0          60.0         673.0          26.0\n",
       "ultra           73.0          74.0        1929.0          44.0"
      ]
     },
     "metadata": {},
     "output_type": "display_data"
    },
    {
     "name": "stdout",
     "output_type": "stream",
     "text": [
      "-19.35613807361174 136.28301111084818\n",
      "-58.357666031793244 205.1434528338237\n"
     ]
    }
   ],
   "source": [
    "table.loc[table.loc[:,'tariff'] == 'smart']['messages_sent'].plot(kind='hist',\n",
    "                                                                  bins=range(0, 250, 25),\n",
    "                                                                  label='smart', \n",
    "                                                                  figsize=(12, 5),\n",
    "                                                                  grid=True)\n",
    "    \n",
    "table.loc[table.loc[:,'tariff'] == \"ultra\"]['messages_sent'].plot(kind='hist',\n",
    "                                                               bins=range(0, 250, 25),\n",
    "                                                               alpha=0.7,\n",
    "                                                               label='ultra',\n",
    "                                                               figsize=(12, 5),\n",
    "                                                               grid=True)\n",
    "    \n",
    "plt.title('Сообщений в месяц')\n",
    "plt.legend()\n",
    "plt.xlabel(\"Кол-во\")\n",
    "plt.ylabel(\"Частота\")\n",
    "plt.show()\n",
    "\n",
    "\n",
    "statistic_table = table.pivot_table(index='tariff', \n",
    "                                    values=['messages_sent'], \n",
    "                                    aggfunc=['mean', \n",
    "                                             'median', \n",
    "                                             'var', \n",
    "                                             'std'])\n",
    "display(round(statistic_table))\n",
    "\n",
    "smart_despertion = statistic_table.loc['smart'][('var', 'messages_sent')]\n",
    "mean = statistic_table.loc['smart'][('mean', 'messages_sent')]\n",
    "sigma = np.sqrt(smart_despertion)\n",
    "print(mean - 3 * sigma, mean + 3 * sigma)\n",
    "\n",
    "ultra_despertion = statistic_table.loc['ultra'][('var', 'messages_sent')]\n",
    "mean = statistic_table.loc['ultra'][('mean', 'messages_sent')]\n",
    "sigma = np.sqrt(ultra_despertion)\n",
    "print(mean - 3 * sigma, mean + 3 * sigma)"
   ]
  },
  {
   "cell_type": "markdown",
   "metadata": {},
   "source": [
    "На гистограмме плотностей отображено количество сообщений которое пользователи тарифов \"Smart\" и \"Ultra\" отправляют в течении месяца. В среднем пользователям тарифа \"Smart\" отправляют 60 сообщений в месяц, большинство пользователей отправляют от 0 до 135 сообщений в месяц. Пользовотели тарифа \"Ultra\" в среднем отправляют больше сообщений, им в месяц в среднем требуется 76 сообщений в месяц, большинство пользователей тарифа отправляют от 0 до 203 сообщений в месяц.\n",
    "\n",
    "Распределение значений на гистограмме для обоих тарифов имеют симметричное распределение что подтверждается совпадением медианного и среднего значений. Дисперсия у пользователей тарифа \"Ultra\" примерно в три раза больше чем у пользователей тарифа \"Smart\".  "
   ]
  },
  {
   "cell_type": "markdown",
   "metadata": {},
   "source": [
    "### Какой объём интернет-трафика требуется пользователям каждого тарифа в месяц?"
   ]
  },
  {
   "cell_type": "code",
   "execution_count": 54,
   "metadata": {},
   "outputs": [
    {
     "data": {
      "image/png": "[encoded data removed]",
      "text/plain": [
       "<Figure size 864x360 with 1 Axes>"
      ]
     },
     "metadata": {
      "needs_background": "light"
     },
     "output_type": "display_data"
    },
    {
     "data": {
      "text/html": [
       "<div>\n",
       "<style scoped>\n",
       "    .dataframe tbody tr th:only-of-type {\n",
       "        vertical-align: middle;\n",
       "    }\n",
       "\n",
       "    .dataframe tbody tr th {\n",
       "        vertical-align: top;\n",
       "    }\n",
       "\n",
       "    .dataframe thead tr th {\n",
       "        text-align: left;\n",
       "    }\n",
       "\n",
       "    .dataframe thead tr:last-of-type th {\n",
       "        text-align: right;\n",
       "    }\n",
       "</style>\n",
       "<table border=\"1\" class=\"dataframe\">\n",
       "  <thead>\n",
       "    <tr>\n",
       "      <th></th>\n",
       "      <th>mean</th>\n",
       "      <th>median</th>\n",
       "      <th>var</th>\n",
       "      <th>std</th>\n",
       "    </tr>\n",
       "    <tr>\n",
       "      <th></th>\n",
       "      <th>mb_used</th>\n",
       "      <th>mb_used</th>\n",
       "      <th>mb_used</th>\n",
       "      <th>mb_used</th>\n",
       "    </tr>\n",
       "    <tr>\n",
       "      <th>tariff</th>\n",
       "      <th></th>\n",
       "      <th></th>\n",
       "      <th></th>\n",
       "      <th></th>\n",
       "    </tr>\n",
       "  </thead>\n",
       "  <tbody>\n",
       "    <tr>\n",
       "      <th>smart</th>\n",
       "      <td>16.0</td>\n",
       "      <td>17</td>\n",
       "      <td>33.0</td>\n",
       "      <td>6.0</td>\n",
       "    </tr>\n",
       "    <tr>\n",
       "      <th>ultra</th>\n",
       "      <td>19.0</td>\n",
       "      <td>19</td>\n",
       "      <td>97.0</td>\n",
       "      <td>10.0</td>\n",
       "    </tr>\n",
       "  </tbody>\n",
       "</table>\n",
       "</div>"
      ],
      "text/plain": [
       "          mean  median     var     std\n",
       "       mb_used mb_used mb_used mb_used\n",
       "tariff                                \n",
       "smart     16.0      17    33.0     6.0\n",
       "ultra     19.0      19    97.0    10.0"
      ]
     },
     "metadata": {},
     "output_type": "display_data"
    },
    {
     "name": "stdout",
     "output_type": "stream",
     "text": [
      "-0.9123346889277997 33.570028722126544\n",
      "-10.066117858876048 49.05495034618569\n"
     ]
    }
   ],
   "source": [
    "table.loc[table.loc[:,'tariff'] == 'smart']['mb_used'].plot(kind='hist',\n",
    "                                                                  bins=range(0, 50, 5),\n",
    "                                                                  label='smart', \n",
    "                                                                  figsize=(12, 5),\n",
    "                                                                  grid=True)\n",
    "    \n",
    "table.loc[table.loc[:,'tariff'] == \"ultra\"]['mb_used'].plot(kind='hist',\n",
    "                                                               bins=range(0, 50, 5),\n",
    "                                                               alpha=0.7,\n",
    "                                                               label='ultra',\n",
    "                                                               figsize=(12, 5),\n",
    "                                                               grid=True)\n",
    "    \n",
    "plt.title('ГБ в месяц')\n",
    "plt.legend()\n",
    "plt.xlabel(\"Кол-во\")\n",
    "plt.ylabel(\"Частота\")\n",
    "plt.show()\n",
    "\n",
    "\n",
    "statistic_table = table.pivot_table(index='tariff', \n",
    "                                    values=['mb_used'], \n",
    "                                    aggfunc=['mean', \n",
    "                                             'median', \n",
    "                                             'var', \n",
    "                                             'std'])\n",
    "display(round(statistic_table))\n",
    "\n",
    "smart_despertion = statistic_table.loc['smart'][('var', 'mb_used')]\n",
    "mean = statistic_table.loc['smart'][('mean', 'mb_used')]\n",
    "sigma = np.sqrt(smart_despertion)\n",
    "print(mean - 3 * sigma, mean + 3 * sigma)\n",
    "\n",
    "ultra_despertion = statistic_table.loc['ultra'][('var', 'mb_used')]\n",
    "mean = statistic_table.loc['ultra'][('mean', 'mb_used')]\n",
    "sigma = np.sqrt(ultra_despertion)\n",
    "print(mean - 3 * sigma, mean + 3 * sigma)"
   ]
  },
  {
   "cell_type": "markdown",
   "metadata": {},
   "source": [
    "На гистограмме плотностей отображено количество ГБ интернет трафика которое пользователи тарифов \"Smart\" и \"Ultra\" используют в течении месяца. В среднем пользователям тарифа \"Smart\" используют 16 ГБ трафика в месяц - что превышает объем предоплаченного пакета в тарифе, пользователи используют от 0 до 33 ГБ трафика в месяц. Пользовотели тарифа \"Ultra\" в используют больше трафика в месяц, им в месяц в среднем требуется 19 ГБ трафика в месяц, пользователей тарифа используют от 0 до 48 ГБ трафика в месяц.\n",
    "\n",
    "Распределение значений на гистограмме для обоих тарифов имеют симметричное распределение что подтверждается совпадением медианного и среднего значений. Дисперсия у пользователей тарифа \"Ultra\" примерно в три раза больше чем у пользователей тарифа \"Smart\".  "
   ]
  },
  {
   "cell_type": "markdown",
   "metadata": {},
   "source": [
    "## Проверка гипотез"
   ]
  },
  {
   "cell_type": "markdown",
   "metadata": {},
   "source": [
    "### Cредняя выручка пользователей тарифов «Ультра» и «Смарт» различаются"
   ]
  },
  {
   "cell_type": "markdown",
   "metadata": {},
   "source": [
    "Для проверки гипотезы сформулируем нулевую гипотезу:\n",
    "\n",
    " Cредние выручки пользователей тарифов «Ультра» и «Смарт» равны.\n",
    " \n",
    " \n",
    " В качестве альтернативной гипотезы будем рассматривать:\n",
    " \n",
    " Cредняя выручка пользователей тарифов «Ультра» и «Смарт» различаются.\n",
    " \n",
    " Проверим нулевую гипотезу:"
   ]
  },
  {
   "cell_type": "code",
   "execution_count": 55,
   "metadata": {},
   "outputs": [
    {
     "name": "stdout",
     "output_type": "stream",
     "text": [
      "p-значение:1.1750365682247308e-144\n",
      "Отвергаем нулевую гипотезу\n"
     ]
    }
   ],
   "source": [
    "alpha = 0.05\n",
    "income_ultra = table.loc[table.loc[:,'tariff'] == 'ultra']['total_income']\n",
    "income_smart = table.loc[table.loc[:,'tariff'] == 'smart']['total_income']\n",
    "result = st.ttest_ind(income_smart,income_ultra) \n",
    "prob = result.pvalue\n",
    "print(\"p-значение:{}\".format(prob))\n",
    "if prob < alpha:\n",
    "    print(\"Отвергаем нулевую гипотезу\")\n",
    "else:\n",
    "    print(\"Не получилось нулевую гипотезу\")"
   ]
  },
  {
   "cell_type": "code",
   "execution_count": 57,
   "metadata": {},
   "outputs": [
    {
     "data": {
      "image/png": "[encoded data removed]",
      "text/plain": [
       "<Figure size 1080x504 with 1 Axes>"
      ]
     },
     "metadata": {
      "needs_background": "light"
     },
     "output_type": "display_data"
    }
   ],
   "source": [
    "for tariff_name in tariffs['tariff_name']:\n",
    "    statistic_table = (table[table['tariff'] == tariff_name].groupby('month')['total_income']\n",
    "                     .agg('mean'))\n",
    "    statistic_table.name = 'total_income_' + tariff_name\n",
    "    statistic_table.plot(figsize =(15,7), legend=True)"
   ]
  },
  {
   "cell_type": "markdown",
   "metadata": {},
   "source": [
    "Вывод: мы отвергли нулевую гипотезу, а это означает что гипотеза о том что средняя выручка пользователей тарифов «Ультра» и «Смарт» различаются имеет место быть. Также на графике изменения средней выручки по месяцам в разрезе тарифов - данные не противоречат нашему выводу."
   ]
  },
  {
   "cell_type": "markdown",
   "metadata": {},
   "source": [
    "### Cредняя выручка пользователей из Москвы отличается от выручки пользователей из других регионов."
   ]
  },
  {
   "cell_type": "code",
   "execution_count": 58,
   "metadata": {},
   "outputs": [
    {
     "name": "stdout",
     "output_type": "stream",
     "text": [
      "p-значение:0.5305308576929098\n",
      "Не получилось отвергнуть нулевую гипотезу\n"
     ]
    }
   ],
   "source": [
    "city_moscow = table.loc[table.loc[:,'city'] == 'Москва']['total_income']\n",
    "city_other = table.loc[table.loc[:,'city'] != 'Москва']['total_income']\n",
    "result_city = st.ttest_ind(city_moscow,city_other,equal_var=False) \n",
    "prob_city = result_city.pvalue\n",
    "print(\"p-значение:{}\".format(prob_city))\n",
    "if prob_city < alpha:\n",
    "    print(\"Отвергаем нулевую гипотезу\")\n",
    "else:\n",
    "    print(\"Не получилось отвергнуть нулевую гипотезу\")"
   ]
  },
  {
   "cell_type": "code",
   "execution_count": 59,
   "metadata": {},
   "outputs": [
    {
     "data": {
      "text/plain": [
       "<AxesSubplot:xlabel='month'>"
      ]
     },
     "execution_count": 59,
     "metadata": {},
     "output_type": "execute_result"
    },
    {
     "data": {
      "image/png": "[encoded data removed]",
      "text/plain": [
       "<Figure size 1080x504 with 1 Axes>"
      ]
     },
     "metadata": {
      "needs_background": "light"
     },
     "output_type": "display_data"
    }
   ],
   "source": [
    "statistic_table = (table[table['city'] == 'Москва'].groupby('month')['total_income']\n",
    "                                                   .agg('mean'))\n",
    "statistic_table.name = 'total_income_' + 'Москва'\n",
    "statistic_table.plot(figsize =(15,7), legend=True)\n",
    "statistic_table = (table[table['city'] != 'Москва'].groupby('month')['total_income']\n",
    "                                                   .agg('mean'))\n",
    "statistic_table.name = 'total_income_' + 'Остальные регионы'\n",
    "statistic_table.plot(figsize =(15,7), legend=True)"
   ]
  },
  {
   "cell_type": "markdown",
   "metadata": {},
   "source": [
    "Вывод: у нас не получилось отвергнуть нулевую гипотезу, а это означает что гипотеза о том что: средняя выручка пользователей из Москвы отличается от выручки пользователей из других регионов опровергнута. Что также подтверждается графиками гистограммы расположенной выше, хотя в начале года мы наблюдаем некоторые различия но как мы выяснили ранее - начало года совпадает с становление тарифов и число пользователей в начале года мало чтобы влиять на общую статистику."
   ]
  },
  {
   "cell_type": "markdown",
   "metadata": {},
   "source": [
    "## Общий вывод"
   ]
  },
  {
   "cell_type": "markdown",
   "metadata": {},
   "source": [
    "В этом проекте мы попытались дать рекамендацию: На какой тарифный план стоит распределить рекламный бюджет?. Для начала мы открыли предоставленные датасеты и ознакомились с данными. Привели данные к подходящим типам и единицам измерения. Затем мы проанализировали поведение типичного пользователя тарифов \"Smart\" и \"Ultra\", установили что пользователей тарифа \"Smart\" большинство и они часто превышают квоты предоплаченных пакетов: минут, сообщений и интернета. В свою очередь пользователи тарифа \"Ultra\" не успевают выбирать предоплаченные минуты и сообщения, но все же некоторым пользователям не хватает пакета интернета. \n",
    "\n",
    "Перед нами также стояла задача о проверке двух гипотез. Гипотеза о том что: средняя выручка пользователей тарифов «Ультра» и «Смарт» различаются - не опровергнута. А гипотеза о том что: средняя выручка пользователей из Москвы отличается от выручки пользователей из других регионов - не подтвердилась.\n",
    "\n",
    "Рекомендация для коммерческого департамента - рекламный бюджет стоит направить на тариф \"smart\", по тарифу \"smart\" более динамично растет выручка в течении года, также платежи по этому тарифу приносят основную часть доходов компании, причем платежи по этому тарифу состоят в основном из платежей превышения предоплаченного пакета интернет трафика 45.3 %, платежей по месячной абонентской платы 41.7 %, платежей превышения пакета минут 9.5%, платежей превышения пакета сообщений 3.5%"
   ]
  }
 ],
 "metadata": {
  "ExecuteTimeLog": [
   {
    "duration": 1243,
    "start_time": "2022-08-09T10:25:42.392Z"
   },
   {
    "duration": 91,
    "start_time": "2022-08-09T10:26:53.714Z"
   },
   {
    "duration": 252,
    "start_time": "2022-08-09T10:27:02.274Z"
   },
   {
    "duration": 15,
    "start_time": "2022-08-09T10:27:09.266Z"
   },
   {
    "duration": 27,
    "start_time": "2022-08-09T10:27:30.946Z"
   },
   {
    "duration": 26,
    "start_time": "2022-08-09T10:27:39.868Z"
   },
   {
    "duration": 170,
    "start_time": "2022-08-09T10:29:45.435Z"
   },
   {
    "duration": 45,
    "start_time": "2022-08-09T10:32:37.340Z"
   },
   {
    "duration": 38,
    "start_time": "2022-08-09T10:32:53.122Z"
   },
   {
    "duration": 4,
    "start_time": "2022-08-09T10:34:39.164Z"
   },
   {
    "duration": 29,
    "start_time": "2022-08-09T10:34:44.211Z"
   },
   {
    "duration": 10,
    "start_time": "2022-08-09T10:34:57.610Z"
   },
   {
    "duration": 11,
    "start_time": "2022-08-09T10:35:50.441Z"
   },
   {
    "duration": 4,
    "start_time": "2022-08-09T10:37:37.882Z"
   },
   {
    "duration": 5,
    "start_time": "2022-08-09T10:37:56.085Z"
   },
   {
    "duration": 991,
    "start_time": "2022-08-09T10:38:03.248Z"
   },
   {
    "duration": 177,
    "start_time": "2022-08-09T10:38:04.241Z"
   },
   {
    "duration": 25,
    "start_time": "2022-08-09T10:38:04.419Z"
   },
   {
    "duration": 60,
    "start_time": "2022-08-09T10:38:04.445Z"
   },
   {
    "duration": 5,
    "start_time": "2022-08-09T10:38:04.507Z"
   },
   {
    "duration": 9,
    "start_time": "2022-08-09T10:38:04.513Z"
   },
   {
    "duration": 5,
    "start_time": "2022-08-09T10:38:29.736Z"
   },
   {
    "duration": 6,
    "start_time": "2022-08-09T10:38:33.357Z"
   },
   {
    "duration": 9,
    "start_time": "2022-08-09T10:38:33.826Z"
   },
   {
    "duration": 1061,
    "start_time": "2022-08-09T10:38:44.373Z"
   },
   {
    "duration": 176,
    "start_time": "2022-08-09T10:38:45.435Z"
   },
   {
    "duration": 24,
    "start_time": "2022-08-09T10:38:45.612Z"
   },
   {
    "duration": 60,
    "start_time": "2022-08-09T10:38:45.639Z"
   },
   {
    "duration": 5,
    "start_time": "2022-08-09T10:38:45.701Z"
   },
   {
    "duration": 9,
    "start_time": "2022-08-09T10:38:45.708Z"
   },
   {
    "duration": 388,
    "start_time": "2022-08-09T10:42:06.212Z"
   },
   {
    "duration": 161,
    "start_time": "2022-08-09T10:42:37.963Z"
   },
   {
    "duration": 151,
    "start_time": "2022-08-09T10:42:43.504Z"
   },
   {
    "duration": 19,
    "start_time": "2022-08-09T10:42:46.090Z"
   },
   {
    "duration": 140,
    "start_time": "2022-08-09T10:43:03.526Z"
   },
   {
    "duration": 21,
    "start_time": "2022-08-09T10:43:09.184Z"
   },
   {
    "duration": 139,
    "start_time": "2022-08-09T10:44:10.471Z"
   },
   {
    "duration": 158,
    "start_time": "2022-08-09T10:50:10.478Z"
   },
   {
    "duration": 145,
    "start_time": "2022-08-09T10:50:17.305Z"
   },
   {
    "duration": 149,
    "start_time": "2022-08-09T10:50:29.763Z"
   },
   {
    "duration": 139,
    "start_time": "2022-08-09T10:50:35.154Z"
   },
   {
    "duration": 142,
    "start_time": "2022-08-09T10:50:57.751Z"
   },
   {
    "duration": 114,
    "start_time": "2022-08-09T10:52:10.145Z"
   },
   {
    "duration": 146,
    "start_time": "2022-08-09T10:52:20.441Z"
   },
   {
    "duration": 20,
    "start_time": "2022-08-09T10:52:21.740Z"
   },
   {
    "duration": 29,
    "start_time": "2022-08-09T10:52:22.490Z"
   },
   {
    "duration": 14,
    "start_time": "2022-08-09T10:54:11.923Z"
   },
   {
    "duration": 151,
    "start_time": "2022-08-09T10:54:18.185Z"
   },
   {
    "duration": 22,
    "start_time": "2022-08-09T10:54:18.970Z"
   },
   {
    "duration": 32,
    "start_time": "2022-08-09T10:54:19.687Z"
   },
   {
    "duration": 8,
    "start_time": "2022-08-09T10:54:28.210Z"
   },
   {
    "duration": 8,
    "start_time": "2022-08-09T10:54:35.438Z"
   },
   {
    "duration": 143,
    "start_time": "2022-08-09T10:54:47.856Z"
   },
   {
    "duration": 35,
    "start_time": "2022-08-09T10:55:20.167Z"
   },
   {
    "duration": 9,
    "start_time": "2022-08-09T10:55:32.211Z"
   },
   {
    "duration": 13,
    "start_time": "2022-08-09T10:56:32.947Z"
   },
   {
    "duration": 144,
    "start_time": "2022-08-09T10:56:36.885Z"
   },
   {
    "duration": 23,
    "start_time": "2022-08-09T10:56:37.387Z"
   },
   {
    "duration": 43,
    "start_time": "2022-08-09T10:56:37.926Z"
   },
   {
    "duration": 8,
    "start_time": "2022-08-09T10:56:43.243Z"
   },
   {
    "duration": 142,
    "start_time": "2022-08-09T10:57:34.296Z"
   },
   {
    "duration": 21,
    "start_time": "2022-08-09T10:57:35.053Z"
   },
   {
    "duration": 42,
    "start_time": "2022-08-09T10:57:35.748Z"
   },
   {
    "duration": 9,
    "start_time": "2022-08-09T10:57:36.996Z"
   },
   {
    "duration": 16,
    "start_time": "2022-08-09T11:00:07.952Z"
   },
   {
    "duration": 22,
    "start_time": "2022-08-09T11:00:37.319Z"
   },
   {
    "duration": 165,
    "start_time": "2022-08-09T11:00:50.733Z"
   },
   {
    "duration": 46,
    "start_time": "2022-08-09T11:00:55.940Z"
   },
   {
    "duration": 22,
    "start_time": "2022-08-09T11:01:05.654Z"
   },
   {
    "duration": 168,
    "start_time": "2022-08-09T11:01:25.878Z"
   },
   {
    "duration": 36,
    "start_time": "2022-08-09T11:01:26.850Z"
   },
   {
    "duration": 20,
    "start_time": "2022-08-09T11:01:27.843Z"
   },
   {
    "duration": 165,
    "start_time": "2022-08-09T11:02:41.455Z"
   },
   {
    "duration": 364,
    "start_time": "2022-08-09T11:03:01.154Z"
   },
   {
    "duration": 22,
    "start_time": "2022-08-09T11:04:30.258Z"
   },
   {
    "duration": 17,
    "start_time": "2022-08-09T11:04:36.358Z"
   },
   {
    "duration": 80,
    "start_time": "2022-08-09T11:17:01.271Z"
   },
   {
    "duration": 39,
    "start_time": "2022-08-09T11:17:33.871Z"
   },
   {
    "duration": 8,
    "start_time": "2022-08-09T11:20:50.585Z"
   },
   {
    "duration": 10,
    "start_time": "2022-08-09T11:21:58.351Z"
   },
   {
    "duration": 39,
    "start_time": "2022-08-09T11:22:03.673Z"
   },
   {
    "duration": 10,
    "start_time": "2022-08-09T11:22:04.345Z"
   },
   {
    "duration": 39,
    "start_time": "2022-08-09T11:23:35.832Z"
   },
   {
    "duration": 9,
    "start_time": "2022-08-09T11:23:37.988Z"
   },
   {
    "duration": 874,
    "start_time": "2022-08-09T11:23:47.660Z"
   },
   {
    "duration": 39,
    "start_time": "2022-08-09T11:24:02.591Z"
   },
   {
    "duration": 10,
    "start_time": "2022-08-09T11:24:03.309Z"
   },
   {
    "duration": 1376,
    "start_time": "2022-08-09T11:24:17.510Z"
   },
   {
    "duration": 38,
    "start_time": "2022-08-09T11:24:22.298Z"
   },
   {
    "duration": 9,
    "start_time": "2022-08-09T11:24:22.911Z"
   },
   {
    "duration": 94,
    "start_time": "2022-08-09T11:25:55.792Z"
   },
   {
    "duration": 4,
    "start_time": "2022-08-09T11:28:19.763Z"
   },
   {
    "duration": 18,
    "start_time": "2022-08-09T11:28:26.081Z"
   },
   {
    "duration": 4,
    "start_time": "2022-08-09T11:28:57.710Z"
   },
   {
    "duration": 8,
    "start_time": "2022-08-09T11:29:18.394Z"
   },
   {
    "duration": 6,
    "start_time": "2022-08-09T11:29:28.695Z"
   },
   {
    "duration": 5,
    "start_time": "2022-08-09T11:30:29.109Z"
   },
   {
    "duration": 4,
    "start_time": "2022-08-09T11:30:57.837Z"
   },
   {
    "duration": 23,
    "start_time": "2022-08-09T11:41:38.665Z"
   },
   {
    "duration": 22,
    "start_time": "2022-08-09T11:41:45.342Z"
   },
   {
    "duration": 21,
    "start_time": "2022-08-09T11:42:37.378Z"
   },
   {
    "duration": 20,
    "start_time": "2022-08-09T11:42:47.917Z"
   },
   {
    "duration": 15,
    "start_time": "2022-08-09T11:43:13.327Z"
   },
   {
    "duration": 14,
    "start_time": "2022-08-09T11:43:38.376Z"
   },
   {
    "duration": 17,
    "start_time": "2022-08-09T11:43:58.046Z"
   },
   {
    "duration": 1046,
    "start_time": "2022-08-09T11:44:05.525Z"
   },
   {
    "duration": 427,
    "start_time": "2022-08-09T11:44:06.573Z"
   },
   {
    "duration": 34,
    "start_time": "2022-08-09T11:44:07.002Z"
   },
   {
    "duration": 26,
    "start_time": "2022-08-09T11:44:07.037Z"
   },
   {
    "duration": 32,
    "start_time": "2022-08-09T11:44:07.065Z"
   },
   {
    "duration": 14,
    "start_time": "2022-08-09T11:44:07.099Z"
   },
   {
    "duration": 17,
    "start_time": "2022-08-09T11:44:07.115Z"
   },
   {
    "duration": 84,
    "start_time": "2022-08-09T11:44:07.134Z"
   },
   {
    "duration": 6,
    "start_time": "2022-08-09T11:44:07.220Z"
   },
   {
    "duration": 9,
    "start_time": "2022-08-09T11:44:07.227Z"
   },
   {
    "duration": 55,
    "start_time": "2022-08-09T11:44:07.238Z"
   },
   {
    "duration": 23,
    "start_time": "2022-08-09T11:44:07.294Z"
   },
   {
    "duration": 20,
    "start_time": "2022-08-09T11:44:07.318Z"
   },
   {
    "duration": 15,
    "start_time": "2022-08-09T11:44:07.341Z"
   },
   {
    "duration": 36,
    "start_time": "2022-08-09T11:44:07.358Z"
   },
   {
    "duration": 10,
    "start_time": "2022-08-09T11:44:07.395Z"
   },
   {
    "duration": 21,
    "start_time": "2022-08-09T11:44:07.407Z"
   },
   {
    "duration": 5,
    "start_time": "2022-08-09T11:44:07.430Z"
   },
   {
    "duration": 9,
    "start_time": "2022-08-09T11:44:07.436Z"
   },
   {
    "duration": 6,
    "start_time": "2022-08-09T11:44:07.446Z"
   },
   {
    "duration": 1081,
    "start_time": "2022-08-09T11:44:34.852Z"
   },
   {
    "duration": 424,
    "start_time": "2022-08-09T11:44:35.934Z"
   },
   {
    "duration": 34,
    "start_time": "2022-08-09T11:44:36.359Z"
   },
   {
    "duration": 39,
    "start_time": "2022-08-09T11:44:36.395Z"
   },
   {
    "duration": 23,
    "start_time": "2022-08-09T11:44:36.436Z"
   },
   {
    "duration": 39,
    "start_time": "2022-08-09T11:44:36.460Z"
   },
   {
    "duration": 28,
    "start_time": "2022-08-09T11:44:36.501Z"
   },
   {
    "duration": 81,
    "start_time": "2022-08-09T11:44:36.532Z"
   },
   {
    "duration": 10,
    "start_time": "2022-08-09T11:44:36.616Z"
   },
   {
    "duration": 9,
    "start_time": "2022-08-09T11:44:36.628Z"
   },
   {
    "duration": 60,
    "start_time": "2022-08-09T11:44:36.639Z"
   },
   {
    "duration": 27,
    "start_time": "2022-08-09T11:44:36.702Z"
   },
   {
    "duration": 32,
    "start_time": "2022-08-09T11:44:36.731Z"
   },
   {
    "duration": 34,
    "start_time": "2022-08-09T11:44:36.765Z"
   },
   {
    "duration": 11,
    "start_time": "2022-08-09T11:44:36.802Z"
   },
   {
    "duration": 18,
    "start_time": "2022-08-09T11:44:36.814Z"
   },
   {
    "duration": 29,
    "start_time": "2022-08-09T11:44:36.835Z"
   },
   {
    "duration": 4,
    "start_time": "2022-08-09T11:44:36.866Z"
   },
   {
    "duration": 17,
    "start_time": "2022-08-09T11:44:36.872Z"
   },
   {
    "duration": 6,
    "start_time": "2022-08-09T11:44:36.890Z"
   },
   {
    "duration": 1121,
    "start_time": "2022-08-09T11:45:03.211Z"
   },
   {
    "duration": 434,
    "start_time": "2022-08-09T11:45:04.333Z"
   },
   {
    "duration": 36,
    "start_time": "2022-08-09T11:45:04.769Z"
   },
   {
    "duration": 27,
    "start_time": "2022-08-09T11:45:04.808Z"
   },
   {
    "duration": 26,
    "start_time": "2022-08-09T11:45:04.837Z"
   },
   {
    "duration": 33,
    "start_time": "2022-08-09T11:45:04.864Z"
   },
   {
    "duration": 17,
    "start_time": "2022-08-09T11:45:04.899Z"
   },
   {
    "duration": 77,
    "start_time": "2022-08-09T11:45:04.918Z"
   },
   {
    "duration": 6,
    "start_time": "2022-08-09T11:45:04.996Z"
   },
   {
    "duration": 8,
    "start_time": "2022-08-09T11:45:05.004Z"
   },
   {
    "duration": 44,
    "start_time": "2022-08-09T11:45:05.014Z"
   },
   {
    "duration": 40,
    "start_time": "2022-08-09T11:45:05.060Z"
   },
   {
    "duration": 19,
    "start_time": "2022-08-09T11:45:05.102Z"
   },
   {
    "duration": 14,
    "start_time": "2022-08-09T11:45:05.122Z"
   },
   {
    "duration": 10,
    "start_time": "2022-08-09T11:45:05.137Z"
   },
   {
    "duration": 16,
    "start_time": "2022-08-09T11:45:05.148Z"
   },
   {
    "duration": 32,
    "start_time": "2022-08-09T11:45:05.166Z"
   },
   {
    "duration": 6,
    "start_time": "2022-08-09T11:45:05.199Z"
   },
   {
    "duration": 12,
    "start_time": "2022-08-09T11:45:05.207Z"
   },
   {
    "duration": 7,
    "start_time": "2022-08-09T11:45:05.221Z"
   },
   {
    "duration": 1075,
    "start_time": "2022-08-09T11:45:52.459Z"
   },
   {
    "duration": 429,
    "start_time": "2022-08-09T11:45:53.536Z"
   },
   {
    "duration": 34,
    "start_time": "2022-08-09T11:45:53.966Z"
   },
   {
    "duration": 29,
    "start_time": "2022-08-09T11:45:54.001Z"
   },
   {
    "duration": 22,
    "start_time": "2022-08-09T11:45:54.032Z"
   },
   {
    "duration": 38,
    "start_time": "2022-08-09T11:45:54.056Z"
   },
   {
    "duration": 18,
    "start_time": "2022-08-09T11:45:54.096Z"
   },
   {
    "duration": 74,
    "start_time": "2022-08-09T11:45:54.115Z"
   },
   {
    "duration": 7,
    "start_time": "2022-08-09T11:45:54.190Z"
   },
   {
    "duration": 10,
    "start_time": "2022-08-09T11:45:54.198Z"
   },
   {
    "duration": 42,
    "start_time": "2022-08-09T11:45:54.209Z"
   },
   {
    "duration": 39,
    "start_time": "2022-08-09T11:45:54.252Z"
   },
   {
    "duration": 18,
    "start_time": "2022-08-09T11:45:54.293Z"
   },
   {
    "duration": 15,
    "start_time": "2022-08-09T11:45:54.314Z"
   },
   {
    "duration": 10,
    "start_time": "2022-08-09T11:45:54.330Z"
   },
   {
    "duration": 12,
    "start_time": "2022-08-09T11:45:54.341Z"
   },
   {
    "duration": 47,
    "start_time": "2022-08-09T11:45:54.354Z"
   },
   {
    "duration": 5,
    "start_time": "2022-08-09T11:45:54.403Z"
   },
   {
    "duration": 8,
    "start_time": "2022-08-09T11:45:54.409Z"
   },
   {
    "duration": 9,
    "start_time": "2022-08-09T11:45:54.419Z"
   },
   {
    "duration": 8,
    "start_time": "2022-08-09T11:51:18.385Z"
   },
   {
    "duration": 94,
    "start_time": "2022-08-09T11:52:06.913Z"
   },
   {
    "duration": 9,
    "start_time": "2022-08-09T11:52:13.245Z"
   },
   {
    "duration": 135,
    "start_time": "2022-08-09T11:52:56.717Z"
   },
   {
    "duration": 138,
    "start_time": "2022-08-09T11:53:02.901Z"
   },
   {
    "duration": 21,
    "start_time": "2022-08-09T11:53:21.522Z"
   },
   {
    "duration": 10,
    "start_time": "2022-08-09T11:56:18.954Z"
   },
   {
    "duration": 22,
    "start_time": "2022-08-09T12:09:58.586Z"
   },
   {
    "duration": 12,
    "start_time": "2022-08-09T12:10:08.178Z"
   },
   {
    "duration": 39,
    "start_time": "2022-08-09T12:12:08.280Z"
   },
   {
    "duration": 37,
    "start_time": "2022-08-09T12:12:17.268Z"
   },
   {
    "duration": 37,
    "start_time": "2022-08-09T12:12:30.901Z"
   },
   {
    "duration": 17,
    "start_time": "2022-08-09T12:14:13.032Z"
   },
   {
    "duration": 23,
    "start_time": "2022-08-09T12:14:18.083Z"
   },
   {
    "duration": 19,
    "start_time": "2022-08-09T12:14:44.075Z"
   },
   {
    "duration": 21,
    "start_time": "2022-08-09T12:15:25.916Z"
   },
   {
    "duration": 19,
    "start_time": "2022-08-09T12:15:33.990Z"
   },
   {
    "duration": 838,
    "start_time": "2022-08-09T12:17:41.140Z"
   },
   {
    "duration": 9,
    "start_time": "2022-08-09T12:17:49.322Z"
   },
   {
    "duration": 15,
    "start_time": "2022-08-09T12:17:59.968Z"
   },
   {
    "duration": 14,
    "start_time": "2022-08-09T12:18:27.813Z"
   },
   {
    "duration": 16,
    "start_time": "2022-08-09T12:18:40.418Z"
   },
   {
    "duration": 16,
    "start_time": "2022-08-09T12:19:18.088Z"
   },
   {
    "duration": 16,
    "start_time": "2022-08-09T12:19:23.336Z"
   },
   {
    "duration": 18,
    "start_time": "2022-08-09T12:19:38.118Z"
   },
   {
    "duration": 30,
    "start_time": "2022-08-09T12:19:54.950Z"
   },
   {
    "duration": 26,
    "start_time": "2022-08-09T12:20:25.767Z"
   },
   {
    "duration": 12,
    "start_time": "2022-08-09T12:21:42.753Z"
   },
   {
    "duration": 1012,
    "start_time": "2022-08-09T12:23:19.604Z"
   },
   {
    "duration": 12,
    "start_time": "2022-08-09T12:23:35.023Z"
   },
   {
    "duration": 1077,
    "start_time": "2022-08-09T12:24:49.352Z"
   },
   {
    "duration": 456,
    "start_time": "2022-08-09T12:24:50.430Z"
   },
   {
    "duration": 35,
    "start_time": "2022-08-09T12:24:50.888Z"
   },
   {
    "duration": 27,
    "start_time": "2022-08-09T12:24:50.925Z"
   },
   {
    "duration": 48,
    "start_time": "2022-08-09T12:24:50.955Z"
   },
   {
    "duration": 16,
    "start_time": "2022-08-09T12:24:51.004Z"
   },
   {
    "duration": 19,
    "start_time": "2022-08-09T12:24:51.022Z"
   },
   {
    "duration": 83,
    "start_time": "2022-08-09T12:24:51.042Z"
   },
   {
    "duration": 6,
    "start_time": "2022-08-09T12:24:51.127Z"
   },
   {
    "duration": 21,
    "start_time": "2022-08-09T12:24:51.134Z"
   },
   {
    "duration": 43,
    "start_time": "2022-08-09T12:24:51.156Z"
   },
   {
    "duration": 25,
    "start_time": "2022-08-09T12:24:51.201Z"
   },
   {
    "duration": 23,
    "start_time": "2022-08-09T12:24:51.228Z"
   },
   {
    "duration": 14,
    "start_time": "2022-08-09T12:24:51.254Z"
   },
   {
    "duration": 40,
    "start_time": "2022-08-09T12:24:51.269Z"
   },
   {
    "duration": 5,
    "start_time": "2022-08-09T12:24:51.311Z"
   },
   {
    "duration": 24,
    "start_time": "2022-08-09T12:24:51.318Z"
   },
   {
    "duration": 125,
    "start_time": "2022-08-09T12:24:51.343Z"
   },
   {
    "duration": 0,
    "start_time": "2022-08-09T12:24:51.470Z"
   },
   {
    "duration": 0,
    "start_time": "2022-08-09T12:24:51.471Z"
   },
   {
    "duration": 0,
    "start_time": "2022-08-09T12:24:51.472Z"
   },
   {
    "duration": 0,
    "start_time": "2022-08-09T12:24:51.473Z"
   },
   {
    "duration": 0,
    "start_time": "2022-08-09T12:24:51.486Z"
   },
   {
    "duration": 0,
    "start_time": "2022-08-09T12:24:51.488Z"
   },
   {
    "duration": 0,
    "start_time": "2022-08-09T12:24:51.490Z"
   },
   {
    "duration": 0,
    "start_time": "2022-08-09T12:24:51.491Z"
   },
   {
    "duration": 1174,
    "start_time": "2022-08-09T12:25:24.642Z"
   },
   {
    "duration": 460,
    "start_time": "2022-08-09T12:25:25.818Z"
   },
   {
    "duration": 51,
    "start_time": "2022-08-09T12:25:26.280Z"
   },
   {
    "duration": 33,
    "start_time": "2022-08-09T12:25:26.333Z"
   },
   {
    "duration": 55,
    "start_time": "2022-08-09T12:25:26.368Z"
   },
   {
    "duration": 19,
    "start_time": "2022-08-09T12:25:26.425Z"
   },
   {
    "duration": 41,
    "start_time": "2022-08-09T12:25:26.446Z"
   },
   {
    "duration": 61,
    "start_time": "2022-08-09T12:25:26.494Z"
   },
   {
    "duration": 7,
    "start_time": "2022-08-09T12:25:26.557Z"
   },
   {
    "duration": 27,
    "start_time": "2022-08-09T12:25:26.566Z"
   },
   {
    "duration": 53,
    "start_time": "2022-08-09T12:25:26.595Z"
   },
   {
    "duration": 23,
    "start_time": "2022-08-09T12:25:26.649Z"
   },
   {
    "duration": 29,
    "start_time": "2022-08-09T12:25:26.673Z"
   },
   {
    "duration": 18,
    "start_time": "2022-08-09T12:25:26.705Z"
   },
   {
    "duration": 10,
    "start_time": "2022-08-09T12:25:26.725Z"
   },
   {
    "duration": 4,
    "start_time": "2022-08-09T12:25:26.737Z"
   },
   {
    "duration": 24,
    "start_time": "2022-08-09T12:25:26.742Z"
   },
   {
    "duration": 22,
    "start_time": "2022-08-09T12:25:26.768Z"
   },
   {
    "duration": 6,
    "start_time": "2022-08-09T12:25:26.792Z"
   },
   {
    "duration": 28,
    "start_time": "2022-08-09T12:25:26.800Z"
   },
   {
    "duration": 26,
    "start_time": "2022-08-09T12:25:26.830Z"
   },
   {
    "duration": 37,
    "start_time": "2022-08-09T12:25:26.857Z"
   },
   {
    "duration": 32,
    "start_time": "2022-08-09T12:25:26.896Z"
   },
   {
    "duration": 11,
    "start_time": "2022-08-09T12:25:26.930Z"
   },
   {
    "duration": 1858,
    "start_time": "2022-08-09T12:25:26.942Z"
   },
   {
    "duration": 1066,
    "start_time": "2022-08-09T12:26:03.710Z"
   },
   {
    "duration": 418,
    "start_time": "2022-08-09T12:26:04.778Z"
   },
   {
    "duration": 33,
    "start_time": "2022-08-09T12:26:05.198Z"
   },
   {
    "duration": 26,
    "start_time": "2022-08-09T12:26:05.232Z"
   },
   {
    "duration": 36,
    "start_time": "2022-08-09T12:26:05.261Z"
   },
   {
    "duration": 15,
    "start_time": "2022-08-09T12:26:05.299Z"
   },
   {
    "duration": 17,
    "start_time": "2022-08-09T12:26:05.315Z"
   },
   {
    "duration": 81,
    "start_time": "2022-08-09T12:26:05.334Z"
   },
   {
    "duration": 7,
    "start_time": "2022-08-09T12:26:05.416Z"
   },
   {
    "duration": 10,
    "start_time": "2022-08-09T12:26:05.424Z"
   },
   {
    "duration": 40,
    "start_time": "2022-08-09T12:26:05.435Z"
   },
   {
    "duration": 22,
    "start_time": "2022-08-09T12:26:05.487Z"
   },
   {
    "duration": 19,
    "start_time": "2022-08-09T12:26:05.511Z"
   },
   {
    "duration": 16,
    "start_time": "2022-08-09T12:26:05.533Z"
   },
   {
    "duration": 10,
    "start_time": "2022-08-09T12:26:05.550Z"
   },
   {
    "duration": 27,
    "start_time": "2022-08-09T12:26:05.562Z"
   },
   {
    "duration": 23,
    "start_time": "2022-08-09T12:26:05.590Z"
   },
   {
    "duration": 4,
    "start_time": "2022-08-09T12:26:05.614Z"
   },
   {
    "duration": 10,
    "start_time": "2022-08-09T12:26:05.620Z"
   },
   {
    "duration": 28,
    "start_time": "2022-08-09T12:26:05.631Z"
   },
   {
    "duration": 43,
    "start_time": "2022-08-09T12:26:05.661Z"
   },
   {
    "duration": 14,
    "start_time": "2022-08-09T12:26:05.705Z"
   },
   {
    "duration": 30,
    "start_time": "2022-08-09T12:26:05.720Z"
   },
   {
    "duration": 12,
    "start_time": "2022-08-09T12:26:05.751Z"
   },
   {
    "duration": 886,
    "start_time": "2022-08-09T12:26:05.764Z"
   },
   {
    "duration": 31,
    "start_time": "2022-08-09T12:26:43.365Z"
   },
   {
    "duration": 36,
    "start_time": "2022-08-09T12:26:54.739Z"
   },
   {
    "duration": 7,
    "start_time": "2022-08-09T12:36:40.231Z"
   },
   {
    "duration": 19,
    "start_time": "2022-08-09T12:36:43.984Z"
   },
   {
    "duration": 11,
    "start_time": "2022-08-09T12:37:13.140Z"
   },
   {
    "duration": 9,
    "start_time": "2022-08-09T12:37:47.590Z"
   },
   {
    "duration": 11,
    "start_time": "2022-08-09T12:37:51.784Z"
   },
   {
    "duration": 7,
    "start_time": "2022-08-09T12:38:10.699Z"
   },
   {
    "duration": 11,
    "start_time": "2022-08-09T12:38:11.303Z"
   },
   {
    "duration": 8,
    "start_time": "2022-08-09T12:40:04.504Z"
   },
   {
    "duration": 19,
    "start_time": "2022-08-09T12:40:06.378Z"
   },
   {
    "duration": 12,
    "start_time": "2022-08-09T12:40:38.969Z"
   },
   {
    "duration": 15,
    "start_time": "2022-08-09T12:40:39.342Z"
   },
   {
    "duration": 7,
    "start_time": "2022-08-09T12:41:03.610Z"
   },
   {
    "duration": 16,
    "start_time": "2022-08-09T12:42:24.884Z"
   },
   {
    "duration": 16,
    "start_time": "2022-08-09T12:42:26.601Z"
   },
   {
    "duration": 13,
    "start_time": "2022-08-09T12:44:02.058Z"
   },
   {
    "duration": 13,
    "start_time": "2022-08-09T12:44:02.704Z"
   },
   {
    "duration": 6,
    "start_time": "2022-08-09T12:44:49.353Z"
   },
   {
    "duration": 14,
    "start_time": "2022-08-09T12:44:50.933Z"
   },
   {
    "duration": 9,
    "start_time": "2022-08-09T12:46:02.951Z"
   },
   {
    "duration": 10,
    "start_time": "2022-08-09T12:47:06.898Z"
   },
   {
    "duration": 9,
    "start_time": "2022-08-09T12:47:16.058Z"
   },
   {
    "duration": 10,
    "start_time": "2022-08-09T12:49:33.665Z"
   },
   {
    "duration": 15,
    "start_time": "2022-08-09T12:49:38.268Z"
   },
   {
    "duration": 1027,
    "start_time": "2022-08-09T12:49:51.812Z"
   },
   {
    "duration": 429,
    "start_time": "2022-08-09T12:49:52.840Z"
   },
   {
    "duration": 37,
    "start_time": "2022-08-09T12:49:53.271Z"
   },
   {
    "duration": 28,
    "start_time": "2022-08-09T12:49:53.309Z"
   },
   {
    "duration": 23,
    "start_time": "2022-08-09T12:49:53.339Z"
   },
   {
    "duration": 32,
    "start_time": "2022-08-09T12:49:53.364Z"
   },
   {
    "duration": 17,
    "start_time": "2022-08-09T12:49:53.397Z"
   },
   {
    "duration": 72,
    "start_time": "2022-08-09T12:49:53.416Z"
   },
   {
    "duration": 6,
    "start_time": "2022-08-09T12:49:53.489Z"
   },
   {
    "duration": 11,
    "start_time": "2022-08-09T12:49:53.496Z"
   },
   {
    "duration": 35,
    "start_time": "2022-08-09T12:49:53.509Z"
   },
   {
    "duration": 41,
    "start_time": "2022-08-09T12:49:53.546Z"
   },
   {
    "duration": 19,
    "start_time": "2022-08-09T12:49:53.589Z"
   },
   {
    "duration": 14,
    "start_time": "2022-08-09T12:49:53.611Z"
   },
   {
    "duration": 10,
    "start_time": "2022-08-09T12:49:53.626Z"
   },
   {
    "duration": 4,
    "start_time": "2022-08-09T12:49:53.637Z"
   },
   {
    "duration": 46,
    "start_time": "2022-08-09T12:49:53.642Z"
   },
   {
    "duration": 5,
    "start_time": "2022-08-09T12:49:53.689Z"
   },
   {
    "duration": 8,
    "start_time": "2022-08-09T12:49:53.695Z"
   },
   {
    "duration": 27,
    "start_time": "2022-08-09T12:49:53.705Z"
   },
   {
    "duration": 24,
    "start_time": "2022-08-09T12:49:53.734Z"
   },
   {
    "duration": 35,
    "start_time": "2022-08-09T12:49:53.760Z"
   },
   {
    "duration": 30,
    "start_time": "2022-08-09T12:49:53.797Z"
   },
   {
    "duration": 12,
    "start_time": "2022-08-09T12:49:53.828Z"
   },
   {
    "duration": 58,
    "start_time": "2022-08-09T12:49:53.842Z"
   },
   {
    "duration": 9,
    "start_time": "2022-08-09T12:49:53.902Z"
   },
   {
    "duration": 15,
    "start_time": "2022-08-09T12:49:53.912Z"
   },
   {
    "duration": 10,
    "start_time": "2022-08-09T12:50:37.492Z"
   },
   {
    "duration": 13,
    "start_time": "2022-08-09T12:51:32.163Z"
   },
   {
    "duration": 11,
    "start_time": "2022-08-09T12:51:32.903Z"
   },
   {
    "duration": 21,
    "start_time": "2022-08-09T12:52:15.233Z"
   },
   {
    "duration": 8,
    "start_time": "2022-08-09T12:53:18.308Z"
   },
   {
    "duration": 13,
    "start_time": "2022-08-09T12:53:20.039Z"
   },
   {
    "duration": 1048,
    "start_time": "2022-08-09T12:53:33.349Z"
   },
   {
    "duration": 408,
    "start_time": "2022-08-09T12:53:34.399Z"
   },
   {
    "duration": 35,
    "start_time": "2022-08-09T12:53:34.809Z"
   },
   {
    "duration": 26,
    "start_time": "2022-08-09T12:53:34.846Z"
   },
   {
    "duration": 22,
    "start_time": "2022-08-09T12:53:34.874Z"
   },
   {
    "duration": 14,
    "start_time": "2022-08-09T12:53:34.897Z"
   },
   {
    "duration": 16,
    "start_time": "2022-08-09T12:53:34.913Z"
   },
   {
    "duration": 80,
    "start_time": "2022-08-09T12:53:34.931Z"
   },
   {
    "duration": 5,
    "start_time": "2022-08-09T12:53:35.013Z"
   },
   {
    "duration": 10,
    "start_time": "2022-08-09T12:53:35.020Z"
   },
   {
    "duration": 38,
    "start_time": "2022-08-09T12:53:35.031Z"
   },
   {
    "duration": 27,
    "start_time": "2022-08-09T12:53:35.070Z"
   },
   {
    "duration": 19,
    "start_time": "2022-08-09T12:53:35.098Z"
   },
   {
    "duration": 19,
    "start_time": "2022-08-09T12:53:35.120Z"
   },
   {
    "duration": 11,
    "start_time": "2022-08-09T12:53:35.140Z"
   },
   {
    "duration": 4,
    "start_time": "2022-08-09T12:53:35.153Z"
   },
   {
    "duration": 41,
    "start_time": "2022-08-09T12:53:35.158Z"
   },
   {
    "duration": 5,
    "start_time": "2022-08-09T12:53:35.201Z"
   },
   {
    "duration": 6,
    "start_time": "2022-08-09T12:53:35.208Z"
   },
   {
    "duration": 23,
    "start_time": "2022-08-09T12:53:35.215Z"
   },
   {
    "duration": 51,
    "start_time": "2022-08-09T12:53:35.239Z"
   },
   {
    "duration": 19,
    "start_time": "2022-08-09T12:53:35.292Z"
   },
   {
    "duration": 27,
    "start_time": "2022-08-09T12:53:35.312Z"
   },
   {
    "duration": 11,
    "start_time": "2022-08-09T12:53:35.340Z"
   },
   {
    "duration": 64,
    "start_time": "2022-08-09T12:53:35.352Z"
   },
   {
    "duration": 8,
    "start_time": "2022-08-09T12:53:35.418Z"
   },
   {
    "duration": 9,
    "start_time": "2022-08-09T12:53:35.427Z"
   },
   {
    "duration": 31,
    "start_time": "2022-08-09T12:56:24.370Z"
   },
   {
    "duration": 35,
    "start_time": "2022-08-09T12:56:55.195Z"
   },
   {
    "duration": 8,
    "start_time": "2022-08-09T12:57:25.350Z"
   },
   {
    "duration": 10,
    "start_time": "2022-08-09T12:57:26.939Z"
   },
   {
    "duration": 115,
    "start_time": "2022-08-09T12:59:20.847Z"
   },
   {
    "duration": 28,
    "start_time": "2022-08-09T13:00:04.669Z"
   },
   {
    "duration": 31,
    "start_time": "2022-08-09T13:00:12.686Z"
   },
   {
    "duration": 30,
    "start_time": "2022-08-09T13:00:23.400Z"
   },
   {
    "duration": 29,
    "start_time": "2022-08-09T13:01:34.720Z"
   },
   {
    "duration": 1062,
    "start_time": "2022-08-09T13:01:40.885Z"
   },
   {
    "duration": 406,
    "start_time": "2022-08-09T13:01:41.949Z"
   },
   {
    "duration": 33,
    "start_time": "2022-08-09T13:01:42.356Z"
   },
   {
    "duration": 26,
    "start_time": "2022-08-09T13:01:42.391Z"
   },
   {
    "duration": 23,
    "start_time": "2022-08-09T13:01:42.419Z"
   },
   {
    "duration": 14,
    "start_time": "2022-08-09T13:01:42.443Z"
   },
   {
    "duration": 37,
    "start_time": "2022-08-09T13:01:42.459Z"
   },
   {
    "duration": 52,
    "start_time": "2022-08-09T13:01:42.497Z"
   },
   {
    "duration": 5,
    "start_time": "2022-08-09T13:01:42.550Z"
   },
   {
    "duration": 12,
    "start_time": "2022-08-09T13:01:42.557Z"
   },
   {
    "duration": 46,
    "start_time": "2022-08-09T13:01:42.570Z"
   },
   {
    "duration": 20,
    "start_time": "2022-08-09T13:01:42.618Z"
   },
   {
    "duration": 18,
    "start_time": "2022-08-09T13:01:42.640Z"
   },
   {
    "duration": 35,
    "start_time": "2022-08-09T13:01:42.660Z"
   },
   {
    "duration": 9,
    "start_time": "2022-08-09T13:01:42.697Z"
   },
   {
    "duration": 3,
    "start_time": "2022-08-09T13:01:42.708Z"
   },
   {
    "duration": 20,
    "start_time": "2022-08-09T13:01:42.712Z"
   },
   {
    "duration": 4,
    "start_time": "2022-08-09T13:01:42.734Z"
   },
   {
    "duration": 21,
    "start_time": "2022-08-09T13:01:42.739Z"
   },
   {
    "duration": 39,
    "start_time": "2022-08-09T13:01:42.761Z"
   },
   {
    "duration": 28,
    "start_time": "2022-08-09T13:01:42.802Z"
   },
   {
    "duration": 20,
    "start_time": "2022-08-09T13:01:42.831Z"
   },
   {
    "duration": 52,
    "start_time": "2022-08-09T13:01:42.853Z"
   },
   {
    "duration": 12,
    "start_time": "2022-08-09T13:01:42.906Z"
   },
   {
    "duration": 36,
    "start_time": "2022-08-09T13:01:42.919Z"
   },
   {
    "duration": 31,
    "start_time": "2022-08-09T13:01:42.957Z"
   },
   {
    "duration": 10,
    "start_time": "2022-08-09T13:01:42.989Z"
   },
   {
    "duration": 13,
    "start_time": "2022-08-09T13:07:43.450Z"
   },
   {
    "duration": 17,
    "start_time": "2022-08-09T13:08:20.674Z"
   },
   {
    "duration": 11,
    "start_time": "2022-08-09T13:08:22.739Z"
   },
   {
    "duration": 106,
    "start_time": "2022-08-09T13:08:47.456Z"
   },
   {
    "duration": 11,
    "start_time": "2022-08-09T13:08:49.357Z"
   },
   {
    "duration": 29,
    "start_time": "2022-08-09T13:09:01.415Z"
   },
   {
    "duration": 10,
    "start_time": "2022-08-09T13:09:02.740Z"
   },
   {
    "duration": 15,
    "start_time": "2022-08-09T13:09:23.325Z"
   },
   {
    "duration": 20,
    "start_time": "2022-08-09T13:09:39.509Z"
   },
   {
    "duration": 17,
    "start_time": "2022-08-09T13:12:45.290Z"
   },
   {
    "duration": 10,
    "start_time": "2022-08-09T13:12:45.798Z"
   },
   {
    "duration": 28,
    "start_time": "2022-08-09T13:13:25.545Z"
   },
   {
    "duration": 35,
    "start_time": "2022-08-09T13:13:29.777Z"
   },
   {
    "duration": 12,
    "start_time": "2022-08-09T13:13:37.440Z"
   },
   {
    "duration": 16,
    "start_time": "2022-08-09T13:13:52.726Z"
   },
   {
    "duration": 15,
    "start_time": "2022-08-09T13:13:56.906Z"
   },
   {
    "duration": 16,
    "start_time": "2022-08-09T13:14:19.038Z"
   },
   {
    "duration": 14,
    "start_time": "2022-08-09T13:14:29.407Z"
   },
   {
    "duration": 12,
    "start_time": "2022-08-09T13:14:30.913Z"
   },
   {
    "duration": 20,
    "start_time": "2022-08-09T13:14:41.813Z"
   },
   {
    "duration": 14,
    "start_time": "2022-08-09T13:14:43.754Z"
   },
   {
    "duration": 17,
    "start_time": "2022-08-09T13:32:42.789Z"
   },
   {
    "duration": 14,
    "start_time": "2022-08-09T13:32:43.983Z"
   },
   {
    "duration": 18,
    "start_time": "2022-08-09T13:35:02.125Z"
   },
   {
    "duration": 16,
    "start_time": "2022-08-09T13:35:03.954Z"
   },
   {
    "duration": 51,
    "start_time": "2022-08-09T13:35:55.999Z"
   },
   {
    "duration": 80,
    "start_time": "2022-08-09T13:36:03.446Z"
   },
   {
    "duration": 65,
    "start_time": "2022-08-09T13:36:42.808Z"
   },
   {
    "duration": 25,
    "start_time": "2022-08-09T13:36:53.914Z"
   },
   {
    "duration": 24,
    "start_time": "2022-08-09T13:37:14.767Z"
   },
   {
    "duration": 30,
    "start_time": "2022-08-09T13:38:06.365Z"
   },
   {
    "duration": 24,
    "start_time": "2022-08-09T13:39:08.902Z"
   },
   {
    "duration": 26,
    "start_time": "2022-08-09T13:39:17.013Z"
   },
   {
    "duration": 23,
    "start_time": "2022-08-09T13:40:16.251Z"
   },
   {
    "duration": 24,
    "start_time": "2022-08-09T13:40:23.773Z"
   },
   {
    "duration": 23,
    "start_time": "2022-08-09T13:41:50.202Z"
   },
   {
    "duration": 20,
    "start_time": "2022-08-09T13:42:11.999Z"
   },
   {
    "duration": 31,
    "start_time": "2022-08-09T13:43:57.795Z"
   },
   {
    "duration": 117,
    "start_time": "2022-08-09T13:44:07.498Z"
   },
   {
    "duration": 20,
    "start_time": "2022-08-09T13:44:20.938Z"
   },
   {
    "duration": 17,
    "start_time": "2022-08-09T13:44:22.651Z"
   },
   {
    "duration": 18,
    "start_time": "2022-08-09T13:44:31.829Z"
   },
   {
    "duration": 16,
    "start_time": "2022-08-09T13:44:33.114Z"
   },
   {
    "duration": 19,
    "start_time": "2022-08-09T13:44:56.103Z"
   },
   {
    "duration": 16,
    "start_time": "2022-08-09T13:44:57.763Z"
   },
   {
    "duration": 21,
    "start_time": "2022-08-09T13:49:18.554Z"
   },
   {
    "duration": 18,
    "start_time": "2022-08-09T13:49:19.561Z"
   },
   {
    "duration": 4,
    "start_time": "2022-08-09T13:51:31.560Z"
   },
   {
    "duration": 15,
    "start_time": "2022-08-09T13:51:42.916Z"
   },
   {
    "duration": 11,
    "start_time": "2022-08-09T13:52:02.959Z"
   },
   {
    "duration": 16,
    "start_time": "2022-08-09T13:52:12.384Z"
   },
   {
    "duration": 34,
    "start_time": "2022-08-09T14:07:52.280Z"
   },
   {
    "duration": 1136,
    "start_time": "2022-08-09T14:08:16.178Z"
   },
   {
    "duration": 422,
    "start_time": "2022-08-09T14:08:17.316Z"
   },
   {
    "duration": 36,
    "start_time": "2022-08-09T14:08:17.740Z"
   },
   {
    "duration": 28,
    "start_time": "2022-08-09T14:08:17.779Z"
   },
   {
    "duration": 21,
    "start_time": "2022-08-09T14:08:17.809Z"
   },
   {
    "duration": 14,
    "start_time": "2022-08-09T14:08:17.832Z"
   },
   {
    "duration": 44,
    "start_time": "2022-08-09T14:08:17.848Z"
   },
   {
    "duration": 52,
    "start_time": "2022-08-09T14:08:17.894Z"
   },
   {
    "duration": 6,
    "start_time": "2022-08-09T14:08:17.948Z"
   },
   {
    "duration": 31,
    "start_time": "2022-08-09T14:08:17.957Z"
   },
   {
    "duration": 34,
    "start_time": "2022-08-09T14:08:17.990Z"
   },
   {
    "duration": 23,
    "start_time": "2022-08-09T14:08:18.026Z"
   },
   {
    "duration": 41,
    "start_time": "2022-08-09T14:08:18.051Z"
   },
   {
    "duration": 16,
    "start_time": "2022-08-09T14:08:18.094Z"
   },
   {
    "duration": 10,
    "start_time": "2022-08-09T14:08:18.111Z"
   },
   {
    "duration": 3,
    "start_time": "2022-08-09T14:08:18.123Z"
   },
   {
    "duration": 19,
    "start_time": "2022-08-09T14:08:18.128Z"
   },
   {
    "duration": 4,
    "start_time": "2022-08-09T14:08:18.149Z"
   },
   {
    "duration": 34,
    "start_time": "2022-08-09T14:08:18.155Z"
   },
   {
    "duration": 24,
    "start_time": "2022-08-09T14:08:18.191Z"
   },
   {
    "duration": 27,
    "start_time": "2022-08-09T14:08:18.217Z"
   },
   {
    "duration": 20,
    "start_time": "2022-08-09T14:08:18.245Z"
   },
   {
    "duration": 30,
    "start_time": "2022-08-09T14:08:18.287Z"
   },
   {
    "duration": 11,
    "start_time": "2022-08-09T14:08:18.318Z"
   },
   {
    "duration": 37,
    "start_time": "2022-08-09T14:08:18.331Z"
   },
   {
    "duration": 139,
    "start_time": "2022-08-09T14:08:18.370Z"
   },
   {
    "duration": 0,
    "start_time": "2022-08-09T14:08:18.510Z"
   },
   {
    "duration": 33,
    "start_time": "2022-08-09T14:10:33.766Z"
   },
   {
    "duration": 27,
    "start_time": "2022-08-09T14:12:40.795Z"
   },
   {
    "duration": 33,
    "start_time": "2022-08-09T14:12:59.755Z"
   },
   {
    "duration": 77,
    "start_time": "2022-08-09T14:13:21.923Z"
   },
   {
    "duration": 12,
    "start_time": "2022-08-09T14:13:22.799Z"
   },
   {
    "duration": 510,
    "start_time": "2022-08-09T14:16:49.850Z"
   },
   {
    "duration": 9,
    "start_time": "2022-08-09T14:21:25.502Z"
   },
   {
    "duration": 1051,
    "start_time": "2022-08-09T14:22:26.582Z"
   },
   {
    "duration": 76,
    "start_time": "2022-08-09T14:25:15.603Z"
   },
   {
    "duration": 11,
    "start_time": "2022-08-09T14:25:16.361Z"
   },
   {
    "duration": 956,
    "start_time": "2022-08-09T14:25:17.524Z"
   },
   {
    "duration": 12,
    "start_time": "2022-08-10T05:43:17.747Z"
   },
   {
    "duration": 13,
    "start_time": "2022-08-10T05:43:29.812Z"
   },
   {
    "duration": 217,
    "start_time": "2022-08-10T05:43:50.860Z"
   },
   {
    "duration": 116,
    "start_time": "2022-08-10T05:44:07.255Z"
   },
   {
    "duration": 19,
    "start_time": "2022-08-10T05:48:30.639Z"
   },
   {
    "duration": 865,
    "start_time": "2022-08-10T05:48:36.227Z"
   },
   {
    "duration": 19,
    "start_time": "2022-08-10T05:48:41.221Z"
   },
   {
    "duration": 16,
    "start_time": "2022-08-10T05:49:08.782Z"
   },
   {
    "duration": 106,
    "start_time": "2022-08-10T05:49:15.310Z"
   },
   {
    "duration": 741,
    "start_time": "2022-08-10T05:49:55.590Z"
   },
   {
    "duration": 903,
    "start_time": "2022-08-10T05:50:10.518Z"
   },
   {
    "duration": 792,
    "start_time": "2022-08-10T05:50:32.615Z"
   },
   {
    "duration": 4,
    "start_time": "2022-08-10T05:50:54.515Z"
   },
   {
    "duration": 6,
    "start_time": "2022-08-10T05:51:03.445Z"
   },
   {
    "duration": 13,
    "start_time": "2022-08-10T05:51:22.776Z"
   },
   {
    "duration": 793,
    "start_time": "2022-08-10T05:51:59.627Z"
   },
   {
    "duration": 787,
    "start_time": "2022-08-10T05:52:25.003Z"
   },
   {
    "duration": 793,
    "start_time": "2022-08-10T05:52:49.020Z"
   },
   {
    "duration": 787,
    "start_time": "2022-08-10T05:53:10.605Z"
   },
   {
    "duration": 13,
    "start_time": "2022-08-10T05:53:14.513Z"
   },
   {
    "duration": 6,
    "start_time": "2022-08-10T05:53:21.119Z"
   },
   {
    "duration": 4,
    "start_time": "2022-08-10T05:53:31.254Z"
   },
   {
    "duration": 4,
    "start_time": "2022-08-10T05:53:39.049Z"
   },
   {
    "duration": 5,
    "start_time": "2022-08-10T05:53:46.478Z"
   },
   {
    "duration": 6,
    "start_time": "2022-08-10T05:53:59.175Z"
   },
   {
    "duration": 12,
    "start_time": "2022-08-10T05:54:04.986Z"
   },
   {
    "duration": 11,
    "start_time": "2022-08-10T05:54:17.029Z"
   },
   {
    "duration": 17,
    "start_time": "2022-08-10T05:54:31.979Z"
   },
   {
    "duration": 5,
    "start_time": "2022-08-10T05:54:33.883Z"
   },
   {
    "duration": 10,
    "start_time": "2022-08-10T05:54:49.671Z"
   },
   {
    "duration": 12,
    "start_time": "2022-08-10T05:56:01.188Z"
   },
   {
    "duration": 12,
    "start_time": "2022-08-10T05:56:10.787Z"
   },
   {
    "duration": 3,
    "start_time": "2022-08-10T05:56:24.429Z"
   },
   {
    "duration": 4,
    "start_time": "2022-08-10T05:56:48.385Z"
   },
   {
    "duration": 2,
    "start_time": "2022-08-10T05:56:51.133Z"
   },
   {
    "duration": 20,
    "start_time": "2022-08-10T05:56:56.279Z"
   },
   {
    "duration": 5,
    "start_time": "2022-08-10T05:56:56.763Z"
   },
   {
    "duration": 2,
    "start_time": "2022-08-10T05:57:00.298Z"
   },
   {
    "duration": 17,
    "start_time": "2022-08-10T07:38:55.541Z"
   },
   {
    "duration": 4,
    "start_time": "2022-08-10T07:39:20.367Z"
   },
   {
    "duration": 3,
    "start_time": "2022-08-10T07:39:25.011Z"
   },
   {
    "duration": 3,
    "start_time": "2022-08-10T07:39:45.877Z"
   },
   {
    "duration": 16,
    "start_time": "2022-08-10T07:39:48.461Z"
   },
   {
    "duration": 11,
    "start_time": "2022-08-10T07:39:50.350Z"
   },
   {
    "duration": 17,
    "start_time": "2022-08-10T07:40:07.638Z"
   },
   {
    "duration": 13,
    "start_time": "2022-08-10T07:40:19.130Z"
   },
   {
    "duration": 13,
    "start_time": "2022-08-10T07:40:33.433Z"
   },
   {
    "duration": 9,
    "start_time": "2022-08-10T07:41:00.455Z"
   },
   {
    "duration": 904,
    "start_time": "2022-08-10T07:41:12.005Z"
   },
   {
    "duration": 11,
    "start_time": "2022-08-10T07:41:32.593Z"
   },
   {
    "duration": 23,
    "start_time": "2022-08-10T07:41:36.251Z"
   },
   {
    "duration": 13,
    "start_time": "2022-08-10T07:41:39.044Z"
   },
   {
    "duration": 768,
    "start_time": "2022-08-10T07:41:50.333Z"
   },
   {
    "duration": 4,
    "start_time": "2022-08-10T07:42:12.667Z"
   },
   {
    "duration": 4,
    "start_time": "2022-08-10T07:42:54.077Z"
   },
   {
    "duration": 1470,
    "start_time": "2022-08-10T07:43:05.679Z"
   },
   {
    "duration": 10,
    "start_time": "2022-08-10T07:43:29.618Z"
   },
   {
    "duration": 465,
    "start_time": "2022-08-10T07:43:39.989Z"
   },
   {
    "duration": 472,
    "start_time": "2022-08-10T07:43:51.047Z"
   },
   {
    "duration": 130,
    "start_time": "2022-08-10T07:43:57.383Z"
   },
   {
    "duration": 116,
    "start_time": "2022-08-10T07:44:06.601Z"
   },
   {
    "duration": 136,
    "start_time": "2022-08-10T07:44:19.520Z"
   },
   {
    "duration": 5,
    "start_time": "2022-08-10T07:44:28.833Z"
   },
   {
    "duration": 136,
    "start_time": "2022-08-10T07:45:10.842Z"
   },
   {
    "duration": 4,
    "start_time": "2022-08-10T07:46:42.656Z"
   },
   {
    "duration": 138,
    "start_time": "2022-08-10T07:47:00.782Z"
   },
   {
    "duration": 219,
    "start_time": "2022-08-10T07:47:12.549Z"
   },
   {
    "duration": 144,
    "start_time": "2022-08-10T07:47:21.474Z"
   },
   {
    "duration": 169,
    "start_time": "2022-08-10T07:47:26.386Z"
   },
   {
    "duration": 21,
    "start_time": "2022-08-10T07:48:06.259Z"
   },
   {
    "duration": 4,
    "start_time": "2022-08-10T07:48:15.329Z"
   },
   {
    "duration": 9,
    "start_time": "2022-08-10T07:48:21.906Z"
   },
   {
    "duration": 4,
    "start_time": "2022-08-10T07:48:45.387Z"
   },
   {
    "duration": 17,
    "start_time": "2022-08-10T07:48:53.639Z"
   },
   {
    "duration": 12,
    "start_time": "2022-08-10T07:49:04.264Z"
   },
   {
    "duration": 17,
    "start_time": "2022-08-10T07:49:04.786Z"
   },
   {
    "duration": 4,
    "start_time": "2022-08-10T07:49:12.093Z"
   },
   {
    "duration": 13,
    "start_time": "2022-08-10T07:49:16.236Z"
   },
   {
    "duration": 9,
    "start_time": "2022-08-10T07:50:01.230Z"
   },
   {
    "duration": 226,
    "start_time": "2022-08-10T07:50:07.423Z"
   },
   {
    "duration": 5,
    "start_time": "2022-08-10T07:50:24.720Z"
   },
   {
    "duration": 205,
    "start_time": "2022-08-10T07:50:32.303Z"
   },
   {
    "duration": 135,
    "start_time": "2022-08-10T07:51:59.885Z"
   },
   {
    "duration": 14,
    "start_time": "2022-08-10T07:56:18.239Z"
   },
   {
    "duration": 45,
    "start_time": "2022-08-10T07:57:03.360Z"
   },
   {
    "duration": 49,
    "start_time": "2022-08-10T07:57:39.051Z"
   },
   {
    "duration": 46,
    "start_time": "2022-08-10T07:58:14.727Z"
   },
   {
    "duration": 1080,
    "start_time": "2022-08-10T07:59:37.150Z"
   },
   {
    "duration": 1002,
    "start_time": "2022-08-10T07:59:47.715Z"
   },
   {
    "duration": 1179,
    "start_time": "2022-08-10T08:00:06.894Z"
   },
   {
    "duration": 1215,
    "start_time": "2022-08-10T08:00:35.175Z"
   },
   {
    "duration": 1067,
    "start_time": "2022-08-10T08:00:53.135Z"
   },
   {
    "duration": 1220,
    "start_time": "2022-08-10T08:01:15.296Z"
   },
   {
    "duration": 1064,
    "start_time": "2022-08-10T08:03:33.413Z"
   },
   {
    "duration": 1147,
    "start_time": "2022-08-10T08:05:27.893Z"
   },
   {
    "duration": 1015,
    "start_time": "2022-08-10T08:05:52.746Z"
   },
   {
    "duration": 1199,
    "start_time": "2022-08-10T08:06:26.307Z"
   },
   {
    "duration": 1125,
    "start_time": "2022-08-10T08:06:42.323Z"
   },
   {
    "duration": 1127,
    "start_time": "2022-08-10T08:07:05.415Z"
   },
   {
    "duration": 1186,
    "start_time": "2022-08-10T08:07:28.514Z"
   },
   {
    "duration": 1069,
    "start_time": "2022-08-10T08:07:58.588Z"
   },
   {
    "duration": 48,
    "start_time": "2022-08-10T08:09:04.916Z"
   },
   {
    "duration": 1084,
    "start_time": "2022-08-10T08:11:03.058Z"
   },
   {
    "duration": 428,
    "start_time": "2022-08-10T08:11:04.144Z"
   },
   {
    "duration": 33,
    "start_time": "2022-08-10T08:11:04.573Z"
   },
   {
    "duration": 28,
    "start_time": "2022-08-10T08:11:04.609Z"
   },
   {
    "duration": 21,
    "start_time": "2022-08-10T08:11:04.639Z"
   },
   {
    "duration": 33,
    "start_time": "2022-08-10T08:11:04.662Z"
   },
   {
    "duration": 17,
    "start_time": "2022-08-10T08:11:04.696Z"
   },
   {
    "duration": 49,
    "start_time": "2022-08-10T08:11:04.715Z"
   },
   {
    "duration": 5,
    "start_time": "2022-08-10T08:11:04.787Z"
   },
   {
    "duration": 7,
    "start_time": "2022-08-10T08:11:04.795Z"
   },
   {
    "duration": 37,
    "start_time": "2022-08-10T08:11:04.803Z"
   },
   {
    "duration": 21,
    "start_time": "2022-08-10T08:11:04.842Z"
   },
   {
    "duration": 42,
    "start_time": "2022-08-10T08:11:04.864Z"
   },
   {
    "duration": 15,
    "start_time": "2022-08-10T08:11:04.907Z"
   },
   {
    "duration": 11,
    "start_time": "2022-08-10T08:11:04.923Z"
   },
   {
    "duration": 4,
    "start_time": "2022-08-10T08:11:04.935Z"
   },
   {
    "duration": 46,
    "start_time": "2022-08-10T08:11:04.941Z"
   },
   {
    "duration": 5,
    "start_time": "2022-08-10T08:11:04.989Z"
   },
   {
    "duration": 8,
    "start_time": "2022-08-10T08:11:04.996Z"
   },
   {
    "duration": 32,
    "start_time": "2022-08-10T08:11:05.006Z"
   },
   {
    "duration": 46,
    "start_time": "2022-08-10T08:11:05.040Z"
   },
   {
    "duration": 22,
    "start_time": "2022-08-10T08:11:05.088Z"
   },
   {
    "duration": 33,
    "start_time": "2022-08-10T08:11:05.111Z"
   },
   {
    "duration": 13,
    "start_time": "2022-08-10T08:11:05.145Z"
   },
   {
    "duration": 72,
    "start_time": "2022-08-10T08:11:05.159Z"
   },
   {
    "duration": 97,
    "start_time": "2022-08-10T08:11:05.232Z"
   },
   {
    "duration": 45,
    "start_time": "2022-08-10T08:11:05.330Z"
   },
   {
    "duration": 15,
    "start_time": "2022-08-10T08:11:05.378Z"
   },
   {
    "duration": 1163,
    "start_time": "2022-08-10T08:11:05.394Z"
   },
   {
    "duration": 1016,
    "start_time": "2022-08-10T08:13:02.307Z"
   },
   {
    "duration": 414,
    "start_time": "2022-08-10T08:13:03.325Z"
   },
   {
    "duration": 34,
    "start_time": "2022-08-10T08:13:03.741Z"
   },
   {
    "duration": 28,
    "start_time": "2022-08-10T08:13:03.776Z"
   },
   {
    "duration": 23,
    "start_time": "2022-08-10T08:13:03.806Z"
   },
   {
    "duration": 14,
    "start_time": "2022-08-10T08:13:03.831Z"
   },
   {
    "duration": 42,
    "start_time": "2022-08-10T08:13:03.847Z"
   },
   {
    "duration": 51,
    "start_time": "2022-08-10T08:13:03.890Z"
   },
   {
    "duration": 6,
    "start_time": "2022-08-10T08:13:03.942Z"
   },
   {
    "duration": 13,
    "start_time": "2022-08-10T08:13:03.949Z"
   },
   {
    "duration": 53,
    "start_time": "2022-08-10T08:13:03.963Z"
   },
   {
    "duration": 30,
    "start_time": "2022-08-10T08:13:04.017Z"
   },
   {
    "duration": 21,
    "start_time": "2022-08-10T08:13:04.048Z"
   },
   {
    "duration": 15,
    "start_time": "2022-08-10T08:13:04.086Z"
   },
   {
    "duration": 10,
    "start_time": "2022-08-10T08:13:04.102Z"
   },
   {
    "duration": 3,
    "start_time": "2022-08-10T08:13:04.113Z"
   },
   {
    "duration": 20,
    "start_time": "2022-08-10T08:13:04.118Z"
   },
   {
    "duration": 4,
    "start_time": "2022-08-10T08:13:04.140Z"
   },
   {
    "duration": 6,
    "start_time": "2022-08-10T08:13:04.146Z"
   },
   {
    "duration": 24,
    "start_time": "2022-08-10T08:13:04.186Z"
   },
   {
    "duration": 27,
    "start_time": "2022-08-10T08:13:04.212Z"
   },
   {
    "duration": 21,
    "start_time": "2022-08-10T08:13:04.241Z"
   },
   {
    "duration": 52,
    "start_time": "2022-08-10T08:13:04.263Z"
   },
   {
    "duration": 12,
    "start_time": "2022-08-10T08:13:04.317Z"
   },
   {
    "duration": 38,
    "start_time": "2022-08-10T08:13:04.331Z"
   },
   {
    "duration": 82,
    "start_time": "2022-08-10T08:13:04.387Z"
   },
   {
    "duration": 55,
    "start_time": "2022-08-10T08:13:04.471Z"
   },
   {
    "duration": 8,
    "start_time": "2022-08-10T08:13:04.528Z"
   },
   {
    "duration": 1055,
    "start_time": "2022-08-10T08:13:04.537Z"
   },
   {
    "duration": 1139,
    "start_time": "2022-08-10T08:15:04.095Z"
   },
   {
    "duration": 421,
    "start_time": "2022-08-10T08:15:05.236Z"
   },
   {
    "duration": 35,
    "start_time": "2022-08-10T08:15:05.659Z"
   },
   {
    "duration": 27,
    "start_time": "2022-08-10T08:15:05.696Z"
   },
   {
    "duration": 24,
    "start_time": "2022-08-10T08:15:05.725Z"
   },
   {
    "duration": 41,
    "start_time": "2022-08-10T08:15:05.751Z"
   },
   {
    "duration": 18,
    "start_time": "2022-08-10T08:15:05.794Z"
   },
   {
    "duration": 70,
    "start_time": "2022-08-10T08:15:05.814Z"
   },
   {
    "duration": 6,
    "start_time": "2022-08-10T08:15:05.887Z"
   },
   {
    "duration": 29,
    "start_time": "2022-08-10T08:15:05.897Z"
   },
   {
    "duration": 47,
    "start_time": "2022-08-10T08:15:05.928Z"
   },
   {
    "duration": 21,
    "start_time": "2022-08-10T08:15:05.977Z"
   },
   {
    "duration": 42,
    "start_time": "2022-08-10T08:15:06.000Z"
   },
   {
    "duration": 19,
    "start_time": "2022-08-10T08:15:06.044Z"
   },
   {
    "duration": 12,
    "start_time": "2022-08-10T08:15:06.065Z"
   },
   {
    "duration": 27,
    "start_time": "2022-08-10T08:15:06.078Z"
   },
   {
    "duration": 31,
    "start_time": "2022-08-10T08:15:06.107Z"
   },
   {
    "duration": 25,
    "start_time": "2022-08-10T08:15:06.140Z"
   },
   {
    "duration": 24,
    "start_time": "2022-08-10T08:15:06.167Z"
   },
   {
    "duration": 50,
    "start_time": "2022-08-10T08:15:06.193Z"
   },
   {
    "duration": 33,
    "start_time": "2022-08-10T08:15:06.245Z"
   },
   {
    "duration": 24,
    "start_time": "2022-08-10T08:15:06.280Z"
   },
   {
    "duration": 54,
    "start_time": "2022-08-10T08:15:06.305Z"
   },
   {
    "duration": 15,
    "start_time": "2022-08-10T08:15:06.361Z"
   },
   {
    "duration": 69,
    "start_time": "2022-08-10T08:15:06.378Z"
   },
   {
    "duration": 75,
    "start_time": "2022-08-10T08:15:06.449Z"
   },
   {
    "duration": 49,
    "start_time": "2022-08-10T08:15:06.526Z"
   },
   {
    "duration": 18,
    "start_time": "2022-08-10T08:15:06.577Z"
   },
   {
    "duration": 1141,
    "start_time": "2022-08-10T08:15:06.597Z"
   },
   {
    "duration": 1074,
    "start_time": "2022-08-10T08:15:28.753Z"
   },
   {
    "duration": 438,
    "start_time": "2022-08-10T08:15:29.829Z"
   },
   {
    "duration": 34,
    "start_time": "2022-08-10T08:15:30.269Z"
   },
   {
    "duration": 26,
    "start_time": "2022-08-10T08:15:30.306Z"
   },
   {
    "duration": 23,
    "start_time": "2022-08-10T08:15:30.334Z"
   },
   {
    "duration": 37,
    "start_time": "2022-08-10T08:15:30.359Z"
   },
   {
    "duration": 30,
    "start_time": "2022-08-10T08:15:30.398Z"
   },
   {
    "duration": 57,
    "start_time": "2022-08-10T08:15:30.430Z"
   },
   {
    "duration": 6,
    "start_time": "2022-08-10T08:15:30.489Z"
   },
   {
    "duration": 18,
    "start_time": "2022-08-10T08:15:30.498Z"
   },
   {
    "duration": 59,
    "start_time": "2022-08-10T08:15:30.518Z"
   },
   {
    "duration": 23,
    "start_time": "2022-08-10T08:15:30.579Z"
   },
   {
    "duration": 26,
    "start_time": "2022-08-10T08:15:30.604Z"
   },
   {
    "duration": 26,
    "start_time": "2022-08-10T08:15:30.632Z"
   },
   {
    "duration": 14,
    "start_time": "2022-08-10T08:15:30.660Z"
   },
   {
    "duration": 11,
    "start_time": "2022-08-10T08:15:30.676Z"
   },
   {
    "duration": 32,
    "start_time": "2022-08-10T08:15:30.689Z"
   },
   {
    "duration": 19,
    "start_time": "2022-08-10T08:15:30.723Z"
   },
   {
    "duration": 16,
    "start_time": "2022-08-10T08:15:30.744Z"
   },
   {
    "duration": 52,
    "start_time": "2022-08-10T08:15:30.762Z"
   },
   {
    "duration": 28,
    "start_time": "2022-08-10T08:15:30.816Z"
   },
   {
    "duration": 32,
    "start_time": "2022-08-10T08:15:30.846Z"
   },
   {
    "duration": 34,
    "start_time": "2022-08-10T08:15:30.880Z"
   },
   {
    "duration": 15,
    "start_time": "2022-08-10T08:15:30.915Z"
   },
   {
    "duration": 51,
    "start_time": "2022-08-10T08:15:30.931Z"
   },
   {
    "duration": 76,
    "start_time": "2022-08-10T08:15:30.986Z"
   },
   {
    "duration": 52,
    "start_time": "2022-08-10T08:15:31.064Z"
   },
   {
    "duration": 8,
    "start_time": "2022-08-10T08:15:31.120Z"
   },
   {
    "duration": 1103,
    "start_time": "2022-08-10T08:15:31.130Z"
   },
   {
    "duration": 1167,
    "start_time": "2022-08-10T08:16:58.581Z"
   },
   {
    "duration": 446,
    "start_time": "2022-08-10T08:16:59.750Z"
   },
   {
    "duration": 34,
    "start_time": "2022-08-10T08:17:00.198Z"
   },
   {
    "duration": 28,
    "start_time": "2022-08-10T08:17:00.234Z"
   },
   {
    "duration": 35,
    "start_time": "2022-08-10T08:17:00.264Z"
   },
   {
    "duration": 14,
    "start_time": "2022-08-10T08:17:00.301Z"
   },
   {
    "duration": 16,
    "start_time": "2022-08-10T08:17:00.317Z"
   },
   {
    "duration": 75,
    "start_time": "2022-08-10T08:17:00.335Z"
   },
   {
    "duration": 6,
    "start_time": "2022-08-10T08:17:00.412Z"
   },
   {
    "duration": 12,
    "start_time": "2022-08-10T08:17:00.420Z"
   },
   {
    "duration": 44,
    "start_time": "2022-08-10T08:17:00.434Z"
   },
   {
    "duration": 26,
    "start_time": "2022-08-10T08:17:00.479Z"
   },
   {
    "duration": 25,
    "start_time": "2022-08-10T08:17:00.507Z"
   },
   {
    "duration": 15,
    "start_time": "2022-08-10T08:17:00.533Z"
   },
   {
    "duration": 23,
    "start_time": "2022-08-10T08:17:00.549Z"
   },
   {
    "duration": 19,
    "start_time": "2022-08-10T08:17:00.574Z"
   },
   {
    "duration": 36,
    "start_time": "2022-08-10T08:17:00.594Z"
   },
   {
    "duration": 19,
    "start_time": "2022-08-10T08:17:00.632Z"
   },
   {
    "duration": 15,
    "start_time": "2022-08-10T08:17:00.653Z"
   },
   {
    "duration": 43,
    "start_time": "2022-08-10T08:17:00.670Z"
   },
   {
    "duration": 27,
    "start_time": "2022-08-10T08:17:00.715Z"
   },
   {
    "duration": 20,
    "start_time": "2022-08-10T08:17:00.744Z"
   },
   {
    "duration": 44,
    "start_time": "2022-08-10T08:17:00.766Z"
   },
   {
    "duration": 11,
    "start_time": "2022-08-10T08:17:00.811Z"
   },
   {
    "duration": 39,
    "start_time": "2022-08-10T08:17:00.824Z"
   },
   {
    "duration": 88,
    "start_time": "2022-08-10T08:17:00.865Z"
   },
   {
    "duration": 53,
    "start_time": "2022-08-10T08:17:00.954Z"
   },
   {
    "duration": 9,
    "start_time": "2022-08-10T08:17:01.009Z"
   },
   {
    "duration": 1163,
    "start_time": "2022-08-10T08:17:01.019Z"
   },
   {
    "duration": 50,
    "start_time": "2022-08-10T08:23:15.724Z"
   },
   {
    "duration": 229,
    "start_time": "2022-08-10T08:38:12.639Z"
   },
   {
    "duration": 162,
    "start_time": "2022-08-10T08:42:17.452Z"
   },
   {
    "duration": 3499,
    "start_time": "2022-08-10T08:46:45.583Z"
   },
   {
    "duration": 39,
    "start_time": "2022-08-10T08:47:46.763Z"
   },
   {
    "duration": 52,
    "start_time": "2022-08-10T08:48:06.356Z"
   },
   {
    "duration": 42,
    "start_time": "2022-08-10T08:49:18.916Z"
   },
   {
    "duration": 38,
    "start_time": "2022-08-10T08:49:57.204Z"
   },
   {
    "duration": 40,
    "start_time": "2022-08-10T08:50:39.672Z"
   },
   {
    "duration": 4572,
    "start_time": "2022-08-10T08:53:04.062Z"
   },
   {
    "duration": 4362,
    "start_time": "2022-08-10T08:54:46.638Z"
   },
   {
    "duration": 34,
    "start_time": "2022-08-10T08:55:57.190Z"
   },
   {
    "duration": 3529,
    "start_time": "2022-08-10T08:56:49.204Z"
   },
   {
    "duration": 3655,
    "start_time": "2022-08-10T08:57:08.686Z"
   },
   {
    "duration": 15,
    "start_time": "2022-08-10T08:57:17.064Z"
   },
   {
    "duration": 53,
    "start_time": "2022-08-10T08:57:37.366Z"
   },
   {
    "duration": 2941,
    "start_time": "2022-08-10T08:58:08.219Z"
   },
   {
    "duration": 26,
    "start_time": "2022-08-10T08:58:11.162Z"
   },
   {
    "duration": 3812,
    "start_time": "2022-08-10T09:02:36.491Z"
   },
   {
    "duration": 20,
    "start_time": "2022-08-10T09:02:40.305Z"
   },
   {
    "duration": 18,
    "start_time": "2022-08-10T09:02:40.947Z"
   },
   {
    "duration": 4168,
    "start_time": "2022-08-10T09:04:01.466Z"
   },
   {
    "duration": 24,
    "start_time": "2022-08-10T09:04:05.636Z"
   },
   {
    "duration": 11,
    "start_time": "2022-08-10T10:50:08.465Z"
   },
   {
    "duration": 49,
    "start_time": "2022-08-10T10:50:40.778Z"
   },
   {
    "duration": 9,
    "start_time": "2022-08-10T10:51:40.295Z"
   },
   {
    "duration": 54,
    "start_time": "2022-08-10T10:52:03.141Z"
   },
   {
    "duration": 39,
    "start_time": "2022-08-10T10:53:29.654Z"
   },
   {
    "duration": 8,
    "start_time": "2022-08-10T10:58:15.559Z"
   },
   {
    "duration": 21,
    "start_time": "2022-08-10T10:58:26.869Z"
   },
   {
    "duration": 4,
    "start_time": "2022-08-10T10:59:49.840Z"
   },
   {
    "duration": 5,
    "start_time": "2022-08-10T11:00:19.869Z"
   },
   {
    "duration": 5,
    "start_time": "2022-08-10T11:04:04.630Z"
   },
   {
    "duration": 23,
    "start_time": "2022-08-10T11:04:11.891Z"
   },
   {
    "duration": 5663,
    "start_time": "2022-08-10T11:06:26.602Z"
   },
   {
    "duration": 13504,
    "start_time": "2022-08-10T11:06:46.269Z"
   },
   {
    "duration": 256,
    "start_time": "2022-08-10T11:07:43.481Z"
   },
   {
    "duration": 17,
    "start_time": "2022-08-10T11:07:51.257Z"
   },
   {
    "duration": 12,
    "start_time": "2022-08-10T11:08:02.962Z"
   },
   {
    "duration": 221,
    "start_time": "2022-08-10T11:08:12.678Z"
   },
   {
    "duration": 234,
    "start_time": "2022-08-10T11:08:24.887Z"
   },
   {
    "duration": 109,
    "start_time": "2022-08-10T11:08:53.924Z"
   },
   {
    "duration": 128,
    "start_time": "2022-08-10T11:10:34.245Z"
   },
   {
    "duration": 377,
    "start_time": "2022-08-10T11:10:41.347Z"
   },
   {
    "duration": 99,
    "start_time": "2022-08-10T11:10:48.678Z"
   },
   {
    "duration": 39,
    "start_time": "2022-08-10T11:11:32.383Z"
   },
   {
    "duration": 5489,
    "start_time": "2022-08-10T11:15:10.032Z"
   },
   {
    "duration": 21,
    "start_time": "2022-08-10T11:15:15.524Z"
   },
   {
    "duration": 57,
    "start_time": "2022-08-10T11:15:58.681Z"
   },
   {
    "duration": 46,
    "start_time": "2022-08-10T11:16:31.443Z"
   },
   {
    "duration": 20,
    "start_time": "2022-08-10T11:19:43.518Z"
   },
   {
    "duration": 20,
    "start_time": "2022-08-10T11:19:57.985Z"
   },
   {
    "duration": 25,
    "start_time": "2022-08-10T11:20:39.300Z"
   },
   {
    "duration": 22,
    "start_time": "2022-08-10T11:21:32.150Z"
   },
   {
    "duration": 22,
    "start_time": "2022-08-10T11:21:43.902Z"
   },
   {
    "duration": 563,
    "start_time": "2022-08-10T11:21:57.862Z"
   },
   {
    "duration": 612,
    "start_time": "2022-08-10T11:22:09.909Z"
   },
   {
    "duration": 1367,
    "start_time": "2022-08-10T11:23:40.591Z"
   },
   {
    "duration": 113,
    "start_time": "2022-08-10T11:23:58.952Z"
   },
   {
    "duration": 115,
    "start_time": "2022-08-10T11:24:13.914Z"
   },
   {
    "duration": 105,
    "start_time": "2022-08-10T11:24:25.719Z"
   },
   {
    "duration": 208,
    "start_time": "2022-08-10T11:25:33.509Z"
   },
   {
    "duration": 179,
    "start_time": "2022-08-10T11:27:31.747Z"
   },
   {
    "duration": 33,
    "start_time": "2022-08-10T11:29:10.035Z"
   },
   {
    "duration": 180,
    "start_time": "2022-08-10T11:29:23.945Z"
   },
   {
    "duration": 201,
    "start_time": "2022-08-10T11:37:17.448Z"
   },
   {
    "duration": 1326,
    "start_time": "2022-08-10T11:39:15.200Z"
   },
   {
    "duration": 20,
    "start_time": "2022-08-10T11:39:30.815Z"
   },
   {
    "duration": 154,
    "start_time": "2022-08-10T11:39:52.192Z"
   },
   {
    "duration": 298,
    "start_time": "2022-08-10T11:41:55.514Z"
   },
   {
    "duration": 22,
    "start_time": "2022-08-10T11:42:24.883Z"
   },
   {
    "duration": 203,
    "start_time": "2022-08-10T11:43:02.984Z"
   },
   {
    "duration": 65,
    "start_time": "2022-08-10T11:43:43.740Z"
   },
   {
    "duration": 52,
    "start_time": "2022-08-10T11:43:49.253Z"
   },
   {
    "duration": 49,
    "start_time": "2022-08-10T11:43:56.431Z"
   },
   {
    "duration": 81,
    "start_time": "2022-08-10T11:44:00.487Z"
   },
   {
    "duration": 92,
    "start_time": "2022-08-10T11:44:07.949Z"
   },
   {
    "duration": 255,
    "start_time": "2022-08-10T11:44:14.115Z"
   },
   {
    "duration": 206,
    "start_time": "2022-08-10T11:44:26.766Z"
   },
   {
    "duration": 1113,
    "start_time": "2022-08-10T11:46:23.117Z"
   },
   {
    "duration": 432,
    "start_time": "2022-08-10T11:46:24.233Z"
   },
   {
    "duration": 35,
    "start_time": "2022-08-10T11:46:24.666Z"
   },
   {
    "duration": 27,
    "start_time": "2022-08-10T11:46:24.702Z"
   },
   {
    "duration": 22,
    "start_time": "2022-08-10T11:46:24.732Z"
   },
   {
    "duration": 36,
    "start_time": "2022-08-10T11:46:24.756Z"
   },
   {
    "duration": 18,
    "start_time": "2022-08-10T11:46:24.794Z"
   },
   {
    "duration": 74,
    "start_time": "2022-08-10T11:46:24.813Z"
   },
   {
    "duration": 6,
    "start_time": "2022-08-10T11:46:24.889Z"
   },
   {
    "duration": 11,
    "start_time": "2022-08-10T11:46:24.896Z"
   },
   {
    "duration": 34,
    "start_time": "2022-08-10T11:46:24.909Z"
   },
   {
    "duration": 21,
    "start_time": "2022-08-10T11:46:24.945Z"
   },
   {
    "duration": 19,
    "start_time": "2022-08-10T11:46:24.987Z"
   },
   {
    "duration": 16,
    "start_time": "2022-08-10T11:46:25.009Z"
   },
   {
    "duration": 11,
    "start_time": "2022-08-10T11:46:25.026Z"
   },
   {
    "duration": 4,
    "start_time": "2022-08-10T11:46:25.038Z"
   },
   {
    "duration": 46,
    "start_time": "2022-08-10T11:46:25.044Z"
   },
   {
    "duration": 6,
    "start_time": "2022-08-10T11:46:25.091Z"
   },
   {
    "duration": 9,
    "start_time": "2022-08-10T11:46:25.098Z"
   },
   {
    "duration": 29,
    "start_time": "2022-08-10T11:46:25.109Z"
   },
   {
    "duration": 28,
    "start_time": "2022-08-10T11:46:25.139Z"
   },
   {
    "duration": 20,
    "start_time": "2022-08-10T11:46:25.187Z"
   },
   {
    "duration": 32,
    "start_time": "2022-08-10T11:46:25.209Z"
   },
   {
    "duration": 12,
    "start_time": "2022-08-10T11:46:25.242Z"
   },
   {
    "duration": 61,
    "start_time": "2022-08-10T11:46:25.256Z"
   },
   {
    "duration": 5525,
    "start_time": "2022-08-10T11:46:25.319Z"
   },
   {
    "duration": 21,
    "start_time": "2022-08-10T11:46:30.846Z"
   },
   {
    "duration": 92,
    "start_time": "2022-08-10T11:46:30.868Z"
   },
   {
    "duration": 158,
    "start_time": "2022-08-10T11:46:30.962Z"
   },
   {
    "duration": 46,
    "start_time": "2022-08-10T11:46:31.122Z"
   },
   {
    "duration": 231,
    "start_time": "2022-08-10T11:46:31.170Z"
   },
   {
    "duration": 2018,
    "start_time": "2022-08-10T11:46:31.403Z"
   },
   {
    "duration": 177,
    "start_time": "2022-08-10T11:47:58.697Z"
   },
   {
    "duration": 205,
    "start_time": "2022-08-10T11:48:28.449Z"
   },
   {
    "duration": 195,
    "start_time": "2022-08-10T11:57:11.597Z"
   },
   {
    "duration": 1881,
    "start_time": "2022-08-10T11:57:41.833Z"
   },
   {
    "duration": 1167,
    "start_time": "2022-08-10T11:58:07.420Z"
   },
   {
    "duration": 66,
    "start_time": "2022-08-10T12:07:56.952Z"
   },
   {
    "duration": 59,
    "start_time": "2022-08-10T12:08:59.275Z"
   },
   {
    "duration": 33,
    "start_time": "2022-08-10T12:11:08.917Z"
   },
   {
    "duration": 27,
    "start_time": "2022-08-10T12:11:52.182Z"
   },
   {
    "duration": 28,
    "start_time": "2022-08-10T12:12:47.530Z"
   },
   {
    "duration": 28,
    "start_time": "2022-08-10T12:13:23.159Z"
   },
   {
    "duration": 34,
    "start_time": "2022-08-10T12:13:51.694Z"
   },
   {
    "duration": 33,
    "start_time": "2022-08-10T12:14:16.136Z"
   },
   {
    "duration": 67,
    "start_time": "2022-08-10T12:16:26.934Z"
   },
   {
    "duration": 64,
    "start_time": "2022-08-10T12:17:08.557Z"
   },
   {
    "duration": 12,
    "start_time": "2022-08-10T12:18:47.498Z"
   },
   {
    "duration": 64,
    "start_time": "2022-08-10T12:19:11.790Z"
   },
   {
    "duration": 148,
    "start_time": "2022-08-10T12:19:46.952Z"
   },
   {
    "duration": 69,
    "start_time": "2022-08-10T12:20:38.465Z"
   },
   {
    "duration": 10,
    "start_time": "2022-08-10T13:08:31.567Z"
   },
   {
    "duration": 22,
    "start_time": "2022-08-10T13:08:46.696Z"
   },
   {
    "duration": 24,
    "start_time": "2022-08-10T13:09:36.639Z"
   },
   {
    "duration": 29,
    "start_time": "2022-08-10T13:10:02.818Z"
   },
   {
    "duration": 159,
    "start_time": "2022-08-10T13:10:15.350Z"
   },
   {
    "duration": 27,
    "start_time": "2022-08-10T13:10:27.346Z"
   },
   {
    "duration": 22,
    "start_time": "2022-08-10T13:10:49.467Z"
   },
   {
    "duration": 8,
    "start_time": "2022-08-10T13:11:26.632Z"
   },
   {
    "duration": 10,
    "start_time": "2022-08-10T13:12:24.762Z"
   },
   {
    "duration": 10,
    "start_time": "2022-08-10T13:12:44.097Z"
   },
   {
    "duration": 10,
    "start_time": "2022-08-10T13:15:00.652Z"
   },
   {
    "duration": 9,
    "start_time": "2022-08-10T13:15:37.632Z"
   },
   {
    "duration": 9,
    "start_time": "2022-08-10T13:22:47.347Z"
   },
   {
    "duration": 9,
    "start_time": "2022-08-10T13:23:53.567Z"
   },
   {
    "duration": 10,
    "start_time": "2022-08-10T13:24:05.339Z"
   },
   {
    "duration": 73,
    "start_time": "2022-08-10T13:25:05.444Z"
   },
   {
    "duration": 9,
    "start_time": "2022-08-10T13:25:12.484Z"
   },
   {
    "duration": 8,
    "start_time": "2022-08-10T13:25:20.280Z"
   },
   {
    "duration": 10,
    "start_time": "2022-08-10T13:25:26.440Z"
   },
   {
    "duration": 9,
    "start_time": "2022-08-10T13:25:32.149Z"
   },
   {
    "duration": 9,
    "start_time": "2022-08-10T13:25:53.739Z"
   },
   {
    "duration": 9,
    "start_time": "2022-08-10T13:26:06.979Z"
   },
   {
    "duration": 56,
    "start_time": "2022-08-11T04:55:36.065Z"
   },
   {
    "duration": 1363,
    "start_time": "2022-08-11T04:55:49.717Z"
   },
   {
    "duration": 1303,
    "start_time": "2022-08-11T04:55:51.082Z"
   },
   {
    "duration": 42,
    "start_time": "2022-08-11T04:55:52.387Z"
   },
   {
    "duration": 31,
    "start_time": "2022-08-11T04:55:52.432Z"
   },
   {
    "duration": 46,
    "start_time": "2022-08-11T04:55:52.465Z"
   },
   {
    "duration": 17,
    "start_time": "2022-08-11T04:55:52.513Z"
   },
   {
    "duration": 24,
    "start_time": "2022-08-11T04:55:52.532Z"
   },
   {
    "duration": 82,
    "start_time": "2022-08-11T04:55:52.557Z"
   },
   {
    "duration": 7,
    "start_time": "2022-08-11T04:55:52.641Z"
   },
   {
    "duration": 14,
    "start_time": "2022-08-11T04:55:52.650Z"
   },
   {
    "duration": 53,
    "start_time": "2022-08-11T04:55:52.666Z"
   },
   {
    "duration": 26,
    "start_time": "2022-08-11T04:55:52.720Z"
   },
   {
    "duration": 44,
    "start_time": "2022-08-11T04:55:52.748Z"
   },
   {
    "duration": 16,
    "start_time": "2022-08-11T04:55:52.795Z"
   },
   {
    "duration": 12,
    "start_time": "2022-08-11T04:55:52.813Z"
   },
   {
    "duration": 4,
    "start_time": "2022-08-11T04:55:52.827Z"
   },
   {
    "duration": 25,
    "start_time": "2022-08-11T04:55:52.833Z"
   },
   {
    "duration": 33,
    "start_time": "2022-08-11T04:55:52.860Z"
   },
   {
    "duration": 9,
    "start_time": "2022-08-11T04:55:52.895Z"
   },
   {
    "duration": 26,
    "start_time": "2022-08-11T04:55:52.906Z"
   },
   {
    "duration": 30,
    "start_time": "2022-08-11T04:55:52.934Z"
   },
   {
    "duration": 42,
    "start_time": "2022-08-11T04:55:52.966Z"
   },
   {
    "duration": 34,
    "start_time": "2022-08-11T04:55:53.010Z"
   },
   {
    "duration": 13,
    "start_time": "2022-08-11T04:55:53.046Z"
   },
   {
    "duration": 66,
    "start_time": "2022-08-11T04:55:53.061Z"
   },
   {
    "duration": 5946,
    "start_time": "2022-08-11T04:55:53.129Z"
   },
   {
    "duration": 27,
    "start_time": "2022-08-11T04:55:59.077Z"
   },
   {
    "duration": 36,
    "start_time": "2022-08-11T04:55:59.105Z"
   },
   {
    "duration": 111,
    "start_time": "2022-08-11T04:55:59.142Z"
   },
   {
    "duration": 11,
    "start_time": "2022-08-11T04:55:59.255Z"
   },
   {
    "duration": 24,
    "start_time": "2022-08-11T04:55:59.268Z"
   },
   {
    "duration": 12,
    "start_time": "2022-08-11T04:55:59.294Z"
   },
   {
    "duration": 11,
    "start_time": "2022-08-11T04:55:59.307Z"
   },
   {
    "duration": 12,
    "start_time": "2022-08-11T04:55:59.320Z"
   },
   {
    "duration": 90,
    "start_time": "2022-08-11T04:55:59.335Z"
   },
   {
    "duration": 38,
    "start_time": "2022-08-11T04:55:59.427Z"
   },
   {
    "duration": 228,
    "start_time": "2022-08-11T04:55:59.468Z"
   },
   {
    "duration": 1331,
    "start_time": "2022-08-11T04:55:59.697Z"
   },
   {
    "duration": 114,
    "start_time": "2022-08-11T04:57:34.588Z"
   },
   {
    "duration": 118,
    "start_time": "2022-08-11T04:57:41.411Z"
   },
   {
    "duration": 113,
    "start_time": "2022-08-11T04:57:47.236Z"
   },
   {
    "duration": 10,
    "start_time": "2022-08-11T04:58:51.603Z"
   },
   {
    "duration": 10,
    "start_time": "2022-08-11T04:59:08.192Z"
   },
   {
    "duration": 109,
    "start_time": "2022-08-11T05:01:52.083Z"
   },
   {
    "duration": 12,
    "start_time": "2022-08-11T05:02:16.843Z"
   },
   {
    "duration": 10,
    "start_time": "2022-08-11T05:03:26.573Z"
   },
   {
    "duration": 10,
    "start_time": "2022-08-11T05:04:04.224Z"
   },
   {
    "duration": 10,
    "start_time": "2022-08-11T05:04:47.510Z"
   },
   {
    "duration": 11,
    "start_time": "2022-08-11T05:06:46.203Z"
   },
   {
    "duration": 11,
    "start_time": "2022-08-11T05:08:31.394Z"
   },
   {
    "duration": 10,
    "start_time": "2022-08-11T05:09:30.714Z"
   },
   {
    "duration": 10,
    "start_time": "2022-08-11T05:09:48.269Z"
   },
   {
    "duration": 67,
    "start_time": "2022-08-11T05:21:03.669Z"
   },
   {
    "duration": 1336,
    "start_time": "2022-08-11T05:22:43.392Z"
   },
   {
    "duration": 1447,
    "start_time": "2022-08-11T05:23:01.552Z"
   },
   {
    "duration": 1320,
    "start_time": "2022-08-11T05:23:10.916Z"
   },
   {
    "duration": 1197,
    "start_time": "2022-08-11T05:34:46.064Z"
   },
   {
    "duration": 479,
    "start_time": "2022-08-11T05:34:47.263Z"
   },
   {
    "duration": 39,
    "start_time": "2022-08-11T05:34:47.744Z"
   },
   {
    "duration": 29,
    "start_time": "2022-08-11T05:34:47.786Z"
   },
   {
    "duration": 26,
    "start_time": "2022-08-11T05:34:47.817Z"
   },
   {
    "duration": 17,
    "start_time": "2022-08-11T05:34:47.845Z"
   },
   {
    "duration": 42,
    "start_time": "2022-08-11T05:34:47.864Z"
   },
   {
    "duration": 63,
    "start_time": "2022-08-11T05:34:47.908Z"
   },
   {
    "duration": 7,
    "start_time": "2022-08-11T05:34:47.991Z"
   },
   {
    "duration": 10,
    "start_time": "2022-08-11T05:34:48.002Z"
   },
   {
    "duration": 39,
    "start_time": "2022-08-11T05:34:48.014Z"
   },
   {
    "duration": 52,
    "start_time": "2022-08-11T05:34:48.055Z"
   },
   {
    "duration": 23,
    "start_time": "2022-08-11T05:34:48.109Z"
   },
   {
    "duration": 16,
    "start_time": "2022-08-11T05:34:48.134Z"
   },
   {
    "duration": 40,
    "start_time": "2022-08-11T05:34:48.152Z"
   },
   {
    "duration": 5,
    "start_time": "2022-08-11T05:34:48.194Z"
   },
   {
    "duration": 37,
    "start_time": "2022-08-11T05:34:48.201Z"
   },
   {
    "duration": 5,
    "start_time": "2022-08-11T05:34:48.241Z"
   },
   {
    "duration": 10,
    "start_time": "2022-08-11T05:34:48.248Z"
   },
   {
    "duration": 54,
    "start_time": "2022-08-11T05:34:48.260Z"
   },
   {
    "duration": 32,
    "start_time": "2022-08-11T05:34:48.316Z"
   },
   {
    "duration": 21,
    "start_time": "2022-08-11T05:34:48.349Z"
   },
   {
    "duration": 49,
    "start_time": "2022-08-11T05:34:48.372Z"
   },
   {
    "duration": 12,
    "start_time": "2022-08-11T05:34:48.423Z"
   },
   {
    "duration": 62,
    "start_time": "2022-08-11T05:34:48.437Z"
   },
   {
    "duration": 6099,
    "start_time": "2022-08-11T05:34:48.501Z"
   },
   {
    "duration": 22,
    "start_time": "2022-08-11T05:34:54.602Z"
   },
   {
    "duration": 154,
    "start_time": "2022-08-11T05:34:54.627Z"
   },
   {
    "duration": 15,
    "start_time": "2022-08-11T05:34:54.783Z"
   },
   {
    "duration": 23,
    "start_time": "2022-08-11T05:34:54.800Z"
   },
   {
    "duration": 29,
    "start_time": "2022-08-11T05:34:54.825Z"
   },
   {
    "duration": 42,
    "start_time": "2022-08-11T05:34:54.856Z"
   },
   {
    "duration": 271,
    "start_time": "2022-08-11T05:34:54.900Z"
   },
   {
    "duration": 1392,
    "start_time": "2022-08-11T05:34:55.173Z"
   },
   {
    "duration": 1202,
    "start_time": "2022-08-11T05:36:30.810Z"
   },
   {
    "duration": 525,
    "start_time": "2022-08-11T05:36:32.015Z"
   },
   {
    "duration": 38,
    "start_time": "2022-08-11T05:36:32.541Z"
   },
   {
    "duration": 29,
    "start_time": "2022-08-11T05:36:32.581Z"
   },
   {
    "duration": 25,
    "start_time": "2022-08-11T05:36:32.613Z"
   },
   {
    "duration": 17,
    "start_time": "2022-08-11T05:36:32.640Z"
   },
   {
    "duration": 53,
    "start_time": "2022-08-11T05:36:32.658Z"
   },
   {
    "duration": 83,
    "start_time": "2022-08-11T05:36:32.713Z"
   },
   {
    "duration": 7,
    "start_time": "2022-08-11T05:36:32.797Z"
   },
   {
    "duration": 12,
    "start_time": "2022-08-11T05:36:32.805Z"
   },
   {
    "duration": 49,
    "start_time": "2022-08-11T05:36:32.819Z"
   },
   {
    "duration": 51,
    "start_time": "2022-08-11T05:36:32.870Z"
   },
   {
    "duration": 23,
    "start_time": "2022-08-11T05:36:32.923Z"
   },
   {
    "duration": 44,
    "start_time": "2022-08-11T05:36:32.949Z"
   },
   {
    "duration": 13,
    "start_time": "2022-08-11T05:36:32.996Z"
   },
   {
    "duration": 5,
    "start_time": "2022-08-11T05:36:33.011Z"
   },
   {
    "duration": 28,
    "start_time": "2022-08-11T05:36:33.017Z"
   },
   {
    "duration": 6,
    "start_time": "2022-08-11T05:36:33.048Z"
   },
   {
    "duration": 37,
    "start_time": "2022-08-11T05:36:33.056Z"
   },
   {
    "duration": 36,
    "start_time": "2022-08-11T05:36:33.095Z"
   },
   {
    "duration": 39,
    "start_time": "2022-08-11T05:36:33.133Z"
   },
   {
    "duration": 42,
    "start_time": "2022-08-11T05:36:33.174Z"
   },
   {
    "duration": 49,
    "start_time": "2022-08-11T05:36:33.217Z"
   },
   {
    "duration": 38,
    "start_time": "2022-08-11T05:36:33.268Z"
   },
   {
    "duration": 43,
    "start_time": "2022-08-11T05:36:33.308Z"
   },
   {
    "duration": 6031,
    "start_time": "2022-08-11T05:36:33.353Z"
   },
   {
    "duration": 27,
    "start_time": "2022-08-11T05:36:39.385Z"
   },
   {
    "duration": 143,
    "start_time": "2022-08-11T05:36:39.415Z"
   },
   {
    "duration": 11,
    "start_time": "2022-08-11T05:36:39.559Z"
   },
   {
    "duration": 24,
    "start_time": "2022-08-11T05:36:39.572Z"
   },
   {
    "duration": 11,
    "start_time": "2022-08-11T05:36:39.598Z"
   },
   {
    "duration": 13,
    "start_time": "2022-08-11T05:36:39.611Z"
   },
   {
    "duration": 238,
    "start_time": "2022-08-11T05:36:39.626Z"
   },
   {
    "duration": 1344,
    "start_time": "2022-08-11T05:36:39.866Z"
   },
   {
    "duration": 1273,
    "start_time": "2022-08-11T05:38:44.685Z"
   },
   {
    "duration": 1239,
    "start_time": "2022-08-11T05:39:03.195Z"
   },
   {
    "duration": 1397,
    "start_time": "2022-08-11T06:31:20.647Z"
   },
   {
    "duration": 654,
    "start_time": "2022-08-11T06:31:22.048Z"
   },
   {
    "duration": 65,
    "start_time": "2022-08-11T06:31:22.705Z"
   },
   {
    "duration": 52,
    "start_time": "2022-08-11T06:31:22.774Z"
   },
   {
    "duration": 41,
    "start_time": "2022-08-11T06:31:22.830Z"
   },
   {
    "duration": 25,
    "start_time": "2022-08-11T06:31:22.890Z"
   },
   {
    "duration": 36,
    "start_time": "2022-08-11T06:31:22.918Z"
   },
   {
    "duration": 119,
    "start_time": "2022-08-11T06:31:22.956Z"
   },
   {
    "duration": 19,
    "start_time": "2022-08-11T06:31:23.077Z"
   },
   {
    "duration": 12,
    "start_time": "2022-08-11T06:31:23.099Z"
   },
   {
    "duration": 66,
    "start_time": "2022-08-11T06:31:23.113Z"
   },
   {
    "duration": 39,
    "start_time": "2022-08-11T06:31:23.180Z"
   },
   {
    "duration": 22,
    "start_time": "2022-08-11T06:31:23.221Z"
   },
   {
    "duration": 48,
    "start_time": "2022-08-11T06:31:23.247Z"
   },
   {
    "duration": 16,
    "start_time": "2022-08-11T06:31:23.297Z"
   },
   {
    "duration": 14,
    "start_time": "2022-08-11T06:31:23.315Z"
   },
   {
    "duration": 44,
    "start_time": "2022-08-11T06:31:23.331Z"
   },
   {
    "duration": 19,
    "start_time": "2022-08-11T06:31:23.378Z"
   },
   {
    "duration": 21,
    "start_time": "2022-08-11T06:31:23.399Z"
   },
   {
    "duration": 30,
    "start_time": "2022-08-11T06:31:23.422Z"
   },
   {
    "duration": 38,
    "start_time": "2022-08-11T06:31:23.455Z"
   },
   {
    "duration": 27,
    "start_time": "2022-08-11T06:31:23.495Z"
   },
   {
    "duration": 36,
    "start_time": "2022-08-11T06:31:23.523Z"
   },
   {
    "duration": 42,
    "start_time": "2022-08-11T06:31:23.561Z"
   },
   {
    "duration": 53,
    "start_time": "2022-08-11T06:31:23.605Z"
   },
   {
    "duration": 7276,
    "start_time": "2022-08-11T06:31:23.661Z"
   },
   {
    "duration": 24,
    "start_time": "2022-08-11T06:31:30.940Z"
   },
   {
    "duration": 159,
    "start_time": "2022-08-11T06:31:30.966Z"
   },
   {
    "duration": 16,
    "start_time": "2022-08-11T06:31:31.128Z"
   },
   {
    "duration": 43,
    "start_time": "2022-08-11T06:31:31.146Z"
   },
   {
    "duration": 24,
    "start_time": "2022-08-11T06:31:31.192Z"
   },
   {
    "duration": 71,
    "start_time": "2022-08-11T06:31:31.218Z"
   },
   {
    "duration": 291,
    "start_time": "2022-08-11T06:31:31.291Z"
   },
   {
    "duration": 1727,
    "start_time": "2022-08-11T06:31:31.584Z"
   },
   {
    "duration": 349,
    "start_time": "2022-08-11T06:35:06.126Z"
   },
   {
    "duration": 113,
    "start_time": "2022-08-11T06:36:06.152Z"
   },
   {
    "duration": 281,
    "start_time": "2022-08-11T06:36:25.693Z"
   },
   {
    "duration": 250,
    "start_time": "2022-08-11T06:36:48.042Z"
   },
   {
    "duration": 5,
    "start_time": "2022-08-11T06:37:04.024Z"
   },
   {
    "duration": 398,
    "start_time": "2022-08-11T06:37:08.694Z"
   },
   {
    "duration": 124,
    "start_time": "2022-08-11T06:38:46.809Z"
   },
   {
    "duration": 98,
    "start_time": "2022-08-11T06:38:55.543Z"
   },
   {
    "duration": 290,
    "start_time": "2022-08-11T06:40:25.441Z"
   },
   {
    "duration": 5,
    "start_time": "2022-08-11T06:43:33.020Z"
   },
   {
    "duration": 334,
    "start_time": "2022-08-11T06:43:41.906Z"
   },
   {
    "duration": 379,
    "start_time": "2022-08-11T06:43:53.341Z"
   },
   {
    "duration": 278,
    "start_time": "2022-08-11T06:44:47.263Z"
   },
   {
    "duration": 299,
    "start_time": "2022-08-11T06:44:53.777Z"
   },
   {
    "duration": 286,
    "start_time": "2022-08-11T06:50:01.375Z"
   },
   {
    "duration": 297,
    "start_time": "2022-08-11T06:50:26.618Z"
   },
   {
    "duration": 274,
    "start_time": "2022-08-11T07:26:49.395Z"
   },
   {
    "duration": 315,
    "start_time": "2022-08-11T07:31:17.106Z"
   },
   {
    "duration": 388,
    "start_time": "2022-08-11T07:32:41.478Z"
   },
   {
    "duration": 279,
    "start_time": "2022-08-11T07:32:57.638Z"
   },
   {
    "duration": 333,
    "start_time": "2022-08-11T07:33:13.537Z"
   },
   {
    "duration": 376,
    "start_time": "2022-08-11T07:33:27.196Z"
   },
   {
    "duration": 266,
    "start_time": "2022-08-11T07:33:52.567Z"
   },
   {
    "duration": 2023,
    "start_time": "2022-08-11T07:37:34.582Z"
   },
   {
    "duration": 1703,
    "start_time": "2022-08-11T07:37:43.032Z"
   },
   {
    "duration": 283,
    "start_time": "2022-08-11T07:37:54.008Z"
   },
   {
    "duration": 268,
    "start_time": "2022-08-11T07:38:00.954Z"
   },
   {
    "duration": 279,
    "start_time": "2022-08-11T07:38:27.743Z"
   },
   {
    "duration": 1987,
    "start_time": "2022-08-11T07:38:49.965Z"
   },
   {
    "duration": 1553,
    "start_time": "2022-08-11T07:38:58.446Z"
   },
   {
    "duration": 309,
    "start_time": "2022-08-11T07:39:11.984Z"
   },
   {
    "duration": 296,
    "start_time": "2022-08-11T07:43:07.898Z"
   },
   {
    "duration": 398,
    "start_time": "2022-08-11T07:54:38.033Z"
   },
   {
    "duration": 275,
    "start_time": "2022-08-11T07:55:18.535Z"
   },
   {
    "duration": 5064,
    "start_time": "2022-08-11T07:57:27.289Z"
   },
   {
    "duration": 268,
    "start_time": "2022-08-11T07:57:52.094Z"
   },
   {
    "duration": 274,
    "start_time": "2022-08-11T07:58:58.172Z"
   },
   {
    "duration": 286,
    "start_time": "2022-08-11T07:59:20.796Z"
   },
   {
    "duration": 4502,
    "start_time": "2022-08-11T07:59:50.452Z"
   },
   {
    "duration": 286,
    "start_time": "2022-08-11T08:00:07.502Z"
   },
   {
    "duration": 251,
    "start_time": "2022-08-11T08:00:21.243Z"
   },
   {
    "duration": 238,
    "start_time": "2022-08-11T08:00:43.495Z"
   },
   {
    "duration": 251,
    "start_time": "2022-08-11T08:01:02.106Z"
   },
   {
    "duration": 418,
    "start_time": "2022-08-11T08:01:45.742Z"
   },
   {
    "duration": 261,
    "start_time": "2022-08-11T08:01:48.863Z"
   },
   {
    "duration": 256,
    "start_time": "2022-08-11T08:02:31.120Z"
   },
   {
    "duration": 269,
    "start_time": "2022-08-11T08:10:41.395Z"
   },
   {
    "duration": 268,
    "start_time": "2022-08-11T08:11:00.364Z"
   },
   {
    "duration": 278,
    "start_time": "2022-08-11T08:11:13.092Z"
   },
   {
    "duration": 347,
    "start_time": "2022-08-11T08:11:41.763Z"
   },
   {
    "duration": 286,
    "start_time": "2022-08-11T08:11:59.089Z"
   },
   {
    "duration": 275,
    "start_time": "2022-08-11T08:18:26.576Z"
   },
   {
    "duration": 115,
    "start_time": "2022-08-11T08:21:24.007Z"
   },
   {
    "duration": 242,
    "start_time": "2022-08-11T08:21:28.488Z"
   },
   {
    "duration": 284,
    "start_time": "2022-08-11T08:28:24.982Z"
   },
   {
    "duration": 410,
    "start_time": "2022-08-11T08:31:06.748Z"
   },
   {
    "duration": 659,
    "start_time": "2022-08-11T08:31:18.437Z"
   },
   {
    "duration": 1129,
    "start_time": "2022-08-11T08:31:25.450Z"
   },
   {
    "duration": 276,
    "start_time": "2022-08-11T08:32:08.445Z"
   },
   {
    "duration": 12,
    "start_time": "2022-08-11T08:36:23.217Z"
   },
   {
    "duration": 385,
    "start_time": "2022-08-11T08:44:51.644Z"
   },
   {
    "duration": 408,
    "start_time": "2022-08-11T08:45:20.115Z"
   },
   {
    "duration": 275,
    "start_time": "2022-08-11T08:45:28.981Z"
   },
   {
    "duration": 299,
    "start_time": "2022-08-11T08:45:55.343Z"
   },
   {
    "duration": 11,
    "start_time": "2022-08-11T09:02:33.042Z"
   },
   {
    "duration": 9,
    "start_time": "2022-08-11T09:02:53.865Z"
   },
   {
    "duration": 15,
    "start_time": "2022-08-11T09:04:46.960Z"
   },
   {
    "duration": 10,
    "start_time": "2022-08-11T09:05:02.855Z"
   },
   {
    "duration": 90,
    "start_time": "2022-08-11T09:37:22.343Z"
   },
   {
    "duration": 125,
    "start_time": "2022-08-11T09:37:30.882Z"
   },
   {
    "duration": 160,
    "start_time": "2022-08-11T09:37:49.178Z"
   },
   {
    "duration": 137,
    "start_time": "2022-08-11T09:38:02.188Z"
   },
   {
    "duration": 30,
    "start_time": "2022-08-11T09:38:15.853Z"
   },
   {
    "duration": 1170,
    "start_time": "2022-08-11T09:40:44.994Z"
   },
   {
    "duration": 441,
    "start_time": "2022-08-11T09:40:46.166Z"
   },
   {
    "duration": 39,
    "start_time": "2022-08-11T09:40:46.609Z"
   },
   {
    "duration": 45,
    "start_time": "2022-08-11T09:40:46.650Z"
   },
   {
    "duration": 25,
    "start_time": "2022-08-11T09:40:46.696Z"
   },
   {
    "duration": 44,
    "start_time": "2022-08-11T09:40:46.723Z"
   },
   {
    "duration": 23,
    "start_time": "2022-08-11T09:40:46.769Z"
   },
   {
    "duration": 64,
    "start_time": "2022-08-11T09:40:46.794Z"
   },
   {
    "duration": 6,
    "start_time": "2022-08-11T09:40:46.859Z"
   },
   {
    "duration": 30,
    "start_time": "2022-08-11T09:40:46.868Z"
   },
   {
    "duration": 37,
    "start_time": "2022-08-11T09:40:46.900Z"
   },
   {
    "duration": 24,
    "start_time": "2022-08-11T09:40:46.939Z"
   },
   {
    "duration": 43,
    "start_time": "2022-08-11T09:40:46.965Z"
   },
   {
    "duration": 16,
    "start_time": "2022-08-11T09:40:47.010Z"
   },
   {
    "duration": 12,
    "start_time": "2022-08-11T09:40:47.028Z"
   },
   {
    "duration": 4,
    "start_time": "2022-08-11T09:40:47.041Z"
   },
   {
    "duration": 52,
    "start_time": "2022-08-11T09:40:47.047Z"
   },
   {
    "duration": 5,
    "start_time": "2022-08-11T09:40:47.101Z"
   },
   {
    "duration": 6,
    "start_time": "2022-08-11T09:40:47.108Z"
   },
   {
    "duration": 27,
    "start_time": "2022-08-11T09:40:47.116Z"
   },
   {
    "duration": 55,
    "start_time": "2022-08-11T09:40:47.145Z"
   },
   {
    "duration": 22,
    "start_time": "2022-08-11T09:40:47.202Z"
   },
   {
    "duration": 31,
    "start_time": "2022-08-11T09:40:47.226Z"
   },
   {
    "duration": 34,
    "start_time": "2022-08-11T09:40:47.259Z"
   },
   {
    "duration": 42,
    "start_time": "2022-08-11T09:40:47.294Z"
   },
   {
    "duration": 6082,
    "start_time": "2022-08-11T09:40:47.338Z"
   },
   {
    "duration": 12,
    "start_time": "2022-08-11T09:40:53.422Z"
   },
   {
    "duration": 135,
    "start_time": "2022-08-11T09:40:53.438Z"
   },
   {
    "duration": 19,
    "start_time": "2022-08-11T09:40:53.575Z"
   },
   {
    "duration": 32,
    "start_time": "2022-08-11T09:40:53.595Z"
   },
   {
    "duration": 14,
    "start_time": "2022-08-11T09:40:53.629Z"
   },
   {
    "duration": 32,
    "start_time": "2022-08-11T09:40:53.644Z"
   },
   {
    "duration": 220,
    "start_time": "2022-08-11T09:40:53.678Z"
   },
   {
    "duration": 29,
    "start_time": "2022-08-11T09:40:53.900Z"
   },
   {
    "duration": 303,
    "start_time": "2022-08-11T09:40:53.931Z"
   },
   {
    "duration": 259,
    "start_time": "2022-08-11T09:40:54.236Z"
   },
   {
    "duration": 274,
    "start_time": "2022-08-11T09:40:54.497Z"
   },
   {
    "duration": 8,
    "start_time": "2022-08-11T09:40:54.772Z"
   },
   {
    "duration": 21,
    "start_time": "2022-08-11T09:40:54.792Z"
   },
   {
    "duration": 30,
    "start_time": "2022-08-11T09:41:39.725Z"
   },
   {
    "duration": 23,
    "start_time": "2022-08-11T09:41:47.379Z"
   },
   {
    "duration": 33,
    "start_time": "2022-08-11T09:41:51.305Z"
   },
   {
    "duration": 1083,
    "start_time": "2022-08-11T11:48:42.146Z"
   },
   {
    "duration": 915,
    "start_time": "2022-08-11T11:48:43.231Z"
   },
   {
    "duration": 33,
    "start_time": "2022-08-11T11:48:44.147Z"
   },
   {
    "duration": 24,
    "start_time": "2022-08-11T11:48:44.181Z"
   },
   {
    "duration": 19,
    "start_time": "2022-08-11T11:48:44.207Z"
   },
   {
    "duration": 13,
    "start_time": "2022-08-11T11:48:44.227Z"
   },
   {
    "duration": 15,
    "start_time": "2022-08-11T11:48:44.242Z"
   },
   {
    "duration": 71,
    "start_time": "2022-08-11T11:48:44.258Z"
   },
   {
    "duration": 6,
    "start_time": "2022-08-11T11:48:44.331Z"
   },
   {
    "duration": 8,
    "start_time": "2022-08-11T11:48:44.338Z"
   },
   {
    "duration": 30,
    "start_time": "2022-08-11T11:48:44.348Z"
   },
   {
    "duration": 51,
    "start_time": "2022-08-11T11:48:44.380Z"
   },
   {
    "duration": 19,
    "start_time": "2022-08-11T11:48:44.432Z"
   },
   {
    "duration": 12,
    "start_time": "2022-08-11T11:48:44.454Z"
   },
   {
    "duration": 10,
    "start_time": "2022-08-11T11:48:44.467Z"
   },
   {
    "duration": 4,
    "start_time": "2022-08-11T11:48:44.478Z"
   },
   {
    "duration": 44,
    "start_time": "2022-08-11T11:48:44.483Z"
   },
   {
    "duration": 4,
    "start_time": "2022-08-11T11:48:44.529Z"
   },
   {
    "duration": 4,
    "start_time": "2022-08-11T11:48:44.535Z"
   },
   {
    "duration": 17,
    "start_time": "2022-08-11T11:48:44.540Z"
   },
   {
    "duration": 25,
    "start_time": "2022-08-11T11:48:44.559Z"
   },
   {
    "duration": 15,
    "start_time": "2022-08-11T11:48:44.610Z"
   },
   {
    "duration": 26,
    "start_time": "2022-08-11T11:48:44.627Z"
   },
   {
    "duration": 11,
    "start_time": "2022-08-11T11:48:44.655Z"
   },
   {
    "duration": 54,
    "start_time": "2022-08-11T11:48:44.667Z"
   },
   {
    "duration": 5082,
    "start_time": "2022-08-11T11:48:44.723Z"
   },
   {
    "duration": 12,
    "start_time": "2022-08-11T11:48:49.807Z"
   },
   {
    "duration": 108,
    "start_time": "2022-08-11T11:48:49.820Z"
   },
   {
    "duration": 9,
    "start_time": "2022-08-11T11:48:49.930Z"
   },
   {
    "duration": 9,
    "start_time": "2022-08-11T11:48:49.940Z"
   },
   {
    "duration": 8,
    "start_time": "2022-08-11T11:48:49.951Z"
   },
   {
    "duration": 8,
    "start_time": "2022-08-11T11:48:49.960Z"
   },
   {
    "duration": 198,
    "start_time": "2022-08-11T11:48:49.970Z"
   },
   {
    "duration": 25,
    "start_time": "2022-08-11T11:48:50.169Z"
   },
   {
    "duration": 245,
    "start_time": "2022-08-11T11:48:50.196Z"
   },
   {
    "duration": 214,
    "start_time": "2022-08-11T11:48:50.442Z"
   },
   {
    "duration": 216,
    "start_time": "2022-08-11T11:48:50.657Z"
   },
   {
    "duration": 7,
    "start_time": "2022-08-11T11:48:50.874Z"
   },
   {
    "duration": 10,
    "start_time": "2022-08-11T11:48:50.883Z"
   },
   {
    "duration": 97,
    "start_time": "2022-08-11T11:57:33.734Z"
   },
   {
    "duration": 4,
    "start_time": "2022-08-11T11:57:46.570Z"
   },
   {
    "duration": 1216,
    "start_time": "2022-08-11T13:08:03.278Z"
   },
   {
    "duration": 1025,
    "start_time": "2022-08-11T13:08:04.496Z"
   },
   {
    "duration": 31,
    "start_time": "2022-08-11T13:08:05.523Z"
   },
   {
    "duration": 23,
    "start_time": "2022-08-11T13:08:05.556Z"
   },
   {
    "duration": 24,
    "start_time": "2022-08-11T13:08:05.581Z"
   },
   {
    "duration": 16,
    "start_time": "2022-08-11T13:08:05.607Z"
   },
   {
    "duration": 38,
    "start_time": "2022-08-11T13:08:05.624Z"
   },
   {
    "duration": 54,
    "start_time": "2022-08-11T13:08:05.664Z"
   },
   {
    "duration": 6,
    "start_time": "2022-08-11T13:08:05.720Z"
   },
   {
    "duration": 35,
    "start_time": "2022-08-11T13:08:05.728Z"
   },
   {
    "duration": 32,
    "start_time": "2022-08-11T13:08:05.764Z"
   },
   {
    "duration": 22,
    "start_time": "2022-08-11T13:08:05.797Z"
   },
   {
    "duration": 40,
    "start_time": "2022-08-11T13:08:05.821Z"
   },
   {
    "duration": 14,
    "start_time": "2022-08-11T13:08:05.863Z"
   },
   {
    "duration": 11,
    "start_time": "2022-08-11T13:08:05.879Z"
   },
   {
    "duration": 4,
    "start_time": "2022-08-11T13:08:05.892Z"
   },
   {
    "duration": 18,
    "start_time": "2022-08-11T13:08:05.898Z"
   },
   {
    "duration": 6,
    "start_time": "2022-08-11T13:08:05.918Z"
   },
   {
    "duration": 5,
    "start_time": "2022-08-11T13:08:05.958Z"
   },
   {
    "duration": 24,
    "start_time": "2022-08-11T13:08:05.965Z"
   },
   {
    "duration": 27,
    "start_time": "2022-08-11T13:08:05.991Z"
   },
   {
    "duration": 45,
    "start_time": "2022-08-11T13:08:06.020Z"
   },
   {
    "duration": 26,
    "start_time": "2022-08-11T13:08:06.066Z"
   },
   {
    "duration": 11,
    "start_time": "2022-08-11T13:08:06.094Z"
   },
   {
    "duration": 54,
    "start_time": "2022-08-11T13:08:06.107Z"
   },
   {
    "duration": 5361,
    "start_time": "2022-08-11T13:08:06.163Z"
   },
   {
    "duration": 10,
    "start_time": "2022-08-11T13:08:11.526Z"
   },
   {
    "duration": 13,
    "start_time": "2022-08-11T13:08:11.538Z"
   },
   {
    "duration": 122,
    "start_time": "2022-08-11T13:08:11.553Z"
   },
   {
    "duration": 10,
    "start_time": "2022-08-11T13:08:11.677Z"
   },
   {
    "duration": 10,
    "start_time": "2022-08-11T13:08:11.688Z"
   },
   {
    "duration": 11,
    "start_time": "2022-08-11T13:08:11.700Z"
   },
   {
    "duration": 10,
    "start_time": "2022-08-11T13:08:11.712Z"
   },
   {
    "duration": 215,
    "start_time": "2022-08-11T13:08:11.724Z"
   },
   {
    "duration": 36,
    "start_time": "2022-08-11T13:08:11.941Z"
   },
   {
    "duration": 259,
    "start_time": "2022-08-11T13:08:11.979Z"
   },
   {
    "duration": 230,
    "start_time": "2022-08-11T13:08:12.240Z"
   },
   {
    "duration": 234,
    "start_time": "2022-08-11T13:08:12.472Z"
   },
   {
    "duration": 7,
    "start_time": "2022-08-11T13:08:12.708Z"
   },
   {
    "duration": 12,
    "start_time": "2022-08-11T13:08:12.716Z"
   },
   {
    "duration": 8,
    "start_time": "2022-08-12T03:12:33.502Z"
   },
   {
    "duration": 87,
    "start_time": "2022-08-12T03:13:00.466Z"
   },
   {
    "duration": 98,
    "start_time": "2022-08-12T03:13:09.567Z"
   },
   {
    "duration": 8,
    "start_time": "2022-08-12T03:13:17.326Z"
   },
   {
    "duration": 101,
    "start_time": "2022-08-12T03:18:34.636Z"
   },
   {
    "duration": 390,
    "start_time": "2022-08-12T03:18:43.200Z"
   },
   {
    "duration": 99,
    "start_time": "2022-08-12T03:18:48.767Z"
   },
   {
    "duration": 56,
    "start_time": "2022-08-12T03:19:37.444Z"
   },
   {
    "duration": 41,
    "start_time": "2022-08-12T03:20:36.993Z"
   },
   {
    "duration": 7,
    "start_time": "2022-08-12T03:21:23.005Z"
   },
   {
    "duration": 83,
    "start_time": "2022-08-12T03:25:04.242Z"
   },
   {
    "duration": 59,
    "start_time": "2022-08-12T03:25:25.549Z"
   },
   {
    "duration": 55,
    "start_time": "2022-08-12T03:25:55.312Z"
   },
   {
    "duration": 79,
    "start_time": "2022-08-12T03:26:00.610Z"
   },
   {
    "duration": 88,
    "start_time": "2022-08-12T03:26:07.221Z"
   },
   {
    "duration": 123,
    "start_time": "2022-08-12T03:26:45.210Z"
   },
   {
    "duration": 4,
    "start_time": "2022-08-12T03:31:51.758Z"
   },
   {
    "duration": 8,
    "start_time": "2022-08-12T03:31:57.641Z"
   },
   {
    "duration": 3,
    "start_time": "2022-08-12T03:47:23.210Z"
   },
   {
    "duration": 10,
    "start_time": "2022-08-12T03:47:28.369Z"
   },
   {
    "duration": 16,
    "start_time": "2022-08-12T03:48:18.466Z"
   },
   {
    "duration": 16,
    "start_time": "2022-08-12T03:48:51.599Z"
   },
   {
    "duration": 12,
    "start_time": "2022-08-12T03:58:58.323Z"
   },
   {
    "duration": 1119,
    "start_time": "2022-08-12T04:09:04.060Z"
   },
   {
    "duration": 16,
    "start_time": "2022-08-12T04:09:48.916Z"
   },
   {
    "duration": 6,
    "start_time": "2022-08-12T04:10:43.453Z"
   },
   {
    "duration": 20,
    "start_time": "2022-08-12T04:10:50.142Z"
   },
   {
    "duration": 19,
    "start_time": "2022-08-12T04:11:01.081Z"
   },
   {
    "duration": 71,
    "start_time": "2022-08-12T04:14:56.650Z"
   },
   {
    "duration": 45,
    "start_time": "2022-08-12T04:15:09.378Z"
   },
   {
    "duration": 48,
    "start_time": "2022-08-12T04:15:36.558Z"
   },
   {
    "duration": 19,
    "start_time": "2022-08-12T04:15:47.665Z"
   },
   {
    "duration": 18,
    "start_time": "2022-08-12T04:18:55.335Z"
   },
   {
    "duration": 18,
    "start_time": "2022-08-12T04:19:30.882Z"
   },
   {
    "duration": 18,
    "start_time": "2022-08-12T04:21:36.373Z"
   },
   {
    "duration": 75,
    "start_time": "2022-08-12T04:22:14.236Z"
   },
   {
    "duration": 17,
    "start_time": "2022-08-12T04:22:25.760Z"
   },
   {
    "duration": 18,
    "start_time": "2022-08-12T04:22:46.740Z"
   },
   {
    "duration": 275,
    "start_time": "2022-08-12T04:24:02.632Z"
   },
   {
    "duration": 200,
    "start_time": "2022-08-12T04:26:23.766Z"
   },
   {
    "duration": 212,
    "start_time": "2022-08-12T04:27:53.765Z"
   },
   {
    "duration": 5396,
    "start_time": "2022-08-12T04:29:56.586Z"
   },
   {
    "duration": 1063,
    "start_time": "2022-08-12T04:30:11.925Z"
   },
   {
    "duration": 399,
    "start_time": "2022-08-12T04:30:12.990Z"
   },
   {
    "duration": 30,
    "start_time": "2022-08-12T04:30:13.391Z"
   },
   {
    "duration": 22,
    "start_time": "2022-08-12T04:30:13.422Z"
   },
   {
    "duration": 19,
    "start_time": "2022-08-12T04:30:13.446Z"
   },
   {
    "duration": 13,
    "start_time": "2022-08-12T04:30:13.467Z"
   },
   {
    "duration": 15,
    "start_time": "2022-08-12T04:30:13.482Z"
   },
   {
    "duration": 120,
    "start_time": "2022-08-12T04:30:13.498Z"
   },
   {
    "duration": 54,
    "start_time": "2022-08-12T04:30:13.620Z"
   },
   {
    "duration": 4,
    "start_time": "2022-08-12T04:30:13.676Z"
   },
   {
    "duration": 13,
    "start_time": "2022-08-12T04:30:13.682Z"
   },
   {
    "duration": 70,
    "start_time": "2022-08-12T04:30:13.696Z"
   },
   {
    "duration": 31,
    "start_time": "2022-08-12T04:30:13.767Z"
   },
   {
    "duration": 19,
    "start_time": "2022-08-12T04:30:13.801Z"
   },
   {
    "duration": 68,
    "start_time": "2022-08-12T04:30:13.822Z"
   },
   {
    "duration": 21,
    "start_time": "2022-08-12T04:30:13.892Z"
   },
   {
    "duration": 17,
    "start_time": "2022-08-12T04:30:13.915Z"
   },
   {
    "duration": 27,
    "start_time": "2022-08-12T04:30:13.934Z"
   },
   {
    "duration": 6,
    "start_time": "2022-08-12T04:30:13.962Z"
   },
   {
    "duration": 5,
    "start_time": "2022-08-12T04:30:13.969Z"
   },
   {
    "duration": 20,
    "start_time": "2022-08-12T04:30:13.976Z"
   },
   {
    "duration": 4,
    "start_time": "2022-08-12T04:30:13.997Z"
   },
   {
    "duration": 5,
    "start_time": "2022-08-12T04:30:14.003Z"
   },
   {
    "duration": 61,
    "start_time": "2022-08-12T04:30:14.009Z"
   },
   {
    "duration": 25,
    "start_time": "2022-08-12T04:30:14.071Z"
   },
   {
    "duration": 19,
    "start_time": "2022-08-12T04:30:14.098Z"
   },
   {
    "duration": 50,
    "start_time": "2022-08-12T04:30:14.118Z"
   },
   {
    "duration": 11,
    "start_time": "2022-08-12T04:30:14.170Z"
   },
   {
    "duration": 41,
    "start_time": "2022-08-12T04:30:14.183Z"
   },
   {
    "duration": 5459,
    "start_time": "2022-08-12T04:30:14.226Z"
   },
   {
    "duration": 350,
    "start_time": "2022-08-12T04:30:19.687Z"
   },
   {
    "duration": 0,
    "start_time": "2022-08-12T04:30:20.039Z"
   },
   {
    "duration": 0,
    "start_time": "2022-08-12T04:30:20.041Z"
   },
   {
    "duration": 0,
    "start_time": "2022-08-12T04:30:20.041Z"
   },
   {
    "duration": 0,
    "start_time": "2022-08-12T04:30:20.042Z"
   },
   {
    "duration": 0,
    "start_time": "2022-08-12T04:30:20.043Z"
   },
   {
    "duration": 0,
    "start_time": "2022-08-12T04:30:20.044Z"
   },
   {
    "duration": 0,
    "start_time": "2022-08-12T04:30:20.045Z"
   },
   {
    "duration": 0,
    "start_time": "2022-08-12T04:30:20.046Z"
   },
   {
    "duration": 0,
    "start_time": "2022-08-12T04:30:20.047Z"
   },
   {
    "duration": 0,
    "start_time": "2022-08-12T04:30:20.048Z"
   },
   {
    "duration": 0,
    "start_time": "2022-08-12T04:30:20.049Z"
   },
   {
    "duration": 1,
    "start_time": "2022-08-12T04:30:20.049Z"
   },
   {
    "duration": 1,
    "start_time": "2022-08-12T04:30:20.050Z"
   },
   {
    "duration": 0,
    "start_time": "2022-08-12T04:30:20.051Z"
   },
   {
    "duration": 0,
    "start_time": "2022-08-12T04:30:20.052Z"
   },
   {
    "duration": 230,
    "start_time": "2022-08-12T04:32:03.694Z"
   },
   {
    "duration": 201,
    "start_time": "2022-08-12T04:42:44.772Z"
   },
   {
    "duration": 993,
    "start_time": "2022-08-12T04:50:46.275Z"
   },
   {
    "duration": 12,
    "start_time": "2022-08-12T04:51:23.193Z"
   },
   {
    "duration": 4,
    "start_time": "2022-08-12T04:51:52.930Z"
   },
   {
    "duration": 260,
    "start_time": "2022-08-12T04:58:00.329Z"
   },
   {
    "duration": 57,
    "start_time": "2022-08-12T05:01:26.849Z"
   },
   {
    "duration": 339,
    "start_time": "2022-08-12T05:01:40.886Z"
   },
   {
    "duration": 279,
    "start_time": "2022-08-12T05:05:22.585Z"
   },
   {
    "duration": 821,
    "start_time": "2022-08-12T05:06:03.358Z"
   },
   {
    "duration": 5473,
    "start_time": "2022-08-12T05:14:14.921Z"
   },
   {
    "duration": 5,
    "start_time": "2022-08-12T05:14:51.515Z"
   },
   {
    "duration": 5286,
    "start_time": "2022-08-12T05:16:16.516Z"
   },
   {
    "duration": 5297,
    "start_time": "2022-08-12T05:28:04.271Z"
   },
   {
    "duration": 5472,
    "start_time": "2022-08-12T05:28:12.490Z"
   },
   {
    "duration": 31,
    "start_time": "2022-08-12T05:28:58.527Z"
   },
   {
    "duration": 5571,
    "start_time": "2022-08-12T05:29:12.152Z"
   },
   {
    "duration": 4,
    "start_time": "2022-08-12T05:29:43.463Z"
   },
   {
    "duration": 1105,
    "start_time": "2022-08-12T05:34:58.466Z"
   },
   {
    "duration": 400,
    "start_time": "2022-08-12T05:34:59.573Z"
   },
   {
    "duration": 31,
    "start_time": "2022-08-12T05:34:59.974Z"
   },
   {
    "duration": 25,
    "start_time": "2022-08-12T05:35:00.007Z"
   },
   {
    "duration": 26,
    "start_time": "2022-08-12T05:35:00.034Z"
   },
   {
    "duration": 16,
    "start_time": "2022-08-12T05:35:00.062Z"
   },
   {
    "duration": 16,
    "start_time": "2022-08-12T05:35:00.079Z"
   },
   {
    "duration": 134,
    "start_time": "2022-08-12T05:35:00.097Z"
   },
   {
    "duration": 55,
    "start_time": "2022-08-12T05:35:00.232Z"
   },
   {
    "duration": 5,
    "start_time": "2022-08-12T05:35:00.289Z"
   },
   {
    "duration": 23,
    "start_time": "2022-08-12T05:35:00.295Z"
   },
   {
    "duration": 74,
    "start_time": "2022-08-12T05:35:00.319Z"
   },
   {
    "duration": 32,
    "start_time": "2022-08-12T05:35:00.395Z"
   },
   {
    "duration": 35,
    "start_time": "2022-08-12T05:35:00.430Z"
   },
   {
    "duration": 45,
    "start_time": "2022-08-12T05:35:00.467Z"
   },
   {
    "duration": 18,
    "start_time": "2022-08-12T05:35:00.514Z"
   },
   {
    "duration": 34,
    "start_time": "2022-08-12T05:35:00.534Z"
   },
   {
    "duration": 10,
    "start_time": "2022-08-12T05:35:00.570Z"
   },
   {
    "duration": 15,
    "start_time": "2022-08-12T05:35:00.582Z"
   },
   {
    "duration": 33,
    "start_time": "2022-08-12T05:35:00.599Z"
   },
   {
    "duration": 22,
    "start_time": "2022-08-12T05:35:00.633Z"
   },
   {
    "duration": 15,
    "start_time": "2022-08-12T05:35:00.657Z"
   },
   {
    "duration": 21,
    "start_time": "2022-08-12T05:35:00.674Z"
   },
   {
    "duration": 38,
    "start_time": "2022-08-12T05:35:00.696Z"
   },
   {
    "duration": 24,
    "start_time": "2022-08-12T05:35:00.736Z"
   },
   {
    "duration": 20,
    "start_time": "2022-08-12T05:35:00.762Z"
   },
   {
    "duration": 28,
    "start_time": "2022-08-12T05:35:00.784Z"
   },
   {
    "duration": 11,
    "start_time": "2022-08-12T05:35:00.814Z"
   },
   {
    "duration": 55,
    "start_time": "2022-08-12T05:35:00.827Z"
   },
   {
    "duration": 74,
    "start_time": "2022-08-12T05:35:00.884Z"
   },
   {
    "duration": 5337,
    "start_time": "2022-08-12T05:35:00.960Z"
   },
   {
    "duration": 12,
    "start_time": "2022-08-12T05:35:06.299Z"
   },
   {
    "duration": 8,
    "start_time": "2022-08-12T05:35:06.312Z"
   },
   {
    "duration": 120,
    "start_time": "2022-08-12T05:35:06.322Z"
   },
   {
    "duration": 17,
    "start_time": "2022-08-12T05:35:06.444Z"
   },
   {
    "duration": 10,
    "start_time": "2022-08-12T05:35:06.463Z"
   },
   {
    "duration": 14,
    "start_time": "2022-08-12T05:35:06.475Z"
   },
   {
    "duration": 8,
    "start_time": "2022-08-12T05:35:06.491Z"
   },
   {
    "duration": 201,
    "start_time": "2022-08-12T05:35:06.501Z"
   },
   {
    "duration": 27,
    "start_time": "2022-08-12T05:35:06.704Z"
   },
   {
    "duration": 255,
    "start_time": "2022-08-12T05:35:06.734Z"
   },
   {
    "duration": 234,
    "start_time": "2022-08-12T05:35:06.990Z"
   },
   {
    "duration": 225,
    "start_time": "2022-08-12T05:35:07.225Z"
   },
   {
    "duration": 10,
    "start_time": "2022-08-12T05:35:07.451Z"
   },
   {
    "duration": 13,
    "start_time": "2022-08-12T05:35:07.462Z"
   },
   {
    "duration": 77,
    "start_time": "2022-08-12T05:35:07.477Z"
   },
   {
    "duration": 118,
    "start_time": "2022-08-12T05:40:08.234Z"
   },
   {
    "duration": 34,
    "start_time": "2022-08-12T05:40:34.849Z"
   },
   {
    "duration": 35,
    "start_time": "2022-08-12T05:40:46.923Z"
   },
   {
    "duration": 38,
    "start_time": "2022-08-12T05:40:55.672Z"
   },
   {
    "duration": 35,
    "start_time": "2022-08-12T05:41:20.467Z"
   },
   {
    "duration": 29,
    "start_time": "2022-08-12T05:42:18.326Z"
   },
   {
    "duration": 28,
    "start_time": "2022-08-12T05:42:36.735Z"
   },
   {
    "duration": 17,
    "start_time": "2022-08-12T05:43:34.715Z"
   },
   {
    "duration": 19,
    "start_time": "2022-08-12T05:44:21.482Z"
   },
   {
    "duration": 26,
    "start_time": "2022-08-12T05:44:47.498Z"
   },
   {
    "duration": 27,
    "start_time": "2022-08-12T05:46:49.814Z"
   },
   {
    "duration": 13,
    "start_time": "2022-08-12T05:47:18.322Z"
   },
   {
    "duration": 12,
    "start_time": "2022-08-12T05:47:22.726Z"
   },
   {
    "duration": 27,
    "start_time": "2022-08-12T05:47:26.930Z"
   },
   {
    "duration": 34,
    "start_time": "2022-08-12T05:48:50.031Z"
   },
   {
    "duration": 19,
    "start_time": "2022-08-12T05:49:18.786Z"
   },
   {
    "duration": 31,
    "start_time": "2022-08-12T05:51:41.323Z"
   },
   {
    "duration": 22,
    "start_time": "2022-08-12T05:52:00.040Z"
   },
   {
    "duration": 20,
    "start_time": "2022-08-12T05:52:05.330Z"
   },
   {
    "duration": 32,
    "start_time": "2022-08-12T05:52:09.857Z"
   },
   {
    "duration": 15,
    "start_time": "2022-08-12T05:52:37.066Z"
   },
   {
    "duration": 19,
    "start_time": "2022-08-12T05:55:00.893Z"
   },
   {
    "duration": 32,
    "start_time": "2022-08-12T05:55:22.530Z"
   },
   {
    "duration": 21,
    "start_time": "2022-08-12T05:57:10.586Z"
   },
   {
    "duration": 22,
    "start_time": "2022-08-12T05:57:16.094Z"
   },
   {
    "duration": 976,
    "start_time": "2022-08-12T05:57:38.769Z"
   },
   {
    "duration": 26,
    "start_time": "2022-08-12T05:57:58.330Z"
   },
   {
    "duration": 20,
    "start_time": "2022-08-12T05:58:28.027Z"
   },
   {
    "duration": 33,
    "start_time": "2022-08-12T05:58:33.836Z"
   },
   {
    "duration": 36,
    "start_time": "2022-08-12T05:58:55.179Z"
   },
   {
    "duration": 25,
    "start_time": "2022-08-12T05:59:53.564Z"
   },
   {
    "duration": 18,
    "start_time": "2022-08-12T09:41:37.207Z"
   },
   {
    "duration": 26,
    "start_time": "2022-08-12T09:53:20.170Z"
   },
   {
    "duration": 32,
    "start_time": "2022-08-12T09:53:29.550Z"
   },
   {
    "duration": 29,
    "start_time": "2022-08-12T09:53:34.525Z"
   },
   {
    "duration": 23,
    "start_time": "2022-08-12T10:04:20.956Z"
   },
   {
    "duration": 18,
    "start_time": "2022-08-12T10:05:08.184Z"
   },
   {
    "duration": 37,
    "start_time": "2022-08-12T10:05:19.770Z"
   },
   {
    "duration": 31,
    "start_time": "2022-08-12T10:05:31.928Z"
   },
   {
    "duration": 35,
    "start_time": "2022-08-12T10:05:38.647Z"
   },
   {
    "duration": 28,
    "start_time": "2022-08-12T10:05:52.033Z"
   },
   {
    "duration": 33,
    "start_time": "2022-08-12T10:06:00.187Z"
   },
   {
    "duration": 26,
    "start_time": "2022-08-12T10:07:48.620Z"
   },
   {
    "duration": 34,
    "start_time": "2022-08-12T10:08:18.742Z"
   },
   {
    "duration": 24,
    "start_time": "2022-08-12T10:08:36.771Z"
   },
   {
    "duration": 25,
    "start_time": "2022-08-12T10:10:16.035Z"
   },
   {
    "duration": 27,
    "start_time": "2022-08-12T10:10:31.541Z"
   },
   {
    "duration": 26,
    "start_time": "2022-08-12T10:10:53.846Z"
   },
   {
    "duration": 35,
    "start_time": "2022-08-12T10:11:21.264Z"
   },
   {
    "duration": 28,
    "start_time": "2022-08-12T10:11:39.066Z"
   },
   {
    "duration": 36,
    "start_time": "2022-08-12T10:11:45.836Z"
   },
   {
    "duration": 35,
    "start_time": "2022-08-12T10:11:52.679Z"
   },
   {
    "duration": 34,
    "start_time": "2022-08-12T10:11:58.715Z"
   },
   {
    "duration": 5683,
    "start_time": "2022-08-12T10:12:06.683Z"
   },
   {
    "duration": 301,
    "start_time": "2022-08-12T10:13:00.757Z"
   },
   {
    "duration": 25,
    "start_time": "2022-08-13T07:31:50.186Z"
   },
   {
    "duration": 8,
    "start_time": "2022-08-13T07:36:17.652Z"
   },
   {
    "duration": 24,
    "start_time": "2022-08-13T07:36:44.827Z"
   },
   {
    "duration": 7,
    "start_time": "2022-08-13T07:36:56.886Z"
   },
   {
    "duration": 3,
    "start_time": "2022-08-13T07:48:16.291Z"
   },
   {
    "duration": 9,
    "start_time": "2022-08-13T07:48:33.802Z"
   },
   {
    "duration": 4,
    "start_time": "2022-08-13T07:48:44.012Z"
   },
   {
    "duration": 61,
    "start_time": "2022-08-13T08:16:03.992Z"
   },
   {
    "duration": 73,
    "start_time": "2022-08-13T08:16:21.353Z"
   },
   {
    "duration": 8,
    "start_time": "2022-08-13T08:16:27.699Z"
   },
   {
    "duration": 383,
    "start_time": "2022-08-13T08:16:41.998Z"
   },
   {
    "duration": 8,
    "start_time": "2022-08-13T08:16:48.008Z"
   },
   {
    "duration": 6,
    "start_time": "2022-08-13T08:16:55.174Z"
   },
   {
    "duration": 5,
    "start_time": "2022-08-13T08:17:04.490Z"
   },
   {
    "duration": 6,
    "start_time": "2022-08-13T08:17:59.407Z"
   },
   {
    "duration": 54,
    "start_time": "2022-08-14T03:36:19.495Z"
   },
   {
    "duration": 1089,
    "start_time": "2022-08-14T03:36:29.700Z"
   },
   {
    "duration": 6,
    "start_time": "2022-08-14T03:38:18.903Z"
   },
   {
    "duration": 10,
    "start_time": "2022-08-14T03:39:10.477Z"
   },
   {
    "duration": 59,
    "start_time": "2022-08-14T03:41:10.036Z"
   },
   {
    "duration": 15,
    "start_time": "2022-08-14T03:41:24.248Z"
   },
   {
    "duration": 12,
    "start_time": "2022-08-14T03:41:58.368Z"
   },
   {
    "duration": 11,
    "start_time": "2022-08-14T03:42:08.682Z"
   },
   {
    "duration": 14,
    "start_time": "2022-08-14T03:45:08.778Z"
   },
   {
    "duration": 11,
    "start_time": "2022-08-14T03:45:55.009Z"
   },
   {
    "duration": 8,
    "start_time": "2022-08-14T03:46:02.554Z"
   },
   {
    "duration": 4,
    "start_time": "2022-08-14T03:46:23.655Z"
   },
   {
    "duration": 4,
    "start_time": "2022-08-14T03:46:30.504Z"
   },
   {
    "duration": 6,
    "start_time": "2022-08-14T03:47:02.456Z"
   },
   {
    "duration": 5,
    "start_time": "2022-08-14T03:47:35.988Z"
   },
   {
    "duration": 5,
    "start_time": "2022-08-14T03:48:59.579Z"
   },
   {
    "duration": 12,
    "start_time": "2022-08-14T03:49:23.072Z"
   },
   {
    "duration": 933,
    "start_time": "2022-08-14T03:49:38.126Z"
   },
   {
    "duration": 10,
    "start_time": "2022-08-14T03:50:01.421Z"
   },
   {
    "duration": 9,
    "start_time": "2022-08-14T03:50:15.305Z"
   },
   {
    "duration": 5,
    "start_time": "2022-08-14T03:56:42.811Z"
   },
   {
    "duration": 8,
    "start_time": "2022-08-14T03:59:02.883Z"
   },
   {
    "duration": 56,
    "start_time": "2022-08-14T04:03:22.014Z"
   },
   {
    "duration": 48,
    "start_time": "2022-08-14T04:03:41.707Z"
   },
   {
    "duration": 9,
    "start_time": "2022-08-14T04:03:46.390Z"
   },
   {
    "duration": 10,
    "start_time": "2022-08-14T04:03:55.083Z"
   },
   {
    "duration": 8,
    "start_time": "2022-08-14T04:04:04.185Z"
   },
   {
    "duration": 8,
    "start_time": "2022-08-14T04:04:11.424Z"
   },
   {
    "duration": 5,
    "start_time": "2022-08-14T04:05:22.099Z"
   },
   {
    "duration": 14,
    "start_time": "2022-08-14T04:05:37.529Z"
   },
   {
    "duration": 13,
    "start_time": "2022-08-14T04:05:45.614Z"
   },
   {
    "duration": 12,
    "start_time": "2022-08-14T04:05:50.152Z"
   },
   {
    "duration": 7,
    "start_time": "2022-08-14T04:06:02.720Z"
   },
   {
    "duration": 10,
    "start_time": "2022-08-14T04:06:37.671Z"
   },
   {
    "duration": 19,
    "start_time": "2022-08-14T04:07:10.352Z"
   },
   {
    "duration": 8,
    "start_time": "2022-08-14T04:07:20.473Z"
   },
   {
    "duration": 20,
    "start_time": "2022-08-14T04:07:58.660Z"
   },
   {
    "duration": 19,
    "start_time": "2022-08-14T04:08:11.248Z"
   },
   {
    "duration": 9,
    "start_time": "2022-08-14T04:08:19.917Z"
   },
   {
    "duration": 9,
    "start_time": "2022-08-14T04:08:37.914Z"
   },
   {
    "duration": 12,
    "start_time": "2022-08-14T04:08:51.162Z"
   },
   {
    "duration": 10,
    "start_time": "2022-08-14T04:09:04.238Z"
   },
   {
    "duration": 12,
    "start_time": "2022-08-14T04:09:08.411Z"
   },
   {
    "duration": 8,
    "start_time": "2022-08-14T04:09:19.443Z"
   },
   {
    "duration": 7,
    "start_time": "2022-08-14T04:09:32.369Z"
   },
   {
    "duration": 15,
    "start_time": "2022-08-14T04:09:36.801Z"
   },
   {
    "duration": 14,
    "start_time": "2022-08-14T04:09:50.624Z"
   },
   {
    "duration": 8,
    "start_time": "2022-08-14T04:09:54.620Z"
   },
   {
    "duration": 14,
    "start_time": "2022-08-14T04:10:25.061Z"
   },
   {
    "duration": 14,
    "start_time": "2022-08-14T04:10:29.295Z"
   },
   {
    "duration": 7,
    "start_time": "2022-08-14T04:10:41.374Z"
   },
   {
    "duration": 7,
    "start_time": "2022-08-14T04:10:52.373Z"
   },
   {
    "duration": 702,
    "start_time": "2022-08-14T04:11:10.824Z"
   },
   {
    "duration": 9,
    "start_time": "2022-08-14T04:11:15.094Z"
   },
   {
    "duration": 8,
    "start_time": "2022-08-14T04:13:18.463Z"
   },
   {
    "duration": 8220,
    "start_time": "2022-08-14T04:16:56.378Z"
   },
   {
    "duration": 24,
    "start_time": "2022-08-14T04:17:04.601Z"
   },
   {
    "duration": 12,
    "start_time": "2022-08-14T04:17:34.481Z"
   },
   {
    "duration": 12,
    "start_time": "2022-08-14T04:17:39.567Z"
   },
   {
    "duration": 7,
    "start_time": "2022-08-14T04:17:44.599Z"
   },
   {
    "duration": 13,
    "start_time": "2022-08-14T04:18:52.062Z"
   },
   {
    "duration": 7,
    "start_time": "2022-08-14T04:18:57.969Z"
   },
   {
    "duration": 6,
    "start_time": "2022-08-14T04:19:15.719Z"
   },
   {
    "duration": 2816,
    "start_time": "2022-08-14T04:19:27.191Z"
   },
   {
    "duration": 18,
    "start_time": "2022-08-14T04:19:30.009Z"
   },
   {
    "duration": 9,
    "start_time": "2022-08-14T05:03:58.695Z"
   },
   {
    "duration": 16567,
    "start_time": "2022-08-14T05:04:39.364Z"
   },
   {
    "duration": 25,
    "start_time": "2022-08-14T05:04:55.933Z"
   },
   {
    "duration": 16489,
    "start_time": "2022-08-14T05:07:25.286Z"
   },
   {
    "duration": 17,
    "start_time": "2022-08-14T05:07:41.777Z"
   },
   {
    "duration": 16733,
    "start_time": "2022-08-14T05:12:29.005Z"
   },
   {
    "duration": 24,
    "start_time": "2022-08-14T05:12:45.741Z"
   },
   {
    "duration": 16551,
    "start_time": "2022-08-14T05:14:34.828Z"
   },
   {
    "duration": 19,
    "start_time": "2022-08-14T05:14:51.381Z"
   },
   {
    "duration": 5,
    "start_time": "2022-08-14T05:15:08.110Z"
   },
   {
    "duration": 12,
    "start_time": "2022-08-14T05:15:12.355Z"
   },
   {
    "duration": 101,
    "start_time": "2022-08-14T05:15:49.799Z"
   },
   {
    "duration": 16882,
    "start_time": "2022-08-14T05:22:18.689Z"
   },
   {
    "duration": 18,
    "start_time": "2022-08-14T05:22:35.574Z"
   },
   {
    "duration": 5,
    "start_time": "2022-08-14T05:22:41.488Z"
   },
   {
    "duration": 10,
    "start_time": "2022-08-14T05:22:44.047Z"
   },
   {
    "duration": 216,
    "start_time": "2022-08-14T05:27:57.060Z"
   },
   {
    "duration": 1005,
    "start_time": "2022-08-14T05:28:43.388Z"
   },
   {
    "duration": 408,
    "start_time": "2022-08-14T05:28:44.395Z"
   },
   {
    "duration": 29,
    "start_time": "2022-08-14T05:28:44.805Z"
   },
   {
    "duration": 23,
    "start_time": "2022-08-14T05:28:44.836Z"
   },
   {
    "duration": 19,
    "start_time": "2022-08-14T05:28:44.861Z"
   },
   {
    "duration": 14,
    "start_time": "2022-08-14T05:28:44.882Z"
   },
   {
    "duration": 17,
    "start_time": "2022-08-14T05:28:44.897Z"
   },
   {
    "duration": 141,
    "start_time": "2022-08-14T05:28:44.916Z"
   },
   {
    "duration": 47,
    "start_time": "2022-08-14T05:28:45.059Z"
   },
   {
    "duration": 5,
    "start_time": "2022-08-14T05:28:45.109Z"
   },
   {
    "duration": 9,
    "start_time": "2022-08-14T05:28:45.116Z"
   },
   {
    "duration": 85,
    "start_time": "2022-08-14T05:28:45.127Z"
   },
   {
    "duration": 51,
    "start_time": "2022-08-14T05:28:45.214Z"
   },
   {
    "duration": 24,
    "start_time": "2022-08-14T05:28:45.268Z"
   },
   {
    "duration": 70,
    "start_time": "2022-08-14T05:28:45.296Z"
   },
   {
    "duration": 18,
    "start_time": "2022-08-14T05:28:45.367Z"
   },
   {
    "duration": 13,
    "start_time": "2022-08-14T05:28:45.387Z"
   },
   {
    "duration": 10,
    "start_time": "2022-08-14T05:28:45.402Z"
   },
   {
    "duration": 7,
    "start_time": "2022-08-14T05:28:45.413Z"
   },
   {
    "duration": 37,
    "start_time": "2022-08-14T05:28:45.421Z"
   },
   {
    "duration": 27,
    "start_time": "2022-08-14T05:28:45.460Z"
   },
   {
    "duration": 5,
    "start_time": "2022-08-14T05:28:45.489Z"
   },
   {
    "duration": 10,
    "start_time": "2022-08-14T05:28:45.495Z"
   },
   {
    "duration": 22,
    "start_time": "2022-08-14T05:28:45.508Z"
   },
   {
    "duration": 47,
    "start_time": "2022-08-14T05:28:45.532Z"
   },
   {
    "duration": 24,
    "start_time": "2022-08-14T05:28:45.581Z"
   },
   {
    "duration": 31,
    "start_time": "2022-08-14T05:28:45.607Z"
   },
   {
    "duration": 17,
    "start_time": "2022-08-14T05:28:45.658Z"
   },
   {
    "duration": 51,
    "start_time": "2022-08-14T05:28:45.676Z"
   },
   {
    "duration": 46,
    "start_time": "2022-08-14T05:28:45.729Z"
   },
   {
    "duration": 24,
    "start_time": "2022-08-14T05:28:45.777Z"
   },
   {
    "duration": 6,
    "start_time": "2022-08-14T05:28:45.802Z"
   },
   {
    "duration": 12,
    "start_time": "2022-08-14T05:28:45.810Z"
   },
   {
    "duration": 934,
    "start_time": "2022-08-14T05:28:45.824Z"
   },
   {
    "duration": 0,
    "start_time": "2022-08-14T05:28:46.759Z"
   },
   {
    "duration": 0,
    "start_time": "2022-08-14T05:28:46.761Z"
   },
   {
    "duration": 0,
    "start_time": "2022-08-14T05:28:46.762Z"
   },
   {
    "duration": 0,
    "start_time": "2022-08-14T05:28:46.763Z"
   },
   {
    "duration": 0,
    "start_time": "2022-08-14T05:28:46.764Z"
   },
   {
    "duration": 0,
    "start_time": "2022-08-14T05:28:46.765Z"
   },
   {
    "duration": 0,
    "start_time": "2022-08-14T05:28:46.766Z"
   },
   {
    "duration": 0,
    "start_time": "2022-08-14T05:28:46.767Z"
   },
   {
    "duration": 0,
    "start_time": "2022-08-14T05:28:46.768Z"
   },
   {
    "duration": 0,
    "start_time": "2022-08-14T05:28:46.769Z"
   },
   {
    "duration": 0,
    "start_time": "2022-08-14T05:28:46.770Z"
   },
   {
    "duration": 0,
    "start_time": "2022-08-14T05:28:46.771Z"
   },
   {
    "duration": 0,
    "start_time": "2022-08-14T05:28:46.772Z"
   },
   {
    "duration": 0,
    "start_time": "2022-08-14T05:28:46.773Z"
   },
   {
    "duration": 0,
    "start_time": "2022-08-14T05:28:46.774Z"
   },
   {
    "duration": 0,
    "start_time": "2022-08-14T05:28:46.775Z"
   },
   {
    "duration": 16,
    "start_time": "2022-08-14T05:29:56.297Z"
   },
   {
    "duration": 22821,
    "start_time": "2022-08-14T05:30:31.808Z"
   },
   {
    "duration": 17,
    "start_time": "2022-08-14T05:30:54.631Z"
   },
   {
    "duration": 1068,
    "start_time": "2022-08-14T05:31:01.927Z"
   },
   {
    "duration": 405,
    "start_time": "2022-08-14T05:31:02.997Z"
   },
   {
    "duration": 31,
    "start_time": "2022-08-14T05:31:03.404Z"
   },
   {
    "duration": 24,
    "start_time": "2022-08-14T05:31:03.437Z"
   },
   {
    "duration": 19,
    "start_time": "2022-08-14T05:31:03.463Z"
   },
   {
    "duration": 15,
    "start_time": "2022-08-14T05:31:03.483Z"
   },
   {
    "duration": 16,
    "start_time": "2022-08-14T05:31:03.499Z"
   },
   {
    "duration": 133,
    "start_time": "2022-08-14T05:31:03.517Z"
   },
   {
    "duration": 46,
    "start_time": "2022-08-14T05:31:03.658Z"
   },
   {
    "duration": 5,
    "start_time": "2022-08-14T05:31:03.705Z"
   },
   {
    "duration": 8,
    "start_time": "2022-08-14T05:31:03.712Z"
   },
   {
    "duration": 88,
    "start_time": "2022-08-14T05:31:03.722Z"
   },
   {
    "duration": 45,
    "start_time": "2022-08-14T05:31:03.812Z"
   },
   {
    "duration": 20,
    "start_time": "2022-08-14T05:31:03.860Z"
   },
   {
    "duration": 44,
    "start_time": "2022-08-14T05:31:03.882Z"
   },
   {
    "duration": 41,
    "start_time": "2022-08-14T05:31:03.927Z"
   },
   {
    "duration": 13,
    "start_time": "2022-08-14T05:31:03.969Z"
   },
   {
    "duration": 15,
    "start_time": "2022-08-14T05:31:03.984Z"
   },
   {
    "duration": 8,
    "start_time": "2022-08-14T05:31:04.001Z"
   },
   {
    "duration": 7,
    "start_time": "2022-08-14T05:31:04.010Z"
   },
   {
    "duration": 47,
    "start_time": "2022-08-14T05:31:04.019Z"
   },
   {
    "duration": 5,
    "start_time": "2022-08-14T05:31:04.068Z"
   },
   {
    "duration": 34,
    "start_time": "2022-08-14T05:31:04.074Z"
   },
   {
    "duration": 44,
    "start_time": "2022-08-14T05:31:04.109Z"
   },
   {
    "duration": 25,
    "start_time": "2022-08-14T05:31:04.155Z"
   },
   {
    "duration": 19,
    "start_time": "2022-08-14T05:31:04.181Z"
   },
   {
    "duration": 29,
    "start_time": "2022-08-14T05:31:04.201Z"
   },
   {
    "duration": 34,
    "start_time": "2022-08-14T05:31:04.232Z"
   },
   {
    "duration": 38,
    "start_time": "2022-08-14T05:31:04.268Z"
   },
   {
    "duration": 26,
    "start_time": "2022-08-14T05:31:04.308Z"
   },
   {
    "duration": 31,
    "start_time": "2022-08-14T05:31:04.335Z"
   },
   {
    "duration": 9,
    "start_time": "2022-08-14T05:31:04.367Z"
   },
   {
    "duration": 22575,
    "start_time": "2022-08-14T05:31:04.378Z"
   },
   {
    "duration": 17,
    "start_time": "2022-08-14T05:31:26.955Z"
   },
   {
    "duration": 11,
    "start_time": "2022-08-14T05:31:26.973Z"
   },
   {
    "duration": 10,
    "start_time": "2022-08-14T05:31:26.986Z"
   },
   {
    "duration": 124,
    "start_time": "2022-08-14T05:31:26.997Z"
   },
   {
    "duration": 14,
    "start_time": "2022-08-14T05:31:27.123Z"
   },
   {
    "duration": 22,
    "start_time": "2022-08-14T05:31:27.139Z"
   },
   {
    "duration": 9,
    "start_time": "2022-08-14T05:31:27.163Z"
   },
   {
    "duration": 13,
    "start_time": "2022-08-14T05:31:27.175Z"
   },
   {
    "duration": 286,
    "start_time": "2022-08-14T05:31:27.190Z"
   },
   {
    "duration": 102,
    "start_time": "2022-08-14T05:31:27.478Z"
   },
   {
    "duration": 0,
    "start_time": "2022-08-14T05:31:27.581Z"
   },
   {
    "duration": 0,
    "start_time": "2022-08-14T05:31:27.583Z"
   },
   {
    "duration": 0,
    "start_time": "2022-08-14T05:31:27.585Z"
   },
   {
    "duration": 0,
    "start_time": "2022-08-14T05:31:27.586Z"
   },
   {
    "duration": 0,
    "start_time": "2022-08-14T05:31:27.588Z"
   },
   {
    "duration": 0,
    "start_time": "2022-08-14T05:31:27.589Z"
   },
   {
    "duration": 1130,
    "start_time": "2022-08-14T05:34:46.361Z"
   },
   {
    "duration": 397,
    "start_time": "2022-08-14T05:34:47.493Z"
   },
   {
    "duration": 31,
    "start_time": "2022-08-14T05:34:47.892Z"
   },
   {
    "duration": 23,
    "start_time": "2022-08-14T05:34:47.924Z"
   },
   {
    "duration": 19,
    "start_time": "2022-08-14T05:34:47.949Z"
   },
   {
    "duration": 14,
    "start_time": "2022-08-14T05:34:47.969Z"
   },
   {
    "duration": 17,
    "start_time": "2022-08-14T05:34:47.984Z"
   },
   {
    "duration": 124,
    "start_time": "2022-08-14T05:34:48.003Z"
   },
   {
    "duration": 56,
    "start_time": "2022-08-14T05:34:48.129Z"
   },
   {
    "duration": 5,
    "start_time": "2022-08-14T05:34:48.187Z"
   },
   {
    "duration": 10,
    "start_time": "2022-08-14T05:34:48.194Z"
   },
   {
    "duration": 80,
    "start_time": "2022-08-14T05:34:48.206Z"
   },
   {
    "duration": 32,
    "start_time": "2022-08-14T05:34:48.287Z"
   },
   {
    "duration": 36,
    "start_time": "2022-08-14T05:34:48.321Z"
   },
   {
    "duration": 45,
    "start_time": "2022-08-14T05:34:48.359Z"
   },
   {
    "duration": 20,
    "start_time": "2022-08-14T05:34:48.405Z"
   },
   {
    "duration": 31,
    "start_time": "2022-08-14T05:34:48.426Z"
   },
   {
    "duration": 10,
    "start_time": "2022-08-14T05:34:48.459Z"
   },
   {
    "duration": 6,
    "start_time": "2022-08-14T05:34:48.470Z"
   },
   {
    "duration": 6,
    "start_time": "2022-08-14T05:34:48.477Z"
   },
   {
    "duration": 24,
    "start_time": "2022-08-14T05:34:48.484Z"
   },
   {
    "duration": 6,
    "start_time": "2022-08-14T05:34:48.510Z"
   },
   {
    "duration": 9,
    "start_time": "2022-08-14T05:34:48.517Z"
   },
   {
    "duration": 22,
    "start_time": "2022-08-14T05:34:48.557Z"
   },
   {
    "duration": 25,
    "start_time": "2022-08-14T05:34:48.581Z"
   },
   {
    "duration": 19,
    "start_time": "2022-08-14T05:34:48.608Z"
   },
   {
    "duration": 54,
    "start_time": "2022-08-14T05:34:48.628Z"
   },
   {
    "duration": 12,
    "start_time": "2022-08-14T05:34:48.685Z"
   },
   {
    "duration": 36,
    "start_time": "2022-08-14T05:34:48.698Z"
   },
   {
    "duration": 26,
    "start_time": "2022-08-14T05:34:48.757Z"
   },
   {
    "duration": 11,
    "start_time": "2022-08-14T05:34:48.784Z"
   },
   {
    "duration": 6,
    "start_time": "2022-08-14T05:34:48.797Z"
   },
   {
    "duration": 23744,
    "start_time": "2022-08-14T05:34:48.805Z"
   },
   {
    "duration": 18,
    "start_time": "2022-08-14T05:35:12.551Z"
   },
   {
    "duration": 8,
    "start_time": "2022-08-14T05:35:12.571Z"
   },
   {
    "duration": 13,
    "start_time": "2022-08-14T05:35:12.581Z"
   },
   {
    "duration": 132,
    "start_time": "2022-08-14T05:35:12.595Z"
   },
   {
    "duration": 10,
    "start_time": "2022-08-14T05:35:12.729Z"
   },
   {
    "duration": 24,
    "start_time": "2022-08-14T05:35:12.740Z"
   },
   {
    "duration": 11,
    "start_time": "2022-08-14T05:35:12.766Z"
   },
   {
    "duration": 11,
    "start_time": "2022-08-14T05:35:12.778Z"
   },
   {
    "duration": 270,
    "start_time": "2022-08-14T05:35:12.791Z"
   },
   {
    "duration": 27,
    "start_time": "2022-08-14T05:35:13.062Z"
   },
   {
    "duration": 271,
    "start_time": "2022-08-14T05:35:13.091Z"
   },
   {
    "duration": 226,
    "start_time": "2022-08-14T05:35:13.364Z"
   },
   {
    "duration": 233,
    "start_time": "2022-08-14T05:35:13.592Z"
   },
   {
    "duration": 8,
    "start_time": "2022-08-14T05:35:13.828Z"
   },
   {
    "duration": 26,
    "start_time": "2022-08-14T05:35:13.838Z"
   },
   {
    "duration": 94,
    "start_time": "2022-08-14T05:35:13.866Z"
   },
   {
    "duration": 198,
    "start_time": "2022-08-14T05:38:28.847Z"
   },
   {
    "duration": 178,
    "start_time": "2022-08-14T05:38:48.927Z"
   },
   {
    "duration": 115,
    "start_time": "2022-08-14T05:39:03.486Z"
   },
   {
    "duration": 124,
    "start_time": "2022-08-14T05:46:59.635Z"
   },
   {
    "duration": 53,
    "start_time": "2022-08-14T05:47:13.740Z"
   },
   {
    "duration": 225,
    "start_time": "2022-08-14T05:47:26.332Z"
   },
   {
    "duration": 259,
    "start_time": "2022-08-14T05:47:46.115Z"
   },
   {
    "duration": 991,
    "start_time": "2022-08-14T05:48:33.144Z"
   },
   {
    "duration": 960,
    "start_time": "2022-08-14T05:49:58.578Z"
   },
   {
    "duration": 844,
    "start_time": "2022-08-14T05:50:26.042Z"
   },
   {
    "duration": 912,
    "start_time": "2022-08-14T05:51:06.931Z"
   },
   {
    "duration": 37,
    "start_time": "2022-08-14T05:51:15.737Z"
   },
   {
    "duration": 23,
    "start_time": "2022-08-14T05:51:30.141Z"
   },
   {
    "duration": 24,
    "start_time": "2022-08-14T05:51:58.451Z"
   },
   {
    "duration": 21,
    "start_time": "2022-08-14T05:52:05.831Z"
   },
   {
    "duration": 30,
    "start_time": "2022-08-14T05:53:02.986Z"
   },
   {
    "duration": 25,
    "start_time": "2022-08-14T05:53:28.299Z"
   },
   {
    "duration": 22,
    "start_time": "2022-08-14T05:53:30.490Z"
   },
   {
    "duration": 14,
    "start_time": "2022-08-14T05:53:50.432Z"
   },
   {
    "duration": 14,
    "start_time": "2022-08-14T05:53:55.828Z"
   },
   {
    "duration": 19,
    "start_time": "2022-08-14T05:54:03.928Z"
   },
   {
    "duration": 32,
    "start_time": "2022-08-14T05:54:21.389Z"
   },
   {
    "duration": 31,
    "start_time": "2022-08-14T05:54:44.284Z"
   },
   {
    "duration": 48,
    "start_time": "2022-08-14T05:55:33.398Z"
   },
   {
    "duration": 791,
    "start_time": "2022-08-14T05:55:39.870Z"
   },
   {
    "duration": 767,
    "start_time": "2022-08-14T05:55:59.199Z"
   },
   {
    "duration": 48,
    "start_time": "2022-08-14T05:56:19.635Z"
   },
   {
    "duration": 902,
    "start_time": "2022-08-14T05:56:23.652Z"
   },
   {
    "duration": 10,
    "start_time": "2022-08-14T05:56:40.062Z"
   },
   {
    "duration": 23,
    "start_time": "2022-08-14T05:56:55.991Z"
   },
   {
    "duration": 203,
    "start_time": "2022-08-14T05:57:11.955Z"
   },
   {
    "duration": 198,
    "start_time": "2022-08-14T05:58:08.579Z"
   },
   {
    "duration": 6,
    "start_time": "2022-08-14T05:58:22.389Z"
   },
   {
    "duration": 5,
    "start_time": "2022-08-14T05:58:30.963Z"
   },
   {
    "duration": 203,
    "start_time": "2022-08-14T05:58:43.210Z"
   },
   {
    "duration": 170,
    "start_time": "2022-08-14T05:59:10.028Z"
   },
   {
    "duration": 169,
    "start_time": "2022-08-14T05:59:50.239Z"
   },
   {
    "duration": 6,
    "start_time": "2022-08-14T06:00:12.127Z"
   },
   {
    "duration": 9,
    "start_time": "2022-08-14T06:01:03.804Z"
   },
   {
    "duration": 51,
    "start_time": "2022-08-14T06:02:41.435Z"
   },
   {
    "duration": 20,
    "start_time": "2022-08-14T06:02:48.636Z"
   },
   {
    "duration": 97,
    "start_time": "2022-08-14T06:02:58.913Z"
   },
   {
    "duration": 89,
    "start_time": "2022-08-14T06:03:29.143Z"
   },
   {
    "duration": 76,
    "start_time": "2022-08-14T06:03:39.909Z"
   },
   {
    "duration": 70,
    "start_time": "2022-08-14T06:03:57.642Z"
   },
   {
    "duration": 61,
    "start_time": "2022-08-14T06:06:02.851Z"
   },
   {
    "duration": 5,
    "start_time": "2022-08-14T06:06:49.764Z"
   },
   {
    "duration": 11,
    "start_time": "2022-08-14T06:07:21.787Z"
   },
   {
    "duration": 13,
    "start_time": "2022-08-14T06:07:51.627Z"
   },
   {
    "duration": 5,
    "start_time": "2022-08-14T06:07:57.950Z"
   },
   {
    "duration": 5,
    "start_time": "2022-08-14T06:08:04.054Z"
   },
   {
    "duration": 6,
    "start_time": "2022-08-14T06:08:14.889Z"
   },
   {
    "duration": 5,
    "start_time": "2022-08-14T06:08:23.591Z"
   },
   {
    "duration": 62,
    "start_time": "2022-08-14T06:08:56.771Z"
   },
   {
    "duration": 50,
    "start_time": "2022-08-14T06:09:05.289Z"
   },
   {
    "duration": 6,
    "start_time": "2022-08-14T06:09:21.929Z"
   },
   {
    "duration": 50,
    "start_time": "2022-08-14T06:09:41.263Z"
   },
   {
    "duration": 6,
    "start_time": "2022-08-14T06:10:29.334Z"
   },
   {
    "duration": 70,
    "start_time": "2022-08-14T06:10:44.031Z"
   },
   {
    "duration": 6,
    "start_time": "2022-08-14T06:11:04.328Z"
   },
   {
    "duration": 7,
    "start_time": "2022-08-14T06:11:24.912Z"
   },
   {
    "duration": 75,
    "start_time": "2022-08-14T06:11:48.589Z"
   },
   {
    "duration": 164,
    "start_time": "2022-08-14T06:12:09.132Z"
   },
   {
    "duration": 4,
    "start_time": "2022-08-14T06:13:17.703Z"
   },
   {
    "duration": 6,
    "start_time": "2022-08-14T06:14:29.814Z"
   },
   {
    "duration": 42,
    "start_time": "2022-08-14T06:14:37.749Z"
   },
   {
    "duration": 131,
    "start_time": "2022-08-14T06:15:13.348Z"
   },
   {
    "duration": 145,
    "start_time": "2022-08-14T06:15:48.158Z"
   },
   {
    "duration": 139,
    "start_time": "2022-08-14T06:15:54.939Z"
   },
   {
    "duration": 135,
    "start_time": "2022-08-14T06:16:44.843Z"
   },
   {
    "duration": 70,
    "start_time": "2022-08-14T06:17:28.676Z"
   },
   {
    "duration": 224,
    "start_time": "2022-08-14T06:17:49.306Z"
   },
   {
    "duration": 250,
    "start_time": "2022-08-14T06:18:26.951Z"
   },
   {
    "duration": 158,
    "start_time": "2022-08-14T06:19:14.547Z"
   },
   {
    "duration": 30,
    "start_time": "2022-08-14T06:19:49.245Z"
   },
   {
    "duration": 32,
    "start_time": "2022-08-14T06:20:05.877Z"
   },
   {
    "duration": 155,
    "start_time": "2022-08-14T06:21:36.256Z"
   },
   {
    "duration": 4,
    "start_time": "2022-08-14T06:22:04.845Z"
   },
   {
    "duration": 138,
    "start_time": "2022-08-14T06:26:26.090Z"
   },
   {
    "duration": 163,
    "start_time": "2022-08-14T06:26:59.251Z"
   },
   {
    "duration": 154,
    "start_time": "2022-08-14T06:27:13.080Z"
   },
   {
    "duration": 175,
    "start_time": "2022-08-14T06:27:55.035Z"
   },
   {
    "duration": 168,
    "start_time": "2022-08-14T06:28:35.267Z"
   },
   {
    "duration": 155,
    "start_time": "2022-08-14T06:30:11.268Z"
   },
   {
    "duration": 17,
    "start_time": "2022-08-14T06:32:02.128Z"
   },
   {
    "duration": 163,
    "start_time": "2022-08-14T06:35:22.352Z"
   },
   {
    "duration": 190,
    "start_time": "2022-08-14T06:37:44.668Z"
   },
   {
    "duration": 304,
    "start_time": "2022-08-14T06:38:25.791Z"
   },
   {
    "duration": 124,
    "start_time": "2022-08-14T06:38:45.873Z"
   },
   {
    "duration": 162,
    "start_time": "2022-08-14T06:39:06.328Z"
   },
   {
    "duration": 175,
    "start_time": "2022-08-14T06:40:26.753Z"
   },
   {
    "duration": 183,
    "start_time": "2022-08-14T06:42:12.657Z"
   },
   {
    "duration": 179,
    "start_time": "2022-08-14T06:43:02.782Z"
   },
   {
    "duration": 159,
    "start_time": "2022-08-14T06:43:28.528Z"
   },
   {
    "duration": 161,
    "start_time": "2022-08-14T06:43:52.194Z"
   },
   {
    "duration": 192,
    "start_time": "2022-08-14T06:44:02.955Z"
   },
   {
    "duration": 170,
    "start_time": "2022-08-14T06:44:08.229Z"
   },
   {
    "duration": 180,
    "start_time": "2022-08-14T06:44:13.927Z"
   },
   {
    "duration": 275,
    "start_time": "2022-08-14T06:44:31.654Z"
   },
   {
    "duration": 220,
    "start_time": "2022-08-14T06:46:01.571Z"
   },
   {
    "duration": 843,
    "start_time": "2022-08-14T06:46:13.595Z"
   },
   {
    "duration": 853,
    "start_time": "2022-08-14T06:46:20.963Z"
   },
   {
    "duration": 187,
    "start_time": "2022-08-14T06:46:25.788Z"
   },
   {
    "duration": 187,
    "start_time": "2022-08-14T06:47:33.807Z"
   },
   {
    "duration": 224,
    "start_time": "2022-08-14T06:47:55.075Z"
   },
   {
    "duration": 197,
    "start_time": "2022-08-14T06:49:38.837Z"
   },
   {
    "duration": 191,
    "start_time": "2022-08-14T06:49:49.601Z"
   },
   {
    "duration": 208,
    "start_time": "2022-08-14T06:50:00.962Z"
   },
   {
    "duration": 182,
    "start_time": "2022-08-14T06:50:44.327Z"
   },
   {
    "duration": 135,
    "start_time": "2022-08-14T07:08:03.758Z"
   },
   {
    "duration": 126,
    "start_time": "2022-08-14T07:08:27.602Z"
   },
   {
    "duration": 315,
    "start_time": "2022-08-14T07:08:42.071Z"
   },
   {
    "duration": 118,
    "start_time": "2022-08-14T07:09:21.748Z"
   },
   {
    "duration": 131,
    "start_time": "2022-08-14T07:09:35.709Z"
   },
   {
    "duration": 132,
    "start_time": "2022-08-14T07:10:18.268Z"
   },
   {
    "duration": 144,
    "start_time": "2022-08-14T07:10:34.921Z"
   },
   {
    "duration": 128,
    "start_time": "2022-08-14T07:11:16.221Z"
   },
   {
    "duration": 102,
    "start_time": "2022-08-14T07:11:43.532Z"
   },
   {
    "duration": 143,
    "start_time": "2022-08-14T07:11:54.531Z"
   },
   {
    "duration": 130,
    "start_time": "2022-08-14T07:12:01.986Z"
   },
   {
    "duration": 14,
    "start_time": "2022-08-14T07:12:19.650Z"
   },
   {
    "duration": 11,
    "start_time": "2022-08-14T07:12:32.371Z"
   },
   {
    "duration": 117,
    "start_time": "2022-08-14T07:12:44.337Z"
   },
   {
    "duration": 139,
    "start_time": "2022-08-14T07:13:05.700Z"
   },
   {
    "duration": 131,
    "start_time": "2022-08-14T07:13:17.203Z"
   },
   {
    "duration": 123,
    "start_time": "2022-08-14T07:13:47.587Z"
   },
   {
    "duration": 9,
    "start_time": "2022-08-14T07:14:02.275Z"
   },
   {
    "duration": 8,
    "start_time": "2022-08-14T07:14:11.639Z"
   },
   {
    "duration": 198,
    "start_time": "2022-08-14T07:16:23.698Z"
   },
   {
    "duration": 116,
    "start_time": "2022-08-14T07:16:29.984Z"
   },
   {
    "duration": 121,
    "start_time": "2022-08-14T07:16:36.871Z"
   },
   {
    "duration": 121,
    "start_time": "2022-08-14T07:18:09.288Z"
   },
   {
    "duration": 126,
    "start_time": "2022-08-14T07:18:25.259Z"
   },
   {
    "duration": 132,
    "start_time": "2022-08-14T07:18:48.968Z"
   },
   {
    "duration": 131,
    "start_time": "2022-08-14T07:19:10.719Z"
   },
   {
    "duration": 130,
    "start_time": "2022-08-14T07:19:27.221Z"
   },
   {
    "duration": 160,
    "start_time": "2022-08-14T07:19:51.118Z"
   },
   {
    "duration": 173,
    "start_time": "2022-08-14T07:20:13.861Z"
   },
   {
    "duration": 179,
    "start_time": "2022-08-14T07:20:19.776Z"
   },
   {
    "duration": 13,
    "start_time": "2022-08-14T07:23:13.741Z"
   },
   {
    "duration": 181,
    "start_time": "2022-08-14T07:23:39.181Z"
   },
   {
    "duration": 6,
    "start_time": "2022-08-14T07:23:45.173Z"
   },
   {
    "duration": 4,
    "start_time": "2022-08-14T07:23:58.769Z"
   },
   {
    "duration": 177,
    "start_time": "2022-08-14T07:24:16.619Z"
   },
   {
    "duration": 182,
    "start_time": "2022-08-14T07:24:41.237Z"
   },
   {
    "duration": 9,
    "start_time": "2022-08-14T07:26:38.069Z"
   },
   {
    "duration": 5,
    "start_time": "2022-08-14T07:26:47.101Z"
   },
   {
    "duration": 4,
    "start_time": "2022-08-14T07:26:54.318Z"
   },
   {
    "duration": 177,
    "start_time": "2022-08-14T07:27:51.194Z"
   },
   {
    "duration": 177,
    "start_time": "2022-08-14T07:28:13.185Z"
   },
   {
    "duration": 284,
    "start_time": "2022-08-14T07:28:37.003Z"
   },
   {
    "duration": 176,
    "start_time": "2022-08-14T07:35:20.374Z"
   },
   {
    "duration": 36,
    "start_time": "2022-08-14T07:37:54.416Z"
   },
   {
    "duration": 153,
    "start_time": "2022-08-14T07:38:29.984Z"
   },
   {
    "duration": 175,
    "start_time": "2022-08-14T07:39:04.723Z"
   },
   {
    "duration": 86,
    "start_time": "2022-08-14T07:42:10.096Z"
   },
   {
    "duration": 1047,
    "start_time": "2022-08-14T07:52:32.994Z"
   },
   {
    "duration": 504,
    "start_time": "2022-08-14T07:52:34.043Z"
   },
   {
    "duration": 32,
    "start_time": "2022-08-14T07:52:34.549Z"
   },
   {
    "duration": 24,
    "start_time": "2022-08-14T07:52:34.583Z"
   },
   {
    "duration": 25,
    "start_time": "2022-08-14T07:52:34.609Z"
   },
   {
    "duration": 16,
    "start_time": "2022-08-14T07:52:34.657Z"
   },
   {
    "duration": 18,
    "start_time": "2022-08-14T07:52:34.675Z"
   },
   {
    "duration": 136,
    "start_time": "2022-08-14T07:52:34.694Z"
   },
   {
    "duration": 58,
    "start_time": "2022-08-14T07:52:34.832Z"
   },
   {
    "duration": 5,
    "start_time": "2022-08-14T07:52:34.892Z"
   },
   {
    "duration": 10,
    "start_time": "2022-08-14T07:52:34.898Z"
   },
   {
    "duration": 91,
    "start_time": "2022-08-14T07:52:34.910Z"
   },
   {
    "duration": 35,
    "start_time": "2022-08-14T07:52:35.003Z"
   },
   {
    "duration": 36,
    "start_time": "2022-08-14T07:52:35.041Z"
   },
   {
    "duration": 52,
    "start_time": "2022-08-14T07:52:35.078Z"
   },
   {
    "duration": 46,
    "start_time": "2022-08-14T07:52:35.132Z"
   },
   {
    "duration": 19,
    "start_time": "2022-08-14T07:52:35.180Z"
   },
   {
    "duration": 19,
    "start_time": "2022-08-14T07:52:35.201Z"
   },
   {
    "duration": 36,
    "start_time": "2022-08-14T07:52:35.222Z"
   },
   {
    "duration": 6,
    "start_time": "2022-08-14T07:52:35.260Z"
   },
   {
    "duration": 26,
    "start_time": "2022-08-14T07:52:35.268Z"
   },
   {
    "duration": 5,
    "start_time": "2022-08-14T07:52:35.296Z"
   },
   {
    "duration": 7,
    "start_time": "2022-08-14T07:52:35.302Z"
   },
   {
    "duration": 50,
    "start_time": "2022-08-14T07:52:35.310Z"
   },
   {
    "duration": 28,
    "start_time": "2022-08-14T07:52:35.362Z"
   },
   {
    "duration": 21,
    "start_time": "2022-08-14T07:52:35.391Z"
   },
   {
    "duration": 53,
    "start_time": "2022-08-14T07:52:35.414Z"
   },
   {
    "duration": 13,
    "start_time": "2022-08-14T07:52:35.469Z"
   },
   {
    "duration": 43,
    "start_time": "2022-08-14T07:52:35.483Z"
   },
   {
    "duration": 48,
    "start_time": "2022-08-14T07:52:35.528Z"
   },
   {
    "duration": 11,
    "start_time": "2022-08-14T07:52:35.578Z"
   },
   {
    "duration": 9,
    "start_time": "2022-08-14T07:52:35.591Z"
   },
   {
    "duration": 24163,
    "start_time": "2022-08-14T07:52:35.602Z"
   },
   {
    "duration": 18,
    "start_time": "2022-08-14T07:52:59.766Z"
   },
   {
    "duration": 14,
    "start_time": "2022-08-14T07:52:59.786Z"
   },
   {
    "duration": 25,
    "start_time": "2022-08-14T07:52:59.802Z"
   },
   {
    "duration": 110,
    "start_time": "2022-08-14T07:52:59.829Z"
   },
   {
    "duration": 18,
    "start_time": "2022-08-14T07:52:59.942Z"
   },
   {
    "duration": 26,
    "start_time": "2022-08-14T07:52:59.962Z"
   },
   {
    "duration": 25,
    "start_time": "2022-08-14T07:52:59.990Z"
   },
   {
    "duration": 15,
    "start_time": "2022-08-14T07:53:00.020Z"
   },
   {
    "duration": 262,
    "start_time": "2022-08-14T07:53:00.037Z"
   },
   {
    "duration": 225,
    "start_time": "2022-08-14T07:53:00.300Z"
   },
   {
    "duration": 206,
    "start_time": "2022-08-14T07:53:00.527Z"
   },
   {
    "duration": 174,
    "start_time": "2022-08-14T07:53:00.735Z"
   },
   {
    "duration": 257,
    "start_time": "2022-08-14T07:53:00.911Z"
   },
   {
    "duration": 245,
    "start_time": "2022-08-14T07:53:01.170Z"
   },
   {
    "duration": 258,
    "start_time": "2022-08-14T07:53:01.417Z"
   },
   {
    "duration": 8,
    "start_time": "2022-08-14T07:53:01.677Z"
   },
   {
    "duration": 207,
    "start_time": "2022-08-14T07:53:01.686Z"
   },
   {
    "duration": 9,
    "start_time": "2022-08-14T07:53:01.895Z"
   },
   {
    "duration": 189,
    "start_time": "2022-08-14T07:53:01.905Z"
   },
   {
    "duration": 1113,
    "start_time": "2022-08-14T07:58:36.170Z"
   },
   {
    "duration": 419,
    "start_time": "2022-08-14T07:58:37.285Z"
   },
   {
    "duration": 35,
    "start_time": "2022-08-14T07:58:37.707Z"
   },
   {
    "duration": 25,
    "start_time": "2022-08-14T07:58:37.744Z"
   },
   {
    "duration": 20,
    "start_time": "2022-08-14T07:58:37.771Z"
   },
   {
    "duration": 16,
    "start_time": "2022-08-14T07:58:37.792Z"
   },
   {
    "duration": 18,
    "start_time": "2022-08-14T07:58:37.810Z"
   },
   {
    "duration": 147,
    "start_time": "2022-08-14T07:58:37.830Z"
   },
   {
    "duration": 49,
    "start_time": "2022-08-14T07:58:37.978Z"
   },
   {
    "duration": 6,
    "start_time": "2022-08-14T07:58:38.029Z"
   },
   {
    "duration": 26,
    "start_time": "2022-08-14T07:58:38.037Z"
   },
   {
    "duration": 69,
    "start_time": "2022-08-14T07:58:38.065Z"
   },
   {
    "duration": 52,
    "start_time": "2022-08-14T07:58:38.136Z"
   },
   {
    "duration": 29,
    "start_time": "2022-08-14T07:58:38.192Z"
   },
   {
    "duration": 76,
    "start_time": "2022-08-14T07:58:38.223Z"
   },
   {
    "duration": 22,
    "start_time": "2022-08-14T07:58:38.301Z"
   },
   {
    "duration": 37,
    "start_time": "2022-08-14T07:58:38.325Z"
   },
   {
    "duration": 13,
    "start_time": "2022-08-14T07:58:38.364Z"
   },
   {
    "duration": 8,
    "start_time": "2022-08-14T07:58:38.378Z"
   },
   {
    "duration": 9,
    "start_time": "2022-08-14T07:58:38.388Z"
   },
   {
    "duration": 23,
    "start_time": "2022-08-14T07:58:38.399Z"
   },
   {
    "duration": 6,
    "start_time": "2022-08-14T07:58:38.457Z"
   },
   {
    "duration": 5,
    "start_time": "2022-08-14T07:58:38.465Z"
   },
   {
    "duration": 26,
    "start_time": "2022-08-14T07:58:38.472Z"
   },
   {
    "duration": 27,
    "start_time": "2022-08-14T07:58:38.500Z"
   },
   {
    "duration": 46,
    "start_time": "2022-08-14T07:58:38.529Z"
   },
   {
    "duration": 31,
    "start_time": "2022-08-14T07:58:38.577Z"
   },
   {
    "duration": 12,
    "start_time": "2022-08-14T07:58:38.609Z"
   },
   {
    "duration": 62,
    "start_time": "2022-08-14T07:58:38.622Z"
   },
   {
    "duration": 27,
    "start_time": "2022-08-14T07:58:38.686Z"
   },
   {
    "duration": 45,
    "start_time": "2022-08-14T07:58:38.714Z"
   },
   {
    "duration": 7,
    "start_time": "2022-08-14T07:58:38.760Z"
   },
   {
    "duration": 24344,
    "start_time": "2022-08-14T07:58:38.769Z"
   },
   {
    "duration": 17,
    "start_time": "2022-08-14T07:59:03.115Z"
   },
   {
    "duration": 7,
    "start_time": "2022-08-14T07:59:03.134Z"
   },
   {
    "duration": 12,
    "start_time": "2022-08-14T07:59:03.157Z"
   },
   {
    "duration": 132,
    "start_time": "2022-08-14T07:59:03.170Z"
   },
   {
    "duration": 9,
    "start_time": "2022-08-14T07:59:03.304Z"
   },
   {
    "duration": 27,
    "start_time": "2022-08-14T07:59:03.314Z"
   },
   {
    "duration": 16,
    "start_time": "2022-08-14T07:59:03.343Z"
   },
   {
    "duration": 11,
    "start_time": "2022-08-14T07:59:03.363Z"
   },
   {
    "duration": 248,
    "start_time": "2022-08-14T07:59:03.376Z"
   },
   {
    "duration": 208,
    "start_time": "2022-08-14T07:59:03.625Z"
   },
   {
    "duration": 198,
    "start_time": "2022-08-14T07:59:03.835Z"
   },
   {
    "duration": 179,
    "start_time": "2022-08-14T07:59:04.034Z"
   },
   {
    "duration": 262,
    "start_time": "2022-08-14T07:59:04.214Z"
   },
   {
    "duration": 234,
    "start_time": "2022-08-14T07:59:04.478Z"
   },
   {
    "duration": 244,
    "start_time": "2022-08-14T07:59:04.713Z"
   },
   {
    "duration": 7,
    "start_time": "2022-08-14T07:59:04.959Z"
   },
   {
    "duration": 192,
    "start_time": "2022-08-14T07:59:04.967Z"
   },
   {
    "duration": 13,
    "start_time": "2022-08-14T07:59:05.161Z"
   },
   {
    "duration": 215,
    "start_time": "2022-08-14T07:59:05.176Z"
   },
   {
    "duration": 30,
    "start_time": "2022-08-14T08:01:27.224Z"
   },
   {
    "duration": 26,
    "start_time": "2022-08-14T08:01:48.023Z"
   },
   {
    "duration": 27,
    "start_time": "2022-08-14T08:02:05.306Z"
   },
   {
    "duration": 28,
    "start_time": "2022-08-14T08:02:32.370Z"
   },
   {
    "duration": 127,
    "start_time": "2022-08-14T08:02:40.585Z"
   },
   {
    "duration": 28,
    "start_time": "2022-08-14T08:02:52.719Z"
   },
   {
    "duration": 28,
    "start_time": "2022-08-14T08:03:24.402Z"
   },
   {
    "duration": 46,
    "start_time": "2022-08-14T08:03:38.216Z"
   },
   {
    "duration": 29,
    "start_time": "2022-08-14T08:03:42.361Z"
   },
   {
    "duration": 35,
    "start_time": "2022-08-14T08:04:30.253Z"
   },
   {
    "duration": 29,
    "start_time": "2022-08-14T08:05:07.797Z"
   },
   {
    "duration": 66,
    "start_time": "2022-08-14T08:06:22.981Z"
   },
   {
    "duration": 104,
    "start_time": "2022-08-14T08:06:31.224Z"
   },
   {
    "duration": 1079,
    "start_time": "2022-08-14T08:09:04.002Z"
   },
   {
    "duration": 425,
    "start_time": "2022-08-14T08:09:05.083Z"
   },
   {
    "duration": 32,
    "start_time": "2022-08-14T08:09:05.510Z"
   },
   {
    "duration": 25,
    "start_time": "2022-08-14T08:09:05.544Z"
   },
   {
    "duration": 20,
    "start_time": "2022-08-14T08:09:05.571Z"
   },
   {
    "duration": 16,
    "start_time": "2022-08-14T08:09:05.593Z"
   },
   {
    "duration": 20,
    "start_time": "2022-08-14T08:09:05.611Z"
   },
   {
    "duration": 156,
    "start_time": "2022-08-14T08:09:05.632Z"
   },
   {
    "duration": 45,
    "start_time": "2022-08-14T08:09:05.790Z"
   },
   {
    "duration": 22,
    "start_time": "2022-08-14T08:09:05.838Z"
   },
   {
    "duration": 33,
    "start_time": "2022-08-14T08:09:05.862Z"
   },
   {
    "duration": 84,
    "start_time": "2022-08-14T08:09:05.896Z"
   },
   {
    "duration": 42,
    "start_time": "2022-08-14T08:09:05.982Z"
   },
   {
    "duration": 31,
    "start_time": "2022-08-14T08:09:06.026Z"
   },
   {
    "duration": 49,
    "start_time": "2022-08-14T08:09:06.059Z"
   },
   {
    "duration": 20,
    "start_time": "2022-08-14T08:09:06.110Z"
   },
   {
    "duration": 37,
    "start_time": "2022-08-14T08:09:06.131Z"
   },
   {
    "duration": 16,
    "start_time": "2022-08-14T08:09:06.170Z"
   },
   {
    "duration": 16,
    "start_time": "2022-08-14T08:09:06.188Z"
   },
   {
    "duration": 30,
    "start_time": "2022-08-14T08:09:06.206Z"
   },
   {
    "duration": 41,
    "start_time": "2022-08-14T08:09:06.238Z"
   },
   {
    "duration": 28,
    "start_time": "2022-08-14T08:09:06.281Z"
   },
   {
    "duration": 30,
    "start_time": "2022-08-14T08:09:06.310Z"
   },
   {
    "duration": 45,
    "start_time": "2022-08-14T08:09:06.341Z"
   },
   {
    "duration": 29,
    "start_time": "2022-08-14T08:09:06.387Z"
   },
   {
    "duration": 21,
    "start_time": "2022-08-14T08:09:06.418Z"
   },
   {
    "duration": 35,
    "start_time": "2022-08-14T08:09:06.441Z"
   },
   {
    "duration": 13,
    "start_time": "2022-08-14T08:09:06.480Z"
   },
   {
    "duration": 59,
    "start_time": "2022-08-14T08:09:06.495Z"
   },
   {
    "duration": 35,
    "start_time": "2022-08-14T08:09:06.555Z"
   },
   {
    "duration": 11,
    "start_time": "2022-08-14T08:09:06.591Z"
   },
   {
    "duration": 13,
    "start_time": "2022-08-14T08:09:06.604Z"
   },
   {
    "duration": 23938,
    "start_time": "2022-08-14T08:09:06.619Z"
   },
   {
    "duration": 17,
    "start_time": "2022-08-14T08:09:30.559Z"
   },
   {
    "duration": 17,
    "start_time": "2022-08-14T08:09:30.578Z"
   },
   {
    "duration": 20,
    "start_time": "2022-08-14T08:09:30.596Z"
   },
   {
    "duration": 126,
    "start_time": "2022-08-14T08:09:30.617Z"
   },
   {
    "duration": 14,
    "start_time": "2022-08-14T08:09:30.744Z"
   },
   {
    "duration": 13,
    "start_time": "2022-08-14T08:09:30.759Z"
   },
   {
    "duration": 18,
    "start_time": "2022-08-14T08:09:30.773Z"
   },
   {
    "duration": 27,
    "start_time": "2022-08-14T08:09:30.793Z"
   },
   {
    "duration": 257,
    "start_time": "2022-08-14T08:09:30.822Z"
   },
   {
    "duration": 225,
    "start_time": "2022-08-14T08:09:31.081Z"
   },
   {
    "duration": 210,
    "start_time": "2022-08-14T08:09:31.308Z"
   },
   {
    "duration": 181,
    "start_time": "2022-08-14T08:09:31.520Z"
   },
   {
    "duration": 249,
    "start_time": "2022-08-14T08:09:31.703Z"
   },
   {
    "duration": 226,
    "start_time": "2022-08-14T08:09:31.958Z"
   },
   {
    "duration": 237,
    "start_time": "2022-08-14T08:09:32.185Z"
   },
   {
    "duration": 8,
    "start_time": "2022-08-14T08:09:32.423Z"
   },
   {
    "duration": 204,
    "start_time": "2022-08-14T08:09:32.433Z"
   },
   {
    "duration": 8,
    "start_time": "2022-08-14T08:09:32.639Z"
   },
   {
    "duration": 185,
    "start_time": "2022-08-14T08:09:32.648Z"
   },
   {
    "duration": 1028,
    "start_time": "2022-08-14T22:58:30.021Z"
   },
   {
    "duration": 993,
    "start_time": "2022-08-14T22:58:31.051Z"
   },
   {
    "duration": 32,
    "start_time": "2022-08-14T22:58:32.045Z"
   },
   {
    "duration": 24,
    "start_time": "2022-08-14T22:58:32.078Z"
   },
   {
    "duration": 20,
    "start_time": "2022-08-14T22:58:32.104Z"
   },
   {
    "duration": 18,
    "start_time": "2022-08-14T22:58:32.126Z"
   },
   {
    "duration": 19,
    "start_time": "2022-08-14T22:58:32.146Z"
   },
   {
    "duration": 117,
    "start_time": "2022-08-14T22:58:32.167Z"
   },
   {
    "duration": 58,
    "start_time": "2022-08-14T22:58:32.286Z"
   },
   {
    "duration": 4,
    "start_time": "2022-08-14T22:58:32.346Z"
   },
   {
    "duration": 32,
    "start_time": "2022-08-14T22:58:32.351Z"
   },
   {
    "duration": 83,
    "start_time": "2022-08-14T22:58:32.385Z"
   },
   {
    "duration": 44,
    "start_time": "2022-08-14T22:58:32.470Z"
   },
   {
    "duration": 34,
    "start_time": "2022-08-14T22:58:32.518Z"
   },
   {
    "duration": 49,
    "start_time": "2022-08-14T22:58:32.554Z"
   },
   {
    "duration": 19,
    "start_time": "2022-08-14T22:58:32.605Z"
   },
   {
    "duration": 14,
    "start_time": "2022-08-14T22:58:32.625Z"
   },
   {
    "duration": 34,
    "start_time": "2022-08-14T22:58:32.641Z"
   },
   {
    "duration": 15,
    "start_time": "2022-08-14T22:58:32.677Z"
   },
   {
    "duration": 23,
    "start_time": "2022-08-14T22:58:32.693Z"
   },
   {
    "duration": 31,
    "start_time": "2022-08-14T22:58:32.718Z"
   },
   {
    "duration": 16,
    "start_time": "2022-08-14T22:58:32.751Z"
   },
   {
    "duration": 16,
    "start_time": "2022-08-14T22:58:32.768Z"
   },
   {
    "duration": 22,
    "start_time": "2022-08-14T22:58:32.785Z"
   },
   {
    "duration": 24,
    "start_time": "2022-08-14T22:58:32.809Z"
   },
   {
    "duration": 18,
    "start_time": "2022-08-14T22:58:32.835Z"
   },
   {
    "duration": 31,
    "start_time": "2022-08-14T22:58:32.854Z"
   },
   {
    "duration": 31,
    "start_time": "2022-08-14T22:58:32.886Z"
   },
   {
    "duration": 34,
    "start_time": "2022-08-14T22:58:32.918Z"
   },
   {
    "duration": 26,
    "start_time": "2022-08-14T22:58:32.953Z"
   },
   {
    "duration": 33,
    "start_time": "2022-08-14T22:58:32.980Z"
   },
   {
    "duration": 8,
    "start_time": "2022-08-14T22:58:33.014Z"
   },
   {
    "duration": 22755,
    "start_time": "2022-08-14T22:58:33.024Z"
   },
   {
    "duration": 18,
    "start_time": "2022-08-14T22:58:55.781Z"
   },
   {
    "duration": 12,
    "start_time": "2022-08-14T22:58:55.801Z"
   },
   {
    "duration": 10,
    "start_time": "2022-08-14T22:58:55.815Z"
   },
   {
    "duration": 150,
    "start_time": "2022-08-14T22:58:55.827Z"
   },
   {
    "duration": 12,
    "start_time": "2022-08-14T22:58:55.980Z"
   },
   {
    "duration": 21,
    "start_time": "2022-08-14T22:58:55.994Z"
   },
   {
    "duration": 17,
    "start_time": "2022-08-14T22:58:56.016Z"
   },
   {
    "duration": 9,
    "start_time": "2022-08-14T22:58:56.036Z"
   },
   {
    "duration": 252,
    "start_time": "2022-08-14T22:58:56.047Z"
   },
   {
    "duration": 194,
    "start_time": "2022-08-14T22:58:56.301Z"
   },
   {
    "duration": 182,
    "start_time": "2022-08-14T22:58:56.497Z"
   },
   {
    "duration": 173,
    "start_time": "2022-08-14T22:58:56.681Z"
   },
   {
    "duration": 235,
    "start_time": "2022-08-14T22:58:56.855Z"
   },
   {
    "duration": 257,
    "start_time": "2022-08-14T22:58:57.091Z"
   },
   {
    "duration": 229,
    "start_time": "2022-08-14T22:58:57.349Z"
   },
   {
    "duration": 9,
    "start_time": "2022-08-14T22:58:57.580Z"
   },
   {
    "duration": 204,
    "start_time": "2022-08-14T22:58:57.591Z"
   },
   {
    "duration": 17,
    "start_time": "2022-08-14T22:58:57.797Z"
   },
   {
    "duration": 183,
    "start_time": "2022-08-14T22:58:57.816Z"
   },
   {
    "duration": 109,
    "start_time": "2022-08-14T23:30:47.082Z"
   },
   {
    "duration": 23,
    "start_time": "2022-08-14T23:31:18.243Z"
   },
   {
    "duration": 78,
    "start_time": "2022-08-14T23:43:06.110Z"
   },
   {
    "duration": 74,
    "start_time": "2022-08-14T23:43:13.036Z"
   },
   {
    "duration": 40,
    "start_time": "2022-08-14T23:43:22.112Z"
   },
   {
    "duration": 34,
    "start_time": "2022-08-14T23:43:34.929Z"
   },
   {
    "duration": 37,
    "start_time": "2022-08-14T23:51:36.654Z"
   },
   {
    "duration": 37,
    "start_time": "2022-08-14T23:52:21.339Z"
   },
   {
    "duration": 77,
    "start_time": "2022-08-14T23:54:48.653Z"
   },
   {
    "duration": 28,
    "start_time": "2022-08-14T23:54:54.944Z"
   },
   {
    "duration": 20,
    "start_time": "2022-08-14T23:57:34.586Z"
   },
   {
    "duration": 12,
    "start_time": "2022-08-15T00:00:21.480Z"
   },
   {
    "duration": 23,
    "start_time": "2022-08-15T00:03:06.030Z"
   },
   {
    "duration": 25,
    "start_time": "2022-08-15T00:03:34.111Z"
   },
   {
    "duration": 30,
    "start_time": "2022-08-15T00:04:05.407Z"
   },
   {
    "duration": 45,
    "start_time": "2022-08-15T08:42:21.612Z"
   },
   {
    "duration": 1109,
    "start_time": "2022-08-15T08:42:31.919Z"
   },
   {
    "duration": 915,
    "start_time": "2022-08-15T08:42:33.030Z"
   },
   {
    "duration": 34,
    "start_time": "2022-08-15T08:42:33.946Z"
   },
   {
    "duration": 21,
    "start_time": "2022-08-15T08:42:33.982Z"
   },
   {
    "duration": 18,
    "start_time": "2022-08-15T08:42:34.005Z"
   },
   {
    "duration": 12,
    "start_time": "2022-08-15T08:42:34.024Z"
   },
   {
    "duration": 15,
    "start_time": "2022-08-15T08:42:34.037Z"
   },
   {
    "duration": 134,
    "start_time": "2022-08-15T08:42:34.054Z"
   },
   {
    "duration": 56,
    "start_time": "2022-08-15T08:42:34.190Z"
   },
   {
    "duration": 5,
    "start_time": "2022-08-15T08:42:34.249Z"
   },
   {
    "duration": 12,
    "start_time": "2022-08-15T08:42:34.255Z"
   },
   {
    "duration": 73,
    "start_time": "2022-08-15T08:42:34.269Z"
   },
   {
    "duration": 28,
    "start_time": "2022-08-15T08:42:34.344Z"
   },
   {
    "duration": 39,
    "start_time": "2022-08-15T08:42:34.373Z"
   },
   {
    "duration": 50,
    "start_time": "2022-08-15T08:42:34.414Z"
   },
   {
    "duration": 36,
    "start_time": "2022-08-15T08:42:34.466Z"
   },
   {
    "duration": 15,
    "start_time": "2022-08-15T08:42:34.504Z"
   },
   {
    "duration": 11,
    "start_time": "2022-08-15T08:42:34.521Z"
   },
   {
    "duration": 7,
    "start_time": "2022-08-15T08:42:34.534Z"
   },
   {
    "duration": 10,
    "start_time": "2022-08-15T08:42:34.544Z"
   },
   {
    "duration": 24,
    "start_time": "2022-08-15T08:42:34.556Z"
   },
   {
    "duration": 4,
    "start_time": "2022-08-15T08:42:34.598Z"
   },
   {
    "duration": 6,
    "start_time": "2022-08-15T08:42:34.604Z"
   },
   {
    "duration": 24,
    "start_time": "2022-08-15T08:42:34.611Z"
   },
   {
    "duration": 23,
    "start_time": "2022-08-15T08:42:34.636Z"
   },
   {
    "duration": 14,
    "start_time": "2022-08-15T08:42:34.661Z"
   },
   {
    "duration": 45,
    "start_time": "2022-08-15T08:42:34.677Z"
   },
   {
    "duration": 10,
    "start_time": "2022-08-15T08:42:34.725Z"
   },
   {
    "duration": 30,
    "start_time": "2022-08-15T08:42:34.737Z"
   },
   {
    "duration": 39,
    "start_time": "2022-08-15T08:42:34.768Z"
   },
   {
    "duration": 10,
    "start_time": "2022-08-15T08:42:34.808Z"
   },
   {
    "duration": 13,
    "start_time": "2022-08-15T08:42:34.820Z"
   },
   {
    "duration": 21490,
    "start_time": "2022-08-15T08:42:34.835Z"
   },
   {
    "duration": 14,
    "start_time": "2022-08-15T08:42:56.326Z"
   },
   {
    "duration": 102,
    "start_time": "2022-08-15T08:42:56.342Z"
   },
   {
    "duration": 0,
    "start_time": "2022-08-15T08:42:56.446Z"
   },
   {
    "duration": 0,
    "start_time": "2022-08-15T08:42:56.447Z"
   },
   {
    "duration": 0,
    "start_time": "2022-08-15T08:42:56.448Z"
   },
   {
    "duration": 0,
    "start_time": "2022-08-15T08:42:56.449Z"
   },
   {
    "duration": 0,
    "start_time": "2022-08-15T08:42:56.450Z"
   },
   {
    "duration": 0,
    "start_time": "2022-08-15T08:42:56.451Z"
   },
   {
    "duration": 0,
    "start_time": "2022-08-15T08:42:56.452Z"
   },
   {
    "duration": 0,
    "start_time": "2022-08-15T08:42:56.453Z"
   },
   {
    "duration": 0,
    "start_time": "2022-08-15T08:42:56.454Z"
   },
   {
    "duration": 0,
    "start_time": "2022-08-15T08:42:56.455Z"
   },
   {
    "duration": 0,
    "start_time": "2022-08-15T08:42:56.456Z"
   },
   {
    "duration": 0,
    "start_time": "2022-08-15T08:42:56.457Z"
   },
   {
    "duration": 0,
    "start_time": "2022-08-15T08:42:56.458Z"
   },
   {
    "duration": 0,
    "start_time": "2022-08-15T08:42:56.459Z"
   },
   {
    "duration": 0,
    "start_time": "2022-08-15T08:42:56.460Z"
   },
   {
    "duration": 0,
    "start_time": "2022-08-15T08:42:56.461Z"
   },
   {
    "duration": 0,
    "start_time": "2022-08-15T08:42:56.462Z"
   },
   {
    "duration": 0,
    "start_time": "2022-08-15T08:42:56.463Z"
   },
   {
    "duration": 34,
    "start_time": "2022-08-15T08:44:34.015Z"
   },
   {
    "duration": 12,
    "start_time": "2022-08-15T08:45:27.566Z"
   },
   {
    "duration": 26,
    "start_time": "2022-08-15T08:46:36.838Z"
   },
   {
    "duration": 3,
    "start_time": "2022-08-15T08:46:57.315Z"
   },
   {
    "duration": 3,
    "start_time": "2022-08-15T08:47:06.362Z"
   },
   {
    "duration": 68,
    "start_time": "2022-08-15T08:47:15.524Z"
   },
   {
    "duration": 26,
    "start_time": "2022-08-15T08:47:48.156Z"
   },
   {
    "duration": 71,
    "start_time": "2022-08-15T08:47:58.761Z"
   },
   {
    "duration": 26,
    "start_time": "2022-08-15T08:48:02.405Z"
   },
   {
    "duration": 25,
    "start_time": "2022-08-15T08:48:47.349Z"
   },
   {
    "duration": 133,
    "start_time": "2022-08-15T08:49:00.742Z"
   },
   {
    "duration": 23,
    "start_time": "2022-08-15T08:49:12.002Z"
   },
   {
    "duration": 44,
    "start_time": "2022-08-15T08:58:12.362Z"
   },
   {
    "duration": 952,
    "start_time": "2022-08-15T08:58:17.450Z"
   },
   {
    "duration": 902,
    "start_time": "2022-08-15T08:58:18.404Z"
   },
   {
    "duration": 27,
    "start_time": "2022-08-15T08:58:19.308Z"
   },
   {
    "duration": 20,
    "start_time": "2022-08-15T08:58:19.337Z"
   },
   {
    "duration": 18,
    "start_time": "2022-08-15T08:58:19.358Z"
   },
   {
    "duration": 25,
    "start_time": "2022-08-15T08:58:19.378Z"
   },
   {
    "duration": 14,
    "start_time": "2022-08-15T08:58:19.405Z"
   },
   {
    "duration": 104,
    "start_time": "2022-08-15T08:58:19.421Z"
   },
   {
    "duration": 42,
    "start_time": "2022-08-15T08:58:19.527Z"
   },
   {
    "duration": 4,
    "start_time": "2022-08-15T08:58:19.571Z"
   },
   {
    "duration": 22,
    "start_time": "2022-08-15T08:58:19.577Z"
   },
   {
    "duration": 55,
    "start_time": "2022-08-15T08:58:19.600Z"
   },
   {
    "duration": 27,
    "start_time": "2022-08-15T08:58:19.656Z"
   },
   {
    "duration": 19,
    "start_time": "2022-08-15T08:58:19.698Z"
   },
   {
    "duration": 37,
    "start_time": "2022-08-15T08:58:19.718Z"
   },
   {
    "duration": 17,
    "start_time": "2022-08-15T08:58:19.757Z"
   },
   {
    "duration": 33,
    "start_time": "2022-08-15T08:58:19.775Z"
   },
   {
    "duration": 8,
    "start_time": "2022-08-15T08:58:19.810Z"
   },
   {
    "duration": 4,
    "start_time": "2022-08-15T08:58:19.820Z"
   },
   {
    "duration": 5,
    "start_time": "2022-08-15T08:58:19.826Z"
   },
   {
    "duration": 19,
    "start_time": "2022-08-15T08:58:19.832Z"
   },
   {
    "duration": 4,
    "start_time": "2022-08-15T08:58:19.852Z"
   },
   {
    "duration": 12,
    "start_time": "2022-08-15T08:58:19.857Z"
   },
   {
    "duration": 37,
    "start_time": "2022-08-15T08:58:19.870Z"
   },
   {
    "duration": 22,
    "start_time": "2022-08-15T08:58:19.909Z"
   },
   {
    "duration": 18,
    "start_time": "2022-08-15T08:58:19.933Z"
   },
   {
    "duration": 46,
    "start_time": "2022-08-15T08:58:19.952Z"
   },
   {
    "duration": 10,
    "start_time": "2022-08-15T08:58:20.002Z"
   },
   {
    "duration": 30,
    "start_time": "2022-08-15T08:58:20.013Z"
   },
   {
    "duration": 1009,
    "start_time": "2022-08-15T08:59:20.711Z"
   },
   {
    "duration": 895,
    "start_time": "2022-08-15T08:59:21.722Z"
   },
   {
    "duration": 31,
    "start_time": "2022-08-15T08:59:22.619Z"
   },
   {
    "duration": 22,
    "start_time": "2022-08-15T08:59:22.652Z"
   },
   {
    "duration": 20,
    "start_time": "2022-08-15T08:59:22.675Z"
   },
   {
    "duration": 13,
    "start_time": "2022-08-15T08:59:22.698Z"
   },
   {
    "duration": 15,
    "start_time": "2022-08-15T08:59:22.712Z"
   },
   {
    "duration": 102,
    "start_time": "2022-08-15T08:59:22.728Z"
   },
   {
    "duration": 42,
    "start_time": "2022-08-15T08:59:22.831Z"
   },
   {
    "duration": 4,
    "start_time": "2022-08-15T08:59:22.875Z"
   },
   {
    "duration": 24,
    "start_time": "2022-08-15T08:59:22.880Z"
   },
   {
    "duration": 53,
    "start_time": "2022-08-15T08:59:22.905Z"
   },
   {
    "duration": 41,
    "start_time": "2022-08-15T08:59:22.960Z"
   },
   {
    "duration": 19,
    "start_time": "2022-08-15T08:59:23.002Z"
   },
   {
    "duration": 38,
    "start_time": "2022-08-15T08:59:23.022Z"
   },
   {
    "duration": 36,
    "start_time": "2022-08-15T08:59:23.062Z"
   },
   {
    "duration": 12,
    "start_time": "2022-08-15T08:59:23.099Z"
   },
   {
    "duration": 8,
    "start_time": "2022-08-15T08:59:23.112Z"
   },
   {
    "duration": 4,
    "start_time": "2022-08-15T08:59:23.122Z"
   },
   {
    "duration": 6,
    "start_time": "2022-08-15T08:59:23.127Z"
   },
   {
    "duration": 16,
    "start_time": "2022-08-15T08:59:23.134Z"
   },
   {
    "duration": 4,
    "start_time": "2022-08-15T08:59:23.151Z"
   },
   {
    "duration": 4,
    "start_time": "2022-08-15T08:59:23.156Z"
   },
   {
    "duration": 44,
    "start_time": "2022-08-15T08:59:23.162Z"
   },
   {
    "duration": 24,
    "start_time": "2022-08-15T08:59:23.207Z"
   },
   {
    "duration": 14,
    "start_time": "2022-08-15T08:59:23.232Z"
   },
   {
    "duration": 26,
    "start_time": "2022-08-15T08:59:23.248Z"
   },
   {
    "duration": 30,
    "start_time": "2022-08-15T08:59:23.277Z"
   },
   {
    "duration": 29,
    "start_time": "2022-08-15T08:59:23.309Z"
   },
   {
    "duration": 107,
    "start_time": "2022-08-15T08:59:23.339Z"
   },
   {
    "duration": 0,
    "start_time": "2022-08-15T08:59:23.448Z"
   },
   {
    "duration": 0,
    "start_time": "2022-08-15T08:59:23.449Z"
   },
   {
    "duration": 0,
    "start_time": "2022-08-15T08:59:23.450Z"
   },
   {
    "duration": 0,
    "start_time": "2022-08-15T08:59:23.451Z"
   },
   {
    "duration": 0,
    "start_time": "2022-08-15T08:59:23.452Z"
   },
   {
    "duration": 0,
    "start_time": "2022-08-15T08:59:23.453Z"
   },
   {
    "duration": 0,
    "start_time": "2022-08-15T08:59:23.454Z"
   },
   {
    "duration": 0,
    "start_time": "2022-08-15T08:59:23.455Z"
   },
   {
    "duration": 0,
    "start_time": "2022-08-15T08:59:23.455Z"
   },
   {
    "duration": 0,
    "start_time": "2022-08-15T08:59:23.456Z"
   },
   {
    "duration": 0,
    "start_time": "2022-08-15T08:59:23.457Z"
   },
   {
    "duration": 0,
    "start_time": "2022-08-15T08:59:23.458Z"
   },
   {
    "duration": 0,
    "start_time": "2022-08-15T08:59:23.459Z"
   },
   {
    "duration": 0,
    "start_time": "2022-08-15T08:59:23.459Z"
   },
   {
    "duration": 0,
    "start_time": "2022-08-15T08:59:23.460Z"
   },
   {
    "duration": 0,
    "start_time": "2022-08-15T08:59:23.461Z"
   },
   {
    "duration": 0,
    "start_time": "2022-08-15T08:59:23.462Z"
   },
   {
    "duration": 0,
    "start_time": "2022-08-15T08:59:23.463Z"
   },
   {
    "duration": 0,
    "start_time": "2022-08-15T08:59:23.464Z"
   },
   {
    "duration": 0,
    "start_time": "2022-08-15T08:59:23.464Z"
   },
   {
    "duration": 0,
    "start_time": "2022-08-15T08:59:23.465Z"
   },
   {
    "duration": 0,
    "start_time": "2022-08-15T08:59:23.466Z"
   },
   {
    "duration": 0,
    "start_time": "2022-08-15T08:59:23.467Z"
   },
   {
    "duration": 47,
    "start_time": "2022-08-15T09:04:40.134Z"
   },
   {
    "duration": 992,
    "start_time": "2022-08-15T09:04:46.520Z"
   },
   {
    "duration": 906,
    "start_time": "2022-08-15T09:04:47.513Z"
   },
   {
    "duration": 28,
    "start_time": "2022-08-15T09:04:48.421Z"
   },
   {
    "duration": 22,
    "start_time": "2022-08-15T09:04:48.450Z"
   },
   {
    "duration": 19,
    "start_time": "2022-08-15T09:04:48.475Z"
   },
   {
    "duration": 13,
    "start_time": "2022-08-15T09:04:48.498Z"
   },
   {
    "duration": 15,
    "start_time": "2022-08-15T09:04:48.513Z"
   },
   {
    "duration": 107,
    "start_time": "2022-08-15T09:04:48.529Z"
   },
   {
    "duration": 44,
    "start_time": "2022-08-15T09:04:48.637Z"
   },
   {
    "duration": 18,
    "start_time": "2022-08-15T09:04:48.683Z"
   },
   {
    "duration": 8,
    "start_time": "2022-08-15T09:04:48.702Z"
   },
   {
    "duration": 58,
    "start_time": "2022-08-15T09:04:48.712Z"
   },
   {
    "duration": 41,
    "start_time": "2022-08-15T09:04:48.772Z"
   },
   {
    "duration": 19,
    "start_time": "2022-08-15T09:04:48.816Z"
   },
   {
    "duration": 41,
    "start_time": "2022-08-15T09:04:48.836Z"
   },
   {
    "duration": 37,
    "start_time": "2022-08-15T09:04:48.879Z"
   },
   {
    "duration": 13,
    "start_time": "2022-08-15T09:04:48.918Z"
   },
   {
    "duration": 10,
    "start_time": "2022-08-15T09:04:48.932Z"
   },
   {
    "duration": 5,
    "start_time": "2022-08-15T09:04:48.944Z"
   },
   {
    "duration": 5,
    "start_time": "2022-08-15T09:04:48.950Z"
   },
   {
    "duration": 49,
    "start_time": "2022-08-15T09:04:48.957Z"
   },
   {
    "duration": 4,
    "start_time": "2022-08-15T09:04:49.007Z"
   },
   {
    "duration": 13,
    "start_time": "2022-08-15T09:04:49.012Z"
   },
   {
    "duration": 14,
    "start_time": "2022-08-15T09:04:49.027Z"
   },
   {
    "duration": 22,
    "start_time": "2022-08-15T09:04:49.042Z"
   },
   {
    "duration": 13,
    "start_time": "2022-08-15T09:04:49.066Z"
   },
   {
    "duration": 39,
    "start_time": "2022-08-15T09:04:49.080Z"
   },
   {
    "duration": 10,
    "start_time": "2022-08-15T09:04:49.120Z"
   },
   {
    "duration": 27,
    "start_time": "2022-08-15T09:04:49.131Z"
   },
   {
    "duration": 115,
    "start_time": "2022-08-15T09:04:49.159Z"
   },
   {
    "duration": 0,
    "start_time": "2022-08-15T09:04:49.276Z"
   },
   {
    "duration": 0,
    "start_time": "2022-08-15T09:04:49.277Z"
   },
   {
    "duration": 0,
    "start_time": "2022-08-15T09:04:49.278Z"
   },
   {
    "duration": 0,
    "start_time": "2022-08-15T09:04:49.278Z"
   },
   {
    "duration": 0,
    "start_time": "2022-08-15T09:04:49.279Z"
   },
   {
    "duration": 0,
    "start_time": "2022-08-15T09:04:49.280Z"
   },
   {
    "duration": 0,
    "start_time": "2022-08-15T09:04:49.281Z"
   },
   {
    "duration": 0,
    "start_time": "2022-08-15T09:04:49.298Z"
   },
   {
    "duration": 0,
    "start_time": "2022-08-15T09:04:49.299Z"
   },
   {
    "duration": 0,
    "start_time": "2022-08-15T09:04:49.300Z"
   },
   {
    "duration": 0,
    "start_time": "2022-08-15T09:04:49.301Z"
   },
   {
    "duration": 0,
    "start_time": "2022-08-15T09:04:49.302Z"
   },
   {
    "duration": 0,
    "start_time": "2022-08-15T09:04:49.302Z"
   },
   {
    "duration": 0,
    "start_time": "2022-08-15T09:04:49.303Z"
   },
   {
    "duration": 0,
    "start_time": "2022-08-15T09:04:49.304Z"
   },
   {
    "duration": 0,
    "start_time": "2022-08-15T09:04:49.305Z"
   },
   {
    "duration": 0,
    "start_time": "2022-08-15T09:04:49.306Z"
   },
   {
    "duration": 0,
    "start_time": "2022-08-15T09:04:49.307Z"
   },
   {
    "duration": 0,
    "start_time": "2022-08-15T09:04:49.307Z"
   },
   {
    "duration": 0,
    "start_time": "2022-08-15T09:04:49.308Z"
   },
   {
    "duration": 0,
    "start_time": "2022-08-15T09:04:49.308Z"
   },
   {
    "duration": 0,
    "start_time": "2022-08-15T09:04:49.309Z"
   },
   {
    "duration": 0,
    "start_time": "2022-08-15T09:04:49.310Z"
   },
   {
    "duration": 9,
    "start_time": "2022-08-15T09:11:25.009Z"
   },
   {
    "duration": 12,
    "start_time": "2022-08-15T09:13:42.663Z"
   },
   {
    "duration": 32,
    "start_time": "2022-08-15T09:15:32.147Z"
   },
   {
    "duration": 10,
    "start_time": "2022-08-15T09:16:20.318Z"
   },
   {
    "duration": 74,
    "start_time": "2022-08-15T09:17:50.801Z"
   },
   {
    "duration": 19,
    "start_time": "2022-08-15T09:17:57.562Z"
   },
   {
    "duration": 28,
    "start_time": "2022-08-15T09:18:13.197Z"
   },
   {
    "duration": 23,
    "start_time": "2022-08-15T09:18:17.188Z"
   },
   {
    "duration": 20,
    "start_time": "2022-08-15T09:18:26.475Z"
   },
   {
    "duration": 33,
    "start_time": "2022-08-15T09:18:51.327Z"
   },
   {
    "duration": 132,
    "start_time": "2022-08-15T09:18:58.344Z"
   },
   {
    "duration": 20,
    "start_time": "2022-08-15T09:19:03.925Z"
   },
   {
    "duration": 19,
    "start_time": "2022-08-15T09:20:23.876Z"
   },
   {
    "duration": 30,
    "start_time": "2022-08-15T09:20:33.024Z"
   },
   {
    "duration": 19,
    "start_time": "2022-08-15T09:20:49.142Z"
   },
   {
    "duration": 19,
    "start_time": "2022-08-15T09:21:05.533Z"
   },
   {
    "duration": 1422,
    "start_time": "2022-08-15T09:21:16.237Z"
   },
   {
    "duration": 18,
    "start_time": "2022-08-15T09:21:21.415Z"
   },
   {
    "duration": 15,
    "start_time": "2022-08-15T09:21:26.467Z"
   },
   {
    "duration": 16,
    "start_time": "2022-08-15T09:21:31.490Z"
   },
   {
    "duration": 701,
    "start_time": "2022-08-15T09:21:43.603Z"
   },
   {
    "duration": 19,
    "start_time": "2022-08-15T09:22:14.298Z"
   },
   {
    "duration": 16,
    "start_time": "2022-08-15T09:22:40.913Z"
   },
   {
    "duration": 18,
    "start_time": "2022-08-15T09:23:07.069Z"
   },
   {
    "duration": 20,
    "start_time": "2022-08-15T09:23:25.655Z"
   },
   {
    "duration": 35,
    "start_time": "2022-08-15T09:24:00.950Z"
   },
   {
    "duration": 26,
    "start_time": "2022-08-15T09:24:13.911Z"
   },
   {
    "duration": 20,
    "start_time": "2022-08-15T09:24:38.419Z"
   },
   {
    "duration": 16,
    "start_time": "2022-08-15T09:24:44.046Z"
   },
   {
    "duration": 15,
    "start_time": "2022-08-15T09:24:57.088Z"
   },
   {
    "duration": 19,
    "start_time": "2022-08-15T09:25:03.319Z"
   },
   {
    "duration": 19,
    "start_time": "2022-08-15T09:25:31.688Z"
   },
   {
    "duration": 15,
    "start_time": "2022-08-15T09:25:38.540Z"
   },
   {
    "duration": 22,
    "start_time": "2022-08-15T09:25:42.865Z"
   },
   {
    "duration": 21,
    "start_time": "2022-08-15T09:27:11.454Z"
   },
   {
    "duration": 24,
    "start_time": "2022-08-15T09:27:37.865Z"
   },
   {
    "duration": 47,
    "start_time": "2022-08-15T09:28:01.740Z"
   },
   {
    "duration": 18,
    "start_time": "2022-08-15T09:28:05.993Z"
   },
   {
    "duration": 32,
    "start_time": "2022-08-15T09:29:48.705Z"
   },
   {
    "duration": 23,
    "start_time": "2022-08-15T09:30:23.624Z"
   },
   {
    "duration": 17,
    "start_time": "2022-08-15T09:30:31.718Z"
   },
   {
    "duration": 9,
    "start_time": "2022-08-15T09:30:41.515Z"
   },
   {
    "duration": 13,
    "start_time": "2022-08-15T09:31:00.199Z"
   },
   {
    "duration": 22,
    "start_time": "2022-08-15T09:31:17.932Z"
   },
   {
    "duration": 36,
    "start_time": "2022-08-15T09:33:39.198Z"
   },
   {
    "duration": 26,
    "start_time": "2022-08-15T09:34:03.500Z"
   },
   {
    "duration": 21,
    "start_time": "2022-08-15T09:34:47.855Z"
   },
   {
    "duration": 22,
    "start_time": "2022-08-15T09:35:54.284Z"
   },
   {
    "duration": 19,
    "start_time": "2022-08-15T09:36:02.192Z"
   },
   {
    "duration": 21,
    "start_time": "2022-08-15T09:36:07.268Z"
   },
   {
    "duration": 20,
    "start_time": "2022-08-15T09:38:13.830Z"
   },
   {
    "duration": 33,
    "start_time": "2022-08-15T09:38:21.193Z"
   },
   {
    "duration": 26,
    "start_time": "2022-08-15T09:39:11.415Z"
   },
   {
    "duration": 24,
    "start_time": "2022-08-15T09:40:26.054Z"
   },
   {
    "duration": 4,
    "start_time": "2022-08-15T09:40:43.161Z"
   },
   {
    "duration": 9,
    "start_time": "2022-08-15T09:41:50.762Z"
   },
   {
    "duration": 17,
    "start_time": "2022-08-15T09:42:03.129Z"
   },
   {
    "duration": 15,
    "start_time": "2022-08-15T09:42:19.517Z"
   },
   {
    "duration": 8,
    "start_time": "2022-08-15T09:42:29.555Z"
   },
   {
    "duration": 16,
    "start_time": "2022-08-15T09:42:33.682Z"
   },
   {
    "duration": 9,
    "start_time": "2022-08-15T09:42:36.702Z"
   },
   {
    "duration": 5,
    "start_time": "2022-08-15T09:42:48.226Z"
   },
   {
    "duration": 7,
    "start_time": "2022-08-15T09:42:49.782Z"
   },
   {
    "duration": 3,
    "start_time": "2022-08-15T09:43:01.668Z"
   },
   {
    "duration": 22,
    "start_time": "2022-08-15T09:47:05.038Z"
   },
   {
    "duration": 23,
    "start_time": "2022-08-15T09:47:22.732Z"
   },
   {
    "duration": 23,
    "start_time": "2022-08-15T09:47:31.517Z"
   },
   {
    "duration": 31,
    "start_time": "2022-08-15T09:48:02.775Z"
   },
   {
    "duration": 21,
    "start_time": "2022-08-15T09:48:31.977Z"
   },
   {
    "duration": 46,
    "start_time": "2022-08-15T09:48:46.334Z"
   },
   {
    "duration": 29,
    "start_time": "2022-08-15T09:48:50.492Z"
   },
   {
    "duration": 55,
    "start_time": "2022-08-15T09:50:34.915Z"
   },
   {
    "duration": 19,
    "start_time": "2022-08-15T09:50:49.778Z"
   },
   {
    "duration": 22,
    "start_time": "2022-08-15T09:50:56.404Z"
   },
   {
    "duration": 28,
    "start_time": "2022-08-15T09:52:04.963Z"
   },
   {
    "duration": 21,
    "start_time": "2022-08-15T09:52:37.674Z"
   },
   {
    "duration": 27,
    "start_time": "2022-08-15T09:52:49.239Z"
   },
   {
    "duration": 24,
    "start_time": "2022-08-15T09:53:29.275Z"
   },
   {
    "duration": 20,
    "start_time": "2022-08-15T09:54:34.402Z"
   },
   {
    "duration": 12,
    "start_time": "2022-08-15T09:55:53.042Z"
   },
   {
    "duration": 25,
    "start_time": "2022-08-15T09:56:02.235Z"
   },
   {
    "duration": 29,
    "start_time": "2022-08-15T09:56:31.867Z"
   },
   {
    "duration": 32,
    "start_time": "2022-08-15T09:57:05.400Z"
   },
   {
    "duration": 20,
    "start_time": "2022-08-15T09:57:31.763Z"
   },
   {
    "duration": 33,
    "start_time": "2022-08-15T09:57:50.660Z"
   },
   {
    "duration": 18,
    "start_time": "2022-08-15T09:59:08.592Z"
   },
   {
    "duration": 24,
    "start_time": "2022-08-15T10:00:12.705Z"
   },
   {
    "duration": 20,
    "start_time": "2022-08-15T10:00:31.442Z"
   },
   {
    "duration": 23,
    "start_time": "2022-08-15T10:01:45.563Z"
   },
   {
    "duration": 19,
    "start_time": "2022-08-15T10:02:18.471Z"
   },
   {
    "duration": 20,
    "start_time": "2022-08-15T10:02:23.599Z"
   },
   {
    "duration": 21,
    "start_time": "2022-08-15T10:03:10.586Z"
   },
   {
    "duration": 26,
    "start_time": "2022-08-15T10:03:26.551Z"
   },
   {
    "duration": 26,
    "start_time": "2022-08-15T10:03:32.979Z"
   },
   {
    "duration": 24,
    "start_time": "2022-08-15T10:03:47.068Z"
   },
   {
    "duration": 25,
    "start_time": "2022-08-15T10:03:53.591Z"
   },
   {
    "duration": 25,
    "start_time": "2022-08-15T10:04:14.159Z"
   },
   {
    "duration": 32,
    "start_time": "2022-08-15T10:04:19.137Z"
   },
   {
    "duration": 25,
    "start_time": "2022-08-15T10:05:02.137Z"
   },
   {
    "duration": 26,
    "start_time": "2022-08-15T10:05:40.768Z"
   },
   {
    "duration": 7,
    "start_time": "2022-08-15T10:09:45.952Z"
   },
   {
    "duration": 9,
    "start_time": "2022-08-15T10:10:13.991Z"
   },
   {
    "duration": 6,
    "start_time": "2022-08-15T10:10:18.806Z"
   },
   {
    "duration": 7,
    "start_time": "2022-08-15T10:10:24.915Z"
   },
   {
    "duration": 29,
    "start_time": "2022-08-15T10:10:36.858Z"
   },
   {
    "duration": 6,
    "start_time": "2022-08-15T10:10:39.420Z"
   },
   {
    "duration": 10,
    "start_time": "2022-08-15T10:15:46.910Z"
   },
   {
    "duration": 7,
    "start_time": "2022-08-15T10:15:58.610Z"
   },
   {
    "duration": 29,
    "start_time": "2022-08-15T10:16:03.792Z"
   },
   {
    "duration": 17,
    "start_time": "2022-08-15T10:16:06.495Z"
   },
   {
    "duration": 27,
    "start_time": "2022-08-15T10:19:37.710Z"
   },
   {
    "duration": 31,
    "start_time": "2022-08-15T10:19:51.414Z"
   },
   {
    "duration": 7,
    "start_time": "2022-08-15T10:20:11.610Z"
   },
   {
    "duration": 16,
    "start_time": "2022-08-15T10:21:35.096Z"
   },
   {
    "duration": 6,
    "start_time": "2022-08-15T10:22:32.458Z"
   },
   {
    "duration": 6,
    "start_time": "2022-08-15T10:22:40.862Z"
   },
   {
    "duration": 7,
    "start_time": "2022-08-15T10:25:09.954Z"
   },
   {
    "duration": 30,
    "start_time": "2022-08-15T10:25:12.633Z"
   },
   {
    "duration": 6,
    "start_time": "2022-08-15T10:25:15.243Z"
   },
   {
    "duration": 13,
    "start_time": "2022-08-15T10:26:54.236Z"
   },
   {
    "duration": 15,
    "start_time": "2022-08-15T10:26:56.715Z"
   },
   {
    "duration": 20,
    "start_time": "2022-08-15T10:26:58.810Z"
   },
   {
    "duration": 25,
    "start_time": "2022-08-15T10:29:23.605Z"
   },
   {
    "duration": 7,
    "start_time": "2022-08-15T10:34:20.674Z"
   },
   {
    "duration": 24,
    "start_time": "2022-08-15T10:34:33.233Z"
   },
   {
    "duration": 24,
    "start_time": "2022-08-15T10:34:34.552Z"
   },
   {
    "duration": 17,
    "start_time": "2022-08-15T10:34:50.418Z"
   },
   {
    "duration": 7,
    "start_time": "2022-08-15T10:35:31.876Z"
   },
   {
    "duration": 22,
    "start_time": "2022-08-15T10:36:09.495Z"
   },
   {
    "duration": 6,
    "start_time": "2022-08-15T10:37:06.195Z"
   },
   {
    "duration": 12,
    "start_time": "2022-08-15T10:37:08.099Z"
   },
   {
    "duration": 7,
    "start_time": "2022-08-15T10:37:14.911Z"
   },
   {
    "duration": 13,
    "start_time": "2022-08-15T10:37:41.034Z"
   },
   {
    "duration": 7,
    "start_time": "2022-08-15T10:37:46.966Z"
   },
   {
    "duration": 24,
    "start_time": "2022-08-15T10:42:39.636Z"
   },
   {
    "duration": 17,
    "start_time": "2022-08-15T10:44:04.173Z"
   },
   {
    "duration": 13,
    "start_time": "2022-08-15T10:44:23.410Z"
   },
   {
    "duration": 23,
    "start_time": "2022-08-15T10:44:42.239Z"
   },
   {
    "duration": 13,
    "start_time": "2022-08-15T10:45:02.652Z"
   },
   {
    "duration": 9,
    "start_time": "2022-08-15T10:46:01.993Z"
   },
   {
    "duration": 8,
    "start_time": "2022-08-15T10:46:16.582Z"
   },
   {
    "duration": 10,
    "start_time": "2022-08-15T10:47:01.337Z"
   },
   {
    "duration": 20,
    "start_time": "2022-08-15T10:47:11.795Z"
   },
   {
    "duration": 20,
    "start_time": "2022-08-15T10:47:35.786Z"
   },
   {
    "duration": 27,
    "start_time": "2022-08-15T10:48:05.938Z"
   },
   {
    "duration": 23,
    "start_time": "2022-08-15T10:51:02.084Z"
   },
   {
    "duration": 37,
    "start_time": "2022-08-15T10:53:09.392Z"
   },
   {
    "duration": 33,
    "start_time": "2022-08-15T10:53:17.158Z"
   },
   {
    "duration": 9,
    "start_time": "2022-08-15T10:53:26.353Z"
   },
   {
    "duration": 7,
    "start_time": "2022-08-15T10:53:35.324Z"
   },
   {
    "duration": 27,
    "start_time": "2022-08-15T10:53:40.910Z"
   },
   {
    "duration": 17,
    "start_time": "2022-08-15T10:53:42.010Z"
   },
   {
    "duration": 7,
    "start_time": "2022-08-15T10:53:43.217Z"
   },
   {
    "duration": 7,
    "start_time": "2022-08-15T10:53:50.710Z"
   },
   {
    "duration": 34,
    "start_time": "2022-08-15T10:53:56.411Z"
   },
   {
    "duration": 31,
    "start_time": "2022-08-15T10:54:03.371Z"
   },
   {
    "duration": 13,
    "start_time": "2022-08-15T10:54:13.982Z"
   },
   {
    "duration": 21949,
    "start_time": "2022-08-15T11:05:38.861Z"
   },
   {
    "duration": 15,
    "start_time": "2022-08-15T11:06:00.812Z"
   },
   {
    "duration": 102,
    "start_time": "2022-08-15T11:08:00.416Z"
   },
   {
    "duration": 12,
    "start_time": "2022-08-15T11:08:18.784Z"
   },
   {
    "duration": 10,
    "start_time": "2022-08-15T11:08:23.089Z"
   },
   {
    "duration": 9,
    "start_time": "2022-08-15T11:08:27.406Z"
   },
   {
    "duration": 8,
    "start_time": "2022-08-15T11:08:29.652Z"
   },
   {
    "duration": 174,
    "start_time": "2022-08-15T11:08:32.132Z"
   },
   {
    "duration": 177,
    "start_time": "2022-08-15T11:08:49.940Z"
   },
   {
    "duration": 173,
    "start_time": "2022-08-15T11:09:19.857Z"
   },
   {
    "duration": 11,
    "start_time": "2022-08-15T11:10:03.097Z"
   },
   {
    "duration": 8,
    "start_time": "2022-08-15T11:10:20.927Z"
   },
   {
    "duration": 8,
    "start_time": "2022-08-15T11:11:25.635Z"
   },
   {
    "duration": 1069,
    "start_time": "2022-08-15T11:11:34.734Z"
   },
   {
    "duration": 976,
    "start_time": "2022-08-15T11:11:41.139Z"
   },
   {
    "duration": 385,
    "start_time": "2022-08-15T11:11:42.117Z"
   },
   {
    "duration": 32,
    "start_time": "2022-08-15T11:11:42.504Z"
   },
   {
    "duration": 22,
    "start_time": "2022-08-15T11:11:42.538Z"
   },
   {
    "duration": 19,
    "start_time": "2022-08-15T11:11:42.561Z"
   },
   {
    "duration": 17,
    "start_time": "2022-08-15T11:11:42.598Z"
   },
   {
    "duration": 16,
    "start_time": "2022-08-15T11:11:42.617Z"
   },
   {
    "duration": 112,
    "start_time": "2022-08-15T11:11:42.635Z"
   },
   {
    "duration": 50,
    "start_time": "2022-08-15T11:11:42.748Z"
   },
   {
    "duration": 4,
    "start_time": "2022-08-15T11:11:42.801Z"
   },
   {
    "duration": 10,
    "start_time": "2022-08-15T11:11:42.807Z"
   },
   {
    "duration": 59,
    "start_time": "2022-08-15T11:11:42.819Z"
   },
   {
    "duration": 50,
    "start_time": "2022-08-15T11:11:42.879Z"
   },
   {
    "duration": 22,
    "start_time": "2022-08-15T11:11:42.930Z"
   },
   {
    "duration": 60,
    "start_time": "2022-08-15T11:11:42.953Z"
   },
   {
    "duration": 18,
    "start_time": "2022-08-15T11:11:43.015Z"
   },
   {
    "duration": 15,
    "start_time": "2022-08-15T11:11:43.035Z"
   },
   {
    "duration": 12,
    "start_time": "2022-08-15T11:11:43.051Z"
   },
   {
    "duration": 36,
    "start_time": "2022-08-15T11:11:43.065Z"
   },
   {
    "duration": 5,
    "start_time": "2022-08-15T11:11:43.103Z"
   },
   {
    "duration": 26,
    "start_time": "2022-08-15T11:11:43.110Z"
   },
   {
    "duration": 4,
    "start_time": "2022-08-15T11:11:43.137Z"
   },
   {
    "duration": 8,
    "start_time": "2022-08-15T11:11:43.142Z"
   },
   {
    "duration": 16,
    "start_time": "2022-08-15T11:11:43.152Z"
   },
   {
    "duration": 37,
    "start_time": "2022-08-15T11:11:43.170Z"
   },
   {
    "duration": 13,
    "start_time": "2022-08-15T11:11:43.209Z"
   },
   {
    "duration": 35,
    "start_time": "2022-08-15T11:11:43.224Z"
   },
   {
    "duration": 37,
    "start_time": "2022-08-15T11:11:43.262Z"
   },
   {
    "duration": 31,
    "start_time": "2022-08-15T11:11:43.300Z"
   },
   {
    "duration": 24,
    "start_time": "2022-08-15T11:11:43.332Z"
   },
   {
    "duration": 17,
    "start_time": "2022-08-15T11:11:43.357Z"
   },
   {
    "duration": 7,
    "start_time": "2022-08-15T11:11:43.399Z"
   },
   {
    "duration": 7,
    "start_time": "2022-08-15T11:11:43.407Z"
   },
   {
    "duration": 38,
    "start_time": "2022-08-15T11:11:43.416Z"
   },
   {
    "duration": 21450,
    "start_time": "2022-08-15T11:11:43.455Z"
   },
   {
    "duration": 16,
    "start_time": "2022-08-15T11:12:04.907Z"
   },
   {
    "duration": 40,
    "start_time": "2022-08-15T11:12:04.925Z"
   },
   {
    "duration": 5,
    "start_time": "2022-08-15T11:12:04.966Z"
   },
   {
    "duration": 174,
    "start_time": "2022-08-15T11:12:04.972Z"
   },
   {
    "duration": 10,
    "start_time": "2022-08-15T11:12:05.148Z"
   },
   {
    "duration": 16,
    "start_time": "2022-08-15T11:12:05.160Z"
   },
   {
    "duration": 21,
    "start_time": "2022-08-15T11:12:05.178Z"
   },
   {
    "duration": 9,
    "start_time": "2022-08-15T11:12:05.200Z"
   },
   {
    "duration": 178,
    "start_time": "2022-08-15T11:12:05.210Z"
   },
   {
    "duration": 208,
    "start_time": "2022-08-15T11:12:05.398Z"
   },
   {
    "duration": 185,
    "start_time": "2022-08-15T11:12:05.608Z"
   },
   {
    "duration": 106,
    "start_time": "2022-08-15T11:12:05.794Z"
   },
   {
    "duration": 0,
    "start_time": "2022-08-15T11:12:05.901Z"
   },
   {
    "duration": 0,
    "start_time": "2022-08-15T11:12:05.903Z"
   },
   {
    "duration": 0,
    "start_time": "2022-08-15T11:12:05.904Z"
   },
   {
    "duration": 0,
    "start_time": "2022-08-15T11:12:05.905Z"
   },
   {
    "duration": 0,
    "start_time": "2022-08-15T11:12:05.906Z"
   },
   {
    "duration": 0,
    "start_time": "2022-08-15T11:12:05.907Z"
   },
   {
    "duration": 0,
    "start_time": "2022-08-15T11:12:05.908Z"
   },
   {
    "duration": 4,
    "start_time": "2022-08-15T11:12:30.826Z"
   },
   {
    "duration": 8,
    "start_time": "2022-08-15T11:12:38.118Z"
   },
   {
    "duration": 4,
    "start_time": "2022-08-15T11:13:07.292Z"
   },
   {
    "duration": 165,
    "start_time": "2022-08-15T11:13:20.392Z"
   },
   {
    "duration": 227,
    "start_time": "2022-08-15T11:17:01.776Z"
   },
   {
    "duration": 192,
    "start_time": "2022-08-15T11:17:07.744Z"
   },
   {
    "duration": 200,
    "start_time": "2022-08-15T11:17:24.654Z"
   },
   {
    "duration": 7,
    "start_time": "2022-08-15T11:17:44.822Z"
   },
   {
    "duration": 9,
    "start_time": "2022-08-15T11:17:46.224Z"
   },
   {
    "duration": 159,
    "start_time": "2022-08-15T11:17:51.950Z"
   },
   {
    "duration": 7,
    "start_time": "2022-08-15T11:17:56.838Z"
   },
   {
    "duration": 157,
    "start_time": "2022-08-15T11:17:59.462Z"
   },
   {
    "duration": 125,
    "start_time": "2022-08-15T11:23:36.001Z"
   },
   {
    "duration": 162,
    "start_time": "2022-08-15T11:24:03.655Z"
   },
   {
    "duration": 123,
    "start_time": "2022-08-15T11:24:12.705Z"
   },
   {
    "duration": 123,
    "start_time": "2022-08-15T11:24:35.986Z"
   },
   {
    "duration": 119,
    "start_time": "2022-08-15T11:25:04.880Z"
   },
   {
    "duration": 6,
    "start_time": "2022-08-15T11:25:59.150Z"
   },
   {
    "duration": 1029,
    "start_time": "2022-08-15T11:27:44.999Z"
   },
   {
    "duration": 8,
    "start_time": "2022-08-15T11:28:00.767Z"
   },
   {
    "duration": 23,
    "start_time": "2022-08-15T11:28:05.592Z"
   },
   {
    "duration": 17,
    "start_time": "2022-08-15T11:28:06.758Z"
   },
   {
    "duration": 5,
    "start_time": "2022-08-15T11:28:09.173Z"
   },
   {
    "duration": 7,
    "start_time": "2022-08-15T11:28:10.878Z"
   },
   {
    "duration": 9,
    "start_time": "2022-08-15T11:28:13.811Z"
   },
   {
    "duration": 35,
    "start_time": "2022-08-15T11:30:22.927Z"
   },
   {
    "duration": 7,
    "start_time": "2022-08-15T11:30:27.040Z"
   }
  ],
  "kernelspec": {
   "display_name": "Python 3 (ipykernel)",
   "language": "python",
   "name": "python3"
  },
  "language_info": {
   "codemirror_mode": {
    "name": "ipython",
    "version": 3
   },
   "file_extension": ".py",
   "mimetype": "text/x-python",
   "name": "python",
   "nbconvert_exporter": "python",
   "pygments_lexer": "ipython3",
   "version": "3.9.7"
  },
  "toc": {
   "base_numbering": 1,
   "nav_menu": {},
   "number_sections": true,
   "sideBar": true,
   "skip_h1_title": true,
   "title_cell": "Table of Contents",
   "title_sidebar": "Contents",
   "toc_cell": false,
   "toc_position": {
    "height": "calc(100% - 180px)",
    "left": "10px",
    "top": "150px",
    "width": "165px"
   },
   "toc_section_display": true,
   "toc_window_display": true
  }
 },
 "nbformat": 4,
 "nbformat_minor": 2
}
