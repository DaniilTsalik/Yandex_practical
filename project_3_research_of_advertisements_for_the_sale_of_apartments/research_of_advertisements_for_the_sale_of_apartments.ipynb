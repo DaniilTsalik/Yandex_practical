{
 "cells": [
  {
   "cell_type": "markdown",
   "metadata": {
    "id": "9IuwLXVZuqj3",
    "toc": true
   },
   "source": [
    "<h1>Содержание<span class=\"tocSkip\"></span></h1>\n",
    "<div class=\"toc\"><ul class=\"toc-item\"><li><span><a href=\"#Изучение-данных-из-файла\" data-toc-modified-id=\"Изучение-данных-из-файла-1\"><span class=\"toc-item-num\">1&nbsp;&nbsp;</span>Изучение данных из файла</a></span><ul class=\"toc-item\"><li><span><a href=\"#Вывод\" data-toc-modified-id=\"Вывод-1.1\"><span class=\"toc-item-num\">1.1&nbsp;&nbsp;</span>Вывод</a></span></li></ul></li><li><span><a href=\"#Предобработка-данных\" data-toc-modified-id=\"Предобработка-данных-2\"><span class=\"toc-item-num\">2&nbsp;&nbsp;</span>Предобработка данных</a></span><ul class=\"toc-item\"><li><span><a href=\"#Вывод\" data-toc-modified-id=\"Вывод-2.1\"><span class=\"toc-item-num\">2.1&nbsp;&nbsp;</span>Вывод</a></span></li></ul></li><li><span><a href=\"#Расчёты-и-добавление-результатов-в-таблицу\" data-toc-modified-id=\"Расчёты-и-добавление-результатов-в-таблицу-3\"><span class=\"toc-item-num\">3&nbsp;&nbsp;</span>Расчёты и добавление результатов в таблицу</a></span></li><li><span><a href=\"#Исследовательский-анализ-данных\" data-toc-modified-id=\"Исследовательский-анализ-данных-4\"><span class=\"toc-item-num\">4&nbsp;&nbsp;</span>Исследовательский анализ данных</a></span></li><li><span><a href=\"#Общий-вывод\" data-toc-modified-id=\"Общий-вывод-5\"><span class=\"toc-item-num\">5&nbsp;&nbsp;</span>Общий вывод</a></span></li><li><span><a href=\"#Чек-лист-готовности-проекта\" data-toc-modified-id=\"Чек-лист-готовности-проекта-6\"><span class=\"toc-item-num\">6&nbsp;&nbsp;</span>Чек-лист готовности проекта</a></span></li></ul></div>"
   ]
  },
  {
   "cell_type": "markdown",
   "metadata": {
    "id": "DXAjMMWduqj6"
   },
   "source": [
    "# Исследование объявлений о продаже квартир\n",
    "\n",
    "    В нашем распоряжении данные сервиса Яндекc Недвижимость — архив объявлений о продаже квартир в Санкт-Петербурге и соседних населённых пунктах за несколько лет. Нам предстоит выполнить анализ рынка и установить параметры влияющие на конечную стоимость объектов недвижимсоти.\n",
    "    По каждой квартире на продажу нам доступны два вида данных. Первые вписаны пользователем, вторые получены автоматически на основе картографических данных. Например, расстояние до центра, аэропорта, ближайшего парка и водоёма.\n",
    "\n",
    "**Цель:** установление параметров и факторов влияющих на стоимость объектов недвижимости.\n",
    "    \n",
    "**Задачи:**\n",
    " 1. Изучение параметров: площадь, цена, число комнат, высота потолков.\n",
    " 2. Изучение времени продажи квартиры.\n",
    " 3. Определение факторов больше всего влияющих на стоимость квартиры.\n",
    " 4. Определение населённых пунктов с наибольшим числом объявлений и средняя стоимость жилья в них.\n",
    " 5. Определение влияния расстояния от центра города на стоимость объектов недвижимости.\n",
    " 6. Анализ недвижимости в центре города\n",
    "\n",
    "**Объектом** исследования выступают объявления о продаже квартир в Санкт-Петербурге и соседних населённых пунктах.\n",
    "\n",
    "**Предмет исследования:** определение влияния различных параметров и факторов на рыночную стоимость квартир.\n",
    "\n",
    "**Методы** которые мы применим в данном исследовании включают в себя: ознакомление, предобработку и  исследовательский анализ данных.\n",
    "\n",
    "**Структура проекта.** Проектная работа состоит из обзора и предобработки данных, затем следует изучение и исследовательский анализ данных.  "
   ]
  },
  {
   "cell_type": "markdown",
   "metadata": {
    "id": "F5HAJRCruqj6"
   },
   "source": [
    "## Изучение данных из файла"
   ]
  },
  {
   "cell_type": "markdown",
   "metadata": {
    "id": "VlvJUJqCuqj7"
   },
   "source": [
    "Откроем файл и ознакомимся с данными:"
   ]
  },
  {
   "cell_type": "code",
   "execution_count": 1,
   "metadata": {},
   "outputs": [
    {
     "data": {
      "text/html": [
       "<div>\n",
       "<style scoped>\n",
       "    .dataframe tbody tr th:only-of-type {\n",
       "        vertical-align: middle;\n",
       "    }\n",
       "\n",
       "    .dataframe tbody tr th {\n",
       "        vertical-align: top;\n",
       "    }\n",
       "\n",
       "    .dataframe thead th {\n",
       "        text-align: right;\n",
       "    }\n",
       "</style>\n",
       "<table border=\"1\" class=\"dataframe\">\n",
       "  <thead>\n",
       "    <tr style=\"text-align: right;\">\n",
       "      <th></th>\n",
       "      <th>total_images</th>\n",
       "      <th>last_price</th>\n",
       "      <th>total_area</th>\n",
       "      <th>first_day_exposition</th>\n",
       "      <th>rooms</th>\n",
       "      <th>ceiling_height</th>\n",
       "      <th>floors_total</th>\n",
       "      <th>living_area</th>\n",
       "      <th>floor</th>\n",
       "      <th>is_apartment</th>\n",
       "      <th>...</th>\n",
       "      <th>kitchen_area</th>\n",
       "      <th>balcony</th>\n",
       "      <th>locality_name</th>\n",
       "      <th>airports_nearest</th>\n",
       "      <th>cityCenters_nearest</th>\n",
       "      <th>parks_around3000</th>\n",
       "      <th>parks_nearest</th>\n",
       "      <th>ponds_around3000</th>\n",
       "      <th>ponds_nearest</th>\n",
       "      <th>days_exposition</th>\n",
       "    </tr>\n",
       "  </thead>\n",
       "  <tbody>\n",
       "    <tr>\n",
       "      <th>0</th>\n",
       "      <td>20</td>\n",
       "      <td>13000000.0</td>\n",
       "      <td>108.00</td>\n",
       "      <td>2019-03-07T00:00:00</td>\n",
       "      <td>3</td>\n",
       "      <td>2.70</td>\n",
       "      <td>16.0</td>\n",
       "      <td>51.00</td>\n",
       "      <td>8</td>\n",
       "      <td>NaN</td>\n",
       "      <td>...</td>\n",
       "      <td>25.00</td>\n",
       "      <td>NaN</td>\n",
       "      <td>Санкт-Петербург</td>\n",
       "      <td>18863.0</td>\n",
       "      <td>16028.0</td>\n",
       "      <td>1.0</td>\n",
       "      <td>482.0</td>\n",
       "      <td>2.0</td>\n",
       "      <td>755.0</td>\n",
       "      <td>NaN</td>\n",
       "    </tr>\n",
       "    <tr>\n",
       "      <th>1</th>\n",
       "      <td>7</td>\n",
       "      <td>3350000.0</td>\n",
       "      <td>40.40</td>\n",
       "      <td>2018-12-04T00:00:00</td>\n",
       "      <td>1</td>\n",
       "      <td>NaN</td>\n",
       "      <td>11.0</td>\n",
       "      <td>18.60</td>\n",
       "      <td>1</td>\n",
       "      <td>NaN</td>\n",
       "      <td>...</td>\n",
       "      <td>11.00</td>\n",
       "      <td>2.0</td>\n",
       "      <td>посёлок Шушары</td>\n",
       "      <td>12817.0</td>\n",
       "      <td>18603.0</td>\n",
       "      <td>0.0</td>\n",
       "      <td>NaN</td>\n",
       "      <td>0.0</td>\n",
       "      <td>NaN</td>\n",
       "      <td>81.0</td>\n",
       "    </tr>\n",
       "    <tr>\n",
       "      <th>2</th>\n",
       "      <td>10</td>\n",
       "      <td>5196000.0</td>\n",
       "      <td>56.00</td>\n",
       "      <td>2015-08-20T00:00:00</td>\n",
       "      <td>2</td>\n",
       "      <td>NaN</td>\n",
       "      <td>5.0</td>\n",
       "      <td>34.30</td>\n",
       "      <td>4</td>\n",
       "      <td>NaN</td>\n",
       "      <td>...</td>\n",
       "      <td>8.30</td>\n",
       "      <td>0.0</td>\n",
       "      <td>Санкт-Петербург</td>\n",
       "      <td>21741.0</td>\n",
       "      <td>13933.0</td>\n",
       "      <td>1.0</td>\n",
       "      <td>90.0</td>\n",
       "      <td>2.0</td>\n",
       "      <td>574.0</td>\n",
       "      <td>558.0</td>\n",
       "    </tr>\n",
       "    <tr>\n",
       "      <th>3</th>\n",
       "      <td>0</td>\n",
       "      <td>64900000.0</td>\n",
       "      <td>159.00</td>\n",
       "      <td>2015-07-24T00:00:00</td>\n",
       "      <td>3</td>\n",
       "      <td>NaN</td>\n",
       "      <td>14.0</td>\n",
       "      <td>NaN</td>\n",
       "      <td>9</td>\n",
       "      <td>NaN</td>\n",
       "      <td>...</td>\n",
       "      <td>NaN</td>\n",
       "      <td>0.0</td>\n",
       "      <td>Санкт-Петербург</td>\n",
       "      <td>28098.0</td>\n",
       "      <td>6800.0</td>\n",
       "      <td>2.0</td>\n",
       "      <td>84.0</td>\n",
       "      <td>3.0</td>\n",
       "      <td>234.0</td>\n",
       "      <td>424.0</td>\n",
       "    </tr>\n",
       "    <tr>\n",
       "      <th>4</th>\n",
       "      <td>2</td>\n",
       "      <td>10000000.0</td>\n",
       "      <td>100.00</td>\n",
       "      <td>2018-06-19T00:00:00</td>\n",
       "      <td>2</td>\n",
       "      <td>3.03</td>\n",
       "      <td>14.0</td>\n",
       "      <td>32.00</td>\n",
       "      <td>13</td>\n",
       "      <td>NaN</td>\n",
       "      <td>...</td>\n",
       "      <td>41.00</td>\n",
       "      <td>NaN</td>\n",
       "      <td>Санкт-Петербург</td>\n",
       "      <td>31856.0</td>\n",
       "      <td>8098.0</td>\n",
       "      <td>2.0</td>\n",
       "      <td>112.0</td>\n",
       "      <td>1.0</td>\n",
       "      <td>48.0</td>\n",
       "      <td>121.0</td>\n",
       "    </tr>\n",
       "    <tr>\n",
       "      <th>5</th>\n",
       "      <td>10</td>\n",
       "      <td>2890000.0</td>\n",
       "      <td>30.40</td>\n",
       "      <td>2018-09-10T00:00:00</td>\n",
       "      <td>1</td>\n",
       "      <td>NaN</td>\n",
       "      <td>12.0</td>\n",
       "      <td>14.40</td>\n",
       "      <td>5</td>\n",
       "      <td>NaN</td>\n",
       "      <td>...</td>\n",
       "      <td>9.10</td>\n",
       "      <td>NaN</td>\n",
       "      <td>городской посёлок Янино-1</td>\n",
       "      <td>NaN</td>\n",
       "      <td>NaN</td>\n",
       "      <td>NaN</td>\n",
       "      <td>NaN</td>\n",
       "      <td>NaN</td>\n",
       "      <td>NaN</td>\n",
       "      <td>55.0</td>\n",
       "    </tr>\n",
       "    <tr>\n",
       "      <th>6</th>\n",
       "      <td>6</td>\n",
       "      <td>3700000.0</td>\n",
       "      <td>37.30</td>\n",
       "      <td>2017-11-02T00:00:00</td>\n",
       "      <td>1</td>\n",
       "      <td>NaN</td>\n",
       "      <td>26.0</td>\n",
       "      <td>10.60</td>\n",
       "      <td>6</td>\n",
       "      <td>NaN</td>\n",
       "      <td>...</td>\n",
       "      <td>14.40</td>\n",
       "      <td>1.0</td>\n",
       "      <td>посёлок Парголово</td>\n",
       "      <td>52996.0</td>\n",
       "      <td>19143.0</td>\n",
       "      <td>0.0</td>\n",
       "      <td>NaN</td>\n",
       "      <td>0.0</td>\n",
       "      <td>NaN</td>\n",
       "      <td>155.0</td>\n",
       "    </tr>\n",
       "    <tr>\n",
       "      <th>7</th>\n",
       "      <td>5</td>\n",
       "      <td>7915000.0</td>\n",
       "      <td>71.60</td>\n",
       "      <td>2019-04-18T00:00:00</td>\n",
       "      <td>2</td>\n",
       "      <td>NaN</td>\n",
       "      <td>24.0</td>\n",
       "      <td>NaN</td>\n",
       "      <td>22</td>\n",
       "      <td>NaN</td>\n",
       "      <td>...</td>\n",
       "      <td>18.90</td>\n",
       "      <td>2.0</td>\n",
       "      <td>Санкт-Петербург</td>\n",
       "      <td>23982.0</td>\n",
       "      <td>11634.0</td>\n",
       "      <td>0.0</td>\n",
       "      <td>NaN</td>\n",
       "      <td>0.0</td>\n",
       "      <td>NaN</td>\n",
       "      <td>NaN</td>\n",
       "    </tr>\n",
       "    <tr>\n",
       "      <th>8</th>\n",
       "      <td>20</td>\n",
       "      <td>2900000.0</td>\n",
       "      <td>33.16</td>\n",
       "      <td>2018-05-23T00:00:00</td>\n",
       "      <td>1</td>\n",
       "      <td>NaN</td>\n",
       "      <td>27.0</td>\n",
       "      <td>15.43</td>\n",
       "      <td>26</td>\n",
       "      <td>NaN</td>\n",
       "      <td>...</td>\n",
       "      <td>8.81</td>\n",
       "      <td>NaN</td>\n",
       "      <td>посёлок Мурино</td>\n",
       "      <td>NaN</td>\n",
       "      <td>NaN</td>\n",
       "      <td>NaN</td>\n",
       "      <td>NaN</td>\n",
       "      <td>NaN</td>\n",
       "      <td>NaN</td>\n",
       "      <td>189.0</td>\n",
       "    </tr>\n",
       "    <tr>\n",
       "      <th>9</th>\n",
       "      <td>18</td>\n",
       "      <td>5400000.0</td>\n",
       "      <td>61.00</td>\n",
       "      <td>2017-02-26T00:00:00</td>\n",
       "      <td>3</td>\n",
       "      <td>2.50</td>\n",
       "      <td>9.0</td>\n",
       "      <td>43.60</td>\n",
       "      <td>7</td>\n",
       "      <td>NaN</td>\n",
       "      <td>...</td>\n",
       "      <td>6.50</td>\n",
       "      <td>2.0</td>\n",
       "      <td>Санкт-Петербург</td>\n",
       "      <td>50898.0</td>\n",
       "      <td>15008.0</td>\n",
       "      <td>0.0</td>\n",
       "      <td>NaN</td>\n",
       "      <td>0.0</td>\n",
       "      <td>NaN</td>\n",
       "      <td>289.0</td>\n",
       "    </tr>\n",
       "  </tbody>\n",
       "</table>\n",
       "<p>10 rows × 22 columns</p>\n",
       "</div>"
      ],
      "text/plain": [
       "   total_images  last_price  total_area first_day_exposition  rooms  \\\n",
       "0            20  13000000.0      108.00  2019-03-07T00:00:00      3   \n",
       "1             7   3350000.0       40.40  2018-12-04T00:00:00      1   \n",
       "2            10   5196000.0       56.00  2015-08-20T00:00:00      2   \n",
       "3             0  64900000.0      159.00  2015-07-24T00:00:00      3   \n",
       "4             2  10000000.0      100.00  2018-06-19T00:00:00      2   \n",
       "5            10   2890000.0       30.40  2018-09-10T00:00:00      1   \n",
       "6             6   3700000.0       37.30  2017-11-02T00:00:00      1   \n",
       "7             5   7915000.0       71.60  2019-04-18T00:00:00      2   \n",
       "8            20   2900000.0       33.16  2018-05-23T00:00:00      1   \n",
       "9            18   5400000.0       61.00  2017-02-26T00:00:00      3   \n",
       "\n",
       "   ceiling_height  floors_total  living_area  floor is_apartment  ...  \\\n",
       "0            2.70          16.0        51.00      8          NaN  ...   \n",
       "1             NaN          11.0        18.60      1          NaN  ...   \n",
       "2             NaN           5.0        34.30      4          NaN  ...   \n",
       "3             NaN          14.0          NaN      9          NaN  ...   \n",
       "4            3.03          14.0        32.00     13          NaN  ...   \n",
       "5             NaN          12.0        14.40      5          NaN  ...   \n",
       "6             NaN          26.0        10.60      6          NaN  ...   \n",
       "7             NaN          24.0          NaN     22          NaN  ...   \n",
       "8             NaN          27.0        15.43     26          NaN  ...   \n",
       "9            2.50           9.0        43.60      7          NaN  ...   \n",
       "\n",
       "   kitchen_area  balcony              locality_name  airports_nearest  \\\n",
       "0         25.00      NaN            Санкт-Петербург           18863.0   \n",
       "1         11.00      2.0             посёлок Шушары           12817.0   \n",
       "2          8.30      0.0            Санкт-Петербург           21741.0   \n",
       "3           NaN      0.0            Санкт-Петербург           28098.0   \n",
       "4         41.00      NaN            Санкт-Петербург           31856.0   \n",
       "5          9.10      NaN  городской посёлок Янино-1               NaN   \n",
       "6         14.40      1.0          посёлок Парголово           52996.0   \n",
       "7         18.90      2.0            Санкт-Петербург           23982.0   \n",
       "8          8.81      NaN             посёлок Мурино               NaN   \n",
       "9          6.50      2.0            Санкт-Петербург           50898.0   \n",
       "\n",
       "  cityCenters_nearest  parks_around3000  parks_nearest  ponds_around3000  \\\n",
       "0             16028.0               1.0          482.0               2.0   \n",
       "1             18603.0               0.0            NaN               0.0   \n",
       "2             13933.0               1.0           90.0               2.0   \n",
       "3              6800.0               2.0           84.0               3.0   \n",
       "4              8098.0               2.0          112.0               1.0   \n",
       "5                 NaN               NaN            NaN               NaN   \n",
       "6             19143.0               0.0            NaN               0.0   \n",
       "7             11634.0               0.0            NaN               0.0   \n",
       "8                 NaN               NaN            NaN               NaN   \n",
       "9             15008.0               0.0            NaN               0.0   \n",
       "\n",
       "   ponds_nearest  days_exposition  \n",
       "0          755.0              NaN  \n",
       "1            NaN             81.0  \n",
       "2          574.0            558.0  \n",
       "3          234.0            424.0  \n",
       "4           48.0            121.0  \n",
       "5            NaN             55.0  \n",
       "6            NaN            155.0  \n",
       "7            NaN              NaN  \n",
       "8            NaN            189.0  \n",
       "9            NaN            289.0  \n",
       "\n",
       "[10 rows x 22 columns]"
      ]
     },
     "execution_count": 1,
     "metadata": {},
     "output_type": "execute_result"
    }
   ],
   "source": [
    "import pandas as pd\n",
    "import matplotlib.pyplot as plt\n",
    "import seaborn as sns\n",
    "import numpy as np\n",
    "\n",
    "df = pd.read_csv('/datasets/real_estate_data.csv', sep='\\t')\n",
    "df.head(10)"
   ]
  },
  {
   "cell_type": "markdown",
   "metadata": {},
   "source": [
    "Установим типы данных и количество не нулевых значений:"
   ]
  },
  {
   "cell_type": "code",
   "execution_count": 2,
   "metadata": {},
   "outputs": [
    {
     "name": "stdout",
     "output_type": "stream",
     "text": [
      "<class 'pandas.core.frame.DataFrame'>\n",
      "RangeIndex: 23699 entries, 0 to 23698\n",
      "Data columns (total 22 columns):\n",
      " #   Column                Non-Null Count  Dtype  \n",
      "---  ------                --------------  -----  \n",
      " 0   total_images          23699 non-null  int64  \n",
      " 1   last_price            23699 non-null  float64\n",
      " 2   total_area            23699 non-null  float64\n",
      " 3   first_day_exposition  23699 non-null  object \n",
      " 4   rooms                 23699 non-null  int64  \n",
      " 5   ceiling_height        14504 non-null  float64\n",
      " 6   floors_total          23613 non-null  float64\n",
      " 7   living_area           21796 non-null  float64\n",
      " 8   floor                 23699 non-null  int64  \n",
      " 9   is_apartment          2775 non-null   object \n",
      " 10  studio                23699 non-null  bool   \n",
      " 11  open_plan             23699 non-null  bool   \n",
      " 12  kitchen_area          21421 non-null  float64\n",
      " 13  balcony               12180 non-null  float64\n",
      " 14  locality_name         23650 non-null  object \n",
      " 15  airports_nearest      18157 non-null  float64\n",
      " 16  cityCenters_nearest   18180 non-null  float64\n",
      " 17  parks_around3000      18181 non-null  float64\n",
      " 18  parks_nearest         8079 non-null   float64\n",
      " 19  ponds_around3000      18181 non-null  float64\n",
      " 20  ponds_nearest         9110 non-null   float64\n",
      " 21  days_exposition       20518 non-null  float64\n",
      "dtypes: bool(2), float64(14), int64(3), object(3)\n",
      "memory usage: 3.7+ MB\n"
     ]
    }
   ],
   "source": [
    "df.info()"
   ]
  },
  {
   "cell_type": "markdown",
   "metadata": {
    "id": "9L3e0rs2uqj7"
   },
   "source": [
    "### Вывод\n",
    "\n",
    "В датасете 23699 строк, и 22 клонки:\n",
    "* first_day_exposition - типа object а должен быть типа datetime\n",
    "* ceiling_height - имеются нулевые значения\n",
    "* floors_total - имеются нулевые значения и должен быть типа int (количество этажей целое число) а не float\n",
    "* living_area - имеются нулевые значения\n",
    "* is_apartment - имеются нулевые значения, категоральная переменная, должны привести к типу bool\n",
    "* kitchen_area - имеются нулевые значения\n",
    "* balcony - имеются нулевые значения и должен быть типа int (количество балконов целое число) а не float\n",
    "* airports_nearest - имеются нулевые значения \n",
    "* cityCenters_nearest - имеются нулевые значения и должен быть типа int\n",
    "* parks_around3000 - имеются нулевые значения и должен быть типа int\n",
    "* parks_nearest - имеются нулевые значения и должен быть типа int\n",
    "* ponds_around3000 - имеются нулевые значения и должен быть типа int\n",
    "* ponds_nearest - имеются нулевые значения и должен быть типа int\n",
    "* days_exposition - имеются нулевые значения и должен быть типа int"
   ]
  },
  {
   "cell_type": "markdown",
   "metadata": {
    "id": "r6n1CZDuuqj8"
   },
   "source": [
    "## Предобработка данных"
   ]
  },
  {
   "cell_type": "markdown",
   "metadata": {},
   "source": [
    "Определим, изучим и обработаем пропущенные значения:"
   ]
  },
  {
   "cell_type": "code",
   "execution_count": 42,
   "metadata": {},
   "outputs": [
    {
     "name": "stdout",
     "output_type": "stream",
     "text": [
      "total_images              0.000000\n",
      "last_price                0.000000\n",
      "total_area                0.000000\n",
      "first_day_exposition      0.000000\n",
      "rooms                     0.000000\n",
      "ceiling_height            0.387991\n",
      "floors_total              0.000000\n",
      "living_area               0.080299\n",
      "floor                     0.000000\n",
      "is_apartment              0.000000\n",
      "studio                    0.000000\n",
      "open_plan                 0.000000\n",
      "kitchen_area              0.096122\n",
      "balcony                   0.000000\n",
      "locality_name             0.002068\n",
      "airports_nearest          0.233850\n",
      "cityCenters_nearest       0.000000\n",
      "parks_around3000          0.232837\n",
      "parks_nearest             0.659100\n",
      "ponds_around3000          0.232837\n",
      "ponds_nearest             0.615596\n",
      "days_exposition           0.134225\n",
      "price_per_square_meter    0.000000\n",
      "weekday_exposition        0.000000\n",
      "month_exposition          0.000000\n",
      "year_exposition           0.000000\n",
      "floor_category            0.000000\n",
      "useful_area_ratio         0.080299\n",
      "kitchen_area_ratio        0.096122\n",
      "dtype: float64\n"
     ]
    },
    {
     "data": {
      "text/plain": [
       "<AxesSubplot:>"
      ]
     },
     "execution_count": 42,
     "metadata": {},
     "output_type": "execute_result"
    },
    {
     "data": {
      "image/png": "[encoded data removed]",
      "text/plain": [
       "<Figure size 720x720 with 2 Axes>"
      ]
     },
     "metadata": {
      "needs_background": "light"
     },
     "output_type": "display_data"
    }
   ],
   "source": [
    "print(df.isna().mean()) # Методами .isna() и .mean() опредилим долю пропушенных значений\n",
    "\n",
    "plt.figure(figsize=(10,10))\n",
    "sns.heatmap(df.isna().transpose(),\n",
    "            cmap=\"YlGnBu\",\n",
    "            cbar_kws={'label': 'Missing Data'})"
   ]
  },
  {
   "cell_type": "code",
   "execution_count": 4,
   "metadata": {},
   "outputs": [
    {
     "data": {
      "text/html": [
       "<div>\n",
       "<style scoped>\n",
       "    .dataframe tbody tr th:only-of-type {\n",
       "        vertical-align: middle;\n",
       "    }\n",
       "\n",
       "    .dataframe tbody tr th {\n",
       "        vertical-align: top;\n",
       "    }\n",
       "\n",
       "    .dataframe thead th {\n",
       "        text-align: right;\n",
       "    }\n",
       "</style>\n",
       "<table border=\"1\" class=\"dataframe\">\n",
       "  <thead>\n",
       "    <tr style=\"text-align: right;\">\n",
       "      <th></th>\n",
       "      <th>total_images</th>\n",
       "      <th>last_price</th>\n",
       "      <th>total_area</th>\n",
       "      <th>first_day_exposition</th>\n",
       "      <th>rooms</th>\n",
       "      <th>ceiling_height</th>\n",
       "      <th>floors_total</th>\n",
       "      <th>living_area</th>\n",
       "      <th>floor</th>\n",
       "      <th>is_apartment</th>\n",
       "      <th>...</th>\n",
       "      <th>kitchen_area</th>\n",
       "      <th>balcony</th>\n",
       "      <th>locality_name</th>\n",
       "      <th>airports_nearest</th>\n",
       "      <th>cityCenters_nearest</th>\n",
       "      <th>parks_around3000</th>\n",
       "      <th>parks_nearest</th>\n",
       "      <th>ponds_around3000</th>\n",
       "      <th>ponds_nearest</th>\n",
       "      <th>days_exposition</th>\n",
       "    </tr>\n",
       "  </thead>\n",
       "  <tbody>\n",
       "    <tr>\n",
       "      <th>0</th>\n",
       "      <td>20</td>\n",
       "      <td>13000000.0</td>\n",
       "      <td>108.0</td>\n",
       "      <td>2019-03-07T00:00:00</td>\n",
       "      <td>3</td>\n",
       "      <td>2.70</td>\n",
       "      <td>16.0</td>\n",
       "      <td>51.00</td>\n",
       "      <td>8</td>\n",
       "      <td>False</td>\n",
       "      <td>...</td>\n",
       "      <td>25.0</td>\n",
       "      <td>0.0</td>\n",
       "      <td>Санкт-Петербург</td>\n",
       "      <td>18863.0</td>\n",
       "      <td>16028.0</td>\n",
       "      <td>1.0</td>\n",
       "      <td>482.0</td>\n",
       "      <td>2.0</td>\n",
       "      <td>755.0</td>\n",
       "      <td>NaN</td>\n",
       "    </tr>\n",
       "    <tr>\n",
       "      <th>7</th>\n",
       "      <td>5</td>\n",
       "      <td>7915000.0</td>\n",
       "      <td>71.6</td>\n",
       "      <td>2019-04-18T00:00:00</td>\n",
       "      <td>2</td>\n",
       "      <td>NaN</td>\n",
       "      <td>24.0</td>\n",
       "      <td>NaN</td>\n",
       "      <td>22</td>\n",
       "      <td>False</td>\n",
       "      <td>...</td>\n",
       "      <td>18.9</td>\n",
       "      <td>2.0</td>\n",
       "      <td>Санкт-Петербург</td>\n",
       "      <td>23982.0</td>\n",
       "      <td>11634.0</td>\n",
       "      <td>0.0</td>\n",
       "      <td>NaN</td>\n",
       "      <td>0.0</td>\n",
       "      <td>NaN</td>\n",
       "      <td>NaN</td>\n",
       "    </tr>\n",
       "    <tr>\n",
       "      <th>44</th>\n",
       "      <td>13</td>\n",
       "      <td>5350000.0</td>\n",
       "      <td>40.0</td>\n",
       "      <td>2018-11-18T00:00:00</td>\n",
       "      <td>1</td>\n",
       "      <td>NaN</td>\n",
       "      <td>22.0</td>\n",
       "      <td>NaN</td>\n",
       "      <td>3</td>\n",
       "      <td>False</td>\n",
       "      <td>...</td>\n",
       "      <td>NaN</td>\n",
       "      <td>1.0</td>\n",
       "      <td>Санкт-Петербург</td>\n",
       "      <td>30471.0</td>\n",
       "      <td>11603.0</td>\n",
       "      <td>1.0</td>\n",
       "      <td>620.0</td>\n",
       "      <td>1.0</td>\n",
       "      <td>1152.0</td>\n",
       "      <td>NaN</td>\n",
       "    </tr>\n",
       "    <tr>\n",
       "      <th>45</th>\n",
       "      <td>17</td>\n",
       "      <td>5200000.0</td>\n",
       "      <td>50.6</td>\n",
       "      <td>2018-12-02T00:00:00</td>\n",
       "      <td>2</td>\n",
       "      <td>2.65</td>\n",
       "      <td>9.0</td>\n",
       "      <td>30.30</td>\n",
       "      <td>7</td>\n",
       "      <td>False</td>\n",
       "      <td>...</td>\n",
       "      <td>7.0</td>\n",
       "      <td>0.0</td>\n",
       "      <td>Санкт-Петербург</td>\n",
       "      <td>30011.0</td>\n",
       "      <td>12872.0</td>\n",
       "      <td>0.0</td>\n",
       "      <td>NaN</td>\n",
       "      <td>0.0</td>\n",
       "      <td>NaN</td>\n",
       "      <td>NaN</td>\n",
       "    </tr>\n",
       "    <tr>\n",
       "      <th>46</th>\n",
       "      <td>17</td>\n",
       "      <td>6600000.0</td>\n",
       "      <td>52.1</td>\n",
       "      <td>2019-01-31T00:00:00</td>\n",
       "      <td>2</td>\n",
       "      <td>2.60</td>\n",
       "      <td>24.0</td>\n",
       "      <td>29.70</td>\n",
       "      <td>9</td>\n",
       "      <td>False</td>\n",
       "      <td>...</td>\n",
       "      <td>8.3</td>\n",
       "      <td>2.0</td>\n",
       "      <td>Санкт-Петербург</td>\n",
       "      <td>15114.0</td>\n",
       "      <td>12702.0</td>\n",
       "      <td>0.0</td>\n",
       "      <td>NaN</td>\n",
       "      <td>0.0</td>\n",
       "      <td>NaN</td>\n",
       "      <td>NaN</td>\n",
       "    </tr>\n",
       "    <tr>\n",
       "      <th>49</th>\n",
       "      <td>1</td>\n",
       "      <td>3050000.0</td>\n",
       "      <td>30.8</td>\n",
       "      <td>2018-11-22T00:00:00</td>\n",
       "      <td>1</td>\n",
       "      <td>2.50</td>\n",
       "      <td>9.0</td>\n",
       "      <td>18.00</td>\n",
       "      <td>7</td>\n",
       "      <td>False</td>\n",
       "      <td>...</td>\n",
       "      <td>6.0</td>\n",
       "      <td>0.0</td>\n",
       "      <td>Санкт-Петербург</td>\n",
       "      <td>45341.0</td>\n",
       "      <td>16603.0</td>\n",
       "      <td>1.0</td>\n",
       "      <td>675.0</td>\n",
       "      <td>0.0</td>\n",
       "      <td>NaN</td>\n",
       "      <td>NaN</td>\n",
       "    </tr>\n",
       "    <tr>\n",
       "      <th>52</th>\n",
       "      <td>20</td>\n",
       "      <td>11795000.0</td>\n",
       "      <td>136.0</td>\n",
       "      <td>2017-09-22T00:00:00</td>\n",
       "      <td>6</td>\n",
       "      <td>3.00</td>\n",
       "      <td>2.0</td>\n",
       "      <td>94.00</td>\n",
       "      <td>2</td>\n",
       "      <td>False</td>\n",
       "      <td>...</td>\n",
       "      <td>11.0</td>\n",
       "      <td>1.0</td>\n",
       "      <td>Санкт-Петербург</td>\n",
       "      <td>16510.0</td>\n",
       "      <td>6582.0</td>\n",
       "      <td>1.0</td>\n",
       "      <td>526.0</td>\n",
       "      <td>0.0</td>\n",
       "      <td>NaN</td>\n",
       "      <td>NaN</td>\n",
       "    </tr>\n",
       "    <tr>\n",
       "      <th>71</th>\n",
       "      <td>20</td>\n",
       "      <td>4850000.0</td>\n",
       "      <td>57.5</td>\n",
       "      <td>2019-03-27T00:00:00</td>\n",
       "      <td>3</td>\n",
       "      <td>2.50</td>\n",
       "      <td>9.0</td>\n",
       "      <td>39.00</td>\n",
       "      <td>8</td>\n",
       "      <td>False</td>\n",
       "      <td>...</td>\n",
       "      <td>6.2</td>\n",
       "      <td>0.0</td>\n",
       "      <td>Санкт-Петербург</td>\n",
       "      <td>33623.0</td>\n",
       "      <td>12267.0</td>\n",
       "      <td>1.0</td>\n",
       "      <td>334.0</td>\n",
       "      <td>1.0</td>\n",
       "      <td>333.0</td>\n",
       "      <td>NaN</td>\n",
       "    </tr>\n",
       "    <tr>\n",
       "      <th>81</th>\n",
       "      <td>9</td>\n",
       "      <td>10949000.0</td>\n",
       "      <td>68.0</td>\n",
       "      <td>2018-12-27T00:00:00</td>\n",
       "      <td>1</td>\n",
       "      <td>NaN</td>\n",
       "      <td>10.0</td>\n",
       "      <td>NaN</td>\n",
       "      <td>6</td>\n",
       "      <td>False</td>\n",
       "      <td>...</td>\n",
       "      <td>NaN</td>\n",
       "      <td>0.0</td>\n",
       "      <td>Санкт-Петербург</td>\n",
       "      <td>NaN</td>\n",
       "      <td>999999.0</td>\n",
       "      <td>NaN</td>\n",
       "      <td>NaN</td>\n",
       "      <td>NaN</td>\n",
       "      <td>NaN</td>\n",
       "      <td>NaN</td>\n",
       "    </tr>\n",
       "    <tr>\n",
       "      <th>84</th>\n",
       "      <td>11</td>\n",
       "      <td>2400000.0</td>\n",
       "      <td>43.9</td>\n",
       "      <td>2019-03-13T00:00:00</td>\n",
       "      <td>2</td>\n",
       "      <td>NaN</td>\n",
       "      <td>2.0</td>\n",
       "      <td>27.46</td>\n",
       "      <td>1</td>\n",
       "      <td>False</td>\n",
       "      <td>...</td>\n",
       "      <td>5.2</td>\n",
       "      <td>0.0</td>\n",
       "      <td>Кировск</td>\n",
       "      <td>NaN</td>\n",
       "      <td>999999.0</td>\n",
       "      <td>NaN</td>\n",
       "      <td>NaN</td>\n",
       "      <td>NaN</td>\n",
       "      <td>NaN</td>\n",
       "      <td>NaN</td>\n",
       "    </tr>\n",
       "  </tbody>\n",
       "</table>\n",
       "<p>10 rows × 22 columns</p>\n",
       "</div>"
      ],
      "text/plain": [
       "    total_images  last_price  total_area first_day_exposition  rooms  \\\n",
       "0             20  13000000.0       108.0  2019-03-07T00:00:00      3   \n",
       "7              5   7915000.0        71.6  2019-04-18T00:00:00      2   \n",
       "44            13   5350000.0        40.0  2018-11-18T00:00:00      1   \n",
       "45            17   5200000.0        50.6  2018-12-02T00:00:00      2   \n",
       "46            17   6600000.0        52.1  2019-01-31T00:00:00      2   \n",
       "49             1   3050000.0        30.8  2018-11-22T00:00:00      1   \n",
       "52            20  11795000.0       136.0  2017-09-22T00:00:00      6   \n",
       "71            20   4850000.0        57.5  2019-03-27T00:00:00      3   \n",
       "81             9  10949000.0        68.0  2018-12-27T00:00:00      1   \n",
       "84            11   2400000.0        43.9  2019-03-13T00:00:00      2   \n",
       "\n",
       "    ceiling_height  floors_total  living_area  floor  is_apartment  ...  \\\n",
       "0             2.70          16.0        51.00      8         False  ...   \n",
       "7              NaN          24.0          NaN     22         False  ...   \n",
       "44             NaN          22.0          NaN      3         False  ...   \n",
       "45            2.65           9.0        30.30      7         False  ...   \n",
       "46            2.60          24.0        29.70      9         False  ...   \n",
       "49            2.50           9.0        18.00      7         False  ...   \n",
       "52            3.00           2.0        94.00      2         False  ...   \n",
       "71            2.50           9.0        39.00      8         False  ...   \n",
       "81             NaN          10.0          NaN      6         False  ...   \n",
       "84             NaN           2.0        27.46      1         False  ...   \n",
       "\n",
       "    kitchen_area  balcony    locality_name  airports_nearest  \\\n",
       "0           25.0      0.0  Санкт-Петербург           18863.0   \n",
       "7           18.9      2.0  Санкт-Петербург           23982.0   \n",
       "44           NaN      1.0  Санкт-Петербург           30471.0   \n",
       "45           7.0      0.0  Санкт-Петербург           30011.0   \n",
       "46           8.3      2.0  Санкт-Петербург           15114.0   \n",
       "49           6.0      0.0  Санкт-Петербург           45341.0   \n",
       "52          11.0      1.0  Санкт-Петербург           16510.0   \n",
       "71           6.2      0.0  Санкт-Петербург           33623.0   \n",
       "81           NaN      0.0  Санкт-Петербург               NaN   \n",
       "84           5.2      0.0          Кировск               NaN   \n",
       "\n",
       "   cityCenters_nearest  parks_around3000  parks_nearest  ponds_around3000  \\\n",
       "0              16028.0               1.0          482.0               2.0   \n",
       "7              11634.0               0.0            NaN               0.0   \n",
       "44             11603.0               1.0          620.0               1.0   \n",
       "45             12872.0               0.0            NaN               0.0   \n",
       "46             12702.0               0.0            NaN               0.0   \n",
       "49             16603.0               1.0          675.0               0.0   \n",
       "52              6582.0               1.0          526.0               0.0   \n",
       "71             12267.0               1.0          334.0               1.0   \n",
       "81            999999.0               NaN            NaN               NaN   \n",
       "84            999999.0               NaN            NaN               NaN   \n",
       "\n",
       "    ponds_nearest  days_exposition  \n",
       "0           755.0              NaN  \n",
       "7             NaN              NaN  \n",
       "44         1152.0              NaN  \n",
       "45            NaN              NaN  \n",
       "46            NaN              NaN  \n",
       "49            NaN              NaN  \n",
       "52            NaN              NaN  \n",
       "71          333.0              NaN  \n",
       "81            NaN              NaN  \n",
       "84            NaN              NaN  \n",
       "\n",
       "[10 rows x 22 columns]"
      ]
     },
     "metadata": {},
     "output_type": "display_data"
    },
    {
     "data": {
      "text/plain": [
       "total_images            0.000000\n",
       "last_price              0.000000\n",
       "total_area              0.000000\n",
       "first_day_exposition    0.000000\n",
       "rooms                   0.000000\n",
       "ceiling_height          0.387991\n",
       "floors_total            0.000000\n",
       "living_area             0.080299\n",
       "floor                   0.000000\n",
       "is_apartment            0.000000\n",
       "studio                  0.000000\n",
       "open_plan               0.000000\n",
       "kitchen_area            0.096122\n",
       "balcony                 0.000000\n",
       "locality_name           0.002068\n",
       "airports_nearest        0.233850\n",
       "cityCenters_nearest     0.000000\n",
       "parks_around3000        0.232837\n",
       "parks_nearest           0.659100\n",
       "ponds_around3000        0.232837\n",
       "ponds_nearest           0.615596\n",
       "days_exposition         0.134225\n",
       "dtype: float64"
      ]
     },
     "execution_count": 4,
     "metadata": {},
     "output_type": "execute_result"
    }
   ],
   "source": [
    "df['balcony'] = df['balcony'].fillna(0) # Пропущенные значения в стобце ['balcony'] заменим на 0, скорее всего это недвижимость\n",
    "# без балконов и при подаче объявления владельцы просто это не указали\n",
    "\n",
    "df['is_apartment'] = df['is_apartment'].fillna(False) # столбец ['is_apartment'] имеет пропуски в 88 % значений, \n",
    "# установить точную принадлежность недвижимости к этому признаку не представляется возможным  скорее всего владельцы \n",
    "# у которых тип недвижимости - \"апартаменты\" точно устанавливали этот признак а остальные его пропускали, заменим\n",
    "# значения на тип boll - False \n",
    "\n",
    "\n",
    "df['floors_total'] = df['floors_total'].fillna(df['floor']) # Пропущенные значения в стобце ['floors_total'] заменим на значение\n",
    "# ['floor'], скорее всего владельцы последних этажей указывали только этаж квартиры а не полную этажность здания\n",
    "\n",
    "\n",
    "df['cityCenters_nearest'] = df['cityCenters_nearest'].fillna(999999) # Пропущенные значения в стобце ['cityCenters_nearest'] \n",
    "# удаление от центра города, адекватных значений для заполнения не найдено, можно конечно заполнить часть значений в зависимсоти\n",
    "# от населенного пункта, не будем тратить на это наше время, заполним большим удалением 99 км. чтобы они не попали в выборку\n",
    "# последующего анализа данных по центральной части Санкт-Петербурга\n",
    "\n",
    "\n",
    "df[df['days_exposition'].isnull()].head(10) # Столбец ['days_exposition'] показывает сколько дней объявление находилось \n",
    "# на публикации, значение проставляется при снятии с продажи, не заполненое значение говорит нам что квартира может находиться \n",
    "# еще на продаже в любом случае какой либо зависимости пропущенных значений от других столбцов не обнаружено, нужно \n",
    "# проконсультироваться c ответственными за выгрузку, оставляем без изменений\n",
    "df.isna().mean()"
   ]
  },
  {
   "cell_type": "markdown",
   "metadata": {},
   "source": [
    "Проверим датасет на дубликаты:"
   ]
  },
  {
   "cell_type": "code",
   "execution_count": 5,
   "metadata": {},
   "outputs": [
    {
     "data": {
      "text/plain": [
       "0"
      ]
     },
     "execution_count": 5,
     "metadata": {},
     "output_type": "execute_result"
    }
   ],
   "source": [
    "df.duplicated().sum()\n"
   ]
  },
  {
   "cell_type": "markdown",
   "metadata": {},
   "source": [
    "Приведем имена колонок к snake_case:"
   ]
  },
  {
   "cell_type": "code",
   "execution_count": 6,
   "metadata": {
    "id": "F9Pk0zxGuqj8"
   },
   "outputs": [
    {
     "name": "stdout",
     "output_type": "stream",
     "text": [
      "Index(['total_images', 'last_price', 'total_area', 'first_day_exposition',\n",
      "       'rooms', 'ceiling_height', 'floors_total', 'living_area', 'floor',\n",
      "       'is_apartment', 'studio', 'open_plan', 'kitchen_area', 'balcony',\n",
      "       'locality_name', 'airports_nearest', 'cityCenters_nearest',\n",
      "       'parks_around3000', 'parks_nearest', 'ponds_around3000',\n",
      "       'ponds_nearest', 'days_exposition'],\n",
      "      dtype='object')\n"
     ]
    }
   ],
   "source": [
    "print(df.columns) "
   ]
  },
  {
   "cell_type": "markdown",
   "metadata": {},
   "source": [
    "Данные в стобцах:\n",
    "    \n",
    "* df['total_images']\n",
    "* df['ceiling_height']\n",
    "* df['floor']\n",
    "* df['is_apartment']\n",
    "* df['total_area']\n",
    "* df['rooms']\n",
    "* df['airports_nearest']\n",
    "* df['parks_around3000']\n",
    "* df['parks_nearest']\n",
    "* df['ponds_around3000']\n",
    "\n",
    "пока что не вызывают нареканий:"
   ]
  },
  {
   "cell_type": "code",
   "execution_count": 7,
   "metadata": {
    "scrolled": true
   },
   "outputs": [
    {
     "data": {
      "text/plain": [
       "count    14504.000000\n",
       "mean         2.771499\n",
       "std          1.261056\n",
       "min          1.000000\n",
       "25%          2.520000\n",
       "50%          2.650000\n",
       "75%          2.800000\n",
       "max        100.000000\n",
       "Name: ceiling_height, dtype: float64"
      ]
     },
     "execution_count": 7,
     "metadata": {},
     "output_type": "execute_result"
    },
    {
     "data": {
      "image/png": "[encoded data removed]",
      "text/plain": [
       "<Figure size 432x288 with 1 Axes>"
      ]
     },
     "metadata": {
      "needs_background": "light"
     },
     "output_type": "display_data"
    }
   ],
   "source": [
    "# Пропуски в 'locality_name' не будем трогать т.к. точно определить район не представляентся возможным\n",
    "df['locality_name'].value_counts()\n",
    "\n",
    "# При анализе 'ceiling_height' обратим внимание что есть как аномально большие значения так и аномально малые значения\n",
    "df['ceiling_height'].sort_values().plot(y='ceiling_height', kind='hist', bins=100, range=(2,5))\n",
    "\n",
    "df['ceiling_height'].describe() # Медиана и среднее по 'ceiling_height' не сильно различаются, пока что оставим как есть\n",
    "\n"
   ]
  },
  {
   "cell_type": "markdown",
   "metadata": {},
   "source": [
    "Приведем данные к адекватным типам:"
   ]
  },
  {
   "cell_type": "code",
   "execution_count": 8,
   "metadata": {},
   "outputs": [
    {
     "name": "stdout",
     "output_type": "stream",
     "text": [
      "<class 'pandas.core.frame.DataFrame'>\n",
      "RangeIndex: 23699 entries, 0 to 23698\n",
      "Data columns (total 22 columns):\n",
      " #   Column                Non-Null Count  Dtype         \n",
      "---  ------                --------------  -----         \n",
      " 0   total_images          23699 non-null  int64         \n",
      " 1   last_price            23699 non-null  float64       \n",
      " 2   total_area            23699 non-null  int64         \n",
      " 3   first_day_exposition  23699 non-null  datetime64[ns]\n",
      " 4   rooms                 23699 non-null  int64         \n",
      " 5   ceiling_height        14504 non-null  float64       \n",
      " 6   floors_total          23699 non-null  int64         \n",
      " 7   living_area           21796 non-null  float64       \n",
      " 8   floor                 23699 non-null  int64         \n",
      " 9   is_apartment          23699 non-null  bool          \n",
      " 10  studio                23699 non-null  bool          \n",
      " 11  open_plan             23699 non-null  bool          \n",
      " 12  kitchen_area          21421 non-null  float64       \n",
      " 13  balcony               23699 non-null  int64         \n",
      " 14  locality_name         23650 non-null  object        \n",
      " 15  airports_nearest      18157 non-null  float64       \n",
      " 16  cityCenters_nearest   23699 non-null  int64         \n",
      " 17  parks_around3000      18181 non-null  float64       \n",
      " 18  parks_nearest         8079 non-null   float64       \n",
      " 19  ponds_around3000      18181 non-null  float64       \n",
      " 20  ponds_nearest         9110 non-null   float64       \n",
      " 21  days_exposition       20518 non-null  float64       \n",
      "dtypes: bool(3), datetime64[ns](1), float64(10), int64(7), object(1)\n",
      "memory usage: 3.5+ MB\n"
     ]
    }
   ],
   "source": [
    "# Данные в стобце 'first_day_exposition' приведем к типу datattime формата '%Y-%m-%d' \n",
    "df['first_day_exposition'] = pd.to_datetime(df['first_day_exposition'], format='%Y-%m-%d')\n",
    "\n",
    "# Данные о последней цене пересчитаем в тыс.\n",
    "df['last_price'] = df['last_price']/1000\n",
    "df['cityCenters_nearest'] = df['cityCenters_nearest']/1000\n",
    "\n",
    "# Данные в стобцах приведем к int:\n",
    "df['balcony'] = df['balcony'].astype('int')\n",
    "df['rooms'] = df['rooms'].astype('int')\n",
    "df['balcony'] = df['balcony'].astype('int')\n",
    "df['floors_total'] = df['floors_total'].astype('int')\n",
    "df['total_area'] = df['total_area'].astype('int')\n",
    "df['cityCenters_nearest'] = df['cityCenters_nearest'].astype('int')\n",
    "\n",
    "\n",
    "df.info()"
   ]
  },
  {
   "cell_type": "code",
   "execution_count": 9,
   "metadata": {},
   "outputs": [
    {
     "data": {
      "text/plain": [
       "0.08029874678256467"
      ]
     },
     "execution_count": 9,
     "metadata": {},
     "output_type": "execute_result"
    }
   ],
   "source": [
    "# 8% данных по жилой площади не заполнены, можно конечно вычислить среднее отношение жилой площади к нежилой и заполнить \n",
    "# этими данными, но мы не будем тратить на это время\n",
    "df['living_area'].isna().mean()\n"
   ]
  },
  {
   "cell_type": "markdown",
   "metadata": {},
   "source": [
    "### Вывод\n",
    "Мы посчитали и обработали пропущенные значения, заполнили категоральные значения, привели данные к более удобным типам и привели названия столбцов к нормальном виду.\n",
    "\n",
    "Пропущенные значения в стобце 'balcony' заменили на 0, скорее всего это недвижимость\n",
    "без балконов и при подаче объявления владельцы просто это не указали\n",
    "\n",
    "'is_apartment' - установить точную принадлежность недвижимости к этому признаку не представляется возможным  скорее всего владельцы у которых тип недвижимости - \"апартаменты\" точно устанавливали этот признак а остальные его пропускали, замениkb\n",
    "значения на тип boll - False \n",
    "\n",
    "Пропущенные значения в стобце 'floors_total' заменили на значение 'floor', скорее всего владельцы последних этажей указывали только этаж квартиры а не полную этажность здания\n",
    "\n",
    "Пропущенные значения в стобце 'cityCenters_nearest' удаление от центра города, адекватных значений для заполнения не найдено, можно конечно заполнить часть значений в зависимсоти от населенного пункта, не будем тратить на это наше время, заполним большим удалением 99 км. чтобы они не попали в выборку последующего анализа данных по центральной части Санкт-Петербурга\n",
    "\n",
    "Столбец 'days_exposition' показывает сколько дней объявление находилось на публикации, значение проставляется при снятии с продажи, не заполненое значение говорит нам что квартира может находиться еще на продаже в любом случае какой либо зависимости пропущенных значений от других столбцов не обнаружено, нужно проконсультироваться c ответственными за выгрузку, оставляем без изменений.\n",
    "\n",
    "Столбец 'ceiling_height' высота потолков, трогать не будем, нет подходяшей теории заполнения, тем более это наш целевой показатель исследования, также в связи со спецификой архитектуры Санк-Петербурга разброс высоты можеь быть большим: как 2.5 метра так и более 3 метров.\n",
    "\n",
    "Столбцы 'kitchen_area', 'living_area' являются производными от 'total_area' можно конечно изучить СНИП и ТУ на планировку жилых помещение и примерно заполнить значения, но в задачах данного проекта не фигурируют - оставляем как есть.\n",
    "\n",
    "Столбц 'airports_nearest', 'cityCenters_nearest', 'parks_around3000', 'parks_nearest', 'ponds_around3000', 'ponds_nearest' также не будем трогать, может это отсутсвие данных а может отсутсвие парков и водоемов вблизи, данные по заполнению можно было примерно вышислить в разрезе населенных пунктов, так как не влияют на наше исследование не будем трогать.\n",
    "\n",
    "locality_name - название населенного пункта оставляем как есть, возможности установить название нет.\n"
   ]
  },
  {
   "cell_type": "markdown",
   "metadata": {
    "id": "NDkb4wRMuqj9"
   },
   "source": [
    "## Расчёты и добавление результатов в таблицу"
   ]
  },
  {
   "cell_type": "code",
   "execution_count": 10,
   "metadata": {
    "id": "qWGaSUbGuqj9"
   },
   "outputs": [
    {
     "data": {
      "text/plain": [
       "0        120.370370\n",
       "1         83.750000\n",
       "2         92.785714\n",
       "3        408.176101\n",
       "4        100.000000\n",
       "            ...    \n",
       "23694     72.932331\n",
       "23695     52.542373\n",
       "23696     44.642857\n",
       "23697    150.986842\n",
       "23698     42.187500\n",
       "Name: price_per_square_meter, Length: 23699, dtype: float64"
      ]
     },
     "execution_count": 10,
     "metadata": {},
     "output_type": "execute_result"
    }
   ],
   "source": [
    " # Посчитаем цену квадратного метра и добавим в датасет столбец 'price_per_square_meter' \n",
    "df['price_per_square_meter'] = df['last_price'] / df['total_area']\n",
    "   \n",
    "df['price_per_square_meter']"
   ]
  },
  {
   "cell_type": "code",
   "execution_count": 11,
   "metadata": {},
   "outputs": [
    {
     "data": {
      "text/html": [
       "<div>\n",
       "<style scoped>\n",
       "    .dataframe tbody tr th:only-of-type {\n",
       "        vertical-align: middle;\n",
       "    }\n",
       "\n",
       "    .dataframe tbody tr th {\n",
       "        vertical-align: top;\n",
       "    }\n",
       "\n",
       "    .dataframe thead th {\n",
       "        text-align: right;\n",
       "    }\n",
       "</style>\n",
       "<table border=\"1\" class=\"dataframe\">\n",
       "  <thead>\n",
       "    <tr style=\"text-align: right;\">\n",
       "      <th></th>\n",
       "      <th>year_exposition</th>\n",
       "      <th>month_exposition</th>\n",
       "      <th>weekday_exposition</th>\n",
       "    </tr>\n",
       "  </thead>\n",
       "  <tbody>\n",
       "    <tr>\n",
       "      <th>0</th>\n",
       "      <td>2019</td>\n",
       "      <td>3</td>\n",
       "      <td>3</td>\n",
       "    </tr>\n",
       "    <tr>\n",
       "      <th>1</th>\n",
       "      <td>2018</td>\n",
       "      <td>12</td>\n",
       "      <td>1</td>\n",
       "    </tr>\n",
       "    <tr>\n",
       "      <th>2</th>\n",
       "      <td>2015</td>\n",
       "      <td>8</td>\n",
       "      <td>3</td>\n",
       "    </tr>\n",
       "    <tr>\n",
       "      <th>3</th>\n",
       "      <td>2015</td>\n",
       "      <td>7</td>\n",
       "      <td>4</td>\n",
       "    </tr>\n",
       "    <tr>\n",
       "      <th>4</th>\n",
       "      <td>2018</td>\n",
       "      <td>6</td>\n",
       "      <td>1</td>\n",
       "    </tr>\n",
       "    <tr>\n",
       "      <th>...</th>\n",
       "      <td>...</td>\n",
       "      <td>...</td>\n",
       "      <td>...</td>\n",
       "    </tr>\n",
       "    <tr>\n",
       "      <th>23694</th>\n",
       "      <td>2017</td>\n",
       "      <td>3</td>\n",
       "      <td>1</td>\n",
       "    </tr>\n",
       "    <tr>\n",
       "      <th>23695</th>\n",
       "      <td>2018</td>\n",
       "      <td>1</td>\n",
       "      <td>0</td>\n",
       "    </tr>\n",
       "    <tr>\n",
       "      <th>23696</th>\n",
       "      <td>2018</td>\n",
       "      <td>2</td>\n",
       "      <td>6</td>\n",
       "    </tr>\n",
       "    <tr>\n",
       "      <th>23697</th>\n",
       "      <td>2017</td>\n",
       "      <td>3</td>\n",
       "      <td>1</td>\n",
       "    </tr>\n",
       "    <tr>\n",
       "      <th>23698</th>\n",
       "      <td>2017</td>\n",
       "      <td>7</td>\n",
       "      <td>4</td>\n",
       "    </tr>\n",
       "  </tbody>\n",
       "</table>\n",
       "<p>23699 rows × 3 columns</p>\n",
       "</div>"
      ],
      "text/plain": [
       "       year_exposition  month_exposition  weekday_exposition\n",
       "0                 2019                 3                   3\n",
       "1                 2018                12                   1\n",
       "2                 2015                 8                   3\n",
       "3                 2015                 7                   4\n",
       "4                 2018                 6                   1\n",
       "...                ...               ...                 ...\n",
       "23694             2017                 3                   1\n",
       "23695             2018                 1                   0\n",
       "23696             2018                 2                   6\n",
       "23697             2017                 3                   1\n",
       "23698             2017                 7                   4\n",
       "\n",
       "[23699 rows x 3 columns]"
      ]
     },
     "execution_count": 11,
     "metadata": {},
     "output_type": "execute_result"
    }
   ],
   "source": [
    " # добавим столбец дня недели\n",
    "df['weekday_exposition'] = df['first_day_exposition'].dt.weekday\n",
    "\n",
    " # добавим  столбец месяца\n",
    "df['month_exposition'] = df['first_day_exposition'].dt.month\n",
    "\n",
    " # добавим  столбец года\n",
    "df['year_exposition'] = df['first_day_exposition'].dt.year\n",
    "\n",
    "df[['year_exposition', 'month_exposition', 'weekday_exposition']]"
   ]
  },
  {
   "cell_type": "code",
   "execution_count": 12,
   "metadata": {},
   "outputs": [
    {
     "data": {
      "text/plain": [
       "array(['другой', 'первый', 'последний'], dtype=object)"
      ]
     },
     "execution_count": 12,
     "metadata": {},
     "output_type": "execute_result"
    }
   ],
   "source": [
    " # напишем функцию для категоризации по этажам:\n",
    "def floor_category(row):\n",
    "    if row['floor'] == 1:\n",
    "        return 'первый'\n",
    "    elif row['floor'] == row['floors_total']:\n",
    "        return 'последний'\n",
    "    else:\n",
    "        return 'другой'\n",
    "    \n",
    " # используя метод apply применим ее к нашему датасету посторчно (параметр axis = 1)\n",
    "df['floor_category'] = df.apply(floor_category, axis=1)\n",
    "\n",
    "df['floor_category'].unique()"
   ]
  },
  {
   "cell_type": "code",
   "execution_count": 13,
   "metadata": {},
   "outputs": [
    {
     "data": {
      "text/html": [
       "<div>\n",
       "<style scoped>\n",
       "    .dataframe tbody tr th:only-of-type {\n",
       "        vertical-align: middle;\n",
       "    }\n",
       "\n",
       "    .dataframe tbody tr th {\n",
       "        vertical-align: top;\n",
       "    }\n",
       "\n",
       "    .dataframe thead th {\n",
       "        text-align: right;\n",
       "    }\n",
       "</style>\n",
       "<table border=\"1\" class=\"dataframe\">\n",
       "  <thead>\n",
       "    <tr style=\"text-align: right;\">\n",
       "      <th></th>\n",
       "      <th>kitchen_area_ratio</th>\n",
       "      <th>useful_area_ratio</th>\n",
       "    </tr>\n",
       "  </thead>\n",
       "  <tbody>\n",
       "    <tr>\n",
       "      <th>0</th>\n",
       "      <td>0.231481</td>\n",
       "      <td>0.472222</td>\n",
       "    </tr>\n",
       "    <tr>\n",
       "      <th>1</th>\n",
       "      <td>0.275000</td>\n",
       "      <td>0.465000</td>\n",
       "    </tr>\n",
       "    <tr>\n",
       "      <th>2</th>\n",
       "      <td>0.148214</td>\n",
       "      <td>0.612500</td>\n",
       "    </tr>\n",
       "    <tr>\n",
       "      <th>3</th>\n",
       "      <td>NaN</td>\n",
       "      <td>NaN</td>\n",
       "    </tr>\n",
       "    <tr>\n",
       "      <th>4</th>\n",
       "      <td>0.410000</td>\n",
       "      <td>0.320000</td>\n",
       "    </tr>\n",
       "    <tr>\n",
       "      <th>...</th>\n",
       "      <td>...</td>\n",
       "      <td>...</td>\n",
       "    </tr>\n",
       "    <tr>\n",
       "      <th>23694</th>\n",
       "      <td>0.103985</td>\n",
       "      <td>0.551128</td>\n",
       "    </tr>\n",
       "    <tr>\n",
       "      <th>23695</th>\n",
       "      <td>0.144068</td>\n",
       "      <td>0.644068</td>\n",
       "    </tr>\n",
       "    <tr>\n",
       "      <th>23696</th>\n",
       "      <td>NaN</td>\n",
       "      <td>0.530357</td>\n",
       "    </tr>\n",
       "    <tr>\n",
       "      <th>23697</th>\n",
       "      <td>0.306579</td>\n",
       "      <td>NaN</td>\n",
       "    </tr>\n",
       "    <tr>\n",
       "      <th>23698</th>\n",
       "      <td>0.281250</td>\n",
       "      <td>0.384375</td>\n",
       "    </tr>\n",
       "  </tbody>\n",
       "</table>\n",
       "<p>23699 rows × 2 columns</p>\n",
       "</div>"
      ],
      "text/plain": [
       "       kitchen_area_ratio  useful_area_ratio\n",
       "0                0.231481           0.472222\n",
       "1                0.275000           0.465000\n",
       "2                0.148214           0.612500\n",
       "3                     NaN                NaN\n",
       "4                0.410000           0.320000\n",
       "...                   ...                ...\n",
       "23694            0.103985           0.551128\n",
       "23695            0.144068           0.644068\n",
       "23696                 NaN           0.530357\n",
       "23697            0.306579                NaN\n",
       "23698            0.281250           0.384375\n",
       "\n",
       "[23699 rows x 2 columns]"
      ]
     },
     "execution_count": 13,
     "metadata": {},
     "output_type": "execute_result"
    }
   ],
   "source": [
    " # добавим столбец отношения жилой площади к общей\n",
    "df['useful_area_ratio'] = df['living_area'] / df['total_area']\n",
    "\n",
    " # добавим столбец отношения площади кухни к общей\n",
    "df['kitchen_area_ratio'] = df['kitchen_area'] / df['total_area']\n",
    "\n",
    "df[['kitchen_area_ratio', 'useful_area_ratio']]"
   ]
  },
  {
   "cell_type": "markdown",
   "metadata": {
    "id": "bbkJiMpRuqj9"
   },
   "source": [
    "## Исследовательский анализ данных"
   ]
  },
  {
   "cell_type": "markdown",
   "metadata": {},
   "source": [
    "Определим пределы для нормальных значений используя графики boxplot для целевых показателей, чтобы в дальнейшем отфильтровать наш датасет"
   ]
  },
  {
   "cell_type": "code",
   "execution_count": 14,
   "metadata": {},
   "outputs": [
    {
     "data": {
      "text/plain": [
       "[12.0, 112.0]"
      ]
     },
     "execution_count": 14,
     "metadata": {},
     "output_type": "execute_result"
    },
    {
     "data": {
      "image/png": "[encoded data removed]",
      "text/plain": [
       "<Figure size 432x288 with 1 Axes>"
      ]
     },
     "metadata": {
      "needs_background": "light"
     },
     "output_type": "display_data"
    }
   ],
   "source": [
    "B = plt.boxplot(df['total_area'])\n",
    "[item.get_ydata()[1] for item in B['whiskers']]"
   ]
  },
  {
   "cell_type": "markdown",
   "metadata": {},
   "source": [
    "Для общей площади от 10 до 120 кв. м."
   ]
  },
  {
   "cell_type": "code",
   "execution_count": 15,
   "metadata": {},
   "outputs": [
    {
     "data": {
      "text/plain": [
       "[12.19, 11900.0]"
      ]
     },
     "execution_count": 15,
     "metadata": {},
     "output_type": "execute_result"
    },
    {
     "data": {
      "image/png": "[encoded data removed]",
      "text/plain": [
       "<Figure size 432x288 with 1 Axes>"
      ]
     },
     "metadata": {
      "needs_background": "light"
     },
     "output_type": "display_data"
    }
   ],
   "source": [
    "B = plt.boxplot(df['last_price'])\n",
    "[item.get_ydata()[1] for item in B['whiskers']]"
   ]
  },
  {
   "cell_type": "markdown",
   "metadata": {},
   "source": [
    "Для последней установленной цены от 10 тыс. до  12 млн."
   ]
  },
  {
   "cell_type": "code",
   "execution_count": 16,
   "metadata": {},
   "outputs": [
    {
     "data": {
      "text/plain": [
       "[1.0, 512.0]"
      ]
     },
     "execution_count": 16,
     "metadata": {},
     "output_type": "execute_result"
    },
    {
     "data": {
      "image/png": "[encoded data removed]",
      "text/plain": [
       "<Figure size 432x288 with 1 Axes>"
      ]
     },
     "metadata": {
      "needs_background": "light"
     },
     "output_type": "display_data"
    }
   ],
   "source": [
    "nan_list = [float('NaN')]\n",
    "df_not_nan_days_exposition = df.query('days_exposition not in @nan_list')\n",
    "t = plt.boxplot(df_not_nan_days_exposition['days_exposition'])\n",
    "[item.get_ydata()[1] for item in t['whiskers']]"
   ]
  },
  {
   "cell_type": "markdown",
   "metadata": {},
   "source": [
    "Для дней в течении которых были выставленны объявления от 1 до 520 дней"
   ]
  },
  {
   "cell_type": "code",
   "execution_count": 17,
   "metadata": {},
   "outputs": [
    {
     "data": {
      "text/plain": [
       "[2.2, 3.21]"
      ]
     },
     "execution_count": 17,
     "metadata": {},
     "output_type": "execute_result"
    },
    {
     "data": {
      "image/png": "[encoded data removed]",
      "text/plain": [
       "<Figure size 432x288 with 1 Axes>"
      ]
     },
     "metadata": {
      "needs_background": "light"
     },
     "output_type": "display_data"
    }
   ],
   "source": [
    "df_not_nan_days_ceiling_height = df.query('ceiling_height not in @nan_list & ceiling_height < 40')\n",
    "t = plt.boxplot(df_not_nan_days_ceiling_height['ceiling_height'])\n",
    "[item.get_ydata()[1] for item in t['whiskers']]"
   ]
  },
  {
   "cell_type": "markdown",
   "metadata": {},
   "source": [
    "Для высоты потолков 2.2 - 3.3 метра"
   ]
  },
  {
   "cell_type": "code",
   "execution_count": 18,
   "metadata": {},
   "outputs": [
    {
     "data": {
      "text/plain": [
       "[0.0, 6.0]"
      ]
     },
     "execution_count": 18,
     "metadata": {},
     "output_type": "execute_result"
    },
    {
     "data": {
      "image/png": "[encoded data removed]",
      "text/plain": [
       "<Figure size 432x288 with 1 Axes>"
      ]
     },
     "metadata": {
      "needs_background": "light"
     },
     "output_type": "display_data"
    }
   ],
   "source": [
    "t = plt.boxplot(df_not_nan_days_ceiling_height['rooms'])\n",
    "[item.get_ydata()[1] for item in t['whiskers']]"
   ]
  },
  {
   "cell_type": "markdown",
   "metadata": {},
   "source": [
    "Для количества комнат от 0 до 6"
   ]
  },
  {
   "cell_type": "code",
   "execution_count": 19,
   "metadata": {},
   "outputs": [
    {
     "name": "stdout",
     "output_type": "stream",
     "text": [
      "count    22647.000000\n",
      "mean        54.659867\n",
      "std         20.147236\n",
      "min         12.000000\n",
      "25%         39.000000\n",
      "50%         50.000000\n",
      "75%         66.000000\n",
      "max        120.000000\n",
      "Name: total_area, dtype: float64\n"
     ]
    },
    {
     "data": {
      "image/png": "[encoded data removed]",
      "text/plain": [
       "<Figure size 864x288 with 2 Axes>"
      ]
     },
     "metadata": {
      "needs_background": "light"
     },
     "output_type": "display_data"
    }
   ],
   "source": [
    "df_filtered_total_area = df.query('10.0 <= total_area <= 120.0')\n",
    "print(df_filtered_total_area['total_area'].describe())\n",
    "\n",
    "t = df.groupby(by=df['total_area'])['total_area'].count()\n",
    "t2 = df_filtered_total_area.groupby(by=df_filtered_total_area['total_area'])['total_area'].count()\n",
    "\n",
    "fig = plt.figure(figsize=(12,4))\n",
    "\n",
    "ax_1 = fig.add_subplot(1, 2, 1)\n",
    "ax_2 = fig.add_subplot(1, 2, 2)\n",
    "\n",
    "ax_1.set(title='Не фильтованные данные', \n",
    "         xticks=np.arange(0, 1000, step=100), \n",
    "         yticks=np.arange(0, 1000, step=100),\n",
    "         xlabel='Площадь, кв.м.',\n",
    "         ylabel='Кол-во')\n",
    "ax_2.set(title='Фильтованные данные', \n",
    "         xticks=np.arange(10, 130, step=10), \n",
    "         yticks=np.arange(0, 1000, step=100),\n",
    "         xlabel='Площадь, кв.м.',\n",
    "         ylabel='Кол-во')\n",
    "\n",
    "ax_1.plot(t)\n",
    "ax_2.plot(t2)\n",
    "\n",
    "plt.show()"
   ]
  },
  {
   "cell_type": "markdown",
   "metadata": {},
   "source": [
    "График площади квартир имеет логонормальное распределение, на рынке недвижимости представлены как отдельные комнаты площадью от 12 кв.м., так и элитная недвижимость площадью до 900 кв.м., наблюдается пик количества квартир с площадью 40-45 кв.м, также наблюдаем пики в районе 55, 60, 80 кв.м, пики скорее всего обусловлены стандартизацией планировок квартир."
   ]
  },
  {
   "cell_type": "code",
   "execution_count": 20,
   "metadata": {},
   "outputs": [
    {
     "name": "stdout",
     "output_type": "stream",
     "text": [
      "count    21758.00000\n",
      "mean      4879.30168\n",
      "std       2273.42381\n",
      "min         12.19000\n",
      "25%       3300.00000\n",
      "50%       4411.04700\n",
      "75%       6000.00000\n",
      "max      12000.00000\n",
      "Name: last_price, dtype: float64\n"
     ]
    },
    {
     "data": {
      "image/png": "[encoded data removed]",
      "text/plain": [
       "<Figure size 864x288 with 2 Axes>"
      ]
     },
     "metadata": {
      "needs_background": "light"
     },
     "output_type": "display_data"
    }
   ],
   "source": [
    "df_filtered_last_price = df.query('10.0 <= last_price <= 12000.0')\n",
    "\n",
    "print(df_filtered_last_price['last_price'].describe())\n",
    "\n",
    "fig = plt.figure(figsize=(12,4))\n",
    "\n",
    "ax_1 = fig.add_subplot(1, 2, 1)\n",
    "ax_2 = fig.add_subplot(1, 2, 2)\n",
    "\n",
    "ax_1.set(title='Не фильтованные данные',\n",
    "         xticks=np.arange(0, 110000, step=20000), \n",
    "         yticks=np.arange(0, 6000, step=1000),\n",
    "         xlabel='Последняя цена, тыс.',\n",
    "         ylabel='Кол-во')\n",
    "ax_2.set(title='Фильтованные данные', \n",
    "         xticks=np.arange(0, 14000, step=2000), \n",
    "         yticks=np.arange(0, 14000, step=100),\n",
    "         xlabel='Последняя цена, тыс.',\n",
    "         ylabel='Кол-во')\n",
    "\n",
    "ax_1.hist(df['last_price'], \n",
    "          bins=100, \n",
    "          range=(0,90000))\n",
    "ax_2.hist(df_filtered_last_price['last_price'], \n",
    "          bins=60, \n",
    "          range=(10,12000))\n",
    "\n",
    "plt.show()"
   ]
  },
  {
   "cell_type": "markdown",
   "metadata": {},
   "source": [
    "График стоимости квартир имеет нормальное распределение, средняя стоимость квартиры на рынке 4.9 млн., цена самой дешевой  121 тыс. а самая дорогая 763 млн., медианное значение 4.41 млн. график имеет неоднородную структуру - большую скважность, эти большие отклонения от нормального распределения могут являться наложением стоимости квартир в центре и более дешевого жилья\n",
    "различиями типовой планировки и в целом спецификой рынка люди ориентируются на другие ценовы предложения и это влияет на то какую цену они просят за свою квартиру."
   ]
  },
  {
   "cell_type": "code",
   "execution_count": 21,
   "metadata": {},
   "outputs": [
    {
     "name": "stdout",
     "output_type": "stream",
     "text": [
      "count    23609.000000\n",
      "mean         2.047905\n",
      "std          1.006772\n",
      "min          0.000000\n",
      "25%          1.000000\n",
      "50%          2.000000\n",
      "75%          3.000000\n",
      "max          6.000000\n",
      "Name: rooms, dtype: float64\n"
     ]
    },
    {
     "data": {
      "image/png": "[encoded data removed]",
      "text/plain": [
       "<Figure size 864x288 with 2 Axes>"
      ]
     },
     "metadata": {
      "needs_background": "light"
     },
     "output_type": "display_data"
    }
   ],
   "source": [
    "df_filtered_rooms = df.query('0 <= rooms <= 6')\n",
    "\n",
    "print(df_filtered_rooms['rooms'].describe())\n",
    "\n",
    "fig = plt.figure(figsize=(12,4))\n",
    "\n",
    "ax_1 = fig.add_subplot(1, 2, 1)\n",
    "ax_2 = fig.add_subplot(1, 2, 2)\n",
    "\n",
    "ax_1.set(title='Не фильтованные данные',\n",
    "         xticks=np.arange(0, 19, step=1), \n",
    "         yticks=np.arange(0, 10000, step=2000),\n",
    "         xlabel='Комнат',\n",
    "         ylabel='Кол-во')\n",
    "ax_2.set(title='Фильтованные данные', \n",
    "         xticks=np.arange(0, 6, step=1), \n",
    "         yticks=np.arange(0, 10000, step=2000),\n",
    "         xlabel='Комнат',\n",
    "         ylabel='Кол-во')\n",
    "\n",
    "ax_1.hist(df['rooms'], \n",
    "          bins=19, \n",
    "          range=(0,19))\n",
    "ax_2.hist(df_filtered_rooms['rooms'], \n",
    "          bins=6, \n",
    "          range=(0,6))\n",
    "\n",
    "plt.show()"
   ]
  },
  {
   "cell_type": "markdown",
   "metadata": {},
   "source": [
    "Большинство представленных квартир имеет 1 или 2 комнаты по 8 тыс. объявлений соответсвенно, причем предложение однокомнатных квартир с небольшим отрывом (всего 100 квартир) больше двухкомнатных, не далеко ушли и трех комнатные квартиры их чуть менее 6 тыс., четырехкомнатные квартиры представленны в кол-ве чуть более 1 тыс. объявлений, есть данные о 0 комнат - скорее всего это могут быть доли в квартирах. Максимальное количество комнат 19.  "
   ]
  },
  {
   "cell_type": "code",
   "execution_count": 22,
   "metadata": {},
   "outputs": [
    {
     "name": "stdout",
     "output_type": "stream",
     "text": [
      "count    13883.000000\n",
      "mean         2.689036\n",
      "std          0.196902\n",
      "min          2.200000\n",
      "25%          2.500000\n",
      "50%          2.650000\n",
      "75%          2.785000\n",
      "max          3.300000\n",
      "Name: ceiling_height, dtype: float64\n"
     ]
    },
    {
     "data": {
      "image/png": "[encoded data removed]",
      "text/plain": [
       "<Figure size 864x288 with 2 Axes>"
      ]
     },
     "metadata": {
      "needs_background": "light"
     },
     "output_type": "display_data"
    }
   ],
   "source": [
    "df_filtered_ceiling_height = df.query('2.2 <= ceiling_height <= 3.3')\n",
    "print(df_filtered_ceiling_height['ceiling_height'].describe())\n",
    "\n",
    "t = df.groupby(by=df['ceiling_height'])['ceiling_height'].count()\n",
    "t2 = df_filtered_ceiling_height.groupby(by=df_filtered_total_area['ceiling_height'])['ceiling_height'].count()\n",
    "\n",
    "fig = plt.figure(figsize=(12,4))\n",
    "\n",
    "ax_1 = fig.add_subplot(1, 2, 1)\n",
    "ax_2 = fig.add_subplot(1, 2, 2)\n",
    "\n",
    "ax_1.set(title='Не фильтованные данные',\n",
    "         xticks=np.arange(2, 4.5, step=0.5), \n",
    "         yticks=np.arange(0, 4000, step=500),\n",
    "         xlabel='Высота потолков, м',\n",
    "         ylabel='Кол-во',\n",
    "         xlim=(2, 4.5))\n",
    "ax_2.set(title='Фильтованные данные', \n",
    "         xticks=np.arange(2.2, 3.3, step=0.1), \n",
    "         yticks=np.arange(0, 4000, step=500),\n",
    "         xlabel='Высота потолков, м',\n",
    "         ylabel='Кол-во')\n",
    "\n",
    "ax_1.plot(t)\n",
    "ax_2.plot(t2)\n",
    "\n",
    "plt.show()"
   ]
  },
  {
   "cell_type": "markdown",
   "metadata": {},
   "source": [
    "Большинство квартир имеет потолки высотой 2.5 - 2.6 метра, также на рынке представленны квартиры с высотой потолка 3 метра, это обусловлено спецификой архитектуры Санкт-Петербурга."
   ]
  },
  {
   "cell_type": "code",
   "execution_count": 23,
   "metadata": {},
   "outputs": [
    {
     "data": {
      "text/plain": [
       "count    18894.000000\n",
       "mean       129.678364\n",
       "std        122.852225\n",
       "min          1.000000\n",
       "25%         41.000000\n",
       "50%         85.000000\n",
       "75%        184.000000\n",
       "max        520.000000\n",
       "Name: days_exposition, dtype: float64"
      ]
     },
     "execution_count": 23,
     "metadata": {},
     "output_type": "execute_result"
    },
    {
     "data": {
      "image/png": "[encoded data removed]",
      "text/plain": [
       "<Figure size 504x360 with 1 Axes>"
      ]
     },
     "metadata": {
      "needs_background": "light"
     },
     "output_type": "display_data"
    }
   ],
   "source": [
    "df_not_nan_days_exposition = df_not_nan_days_exposition.query('1.0 <= days_exposition <= 520.0')\n",
    "df_not_nan_days_exposition.plot(y='days_exposition', kind='hist', bins=520, grid=True, figsize=(7,5), title='Дней')\n",
    "df_not_nan_days_exposition['days_exposition'].describe()"
   ]
  },
  {
   "cell_type": "markdown",
   "metadata": {},
   "source": [
    "    Предположим что датой продажи может являться дата снятия объявлений в n-х количествах случаев, при ознакомлении с данными на гистограмме заметны выбросы: 7, 30, 45, 60, 90 дней, почитав правила размешения обьявлений \"Яндекс Недвижимости\" приходим к выводу что пики на 7, 30, 45, 60, 90 дней скорее всего являются датами автоматического снятия объявлений. \n",
    "    Вообще в таком случае мы должны проконсультироваться с коллегами ответсвенными за выгрузку данных. В любом случае будем работать с теми данными которые имеем: очистим данные от выбросов."
   ]
  },
  {
   "cell_type": "code",
   "execution_count": 24,
   "metadata": {},
   "outputs": [
    {
     "name": "stdout",
     "output_type": "stream",
     "text": [
      "Квартир c автоматическим снятием объявлений : 980\n"
     ]
    },
    {
     "data": {
      "text/plain": [
       "count    17914.000000\n",
       "mean       134.530814\n",
       "std        124.245869\n",
       "min          1.000000\n",
       "25%         43.000000\n",
       "50%         91.000000\n",
       "75%        192.000000\n",
       "max        520.000000\n",
       "Name: days_exposition, dtype: float64"
      ]
     },
     "execution_count": 24,
     "metadata": {},
     "output_type": "execute_result"
    },
    {
     "data": {
      "image/png": "[encoded data removed]",
      "text/plain": [
       "<Figure size 504x360 with 1 Axes>"
      ]
     },
     "metadata": {
      "needs_background": "light"
     },
     "output_type": "display_data"
    }
   ],
   "source": [
    "days_rule_exposition = [7.0, 30.0, 45.0, 60.0, 90.0]\n",
    "\n",
    "df_filtered_days_exposition = df_not_nan_days_exposition.query('days_exposition not in @days_rule_exposition') # Фильтруем данные\n",
    "print('Квартир c автоматическим снятием объявлений :', len(df_not_nan_days_exposition.query('days_exposition in @days_rule_exposition')))\n",
    "\n",
    "df_filtered_days_exposition.plot(y='days_exposition', kind='hist', bins=70, grid=True, figsize=(7,5), title='Дней')\n",
    "df_filtered_days_exposition['days_exposition'].describe() # Медиана, среднее, квантили"
   ]
  },
  {
   "cell_type": "markdown",
   "metadata": {},
   "source": [
    "После очистки данных картина стала более понятной медианное значение увеличилось с 85 до 91 дней, также возросло среднее с 129 дней до 134, судя по диаграмме размаха нормальные значения распологаются от 1 до 520 дней. По текущим данным , половина квартир продается в первые 3.5 месяца, в среднем продажа квартиры занимает 6.5 месяцев."
   ]
  },
  {
   "cell_type": "code",
   "execution_count": 25,
   "metadata": {},
   "outputs": [
    {
     "data": {
      "text/plain": [
       "0.7026353438779385"
      ]
     },
     "execution_count": 25,
     "metadata": {},
     "output_type": "execute_result"
    },
    {
     "data": {
      "image/png": "[encoded data removed]",
      "text/plain": [
       "<Figure size 1080x288 with 1 Axes>"
      ]
     },
     "metadata": {
      "needs_background": "light"
     },
     "output_type": "display_data"
    }
   ],
   "source": [
    "df_filtered_total_area_and_last_price = df_filtered_last_price.query('10.0 <= total_area <= 120.0')\n",
    "pivot_table_total_area = df_filtered_total_area_and_last_price.pivot_table(index='total_area', values='last_price', aggfunc=['mean', 'count', 'median'])\n",
    "pivot_table_total_area.plot(y='median', style='-', figsize=(15,4))\n",
    "\n",
    "df_filtered_total_area_and_last_price['total_area'].corr(df_filtered_total_area_and_last_price['last_price'])"
   ]
  },
  {
   "cell_type": "markdown",
   "metadata": {},
   "source": [
    "На графике видна стабильная корреляция - с увеличением площади квартиры растет цена за квартиру"
   ]
  },
  {
   "cell_type": "code",
   "execution_count": 26,
   "metadata": {},
   "outputs": [
    {
     "data": {
      "text/html": [
       "<div>\n",
       "<style scoped>\n",
       "    .dataframe tbody tr th:only-of-type {\n",
       "        vertical-align: middle;\n",
       "    }\n",
       "\n",
       "    .dataframe tbody tr th {\n",
       "        vertical-align: top;\n",
       "    }\n",
       "\n",
       "    .dataframe thead th {\n",
       "        text-align: right;\n",
       "    }\n",
       "</style>\n",
       "<table border=\"1\" class=\"dataframe\">\n",
       "  <thead>\n",
       "    <tr style=\"text-align: right;\">\n",
       "      <th></th>\n",
       "      <th>mean</th>\n",
       "      <th>count</th>\n",
       "      <th>median</th>\n",
       "    </tr>\n",
       "    <tr>\n",
       "      <th>rooms</th>\n",
       "      <th></th>\n",
       "      <th></th>\n",
       "      <th></th>\n",
       "    </tr>\n",
       "  </thead>\n",
       "  <tbody>\n",
       "    <tr>\n",
       "      <th>0</th>\n",
       "      <td>2924.264872</td>\n",
       "      <td>195</td>\n",
       "      <td>2700.0</td>\n",
       "    </tr>\n",
       "    <tr>\n",
       "      <th>1</th>\n",
       "      <td>3761.424631</td>\n",
       "      <td>8010</td>\n",
       "      <td>3600.0</td>\n",
       "    </tr>\n",
       "    <tr>\n",
       "      <th>2</th>\n",
       "      <td>5036.764131</td>\n",
       "      <td>7629</td>\n",
       "      <td>4690.0</td>\n",
       "    </tr>\n",
       "    <tr>\n",
       "      <th>3</th>\n",
       "      <td>6059.171460</td>\n",
       "      <td>5001</td>\n",
       "      <td>5750.0</td>\n",
       "    </tr>\n",
       "    <tr>\n",
       "      <th>4</th>\n",
       "      <td>7036.154620</td>\n",
       "      <td>776</td>\n",
       "      <td>7000.0</td>\n",
       "    </tr>\n",
       "    <tr>\n",
       "      <th>5</th>\n",
       "      <td>8488.658730</td>\n",
       "      <td>126</td>\n",
       "      <td>9000.0</td>\n",
       "    </tr>\n",
       "    <tr>\n",
       "      <th>6</th>\n",
       "      <td>9878.210526</td>\n",
       "      <td>19</td>\n",
       "      <td>10500.0</td>\n",
       "    </tr>\n",
       "  </tbody>\n",
       "</table>\n",
       "</div>"
      ],
      "text/plain": [
       "              mean  count   median\n",
       "rooms                             \n",
       "0      2924.264872    195   2700.0\n",
       "1      3761.424631   8010   3600.0\n",
       "2      5036.764131   7629   4690.0\n",
       "3      6059.171460   5001   5750.0\n",
       "4      7036.154620    776   7000.0\n",
       "5      8488.658730    126   9000.0\n",
       "6      9878.210526     19  10500.0"
      ]
     },
     "metadata": {},
     "output_type": "display_data"
    },
    {
     "data": {
      "text/plain": [
       "0.36724855921457317"
      ]
     },
     "execution_count": 26,
     "metadata": {},
     "output_type": "execute_result"
    },
    {
     "data": {
      "image/png": "[encoded data removed]",
      "text/plain": [
       "<Figure size 432x288 with 1 Axes>"
      ]
     },
     "metadata": {
      "needs_background": "light"
     },
     "output_type": "display_data"
    }
   ],
   "source": [
    "df_filtered_rooms_and_last_price = df_filtered_rooms.query('10.0 <= last_price <= 12000.0')\n",
    "\n",
    "pivot_table_rooms = df_filtered_rooms_and_last_price.pivot_table(index='rooms', values='last_price', aggfunc=['mean', 'count', 'median'])\n",
    "pivot_table_rooms.columns = ['mean', 'count', 'median']\n",
    "display(pivot_table_rooms)\n",
    "pivot_table_rooms.plot(y = 'median')\n",
    "df_filtered_rooms['rooms'].corr(df_filtered_rooms['last_price'])"
   ]
  },
  {
   "cell_type": "markdown",
   "metadata": {},
   "source": [
    "Что и следовало ожидать чем меньше комнат тем дешевле квартира"
   ]
  },
  {
   "cell_type": "code",
   "execution_count": 27,
   "metadata": {},
   "outputs": [
    {
     "data": {
      "text/plain": [
       "-0.3485891167607475"
      ]
     },
     "execution_count": 27,
     "metadata": {},
     "output_type": "execute_result"
    },
    {
     "data": {
      "image/png": "[encoded data removed]",
      "text/plain": [
       "<Figure size 432x288 with 1 Axes>"
      ]
     },
     "metadata": {
      "needs_background": "light"
     },
     "output_type": "display_data"
    }
   ],
   "source": [
    "df_filtered_last_price_and_cityCenters_nearest = df_filtered_last_price.query(('cityCenters_nearest not in @nan_list')and('cityCenters_nearest < 100'))\n",
    "\n",
    "pivot_table_nearest = df_filtered_last_price_and_cityCenters_nearest.pivot_table(index='cityCenters_nearest', values='last_price')\n",
    "pivot_table_nearest.plot(y='last_price')\n",
    "df_filtered_last_price_and_cityCenters_nearest['cityCenters_nearest'].corr(df_filtered_last_price_and_cityCenters_nearest['last_price'])\n"
   ]
  },
  {
   "cell_type": "markdown",
   "metadata": {},
   "source": [
    "С удалением от центра города снижаются цены на недвижимсоть"
   ]
  },
  {
   "cell_type": "code",
   "execution_count": 28,
   "metadata": {},
   "outputs": [
    {
     "data": {
      "text/html": [
       "<div>\n",
       "<style scoped>\n",
       "    .dataframe tbody tr th:only-of-type {\n",
       "        vertical-align: middle;\n",
       "    }\n",
       "\n",
       "    .dataframe tbody tr th {\n",
       "        vertical-align: top;\n",
       "    }\n",
       "\n",
       "    .dataframe thead th {\n",
       "        text-align: right;\n",
       "    }\n",
       "</style>\n",
       "<table border=\"1\" class=\"dataframe\">\n",
       "  <thead>\n",
       "    <tr style=\"text-align: right;\">\n",
       "      <th></th>\n",
       "      <th>mean</th>\n",
       "      <th>count</th>\n",
       "      <th>median</th>\n",
       "    </tr>\n",
       "    <tr>\n",
       "      <th>floor_category</th>\n",
       "      <th></th>\n",
       "      <th></th>\n",
       "      <th></th>\n",
       "    </tr>\n",
       "  </thead>\n",
       "  <tbody>\n",
       "    <tr>\n",
       "      <th>другой</th>\n",
       "      <td>5070.768582</td>\n",
       "      <td>15854</td>\n",
       "      <td>4600.0</td>\n",
       "    </tr>\n",
       "    <tr>\n",
       "      <th>первый</th>\n",
       "      <td>4160.473764</td>\n",
       "      <td>2818</td>\n",
       "      <td>3820.0</td>\n",
       "    </tr>\n",
       "    <tr>\n",
       "      <th>последний</th>\n",
       "      <td>4552.062798</td>\n",
       "      <td>3086</td>\n",
       "      <td>4100.0</td>\n",
       "    </tr>\n",
       "  </tbody>\n",
       "</table>\n",
       "</div>"
      ],
      "text/plain": [
       "                       mean  count  median\n",
       "floor_category                            \n",
       "другой          5070.768582  15854  4600.0\n",
       "первый          4160.473764   2818  3820.0\n",
       "последний       4552.062798   3086  4100.0"
      ]
     },
     "execution_count": 28,
     "metadata": {},
     "output_type": "execute_result"
    },
    {
     "data": {
      "image/png": "[encoded data removed]",
      "text/plain": [
       "<Figure size 432x288 with 1 Axes>"
      ]
     },
     "metadata": {
      "needs_background": "light"
     },
     "output_type": "display_data"
    }
   ],
   "source": [
    "pivot_table_floor_category = df_filtered_last_price.pivot_table(index='floor_category', values='last_price', aggfunc=['mean', 'count', 'median'])\n",
    "pivot_table_floor_category.columns=['mean', 'count', 'median']\n",
    "pivot_table_floor_category.plot(y='median')\n",
    "pivot_table_floor_category"
   ]
  },
  {
   "cell_type": "markdown",
   "metadata": {},
   "source": [
    "Квартиры на первом этаже дешевле чем на последнем на 7% и на 17% дешевле чем остальные\n"
   ]
  },
  {
   "cell_type": "code",
   "execution_count": 29,
   "metadata": {},
   "outputs": [
    {
     "data": {
      "text/html": [
       "<div>\n",
       "<style scoped>\n",
       "    .dataframe tbody tr th:only-of-type {\n",
       "        vertical-align: middle;\n",
       "    }\n",
       "\n",
       "    .dataframe tbody tr th {\n",
       "        vertical-align: top;\n",
       "    }\n",
       "\n",
       "    .dataframe thead th {\n",
       "        text-align: right;\n",
       "    }\n",
       "</style>\n",
       "<table border=\"1\" class=\"dataframe\">\n",
       "  <thead>\n",
       "    <tr style=\"text-align: right;\">\n",
       "      <th></th>\n",
       "      <th>mean</th>\n",
       "      <th>count</th>\n",
       "      <th>median</th>\n",
       "    </tr>\n",
       "    <tr>\n",
       "      <th>weekday_exposition</th>\n",
       "      <th></th>\n",
       "      <th></th>\n",
       "      <th></th>\n",
       "    </tr>\n",
       "  </thead>\n",
       "  <tbody>\n",
       "    <tr>\n",
       "      <th>0</th>\n",
       "      <td>4875.461839</td>\n",
       "      <td>3312</td>\n",
       "      <td>4450.0</td>\n",
       "    </tr>\n",
       "    <tr>\n",
       "      <th>1</th>\n",
       "      <td>4935.123161</td>\n",
       "      <td>3850</td>\n",
       "      <td>4500.0</td>\n",
       "    </tr>\n",
       "    <tr>\n",
       "      <th>2</th>\n",
       "      <td>4917.293718</td>\n",
       "      <td>3635</td>\n",
       "      <td>4500.0</td>\n",
       "    </tr>\n",
       "    <tr>\n",
       "      <th>3</th>\n",
       "      <td>4889.786958</td>\n",
       "      <td>3893</td>\n",
       "      <td>4400.0</td>\n",
       "    </tr>\n",
       "    <tr>\n",
       "      <th>4</th>\n",
       "      <td>4859.565026</td>\n",
       "      <td>3699</td>\n",
       "      <td>4390.0</td>\n",
       "    </tr>\n",
       "    <tr>\n",
       "      <th>5</th>\n",
       "      <td>4757.604213</td>\n",
       "      <td>1790</td>\n",
       "      <td>4400.0</td>\n",
       "    </tr>\n",
       "    <tr>\n",
       "      <th>6</th>\n",
       "      <td>4822.131928</td>\n",
       "      <td>1579</td>\n",
       "      <td>4400.0</td>\n",
       "    </tr>\n",
       "  </tbody>\n",
       "</table>\n",
       "</div>"
      ],
      "text/plain": [
       "                           mean  count  median\n",
       "weekday_exposition                            \n",
       "0                   4875.461839   3312  4450.0\n",
       "1                   4935.123161   3850  4500.0\n",
       "2                   4917.293718   3635  4500.0\n",
       "3                   4889.786958   3893  4400.0\n",
       "4                   4859.565026   3699  4390.0\n",
       "5                   4757.604213   1790  4400.0\n",
       "6                   4822.131928   1579  4400.0"
      ]
     },
     "execution_count": 29,
     "metadata": {},
     "output_type": "execute_result"
    },
    {
     "data": {
      "image/png": "[encoded data removed]",
      "text/plain": [
       "<Figure size 432x288 with 1 Axes>"
      ]
     },
     "metadata": {
      "needs_background": "light"
     },
     "output_type": "display_data"
    }
   ],
   "source": [
    "pivot_table_weekday_exposition = df_filtered_last_price.pivot_table(index='weekday_exposition', values='last_price', aggfunc=['mean', 'count', 'median'])\n",
    "pivot_table_weekday_exposition.columns = ['mean', 'count', 'median']\n",
    "pivot_table_weekday_exposition.plot(y='median')\n",
    "\n",
    "pivot_table_weekday_exposition"
   ]
  },
  {
   "cell_type": "markdown",
   "metadata": {},
   "source": [
    "На графике зависимости стоимости квартиры. от дня подачи объявления заметен пик цены за квадратный метр во вторник и уменьшение цены к выходным, я считаю что это связанно с деловой активностью в разрезе недели, самая низкая цена наблюдается в пятницу."
   ]
  },
  {
   "cell_type": "code",
   "execution_count": 30,
   "metadata": {},
   "outputs": [
    {
     "data": {
      "text/html": [
       "<div>\n",
       "<style scoped>\n",
       "    .dataframe tbody tr th:only-of-type {\n",
       "        vertical-align: middle;\n",
       "    }\n",
       "\n",
       "    .dataframe tbody tr th {\n",
       "        vertical-align: top;\n",
       "    }\n",
       "\n",
       "    .dataframe thead th {\n",
       "        text-align: right;\n",
       "    }\n",
       "</style>\n",
       "<table border=\"1\" class=\"dataframe\">\n",
       "  <thead>\n",
       "    <tr style=\"text-align: right;\">\n",
       "      <th></th>\n",
       "      <th>mean</th>\n",
       "      <th>count</th>\n",
       "      <th>median</th>\n",
       "    </tr>\n",
       "    <tr>\n",
       "      <th>month_exposition</th>\n",
       "      <th></th>\n",
       "      <th></th>\n",
       "      <th></th>\n",
       "    </tr>\n",
       "  </thead>\n",
       "  <tbody>\n",
       "    <tr>\n",
       "      <th>1</th>\n",
       "      <td>4838.378641</td>\n",
       "      <td>1364</td>\n",
       "      <td>4400.00</td>\n",
       "    </tr>\n",
       "    <tr>\n",
       "      <th>2</th>\n",
       "      <td>4874.888785</td>\n",
       "      <td>2427</td>\n",
       "      <td>4400.00</td>\n",
       "    </tr>\n",
       "    <tr>\n",
       "      <th>3</th>\n",
       "      <td>4842.743083</td>\n",
       "      <td>2380</td>\n",
       "      <td>4450.00</td>\n",
       "    </tr>\n",
       "    <tr>\n",
       "      <th>4</th>\n",
       "      <td>4976.266831</td>\n",
       "      <td>2189</td>\n",
       "      <td>4590.00</td>\n",
       "    </tr>\n",
       "    <tr>\n",
       "      <th>5</th>\n",
       "      <td>4857.883171</td>\n",
       "      <td>1167</td>\n",
       "      <td>4350.00</td>\n",
       "    </tr>\n",
       "    <tr>\n",
       "      <th>6</th>\n",
       "      <td>4725.796781</td>\n",
       "      <td>1629</td>\n",
       "      <td>4200.00</td>\n",
       "    </tr>\n",
       "    <tr>\n",
       "      <th>7</th>\n",
       "      <td>4883.113744</td>\n",
       "      <td>1550</td>\n",
       "      <td>4399.50</td>\n",
       "    </tr>\n",
       "    <tr>\n",
       "      <th>8</th>\n",
       "      <td>4877.171624</td>\n",
       "      <td>1605</td>\n",
       "      <td>4400.00</td>\n",
       "    </tr>\n",
       "    <tr>\n",
       "      <th>9</th>\n",
       "      <td>4998.952723</td>\n",
       "      <td>1815</td>\n",
       "      <td>4490.00</td>\n",
       "    </tr>\n",
       "    <tr>\n",
       "      <th>10</th>\n",
       "      <td>4836.326881</td>\n",
       "      <td>1963</td>\n",
       "      <td>4400.00</td>\n",
       "    </tr>\n",
       "    <tr>\n",
       "      <th>11</th>\n",
       "      <td>4895.730169</td>\n",
       "      <td>2162</td>\n",
       "      <td>4479.65</td>\n",
       "    </tr>\n",
       "    <tr>\n",
       "      <th>12</th>\n",
       "      <td>4909.508244</td>\n",
       "      <td>1507</td>\n",
       "      <td>4500.00</td>\n",
       "    </tr>\n",
       "  </tbody>\n",
       "</table>\n",
       "</div>"
      ],
      "text/plain": [
       "                         mean  count   median\n",
       "month_exposition                             \n",
       "1                 4838.378641   1364  4400.00\n",
       "2                 4874.888785   2427  4400.00\n",
       "3                 4842.743083   2380  4450.00\n",
       "4                 4976.266831   2189  4590.00\n",
       "5                 4857.883171   1167  4350.00\n",
       "6                 4725.796781   1629  4200.00\n",
       "7                 4883.113744   1550  4399.50\n",
       "8                 4877.171624   1605  4400.00\n",
       "9                 4998.952723   1815  4490.00\n",
       "10                4836.326881   1963  4400.00\n",
       "11                4895.730169   2162  4479.65\n",
       "12                4909.508244   1507  4500.00"
      ]
     },
     "execution_count": 30,
     "metadata": {},
     "output_type": "execute_result"
    },
    {
     "data": {
      "image/png": "[encoded data removed]",
      "text/plain": [
       "<Figure size 432x288 with 1 Axes>"
      ]
     },
     "metadata": {
      "needs_background": "light"
     },
     "output_type": "display_data"
    }
   ],
   "source": [
    "pivot_table_month_exposition = df_filtered_last_price.pivot_table(index='month_exposition', values='last_price', aggfunc=['mean', 'count', 'median'])\n",
    "pivot_table_month_exposition.columns=['mean', 'count', 'median']\n",
    "pivot_table_month_exposition.plot(y='median')\n",
    "pivot_table_month_exposition"
   ]
  },
  {
   "cell_type": "markdown",
   "metadata": {},
   "source": [
    "На графике зависимости стоимости кв. м. от месяца заметен пик цены за квадратный метр в апреле, в летний период наблюдается спад, скорее всего из-за отпусков, также есть спад после сентября связанный с окончанием отпусков и началом учебноого года и небольшой рост перед новогодними праздниками, рынку недвижимости присуща сезонность."
   ]
  },
  {
   "cell_type": "code",
   "execution_count": 31,
   "metadata": {},
   "outputs": [
    {
     "data": {
      "text/plain": [
       "<AxesSubplot:xlabel='year_exposition'>"
      ]
     },
     "execution_count": 31,
     "metadata": {},
     "output_type": "execute_result"
    },
    {
     "data": {
      "image/png": "[encoded data removed]",
      "text/plain": [
       "<Figure size 432x288 with 1 Axes>"
      ]
     },
     "metadata": {
      "needs_background": "light"
     },
     "output_type": "display_data"
    }
   ],
   "source": [
    "pivot_table_year_exposition = df_filtered_last_price.pivot_table(index='year_exposition', values='last_price', aggfunc=['mean', 'count', 'median'])\n",
    "pivot_table_year_exposition.columns = ['mean', 'count', 'median']\n",
    "pivot_table_year_exposition.plot(y='median')"
   ]
  },
  {
   "cell_type": "markdown",
   "metadata": {},
   "source": [
    "С 2014 года цена недвижимости падала вплоть до 2016 г. затем в 2018-2019 г. начала отигрывать позиции, я считаю что это связанно с падением курса рубля в 2014 году ..."
   ]
  },
  {
   "cell_type": "code",
   "execution_count": 32,
   "metadata": {},
   "outputs": [
    {
     "data": {
      "text/html": [
       "<div>\n",
       "<style scoped>\n",
       "    .dataframe tbody tr th:only-of-type {\n",
       "        vertical-align: middle;\n",
       "    }\n",
       "\n",
       "    .dataframe tbody tr th {\n",
       "        vertical-align: top;\n",
       "    }\n",
       "\n",
       "    .dataframe thead th {\n",
       "        text-align: right;\n",
       "    }\n",
       "</style>\n",
       "<table border=\"1\" class=\"dataframe\">\n",
       "  <thead>\n",
       "    <tr style=\"text-align: right;\">\n",
       "      <th></th>\n",
       "      <th>count</th>\n",
       "      <th>mean</th>\n",
       "    </tr>\n",
       "    <tr>\n",
       "      <th>locality_name</th>\n",
       "      <th></th>\n",
       "      <th></th>\n",
       "    </tr>\n",
       "  </thead>\n",
       "  <tbody>\n",
       "    <tr>\n",
       "      <th>Санкт-Петербург</th>\n",
       "      <td>15721</td>\n",
       "      <td>115.347723</td>\n",
       "    </tr>\n",
       "    <tr>\n",
       "      <th>посёлок Мурино</th>\n",
       "      <td>522</td>\n",
       "      <td>86.379969</td>\n",
       "    </tr>\n",
       "    <tr>\n",
       "      <th>посёлок Шушары</th>\n",
       "      <td>440</td>\n",
       "      <td>79.068603</td>\n",
       "    </tr>\n",
       "    <tr>\n",
       "      <th>Всеволожск</th>\n",
       "      <td>398</td>\n",
       "      <td>68.985235</td>\n",
       "    </tr>\n",
       "    <tr>\n",
       "      <th>Пушкин</th>\n",
       "      <td>369</td>\n",
       "      <td>103.611363</td>\n",
       "    </tr>\n",
       "    <tr>\n",
       "      <th>Колпино</th>\n",
       "      <td>338</td>\n",
       "      <td>75.735590</td>\n",
       "    </tr>\n",
       "    <tr>\n",
       "      <th>посёлок Парголово</th>\n",
       "      <td>327</td>\n",
       "      <td>90.675628</td>\n",
       "    </tr>\n",
       "    <tr>\n",
       "      <th>Гатчина</th>\n",
       "      <td>307</td>\n",
       "      <td>69.045519</td>\n",
       "    </tr>\n",
       "    <tr>\n",
       "      <th>деревня Кудрово</th>\n",
       "      <td>299</td>\n",
       "      <td>93.002173</td>\n",
       "    </tr>\n",
       "    <tr>\n",
       "      <th>Выборг</th>\n",
       "      <td>237</td>\n",
       "      <td>58.296119</td>\n",
       "    </tr>\n",
       "  </tbody>\n",
       "</table>\n",
       "</div>"
      ],
      "text/plain": [
       "                   count        mean\n",
       "locality_name                       \n",
       "Санкт-Петербург    15721  115.347723\n",
       "посёлок Мурино       522   86.379969\n",
       "посёлок Шушары       440   79.068603\n",
       "Всеволожск           398   68.985235\n",
       "Пушкин               369  103.611363\n",
       "Колпино              338   75.735590\n",
       "посёлок Парголово    327   90.675628\n",
       "Гатчина              307   69.045519\n",
       "деревня Кудрово      299   93.002173\n",
       "Выборг               237   58.296119"
      ]
     },
     "execution_count": 32,
     "metadata": {},
     "output_type": "execute_result"
    }
   ],
   "source": [
    "locality_pivot_table = df.pivot_table(index='locality_name', values='price_per_square_meter', aggfunc=['count', 'mean'])\n",
    "locality_pivot_table.columns = ['count', 'mean']\n",
    "locality_pivot_table.sort_values('count', ascending=False).head(10)"
   ]
  },
  {
   "cell_type": "code",
   "execution_count": 33,
   "metadata": {},
   "outputs": [
    {
     "data": {
      "text/html": [
       "<div>\n",
       "<style scoped>\n",
       "    .dataframe tbody tr th:only-of-type {\n",
       "        vertical-align: middle;\n",
       "    }\n",
       "\n",
       "    .dataframe tbody tr th {\n",
       "        vertical-align: top;\n",
       "    }\n",
       "\n",
       "    .dataframe thead th {\n",
       "        text-align: right;\n",
       "    }\n",
       "</style>\n",
       "<table border=\"1\" class=\"dataframe\">\n",
       "  <thead>\n",
       "    <tr style=\"text-align: right;\">\n",
       "      <th></th>\n",
       "      <th>count</th>\n",
       "      <th>median</th>\n",
       "    </tr>\n",
       "    <tr>\n",
       "      <th>locality_name</th>\n",
       "      <th></th>\n",
       "      <th></th>\n",
       "    </tr>\n",
       "  </thead>\n",
       "  <tbody>\n",
       "    <tr>\n",
       "      <th>Санкт-Петербург</th>\n",
       "      <td>15721</td>\n",
       "      <td>5500.0</td>\n",
       "    </tr>\n",
       "  </tbody>\n",
       "</table>\n",
       "</div>"
      ],
      "text/plain": [
       "                 count  median\n",
       "locality_name                 \n",
       "Санкт-Петербург  15721  5500.0"
      ]
     },
     "metadata": {},
     "output_type": "display_data"
    },
    {
     "data": {
      "text/html": [
       "<div>\n",
       "<style scoped>\n",
       "    .dataframe tbody tr th:only-of-type {\n",
       "        vertical-align: middle;\n",
       "    }\n",
       "\n",
       "    .dataframe tbody tr th {\n",
       "        vertical-align: top;\n",
       "    }\n",
       "\n",
       "    .dataframe thead th {\n",
       "        text-align: right;\n",
       "    }\n",
       "</style>\n",
       "<table border=\"1\" class=\"dataframe\">\n",
       "  <thead>\n",
       "    <tr style=\"text-align: right;\">\n",
       "      <th></th>\n",
       "      <th>count</th>\n",
       "      <th>median</th>\n",
       "    </tr>\n",
       "    <tr>\n",
       "      <th>locality_name</th>\n",
       "      <th></th>\n",
       "      <th></th>\n",
       "    </tr>\n",
       "  </thead>\n",
       "  <tbody>\n",
       "    <tr>\n",
       "      <th>Сланцы</th>\n",
       "      <td>112</td>\n",
       "      <td>810.0</td>\n",
       "    </tr>\n",
       "  </tbody>\n",
       "</table>\n",
       "</div>"
      ],
      "text/plain": [
       "               count  median\n",
       "locality_name               \n",
       "Сланцы           112   810.0"
      ]
     },
     "metadata": {},
     "output_type": "display_data"
    }
   ],
   "source": [
    "locality_pivot_table = df.pivot_table(index='locality_name', values='last_price', aggfunc=['count', 'median'])\n",
    "locality_pivot_table.columns = ['count', 'median']\n",
    "locality_pivot_table = locality_pivot_table.query('count>50')\n",
    "#самая высокая стоимость\n",
    "display(locality_pivot_table[locality_pivot_table['median']==locality_pivot_table['median'].max()])\n",
    "#самая низкая стоимость\n",
    "display(locality_pivot_table[locality_pivot_table['median']==locality_pivot_table['median'].min()])"
   ]
  },
  {
   "cell_type": "markdown",
   "metadata": {},
   "source": [
    "Топ 10 населенных пунктов и городов по количеству объявлений, возглавляет Санкт-Петербург, самая высокая стоимость жилья также в Санкт-Петербурге, а самая низкая в г. Сланцы"
   ]
  },
  {
   "cell_type": "code",
   "execution_count": 34,
   "metadata": {},
   "outputs": [
    {
     "data": {
      "text/plain": [
       "<AxesSubplot:xlabel='cityCenters_nearest'>"
      ]
     },
     "execution_count": 34,
     "metadata": {},
     "output_type": "execute_result"
    },
    {
     "data": {
      "image/png": "[encoded data removed]",
      "text/plain": [
       "<Figure size 432x288 with 1 Axes>"
      ]
     },
     "metadata": {
      "needs_background": "light"
     },
     "output_type": "display_data"
    }
   ],
   "source": [
    "pivot_table_km = df_filtered_last_price.query('locality_name == \"Санкт-Петербург\" and cityCenters_nearest <= 200').pivot_table(index='cityCenters_nearest', values='last_price', aggfunc='mean')\n",
    "pivot_table_km.plot()"
   ]
  },
  {
   "cell_type": "markdown",
   "metadata": {},
   "source": [
    "Судя по графику центр будем считать в радиусе 0-10 километров"
   ]
  },
  {
   "cell_type": "code",
   "execution_count": 35,
   "metadata": {},
   "outputs": [
    {
     "data": {
      "text/plain": [
       "0.5216071569086681"
      ]
     },
     "execution_count": 35,
     "metadata": {},
     "output_type": "execute_result"
    },
    {
     "data": {
      "image/png": "[encoded data removed]",
      "text/plain": [
       "<Figure size 432x288 with 1 Axes>"
      ]
     },
     "metadata": {
      "needs_background": "light"
     },
     "output_type": "display_data"
    }
   ],
   "source": [
    "center_spb_data = df_filtered_last_price.query('0 <= cityCenters_nearest <= 10 and locality_name == \"Санкт-Петербург\"')\n",
    "\n",
    "center_spb_rooms = center_spb_data.pivot_table(index='rooms', values='last_price', aggfunc=['mean', 'count', 'median'])\n",
    "center_spb_rooms.columns = ['mean', 'count', 'median']\n",
    "center_spb_rooms.plot(y='median')\n",
    "\n",
    "center_spb_data['rooms'].corr(center_spb_data['last_price'])"
   ]
  },
  {
   "cell_type": "markdown",
   "metadata": {},
   "source": [
    "Чем больше комнат в квартире тем она дороже, коэфициет корреляции 0.52"
   ]
  },
  {
   "cell_type": "code",
   "execution_count": 36,
   "metadata": {},
   "outputs": [
    {
     "data": {
      "text/html": [
       "<div>\n",
       "<style scoped>\n",
       "    .dataframe tbody tr th:only-of-type {\n",
       "        vertical-align: middle;\n",
       "    }\n",
       "\n",
       "    .dataframe tbody tr th {\n",
       "        vertical-align: top;\n",
       "    }\n",
       "\n",
       "    .dataframe thead th {\n",
       "        text-align: right;\n",
       "    }\n",
       "</style>\n",
       "<table border=\"1\" class=\"dataframe\">\n",
       "  <thead>\n",
       "    <tr style=\"text-align: right;\">\n",
       "      <th></th>\n",
       "      <th>mean</th>\n",
       "      <th>count</th>\n",
       "      <th>median</th>\n",
       "    </tr>\n",
       "    <tr>\n",
       "      <th>floor_category</th>\n",
       "      <th></th>\n",
       "      <th></th>\n",
       "      <th></th>\n",
       "    </tr>\n",
       "  </thead>\n",
       "  <tbody>\n",
       "    <tr>\n",
       "      <th>другой</th>\n",
       "      <td>6793.062725</td>\n",
       "      <td>3253</td>\n",
       "      <td>6500.0</td>\n",
       "    </tr>\n",
       "    <tr>\n",
       "      <th>первый</th>\n",
       "      <td>5844.568508</td>\n",
       "      <td>587</td>\n",
       "      <td>5420.0</td>\n",
       "    </tr>\n",
       "    <tr>\n",
       "      <th>последний</th>\n",
       "      <td>6784.039666</td>\n",
       "      <td>688</td>\n",
       "      <td>6500.0</td>\n",
       "    </tr>\n",
       "  </tbody>\n",
       "</table>\n",
       "</div>"
      ],
      "text/plain": [
       "                       mean  count  median\n",
       "floor_category                            \n",
       "другой          6793.062725   3253  6500.0\n",
       "первый          5844.568508    587  5420.0\n",
       "последний       6784.039666    688  6500.0"
      ]
     },
     "execution_count": 36,
     "metadata": {},
     "output_type": "execute_result"
    },
    {
     "data": {
      "image/png": "[encoded data removed]",
      "text/plain": [
       "<Figure size 432x288 with 1 Axes>"
      ]
     },
     "metadata": {
      "needs_background": "light"
     },
     "output_type": "display_data"
    }
   ],
   "source": [
    "center_spb_floor_category = center_spb_data.pivot_table(index='floor_category', values='last_price', aggfunc=['mean', 'count', 'median'])\n",
    "center_spb_floor_category.columns = ['mean', 'count', 'median']\n",
    "center_spb_floor_category.plot(y='mean')\n",
    "center_spb_floor_category"
   ]
  },
  {
   "cell_type": "markdown",
   "metadata": {},
   "source": [
    "Квартиры на первых этажах дешевле на 17 процентов чем на последних и на остальных этажах"
   ]
  },
  {
   "cell_type": "code",
   "execution_count": 37,
   "metadata": {},
   "outputs": [
    {
     "data": {
      "text/plain": [
       "-0.41208348224870445"
      ]
     },
     "execution_count": 37,
     "metadata": {},
     "output_type": "execute_result"
    },
    {
     "data": {
      "image/png": "[encoded data removed]",
      "text/plain": [
       "<Figure size 432x288 with 1 Axes>"
      ]
     },
     "metadata": {
      "needs_background": "light"
     },
     "output_type": "display_data"
    }
   ],
   "source": [
    "center_spb_floor_category = center_spb_data.pivot_table(index='cityCenters_nearest', values='last_price', aggfunc=['mean', 'count', 'median'])\n",
    "center_spb_floor_category.columns = ['mean', 'count', 'median']\n",
    "center_spb_floor_category.plot(y='median')\n",
    "center_spb_floor_category\n",
    "center_spb_data['cityCenters_nearest'].corr(center_spb_data['last_price'])"
   ]
  },
  {
   "cell_type": "markdown",
   "metadata": {},
   "source": [
    "Зависимость цены квартиры от  расстояния до центра есть, чем дальше от центра тем дешевли квартиры, причем разница достигает 40 % на удалении от центра 10 км."
   ]
  },
  {
   "cell_type": "code",
   "execution_count": 38,
   "metadata": {},
   "outputs": [
    {
     "data": {
      "text/html": [
       "<div>\n",
       "<style scoped>\n",
       "    .dataframe tbody tr th:only-of-type {\n",
       "        vertical-align: middle;\n",
       "    }\n",
       "\n",
       "    .dataframe tbody tr th {\n",
       "        vertical-align: top;\n",
       "    }\n",
       "\n",
       "    .dataframe thead th {\n",
       "        text-align: right;\n",
       "    }\n",
       "</style>\n",
       "<table border=\"1\" class=\"dataframe\">\n",
       "  <thead>\n",
       "    <tr style=\"text-align: right;\">\n",
       "      <th></th>\n",
       "      <th>mean</th>\n",
       "      <th>count</th>\n",
       "      <th>median_center</th>\n",
       "    </tr>\n",
       "    <tr>\n",
       "      <th>weekday_exposition</th>\n",
       "      <th></th>\n",
       "      <th></th>\n",
       "      <th></th>\n",
       "    </tr>\n",
       "  </thead>\n",
       "  <tbody>\n",
       "    <tr>\n",
       "      <th>5</th>\n",
       "      <td>6544.702938</td>\n",
       "      <td>354</td>\n",
       "      <td>6425.0</td>\n",
       "    </tr>\n",
       "    <tr>\n",
       "      <th>4</th>\n",
       "      <td>6653.138533</td>\n",
       "      <td>778</td>\n",
       "      <td>6400.0</td>\n",
       "    </tr>\n",
       "    <tr>\n",
       "      <th>3</th>\n",
       "      <td>6715.928053</td>\n",
       "      <td>855</td>\n",
       "      <td>6394.8</td>\n",
       "    </tr>\n",
       "    <tr>\n",
       "      <th>0</th>\n",
       "      <td>6666.418129</td>\n",
       "      <td>660</td>\n",
       "      <td>6375.0</td>\n",
       "    </tr>\n",
       "    <tr>\n",
       "      <th>1</th>\n",
       "      <td>6642.504519</td>\n",
       "      <td>826</td>\n",
       "      <td>6350.0</td>\n",
       "    </tr>\n",
       "    <tr>\n",
       "      <th>6</th>\n",
       "      <td>6693.888313</td>\n",
       "      <td>294</td>\n",
       "      <td>6350.0</td>\n",
       "    </tr>\n",
       "    <tr>\n",
       "      <th>2</th>\n",
       "      <td>6710.093406</td>\n",
       "      <td>761</td>\n",
       "      <td>6300.0</td>\n",
       "    </tr>\n",
       "  </tbody>\n",
       "</table>\n",
       "</div>"
      ],
      "text/plain": [
       "                           mean  count  median_center\n",
       "weekday_exposition                                   \n",
       "5                   6544.702938    354         6425.0\n",
       "4                   6653.138533    778         6400.0\n",
       "3                   6715.928053    855         6394.8\n",
       "0                   6666.418129    660         6375.0\n",
       "1                   6642.504519    826         6350.0\n",
       "6                   6693.888313    294         6350.0\n",
       "2                   6710.093406    761         6300.0"
      ]
     },
     "execution_count": 38,
     "metadata": {},
     "output_type": "execute_result"
    },
    {
     "data": {
      "image/png": "[encoded data removed]",
      "text/plain": [
       "<Figure size 432x288 with 1 Axes>"
      ]
     },
     "metadata": {
      "needs_background": "light"
     },
     "output_type": "display_data"
    },
    {
     "data": {
      "image/png": "[encoded data removed]",
      "text/plain": [
       "<Figure size 432x288 with 1 Axes>"
      ]
     },
     "metadata": {
      "needs_background": "light"
     },
     "output_type": "display_data"
    }
   ],
   "source": [
    "center_spb_weekday_exposition = center_spb_data.pivot_table(index='weekday_exposition', values='last_price', aggfunc=['mean', 'count', 'median'])\n",
    "center_spb_weekday_exposition.columns = ['mean', 'count', 'median_center']\n",
    "pivot_table_weekday_exposition.plot(y='median')\n",
    "center_spb_weekday_exposition.plot(y='median_center')\n",
    "\n",
    "center_spb_weekday_exposition.sort_values('median_center', ascending = False)"
   ]
  },
  {
   "cell_type": "markdown",
   "metadata": {},
   "source": [
    "Ситуация с стоимостью квартиры по отношению к дням недели координально различная, пик активности сместился к субботе\n",
    "в среду цены минимальные."
   ]
  },
  {
   "cell_type": "code",
   "execution_count": 39,
   "metadata": {},
   "outputs": [
    {
     "data": {
      "text/html": [
       "<div>\n",
       "<style scoped>\n",
       "    .dataframe tbody tr th:only-of-type {\n",
       "        vertical-align: middle;\n",
       "    }\n",
       "\n",
       "    .dataframe tbody tr th {\n",
       "        vertical-align: top;\n",
       "    }\n",
       "\n",
       "    .dataframe thead th {\n",
       "        text-align: right;\n",
       "    }\n",
       "</style>\n",
       "<table border=\"1\" class=\"dataframe\">\n",
       "  <thead>\n",
       "    <tr style=\"text-align: right;\">\n",
       "      <th></th>\n",
       "      <th>mean</th>\n",
       "      <th>count</th>\n",
       "      <th>median_center</th>\n",
       "    </tr>\n",
       "    <tr>\n",
       "      <th>month_exposition</th>\n",
       "      <th></th>\n",
       "      <th></th>\n",
       "      <th></th>\n",
       "    </tr>\n",
       "  </thead>\n",
       "  <tbody>\n",
       "    <tr>\n",
       "      <th>9</th>\n",
       "      <td>7160.627629</td>\n",
       "      <td>388</td>\n",
       "      <td>6885.0</td>\n",
       "    </tr>\n",
       "    <tr>\n",
       "      <th>1</th>\n",
       "      <td>6793.752112</td>\n",
       "      <td>269</td>\n",
       "      <td>6550.0</td>\n",
       "    </tr>\n",
       "    <tr>\n",
       "      <th>8</th>\n",
       "      <td>6805.494942</td>\n",
       "      <td>329</td>\n",
       "      <td>6500.0</td>\n",
       "    </tr>\n",
       "    <tr>\n",
       "      <th>7</th>\n",
       "      <td>6674.539830</td>\n",
       "      <td>348</td>\n",
       "      <td>6495.0</td>\n",
       "    </tr>\n",
       "    <tr>\n",
       "      <th>12</th>\n",
       "      <td>6605.924198</td>\n",
       "      <td>308</td>\n",
       "      <td>6450.0</td>\n",
       "    </tr>\n",
       "    <tr>\n",
       "      <th>4</th>\n",
       "      <td>6660.959667</td>\n",
       "      <td>453</td>\n",
       "      <td>6350.0</td>\n",
       "    </tr>\n",
       "    <tr>\n",
       "      <th>2</th>\n",
       "      <td>6634.831357</td>\n",
       "      <td>496</td>\n",
       "      <td>6300.0</td>\n",
       "    </tr>\n",
       "    <tr>\n",
       "      <th>11</th>\n",
       "      <td>6709.106413</td>\n",
       "      <td>407</td>\n",
       "      <td>6300.0</td>\n",
       "    </tr>\n",
       "    <tr>\n",
       "      <th>3</th>\n",
       "      <td>6613.410029</td>\n",
       "      <td>490</td>\n",
       "      <td>6244.8</td>\n",
       "    </tr>\n",
       "    <tr>\n",
       "      <th>10</th>\n",
       "      <td>6493.252224</td>\n",
       "      <td>388</td>\n",
       "      <td>6175.0</td>\n",
       "    </tr>\n",
       "    <tr>\n",
       "      <th>5</th>\n",
       "      <td>6536.191357</td>\n",
       "      <td>283</td>\n",
       "      <td>6150.0</td>\n",
       "    </tr>\n",
       "    <tr>\n",
       "      <th>6</th>\n",
       "      <td>6355.573271</td>\n",
       "      <td>369</td>\n",
       "      <td>6100.0</td>\n",
       "    </tr>\n",
       "  </tbody>\n",
       "</table>\n",
       "</div>"
      ],
      "text/plain": [
       "                         mean  count  median_center\n",
       "month_exposition                                   \n",
       "9                 7160.627629    388         6885.0\n",
       "1                 6793.752112    269         6550.0\n",
       "8                 6805.494942    329         6500.0\n",
       "7                 6674.539830    348         6495.0\n",
       "12                6605.924198    308         6450.0\n",
       "4                 6660.959667    453         6350.0\n",
       "2                 6634.831357    496         6300.0\n",
       "11                6709.106413    407         6300.0\n",
       "3                 6613.410029    490         6244.8\n",
       "10                6493.252224    388         6175.0\n",
       "5                 6536.191357    283         6150.0\n",
       "6                 6355.573271    369         6100.0"
      ]
     },
     "execution_count": 39,
     "metadata": {},
     "output_type": "execute_result"
    },
    {
     "data": {
      "image/png": "[encoded data removed]",
      "text/plain": [
       "<Figure size 432x288 with 1 Axes>"
      ]
     },
     "metadata": {
      "needs_background": "light"
     },
     "output_type": "display_data"
    },
    {
     "data": {
      "image/png": "[encoded data removed]",
      "text/plain": [
       "<Figure size 432x288 with 1 Axes>"
      ]
     },
     "metadata": {
      "needs_background": "light"
     },
     "output_type": "display_data"
    }
   ],
   "source": [
    "center_spb_month_exposition = center_spb_data.pivot_table(index='month_exposition', values='last_price', aggfunc=['mean', 'count', 'median'])\n",
    "center_spb_month_exposition.columns = ['mean', 'count', 'median_center']\n",
    "center_spb_month_exposition.plot(y='median_center')\n",
    "pivot_table_month_exposition.plot(y='median')\n",
    "center_spb_month_exposition.sort_values('median_center', ascending=False)"
   ]
  },
  {
   "cell_type": "markdown",
   "metadata": {},
   "source": [
    "Также как и в остальной части выборки мы наблюдаем выраженную сезонность, но пик стоимости квартир сместился на осенний период, минимальные цены наблюдаем в июле, есть спад в ноябре."
   ]
  },
  {
   "cell_type": "code",
   "execution_count": 40,
   "metadata": {},
   "outputs": [
    {
     "data": {
      "text/html": [
       "<div>\n",
       "<style scoped>\n",
       "    .dataframe tbody tr th:only-of-type {\n",
       "        vertical-align: middle;\n",
       "    }\n",
       "\n",
       "    .dataframe tbody tr th {\n",
       "        vertical-align: top;\n",
       "    }\n",
       "\n",
       "    .dataframe thead th {\n",
       "        text-align: right;\n",
       "    }\n",
       "</style>\n",
       "<table border=\"1\" class=\"dataframe\">\n",
       "  <thead>\n",
       "    <tr style=\"text-align: right;\">\n",
       "      <th></th>\n",
       "      <th>mean</th>\n",
       "      <th>count</th>\n",
       "      <th>median_center</th>\n",
       "    </tr>\n",
       "    <tr>\n",
       "      <th>year_exposition</th>\n",
       "      <th></th>\n",
       "      <th></th>\n",
       "      <th></th>\n",
       "    </tr>\n",
       "  </thead>\n",
       "  <tbody>\n",
       "    <tr>\n",
       "      <th>2015</th>\n",
       "      <td>7053.380234</td>\n",
       "      <td>312</td>\n",
       "      <td>6756.696</td>\n",
       "    </tr>\n",
       "    <tr>\n",
       "      <th>2014</th>\n",
       "      <td>7335.224345</td>\n",
       "      <td>29</td>\n",
       "      <td>6750.000</td>\n",
       "    </tr>\n",
       "    <tr>\n",
       "      <th>2019</th>\n",
       "      <td>6720.950851</td>\n",
       "      <td>518</td>\n",
       "      <td>6475.000</td>\n",
       "    </tr>\n",
       "    <tr>\n",
       "      <th>2016</th>\n",
       "      <td>6673.555983</td>\n",
       "      <td>589</td>\n",
       "      <td>6440.000</td>\n",
       "    </tr>\n",
       "    <tr>\n",
       "      <th>2018</th>\n",
       "      <td>6608.869618</td>\n",
       "      <td>1522</td>\n",
       "      <td>6300.000</td>\n",
       "    </tr>\n",
       "    <tr>\n",
       "      <th>2017</th>\n",
       "      <td>6618.588790</td>\n",
       "      <td>1558</td>\n",
       "      <td>6291.000</td>\n",
       "    </tr>\n",
       "  </tbody>\n",
       "</table>\n",
       "</div>"
      ],
      "text/plain": [
       "                        mean  count  median_center\n",
       "year_exposition                                   \n",
       "2015             7053.380234    312       6756.696\n",
       "2014             7335.224345     29       6750.000\n",
       "2019             6720.950851    518       6475.000\n",
       "2016             6673.555983    589       6440.000\n",
       "2018             6608.869618   1522       6300.000\n",
       "2017             6618.588790   1558       6291.000"
      ]
     },
     "execution_count": 40,
     "metadata": {},
     "output_type": "execute_result"
    },
    {
     "data": {
      "image/png": "[encoded data removed]",
      "text/plain": [
       "<Figure size 432x288 with 1 Axes>"
      ]
     },
     "metadata": {
      "needs_background": "light"
     },
     "output_type": "display_data"
    },
    {
     "data": {
      "image/png": "[encoded data removed]",
      "text/plain": [
       "<Figure size 432x288 with 1 Axes>"
      ]
     },
     "metadata": {
      "needs_background": "light"
     },
     "output_type": "display_data"
    }
   ],
   "source": [
    "center_spb_year_exposition = center_spb_data.pivot_table(index='year_exposition', values='last_price', aggfunc=['mean', 'count', 'median'])\n",
    "center_spb_year_exposition.columns = ['mean', 'count', 'median_center']\n",
    "center_spb_year_exposition.plot(y='median_center')\n",
    "pivot_table_year_exposition.plot(y='median')\n",
    "center_spb_year_exposition.sort_values('median_center', ascending=False)"
   ]
  },
  {
   "cell_type": "markdown",
   "metadata": {},
   "source": [
    "Ситуация в разрезе годов не отличается от общей выборки, кризис 2014 года точно также повлиял на жилье в центре города как и на остальную часть выборки."
   ]
  },
  {
   "cell_type": "markdown",
   "metadata": {
    "id": "hNQPMhQ5uqj-"
   },
   "source": [
    "## Общий вывод\n",
    "\n",
    "  Мы ознакомились с предоставленным датасетом, предобработали данные, заполнили пропущенные значения, заменили типы данных на более удобные.\n",
    "  \n",
    "  Выявили аномальные значения, выбросы и обработали их. Посчитали и добавили в датасет дополнительные данные. Определили диапазоны нормальных значений при помощи графиков boxplot, при анализе показателей использовали отфильтрованные значения.  Изучили следующие параметры: площадь, цена, число комнат, высота потолков и построили для них гистограммы зависимости от них цены кв.м. недвижимости.\n",
    "  \n",
    "  Выяснили что квартиры на первых этажах могут стоить до 17% дешевле остальных. Увидели что на рынке присутсвуют квартиры с высокими потолками что специфично для Санкт-Петербурга.\n",
    "  \n",
    "  Изучили время продажи квартиры и выяснили что часть объявлений была снята с публикации автоматически по истечении времени. Установили что этаж, удаленность от центра, количество комнат и площадь влияют на стоимость кв. м. жилья.\n",
    "  \n",
    "  Выявили что рынок недвижимости подвержен сезонности и также что от дня подачи объявленя зависит стоимость кв.м. недвижимости. В целом по рынку с 2014 г. наблюдался спад стоимости жилья и лишь в 2016 г. цены начали тенденцию к росту.\n",
    "  \n",
    "  Рынок недвижимости центральной части (до 10 км.) Санкт-Петербурга как оказалось имеет свою спицифику, при приближении к центру возрастает доля элитной недвижимости, вообще для более глубокого анализа требуется категоризировать объекты  недвижимости по ценовым категория, в нашем случае мы делали общий обзор.\n",
    "  \n",
    "  Рассматривая рынок в разрезе центральной части города, мы выявили некоторые отличия от рынка в целом: недвижимости в центре северной столице дороже, также мы обратили внимание на на рост стоимости жилья осенью что отличается от динамики по рынку в целом, ситуация с стоимостью квартир по отношению к дням недели координально различная, пик активности сместился к субботе в среду цены минимальные.   \n",
    "\n",
    "  Выяснили что топ 10 населенных пунктов и городов по количеству объявлений, возглавляет Санкт-Петербург, самая высокая стоимость жилья также в Санкт-Петербурге, а самая низкая в г. Сланцы"
   ]
  }
 ],
 "metadata": {
  "ExecuteTimeLog": [
   {
    "duration": 508,
    "start_time": "2022-06-29T05:47:14.259Z"
   },
   {
    "duration": 47,
    "start_time": "2022-06-29T05:47:46.016Z"
   },
   {
    "duration": 45,
    "start_time": "2022-06-29T05:48:34.876Z"
   },
   {
    "duration": 79,
    "start_time": "2022-06-29T05:48:40.097Z"
   },
   {
    "duration": 52,
    "start_time": "2022-06-29T05:49:55.504Z"
   },
   {
    "duration": 45,
    "start_time": "2022-06-29T05:50:13.773Z"
   },
   {
    "duration": 73,
    "start_time": "2022-06-29T05:51:19.039Z"
   },
   {
    "duration": 44,
    "start_time": "2022-06-29T05:51:24.821Z"
   },
   {
    "duration": 74,
    "start_time": "2022-06-29T05:51:31.256Z"
   },
   {
    "duration": 76,
    "start_time": "2022-06-29T05:53:18.155Z"
   },
   {
    "duration": 51,
    "start_time": "2022-06-29T05:53:35.946Z"
   },
   {
    "duration": 60,
    "start_time": "2022-06-29T05:53:46.686Z"
   },
   {
    "duration": 55,
    "start_time": "2022-06-29T05:53:53.349Z"
   },
   {
    "duration": 48,
    "start_time": "2022-06-29T05:53:58.402Z"
   },
   {
    "duration": 72,
    "start_time": "2022-06-29T05:54:02.193Z"
   },
   {
    "duration": 73,
    "start_time": "2022-06-29T05:54:15.947Z"
   },
   {
    "duration": 71,
    "start_time": "2022-06-29T05:54:23.959Z"
   },
   {
    "duration": 78,
    "start_time": "2022-06-29T05:56:37.496Z"
   },
   {
    "duration": 138,
    "start_time": "2022-06-29T05:56:46.585Z"
   },
   {
    "duration": 49,
    "start_time": "2022-06-29T05:56:51.104Z"
   },
   {
    "duration": 91,
    "start_time": "2022-06-29T05:56:56.662Z"
   },
   {
    "duration": 84,
    "start_time": "2022-06-29T05:57:07.774Z"
   },
   {
    "duration": 44,
    "start_time": "2022-06-29T05:57:20.100Z"
   },
   {
    "duration": 2,
    "start_time": "2022-06-29T05:57:25.135Z"
   },
   {
    "duration": 91,
    "start_time": "2022-06-29T05:57:41.315Z"
   },
   {
    "duration": 88,
    "start_time": "2022-06-29T06:00:33.221Z"
   },
   {
    "duration": 87,
    "start_time": "2022-06-29T06:00:39.489Z"
   },
   {
    "duration": 84,
    "start_time": "2022-06-29T06:00:44.815Z"
   },
   {
    "duration": 67,
    "start_time": "2022-06-29T06:02:30.781Z"
   },
   {
    "duration": 81,
    "start_time": "2022-06-29T06:03:19.936Z"
   },
   {
    "duration": 82,
    "start_time": "2022-06-29T06:17:09.117Z"
   },
   {
    "duration": 411,
    "start_time": "2022-06-29T06:18:16.802Z"
   },
   {
    "duration": 138,
    "start_time": "2022-06-29T06:18:38.040Z"
   },
   {
    "duration": 103,
    "start_time": "2022-06-29T06:19:18.395Z"
   },
   {
    "duration": 89,
    "start_time": "2022-06-29T06:21:20.708Z"
   },
   {
    "duration": 149,
    "start_time": "2022-06-29T06:21:26.490Z"
   },
   {
    "duration": 97,
    "start_time": "2022-06-29T06:21:45.850Z"
   },
   {
    "duration": 100,
    "start_time": "2022-06-29T06:22:37.567Z"
   },
   {
    "duration": 108,
    "start_time": "2022-06-29T06:36:35.592Z"
   },
   {
    "duration": 98,
    "start_time": "2022-06-29T06:36:49.993Z"
   },
   {
    "duration": 118,
    "start_time": "2022-06-29T06:37:03.843Z"
   },
   {
    "duration": 127,
    "start_time": "2022-06-29T06:39:15.186Z"
   },
   {
    "duration": 120,
    "start_time": "2022-06-29T06:39:24.161Z"
   },
   {
    "duration": 15,
    "start_time": "2022-06-29T06:39:47.181Z"
   },
   {
    "duration": 104,
    "start_time": "2022-06-29T07:31:13.727Z"
   },
   {
    "duration": 110,
    "start_time": "2022-06-29T07:31:20.344Z"
   },
   {
    "duration": 99,
    "start_time": "2022-06-29T07:31:34.575Z"
   },
   {
    "duration": 101,
    "start_time": "2022-06-29T07:31:40.836Z"
   },
   {
    "duration": 97,
    "start_time": "2022-06-29T07:31:52.591Z"
   },
   {
    "duration": 109,
    "start_time": "2022-06-29T07:31:58.078Z"
   },
   {
    "duration": 175,
    "start_time": "2022-06-29T07:32:18.801Z"
   },
   {
    "duration": 138,
    "start_time": "2022-06-29T07:35:04.874Z"
   },
   {
    "duration": 9,
    "start_time": "2022-06-29T07:41:27.793Z"
   },
   {
    "duration": 6,
    "start_time": "2022-06-29T07:41:36.207Z"
   },
   {
    "duration": 8,
    "start_time": "2022-06-29T07:42:09.487Z"
   },
   {
    "duration": 4,
    "start_time": "2022-06-29T07:42:14.210Z"
   },
   {
    "duration": 18,
    "start_time": "2022-06-29T07:42:45.273Z"
   },
   {
    "duration": 18,
    "start_time": "2022-06-29T07:43:02.024Z"
   },
   {
    "duration": 8,
    "start_time": "2022-06-29T07:43:29.140Z"
   },
   {
    "duration": 10,
    "start_time": "2022-06-29T07:47:24.256Z"
   },
   {
    "duration": 6,
    "start_time": "2022-06-29T07:48:52.918Z"
   },
   {
    "duration": 9,
    "start_time": "2022-06-29T07:49:10.601Z"
   },
   {
    "duration": 16,
    "start_time": "2022-06-29T07:49:49.848Z"
   },
   {
    "duration": 3,
    "start_time": "2022-06-29T07:50:07.743Z"
   },
   {
    "duration": 8,
    "start_time": "2022-06-29T07:50:12.519Z"
   },
   {
    "duration": 6,
    "start_time": "2022-06-29T07:50:27.038Z"
   },
   {
    "duration": 17,
    "start_time": "2022-06-29T07:51:33.297Z"
   },
   {
    "duration": 18,
    "start_time": "2022-06-29T07:51:44.722Z"
   },
   {
    "duration": 14,
    "start_time": "2022-06-29T07:51:55.875Z"
   },
   {
    "duration": 17,
    "start_time": "2022-06-29T07:52:00.128Z"
   },
   {
    "duration": 20,
    "start_time": "2022-06-29T07:52:03.197Z"
   },
   {
    "duration": 11,
    "start_time": "2022-06-29T07:52:07.533Z"
   },
   {
    "duration": 13,
    "start_time": "2022-06-29T07:52:22.543Z"
   },
   {
    "duration": 11,
    "start_time": "2022-06-29T07:52:43.913Z"
   },
   {
    "duration": 17,
    "start_time": "2022-06-29T07:52:54.035Z"
   },
   {
    "duration": 11,
    "start_time": "2022-06-29T07:53:08.536Z"
   },
   {
    "duration": 10,
    "start_time": "2022-06-29T07:53:31.093Z"
   },
   {
    "duration": 10,
    "start_time": "2022-06-29T07:53:59.166Z"
   },
   {
    "duration": 9,
    "start_time": "2022-06-29T07:54:02.445Z"
   },
   {
    "duration": 9,
    "start_time": "2022-06-29T07:54:15.259Z"
   },
   {
    "duration": 5,
    "start_time": "2022-06-29T07:54:27.263Z"
   },
   {
    "duration": 2,
    "start_time": "2022-06-29T07:54:37.769Z"
   },
   {
    "duration": 8,
    "start_time": "2022-06-29T07:59:02.936Z"
   },
   {
    "duration": 50,
    "start_time": "2022-06-29T07:59:36.429Z"
   },
   {
    "duration": 54,
    "start_time": "2022-06-29T08:01:19.410Z"
   },
   {
    "duration": 43,
    "start_time": "2022-06-29T08:02:26.073Z"
   },
   {
    "duration": 7,
    "start_time": "2022-06-29T08:05:04.920Z"
   },
   {
    "duration": 2,
    "start_time": "2022-06-29T08:05:11.432Z"
   },
   {
    "duration": 46,
    "start_time": "2022-06-29T08:07:38.712Z"
   },
   {
    "duration": 15,
    "start_time": "2022-06-29T08:20:51.692Z"
   },
   {
    "duration": 6,
    "start_time": "2022-06-29T08:21:39.333Z"
   },
   {
    "duration": 8,
    "start_time": "2022-06-29T08:22:06.323Z"
   },
   {
    "duration": 8,
    "start_time": "2022-06-29T08:22:12.239Z"
   },
   {
    "duration": 12,
    "start_time": "2022-06-29T08:22:30.658Z"
   },
   {
    "duration": 18,
    "start_time": "2022-06-29T08:22:47.675Z"
   },
   {
    "duration": 51,
    "start_time": "2022-06-29T08:25:57.142Z"
   },
   {
    "duration": 58,
    "start_time": "2022-06-29T08:26:20.988Z"
   },
   {
    "duration": 9,
    "start_time": "2022-06-29T08:26:33.366Z"
   },
   {
    "duration": 47,
    "start_time": "2022-06-29T08:26:53.621Z"
   },
   {
    "duration": 87,
    "start_time": "2022-06-29T08:27:37.488Z"
   },
   {
    "duration": 13,
    "start_time": "2022-06-29T08:27:59.619Z"
   },
   {
    "duration": 9,
    "start_time": "2022-06-29T08:28:28.712Z"
   },
   {
    "duration": 10,
    "start_time": "2022-06-29T08:28:44.238Z"
   },
   {
    "duration": 11,
    "start_time": "2022-06-29T08:29:14.393Z"
   },
   {
    "duration": 9,
    "start_time": "2022-06-29T08:29:19.835Z"
   },
   {
    "duration": 8,
    "start_time": "2022-06-29T08:29:30.313Z"
   },
   {
    "duration": 14,
    "start_time": "2022-06-29T08:29:38.152Z"
   },
   {
    "duration": 12,
    "start_time": "2022-06-29T08:30:24.915Z"
   },
   {
    "duration": 12,
    "start_time": "2022-06-29T08:30:31.112Z"
   },
   {
    "duration": 13,
    "start_time": "2022-06-29T08:30:40.024Z"
   },
   {
    "duration": 14,
    "start_time": "2022-06-29T08:30:57.060Z"
   },
   {
    "duration": 13,
    "start_time": "2022-06-29T08:31:49.105Z"
   },
   {
    "duration": 6,
    "start_time": "2022-06-29T08:32:05.824Z"
   },
   {
    "duration": 6,
    "start_time": "2022-06-29T08:32:11.439Z"
   },
   {
    "duration": 12,
    "start_time": "2022-06-29T08:32:35.394Z"
   },
   {
    "duration": 8,
    "start_time": "2022-06-29T08:32:56.101Z"
   },
   {
    "duration": 7,
    "start_time": "2022-06-29T08:33:14.863Z"
   },
   {
    "duration": 9,
    "start_time": "2022-06-29T08:33:16.398Z"
   },
   {
    "duration": 5,
    "start_time": "2022-06-29T08:37:37.031Z"
   },
   {
    "duration": 5,
    "start_time": "2022-06-29T08:37:53.856Z"
   },
   {
    "duration": 8,
    "start_time": "2022-06-29T08:38:32.753Z"
   },
   {
    "duration": 7,
    "start_time": "2022-06-29T08:38:50.593Z"
   },
   {
    "duration": 7,
    "start_time": "2022-06-29T08:38:58.168Z"
   },
   {
    "duration": 8,
    "start_time": "2022-06-29T08:40:30.814Z"
   },
   {
    "duration": 6,
    "start_time": "2022-06-29T08:44:56.827Z"
   },
   {
    "duration": 5,
    "start_time": "2022-06-29T08:46:26.990Z"
   },
   {
    "duration": 10,
    "start_time": "2022-06-29T08:46:34.067Z"
   },
   {
    "duration": 8,
    "start_time": "2022-06-29T08:49:08.689Z"
   },
   {
    "duration": 9,
    "start_time": "2022-06-29T08:49:14.256Z"
   },
   {
    "duration": 21,
    "start_time": "2022-06-29T08:50:24.977Z"
   },
   {
    "duration": 12,
    "start_time": "2022-06-29T08:54:15.083Z"
   },
   {
    "duration": 470,
    "start_time": "2022-06-29T08:54:28.502Z"
   },
   {
    "duration": 13,
    "start_time": "2022-06-29T08:54:28.974Z"
   },
   {
    "duration": 20,
    "start_time": "2022-06-29T08:54:28.989Z"
   },
   {
    "duration": 7,
    "start_time": "2022-06-29T08:54:29.011Z"
   },
   {
    "duration": 39,
    "start_time": "2022-06-29T08:54:29.019Z"
   },
   {
    "duration": 4,
    "start_time": "2022-06-29T08:54:29.059Z"
   },
   {
    "duration": 49,
    "start_time": "2022-06-29T08:54:29.065Z"
   },
   {
    "duration": 38,
    "start_time": "2022-06-29T08:54:29.116Z"
   },
   {
    "duration": 67,
    "start_time": "2022-06-29T08:54:29.155Z"
   },
   {
    "duration": 11,
    "start_time": "2022-06-29T08:58:06.336Z"
   },
   {
    "duration": 7,
    "start_time": "2022-06-29T09:01:59.207Z"
   },
   {
    "duration": 7,
    "start_time": "2022-06-29T09:02:05.528Z"
   },
   {
    "duration": 619,
    "start_time": "2022-06-29T09:04:37.049Z"
   },
   {
    "duration": 196,
    "start_time": "2022-06-29T09:06:50.391Z"
   },
   {
    "duration": 142,
    "start_time": "2022-06-29T09:06:57.565Z"
   },
   {
    "duration": 202,
    "start_time": "2022-06-29T09:07:57.394Z"
   },
   {
    "duration": 133,
    "start_time": "2022-06-29T09:08:44.183Z"
   },
   {
    "duration": 255,
    "start_time": "2022-06-29T09:08:51.190Z"
   },
   {
    "duration": 65,
    "start_time": "2022-06-29T09:09:52.375Z"
   },
   {
    "duration": 275,
    "start_time": "2022-06-29T09:09:57.154Z"
   },
   {
    "duration": 271,
    "start_time": "2022-06-29T09:12:10.527Z"
   },
   {
    "duration": 251,
    "start_time": "2022-06-29T09:13:19.618Z"
   },
   {
    "duration": 4,
    "start_time": "2022-06-29T09:16:45.521Z"
   },
   {
    "duration": 101,
    "start_time": "2022-06-29T09:19:39.410Z"
   },
   {
    "duration": 18,
    "start_time": "2022-06-29T09:19:56.239Z"
   },
   {
    "duration": 26,
    "start_time": "2022-06-29T09:20:15.641Z"
   },
   {
    "duration": 24,
    "start_time": "2022-06-29T09:21:57.126Z"
   },
   {
    "duration": 21,
    "start_time": "2022-06-29T09:22:48.223Z"
   },
   {
    "duration": 23,
    "start_time": "2022-06-29T09:22:56.617Z"
   },
   {
    "duration": 23,
    "start_time": "2022-06-29T09:22:59.344Z"
   },
   {
    "duration": 25,
    "start_time": "2022-06-29T09:23:02.803Z"
   },
   {
    "duration": 22,
    "start_time": "2022-06-29T09:23:09.241Z"
   },
   {
    "duration": 24,
    "start_time": "2022-06-29T09:23:38.536Z"
   },
   {
    "duration": 83,
    "start_time": "2022-06-29T09:23:55.091Z"
   },
   {
    "duration": 10,
    "start_time": "2022-06-29T09:25:02.182Z"
   },
   {
    "duration": 12,
    "start_time": "2022-06-29T09:25:14.880Z"
   },
   {
    "duration": 6,
    "start_time": "2022-06-29T09:25:27.335Z"
   },
   {
    "duration": 4,
    "start_time": "2022-06-29T09:25:54.159Z"
   },
   {
    "duration": 5,
    "start_time": "2022-06-29T09:27:41.145Z"
   },
   {
    "duration": 5,
    "start_time": "2022-06-29T09:29:43.124Z"
   },
   {
    "duration": 523,
    "start_time": "2022-06-29T09:29:51.528Z"
   },
   {
    "duration": 15,
    "start_time": "2022-06-29T09:29:52.054Z"
   },
   {
    "duration": 18,
    "start_time": "2022-06-29T09:29:52.071Z"
   },
   {
    "duration": 26,
    "start_time": "2022-06-29T09:29:52.090Z"
   },
   {
    "duration": 61,
    "start_time": "2022-06-29T09:29:52.119Z"
   },
   {
    "duration": 4,
    "start_time": "2022-06-29T09:29:52.182Z"
   },
   {
    "duration": 68,
    "start_time": "2022-06-29T09:29:52.188Z"
   },
   {
    "duration": 503,
    "start_time": "2022-06-29T09:29:52.258Z"
   },
   {
    "duration": 4,
    "start_time": "2022-06-29T09:29:52.762Z"
   },
   {
    "duration": 51,
    "start_time": "2022-06-29T09:29:52.767Z"
   },
   {
    "duration": 6,
    "start_time": "2022-06-29T09:29:52.820Z"
   },
   {
    "duration": 67,
    "start_time": "2022-06-29T09:33:56.166Z"
   },
   {
    "duration": 5,
    "start_time": "2022-06-29T09:34:02.400Z"
   },
   {
    "duration": 49,
    "start_time": "2022-06-29T09:34:07.500Z"
   },
   {
    "duration": 54,
    "start_time": "2022-06-29T09:35:37.635Z"
   },
   {
    "duration": 12,
    "start_time": "2022-06-29T09:37:12.439Z"
   },
   {
    "duration": 53,
    "start_time": "2022-06-29T09:37:17.565Z"
   },
   {
    "duration": 8,
    "start_time": "2022-06-29T09:37:40.009Z"
   },
   {
    "duration": 565,
    "start_time": "2022-06-29T09:38:14.965Z"
   },
   {
    "duration": 20,
    "start_time": "2022-06-29T09:38:26.605Z"
   },
   {
    "duration": 20,
    "start_time": "2022-06-29T09:38:37.075Z"
   },
   {
    "duration": 38,
    "start_time": "2022-06-29T09:43:02.394Z"
   },
   {
    "duration": 72,
    "start_time": "2022-06-29T09:45:20.595Z"
   },
   {
    "duration": 69,
    "start_time": "2022-06-29T09:45:26.101Z"
   },
   {
    "duration": 64,
    "start_time": "2022-06-29T09:45:47.873Z"
   },
   {
    "duration": 8,
    "start_time": "2022-06-29T09:46:03.250Z"
   },
   {
    "duration": 285,
    "start_time": "2022-06-29T09:46:15.383Z"
   },
   {
    "duration": 53,
    "start_time": "2022-06-29T09:47:39.466Z"
   },
   {
    "duration": 45,
    "start_time": "2022-06-29T09:47:40.550Z"
   },
   {
    "duration": 374,
    "start_time": "2022-06-29T09:48:05.204Z"
   },
   {
    "duration": 39,
    "start_time": "2022-06-29T09:48:07.693Z"
   },
   {
    "duration": 307,
    "start_time": "2022-06-29T09:48:36.517Z"
   },
   {
    "duration": 25,
    "start_time": "2022-06-29T09:49:17.785Z"
   },
   {
    "duration": 519,
    "start_time": "2022-06-29T09:52:26.964Z"
   },
   {
    "duration": 15,
    "start_time": "2022-06-29T09:52:27.485Z"
   },
   {
    "duration": 9,
    "start_time": "2022-06-29T09:52:27.501Z"
   },
   {
    "duration": 8,
    "start_time": "2022-06-29T09:52:27.512Z"
   },
   {
    "duration": 53,
    "start_time": "2022-06-29T09:52:27.522Z"
   },
   {
    "duration": 3,
    "start_time": "2022-06-29T09:52:27.577Z"
   },
   {
    "duration": 78,
    "start_time": "2022-06-29T09:52:27.582Z"
   },
   {
    "duration": 521,
    "start_time": "2022-06-29T09:52:27.668Z"
   },
   {
    "duration": 4,
    "start_time": "2022-06-29T09:52:28.191Z"
   },
   {
    "duration": 62,
    "start_time": "2022-06-29T09:52:28.197Z"
   },
   {
    "duration": 7,
    "start_time": "2022-06-29T09:52:28.261Z"
   },
   {
    "duration": 13,
    "start_time": "2022-06-29T09:52:28.270Z"
   },
   {
    "duration": 31,
    "start_time": "2022-06-29T09:52:28.284Z"
   },
   {
    "duration": 292,
    "start_time": "2022-06-29T09:52:28.317Z"
   },
   {
    "duration": 411,
    "start_time": "2022-06-29T09:52:53.035Z"
   },
   {
    "duration": 340,
    "start_time": "2022-06-29T09:53:17.728Z"
   },
   {
    "duration": 328,
    "start_time": "2022-06-29T09:53:24.710Z"
   },
   {
    "duration": 5,
    "start_time": "2022-06-29T09:56:38.121Z"
   },
   {
    "duration": 13,
    "start_time": "2022-06-29T09:57:02.420Z"
   },
   {
    "duration": 293,
    "start_time": "2022-06-29T09:58:14.421Z"
   },
   {
    "duration": 458,
    "start_time": "2022-06-29T10:00:25.487Z"
   },
   {
    "duration": 73,
    "start_time": "2022-06-29T10:00:49.799Z"
   },
   {
    "duration": 298,
    "start_time": "2022-06-29T10:00:54.599Z"
   },
   {
    "duration": 298,
    "start_time": "2022-06-29T10:02:53.325Z"
   },
   {
    "duration": 298,
    "start_time": "2022-06-29T10:03:10.410Z"
   },
   {
    "duration": 272,
    "start_time": "2022-06-29T10:07:16.358Z"
   },
   {
    "duration": 136,
    "start_time": "2022-06-29T10:08:22.400Z"
   },
   {
    "duration": 288,
    "start_time": "2022-06-29T10:10:10.769Z"
   },
   {
    "duration": 420,
    "start_time": "2022-06-29T10:12:52.267Z"
   },
   {
    "duration": 317,
    "start_time": "2022-06-29T10:13:36.498Z"
   },
   {
    "duration": 297,
    "start_time": "2022-06-29T10:13:47.273Z"
   },
   {
    "duration": 122,
    "start_time": "2022-06-29T10:13:58.820Z"
   },
   {
    "duration": 123,
    "start_time": "2022-06-29T10:14:12.045Z"
   },
   {
    "duration": 117,
    "start_time": "2022-06-29T10:14:23.765Z"
   },
   {
    "duration": 118,
    "start_time": "2022-06-29T10:14:35.006Z"
   },
   {
    "duration": 366,
    "start_time": "2022-06-29T10:15:00.619Z"
   },
   {
    "duration": 295,
    "start_time": "2022-06-29T10:18:11.289Z"
   },
   {
    "duration": 53,
    "start_time": "2022-06-29T10:19:27.524Z"
   },
   {
    "duration": 291,
    "start_time": "2022-06-29T10:19:42.905Z"
   },
   {
    "duration": 302,
    "start_time": "2022-06-29T10:19:50.277Z"
   },
   {
    "duration": 332,
    "start_time": "2022-06-29T10:19:58.178Z"
   },
   {
    "duration": 306,
    "start_time": "2022-06-29T10:20:06.155Z"
   },
   {
    "duration": 375,
    "start_time": "2022-06-29T10:21:07.598Z"
   },
   {
    "duration": 245,
    "start_time": "2022-06-29T10:21:49.665Z"
   },
   {
    "duration": 64,
    "start_time": "2022-06-29T10:21:58.697Z"
   },
   {
    "duration": 310,
    "start_time": "2022-06-29T10:22:08.280Z"
   },
   {
    "duration": 324,
    "start_time": "2022-06-29T10:22:33.427Z"
   },
   {
    "duration": 297,
    "start_time": "2022-06-29T10:22:47.433Z"
   },
   {
    "duration": 249,
    "start_time": "2022-06-29T10:22:58.882Z"
   },
   {
    "duration": 306,
    "start_time": "2022-06-29T10:23:05.565Z"
   },
   {
    "duration": 192,
    "start_time": "2022-06-29T10:23:12.468Z"
   },
   {
    "duration": 318,
    "start_time": "2022-06-29T10:23:18.351Z"
   },
   {
    "duration": 285,
    "start_time": "2022-06-29T10:24:52.764Z"
   },
   {
    "duration": 516,
    "start_time": "2022-06-29T10:25:45.873Z"
   },
   {
    "duration": 13,
    "start_time": "2022-06-29T10:25:46.391Z"
   },
   {
    "duration": 9,
    "start_time": "2022-06-29T10:25:46.406Z"
   },
   {
    "duration": 8,
    "start_time": "2022-06-29T10:25:46.416Z"
   },
   {
    "duration": 29,
    "start_time": "2022-06-29T10:25:46.426Z"
   },
   {
    "duration": 8,
    "start_time": "2022-06-29T10:25:46.457Z"
   },
   {
    "duration": 59,
    "start_time": "2022-06-29T10:25:46.467Z"
   },
   {
    "duration": 599,
    "start_time": "2022-06-29T10:25:46.527Z"
   },
   {
    "duration": 3,
    "start_time": "2022-06-29T10:25:47.128Z"
   },
   {
    "duration": 59,
    "start_time": "2022-06-29T10:25:47.132Z"
   },
   {
    "duration": 5,
    "start_time": "2022-06-29T10:25:47.193Z"
   },
   {
    "duration": 11,
    "start_time": "2022-06-29T10:25:47.199Z"
   },
   {
    "duration": 21,
    "start_time": "2022-06-29T10:25:47.211Z"
   },
   {
    "duration": 363,
    "start_time": "2022-06-29T10:25:47.234Z"
   },
   {
    "duration": 15,
    "start_time": "2022-06-29T10:25:47.599Z"
   },
   {
    "duration": 372,
    "start_time": "2022-06-29T10:25:47.616Z"
   },
   {
    "duration": 306,
    "start_time": "2022-06-29T10:25:47.990Z"
   },
   {
    "duration": 141,
    "start_time": "2022-06-29T10:26:47.248Z"
   },
   {
    "duration": 328,
    "start_time": "2022-06-29T10:27:00.312Z"
   },
   {
    "duration": 327,
    "start_time": "2022-06-29T10:30:38.016Z"
   },
   {
    "duration": 315,
    "start_time": "2022-06-29T10:30:45.653Z"
   },
   {
    "duration": 420,
    "start_time": "2022-06-29T10:30:58.553Z"
   },
   {
    "duration": 495,
    "start_time": "2022-06-29T10:31:09.895Z"
   },
   {
    "duration": 15,
    "start_time": "2022-06-29T10:31:10.392Z"
   },
   {
    "duration": 11,
    "start_time": "2022-06-29T10:31:10.409Z"
   },
   {
    "duration": 36,
    "start_time": "2022-06-29T10:31:10.422Z"
   },
   {
    "duration": 24,
    "start_time": "2022-06-29T10:31:10.460Z"
   },
   {
    "duration": 3,
    "start_time": "2022-06-29T10:31:10.486Z"
   },
   {
    "duration": 77,
    "start_time": "2022-06-29T10:31:10.490Z"
   },
   {
    "duration": 501,
    "start_time": "2022-06-29T10:31:10.569Z"
   },
   {
    "duration": 4,
    "start_time": "2022-06-29T10:31:11.071Z"
   },
   {
    "duration": 59,
    "start_time": "2022-06-29T10:31:11.076Z"
   },
   {
    "duration": 4,
    "start_time": "2022-06-29T10:31:11.137Z"
   },
   {
    "duration": 32,
    "start_time": "2022-06-29T10:31:11.143Z"
   },
   {
    "duration": 21,
    "start_time": "2022-06-29T10:31:11.177Z"
   },
   {
    "duration": 337,
    "start_time": "2022-06-29T10:31:11.201Z"
   },
   {
    "duration": 23,
    "start_time": "2022-06-29T10:31:11.540Z"
   },
   {
    "duration": 343,
    "start_time": "2022-06-29T10:31:11.565Z"
   },
   {
    "duration": 322,
    "start_time": "2022-06-29T10:31:11.910Z"
   },
   {
    "duration": 1803,
    "start_time": "2022-06-29T10:31:35.630Z"
   },
   {
    "duration": 168,
    "start_time": "2022-06-29T10:31:44.505Z"
   },
   {
    "duration": 171,
    "start_time": "2022-06-29T10:31:50.979Z"
   },
   {
    "duration": 640,
    "start_time": "2022-06-29T10:35:46.329Z"
   },
   {
    "duration": 531,
    "start_time": "2022-06-29T10:36:14.255Z"
   },
   {
    "duration": 13,
    "start_time": "2022-06-29T10:36:14.788Z"
   },
   {
    "duration": 16,
    "start_time": "2022-06-29T10:36:14.802Z"
   },
   {
    "duration": 10,
    "start_time": "2022-06-29T10:36:14.819Z"
   },
   {
    "duration": 43,
    "start_time": "2022-06-29T10:36:14.831Z"
   },
   {
    "duration": 5,
    "start_time": "2022-06-29T10:36:14.875Z"
   },
   {
    "duration": 68,
    "start_time": "2022-06-29T10:36:14.881Z"
   },
   {
    "duration": 523,
    "start_time": "2022-06-29T10:36:14.951Z"
   },
   {
    "duration": 4,
    "start_time": "2022-06-29T10:36:15.476Z"
   },
   {
    "duration": 99,
    "start_time": "2022-06-29T10:36:15.482Z"
   },
   {
    "duration": 35,
    "start_time": "2022-06-29T10:36:15.583Z"
   },
   {
    "duration": 30,
    "start_time": "2022-06-29T10:36:15.620Z"
   },
   {
    "duration": 39,
    "start_time": "2022-06-29T10:36:15.655Z"
   },
   {
    "duration": 323,
    "start_time": "2022-06-29T10:36:15.697Z"
   },
   {
    "duration": 13,
    "start_time": "2022-06-29T10:36:16.022Z"
   },
   {
    "duration": 605,
    "start_time": "2022-06-29T10:36:16.036Z"
   },
   {
    "duration": 0,
    "start_time": "2022-06-29T10:36:16.651Z"
   },
   {
    "duration": 255,
    "start_time": "2022-06-29T10:38:01.722Z"
   },
   {
    "duration": 244,
    "start_time": "2022-06-29T10:38:16.549Z"
   },
   {
    "duration": 317,
    "start_time": "2022-06-29T10:38:26.785Z"
   },
   {
    "duration": 264,
    "start_time": "2022-06-29T10:46:02.382Z"
   },
   {
    "duration": 253,
    "start_time": "2022-06-29T10:46:23.247Z"
   },
   {
    "duration": 171,
    "start_time": "2022-06-29T10:46:36.503Z"
   },
   {
    "duration": 137,
    "start_time": "2022-06-29T10:46:41.978Z"
   },
   {
    "duration": 146,
    "start_time": "2022-06-29T10:46:54.524Z"
   },
   {
    "duration": 18,
    "start_time": "2022-06-29T10:48:11.696Z"
   },
   {
    "duration": 15,
    "start_time": "2022-06-29T10:48:52.782Z"
   },
   {
    "duration": 311,
    "start_time": "2022-06-29T10:49:30.948Z"
   },
   {
    "duration": 352,
    "start_time": "2022-06-29T10:49:46.561Z"
   },
   {
    "duration": 18,
    "start_time": "2022-06-29T10:50:26.215Z"
   },
   {
    "duration": 66,
    "start_time": "2022-06-29T10:51:35.392Z"
   },
   {
    "duration": 280,
    "start_time": "2022-06-29T10:51:55.369Z"
   },
   {
    "duration": 218,
    "start_time": "2022-06-29T10:52:14.777Z"
   },
   {
    "duration": 164,
    "start_time": "2022-06-29T10:52:27.244Z"
   },
   {
    "duration": 179,
    "start_time": "2022-06-29T10:52:35.333Z"
   },
   {
    "duration": 133,
    "start_time": "2022-06-29T10:52:47.137Z"
   },
   {
    "duration": 135,
    "start_time": "2022-06-29T10:53:08.564Z"
   },
   {
    "duration": 250,
    "start_time": "2022-06-29T10:53:44.416Z"
   },
   {
    "duration": 502,
    "start_time": "2022-06-29T10:54:06.685Z"
   },
   {
    "duration": 16,
    "start_time": "2022-06-29T10:54:07.189Z"
   },
   {
    "duration": 9,
    "start_time": "2022-06-29T10:54:07.206Z"
   },
   {
    "duration": 7,
    "start_time": "2022-06-29T10:54:07.217Z"
   },
   {
    "duration": 54,
    "start_time": "2022-06-29T10:54:07.226Z"
   },
   {
    "duration": 3,
    "start_time": "2022-06-29T10:54:07.281Z"
   },
   {
    "duration": 82,
    "start_time": "2022-06-29T10:54:07.286Z"
   },
   {
    "duration": 517,
    "start_time": "2022-06-29T10:54:07.370Z"
   },
   {
    "duration": 4,
    "start_time": "2022-06-29T10:54:07.888Z"
   },
   {
    "duration": 71,
    "start_time": "2022-06-29T10:54:07.894Z"
   },
   {
    "duration": 14,
    "start_time": "2022-06-29T10:54:07.966Z"
   },
   {
    "duration": 41,
    "start_time": "2022-06-29T10:54:07.982Z"
   },
   {
    "duration": 83,
    "start_time": "2022-06-29T10:54:08.024Z"
   },
   {
    "duration": 331,
    "start_time": "2022-06-29T10:54:08.109Z"
   },
   {
    "duration": 31,
    "start_time": "2022-06-29T10:54:08.442Z"
   },
   {
    "duration": 347,
    "start_time": "2022-06-29T10:54:08.475Z"
   },
   {
    "duration": 256,
    "start_time": "2022-06-29T10:54:08.823Z"
   },
   {
    "duration": 262,
    "start_time": "2022-06-29T10:55:39.296Z"
   },
   {
    "duration": 230,
    "start_time": "2022-06-29T10:55:47.658Z"
   },
   {
    "duration": 239,
    "start_time": "2022-06-29T10:55:53.078Z"
   },
   {
    "duration": 332,
    "start_time": "2022-06-29T10:55:58.651Z"
   },
   {
    "duration": 513,
    "start_time": "2022-06-29T10:56:11.960Z"
   },
   {
    "duration": 18,
    "start_time": "2022-06-29T10:56:12.476Z"
   },
   {
    "duration": 12,
    "start_time": "2022-06-29T10:56:12.498Z"
   },
   {
    "duration": 9,
    "start_time": "2022-06-29T10:56:12.512Z"
   },
   {
    "duration": 25,
    "start_time": "2022-06-29T10:56:12.553Z"
   },
   {
    "duration": 4,
    "start_time": "2022-06-29T10:56:12.580Z"
   },
   {
    "duration": 81,
    "start_time": "2022-06-29T10:56:12.586Z"
   },
   {
    "duration": 471,
    "start_time": "2022-06-29T10:56:12.669Z"
   },
   {
    "duration": 3,
    "start_time": "2022-06-29T10:56:13.141Z"
   },
   {
    "duration": 40,
    "start_time": "2022-06-29T10:56:13.151Z"
   },
   {
    "duration": 5,
    "start_time": "2022-06-29T10:56:13.193Z"
   },
   {
    "duration": 14,
    "start_time": "2022-06-29T10:56:13.200Z"
   },
   {
    "duration": 37,
    "start_time": "2022-06-29T10:56:13.218Z"
   },
   {
    "duration": 321,
    "start_time": "2022-06-29T10:56:13.257Z"
   },
   {
    "duration": 13,
    "start_time": "2022-06-29T10:56:13.579Z"
   },
   {
    "duration": 361,
    "start_time": "2022-06-29T10:56:13.593Z"
   },
   {
    "duration": 254,
    "start_time": "2022-06-29T10:56:13.956Z"
   },
   {
    "duration": 264,
    "start_time": "2022-06-29T11:02:40.864Z"
   },
   {
    "duration": 522,
    "start_time": "2022-06-29T11:02:57.589Z"
   },
   {
    "duration": 16,
    "start_time": "2022-06-29T11:02:58.113Z"
   },
   {
    "duration": 28,
    "start_time": "2022-06-29T11:02:58.131Z"
   },
   {
    "duration": 9,
    "start_time": "2022-06-29T11:02:58.161Z"
   },
   {
    "duration": 28,
    "start_time": "2022-06-29T11:02:58.172Z"
   },
   {
    "duration": 4,
    "start_time": "2022-06-29T11:02:58.201Z"
   },
   {
    "duration": 78,
    "start_time": "2022-06-29T11:02:58.206Z"
   },
   {
    "duration": 512,
    "start_time": "2022-06-29T11:02:58.286Z"
   },
   {
    "duration": 3,
    "start_time": "2022-06-29T11:02:58.800Z"
   },
   {
    "duration": 58,
    "start_time": "2022-06-29T11:02:58.806Z"
   },
   {
    "duration": 4,
    "start_time": "2022-06-29T11:02:58.866Z"
   },
   {
    "duration": 14,
    "start_time": "2022-06-29T11:02:58.872Z"
   },
   {
    "duration": 23,
    "start_time": "2022-06-29T11:02:58.888Z"
   },
   {
    "duration": 359,
    "start_time": "2022-06-29T11:02:58.912Z"
   },
   {
    "duration": 15,
    "start_time": "2022-06-29T11:02:59.272Z"
   },
   {
    "duration": 358,
    "start_time": "2022-06-29T11:02:59.289Z"
   },
   {
    "duration": 285,
    "start_time": "2022-06-29T11:02:59.651Z"
   },
   {
    "duration": 528,
    "start_time": "2022-06-29T11:03:34.342Z"
   },
   {
    "duration": 13,
    "start_time": "2022-06-29T11:03:34.872Z"
   },
   {
    "duration": 9,
    "start_time": "2022-06-29T11:03:34.886Z"
   },
   {
    "duration": 8,
    "start_time": "2022-06-29T11:03:34.897Z"
   },
   {
    "duration": 27,
    "start_time": "2022-06-29T11:03:34.907Z"
   },
   {
    "duration": 4,
    "start_time": "2022-06-29T11:03:34.952Z"
   },
   {
    "duration": 50,
    "start_time": "2022-06-29T11:03:34.957Z"
   },
   {
    "duration": 549,
    "start_time": "2022-06-29T11:03:35.009Z"
   },
   {
    "duration": 3,
    "start_time": "2022-06-29T11:03:35.560Z"
   },
   {
    "duration": 75,
    "start_time": "2022-06-29T11:03:35.565Z"
   },
   {
    "duration": 4,
    "start_time": "2022-06-29T11:03:35.642Z"
   },
   {
    "duration": 9,
    "start_time": "2022-06-29T11:03:35.648Z"
   },
   {
    "duration": 25,
    "start_time": "2022-06-29T11:03:35.658Z"
   },
   {
    "duration": 319,
    "start_time": "2022-06-29T11:03:35.685Z"
   },
   {
    "duration": 13,
    "start_time": "2022-06-29T11:03:36.006Z"
   },
   {
    "duration": 388,
    "start_time": "2022-06-29T11:03:36.020Z"
   },
   {
    "duration": 268,
    "start_time": "2022-06-29T11:03:36.409Z"
   },
   {
    "duration": 556,
    "start_time": "2022-06-29T11:05:01.827Z"
   },
   {
    "duration": 14,
    "start_time": "2022-06-29T11:05:02.385Z"
   },
   {
    "duration": 17,
    "start_time": "2022-06-29T11:05:02.401Z"
   },
   {
    "duration": 12,
    "start_time": "2022-06-29T11:05:02.419Z"
   },
   {
    "duration": 38,
    "start_time": "2022-06-29T11:05:02.433Z"
   },
   {
    "duration": 3,
    "start_time": "2022-06-29T11:05:02.473Z"
   },
   {
    "duration": 58,
    "start_time": "2022-06-29T11:05:02.478Z"
   },
   {
    "duration": 588,
    "start_time": "2022-06-29T11:05:02.553Z"
   },
   {
    "duration": 9,
    "start_time": "2022-06-29T11:05:03.143Z"
   },
   {
    "duration": 57,
    "start_time": "2022-06-29T11:05:03.153Z"
   },
   {
    "duration": 6,
    "start_time": "2022-06-29T11:05:03.212Z"
   },
   {
    "duration": 26,
    "start_time": "2022-06-29T11:05:03.220Z"
   },
   {
    "duration": 51,
    "start_time": "2022-06-29T11:05:03.248Z"
   },
   {
    "duration": 335,
    "start_time": "2022-06-29T11:05:03.301Z"
   },
   {
    "duration": 19,
    "start_time": "2022-06-29T11:05:03.638Z"
   },
   {
    "duration": 378,
    "start_time": "2022-06-29T11:05:03.659Z"
   },
   {
    "duration": 299,
    "start_time": "2022-06-29T11:05:04.039Z"
   },
   {
    "duration": 248,
    "start_time": "2022-06-29T11:06:05.407Z"
   },
   {
    "duration": 292,
    "start_time": "2022-06-29T11:06:23.587Z"
   },
   {
    "duration": 510,
    "start_time": "2022-06-29T11:09:35.275Z"
   },
   {
    "duration": 14,
    "start_time": "2022-06-29T11:09:35.787Z"
   },
   {
    "duration": 9,
    "start_time": "2022-06-29T11:09:35.802Z"
   },
   {
    "duration": 7,
    "start_time": "2022-06-29T11:09:35.813Z"
   },
   {
    "duration": 42,
    "start_time": "2022-06-29T11:09:35.822Z"
   },
   {
    "duration": 4,
    "start_time": "2022-06-29T11:09:35.866Z"
   },
   {
    "duration": 56,
    "start_time": "2022-06-29T11:09:35.871Z"
   },
   {
    "duration": 513,
    "start_time": "2022-06-29T11:09:35.928Z"
   },
   {
    "duration": 3,
    "start_time": "2022-06-29T11:09:36.443Z"
   },
   {
    "duration": 60,
    "start_time": "2022-06-29T11:09:36.454Z"
   },
   {
    "duration": 14,
    "start_time": "2022-06-29T11:09:36.516Z"
   },
   {
    "duration": 16,
    "start_time": "2022-06-29T11:09:36.533Z"
   },
   {
    "duration": 45,
    "start_time": "2022-06-29T11:09:36.551Z"
   },
   {
    "duration": 331,
    "start_time": "2022-06-29T11:09:36.597Z"
   },
   {
    "duration": 23,
    "start_time": "2022-06-29T11:09:36.930Z"
   },
   {
    "duration": 387,
    "start_time": "2022-06-29T11:09:36.954Z"
   },
   {
    "duration": 286,
    "start_time": "2022-06-29T11:09:37.351Z"
   },
   {
    "duration": 262,
    "start_time": "2022-06-29T11:09:58.503Z"
   },
   {
    "duration": 541,
    "start_time": "2022-06-29T11:13:53.750Z"
   },
   {
    "duration": 14,
    "start_time": "2022-06-29T11:13:54.293Z"
   },
   {
    "duration": 10,
    "start_time": "2022-06-29T11:13:54.309Z"
   },
   {
    "duration": 7,
    "start_time": "2022-06-29T11:13:54.321Z"
   },
   {
    "duration": 40,
    "start_time": "2022-06-29T11:13:54.330Z"
   },
   {
    "duration": 3,
    "start_time": "2022-06-29T11:13:54.372Z"
   },
   {
    "duration": 52,
    "start_time": "2022-06-29T11:13:54.376Z"
   },
   {
    "duration": 497,
    "start_time": "2022-06-29T11:13:54.430Z"
   },
   {
    "duration": 3,
    "start_time": "2022-06-29T11:13:54.929Z"
   },
   {
    "duration": 138,
    "start_time": "2022-06-29T11:13:54.933Z"
   },
   {
    "duration": 0,
    "start_time": "2022-06-29T11:13:55.073Z"
   },
   {
    "duration": 0,
    "start_time": "2022-06-29T11:13:55.074Z"
   },
   {
    "duration": 0,
    "start_time": "2022-06-29T11:13:55.075Z"
   },
   {
    "duration": 0,
    "start_time": "2022-06-29T11:13:55.077Z"
   },
   {
    "duration": 0,
    "start_time": "2022-06-29T11:13:55.078Z"
   },
   {
    "duration": 0,
    "start_time": "2022-06-29T11:13:55.079Z"
   },
   {
    "duration": 0,
    "start_time": "2022-06-29T11:13:55.080Z"
   },
   {
    "duration": 540,
    "start_time": "2022-06-29T11:14:42.353Z"
   },
   {
    "duration": 15,
    "start_time": "2022-06-29T11:14:42.894Z"
   },
   {
    "duration": 10,
    "start_time": "2022-06-29T11:14:42.912Z"
   },
   {
    "duration": 29,
    "start_time": "2022-06-29T11:14:42.925Z"
   },
   {
    "duration": 23,
    "start_time": "2022-06-29T11:14:42.956Z"
   },
   {
    "duration": 4,
    "start_time": "2022-06-29T11:14:42.980Z"
   },
   {
    "duration": 73,
    "start_time": "2022-06-29T11:14:42.985Z"
   },
   {
    "duration": 649,
    "start_time": "2022-06-29T11:14:43.060Z"
   },
   {
    "duration": 3,
    "start_time": "2022-06-29T11:14:43.711Z"
   },
   {
    "duration": 67,
    "start_time": "2022-06-29T11:14:43.717Z"
   },
   {
    "duration": 5,
    "start_time": "2022-06-29T11:14:43.786Z"
   },
   {
    "duration": 12,
    "start_time": "2022-06-29T11:14:43.793Z"
   },
   {
    "duration": 23,
    "start_time": "2022-06-29T11:14:43.807Z"
   },
   {
    "duration": 351,
    "start_time": "2022-06-29T11:14:43.832Z"
   },
   {
    "duration": 15,
    "start_time": "2022-06-29T11:14:44.186Z"
   },
   {
    "duration": 364,
    "start_time": "2022-06-29T11:14:44.203Z"
   },
   {
    "duration": 265,
    "start_time": "2022-06-29T11:14:44.569Z"
   },
   {
    "duration": 249,
    "start_time": "2022-06-29T11:15:07.737Z"
   },
   {
    "duration": 247,
    "start_time": "2022-06-29T11:15:16.980Z"
   },
   {
    "duration": 314,
    "start_time": "2022-06-29T11:15:32.019Z"
   },
   {
    "duration": 369,
    "start_time": "2022-06-29T11:15:53.109Z"
   },
   {
    "duration": 288,
    "start_time": "2022-06-29T11:16:47.340Z"
   },
   {
    "duration": 290,
    "start_time": "2022-06-29T11:18:34.412Z"
   },
   {
    "duration": 194,
    "start_time": "2022-06-29T11:18:49.058Z"
   },
   {
    "duration": 166,
    "start_time": "2022-06-29T11:19:20.317Z"
   },
   {
    "duration": 177,
    "start_time": "2022-06-29T11:19:41.986Z"
   },
   {
    "duration": 167,
    "start_time": "2022-06-29T11:19:57.224Z"
   },
   {
    "duration": 167,
    "start_time": "2022-06-29T11:20:15.088Z"
   },
   {
    "duration": 169,
    "start_time": "2022-06-29T11:20:32.177Z"
   },
   {
    "duration": 260,
    "start_time": "2022-06-29T11:20:52.983Z"
   },
   {
    "duration": 183,
    "start_time": "2022-06-29T11:21:05.878Z"
   },
   {
    "duration": 296,
    "start_time": "2022-06-29T11:21:43.606Z"
   },
   {
    "duration": 312,
    "start_time": "2022-06-29T11:21:58.117Z"
   },
   {
    "duration": 335,
    "start_time": "2022-06-29T11:22:12.115Z"
   },
   {
    "duration": 296,
    "start_time": "2022-06-29T11:22:32.889Z"
   },
   {
    "duration": 366,
    "start_time": "2022-06-29T11:22:50.754Z"
   },
   {
    "duration": 175,
    "start_time": "2022-06-29T11:23:54.270Z"
   },
   {
    "duration": 185,
    "start_time": "2022-06-29T11:24:10.627Z"
   },
   {
    "duration": 219,
    "start_time": "2022-06-29T11:24:29.385Z"
   },
   {
    "duration": 201,
    "start_time": "2022-06-29T11:24:36.962Z"
   },
   {
    "duration": 352,
    "start_time": "2022-06-29T11:52:29.418Z"
   },
   {
    "duration": 11,
    "start_time": "2022-06-29T11:52:45.675Z"
   },
   {
    "duration": 311,
    "start_time": "2022-06-29T11:52:50.333Z"
   },
   {
    "duration": 208,
    "start_time": "2022-06-29T12:07:41.719Z"
   },
   {
    "duration": 194,
    "start_time": "2022-06-29T12:08:13.673Z"
   },
   {
    "duration": 269,
    "start_time": "2022-06-29T12:08:33.611Z"
   },
   {
    "duration": 171,
    "start_time": "2022-06-29T12:08:46.267Z"
   },
   {
    "duration": 177,
    "start_time": "2022-06-29T12:11:45.467Z"
   },
   {
    "duration": 187,
    "start_time": "2022-06-29T12:11:55.975Z"
   },
   {
    "duration": 215,
    "start_time": "2022-06-29T12:12:30.566Z"
   },
   {
    "duration": 216,
    "start_time": "2022-06-29T12:13:26.453Z"
   },
   {
    "duration": 207,
    "start_time": "2022-06-29T12:13:40.780Z"
   },
   {
    "duration": 178,
    "start_time": "2022-06-29T12:13:51.279Z"
   },
   {
    "duration": 191,
    "start_time": "2022-06-29T12:14:11.123Z"
   },
   {
    "duration": 190,
    "start_time": "2022-06-29T12:16:27.675Z"
   },
   {
    "duration": 184,
    "start_time": "2022-06-29T12:16:37.465Z"
   },
   {
    "duration": 246,
    "start_time": "2022-06-29T12:17:07.004Z"
   },
   {
    "duration": 177,
    "start_time": "2022-06-29T12:17:14.700Z"
   },
   {
    "duration": 175,
    "start_time": "2022-06-29T12:17:25.628Z"
   },
   {
    "duration": 199,
    "start_time": "2022-06-29T12:17:33.017Z"
   },
   {
    "duration": 203,
    "start_time": "2022-06-29T12:17:42.976Z"
   },
   {
    "duration": 1149,
    "start_time": "2022-06-29T12:17:55.125Z"
   },
   {
    "duration": 1136,
    "start_time": "2022-06-29T12:18:41.953Z"
   },
   {
    "duration": 175,
    "start_time": "2022-06-29T12:19:09.870Z"
   },
   {
    "duration": 13,
    "start_time": "2022-06-29T12:20:27.456Z"
   },
   {
    "duration": 10,
    "start_time": "2022-06-29T12:21:10.999Z"
   },
   {
    "duration": 14,
    "start_time": "2022-06-29T12:22:24.791Z"
   },
   {
    "duration": 1027,
    "start_time": "2022-06-29T12:24:02.998Z"
   },
   {
    "duration": 28,
    "start_time": "2022-06-29T12:24:20.163Z"
   },
   {
    "duration": 7,
    "start_time": "2022-06-29T12:24:38.697Z"
   },
   {
    "duration": 69,
    "start_time": "2022-06-29T12:24:52.949Z"
   },
   {
    "duration": 27,
    "start_time": "2022-06-29T12:25:06.303Z"
   },
   {
    "duration": 11,
    "start_time": "2022-06-29T12:25:16.900Z"
   },
   {
    "duration": 36,
    "start_time": "2022-06-29T12:25:32.090Z"
   },
   {
    "duration": 16,
    "start_time": "2022-06-29T12:26:31.578Z"
   },
   {
    "duration": 32,
    "start_time": "2022-06-29T12:26:43.933Z"
   },
   {
    "duration": 31,
    "start_time": "2022-06-29T12:27:42.117Z"
   },
   {
    "duration": 7,
    "start_time": "2022-06-29T12:27:52.781Z"
   },
   {
    "duration": 6,
    "start_time": "2022-06-29T12:28:08.768Z"
   },
   {
    "duration": 7,
    "start_time": "2022-06-29T12:35:09.909Z"
   },
   {
    "duration": 877,
    "start_time": "2022-06-29T12:38:18.392Z"
   },
   {
    "duration": 18,
    "start_time": "2022-06-29T12:38:33.091Z"
   },
   {
    "duration": 15,
    "start_time": "2022-06-29T12:38:44.397Z"
   },
   {
    "duration": 73,
    "start_time": "2022-06-29T12:39:02.800Z"
   },
   {
    "duration": 70,
    "start_time": "2022-06-29T12:39:07.709Z"
   },
   {
    "duration": 10,
    "start_time": "2022-06-29T12:39:16.327Z"
   },
   {
    "duration": 17,
    "start_time": "2022-06-29T12:39:31.776Z"
   },
   {
    "duration": 17,
    "start_time": "2022-06-29T12:39:41.458Z"
   },
   {
    "duration": 10,
    "start_time": "2022-06-29T12:39:56.180Z"
   },
   {
    "duration": 13,
    "start_time": "2022-06-29T12:40:16.572Z"
   },
   {
    "duration": 12,
    "start_time": "2022-06-29T12:40:23.665Z"
   },
   {
    "duration": 11,
    "start_time": "2022-06-29T12:41:26.814Z"
   },
   {
    "duration": 16,
    "start_time": "2022-06-29T12:41:48.082Z"
   },
   {
    "duration": 10,
    "start_time": "2022-06-29T12:41:52.983Z"
   },
   {
    "duration": 6,
    "start_time": "2022-06-29T12:41:59.407Z"
   },
   {
    "duration": 10,
    "start_time": "2022-06-29T12:42:03.804Z"
   },
   {
    "duration": 25,
    "start_time": "2022-06-29T12:42:20.885Z"
   },
   {
    "duration": 18,
    "start_time": "2022-06-29T12:42:25.871Z"
   },
   {
    "duration": 5,
    "start_time": "2022-06-29T12:47:36.416Z"
   },
   {
    "duration": 9,
    "start_time": "2022-06-29T12:47:46.609Z"
   },
   {
    "duration": 13,
    "start_time": "2022-06-29T12:48:13.357Z"
   },
   {
    "duration": 50,
    "start_time": "2022-06-29T12:49:38.922Z"
   },
   {
    "duration": 64,
    "start_time": "2022-06-29T12:49:57.206Z"
   },
   {
    "duration": 59,
    "start_time": "2022-06-29T12:50:09.702Z"
   },
   {
    "duration": 63,
    "start_time": "2022-06-29T12:50:16.679Z"
   },
   {
    "duration": 52,
    "start_time": "2022-06-29T12:50:47.952Z"
   },
   {
    "duration": 8,
    "start_time": "2022-06-29T12:51:08.730Z"
   },
   {
    "duration": 10,
    "start_time": "2022-06-29T12:51:43.952Z"
   },
   {
    "duration": 84,
    "start_time": "2022-06-29T12:52:32.927Z"
   },
   {
    "duration": 14,
    "start_time": "2022-06-29T12:52:36.865Z"
   },
   {
    "duration": 15,
    "start_time": "2022-06-29T12:52:59.062Z"
   },
   {
    "duration": 16,
    "start_time": "2022-06-29T12:53:08.550Z"
   },
   {
    "duration": 17,
    "start_time": "2022-06-29T12:53:44.841Z"
   },
   {
    "duration": 11,
    "start_time": "2022-06-29T12:53:56.940Z"
   },
   {
    "duration": 186,
    "start_time": "2022-06-29T12:54:14.095Z"
   },
   {
    "duration": 191,
    "start_time": "2022-06-29T12:57:38.444Z"
   },
   {
    "duration": 166,
    "start_time": "2022-06-29T12:57:52.173Z"
   },
   {
    "duration": 266,
    "start_time": "2022-06-29T12:58:09.741Z"
   },
   {
    "duration": 171,
    "start_time": "2022-06-29T12:58:17.366Z"
   },
   {
    "duration": 188,
    "start_time": "2022-06-29T12:58:26.049Z"
   },
   {
    "duration": 192,
    "start_time": "2022-06-29T12:58:35.840Z"
   },
   {
    "duration": 223,
    "start_time": "2022-06-29T12:58:57.666Z"
   },
   {
    "duration": 183,
    "start_time": "2022-06-29T12:59:02.345Z"
   },
   {
    "duration": 189,
    "start_time": "2022-06-30T01:24:35.820Z"
   },
   {
    "duration": 213,
    "start_time": "2022-06-30T01:24:58.211Z"
   },
   {
    "duration": 132,
    "start_time": "2022-06-30T01:31:56.809Z"
   },
   {
    "duration": 138,
    "start_time": "2022-06-30T01:32:30.670Z"
   },
   {
    "duration": 167,
    "start_time": "2022-06-30T01:32:40.567Z"
   },
   {
    "duration": 218,
    "start_time": "2022-06-30T01:32:47.350Z"
   },
   {
    "duration": 135,
    "start_time": "2022-06-30T01:32:54.175Z"
   },
   {
    "duration": 1498,
    "start_time": "2022-06-30T01:33:00.822Z"
   },
   {
    "duration": 1561,
    "start_time": "2022-06-30T01:33:13.686Z"
   },
   {
    "duration": 879,
    "start_time": "2022-06-30T01:33:26.614Z"
   },
   {
    "duration": 409,
    "start_time": "2022-06-30T01:33:35.880Z"
   },
   {
    "duration": 403,
    "start_time": "2022-06-30T01:35:30.820Z"
   },
   {
    "duration": 567,
    "start_time": "2022-06-30T01:35:39.894Z"
   },
   {
    "duration": 107,
    "start_time": "2022-06-30T01:39:30.976Z"
   },
   {
    "duration": 701,
    "start_time": "2022-06-30T01:39:41.218Z"
   },
   {
    "duration": 12,
    "start_time": "2022-06-30T01:39:41.921Z"
   },
   {
    "duration": 17,
    "start_time": "2022-06-30T01:39:41.935Z"
   },
   {
    "duration": 7,
    "start_time": "2022-06-30T01:39:41.954Z"
   },
   {
    "duration": 22,
    "start_time": "2022-06-30T01:39:41.963Z"
   },
   {
    "duration": 3,
    "start_time": "2022-06-30T01:39:41.986Z"
   },
   {
    "duration": 81,
    "start_time": "2022-06-30T01:39:41.991Z"
   },
   {
    "duration": 265,
    "start_time": "2022-06-30T01:39:42.074Z"
   },
   {
    "duration": 4,
    "start_time": "2022-06-30T01:39:42.340Z"
   },
   {
    "duration": 65,
    "start_time": "2022-06-30T01:39:42.345Z"
   },
   {
    "duration": 4,
    "start_time": "2022-06-30T01:39:42.411Z"
   },
   {
    "duration": 8,
    "start_time": "2022-06-30T01:39:42.416Z"
   },
   {
    "duration": 20,
    "start_time": "2022-06-30T01:39:42.426Z"
   },
   {
    "duration": 365,
    "start_time": "2022-06-30T01:39:42.449Z"
   },
   {
    "duration": 14,
    "start_time": "2022-06-30T01:39:42.816Z"
   },
   {
    "duration": 283,
    "start_time": "2022-06-30T01:39:42.832Z"
   },
   {
    "duration": 277,
    "start_time": "2022-06-30T01:39:43.117Z"
   },
   {
    "duration": 158,
    "start_time": "2022-06-30T01:39:43.396Z"
   },
   {
    "duration": 201,
    "start_time": "2022-06-30T01:39:43.555Z"
   },
   {
    "duration": 413,
    "start_time": "2022-06-30T01:39:43.757Z"
   },
   {
    "duration": 567,
    "start_time": "2022-06-30T01:40:29.709Z"
   },
   {
    "duration": 397,
    "start_time": "2022-06-30T01:40:59.905Z"
   },
   {
    "duration": 371,
    "start_time": "2022-06-30T01:41:16.695Z"
   },
   {
    "duration": 70,
    "start_time": "2022-06-30T02:33:24.502Z"
   },
   {
    "duration": 533,
    "start_time": "2022-06-30T02:34:12.653Z"
   },
   {
    "duration": 498,
    "start_time": "2022-06-30T02:34:28.181Z"
   },
   {
    "duration": 516,
    "start_time": "2022-06-30T02:35:23.605Z"
   },
   {
    "duration": 517,
    "start_time": "2022-06-30T02:35:44.443Z"
   },
   {
    "duration": 710,
    "start_time": "2022-06-30T02:36:55.294Z"
   },
   {
    "duration": 537,
    "start_time": "2022-06-30T02:37:12.656Z"
   },
   {
    "duration": 10,
    "start_time": "2022-06-30T02:47:58.947Z"
   },
   {
    "duration": 546,
    "start_time": "2022-06-30T02:48:12.773Z"
   },
   {
    "duration": 56,
    "start_time": "2022-06-30T02:49:52.989Z"
   },
   {
    "duration": 26,
    "start_time": "2022-06-30T02:50:16.887Z"
   },
   {
    "duration": 583,
    "start_time": "2022-06-30T02:50:38.659Z"
   },
   {
    "duration": 656,
    "start_time": "2022-06-30T02:51:06.844Z"
   },
   {
    "duration": 541,
    "start_time": "2022-06-30T02:51:33.487Z"
   },
   {
    "duration": 262,
    "start_time": "2022-06-30T02:52:42.799Z"
   },
   {
    "duration": 651,
    "start_time": "2022-06-30T02:53:00.823Z"
   },
   {
    "duration": 698,
    "start_time": "2022-06-30T02:54:45.359Z"
   },
   {
    "duration": 13,
    "start_time": "2022-06-30T02:54:46.060Z"
   },
   {
    "duration": 8,
    "start_time": "2022-06-30T02:54:46.075Z"
   },
   {
    "duration": 10,
    "start_time": "2022-06-30T02:54:46.086Z"
   },
   {
    "duration": 23,
    "start_time": "2022-06-30T02:54:46.097Z"
   },
   {
    "duration": 33,
    "start_time": "2022-06-30T02:54:46.122Z"
   },
   {
    "duration": 53,
    "start_time": "2022-06-30T02:54:46.156Z"
   },
   {
    "duration": 268,
    "start_time": "2022-06-30T02:54:46.211Z"
   },
   {
    "duration": 4,
    "start_time": "2022-06-30T02:54:46.481Z"
   },
   {
    "duration": 47,
    "start_time": "2022-06-30T02:54:46.488Z"
   },
   {
    "duration": 5,
    "start_time": "2022-06-30T02:54:46.537Z"
   },
   {
    "duration": 8,
    "start_time": "2022-06-30T02:54:46.552Z"
   },
   {
    "duration": 21,
    "start_time": "2022-06-30T02:54:46.562Z"
   },
   {
    "duration": 383,
    "start_time": "2022-06-30T02:54:46.585Z"
   },
   {
    "duration": 16,
    "start_time": "2022-06-30T02:54:46.969Z"
   },
   {
    "duration": 312,
    "start_time": "2022-06-30T02:54:46.987Z"
   },
   {
    "duration": 283,
    "start_time": "2022-06-30T02:54:47.301Z"
   },
   {
    "duration": 166,
    "start_time": "2022-06-30T02:54:47.585Z"
   },
   {
    "duration": 206,
    "start_time": "2022-06-30T02:54:47.752Z"
   },
   {
    "duration": 416,
    "start_time": "2022-06-30T02:54:47.960Z"
   },
   {
    "duration": 641,
    "start_time": "2022-06-30T02:54:48.377Z"
   },
   {
    "duration": 540,
    "start_time": "2022-06-30T02:55:03.800Z"
   },
   {
    "duration": 719,
    "start_time": "2022-06-30T02:56:58.688Z"
   },
   {
    "duration": 14,
    "start_time": "2022-06-30T02:56:59.409Z"
   },
   {
    "duration": 13,
    "start_time": "2022-06-30T02:56:59.425Z"
   },
   {
    "duration": 8,
    "start_time": "2022-06-30T02:56:59.452Z"
   },
   {
    "duration": 23,
    "start_time": "2022-06-30T02:56:59.462Z"
   },
   {
    "duration": 4,
    "start_time": "2022-06-30T02:56:59.487Z"
   },
   {
    "duration": 74,
    "start_time": "2022-06-30T02:56:59.493Z"
   },
   {
    "duration": 271,
    "start_time": "2022-06-30T02:56:59.569Z"
   },
   {
    "duration": 10,
    "start_time": "2022-06-30T02:56:59.842Z"
   },
   {
    "duration": 63,
    "start_time": "2022-06-30T02:56:59.854Z"
   },
   {
    "duration": 5,
    "start_time": "2022-06-30T02:56:59.919Z"
   },
   {
    "duration": 11,
    "start_time": "2022-06-30T02:56:59.926Z"
   },
   {
    "duration": 21,
    "start_time": "2022-06-30T02:56:59.939Z"
   },
   {
    "duration": 355,
    "start_time": "2022-06-30T02:56:59.963Z"
   },
   {
    "duration": 15,
    "start_time": "2022-06-30T02:57:00.319Z"
   },
   {
    "duration": 297,
    "start_time": "2022-06-30T02:57:00.336Z"
   },
   {
    "duration": 281,
    "start_time": "2022-06-30T02:57:00.635Z"
   },
   {
    "duration": 164,
    "start_time": "2022-06-30T02:57:00.917Z"
   },
   {
    "duration": 215,
    "start_time": "2022-06-30T02:57:01.083Z"
   },
   {
    "duration": 2,
    "start_time": "2022-06-30T02:57:01.300Z"
   },
   {
    "duration": 577,
    "start_time": "2022-06-30T02:57:01.304Z"
   },
   {
    "duration": 591,
    "start_time": "2022-06-30T02:57:26.487Z"
   },
   {
    "duration": 524,
    "start_time": "2022-06-30T02:57:56.076Z"
   },
   {
    "duration": 541,
    "start_time": "2022-06-30T02:58:18.439Z"
   },
   {
    "duration": 527,
    "start_time": "2022-06-30T03:03:04.057Z"
   },
   {
    "duration": 639,
    "start_time": "2022-06-30T03:04:06.748Z"
   },
   {
    "duration": 548,
    "start_time": "2022-06-30T03:04:18.063Z"
   },
   {
    "duration": 542,
    "start_time": "2022-06-30T03:05:00.239Z"
   },
   {
    "duration": 73,
    "start_time": "2022-06-30T03:06:52.820Z"
   },
   {
    "duration": 668,
    "start_time": "2022-06-30T03:07:02.417Z"
   },
   {
    "duration": 538,
    "start_time": "2022-06-30T03:07:49.588Z"
   },
   {
    "duration": 550,
    "start_time": "2022-06-30T03:09:38.345Z"
   },
   {
    "duration": 541,
    "start_time": "2022-06-30T03:09:55.897Z"
   },
   {
    "duration": 70,
    "start_time": "2022-06-30T03:10:42.747Z"
   },
   {
    "duration": 742,
    "start_time": "2022-06-30T03:10:58.035Z"
   },
   {
    "duration": 526,
    "start_time": "2022-06-30T03:11:10.696Z"
   },
   {
    "duration": 547,
    "start_time": "2022-06-30T03:11:49.731Z"
   },
   {
    "duration": 529,
    "start_time": "2022-06-30T03:12:03.125Z"
   },
   {
    "duration": 547,
    "start_time": "2022-06-30T03:12:34.684Z"
   },
   {
    "duration": 517,
    "start_time": "2022-06-30T03:12:51.919Z"
   },
   {
    "duration": 524,
    "start_time": "2022-06-30T03:15:52.698Z"
   },
   {
    "duration": 668,
    "start_time": "2022-06-30T03:16:06.927Z"
   },
   {
    "duration": 549,
    "start_time": "2022-06-30T03:27:09.604Z"
   },
   {
    "duration": 555,
    "start_time": "2022-06-30T03:27:30.912Z"
   },
   {
    "duration": 522,
    "start_time": "2022-06-30T03:28:05.214Z"
   },
   {
    "duration": 678,
    "start_time": "2022-06-30T03:28:17.993Z"
   },
   {
    "duration": 514,
    "start_time": "2022-06-30T03:28:25.331Z"
   },
   {
    "duration": 531,
    "start_time": "2022-06-30T03:29:02.392Z"
   },
   {
    "duration": 268,
    "start_time": "2022-06-30T03:29:37.213Z"
   },
   {
    "duration": 636,
    "start_time": "2022-06-30T03:29:45.711Z"
   },
   {
    "duration": 557,
    "start_time": "2022-06-30T03:31:02.453Z"
   },
   {
    "duration": 675,
    "start_time": "2022-06-30T03:33:59.480Z"
   },
   {
    "duration": 577,
    "start_time": "2022-06-30T03:34:14.491Z"
   },
   {
    "duration": 717,
    "start_time": "2022-06-30T03:34:42.446Z"
   },
   {
    "duration": 12,
    "start_time": "2022-06-30T03:34:43.165Z"
   },
   {
    "duration": 8,
    "start_time": "2022-06-30T03:34:43.178Z"
   },
   {
    "duration": 14,
    "start_time": "2022-06-30T03:34:43.187Z"
   },
   {
    "duration": 22,
    "start_time": "2022-06-30T03:34:43.203Z"
   },
   {
    "duration": 26,
    "start_time": "2022-06-30T03:34:43.227Z"
   },
   {
    "duration": 54,
    "start_time": "2022-06-30T03:34:43.255Z"
   },
   {
    "duration": 264,
    "start_time": "2022-06-30T03:34:43.311Z"
   },
   {
    "duration": 3,
    "start_time": "2022-06-30T03:34:43.577Z"
   },
   {
    "duration": 49,
    "start_time": "2022-06-30T03:34:43.581Z"
   },
   {
    "duration": 4,
    "start_time": "2022-06-30T03:34:43.632Z"
   },
   {
    "duration": 15,
    "start_time": "2022-06-30T03:34:43.638Z"
   },
   {
    "duration": 21,
    "start_time": "2022-06-30T03:34:43.654Z"
   },
   {
    "duration": 368,
    "start_time": "2022-06-30T03:34:43.678Z"
   },
   {
    "duration": 16,
    "start_time": "2022-06-30T03:34:44.048Z"
   },
   {
    "duration": 306,
    "start_time": "2022-06-30T03:34:44.065Z"
   },
   {
    "duration": 273,
    "start_time": "2022-06-30T03:34:44.373Z"
   },
   {
    "duration": 162,
    "start_time": "2022-06-30T03:34:44.652Z"
   },
   {
    "duration": 207,
    "start_time": "2022-06-30T03:34:44.815Z"
   },
   {
    "duration": 81,
    "start_time": "2022-06-30T03:34:45.023Z"
   },
   {
    "duration": 0,
    "start_time": "2022-06-30T03:34:45.105Z"
   },
   {
    "duration": 0,
    "start_time": "2022-06-30T03:34:45.107Z"
   },
   {
    "duration": 9,
    "start_time": "2022-06-30T03:35:28.860Z"
   },
   {
    "duration": 700,
    "start_time": "2022-06-30T03:35:36.736Z"
   },
   {
    "duration": 580,
    "start_time": "2022-06-30T03:35:51.316Z"
   },
   {
    "duration": 252,
    "start_time": "2022-06-30T03:36:19.036Z"
   },
   {
    "duration": 716,
    "start_time": "2022-06-30T03:36:57.955Z"
   },
   {
    "duration": 586,
    "start_time": "2022-06-30T03:37:14.870Z"
   },
   {
    "duration": 488,
    "start_time": "2022-06-30T03:38:04.101Z"
   },
   {
    "duration": 527,
    "start_time": "2022-06-30T03:38:11.727Z"
   },
   {
    "duration": 599,
    "start_time": "2022-06-30T03:43:07.888Z"
   },
   {
    "duration": 546,
    "start_time": "2022-06-30T03:58:27.389Z"
   },
   {
    "duration": 641,
    "start_time": "2022-06-30T04:11:18.213Z"
   },
   {
    "duration": 191,
    "start_time": "2022-06-30T04:13:26.153Z"
   },
   {
    "duration": 700,
    "start_time": "2022-06-30T04:13:38.426Z"
   },
   {
    "duration": 677,
    "start_time": "2022-06-30T04:14:29.678Z"
   },
   {
    "duration": 582,
    "start_time": "2022-06-30T04:15:00.159Z"
   },
   {
    "duration": 719,
    "start_time": "2022-06-30T04:16:15.076Z"
   },
   {
    "duration": 14,
    "start_time": "2022-06-30T04:16:15.797Z"
   },
   {
    "duration": 10,
    "start_time": "2022-06-30T04:16:15.813Z"
   },
   {
    "duration": 29,
    "start_time": "2022-06-30T04:16:15.824Z"
   },
   {
    "duration": 22,
    "start_time": "2022-06-30T04:16:15.855Z"
   },
   {
    "duration": 3,
    "start_time": "2022-06-30T04:16:15.878Z"
   },
   {
    "duration": 53,
    "start_time": "2022-06-30T04:16:15.883Z"
   },
   {
    "duration": 262,
    "start_time": "2022-06-30T04:16:15.951Z"
   },
   {
    "duration": 4,
    "start_time": "2022-06-30T04:16:16.214Z"
   },
   {
    "duration": 57,
    "start_time": "2022-06-30T04:16:16.219Z"
   },
   {
    "duration": 4,
    "start_time": "2022-06-30T04:16:16.278Z"
   },
   {
    "duration": 14,
    "start_time": "2022-06-30T04:16:16.283Z"
   },
   {
    "duration": 22,
    "start_time": "2022-06-30T04:16:16.298Z"
   },
   {
    "duration": 406,
    "start_time": "2022-06-30T04:16:16.323Z"
   },
   {
    "duration": 24,
    "start_time": "2022-06-30T04:16:16.731Z"
   },
   {
    "duration": 291,
    "start_time": "2022-06-30T04:16:16.756Z"
   },
   {
    "duration": 281,
    "start_time": "2022-06-30T04:16:17.052Z"
   },
   {
    "duration": 167,
    "start_time": "2022-06-30T04:16:17.334Z"
   },
   {
    "duration": 211,
    "start_time": "2022-06-30T04:16:17.503Z"
   },
   {
    "duration": 537,
    "start_time": "2022-06-30T04:16:17.715Z"
   },
   {
    "duration": 693,
    "start_time": "2022-06-30T04:16:18.254Z"
   },
   {
    "duration": 708,
    "start_time": "2022-06-30T04:16:37.384Z"
   },
   {
    "duration": 772,
    "start_time": "2022-06-30T04:16:44.333Z"
   },
   {
    "duration": 16,
    "start_time": "2022-06-30T04:16:45.106Z"
   },
   {
    "duration": 30,
    "start_time": "2022-06-30T04:16:45.123Z"
   },
   {
    "duration": 8,
    "start_time": "2022-06-30T04:16:45.154Z"
   },
   {
    "duration": 34,
    "start_time": "2022-06-30T04:16:45.165Z"
   },
   {
    "duration": 34,
    "start_time": "2022-06-30T04:16:45.201Z"
   },
   {
    "duration": 80,
    "start_time": "2022-06-30T04:16:45.237Z"
   },
   {
    "duration": 317,
    "start_time": "2022-06-30T04:16:45.319Z"
   },
   {
    "duration": 4,
    "start_time": "2022-06-30T04:16:45.637Z"
   },
   {
    "duration": 73,
    "start_time": "2022-06-30T04:16:45.642Z"
   },
   {
    "duration": 4,
    "start_time": "2022-06-30T04:16:45.717Z"
   },
   {
    "duration": 12,
    "start_time": "2022-06-30T04:16:45.723Z"
   },
   {
    "duration": 24,
    "start_time": "2022-06-30T04:16:45.737Z"
   },
   {
    "duration": 366,
    "start_time": "2022-06-30T04:16:45.765Z"
   },
   {
    "duration": 28,
    "start_time": "2022-06-30T04:16:46.133Z"
   },
   {
    "duration": 355,
    "start_time": "2022-06-30T04:16:46.165Z"
   },
   {
    "duration": 316,
    "start_time": "2022-06-30T04:16:46.522Z"
   },
   {
    "duration": 170,
    "start_time": "2022-06-30T04:16:46.839Z"
   },
   {
    "duration": 224,
    "start_time": "2022-06-30T04:16:47.010Z"
   },
   {
    "duration": 566,
    "start_time": "2022-06-30T04:16:47.236Z"
   },
   {
    "duration": 736,
    "start_time": "2022-06-30T04:16:47.804Z"
   },
   {
    "duration": 732,
    "start_time": "2022-06-30T04:28:25.812Z"
   },
   {
    "duration": 13,
    "start_time": "2022-06-30T04:28:26.546Z"
   },
   {
    "duration": 13,
    "start_time": "2022-06-30T04:28:26.560Z"
   },
   {
    "duration": 8,
    "start_time": "2022-06-30T04:28:26.576Z"
   },
   {
    "duration": 27,
    "start_time": "2022-06-30T04:28:26.585Z"
   },
   {
    "duration": 4,
    "start_time": "2022-06-30T04:28:26.613Z"
   },
   {
    "duration": 87,
    "start_time": "2022-06-30T04:28:26.618Z"
   },
   {
    "duration": 278,
    "start_time": "2022-06-30T04:28:26.707Z"
   },
   {
    "duration": 3,
    "start_time": "2022-06-30T04:28:26.987Z"
   },
   {
    "duration": 30,
    "start_time": "2022-06-30T04:28:26.992Z"
   },
   {
    "duration": 4,
    "start_time": "2022-06-30T04:28:27.024Z"
   },
   {
    "duration": 30,
    "start_time": "2022-06-30T04:28:27.029Z"
   },
   {
    "duration": 23,
    "start_time": "2022-06-30T04:28:27.061Z"
   },
   {
    "duration": 380,
    "start_time": "2022-06-30T04:28:27.085Z"
   },
   {
    "duration": 16,
    "start_time": "2022-06-30T04:28:27.467Z"
   },
   {
    "duration": 332,
    "start_time": "2022-06-30T04:28:27.484Z"
   },
   {
    "duration": 332,
    "start_time": "2022-06-30T04:28:27.817Z"
   },
   {
    "duration": 173,
    "start_time": "2022-06-30T04:28:28.152Z"
   },
   {
    "duration": 223,
    "start_time": "2022-06-30T04:28:28.326Z"
   },
   {
    "duration": 526,
    "start_time": "2022-06-30T04:28:28.552Z"
   },
   {
    "duration": 740,
    "start_time": "2022-06-30T04:28:29.080Z"
   },
   {
    "duration": 608,
    "start_time": "2022-06-30T04:29:37.102Z"
   },
   {
    "duration": 728,
    "start_time": "2022-06-30T04:29:43.829Z"
   },
   {
    "duration": 13,
    "start_time": "2022-06-30T04:29:44.559Z"
   },
   {
    "duration": 8,
    "start_time": "2022-06-30T04:29:44.574Z"
   },
   {
    "duration": 9,
    "start_time": "2022-06-30T04:29:44.583Z"
   },
   {
    "duration": 36,
    "start_time": "2022-06-30T04:29:44.594Z"
   },
   {
    "duration": 4,
    "start_time": "2022-06-30T04:29:44.653Z"
   },
   {
    "duration": 51,
    "start_time": "2022-06-30T04:29:44.658Z"
   },
   {
    "duration": 277,
    "start_time": "2022-06-30T04:29:44.711Z"
   },
   {
    "duration": 3,
    "start_time": "2022-06-30T04:29:44.990Z"
   },
   {
    "duration": 63,
    "start_time": "2022-06-30T04:29:44.994Z"
   },
   {
    "duration": 4,
    "start_time": "2022-06-30T04:29:45.059Z"
   },
   {
    "duration": 13,
    "start_time": "2022-06-30T04:29:45.064Z"
   },
   {
    "duration": 22,
    "start_time": "2022-06-30T04:29:45.079Z"
   },
   {
    "duration": 452,
    "start_time": "2022-06-30T04:29:45.105Z"
   },
   {
    "duration": 15,
    "start_time": "2022-06-30T04:29:45.558Z"
   },
   {
    "duration": 311,
    "start_time": "2022-06-30T04:29:45.574Z"
   },
   {
    "duration": 296,
    "start_time": "2022-06-30T04:29:45.886Z"
   },
   {
    "duration": 177,
    "start_time": "2022-06-30T04:29:46.184Z"
   },
   {
    "duration": 215,
    "start_time": "2022-06-30T04:29:46.362Z"
   },
   {
    "duration": 513,
    "start_time": "2022-06-30T04:29:46.579Z"
   },
   {
    "duration": 621,
    "start_time": "2022-06-30T04:29:47.093Z"
   },
   {
    "duration": 73,
    "start_time": "2022-06-30T04:31:14.235Z"
   },
   {
    "duration": 9,
    "start_time": "2022-06-30T05:16:04.511Z"
   },
   {
    "duration": 130,
    "start_time": "2022-06-30T05:16:20.906Z"
   },
   {
    "duration": 232,
    "start_time": "2022-06-30T05:16:32.820Z"
   },
   {
    "duration": 429,
    "start_time": "2022-06-30T05:16:43.292Z"
   },
   {
    "duration": 582,
    "start_time": "2022-06-30T05:17:07.280Z"
   },
   {
    "duration": 468,
    "start_time": "2022-06-30T05:17:13.357Z"
   },
   {
    "duration": 493,
    "start_time": "2022-06-30T05:17:27.504Z"
   },
   {
    "duration": 569,
    "start_time": "2022-06-30T05:17:39.308Z"
   },
   {
    "duration": 8,
    "start_time": "2022-06-30T05:18:17.353Z"
   },
   {
    "duration": 508,
    "start_time": "2022-06-30T05:18:40.127Z"
   },
   {
    "duration": 58,
    "start_time": "2022-06-30T05:19:18.298Z"
   },
   {
    "duration": 600,
    "start_time": "2022-06-30T05:19:23.836Z"
   },
   {
    "duration": 498,
    "start_time": "2022-06-30T05:19:30.517Z"
   },
   {
    "duration": 457,
    "start_time": "2022-06-30T05:20:21.480Z"
   },
   {
    "duration": 649,
    "start_time": "2022-06-30T05:20:28.778Z"
   },
   {
    "duration": 482,
    "start_time": "2022-06-30T05:20:47.352Z"
   },
   {
    "duration": 8,
    "start_time": "2022-06-30T05:21:04.320Z"
   },
   {
    "duration": 9,
    "start_time": "2022-06-30T05:21:29.995Z"
   },
   {
    "duration": 483,
    "start_time": "2022-06-30T05:22:15.557Z"
   },
   {
    "duration": 9,
    "start_time": "2022-06-30T05:23:09.766Z"
   },
   {
    "duration": 656,
    "start_time": "2022-06-30T05:23:17.259Z"
   },
   {
    "duration": 548,
    "start_time": "2022-06-30T05:24:32.655Z"
   },
   {
    "duration": 486,
    "start_time": "2022-06-30T05:24:57.017Z"
   },
   {
    "duration": 491,
    "start_time": "2022-06-30T05:25:05.815Z"
   },
   {
    "duration": 694,
    "start_time": "2022-06-30T05:25:17.258Z"
   },
   {
    "duration": 9,
    "start_time": "2022-06-30T05:25:26.851Z"
   },
   {
    "duration": 496,
    "start_time": "2022-06-30T05:25:40.343Z"
   },
   {
    "duration": 470,
    "start_time": "2022-06-30T05:25:50.558Z"
   },
   {
    "duration": 760,
    "start_time": "2022-06-30T05:25:57.552Z"
   },
   {
    "duration": 10,
    "start_time": "2022-06-30T05:27:31.137Z"
   },
   {
    "duration": 10,
    "start_time": "2022-06-30T05:27:37.609Z"
   },
   {
    "duration": 473,
    "start_time": "2022-06-30T05:28:29.287Z"
   },
   {
    "duration": 8,
    "start_time": "2022-06-30T05:28:34.274Z"
   },
   {
    "duration": 8,
    "start_time": "2022-06-30T05:29:02.912Z"
   },
   {
    "duration": 7,
    "start_time": "2022-06-30T05:29:31.687Z"
   },
   {
    "duration": 9,
    "start_time": "2022-06-30T05:29:38.949Z"
   },
   {
    "duration": 8,
    "start_time": "2022-06-30T05:29:45.043Z"
   },
   {
    "duration": 502,
    "start_time": "2022-06-30T05:29:58.286Z"
   },
   {
    "duration": 240,
    "start_time": "2022-06-30T05:30:08.386Z"
   },
   {
    "duration": 16,
    "start_time": "2022-06-30T05:32:31.260Z"
   },
   {
    "duration": 15,
    "start_time": "2022-06-30T05:32:49.794Z"
   },
   {
    "duration": 804,
    "start_time": "2022-06-30T05:34:58.737Z"
   },
   {
    "duration": 17,
    "start_time": "2022-06-30T05:34:59.544Z"
   },
   {
    "duration": 10,
    "start_time": "2022-06-30T05:34:59.562Z"
   },
   {
    "duration": 13,
    "start_time": "2022-06-30T05:34:59.574Z"
   },
   {
    "duration": 25,
    "start_time": "2022-06-30T05:34:59.589Z"
   },
   {
    "duration": 3,
    "start_time": "2022-06-30T05:34:59.616Z"
   },
   {
    "duration": 51,
    "start_time": "2022-06-30T05:34:59.653Z"
   },
   {
    "duration": 340,
    "start_time": "2022-06-30T05:34:59.706Z"
   },
   {
    "duration": 4,
    "start_time": "2022-06-30T05:35:00.052Z"
   },
   {
    "duration": 48,
    "start_time": "2022-06-30T05:35:00.058Z"
   },
   {
    "duration": 4,
    "start_time": "2022-06-30T05:35:00.108Z"
   },
   {
    "duration": 30,
    "start_time": "2022-06-30T05:35:00.114Z"
   },
   {
    "duration": 31,
    "start_time": "2022-06-30T05:35:00.146Z"
   },
   {
    "duration": 369,
    "start_time": "2022-06-30T05:35:00.179Z"
   },
   {
    "duration": 15,
    "start_time": "2022-06-30T05:35:00.552Z"
   },
   {
    "duration": 320,
    "start_time": "2022-06-30T05:35:00.569Z"
   },
   {
    "duration": 310,
    "start_time": "2022-06-30T05:35:00.890Z"
   },
   {
    "duration": 184,
    "start_time": "2022-06-30T05:35:01.201Z"
   },
   {
    "duration": 236,
    "start_time": "2022-06-30T05:35:01.386Z"
   },
   {
    "duration": 547,
    "start_time": "2022-06-30T05:35:01.624Z"
   },
   {
    "duration": 696,
    "start_time": "2022-06-30T05:35:02.173Z"
   },
   {
    "duration": 0,
    "start_time": "2022-06-30T05:37:12.977Z"
   },
   {
    "duration": 82,
    "start_time": "2022-06-30T05:40:45.181Z"
   },
   {
    "duration": 9,
    "start_time": "2022-06-30T05:40:53.000Z"
   },
   {
    "duration": 1373,
    "start_time": "2022-06-30T05:41:04.886Z"
   },
   {
    "duration": 141,
    "start_time": "2022-06-30T05:41:16.528Z"
   },
   {
    "duration": 144,
    "start_time": "2022-06-30T05:42:02.416Z"
   },
   {
    "duration": 146,
    "start_time": "2022-06-30T05:42:13.926Z"
   },
   {
    "duration": 143,
    "start_time": "2022-06-30T05:43:31.643Z"
   },
   {
    "duration": 35,
    "start_time": "2022-06-30T05:45:16.973Z"
   },
   {
    "duration": 754,
    "start_time": "2022-06-30T05:46:19.438Z"
   },
   {
    "duration": 14,
    "start_time": "2022-06-30T05:46:20.194Z"
   },
   {
    "duration": 15,
    "start_time": "2022-06-30T05:46:20.209Z"
   },
   {
    "duration": 37,
    "start_time": "2022-06-30T05:46:20.226Z"
   },
   {
    "duration": 28,
    "start_time": "2022-06-30T05:46:20.265Z"
   },
   {
    "duration": 10,
    "start_time": "2022-06-30T05:46:20.294Z"
   },
   {
    "duration": 81,
    "start_time": "2022-06-30T05:46:20.306Z"
   },
   {
    "duration": 274,
    "start_time": "2022-06-30T05:46:20.389Z"
   },
   {
    "duration": 3,
    "start_time": "2022-06-30T05:46:20.665Z"
   },
   {
    "duration": 58,
    "start_time": "2022-06-30T05:46:20.670Z"
   },
   {
    "duration": 5,
    "start_time": "2022-06-30T05:46:20.730Z"
   },
   {
    "duration": 10,
    "start_time": "2022-06-30T05:46:20.737Z"
   },
   {
    "duration": 24,
    "start_time": "2022-06-30T05:46:20.748Z"
   },
   {
    "duration": 373,
    "start_time": "2022-06-30T05:46:20.775Z"
   },
   {
    "duration": 16,
    "start_time": "2022-06-30T05:46:21.149Z"
   },
   {
    "duration": 408,
    "start_time": "2022-06-30T05:46:21.166Z"
   },
   {
    "duration": 614,
    "start_time": "2022-06-30T05:46:21.576Z"
   },
   {
    "duration": 383,
    "start_time": "2022-06-30T05:46:22.192Z"
   },
   {
    "duration": 418,
    "start_time": "2022-06-30T05:46:22.577Z"
   },
   {
    "duration": 556,
    "start_time": "2022-06-30T05:46:23.051Z"
   },
   {
    "duration": 627,
    "start_time": "2022-06-30T05:46:23.609Z"
   },
   {
    "duration": 37,
    "start_time": "2022-06-30T05:46:24.238Z"
   },
   {
    "duration": 10,
    "start_time": "2022-06-30T05:48:25.172Z"
   },
   {
    "duration": 21,
    "start_time": "2022-06-30T05:48:40.624Z"
   },
   {
    "duration": 32,
    "start_time": "2022-06-30T05:48:51.722Z"
   },
   {
    "duration": 148,
    "start_time": "2022-06-30T05:49:06.467Z"
   },
   {
    "duration": 145,
    "start_time": "2022-06-30T05:49:32.707Z"
   },
   {
    "duration": 159,
    "start_time": "2022-06-30T05:49:37.535Z"
   },
   {
    "duration": 158,
    "start_time": "2022-06-30T05:49:40.785Z"
   },
   {
    "duration": 146,
    "start_time": "2022-06-30T05:49:47.580Z"
   },
   {
    "duration": 149,
    "start_time": "2022-06-30T05:49:54.036Z"
   },
   {
    "duration": 152,
    "start_time": "2022-06-30T05:50:09.145Z"
   },
   {
    "duration": 145,
    "start_time": "2022-06-30T05:50:14.400Z"
   },
   {
    "duration": 215,
    "start_time": "2022-06-30T05:50:19.397Z"
   },
   {
    "duration": 145,
    "start_time": "2022-06-30T05:50:24.443Z"
   },
   {
    "duration": 149,
    "start_time": "2022-06-30T05:50:28.344Z"
   },
   {
    "duration": 144,
    "start_time": "2022-06-30T05:50:34.032Z"
   },
   {
    "duration": 145,
    "start_time": "2022-06-30T05:50:43.320Z"
   },
   {
    "duration": 147,
    "start_time": "2022-06-30T05:50:49.601Z"
   },
   {
    "duration": 157,
    "start_time": "2022-06-30T05:50:54.056Z"
   },
   {
    "duration": 174,
    "start_time": "2022-06-30T05:50:58.111Z"
   },
   {
    "duration": 150,
    "start_time": "2022-06-30T05:51:03.085Z"
   },
   {
    "duration": 171,
    "start_time": "2022-06-30T05:51:23.263Z"
   },
   {
    "duration": 189,
    "start_time": "2022-06-30T05:51:31.023Z"
   },
   {
    "duration": 238,
    "start_time": "2022-06-30T05:51:35.985Z"
   },
   {
    "duration": 193,
    "start_time": "2022-06-30T05:51:41.065Z"
   },
   {
    "duration": 177,
    "start_time": "2022-06-30T05:51:46.421Z"
   },
   {
    "duration": 168,
    "start_time": "2022-06-30T05:51:52.298Z"
   },
   {
    "duration": 169,
    "start_time": "2022-06-30T05:52:06.428Z"
   },
   {
    "duration": 225,
    "start_time": "2022-06-30T05:52:25.103Z"
   },
   {
    "duration": 187,
    "start_time": "2022-06-30T05:54:56.990Z"
   },
   {
    "duration": 192,
    "start_time": "2022-06-30T05:55:41.612Z"
   },
   {
    "duration": 192,
    "start_time": "2022-06-30T05:55:52.877Z"
   },
   {
    "duration": 185,
    "start_time": "2022-06-30T05:56:03.317Z"
   },
   {
    "duration": 198,
    "start_time": "2022-06-30T05:56:13.744Z"
   },
   {
    "duration": 256,
    "start_time": "2022-06-30T05:56:42.170Z"
   },
   {
    "duration": 186,
    "start_time": "2022-06-30T05:57:02.982Z"
   },
   {
    "duration": 235,
    "start_time": "2022-06-30T05:57:22.530Z"
   },
   {
    "duration": 209,
    "start_time": "2022-06-30T05:57:40.678Z"
   },
   {
    "duration": 209,
    "start_time": "2022-06-30T05:57:52.534Z"
   },
   {
    "duration": 191,
    "start_time": "2022-06-30T05:57:56.948Z"
   },
   {
    "duration": 188,
    "start_time": "2022-06-30T05:58:05.589Z"
   },
   {
    "duration": 188,
    "start_time": "2022-06-30T05:58:15.372Z"
   },
   {
    "duration": 190,
    "start_time": "2022-06-30T05:58:33.545Z"
   },
   {
    "duration": 206,
    "start_time": "2022-06-30T05:58:38.952Z"
   },
   {
    "duration": 17,
    "start_time": "2022-06-30T05:59:52.422Z"
   },
   {
    "duration": 21,
    "start_time": "2022-06-30T06:00:36.273Z"
   },
   {
    "duration": 1115,
    "start_time": "2022-06-30T06:00:46.584Z"
   },
   {
    "duration": 182,
    "start_time": "2022-06-30T06:00:57.801Z"
   },
   {
    "duration": 215,
    "start_time": "2022-06-30T06:01:15.775Z"
   },
   {
    "duration": 162,
    "start_time": "2022-06-30T06:01:22.295Z"
   },
   {
    "duration": 151,
    "start_time": "2022-06-30T06:01:29.531Z"
   },
   {
    "duration": 155,
    "start_time": "2022-06-30T06:01:43.537Z"
   },
   {
    "duration": 149,
    "start_time": "2022-06-30T06:03:16.867Z"
   },
   {
    "duration": 738,
    "start_time": "2022-06-30T06:05:45.961Z"
   },
   {
    "duration": 16,
    "start_time": "2022-06-30T06:05:46.702Z"
   },
   {
    "duration": 33,
    "start_time": "2022-06-30T06:05:46.720Z"
   },
   {
    "duration": 10,
    "start_time": "2022-06-30T06:05:46.754Z"
   },
   {
    "duration": 24,
    "start_time": "2022-06-30T06:05:46.767Z"
   },
   {
    "duration": 4,
    "start_time": "2022-06-30T06:05:46.793Z"
   },
   {
    "duration": 85,
    "start_time": "2022-06-30T06:05:46.799Z"
   },
   {
    "duration": 292,
    "start_time": "2022-06-30T06:05:46.886Z"
   },
   {
    "duration": 3,
    "start_time": "2022-06-30T06:05:47.180Z"
   },
   {
    "duration": 53,
    "start_time": "2022-06-30T06:05:47.184Z"
   },
   {
    "duration": 4,
    "start_time": "2022-06-30T06:05:47.239Z"
   },
   {
    "duration": 13,
    "start_time": "2022-06-30T06:05:47.244Z"
   },
   {
    "duration": 23,
    "start_time": "2022-06-30T06:05:47.258Z"
   },
   {
    "duration": 396,
    "start_time": "2022-06-30T06:05:47.284Z"
   },
   {
    "duration": 17,
    "start_time": "2022-06-30T06:05:47.682Z"
   },
   {
    "duration": 334,
    "start_time": "2022-06-30T06:05:47.701Z"
   },
   {
    "duration": 299,
    "start_time": "2022-06-30T06:05:48.037Z"
   },
   {
    "duration": 187,
    "start_time": "2022-06-30T06:05:48.337Z"
   },
   {
    "duration": 214,
    "start_time": "2022-06-30T06:05:48.526Z"
   },
   {
    "duration": 531,
    "start_time": "2022-06-30T06:05:48.742Z"
   },
   {
    "duration": 657,
    "start_time": "2022-06-30T06:05:49.275Z"
   },
   {
    "duration": 163,
    "start_time": "2022-06-30T06:05:49.933Z"
   },
   {
    "duration": 338,
    "start_time": "2022-06-30T06:08:43.203Z"
   },
   {
    "duration": 345,
    "start_time": "2022-06-30T06:08:54.505Z"
   },
   {
    "duration": 9,
    "start_time": "2022-06-30T06:09:52.541Z"
   },
   {
    "duration": 791,
    "start_time": "2022-06-30T06:09:58.445Z"
   },
   {
    "duration": 16,
    "start_time": "2022-06-30T06:09:59.238Z"
   },
   {
    "duration": 11,
    "start_time": "2022-06-30T06:09:59.256Z"
   },
   {
    "duration": 8,
    "start_time": "2022-06-30T06:09:59.270Z"
   },
   {
    "duration": 30,
    "start_time": "2022-06-30T06:09:59.280Z"
   },
   {
    "duration": 3,
    "start_time": "2022-06-30T06:09:59.312Z"
   },
   {
    "duration": 83,
    "start_time": "2022-06-30T06:09:59.317Z"
   },
   {
    "duration": 298,
    "start_time": "2022-06-30T06:09:59.402Z"
   },
   {
    "duration": 4,
    "start_time": "2022-06-30T06:09:59.702Z"
   },
   {
    "duration": 152,
    "start_time": "2022-06-30T06:09:59.708Z"
   },
   {
    "duration": 4,
    "start_time": "2022-06-30T06:09:59.862Z"
   },
   {
    "duration": 20,
    "start_time": "2022-06-30T06:09:59.868Z"
   },
   {
    "duration": 23,
    "start_time": "2022-06-30T06:09:59.890Z"
   },
   {
    "duration": 407,
    "start_time": "2022-06-30T06:09:59.915Z"
   },
   {
    "duration": 15,
    "start_time": "2022-06-30T06:10:00.324Z"
   },
   {
    "duration": 310,
    "start_time": "2022-06-30T06:10:00.352Z"
   },
   {
    "duration": 307,
    "start_time": "2022-06-30T06:10:00.664Z"
   },
   {
    "duration": 181,
    "start_time": "2022-06-30T06:10:00.973Z"
   },
   {
    "duration": 235,
    "start_time": "2022-06-30T06:10:01.156Z"
   },
   {
    "duration": 535,
    "start_time": "2022-06-30T06:10:01.392Z"
   },
   {
    "duration": 665,
    "start_time": "2022-06-30T06:10:01.929Z"
   },
   {
    "duration": 163,
    "start_time": "2022-06-30T06:10:02.596Z"
   },
   {
    "duration": 288,
    "start_time": "2022-06-30T06:10:22.755Z"
   },
   {
    "duration": 317,
    "start_time": "2022-06-30T06:10:51.752Z"
   },
   {
    "duration": 328,
    "start_time": "2022-06-30T06:11:03.654Z"
   },
   {
    "duration": 396,
    "start_time": "2022-06-30T06:11:08.400Z"
   },
   {
    "duration": 305,
    "start_time": "2022-06-30T06:11:12.836Z"
   },
   {
    "duration": 832,
    "start_time": "2022-06-30T06:12:07.285Z"
   },
   {
    "duration": 17,
    "start_time": "2022-06-30T06:12:08.119Z"
   },
   {
    "duration": 20,
    "start_time": "2022-06-30T06:12:08.138Z"
   },
   {
    "duration": 13,
    "start_time": "2022-06-30T06:12:08.160Z"
   },
   {
    "duration": 42,
    "start_time": "2022-06-30T06:12:08.174Z"
   },
   {
    "duration": 3,
    "start_time": "2022-06-30T06:12:08.217Z"
   },
   {
    "duration": 63,
    "start_time": "2022-06-30T06:12:08.222Z"
   },
   {
    "duration": 274,
    "start_time": "2022-06-30T06:12:08.287Z"
   },
   {
    "duration": 3,
    "start_time": "2022-06-30T06:12:08.562Z"
   },
   {
    "duration": 58,
    "start_time": "2022-06-30T06:12:08.568Z"
   },
   {
    "duration": 5,
    "start_time": "2022-06-30T06:12:08.627Z"
   },
   {
    "duration": 10,
    "start_time": "2022-06-30T06:12:08.633Z"
   },
   {
    "duration": 28,
    "start_time": "2022-06-30T06:12:08.645Z"
   },
   {
    "duration": 371,
    "start_time": "2022-06-30T06:12:08.674Z"
   },
   {
    "duration": 17,
    "start_time": "2022-06-30T06:12:09.051Z"
   },
   {
    "duration": 331,
    "start_time": "2022-06-30T06:12:09.070Z"
   },
   {
    "duration": 330,
    "start_time": "2022-06-30T06:12:09.403Z"
   },
   {
    "duration": 176,
    "start_time": "2022-06-30T06:12:09.735Z"
   },
   {
    "duration": 232,
    "start_time": "2022-06-30T06:12:09.913Z"
   },
   {
    "duration": 532,
    "start_time": "2022-06-30T06:12:10.152Z"
   },
   {
    "duration": 655,
    "start_time": "2022-06-30T06:12:10.686Z"
   },
   {
    "duration": 163,
    "start_time": "2022-06-30T06:12:11.342Z"
   },
   {
    "duration": 27,
    "start_time": "2022-06-30T06:12:48.482Z"
   },
   {
    "duration": 733,
    "start_time": "2022-06-30T06:12:52.655Z"
   },
   {
    "duration": 15,
    "start_time": "2022-06-30T06:12:53.391Z"
   },
   {
    "duration": 10,
    "start_time": "2022-06-30T06:12:53.407Z"
   },
   {
    "duration": 10,
    "start_time": "2022-06-30T06:12:53.419Z"
   },
   {
    "duration": 42,
    "start_time": "2022-06-30T06:12:53.431Z"
   },
   {
    "duration": 3,
    "start_time": "2022-06-30T06:12:53.475Z"
   },
   {
    "duration": 50,
    "start_time": "2022-06-30T06:12:53.480Z"
   },
   {
    "duration": 273,
    "start_time": "2022-06-30T06:12:53.552Z"
   },
   {
    "duration": 4,
    "start_time": "2022-06-30T06:12:53.826Z"
   },
   {
    "duration": 72,
    "start_time": "2022-06-30T06:12:53.831Z"
   },
   {
    "duration": 47,
    "start_time": "2022-06-30T06:12:53.905Z"
   },
   {
    "duration": 75,
    "start_time": "2022-06-30T06:12:53.954Z"
   },
   {
    "duration": 49,
    "start_time": "2022-06-30T06:12:54.031Z"
   },
   {
    "duration": 385,
    "start_time": "2022-06-30T06:12:54.083Z"
   },
   {
    "duration": 15,
    "start_time": "2022-06-30T06:12:54.470Z"
   },
   {
    "duration": 327,
    "start_time": "2022-06-30T06:12:54.486Z"
   },
   {
    "duration": 315,
    "start_time": "2022-06-30T06:12:54.815Z"
   },
   {
    "duration": 238,
    "start_time": "2022-06-30T06:12:55.131Z"
   },
   {
    "duration": 237,
    "start_time": "2022-06-30T06:12:55.372Z"
   },
   {
    "duration": 542,
    "start_time": "2022-06-30T06:12:55.610Z"
   },
   {
    "duration": 634,
    "start_time": "2022-06-30T06:12:56.154Z"
   },
   {
    "duration": 163,
    "start_time": "2022-06-30T06:12:56.789Z"
   },
   {
    "duration": 317,
    "start_time": "2022-06-30T06:13:13.941Z"
   },
   {
    "duration": 324,
    "start_time": "2022-06-30T06:13:23.906Z"
   },
   {
    "duration": 695,
    "start_time": "2022-06-30T06:14:56.201Z"
   },
   {
    "duration": 13,
    "start_time": "2022-06-30T06:14:56.898Z"
   },
   {
    "duration": 11,
    "start_time": "2022-06-30T06:14:56.913Z"
   },
   {
    "duration": 27,
    "start_time": "2022-06-30T06:14:56.925Z"
   },
   {
    "duration": 22,
    "start_time": "2022-06-30T06:14:56.954Z"
   },
   {
    "duration": 3,
    "start_time": "2022-06-30T06:14:56.978Z"
   },
   {
    "duration": 72,
    "start_time": "2022-06-30T06:14:56.982Z"
   },
   {
    "duration": 288,
    "start_time": "2022-06-30T06:14:57.056Z"
   },
   {
    "duration": 6,
    "start_time": "2022-06-30T06:14:57.346Z"
   },
   {
    "duration": 52,
    "start_time": "2022-06-30T06:14:57.353Z"
   },
   {
    "duration": 5,
    "start_time": "2022-06-30T06:14:57.407Z"
   },
   {
    "duration": 10,
    "start_time": "2022-06-30T06:14:57.414Z"
   },
   {
    "duration": 45,
    "start_time": "2022-06-30T06:14:57.426Z"
   },
   {
    "duration": 412,
    "start_time": "2022-06-30T06:14:57.473Z"
   },
   {
    "duration": 16,
    "start_time": "2022-06-30T06:14:57.886Z"
   },
   {
    "duration": 353,
    "start_time": "2022-06-30T06:14:57.904Z"
   },
   {
    "duration": 332,
    "start_time": "2022-06-30T06:14:58.259Z"
   },
   {
    "duration": 197,
    "start_time": "2022-06-30T06:14:58.592Z"
   },
   {
    "duration": 240,
    "start_time": "2022-06-30T06:14:58.791Z"
   },
   {
    "duration": 579,
    "start_time": "2022-06-30T06:14:59.033Z"
   },
   {
    "duration": 686,
    "start_time": "2022-06-30T06:14:59.614Z"
   },
   {
    "duration": 175,
    "start_time": "2022-06-30T06:15:00.302Z"
   },
   {
    "duration": 326,
    "start_time": "2022-06-30T06:15:11.834Z"
   },
   {
    "duration": 300,
    "start_time": "2022-06-30T06:15:22.188Z"
   },
   {
    "duration": 296,
    "start_time": "2022-06-30T06:15:42.862Z"
   },
   {
    "duration": 151,
    "start_time": "2022-06-30T06:18:10.139Z"
   },
   {
    "duration": 223,
    "start_time": "2022-06-30T06:18:17.800Z"
   },
   {
    "duration": 141,
    "start_time": "2022-06-30T06:19:14.283Z"
   },
   {
    "duration": 180,
    "start_time": "2022-06-30T06:19:25.211Z"
   },
   {
    "duration": 153,
    "start_time": "2022-06-30T06:22:12.042Z"
   },
   {
    "duration": 142,
    "start_time": "2022-06-30T06:22:17.235Z"
   },
   {
    "duration": 178,
    "start_time": "2022-06-30T06:22:25.229Z"
   },
   {
    "duration": 159,
    "start_time": "2022-06-30T06:25:18.534Z"
   },
   {
    "duration": 142,
    "start_time": "2022-06-30T06:25:23.197Z"
   },
   {
    "duration": 160,
    "start_time": "2022-06-30T06:25:59.683Z"
   },
   {
    "duration": 157,
    "start_time": "2022-06-30T06:26:11.834Z"
   },
   {
    "duration": 164,
    "start_time": "2022-06-30T06:26:20.991Z"
   },
   {
    "duration": 265,
    "start_time": "2022-06-30T06:27:45.404Z"
   },
   {
    "duration": 975,
    "start_time": "2022-06-30T06:27:57.725Z"
   },
   {
    "duration": 1051,
    "start_time": "2022-06-30T06:28:29.689Z"
   },
   {
    "duration": 772,
    "start_time": "2022-06-30T06:29:18.753Z"
   },
   {
    "duration": 27,
    "start_time": "2022-06-30T06:29:19.527Z"
   },
   {
    "duration": 11,
    "start_time": "2022-06-30T06:29:19.556Z"
   },
   {
    "duration": 10,
    "start_time": "2022-06-30T06:29:19.570Z"
   },
   {
    "duration": 34,
    "start_time": "2022-06-30T06:29:19.582Z"
   },
   {
    "duration": 37,
    "start_time": "2022-06-30T06:29:19.617Z"
   },
   {
    "duration": 69,
    "start_time": "2022-06-30T06:29:19.656Z"
   },
   {
    "duration": 297,
    "start_time": "2022-06-30T06:29:19.727Z"
   },
   {
    "duration": 4,
    "start_time": "2022-06-30T06:29:20.026Z"
   },
   {
    "duration": 54,
    "start_time": "2022-06-30T06:29:20.034Z"
   },
   {
    "duration": 6,
    "start_time": "2022-06-30T06:29:20.090Z"
   },
   {
    "duration": 12,
    "start_time": "2022-06-30T06:29:20.098Z"
   },
   {
    "duration": 53,
    "start_time": "2022-06-30T06:29:20.111Z"
   },
   {
    "duration": 370,
    "start_time": "2022-06-30T06:29:20.166Z"
   },
   {
    "duration": 21,
    "start_time": "2022-06-30T06:29:20.538Z"
   },
   {
    "duration": 328,
    "start_time": "2022-06-30T06:29:20.561Z"
   },
   {
    "duration": 363,
    "start_time": "2022-06-30T06:29:20.891Z"
   },
   {
    "duration": 181,
    "start_time": "2022-06-30T06:29:21.256Z"
   },
   {
    "duration": 235,
    "start_time": "2022-06-30T06:29:21.439Z"
   },
   {
    "duration": 586,
    "start_time": "2022-06-30T06:29:21.676Z"
   },
   {
    "duration": 749,
    "start_time": "2022-06-30T06:29:22.264Z"
   },
   {
    "duration": 1136,
    "start_time": "2022-06-30T06:29:23.015Z"
   },
   {
    "duration": 0,
    "start_time": "2022-06-30T06:29:24.154Z"
   },
   {
    "duration": 856,
    "start_time": "2022-06-30T06:30:13.830Z"
   },
   {
    "duration": 147,
    "start_time": "2022-06-30T06:30:22.896Z"
   },
   {
    "duration": 1190,
    "start_time": "2022-06-30T06:30:59.971Z"
   },
   {
    "duration": 161,
    "start_time": "2022-06-30T06:31:40.304Z"
   },
   {
    "duration": 160,
    "start_time": "2022-06-30T06:32:05.880Z"
   },
   {
    "duration": 155,
    "start_time": "2022-06-30T06:32:13.952Z"
   },
   {
    "duration": 155,
    "start_time": "2022-06-30T06:32:19.190Z"
   },
   {
    "duration": 152,
    "start_time": "2022-06-30T06:32:26.379Z"
   },
   {
    "duration": 194,
    "start_time": "2022-06-30T06:32:32.541Z"
   },
   {
    "duration": 190,
    "start_time": "2022-06-30T06:32:37.753Z"
   },
   {
    "duration": 203,
    "start_time": "2022-06-30T06:32:52.241Z"
   },
   {
    "duration": 146,
    "start_time": "2022-06-30T06:32:58.586Z"
   },
   {
    "duration": 151,
    "start_time": "2022-06-30T06:33:11.820Z"
   },
   {
    "duration": 135,
    "start_time": "2022-06-30T06:33:17.497Z"
   },
   {
    "duration": 143,
    "start_time": "2022-06-30T06:33:21.832Z"
   },
   {
    "duration": 134,
    "start_time": "2022-06-30T06:33:32.241Z"
   },
   {
    "duration": 165,
    "start_time": "2022-06-30T06:33:36.077Z"
   },
   {
    "duration": 150,
    "start_time": "2022-06-30T06:33:42.371Z"
   },
   {
    "duration": 156,
    "start_time": "2022-06-30T06:33:46.641Z"
   },
   {
    "duration": 146,
    "start_time": "2022-06-30T06:33:50.411Z"
   },
   {
    "duration": 133,
    "start_time": "2022-06-30T06:33:54.201Z"
   },
   {
    "duration": 204,
    "start_time": "2022-06-30T06:33:57.042Z"
   },
   {
    "duration": 137,
    "start_time": "2022-06-30T06:34:00.871Z"
   },
   {
    "duration": 136,
    "start_time": "2022-06-30T06:34:03.378Z"
   },
   {
    "duration": 135,
    "start_time": "2022-06-30T06:34:06.810Z"
   },
   {
    "duration": 155,
    "start_time": "2022-06-30T06:34:18.765Z"
   },
   {
    "duration": 155,
    "start_time": "2022-06-30T06:36:44.145Z"
   },
   {
    "duration": 166,
    "start_time": "2022-06-30T06:46:56.856Z"
   },
   {
    "duration": 156,
    "start_time": "2022-06-30T06:47:44.517Z"
   },
   {
    "duration": 200,
    "start_time": "2022-06-30T06:48:26.553Z"
   },
   {
    "duration": 749,
    "start_time": "2022-06-30T06:49:26.658Z"
   },
   {
    "duration": 14,
    "start_time": "2022-06-30T06:49:27.409Z"
   },
   {
    "duration": 9,
    "start_time": "2022-06-30T06:49:27.425Z"
   },
   {
    "duration": 21,
    "start_time": "2022-06-30T06:49:27.436Z"
   },
   {
    "duration": 25,
    "start_time": "2022-06-30T06:49:27.459Z"
   },
   {
    "duration": 4,
    "start_time": "2022-06-30T06:49:27.486Z"
   },
   {
    "duration": 82,
    "start_time": "2022-06-30T06:49:27.491Z"
   },
   {
    "duration": 282,
    "start_time": "2022-06-30T06:49:27.575Z"
   },
   {
    "duration": 3,
    "start_time": "2022-06-30T06:49:27.859Z"
   },
   {
    "duration": 78,
    "start_time": "2022-06-30T06:49:27.864Z"
   },
   {
    "duration": 8,
    "start_time": "2022-06-30T06:49:27.944Z"
   },
   {
    "duration": 13,
    "start_time": "2022-06-30T06:49:27.954Z"
   },
   {
    "duration": 30,
    "start_time": "2022-06-30T06:49:27.968Z"
   },
   {
    "duration": 389,
    "start_time": "2022-06-30T06:49:28.001Z"
   },
   {
    "duration": 15,
    "start_time": "2022-06-30T06:49:28.392Z"
   },
   {
    "duration": 317,
    "start_time": "2022-06-30T06:49:28.409Z"
   },
   {
    "duration": 311,
    "start_time": "2022-06-30T06:49:28.728Z"
   },
   {
    "duration": 174,
    "start_time": "2022-06-30T06:49:29.041Z"
   },
   {
    "duration": 227,
    "start_time": "2022-06-30T06:49:29.217Z"
   },
   {
    "duration": 535,
    "start_time": "2022-06-30T06:49:29.445Z"
   },
   {
    "duration": 664,
    "start_time": "2022-06-30T06:49:29.982Z"
   },
   {
    "duration": 159,
    "start_time": "2022-06-30T06:49:30.651Z"
   },
   {
    "duration": 223,
    "start_time": "2022-06-30T06:49:30.812Z"
   },
   {
    "duration": 7,
    "start_time": "2022-06-30T06:50:34.904Z"
   },
   {
    "duration": 192,
    "start_time": "2022-06-30T06:50:44.365Z"
   },
   {
    "duration": 214,
    "start_time": "2022-06-30T06:54:17.992Z"
   },
   {
    "duration": 148,
    "start_time": "2022-06-30T06:54:41.682Z"
   },
   {
    "duration": 160,
    "start_time": "2022-06-30T06:54:52.770Z"
   },
   {
    "duration": 162,
    "start_time": "2022-06-30T06:54:58.336Z"
   },
   {
    "duration": 145,
    "start_time": "2022-06-30T06:55:09.521Z"
   },
   {
    "duration": 234,
    "start_time": "2022-06-30T06:56:27.470Z"
   },
   {
    "duration": 11,
    "start_time": "2022-06-30T06:57:08.400Z"
   },
   {
    "duration": 12,
    "start_time": "2022-06-30T06:57:17.331Z"
   },
   {
    "duration": 17,
    "start_time": "2022-06-30T06:58:12.583Z"
   },
   {
    "duration": 176,
    "start_time": "2022-06-30T07:01:30.452Z"
   },
   {
    "duration": 147,
    "start_time": "2022-06-30T07:02:22.046Z"
   },
   {
    "duration": 152,
    "start_time": "2022-06-30T07:02:45.360Z"
   },
   {
    "duration": 1442,
    "start_time": "2022-06-30T07:03:20.112Z"
   },
   {
    "duration": 161,
    "start_time": "2022-06-30T07:03:36.379Z"
   },
   {
    "duration": 156,
    "start_time": "2022-06-30T07:03:45.684Z"
   },
   {
    "duration": 986,
    "start_time": "2022-06-30T07:05:20.410Z"
   },
   {
    "duration": 156,
    "start_time": "2022-06-30T07:05:44.826Z"
   },
   {
    "duration": 149,
    "start_time": "2022-06-30T07:05:56.956Z"
   },
   {
    "duration": 162,
    "start_time": "2022-06-30T07:06:03.249Z"
   },
   {
    "duration": 157,
    "start_time": "2022-06-30T07:06:10.162Z"
   },
   {
    "duration": 154,
    "start_time": "2022-06-30T07:06:16.802Z"
   },
   {
    "duration": 235,
    "start_time": "2022-06-30T07:06:39.200Z"
   },
   {
    "duration": 168,
    "start_time": "2022-06-30T07:06:48.332Z"
   },
   {
    "duration": 181,
    "start_time": "2022-06-30T07:06:58.797Z"
   },
   {
    "duration": 190,
    "start_time": "2022-06-30T07:07:04.773Z"
   },
   {
    "duration": 177,
    "start_time": "2022-06-30T07:07:29.410Z"
   },
   {
    "duration": 204,
    "start_time": "2022-06-30T07:07:37.733Z"
   },
   {
    "duration": 189,
    "start_time": "2022-06-30T07:07:48.849Z"
   },
   {
    "duration": 180,
    "start_time": "2022-06-30T07:08:10.659Z"
   },
   {
    "duration": 186,
    "start_time": "2022-06-30T07:10:26.185Z"
   },
   {
    "duration": 150,
    "start_time": "2022-06-30T07:20:32.689Z"
   },
   {
    "duration": 207,
    "start_time": "2022-06-30T07:20:37.131Z"
   },
   {
    "duration": 254,
    "start_time": "2022-06-30T07:20:46.386Z"
   },
   {
    "duration": 182,
    "start_time": "2022-06-30T07:20:50.238Z"
   },
   {
    "duration": 168,
    "start_time": "2022-06-30T07:20:54.966Z"
   },
   {
    "duration": 181,
    "start_time": "2022-06-30T07:20:59.212Z"
   },
   {
    "duration": 143,
    "start_time": "2022-06-30T07:21:12.974Z"
   },
   {
    "duration": 162,
    "start_time": "2022-06-30T07:21:18.176Z"
   },
   {
    "duration": 164,
    "start_time": "2022-06-30T07:21:21.861Z"
   },
   {
    "duration": 181,
    "start_time": "2022-06-30T07:21:27.148Z"
   },
   {
    "duration": 186,
    "start_time": "2022-06-30T07:21:31.848Z"
   },
   {
    "duration": 176,
    "start_time": "2022-06-30T07:21:34.966Z"
   },
   {
    "duration": 170,
    "start_time": "2022-06-30T07:21:48.747Z"
   },
   {
    "duration": 92,
    "start_time": "2022-06-30T07:22:46.237Z"
   },
   {
    "duration": 27,
    "start_time": "2022-06-30T07:23:16.838Z"
   },
   {
    "duration": 175,
    "start_time": "2022-06-30T07:23:53.585Z"
   },
   {
    "duration": 181,
    "start_time": "2022-06-30T07:24:03.088Z"
   },
   {
    "duration": 180,
    "start_time": "2022-06-30T07:25:54.677Z"
   },
   {
    "duration": 154,
    "start_time": "2022-06-30T07:26:00.870Z"
   },
   {
    "duration": 149,
    "start_time": "2022-06-30T07:31:10.619Z"
   },
   {
    "duration": 144,
    "start_time": "2022-06-30T07:33:20.516Z"
   },
   {
    "duration": 176,
    "start_time": "2022-06-30T07:33:25.152Z"
   },
   {
    "duration": 144,
    "start_time": "2022-06-30T07:33:29.890Z"
   },
   {
    "duration": 153,
    "start_time": "2022-06-30T07:35:00.456Z"
   },
   {
    "duration": 145,
    "start_time": "2022-06-30T07:35:29.386Z"
   },
   {
    "duration": 9,
    "start_time": "2022-06-30T07:36:56.504Z"
   },
   {
    "duration": 144,
    "start_time": "2022-06-30T07:37:10.379Z"
   },
   {
    "duration": 218,
    "start_time": "2022-06-30T07:39:17.088Z"
   },
   {
    "duration": 141,
    "start_time": "2022-06-30T07:39:26.836Z"
   },
   {
    "duration": 143,
    "start_time": "2022-06-30T07:39:56.859Z"
   },
   {
    "duration": 190,
    "start_time": "2022-06-30T07:40:05.155Z"
   },
   {
    "duration": 144,
    "start_time": "2022-06-30T07:40:10.609Z"
   },
   {
    "duration": 144,
    "start_time": "2022-06-30T07:40:30.917Z"
   },
   {
    "duration": 157,
    "start_time": "2022-06-30T07:40:58.975Z"
   },
   {
    "duration": 16,
    "start_time": "2022-06-30T07:41:49.295Z"
   },
   {
    "duration": 174,
    "start_time": "2022-06-30T07:42:50.811Z"
   },
   {
    "duration": 153,
    "start_time": "2022-06-30T07:43:32.872Z"
   },
   {
    "duration": 124,
    "start_time": "2022-06-30T07:49:28.069Z"
   },
   {
    "duration": 321,
    "start_time": "2022-06-30T07:52:45.179Z"
   },
   {
    "duration": 106,
    "start_time": "2022-06-30T08:03:42.105Z"
   },
   {
    "duration": 27,
    "start_time": "2022-06-30T08:03:52.506Z"
   },
   {
    "duration": 25,
    "start_time": "2022-06-30T08:03:56.807Z"
   },
   {
    "duration": 28,
    "start_time": "2022-06-30T08:04:05.062Z"
   },
   {
    "duration": 734,
    "start_time": "2022-06-30T08:04:23.847Z"
   },
   {
    "duration": 16,
    "start_time": "2022-06-30T08:04:24.584Z"
   },
   {
    "duration": 12,
    "start_time": "2022-06-30T08:04:24.602Z"
   },
   {
    "duration": 38,
    "start_time": "2022-06-30T08:04:24.616Z"
   },
   {
    "duration": 21,
    "start_time": "2022-06-30T08:04:24.657Z"
   },
   {
    "duration": 3,
    "start_time": "2022-06-30T08:04:24.680Z"
   },
   {
    "duration": 71,
    "start_time": "2022-06-30T08:04:24.685Z"
   },
   {
    "duration": 275,
    "start_time": "2022-06-30T08:04:24.758Z"
   },
   {
    "duration": 3,
    "start_time": "2022-06-30T08:04:25.035Z"
   },
   {
    "duration": 53,
    "start_time": "2022-06-30T08:04:25.052Z"
   },
   {
    "duration": 6,
    "start_time": "2022-06-30T08:04:25.107Z"
   },
   {
    "duration": 16,
    "start_time": "2022-06-30T08:04:25.115Z"
   },
   {
    "duration": 32,
    "start_time": "2022-06-30T08:04:25.133Z"
   },
   {
    "duration": 432,
    "start_time": "2022-06-30T08:04:25.170Z"
   },
   {
    "duration": 13,
    "start_time": "2022-06-30T08:04:25.604Z"
   },
   {
    "duration": 327,
    "start_time": "2022-06-30T08:04:25.619Z"
   },
   {
    "duration": 314,
    "start_time": "2022-06-30T08:04:25.948Z"
   },
   {
    "duration": 174,
    "start_time": "2022-06-30T08:04:26.263Z"
   },
   {
    "duration": 223,
    "start_time": "2022-06-30T08:04:26.439Z"
   },
   {
    "duration": 521,
    "start_time": "2022-06-30T08:04:26.664Z"
   },
   {
    "duration": 624,
    "start_time": "2022-06-30T08:04:27.186Z"
   },
   {
    "duration": 166,
    "start_time": "2022-06-30T08:04:27.812Z"
   },
   {
    "duration": 167,
    "start_time": "2022-06-30T08:04:27.980Z"
   },
   {
    "duration": 188,
    "start_time": "2022-06-30T08:04:28.152Z"
   },
   {
    "duration": 179,
    "start_time": "2022-06-30T08:04:28.342Z"
   },
   {
    "duration": 155,
    "start_time": "2022-06-30T08:04:28.522Z"
   },
   {
    "duration": 169,
    "start_time": "2022-06-30T08:04:28.678Z"
   },
   {
    "duration": 173,
    "start_time": "2022-06-30T08:04:28.848Z"
   },
   {
    "duration": 158,
    "start_time": "2022-06-30T08:04:44.824Z"
   },
   {
    "duration": 63,
    "start_time": "2022-06-30T08:07:18.382Z"
   },
   {
    "duration": 222,
    "start_time": "2022-06-30T08:08:11.770Z"
   },
   {
    "duration": 154,
    "start_time": "2022-06-30T08:08:39.043Z"
   },
   {
    "duration": 164,
    "start_time": "2022-06-30T08:08:55.061Z"
   },
   {
    "duration": 152,
    "start_time": "2022-06-30T08:09:23.654Z"
   },
   {
    "duration": 59,
    "start_time": "2022-06-30T08:09:48.787Z"
   },
   {
    "duration": 150,
    "start_time": "2022-06-30T08:10:12.590Z"
   },
   {
    "duration": 152,
    "start_time": "2022-06-30T08:11:01.691Z"
   },
   {
    "duration": 148,
    "start_time": "2022-06-30T08:11:09.691Z"
   },
   {
    "duration": 148,
    "start_time": "2022-06-30T08:12:04.789Z"
   },
   {
    "duration": 145,
    "start_time": "2022-06-30T08:12:41.518Z"
   },
   {
    "duration": 141,
    "start_time": "2022-06-30T08:12:51.981Z"
   },
   {
    "duration": 152,
    "start_time": "2022-06-30T08:13:24.009Z"
   },
   {
    "duration": 212,
    "start_time": "2022-06-30T08:13:28.515Z"
   },
   {
    "duration": 150,
    "start_time": "2022-06-30T08:13:43.957Z"
   },
   {
    "duration": 153,
    "start_time": "2022-06-30T08:15:15.836Z"
   },
   {
    "duration": 151,
    "start_time": "2022-06-30T08:15:26.292Z"
   },
   {
    "duration": 341,
    "start_time": "2022-06-30T08:19:43.969Z"
   },
   {
    "duration": 576,
    "start_time": "2022-06-30T08:20:26.400Z"
   },
   {
    "duration": 160,
    "start_time": "2022-06-30T08:23:08.568Z"
   },
   {
    "duration": 159,
    "start_time": "2022-06-30T08:23:36.157Z"
   },
   {
    "duration": 215,
    "start_time": "2022-06-30T08:24:04.289Z"
   },
   {
    "duration": 3,
    "start_time": "2022-06-30T08:24:32.793Z"
   },
   {
    "duration": 151,
    "start_time": "2022-06-30T08:25:39.755Z"
   },
   {
    "duration": 156,
    "start_time": "2022-06-30T08:25:58.228Z"
   },
   {
    "duration": 154,
    "start_time": "2022-06-30T08:27:12.426Z"
   },
   {
    "duration": 175,
    "start_time": "2022-06-30T08:31:58.106Z"
   },
   {
    "duration": 153,
    "start_time": "2022-06-30T08:32:21.019Z"
   },
   {
    "duration": 171,
    "start_time": "2022-06-30T08:32:38.348Z"
   },
   {
    "duration": 243,
    "start_time": "2022-06-30T08:37:46.877Z"
   },
   {
    "duration": 172,
    "start_time": "2022-06-30T08:49:07.166Z"
   },
   {
    "duration": 755,
    "start_time": "2022-06-30T08:50:12.021Z"
   },
   {
    "duration": 159,
    "start_time": "2022-06-30T08:50:21.246Z"
   },
   {
    "duration": 260,
    "start_time": "2022-06-30T08:54:37.261Z"
   },
   {
    "duration": 24,
    "start_time": "2022-06-30T09:13:22.976Z"
   },
   {
    "duration": 24,
    "start_time": "2022-06-30T09:13:40.600Z"
   },
   {
    "duration": 10,
    "start_time": "2022-06-30T09:13:51.787Z"
   },
   {
    "duration": 8,
    "start_time": "2022-06-30T09:14:14.403Z"
   },
   {
    "duration": 15,
    "start_time": "2022-06-30T09:14:24.722Z"
   },
   {
    "duration": 30,
    "start_time": "2022-06-30T09:15:09.186Z"
   },
   {
    "duration": 920,
    "start_time": "2022-06-30T09:17:02.995Z"
   },
   {
    "duration": 13,
    "start_time": "2022-06-30T09:17:06.666Z"
   },
   {
    "duration": 10,
    "start_time": "2022-06-30T09:20:37.859Z"
   },
   {
    "duration": 15,
    "start_time": "2022-06-30T09:20:51.480Z"
   },
   {
    "duration": 13,
    "start_time": "2022-06-30T09:22:44.312Z"
   },
   {
    "duration": 164,
    "start_time": "2022-06-30T09:22:56.037Z"
   },
   {
    "duration": 150,
    "start_time": "2022-06-30T09:23:21.585Z"
   },
   {
    "duration": 176,
    "start_time": "2022-06-30T09:33:13.196Z"
   },
   {
    "duration": 177,
    "start_time": "2022-06-30T09:36:42.402Z"
   },
   {
    "duration": 7,
    "start_time": "2022-06-30T09:38:33.725Z"
   },
   {
    "duration": 3,
    "start_time": "2022-06-30T09:38:44.388Z"
   },
   {
    "duration": 4,
    "start_time": "2022-06-30T09:38:47.838Z"
   },
   {
    "duration": 9,
    "start_time": "2022-06-30T09:38:56.484Z"
   },
   {
    "duration": 19,
    "start_time": "2022-06-30T09:39:49.567Z"
   },
   {
    "duration": 12,
    "start_time": "2022-06-30T09:40:00.436Z"
   },
   {
    "duration": 13,
    "start_time": "2022-06-30T09:40:11.943Z"
   },
   {
    "duration": 188,
    "start_time": "2022-06-30T09:43:07.844Z"
   },
   {
    "duration": 162,
    "start_time": "2022-06-30T09:45:19.918Z"
   },
   {
    "duration": 169,
    "start_time": "2022-06-30T09:46:16.950Z"
   },
   {
    "duration": 172,
    "start_time": "2022-06-30T09:49:06.169Z"
   },
   {
    "duration": 165,
    "start_time": "2022-06-30T09:50:38.010Z"
   },
   {
    "duration": 161,
    "start_time": "2022-06-30T09:50:49.043Z"
   },
   {
    "duration": 226,
    "start_time": "2022-06-30T09:51:06.492Z"
   },
   {
    "duration": 151,
    "start_time": "2022-06-30T09:51:16.353Z"
   },
   {
    "duration": 153,
    "start_time": "2022-06-30T09:51:30.579Z"
   },
   {
    "duration": 175,
    "start_time": "2022-06-30T09:51:42.827Z"
   },
   {
    "duration": 151,
    "start_time": "2022-06-30T09:51:48.344Z"
   },
   {
    "duration": 153,
    "start_time": "2022-06-30T09:52:53.491Z"
   },
   {
    "duration": 49,
    "start_time": "2022-06-30T09:54:27.867Z"
   },
   {
    "duration": 49,
    "start_time": "2022-06-30T09:54:36.682Z"
   },
   {
    "duration": 184,
    "start_time": "2022-06-30T09:54:41.229Z"
   },
   {
    "duration": 4,
    "start_time": "2022-06-30T09:56:57.576Z"
   },
   {
    "duration": 15,
    "start_time": "2022-06-30T09:57:16.844Z"
   },
   {
    "duration": 250,
    "start_time": "2022-06-30T09:57:45.346Z"
   },
   {
    "duration": 140,
    "start_time": "2022-06-30T09:57:49.874Z"
   },
   {
    "duration": 172,
    "start_time": "2022-06-30T09:58:23.615Z"
   },
   {
    "duration": 181,
    "start_time": "2022-06-30T09:58:41.112Z"
   },
   {
    "duration": 227,
    "start_time": "2022-06-30T10:02:13.771Z"
   },
   {
    "duration": 166,
    "start_time": "2022-06-30T10:02:27.092Z"
   },
   {
    "duration": 178,
    "start_time": "2022-06-30T10:06:17.165Z"
   },
   {
    "duration": 139,
    "start_time": "2022-06-30T10:06:21.232Z"
   },
   {
    "duration": 166,
    "start_time": "2022-06-30T10:12:48.225Z"
   },
   {
    "duration": 144,
    "start_time": "2022-06-30T10:12:52.606Z"
   },
   {
    "duration": 167,
    "start_time": "2022-06-30T10:12:57.655Z"
   },
   {
    "duration": 150,
    "start_time": "2022-06-30T10:13:57.458Z"
   },
   {
    "duration": 143,
    "start_time": "2022-06-30T10:14:11.194Z"
   },
   {
    "duration": 758,
    "start_time": "2022-06-30T10:14:43.435Z"
   },
   {
    "duration": 15,
    "start_time": "2022-06-30T10:14:44.196Z"
   },
   {
    "duration": 9,
    "start_time": "2022-06-30T10:14:44.212Z"
   },
   {
    "duration": 29,
    "start_time": "2022-06-30T10:14:44.223Z"
   },
   {
    "duration": 25,
    "start_time": "2022-06-30T10:14:44.254Z"
   },
   {
    "duration": 3,
    "start_time": "2022-06-30T10:14:44.281Z"
   },
   {
    "duration": 79,
    "start_time": "2022-06-30T10:14:44.285Z"
   },
   {
    "duration": 285,
    "start_time": "2022-06-30T10:14:44.366Z"
   },
   {
    "duration": 3,
    "start_time": "2022-06-30T10:14:44.653Z"
   },
   {
    "duration": 72,
    "start_time": "2022-06-30T10:14:44.657Z"
   },
   {
    "duration": 4,
    "start_time": "2022-06-30T10:14:44.731Z"
   },
   {
    "duration": 10,
    "start_time": "2022-06-30T10:14:44.737Z"
   },
   {
    "duration": 26,
    "start_time": "2022-06-30T10:14:44.749Z"
   },
   {
    "duration": 365,
    "start_time": "2022-06-30T10:14:44.780Z"
   },
   {
    "duration": 16,
    "start_time": "2022-06-30T10:14:45.147Z"
   },
   {
    "duration": 357,
    "start_time": "2022-06-30T10:14:45.165Z"
   },
   {
    "duration": 322,
    "start_time": "2022-06-30T10:14:45.524Z"
   },
   {
    "duration": 176,
    "start_time": "2022-06-30T10:14:45.849Z"
   },
   {
    "duration": 234,
    "start_time": "2022-06-30T10:14:46.027Z"
   },
   {
    "duration": 529,
    "start_time": "2022-06-30T10:14:46.263Z"
   },
   {
    "duration": 625,
    "start_time": "2022-06-30T10:14:46.794Z"
   },
   {
    "duration": 167,
    "start_time": "2022-06-30T10:14:47.421Z"
   },
   {
    "duration": 168,
    "start_time": "2022-06-30T10:14:47.589Z"
   },
   {
    "duration": 167,
    "start_time": "2022-06-30T10:14:47.758Z"
   },
   {
    "duration": 154,
    "start_time": "2022-06-30T10:14:47.926Z"
   },
   {
    "duration": 161,
    "start_time": "2022-06-30T10:14:48.082Z"
   },
   {
    "duration": 167,
    "start_time": "2022-06-30T10:14:48.244Z"
   },
   {
    "duration": 157,
    "start_time": "2022-06-30T10:14:48.413Z"
   },
   {
    "duration": 24,
    "start_time": "2022-06-30T10:14:48.572Z"
   },
   {
    "duration": 11,
    "start_time": "2022-06-30T10:14:48.597Z"
   },
   {
    "duration": 180,
    "start_time": "2022-06-30T10:14:48.610Z"
   },
   {
    "duration": 253,
    "start_time": "2022-06-30T10:14:48.791Z"
   },
   {
    "duration": 58,
    "start_time": "2022-06-30T10:14:49.051Z"
   },
   {
    "duration": 0,
    "start_time": "2022-06-30T10:14:49.111Z"
   },
   {
    "duration": 0,
    "start_time": "2022-06-30T10:14:49.112Z"
   },
   {
    "duration": 0,
    "start_time": "2022-06-30T10:14:49.113Z"
   },
   {
    "duration": 0,
    "start_time": "2022-06-30T10:14:49.114Z"
   },
   {
    "duration": 0,
    "start_time": "2022-06-30T10:14:49.115Z"
   },
   {
    "duration": 760,
    "start_time": "2022-06-30T10:15:04.979Z"
   },
   {
    "duration": 15,
    "start_time": "2022-06-30T10:15:05.741Z"
   },
   {
    "duration": 9,
    "start_time": "2022-06-30T10:15:05.757Z"
   },
   {
    "duration": 10,
    "start_time": "2022-06-30T10:15:05.768Z"
   },
   {
    "duration": 32,
    "start_time": "2022-06-30T10:15:05.780Z"
   },
   {
    "duration": 4,
    "start_time": "2022-06-30T10:15:05.813Z"
   },
   {
    "duration": 75,
    "start_time": "2022-06-30T10:15:05.818Z"
   },
   {
    "duration": 281,
    "start_time": "2022-06-30T10:15:05.895Z"
   },
   {
    "duration": 3,
    "start_time": "2022-06-30T10:15:06.178Z"
   },
   {
    "duration": 79,
    "start_time": "2022-06-30T10:15:06.182Z"
   },
   {
    "duration": 69,
    "start_time": "2022-06-30T10:15:06.263Z"
   },
   {
    "duration": 57,
    "start_time": "2022-06-30T10:15:06.334Z"
   },
   {
    "duration": 57,
    "start_time": "2022-06-30T10:15:06.393Z"
   },
   {
    "duration": 385,
    "start_time": "2022-06-30T10:15:06.453Z"
   },
   {
    "duration": 23,
    "start_time": "2022-06-30T10:15:06.839Z"
   },
   {
    "duration": 314,
    "start_time": "2022-06-30T10:15:06.863Z"
   },
   {
    "duration": 323,
    "start_time": "2022-06-30T10:15:07.179Z"
   },
   {
    "duration": 178,
    "start_time": "2022-06-30T10:15:07.504Z"
   },
   {
    "duration": 214,
    "start_time": "2022-06-30T10:15:07.683Z"
   },
   {
    "duration": 525,
    "start_time": "2022-06-30T10:15:07.899Z"
   },
   {
    "duration": 619,
    "start_time": "2022-06-30T10:15:08.425Z"
   },
   {
    "duration": 165,
    "start_time": "2022-06-30T10:15:09.051Z"
   },
   {
    "duration": 167,
    "start_time": "2022-06-30T10:15:09.217Z"
   },
   {
    "duration": 168,
    "start_time": "2022-06-30T10:15:09.386Z"
   },
   {
    "duration": 153,
    "start_time": "2022-06-30T10:15:09.555Z"
   },
   {
    "duration": 156,
    "start_time": "2022-06-30T10:15:09.709Z"
   },
   {
    "duration": 177,
    "start_time": "2022-06-30T10:15:09.866Z"
   },
   {
    "duration": 167,
    "start_time": "2022-06-30T10:15:10.045Z"
   },
   {
    "duration": 21,
    "start_time": "2022-06-30T10:15:10.214Z"
   },
   {
    "duration": 25,
    "start_time": "2022-06-30T10:15:10.237Z"
   },
   {
    "duration": 166,
    "start_time": "2022-06-30T10:15:10.263Z"
   },
   {
    "duration": 245,
    "start_time": "2022-06-30T10:15:10.431Z"
   },
   {
    "duration": 158,
    "start_time": "2022-06-30T10:15:10.677Z"
   },
   {
    "duration": 167,
    "start_time": "2022-06-30T10:15:10.837Z"
   },
   {
    "duration": 169,
    "start_time": "2022-06-30T10:15:11.005Z"
   },
   {
    "duration": 163,
    "start_time": "2022-06-30T10:15:11.176Z"
   },
   {
    "duration": 171,
    "start_time": "2022-06-30T10:15:11.341Z"
   },
   {
    "duration": 175,
    "start_time": "2022-06-30T10:15:50.301Z"
   },
   {
    "duration": 135,
    "start_time": "2022-06-30T10:15:53.344Z"
   },
   {
    "duration": 152,
    "start_time": "2022-06-30T10:15:56.145Z"
   },
   {
    "duration": 688,
    "start_time": "2022-06-30T10:16:09.089Z"
   },
   {
    "duration": 14,
    "start_time": "2022-06-30T10:16:09.779Z"
   },
   {
    "duration": 9,
    "start_time": "2022-06-30T10:16:09.794Z"
   },
   {
    "duration": 8,
    "start_time": "2022-06-30T10:16:09.805Z"
   },
   {
    "duration": 44,
    "start_time": "2022-06-30T10:16:09.815Z"
   },
   {
    "duration": 3,
    "start_time": "2022-06-30T10:16:09.861Z"
   },
   {
    "duration": 51,
    "start_time": "2022-06-30T10:16:09.865Z"
   },
   {
    "duration": 307,
    "start_time": "2022-06-30T10:16:09.918Z"
   },
   {
    "duration": 4,
    "start_time": "2022-06-30T10:16:10.226Z"
   },
   {
    "duration": 41,
    "start_time": "2022-06-30T10:16:10.232Z"
   },
   {
    "duration": 4,
    "start_time": "2022-06-30T10:16:10.275Z"
   },
   {
    "duration": 9,
    "start_time": "2022-06-30T10:16:10.280Z"
   },
   {
    "duration": 30,
    "start_time": "2022-06-30T10:16:10.291Z"
   },
   {
    "duration": 380,
    "start_time": "2022-06-30T10:16:10.325Z"
   },
   {
    "duration": 13,
    "start_time": "2022-06-30T10:16:10.706Z"
   },
   {
    "duration": 339,
    "start_time": "2022-06-30T10:16:10.721Z"
   },
   {
    "duration": 296,
    "start_time": "2022-06-30T10:16:11.062Z"
   },
   {
    "duration": 169,
    "start_time": "2022-06-30T10:16:11.360Z"
   },
   {
    "duration": 222,
    "start_time": "2022-06-30T10:16:11.530Z"
   },
   {
    "duration": 539,
    "start_time": "2022-06-30T10:16:11.753Z"
   },
   {
    "duration": 660,
    "start_time": "2022-06-30T10:16:12.294Z"
   },
   {
    "duration": 175,
    "start_time": "2022-06-30T10:16:12.956Z"
   },
   {
    "duration": 171,
    "start_time": "2022-06-30T10:16:13.133Z"
   },
   {
    "duration": 175,
    "start_time": "2022-06-30T10:16:13.306Z"
   },
   {
    "duration": 154,
    "start_time": "2022-06-30T10:16:13.483Z"
   },
   {
    "duration": 159,
    "start_time": "2022-06-30T10:16:13.651Z"
   },
   {
    "duration": 171,
    "start_time": "2022-06-30T10:16:13.812Z"
   },
   {
    "duration": 184,
    "start_time": "2022-06-30T10:16:13.985Z"
   },
   {
    "duration": 22,
    "start_time": "2022-06-30T10:16:14.171Z"
   },
   {
    "duration": 12,
    "start_time": "2022-06-30T10:16:14.194Z"
   },
   {
    "duration": 172,
    "start_time": "2022-06-30T10:16:14.207Z"
   },
   {
    "duration": 247,
    "start_time": "2022-06-30T10:16:14.381Z"
   },
   {
    "duration": 151,
    "start_time": "2022-06-30T10:16:14.629Z"
   },
   {
    "duration": 163,
    "start_time": "2022-06-30T10:16:14.782Z"
   },
   {
    "duration": 173,
    "start_time": "2022-06-30T10:16:14.947Z"
   },
   {
    "duration": 213,
    "start_time": "2022-06-30T10:16:15.122Z"
   },
   {
    "duration": 195,
    "start_time": "2022-06-30T10:16:15.337Z"
   },
   {
    "duration": 140,
    "start_time": "2022-06-30T10:18:46.683Z"
   },
   {
    "duration": 152,
    "start_time": "2022-06-30T10:19:31.926Z"
   },
   {
    "duration": 169,
    "start_time": "2022-06-30T11:04:43.322Z"
   },
   {
    "duration": 170,
    "start_time": "2022-06-30T11:05:07.498Z"
   },
   {
    "duration": 133,
    "start_time": "2022-06-30T11:20:15.728Z"
   },
   {
    "duration": 22,
    "start_time": "2022-06-30T11:20:34.653Z"
   },
   {
    "duration": 230,
    "start_time": "2022-06-30T11:20:57.882Z"
   },
   {
    "duration": 137,
    "start_time": "2022-06-30T11:21:54.625Z"
   },
   {
    "duration": 207,
    "start_time": "2022-06-30T11:22:21.547Z"
   },
   {
    "duration": 205,
    "start_time": "2022-06-30T11:22:33.549Z"
   },
   {
    "duration": 748,
    "start_time": "2022-06-30T11:24:18.196Z"
   },
   {
    "duration": 18,
    "start_time": "2022-06-30T11:24:18.946Z"
   },
   {
    "duration": 17,
    "start_time": "2022-06-30T11:24:18.966Z"
   },
   {
    "duration": 8,
    "start_time": "2022-06-30T11:24:18.985Z"
   },
   {
    "duration": 23,
    "start_time": "2022-06-30T11:24:18.995Z"
   },
   {
    "duration": 5,
    "start_time": "2022-06-30T11:24:19.052Z"
   },
   {
    "duration": 69,
    "start_time": "2022-06-30T11:24:19.059Z"
   },
   {
    "duration": 300,
    "start_time": "2022-06-30T11:24:19.130Z"
   },
   {
    "duration": 4,
    "start_time": "2022-06-30T11:24:19.432Z"
   },
   {
    "duration": 46,
    "start_time": "2022-06-30T11:24:19.438Z"
   },
   {
    "duration": 5,
    "start_time": "2022-06-30T11:24:19.486Z"
   },
   {
    "duration": 9,
    "start_time": "2022-06-30T11:24:19.493Z"
   },
   {
    "duration": 66,
    "start_time": "2022-06-30T11:24:19.504Z"
   },
   {
    "duration": 444,
    "start_time": "2022-06-30T11:24:19.574Z"
   },
   {
    "duration": 15,
    "start_time": "2022-06-30T11:24:20.020Z"
   },
   {
    "duration": 374,
    "start_time": "2022-06-30T11:24:20.037Z"
   },
   {
    "duration": 346,
    "start_time": "2022-06-30T11:24:20.412Z"
   },
   {
    "duration": 189,
    "start_time": "2022-06-30T11:24:20.760Z"
   },
   {
    "duration": 250,
    "start_time": "2022-06-30T11:24:20.951Z"
   },
   {
    "duration": 582,
    "start_time": "2022-06-30T11:24:21.203Z"
   },
   {
    "duration": 689,
    "start_time": "2022-06-30T11:24:21.787Z"
   },
   {
    "duration": 208,
    "start_time": "2022-06-30T11:24:22.478Z"
   },
   {
    "duration": 185,
    "start_time": "2022-06-30T11:24:22.687Z"
   },
   {
    "duration": 188,
    "start_time": "2022-06-30T11:24:22.874Z"
   },
   {
    "duration": 206,
    "start_time": "2022-06-30T11:24:23.064Z"
   },
   {
    "duration": 201,
    "start_time": "2022-06-30T11:24:23.272Z"
   },
   {
    "duration": 179,
    "start_time": "2022-06-30T11:24:23.475Z"
   },
   {
    "duration": 188,
    "start_time": "2022-06-30T11:24:23.657Z"
   },
   {
    "duration": 28,
    "start_time": "2022-06-30T11:24:23.851Z"
   },
   {
    "duration": 11,
    "start_time": "2022-06-30T11:24:23.881Z"
   },
   {
    "duration": 200,
    "start_time": "2022-06-30T11:24:23.894Z"
   },
   {
    "duration": 276,
    "start_time": "2022-06-30T11:24:24.096Z"
   },
   {
    "duration": 169,
    "start_time": "2022-06-30T11:24:24.374Z"
   },
   {
    "duration": 182,
    "start_time": "2022-06-30T11:24:24.545Z"
   },
   {
    "duration": 181,
    "start_time": "2022-06-30T11:24:24.729Z"
   },
   {
    "duration": 188,
    "start_time": "2022-06-30T11:24:24.911Z"
   },
   {
    "duration": 232,
    "start_time": "2022-06-30T11:24:25.101Z"
   },
   {
    "duration": 70,
    "start_time": "2022-06-30T11:24:25.336Z"
   },
   {
    "duration": 91,
    "start_time": "2022-06-30T16:11:20.234Z"
   },
   {
    "duration": 707,
    "start_time": "2022-06-30T16:14:21.089Z"
   },
   {
    "duration": 15,
    "start_time": "2022-06-30T16:14:21.798Z"
   },
   {
    "duration": 10,
    "start_time": "2022-06-30T16:14:21.815Z"
   },
   {
    "duration": 25,
    "start_time": "2022-06-30T16:14:21.827Z"
   },
   {
    "duration": 22,
    "start_time": "2022-06-30T16:14:21.854Z"
   },
   {
    "duration": 4,
    "start_time": "2022-06-30T16:14:21.877Z"
   },
   {
    "duration": 48,
    "start_time": "2022-06-30T16:14:21.883Z"
   },
   {
    "duration": 283,
    "start_time": "2022-06-30T16:14:21.952Z"
   },
   {
    "duration": 4,
    "start_time": "2022-06-30T16:14:22.237Z"
   },
   {
    "duration": 28,
    "start_time": "2022-06-30T16:14:22.251Z"
   },
   {
    "duration": 5,
    "start_time": "2022-06-30T16:14:22.280Z"
   },
   {
    "duration": 10,
    "start_time": "2022-06-30T16:14:22.287Z"
   },
   {
    "duration": 23,
    "start_time": "2022-06-30T16:14:22.298Z"
   },
   {
    "duration": 405,
    "start_time": "2022-06-30T16:14:22.323Z"
   },
   {
    "duration": 23,
    "start_time": "2022-06-30T16:14:22.730Z"
   },
   {
    "duration": 322,
    "start_time": "2022-06-30T16:14:22.754Z"
   },
   {
    "duration": 293,
    "start_time": "2022-06-30T16:14:23.078Z"
   },
   {
    "duration": 206,
    "start_time": "2022-06-30T16:14:23.373Z"
   },
   {
    "duration": 417,
    "start_time": "2022-06-30T16:14:23.580Z"
   },
   {
    "duration": 1085,
    "start_time": "2022-06-30T16:14:23.999Z"
   },
   {
    "duration": 730,
    "start_time": "2022-06-30T16:14:25.086Z"
   },
   {
    "duration": 161,
    "start_time": "2022-06-30T16:14:25.819Z"
   },
   {
    "duration": 160,
    "start_time": "2022-06-30T16:14:25.981Z"
   },
   {
    "duration": 166,
    "start_time": "2022-06-30T16:14:26.143Z"
   },
   {
    "duration": 154,
    "start_time": "2022-06-30T16:14:26.311Z"
   },
   {
    "duration": 162,
    "start_time": "2022-06-30T16:14:26.467Z"
   },
   {
    "duration": 163,
    "start_time": "2022-06-30T16:14:26.631Z"
   },
   {
    "duration": 163,
    "start_time": "2022-06-30T16:14:26.797Z"
   },
   {
    "duration": 21,
    "start_time": "2022-06-30T16:14:26.962Z"
   },
   {
    "duration": 12,
    "start_time": "2022-06-30T16:14:26.984Z"
   },
   {
    "duration": 170,
    "start_time": "2022-06-30T16:14:26.998Z"
   },
   {
    "duration": 230,
    "start_time": "2022-06-30T16:14:27.170Z"
   },
   {
    "duration": 143,
    "start_time": "2022-06-30T16:14:27.401Z"
   },
   {
    "duration": 151,
    "start_time": "2022-06-30T16:14:27.545Z"
   },
   {
    "duration": 155,
    "start_time": "2022-06-30T16:14:27.698Z"
   },
   {
    "duration": 164,
    "start_time": "2022-06-30T16:14:27.855Z"
   },
   {
    "duration": 175,
    "start_time": "2022-06-30T16:14:28.021Z"
   },
   {
    "duration": 5,
    "start_time": "2022-06-30T16:14:51.819Z"
   },
   {
    "duration": 5,
    "start_time": "2022-06-30T16:15:28.687Z"
   },
   {
    "duration": 102,
    "start_time": "2022-06-30T16:19:30.685Z"
   },
   {
    "duration": 359,
    "start_time": "2022-06-30T16:24:36.302Z"
   },
   {
    "duration": 75,
    "start_time": "2022-06-30T16:26:55.337Z"
   },
   {
    "duration": 47,
    "start_time": "2022-07-01T03:02:14.327Z"
   },
   {
    "duration": 1203,
    "start_time": "2022-07-01T03:02:20.216Z"
   },
   {
    "duration": 44,
    "start_time": "2022-07-01T03:02:22.713Z"
   },
   {
    "duration": 132,
    "start_time": "2022-07-01T03:03:10.896Z"
   },
   {
    "duration": 18,
    "start_time": "2022-07-01T03:03:25.975Z"
   },
   {
    "duration": 20,
    "start_time": "2022-07-01T03:03:34.751Z"
   },
   {
    "duration": 51,
    "start_time": "2022-07-01T03:03:44.469Z"
   },
   {
    "duration": 8,
    "start_time": "2022-07-01T03:03:50.422Z"
   },
   {
    "duration": 9,
    "start_time": "2022-07-01T03:04:19.302Z"
   },
   {
    "duration": 15,
    "start_time": "2022-07-01T03:04:30.617Z"
   },
   {
    "duration": 10,
    "start_time": "2022-07-01T03:05:45.007Z"
   },
   {
    "duration": 10,
    "start_time": "2022-07-01T03:08:10.107Z"
   },
   {
    "duration": 54,
    "start_time": "2022-07-01T03:08:14.170Z"
   },
   {
    "duration": 17,
    "start_time": "2022-07-01T03:08:37.191Z"
   },
   {
    "duration": 16,
    "start_time": "2022-07-01T03:08:52.074Z"
   },
   {
    "duration": 13,
    "start_time": "2022-07-01T03:09:08.589Z"
   },
   {
    "duration": 43,
    "start_time": "2022-07-01T03:09:47.438Z"
   },
   {
    "duration": 107,
    "start_time": "2022-07-01T03:21:03.196Z"
   },
   {
    "duration": 63,
    "start_time": "2022-07-01T03:21:09.794Z"
   },
   {
    "duration": 40,
    "start_time": "2022-07-01T03:24:32.631Z"
   },
   {
    "duration": 73,
    "start_time": "2022-07-01T03:24:54.858Z"
   },
   {
    "duration": 25,
    "start_time": "2022-07-03T01:06:27.497Z"
   },
   {
    "duration": 26,
    "start_time": "2022-07-03T01:07:39.860Z"
   },
   {
    "duration": 11,
    "start_time": "2022-07-03T01:08:54.976Z"
   },
   {
    "duration": 69,
    "start_time": "2022-07-03T01:09:00.110Z"
   },
   {
    "duration": 69,
    "start_time": "2022-07-03T01:23:11.111Z"
   },
   {
    "duration": 70,
    "start_time": "2022-07-03T01:37:22.736Z"
   },
   {
    "duration": 70,
    "start_time": "2022-07-03T01:38:29.898Z"
   },
   {
    "duration": 15,
    "start_time": "2022-07-03T01:41:11.972Z"
   },
   {
    "duration": 352,
    "start_time": "2022-07-03T01:45:55.231Z"
   },
   {
    "duration": 328,
    "start_time": "2022-07-03T01:47:59.665Z"
   },
   {
    "duration": 432,
    "start_time": "2022-07-03T01:48:46.806Z"
   },
   {
    "duration": 197,
    "start_time": "2022-07-03T01:50:35.754Z"
   },
   {
    "duration": 193,
    "start_time": "2022-07-03T01:50:50.537Z"
   },
   {
    "duration": 200,
    "start_time": "2022-07-03T01:50:58.090Z"
   },
   {
    "duration": 192,
    "start_time": "2022-07-03T01:51:06.222Z"
   },
   {
    "duration": 199,
    "start_time": "2022-07-03T01:51:29.145Z"
   },
   {
    "duration": 80,
    "start_time": "2022-07-03T01:52:25.282Z"
   },
   {
    "duration": 171,
    "start_time": "2022-07-03T01:52:33.001Z"
   },
   {
    "duration": 312,
    "start_time": "2022-07-03T01:53:36.152Z"
   },
   {
    "duration": 378,
    "start_time": "2022-07-03T01:53:53.415Z"
   },
   {
    "duration": 287,
    "start_time": "2022-07-03T01:54:01.230Z"
   },
   {
    "duration": 302,
    "start_time": "2022-07-03T01:54:05.920Z"
   },
   {
    "duration": 752,
    "start_time": "2022-07-03T01:54:30.777Z"
   },
   {
    "duration": 16,
    "start_time": "2022-07-03T01:54:31.531Z"
   },
   {
    "duration": 13,
    "start_time": "2022-07-03T01:54:31.549Z"
   },
   {
    "duration": 19,
    "start_time": "2022-07-03T01:54:31.563Z"
   },
   {
    "duration": 24,
    "start_time": "2022-07-03T01:54:31.584Z"
   },
   {
    "duration": 32,
    "start_time": "2022-07-03T01:54:31.610Z"
   },
   {
    "duration": 63,
    "start_time": "2022-07-03T01:54:31.644Z"
   },
   {
    "duration": 292,
    "start_time": "2022-07-03T01:54:31.709Z"
   },
   {
    "duration": 90,
    "start_time": "2022-07-03T01:54:32.002Z"
   },
   {
    "duration": 0,
    "start_time": "2022-07-03T01:54:32.095Z"
   },
   {
    "duration": 0,
    "start_time": "2022-07-03T01:54:32.096Z"
   },
   {
    "duration": 1,
    "start_time": "2022-07-03T01:54:32.097Z"
   },
   {
    "duration": 0,
    "start_time": "2022-07-03T01:54:32.099Z"
   },
   {
    "duration": 0,
    "start_time": "2022-07-03T01:54:32.100Z"
   },
   {
    "duration": 0,
    "start_time": "2022-07-03T01:54:32.101Z"
   },
   {
    "duration": 0,
    "start_time": "2022-07-03T01:54:32.102Z"
   },
   {
    "duration": 0,
    "start_time": "2022-07-03T01:54:32.103Z"
   },
   {
    "duration": 0,
    "start_time": "2022-07-03T01:54:32.104Z"
   },
   {
    "duration": 0,
    "start_time": "2022-07-03T01:54:32.105Z"
   },
   {
    "duration": 0,
    "start_time": "2022-07-03T01:54:32.105Z"
   },
   {
    "duration": 0,
    "start_time": "2022-07-03T01:54:32.106Z"
   },
   {
    "duration": 0,
    "start_time": "2022-07-03T01:54:32.107Z"
   },
   {
    "duration": 0,
    "start_time": "2022-07-03T01:54:32.108Z"
   },
   {
    "duration": 0,
    "start_time": "2022-07-03T01:54:32.108Z"
   },
   {
    "duration": 0,
    "start_time": "2022-07-03T01:54:32.110Z"
   },
   {
    "duration": 0,
    "start_time": "2022-07-03T01:54:32.110Z"
   },
   {
    "duration": 0,
    "start_time": "2022-07-03T01:54:32.112Z"
   },
   {
    "duration": 0,
    "start_time": "2022-07-03T01:54:32.142Z"
   },
   {
    "duration": 0,
    "start_time": "2022-07-03T01:54:32.143Z"
   },
   {
    "duration": 0,
    "start_time": "2022-07-03T01:54:32.144Z"
   },
   {
    "duration": 0,
    "start_time": "2022-07-03T01:54:32.145Z"
   },
   {
    "duration": 0,
    "start_time": "2022-07-03T01:54:32.146Z"
   },
   {
    "duration": 0,
    "start_time": "2022-07-03T01:54:32.147Z"
   },
   {
    "duration": 0,
    "start_time": "2022-07-03T01:54:32.148Z"
   },
   {
    "duration": 0,
    "start_time": "2022-07-03T01:54:32.149Z"
   },
   {
    "duration": 0,
    "start_time": "2022-07-03T01:54:32.150Z"
   },
   {
    "duration": 0,
    "start_time": "2022-07-03T01:54:32.150Z"
   },
   {
    "duration": 0,
    "start_time": "2022-07-03T01:54:32.151Z"
   },
   {
    "duration": 0,
    "start_time": "2022-07-03T01:54:32.152Z"
   },
   {
    "duration": 86,
    "start_time": "2022-07-03T01:58:05.399Z"
   },
   {
    "duration": 22,
    "start_time": "2022-07-03T01:58:44.549Z"
   },
   {
    "duration": 73,
    "start_time": "2022-07-03T02:01:53.785Z"
   },
   {
    "duration": 26,
    "start_time": "2022-07-03T02:02:28.847Z"
   },
   {
    "duration": 82,
    "start_time": "2022-07-03T02:02:43.619Z"
   },
   {
    "duration": 95,
    "start_time": "2022-07-03T02:02:54.171Z"
   },
   {
    "duration": 35,
    "start_time": "2022-07-03T02:05:27.584Z"
   },
   {
    "duration": 23,
    "start_time": "2022-07-03T02:08:54.015Z"
   },
   {
    "duration": 81,
    "start_time": "2022-07-03T02:12:57.319Z"
   },
   {
    "duration": 25,
    "start_time": "2022-07-03T02:13:17.584Z"
   },
   {
    "duration": 29,
    "start_time": "2022-07-03T02:13:42.193Z"
   },
   {
    "duration": 37,
    "start_time": "2022-07-03T02:15:43.380Z"
   },
   {
    "duration": 28,
    "start_time": "2022-07-03T02:16:20.999Z"
   },
   {
    "duration": 35,
    "start_time": "2022-07-03T02:17:34.850Z"
   },
   {
    "duration": 78,
    "start_time": "2022-07-03T02:17:46.743Z"
   },
   {
    "duration": 33,
    "start_time": "2022-07-03T02:18:13.242Z"
   },
   {
    "duration": 27,
    "start_time": "2022-07-03T02:18:18.680Z"
   },
   {
    "duration": 4,
    "start_time": "2022-07-03T02:18:23.290Z"
   },
   {
    "duration": 34,
    "start_time": "2022-07-03T02:18:42.663Z"
   },
   {
    "duration": 780,
    "start_time": "2022-07-03T02:19:21.654Z"
   },
   {
    "duration": 17,
    "start_time": "2022-07-03T02:19:22.437Z"
   },
   {
    "duration": 11,
    "start_time": "2022-07-03T02:19:22.456Z"
   },
   {
    "duration": 20,
    "start_time": "2022-07-03T02:19:22.469Z"
   },
   {
    "duration": 56,
    "start_time": "2022-07-03T02:19:22.492Z"
   },
   {
    "duration": 4,
    "start_time": "2022-07-03T02:19:22.550Z"
   },
   {
    "duration": 54,
    "start_time": "2022-07-03T02:19:22.555Z"
   },
   {
    "duration": 295,
    "start_time": "2022-07-03T02:19:22.611Z"
   },
   {
    "duration": 41,
    "start_time": "2022-07-03T02:19:22.907Z"
   },
   {
    "duration": 5,
    "start_time": "2022-07-03T02:19:22.949Z"
   },
   {
    "duration": 10,
    "start_time": "2022-07-03T02:19:22.955Z"
   },
   {
    "duration": 26,
    "start_time": "2022-07-03T02:19:22.967Z"
   },
   {
    "duration": 394,
    "start_time": "2022-07-03T02:19:22.995Z"
   },
   {
    "duration": 14,
    "start_time": "2022-07-03T02:19:23.393Z"
   },
   {
    "duration": 345,
    "start_time": "2022-07-03T02:19:23.409Z"
   },
   {
    "duration": 338,
    "start_time": "2022-07-03T02:19:23.756Z"
   },
   {
    "duration": 316,
    "start_time": "2022-07-03T02:19:24.096Z"
   },
   {
    "duration": 199,
    "start_time": "2022-07-03T02:19:24.414Z"
   },
   {
    "duration": 184,
    "start_time": "2022-07-03T02:19:24.615Z"
   },
   {
    "duration": 210,
    "start_time": "2022-07-03T02:19:24.801Z"
   },
   {
    "duration": 232,
    "start_time": "2022-07-03T02:19:25.013Z"
   },
   {
    "duration": 462,
    "start_time": "2022-07-03T02:19:25.247Z"
   },
   {
    "duration": 568,
    "start_time": "2022-07-03T02:19:25.710Z"
   },
   {
    "duration": 173,
    "start_time": "2022-07-03T02:19:26.280Z"
   },
   {
    "duration": 187,
    "start_time": "2022-07-03T02:19:26.454Z"
   },
   {
    "duration": 187,
    "start_time": "2022-07-03T02:19:26.644Z"
   },
   {
    "duration": 161,
    "start_time": "2022-07-03T02:19:26.841Z"
   },
   {
    "duration": 158,
    "start_time": "2022-07-03T02:19:27.004Z"
   },
   {
    "duration": 174,
    "start_time": "2022-07-03T02:19:27.164Z"
   },
   {
    "duration": 257,
    "start_time": "2022-07-03T02:19:27.341Z"
   },
   {
    "duration": 25,
    "start_time": "2022-07-03T02:19:27.600Z"
   },
   {
    "duration": 24,
    "start_time": "2022-07-03T02:19:27.627Z"
   },
   {
    "duration": 170,
    "start_time": "2022-07-03T02:19:27.653Z"
   },
   {
    "duration": 183,
    "start_time": "2022-07-03T02:19:27.825Z"
   },
   {
    "duration": 157,
    "start_time": "2022-07-03T02:19:28.010Z"
   },
   {
    "duration": 158,
    "start_time": "2022-07-03T02:19:28.169Z"
   },
   {
    "duration": 171,
    "start_time": "2022-07-03T02:19:28.328Z"
   },
   {
    "duration": 174,
    "start_time": "2022-07-03T02:19:28.501Z"
   },
   {
    "duration": 174,
    "start_time": "2022-07-03T02:19:28.677Z"
   },
   {
    "duration": 301,
    "start_time": "2022-07-03T02:20:47.593Z"
   },
   {
    "duration": 376,
    "start_time": "2022-07-03T02:20:54.881Z"
   },
   {
    "duration": 310,
    "start_time": "2022-07-03T02:21:34.380Z"
   },
   {
    "duration": 289,
    "start_time": "2022-07-03T02:21:47.101Z"
   },
   {
    "duration": 325,
    "start_time": "2022-07-03T02:21:52.805Z"
   },
   {
    "duration": 199,
    "start_time": "2022-07-03T02:23:18.604Z"
   },
   {
    "duration": 200,
    "start_time": "2022-07-03T02:23:31.787Z"
   },
   {
    "duration": 190,
    "start_time": "2022-07-03T02:23:41.553Z"
   },
   {
    "duration": 164,
    "start_time": "2022-07-03T02:24:20.299Z"
   },
   {
    "duration": 268,
    "start_time": "2022-07-03T02:24:30.906Z"
   },
   {
    "duration": 153,
    "start_time": "2022-07-03T02:24:45.569Z"
   },
   {
    "duration": 290,
    "start_time": "2022-07-03T02:25:26.767Z"
   },
   {
    "duration": 323,
    "start_time": "2022-07-03T02:25:41.708Z"
   },
   {
    "duration": 313,
    "start_time": "2022-07-03T02:25:51.334Z"
   },
   {
    "duration": 605,
    "start_time": "2022-07-03T02:27:43.492Z"
   },
   {
    "duration": 73,
    "start_time": "2022-07-03T02:28:04.875Z"
   },
   {
    "duration": 11,
    "start_time": "2022-07-03T02:28:14.567Z"
   },
   {
    "duration": 676,
    "start_time": "2022-07-03T02:28:28.858Z"
   },
   {
    "duration": 10,
    "start_time": "2022-07-03T02:29:13.678Z"
   },
   {
    "duration": 576,
    "start_time": "2022-07-03T02:29:37.149Z"
   },
   {
    "duration": 172,
    "start_time": "2022-07-03T02:30:01.546Z"
   },
   {
    "duration": 16,
    "start_time": "2022-07-03T02:30:48.754Z"
   },
   {
    "duration": 157,
    "start_time": "2022-07-03T02:30:55.766Z"
   },
   {
    "duration": 193,
    "start_time": "2022-07-03T02:31:07.263Z"
   },
   {
    "duration": 180,
    "start_time": "2022-07-03T02:31:13.986Z"
   },
   {
    "duration": 160,
    "start_time": "2022-07-03T02:31:20.382Z"
   },
   {
    "duration": 481,
    "start_time": "2022-07-03T02:34:44.474Z"
   },
   {
    "duration": 10,
    "start_time": "2022-07-03T02:37:04.925Z"
   },
   {
    "duration": 9,
    "start_time": "2022-07-03T02:37:21.230Z"
   },
   {
    "duration": 175,
    "start_time": "2022-07-03T02:37:48.893Z"
   },
   {
    "duration": 167,
    "start_time": "2022-07-03T02:38:42.100Z"
   },
   {
    "duration": 172,
    "start_time": "2022-07-03T02:39:53.230Z"
   },
   {
    "duration": 158,
    "start_time": "2022-07-03T02:40:19.259Z"
   },
   {
    "duration": 165,
    "start_time": "2022-07-03T02:40:50.982Z"
   },
   {
    "duration": 173,
    "start_time": "2022-07-03T02:42:05.410Z"
   },
   {
    "duration": 167,
    "start_time": "2022-07-03T02:42:13.469Z"
   },
   {
    "duration": 167,
    "start_time": "2022-07-03T02:42:20.838Z"
   },
   {
    "duration": 164,
    "start_time": "2022-07-03T02:42:56.029Z"
   },
   {
    "duration": 154,
    "start_time": "2022-07-03T02:43:53.403Z"
   },
   {
    "duration": 95,
    "start_time": "2022-07-03T02:44:02.000Z"
   },
   {
    "duration": 156,
    "start_time": "2022-07-03T02:44:11.390Z"
   },
   {
    "duration": 167,
    "start_time": "2022-07-03T02:44:18.155Z"
   },
   {
    "duration": 268,
    "start_time": "2022-07-03T02:44:22.995Z"
   },
   {
    "duration": 212,
    "start_time": "2022-07-03T02:44:27.886Z"
   },
   {
    "duration": 199,
    "start_time": "2022-07-03T02:44:32.372Z"
   },
   {
    "duration": 181,
    "start_time": "2022-07-03T02:44:36.690Z"
   },
   {
    "duration": 177,
    "start_time": "2022-07-03T02:44:41.425Z"
   },
   {
    "duration": 175,
    "start_time": "2022-07-03T02:44:46.209Z"
   },
   {
    "duration": 183,
    "start_time": "2022-07-03T02:44:51.423Z"
   },
   {
    "duration": 176,
    "start_time": "2022-07-03T02:44:56.078Z"
   },
   {
    "duration": 163,
    "start_time": "2022-07-03T02:45:03.322Z"
   },
   {
    "duration": 182,
    "start_time": "2022-07-03T02:45:07.877Z"
   },
   {
    "duration": 180,
    "start_time": "2022-07-03T02:45:28.546Z"
   },
   {
    "duration": 177,
    "start_time": "2022-07-03T02:46:06.038Z"
   },
   {
    "duration": 181,
    "start_time": "2022-07-03T02:46:11.198Z"
   },
   {
    "duration": 176,
    "start_time": "2022-07-03T02:47:40.278Z"
   },
   {
    "duration": 177,
    "start_time": "2022-07-03T02:47:48.237Z"
   },
   {
    "duration": 282,
    "start_time": "2022-07-03T02:48:01.493Z"
   },
   {
    "duration": 191,
    "start_time": "2022-07-03T02:49:32.461Z"
   },
   {
    "duration": 567,
    "start_time": "2022-07-03T02:51:08.025Z"
   },
   {
    "duration": 188,
    "start_time": "2022-07-03T02:52:46.052Z"
   },
   {
    "duration": 174,
    "start_time": "2022-07-03T02:52:50.772Z"
   },
   {
    "duration": 167,
    "start_time": "2022-07-03T02:53:19.983Z"
   },
   {
    "duration": 162,
    "start_time": "2022-07-03T02:53:47.478Z"
   },
   {
    "duration": 168,
    "start_time": "2022-07-03T02:53:53.346Z"
   },
   {
    "duration": 724,
    "start_time": "2022-07-03T02:55:26.969Z"
   },
   {
    "duration": 167,
    "start_time": "2022-07-03T02:55:42.603Z"
   },
   {
    "duration": 376,
    "start_time": "2022-07-03T02:56:10.805Z"
   },
   {
    "duration": 752,
    "start_time": "2022-07-03T02:56:25.081Z"
   },
   {
    "duration": 15,
    "start_time": "2022-07-03T02:56:25.835Z"
   },
   {
    "duration": 9,
    "start_time": "2022-07-03T02:56:25.852Z"
   },
   {
    "duration": 16,
    "start_time": "2022-07-03T02:56:25.863Z"
   },
   {
    "duration": 24,
    "start_time": "2022-07-03T02:56:25.881Z"
   },
   {
    "duration": 3,
    "start_time": "2022-07-03T02:56:25.907Z"
   },
   {
    "duration": 78,
    "start_time": "2022-07-03T02:56:25.912Z"
   },
   {
    "duration": 294,
    "start_time": "2022-07-03T02:56:25.991Z"
   },
   {
    "duration": 33,
    "start_time": "2022-07-03T02:56:26.287Z"
   },
   {
    "duration": 4,
    "start_time": "2022-07-03T02:56:26.322Z"
   },
   {
    "duration": 7,
    "start_time": "2022-07-03T02:56:26.342Z"
   },
   {
    "duration": 26,
    "start_time": "2022-07-03T02:56:26.350Z"
   },
   {
    "duration": 431,
    "start_time": "2022-07-03T02:56:26.378Z"
   },
   {
    "duration": 14,
    "start_time": "2022-07-03T02:56:26.811Z"
   },
   {
    "duration": 305,
    "start_time": "2022-07-03T02:56:26.827Z"
   },
   {
    "duration": 347,
    "start_time": "2022-07-03T02:56:27.134Z"
   },
   {
    "duration": 337,
    "start_time": "2022-07-03T02:56:27.483Z"
   },
   {
    "duration": 316,
    "start_time": "2022-07-03T02:56:27.821Z"
   },
   {
    "duration": 166,
    "start_time": "2022-07-03T02:56:28.139Z"
   },
   {
    "duration": 187,
    "start_time": "2022-07-03T02:56:28.306Z"
   },
   {
    "duration": 293,
    "start_time": "2022-07-03T02:56:28.494Z"
   },
   {
    "duration": 235,
    "start_time": "2022-07-03T02:56:28.789Z"
   },
   {
    "duration": 387,
    "start_time": "2022-07-03T02:56:29.026Z"
   },
   {
    "duration": 607,
    "start_time": "2022-07-03T02:56:29.415Z"
   },
   {
    "duration": 189,
    "start_time": "2022-07-03T02:56:30.024Z"
   },
   {
    "duration": 190,
    "start_time": "2022-07-03T02:56:30.216Z"
   },
   {
    "duration": 181,
    "start_time": "2022-07-03T02:56:30.408Z"
   },
   {
    "duration": 174,
    "start_time": "2022-07-03T02:56:30.591Z"
   },
   {
    "duration": 263,
    "start_time": "2022-07-03T02:56:30.767Z"
   },
   {
    "duration": 178,
    "start_time": "2022-07-03T02:56:31.032Z"
   },
   {
    "duration": 169,
    "start_time": "2022-07-03T02:56:31.212Z"
   },
   {
    "duration": 22,
    "start_time": "2022-07-03T02:56:31.383Z"
   },
   {
    "duration": 12,
    "start_time": "2022-07-03T02:56:31.407Z"
   },
   {
    "duration": 181,
    "start_time": "2022-07-03T02:56:31.421Z"
   },
   {
    "duration": 193,
    "start_time": "2022-07-03T02:56:31.604Z"
   },
   {
    "duration": 156,
    "start_time": "2022-07-03T02:56:31.799Z"
   },
   {
    "duration": 160,
    "start_time": "2022-07-03T02:56:31.957Z"
   },
   {
    "duration": 166,
    "start_time": "2022-07-03T02:56:32.119Z"
   },
   {
    "duration": 189,
    "start_time": "2022-07-03T02:56:32.287Z"
   },
   {
    "duration": 194,
    "start_time": "2022-07-03T02:56:32.479Z"
   },
   {
    "duration": 164,
    "start_time": "2022-07-03T02:58:05.078Z"
   },
   {
    "duration": 111,
    "start_time": "2022-07-03T02:58:49.040Z"
   },
   {
    "duration": 800,
    "start_time": "2022-07-03T02:58:54.745Z"
   },
   {
    "duration": 15,
    "start_time": "2022-07-03T02:58:55.547Z"
   },
   {
    "duration": 9,
    "start_time": "2022-07-03T02:58:55.563Z"
   },
   {
    "duration": 16,
    "start_time": "2022-07-03T02:58:55.575Z"
   },
   {
    "duration": 50,
    "start_time": "2022-07-03T02:58:55.593Z"
   },
   {
    "duration": 4,
    "start_time": "2022-07-03T02:58:55.644Z"
   },
   {
    "duration": 57,
    "start_time": "2022-07-03T02:58:55.649Z"
   },
   {
    "duration": 291,
    "start_time": "2022-07-03T02:58:55.708Z"
   },
   {
    "duration": 42,
    "start_time": "2022-07-03T02:58:56.001Z"
   },
   {
    "duration": 5,
    "start_time": "2022-07-03T02:58:56.046Z"
   },
   {
    "duration": 11,
    "start_time": "2022-07-03T02:58:56.052Z"
   },
   {
    "duration": 24,
    "start_time": "2022-07-03T02:58:56.065Z"
   },
   {
    "duration": 406,
    "start_time": "2022-07-03T02:58:56.091Z"
   },
   {
    "duration": 14,
    "start_time": "2022-07-03T02:58:56.499Z"
   },
   {
    "duration": 314,
    "start_time": "2022-07-03T02:58:56.515Z"
   },
   {
    "duration": 320,
    "start_time": "2022-07-03T02:58:56.830Z"
   },
   {
    "duration": 340,
    "start_time": "2022-07-03T02:58:57.151Z"
   },
   {
    "duration": 332,
    "start_time": "2022-07-03T02:58:57.493Z"
   },
   {
    "duration": 160,
    "start_time": "2022-07-03T02:58:57.827Z"
   },
   {
    "duration": 182,
    "start_time": "2022-07-03T02:58:57.989Z"
   },
   {
    "duration": 273,
    "start_time": "2022-07-03T02:58:58.173Z"
   },
   {
    "duration": 231,
    "start_time": "2022-07-03T02:58:58.448Z"
   },
   {
    "duration": 380,
    "start_time": "2022-07-03T02:58:58.681Z"
   },
   {
    "duration": 575,
    "start_time": "2022-07-03T02:58:59.062Z"
   },
   {
    "duration": 181,
    "start_time": "2022-07-03T02:58:59.641Z"
   },
   {
    "duration": 163,
    "start_time": "2022-07-03T02:58:59.823Z"
   },
   {
    "duration": 165,
    "start_time": "2022-07-03T02:58:59.988Z"
   },
   {
    "duration": 179,
    "start_time": "2022-07-03T02:59:00.156Z"
   },
   {
    "duration": 255,
    "start_time": "2022-07-03T02:59:00.341Z"
   },
   {
    "duration": 161,
    "start_time": "2022-07-03T02:59:00.597Z"
   },
   {
    "duration": 168,
    "start_time": "2022-07-03T02:59:00.760Z"
   },
   {
    "duration": 23,
    "start_time": "2022-07-03T02:59:00.930Z"
   },
   {
    "duration": 11,
    "start_time": "2022-07-03T02:59:00.955Z"
   },
   {
    "duration": 176,
    "start_time": "2022-07-03T02:59:00.968Z"
   },
   {
    "duration": 176,
    "start_time": "2022-07-03T02:59:01.145Z"
   },
   {
    "duration": 157,
    "start_time": "2022-07-03T02:59:01.322Z"
   },
   {
    "duration": 168,
    "start_time": "2022-07-03T02:59:01.481Z"
   },
   {
    "duration": 162,
    "start_time": "2022-07-03T02:59:01.651Z"
   },
   {
    "duration": 165,
    "start_time": "2022-07-03T02:59:01.815Z"
   },
   {
    "duration": 170,
    "start_time": "2022-07-03T02:59:01.982Z"
   },
   {
    "duration": 164,
    "start_time": "2022-07-03T02:59:38.078Z"
   },
   {
    "duration": 180,
    "start_time": "2022-07-03T02:59:44.755Z"
   },
   {
    "duration": 252,
    "start_time": "2022-07-03T02:59:55.205Z"
   },
   {
    "duration": 179,
    "start_time": "2022-07-03T03:00:02.284Z"
   },
   {
    "duration": 585,
    "start_time": "2022-07-03T03:04:46.319Z"
   },
   {
    "duration": 571,
    "start_time": "2022-07-03T03:05:09.334Z"
   },
   {
    "duration": 609,
    "start_time": "2022-07-03T03:06:17.096Z"
   },
   {
    "duration": 678,
    "start_time": "2022-07-03T03:09:47.235Z"
   },
   {
    "duration": 587,
    "start_time": "2022-07-03T03:10:30.155Z"
   },
   {
    "duration": 136,
    "start_time": "2022-07-03T03:12:12.746Z"
   },
   {
    "duration": 78,
    "start_time": "2022-07-03T03:12:43.019Z"
   },
   {
    "duration": 165,
    "start_time": "2022-07-03T03:13:36.283Z"
   },
   {
    "duration": 111,
    "start_time": "2022-07-03T03:13:56.215Z"
   },
   {
    "duration": 78,
    "start_time": "2022-07-03T03:14:45.875Z"
   },
   {
    "duration": 86,
    "start_time": "2022-07-03T03:14:56.774Z"
   },
   {
    "duration": 577,
    "start_time": "2022-07-03T03:15:40.243Z"
   },
   {
    "duration": 684,
    "start_time": "2022-07-03T03:15:58.034Z"
   },
   {
    "duration": 587,
    "start_time": "2022-07-03T03:17:44.041Z"
   },
   {
    "duration": 168,
    "start_time": "2022-07-03T03:17:54.463Z"
   },
   {
    "duration": 186,
    "start_time": "2022-07-03T03:18:07.229Z"
   },
   {
    "duration": 159,
    "start_time": "2022-07-03T03:18:16.149Z"
   },
   {
    "duration": 583,
    "start_time": "2022-07-03T03:20:29.289Z"
   },
   {
    "duration": 170,
    "start_time": "2022-07-03T03:20:49.668Z"
   },
   {
    "duration": 282,
    "start_time": "2022-07-03T03:21:15.343Z"
   },
   {
    "duration": 153,
    "start_time": "2022-07-03T03:21:45.564Z"
   },
   {
    "duration": 142,
    "start_time": "2022-07-03T03:21:50.364Z"
   },
   {
    "duration": 159,
    "start_time": "2022-07-03T03:21:54.207Z"
   },
   {
    "duration": 194,
    "start_time": "2022-07-03T03:22:46.462Z"
   },
   {
    "duration": 148,
    "start_time": "2022-07-03T03:23:27.778Z"
   },
   {
    "duration": 161,
    "start_time": "2022-07-03T03:23:50.233Z"
   },
   {
    "duration": 174,
    "start_time": "2022-07-03T03:24:30.185Z"
   },
   {
    "duration": 153,
    "start_time": "2022-07-03T03:24:52.982Z"
   },
   {
    "duration": 25,
    "start_time": "2022-07-03T03:25:27.366Z"
   },
   {
    "duration": 175,
    "start_time": "2022-07-03T03:26:24.839Z"
   },
   {
    "duration": 169,
    "start_time": "2022-07-03T03:26:46.388Z"
   },
   {
    "duration": 171,
    "start_time": "2022-07-03T03:27:22.873Z"
   },
   {
    "duration": 252,
    "start_time": "2022-07-03T03:28:09.566Z"
   },
   {
    "duration": 189,
    "start_time": "2022-07-03T03:28:30.826Z"
   },
   {
    "duration": 156,
    "start_time": "2022-07-03T03:28:54.944Z"
   },
   {
    "duration": 159,
    "start_time": "2022-07-03T03:29:05.753Z"
   },
   {
    "duration": 174,
    "start_time": "2022-07-03T03:29:12.401Z"
   },
   {
    "duration": 172,
    "start_time": "2022-07-03T03:29:17.144Z"
   },
   {
    "duration": 175,
    "start_time": "2022-07-03T03:29:29.947Z"
   },
   {
    "duration": 157,
    "start_time": "2022-07-03T03:30:02.302Z"
   },
   {
    "duration": 153,
    "start_time": "2022-07-03T03:30:13.390Z"
   },
   {
    "duration": 154,
    "start_time": "2022-07-03T03:30:27.631Z"
   },
   {
    "duration": 151,
    "start_time": "2022-07-03T03:30:34.484Z"
   },
   {
    "duration": 167,
    "start_time": "2022-07-03T03:30:52.977Z"
   },
   {
    "duration": 185,
    "start_time": "2022-07-03T03:31:02.159Z"
   },
   {
    "duration": 284,
    "start_time": "2022-07-03T03:31:59.172Z"
   },
   {
    "duration": 165,
    "start_time": "2022-07-03T03:32:04.076Z"
   },
   {
    "duration": 146,
    "start_time": "2022-07-03T03:32:08.413Z"
   },
   {
    "duration": 161,
    "start_time": "2022-07-03T03:32:21.913Z"
   },
   {
    "duration": 156,
    "start_time": "2022-07-03T03:32:27.982Z"
   },
   {
    "duration": 164,
    "start_time": "2022-07-03T03:32:44.252Z"
   },
   {
    "duration": 168,
    "start_time": "2022-07-03T03:34:00.947Z"
   },
   {
    "duration": 824,
    "start_time": "2022-07-03T03:34:33.527Z"
   },
   {
    "duration": 16,
    "start_time": "2022-07-03T03:34:34.354Z"
   },
   {
    "duration": 11,
    "start_time": "2022-07-03T03:34:34.372Z"
   },
   {
    "duration": 16,
    "start_time": "2022-07-03T03:34:34.385Z"
   },
   {
    "duration": 57,
    "start_time": "2022-07-03T03:34:34.404Z"
   },
   {
    "duration": 3,
    "start_time": "2022-07-03T03:34:34.463Z"
   },
   {
    "duration": 53,
    "start_time": "2022-07-03T03:34:34.467Z"
   },
   {
    "duration": 280,
    "start_time": "2022-07-03T03:34:34.522Z"
   },
   {
    "duration": 41,
    "start_time": "2022-07-03T03:34:34.804Z"
   },
   {
    "duration": 5,
    "start_time": "2022-07-03T03:34:34.847Z"
   },
   {
    "duration": 10,
    "start_time": "2022-07-03T03:34:34.853Z"
   },
   {
    "duration": 25,
    "start_time": "2022-07-03T03:34:34.865Z"
   },
   {
    "duration": 395,
    "start_time": "2022-07-03T03:34:34.892Z"
   },
   {
    "duration": 16,
    "start_time": "2022-07-03T03:34:35.291Z"
   },
   {
    "duration": 314,
    "start_time": "2022-07-03T03:34:35.309Z"
   },
   {
    "duration": 320,
    "start_time": "2022-07-03T03:34:35.624Z"
   },
   {
    "duration": 313,
    "start_time": "2022-07-03T03:34:35.946Z"
   },
   {
    "duration": 316,
    "start_time": "2022-07-03T03:34:36.261Z"
   },
   {
    "duration": 177,
    "start_time": "2022-07-03T03:34:36.578Z"
   },
   {
    "duration": 181,
    "start_time": "2022-07-03T03:34:36.757Z"
   },
   {
    "duration": 268,
    "start_time": "2022-07-03T03:34:36.941Z"
   },
   {
    "duration": 257,
    "start_time": "2022-07-03T03:34:37.211Z"
   },
   {
    "duration": 385,
    "start_time": "2022-07-03T03:34:37.470Z"
   },
   {
    "duration": 593,
    "start_time": "2022-07-03T03:34:37.857Z"
   },
   {
    "duration": 200,
    "start_time": "2022-07-03T03:34:38.451Z"
   },
   {
    "duration": 176,
    "start_time": "2022-07-03T03:34:38.653Z"
   },
   {
    "duration": 196,
    "start_time": "2022-07-03T03:34:38.831Z"
   },
   {
    "duration": 165,
    "start_time": "2022-07-03T03:34:39.029Z"
   },
   {
    "duration": 271,
    "start_time": "2022-07-03T03:34:39.196Z"
   },
   {
    "duration": 186,
    "start_time": "2022-07-03T03:34:39.469Z"
   },
   {
    "duration": 164,
    "start_time": "2022-07-03T03:34:39.657Z"
   },
   {
    "duration": 32,
    "start_time": "2022-07-03T03:34:39.822Z"
   },
   {
    "duration": 12,
    "start_time": "2022-07-03T03:34:39.856Z"
   },
   {
    "duration": 187,
    "start_time": "2022-07-03T03:34:39.870Z"
   },
   {
    "duration": 195,
    "start_time": "2022-07-03T03:34:40.059Z"
   },
   {
    "duration": 179,
    "start_time": "2022-07-03T03:34:40.256Z"
   },
   {
    "duration": 161,
    "start_time": "2022-07-03T03:34:40.441Z"
   },
   {
    "duration": 173,
    "start_time": "2022-07-03T03:34:40.604Z"
   },
   {
    "duration": 164,
    "start_time": "2022-07-03T03:34:40.779Z"
   },
   {
    "duration": 201,
    "start_time": "2022-07-03T03:34:40.945Z"
   },
   {
    "duration": 955,
    "start_time": "2022-07-03T03:36:45.289Z"
   },
   {
    "duration": 879,
    "start_time": "2022-07-03T03:37:01.391Z"
   },
   {
    "duration": 1001,
    "start_time": "2022-07-03T03:38:07.868Z"
   },
   {
    "duration": 916,
    "start_time": "2022-07-03T03:38:16.439Z"
   },
   {
    "duration": 988,
    "start_time": "2022-07-03T03:38:30.620Z"
   },
   {
    "duration": 872,
    "start_time": "2022-07-03T03:38:56.143Z"
   },
   {
    "duration": 879,
    "start_time": "2022-07-03T03:39:09.729Z"
   },
   {
    "duration": 1002,
    "start_time": "2022-07-03T03:43:48.536Z"
   },
   {
    "duration": 866,
    "start_time": "2022-07-03T03:44:39.253Z"
   },
   {
    "duration": 1012,
    "start_time": "2022-07-03T03:45:35.085Z"
   },
   {
    "duration": 881,
    "start_time": "2022-07-03T03:45:58.118Z"
   },
   {
    "duration": 306,
    "start_time": "2022-07-03T03:48:14.824Z"
   },
   {
    "duration": 556,
    "start_time": "2022-07-03T03:48:37.519Z"
   },
   {
    "duration": 179,
    "start_time": "2022-07-03T03:49:26.964Z"
   },
   {
    "duration": 804,
    "start_time": "2022-07-03T03:49:55.157Z"
   },
   {
    "duration": 15,
    "start_time": "2022-07-03T03:49:55.963Z"
   },
   {
    "duration": 9,
    "start_time": "2022-07-03T03:49:55.980Z"
   },
   {
    "duration": 15,
    "start_time": "2022-07-03T03:49:55.991Z"
   },
   {
    "duration": 45,
    "start_time": "2022-07-03T03:49:56.008Z"
   },
   {
    "duration": 3,
    "start_time": "2022-07-03T03:49:56.055Z"
   },
   {
    "duration": 51,
    "start_time": "2022-07-03T03:49:56.060Z"
   },
   {
    "duration": 287,
    "start_time": "2022-07-03T03:49:56.113Z"
   },
   {
    "duration": 41,
    "start_time": "2022-07-03T03:49:56.402Z"
   },
   {
    "duration": 5,
    "start_time": "2022-07-03T03:49:56.445Z"
   },
   {
    "duration": 9,
    "start_time": "2022-07-03T03:49:56.451Z"
   },
   {
    "duration": 28,
    "start_time": "2022-07-03T03:49:56.462Z"
   },
   {
    "duration": 421,
    "start_time": "2022-07-03T03:49:56.492Z"
   },
   {
    "duration": 14,
    "start_time": "2022-07-03T03:49:56.916Z"
   },
   {
    "duration": 312,
    "start_time": "2022-07-03T03:49:56.932Z"
   },
   {
    "duration": 428,
    "start_time": "2022-07-03T03:49:57.246Z"
   },
   {
    "duration": 349,
    "start_time": "2022-07-03T03:49:57.676Z"
   },
   {
    "duration": 187,
    "start_time": "2022-07-03T03:49:58.027Z"
   },
   {
    "duration": 163,
    "start_time": "2022-07-03T03:49:58.216Z"
   },
   {
    "duration": 176,
    "start_time": "2022-07-03T03:49:58.381Z"
   },
   {
    "duration": 212,
    "start_time": "2022-07-03T03:49:58.558Z"
   },
   {
    "duration": 298,
    "start_time": "2022-07-03T03:49:58.772Z"
   },
   {
    "duration": 390,
    "start_time": "2022-07-03T03:49:59.071Z"
   },
   {
    "duration": 401,
    "start_time": "2022-07-03T03:49:59.463Z"
   },
   {
    "duration": 184,
    "start_time": "2022-07-03T03:49:59.866Z"
   },
   {
    "duration": 181,
    "start_time": "2022-07-03T03:50:00.052Z"
   },
   {
    "duration": 207,
    "start_time": "2022-07-03T03:50:00.234Z"
   },
   {
    "duration": 162,
    "start_time": "2022-07-03T03:50:00.443Z"
   },
   {
    "duration": 175,
    "start_time": "2022-07-03T03:50:00.606Z"
   },
   {
    "duration": 260,
    "start_time": "2022-07-03T03:50:00.783Z"
   },
   {
    "duration": 160,
    "start_time": "2022-07-03T03:50:01.045Z"
   },
   {
    "duration": 23,
    "start_time": "2022-07-03T03:50:01.207Z"
   },
   {
    "duration": 13,
    "start_time": "2022-07-03T03:50:01.241Z"
   },
   {
    "duration": 185,
    "start_time": "2022-07-03T03:50:01.256Z"
   },
   {
    "duration": 191,
    "start_time": "2022-07-03T03:50:01.443Z"
   },
   {
    "duration": 170,
    "start_time": "2022-07-03T03:50:01.636Z"
   },
   {
    "duration": 160,
    "start_time": "2022-07-03T03:50:01.807Z"
   },
   {
    "duration": 169,
    "start_time": "2022-07-03T03:50:01.969Z"
   },
   {
    "duration": 157,
    "start_time": "2022-07-03T03:50:02.141Z"
   },
   {
    "duration": 199,
    "start_time": "2022-07-03T03:50:02.300Z"
   },
   {
    "duration": 793,
    "start_time": "2022-07-03T03:54:10.847Z"
   },
   {
    "duration": 16,
    "start_time": "2022-07-03T03:54:11.642Z"
   },
   {
    "duration": 11,
    "start_time": "2022-07-03T03:54:11.660Z"
   },
   {
    "duration": 26,
    "start_time": "2022-07-03T03:54:11.673Z"
   },
   {
    "duration": 42,
    "start_time": "2022-07-03T03:54:11.701Z"
   },
   {
    "duration": 3,
    "start_time": "2022-07-03T03:54:11.745Z"
   },
   {
    "duration": 52,
    "start_time": "2022-07-03T03:54:11.750Z"
   },
   {
    "duration": 297,
    "start_time": "2022-07-03T03:54:11.804Z"
   },
   {
    "duration": 40,
    "start_time": "2022-07-03T03:54:12.103Z"
   },
   {
    "duration": 5,
    "start_time": "2022-07-03T03:54:12.144Z"
   },
   {
    "duration": 9,
    "start_time": "2022-07-03T03:54:12.150Z"
   },
   {
    "duration": 26,
    "start_time": "2022-07-03T03:54:12.161Z"
   },
   {
    "duration": 427,
    "start_time": "2022-07-03T03:54:12.189Z"
   },
   {
    "duration": 14,
    "start_time": "2022-07-03T03:54:12.619Z"
   },
   {
    "duration": 299,
    "start_time": "2022-07-03T03:54:12.642Z"
   },
   {
    "duration": 330,
    "start_time": "2022-07-03T03:54:12.943Z"
   },
   {
    "duration": 326,
    "start_time": "2022-07-03T03:54:13.275Z"
   },
   {
    "duration": 196,
    "start_time": "2022-07-03T03:54:13.602Z"
   },
   {
    "duration": 173,
    "start_time": "2022-07-03T03:54:13.799Z"
   },
   {
    "duration": 188,
    "start_time": "2022-07-03T03:54:13.973Z"
   },
   {
    "duration": 208,
    "start_time": "2022-07-03T03:54:14.162Z"
   },
   {
    "duration": 314,
    "start_time": "2022-07-03T03:54:14.371Z"
   },
   {
    "duration": 401,
    "start_time": "2022-07-03T03:54:14.687Z"
   },
   {
    "duration": 422,
    "start_time": "2022-07-03T03:54:15.090Z"
   },
   {
    "duration": 191,
    "start_time": "2022-07-03T03:54:15.514Z"
   },
   {
    "duration": 174,
    "start_time": "2022-07-03T03:54:15.707Z"
   },
   {
    "duration": 194,
    "start_time": "2022-07-03T03:54:15.883Z"
   },
   {
    "duration": 164,
    "start_time": "2022-07-03T03:54:16.079Z"
   },
   {
    "duration": 177,
    "start_time": "2022-07-03T03:54:16.246Z"
   },
   {
    "duration": 258,
    "start_time": "2022-07-03T03:54:16.426Z"
   },
   {
    "duration": 181,
    "start_time": "2022-07-03T03:54:16.689Z"
   },
   {
    "duration": 25,
    "start_time": "2022-07-03T03:54:16.871Z"
   },
   {
    "duration": 17,
    "start_time": "2022-07-03T03:54:16.898Z"
   },
   {
    "duration": 195,
    "start_time": "2022-07-03T03:54:16.917Z"
   },
   {
    "duration": 193,
    "start_time": "2022-07-03T03:54:17.114Z"
   },
   {
    "duration": 181,
    "start_time": "2022-07-03T03:54:17.309Z"
   },
   {
    "duration": 157,
    "start_time": "2022-07-03T03:54:17.491Z"
   },
   {
    "duration": 194,
    "start_time": "2022-07-03T03:54:17.650Z"
   },
   {
    "duration": 174,
    "start_time": "2022-07-03T03:54:17.845Z"
   },
   {
    "duration": 186,
    "start_time": "2022-07-03T03:54:18.021Z"
   },
   {
    "duration": 405,
    "start_time": "2022-07-03T03:55:10.519Z"
   },
   {
    "duration": 487,
    "start_time": "2022-07-03T03:55:14.893Z"
   },
   {
    "duration": 396,
    "start_time": "2022-07-03T03:55:29.766Z"
   },
   {
    "duration": 390,
    "start_time": "2022-07-03T03:55:33.708Z"
   },
   {
    "duration": 386,
    "start_time": "2022-07-03T03:55:37.391Z"
   },
   {
    "duration": 805,
    "start_time": "2022-07-03T03:55:49.757Z"
   },
   {
    "duration": 15,
    "start_time": "2022-07-03T03:55:50.563Z"
   },
   {
    "duration": 8,
    "start_time": "2022-07-03T03:55:50.580Z"
   },
   {
    "duration": 16,
    "start_time": "2022-07-03T03:55:50.590Z"
   },
   {
    "duration": 46,
    "start_time": "2022-07-03T03:55:50.608Z"
   },
   {
    "duration": 3,
    "start_time": "2022-07-03T03:55:50.655Z"
   },
   {
    "duration": 54,
    "start_time": "2022-07-03T03:55:50.660Z"
   },
   {
    "duration": 301,
    "start_time": "2022-07-03T03:55:50.716Z"
   },
   {
    "duration": 37,
    "start_time": "2022-07-03T03:55:51.019Z"
   },
   {
    "duration": 4,
    "start_time": "2022-07-03T03:55:51.058Z"
   },
   {
    "duration": 9,
    "start_time": "2022-07-03T03:55:51.064Z"
   },
   {
    "duration": 24,
    "start_time": "2022-07-03T03:55:51.074Z"
   },
   {
    "duration": 410,
    "start_time": "2022-07-03T03:55:51.099Z"
   },
   {
    "duration": 14,
    "start_time": "2022-07-03T03:55:51.512Z"
   },
   {
    "duration": 300,
    "start_time": "2022-07-03T03:55:51.528Z"
   },
   {
    "duration": 320,
    "start_time": "2022-07-03T03:55:51.830Z"
   },
   {
    "duration": 324,
    "start_time": "2022-07-03T03:55:52.152Z"
   },
   {
    "duration": 197,
    "start_time": "2022-07-03T03:55:52.478Z"
   },
   {
    "duration": 162,
    "start_time": "2022-07-03T03:55:52.677Z"
   },
   {
    "duration": 182,
    "start_time": "2022-07-03T03:55:52.841Z"
   },
   {
    "duration": 207,
    "start_time": "2022-07-03T03:55:53.025Z"
   },
   {
    "duration": 302,
    "start_time": "2022-07-03T03:55:53.234Z"
   },
   {
    "duration": 400,
    "start_time": "2022-07-03T03:55:53.538Z"
   },
   {
    "duration": 401,
    "start_time": "2022-07-03T03:55:53.941Z"
   },
   {
    "duration": 182,
    "start_time": "2022-07-03T03:55:54.343Z"
   },
   {
    "duration": 175,
    "start_time": "2022-07-03T03:55:54.527Z"
   },
   {
    "duration": 195,
    "start_time": "2022-07-03T03:55:54.704Z"
   },
   {
    "duration": 160,
    "start_time": "2022-07-03T03:55:54.901Z"
   },
   {
    "duration": 177,
    "start_time": "2022-07-03T03:55:55.062Z"
   },
   {
    "duration": 251,
    "start_time": "2022-07-03T03:55:55.242Z"
   },
   {
    "duration": 151,
    "start_time": "2022-07-03T03:55:55.495Z"
   },
   {
    "duration": 23,
    "start_time": "2022-07-03T03:55:55.648Z"
   },
   {
    "duration": 11,
    "start_time": "2022-07-03T03:55:55.673Z"
   },
   {
    "duration": 187,
    "start_time": "2022-07-03T03:55:55.686Z"
   },
   {
    "duration": 197,
    "start_time": "2022-07-03T03:55:55.874Z"
   },
   {
    "duration": 158,
    "start_time": "2022-07-03T03:55:56.073Z"
   },
   {
    "duration": 152,
    "start_time": "2022-07-03T03:55:56.241Z"
   },
   {
    "duration": 184,
    "start_time": "2022-07-03T03:55:56.395Z"
   },
   {
    "duration": 175,
    "start_time": "2022-07-03T03:55:56.580Z"
   },
   {
    "duration": 197,
    "start_time": "2022-07-03T03:55:56.756Z"
   },
   {
    "duration": 394,
    "start_time": "2022-07-03T03:57:24.735Z"
   },
   {
    "duration": 799,
    "start_time": "2022-07-03T03:57:35.031Z"
   },
   {
    "duration": 15,
    "start_time": "2022-07-03T03:57:35.831Z"
   },
   {
    "duration": 9,
    "start_time": "2022-07-03T03:57:35.847Z"
   },
   {
    "duration": 15,
    "start_time": "2022-07-03T03:57:35.858Z"
   },
   {
    "duration": 23,
    "start_time": "2022-07-03T03:57:35.875Z"
   },
   {
    "duration": 3,
    "start_time": "2022-07-03T03:57:35.900Z"
   },
   {
    "duration": 85,
    "start_time": "2022-07-03T03:57:35.904Z"
   },
   {
    "duration": 278,
    "start_time": "2022-07-03T03:57:35.991Z"
   },
   {
    "duration": 31,
    "start_time": "2022-07-03T03:57:36.271Z"
   },
   {
    "duration": 4,
    "start_time": "2022-07-03T03:57:36.303Z"
   },
   {
    "duration": 9,
    "start_time": "2022-07-03T03:57:36.309Z"
   },
   {
    "duration": 25,
    "start_time": "2022-07-03T03:57:36.341Z"
   },
   {
    "duration": 402,
    "start_time": "2022-07-03T03:57:36.367Z"
   },
   {
    "duration": 14,
    "start_time": "2022-07-03T03:57:36.772Z"
   },
   {
    "duration": 304,
    "start_time": "2022-07-03T03:57:36.788Z"
   },
   {
    "duration": 334,
    "start_time": "2022-07-03T03:57:37.093Z"
   },
   {
    "duration": 314,
    "start_time": "2022-07-03T03:57:37.429Z"
   },
   {
    "duration": 187,
    "start_time": "2022-07-03T03:57:37.745Z"
   },
   {
    "duration": 167,
    "start_time": "2022-07-03T03:57:37.934Z"
   },
   {
    "duration": 175,
    "start_time": "2022-07-03T03:57:38.103Z"
   },
   {
    "duration": 220,
    "start_time": "2022-07-03T03:57:38.280Z"
   },
   {
    "duration": 303,
    "start_time": "2022-07-03T03:57:38.502Z"
   },
   {
    "duration": 396,
    "start_time": "2022-07-03T03:57:38.807Z"
   },
   {
    "duration": 411,
    "start_time": "2022-07-03T03:57:39.205Z"
   },
   {
    "duration": 178,
    "start_time": "2022-07-03T03:57:39.618Z"
   },
   {
    "duration": 175,
    "start_time": "2022-07-03T03:57:39.798Z"
   },
   {
    "duration": 196,
    "start_time": "2022-07-03T03:57:39.975Z"
   },
   {
    "duration": 155,
    "start_time": "2022-07-03T03:57:40.172Z"
   },
   {
    "duration": 181,
    "start_time": "2022-07-03T03:57:40.329Z"
   },
   {
    "duration": 250,
    "start_time": "2022-07-03T03:57:40.511Z"
   },
   {
    "duration": 159,
    "start_time": "2022-07-03T03:57:40.763Z"
   },
   {
    "duration": 27,
    "start_time": "2022-07-03T03:57:40.923Z"
   },
   {
    "duration": 11,
    "start_time": "2022-07-03T03:57:40.952Z"
   },
   {
    "duration": 173,
    "start_time": "2022-07-03T03:57:40.964Z"
   },
   {
    "duration": 196,
    "start_time": "2022-07-03T03:57:41.139Z"
   },
   {
    "duration": 159,
    "start_time": "2022-07-03T03:57:41.337Z"
   },
   {
    "duration": 155,
    "start_time": "2022-07-03T03:57:41.498Z"
   },
   {
    "duration": 174,
    "start_time": "2022-07-03T03:57:41.654Z"
   },
   {
    "duration": 177,
    "start_time": "2022-07-03T03:57:41.829Z"
   },
   {
    "duration": 190,
    "start_time": "2022-07-03T03:57:42.008Z"
   },
   {
    "duration": 15,
    "start_time": "2022-07-03T04:31:56.158Z"
   },
   {
    "duration": 258,
    "start_time": "2022-07-03T04:33:11.482Z"
   },
   {
    "duration": 333,
    "start_time": "2022-07-03T04:33:22.568Z"
   },
   {
    "duration": 261,
    "start_time": "2022-07-03T04:33:58.293Z"
   },
   {
    "duration": 27,
    "start_time": "2022-07-03T04:36:46.354Z"
   },
   {
    "duration": 29,
    "start_time": "2022-07-03T04:37:11.312Z"
   },
   {
    "duration": 27,
    "start_time": "2022-07-03T04:37:22.957Z"
   },
   {
    "duration": 289,
    "start_time": "2022-07-03T04:40:05.221Z"
   },
   {
    "duration": 301,
    "start_time": "2022-07-03T04:40:13.159Z"
   },
   {
    "duration": 377,
    "start_time": "2022-07-03T04:40:17.621Z"
   },
   {
    "duration": 276,
    "start_time": "2022-07-03T04:40:24.657Z"
   },
   {
    "duration": 281,
    "start_time": "2022-07-03T04:40:31.370Z"
   },
   {
    "duration": 285,
    "start_time": "2022-07-03T04:40:40.845Z"
   },
   {
    "duration": 830,
    "start_time": "2022-07-03T04:41:26.031Z"
   },
   {
    "duration": 16,
    "start_time": "2022-07-03T04:41:26.863Z"
   },
   {
    "duration": 10,
    "start_time": "2022-07-03T04:41:26.881Z"
   },
   {
    "duration": 16,
    "start_time": "2022-07-03T04:41:26.893Z"
   },
   {
    "duration": 50,
    "start_time": "2022-07-03T04:41:26.912Z"
   },
   {
    "duration": 4,
    "start_time": "2022-07-03T04:41:26.963Z"
   },
   {
    "duration": 55,
    "start_time": "2022-07-03T04:41:26.968Z"
   },
   {
    "duration": 300,
    "start_time": "2022-07-03T04:41:27.041Z"
   },
   {
    "duration": 29,
    "start_time": "2022-07-03T04:41:27.344Z"
   },
   {
    "duration": 4,
    "start_time": "2022-07-03T04:41:27.375Z"
   },
   {
    "duration": 9,
    "start_time": "2022-07-03T04:41:27.381Z"
   },
   {
    "duration": 54,
    "start_time": "2022-07-03T04:41:27.391Z"
   },
   {
    "duration": 402,
    "start_time": "2022-07-03T04:41:27.447Z"
   },
   {
    "duration": 15,
    "start_time": "2022-07-03T04:41:27.852Z"
   },
   {
    "duration": 318,
    "start_time": "2022-07-03T04:41:27.869Z"
   },
   {
    "duration": 326,
    "start_time": "2022-07-03T04:41:28.189Z"
   },
   {
    "duration": 310,
    "start_time": "2022-07-03T04:41:28.517Z"
   },
   {
    "duration": 195,
    "start_time": "2022-07-03T04:41:28.829Z"
   },
   {
    "duration": 172,
    "start_time": "2022-07-03T04:41:29.026Z"
   },
   {
    "duration": 178,
    "start_time": "2022-07-03T04:41:29.200Z"
   },
   {
    "duration": 217,
    "start_time": "2022-07-03T04:41:29.380Z"
   },
   {
    "duration": 306,
    "start_time": "2022-07-03T04:41:29.599Z"
   },
   {
    "duration": 387,
    "start_time": "2022-07-03T04:41:29.907Z"
   },
   {
    "duration": 420,
    "start_time": "2022-07-03T04:41:30.296Z"
   },
   {
    "duration": 192,
    "start_time": "2022-07-03T04:41:30.717Z"
   },
   {
    "duration": 187,
    "start_time": "2022-07-03T04:41:30.911Z"
   },
   {
    "duration": 210,
    "start_time": "2022-07-03T04:41:31.100Z"
   },
   {
    "duration": 161,
    "start_time": "2022-07-03T04:41:31.312Z"
   },
   {
    "duration": 179,
    "start_time": "2022-07-03T04:41:31.475Z"
   },
   {
    "duration": 258,
    "start_time": "2022-07-03T04:41:31.656Z"
   },
   {
    "duration": 161,
    "start_time": "2022-07-03T04:41:31.915Z"
   },
   {
    "duration": 22,
    "start_time": "2022-07-03T04:41:32.078Z"
   },
   {
    "duration": 11,
    "start_time": "2022-07-03T04:41:32.102Z"
   },
   {
    "duration": 183,
    "start_time": "2022-07-03T04:41:32.115Z"
   },
   {
    "duration": 194,
    "start_time": "2022-07-03T04:41:32.300Z"
   },
   {
    "duration": 171,
    "start_time": "2022-07-03T04:41:32.496Z"
   },
   {
    "duration": 155,
    "start_time": "2022-07-03T04:41:32.669Z"
   },
   {
    "duration": 185,
    "start_time": "2022-07-03T04:41:32.825Z"
   },
   {
    "duration": 173,
    "start_time": "2022-07-03T04:41:33.012Z"
   },
   {
    "duration": 183,
    "start_time": "2022-07-03T04:41:33.187Z"
   },
   {
    "duration": 294,
    "start_time": "2022-07-03T04:41:41.728Z"
   },
   {
    "duration": 378,
    "start_time": "2022-07-03T04:41:48.673Z"
   },
   {
    "duration": 295,
    "start_time": "2022-07-03T04:41:53.182Z"
   },
   {
    "duration": 281,
    "start_time": "2022-07-03T04:41:56.998Z"
   },
   {
    "duration": 301,
    "start_time": "2022-07-03T04:42:13.058Z"
   },
   {
    "duration": 305,
    "start_time": "2022-07-03T04:42:31.280Z"
   },
   {
    "duration": 401,
    "start_time": "2022-07-03T04:43:39.291Z"
   },
   {
    "duration": 293,
    "start_time": "2022-07-03T04:44:34.845Z"
   },
   {
    "duration": 279,
    "start_time": "2022-07-03T04:45:20.828Z"
   },
   {
    "duration": 384,
    "start_time": "2022-07-03T04:45:44.252Z"
   },
   {
    "duration": 403,
    "start_time": "2022-07-03T04:46:26.350Z"
   },
   {
    "duration": 374,
    "start_time": "2022-07-03T04:46:53.904Z"
   },
   {
    "duration": 482,
    "start_time": "2022-07-03T04:47:37.570Z"
   },
   {
    "duration": 376,
    "start_time": "2022-07-03T04:48:15.696Z"
   },
   {
    "duration": 83,
    "start_time": "2022-07-03T04:51:53.243Z"
   },
   {
    "duration": 383,
    "start_time": "2022-07-03T04:52:08.766Z"
   },
   {
    "duration": 396,
    "start_time": "2022-07-03T04:52:30.186Z"
   },
   {
    "duration": 387,
    "start_time": "2022-07-03T04:52:46.592Z"
   },
   {
    "duration": 9,
    "start_time": "2022-07-03T04:54:52.586Z"
   },
   {
    "duration": 531,
    "start_time": "2022-07-03T04:56:00.996Z"
   },
   {
    "duration": 388,
    "start_time": "2022-07-03T04:56:09.720Z"
   },
   {
    "duration": 395,
    "start_time": "2022-07-03T04:56:16.187Z"
   },
   {
    "duration": 421,
    "start_time": "2022-07-03T04:58:46.671Z"
   },
   {
    "duration": 305,
    "start_time": "2022-07-03T05:00:59.780Z"
   },
   {
    "duration": 568,
    "start_time": "2022-07-03T05:07:08.256Z"
   },
   {
    "duration": 403,
    "start_time": "2022-07-03T05:07:26.273Z"
   },
   {
    "duration": 423,
    "start_time": "2022-07-03T05:08:06.479Z"
   },
   {
    "duration": 406,
    "start_time": "2022-07-03T05:08:22.071Z"
   },
   {
    "duration": 105,
    "start_time": "2022-07-03T05:09:42.451Z"
   },
   {
    "duration": 430,
    "start_time": "2022-07-03T05:09:51.928Z"
   },
   {
    "duration": 92,
    "start_time": "2022-07-03T05:16:00.860Z"
   },
   {
    "duration": 8,
    "start_time": "2022-07-03T05:16:18.974Z"
   },
   {
    "duration": 97,
    "start_time": "2022-07-03T05:16:37.844Z"
   },
   {
    "duration": 91,
    "start_time": "2022-07-03T05:16:44.302Z"
   },
   {
    "duration": 95,
    "start_time": "2022-07-03T05:17:05.846Z"
   },
   {
    "duration": 94,
    "start_time": "2022-07-03T05:17:17.914Z"
   },
   {
    "duration": 86,
    "start_time": "2022-07-03T05:17:30.698Z"
   },
   {
    "duration": 93,
    "start_time": "2022-07-03T05:17:58.859Z"
   },
   {
    "duration": 297,
    "start_time": "2022-07-03T05:18:04.581Z"
   },
   {
    "duration": 89,
    "start_time": "2022-07-03T05:18:08.176Z"
   },
   {
    "duration": 86,
    "start_time": "2022-07-03T05:18:26.984Z"
   },
   {
    "duration": 90,
    "start_time": "2022-07-03T05:18:35.141Z"
   },
   {
    "duration": 88,
    "start_time": "2022-07-03T05:19:09.061Z"
   },
   {
    "duration": 1118,
    "start_time": "2022-07-03T05:20:14.826Z"
   },
   {
    "duration": 15,
    "start_time": "2022-07-03T05:20:15.947Z"
   },
   {
    "duration": 9,
    "start_time": "2022-07-03T05:20:15.964Z"
   },
   {
    "duration": 16,
    "start_time": "2022-07-03T05:20:15.975Z"
   },
   {
    "duration": 49,
    "start_time": "2022-07-03T05:20:15.993Z"
   },
   {
    "duration": 4,
    "start_time": "2022-07-03T05:20:16.044Z"
   },
   {
    "duration": 50,
    "start_time": "2022-07-03T05:20:16.050Z"
   },
   {
    "duration": 295,
    "start_time": "2022-07-03T05:20:16.101Z"
   },
   {
    "duration": 27,
    "start_time": "2022-07-03T05:20:16.397Z"
   },
   {
    "duration": 17,
    "start_time": "2022-07-03T05:20:16.426Z"
   },
   {
    "duration": 9,
    "start_time": "2022-07-03T05:20:16.444Z"
   },
   {
    "duration": 26,
    "start_time": "2022-07-03T05:20:16.454Z"
   },
   {
    "duration": 415,
    "start_time": "2022-07-03T05:20:16.482Z"
   },
   {
    "duration": 15,
    "start_time": "2022-07-03T05:20:16.899Z"
   },
   {
    "duration": 101,
    "start_time": "2022-07-03T05:20:16.915Z"
   },
   {
    "duration": 333,
    "start_time": "2022-07-03T05:20:17.017Z"
   },
   {
    "duration": 204,
    "start_time": "2022-07-03T05:20:17.352Z"
   },
   {
    "duration": 158,
    "start_time": "2022-07-03T05:20:17.558Z"
   },
   {
    "duration": 177,
    "start_time": "2022-07-03T05:20:17.718Z"
   },
   {
    "duration": 216,
    "start_time": "2022-07-03T05:20:17.897Z"
   },
   {
    "duration": 232,
    "start_time": "2022-07-03T05:20:18.114Z"
   },
   {
    "duration": 399,
    "start_time": "2022-07-03T05:20:18.348Z"
   },
   {
    "duration": 480,
    "start_time": "2022-07-03T05:20:18.749Z"
   },
   {
    "duration": 320,
    "start_time": "2022-07-03T05:20:19.230Z"
   },
   {
    "duration": 189,
    "start_time": "2022-07-03T05:20:19.552Z"
   },
   {
    "duration": 179,
    "start_time": "2022-07-03T05:20:19.743Z"
   },
   {
    "duration": 195,
    "start_time": "2022-07-03T05:20:19.924Z"
   },
   {
    "duration": 159,
    "start_time": "2022-07-03T05:20:20.121Z"
   },
   {
    "duration": 186,
    "start_time": "2022-07-03T05:20:20.282Z"
   },
   {
    "duration": 165,
    "start_time": "2022-07-03T05:20:20.470Z"
   },
   {
    "duration": 237,
    "start_time": "2022-07-03T05:20:20.641Z"
   },
   {
    "duration": 22,
    "start_time": "2022-07-03T05:20:20.880Z"
   },
   {
    "duration": 12,
    "start_time": "2022-07-03T05:20:20.903Z"
   },
   {
    "duration": 186,
    "start_time": "2022-07-03T05:20:20.916Z"
   },
   {
    "duration": 186,
    "start_time": "2022-07-03T05:20:21.103Z"
   },
   {
    "duration": 164,
    "start_time": "2022-07-03T05:20:21.291Z"
   },
   {
    "duration": 153,
    "start_time": "2022-07-03T05:20:21.457Z"
   },
   {
    "duration": 179,
    "start_time": "2022-07-03T05:20:21.612Z"
   },
   {
    "duration": 180,
    "start_time": "2022-07-03T05:20:21.792Z"
   },
   {
    "duration": 185,
    "start_time": "2022-07-03T05:20:21.973Z"
   },
   {
    "duration": 93,
    "start_time": "2022-07-03T05:21:16.496Z"
   },
   {
    "duration": 93,
    "start_time": "2022-07-03T05:21:23.767Z"
   },
   {
    "duration": 85,
    "start_time": "2022-07-03T05:21:38.575Z"
   },
   {
    "duration": 74,
    "start_time": "2022-07-03T05:23:43.739Z"
   },
   {
    "duration": 176,
    "start_time": "2022-07-03T05:25:12.571Z"
   },
   {
    "duration": 121,
    "start_time": "2022-07-03T05:25:36.802Z"
   },
   {
    "duration": 90,
    "start_time": "2022-07-03T05:25:48.442Z"
   },
   {
    "duration": 88,
    "start_time": "2022-07-03T05:26:08.697Z"
   },
   {
    "duration": 84,
    "start_time": "2022-07-03T05:26:54.517Z"
   },
   {
    "duration": 83,
    "start_time": "2022-07-03T05:27:07.084Z"
   },
   {
    "duration": 109,
    "start_time": "2022-07-03T05:29:15.939Z"
   },
   {
    "duration": 101,
    "start_time": "2022-07-03T05:29:47.874Z"
   },
   {
    "duration": 89,
    "start_time": "2022-07-03T05:30:13.008Z"
   },
   {
    "duration": 202,
    "start_time": "2022-07-03T05:30:50.885Z"
   },
   {
    "duration": 85,
    "start_time": "2022-07-03T05:31:00.752Z"
   },
   {
    "duration": 93,
    "start_time": "2022-07-03T05:31:57.961Z"
   },
   {
    "duration": 170,
    "start_time": "2022-07-03T05:32:34.777Z"
   },
   {
    "duration": 304,
    "start_time": "2022-07-03T05:33:23.579Z"
   },
   {
    "duration": 297,
    "start_time": "2022-07-03T05:33:27.272Z"
   },
   {
    "duration": 12,
    "start_time": "2022-07-03T05:34:22.775Z"
   },
   {
    "duration": 291,
    "start_time": "2022-07-03T05:34:38.417Z"
   },
   {
    "duration": 476,
    "start_time": "2022-07-03T05:35:03.922Z"
   },
   {
    "duration": 590,
    "start_time": "2022-07-03T05:36:13.030Z"
   },
   {
    "duration": 85,
    "start_time": "2022-07-03T05:38:20.903Z"
   },
   {
    "duration": 10,
    "start_time": "2022-07-03T05:38:35.195Z"
   },
   {
    "duration": 207,
    "start_time": "2022-07-03T05:39:28.134Z"
   },
   {
    "duration": 445,
    "start_time": "2022-07-03T05:40:07.683Z"
   },
   {
    "duration": 9,
    "start_time": "2022-07-03T05:40:15.464Z"
   },
   {
    "duration": 477,
    "start_time": "2022-07-03T05:40:19.878Z"
   },
   {
    "duration": 3,
    "start_time": "2022-07-03T05:41:22.338Z"
   },
   {
    "duration": 6,
    "start_time": "2022-07-03T05:41:30.146Z"
   },
   {
    "duration": 5,
    "start_time": "2022-07-03T05:41:35.603Z"
   },
   {
    "duration": 44,
    "start_time": "2022-07-03T05:42:08.912Z"
   },
   {
    "duration": 43,
    "start_time": "2022-07-03T05:43:58.884Z"
   },
   {
    "duration": 43,
    "start_time": "2022-07-03T05:44:11.830Z"
   },
   {
    "duration": 44,
    "start_time": "2022-07-03T05:44:22.272Z"
   },
   {
    "duration": 7,
    "start_time": "2022-07-03T05:46:04.290Z"
   },
   {
    "duration": 410,
    "start_time": "2022-07-03T05:53:17.380Z"
   },
   {
    "duration": 299,
    "start_time": "2022-07-03T05:53:32.781Z"
   },
   {
    "duration": 18,
    "start_time": "2022-07-03T05:53:44.338Z"
   },
   {
    "duration": 7,
    "start_time": "2022-07-03T05:53:55.746Z"
   },
   {
    "duration": 6,
    "start_time": "2022-07-03T05:54:00.389Z"
   },
   {
    "duration": 47,
    "start_time": "2022-07-03T05:54:40.536Z"
   },
   {
    "duration": 45,
    "start_time": "2022-07-03T05:55:00.431Z"
   },
   {
    "duration": 45,
    "start_time": "2022-07-03T05:56:21.484Z"
   },
   {
    "duration": 13,
    "start_time": "2022-07-03T05:56:47.538Z"
   },
   {
    "duration": 9,
    "start_time": "2022-07-03T05:57:03.880Z"
   },
   {
    "duration": 51,
    "start_time": "2022-07-03T05:58:00.299Z"
   },
   {
    "duration": 287,
    "start_time": "2022-07-03T05:58:10.946Z"
   },
   {
    "duration": 107,
    "start_time": "2022-07-03T05:58:44.491Z"
   },
   {
    "duration": 98,
    "start_time": "2022-07-03T05:59:36.703Z"
   },
   {
    "duration": 90,
    "start_time": "2022-07-03T06:01:27.624Z"
   },
   {
    "duration": 205,
    "start_time": "2022-07-03T06:01:39.711Z"
   },
   {
    "duration": 98,
    "start_time": "2022-07-03T06:02:33.279Z"
   },
   {
    "duration": 104,
    "start_time": "2022-07-03T06:08:26.911Z"
   },
   {
    "duration": 100,
    "start_time": "2022-07-03T06:11:29.887Z"
   },
   {
    "duration": 398,
    "start_time": "2022-07-03T06:15:55.531Z"
   },
   {
    "duration": 342,
    "start_time": "2022-07-03T06:17:26.436Z"
   },
   {
    "duration": 314,
    "start_time": "2022-07-03T06:17:42.022Z"
   },
   {
    "duration": 436,
    "start_time": "2022-07-03T06:17:54.722Z"
   },
   {
    "duration": 389,
    "start_time": "2022-07-03T06:18:35.630Z"
   },
   {
    "duration": 400,
    "start_time": "2022-07-03T06:20:20.795Z"
   },
   {
    "duration": 328,
    "start_time": "2022-07-03T06:21:01.819Z"
   },
   {
    "duration": 1061,
    "start_time": "2022-07-03T06:21:22.339Z"
   },
   {
    "duration": 310,
    "start_time": "2022-07-03T06:21:49.278Z"
   },
   {
    "duration": 8,
    "start_time": "2022-07-03T06:22:57.506Z"
   },
   {
    "duration": 326,
    "start_time": "2022-07-03T06:23:09.672Z"
   },
   {
    "duration": 322,
    "start_time": "2022-07-03T06:23:17.494Z"
   },
   {
    "duration": 187,
    "start_time": "2022-07-03T06:24:15.386Z"
   },
   {
    "duration": 450,
    "start_time": "2022-07-03T06:25:18.405Z"
   },
   {
    "duration": 183,
    "start_time": "2022-07-03T06:25:39.478Z"
   },
   {
    "duration": 212,
    "start_time": "2022-07-03T06:25:46.610Z"
   },
   {
    "duration": 206,
    "start_time": "2022-07-03T06:26:11.290Z"
   },
   {
    "duration": 211,
    "start_time": "2022-07-03T06:26:24.226Z"
   },
   {
    "duration": 215,
    "start_time": "2022-07-03T06:26:29.517Z"
   },
   {
    "duration": 201,
    "start_time": "2022-07-03T06:26:33.274Z"
   },
   {
    "duration": 212,
    "start_time": "2022-07-03T06:26:38.546Z"
   },
   {
    "duration": 183,
    "start_time": "2022-07-03T06:26:51.814Z"
   },
   {
    "duration": 432,
    "start_time": "2022-07-03T06:27:36.642Z"
   },
   {
    "duration": 172,
    "start_time": "2022-07-03T06:29:35.088Z"
   },
   {
    "duration": 166,
    "start_time": "2022-07-03T06:29:54.102Z"
   },
   {
    "duration": 192,
    "start_time": "2022-07-03T06:30:44.782Z"
   },
   {
    "duration": 795,
    "start_time": "2022-07-03T06:33:29.048Z"
   },
   {
    "duration": 15,
    "start_time": "2022-07-03T06:33:29.845Z"
   },
   {
    "duration": 10,
    "start_time": "2022-07-03T06:33:29.861Z"
   },
   {
    "duration": 16,
    "start_time": "2022-07-03T06:33:29.872Z"
   },
   {
    "duration": 24,
    "start_time": "2022-07-03T06:33:29.890Z"
   },
   {
    "duration": 29,
    "start_time": "2022-07-03T06:33:29.915Z"
   },
   {
    "duration": 53,
    "start_time": "2022-07-03T06:33:29.946Z"
   },
   {
    "duration": 301,
    "start_time": "2022-07-03T06:33:30.001Z"
   },
   {
    "duration": 39,
    "start_time": "2022-07-03T06:33:30.303Z"
   },
   {
    "duration": 5,
    "start_time": "2022-07-03T06:33:30.344Z"
   },
   {
    "duration": 18,
    "start_time": "2022-07-03T06:33:30.351Z"
   },
   {
    "duration": 33,
    "start_time": "2022-07-03T06:33:30.371Z"
   },
   {
    "duration": 406,
    "start_time": "2022-07-03T06:33:30.406Z"
   },
   {
    "duration": 15,
    "start_time": "2022-07-03T06:33:30.815Z"
   },
   {
    "duration": 112,
    "start_time": "2022-07-03T06:33:30.831Z"
   },
   {
    "duration": 119,
    "start_time": "2022-07-03T06:33:30.945Z"
   },
   {
    "duration": 117,
    "start_time": "2022-07-03T06:33:31.066Z"
   },
   {
    "duration": 110,
    "start_time": "2022-07-03T06:33:31.185Z"
   },
   {
    "duration": 119,
    "start_time": "2022-07-03T06:33:31.297Z"
   },
   {
    "duration": 176,
    "start_time": "2022-07-03T06:33:31.418Z"
   },
   {
    "duration": 178,
    "start_time": "2022-07-03T06:33:31.595Z"
   },
   {
    "duration": 220,
    "start_time": "2022-07-03T06:33:31.775Z"
   },
   {
    "duration": 234,
    "start_time": "2022-07-03T06:33:31.997Z"
   },
   {
    "duration": 499,
    "start_time": "2022-07-03T06:33:32.232Z"
   },
   {
    "duration": 328,
    "start_time": "2022-07-03T06:33:32.732Z"
   },
   {
    "duration": 347,
    "start_time": "2022-07-03T06:33:33.062Z"
   },
   {
    "duration": 211,
    "start_time": "2022-07-03T06:33:33.411Z"
   },
   {
    "duration": 179,
    "start_time": "2022-07-03T06:33:33.624Z"
   },
   {
    "duration": 182,
    "start_time": "2022-07-03T06:33:33.805Z"
   },
   {
    "duration": 232,
    "start_time": "2022-07-03T06:33:33.989Z"
   },
   {
    "duration": 150,
    "start_time": "2022-07-03T06:33:34.223Z"
   },
   {
    "duration": 167,
    "start_time": "2022-07-03T06:33:34.374Z"
   },
   {
    "duration": 258,
    "start_time": "2022-07-03T06:33:34.543Z"
   },
   {
    "duration": 177,
    "start_time": "2022-07-03T06:33:34.803Z"
   },
   {
    "duration": 23,
    "start_time": "2022-07-03T06:33:34.981Z"
   },
   {
    "duration": 12,
    "start_time": "2022-07-03T06:33:35.006Z"
   },
   {
    "duration": 190,
    "start_time": "2022-07-03T06:33:35.020Z"
   },
   {
    "duration": 178,
    "start_time": "2022-07-03T06:33:35.212Z"
   },
   {
    "duration": 181,
    "start_time": "2022-07-03T06:33:35.391Z"
   },
   {
    "duration": 158,
    "start_time": "2022-07-03T06:33:35.574Z"
   },
   {
    "duration": 160,
    "start_time": "2022-07-03T06:33:35.741Z"
   },
   {
    "duration": 155,
    "start_time": "2022-07-03T06:33:35.902Z"
   },
   {
    "duration": 185,
    "start_time": "2022-07-03T06:33:36.058Z"
   },
   {
    "duration": 170,
    "start_time": "2022-07-03T06:36:59.176Z"
   },
   {
    "duration": 167,
    "start_time": "2022-07-03T06:39:39.651Z"
   },
   {
    "duration": 266,
    "start_time": "2022-07-03T06:39:57.100Z"
   },
   {
    "duration": 172,
    "start_time": "2022-07-03T06:40:15.023Z"
   },
   {
    "duration": 174,
    "start_time": "2022-07-03T06:40:52.723Z"
   },
   {
    "duration": 189,
    "start_time": "2022-07-03T06:41:00.427Z"
   },
   {
    "duration": 195,
    "start_time": "2022-07-03T06:43:56.579Z"
   },
   {
    "duration": 205,
    "start_time": "2022-07-03T06:44:44.277Z"
   },
   {
    "duration": 179,
    "start_time": "2022-07-03T06:44:59.124Z"
   },
   {
    "duration": 195,
    "start_time": "2022-07-03T06:45:24.720Z"
   },
   {
    "duration": 223,
    "start_time": "2022-07-03T06:45:57.238Z"
   },
   {
    "duration": 329,
    "start_time": "2022-07-03T06:48:55.726Z"
   },
   {
    "duration": 299,
    "start_time": "2022-07-03T06:50:02.223Z"
   },
   {
    "duration": 310,
    "start_time": "2022-07-03T06:54:40.734Z"
   },
   {
    "duration": 931,
    "start_time": "2022-07-03T06:56:41.803Z"
   },
   {
    "duration": 601,
    "start_time": "2022-07-03T07:04:29.209Z"
   },
   {
    "duration": 480,
    "start_time": "2022-07-03T07:05:10.978Z"
   },
   {
    "duration": 791,
    "start_time": "2022-07-03T07:05:57.197Z"
   },
   {
    "duration": 17,
    "start_time": "2022-07-03T07:05:57.990Z"
   },
   {
    "duration": 10,
    "start_time": "2022-07-03T07:05:58.008Z"
   },
   {
    "duration": 26,
    "start_time": "2022-07-03T07:05:58.020Z"
   },
   {
    "duration": 25,
    "start_time": "2022-07-03T07:05:58.048Z"
   },
   {
    "duration": 3,
    "start_time": "2022-07-03T07:05:58.075Z"
   },
   {
    "duration": 53,
    "start_time": "2022-07-03T07:05:58.080Z"
   },
   {
    "duration": 300,
    "start_time": "2022-07-03T07:05:58.142Z"
   },
   {
    "duration": 29,
    "start_time": "2022-07-03T07:05:58.443Z"
   },
   {
    "duration": 4,
    "start_time": "2022-07-03T07:05:58.475Z"
   },
   {
    "duration": 64,
    "start_time": "2022-07-03T07:05:58.481Z"
   },
   {
    "duration": 25,
    "start_time": "2022-07-03T07:05:58.547Z"
   },
   {
    "duration": 616,
    "start_time": "2022-07-03T07:05:58.574Z"
   },
   {
    "duration": 14,
    "start_time": "2022-07-03T07:05:59.192Z"
   },
   {
    "duration": 104,
    "start_time": "2022-07-03T07:05:59.207Z"
   },
   {
    "duration": 115,
    "start_time": "2022-07-03T07:05:59.313Z"
   },
   {
    "duration": 129,
    "start_time": "2022-07-03T07:05:59.429Z"
   },
   {
    "duration": 107,
    "start_time": "2022-07-03T07:05:59.560Z"
   },
   {
    "duration": 116,
    "start_time": "2022-07-03T07:05:59.669Z"
   },
   {
    "duration": 87,
    "start_time": "2022-07-03T07:05:59.787Z"
   },
   {
    "duration": 0,
    "start_time": "2022-07-03T07:05:59.876Z"
   },
   {
    "duration": 0,
    "start_time": "2022-07-03T07:05:59.877Z"
   },
   {
    "duration": 0,
    "start_time": "2022-07-03T07:05:59.878Z"
   },
   {
    "duration": 0,
    "start_time": "2022-07-03T07:05:59.879Z"
   },
   {
    "duration": 1,
    "start_time": "2022-07-03T07:05:59.880Z"
   },
   {
    "duration": 0,
    "start_time": "2022-07-03T07:05:59.881Z"
   },
   {
    "duration": 0,
    "start_time": "2022-07-03T07:05:59.882Z"
   },
   {
    "duration": 0,
    "start_time": "2022-07-03T07:05:59.883Z"
   },
   {
    "duration": 0,
    "start_time": "2022-07-03T07:05:59.884Z"
   },
   {
    "duration": 0,
    "start_time": "2022-07-03T07:05:59.885Z"
   },
   {
    "duration": 0,
    "start_time": "2022-07-03T07:05:59.886Z"
   },
   {
    "duration": 0,
    "start_time": "2022-07-03T07:05:59.887Z"
   },
   {
    "duration": 0,
    "start_time": "2022-07-03T07:05:59.888Z"
   },
   {
    "duration": 0,
    "start_time": "2022-07-03T07:05:59.889Z"
   },
   {
    "duration": 0,
    "start_time": "2022-07-03T07:05:59.891Z"
   },
   {
    "duration": 0,
    "start_time": "2022-07-03T07:05:59.892Z"
   },
   {
    "duration": 0,
    "start_time": "2022-07-03T07:05:59.893Z"
   },
   {
    "duration": 0,
    "start_time": "2022-07-03T07:05:59.894Z"
   },
   {
    "duration": 0,
    "start_time": "2022-07-03T07:05:59.895Z"
   },
   {
    "duration": 0,
    "start_time": "2022-07-03T07:05:59.895Z"
   },
   {
    "duration": 0,
    "start_time": "2022-07-03T07:05:59.896Z"
   },
   {
    "duration": 756,
    "start_time": "2022-07-03T07:06:32.684Z"
   },
   {
    "duration": 15,
    "start_time": "2022-07-03T07:06:33.442Z"
   },
   {
    "duration": 8,
    "start_time": "2022-07-03T07:06:33.459Z"
   },
   {
    "duration": 17,
    "start_time": "2022-07-03T07:06:33.469Z"
   },
   {
    "duration": 24,
    "start_time": "2022-07-03T07:06:33.488Z"
   },
   {
    "duration": 29,
    "start_time": "2022-07-03T07:06:33.513Z"
   },
   {
    "duration": 55,
    "start_time": "2022-07-03T07:06:33.544Z"
   },
   {
    "duration": 303,
    "start_time": "2022-07-03T07:06:33.601Z"
   },
   {
    "duration": 28,
    "start_time": "2022-07-03T07:06:33.905Z"
   },
   {
    "duration": 4,
    "start_time": "2022-07-03T07:06:33.942Z"
   },
   {
    "duration": 10,
    "start_time": "2022-07-03T07:06:33.948Z"
   },
   {
    "duration": 26,
    "start_time": "2022-07-03T07:06:33.960Z"
   },
   {
    "duration": 407,
    "start_time": "2022-07-03T07:06:33.987Z"
   },
   {
    "duration": 14,
    "start_time": "2022-07-03T07:06:34.396Z"
   },
   {
    "duration": 98,
    "start_time": "2022-07-03T07:06:34.411Z"
   },
   {
    "duration": 114,
    "start_time": "2022-07-03T07:06:34.511Z"
   },
   {
    "duration": 128,
    "start_time": "2022-07-03T07:06:34.626Z"
   },
   {
    "duration": 112,
    "start_time": "2022-07-03T07:06:34.756Z"
   },
   {
    "duration": 116,
    "start_time": "2022-07-03T07:06:34.870Z"
   },
   {
    "duration": 348,
    "start_time": "2022-07-03T07:06:34.987Z"
   },
   {
    "duration": 214,
    "start_time": "2022-07-03T07:06:35.337Z"
   },
   {
    "duration": 193,
    "start_time": "2022-07-03T07:06:35.552Z"
   },
   {
    "duration": 196,
    "start_time": "2022-07-03T07:06:35.746Z"
   },
   {
    "duration": 70,
    "start_time": "2022-07-03T07:06:35.944Z"
   },
   {
    "duration": 0,
    "start_time": "2022-07-03T07:06:36.016Z"
   },
   {
    "duration": 0,
    "start_time": "2022-07-03T07:06:36.017Z"
   },
   {
    "duration": 0,
    "start_time": "2022-07-03T07:06:36.018Z"
   },
   {
    "duration": 1,
    "start_time": "2022-07-03T07:06:36.019Z"
   },
   {
    "duration": 0,
    "start_time": "2022-07-03T07:06:36.021Z"
   },
   {
    "duration": 0,
    "start_time": "2022-07-03T07:06:36.021Z"
   },
   {
    "duration": 0,
    "start_time": "2022-07-03T07:06:36.041Z"
   },
   {
    "duration": 0,
    "start_time": "2022-07-03T07:06:36.043Z"
   },
   {
    "duration": 0,
    "start_time": "2022-07-03T07:06:36.044Z"
   },
   {
    "duration": 0,
    "start_time": "2022-07-03T07:06:36.045Z"
   },
   {
    "duration": 0,
    "start_time": "2022-07-03T07:06:36.047Z"
   },
   {
    "duration": 0,
    "start_time": "2022-07-03T07:06:36.048Z"
   },
   {
    "duration": 0,
    "start_time": "2022-07-03T07:06:36.049Z"
   },
   {
    "duration": 0,
    "start_time": "2022-07-03T07:06:36.050Z"
   },
   {
    "duration": 0,
    "start_time": "2022-07-03T07:06:36.051Z"
   },
   {
    "duration": 0,
    "start_time": "2022-07-03T07:06:36.052Z"
   },
   {
    "duration": 0,
    "start_time": "2022-07-03T07:06:36.054Z"
   },
   {
    "duration": 598,
    "start_time": "2022-07-03T07:06:55.778Z"
   },
   {
    "duration": 472,
    "start_time": "2022-07-03T07:07:38.902Z"
   },
   {
    "duration": 510,
    "start_time": "2022-07-03T07:08:41.540Z"
   },
   {
    "duration": 581,
    "start_time": "2022-07-03T07:09:04.909Z"
   },
   {
    "duration": 492,
    "start_time": "2022-07-03T07:09:09.479Z"
   },
   {
    "duration": 480,
    "start_time": "2022-07-03T07:09:45.411Z"
   },
   {
    "duration": 498,
    "start_time": "2022-07-03T07:09:52.478Z"
   },
   {
    "duration": 643,
    "start_time": "2022-07-03T07:10:16.197Z"
   },
   {
    "duration": 489,
    "start_time": "2022-07-03T07:10:43.527Z"
   },
   {
    "duration": 511,
    "start_time": "2022-07-03T07:10:51.430Z"
   },
   {
    "duration": 456,
    "start_time": "2022-07-03T07:11:19.130Z"
   },
   {
    "duration": 613,
    "start_time": "2022-07-03T07:12:19.546Z"
   },
   {
    "duration": 943,
    "start_time": "2022-07-03T07:13:01.288Z"
   },
   {
    "duration": 633,
    "start_time": "2022-07-03T07:13:31.187Z"
   },
   {
    "duration": 451,
    "start_time": "2022-07-03T07:13:37.374Z"
   },
   {
    "duration": 468,
    "start_time": "2022-07-03T07:13:45.091Z"
   },
   {
    "duration": 1167,
    "start_time": "2022-07-03T07:13:56.398Z"
   },
   {
    "duration": 491,
    "start_time": "2022-07-03T07:14:15.829Z"
   },
   {
    "duration": 479,
    "start_time": "2022-07-03T07:14:35.944Z"
   },
   {
    "duration": 664,
    "start_time": "2022-07-03T07:14:48.978Z"
   },
   {
    "duration": 18,
    "start_time": "2022-07-03T07:16:21.246Z"
   },
   {
    "duration": 123,
    "start_time": "2022-07-03T07:17:06.847Z"
   },
   {
    "duration": 15,
    "start_time": "2022-07-03T07:17:45.799Z"
   },
   {
    "duration": 121,
    "start_time": "2022-07-03T07:18:10.641Z"
   },
   {
    "duration": 116,
    "start_time": "2022-07-03T07:18:53.090Z"
   },
   {
    "duration": 134,
    "start_time": "2022-07-03T07:19:06.678Z"
   },
   {
    "duration": 22,
    "start_time": "2022-07-03T07:19:42.538Z"
   },
   {
    "duration": 114,
    "start_time": "2022-07-03T07:20:15.400Z"
   },
   {
    "duration": 462,
    "start_time": "2022-07-03T07:22:32.001Z"
   },
   {
    "duration": 472,
    "start_time": "2022-07-03T07:22:59.417Z"
   },
   {
    "duration": 689,
    "start_time": "2022-07-03T07:23:29.906Z"
   },
   {
    "duration": 466,
    "start_time": "2022-07-03T07:23:58.623Z"
   },
   {
    "duration": 937,
    "start_time": "2022-07-03T07:24:15.575Z"
   },
   {
    "duration": 710,
    "start_time": "2022-07-03T07:25:25.784Z"
   },
   {
    "duration": 971,
    "start_time": "2022-07-03T07:27:16.681Z"
   },
   {
    "duration": 476,
    "start_time": "2022-07-03T07:28:14.475Z"
   },
   {
    "duration": 1157,
    "start_time": "2022-07-03T07:28:29.311Z"
   },
   {
    "duration": 462,
    "start_time": "2022-07-03T07:29:04.425Z"
   },
   {
    "duration": 1195,
    "start_time": "2022-07-03T07:29:19.032Z"
   },
   {
    "duration": 801,
    "start_time": "2022-07-03T07:30:44.267Z"
   },
   {
    "duration": 15,
    "start_time": "2022-07-03T07:30:45.070Z"
   },
   {
    "duration": 10,
    "start_time": "2022-07-03T07:30:45.086Z"
   },
   {
    "duration": 17,
    "start_time": "2022-07-03T07:30:45.097Z"
   },
   {
    "duration": 41,
    "start_time": "2022-07-03T07:30:45.117Z"
   },
   {
    "duration": 4,
    "start_time": "2022-07-03T07:30:45.159Z"
   },
   {
    "duration": 53,
    "start_time": "2022-07-03T07:30:45.165Z"
   },
   {
    "duration": 310,
    "start_time": "2022-07-03T07:30:45.220Z"
   },
   {
    "duration": 34,
    "start_time": "2022-07-03T07:30:45.531Z"
   },
   {
    "duration": 5,
    "start_time": "2022-07-03T07:30:45.567Z"
   },
   {
    "duration": 10,
    "start_time": "2022-07-03T07:30:45.574Z"
   },
   {
    "duration": 29,
    "start_time": "2022-07-03T07:30:45.586Z"
   },
   {
    "duration": 419,
    "start_time": "2022-07-03T07:30:45.642Z"
   },
   {
    "duration": 15,
    "start_time": "2022-07-03T07:30:46.064Z"
   },
   {
    "duration": 113,
    "start_time": "2022-07-03T07:30:46.081Z"
   },
   {
    "duration": 119,
    "start_time": "2022-07-03T07:30:46.196Z"
   },
   {
    "duration": 131,
    "start_time": "2022-07-03T07:30:46.317Z"
   },
   {
    "duration": 111,
    "start_time": "2022-07-03T07:30:46.450Z"
   },
   {
    "duration": 124,
    "start_time": "2022-07-03T07:30:46.562Z"
   },
   {
    "duration": 380,
    "start_time": "2022-07-03T07:30:46.689Z"
   },
   {
    "duration": 218,
    "start_time": "2022-07-03T07:30:47.071Z"
   },
   {
    "duration": 214,
    "start_time": "2022-07-03T07:30:47.291Z"
   },
   {
    "duration": 195,
    "start_time": "2022-07-03T07:30:47.507Z"
   },
   {
    "duration": 563,
    "start_time": "2022-07-03T07:30:47.704Z"
   },
   {
    "duration": 973,
    "start_time": "2022-07-03T07:30:48.270Z"
   },
   {
    "duration": 260,
    "start_time": "2022-07-03T07:30:49.245Z"
   },
   {
    "duration": 85,
    "start_time": "2022-07-03T07:30:49.506Z"
   },
   {
    "duration": 0,
    "start_time": "2022-07-03T07:30:49.593Z"
   },
   {
    "duration": 0,
    "start_time": "2022-07-03T07:30:49.594Z"
   },
   {
    "duration": 0,
    "start_time": "2022-07-03T07:30:49.595Z"
   },
   {
    "duration": 0,
    "start_time": "2022-07-03T07:30:49.596Z"
   },
   {
    "duration": 0,
    "start_time": "2022-07-03T07:30:49.597Z"
   },
   {
    "duration": 0,
    "start_time": "2022-07-03T07:30:49.598Z"
   },
   {
    "duration": 0,
    "start_time": "2022-07-03T07:30:49.599Z"
   },
   {
    "duration": 0,
    "start_time": "2022-07-03T07:30:49.600Z"
   },
   {
    "duration": 0,
    "start_time": "2022-07-03T07:30:49.601Z"
   },
   {
    "duration": 0,
    "start_time": "2022-07-03T07:30:49.602Z"
   },
   {
    "duration": 0,
    "start_time": "2022-07-03T07:30:49.603Z"
   },
   {
    "duration": 0,
    "start_time": "2022-07-03T07:30:49.604Z"
   },
   {
    "duration": 0,
    "start_time": "2022-07-03T07:30:49.605Z"
   },
   {
    "duration": 0,
    "start_time": "2022-07-03T07:30:49.606Z"
   },
   {
    "duration": 945,
    "start_time": "2022-07-03T07:31:48.841Z"
   },
   {
    "duration": 1020,
    "start_time": "2022-07-03T07:32:02.316Z"
   },
   {
    "duration": 1014,
    "start_time": "2022-07-03T07:34:28.426Z"
   },
   {
    "duration": 275,
    "start_time": "2022-07-03T07:35:39.335Z"
   },
   {
    "duration": 264,
    "start_time": "2022-07-03T07:35:54.811Z"
   },
   {
    "duration": 281,
    "start_time": "2022-07-03T07:36:11.675Z"
   },
   {
    "duration": 285,
    "start_time": "2022-07-03T07:36:38.339Z"
   },
   {
    "duration": 372,
    "start_time": "2022-07-03T07:36:58.063Z"
   },
   {
    "duration": 267,
    "start_time": "2022-07-03T07:37:05.628Z"
   },
   {
    "duration": 261,
    "start_time": "2022-07-03T07:37:16.131Z"
   },
   {
    "duration": 262,
    "start_time": "2022-07-03T07:37:23.008Z"
   },
   {
    "duration": 258,
    "start_time": "2022-07-03T07:37:28.329Z"
   },
   {
    "duration": 370,
    "start_time": "2022-07-03T07:37:35.109Z"
   },
   {
    "duration": 221,
    "start_time": "2022-07-03T07:37:43.995Z"
   },
   {
    "duration": 220,
    "start_time": "2022-07-03T07:37:52.711Z"
   },
   {
    "duration": 227,
    "start_time": "2022-07-03T07:37:58.317Z"
   },
   {
    "duration": 224,
    "start_time": "2022-07-03T07:38:19.027Z"
   },
   {
    "duration": 270,
    "start_time": "2022-07-03T07:38:25.496Z"
   },
   {
    "duration": 211,
    "start_time": "2022-07-03T07:38:27.680Z"
   },
   {
    "duration": 822,
    "start_time": "2022-07-03T07:38:38.360Z"
   },
   {
    "duration": 15,
    "start_time": "2022-07-03T07:38:39.183Z"
   },
   {
    "duration": 9,
    "start_time": "2022-07-03T07:38:39.200Z"
   },
   {
    "duration": 33,
    "start_time": "2022-07-03T07:38:39.211Z"
   },
   {
    "duration": 24,
    "start_time": "2022-07-03T07:38:39.247Z"
   },
   {
    "duration": 3,
    "start_time": "2022-07-03T07:38:39.273Z"
   },
   {
    "duration": 77,
    "start_time": "2022-07-03T07:38:39.279Z"
   },
   {
    "duration": 296,
    "start_time": "2022-07-03T07:38:39.358Z"
   },
   {
    "duration": 30,
    "start_time": "2022-07-03T07:38:39.655Z"
   },
   {
    "duration": 5,
    "start_time": "2022-07-03T07:38:39.687Z"
   },
   {
    "duration": 8,
    "start_time": "2022-07-03T07:38:39.694Z"
   },
   {
    "duration": 52,
    "start_time": "2022-07-03T07:38:39.703Z"
   },
   {
    "duration": 397,
    "start_time": "2022-07-03T07:38:39.757Z"
   },
   {
    "duration": 14,
    "start_time": "2022-07-03T07:38:40.157Z"
   },
   {
    "duration": 104,
    "start_time": "2022-07-03T07:38:40.172Z"
   },
   {
    "duration": 120,
    "start_time": "2022-07-03T07:38:40.278Z"
   },
   {
    "duration": 116,
    "start_time": "2022-07-03T07:38:40.399Z"
   },
   {
    "duration": 102,
    "start_time": "2022-07-03T07:38:40.517Z"
   },
   {
    "duration": 110,
    "start_time": "2022-07-03T07:38:40.621Z"
   },
   {
    "duration": 346,
    "start_time": "2022-07-03T07:38:40.733Z"
   },
   {
    "duration": 196,
    "start_time": "2022-07-03T07:38:41.081Z"
   },
   {
    "duration": 196,
    "start_time": "2022-07-03T07:38:41.279Z"
   },
   {
    "duration": 180,
    "start_time": "2022-07-03T07:38:41.476Z"
   },
   {
    "duration": 363,
    "start_time": "2022-07-03T07:38:41.658Z"
   },
   {
    "duration": 255,
    "start_time": "2022-07-03T07:38:42.023Z"
   },
   {
    "duration": 171,
    "start_time": "2022-07-03T07:38:42.280Z"
   },
   {
    "duration": 92,
    "start_time": "2022-07-03T07:38:42.453Z"
   },
   {
    "duration": 0,
    "start_time": "2022-07-03T07:38:42.547Z"
   },
   {
    "duration": 0,
    "start_time": "2022-07-03T07:38:42.548Z"
   },
   {
    "duration": 0,
    "start_time": "2022-07-03T07:38:42.549Z"
   },
   {
    "duration": 0,
    "start_time": "2022-07-03T07:38:42.550Z"
   },
   {
    "duration": 0,
    "start_time": "2022-07-03T07:38:42.551Z"
   },
   {
    "duration": 0,
    "start_time": "2022-07-03T07:38:42.552Z"
   },
   {
    "duration": 0,
    "start_time": "2022-07-03T07:38:42.553Z"
   },
   {
    "duration": 0,
    "start_time": "2022-07-03T07:38:42.554Z"
   },
   {
    "duration": 0,
    "start_time": "2022-07-03T07:38:42.555Z"
   },
   {
    "duration": 0,
    "start_time": "2022-07-03T07:38:42.556Z"
   },
   {
    "duration": 0,
    "start_time": "2022-07-03T07:38:42.557Z"
   },
   {
    "duration": 0,
    "start_time": "2022-07-03T07:38:42.558Z"
   },
   {
    "duration": 0,
    "start_time": "2022-07-03T07:38:42.559Z"
   },
   {
    "duration": 0,
    "start_time": "2022-07-03T07:38:42.560Z"
   },
   {
    "duration": 1037,
    "start_time": "2022-07-03T07:39:15.496Z"
   },
   {
    "duration": 271,
    "start_time": "2022-07-03T07:39:40.520Z"
   },
   {
    "duration": 239,
    "start_time": "2022-07-03T07:39:50.131Z"
   },
   {
    "duration": 199,
    "start_time": "2022-07-03T07:39:55.724Z"
   },
   {
    "duration": 294,
    "start_time": "2022-07-03T07:40:06.528Z"
   },
   {
    "duration": 311,
    "start_time": "2022-07-03T07:40:43.080Z"
   },
   {
    "duration": 177,
    "start_time": "2022-07-03T07:47:16.101Z"
   },
   {
    "duration": 301,
    "start_time": "2022-07-03T07:47:57.522Z"
   },
   {
    "duration": 184,
    "start_time": "2022-07-03T07:48:17.326Z"
   },
   {
    "duration": 175,
    "start_time": "2022-07-03T07:48:52.987Z"
   },
   {
    "duration": 171,
    "start_time": "2022-07-03T07:49:22.200Z"
   },
   {
    "duration": 193,
    "start_time": "2022-07-03T07:49:51.380Z"
   },
   {
    "duration": 1369,
    "start_time": "2022-07-03T07:50:18.399Z"
   },
   {
    "duration": 170,
    "start_time": "2022-07-03T07:50:24.631Z"
   },
   {
    "duration": 197,
    "start_time": "2022-07-03T07:50:46.030Z"
   },
   {
    "duration": 180,
    "start_time": "2022-07-03T07:50:51.914Z"
   },
   {
    "duration": 166,
    "start_time": "2022-07-03T07:51:26.349Z"
   },
   {
    "duration": 181,
    "start_time": "2022-07-03T07:51:58.228Z"
   },
   {
    "duration": 159,
    "start_time": "2022-07-03T07:52:17.680Z"
   },
   {
    "duration": 9,
    "start_time": "2022-07-03T07:54:27.880Z"
   },
   {
    "duration": 265,
    "start_time": "2022-07-03T07:54:45.880Z"
   },
   {
    "duration": 182,
    "start_time": "2022-07-03T07:54:59.420Z"
   },
   {
    "duration": 185,
    "start_time": "2022-07-03T07:55:08.396Z"
   },
   {
    "duration": 177,
    "start_time": "2022-07-03T07:55:26.250Z"
   },
   {
    "duration": 172,
    "start_time": "2022-07-03T07:58:49.341Z"
   },
   {
    "duration": 177,
    "start_time": "2022-07-03T07:59:11.935Z"
   },
   {
    "duration": 179,
    "start_time": "2022-07-03T07:59:23.724Z"
   },
   {
    "duration": 2216,
    "start_time": "2022-07-03T08:04:31.740Z"
   },
   {
    "duration": 164,
    "start_time": "2022-07-03T08:04:44.307Z"
   },
   {
    "duration": 356,
    "start_time": "2022-07-03T08:05:16.711Z"
   },
   {
    "duration": 178,
    "start_time": "2022-07-03T08:05:44.972Z"
   },
   {
    "duration": 168,
    "start_time": "2022-07-03T08:05:55.496Z"
   },
   {
    "duration": 285,
    "start_time": "2022-07-03T08:06:04.529Z"
   },
   {
    "duration": 168,
    "start_time": "2022-07-03T08:06:09.039Z"
   },
   {
    "duration": 180,
    "start_time": "2022-07-03T08:06:13.022Z"
   },
   {
    "duration": 176,
    "start_time": "2022-07-03T08:06:18.379Z"
   },
   {
    "duration": 204,
    "start_time": "2022-07-03T08:06:37.314Z"
   },
   {
    "duration": 174,
    "start_time": "2022-07-03T08:06:43.895Z"
   },
   {
    "duration": 176,
    "start_time": "2022-07-03T08:06:50.326Z"
   },
   {
    "duration": 176,
    "start_time": "2022-07-03T08:06:57.502Z"
   },
   {
    "duration": 160,
    "start_time": "2022-07-03T08:08:24.945Z"
   },
   {
    "duration": 161,
    "start_time": "2022-07-03T08:08:39.837Z"
   },
   {
    "duration": 217,
    "start_time": "2022-07-03T08:09:15.113Z"
   },
   {
    "duration": 163,
    "start_time": "2022-07-03T08:09:21.432Z"
   },
   {
    "duration": 202,
    "start_time": "2022-07-03T08:12:42.650Z"
   },
   {
    "duration": 173,
    "start_time": "2022-07-03T08:16:15.726Z"
   },
   {
    "duration": 169,
    "start_time": "2022-07-03T08:16:26.287Z"
   },
   {
    "duration": 160,
    "start_time": "2022-07-03T08:17:11.547Z"
   },
   {
    "duration": 182,
    "start_time": "2022-07-03T08:17:20.371Z"
   },
   {
    "duration": 181,
    "start_time": "2022-07-03T08:17:40.987Z"
   },
   {
    "duration": 183,
    "start_time": "2022-07-03T08:18:49.546Z"
   },
   {
    "duration": 191,
    "start_time": "2022-07-03T08:19:18.409Z"
   },
   {
    "duration": 193,
    "start_time": "2022-07-03T08:19:31.040Z"
   },
   {
    "duration": 250,
    "start_time": "2022-07-03T08:20:43.248Z"
   },
   {
    "duration": 218,
    "start_time": "2022-07-03T08:21:05.639Z"
   },
   {
    "duration": 1796,
    "start_time": "2022-07-03T08:21:26.003Z"
   },
   {
    "duration": 180,
    "start_time": "2022-07-03T08:21:52.522Z"
   },
   {
    "duration": 1615,
    "start_time": "2022-07-03T08:23:02.650Z"
   },
   {
    "duration": 169,
    "start_time": "2022-07-03T08:23:16.075Z"
   },
   {
    "duration": 171,
    "start_time": "2022-07-03T08:23:41.999Z"
   },
   {
    "duration": 180,
    "start_time": "2022-07-03T08:25:24.307Z"
   },
   {
    "duration": 208,
    "start_time": "2022-07-03T08:25:45.430Z"
   },
   {
    "duration": 183,
    "start_time": "2022-07-03T08:25:54.787Z"
   },
   {
    "duration": 25,
    "start_time": "2022-07-03T08:26:38.383Z"
   },
   {
    "duration": 157,
    "start_time": "2022-07-03T08:26:48.118Z"
   },
   {
    "duration": 859,
    "start_time": "2022-07-03T08:30:53.921Z"
   },
   {
    "duration": 16,
    "start_time": "2022-07-03T08:30:54.782Z"
   },
   {
    "duration": 10,
    "start_time": "2022-07-03T08:30:54.800Z"
   },
   {
    "duration": 30,
    "start_time": "2022-07-03T08:30:54.812Z"
   },
   {
    "duration": 26,
    "start_time": "2022-07-03T08:30:54.845Z"
   },
   {
    "duration": 4,
    "start_time": "2022-07-03T08:30:54.872Z"
   },
   {
    "duration": 80,
    "start_time": "2022-07-03T08:30:54.877Z"
   },
   {
    "duration": 309,
    "start_time": "2022-07-03T08:30:54.959Z"
   },
   {
    "duration": 29,
    "start_time": "2022-07-03T08:30:55.270Z"
   },
   {
    "duration": 5,
    "start_time": "2022-07-03T08:30:55.301Z"
   },
   {
    "duration": 11,
    "start_time": "2022-07-03T08:30:55.307Z"
   },
   {
    "duration": 27,
    "start_time": "2022-07-03T08:30:55.341Z"
   },
   {
    "duration": 408,
    "start_time": "2022-07-03T08:30:55.370Z"
   },
   {
    "duration": 15,
    "start_time": "2022-07-03T08:30:55.781Z"
   },
   {
    "duration": 107,
    "start_time": "2022-07-03T08:30:55.798Z"
   },
   {
    "duration": 127,
    "start_time": "2022-07-03T08:30:55.907Z"
   },
   {
    "duration": 125,
    "start_time": "2022-07-03T08:30:56.041Z"
   },
   {
    "duration": 113,
    "start_time": "2022-07-03T08:30:56.168Z"
   },
   {
    "duration": 118,
    "start_time": "2022-07-03T08:30:56.282Z"
   },
   {
    "duration": 393,
    "start_time": "2022-07-03T08:30:56.401Z"
   },
   {
    "duration": 267,
    "start_time": "2022-07-03T08:30:56.796Z"
   },
   {
    "duration": 204,
    "start_time": "2022-07-03T08:30:57.065Z"
   },
   {
    "duration": 211,
    "start_time": "2022-07-03T08:30:57.271Z"
   },
   {
    "duration": 394,
    "start_time": "2022-07-03T08:30:57.483Z"
   },
   {
    "duration": 312,
    "start_time": "2022-07-03T08:30:57.880Z"
   },
   {
    "duration": 798,
    "start_time": "2022-07-03T08:31:56.792Z"
   },
   {
    "duration": 15,
    "start_time": "2022-07-03T08:31:57.592Z"
   },
   {
    "duration": 8,
    "start_time": "2022-07-03T08:31:57.609Z"
   },
   {
    "duration": 23,
    "start_time": "2022-07-03T08:31:57.619Z"
   },
   {
    "duration": 25,
    "start_time": "2022-07-03T08:31:57.644Z"
   },
   {
    "duration": 3,
    "start_time": "2022-07-03T08:31:57.670Z"
   },
   {
    "duration": 53,
    "start_time": "2022-07-03T08:31:57.675Z"
   },
   {
    "duration": 361,
    "start_time": "2022-07-03T08:31:57.730Z"
   },
   {
    "duration": 61,
    "start_time": "2022-07-03T08:31:58.093Z"
   },
   {
    "duration": 5,
    "start_time": "2022-07-03T08:31:58.156Z"
   },
   {
    "duration": 11,
    "start_time": "2022-07-03T08:31:58.163Z"
   },
   {
    "duration": 71,
    "start_time": "2022-07-03T08:31:58.176Z"
   },
   {
    "duration": 452,
    "start_time": "2022-07-03T08:31:58.248Z"
   },
   {
    "duration": 16,
    "start_time": "2022-07-03T08:31:58.705Z"
   },
   {
    "duration": 100,
    "start_time": "2022-07-03T08:31:58.723Z"
   },
   {
    "duration": 123,
    "start_time": "2022-07-03T08:31:58.842Z"
   },
   {
    "duration": 140,
    "start_time": "2022-07-03T08:31:58.967Z"
   },
   {
    "duration": 113,
    "start_time": "2022-07-03T08:31:59.109Z"
   },
   {
    "duration": 121,
    "start_time": "2022-07-03T08:31:59.223Z"
   },
   {
    "duration": 366,
    "start_time": "2022-07-03T08:31:59.346Z"
   },
   {
    "duration": 209,
    "start_time": "2022-07-03T08:31:59.714Z"
   },
   {
    "duration": 210,
    "start_time": "2022-07-03T08:31:59.925Z"
   },
   {
    "duration": 207,
    "start_time": "2022-07-03T08:32:00.142Z"
   },
   {
    "duration": 403,
    "start_time": "2022-07-03T08:32:00.351Z"
   },
   {
    "duration": 305,
    "start_time": "2022-07-03T08:32:00.756Z"
   },
   {
    "duration": 193,
    "start_time": "2022-07-03T08:32:01.064Z"
   },
   {
    "duration": 210,
    "start_time": "2022-07-03T08:32:01.259Z"
   },
   {
    "duration": 179,
    "start_time": "2022-07-03T08:32:01.471Z"
   },
   {
    "duration": 75,
    "start_time": "2022-07-03T08:32:01.652Z"
   },
   {
    "duration": 0,
    "start_time": "2022-07-03T08:32:01.742Z"
   },
   {
    "duration": 0,
    "start_time": "2022-07-03T08:32:01.743Z"
   },
   {
    "duration": 0,
    "start_time": "2022-07-03T08:32:01.744Z"
   },
   {
    "duration": 0,
    "start_time": "2022-07-03T08:32:01.745Z"
   },
   {
    "duration": 0,
    "start_time": "2022-07-03T08:32:01.746Z"
   },
   {
    "duration": 0,
    "start_time": "2022-07-03T08:32:01.747Z"
   },
   {
    "duration": 0,
    "start_time": "2022-07-03T08:32:01.748Z"
   },
   {
    "duration": 0,
    "start_time": "2022-07-03T08:32:01.749Z"
   },
   {
    "duration": 0,
    "start_time": "2022-07-03T08:32:01.750Z"
   },
   {
    "duration": 0,
    "start_time": "2022-07-03T08:32:01.751Z"
   },
   {
    "duration": 0,
    "start_time": "2022-07-03T08:32:01.752Z"
   },
   {
    "duration": 0,
    "start_time": "2022-07-03T08:32:01.753Z"
   },
   {
    "duration": 168,
    "start_time": "2022-07-03T08:32:20.691Z"
   },
   {
    "duration": 2134,
    "start_time": "2022-07-03T08:32:43.283Z"
   },
   {
    "duration": 74,
    "start_time": "2022-07-03T08:34:58.181Z"
   },
   {
    "duration": 55,
    "start_time": "2022-07-03T08:35:56.032Z"
   },
   {
    "duration": 54,
    "start_time": "2022-07-03T08:37:35.721Z"
   },
   {
    "duration": 29,
    "start_time": "2022-07-03T08:39:20.602Z"
   },
   {
    "duration": 96,
    "start_time": "2022-07-03T08:39:39.599Z"
   },
   {
    "duration": 370,
    "start_time": "2022-07-03T08:39:51.298Z"
   },
   {
    "duration": 43,
    "start_time": "2022-07-03T08:40:23.090Z"
   },
   {
    "duration": 13,
    "start_time": "2022-07-03T08:40:36.795Z"
   },
   {
    "duration": 3686,
    "start_time": "2022-07-03T08:40:44.894Z"
   },
   {
    "duration": 16,
    "start_time": "2022-07-03T08:41:03.986Z"
   },
   {
    "duration": 1387,
    "start_time": "2022-07-03T08:41:17.722Z"
   },
   {
    "duration": 1566,
    "start_time": "2022-07-03T08:41:40.329Z"
   },
   {
    "duration": 175,
    "start_time": "2022-07-03T08:41:51.439Z"
   },
   {
    "duration": 168,
    "start_time": "2022-07-03T08:42:36.482Z"
   },
   {
    "duration": 186,
    "start_time": "2022-07-03T08:43:10.502Z"
   },
   {
    "duration": 610,
    "start_time": "2022-07-03T08:43:53.690Z"
   },
   {
    "duration": 840,
    "start_time": "2022-07-03T08:44:25.338Z"
   },
   {
    "duration": 18,
    "start_time": "2022-07-03T08:44:26.180Z"
   },
   {
    "duration": 11,
    "start_time": "2022-07-03T08:44:26.199Z"
   },
   {
    "duration": 39,
    "start_time": "2022-07-03T08:44:26.212Z"
   },
   {
    "duration": 34,
    "start_time": "2022-07-03T08:44:26.255Z"
   },
   {
    "duration": 4,
    "start_time": "2022-07-03T08:44:26.291Z"
   },
   {
    "duration": 73,
    "start_time": "2022-07-03T08:44:26.297Z"
   },
   {
    "duration": 318,
    "start_time": "2022-07-03T08:44:26.372Z"
   },
   {
    "duration": 37,
    "start_time": "2022-07-03T08:44:26.693Z"
   },
   {
    "duration": 6,
    "start_time": "2022-07-03T08:44:26.742Z"
   },
   {
    "duration": 19,
    "start_time": "2022-07-03T08:44:26.750Z"
   },
   {
    "duration": 37,
    "start_time": "2022-07-03T08:44:26.771Z"
   },
   {
    "duration": 445,
    "start_time": "2022-07-03T08:44:26.810Z"
   },
   {
    "duration": 14,
    "start_time": "2022-07-03T08:44:27.259Z"
   },
   {
    "duration": 119,
    "start_time": "2022-07-03T08:44:27.275Z"
   },
   {
    "duration": 130,
    "start_time": "2022-07-03T08:44:27.396Z"
   },
   {
    "duration": 131,
    "start_time": "2022-07-03T08:44:27.528Z"
   },
   {
    "duration": 115,
    "start_time": "2022-07-03T08:44:27.661Z"
   },
   {
    "duration": 119,
    "start_time": "2022-07-03T08:44:27.778Z"
   },
   {
    "duration": 384,
    "start_time": "2022-07-03T08:44:27.899Z"
   },
   {
    "duration": 213,
    "start_time": "2022-07-03T08:44:28.285Z"
   },
   {
    "duration": 196,
    "start_time": "2022-07-03T08:44:28.499Z"
   },
   {
    "duration": 193,
    "start_time": "2022-07-03T08:44:28.697Z"
   },
   {
    "duration": 396,
    "start_time": "2022-07-03T08:44:28.892Z"
   },
   {
    "duration": 315,
    "start_time": "2022-07-03T08:44:29.290Z"
   },
   {
    "duration": 181,
    "start_time": "2022-07-03T08:44:29.607Z"
   },
   {
    "duration": 206,
    "start_time": "2022-07-03T08:44:29.790Z"
   },
   {
    "duration": 186,
    "start_time": "2022-07-03T08:44:29.998Z"
   },
   {
    "duration": 84,
    "start_time": "2022-07-03T08:44:30.187Z"
   },
   {
    "duration": 0,
    "start_time": "2022-07-03T08:44:30.272Z"
   },
   {
    "duration": 0,
    "start_time": "2022-07-03T08:44:30.274Z"
   },
   {
    "duration": 0,
    "start_time": "2022-07-03T08:44:30.276Z"
   },
   {
    "duration": 0,
    "start_time": "2022-07-03T08:44:30.276Z"
   },
   {
    "duration": 0,
    "start_time": "2022-07-03T08:44:30.278Z"
   },
   {
    "duration": 0,
    "start_time": "2022-07-03T08:44:30.279Z"
   },
   {
    "duration": 0,
    "start_time": "2022-07-03T08:44:30.280Z"
   },
   {
    "duration": 0,
    "start_time": "2022-07-03T08:44:30.282Z"
   },
   {
    "duration": 0,
    "start_time": "2022-07-03T08:44:30.283Z"
   },
   {
    "duration": 0,
    "start_time": "2022-07-03T08:44:30.284Z"
   },
   {
    "duration": 0,
    "start_time": "2022-07-03T08:44:30.286Z"
   },
   {
    "duration": 0,
    "start_time": "2022-07-03T08:44:30.288Z"
   },
   {
    "duration": 186,
    "start_time": "2022-07-03T08:46:19.086Z"
   },
   {
    "duration": 169,
    "start_time": "2022-07-03T08:46:40.433Z"
   },
   {
    "duration": 202,
    "start_time": "2022-07-03T08:48:13.473Z"
   },
   {
    "duration": 222,
    "start_time": "2022-07-03T08:48:23.511Z"
   },
   {
    "duration": 262,
    "start_time": "2022-07-03T08:48:36.893Z"
   },
   {
    "duration": 167,
    "start_time": "2022-07-03T08:50:01.826Z"
   },
   {
    "duration": 167,
    "start_time": "2022-07-03T08:51:09.212Z"
   },
   {
    "duration": 803,
    "start_time": "2022-07-03T08:55:13.862Z"
   },
   {
    "duration": 17,
    "start_time": "2022-07-03T08:55:14.667Z"
   },
   {
    "duration": 12,
    "start_time": "2022-07-03T08:55:14.686Z"
   },
   {
    "duration": 18,
    "start_time": "2022-07-03T08:55:14.700Z"
   },
   {
    "duration": 26,
    "start_time": "2022-07-03T08:55:14.742Z"
   },
   {
    "duration": 4,
    "start_time": "2022-07-03T08:55:14.769Z"
   },
   {
    "duration": 69,
    "start_time": "2022-07-03T08:55:14.774Z"
   },
   {
    "duration": 308,
    "start_time": "2022-07-03T08:55:14.844Z"
   },
   {
    "duration": 43,
    "start_time": "2022-07-03T08:55:15.154Z"
   },
   {
    "duration": 5,
    "start_time": "2022-07-03T08:55:15.201Z"
   },
   {
    "duration": 9,
    "start_time": "2022-07-03T08:55:15.208Z"
   },
   {
    "duration": 25,
    "start_time": "2022-07-03T08:55:15.242Z"
   },
   {
    "duration": 434,
    "start_time": "2022-07-03T08:55:15.269Z"
   },
   {
    "duration": 16,
    "start_time": "2022-07-03T08:55:15.705Z"
   },
   {
    "duration": 104,
    "start_time": "2022-07-03T08:55:15.723Z"
   },
   {
    "duration": 134,
    "start_time": "2022-07-03T08:55:15.843Z"
   },
   {
    "duration": 129,
    "start_time": "2022-07-03T08:55:15.979Z"
   },
   {
    "duration": 112,
    "start_time": "2022-07-03T08:55:16.110Z"
   },
   {
    "duration": 124,
    "start_time": "2022-07-03T08:55:16.223Z"
   },
   {
    "duration": 410,
    "start_time": "2022-07-03T08:55:16.349Z"
   },
   {
    "duration": 285,
    "start_time": "2022-07-03T08:55:16.762Z"
   },
   {
    "duration": 199,
    "start_time": "2022-07-03T08:55:17.049Z"
   },
   {
    "duration": 221,
    "start_time": "2022-07-03T08:55:17.250Z"
   },
   {
    "duration": 403,
    "start_time": "2022-07-03T08:55:17.473Z"
   },
   {
    "duration": 313,
    "start_time": "2022-07-03T08:55:17.878Z"
   },
   {
    "duration": 179,
    "start_time": "2022-07-03T08:55:18.193Z"
   },
   {
    "duration": 189,
    "start_time": "2022-07-03T08:55:18.373Z"
   },
   {
    "duration": 190,
    "start_time": "2022-07-03T08:55:18.565Z"
   },
   {
    "duration": 86,
    "start_time": "2022-07-03T08:55:18.757Z"
   },
   {
    "duration": 0,
    "start_time": "2022-07-03T08:55:18.844Z"
   },
   {
    "duration": 0,
    "start_time": "2022-07-03T08:55:18.846Z"
   },
   {
    "duration": 0,
    "start_time": "2022-07-03T08:55:18.847Z"
   },
   {
    "duration": 0,
    "start_time": "2022-07-03T08:55:18.849Z"
   },
   {
    "duration": 0,
    "start_time": "2022-07-03T08:55:18.850Z"
   },
   {
    "duration": 0,
    "start_time": "2022-07-03T08:55:18.851Z"
   },
   {
    "duration": 0,
    "start_time": "2022-07-03T08:55:18.852Z"
   },
   {
    "duration": 0,
    "start_time": "2022-07-03T08:55:18.853Z"
   },
   {
    "duration": 0,
    "start_time": "2022-07-03T08:55:18.855Z"
   },
   {
    "duration": 0,
    "start_time": "2022-07-03T08:55:18.855Z"
   },
   {
    "duration": 0,
    "start_time": "2022-07-03T08:55:18.857Z"
   },
   {
    "duration": 0,
    "start_time": "2022-07-03T08:55:18.858Z"
   },
   {
    "duration": 391,
    "start_time": "2022-07-03T08:57:26.812Z"
   },
   {
    "duration": 177,
    "start_time": "2022-07-03T08:59:01.406Z"
   },
   {
    "duration": 168,
    "start_time": "2022-07-03T09:00:10.166Z"
   },
   {
    "duration": 173,
    "start_time": "2022-07-03T09:00:35.831Z"
   },
   {
    "duration": 182,
    "start_time": "2022-07-03T09:02:44.823Z"
   },
   {
    "duration": 117,
    "start_time": "2022-07-03T09:02:59.521Z"
   },
   {
    "duration": 169,
    "start_time": "2022-07-03T09:03:48.732Z"
   },
   {
    "duration": 182,
    "start_time": "2022-07-03T09:04:21.405Z"
   },
   {
    "duration": 189,
    "start_time": "2022-07-03T09:05:01.434Z"
   },
   {
    "duration": 146,
    "start_time": "2022-07-03T09:06:07.710Z"
   },
   {
    "duration": 198,
    "start_time": "2022-07-03T09:07:40.666Z"
   },
   {
    "duration": 224,
    "start_time": "2022-07-03T09:08:18.862Z"
   },
   {
    "duration": 403,
    "start_time": "2022-07-03T09:09:47.861Z"
   },
   {
    "duration": 237,
    "start_time": "2022-07-03T09:10:02.023Z"
   },
   {
    "duration": 214,
    "start_time": "2022-07-03T09:10:09.377Z"
   },
   {
    "duration": 485,
    "start_time": "2022-07-03T09:11:19.583Z"
   },
   {
    "duration": 260,
    "start_time": "2022-07-03T09:11:52.859Z"
   },
   {
    "duration": 226,
    "start_time": "2022-07-03T09:12:02.056Z"
   },
   {
    "duration": 218,
    "start_time": "2022-07-03T09:12:11.076Z"
   },
   {
    "duration": 368,
    "start_time": "2022-07-03T09:19:50.511Z"
   },
   {
    "duration": 209,
    "start_time": "2022-07-03T09:21:25.567Z"
   },
   {
    "duration": 803,
    "start_time": "2022-07-03T09:21:43.681Z"
   },
   {
    "duration": 17,
    "start_time": "2022-07-03T09:21:44.488Z"
   },
   {
    "duration": 11,
    "start_time": "2022-07-03T09:21:44.507Z"
   },
   {
    "duration": 36,
    "start_time": "2022-07-03T09:21:44.520Z"
   },
   {
    "duration": 26,
    "start_time": "2022-07-03T09:21:44.559Z"
   },
   {
    "duration": 5,
    "start_time": "2022-07-03T09:21:44.587Z"
   },
   {
    "duration": 85,
    "start_time": "2022-07-03T09:21:44.594Z"
   },
   {
    "duration": 302,
    "start_time": "2022-07-03T09:21:44.681Z"
   },
   {
    "duration": 31,
    "start_time": "2022-07-03T09:21:44.985Z"
   },
   {
    "duration": 5,
    "start_time": "2022-07-03T09:21:45.018Z"
   },
   {
    "duration": 32,
    "start_time": "2022-07-03T09:21:45.025Z"
   },
   {
    "duration": 41,
    "start_time": "2022-07-03T09:21:45.060Z"
   },
   {
    "duration": 402,
    "start_time": "2022-07-03T09:21:45.103Z"
   },
   {
    "duration": 16,
    "start_time": "2022-07-03T09:21:45.508Z"
   },
   {
    "duration": 117,
    "start_time": "2022-07-03T09:21:45.526Z"
   },
   {
    "duration": 141,
    "start_time": "2022-07-03T09:21:45.645Z"
   },
   {
    "duration": 124,
    "start_time": "2022-07-03T09:21:45.788Z"
   },
   {
    "duration": 112,
    "start_time": "2022-07-03T09:21:45.914Z"
   },
   {
    "duration": 127,
    "start_time": "2022-07-03T09:21:46.028Z"
   },
   {
    "duration": 389,
    "start_time": "2022-07-03T09:21:46.157Z"
   },
   {
    "duration": 259,
    "start_time": "2022-07-03T09:21:46.548Z"
   },
   {
    "duration": 266,
    "start_time": "2022-07-03T09:21:46.809Z"
   },
   {
    "duration": 205,
    "start_time": "2022-07-03T09:21:47.077Z"
   },
   {
    "duration": 411,
    "start_time": "2022-07-03T09:21:47.284Z"
   },
   {
    "duration": 297,
    "start_time": "2022-07-03T09:21:47.697Z"
   },
   {
    "duration": 184,
    "start_time": "2022-07-03T09:21:47.996Z"
   },
   {
    "duration": 190,
    "start_time": "2022-07-03T09:21:48.182Z"
   },
   {
    "duration": 253,
    "start_time": "2022-07-03T09:21:48.374Z"
   },
   {
    "duration": 82,
    "start_time": "2022-07-03T09:21:48.629Z"
   },
   {
    "duration": 0,
    "start_time": "2022-07-03T09:21:48.713Z"
   },
   {
    "duration": 0,
    "start_time": "2022-07-03T09:21:48.715Z"
   },
   {
    "duration": 0,
    "start_time": "2022-07-03T09:21:48.716Z"
   },
   {
    "duration": 0,
    "start_time": "2022-07-03T09:21:48.718Z"
   },
   {
    "duration": 0,
    "start_time": "2022-07-03T09:21:48.720Z"
   },
   {
    "duration": 0,
    "start_time": "2022-07-03T09:21:48.722Z"
   },
   {
    "duration": 0,
    "start_time": "2022-07-03T09:21:48.723Z"
   },
   {
    "duration": 0,
    "start_time": "2022-07-03T09:21:48.724Z"
   },
   {
    "duration": 0,
    "start_time": "2022-07-03T09:21:48.725Z"
   },
   {
    "duration": 0,
    "start_time": "2022-07-03T09:21:48.742Z"
   },
   {
    "duration": 0,
    "start_time": "2022-07-03T09:21:48.743Z"
   },
   {
    "duration": 0,
    "start_time": "2022-07-03T09:21:48.744Z"
   },
   {
    "duration": 191,
    "start_time": "2022-07-03T09:23:35.283Z"
   },
   {
    "duration": 190,
    "start_time": "2022-07-03T09:23:55.066Z"
   },
   {
    "duration": 1841,
    "start_time": "2022-07-03T09:24:06.883Z"
   },
   {
    "duration": 186,
    "start_time": "2022-07-03T09:24:25.600Z"
   },
   {
    "duration": 187,
    "start_time": "2022-07-03T09:25:25.663Z"
   },
   {
    "duration": 257,
    "start_time": "2022-07-03T09:25:35.976Z"
   },
   {
    "duration": 173,
    "start_time": "2022-07-03T09:26:12.886Z"
   },
   {
    "duration": 1547,
    "start_time": "2022-07-03T09:27:27.690Z"
   },
   {
    "duration": 232,
    "start_time": "2022-07-03T09:27:36.767Z"
   },
   {
    "duration": 179,
    "start_time": "2022-07-03T09:28:10.800Z"
   },
   {
    "duration": 189,
    "start_time": "2022-07-03T09:28:30.066Z"
   },
   {
    "duration": 182,
    "start_time": "2022-07-03T09:28:47.861Z"
   },
   {
    "duration": 1257,
    "start_time": "2022-07-03T09:29:35.631Z"
   },
   {
    "duration": 210,
    "start_time": "2022-07-03T09:29:52.103Z"
   },
   {
    "duration": 227,
    "start_time": "2022-07-03T09:30:31.296Z"
   },
   {
    "duration": 1331,
    "start_time": "2022-07-03T09:33:24.099Z"
   },
   {
    "duration": 242,
    "start_time": "2022-07-03T09:35:45.322Z"
   },
   {
    "duration": 30,
    "start_time": "2022-07-03T09:37:32.672Z"
   },
   {
    "duration": 17,
    "start_time": "2022-07-03T09:37:39.427Z"
   },
   {
    "duration": 19,
    "start_time": "2022-07-03T09:38:44.248Z"
   },
   {
    "duration": 152,
    "start_time": "2022-07-03T09:38:56.072Z"
   },
   {
    "duration": 6,
    "start_time": "2022-07-03T09:39:04.603Z"
   },
   {
    "duration": 248,
    "start_time": "2022-07-03T09:39:10.904Z"
   },
   {
    "duration": 255,
    "start_time": "2022-07-03T09:39:59.927Z"
   },
   {
    "duration": 265,
    "start_time": "2022-07-03T09:40:55.780Z"
   },
   {
    "duration": 173,
    "start_time": "2022-07-03T09:41:12.364Z"
   },
   {
    "duration": 194,
    "start_time": "2022-07-03T09:42:00.526Z"
   },
   {
    "duration": 1328,
    "start_time": "2022-07-03T09:42:10.094Z"
   },
   {
    "duration": 1678,
    "start_time": "2022-07-03T09:42:22.126Z"
   },
   {
    "duration": 14,
    "start_time": "2022-07-03T09:43:24.626Z"
   },
   {
    "duration": 11,
    "start_time": "2022-07-03T09:43:54.223Z"
   },
   {
    "duration": 13,
    "start_time": "2022-07-03T09:44:10.690Z"
   },
   {
    "duration": 17,
    "start_time": "2022-07-03T09:49:44.305Z"
   },
   {
    "duration": 40,
    "start_time": "2022-07-03T09:51:02.493Z"
   },
   {
    "duration": 843,
    "start_time": "2022-07-03T09:51:08.024Z"
   },
   {
    "duration": 18,
    "start_time": "2022-07-03T09:51:08.870Z"
   },
   {
    "duration": 11,
    "start_time": "2022-07-03T09:51:08.889Z"
   },
   {
    "duration": 39,
    "start_time": "2022-07-03T09:51:08.902Z"
   },
   {
    "duration": 26,
    "start_time": "2022-07-03T09:51:08.944Z"
   },
   {
    "duration": 4,
    "start_time": "2022-07-03T09:51:08.972Z"
   },
   {
    "duration": 76,
    "start_time": "2022-07-03T09:51:08.977Z"
   },
   {
    "duration": 308,
    "start_time": "2022-07-03T09:51:09.055Z"
   },
   {
    "duration": 32,
    "start_time": "2022-07-03T09:51:09.365Z"
   },
   {
    "duration": 4,
    "start_time": "2022-07-03T09:51:09.399Z"
   },
   {
    "duration": 8,
    "start_time": "2022-07-03T09:51:09.405Z"
   },
   {
    "duration": 46,
    "start_time": "2022-07-03T09:51:09.415Z"
   },
   {
    "duration": 419,
    "start_time": "2022-07-03T09:51:09.463Z"
   },
   {
    "duration": 20,
    "start_time": "2022-07-03T09:51:09.886Z"
   },
   {
    "duration": 119,
    "start_time": "2022-07-03T09:51:09.908Z"
   },
   {
    "duration": 144,
    "start_time": "2022-07-03T09:51:10.029Z"
   },
   {
    "duration": 124,
    "start_time": "2022-07-03T09:51:10.175Z"
   },
   {
    "duration": 114,
    "start_time": "2022-07-03T09:51:10.301Z"
   },
   {
    "duration": 114,
    "start_time": "2022-07-03T09:51:10.416Z"
   },
   {
    "duration": 391,
    "start_time": "2022-07-03T09:51:10.531Z"
   },
   {
    "duration": 219,
    "start_time": "2022-07-03T09:51:10.924Z"
   },
   {
    "duration": 195,
    "start_time": "2022-07-03T09:51:11.144Z"
   },
   {
    "duration": 205,
    "start_time": "2022-07-03T09:51:11.341Z"
   },
   {
    "duration": 407,
    "start_time": "2022-07-03T09:51:11.548Z"
   },
   {
    "duration": 311,
    "start_time": "2022-07-03T09:51:11.957Z"
   },
   {
    "duration": 176,
    "start_time": "2022-07-03T09:51:12.271Z"
   },
   {
    "duration": 205,
    "start_time": "2022-07-03T09:51:12.449Z"
   },
   {
    "duration": 16,
    "start_time": "2022-07-03T09:51:12.656Z"
   },
   {
    "duration": 89,
    "start_time": "2022-07-03T09:51:12.673Z"
   },
   {
    "duration": 0,
    "start_time": "2022-07-03T09:51:12.764Z"
   },
   {
    "duration": 0,
    "start_time": "2022-07-03T09:51:12.766Z"
   },
   {
    "duration": 0,
    "start_time": "2022-07-03T09:51:12.767Z"
   },
   {
    "duration": 0,
    "start_time": "2022-07-03T09:51:12.768Z"
   },
   {
    "duration": 0,
    "start_time": "2022-07-03T09:51:12.769Z"
   },
   {
    "duration": 0,
    "start_time": "2022-07-03T09:51:12.771Z"
   },
   {
    "duration": 0,
    "start_time": "2022-07-03T09:51:12.772Z"
   },
   {
    "duration": 0,
    "start_time": "2022-07-03T09:51:12.773Z"
   },
   {
    "duration": 0,
    "start_time": "2022-07-03T09:51:12.774Z"
   },
   {
    "duration": 0,
    "start_time": "2022-07-03T09:51:12.775Z"
   },
   {
    "duration": 0,
    "start_time": "2022-07-03T09:51:12.776Z"
   },
   {
    "duration": 0,
    "start_time": "2022-07-03T09:51:12.777Z"
   },
   {
    "duration": 1456,
    "start_time": "2022-07-03T09:51:36.767Z"
   },
   {
    "duration": 166,
    "start_time": "2022-07-03T09:51:50.460Z"
   },
   {
    "duration": 175,
    "start_time": "2022-07-03T09:52:49.420Z"
   },
   {
    "duration": 192,
    "start_time": "2022-07-03T09:53:00.068Z"
   },
   {
    "duration": 185,
    "start_time": "2022-07-03T09:53:26.897Z"
   },
   {
    "duration": 29,
    "start_time": "2022-07-03T09:54:47.090Z"
   },
   {
    "duration": 812,
    "start_time": "2022-07-03T09:55:14.355Z"
   },
   {
    "duration": 15,
    "start_time": "2022-07-03T09:55:15.169Z"
   },
   {
    "duration": 11,
    "start_time": "2022-07-03T09:55:15.186Z"
   },
   {
    "duration": 18,
    "start_time": "2022-07-03T09:55:15.198Z"
   },
   {
    "duration": 25,
    "start_time": "2022-07-03T09:55:15.241Z"
   },
   {
    "duration": 4,
    "start_time": "2022-07-03T09:55:15.268Z"
   },
   {
    "duration": 75,
    "start_time": "2022-07-03T09:55:15.274Z"
   },
   {
    "duration": 296,
    "start_time": "2022-07-03T09:55:15.350Z"
   },
   {
    "duration": 1924,
    "start_time": "2022-07-03T09:55:15.648Z"
   },
   {
    "duration": 1,
    "start_time": "2022-07-03T09:55:17.574Z"
   },
   {
    "duration": 0,
    "start_time": "2022-07-03T09:55:17.575Z"
   },
   {
    "duration": 0,
    "start_time": "2022-07-03T09:55:17.577Z"
   },
   {
    "duration": 0,
    "start_time": "2022-07-03T09:55:17.578Z"
   },
   {
    "duration": 0,
    "start_time": "2022-07-03T09:55:17.579Z"
   },
   {
    "duration": 0,
    "start_time": "2022-07-03T09:55:17.580Z"
   },
   {
    "duration": 0,
    "start_time": "2022-07-03T09:55:17.581Z"
   },
   {
    "duration": 0,
    "start_time": "2022-07-03T09:55:17.582Z"
   },
   {
    "duration": 0,
    "start_time": "2022-07-03T09:55:17.583Z"
   },
   {
    "duration": 0,
    "start_time": "2022-07-03T09:55:17.584Z"
   },
   {
    "duration": 0,
    "start_time": "2022-07-03T09:55:17.585Z"
   },
   {
    "duration": 0,
    "start_time": "2022-07-03T09:55:17.586Z"
   },
   {
    "duration": 0,
    "start_time": "2022-07-03T09:55:17.587Z"
   },
   {
    "duration": 0,
    "start_time": "2022-07-03T09:55:17.588Z"
   },
   {
    "duration": 0,
    "start_time": "2022-07-03T09:55:17.589Z"
   },
   {
    "duration": 0,
    "start_time": "2022-07-03T09:55:17.590Z"
   },
   {
    "duration": 0,
    "start_time": "2022-07-03T09:55:17.591Z"
   },
   {
    "duration": 0,
    "start_time": "2022-07-03T09:55:17.592Z"
   },
   {
    "duration": 1,
    "start_time": "2022-07-03T09:55:17.593Z"
   },
   {
    "duration": 0,
    "start_time": "2022-07-03T09:55:17.595Z"
   },
   {
    "duration": 0,
    "start_time": "2022-07-03T09:55:17.596Z"
   },
   {
    "duration": 0,
    "start_time": "2022-07-03T09:55:17.597Z"
   },
   {
    "duration": 0,
    "start_time": "2022-07-03T09:55:17.598Z"
   },
   {
    "duration": 0,
    "start_time": "2022-07-03T09:55:17.599Z"
   },
   {
    "duration": 0,
    "start_time": "2022-07-03T09:55:17.600Z"
   },
   {
    "duration": 0,
    "start_time": "2022-07-03T09:55:17.601Z"
   },
   {
    "duration": 0,
    "start_time": "2022-07-03T09:55:17.602Z"
   },
   {
    "duration": 0,
    "start_time": "2022-07-03T09:55:17.603Z"
   },
   {
    "duration": 0,
    "start_time": "2022-07-03T09:55:17.605Z"
   },
   {
    "duration": 1,
    "start_time": "2022-07-03T09:55:17.605Z"
   },
   {
    "duration": 0,
    "start_time": "2022-07-03T09:55:17.606Z"
   },
   {
    "duration": 0,
    "start_time": "2022-07-03T09:55:17.608Z"
   },
   {
    "duration": 819,
    "start_time": "2022-07-03T09:57:14.303Z"
   },
   {
    "duration": 23,
    "start_time": "2022-07-03T09:57:15.125Z"
   },
   {
    "duration": 11,
    "start_time": "2022-07-03T09:57:15.151Z"
   },
   {
    "duration": 19,
    "start_time": "2022-07-03T09:57:15.164Z"
   },
   {
    "duration": 56,
    "start_time": "2022-07-03T09:57:15.186Z"
   },
   {
    "duration": 5,
    "start_time": "2022-07-03T09:57:15.244Z"
   },
   {
    "duration": 58,
    "start_time": "2022-07-03T09:57:15.250Z"
   },
   {
    "duration": 331,
    "start_time": "2022-07-03T09:57:15.310Z"
   },
   {
    "duration": 1638,
    "start_time": "2022-07-03T09:57:15.643Z"
   },
   {
    "duration": 0,
    "start_time": "2022-07-03T09:57:17.285Z"
   },
   {
    "duration": 0,
    "start_time": "2022-07-03T09:57:17.286Z"
   },
   {
    "duration": 0,
    "start_time": "2022-07-03T09:57:17.287Z"
   },
   {
    "duration": 0,
    "start_time": "2022-07-03T09:57:17.288Z"
   },
   {
    "duration": 0,
    "start_time": "2022-07-03T09:57:17.290Z"
   },
   {
    "duration": 0,
    "start_time": "2022-07-03T09:57:17.291Z"
   },
   {
    "duration": 0,
    "start_time": "2022-07-03T09:57:17.292Z"
   },
   {
    "duration": 0,
    "start_time": "2022-07-03T09:57:17.294Z"
   },
   {
    "duration": 0,
    "start_time": "2022-07-03T09:57:17.295Z"
   },
   {
    "duration": 0,
    "start_time": "2022-07-03T09:57:17.296Z"
   },
   {
    "duration": 0,
    "start_time": "2022-07-03T09:57:17.297Z"
   },
   {
    "duration": 0,
    "start_time": "2022-07-03T09:57:17.298Z"
   },
   {
    "duration": 0,
    "start_time": "2022-07-03T09:57:17.300Z"
   },
   {
    "duration": 0,
    "start_time": "2022-07-03T09:57:17.301Z"
   },
   {
    "duration": 0,
    "start_time": "2022-07-03T09:57:17.302Z"
   },
   {
    "duration": 0,
    "start_time": "2022-07-03T09:57:17.303Z"
   },
   {
    "duration": 0,
    "start_time": "2022-07-03T09:57:17.305Z"
   },
   {
    "duration": 0,
    "start_time": "2022-07-03T09:57:17.306Z"
   },
   {
    "duration": 0,
    "start_time": "2022-07-03T09:57:17.307Z"
   },
   {
    "duration": 0,
    "start_time": "2022-07-03T09:57:17.308Z"
   },
   {
    "duration": 0,
    "start_time": "2022-07-03T09:57:17.310Z"
   },
   {
    "duration": 0,
    "start_time": "2022-07-03T09:57:17.311Z"
   },
   {
    "duration": 0,
    "start_time": "2022-07-03T09:57:17.312Z"
   },
   {
    "duration": 0,
    "start_time": "2022-07-03T09:57:17.313Z"
   },
   {
    "duration": 0,
    "start_time": "2022-07-03T09:57:17.313Z"
   },
   {
    "duration": 0,
    "start_time": "2022-07-03T09:57:17.315Z"
   },
   {
    "duration": 0,
    "start_time": "2022-07-03T09:57:17.316Z"
   },
   {
    "duration": 0,
    "start_time": "2022-07-03T09:57:17.319Z"
   },
   {
    "duration": 0,
    "start_time": "2022-07-03T09:57:17.320Z"
   },
   {
    "duration": 0,
    "start_time": "2022-07-03T09:57:17.349Z"
   },
   {
    "duration": 0,
    "start_time": "2022-07-03T09:57:17.351Z"
   },
   {
    "duration": 0,
    "start_time": "2022-07-03T09:57:17.352Z"
   },
   {
    "duration": 1408,
    "start_time": "2022-07-03T10:00:52.990Z"
   },
   {
    "duration": 1371,
    "start_time": "2022-07-03T10:01:24.491Z"
   },
   {
    "duration": 1218,
    "start_time": "2022-07-03T10:03:09.541Z"
   },
   {
    "duration": 1382,
    "start_time": "2022-07-03T10:04:26.833Z"
   },
   {
    "duration": 1545,
    "start_time": "2022-07-03T10:04:45.265Z"
   },
   {
    "duration": 37,
    "start_time": "2022-07-03T10:05:00.265Z"
   },
   {
    "duration": 1351,
    "start_time": "2022-07-03T10:05:25.177Z"
   },
   {
    "duration": 1311,
    "start_time": "2022-07-03T10:06:21.785Z"
   },
   {
    "duration": 28,
    "start_time": "2022-07-03T10:07:27.797Z"
   },
   {
    "duration": 788,
    "start_time": "2022-07-03T10:07:37.891Z"
   },
   {
    "duration": 16,
    "start_time": "2022-07-03T10:07:38.682Z"
   },
   {
    "duration": 10,
    "start_time": "2022-07-03T10:07:38.700Z"
   },
   {
    "duration": 37,
    "start_time": "2022-07-03T10:07:38.712Z"
   },
   {
    "duration": 25,
    "start_time": "2022-07-03T10:07:38.751Z"
   },
   {
    "duration": 4,
    "start_time": "2022-07-03T10:07:38.777Z"
   },
   {
    "duration": 5,
    "start_time": "2022-07-03T10:07:38.782Z"
   },
   {
    "duration": 312,
    "start_time": "2022-07-03T10:07:38.789Z"
   },
   {
    "duration": 40,
    "start_time": "2022-07-03T10:07:39.102Z"
   },
   {
    "duration": 4,
    "start_time": "2022-07-03T10:07:39.144Z"
   },
   {
    "duration": 13,
    "start_time": "2022-07-03T10:07:39.150Z"
   },
   {
    "duration": 28,
    "start_time": "2022-07-03T10:07:39.165Z"
   },
   {
    "duration": 421,
    "start_time": "2022-07-03T10:07:39.195Z"
   },
   {
    "duration": 23,
    "start_time": "2022-07-03T10:07:39.619Z"
   },
   {
    "duration": 99,
    "start_time": "2022-07-03T10:07:39.644Z"
   },
   {
    "duration": 121,
    "start_time": "2022-07-03T10:07:39.745Z"
   },
   {
    "duration": 126,
    "start_time": "2022-07-03T10:07:39.868Z"
   },
   {
    "duration": 123,
    "start_time": "2022-07-03T10:07:39.996Z"
   },
   {
    "duration": 120,
    "start_time": "2022-07-03T10:07:40.121Z"
   },
   {
    "duration": 392,
    "start_time": "2022-07-03T10:07:40.243Z"
   },
   {
    "duration": 214,
    "start_time": "2022-07-03T10:07:40.636Z"
   },
   {
    "duration": 198,
    "start_time": "2022-07-03T10:07:40.851Z"
   },
   {
    "duration": 196,
    "start_time": "2022-07-03T10:07:41.051Z"
   },
   {
    "duration": 399,
    "start_time": "2022-07-03T10:07:41.249Z"
   },
   {
    "duration": 301,
    "start_time": "2022-07-03T10:07:41.650Z"
   },
   {
    "duration": 182,
    "start_time": "2022-07-03T10:07:41.954Z"
   },
   {
    "duration": 189,
    "start_time": "2022-07-03T10:07:42.141Z"
   },
   {
    "duration": 112,
    "start_time": "2022-07-03T10:07:42.331Z"
   },
   {
    "duration": 0,
    "start_time": "2022-07-03T10:07:42.445Z"
   },
   {
    "duration": 0,
    "start_time": "2022-07-03T10:07:42.447Z"
   },
   {
    "duration": 0,
    "start_time": "2022-07-03T10:07:42.448Z"
   },
   {
    "duration": 0,
    "start_time": "2022-07-03T10:07:42.449Z"
   },
   {
    "duration": 0,
    "start_time": "2022-07-03T10:07:42.450Z"
   },
   {
    "duration": 0,
    "start_time": "2022-07-03T10:07:42.451Z"
   },
   {
    "duration": 0,
    "start_time": "2022-07-03T10:07:42.452Z"
   },
   {
    "duration": 0,
    "start_time": "2022-07-03T10:07:42.454Z"
   },
   {
    "duration": 0,
    "start_time": "2022-07-03T10:07:42.455Z"
   },
   {
    "duration": 0,
    "start_time": "2022-07-03T10:07:42.456Z"
   },
   {
    "duration": 0,
    "start_time": "2022-07-03T10:07:42.457Z"
   },
   {
    "duration": 0,
    "start_time": "2022-07-03T10:07:42.460Z"
   },
   {
    "duration": 0,
    "start_time": "2022-07-03T10:07:42.461Z"
   },
   {
    "duration": 15,
    "start_time": "2022-07-03T10:08:02.129Z"
   },
   {
    "duration": 174,
    "start_time": "2022-07-03T10:08:47.985Z"
   },
   {
    "duration": 177,
    "start_time": "2022-07-03T10:11:05.209Z"
   },
   {
    "duration": 185,
    "start_time": "2022-07-03T10:11:37.205Z"
   },
   {
    "duration": 181,
    "start_time": "2022-07-03T10:11:51.841Z"
   },
   {
    "duration": 154,
    "start_time": "2022-07-03T10:12:05.829Z"
   },
   {
    "duration": 25,
    "start_time": "2022-07-03T10:12:27.538Z"
   },
   {
    "duration": 13,
    "start_time": "2022-07-03T10:12:42.073Z"
   },
   {
    "duration": 33,
    "start_time": "2022-07-03T10:13:53.726Z"
   },
   {
    "duration": 255,
    "start_time": "2022-07-03T10:14:28.261Z"
   },
   {
    "duration": 46,
    "start_time": "2022-07-03T10:15:37.984Z"
   },
   {
    "duration": 221,
    "start_time": "2022-07-03T10:15:46.645Z"
   },
   {
    "duration": 276,
    "start_time": "2022-07-03T10:17:16.794Z"
   },
   {
    "duration": 230,
    "start_time": "2022-07-03T10:17:26.210Z"
   },
   {
    "duration": 222,
    "start_time": "2022-07-03T10:17:57.235Z"
   },
   {
    "duration": 301,
    "start_time": "2022-07-03T10:18:16.702Z"
   },
   {
    "duration": 256,
    "start_time": "2022-07-03T10:18:27.018Z"
   },
   {
    "duration": 256,
    "start_time": "2022-07-03T10:18:36.411Z"
   },
   {
    "duration": 194,
    "start_time": "2022-07-03T10:18:56.068Z"
   },
   {
    "duration": 238,
    "start_time": "2022-07-03T10:18:59.510Z"
   },
   {
    "duration": 209,
    "start_time": "2022-07-03T10:19:04.393Z"
   },
   {
    "duration": 278,
    "start_time": "2022-07-03T10:19:50.297Z"
   },
   {
    "duration": 202,
    "start_time": "2022-07-03T10:19:56.269Z"
   },
   {
    "duration": 177,
    "start_time": "2022-07-03T10:20:05.781Z"
   },
   {
    "duration": 109,
    "start_time": "2022-07-03T10:20:55.989Z"
   },
   {
    "duration": 176,
    "start_time": "2022-07-03T10:21:03.860Z"
   },
   {
    "duration": 270,
    "start_time": "2022-07-03T10:27:05.813Z"
   },
   {
    "duration": 252,
    "start_time": "2022-07-03T10:27:11.035Z"
   },
   {
    "duration": 306,
    "start_time": "2022-07-03T10:27:16.999Z"
   },
   {
    "duration": 318,
    "start_time": "2022-07-03T10:27:22.821Z"
   },
   {
    "duration": 349,
    "start_time": "2022-07-03T10:28:58.089Z"
   },
   {
    "duration": 327,
    "start_time": "2022-07-03T10:35:29.622Z"
   },
   {
    "duration": 249,
    "start_time": "2022-07-03T10:40:56.019Z"
   },
   {
    "duration": 176,
    "start_time": "2022-07-03T10:42:10.088Z"
   },
   {
    "duration": 230,
    "start_time": "2022-07-03T10:44:40.522Z"
   },
   {
    "duration": 215,
    "start_time": "2022-07-03T10:44:59.408Z"
   },
   {
    "duration": 958,
    "start_time": "2022-07-03T10:59:54.205Z"
   },
   {
    "duration": 27,
    "start_time": "2022-07-03T10:59:55.166Z"
   },
   {
    "duration": 16,
    "start_time": "2022-07-03T10:59:55.196Z"
   },
   {
    "duration": 47,
    "start_time": "2022-07-03T10:59:55.216Z"
   },
   {
    "duration": 25,
    "start_time": "2022-07-03T10:59:55.265Z"
   },
   {
    "duration": 4,
    "start_time": "2022-07-03T10:59:55.293Z"
   },
   {
    "duration": 6,
    "start_time": "2022-07-03T10:59:55.298Z"
   },
   {
    "duration": 336,
    "start_time": "2022-07-03T10:59:55.306Z"
   },
   {
    "duration": 53,
    "start_time": "2022-07-03T10:59:55.644Z"
   },
   {
    "duration": 6,
    "start_time": "2022-07-03T10:59:55.700Z"
   },
   {
    "duration": 11,
    "start_time": "2022-07-03T10:59:55.707Z"
   },
   {
    "duration": 46,
    "start_time": "2022-07-03T10:59:55.741Z"
   },
   {
    "duration": 499,
    "start_time": "2022-07-03T10:59:55.790Z"
   },
   {
    "duration": 17,
    "start_time": "2022-07-03T10:59:56.290Z"
   },
   {
    "duration": 120,
    "start_time": "2022-07-03T10:59:56.308Z"
   },
   {
    "duration": 147,
    "start_time": "2022-07-03T10:59:56.430Z"
   },
   {
    "duration": 149,
    "start_time": "2022-07-03T10:59:56.579Z"
   },
   {
    "duration": 237,
    "start_time": "2022-07-03T10:59:56.732Z"
   },
   {
    "duration": 143,
    "start_time": "2022-07-03T10:59:56.977Z"
   },
   {
    "duration": 442,
    "start_time": "2022-07-03T10:59:57.122Z"
   },
   {
    "duration": 420,
    "start_time": "2022-07-03T10:59:57.566Z"
   },
   {
    "duration": 249,
    "start_time": "2022-07-03T10:59:57.988Z"
   },
   {
    "duration": 333,
    "start_time": "2022-07-03T10:59:58.239Z"
   },
   {
    "duration": 530,
    "start_time": "2022-07-03T10:59:58.574Z"
   },
   {
    "duration": 355,
    "start_time": "2022-07-03T10:59:59.107Z"
   },
   {
    "duration": 204,
    "start_time": "2022-07-03T10:59:59.464Z"
   },
   {
    "duration": 243,
    "start_time": "2022-07-03T10:59:59.671Z"
   },
   {
    "duration": 188,
    "start_time": "2022-07-03T10:59:59.919Z"
   },
   {
    "duration": 198,
    "start_time": "2022-07-03T11:00:00.108Z"
   },
   {
    "duration": 200,
    "start_time": "2022-07-03T11:00:00.307Z"
   },
   {
    "duration": 198,
    "start_time": "2022-07-03T11:00:00.509Z"
   },
   {
    "duration": 265,
    "start_time": "2022-07-03T11:00:00.709Z"
   },
   {
    "duration": 33,
    "start_time": "2022-07-03T11:00:00.976Z"
   },
   {
    "duration": 36,
    "start_time": "2022-07-03T11:00:01.011Z"
   },
   {
    "duration": 192,
    "start_time": "2022-07-03T11:00:01.049Z"
   },
   {
    "duration": 166,
    "start_time": "2022-07-03T11:00:01.253Z"
   },
   {
    "duration": 191,
    "start_time": "2022-07-03T11:00:01.421Z"
   },
   {
    "duration": 220,
    "start_time": "2022-07-03T11:00:01.614Z"
   },
   {
    "duration": 182,
    "start_time": "2022-07-03T11:00:01.836Z"
   },
   {
    "duration": 184,
    "start_time": "2022-07-03T11:00:02.020Z"
   },
   {
    "duration": 210,
    "start_time": "2022-07-03T11:00:02.206Z"
   },
   {
    "duration": 245,
    "start_time": "2022-07-03T11:04:05.362Z"
   },
   {
    "duration": 194,
    "start_time": "2022-07-03T11:04:47.123Z"
   },
   {
    "duration": 206,
    "start_time": "2022-07-03T11:04:59.999Z"
   },
   {
    "duration": 103,
    "start_time": "2022-07-03T11:05:18.111Z"
   },
   {
    "duration": 40,
    "start_time": "2022-07-03T11:05:46.218Z"
   },
   {
    "duration": 397,
    "start_time": "2022-07-03T11:06:05.282Z"
   },
   {
    "duration": 111,
    "start_time": "2022-07-03T11:06:28.916Z"
   },
   {
    "duration": 56,
    "start_time": "2022-07-03T11:10:16.694Z"
   },
   {
    "duration": 28,
    "start_time": "2022-07-03T11:10:50.939Z"
   },
   {
    "duration": 24,
    "start_time": "2022-07-03T11:11:30.794Z"
   },
   {
    "duration": 20,
    "start_time": "2022-07-03T11:17:47.697Z"
   },
   {
    "duration": 24,
    "start_time": "2022-07-03T11:18:09.101Z"
   },
   {
    "duration": 1005,
    "start_time": "2022-07-03T11:19:27.457Z"
   },
   {
    "duration": 15,
    "start_time": "2022-07-03T11:19:28.464Z"
   },
   {
    "duration": 17,
    "start_time": "2022-07-03T11:19:28.483Z"
   },
   {
    "duration": 21,
    "start_time": "2022-07-03T11:19:28.503Z"
   },
   {
    "duration": 30,
    "start_time": "2022-07-03T11:19:28.543Z"
   },
   {
    "duration": 3,
    "start_time": "2022-07-03T11:19:28.574Z"
   },
   {
    "duration": 333,
    "start_time": "2022-07-03T11:19:28.580Z"
   },
   {
    "duration": 43,
    "start_time": "2022-07-03T11:19:28.914Z"
   },
   {
    "duration": 7,
    "start_time": "2022-07-03T11:19:28.959Z"
   },
   {
    "duration": 9,
    "start_time": "2022-07-03T11:19:28.967Z"
   },
   {
    "duration": 26,
    "start_time": "2022-07-03T11:19:28.977Z"
   },
   {
    "duration": 468,
    "start_time": "2022-07-03T11:19:29.005Z"
   },
   {
    "duration": 19,
    "start_time": "2022-07-03T11:19:29.476Z"
   },
   {
    "duration": 122,
    "start_time": "2022-07-03T11:19:29.498Z"
   },
   {
    "duration": 147,
    "start_time": "2022-07-03T11:19:29.622Z"
   },
   {
    "duration": 129,
    "start_time": "2022-07-03T11:19:29.771Z"
   },
   {
    "duration": 121,
    "start_time": "2022-07-03T11:19:29.902Z"
   },
   {
    "duration": 128,
    "start_time": "2022-07-03T11:19:30.024Z"
   },
   {
    "duration": 406,
    "start_time": "2022-07-03T11:19:30.154Z"
   },
   {
    "duration": 366,
    "start_time": "2022-07-03T11:19:30.562Z"
   },
   {
    "duration": 201,
    "start_time": "2022-07-03T11:19:30.930Z"
   },
   {
    "duration": 299,
    "start_time": "2022-07-03T11:19:31.133Z"
   },
   {
    "duration": 338,
    "start_time": "2022-07-03T11:19:31.434Z"
   },
   {
    "duration": 312,
    "start_time": "2022-07-03T11:19:31.774Z"
   },
   {
    "duration": 185,
    "start_time": "2022-07-03T11:19:32.089Z"
   },
   {
    "duration": 240,
    "start_time": "2022-07-03T11:19:32.276Z"
   },
   {
    "duration": 190,
    "start_time": "2022-07-03T11:19:32.518Z"
   },
   {
    "duration": 196,
    "start_time": "2022-07-03T11:19:32.710Z"
   },
   {
    "duration": 186,
    "start_time": "2022-07-03T11:19:32.908Z"
   },
   {
    "duration": 206,
    "start_time": "2022-07-03T11:19:33.097Z"
   },
   {
    "duration": 280,
    "start_time": "2022-07-03T11:19:33.305Z"
   },
   {
    "duration": 30,
    "start_time": "2022-07-03T11:19:33.586Z"
   },
   {
    "duration": 41,
    "start_time": "2022-07-03T11:19:33.618Z"
   },
   {
    "duration": 180,
    "start_time": "2022-07-03T11:19:33.661Z"
   },
   {
    "duration": 176,
    "start_time": "2022-07-03T11:19:33.846Z"
   },
   {
    "duration": 186,
    "start_time": "2022-07-03T11:19:34.026Z"
   },
   {
    "duration": 174,
    "start_time": "2022-07-03T11:19:34.214Z"
   },
   {
    "duration": 186,
    "start_time": "2022-07-03T11:19:34.390Z"
   },
   {
    "duration": 178,
    "start_time": "2022-07-03T11:19:34.578Z"
   },
   {
    "duration": 203,
    "start_time": "2022-07-03T11:19:34.758Z"
   },
   {
    "duration": 406,
    "start_time": "2022-07-03T11:20:21.660Z"
   },
   {
    "duration": 863,
    "start_time": "2022-07-04T02:32:11.516Z"
   },
   {
    "duration": 31,
    "start_time": "2022-07-04T02:35:10.051Z"
   },
   {
    "duration": 42,
    "start_time": "2022-07-04T02:35:20.615Z"
   },
   {
    "duration": 21,
    "start_time": "2022-07-04T02:35:42.575Z"
   },
   {
    "duration": 22,
    "start_time": "2022-07-04T02:36:02.198Z"
   },
   {
    "duration": 688,
    "start_time": "2022-07-04T02:36:07.979Z"
   },
   {
    "duration": 14,
    "start_time": "2022-07-04T02:36:08.669Z"
   },
   {
    "duration": 8,
    "start_time": "2022-07-04T02:36:08.685Z"
   },
   {
    "duration": 65,
    "start_time": "2022-07-04T02:36:08.695Z"
   },
   {
    "duration": 23,
    "start_time": "2022-07-04T02:36:08.762Z"
   },
   {
    "duration": 3,
    "start_time": "2022-07-04T02:36:08.787Z"
   },
   {
    "duration": 259,
    "start_time": "2022-07-04T02:36:08.791Z"
   },
   {
    "duration": 89,
    "start_time": "2022-07-04T02:36:09.051Z"
   },
   {
    "duration": 0,
    "start_time": "2022-07-04T02:36:09.142Z"
   },
   {
    "duration": 0,
    "start_time": "2022-07-04T02:36:09.143Z"
   },
   {
    "duration": 0,
    "start_time": "2022-07-04T02:36:09.144Z"
   },
   {
    "duration": 0,
    "start_time": "2022-07-04T02:36:09.145Z"
   },
   {
    "duration": 0,
    "start_time": "2022-07-04T02:36:09.159Z"
   },
   {
    "duration": 0,
    "start_time": "2022-07-04T02:36:09.159Z"
   },
   {
    "duration": 0,
    "start_time": "2022-07-04T02:36:09.161Z"
   },
   {
    "duration": 0,
    "start_time": "2022-07-04T02:36:09.161Z"
   },
   {
    "duration": 0,
    "start_time": "2022-07-04T02:36:09.163Z"
   },
   {
    "duration": 0,
    "start_time": "2022-07-04T02:36:09.164Z"
   },
   {
    "duration": 0,
    "start_time": "2022-07-04T02:36:09.165Z"
   },
   {
    "duration": 0,
    "start_time": "2022-07-04T02:36:09.166Z"
   },
   {
    "duration": 0,
    "start_time": "2022-07-04T02:36:09.167Z"
   },
   {
    "duration": 0,
    "start_time": "2022-07-04T02:36:09.168Z"
   },
   {
    "duration": 0,
    "start_time": "2022-07-04T02:36:09.169Z"
   },
   {
    "duration": 0,
    "start_time": "2022-07-04T02:36:09.170Z"
   },
   {
    "duration": 0,
    "start_time": "2022-07-04T02:36:09.171Z"
   },
   {
    "duration": 0,
    "start_time": "2022-07-04T02:36:09.171Z"
   },
   {
    "duration": 0,
    "start_time": "2022-07-04T02:36:09.172Z"
   },
   {
    "duration": 0,
    "start_time": "2022-07-04T02:36:09.173Z"
   },
   {
    "duration": 0,
    "start_time": "2022-07-04T02:36:09.174Z"
   },
   {
    "duration": 0,
    "start_time": "2022-07-04T02:36:09.175Z"
   },
   {
    "duration": 0,
    "start_time": "2022-07-04T02:36:09.176Z"
   },
   {
    "duration": 0,
    "start_time": "2022-07-04T02:36:09.177Z"
   },
   {
    "duration": 0,
    "start_time": "2022-07-04T02:36:09.178Z"
   },
   {
    "duration": 0,
    "start_time": "2022-07-04T02:36:09.179Z"
   },
   {
    "duration": 0,
    "start_time": "2022-07-04T02:36:09.180Z"
   },
   {
    "duration": 0,
    "start_time": "2022-07-04T02:36:09.181Z"
   },
   {
    "duration": 1,
    "start_time": "2022-07-04T02:36:09.181Z"
   },
   {
    "duration": 0,
    "start_time": "2022-07-04T02:36:09.182Z"
   },
   {
    "duration": 0,
    "start_time": "2022-07-04T02:36:09.183Z"
   },
   {
    "duration": 0,
    "start_time": "2022-07-04T02:36:09.184Z"
   },
   {
    "duration": 43,
    "start_time": "2022-07-04T02:37:06.387Z"
   },
   {
    "duration": 601,
    "start_time": "2022-07-04T02:41:11.244Z"
   },
   {
    "duration": 442,
    "start_time": "2022-07-04T02:41:23.927Z"
   },
   {
    "duration": 1141,
    "start_time": "2022-07-04T02:41:47.995Z"
   },
   {
    "duration": 770,
    "start_time": "2022-07-04T02:42:39.280Z"
   },
   {
    "duration": 19,
    "start_time": "2022-07-04T02:42:56.834Z"
   },
   {
    "duration": 19,
    "start_time": "2022-07-04T02:43:04.294Z"
   },
   {
    "duration": 1836,
    "start_time": "2022-07-04T02:44:02.213Z"
   },
   {
    "duration": 2695,
    "start_time": "2022-07-04T02:44:21.895Z"
   },
   {
    "duration": 3062,
    "start_time": "2022-07-04T02:44:31.531Z"
   },
   {
    "duration": 97,
    "start_time": "2022-07-04T02:46:31.315Z"
   },
   {
    "duration": 3090,
    "start_time": "2022-07-04T02:46:33.668Z"
   },
   {
    "duration": 1144,
    "start_time": "2022-07-04T02:47:11.684Z"
   },
   {
    "duration": 3114,
    "start_time": "2022-07-04T02:47:12.830Z"
   },
   {
    "duration": 17,
    "start_time": "2022-07-04T02:47:15.946Z"
   },
   {
    "duration": 44,
    "start_time": "2022-07-04T02:47:15.965Z"
   },
   {
    "duration": 20,
    "start_time": "2022-07-04T02:47:16.010Z"
   },
   {
    "duration": 3,
    "start_time": "2022-07-04T02:47:16.031Z"
   },
   {
    "duration": 241,
    "start_time": "2022-07-04T02:47:16.058Z"
   },
   {
    "duration": 26,
    "start_time": "2022-07-04T02:47:16.301Z"
   },
   {
    "duration": 5,
    "start_time": "2022-07-04T02:47:16.329Z"
   },
   {
    "duration": 26,
    "start_time": "2022-07-04T02:47:16.336Z"
   },
   {
    "duration": 18,
    "start_time": "2022-07-04T02:47:16.364Z"
   },
   {
    "duration": 385,
    "start_time": "2022-07-04T02:47:16.383Z"
   },
   {
    "duration": 13,
    "start_time": "2022-07-04T02:47:16.769Z"
   },
   {
    "duration": 177,
    "start_time": "2022-07-04T02:47:16.783Z"
   },
   {
    "duration": 317,
    "start_time": "2022-07-04T02:47:16.962Z"
   },
   {
    "duration": 194,
    "start_time": "2022-07-04T02:47:17.281Z"
   },
   {
    "duration": 188,
    "start_time": "2022-07-04T02:47:17.476Z"
   },
   {
    "duration": 193,
    "start_time": "2022-07-04T02:47:17.666Z"
   },
   {
    "duration": 453,
    "start_time": "2022-07-04T02:47:17.860Z"
   },
   {
    "duration": 273,
    "start_time": "2022-07-04T02:47:18.315Z"
   },
   {
    "duration": 160,
    "start_time": "2022-07-04T02:47:18.590Z"
   },
   {
    "duration": 158,
    "start_time": "2022-07-04T02:47:18.758Z"
   },
   {
    "duration": 342,
    "start_time": "2022-07-04T02:47:18.918Z"
   },
   {
    "duration": 238,
    "start_time": "2022-07-04T02:47:19.261Z"
   },
   {
    "duration": 142,
    "start_time": "2022-07-04T02:47:19.500Z"
   },
   {
    "duration": 162,
    "start_time": "2022-07-04T02:47:19.643Z"
   },
   {
    "duration": 144,
    "start_time": "2022-07-04T02:47:19.807Z"
   },
   {
    "duration": 151,
    "start_time": "2022-07-04T02:47:19.959Z"
   },
   {
    "duration": 144,
    "start_time": "2022-07-04T02:47:20.111Z"
   },
   {
    "duration": 145,
    "start_time": "2022-07-04T02:47:20.259Z"
   },
   {
    "duration": 138,
    "start_time": "2022-07-04T02:47:20.406Z"
   },
   {
    "duration": 27,
    "start_time": "2022-07-04T02:47:20.546Z"
   },
   {
    "duration": 11,
    "start_time": "2022-07-04T02:47:20.574Z"
   },
   {
    "duration": 146,
    "start_time": "2022-07-04T02:47:20.586Z"
   },
   {
    "duration": 240,
    "start_time": "2022-07-04T02:47:20.734Z"
   },
   {
    "duration": 134,
    "start_time": "2022-07-04T02:47:20.976Z"
   },
   {
    "duration": 133,
    "start_time": "2022-07-04T02:47:21.112Z"
   },
   {
    "duration": 149,
    "start_time": "2022-07-04T02:47:21.247Z"
   },
   {
    "duration": 135,
    "start_time": "2022-07-04T02:47:21.398Z"
   },
   {
    "duration": 162,
    "start_time": "2022-07-04T02:47:21.535Z"
   },
   {
    "duration": 3499,
    "start_time": "2022-07-04T02:48:00.317Z"
   },
   {
    "duration": 3317,
    "start_time": "2022-07-04T02:48:14.546Z"
   },
   {
    "duration": 1192,
    "start_time": "2022-07-04T03:15:10.255Z"
   },
   {
    "duration": 17,
    "start_time": "2022-07-04T03:15:11.449Z"
   },
   {
    "duration": 3178,
    "start_time": "2022-07-04T03:15:11.467Z"
   },
   {
    "duration": 54,
    "start_time": "2022-07-04T03:15:14.646Z"
   },
   {
    "duration": 23,
    "start_time": "2022-07-04T03:15:14.702Z"
   },
   {
    "duration": 3,
    "start_time": "2022-07-04T03:15:14.726Z"
   },
   {
    "duration": 254,
    "start_time": "2022-07-04T03:15:14.731Z"
   },
   {
    "duration": 24,
    "start_time": "2022-07-04T03:15:14.987Z"
   },
   {
    "duration": 4,
    "start_time": "2022-07-04T03:15:15.013Z"
   },
   {
    "duration": 19,
    "start_time": "2022-07-04T03:15:15.019Z"
   },
   {
    "duration": 32,
    "start_time": "2022-07-04T03:15:15.040Z"
   },
   {
    "duration": 310,
    "start_time": "2022-07-04T03:15:15.073Z"
   },
   {
    "duration": 13,
    "start_time": "2022-07-04T03:15:15.384Z"
   },
   {
    "duration": 92,
    "start_time": "2022-07-04T03:15:15.400Z"
   },
   {
    "duration": 175,
    "start_time": "2022-07-04T03:15:15.493Z"
   },
   {
    "duration": 106,
    "start_time": "2022-07-04T03:15:15.669Z"
   },
   {
    "duration": 97,
    "start_time": "2022-07-04T03:15:15.777Z"
   },
   {
    "duration": 97,
    "start_time": "2022-07-04T03:15:15.875Z"
   },
   {
    "duration": 284,
    "start_time": "2022-07-04T03:15:15.974Z"
   },
   {
    "duration": 281,
    "start_time": "2022-07-04T03:15:16.260Z"
   },
   {
    "duration": 163,
    "start_time": "2022-07-04T03:15:16.543Z"
   },
   {
    "duration": 171,
    "start_time": "2022-07-04T03:15:16.708Z"
   },
   {
    "duration": 365,
    "start_time": "2022-07-04T03:15:16.880Z"
   },
   {
    "duration": 244,
    "start_time": "2022-07-04T03:15:17.247Z"
   },
   {
    "duration": 144,
    "start_time": "2022-07-04T03:15:17.493Z"
   },
   {
    "duration": 169,
    "start_time": "2022-07-04T03:15:17.638Z"
   },
   {
    "duration": 151,
    "start_time": "2022-07-04T03:15:17.808Z"
   },
   {
    "duration": 148,
    "start_time": "2022-07-04T03:15:17.960Z"
   },
   {
    "duration": 151,
    "start_time": "2022-07-04T03:15:18.109Z"
   },
   {
    "duration": 148,
    "start_time": "2022-07-04T03:15:18.262Z"
   },
   {
    "duration": 144,
    "start_time": "2022-07-04T03:15:18.411Z"
   },
   {
    "duration": 20,
    "start_time": "2022-07-04T03:15:18.559Z"
   },
   {
    "duration": 11,
    "start_time": "2022-07-04T03:15:18.580Z"
   },
   {
    "duration": 148,
    "start_time": "2022-07-04T03:15:18.593Z"
   },
   {
    "duration": 230,
    "start_time": "2022-07-04T03:15:18.742Z"
   },
   {
    "duration": 138,
    "start_time": "2022-07-04T03:15:18.973Z"
   },
   {
    "duration": 136,
    "start_time": "2022-07-04T03:15:19.112Z"
   },
   {
    "duration": 150,
    "start_time": "2022-07-04T03:15:19.250Z"
   },
   {
    "duration": 134,
    "start_time": "2022-07-04T03:15:19.402Z"
   },
   {
    "duration": 165,
    "start_time": "2022-07-04T03:15:19.538Z"
   },
   {
    "duration": 59,
    "start_time": "2022-07-04T03:29:30.206Z"
   },
   {
    "duration": 46,
    "start_time": "2022-07-04T03:29:54.890Z"
   },
   {
    "duration": 250,
    "start_time": "2022-07-04T03:30:00.382Z"
   },
   {
    "duration": 164,
    "start_time": "2022-07-04T03:30:31.592Z"
   },
   {
    "duration": 157,
    "start_time": "2022-07-04T03:32:05.096Z"
   },
   {
    "duration": 153,
    "start_time": "2022-07-04T03:32:33.438Z"
   },
   {
    "duration": 174,
    "start_time": "2022-07-04T03:35:04.806Z"
   },
   {
    "duration": 242,
    "start_time": "2022-07-04T03:35:39.367Z"
   },
   {
    "duration": 172,
    "start_time": "2022-07-04T03:39:58.663Z"
   },
   {
    "duration": 166,
    "start_time": "2022-07-04T03:40:03.738Z"
   },
   {
    "duration": 167,
    "start_time": "2022-07-04T03:41:54.385Z"
   },
   {
    "duration": 158,
    "start_time": "2022-07-04T03:41:59.394Z"
   },
   {
    "duration": 0,
    "start_time": "2022-07-04T03:45:58.757Z"
   },
   {
    "duration": 819,
    "start_time": "2022-07-04T03:48:25.864Z"
   },
   {
    "duration": 50,
    "start_time": "2022-07-04T03:48:47.231Z"
   },
   {
    "duration": 53,
    "start_time": "2022-07-04T03:49:22.832Z"
   },
   {
    "duration": 237,
    "start_time": "2022-07-04T03:49:39.041Z"
   },
   {
    "duration": 1520,
    "start_time": "2022-07-04T03:50:01.657Z"
   },
   {
    "duration": 50,
    "start_time": "2022-07-04T03:50:20.772Z"
   },
   {
    "duration": 53,
    "start_time": "2022-07-04T03:50:45.002Z"
   },
   {
    "duration": 53,
    "start_time": "2022-07-04T03:50:47.974Z"
   },
   {
    "duration": 80,
    "start_time": "2022-07-04T05:50:19.258Z"
   },
   {
    "duration": 62,
    "start_time": "2022-07-04T05:50:53.894Z"
   },
   {
    "duration": 51,
    "start_time": "2022-07-04T05:54:14.026Z"
   },
   {
    "duration": 56,
    "start_time": "2022-07-04T05:57:17.699Z"
   },
   {
    "duration": 17,
    "start_time": "2022-07-04T06:01:08.511Z"
   },
   {
    "duration": 27,
    "start_time": "2022-07-04T06:01:20.772Z"
   },
   {
    "duration": 14,
    "start_time": "2022-07-04T06:03:11.419Z"
   },
   {
    "duration": 90,
    "start_time": "2022-07-04T06:04:39.245Z"
   },
   {
    "duration": 4,
    "start_time": "2022-07-04T06:05:25.481Z"
   },
   {
    "duration": 23,
    "start_time": "2022-07-04T06:05:30.967Z"
   },
   {
    "duration": 13,
    "start_time": "2022-07-04T06:05:39.190Z"
   },
   {
    "duration": 13,
    "start_time": "2022-07-04T06:05:49.236Z"
   },
   {
    "duration": 15,
    "start_time": "2022-07-04T06:05:55.673Z"
   },
   {
    "duration": 18,
    "start_time": "2022-07-04T06:07:21.591Z"
   },
   {
    "duration": 18,
    "start_time": "2022-07-04T06:07:41.677Z"
   },
   {
    "duration": 15,
    "start_time": "2022-07-04T06:08:19.572Z"
   },
   {
    "duration": 48,
    "start_time": "2022-07-04T06:08:24.834Z"
   },
   {
    "duration": 16,
    "start_time": "2022-07-04T06:10:11.637Z"
   },
   {
    "duration": 18,
    "start_time": "2022-07-04T06:10:16.945Z"
   },
   {
    "duration": 46,
    "start_time": "2022-07-04T06:10:27.643Z"
   },
   {
    "duration": 18,
    "start_time": "2022-07-04T06:10:54.007Z"
   },
   {
    "duration": 138,
    "start_time": "2022-07-04T06:11:23.749Z"
   },
   {
    "duration": 99,
    "start_time": "2022-07-04T06:12:19.377Z"
   },
   {
    "duration": 103,
    "start_time": "2022-07-04T06:12:44.036Z"
   },
   {
    "duration": 100,
    "start_time": "2022-07-04T06:15:33.494Z"
   },
   {
    "duration": 104,
    "start_time": "2022-07-04T06:16:34.907Z"
   },
   {
    "duration": 104,
    "start_time": "2022-07-04T06:16:48.385Z"
   },
   {
    "duration": 111,
    "start_time": "2022-07-04T06:17:02.544Z"
   },
   {
    "duration": 107,
    "start_time": "2022-07-04T06:17:05.984Z"
   },
   {
    "duration": 26,
    "start_time": "2022-07-04T06:17:17.950Z"
   },
   {
    "duration": 31,
    "start_time": "2022-07-04T06:17:26.445Z"
   },
   {
    "duration": 44,
    "start_time": "2022-07-04T06:17:33.731Z"
   },
   {
    "duration": 63,
    "start_time": "2022-07-04T06:17:57.936Z"
   },
   {
    "duration": 1013,
    "start_time": "2022-07-04T06:18:01.685Z"
   },
   {
    "duration": 41,
    "start_time": "2022-07-04T06:18:34.945Z"
   },
   {
    "duration": 138,
    "start_time": "2022-07-04T06:20:14.355Z"
   },
   {
    "duration": 120,
    "start_time": "2022-07-04T06:20:23.512Z"
   },
   {
    "duration": 137,
    "start_time": "2022-07-04T06:20:55.576Z"
   },
   {
    "duration": 122,
    "start_time": "2022-07-04T06:22:39.322Z"
   },
   {
    "duration": 16,
    "start_time": "2022-07-04T06:22:54.573Z"
   },
   {
    "duration": 17,
    "start_time": "2022-07-04T06:23:14.662Z"
   },
   {
    "duration": 21,
    "start_time": "2022-07-04T06:23:28.034Z"
   },
   {
    "duration": 21,
    "start_time": "2022-07-04T06:23:39.598Z"
   },
   {
    "duration": 22,
    "start_time": "2022-07-04T06:24:40.173Z"
   },
   {
    "duration": 17,
    "start_time": "2022-07-04T06:24:52.702Z"
   },
   {
    "duration": 112,
    "start_time": "2022-07-04T06:26:24.412Z"
   },
   {
    "duration": 723,
    "start_time": "2022-07-04T06:28:53.870Z"
   },
   {
    "duration": 929,
    "start_time": "2022-07-04T06:30:26.227Z"
   },
   {
    "duration": 873,
    "start_time": "2022-07-04T06:32:34.654Z"
   },
   {
    "duration": 924,
    "start_time": "2022-07-04T06:33:10.660Z"
   },
   {
    "duration": 956,
    "start_time": "2022-07-04T06:33:52.686Z"
   },
   {
    "duration": 67,
    "start_time": "2022-07-04T06:34:04.855Z"
   },
   {
    "duration": 692,
    "start_time": "2022-07-04T06:34:23.724Z"
   },
   {
    "duration": 1692,
    "start_time": "2022-07-04T06:35:01.343Z"
   },
   {
    "duration": 67,
    "start_time": "2022-07-04T06:35:27.705Z"
   },
   {
    "duration": 66,
    "start_time": "2022-07-04T06:37:19.557Z"
   },
   {
    "duration": 1306,
    "start_time": "2022-07-04T06:37:35.141Z"
   },
   {
    "duration": 145,
    "start_time": "2022-07-04T06:38:20.740Z"
   },
   {
    "duration": 59,
    "start_time": "2022-07-04T06:38:35.122Z"
   },
   {
    "duration": 54,
    "start_time": "2022-07-04T06:39:33.893Z"
   },
   {
    "duration": 75,
    "start_time": "2022-07-04T06:40:04.207Z"
   },
   {
    "duration": 692,
    "start_time": "2022-07-04T06:43:07.229Z"
   },
   {
    "duration": 66,
    "start_time": "2022-07-04T06:43:52.576Z"
   },
   {
    "duration": 751,
    "start_time": "2022-07-04T06:45:21.588Z"
   },
   {
    "duration": 879,
    "start_time": "2022-07-04T06:46:25.386Z"
   },
   {
    "duration": 940,
    "start_time": "2022-07-04T06:46:39.344Z"
   },
   {
    "duration": 814,
    "start_time": "2022-07-04T06:46:44.440Z"
   },
   {
    "duration": 865,
    "start_time": "2022-07-04T06:46:53.950Z"
   },
   {
    "duration": 782,
    "start_time": "2022-07-04T06:47:30.889Z"
   },
   {
    "duration": 711,
    "start_time": "2022-07-04T06:47:36.287Z"
   },
   {
    "duration": 893,
    "start_time": "2022-07-04T06:48:00.912Z"
   },
   {
    "duration": 902,
    "start_time": "2022-07-04T06:48:10.106Z"
   },
   {
    "duration": 118,
    "start_time": "2022-07-04T06:48:13.962Z"
   },
   {
    "duration": 272,
    "start_time": "2022-07-04T06:54:42.144Z"
   },
   {
    "duration": 451,
    "start_time": "2022-07-04T06:55:13.657Z"
   },
   {
    "duration": 295,
    "start_time": "2022-07-04T06:55:21.243Z"
   },
   {
    "duration": 379,
    "start_time": "2022-07-04T06:56:21.851Z"
   },
   {
    "duration": 119,
    "start_time": "2022-07-04T06:57:23.556Z"
   },
   {
    "duration": 125,
    "start_time": "2022-07-04T06:59:48.548Z"
   },
   {
    "duration": 217,
    "start_time": "2022-07-04T07:00:09.030Z"
   },
   {
    "duration": 231,
    "start_time": "2022-07-04T07:00:13.115Z"
   },
   {
    "duration": 2157,
    "start_time": "2022-07-04T07:00:24.018Z"
   },
   {
    "duration": 1422,
    "start_time": "2022-07-04T07:00:41.831Z"
   },
   {
    "duration": 130,
    "start_time": "2022-07-04T07:01:25.532Z"
   },
   {
    "duration": 107,
    "start_time": "2022-07-04T07:02:00.894Z"
   },
   {
    "duration": 49,
    "start_time": "2022-07-04T07:02:09.692Z"
   },
   {
    "duration": 179,
    "start_time": "2022-07-04T07:04:57.123Z"
   },
   {
    "duration": 179,
    "start_time": "2022-07-04T07:05:17.246Z"
   },
   {
    "duration": 205,
    "start_time": "2022-07-04T07:06:37.912Z"
   },
   {
    "duration": 14,
    "start_time": "2022-07-04T07:07:01.694Z"
   },
   {
    "duration": 134,
    "start_time": "2022-07-04T07:08:04.707Z"
   },
   {
    "duration": 244,
    "start_time": "2022-07-04T07:08:17.332Z"
   },
   {
    "duration": 181,
    "start_time": "2022-07-04T07:08:42.401Z"
   },
   {
    "duration": 1104,
    "start_time": "2022-07-04T07:09:04.421Z"
   },
   {
    "duration": 201,
    "start_time": "2022-07-04T07:09:12.355Z"
   },
   {
    "duration": 244,
    "start_time": "2022-07-04T07:09:22.127Z"
   },
   {
    "duration": 220,
    "start_time": "2022-07-04T07:09:29.107Z"
   },
   {
    "duration": 380,
    "start_time": "2022-07-04T07:09:35.203Z"
   },
   {
    "duration": 210,
    "start_time": "2022-07-04T07:10:08.393Z"
   },
   {
    "duration": 121,
    "start_time": "2022-07-04T07:10:15.401Z"
   },
   {
    "duration": 264,
    "start_time": "2022-07-04T07:10:36.816Z"
   },
   {
    "duration": 598,
    "start_time": "2022-07-04T07:10:43.281Z"
   },
   {
    "duration": 403,
    "start_time": "2022-07-04T07:10:49.832Z"
   },
   {
    "duration": 181,
    "start_time": "2022-07-04T07:11:43.232Z"
   },
   {
    "duration": 1492,
    "start_time": "2022-07-04T07:11:58.502Z"
   },
   {
    "duration": 215,
    "start_time": "2022-07-04T07:12:11.423Z"
   },
   {
    "duration": 246,
    "start_time": "2022-07-04T07:12:18.271Z"
   },
   {
    "duration": 1272,
    "start_time": "2022-07-04T07:12:23.189Z"
   },
   {
    "duration": 378,
    "start_time": "2022-07-04T07:12:32.516Z"
   },
   {
    "duration": 1335,
    "start_time": "2022-07-04T07:12:48.087Z"
   },
   {
    "duration": 280,
    "start_time": "2022-07-04T07:12:58.022Z"
   },
   {
    "duration": 261,
    "start_time": "2022-07-04T07:13:05.888Z"
   },
   {
    "duration": 11244,
    "start_time": "2022-07-04T07:14:01.194Z"
   },
   {
    "duration": 1503,
    "start_time": "2022-07-04T07:14:12.791Z"
   },
   {
    "duration": 1287,
    "start_time": "2022-07-04T07:14:28.043Z"
   },
   {
    "duration": 1318,
    "start_time": "2022-07-04T07:22:05.086Z"
   },
   {
    "duration": 15,
    "start_time": "2022-07-04T07:22:06.405Z"
   },
   {
    "duration": 3711,
    "start_time": "2022-07-04T07:22:06.421Z"
   },
   {
    "duration": 66,
    "start_time": "2022-07-04T07:22:10.134Z"
   },
   {
    "duration": 20,
    "start_time": "2022-07-04T07:22:10.202Z"
   },
   {
    "duration": 3,
    "start_time": "2022-07-04T07:22:10.224Z"
   },
   {
    "duration": 281,
    "start_time": "2022-07-04T07:22:10.228Z"
   },
   {
    "duration": 23,
    "start_time": "2022-07-04T07:22:10.511Z"
   },
   {
    "duration": 5,
    "start_time": "2022-07-04T07:22:10.536Z"
   },
   {
    "duration": 43,
    "start_time": "2022-07-04T07:22:10.542Z"
   },
   {
    "duration": 22,
    "start_time": "2022-07-04T07:22:10.589Z"
   },
   {
    "duration": 335,
    "start_time": "2022-07-04T07:22:10.612Z"
   },
   {
    "duration": 27,
    "start_time": "2022-07-04T07:22:10.948Z"
   },
   {
    "duration": 119,
    "start_time": "2022-07-04T07:22:10.978Z"
   },
   {
    "duration": 185,
    "start_time": "2022-07-04T07:22:11.098Z"
   },
   {
    "duration": 114,
    "start_time": "2022-07-04T07:22:11.285Z"
   },
   {
    "duration": 103,
    "start_time": "2022-07-04T07:22:11.400Z"
   },
   {
    "duration": 118,
    "start_time": "2022-07-04T07:22:11.505Z"
   },
   {
    "duration": 313,
    "start_time": "2022-07-04T07:22:11.625Z"
   },
   {
    "duration": 0,
    "start_time": "2022-07-04T07:22:11.939Z"
   },
   {
    "duration": 0,
    "start_time": "2022-07-04T07:22:11.941Z"
   },
   {
    "duration": 0,
    "start_time": "2022-07-04T07:22:11.942Z"
   },
   {
    "duration": 0,
    "start_time": "2022-07-04T07:22:11.943Z"
   },
   {
    "duration": 0,
    "start_time": "2022-07-04T07:22:11.944Z"
   },
   {
    "duration": 0,
    "start_time": "2022-07-04T07:22:11.946Z"
   },
   {
    "duration": 0,
    "start_time": "2022-07-04T07:22:11.947Z"
   },
   {
    "duration": 0,
    "start_time": "2022-07-04T07:22:11.963Z"
   },
   {
    "duration": 0,
    "start_time": "2022-07-04T07:22:11.963Z"
   },
   {
    "duration": 0,
    "start_time": "2022-07-04T07:22:11.964Z"
   },
   {
    "duration": 0,
    "start_time": "2022-07-04T07:22:11.965Z"
   },
   {
    "duration": 0,
    "start_time": "2022-07-04T07:22:11.966Z"
   },
   {
    "duration": 0,
    "start_time": "2022-07-04T07:22:11.967Z"
   },
   {
    "duration": 0,
    "start_time": "2022-07-04T07:22:11.968Z"
   },
   {
    "duration": 0,
    "start_time": "2022-07-04T07:22:11.969Z"
   },
   {
    "duration": 0,
    "start_time": "2022-07-04T07:22:11.969Z"
   },
   {
    "duration": 0,
    "start_time": "2022-07-04T07:22:11.971Z"
   },
   {
    "duration": 0,
    "start_time": "2022-07-04T07:22:11.972Z"
   },
   {
    "duration": 0,
    "start_time": "2022-07-04T07:22:11.973Z"
   },
   {
    "duration": 0,
    "start_time": "2022-07-04T07:22:11.974Z"
   },
   {
    "duration": 0,
    "start_time": "2022-07-04T07:22:11.975Z"
   },
   {
    "duration": 212,
    "start_time": "2022-07-04T07:23:33.488Z"
   },
   {
    "duration": 221,
    "start_time": "2022-07-04T07:23:42.883Z"
   },
   {
    "duration": 921,
    "start_time": "2022-07-04T07:23:52.914Z"
   },
   {
    "duration": 984,
    "start_time": "2022-07-04T07:27:14.334Z"
   },
   {
    "duration": 1031,
    "start_time": "2022-07-04T07:28:54.890Z"
   },
   {
    "duration": 895,
    "start_time": "2022-07-04T07:29:10.290Z"
   },
   {
    "duration": 815,
    "start_time": "2022-07-04T07:29:50.858Z"
   },
   {
    "duration": 6,
    "start_time": "2022-07-04T07:30:01.073Z"
   },
   {
    "duration": 720,
    "start_time": "2022-07-04T07:30:29.920Z"
   },
   {
    "duration": 11,
    "start_time": "2022-07-04T07:30:51.975Z"
   },
   {
    "duration": 6,
    "start_time": "2022-07-04T07:30:56.350Z"
   },
   {
    "duration": 12,
    "start_time": "2022-07-04T07:31:17.990Z"
   },
   {
    "duration": 11,
    "start_time": "2022-07-04T07:31:21.572Z"
   },
   {
    "duration": 9,
    "start_time": "2022-07-04T07:31:25.258Z"
   },
   {
    "duration": 16,
    "start_time": "2022-07-04T07:31:39.117Z"
   },
   {
    "duration": 14,
    "start_time": "2022-07-04T07:31:41.452Z"
   },
   {
    "duration": 14,
    "start_time": "2022-07-04T07:31:44.753Z"
   },
   {
    "duration": 8,
    "start_time": "2022-07-04T07:31:55.748Z"
   },
   {
    "duration": 4,
    "start_time": "2022-07-04T07:32:06.250Z"
   },
   {
    "duration": 10,
    "start_time": "2022-07-04T07:33:59.177Z"
   },
   {
    "duration": 10,
    "start_time": "2022-07-04T07:34:08.701Z"
   },
   {
    "duration": 6,
    "start_time": "2022-07-04T07:34:53.179Z"
   },
   {
    "duration": 13,
    "start_time": "2022-07-04T07:35:11.486Z"
   },
   {
    "duration": 9,
    "start_time": "2022-07-04T07:35:14.907Z"
   },
   {
    "duration": 8,
    "start_time": "2022-07-04T07:35:17.838Z"
   },
   {
    "duration": 8,
    "start_time": "2022-07-04T07:35:21.602Z"
   },
   {
    "duration": 888,
    "start_time": "2022-07-04T07:35:54.075Z"
   },
   {
    "duration": 190,
    "start_time": "2022-07-04T07:36:08.262Z"
   },
   {
    "duration": 193,
    "start_time": "2022-07-04T07:36:30.380Z"
   },
   {
    "duration": 3521,
    "start_time": "2022-07-04T07:37:06.665Z"
   },
   {
    "duration": 1303,
    "start_time": "2022-07-04T07:37:36.654Z"
   },
   {
    "duration": 4505,
    "start_time": "2022-07-04T07:37:43.702Z"
   },
   {
    "duration": 5,
    "start_time": "2022-07-04T07:38:13.531Z"
   },
   {
    "duration": 1649,
    "start_time": "2022-07-04T07:38:59.830Z"
   },
   {
    "duration": 70,
    "start_time": "2022-07-04T07:40:13.235Z"
   },
   {
    "duration": 256,
    "start_time": "2022-07-04T07:40:22.803Z"
   },
   {
    "duration": 216,
    "start_time": "2022-07-04T07:40:57.993Z"
   },
   {
    "duration": 226,
    "start_time": "2022-07-04T07:41:16.285Z"
   },
   {
    "duration": 224,
    "start_time": "2022-07-04T07:41:39.890Z"
   },
   {
    "duration": 290,
    "start_time": "2022-07-04T07:43:53.638Z"
   },
   {
    "duration": 182,
    "start_time": "2022-07-04T07:44:31.632Z"
   },
   {
    "duration": 224,
    "start_time": "2022-07-04T07:45:30.268Z"
   },
   {
    "duration": 267,
    "start_time": "2022-07-04T07:45:56.616Z"
   },
   {
    "duration": 362,
    "start_time": "2022-07-04T07:46:56.217Z"
   },
   {
    "duration": 1030,
    "start_time": "2022-07-04T07:47:31.142Z"
   },
   {
    "duration": 245,
    "start_time": "2022-07-04T07:47:39.755Z"
   },
   {
    "duration": 223,
    "start_time": "2022-07-04T07:47:54.428Z"
   },
   {
    "duration": 214,
    "start_time": "2022-07-04T07:48:10.456Z"
   },
   {
    "duration": 231,
    "start_time": "2022-07-04T07:48:50.434Z"
   },
   {
    "duration": 215,
    "start_time": "2022-07-04T07:49:34.547Z"
   },
   {
    "duration": 197,
    "start_time": "2022-07-04T07:49:53.328Z"
   },
   {
    "duration": 203,
    "start_time": "2022-07-04T07:50:19.716Z"
   },
   {
    "duration": 377,
    "start_time": "2022-07-04T07:50:36.427Z"
   },
   {
    "duration": 256,
    "start_time": "2022-07-04T07:50:50.442Z"
   },
   {
    "duration": 285,
    "start_time": "2022-07-04T07:51:52.145Z"
   },
   {
    "duration": 236,
    "start_time": "2022-07-04T07:54:24.703Z"
   },
   {
    "duration": 284,
    "start_time": "2022-07-04T07:55:11.214Z"
   },
   {
    "duration": 331,
    "start_time": "2022-07-04T07:55:37.201Z"
   },
   {
    "duration": 200,
    "start_time": "2022-07-04T07:56:06.639Z"
   },
   {
    "duration": 334,
    "start_time": "2022-07-04T07:56:45.209Z"
   },
   {
    "duration": 370,
    "start_time": "2022-07-04T07:57:51.356Z"
   },
   {
    "duration": 257,
    "start_time": "2022-07-04T07:58:46.677Z"
   },
   {
    "duration": 249,
    "start_time": "2022-07-04T08:00:49.550Z"
   },
   {
    "duration": 307,
    "start_time": "2022-07-04T08:01:05.578Z"
   },
   {
    "duration": 454,
    "start_time": "2022-07-04T08:01:23.612Z"
   },
   {
    "duration": 353,
    "start_time": "2022-07-04T08:02:04.240Z"
   },
   {
    "duration": 465,
    "start_time": "2022-07-04T08:02:52.453Z"
   },
   {
    "duration": 596,
    "start_time": "2022-07-04T08:03:37.182Z"
   },
   {
    "duration": 580,
    "start_time": "2022-07-04T08:04:12.208Z"
   },
   {
    "duration": 561,
    "start_time": "2022-07-04T08:04:17.152Z"
   },
   {
    "duration": 455,
    "start_time": "2022-07-04T08:04:20.960Z"
   },
   {
    "duration": 562,
    "start_time": "2022-07-04T08:04:25.891Z"
   },
   {
    "duration": 499,
    "start_time": "2022-07-04T08:05:27.048Z"
   },
   {
    "duration": 437,
    "start_time": "2022-07-04T08:05:42.606Z"
   },
   {
    "duration": 552,
    "start_time": "2022-07-04T08:05:50.508Z"
   },
   {
    "duration": 409,
    "start_time": "2022-07-04T08:05:57.679Z"
   },
   {
    "duration": 452,
    "start_time": "2022-07-04T08:06:02.763Z"
   },
   {
    "duration": 417,
    "start_time": "2022-07-04T08:06:28.259Z"
   },
   {
    "duration": 537,
    "start_time": "2022-07-04T08:06:42.250Z"
   },
   {
    "duration": 470,
    "start_time": "2022-07-04T08:06:53.934Z"
   },
   {
    "duration": 438,
    "start_time": "2022-07-04T08:07:01.957Z"
   },
   {
    "duration": 612,
    "start_time": "2022-07-04T08:07:10.678Z"
   },
   {
    "duration": 426,
    "start_time": "2022-07-04T08:07:29.360Z"
   },
   {
    "duration": 425,
    "start_time": "2022-07-04T08:07:35.397Z"
   },
   {
    "duration": 560,
    "start_time": "2022-07-04T08:07:54.882Z"
   },
   {
    "duration": 401,
    "start_time": "2022-07-04T08:08:28.471Z"
   },
   {
    "duration": 414,
    "start_time": "2022-07-04T08:08:38.298Z"
   },
   {
    "duration": 354,
    "start_time": "2022-07-04T08:09:46.591Z"
   },
   {
    "duration": 521,
    "start_time": "2022-07-04T08:09:52.482Z"
   },
   {
    "duration": 428,
    "start_time": "2022-07-04T08:11:02.798Z"
   },
   {
    "duration": 64,
    "start_time": "2022-07-04T08:11:32.217Z"
   },
   {
    "duration": 57,
    "start_time": "2022-07-04T08:11:36.991Z"
   },
   {
    "duration": 374,
    "start_time": "2022-07-04T08:11:41.767Z"
   },
   {
    "duration": 663,
    "start_time": "2022-07-04T08:16:00.918Z"
   },
   {
    "duration": 505,
    "start_time": "2022-07-04T08:16:08.991Z"
   },
   {
    "duration": 510,
    "start_time": "2022-07-04T08:16:33.027Z"
   },
   {
    "duration": 1502,
    "start_time": "2022-07-04T08:18:46.373Z"
   },
   {
    "duration": 1074,
    "start_time": "2022-07-04T08:19:15.057Z"
   },
   {
    "duration": 1111,
    "start_time": "2022-07-04T08:19:37.388Z"
   },
   {
    "duration": 1195,
    "start_time": "2022-07-04T08:20:04.092Z"
   },
   {
    "duration": 180,
    "start_time": "2022-07-04T08:20:24.920Z"
   },
   {
    "duration": 220,
    "start_time": "2022-07-04T08:20:38.844Z"
   },
   {
    "duration": 254,
    "start_time": "2022-07-04T08:21:01.545Z"
   },
   {
    "duration": 254,
    "start_time": "2022-07-04T08:21:17.890Z"
   },
   {
    "duration": 253,
    "start_time": "2022-07-04T08:21:56.940Z"
   },
   {
    "duration": 136,
    "start_time": "2022-07-04T08:30:17.330Z"
   },
   {
    "duration": 175,
    "start_time": "2022-07-04T08:31:04.253Z"
   },
   {
    "duration": 45,
    "start_time": "2022-07-04T08:37:56.107Z"
   },
   {
    "duration": 46,
    "start_time": "2022-07-04T08:38:11.785Z"
   },
   {
    "duration": 49,
    "start_time": "2022-07-04T08:38:21.820Z"
   },
   {
    "duration": 53,
    "start_time": "2022-07-04T08:38:32.279Z"
   },
   {
    "duration": 49,
    "start_time": "2022-07-04T08:39:47.976Z"
   },
   {
    "duration": 78,
    "start_time": "2022-07-04T08:40:04.587Z"
   },
   {
    "duration": 50,
    "start_time": "2022-07-04T08:40:13.255Z"
   },
   {
    "duration": 44,
    "start_time": "2022-07-04T08:40:19.889Z"
   },
   {
    "duration": 57,
    "start_time": "2022-07-04T08:41:19.212Z"
   },
   {
    "duration": 51,
    "start_time": "2022-07-04T08:41:31.764Z"
   },
   {
    "duration": 78,
    "start_time": "2022-07-04T08:41:44.963Z"
   },
   {
    "duration": 74,
    "start_time": "2022-07-04T08:42:03.776Z"
   },
   {
    "duration": 48,
    "start_time": "2022-07-04T08:42:37.520Z"
   },
   {
    "duration": 1193,
    "start_time": "2022-07-04T08:42:45.068Z"
   },
   {
    "duration": 14,
    "start_time": "2022-07-04T08:42:46.263Z"
   },
   {
    "duration": 3305,
    "start_time": "2022-07-04T08:42:46.278Z"
   },
   {
    "duration": 47,
    "start_time": "2022-07-04T08:42:49.584Z"
   },
   {
    "duration": 37,
    "start_time": "2022-07-04T08:42:49.632Z"
   },
   {
    "duration": 4,
    "start_time": "2022-07-04T08:42:49.671Z"
   },
   {
    "duration": 259,
    "start_time": "2022-07-04T08:42:49.676Z"
   },
   {
    "duration": 35,
    "start_time": "2022-07-04T08:42:49.937Z"
   },
   {
    "duration": 5,
    "start_time": "2022-07-04T08:42:49.975Z"
   },
   {
    "duration": 8,
    "start_time": "2022-07-04T08:42:49.982Z"
   },
   {
    "duration": 26,
    "start_time": "2022-07-04T08:42:49.991Z"
   },
   {
    "duration": 321,
    "start_time": "2022-07-04T08:42:50.019Z"
   },
   {
    "duration": 21,
    "start_time": "2022-07-04T08:42:50.342Z"
   },
   {
    "duration": 94,
    "start_time": "2022-07-04T08:42:50.366Z"
   },
   {
    "duration": 183,
    "start_time": "2022-07-04T08:42:50.462Z"
   },
   {
    "duration": 119,
    "start_time": "2022-07-04T08:42:50.647Z"
   },
   {
    "duration": 111,
    "start_time": "2022-07-04T08:42:50.768Z"
   },
   {
    "duration": 103,
    "start_time": "2022-07-04T08:42:50.881Z"
   },
   {
    "duration": 258,
    "start_time": "2022-07-04T08:42:50.987Z"
   },
   {
    "duration": 561,
    "start_time": "2022-07-04T08:42:51.246Z"
   },
   {
    "duration": 374,
    "start_time": "2022-07-04T08:42:51.808Z"
   },
   {
    "duration": 179,
    "start_time": "2022-07-04T08:42:52.184Z"
   },
   {
    "duration": 299,
    "start_time": "2022-07-04T08:42:52.365Z"
   },
   {
    "duration": 287,
    "start_time": "2022-07-04T08:42:52.666Z"
   },
   {
    "duration": 196,
    "start_time": "2022-07-04T08:42:52.958Z"
   },
   {
    "duration": 192,
    "start_time": "2022-07-04T08:42:53.158Z"
   },
   {
    "duration": 163,
    "start_time": "2022-07-04T08:42:53.352Z"
   },
   {
    "duration": 164,
    "start_time": "2022-07-04T08:42:53.517Z"
   },
   {
    "duration": 160,
    "start_time": "2022-07-04T08:42:53.683Z"
   },
   {
    "duration": 277,
    "start_time": "2022-07-04T08:42:53.845Z"
   },
   {
    "duration": 169,
    "start_time": "2022-07-04T08:42:54.124Z"
   },
   {
    "duration": 57,
    "start_time": "2022-07-04T08:42:54.294Z"
   },
   {
    "duration": 0,
    "start_time": "2022-07-04T08:42:54.352Z"
   },
   {
    "duration": 0,
    "start_time": "2022-07-04T08:42:54.353Z"
   },
   {
    "duration": 0,
    "start_time": "2022-07-04T08:42:54.354Z"
   },
   {
    "duration": 0,
    "start_time": "2022-07-04T08:42:54.355Z"
   },
   {
    "duration": 0,
    "start_time": "2022-07-04T08:42:54.357Z"
   },
   {
    "duration": 0,
    "start_time": "2022-07-04T08:42:54.358Z"
   },
   {
    "duration": 0,
    "start_time": "2022-07-04T08:42:54.359Z"
   },
   {
    "duration": 0,
    "start_time": "2022-07-04T08:42:54.360Z"
   },
   {
    "duration": 0,
    "start_time": "2022-07-04T08:42:54.361Z"
   },
   {
    "duration": 48,
    "start_time": "2022-07-04T08:43:29.728Z"
   },
   {
    "duration": 48,
    "start_time": "2022-07-04T08:43:50.645Z"
   },
   {
    "duration": 138,
    "start_time": "2022-07-04T08:45:19.244Z"
   },
   {
    "duration": 136,
    "start_time": "2022-07-04T08:45:30.948Z"
   },
   {
    "duration": 146,
    "start_time": "2022-07-04T08:45:34.918Z"
   },
   {
    "duration": 158,
    "start_time": "2022-07-04T08:45:37.529Z"
   },
   {
    "duration": 139,
    "start_time": "2022-07-04T08:45:50.093Z"
   },
   {
    "duration": 185,
    "start_time": "2022-07-04T08:45:52.948Z"
   },
   {
    "duration": 158,
    "start_time": "2022-07-04T08:47:31.369Z"
   },
   {
    "duration": 159,
    "start_time": "2022-07-04T08:49:23.638Z"
   },
   {
    "duration": 143,
    "start_time": "2022-07-04T08:49:31.242Z"
   },
   {
    "duration": 187,
    "start_time": "2022-07-04T08:50:40.040Z"
   },
   {
    "duration": 183,
    "start_time": "2022-07-04T08:51:55.128Z"
   },
   {
    "duration": 387,
    "start_time": "2022-07-04T08:53:51.872Z"
   },
   {
    "duration": 175,
    "start_time": "2022-07-04T08:54:01.962Z"
   },
   {
    "duration": 170,
    "start_time": "2022-07-04T08:55:12.911Z"
   },
   {
    "duration": 159,
    "start_time": "2022-07-04T08:55:16.259Z"
   },
   {
    "duration": 157,
    "start_time": "2022-07-04T08:55:20.078Z"
   },
   {
    "duration": 276,
    "start_time": "2022-07-04T08:55:56.453Z"
   },
   {
    "duration": 1057,
    "start_time": "2022-07-04T08:59:13.171Z"
   },
   {
    "duration": 356,
    "start_time": "2022-07-04T08:59:26.912Z"
   },
   {
    "duration": 348,
    "start_time": "2022-07-04T08:59:47.965Z"
   },
   {
    "duration": 296,
    "start_time": "2022-07-04T09:00:04.618Z"
   },
   {
    "duration": 1123,
    "start_time": "2022-07-04T09:00:17.653Z"
   },
   {
    "duration": 292,
    "start_time": "2022-07-04T09:00:29.979Z"
   },
   {
    "duration": 397,
    "start_time": "2022-07-04T09:01:18.085Z"
   },
   {
    "duration": 306,
    "start_time": "2022-07-04T09:03:42.807Z"
   },
   {
    "duration": 311,
    "start_time": "2022-07-04T09:07:47.155Z"
   },
   {
    "duration": 243,
    "start_time": "2022-07-04T09:14:58.040Z"
   },
   {
    "duration": 293,
    "start_time": "2022-07-04T09:15:45.901Z"
   },
   {
    "duration": 305,
    "start_time": "2022-07-04T09:16:41.542Z"
   },
   {
    "duration": 59,
    "start_time": "2022-07-04T09:16:55.692Z"
   },
   {
    "duration": 361,
    "start_time": "2022-07-04T09:17:02.611Z"
   },
   {
    "duration": 264,
    "start_time": "2022-07-04T09:17:13.809Z"
   },
   {
    "duration": 347,
    "start_time": "2022-07-04T09:17:27.457Z"
   },
   {
    "duration": 238,
    "start_time": "2022-07-04T09:20:12.669Z"
   },
   {
    "duration": 243,
    "start_time": "2022-07-04T09:21:03.940Z"
   },
   {
    "duration": 236,
    "start_time": "2022-07-04T09:21:16.600Z"
   },
   {
    "duration": 228,
    "start_time": "2022-07-04T09:21:27.034Z"
   },
   {
    "duration": 188,
    "start_time": "2022-07-04T09:22:03.342Z"
   },
   {
    "duration": 213,
    "start_time": "2022-07-04T09:22:54.576Z"
   },
   {
    "duration": 312,
    "start_time": "2022-07-04T09:23:46.857Z"
   },
   {
    "duration": 49,
    "start_time": "2022-07-04T09:25:10.882Z"
   },
   {
    "duration": 186,
    "start_time": "2022-07-04T09:25:21.818Z"
   },
   {
    "duration": 184,
    "start_time": "2022-07-04T09:25:37.951Z"
   },
   {
    "duration": 187,
    "start_time": "2022-07-04T09:25:51.532Z"
   },
   {
    "duration": 195,
    "start_time": "2022-07-04T09:26:20.566Z"
   },
   {
    "duration": 243,
    "start_time": "2022-07-04T09:26:37.940Z"
   },
   {
    "duration": 187,
    "start_time": "2022-07-04T09:26:47.065Z"
   },
   {
    "duration": 208,
    "start_time": "2022-07-04T09:27:59.395Z"
   },
   {
    "duration": 215,
    "start_time": "2022-07-04T09:28:12.187Z"
   },
   {
    "duration": 217,
    "start_time": "2022-07-04T09:28:31.415Z"
   },
   {
    "duration": 15,
    "start_time": "2022-07-04T09:29:48.270Z"
   },
   {
    "duration": 224,
    "start_time": "2022-07-04T09:29:58.360Z"
   },
   {
    "duration": 9,
    "start_time": "2022-07-04T09:32:03.974Z"
   },
   {
    "duration": 21,
    "start_time": "2022-07-04T09:32:07.977Z"
   },
   {
    "duration": 13,
    "start_time": "2022-07-04T09:32:10.199Z"
   },
   {
    "duration": 910,
    "start_time": "2022-07-04T09:34:54.106Z"
   },
   {
    "duration": 1000,
    "start_time": "2022-07-04T09:36:32.008Z"
   },
   {
    "duration": 282,
    "start_time": "2022-07-04T09:47:57.546Z"
   },
   {
    "duration": 258,
    "start_time": "2022-07-04T09:48:29.305Z"
   },
   {
    "duration": 259,
    "start_time": "2022-07-04T09:56:54.551Z"
   },
   {
    "duration": 14,
    "start_time": "2022-07-04T09:57:05.222Z"
   },
   {
    "duration": 22,
    "start_time": "2022-07-04T09:57:16.114Z"
   },
   {
    "duration": 15,
    "start_time": "2022-07-04T10:01:33.574Z"
   },
   {
    "duration": 10,
    "start_time": "2022-07-04T10:01:48.387Z"
   },
   {
    "duration": 4,
    "start_time": "2022-07-04T10:02:28.874Z"
   },
   {
    "duration": 10,
    "start_time": "2022-07-04T10:02:35.974Z"
   },
   {
    "duration": 1338,
    "start_time": "2022-07-04T10:03:55.442Z"
   },
   {
    "duration": 17,
    "start_time": "2022-07-04T10:03:56.783Z"
   },
   {
    "duration": 3550,
    "start_time": "2022-07-04T10:03:56.802Z"
   },
   {
    "duration": 45,
    "start_time": "2022-07-04T10:04:00.354Z"
   },
   {
    "duration": 24,
    "start_time": "2022-07-04T10:04:00.401Z"
   },
   {
    "duration": 5,
    "start_time": "2022-07-04T10:04:00.458Z"
   },
   {
    "duration": 326,
    "start_time": "2022-07-04T10:04:00.465Z"
   },
   {
    "duration": 29,
    "start_time": "2022-07-04T10:04:00.793Z"
   },
   {
    "duration": 23,
    "start_time": "2022-07-04T10:04:00.824Z"
   },
   {
    "duration": 18,
    "start_time": "2022-07-04T10:04:00.858Z"
   },
   {
    "duration": 58,
    "start_time": "2022-07-04T10:04:00.879Z"
   },
   {
    "duration": 336,
    "start_time": "2022-07-04T10:04:00.939Z"
   },
   {
    "duration": 20,
    "start_time": "2022-07-04T10:04:01.277Z"
   },
   {
    "duration": 122,
    "start_time": "2022-07-04T10:04:01.301Z"
   },
   {
    "duration": 211,
    "start_time": "2022-07-04T10:04:01.424Z"
   },
   {
    "duration": 184,
    "start_time": "2022-07-04T10:04:01.638Z"
   },
   {
    "duration": 110,
    "start_time": "2022-07-04T10:04:01.824Z"
   },
   {
    "duration": 135,
    "start_time": "2022-07-04T10:04:01.937Z"
   },
   {
    "duration": 344,
    "start_time": "2022-07-04T10:04:02.074Z"
   },
   {
    "duration": 756,
    "start_time": "2022-07-04T10:04:02.420Z"
   },
   {
    "duration": 461,
    "start_time": "2022-07-04T10:04:03.178Z"
   },
   {
    "duration": 305,
    "start_time": "2022-07-04T10:04:03.642Z"
   },
   {
    "duration": 946,
    "start_time": "2022-07-04T10:04:03.950Z"
   },
   {
    "duration": 394,
    "start_time": "2022-07-04T10:04:04.898Z"
   },
   {
    "duration": 180,
    "start_time": "2022-07-04T10:04:05.294Z"
   },
   {
    "duration": 209,
    "start_time": "2022-07-04T10:04:05.476Z"
   },
   {
    "duration": 179,
    "start_time": "2022-07-04T10:04:05.687Z"
   },
   {
    "duration": 211,
    "start_time": "2022-07-04T10:04:05.869Z"
   },
   {
    "duration": 243,
    "start_time": "2022-07-04T10:04:06.083Z"
   },
   {
    "duration": 182,
    "start_time": "2022-07-04T10:04:06.328Z"
   },
   {
    "duration": 161,
    "start_time": "2022-07-04T10:04:06.512Z"
   },
   {
    "duration": 28,
    "start_time": "2022-07-04T10:04:06.675Z"
   },
   {
    "duration": 14,
    "start_time": "2022-07-04T10:04:06.705Z"
   },
   {
    "duration": 192,
    "start_time": "2022-07-04T10:04:06.721Z"
   },
   {
    "duration": 183,
    "start_time": "2022-07-04T10:04:06.915Z"
   },
   {
    "duration": 206,
    "start_time": "2022-07-04T10:04:07.099Z"
   },
   {
    "duration": 238,
    "start_time": "2022-07-04T10:04:07.308Z"
   },
   {
    "duration": 364,
    "start_time": "2022-07-04T10:04:07.548Z"
   },
   {
    "duration": 418,
    "start_time": "2022-07-04T10:04:07.914Z"
   },
   {
    "duration": 294,
    "start_time": "2022-07-04T10:04:08.334Z"
   },
   {
    "duration": 185,
    "start_time": "2022-07-04T10:09:26.697Z"
   },
   {
    "duration": 580,
    "start_time": "2022-07-04T10:14:49.895Z"
   },
   {
    "duration": 10,
    "start_time": "2022-07-04T10:14:57.880Z"
   },
   {
    "duration": 488,
    "start_time": "2022-07-04T10:15:05.943Z"
   },
   {
    "duration": 12,
    "start_time": "2022-07-04T10:15:35.781Z"
   },
   {
    "duration": 38,
    "start_time": "2022-07-04T10:23:14.867Z"
   },
   {
    "duration": 21,
    "start_time": "2022-07-04T10:23:19.772Z"
   },
   {
    "duration": 42,
    "start_time": "2022-07-04T10:28:12.271Z"
   },
   {
    "duration": 1070,
    "start_time": "2022-07-04T10:29:35.679Z"
   },
   {
    "duration": 41,
    "start_time": "2022-07-04T10:29:50.319Z"
   },
   {
    "duration": 45,
    "start_time": "2022-07-04T10:30:44.019Z"
   },
   {
    "duration": 1335,
    "start_time": "2022-07-04T10:38:00.595Z"
   },
   {
    "duration": 37,
    "start_time": "2022-07-04T10:38:01.932Z"
   },
   {
    "duration": 3637,
    "start_time": "2022-07-04T10:38:01.971Z"
   },
   {
    "duration": 63,
    "start_time": "2022-07-04T10:38:05.610Z"
   },
   {
    "duration": 21,
    "start_time": "2022-07-04T10:38:05.680Z"
   },
   {
    "duration": 3,
    "start_time": "2022-07-04T10:38:05.703Z"
   },
   {
    "duration": 290,
    "start_time": "2022-07-04T10:38:05.708Z"
   },
   {
    "duration": 30,
    "start_time": "2022-07-04T10:38:06.000Z"
   },
   {
    "duration": 5,
    "start_time": "2022-07-04T10:38:06.031Z"
   },
   {
    "duration": 25,
    "start_time": "2022-07-04T10:38:06.037Z"
   },
   {
    "duration": 45,
    "start_time": "2022-07-04T10:38:06.067Z"
   },
   {
    "duration": 420,
    "start_time": "2022-07-04T10:38:06.115Z"
   },
   {
    "duration": 27,
    "start_time": "2022-07-04T10:38:06.537Z"
   },
   {
    "duration": 106,
    "start_time": "2022-07-04T10:38:06.567Z"
   },
   {
    "duration": 197,
    "start_time": "2022-07-04T10:38:06.675Z"
   },
   {
    "duration": 117,
    "start_time": "2022-07-04T10:38:06.876Z"
   },
   {
    "duration": 110,
    "start_time": "2022-07-04T10:38:06.995Z"
   },
   {
    "duration": 113,
    "start_time": "2022-07-04T10:38:07.107Z"
   },
   {
    "duration": 336,
    "start_time": "2022-07-04T10:38:07.222Z"
   },
   {
    "duration": 652,
    "start_time": "2022-07-04T10:38:07.560Z"
   },
   {
    "duration": 389,
    "start_time": "2022-07-04T10:38:08.214Z"
   },
   {
    "duration": 300,
    "start_time": "2022-07-04T10:38:08.605Z"
   },
   {
    "duration": 936,
    "start_time": "2022-07-04T10:38:08.907Z"
   },
   {
    "duration": 403,
    "start_time": "2022-07-04T10:38:09.844Z"
   },
   {
    "duration": 183,
    "start_time": "2022-07-04T10:38:10.249Z"
   },
   {
    "duration": 192,
    "start_time": "2022-07-04T10:38:10.434Z"
   },
   {
    "duration": 210,
    "start_time": "2022-07-04T10:38:10.627Z"
   },
   {
    "duration": 182,
    "start_time": "2022-07-04T10:38:10.839Z"
   },
   {
    "duration": 163,
    "start_time": "2022-07-04T10:38:11.023Z"
   },
   {
    "duration": 174,
    "start_time": "2022-07-04T10:38:11.188Z"
   },
   {
    "duration": 199,
    "start_time": "2022-07-04T10:38:11.364Z"
   },
   {
    "duration": 28,
    "start_time": "2022-07-04T10:38:11.567Z"
   },
   {
    "duration": 27,
    "start_time": "2022-07-04T10:38:11.596Z"
   },
   {
    "duration": 221,
    "start_time": "2022-07-04T10:38:11.625Z"
   },
   {
    "duration": 178,
    "start_time": "2022-07-04T10:38:11.847Z"
   },
   {
    "duration": 159,
    "start_time": "2022-07-04T10:38:12.027Z"
   },
   {
    "duration": 178,
    "start_time": "2022-07-04T10:38:12.188Z"
   },
   {
    "duration": 306,
    "start_time": "2022-07-04T10:38:12.374Z"
   },
   {
    "duration": 509,
    "start_time": "2022-07-04T10:38:12.681Z"
   },
   {
    "duration": 308,
    "start_time": "2022-07-04T10:38:13.191Z"
   },
   {
    "duration": 3183,
    "start_time": "2022-07-04T10:40:23.077Z"
   },
   {
    "duration": 2683,
    "start_time": "2022-07-04T10:40:39.031Z"
   }
  ],
  "celltoolbar": "Отсутствует",
  "colab": {
   "name": "final_project_4.ipynb",
   "provenance": []
  },
  "kernelspec": {
   "display_name": "Python 3 (ipykernel)",
   "language": "python",
   "name": "python3"
  },
  "language_info": {
   "codemirror_mode": {
    "name": "ipython",
    "version": 3
   },
   "file_extension": ".py",
   "mimetype": "text/x-python",
   "name": "python",
   "nbconvert_exporter": "python",
   "pygments_lexer": "ipython3",
   "version": "3.9.12"
  },
  "toc": {
   "base_numbering": 1,
   "nav_menu": {},
   "number_sections": true,
   "sideBar": true,
   "skip_h1_title": true,
   "title_cell": "Содержание",
   "title_sidebar": "Contents",
   "toc_cell": true,
   "toc_position": {
    "height": "calc(100% - 180px)",
    "left": "10px",
    "top": "150px",
    "width": "165px"
   },
   "toc_section_display": true,
   "toc_window_display": true
  }
 },
 "nbformat": 4,
 "nbformat_minor": 1
}
