{
 "cells": [
  {
   "cell_type": "markdown",
   "metadata": {},
   "source": [
    "# Проект: Защита персональных данных клиентов\n",
    "**Dataset Description:**\n",
    "\n",
    "   В этом проекте нам нужно защитить данные клиентов страховой компании «Хоть потоп». Разработать такой метод преобразования данных, чтобы по ним было сложно восстановить персональную информацию. Обосновать корректность его работы.\n",
    "\n",
    "Нужно защитить данные, чтобы при преобразовании качество моделей машинного обучения не ухудшилось.\n",
    "\n",
    "**Данные:**\n",
    "\n",
    " * `insurance.csv` - персональные данные клиентов страховой компании «Хоть потоп».\n",
    " \n",
    "**Описание полей данных:**\n",
    "\n",
    " * `Пол` - пол клиента.\n",
    " * `Возраст` - возраст.\n",
    " * `Зарплата` - среднемесячная запрлата.\n",
    " * `Члены семьи\t` - количество членов семьи.\n",
    " * `Страховые выплаты` - целевой признак, количество страховых выплат клиенту за последние 5 лет..\n",
    " \n",
    "**Цели:**\n",
    " \n",
    " * Разработка метода преобразования персональных данных клиентов компании при которов не изменяется качество моделей машинного обучения.\n",
    " * Ответ на вопрос: Признаки умножают на обратимую матрицу. Изменится ли качество линейной регрессии?\n",
    " * Проверка метрики `R2` модели машинного обучения на исходных данных и на данных после преобразования.\n",
    " \n",
    "**Структура проекта:**\n",
    " \n",
    "<div class=\"toc\"><ul class=\"toc-item\"><li><span><a href=\"#Загрузка-данных\" data-toc-modified-id=\"Загрузка-данных-1\"><span class=\"toc-item-num\">1&nbsp;&nbsp;</span>Загрузка данных</a></span></li><li><span><a href=\"#Умножение-матриц\" data-toc-modified-id=\"Умножение-матриц-2\"><span class=\"toc-item-num\">2&nbsp;&nbsp;</span>Умножение матриц</a></span></li><li><span><a href=\"#Алгоритм-преобразования\" data-toc-modified-id=\"Алгоритм-преобразования-3\"><span class=\"toc-item-num\">3&nbsp;&nbsp;</span>Алгоритм преобразования</a></span></li><li><span><a href=\"#Проверка-алгоритма\" data-toc-modified-id=\"Проверка-алгоритма-4\"><span class=\"toc-item-num\">4&nbsp;&nbsp;</span>Проверка алгоритма</a></span></li><li><span><a href=\"#Вывод\" data-toc-modified-id=\"Вывод-5\"><span class=\"toc-item-num\">5&nbsp;&nbsp;</span>Вывод</a></span></li><li><span></a></span></li></ul></div>\n",
    " \n",
    "**Предмет исследования:**\n",
    "\n",
    "Персональные данные клиентов страховой компании «Хоть потоп»\n",
    "\n",
    "**Методы:** которые мы применим в данном исследовании включают в себя: \n",
    "* Загрузка и ознакомление с данными\n",
    "* Matrix\n",
    "* Machine learning\n",
    "\n",
    "**Используемые библитеки:** \n",
    "* Scikit-learn\n",
    "* Numpy\n",
    "* Pandas"
   ]
  },
  {
   "cell_type": "markdown",
   "metadata": {},
   "source": [
    "## Загрузка данных"
   ]
  },
  {
   "cell_type": "code",
   "execution_count": 18,
   "metadata": {},
   "outputs": [],
   "source": [
    "import pandas as pd\n",
    "import numpy as np\n",
    "from sklearn.linear_model import LinearRegression\n",
    "from sklearn.metrics import r2_score\n",
    "from sklearn.model_selection import train_test_split\n",
    "from numpy import linalg\n",
    "\n",
    "RANDOM_SEED = 1234"
   ]
  },
  {
   "cell_type": "markdown",
   "metadata": {},
   "source": [
    "Загрузим данные"
   ]
  },
  {
   "cell_type": "code",
   "execution_count": 3,
   "metadata": {},
   "outputs": [],
   "source": [
    "df = pd.read_csv('/datasets/insurance.csv')"
   ]
  },
  {
   "cell_type": "code",
   "execution_count": 4,
   "metadata": {},
   "outputs": [
    {
     "name": "stdout",
     "output_type": "stream",
     "text": [
      "<class 'pandas.core.frame.DataFrame'>\n",
      "RangeIndex: 5000 entries, 0 to 4999\n",
      "Data columns (total 5 columns):\n",
      " #   Column             Non-Null Count  Dtype  \n",
      "---  ------             --------------  -----  \n",
      " 0   Пол                5000 non-null   int64  \n",
      " 1   Возраст            5000 non-null   float64\n",
      " 2   Зарплата           5000 non-null   float64\n",
      " 3   Члены семьи        5000 non-null   int64  \n",
      " 4   Страховые выплаты  5000 non-null   int64  \n",
      "dtypes: float64(2), int64(3)\n",
      "memory usage: 195.4 KB\n"
     ]
    }
   ],
   "source": [
    "df.info()"
   ]
  },
  {
   "cell_type": "markdown",
   "metadata": {},
   "source": [
    "Ознакомимся с первыми пятью строками датасета"
   ]
  },
  {
   "cell_type": "code",
   "execution_count": 5,
   "metadata": {},
   "outputs": [
    {
     "data": {
      "text/html": [
       "<div>\n",
       "<style scoped>\n",
       "    .dataframe tbody tr th:only-of-type {\n",
       "        vertical-align: middle;\n",
       "    }\n",
       "\n",
       "    .dataframe tbody tr th {\n",
       "        vertical-align: top;\n",
       "    }\n",
       "\n",
       "    .dataframe thead th {\n",
       "        text-align: right;\n",
       "    }\n",
       "</style>\n",
       "<table border=\"1\" class=\"dataframe\">\n",
       "  <thead>\n",
       "    <tr style=\"text-align: right;\">\n",
       "      <th></th>\n",
       "      <th>Пол</th>\n",
       "      <th>Возраст</th>\n",
       "      <th>Зарплата</th>\n",
       "      <th>Члены семьи</th>\n",
       "      <th>Страховые выплаты</th>\n",
       "    </tr>\n",
       "  </thead>\n",
       "  <tbody>\n",
       "    <tr>\n",
       "      <th>0</th>\n",
       "      <td>1</td>\n",
       "      <td>41.0</td>\n",
       "      <td>49600.0</td>\n",
       "      <td>1</td>\n",
       "      <td>0</td>\n",
       "    </tr>\n",
       "    <tr>\n",
       "      <th>1</th>\n",
       "      <td>0</td>\n",
       "      <td>46.0</td>\n",
       "      <td>38000.0</td>\n",
       "      <td>1</td>\n",
       "      <td>1</td>\n",
       "    </tr>\n",
       "    <tr>\n",
       "      <th>2</th>\n",
       "      <td>0</td>\n",
       "      <td>29.0</td>\n",
       "      <td>21000.0</td>\n",
       "      <td>0</td>\n",
       "      <td>0</td>\n",
       "    </tr>\n",
       "    <tr>\n",
       "      <th>3</th>\n",
       "      <td>0</td>\n",
       "      <td>21.0</td>\n",
       "      <td>41700.0</td>\n",
       "      <td>2</td>\n",
       "      <td>0</td>\n",
       "    </tr>\n",
       "    <tr>\n",
       "      <th>4</th>\n",
       "      <td>1</td>\n",
       "      <td>28.0</td>\n",
       "      <td>26100.0</td>\n",
       "      <td>0</td>\n",
       "      <td>0</td>\n",
       "    </tr>\n",
       "  </tbody>\n",
       "</table>\n",
       "</div>"
      ],
      "text/plain": [
       "   Пол  Возраст  Зарплата  Члены семьи  Страховые выплаты\n",
       "0    1     41.0   49600.0            1                  0\n",
       "1    0     46.0   38000.0            1                  1\n",
       "2    0     29.0   21000.0            0                  0\n",
       "3    0     21.0   41700.0            2                  0\n",
       "4    1     28.0   26100.0            0                  0"
      ]
     },
     "execution_count": 5,
     "metadata": {},
     "output_type": "execute_result"
    }
   ],
   "source": [
    "df.head()"
   ]
  },
  {
   "cell_type": "markdown",
   "metadata": {},
   "source": [
    "Размеры датасета"
   ]
  },
  {
   "cell_type": "code",
   "execution_count": 6,
   "metadata": {},
   "outputs": [
    {
     "data": {
      "text/plain": [
       "(5000, 5)"
      ]
     },
     "execution_count": 6,
     "metadata": {},
     "output_type": "execute_result"
    }
   ],
   "source": [
    "df.shape"
   ]
  },
  {
   "cell_type": "markdown",
   "metadata": {},
   "source": [
    "Пропущенных значений не обнаруженно"
   ]
  },
  {
   "cell_type": "code",
   "execution_count": 7,
   "metadata": {},
   "outputs": [
    {
     "data": {
      "text/plain": [
       "Пол                  0\n",
       "Возраст              0\n",
       "Зарплата             0\n",
       "Члены семьи          0\n",
       "Страховые выплаты    0\n",
       "dtype: int64"
      ]
     },
     "execution_count": 7,
     "metadata": {},
     "output_type": "execute_result"
    }
   ],
   "source": [
    "df.isnull().sum()"
   ]
  },
  {
   "cell_type": "markdown",
   "metadata": {},
   "source": [
    "Мы обнаружили повторяющиеся строки, считаю что задача этого проекта не подразумивает удаление дубликатов, оставляем все как есть. В реальной ситуации, мы проконсультировались бы с ответсвенным за выгрузку данных."
   ]
  },
  {
   "cell_type": "code",
   "execution_count": 8,
   "metadata": {},
   "outputs": [
    {
     "data": {
      "text/html": [
       "<div>\n",
       "<style scoped>\n",
       "    .dataframe tbody tr th:only-of-type {\n",
       "        vertical-align: middle;\n",
       "    }\n",
       "\n",
       "    .dataframe tbody tr th {\n",
       "        vertical-align: top;\n",
       "    }\n",
       "\n",
       "    .dataframe thead th {\n",
       "        text-align: right;\n",
       "    }\n",
       "</style>\n",
       "<table border=\"1\" class=\"dataframe\">\n",
       "  <thead>\n",
       "    <tr style=\"text-align: right;\">\n",
       "      <th></th>\n",
       "      <th>Пол</th>\n",
       "      <th>Возраст</th>\n",
       "      <th>Зарплата</th>\n",
       "      <th>Члены семьи</th>\n",
       "      <th>Страховые выплаты</th>\n",
       "    </tr>\n",
       "  </thead>\n",
       "  <tbody>\n",
       "    <tr>\n",
       "      <th>2955</th>\n",
       "      <td>1</td>\n",
       "      <td>32.0</td>\n",
       "      <td>21600.0</td>\n",
       "      <td>0</td>\n",
       "      <td>0</td>\n",
       "    </tr>\n",
       "    <tr>\n",
       "      <th>2988</th>\n",
       "      <td>1</td>\n",
       "      <td>32.0</td>\n",
       "      <td>21600.0</td>\n",
       "      <td>0</td>\n",
       "      <td>0</td>\n",
       "    </tr>\n",
       "    <tr>\n",
       "      <th>361</th>\n",
       "      <td>0</td>\n",
       "      <td>50.0</td>\n",
       "      <td>24700.0</td>\n",
       "      <td>1</td>\n",
       "      <td>2</td>\n",
       "    </tr>\n",
       "    <tr>\n",
       "      <th>2869</th>\n",
       "      <td>0</td>\n",
       "      <td>50.0</td>\n",
       "      <td>24700.0</td>\n",
       "      <td>1</td>\n",
       "      <td>2</td>\n",
       "    </tr>\n",
       "    <tr>\n",
       "      <th>333</th>\n",
       "      <td>0</td>\n",
       "      <td>32.0</td>\n",
       "      <td>25600.0</td>\n",
       "      <td>1</td>\n",
       "      <td>0</td>\n",
       "    </tr>\n",
       "    <tr>\n",
       "      <th>4230</th>\n",
       "      <td>0</td>\n",
       "      <td>32.0</td>\n",
       "      <td>25600.0</td>\n",
       "      <td>1</td>\n",
       "      <td>0</td>\n",
       "    </tr>\n",
       "    <tr>\n",
       "      <th>1378</th>\n",
       "      <td>0</td>\n",
       "      <td>36.0</td>\n",
       "      <td>26400.0</td>\n",
       "      <td>0</td>\n",
       "      <td>0</td>\n",
       "    </tr>\n",
       "    <tr>\n",
       "      <th>2723</th>\n",
       "      <td>0</td>\n",
       "      <td>36.0</td>\n",
       "      <td>26400.0</td>\n",
       "      <td>0</td>\n",
       "      <td>0</td>\n",
       "    </tr>\n",
       "    <tr>\n",
       "      <th>1002</th>\n",
       "      <td>1</td>\n",
       "      <td>34.0</td>\n",
       "      <td>26900.0</td>\n",
       "      <td>0</td>\n",
       "      <td>0</td>\n",
       "    </tr>\n",
       "    <tr>\n",
       "      <th>1140</th>\n",
       "      <td>1</td>\n",
       "      <td>34.0</td>\n",
       "      <td>26900.0</td>\n",
       "      <td>0</td>\n",
       "      <td>0</td>\n",
       "    </tr>\n",
       "  </tbody>\n",
       "</table>\n",
       "</div>"
      ],
      "text/plain": [
       "      Пол  Возраст  Зарплата  Члены семьи  Страховые выплаты\n",
       "2955    1     32.0   21600.0            0                  0\n",
       "2988    1     32.0   21600.0            0                  0\n",
       "361     0     50.0   24700.0            1                  2\n",
       "2869    0     50.0   24700.0            1                  2\n",
       "333     0     32.0   25600.0            1                  0\n",
       "4230    0     32.0   25600.0            1                  0\n",
       "1378    0     36.0   26400.0            0                  0\n",
       "2723    0     36.0   26400.0            0                  0\n",
       "1002    1     34.0   26900.0            0                  0\n",
       "1140    1     34.0   26900.0            0                  0"
      ]
     },
     "execution_count": 8,
     "metadata": {},
     "output_type": "execute_result"
    }
   ],
   "source": [
    "df.loc[df.duplicated(keep=False)].sort_values(by='Зарплата').head(10)"
   ]
  },
  {
   "cell_type": "markdown",
   "metadata": {},
   "source": [
    "Посмотрим на типы данных в столбцах датасета:"
   ]
  },
  {
   "cell_type": "code",
   "execution_count": 9,
   "metadata": {},
   "outputs": [
    {
     "data": {
      "text/plain": [
       "Пол                    int64\n",
       "Возраст              float64\n",
       "Зарплата             float64\n",
       "Члены семьи            int64\n",
       "Страховые выплаты      int64\n",
       "dtype: object"
      ]
     },
     "execution_count": 9,
     "metadata": {},
     "output_type": "execute_result"
    }
   ],
   "source": [
    "df.dtypes"
   ]
  },
  {
   "cell_type": "code",
   "execution_count": 10,
   "metadata": {},
   "outputs": [
    {
     "data": {
      "text/plain": [
       "array([41., 46., 29., 21., 28., 43., 39., 25., 36., 32., 38., 23., 40.,\n",
       "       34., 26., 42., 27., 33., 47., 30., 19., 31., 22., 20., 24., 18.,\n",
       "       37., 48., 45., 44., 52., 49., 35., 56., 65., 55., 57., 54., 50.,\n",
       "       53., 51., 58., 59., 60., 61., 62.])"
      ]
     },
     "execution_count": 10,
     "metadata": {},
     "output_type": "execute_result"
    }
   ],
   "source": [
    "df['Возраст'].unique()"
   ]
  },
  {
   "cell_type": "code",
   "execution_count": 11,
   "metadata": {},
   "outputs": [
    {
     "data": {
      "text/plain": [
       "array([49600., 38000., 21000., 41700., 26100., 41000., 39700., 38600.,\n",
       "       49700., 51700., 36600., 29300., 39500., 55000., 43700., 23300.,\n",
       "       48900., 33200., 36900., 43500., 36100., 26600., 48700., 40400.,\n",
       "       38400., 34600., 34800., 36800., 42200., 46300.])"
      ]
     },
     "execution_count": 11,
     "metadata": {},
     "output_type": "execute_result"
    }
   ],
   "source": [
    "df['Зарплата'].unique()[:30]"
   ]
  },
  {
   "cell_type": "markdown",
   "metadata": {},
   "source": [
    "Преобразуем данные в столбцах `Возраст` и `Зарплата` в тип `int`, диапазоны данных и их точность позволяют нам это сделать"
   ]
  },
  {
   "cell_type": "code",
   "execution_count": 12,
   "metadata": {},
   "outputs": [],
   "source": [
    "int_col = ['Возраст', 'Зарплата']\n",
    "df[int_col] = df[int_col].astype('int')"
   ]
  },
  {
   "cell_type": "code",
   "execution_count": 13,
   "metadata": {},
   "outputs": [
    {
     "data": {
      "text/plain": [
       "Пол                  int64\n",
       "Возраст              int64\n",
       "Зарплата             int64\n",
       "Члены семьи          int64\n",
       "Страховые выплаты    int64\n",
       "dtype: object"
      ]
     },
     "execution_count": 13,
     "metadata": {},
     "output_type": "execute_result"
    }
   ],
   "source": [
    "df.dtypes"
   ]
  },
  {
   "cell_type": "markdown",
   "metadata": {},
   "source": [
    "## Умножение матриц"
   ]
  },
  {
   "cell_type": "markdown",
   "metadata": {},
   "source": [
    "Обозначения:\n",
    "\n",
    "- $X$ — матрица признаков (нулевой столбец состоит из единиц)\n",
    "\n",
    "- $y$ — вектор целевого признака\n",
    "\n",
    "- $P$ — матрица, на которую умножаются признаки\n",
    "\n",
    "- $w$ — вектор весов линейной регрессии (нулевой элемент равен сдвигу)"
   ]
  },
  {
   "cell_type": "markdown",
   "metadata": {},
   "source": [
    "Предсказания:\n",
    "\n",
    "$$\n",
    "a = Xw\n",
    "$$\n",
    "\n",
    "Задача обучения:\n",
    "\n",
    "$$\n",
    "w = \\arg\\min_w MSE(Xw, y)\n",
    "$$\n",
    "\n",
    "Формула обучения:\n",
    "\n",
    "$$\n",
    "w = (X^T X)^{-1} X^T y\n",
    "$$"
   ]
  },
  {
   "cell_type": "code",
   "execution_count": null,
   "metadata": {},
   "outputs": [],
   "source": []
  },
  {
   "cell_type": "markdown",
   "metadata": {},
   "source": [
    "**Вопрос:** Признаки умножают на обратимую матрицу. Изменится ли качество линейной регрессии?\n",
    "\n",
    "**Ответ:** При умножении матрицы признаков на обратимую матрицу качество линейной регрессии не измениться.\n",
    "\n",
    "**Обоснование:** \n",
    "\n",
    "Пусть $Z$ это матрица признаков $X$ умноженная на обратимую матрицу $P$:\n",
    "\n",
    "$$Z = XP$$\n",
    "\n",
    "тогда предсказание:\n",
    "\n",
    "$$\n",
    "a_1=Zw_1\n",
    "$$\n",
    "\n",
    "задача обучения:\n",
    "\n",
    "$$\n",
    "w_1 = \\arg\\min_w MSE(Zw_1, y)\n",
    "$$\n",
    "\n",
    "формула обучения:\n",
    "\n",
    "$$\n",
    "w_1 = (Z^T Z)^{-1} Z^T y\n",
    "$$\n",
    "\n",
    "\n",
    "т.к $Z = XP$ подставим в правую часть уравнения XP вместо Z:\n",
    "\n",
    "$$\n",
    "w_1 = ((XP)^T XP)^{-1} (XP)^T y\n",
    "$$\n",
    "\n",
    "руководствуясь тем что $(AB)^{-1} = B^{-1}A^{-1}$ раскроем первое $(XP)^T$\n",
    "\n",
    "$$\n",
    "w_1 = (P^{T}X^{T}XP)^{-1}(XP)^{T} y\n",
    "$$\n",
    "\n",
    "\n",
    "раскроем $(XP)^T y$\n",
    "\n",
    "$$\n",
    "w_1 = (P^{T}X^{T}XP)^{-1}(P)^TX^{T} y\n",
    "$$\n",
    "\n",
    "\n",
    "перегруппируем множители в скобках\n",
    "\n",
    " $$w1 = (P^{T}(X^{T}X)P)^{-1}P^{T}X^{T} y$$\n",
    "\n",
    "раскроем скобки в $(P^{T}(X^{T}X)P)^{-1}$\n",
    "\n",
    "\n",
    "$$\n",
    "w_1 = P^{-1}(X^{T}X)^{-1}(P^{T})^{-1}P^{T}X^{T} y\n",
    "$$\n",
    "\n",
    "т.к. матрица $P$ по условию обратимая то $P^{T}(P^{T})^{-1} = E$\n",
    "\n",
    "$$\n",
    "w_1 = P^{-1}(X^{T}X)^{-1}EX^{T} y\n",
    "$$\n",
    "\n",
    "$$\n",
    "w_1 = P^{-1}(X^{T}X)^{-1}X^{T} y\n",
    "$$\n",
    "\n",
    "$$\n",
    "w_1 = P^{-1}w\n",
    "$$\n",
    "\n",
    "предсказание по условию равно\n",
    "\n",
    "$$\n",
    "a_1=Zw_1\n",
    "$$\n",
    "\n",
    "тогда\n",
    "\n",
    "$$\n",
    "a_1=XPP^{-1}w\n",
    "$$\n",
    "\n",
    "сокращаем\n",
    "\n",
    "$$\n",
    "a_1 = Xw = a\n",
    "$$\n",
    "\n"
   ]
  },
  {
   "cell_type": "markdown",
   "metadata": {},
   "source": [
    "Проверим измениться ли качество линейной регрессии при умножении матрицы признаков на обратимую матрицу"
   ]
  },
  {
   "cell_type": "code",
   "execution_count": 36,
   "metadata": {},
   "outputs": [],
   "source": [
    "np.random.seed(RANDOM_SEED)\n",
    "\n",
    "features = df.drop('Страховые выплаты', axis=1).values\n",
    "y = df['Страховые выплаты']\n",
    "X = np.concatenate((np.ones((features.shape[0], 1)), features), axis=1)\n",
    "n = X.shape[1]\n",
    "P = np.random.normal(1, 5.5, (n, n))"
   ]
  },
  {
   "cell_type": "code",
   "execution_count": 38,
   "metadata": {},
   "outputs": [
    {
     "name": "stdout",
     "output_type": "stream",
     "text": [
      "Детерминант матрицы P = 76688.75261111304\n",
      "P_inv матрица: [[ 0.04064709  0.16747412 -0.00197484 -0.09721511  0.15602548]\n",
      " [-0.08985288 -0.05140661  0.07233381  0.09286481 -0.01104701]\n",
      " [ 0.02891719 -0.09860671  0.05134667  0.09477012 -0.03363272]\n",
      " [-0.00745966  0.0278464  -0.02424139  0.04898473  0.077699  ]\n",
      " [-0.0314162  -0.00290636  0.02187536 -0.01971421  0.09021618]]\n"
     ]
    }
   ],
   "source": [
    "determinant = linalg.det(P)\n",
    "print(f'Детерминант матрицы P = {determinant}')\n",
    "P_inv = np.linalg.inv(P)\n",
    "print(f'P_inv матрица: {P_inv}')"
   ]
  },
  {
   "cell_type": "markdown",
   "metadata": {},
   "source": [
    "Базовая модель обученная на матрице признаков без преобразования"
   ]
  },
  {
   "cell_type": "code",
   "execution_count": 39,
   "metadata": {},
   "outputs": [
    {
     "name": "stdout",
     "output_type": "stream",
     "text": [
      "Точность модели до умножения матрицы признаков на обратимую матрицу составила: 0.42494550308169177\n",
      "[ 0.00000000e+00  7.92580563e-03  3.57083050e-02 -1.70081903e-07\n",
      " -1.35676627e-02]\n"
     ]
    }
   ],
   "source": [
    "model = LinearRegression()\n",
    "\n",
    "model.fit(X, y)\n",
    "score = r2_score(y, model.predict(X))\n",
    "\n",
    "print(f'Точность модели до умножения матрицы признаков на обратимую матрицу составила: {score}')\n",
    "coef1 = model. coef_\n",
    "print(model. coef_)"
   ]
  },
  {
   "cell_type": "markdown",
   "metadata": {},
   "source": [
    "Модель обученная на матрице признаков умноженных на целое число"
   ]
  },
  {
   "cell_type": "code",
   "execution_count": 40,
   "metadata": {},
   "outputs": [
    {
     "name": "stdout",
     "output_type": "stream",
     "text": [
      "Точность модели после умножения матрицы признаков на целое число: 0.42494550308169177\n",
      "[ 0.00000000e+00  3.96290282e-03  1.78541525e-02 -8.50409514e-08\n",
      " -6.78383135e-03]\n"
     ]
    }
   ],
   "source": [
    "model.fit(X*2, y)\n",
    "score = r2_score(y, model.predict(X*2))\n",
    "\n",
    "print(f'Точность модели после умножения матрицы признаков на целое число: {score}')\n",
    "coef3 = model. coef_\n",
    "print(model. coef_)"
   ]
  },
  {
   "cell_type": "markdown",
   "metadata": {},
   "source": [
    "На вид явная линейная зависимость в изменяется коэффициетах регресии модели"
   ]
  },
  {
   "cell_type": "code",
   "execution_count": 41,
   "metadata": {},
   "outputs": [
    {
     "name": "stderr",
     "output_type": "stream",
     "text": [
      "/tmp/ipykernel_31/676100693.py:1: RuntimeWarning: invalid value encountered in true_divide\n",
      "  coef1/coef3\n"
     ]
    },
    {
     "data": {
      "text/plain": [
       "array([nan,  2.,  2.,  2.,  2.])"
      ]
     },
     "execution_count": 41,
     "metadata": {},
     "output_type": "execute_result"
    }
   ],
   "source": [
    "coef1/coef3"
   ]
  },
  {
   "cell_type": "markdown",
   "metadata": {},
   "source": [
    "Модель обученная на матрице признаков умноженных на обратимую матрицу"
   ]
  },
  {
   "cell_type": "code",
   "execution_count": 42,
   "metadata": {},
   "outputs": [
    {
     "name": "stdout",
     "output_type": "stream",
     "text": [
      "Точность модели после умножения матрицы признаков на обратимую матрицу составила: 0.4249451457251834\n",
      "[-4947314.68696796 10936341.65052025 -3519623.12498367   907944.35763356\n",
      "  3823787.16459736]\n"
     ]
    }
   ],
   "source": [
    "Z = X @ P\n",
    "\n",
    "model.fit(Z, y)\n",
    "score = r2_score(y, model.predict(Z))\n",
    "\n",
    "print(f'Точность модели после умножения матрицы признаков на обратимую матрицу составила: {score}')\n",
    "print(model. coef_)\n",
    "coef2 = model. coef_"
   ]
  },
  {
   "cell_type": "markdown",
   "metadata": {},
   "source": [
    "Мы не онаружили линейной зависимости между коэфициентами регрессии модели"
   ]
  },
  {
   "cell_type": "code",
   "execution_count": 43,
   "metadata": {},
   "outputs": [
    {
     "data": {
      "text/plain": [
       "array([-0.00000000e+00,  7.24721839e-10, -1.01454911e-08, -1.87326350e-13,\n",
       "       -3.54822643e-09])"
      ]
     },
     "execution_count": 43,
     "metadata": {},
     "output_type": "execute_result"
    }
   ],
   "source": [
    "coef1/coef2"
   ]
  },
  {
   "cell_type": "markdown",
   "metadata": {},
   "source": [
    "Вывод: При умножении матрицы признаков на обратимую матрицу качество линейной регрессии не изменяется, изменяется коэффициеты регресии модели - это говорит нам о том что между первоначальными данными и данными после преобразования отсутвует линейная зависимость."
   ]
  },
  {
   "cell_type": "markdown",
   "metadata": {},
   "source": [
    "## Алгоритм преобразования"
   ]
  },
  {
   "cell_type": "markdown",
   "metadata": {},
   "source": [
    "**Алгоритм**\n",
    "\n",
    "Для защиты персональных данных клиентов страховой компании «Хоть потоп» будем использовать метод умножения матрицы признаков на обратимую случайно сгенерированную матрицу `P` размерностью матрицы `X.shape[1] на X.shape[1]` Удобство этого метода в том что после преобразования данные нелинейно изменяются и восстановить первоначальные данные можно умножив на обратную матрицу преобразования."
   ]
  },
  {
   "cell_type": "markdown",
   "metadata": {},
   "source": [
    "**Обоснование**\n",
    "\n",
    "Обозначения:\n",
    "\n",
    "- $X$ — матрица признаков\n",
    "- $P$ — обратимая матрица размерностью `X.shape[1]` на `X.shape[1]`\n",
    "\n",
    "Докажем что первоначальная матрица признаков $Х$ равна произведению матрицы признаков $Х$ на обратимую матрицу $P$ и на обратную матрицу $P^{-1}$:\n",
    "\n",
    "$$\n",
    "X = XPP^{-1}\n",
    "$$\n",
    "\n",
    " Произведение обратимой матрицы на обратную к ней равно единичной матрице\n",
    "\n",
    "$$\n",
    "AB = BA = E\n",
    "$$\n",
    "\n",
    "$PP^{-1}$ можем заменить на $E$\n",
    "\n",
    "$$\n",
    "X = X(PP^{-1})\n",
    "$$\n",
    "\n",
    "Тогда\n",
    "\n",
    "$$\n",
    "X = XE\n",
    "$$\n",
    "\n",
    "В итоге\n",
    "\n",
    "$$\n",
    "X = X\n",
    "$$"
   ]
  },
  {
   "cell_type": "code",
   "execution_count": 44,
   "metadata": {},
   "outputs": [],
   "source": [
    "features = df.drop('Страховые выплаты', axis=1)\n",
    "X = features\n",
    "n = X.shape[1]\n",
    "y = df['Страховые выплаты']\n",
    "P = np.random.randint(1, 10, (n,n))"
   ]
  },
  {
   "cell_type": "markdown",
   "metadata": {},
   "source": [
    "Первоначальные данные:"
   ]
  },
  {
   "cell_type": "code",
   "execution_count": 45,
   "metadata": {},
   "outputs": [
    {
     "data": {
      "text/html": [
       "<div>\n",
       "<style scoped>\n",
       "    .dataframe tbody tr th:only-of-type {\n",
       "        vertical-align: middle;\n",
       "    }\n",
       "\n",
       "    .dataframe tbody tr th {\n",
       "        vertical-align: top;\n",
       "    }\n",
       "\n",
       "    .dataframe thead th {\n",
       "        text-align: right;\n",
       "    }\n",
       "</style>\n",
       "<table border=\"1\" class=\"dataframe\">\n",
       "  <thead>\n",
       "    <tr style=\"text-align: right;\">\n",
       "      <th></th>\n",
       "      <th>Пол</th>\n",
       "      <th>Возраст</th>\n",
       "      <th>Зарплата</th>\n",
       "      <th>Члены семьи</th>\n",
       "    </tr>\n",
       "  </thead>\n",
       "  <tbody>\n",
       "    <tr>\n",
       "      <th>0</th>\n",
       "      <td>1</td>\n",
       "      <td>41</td>\n",
       "      <td>49600</td>\n",
       "      <td>1</td>\n",
       "    </tr>\n",
       "    <tr>\n",
       "      <th>1</th>\n",
       "      <td>0</td>\n",
       "      <td>46</td>\n",
       "      <td>38000</td>\n",
       "      <td>1</td>\n",
       "    </tr>\n",
       "    <tr>\n",
       "      <th>2</th>\n",
       "      <td>0</td>\n",
       "      <td>29</td>\n",
       "      <td>21000</td>\n",
       "      <td>0</td>\n",
       "    </tr>\n",
       "    <tr>\n",
       "      <th>3</th>\n",
       "      <td>0</td>\n",
       "      <td>21</td>\n",
       "      <td>41700</td>\n",
       "      <td>2</td>\n",
       "    </tr>\n",
       "    <tr>\n",
       "      <th>4</th>\n",
       "      <td>1</td>\n",
       "      <td>28</td>\n",
       "      <td>26100</td>\n",
       "      <td>0</td>\n",
       "    </tr>\n",
       "  </tbody>\n",
       "</table>\n",
       "</div>"
      ],
      "text/plain": [
       "   Пол  Возраст  Зарплата  Члены семьи\n",
       "0    1       41     49600            1\n",
       "1    0       46     38000            1\n",
       "2    0       29     21000            0\n",
       "3    0       21     41700            2\n",
       "4    1       28     26100            0"
      ]
     },
     "execution_count": 45,
     "metadata": {},
     "output_type": "execute_result"
    }
   ],
   "source": [
    "X.head()"
   ]
  },
  {
   "cell_type": "markdown",
   "metadata": {},
   "source": [
    "Умножение на обратимую матрицу:"
   ]
  },
  {
   "cell_type": "code",
   "execution_count": 46,
   "metadata": {},
   "outputs": [],
   "source": [
    "Z = X @ P"
   ]
  },
  {
   "cell_type": "markdown",
   "metadata": {},
   "source": [
    "Данные защифрованы"
   ]
  },
  {
   "cell_type": "code",
   "execution_count": 47,
   "metadata": {},
   "outputs": [
    {
     "data": {
      "text/html": [
       "<div>\n",
       "<style scoped>\n",
       "    .dataframe tbody tr th:only-of-type {\n",
       "        vertical-align: middle;\n",
       "    }\n",
       "\n",
       "    .dataframe tbody tr th {\n",
       "        vertical-align: top;\n",
       "    }\n",
       "\n",
       "    .dataframe thead th {\n",
       "        text-align: right;\n",
       "    }\n",
       "</style>\n",
       "<table border=\"1\" class=\"dataframe\">\n",
       "  <thead>\n",
       "    <tr style=\"text-align: right;\">\n",
       "      <th></th>\n",
       "      <th>0</th>\n",
       "      <th>1</th>\n",
       "      <th>2</th>\n",
       "      <th>3</th>\n",
       "    </tr>\n",
       "  </thead>\n",
       "  <tbody>\n",
       "    <tr>\n",
       "      <th>0</th>\n",
       "      <td>297818</td>\n",
       "      <td>248056</td>\n",
       "      <td>49857</td>\n",
       "      <td>446497</td>\n",
       "    </tr>\n",
       "    <tr>\n",
       "      <th>1</th>\n",
       "      <td>228239</td>\n",
       "      <td>190053</td>\n",
       "      <td>38285</td>\n",
       "      <td>342099</td>\n",
       "    </tr>\n",
       "    <tr>\n",
       "      <th>2</th>\n",
       "      <td>126145</td>\n",
       "      <td>105029</td>\n",
       "      <td>21174</td>\n",
       "      <td>189058</td>\n",
       "    </tr>\n",
       "    <tr>\n",
       "      <th>3</th>\n",
       "      <td>250323</td>\n",
       "      <td>208535</td>\n",
       "      <td>41844</td>\n",
       "      <td>375356</td>\n",
       "    </tr>\n",
       "    <tr>\n",
       "      <th>4</th>\n",
       "      <td>156744</td>\n",
       "      <td>130536</td>\n",
       "      <td>26270</td>\n",
       "      <td>234964</td>\n",
       "    </tr>\n",
       "    <tr>\n",
       "      <th>5</th>\n",
       "      <td>246237</td>\n",
       "      <td>205065</td>\n",
       "      <td>41278</td>\n",
       "      <td>369108</td>\n",
       "    </tr>\n",
       "    <tr>\n",
       "      <th>6</th>\n",
       "      <td>238417</td>\n",
       "      <td>198561</td>\n",
       "      <td>39954</td>\n",
       "      <td>357400</td>\n",
       "    </tr>\n",
       "    <tr>\n",
       "      <th>7</th>\n",
       "      <td>231765</td>\n",
       "      <td>193061</td>\n",
       "      <td>38788</td>\n",
       "      <td>347486</td>\n",
       "    </tr>\n",
       "    <tr>\n",
       "      <th>8</th>\n",
       "      <td>298393</td>\n",
       "      <td>248551</td>\n",
       "      <td>49927</td>\n",
       "      <td>447387</td>\n",
       "    </tr>\n",
       "    <tr>\n",
       "      <th>9</th>\n",
       "      <td>310373</td>\n",
       "      <td>258547</td>\n",
       "      <td>51903</td>\n",
       "      <td>465379</td>\n",
       "    </tr>\n",
       "  </tbody>\n",
       "</table>\n",
       "</div>"
      ],
      "text/plain": [
       "        0       1      2       3\n",
       "0  297818  248056  49857  446497\n",
       "1  228239  190053  38285  342099\n",
       "2  126145  105029  21174  189058\n",
       "3  250323  208535  41844  375356\n",
       "4  156744  130536  26270  234964\n",
       "5  246237  205065  41278  369108\n",
       "6  238417  198561  39954  357400\n",
       "7  231765  193061  38788  347486\n",
       "8  298393  248551  49927  447387\n",
       "9  310373  258547  51903  465379"
      ]
     },
     "execution_count": 47,
     "metadata": {},
     "output_type": "execute_result"
    }
   ],
   "source": [
    "Z[:10]"
   ]
  },
  {
   "cell_type": "markdown",
   "metadata": {},
   "source": [
    "Обратное преобразование"
   ]
  },
  {
   "cell_type": "code",
   "execution_count": 48,
   "metadata": {},
   "outputs": [
    {
     "data": {
      "text/html": [
       "<div>\n",
       "<style scoped>\n",
       "    .dataframe tbody tr th:only-of-type {\n",
       "        vertical-align: middle;\n",
       "    }\n",
       "\n",
       "    .dataframe tbody tr th {\n",
       "        vertical-align: top;\n",
       "    }\n",
       "\n",
       "    .dataframe thead th {\n",
       "        text-align: right;\n",
       "    }\n",
       "</style>\n",
       "<table border=\"1\" class=\"dataframe\">\n",
       "  <thead>\n",
       "    <tr style=\"text-align: right;\">\n",
       "      <th></th>\n",
       "      <th>0</th>\n",
       "      <th>1</th>\n",
       "      <th>2</th>\n",
       "      <th>3</th>\n",
       "    </tr>\n",
       "  </thead>\n",
       "  <tbody>\n",
       "    <tr>\n",
       "      <th>0</th>\n",
       "      <td>1</td>\n",
       "      <td>41</td>\n",
       "      <td>49600</td>\n",
       "      <td>1</td>\n",
       "    </tr>\n",
       "    <tr>\n",
       "      <th>1</th>\n",
       "      <td>0</td>\n",
       "      <td>46</td>\n",
       "      <td>38000</td>\n",
       "      <td>1</td>\n",
       "    </tr>\n",
       "    <tr>\n",
       "      <th>2</th>\n",
       "      <td>0</td>\n",
       "      <td>29</td>\n",
       "      <td>21000</td>\n",
       "      <td>0</td>\n",
       "    </tr>\n",
       "    <tr>\n",
       "      <th>3</th>\n",
       "      <td>0</td>\n",
       "      <td>21</td>\n",
       "      <td>41700</td>\n",
       "      <td>2</td>\n",
       "    </tr>\n",
       "    <tr>\n",
       "      <th>4</th>\n",
       "      <td>1</td>\n",
       "      <td>28</td>\n",
       "      <td>26100</td>\n",
       "      <td>0</td>\n",
       "    </tr>\n",
       "  </tbody>\n",
       "</table>\n",
       "</div>"
      ],
      "text/plain": [
       "   0   1      2  3\n",
       "0  1  41  49600  1\n",
       "1  0  46  38000  1\n",
       "2  0  29  21000  0\n",
       "3  0  21  41700  2\n",
       "4  1  28  26100  0"
      ]
     },
     "execution_count": 48,
     "metadata": {},
     "output_type": "execute_result"
    }
   ],
   "source": [
    "t = Z @ np.linalg.inv(P) \n",
    "t.round(1).astype(int).head()"
   ]
  },
  {
   "cell_type": "markdown",
   "metadata": {},
   "source": [
    "## Проверка алгоритма"
   ]
  },
  {
   "cell_type": "markdown",
   "metadata": {},
   "source": [
    "Для проверки будем использовать модель линейной регрессии библиотеки Scikit-learn, для оценки - метрику R2.\n",
    "\n",
    "Разделим наши данные на тренировочную и тестовую выборки в отношении 0.75 к 0.25 от всего объема данных:"
   ]
  },
  {
   "cell_type": "code",
   "execution_count": 24,
   "metadata": {},
   "outputs": [],
   "source": [
    "target = df['Страховые выплаты']\n",
    "features_train, features_test, target_train, target_test = train_test_split(\n",
    "    features, target, test_size=0.25, random_state=RANDOM_SEED)"
   ]
  },
  {
   "cell_type": "markdown",
   "metadata": {},
   "source": [
    "Обучение и проверка модели на данных без преобразования"
   ]
  },
  {
   "cell_type": "code",
   "execution_count": 25,
   "metadata": {},
   "outputs": [
    {
     "name": "stdout",
     "output_type": "stream",
     "text": [
      "R2 = 0.4249620550874137\n"
     ]
    }
   ],
   "source": [
    "model.fit(features_train, target_train)\n",
    "score = r2_score(target_test, model.predict(features_test))\n",
    "print(\"R2 =\", score)"
   ]
  },
  {
   "cell_type": "markdown",
   "metadata": {},
   "source": [
    "Обучение и проверка модели на данных с преобразованием"
   ]
  },
  {
   "cell_type": "code",
   "execution_count": 26,
   "metadata": {},
   "outputs": [
    {
     "name": "stdout",
     "output_type": "stream",
     "text": [
      "R2 = 0.424962055087424\n"
     ]
    }
   ],
   "source": [
    "features_train, features_test, target_train, target_test = train_test_split(\n",
    "    Z, target, test_size=0.25, random_state=RANDOM_SEED)\n",
    "\n",
    "model.fit(features_train, target_train)\n",
    "score = r2_score(target_test, model.predict(features_test))\n",
    "print(\"R2 =\", score)"
   ]
  },
  {
   "cell_type": "markdown",
   "metadata": {},
   "source": [
    "Точность не изменна"
   ]
  },
  {
   "cell_type": "markdown",
   "metadata": {},
   "source": [
    "## Вывод"
   ]
  },
  {
   "cell_type": "markdown",
   "metadata": {},
   "source": [
    "Разработка метода преобразования персональных данных клиентов компании при которов не изменяется качество моделей машинного обучения.\n",
    "\n",
    "Ответ на вопрос: Признаки умножают на обратимую матрицу. Изменится ли качество линейной регрессии?\n",
    "Проверка метрики R2 модели машинного обучения на исходных данных и на данных после преобразования.\n",
    "\n",
    "В данном проекте мы изучили влияние преобразования признаков на качество модели линейной регрессии при умножении последних на обратимую матрицу.\n",
    "\n",
    "Для начала мы загрузили данные клиентов компании, ознакомились с ними, проверили на аномальные значения и привели к нужным типам данных. \n",
    "\n",
    "После ответили на первый вопрос: При умножении признаков на обратимую матрицу как измениться качество линейной регрессии?\n",
    "Ответ: При умножении матрицы признаков на обратимую матрицу качество линейной регрессии не измениться.\n",
    "\n",
    "Затем мы проанализировали регрисионные коэфициенты моделей при преобразовании и пришли к выводу:\n",
    "\n",
    "При линейном преобразовании признаков, наблюдается линейное изменени коэфициентов модели. Этот метод защиты персональных данных нам не подходит: т.к остается линейная зависимость в измененых данных и они недостаточно защищены.\n",
    "\n",
    "При умножении персональных данных на обратимую матрицу, данные изменяются нелинейно и точность модели линейной регресии остается преждней. Но коэфициента модели указывают на нелинейное преобразование: [ 0.00613887  0.0007744   0.00107731 -0.0014413  -0.00511657]\n",
    "\n",
    "Мы определились с алгоритмом преобразования и в четвертой части нашего проекта сравнили метрики `R2` модели линейной регрессии на базовых данных и на преобразованных. В данном случаем метрика осталась постоянной даже после преобразования.\n",
    "\n",
    "P.S. небольшие различия в метриках моделей особенность вычисления дробных чисел в Phyton, X Float <> X Float"
   ]
  }
 ],
 "metadata": {
  "ExecuteTimeLog": [
   {
    "duration": 352,
    "start_time": "2023-02-07T05:52:44.585Z"
   },
   {
    "duration": 89,
    "start_time": "2023-02-07T05:52:44.939Z"
   },
   {
    "duration": 14,
    "start_time": "2023-02-07T05:52:45.075Z"
   },
   {
    "duration": 4,
    "start_time": "2023-02-07T05:52:45.243Z"
   },
   {
    "duration": 5,
    "start_time": "2023-02-07T05:52:45.432Z"
   },
   {
    "duration": 13,
    "start_time": "2023-02-07T05:52:45.851Z"
   },
   {
    "duration": 5,
    "start_time": "2023-02-07T05:52:46.076Z"
   },
   {
    "duration": 5,
    "start_time": "2023-02-07T07:38:22.485Z"
   },
   {
    "duration": 662,
    "start_time": "2023-02-07T07:38:50.563Z"
   },
   {
    "duration": 98,
    "start_time": "2023-02-07T07:40:18.604Z"
   },
   {
    "duration": 2,
    "start_time": "2023-02-07T07:40:32.465Z"
   },
   {
    "duration": 56,
    "start_time": "2023-02-07T07:40:36.593Z"
   },
   {
    "duration": 8,
    "start_time": "2023-02-07T07:41:05.110Z"
   },
   {
    "duration": 3,
    "start_time": "2023-02-07T07:41:39.054Z"
   },
   {
    "duration": 4,
    "start_time": "2023-02-07T07:41:50.156Z"
   },
   {
    "duration": 8,
    "start_time": "2023-02-07T07:41:50.533Z"
   },
   {
    "duration": 9,
    "start_time": "2023-02-07T07:41:51.022Z"
   },
   {
    "duration": 5,
    "start_time": "2023-02-07T07:41:51.533Z"
   },
   {
    "duration": 4,
    "start_time": "2023-02-07T07:47:21.904Z"
   },
   {
    "duration": 6,
    "start_time": "2023-02-07T07:47:35.711Z"
   },
   {
    "duration": 11,
    "start_time": "2023-02-07T07:47:55.606Z"
   },
   {
    "duration": 10,
    "start_time": "2023-02-07T07:48:14.813Z"
   },
   {
    "duration": 22,
    "start_time": "2023-02-07T07:48:15.741Z"
   },
   {
    "duration": 15,
    "start_time": "2023-02-07T07:48:25.037Z"
   },
   {
    "duration": 10,
    "start_time": "2023-02-07T07:48:34.424Z"
   },
   {
    "duration": 8,
    "start_time": "2023-02-07T07:49:07.501Z"
   },
   {
    "duration": 4,
    "start_time": "2023-02-07T07:49:24.762Z"
   },
   {
    "duration": 7,
    "start_time": "2023-02-07T07:49:25.263Z"
   },
   {
    "duration": 7,
    "start_time": "2023-02-07T07:49:25.767Z"
   },
   {
    "duration": 7,
    "start_time": "2023-02-07T07:50:16.289Z"
   },
   {
    "duration": 7,
    "start_time": "2023-02-07T07:50:25.975Z"
   },
   {
    "duration": 9,
    "start_time": "2023-02-07T07:50:52.227Z"
   },
   {
    "duration": 10,
    "start_time": "2023-02-07T07:51:30.526Z"
   },
   {
    "duration": 9,
    "start_time": "2023-02-07T07:51:39.261Z"
   },
   {
    "duration": 7,
    "start_time": "2023-02-07T07:51:52.996Z"
   },
   {
    "duration": 10,
    "start_time": "2023-02-07T09:51:58.633Z"
   },
   {
    "duration": 5,
    "start_time": "2023-02-07T09:52:40.495Z"
   },
   {
    "duration": 7,
    "start_time": "2023-02-07T09:53:00.039Z"
   },
   {
    "duration": 3,
    "start_time": "2023-02-07T09:57:29.721Z"
   },
   {
    "duration": 14,
    "start_time": "2023-02-07T09:57:34.879Z"
   },
   {
    "duration": 10,
    "start_time": "2023-02-07T09:57:36.140Z"
   },
   {
    "duration": 8,
    "start_time": "2023-02-07T09:57:40.462Z"
   },
   {
    "duration": 8,
    "start_time": "2023-02-07T09:57:47.821Z"
   },
   {
    "duration": 3,
    "start_time": "2023-02-07T09:57:53.139Z"
   },
   {
    "duration": 8,
    "start_time": "2023-02-07T09:57:53.595Z"
   },
   {
    "duration": 6,
    "start_time": "2023-02-07T09:57:54.243Z"
   },
   {
    "duration": 3,
    "start_time": "2023-02-07T09:57:57.114Z"
   },
   {
    "duration": 15,
    "start_time": "2023-02-07T09:57:57.762Z"
   },
   {
    "duration": 7,
    "start_time": "2023-02-07T09:57:58.457Z"
   },
   {
    "duration": 5,
    "start_time": "2023-02-07T09:58:46.968Z"
   },
   {
    "duration": 31,
    "start_time": "2023-02-07T09:58:47.519Z"
   },
   {
    "duration": 11,
    "start_time": "2023-02-07T09:58:47.823Z"
   },
   {
    "duration": 4,
    "start_time": "2023-02-07T09:58:48.140Z"
   },
   {
    "duration": 7,
    "start_time": "2023-02-07T09:58:48.395Z"
   },
   {
    "duration": 20,
    "start_time": "2023-02-07T09:58:48.599Z"
   },
   {
    "duration": 6,
    "start_time": "2023-02-07T09:58:48.831Z"
   },
   {
    "duration": 4,
    "start_time": "2023-02-07T09:58:51.262Z"
   },
   {
    "duration": 6,
    "start_time": "2023-02-07T09:58:51.919Z"
   },
   {
    "duration": 8,
    "start_time": "2023-02-07T09:58:52.623Z"
   },
   {
    "duration": 5,
    "start_time": "2023-02-07T09:59:02.903Z"
   },
   {
    "duration": 7,
    "start_time": "2023-02-07T09:59:04.041Z"
   },
   {
    "duration": 10,
    "start_time": "2023-02-07T09:59:05.448Z"
   },
   {
    "duration": 4,
    "start_time": "2023-02-07T10:01:31.052Z"
   },
   {
    "duration": 16,
    "start_time": "2023-02-07T10:02:02.666Z"
   },
   {
    "duration": 25,
    "start_time": "2023-02-07T10:02:17.641Z"
   },
   {
    "duration": 15,
    "start_time": "2023-02-07T10:02:26.337Z"
   },
   {
    "duration": 127,
    "start_time": "2023-02-07T10:02:36.045Z"
   },
   {
    "duration": 12,
    "start_time": "2023-02-07T10:05:41.510Z"
   },
   {
    "duration": 11,
    "start_time": "2023-02-07T10:05:49.942Z"
   },
   {
    "duration": 20,
    "start_time": "2023-02-07T10:07:33.962Z"
   },
   {
    "duration": 6,
    "start_time": "2023-02-07T10:08:47.359Z"
   },
   {
    "duration": 8,
    "start_time": "2023-02-07T10:08:48.322Z"
   },
   {
    "duration": 33,
    "start_time": "2023-02-07T10:08:55.469Z"
   },
   {
    "duration": 12,
    "start_time": "2023-02-07T10:11:28.090Z"
   },
   {
    "duration": 13,
    "start_time": "2023-02-07T10:12:10.271Z"
   },
   {
    "duration": 15,
    "start_time": "2023-02-07T10:12:28.075Z"
   },
   {
    "duration": 11,
    "start_time": "2023-02-07T10:12:34.101Z"
   },
   {
    "duration": 19,
    "start_time": "2023-02-07T10:13:38.713Z"
   },
   {
    "duration": 17,
    "start_time": "2023-02-07T10:13:48.574Z"
   },
   {
    "duration": 14,
    "start_time": "2023-02-07T10:14:03.015Z"
   },
   {
    "duration": 11,
    "start_time": "2023-02-07T10:14:56.114Z"
   },
   {
    "duration": 8,
    "start_time": "2023-02-07T10:15:06.144Z"
   },
   {
    "duration": 5,
    "start_time": "2023-02-07T10:15:32.868Z"
   },
   {
    "duration": 5,
    "start_time": "2023-02-07T10:19:59.007Z"
   },
   {
    "duration": 14,
    "start_time": "2023-02-07T10:20:07.717Z"
   },
   {
    "duration": 7,
    "start_time": "2023-02-07T10:21:19.471Z"
   },
   {
    "duration": 7,
    "start_time": "2023-02-07T10:21:29.029Z"
   },
   {
    "duration": 5,
    "start_time": "2023-02-07T10:22:26.510Z"
   },
   {
    "duration": 56,
    "start_time": "2023-02-07T10:22:41.200Z"
   },
   {
    "duration": 22,
    "start_time": "2023-02-07T10:22:48.543Z"
   },
   {
    "duration": 5,
    "start_time": "2023-02-07T10:22:54.439Z"
   },
   {
    "duration": 13,
    "start_time": "2023-02-07T10:22:54.788Z"
   },
   {
    "duration": 18,
    "start_time": "2023-02-07T10:22:55.145Z"
   },
   {
    "duration": 17,
    "start_time": "2023-02-07T10:23:10.081Z"
   },
   {
    "duration": 21,
    "start_time": "2023-02-07T10:23:26.637Z"
   },
   {
    "duration": 14,
    "start_time": "2023-02-07T10:24:08.298Z"
   },
   {
    "duration": 5,
    "start_time": "2023-02-07T10:24:12.025Z"
   },
   {
    "duration": 19,
    "start_time": "2023-02-07T10:24:12.442Z"
   },
   {
    "duration": 21,
    "start_time": "2023-02-07T10:24:12.848Z"
   },
   {
    "duration": 14,
    "start_time": "2023-02-07T10:24:29.074Z"
   },
   {
    "duration": 14,
    "start_time": "2023-02-07T10:24:38.845Z"
   },
   {
    "duration": 20,
    "start_time": "2023-02-07T10:24:40.057Z"
   },
   {
    "duration": 8,
    "start_time": "2023-02-07T10:24:42.207Z"
   },
   {
    "duration": 6,
    "start_time": "2023-02-07T10:25:15.803Z"
   },
   {
    "duration": 93,
    "start_time": "2023-02-07T10:25:16.466Z"
   },
   {
    "duration": 7,
    "start_time": "2023-02-07T10:25:17.227Z"
   },
   {
    "duration": 21,
    "start_time": "2023-02-07T10:25:24.472Z"
   },
   {
    "duration": 7,
    "start_time": "2023-02-07T10:26:02.857Z"
   },
   {
    "duration": 5,
    "start_time": "2023-02-07T10:26:14.020Z"
   },
   {
    "duration": 13,
    "start_time": "2023-02-07T10:26:14.592Z"
   },
   {
    "duration": 4,
    "start_time": "2023-02-07T10:26:15.338Z"
   },
   {
    "duration": 15,
    "start_time": "2023-02-07T10:26:16.281Z"
   },
   {
    "duration": 4,
    "start_time": "2023-02-07T10:26:17.033Z"
   },
   {
    "duration": 3,
    "start_time": "2023-02-07T10:26:33.617Z"
   },
   {
    "duration": 31,
    "start_time": "2023-02-07T10:26:33.870Z"
   },
   {
    "duration": 13,
    "start_time": "2023-02-07T10:26:34.068Z"
   },
   {
    "duration": 8,
    "start_time": "2023-02-07T10:26:34.261Z"
   },
   {
    "duration": 6,
    "start_time": "2023-02-07T10:26:34.476Z"
   },
   {
    "duration": 19,
    "start_time": "2023-02-07T10:26:34.675Z"
   },
   {
    "duration": 5,
    "start_time": "2023-02-07T10:26:34.867Z"
   },
   {
    "duration": 7,
    "start_time": "2023-02-07T10:26:36.245Z"
   },
   {
    "duration": 143,
    "start_time": "2023-02-07T10:26:36.541Z"
   },
   {
    "duration": 5,
    "start_time": "2023-02-07T10:26:36.984Z"
   },
   {
    "duration": 27,
    "start_time": "2023-02-07T10:26:37.661Z"
   },
   {
    "duration": 7,
    "start_time": "2023-02-07T10:26:38.308Z"
   },
   {
    "duration": 5,
    "start_time": "2023-02-07T10:27:04.529Z"
   },
   {
    "duration": 4,
    "start_time": "2023-02-07T10:28:35.701Z"
   },
   {
    "duration": 4,
    "start_time": "2023-02-07T10:28:46.604Z"
   },
   {
    "duration": 16,
    "start_time": "2023-02-07T10:28:55.080Z"
   },
   {
    "duration": 10,
    "start_time": "2023-02-07T10:29:20.920Z"
   },
   {
    "duration": 6,
    "start_time": "2023-02-07T10:29:38.020Z"
   },
   {
    "duration": 5,
    "start_time": "2023-02-07T10:29:48.372Z"
   },
   {
    "duration": 5,
    "start_time": "2023-02-07T10:29:59.021Z"
   },
   {
    "duration": 5,
    "start_time": "2023-02-07T10:30:01.876Z"
   },
   {
    "duration": 32,
    "start_time": "2023-02-07T10:30:12.216Z"
   },
   {
    "duration": 9,
    "start_time": "2023-02-07T10:30:14.592Z"
   },
   {
    "duration": 5,
    "start_time": "2023-02-07T10:30:14.930Z"
   },
   {
    "duration": 8,
    "start_time": "2023-02-07T10:30:15.185Z"
   },
   {
    "duration": 13,
    "start_time": "2023-02-07T10:30:15.428Z"
   },
   {
    "duration": 5,
    "start_time": "2023-02-07T10:30:15.616Z"
   },
   {
    "duration": 6,
    "start_time": "2023-02-07T10:30:26.794Z"
   },
   {
    "duration": 8,
    "start_time": "2023-02-07T10:30:36.875Z"
   },
   {
    "duration": 18,
    "start_time": "2023-02-07T10:30:43.714Z"
   },
   {
    "duration": 7,
    "start_time": "2023-02-07T10:31:09.287Z"
   },
   {
    "duration": 6,
    "start_time": "2023-02-07T10:31:38.436Z"
   },
   {
    "duration": 7,
    "start_time": "2023-02-07T10:31:43.843Z"
   },
   {
    "duration": 5,
    "start_time": "2023-02-07T10:36:06.413Z"
   },
   {
    "duration": 18,
    "start_time": "2023-02-07T10:36:08.382Z"
   },
   {
    "duration": 13,
    "start_time": "2023-02-07T10:36:10.870Z"
   },
   {
    "duration": 8,
    "start_time": "2023-02-07T10:36:59.802Z"
   },
   {
    "duration": 8,
    "start_time": "2023-02-07T10:37:59.102Z"
   },
   {
    "duration": 12,
    "start_time": "2023-02-07T10:38:05.476Z"
   },
   {
    "duration": 20,
    "start_time": "2023-02-07T10:38:13.779Z"
   },
   {
    "duration": 6,
    "start_time": "2023-02-07T10:42:45.866Z"
   },
   {
    "duration": 5,
    "start_time": "2023-02-07T10:42:53.220Z"
   },
   {
    "duration": 5,
    "start_time": "2023-02-07T10:43:10.427Z"
   },
   {
    "duration": 5,
    "start_time": "2023-02-07T10:43:16.071Z"
   },
   {
    "duration": 15,
    "start_time": "2023-02-07T10:43:18.062Z"
   },
   {
    "duration": 13,
    "start_time": "2023-02-07T10:43:23.788Z"
   },
   {
    "duration": 4,
    "start_time": "2023-02-07T10:43:46.617Z"
   },
   {
    "duration": 13,
    "start_time": "2023-02-07T10:43:57.174Z"
   },
   {
    "duration": 13,
    "start_time": "2023-02-07T10:44:31.418Z"
   },
   {
    "duration": 16,
    "start_time": "2023-02-07T10:44:36.465Z"
   },
   {
    "duration": 13,
    "start_time": "2023-02-07T10:44:38.907Z"
   },
   {
    "duration": 12,
    "start_time": "2023-02-07T10:44:43.530Z"
   },
   {
    "duration": 20,
    "start_time": "2023-02-07T10:45:07.384Z"
   },
   {
    "duration": 15,
    "start_time": "2023-02-07T10:45:13.847Z"
   },
   {
    "duration": 19,
    "start_time": "2023-02-07T10:45:25.711Z"
   },
   {
    "duration": 19,
    "start_time": "2023-02-07T10:46:34.602Z"
   },
   {
    "duration": 25,
    "start_time": "2023-02-07T10:46:48.396Z"
   },
   {
    "duration": 17,
    "start_time": "2023-02-07T10:46:57.475Z"
   },
   {
    "duration": 12,
    "start_time": "2023-02-07T10:48:39.298Z"
   },
   {
    "duration": 31,
    "start_time": "2023-02-07T10:50:18.042Z"
   },
   {
    "duration": 15,
    "start_time": "2023-02-07T10:50:27.108Z"
   },
   {
    "duration": 12,
    "start_time": "2023-02-07T10:50:38.683Z"
   },
   {
    "duration": 15,
    "start_time": "2023-02-07T10:50:44.388Z"
   },
   {
    "duration": 12,
    "start_time": "2023-02-07T10:50:50.688Z"
   },
   {
    "duration": 20,
    "start_time": "2023-02-07T10:52:44.625Z"
   },
   {
    "duration": 22,
    "start_time": "2023-02-07T11:19:14.726Z"
   },
   {
    "duration": 15,
    "start_time": "2023-02-07T11:19:27.222Z"
   },
   {
    "duration": 21,
    "start_time": "2023-02-07T11:19:38.251Z"
   },
   {
    "duration": 16,
    "start_time": "2023-02-07T11:19:43.409Z"
   },
   {
    "duration": 13,
    "start_time": "2023-02-07T11:20:25.801Z"
   },
   {
    "duration": 16,
    "start_time": "2023-02-07T11:20:42.069Z"
   },
   {
    "duration": 37,
    "start_time": "2023-02-07T11:22:26.230Z"
   },
   {
    "duration": 4,
    "start_time": "2023-02-07T11:22:30.736Z"
   },
   {
    "duration": 22,
    "start_time": "2023-02-07T11:22:33.488Z"
   },
   {
    "duration": 27,
    "start_time": "2023-02-07T11:22:34.444Z"
   },
   {
    "duration": 17,
    "start_time": "2023-02-07T11:23:12.900Z"
   },
   {
    "duration": 8,
    "start_time": "2023-02-07T11:23:16.100Z"
   },
   {
    "duration": 13,
    "start_time": "2023-02-07T11:23:25.708Z"
   },
   {
    "duration": 17,
    "start_time": "2023-02-07T11:23:33.496Z"
   },
   {
    "duration": 4,
    "start_time": "2023-02-07T11:23:43.229Z"
   },
   {
    "duration": 17,
    "start_time": "2023-02-07T11:23:43.572Z"
   },
   {
    "duration": 18,
    "start_time": "2023-02-07T11:23:51.640Z"
   },
   {
    "duration": 8,
    "start_time": "2023-02-07T11:24:07.556Z"
   },
   {
    "duration": 10,
    "start_time": "2023-02-07T11:24:54.778Z"
   },
   {
    "duration": 11,
    "start_time": "2023-02-07T11:24:58.499Z"
   },
   {
    "duration": 14,
    "start_time": "2023-02-07T11:25:12.757Z"
   },
   {
    "duration": 6,
    "start_time": "2023-02-07T11:25:20.268Z"
   },
   {
    "duration": 12,
    "start_time": "2023-02-07T11:25:27.879Z"
   },
   {
    "duration": 69,
    "start_time": "2023-02-07T11:25:56.483Z"
   },
   {
    "duration": 13,
    "start_time": "2023-02-07T11:26:33.689Z"
   },
   {
    "duration": 22,
    "start_time": "2023-02-07T11:27:07.074Z"
   },
   {
    "duration": 18,
    "start_time": "2023-02-07T11:28:16.857Z"
   },
   {
    "duration": 13,
    "start_time": "2023-02-07T11:28:29.824Z"
   },
   {
    "duration": 12,
    "start_time": "2023-02-07T11:30:03.827Z"
   },
   {
    "duration": 5,
    "start_time": "2023-02-07T11:30:21.887Z"
   },
   {
    "duration": 10,
    "start_time": "2023-02-07T11:30:25.048Z"
   },
   {
    "duration": 25,
    "start_time": "2023-02-07T11:31:13.044Z"
   },
   {
    "duration": 9,
    "start_time": "2023-02-07T11:31:24.174Z"
   },
   {
    "duration": 17,
    "start_time": "2023-02-07T11:32:44.389Z"
   },
   {
    "duration": 31,
    "start_time": "2023-02-07T11:33:12.337Z"
   },
   {
    "duration": 17,
    "start_time": "2023-02-07T11:33:47.364Z"
   },
   {
    "duration": 15,
    "start_time": "2023-02-07T11:34:29.869Z"
   },
   {
    "duration": 5,
    "start_time": "2023-02-08T00:46:42.059Z"
   },
   {
    "duration": 8,
    "start_time": "2023-02-08T00:47:00.777Z"
   },
   {
    "duration": 8,
    "start_time": "2023-02-08T00:47:08.606Z"
   },
   {
    "duration": 8,
    "start_time": "2023-02-08T00:47:14.152Z"
   },
   {
    "duration": 4,
    "start_time": "2023-02-08T00:47:23.631Z"
   },
   {
    "duration": 5,
    "start_time": "2023-02-08T00:47:27.608Z"
   },
   {
    "duration": 5,
    "start_time": "2023-02-08T00:47:31.271Z"
   },
   {
    "duration": 5,
    "start_time": "2023-02-08T00:48:35.156Z"
   },
   {
    "duration": 5,
    "start_time": "2023-02-08T00:48:42.650Z"
   },
   {
    "duration": 7,
    "start_time": "2023-02-08T00:49:03.057Z"
   },
   {
    "duration": 10,
    "start_time": "2023-02-08T00:49:05.529Z"
   },
   {
    "duration": 977,
    "start_time": "2023-02-08T00:49:27.102Z"
   },
   {
    "duration": 82,
    "start_time": "2023-02-08T00:49:28.081Z"
   },
   {
    "duration": 12,
    "start_time": "2023-02-08T00:49:28.165Z"
   },
   {
    "duration": 14,
    "start_time": "2023-02-08T00:49:29.962Z"
   },
   {
    "duration": 4,
    "start_time": "2023-02-08T00:49:31.082Z"
   },
   {
    "duration": 6,
    "start_time": "2023-02-08T00:49:31.658Z"
   },
   {
    "duration": 13,
    "start_time": "2023-02-08T00:49:32.268Z"
   },
   {
    "duration": 5,
    "start_time": "2023-02-08T00:49:33.262Z"
   },
   {
    "duration": 4,
    "start_time": "2023-02-08T00:49:33.536Z"
   },
   {
    "duration": 6,
    "start_time": "2023-02-08T00:49:33.752Z"
   },
   {
    "duration": 5,
    "start_time": "2023-02-08T00:49:35.950Z"
   },
   {
    "duration": 5,
    "start_time": "2023-02-08T00:49:36.418Z"
   },
   {
    "duration": 7,
    "start_time": "2023-02-08T00:50:53.067Z"
   },
   {
    "duration": 11,
    "start_time": "2023-02-08T00:51:01.254Z"
   },
   {
    "duration": 6,
    "start_time": "2023-02-08T00:51:02.756Z"
   },
   {
    "duration": 4,
    "start_time": "2023-02-08T01:33:54.352Z"
   },
   {
    "duration": 6,
    "start_time": "2023-02-08T01:33:55.226Z"
   },
   {
    "duration": 3,
    "start_time": "2023-02-08T01:34:39.970Z"
   },
   {
    "duration": 93,
    "start_time": "2023-02-08T01:35:00.932Z"
   },
   {
    "duration": 4,
    "start_time": "2023-02-08T01:35:13.361Z"
   },
   {
    "duration": 5,
    "start_time": "2023-02-08T01:35:27.159Z"
   },
   {
    "duration": 5,
    "start_time": "2023-02-08T01:35:30.607Z"
   },
   {
    "duration": 8,
    "start_time": "2023-02-08T01:35:48.809Z"
   },
   {
    "duration": 1061,
    "start_time": "2023-02-08T01:36:11.882Z"
   },
   {
    "duration": 30,
    "start_time": "2023-02-08T01:36:12.945Z"
   },
   {
    "duration": 10,
    "start_time": "2023-02-08T01:36:12.977Z"
   },
   {
    "duration": 13,
    "start_time": "2023-02-08T01:36:13.157Z"
   },
   {
    "duration": 4,
    "start_time": "2023-02-08T01:36:13.696Z"
   },
   {
    "duration": 5,
    "start_time": "2023-02-08T01:36:14.153Z"
   },
   {
    "duration": 12,
    "start_time": "2023-02-08T01:36:14.625Z"
   },
   {
    "duration": 5,
    "start_time": "2023-02-08T01:36:15.068Z"
   },
   {
    "duration": 5,
    "start_time": "2023-02-08T01:36:15.284Z"
   },
   {
    "duration": 5,
    "start_time": "2023-02-08T01:36:15.556Z"
   },
   {
    "duration": 5,
    "start_time": "2023-02-08T01:36:15.953Z"
   },
   {
    "duration": 5,
    "start_time": "2023-02-08T01:36:16.115Z"
   },
   {
    "duration": 6,
    "start_time": "2023-02-08T01:36:17.485Z"
   },
   {
    "duration": 12,
    "start_time": "2023-02-08T01:36:17.756Z"
   },
   {
    "duration": 8,
    "start_time": "2023-02-08T01:36:18.011Z"
   },
   {
    "duration": 4,
    "start_time": "2023-02-08T01:36:19.507Z"
   },
   {
    "duration": 6,
    "start_time": "2023-02-08T01:36:20.007Z"
   },
   {
    "duration": 3,
    "start_time": "2023-02-08T01:36:20.412Z"
   },
   {
    "duration": 7,
    "start_time": "2023-02-08T01:36:20.878Z"
   },
   {
    "duration": 10,
    "start_time": "2023-02-08T01:36:21.326Z"
   },
   {
    "duration": 4,
    "start_time": "2023-02-08T01:39:56.311Z"
   },
   {
    "duration": 91,
    "start_time": "2023-02-08T01:40:01.513Z"
   },
   {
    "duration": 6,
    "start_time": "2023-02-08T01:40:32.660Z"
   },
   {
    "duration": 8,
    "start_time": "2023-02-08T01:40:34.718Z"
   },
   {
    "duration": 9,
    "start_time": "2023-02-08T01:40:35.888Z"
   },
   {
    "duration": 10,
    "start_time": "2023-02-08T01:41:53.959Z"
   },
   {
    "duration": 10,
    "start_time": "2023-02-08T01:42:05.756Z"
   },
   {
    "duration": 11,
    "start_time": "2023-02-08T01:42:14.355Z"
   },
   {
    "duration": 3,
    "start_time": "2023-02-08T01:43:43.172Z"
   },
   {
    "duration": 6,
    "start_time": "2023-02-08T01:44:16.239Z"
   },
   {
    "duration": 7,
    "start_time": "2023-02-08T01:44:16.570Z"
   },
   {
    "duration": 9,
    "start_time": "2023-02-08T01:44:17.176Z"
   },
   {
    "duration": 4,
    "start_time": "2023-02-08T01:44:17.865Z"
   },
   {
    "duration": 5,
    "start_time": "2023-02-08T01:45:06.210Z"
   },
   {
    "duration": 4,
    "start_time": "2023-02-08T01:45:07.313Z"
   },
   {
    "duration": 3,
    "start_time": "2023-02-08T01:45:24.667Z"
   },
   {
    "duration": 4,
    "start_time": "2023-02-08T01:45:25.299Z"
   },
   {
    "duration": 4,
    "start_time": "2023-02-08T01:45:33.268Z"
   },
   {
    "duration": 3,
    "start_time": "2023-02-08T01:45:39.338Z"
   },
   {
    "duration": 4,
    "start_time": "2023-02-08T01:45:48.115Z"
   },
   {
    "duration": 4,
    "start_time": "2023-02-08T01:48:01.958Z"
   },
   {
    "duration": 4,
    "start_time": "2023-02-08T01:48:09.503Z"
   },
   {
    "duration": 4,
    "start_time": "2023-02-08T01:48:15.407Z"
   },
   {
    "duration": 24,
    "start_time": "2023-02-08T01:49:03.983Z"
   },
   {
    "duration": 8,
    "start_time": "2023-02-08T01:49:17.775Z"
   },
   {
    "duration": 8,
    "start_time": "2023-02-08T01:49:46.455Z"
   },
   {
    "duration": 7,
    "start_time": "2023-02-08T01:49:49.234Z"
   },
   {
    "duration": 7,
    "start_time": "2023-02-08T01:50:09.430Z"
   },
   {
    "duration": 9,
    "start_time": "2023-02-08T01:50:10.007Z"
   },
   {
    "duration": 10,
    "start_time": "2023-02-08T01:50:23.458Z"
   },
   {
    "duration": 5,
    "start_time": "2023-02-08T01:50:58.193Z"
   },
   {
    "duration": 7,
    "start_time": "2023-02-08T01:51:15.904Z"
   },
   {
    "duration": 8,
    "start_time": "2023-02-08T01:51:16.984Z"
   },
   {
    "duration": 8,
    "start_time": "2023-02-08T01:51:24.691Z"
   },
   {
    "duration": 4,
    "start_time": "2023-02-08T01:51:33.725Z"
   },
   {
    "duration": 9,
    "start_time": "2023-02-08T01:52:39.795Z"
   },
   {
    "duration": 4,
    "start_time": "2023-02-08T01:52:52.579Z"
   },
   {
    "duration": 5,
    "start_time": "2023-02-08T01:53:00.071Z"
   },
   {
    "duration": 9,
    "start_time": "2023-02-08T01:53:02.160Z"
   },
   {
    "duration": 10,
    "start_time": "2023-02-08T01:53:02.844Z"
   },
   {
    "duration": 4,
    "start_time": "2023-02-08T01:53:03.713Z"
   },
   {
    "duration": 8,
    "start_time": "2023-02-08T01:53:05.878Z"
   },
   {
    "duration": 3,
    "start_time": "2023-02-08T01:53:11.370Z"
   },
   {
    "duration": 1006,
    "start_time": "2023-02-08T02:00:58.165Z"
   },
   {
    "duration": 29,
    "start_time": "2023-02-08T02:00:59.173Z"
   },
   {
    "duration": 12,
    "start_time": "2023-02-08T02:00:59.204Z"
   },
   {
    "duration": 16,
    "start_time": "2023-02-08T02:00:59.218Z"
   },
   {
    "duration": 4,
    "start_time": "2023-02-08T02:00:59.237Z"
   },
   {
    "duration": 9,
    "start_time": "2023-02-08T02:00:59.242Z"
   },
   {
    "duration": 11,
    "start_time": "2023-02-08T02:00:59.252Z"
   },
   {
    "duration": 4,
    "start_time": "2023-02-08T02:00:59.264Z"
   },
   {
    "duration": 8,
    "start_time": "2023-02-08T02:00:59.270Z"
   },
   {
    "duration": 6,
    "start_time": "2023-02-08T02:00:59.279Z"
   },
   {
    "duration": 5,
    "start_time": "2023-02-08T02:00:59.287Z"
   },
   {
    "duration": 6,
    "start_time": "2023-02-08T02:00:59.294Z"
   },
   {
    "duration": 7,
    "start_time": "2023-02-08T02:00:59.301Z"
   },
   {
    "duration": 42,
    "start_time": "2023-02-08T02:00:59.311Z"
   },
   {
    "duration": 197,
    "start_time": "2023-02-08T02:00:59.355Z"
   },
   {
    "duration": 193,
    "start_time": "2023-02-08T02:00:59.557Z"
   },
   {
    "duration": 9,
    "start_time": "2023-02-08T02:00:59.752Z"
   },
   {
    "duration": 189,
    "start_time": "2023-02-08T02:00:59.764Z"
   },
   {
    "duration": 8,
    "start_time": "2023-02-08T02:00:59.955Z"
   },
   {
    "duration": 9,
    "start_time": "2023-02-08T02:00:59.964Z"
   },
   {
    "duration": 5,
    "start_time": "2023-02-08T02:00:59.974Z"
   },
   {
    "duration": 10,
    "start_time": "2023-02-08T02:00:59.980Z"
   },
   {
    "duration": 11,
    "start_time": "2023-02-08T02:00:59.991Z"
   },
   {
    "duration": 50,
    "start_time": "2023-02-08T02:01:00.003Z"
   },
   {
    "duration": 97,
    "start_time": "2023-02-08T02:01:00.055Z"
   },
   {
    "duration": 9,
    "start_time": "2023-02-08T02:01:00.154Z"
   },
   {
    "duration": 43,
    "start_time": "2023-02-12T09:27:26.238Z"
   },
   {
    "duration": 1013,
    "start_time": "2023-02-12T09:27:31.038Z"
   },
   {
    "duration": 82,
    "start_time": "2023-02-12T09:27:32.053Z"
   },
   {
    "duration": 11,
    "start_time": "2023-02-12T09:27:32.136Z"
   },
   {
    "duration": 17,
    "start_time": "2023-02-12T09:27:32.334Z"
   },
   {
    "duration": 4,
    "start_time": "2023-02-12T09:27:32.806Z"
   },
   {
    "duration": 6,
    "start_time": "2023-02-12T09:27:33.270Z"
   },
   {
    "duration": 11,
    "start_time": "2023-02-12T09:27:33.910Z"
   },
   {
    "duration": 4,
    "start_time": "2023-02-12T09:27:34.350Z"
   },
   {
    "duration": 4,
    "start_time": "2023-02-12T09:27:34.583Z"
   },
   {
    "duration": 4,
    "start_time": "2023-02-12T09:27:34.798Z"
   },
   {
    "duration": 5,
    "start_time": "2023-02-12T09:27:35.286Z"
   },
   {
    "duration": 4,
    "start_time": "2023-02-12T09:27:35.550Z"
   },
   {
    "duration": 6,
    "start_time": "2023-02-12T09:27:37.623Z"
   },
   {
    "duration": 5,
    "start_time": "2023-02-12T09:27:37.946Z"
   },
   {
    "duration": 75,
    "start_time": "2023-02-12T09:29:11.118Z"
   },
   {
    "duration": 60,
    "start_time": "2023-02-12T09:29:15.015Z"
   },
   {
    "duration": 3,
    "start_time": "2023-02-12T09:29:46.538Z"
   },
   {
    "duration": 6,
    "start_time": "2023-02-12T09:29:54.355Z"
   },
   {
    "duration": 4,
    "start_time": "2023-02-12T09:30:09.068Z"
   },
   {
    "duration": 6,
    "start_time": "2023-02-12T09:30:57.297Z"
   },
   {
    "duration": 5,
    "start_time": "2023-02-12T09:31:12.412Z"
   },
   {
    "duration": 6,
    "start_time": "2023-02-12T10:42:01.375Z"
   },
   {
    "duration": 5,
    "start_time": "2023-02-12T10:42:02.621Z"
   },
   {
    "duration": 8,
    "start_time": "2023-02-12T10:42:04.739Z"
   },
   {
    "duration": 7,
    "start_time": "2023-02-12T10:42:07.758Z"
   },
   {
    "duration": 5,
    "start_time": "2023-02-12T10:42:09.154Z"
   },
   {
    "duration": 7,
    "start_time": "2023-02-12T10:42:11.156Z"
   },
   {
    "duration": 4,
    "start_time": "2023-02-12T10:42:12.557Z"
   },
   {
    "duration": 4,
    "start_time": "2023-02-12T10:42:41.608Z"
   },
   {
    "duration": 7,
    "start_time": "2023-02-12T10:42:42.439Z"
   },
   {
    "duration": 3,
    "start_time": "2023-02-12T10:42:43.576Z"
   },
   {
    "duration": 6,
    "start_time": "2023-02-12T10:42:44.817Z"
   },
   {
    "duration": 13,
    "start_time": "2023-02-12T10:42:48.374Z"
   },
   {
    "duration": 3,
    "start_time": "2023-02-12T10:44:01.170Z"
   },
   {
    "duration": 5,
    "start_time": "2023-02-12T10:45:06.968Z"
   },
   {
    "duration": 5,
    "start_time": "2023-02-12T10:45:07.357Z"
   },
   {
    "duration": 5,
    "start_time": "2023-02-12T10:45:11.586Z"
   },
   {
    "duration": 11,
    "start_time": "2023-02-12T10:45:17.995Z"
   },
   {
    "duration": 7,
    "start_time": "2023-02-12T10:45:20.196Z"
   },
   {
    "duration": 5,
    "start_time": "2023-02-12T10:45:21.533Z"
   },
   {
    "duration": 7,
    "start_time": "2023-02-12T10:45:23.636Z"
   },
   {
    "duration": 4,
    "start_time": "2023-02-12T10:45:25.451Z"
   },
   {
    "duration": 4,
    "start_time": "2023-02-12T10:45:31.043Z"
   },
   {
    "duration": 6,
    "start_time": "2023-02-12T10:45:31.906Z"
   },
   {
    "duration": 4,
    "start_time": "2023-02-12T10:45:32.800Z"
   },
   {
    "duration": 10,
    "start_time": "2023-02-12T10:45:33.944Z"
   },
   {
    "duration": 14,
    "start_time": "2023-02-12T10:45:36.194Z"
   }
  ],
  "kernelspec": {
   "display_name": "Python 3 (ipykernel)",
   "language": "python",
   "name": "python3"
  },
  "language_info": {
   "codemirror_mode": {
    "name": "ipython",
    "version": 3
   },
   "file_extension": ".py",
   "mimetype": "text/x-python",
   "name": "python",
   "nbconvert_exporter": "python",
   "pygments_lexer": "ipython3",
   "version": "3.9.12"
  },
  "toc": {
   "base_numbering": 1,
   "nav_menu": {},
   "number_sections": true,
   "sideBar": true,
   "skip_h1_title": true,
   "title_cell": "Содержание",
   "title_sidebar": "Contents",
   "toc_cell": false,
   "toc_position": {
    "height": "calc(100% - 180px)",
    "left": "10px",
    "top": "150px",
    "width": "169px"
   },
   "toc_section_display": true,
   "toc_window_display": true
  }
 },
 "nbformat": 4,
 "nbformat_minor": 2
}
